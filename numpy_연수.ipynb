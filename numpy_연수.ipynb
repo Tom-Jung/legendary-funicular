{
  "cells": [
    {
      "cell_type": "markdown",
      "metadata": {
        "id": "view-in-github",
        "colab_type": "text"
      },
      "source": [
        "<a href=\"https://colab.research.google.com/github/Tom-Jung/legendary-funicular/blob/main/numpy_%EC%97%B0%EC%88%98.ipynb\" target=\"_parent\"><img src=\"https://colab.research.google.com/assets/colab-badge.svg\" alt=\"Open In Colab\"/></a>"
      ]
    },
    {
      "cell_type": "code",
      "execution_count": null,
      "metadata": {
        "id": "lIYdn1woOS1n",
        "outputId": "80dd09c3-f059-4f35-a59a-a410b1f58ff7",
        "colab": {
          "base_uri": "https://localhost:8080/"
        }
      },
      "outputs": [
        {
          "output_type": "stream",
          "name": "stdout",
          "text": [
            "불합격입니다. 다음에 응시하시기 바랍니다.\n"
          ]
        }
      ],
      "source": [
        "score =40\n",
        "\n",
        "if score >= 60:\n",
        "  print(\"축하드립니다. 합격입니다\")\n",
        "else:\n",
        "    print(\"불합격입니다. 다음에 응시하시기 바랍니다.\")\n"
      ]
    },
    {
      "cell_type": "code",
      "source": [
        "age = int(input(\"나이를 입력하세요 : \"))\n",
        "\n",
        "if age>=19:\n",
        "  print(\"주류구입가능\")\n",
        "else:\n",
        "  print(\"주류구입불가능\")"
      ],
      "metadata": {
        "id": "LwNy2H7NUqYz",
        "outputId": "a5c17fe0-f877-41a2-e081-8e3c479e9007",
        "colab": {
          "base_uri": "https://localhost:8080/"
        }
      },
      "execution_count": null,
      "outputs": [
        {
          "output_type": "stream",
          "name": "stdout",
          "text": [
            "나이를 입력하세요 : 16\n",
            "주류구입불가능\n"
          ]
        }
      ]
    },
    {
      "cell_type": "code",
      "source": [
        "# 조건문 if 구문만 사용"
      ],
      "metadata": {
        "id": "oqyIve-4VwkY"
      },
      "execution_count": null,
      "outputs": []
    },
    {
      "cell_type": "code",
      "source": [
        "score = 99\n",
        "\n",
        "if score >= 90:\n",
        "  print(\"점수가 90점 이상입니다. 학점은 A등급입니다.\")\n",
        "\n",
        "if score >= 80:\n",
        "  print(\"점수가 80점 이상입니다. 학점은 B등급입니다.\")\n",
        "\n",
        "if score >= 70:\n",
        "  print(\"점수가 70점 이상입니다. 학점은 C등급입니다.\")\n",
        "\n",
        "if score >= 60:\n",
        "  print(\"점수가 60점 이상입니다. 학점은 D등급입니다.\")"
      ],
      "metadata": {
        "id": "5Gq25aWJWKdP",
        "outputId": "a120d3a2-1acf-4df2-f6bb-cd2c4f1e7119",
        "colab": {
          "base_uri": "https://localhost:8080/"
        }
      },
      "execution_count": null,
      "outputs": [
        {
          "output_type": "stream",
          "name": "stdout",
          "text": [
            "점수가 90점 이상입니다. 학점은 A등급입니다.\n",
            "점수가 80점 이상입니다. 학점은 B등급입니다.\n",
            "점수가 70점 이상입니다. 학점은 C등급입니다.\n",
            "점수가 60점 이상입니다. 학점은 D등급입니다.\n"
          ]
        }
      ]
    },
    {
      "cell_type": "code",
      "source": [
        "# 사용자로부터 성별을 이력받아서 해당하는 성별을 출력하는 프로그램 만들기"
      ],
      "metadata": {
        "id": "BJ5qyvpJWK7y"
      },
      "execution_count": null,
      "outputs": []
    },
    {
      "cell_type": "code",
      "source": [
        "gender = input(\"성별을 입력하세요 : \")\n",
        "\n",
        "if gender == \"남자\":\n",
        "  print(\"남자입니다.\")\n",
        "else:\n",
        "  print(\"여자입니다.\")"
      ],
      "metadata": {
        "id": "Rd0pf4kxWK-4",
        "outputId": "16bf4b30-f392-4b6b-9c94-d6900c91f76b",
        "colab": {
          "base_uri": "https://localhost:8080/"
        }
      },
      "execution_count": null,
      "outputs": [
        {
          "output_type": "stream",
          "name": "stdout",
          "text": [
            "성별을 입력하세요 : 여자\n",
            "여자입니다.\n"
          ]
        }
      ]
    },
    {
      "cell_type": "code",
      "source": [
        "# Bool 변수 알아보기\n",
        "# 부울변수의 용도는 플래그 변수 형태로 사용을 많이 한다\n",
        "# 타 프로그래밍 언어에서는 부울변수의 값은 소문자로 시작하는 true, false를 사용하지만 파이썬은 대문자로 시작하는 True, False를 사용"
      ],
      "metadata": {
        "id": "GTGCq-9vWLBK"
      },
      "execution_count": null,
      "outputs": []
    },
    {
      "cell_type": "code",
      "source": [
        "flag = True\n",
        "print(type(flag))\n",
        "print(flag)"
      ],
      "metadata": {
        "id": "_TW4VsDeYb28",
        "outputId": "70cd575e-8f01-4679-ae1c-b1a95a30df03",
        "colab": {
          "base_uri": "https://localhost:8080/"
        }
      },
      "execution_count": null,
      "outputs": [
        {
          "output_type": "stream",
          "name": "stdout",
          "text": [
            "<class 'bool'>\n",
            "True\n"
          ]
        }
      ]
    },
    {
      "cell_type": "markdown",
      "source": [
        "## 파이썬에서 부울 변수의 값을 바꾸기 위해서는 not 연산자를 사용하면 된다"
      ],
      "metadata": {
        "id": "EU0BAGzPZSHB"
      }
    },
    {
      "cell_type": "code",
      "source": [
        "if flag:\n",
        "  print(\"실행됩니다\")\n",
        "\n",
        "if flag:\n",
        "  print(\"실행됩니다\")\n",
        "else:\n",
        "  print(\"거짓이라서 실행안됩니다\")"
      ],
      "metadata": {
        "id": "1oJ9wafrYb5M",
        "outputId": "0c2f5075-96f6-409c-e532-9338d91160c3",
        "colab": {
          "base_uri": "https://localhost:8080/"
        }
      },
      "execution_count": null,
      "outputs": [
        {
          "output_type": "stream",
          "name": "stdout",
          "text": [
            "실행됩니다\n",
            "실행됩니다\n"
          ]
        }
      ]
    },
    {
      "cell_type": "code",
      "source": [
        "2 == 2"
      ],
      "metadata": {
        "id": "aA7A4O1HYb-o",
        "outputId": "8997ae78-d6c9-4e77-c5e3-be5327cce58d",
        "colab": {
          "base_uri": "https://localhost:8080/"
        }
      },
      "execution_count": null,
      "outputs": [
        {
          "output_type": "execute_result",
          "data": {
            "text/plain": [
              "True"
            ]
          },
          "metadata": {},
          "execution_count": 16
        }
      ]
    },
    {
      "cell_type": "code",
      "source": [
        "# 논리 연산자의 종류,,and(논리곱), or(논리합), not(논리합) 이 있다"
      ],
      "metadata": {
        "id": "yT2jIW7NYcBs"
      },
      "execution_count": null,
      "outputs": []
    },
    {
      "cell_type": "code",
      "source": [
        "name = \"신은혁\"\n",
        "age = 14\n",
        "height = 160"
      ],
      "metadata": {
        "id": "d7Ib81dgYcDt"
      },
      "execution_count": null,
      "outputs": []
    },
    {
      "cell_type": "code",
      "source": [
        "if(age >= 14) and (height >= 16) and (name  == \"신은혁\"):\n",
        "  print(name + \"놀이기구 탈수 있음\")\n",
        "else:\n",
        "  print(name + \"놀이기구 탈수 없음\")"
      ],
      "metadata": {
        "id": "LMNGXBpJYcGI",
        "outputId": "a8bb52b2-6b84-472d-e4cb-25ee73f0f20a",
        "colab": {
          "base_uri": "https://localhost:8080/"
        }
      },
      "execution_count": null,
      "outputs": [
        {
          "output_type": "stream",
          "name": "stdout",
          "text": [
            "신은혁놀이기구 탈수 있음\n"
          ]
        }
      ]
    },
    {
      "cell_type": "code",
      "source": [
        "# OR 연산자"
      ],
      "metadata": {
        "id": "MHWeifi2WLDx"
      },
      "execution_count": null,
      "outputs": []
    },
    {
      "cell_type": "code",
      "source": [
        "if(age >= 20) or (height >= 16) or (name  == \"신은혁\"):\n",
        "  print(name + \"놀이기구 탈수 있음\")\n",
        "else:\n",
        "  print(name + \"놀이기구 탈수 없음\")"
      ],
      "metadata": {
        "id": "j_cwnnqJWLFm",
        "outputId": "e5f4ca61-448d-4c2a-c122-e177effb8052",
        "colab": {
          "base_uri": "https://localhost:8080/"
        }
      },
      "execution_count": null,
      "outputs": [
        {
          "output_type": "stream",
          "name": "stdout",
          "text": [
            "신은혁놀이기구 탈수 있음\n"
          ]
        }
      ]
    },
    {
      "cell_type": "code",
      "source": [
        "# 논리부정 연산자에 대한 실습"
      ],
      "metadata": {
        "id": "_gaE71KMWLI_"
      },
      "execution_count": null,
      "outputs": []
    },
    {
      "cell_type": "code",
      "source": [
        "if not( 1==1):\n",
        "  print(\"참입니다.\")\n",
        "else:\n",
        "  print(\"거짓입니다\")"
      ],
      "metadata": {
        "id": "65od5EYytQJw",
        "outputId": "c1af0200-dba7-4ac7-ebff-7cee687bead0",
        "colab": {
          "base_uri": "https://localhost:8080/"
        }
      },
      "execution_count": null,
      "outputs": [
        {
          "output_type": "stream",
          "name": "stdout",
          "text": [
            "거짓입니다\n"
          ]
        }
      ]
    },
    {
      "cell_type": "code",
      "source": [
        "# 대학교를 졸업하려면 적어도 140학점을 이수해야하고 평정은 2.0은 되어야 함"
      ],
      "metadata": {
        "id": "EAhlXV0NtQM2"
      },
      "execution_count": null,
      "outputs": []
    },
    {
      "cell_type": "code",
      "source": [
        "total = float(input(\" 이수한 학점을 입력해주세요 : \"))\n",
        "score = float(input(\"평점을 입력하세요 : \"))"
      ],
      "metadata": {
        "id": "hxNKgaPPuCMt",
        "outputId": "075591aa-8abc-4c9b-f557-e0d8bf0cfee5",
        "colab": {
          "base_uri": "https://localhost:8080/"
        }
      },
      "execution_count": null,
      "outputs": [
        {
          "name": "stdout",
          "output_type": "stream",
          "text": [
            " 이수한 학점을 입력해주세요 : 140\n",
            "평점을 입력하세요 : 3.8\n"
          ]
        }
      ]
    },
    {
      "cell_type": "code",
      "source": [
        "if (total>=140) and (score>=2.0):\n",
        "  print(\"졸업이 가능\")\n",
        "else:\n",
        "  print(\"졸업불가\")"
      ],
      "metadata": {
        "id": "Ng4j3BU3tQQj",
        "outputId": "7a384ef3-d6d7-4ee1-92bd-af8504f0787e",
        "colab": {
          "base_uri": "https://localhost:8080/"
        }
      },
      "execution_count": null,
      "outputs": [
        {
          "output_type": "stream",
          "name": "stdout",
          "text": [
            "졸업이 가능\n"
          ]
        }
      ]
    },
    {
      "cell_type": "code",
      "source": [
        "# 몸무게와 키를 입력받고 BMI가 20.0이고 25.0미만이면 표준입니다. 라고 출력하고 아니면 체중관리 출력"
      ],
      "metadata": {
        "id": "i7d-btmhuhgx"
      },
      "execution_count": null,
      "outputs": []
    },
    {
      "cell_type": "code",
      "source": [
        "# BMI = 몸무게/(키*키)"
      ],
      "metadata": {
        "id": "dkFEaZVku2eE"
      },
      "execution_count": null,
      "outputs": []
    },
    {
      "cell_type": "code",
      "source": [
        "height = float(input(\"키(cm)를 입력 : \"))\n",
        "weight = float(input(\"몸무게를 (kg)를 입력 : \"))"
      ],
      "metadata": {
        "id": "PcJ8c95-ukgZ",
        "outputId": "decdd841-275f-4d5b-d3eb-776f8c252eae",
        "colab": {
          "base_uri": "https://localhost:8080/"
        }
      },
      "execution_count": null,
      "outputs": [
        {
          "name": "stdout",
          "output_type": "stream",
          "text": [
            "키(cm)를 입력 : 170\n",
            "몸무게를 (kg)를 입력 : 60\n"
          ]
        }
      ]
    },
    {
      "cell_type": "code",
      "source": [
        "height /= 100.0\n",
        "print(height)\n",
        "bmi = weight/(height*height)\n",
        "print(bmi)"
      ],
      "metadata": {
        "id": "ezMNn-m1ukkO",
        "outputId": "6d74aa2c-04d0-4523-e0ab-13bc78cdc9af",
        "colab": {
          "base_uri": "https://localhost:8080/"
        }
      },
      "execution_count": null,
      "outputs": [
        {
          "output_type": "stream",
          "name": "stdout",
          "text": [
            "1.7\n",
            "20.761245674740486\n"
          ]
        }
      ]
    },
    {
      "cell_type": "code",
      "source": [
        "if (bmi >=20.0) and (bmi <25.0):\n",
        "  print(\"표준입니다.\")\n",
        "else:\n",
        "  print(\"체중관리가 필요합니다.\")"
      ],
      "metadata": {
        "id": "0VQ8-k2Fukog",
        "outputId": "a8430926-ed06-419e-d0ae-57b8729f7a42",
        "colab": {
          "base_uri": "https://localhost:8080/"
        }
      },
      "execution_count": null,
      "outputs": [
        {
          "output_type": "stream",
          "name": "stdout",
          "text": [
            "표준입니다.\n"
          ]
        }
      ]
    },
    {
      "cell_type": "code",
      "source": [
        "import numpy as np"
      ],
      "metadata": {
        "id": "7Cv1QBRk5P9M"
      },
      "execution_count": 2,
      "outputs": []
    },
    {
      "cell_type": "code",
      "source": [
        "arr = np.arange(10)\n",
        "arr"
      ],
      "metadata": {
        "id": "JBnz5Q9HvwP8",
        "outputId": "2674d486-bbe1-4377-86f8-5f5669c309e7",
        "colab": {
          "base_uri": "https://localhost:8080/"
        }
      },
      "execution_count": 3,
      "outputs": [
        {
          "output_type": "execute_result",
          "data": {
            "text/plain": [
              "array([0, 1, 2, 3, 4, 5, 6, 7, 8, 9])"
            ]
          },
          "metadata": {},
          "execution_count": 3
        }
      ]
    },
    {
      "cell_type": "code",
      "source": [
        "arr[3]"
      ],
      "metadata": {
        "id": "3BIvdX2X5J7T",
        "outputId": "fe62e46a-83ae-4a45-f90d-30a790a1cd7e",
        "colab": {
          "base_uri": "https://localhost:8080/"
        }
      },
      "execution_count": 4,
      "outputs": [
        {
          "output_type": "execute_result",
          "data": {
            "text/plain": [
              "3"
            ]
          },
          "metadata": {},
          "execution_count": 4
        }
      ]
    },
    {
      "cell_type": "code",
      "source": [
        "# Fancy indexing\n",
        "arr = np.array([5,10,15,20,25,30])\n",
        "arr[[0,2,4]]"
      ],
      "metadata": {
        "id": "U3yaEOAc5YT9",
        "outputId": "45f1dc5e-b8cc-452d-cc22-d7f28523e789",
        "colab": {
          "base_uri": "https://localhost:8080/"
        }
      },
      "execution_count": 9,
      "outputs": [
        {
          "output_type": "execute_result",
          "data": {
            "text/plain": [
              "array([ 5, 15, 25])"
            ]
          },
          "metadata": {},
          "execution_count": 9
        }
      ]
    },
    {
      "cell_type": "code",
      "source": [
        "arr = np.array([[5,10,15,20],\n",
        "               [25,30,35,40],\n",
        "               [45,50,55,60]])"
      ],
      "metadata": {
        "id": "nFr1EKMp55q2"
      },
      "execution_count": 11,
      "outputs": []
    },
    {
      "cell_type": "code",
      "source": [
        "print(arr[[0,2], 2:])"
      ],
      "metadata": {
        "id": "UgZbQI746XZg",
        "outputId": "cee15f6e-3a86-4087-c54f-3877a26d2b0d",
        "colab": {
          "base_uri": "https://localhost:8080/"
        }
      },
      "execution_count": 13,
      "outputs": [
        {
          "output_type": "stream",
          "name": "stdout",
          "text": [
            "[[15 20]\n",
            " [55 60]]\n"
          ]
        }
      ]
    },
    {
      "cell_type": "code",
      "source": [
        "print(arr[1:,[2,3]])"
      ],
      "metadata": {
        "id": "RDbeD26j6g-8",
        "outputId": "6146f70d-26d7-483a-c68f-10bfbc022431",
        "colab": {
          "base_uri": "https://localhost:8080/"
        }
      },
      "execution_count": 14,
      "outputs": [
        {
          "output_type": "stream",
          "name": "stdout",
          "text": [
            "[[35 40]\n",
            " [55 60]]\n"
          ]
        }
      ]
    },
    {
      "cell_type": "code",
      "source": [],
      "metadata": {
        "id": "c7l54prq62o1"
      },
      "execution_count": null,
      "outputs": []
    }
  ],
  "metadata": {
    "colab": {
      "name": "scratchpad",
      "provenance": [],
      "include_colab_link": true
    },
    "kernelspec": {
      "display_name": "Python 3",
      "name": "python3"
    }
  },
  "nbformat": 4,
  "nbformat_minor": 0
}