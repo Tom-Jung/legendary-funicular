{
  "nbformat": 4,
  "nbformat_minor": 0,
  "metadata": {
    "colab": {
      "provenance": [],
      "mount_file_id": "https://github.com/Tom-Jung/legendary-funicular/blob/main/IO_tables.ipynb",
      "authorship_tag": "ABX9TyN31oqLGNLRDblvfeQ8xma1",
      "include_colab_link": true
    },
    "kernelspec": {
      "name": "python3",
      "display_name": "Python 3"
    },
    "language_info": {
      "name": "python"
    }
  },
  "cells": [
    {
      "cell_type": "markdown",
      "metadata": {
        "id": "view-in-github",
        "colab_type": "text"
      },
      "source": [
        "<a href=\"https://colab.research.google.com/github/Tom-Jung/legendary-funicular/blob/main/Types_of_IOTs_new.ipynb\" target=\"_parent\"><img src=\"https://colab.research.google.com/assets/colab-badge.svg\" alt=\"Open In Colab\"/></a>"
      ]
    },
    {
      "cell_type": "code",
      "source": [
        "import numpy as np   # Numpy import\n",
        "import pandas as pd  # Pandas import"
      ],
      "metadata": {
        "id": "TR7JvW8CxBFT"
      },
      "execution_count": 1,
      "outputs": []
    },
    {
      "cell_type": "markdown",
      "source": [
        "# 부문통합하여 3부문 IO표 만들기\n",
        "- 2019년 산업연관표(33부문)를 IO표를 3부문 IO표로 통합하고 이를 통해 설명하기로 함\n",
        "- 33부문을 크게 농수산품, 공산품 및 서비스로 통합하기 위하여 행렬 곱을 사용\n",
        "- 0과 1로 구성된 행렬을 만드는데 각 행은 새로운 표의 부문을 나타내며 각 열은 33부문의 부문을 나타낸다"
      ],
      "metadata": {
        "id": "NQYwTxzNNkO6"
      }
    },
    {
      "cell_type": "code",
      "source": [
        "code = np.array([[1,0,0,0,0,0,0,0,0,0,0,0,0,0,0,0,0,0,0,0,0,0,0,0,0,0,0,0,0,0,0,0,0],  # 행렬 곱을 이용한 부문 통합을 위해 0과 1로 구성된 임시의 3x33 매트릭스\n",
        "       [0,1,1,1,1,1,1,1,1,1,1,1,1,1,1,1,0,0,0,0,0,0,0,0,0,0,0,0,0,0,0,0,0],\n",
        "       [0,0,0,0,0,0,0,0,0,0,0,0,0,0,0,0,1,1,1,1,1,1,1,1,1,1,1,1,1,1,1,1,1]])\n",
        "code"
      ],
      "metadata": {
        "colab": {
          "base_uri": "https://localhost:8080/"
        },
        "id": "1JLgiYagNz1u",
        "outputId": "21f66b39-fdc0-4ac8-c5a3-caedf6eb504f"
      },
      "execution_count": 2,
      "outputs": [
        {
          "output_type": "execute_result",
          "data": {
            "text/plain": [
              "array([[1, 0, 0, 0, 0, 0, 0, 0, 0, 0, 0, 0, 0, 0, 0, 0, 0, 0, 0, 0, 0, 0,\n",
              "        0, 0, 0, 0, 0, 0, 0, 0, 0, 0, 0],\n",
              "       [0, 1, 1, 1, 1, 1, 1, 1, 1, 1, 1, 1, 1, 1, 1, 1, 0, 0, 0, 0, 0, 0,\n",
              "        0, 0, 0, 0, 0, 0, 0, 0, 0, 0, 0],\n",
              "       [0, 0, 0, 0, 0, 0, 0, 0, 0, 0, 0, 0, 0, 0, 0, 0, 1, 1, 1, 1, 1, 1,\n",
              "        1, 1, 1, 1, 1, 1, 1, 1, 1, 1, 1]])"
            ]
          },
          "metadata": {},
          "execution_count": 2
        }
      ]
    },
    {
      "cell_type": "code",
      "source": [
        "cdd = \"https://raw.githubusercontent.com/Tom-Jung/legendary-funicular/main/code.csv\"  # 코드매치 파일\n",
        "ccdd = pd.read_csv(cdd)\n",
        "cd_for_itr = ccdd.to_numpy().reshape(33,2)\n",
        "row = cd_for_itr[:,1]\n",
        "col = cd_for_itr[:,0]\n",
        "col"
      ],
      "metadata": {
        "colab": {
          "base_uri": "https://localhost:8080/"
        },
        "id": "Xp8f9h0RNz4N",
        "outputId": "fad619b0-4427-4475-970b-b3f33fe5bf6b"
      },
      "execution_count": 3,
      "outputs": [
        {
          "output_type": "execute_result",
          "data": {
            "text/plain": [
              "array([ 1,  2,  3,  4,  5,  6,  7,  8,  9, 10, 11, 12, 13, 14, 15, 16, 17,\n",
              "       18, 19, 20, 21, 22, 23, 24, 25, 26, 27, 28, 29, 30, 31, 32, 33])"
            ]
          },
          "metadata": {},
          "execution_count": 3
        }
      ]
    },
    {
      "cell_type": "code",
      "source": [
        "Mtx = np.zeros((3,33))       # 부문통합을 위한 코드가 많을 경우 상기의 코드를 수작업으로 미리 하는 것이 쉽자 않으므로 반복문을 통해 3x33 임시코드 만들기\n",
        "for i, j in zip(row,col):\n",
        "  Mtx[i-1,j-1] = 1\n",
        "print(Mtx)"
      ],
      "metadata": {
        "colab": {
          "base_uri": "https://localhost:8080/"
        },
        "id": "OXrxsH2sNz6l",
        "outputId": "d31fba20-be2d-4f6f-9e3b-9bde7c48479d"
      },
      "execution_count": 4,
      "outputs": [
        {
          "output_type": "stream",
          "name": "stdout",
          "text": [
            "[[1. 0. 0. 0. 0. 0. 0. 0. 0. 0. 0. 0. 0. 0. 0. 0. 0. 0. 0. 0. 0. 0. 0. 0.\n",
            "  0. 0. 0. 0. 0. 0. 0. 0. 0.]\n",
            " [0. 1. 1. 1. 1. 1. 1. 1. 1. 1. 1. 1. 1. 1. 1. 1. 0. 0. 0. 0. 0. 0. 0. 0.\n",
            "  0. 0. 0. 0. 0. 0. 0. 0. 0.]\n",
            " [0. 0. 0. 0. 0. 0. 0. 0. 0. 0. 0. 0. 0. 0. 0. 0. 1. 1. 1. 1. 1. 1. 1. 1.\n",
            "  1. 1. 1. 1. 1. 1. 1. 1. 1.]]\n"
          ]
        }
      ]
    },
    {
      "cell_type": "markdown",
      "source": [
        "###  총거래표"
      ],
      "metadata": {
        "id": "3pPHmi20k2k1"
      }
    },
    {
      "cell_type": "code",
      "source": [
        "url_Tt_33 = \"https://raw.githubusercontent.com/Tom-Jung/legendary-funicular/main/2019_%EC%B4%9D%EA%B1%B0%EB%9E%98%ED%91%9C.csv\"  # 33부문의 총거래표 불러오기\n",
        "Tt_33 = pd.read_csv(url_Tt_33)"
      ],
      "metadata": {
        "id": "EuB3g6ODNz9E"
      },
      "execution_count": 5,
      "outputs": []
    },
    {
      "cell_type": "code",
      "source": [
        "\n",
        "Ttt_33 = Tt_33.to_numpy()\n",
        "Tot_33 = Ttt_33[0:41,1:53].astype(float)"
      ],
      "metadata": {
        "id": "vy0JTtnUNz_x"
      },
      "execution_count": 6,
      "outputs": []
    },
    {
      "cell_type": "code",
      "source": [
        "nae_tot_row = code@Tot_33[0:33,0:33] # 중간투입(수요)의 행을 3부문으로 만들기\n",
        "nae_tot_row"
      ],
      "metadata": {
        "colab": {
          "base_uri": "https://localhost:8080/"
        },
        "id": "ECKiygpePcTc",
        "outputId": "9b42c570-8552-4aab-9d6a-0f2ab453c8e5"
      },
      "execution_count": 7,
      "outputs": [
        {
          "output_type": "execute_result",
          "data": {
            "text/plain": [
              "array([[  4.,   0.,  36.,   1.,   0.,   0.,   1.,   0.,   0.,   0.,   0.,\n",
              "          0.,   0.,   0.,   0.,   0.,   0.,   0.,   0.,   0.,   0.,  10.,\n",
              "          0.,   0.,   0.,   0.,   0.,   0.,   0.,   1.,   0.,   0.,   0.],\n",
              "       [ 16.,   0.,  41.,  41.,  20.,  88., 146.,  17.,  82.,  50., 139.,\n",
              "         63.,  77., 153.,  11.,  16.,  47.,   2., 103.,  18.,  41.,  57.,\n",
              "         11.,   4.,   4.,  31.,   6.,   8.,   7.,  39.,   7.,  16.,   0.],\n",
              "       [  7.,   1.,  24.,  11.,   9.,  11.,  52.,  10.,  27.,  12.,  28.,\n",
              "         13.,  17.,  29.,   4.,   9.,  19.,   5.,  46., 112.,  56.,  44.,\n",
              "         54.,  72.,  58.,  83.,  23.,  26.,  28.,  38.,  14.,  12.,   3.]])"
            ]
          },
          "metadata": {},
          "execution_count": 7
        }
      ]
    },
    {
      "cell_type": "code",
      "source": [
        "nae_tot_row.shape  # 행과 열의 개수 확인"
      ],
      "metadata": {
        "colab": {
          "base_uri": "https://localhost:8080/"
        },
        "id": "A0aUlcqHPcV6",
        "outputId": "f6e5a889-9c9c-4bc8-f45a-b53b08d75a78"
      },
      "execution_count": 8,
      "outputs": [
        {
          "output_type": "execute_result",
          "data": {
            "text/plain": [
              "(3, 33)"
            ]
          },
          "metadata": {},
          "execution_count": 8
        }
      ]
    },
    {
      "cell_type": "code",
      "source": [
        "nae_tot_col = nae_tot_row@code.T  # 수작업한 code 이용\n",
        "nae_tot_col"
      ],
      "metadata": {
        "colab": {
          "base_uri": "https://localhost:8080/"
        },
        "id": "wpQ73AjVPcYB",
        "outputId": "e5482819-f6f8-4fb9-f76e-34d18b7c7b76"
      },
      "execution_count": 9,
      "outputs": [
        {
          "output_type": "execute_result",
          "data": {
            "text/plain": [
              "array([[  4.,  38.,  11.],\n",
              "       [ 16., 944., 401.],\n",
              "       [  7., 257., 693.]])"
            ]
          },
          "metadata": {},
          "execution_count": 9
        }
      ]
    },
    {
      "cell_type": "code",
      "source": [
        "ztest_nae_tot_col = nae_tot_row@Mtx.T # 반복문을 이용해서 만든  Mtx 이용\n",
        "ztest_nae_tot_col"
      ],
      "metadata": {
        "colab": {
          "base_uri": "https://localhost:8080/"
        },
        "id": "mYiPui5ePcaQ",
        "outputId": "18d03dc5-cc30-477c-f358-df19a4758e4c"
      },
      "execution_count": 10,
      "outputs": [
        {
          "output_type": "execute_result",
          "data": {
            "text/plain": [
              "array([[  4.,  38.,  11.],\n",
              "       [ 16., 944., 401.],\n",
              "       [  7., 257., 693.]])"
            ]
          },
          "metadata": {},
          "execution_count": 10
        }
      ]
    },
    {
      "cell_type": "code",
      "source": [
        "nae_tot_col.shape  # 행과 열의 개수 확인"
      ],
      "metadata": {
        "colab": {
          "base_uri": "https://localhost:8080/"
        },
        "id": "nev1PAA_PccQ",
        "outputId": "72729569-9552-42dd-b0dc-3e3a47f0f160"
      },
      "execution_count": 11,
      "outputs": [
        {
          "output_type": "execute_result",
          "data": {
            "text/plain": [
              "(3, 3)"
            ]
          },
          "metadata": {},
          "execution_count": 11
        }
      ]
    },
    {
      "cell_type": "code",
      "source": [
        "\n",
        "nae_tot_col.sum()"
      ],
      "metadata": {
        "colab": {
          "base_uri": "https://localhost:8080/"
        },
        "id": "CYcSIf8LPceR",
        "outputId": "9e6df07a-9f3c-48b5-e9a6-1bf2efdc31d6"
      },
      "execution_count": 12,
      "outputs": [
        {
          "output_type": "execute_result",
          "data": {
            "text/plain": [
              "2371.0"
            ]
          },
          "metadata": {},
          "execution_count": 12
        }
      ]
    },
    {
      "cell_type": "code",
      "source": [
        "va_row = Tot_33[33:40,0:33]@code.T # 중투합, 피용자보수, 영업잉여, 고정자본소모, 기타생산세, 부가가치계, 산출액(7X3)\n",
        "va_row"
      ],
      "metadata": {
        "colab": {
          "base_uri": "https://localhost:8080/"
        },
        "id": "7M_aC4UNPcgW",
        "outputId": "2863dc99-2652-4398-ce86-01b9505ae976"
      },
      "execution_count": 13,
      "outputs": [
        {
          "output_type": "execute_result",
          "data": {
            "text/plain": [
              "array([[2.700e+01, 1.239e+03, 1.105e+03],\n",
              "       [7.000e+00, 1.970e+02, 7.140e+02],\n",
              "       [2.000e+01, 1.520e+02, 2.980e+02],\n",
              "       [5.000e+00, 1.440e+02, 2.300e+02],\n",
              "       [1.000e+00, 6.000e+01, 1.000e+02],\n",
              "       [3.300e+01, 5.530e+02, 1.342e+03],\n",
              "       [6.000e+01, 1.792e+03, 2.447e+03]])"
            ]
          },
          "metadata": {},
          "execution_count": 13
        }
      ]
    },
    {
      "cell_type": "code",
      "source": [
        "va_row.shape"
      ],
      "metadata": {
        "colab": {
          "base_uri": "https://localhost:8080/"
        },
        "id": "WjbX8g2sPcic",
        "outputId": "2fb4ba36-e9c3-43df-b7a4-077775abfc7d"
      },
      "execution_count": 14,
      "outputs": [
        {
          "output_type": "execute_result",
          "data": {
            "text/plain": [
              "(7, 3)"
            ]
          },
          "metadata": {},
          "execution_count": 14
        }
      ]
    },
    {
      "cell_type": "code",
      "source": [
        "fd_cd = np.array([[1,1,0,0,0,0,0,0,0],   # 최종수요를 통합하기 위한 0과 1로된 행렬\n",
        "                  [0,0,1,1,1,1,0,0,0],\n",
        "                  [0,0,0,0,0,0,1,0,0],\n",
        "                  [0,0,0,0,0,0,0,1,0],\n",
        "                  [0,0,0,0,0,0,0,0,1]])"
      ],
      "metadata": {
        "id": "636Yax5LQY1_"
      },
      "execution_count": 15,
      "outputs": []
    },
    {
      "cell_type": "code",
      "source": [
        "fd = Tot_33[0:33, 34:45]\n",
        "fd"
      ],
      "metadata": {
        "colab": {
          "base_uri": "https://localhost:8080/"
        },
        "id": "NDDWb0EGPckB",
        "outputId": "24d86bef-0ab5-4258-9f46-2d55079e3dba"
      },
      "execution_count": 16,
      "outputs": [
        {
          "output_type": "execute_result",
          "data": {
            "text/plain": [
              "array([[ 18.,   0.,   0.,   0.,   0.,   0.,   1.,  19.,  72.],\n",
              "       [  0.,   0.,   0.,   0.,   2.,   0.,   0.,   2., 149.],\n",
              "       [ 67.,   0.,   0.,   0.,   1.,   0.,   9.,  77., 168.],\n",
              "       [ 35.,   0.,   0.,   0.,   1.,   0.,  24.,  60.,  97.],\n",
              "       [  1.,   0.,   0.,   0.,   1.,   0.,   4.,   6.,  52.],\n",
              "       [ 16.,   0.,   0.,   0.,   1.,   0.,  52.,  69., 165.],\n",
              "       [ 11.,   0.,   0.,   0.,   6.,   0., 104., 121., 355.],\n",
              "       [  0.,   0.,   0.,   0.,   0.,   0.,   5.,   5.,  45.],\n",
              "       [ -1.,   0.,  -3.,   0.,   1.,   0.,  44.,  41., 181.],\n",
              "       [  2.,   0.,   3.,   4.,   1.,   0.,  12.,  22., 108.],\n",
              "       [ 27.,   0.,  26.,   5.,   3.,   0., 173., 234., 383.],\n",
              "       [  9.,   0.,  10.,   0.,   1.,   0.,  31.,  51., 128.],\n",
              "       [  3.,   0.,  57.,   0.,  -1.,   0.,  60., 119., 175.],\n",
              "       [ 33.,   0.,  29.,  11.,   2.,   0., 104., 179., 263.],\n",
              "       [ 10.,   0.,   4.,   0.,   0.,   2.,   4.,  20.,  30.],\n",
              "       [  0.,   0.,   0.,   0.,   0.,   0.,   2.,   2.,  70.],\n",
              "       [ 18.,   0.,   0.,   0.,   0.,   0.,   0.,  18.,  99.],\n",
              "       [  5.,   1.,   0.,   0.,   0.,   0.,   1.,   7.,  21.],\n",
              "       [  0.,   0., 196.,  64.,   0.,   0.,   0., 260., 271.],\n",
              "       [ 91.,   0.,  12.,   1.,   2.,   1.,  36., 143., 288.],\n",
              "       [ 30.,   0.,   0.,   0.,   0.,   0.,  34.,  64., 177.],\n",
              "       [104.,   0.,   0.,   0.,   0.,   0.,  11., 115., 188.],\n",
              "       [ 35.,   0.,  34.,   0.,   1.,   0.,  12.,  82., 160.],\n",
              "       [ 74.,   0.,   0.,   0.,   0.,   0.,   5.,  79., 188.],\n",
              "       [132.,   0.,  31.,   0.,   0.,   0.,   0., 163., 227.],\n",
              "       [  4.,   0.,  79.,  11.,   0.,   0.,  18., 112., 254.],\n",
              "       [  6.,   0.,   0.,   0.,   0.,   0.,  11.,  17., 112.],\n",
              "       [  2., 154.,   0.,   0.,   0.,   0.,   0., 156., 160.],\n",
              "       [ 59.,  71.,   0.,   0.,   0.,   0.,   0., 130., 131.],\n",
              "       [ 58., 101.,   0.,   0.,   0.,   0.,   1., 160., 165.],\n",
              "       [ 41.,   2.,   0.,   0.,   0.,   0.,   1.,  44.,  52.],\n",
              "       [ 44.,   0.,   0.,   0.,   0.,   0.,   1.,  45.,  56.],\n",
              "       [  0.,   0.,   0.,   0.,   0.,   0.,   0.,   0.,   3.]])"
            ]
          },
          "metadata": {},
          "execution_count": 16
        }
      ]
    },
    {
      "cell_type": "code",
      "source": [
        "fd_row=code@fd@fd_cd.T"
      ],
      "metadata": {
        "id": "pnLTE3AKQUAB"
      },
      "execution_count": 17,
      "outputs": []
    },
    {
      "cell_type": "code",
      "source": [
        "fd_row_sm = np.sum((fd_row), axis=0) # 최종수요의 행합"
      ],
      "metadata": {
        "id": "IpwwU1-MQUCg"
      },
      "execution_count": 18,
      "outputs": []
    },
    {
      "cell_type": "code",
      "source": [
        "fd_sm=fd_row_sm.reshape(1,5)"
      ],
      "metadata": {
        "id": "DQCpcEuTQUFD"
      },
      "execution_count": 19,
      "outputs": []
    },
    {
      "cell_type": "code",
      "source": [
        "nae_va_ct = np.concatenate((nae_tot_col, va_row)) # 중간투입(수요)와 부가가치 및 산출액 합치기\n",
        "nae_va_ct"
      ],
      "metadata": {
        "colab": {
          "base_uri": "https://localhost:8080/"
        },
        "id": "88LooUFcPcm6",
        "outputId": "405bfbc6-e8a9-42ad-f530-4601b73dc3cd"
      },
      "execution_count": 20,
      "outputs": [
        {
          "output_type": "execute_result",
          "data": {
            "text/plain": [
              "array([[4.000e+00, 3.800e+01, 1.100e+01],\n",
              "       [1.600e+01, 9.440e+02, 4.010e+02],\n",
              "       [7.000e+00, 2.570e+02, 6.930e+02],\n",
              "       [2.700e+01, 1.239e+03, 1.105e+03],\n",
              "       [7.000e+00, 1.970e+02, 7.140e+02],\n",
              "       [2.000e+01, 1.520e+02, 2.980e+02],\n",
              "       [5.000e+00, 1.440e+02, 2.300e+02],\n",
              "       [1.000e+00, 6.000e+01, 1.000e+02],\n",
              "       [3.300e+01, 5.530e+02, 1.342e+03],\n",
              "       [6.000e+01, 1.792e+03, 2.447e+03]])"
            ]
          },
          "metadata": {},
          "execution_count": 20
        }
      ]
    },
    {
      "cell_type": "code",
      "source": [
        "nae_va_ct_sm = nae_va_ct.sum(axis=1).reshape(10,1)  # 부가가치 및 산출액의 열합"
      ],
      "metadata": {
        "id": "QqYemKSUQnVy"
      },
      "execution_count": 21,
      "outputs": []
    },
    {
      "cell_type": "code",
      "source": [
        "nnull = np.zeros((6,5)) # 0행렬"
      ],
      "metadata": {
        "id": "T6hq-mLuQnYZ"
      },
      "execution_count": 22,
      "outputs": []
    },
    {
      "cell_type": "code",
      "source": [
        "fd_nnull = np.concatenate((fd_row, fd_sm, nnull),axis=0)  # 최종수요, 최종수요 행합 및 0행렬 합치기"
      ],
      "metadata": {
        "id": "bX019RFqQnbK"
      },
      "execution_count": 23,
      "outputs": []
    },
    {
      "cell_type": "code",
      "source": [
        "tot_f = np.concatenate((nae_va_ct,nae_va_ct_sm, fd_nnull), axis=1)  # 최종 3x3 부문통합된 거래표\n",
        "tot_f_va1 = np.concatenate((tot_f[0:4,], tot_f[-2:,:]), axis=0)  # 최종 3x3 부문통합된 거래표\n",
        "tot_f_va1"
      ],
      "metadata": {
        "id": "NnopD75uQneH",
        "outputId": "3da0b8fb-95be-40d7-89c3-997731bc25a3",
        "colab": {
          "base_uri": "https://localhost:8080/"
        }
      },
      "execution_count": 24,
      "outputs": [
        {
          "output_type": "execute_result",
          "data": {
            "text/plain": [
              "array([[4.000e+00, 3.800e+01, 1.100e+01, 5.300e+01, 1.800e+01, 0.000e+00,\n",
              "        1.000e+00, 1.900e+01, 7.200e+01],\n",
              "       [1.600e+01, 9.440e+02, 4.010e+02, 1.361e+03, 2.130e+02, 1.670e+02,\n",
              "        6.280e+02, 1.008e+03, 2.369e+03],\n",
              "       [7.000e+00, 2.570e+02, 6.930e+02, 9.570e+02, 1.032e+03, 4.320e+02,\n",
              "        1.310e+02, 1.595e+03, 2.552e+03],\n",
              "       [2.700e+01, 1.239e+03, 1.105e+03, 2.371e+03, 1.263e+03, 5.990e+02,\n",
              "        7.600e+02, 2.622e+03, 4.993e+03],\n",
              "       [3.300e+01, 5.530e+02, 1.342e+03, 1.928e+03, 0.000e+00, 0.000e+00,\n",
              "        0.000e+00, 0.000e+00, 0.000e+00],\n",
              "       [6.000e+01, 1.792e+03, 2.447e+03, 4.299e+03, 0.000e+00, 0.000e+00,\n",
              "        0.000e+00, 0.000e+00, 0.000e+00]])"
            ]
          },
          "metadata": {},
          "execution_count": 24
        }
      ]
    },
    {
      "cell_type": "code",
      "source": [
        "tot_F = pd.DataFrame(tot_f, columns = ['농산품', '공산품', '서비스', '중간수요계', '소비','투자', '수출', '최종수요계', '총수요계'],\n",
        "                     index=['농산품', '공산품', '서비스', '중간투입계', '피용자보수','영업잉여', '고정자본소모', '생산세(보조금공제)', '부가가치계', '총투입액']) # 변수명 붙여서 pandas로 내보내기"
      ],
      "metadata": {
        "id": "jTMh7QgmQngo"
      },
      "execution_count": 25,
      "outputs": []
    },
    {
      "cell_type": "code",
      "source": [
        "tot_F_va1= pd.DataFrame(tot_f_va1, columns = ['농산품', '공산품', '서비스', '중간수요계', '소비','투자', '수출', '최종수요계', '총수요계'],\n",
        "                     index=['농산품', '공산품', '서비스', '중간투입계', '부가가치계', '총투입액']) # 변수명 붙여서 pandas로 내보내기"
      ],
      "metadata": {
        "id": "z309spY3OKXC"
      },
      "execution_count": 26,
      "outputs": []
    },
    {
      "cell_type": "code",
      "source": [
        "tot_F.reset_index(inplace=True) # 인덱스 설정(부문명)"
      ],
      "metadata": {
        "id": "qChIyrBp6Rka"
      },
      "execution_count": 27,
      "outputs": []
    },
    {
      "cell_type": "code",
      "source": [
        "tot_F_va1.reset_index(inplace=True)# 인덱스 설정(부문명)"
      ],
      "metadata": {
        "id": "DGoOcMOFRx2D"
      },
      "execution_count": 28,
      "outputs": []
    },
    {
      "cell_type": "code",
      "source": [
        "tot_F_va1  #최종 3x3 거래표 확인"
      ],
      "metadata": {
        "colab": {
          "base_uri": "https://localhost:8080/",
          "height": 237
        },
        "id": "dJ6L3bD-RDdC",
        "outputId": "2761388d-e593-42b2-838e-60782ae9fcd0"
      },
      "execution_count": 29,
      "outputs": [
        {
          "output_type": "execute_result",
          "data": {
            "text/plain": [
              "   index   농산품     공산품     서비스   중간수요계      소비     투자     수출   최종수요계    총수요계\n",
              "0    농산품   4.0    38.0    11.0    53.0    18.0    0.0    1.0    19.0    72.0\n",
              "1    공산품  16.0   944.0   401.0  1361.0   213.0  167.0  628.0  1008.0  2369.0\n",
              "2    서비스   7.0   257.0   693.0   957.0  1032.0  432.0  131.0  1595.0  2552.0\n",
              "3  중간투입계  27.0  1239.0  1105.0  2371.0  1263.0  599.0  760.0  2622.0  4993.0\n",
              "4  부가가치계  33.0   553.0  1342.0  1928.0     0.0    0.0    0.0     0.0     0.0\n",
              "5   총투입액  60.0  1792.0  2447.0  4299.0     0.0    0.0    0.0     0.0     0.0"
            ],
            "text/html": [
              "\n",
              "  <div id=\"df-0264ce4e-6b1b-4a16-80ef-6ab33f4330ed\">\n",
              "    <div class=\"colab-df-container\">\n",
              "      <div>\n",
              "<style scoped>\n",
              "    .dataframe tbody tr th:only-of-type {\n",
              "        vertical-align: middle;\n",
              "    }\n",
              "\n",
              "    .dataframe tbody tr th {\n",
              "        vertical-align: top;\n",
              "    }\n",
              "\n",
              "    .dataframe thead th {\n",
              "        text-align: right;\n",
              "    }\n",
              "</style>\n",
              "<table border=\"1\" class=\"dataframe\">\n",
              "  <thead>\n",
              "    <tr style=\"text-align: right;\">\n",
              "      <th></th>\n",
              "      <th>index</th>\n",
              "      <th>농산품</th>\n",
              "      <th>공산품</th>\n",
              "      <th>서비스</th>\n",
              "      <th>중간수요계</th>\n",
              "      <th>소비</th>\n",
              "      <th>투자</th>\n",
              "      <th>수출</th>\n",
              "      <th>최종수요계</th>\n",
              "      <th>총수요계</th>\n",
              "    </tr>\n",
              "  </thead>\n",
              "  <tbody>\n",
              "    <tr>\n",
              "      <th>0</th>\n",
              "      <td>농산품</td>\n",
              "      <td>4.0</td>\n",
              "      <td>38.0</td>\n",
              "      <td>11.0</td>\n",
              "      <td>53.0</td>\n",
              "      <td>18.0</td>\n",
              "      <td>0.0</td>\n",
              "      <td>1.0</td>\n",
              "      <td>19.0</td>\n",
              "      <td>72.0</td>\n",
              "    </tr>\n",
              "    <tr>\n",
              "      <th>1</th>\n",
              "      <td>공산품</td>\n",
              "      <td>16.0</td>\n",
              "      <td>944.0</td>\n",
              "      <td>401.0</td>\n",
              "      <td>1361.0</td>\n",
              "      <td>213.0</td>\n",
              "      <td>167.0</td>\n",
              "      <td>628.0</td>\n",
              "      <td>1008.0</td>\n",
              "      <td>2369.0</td>\n",
              "    </tr>\n",
              "    <tr>\n",
              "      <th>2</th>\n",
              "      <td>서비스</td>\n",
              "      <td>7.0</td>\n",
              "      <td>257.0</td>\n",
              "      <td>693.0</td>\n",
              "      <td>957.0</td>\n",
              "      <td>1032.0</td>\n",
              "      <td>432.0</td>\n",
              "      <td>131.0</td>\n",
              "      <td>1595.0</td>\n",
              "      <td>2552.0</td>\n",
              "    </tr>\n",
              "    <tr>\n",
              "      <th>3</th>\n",
              "      <td>중간투입계</td>\n",
              "      <td>27.0</td>\n",
              "      <td>1239.0</td>\n",
              "      <td>1105.0</td>\n",
              "      <td>2371.0</td>\n",
              "      <td>1263.0</td>\n",
              "      <td>599.0</td>\n",
              "      <td>760.0</td>\n",
              "      <td>2622.0</td>\n",
              "      <td>4993.0</td>\n",
              "    </tr>\n",
              "    <tr>\n",
              "      <th>4</th>\n",
              "      <td>부가가치계</td>\n",
              "      <td>33.0</td>\n",
              "      <td>553.0</td>\n",
              "      <td>1342.0</td>\n",
              "      <td>1928.0</td>\n",
              "      <td>0.0</td>\n",
              "      <td>0.0</td>\n",
              "      <td>0.0</td>\n",
              "      <td>0.0</td>\n",
              "      <td>0.0</td>\n",
              "    </tr>\n",
              "    <tr>\n",
              "      <th>5</th>\n",
              "      <td>총투입액</td>\n",
              "      <td>60.0</td>\n",
              "      <td>1792.0</td>\n",
              "      <td>2447.0</td>\n",
              "      <td>4299.0</td>\n",
              "      <td>0.0</td>\n",
              "      <td>0.0</td>\n",
              "      <td>0.0</td>\n",
              "      <td>0.0</td>\n",
              "      <td>0.0</td>\n",
              "    </tr>\n",
              "  </tbody>\n",
              "</table>\n",
              "</div>\n",
              "      <button class=\"colab-df-convert\" onclick=\"convertToInteractive('df-0264ce4e-6b1b-4a16-80ef-6ab33f4330ed')\"\n",
              "              title=\"Convert this dataframe to an interactive table.\"\n",
              "              style=\"display:none;\">\n",
              "        \n",
              "  <svg xmlns=\"http://www.w3.org/2000/svg\" height=\"24px\"viewBox=\"0 0 24 24\"\n",
              "       width=\"24px\">\n",
              "    <path d=\"M0 0h24v24H0V0z\" fill=\"none\"/>\n",
              "    <path d=\"M18.56 5.44l.94 2.06.94-2.06 2.06-.94-2.06-.94-.94-2.06-.94 2.06-2.06.94zm-11 1L8.5 8.5l.94-2.06 2.06-.94-2.06-.94L8.5 2.5l-.94 2.06-2.06.94zm10 10l.94 2.06.94-2.06 2.06-.94-2.06-.94-.94-2.06-.94 2.06-2.06.94z\"/><path d=\"M17.41 7.96l-1.37-1.37c-.4-.4-.92-.59-1.43-.59-.52 0-1.04.2-1.43.59L10.3 9.45l-7.72 7.72c-.78.78-.78 2.05 0 2.83L4 21.41c.39.39.9.59 1.41.59.51 0 1.02-.2 1.41-.59l7.78-7.78 2.81-2.81c.8-.78.8-2.07 0-2.86zM5.41 20L4 18.59l7.72-7.72 1.47 1.35L5.41 20z\"/>\n",
              "  </svg>\n",
              "      </button>\n",
              "      \n",
              "  <style>\n",
              "    .colab-df-container {\n",
              "      display:flex;\n",
              "      flex-wrap:wrap;\n",
              "      gap: 12px;\n",
              "    }\n",
              "\n",
              "    .colab-df-convert {\n",
              "      background-color: #E8F0FE;\n",
              "      border: none;\n",
              "      border-radius: 50%;\n",
              "      cursor: pointer;\n",
              "      display: none;\n",
              "      fill: #1967D2;\n",
              "      height: 32px;\n",
              "      padding: 0 0 0 0;\n",
              "      width: 32px;\n",
              "    }\n",
              "\n",
              "    .colab-df-convert:hover {\n",
              "      background-color: #E2EBFA;\n",
              "      box-shadow: 0px 1px 2px rgba(60, 64, 67, 0.3), 0px 1px 3px 1px rgba(60, 64, 67, 0.15);\n",
              "      fill: #174EA6;\n",
              "    }\n",
              "\n",
              "    [theme=dark] .colab-df-convert {\n",
              "      background-color: #3B4455;\n",
              "      fill: #D2E3FC;\n",
              "    }\n",
              "\n",
              "    [theme=dark] .colab-df-convert:hover {\n",
              "      background-color: #434B5C;\n",
              "      box-shadow: 0px 1px 3px 1px rgba(0, 0, 0, 0.15);\n",
              "      filter: drop-shadow(0px 1px 2px rgba(0, 0, 0, 0.3));\n",
              "      fill: #FFFFFF;\n",
              "    }\n",
              "  </style>\n",
              "\n",
              "      <script>\n",
              "        const buttonEl =\n",
              "          document.querySelector('#df-0264ce4e-6b1b-4a16-80ef-6ab33f4330ed button.colab-df-convert');\n",
              "        buttonEl.style.display =\n",
              "          google.colab.kernel.accessAllowed ? 'block' : 'none';\n",
              "\n",
              "        async function convertToInteractive(key) {\n",
              "          const element = document.querySelector('#df-0264ce4e-6b1b-4a16-80ef-6ab33f4330ed');\n",
              "          const dataTable =\n",
              "            await google.colab.kernel.invokeFunction('convertToInteractive',\n",
              "                                                     [key], {});\n",
              "          if (!dataTable) return;\n",
              "\n",
              "          const docLinkHtml = 'Like what you see? Visit the ' +\n",
              "            '<a target=\"_blank\" href=https://colab.research.google.com/notebooks/data_table.ipynb>data table notebook</a>'\n",
              "            + ' to learn more about interactive tables.';\n",
              "          element.innerHTML = '';\n",
              "          dataTable['output_type'] = 'display_data';\n",
              "          await google.colab.output.renderOutput(dataTable, element);\n",
              "          const docLink = document.createElement('div');\n",
              "          docLink.innerHTML = docLinkHtml;\n",
              "          element.appendChild(docLink);\n",
              "        }\n",
              "      </script>\n",
              "    </div>\n",
              "  </div>\n",
              "  "
            ]
          },
          "metadata": {},
          "execution_count": 29
        }
      ]
    },
    {
      "cell_type": "markdown",
      "source": [
        "###  국산거래표"
      ],
      "metadata": {
        "id": "mObPcfaSk7BJ"
      }
    },
    {
      "cell_type": "code",
      "source": [
        "url_Dm_33 = \"https://raw.githubusercontent.com/Tom-Jung/legendary-funicular/main/2019_%EA%B5%AD%EC%82%B0%EA%B1%B0%EB%9E%98%ED%91%9C.csv\"  # 33부문의 국산거래표 불러오기\n",
        "Dm_33 = pd.read_csv(url_Dm_33)"
      ],
      "metadata": {
        "id": "7fMUOWLSRDf9"
      },
      "execution_count": 30,
      "outputs": []
    },
    {
      "cell_type": "code",
      "source": [
        "Dmm_33 = Dm_33.to_numpy()\n",
        "Dom_33 = Dmm_33[0:34,1:53].astype(float)"
      ],
      "metadata": {
        "id": "Wm20kwrE9c7k"
      },
      "execution_count": 31,
      "outputs": []
    },
    {
      "cell_type": "code",
      "source": [
        "nae_dom_row = code@Dom_33[0:33,0:33] # 중간투입(수요)의 행을 3부문으로 만들기\n",
        "nae_dom_row"
      ],
      "metadata": {
        "colab": {
          "base_uri": "https://localhost:8080/"
        },
        "id": "yV9zlj5E9c-S",
        "outputId": "5f53b114-6fda-492d-d4ef-df531771540c"
      },
      "execution_count": 32,
      "outputs": [
        {
          "output_type": "execute_result",
          "data": {
            "text/plain": [
              "array([[  4.,   0.,  31.,   0.,   0.,   0.,   0.,   0.,   0.,   0.,   0.,\n",
              "          0.,   0.,   0.,   0.,   0.,   0.,   0.,   0.,   0.,   0.,   9.,\n",
              "          0.,   0.,   0.,   0.,   0.,   0.,   0.,   1.,   0.,   0.,   0.],\n",
              "       [ 15.,   0.,  31.,  20.,  15.,   7.,  89.,  14.,  38.,  45.,  67.,\n",
              "         47.,  60., 131.,   8.,  16.,   9.,   2.,  95.,  16.,  33.,  49.,\n",
              "          7.,   4.,   4.,  28.,   6.,   8.,   7.,  31.,   7.,  16.,   0.],\n",
              "       [  7.,   1.,  24.,  11.,   9.,  11.,  49.,  10.,  26.,  12.,  24.,\n",
              "         12.,  16.,  25.,   4.,   9.,  19.,   5.,  45., 106.,  36.,  44.,\n",
              "         47.,  66.,  57.,  80.,  21.,  23.,  28.,  38.,  14.,  12.,   3.]])"
            ]
          },
          "metadata": {},
          "execution_count": 32
        }
      ]
    },
    {
      "cell_type": "code",
      "source": [
        "nae_dom_row.shape  # 행과 열의 개수 확인"
      ],
      "metadata": {
        "colab": {
          "base_uri": "https://localhost:8080/"
        },
        "id": "VrRNqL3h9dAo",
        "outputId": "32e0270a-d1d3-49a4-c840-0307b600e08e"
      },
      "execution_count": 33,
      "outputs": [
        {
          "output_type": "execute_result",
          "data": {
            "text/plain": [
              "(3, 33)"
            ]
          },
          "metadata": {},
          "execution_count": 33
        }
      ]
    },
    {
      "cell_type": "code",
      "source": [
        "nae_dom_col = nae_dom_row@code.T  # 수작업한 code 이용\n",
        "nae_dom_col"
      ],
      "metadata": {
        "colab": {
          "base_uri": "https://localhost:8080/"
        },
        "id": "Is56E3Hs9dDJ",
        "outputId": "1ce4137d-cfcf-4ae3-a2f4-0ba7d2ee6b50"
      },
      "execution_count": 34,
      "outputs": [
        {
          "output_type": "execute_result",
          "data": {
            "text/plain": [
              "array([[  4.,  31.,  10.],\n",
              "       [ 15., 588., 322.],\n",
              "       [  7., 243., 644.]])"
            ]
          },
          "metadata": {},
          "execution_count": 34
        }
      ]
    },
    {
      "cell_type": "code",
      "source": [
        "nae_dom_col.shape  # 행과 열의 개수 확인"
      ],
      "metadata": {
        "colab": {
          "base_uri": "https://localhost:8080/"
        },
        "id": "WC0l4HyN9dFe",
        "outputId": "bbd20701-1ba3-4266-d3d1-0756cb006b70"
      },
      "execution_count": 35,
      "outputs": [
        {
          "output_type": "execute_result",
          "data": {
            "text/plain": [
              "(3, 3)"
            ]
          },
          "metadata": {},
          "execution_count": 35
        }
      ]
    },
    {
      "cell_type": "code",
      "source": [
        "nae_dom_col.sum()"
      ],
      "metadata": {
        "colab": {
          "base_uri": "https://localhost:8080/"
        },
        "id": "Ethlugxg9dHg",
        "outputId": "62cb832d-f739-497e-d5ee-b6137915ea43"
      },
      "execution_count": 36,
      "outputs": [
        {
          "output_type": "execute_result",
          "data": {
            "text/plain": [
              "1864.0"
            ]
          },
          "metadata": {},
          "execution_count": 36
        }
      ]
    },
    {
      "cell_type": "code",
      "source": [
        "dsm_row = Dom_33[33:34,0:33]@code.T # 중투합\n",
        "dsm_row"
      ],
      "metadata": {
        "colab": {
          "base_uri": "https://localhost:8080/"
        },
        "id": "bGsYwWZ29dJr",
        "outputId": "2ee12cc3-27e8-434a-c8e7-20939a7465fc"
      },
      "execution_count": 37,
      "outputs": [
        {
          "output_type": "execute_result",
          "data": {
            "text/plain": [
              "array([[ 26., 862., 976.]])"
            ]
          },
          "metadata": {},
          "execution_count": 37
        }
      ]
    },
    {
      "cell_type": "code",
      "source": [
        "dsm_row.shape"
      ],
      "metadata": {
        "colab": {
          "base_uri": "https://localhost:8080/"
        },
        "id": "XD1RsGYx9dLt",
        "outputId": "ee6ccd81-c275-4621-d96b-843bf0d75bca"
      },
      "execution_count": 38,
      "outputs": [
        {
          "output_type": "execute_result",
          "data": {
            "text/plain": [
              "(1, 3)"
            ]
          },
          "metadata": {},
          "execution_count": 38
        }
      ]
    },
    {
      "cell_type": "code",
      "source": [
        "dfd = Dom_33[0:33, 34:45]\n",
        "dfd"
      ],
      "metadata": {
        "colab": {
          "base_uri": "https://localhost:8080/"
        },
        "id": "PGk_xDK59dOL",
        "outputId": "32de17db-ae1d-48c8-ebb1-192600460c91"
      },
      "execution_count": 39,
      "outputs": [
        {
          "output_type": "execute_result",
          "data": {
            "text/plain": [
              "array([[ 15.,   0.,   0.,   0.,  -1.,   0.,   1.,  15.,  60.],\n",
              "       [  0.,   0.,   0.,   0.,   0.,   0.,   0.,   0.,   3.],\n",
              "       [ 52.,   0.,   0.,   0.,   1.,   0.,   9.,  62., 135.],\n",
              "       [ 16.,   0.,   0.,   0.,   1.,   0.,  23.,  40.,  66.],\n",
              "       [  1.,   0.,   0.,   0.,   1.,   0.,   4.,   6.,  46.],\n",
              "       [ 15.,   0.,   0.,   0.,   1.,   0.,  52.,  68., 136.],\n",
              "       [  3.,   0.,   0.,   0.,   5.,   0., 101., 109., 279.],\n",
              "       [  0.,   0.,   0.,   0.,   0.,   0.,   5.,   5.,  40.],\n",
              "       [ -1.,   0.,  -3.,   0.,   1.,   0.,  44.,  41., 141.],\n",
              "       [  1.,   0.,   3.,   3.,   1.,   0.,  12.,  20., 101.],\n",
              "       [ 15.,   0.,  10.,   2.,   2.,   0., 172., 201., 285.],\n",
              "       [  6.,   0.,   8.,   0.,   1.,   0.,  31.,  46., 108.],\n",
              "       [  2.,   0.,  37.,   0.,  -1.,   0.,  60.,  98., 138.],\n",
              "       [ 24.,   0.,  19.,   8.,   2.,   0., 104., 157., 233.],\n",
              "       [  4.,   0.,   3.,   0.,   0.,   1.,   4.,  12.,  21.],\n",
              "       [  0.,   0.,   0.,   0.,   0.,   0.,   2.,   2.,  60.],\n",
              "       [ 18.,   0.,   0.,   0.,   0.,   0.,   0.,  18.,  99.],\n",
              "       [  5.,   1.,   0.,   0.,   0.,   0.,   1.,   7.,  21.],\n",
              "       [  0.,   0., 196.,  64.,   0.,   0.,   0., 260., 271.],\n",
              "       [ 91.,   0.,  12.,   1.,   2.,   1.,  36., 143., 285.],\n",
              "       [ 21.,   0.,   0.,   0.,   0.,   0.,  34.,  55., 154.],\n",
              "       [ 87.,   0.,   0.,   0.,   0.,   0.,  11.,  98., 170.],\n",
              "       [ 34.,   0.,  33.,   0.,   1.,   0.,  12.,  80., 152.],\n",
              "       [ 73.,   0.,   0.,   0.,   0.,   0.,   5.,  78., 184.],\n",
              "       [132.,   0.,  31.,   0.,   0.,   0.,   0., 163., 226.],\n",
              "       [  4.,   0.,  73.,  11.,   0.,   0.,  18., 106., 230.],\n",
              "       [  6.,   0.,   0.,   0.,   0.,   0.,  11.,  17.,  96.],\n",
              "       [  2., 154.,   0.,   0.,   0.,   0.,   0., 156., 159.],\n",
              "       [ 57.,  71.,   0.,   0.,   0.,   0.,   0., 128., 129.],\n",
              "       [ 58., 101.,   0.,   0.,   0.,   0.,   1., 160., 165.],\n",
              "       [ 36.,   2.,   0.,   0.,   0.,   0.,   1.,  39.,  47.],\n",
              "       [ 44.,   0.,   0.,   0.,   0.,   0.,   1.,  45.,  56.],\n",
              "       [  0.,   0.,   0.,   0.,   0.,   0.,   0.,   0.,   3.]])"
            ]
          },
          "metadata": {},
          "execution_count": 39
        }
      ]
    },
    {
      "cell_type": "code",
      "source": [
        "dfd_row=code@dfd@fd_cd.T"
      ],
      "metadata": {
        "id": "2RW9ObIIBf6H"
      },
      "execution_count": 40,
      "outputs": []
    },
    {
      "cell_type": "code",
      "source": [
        "dfd_row_sm = np.sum((dfd_row), axis=0) # 최종수요의 행합"
      ],
      "metadata": {
        "id": "LcspQZiWBf8s"
      },
      "execution_count": 41,
      "outputs": []
    },
    {
      "cell_type": "code",
      "source": [
        "dfd_sm=dfd_row_sm.reshape(1,5)\n",
        "dfd_sm"
      ],
      "metadata": {
        "id": "WnMSJOqfBf_F",
        "outputId": "300b6aae-67ab-4181-81a3-c18ae67616f6",
        "colab": {
          "base_uri": "https://localhost:8080/"
        }
      },
      "execution_count": 42,
      "outputs": [
        {
          "output_type": "execute_result",
          "data": {
            "text/plain": [
              "array([[1150.,  530.,  755., 2435., 4299.]])"
            ]
          },
          "metadata": {},
          "execution_count": 42
        }
      ]
    },
    {
      "cell_type": "code",
      "source": [
        "nae_dm = np.concatenate((nae_dom_col, dsm_row)) # 중간투입(수요)와 부가가치 및 산출액 합치기\n",
        "nae_dm"
      ],
      "metadata": {
        "id": "tIDU9V3yDdAW",
        "outputId": "6f0ba6f7-10f4-47dd-c45f-4b4c463a5046",
        "colab": {
          "base_uri": "https://localhost:8080/"
        }
      },
      "execution_count": 43,
      "outputs": [
        {
          "output_type": "execute_result",
          "data": {
            "text/plain": [
              "array([[  4.,  31.,  10.],\n",
              "       [ 15., 588., 322.],\n",
              "       [  7., 243., 644.],\n",
              "       [ 26., 862., 976.]])"
            ]
          },
          "metadata": {},
          "execution_count": 43
        }
      ]
    },
    {
      "cell_type": "code",
      "source": [
        "nae_col_sm_dm = nae_dm.sum(axis=1).reshape(4,1)  # 중간투입(수요)와 행합"
      ],
      "metadata": {
        "id": "VtI2ifklBgBR"
      },
      "execution_count": 44,
      "outputs": []
    },
    {
      "cell_type": "code",
      "source": [
        "nae_dm_sm = nae_col_sm_dm.sum(axis=1).reshape(4,1)  # 부가가치 및 산출액의 열합"
      ],
      "metadata": {
        "id": "aaWNP32aFNl6"
      },
      "execution_count": 45,
      "outputs": []
    },
    {
      "cell_type": "code",
      "source": [
        "dfd_nnull = np.concatenate((dfd_row, dfd_sm),axis=0)  #   최종수요 및 최종수요 행합 합치기"
      ],
      "metadata": {
        "id": "8HT2MFywBgDZ"
      },
      "execution_count": 46,
      "outputs": []
    },
    {
      "cell_type": "code",
      "source": [
        "dom_f = np.concatenate((nae_dm, nae_dm_sm, dfd_nnull), axis=1)  # 최종 3x3 부문통합된 거래표\n",
        "dom_f"
      ],
      "metadata": {
        "id": "p2V-RLotBgFb",
        "outputId": "1a41d88a-effe-4b0e-ffcb-99b206ef4c0c",
        "colab": {
          "base_uri": "https://localhost:8080/"
        }
      },
      "execution_count": 47,
      "outputs": [
        {
          "output_type": "execute_result",
          "data": {
            "text/plain": [
              "array([[ 4.000e+00,  3.100e+01,  1.000e+01,  4.500e+01,  1.500e+01,\n",
              "        -1.000e+00,  1.000e+00,  1.500e+01,  6.000e+01],\n",
              "       [ 1.500e+01,  5.880e+02,  3.220e+02,  9.250e+02,  1.380e+02,\n",
              "         1.060e+02,  6.230e+02,  8.670e+02,  1.792e+03],\n",
              "       [ 7.000e+00,  2.430e+02,  6.440e+02,  8.940e+02,  9.970e+02,\n",
              "         4.250e+02,  1.310e+02,  1.553e+03,  2.447e+03],\n",
              "       [ 2.600e+01,  8.620e+02,  9.760e+02,  1.864e+03,  1.150e+03,\n",
              "         5.300e+02,  7.550e+02,  2.435e+03,  4.299e+03]])"
            ]
          },
          "metadata": {},
          "execution_count": 47
        }
      ]
    },
    {
      "cell_type": "code",
      "source": [
        "dom_F = pd.DataFrame(dom_f, columns = ['농산품', '공산품', '서비스', '중간수요계', '소비','투자', '수출', '최종수요계', '총수요계'],\n",
        "                     index=['농산품', '공산품', '서비스', '중간투입계']) # 변수명 붙여서 pandas로 내보내기\n",
        "dom_F"
      ],
      "metadata": {
        "id": "bOvUyM5JBgHa",
        "outputId": "ee9f6fa3-29f7-4747-ad68-a4220d03d79f",
        "colab": {
          "base_uri": "https://localhost:8080/",
          "height": 175
        }
      },
      "execution_count": 48,
      "outputs": [
        {
          "output_type": "execute_result",
          "data": {
            "text/plain": [
              "        농산품    공산품    서비스   중간수요계      소비     투자     수출   최종수요계    총수요계\n",
              "농산품     4.0   31.0   10.0    45.0    15.0   -1.0    1.0    15.0    60.0\n",
              "공산품    15.0  588.0  322.0   925.0   138.0  106.0  623.0   867.0  1792.0\n",
              "서비스     7.0  243.0  644.0   894.0   997.0  425.0  131.0  1553.0  2447.0\n",
              "중간투입계  26.0  862.0  976.0  1864.0  1150.0  530.0  755.0  2435.0  4299.0"
            ],
            "text/html": [
              "\n",
              "  <div id=\"df-160630d1-1322-48b5-8a74-02d1b43e7987\">\n",
              "    <div class=\"colab-df-container\">\n",
              "      <div>\n",
              "<style scoped>\n",
              "    .dataframe tbody tr th:only-of-type {\n",
              "        vertical-align: middle;\n",
              "    }\n",
              "\n",
              "    .dataframe tbody tr th {\n",
              "        vertical-align: top;\n",
              "    }\n",
              "\n",
              "    .dataframe thead th {\n",
              "        text-align: right;\n",
              "    }\n",
              "</style>\n",
              "<table border=\"1\" class=\"dataframe\">\n",
              "  <thead>\n",
              "    <tr style=\"text-align: right;\">\n",
              "      <th></th>\n",
              "      <th>농산품</th>\n",
              "      <th>공산품</th>\n",
              "      <th>서비스</th>\n",
              "      <th>중간수요계</th>\n",
              "      <th>소비</th>\n",
              "      <th>투자</th>\n",
              "      <th>수출</th>\n",
              "      <th>최종수요계</th>\n",
              "      <th>총수요계</th>\n",
              "    </tr>\n",
              "  </thead>\n",
              "  <tbody>\n",
              "    <tr>\n",
              "      <th>농산품</th>\n",
              "      <td>4.0</td>\n",
              "      <td>31.0</td>\n",
              "      <td>10.0</td>\n",
              "      <td>45.0</td>\n",
              "      <td>15.0</td>\n",
              "      <td>-1.0</td>\n",
              "      <td>1.0</td>\n",
              "      <td>15.0</td>\n",
              "      <td>60.0</td>\n",
              "    </tr>\n",
              "    <tr>\n",
              "      <th>공산품</th>\n",
              "      <td>15.0</td>\n",
              "      <td>588.0</td>\n",
              "      <td>322.0</td>\n",
              "      <td>925.0</td>\n",
              "      <td>138.0</td>\n",
              "      <td>106.0</td>\n",
              "      <td>623.0</td>\n",
              "      <td>867.0</td>\n",
              "      <td>1792.0</td>\n",
              "    </tr>\n",
              "    <tr>\n",
              "      <th>서비스</th>\n",
              "      <td>7.0</td>\n",
              "      <td>243.0</td>\n",
              "      <td>644.0</td>\n",
              "      <td>894.0</td>\n",
              "      <td>997.0</td>\n",
              "      <td>425.0</td>\n",
              "      <td>131.0</td>\n",
              "      <td>1553.0</td>\n",
              "      <td>2447.0</td>\n",
              "    </tr>\n",
              "    <tr>\n",
              "      <th>중간투입계</th>\n",
              "      <td>26.0</td>\n",
              "      <td>862.0</td>\n",
              "      <td>976.0</td>\n",
              "      <td>1864.0</td>\n",
              "      <td>1150.0</td>\n",
              "      <td>530.0</td>\n",
              "      <td>755.0</td>\n",
              "      <td>2435.0</td>\n",
              "      <td>4299.0</td>\n",
              "    </tr>\n",
              "  </tbody>\n",
              "</table>\n",
              "</div>\n",
              "      <button class=\"colab-df-convert\" onclick=\"convertToInteractive('df-160630d1-1322-48b5-8a74-02d1b43e7987')\"\n",
              "              title=\"Convert this dataframe to an interactive table.\"\n",
              "              style=\"display:none;\">\n",
              "        \n",
              "  <svg xmlns=\"http://www.w3.org/2000/svg\" height=\"24px\"viewBox=\"0 0 24 24\"\n",
              "       width=\"24px\">\n",
              "    <path d=\"M0 0h24v24H0V0z\" fill=\"none\"/>\n",
              "    <path d=\"M18.56 5.44l.94 2.06.94-2.06 2.06-.94-2.06-.94-.94-2.06-.94 2.06-2.06.94zm-11 1L8.5 8.5l.94-2.06 2.06-.94-2.06-.94L8.5 2.5l-.94 2.06-2.06.94zm10 10l.94 2.06.94-2.06 2.06-.94-2.06-.94-.94-2.06-.94 2.06-2.06.94z\"/><path d=\"M17.41 7.96l-1.37-1.37c-.4-.4-.92-.59-1.43-.59-.52 0-1.04.2-1.43.59L10.3 9.45l-7.72 7.72c-.78.78-.78 2.05 0 2.83L4 21.41c.39.39.9.59 1.41.59.51 0 1.02-.2 1.41-.59l7.78-7.78 2.81-2.81c.8-.78.8-2.07 0-2.86zM5.41 20L4 18.59l7.72-7.72 1.47 1.35L5.41 20z\"/>\n",
              "  </svg>\n",
              "      </button>\n",
              "      \n",
              "  <style>\n",
              "    .colab-df-container {\n",
              "      display:flex;\n",
              "      flex-wrap:wrap;\n",
              "      gap: 12px;\n",
              "    }\n",
              "\n",
              "    .colab-df-convert {\n",
              "      background-color: #E8F0FE;\n",
              "      border: none;\n",
              "      border-radius: 50%;\n",
              "      cursor: pointer;\n",
              "      display: none;\n",
              "      fill: #1967D2;\n",
              "      height: 32px;\n",
              "      padding: 0 0 0 0;\n",
              "      width: 32px;\n",
              "    }\n",
              "\n",
              "    .colab-df-convert:hover {\n",
              "      background-color: #E2EBFA;\n",
              "      box-shadow: 0px 1px 2px rgba(60, 64, 67, 0.3), 0px 1px 3px 1px rgba(60, 64, 67, 0.15);\n",
              "      fill: #174EA6;\n",
              "    }\n",
              "\n",
              "    [theme=dark] .colab-df-convert {\n",
              "      background-color: #3B4455;\n",
              "      fill: #D2E3FC;\n",
              "    }\n",
              "\n",
              "    [theme=dark] .colab-df-convert:hover {\n",
              "      background-color: #434B5C;\n",
              "      box-shadow: 0px 1px 3px 1px rgba(0, 0, 0, 0.15);\n",
              "      filter: drop-shadow(0px 1px 2px rgba(0, 0, 0, 0.3));\n",
              "      fill: #FFFFFF;\n",
              "    }\n",
              "  </style>\n",
              "\n",
              "      <script>\n",
              "        const buttonEl =\n",
              "          document.querySelector('#df-160630d1-1322-48b5-8a74-02d1b43e7987 button.colab-df-convert');\n",
              "        buttonEl.style.display =\n",
              "          google.colab.kernel.accessAllowed ? 'block' : 'none';\n",
              "\n",
              "        async function convertToInteractive(key) {\n",
              "          const element = document.querySelector('#df-160630d1-1322-48b5-8a74-02d1b43e7987');\n",
              "          const dataTable =\n",
              "            await google.colab.kernel.invokeFunction('convertToInteractive',\n",
              "                                                     [key], {});\n",
              "          if (!dataTable) return;\n",
              "\n",
              "          const docLinkHtml = 'Like what you see? Visit the ' +\n",
              "            '<a target=\"_blank\" href=https://colab.research.google.com/notebooks/data_table.ipynb>data table notebook</a>'\n",
              "            + ' to learn more about interactive tables.';\n",
              "          element.innerHTML = '';\n",
              "          dataTable['output_type'] = 'display_data';\n",
              "          await google.colab.output.renderOutput(dataTable, element);\n",
              "          const docLink = document.createElement('div');\n",
              "          docLink.innerHTML = docLinkHtml;\n",
              "          element.appendChild(docLink);\n",
              "        }\n",
              "      </script>\n",
              "    </div>\n",
              "  </div>\n",
              "  "
            ]
          },
          "metadata": {},
          "execution_count": 48
        }
      ]
    },
    {
      "cell_type": "code",
      "source": [
        "dom_F.reset_index(inplace=True)# 인덱스 설정(부문명)\n",
        "dom_F"
      ],
      "metadata": {
        "id": "gEb8DR088S23",
        "outputId": "06ed84ac-a1ff-4442-fddb-8ce47608f593",
        "colab": {
          "base_uri": "https://localhost:8080/",
          "height": 175
        }
      },
      "execution_count": 49,
      "outputs": [
        {
          "output_type": "execute_result",
          "data": {
            "text/plain": [
              "   index   농산품    공산품    서비스   중간수요계      소비     투자     수출   최종수요계    총수요계\n",
              "0    농산품   4.0   31.0   10.0    45.0    15.0   -1.0    1.0    15.0    60.0\n",
              "1    공산품  15.0  588.0  322.0   925.0   138.0  106.0  623.0   867.0  1792.0\n",
              "2    서비스   7.0  243.0  644.0   894.0   997.0  425.0  131.0  1553.0  2447.0\n",
              "3  중간투입계  26.0  862.0  976.0  1864.0  1150.0  530.0  755.0  2435.0  4299.0"
            ],
            "text/html": [
              "\n",
              "  <div id=\"df-5d278a27-5054-4923-800f-934cb16d7a60\">\n",
              "    <div class=\"colab-df-container\">\n",
              "      <div>\n",
              "<style scoped>\n",
              "    .dataframe tbody tr th:only-of-type {\n",
              "        vertical-align: middle;\n",
              "    }\n",
              "\n",
              "    .dataframe tbody tr th {\n",
              "        vertical-align: top;\n",
              "    }\n",
              "\n",
              "    .dataframe thead th {\n",
              "        text-align: right;\n",
              "    }\n",
              "</style>\n",
              "<table border=\"1\" class=\"dataframe\">\n",
              "  <thead>\n",
              "    <tr style=\"text-align: right;\">\n",
              "      <th></th>\n",
              "      <th>index</th>\n",
              "      <th>농산품</th>\n",
              "      <th>공산품</th>\n",
              "      <th>서비스</th>\n",
              "      <th>중간수요계</th>\n",
              "      <th>소비</th>\n",
              "      <th>투자</th>\n",
              "      <th>수출</th>\n",
              "      <th>최종수요계</th>\n",
              "      <th>총수요계</th>\n",
              "    </tr>\n",
              "  </thead>\n",
              "  <tbody>\n",
              "    <tr>\n",
              "      <th>0</th>\n",
              "      <td>농산품</td>\n",
              "      <td>4.0</td>\n",
              "      <td>31.0</td>\n",
              "      <td>10.0</td>\n",
              "      <td>45.0</td>\n",
              "      <td>15.0</td>\n",
              "      <td>-1.0</td>\n",
              "      <td>1.0</td>\n",
              "      <td>15.0</td>\n",
              "      <td>60.0</td>\n",
              "    </tr>\n",
              "    <tr>\n",
              "      <th>1</th>\n",
              "      <td>공산품</td>\n",
              "      <td>15.0</td>\n",
              "      <td>588.0</td>\n",
              "      <td>322.0</td>\n",
              "      <td>925.0</td>\n",
              "      <td>138.0</td>\n",
              "      <td>106.0</td>\n",
              "      <td>623.0</td>\n",
              "      <td>867.0</td>\n",
              "      <td>1792.0</td>\n",
              "    </tr>\n",
              "    <tr>\n",
              "      <th>2</th>\n",
              "      <td>서비스</td>\n",
              "      <td>7.0</td>\n",
              "      <td>243.0</td>\n",
              "      <td>644.0</td>\n",
              "      <td>894.0</td>\n",
              "      <td>997.0</td>\n",
              "      <td>425.0</td>\n",
              "      <td>131.0</td>\n",
              "      <td>1553.0</td>\n",
              "      <td>2447.0</td>\n",
              "    </tr>\n",
              "    <tr>\n",
              "      <th>3</th>\n",
              "      <td>중간투입계</td>\n",
              "      <td>26.0</td>\n",
              "      <td>862.0</td>\n",
              "      <td>976.0</td>\n",
              "      <td>1864.0</td>\n",
              "      <td>1150.0</td>\n",
              "      <td>530.0</td>\n",
              "      <td>755.0</td>\n",
              "      <td>2435.0</td>\n",
              "      <td>4299.0</td>\n",
              "    </tr>\n",
              "  </tbody>\n",
              "</table>\n",
              "</div>\n",
              "      <button class=\"colab-df-convert\" onclick=\"convertToInteractive('df-5d278a27-5054-4923-800f-934cb16d7a60')\"\n",
              "              title=\"Convert this dataframe to an interactive table.\"\n",
              "              style=\"display:none;\">\n",
              "        \n",
              "  <svg xmlns=\"http://www.w3.org/2000/svg\" height=\"24px\"viewBox=\"0 0 24 24\"\n",
              "       width=\"24px\">\n",
              "    <path d=\"M0 0h24v24H0V0z\" fill=\"none\"/>\n",
              "    <path d=\"M18.56 5.44l.94 2.06.94-2.06 2.06-.94-2.06-.94-.94-2.06-.94 2.06-2.06.94zm-11 1L8.5 8.5l.94-2.06 2.06-.94-2.06-.94L8.5 2.5l-.94 2.06-2.06.94zm10 10l.94 2.06.94-2.06 2.06-.94-2.06-.94-.94-2.06-.94 2.06-2.06.94z\"/><path d=\"M17.41 7.96l-1.37-1.37c-.4-.4-.92-.59-1.43-.59-.52 0-1.04.2-1.43.59L10.3 9.45l-7.72 7.72c-.78.78-.78 2.05 0 2.83L4 21.41c.39.39.9.59 1.41.59.51 0 1.02-.2 1.41-.59l7.78-7.78 2.81-2.81c.8-.78.8-2.07 0-2.86zM5.41 20L4 18.59l7.72-7.72 1.47 1.35L5.41 20z\"/>\n",
              "  </svg>\n",
              "      </button>\n",
              "      \n",
              "  <style>\n",
              "    .colab-df-container {\n",
              "      display:flex;\n",
              "      flex-wrap:wrap;\n",
              "      gap: 12px;\n",
              "    }\n",
              "\n",
              "    .colab-df-convert {\n",
              "      background-color: #E8F0FE;\n",
              "      border: none;\n",
              "      border-radius: 50%;\n",
              "      cursor: pointer;\n",
              "      display: none;\n",
              "      fill: #1967D2;\n",
              "      height: 32px;\n",
              "      padding: 0 0 0 0;\n",
              "      width: 32px;\n",
              "    }\n",
              "\n",
              "    .colab-df-convert:hover {\n",
              "      background-color: #E2EBFA;\n",
              "      box-shadow: 0px 1px 2px rgba(60, 64, 67, 0.3), 0px 1px 3px 1px rgba(60, 64, 67, 0.15);\n",
              "      fill: #174EA6;\n",
              "    }\n",
              "\n",
              "    [theme=dark] .colab-df-convert {\n",
              "      background-color: #3B4455;\n",
              "      fill: #D2E3FC;\n",
              "    }\n",
              "\n",
              "    [theme=dark] .colab-df-convert:hover {\n",
              "      background-color: #434B5C;\n",
              "      box-shadow: 0px 1px 3px 1px rgba(0, 0, 0, 0.15);\n",
              "      filter: drop-shadow(0px 1px 2px rgba(0, 0, 0, 0.3));\n",
              "      fill: #FFFFFF;\n",
              "    }\n",
              "  </style>\n",
              "\n",
              "      <script>\n",
              "        const buttonEl =\n",
              "          document.querySelector('#df-5d278a27-5054-4923-800f-934cb16d7a60 button.colab-df-convert');\n",
              "        buttonEl.style.display =\n",
              "          google.colab.kernel.accessAllowed ? 'block' : 'none';\n",
              "\n",
              "        async function convertToInteractive(key) {\n",
              "          const element = document.querySelector('#df-5d278a27-5054-4923-800f-934cb16d7a60');\n",
              "          const dataTable =\n",
              "            await google.colab.kernel.invokeFunction('convertToInteractive',\n",
              "                                                     [key], {});\n",
              "          if (!dataTable) return;\n",
              "\n",
              "          const docLinkHtml = 'Like what you see? Visit the ' +\n",
              "            '<a target=\"_blank\" href=https://colab.research.google.com/notebooks/data_table.ipynb>data table notebook</a>'\n",
              "            + ' to learn more about interactive tables.';\n",
              "          element.innerHTML = '';\n",
              "          dataTable['output_type'] = 'display_data';\n",
              "          await google.colab.output.renderOutput(dataTable, element);\n",
              "          const docLink = document.createElement('div');\n",
              "          docLink.innerHTML = docLinkHtml;\n",
              "          element.appendChild(docLink);\n",
              "        }\n",
              "      </script>\n",
              "    </div>\n",
              "  </div>\n",
              "  "
            ]
          },
          "metadata": {},
          "execution_count": 49
        }
      ]
    },
    {
      "cell_type": "markdown",
      "source": [
        "### 수입거래표"
      ],
      "metadata": {
        "id": "Q0Qz6ySBGHEo"
      }
    },
    {
      "cell_type": "code",
      "source": [
        "\n",
        "url_Im_33 = \"https://raw.githubusercontent.com/Tom-Jung/legendary-funicular/main/2019_%EC%88%98%EC%9E%85%EA%B1%B0%EB%9E%98%ED%91%9C.csv\"  # 33부문의 국산거래표 불러오기\n",
        "Im_33 = pd.read_csv(url_Im_33)\n",
        "Im_33"
      ],
      "metadata": {
        "id": "3UEdsIwkGEVU",
        "outputId": "4bc01ed0-423d-41ae-bfe2-dc4c814da5a8",
        "colab": {
          "base_uri": "https://localhost:8080/",
          "height": 1000
        }
      },
      "execution_count": 50,
      "outputs": [
        {
          "output_type": "execute_result",
          "data": {
            "text/plain": [
              "                     부문  농림수산품  광산품  음식료품  섬유 및 가죽제품  목재 및 종이, 인쇄  석탄 및 석유제품  \\\n",
              "0                 농림수산품      0    0     5          1            0          0   \n",
              "1                   광산품      0    0     0          0            0         77   \n",
              "2                  음식료품      0    0    10          1            0          0   \n",
              "3             섬유 및 가죽제품      0    0     0         11            0          0   \n",
              "4           목재 및 종이, 인쇄      0    0     0          0            5          0   \n",
              "5             석탄 및 석유제품      0    0     0          0            0          3   \n",
              "6                  화학제품      1    0     0          2            0          1   \n",
              "7               비금속광물제품      0    0     0          0            0          0   \n",
              "8               1차 금속제품      0    0     0          0            0          0   \n",
              "9                금속가공제품      0    0     0          0            0          0   \n",
              "10       컴퓨터, 전자 및 광학기기      0    0     0          0            0          0   \n",
              "11                 전기장비      0    0     0          0            0          0   \n",
              "12              기계 및 장비      0    0     0          0            0          0   \n",
              "13                 운송장비      0    0     0          0            0          0   \n",
              "14            기타 제조업 제품      0    0     0          0            0          0   \n",
              "15    제조임가공 및 산업용 장비 수리      0    0     0          7            0          0   \n",
              "16          전력, 가스 및 증기      0    0     0          0            0          0   \n",
              "17   수도, 폐기물처리 및 재활용서비스      0    0     0          0            0          0   \n",
              "18                   건설      0    0     0          0            0          0   \n",
              "19        도소매 및 상품중개서비스      0    0     0          0            0          0   \n",
              "20                운송서비스      0    0     0          0            0          0   \n",
              "21          음식점 및 숙박서비스      0    0     0          0            0          0   \n",
              "22        정보통신 및 방송 서비스      0    0     0          0            0          0   \n",
              "23          금융 및 보험 서비스      0    0     0          0            0          0   \n",
              "24               부동산서비스      0    0     0          0            0          0   \n",
              "25      전문, 과학 및 기술 서비스      0    0     0          0            0          0   \n",
              "26              사업지원서비스      0    0     0          0            0          0   \n",
              "27      공공행정, 국방 및 사회보장      0    0     0          0            0          0   \n",
              "28                교육서비스      0    0     0          0            0          0   \n",
              "29        보건 및 사회복지 서비스      0    0     0          0            0          0   \n",
              "30  예술, 스포츠 및 여가 관련 서비스      0    0     0          0            0          0   \n",
              "31               기타 서비스      0    0     0          0            0          0   \n",
              "32                   기타      0    0     0          0            0          0   \n",
              "33                중간투입계      1    0    15         22            5         81   \n",
              "\n",
              "    화학제품  비금속광물제품  1차 금속제품  ...  중간수요계  민간소비지출\\n(가계 및 가계봉사\\n비영리단체)  정부소비지출  \\\n",
              "0      1        0        0  ...      8                           3       0   \n",
              "1      6        1       23  ...    144                           0       0   \n",
              "2      0        0        0  ...     18                          15       0   \n",
              "3      0        0        0  ...     11                          19       0   \n",
              "4      0        0        0  ...      6                           0       0   \n",
              "5     16        0        0  ...     28                           1       0   \n",
              "6     34        1        0  ...     64                           8       0   \n",
              "7      0        1        0  ...      5                           0       0   \n",
              "8      1        0       21  ...     40                           0       0   \n",
              "9      0        0        0  ...      5                           1       0   \n",
              "10     0        0        0  ...     65                          12       0   \n",
              "11     0        0        0  ...     15                           3       0   \n",
              "12     0        0        0  ...     16                           1       0   \n",
              "13     0        0        0  ...      8                           9       0   \n",
              "14     0        0        0  ...      1                           6       0   \n",
              "15     0        0        0  ...     10                           0       0   \n",
              "16     0        0        0  ...      0                           0       0   \n",
              "17     0        0        0  ...      0                           0       0   \n",
              "18     0        0        0  ...      0                           0       0   \n",
              "19     1        0        0  ...      3                           0       0   \n",
              "20     0        0        0  ...     14                           9       0   \n",
              "21     0        0        0  ...      1                          17       0   \n",
              "22     0        0        0  ...      6                           1       0   \n",
              "23     0        0        0  ...      3                           1       0   \n",
              "24     0        0        0  ...      1                           0       0   \n",
              "25     2        0        1  ...     18                           0       0   \n",
              "26     0        0        0  ...     16                           0       0   \n",
              "27     0        0        0  ...      1                           0       0   \n",
              "28     0        0        0  ...      0                           2       0   \n",
              "29     0        0        0  ...      0                           0       0   \n",
              "30     0        0        0  ...      0                           5       0   \n",
              "31     0        0        0  ...      0                           0       0   \n",
              "32     0        0        0  ...      0                           0       0   \n",
              "33    61        3       45  ...    507                         113       0   \n",
              "\n",
              "    민간고정\\n자본형성  정부고정\\n자본형성  재고증감  귀중품\\n순취득  수출  최종수요계  총수요계  \n",
              "0            0           0     1         0   0      4    12  \n",
              "1            0           0     2         0   0      2   146  \n",
              "2            0           0     0         0   0     15    33  \n",
              "3            0           0     0         0   1     20    31  \n",
              "4            0           0     0         0   0      0     6  \n",
              "5            0           0     0         0   0      1    29  \n",
              "6            0           0     1         0   3     12    76  \n",
              "7            0           0     0         0   0      0     5  \n",
              "8            0           0     0         0   0      0    40  \n",
              "9            0           1     0         0   0      2     7  \n",
              "10          16           3     1         0   1     33    98  \n",
              "11           2           0     0         0   0      5    20  \n",
              "12          20           0     0         0   0     21    37  \n",
              "13          10           3     0         0   0     22    30  \n",
              "14           1           0     0         1   0      8     9  \n",
              "15           0           0     0         0   0      0    10  \n",
              "16           0           0     0         0   0      0     0  \n",
              "17           0           0     0         0   0      0     0  \n",
              "18           0           0     0         0   0      0     0  \n",
              "19           0           0     0         0   0      0     3  \n",
              "20           0           0     0         0   0      9    23  \n",
              "21           0           0     0         0   0     17    18  \n",
              "22           1           0     0         0   0      2     8  \n",
              "23           0           0     0         0   0      1     4  \n",
              "24           0           0     0         0   0      0     1  \n",
              "25           6           0     0         0   0      6    24  \n",
              "26           0           0     0         0   0      0    16  \n",
              "27           0           0     0         0   0      0     1  \n",
              "28           0           0     0         0   0      2     2  \n",
              "29           0           0     0         0   0      0     0  \n",
              "30           0           0     0         0   0      5     5  \n",
              "31           0           0     0         0   0      0     0  \n",
              "32           0           0     0         0   0      0     0  \n",
              "33          56           7     5         1   5    187   694  \n",
              "\n",
              "[34 rows x 44 columns]"
            ],
            "text/html": [
              "\n",
              "  <div id=\"df-2d8a7335-9371-4140-9f92-15329055e275\">\n",
              "    <div class=\"colab-df-container\">\n",
              "      <div>\n",
              "<style scoped>\n",
              "    .dataframe tbody tr th:only-of-type {\n",
              "        vertical-align: middle;\n",
              "    }\n",
              "\n",
              "    .dataframe tbody tr th {\n",
              "        vertical-align: top;\n",
              "    }\n",
              "\n",
              "    .dataframe thead th {\n",
              "        text-align: right;\n",
              "    }\n",
              "</style>\n",
              "<table border=\"1\" class=\"dataframe\">\n",
              "  <thead>\n",
              "    <tr style=\"text-align: right;\">\n",
              "      <th></th>\n",
              "      <th>부문</th>\n",
              "      <th>농림수산품</th>\n",
              "      <th>광산품</th>\n",
              "      <th>음식료품</th>\n",
              "      <th>섬유 및 가죽제품</th>\n",
              "      <th>목재 및 종이, 인쇄</th>\n",
              "      <th>석탄 및 석유제품</th>\n",
              "      <th>화학제품</th>\n",
              "      <th>비금속광물제품</th>\n",
              "      <th>1차 금속제품</th>\n",
              "      <th>...</th>\n",
              "      <th>중간수요계</th>\n",
              "      <th>민간소비지출\\n(가계 및 가계봉사\\n비영리단체)</th>\n",
              "      <th>정부소비지출</th>\n",
              "      <th>민간고정\\n자본형성</th>\n",
              "      <th>정부고정\\n자본형성</th>\n",
              "      <th>재고증감</th>\n",
              "      <th>귀중품\\n순취득</th>\n",
              "      <th>수출</th>\n",
              "      <th>최종수요계</th>\n",
              "      <th>총수요계</th>\n",
              "    </tr>\n",
              "  </thead>\n",
              "  <tbody>\n",
              "    <tr>\n",
              "      <th>0</th>\n",
              "      <td>농림수산품</td>\n",
              "      <td>0</td>\n",
              "      <td>0</td>\n",
              "      <td>5</td>\n",
              "      <td>1</td>\n",
              "      <td>0</td>\n",
              "      <td>0</td>\n",
              "      <td>1</td>\n",
              "      <td>0</td>\n",
              "      <td>0</td>\n",
              "      <td>...</td>\n",
              "      <td>8</td>\n",
              "      <td>3</td>\n",
              "      <td>0</td>\n",
              "      <td>0</td>\n",
              "      <td>0</td>\n",
              "      <td>1</td>\n",
              "      <td>0</td>\n",
              "      <td>0</td>\n",
              "      <td>4</td>\n",
              "      <td>12</td>\n",
              "    </tr>\n",
              "    <tr>\n",
              "      <th>1</th>\n",
              "      <td>광산품</td>\n",
              "      <td>0</td>\n",
              "      <td>0</td>\n",
              "      <td>0</td>\n",
              "      <td>0</td>\n",
              "      <td>0</td>\n",
              "      <td>77</td>\n",
              "      <td>6</td>\n",
              "      <td>1</td>\n",
              "      <td>23</td>\n",
              "      <td>...</td>\n",
              "      <td>144</td>\n",
              "      <td>0</td>\n",
              "      <td>0</td>\n",
              "      <td>0</td>\n",
              "      <td>0</td>\n",
              "      <td>2</td>\n",
              "      <td>0</td>\n",
              "      <td>0</td>\n",
              "      <td>2</td>\n",
              "      <td>146</td>\n",
              "    </tr>\n",
              "    <tr>\n",
              "      <th>2</th>\n",
              "      <td>음식료품</td>\n",
              "      <td>0</td>\n",
              "      <td>0</td>\n",
              "      <td>10</td>\n",
              "      <td>1</td>\n",
              "      <td>0</td>\n",
              "      <td>0</td>\n",
              "      <td>0</td>\n",
              "      <td>0</td>\n",
              "      <td>0</td>\n",
              "      <td>...</td>\n",
              "      <td>18</td>\n",
              "      <td>15</td>\n",
              "      <td>0</td>\n",
              "      <td>0</td>\n",
              "      <td>0</td>\n",
              "      <td>0</td>\n",
              "      <td>0</td>\n",
              "      <td>0</td>\n",
              "      <td>15</td>\n",
              "      <td>33</td>\n",
              "    </tr>\n",
              "    <tr>\n",
              "      <th>3</th>\n",
              "      <td>섬유 및 가죽제품</td>\n",
              "      <td>0</td>\n",
              "      <td>0</td>\n",
              "      <td>0</td>\n",
              "      <td>11</td>\n",
              "      <td>0</td>\n",
              "      <td>0</td>\n",
              "      <td>0</td>\n",
              "      <td>0</td>\n",
              "      <td>0</td>\n",
              "      <td>...</td>\n",
              "      <td>11</td>\n",
              "      <td>19</td>\n",
              "      <td>0</td>\n",
              "      <td>0</td>\n",
              "      <td>0</td>\n",
              "      <td>0</td>\n",
              "      <td>0</td>\n",
              "      <td>1</td>\n",
              "      <td>20</td>\n",
              "      <td>31</td>\n",
              "    </tr>\n",
              "    <tr>\n",
              "      <th>4</th>\n",
              "      <td>목재 및 종이, 인쇄</td>\n",
              "      <td>0</td>\n",
              "      <td>0</td>\n",
              "      <td>0</td>\n",
              "      <td>0</td>\n",
              "      <td>5</td>\n",
              "      <td>0</td>\n",
              "      <td>0</td>\n",
              "      <td>0</td>\n",
              "      <td>0</td>\n",
              "      <td>...</td>\n",
              "      <td>6</td>\n",
              "      <td>0</td>\n",
              "      <td>0</td>\n",
              "      <td>0</td>\n",
              "      <td>0</td>\n",
              "      <td>0</td>\n",
              "      <td>0</td>\n",
              "      <td>0</td>\n",
              "      <td>0</td>\n",
              "      <td>6</td>\n",
              "    </tr>\n",
              "    <tr>\n",
              "      <th>5</th>\n",
              "      <td>석탄 및 석유제품</td>\n",
              "      <td>0</td>\n",
              "      <td>0</td>\n",
              "      <td>0</td>\n",
              "      <td>0</td>\n",
              "      <td>0</td>\n",
              "      <td>3</td>\n",
              "      <td>16</td>\n",
              "      <td>0</td>\n",
              "      <td>0</td>\n",
              "      <td>...</td>\n",
              "      <td>28</td>\n",
              "      <td>1</td>\n",
              "      <td>0</td>\n",
              "      <td>0</td>\n",
              "      <td>0</td>\n",
              "      <td>0</td>\n",
              "      <td>0</td>\n",
              "      <td>0</td>\n",
              "      <td>1</td>\n",
              "      <td>29</td>\n",
              "    </tr>\n",
              "    <tr>\n",
              "      <th>6</th>\n",
              "      <td>화학제품</td>\n",
              "      <td>1</td>\n",
              "      <td>0</td>\n",
              "      <td>0</td>\n",
              "      <td>2</td>\n",
              "      <td>0</td>\n",
              "      <td>1</td>\n",
              "      <td>34</td>\n",
              "      <td>1</td>\n",
              "      <td>0</td>\n",
              "      <td>...</td>\n",
              "      <td>64</td>\n",
              "      <td>8</td>\n",
              "      <td>0</td>\n",
              "      <td>0</td>\n",
              "      <td>0</td>\n",
              "      <td>1</td>\n",
              "      <td>0</td>\n",
              "      <td>3</td>\n",
              "      <td>12</td>\n",
              "      <td>76</td>\n",
              "    </tr>\n",
              "    <tr>\n",
              "      <th>7</th>\n",
              "      <td>비금속광물제품</td>\n",
              "      <td>0</td>\n",
              "      <td>0</td>\n",
              "      <td>0</td>\n",
              "      <td>0</td>\n",
              "      <td>0</td>\n",
              "      <td>0</td>\n",
              "      <td>0</td>\n",
              "      <td>1</td>\n",
              "      <td>0</td>\n",
              "      <td>...</td>\n",
              "      <td>5</td>\n",
              "      <td>0</td>\n",
              "      <td>0</td>\n",
              "      <td>0</td>\n",
              "      <td>0</td>\n",
              "      <td>0</td>\n",
              "      <td>0</td>\n",
              "      <td>0</td>\n",
              "      <td>0</td>\n",
              "      <td>5</td>\n",
              "    </tr>\n",
              "    <tr>\n",
              "      <th>8</th>\n",
              "      <td>1차 금속제품</td>\n",
              "      <td>0</td>\n",
              "      <td>0</td>\n",
              "      <td>0</td>\n",
              "      <td>0</td>\n",
              "      <td>0</td>\n",
              "      <td>0</td>\n",
              "      <td>1</td>\n",
              "      <td>0</td>\n",
              "      <td>21</td>\n",
              "      <td>...</td>\n",
              "      <td>40</td>\n",
              "      <td>0</td>\n",
              "      <td>0</td>\n",
              "      <td>0</td>\n",
              "      <td>0</td>\n",
              "      <td>0</td>\n",
              "      <td>0</td>\n",
              "      <td>0</td>\n",
              "      <td>0</td>\n",
              "      <td>40</td>\n",
              "    </tr>\n",
              "    <tr>\n",
              "      <th>9</th>\n",
              "      <td>금속가공제품</td>\n",
              "      <td>0</td>\n",
              "      <td>0</td>\n",
              "      <td>0</td>\n",
              "      <td>0</td>\n",
              "      <td>0</td>\n",
              "      <td>0</td>\n",
              "      <td>0</td>\n",
              "      <td>0</td>\n",
              "      <td>0</td>\n",
              "      <td>...</td>\n",
              "      <td>5</td>\n",
              "      <td>1</td>\n",
              "      <td>0</td>\n",
              "      <td>0</td>\n",
              "      <td>1</td>\n",
              "      <td>0</td>\n",
              "      <td>0</td>\n",
              "      <td>0</td>\n",
              "      <td>2</td>\n",
              "      <td>7</td>\n",
              "    </tr>\n",
              "    <tr>\n",
              "      <th>10</th>\n",
              "      <td>컴퓨터, 전자 및 광학기기</td>\n",
              "      <td>0</td>\n",
              "      <td>0</td>\n",
              "      <td>0</td>\n",
              "      <td>0</td>\n",
              "      <td>0</td>\n",
              "      <td>0</td>\n",
              "      <td>0</td>\n",
              "      <td>0</td>\n",
              "      <td>0</td>\n",
              "      <td>...</td>\n",
              "      <td>65</td>\n",
              "      <td>12</td>\n",
              "      <td>0</td>\n",
              "      <td>16</td>\n",
              "      <td>3</td>\n",
              "      <td>1</td>\n",
              "      <td>0</td>\n",
              "      <td>1</td>\n",
              "      <td>33</td>\n",
              "      <td>98</td>\n",
              "    </tr>\n",
              "    <tr>\n",
              "      <th>11</th>\n",
              "      <td>전기장비</td>\n",
              "      <td>0</td>\n",
              "      <td>0</td>\n",
              "      <td>0</td>\n",
              "      <td>0</td>\n",
              "      <td>0</td>\n",
              "      <td>0</td>\n",
              "      <td>0</td>\n",
              "      <td>0</td>\n",
              "      <td>0</td>\n",
              "      <td>...</td>\n",
              "      <td>15</td>\n",
              "      <td>3</td>\n",
              "      <td>0</td>\n",
              "      <td>2</td>\n",
              "      <td>0</td>\n",
              "      <td>0</td>\n",
              "      <td>0</td>\n",
              "      <td>0</td>\n",
              "      <td>5</td>\n",
              "      <td>20</td>\n",
              "    </tr>\n",
              "    <tr>\n",
              "      <th>12</th>\n",
              "      <td>기계 및 장비</td>\n",
              "      <td>0</td>\n",
              "      <td>0</td>\n",
              "      <td>0</td>\n",
              "      <td>0</td>\n",
              "      <td>0</td>\n",
              "      <td>0</td>\n",
              "      <td>0</td>\n",
              "      <td>0</td>\n",
              "      <td>0</td>\n",
              "      <td>...</td>\n",
              "      <td>16</td>\n",
              "      <td>1</td>\n",
              "      <td>0</td>\n",
              "      <td>20</td>\n",
              "      <td>0</td>\n",
              "      <td>0</td>\n",
              "      <td>0</td>\n",
              "      <td>0</td>\n",
              "      <td>21</td>\n",
              "      <td>37</td>\n",
              "    </tr>\n",
              "    <tr>\n",
              "      <th>13</th>\n",
              "      <td>운송장비</td>\n",
              "      <td>0</td>\n",
              "      <td>0</td>\n",
              "      <td>0</td>\n",
              "      <td>0</td>\n",
              "      <td>0</td>\n",
              "      <td>0</td>\n",
              "      <td>0</td>\n",
              "      <td>0</td>\n",
              "      <td>0</td>\n",
              "      <td>...</td>\n",
              "      <td>8</td>\n",
              "      <td>9</td>\n",
              "      <td>0</td>\n",
              "      <td>10</td>\n",
              "      <td>3</td>\n",
              "      <td>0</td>\n",
              "      <td>0</td>\n",
              "      <td>0</td>\n",
              "      <td>22</td>\n",
              "      <td>30</td>\n",
              "    </tr>\n",
              "    <tr>\n",
              "      <th>14</th>\n",
              "      <td>기타 제조업 제품</td>\n",
              "      <td>0</td>\n",
              "      <td>0</td>\n",
              "      <td>0</td>\n",
              "      <td>0</td>\n",
              "      <td>0</td>\n",
              "      <td>0</td>\n",
              "      <td>0</td>\n",
              "      <td>0</td>\n",
              "      <td>0</td>\n",
              "      <td>...</td>\n",
              "      <td>1</td>\n",
              "      <td>6</td>\n",
              "      <td>0</td>\n",
              "      <td>1</td>\n",
              "      <td>0</td>\n",
              "      <td>0</td>\n",
              "      <td>1</td>\n",
              "      <td>0</td>\n",
              "      <td>8</td>\n",
              "      <td>9</td>\n",
              "    </tr>\n",
              "    <tr>\n",
              "      <th>15</th>\n",
              "      <td>제조임가공 및 산업용 장비 수리</td>\n",
              "      <td>0</td>\n",
              "      <td>0</td>\n",
              "      <td>0</td>\n",
              "      <td>7</td>\n",
              "      <td>0</td>\n",
              "      <td>0</td>\n",
              "      <td>0</td>\n",
              "      <td>0</td>\n",
              "      <td>0</td>\n",
              "      <td>...</td>\n",
              "      <td>10</td>\n",
              "      <td>0</td>\n",
              "      <td>0</td>\n",
              "      <td>0</td>\n",
              "      <td>0</td>\n",
              "      <td>0</td>\n",
              "      <td>0</td>\n",
              "      <td>0</td>\n",
              "      <td>0</td>\n",
              "      <td>10</td>\n",
              "    </tr>\n",
              "    <tr>\n",
              "      <th>16</th>\n",
              "      <td>전력, 가스 및 증기</td>\n",
              "      <td>0</td>\n",
              "      <td>0</td>\n",
              "      <td>0</td>\n",
              "      <td>0</td>\n",
              "      <td>0</td>\n",
              "      <td>0</td>\n",
              "      <td>0</td>\n",
              "      <td>0</td>\n",
              "      <td>0</td>\n",
              "      <td>...</td>\n",
              "      <td>0</td>\n",
              "      <td>0</td>\n",
              "      <td>0</td>\n",
              "      <td>0</td>\n",
              "      <td>0</td>\n",
              "      <td>0</td>\n",
              "      <td>0</td>\n",
              "      <td>0</td>\n",
              "      <td>0</td>\n",
              "      <td>0</td>\n",
              "    </tr>\n",
              "    <tr>\n",
              "      <th>17</th>\n",
              "      <td>수도, 폐기물처리 및 재활용서비스</td>\n",
              "      <td>0</td>\n",
              "      <td>0</td>\n",
              "      <td>0</td>\n",
              "      <td>0</td>\n",
              "      <td>0</td>\n",
              "      <td>0</td>\n",
              "      <td>0</td>\n",
              "      <td>0</td>\n",
              "      <td>0</td>\n",
              "      <td>...</td>\n",
              "      <td>0</td>\n",
              "      <td>0</td>\n",
              "      <td>0</td>\n",
              "      <td>0</td>\n",
              "      <td>0</td>\n",
              "      <td>0</td>\n",
              "      <td>0</td>\n",
              "      <td>0</td>\n",
              "      <td>0</td>\n",
              "      <td>0</td>\n",
              "    </tr>\n",
              "    <tr>\n",
              "      <th>18</th>\n",
              "      <td>건설</td>\n",
              "      <td>0</td>\n",
              "      <td>0</td>\n",
              "      <td>0</td>\n",
              "      <td>0</td>\n",
              "      <td>0</td>\n",
              "      <td>0</td>\n",
              "      <td>0</td>\n",
              "      <td>0</td>\n",
              "      <td>0</td>\n",
              "      <td>...</td>\n",
              "      <td>0</td>\n",
              "      <td>0</td>\n",
              "      <td>0</td>\n",
              "      <td>0</td>\n",
              "      <td>0</td>\n",
              "      <td>0</td>\n",
              "      <td>0</td>\n",
              "      <td>0</td>\n",
              "      <td>0</td>\n",
              "      <td>0</td>\n",
              "    </tr>\n",
              "    <tr>\n",
              "      <th>19</th>\n",
              "      <td>도소매 및 상품중개서비스</td>\n",
              "      <td>0</td>\n",
              "      <td>0</td>\n",
              "      <td>0</td>\n",
              "      <td>0</td>\n",
              "      <td>0</td>\n",
              "      <td>0</td>\n",
              "      <td>1</td>\n",
              "      <td>0</td>\n",
              "      <td>0</td>\n",
              "      <td>...</td>\n",
              "      <td>3</td>\n",
              "      <td>0</td>\n",
              "      <td>0</td>\n",
              "      <td>0</td>\n",
              "      <td>0</td>\n",
              "      <td>0</td>\n",
              "      <td>0</td>\n",
              "      <td>0</td>\n",
              "      <td>0</td>\n",
              "      <td>3</td>\n",
              "    </tr>\n",
              "    <tr>\n",
              "      <th>20</th>\n",
              "      <td>운송서비스</td>\n",
              "      <td>0</td>\n",
              "      <td>0</td>\n",
              "      <td>0</td>\n",
              "      <td>0</td>\n",
              "      <td>0</td>\n",
              "      <td>0</td>\n",
              "      <td>0</td>\n",
              "      <td>0</td>\n",
              "      <td>0</td>\n",
              "      <td>...</td>\n",
              "      <td>14</td>\n",
              "      <td>9</td>\n",
              "      <td>0</td>\n",
              "      <td>0</td>\n",
              "      <td>0</td>\n",
              "      <td>0</td>\n",
              "      <td>0</td>\n",
              "      <td>0</td>\n",
              "      <td>9</td>\n",
              "      <td>23</td>\n",
              "    </tr>\n",
              "    <tr>\n",
              "      <th>21</th>\n",
              "      <td>음식점 및 숙박서비스</td>\n",
              "      <td>0</td>\n",
              "      <td>0</td>\n",
              "      <td>0</td>\n",
              "      <td>0</td>\n",
              "      <td>0</td>\n",
              "      <td>0</td>\n",
              "      <td>0</td>\n",
              "      <td>0</td>\n",
              "      <td>0</td>\n",
              "      <td>...</td>\n",
              "      <td>1</td>\n",
              "      <td>17</td>\n",
              "      <td>0</td>\n",
              "      <td>0</td>\n",
              "      <td>0</td>\n",
              "      <td>0</td>\n",
              "      <td>0</td>\n",
              "      <td>0</td>\n",
              "      <td>17</td>\n",
              "      <td>18</td>\n",
              "    </tr>\n",
              "    <tr>\n",
              "      <th>22</th>\n",
              "      <td>정보통신 및 방송 서비스</td>\n",
              "      <td>0</td>\n",
              "      <td>0</td>\n",
              "      <td>0</td>\n",
              "      <td>0</td>\n",
              "      <td>0</td>\n",
              "      <td>0</td>\n",
              "      <td>0</td>\n",
              "      <td>0</td>\n",
              "      <td>0</td>\n",
              "      <td>...</td>\n",
              "      <td>6</td>\n",
              "      <td>1</td>\n",
              "      <td>0</td>\n",
              "      <td>1</td>\n",
              "      <td>0</td>\n",
              "      <td>0</td>\n",
              "      <td>0</td>\n",
              "      <td>0</td>\n",
              "      <td>2</td>\n",
              "      <td>8</td>\n",
              "    </tr>\n",
              "    <tr>\n",
              "      <th>23</th>\n",
              "      <td>금융 및 보험 서비스</td>\n",
              "      <td>0</td>\n",
              "      <td>0</td>\n",
              "      <td>0</td>\n",
              "      <td>0</td>\n",
              "      <td>0</td>\n",
              "      <td>0</td>\n",
              "      <td>0</td>\n",
              "      <td>0</td>\n",
              "      <td>0</td>\n",
              "      <td>...</td>\n",
              "      <td>3</td>\n",
              "      <td>1</td>\n",
              "      <td>0</td>\n",
              "      <td>0</td>\n",
              "      <td>0</td>\n",
              "      <td>0</td>\n",
              "      <td>0</td>\n",
              "      <td>0</td>\n",
              "      <td>1</td>\n",
              "      <td>4</td>\n",
              "    </tr>\n",
              "    <tr>\n",
              "      <th>24</th>\n",
              "      <td>부동산서비스</td>\n",
              "      <td>0</td>\n",
              "      <td>0</td>\n",
              "      <td>0</td>\n",
              "      <td>0</td>\n",
              "      <td>0</td>\n",
              "      <td>0</td>\n",
              "      <td>0</td>\n",
              "      <td>0</td>\n",
              "      <td>0</td>\n",
              "      <td>...</td>\n",
              "      <td>1</td>\n",
              "      <td>0</td>\n",
              "      <td>0</td>\n",
              "      <td>0</td>\n",
              "      <td>0</td>\n",
              "      <td>0</td>\n",
              "      <td>0</td>\n",
              "      <td>0</td>\n",
              "      <td>0</td>\n",
              "      <td>1</td>\n",
              "    </tr>\n",
              "    <tr>\n",
              "      <th>25</th>\n",
              "      <td>전문, 과학 및 기술 서비스</td>\n",
              "      <td>0</td>\n",
              "      <td>0</td>\n",
              "      <td>0</td>\n",
              "      <td>0</td>\n",
              "      <td>0</td>\n",
              "      <td>0</td>\n",
              "      <td>2</td>\n",
              "      <td>0</td>\n",
              "      <td>1</td>\n",
              "      <td>...</td>\n",
              "      <td>18</td>\n",
              "      <td>0</td>\n",
              "      <td>0</td>\n",
              "      <td>6</td>\n",
              "      <td>0</td>\n",
              "      <td>0</td>\n",
              "      <td>0</td>\n",
              "      <td>0</td>\n",
              "      <td>6</td>\n",
              "      <td>24</td>\n",
              "    </tr>\n",
              "    <tr>\n",
              "      <th>26</th>\n",
              "      <td>사업지원서비스</td>\n",
              "      <td>0</td>\n",
              "      <td>0</td>\n",
              "      <td>0</td>\n",
              "      <td>0</td>\n",
              "      <td>0</td>\n",
              "      <td>0</td>\n",
              "      <td>0</td>\n",
              "      <td>0</td>\n",
              "      <td>0</td>\n",
              "      <td>...</td>\n",
              "      <td>16</td>\n",
              "      <td>0</td>\n",
              "      <td>0</td>\n",
              "      <td>0</td>\n",
              "      <td>0</td>\n",
              "      <td>0</td>\n",
              "      <td>0</td>\n",
              "      <td>0</td>\n",
              "      <td>0</td>\n",
              "      <td>16</td>\n",
              "    </tr>\n",
              "    <tr>\n",
              "      <th>27</th>\n",
              "      <td>공공행정, 국방 및 사회보장</td>\n",
              "      <td>0</td>\n",
              "      <td>0</td>\n",
              "      <td>0</td>\n",
              "      <td>0</td>\n",
              "      <td>0</td>\n",
              "      <td>0</td>\n",
              "      <td>0</td>\n",
              "      <td>0</td>\n",
              "      <td>0</td>\n",
              "      <td>...</td>\n",
              "      <td>1</td>\n",
              "      <td>0</td>\n",
              "      <td>0</td>\n",
              "      <td>0</td>\n",
              "      <td>0</td>\n",
              "      <td>0</td>\n",
              "      <td>0</td>\n",
              "      <td>0</td>\n",
              "      <td>0</td>\n",
              "      <td>1</td>\n",
              "    </tr>\n",
              "    <tr>\n",
              "      <th>28</th>\n",
              "      <td>교육서비스</td>\n",
              "      <td>0</td>\n",
              "      <td>0</td>\n",
              "      <td>0</td>\n",
              "      <td>0</td>\n",
              "      <td>0</td>\n",
              "      <td>0</td>\n",
              "      <td>0</td>\n",
              "      <td>0</td>\n",
              "      <td>0</td>\n",
              "      <td>...</td>\n",
              "      <td>0</td>\n",
              "      <td>2</td>\n",
              "      <td>0</td>\n",
              "      <td>0</td>\n",
              "      <td>0</td>\n",
              "      <td>0</td>\n",
              "      <td>0</td>\n",
              "      <td>0</td>\n",
              "      <td>2</td>\n",
              "      <td>2</td>\n",
              "    </tr>\n",
              "    <tr>\n",
              "      <th>29</th>\n",
              "      <td>보건 및 사회복지 서비스</td>\n",
              "      <td>0</td>\n",
              "      <td>0</td>\n",
              "      <td>0</td>\n",
              "      <td>0</td>\n",
              "      <td>0</td>\n",
              "      <td>0</td>\n",
              "      <td>0</td>\n",
              "      <td>0</td>\n",
              "      <td>0</td>\n",
              "      <td>...</td>\n",
              "      <td>0</td>\n",
              "      <td>0</td>\n",
              "      <td>0</td>\n",
              "      <td>0</td>\n",
              "      <td>0</td>\n",
              "      <td>0</td>\n",
              "      <td>0</td>\n",
              "      <td>0</td>\n",
              "      <td>0</td>\n",
              "      <td>0</td>\n",
              "    </tr>\n",
              "    <tr>\n",
              "      <th>30</th>\n",
              "      <td>예술, 스포츠 및 여가 관련 서비스</td>\n",
              "      <td>0</td>\n",
              "      <td>0</td>\n",
              "      <td>0</td>\n",
              "      <td>0</td>\n",
              "      <td>0</td>\n",
              "      <td>0</td>\n",
              "      <td>0</td>\n",
              "      <td>0</td>\n",
              "      <td>0</td>\n",
              "      <td>...</td>\n",
              "      <td>0</td>\n",
              "      <td>5</td>\n",
              "      <td>0</td>\n",
              "      <td>0</td>\n",
              "      <td>0</td>\n",
              "      <td>0</td>\n",
              "      <td>0</td>\n",
              "      <td>0</td>\n",
              "      <td>5</td>\n",
              "      <td>5</td>\n",
              "    </tr>\n",
              "    <tr>\n",
              "      <th>31</th>\n",
              "      <td>기타 서비스</td>\n",
              "      <td>0</td>\n",
              "      <td>0</td>\n",
              "      <td>0</td>\n",
              "      <td>0</td>\n",
              "      <td>0</td>\n",
              "      <td>0</td>\n",
              "      <td>0</td>\n",
              "      <td>0</td>\n",
              "      <td>0</td>\n",
              "      <td>...</td>\n",
              "      <td>0</td>\n",
              "      <td>0</td>\n",
              "      <td>0</td>\n",
              "      <td>0</td>\n",
              "      <td>0</td>\n",
              "      <td>0</td>\n",
              "      <td>0</td>\n",
              "      <td>0</td>\n",
              "      <td>0</td>\n",
              "      <td>0</td>\n",
              "    </tr>\n",
              "    <tr>\n",
              "      <th>32</th>\n",
              "      <td>기타</td>\n",
              "      <td>0</td>\n",
              "      <td>0</td>\n",
              "      <td>0</td>\n",
              "      <td>0</td>\n",
              "      <td>0</td>\n",
              "      <td>0</td>\n",
              "      <td>0</td>\n",
              "      <td>0</td>\n",
              "      <td>0</td>\n",
              "      <td>...</td>\n",
              "      <td>0</td>\n",
              "      <td>0</td>\n",
              "      <td>0</td>\n",
              "      <td>0</td>\n",
              "      <td>0</td>\n",
              "      <td>0</td>\n",
              "      <td>0</td>\n",
              "      <td>0</td>\n",
              "      <td>0</td>\n",
              "      <td>0</td>\n",
              "    </tr>\n",
              "    <tr>\n",
              "      <th>33</th>\n",
              "      <td>중간투입계</td>\n",
              "      <td>1</td>\n",
              "      <td>0</td>\n",
              "      <td>15</td>\n",
              "      <td>22</td>\n",
              "      <td>5</td>\n",
              "      <td>81</td>\n",
              "      <td>61</td>\n",
              "      <td>3</td>\n",
              "      <td>45</td>\n",
              "      <td>...</td>\n",
              "      <td>507</td>\n",
              "      <td>113</td>\n",
              "      <td>0</td>\n",
              "      <td>56</td>\n",
              "      <td>7</td>\n",
              "      <td>5</td>\n",
              "      <td>1</td>\n",
              "      <td>5</td>\n",
              "      <td>187</td>\n",
              "      <td>694</td>\n",
              "    </tr>\n",
              "  </tbody>\n",
              "</table>\n",
              "<p>34 rows × 44 columns</p>\n",
              "</div>\n",
              "      <button class=\"colab-df-convert\" onclick=\"convertToInteractive('df-2d8a7335-9371-4140-9f92-15329055e275')\"\n",
              "              title=\"Convert this dataframe to an interactive table.\"\n",
              "              style=\"display:none;\">\n",
              "        \n",
              "  <svg xmlns=\"http://www.w3.org/2000/svg\" height=\"24px\"viewBox=\"0 0 24 24\"\n",
              "       width=\"24px\">\n",
              "    <path d=\"M0 0h24v24H0V0z\" fill=\"none\"/>\n",
              "    <path d=\"M18.56 5.44l.94 2.06.94-2.06 2.06-.94-2.06-.94-.94-2.06-.94 2.06-2.06.94zm-11 1L8.5 8.5l.94-2.06 2.06-.94-2.06-.94L8.5 2.5l-.94 2.06-2.06.94zm10 10l.94 2.06.94-2.06 2.06-.94-2.06-.94-.94-2.06-.94 2.06-2.06.94z\"/><path d=\"M17.41 7.96l-1.37-1.37c-.4-.4-.92-.59-1.43-.59-.52 0-1.04.2-1.43.59L10.3 9.45l-7.72 7.72c-.78.78-.78 2.05 0 2.83L4 21.41c.39.39.9.59 1.41.59.51 0 1.02-.2 1.41-.59l7.78-7.78 2.81-2.81c.8-.78.8-2.07 0-2.86zM5.41 20L4 18.59l7.72-7.72 1.47 1.35L5.41 20z\"/>\n",
              "  </svg>\n",
              "      </button>\n",
              "      \n",
              "  <style>\n",
              "    .colab-df-container {\n",
              "      display:flex;\n",
              "      flex-wrap:wrap;\n",
              "      gap: 12px;\n",
              "    }\n",
              "\n",
              "    .colab-df-convert {\n",
              "      background-color: #E8F0FE;\n",
              "      border: none;\n",
              "      border-radius: 50%;\n",
              "      cursor: pointer;\n",
              "      display: none;\n",
              "      fill: #1967D2;\n",
              "      height: 32px;\n",
              "      padding: 0 0 0 0;\n",
              "      width: 32px;\n",
              "    }\n",
              "\n",
              "    .colab-df-convert:hover {\n",
              "      background-color: #E2EBFA;\n",
              "      box-shadow: 0px 1px 2px rgba(60, 64, 67, 0.3), 0px 1px 3px 1px rgba(60, 64, 67, 0.15);\n",
              "      fill: #174EA6;\n",
              "    }\n",
              "\n",
              "    [theme=dark] .colab-df-convert {\n",
              "      background-color: #3B4455;\n",
              "      fill: #D2E3FC;\n",
              "    }\n",
              "\n",
              "    [theme=dark] .colab-df-convert:hover {\n",
              "      background-color: #434B5C;\n",
              "      box-shadow: 0px 1px 3px 1px rgba(0, 0, 0, 0.15);\n",
              "      filter: drop-shadow(0px 1px 2px rgba(0, 0, 0, 0.3));\n",
              "      fill: #FFFFFF;\n",
              "    }\n",
              "  </style>\n",
              "\n",
              "      <script>\n",
              "        const buttonEl =\n",
              "          document.querySelector('#df-2d8a7335-9371-4140-9f92-15329055e275 button.colab-df-convert');\n",
              "        buttonEl.style.display =\n",
              "          google.colab.kernel.accessAllowed ? 'block' : 'none';\n",
              "\n",
              "        async function convertToInteractive(key) {\n",
              "          const element = document.querySelector('#df-2d8a7335-9371-4140-9f92-15329055e275');\n",
              "          const dataTable =\n",
              "            await google.colab.kernel.invokeFunction('convertToInteractive',\n",
              "                                                     [key], {});\n",
              "          if (!dataTable) return;\n",
              "\n",
              "          const docLinkHtml = 'Like what you see? Visit the ' +\n",
              "            '<a target=\"_blank\" href=https://colab.research.google.com/notebooks/data_table.ipynb>data table notebook</a>'\n",
              "            + ' to learn more about interactive tables.';\n",
              "          element.innerHTML = '';\n",
              "          dataTable['output_type'] = 'display_data';\n",
              "          await google.colab.output.renderOutput(dataTable, element);\n",
              "          const docLink = document.createElement('div');\n",
              "          docLink.innerHTML = docLinkHtml;\n",
              "          element.appendChild(docLink);\n",
              "        }\n",
              "      </script>\n",
              "    </div>\n",
              "  </div>\n",
              "  "
            ]
          },
          "metadata": {},
          "execution_count": 50
        }
      ]
    },
    {
      "cell_type": "code",
      "source": [
        "Imm_33 = Im_33.to_numpy()\n",
        "Imp_33 = Imm_33[0:34,1:53].astype(float)"
      ],
      "metadata": {
        "id": "G_YKIL7jGEX8"
      },
      "execution_count": 51,
      "outputs": []
    },
    {
      "cell_type": "code",
      "source": [
        "nae_imp_row = code@Imp_33[0:33,0:33] # 중간투입(수요)의 행을 3부문으로 만들기\n",
        "nae_imp_row"
      ],
      "metadata": {
        "id": "4MqZ7GIaGEaa",
        "outputId": "d9248d82-d5f8-4ec5-ce19-ef63e6fbb14b",
        "colab": {
          "base_uri": "https://localhost:8080/"
        }
      },
      "execution_count": 52,
      "outputs": [
        {
          "output_type": "execute_result",
          "data": {
            "text/plain": [
              "array([[ 0.,  0.,  5.,  1.,  0.,  0.,  1.,  0.,  0.,  0.,  0.,  0.,  0.,\n",
              "         0.,  0.,  0.,  0.,  0.,  0.,  0.,  0.,  1.,  0.,  0.,  0.,  0.,\n",
              "         0.,  0.,  0.,  0.,  0.,  0.,  0.],\n",
              "       [ 1.,  0., 10., 21.,  5., 81., 57.,  3., 44.,  5., 72., 16., 17.,\n",
              "        22.,  3.,  0., 38.,  0.,  8.,  2.,  8.,  8.,  4.,  0.,  0.,  3.,\n",
              "         0.,  0.,  0.,  8.,  0.,  0.,  0.],\n",
              "       [ 0.,  0.,  0.,  0.,  0.,  0.,  3.,  0.,  1.,  0.,  4.,  1.,  1.,\n",
              "         4.,  0.,  0.,  0.,  0.,  1.,  6., 20.,  0.,  7.,  6.,  1.,  3.,\n",
              "         2.,  3.,  0.,  0.,  0.,  0.,  0.]])"
            ]
          },
          "metadata": {},
          "execution_count": 52
        }
      ]
    },
    {
      "cell_type": "code",
      "source": [
        "nae_imp_row.shape  # 행과 열의 개수 확인"
      ],
      "metadata": {
        "id": "HK8sZ7PTGEck",
        "outputId": "c780613d-9819-4a69-efc9-9ea74f030f6b",
        "colab": {
          "base_uri": "https://localhost:8080/"
        }
      },
      "execution_count": 53,
      "outputs": [
        {
          "output_type": "execute_result",
          "data": {
            "text/plain": [
              "(3, 33)"
            ]
          },
          "metadata": {},
          "execution_count": 53
        }
      ]
    },
    {
      "cell_type": "code",
      "source": [
        "nae_imp_col = nae_imp_row@code.T  # 수작업한 code 이용\n",
        "nae_imp_col"
      ],
      "metadata": {
        "id": "q7JwgjizGEex",
        "outputId": "b68a0293-6f22-4b47-8cad-fc2edea48100",
        "colab": {
          "base_uri": "https://localhost:8080/"
        }
      },
      "execution_count": 54,
      "outputs": [
        {
          "output_type": "execute_result",
          "data": {
            "text/plain": [
              "array([[  0.,   7.,   1.],\n",
              "       [  1., 356.,  79.],\n",
              "       [  0.,  14.,  49.]])"
            ]
          },
          "metadata": {},
          "execution_count": 54
        }
      ]
    },
    {
      "cell_type": "code",
      "source": [
        "nae_imp_col.shape  # 행과 열의 개수 확인"
      ],
      "metadata": {
        "id": "G5I-RsgbGEhG",
        "outputId": "8c0595ee-3059-40a1-d6c2-066bf1b4a9dd",
        "colab": {
          "base_uri": "https://localhost:8080/"
        }
      },
      "execution_count": 55,
      "outputs": [
        {
          "output_type": "execute_result",
          "data": {
            "text/plain": [
              "(3, 3)"
            ]
          },
          "metadata": {},
          "execution_count": 55
        }
      ]
    },
    {
      "cell_type": "code",
      "source": [
        "nae_imp_col.sum()"
      ],
      "metadata": {
        "id": "MG7cCmjtGEjV",
        "outputId": "0b02a43d-0108-4717-cc2b-c2a2ba3ec546",
        "colab": {
          "base_uri": "https://localhost:8080/"
        }
      },
      "execution_count": 56,
      "outputs": [
        {
          "output_type": "execute_result",
          "data": {
            "text/plain": [
              "507.0"
            ]
          },
          "metadata": {},
          "execution_count": 56
        }
      ]
    },
    {
      "cell_type": "code",
      "source": [
        "ism_row = Imp_33[33:34,0:33]@code.T # 중투합\n",
        "ism_row"
      ],
      "metadata": {
        "id": "Ai6O2HLLGEls",
        "outputId": "2a16d0a8-6ab9-45da-8590-895f6ac03f93",
        "colab": {
          "base_uri": "https://localhost:8080/"
        }
      },
      "execution_count": 57,
      "outputs": [
        {
          "output_type": "execute_result",
          "data": {
            "text/plain": [
              "array([[  1., 377., 129.]])"
            ]
          },
          "metadata": {},
          "execution_count": 57
        }
      ]
    },
    {
      "cell_type": "code",
      "source": [
        "ism_row.shape"
      ],
      "metadata": {
        "id": "dS_d0VMgGEn4",
        "outputId": "87036242-d0e7-43b3-ddf3-b2d6b1058e96",
        "colab": {
          "base_uri": "https://localhost:8080/"
        }
      },
      "execution_count": 58,
      "outputs": [
        {
          "output_type": "execute_result",
          "data": {
            "text/plain": [
              "(1, 3)"
            ]
          },
          "metadata": {},
          "execution_count": 58
        }
      ]
    },
    {
      "cell_type": "code",
      "source": [
        "ifd = Imp_33[0:33, 34:45]\n",
        "ifd"
      ],
      "metadata": {
        "id": "7tf90qjqGEqR",
        "outputId": "2f94923b-803a-4297-cbfa-d858063daa6f",
        "colab": {
          "base_uri": "https://localhost:8080/"
        }
      },
      "execution_count": 59,
      "outputs": [
        {
          "output_type": "execute_result",
          "data": {
            "text/plain": [
              "array([[  3.,   0.,   0.,   0.,   1.,   0.,   0.,   4.,  12.],\n",
              "       [  0.,   0.,   0.,   0.,   2.,   0.,   0.,   2., 146.],\n",
              "       [ 15.,   0.,   0.,   0.,   0.,   0.,   0.,  15.,  33.],\n",
              "       [ 19.,   0.,   0.,   0.,   0.,   0.,   1.,  20.,  31.],\n",
              "       [  0.,   0.,   0.,   0.,   0.,   0.,   0.,   0.,   6.],\n",
              "       [  1.,   0.,   0.,   0.,   0.,   0.,   0.,   1.,  29.],\n",
              "       [  8.,   0.,   0.,   0.,   1.,   0.,   3.,  12.,  76.],\n",
              "       [  0.,   0.,   0.,   0.,   0.,   0.,   0.,   0.,   5.],\n",
              "       [  0.,   0.,   0.,   0.,   0.,   0.,   0.,   0.,  40.],\n",
              "       [  1.,   0.,   0.,   1.,   0.,   0.,   0.,   2.,   7.],\n",
              "       [ 12.,   0.,  16.,   3.,   1.,   0.,   1.,  33.,  98.],\n",
              "       [  3.,   0.,   2.,   0.,   0.,   0.,   0.,   5.,  20.],\n",
              "       [  1.,   0.,  20.,   0.,   0.,   0.,   0.,  21.,  37.],\n",
              "       [  9.,   0.,  10.,   3.,   0.,   0.,   0.,  22.,  30.],\n",
              "       [  6.,   0.,   1.,   0.,   0.,   1.,   0.,   8.,   9.],\n",
              "       [  0.,   0.,   0.,   0.,   0.,   0.,   0.,   0.,  10.],\n",
              "       [  0.,   0.,   0.,   0.,   0.,   0.,   0.,   0.,   0.],\n",
              "       [  0.,   0.,   0.,   0.,   0.,   0.,   0.,   0.,   0.],\n",
              "       [  0.,   0.,   0.,   0.,   0.,   0.,   0.,   0.,   0.],\n",
              "       [  0.,   0.,   0.,   0.,   0.,   0.,   0.,   0.,   3.],\n",
              "       [  9.,   0.,   0.,   0.,   0.,   0.,   0.,   9.,  23.],\n",
              "       [ 17.,   0.,   0.,   0.,   0.,   0.,   0.,  17.,  18.],\n",
              "       [  1.,   0.,   1.,   0.,   0.,   0.,   0.,   2.,   8.],\n",
              "       [  1.,   0.,   0.,   0.,   0.,   0.,   0.,   1.,   4.],\n",
              "       [  0.,   0.,   0.,   0.,   0.,   0.,   0.,   0.,   1.],\n",
              "       [  0.,   0.,   6.,   0.,   0.,   0.,   0.,   6.,  24.],\n",
              "       [  0.,   0.,   0.,   0.,   0.,   0.,   0.,   0.,  16.],\n",
              "       [  0.,   0.,   0.,   0.,   0.,   0.,   0.,   0.,   1.],\n",
              "       [  2.,   0.,   0.,   0.,   0.,   0.,   0.,   2.,   2.],\n",
              "       [  0.,   0.,   0.,   0.,   0.,   0.,   0.,   0.,   0.],\n",
              "       [  5.,   0.,   0.,   0.,   0.,   0.,   0.,   5.,   5.],\n",
              "       [  0.,   0.,   0.,   0.,   0.,   0.,   0.,   0.,   0.],\n",
              "       [  0.,   0.,   0.,   0.,   0.,   0.,   0.,   0.,   0.]])"
            ]
          },
          "metadata": {},
          "execution_count": 59
        }
      ]
    },
    {
      "cell_type": "code",
      "source": [
        "ifd_row=code@ifd@fd_cd.T"
      ],
      "metadata": {
        "id": "pO9lCldYGEsf"
      },
      "execution_count": 60,
      "outputs": []
    },
    {
      "cell_type": "code",
      "source": [
        "ifd_row_sm = np.sum((ifd_row), axis=0) # 최종수요의 행합"
      ],
      "metadata": {
        "id": "Z-RubqPPGEuj"
      },
      "execution_count": 61,
      "outputs": []
    },
    {
      "cell_type": "code",
      "source": [
        "ifd_sm=ifd_row_sm.reshape(1,5)\n",
        "ifd_sm"
      ],
      "metadata": {
        "id": "zo1I5vkGGEwz",
        "outputId": "0dc1cd79-fc5d-4fba-edc2-0e6c6f8ffbb0",
        "colab": {
          "base_uri": "https://localhost:8080/"
        }
      },
      "execution_count": 62,
      "outputs": [
        {
          "output_type": "execute_result",
          "data": {
            "text/plain": [
              "array([[113.,  69.,   5., 187., 694.]])"
            ]
          },
          "metadata": {},
          "execution_count": 62
        }
      ]
    },
    {
      "cell_type": "code",
      "source": [
        "nae_im = np.concatenate((nae_imp_col, ism_row)) # 중간투입(수요)와 부가가치 및 산출액 합치기\n",
        "nae_im"
      ],
      "metadata": {
        "id": "J4-ZGF9lGEzW",
        "outputId": "9d0623c1-88e1-4dbd-af0a-bbf97adb3bfc",
        "colab": {
          "base_uri": "https://localhost:8080/"
        }
      },
      "execution_count": 63,
      "outputs": [
        {
          "output_type": "execute_result",
          "data": {
            "text/plain": [
              "array([[  0.,   7.,   1.],\n",
              "       [  1., 356.,  79.],\n",
              "       [  0.,  14.,  49.],\n",
              "       [  1., 377., 129.]])"
            ]
          },
          "metadata": {},
          "execution_count": 63
        }
      ]
    },
    {
      "cell_type": "code",
      "source": [
        "nae_col_sm_imp = nae_im.sum(axis=1).reshape(4,1)  # 중간투입(수요)와 행합"
      ],
      "metadata": {
        "id": "oRx1OZxoGE1v"
      },
      "execution_count": 64,
      "outputs": []
    },
    {
      "cell_type": "code",
      "source": [
        "\n",
        "nae_im_sm = nae_col_sm_imp.sum(axis=1).reshape(4,1)  # 부가가치 및 산출액의 열합"
      ],
      "metadata": {
        "id": "6X3AeIxCGE30"
      },
      "execution_count": 65,
      "outputs": []
    },
    {
      "cell_type": "code",
      "source": [
        "ifd_nnull = np.concatenate((ifd_row, ifd_sm),axis=0)  #   최종수요 및 최종수요 행합 합치기"
      ],
      "metadata": {
        "id": "zm_zFqZXGE6B"
      },
      "execution_count": 66,
      "outputs": []
    },
    {
      "cell_type": "code",
      "source": [
        "imp_f = np.concatenate((nae_im, nae_im_sm, ifd_nnull), axis=1)  # 최종 3x3 부문통합된 거래표\n",
        "imp_f"
      ],
      "metadata": {
        "id": "7rwJrwZ2GE8U",
        "outputId": "961dec4d-f40c-414c-8985-baf87d314498",
        "colab": {
          "base_uri": "https://localhost:8080/"
        }
      },
      "execution_count": 67,
      "outputs": [
        {
          "output_type": "execute_result",
          "data": {
            "text/plain": [
              "array([[  0.,   7.,   1.,   8.,   3.,   1.,   0.,   4.,  12.],\n",
              "       [  1., 356.,  79., 436.,  75.,  61.,   5., 141., 577.],\n",
              "       [  0.,  14.,  49.,  63.,  35.,   7.,   0.,  42., 105.],\n",
              "       [  1., 377., 129., 507., 113.,  69.,   5., 187., 694.]])"
            ]
          },
          "metadata": {},
          "execution_count": 67
        }
      ]
    },
    {
      "cell_type": "code",
      "source": [
        "imp_F = pd.DataFrame(imp_f, columns = ['농산품', '공산품', '서비스', '중간수요계', '소비','투자', '수출', '최종수요계', '총수요계'],\n",
        "                     index=['농산품', '공산품', '서비스', '중간투입계']) # 변수명 붙여서 pandas로 내보내기\n",
        "imp_F"
      ],
      "metadata": {
        "id": "_5jtRSGjGE-T",
        "outputId": "afa901cd-d69f-4ddd-e9ef-94fb97ed5079",
        "colab": {
          "base_uri": "https://localhost:8080/",
          "height": 175
        }
      },
      "execution_count": 68,
      "outputs": [
        {
          "output_type": "execute_result",
          "data": {
            "text/plain": [
              "       농산품    공산품    서비스  중간수요계     소비    투자   수출  최종수요계   총수요계\n",
              "농산품    0.0    7.0    1.0    8.0    3.0   1.0  0.0    4.0   12.0\n",
              "공산품    1.0  356.0   79.0  436.0   75.0  61.0  5.0  141.0  577.0\n",
              "서비스    0.0   14.0   49.0   63.0   35.0   7.0  0.0   42.0  105.0\n",
              "중간투입계  1.0  377.0  129.0  507.0  113.0  69.0  5.0  187.0  694.0"
            ],
            "text/html": [
              "\n",
              "  <div id=\"df-4d6f7acf-dfd6-4897-ba48-ee1480688c6c\">\n",
              "    <div class=\"colab-df-container\">\n",
              "      <div>\n",
              "<style scoped>\n",
              "    .dataframe tbody tr th:only-of-type {\n",
              "        vertical-align: middle;\n",
              "    }\n",
              "\n",
              "    .dataframe tbody tr th {\n",
              "        vertical-align: top;\n",
              "    }\n",
              "\n",
              "    .dataframe thead th {\n",
              "        text-align: right;\n",
              "    }\n",
              "</style>\n",
              "<table border=\"1\" class=\"dataframe\">\n",
              "  <thead>\n",
              "    <tr style=\"text-align: right;\">\n",
              "      <th></th>\n",
              "      <th>농산품</th>\n",
              "      <th>공산품</th>\n",
              "      <th>서비스</th>\n",
              "      <th>중간수요계</th>\n",
              "      <th>소비</th>\n",
              "      <th>투자</th>\n",
              "      <th>수출</th>\n",
              "      <th>최종수요계</th>\n",
              "      <th>총수요계</th>\n",
              "    </tr>\n",
              "  </thead>\n",
              "  <tbody>\n",
              "    <tr>\n",
              "      <th>농산품</th>\n",
              "      <td>0.0</td>\n",
              "      <td>7.0</td>\n",
              "      <td>1.0</td>\n",
              "      <td>8.0</td>\n",
              "      <td>3.0</td>\n",
              "      <td>1.0</td>\n",
              "      <td>0.0</td>\n",
              "      <td>4.0</td>\n",
              "      <td>12.0</td>\n",
              "    </tr>\n",
              "    <tr>\n",
              "      <th>공산품</th>\n",
              "      <td>1.0</td>\n",
              "      <td>356.0</td>\n",
              "      <td>79.0</td>\n",
              "      <td>436.0</td>\n",
              "      <td>75.0</td>\n",
              "      <td>61.0</td>\n",
              "      <td>5.0</td>\n",
              "      <td>141.0</td>\n",
              "      <td>577.0</td>\n",
              "    </tr>\n",
              "    <tr>\n",
              "      <th>서비스</th>\n",
              "      <td>0.0</td>\n",
              "      <td>14.0</td>\n",
              "      <td>49.0</td>\n",
              "      <td>63.0</td>\n",
              "      <td>35.0</td>\n",
              "      <td>7.0</td>\n",
              "      <td>0.0</td>\n",
              "      <td>42.0</td>\n",
              "      <td>105.0</td>\n",
              "    </tr>\n",
              "    <tr>\n",
              "      <th>중간투입계</th>\n",
              "      <td>1.0</td>\n",
              "      <td>377.0</td>\n",
              "      <td>129.0</td>\n",
              "      <td>507.0</td>\n",
              "      <td>113.0</td>\n",
              "      <td>69.0</td>\n",
              "      <td>5.0</td>\n",
              "      <td>187.0</td>\n",
              "      <td>694.0</td>\n",
              "    </tr>\n",
              "  </tbody>\n",
              "</table>\n",
              "</div>\n",
              "      <button class=\"colab-df-convert\" onclick=\"convertToInteractive('df-4d6f7acf-dfd6-4897-ba48-ee1480688c6c')\"\n",
              "              title=\"Convert this dataframe to an interactive table.\"\n",
              "              style=\"display:none;\">\n",
              "        \n",
              "  <svg xmlns=\"http://www.w3.org/2000/svg\" height=\"24px\"viewBox=\"0 0 24 24\"\n",
              "       width=\"24px\">\n",
              "    <path d=\"M0 0h24v24H0V0z\" fill=\"none\"/>\n",
              "    <path d=\"M18.56 5.44l.94 2.06.94-2.06 2.06-.94-2.06-.94-.94-2.06-.94 2.06-2.06.94zm-11 1L8.5 8.5l.94-2.06 2.06-.94-2.06-.94L8.5 2.5l-.94 2.06-2.06.94zm10 10l.94 2.06.94-2.06 2.06-.94-2.06-.94-.94-2.06-.94 2.06-2.06.94z\"/><path d=\"M17.41 7.96l-1.37-1.37c-.4-.4-.92-.59-1.43-.59-.52 0-1.04.2-1.43.59L10.3 9.45l-7.72 7.72c-.78.78-.78 2.05 0 2.83L4 21.41c.39.39.9.59 1.41.59.51 0 1.02-.2 1.41-.59l7.78-7.78 2.81-2.81c.8-.78.8-2.07 0-2.86zM5.41 20L4 18.59l7.72-7.72 1.47 1.35L5.41 20z\"/>\n",
              "  </svg>\n",
              "      </button>\n",
              "      \n",
              "  <style>\n",
              "    .colab-df-container {\n",
              "      display:flex;\n",
              "      flex-wrap:wrap;\n",
              "      gap: 12px;\n",
              "    }\n",
              "\n",
              "    .colab-df-convert {\n",
              "      background-color: #E8F0FE;\n",
              "      border: none;\n",
              "      border-radius: 50%;\n",
              "      cursor: pointer;\n",
              "      display: none;\n",
              "      fill: #1967D2;\n",
              "      height: 32px;\n",
              "      padding: 0 0 0 0;\n",
              "      width: 32px;\n",
              "    }\n",
              "\n",
              "    .colab-df-convert:hover {\n",
              "      background-color: #E2EBFA;\n",
              "      box-shadow: 0px 1px 2px rgba(60, 64, 67, 0.3), 0px 1px 3px 1px rgba(60, 64, 67, 0.15);\n",
              "      fill: #174EA6;\n",
              "    }\n",
              "\n",
              "    [theme=dark] .colab-df-convert {\n",
              "      background-color: #3B4455;\n",
              "      fill: #D2E3FC;\n",
              "    }\n",
              "\n",
              "    [theme=dark] .colab-df-convert:hover {\n",
              "      background-color: #434B5C;\n",
              "      box-shadow: 0px 1px 3px 1px rgba(0, 0, 0, 0.15);\n",
              "      filter: drop-shadow(0px 1px 2px rgba(0, 0, 0, 0.3));\n",
              "      fill: #FFFFFF;\n",
              "    }\n",
              "  </style>\n",
              "\n",
              "      <script>\n",
              "        const buttonEl =\n",
              "          document.querySelector('#df-4d6f7acf-dfd6-4897-ba48-ee1480688c6c button.colab-df-convert');\n",
              "        buttonEl.style.display =\n",
              "          google.colab.kernel.accessAllowed ? 'block' : 'none';\n",
              "\n",
              "        async function convertToInteractive(key) {\n",
              "          const element = document.querySelector('#df-4d6f7acf-dfd6-4897-ba48-ee1480688c6c');\n",
              "          const dataTable =\n",
              "            await google.colab.kernel.invokeFunction('convertToInteractive',\n",
              "                                                     [key], {});\n",
              "          if (!dataTable) return;\n",
              "\n",
              "          const docLinkHtml = 'Like what you see? Visit the ' +\n",
              "            '<a target=\"_blank\" href=https://colab.research.google.com/notebooks/data_table.ipynb>data table notebook</a>'\n",
              "            + ' to learn more about interactive tables.';\n",
              "          element.innerHTML = '';\n",
              "          dataTable['output_type'] = 'display_data';\n",
              "          await google.colab.output.renderOutput(dataTable, element);\n",
              "          const docLink = document.createElement('div');\n",
              "          docLink.innerHTML = docLinkHtml;\n",
              "          element.appendChild(docLink);\n",
              "        }\n",
              "      </script>\n",
              "    </div>\n",
              "  </div>\n",
              "  "
            ]
          },
          "metadata": {},
          "execution_count": 68
        }
      ]
    },
    {
      "cell_type": "code",
      "source": [
        "imp_F.reset_index(inplace=True)# 인덱스 설정(부문명)\n",
        "imp_F"
      ],
      "metadata": {
        "id": "Z6F4QRuT8dnX",
        "outputId": "178bc53d-576b-43e1-b621-3b19b480a1f0",
        "colab": {
          "base_uri": "https://localhost:8080/",
          "height": 175
        }
      },
      "execution_count": 69,
      "outputs": [
        {
          "output_type": "execute_result",
          "data": {
            "text/plain": [
              "   index  농산품    공산품    서비스  중간수요계     소비    투자   수출  최종수요계   총수요계\n",
              "0    농산품  0.0    7.0    1.0    8.0    3.0   1.0  0.0    4.0   12.0\n",
              "1    공산품  1.0  356.0   79.0  436.0   75.0  61.0  5.0  141.0  577.0\n",
              "2    서비스  0.0   14.0   49.0   63.0   35.0   7.0  0.0   42.0  105.0\n",
              "3  중간투입계  1.0  377.0  129.0  507.0  113.0  69.0  5.0  187.0  694.0"
            ],
            "text/html": [
              "\n",
              "  <div id=\"df-a23e2da2-4b62-4c1b-9bbe-5d4ebb559e07\">\n",
              "    <div class=\"colab-df-container\">\n",
              "      <div>\n",
              "<style scoped>\n",
              "    .dataframe tbody tr th:only-of-type {\n",
              "        vertical-align: middle;\n",
              "    }\n",
              "\n",
              "    .dataframe tbody tr th {\n",
              "        vertical-align: top;\n",
              "    }\n",
              "\n",
              "    .dataframe thead th {\n",
              "        text-align: right;\n",
              "    }\n",
              "</style>\n",
              "<table border=\"1\" class=\"dataframe\">\n",
              "  <thead>\n",
              "    <tr style=\"text-align: right;\">\n",
              "      <th></th>\n",
              "      <th>index</th>\n",
              "      <th>농산품</th>\n",
              "      <th>공산품</th>\n",
              "      <th>서비스</th>\n",
              "      <th>중간수요계</th>\n",
              "      <th>소비</th>\n",
              "      <th>투자</th>\n",
              "      <th>수출</th>\n",
              "      <th>최종수요계</th>\n",
              "      <th>총수요계</th>\n",
              "    </tr>\n",
              "  </thead>\n",
              "  <tbody>\n",
              "    <tr>\n",
              "      <th>0</th>\n",
              "      <td>농산품</td>\n",
              "      <td>0.0</td>\n",
              "      <td>7.0</td>\n",
              "      <td>1.0</td>\n",
              "      <td>8.0</td>\n",
              "      <td>3.0</td>\n",
              "      <td>1.0</td>\n",
              "      <td>0.0</td>\n",
              "      <td>4.0</td>\n",
              "      <td>12.0</td>\n",
              "    </tr>\n",
              "    <tr>\n",
              "      <th>1</th>\n",
              "      <td>공산품</td>\n",
              "      <td>1.0</td>\n",
              "      <td>356.0</td>\n",
              "      <td>79.0</td>\n",
              "      <td>436.0</td>\n",
              "      <td>75.0</td>\n",
              "      <td>61.0</td>\n",
              "      <td>5.0</td>\n",
              "      <td>141.0</td>\n",
              "      <td>577.0</td>\n",
              "    </tr>\n",
              "    <tr>\n",
              "      <th>2</th>\n",
              "      <td>서비스</td>\n",
              "      <td>0.0</td>\n",
              "      <td>14.0</td>\n",
              "      <td>49.0</td>\n",
              "      <td>63.0</td>\n",
              "      <td>35.0</td>\n",
              "      <td>7.0</td>\n",
              "      <td>0.0</td>\n",
              "      <td>42.0</td>\n",
              "      <td>105.0</td>\n",
              "    </tr>\n",
              "    <tr>\n",
              "      <th>3</th>\n",
              "      <td>중간투입계</td>\n",
              "      <td>1.0</td>\n",
              "      <td>377.0</td>\n",
              "      <td>129.0</td>\n",
              "      <td>507.0</td>\n",
              "      <td>113.0</td>\n",
              "      <td>69.0</td>\n",
              "      <td>5.0</td>\n",
              "      <td>187.0</td>\n",
              "      <td>694.0</td>\n",
              "    </tr>\n",
              "  </tbody>\n",
              "</table>\n",
              "</div>\n",
              "      <button class=\"colab-df-convert\" onclick=\"convertToInteractive('df-a23e2da2-4b62-4c1b-9bbe-5d4ebb559e07')\"\n",
              "              title=\"Convert this dataframe to an interactive table.\"\n",
              "              style=\"display:none;\">\n",
              "        \n",
              "  <svg xmlns=\"http://www.w3.org/2000/svg\" height=\"24px\"viewBox=\"0 0 24 24\"\n",
              "       width=\"24px\">\n",
              "    <path d=\"M0 0h24v24H0V0z\" fill=\"none\"/>\n",
              "    <path d=\"M18.56 5.44l.94 2.06.94-2.06 2.06-.94-2.06-.94-.94-2.06-.94 2.06-2.06.94zm-11 1L8.5 8.5l.94-2.06 2.06-.94-2.06-.94L8.5 2.5l-.94 2.06-2.06.94zm10 10l.94 2.06.94-2.06 2.06-.94-2.06-.94-.94-2.06-.94 2.06-2.06.94z\"/><path d=\"M17.41 7.96l-1.37-1.37c-.4-.4-.92-.59-1.43-.59-.52 0-1.04.2-1.43.59L10.3 9.45l-7.72 7.72c-.78.78-.78 2.05 0 2.83L4 21.41c.39.39.9.59 1.41.59.51 0 1.02-.2 1.41-.59l7.78-7.78 2.81-2.81c.8-.78.8-2.07 0-2.86zM5.41 20L4 18.59l7.72-7.72 1.47 1.35L5.41 20z\"/>\n",
              "  </svg>\n",
              "      </button>\n",
              "      \n",
              "  <style>\n",
              "    .colab-df-container {\n",
              "      display:flex;\n",
              "      flex-wrap:wrap;\n",
              "      gap: 12px;\n",
              "    }\n",
              "\n",
              "    .colab-df-convert {\n",
              "      background-color: #E8F0FE;\n",
              "      border: none;\n",
              "      border-radius: 50%;\n",
              "      cursor: pointer;\n",
              "      display: none;\n",
              "      fill: #1967D2;\n",
              "      height: 32px;\n",
              "      padding: 0 0 0 0;\n",
              "      width: 32px;\n",
              "    }\n",
              "\n",
              "    .colab-df-convert:hover {\n",
              "      background-color: #E2EBFA;\n",
              "      box-shadow: 0px 1px 2px rgba(60, 64, 67, 0.3), 0px 1px 3px 1px rgba(60, 64, 67, 0.15);\n",
              "      fill: #174EA6;\n",
              "    }\n",
              "\n",
              "    [theme=dark] .colab-df-convert {\n",
              "      background-color: #3B4455;\n",
              "      fill: #D2E3FC;\n",
              "    }\n",
              "\n",
              "    [theme=dark] .colab-df-convert:hover {\n",
              "      background-color: #434B5C;\n",
              "      box-shadow: 0px 1px 3px 1px rgba(0, 0, 0, 0.15);\n",
              "      filter: drop-shadow(0px 1px 2px rgba(0, 0, 0, 0.3));\n",
              "      fill: #FFFFFF;\n",
              "    }\n",
              "  </style>\n",
              "\n",
              "      <script>\n",
              "        const buttonEl =\n",
              "          document.querySelector('#df-a23e2da2-4b62-4c1b-9bbe-5d4ebb559e07 button.colab-df-convert');\n",
              "        buttonEl.style.display =\n",
              "          google.colab.kernel.accessAllowed ? 'block' : 'none';\n",
              "\n",
              "        async function convertToInteractive(key) {\n",
              "          const element = document.querySelector('#df-a23e2da2-4b62-4c1b-9bbe-5d4ebb559e07');\n",
              "          const dataTable =\n",
              "            await google.colab.kernel.invokeFunction('convertToInteractive',\n",
              "                                                     [key], {});\n",
              "          if (!dataTable) return;\n",
              "\n",
              "          const docLinkHtml = 'Like what you see? Visit the ' +\n",
              "            '<a target=\"_blank\" href=https://colab.research.google.com/notebooks/data_table.ipynb>data table notebook</a>'\n",
              "            + ' to learn more about interactive tables.';\n",
              "          element.innerHTML = '';\n",
              "          dataTable['output_type'] = 'display_data';\n",
              "          await google.colab.output.renderOutput(dataTable, element);\n",
              "          const docLink = document.createElement('div');\n",
              "          docLink.innerHTML = docLinkHtml;\n",
              "          element.appendChild(docLink);\n",
              "        }\n",
              "      </script>\n",
              "    </div>\n",
              "  </div>\n",
              "  "
            ]
          },
          "metadata": {},
          "execution_count": 69
        }
      ]
    },
    {
      "cell_type": "code",
      "source": [
        "# 총, 국산, 수입거래표 내보내기\n",
        "tot_F.to_csv('총거래표_3부문.csv', encoding=\"utf-8-sig\")\n",
        "tot_F_va1.to_csv('총거래표_부가가치1개.csv', encoding=\"utf-8-sig\")\n",
        "dom_F.to_csv('국산거래표_3부문.csv', encoding=\"utf-8-sig\")\n",
        "imp_F.to_csv('수입거래표_3부문.csv', encoding=\"utf-8-sig\")"
      ],
      "metadata": {
        "id": "ZlZw4Z5lGFA6"
      },
      "execution_count": 70,
      "outputs": []
    },
    {
      "cell_type": "markdown",
      "source": [],
      "metadata": {
        "id": "pGaGz_KvGW1M"
      }
    },
    {
      "cell_type": "markdown",
      "source": [
        "#### 산업구조_부가가치 및 산출액 비중 구하기"
      ],
      "metadata": {
        "id": "Jz2c6mWiGW5v"
      }
    },
    {
      "cell_type": "markdown",
      "source": [
        "###### pandas의 DataFrame을 numpy로 불러오기"
      ],
      "metadata": {
        "id": "vi5mrufWHBLq"
      }
    },
    {
      "cell_type": "markdown",
      "source": [
        "### DataFrame을 Numpy로 읽어오고 숫자만으로 행렬을 만들고 차원 등 제대로 읽어 왔는지 체크\n",
        "\n"
      ],
      "metadata": {
        "id": "x-a_G73J-ARG"
      }
    },
    {
      "cell_type": "code",
      "source": [
        "Tt = tot_F_va1.to_numpy()  # numpy로 불러오기\n",
        "Dt = dom_F.to_numpy()\n",
        "It = imp_F.to_numpy()"
      ],
      "metadata": {
        "id": "Hb3EasrIAz9H"
      },
      "execution_count": 71,
      "outputs": []
    },
    {
      "cell_type": "code",
      "source": [
        "Tt"
      ],
      "metadata": {
        "id": "WN6hZ9hGGXEs",
        "outputId": "c71dc59d-49cb-4d0c-857e-a3d8dcd4ca1f",
        "colab": {
          "base_uri": "https://localhost:8080/"
        }
      },
      "execution_count": 72,
      "outputs": [
        {
          "output_type": "execute_result",
          "data": {
            "text/plain": [
              "array([['농산품', 4.0, 38.0, 11.0, 53.0, 18.0, 0.0, 1.0, 19.0, 72.0],\n",
              "       ['공산품', 16.0, 944.0, 401.0, 1361.0, 213.0, 167.0, 628.0, 1008.0,\n",
              "        2369.0],\n",
              "       ['서비스', 7.0, 257.0, 693.0, 957.0, 1032.0, 432.0, 131.0, 1595.0,\n",
              "        2552.0],\n",
              "       ['중간투입계', 27.0, 1239.0, 1105.0, 2371.0, 1263.0, 599.0, 760.0,\n",
              "        2622.0, 4993.0],\n",
              "       ['부가가치계', 33.0, 553.0, 1342.0, 1928.0, 0.0, 0.0, 0.0, 0.0, 0.0],\n",
              "       ['총투입액', 60.0, 1792.0, 2447.0, 4299.0, 0.0, 0.0, 0.0, 0.0, 0.0]],\n",
              "      dtype=object)"
            ]
          },
          "metadata": {},
          "execution_count": 72
        }
      ]
    },
    {
      "cell_type": "code",
      "source": [
        "va = Tt[-2,1:4]  # 산업별 부가가치\n",
        "ct = Tt[-1,1:4]  # 산업별 산출액"
      ],
      "metadata": {
        "id": "GrqwxwU44DMl"
      },
      "execution_count": 73,
      "outputs": []
    },
    {
      "cell_type": "code",
      "source": [
        "va_wgt = (va/va.sum()).reshape([3,1])  # 부가가치 기준 각 산업의 비중\n",
        "ct_wgt = (ct/ct.sum()).reshape([3,1])  # 산출액 기준 각 산업의 비중\n",
        "\n",
        "wgt_mx = np.concatenate((va_wgt, ct_wgt), axis=1)\n",
        "print(wgt_mx)"
      ],
      "metadata": {
        "id": "IGYFJf_fAz6J",
        "colab": {
          "base_uri": "https://localhost:8080/"
        },
        "outputId": "501fe69c-54d1-4136-dcd2-d0ac4e06be60"
      },
      "execution_count": 74,
      "outputs": [
        {
          "output_type": "stream",
          "name": "stdout",
          "text": [
            "[[0.01711618257261411 0.013956734124214934]\n",
            " [0.2868257261410788 0.41684112584321936]\n",
            " [0.696058091286307 0.5692021400325658]]\n"
          ]
        }
      ]
    },
    {
      "cell_type": "markdown",
      "source": [
        "#### 투입구조"
      ],
      "metadata": {
        "id": "32UjG6dfMUrW"
      }
    },
    {
      "cell_type": "code",
      "source": [
        "Tt_itr = Tt[-3,1:5] # 총거래표의 각 산업별 및 총산업의 중간투입계\n",
        "Dt_itr = Dt[-1,1:5] # 국산거래표의 각 산업별 및 총산업의 중간투입계\n",
        "It_itr = It[-1,1:5] # 수입거래표의 각 산업별 및 총산업의 중간투입계\n",
        "Ct_itr = Tt[-1,1:5] # 각 산업별 및 총산업의 산출액\n",
        "\n",
        "print(Tt)\n",
        "print(Tt_itr)\n",
        "print(Dt_itr)\n",
        "print(It_itr)\n",
        "print(Ct_itr)"
      ],
      "metadata": {
        "colab": {
          "base_uri": "https://localhost:8080/"
        },
        "id": "D77j-HNjIKj9",
        "outputId": "319a5449-5844-4e8f-9753-88c6f7cd1096"
      },
      "execution_count": 75,
      "outputs": [
        {
          "output_type": "stream",
          "name": "stdout",
          "text": [
            "[['농산품' 4.0 38.0 11.0 53.0 18.0 0.0 1.0 19.0 72.0]\n",
            " ['공산품' 16.0 944.0 401.0 1361.0 213.0 167.0 628.0 1008.0 2369.0]\n",
            " ['서비스' 7.0 257.0 693.0 957.0 1032.0 432.0 131.0 1595.0 2552.0]\n",
            " ['중간투입계' 27.0 1239.0 1105.0 2371.0 1263.0 599.0 760.0 2622.0 4993.0]\n",
            " ['부가가치계' 33.0 553.0 1342.0 1928.0 0.0 0.0 0.0 0.0 0.0]\n",
            " ['총투입액' 60.0 1792.0 2447.0 4299.0 0.0 0.0 0.0 0.0 0.0]]\n",
            "[27.0 1239.0 1105.0 2371.0]\n",
            "[26.0 862.0 976.0 1864.0]\n",
            "[1.0 377.0 129.0 507.0]\n",
            "[60.0 1792.0 2447.0 4299.0]\n"
          ]
        }
      ]
    },
    {
      "cell_type": "code",
      "source": [
        "Tt_itr_ratio = (Tt_itr/Ct_itr).reshape([4,1]) # 총투입계수\n",
        "Dt_itr_ratio = (Dt_itr/Ct_itr).reshape([4,1]) # 국산투입계수\n",
        "It_itr_ratio = (It_itr/Ct_itr).reshape([4,1]) # 수입투입계수\n",
        "\n",
        "itr_ratio = np.concatenate((Tt_itr_ratio, Dt_itr_ratio, It_itr_ratio), axis=1)  # 총, 국산, 수입투입계수\n",
        "itr_ratio"
      ],
      "metadata": {
        "colab": {
          "base_uri": "https://localhost:8080/"
        },
        "id": "Dl7lil2JPogq",
        "outputId": "54d38164-3c31-42ef-8803-f488eb50fb73"
      },
      "execution_count": 76,
      "outputs": [
        {
          "output_type": "execute_result",
          "data": {
            "text/plain": [
              "array([[0.45, 0.43333333333333335, 0.016666666666666666],\n",
              "       [0.69140625, 0.4810267857142857, 0.21037946428571427],\n",
              "       [0.45157335512872904, 0.3988557417245607, 0.05271761340416837],\n",
              "       [0.5515236101418934, 0.43358920679227725, 0.11793440334961619]],\n",
              "      dtype=object)"
            ]
          },
          "metadata": {},
          "execution_count": 76
        }
      ]
    },
    {
      "cell_type": "code",
      "source": [
        "Dt_dm_itr = (Dt_itr/Tt_itr).reshape([4,1])  # 각 산업별, 총산업의 국산화율\n",
        "Dt_dm_itr"
      ],
      "metadata": {
        "colab": {
          "base_uri": "https://localhost:8080/"
        },
        "id": "0Xi-6MnGPo6v",
        "outputId": "545dc561-a878-45ec-999e-77251fee2813"
      },
      "execution_count": 77,
      "outputs": [
        {
          "output_type": "execute_result",
          "data": {
            "text/plain": [
              "array([[0.9629629629629629],\n",
              "       [0.6957223567393059],\n",
              "       [0.8832579185520362],\n",
              "       [0.7861661746098693]], dtype=object)"
            ]
          },
          "metadata": {},
          "execution_count": 77
        }
      ]
    },
    {
      "cell_type": "code",
      "source": [
        "va_ratio = (Tt[-2,1:5]/Tt[-1,1:5]).reshape([4,1])  # 부가가치율 = 부가가치(3산업과 총부가가치)/산출액(3산업과 총산출액)\n",
        "va_ratio"
      ],
      "metadata": {
        "colab": {
          "base_uri": "https://localhost:8080/"
        },
        "id": "UlVNRugMPpQU",
        "outputId": "b6dffc90-4abf-4e50-a3cd-12f61b389595"
      },
      "execution_count": 78,
      "outputs": [
        {
          "output_type": "execute_result",
          "data": {
            "text/plain": [
              "array([[0.55],\n",
              "       [0.30859375],\n",
              "       [0.5484266448712709],\n",
              "       [0.44847638985810656]], dtype=object)"
            ]
          },
          "metadata": {},
          "execution_count": 78
        }
      ]
    },
    {
      "cell_type": "code",
      "source": [
        "#중간투입, 국산화율 및 부가가치율을 열방향으로 부치기\n",
        "input_str = np.concatenate((itr_ratio, Dt_dm_itr, va_ratio), axis=1)\n",
        "input_str"
      ],
      "metadata": {
        "colab": {
          "base_uri": "https://localhost:8080/"
        },
        "id": "lECvmd0wPpnQ",
        "outputId": "d757241a-6060-4551-d83a-df20c9c18a2f"
      },
      "execution_count": 79,
      "outputs": [
        {
          "output_type": "execute_result",
          "data": {
            "text/plain": [
              "array([[0.45, 0.43333333333333335, 0.016666666666666666,\n",
              "        0.9629629629629629, 0.55],\n",
              "       [0.69140625, 0.4810267857142857, 0.21037946428571427,\n",
              "        0.6957223567393059, 0.30859375],\n",
              "       [0.45157335512872904, 0.3988557417245607, 0.05271761340416837,\n",
              "        0.8832579185520362, 0.5484266448712709],\n",
              "       [0.5515236101418934, 0.43358920679227725, 0.11793440334961619,\n",
              "        0.7861661746098693, 0.44847638985810656]], dtype=object)"
            ]
          },
          "metadata": {},
          "execution_count": 79
        }
      ]
    },
    {
      "cell_type": "markdown",
      "source": [
        "#### 배분구조"
      ],
      "metadata": {
        "id": "C6KfGPX5g9TI"
      }
    },
    {
      "cell_type": "code",
      "source": [
        "Tot_sup =Tt[0:4,-1]  # 총공급(산출액+수입)\n",
        "Dom_ct =Dt[0:4,-1]  # 산출액\n",
        "Imp_tot=It[0:4,-1]   # 총수입\n",
        "\n",
        "Tt_itd = Tt[0:4,4] # 총거래표의 각 산업별 및 총산업의 중간수요계\n",
        "Dt_itd = Dt[0:4,4] # 국산거래표의 각 산업별 및 총산업의 중간수요계\n",
        "It_itd = It[0:4,4] # 수입거래표의 각 산업별 및 총산업의 중간수요계\n",
        "\n",
        "Tot_dmd = Tt[0:4,-1] # 각 제품별 및 전품목 총수요계\n",
        "Fd =Tt[0:4,-2]\n",
        "Exp = Tt[0:4,-3]  # 각 제품별 및 전품목 수출\n",
        "\n",
        "print(Tot_sup)\n",
        "print(Dom_ct)\n",
        "print(Imp_tot)\n",
        "\n",
        "print(Tt_itd)\n",
        "print(Dt_itd)\n",
        "print(It_itd)\n",
        "\n",
        "print(Tot_dmd)\n",
        "print(Fd)\n",
        "print(Exp)"
      ],
      "metadata": {
        "id": "IWpo8RCb6EsB",
        "colab": {
          "base_uri": "https://localhost:8080/"
        },
        "outputId": "bc3ca998-8f94-48c4-9170-43fec02bd537"
      },
      "execution_count": 80,
      "outputs": [
        {
          "output_type": "stream",
          "name": "stdout",
          "text": [
            "[72.0 2369.0 2552.0 4993.0]\n",
            "[60.0 1792.0 2447.0 4299.0]\n",
            "[12.0 577.0 105.0 694.0]\n",
            "[53.0 1361.0 957.0 2371.0]\n",
            "[45.0 925.0 894.0 1864.0]\n",
            "[8.0 436.0 63.0 507.0]\n",
            "[72.0 2369.0 2552.0 4993.0]\n",
            "[19.0 1008.0 1595.0 2622.0]\n",
            "[1.0 628.0 131.0 760.0]\n"
          ]
        }
      ]
    },
    {
      "cell_type": "code",
      "source": [
        "Itd_r = (Tt_itd/Tot_dmd).reshape([4,1]) # 중간수요율 = 중간수요계/총수요\n",
        "ftd_r = (Fd/Tot_dmd).reshape([4,1]) # 최종수요율 = 최종수요계/총수요\n",
        "Exp_r = (Exp/Dom_ct).reshape([4,1]) # 수출률 = 수출/총산출액\n",
        "Imp_r = (Imp_tot/Tot_sup).reshape([4,1])\n",
        "\n",
        "print(Itd_r)\n",
        "print(ftd_r)\n",
        "print(Exp_r)\n",
        "print(Imp_r)"
      ],
      "metadata": {
        "id": "lcVwawkrPi5t",
        "colab": {
          "base_uri": "https://localhost:8080/"
        },
        "outputId": "8d06fc15-1276-4b7b-aad0-3d142b02a595"
      },
      "execution_count": 81,
      "outputs": [
        {
          "output_type": "stream",
          "name": "stdout",
          "text": [
            "[[0.7361111111111112]\n",
            " [0.574504010130857]\n",
            " [0.375]\n",
            " [0.47486481073502906]]\n",
            "[[0.2638888888888889]\n",
            " [0.4254959898691431]\n",
            " [0.625]\n",
            " [0.5251351892649709]]\n",
            "[[0.016666666666666666]\n",
            " [0.35044642857142855]\n",
            " [0.05353494074376788]\n",
            " [0.17678529890672248]]\n",
            "[[0.16666666666666666]\n",
            " [0.24356268467707895]\n",
            " [0.04114420062695925]\n",
            " [0.13899459242940115]]\n"
          ]
        }
      ]
    },
    {
      "cell_type": "code",
      "source": [
        "# 중간수요율, 최종수요율, 수출률 및 수입비율 열방향으로 부치기\n",
        "\n",
        "dst_str = np.concatenate((Itd_r, ftd_r, Exp_r, Imp_r), axis=1)\n",
        "print(dst_str)"
      ],
      "metadata": {
        "id": "goO-V0B5PjRD",
        "colab": {
          "base_uri": "https://localhost:8080/"
        },
        "outputId": "ca5b72bb-d127-400c-b27d-33f3a24dfca0"
      },
      "execution_count": 82,
      "outputs": [
        {
          "output_type": "stream",
          "name": "stdout",
          "text": [
            "[[0.7361111111111112 0.2638888888888889 0.016666666666666666\n",
            "  0.16666666666666666]\n",
            " [0.574504010130857 0.4254959898691431 0.35044642857142855\n",
            "  0.24356268467707895]\n",
            " [0.375 0.625 0.05353494074376788 0.04114420062695925]\n",
            " [0.47486481073502906 0.5251351892649709 0.17678529890672248\n",
            "  0.13899459242940115]]\n"
          ]
        }
      ]
    },
    {
      "cell_type": "markdown",
      "source": [
        "##Chapter 5...산업연관효과분석"
      ],
      "metadata": {
        "id": "JYbkwC_VPVv2"
      }
    },
    {
      "cell_type": "code",
      "source": [
        "# Tt = tot_F_va1.to_numpy()  # 3부문 산업연관표를 numpy로 불러오기\n",
        "# Dt = Dom.to_numpy()\n",
        "# It = Imp.to_numpy()"
      ],
      "metadata": {
        "id": "pXrwfo8u86pr"
      },
      "execution_count": 83,
      "outputs": []
    },
    {
      "cell_type": "code",
      "source": [
        "Tt"
      ],
      "metadata": {
        "id": "sgvgFSqKGFjk",
        "outputId": "2fa580bc-f446-4153-c844-7954ae17c26e",
        "colab": {
          "base_uri": "https://localhost:8080/"
        }
      },
      "execution_count": 84,
      "outputs": [
        {
          "output_type": "execute_result",
          "data": {
            "text/plain": [
              "array([['농산품', 4.0, 38.0, 11.0, 53.0, 18.0, 0.0, 1.0, 19.0, 72.0],\n",
              "       ['공산품', 16.0, 944.0, 401.0, 1361.0, 213.0, 167.0, 628.0, 1008.0,\n",
              "        2369.0],\n",
              "       ['서비스', 7.0, 257.0, 693.0, 957.0, 1032.0, 432.0, 131.0, 1595.0,\n",
              "        2552.0],\n",
              "       ['중간투입계', 27.0, 1239.0, 1105.0, 2371.0, 1263.0, 599.0, 760.0,\n",
              "        2622.0, 4993.0],\n",
              "       ['부가가치계', 33.0, 553.0, 1342.0, 1928.0, 0.0, 0.0, 0.0, 0.0, 0.0],\n",
              "       ['총투입액', 60.0, 1792.0, 2447.0, 4299.0, 0.0, 0.0, 0.0, 0.0, 0.0]],\n",
              "      dtype=object)"
            ]
          },
          "metadata": {},
          "execution_count": 84
        }
      ]
    },
    {
      "cell_type": "code",
      "source": [
        "Tt_1 = Tt[0:6,1:13].astype(float)\n",
        "Dm_1 = Dt[0:4,1:10].astype(float)\n",
        "Im_1 = It[0:4,1:10].astype(float)\n",
        "print('총거래표 : \\n', Tt_1)    # 총거래표 확인\n",
        "print('국산거래표 : \\n', Dm_1)  # 국산거래표 확인\n",
        "print('수입거래표 : \\n', Im_1)  # 수입거래표 확인"
      ],
      "metadata": {
        "colab": {
          "base_uri": "https://localhost:8080/"
        },
        "id": "q4Q2rSR1QiUI",
        "outputId": "8298edf5-9255-4b56-f4c4-0ff2b0accfd8"
      },
      "execution_count": 85,
      "outputs": [
        {
          "output_type": "stream",
          "name": "stdout",
          "text": [
            "총거래표 : \n",
            " [[4.000e+00 3.800e+01 1.100e+01 5.300e+01 1.800e+01 0.000e+00 1.000e+00\n",
            "  1.900e+01 7.200e+01]\n",
            " [1.600e+01 9.440e+02 4.010e+02 1.361e+03 2.130e+02 1.670e+02 6.280e+02\n",
            "  1.008e+03 2.369e+03]\n",
            " [7.000e+00 2.570e+02 6.930e+02 9.570e+02 1.032e+03 4.320e+02 1.310e+02\n",
            "  1.595e+03 2.552e+03]\n",
            " [2.700e+01 1.239e+03 1.105e+03 2.371e+03 1.263e+03 5.990e+02 7.600e+02\n",
            "  2.622e+03 4.993e+03]\n",
            " [3.300e+01 5.530e+02 1.342e+03 1.928e+03 0.000e+00 0.000e+00 0.000e+00\n",
            "  0.000e+00 0.000e+00]\n",
            " [6.000e+01 1.792e+03 2.447e+03 4.299e+03 0.000e+00 0.000e+00 0.000e+00\n",
            "  0.000e+00 0.000e+00]]\n",
            "국산거래표 : \n",
            " [[ 4.000e+00  3.100e+01  1.000e+01  4.500e+01  1.500e+01 -1.000e+00\n",
            "   1.000e+00  1.500e+01  6.000e+01]\n",
            " [ 1.500e+01  5.880e+02  3.220e+02  9.250e+02  1.380e+02  1.060e+02\n",
            "   6.230e+02  8.670e+02  1.792e+03]\n",
            " [ 7.000e+00  2.430e+02  6.440e+02  8.940e+02  9.970e+02  4.250e+02\n",
            "   1.310e+02  1.553e+03  2.447e+03]\n",
            " [ 2.600e+01  8.620e+02  9.760e+02  1.864e+03  1.150e+03  5.300e+02\n",
            "   7.550e+02  2.435e+03  4.299e+03]]\n",
            "수입거래표 : \n",
            " [[  0.   7.   1.   8.   3.   1.   0.   4.  12.]\n",
            " [  1. 356.  79. 436.  75.  61.   5. 141. 577.]\n",
            " [  0.  14.  49.  63.  35.   7.   0.  42. 105.]\n",
            " [  1. 377. 129. 507. 113.  69.   5. 187. 694.]]\n"
          ]
        }
      ]
    },
    {
      "cell_type": "code",
      "source": [
        "ct = Tt_1[-1,0:3]  # 산출액\n",
        "ct"
      ],
      "metadata": {
        "colab": {
          "base_uri": "https://localhost:8080/"
        },
        "id": "sLoitK1lQigz",
        "outputId": "253fa8bd-bc61-4c66-f0b4-0eba4588338f"
      },
      "execution_count": 86,
      "outputs": [
        {
          "output_type": "execute_result",
          "data": {
            "text/plain": [
              "array([  60., 1792., 2447.])"
            ]
          },
          "metadata": {},
          "execution_count": 86
        }
      ]
    },
    {
      "cell_type": "code",
      "source": [
        "ct_m = np.tile(ct, reps=[3,1]) # 산출액을 3번 행반복\n",
        "ct_m"
      ],
      "metadata": {
        "colab": {
          "base_uri": "https://localhost:8080/"
        },
        "id": "s0wcbJY1Qipl",
        "outputId": "5be09506-957e-41e6-e4ca-a1ea4325d77f"
      },
      "execution_count": 87,
      "outputs": [
        {
          "output_type": "execute_result",
          "data": {
            "text/plain": [
              "array([[  60., 1792., 2447.],\n",
              "       [  60., 1792., 2447.],\n",
              "       [  60., 1792., 2447.]])"
            ]
          },
          "metadata": {},
          "execution_count": 87
        }
      ]
    },
    {
      "cell_type": "code",
      "source": [
        "At = Tt_1[0:3,0:3]/ct_m   # 총투입계수\n",
        "Ad = Dm_1[0:3,0:3]/ct_m  # 국산 투입계수\n",
        "\n",
        "print('총투입계수표 : \\n', At)\n",
        "print('국산투입계수표 : \\n', Ad)\n",
        "\n",
        "df_At = pd.DataFrame(At.round(3),columns = ['농산품', '공산품', '서비스'], index=['농산품', '공산품', '서비스'])  #pandas로 내보내기\n",
        "df_Ad = pd.DataFrame(Ad.round(3),columns = ['농산품', '공산품', '서비스'], index=['농산품', '공산품', '서비스'])  #pandas로 내보내기"
      ],
      "metadata": {
        "colab": {
          "base_uri": "https://localhost:8080/"
        },
        "id": "5uLIE7vfQiwM",
        "outputId": "5607a8bc-464a-4ce3-d3aa-cd06f23abcab"
      },
      "execution_count": 88,
      "outputs": [
        {
          "output_type": "stream",
          "name": "stdout",
          "text": [
            "총투입계수표 : \n",
            " [[0.06666667 0.02120536 0.0044953 ]\n",
            " [0.26666667 0.52678571 0.16387413]\n",
            " [0.11666667 0.14341518 0.28320392]]\n",
            "국산투입계수표 : \n",
            " [[0.06666667 0.01729911 0.00408664]\n",
            " [0.25       0.328125   0.1315897 ]\n",
            " [0.11666667 0.13560268 0.2631794 ]]\n"
          ]
        }
      ]
    },
    {
      "cell_type": "markdown",
      "source": [
        "##### 생산유발계수(Lf)"
      ],
      "metadata": {
        "id": "V0nnZSeHUPn8"
      }
    },
    {
      "cell_type": "code",
      "source": [
        "Lf = np.linalg.inv(np.identity(3)-Ad)  # 생산유발계수\n",
        "Lf"
      ],
      "metadata": {
        "colab": {
          "base_uri": "https://localhost:8080/"
        },
        "id": "SF7hebVoQi2M",
        "outputId": "a56ccd42-bde3-4623-aa50-78d83dbba45b"
      },
      "execution_count": 89,
      "outputs": [
        {
          "output_type": "execute_result",
          "data": {
            "text/plain": [
              "array([[1.08092021, 0.03012689, 0.01137552],\n",
              "       [0.45201623, 1.55662423, 0.28050647],\n",
              "       [0.25433867, 0.29124759, 1.41060738]])"
            ]
          },
          "metadata": {},
          "execution_count": 89
        }
      ]
    },
    {
      "cell_type": "code",
      "source": [
        "df_Lf = pd.DataFrame(Lf.round(3),columns = ['농산품', '공산품', '서비스'], index=['농산품', '공산품', '서비스'])  #pandas로 내보내기"
      ],
      "metadata": {
        "id": "YT9SwuJnQi8T"
      },
      "execution_count": 90,
      "outputs": []
    },
    {
      "cell_type": "markdown",
      "source": [
        "#### 부가가치유발계수(Lv)"
      ],
      "metadata": {
        "id": "DkU6os7vUW-0"
      }
    },
    {
      "cell_type": "code",
      "source": [
        "Va_r = Tt_1[-2,0:3]/ct # 부가가치율\n",
        "Va_r"
      ],
      "metadata": {
        "colab": {
          "base_uri": "https://localhost:8080/"
        },
        "id": "KfbCR-LdQjCF",
        "outputId": "05cf359b-9def-4b26-d05a-ce3f856f6878"
      },
      "execution_count": 91,
      "outputs": [
        {
          "output_type": "execute_result",
          "data": {
            "text/plain": [
              "array([0.55      , 0.30859375, 0.54842664])"
            ]
          },
          "metadata": {},
          "execution_count": 91
        }
      ]
    },
    {
      "cell_type": "code",
      "source": [
        "Va_m = np.diag(Va_r)  # 부가가치율 대각행렬\n",
        "Va_m"
      ],
      "metadata": {
        "colab": {
          "base_uri": "https://localhost:8080/"
        },
        "id": "7dkxNSQCQjJF",
        "outputId": "3518aa1d-2da9-451b-cdd9-0cafda835bf2"
      },
      "execution_count": 92,
      "outputs": [
        {
          "output_type": "execute_result",
          "data": {
            "text/plain": [
              "array([[0.55      , 0.        , 0.        ],\n",
              "       [0.        , 0.30859375, 0.        ],\n",
              "       [0.        , 0.        , 0.54842664]])"
            ]
          },
          "metadata": {},
          "execution_count": 92
        }
      ]
    },
    {
      "cell_type": "code",
      "source": [
        "Lv = Va_m@Lf  #부가가치유발계수\n",
        "Lv"
      ],
      "metadata": {
        "id": "DF_G_Hn09gRy",
        "colab": {
          "base_uri": "https://localhost:8080/"
        },
        "outputId": "b27680a8-a0a3-47fb-c500-08f0ca18c03f"
      },
      "execution_count": 93,
      "outputs": [
        {
          "output_type": "execute_result",
          "data": {
            "text/plain": [
              "array([[0.59450612, 0.01656979, 0.00625654],\n",
              "       [0.13948938, 0.48036451, 0.08656254],\n",
              "       [0.1394861 , 0.15972794, 0.77361467]])"
            ]
          },
          "metadata": {},
          "execution_count": 93
        }
      ]
    },
    {
      "cell_type": "code",
      "source": [
        "df_Lv = pd.DataFrame(Lv.round(3),columns = ['농산품', '공산품', '서비스'], index=['농산품', '공산품', '서비스'])  # pandas로 내보내기"
      ],
      "metadata": {
        "id": "Od3StAXA86sf"
      },
      "execution_count": 94,
      "outputs": []
    },
    {
      "cell_type": "markdown",
      "source": [
        "#### 수입유발계수"
      ],
      "metadata": {
        "id": "G-NYB11hVLEO"
      }
    },
    {
      "cell_type": "code",
      "source": [
        "Ai = Im_1[0:3,0:3]/ct_m\n",
        "\n",
        "print('수입투입계수표 : \\n', Ai)\n",
        "\n",
        "df_Ai = pd.DataFrame(Ai.round(3))  #pandas로 내보내기"
      ],
      "metadata": {
        "id": "IRm-HtOf9KVx",
        "colab": {
          "base_uri": "https://localhost:8080/"
        },
        "outputId": "c96a1f71-47fb-4c1d-9612-9d42688c865d"
      },
      "execution_count": 95,
      "outputs": [
        {
          "output_type": "stream",
          "name": "stdout",
          "text": [
            "수입투입계수표 : \n",
            " [[0.         0.00390625 0.00040866]\n",
            " [0.01666667 0.19866071 0.03228443]\n",
            " [0.         0.0078125  0.02002452]]\n"
          ]
        }
      ]
    },
    {
      "cell_type": "code",
      "source": [
        "Li = Ai@Lf  #수입유발계수\n",
        "Li"
      ],
      "metadata": {
        "id": "_8fZBBSX9kld",
        "outputId": "b69536b7-2367-4d12-dc0c-09409eca1cfe",
        "colab": {
          "base_uri": "https://localhost:8080/"
        }
      },
      "execution_count": 96,
      "outputs": [
        {
          "output_type": "execute_result",
          "data": {
            "text/plain": [
              "array([[0.00186963, 0.00619959, 0.00167219],\n",
              "       [0.11602438, 0.31914496, 0.10145586],\n",
              "       [0.00862439, 0.01799322, 0.03043819]])"
            ]
          },
          "metadata": {},
          "execution_count": 96
        }
      ]
    },
    {
      "cell_type": "code",
      "source": [
        "df_Li = pd.DataFrame(Li.round(3),columns = ['농산품', '공산품', '서비스'], index=['농산품', '공산품', '서비스'])  #pandas로 내보내기"
      ],
      "metadata": {
        "id": "qxP0BGTe-J6J"
      },
      "execution_count": 97,
      "outputs": []
    },
    {
      "cell_type": "markdown",
      "source": [],
      "metadata": {
        "id": "rDsqvOxBbB5w"
      }
    },
    {
      "cell_type": "code",
      "source": [
        "# CSV파일로 결과 내보내기\n",
        "df_At.to_csv('총투입계수.csv', encoding='utf_8-sig')\n",
        "df_Ad.to_csv('국산투입계수.csv', encoding='utf_8-sig')\n",
        "df_Ai.to_csv('수입투입계수.csv', encoding='utf_8-sig')\n",
        "\n",
        "df_Lf.to_csv('생산유발계수.csv', encoding='utf_8-sig')\n",
        "df_Lv.to_csv('부가가치유발계수.csv', encoding='utf_8-sig')\n",
        "df_Li.to_csv('수입유발계수.csv', encoding='utf_8-sig')"
      ],
      "metadata": {
        "id": "Var3WdHW-NdY"
      },
      "execution_count": 98,
      "outputs": []
    },
    {
      "cell_type": "markdown",
      "source": [
        "### 최종수요 항목별 유발효과"
      ],
      "metadata": {
        "id": "6zhSQgh83SmB"
      }
    },
    {
      "cell_type": "markdown",
      "source": [
        "##### 생산유발효과"
      ],
      "metadata": {
        "id": "P8-fs47q3WzF"
      }
    },
    {
      "cell_type": "code",
      "source": [
        "Yd = Dt[0:3,5:8]  # 국산최종수요...소비, 투자, 수출\n",
        "Yi = It[0:3,5:8]  # 수입최종수요...소비, 투자, 수출\n",
        "print('국산최종수요 : \\n', Yd)\n",
        "print('수입최종수요 : \\n', Yi)"
      ],
      "metadata": {
        "id": "aZ0NQ51_-OTA",
        "colab": {
          "base_uri": "https://localhost:8080/"
        },
        "outputId": "4fec3b5a-c3ff-4bb5-84af-2bbd3283e833"
      },
      "execution_count": 99,
      "outputs": [
        {
          "output_type": "stream",
          "name": "stdout",
          "text": [
            "국산최종수요 : \n",
            " [[15.0 -1.0 1.0]\n",
            " [138.0 106.0 623.0]\n",
            " [997.0 425.0 131.0]]\n",
            "수입최종수요 : \n",
            " [[3.0 1.0 0.0]\n",
            " [75.0 61.0 5.0]\n",
            " [35.0 7.0 0.0]]\n"
          ]
        }
      ]
    },
    {
      "cell_type": "code",
      "source": [
        "Lfyd = (Lf@Yd).astype(float).reshape([3,3])   # 데이터타입을 float으로 지정하고 3x3행렬로 지정\n",
        "Lvyd = (Lv@Yd).astype(float).reshape([3,3])   # 데이터타입을 float으로 지정하고 3x3행렬로 지정\n",
        "Liyd = (Li@Yd).astype(float).reshape([3,3]) + Yi.astype(float).reshape([3,3]) # 데이터타입을 float으로 지정하고 3x3행렬로 지정\n",
        "\n",
        "print('최종수요항목별 생산유발계수 : \\n', Lfyd)\n",
        "print('최종수요항목별 부가가치유발계수 : \\n', Lvyd)\n",
        "print('최종수요항목별 수입유발계수 : \\n', Liyd)\n"
      ],
      "metadata": {
        "id": "vI4pjfvx-WU_",
        "colab": {
          "base_uri": "https://localhost:8080/"
        },
        "outputId": "6c3bd7b8-d871-462b-f066-9a38732bfc0b"
      },
      "execution_count": 100,
      "outputs": [
        {
          "output_type": "stream",
          "name": "stdout",
          "text": [
            "최종수요항목별 생산유발계수 : \n",
            " [[  31.71270706    6.94712604   21.3401669 ]\n",
            " [ 501.25933776  283.765402   1006.97526024]\n",
            " [1450.38280627  630.12604255  366.49115118]]\n",
            "최종수요항목별 부가가치유발계수 : \n",
            " [[ 17.44198888   3.82091932  11.73709179]\n",
            " [154.68549876  87.56822952 310.74627172]\n",
            " [795.42857622 345.57791136 200.99351242]]\n",
            "최종수요항목별 수입유발계수 : \n",
            " [[  5.55076305   2.36596822   4.08326873]\n",
            " [221.93386526 137.83208294 217.2340518 ]\n",
            " [ 67.95930783  21.83488863  15.20580354]]\n"
          ]
        }
      ]
    },
    {
      "cell_type": "code",
      "source": [
        "##### 최종수요항목별 유발계수 검증...최종수요항목별 생산유발계수=산출액, 최종수요항목별 부가가치유발계수=부가가치, 최종수요항목별 수입유발계수=수입 이 성립하여야 함"
      ],
      "metadata": {
        "id": "2i4MUlDg5HPP"
      },
      "execution_count": 101,
      "outputs": []
    },
    {
      "cell_type": "code",
      "source": [
        "Lfyd_sm = Lfyd.sum(axis=1).astype(float).reshape([3,1])\n",
        "Lvyd_sm = Lvyd.sum(axis=1).astype(float).reshape([3,1])\n",
        "Liyd_sm = Liyd.sum(axis=1).astype(float).reshape([3,1])\n",
        "\n",
        "print('최종수요항목별 생산유발계수의 열합 : \\n', Lfyd_sm)\n",
        "print('최종수요항목별 부가가치유발의 열합 : \\n', Lvyd_sm)\n",
        "print('최종수요항목별 수입유발계의 열합 : \\n', Liyd_sm)"
      ],
      "metadata": {
        "colab": {
          "base_uri": "https://localhost:8080/"
        },
        "id": "kJH9hmlC5HUr",
        "outputId": "11296f96-8b09-46c1-c1e9-3aceb2c30e55"
      },
      "execution_count": 102,
      "outputs": [
        {
          "output_type": "stream",
          "name": "stdout",
          "text": [
            "최종수요항목별 생산유발계수의 열합 : \n",
            " [[  60.]\n",
            " [1792.]\n",
            " [2447.]]\n",
            "최종수요항목별 부가가치유발의 열합 : \n",
            " [[  33.]\n",
            " [ 553.]\n",
            " [1342.]]\n",
            "최종수요항목별 수입유발계의 열합 : \n",
            " [[ 12.]\n",
            " [577.]\n",
            " [105.]]\n"
          ]
        }
      ]
    },
    {
      "cell_type": "markdown",
      "source": [
        "###### 최종수요항목별 생산, 부가가치 및 수입유발계수"
      ],
      "metadata": {
        "id": "lIoPBD-Fae1A"
      }
    },
    {
      "cell_type": "code",
      "source": [
        "Yd_rw_sm =Yd.sum(axis=0)  #국산최종수요항목별(소비, 투자, 수출) 행합\n",
        "Yi_rw_sm =Yi.sum(axis=0)  #수입최종수요항목별(소비, 투자, 수출) 행합\n",
        "\n",
        "Lfyd_rw_sm = Lfyd.sum(axis=0) # 최종수요항목별(소비, 투자, 수출) 생산유발계수 행합\n",
        "Lvyd_rw_sm = Lvyd.sum(axis=0) # 최종수요항목별(소비, 투자, 수출) 부가가치유발계수 행합\n",
        "Liyd_rw_sm = Liyd.sum(axis=0) # 최종수요항목별(소비, 투자, 수출) 수입유발계수 행합\n",
        "\n",
        "print('최종수요항목별 행합 : \\n', Yd_rw_sm)\n",
        "print('최종수요항목별 생산유발계수 행합 : \\n', Lfyd_rw_sm)\n",
        "print('최종수요항목별 부가가치유발계수 행합 : \\n', Lvyd_rw_sm)\n",
        "print('최종수요항목별 수입유발계수 행합: \\n', Liyd_rw_sm)"
      ],
      "metadata": {
        "colab": {
          "base_uri": "https://localhost:8080/"
        },
        "id": "6XUSbGUyanOq",
        "outputId": "36599f42-0093-42c9-c4a6-11590fcb9757"
      },
      "execution_count": 103,
      "outputs": [
        {
          "output_type": "stream",
          "name": "stdout",
          "text": [
            "최종수요항목별 행합 : \n",
            " [1150.0 530.0 755.0]\n",
            "최종수요항목별 생산유발계수 행합 : \n",
            " [1983.35485109  920.83857058 1394.80657833]\n",
            "최종수요항목별 부가가치유발계수 행합 : \n",
            " [967.55606387 436.9670602  523.47687593]\n",
            "최종수요항목별 수입유발계수 행합: \n",
            " [295.44393613 162.0329398  236.52312407]\n"
          ]
        }
      ]
    },
    {
      "cell_type": "markdown",
      "source": [
        "##### 최종수요항목별(소비, 투자, 수출) 유발계수"
      ],
      "metadata": {
        "id": "_hjFJ_N0dggV"
      }
    },
    {
      "cell_type": "code",
      "source": [
        "Lfyd_coef =(Lfyd_rw_sm/Yd_rw_sm).astype(float).reshape([1,3]) #최종수요항목별(소비, 투자, 수출) 생산유발계수\n",
        "Lvyd_coef =(Lvyd_rw_sm/Yd_rw_sm).astype(float).reshape([1,3]) #최종수요항목별(소비, 투자, 수출) 생산유발계수\n",
        "Liyd_coef =(Liyd_rw_sm/(Yd_rw_sm+Yi_rw_sm)).astype(float).reshape([1,3]) #최종수요항목별(소비, 투자, 수출) 생산유발계수\n",
        "\n",
        "print('최종수요항목별(소비, 투자, 수출) 생산유발계수 행합 : \\n', Lfyd_coef)\n",
        "print('최종수요항목별(소비, 투자, 수출) 부가가치유발계수 행합 : \\n', Lvyd_coef)\n",
        "print('최종수요항목별(소비, 투자, 수출) 수입유발계수 행합: \\n', Liyd_coef)"
      ],
      "metadata": {
        "colab": {
          "base_uri": "https://localhost:8080/"
        },
        "id": "MmV_4BB-anZi",
        "outputId": "800c6137-bbf9-447e-f689-32e26df9a00b"
      },
      "execution_count": 104,
      "outputs": [
        {
          "output_type": "stream",
          "name": "stdout",
          "text": [
            "최종수요항목별(소비, 투자, 수출) 생산유발계수 행합 : \n",
            " [[1.72465639 1.73743127 1.84742593]]\n",
            "최종수요항목별(소비, 투자, 수출) 부가가치유발계수 행합 : \n",
            " [[0.8413531  0.82446615 0.69334686]]\n",
            "최종수요항목별(소비, 투자, 수출) 수입유발계수 행합: \n",
            " [[0.23392236 0.27050574 0.31121464]]\n"
          ]
        }
      ]
    },
    {
      "cell_type": "markdown",
      "source": [
        "###### 영향력계수(후방연쇄효과) 및 감응도계수(전방연쇄효과)"
      ],
      "metadata": {
        "id": "Kr23Ly0AhpVR"
      }
    },
    {
      "cell_type": "code",
      "source": [
        "Lf_rw_sm = Lf.sum(axis=0)  # 생산유발계수 행합\n",
        "Lf_cl_sm = Lf.sum(axis=1)  # 생산유발계수 행합\n",
        "\n",
        "Lf_bwd = (Lf.sum(axis=0)/Lf_rw_sm.mean()).astype(float).reshape([1,3])  #영향력 계수\n",
        "Lf_fwd = (Lf.sum(axis=1)/Lf_cl_sm.mean()).astype(float).reshape([1,3])  #감응도 계수\n",
        "\n",
        "print('품목별 영향력계수 : \\n', Lf_bwd)\n",
        "print('품목별 감음도계수: \\n', Lf_fwd)"
      ],
      "metadata": {
        "colab": {
          "base_uri": "https://localhost:8080/"
        },
        "id": "DxnO-URDanip",
        "outputId": "364ff446-2bef-40f8-e5aa-006c352b5062"
      },
      "execution_count": 105,
      "outputs": [
        {
          "output_type": "stream",
          "name": "stdout",
          "text": [
            "품목별 영향력계수 : \n",
            " [[0.99889379 1.04959849 0.95150772]]\n",
            "품목별 감음도계수: \n",
            " [[0.62731305 1.27938595 1.09330101]]\n"
          ]
        }
      ]
    },
    {
      "cell_type": "code",
      "source": [
        "# pandas로 변환기\n",
        "\n",
        "df_Lfyd =pd.DataFrame(Lfyd.round(1),columns = ['농산품', '공산품', '서비스'], index=['소비', '투자', '수출'])  #pandas로 내보내기\n",
        "df_Lvyd =pd.DataFrame(Lvyd.round(1),columns = ['농산품', '공산품', '서비스'], index=['소비', '투자', '수출'])\n",
        "df_Liyd =pd.DataFrame(Liyd.round(1),columns = ['농산품', '공산품', '서비스'], index=['소비', '투자', '수출'])\n",
        "\n",
        "df_Lfyd_coef = pd.DataFrame(Lfyd_coef.round(3),columns = ['농산품', '공산품', '서비스'], index=['항목별 생산유발계수'])\n",
        "df_Lvyd_coef = pd.DataFrame(Lvyd_coef.round(3),columns = ['농산품', '공산품', '서비스'], index=['항목별 부가가치유발계수'])\n",
        "df_Liyd_coef = pd.DataFrame(Liyd_coef.round(3),columns = ['농산품', '공산품', '서비스'], index=['항목별 수입유발계수'])\n",
        "\n",
        "df_Lf_bwd = pd.DataFrame(Lf_bwd.round(3), columns = ['농산품', '공산품', '서비스'], index=['영향력계수'])\n",
        "df_Lf_fwd = pd.DataFrame(Lf_fwd.round(3), columns = ['농산품', '공산품', '서비스'], index=['영향력계수'])\n",
        "\n",
        "print(df_Lfyd)\n",
        "print(df_Lvyd)\n",
        "print(df_Liyd)\n",
        "\n",
        "print(df_Lfyd_coef)\n",
        "print(df_Lvyd_coef)\n",
        "print(df_Liyd_coef)\n",
        "\n",
        "print(df_Lf_bwd)\n",
        "print(df_Lf_fwd)"
      ],
      "metadata": {
        "colab": {
          "base_uri": "https://localhost:8080/"
        },
        "id": "Uy-18-Rxanp2",
        "outputId": "01e6b5b1-43bc-4b2f-dbad-d422ad7b0a39"
      },
      "execution_count": 106,
      "outputs": [
        {
          "output_type": "stream",
          "name": "stdout",
          "text": [
            "       농산품    공산품     서비스\n",
            "소비    31.7    6.9    21.3\n",
            "투자   501.3  283.8  1007.0\n",
            "수출  1450.4  630.1   366.5\n",
            "      농산품    공산품    서비스\n",
            "소비   17.4    3.8   11.7\n",
            "투자  154.7   87.6  310.7\n",
            "수출  795.4  345.6  201.0\n",
            "      농산품    공산품    서비스\n",
            "소비    5.6    2.4    4.1\n",
            "투자  221.9  137.8  217.2\n",
            "수출   68.0   21.8   15.2\n",
            "              농산품    공산품    서비스\n",
            "항목별 생산유발계수  1.725  1.737  1.847\n",
            "                농산품    공산품    서비스\n",
            "항목별 부가가치유발계수  0.841  0.824  0.693\n",
            "              농산품    공산품    서비스\n",
            "항목별 수입유발계수  0.234  0.271  0.311\n",
            "         농산품   공산품    서비스\n",
            "영향력계수  0.999  1.05  0.952\n",
            "         농산품    공산품    서비스\n",
            "영향력계수  0.627  1.279  1.093\n"
          ]
        }
      ]
    },
    {
      "cell_type": "code",
      "source": [
        "# csv 파일로 내보내기\n",
        "df_Lfyd.to_csv('최종수요항목별 생산유발액.csv', encoding='utf_8-sig')\n",
        "df_Lvyd.to_csv('최종수요항목별 부가가치유발액.csv', encoding='utf_8-sig')\n",
        "df_Liyd.to_csv('최종수요항목별 수입유발액.csv', encoding='utf_8-sig')\n",
        "\n",
        "df_Lfyd_coef.to_csv('최종수요항목별 생산유발계수.csv', encoding='utf_8-sig')\n",
        "df_Lvyd_coef.to_csv('최종수요항목별 부가가치유발계수.csv', encoding='utf_8-sig')\n",
        "df_Liyd_coef.to_csv('최종수요항목별 수입유발계수.csv', encoding='utf_8-sig')\n",
        "\n",
        "df_Lf_bwd.to_csv('영향력계수.csv', encoding='utf_8-sig')\n",
        "df_Lf_bwd.to_csv('감응도계수.csv', encoding='utf_8-sig')"
      ],
      "metadata": {
        "id": "Dk8oBy3oanwg"
      },
      "execution_count": 107,
      "outputs": []
    },
    {
      "cell_type": "code",
      "source": [],
      "metadata": {
        "id": "G-mJLG0can6J"
      },
      "execution_count": 107,
      "outputs": []
    },
    {
      "cell_type": "code",
      "source": [],
      "metadata": {
        "id": "OcdzFts-aoCe"
      },
      "execution_count": 107,
      "outputs": []
    },
    {
      "cell_type": "code",
      "source": [
        "#pandas로 내보내기\n",
        "\n",
        "# df_Lfyd = pd.DataFrame(Lfyd.round(3),columns = ['농산품', '공산품', '서비스'], index=['농산품', '공산품', '서비스'])\n",
        "# df_Lvyd = pd.DataFrame(Lvyd.round(3),columns = ['농산품', '공산품', '서비스'], index=['농산품', '공산품', '서비스'])\n",
        "# df_Liyd = pd.DataFrame(Liyd.round(3),columns = ['농산품', '공산품', '서비스'], index=['농산품', '공산품', '서비스'])\n"
      ],
      "metadata": {
        "id": "IrTVIJP06hir"
      },
      "execution_count": 108,
      "outputs": []
    },
    {
      "cell_type": "code",
      "source": [
        "# # csv 파일로 내보내기\n",
        "\n",
        "# df_Lfyd.to_csv('최종수요항목별_생산유발.csv')\n",
        "# df_Lvyd.to_csv('최종수요항목별_부가가치유발.csv')\n",
        "# df_Liyd.to_csv('최종수요항목별_수입유발.csv')"
      ],
      "metadata": {
        "id": "aBWNCPV-_T6J"
      },
      "execution_count": 109,
      "outputs": []
    },
    {
      "cell_type": "markdown",
      "source": [
        "### 물가파급효과 분석\n",
        "\n",
        "\n",
        "##### - 투입계수의 전치행렬을 이용하여 생산유발계수(Lf)을 이용하여 각종 물가파급효과 분석 가능"
      ],
      "metadata": {
        "id": "LrSLa3VTD5Nd"
      }
    },
    {
      "cell_type": "code",
      "source": [
        "At_trans = At.T  # 총투입계수의 전치행렬\n",
        "Ad_trans = Ad.T  # 국산투입계수의 전치행렬\n",
        "Ai_trans = Ai.T  # 국산투입계수의 전치행렬\n",
        "\n",
        "print('총투입계수의 전치행렬 : \\n', At_trans)\n",
        "print('국산투입계수의 전치행렬: \\n', Ad_trans)\n",
        "print('수입투입계수의 전치행렬: \\n', Ai_trans)\n",
        "\n",
        "Lf_trans = np.linalg.inv(np.identity(3)-Ad_trans)  # (I-Ad_trans)의 역행렬\n",
        "print('국산투입계수 전치행렬의 역행렬: \\n', Lf_trans)"
      ],
      "metadata": {
        "id": "QlwdX5oMD71E",
        "outputId": "2deba8b2-a31c-4ad5-aabb-0d22cc246dab",
        "colab": {
          "base_uri": "https://localhost:8080/"
        }
      },
      "execution_count": 110,
      "outputs": [
        {
          "output_type": "stream",
          "name": "stdout",
          "text": [
            "총투입계수의 전치행렬 : \n",
            " [[0.06666667 0.26666667 0.11666667]\n",
            " [0.02120536 0.52678571 0.14341518]\n",
            " [0.0044953  0.16387413 0.28320392]]\n",
            "국산투입계수의 전치행렬: \n",
            " [[0.06666667 0.25       0.11666667]\n",
            " [0.01729911 0.328125   0.13560268]\n",
            " [0.00408664 0.1315897  0.2631794 ]]\n",
            "수입투입계수의 전치행렬: \n",
            " [[0.         0.01666667 0.        ]\n",
            " [0.00390625 0.19866071 0.0078125 ]\n",
            " [0.00040866 0.03228443 0.02002452]]\n",
            "국산투입계수 전치행렬의 역행렬: \n",
            " [[1.08092021 0.45201623 0.25433867]\n",
            " [0.03012689 1.55662423 0.29124759]\n",
            " [0.01137552 0.28050647 1.41060738]]\n"
          ]
        }
      ]
    },
    {
      "cell_type": "markdown",
      "source": [],
      "metadata": {
        "id": "aBgrgkliI_uH"
      }
    },
    {
      "cell_type": "markdown",
      "source": [
        "#### 임금인상의 물가파급효과"
      ],
      "metadata": {
        "id": "VmIala71I_1M"
      }
    },
    {
      "cell_type": "code",
      "source": [
        "delta_all_w = np.array([10,10,10]).reshape([3,1]) # 모든 상품의 임금이 10% 상승\n",
        "delta_all_Pw = (Lf_trans@Va_m)@delta_all_w\n",
        "\n",
        "delta_par_w = np.array([0,10,0]).reshape([3,1]) # 공산품의 임금이 10% 상승\n",
        "delta_par_Pw = (Lf_trans@Va_m)@delta_par_w\n",
        "\n",
        "print('모든 상품의 임금이 10% 상승시 물가파급효과: \\n', delta_all_Pw)\n",
        "print('공산품의 임금이 10% 상승시 물가파급효과: \\n', delta_par_Pw)\n"
      ],
      "metadata": {
        "id": "hT30koHOD8WG",
        "outputId": "b0d53ee0-7bc0-4a27-d695-5651b2861a4f",
        "colab": {
          "base_uri": "https://localhost:8080/"
        }
      },
      "execution_count": 111,
      "outputs": [
        {
          "output_type": "stream",
          "name": "stdout",
          "text": [
            "모든 상품의 임금이 10% 상승시 물가파급효과: \n",
            " [[8.73481604]\n",
            " [6.56662236]\n",
            " [8.66433753]]\n",
            "공산품의 임금이 10% 상승시 물가파급효과: \n",
            " [[1.39489383]\n",
            " [4.80364509]\n",
            " [0.86562543]]\n"
          ]
        }
      ]
    },
    {
      "cell_type": "markdown",
      "source": [
        "#### 공산품 등 내생부분(중간투입품) 가격변동의 물가파급효과"
      ],
      "metadata": {
        "id": "lz8QJDXeZA_n"
      }
    },
    {
      "cell_type": "code",
      "source": [
        "#### 중간투입되는 공산품의 물가변동의 파급효과 분석\n",
        "\n",
        "Ad_exd_row = np.delete(Ad_trans,1,0).reshape([2,3])  # 공산품(sectors2) 행 삭제\n",
        "Ad_exd_manu = np.delete(Ad_exd_row,1,1).reshape([2,2])  # 공산품(sectors2) 열 삭제,,최종적으로 2x2 행렬\n",
        "print('물가변동이 발생한 부문을 제가한 국산투입계수 : \\n', Ad_exd_manu)\n",
        "\n",
        "A_Pr_sec2 = np.concatenate((Ad_trans[0,1].reshape([1,1]),Ad_trans[2,1].reshape([1,1])),axis=0).reshape([2,1])  # 물가가 변동하는 부문의 국산 투입계수(a21, a23)\n",
        "print('물가변동이 발생한 부문의 국산투입계수 : \\n', A_Pr_sec2)\n",
        "\n",
        "#공산품 물가 10% 상승시 파급효과\n",
        "\n",
        "delta_manu_Pw = Ad_exd_manu@A_Pr_sec2*10\n",
        "print('공산품 10% 상승시 다른 부문의 물가변동 : \\n', delta_manu_Pw)"
      ],
      "metadata": {
        "id": "MH8Zx-JXD8ZG",
        "colab": {
          "base_uri": "https://localhost:8080/"
        },
        "outputId": "4e6b3af2-232b-4d5f-8878-b56df8680719"
      },
      "execution_count": 112,
      "outputs": [
        {
          "output_type": "stream",
          "name": "stdout",
          "text": [
            "물가변동이 발생한 부문을 제가한 국산투입계수 : \n",
            " [[0.06666667 0.11666667]\n",
            " [0.00408664 0.2631794 ]]\n",
            "물가변동이 발생한 부문의 국산투입계수 : \n",
            " [[0.25     ]\n",
            " [0.1315897]]\n",
            "공산품 10% 상승시 다른 부문의 물가변동 : \n",
            " [[0.32018799]\n",
            " [0.35653358]]\n"
          ]
        }
      ]
    },
    {
      "cell_type": "markdown",
      "source": [
        "#### 수입산품 가격변동의 물가파급효과\n"
      ],
      "metadata": {
        "id": "KGihX7EPGGt3"
      }
    },
    {
      "cell_type": "code",
      "source": [
        "Imp_Pw = np.array([10,0,0]).reshape([3,1]) # 수입농산물 10% 상승\n",
        "delta_imp_Pw =  ((Lf_trans @Ai_trans)@Imp_Pw).reshape([3,1])\n",
        "\n",
        "print('수입통산품 가격 10% 상승시 다른 부문의 물가변동 : \\n', delta_imp_Pw)"
      ],
      "metadata": {
        "colab": {
          "base_uri": "https://localhost:8080/"
        },
        "id": "5p1nygTxZI38",
        "outputId": "68d90198-9ce9-41a0-9ced-98effe37092e"
      },
      "execution_count": 113,
      "outputs": [
        {
          "output_type": "stream",
          "name": "stdout",
          "text": [
            "수입통산품 가격 10% 상승시 다른 부문의 물가변동 : \n",
            " [[0.01869627]\n",
            " [0.06199586]\n",
            " [0.01672192]]\n"
          ]
        }
      ]
    },
    {
      "cell_type": "code",
      "source": [
        "#pandas로 내보\n",
        "\n",
        "df_delta_all_Pw = pd.DataFrame(delta_all_Pw.round(3),columns = ['물가상승률'], index=['농산품', '공산품', '서비스'])  # 모든 부문의 임금 10% 상승\n",
        "df_delta_par_Pw = pd.DataFrame(delta_par_Pw.round(3),columns = ['물가상승률'], index=['농산품', '공산품', '서비스'])  # 공산품 부문의 임금 10% 상승\n",
        "df_delta_manu_Pw = pd.DataFrame(delta_manu_Pw.round(3),columns = ['물가상승률'], index=['농산품', '서비스'])        # 공산품 물가 10% 상승\n",
        "df_delta_imp_Pw = pd.DataFrame(delta_imp_Pw.round(3),columns = ['물가상승률'], index=['농산품', '공산품', '서비스'])   # 수입 농산품 물가 10% 상승"
      ],
      "metadata": {
        "id": "Njxfr_mbHtnA"
      },
      "execution_count": 114,
      "outputs": []
    },
    {
      "cell_type": "code",
      "source": [
        "df_delta_all_Pw.to_csv('모든 부문 임금 10% 상승.csv')\n",
        "df_delta_par_Pw.to_csv('공산품 부문 임금 10% 상승.csv')\n",
        "df_delta_manu_Pw.to_csv('공산품 물가 10% 상승.csv')\n",
        "df_delta_imp_Pw.to_csv('수입 농산품 물가 10% 상승.csv')"
      ],
      "metadata": {
        "id": "Q0fXvrqKKjRH"
      },
      "execution_count": 115,
      "outputs": []
    },
    {
      "cell_type": "markdown",
      "source": [
        "### 서비스 부문의 내생화"
      ],
      "metadata": {
        "id": "0T6xGJKLAhvD"
      }
    },
    {
      "cell_type": "code",
      "source": [
        "# 생산유발액\n",
        "\n",
        "Ad_ser_etr = Ad[0:2,0:2] # 서비스가 제거된 농산품과 공산품만 포함된 국산투입계수\n",
        "Lf_Ad_ser_etr = np.linalg.inv(np.identity(2)-Ad_ser_etr) # 역행렬(생산유발계수)\n",
        "print('농산품과 공산품으로 구성된 생산유발계수: \\n', Lf_Ad_ser_etr)\n",
        "\n",
        "Ad_ser =Ad[0:2,2].reshape([2,1])\n",
        "print('서비스의 국산투입계수(농산품과 공산품만 포함): \\n', Ad_ser)\n",
        "\n",
        "Mtp_ser = Lf_Ad_ser_etr@Ad_ser # 서비스 외생화의 효과를 계산하기 위한 멀티플라이어\n",
        "print('외생화 부문의 효과를 계산하기 위한 멀티플라이어: \\n', Mtp_ser)\n",
        "\n",
        "Amt_etr = Mtp_ser*244 # 서비스 총산출(총투자) 3,432,811의 각 산업 생산유발액\n",
        "print('유발액: \\n', Amt_etr)\n"
      ],
      "metadata": {
        "id": "ImapvnHSM3mu",
        "colab": {
          "base_uri": "https://localhost:8080/"
        },
        "outputId": "7cf66d25-7f20-42b2-bb13-adfb0910bcff"
      },
      "execution_count": 116,
      "outputs": [
        {
          "output_type": "stream",
          "name": "stdout",
          "text": [
            "농산품과 공산품으로 구성된 생산유발계수: \n",
            " [[1.07886916 0.02777819]\n",
            " [0.40143969 1.49870816]]\n",
            "서비스의 국산투입계수(농산품과 공산품만 포함): \n",
            " [[0.00408664]\n",
            " [0.1315897 ]]\n",
            "외생화 부문의 효과를 계산하기 위한 멀티플라이어: \n",
            " [[0.00806427]\n",
            " [0.1988551 ]]\n",
            "유발액: \n",
            " [[ 1.96768197]\n",
            " [48.52064402]]\n"
          ]
        }
      ]
    },
    {
      "cell_type": "code",
      "source": [
        "# 수입유발액\n",
        "Ai_ser_etr = Ai[0:2,0:2] # 서비스가 제거된 농산품과 공산품만 포함된 수입투입계수\n",
        "Ai_ser_dr = Ai[:,2].sum().reshape([1,1])\n",
        "\n",
        "Mtp_imp_indr = Ai_ser_etr@Mtp_ser  # 간접효과 멀티플라이어\n",
        "print('간접효과 멀티플라이어: \\n', Mtp_imp_indr)\n",
        "\n",
        "Amt_imp_indr = Mtp_imp_indr*244 # 간접효과\n",
        "Amt_imp_dr = Ai_ser_dr*244      # 직접효과\n",
        "Amt_imp_tot = Amt_imp_indr.sum() + Amt_imp_dr\n",
        "\n",
        "print('간접효과 : \\n', Amt_imp_indr)\n",
        "print('직접효과 : \\n', Amt_imp_dr)\n",
        "print('총효과 : \\n', Amt_imp_tot)\n"
      ],
      "metadata": {
        "colab": {
          "base_uri": "https://localhost:8080/"
        },
        "id": "lKcch7NXAyaQ",
        "outputId": "cb01e5da-030c-498a-c7da-f972ae1b0e80"
      },
      "execution_count": 117,
      "outputs": [
        {
          "output_type": "stream",
          "name": "stdout",
          "text": [
            "간접효과 멀티플라이어: \n",
            " [[0.00077678]\n",
            " [0.0396391 ]]\n",
            "간접효과 : \n",
            " [[0.18953377]\n",
            " [9.6719405 ]]\n",
            "직접효과 : \n",
            " [[12.86309767]]\n",
            "총효과 : \n",
            " [[22.72457193]]\n"
          ]
        }
      ]
    },
    {
      "cell_type": "code",
      "source": [
        "# 부가가치유발액\n",
        "Av_ser_etr = Va_m[0:2,0:2] # 서비스가 제거된 농산품과 공산품만 포함된 부가가치율\n",
        "Av_ser_dr = Va_m[2,2].reshape([1,1])  # 서비스의 부가가치율\n",
        "\n",
        "Mtp_var_indr = Av_ser_etr@Mtp_ser  # 간접효과 멀티플라이어\n",
        "print('간접효과 멀티플라이어: \\n', Mtp_var_indr)\n",
        "\n",
        "Amt_var_indr = Mtp_var_indr*244  # 간접효과\n",
        "Amt_var_dr= Av_ser_dr*244       # 직접효과\n",
        "Amt_var_tot = Amt_var_indr.sum() + Amt_var_dr\n",
        "\n",
        "print('간접효과 : \\n', Amt_var_indr)\n",
        "print('직접효과 : \\n', Amt_var_dr)\n",
        "print('총효과 : \\n', Amt_var_tot)"
      ],
      "metadata": {
        "colab": {
          "base_uri": "https://localhost:8080/"
        },
        "id": "z0oF5lwlKqlY",
        "outputId": "035cc823-419b-483b-88b3-f46e0b6d00c3"
      },
      "execution_count": 118,
      "outputs": [
        {
          "output_type": "stream",
          "name": "stdout",
          "text": [
            "간접효과 멀티플라이어: \n",
            " [[0.00443535]\n",
            " [0.06136544]]\n",
            "간접효과 : \n",
            " [[ 1.08222508]\n",
            " [14.97316749]]\n",
            "직접효과 : \n",
            " [[133.81610135]]\n",
            "총효과 : \n",
            " [[149.87149392]]\n"
          ]
        }
      ]
    },
    {
      "cell_type": "markdown",
      "source": [
        "### 산출 변동요인분해"
      ],
      "metadata": {
        "id": "00a8dQ_-Ug2y"
      }
    },
    {
      "cell_type": "code",
      "source": [
        "# 2015년 거래표 다운로드\n",
        "\n",
        "url_total = \"https://raw.githubusercontent.com/Tom-Jung/legendary-funicular/main/%EC%B4%9D%EA%B1%B0%EB%9E%98%ED%91%9C_2015_%EB%B6%88%EB%B3%80.csv\"  # 불변 2015년 총거래표\n",
        "Tot_cst_15 = pd.read_csv(url_total)\n",
        "\n",
        "url_imp = \"https://raw.githubusercontent.com/Tom-Jung/legendary-funicular/main/%EC%88%98%EC%9E%85%EA%B1%B0%EB%9E%98%ED%91%9C_2015_%EB%B6%88%EB%B3%80.csv\"  # 불변 2015년 수입거래표\n",
        "Imp_cst_15 = pd.read_csv(url_imp)\n",
        "\n",
        "url_dom = \"https://raw.githubusercontent.com/Tom-Jung/legendary-funicular/main/%EA%B5%AD%EC%82%B0%EA%B1%B0%EB%9E%98%ED%91%9C_2015_%EB%B6%88%EB%B3%80.csv\"  # 불변 2015년 국산거래표\n",
        "Dom_cst_15 = pd.read_csv(url_dom)"
      ],
      "metadata": {
        "id": "5iSPH3zYKquU"
      },
      "execution_count": 119,
      "outputs": []
    },
    {
      "cell_type": "code",
      "source": [
        "# 2010년 거래표 다운로드\n",
        "\n",
        "url_total = \"https://raw.githubusercontent.com/Tom-Jung/legendary-funicular/main/%EC%B4%9D%EA%B1%B0%EB%9E%98%ED%91%9C_2010_%EB%B6%88%EB%B3%80.csv\"  # 불변 2015년 총거래표\n",
        "Tot_cst_10 = pd.read_csv(url_total)\n",
        "\n",
        "url_imp = \"https://raw.githubusercontent.com/Tom-Jung/legendary-funicular/main/%EC%88%98%EC%9E%85%EA%B1%B0%EB%9E%98%ED%91%9C_2010_%EB%B6%88%EB%B3%80.csv\"  # 불변 2015년 수입거래표\n",
        "Imp_cst_10 = pd.read_csv(url_imp)\n",
        "\n",
        "url_dom = \"https://raw.githubusercontent.com/Tom-Jung/legendary-funicular/main/%EA%B5%AD%EC%82%B0%EA%B1%B0%EB%9E%98%ED%91%9C_2010_%EB%B6%88%EB%B3%80.csv\"  # 불변 2015년 국산거래표\n",
        "Dom_cst_10 = pd.read_csv(url_dom)"
      ],
      "metadata": {
        "id": "o8Pv_b5hKqyW"
      },
      "execution_count": 120,
      "outputs": []
    },
    {
      "cell_type": "code",
      "source": [
        "Tot_cst_15"
      ],
      "metadata": {
        "id": "f9aN0wIQGi15",
        "outputId": "1f439104-d6a7-41c8-c0a6-2370b29b2793",
        "colab": {
          "base_uri": "https://localhost:8080/",
          "height": 1000
        }
      },
      "execution_count": 121,
      "outputs": [
        {
          "output_type": "execute_result",
          "data": {
            "text/plain": [
              "    code                 name          A         B         C01        C02  \\\n",
              "0   code                 name      농림수산품       광산품        음식료품  섬유 및 가죽제품   \n",
              "1      A                농림수산품   3225287      5492    35485401     756039    \n",
              "2      B                  광산품      1031      2070       26495       4943    \n",
              "3    C01                 음식료품   9277388      8905    23196840     826970    \n",
              "4    C02            섬유 및 가죽제품    666365     11635      169657   23044097    \n",
              "5    C03          목재 및 종이, 인쇄    692030     13185     2389756     908744    \n",
              "6    C04            석탄 및 석유제품   1296813     98739      338744     308507    \n",
              "7    C05                 화학제품   4790382    125491     3228075    7161893    \n",
              "8    C06              비금속광물제품     19123      8393      608197      44391    \n",
              "9    C07              1차 금속제품     53247      5588        7114      24843    \n",
              "10   C08               금속가공제품     61407     60913     1758443     336572    \n",
              "11   C09       컴퓨터, 전자 및 광학기기     99563      6216      118948      81442    \n",
              "12   C10                 전기장비    107062     18098       31868      77003    \n",
              "13   C11              기계 및 장비    218782    105235      179024      89168    \n",
              "14   C12                 운송장비    264814     63535       23234      23217    \n",
              "15   C13            기타 제조업 제품     12529      1515      224988     368996    \n",
              "16   C14    제조임가공 및 산업용 장비 수리    190133    105126     2966873   15998203    \n",
              "17     D          전력, 가스 및 증기    753333     97378     1184151    1091391    \n",
              "18     E   수도, 폐기물처리 및 재활용서비스     78201     12030      370400     229169    \n",
              "19     F                   건설     75323     13979       63771      26117    \n",
              "20     G        도소매 및 상품중개서비스   2477932     56080     8894598    6404523    \n",
              "21     H                운송서비스    811655    533937     4241112    2145281    \n",
              "22     I          음식점 및 숙박서비스    505745     78718      433905     528480    \n",
              "23     J        정보통신 및 방송 서비스    191029     19880      231839     193487    \n",
              "24     K          금융 및 보험 서비스    878012    164761      815843     930076    \n",
              "25     L               부동산서비스     50251      6675      239377     392604    \n",
              "26     M      전문, 과학 및 기술 서비스    754673    174478     3479280    1350085    \n",
              "27     N              사업지원서비스    137370    128818      404747     372882    \n",
              "28     O      공공행정, 국방 및 사회보장    133260      8194       21874      29142    \n",
              "29     P                교육서비스      3156       735       24535       7853    \n",
              "30     Q        보건 및 사회복지 서비스    124528     11636      101471      69260    \n",
              "31     R  예술, 스포츠 및 여가 관련 서비스     58099     19320       62126      67455    \n",
              "32     S               기타 서비스    104857     20954      173588      86947    \n",
              "33  9590                중간투입계  28113380   1987709    91496275   63979781    \n",
              "34  9610                피용자보수   5243464    694732     9906095    7417072    \n",
              "35  9621                 영업잉여  22576442   1148712     5076670    4095066    \n",
              "36  9622               고정자본소모   4828393    355891     3818737    2140284    \n",
              "37  9630           생산세(보조금공제)    610044    -61826    11849443    1696934    \n",
              "38  9690                부가가치계  33258343   2137509    30650945   15349356    \n",
              "39  9790                 총투입계  61371723   4125218   122147220   79329137    \n",
              "\n",
              "            C03         C04         C05        C06  ...        9121  \\\n",
              "0   목재 및 종이, 인쇄   석탄 및 석유제품        화학제품    비금속광물제품  ...  민간고정\\n자본형성   \n",
              "1       992448        7074     1135571       8015   ...     430212    \n",
              "2        26272    57488159     5407723    3413004   ...          0    \n",
              "3        75877       75184     1239849      38483   ...          0    \n",
              "4       441460       65263     1718201     138459   ...     130013    \n",
              "5     13831561      132521     1676192     452805   ...          0    \n",
              "6       232754     4347409    26408022    1592043   ...          0    \n",
              "7      2962133     2119402    81181451    1782734   ...          0    \n",
              "8        20688       71101     1005440    6772896   ...          0    \n",
              "9        40386      182098     1893958     654005   ...   -2448262    \n",
              "10      318423     1171098     1846442     488616   ...    3799517    \n",
              "11       92000      315570      476569      80108   ...   21598161    \n",
              "12       58784      149982      267769     140971   ...   10891972    \n",
              "13       71445      933770     3034057     365803   ...   53072767    \n",
              "14       43773       90162      230695     156700   ...   27966392    \n",
              "15       24469        7541       32144       6964   ...    2824170    \n",
              "16     1426535      247610     5102330     825429   ...          0    \n",
              "17     1437146     1875819     6119353    1666152   ...          0    \n",
              "18      470604       78272     1665182     327712   ...          0    \n",
              "19       26276       50217      178747      31827   ...  165908820    \n",
              "20     2041403     1179179     8638507    1225360   ...   11056000    \n",
              "21     1894019      948512     7528853    4211116   ...     240833    \n",
              "22      443570      325121     1479119     341107   ...          0    \n",
              "23      237473      413305      672422     212111   ...   28083841    \n",
              "24      643369      217007     2361952     489830   ...          0    \n",
              "25      161823      160883      392515      75962   ...   26009160    \n",
              "26      887585     2788985    10523953    1253031   ...   59111665    \n",
              "27      371958      547390     1123964     233818   ...          0    \n",
              "28       37860       21522      383230      19587   ...          0    \n",
              "29       15632       26614       95048      17385   ...          0    \n",
              "30       70384       43733      240887      52640   ...          0    \n",
              "31       61731       54980      197161      41468   ...     477638    \n",
              "32       83406      128182      290454     103286   ...          0    \n",
              "33    29543249    76263662   174547758   27219431   ...  409152899    \n",
              "34     5973894     1366271    21429173    4644470   ...          0    \n",
              "35     5416981     8606221    30620004    4032787   ...          0    \n",
              "36     1109629     2750547    16098393    3204533   ...          0    \n",
              "37      870263    21163332     2687834     577467   ...          0    \n",
              "38    13370767    33886371    70835404   12459257   ...          0    \n",
              "39    42914016   110150033   245383162   39678688   ...          0    \n",
              "\n",
              "          9122       9131      9132        9140         9190         9290  \\\n",
              "0   정부고정\\n자본형성       재고증감  귀중품\\n순취득          수출        최종수요계         총수요계   \n",
              "1       16075    1209012         0      687127     19349897     73529712    \n",
              "2           0    -124793         0      129200        17458    116321922    \n",
              "3           0      55403         0     7536286     64328169    148333741    \n",
              "4       16859     975325         0    35039496     66521808    107729295    \n",
              "5           0     102852         0     3594127      4954173     50898188    \n",
              "6           0     512111         0    40266835     55512218    138021227    \n",
              "7           0    -617312         0    82878968     90367491    308333246    \n",
              "8           0     -17890         0     2889084      3113322     46897311    \n",
              "9      -63985   -1720047    206340    39517282     34935006    165271701    \n",
              "10    2441968     449595         0    11890695     19903986    108625391    \n",
              "11    2893647    1739168         0   174193328    225336750    370674624    \n",
              "12     204225     530745         0    29580893     46472923    114144671    \n",
              "13     417673     370127         0    47905261    103176542    163817301    \n",
              "14    7094305    3005576         0   129660499    198974186    287845328    \n",
              "15     272525     314158   1348932     2867995     14772480     27221635    \n",
              "16          0          0         0     2788269      2811858     71061635    \n",
              "17          0          0         0      116665     17865231     92905240    \n",
              "18          0          0         0      383045      4964180     19242864    \n",
              "19   47583363   -1422185         0      165061    212235059    223676345    \n",
              "20     707083    1227459    318400    24133371    116400060    251039153    \n",
              "21      63687      81459      7879    37954966     64217046    164777272    \n",
              "22          0          0         0     7042220     89856280    145484541    \n",
              "23     242767      19850         0     5527599     66405140    141346630    \n",
              "24          0          0         0     2859010     68394612    160061770    \n",
              "25      16275          0         0      429765    141233676    193282346    \n",
              "26    9942361          0         0    15901469     88093740    210483882    \n",
              "27          0          0         0     8784508     12679352     90197248    \n",
              "28          0          0         0       37565    121037382    123984489    \n",
              "29          0          0         0      171152    116474589    118657392    \n",
              "30          0          0         0      370313    113246544    120396378    \n",
              "31          0          0     27643     1037209     36978635     44655127    \n",
              "32          0          0         0      611914     40823238     54822664    \n",
              "33   71848828    6690613   1909194   716951177   2261453031   4453740269    \n",
              "34          0          0         0           0            0            0    \n",
              "35          0          0         0           0            0            0    \n",
              "36          0          0         0           0            0            0    \n",
              "37          0          0         0           0            0            0    \n",
              "38          0          0         0           0            0            0    \n",
              "39          0          0         0           0            0            0    \n",
              "\n",
              "           9310        9329         9390  \n",
              "0           총산출         수입계         총공급계  \n",
              "1     61371723    12157989     73529712   \n",
              "2      4125218   112196704    116321922   \n",
              "3    122147220    26186521    148333741   \n",
              "4     79329137    28400158    107729295   \n",
              "5     42914016     7984172     50898188   \n",
              "6    110150033    27871194    138021227   \n",
              "7    245383162    62950084    308333246   \n",
              "8     39678688     7218623     46897311   \n",
              "9    124914202    40357499    165271701   \n",
              "10   100287562     8337829    108625391   \n",
              "11   282213561    88461063    370674624   \n",
              "12    95673140    18471531    114144671   \n",
              "13   125009907    38807394    163817301   \n",
              "14   257977501    29867827    287845328   \n",
              "15    20146498     7075137     27221635   \n",
              "16    61203821     9857814     71061635   \n",
              "17    92800040      105200     92905240   \n",
              "18    19221573       21291     19242864   \n",
              "19   223616951       59394    223676345   \n",
              "20   247647642     3391511    251039153   \n",
              "21   141344511    23432761    164777272   \n",
              "22   131926155    13558386    145484541   \n",
              "23   135412832     5933798    141346630   \n",
              "24   156925173     3136597    160061770   \n",
              "25   191497517     1784829    193282346   \n",
              "26   186524180    23959702    210483882   \n",
              "27    76481272    13715976     90197248   \n",
              "28   123378849      605640    123984489   \n",
              "29   116328647     2328745    118657392   \n",
              "30   119620062      776316    120396378   \n",
              "31    40293777     4361350     44655127   \n",
              "32    54193336      629328     54822664   \n",
              "33  3829737906   624002363   4453740269   \n",
              "34           0           0            0   \n",
              "35           0           0            0   \n",
              "36           0           0            0   \n",
              "37           0           0            0   \n",
              "38           0           0            0   \n",
              "39           0           0            0   \n",
              "\n",
              "[40 rows x 47 columns]"
            ],
            "text/html": [
              "\n",
              "  <div id=\"df-f255e733-fb2c-4ce6-ae7a-985a633bf29d\">\n",
              "    <div class=\"colab-df-container\">\n",
              "      <div>\n",
              "<style scoped>\n",
              "    .dataframe tbody tr th:only-of-type {\n",
              "        vertical-align: middle;\n",
              "    }\n",
              "\n",
              "    .dataframe tbody tr th {\n",
              "        vertical-align: top;\n",
              "    }\n",
              "\n",
              "    .dataframe thead th {\n",
              "        text-align: right;\n",
              "    }\n",
              "</style>\n",
              "<table border=\"1\" class=\"dataframe\">\n",
              "  <thead>\n",
              "    <tr style=\"text-align: right;\">\n",
              "      <th></th>\n",
              "      <th>code</th>\n",
              "      <th>name</th>\n",
              "      <th>A</th>\n",
              "      <th>B</th>\n",
              "      <th>C01</th>\n",
              "      <th>C02</th>\n",
              "      <th>C03</th>\n",
              "      <th>C04</th>\n",
              "      <th>C05</th>\n",
              "      <th>C06</th>\n",
              "      <th>...</th>\n",
              "      <th>9121</th>\n",
              "      <th>9122</th>\n",
              "      <th>9131</th>\n",
              "      <th>9132</th>\n",
              "      <th>9140</th>\n",
              "      <th>9190</th>\n",
              "      <th>9290</th>\n",
              "      <th>9310</th>\n",
              "      <th>9329</th>\n",
              "      <th>9390</th>\n",
              "    </tr>\n",
              "  </thead>\n",
              "  <tbody>\n",
              "    <tr>\n",
              "      <th>0</th>\n",
              "      <td>code</td>\n",
              "      <td>name</td>\n",
              "      <td>농림수산품</td>\n",
              "      <td>광산품</td>\n",
              "      <td>음식료품</td>\n",
              "      <td>섬유 및 가죽제품</td>\n",
              "      <td>목재 및 종이, 인쇄</td>\n",
              "      <td>석탄 및 석유제품</td>\n",
              "      <td>화학제품</td>\n",
              "      <td>비금속광물제품</td>\n",
              "      <td>...</td>\n",
              "      <td>민간고정\\n자본형성</td>\n",
              "      <td>정부고정\\n자본형성</td>\n",
              "      <td>재고증감</td>\n",
              "      <td>귀중품\\n순취득</td>\n",
              "      <td>수출</td>\n",
              "      <td>최종수요계</td>\n",
              "      <td>총수요계</td>\n",
              "      <td>총산출</td>\n",
              "      <td>수입계</td>\n",
              "      <td>총공급계</td>\n",
              "    </tr>\n",
              "    <tr>\n",
              "      <th>1</th>\n",
              "      <td>A</td>\n",
              "      <td>농림수산품</td>\n",
              "      <td>3225287</td>\n",
              "      <td>5492</td>\n",
              "      <td>35485401</td>\n",
              "      <td>756039</td>\n",
              "      <td>992448</td>\n",
              "      <td>7074</td>\n",
              "      <td>1135571</td>\n",
              "      <td>8015</td>\n",
              "      <td>...</td>\n",
              "      <td>430212</td>\n",
              "      <td>16075</td>\n",
              "      <td>1209012</td>\n",
              "      <td>0</td>\n",
              "      <td>687127</td>\n",
              "      <td>19349897</td>\n",
              "      <td>73529712</td>\n",
              "      <td>61371723</td>\n",
              "      <td>12157989</td>\n",
              "      <td>73529712</td>\n",
              "    </tr>\n",
              "    <tr>\n",
              "      <th>2</th>\n",
              "      <td>B</td>\n",
              "      <td>광산품</td>\n",
              "      <td>1031</td>\n",
              "      <td>2070</td>\n",
              "      <td>26495</td>\n",
              "      <td>4943</td>\n",
              "      <td>26272</td>\n",
              "      <td>57488159</td>\n",
              "      <td>5407723</td>\n",
              "      <td>3413004</td>\n",
              "      <td>...</td>\n",
              "      <td>0</td>\n",
              "      <td>0</td>\n",
              "      <td>-124793</td>\n",
              "      <td>0</td>\n",
              "      <td>129200</td>\n",
              "      <td>17458</td>\n",
              "      <td>116321922</td>\n",
              "      <td>4125218</td>\n",
              "      <td>112196704</td>\n",
              "      <td>116321922</td>\n",
              "    </tr>\n",
              "    <tr>\n",
              "      <th>3</th>\n",
              "      <td>C01</td>\n",
              "      <td>음식료품</td>\n",
              "      <td>9277388</td>\n",
              "      <td>8905</td>\n",
              "      <td>23196840</td>\n",
              "      <td>826970</td>\n",
              "      <td>75877</td>\n",
              "      <td>75184</td>\n",
              "      <td>1239849</td>\n",
              "      <td>38483</td>\n",
              "      <td>...</td>\n",
              "      <td>0</td>\n",
              "      <td>0</td>\n",
              "      <td>55403</td>\n",
              "      <td>0</td>\n",
              "      <td>7536286</td>\n",
              "      <td>64328169</td>\n",
              "      <td>148333741</td>\n",
              "      <td>122147220</td>\n",
              "      <td>26186521</td>\n",
              "      <td>148333741</td>\n",
              "    </tr>\n",
              "    <tr>\n",
              "      <th>4</th>\n",
              "      <td>C02</td>\n",
              "      <td>섬유 및 가죽제품</td>\n",
              "      <td>666365</td>\n",
              "      <td>11635</td>\n",
              "      <td>169657</td>\n",
              "      <td>23044097</td>\n",
              "      <td>441460</td>\n",
              "      <td>65263</td>\n",
              "      <td>1718201</td>\n",
              "      <td>138459</td>\n",
              "      <td>...</td>\n",
              "      <td>130013</td>\n",
              "      <td>16859</td>\n",
              "      <td>975325</td>\n",
              "      <td>0</td>\n",
              "      <td>35039496</td>\n",
              "      <td>66521808</td>\n",
              "      <td>107729295</td>\n",
              "      <td>79329137</td>\n",
              "      <td>28400158</td>\n",
              "      <td>107729295</td>\n",
              "    </tr>\n",
              "    <tr>\n",
              "      <th>5</th>\n",
              "      <td>C03</td>\n",
              "      <td>목재 및 종이, 인쇄</td>\n",
              "      <td>692030</td>\n",
              "      <td>13185</td>\n",
              "      <td>2389756</td>\n",
              "      <td>908744</td>\n",
              "      <td>13831561</td>\n",
              "      <td>132521</td>\n",
              "      <td>1676192</td>\n",
              "      <td>452805</td>\n",
              "      <td>...</td>\n",
              "      <td>0</td>\n",
              "      <td>0</td>\n",
              "      <td>102852</td>\n",
              "      <td>0</td>\n",
              "      <td>3594127</td>\n",
              "      <td>4954173</td>\n",
              "      <td>50898188</td>\n",
              "      <td>42914016</td>\n",
              "      <td>7984172</td>\n",
              "      <td>50898188</td>\n",
              "    </tr>\n",
              "    <tr>\n",
              "      <th>6</th>\n",
              "      <td>C04</td>\n",
              "      <td>석탄 및 석유제품</td>\n",
              "      <td>1296813</td>\n",
              "      <td>98739</td>\n",
              "      <td>338744</td>\n",
              "      <td>308507</td>\n",
              "      <td>232754</td>\n",
              "      <td>4347409</td>\n",
              "      <td>26408022</td>\n",
              "      <td>1592043</td>\n",
              "      <td>...</td>\n",
              "      <td>0</td>\n",
              "      <td>0</td>\n",
              "      <td>512111</td>\n",
              "      <td>0</td>\n",
              "      <td>40266835</td>\n",
              "      <td>55512218</td>\n",
              "      <td>138021227</td>\n",
              "      <td>110150033</td>\n",
              "      <td>27871194</td>\n",
              "      <td>138021227</td>\n",
              "    </tr>\n",
              "    <tr>\n",
              "      <th>7</th>\n",
              "      <td>C05</td>\n",
              "      <td>화학제품</td>\n",
              "      <td>4790382</td>\n",
              "      <td>125491</td>\n",
              "      <td>3228075</td>\n",
              "      <td>7161893</td>\n",
              "      <td>2962133</td>\n",
              "      <td>2119402</td>\n",
              "      <td>81181451</td>\n",
              "      <td>1782734</td>\n",
              "      <td>...</td>\n",
              "      <td>0</td>\n",
              "      <td>0</td>\n",
              "      <td>-617312</td>\n",
              "      <td>0</td>\n",
              "      <td>82878968</td>\n",
              "      <td>90367491</td>\n",
              "      <td>308333246</td>\n",
              "      <td>245383162</td>\n",
              "      <td>62950084</td>\n",
              "      <td>308333246</td>\n",
              "    </tr>\n",
              "    <tr>\n",
              "      <th>8</th>\n",
              "      <td>C06</td>\n",
              "      <td>비금속광물제품</td>\n",
              "      <td>19123</td>\n",
              "      <td>8393</td>\n",
              "      <td>608197</td>\n",
              "      <td>44391</td>\n",
              "      <td>20688</td>\n",
              "      <td>71101</td>\n",
              "      <td>1005440</td>\n",
              "      <td>6772896</td>\n",
              "      <td>...</td>\n",
              "      <td>0</td>\n",
              "      <td>0</td>\n",
              "      <td>-17890</td>\n",
              "      <td>0</td>\n",
              "      <td>2889084</td>\n",
              "      <td>3113322</td>\n",
              "      <td>46897311</td>\n",
              "      <td>39678688</td>\n",
              "      <td>7218623</td>\n",
              "      <td>46897311</td>\n",
              "    </tr>\n",
              "    <tr>\n",
              "      <th>9</th>\n",
              "      <td>C07</td>\n",
              "      <td>1차 금속제품</td>\n",
              "      <td>53247</td>\n",
              "      <td>5588</td>\n",
              "      <td>7114</td>\n",
              "      <td>24843</td>\n",
              "      <td>40386</td>\n",
              "      <td>182098</td>\n",
              "      <td>1893958</td>\n",
              "      <td>654005</td>\n",
              "      <td>...</td>\n",
              "      <td>-2448262</td>\n",
              "      <td>-63985</td>\n",
              "      <td>-1720047</td>\n",
              "      <td>206340</td>\n",
              "      <td>39517282</td>\n",
              "      <td>34935006</td>\n",
              "      <td>165271701</td>\n",
              "      <td>124914202</td>\n",
              "      <td>40357499</td>\n",
              "      <td>165271701</td>\n",
              "    </tr>\n",
              "    <tr>\n",
              "      <th>10</th>\n",
              "      <td>C08</td>\n",
              "      <td>금속가공제품</td>\n",
              "      <td>61407</td>\n",
              "      <td>60913</td>\n",
              "      <td>1758443</td>\n",
              "      <td>336572</td>\n",
              "      <td>318423</td>\n",
              "      <td>1171098</td>\n",
              "      <td>1846442</td>\n",
              "      <td>488616</td>\n",
              "      <td>...</td>\n",
              "      <td>3799517</td>\n",
              "      <td>2441968</td>\n",
              "      <td>449595</td>\n",
              "      <td>0</td>\n",
              "      <td>11890695</td>\n",
              "      <td>19903986</td>\n",
              "      <td>108625391</td>\n",
              "      <td>100287562</td>\n",
              "      <td>8337829</td>\n",
              "      <td>108625391</td>\n",
              "    </tr>\n",
              "    <tr>\n",
              "      <th>11</th>\n",
              "      <td>C09</td>\n",
              "      <td>컴퓨터, 전자 및 광학기기</td>\n",
              "      <td>99563</td>\n",
              "      <td>6216</td>\n",
              "      <td>118948</td>\n",
              "      <td>81442</td>\n",
              "      <td>92000</td>\n",
              "      <td>315570</td>\n",
              "      <td>476569</td>\n",
              "      <td>80108</td>\n",
              "      <td>...</td>\n",
              "      <td>21598161</td>\n",
              "      <td>2893647</td>\n",
              "      <td>1739168</td>\n",
              "      <td>0</td>\n",
              "      <td>174193328</td>\n",
              "      <td>225336750</td>\n",
              "      <td>370674624</td>\n",
              "      <td>282213561</td>\n",
              "      <td>88461063</td>\n",
              "      <td>370674624</td>\n",
              "    </tr>\n",
              "    <tr>\n",
              "      <th>12</th>\n",
              "      <td>C10</td>\n",
              "      <td>전기장비</td>\n",
              "      <td>107062</td>\n",
              "      <td>18098</td>\n",
              "      <td>31868</td>\n",
              "      <td>77003</td>\n",
              "      <td>58784</td>\n",
              "      <td>149982</td>\n",
              "      <td>267769</td>\n",
              "      <td>140971</td>\n",
              "      <td>...</td>\n",
              "      <td>10891972</td>\n",
              "      <td>204225</td>\n",
              "      <td>530745</td>\n",
              "      <td>0</td>\n",
              "      <td>29580893</td>\n",
              "      <td>46472923</td>\n",
              "      <td>114144671</td>\n",
              "      <td>95673140</td>\n",
              "      <td>18471531</td>\n",
              "      <td>114144671</td>\n",
              "    </tr>\n",
              "    <tr>\n",
              "      <th>13</th>\n",
              "      <td>C11</td>\n",
              "      <td>기계 및 장비</td>\n",
              "      <td>218782</td>\n",
              "      <td>105235</td>\n",
              "      <td>179024</td>\n",
              "      <td>89168</td>\n",
              "      <td>71445</td>\n",
              "      <td>933770</td>\n",
              "      <td>3034057</td>\n",
              "      <td>365803</td>\n",
              "      <td>...</td>\n",
              "      <td>53072767</td>\n",
              "      <td>417673</td>\n",
              "      <td>370127</td>\n",
              "      <td>0</td>\n",
              "      <td>47905261</td>\n",
              "      <td>103176542</td>\n",
              "      <td>163817301</td>\n",
              "      <td>125009907</td>\n",
              "      <td>38807394</td>\n",
              "      <td>163817301</td>\n",
              "    </tr>\n",
              "    <tr>\n",
              "      <th>14</th>\n",
              "      <td>C12</td>\n",
              "      <td>운송장비</td>\n",
              "      <td>264814</td>\n",
              "      <td>63535</td>\n",
              "      <td>23234</td>\n",
              "      <td>23217</td>\n",
              "      <td>43773</td>\n",
              "      <td>90162</td>\n",
              "      <td>230695</td>\n",
              "      <td>156700</td>\n",
              "      <td>...</td>\n",
              "      <td>27966392</td>\n",
              "      <td>7094305</td>\n",
              "      <td>3005576</td>\n",
              "      <td>0</td>\n",
              "      <td>129660499</td>\n",
              "      <td>198974186</td>\n",
              "      <td>287845328</td>\n",
              "      <td>257977501</td>\n",
              "      <td>29867827</td>\n",
              "      <td>287845328</td>\n",
              "    </tr>\n",
              "    <tr>\n",
              "      <th>15</th>\n",
              "      <td>C13</td>\n",
              "      <td>기타 제조업 제품</td>\n",
              "      <td>12529</td>\n",
              "      <td>1515</td>\n",
              "      <td>224988</td>\n",
              "      <td>368996</td>\n",
              "      <td>24469</td>\n",
              "      <td>7541</td>\n",
              "      <td>32144</td>\n",
              "      <td>6964</td>\n",
              "      <td>...</td>\n",
              "      <td>2824170</td>\n",
              "      <td>272525</td>\n",
              "      <td>314158</td>\n",
              "      <td>1348932</td>\n",
              "      <td>2867995</td>\n",
              "      <td>14772480</td>\n",
              "      <td>27221635</td>\n",
              "      <td>20146498</td>\n",
              "      <td>7075137</td>\n",
              "      <td>27221635</td>\n",
              "    </tr>\n",
              "    <tr>\n",
              "      <th>16</th>\n",
              "      <td>C14</td>\n",
              "      <td>제조임가공 및 산업용 장비 수리</td>\n",
              "      <td>190133</td>\n",
              "      <td>105126</td>\n",
              "      <td>2966873</td>\n",
              "      <td>15998203</td>\n",
              "      <td>1426535</td>\n",
              "      <td>247610</td>\n",
              "      <td>5102330</td>\n",
              "      <td>825429</td>\n",
              "      <td>...</td>\n",
              "      <td>0</td>\n",
              "      <td>0</td>\n",
              "      <td>0</td>\n",
              "      <td>0</td>\n",
              "      <td>2788269</td>\n",
              "      <td>2811858</td>\n",
              "      <td>71061635</td>\n",
              "      <td>61203821</td>\n",
              "      <td>9857814</td>\n",
              "      <td>71061635</td>\n",
              "    </tr>\n",
              "    <tr>\n",
              "      <th>17</th>\n",
              "      <td>D</td>\n",
              "      <td>전력, 가스 및 증기</td>\n",
              "      <td>753333</td>\n",
              "      <td>97378</td>\n",
              "      <td>1184151</td>\n",
              "      <td>1091391</td>\n",
              "      <td>1437146</td>\n",
              "      <td>1875819</td>\n",
              "      <td>6119353</td>\n",
              "      <td>1666152</td>\n",
              "      <td>...</td>\n",
              "      <td>0</td>\n",
              "      <td>0</td>\n",
              "      <td>0</td>\n",
              "      <td>0</td>\n",
              "      <td>116665</td>\n",
              "      <td>17865231</td>\n",
              "      <td>92905240</td>\n",
              "      <td>92800040</td>\n",
              "      <td>105200</td>\n",
              "      <td>92905240</td>\n",
              "    </tr>\n",
              "    <tr>\n",
              "      <th>18</th>\n",
              "      <td>E</td>\n",
              "      <td>수도, 폐기물처리 및 재활용서비스</td>\n",
              "      <td>78201</td>\n",
              "      <td>12030</td>\n",
              "      <td>370400</td>\n",
              "      <td>229169</td>\n",
              "      <td>470604</td>\n",
              "      <td>78272</td>\n",
              "      <td>1665182</td>\n",
              "      <td>327712</td>\n",
              "      <td>...</td>\n",
              "      <td>0</td>\n",
              "      <td>0</td>\n",
              "      <td>0</td>\n",
              "      <td>0</td>\n",
              "      <td>383045</td>\n",
              "      <td>4964180</td>\n",
              "      <td>19242864</td>\n",
              "      <td>19221573</td>\n",
              "      <td>21291</td>\n",
              "      <td>19242864</td>\n",
              "    </tr>\n",
              "    <tr>\n",
              "      <th>19</th>\n",
              "      <td>F</td>\n",
              "      <td>건설</td>\n",
              "      <td>75323</td>\n",
              "      <td>13979</td>\n",
              "      <td>63771</td>\n",
              "      <td>26117</td>\n",
              "      <td>26276</td>\n",
              "      <td>50217</td>\n",
              "      <td>178747</td>\n",
              "      <td>31827</td>\n",
              "      <td>...</td>\n",
              "      <td>165908820</td>\n",
              "      <td>47583363</td>\n",
              "      <td>-1422185</td>\n",
              "      <td>0</td>\n",
              "      <td>165061</td>\n",
              "      <td>212235059</td>\n",
              "      <td>223676345</td>\n",
              "      <td>223616951</td>\n",
              "      <td>59394</td>\n",
              "      <td>223676345</td>\n",
              "    </tr>\n",
              "    <tr>\n",
              "      <th>20</th>\n",
              "      <td>G</td>\n",
              "      <td>도소매 및 상품중개서비스</td>\n",
              "      <td>2477932</td>\n",
              "      <td>56080</td>\n",
              "      <td>8894598</td>\n",
              "      <td>6404523</td>\n",
              "      <td>2041403</td>\n",
              "      <td>1179179</td>\n",
              "      <td>8638507</td>\n",
              "      <td>1225360</td>\n",
              "      <td>...</td>\n",
              "      <td>11056000</td>\n",
              "      <td>707083</td>\n",
              "      <td>1227459</td>\n",
              "      <td>318400</td>\n",
              "      <td>24133371</td>\n",
              "      <td>116400060</td>\n",
              "      <td>251039153</td>\n",
              "      <td>247647642</td>\n",
              "      <td>3391511</td>\n",
              "      <td>251039153</td>\n",
              "    </tr>\n",
              "    <tr>\n",
              "      <th>21</th>\n",
              "      <td>H</td>\n",
              "      <td>운송서비스</td>\n",
              "      <td>811655</td>\n",
              "      <td>533937</td>\n",
              "      <td>4241112</td>\n",
              "      <td>2145281</td>\n",
              "      <td>1894019</td>\n",
              "      <td>948512</td>\n",
              "      <td>7528853</td>\n",
              "      <td>4211116</td>\n",
              "      <td>...</td>\n",
              "      <td>240833</td>\n",
              "      <td>63687</td>\n",
              "      <td>81459</td>\n",
              "      <td>7879</td>\n",
              "      <td>37954966</td>\n",
              "      <td>64217046</td>\n",
              "      <td>164777272</td>\n",
              "      <td>141344511</td>\n",
              "      <td>23432761</td>\n",
              "      <td>164777272</td>\n",
              "    </tr>\n",
              "    <tr>\n",
              "      <th>22</th>\n",
              "      <td>I</td>\n",
              "      <td>음식점 및 숙박서비스</td>\n",
              "      <td>505745</td>\n",
              "      <td>78718</td>\n",
              "      <td>433905</td>\n",
              "      <td>528480</td>\n",
              "      <td>443570</td>\n",
              "      <td>325121</td>\n",
              "      <td>1479119</td>\n",
              "      <td>341107</td>\n",
              "      <td>...</td>\n",
              "      <td>0</td>\n",
              "      <td>0</td>\n",
              "      <td>0</td>\n",
              "      <td>0</td>\n",
              "      <td>7042220</td>\n",
              "      <td>89856280</td>\n",
              "      <td>145484541</td>\n",
              "      <td>131926155</td>\n",
              "      <td>13558386</td>\n",
              "      <td>145484541</td>\n",
              "    </tr>\n",
              "    <tr>\n",
              "      <th>23</th>\n",
              "      <td>J</td>\n",
              "      <td>정보통신 및 방송 서비스</td>\n",
              "      <td>191029</td>\n",
              "      <td>19880</td>\n",
              "      <td>231839</td>\n",
              "      <td>193487</td>\n",
              "      <td>237473</td>\n",
              "      <td>413305</td>\n",
              "      <td>672422</td>\n",
              "      <td>212111</td>\n",
              "      <td>...</td>\n",
              "      <td>28083841</td>\n",
              "      <td>242767</td>\n",
              "      <td>19850</td>\n",
              "      <td>0</td>\n",
              "      <td>5527599</td>\n",
              "      <td>66405140</td>\n",
              "      <td>141346630</td>\n",
              "      <td>135412832</td>\n",
              "      <td>5933798</td>\n",
              "      <td>141346630</td>\n",
              "    </tr>\n",
              "    <tr>\n",
              "      <th>24</th>\n",
              "      <td>K</td>\n",
              "      <td>금융 및 보험 서비스</td>\n",
              "      <td>878012</td>\n",
              "      <td>164761</td>\n",
              "      <td>815843</td>\n",
              "      <td>930076</td>\n",
              "      <td>643369</td>\n",
              "      <td>217007</td>\n",
              "      <td>2361952</td>\n",
              "      <td>489830</td>\n",
              "      <td>...</td>\n",
              "      <td>0</td>\n",
              "      <td>0</td>\n",
              "      <td>0</td>\n",
              "      <td>0</td>\n",
              "      <td>2859010</td>\n",
              "      <td>68394612</td>\n",
              "      <td>160061770</td>\n",
              "      <td>156925173</td>\n",
              "      <td>3136597</td>\n",
              "      <td>160061770</td>\n",
              "    </tr>\n",
              "    <tr>\n",
              "      <th>25</th>\n",
              "      <td>L</td>\n",
              "      <td>부동산서비스</td>\n",
              "      <td>50251</td>\n",
              "      <td>6675</td>\n",
              "      <td>239377</td>\n",
              "      <td>392604</td>\n",
              "      <td>161823</td>\n",
              "      <td>160883</td>\n",
              "      <td>392515</td>\n",
              "      <td>75962</td>\n",
              "      <td>...</td>\n",
              "      <td>26009160</td>\n",
              "      <td>16275</td>\n",
              "      <td>0</td>\n",
              "      <td>0</td>\n",
              "      <td>429765</td>\n",
              "      <td>141233676</td>\n",
              "      <td>193282346</td>\n",
              "      <td>191497517</td>\n",
              "      <td>1784829</td>\n",
              "      <td>193282346</td>\n",
              "    </tr>\n",
              "    <tr>\n",
              "      <th>26</th>\n",
              "      <td>M</td>\n",
              "      <td>전문, 과학 및 기술 서비스</td>\n",
              "      <td>754673</td>\n",
              "      <td>174478</td>\n",
              "      <td>3479280</td>\n",
              "      <td>1350085</td>\n",
              "      <td>887585</td>\n",
              "      <td>2788985</td>\n",
              "      <td>10523953</td>\n",
              "      <td>1253031</td>\n",
              "      <td>...</td>\n",
              "      <td>59111665</td>\n",
              "      <td>9942361</td>\n",
              "      <td>0</td>\n",
              "      <td>0</td>\n",
              "      <td>15901469</td>\n",
              "      <td>88093740</td>\n",
              "      <td>210483882</td>\n",
              "      <td>186524180</td>\n",
              "      <td>23959702</td>\n",
              "      <td>210483882</td>\n",
              "    </tr>\n",
              "    <tr>\n",
              "      <th>27</th>\n",
              "      <td>N</td>\n",
              "      <td>사업지원서비스</td>\n",
              "      <td>137370</td>\n",
              "      <td>128818</td>\n",
              "      <td>404747</td>\n",
              "      <td>372882</td>\n",
              "      <td>371958</td>\n",
              "      <td>547390</td>\n",
              "      <td>1123964</td>\n",
              "      <td>233818</td>\n",
              "      <td>...</td>\n",
              "      <td>0</td>\n",
              "      <td>0</td>\n",
              "      <td>0</td>\n",
              "      <td>0</td>\n",
              "      <td>8784508</td>\n",
              "      <td>12679352</td>\n",
              "      <td>90197248</td>\n",
              "      <td>76481272</td>\n",
              "      <td>13715976</td>\n",
              "      <td>90197248</td>\n",
              "    </tr>\n",
              "    <tr>\n",
              "      <th>28</th>\n",
              "      <td>O</td>\n",
              "      <td>공공행정, 국방 및 사회보장</td>\n",
              "      <td>133260</td>\n",
              "      <td>8194</td>\n",
              "      <td>21874</td>\n",
              "      <td>29142</td>\n",
              "      <td>37860</td>\n",
              "      <td>21522</td>\n",
              "      <td>383230</td>\n",
              "      <td>19587</td>\n",
              "      <td>...</td>\n",
              "      <td>0</td>\n",
              "      <td>0</td>\n",
              "      <td>0</td>\n",
              "      <td>0</td>\n",
              "      <td>37565</td>\n",
              "      <td>121037382</td>\n",
              "      <td>123984489</td>\n",
              "      <td>123378849</td>\n",
              "      <td>605640</td>\n",
              "      <td>123984489</td>\n",
              "    </tr>\n",
              "    <tr>\n",
              "      <th>29</th>\n",
              "      <td>P</td>\n",
              "      <td>교육서비스</td>\n",
              "      <td>3156</td>\n",
              "      <td>735</td>\n",
              "      <td>24535</td>\n",
              "      <td>7853</td>\n",
              "      <td>15632</td>\n",
              "      <td>26614</td>\n",
              "      <td>95048</td>\n",
              "      <td>17385</td>\n",
              "      <td>...</td>\n",
              "      <td>0</td>\n",
              "      <td>0</td>\n",
              "      <td>0</td>\n",
              "      <td>0</td>\n",
              "      <td>171152</td>\n",
              "      <td>116474589</td>\n",
              "      <td>118657392</td>\n",
              "      <td>116328647</td>\n",
              "      <td>2328745</td>\n",
              "      <td>118657392</td>\n",
              "    </tr>\n",
              "    <tr>\n",
              "      <th>30</th>\n",
              "      <td>Q</td>\n",
              "      <td>보건 및 사회복지 서비스</td>\n",
              "      <td>124528</td>\n",
              "      <td>11636</td>\n",
              "      <td>101471</td>\n",
              "      <td>69260</td>\n",
              "      <td>70384</td>\n",
              "      <td>43733</td>\n",
              "      <td>240887</td>\n",
              "      <td>52640</td>\n",
              "      <td>...</td>\n",
              "      <td>0</td>\n",
              "      <td>0</td>\n",
              "      <td>0</td>\n",
              "      <td>0</td>\n",
              "      <td>370313</td>\n",
              "      <td>113246544</td>\n",
              "      <td>120396378</td>\n",
              "      <td>119620062</td>\n",
              "      <td>776316</td>\n",
              "      <td>120396378</td>\n",
              "    </tr>\n",
              "    <tr>\n",
              "      <th>31</th>\n",
              "      <td>R</td>\n",
              "      <td>예술, 스포츠 및 여가 관련 서비스</td>\n",
              "      <td>58099</td>\n",
              "      <td>19320</td>\n",
              "      <td>62126</td>\n",
              "      <td>67455</td>\n",
              "      <td>61731</td>\n",
              "      <td>54980</td>\n",
              "      <td>197161</td>\n",
              "      <td>41468</td>\n",
              "      <td>...</td>\n",
              "      <td>477638</td>\n",
              "      <td>0</td>\n",
              "      <td>0</td>\n",
              "      <td>27643</td>\n",
              "      <td>1037209</td>\n",
              "      <td>36978635</td>\n",
              "      <td>44655127</td>\n",
              "      <td>40293777</td>\n",
              "      <td>4361350</td>\n",
              "      <td>44655127</td>\n",
              "    </tr>\n",
              "    <tr>\n",
              "      <th>32</th>\n",
              "      <td>S</td>\n",
              "      <td>기타 서비스</td>\n",
              "      <td>104857</td>\n",
              "      <td>20954</td>\n",
              "      <td>173588</td>\n",
              "      <td>86947</td>\n",
              "      <td>83406</td>\n",
              "      <td>128182</td>\n",
              "      <td>290454</td>\n",
              "      <td>103286</td>\n",
              "      <td>...</td>\n",
              "      <td>0</td>\n",
              "      <td>0</td>\n",
              "      <td>0</td>\n",
              "      <td>0</td>\n",
              "      <td>611914</td>\n",
              "      <td>40823238</td>\n",
              "      <td>54822664</td>\n",
              "      <td>54193336</td>\n",
              "      <td>629328</td>\n",
              "      <td>54822664</td>\n",
              "    </tr>\n",
              "    <tr>\n",
              "      <th>33</th>\n",
              "      <td>9590</td>\n",
              "      <td>중간투입계</td>\n",
              "      <td>28113380</td>\n",
              "      <td>1987709</td>\n",
              "      <td>91496275</td>\n",
              "      <td>63979781</td>\n",
              "      <td>29543249</td>\n",
              "      <td>76263662</td>\n",
              "      <td>174547758</td>\n",
              "      <td>27219431</td>\n",
              "      <td>...</td>\n",
              "      <td>409152899</td>\n",
              "      <td>71848828</td>\n",
              "      <td>6690613</td>\n",
              "      <td>1909194</td>\n",
              "      <td>716951177</td>\n",
              "      <td>2261453031</td>\n",
              "      <td>4453740269</td>\n",
              "      <td>3829737906</td>\n",
              "      <td>624002363</td>\n",
              "      <td>4453740269</td>\n",
              "    </tr>\n",
              "    <tr>\n",
              "      <th>34</th>\n",
              "      <td>9610</td>\n",
              "      <td>피용자보수</td>\n",
              "      <td>5243464</td>\n",
              "      <td>694732</td>\n",
              "      <td>9906095</td>\n",
              "      <td>7417072</td>\n",
              "      <td>5973894</td>\n",
              "      <td>1366271</td>\n",
              "      <td>21429173</td>\n",
              "      <td>4644470</td>\n",
              "      <td>...</td>\n",
              "      <td>0</td>\n",
              "      <td>0</td>\n",
              "      <td>0</td>\n",
              "      <td>0</td>\n",
              "      <td>0</td>\n",
              "      <td>0</td>\n",
              "      <td>0</td>\n",
              "      <td>0</td>\n",
              "      <td>0</td>\n",
              "      <td>0</td>\n",
              "    </tr>\n",
              "    <tr>\n",
              "      <th>35</th>\n",
              "      <td>9621</td>\n",
              "      <td>영업잉여</td>\n",
              "      <td>22576442</td>\n",
              "      <td>1148712</td>\n",
              "      <td>5076670</td>\n",
              "      <td>4095066</td>\n",
              "      <td>5416981</td>\n",
              "      <td>8606221</td>\n",
              "      <td>30620004</td>\n",
              "      <td>4032787</td>\n",
              "      <td>...</td>\n",
              "      <td>0</td>\n",
              "      <td>0</td>\n",
              "      <td>0</td>\n",
              "      <td>0</td>\n",
              "      <td>0</td>\n",
              "      <td>0</td>\n",
              "      <td>0</td>\n",
              "      <td>0</td>\n",
              "      <td>0</td>\n",
              "      <td>0</td>\n",
              "    </tr>\n",
              "    <tr>\n",
              "      <th>36</th>\n",
              "      <td>9622</td>\n",
              "      <td>고정자본소모</td>\n",
              "      <td>4828393</td>\n",
              "      <td>355891</td>\n",
              "      <td>3818737</td>\n",
              "      <td>2140284</td>\n",
              "      <td>1109629</td>\n",
              "      <td>2750547</td>\n",
              "      <td>16098393</td>\n",
              "      <td>3204533</td>\n",
              "      <td>...</td>\n",
              "      <td>0</td>\n",
              "      <td>0</td>\n",
              "      <td>0</td>\n",
              "      <td>0</td>\n",
              "      <td>0</td>\n",
              "      <td>0</td>\n",
              "      <td>0</td>\n",
              "      <td>0</td>\n",
              "      <td>0</td>\n",
              "      <td>0</td>\n",
              "    </tr>\n",
              "    <tr>\n",
              "      <th>37</th>\n",
              "      <td>9630</td>\n",
              "      <td>생산세(보조금공제)</td>\n",
              "      <td>610044</td>\n",
              "      <td>-61826</td>\n",
              "      <td>11849443</td>\n",
              "      <td>1696934</td>\n",
              "      <td>870263</td>\n",
              "      <td>21163332</td>\n",
              "      <td>2687834</td>\n",
              "      <td>577467</td>\n",
              "      <td>...</td>\n",
              "      <td>0</td>\n",
              "      <td>0</td>\n",
              "      <td>0</td>\n",
              "      <td>0</td>\n",
              "      <td>0</td>\n",
              "      <td>0</td>\n",
              "      <td>0</td>\n",
              "      <td>0</td>\n",
              "      <td>0</td>\n",
              "      <td>0</td>\n",
              "    </tr>\n",
              "    <tr>\n",
              "      <th>38</th>\n",
              "      <td>9690</td>\n",
              "      <td>부가가치계</td>\n",
              "      <td>33258343</td>\n",
              "      <td>2137509</td>\n",
              "      <td>30650945</td>\n",
              "      <td>15349356</td>\n",
              "      <td>13370767</td>\n",
              "      <td>33886371</td>\n",
              "      <td>70835404</td>\n",
              "      <td>12459257</td>\n",
              "      <td>...</td>\n",
              "      <td>0</td>\n",
              "      <td>0</td>\n",
              "      <td>0</td>\n",
              "      <td>0</td>\n",
              "      <td>0</td>\n",
              "      <td>0</td>\n",
              "      <td>0</td>\n",
              "      <td>0</td>\n",
              "      <td>0</td>\n",
              "      <td>0</td>\n",
              "    </tr>\n",
              "    <tr>\n",
              "      <th>39</th>\n",
              "      <td>9790</td>\n",
              "      <td>총투입계</td>\n",
              "      <td>61371723</td>\n",
              "      <td>4125218</td>\n",
              "      <td>122147220</td>\n",
              "      <td>79329137</td>\n",
              "      <td>42914016</td>\n",
              "      <td>110150033</td>\n",
              "      <td>245383162</td>\n",
              "      <td>39678688</td>\n",
              "      <td>...</td>\n",
              "      <td>0</td>\n",
              "      <td>0</td>\n",
              "      <td>0</td>\n",
              "      <td>0</td>\n",
              "      <td>0</td>\n",
              "      <td>0</td>\n",
              "      <td>0</td>\n",
              "      <td>0</td>\n",
              "      <td>0</td>\n",
              "      <td>0</td>\n",
              "    </tr>\n",
              "  </tbody>\n",
              "</table>\n",
              "<p>40 rows × 47 columns</p>\n",
              "</div>\n",
              "      <button class=\"colab-df-convert\" onclick=\"convertToInteractive('df-f255e733-fb2c-4ce6-ae7a-985a633bf29d')\"\n",
              "              title=\"Convert this dataframe to an interactive table.\"\n",
              "              style=\"display:none;\">\n",
              "        \n",
              "  <svg xmlns=\"http://www.w3.org/2000/svg\" height=\"24px\"viewBox=\"0 0 24 24\"\n",
              "       width=\"24px\">\n",
              "    <path d=\"M0 0h24v24H0V0z\" fill=\"none\"/>\n",
              "    <path d=\"M18.56 5.44l.94 2.06.94-2.06 2.06-.94-2.06-.94-.94-2.06-.94 2.06-2.06.94zm-11 1L8.5 8.5l.94-2.06 2.06-.94-2.06-.94L8.5 2.5l-.94 2.06-2.06.94zm10 10l.94 2.06.94-2.06 2.06-.94-2.06-.94-.94-2.06-.94 2.06-2.06.94z\"/><path d=\"M17.41 7.96l-1.37-1.37c-.4-.4-.92-.59-1.43-.59-.52 0-1.04.2-1.43.59L10.3 9.45l-7.72 7.72c-.78.78-.78 2.05 0 2.83L4 21.41c.39.39.9.59 1.41.59.51 0 1.02-.2 1.41-.59l7.78-7.78 2.81-2.81c.8-.78.8-2.07 0-2.86zM5.41 20L4 18.59l7.72-7.72 1.47 1.35L5.41 20z\"/>\n",
              "  </svg>\n",
              "      </button>\n",
              "      \n",
              "  <style>\n",
              "    .colab-df-container {\n",
              "      display:flex;\n",
              "      flex-wrap:wrap;\n",
              "      gap: 12px;\n",
              "    }\n",
              "\n",
              "    .colab-df-convert {\n",
              "      background-color: #E8F0FE;\n",
              "      border: none;\n",
              "      border-radius: 50%;\n",
              "      cursor: pointer;\n",
              "      display: none;\n",
              "      fill: #1967D2;\n",
              "      height: 32px;\n",
              "      padding: 0 0 0 0;\n",
              "      width: 32px;\n",
              "    }\n",
              "\n",
              "    .colab-df-convert:hover {\n",
              "      background-color: #E2EBFA;\n",
              "      box-shadow: 0px 1px 2px rgba(60, 64, 67, 0.3), 0px 1px 3px 1px rgba(60, 64, 67, 0.15);\n",
              "      fill: #174EA6;\n",
              "    }\n",
              "\n",
              "    [theme=dark] .colab-df-convert {\n",
              "      background-color: #3B4455;\n",
              "      fill: #D2E3FC;\n",
              "    }\n",
              "\n",
              "    [theme=dark] .colab-df-convert:hover {\n",
              "      background-color: #434B5C;\n",
              "      box-shadow: 0px 1px 3px 1px rgba(0, 0, 0, 0.15);\n",
              "      filter: drop-shadow(0px 1px 2px rgba(0, 0, 0, 0.3));\n",
              "      fill: #FFFFFF;\n",
              "    }\n",
              "  </style>\n",
              "\n",
              "      <script>\n",
              "        const buttonEl =\n",
              "          document.querySelector('#df-f255e733-fb2c-4ce6-ae7a-985a633bf29d button.colab-df-convert');\n",
              "        buttonEl.style.display =\n",
              "          google.colab.kernel.accessAllowed ? 'block' : 'none';\n",
              "\n",
              "        async function convertToInteractive(key) {\n",
              "          const element = document.querySelector('#df-f255e733-fb2c-4ce6-ae7a-985a633bf29d');\n",
              "          const dataTable =\n",
              "            await google.colab.kernel.invokeFunction('convertToInteractive',\n",
              "                                                     [key], {});\n",
              "          if (!dataTable) return;\n",
              "\n",
              "          const docLinkHtml = 'Like what you see? Visit the ' +\n",
              "            '<a target=\"_blank\" href=https://colab.research.google.com/notebooks/data_table.ipynb>data table notebook</a>'\n",
              "            + ' to learn more about interactive tables.';\n",
              "          element.innerHTML = '';\n",
              "          dataTable['output_type'] = 'display_data';\n",
              "          await google.colab.output.renderOutput(dataTable, element);\n",
              "          const docLink = document.createElement('div');\n",
              "          docLink.innerHTML = docLinkHtml;\n",
              "          element.appendChild(docLink);\n",
              "        }\n",
              "      </script>\n",
              "    </div>\n",
              "  </div>\n",
              "  "
            ]
          },
          "metadata": {},
          "execution_count": 121
        }
      ]
    },
    {
      "cell_type": "code",
      "source": [
        "S_t0 = Tot_cst_10.iloc[1:41,2:].to_numpy() # 10년 총거래표 numpy로 숫자만 불러오기(시간 t-1)\n",
        "I_t0 = Imp_cst_10.iloc[1:38,2:].to_numpy() # 10년 수입거래표 numpy로 숫자만 불러오기\n",
        "\n",
        "S_t5 = Tot_cst_15.iloc[1:41,2:].to_numpy() # 15년 총거래표 numpy로 숫자만 불러오기(시간 t)\n",
        "I_t5 = Imp_cst_15.iloc[1:38,2:].to_numpy() # 15년 수입거래표 numpy로 숫자만 불러오기"
      ],
      "metadata": {
        "id": "YINcR019EBlx"
      },
      "execution_count": 122,
      "outputs": []
    },
    {
      "cell_type": "code",
      "source": [
        "S1 = S_t5.astype(float)\n",
        "I1 = I_t5.astype(float)\n",
        "S0 = S_t0.astype(float)\n",
        "I0 = I_t0.astype(float)"
      ],
      "metadata": {
        "id": "Ir7eNUdhb7D3"
      },
      "execution_count": 123,
      "outputs": []
    },
    {
      "cell_type": "code",
      "source": [
        "SS1 = np.concatenate((S1[:37,],np.zeros((1,45)), S1[37:39,] ), axis=0)  # 2015년 부가가치 조정항을 0으로 삽입(2010년과 동일한 포맷을 유지하기 위함)\n",
        "print(S_t0.shape)\n",
        "print(S_t5.shape)"
      ],
      "metadata": {
        "id": "y8dIDFxvGyjf",
        "outputId": "429b7f74-7c30-4199-ccad-5388519cc159",
        "colab": {
          "base_uri": "https://localhost:8080/"
        }
      },
      "execution_count": 124,
      "outputs": [
        {
          "output_type": "stream",
          "name": "stdout",
          "text": [
            "(40, 45)\n",
            "(39, 45)\n"
          ]
        }
      ]
    },
    {
      "cell_type": "code",
      "source": [
        "SS0 = S0[0:32,0:32].astype(float)  # 내생항목 32x32\n",
        "SS1 = S1[0:32,0:32].astype(float)\n",
        "SS1.shape"
      ],
      "metadata": {
        "id": "GWivqhPhL5T7",
        "outputId": "a790cfa7-610b-4799-914b-35949372742c",
        "colab": {
          "base_uri": "https://localhost:8080/"
        }
      },
      "execution_count": 125,
      "outputs": [
        {
          "output_type": "execute_result",
          "data": {
            "text/plain": [
              "(32, 32)"
            ]
          },
          "metadata": {},
          "execution_count": 125
        }
      ]
    },
    {
      "cell_type": "code",
      "source": [
        "II0 = I0[0:32,0:32]  # 수입 내생항목 32x32\n",
        "II1 = I1[0:32,0:32]"
      ],
      "metadata": {
        "id": "7-RxwIZaeYt0"
      },
      "execution_count": 126,
      "outputs": []
    },
    {
      "cell_type": "code",
      "source": [
        "DD0 =SS0 - II0  # 국산 내생항목 32x32\n",
        "DD1 =SS1 - II1"
      ],
      "metadata": {
        "id": "RCdnGfOpeYwS"
      },
      "execution_count": 127,
      "outputs": []
    },
    {
      "cell_type": "code",
      "source": [
        "TM0 = I0[0:32,41]  # 총수입벡터\n",
        "TM1 = I1[0:32,41]\n",
        "TM0.shape"
      ],
      "metadata": {
        "colab": {
          "base_uri": "https://localhost:8080/"
        },
        "id": "iJUj_ANLeYyy",
        "outputId": "dc18f0ae-1d82-43ce-80ec-5b560fecaa96"
      },
      "execution_count": 128,
      "outputs": [
        {
          "output_type": "execute_result",
          "data": {
            "text/plain": [
              "(32,)"
            ]
          },
          "metadata": {},
          "execution_count": 128
        }
      ]
    },
    {
      "cell_type": "code",
      "source": [
        "IM0 = I0[0:32,32]  # 중간재수입벡터\n",
        "IM1 = I1[0:32,32]"
      ],
      "metadata": {
        "id": "MFuhXJf7eY05"
      },
      "execution_count": 129,
      "outputs": []
    },
    {
      "cell_type": "code",
      "source": [
        "IF0 = I0[0:32,40]  # 최종재수입벡터\n",
        "IF1 = I1[0:32,40]\n",
        "IF1"
      ],
      "metadata": {
        "colab": {
          "base_uri": "https://localhost:8080/"
        },
        "id": "pPQ8aPECeY3J",
        "outputId": "75fc2618-11dc-4b57-8e94-7cfa4bd006ae"
      },
      "execution_count": 130,
      "outputs": [
        {
          "output_type": "execute_result",
          "data": {
            "text/plain": [
              "array([ 2.8416750e+06, -7.8991000e+04,  1.1200552e+07,  1.4576720e+07,\n",
              "        4.1610700e+05,  1.4401290e+06,  5.7745000e+06,  2.4179300e+05,\n",
              "       -3.7573700e+05,  1.4680720e+06,  2.1654896e+07,  4.4760950e+06,\n",
              "        2.1956549e+07,  2.0812067e+07,  5.1022790e+06,  8.0000000e+01,\n",
              "        6.5851000e+04,  1.6766000e+04,  1.6539000e+04,  0.0000000e+00,\n",
              "        6.2468770e+06,  1.1680866e+07,  2.2671430e+06,  7.0473700e+05,\n",
              "        5.8989300e+05,  5.9210550e+06,  3.4557500e+05,  0.0000000e+00,\n",
              "        2.3221480e+06,  7.6693800e+05,  4.0404570e+06,  2.6823500e+05])"
            ]
          },
          "metadata": {},
          "execution_count": 130
        }
      ]
    },
    {
      "cell_type": "code",
      "source": [
        "SFC0 = S0[0:32,33:35]  # 최종수요-소비\n",
        "SFC0 = SFC0.sum(axis=1)\n",
        "SFC1 = S1[0:32,33:35]\n",
        "SFC1 = SFC1.sum(axis=1)\n",
        "SFC1"
      ],
      "metadata": {
        "colab": {
          "base_uri": "https://localhost:8080/"
        },
        "id": "PywPpOqreY5Q",
        "outputId": "dda38079-640b-49be-ce62-7f55ef4e49f5"
      },
      "execution_count": 131,
      "outputs": [
        {
          "output_type": "execute_result",
          "data": {
            "text/plain": [
              "array([ 1.70074710e+07,  1.30510000e+04,  5.67364800e+07,  3.03601150e+07,\n",
              "        1.25719400e+06,  1.47332720e+07,  8.10583500e+06,  2.42128000e+05,\n",
              "       -5.56322000e+05,  1.32221100e+06,  2.49124460e+07,  5.26508800e+06,\n",
              "        1.41071400e+06,  3.12474140e+07,  7.14470000e+06,  2.35890000e+04,\n",
              "        1.77485660e+07,  4.58113500e+06,  0.00000000e+00,  7.89577470e+07,\n",
              "        2.58682220e+07,  8.28140600e+07,  3.25310830e+07,  6.55356020e+07,\n",
              "        1.14778476e+08,  3.13824500e+06,  3.89484400e+06,  1.20999817e+08,\n",
              "        1.16303437e+08,  1.12876231e+08,  3.54361450e+07,  4.02113240e+07])"
            ]
          },
          "metadata": {},
          "execution_count": 131
        }
      ]
    },
    {
      "cell_type": "code",
      "source": [
        "SFI0 = S0[0:32,35:39 ] # 최종수요-투자\n",
        "SFI0 = SFI0.sum(axis=1)\n",
        "SFI1 = S1[0:32,35:39]\n",
        "SFI1 = SFI1.sum(axis=1)\n",
        "SFI1"
      ],
      "metadata": {
        "colab": {
          "base_uri": "https://localhost:8080/"
        },
        "id": "Ix970H04eY7n",
        "outputId": "e998e287-1d42-4c93-d051-76d2cc073122"
      },
      "execution_count": 132,
      "outputs": [
        {
          "output_type": "execute_result",
          "data": {
            "text/plain": [
              "array([ 1.65529900e+06, -1.24793000e+05,  5.54030000e+04,  1.12219700e+06,\n",
              "        1.02852000e+05,  5.12111000e+05, -6.17312000e+05, -1.78900000e+04,\n",
              "       -4.02595400e+06,  6.69108000e+06,  2.62309760e+07,  1.16269420e+07,\n",
              "        5.38605670e+07,  3.80662730e+07,  4.75978500e+06,  0.00000000e+00,\n",
              "        0.00000000e+00,  0.00000000e+00,  2.12069998e+08,  1.33089420e+07,\n",
              "        3.93858000e+05,  0.00000000e+00,  2.83464580e+07,  0.00000000e+00,\n",
              "        2.60254350e+07,  6.90540260e+07,  0.00000000e+00,  0.00000000e+00,\n",
              "        0.00000000e+00,  0.00000000e+00,  5.05281000e+05,  0.00000000e+00])"
            ]
          },
          "metadata": {},
          "execution_count": 132
        }
      ]
    },
    {
      "cell_type": "code",
      "source": [
        "SF0 = S0[0:32,40] # 최종수요합계\n",
        "SF1 = S1[0:32,40]\n",
        "SF1"
      ],
      "metadata": {
        "colab": {
          "base_uri": "https://localhost:8080/"
        },
        "id": "B65fDULHCBh8",
        "outputId": "18fe4a5e-459d-4f2c-d398-e5cbcb17538c"
      },
      "execution_count": 133,
      "outputs": [
        {
          "output_type": "execute_result",
          "data": {
            "text/plain": [
              "array([1.93498970e+07, 1.74580000e+04, 6.43281690e+07, 6.65218080e+07,\n",
              "       4.95417300e+06, 5.55122180e+07, 9.03674910e+07, 3.11332200e+06,\n",
              "       3.49350060e+07, 1.99039860e+07, 2.25336750e+08, 4.64729230e+07,\n",
              "       1.03176542e+08, 1.98974186e+08, 1.47724800e+07, 2.81185800e+06,\n",
              "       1.78652310e+07, 4.96418000e+06, 2.12235059e+08, 1.16400060e+08,\n",
              "       6.42170460e+07, 8.98562800e+07, 6.64051400e+07, 6.83946120e+07,\n",
              "       1.41233676e+08, 8.80937400e+07, 1.26793520e+07, 1.21037382e+08,\n",
              "       1.16474589e+08, 1.13246544e+08, 3.69786350e+07, 4.08232380e+07])"
            ]
          },
          "metadata": {},
          "execution_count": 133
        }
      ]
    },
    {
      "cell_type": "code",
      "source": [
        "EX0 = S0[0:32,39] # 수출\n",
        "EX1 = S1[0:32,39]\n",
        "EX1"
      ],
      "metadata": {
        "colab": {
          "base_uri": "https://localhost:8080/"
        },
        "id": "iA373XRaCBke",
        "outputId": "22db8323-daa3-499a-df6b-44c936381baf"
      },
      "execution_count": 134,
      "outputs": [
        {
          "output_type": "execute_result",
          "data": {
            "text/plain": [
              "array([6.87127000e+05, 1.29200000e+05, 7.53628600e+06, 3.50394960e+07,\n",
              "       3.59412700e+06, 4.02668350e+07, 8.28789680e+07, 2.88908400e+06,\n",
              "       3.95172820e+07, 1.18906950e+07, 1.74193328e+08, 2.95808930e+07,\n",
              "       4.79052610e+07, 1.29660499e+08, 2.86799500e+06, 2.78826900e+06,\n",
              "       1.16665000e+05, 3.83045000e+05, 1.65061000e+05, 2.41333710e+07,\n",
              "       3.79549660e+07, 7.04222000e+06, 5.52759900e+06, 2.85901000e+06,\n",
              "       4.29765000e+05, 1.59014690e+07, 8.78450800e+06, 3.75650000e+04,\n",
              "       1.71152000e+05, 3.70313000e+05, 1.03720900e+06, 6.11914000e+05])"
            ]
          },
          "metadata": {},
          "execution_count": 134
        }
      ]
    },
    {
      "cell_type": "code",
      "source": [
        "DF0 = SF0 - EX0 #소비+투자\n",
        "DF1 = SF1 - EX1"
      ],
      "metadata": {
        "id": "-TSTMCf-CBm-"
      },
      "execution_count": 135,
      "outputs": []
    },
    {
      "cell_type": "code",
      "source": [
        "SFC00 = SFC0.sum(axis=0) # 소비합계\n",
        "SFC11 = SFC1.sum(axis=0)\n",
        "\n",
        "SFI00 = SFI0.sum(axis=0) # 투자합계\n",
        "SFI11 = SFI1.sum(axis=0)\n",
        "\n",
        "EX00 = EX0.sum(axis=0) # 수출합계\n",
        "EX11 = EX1.sum(axis=0)\n",
        "\n",
        "print('2010년 소비합계 : ', SFC00)\n",
        "print('2015년 소비합계 : ', SFC11)\n",
        "\n",
        "print('2010년 투자합계 : ', SFI00)\n",
        "print('2015년 투자합계 : ', SFI11)\n",
        "\n",
        "print('2010년 수출합계 : ', EX00)\n",
        "print('2015년 수출합계 : ', EX11)\n"
      ],
      "metadata": {
        "colab": {
          "base_uri": "https://localhost:8080/"
        },
        "id": "bsUg2RmYELiu",
        "outputId": "df1b38d4-adce-4116-dab2-334bf2ef2ba6"
      },
      "execution_count": 136,
      "outputs": [
        {
          "output_type": "stream",
          "name": "stdout",
          "text": [
            "2010년 소비합계 :  922814206.0\n",
            "2015년 소비합계 :  1054900320.0\n",
            "2010년 투자합계 :  450484823.0\n",
            "2015년 투자합계 :  489601534.0\n",
            "2010년 수출합계 :  535858572.0\n",
            "2015년 수출합계 :  716951177.0\n"
          ]
        }
      ]
    },
    {
      "cell_type": "code",
      "source": [
        "GDC1 = ((SFC11 - SFC00)/ SFC00) # 소비증가율\n",
        "GDC2 = GDC1*SFC0  # 규모효과\n",
        "GDC3 = (SFC1-SFC0) - GDC2 # 구조효과"
      ],
      "metadata": {
        "id": "44Dv7WlvELla"
      },
      "execution_count": 137,
      "outputs": []
    },
    {
      "cell_type": "code",
      "source": [
        "GDI1 = ((SFI11 - SFI00)/ SFI00) # 투자증가율\n",
        "GDI2 = GDI1*SFI0 # 규모효과\n",
        "GDI3 = (SFI1-SFI0) - GDI2 # 구조효과"
      ],
      "metadata": {
        "id": "kUvW8c4mELn3"
      },
      "execution_count": 138,
      "outputs": []
    },
    {
      "cell_type": "code",
      "source": [
        "ED1 = ((EX11 - EX00)/EX00) # 수출증가율\n",
        "ED2 = ED1*EX0 # 규모효과\n",
        "ED3 = (EX1-EX0) - ED2 # 구조효과"
      ],
      "metadata": {
        "id": "HOEfWHa4ELqN"
      },
      "execution_count": 139,
      "outputs": []
    },
    {
      "cell_type": "code",
      "source": [
        "C0 = S0[-1,0:32].T.reshape([32,1])  # 총산출액\n",
        "C1 = S1[-1,0:32].T.reshape([32,1])\n",
        "C1.shape"
      ],
      "metadata": {
        "colab": {
          "base_uri": "https://localhost:8080/"
        },
        "id": "iZ80_uBiELtF",
        "outputId": "b02848d0-1b76-40bf-a06f-055f7e6dd971"
      },
      "execution_count": 140,
      "outputs": [
        {
          "output_type": "execute_result",
          "data": {
            "text/plain": [
              "(32, 1)"
            ]
          },
          "metadata": {},
          "execution_count": 140
        }
      ]
    },
    {
      "cell_type": "code",
      "source": [
        "TC0 = C0.sum(axis=0)  #총산출계\n",
        "TC1 = C1.sum(axis=0)"
      ],
      "metadata": {
        "id": "P83r7vKxELvb"
      },
      "execution_count": 141,
      "outputs": []
    },
    {
      "cell_type": "code",
      "source": [
        "V0 = S0[-1,0:32].T - S0[32,0:32].T # 부가가치계벡터 = 총투입액 - 중간투입계\n",
        "V1 = S1[-1,0:32].T - S1[32,0:32].T\n",
        "V1"
      ],
      "metadata": {
        "colab": {
          "base_uri": "https://localhost:8080/"
        },
        "id": "JNBtafCsELyF",
        "outputId": "8e669a58-c6c0-419e-ea8b-d4e6e2fc761a"
      },
      "execution_count": 142,
      "outputs": [
        {
          "output_type": "execute_result",
          "data": {
            "text/plain": [
              "array([3.32583430e+07, 2.13750900e+06, 3.06509450e+07, 1.53493560e+07,\n",
              "       1.33707670e+07, 3.38863710e+07, 7.08354040e+07, 1.24592570e+07,\n",
              "       2.51826740e+07, 3.59686280e+07, 9.39155960e+07, 2.91773440e+07,\n",
              "       3.67635550e+07, 4.96352760e+07, 5.63106600e+06, 3.00762710e+07,\n",
              "       3.41388530e+07, 1.02636960e+07, 9.35316660e+07, 1.35380386e+08,\n",
              "       5.48812560e+07, 4.55452370e+07, 7.30168760e+07, 9.22300980e+07,\n",
              "       1.46396975e+08, 9.50089130e+07, 5.34343270e+07, 9.54910040e+07,\n",
              "       8.04209980e+07, 6.31431000e+07, 2.22224580e+07, 2.40464630e+07])"
            ]
          },
          "metadata": {},
          "execution_count": 142
        }
      ]
    },
    {
      "cell_type": "code",
      "source": [
        "AV0 = V0/C0 # 부가가치계수\n",
        "AV1 = V1/C1"
      ],
      "metadata": {
        "id": "0J-f-kPxEL0Z"
      },
      "execution_count": 143,
      "outputs": []
    },
    {
      "cell_type": "code",
      "source": [
        "CT0 = np.tile(C0, reps=[1,32])   # Ct벡터를 반복해여 행렬(32x32)로 만듬\n",
        "CT1 = np.tile(C1, reps=[1,32])\n",
        "CT1"
      ],
      "metadata": {
        "colab": {
          "base_uri": "https://localhost:8080/"
        },
        "id": "9dGIXvcTEL3B",
        "outputId": "362e1997-429a-466d-e590-23ce2a1c2cf2"
      },
      "execution_count": 144,
      "outputs": [
        {
          "output_type": "execute_result",
          "data": {
            "text/plain": [
              "array([[6.13717230e+07, 6.13717230e+07, 6.13717230e+07, ...,\n",
              "        6.13717230e+07, 6.13717230e+07, 6.13717230e+07],\n",
              "       [4.12521800e+06, 4.12521800e+06, 4.12521800e+06, ...,\n",
              "        4.12521800e+06, 4.12521800e+06, 4.12521800e+06],\n",
              "       [1.22147220e+08, 1.22147220e+08, 1.22147220e+08, ...,\n",
              "        1.22147220e+08, 1.22147220e+08, 1.22147220e+08],\n",
              "       ...,\n",
              "       [1.19620062e+08, 1.19620062e+08, 1.19620062e+08, ...,\n",
              "        1.19620062e+08, 1.19620062e+08, 1.19620062e+08],\n",
              "       [4.02937770e+07, 4.02937770e+07, 4.02937770e+07, ...,\n",
              "        4.02937770e+07, 4.02937770e+07, 4.02937770e+07],\n",
              "       [5.41933360e+07, 5.41933360e+07, 5.41933360e+07, ...,\n",
              "        5.41933360e+07, 5.41933360e+07, 5.41933360e+07]])"
            ]
          },
          "metadata": {},
          "execution_count": 144
        }
      ]
    },
    {
      "cell_type": "code",
      "source": [
        "AS0 = SS0/CT0.T # 총투입계수표\n",
        "AS1 = SS1/CT1.T\n",
        "# np.isnan(AS_t)"
      ],
      "metadata": {
        "id": "NCE7a-1dgP2f"
      },
      "execution_count": 145,
      "outputs": []
    },
    {
      "cell_type": "code",
      "source": [
        "AD0 = DD0/CT0.T # 국산투입계수표\n",
        "AD1 = DD1/CT1.T"
      ],
      "metadata": {
        "id": "tWvEJKQJi9Lt"
      },
      "execution_count": 146,
      "outputs": []
    },
    {
      "cell_type": "code",
      "source": [
        "II0 = AS0-AD0 # 수입투입계수표\n",
        "II1 = AS1-AD1"
      ],
      "metadata": {
        "id": "YaT-6Loqi9OR"
      },
      "execution_count": 147,
      "outputs": []
    },
    {
      "cell_type": "code",
      "source": [
        "M0 = IF0/DF0 # 수입최종수요/(소비+투자)\n",
        "M0 = np.diag(M0)\n",
        "\n",
        "M1 = IF1/DF1\n",
        "M1 = np.diag(M1)"
      ],
      "metadata": {
        "id": "w-ShpkV7i9QY"
      },
      "execution_count": 148,
      "outputs": []
    },
    {
      "cell_type": "code",
      "source": [
        "RD0 = np.linalg.inv(np.eye(32) - AD0) # 생산유발계수\n",
        "RD1 = np.linalg.inv(np.eye(32) - AD1)"
      ],
      "metadata": {
        "id": "y5HiakVIi9Sk"
      },
      "execution_count": 149,
      "outputs": []
    },
    {
      "cell_type": "code",
      "source": [
        "AM0 = II0/AS0 #조정항목\n",
        "AM0 = AM0*AS1\n",
        "\n",
        "AM1 = II1/AS1\n",
        "AM1 = AM1*AS0\n",
        "\n",
        "np.nan_to_num(AM0, copy=False)\n",
        "np.nan_to_num(AM1, copy=False)"
      ],
      "metadata": {
        "id": "-62Wibedi9U7",
        "outputId": "b48ca6a4-bab7-49b9-8133-faa459f00235",
        "colab": {
          "base_uri": "https://localhost:8080/"
        }
      },
      "execution_count": 150,
      "outputs": [
        {
          "output_type": "stream",
          "name": "stderr",
          "text": [
            "<ipython-input-150-5a495a19eb92>:1: RuntimeWarning: invalid value encountered in true_divide\n",
            "  AM0 = II0/AS0 #조정항목\n",
            "<ipython-input-150-5a495a19eb92>:4: RuntimeWarning: invalid value encountered in true_divide\n",
            "  AM1 = II1/AS1\n"
          ]
        },
        {
          "output_type": "execute_result",
          "data": {
            "text/plain": [
              "array([[8.31491485e-03, 2.53512610e-06, 5.24810338e-02, ...,\n",
              "        6.88503070e-04, 5.23238503e-05, 0.00000000e+00],\n",
              "       [0.00000000e+00, 0.00000000e+00, 2.52841774e-05, ...,\n",
              "        0.00000000e+00, 0.00000000e+00, 0.00000000e+00],\n",
              "       [2.81774126e-03, 0.00000000e+00, 5.24443944e-02, ...,\n",
              "        2.24001838e-03, 6.73029496e-04, 3.56284048e-07],\n",
              "       ...,\n",
              "       [1.20840329e-05, 1.52006543e-07, 3.01159908e-07, ...,\n",
              "        5.13727098e-06, 7.75305914e-07, 4.86993675e-07],\n",
              "       [2.93428389e-06, 5.35302884e-06, 4.85904782e-06, ...,\n",
              "        1.72108943e-05, 8.26672867e-04, 2.22307099e-04],\n",
              "       [3.86484578e-05, 2.26956978e-05, 1.14604904e-05, ...,\n",
              "        5.63956849e-05, 4.32815631e-05, 1.17425294e-04]])"
            ]
          },
          "metadata": {},
          "execution_count": 150
        }
      ]
    },
    {
      "cell_type": "code",
      "source": [
        "AA = AS1 - AS0 #투입계수변화\n",
        "AS1_f = pd.DataFrame(AS1)\n",
        "AS1_f.to_csv('AS1_f.csv')"
      ],
      "metadata": {
        "id": "oaRIccJKinqc"
      },
      "execution_count": 151,
      "outputs": []
    },
    {
      "cell_type": "markdown",
      "source": [
        "#### 산출액성장요인분해"
      ],
      "metadata": {
        "id": "LtkcJ9Pasrzo"
      }
    },
    {
      "cell_type": "code",
      "source": [
        "TC1 = ((RD1@(np.eye(32)-M1))@GDC2).reshape([32,1])  # 소비규모증가효과\n",
        "TC11 = ((RD1@(np.eye(32)-M1))@GDC3).reshape([32,1]) # 소비구조증가효과\n",
        "TCTD = TC1 + TC11\n",
        "TC111 = np.concatenate((TCTD, TC1, TC11), axis=1)\n",
        "# TC111"
      ],
      "metadata": {
        "id": "KMvKjFJ0q19V"
      },
      "execution_count": 152,
      "outputs": []
    },
    {
      "cell_type": "code",
      "source": [
        "TI1 = ((RD1@(np.eye(32)-M1))@GDI2).reshape([32,1])  # 소비규모증가효과\n",
        "TI11 = ((RD1@(np.eye(32)-M1))@GDI3).reshape([32,1]) # 소비구조증가효과\n",
        "TITD = TI1 + TI11\n",
        "TI111 = np.concatenate((TITD, TI1, TI11), axis=1)"
      ],
      "metadata": {
        "id": "WkSQSCLhul8x"
      },
      "execution_count": 153,
      "outputs": []
    },
    {
      "cell_type": "code",
      "source": [
        "TQ = TC1+TI1 # 국내최종수요규모증가효과\n",
        "TS = TC11+TI11 # 국내최종수요규조변화효과\n",
        "TQS = TQ+TS\n",
        "T1 = np.concatenate((TQS, TQ, TS), axis=1)\n",
        "T1.shape"
      ],
      "metadata": {
        "id": "Wmq1H3tuumAB",
        "colab": {
          "base_uri": "https://localhost:8080/"
        },
        "outputId": "51090096-4ba0-4a3e-cfcb-a43e4d6a69fd"
      },
      "execution_count": 154,
      "outputs": [
        {
          "output_type": "execute_result",
          "data": {
            "text/plain": [
              "(32, 3)"
            ]
          },
          "metadata": {},
          "execution_count": 154
        }
      ]
    },
    {
      "cell_type": "code",
      "source": [
        "T2 = (RD1@ED2).reshape([32,1]) # 수출규모증가효과\n",
        "T22 = (RD1@ED3) .reshape([32,1])# 수출구조변화효과\n",
        "TTE = T2+T22\n",
        "T2 = np.concatenate((TTE, T2, T22), axis=1)"
      ],
      "metadata": {
        "id": "PgRj1lk4tyya"
      },
      "execution_count": 155,
      "outputs": []
    },
    {
      "cell_type": "code",
      "source": [
        "T3 = ((RD1@(M1 - M0))@DF0).reshape([32,1]) # 최종재수입대체효과\n",
        "T3 = T3*-1\n",
        "T4 = ((RD1@(AM1 - II0)))@C0[0:32,] # 중간재수입대체효과\n",
        "T4 = T4*-1\n",
        "T34 = T3 + T4\n",
        "TI = np.concatenate((T34, T3, T4), axis=1)\n",
        "TI\n",
        "\n"
      ],
      "metadata": {
        "id": "8Mr7oaogtKuC",
        "outputId": "e037e110-554f-4499-aaf2-111b46ba3ddf",
        "colab": {
          "base_uri": "https://localhost:8080/"
        }
      },
      "execution_count": 156,
      "outputs": [
        {
          "output_type": "execute_result",
          "data": {
            "text/plain": [
              "array([[-3.01622263e+06, -1.89659694e+06, -1.11962570e+06],\n",
              "       [ 9.67659414e+04, -1.90728247e+04,  1.15838766e+05],\n",
              "       [-3.66704117e+06, -4.00756478e+06,  3.40523612e+05],\n",
              "       [-1.20262648e+07, -6.35020613e+06, -5.67605866e+06],\n",
              "       [-1.54407350e+06, -3.58618018e+05, -1.18545548e+06],\n",
              "       [ 1.44880149e+06, -8.74896370e+05,  2.32369786e+06],\n",
              "       [-9.62983782e+06, -6.96593158e+06, -2.66390624e+06],\n",
              "       [-8.60832462e+05, -5.40370542e+05, -3.20461919e+05],\n",
              "       [ 2.39788226e+06,  5.14512520e+05,  1.88336974e+06],\n",
              "       [-1.07976446e+05, -7.65895387e+04, -3.13869075e+04],\n",
              "       [-9.28271474e+06,  2.91542942e+06, -1.21981442e+07],\n",
              "       [-3.99299993e+06, -5.59583302e+05, -3.43341663e+06],\n",
              "       [-1.67350685e+06,  3.20984600e+06, -4.88335285e+06],\n",
              "       [-1.27858456e+06, -4.18970824e+06,  2.91112367e+06],\n",
              "       [-1.79653766e+06, -8.41959102e+05, -9.54578557e+05],\n",
              "       [ 2.75791836e+05, -1.05794240e+06,  1.33373424e+06],\n",
              "       [-1.21964152e+06, -6.69846556e+05, -5.49794960e+05],\n",
              "       [-1.70149327e+05, -1.07213979e+05, -6.29353481e+04],\n",
              "       [-2.42540222e+05, -4.93867710e+04, -1.93153451e+05],\n",
              "       [-3.57547739e+06, -1.64412900e+06, -1.93134839e+06],\n",
              "       [-5.64537694e+06, -4.64154997e+06, -1.00382697e+06],\n",
              "       [-1.71364094e+06, -1.03638788e+06, -6.77253063e+05],\n",
              "       [-4.48675268e+04,  5.48999226e+05, -5.93866752e+05],\n",
              "       [-5.67614513e+05, -3.44066640e+05, -2.23547874e+05],\n",
              "       [ 4.43665914e+04,  1.22569768e+05, -7.82031761e+04],\n",
              "       [-9.01849997e+06, -4.75467625e+06, -4.26382372e+06],\n",
              "       [-1.61291960e+06, -1.10093201e+05, -1.50282640e+06],\n",
              "       [ 1.06184988e+05, -4.52179225e+03,  1.10706781e+05],\n",
              "       [ 1.86518652e+06,  1.82141100e+06,  4.37755247e+04],\n",
              "       [-4.98360907e+05, -4.42594395e+05, -5.57665113e+04],\n",
              "       [-1.42016168e+06, -2.17383461e+06,  7.53672928e+05],\n",
              "       [-3.52936484e+05, -1.67573426e+05, -1.85363059e+05]])"
            ]
          },
          "metadata": {},
          "execution_count": 156
        }
      ]
    },
    {
      "cell_type": "code",
      "source": [
        "T5 = (RD1@(AA-(II1-AM1)))@C0 # 기술변화효과\n",
        "T5.shape\n",
        "T5"
      ],
      "metadata": {
        "id": "iHLeIimfRbIu",
        "outputId": "d37971cb-3955-48c9-93cd-f0afd0bd8a21",
        "colab": {
          "base_uri": "https://localhost:8080/"
        }
      },
      "execution_count": 305,
      "outputs": [
        {
          "output_type": "execute_result",
          "data": {
            "text/plain": [
              "array([[  2538814.66846134],\n",
              "       [  -189244.49533591],\n",
              "       [ 15646198.87166642],\n",
              "       [  1704385.78733324],\n",
              "       [ -2949241.12726974],\n",
              "       [  2115141.91271063],\n",
              "       [ -1936106.79505498],\n",
              "       [   693113.12509009],\n",
              "       [ -6404024.8075865 ],\n",
              "       [  5543489.48966946],\n",
              "       [  2351453.10867712],\n",
              "       [ -4309748.32119817],\n",
              "       [ -7654992.74104335],\n",
              "       [ 11849473.53102034],\n",
              "       [   459872.65085039],\n",
              "       [  5620627.16871879],\n",
              "       [-10101050.15333113],\n",
              "       [ -3352771.25534214],\n",
              "       [ -1589234.2912979 ],\n",
              "       [ 16668840.82608018],\n",
              "       [  1738486.10927874],\n",
              "       [  6933957.06237242],\n",
              "       [   167737.28116973],\n",
              "       [  -260715.08990477],\n",
              "       [  5204189.05155936],\n",
              "       [  3427543.54732185],\n",
              "       [ 12004356.42213299],\n",
              "       [  1166810.9917538 ],\n",
              "       [   -24775.69577716],\n",
              "       [  3178961.31364818],\n",
              "       [ -3358323.0335745 ],\n",
              "       [  1521876.12966272]])"
            ]
          },
          "metadata": {},
          "execution_count": 305
        }
      ]
    },
    {
      "cell_type": "code",
      "source": [
        "DCT0 = C1-C0  #산출액 실질변동액\n",
        "DCT1 = TCTD + TITD + TTE +T3 + T4 + T5 # 총변동요인\n",
        "DCT = DCT0-DCT1"
      ],
      "metadata": {
        "id": "-bGGgsUDHQ79"
      },
      "execution_count": 306,
      "outputs": []
    },
    {
      "cell_type": "code",
      "source": [
        "SUM = np.concatenate((C0, C1, DCT0, DCT1, DCT, T1, TC111, TI111, T2, TI, T5), axis=1)\n",
        "SUM.shape\n",
        "SUM1 = np.sum(SUM, axis=0).reshape([1,21])\n",
        "PGD1015 = (np.concatenate((SUM, SUM1), axis=0))\n",
        "PGD1015_f = (PGD1015/1000).round(1)"
      ],
      "metadata": {
        "id": "vVUQoAshMJJU"
      },
      "execution_count": 337,
      "outputs": []
    },
    {
      "cell_type": "code",
      "source": [
        "PGD1015_ff = pd.DataFrame(PGD1015_f,columns = ['10년산출액', '15년산출액', '15-10산출액(A)', '요인별합계(B)', 'B-A', '국내최종수요증감액', '국내최종수요(규모증가)', '국내최종수요(구조변화)',\n",
        "                                                     '소비', '소비(규모)','소비(구조)','투자', '투자(규모)','투자(구조)', '수출', '수출(규모)','수출(구조)', '수입', '최종재수입','중간재수입', '기술변화'],\n",
        "\n",
        "                         index=['농림수산품', '광산품', '음식료품', '섬유 및 가죽제품', '목재 및 종이, 인쇄', ' 석탄 및 석유제품', '화학제품', '비금속광물제품', '1차금속제품', '금속가공제품',\n",
        "                                '컴퓨터, 전자 및 광학기기', '전기장비', '기계 및 장비', '운송장비', '기타제조업제품', '제조임가공 및 산업용 장비 수리', '전력, 가스 및 증기', '수도, 폐기물처리 및 재활용 서비스',\n",
        "                                '건설', '도소매', '운송서비스', '음석점및숙박', '정보통신 및 방송서비스', '금융및보험서비스', '부동산서비스', '전문, 과학 및 기술서비스',\n",
        "                                '사업지원서비스', '공공행정, 국방 및 사회보장', '교육서비스', '보건 및 사회복지서비스', '예술, 스포츠 및 여가 관련 서비스', '기타 서비스', '계'])  # pandas로 내보내기"
      ],
      "metadata": {
        "id": "RGtoWYTD2Lhw"
      },
      "execution_count": 338,
      "outputs": []
    },
    {
      "cell_type": "code",
      "source": [
        "PGD1015_ff"
      ],
      "metadata": {
        "id": "Fk9Z5m7G8oxT",
        "outputId": "618af064-0876-4766-c9b3-cbf5d5878fea",
        "colab": {
          "base_uri": "https://localhost:8080/",
          "height": 1000
        }
      },
      "execution_count": 339,
      "outputs": [
        {
          "output_type": "execute_result",
          "data": {
            "text/plain": [
              "                        10년산출액     15년산출액  15-10산출액(A)  요인별합계(B)  B-A  \\\n",
              "농림수산품                  59105.4    61371.7       2266.3    2266.3  0.0   \n",
              "광산품                     3805.0     4125.2        320.3     320.3  0.0   \n",
              "음식료품                  106663.7   122147.2      15483.5   15483.5  0.0   \n",
              "섬유 및 가죽제품              72748.2    79329.1       6580.9    6580.9 -0.0   \n",
              "목재 및 종이, 인쇄            40939.6    42914.0       1974.4    1974.4 -0.0   \n",
              " 석탄 및 석유제품             88115.6   110150.0      22034.4   22034.4  0.0   \n",
              "화학제품                  206672.6   245383.2      38710.6   38710.6  0.0   \n",
              "비금속광물제품                35071.6    39678.7       4607.1    4607.1 -0.0   \n",
              "1차금속제품                115463.4   124914.2       9450.8    9450.8  0.0   \n",
              "금속가공제품                 81461.3   100287.6      18826.2   18826.2  0.0   \n",
              "컴퓨터, 전자 및 광학기기        194305.9   282213.6      87907.6   87907.6  0.0   \n",
              "전기장비                   88245.5    95673.1       7427.7    7427.7  0.0   \n",
              "기계 및 장비               116925.4   125009.9       8084.5    8084.5  0.0   \n",
              "운송장비                  216735.2   257977.5      41242.3   41242.3 -0.0   \n",
              "기타제조업제품                17604.1    20146.5       2542.4    2542.4  0.0   \n",
              "제조임가공 및 산업용 장비 수리      46081.2    61203.8      15122.7   15122.7  0.0   \n",
              "전력, 가스 및 증기            98296.9    92800.0      -5496.9   -5496.9 -0.0   \n",
              "수도, 폐기물처리 및 재활용 서비스    20531.3    19221.6      -1309.8   -1309.7 -0.0   \n",
              "건설                    217667.9   223617.0       5949.1    5949.1  0.0   \n",
              "도소매                   186781.7   247647.6      60866.0   60866.0 -0.0   \n",
              "운송서비스                 129332.3   141344.5      12012.2   12012.2 -0.0   \n",
              "음석점및숙박                107393.3   131926.2      24532.9   24532.9 -0.0   \n",
              "정보통신 및 방송서비스          109572.3   135412.8      25840.5   25840.5  0.0   \n",
              "금융및보험서비스              130349.0   156925.2      26576.2   26576.2  0.0   \n",
              "부동산서비스                159681.2   191497.5      31816.3   31816.3 -0.0   \n",
              "전문, 과학 및 기술서비스        147270.9   186524.2      39253.2   39253.2  0.0   \n",
              "사업지원서비스                56165.7    76481.3      20315.6   20315.6  0.0   \n",
              "공공행정, 국방 및 사회보장       100424.8   123378.8      22954.0   22954.0  0.0   \n",
              "교육서비스                 106773.8   116328.6       9554.9    9554.9  0.0   \n",
              "보건 및 사회복지서비스           91534.8   119620.1      28085.3   28085.3  0.0   \n",
              "예술, 스포츠 및 여가 관련 서비스    40202.6    40293.8         91.1      91.1 -0.0   \n",
              "기타 서비스                 44919.0    54193.3       9274.3    9274.3  0.0   \n",
              "계                    3236841.3  3829737.9     592896.6  592896.6  0.0   \n",
              "\n",
              "                     국내최종수요증감액  국내최종수요(규모증가)  국내최종수요(구조변화)        소비  \\\n",
              "농림수산품                   1709.1        7086.2       -5377.1    3261.4   \n",
              "광산품                       57.5         248.2        -190.8      58.4   \n",
              "음식료품                     466.3       14229.7      -13763.4    3686.2   \n",
              "섬유 및 가죽제품                181.2        4240.3       -4059.0    1537.1   \n",
              "목재 및 종이, 인쇄             3797.7        3002.2         795.5    2422.8   \n",
              " 석탄 및 석유제품              1857.2        5754.6       -3897.4    2667.4   \n",
              "화학제품                    9380.4        9449.1         -68.7    7873.3   \n",
              "비금속광물제품                 1364.7        2488.8       -1124.1     529.2   \n",
              "1차금속제품                 -2216.6        3918.8       -6135.4    1358.0   \n",
              "금속가공제품                  4145.0        4899.4        -754.5    1997.0   \n",
              "컴퓨터, 전자 및 광학기기         11735.0        5472.2        6262.8    7347.1   \n",
              "전기장비                    3984.3        4037.1         -52.8    2719.5   \n",
              "기계 및 장비                 3825.0        4806.2        -981.2     816.4   \n",
              "운송장비                   14241.5        7383.8        6857.7    8000.4   \n",
              "기타제조업제품                 2901.3        1595.9        1305.4    1690.6   \n",
              "제조임가공 및 산업용 장비 수리       2254.2        2867.5        -613.3    1824.2   \n",
              "전력, 가스 및 증기             -970.3        8635.5       -9605.7   -2286.2   \n",
              "수도, 폐기물처리 및 재활용 서비스      737.8        1690.6        -952.7     633.5   \n",
              "건설                      7645.3       18979.2      -11333.9     890.5   \n",
              "도소매                    25019.8       19626.6        5393.2   24680.3   \n",
              "운송서비스                   4394.4        8289.4       -3895.1    3417.7   \n",
              "음석점및숙박                 16351.0       13153.0        3198.0   15158.7   \n",
              "정보통신 및 방송서비스           18163.2       11497.9        6665.3    9415.9   \n",
              "금융및보험서비스               22239.2       15001.1        7238.2   20409.2   \n",
              "부동산서비스                 23961.8       20841.1        3120.6   16368.4   \n",
              "전문, 과학 및 기술서비스         28728.5       11135.0       17593.5    5601.1   \n",
              "사업지원서비스                 4162.0        5874.4       -1712.4    2414.7   \n",
              "공공행정, 국방 및 사회보장        21450.2       14433.4        7016.8   21411.7   \n",
              "교육서비스                   7853.8       15375.8       -7522.0    7805.3   \n",
              "보건 및 사회복지서비스           24642.3       13178.5       11463.8   24499.4   \n",
              "예술, 스포츠 및 여가 관련 서비스     5076.4        4523.2         553.2    5035.6   \n",
              "기타 서비스                  6782.7        5925.8         856.9    6528.5   \n",
              "계                     275922.1      269640.8        6281.3  209773.3   \n",
              "\n",
              "                       소비(규모)  ...       투자   투자(규모)   투자(구조)        수출  \\\n",
              "농림수산품                  6564.0  ...  -1552.3    522.2  -2074.5    1034.6   \n",
              "광산품                      67.6  ...     -0.9    180.6   -181.6     355.3   \n",
              "음식료품                  13465.7  ...  -3219.9    764.0  -3983.9    3038.0   \n",
              "섬유 및 가죽제품              3779.8  ...  -1355.8    460.5  -1816.3   16721.6   \n",
              "목재 및 종이, 인쇄            2122.3  ...   1374.9    880.0    495.0    2670.0   \n",
              " 석탄 및 석유제품             4770.2  ...   -810.2    984.4  -1794.6   16613.3   \n",
              "화학제품                   6856.5  ...   1507.1   2592.6  -1085.5   40896.1   \n",
              "비금속광물제품                 470.1  ...    835.5   2018.7  -1183.2    3410.0   \n",
              "1차금속제품                 1196.2  ...  -3574.6   2722.6  -6297.2   15673.6   \n",
              "금속가공제품                 1837.2  ...   2147.9   3062.2   -914.3    9245.8   \n",
              "컴퓨터, 전자 및 광학기기         3358.7  ...   4387.9   2113.5   2274.4   83103.9   \n",
              "전기장비                   1780.5  ...   1264.8   2256.5   -991.7   11746.1   \n",
              "기계 및 장비                 920.9  ...   3008.7   3885.3   -876.6   13588.0   \n",
              "운송장비                   4586.6  ...   6241.1   2797.2   3443.9   16429.9   \n",
              "기타제조업제품                1212.3  ...   1210.8    383.6    827.2     977.8   \n",
              "제조임가공 및 산업용 장비 수리      1974.7  ...    430.0    892.7   -462.7    6972.0   \n",
              "전력, 가스 및 증기            7444.7  ...   1316.0   1190.8    125.2    6794.1   \n",
              "수도, 폐기물처리 및 재활용 서비스    1475.2  ...    104.3    215.4   -111.1    1475.3   \n",
              "건설                      966.0  ...   6754.8  18013.2 -11258.4     135.6   \n",
              "도소매                   16183.2  ...    339.4   3443.3  -3103.9   22752.8   \n",
              "운송서비스                  6769.1  ...    976.7   1520.3   -543.6   11524.7   \n",
              "음석점및숙박                12391.7  ...   1192.3    761.4    430.9    2961.5   \n",
              "정보통신 및 방송서비스           8231.1  ...   8747.4   3266.8   5480.5    7554.4   \n",
              "금융및보험서비스              13633.6  ...   1830.1   1367.4    462.6    5165.3   \n",
              "부동산서비스                18456.9  ...   7593.4   2384.3   5209.1    2606.0   \n",
              "전문, 과학 및 기술서비스         4707.7  ...  23127.4   6427.3  16700.1   16115.7   \n",
              "사업지원서비스                4549.1  ...   1747.2   1325.3    422.0    5762.2   \n",
              "공공행정, 국방 및 사회보장       14397.4  ...     38.5     36.0      2.5     230.8   \n",
              "교육서비스                 15337.6  ...     48.5     38.2     10.3    -139.3   \n",
              "보건 및 사회복지서비스          13055.0  ...    142.9    123.5     19.4     762.4   \n",
              "예술, 스포츠 및 여가 관련 서비스    4351.8  ...     40.8    171.4   -130.6    -206.8   \n",
              "기타 서비스                 5703.3  ...    254.2    222.5     31.7    1322.6   \n",
              "계                    202617.0  ...  66148.8  67023.8   -875.0  327293.2   \n",
              "\n",
              "                       수출(규모)   수출(구조)       수입    최종재수입    중간재수입     기술변화  \n",
              "농림수산품                  2283.0  -1248.3  -3016.2  -1896.6  -1119.6   2538.8  \n",
              "광산품                     392.0    -36.7     96.8    -19.1    115.8   -189.2  \n",
              "음식료품                   5328.3  -2290.3  -3667.0  -4007.6    340.5  15646.2  \n",
              "섬유 및 가죽제품             10380.4   6341.2 -12026.3  -6350.2  -5676.1   1704.4  \n",
              "목재 및 종이, 인쇄            3881.4  -1211.4  -1544.1   -358.6  -1185.5  -2949.2  \n",
              " 석탄 및 석유제품            15889.0    724.3   1448.8   -874.9   2323.7   2115.1  \n",
              "화학제품                  39657.0   1239.1  -9629.8  -6965.9  -2663.9  -1936.1  \n",
              "비금속광물제품                2829.1    580.9   -860.8   -540.4   -320.5    693.1  \n",
              "1차금속제품                24246.1  -8572.6   2397.9    514.5   1883.4  -6404.0  \n",
              "금속가공제품                13110.8  -3865.1   -108.0    -76.6    -31.4   5543.5  \n",
              "컴퓨터, 전자 및 광학기기        47167.3  35936.7  -9282.7   2915.4 -12198.1   2351.5  \n",
              "전기장비                  14030.3  -2284.2  -3993.0   -559.6  -3433.4  -4309.7  \n",
              "기계 및 장비               19066.4  -5478.4  -1673.5   3209.8  -4883.4  -7655.0  \n",
              "운송장비                  55101.9 -38672.0  -1278.6  -4189.7   2911.1  11849.5  \n",
              "기타제조업제품                1142.1   -164.4  -1796.5   -842.0   -954.6    459.9  \n",
              "제조임가공 및 산업용 장비 수리      9428.8  -2456.7    275.8  -1057.9   1333.7   5620.6  \n",
              "전력, 가스 및 증기            7181.6   -387.5  -1219.6   -669.8   -549.8 -10101.1  \n",
              "수도, 폐기물처리 및 재활용 서비스    1426.6     48.7   -170.1   -107.2    -62.9  -3352.8  \n",
              "건설                      553.9   -418.4   -242.5    -49.4   -193.2  -1589.2  \n",
              "도소매                   15936.5   6816.4  -3575.5  -1644.1  -1931.3  16668.8  \n",
              "운송서비스                 20488.0  -8963.3  -5645.4  -4641.5  -1003.8   1738.5  \n",
              "음석점및숙박                 5836.9  -2875.4  -1713.6  -1036.4   -677.3   6934.0  \n",
              "정보통신 및 방송서비스           4922.8   2631.6    -44.9    549.0   -593.9    167.7  \n",
              "금융및보험서비스               6259.5  -1094.2   -567.6   -344.1   -223.5   -260.7  \n",
              "부동산서비스                 2880.4   -274.4     44.4    122.6    -78.2   5204.2  \n",
              "전문, 과학 및 기술서비스        11750.6   4365.2  -9018.5  -4754.7  -4263.8   3427.5  \n",
              "사업지원서비스                6594.2   -832.0  -1612.9   -110.1  -1502.8  12004.4  \n",
              "공공행정, 국방 및 사회보장         235.3     -4.5    106.2     -4.5    110.7   1166.8  \n",
              "교육서비스                   344.3   -483.7   1865.2   1821.4     43.8    -24.8  \n",
              "보건 및 사회복지서비스            535.6    226.8   -498.4   -442.6    -55.8   3179.0  \n",
              "예술, 스포츠 및 여가 관련 서비스    1029.5  -1236.3  -1420.2  -2173.8    753.7  -3358.3  \n",
              "기타 서비스                 1243.5     79.2   -352.9   -167.6   -185.4   1521.9  \n",
              "계                    351153.0 -23859.8 -68723.8 -34752.1 -33971.7  58405.1  \n",
              "\n",
              "[33 rows x 21 columns]"
            ],
            "text/html": [
              "\n",
              "  <div id=\"df-c9b8c213-fd3a-47fb-9fce-81207beed9ac\">\n",
              "    <div class=\"colab-df-container\">\n",
              "      <div>\n",
              "<style scoped>\n",
              "    .dataframe tbody tr th:only-of-type {\n",
              "        vertical-align: middle;\n",
              "    }\n",
              "\n",
              "    .dataframe tbody tr th {\n",
              "        vertical-align: top;\n",
              "    }\n",
              "\n",
              "    .dataframe thead th {\n",
              "        text-align: right;\n",
              "    }\n",
              "</style>\n",
              "<table border=\"1\" class=\"dataframe\">\n",
              "  <thead>\n",
              "    <tr style=\"text-align: right;\">\n",
              "      <th></th>\n",
              "      <th>10년산출액</th>\n",
              "      <th>15년산출액</th>\n",
              "      <th>15-10산출액(A)</th>\n",
              "      <th>요인별합계(B)</th>\n",
              "      <th>B-A</th>\n",
              "      <th>국내최종수요증감액</th>\n",
              "      <th>국내최종수요(규모증가)</th>\n",
              "      <th>국내최종수요(구조변화)</th>\n",
              "      <th>소비</th>\n",
              "      <th>소비(규모)</th>\n",
              "      <th>...</th>\n",
              "      <th>투자</th>\n",
              "      <th>투자(규모)</th>\n",
              "      <th>투자(구조)</th>\n",
              "      <th>수출</th>\n",
              "      <th>수출(규모)</th>\n",
              "      <th>수출(구조)</th>\n",
              "      <th>수입</th>\n",
              "      <th>최종재수입</th>\n",
              "      <th>중간재수입</th>\n",
              "      <th>기술변화</th>\n",
              "    </tr>\n",
              "  </thead>\n",
              "  <tbody>\n",
              "    <tr>\n",
              "      <th>농림수산품</th>\n",
              "      <td>59105.4</td>\n",
              "      <td>61371.7</td>\n",
              "      <td>2266.3</td>\n",
              "      <td>2266.3</td>\n",
              "      <td>0.0</td>\n",
              "      <td>1709.1</td>\n",
              "      <td>7086.2</td>\n",
              "      <td>-5377.1</td>\n",
              "      <td>3261.4</td>\n",
              "      <td>6564.0</td>\n",
              "      <td>...</td>\n",
              "      <td>-1552.3</td>\n",
              "      <td>522.2</td>\n",
              "      <td>-2074.5</td>\n",
              "      <td>1034.6</td>\n",
              "      <td>2283.0</td>\n",
              "      <td>-1248.3</td>\n",
              "      <td>-3016.2</td>\n",
              "      <td>-1896.6</td>\n",
              "      <td>-1119.6</td>\n",
              "      <td>2538.8</td>\n",
              "    </tr>\n",
              "    <tr>\n",
              "      <th>광산품</th>\n",
              "      <td>3805.0</td>\n",
              "      <td>4125.2</td>\n",
              "      <td>320.3</td>\n",
              "      <td>320.3</td>\n",
              "      <td>0.0</td>\n",
              "      <td>57.5</td>\n",
              "      <td>248.2</td>\n",
              "      <td>-190.8</td>\n",
              "      <td>58.4</td>\n",
              "      <td>67.6</td>\n",
              "      <td>...</td>\n",
              "      <td>-0.9</td>\n",
              "      <td>180.6</td>\n",
              "      <td>-181.6</td>\n",
              "      <td>355.3</td>\n",
              "      <td>392.0</td>\n",
              "      <td>-36.7</td>\n",
              "      <td>96.8</td>\n",
              "      <td>-19.1</td>\n",
              "      <td>115.8</td>\n",
              "      <td>-189.2</td>\n",
              "    </tr>\n",
              "    <tr>\n",
              "      <th>음식료품</th>\n",
              "      <td>106663.7</td>\n",
              "      <td>122147.2</td>\n",
              "      <td>15483.5</td>\n",
              "      <td>15483.5</td>\n",
              "      <td>0.0</td>\n",
              "      <td>466.3</td>\n",
              "      <td>14229.7</td>\n",
              "      <td>-13763.4</td>\n",
              "      <td>3686.2</td>\n",
              "      <td>13465.7</td>\n",
              "      <td>...</td>\n",
              "      <td>-3219.9</td>\n",
              "      <td>764.0</td>\n",
              "      <td>-3983.9</td>\n",
              "      <td>3038.0</td>\n",
              "      <td>5328.3</td>\n",
              "      <td>-2290.3</td>\n",
              "      <td>-3667.0</td>\n",
              "      <td>-4007.6</td>\n",
              "      <td>340.5</td>\n",
              "      <td>15646.2</td>\n",
              "    </tr>\n",
              "    <tr>\n",
              "      <th>섬유 및 가죽제품</th>\n",
              "      <td>72748.2</td>\n",
              "      <td>79329.1</td>\n",
              "      <td>6580.9</td>\n",
              "      <td>6580.9</td>\n",
              "      <td>-0.0</td>\n",
              "      <td>181.2</td>\n",
              "      <td>4240.3</td>\n",
              "      <td>-4059.0</td>\n",
              "      <td>1537.1</td>\n",
              "      <td>3779.8</td>\n",
              "      <td>...</td>\n",
              "      <td>-1355.8</td>\n",
              "      <td>460.5</td>\n",
              "      <td>-1816.3</td>\n",
              "      <td>16721.6</td>\n",
              "      <td>10380.4</td>\n",
              "      <td>6341.2</td>\n",
              "      <td>-12026.3</td>\n",
              "      <td>-6350.2</td>\n",
              "      <td>-5676.1</td>\n",
              "      <td>1704.4</td>\n",
              "    </tr>\n",
              "    <tr>\n",
              "      <th>목재 및 종이, 인쇄</th>\n",
              "      <td>40939.6</td>\n",
              "      <td>42914.0</td>\n",
              "      <td>1974.4</td>\n",
              "      <td>1974.4</td>\n",
              "      <td>-0.0</td>\n",
              "      <td>3797.7</td>\n",
              "      <td>3002.2</td>\n",
              "      <td>795.5</td>\n",
              "      <td>2422.8</td>\n",
              "      <td>2122.3</td>\n",
              "      <td>...</td>\n",
              "      <td>1374.9</td>\n",
              "      <td>880.0</td>\n",
              "      <td>495.0</td>\n",
              "      <td>2670.0</td>\n",
              "      <td>3881.4</td>\n",
              "      <td>-1211.4</td>\n",
              "      <td>-1544.1</td>\n",
              "      <td>-358.6</td>\n",
              "      <td>-1185.5</td>\n",
              "      <td>-2949.2</td>\n",
              "    </tr>\n",
              "    <tr>\n",
              "      <th>석탄 및 석유제품</th>\n",
              "      <td>88115.6</td>\n",
              "      <td>110150.0</td>\n",
              "      <td>22034.4</td>\n",
              "      <td>22034.4</td>\n",
              "      <td>0.0</td>\n",
              "      <td>1857.2</td>\n",
              "      <td>5754.6</td>\n",
              "      <td>-3897.4</td>\n",
              "      <td>2667.4</td>\n",
              "      <td>4770.2</td>\n",
              "      <td>...</td>\n",
              "      <td>-810.2</td>\n",
              "      <td>984.4</td>\n",
              "      <td>-1794.6</td>\n",
              "      <td>16613.3</td>\n",
              "      <td>15889.0</td>\n",
              "      <td>724.3</td>\n",
              "      <td>1448.8</td>\n",
              "      <td>-874.9</td>\n",
              "      <td>2323.7</td>\n",
              "      <td>2115.1</td>\n",
              "    </tr>\n",
              "    <tr>\n",
              "      <th>화학제품</th>\n",
              "      <td>206672.6</td>\n",
              "      <td>245383.2</td>\n",
              "      <td>38710.6</td>\n",
              "      <td>38710.6</td>\n",
              "      <td>0.0</td>\n",
              "      <td>9380.4</td>\n",
              "      <td>9449.1</td>\n",
              "      <td>-68.7</td>\n",
              "      <td>7873.3</td>\n",
              "      <td>6856.5</td>\n",
              "      <td>...</td>\n",
              "      <td>1507.1</td>\n",
              "      <td>2592.6</td>\n",
              "      <td>-1085.5</td>\n",
              "      <td>40896.1</td>\n",
              "      <td>39657.0</td>\n",
              "      <td>1239.1</td>\n",
              "      <td>-9629.8</td>\n",
              "      <td>-6965.9</td>\n",
              "      <td>-2663.9</td>\n",
              "      <td>-1936.1</td>\n",
              "    </tr>\n",
              "    <tr>\n",
              "      <th>비금속광물제품</th>\n",
              "      <td>35071.6</td>\n",
              "      <td>39678.7</td>\n",
              "      <td>4607.1</td>\n",
              "      <td>4607.1</td>\n",
              "      <td>-0.0</td>\n",
              "      <td>1364.7</td>\n",
              "      <td>2488.8</td>\n",
              "      <td>-1124.1</td>\n",
              "      <td>529.2</td>\n",
              "      <td>470.1</td>\n",
              "      <td>...</td>\n",
              "      <td>835.5</td>\n",
              "      <td>2018.7</td>\n",
              "      <td>-1183.2</td>\n",
              "      <td>3410.0</td>\n",
              "      <td>2829.1</td>\n",
              "      <td>580.9</td>\n",
              "      <td>-860.8</td>\n",
              "      <td>-540.4</td>\n",
              "      <td>-320.5</td>\n",
              "      <td>693.1</td>\n",
              "    </tr>\n",
              "    <tr>\n",
              "      <th>1차금속제품</th>\n",
              "      <td>115463.4</td>\n",
              "      <td>124914.2</td>\n",
              "      <td>9450.8</td>\n",
              "      <td>9450.8</td>\n",
              "      <td>0.0</td>\n",
              "      <td>-2216.6</td>\n",
              "      <td>3918.8</td>\n",
              "      <td>-6135.4</td>\n",
              "      <td>1358.0</td>\n",
              "      <td>1196.2</td>\n",
              "      <td>...</td>\n",
              "      <td>-3574.6</td>\n",
              "      <td>2722.6</td>\n",
              "      <td>-6297.2</td>\n",
              "      <td>15673.6</td>\n",
              "      <td>24246.1</td>\n",
              "      <td>-8572.6</td>\n",
              "      <td>2397.9</td>\n",
              "      <td>514.5</td>\n",
              "      <td>1883.4</td>\n",
              "      <td>-6404.0</td>\n",
              "    </tr>\n",
              "    <tr>\n",
              "      <th>금속가공제품</th>\n",
              "      <td>81461.3</td>\n",
              "      <td>100287.6</td>\n",
              "      <td>18826.2</td>\n",
              "      <td>18826.2</td>\n",
              "      <td>0.0</td>\n",
              "      <td>4145.0</td>\n",
              "      <td>4899.4</td>\n",
              "      <td>-754.5</td>\n",
              "      <td>1997.0</td>\n",
              "      <td>1837.2</td>\n",
              "      <td>...</td>\n",
              "      <td>2147.9</td>\n",
              "      <td>3062.2</td>\n",
              "      <td>-914.3</td>\n",
              "      <td>9245.8</td>\n",
              "      <td>13110.8</td>\n",
              "      <td>-3865.1</td>\n",
              "      <td>-108.0</td>\n",
              "      <td>-76.6</td>\n",
              "      <td>-31.4</td>\n",
              "      <td>5543.5</td>\n",
              "    </tr>\n",
              "    <tr>\n",
              "      <th>컴퓨터, 전자 및 광학기기</th>\n",
              "      <td>194305.9</td>\n",
              "      <td>282213.6</td>\n",
              "      <td>87907.6</td>\n",
              "      <td>87907.6</td>\n",
              "      <td>0.0</td>\n",
              "      <td>11735.0</td>\n",
              "      <td>5472.2</td>\n",
              "      <td>6262.8</td>\n",
              "      <td>7347.1</td>\n",
              "      <td>3358.7</td>\n",
              "      <td>...</td>\n",
              "      <td>4387.9</td>\n",
              "      <td>2113.5</td>\n",
              "      <td>2274.4</td>\n",
              "      <td>83103.9</td>\n",
              "      <td>47167.3</td>\n",
              "      <td>35936.7</td>\n",
              "      <td>-9282.7</td>\n",
              "      <td>2915.4</td>\n",
              "      <td>-12198.1</td>\n",
              "      <td>2351.5</td>\n",
              "    </tr>\n",
              "    <tr>\n",
              "      <th>전기장비</th>\n",
              "      <td>88245.5</td>\n",
              "      <td>95673.1</td>\n",
              "      <td>7427.7</td>\n",
              "      <td>7427.7</td>\n",
              "      <td>0.0</td>\n",
              "      <td>3984.3</td>\n",
              "      <td>4037.1</td>\n",
              "      <td>-52.8</td>\n",
              "      <td>2719.5</td>\n",
              "      <td>1780.5</td>\n",
              "      <td>...</td>\n",
              "      <td>1264.8</td>\n",
              "      <td>2256.5</td>\n",
              "      <td>-991.7</td>\n",
              "      <td>11746.1</td>\n",
              "      <td>14030.3</td>\n",
              "      <td>-2284.2</td>\n",
              "      <td>-3993.0</td>\n",
              "      <td>-559.6</td>\n",
              "      <td>-3433.4</td>\n",
              "      <td>-4309.7</td>\n",
              "    </tr>\n",
              "    <tr>\n",
              "      <th>기계 및 장비</th>\n",
              "      <td>116925.4</td>\n",
              "      <td>125009.9</td>\n",
              "      <td>8084.5</td>\n",
              "      <td>8084.5</td>\n",
              "      <td>0.0</td>\n",
              "      <td>3825.0</td>\n",
              "      <td>4806.2</td>\n",
              "      <td>-981.2</td>\n",
              "      <td>816.4</td>\n",
              "      <td>920.9</td>\n",
              "      <td>...</td>\n",
              "      <td>3008.7</td>\n",
              "      <td>3885.3</td>\n",
              "      <td>-876.6</td>\n",
              "      <td>13588.0</td>\n",
              "      <td>19066.4</td>\n",
              "      <td>-5478.4</td>\n",
              "      <td>-1673.5</td>\n",
              "      <td>3209.8</td>\n",
              "      <td>-4883.4</td>\n",
              "      <td>-7655.0</td>\n",
              "    </tr>\n",
              "    <tr>\n",
              "      <th>운송장비</th>\n",
              "      <td>216735.2</td>\n",
              "      <td>257977.5</td>\n",
              "      <td>41242.3</td>\n",
              "      <td>41242.3</td>\n",
              "      <td>-0.0</td>\n",
              "      <td>14241.5</td>\n",
              "      <td>7383.8</td>\n",
              "      <td>6857.7</td>\n",
              "      <td>8000.4</td>\n",
              "      <td>4586.6</td>\n",
              "      <td>...</td>\n",
              "      <td>6241.1</td>\n",
              "      <td>2797.2</td>\n",
              "      <td>3443.9</td>\n",
              "      <td>16429.9</td>\n",
              "      <td>55101.9</td>\n",
              "      <td>-38672.0</td>\n",
              "      <td>-1278.6</td>\n",
              "      <td>-4189.7</td>\n",
              "      <td>2911.1</td>\n",
              "      <td>11849.5</td>\n",
              "    </tr>\n",
              "    <tr>\n",
              "      <th>기타제조업제품</th>\n",
              "      <td>17604.1</td>\n",
              "      <td>20146.5</td>\n",
              "      <td>2542.4</td>\n",
              "      <td>2542.4</td>\n",
              "      <td>0.0</td>\n",
              "      <td>2901.3</td>\n",
              "      <td>1595.9</td>\n",
              "      <td>1305.4</td>\n",
              "      <td>1690.6</td>\n",
              "      <td>1212.3</td>\n",
              "      <td>...</td>\n",
              "      <td>1210.8</td>\n",
              "      <td>383.6</td>\n",
              "      <td>827.2</td>\n",
              "      <td>977.8</td>\n",
              "      <td>1142.1</td>\n",
              "      <td>-164.4</td>\n",
              "      <td>-1796.5</td>\n",
              "      <td>-842.0</td>\n",
              "      <td>-954.6</td>\n",
              "      <td>459.9</td>\n",
              "    </tr>\n",
              "    <tr>\n",
              "      <th>제조임가공 및 산업용 장비 수리</th>\n",
              "      <td>46081.2</td>\n",
              "      <td>61203.8</td>\n",
              "      <td>15122.7</td>\n",
              "      <td>15122.7</td>\n",
              "      <td>0.0</td>\n",
              "      <td>2254.2</td>\n",
              "      <td>2867.5</td>\n",
              "      <td>-613.3</td>\n",
              "      <td>1824.2</td>\n",
              "      <td>1974.7</td>\n",
              "      <td>...</td>\n",
              "      <td>430.0</td>\n",
              "      <td>892.7</td>\n",
              "      <td>-462.7</td>\n",
              "      <td>6972.0</td>\n",
              "      <td>9428.8</td>\n",
              "      <td>-2456.7</td>\n",
              "      <td>275.8</td>\n",
              "      <td>-1057.9</td>\n",
              "      <td>1333.7</td>\n",
              "      <td>5620.6</td>\n",
              "    </tr>\n",
              "    <tr>\n",
              "      <th>전력, 가스 및 증기</th>\n",
              "      <td>98296.9</td>\n",
              "      <td>92800.0</td>\n",
              "      <td>-5496.9</td>\n",
              "      <td>-5496.9</td>\n",
              "      <td>-0.0</td>\n",
              "      <td>-970.3</td>\n",
              "      <td>8635.5</td>\n",
              "      <td>-9605.7</td>\n",
              "      <td>-2286.2</td>\n",
              "      <td>7444.7</td>\n",
              "      <td>...</td>\n",
              "      <td>1316.0</td>\n",
              "      <td>1190.8</td>\n",
              "      <td>125.2</td>\n",
              "      <td>6794.1</td>\n",
              "      <td>7181.6</td>\n",
              "      <td>-387.5</td>\n",
              "      <td>-1219.6</td>\n",
              "      <td>-669.8</td>\n",
              "      <td>-549.8</td>\n",
              "      <td>-10101.1</td>\n",
              "    </tr>\n",
              "    <tr>\n",
              "      <th>수도, 폐기물처리 및 재활용 서비스</th>\n",
              "      <td>20531.3</td>\n",
              "      <td>19221.6</td>\n",
              "      <td>-1309.8</td>\n",
              "      <td>-1309.7</td>\n",
              "      <td>-0.0</td>\n",
              "      <td>737.8</td>\n",
              "      <td>1690.6</td>\n",
              "      <td>-952.7</td>\n",
              "      <td>633.5</td>\n",
              "      <td>1475.2</td>\n",
              "      <td>...</td>\n",
              "      <td>104.3</td>\n",
              "      <td>215.4</td>\n",
              "      <td>-111.1</td>\n",
              "      <td>1475.3</td>\n",
              "      <td>1426.6</td>\n",
              "      <td>48.7</td>\n",
              "      <td>-170.1</td>\n",
              "      <td>-107.2</td>\n",
              "      <td>-62.9</td>\n",
              "      <td>-3352.8</td>\n",
              "    </tr>\n",
              "    <tr>\n",
              "      <th>건설</th>\n",
              "      <td>217667.9</td>\n",
              "      <td>223617.0</td>\n",
              "      <td>5949.1</td>\n",
              "      <td>5949.1</td>\n",
              "      <td>0.0</td>\n",
              "      <td>7645.3</td>\n",
              "      <td>18979.2</td>\n",
              "      <td>-11333.9</td>\n",
              "      <td>890.5</td>\n",
              "      <td>966.0</td>\n",
              "      <td>...</td>\n",
              "      <td>6754.8</td>\n",
              "      <td>18013.2</td>\n",
              "      <td>-11258.4</td>\n",
              "      <td>135.6</td>\n",
              "      <td>553.9</td>\n",
              "      <td>-418.4</td>\n",
              "      <td>-242.5</td>\n",
              "      <td>-49.4</td>\n",
              "      <td>-193.2</td>\n",
              "      <td>-1589.2</td>\n",
              "    </tr>\n",
              "    <tr>\n",
              "      <th>도소매</th>\n",
              "      <td>186781.7</td>\n",
              "      <td>247647.6</td>\n",
              "      <td>60866.0</td>\n",
              "      <td>60866.0</td>\n",
              "      <td>-0.0</td>\n",
              "      <td>25019.8</td>\n",
              "      <td>19626.6</td>\n",
              "      <td>5393.2</td>\n",
              "      <td>24680.3</td>\n",
              "      <td>16183.2</td>\n",
              "      <td>...</td>\n",
              "      <td>339.4</td>\n",
              "      <td>3443.3</td>\n",
              "      <td>-3103.9</td>\n",
              "      <td>22752.8</td>\n",
              "      <td>15936.5</td>\n",
              "      <td>6816.4</td>\n",
              "      <td>-3575.5</td>\n",
              "      <td>-1644.1</td>\n",
              "      <td>-1931.3</td>\n",
              "      <td>16668.8</td>\n",
              "    </tr>\n",
              "    <tr>\n",
              "      <th>운송서비스</th>\n",
              "      <td>129332.3</td>\n",
              "      <td>141344.5</td>\n",
              "      <td>12012.2</td>\n",
              "      <td>12012.2</td>\n",
              "      <td>-0.0</td>\n",
              "      <td>4394.4</td>\n",
              "      <td>8289.4</td>\n",
              "      <td>-3895.1</td>\n",
              "      <td>3417.7</td>\n",
              "      <td>6769.1</td>\n",
              "      <td>...</td>\n",
              "      <td>976.7</td>\n",
              "      <td>1520.3</td>\n",
              "      <td>-543.6</td>\n",
              "      <td>11524.7</td>\n",
              "      <td>20488.0</td>\n",
              "      <td>-8963.3</td>\n",
              "      <td>-5645.4</td>\n",
              "      <td>-4641.5</td>\n",
              "      <td>-1003.8</td>\n",
              "      <td>1738.5</td>\n",
              "    </tr>\n",
              "    <tr>\n",
              "      <th>음석점및숙박</th>\n",
              "      <td>107393.3</td>\n",
              "      <td>131926.2</td>\n",
              "      <td>24532.9</td>\n",
              "      <td>24532.9</td>\n",
              "      <td>-0.0</td>\n",
              "      <td>16351.0</td>\n",
              "      <td>13153.0</td>\n",
              "      <td>3198.0</td>\n",
              "      <td>15158.7</td>\n",
              "      <td>12391.7</td>\n",
              "      <td>...</td>\n",
              "      <td>1192.3</td>\n",
              "      <td>761.4</td>\n",
              "      <td>430.9</td>\n",
              "      <td>2961.5</td>\n",
              "      <td>5836.9</td>\n",
              "      <td>-2875.4</td>\n",
              "      <td>-1713.6</td>\n",
              "      <td>-1036.4</td>\n",
              "      <td>-677.3</td>\n",
              "      <td>6934.0</td>\n",
              "    </tr>\n",
              "    <tr>\n",
              "      <th>정보통신 및 방송서비스</th>\n",
              "      <td>109572.3</td>\n",
              "      <td>135412.8</td>\n",
              "      <td>25840.5</td>\n",
              "      <td>25840.5</td>\n",
              "      <td>0.0</td>\n",
              "      <td>18163.2</td>\n",
              "      <td>11497.9</td>\n",
              "      <td>6665.3</td>\n",
              "      <td>9415.9</td>\n",
              "      <td>8231.1</td>\n",
              "      <td>...</td>\n",
              "      <td>8747.4</td>\n",
              "      <td>3266.8</td>\n",
              "      <td>5480.5</td>\n",
              "      <td>7554.4</td>\n",
              "      <td>4922.8</td>\n",
              "      <td>2631.6</td>\n",
              "      <td>-44.9</td>\n",
              "      <td>549.0</td>\n",
              "      <td>-593.9</td>\n",
              "      <td>167.7</td>\n",
              "    </tr>\n",
              "    <tr>\n",
              "      <th>금융및보험서비스</th>\n",
              "      <td>130349.0</td>\n",
              "      <td>156925.2</td>\n",
              "      <td>26576.2</td>\n",
              "      <td>26576.2</td>\n",
              "      <td>0.0</td>\n",
              "      <td>22239.2</td>\n",
              "      <td>15001.1</td>\n",
              "      <td>7238.2</td>\n",
              "      <td>20409.2</td>\n",
              "      <td>13633.6</td>\n",
              "      <td>...</td>\n",
              "      <td>1830.1</td>\n",
              "      <td>1367.4</td>\n",
              "      <td>462.6</td>\n",
              "      <td>5165.3</td>\n",
              "      <td>6259.5</td>\n",
              "      <td>-1094.2</td>\n",
              "      <td>-567.6</td>\n",
              "      <td>-344.1</td>\n",
              "      <td>-223.5</td>\n",
              "      <td>-260.7</td>\n",
              "    </tr>\n",
              "    <tr>\n",
              "      <th>부동산서비스</th>\n",
              "      <td>159681.2</td>\n",
              "      <td>191497.5</td>\n",
              "      <td>31816.3</td>\n",
              "      <td>31816.3</td>\n",
              "      <td>-0.0</td>\n",
              "      <td>23961.8</td>\n",
              "      <td>20841.1</td>\n",
              "      <td>3120.6</td>\n",
              "      <td>16368.4</td>\n",
              "      <td>18456.9</td>\n",
              "      <td>...</td>\n",
              "      <td>7593.4</td>\n",
              "      <td>2384.3</td>\n",
              "      <td>5209.1</td>\n",
              "      <td>2606.0</td>\n",
              "      <td>2880.4</td>\n",
              "      <td>-274.4</td>\n",
              "      <td>44.4</td>\n",
              "      <td>122.6</td>\n",
              "      <td>-78.2</td>\n",
              "      <td>5204.2</td>\n",
              "    </tr>\n",
              "    <tr>\n",
              "      <th>전문, 과학 및 기술서비스</th>\n",
              "      <td>147270.9</td>\n",
              "      <td>186524.2</td>\n",
              "      <td>39253.2</td>\n",
              "      <td>39253.2</td>\n",
              "      <td>0.0</td>\n",
              "      <td>28728.5</td>\n",
              "      <td>11135.0</td>\n",
              "      <td>17593.5</td>\n",
              "      <td>5601.1</td>\n",
              "      <td>4707.7</td>\n",
              "      <td>...</td>\n",
              "      <td>23127.4</td>\n",
              "      <td>6427.3</td>\n",
              "      <td>16700.1</td>\n",
              "      <td>16115.7</td>\n",
              "      <td>11750.6</td>\n",
              "      <td>4365.2</td>\n",
              "      <td>-9018.5</td>\n",
              "      <td>-4754.7</td>\n",
              "      <td>-4263.8</td>\n",
              "      <td>3427.5</td>\n",
              "    </tr>\n",
              "    <tr>\n",
              "      <th>사업지원서비스</th>\n",
              "      <td>56165.7</td>\n",
              "      <td>76481.3</td>\n",
              "      <td>20315.6</td>\n",
              "      <td>20315.6</td>\n",
              "      <td>0.0</td>\n",
              "      <td>4162.0</td>\n",
              "      <td>5874.4</td>\n",
              "      <td>-1712.4</td>\n",
              "      <td>2414.7</td>\n",
              "      <td>4549.1</td>\n",
              "      <td>...</td>\n",
              "      <td>1747.2</td>\n",
              "      <td>1325.3</td>\n",
              "      <td>422.0</td>\n",
              "      <td>5762.2</td>\n",
              "      <td>6594.2</td>\n",
              "      <td>-832.0</td>\n",
              "      <td>-1612.9</td>\n",
              "      <td>-110.1</td>\n",
              "      <td>-1502.8</td>\n",
              "      <td>12004.4</td>\n",
              "    </tr>\n",
              "    <tr>\n",
              "      <th>공공행정, 국방 및 사회보장</th>\n",
              "      <td>100424.8</td>\n",
              "      <td>123378.8</td>\n",
              "      <td>22954.0</td>\n",
              "      <td>22954.0</td>\n",
              "      <td>0.0</td>\n",
              "      <td>21450.2</td>\n",
              "      <td>14433.4</td>\n",
              "      <td>7016.8</td>\n",
              "      <td>21411.7</td>\n",
              "      <td>14397.4</td>\n",
              "      <td>...</td>\n",
              "      <td>38.5</td>\n",
              "      <td>36.0</td>\n",
              "      <td>2.5</td>\n",
              "      <td>230.8</td>\n",
              "      <td>235.3</td>\n",
              "      <td>-4.5</td>\n",
              "      <td>106.2</td>\n",
              "      <td>-4.5</td>\n",
              "      <td>110.7</td>\n",
              "      <td>1166.8</td>\n",
              "    </tr>\n",
              "    <tr>\n",
              "      <th>교육서비스</th>\n",
              "      <td>106773.8</td>\n",
              "      <td>116328.6</td>\n",
              "      <td>9554.9</td>\n",
              "      <td>9554.9</td>\n",
              "      <td>0.0</td>\n",
              "      <td>7853.8</td>\n",
              "      <td>15375.8</td>\n",
              "      <td>-7522.0</td>\n",
              "      <td>7805.3</td>\n",
              "      <td>15337.6</td>\n",
              "      <td>...</td>\n",
              "      <td>48.5</td>\n",
              "      <td>38.2</td>\n",
              "      <td>10.3</td>\n",
              "      <td>-139.3</td>\n",
              "      <td>344.3</td>\n",
              "      <td>-483.7</td>\n",
              "      <td>1865.2</td>\n",
              "      <td>1821.4</td>\n",
              "      <td>43.8</td>\n",
              "      <td>-24.8</td>\n",
              "    </tr>\n",
              "    <tr>\n",
              "      <th>보건 및 사회복지서비스</th>\n",
              "      <td>91534.8</td>\n",
              "      <td>119620.1</td>\n",
              "      <td>28085.3</td>\n",
              "      <td>28085.3</td>\n",
              "      <td>0.0</td>\n",
              "      <td>24642.3</td>\n",
              "      <td>13178.5</td>\n",
              "      <td>11463.8</td>\n",
              "      <td>24499.4</td>\n",
              "      <td>13055.0</td>\n",
              "      <td>...</td>\n",
              "      <td>142.9</td>\n",
              "      <td>123.5</td>\n",
              "      <td>19.4</td>\n",
              "      <td>762.4</td>\n",
              "      <td>535.6</td>\n",
              "      <td>226.8</td>\n",
              "      <td>-498.4</td>\n",
              "      <td>-442.6</td>\n",
              "      <td>-55.8</td>\n",
              "      <td>3179.0</td>\n",
              "    </tr>\n",
              "    <tr>\n",
              "      <th>예술, 스포츠 및 여가 관련 서비스</th>\n",
              "      <td>40202.6</td>\n",
              "      <td>40293.8</td>\n",
              "      <td>91.1</td>\n",
              "      <td>91.1</td>\n",
              "      <td>-0.0</td>\n",
              "      <td>5076.4</td>\n",
              "      <td>4523.2</td>\n",
              "      <td>553.2</td>\n",
              "      <td>5035.6</td>\n",
              "      <td>4351.8</td>\n",
              "      <td>...</td>\n",
              "      <td>40.8</td>\n",
              "      <td>171.4</td>\n",
              "      <td>-130.6</td>\n",
              "      <td>-206.8</td>\n",
              "      <td>1029.5</td>\n",
              "      <td>-1236.3</td>\n",
              "      <td>-1420.2</td>\n",
              "      <td>-2173.8</td>\n",
              "      <td>753.7</td>\n",
              "      <td>-3358.3</td>\n",
              "    </tr>\n",
              "    <tr>\n",
              "      <th>기타 서비스</th>\n",
              "      <td>44919.0</td>\n",
              "      <td>54193.3</td>\n",
              "      <td>9274.3</td>\n",
              "      <td>9274.3</td>\n",
              "      <td>0.0</td>\n",
              "      <td>6782.7</td>\n",
              "      <td>5925.8</td>\n",
              "      <td>856.9</td>\n",
              "      <td>6528.5</td>\n",
              "      <td>5703.3</td>\n",
              "      <td>...</td>\n",
              "      <td>254.2</td>\n",
              "      <td>222.5</td>\n",
              "      <td>31.7</td>\n",
              "      <td>1322.6</td>\n",
              "      <td>1243.5</td>\n",
              "      <td>79.2</td>\n",
              "      <td>-352.9</td>\n",
              "      <td>-167.6</td>\n",
              "      <td>-185.4</td>\n",
              "      <td>1521.9</td>\n",
              "    </tr>\n",
              "    <tr>\n",
              "      <th>계</th>\n",
              "      <td>3236841.3</td>\n",
              "      <td>3829737.9</td>\n",
              "      <td>592896.6</td>\n",
              "      <td>592896.6</td>\n",
              "      <td>0.0</td>\n",
              "      <td>275922.1</td>\n",
              "      <td>269640.8</td>\n",
              "      <td>6281.3</td>\n",
              "      <td>209773.3</td>\n",
              "      <td>202617.0</td>\n",
              "      <td>...</td>\n",
              "      <td>66148.8</td>\n",
              "      <td>67023.8</td>\n",
              "      <td>-875.0</td>\n",
              "      <td>327293.2</td>\n",
              "      <td>351153.0</td>\n",
              "      <td>-23859.8</td>\n",
              "      <td>-68723.8</td>\n",
              "      <td>-34752.1</td>\n",
              "      <td>-33971.7</td>\n",
              "      <td>58405.1</td>\n",
              "    </tr>\n",
              "  </tbody>\n",
              "</table>\n",
              "<p>33 rows × 21 columns</p>\n",
              "</div>\n",
              "      <button class=\"colab-df-convert\" onclick=\"convertToInteractive('df-c9b8c213-fd3a-47fb-9fce-81207beed9ac')\"\n",
              "              title=\"Convert this dataframe to an interactive table.\"\n",
              "              style=\"display:none;\">\n",
              "        \n",
              "  <svg xmlns=\"http://www.w3.org/2000/svg\" height=\"24px\"viewBox=\"0 0 24 24\"\n",
              "       width=\"24px\">\n",
              "    <path d=\"M0 0h24v24H0V0z\" fill=\"none\"/>\n",
              "    <path d=\"M18.56 5.44l.94 2.06.94-2.06 2.06-.94-2.06-.94-.94-2.06-.94 2.06-2.06.94zm-11 1L8.5 8.5l.94-2.06 2.06-.94-2.06-.94L8.5 2.5l-.94 2.06-2.06.94zm10 10l.94 2.06.94-2.06 2.06-.94-2.06-.94-.94-2.06-.94 2.06-2.06.94z\"/><path d=\"M17.41 7.96l-1.37-1.37c-.4-.4-.92-.59-1.43-.59-.52 0-1.04.2-1.43.59L10.3 9.45l-7.72 7.72c-.78.78-.78 2.05 0 2.83L4 21.41c.39.39.9.59 1.41.59.51 0 1.02-.2 1.41-.59l7.78-7.78 2.81-2.81c.8-.78.8-2.07 0-2.86zM5.41 20L4 18.59l7.72-7.72 1.47 1.35L5.41 20z\"/>\n",
              "  </svg>\n",
              "      </button>\n",
              "      \n",
              "  <style>\n",
              "    .colab-df-container {\n",
              "      display:flex;\n",
              "      flex-wrap:wrap;\n",
              "      gap: 12px;\n",
              "    }\n",
              "\n",
              "    .colab-df-convert {\n",
              "      background-color: #E8F0FE;\n",
              "      border: none;\n",
              "      border-radius: 50%;\n",
              "      cursor: pointer;\n",
              "      display: none;\n",
              "      fill: #1967D2;\n",
              "      height: 32px;\n",
              "      padding: 0 0 0 0;\n",
              "      width: 32px;\n",
              "    }\n",
              "\n",
              "    .colab-df-convert:hover {\n",
              "      background-color: #E2EBFA;\n",
              "      box-shadow: 0px 1px 2px rgba(60, 64, 67, 0.3), 0px 1px 3px 1px rgba(60, 64, 67, 0.15);\n",
              "      fill: #174EA6;\n",
              "    }\n",
              "\n",
              "    [theme=dark] .colab-df-convert {\n",
              "      background-color: #3B4455;\n",
              "      fill: #D2E3FC;\n",
              "    }\n",
              "\n",
              "    [theme=dark] .colab-df-convert:hover {\n",
              "      background-color: #434B5C;\n",
              "      box-shadow: 0px 1px 3px 1px rgba(0, 0, 0, 0.15);\n",
              "      filter: drop-shadow(0px 1px 2px rgba(0, 0, 0, 0.3));\n",
              "      fill: #FFFFFF;\n",
              "    }\n",
              "  </style>\n",
              "\n",
              "      <script>\n",
              "        const buttonEl =\n",
              "          document.querySelector('#df-c9b8c213-fd3a-47fb-9fce-81207beed9ac button.colab-df-convert');\n",
              "        buttonEl.style.display =\n",
              "          google.colab.kernel.accessAllowed ? 'block' : 'none';\n",
              "\n",
              "        async function convertToInteractive(key) {\n",
              "          const element = document.querySelector('#df-c9b8c213-fd3a-47fb-9fce-81207beed9ac');\n",
              "          const dataTable =\n",
              "            await google.colab.kernel.invokeFunction('convertToInteractive',\n",
              "                                                     [key], {});\n",
              "          if (!dataTable) return;\n",
              "\n",
              "          const docLinkHtml = 'Like what you see? Visit the ' +\n",
              "            '<a target=\"_blank\" href=https://colab.research.google.com/notebooks/data_table.ipynb>data table notebook</a>'\n",
              "            + ' to learn more about interactive tables.';\n",
              "          element.innerHTML = '';\n",
              "          dataTable['output_type'] = 'display_data';\n",
              "          await google.colab.output.renderOutput(dataTable, element);\n",
              "          const docLink = document.createElement('div');\n",
              "          docLink.innerHTML = docLinkHtml;\n",
              "          element.appendChild(docLink);\n",
              "        }\n",
              "      </script>\n",
              "    </div>\n",
              "  </div>\n",
              "  "
            ]
          },
          "metadata": {},
          "execution_count": 339
        }
      ]
    },
    {
      "cell_type": "code",
      "source": [
        "PGD1015_ff.to_csv('산출액변동요인.csv', encoding=\"utf-8-sig\")"
      ],
      "metadata": {
        "id": "h7CkNaE15PIg"
      },
      "execution_count": 340,
      "outputs": []
    },
    {
      "cell_type": "code",
      "source": [
        "Ctbr = (PGD1015[:,5:]/(np.tile(PGD1015[:,3].reshape([33,1]), reps=[1,16])))*100\n",
        "Ctbr.shape"
      ],
      "metadata": {
        "id": "-ynu6Yk81gN1",
        "outputId": "1c6960f1-5884-411a-bea3-aba19d82293f",
        "colab": {
          "base_uri": "https://localhost:8080/"
        }
      },
      "execution_count": 341,
      "outputs": [
        {
          "output_type": "execute_result",
          "data": {
            "text/plain": [
              "(33, 16)"
            ]
          },
          "metadata": {},
          "execution_count": 341
        }
      ]
    },
    {
      "cell_type": "code",
      "source": [
        "sm_gap = PGD1015[:,3].reshape([33,1])\n",
        "sm_gap.shape"
      ],
      "metadata": {
        "id": "Ib0VzKGcFjOo",
        "outputId": "5e1c6929-72df-435d-c834-33dd9a40731f",
        "colab": {
          "base_uri": "https://localhost:8080/"
        }
      },
      "execution_count": 347,
      "outputs": [
        {
          "output_type": "execute_result",
          "data": {
            "text/plain": [
              "(33, 1)"
            ]
          },
          "metadata": {},
          "execution_count": 347
        }
      ]
    },
    {
      "cell_type": "code",
      "source": [
        "sm_gap1 = np.tile(sm_gap, reps=[1,16])\n",
        "sm_gap1.shape"
      ],
      "metadata": {
        "id": "Ojzes5k4GZl_",
        "outputId": "4980c7dc-abd6-4c9e-b2b7-063c0b1e0674",
        "colab": {
          "base_uri": "https://localhost:8080/"
        }
      },
      "execution_count": 349,
      "outputs": [
        {
          "output_type": "execute_result",
          "data": {
            "text/plain": [
              "(33, 16)"
            ]
          },
          "metadata": {},
          "execution_count": 349
        }
      ]
    },
    {
      "cell_type": "code",
      "source": [
        "Ctbr = PGD1015[:,5:]\n",
        "test = (Ctbr/sm_gap1)*100\n",
        "test"
      ],
      "metadata": {
        "id": "-gooAQnRFjRg",
        "outputId": "630547aa-74e0-4d80-ece8-8f0f3db553c2",
        "colab": {
          "base_uri": "https://localhost:8080/"
        }
      },
      "execution_count": 352,
      "outputs": [
        {
          "output_type": "execute_result",
          "data": {
            "text/plain": [
              "array([[ 7.54122252e+01,  3.12675073e+02, -2.37262847e+02,\n",
              "         1.43907227e+02,  2.89634866e+02, -1.45727639e+02,\n",
              "        -6.84950018e+01,  2.30402065e+01, -9.15352082e+01,\n",
              "         4.56532449e+01,  1.00735256e+02, -5.50820114e+01,\n",
              "        -1.33089836e+02, -8.36867188e+01, -4.94031172e+01,\n",
              "         1.12024366e+02],\n",
              "       [ 1.79432825e+01,  7.75070643e+01, -5.95637817e+01,\n",
              "         1.82297294e+01,  2.11007999e+01, -2.87107047e+00,\n",
              "        -2.86446890e-01,  5.64062644e+01, -5.66927113e+01,\n",
              "         1.10932348e+02,  1.22394440e+02, -1.14620913e+01,\n",
              "         3.02143308e+01, -5.95532506e+00,  3.61696558e+01,\n",
              "        -5.90899618e+01],\n",
              "       [ 3.01175793e+00,  9.19024466e+01, -8.88906886e+01,\n",
              "         2.38073663e+01,  8.69682726e+01, -6.31609063e+01,\n",
              "        -2.07956083e+01,  4.93417400e+00, -2.57297823e+01,\n",
              "         1.96210400e+01,  3.44128824e+01, -1.47918425e+01,\n",
              "        -2.36835279e+01, -2.58827943e+01,  2.19926641e+00,\n",
              "         1.01050730e+02],\n",
              "       [ 2.75402243e+00,  6.44330557e+01, -6.16790333e+01,\n",
              "         2.33567022e+01,  5.74357373e+01, -3.40790351e+01,\n",
              "        -2.06026798e+01,  6.99731842e+00, -2.75999982e+01,\n",
              "         2.54091675e+02,  1.57734253e+02,  9.63574222e+01,\n",
              "        -1.82744623e+02, -9.64943017e+01, -8.62503210e+01,\n",
              "         2.58989257e+01],\n",
              "       [ 1.92349064e+02,  1.52058135e+02,  4.02909282e+01,\n",
              "         1.22710732e+02,  1.07489477e+02,  1.52212551e+01,\n",
              "         6.96383315e+01,  4.45686584e+01,  2.50696731e+01,\n",
              "         1.35229287e+02,  1.96583748e+02, -6.13544609e+01,\n",
              "        -7.82045615e+01, -1.81633613e+01, -6.00412002e+01,\n",
              "        -1.49373789e+02],\n",
              "       [ 8.42848856e+00,  2.61163866e+01, -1.76878981e+01,\n",
              "         1.21056396e+01,  2.16489209e+01, -9.54328136e+00,\n",
              "        -3.67715100e+00,  4.46746569e+00, -8.14461669e+00,\n",
              "         7.53970641e+01,  7.21101225e+01,  3.28694155e+00,\n",
              "         6.57517834e+00, -3.97059202e+00,  1.05457704e+01,\n",
              "         9.59926901e+00],\n",
              "       [ 2.42321929e+01,  2.44096732e+01, -1.77480257e-01,\n",
              "         2.03388254e+01,  1.77121690e+01,  2.62665643e+00,\n",
              "         3.89336755e+00,  6.69750424e+00, -2.80413669e+00,\n",
              "         1.05645810e+02,  1.02444781e+02,  3.20102932e+00,\n",
              "        -2.48765091e+01, -1.79949096e+01, -6.88159958e+00,\n",
              "        -5.00149424e+00],\n",
              "       [ 2.96226705e+01,  5.40214990e+01, -2.43988285e+01,\n",
              "         1.14876794e+01,  1.02044767e+01,  1.28320277e+00,\n",
              "         1.81349911e+01,  4.38170224e+01, -2.56820313e+01,\n",
              "         7.40178156e+01,  6.14083899e+01,  1.26094257e+01,\n",
              "        -1.86850766e+01, -1.17291871e+01, -6.95588955e+00,\n",
              "         1.50445905e+01],\n",
              "       [-2.34539433e+01,  4.14655913e+01, -6.49195346e+01,\n",
              "         1.43689457e+01,  1.26574614e+01,  1.71148424e+00,\n",
              "        -3.78228890e+01,  2.88081299e+01, -6.66310189e+01,\n",
              "         1.65843285e+02,  2.56550577e+02, -9.07072917e+01,\n",
              "         2.53722001e+01,  5.44410158e+00,  1.99280985e+01,\n",
              "        -6.77615417e+01],\n",
              "       [ 2.20169067e+01,  2.60245532e+01, -4.00764653e+00,\n",
              "         1.06076808e+01,  9.75884996e+00,  8.48830880e-01,\n",
              "         1.14092258e+01,  1.62657032e+01, -4.85647741e+00,\n",
              "         4.91110501e+01,  6.96414127e+01, -2.05303626e+01,\n",
              "        -5.73543031e-01, -4.06823874e-01, -1.66719157e-01,\n",
              "         2.94455863e+01],\n",
              "       [ 1.33492278e+01,  6.22495058e+00,  7.12427726e+00,\n",
              "         8.35779098e+00,  3.82075494e+00,  4.53703604e+00,\n",
              "         4.99143686e+00,  2.40419564e+00,  2.58724122e+00,\n",
              "         9.45354811e+01,  5.36554628e+01,  4.08800183e+01,\n",
              "        -1.05596222e+01,  3.31646874e+00, -1.38760909e+01,\n",
              "         2.67491323e+00],\n",
              "       [ 5.36416127e+01,  5.43518238e+01, -7.10211075e-01,\n",
              "         3.66131644e+01,  2.39718222e+01,  1.26413422e+01,\n",
              "         1.70284483e+01,  3.03800016e+01, -1.33515532e+01,\n",
              "         1.58139915e+02,  1.88892073e+02, -3.07521576e+01,\n",
              "        -5.37585412e+01, -7.53377975e+00, -4.62247615e+01,\n",
              "        -5.80229869e+01],\n",
              "       [ 4.73132077e+01,  5.94501244e+01, -1.21369167e+01,\n",
              "         1.00978237e+01,  1.13914320e+01, -1.29360832e+00,\n",
              "         3.72153840e+01,  4.80586924e+01, -1.08433084e+01,\n",
              "         1.68074207e+02,  2.35838289e+02, -6.77640825e+01,\n",
              "        -2.07001809e+01,  3.97036873e+01, -6.04038682e+01,\n",
              "        -9.46872337e+01],\n",
              "       [ 3.45313099e+01,  1.79035202e+01,  1.66277897e+01,\n",
              "         1.93985806e+01,  1.11211509e+01,  8.27742966e+00,\n",
              "         1.51327293e+01,  6.78236926e+00,  8.35036003e+00,\n",
              "         3.98374829e+01,  1.33605393e+02, -9.37679104e+01,\n",
              "        -3.10018069e+00, -1.01587747e+01,  7.05859406e+00,\n",
              "         2.87313879e+01],\n",
              "       [ 1.14116618e+02,  6.27725973e+01,  5.13440207e+01,\n",
              "         6.64936004e+01,  4.76839789e+01,  1.88096214e+01,\n",
              "         4.76230177e+01,  1.50886183e+01,  3.25343993e+01,\n",
              "         3.84577547e+01,  4.49230022e+01, -6.46524749e+00,\n",
              "        -7.06623125e+01, -3.31163541e+01, -3.75459585e+01,\n",
              "         1.80879398e+01],\n",
              "       [ 1.49061544e+01,  1.89614097e+01, -4.05525530e+00,\n",
              "         1.20628035e+01,  1.30580989e+01, -9.95295450e-01,\n",
              "         2.84335097e+00,  5.90331082e+00, -3.05995986e+00,\n",
              "         4.61032346e+01,  6.23486408e+01, -1.62454062e+01,\n",
              "         1.82369879e+00, -6.99574108e+00,  8.81943987e+00,\n",
              "         3.71669122e+01],\n",
              "       [ 1.76510632e+01, -1.57098176e+02,  1.74749240e+02,\n",
              "         4.15913243e+01, -1.35435365e+02,  1.77026689e+02,\n",
              "        -2.39402611e+01, -2.16628117e+01, -2.27744939e+00,\n",
              "        -1.23599215e+02, -1.30649482e+02,  7.05026707e+00,\n",
              "         2.21879478e+01,  1.21859745e+01,  1.00019733e+01,\n",
              "         1.83760204e+02],\n",
              "       [-5.63346491e+01, -1.29076208e+02,  7.27415587e+01,\n",
              "        -4.83685971e+01, -1.12628879e+02,  6.42602817e+01,\n",
              "        -7.96605203e+00, -1.64473290e+01,  8.48127698e+00,\n",
              "        -1.12642326e+02, -1.08924047e+02, -3.71827855e+00,\n",
              "         1.29909972e+01,  8.18584784e+00,  4.80514935e+00,\n",
              "         2.55985978e+02],\n",
              "       [ 1.28512207e+02,  3.19027101e+02, -1.90514895e+02,\n",
              "         1.49690757e+01,  1.62375484e+01, -1.26847268e+00,\n",
              "         1.13543131e+02,  3.02789553e+02, -1.89246422e+02,\n",
              "         2.27860806e+00,  9.31123959e+00, -7.03263153e+00,\n",
              "        -4.07692705e+00, -8.30156173e-01, -3.24677087e+00,\n",
              "        -2.67138878e+01],\n",
              "       [ 4.11063567e+01,  3.22455848e+01,  8.86077196e+00,\n",
              "         4.05486761e+01,  2.65883303e+01,  1.39603458e+01,\n",
              "         5.57680574e-01,  5.65725445e+00, -5.09957388e+00,\n",
              "         3.73818456e+01,  2.61828697e+01,  1.11989759e+01,\n",
              "        -5.87434595e+00, -2.70122881e+00, -3.17311714e+00,\n",
              "         2.73861437e+01],\n",
              "       [ 3.65826387e+01,  6.90084998e+01, -3.24258611e+01,\n",
              "         2.84516818e+01,  5.63518581e+01, -2.79001762e+01,\n",
              "         8.13095685e+00,  1.26566417e+01, -4.52568490e+00,\n",
              "         9.59417700e+01,  1.70560197e+02, -7.46184272e+01,\n",
              "        -4.69971019e+01, -3.86403599e+01, -8.35674200e+00,\n",
              "         1.44726933e+01],\n",
              "       [ 6.66495273e+01,  5.36139933e+01,  1.30355340e+01,\n",
              "         6.17895093e+01,  5.05105836e+01,  1.12789257e+01,\n",
              "         4.86001795e+00,  3.10340962e+00,  1.75660833e+00,\n",
              "         1.20716003e+01,  2.37920487e+01, -1.17204483e+01,\n",
              "        -6.98508405e+00, -4.22448849e+00, -2.76059556e+00,\n",
              "         2.82639564e+01],\n",
              "       [ 7.02896985e+01,  4.44957060e+01,  2.57939925e+01,\n",
              "         3.64383327e+01,  3.18534288e+01,  4.58490390e+00,\n",
              "         3.38513658e+01,  1.26422772e+01,  2.12090886e+01,\n",
              "         2.92348090e+01,  1.90507650e+01,  1.01840440e+01,\n",
              "        -1.73632426e-01,  2.12456702e+00, -2.29819944e+00,\n",
              "         6.49124951e-01],\n",
              "       [ 8.36811404e+01,  5.64455223e+01,  2.72356181e+01,\n",
              "         7.67949450e+01,  5.13001630e+01,  2.54947820e+01,\n",
              "         6.88619548e+00,  5.14535930e+00,  1.74083617e+00,\n",
              "         1.94356727e+01,  2.35528972e+01, -4.11722453e+00,\n",
              "        -2.13580240e+00, -1.29464335e+00, -8.41159049e-01,\n",
              "        -9.81010704e-01],\n",
              "       [ 7.53128034e+01,  6.55045294e+01,  9.80827395e+00,\n",
              "         5.14465237e+01,  5.80106391e+01, -6.56411543e+00,\n",
              "         2.38662797e+01,  7.49389027e+00,  1.63723894e+01,\n",
              "         8.19077961e+00,  9.05325264e+00, -8.62473033e-01,\n",
              "         1.39445943e-01,  3.85241605e-01, -2.45795662e-01,\n",
              "         1.63569711e+01],\n",
              "       [ 7.31875278e+01,  2.83671116e+01,  4.48204162e+01,\n",
              "         1.42690478e+01,  1.19932015e+01,  2.27584631e+00,\n",
              "         5.89184800e+01,  1.63739101e+01,  4.25445699e+01,\n",
              "         4.10557719e+01,  2.99352584e+01,  1.11205135e+01,\n",
              "        -2.29751743e+01, -1.21128254e+01, -1.08623489e+01,\n",
              "         8.73187454e+00],\n",
              "       [ 2.04866227e+01,  2.89157381e+01, -8.42911541e+00,\n",
              "         1.18861356e+01,  2.23923119e+01, -1.05061763e+01,\n",
              "         8.60048710e+00,  6.52342619e+00,  2.07706091e+00,\n",
              "         2.83633076e+01,  3.24587707e+01, -4.09546312e+00,\n",
              "        -7.93932076e+00, -5.41914944e-01, -7.39740582e+00,\n",
              "         5.90893905e+01],\n",
              "       [ 9.34486955e+01,  6.28796685e+01,  3.05690270e+01,\n",
              "         9.32809559e+01,  6.27228023e+01,  3.05581536e+01,\n",
              "         1.67739572e-01,  1.56866199e-01,  1.08733729e-02,\n",
              "         1.00545105e+00,  1.02516232e+00, -1.97112666e-02,\n",
              "         4.62598778e-01, -1.96993530e-02,  4.82298131e-01,\n",
              "         5.08325469e+00],\n",
              "       [ 8.21968854e+01,  1.60921143e+02, -7.87242572e+01,\n",
              "         8.16897904e+01,  1.60521549e+02, -7.88317589e+01,\n",
              "         5.07095043e-01,  3.99593301e-01,  1.07501742e-01,\n",
              "        -1.45840077e+00,  3.60382886e+00, -5.06222963e+00,\n",
              "         1.95208148e+01,  1.90626655e+01,  4.58149305e-01,\n",
              "        -2.59299412e-01],\n",
              "       [ 8.77407950e+01,  4.69231375e+01,  4.08176575e+01,\n",
              "         8.72319750e+01,  4.64834631e+01,  4.07485120e+01,\n",
              "         5.08819915e-01,  4.39674383e-01,  6.91455315e-02,\n",
              "         2.71471081e+00,  1.90707668e+00,  8.07634132e-01,\n",
              "        -1.77445425e+00, -1.57589309e+00, -1.98561167e-01,\n",
              "         1.13189485e+01],\n",
              "       [ 5.57014597e+03,  4.96313534e+03,  6.07010629e+02,\n",
              "         5.52538816e+03,  4.77503925e+03,  7.50348910e+02,\n",
              "         4.47578005e+01,  1.88096082e+02, -1.43338281e+02,\n",
              "        -2.26899786e+02,  1.12967567e+03, -1.35657546e+03,\n",
              "        -1.55828840e+03, -2.38526451e+03,  8.26976109e+02,\n",
              "        -3.68495778e+03],\n",
              "       [ 7.31345889e+01,  6.38951812e+01,  9.23940767e+00,\n",
              "         7.03931938e+01,  6.14960533e+01,  8.89714056e+00,\n",
              "         2.74139510e+00,  2.39912799e+00,  3.42267106e-01,\n",
              "         1.42613288e+01,  1.34078479e+01,  8.53480891e-01,\n",
              "        -3.80553479e+00, -1.80685911e+00, -1.99867568e+00,\n",
              "         1.64096171e+01],\n",
              "       [ 4.65379834e+01,  4.54785555e+01,  1.05942795e+00,\n",
              "         3.53810902e+01,  3.41740880e+01,  1.20700228e+00,\n",
              "         1.11568932e+01,  1.13044675e+01, -1.47574328e-01,\n",
              "         5.52024042e+01,  5.92266850e+01, -4.02428080e+00,\n",
              "        -1.15911953e+01, -5.86141795e+00, -5.72977734e+00,\n",
              "         9.85080766e+00]])"
            ]
          },
          "metadata": {},
          "execution_count": 352
        }
      ]
    },
    {
      "cell_type": "code",
      "source": [
        "Ctbr"
      ],
      "metadata": {
        "id": "ZiMJL68VDYdk",
        "outputId": "1bf50d0a-c0f5-4612-d83a-677c4f2fd4df",
        "colab": {
          "base_uri": "https://localhost:8080/"
        }
      },
      "execution_count": 302,
      "outputs": [
        {
          "output_type": "execute_result",
          "data": {
            "text/plain": [
              "array([[ 7.54122252e+01,  3.12675073e+02, -2.37262847e+02,\n",
              "         1.43907227e+02,  2.89634866e+02, -1.45727639e+02,\n",
              "        -6.84950018e+01,  2.30402065e+01, -9.15352082e+01,\n",
              "         4.56532449e+01,  1.00735256e+02, -5.50820114e+01,\n",
              "        -1.33089836e+02, -8.36867188e+01, -4.94031172e+01,\n",
              "         1.12024366e+02],\n",
              "       [ 1.79432825e+01,  7.75070643e+01, -5.95637817e+01,\n",
              "         1.82297294e+01,  2.11007999e+01, -2.87107047e+00,\n",
              "        -2.86446890e-01,  5.64062644e+01, -5.66927113e+01,\n",
              "         1.10932348e+02,  1.22394440e+02, -1.14620913e+01,\n",
              "         3.02143308e+01, -5.95532506e+00,  3.61696558e+01,\n",
              "        -5.90899618e+01],\n",
              "       [ 3.01175793e+00,  9.19024466e+01, -8.88906886e+01,\n",
              "         2.38073663e+01,  8.69682726e+01, -6.31609063e+01,\n",
              "        -2.07956083e+01,  4.93417400e+00, -2.57297823e+01,\n",
              "         1.96210400e+01,  3.44128824e+01, -1.47918425e+01,\n",
              "        -2.36835279e+01, -2.58827943e+01,  2.19926641e+00,\n",
              "         1.01050730e+02],\n",
              "       [ 2.75402243e+00,  6.44330557e+01, -6.16790333e+01,\n",
              "         2.33567022e+01,  5.74357373e+01, -3.40790351e+01,\n",
              "        -2.06026798e+01,  6.99731842e+00, -2.75999982e+01,\n",
              "         2.54091675e+02,  1.57734253e+02,  9.63574222e+01,\n",
              "        -1.82744623e+02, -9.64943017e+01, -8.62503210e+01,\n",
              "         2.58989257e+01],\n",
              "       [ 1.92349064e+02,  1.52058135e+02,  4.02909282e+01,\n",
              "         1.22710732e+02,  1.07489477e+02,  1.52212551e+01,\n",
              "         6.96383315e+01,  4.45686584e+01,  2.50696731e+01,\n",
              "         1.35229287e+02,  1.96583748e+02, -6.13544609e+01,\n",
              "        -7.82045615e+01, -1.81633613e+01, -6.00412002e+01,\n",
              "        -1.49373789e+02],\n",
              "       [ 8.42848856e+00,  2.61163866e+01, -1.76878981e+01,\n",
              "         1.21056396e+01,  2.16489209e+01, -9.54328136e+00,\n",
              "        -3.67715100e+00,  4.46746569e+00, -8.14461669e+00,\n",
              "         7.53970641e+01,  7.21101225e+01,  3.28694155e+00,\n",
              "         6.57517834e+00, -3.97059202e+00,  1.05457704e+01,\n",
              "         9.59926901e+00],\n",
              "       [ 2.42321929e+01,  2.44096732e+01, -1.77480257e-01,\n",
              "         2.03388254e+01,  1.77121690e+01,  2.62665643e+00,\n",
              "         3.89336755e+00,  6.69750424e+00, -2.80413669e+00,\n",
              "         1.05645810e+02,  1.02444781e+02,  3.20102932e+00,\n",
              "        -2.48765091e+01, -1.79949096e+01, -6.88159958e+00,\n",
              "        -5.00149424e+00],\n",
              "       [ 2.96226705e+01,  5.40214990e+01, -2.43988285e+01,\n",
              "         1.14876794e+01,  1.02044767e+01,  1.28320277e+00,\n",
              "         1.81349911e+01,  4.38170224e+01, -2.56820313e+01,\n",
              "         7.40178156e+01,  6.14083899e+01,  1.26094257e+01,\n",
              "        -1.86850766e+01, -1.17291871e+01, -6.95588955e+00,\n",
              "         1.50445905e+01],\n",
              "       [-2.34539433e+01,  4.14655913e+01, -6.49195346e+01,\n",
              "         1.43689457e+01,  1.26574614e+01,  1.71148424e+00,\n",
              "        -3.78228890e+01,  2.88081299e+01, -6.66310189e+01,\n",
              "         1.65843285e+02,  2.56550577e+02, -9.07072917e+01,\n",
              "         2.53722001e+01,  5.44410158e+00,  1.99280985e+01,\n",
              "        -6.77615417e+01],\n",
              "       [ 2.20169067e+01,  2.60245532e+01, -4.00764653e+00,\n",
              "         1.06076808e+01,  9.75884996e+00,  8.48830880e-01,\n",
              "         1.14092258e+01,  1.62657032e+01, -4.85647741e+00,\n",
              "         4.91110501e+01,  6.96414127e+01, -2.05303626e+01,\n",
              "        -5.73543031e-01, -4.06823874e-01, -1.66719157e-01,\n",
              "         2.94455863e+01],\n",
              "       [ 1.33492278e+01,  6.22495058e+00,  7.12427726e+00,\n",
              "         8.35779098e+00,  3.82075494e+00,  4.53703604e+00,\n",
              "         4.99143686e+00,  2.40419564e+00,  2.58724122e+00,\n",
              "         9.45354811e+01,  5.36554628e+01,  4.08800183e+01,\n",
              "        -1.05596222e+01,  3.31646874e+00, -1.38760909e+01,\n",
              "         2.67491323e+00],\n",
              "       [ 5.36416127e+01,  5.43518238e+01, -7.10211075e-01,\n",
              "         3.66131644e+01,  2.39718222e+01,  1.26413422e+01,\n",
              "         1.70284483e+01,  3.03800016e+01, -1.33515532e+01,\n",
              "         1.58139915e+02,  1.88892073e+02, -3.07521576e+01,\n",
              "        -5.37585412e+01, -7.53377975e+00, -4.62247615e+01,\n",
              "        -5.80229869e+01],\n",
              "       [ 4.73132077e+01,  5.94501244e+01, -1.21369167e+01,\n",
              "         1.00978237e+01,  1.13914320e+01, -1.29360832e+00,\n",
              "         3.72153840e+01,  4.80586924e+01, -1.08433084e+01,\n",
              "         1.68074207e+02,  2.35838289e+02, -6.77640825e+01,\n",
              "        -2.07001809e+01,  3.97036873e+01, -6.04038682e+01,\n",
              "        -9.46872337e+01],\n",
              "       [ 3.45313099e+01,  1.79035202e+01,  1.66277897e+01,\n",
              "         1.93985806e+01,  1.11211509e+01,  8.27742966e+00,\n",
              "         1.51327293e+01,  6.78236926e+00,  8.35036003e+00,\n",
              "         3.98374829e+01,  1.33605393e+02, -9.37679104e+01,\n",
              "        -3.10018069e+00, -1.01587747e+01,  7.05859406e+00,\n",
              "         2.87313879e+01],\n",
              "       [ 1.14116618e+02,  6.27725973e+01,  5.13440207e+01,\n",
              "         6.64936004e+01,  4.76839789e+01,  1.88096214e+01,\n",
              "         4.76230177e+01,  1.50886183e+01,  3.25343993e+01,\n",
              "         3.84577547e+01,  4.49230022e+01, -6.46524749e+00,\n",
              "        -7.06623125e+01, -3.31163541e+01, -3.75459585e+01,\n",
              "         1.80879398e+01],\n",
              "       [ 1.49061544e+01,  1.89614097e+01, -4.05525530e+00,\n",
              "         1.20628035e+01,  1.30580989e+01, -9.95295450e-01,\n",
              "         2.84335097e+00,  5.90331082e+00, -3.05995986e+00,\n",
              "         4.61032346e+01,  6.23486408e+01, -1.62454062e+01,\n",
              "         1.82369879e+00, -6.99574108e+00,  8.81943987e+00,\n",
              "         3.71669122e+01],\n",
              "       [ 1.76510632e+01, -1.57098176e+02,  1.74749240e+02,\n",
              "         4.15913243e+01, -1.35435365e+02,  1.77026689e+02,\n",
              "        -2.39402611e+01, -2.16628117e+01, -2.27744939e+00,\n",
              "        -1.23599215e+02, -1.30649482e+02,  7.05026707e+00,\n",
              "         2.21879478e+01,  1.21859745e+01,  1.00019733e+01,\n",
              "         1.83760204e+02],\n",
              "       [-5.63346491e+01, -1.29076208e+02,  7.27415587e+01,\n",
              "        -4.83685971e+01, -1.12628879e+02,  6.42602817e+01,\n",
              "        -7.96605203e+00, -1.64473290e+01,  8.48127698e+00,\n",
              "        -1.12642326e+02, -1.08924047e+02, -3.71827855e+00,\n",
              "         1.29909972e+01,  8.18584784e+00,  4.80514935e+00,\n",
              "         2.55985978e+02],\n",
              "       [ 1.28512207e+02,  3.19027101e+02, -1.90514895e+02,\n",
              "         1.49690757e+01,  1.62375484e+01, -1.26847268e+00,\n",
              "         1.13543131e+02,  3.02789553e+02, -1.89246422e+02,\n",
              "         2.27860806e+00,  9.31123959e+00, -7.03263153e+00,\n",
              "        -4.07692705e+00, -8.30156173e-01, -3.24677087e+00,\n",
              "        -2.67138878e+01],\n",
              "       [ 4.11063567e+01,  3.22455848e+01,  8.86077196e+00,\n",
              "         4.05486761e+01,  2.65883303e+01,  1.39603458e+01,\n",
              "         5.57680574e-01,  5.65725445e+00, -5.09957388e+00,\n",
              "         3.73818456e+01,  2.61828697e+01,  1.11989759e+01,\n",
              "        -5.87434595e+00, -2.70122881e+00, -3.17311714e+00,\n",
              "         2.73861437e+01],\n",
              "       [ 3.65826387e+01,  6.90084998e+01, -3.24258611e+01,\n",
              "         2.84516818e+01,  5.63518581e+01, -2.79001762e+01,\n",
              "         8.13095685e+00,  1.26566417e+01, -4.52568490e+00,\n",
              "         9.59417700e+01,  1.70560197e+02, -7.46184272e+01,\n",
              "        -4.69971019e+01, -3.86403599e+01, -8.35674200e+00,\n",
              "         1.44726933e+01],\n",
              "       [ 6.66495273e+01,  5.36139933e+01,  1.30355340e+01,\n",
              "         6.17895093e+01,  5.05105836e+01,  1.12789257e+01,\n",
              "         4.86001795e+00,  3.10340962e+00,  1.75660833e+00,\n",
              "         1.20716003e+01,  2.37920487e+01, -1.17204483e+01,\n",
              "        -6.98508405e+00, -4.22448849e+00, -2.76059556e+00,\n",
              "         2.82639564e+01],\n",
              "       [ 7.02896985e+01,  4.44957060e+01,  2.57939925e+01,\n",
              "         3.64383327e+01,  3.18534288e+01,  4.58490390e+00,\n",
              "         3.38513658e+01,  1.26422772e+01,  2.12090886e+01,\n",
              "         2.92348090e+01,  1.90507650e+01,  1.01840440e+01,\n",
              "        -1.73632426e-01,  2.12456702e+00, -2.29819944e+00,\n",
              "         6.49124951e-01],\n",
              "       [ 8.36811404e+01,  5.64455223e+01,  2.72356181e+01,\n",
              "         7.67949450e+01,  5.13001630e+01,  2.54947820e+01,\n",
              "         6.88619548e+00,  5.14535930e+00,  1.74083617e+00,\n",
              "         1.94356727e+01,  2.35528972e+01, -4.11722453e+00,\n",
              "        -2.13580240e+00, -1.29464335e+00, -8.41159049e-01,\n",
              "        -9.81010704e-01],\n",
              "       [ 7.53128034e+01,  6.55045294e+01,  9.80827395e+00,\n",
              "         5.14465237e+01,  5.80106391e+01, -6.56411543e+00,\n",
              "         2.38662797e+01,  7.49389027e+00,  1.63723894e+01,\n",
              "         8.19077961e+00,  9.05325264e+00, -8.62473033e-01,\n",
              "         1.39445943e-01,  3.85241605e-01, -2.45795662e-01,\n",
              "         1.63569711e+01],\n",
              "       [ 7.31875278e+01,  2.83671116e+01,  4.48204162e+01,\n",
              "         1.42690478e+01,  1.19932015e+01,  2.27584631e+00,\n",
              "         5.89184800e+01,  1.63739101e+01,  4.25445699e+01,\n",
              "         4.10557719e+01,  2.99352584e+01,  1.11205135e+01,\n",
              "        -2.29751743e+01, -1.21128254e+01, -1.08623489e+01,\n",
              "         8.73187454e+00],\n",
              "       [ 2.04866227e+01,  2.89157381e+01, -8.42911541e+00,\n",
              "         1.18861356e+01,  2.23923119e+01, -1.05061763e+01,\n",
              "         8.60048710e+00,  6.52342619e+00,  2.07706091e+00,\n",
              "         2.83633076e+01,  3.24587707e+01, -4.09546312e+00,\n",
              "        -7.93932076e+00, -5.41914944e-01, -7.39740582e+00,\n",
              "         5.90893905e+01],\n",
              "       [ 9.34486955e+01,  6.28796685e+01,  3.05690270e+01,\n",
              "         9.32809559e+01,  6.27228023e+01,  3.05581536e+01,\n",
              "         1.67739572e-01,  1.56866199e-01,  1.08733729e-02,\n",
              "         1.00545105e+00,  1.02516232e+00, -1.97112666e-02,\n",
              "         4.62598778e-01, -1.96993530e-02,  4.82298131e-01,\n",
              "         5.08325469e+00],\n",
              "       [ 8.21968854e+01,  1.60921143e+02, -7.87242572e+01,\n",
              "         8.16897904e+01,  1.60521549e+02, -7.88317589e+01,\n",
              "         5.07095043e-01,  3.99593301e-01,  1.07501742e-01,\n",
              "        -1.45840077e+00,  3.60382886e+00, -5.06222963e+00,\n",
              "         1.95208148e+01,  1.90626655e+01,  4.58149305e-01,\n",
              "        -2.59299412e-01],\n",
              "       [ 8.77407950e+01,  4.69231375e+01,  4.08176575e+01,\n",
              "         8.72319750e+01,  4.64834631e+01,  4.07485120e+01,\n",
              "         5.08819915e-01,  4.39674383e-01,  6.91455315e-02,\n",
              "         2.71471081e+00,  1.90707668e+00,  8.07634132e-01,\n",
              "        -1.77445425e+00, -1.57589309e+00, -1.98561167e-01,\n",
              "         1.13189485e+01],\n",
              "       [ 5.57014597e+03,  4.96313534e+03,  6.07010629e+02,\n",
              "         5.52538816e+03,  4.77503925e+03,  7.50348910e+02,\n",
              "         4.47578005e+01,  1.88096082e+02, -1.43338281e+02,\n",
              "        -2.26899786e+02,  1.12967567e+03, -1.35657546e+03,\n",
              "        -1.55828840e+03, -2.38526451e+03,  8.26976109e+02,\n",
              "        -3.68495778e+03],\n",
              "       [ 7.31345889e+01,  6.38951812e+01,  9.23940767e+00,\n",
              "         7.03931938e+01,  6.14960533e+01,  8.89714056e+00,\n",
              "         2.74139510e+00,  2.39912799e+00,  3.42267106e-01,\n",
              "         1.42613288e+01,  1.34078479e+01,  8.53480891e-01,\n",
              "        -3.80553479e+00, -1.80685911e+00, -1.99867568e+00,\n",
              "         1.64096171e+01],\n",
              "       [ 4.65379834e+01,  4.54785555e+01,  1.05942795e+00,\n",
              "         3.53810902e+01,  3.41740880e+01,  1.20700228e+00,\n",
              "         1.11568932e+01,  1.13044675e+01, -1.47574328e-01,\n",
              "         5.52024042e+01,  5.92266850e+01, -4.02428080e+00,\n",
              "        -1.15911953e+01, -5.86141795e+00, -5.72977734e+00,\n",
              "         9.85080766e+00]])"
            ]
          },
          "metadata": {},
          "execution_count": 302
        }
      ]
    },
    {
      "cell_type": "code",
      "source": [
        "aa=np.tile(PGD1015[:,3], reps=[1,16])\n",
        "aa"
      ],
      "metadata": {
        "id": "tLccCmzVC3Hx",
        "outputId": "19c47619-6f9a-498e-a71f-c7d332ee2988",
        "colab": {
          "base_uri": "https://localhost:8080/"
        }
      },
      "execution_count": 293,
      "outputs": [
        {
          "output_type": "execute_result",
          "data": {
            "text/plain": [
              "array([[ 2.26630577e+06,  3.20265050e+05,  1.54835090e+07,\n",
              "         6.58091308e+06,  1.97440337e+06,  2.20344061e+07,\n",
              "         3.87105673e+07,  4.60705877e+06,  9.45082513e+06,\n",
              "         1.88262154e+07,  8.79076406e+07,  7.42765678e+06,\n",
              "         8.08450352e+06,  4.12422594e+07,  2.54242693e+06,\n",
              "         1.51226638e+07, -5.49686491e+06, -1.30974801e+06,\n",
              "         5.94909399e+06,  6.08659657e+07,  1.20121810e+07,\n",
              "         2.45328607e+07,  2.58405228e+07,  2.65761718e+07,\n",
              "         3.18163370e+07,  3.92532386e+07,  2.03155868e+07,\n",
              "         2.29540140e+07,  9.55485999e+06,  2.80853060e+07,\n",
              "         9.11359977e+04,  9.27429398e+06,  5.92896575e+08,\n",
              "         2.26630577e+06,  3.20265050e+05,  1.54835090e+07,\n",
              "         6.58091308e+06,  1.97440337e+06,  2.20344061e+07,\n",
              "         3.87105673e+07,  4.60705877e+06,  9.45082513e+06,\n",
              "         1.88262154e+07,  8.79076406e+07,  7.42765678e+06,\n",
              "         8.08450352e+06,  4.12422594e+07,  2.54242693e+06,\n",
              "         1.51226638e+07, -5.49686491e+06, -1.30974801e+06,\n",
              "         5.94909399e+06,  6.08659657e+07,  1.20121810e+07,\n",
              "         2.45328607e+07,  2.58405228e+07,  2.65761718e+07,\n",
              "         3.18163370e+07,  3.92532386e+07,  2.03155868e+07,\n",
              "         2.29540140e+07,  9.55485999e+06,  2.80853060e+07,\n",
              "         9.11359977e+04,  9.27429398e+06,  5.92896575e+08,\n",
              "         2.26630577e+06,  3.20265050e+05,  1.54835090e+07,\n",
              "         6.58091308e+06,  1.97440337e+06,  2.20344061e+07,\n",
              "         3.87105673e+07,  4.60705877e+06,  9.45082513e+06,\n",
              "         1.88262154e+07,  8.79076406e+07,  7.42765678e+06,\n",
              "         8.08450352e+06,  4.12422594e+07,  2.54242693e+06,\n",
              "         1.51226638e+07, -5.49686491e+06, -1.30974801e+06,\n",
              "         5.94909399e+06,  6.08659657e+07,  1.20121810e+07,\n",
              "         2.45328607e+07,  2.58405228e+07,  2.65761718e+07,\n",
              "         3.18163370e+07,  3.92532386e+07,  2.03155868e+07,\n",
              "         2.29540140e+07,  9.55485999e+06,  2.80853060e+07,\n",
              "         9.11359977e+04,  9.27429398e+06,  5.92896575e+08,\n",
              "         2.26630577e+06,  3.20265050e+05,  1.54835090e+07,\n",
              "         6.58091308e+06,  1.97440337e+06,  2.20344061e+07,\n",
              "         3.87105673e+07,  4.60705877e+06,  9.45082513e+06,\n",
              "         1.88262154e+07,  8.79076406e+07,  7.42765678e+06,\n",
              "         8.08450352e+06,  4.12422594e+07,  2.54242693e+06,\n",
              "         1.51226638e+07, -5.49686491e+06, -1.30974801e+06,\n",
              "         5.94909399e+06,  6.08659657e+07,  1.20121810e+07,\n",
              "         2.45328607e+07,  2.58405228e+07,  2.65761718e+07,\n",
              "         3.18163370e+07,  3.92532386e+07,  2.03155868e+07,\n",
              "         2.29540140e+07,  9.55485999e+06,  2.80853060e+07,\n",
              "         9.11359977e+04,  9.27429398e+06,  5.92896575e+08,\n",
              "         2.26630577e+06,  3.20265050e+05,  1.54835090e+07,\n",
              "         6.58091308e+06,  1.97440337e+06,  2.20344061e+07,\n",
              "         3.87105673e+07,  4.60705877e+06,  9.45082513e+06,\n",
              "         1.88262154e+07,  8.79076406e+07,  7.42765678e+06,\n",
              "         8.08450352e+06,  4.12422594e+07,  2.54242693e+06,\n",
              "         1.51226638e+07, -5.49686491e+06, -1.30974801e+06,\n",
              "         5.94909399e+06,  6.08659657e+07,  1.20121810e+07,\n",
              "         2.45328607e+07,  2.58405228e+07,  2.65761718e+07,\n",
              "         3.18163370e+07,  3.92532386e+07,  2.03155868e+07,\n",
              "         2.29540140e+07,  9.55485999e+06,  2.80853060e+07,\n",
              "         9.11359977e+04,  9.27429398e+06,  5.92896575e+08,\n",
              "         2.26630577e+06,  3.20265050e+05,  1.54835090e+07,\n",
              "         6.58091308e+06,  1.97440337e+06,  2.20344061e+07,\n",
              "         3.87105673e+07,  4.60705877e+06,  9.45082513e+06,\n",
              "         1.88262154e+07,  8.79076406e+07,  7.42765678e+06,\n",
              "         8.08450352e+06,  4.12422594e+07,  2.54242693e+06,\n",
              "         1.51226638e+07, -5.49686491e+06, -1.30974801e+06,\n",
              "         5.94909399e+06,  6.08659657e+07,  1.20121810e+07,\n",
              "         2.45328607e+07,  2.58405228e+07,  2.65761718e+07,\n",
              "         3.18163370e+07,  3.92532386e+07,  2.03155868e+07,\n",
              "         2.29540140e+07,  9.55485999e+06,  2.80853060e+07,\n",
              "         9.11359977e+04,  9.27429398e+06,  5.92896575e+08,\n",
              "         2.26630577e+06,  3.20265050e+05,  1.54835090e+07,\n",
              "         6.58091308e+06,  1.97440337e+06,  2.20344061e+07,\n",
              "         3.87105673e+07,  4.60705877e+06,  9.45082513e+06,\n",
              "         1.88262154e+07,  8.79076406e+07,  7.42765678e+06,\n",
              "         8.08450352e+06,  4.12422594e+07,  2.54242693e+06,\n",
              "         1.51226638e+07, -5.49686491e+06, -1.30974801e+06,\n",
              "         5.94909399e+06,  6.08659657e+07,  1.20121810e+07,\n",
              "         2.45328607e+07,  2.58405228e+07,  2.65761718e+07,\n",
              "         3.18163370e+07,  3.92532386e+07,  2.03155868e+07,\n",
              "         2.29540140e+07,  9.55485999e+06,  2.80853060e+07,\n",
              "         9.11359977e+04,  9.27429398e+06,  5.92896575e+08,\n",
              "         2.26630577e+06,  3.20265050e+05,  1.54835090e+07,\n",
              "         6.58091308e+06,  1.97440337e+06,  2.20344061e+07,\n",
              "         3.87105673e+07,  4.60705877e+06,  9.45082513e+06,\n",
              "         1.88262154e+07,  8.79076406e+07,  7.42765678e+06,\n",
              "         8.08450352e+06,  4.12422594e+07,  2.54242693e+06,\n",
              "         1.51226638e+07, -5.49686491e+06, -1.30974801e+06,\n",
              "         5.94909399e+06,  6.08659657e+07,  1.20121810e+07,\n",
              "         2.45328607e+07,  2.58405228e+07,  2.65761718e+07,\n",
              "         3.18163370e+07,  3.92532386e+07,  2.03155868e+07,\n",
              "         2.29540140e+07,  9.55485999e+06,  2.80853060e+07,\n",
              "         9.11359977e+04,  9.27429398e+06,  5.92896575e+08,\n",
              "         2.26630577e+06,  3.20265050e+05,  1.54835090e+07,\n",
              "         6.58091308e+06,  1.97440337e+06,  2.20344061e+07,\n",
              "         3.87105673e+07,  4.60705877e+06,  9.45082513e+06,\n",
              "         1.88262154e+07,  8.79076406e+07,  7.42765678e+06,\n",
              "         8.08450352e+06,  4.12422594e+07,  2.54242693e+06,\n",
              "         1.51226638e+07, -5.49686491e+06, -1.30974801e+06,\n",
              "         5.94909399e+06,  6.08659657e+07,  1.20121810e+07,\n",
              "         2.45328607e+07,  2.58405228e+07,  2.65761718e+07,\n",
              "         3.18163370e+07,  3.92532386e+07,  2.03155868e+07,\n",
              "         2.29540140e+07,  9.55485999e+06,  2.80853060e+07,\n",
              "         9.11359977e+04,  9.27429398e+06,  5.92896575e+08,\n",
              "         2.26630577e+06,  3.20265050e+05,  1.54835090e+07,\n",
              "         6.58091308e+06,  1.97440337e+06,  2.20344061e+07,\n",
              "         3.87105673e+07,  4.60705877e+06,  9.45082513e+06,\n",
              "         1.88262154e+07,  8.79076406e+07,  7.42765678e+06,\n",
              "         8.08450352e+06,  4.12422594e+07,  2.54242693e+06,\n",
              "         1.51226638e+07, -5.49686491e+06, -1.30974801e+06,\n",
              "         5.94909399e+06,  6.08659657e+07,  1.20121810e+07,\n",
              "         2.45328607e+07,  2.58405228e+07,  2.65761718e+07,\n",
              "         3.18163370e+07,  3.92532386e+07,  2.03155868e+07,\n",
              "         2.29540140e+07,  9.55485999e+06,  2.80853060e+07,\n",
              "         9.11359977e+04,  9.27429398e+06,  5.92896575e+08,\n",
              "         2.26630577e+06,  3.20265050e+05,  1.54835090e+07,\n",
              "         6.58091308e+06,  1.97440337e+06,  2.20344061e+07,\n",
              "         3.87105673e+07,  4.60705877e+06,  9.45082513e+06,\n",
              "         1.88262154e+07,  8.79076406e+07,  7.42765678e+06,\n",
              "         8.08450352e+06,  4.12422594e+07,  2.54242693e+06,\n",
              "         1.51226638e+07, -5.49686491e+06, -1.30974801e+06,\n",
              "         5.94909399e+06,  6.08659657e+07,  1.20121810e+07,\n",
              "         2.45328607e+07,  2.58405228e+07,  2.65761718e+07,\n",
              "         3.18163370e+07,  3.92532386e+07,  2.03155868e+07,\n",
              "         2.29540140e+07,  9.55485999e+06,  2.80853060e+07,\n",
              "         9.11359977e+04,  9.27429398e+06,  5.92896575e+08,\n",
              "         2.26630577e+06,  3.20265050e+05,  1.54835090e+07,\n",
              "         6.58091308e+06,  1.97440337e+06,  2.20344061e+07,\n",
              "         3.87105673e+07,  4.60705877e+06,  9.45082513e+06,\n",
              "         1.88262154e+07,  8.79076406e+07,  7.42765678e+06,\n",
              "         8.08450352e+06,  4.12422594e+07,  2.54242693e+06,\n",
              "         1.51226638e+07, -5.49686491e+06, -1.30974801e+06,\n",
              "         5.94909399e+06,  6.08659657e+07,  1.20121810e+07,\n",
              "         2.45328607e+07,  2.58405228e+07,  2.65761718e+07,\n",
              "         3.18163370e+07,  3.92532386e+07,  2.03155868e+07,\n",
              "         2.29540140e+07,  9.55485999e+06,  2.80853060e+07,\n",
              "         9.11359977e+04,  9.27429398e+06,  5.92896575e+08,\n",
              "         2.26630577e+06,  3.20265050e+05,  1.54835090e+07,\n",
              "         6.58091308e+06,  1.97440337e+06,  2.20344061e+07,\n",
              "         3.87105673e+07,  4.60705877e+06,  9.45082513e+06,\n",
              "         1.88262154e+07,  8.79076406e+07,  7.42765678e+06,\n",
              "         8.08450352e+06,  4.12422594e+07,  2.54242693e+06,\n",
              "         1.51226638e+07, -5.49686491e+06, -1.30974801e+06,\n",
              "         5.94909399e+06,  6.08659657e+07,  1.20121810e+07,\n",
              "         2.45328607e+07,  2.58405228e+07,  2.65761718e+07,\n",
              "         3.18163370e+07,  3.92532386e+07,  2.03155868e+07,\n",
              "         2.29540140e+07,  9.55485999e+06,  2.80853060e+07,\n",
              "         9.11359977e+04,  9.27429398e+06,  5.92896575e+08,\n",
              "         2.26630577e+06,  3.20265050e+05,  1.54835090e+07,\n",
              "         6.58091308e+06,  1.97440337e+06,  2.20344061e+07,\n",
              "         3.87105673e+07,  4.60705877e+06,  9.45082513e+06,\n",
              "         1.88262154e+07,  8.79076406e+07,  7.42765678e+06,\n",
              "         8.08450352e+06,  4.12422594e+07,  2.54242693e+06,\n",
              "         1.51226638e+07, -5.49686491e+06, -1.30974801e+06,\n",
              "         5.94909399e+06,  6.08659657e+07,  1.20121810e+07,\n",
              "         2.45328607e+07,  2.58405228e+07,  2.65761718e+07,\n",
              "         3.18163370e+07,  3.92532386e+07,  2.03155868e+07,\n",
              "         2.29540140e+07,  9.55485999e+06,  2.80853060e+07,\n",
              "         9.11359977e+04,  9.27429398e+06,  5.92896575e+08,\n",
              "         2.26630577e+06,  3.20265050e+05,  1.54835090e+07,\n",
              "         6.58091308e+06,  1.97440337e+06,  2.20344061e+07,\n",
              "         3.87105673e+07,  4.60705877e+06,  9.45082513e+06,\n",
              "         1.88262154e+07,  8.79076406e+07,  7.42765678e+06,\n",
              "         8.08450352e+06,  4.12422594e+07,  2.54242693e+06,\n",
              "         1.51226638e+07, -5.49686491e+06, -1.30974801e+06,\n",
              "         5.94909399e+06,  6.08659657e+07,  1.20121810e+07,\n",
              "         2.45328607e+07,  2.58405228e+07,  2.65761718e+07,\n",
              "         3.18163370e+07,  3.92532386e+07,  2.03155868e+07,\n",
              "         2.29540140e+07,  9.55485999e+06,  2.80853060e+07,\n",
              "         9.11359977e+04,  9.27429398e+06,  5.92896575e+08,\n",
              "         2.26630577e+06,  3.20265050e+05,  1.54835090e+07,\n",
              "         6.58091308e+06,  1.97440337e+06,  2.20344061e+07,\n",
              "         3.87105673e+07,  4.60705877e+06,  9.45082513e+06,\n",
              "         1.88262154e+07,  8.79076406e+07,  7.42765678e+06,\n",
              "         8.08450352e+06,  4.12422594e+07,  2.54242693e+06,\n",
              "         1.51226638e+07, -5.49686491e+06, -1.30974801e+06,\n",
              "         5.94909399e+06,  6.08659657e+07,  1.20121810e+07,\n",
              "         2.45328607e+07,  2.58405228e+07,  2.65761718e+07,\n",
              "         3.18163370e+07,  3.92532386e+07,  2.03155868e+07,\n",
              "         2.29540140e+07,  9.55485999e+06,  2.80853060e+07,\n",
              "         9.11359977e+04,  9.27429398e+06,  5.92896575e+08]])"
            ]
          },
          "metadata": {},
          "execution_count": 293
        }
      ]
    },
    {
      "cell_type": "code",
      "source": [],
      "metadata": {
        "id": "Py69_yTbDX6p"
      },
      "execution_count": null,
      "outputs": []
    },
    {
      "cell_type": "code",
      "source": [
        "bb=np.tile(ct, reps=[3,1]) # 산출액을 3번 행반복\n",
        "bb"
      ],
      "metadata": {
        "id": "SkF8oJDrCXTt",
        "outputId": "2f9e7786-aea8-4893-a65b-f5337e342c4b",
        "colab": {
          "base_uri": "https://localhost:8080/"
        }
      },
      "execution_count": 269,
      "outputs": [
        {
          "output_type": "execute_result",
          "data": {
            "text/plain": [
              "array([[  60., 1792., 2447.],\n",
              "       [  60., 1792., 2447.],\n",
              "       [  60., 1792., 2447.]])"
            ]
          },
          "metadata": {},
          "execution_count": 269
        }
      ]
    },
    {
      "cell_type": "code",
      "source": [],
      "metadata": {
        "id": "Cx_mEeLP_Hrr"
      },
      "execution_count": null,
      "outputs": []
    }
  ]
}