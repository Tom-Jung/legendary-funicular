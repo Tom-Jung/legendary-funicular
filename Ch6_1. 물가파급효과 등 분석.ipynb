{
  "nbformat": 4,
  "nbformat_minor": 0,
  "metadata": {
    "colab": {
      "provenance": [],
      "mount_file_id": "https://github.com/Tom-Jung/legendary-funicular/blob/main/IO_tables.ipynb",
      "authorship_tag": "ABX9TyOjgn68e9KJpdMFa5mD4LY1",
      "include_colab_link": true
    },
    "kernelspec": {
      "name": "python3",
      "display_name": "Python 3"
    },
    "language_info": {
      "name": "python"
    }
  },
  "cells": [
    {
      "cell_type": "markdown",
      "metadata": {
        "id": "view-in-github",
        "colab_type": "text"
      },
      "source": [
        "<a href=\"https://colab.research.google.com/github/Tom-Jung/legendary-funicular/blob/main/Ch6_1.%20%EB%AC%BC%EA%B0%80%ED%8C%8C%EA%B8%89%ED%9A%A8%EA%B3%BC%20%EB%93%B1%20%EB%B6%84%EC%84%9D.ipynb\" target=\"_parent\"><img src=\"https://colab.research.google.com/assets/colab-badge.svg\" alt=\"Open In Colab\"/></a>"
      ]
    },
    {
      "cell_type": "code",
      "source": [
        "import numpy as np   # Numpy import\n",
        "import pandas as pd  # Pandas import"
      ],
      "metadata": {
        "id": "TR7JvW8CxBFT"
      },
      "execution_count": 1,
      "outputs": []
    },
    {
      "cell_type": "code",
      "source": [
        "np.set_printoptions(precision=3,suppress=True) # 결과를 소수 3자리까지만 보여주는 옵션"
      ],
      "metadata": {
        "id": "6ZXqGX8ykUGD"
      },
      "execution_count": 2,
      "outputs": []
    },
    {
      "cell_type": "markdown",
      "source": [
        "3부문 총, 국산, 수입거래표 불러오기"
      ],
      "metadata": {
        "id": "joFt2eQ514T6"
      }
    },
    {
      "cell_type": "code",
      "source": [
        "url_Tt_3 = \"https://raw.githubusercontent.com/Tom-Jung/legendary-funicular/main/Total_Matrix_3_secs_1_va.csv\"  # 3부문의 총거래표 불러오기\n",
        "Tt_3 = pd.read_csv(url_Tt_3)\n",
        "\n",
        "url_Dt_3 = \"https://raw.githubusercontent.com/Tom-Jung/legendary-funicular/main/Domestic_Matrix_3_secs.csv\"  # 3부문의 국산거래표 불러오기\n",
        "Dt_3 = pd.read_csv(url_Dt_3)\n",
        "\n",
        "url_It_3 = \"https://raw.githubusercontent.com/Tom-Jung/legendary-funicular/main/Imported_Matrix_3_secs.csv\"  # 3부문의 수입거래표 불러오기\n",
        "It_3 = pd.read_csv(url_It_3)\n"
      ],
      "metadata": {
        "id": "6GuMjUk213iK"
      },
      "execution_count": 3,
      "outputs": []
    },
    {
      "cell_type": "code",
      "source": [
        "Tt = Tt_3.to_numpy()\n",
        "Dt = Dt_3.to_numpy()\n",
        "It = It_3.to_numpy()"
      ],
      "metadata": {
        "id": "pXrwfo8u86pr"
      },
      "execution_count": 4,
      "outputs": []
    },
    {
      "cell_type": "code",
      "source": [
        "Tt_1 = Tt[0:6,1:13].astype(float)\n",
        "Dm_1 = Dt[0:4,1:10].astype(float)\n",
        "Im_1 = It[0:4,1:10].astype(float)\n",
        "print('총거래표 : \\n', Tt_1)    # 총거래표 확인\n",
        "print('국산거래표 : \\n', Dm_1)  # 국산거래표 확인\n",
        "print('수입거래표 : \\n', Im_1)  # 수입거래표 확인"
      ],
      "metadata": {
        "colab": {
          "base_uri": "https://localhost:8080/"
        },
        "id": "q4Q2rSR1QiUI",
        "outputId": "ac0c550e-7fac-47cb-f2f0-93a0d7fafe6b"
      },
      "execution_count": 5,
      "outputs": [
        {
          "output_type": "stream",
          "name": "stdout",
          "text": [
            "총거래표 : \n",
            " [[   4.   38.   11.   53.   18.    0.    1.   19.   72.]\n",
            " [  16.  944.  401. 1361.  213.  167.  628. 1008. 2369.]\n",
            " [   7.  257.  693.  957. 1032.  432.  131. 1595. 2552.]\n",
            " [  27. 1239. 1105. 2371. 1263.  599.  760. 2622. 4993.]\n",
            " [  33.  553. 1342. 1928.    0.    0.    0.    0.    0.]\n",
            " [  60. 1792. 2447. 4299.    0.    0.    0.    0.    0.]]\n",
            "국산거래표 : \n",
            " [[   4.   31.   10.   45.   15.   -1.    1.   15.   60.]\n",
            " [  15.  588.  322.  925.  138.  106.  623.  867. 1792.]\n",
            " [   7.  243.  644.  894.  997.  425.  131. 1553. 2447.]\n",
            " [  26.  862.  976. 1864. 1150.  530.  755. 2435. 4299.]]\n",
            "수입거래표 : \n",
            " [[  0.   7.   1.   8.   3.   1.   0.   4.  12.]\n",
            " [  1. 356.  79. 436.  75.  61.   5. 141. 577.]\n",
            " [  0.  14.  49.  63.  35.   7.   0.  42. 105.]\n",
            " [  1. 377. 129. 507. 113.  69.   5. 187. 694.]]\n"
          ]
        }
      ]
    },
    {
      "cell_type": "code",
      "source": [
        "ct = Tt_1[-1,0:3]  # 산출액\n",
        "ct"
      ],
      "metadata": {
        "colab": {
          "base_uri": "https://localhost:8080/"
        },
        "id": "sLoitK1lQigz",
        "outputId": "72cf959d-a114-44ab-a683-0905f5fed952"
      },
      "execution_count": 6,
      "outputs": [
        {
          "output_type": "execute_result",
          "data": {
            "text/plain": [
              "array([  60., 1792., 2447.])"
            ]
          },
          "metadata": {},
          "execution_count": 6
        }
      ]
    },
    {
      "cell_type": "code",
      "source": [
        "ct_m = np.tile(ct, reps=[3,1]) # 산출액을 3번 행반복\n",
        "ct_m"
      ],
      "metadata": {
        "colab": {
          "base_uri": "https://localhost:8080/"
        },
        "id": "s0wcbJY1Qipl",
        "outputId": "53cbe074-2d2d-48c0-c758-c057481a181d"
      },
      "execution_count": 7,
      "outputs": [
        {
          "output_type": "execute_result",
          "data": {
            "text/plain": [
              "array([[  60., 1792., 2447.],\n",
              "       [  60., 1792., 2447.],\n",
              "       [  60., 1792., 2447.]])"
            ]
          },
          "metadata": {},
          "execution_count": 7
        }
      ]
    },
    {
      "cell_type": "code",
      "source": [
        "At = Tt_1[0:3,0:3]/ct_m   # 총투입계수\n",
        "Ad = Dm_1[0:3,0:3]/ct_m  # 국산 투입계수\n",
        "Ai = Im_1[0:3,0:3]/ct_m  # 수입 투입계수\n",
        "\n",
        "print('총투입계수표 : \\n', At)\n",
        "print('국산투입계수표 : \\n', Ad)\n",
        "print('수입투입계수표 : \\n', Ai)\n",
        "\n",
        "df_At = pd.DataFrame(At.round(3),columns = ['농산품', '공산품', '서비스'], index=['농산품', '공산품', '서비스'])  #pandas로 내보내기\n",
        "df_Ad = pd.DataFrame(Ad.round(3),columns = ['농산품', '공산품', '서비스'], index=['농산품', '공산품', '서비스'])  #pandas로 내보내기\n",
        "df_Ai = pd.DataFrame(Ai.round(3),columns = ['농산품', '공산품', '서비스'], index=['농산품', '공산품', '서비스'])  #pandas로 내보내기"
      ],
      "metadata": {
        "colab": {
          "base_uri": "https://localhost:8080/"
        },
        "id": "5uLIE7vfQiwM",
        "outputId": "ba76dd3c-d7c3-4104-dd70-d422c79fb875"
      },
      "execution_count": 8,
      "outputs": [
        {
          "output_type": "stream",
          "name": "stdout",
          "text": [
            "총투입계수표 : \n",
            " [[0.067 0.021 0.004]\n",
            " [0.267 0.527 0.164]\n",
            " [0.117 0.143 0.283]]\n",
            "국산투입계수표 : \n",
            " [[0.067 0.017 0.004]\n",
            " [0.25  0.328 0.132]\n",
            " [0.117 0.136 0.263]]\n",
            "수입투입계수표 : \n",
            " [[0.    0.004 0.   ]\n",
            " [0.017 0.199 0.032]\n",
            " [0.    0.008 0.02 ]]\n"
          ]
        }
      ]
    },
    {
      "cell_type": "markdown",
      "source": [
        "### 물가파급효과 분석\n",
        "\n",
        "\n",
        "##### - 투입계수의 전치행렬을 이용하여 생산유발계수(Lf)을 이용하여 각종 물가파급효과 분석 가능"
      ],
      "metadata": {
        "id": "LrSLa3VTD5Nd"
      }
    },
    {
      "cell_type": "code",
      "source": [
        "At_trans = At.T  # 총투입계수의 전치행렬\n",
        "Ad_trans = Ad.T  # 국산투입계수의 전치행렬\n",
        "Ai_trans = Ai.T  # 국산투입계수의 전치행렬\n",
        "\n",
        "print('총투입계수의 전치행렬 : \\n', At_trans)\n",
        "print('국산투입계수의 전치행렬: \\n', Ad_trans)\n",
        "print('수입투입계수의 전치행렬: \\n', Ai_trans)\n",
        "\n",
        "Lf_trans = np.linalg.inv(np.identity(3)-Ad_trans)  # (I-Ad_trans)의 역행렬\n",
        "print('국산투입계수 전치행렬의 역행렬: \\n', Lf_trans)"
      ],
      "metadata": {
        "id": "QlwdX5oMD71E",
        "outputId": "7c59c97a-b7c3-4203-b741-32d5544107b1",
        "colab": {
          "base_uri": "https://localhost:8080/"
        }
      },
      "execution_count": 9,
      "outputs": [
        {
          "output_type": "stream",
          "name": "stdout",
          "text": [
            "총투입계수의 전치행렬 : \n",
            " [[0.067 0.267 0.117]\n",
            " [0.021 0.527 0.143]\n",
            " [0.004 0.164 0.283]]\n",
            "국산투입계수의 전치행렬: \n",
            " [[0.067 0.25  0.117]\n",
            " [0.017 0.328 0.136]\n",
            " [0.004 0.132 0.263]]\n",
            "수입투입계수의 전치행렬: \n",
            " [[0.    0.017 0.   ]\n",
            " [0.004 0.199 0.008]\n",
            " [0.    0.032 0.02 ]]\n",
            "국산투입계수 전치행렬의 역행렬: \n",
            " [[1.081 0.452 0.254]\n",
            " [0.03  1.557 0.291]\n",
            " [0.011 0.281 1.411]]\n"
          ]
        }
      ]
    },
    {
      "cell_type": "code",
      "source": [
        "Lf = np.linalg.inv(np.identity(3)-Ad)  # 생산유발계수\n",
        "Lf"
      ],
      "metadata": {
        "id": "ZBm_HdNJlXK0",
        "outputId": "74e543fb-016f-45f6-f0da-01cc64839e33",
        "colab": {
          "base_uri": "https://localhost:8080/"
        }
      },
      "execution_count": 10,
      "outputs": [
        {
          "output_type": "execute_result",
          "data": {
            "text/plain": [
              "array([[1.081, 0.03 , 0.011],\n",
              "       [0.452, 1.557, 0.281],\n",
              "       [0.254, 0.291, 1.411]])"
            ]
          },
          "metadata": {},
          "execution_count": 10
        }
      ]
    },
    {
      "cell_type": "code",
      "source": [
        "Va_r = Tt_1[-2,0:3]/ct # 부가가치율\n",
        "Va_r\n",
        "\n",
        "Va_m = np.diag(Va_r)  # 부가가치율 대각행렬\n",
        "Va_m\n",
        "\n",
        "Lv = Va_m@Lf  #부가가치유발계수\n",
        "Lv"
      ],
      "metadata": {
        "id": "LErqtFkNlK9I",
        "outputId": "ccded61c-245a-43d3-8dbb-eb051f50329e",
        "colab": {
          "base_uri": "https://localhost:8080/"
        }
      },
      "execution_count": 11,
      "outputs": [
        {
          "output_type": "execute_result",
          "data": {
            "text/plain": [
              "array([[0.595, 0.017, 0.006],\n",
              "       [0.139, 0.48 , 0.087],\n",
              "       [0.139, 0.16 , 0.774]])"
            ]
          },
          "metadata": {},
          "execution_count": 11
        }
      ]
    },
    {
      "cell_type": "code",
      "source": [
        "Li = Ai@Lf  #수입유발계수\n",
        "Li"
      ],
      "metadata": {
        "id": "mcx3h35KlcG6",
        "outputId": "32846779-6dbc-41ed-fdf3-76862a315d70",
        "colab": {
          "base_uri": "https://localhost:8080/"
        }
      },
      "execution_count": 12,
      "outputs": [
        {
          "output_type": "execute_result",
          "data": {
            "text/plain": [
              "array([[0.002, 0.006, 0.002],\n",
              "       [0.116, 0.319, 0.101],\n",
              "       [0.009, 0.018, 0.03 ]])"
            ]
          },
          "metadata": {},
          "execution_count": 12
        }
      ]
    },
    {
      "cell_type": "markdown",
      "source": [],
      "metadata": {
        "id": "aBgrgkliI_uH"
      }
    },
    {
      "cell_type": "markdown",
      "source": [
        "#### 임금인상의 물가파급효과"
      ],
      "metadata": {
        "id": "VmIala71I_1M"
      }
    },
    {
      "cell_type": "code",
      "source": [
        "delta_all_w = np.array([10,10,10]).reshape([3,1]) # 모든 상품의 임금이 10% 상승\n",
        "delta_all_Pw = (Lf_trans@Va_m)@delta_all_w\n",
        "\n",
        "delta_par_w = np.array([0,10,0]).reshape([3,1]) # 공산품의 임금이 10% 상승\n",
        "delta_par_Pw = (Lf_trans@Va_m)@delta_par_w\n",
        "\n",
        "print('모든 상품의 임금이 10% 상승시 물가파급효과: \\n', delta_all_Pw)\n",
        "print('공산품의 임금이 10% 상승시 물가파급효과: \\n', delta_par_Pw)\n"
      ],
      "metadata": {
        "id": "hT30koHOD8WG",
        "outputId": "7b516db9-c7fb-43cd-b302-5662a1176fa4",
        "colab": {
          "base_uri": "https://localhost:8080/"
        }
      },
      "execution_count": 13,
      "outputs": [
        {
          "output_type": "stream",
          "name": "stdout",
          "text": [
            "모든 상품의 임금이 10% 상승시 물가파급효과: \n",
            " [[8.735]\n",
            " [6.567]\n",
            " [8.664]]\n",
            "공산품의 임금이 10% 상승시 물가파급효과: \n",
            " [[1.395]\n",
            " [4.804]\n",
            " [0.866]]\n"
          ]
        }
      ]
    },
    {
      "cell_type": "markdown",
      "source": [
        "#### 공산품 등 내생부분(중간투입품) 가격변동의 물가파급효과"
      ],
      "metadata": {
        "id": "lz8QJDXeZA_n"
      }
    },
    {
      "cell_type": "code",
      "source": [
        "#### 중간투입되는 공산품의 물가변동의 파급효과 분석\n",
        "\n",
        "Ad_exd_row = np.delete(Ad_trans,1,0).reshape([2,3])  # 공산품(sectors2) 행 삭제\n",
        "Ad_exd_manu = np.delete(Ad_exd_row,1,1).reshape([2,2])  # 공산품(sectors2) 열 삭제,,최종적으로 2x2 행렬\n",
        "print('물가변동이 발생한 부문을 제가한 국산투입계수 : \\n', Ad_exd_manu)\n",
        "\n",
        "A_Pr_sec2 = np.concatenate((Ad_trans[0,1].reshape([1,1]),Ad_trans[2,1].reshape([1,1])),axis=0).reshape([2,1])  # 물가가 변동하는 부문의 국산 투입계수(a21, a23)\n",
        "print('물가변동이 발생한 부문의 국산투입계수 : \\n', A_Pr_sec2)\n",
        "\n",
        "#공산품 물가 10% 상승시 파급효과\n",
        "\n",
        "delta_manu_Pw = Ad_exd_manu@A_Pr_sec2*10\n",
        "print('공산품 10% 상승시 다른 부문의 물가변동 : \\n', delta_manu_Pw)"
      ],
      "metadata": {
        "id": "MH8Zx-JXD8ZG",
        "colab": {
          "base_uri": "https://localhost:8080/"
        },
        "outputId": "d3052b73-8492-4e05-d48f-94279ac75316"
      },
      "execution_count": 14,
      "outputs": [
        {
          "output_type": "stream",
          "name": "stdout",
          "text": [
            "물가변동이 발생한 부문을 제가한 국산투입계수 : \n",
            " [[0.067 0.117]\n",
            " [0.004 0.263]]\n",
            "물가변동이 발생한 부문의 국산투입계수 : \n",
            " [[0.25 ]\n",
            " [0.132]]\n",
            "공산품 10% 상승시 다른 부문의 물가변동 : \n",
            " [[0.32 ]\n",
            " [0.357]]\n"
          ]
        }
      ]
    },
    {
      "cell_type": "markdown",
      "source": [
        "#### 수입산품 가격변동의 물가파급효과\n"
      ],
      "metadata": {
        "id": "KGihX7EPGGt3"
      }
    },
    {
      "cell_type": "code",
      "source": [
        "Imp_Pw = np.array([10,0,0]).reshape([3,1]) # 수입농산물 10% 상승\n",
        "delta_imp_Pw =  ((Lf_trans @Ai_trans)@Imp_Pw).reshape([3,1])\n",
        "\n",
        "print('수입통산품 가격 10% 상승시 다른 부문의 물가변동 : \\n', delta_imp_Pw)"
      ],
      "metadata": {
        "colab": {
          "base_uri": "https://localhost:8080/"
        },
        "id": "5p1nygTxZI38",
        "outputId": "dfc1a21f-f9cd-42e3-bd3a-2d7fdd9f0018"
      },
      "execution_count": 15,
      "outputs": [
        {
          "output_type": "stream",
          "name": "stdout",
          "text": [
            "수입통산품 가격 10% 상승시 다른 부문의 물가변동 : \n",
            " [[0.019]\n",
            " [0.062]\n",
            " [0.017]]\n"
          ]
        }
      ]
    },
    {
      "cell_type": "code",
      "source": [
        "#pandas로 내보\n",
        "\n",
        "df_delta_all_Pw = pd.DataFrame(delta_all_Pw.round(3),columns = ['물가상승률'], index=['농산품', '공산품', '서비스'])  # 모든 부문의 임금 10% 상승\n",
        "df_delta_par_Pw = pd.DataFrame(delta_par_Pw.round(3),columns = ['물가상승률'], index=['농산품', '공산품', '서비스'])  # 공산품 부문의 임금 10% 상승\n",
        "df_delta_manu_Pw = pd.DataFrame(delta_manu_Pw.round(3),columns = ['물가상승률'], index=['농산품', '서비스'])        # 공산품 물가 10% 상승\n",
        "df_delta_imp_Pw = pd.DataFrame(delta_imp_Pw.round(3),columns = ['물가상승률'], index=['농산품', '공산품', '서비스'])   # 수입 농산품 물가 10% 상승"
      ],
      "metadata": {
        "id": "Njxfr_mbHtnA"
      },
      "execution_count": 16,
      "outputs": []
    },
    {
      "cell_type": "code",
      "source": [
        "df_delta_all_Pw.to_csv('모든 부문 임금 10% 상승.csv')\n",
        "df_delta_par_Pw.to_csv('공산품 부문 임금 10% 상승.csv')\n",
        "df_delta_manu_Pw.to_csv('공산품 물가 10% 상승.csv')\n",
        "df_delta_imp_Pw.to_csv('수입 농산품 물가 10% 상승.csv')"
      ],
      "metadata": {
        "id": "Q0fXvrqKKjRH"
      },
      "execution_count": 17,
      "outputs": []
    },
    {
      "cell_type": "markdown",
      "source": [
        "### 서비스 부문의 내생화"
      ],
      "metadata": {
        "id": "0T6xGJKLAhvD"
      }
    },
    {
      "cell_type": "code",
      "source": [
        "# 생산유발액\n",
        "\n",
        "Ad_ser_etr = Ad[0:2,0:2] # 서비스가 제거된 농산품과 공산품만 포함된 국산투입계수\n",
        "Lf_Ad_ser_etr = np.linalg.inv(np.identity(2)-Ad_ser_etr) # 역행렬(생산유발계수)\n",
        "print('농산품과 공산품으로 구성된 생산유발계수: \\n', Lf_Ad_ser_etr)\n",
        "\n",
        "Ad_ser =Ad[0:2,2].reshape([2,1])\n",
        "print('서비스의 국산투입계수(농산품과 공산품만 포함): \\n', Ad_ser)\n",
        "\n",
        "Mtp_ser = Lf_Ad_ser_etr@Ad_ser # 서비스 외생화의 효과를 계산하기 위한 멀티플라이어\n",
        "print('외생화 부문의 효과를 계산하기 위한 멀티플라이어: \\n', Mtp_ser)\n",
        "\n",
        "Amt_etr = Mtp_ser*244 # 서비스 총산출(총투자) 3,432,811의 각 산업 생산유발액\n",
        "print('유발액: \\n', Amt_etr)\n"
      ],
      "metadata": {
        "id": "ImapvnHSM3mu",
        "colab": {
          "base_uri": "https://localhost:8080/"
        },
        "outputId": "4f5db82a-3aba-4483-d31c-a42930df7720"
      },
      "execution_count": 18,
      "outputs": [
        {
          "output_type": "stream",
          "name": "stdout",
          "text": [
            "농산품과 공산품으로 구성된 생산유발계수: \n",
            " [[1.079 0.028]\n",
            " [0.401 1.499]]\n",
            "서비스의 국산투입계수(농산품과 공산품만 포함): \n",
            " [[0.004]\n",
            " [0.132]]\n",
            "외생화 부문의 효과를 계산하기 위한 멀티플라이어: \n",
            " [[0.008]\n",
            " [0.199]]\n",
            "유발액: \n",
            " [[ 1.968]\n",
            " [48.521]]\n"
          ]
        }
      ]
    },
    {
      "cell_type": "code",
      "source": [
        "# 수입유발액\n",
        "Ai_ser_etr = Ai[0:2,0:2] # 서비스가 제거된 농산품과 공산품만 포함된 수입투입계수\n",
        "Ai_ser_dr = Ai[:,2].sum().reshape([1,1])\n",
        "\n",
        "Mtp_imp_indr = Ai_ser_etr@Mtp_ser  # 간접효과 멀티플라이어\n",
        "print('간접효과 멀티플라이어: \\n', Mtp_imp_indr)\n",
        "\n",
        "Amt_imp_indr = Mtp_imp_indr*244 # 간접효과\n",
        "Amt_imp_dr = Ai_ser_dr*244      # 직접효과\n",
        "Amt_imp_tot = Amt_imp_indr.sum() + Amt_imp_dr\n",
        "\n",
        "print('간접효과 : \\n', Amt_imp_indr)\n",
        "print('직접효과 : \\n', Amt_imp_dr)\n",
        "print('총효과 : \\n', Amt_imp_tot)\n"
      ],
      "metadata": {
        "colab": {
          "base_uri": "https://localhost:8080/"
        },
        "id": "lKcch7NXAyaQ",
        "outputId": "180e7df9-432f-43e0-8bb3-147ca1876add"
      },
      "execution_count": 19,
      "outputs": [
        {
          "output_type": "stream",
          "name": "stdout",
          "text": [
            "간접효과 멀티플라이어: \n",
            " [[0.001]\n",
            " [0.04 ]]\n",
            "간접효과 : \n",
            " [[0.19 ]\n",
            " [9.672]]\n",
            "직접효과 : \n",
            " [[12.863]]\n",
            "총효과 : \n",
            " [[22.725]]\n"
          ]
        }
      ]
    },
    {
      "cell_type": "code",
      "source": [
        "# 부가가치유발액\n",
        "Av_ser_etr = Va_m[0:2,0:2] # 서비스가 제거된 농산품과 공산품만 포함된 부가가치율\n",
        "Av_ser_dr = Va_m[2,2].reshape([1,1])  # 서비스의 부가가치율\n",
        "\n",
        "Mtp_var_indr = Av_ser_etr@Mtp_ser  # 간접효과 멀티플라이어\n",
        "print('간접효과 멀티플라이어: \\n', Mtp_var_indr)\n",
        "\n",
        "Amt_var_indr = Mtp_var_indr*244  # 간접효과\n",
        "Amt_var_dr= Av_ser_dr*244       # 직접효과\n",
        "Amt_var_tot = Amt_var_indr.sum() + Amt_var_dr\n",
        "\n",
        "print('간접효과 : \\n', Amt_var_indr)\n",
        "print('직접효과 : \\n', Amt_var_dr)\n",
        "print('총효과 : \\n', Amt_var_tot)"
      ],
      "metadata": {
        "colab": {
          "base_uri": "https://localhost:8080/"
        },
        "id": "z0oF5lwlKqlY",
        "outputId": "ceeed9ba-f8f7-4317-ec1f-2d9f13ff62eb"
      },
      "execution_count": 20,
      "outputs": [
        {
          "output_type": "stream",
          "name": "stdout",
          "text": [
            "간접효과 멀티플라이어: \n",
            " [[0.004]\n",
            " [0.061]]\n",
            "간접효과 : \n",
            " [[ 1.082]\n",
            " [14.973]]\n",
            "직접효과 : \n",
            " [[133.816]]\n",
            "총효과 : \n",
            " [[149.871]]\n"
          ]
        }
      ]
    }
  ]
}