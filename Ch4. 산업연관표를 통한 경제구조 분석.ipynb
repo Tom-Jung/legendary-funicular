{
  "nbformat": 4,
  "nbformat_minor": 0,
  "metadata": {
    "colab": {
      "provenance": [],
      "mount_file_id": "https://github.com/Tom-Jung/legendary-funicular/blob/main/IO_tables.ipynb",
      "authorship_tag": "ABX9TyMB7cTy267Mfs7fCxE4uShT",
      "include_colab_link": true
    },
    "kernelspec": {
      "name": "python3",
      "display_name": "Python 3"
    },
    "language_info": {
      "name": "python"
    }
  },
  "cells": [
    {
      "cell_type": "markdown",
      "metadata": {
        "id": "view-in-github",
        "colab_type": "text"
      },
      "source": [
        "<a href=\"https://colab.research.google.com/github/Tom-Jung/legendary-funicular/blob/main/Ch4.%20%EC%82%B0%EC%97%85%EC%97%B0%EA%B4%80%ED%91%9C%EB%A5%BC%20%ED%86%B5%ED%95%9C%20%EA%B2%BD%EC%A0%9C%EA%B5%AC%EC%A1%B0%20%EB%B6%84%EC%84%9D.ipynb\" target=\"_parent\"><img src=\"https://colab.research.google.com/assets/colab-badge.svg\" alt=\"Open In Colab\"/></a>"
      ]
    },
    {
      "cell_type": "code",
      "source": [
        "import numpy as np   # Numpy import\n",
        "import pandas as pd  # Pandas import"
      ],
      "metadata": {
        "id": "TR7JvW8CxBFT"
      },
      "execution_count": 1,
      "outputs": []
    },
    {
      "cell_type": "code",
      "source": [
        "np.set_printoptions(precision=3,suppress=True) # 결과를 소수 3자리까지만 보여주는 옵션"
      ],
      "metadata": {
        "id": "H1V3z1c6j-Iq"
      },
      "execution_count": 2,
      "outputs": []
    },
    {
      "cell_type": "markdown",
      "source": [
        "###  3부문 총, 국산, 수입거래표 불러오기"
      ],
      "metadata": {
        "id": "3pPHmi20k2k1"
      }
    },
    {
      "cell_type": "code",
      "source": [
        "url_Tt_3 = \"https://raw.githubusercontent.com/Tom-Jung/legendary-funicular/main/Total_Matrix_3_secs.csv\"  # 3부문의 총거래표 불러오기\n",
        "Tt_3 = pd.read_csv(url_Tt_3)\n",
        "\n",
        "url_Dt_3 = \"https://raw.githubusercontent.com/Tom-Jung/legendary-funicular/main/Domestic_Matrix_3_secs.csv\"  # 3부문의 국산거래표 불러오기\n",
        "Dt_3 = pd.read_csv(url_Dt_3)\n",
        "\n",
        "url_It_3 = \"https://raw.githubusercontent.com/Tom-Jung/legendary-funicular/main/Imported_Matrix_3_secs.csv\"  # 3부문의 수입거래표 불러오기\n",
        "It_3 = pd.read_csv(url_It_3)"
      ],
      "metadata": {
        "id": "EuB3g6ODNz9E"
      },
      "execution_count": 3,
      "outputs": []
    },
    {
      "cell_type": "markdown",
      "source": [
        "#### 산업구조_부가가치 및 산출액 비중 구하기"
      ],
      "metadata": {
        "id": "Jz2c6mWiGW5v"
      }
    },
    {
      "cell_type": "markdown",
      "source": [
        "### DataFrame을 Numpy로 읽어오고 숫자만으로 행렬을 만들고 차원 등 제대로 읽어 왔는지 체크\n",
        "\n"
      ],
      "metadata": {
        "id": "x-a_G73J-ARG"
      }
    },
    {
      "cell_type": "code",
      "source": [
        "Tt = Tt_3.to_numpy()  # numpy로 불러오기\n",
        "Dt = Dt_3.to_numpy()\n",
        "It = It_3.to_numpy()"
      ],
      "metadata": {
        "id": "Hb3EasrIAz9H"
      },
      "execution_count": 4,
      "outputs": []
    },
    {
      "cell_type": "code",
      "source": [
        "Tt"
      ],
      "metadata": {
        "id": "WN6hZ9hGGXEs",
        "outputId": "d48768d8-4c18-4615-9051-1c26fc058d35",
        "colab": {
          "base_uri": "https://localhost:8080/"
        }
      },
      "execution_count": 5,
      "outputs": [
        {
          "output_type": "execute_result",
          "data": {
            "text/plain": [
              "array([['농산품', 4.0, 38.0, 11.0, 53.0, 18.0, 0.0, 1.0, 19.0, 72.0],\n",
              "       ['공산품', 16.0, 944.0, 401.0, 1361.0, 213.0, 167.0, 628.0, 1008.0,\n",
              "        2369.0],\n",
              "       ['서비스', 7.0, 257.0, 693.0, 957.0, 1032.0, 432.0, 131.0, 1595.0,\n",
              "        2552.0],\n",
              "       ['중간투입계', 27.0, 1239.0, 1105.0, 2371.0, 1263.0, 599.0, 760.0,\n",
              "        2622.0, 4993.0],\n",
              "       ['피용자보수', 7.0, 197.0, 714.0, 918.0, 0.0, 0.0, 0.0, 0.0, 0.0],\n",
              "       ['영업잉여', 20.0, 152.0, 298.0, 470.0, 0.0, 0.0, 0.0, 0.0, 0.0],\n",
              "       ['고정자본소모', 5.0, 144.0, 230.0, 379.0, 0.0, 0.0, 0.0, 0.0, 0.0],\n",
              "       ['생산세(보조금공제)', 1.0, 60.0, 100.0, 161.0, 0.0, 0.0, 0.0, 0.0, 0.0],\n",
              "       ['부가가치계', 33.0, 553.0, 1342.0, 1928.0, 0.0, 0.0, 0.0, 0.0, 0.0],\n",
              "       ['총투입액', 60.0, 1792.0, 2447.0, 4299.0, 0.0, 0.0, 0.0, 0.0, 0.0]],\n",
              "      dtype=object)"
            ]
          },
          "metadata": {},
          "execution_count": 5
        }
      ]
    },
    {
      "cell_type": "code",
      "source": [
        "va = Tt[-2,1:4].astype(float)  # 산업별 부가가치\n",
        "ct = Tt[-1,1:4].astype(float)  # 산업별 산출액"
      ],
      "metadata": {
        "id": "GrqwxwU44DMl"
      },
      "execution_count": 6,
      "outputs": []
    },
    {
      "cell_type": "code",
      "source": [
        "va_wgt = (va/va.sum()).reshape([3,1])  # 부가가치 기준 각 산업의 비중\n",
        "ct_wgt = (ct/ct.sum()).reshape([3,1])  # 산출액 기준 각 산업의 비중\n",
        "\n",
        "wgt_mx = np.concatenate((va_wgt, ct_wgt), axis=1).round(3)\n",
        "wgt_mx"
      ],
      "metadata": {
        "id": "IGYFJf_fAz6J",
        "colab": {
          "base_uri": "https://localhost:8080/"
        },
        "outputId": "bfa9c4c8-2ead-4400-a761-a6340bbfac78"
      },
      "execution_count": 7,
      "outputs": [
        {
          "output_type": "execute_result",
          "data": {
            "text/plain": [
              "array([[0.017, 0.014],\n",
              "       [0.287, 0.417],\n",
              "       [0.696, 0.569]])"
            ]
          },
          "metadata": {},
          "execution_count": 7
        }
      ]
    },
    {
      "cell_type": "markdown",
      "source": [
        "#### 투입구조"
      ],
      "metadata": {
        "id": "32UjG6dfMUrW"
      }
    },
    {
      "cell_type": "code",
      "source": [
        "Tt_itr = Tt[-3,1:5] # 총거래표의 각 산업별 및 총산업의 중간투입계\n",
        "Dt_itr = Dt[-1,1:5] # 국산거래표의 각 산업별 및 총산업의 중간투입계\n",
        "It_itr = It[-1,1:5] # 수입거래표의 각 산업별 및 총산업의 중간투입계\n",
        "Ct_itr = Tt[-1,1:5] # 각 산업별 및 총산업의 산출액\n",
        "\n",
        "# print(Tt)\n",
        "print(Tt_itr)\n",
        "print(Dt_itr)\n",
        "print(It_itr)\n",
        "print(Ct_itr)"
      ],
      "metadata": {
        "colab": {
          "base_uri": "https://localhost:8080/"
        },
        "id": "D77j-HNjIKj9",
        "outputId": "d7f4bad9-314b-45b7-f9c6-b9b63d18d2d4"
      },
      "execution_count": 8,
      "outputs": [
        {
          "output_type": "stream",
          "name": "stdout",
          "text": [
            "[1.0 60.0 100.0 161.0]\n",
            "[26.0 862.0 976.0 1864.0]\n",
            "[1.0 377.0 129.0 507.0]\n",
            "[60.0 1792.0 2447.0 4299.0]\n"
          ]
        }
      ]
    },
    {
      "cell_type": "code",
      "source": [
        "Tt_itr_ratio = (Tt_itr/Ct_itr).reshape([4,1]).astype(float) # 총투입계수\n",
        "Dt_itr_ratio = (Dt_itr/Ct_itr).reshape([4,1]).astype(float) # 국산투입계수\n",
        "It_itr_ratio = (It_itr/Ct_itr).reshape([4,1]).astype(float) # 수입투입계수\n",
        "\n",
        "itr_ratio = (np.concatenate((Tt_itr_ratio, Dt_itr_ratio, It_itr_ratio), axis=1)).round(3)  # 총, 국산, 수입투입계수\n",
        "itr_ratio"
      ],
      "metadata": {
        "colab": {
          "base_uri": "https://localhost:8080/"
        },
        "id": "Dl7lil2JPogq",
        "outputId": "bed52cd6-30cb-487a-b25e-50b7a0d8a8ee"
      },
      "execution_count": 9,
      "outputs": [
        {
          "output_type": "execute_result",
          "data": {
            "text/plain": [
              "array([[0.017, 0.433, 0.017],\n",
              "       [0.033, 0.481, 0.21 ],\n",
              "       [0.041, 0.399, 0.053],\n",
              "       [0.037, 0.434, 0.118]])"
            ]
          },
          "metadata": {},
          "execution_count": 9
        }
      ]
    },
    {
      "cell_type": "code",
      "source": [
        "Dt_dm_itr = (Dt_itr/Tt_itr).reshape([4,1]).astype(float).round(3)  # 각 산업별, 총산업의 국산화율\n",
        "Dt_dm_itr"
      ],
      "metadata": {
        "colab": {
          "base_uri": "https://localhost:8080/"
        },
        "id": "0Xi-6MnGPo6v",
        "outputId": "1aba615d-68f2-4e7b-d87a-10d99a74adb6"
      },
      "execution_count": 10,
      "outputs": [
        {
          "output_type": "execute_result",
          "data": {
            "text/plain": [
              "array([[26.   ],\n",
              "       [14.367],\n",
              "       [ 9.76 ],\n",
              "       [11.578]])"
            ]
          },
          "metadata": {},
          "execution_count": 10
        }
      ]
    },
    {
      "cell_type": "code",
      "source": [
        "va_ratio = (Tt[-2,1:5]/Tt[-1,1:5]).reshape([4,1]).astype(float).round(3)  # 부가가치율 = 부가가치(3산업과 총부가가치)/산출액(3산업과 총산출액)\n",
        "va_ratio"
      ],
      "metadata": {
        "colab": {
          "base_uri": "https://localhost:8080/"
        },
        "id": "UlVNRugMPpQU",
        "outputId": "2980d09e-6dd1-416b-e8bd-349aa25487bb"
      },
      "execution_count": 11,
      "outputs": [
        {
          "output_type": "execute_result",
          "data": {
            "text/plain": [
              "array([[0.55 ],\n",
              "       [0.309],\n",
              "       [0.548],\n",
              "       [0.448]])"
            ]
          },
          "metadata": {},
          "execution_count": 11
        }
      ]
    },
    {
      "cell_type": "code",
      "source": [
        "#중간투입, 국산화율 및 부가가치율을 열방향으로 부치기\n",
        "input_str = ((np.concatenate((itr_ratio, Dt_dm_itr, va_ratio), axis=1))*100)\n",
        "input_strr = input_str.astype(float).round(1)\n",
        "input_strr"
      ],
      "metadata": {
        "colab": {
          "base_uri": "https://localhost:8080/"
        },
        "id": "lECvmd0wPpnQ",
        "outputId": "c257b698-a708-4290-fde8-63ccb438c70f"
      },
      "execution_count": 12,
      "outputs": [
        {
          "output_type": "execute_result",
          "data": {
            "text/plain": [
              "array([[   1.7,   43.3,    1.7, 2600. ,   55. ],\n",
              "       [   3.3,   48.1,   21. , 1436.7,   30.9],\n",
              "       [   4.1,   39.9,    5.3,  976. ,   54.8],\n",
              "       [   3.7,   43.4,   11.8, 1157.8,   44.8]])"
            ]
          },
          "metadata": {},
          "execution_count": 12
        }
      ]
    },
    {
      "cell_type": "code",
      "source": [
        "input_f = pd.DataFrame(input_strr, columns = ['총중간투입률', '국산중간투입률', '수입중간투입률', '국산화율', '부가가치율'],\n",
        "                       index = ['농산품','공산품','서비스','전품목'])\n",
        "input_f"
      ],
      "metadata": {
        "id": "lVdcPjp1xCm0",
        "outputId": "e8da96a0-4056-45b3-d450-38423dc7587b",
        "colab": {
          "base_uri": "https://localhost:8080/",
          "height": 175
        }
      },
      "execution_count": 13,
      "outputs": [
        {
          "output_type": "execute_result",
          "data": {
            "text/plain": [
              "     총중간투입률  국산중간투입률  수입중간투입률    국산화율  부가가치율\n",
              "농산품     1.7     43.3      1.7  2600.0   55.0\n",
              "공산품     3.3     48.1     21.0  1436.7   30.9\n",
              "서비스     4.1     39.9      5.3   976.0   54.8\n",
              "전품목     3.7     43.4     11.8  1157.8   44.8"
            ],
            "text/html": [
              "\n",
              "  <div id=\"df-eda90e07-8e96-4a39-b2d5-ed08af8aa00c\">\n",
              "    <div class=\"colab-df-container\">\n",
              "      <div>\n",
              "<style scoped>\n",
              "    .dataframe tbody tr th:only-of-type {\n",
              "        vertical-align: middle;\n",
              "    }\n",
              "\n",
              "    .dataframe tbody tr th {\n",
              "        vertical-align: top;\n",
              "    }\n",
              "\n",
              "    .dataframe thead th {\n",
              "        text-align: right;\n",
              "    }\n",
              "</style>\n",
              "<table border=\"1\" class=\"dataframe\">\n",
              "  <thead>\n",
              "    <tr style=\"text-align: right;\">\n",
              "      <th></th>\n",
              "      <th>총중간투입률</th>\n",
              "      <th>국산중간투입률</th>\n",
              "      <th>수입중간투입률</th>\n",
              "      <th>국산화율</th>\n",
              "      <th>부가가치율</th>\n",
              "    </tr>\n",
              "  </thead>\n",
              "  <tbody>\n",
              "    <tr>\n",
              "      <th>농산품</th>\n",
              "      <td>1.7</td>\n",
              "      <td>43.3</td>\n",
              "      <td>1.7</td>\n",
              "      <td>2600.0</td>\n",
              "      <td>55.0</td>\n",
              "    </tr>\n",
              "    <tr>\n",
              "      <th>공산품</th>\n",
              "      <td>3.3</td>\n",
              "      <td>48.1</td>\n",
              "      <td>21.0</td>\n",
              "      <td>1436.7</td>\n",
              "      <td>30.9</td>\n",
              "    </tr>\n",
              "    <tr>\n",
              "      <th>서비스</th>\n",
              "      <td>4.1</td>\n",
              "      <td>39.9</td>\n",
              "      <td>5.3</td>\n",
              "      <td>976.0</td>\n",
              "      <td>54.8</td>\n",
              "    </tr>\n",
              "    <tr>\n",
              "      <th>전품목</th>\n",
              "      <td>3.7</td>\n",
              "      <td>43.4</td>\n",
              "      <td>11.8</td>\n",
              "      <td>1157.8</td>\n",
              "      <td>44.8</td>\n",
              "    </tr>\n",
              "  </tbody>\n",
              "</table>\n",
              "</div>\n",
              "      <button class=\"colab-df-convert\" onclick=\"convertToInteractive('df-eda90e07-8e96-4a39-b2d5-ed08af8aa00c')\"\n",
              "              title=\"Convert this dataframe to an interactive table.\"\n",
              "              style=\"display:none;\">\n",
              "        \n",
              "  <svg xmlns=\"http://www.w3.org/2000/svg\" height=\"24px\"viewBox=\"0 0 24 24\"\n",
              "       width=\"24px\">\n",
              "    <path d=\"M0 0h24v24H0V0z\" fill=\"none\"/>\n",
              "    <path d=\"M18.56 5.44l.94 2.06.94-2.06 2.06-.94-2.06-.94-.94-2.06-.94 2.06-2.06.94zm-11 1L8.5 8.5l.94-2.06 2.06-.94-2.06-.94L8.5 2.5l-.94 2.06-2.06.94zm10 10l.94 2.06.94-2.06 2.06-.94-2.06-.94-.94-2.06-.94 2.06-2.06.94z\"/><path d=\"M17.41 7.96l-1.37-1.37c-.4-.4-.92-.59-1.43-.59-.52 0-1.04.2-1.43.59L10.3 9.45l-7.72 7.72c-.78.78-.78 2.05 0 2.83L4 21.41c.39.39.9.59 1.41.59.51 0 1.02-.2 1.41-.59l7.78-7.78 2.81-2.81c.8-.78.8-2.07 0-2.86zM5.41 20L4 18.59l7.72-7.72 1.47 1.35L5.41 20z\"/>\n",
              "  </svg>\n",
              "      </button>\n",
              "      \n",
              "  <style>\n",
              "    .colab-df-container {\n",
              "      display:flex;\n",
              "      flex-wrap:wrap;\n",
              "      gap: 12px;\n",
              "    }\n",
              "\n",
              "    .colab-df-convert {\n",
              "      background-color: #E8F0FE;\n",
              "      border: none;\n",
              "      border-radius: 50%;\n",
              "      cursor: pointer;\n",
              "      display: none;\n",
              "      fill: #1967D2;\n",
              "      height: 32px;\n",
              "      padding: 0 0 0 0;\n",
              "      width: 32px;\n",
              "    }\n",
              "\n",
              "    .colab-df-convert:hover {\n",
              "      background-color: #E2EBFA;\n",
              "      box-shadow: 0px 1px 2px rgba(60, 64, 67, 0.3), 0px 1px 3px 1px rgba(60, 64, 67, 0.15);\n",
              "      fill: #174EA6;\n",
              "    }\n",
              "\n",
              "    [theme=dark] .colab-df-convert {\n",
              "      background-color: #3B4455;\n",
              "      fill: #D2E3FC;\n",
              "    }\n",
              "\n",
              "    [theme=dark] .colab-df-convert:hover {\n",
              "      background-color: #434B5C;\n",
              "      box-shadow: 0px 1px 3px 1px rgba(0, 0, 0, 0.15);\n",
              "      filter: drop-shadow(0px 1px 2px rgba(0, 0, 0, 0.3));\n",
              "      fill: #FFFFFF;\n",
              "    }\n",
              "  </style>\n",
              "\n",
              "      <script>\n",
              "        const buttonEl =\n",
              "          document.querySelector('#df-eda90e07-8e96-4a39-b2d5-ed08af8aa00c button.colab-df-convert');\n",
              "        buttonEl.style.display =\n",
              "          google.colab.kernel.accessAllowed ? 'block' : 'none';\n",
              "\n",
              "        async function convertToInteractive(key) {\n",
              "          const element = document.querySelector('#df-eda90e07-8e96-4a39-b2d5-ed08af8aa00c');\n",
              "          const dataTable =\n",
              "            await google.colab.kernel.invokeFunction('convertToInteractive',\n",
              "                                                     [key], {});\n",
              "          if (!dataTable) return;\n",
              "\n",
              "          const docLinkHtml = 'Like what you see? Visit the ' +\n",
              "            '<a target=\"_blank\" href=https://colab.research.google.com/notebooks/data_table.ipynb>data table notebook</a>'\n",
              "            + ' to learn more about interactive tables.';\n",
              "          element.innerHTML = '';\n",
              "          dataTable['output_type'] = 'display_data';\n",
              "          await google.colab.output.renderOutput(dataTable, element);\n",
              "          const docLink = document.createElement('div');\n",
              "          docLink.innerHTML = docLinkHtml;\n",
              "          element.appendChild(docLink);\n",
              "        }\n",
              "      </script>\n",
              "    </div>\n",
              "  </div>\n",
              "  "
            ]
          },
          "metadata": {},
          "execution_count": 13
        }
      ]
    },
    {
      "cell_type": "markdown",
      "source": [
        "#### 배분구조"
      ],
      "metadata": {
        "id": "C6KfGPX5g9TI"
      }
    },
    {
      "cell_type": "code",
      "source": [
        "Tot_sup =Tt[0:4,-1]  # 총공급(산출액+수입)\n",
        "Dom_ct =Dt[0:4,-1]  # 산출액\n",
        "Imp_tot=It[0:4,-1]   # 총수입\n",
        "\n",
        "Tt_itd = Tt[0:4,4] # 총거래표의 각 산업별 및 총산업의 중간수요계\n",
        "Dt_itd = Dt[0:4,4] # 국산거래표의 각 산업별 및 총산업의 중간수요계\n",
        "It_itd = It[0:4,4] # 수입거래표의 각 산업별 및 총산업의 중간수요계\n",
        "\n",
        "Tot_dmd = Tt[0:4,-1] # 각 제품별 및 전품목 총수요계\n",
        "Fd =Tt[0:4,-2]\n",
        "Exp = Tt[0:4,-3]  # 각 제품별 및 전품목 수출\n",
        "\n",
        "print(Tot_sup)\n",
        "print(Dom_ct)\n",
        "print(Imp_tot)\n",
        "\n",
        "print(Tt_itd)\n",
        "print(Dt_itd)\n",
        "print(It_itd)\n",
        "\n",
        "print(Tot_dmd)\n",
        "print(Fd)\n",
        "print(Exp)"
      ],
      "metadata": {
        "id": "IWpo8RCb6EsB",
        "colab": {
          "base_uri": "https://localhost:8080/"
        },
        "outputId": "a05067bd-a796-4a25-c918-00d584682270"
      },
      "execution_count": 14,
      "outputs": [
        {
          "output_type": "stream",
          "name": "stdout",
          "text": [
            "[72.0 2369.0 2552.0 4993.0]\n",
            "[60.0 1792.0 2447.0 4299.0]\n",
            "[12.0 577.0 105.0 694.0]\n",
            "[53.0 1361.0 957.0 2371.0]\n",
            "[45.0 925.0 894.0 1864.0]\n",
            "[8.0 436.0 63.0 507.0]\n",
            "[72.0 2369.0 2552.0 4993.0]\n",
            "[19.0 1008.0 1595.0 2622.0]\n",
            "[1.0 628.0 131.0 760.0]\n"
          ]
        }
      ]
    },
    {
      "cell_type": "code",
      "source": [
        "Itd_r = (Tt_itd/Tot_dmd).reshape([4,1]).astype(float).round(3) # 중간수요율 = 중간수요계/총수요\n",
        "ftd_r = (Fd/Tot_dmd).reshape([4,1]).astype(float).round(3) # 최종수요율 = 최종수요계/총수요\n",
        "Exp_r = (Exp/Dom_ct).reshape([4,1]).astype(float).round(3) # 수출률 = 수출/총산출액\n",
        "Imp_r = (Imp_tot/Tot_sup).reshape([4,1]).astype(float).round(3)\n",
        "\n",
        "print(Itd_r)\n",
        "print(ftd_r)\n",
        "print(Exp_r)\n",
        "print(Imp_r)"
      ],
      "metadata": {
        "id": "lcVwawkrPi5t",
        "colab": {
          "base_uri": "https://localhost:8080/"
        },
        "outputId": "b9021f06-2e6d-426a-a352-8008e26d7583"
      },
      "execution_count": 15,
      "outputs": [
        {
          "output_type": "stream",
          "name": "stdout",
          "text": [
            "[[0.736]\n",
            " [0.575]\n",
            " [0.375]\n",
            " [0.475]]\n",
            "[[0.264]\n",
            " [0.425]\n",
            " [0.625]\n",
            " [0.525]]\n",
            "[[0.017]\n",
            " [0.35 ]\n",
            " [0.054]\n",
            " [0.177]]\n",
            "[[0.167]\n",
            " [0.244]\n",
            " [0.041]\n",
            " [0.139]]\n"
          ]
        }
      ]
    },
    {
      "cell_type": "code",
      "source": [
        "# 중간수요율, 최종수요율, 수출률 및 수입비율 열방향으로 부치기\n",
        "\n",
        "dst_str = (np.concatenate((Itd_r, ftd_r, Exp_r, Imp_r), axis=1)*100)\n",
        "dst_strr = dst_str.astype(float).round(1)\n",
        "dst_strr"
      ],
      "metadata": {
        "id": "goO-V0B5PjRD",
        "colab": {
          "base_uri": "https://localhost:8080/"
        },
        "outputId": "0d9f9bda-e33f-4f83-ca6d-4f6366cfaf56"
      },
      "execution_count": 16,
      "outputs": [
        {
          "output_type": "execute_result",
          "data": {
            "text/plain": [
              "array([[73.6, 26.4,  1.7, 16.7],\n",
              "       [57.5, 42.5, 35. , 24.4],\n",
              "       [37.5, 62.5,  5.4,  4.1],\n",
              "       [47.5, 52.5, 17.7, 13.9]])"
            ]
          },
          "metadata": {},
          "execution_count": 16
        }
      ]
    },
    {
      "cell_type": "code",
      "source": [
        "dst_f = pd.DataFrame(dst_strr, columns = ['중간수요율', '최종수요율', '수출률', '수입비율'],\n",
        "                       index = ['농산품','공산품','서비스','전품목'])\n",
        "dst_f"
      ],
      "metadata": {
        "id": "e6XjOxqezsd3",
        "outputId": "44c1790d-9e3d-42cd-86e5-1c0dd85fee0d",
        "colab": {
          "base_uri": "https://localhost:8080/",
          "height": 175
        }
      },
      "execution_count": 17,
      "outputs": [
        {
          "output_type": "execute_result",
          "data": {
            "text/plain": [
              "     중간수요율  최종수요율   수출률  수입비율\n",
              "농산품   73.6   26.4   1.7  16.7\n",
              "공산품   57.5   42.5  35.0  24.4\n",
              "서비스   37.5   62.5   5.4   4.1\n",
              "전품목   47.5   52.5  17.7  13.9"
            ],
            "text/html": [
              "\n",
              "  <div id=\"df-21119757-bc5c-487a-b101-55254089a0e5\">\n",
              "    <div class=\"colab-df-container\">\n",
              "      <div>\n",
              "<style scoped>\n",
              "    .dataframe tbody tr th:only-of-type {\n",
              "        vertical-align: middle;\n",
              "    }\n",
              "\n",
              "    .dataframe tbody tr th {\n",
              "        vertical-align: top;\n",
              "    }\n",
              "\n",
              "    .dataframe thead th {\n",
              "        text-align: right;\n",
              "    }\n",
              "</style>\n",
              "<table border=\"1\" class=\"dataframe\">\n",
              "  <thead>\n",
              "    <tr style=\"text-align: right;\">\n",
              "      <th></th>\n",
              "      <th>중간수요율</th>\n",
              "      <th>최종수요율</th>\n",
              "      <th>수출률</th>\n",
              "      <th>수입비율</th>\n",
              "    </tr>\n",
              "  </thead>\n",
              "  <tbody>\n",
              "    <tr>\n",
              "      <th>농산품</th>\n",
              "      <td>73.6</td>\n",
              "      <td>26.4</td>\n",
              "      <td>1.7</td>\n",
              "      <td>16.7</td>\n",
              "    </tr>\n",
              "    <tr>\n",
              "      <th>공산품</th>\n",
              "      <td>57.5</td>\n",
              "      <td>42.5</td>\n",
              "      <td>35.0</td>\n",
              "      <td>24.4</td>\n",
              "    </tr>\n",
              "    <tr>\n",
              "      <th>서비스</th>\n",
              "      <td>37.5</td>\n",
              "      <td>62.5</td>\n",
              "      <td>5.4</td>\n",
              "      <td>4.1</td>\n",
              "    </tr>\n",
              "    <tr>\n",
              "      <th>전품목</th>\n",
              "      <td>47.5</td>\n",
              "      <td>52.5</td>\n",
              "      <td>17.7</td>\n",
              "      <td>13.9</td>\n",
              "    </tr>\n",
              "  </tbody>\n",
              "</table>\n",
              "</div>\n",
              "      <button class=\"colab-df-convert\" onclick=\"convertToInteractive('df-21119757-bc5c-487a-b101-55254089a0e5')\"\n",
              "              title=\"Convert this dataframe to an interactive table.\"\n",
              "              style=\"display:none;\">\n",
              "        \n",
              "  <svg xmlns=\"http://www.w3.org/2000/svg\" height=\"24px\"viewBox=\"0 0 24 24\"\n",
              "       width=\"24px\">\n",
              "    <path d=\"M0 0h24v24H0V0z\" fill=\"none\"/>\n",
              "    <path d=\"M18.56 5.44l.94 2.06.94-2.06 2.06-.94-2.06-.94-.94-2.06-.94 2.06-2.06.94zm-11 1L8.5 8.5l.94-2.06 2.06-.94-2.06-.94L8.5 2.5l-.94 2.06-2.06.94zm10 10l.94 2.06.94-2.06 2.06-.94-2.06-.94-.94-2.06-.94 2.06-2.06.94z\"/><path d=\"M17.41 7.96l-1.37-1.37c-.4-.4-.92-.59-1.43-.59-.52 0-1.04.2-1.43.59L10.3 9.45l-7.72 7.72c-.78.78-.78 2.05 0 2.83L4 21.41c.39.39.9.59 1.41.59.51 0 1.02-.2 1.41-.59l7.78-7.78 2.81-2.81c.8-.78.8-2.07 0-2.86zM5.41 20L4 18.59l7.72-7.72 1.47 1.35L5.41 20z\"/>\n",
              "  </svg>\n",
              "      </button>\n",
              "      \n",
              "  <style>\n",
              "    .colab-df-container {\n",
              "      display:flex;\n",
              "      flex-wrap:wrap;\n",
              "      gap: 12px;\n",
              "    }\n",
              "\n",
              "    .colab-df-convert {\n",
              "      background-color: #E8F0FE;\n",
              "      border: none;\n",
              "      border-radius: 50%;\n",
              "      cursor: pointer;\n",
              "      display: none;\n",
              "      fill: #1967D2;\n",
              "      height: 32px;\n",
              "      padding: 0 0 0 0;\n",
              "      width: 32px;\n",
              "    }\n",
              "\n",
              "    .colab-df-convert:hover {\n",
              "      background-color: #E2EBFA;\n",
              "      box-shadow: 0px 1px 2px rgba(60, 64, 67, 0.3), 0px 1px 3px 1px rgba(60, 64, 67, 0.15);\n",
              "      fill: #174EA6;\n",
              "    }\n",
              "\n",
              "    [theme=dark] .colab-df-convert {\n",
              "      background-color: #3B4455;\n",
              "      fill: #D2E3FC;\n",
              "    }\n",
              "\n",
              "    [theme=dark] .colab-df-convert:hover {\n",
              "      background-color: #434B5C;\n",
              "      box-shadow: 0px 1px 3px 1px rgba(0, 0, 0, 0.15);\n",
              "      filter: drop-shadow(0px 1px 2px rgba(0, 0, 0, 0.3));\n",
              "      fill: #FFFFFF;\n",
              "    }\n",
              "  </style>\n",
              "\n",
              "      <script>\n",
              "        const buttonEl =\n",
              "          document.querySelector('#df-21119757-bc5c-487a-b101-55254089a0e5 button.colab-df-convert');\n",
              "        buttonEl.style.display =\n",
              "          google.colab.kernel.accessAllowed ? 'block' : 'none';\n",
              "\n",
              "        async function convertToInteractive(key) {\n",
              "          const element = document.querySelector('#df-21119757-bc5c-487a-b101-55254089a0e5');\n",
              "          const dataTable =\n",
              "            await google.colab.kernel.invokeFunction('convertToInteractive',\n",
              "                                                     [key], {});\n",
              "          if (!dataTable) return;\n",
              "\n",
              "          const docLinkHtml = 'Like what you see? Visit the ' +\n",
              "            '<a target=\"_blank\" href=https://colab.research.google.com/notebooks/data_table.ipynb>data table notebook</a>'\n",
              "            + ' to learn more about interactive tables.';\n",
              "          element.innerHTML = '';\n",
              "          dataTable['output_type'] = 'display_data';\n",
              "          await google.colab.output.renderOutput(dataTable, element);\n",
              "          const docLink = document.createElement('div');\n",
              "          docLink.innerHTML = docLinkHtml;\n",
              "          element.appendChild(docLink);\n",
              "        }\n",
              "      </script>\n",
              "    </div>\n",
              "  </div>\n",
              "  "
            ]
          },
          "metadata": {},
          "execution_count": 17
        }
      ]
    },
    {
      "cell_type": "code",
      "source": [
        "# 데이터 내보내기\n",
        "input_f.to_csv('투입구조.csv', encoding=\"utf-8-sig\")\n",
        "dst_f.to_csv('배분구조.csv', encoding=\"utf-8-sig\")"
      ],
      "metadata": {
        "id": "uRtUBmWfzn28"
      },
      "execution_count": 18,
      "outputs": []
    },
    {
      "cell_type": "code",
      "source": [],
      "metadata": {
        "id": "ir7uuQRJlVEC"
      },
      "execution_count": 18,
      "outputs": []
    }
  ]
}