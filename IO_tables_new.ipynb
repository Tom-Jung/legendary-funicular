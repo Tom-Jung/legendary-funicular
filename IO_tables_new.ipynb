{
  "nbformat": 4,
  "nbformat_minor": 0,
  "metadata": {
    "colab": {
      "provenance": [],
      "mount_file_id": "https://github.com/Tom-Jung/legendary-funicular/blob/main/IO_tables.ipynb",
      "authorship_tag": "ABX9TyMxV9lxnVvbQIcwMyDqfiNl",
      "include_colab_link": true
    },
    "kernelspec": {
      "name": "python3",
      "display_name": "Python 3"
    },
    "language_info": {
      "name": "python"
    }
  },
  "cells": [
    {
      "cell_type": "markdown",
      "metadata": {
        "id": "view-in-github",
        "colab_type": "text"
      },
      "source": [
        "<a href=\"https://colab.research.google.com/github/Tom-Jung/legendary-funicular/blob/main/IO_tables_new.ipynb\" target=\"_parent\"><img src=\"https://colab.research.google.com/assets/colab-badge.svg\" alt=\"Open In Colab\"/></a>"
      ]
    },
    {
      "cell_type": "code",
      "source": [
        "import numpy as np   # Numpy import\n",
        "import pandas as pd  # Pandas import"
      ],
      "metadata": {
        "id": "TR7JvW8CxBFT"
      },
      "execution_count": 85,
      "outputs": []
    },
    {
      "cell_type": "markdown",
      "source": [
        "## 행렬 연산의 기초"
      ],
      "metadata": {
        "id": "Ja1OCBr1_w2z"
      }
    },
    {
      "cell_type": "code",
      "source": [
        "A = np.array([[8, 5, 1],  # 2차원 행렬 A, B 생성\n",
        "              [2, 3, 4],\n",
        "              [6, 2, 2]])  \n",
        "\n",
        "B = np.array([[4, 6, 0],\n",
        "              [2, 1, 5],\n",
        "              [4, 3, 2]])  \n",
        "print('A : ')\n",
        "print(A)\n",
        "print('B : ')\n",
        "print(B)\n"
      ],
      "metadata": {
        "colab": {
          "base_uri": "https://localhost:8080/"
        },
        "id": "bE7ul3WV5aNo",
        "outputId": "db9a8a34-296b-459b-93ca-5dd20e05ef39"
      },
      "execution_count": 86,
      "outputs": [
        {
          "output_type": "stream",
          "name": "stdout",
          "text": [
            "A : \n",
            "[[8 5 1]\n",
            " [2 3 4]\n",
            " [6 2 2]]\n",
            "B : \n",
            "[[4 6 0]\n",
            " [2 1 5]\n",
            " [4 3 2]]\n"
          ]
        }
      ]
    },
    {
      "cell_type": "code",
      "source": [
        "print('A + B : ')\n",
        "print(A+B)\n",
        "print('A - B : ')\n",
        "print(A-B)"
      ],
      "metadata": {
        "id": "z3eiuCLI5aQH",
        "outputId": "5ffc48e4-7be0-4139-b36d-c0b333f51733",
        "colab": {
          "base_uri": "https://localhost:8080/"
        }
      },
      "execution_count": 87,
      "outputs": [
        {
          "output_type": "stream",
          "name": "stdout",
          "text": [
            "A + B : \n",
            "[[12 11  1]\n",
            " [ 4  4  9]\n",
            " [10  5  4]]\n",
            "A - B : \n",
            "[[ 4 -1  1]\n",
            " [ 0  2 -1]\n",
            " [ 2 -1  0]]\n"
          ]
        }
      ]
    },
    {
      "cell_type": "code",
      "source": [
        "print('A + B : ')\n",
        "print(A+B)\n",
        "print('A - B : ')\n",
        "print(A-B)\n"
      ],
      "metadata": {
        "id": "sEmFugS_5aSl",
        "outputId": "8a2cf75f-f7a3-4c73-db8b-62ed3eacca32",
        "colab": {
          "base_uri": "https://localhost:8080/"
        }
      },
      "execution_count": 88,
      "outputs": [
        {
          "output_type": "stream",
          "name": "stdout",
          "text": [
            "A + B : \n",
            "[[12 11  1]\n",
            " [ 4  4  9]\n",
            " [10  5  4]]\n",
            "A - B : \n",
            "[[ 4 -1  1]\n",
            " [ 0  2 -1]\n",
            " [ 2 -1  0]]\n"
          ]
        }
      ]
    },
    {
      "cell_type": "code",
      "source": [
        "Cab = A.dot(B)  #AB\n",
        "Cba = B.dot(A)  #BA\n",
        "CAB = A*B       #A*B(행렬원소간의 곱)\n",
        "\n",
        "print('AB : ')\n",
        "print(Cab)\n",
        "print('BA : ')\n",
        "print(Cba)\n",
        "print('A*B : ')\n",
        "print(CAB)"
      ],
      "metadata": {
        "id": "CtVQ49ZK5aU2",
        "outputId": "cdd5416b-87d4-4d55-e06c-9636e6bdfcee",
        "colab": {
          "base_uri": "https://localhost:8080/"
        }
      },
      "execution_count": 89,
      "outputs": [
        {
          "output_type": "stream",
          "name": "stdout",
          "text": [
            "AB : \n",
            "[[46 56 27]\n",
            " [30 27 23]\n",
            " [36 44 14]]\n",
            "BA : \n",
            "[[44 38 28]\n",
            " [48 23 16]\n",
            " [50 33 20]]\n",
            "A*B : \n",
            "[[32 30  0]\n",
            " [ 4  3 20]\n",
            " [24  6  4]]\n"
          ]
        }
      ]
    },
    {
      "cell_type": "code",
      "source": [
        "A_inv = np.linalg.inv(A)  # A의 역행렬 구하기\n",
        "B_inv = np.linalg.inv(B)  # B의  역행렬 구하기\n",
        "\n",
        "print('A의 역행렬 A-1 : ')\n",
        "print(A_inv)\n",
        "print('B의 역행렬 B-1 : ')\n",
        "print(B_inv)\n"
      ],
      "metadata": {
        "outputId": "5556a82c-122f-4744-ab7b-e258e95242db",
        "colab": {
          "base_uri": "https://localhost:8080/"
        },
        "id": "n1MibQ1Coa29"
      },
      "execution_count": 91,
      "outputs": [
        {
          "output_type": "stream",
          "name": "stdout",
          "text": [
            "A의 역행렬 A-1 : \n",
            "[[-0.02857143 -0.11428571  0.24285714]\n",
            " [ 0.28571429  0.14285714 -0.42857143]\n",
            " [-0.2         0.2         0.2       ]]\n",
            "B의 역행렬 B-1 : \n",
            "[[-0.29545455 -0.27272727  0.68181818]\n",
            " [ 0.36363636  0.18181818 -0.45454545]\n",
            " [ 0.04545455  0.27272727 -0.18181818]]\n"
          ]
        }
      ]
    },
    {
      "cell_type": "markdown",
      "source": [
        "##### 1차원 배열"
      ],
      "metadata": {
        "id": "l1WzNNfRFOEX"
      }
    },
    {
      "cell_type": "code",
      "source": [
        "one_d = np.array([1,2,3,4,5,6,7,8])  # 1차원 배열\n",
        "print(one_d)             # 배열 출력\n",
        "print(one_d.ndim)        # 배열의 차원\n",
        "print(one_d.shape)       # 행과 열의 수"
      ],
      "metadata": {
        "id": "P_nOP9ahC8CK",
        "outputId": "3918602a-5c4f-411a-a9dc-1b22aa10dc77",
        "colab": {
          "base_uri": "https://localhost:8080/"
        }
      },
      "execution_count": 92,
      "outputs": [
        {
          "output_type": "stream",
          "name": "stdout",
          "text": [
            "[1 2 3 4 5 6 7 8]\n",
            "1\n",
            "(8,)\n"
          ]
        }
      ]
    },
    {
      "cell_type": "markdown",
      "source": [
        "##### 2차원 배열"
      ],
      "metadata": {
        "id": "KNW5jqWPFRdT"
      }
    },
    {
      "cell_type": "code",
      "source": [
        "two_d = np.array([[1,2,3,4],[5,6,7,8]])\n",
        "print(two_d)             # 배열 출력\n",
        "print(two_d.ndim)        # 배열의 차원\n",
        "print(two_d.shape)       # 행과 열의 수"
      ],
      "metadata": {
        "id": "h5idXd_tE4ek",
        "outputId": "4b720876-d5e1-4850-fc7d-63406b5f275d",
        "colab": {
          "base_uri": "https://localhost:8080/"
        }
      },
      "execution_count": 93,
      "outputs": [
        {
          "output_type": "stream",
          "name": "stdout",
          "text": [
            "[[1 2 3 4]\n",
            " [5 6 7 8]]\n",
            "2\n",
            "(2, 4)\n"
          ]
        }
      ]
    },
    {
      "cell_type": "code",
      "source": [
        "one_d_24 = one_d.reshape([2,4])  # reshape을 통한 행렬의 변형(1차원 배열에서 행렬 형태로 변형)\n",
        "print(one_d_24)\n",
        "print(one_d_24.shape)"
      ],
      "metadata": {
        "id": "V_7v_suwC8Fd",
        "outputId": "ad42b56a-04f5-4911-f546-84be8aa3da7c",
        "colab": {
          "base_uri": "https://localhost:8080/"
        }
      },
      "execution_count": 94,
      "outputs": [
        {
          "output_type": "stream",
          "name": "stdout",
          "text": [
            "[[1 2 3 4]\n",
            " [5 6 7 8]]\n",
            "(2, 4)\n"
          ]
        }
      ]
    },
    {
      "cell_type": "code",
      "source": [
        "two_d_42 = two_d.reshape([4,2])  # reshape을 통한 행렬의 변형\n",
        "print(two_d_42)"
      ],
      "metadata": {
        "id": "yLo8jwGbC8JT",
        "outputId": "0fcb5179-2fec-4b21-fc28-81778ce2ec44",
        "colab": {
          "base_uri": "https://localhost:8080/"
        }
      },
      "execution_count": 95,
      "outputs": [
        {
          "output_type": "stream",
          "name": "stdout",
          "text": [
            "[[1 2]\n",
            " [3 4]\n",
            " [5 6]\n",
            " [7 8]]\n"
          ]
        }
      ]
    },
    {
      "cell_type": "code",
      "source": [
        "slc_row = two_d_42[-1]  # 마지막 행 선택\n",
        "slc_col = two_d_42[:,-1]  # 마지막 열 선택\n",
        "slc_tb = two_d_42[0:3,0:1] #  3행 1열 선택\n",
        "print(slc_row)\n",
        "print(slc_col)\n",
        "print(slc_tb)"
      ],
      "metadata": {
        "id": "oMcanNA_hA1i",
        "outputId": "e5574a46-1f14-4907-dc02-8515cb5e0631",
        "colab": {
          "base_uri": "https://localhost:8080/"
        }
      },
      "execution_count": 96,
      "outputs": [
        {
          "output_type": "stream",
          "name": "stdout",
          "text": [
            "[7 8]\n",
            "[2 4 6 8]\n",
            "[[1]\n",
            " [3]\n",
            " [5]]\n"
          ]
        }
      ]
    },
    {
      "cell_type": "code",
      "source": [
        "mt_rp = np.tile(slc_row, reps=[4,1])   # 선택한 행 반복\n",
        "print(mt_rp)"
      ],
      "metadata": {
        "id": "XBIEUwU8hA48",
        "outputId": "908e7191-1ba4-4910-f2b6-64c65e6a0f61",
        "colab": {
          "base_uri": "https://localhost:8080/"
        }
      },
      "execution_count": null,
      "outputs": [
        {
          "output_type": "stream",
          "name": "stdout",
          "text": [
            "[[7 8]\n",
            " [7 8]\n",
            " [7 8]\n",
            " [7 8]]\n"
          ]
        }
      ]
    },
    {
      "cell_type": "code",
      "source": [],
      "metadata": {
        "id": "xgwP6W43hA8N"
      },
      "execution_count": null,
      "outputs": []
    },
    {
      "cell_type": "markdown",
      "source": [
        "##### Numpy에서는 여러 차원의 배열을 지정할 수 있으며 행렬 연산을 위해서는 2차원 배열이 필요"
      ],
      "metadata": {
        "id": "s0U8t16OFVpS"
      }
    },
    {
      "cell_type": "code",
      "source": [
        "A = np.array([[2, 5, 4],[1, 3, 5],[8, 9, 0]])  # 2차원 행렬생성\n",
        "B = np.array([[2, 5, 4],[1, 3, 5],[8, 9, 0]])  # 2차원 행렬생성\n"
      ],
      "metadata": {
        "id": "EdUSFgpu_v7P"
      },
      "execution_count": null,
      "outputs": []
    },
    {
      "cell_type": "code",
      "source": [
        "print(A)\n",
        "print(A.ndim)\n",
        "print(A.shape)"
      ],
      "metadata": {
        "id": "ocIY6lfA_v_Q",
        "outputId": "9aff2a83-2f09-443b-ae87-db69a6972d83",
        "colab": {
          "base_uri": "https://localhost:8080/"
        }
      },
      "execution_count": null,
      "outputs": [
        {
          "output_type": "stream",
          "name": "stdout",
          "text": [
            "[[2 5 4]\n",
            " [1 3 5]\n",
            " [8 9 0]]\n",
            "2\n",
            "(3, 3)\n"
          ]
        }
      ]
    },
    {
      "cell_type": "code",
      "source": [
        "I = np.eye(3) # 단위행렬\n",
        "Z = np.zeros((3,3))   # 영 행렬\n",
        "\n",
        "print('단위행렬 : \\n', I)\n",
        "print('영행렬 : \\n', Z)"
      ],
      "metadata": {
        "id": "MvRByUCfAWAR",
        "outputId": "82b0d0e1-a458-4847-e4ee-8f583ec44614",
        "colab": {
          "base_uri": "https://localhost:8080/"
        }
      },
      "execution_count": 101,
      "outputs": [
        {
          "output_type": "stream",
          "name": "stdout",
          "text": [
            "단위행렬 : \n",
            " [[1. 0. 0.]\n",
            " [0. 1. 0.]\n",
            " [0. 0. 1.]]\n",
            "영행렬 : \n",
            " [[0. 0. 0.]\n",
            " [0. 0. 0.]\n",
            " [0. 0. 0.]]\n"
          ]
        }
      ]
    },
    {
      "cell_type": "code",
      "source": [
        "Z = np.zeros((3,3))   # 영 행렬\n",
        "Z"
      ],
      "metadata": {
        "id": "G8nKmhQx_wDE",
        "outputId": "35591eb5-58eb-4048-cfc3-34dd471ea5c7",
        "colab": {
          "base_uri": "https://localhost:8080/"
        }
      },
      "execution_count": null,
      "outputs": [
        {
          "output_type": "execute_result",
          "data": {
            "text/plain": [
              "array([[0., 0., 0.],\n",
              "       [0., 0., 0.],\n",
              "       [0., 0., 0.]])"
            ]
          },
          "metadata": {},
          "execution_count": 12
        }
      ]
    },
    {
      "cell_type": "code",
      "source": [
        "One = np.ones((3,3)) # 모든 요소가 1인 행렬\n",
        "One"
      ],
      "metadata": {
        "id": "XY5jFNnO_wHd",
        "outputId": "ce05d351-6613-421f-e413-92ffe5221e55",
        "colab": {
          "base_uri": "https://localhost:8080/"
        }
      },
      "execution_count": null,
      "outputs": [
        {
          "output_type": "execute_result",
          "data": {
            "text/plain": [
              "array([[1., 1., 1.],\n",
              "       [1., 1., 1.],\n",
              "       [1., 1., 1.]])"
            ]
          },
          "metadata": {},
          "execution_count": 13
        }
      ]
    },
    {
      "cell_type": "code",
      "source": [
        "Dg = np.diag(one_d)   # 대각행렬\n",
        "Dg"
      ],
      "metadata": {
        "id": "lLGiL20HMtx-",
        "outputId": "674c0553-c1e6-4333-9683-5a6d4d4629d7",
        "colab": {
          "base_uri": "https://localhost:8080/"
        }
      },
      "execution_count": null,
      "outputs": [
        {
          "output_type": "execute_result",
          "data": {
            "text/plain": [
              "array([[1, 0, 0, 0, 0, 0, 0, 0],\n",
              "       [0, 2, 0, 0, 0, 0, 0, 0],\n",
              "       [0, 0, 3, 0, 0, 0, 0, 0],\n",
              "       [0, 0, 0, 4, 0, 0, 0, 0],\n",
              "       [0, 0, 0, 0, 5, 0, 0, 0],\n",
              "       [0, 0, 0, 0, 0, 6, 0, 0],\n",
              "       [0, 0, 0, 0, 0, 0, 7, 0],\n",
              "       [0, 0, 0, 0, 0, 0, 0, 8]])"
            ]
          },
          "metadata": {},
          "execution_count": 14
        }
      ]
    },
    {
      "cell_type": "code",
      "source": [
        "Dg_slc = np.diag(Dg) # 대각행렬 추출\n",
        "Dg_slc"
      ],
      "metadata": {
        "id": "ly2BKf_6Mt2D",
        "outputId": "71fb77f9-4b4b-4be8-c975-b1b6dc2dfcd4",
        "colab": {
          "base_uri": "https://localhost:8080/"
        }
      },
      "execution_count": null,
      "outputs": [
        {
          "output_type": "execute_result",
          "data": {
            "text/plain": [
              "array([1, 2, 3, 4, 5, 6, 7, 8])"
            ]
          },
          "metadata": {},
          "execution_count": 15
        }
      ]
    },
    {
      "cell_type": "code",
      "source": [
        "B = np.array([[1, 5, 6],[7, 2, 4],[3, 0, 9]])  # 2차원 행렬생성\n",
        "B"
      ],
      "metadata": {
        "id": "_WQ8NCh6_wKs",
        "outputId": "d347307b-e86b-4192-d5f8-f89f5b6ae547",
        "colab": {
          "base_uri": "https://localhost:8080/"
        }
      },
      "execution_count": null,
      "outputs": [
        {
          "output_type": "execute_result",
          "data": {
            "text/plain": [
              "array([[1, 5, 6],\n",
              "       [7, 2, 4],\n",
              "       [3, 0, 9]])"
            ]
          },
          "metadata": {},
          "execution_count": 16
        }
      ]
    },
    {
      "cell_type": "code",
      "source": [
        "C = A + B  # 덧셈\n",
        "D = A - B  # 뺄셈\n",
        "print('C : ')\n",
        "print(C)\n",
        "print('D : ')\n",
        "print(D)"
      ],
      "metadata": {
        "id": "HxlfIaO__wN7",
        "outputId": "953326e3-2b0d-41ce-e5e6-8eaf2f4b9e8e",
        "colab": {
          "base_uri": "https://localhost:8080/"
        }
      },
      "execution_count": null,
      "outputs": [
        {
          "output_type": "stream",
          "name": "stdout",
          "text": [
            "C : \n",
            "[[ 3 10 10]\n",
            " [ 8  5  9]\n",
            " [11  9  9]]\n",
            "D : \n",
            "[[ 1  0 -2]\n",
            " [-6  1  1]\n",
            " [ 5  9 -9]]\n"
          ]
        }
      ]
    },
    {
      "cell_type": "code",
      "source": [
        "print('A : ')\n",
        "print(A)\n",
        "print('B : ')\n",
        "print(B)\n",
        "E = A * B  # 행렬의 같은 원소끼리 곱\n",
        "print('E : ')\n",
        "print(E)"
      ],
      "metadata": {
        "id": "pQfaSqog_wQv",
        "outputId": "a194fef4-605c-4324-a067-1280bcf8ea11",
        "colab": {
          "base_uri": "https://localhost:8080/"
        }
      },
      "execution_count": null,
      "outputs": [
        {
          "output_type": "stream",
          "name": "stdout",
          "text": [
            "A : \n",
            "[[2 5 4]\n",
            " [1 3 5]\n",
            " [8 9 0]]\n",
            "B : \n",
            "[[1 5 6]\n",
            " [7 2 4]\n",
            " [3 0 9]]\n",
            "E : \n",
            "[[ 2 25 24]\n",
            " [ 7  6 20]\n",
            " [24  0  0]]\n"
          ]
        }
      ]
    },
    {
      "cell_type": "code",
      "source": [
        "F = A.dot(B)   # dot을 이용한 행렬 곱\n",
        "print('F : ')\n",
        "print(F)"
      ],
      "metadata": {
        "id": "qkZ0Jjy9_tsU",
        "colab": {
          "base_uri": "https://localhost:8080/"
        },
        "outputId": "a93c5d60-f675-4543-bc41-73cc7363d9c4"
      },
      "execution_count": null,
      "outputs": [
        {
          "output_type": "stream",
          "name": "stdout",
          "text": [
            "F : \n",
            "[[49 20 68]\n",
            " [37 11 63]\n",
            " [71 58 84]]\n"
          ]
        }
      ]
    },
    {
      "cell_type": "code",
      "source": [
        "G = A@B       # @를 이용한 행렬 곱\n",
        "print('G : ')\n",
        "print(G)"
      ],
      "metadata": {
        "colab": {
          "base_uri": "https://localhost:8080/"
        },
        "id": "knoQ9KrUSrpi",
        "outputId": "e7aa6c90-360a-46dc-ce4a-c7b8c10ed7b0"
      },
      "execution_count": null,
      "outputs": [
        {
          "output_type": "stream",
          "name": "stdout",
          "text": [
            "G : \n",
            "[[49 20 68]\n",
            " [37 11 63]\n",
            " [71 58 84]]\n"
          ]
        }
      ]
    },
    {
      "cell_type": "code",
      "source": [
        "H = np.linalg.inv(A)  # 역행렬 구하기\n",
        "print('H : ')\n",
        "print(H)"
      ],
      "metadata": {
        "id": "WfHOwm4R-g4E",
        "outputId": "510e703d-72e9-4ca2-fb2e-72d928e6f42d",
        "colab": {
          "base_uri": "https://localhost:8080/"
        }
      },
      "execution_count": null,
      "outputs": [
        {
          "output_type": "stream",
          "name": "stdout",
          "text": [
            "H : \n",
            "[[-0.9   0.72  0.26]\n",
            " [ 0.8  -0.64 -0.12]\n",
            " [-0.3   0.44  0.02]]\n"
          ]
        }
      ]
    },
    {
      "cell_type": "code",
      "source": [
        "J = A.T   # 전치행렬\n",
        "print('J : ')\n",
        "print(J)"
      ],
      "metadata": {
        "id": "pEI_rdKmF5xC",
        "outputId": "0adab398-196a-49ae-d771-55d5869098f6",
        "colab": {
          "base_uri": "https://localhost:8080/"
        }
      },
      "execution_count": null,
      "outputs": [
        {
          "output_type": "stream",
          "name": "stdout",
          "text": [
            "J : \n",
            "[[2 1 8]\n",
            " [5 3 9]\n",
            " [4 5 0]]\n"
          ]
        }
      ]
    },
    {
      "cell_type": "code",
      "source": [
        "A_row_sm = A.sum(axis=0,keepdims=True) # 행렬의 행합\n",
        "print(A_row_sm)\n",
        "print(A_row_sm.shape)"
      ],
      "metadata": {
        "id": "uLZUUehP-g7S",
        "outputId": "e9e636ae-baf6-4fa1-8965-46251a594fab",
        "colab": {
          "base_uri": "https://localhost:8080/"
        }
      },
      "execution_count": null,
      "outputs": [
        {
          "output_type": "stream",
          "name": "stdout",
          "text": [
            "[[11 17  9]]\n",
            "(1, 3)\n"
          ]
        }
      ]
    },
    {
      "cell_type": "code",
      "source": [
        "A_col_sm = A.sum(axis=1, keepdims=True) # 행렬의 열합\n",
        "print(A_col_sm)\n",
        "print(A_col_sm.shape)"
      ],
      "metadata": {
        "id": "ChRsm7s4-hAA",
        "outputId": "88dbac61-398a-4852-b720-65c5e7e877e0",
        "colab": {
          "base_uri": "https://localhost:8080/"
        }
      },
      "execution_count": null,
      "outputs": [
        {
          "output_type": "stream",
          "name": "stdout",
          "text": [
            "[[11]\n",
            " [ 9]\n",
            " [17]]\n",
            "(3, 1)\n"
          ]
        }
      ]
    },
    {
      "cell_type": "code",
      "source": [
        "print(A.ndim)\n",
        "print(A_row_sm.ndim)"
      ],
      "metadata": {
        "id": "UVl1xGbsSjlD",
        "outputId": "f495eb8a-a120-4735-b192-d45810ea19f6",
        "colab": {
          "base_uri": "https://localhost:8080/"
        }
      },
      "execution_count": null,
      "outputs": [
        {
          "output_type": "stream",
          "name": "stdout",
          "text": [
            "2\n",
            "2\n"
          ]
        }
      ]
    },
    {
      "cell_type": "code",
      "source": [
        "A_org_sm = np.concatenate([A,A_row_sm]) \n",
        "A_org_sm"
      ],
      "metadata": {
        "id": "dwThDwNt-hDK",
        "outputId": "ba4b4dc5-41c9-4c60-af68-3b1c854ce7f1",
        "colab": {
          "base_uri": "https://localhost:8080/"
        }
      },
      "execution_count": null,
      "outputs": [
        {
          "output_type": "execute_result",
          "data": {
            "text/plain": [
              "array([[ 2,  5,  4],\n",
              "       [ 1,  3,  5],\n",
              "       [ 8,  9,  0],\n",
              "       [11, 17,  9]])"
            ]
          },
          "metadata": {},
          "execution_count": 26
        }
      ]
    },
    {
      "cell_type": "code",
      "source": [
        "A_org_sm_rw = np.concatenate((A, A_row_sm.reshape([1,3])), axis=0)  # 행렬에 행합 세로로 붙이기\n",
        "print(A_org_sm_rw)"
      ],
      "metadata": {
        "id": "_vFL8ZL-AoZ-",
        "outputId": "df515e25-46f1-4e0c-de90-03193a1fde4d",
        "colab": {
          "base_uri": "https://localhost:8080/"
        }
      },
      "execution_count": null,
      "outputs": [
        {
          "output_type": "stream",
          "name": "stdout",
          "text": [
            "[[ 2  5  4]\n",
            " [ 1  3  5]\n",
            " [ 8  9  0]\n",
            " [11 17  9]]\n"
          ]
        }
      ]
    },
    {
      "cell_type": "code",
      "source": [
        "A_org_sm_cl = np.concatenate((A, A_col_sm.reshape([3,1])), axis=1)  # 행렬에 열합 가로로 붙이기\n",
        "print(A_org_sm_cl)"
      ],
      "metadata": {
        "id": "C0faXw-tAofF",
        "outputId": "af20f17f-6fe2-44c6-add3-221f410aea4b",
        "colab": {
          "base_uri": "https://localhost:8080/"
        }
      },
      "execution_count": null,
      "outputs": [
        {
          "output_type": "stream",
          "name": "stdout",
          "text": [
            "[[ 2  5  4 11]\n",
            " [ 1  3  5  9]\n",
            " [ 8  9  0 17]]\n"
          ]
        }
      ]
    },
    {
      "cell_type": "code",
      "source": [
        "np.linalg.det(B)"
      ],
      "metadata": {
        "id": "UlLhpKlrncV2",
        "outputId": "f80c370f-61e0-4296-e1d6-0059be2d0dcd",
        "colab": {
          "base_uri": "https://localhost:8080/"
        }
      },
      "execution_count": null,
      "outputs": [
        {
          "output_type": "execute_result",
          "data": {
            "text/plain": [
              "-273.0"
            ]
          },
          "metadata": {},
          "execution_count": 29
        }
      ]
    },
    {
      "cell_type": "code",
      "source": [
        "zz = A_row_sm.reshape([1,3])\n",
        "zz.shape"
      ],
      "metadata": {
        "id": "tsxXa8CIANOG",
        "outputId": "74afb522-b8de-4b97-e4bf-5af2a84f88e3",
        "colab": {
          "base_uri": "https://localhost:8080/"
        }
      },
      "execution_count": null,
      "outputs": [
        {
          "output_type": "execute_result",
          "data": {
            "text/plain": [
              "(1, 3)"
            ]
          },
          "metadata": {},
          "execution_count": 30
        }
      ]
    },
    {
      "cell_type": "code",
      "source": [],
      "metadata": {
        "id": "01MZ2qAeANTL"
      },
      "execution_count": null,
      "outputs": []
    },
    {
      "cell_type": "code",
      "source": [
        "a1 = np.array([[2,5,4],[1,3,5],[8,9,0]])"
      ],
      "metadata": {
        "id": "twCYTDAU76O0"
      },
      "execution_count": null,
      "outputs": []
    },
    {
      "cell_type": "code",
      "source": [
        "d_array = np.array([[2, 5, 4], [1, 3,5], [8,9,0]])                # numpy.array를 사용하여 2x2 행렬 생성\n",
        "d_array_inv = np.linalg.inv(d_array)                # d_array 행렬의 역행렬 연산\n",
        "print(d_array_inv)    "
      ],
      "metadata": {
        "id": "Gf_htfwTWjI_",
        "outputId": "fe45ef76-995c-44e7-8009-10fd1042dfd2",
        "colab": {
          "base_uri": "https://localhost:8080/"
        }
      },
      "execution_count": null,
      "outputs": [
        {
          "output_type": "stream",
          "name": "stdout",
          "text": [
            "[[-0.9   0.72  0.26]\n",
            " [ 0.8  -0.64 -0.12]\n",
            " [-0.3   0.44  0.02]]\n"
          ]
        }
      ]
    },
    {
      "cell_type": "code",
      "source": [
        "a2 = np.linalg.inv(a1)\n",
        "a2"
      ],
      "metadata": {
        "id": "PZSyfv_U75dk",
        "outputId": "4f0bc042-806a-49e1-bb8f-0464e663c3ec",
        "colab": {
          "base_uri": "https://localhost:8080/"
        }
      },
      "execution_count": null,
      "outputs": [
        {
          "output_type": "execute_result",
          "data": {
            "text/plain": [
              "array([[-0.9 ,  0.72,  0.26],\n",
              "       [ 0.8 , -0.64, -0.12],\n",
              "       [-0.3 ,  0.44,  0.02]])"
            ]
          },
          "metadata": {},
          "execution_count": 33
        }
      ]
    },
    {
      "cell_type": "code",
      "source": [
        "tt = a1@a2\n",
        "tt"
      ],
      "metadata": {
        "id": "6-mMKUM475gj",
        "outputId": "3c5d386c-157e-4f1e-84c9-03181e9cb88d",
        "colab": {
          "base_uri": "https://localhost:8080/"
        }
      },
      "execution_count": null,
      "outputs": [
        {
          "output_type": "execute_result",
          "data": {
            "text/plain": [
              "array([[ 1.00000000e+00,  0.00000000e+00, -5.55111512e-17],\n",
              "       [-2.22044605e-16,  1.00000000e+00, -6.93889390e-18],\n",
              "       [ 2.22044605e-16,  4.44089210e-16,  1.00000000e+00]])"
            ]
          },
          "metadata": {},
          "execution_count": 34
        }
      ]
    },
    {
      "cell_type": "code",
      "source": [
        "A = np.array([[2, 5, 4],\n",
        "              [1, 3, 5],\n",
        "              [8, 9, 0]])\n",
        "\n",
        "B =np.array([[1, 5, 0],\n",
        "             [3, 8, 3],\n",
        "             [4, 2, 7]])"
      ],
      "metadata": {
        "id": "DOgWxosvNPGm"
      },
      "execution_count": null,
      "outputs": []
    },
    {
      "cell_type": "code",
      "source": [
        "a1 = np.linalg.inv(A)\n",
        "a2 = np.linalg.inv(B)\n",
        "print(a1)\n",
        "print(a2)"
      ],
      "metadata": {
        "id": "gzvRUb-S75kQ",
        "outputId": "cf6d877a-9d18-4e40-df00-0d8c9dee57eb",
        "colab": {
          "base_uri": "https://localhost:8080/"
        }
      },
      "execution_count": null,
      "outputs": [
        {
          "output_type": "stream",
          "name": "stdout",
          "text": [
            "[[-0.9   0.72  0.26]\n",
            " [ 0.8  -0.64 -0.12]\n",
            " [-0.3   0.44  0.02]]\n",
            "[[10.  -7.   3. ]\n",
            " [-1.8  1.4 -0.6]\n",
            " [-5.2  3.6 -1.4]]\n"
          ]
        }
      ]
    },
    {
      "cell_type": "code",
      "source": [
        "a2"
      ],
      "metadata": {
        "id": "LbNDTBNg75nD",
        "outputId": "60dcc0fd-905f-4bbb-d866-308537e7e62c",
        "colab": {
          "base_uri": "https://localhost:8080/"
        }
      },
      "execution_count": null,
      "outputs": [
        {
          "output_type": "execute_result",
          "data": {
            "text/plain": [
              "array([[10. , -7. ,  3. ],\n",
              "       [-1.8,  1.4, -0.6],\n",
              "       [-5.2,  3.6, -1.4]])"
            ]
          },
          "metadata": {},
          "execution_count": 37
        }
      ]
    },
    {
      "cell_type": "code",
      "source": [],
      "metadata": {
        "id": "Ux7Pqezs75pr"
      },
      "execution_count": null,
      "outputs": []
    },
    {
      "cell_type": "code",
      "source": [],
      "metadata": {
        "id": "B8EW4Vu975sy"
      },
      "execution_count": null,
      "outputs": []
    },
    {
      "cell_type": "code",
      "source": [],
      "metadata": {
        "id": "5OcBj0jQ75vx"
      },
      "execution_count": null,
      "outputs": []
    },
    {
      "cell_type": "code",
      "source": [
        "# import os\n",
        "# print(os.path.join('C:',os.sep, 'Users'))"
      ],
      "metadata": {
        "id": "k17OIfbFSr5I"
      },
      "execution_count": null,
      "outputs": []
    },
    {
      "cell_type": "code",
      "source": [
        "# from pathlib import Path\n",
        "\n",
        "# print(Path.cwd())\n",
        "# print(Path('main.py').resolve())\n",
        "# print(Path('C:\\\\Users\\\\hlee\\\\Desktop\\\\작업폴더\\\\main.py').name)\n",
        "# print(Path('main.py').stem)\n",
        "# print(Path('main.py').suffix)"
      ],
      "metadata": {
        "id": "1hxSdOayAYQk"
      },
      "execution_count": null,
      "outputs": []
    },
    {
      "cell_type": "code",
      "source": [
        "# from pathlib import Path\n",
        "\n",
        "# print(Path.joinpath(Path.cwd(), \"files\", \"sample.txt\"))"
      ],
      "metadata": {
        "id": "qWYSzUjXA0Vw"
      },
      "execution_count": null,
      "outputs": []
    },
    {
      "cell_type": "code",
      "source": [
        "url_total = \"https://raw.githubusercontent.com/Tom-Jung/legendary-funicular/main/Total_M_F.csv\"\n",
        "Tot = pd.read_csv(url_total)\n"
      ],
      "metadata": {
        "id": "1-cypvlPA0Tu"
      },
      "execution_count": null,
      "outputs": []
    },
    {
      "cell_type": "code",
      "source": [
        "Tot"
      ],
      "metadata": {
        "colab": {
          "base_uri": "https://localhost:8080/",
          "height": 1000
        },
        "id": "rtqZunX0walG",
        "outputId": "ace16dff-8327-4475-d965-bef9a7fad86d"
      },
      "execution_count": null,
      "outputs": [
        {
          "output_type": "execute_result",
          "data": {
            "text/plain": [
              "                                                   bb  \\\n",
              "0             Agricultural, forest, and fishery goods   \n",
              "1                            Mined and quarried goods   \n",
              "2                Food, beverages and tobacco products   \n",
              "3                        Textile and leather products   \n",
              "4   Wood and paper products, printing and reproduc...   \n",
              "5                         Petroleum and coal products   \n",
              "6                                   Chemical products   \n",
              "7                       Non-metallic mineral products   \n",
              "8                                Basic metal products   \n",
              "9   Fabricated metal products, except machinery an...   \n",
              "10  Computing machinery, electronic equipment and ...   \n",
              "11                               Electrical equipment   \n",
              "12                            Machinery and equipment   \n",
              "13                                Transport equipment   \n",
              "14                        Other manufactured products   \n",
              "15  Manufacturing services and repair services of ...   \n",
              "16                 Electricity, gas, and steam supply   \n",
              "17  Water supply, sewage and waste treatment and d...   \n",
              "18                                       Construction   \n",
              "19  Wholesale and retail trade and commodity broke...   \n",
              "20                                     Transportation   \n",
              "21                    Food services and accommodation   \n",
              "22                    Communications and broadcasting   \n",
              "23                              Finance and insurance   \n",
              "24                               Real estate services   \n",
              "25   Professional, scientific, and technical services   \n",
              "26                          Business support services   \n",
              "27  Public administration, defense, and social sec...   \n",
              "28                                 Education services   \n",
              "29                    Health and social care services   \n",
              "30                  Art, sports, and leisure services   \n",
              "31                                     Other services   \n",
              "32                                             Others   \n",
              "33                           Total intermediate input   \n",
              "34                          Compensation of employees   \n",
              "35                              Net operating surplus   \n",
              "36                       Consumption of fixed capital   \n",
              "37    Taxes on production and products less subsidies   \n",
              "38                                  Total value added   \n",
              "39                                        Total input   \n",
              "\n",
              "    Agricultural, forest, and fishery goods  Mined and quarried goods  \\\n",
              "0                                      2862                         5   \n",
              "1                                         1                         2   \n",
              "2                                      8285                         8   \n",
              "3                                       587                        10   \n",
              "4                                       617                        12   \n",
              "5                                      1132                        88   \n",
              "6                                      4245                       113   \n",
              "7                                        17                         8   \n",
              "8                                        48                         5   \n",
              "9                                        54                        54   \n",
              "10                                       86                         6   \n",
              "11                                       93                        16   \n",
              "12                                      194                        94   \n",
              "13                                      235                        57   \n",
              "14                                        8                         1   \n",
              "15                                      163                        94   \n",
              "16                                      663                        87   \n",
              "17                                       67                        11   \n",
              "18                                       67                        13   \n",
              "19                                     2168                        50   \n",
              "20                                      719                       478   \n",
              "21                                      404                        70   \n",
              "22                                      164                        17   \n",
              "23                                      785                       148   \n",
              "24                                       44                         6   \n",
              "25                                      670                       156   \n",
              "26                                      119                       115   \n",
              "27                                       82                         0   \n",
              "28                                        3                         1   \n",
              "29                                      107                        10   \n",
              "30                                       50                        17   \n",
              "31                                       91                        18   \n",
              "32                                      265                        11   \n",
              "33                                    25095                      1781   \n",
              "34                                     4719                       625   \n",
              "35                                    20249                      1026   \n",
              "36                                     4346                       320   \n",
              "37                                      549                       -56   \n",
              "38                                    29863                      1915   \n",
              "39                                    54958                      3696   \n",
              "\n",
              "    Food, beverages and tobacco products  Textile and leather products  \\\n",
              "0                                  31526                           648   \n",
              "1                                     23                             4   \n",
              "2                                  20408                           713   \n",
              "3                                    151                         20158   \n",
              "4                                   2132                           797   \n",
              "5                                    301                           272   \n",
              "6                                   2875                          6350   \n",
              "7                                    543                            40   \n",
              "8                                      6                            22   \n",
              "9                                   1571                           296   \n",
              "10                                   106                            73   \n",
              "11                                    28                            69   \n",
              "12                                   159                            78   \n",
              "13                                    21                            20   \n",
              "14                                   198                           319   \n",
              "15                                  2655                         14047   \n",
              "16                                  1060                           976   \n",
              "17                                   331                           205   \n",
              "18                                    57                            23   \n",
              "19                                  7959                          5724   \n",
              "20                                  3796                          1920   \n",
              "21                                   386                           471   \n",
              "22                                   208                           173   \n",
              "23                                   730                           832   \n",
              "24                                   214                           351   \n",
              "25                                  3105                          1204   \n",
              "26                                   360                           331   \n",
              "27                                     0                             0   \n",
              "28                                    22                             7   \n",
              "29                                    91                            62   \n",
              "30                                    55                            60   \n",
              "31                                   155                            78   \n",
              "32                                    57                            40   \n",
              "33                                 81289                         56363   \n",
              "34                                  8915                          6675   \n",
              "35                                  5074                          4545   \n",
              "36                                  3437                          1926   \n",
              "37                                 10664                          1527   \n",
              "38                                 28090                         14673   \n",
              "39                                109379                         71036   \n",
              "\n",
              "    Wood and paper products, printing and reproduction of recorded media   \\\n",
              "0                                                 863                       \n",
              "1                                                  23                       \n",
              "2                                                  67                       \n",
              "3                                                 388                       \n",
              "4                                               12195                       \n",
              "5                                                 205                       \n",
              "6                                                2635                       \n",
              "7                                                  18                       \n",
              "8                                                  36                       \n",
              "9                                                 284                       \n",
              "10                                                 81                       \n",
              "11                                                 52                       \n",
              "12                                                 64                       \n",
              "13                                                 39                       \n",
              "14                                                 22                       \n",
              "15                                               1276                       \n",
              "16                                               1285                       \n",
              "17                                                421                       \n",
              "18                                                 24                       \n",
              "19                                               1825                       \n",
              "20                                               1695                       \n",
              "21                                                395                       \n",
              "22                                                212                       \n",
              "23                                                575                       \n",
              "24                                                145                       \n",
              "25                                                792                       \n",
              "26                                                330                       \n",
              "27                                                  0                       \n",
              "28                                                 14                       \n",
              "29                                                 63                       \n",
              "30                                                 55                       \n",
              "31                                                 75                       \n",
              "32                                                 48                       \n",
              "33                                              26202                       \n",
              "34                                               5377                       \n",
              "35                                               5066                       \n",
              "36                                                999                       \n",
              "37                                                783                       \n",
              "38                                              12225                       \n",
              "39                                              38427                       \n",
              "\n",
              "    Petroleum and coal products  Chemical products  \\\n",
              "0                             6                980   \n",
              "1                         49139               4633   \n",
              "2                            66               1078   \n",
              "3                            57               1517   \n",
              "4                           117               1490   \n",
              "5                          3791              23086   \n",
              "6                          1870              71379   \n",
              "7                            63                891   \n",
              "8                           162               1655   \n",
              "9                          1046               1644   \n",
              "10                          280                421   \n",
              "11                          133                238   \n",
              "12                          832               2705   \n",
              "13                           80                206   \n",
              "14                            6                 28   \n",
              "15                          218               4557   \n",
              "16                         1674               5465   \n",
              "17                           69               1487   \n",
              "18                           45                160   \n",
              "19                         1038               7684   \n",
              "20                          849               6737   \n",
              "21                          282               1298   \n",
              "22                          364                597   \n",
              "23                          194               2114   \n",
              "24                          141                347   \n",
              "25                         2481               9361   \n",
              "26                          479                991   \n",
              "27                            0                  0   \n",
              "28                           23                 83   \n",
              "29                           39                214   \n",
              "30                           49                176   \n",
              "31                          114                258   \n",
              "32                           77                546   \n",
              "33                        65784             154026   \n",
              "34                         1230              19286   \n",
              "35                        10100              29512   \n",
              "36                         2475              14489   \n",
              "37                        19047               2419   \n",
              "38                        32852              65706   \n",
              "39                        98636             219732   \n",
              "\n",
              "    Non-metallic mineral products  Basic metal products  ...  \\\n",
              "0                               7                    15  ...   \n",
              "1                            3035                 14999  ...   \n",
              "2                              34                    73  ...   \n",
              "3                             123                   211  ...   \n",
              "4                             404                   270  ...   \n",
              "5                            1415                   624  ...   \n",
              "6                            1575                  1418  ...   \n",
              "7                            5999                  2210  ...   \n",
              "8                             584                 39760  ...   \n",
              "9                             436                  1052  ...   \n",
              "10                             71                   287  ...   \n",
              "11                            126                   256  ...   \n",
              "12                            327                   943  ...   \n",
              "13                            140                   106  ...   \n",
              "14                              6                    14  ...   \n",
              "15                            739                  2183  ...   \n",
              "16                           1489                  6139  ...   \n",
              "17                            293                  2477  ...   \n",
              "18                             28                   129  ...   \n",
              "19                           1096                  2465  ...   \n",
              "20                           3770                  3320  ...   \n",
              "21                            304                   718  ...   \n",
              "22                            189                   405  ...   \n",
              "23                            438                  1360  ...   \n",
              "24                             68                   330  ...   \n",
              "25                           1119                  4006  ...   \n",
              "26                            209                  1206  ...   \n",
              "27                              0                     0  ...   \n",
              "28                             15                    58  ...   \n",
              "29                             47                   120  ...   \n",
              "30                             37                   147  ...   \n",
              "31                             93                   230  ...   \n",
              "32                             27                    79  ...   \n",
              "33                          24243                 87610  ...   \n",
              "34                           4180                  7986  ...   \n",
              "35                           3702                  8317  ...   \n",
              "36                           2884                  7360  ...   \n",
              "37                            520                   581  ...   \n",
              "38                          11286                 24244  ...   \n",
              "39                          35529                111854  ...   \n",
              "\n",
              "    Total intermediate demand  \\\n",
              "0                       48136   \n",
              "1                       99569   \n",
              "2                       74603   \n",
              "3                       36332   \n",
              "4                       40829   \n",
              "5                       72801   \n",
              "6                      192837   \n",
              "7                       38920   \n",
              "8                      115048   \n",
              "9                       79165   \n",
              "10                     127409   \n",
              "11                      60023   \n",
              "12                      53614   \n",
              "13                      79208   \n",
              "14                      11060   \n",
              "15                      60705   \n",
              "16                      67183   \n",
              "17                      12781   \n",
              "18                      10244   \n",
              "19                     120414   \n",
              "20                      89349   \n",
              "21                      49718   \n",
              "22                      66948   \n",
              "23                      81990   \n",
              "24                      46558   \n",
              "25                     108858   \n",
              "26                      68861   \n",
              "27                       2445   \n",
              "28                       1951   \n",
              "29                       6396   \n",
              "30                       6862   \n",
              "31                      12516   \n",
              "32                       3708   \n",
              "33                    1947041   \n",
              "34                     675192   \n",
              "35                     409384   \n",
              "36                     278702   \n",
              "37                     122492   \n",
              "38                    1485770   \n",
              "39                    3432811   \n",
              "\n",
              "    Private final consumption expenditure (Households and NPISH)  \\\n",
              "0                                               15115              \n",
              "1                                                  12              \n",
              "2                                               50366              \n",
              "3                                               26630              \n",
              "4                                                1113              \n",
              "5                                               13145              \n",
              "6                                                7067              \n",
              "7                                                 208              \n",
              "8                                                -499              \n",
              "9                                                1160              \n",
              "10                                              21982              \n",
              "11                                               4664              \n",
              "12                                               1251              \n",
              "13                                              27681              \n",
              "14                                               6254              \n",
              "15                                                 24              \n",
              "16                                              15898              \n",
              "17                                               3059              \n",
              "18                                                  0              \n",
              "19                                              70717              \n",
              "20                                              22910              \n",
              "21                                              73699              \n",
              "22                                              29077              \n",
              "23                                              58656              \n",
              "24                                             102756              \n",
              "25                                               2813              \n",
              "26                                               3479              \n",
              "27                                               1213              \n",
              "28                                              50067              \n",
              "29                                              41159              \n",
              "30                                              29847              \n",
              "31                                              35997              \n",
              "32                                               -285              \n",
              "33                                             717235              \n",
              "34                                                  0              \n",
              "35                                                  0              \n",
              "36                                                  0              \n",
              "37                                                  0              \n",
              "38                                                  0              \n",
              "39                                                  0              \n",
              "\n",
              "    Government final consumption expenditure  \\\n",
              "0                                          0   \n",
              "1                                          0   \n",
              "2                                          0   \n",
              "3                                          0   \n",
              "4                                          0   \n",
              "5                                          0   \n",
              "6                                          0   \n",
              "7                                          0   \n",
              "8                                          0   \n",
              "9                                          0   \n",
              "10                                         0   \n",
              "11                                         0   \n",
              "12                                         0   \n",
              "13                                         0   \n",
              "14                                         0   \n",
              "15                                         0   \n",
              "16                                         0   \n",
              "17                                      1044   \n",
              "18                                         0   \n",
              "19                                         0   \n",
              "20                                         0   \n",
              "21                                         0   \n",
              "22                                         0   \n",
              "23                                         0   \n",
              "24                                         0   \n",
              "25                                         0   \n",
              "26                                         0   \n",
              "27                                    107307   \n",
              "28                                     53985   \n",
              "29                                     59887   \n",
              "30                                      1722   \n",
              "31                                         0   \n",
              "32                                         0   \n",
              "33                                    223945   \n",
              "34                                         0   \n",
              "35                                         0   \n",
              "36                                         0   \n",
              "37                                         0   \n",
              "38                                         0   \n",
              "39                                         0   \n",
              "\n",
              "    Private gross fixed capital formation  \\\n",
              "0                                     383   \n",
              "1                                       0   \n",
              "2                                       0   \n",
              "3                                     115   \n",
              "4                                       0   \n",
              "5                                       0   \n",
              "6                                       0   \n",
              "7                                       0   \n",
              "8                                   -2192   \n",
              "9                                    3392   \n",
              "10                                  18851   \n",
              "11                                   9630   \n",
              "12                                  46648   \n",
              "13                                  24560   \n",
              "14                                   2497   \n",
              "15                                      0   \n",
              "16                                      0   \n",
              "17                                      0   \n",
              "18                                 148566   \n",
              "19                                   9900   \n",
              "20                                    216   \n",
              "21                                      0   \n",
              "22                                  25116   \n",
              "23                                      0   \n",
              "24                                  23290   \n",
              "25                                  52702   \n",
              "26                                      0   \n",
              "27                                      0   \n",
              "28                                      0   \n",
              "29                                      0   \n",
              "30                                    427   \n",
              "31                                      0   \n",
              "32                                      0   \n",
              "33                                 364101   \n",
              "34                                      0   \n",
              "35                                      0   \n",
              "36                                      0   \n",
              "37                                      0   \n",
              "38                                      0   \n",
              "39                                      0   \n",
              "\n",
              "    Government gross fixed capital formation  Changes in inventories  \\\n",
              "0                                         15                    1085   \n",
              "1                                          0                    -108   \n",
              "2                                          0                      49   \n",
              "3                                         15                     864   \n",
              "4                                          0                      91   \n",
              "5                                          0                     453   \n",
              "6                                          0                    -553   \n",
              "7                                          0                     -17   \n",
              "8                                        -57                   -1521   \n",
              "9                                       2162                     402   \n",
              "10                                      2558                    1547   \n",
              "11                                       181                     472   \n",
              "12                                       370                     330   \n",
              "13                                      6299                    2681   \n",
              "14                                       242                     277   \n",
              "15                                         0                       0   \n",
              "16                                         0                       0   \n",
              "17                                         0                       0   \n",
              "18                                     42608                   -1274   \n",
              "19                                       633                    1099   \n",
              "20                                        57                      73   \n",
              "21                                         0                       0   \n",
              "22                                       217                      18   \n",
              "23                                         0                       0   \n",
              "24                                        15                       0   \n",
              "25                                      8892                       0   \n",
              "26                                         0                       0   \n",
              "27                                         0                       0   \n",
              "28                                         0                       0   \n",
              "29                                         0                       0   \n",
              "30                                         0                       0   \n",
              "31                                         0                       0   \n",
              "32                                         0                       0   \n",
              "33                                     64207                    5968   \n",
              "34                                         0                       0   \n",
              "35                                         0                       0   \n",
              "36                                         0                       0   \n",
              "37                                         0                       0   \n",
              "38                                         0                       0   \n",
              "39                                         0                       0   \n",
              "\n",
              "    Acquisitions less disposals of valuables  Exports  Total final demand  \\\n",
              "0                                          0      615               17213   \n",
              "1                                          0      116                  20   \n",
              "2                                          0     6742               57157   \n",
              "3                                          0    31352               58976   \n",
              "4                                          0     3218                4422   \n",
              "5                                          0    36058               49656   \n",
              "6                                          0    74182               80696   \n",
              "7                                          0     2587                2778   \n",
              "8                                        180    35386               31297   \n",
              "9                                          0    10648               17764   \n",
              "10                                         0   155967              200905   \n",
              "11                                         0    26488               41435   \n",
              "12                                         0    42897               91496   \n",
              "13                                         0   116106              177327   \n",
              "14                                      1191     2563               13024   \n",
              "15                                         0     2497                2521   \n",
              "16                                         0      104               16002   \n",
              "17                                         0      343                4446   \n",
              "18                                         0      148              190048   \n",
              "19                                       285    21611              104245   \n",
              "20                                         7    33987               57250   \n",
              "21                                         0     6306               80005   \n",
              "22                                         0     4950               59378   \n",
              "23                                         0     2560               61216   \n",
              "24                                         0      385              126446   \n",
              "25                                         0    14239               78646   \n",
              "26                                         0     7866               11345   \n",
              "27                                         0       34              108554   \n",
              "28                                         0      153              104205   \n",
              "29                                         0      332              101378   \n",
              "30                                        23      929               32948   \n",
              "31                                         0      548               36545   \n",
              "32                                         0        0                -285   \n",
              "33                                      1686   641917             2019059   \n",
              "34                                         0        0                   0   \n",
              "35                                         0        0                   0   \n",
              "36                                         0        0                   0   \n",
              "37                                         0        0                   0   \n",
              "38                                         0        0                   0   \n",
              "39                                         0        0                   0   \n",
              "\n",
              "    Total demand  \n",
              "0          65349  \n",
              "1          99589  \n",
              "2         131760  \n",
              "3          95308  \n",
              "4          45251  \n",
              "5         122457  \n",
              "6         273533  \n",
              "7          41698  \n",
              "8         146345  \n",
              "9          96929  \n",
              "10        328314  \n",
              "11        101458  \n",
              "12        145110  \n",
              "13        256535  \n",
              "14         24084  \n",
              "15         63226  \n",
              "16         83185  \n",
              "17         17227  \n",
              "18        200292  \n",
              "19        224659  \n",
              "20        146599  \n",
              "21        129723  \n",
              "22        126326  \n",
              "23        143206  \n",
              "24        173004  \n",
              "25        187504  \n",
              "26         80206  \n",
              "27        110999  \n",
              "28        106156  \n",
              "29        107774  \n",
              "30         39810  \n",
              "31         49061  \n",
              "32          3423  \n",
              "33       3966100  \n",
              "34             0  \n",
              "35             0  \n",
              "36             0  \n",
              "37             0  \n",
              "38             0  \n",
              "39             0  \n",
              "\n",
              "[40 rows x 44 columns]"
            ],
            "text/html": [
              "\n",
              "  <div id=\"df-4d6cf6c0-62f0-40a3-a364-6cdab835bc1d\">\n",
              "    <div class=\"colab-df-container\">\n",
              "      <div>\n",
              "<style scoped>\n",
              "    .dataframe tbody tr th:only-of-type {\n",
              "        vertical-align: middle;\n",
              "    }\n",
              "\n",
              "    .dataframe tbody tr th {\n",
              "        vertical-align: top;\n",
              "    }\n",
              "\n",
              "    .dataframe thead th {\n",
              "        text-align: right;\n",
              "    }\n",
              "</style>\n",
              "<table border=\"1\" class=\"dataframe\">\n",
              "  <thead>\n",
              "    <tr style=\"text-align: right;\">\n",
              "      <th></th>\n",
              "      <th>bb</th>\n",
              "      <th>Agricultural, forest, and fishery goods</th>\n",
              "      <th>Mined and quarried goods</th>\n",
              "      <th>Food, beverages and tobacco products</th>\n",
              "      <th>Textile and leather products</th>\n",
              "      <th>Wood and paper products, printing and reproduction of recorded media</th>\n",
              "      <th>Petroleum and coal products</th>\n",
              "      <th>Chemical products</th>\n",
              "      <th>Non-metallic mineral products</th>\n",
              "      <th>Basic metal products</th>\n",
              "      <th>...</th>\n",
              "      <th>Total intermediate demand</th>\n",
              "      <th>Private final consumption expenditure (Households and NPISH)</th>\n",
              "      <th>Government final consumption expenditure</th>\n",
              "      <th>Private gross fixed capital formation</th>\n",
              "      <th>Government gross fixed capital formation</th>\n",
              "      <th>Changes in inventories</th>\n",
              "      <th>Acquisitions less disposals of valuables</th>\n",
              "      <th>Exports</th>\n",
              "      <th>Total final demand</th>\n",
              "      <th>Total demand</th>\n",
              "    </tr>\n",
              "  </thead>\n",
              "  <tbody>\n",
              "    <tr>\n",
              "      <th>0</th>\n",
              "      <td>Agricultural, forest, and fishery goods</td>\n",
              "      <td>2862</td>\n",
              "      <td>5</td>\n",
              "      <td>31526</td>\n",
              "      <td>648</td>\n",
              "      <td>863</td>\n",
              "      <td>6</td>\n",
              "      <td>980</td>\n",
              "      <td>7</td>\n",
              "      <td>15</td>\n",
              "      <td>...</td>\n",
              "      <td>48136</td>\n",
              "      <td>15115</td>\n",
              "      <td>0</td>\n",
              "      <td>383</td>\n",
              "      <td>15</td>\n",
              "      <td>1085</td>\n",
              "      <td>0</td>\n",
              "      <td>615</td>\n",
              "      <td>17213</td>\n",
              "      <td>65349</td>\n",
              "    </tr>\n",
              "    <tr>\n",
              "      <th>1</th>\n",
              "      <td>Mined and quarried goods</td>\n",
              "      <td>1</td>\n",
              "      <td>2</td>\n",
              "      <td>23</td>\n",
              "      <td>4</td>\n",
              "      <td>23</td>\n",
              "      <td>49139</td>\n",
              "      <td>4633</td>\n",
              "      <td>3035</td>\n",
              "      <td>14999</td>\n",
              "      <td>...</td>\n",
              "      <td>99569</td>\n",
              "      <td>12</td>\n",
              "      <td>0</td>\n",
              "      <td>0</td>\n",
              "      <td>0</td>\n",
              "      <td>-108</td>\n",
              "      <td>0</td>\n",
              "      <td>116</td>\n",
              "      <td>20</td>\n",
              "      <td>99589</td>\n",
              "    </tr>\n",
              "    <tr>\n",
              "      <th>2</th>\n",
              "      <td>Food, beverages and tobacco products</td>\n",
              "      <td>8285</td>\n",
              "      <td>8</td>\n",
              "      <td>20408</td>\n",
              "      <td>713</td>\n",
              "      <td>67</td>\n",
              "      <td>66</td>\n",
              "      <td>1078</td>\n",
              "      <td>34</td>\n",
              "      <td>73</td>\n",
              "      <td>...</td>\n",
              "      <td>74603</td>\n",
              "      <td>50366</td>\n",
              "      <td>0</td>\n",
              "      <td>0</td>\n",
              "      <td>0</td>\n",
              "      <td>49</td>\n",
              "      <td>0</td>\n",
              "      <td>6742</td>\n",
              "      <td>57157</td>\n",
              "      <td>131760</td>\n",
              "    </tr>\n",
              "    <tr>\n",
              "      <th>3</th>\n",
              "      <td>Textile and leather products</td>\n",
              "      <td>587</td>\n",
              "      <td>10</td>\n",
              "      <td>151</td>\n",
              "      <td>20158</td>\n",
              "      <td>388</td>\n",
              "      <td>57</td>\n",
              "      <td>1517</td>\n",
              "      <td>123</td>\n",
              "      <td>211</td>\n",
              "      <td>...</td>\n",
              "      <td>36332</td>\n",
              "      <td>26630</td>\n",
              "      <td>0</td>\n",
              "      <td>115</td>\n",
              "      <td>15</td>\n",
              "      <td>864</td>\n",
              "      <td>0</td>\n",
              "      <td>31352</td>\n",
              "      <td>58976</td>\n",
              "      <td>95308</td>\n",
              "    </tr>\n",
              "    <tr>\n",
              "      <th>4</th>\n",
              "      <td>Wood and paper products, printing and reproduc...</td>\n",
              "      <td>617</td>\n",
              "      <td>12</td>\n",
              "      <td>2132</td>\n",
              "      <td>797</td>\n",
              "      <td>12195</td>\n",
              "      <td>117</td>\n",
              "      <td>1490</td>\n",
              "      <td>404</td>\n",
              "      <td>270</td>\n",
              "      <td>...</td>\n",
              "      <td>40829</td>\n",
              "      <td>1113</td>\n",
              "      <td>0</td>\n",
              "      <td>0</td>\n",
              "      <td>0</td>\n",
              "      <td>91</td>\n",
              "      <td>0</td>\n",
              "      <td>3218</td>\n",
              "      <td>4422</td>\n",
              "      <td>45251</td>\n",
              "    </tr>\n",
              "    <tr>\n",
              "      <th>5</th>\n",
              "      <td>Petroleum and coal products</td>\n",
              "      <td>1132</td>\n",
              "      <td>88</td>\n",
              "      <td>301</td>\n",
              "      <td>272</td>\n",
              "      <td>205</td>\n",
              "      <td>3791</td>\n",
              "      <td>23086</td>\n",
              "      <td>1415</td>\n",
              "      <td>624</td>\n",
              "      <td>...</td>\n",
              "      <td>72801</td>\n",
              "      <td>13145</td>\n",
              "      <td>0</td>\n",
              "      <td>0</td>\n",
              "      <td>0</td>\n",
              "      <td>453</td>\n",
              "      <td>0</td>\n",
              "      <td>36058</td>\n",
              "      <td>49656</td>\n",
              "      <td>122457</td>\n",
              "    </tr>\n",
              "    <tr>\n",
              "      <th>6</th>\n",
              "      <td>Chemical products</td>\n",
              "      <td>4245</td>\n",
              "      <td>113</td>\n",
              "      <td>2875</td>\n",
              "      <td>6350</td>\n",
              "      <td>2635</td>\n",
              "      <td>1870</td>\n",
              "      <td>71379</td>\n",
              "      <td>1575</td>\n",
              "      <td>1418</td>\n",
              "      <td>...</td>\n",
              "      <td>192837</td>\n",
              "      <td>7067</td>\n",
              "      <td>0</td>\n",
              "      <td>0</td>\n",
              "      <td>0</td>\n",
              "      <td>-553</td>\n",
              "      <td>0</td>\n",
              "      <td>74182</td>\n",
              "      <td>80696</td>\n",
              "      <td>273533</td>\n",
              "    </tr>\n",
              "    <tr>\n",
              "      <th>7</th>\n",
              "      <td>Non-metallic mineral products</td>\n",
              "      <td>17</td>\n",
              "      <td>8</td>\n",
              "      <td>543</td>\n",
              "      <td>40</td>\n",
              "      <td>18</td>\n",
              "      <td>63</td>\n",
              "      <td>891</td>\n",
              "      <td>5999</td>\n",
              "      <td>2210</td>\n",
              "      <td>...</td>\n",
              "      <td>38920</td>\n",
              "      <td>208</td>\n",
              "      <td>0</td>\n",
              "      <td>0</td>\n",
              "      <td>0</td>\n",
              "      <td>-17</td>\n",
              "      <td>0</td>\n",
              "      <td>2587</td>\n",
              "      <td>2778</td>\n",
              "      <td>41698</td>\n",
              "    </tr>\n",
              "    <tr>\n",
              "      <th>8</th>\n",
              "      <td>Basic metal products</td>\n",
              "      <td>48</td>\n",
              "      <td>5</td>\n",
              "      <td>6</td>\n",
              "      <td>22</td>\n",
              "      <td>36</td>\n",
              "      <td>162</td>\n",
              "      <td>1655</td>\n",
              "      <td>584</td>\n",
              "      <td>39760</td>\n",
              "      <td>...</td>\n",
              "      <td>115048</td>\n",
              "      <td>-499</td>\n",
              "      <td>0</td>\n",
              "      <td>-2192</td>\n",
              "      <td>-57</td>\n",
              "      <td>-1521</td>\n",
              "      <td>180</td>\n",
              "      <td>35386</td>\n",
              "      <td>31297</td>\n",
              "      <td>146345</td>\n",
              "    </tr>\n",
              "    <tr>\n",
              "      <th>9</th>\n",
              "      <td>Fabricated metal products, except machinery an...</td>\n",
              "      <td>54</td>\n",
              "      <td>54</td>\n",
              "      <td>1571</td>\n",
              "      <td>296</td>\n",
              "      <td>284</td>\n",
              "      <td>1046</td>\n",
              "      <td>1644</td>\n",
              "      <td>436</td>\n",
              "      <td>1052</td>\n",
              "      <td>...</td>\n",
              "      <td>79165</td>\n",
              "      <td>1160</td>\n",
              "      <td>0</td>\n",
              "      <td>3392</td>\n",
              "      <td>2162</td>\n",
              "      <td>402</td>\n",
              "      <td>0</td>\n",
              "      <td>10648</td>\n",
              "      <td>17764</td>\n",
              "      <td>96929</td>\n",
              "    </tr>\n",
              "    <tr>\n",
              "      <th>10</th>\n",
              "      <td>Computing machinery, electronic equipment and ...</td>\n",
              "      <td>86</td>\n",
              "      <td>6</td>\n",
              "      <td>106</td>\n",
              "      <td>73</td>\n",
              "      <td>81</td>\n",
              "      <td>280</td>\n",
              "      <td>421</td>\n",
              "      <td>71</td>\n",
              "      <td>287</td>\n",
              "      <td>...</td>\n",
              "      <td>127409</td>\n",
              "      <td>21982</td>\n",
              "      <td>0</td>\n",
              "      <td>18851</td>\n",
              "      <td>2558</td>\n",
              "      <td>1547</td>\n",
              "      <td>0</td>\n",
              "      <td>155967</td>\n",
              "      <td>200905</td>\n",
              "      <td>328314</td>\n",
              "    </tr>\n",
              "    <tr>\n",
              "      <th>11</th>\n",
              "      <td>Electrical equipment</td>\n",
              "      <td>93</td>\n",
              "      <td>16</td>\n",
              "      <td>28</td>\n",
              "      <td>69</td>\n",
              "      <td>52</td>\n",
              "      <td>133</td>\n",
              "      <td>238</td>\n",
              "      <td>126</td>\n",
              "      <td>256</td>\n",
              "      <td>...</td>\n",
              "      <td>60023</td>\n",
              "      <td>4664</td>\n",
              "      <td>0</td>\n",
              "      <td>9630</td>\n",
              "      <td>181</td>\n",
              "      <td>472</td>\n",
              "      <td>0</td>\n",
              "      <td>26488</td>\n",
              "      <td>41435</td>\n",
              "      <td>101458</td>\n",
              "    </tr>\n",
              "    <tr>\n",
              "      <th>12</th>\n",
              "      <td>Machinery and equipment</td>\n",
              "      <td>194</td>\n",
              "      <td>94</td>\n",
              "      <td>159</td>\n",
              "      <td>78</td>\n",
              "      <td>64</td>\n",
              "      <td>832</td>\n",
              "      <td>2705</td>\n",
              "      <td>327</td>\n",
              "      <td>943</td>\n",
              "      <td>...</td>\n",
              "      <td>53614</td>\n",
              "      <td>1251</td>\n",
              "      <td>0</td>\n",
              "      <td>46648</td>\n",
              "      <td>370</td>\n",
              "      <td>330</td>\n",
              "      <td>0</td>\n",
              "      <td>42897</td>\n",
              "      <td>91496</td>\n",
              "      <td>145110</td>\n",
              "    </tr>\n",
              "    <tr>\n",
              "      <th>13</th>\n",
              "      <td>Transport equipment</td>\n",
              "      <td>235</td>\n",
              "      <td>57</td>\n",
              "      <td>21</td>\n",
              "      <td>20</td>\n",
              "      <td>39</td>\n",
              "      <td>80</td>\n",
              "      <td>206</td>\n",
              "      <td>140</td>\n",
              "      <td>106</td>\n",
              "      <td>...</td>\n",
              "      <td>79208</td>\n",
              "      <td>27681</td>\n",
              "      <td>0</td>\n",
              "      <td>24560</td>\n",
              "      <td>6299</td>\n",
              "      <td>2681</td>\n",
              "      <td>0</td>\n",
              "      <td>116106</td>\n",
              "      <td>177327</td>\n",
              "      <td>256535</td>\n",
              "    </tr>\n",
              "    <tr>\n",
              "      <th>14</th>\n",
              "      <td>Other manufactured products</td>\n",
              "      <td>8</td>\n",
              "      <td>1</td>\n",
              "      <td>198</td>\n",
              "      <td>319</td>\n",
              "      <td>22</td>\n",
              "      <td>6</td>\n",
              "      <td>28</td>\n",
              "      <td>6</td>\n",
              "      <td>14</td>\n",
              "      <td>...</td>\n",
              "      <td>11060</td>\n",
              "      <td>6254</td>\n",
              "      <td>0</td>\n",
              "      <td>2497</td>\n",
              "      <td>242</td>\n",
              "      <td>277</td>\n",
              "      <td>1191</td>\n",
              "      <td>2563</td>\n",
              "      <td>13024</td>\n",
              "      <td>24084</td>\n",
              "    </tr>\n",
              "    <tr>\n",
              "      <th>15</th>\n",
              "      <td>Manufacturing services and repair services of ...</td>\n",
              "      <td>163</td>\n",
              "      <td>94</td>\n",
              "      <td>2655</td>\n",
              "      <td>14047</td>\n",
              "      <td>1276</td>\n",
              "      <td>218</td>\n",
              "      <td>4557</td>\n",
              "      <td>739</td>\n",
              "      <td>2183</td>\n",
              "      <td>...</td>\n",
              "      <td>60705</td>\n",
              "      <td>24</td>\n",
              "      <td>0</td>\n",
              "      <td>0</td>\n",
              "      <td>0</td>\n",
              "      <td>0</td>\n",
              "      <td>0</td>\n",
              "      <td>2497</td>\n",
              "      <td>2521</td>\n",
              "      <td>63226</td>\n",
              "    </tr>\n",
              "    <tr>\n",
              "      <th>16</th>\n",
              "      <td>Electricity, gas, and steam supply</td>\n",
              "      <td>663</td>\n",
              "      <td>87</td>\n",
              "      <td>1060</td>\n",
              "      <td>976</td>\n",
              "      <td>1285</td>\n",
              "      <td>1674</td>\n",
              "      <td>5465</td>\n",
              "      <td>1489</td>\n",
              "      <td>6139</td>\n",
              "      <td>...</td>\n",
              "      <td>67183</td>\n",
              "      <td>15898</td>\n",
              "      <td>0</td>\n",
              "      <td>0</td>\n",
              "      <td>0</td>\n",
              "      <td>0</td>\n",
              "      <td>0</td>\n",
              "      <td>104</td>\n",
              "      <td>16002</td>\n",
              "      <td>83185</td>\n",
              "    </tr>\n",
              "    <tr>\n",
              "      <th>17</th>\n",
              "      <td>Water supply, sewage and waste treatment and d...</td>\n",
              "      <td>67</td>\n",
              "      <td>11</td>\n",
              "      <td>331</td>\n",
              "      <td>205</td>\n",
              "      <td>421</td>\n",
              "      <td>69</td>\n",
              "      <td>1487</td>\n",
              "      <td>293</td>\n",
              "      <td>2477</td>\n",
              "      <td>...</td>\n",
              "      <td>12781</td>\n",
              "      <td>3059</td>\n",
              "      <td>1044</td>\n",
              "      <td>0</td>\n",
              "      <td>0</td>\n",
              "      <td>0</td>\n",
              "      <td>0</td>\n",
              "      <td>343</td>\n",
              "      <td>4446</td>\n",
              "      <td>17227</td>\n",
              "    </tr>\n",
              "    <tr>\n",
              "      <th>18</th>\n",
              "      <td>Construction</td>\n",
              "      <td>67</td>\n",
              "      <td>13</td>\n",
              "      <td>57</td>\n",
              "      <td>23</td>\n",
              "      <td>24</td>\n",
              "      <td>45</td>\n",
              "      <td>160</td>\n",
              "      <td>28</td>\n",
              "      <td>129</td>\n",
              "      <td>...</td>\n",
              "      <td>10244</td>\n",
              "      <td>0</td>\n",
              "      <td>0</td>\n",
              "      <td>148566</td>\n",
              "      <td>42608</td>\n",
              "      <td>-1274</td>\n",
              "      <td>0</td>\n",
              "      <td>148</td>\n",
              "      <td>190048</td>\n",
              "      <td>200292</td>\n",
              "    </tr>\n",
              "    <tr>\n",
              "      <th>19</th>\n",
              "      <td>Wholesale and retail trade and commodity broke...</td>\n",
              "      <td>2168</td>\n",
              "      <td>50</td>\n",
              "      <td>7959</td>\n",
              "      <td>5724</td>\n",
              "      <td>1825</td>\n",
              "      <td>1038</td>\n",
              "      <td>7684</td>\n",
              "      <td>1096</td>\n",
              "      <td>2465</td>\n",
              "      <td>...</td>\n",
              "      <td>120414</td>\n",
              "      <td>70717</td>\n",
              "      <td>0</td>\n",
              "      <td>9900</td>\n",
              "      <td>633</td>\n",
              "      <td>1099</td>\n",
              "      <td>285</td>\n",
              "      <td>21611</td>\n",
              "      <td>104245</td>\n",
              "      <td>224659</td>\n",
              "    </tr>\n",
              "    <tr>\n",
              "      <th>20</th>\n",
              "      <td>Transportation</td>\n",
              "      <td>719</td>\n",
              "      <td>478</td>\n",
              "      <td>3796</td>\n",
              "      <td>1920</td>\n",
              "      <td>1695</td>\n",
              "      <td>849</td>\n",
              "      <td>6737</td>\n",
              "      <td>3770</td>\n",
              "      <td>3320</td>\n",
              "      <td>...</td>\n",
              "      <td>89349</td>\n",
              "      <td>22910</td>\n",
              "      <td>0</td>\n",
              "      <td>216</td>\n",
              "      <td>57</td>\n",
              "      <td>73</td>\n",
              "      <td>7</td>\n",
              "      <td>33987</td>\n",
              "      <td>57250</td>\n",
              "      <td>146599</td>\n",
              "    </tr>\n",
              "    <tr>\n",
              "      <th>21</th>\n",
              "      <td>Food services and accommodation</td>\n",
              "      <td>404</td>\n",
              "      <td>70</td>\n",
              "      <td>386</td>\n",
              "      <td>471</td>\n",
              "      <td>395</td>\n",
              "      <td>282</td>\n",
              "      <td>1298</td>\n",
              "      <td>304</td>\n",
              "      <td>718</td>\n",
              "      <td>...</td>\n",
              "      <td>49718</td>\n",
              "      <td>73699</td>\n",
              "      <td>0</td>\n",
              "      <td>0</td>\n",
              "      <td>0</td>\n",
              "      <td>0</td>\n",
              "      <td>0</td>\n",
              "      <td>6306</td>\n",
              "      <td>80005</td>\n",
              "      <td>129723</td>\n",
              "    </tr>\n",
              "    <tr>\n",
              "      <th>22</th>\n",
              "      <td>Communications and broadcasting</td>\n",
              "      <td>164</td>\n",
              "      <td>17</td>\n",
              "      <td>208</td>\n",
              "      <td>173</td>\n",
              "      <td>212</td>\n",
              "      <td>364</td>\n",
              "      <td>597</td>\n",
              "      <td>189</td>\n",
              "      <td>405</td>\n",
              "      <td>...</td>\n",
              "      <td>66948</td>\n",
              "      <td>29077</td>\n",
              "      <td>0</td>\n",
              "      <td>25116</td>\n",
              "      <td>217</td>\n",
              "      <td>18</td>\n",
              "      <td>0</td>\n",
              "      <td>4950</td>\n",
              "      <td>59378</td>\n",
              "      <td>126326</td>\n",
              "    </tr>\n",
              "    <tr>\n",
              "      <th>23</th>\n",
              "      <td>Finance and insurance</td>\n",
              "      <td>785</td>\n",
              "      <td>148</td>\n",
              "      <td>730</td>\n",
              "      <td>832</td>\n",
              "      <td>575</td>\n",
              "      <td>194</td>\n",
              "      <td>2114</td>\n",
              "      <td>438</td>\n",
              "      <td>1360</td>\n",
              "      <td>...</td>\n",
              "      <td>81990</td>\n",
              "      <td>58656</td>\n",
              "      <td>0</td>\n",
              "      <td>0</td>\n",
              "      <td>0</td>\n",
              "      <td>0</td>\n",
              "      <td>0</td>\n",
              "      <td>2560</td>\n",
              "      <td>61216</td>\n",
              "      <td>143206</td>\n",
              "    </tr>\n",
              "    <tr>\n",
              "      <th>24</th>\n",
              "      <td>Real estate services</td>\n",
              "      <td>44</td>\n",
              "      <td>6</td>\n",
              "      <td>214</td>\n",
              "      <td>351</td>\n",
              "      <td>145</td>\n",
              "      <td>141</td>\n",
              "      <td>347</td>\n",
              "      <td>68</td>\n",
              "      <td>330</td>\n",
              "      <td>...</td>\n",
              "      <td>46558</td>\n",
              "      <td>102756</td>\n",
              "      <td>0</td>\n",
              "      <td>23290</td>\n",
              "      <td>15</td>\n",
              "      <td>0</td>\n",
              "      <td>0</td>\n",
              "      <td>385</td>\n",
              "      <td>126446</td>\n",
              "      <td>173004</td>\n",
              "    </tr>\n",
              "    <tr>\n",
              "      <th>25</th>\n",
              "      <td>Professional, scientific, and technical services</td>\n",
              "      <td>670</td>\n",
              "      <td>156</td>\n",
              "      <td>3105</td>\n",
              "      <td>1204</td>\n",
              "      <td>792</td>\n",
              "      <td>2481</td>\n",
              "      <td>9361</td>\n",
              "      <td>1119</td>\n",
              "      <td>4006</td>\n",
              "      <td>...</td>\n",
              "      <td>108858</td>\n",
              "      <td>2813</td>\n",
              "      <td>0</td>\n",
              "      <td>52702</td>\n",
              "      <td>8892</td>\n",
              "      <td>0</td>\n",
              "      <td>0</td>\n",
              "      <td>14239</td>\n",
              "      <td>78646</td>\n",
              "      <td>187504</td>\n",
              "    </tr>\n",
              "    <tr>\n",
              "      <th>26</th>\n",
              "      <td>Business support services</td>\n",
              "      <td>119</td>\n",
              "      <td>115</td>\n",
              "      <td>360</td>\n",
              "      <td>331</td>\n",
              "      <td>330</td>\n",
              "      <td>479</td>\n",
              "      <td>991</td>\n",
              "      <td>209</td>\n",
              "      <td>1206</td>\n",
              "      <td>...</td>\n",
              "      <td>68861</td>\n",
              "      <td>3479</td>\n",
              "      <td>0</td>\n",
              "      <td>0</td>\n",
              "      <td>0</td>\n",
              "      <td>0</td>\n",
              "      <td>0</td>\n",
              "      <td>7866</td>\n",
              "      <td>11345</td>\n",
              "      <td>80206</td>\n",
              "    </tr>\n",
              "    <tr>\n",
              "      <th>27</th>\n",
              "      <td>Public administration, defense, and social sec...</td>\n",
              "      <td>82</td>\n",
              "      <td>0</td>\n",
              "      <td>0</td>\n",
              "      <td>0</td>\n",
              "      <td>0</td>\n",
              "      <td>0</td>\n",
              "      <td>0</td>\n",
              "      <td>0</td>\n",
              "      <td>0</td>\n",
              "      <td>...</td>\n",
              "      <td>2445</td>\n",
              "      <td>1213</td>\n",
              "      <td>107307</td>\n",
              "      <td>0</td>\n",
              "      <td>0</td>\n",
              "      <td>0</td>\n",
              "      <td>0</td>\n",
              "      <td>34</td>\n",
              "      <td>108554</td>\n",
              "      <td>110999</td>\n",
              "    </tr>\n",
              "    <tr>\n",
              "      <th>28</th>\n",
              "      <td>Education services</td>\n",
              "      <td>3</td>\n",
              "      <td>1</td>\n",
              "      <td>22</td>\n",
              "      <td>7</td>\n",
              "      <td>14</td>\n",
              "      <td>23</td>\n",
              "      <td>83</td>\n",
              "      <td>15</td>\n",
              "      <td>58</td>\n",
              "      <td>...</td>\n",
              "      <td>1951</td>\n",
              "      <td>50067</td>\n",
              "      <td>53985</td>\n",
              "      <td>0</td>\n",
              "      <td>0</td>\n",
              "      <td>0</td>\n",
              "      <td>0</td>\n",
              "      <td>153</td>\n",
              "      <td>104205</td>\n",
              "      <td>106156</td>\n",
              "    </tr>\n",
              "    <tr>\n",
              "      <th>29</th>\n",
              "      <td>Health and social care services</td>\n",
              "      <td>107</td>\n",
              "      <td>10</td>\n",
              "      <td>91</td>\n",
              "      <td>62</td>\n",
              "      <td>63</td>\n",
              "      <td>39</td>\n",
              "      <td>214</td>\n",
              "      <td>47</td>\n",
              "      <td>120</td>\n",
              "      <td>...</td>\n",
              "      <td>6396</td>\n",
              "      <td>41159</td>\n",
              "      <td>59887</td>\n",
              "      <td>0</td>\n",
              "      <td>0</td>\n",
              "      <td>0</td>\n",
              "      <td>0</td>\n",
              "      <td>332</td>\n",
              "      <td>101378</td>\n",
              "      <td>107774</td>\n",
              "    </tr>\n",
              "    <tr>\n",
              "      <th>30</th>\n",
              "      <td>Art, sports, and leisure services</td>\n",
              "      <td>50</td>\n",
              "      <td>17</td>\n",
              "      <td>55</td>\n",
              "      <td>60</td>\n",
              "      <td>55</td>\n",
              "      <td>49</td>\n",
              "      <td>176</td>\n",
              "      <td>37</td>\n",
              "      <td>147</td>\n",
              "      <td>...</td>\n",
              "      <td>6862</td>\n",
              "      <td>29847</td>\n",
              "      <td>1722</td>\n",
              "      <td>427</td>\n",
              "      <td>0</td>\n",
              "      <td>0</td>\n",
              "      <td>23</td>\n",
              "      <td>929</td>\n",
              "      <td>32948</td>\n",
              "      <td>39810</td>\n",
              "    </tr>\n",
              "    <tr>\n",
              "      <th>31</th>\n",
              "      <td>Other services</td>\n",
              "      <td>91</td>\n",
              "      <td>18</td>\n",
              "      <td>155</td>\n",
              "      <td>78</td>\n",
              "      <td>75</td>\n",
              "      <td>114</td>\n",
              "      <td>258</td>\n",
              "      <td>93</td>\n",
              "      <td>230</td>\n",
              "      <td>...</td>\n",
              "      <td>12516</td>\n",
              "      <td>35997</td>\n",
              "      <td>0</td>\n",
              "      <td>0</td>\n",
              "      <td>0</td>\n",
              "      <td>0</td>\n",
              "      <td>0</td>\n",
              "      <td>548</td>\n",
              "      <td>36545</td>\n",
              "      <td>49061</td>\n",
              "    </tr>\n",
              "    <tr>\n",
              "      <th>32</th>\n",
              "      <td>Others</td>\n",
              "      <td>265</td>\n",
              "      <td>11</td>\n",
              "      <td>57</td>\n",
              "      <td>40</td>\n",
              "      <td>48</td>\n",
              "      <td>77</td>\n",
              "      <td>546</td>\n",
              "      <td>27</td>\n",
              "      <td>79</td>\n",
              "      <td>...</td>\n",
              "      <td>3708</td>\n",
              "      <td>-285</td>\n",
              "      <td>0</td>\n",
              "      <td>0</td>\n",
              "      <td>0</td>\n",
              "      <td>0</td>\n",
              "      <td>0</td>\n",
              "      <td>0</td>\n",
              "      <td>-285</td>\n",
              "      <td>3423</td>\n",
              "    </tr>\n",
              "    <tr>\n",
              "      <th>33</th>\n",
              "      <td>Total intermediate input</td>\n",
              "      <td>25095</td>\n",
              "      <td>1781</td>\n",
              "      <td>81289</td>\n",
              "      <td>56363</td>\n",
              "      <td>26202</td>\n",
              "      <td>65784</td>\n",
              "      <td>154026</td>\n",
              "      <td>24243</td>\n",
              "      <td>87610</td>\n",
              "      <td>...</td>\n",
              "      <td>1947041</td>\n",
              "      <td>717235</td>\n",
              "      <td>223945</td>\n",
              "      <td>364101</td>\n",
              "      <td>64207</td>\n",
              "      <td>5968</td>\n",
              "      <td>1686</td>\n",
              "      <td>641917</td>\n",
              "      <td>2019059</td>\n",
              "      <td>3966100</td>\n",
              "    </tr>\n",
              "    <tr>\n",
              "      <th>34</th>\n",
              "      <td>Compensation of employees</td>\n",
              "      <td>4719</td>\n",
              "      <td>625</td>\n",
              "      <td>8915</td>\n",
              "      <td>6675</td>\n",
              "      <td>5377</td>\n",
              "      <td>1230</td>\n",
              "      <td>19286</td>\n",
              "      <td>4180</td>\n",
              "      <td>7986</td>\n",
              "      <td>...</td>\n",
              "      <td>675192</td>\n",
              "      <td>0</td>\n",
              "      <td>0</td>\n",
              "      <td>0</td>\n",
              "      <td>0</td>\n",
              "      <td>0</td>\n",
              "      <td>0</td>\n",
              "      <td>0</td>\n",
              "      <td>0</td>\n",
              "      <td>0</td>\n",
              "    </tr>\n",
              "    <tr>\n",
              "      <th>35</th>\n",
              "      <td>Net operating surplus</td>\n",
              "      <td>20249</td>\n",
              "      <td>1026</td>\n",
              "      <td>5074</td>\n",
              "      <td>4545</td>\n",
              "      <td>5066</td>\n",
              "      <td>10100</td>\n",
              "      <td>29512</td>\n",
              "      <td>3702</td>\n",
              "      <td>8317</td>\n",
              "      <td>...</td>\n",
              "      <td>409384</td>\n",
              "      <td>0</td>\n",
              "      <td>0</td>\n",
              "      <td>0</td>\n",
              "      <td>0</td>\n",
              "      <td>0</td>\n",
              "      <td>0</td>\n",
              "      <td>0</td>\n",
              "      <td>0</td>\n",
              "      <td>0</td>\n",
              "    </tr>\n",
              "    <tr>\n",
              "      <th>36</th>\n",
              "      <td>Consumption of fixed capital</td>\n",
              "      <td>4346</td>\n",
              "      <td>320</td>\n",
              "      <td>3437</td>\n",
              "      <td>1926</td>\n",
              "      <td>999</td>\n",
              "      <td>2475</td>\n",
              "      <td>14489</td>\n",
              "      <td>2884</td>\n",
              "      <td>7360</td>\n",
              "      <td>...</td>\n",
              "      <td>278702</td>\n",
              "      <td>0</td>\n",
              "      <td>0</td>\n",
              "      <td>0</td>\n",
              "      <td>0</td>\n",
              "      <td>0</td>\n",
              "      <td>0</td>\n",
              "      <td>0</td>\n",
              "      <td>0</td>\n",
              "      <td>0</td>\n",
              "    </tr>\n",
              "    <tr>\n",
              "      <th>37</th>\n",
              "      <td>Taxes on production and products less subsidies</td>\n",
              "      <td>549</td>\n",
              "      <td>-56</td>\n",
              "      <td>10664</td>\n",
              "      <td>1527</td>\n",
              "      <td>783</td>\n",
              "      <td>19047</td>\n",
              "      <td>2419</td>\n",
              "      <td>520</td>\n",
              "      <td>581</td>\n",
              "      <td>...</td>\n",
              "      <td>122492</td>\n",
              "      <td>0</td>\n",
              "      <td>0</td>\n",
              "      <td>0</td>\n",
              "      <td>0</td>\n",
              "      <td>0</td>\n",
              "      <td>0</td>\n",
              "      <td>0</td>\n",
              "      <td>0</td>\n",
              "      <td>0</td>\n",
              "    </tr>\n",
              "    <tr>\n",
              "      <th>38</th>\n",
              "      <td>Total value added</td>\n",
              "      <td>29863</td>\n",
              "      <td>1915</td>\n",
              "      <td>28090</td>\n",
              "      <td>14673</td>\n",
              "      <td>12225</td>\n",
              "      <td>32852</td>\n",
              "      <td>65706</td>\n",
              "      <td>11286</td>\n",
              "      <td>24244</td>\n",
              "      <td>...</td>\n",
              "      <td>1485770</td>\n",
              "      <td>0</td>\n",
              "      <td>0</td>\n",
              "      <td>0</td>\n",
              "      <td>0</td>\n",
              "      <td>0</td>\n",
              "      <td>0</td>\n",
              "      <td>0</td>\n",
              "      <td>0</td>\n",
              "      <td>0</td>\n",
              "    </tr>\n",
              "    <tr>\n",
              "      <th>39</th>\n",
              "      <td>Total input</td>\n",
              "      <td>54958</td>\n",
              "      <td>3696</td>\n",
              "      <td>109379</td>\n",
              "      <td>71036</td>\n",
              "      <td>38427</td>\n",
              "      <td>98636</td>\n",
              "      <td>219732</td>\n",
              "      <td>35529</td>\n",
              "      <td>111854</td>\n",
              "      <td>...</td>\n",
              "      <td>3432811</td>\n",
              "      <td>0</td>\n",
              "      <td>0</td>\n",
              "      <td>0</td>\n",
              "      <td>0</td>\n",
              "      <td>0</td>\n",
              "      <td>0</td>\n",
              "      <td>0</td>\n",
              "      <td>0</td>\n",
              "      <td>0</td>\n",
              "    </tr>\n",
              "  </tbody>\n",
              "</table>\n",
              "<p>40 rows × 44 columns</p>\n",
              "</div>\n",
              "      <button class=\"colab-df-convert\" onclick=\"convertToInteractive('df-4d6cf6c0-62f0-40a3-a364-6cdab835bc1d')\"\n",
              "              title=\"Convert this dataframe to an interactive table.\"\n",
              "              style=\"display:none;\">\n",
              "        \n",
              "  <svg xmlns=\"http://www.w3.org/2000/svg\" height=\"24px\"viewBox=\"0 0 24 24\"\n",
              "       width=\"24px\">\n",
              "    <path d=\"M0 0h24v24H0V0z\" fill=\"none\"/>\n",
              "    <path d=\"M18.56 5.44l.94 2.06.94-2.06 2.06-.94-2.06-.94-.94-2.06-.94 2.06-2.06.94zm-11 1L8.5 8.5l.94-2.06 2.06-.94-2.06-.94L8.5 2.5l-.94 2.06-2.06.94zm10 10l.94 2.06.94-2.06 2.06-.94-2.06-.94-.94-2.06-.94 2.06-2.06.94z\"/><path d=\"M17.41 7.96l-1.37-1.37c-.4-.4-.92-.59-1.43-.59-.52 0-1.04.2-1.43.59L10.3 9.45l-7.72 7.72c-.78.78-.78 2.05 0 2.83L4 21.41c.39.39.9.59 1.41.59.51 0 1.02-.2 1.41-.59l7.78-7.78 2.81-2.81c.8-.78.8-2.07 0-2.86zM5.41 20L4 18.59l7.72-7.72 1.47 1.35L5.41 20z\"/>\n",
              "  </svg>\n",
              "      </button>\n",
              "      \n",
              "  <style>\n",
              "    .colab-df-container {\n",
              "      display:flex;\n",
              "      flex-wrap:wrap;\n",
              "      gap: 12px;\n",
              "    }\n",
              "\n",
              "    .colab-df-convert {\n",
              "      background-color: #E8F0FE;\n",
              "      border: none;\n",
              "      border-radius: 50%;\n",
              "      cursor: pointer;\n",
              "      display: none;\n",
              "      fill: #1967D2;\n",
              "      height: 32px;\n",
              "      padding: 0 0 0 0;\n",
              "      width: 32px;\n",
              "    }\n",
              "\n",
              "    .colab-df-convert:hover {\n",
              "      background-color: #E2EBFA;\n",
              "      box-shadow: 0px 1px 2px rgba(60, 64, 67, 0.3), 0px 1px 3px 1px rgba(60, 64, 67, 0.15);\n",
              "      fill: #174EA6;\n",
              "    }\n",
              "\n",
              "    [theme=dark] .colab-df-convert {\n",
              "      background-color: #3B4455;\n",
              "      fill: #D2E3FC;\n",
              "    }\n",
              "\n",
              "    [theme=dark] .colab-df-convert:hover {\n",
              "      background-color: #434B5C;\n",
              "      box-shadow: 0px 1px 3px 1px rgba(0, 0, 0, 0.15);\n",
              "      filter: drop-shadow(0px 1px 2px rgba(0, 0, 0, 0.3));\n",
              "      fill: #FFFFFF;\n",
              "    }\n",
              "  </style>\n",
              "\n",
              "      <script>\n",
              "        const buttonEl =\n",
              "          document.querySelector('#df-4d6cf6c0-62f0-40a3-a364-6cdab835bc1d button.colab-df-convert');\n",
              "        buttonEl.style.display =\n",
              "          google.colab.kernel.accessAllowed ? 'block' : 'none';\n",
              "\n",
              "        async function convertToInteractive(key) {\n",
              "          const element = document.querySelector('#df-4d6cf6c0-62f0-40a3-a364-6cdab835bc1d');\n",
              "          const dataTable =\n",
              "            await google.colab.kernel.invokeFunction('convertToInteractive',\n",
              "                                                     [key], {});\n",
              "          if (!dataTable) return;\n",
              "\n",
              "          const docLinkHtml = 'Like what you see? Visit the ' +\n",
              "            '<a target=\"_blank\" href=https://colab.research.google.com/notebooks/data_table.ipynb>data table notebook</a>'\n",
              "            + ' to learn more about interactive tables.';\n",
              "          element.innerHTML = '';\n",
              "          dataTable['output_type'] = 'display_data';\n",
              "          await google.colab.output.renderOutput(dataTable, element);\n",
              "          const docLink = document.createElement('div');\n",
              "          docLink.innerHTML = docLinkHtml;\n",
              "          element.appendChild(docLink);\n",
              "        }\n",
              "      </script>\n",
              "    </div>\n",
              "  </div>\n",
              "  "
            ]
          },
          "metadata": {},
          "execution_count": 42
        }
      ]
    },
    {
      "cell_type": "code",
      "source": [
        "url_imp = \"https://raw.githubusercontent.com/Tom-Jung/legendary-funicular/main/Import_M_F.csv\"\n",
        "Imp = pd.read_csv(url_imp)"
      ],
      "metadata": {
        "id": "rKM4Ev3WA0Re"
      },
      "execution_count": null,
      "outputs": []
    },
    {
      "cell_type": "code",
      "source": [
        "Imp"
      ],
      "metadata": {
        "id": "04ZlUM_XA0PC",
        "colab": {
          "base_uri": "https://localhost:8080/",
          "height": 1000
        },
        "outputId": "e2d78fb4-79d9-4ac4-f4ff-98174de3555e"
      },
      "execution_count": null,
      "outputs": [
        {
          "output_type": "execute_result",
          "data": {
            "text/plain": [
              "                                                   bb  \\\n",
              "0             Agricultural, forest, and fishery goods   \n",
              "1                            Mined and quarried goods   \n",
              "2                Food, beverages and tobacco products   \n",
              "3                        Textile and leather products   \n",
              "4   Wood and paper products, printing and reproduc...   \n",
              "5                         Petroleum and coal products   \n",
              "6                                   Chemical products   \n",
              "7                       Non-metallic mineral products   \n",
              "8                                Basic metal products   \n",
              "9   Fabricated metal products, except machinery an...   \n",
              "10  Computing machinery, electronic equipment and ...   \n",
              "11                               Electrical equipment   \n",
              "12                            Machinery and equipment   \n",
              "13                                Transport equipment   \n",
              "14                        Other manufactured products   \n",
              "15  Manufacturing services and repair services of ...   \n",
              "16                 Electricity, gas, and steam supply   \n",
              "17  Water supply, sewage and waste treatment and d...   \n",
              "18                                       Construction   \n",
              "19  Wholesale and retail trade and commodity broke...   \n",
              "20                                     Transportation   \n",
              "21                    Food services and accommodation   \n",
              "22                    Communications and broadcasting   \n",
              "23                              Finance and insurance   \n",
              "24                               Real estate services   \n",
              "25   Professional, scientific, and technical services   \n",
              "26                          Business support services   \n",
              "27  Public administration, defense, and social sec...   \n",
              "28                                 Education services   \n",
              "29                    Health and social care services   \n",
              "30                  Art, sports, and leisure services   \n",
              "31                                     Other services   \n",
              "32                                             Others   \n",
              "33                           Total intermediate input   \n",
              "\n",
              "    Agricultural, forest, and fishery goods  Mined and quarried goods  \\\n",
              "0                                       298                         0   \n",
              "1                                         0                         0   \n",
              "2                                       136                         0   \n",
              "3                                        97                         0   \n",
              "4                                         4                         0   \n",
              "5                                        40                         2   \n",
              "6                                       702                         2   \n",
              "7                                         0                         0   \n",
              "8                                         1                         0   \n",
              "9                                         2                         5   \n",
              "10                                        1                         0   \n",
              "11                                        0                         0   \n",
              "12                                        5                         2   \n",
              "13                                        1                         0   \n",
              "14                                        0                         0   \n",
              "15                                        0                         0   \n",
              "16                                        0                         0   \n",
              "17                                        0                         0   \n",
              "18                                        0                         0   \n",
              "19                                        6                         0   \n",
              "20                                      158                         4   \n",
              "21                                       19                         2   \n",
              "22                                        5                         0   \n",
              "23                                       12                         2   \n",
              "24                                        0                         0   \n",
              "25                                       17                         2   \n",
              "26                                       16                         3   \n",
              "27                                       82                         0   \n",
              "28                                        0                         0   \n",
              "29                                        1                         0   \n",
              "30                                        0                         0   \n",
              "31                                        3                         0   \n",
              "32                                        0                         0   \n",
              "33                                     1606                        24   \n",
              "\n",
              "    Food, beverages and tobacco products  Textile and leather products  \\\n",
              "0                                   5188                           612   \n",
              "1                                      3                             1   \n",
              "2                                   7176                           561   \n",
              "3                                     18                          9916   \n",
              "4                                    142                           349   \n",
              "5                                     43                            67   \n",
              "6                                    331                          1313   \n",
              "7                                     30                             2   \n",
              "8                                      0                             7   \n",
              "9                                     80                           100   \n",
              "10                                     0                             1   \n",
              "11                                     0                             2   \n",
              "12                                    22                            36   \n",
              "13                                     0                             0   \n",
              "14                                     6                           225   \n",
              "15                                     6                          5817   \n",
              "16                                     0                             0   \n",
              "17                                     0                             0   \n",
              "18                                     0                             0   \n",
              "19                                    64                           145   \n",
              "20                                    28                            15   \n",
              "21                                    12                            11   \n",
              "22                                     4                             4   \n",
              "23                                    17                            11   \n",
              "24                                     2                             4   \n",
              "25                                   216                           109   \n",
              "26                                    44                            48   \n",
              "27                                     0                             0   \n",
              "28                                     0                             0   \n",
              "29                                     0                             0   \n",
              "30                                     0                             0   \n",
              "31                                     2                             1   \n",
              "32                                     0                             0   \n",
              "33                                 13434                         19357   \n",
              "\n",
              "    Wood and paper products, printing and reproduction of recorded media   \\\n",
              "0                                                 529                       \n",
              "1                                                  17                       \n",
              "2                                                  11                       \n",
              "3                                                 134                       \n",
              "4                                                3909                       \n",
              "5                                                  77                       \n",
              "6                                                 344                       \n",
              "7                                                   2                       \n",
              "8                                                   0                       \n",
              "9                                                  14                       \n",
              "10                                                 14                       \n",
              "11                                                  0                       \n",
              "12                                                  5                       \n",
              "13                                                  0                       \n",
              "14                                                  2                       \n",
              "15                                                  7                       \n",
              "16                                                  0                       \n",
              "17                                                  0                       \n",
              "18                                                  0                       \n",
              "19                                                 27                       \n",
              "20                                                  5                       \n",
              "21                                                 11                       \n",
              "22                                                  6                       \n",
              "23                                                 10                       \n",
              "24                                                  1                       \n",
              "25                                                 64                       \n",
              "26                                                 48                       \n",
              "27                                                  0                       \n",
              "28                                                  0                       \n",
              "29                                                  0                       \n",
              "30                                                  0                       \n",
              "31                                                  2                       \n",
              "32                                                  0                       \n",
              "33                                               5239                       \n",
              "\n",
              "    Petroleum and coal products  Chemical products  \\\n",
              "0                             0                686   \n",
              "1                         49036               4405   \n",
              "2                            32                269   \n",
              "3                             0                387   \n",
              "4                             1                 76   \n",
              "5                          2086              11683   \n",
              "6                           519              26615   \n",
              "7                             4                203   \n",
              "8                             7                814   \n",
              "9                            16                168   \n",
              "10                            6                 63   \n",
              "11                            1                 31   \n",
              "12                           31                232   \n",
              "13                            0                 16   \n",
              "14                            0                  7   \n",
              "15                            2                150   \n",
              "16                            3                  4   \n",
              "17                            0                  0   \n",
              "18                            0                  0   \n",
              "19                          264                393   \n",
              "20                            9                 80   \n",
              "21                            9                 42   \n",
              "22                           10                 16   \n",
              "23                            7                 38   \n",
              "24                           11                 34   \n",
              "25                          245               1051   \n",
              "26                          143                224   \n",
              "27                            0                  0   \n",
              "28                            0                  0   \n",
              "29                            0                  0   \n",
              "30                            0                  3   \n",
              "31                            7                 14   \n",
              "32                            0                  0   \n",
              "33                        52449              47704   \n",
              "\n",
              "    Non-metallic mineral products  Basic metal products  ...  \\\n",
              "0                               0                     0  ...   \n",
              "1                             456                 14744  ...   \n",
              "2                               0                     0  ...   \n",
              "3                              12                     2  ...   \n",
              "4                              14                     6  ...   \n",
              "5                             204                   120  ...   \n",
              "6                             431                   174  ...   \n",
              "7                            1366                   343  ...   \n",
              "8                              22                 18743  ...   \n",
              "9                              31                    56  ...   \n",
              "10                             12                    14  ...   \n",
              "11                              6                    42  ...   \n",
              "12                             18                    91  ...   \n",
              "13                              3                     4  ...   \n",
              "14                              0                     0  ...   \n",
              "15                              2                    14  ...   \n",
              "16                              0                     1  ...   \n",
              "17                              0                     0  ...   \n",
              "18                              0                     0  ...   \n",
              "19                             17                   230  ...   \n",
              "20                             18                    34  ...   \n",
              "21                              9                    22  ...   \n",
              "22                              2                    16  ...   \n",
              "23                              9                    20  ...   \n",
              "24                              0                     2  ...   \n",
              "25                             55                   540  ...   \n",
              "26                             17                   263  ...   \n",
              "27                              0                     0  ...   \n",
              "28                              0                     0  ...   \n",
              "29                              0                     0  ...   \n",
              "30                              0                     1  ...   \n",
              "31                              1                     4  ...   \n",
              "32                              0                     0  ...   \n",
              "33                           2705                 35486  ...   \n",
              "\n",
              "    Total intermediate demand  \\\n",
              "0                        7962   \n",
              "1                       95960   \n",
              "2                       12808   \n",
              "3                       11814   \n",
              "4                        6468   \n",
              "5                       22590   \n",
              "6                       48866   \n",
              "7                        5963   \n",
              "8                       34813   \n",
              "9                        5873   \n",
              "10                      57096   \n",
              "11                      11961   \n",
              "12                      14400   \n",
              "13                       7738   \n",
              "14                       1685   \n",
              "15                       8422   \n",
              "16                         32   \n",
              "17                          2   \n",
              "18                         37   \n",
              "19                       2899   \n",
              "20                      14689   \n",
              "21                       1603   \n",
              "22                       3131   \n",
              "23                       2080   \n",
              "24                       1021   \n",
              "25                      15419   \n",
              "26                      11426   \n",
              "27                        517   \n",
              "28                          3   \n",
              "29                          5   \n",
              "30                        273   \n",
              "31                        307   \n",
              "32                          0   \n",
              "33                     407863   \n",
              "\n",
              "    Private final consumption expenditure (Households and NPISH)  \\\n",
              "0                                                2444              \n",
              "1                                                   8              \n",
              "2                                                9439              \n",
              "3                                               11728              \n",
              "4                                                 329              \n",
              "5                                                1106              \n",
              "6                                                4229              \n",
              "7                                                 195              \n",
              "8                                                   6              \n",
              "9                                                 529              \n",
              "10                                               6995              \n",
              "11                                               1135              \n",
              "12                                                288              \n",
              "13                                               6305              \n",
              "14                                               3126              \n",
              "15                                                  0              \n",
              "16                                                 56              \n",
              "17                                                 14              \n",
              "18                                                  0              \n",
              "19                                                  0              \n",
              "20                                               5339              \n",
              "21                                               9983              \n",
              "22                                               1270              \n",
              "23                                                602              \n",
              "24                                                504              \n",
              "25                                                  5              \n",
              "26                                                295              \n",
              "27                                                  0              \n",
              "28                                               1985              \n",
              "29                                                655              \n",
              "30                                               3419              \n",
              "31                                                229              \n",
              "32                                                  0              \n",
              "33                                              72218              \n",
              "\n",
              "    Government final consumption expenditure  \\\n",
              "0                                          0   \n",
              "1                                          0   \n",
              "2                                          0   \n",
              "3                                          0   \n",
              "4                                          0   \n",
              "5                                          0   \n",
              "6                                          0   \n",
              "7                                          0   \n",
              "8                                          0   \n",
              "9                                          0   \n",
              "10                                         0   \n",
              "11                                         0   \n",
              "12                                         0   \n",
              "13                                         0   \n",
              "14                                         0   \n",
              "15                                         0   \n",
              "16                                         0   \n",
              "17                                         0   \n",
              "18                                         0   \n",
              "19                                         0   \n",
              "20                                         0   \n",
              "21                                         0   \n",
              "22                                         0   \n",
              "23                                         0   \n",
              "24                                         0   \n",
              "25                                         0   \n",
              "26                                         0   \n",
              "27                                         0   \n",
              "28                                         0   \n",
              "29                                         0   \n",
              "30                                         0   \n",
              "31                                         0   \n",
              "32                                         0   \n",
              "33                                         0   \n",
              "\n",
              "    Private gross fixed capital formation  \\\n",
              "0                                      32   \n",
              "1                                       0   \n",
              "2                                       0   \n",
              "3                                      43   \n",
              "4                                       0   \n",
              "5                                       0   \n",
              "6                                       0   \n",
              "7                                       0   \n",
              "8                                       0   \n",
              "9                                     211   \n",
              "10                                  10253   \n",
              "11                                   2583   \n",
              "12                                  18370   \n",
              "13                                  10127   \n",
              "14                                    659   \n",
              "15                                      0   \n",
              "16                                      0   \n",
              "17                                      0   \n",
              "18                                      0   \n",
              "19                                      0   \n",
              "20                                      0   \n",
              "21                                      0   \n",
              "22                                    656   \n",
              "23                                      0   \n",
              "24                                      0   \n",
              "25                                   4831   \n",
              "26                                      0   \n",
              "27                                      0   \n",
              "28                                      0   \n",
              "29                                      0   \n",
              "30                                     12   \n",
              "31                                      0   \n",
              "32                                      0   \n",
              "33                                  47777   \n",
              "\n",
              "    Government gross fixed capital formation  Changes in inventories  \\\n",
              "0                                          1                     -48   \n",
              "1                                          0                     -75   \n",
              "2                                          0                      -3   \n",
              "3                                          5                     183   \n",
              "4                                          0                      27   \n",
              "5                                          0                     125   \n",
              "6                                          0                      -9   \n",
              "7                                          0                      11   \n",
              "8                                          0                    -414   \n",
              "9                                        509                       5   \n",
              "10                                       697                     208   \n",
              "11                                        39                      54   \n",
              "12                                        66                      41   \n",
              "13                                      1133                     223   \n",
              "14                                        33                      95   \n",
              "15                                         0                       0   \n",
              "16                                         0                       0   \n",
              "17                                         0                       0   \n",
              "18                                        14                       0   \n",
              "19                                         0                       0   \n",
              "20                                         0                       0   \n",
              "21                                         0                       0   \n",
              "22                                         9                       2   \n",
              "23                                         0                       0   \n",
              "24                                         0                       0   \n",
              "25                                       225                       0   \n",
              "26                                         0                       0   \n",
              "27                                         0                       0   \n",
              "28                                         0                       0   \n",
              "29                                         0                       0   \n",
              "30                                         0                       0   \n",
              "31                                         0                       0   \n",
              "32                                         0                       0   \n",
              "33                                      2731                     425   \n",
              "\n",
              "    Acquisitions less disposals of valuables  Exports  Total final demand  \\\n",
              "0                                          0        0                2429   \n",
              "1                                          0        0                 -67   \n",
              "2                                          0      137                9573   \n",
              "3                                          0      499               12458   \n",
              "4                                          0        0                 356   \n",
              "5                                          0        0                1231   \n",
              "6                                          0      715                4935   \n",
              "7                                          0        0                 206   \n",
              "8                                         86        0                -322   \n",
              "9                                          0        0                1254   \n",
              "10                                         0      355               18508   \n",
              "11                                         0       15                3826   \n",
              "12                                         0        0               18765   \n",
              "13                                         0        0               17788   \n",
              "14                                       351       96                4360   \n",
              "15                                         0        0                   0   \n",
              "16                                         0        0                  56   \n",
              "17                                         0        0                  14   \n",
              "18                                         0        0                  14   \n",
              "19                                         0        0                   0   \n",
              "20                                         0        0                5339   \n",
              "21                                         0        0                9983   \n",
              "22                                         0        0                1937   \n",
              "23                                         0        0                 602   \n",
              "24                                         0        0                 504   \n",
              "25                                         0        0                5061   \n",
              "26                                         0        0                 295   \n",
              "27                                         0        0                   0   \n",
              "28                                         0        0                1985   \n",
              "29                                         0        0                 655   \n",
              "30                                        21        0                3452   \n",
              "31                                         0        0                 229   \n",
              "32                                         0        0                   0   \n",
              "33                                       458     1817              125426   \n",
              "\n",
              "    Total demand  \n",
              "0          10391  \n",
              "1          95893  \n",
              "2          22381  \n",
              "3          24272  \n",
              "4           6824  \n",
              "5          23821  \n",
              "6          53801  \n",
              "7           6169  \n",
              "8          34491  \n",
              "9           7127  \n",
              "10         75604  \n",
              "11         15787  \n",
              "12         33165  \n",
              "13         25526  \n",
              "14          6045  \n",
              "15          8422  \n",
              "16            88  \n",
              "17            16  \n",
              "18            51  \n",
              "19          2899  \n",
              "20         20028  \n",
              "21         11586  \n",
              "22          5068  \n",
              "23          2682  \n",
              "24          1525  \n",
              "25         20480  \n",
              "26         11721  \n",
              "27           517  \n",
              "28          1988  \n",
              "29           660  \n",
              "30          3725  \n",
              "31           536  \n",
              "32             0  \n",
              "33        533289  \n",
              "\n",
              "[34 rows x 44 columns]"
            ],
            "text/html": [
              "\n",
              "  <div id=\"df-3bbb84b4-e7be-4841-bdae-59cc64011343\">\n",
              "    <div class=\"colab-df-container\">\n",
              "      <div>\n",
              "<style scoped>\n",
              "    .dataframe tbody tr th:only-of-type {\n",
              "        vertical-align: middle;\n",
              "    }\n",
              "\n",
              "    .dataframe tbody tr th {\n",
              "        vertical-align: top;\n",
              "    }\n",
              "\n",
              "    .dataframe thead th {\n",
              "        text-align: right;\n",
              "    }\n",
              "</style>\n",
              "<table border=\"1\" class=\"dataframe\">\n",
              "  <thead>\n",
              "    <tr style=\"text-align: right;\">\n",
              "      <th></th>\n",
              "      <th>bb</th>\n",
              "      <th>Agricultural, forest, and fishery goods</th>\n",
              "      <th>Mined and quarried goods</th>\n",
              "      <th>Food, beverages and tobacco products</th>\n",
              "      <th>Textile and leather products</th>\n",
              "      <th>Wood and paper products, printing and reproduction of recorded media</th>\n",
              "      <th>Petroleum and coal products</th>\n",
              "      <th>Chemical products</th>\n",
              "      <th>Non-metallic mineral products</th>\n",
              "      <th>Basic metal products</th>\n",
              "      <th>...</th>\n",
              "      <th>Total intermediate demand</th>\n",
              "      <th>Private final consumption expenditure (Households and NPISH)</th>\n",
              "      <th>Government final consumption expenditure</th>\n",
              "      <th>Private gross fixed capital formation</th>\n",
              "      <th>Government gross fixed capital formation</th>\n",
              "      <th>Changes in inventories</th>\n",
              "      <th>Acquisitions less disposals of valuables</th>\n",
              "      <th>Exports</th>\n",
              "      <th>Total final demand</th>\n",
              "      <th>Total demand</th>\n",
              "    </tr>\n",
              "  </thead>\n",
              "  <tbody>\n",
              "    <tr>\n",
              "      <th>0</th>\n",
              "      <td>Agricultural, forest, and fishery goods</td>\n",
              "      <td>298</td>\n",
              "      <td>0</td>\n",
              "      <td>5188</td>\n",
              "      <td>612</td>\n",
              "      <td>529</td>\n",
              "      <td>0</td>\n",
              "      <td>686</td>\n",
              "      <td>0</td>\n",
              "      <td>0</td>\n",
              "      <td>...</td>\n",
              "      <td>7962</td>\n",
              "      <td>2444</td>\n",
              "      <td>0</td>\n",
              "      <td>32</td>\n",
              "      <td>1</td>\n",
              "      <td>-48</td>\n",
              "      <td>0</td>\n",
              "      <td>0</td>\n",
              "      <td>2429</td>\n",
              "      <td>10391</td>\n",
              "    </tr>\n",
              "    <tr>\n",
              "      <th>1</th>\n",
              "      <td>Mined and quarried goods</td>\n",
              "      <td>0</td>\n",
              "      <td>0</td>\n",
              "      <td>3</td>\n",
              "      <td>1</td>\n",
              "      <td>17</td>\n",
              "      <td>49036</td>\n",
              "      <td>4405</td>\n",
              "      <td>456</td>\n",
              "      <td>14744</td>\n",
              "      <td>...</td>\n",
              "      <td>95960</td>\n",
              "      <td>8</td>\n",
              "      <td>0</td>\n",
              "      <td>0</td>\n",
              "      <td>0</td>\n",
              "      <td>-75</td>\n",
              "      <td>0</td>\n",
              "      <td>0</td>\n",
              "      <td>-67</td>\n",
              "      <td>95893</td>\n",
              "    </tr>\n",
              "    <tr>\n",
              "      <th>2</th>\n",
              "      <td>Food, beverages and tobacco products</td>\n",
              "      <td>136</td>\n",
              "      <td>0</td>\n",
              "      <td>7176</td>\n",
              "      <td>561</td>\n",
              "      <td>11</td>\n",
              "      <td>32</td>\n",
              "      <td>269</td>\n",
              "      <td>0</td>\n",
              "      <td>0</td>\n",
              "      <td>...</td>\n",
              "      <td>12808</td>\n",
              "      <td>9439</td>\n",
              "      <td>0</td>\n",
              "      <td>0</td>\n",
              "      <td>0</td>\n",
              "      <td>-3</td>\n",
              "      <td>0</td>\n",
              "      <td>137</td>\n",
              "      <td>9573</td>\n",
              "      <td>22381</td>\n",
              "    </tr>\n",
              "    <tr>\n",
              "      <th>3</th>\n",
              "      <td>Textile and leather products</td>\n",
              "      <td>97</td>\n",
              "      <td>0</td>\n",
              "      <td>18</td>\n",
              "      <td>9916</td>\n",
              "      <td>134</td>\n",
              "      <td>0</td>\n",
              "      <td>387</td>\n",
              "      <td>12</td>\n",
              "      <td>2</td>\n",
              "      <td>...</td>\n",
              "      <td>11814</td>\n",
              "      <td>11728</td>\n",
              "      <td>0</td>\n",
              "      <td>43</td>\n",
              "      <td>5</td>\n",
              "      <td>183</td>\n",
              "      <td>0</td>\n",
              "      <td>499</td>\n",
              "      <td>12458</td>\n",
              "      <td>24272</td>\n",
              "    </tr>\n",
              "    <tr>\n",
              "      <th>4</th>\n",
              "      <td>Wood and paper products, printing and reproduc...</td>\n",
              "      <td>4</td>\n",
              "      <td>0</td>\n",
              "      <td>142</td>\n",
              "      <td>349</td>\n",
              "      <td>3909</td>\n",
              "      <td>1</td>\n",
              "      <td>76</td>\n",
              "      <td>14</td>\n",
              "      <td>6</td>\n",
              "      <td>...</td>\n",
              "      <td>6468</td>\n",
              "      <td>329</td>\n",
              "      <td>0</td>\n",
              "      <td>0</td>\n",
              "      <td>0</td>\n",
              "      <td>27</td>\n",
              "      <td>0</td>\n",
              "      <td>0</td>\n",
              "      <td>356</td>\n",
              "      <td>6824</td>\n",
              "    </tr>\n",
              "    <tr>\n",
              "      <th>5</th>\n",
              "      <td>Petroleum and coal products</td>\n",
              "      <td>40</td>\n",
              "      <td>2</td>\n",
              "      <td>43</td>\n",
              "      <td>67</td>\n",
              "      <td>77</td>\n",
              "      <td>2086</td>\n",
              "      <td>11683</td>\n",
              "      <td>204</td>\n",
              "      <td>120</td>\n",
              "      <td>...</td>\n",
              "      <td>22590</td>\n",
              "      <td>1106</td>\n",
              "      <td>0</td>\n",
              "      <td>0</td>\n",
              "      <td>0</td>\n",
              "      <td>125</td>\n",
              "      <td>0</td>\n",
              "      <td>0</td>\n",
              "      <td>1231</td>\n",
              "      <td>23821</td>\n",
              "    </tr>\n",
              "    <tr>\n",
              "      <th>6</th>\n",
              "      <td>Chemical products</td>\n",
              "      <td>702</td>\n",
              "      <td>2</td>\n",
              "      <td>331</td>\n",
              "      <td>1313</td>\n",
              "      <td>344</td>\n",
              "      <td>519</td>\n",
              "      <td>26615</td>\n",
              "      <td>431</td>\n",
              "      <td>174</td>\n",
              "      <td>...</td>\n",
              "      <td>48866</td>\n",
              "      <td>4229</td>\n",
              "      <td>0</td>\n",
              "      <td>0</td>\n",
              "      <td>0</td>\n",
              "      <td>-9</td>\n",
              "      <td>0</td>\n",
              "      <td>715</td>\n",
              "      <td>4935</td>\n",
              "      <td>53801</td>\n",
              "    </tr>\n",
              "    <tr>\n",
              "      <th>7</th>\n",
              "      <td>Non-metallic mineral products</td>\n",
              "      <td>0</td>\n",
              "      <td>0</td>\n",
              "      <td>30</td>\n",
              "      <td>2</td>\n",
              "      <td>2</td>\n",
              "      <td>4</td>\n",
              "      <td>203</td>\n",
              "      <td>1366</td>\n",
              "      <td>343</td>\n",
              "      <td>...</td>\n",
              "      <td>5963</td>\n",
              "      <td>195</td>\n",
              "      <td>0</td>\n",
              "      <td>0</td>\n",
              "      <td>0</td>\n",
              "      <td>11</td>\n",
              "      <td>0</td>\n",
              "      <td>0</td>\n",
              "      <td>206</td>\n",
              "      <td>6169</td>\n",
              "    </tr>\n",
              "    <tr>\n",
              "      <th>8</th>\n",
              "      <td>Basic metal products</td>\n",
              "      <td>1</td>\n",
              "      <td>0</td>\n",
              "      <td>0</td>\n",
              "      <td>7</td>\n",
              "      <td>0</td>\n",
              "      <td>7</td>\n",
              "      <td>814</td>\n",
              "      <td>22</td>\n",
              "      <td>18743</td>\n",
              "      <td>...</td>\n",
              "      <td>34813</td>\n",
              "      <td>6</td>\n",
              "      <td>0</td>\n",
              "      <td>0</td>\n",
              "      <td>0</td>\n",
              "      <td>-414</td>\n",
              "      <td>86</td>\n",
              "      <td>0</td>\n",
              "      <td>-322</td>\n",
              "      <td>34491</td>\n",
              "    </tr>\n",
              "    <tr>\n",
              "      <th>9</th>\n",
              "      <td>Fabricated metal products, except machinery an...</td>\n",
              "      <td>2</td>\n",
              "      <td>5</td>\n",
              "      <td>80</td>\n",
              "      <td>100</td>\n",
              "      <td>14</td>\n",
              "      <td>16</td>\n",
              "      <td>168</td>\n",
              "      <td>31</td>\n",
              "      <td>56</td>\n",
              "      <td>...</td>\n",
              "      <td>5873</td>\n",
              "      <td>529</td>\n",
              "      <td>0</td>\n",
              "      <td>211</td>\n",
              "      <td>509</td>\n",
              "      <td>5</td>\n",
              "      <td>0</td>\n",
              "      <td>0</td>\n",
              "      <td>1254</td>\n",
              "      <td>7127</td>\n",
              "    </tr>\n",
              "    <tr>\n",
              "      <th>10</th>\n",
              "      <td>Computing machinery, electronic equipment and ...</td>\n",
              "      <td>1</td>\n",
              "      <td>0</td>\n",
              "      <td>0</td>\n",
              "      <td>1</td>\n",
              "      <td>14</td>\n",
              "      <td>6</td>\n",
              "      <td>63</td>\n",
              "      <td>12</td>\n",
              "      <td>14</td>\n",
              "      <td>...</td>\n",
              "      <td>57096</td>\n",
              "      <td>6995</td>\n",
              "      <td>0</td>\n",
              "      <td>10253</td>\n",
              "      <td>697</td>\n",
              "      <td>208</td>\n",
              "      <td>0</td>\n",
              "      <td>355</td>\n",
              "      <td>18508</td>\n",
              "      <td>75604</td>\n",
              "    </tr>\n",
              "    <tr>\n",
              "      <th>11</th>\n",
              "      <td>Electrical equipment</td>\n",
              "      <td>0</td>\n",
              "      <td>0</td>\n",
              "      <td>0</td>\n",
              "      <td>2</td>\n",
              "      <td>0</td>\n",
              "      <td>1</td>\n",
              "      <td>31</td>\n",
              "      <td>6</td>\n",
              "      <td>42</td>\n",
              "      <td>...</td>\n",
              "      <td>11961</td>\n",
              "      <td>1135</td>\n",
              "      <td>0</td>\n",
              "      <td>2583</td>\n",
              "      <td>39</td>\n",
              "      <td>54</td>\n",
              "      <td>0</td>\n",
              "      <td>15</td>\n",
              "      <td>3826</td>\n",
              "      <td>15787</td>\n",
              "    </tr>\n",
              "    <tr>\n",
              "      <th>12</th>\n",
              "      <td>Machinery and equipment</td>\n",
              "      <td>5</td>\n",
              "      <td>2</td>\n",
              "      <td>22</td>\n",
              "      <td>36</td>\n",
              "      <td>5</td>\n",
              "      <td>31</td>\n",
              "      <td>232</td>\n",
              "      <td>18</td>\n",
              "      <td>91</td>\n",
              "      <td>...</td>\n",
              "      <td>14400</td>\n",
              "      <td>288</td>\n",
              "      <td>0</td>\n",
              "      <td>18370</td>\n",
              "      <td>66</td>\n",
              "      <td>41</td>\n",
              "      <td>0</td>\n",
              "      <td>0</td>\n",
              "      <td>18765</td>\n",
              "      <td>33165</td>\n",
              "    </tr>\n",
              "    <tr>\n",
              "      <th>13</th>\n",
              "      <td>Transport equipment</td>\n",
              "      <td>1</td>\n",
              "      <td>0</td>\n",
              "      <td>0</td>\n",
              "      <td>0</td>\n",
              "      <td>0</td>\n",
              "      <td>0</td>\n",
              "      <td>16</td>\n",
              "      <td>3</td>\n",
              "      <td>4</td>\n",
              "      <td>...</td>\n",
              "      <td>7738</td>\n",
              "      <td>6305</td>\n",
              "      <td>0</td>\n",
              "      <td>10127</td>\n",
              "      <td>1133</td>\n",
              "      <td>223</td>\n",
              "      <td>0</td>\n",
              "      <td>0</td>\n",
              "      <td>17788</td>\n",
              "      <td>25526</td>\n",
              "    </tr>\n",
              "    <tr>\n",
              "      <th>14</th>\n",
              "      <td>Other manufactured products</td>\n",
              "      <td>0</td>\n",
              "      <td>0</td>\n",
              "      <td>6</td>\n",
              "      <td>225</td>\n",
              "      <td>2</td>\n",
              "      <td>0</td>\n",
              "      <td>7</td>\n",
              "      <td>0</td>\n",
              "      <td>0</td>\n",
              "      <td>...</td>\n",
              "      <td>1685</td>\n",
              "      <td>3126</td>\n",
              "      <td>0</td>\n",
              "      <td>659</td>\n",
              "      <td>33</td>\n",
              "      <td>95</td>\n",
              "      <td>351</td>\n",
              "      <td>96</td>\n",
              "      <td>4360</td>\n",
              "      <td>6045</td>\n",
              "    </tr>\n",
              "    <tr>\n",
              "      <th>15</th>\n",
              "      <td>Manufacturing services and repair services of ...</td>\n",
              "      <td>0</td>\n",
              "      <td>0</td>\n",
              "      <td>6</td>\n",
              "      <td>5817</td>\n",
              "      <td>7</td>\n",
              "      <td>2</td>\n",
              "      <td>150</td>\n",
              "      <td>2</td>\n",
              "      <td>14</td>\n",
              "      <td>...</td>\n",
              "      <td>8422</td>\n",
              "      <td>0</td>\n",
              "      <td>0</td>\n",
              "      <td>0</td>\n",
              "      <td>0</td>\n",
              "      <td>0</td>\n",
              "      <td>0</td>\n",
              "      <td>0</td>\n",
              "      <td>0</td>\n",
              "      <td>8422</td>\n",
              "    </tr>\n",
              "    <tr>\n",
              "      <th>16</th>\n",
              "      <td>Electricity, gas, and steam supply</td>\n",
              "      <td>0</td>\n",
              "      <td>0</td>\n",
              "      <td>0</td>\n",
              "      <td>0</td>\n",
              "      <td>0</td>\n",
              "      <td>3</td>\n",
              "      <td>4</td>\n",
              "      <td>0</td>\n",
              "      <td>1</td>\n",
              "      <td>...</td>\n",
              "      <td>32</td>\n",
              "      <td>56</td>\n",
              "      <td>0</td>\n",
              "      <td>0</td>\n",
              "      <td>0</td>\n",
              "      <td>0</td>\n",
              "      <td>0</td>\n",
              "      <td>0</td>\n",
              "      <td>56</td>\n",
              "      <td>88</td>\n",
              "    </tr>\n",
              "    <tr>\n",
              "      <th>17</th>\n",
              "      <td>Water supply, sewage and waste treatment and d...</td>\n",
              "      <td>0</td>\n",
              "      <td>0</td>\n",
              "      <td>0</td>\n",
              "      <td>0</td>\n",
              "      <td>0</td>\n",
              "      <td>0</td>\n",
              "      <td>0</td>\n",
              "      <td>0</td>\n",
              "      <td>0</td>\n",
              "      <td>...</td>\n",
              "      <td>2</td>\n",
              "      <td>14</td>\n",
              "      <td>0</td>\n",
              "      <td>0</td>\n",
              "      <td>0</td>\n",
              "      <td>0</td>\n",
              "      <td>0</td>\n",
              "      <td>0</td>\n",
              "      <td>14</td>\n",
              "      <td>16</td>\n",
              "    </tr>\n",
              "    <tr>\n",
              "      <th>18</th>\n",
              "      <td>Construction</td>\n",
              "      <td>0</td>\n",
              "      <td>0</td>\n",
              "      <td>0</td>\n",
              "      <td>0</td>\n",
              "      <td>0</td>\n",
              "      <td>0</td>\n",
              "      <td>0</td>\n",
              "      <td>0</td>\n",
              "      <td>0</td>\n",
              "      <td>...</td>\n",
              "      <td>37</td>\n",
              "      <td>0</td>\n",
              "      <td>0</td>\n",
              "      <td>0</td>\n",
              "      <td>14</td>\n",
              "      <td>0</td>\n",
              "      <td>0</td>\n",
              "      <td>0</td>\n",
              "      <td>14</td>\n",
              "      <td>51</td>\n",
              "    </tr>\n",
              "    <tr>\n",
              "      <th>19</th>\n",
              "      <td>Wholesale and retail trade and commodity broke...</td>\n",
              "      <td>6</td>\n",
              "      <td>0</td>\n",
              "      <td>64</td>\n",
              "      <td>145</td>\n",
              "      <td>27</td>\n",
              "      <td>264</td>\n",
              "      <td>393</td>\n",
              "      <td>17</td>\n",
              "      <td>230</td>\n",
              "      <td>...</td>\n",
              "      <td>2899</td>\n",
              "      <td>0</td>\n",
              "      <td>0</td>\n",
              "      <td>0</td>\n",
              "      <td>0</td>\n",
              "      <td>0</td>\n",
              "      <td>0</td>\n",
              "      <td>0</td>\n",
              "      <td>0</td>\n",
              "      <td>2899</td>\n",
              "    </tr>\n",
              "    <tr>\n",
              "      <th>20</th>\n",
              "      <td>Transportation</td>\n",
              "      <td>158</td>\n",
              "      <td>4</td>\n",
              "      <td>28</td>\n",
              "      <td>15</td>\n",
              "      <td>5</td>\n",
              "      <td>9</td>\n",
              "      <td>80</td>\n",
              "      <td>18</td>\n",
              "      <td>34</td>\n",
              "      <td>...</td>\n",
              "      <td>14689</td>\n",
              "      <td>5339</td>\n",
              "      <td>0</td>\n",
              "      <td>0</td>\n",
              "      <td>0</td>\n",
              "      <td>0</td>\n",
              "      <td>0</td>\n",
              "      <td>0</td>\n",
              "      <td>5339</td>\n",
              "      <td>20028</td>\n",
              "    </tr>\n",
              "    <tr>\n",
              "      <th>21</th>\n",
              "      <td>Food services and accommodation</td>\n",
              "      <td>19</td>\n",
              "      <td>2</td>\n",
              "      <td>12</td>\n",
              "      <td>11</td>\n",
              "      <td>11</td>\n",
              "      <td>9</td>\n",
              "      <td>42</td>\n",
              "      <td>9</td>\n",
              "      <td>22</td>\n",
              "      <td>...</td>\n",
              "      <td>1603</td>\n",
              "      <td>9983</td>\n",
              "      <td>0</td>\n",
              "      <td>0</td>\n",
              "      <td>0</td>\n",
              "      <td>0</td>\n",
              "      <td>0</td>\n",
              "      <td>0</td>\n",
              "      <td>9983</td>\n",
              "      <td>11586</td>\n",
              "    </tr>\n",
              "    <tr>\n",
              "      <th>22</th>\n",
              "      <td>Communications and broadcasting</td>\n",
              "      <td>5</td>\n",
              "      <td>0</td>\n",
              "      <td>4</td>\n",
              "      <td>4</td>\n",
              "      <td>6</td>\n",
              "      <td>10</td>\n",
              "      <td>16</td>\n",
              "      <td>2</td>\n",
              "      <td>16</td>\n",
              "      <td>...</td>\n",
              "      <td>3131</td>\n",
              "      <td>1270</td>\n",
              "      <td>0</td>\n",
              "      <td>656</td>\n",
              "      <td>9</td>\n",
              "      <td>2</td>\n",
              "      <td>0</td>\n",
              "      <td>0</td>\n",
              "      <td>1937</td>\n",
              "      <td>5068</td>\n",
              "    </tr>\n",
              "    <tr>\n",
              "      <th>23</th>\n",
              "      <td>Finance and insurance</td>\n",
              "      <td>12</td>\n",
              "      <td>2</td>\n",
              "      <td>17</td>\n",
              "      <td>11</td>\n",
              "      <td>10</td>\n",
              "      <td>7</td>\n",
              "      <td>38</td>\n",
              "      <td>9</td>\n",
              "      <td>20</td>\n",
              "      <td>...</td>\n",
              "      <td>2080</td>\n",
              "      <td>602</td>\n",
              "      <td>0</td>\n",
              "      <td>0</td>\n",
              "      <td>0</td>\n",
              "      <td>0</td>\n",
              "      <td>0</td>\n",
              "      <td>0</td>\n",
              "      <td>602</td>\n",
              "      <td>2682</td>\n",
              "    </tr>\n",
              "    <tr>\n",
              "      <th>24</th>\n",
              "      <td>Real estate services</td>\n",
              "      <td>0</td>\n",
              "      <td>0</td>\n",
              "      <td>2</td>\n",
              "      <td>4</td>\n",
              "      <td>1</td>\n",
              "      <td>11</td>\n",
              "      <td>34</td>\n",
              "      <td>0</td>\n",
              "      <td>2</td>\n",
              "      <td>...</td>\n",
              "      <td>1021</td>\n",
              "      <td>504</td>\n",
              "      <td>0</td>\n",
              "      <td>0</td>\n",
              "      <td>0</td>\n",
              "      <td>0</td>\n",
              "      <td>0</td>\n",
              "      <td>0</td>\n",
              "      <td>504</td>\n",
              "      <td>1525</td>\n",
              "    </tr>\n",
              "    <tr>\n",
              "      <th>25</th>\n",
              "      <td>Professional, scientific, and technical services</td>\n",
              "      <td>17</td>\n",
              "      <td>2</td>\n",
              "      <td>216</td>\n",
              "      <td>109</td>\n",
              "      <td>64</td>\n",
              "      <td>245</td>\n",
              "      <td>1051</td>\n",
              "      <td>55</td>\n",
              "      <td>540</td>\n",
              "      <td>...</td>\n",
              "      <td>15419</td>\n",
              "      <td>5</td>\n",
              "      <td>0</td>\n",
              "      <td>4831</td>\n",
              "      <td>225</td>\n",
              "      <td>0</td>\n",
              "      <td>0</td>\n",
              "      <td>0</td>\n",
              "      <td>5061</td>\n",
              "      <td>20480</td>\n",
              "    </tr>\n",
              "    <tr>\n",
              "      <th>26</th>\n",
              "      <td>Business support services</td>\n",
              "      <td>16</td>\n",
              "      <td>3</td>\n",
              "      <td>44</td>\n",
              "      <td>48</td>\n",
              "      <td>48</td>\n",
              "      <td>143</td>\n",
              "      <td>224</td>\n",
              "      <td>17</td>\n",
              "      <td>263</td>\n",
              "      <td>...</td>\n",
              "      <td>11426</td>\n",
              "      <td>295</td>\n",
              "      <td>0</td>\n",
              "      <td>0</td>\n",
              "      <td>0</td>\n",
              "      <td>0</td>\n",
              "      <td>0</td>\n",
              "      <td>0</td>\n",
              "      <td>295</td>\n",
              "      <td>11721</td>\n",
              "    </tr>\n",
              "    <tr>\n",
              "      <th>27</th>\n",
              "      <td>Public administration, defense, and social sec...</td>\n",
              "      <td>82</td>\n",
              "      <td>0</td>\n",
              "      <td>0</td>\n",
              "      <td>0</td>\n",
              "      <td>0</td>\n",
              "      <td>0</td>\n",
              "      <td>0</td>\n",
              "      <td>0</td>\n",
              "      <td>0</td>\n",
              "      <td>...</td>\n",
              "      <td>517</td>\n",
              "      <td>0</td>\n",
              "      <td>0</td>\n",
              "      <td>0</td>\n",
              "      <td>0</td>\n",
              "      <td>0</td>\n",
              "      <td>0</td>\n",
              "      <td>0</td>\n",
              "      <td>0</td>\n",
              "      <td>517</td>\n",
              "    </tr>\n",
              "    <tr>\n",
              "      <th>28</th>\n",
              "      <td>Education services</td>\n",
              "      <td>0</td>\n",
              "      <td>0</td>\n",
              "      <td>0</td>\n",
              "      <td>0</td>\n",
              "      <td>0</td>\n",
              "      <td>0</td>\n",
              "      <td>0</td>\n",
              "      <td>0</td>\n",
              "      <td>0</td>\n",
              "      <td>...</td>\n",
              "      <td>3</td>\n",
              "      <td>1985</td>\n",
              "      <td>0</td>\n",
              "      <td>0</td>\n",
              "      <td>0</td>\n",
              "      <td>0</td>\n",
              "      <td>0</td>\n",
              "      <td>0</td>\n",
              "      <td>1985</td>\n",
              "      <td>1988</td>\n",
              "    </tr>\n",
              "    <tr>\n",
              "      <th>29</th>\n",
              "      <td>Health and social care services</td>\n",
              "      <td>1</td>\n",
              "      <td>0</td>\n",
              "      <td>0</td>\n",
              "      <td>0</td>\n",
              "      <td>0</td>\n",
              "      <td>0</td>\n",
              "      <td>0</td>\n",
              "      <td>0</td>\n",
              "      <td>0</td>\n",
              "      <td>...</td>\n",
              "      <td>5</td>\n",
              "      <td>655</td>\n",
              "      <td>0</td>\n",
              "      <td>0</td>\n",
              "      <td>0</td>\n",
              "      <td>0</td>\n",
              "      <td>0</td>\n",
              "      <td>0</td>\n",
              "      <td>655</td>\n",
              "      <td>660</td>\n",
              "    </tr>\n",
              "    <tr>\n",
              "      <th>30</th>\n",
              "      <td>Art, sports, and leisure services</td>\n",
              "      <td>0</td>\n",
              "      <td>0</td>\n",
              "      <td>0</td>\n",
              "      <td>0</td>\n",
              "      <td>0</td>\n",
              "      <td>0</td>\n",
              "      <td>3</td>\n",
              "      <td>0</td>\n",
              "      <td>1</td>\n",
              "      <td>...</td>\n",
              "      <td>273</td>\n",
              "      <td>3419</td>\n",
              "      <td>0</td>\n",
              "      <td>12</td>\n",
              "      <td>0</td>\n",
              "      <td>0</td>\n",
              "      <td>21</td>\n",
              "      <td>0</td>\n",
              "      <td>3452</td>\n",
              "      <td>3725</td>\n",
              "    </tr>\n",
              "    <tr>\n",
              "      <th>31</th>\n",
              "      <td>Other services</td>\n",
              "      <td>3</td>\n",
              "      <td>0</td>\n",
              "      <td>2</td>\n",
              "      <td>1</td>\n",
              "      <td>2</td>\n",
              "      <td>7</td>\n",
              "      <td>14</td>\n",
              "      <td>1</td>\n",
              "      <td>4</td>\n",
              "      <td>...</td>\n",
              "      <td>307</td>\n",
              "      <td>229</td>\n",
              "      <td>0</td>\n",
              "      <td>0</td>\n",
              "      <td>0</td>\n",
              "      <td>0</td>\n",
              "      <td>0</td>\n",
              "      <td>0</td>\n",
              "      <td>229</td>\n",
              "      <td>536</td>\n",
              "    </tr>\n",
              "    <tr>\n",
              "      <th>32</th>\n",
              "      <td>Others</td>\n",
              "      <td>0</td>\n",
              "      <td>0</td>\n",
              "      <td>0</td>\n",
              "      <td>0</td>\n",
              "      <td>0</td>\n",
              "      <td>0</td>\n",
              "      <td>0</td>\n",
              "      <td>0</td>\n",
              "      <td>0</td>\n",
              "      <td>...</td>\n",
              "      <td>0</td>\n",
              "      <td>0</td>\n",
              "      <td>0</td>\n",
              "      <td>0</td>\n",
              "      <td>0</td>\n",
              "      <td>0</td>\n",
              "      <td>0</td>\n",
              "      <td>0</td>\n",
              "      <td>0</td>\n",
              "      <td>0</td>\n",
              "    </tr>\n",
              "    <tr>\n",
              "      <th>33</th>\n",
              "      <td>Total intermediate input</td>\n",
              "      <td>1606</td>\n",
              "      <td>24</td>\n",
              "      <td>13434</td>\n",
              "      <td>19357</td>\n",
              "      <td>5239</td>\n",
              "      <td>52449</td>\n",
              "      <td>47704</td>\n",
              "      <td>2705</td>\n",
              "      <td>35486</td>\n",
              "      <td>...</td>\n",
              "      <td>407863</td>\n",
              "      <td>72218</td>\n",
              "      <td>0</td>\n",
              "      <td>47777</td>\n",
              "      <td>2731</td>\n",
              "      <td>425</td>\n",
              "      <td>458</td>\n",
              "      <td>1817</td>\n",
              "      <td>125426</td>\n",
              "      <td>533289</td>\n",
              "    </tr>\n",
              "  </tbody>\n",
              "</table>\n",
              "<p>34 rows × 44 columns</p>\n",
              "</div>\n",
              "      <button class=\"colab-df-convert\" onclick=\"convertToInteractive('df-3bbb84b4-e7be-4841-bdae-59cc64011343')\"\n",
              "              title=\"Convert this dataframe to an interactive table.\"\n",
              "              style=\"display:none;\">\n",
              "        \n",
              "  <svg xmlns=\"http://www.w3.org/2000/svg\" height=\"24px\"viewBox=\"0 0 24 24\"\n",
              "       width=\"24px\">\n",
              "    <path d=\"M0 0h24v24H0V0z\" fill=\"none\"/>\n",
              "    <path d=\"M18.56 5.44l.94 2.06.94-2.06 2.06-.94-2.06-.94-.94-2.06-.94 2.06-2.06.94zm-11 1L8.5 8.5l.94-2.06 2.06-.94-2.06-.94L8.5 2.5l-.94 2.06-2.06.94zm10 10l.94 2.06.94-2.06 2.06-.94-2.06-.94-.94-2.06-.94 2.06-2.06.94z\"/><path d=\"M17.41 7.96l-1.37-1.37c-.4-.4-.92-.59-1.43-.59-.52 0-1.04.2-1.43.59L10.3 9.45l-7.72 7.72c-.78.78-.78 2.05 0 2.83L4 21.41c.39.39.9.59 1.41.59.51 0 1.02-.2 1.41-.59l7.78-7.78 2.81-2.81c.8-.78.8-2.07 0-2.86zM5.41 20L4 18.59l7.72-7.72 1.47 1.35L5.41 20z\"/>\n",
              "  </svg>\n",
              "      </button>\n",
              "      \n",
              "  <style>\n",
              "    .colab-df-container {\n",
              "      display:flex;\n",
              "      flex-wrap:wrap;\n",
              "      gap: 12px;\n",
              "    }\n",
              "\n",
              "    .colab-df-convert {\n",
              "      background-color: #E8F0FE;\n",
              "      border: none;\n",
              "      border-radius: 50%;\n",
              "      cursor: pointer;\n",
              "      display: none;\n",
              "      fill: #1967D2;\n",
              "      height: 32px;\n",
              "      padding: 0 0 0 0;\n",
              "      width: 32px;\n",
              "    }\n",
              "\n",
              "    .colab-df-convert:hover {\n",
              "      background-color: #E2EBFA;\n",
              "      box-shadow: 0px 1px 2px rgba(60, 64, 67, 0.3), 0px 1px 3px 1px rgba(60, 64, 67, 0.15);\n",
              "      fill: #174EA6;\n",
              "    }\n",
              "\n",
              "    [theme=dark] .colab-df-convert {\n",
              "      background-color: #3B4455;\n",
              "      fill: #D2E3FC;\n",
              "    }\n",
              "\n",
              "    [theme=dark] .colab-df-convert:hover {\n",
              "      background-color: #434B5C;\n",
              "      box-shadow: 0px 1px 3px 1px rgba(0, 0, 0, 0.15);\n",
              "      filter: drop-shadow(0px 1px 2px rgba(0, 0, 0, 0.3));\n",
              "      fill: #FFFFFF;\n",
              "    }\n",
              "  </style>\n",
              "\n",
              "      <script>\n",
              "        const buttonEl =\n",
              "          document.querySelector('#df-3bbb84b4-e7be-4841-bdae-59cc64011343 button.colab-df-convert');\n",
              "        buttonEl.style.display =\n",
              "          google.colab.kernel.accessAllowed ? 'block' : 'none';\n",
              "\n",
              "        async function convertToInteractive(key) {\n",
              "          const element = document.querySelector('#df-3bbb84b4-e7be-4841-bdae-59cc64011343');\n",
              "          const dataTable =\n",
              "            await google.colab.kernel.invokeFunction('convertToInteractive',\n",
              "                                                     [key], {});\n",
              "          if (!dataTable) return;\n",
              "\n",
              "          const docLinkHtml = 'Like what you see? Visit the ' +\n",
              "            '<a target=\"_blank\" href=https://colab.research.google.com/notebooks/data_table.ipynb>data table notebook</a>'\n",
              "            + ' to learn more about interactive tables.';\n",
              "          element.innerHTML = '';\n",
              "          dataTable['output_type'] = 'display_data';\n",
              "          await google.colab.output.renderOutput(dataTable, element);\n",
              "          const docLink = document.createElement('div');\n",
              "          docLink.innerHTML = docLinkHtml;\n",
              "          element.appendChild(docLink);\n",
              "        }\n",
              "      </script>\n",
              "    </div>\n",
              "  </div>\n",
              "  "
            ]
          },
          "metadata": {},
          "execution_count": 44
        }
      ]
    },
    {
      "cell_type": "code",
      "source": [
        "url_dom = \"https://raw.githubusercontent.com/Tom-Jung/legendary-funicular/main/Domestic_M_F.csv\"\n",
        "Dom = pd.read_csv(url_dom)"
      ],
      "metadata": {
        "id": "FKASTpXRA0Ld",
        "outputId": "ab332b7d-379f-425a-9883-6a6c97e17fc4",
        "colab": {
          "base_uri": "https://localhost:8080/",
          "height": 345
        }
      },
      "execution_count": null,
      "outputs": [
        {
          "output_type": "error",
          "ename": "HTTPError",
          "evalue": "ignored",
          "traceback": [
            "\u001b[0;31m---------------------------------------------------------------------------\u001b[0m",
            "\u001b[0;31mHTTPError\u001b[0m                                 Traceback (most recent call last)",
            "\u001b[0;32m<ipython-input-46-f88822af5f7f>\u001b[0m in \u001b[0;36m<cell line: 2>\u001b[0;34m()\u001b[0m\n\u001b[1;32m      1\u001b[0m \u001b[0murl_dom\u001b[0m \u001b[0;34m=\u001b[0m \u001b[0;34m\"https://raw.githubusercontent.com/Tom-Jung/legendary-funicular/main/Domestic_M_F.csv\"\u001b[0m\u001b[0;34m\u001b[0m\u001b[0;34m\u001b[0m\u001b[0m\n\u001b[0;32m----> 2\u001b[0;31m \u001b[0mDom\u001b[0m \u001b[0;34m=\u001b[0m \u001b[0mpd\u001b[0m\u001b[0;34m.\u001b[0m\u001b[0mread_csv\u001b[0m\u001b[0;34m(\u001b[0m\u001b[0murl_dom\u001b[0m\u001b[0;34m)\u001b[0m\u001b[0;34m\u001b[0m\u001b[0;34m\u001b[0m\u001b[0m\n\u001b[0m",
            "\u001b[0;32m/usr/local/lib/python3.10/dist-packages/pandas/util/_decorators.py\u001b[0m in \u001b[0;36mwrapper\u001b[0;34m(*args, **kwargs)\u001b[0m\n\u001b[1;32m    209\u001b[0m                 \u001b[0;32melse\u001b[0m\u001b[0;34m:\u001b[0m\u001b[0;34m\u001b[0m\u001b[0;34m\u001b[0m\u001b[0m\n\u001b[1;32m    210\u001b[0m                     \u001b[0mkwargs\u001b[0m\u001b[0;34m[\u001b[0m\u001b[0mnew_arg_name\u001b[0m\u001b[0;34m]\u001b[0m \u001b[0;34m=\u001b[0m \u001b[0mnew_arg_value\u001b[0m\u001b[0;34m\u001b[0m\u001b[0;34m\u001b[0m\u001b[0m\n\u001b[0;32m--> 211\u001b[0;31m             \u001b[0;32mreturn\u001b[0m \u001b[0mfunc\u001b[0m\u001b[0;34m(\u001b[0m\u001b[0;34m*\u001b[0m\u001b[0margs\u001b[0m\u001b[0;34m,\u001b[0m \u001b[0;34m**\u001b[0m\u001b[0mkwargs\u001b[0m\u001b[0;34m)\u001b[0m\u001b[0;34m\u001b[0m\u001b[0;34m\u001b[0m\u001b[0m\n\u001b[0m\u001b[1;32m    212\u001b[0m \u001b[0;34m\u001b[0m\u001b[0m\n\u001b[1;32m    213\u001b[0m         \u001b[0;32mreturn\u001b[0m \u001b[0mcast\u001b[0m\u001b[0;34m(\u001b[0m\u001b[0mF\u001b[0m\u001b[0;34m,\u001b[0m \u001b[0mwrapper\u001b[0m\u001b[0;34m)\u001b[0m\u001b[0;34m\u001b[0m\u001b[0;34m\u001b[0m\u001b[0m\n",
            "\u001b[0;32m/usr/local/lib/python3.10/dist-packages/pandas/util/_decorators.py\u001b[0m in \u001b[0;36mwrapper\u001b[0;34m(*args, **kwargs)\u001b[0m\n\u001b[1;32m    329\u001b[0m                     \u001b[0mstacklevel\u001b[0m\u001b[0;34m=\u001b[0m\u001b[0mfind_stack_level\u001b[0m\u001b[0;34m(\u001b[0m\u001b[0;34m)\u001b[0m\u001b[0;34m,\u001b[0m\u001b[0;34m\u001b[0m\u001b[0;34m\u001b[0m\u001b[0m\n\u001b[1;32m    330\u001b[0m                 )\n\u001b[0;32m--> 331\u001b[0;31m             \u001b[0;32mreturn\u001b[0m \u001b[0mfunc\u001b[0m\u001b[0;34m(\u001b[0m\u001b[0;34m*\u001b[0m\u001b[0margs\u001b[0m\u001b[0;34m,\u001b[0m \u001b[0;34m**\u001b[0m\u001b[0mkwargs\u001b[0m\u001b[0;34m)\u001b[0m\u001b[0;34m\u001b[0m\u001b[0;34m\u001b[0m\u001b[0m\n\u001b[0m\u001b[1;32m    332\u001b[0m \u001b[0;34m\u001b[0m\u001b[0m\n\u001b[1;32m    333\u001b[0m         \u001b[0;31m# error: \"Callable[[VarArg(Any), KwArg(Any)], Any]\" has no\u001b[0m\u001b[0;34m\u001b[0m\u001b[0;34m\u001b[0m\u001b[0m\n",
            "\u001b[0;32m/usr/local/lib/python3.10/dist-packages/pandas/io/parsers/readers.py\u001b[0m in \u001b[0;36mread_csv\u001b[0;34m(filepath_or_buffer, sep, delimiter, header, names, index_col, usecols, squeeze, prefix, mangle_dupe_cols, dtype, engine, converters, true_values, false_values, skipinitialspace, skiprows, skipfooter, nrows, na_values, keep_default_na, na_filter, verbose, skip_blank_lines, parse_dates, infer_datetime_format, keep_date_col, date_parser, dayfirst, cache_dates, iterator, chunksize, compression, thousands, decimal, lineterminator, quotechar, quoting, doublequote, escapechar, comment, encoding, encoding_errors, dialect, error_bad_lines, warn_bad_lines, on_bad_lines, delim_whitespace, low_memory, memory_map, float_precision, storage_options)\u001b[0m\n\u001b[1;32m    948\u001b[0m     \u001b[0mkwds\u001b[0m\u001b[0;34m.\u001b[0m\u001b[0mupdate\u001b[0m\u001b[0;34m(\u001b[0m\u001b[0mkwds_defaults\u001b[0m\u001b[0;34m)\u001b[0m\u001b[0;34m\u001b[0m\u001b[0;34m\u001b[0m\u001b[0m\n\u001b[1;32m    949\u001b[0m \u001b[0;34m\u001b[0m\u001b[0m\n\u001b[0;32m--> 950\u001b[0;31m     \u001b[0;32mreturn\u001b[0m \u001b[0m_read\u001b[0m\u001b[0;34m(\u001b[0m\u001b[0mfilepath_or_buffer\u001b[0m\u001b[0;34m,\u001b[0m \u001b[0mkwds\u001b[0m\u001b[0;34m)\u001b[0m\u001b[0;34m\u001b[0m\u001b[0;34m\u001b[0m\u001b[0m\n\u001b[0m\u001b[1;32m    951\u001b[0m \u001b[0;34m\u001b[0m\u001b[0m\n\u001b[1;32m    952\u001b[0m \u001b[0;34m\u001b[0m\u001b[0m\n",
            "\u001b[0;32m/usr/local/lib/python3.10/dist-packages/pandas/io/parsers/readers.py\u001b[0m in \u001b[0;36m_read\u001b[0;34m(filepath_or_buffer, kwds)\u001b[0m\n\u001b[1;32m    603\u001b[0m \u001b[0;34m\u001b[0m\u001b[0m\n\u001b[1;32m    604\u001b[0m     \u001b[0;31m# Create the parser.\u001b[0m\u001b[0;34m\u001b[0m\u001b[0;34m\u001b[0m\u001b[0m\n\u001b[0;32m--> 605\u001b[0;31m     \u001b[0mparser\u001b[0m \u001b[0;34m=\u001b[0m \u001b[0mTextFileReader\u001b[0m\u001b[0;34m(\u001b[0m\u001b[0mfilepath_or_buffer\u001b[0m\u001b[0;34m,\u001b[0m \u001b[0;34m**\u001b[0m\u001b[0mkwds\u001b[0m\u001b[0;34m)\u001b[0m\u001b[0;34m\u001b[0m\u001b[0;34m\u001b[0m\u001b[0m\n\u001b[0m\u001b[1;32m    606\u001b[0m \u001b[0;34m\u001b[0m\u001b[0m\n\u001b[1;32m    607\u001b[0m     \u001b[0;32mif\u001b[0m \u001b[0mchunksize\u001b[0m \u001b[0;32mor\u001b[0m \u001b[0miterator\u001b[0m\u001b[0;34m:\u001b[0m\u001b[0;34m\u001b[0m\u001b[0;34m\u001b[0m\u001b[0m\n",
            "\u001b[0;32m/usr/local/lib/python3.10/dist-packages/pandas/io/parsers/readers.py\u001b[0m in \u001b[0;36m__init__\u001b[0;34m(self, f, engine, **kwds)\u001b[0m\n\u001b[1;32m   1440\u001b[0m \u001b[0;34m\u001b[0m\u001b[0m\n\u001b[1;32m   1441\u001b[0m         \u001b[0mself\u001b[0m\u001b[0;34m.\u001b[0m\u001b[0mhandles\u001b[0m\u001b[0;34m:\u001b[0m \u001b[0mIOHandles\u001b[0m \u001b[0;34m|\u001b[0m \u001b[0;32mNone\u001b[0m \u001b[0;34m=\u001b[0m \u001b[0;32mNone\u001b[0m\u001b[0;34m\u001b[0m\u001b[0;34m\u001b[0m\u001b[0m\n\u001b[0;32m-> 1442\u001b[0;31m         \u001b[0mself\u001b[0m\u001b[0;34m.\u001b[0m\u001b[0m_engine\u001b[0m \u001b[0;34m=\u001b[0m \u001b[0mself\u001b[0m\u001b[0;34m.\u001b[0m\u001b[0m_make_engine\u001b[0m\u001b[0;34m(\u001b[0m\u001b[0mf\u001b[0m\u001b[0;34m,\u001b[0m \u001b[0mself\u001b[0m\u001b[0;34m.\u001b[0m\u001b[0mengine\u001b[0m\u001b[0;34m)\u001b[0m\u001b[0;34m\u001b[0m\u001b[0;34m\u001b[0m\u001b[0m\n\u001b[0m\u001b[1;32m   1443\u001b[0m \u001b[0;34m\u001b[0m\u001b[0m\n\u001b[1;32m   1444\u001b[0m     \u001b[0;32mdef\u001b[0m \u001b[0mclose\u001b[0m\u001b[0;34m(\u001b[0m\u001b[0mself\u001b[0m\u001b[0;34m)\u001b[0m \u001b[0;34m->\u001b[0m \u001b[0;32mNone\u001b[0m\u001b[0;34m:\u001b[0m\u001b[0;34m\u001b[0m\u001b[0;34m\u001b[0m\u001b[0m\n",
            "\u001b[0;32m/usr/local/lib/python3.10/dist-packages/pandas/io/parsers/readers.py\u001b[0m in \u001b[0;36m_make_engine\u001b[0;34m(self, f, engine)\u001b[0m\n\u001b[1;32m   1733\u001b[0m                 \u001b[0;32mif\u001b[0m \u001b[0;34m\"b\"\u001b[0m \u001b[0;32mnot\u001b[0m \u001b[0;32min\u001b[0m \u001b[0mmode\u001b[0m\u001b[0;34m:\u001b[0m\u001b[0;34m\u001b[0m\u001b[0;34m\u001b[0m\u001b[0m\n\u001b[1;32m   1734\u001b[0m                     \u001b[0mmode\u001b[0m \u001b[0;34m+=\u001b[0m \u001b[0;34m\"b\"\u001b[0m\u001b[0;34m\u001b[0m\u001b[0;34m\u001b[0m\u001b[0m\n\u001b[0;32m-> 1735\u001b[0;31m             self.handles = get_handle(\n\u001b[0m\u001b[1;32m   1736\u001b[0m                 \u001b[0mf\u001b[0m\u001b[0;34m,\u001b[0m\u001b[0;34m\u001b[0m\u001b[0;34m\u001b[0m\u001b[0m\n\u001b[1;32m   1737\u001b[0m                 \u001b[0mmode\u001b[0m\u001b[0;34m,\u001b[0m\u001b[0;34m\u001b[0m\u001b[0;34m\u001b[0m\u001b[0m\n",
            "\u001b[0;32m/usr/local/lib/python3.10/dist-packages/pandas/io/common.py\u001b[0m in \u001b[0;36mget_handle\u001b[0;34m(path_or_buf, mode, encoding, compression, memory_map, is_text, errors, storage_options)\u001b[0m\n\u001b[1;32m    711\u001b[0m \u001b[0;34m\u001b[0m\u001b[0m\n\u001b[1;32m    712\u001b[0m     \u001b[0;31m# open URLs\u001b[0m\u001b[0;34m\u001b[0m\u001b[0;34m\u001b[0m\u001b[0m\n\u001b[0;32m--> 713\u001b[0;31m     ioargs = _get_filepath_or_buffer(\n\u001b[0m\u001b[1;32m    714\u001b[0m         \u001b[0mpath_or_buf\u001b[0m\u001b[0;34m,\u001b[0m\u001b[0;34m\u001b[0m\u001b[0;34m\u001b[0m\u001b[0m\n\u001b[1;32m    715\u001b[0m         \u001b[0mencoding\u001b[0m\u001b[0;34m=\u001b[0m\u001b[0mencoding\u001b[0m\u001b[0;34m,\u001b[0m\u001b[0;34m\u001b[0m\u001b[0;34m\u001b[0m\u001b[0m\n",
            "\u001b[0;32m/usr/local/lib/python3.10/dist-packages/pandas/io/common.py\u001b[0m in \u001b[0;36m_get_filepath_or_buffer\u001b[0;34m(filepath_or_buffer, encoding, compression, mode, storage_options)\u001b[0m\n\u001b[1;32m    361\u001b[0m         \u001b[0;31m# assuming storage_options is to be interpreted as headers\u001b[0m\u001b[0;34m\u001b[0m\u001b[0;34m\u001b[0m\u001b[0m\n\u001b[1;32m    362\u001b[0m         \u001b[0mreq_info\u001b[0m \u001b[0;34m=\u001b[0m \u001b[0murllib\u001b[0m\u001b[0;34m.\u001b[0m\u001b[0mrequest\u001b[0m\u001b[0;34m.\u001b[0m\u001b[0mRequest\u001b[0m\u001b[0;34m(\u001b[0m\u001b[0mfilepath_or_buffer\u001b[0m\u001b[0;34m,\u001b[0m \u001b[0mheaders\u001b[0m\u001b[0;34m=\u001b[0m\u001b[0mstorage_options\u001b[0m\u001b[0;34m)\u001b[0m\u001b[0;34m\u001b[0m\u001b[0;34m\u001b[0m\u001b[0m\n\u001b[0;32m--> 363\u001b[0;31m         \u001b[0;32mwith\u001b[0m \u001b[0murlopen\u001b[0m\u001b[0;34m(\u001b[0m\u001b[0mreq_info\u001b[0m\u001b[0;34m)\u001b[0m \u001b[0;32mas\u001b[0m \u001b[0mreq\u001b[0m\u001b[0;34m:\u001b[0m\u001b[0;34m\u001b[0m\u001b[0;34m\u001b[0m\u001b[0m\n\u001b[0m\u001b[1;32m    364\u001b[0m             \u001b[0mcontent_encoding\u001b[0m \u001b[0;34m=\u001b[0m \u001b[0mreq\u001b[0m\u001b[0;34m.\u001b[0m\u001b[0mheaders\u001b[0m\u001b[0;34m.\u001b[0m\u001b[0mget\u001b[0m\u001b[0;34m(\u001b[0m\u001b[0;34m\"Content-Encoding\"\u001b[0m\u001b[0;34m,\u001b[0m \u001b[0;32mNone\u001b[0m\u001b[0;34m)\u001b[0m\u001b[0;34m\u001b[0m\u001b[0;34m\u001b[0m\u001b[0m\n\u001b[1;32m    365\u001b[0m             \u001b[0;32mif\u001b[0m \u001b[0mcontent_encoding\u001b[0m \u001b[0;34m==\u001b[0m \u001b[0;34m\"gzip\"\u001b[0m\u001b[0;34m:\u001b[0m\u001b[0;34m\u001b[0m\u001b[0;34m\u001b[0m\u001b[0m\n",
            "\u001b[0;32m/usr/local/lib/python3.10/dist-packages/pandas/io/common.py\u001b[0m in \u001b[0;36murlopen\u001b[0;34m(*args, **kwargs)\u001b[0m\n\u001b[1;32m    263\u001b[0m     \u001b[0;32mimport\u001b[0m \u001b[0murllib\u001b[0m\u001b[0;34m.\u001b[0m\u001b[0mrequest\u001b[0m\u001b[0;34m\u001b[0m\u001b[0;34m\u001b[0m\u001b[0m\n\u001b[1;32m    264\u001b[0m \u001b[0;34m\u001b[0m\u001b[0m\n\u001b[0;32m--> 265\u001b[0;31m     \u001b[0;32mreturn\u001b[0m \u001b[0murllib\u001b[0m\u001b[0;34m.\u001b[0m\u001b[0mrequest\u001b[0m\u001b[0;34m.\u001b[0m\u001b[0murlopen\u001b[0m\u001b[0;34m(\u001b[0m\u001b[0;34m*\u001b[0m\u001b[0margs\u001b[0m\u001b[0;34m,\u001b[0m \u001b[0;34m**\u001b[0m\u001b[0mkwargs\u001b[0m\u001b[0;34m)\u001b[0m\u001b[0;34m\u001b[0m\u001b[0;34m\u001b[0m\u001b[0m\n\u001b[0m\u001b[1;32m    266\u001b[0m \u001b[0;34m\u001b[0m\u001b[0m\n\u001b[1;32m    267\u001b[0m \u001b[0;34m\u001b[0m\u001b[0m\n",
            "\u001b[0;32m/usr/lib/python3.10/urllib/request.py\u001b[0m in \u001b[0;36murlopen\u001b[0;34m(url, data, timeout, cafile, capath, cadefault, context)\u001b[0m\n\u001b[1;32m    214\u001b[0m     \u001b[0;32melse\u001b[0m\u001b[0;34m:\u001b[0m\u001b[0;34m\u001b[0m\u001b[0;34m\u001b[0m\u001b[0m\n\u001b[1;32m    215\u001b[0m         \u001b[0mopener\u001b[0m \u001b[0;34m=\u001b[0m \u001b[0m_opener\u001b[0m\u001b[0;34m\u001b[0m\u001b[0;34m\u001b[0m\u001b[0m\n\u001b[0;32m--> 216\u001b[0;31m     \u001b[0;32mreturn\u001b[0m \u001b[0mopener\u001b[0m\u001b[0;34m.\u001b[0m\u001b[0mopen\u001b[0m\u001b[0;34m(\u001b[0m\u001b[0murl\u001b[0m\u001b[0;34m,\u001b[0m \u001b[0mdata\u001b[0m\u001b[0;34m,\u001b[0m \u001b[0mtimeout\u001b[0m\u001b[0;34m)\u001b[0m\u001b[0;34m\u001b[0m\u001b[0;34m\u001b[0m\u001b[0m\n\u001b[0m\u001b[1;32m    217\u001b[0m \u001b[0;34m\u001b[0m\u001b[0m\n\u001b[1;32m    218\u001b[0m \u001b[0;32mdef\u001b[0m \u001b[0minstall_opener\u001b[0m\u001b[0;34m(\u001b[0m\u001b[0mopener\u001b[0m\u001b[0;34m)\u001b[0m\u001b[0;34m:\u001b[0m\u001b[0;34m\u001b[0m\u001b[0;34m\u001b[0m\u001b[0m\n",
            "\u001b[0;32m/usr/lib/python3.10/urllib/request.py\u001b[0m in \u001b[0;36mopen\u001b[0;34m(self, fullurl, data, timeout)\u001b[0m\n\u001b[1;32m    523\u001b[0m         \u001b[0;32mfor\u001b[0m \u001b[0mprocessor\u001b[0m \u001b[0;32min\u001b[0m \u001b[0mself\u001b[0m\u001b[0;34m.\u001b[0m\u001b[0mprocess_response\u001b[0m\u001b[0;34m.\u001b[0m\u001b[0mget\u001b[0m\u001b[0;34m(\u001b[0m\u001b[0mprotocol\u001b[0m\u001b[0;34m,\u001b[0m \u001b[0;34m[\u001b[0m\u001b[0;34m]\u001b[0m\u001b[0;34m)\u001b[0m\u001b[0;34m:\u001b[0m\u001b[0;34m\u001b[0m\u001b[0;34m\u001b[0m\u001b[0m\n\u001b[1;32m    524\u001b[0m             \u001b[0mmeth\u001b[0m \u001b[0;34m=\u001b[0m \u001b[0mgetattr\u001b[0m\u001b[0;34m(\u001b[0m\u001b[0mprocessor\u001b[0m\u001b[0;34m,\u001b[0m \u001b[0mmeth_name\u001b[0m\u001b[0;34m)\u001b[0m\u001b[0;34m\u001b[0m\u001b[0;34m\u001b[0m\u001b[0m\n\u001b[0;32m--> 525\u001b[0;31m             \u001b[0mresponse\u001b[0m \u001b[0;34m=\u001b[0m \u001b[0mmeth\u001b[0m\u001b[0;34m(\u001b[0m\u001b[0mreq\u001b[0m\u001b[0;34m,\u001b[0m \u001b[0mresponse\u001b[0m\u001b[0;34m)\u001b[0m\u001b[0;34m\u001b[0m\u001b[0;34m\u001b[0m\u001b[0m\n\u001b[0m\u001b[1;32m    526\u001b[0m \u001b[0;34m\u001b[0m\u001b[0m\n\u001b[1;32m    527\u001b[0m         \u001b[0;32mreturn\u001b[0m \u001b[0mresponse\u001b[0m\u001b[0;34m\u001b[0m\u001b[0;34m\u001b[0m\u001b[0m\n",
            "\u001b[0;32m/usr/lib/python3.10/urllib/request.py\u001b[0m in \u001b[0;36mhttp_response\u001b[0;34m(self, request, response)\u001b[0m\n\u001b[1;32m    632\u001b[0m         \u001b[0;31m# request was successfully received, understood, and accepted.\u001b[0m\u001b[0;34m\u001b[0m\u001b[0;34m\u001b[0m\u001b[0m\n\u001b[1;32m    633\u001b[0m         \u001b[0;32mif\u001b[0m \u001b[0;32mnot\u001b[0m \u001b[0;34m(\u001b[0m\u001b[0;36m200\u001b[0m \u001b[0;34m<=\u001b[0m \u001b[0mcode\u001b[0m \u001b[0;34m<\u001b[0m \u001b[0;36m300\u001b[0m\u001b[0;34m)\u001b[0m\u001b[0;34m:\u001b[0m\u001b[0;34m\u001b[0m\u001b[0;34m\u001b[0m\u001b[0m\n\u001b[0;32m--> 634\u001b[0;31m             response = self.parent.error(\n\u001b[0m\u001b[1;32m    635\u001b[0m                 'http', request, response, code, msg, hdrs)\n\u001b[1;32m    636\u001b[0m \u001b[0;34m\u001b[0m\u001b[0m\n",
            "\u001b[0;32m/usr/lib/python3.10/urllib/request.py\u001b[0m in \u001b[0;36merror\u001b[0;34m(self, proto, *args)\u001b[0m\n\u001b[1;32m    561\u001b[0m         \u001b[0;32mif\u001b[0m \u001b[0mhttp_err\u001b[0m\u001b[0;34m:\u001b[0m\u001b[0;34m\u001b[0m\u001b[0;34m\u001b[0m\u001b[0m\n\u001b[1;32m    562\u001b[0m             \u001b[0margs\u001b[0m \u001b[0;34m=\u001b[0m \u001b[0;34m(\u001b[0m\u001b[0mdict\u001b[0m\u001b[0;34m,\u001b[0m \u001b[0;34m'default'\u001b[0m\u001b[0;34m,\u001b[0m \u001b[0;34m'http_error_default'\u001b[0m\u001b[0;34m)\u001b[0m \u001b[0;34m+\u001b[0m \u001b[0morig_args\u001b[0m\u001b[0;34m\u001b[0m\u001b[0;34m\u001b[0m\u001b[0m\n\u001b[0;32m--> 563\u001b[0;31m             \u001b[0;32mreturn\u001b[0m \u001b[0mself\u001b[0m\u001b[0;34m.\u001b[0m\u001b[0m_call_chain\u001b[0m\u001b[0;34m(\u001b[0m\u001b[0;34m*\u001b[0m\u001b[0margs\u001b[0m\u001b[0;34m)\u001b[0m\u001b[0;34m\u001b[0m\u001b[0;34m\u001b[0m\u001b[0m\n\u001b[0m\u001b[1;32m    564\u001b[0m \u001b[0;34m\u001b[0m\u001b[0m\n\u001b[1;32m    565\u001b[0m \u001b[0;31m# XXX probably also want an abstract factory that knows when it makes\u001b[0m\u001b[0;34m\u001b[0m\u001b[0;34m\u001b[0m\u001b[0m\n",
            "\u001b[0;32m/usr/lib/python3.10/urllib/request.py\u001b[0m in \u001b[0;36m_call_chain\u001b[0;34m(self, chain, kind, meth_name, *args)\u001b[0m\n\u001b[1;32m    494\u001b[0m         \u001b[0;32mfor\u001b[0m \u001b[0mhandler\u001b[0m \u001b[0;32min\u001b[0m \u001b[0mhandlers\u001b[0m\u001b[0;34m:\u001b[0m\u001b[0;34m\u001b[0m\u001b[0;34m\u001b[0m\u001b[0m\n\u001b[1;32m    495\u001b[0m             \u001b[0mfunc\u001b[0m \u001b[0;34m=\u001b[0m \u001b[0mgetattr\u001b[0m\u001b[0;34m(\u001b[0m\u001b[0mhandler\u001b[0m\u001b[0;34m,\u001b[0m \u001b[0mmeth_name\u001b[0m\u001b[0;34m)\u001b[0m\u001b[0;34m\u001b[0m\u001b[0;34m\u001b[0m\u001b[0m\n\u001b[0;32m--> 496\u001b[0;31m             \u001b[0mresult\u001b[0m \u001b[0;34m=\u001b[0m \u001b[0mfunc\u001b[0m\u001b[0;34m(\u001b[0m\u001b[0;34m*\u001b[0m\u001b[0margs\u001b[0m\u001b[0;34m)\u001b[0m\u001b[0;34m\u001b[0m\u001b[0;34m\u001b[0m\u001b[0m\n\u001b[0m\u001b[1;32m    497\u001b[0m             \u001b[0;32mif\u001b[0m \u001b[0mresult\u001b[0m \u001b[0;32mis\u001b[0m \u001b[0;32mnot\u001b[0m \u001b[0;32mNone\u001b[0m\u001b[0;34m:\u001b[0m\u001b[0;34m\u001b[0m\u001b[0;34m\u001b[0m\u001b[0m\n\u001b[1;32m    498\u001b[0m                 \u001b[0;32mreturn\u001b[0m \u001b[0mresult\u001b[0m\u001b[0;34m\u001b[0m\u001b[0;34m\u001b[0m\u001b[0m\n",
            "\u001b[0;32m/usr/lib/python3.10/urllib/request.py\u001b[0m in \u001b[0;36mhttp_error_default\u001b[0;34m(self, req, fp, code, msg, hdrs)\u001b[0m\n\u001b[1;32m    641\u001b[0m \u001b[0;32mclass\u001b[0m \u001b[0mHTTPDefaultErrorHandler\u001b[0m\u001b[0;34m(\u001b[0m\u001b[0mBaseHandler\u001b[0m\u001b[0;34m)\u001b[0m\u001b[0;34m:\u001b[0m\u001b[0;34m\u001b[0m\u001b[0;34m\u001b[0m\u001b[0m\n\u001b[1;32m    642\u001b[0m     \u001b[0;32mdef\u001b[0m \u001b[0mhttp_error_default\u001b[0m\u001b[0;34m(\u001b[0m\u001b[0mself\u001b[0m\u001b[0;34m,\u001b[0m \u001b[0mreq\u001b[0m\u001b[0;34m,\u001b[0m \u001b[0mfp\u001b[0m\u001b[0;34m,\u001b[0m \u001b[0mcode\u001b[0m\u001b[0;34m,\u001b[0m \u001b[0mmsg\u001b[0m\u001b[0;34m,\u001b[0m \u001b[0mhdrs\u001b[0m\u001b[0;34m)\u001b[0m\u001b[0;34m:\u001b[0m\u001b[0;34m\u001b[0m\u001b[0;34m\u001b[0m\u001b[0m\n\u001b[0;32m--> 643\u001b[0;31m         \u001b[0;32mraise\u001b[0m \u001b[0mHTTPError\u001b[0m\u001b[0;34m(\u001b[0m\u001b[0mreq\u001b[0m\u001b[0;34m.\u001b[0m\u001b[0mfull_url\u001b[0m\u001b[0;34m,\u001b[0m \u001b[0mcode\u001b[0m\u001b[0;34m,\u001b[0m \u001b[0mmsg\u001b[0m\u001b[0;34m,\u001b[0m \u001b[0mhdrs\u001b[0m\u001b[0;34m,\u001b[0m \u001b[0mfp\u001b[0m\u001b[0;34m)\u001b[0m\u001b[0;34m\u001b[0m\u001b[0;34m\u001b[0m\u001b[0m\n\u001b[0m\u001b[1;32m    644\u001b[0m \u001b[0;34m\u001b[0m\u001b[0m\n\u001b[1;32m    645\u001b[0m \u001b[0;32mclass\u001b[0m \u001b[0mHTTPRedirectHandler\u001b[0m\u001b[0;34m(\u001b[0m\u001b[0mBaseHandler\u001b[0m\u001b[0;34m)\u001b[0m\u001b[0;34m:\u001b[0m\u001b[0;34m\u001b[0m\u001b[0;34m\u001b[0m\u001b[0m\n",
            "\u001b[0;31mHTTPError\u001b[0m: HTTP Error 404: Not Found"
          ]
        }
      ]
    },
    {
      "cell_type": "code",
      "source": [
        "Dom"
      ],
      "metadata": {
        "id": "Taf8fWrGA0Gu",
        "colab": {
          "base_uri": "https://localhost:8080/",
          "height": 174
        },
        "outputId": "7aefd3f4-6d6a-4e45-88be-5260c78dd23a"
      },
      "execution_count": null,
      "outputs": [
        {
          "output_type": "error",
          "ename": "NameError",
          "evalue": "ignored",
          "traceback": [
            "\u001b[0;31m---------------------------------------------------------------------------\u001b[0m",
            "\u001b[0;31mNameError\u001b[0m                                 Traceback (most recent call last)",
            "\u001b[0;32m<ipython-input-47-8e8cc9772a05>\u001b[0m in \u001b[0;36m<cell line: 1>\u001b[0;34m()\u001b[0m\n\u001b[0;32m----> 1\u001b[0;31m \u001b[0mDom\u001b[0m\u001b[0;34m\u001b[0m\u001b[0;34m\u001b[0m\u001b[0m\n\u001b[0m",
            "\u001b[0;31mNameError\u001b[0m: name 'Dom' is not defined"
          ]
        }
      ]
    },
    {
      "cell_type": "code",
      "source": [],
      "metadata": {
        "id": "0piOpTEytvGw"
      },
      "execution_count": null,
      "outputs": []
    },
    {
      "cell_type": "code",
      "source": [],
      "metadata": {
        "id": "K3VHa2z8tvJv"
      },
      "execution_count": null,
      "outputs": []
    },
    {
      "cell_type": "code",
      "source": [],
      "metadata": {
        "id": "y_a9fb8ZtvMn"
      },
      "execution_count": null,
      "outputs": []
    },
    {
      "cell_type": "code",
      "source": [],
      "metadata": {
        "id": "P1B6X9QutvO-"
      },
      "execution_count": null,
      "outputs": []
    },
    {
      "cell_type": "markdown",
      "source": [
        "### DataFrame을 Numpy로 읽어오고 숫자만으로 행렬을 만들고 차원 등 제대로 읽어 왔는지 체크\n",
        "\n",
        "```\n",
        "# 코드로 형식 지정됨\n",
        "```\n",
        "\n"
      ],
      "metadata": {
        "id": "x-a_G73J-ARG"
      }
    },
    {
      "cell_type": "code",
      "source": [
        "Tt=Tot.to_numpy()"
      ],
      "metadata": {
        "id": "Hb3EasrIAz9H"
      },
      "execution_count": null,
      "outputs": []
    },
    {
      "cell_type": "code",
      "source": [
        "Tt_1 = Tt[0:41,1:53].astype(float)"
      ],
      "metadata": {
        "id": "GrqwxwU44DMl"
      },
      "execution_count": null,
      "outputs": []
    },
    {
      "cell_type": "code",
      "source": [
        "Tt_1"
      ],
      "metadata": {
        "id": "IGYFJf_fAz6J"
      },
      "execution_count": null,
      "outputs": []
    },
    {
      "cell_type": "code",
      "source": [
        "print(Tt_1.shape)\n",
        "print(Tt_1.ndim)\n",
        "print(Tt_1.size)\n",
        "print(len(Tt_1))"
      ],
      "metadata": {
        "id": "IWpo8RCb6EsB"
      },
      "execution_count": null,
      "outputs": []
    },
    {
      "cell_type": "code",
      "source": [
        "Im=Imp.to_numpy()"
      ],
      "metadata": {
        "id": "pXrwfo8u86pr"
      },
      "execution_count": null,
      "outputs": []
    },
    {
      "cell_type": "code",
      "source": [
        "Im_1 = Im[0:41,1:45].astype(float)"
      ],
      "metadata": {
        "id": "DF_G_Hn09gRy"
      },
      "execution_count": null,
      "outputs": []
    },
    {
      "cell_type": "code",
      "source": [
        "Im_1"
      ],
      "metadata": {
        "id": "Od3StAXA86sf"
      },
      "execution_count": null,
      "outputs": []
    },
    {
      "cell_type": "markdown",
      "source": [],
      "metadata": {
        "id": "BrLjtC606FLY"
      }
    },
    {
      "cell_type": "code",
      "source": [
        "print(Im_1.shape)\n",
        "print(Im_1.ndim)\n",
        "print(Im_1.size)\n",
        "print(len(Im_1))"
      ],
      "metadata": {
        "id": "IRm-HtOf9KVx"
      },
      "execution_count": null,
      "outputs": []
    },
    {
      "cell_type": "code",
      "source": [
        "Dm=Dom.to_numpy()"
      ],
      "metadata": {
        "id": "_8fZBBSX9kld",
        "outputId": "de5cbc3c-1851-44ea-b3cc-49732d992f90",
        "colab": {
          "base_uri": "https://localhost:8080/",
          "height": 174
        }
      },
      "execution_count": null,
      "outputs": [
        {
          "output_type": "error",
          "ename": "NameError",
          "evalue": "ignored",
          "traceback": [
            "\u001b[0;31m---------------------------------------------------------------------------\u001b[0m",
            "\u001b[0;31mNameError\u001b[0m                                 Traceback (most recent call last)",
            "\u001b[0;32m<ipython-input-48-e64bbf807ccb>\u001b[0m in \u001b[0;36m<cell line: 1>\u001b[0;34m()\u001b[0m\n\u001b[0;32m----> 1\u001b[0;31m \u001b[0mDm\u001b[0m\u001b[0;34m=\u001b[0m\u001b[0mDom\u001b[0m\u001b[0;34m.\u001b[0m\u001b[0mto_numpy\u001b[0m\u001b[0;34m(\u001b[0m\u001b[0;34m)\u001b[0m\u001b[0;34m\u001b[0m\u001b[0;34m\u001b[0m\u001b[0m\n\u001b[0m",
            "\u001b[0;31mNameError\u001b[0m: name 'Dom' is not defined"
          ]
        }
      ]
    },
    {
      "cell_type": "code",
      "source": [
        "Dm_1=Dm[0:41,1:45].astype(float)"
      ],
      "metadata": {
        "id": "qxP0BGTe-J6J"
      },
      "execution_count": null,
      "outputs": []
    },
    {
      "cell_type": "code",
      "source": [
        "Dm_1"
      ],
      "metadata": {
        "id": "Var3WdHW-NdY"
      },
      "execution_count": null,
      "outputs": []
    },
    {
      "cell_type": "code",
      "source": [
        "print(Dm_1.shape)\n",
        "print(Dm_1.ndim)\n",
        "print(Dm_1.size)\n",
        "print(len(Dm_1))"
      ],
      "metadata": {
        "id": "aZ0NQ51_-OTA"
      },
      "execution_count": null,
      "outputs": []
    },
    {
      "cell_type": "code",
      "source": [
        "ct = Tt_1[-1,0:33] "
      ],
      "metadata": {
        "id": "vI4pjfvx-WU_"
      },
      "execution_count": null,
      "outputs": []
    },
    {
      "cell_type": "code",
      "source": [
        "ct"
      ],
      "metadata": {
        "id": "qAhFEVaI-Uqx"
      },
      "execution_count": null,
      "outputs": []
    },
    {
      "cell_type": "code",
      "source": [
        "ct_m = np.tile(ct, reps=[33,1])"
      ],
      "metadata": {
        "id": "0CpkNxOjkUvi"
      },
      "execution_count": null,
      "outputs": []
    },
    {
      "cell_type": "code",
      "source": [
        "ct_m.shape"
      ],
      "metadata": {
        "id": "eHMxgofBlPpV"
      },
      "execution_count": null,
      "outputs": []
    },
    {
      "cell_type": "code",
      "source": [
        "ct_m"
      ],
      "metadata": {
        "id": "bOzJwIE0lAeH"
      },
      "execution_count": null,
      "outputs": []
    },
    {
      "cell_type": "code",
      "source": [
        "Ad = Dm_1[0:33,0:33]/ct_m"
      ],
      "metadata": {
        "id": "eoLlkOg7g1ZL"
      },
      "execution_count": null,
      "outputs": []
    },
    {
      "cell_type": "code",
      "source": [
        "Ad"
      ],
      "metadata": {
        "id": "foZEVnUjg1bs"
      },
      "execution_count": null,
      "outputs": []
    },
    {
      "cell_type": "code",
      "source": [
        "Lf = np.linalg.inv(np.identity(33)-Ad)"
      ],
      "metadata": {
        "id": "YP2WhhqZeB2j"
      },
      "execution_count": null,
      "outputs": []
    },
    {
      "cell_type": "code",
      "source": [
        "df_Lf = pd.DataFrame(Lf)"
      ],
      "metadata": {
        "id": "HtDn6D86AElt"
      },
      "execution_count": null,
      "outputs": []
    },
    {
      "cell_type": "code",
      "source": [
        "df_Lf"
      ],
      "metadata": {
        "id": "fGJOmCT2eCjC"
      },
      "execution_count": null,
      "outputs": []
    },
    {
      "cell_type": "markdown",
      "source": [],
      "metadata": {
        "id": "KiBL7vQRGOT7"
      }
    },
    {
      "cell_type": "markdown",
      "source": [
        "#### 부가가[링크 텍스트](https://)치 유발계수"
      ],
      "metadata": {
        "id": "-aqELyFRGR6B"
      }
    },
    {
      "cell_type": "code",
      "source": [
        "Va_r = Tt_1[-2,0:33]/ct "
      ],
      "metadata": {
        "id": "VyMI-ZrHfUOf"
      },
      "execution_count": null,
      "outputs": []
    },
    {
      "cell_type": "code",
      "source": [
        "Va_r"
      ],
      "metadata": {
        "id": "qYEZrYSXfVK3"
      },
      "execution_count": null,
      "outputs": []
    },
    {
      "cell_type": "code",
      "source": [
        "Va_m = np.diag(Va_r)"
      ],
      "metadata": {
        "id": "4lQ8wtwIfg4H"
      },
      "execution_count": null,
      "outputs": []
    },
    {
      "cell_type": "code",
      "source": [
        "Va_m"
      ],
      "metadata": {
        "id": "gWXarHrAHQpI"
      },
      "execution_count": null,
      "outputs": []
    },
    {
      "cell_type": "code",
      "source": [
        "Lv = Va_m@Lf"
      ],
      "metadata": {
        "id": "AoR1mnu8HSAH"
      },
      "execution_count": null,
      "outputs": []
    },
    {
      "cell_type": "code",
      "source": [
        "df_Lv = pd.DataFrame(Lv)"
      ],
      "metadata": {
        "id": "tLupxKtCH2rP"
      },
      "execution_count": null,
      "outputs": []
    },
    {
      "cell_type": "code",
      "source": [
        "df_Lv.round(6)"
      ],
      "metadata": {
        "id": "AZcKYmw8H6q-"
      },
      "execution_count": null,
      "outputs": []
    },
    {
      "cell_type": "markdown",
      "source": [
        "### 수입유발계수"
      ],
      "metadata": {
        "id": "GRc1qIZQJMBt"
      }
    },
    {
      "cell_type": "code",
      "source": [
        "Ai = Im_1[0:33,0:33]/ct_m"
      ],
      "metadata": {
        "id": "NoAqKDHEH8JO"
      },
      "execution_count": null,
      "outputs": []
    },
    {
      "cell_type": "code",
      "source": [
        "Ai.round(6)"
      ],
      "metadata": {
        "id": "d7U3qJQCJc1k"
      },
      "execution_count": null,
      "outputs": []
    },
    {
      "cell_type": "code",
      "source": [
        "\n",
        "Li = Ai@Lf"
      ],
      "metadata": {
        "id": "KlEpLnQQJc37"
      },
      "execution_count": null,
      "outputs": []
    },
    {
      "cell_type": "code",
      "source": [
        "df_Li = pd.DataFrame(Li)"
      ],
      "metadata": {
        "id": "iT_bjLtFJc6k"
      },
      "execution_count": null,
      "outputs": []
    },
    {
      "cell_type": "code",
      "source": [
        "df_Li.round(6)"
      ],
      "metadata": {
        "id": "b_wuqRdxJ49h"
      },
      "execution_count": null,
      "outputs": []
    },
    {
      "cell_type": "code",
      "source": [
        "f_Lf=pd.DataFrame(Lf)\n",
        "f_Lv=pd.DataFrame(Lv)\n",
        "f_Li=pd.DataFrame(Li)"
      ],
      "metadata": {
        "id": "c6Tn-pc_J8Lc"
      },
      "execution_count": null,
      "outputs": []
    },
    {
      "cell_type": "code",
      "source": [
        "f_Lf.to_csv('Lf')\n",
        "f_Lv.to_csv('Lv')\n",
        "f_Li.to_csv('Li')"
      ],
      "metadata": {
        "id": "AZs3IWtITNAh"
      },
      "execution_count": null,
      "outputs": []
    },
    {
      "cell_type": "code",
      "source": [
        "# f_Lv.to_csv('Lv', index=False)"
      ],
      "metadata": {
        "id": "WZsB3ivqTlEo"
      },
      "execution_count": null,
      "outputs": []
    },
    {
      "cell_type": "markdown",
      "source": [
        "## 부문통합하여 3부문 IO표 만들기"
      ],
      "metadata": {
        "id": "oC0tJFI3t8YK"
      }
    },
    {
      "cell_type": "code",
      "source": [
        "code = np.array([[1,0,0,0,0,0,0,0,0,0,0,0,0,0,0,0,0,0,0,0,0,0,0,0,0,0,0,0,0,0,0,0,0],\n",
        "       [0,1,1,1,1,1,1,1,1,1,1,1,1,1,1,1,0,0,0,0,0,0,0,0,0,0,0,0,0,0,0,0,0],\n",
        "       [0,0,0,0,0,0,0,0,0,0,0,0,0,0,0,0,1,1,1,1,1,1,1,1,1,1,1,1,1,1,1,1,1]])"
      ],
      "metadata": {
        "id": "AyjeeiIkVXcf"
      },
      "execution_count": null,
      "outputs": []
    },
    {
      "cell_type": "code",
      "source": [
        "# from google.colab import drive\n",
        "# drive.mount('/content/drive')"
      ],
      "metadata": {
        "id": "EFxx6cAleXZr"
      },
      "execution_count": null,
      "outputs": []
    },
    {
      "cell_type": "code",
      "source": [
        "code"
      ],
      "metadata": {
        "id": "SgO_tRmNuqHH"
      },
      "execution_count": null,
      "outputs": []
    },
    {
      "cell_type": "code",
      "source": [
        "nae_tot_row = code@Tt_1[0:33,0:33]"
      ],
      "metadata": {
        "id": "CIqyXhr-u1_A"
      },
      "execution_count": null,
      "outputs": []
    },
    {
      "cell_type": "code",
      "source": [
        "nae_tot_row.shape "
      ],
      "metadata": {
        "id": "q1W1-Yc5v7ju"
      },
      "execution_count": null,
      "outputs": []
    },
    {
      "cell_type": "code",
      "source": [
        "nae_tot_col = nae_tot_row@code.T"
      ],
      "metadata": {
        "id": "1qkALwxwv8Fu"
      },
      "execution_count": null,
      "outputs": []
    },
    {
      "cell_type": "code",
      "source": [
        "nae_tot_col"
      ],
      "metadata": {
        "id": "mghk4dpExWHs"
      },
      "execution_count": null,
      "outputs": []
    },
    {
      "cell_type": "code",
      "source": [
        "nae_tot_col.sum()"
      ],
      "metadata": {
        "id": "eMeLseuZxY90"
      },
      "execution_count": null,
      "outputs": []
    },
    {
      "cell_type": "code",
      "source": [
        "va_row = Tt_1[33:40,0:33]@code.T"
      ],
      "metadata": {
        "id": "tmnf5V0BxoxB"
      },
      "execution_count": null,
      "outputs": []
    },
    {
      "cell_type": "code",
      "source": [
        "va_row # 중투합, 피용자보수, 영업잉여, 고정자본소모, 기타생산세, 부가가치계, 산출액(7X3)"
      ],
      "metadata": {
        "id": "OhObEo08jlEM"
      },
      "execution_count": null,
      "outputs": []
    },
    {
      "cell_type": "code",
      "source": [
        "va_row.shape"
      ],
      "metadata": {
        "id": "9ZVzuUQHkE1t"
      },
      "execution_count": null,
      "outputs": []
    },
    {
      "cell_type": "code",
      "source": [
        "# va_col_sm = va_row.sum(axis=1).reshape(7,1)  # 부가가치 및 산출액의 열합"
      ],
      "metadata": {
        "id": "cau4OOL9fJPz"
      },
      "execution_count": null,
      "outputs": []
    },
    {
      "cell_type": "code",
      "source": [
        "# va_col_sm.shape"
      ],
      "metadata": {
        "id": "HIRKE113fql3"
      },
      "execution_count": null,
      "outputs": []
    },
    {
      "cell_type": "code",
      "source": [
        "# va_row = np.concatenate((va_rw, va_col_sm), axis=1)"
      ],
      "metadata": {
        "id": "QMERW7M5e7uA"
      },
      "execution_count": null,
      "outputs": []
    },
    {
      "cell_type": "code",
      "source": [
        "va_row"
      ],
      "metadata": {
        "id": "IbKtYraff-CO"
      },
      "execution_count": null,
      "outputs": []
    },
    {
      "cell_type": "code",
      "source": [
        "fd_cd = np.array([[1,1,0,0,0,0,0,0,0],\n",
        "                  [0,0,1,1,1,1,0,0,0],\n",
        "                  [0,0,0,0,0,0,1,0,0],\n",
        "                  [0,0,0,0,0,0,0,1,0],\n",
        "                  [0,0,0,0,0,0,0,0,1]])"
      ],
      "metadata": {
        "id": "rUrnGELslm8g"
      },
      "execution_count": null,
      "outputs": []
    },
    {
      "cell_type": "code",
      "source": [
        "fd = Tt_1[0:33, 34:45]"
      ],
      "metadata": {
        "id": "hIPkA4wtkanu"
      },
      "execution_count": null,
      "outputs": []
    },
    {
      "cell_type": "code",
      "source": [
        "fd"
      ],
      "metadata": {
        "id": "4dsxEPt6nFAK"
      },
      "execution_count": null,
      "outputs": []
    },
    {
      "cell_type": "code",
      "source": [
        "fd_row=code@fd@fd_cd.T"
      ],
      "metadata": {
        "id": "vaEetnm3nFqa"
      },
      "execution_count": null,
      "outputs": []
    },
    {
      "cell_type": "code",
      "source": [
        "fd_row"
      ],
      "metadata": {
        "id": "H4Hu9zVGnHfa"
      },
      "execution_count": null,
      "outputs": []
    },
    {
      "cell_type": "code",
      "source": [
        "fd_row_sm = np.sum((fd_row), axis=0)"
      ],
      "metadata": {
        "id": "QfDtxF5ZnfLZ"
      },
      "execution_count": null,
      "outputs": []
    },
    {
      "cell_type": "code",
      "source": [
        "fd_sm=fd_row_sm.reshape(1,5)"
      ],
      "metadata": {
        "id": "APnpMNWcoSA2"
      },
      "execution_count": null,
      "outputs": []
    },
    {
      "cell_type": "code",
      "source": [
        "nae_va_ct = np.concatenate((nae_tot_col, va_row))"
      ],
      "metadata": {
        "id": "JL3h4FjloTSd"
      },
      "execution_count": null,
      "outputs": []
    },
    {
      "cell_type": "code",
      "source": [
        "nae_va_ct"
      ],
      "metadata": {
        "id": "ScxVpOo9pGAk"
      },
      "execution_count": null,
      "outputs": []
    },
    {
      "cell_type": "code",
      "source": [
        "nae_va_ct.shape"
      ],
      "metadata": {
        "id": "tFBNYyAeuI0T"
      },
      "execution_count": null,
      "outputs": []
    },
    {
      "cell_type": "code",
      "source": [
        "nae_va_ct_sm = nae_va_ct.sum(axis=1).reshape(10,1)  # 부가가치 및 산출액의 열합"
      ],
      "metadata": {
        "id": "t7klOqMdijsV"
      },
      "execution_count": null,
      "outputs": []
    },
    {
      "cell_type": "code",
      "source": [
        "nnull = np.zeros((6,5))"
      ],
      "metadata": {
        "id": "daWZU86Ip9ki"
      },
      "execution_count": null,
      "outputs": []
    },
    {
      "cell_type": "code",
      "source": [
        "nnull"
      ],
      "metadata": {
        "id": "MBRjWlB1qXjJ"
      },
      "execution_count": null,
      "outputs": []
    },
    {
      "cell_type": "code",
      "source": [
        "fd_nnull = np.concatenate((fd_row, fd_sm, nnull),axis=0)"
      ],
      "metadata": {
        "id": "MqEzVXUrqYKy"
      },
      "execution_count": null,
      "outputs": []
    },
    {
      "cell_type": "code",
      "source": [
        "fd_nnull.shape"
      ],
      "metadata": {
        "id": "XqIw-snEqlU6"
      },
      "execution_count": null,
      "outputs": []
    },
    {
      "cell_type": "code",
      "source": [
        "fd_sm.ndim"
      ],
      "metadata": {
        "id": "NeE4PowMqqYe"
      },
      "execution_count": null,
      "outputs": []
    },
    {
      "cell_type": "code",
      "source": [
        "tot_f = np.concatenate((nae_va_ct,nae_va_ct_sm, fd_nnull), axis=1) "
      ],
      "metadata": {
        "id": "FOY8xWsnqs2e"
      },
      "execution_count": null,
      "outputs": []
    },
    {
      "cell_type": "code",
      "source": [
        "tot_F = pd.DataFrame(tot_f, columns = ['Agriculture', 'Manufacturing', 'Services', 'Total intermediate demand', 'Conumption','Investment', 'Exports', 'Total final demand', 'Total demand'])"
      ],
      "metadata": {
        "id": "hmrzeP5vq4lm"
      },
      "execution_count": null,
      "outputs": []
    },
    {
      "cell_type": "code",
      "source": [
        "tot_F"
      ],
      "metadata": {
        "id": "Gde8BJ3Wuzon"
      },
      "execution_count": null,
      "outputs": []
    },
    {
      "cell_type": "markdown",
      "source": [
        "# 수입거래표 통합하기"
      ],
      "metadata": {
        "id": "1JXfjcDmXoEb"
      }
    },
    {
      "cell_type": "code",
      "source": [
        "nae_imp_row = code@Im_1[0:33,0:33]"
      ],
      "metadata": {
        "id": "SyJEqFARNPIV"
      },
      "execution_count": null,
      "outputs": []
    },
    {
      "cell_type": "code",
      "source": [
        "nae_imp_col = nae_imp_row@code.T"
      ],
      "metadata": {
        "id": "P1TgoDZmNPOu"
      },
      "execution_count": null,
      "outputs": []
    },
    {
      "cell_type": "code",
      "source": [
        "imp_iti = Im_1[-1,0:33]@code.T"
      ],
      "metadata": {
        "id": "RNJkEFwjPAA9"
      },
      "execution_count": null,
      "outputs": []
    },
    {
      "cell_type": "code",
      "source": [
        "imp_sm = imp_iti.reshape(1,3)"
      ],
      "metadata": {
        "id": "mCpc5yaCPAE6"
      },
      "execution_count": null,
      "outputs": []
    },
    {
      "cell_type": "code",
      "source": [
        "fd_imp = Im_1[0:33, 34:45]"
      ],
      "metadata": {
        "id": "wlDNBjI0NPUh"
      },
      "execution_count": null,
      "outputs": []
    },
    {
      "cell_type": "code",
      "source": [
        "fd_imp_row=code@fd_imp@fd_cd.T"
      ],
      "metadata": {
        "id": "eGuRuINJOHez"
      },
      "execution_count": null,
      "outputs": []
    },
    {
      "cell_type": "code",
      "source": [
        "fd_imp_row_sm = np.sum((fd_imp_row), axis=0)"
      ],
      "metadata": {
        "id": "j91pzzlWOajh"
      },
      "execution_count": null,
      "outputs": []
    },
    {
      "cell_type": "code",
      "source": [
        "fd_sm = fd_imp_row_sm.reshape(1,5)"
      ],
      "metadata": {
        "id": "A5O04EovQYw1"
      },
      "execution_count": null,
      "outputs": []
    },
    {
      "cell_type": "code",
      "source": [
        "imp_nae_3 = np.concatenate((nae_imp_col, imp_sm))"
      ],
      "metadata": {
        "id": "dFx0kGvOOo27"
      },
      "execution_count": null,
      "outputs": []
    },
    {
      "cell_type": "code",
      "source": [
        "imp_col_sm = imp_nae_3.sum(axis=1).reshape(4,1)  # 중간수요 열합"
      ],
      "metadata": {
        "id": "le_V2T7RjVN7"
      },
      "execution_count": null,
      "outputs": []
    },
    {
      "cell_type": "code",
      "source": [
        "imp_fd_3 = np.concatenate((fd_imp_row, fd_sm))"
      ],
      "metadata": {
        "id": "KNCplvLFVxdZ"
      },
      "execution_count": null,
      "outputs": []
    },
    {
      "cell_type": "code",
      "source": [
        "imp_f = np.concatenate((imp_nae_3, imp_col_sm, imp_fd_3), axis=1)"
      ],
      "metadata": {
        "id": "WVbIqbM-OvpF"
      },
      "execution_count": null,
      "outputs": []
    },
    {
      "cell_type": "code",
      "source": [
        "imp_F = pd.DataFrame(imp_f, columns = ['Agriculture', 'Manufacturing', 'Services', 'Total intermediate demand', 'Conumption','Investment', 'Exports', 'Total final demand', 'Total demand'])"
      ],
      "metadata": {
        "id": "f-cQb_nWOvsf"
      },
      "execution_count": null,
      "outputs": []
    },
    {
      "cell_type": "code",
      "source": [
        "imp_F"
      ],
      "metadata": {
        "id": "velNVEIfOvyR"
      },
      "execution_count": null,
      "outputs": []
    },
    {
      "cell_type": "markdown",
      "source": [
        "# 국산거래표 통합하기"
      ],
      "metadata": {
        "id": "sY8s7U5fXvDa"
      }
    },
    {
      "cell_type": "code",
      "source": [
        "nae_dom_row = code@Dm_1[0:33,0:33]"
      ],
      "metadata": {
        "id": "YQtt2iA1Ov1n"
      },
      "execution_count": null,
      "outputs": []
    },
    {
      "cell_type": "code",
      "source": [
        "nae_dom_col = nae_dom_row@code.T"
      ],
      "metadata": {
        "id": "NXF6NCIHSRSA"
      },
      "execution_count": null,
      "outputs": []
    },
    {
      "cell_type": "code",
      "source": [
        "dom_iti = Dm_1[-1,0:33]@code.T"
      ],
      "metadata": {
        "id": "6YRLv7naX8yT"
      },
      "execution_count": null,
      "outputs": []
    },
    {
      "cell_type": "code",
      "source": [
        "dom_sm = dom_iti.reshape(1,3)"
      ],
      "metadata": {
        "id": "kg3gwsSIX808"
      },
      "execution_count": null,
      "outputs": []
    },
    {
      "cell_type": "code",
      "source": [
        "fd_dom = Dm_1[0:33, 34:45]"
      ],
      "metadata": {
        "id": "rI73jk5hX83v"
      },
      "execution_count": null,
      "outputs": []
    },
    {
      "cell_type": "code",
      "source": [
        "fd_dom_row=code@fd_dom@fd_cd.T"
      ],
      "metadata": {
        "id": "VCY4IlxrX86B"
      },
      "execution_count": null,
      "outputs": []
    },
    {
      "cell_type": "code",
      "source": [
        "fd_dom_row_sm = np.sum((fd_dom_row), axis=0)"
      ],
      "metadata": {
        "id": "lCgggunqX88o"
      },
      "execution_count": null,
      "outputs": []
    },
    {
      "cell_type": "code",
      "source": [
        "fd_sm = fd_dom_row_sm.reshape(1,5)"
      ],
      "metadata": {
        "id": "5MS2SL39YjwN"
      },
      "execution_count": null,
      "outputs": []
    },
    {
      "cell_type": "code",
      "source": [
        "dom_nae_3 = np.concatenate((nae_dom_col, dom_sm), axis=0)"
      ],
      "metadata": {
        "id": "dnmG40tWYtLM"
      },
      "execution_count": null,
      "outputs": []
    },
    {
      "cell_type": "code",
      "source": [
        "dom_col_sm = dom_nae_3.sum(axis=1).reshape(4,1)  # 중간수요 열합"
      ],
      "metadata": {
        "id": "4SEm_U1Ljuef"
      },
      "execution_count": null,
      "outputs": []
    },
    {
      "cell_type": "code",
      "source": [
        "dom_fd_3 = np.concatenate((fd_dom_row, fd_sm), axis=0)"
      ],
      "metadata": {
        "id": "XvVcvLo7Y_Lp"
      },
      "execution_count": null,
      "outputs": []
    },
    {
      "cell_type": "code",
      "source": [
        "dom_f = np.concatenate((dom_nae_3, dom_col_sm, dom_fd_3), axis=1)"
      ],
      "metadata": {
        "id": "AXgAc4EOZSAa"
      },
      "execution_count": null,
      "outputs": []
    },
    {
      "cell_type": "code",
      "source": [
        "dom_F = pd.DataFrame(dom_f, columns = ['Agriculture', 'Manufacturing', 'Services', 'Total intermediate demand', 'Conumption','Investment', 'Exports', 'Total final demand', 'Total demand'])"
      ],
      "metadata": {
        "id": "7VQkruekZcBP"
      },
      "execution_count": null,
      "outputs": []
    },
    {
      "cell_type": "code",
      "source": [
        "dom_F"
      ],
      "metadata": {
        "id": "BkErpXXyZkcp"
      },
      "execution_count": null,
      "outputs": []
    },
    {
      "cell_type": "markdown",
      "source": [
        "### 3부문 총거래표에서 부가가치총합만 나타내기"
      ],
      "metadata": {
        "id": "3hDLUWEckLdU"
      }
    },
    {
      "cell_type": "code",
      "source": [
        "tot_F_one_va = tot_F.drop(tot_F.index[4:8])"
      ],
      "metadata": {
        "id": "H9pr6U5kkCwb"
      },
      "execution_count": null,
      "outputs": []
    },
    {
      "cell_type": "code",
      "source": [
        "tot_F_one_va"
      ],
      "metadata": {
        "id": "l6sSk5dMlbBv"
      },
      "execution_count": null,
      "outputs": []
    },
    {
      "cell_type": "markdown",
      "source": [
        "## 결과 내보내기"
      ],
      "metadata": {
        "id": "22aT7ZFLdLSv"
      }
    },
    {
      "cell_type": "code",
      "source": [
        "# np.savetxt('Total_3',tot_f, delimiter=',')\n",
        "# np.savetxt('Import_3',imp_f, delimiter=',')\n",
        "# np.savetxt('Domestic_3',dom_f, delimiter=',')"
      ],
      "metadata": {
        "id": "83mELpCng1XO"
      },
      "execution_count": null,
      "outputs": []
    },
    {
      "cell_type": "code",
      "source": [
        "tot_F.to_csv('Total_3')\n",
        "imp_F.to_csv('Import_3')\n",
        "dom_F.to_csv('Domestic_3')\n",
        "tot_F_one_va.to_csv('Total_3_one_va')"
      ],
      "metadata": {
        "id": "Ucqu7T0ZdOlP"
      },
      "execution_count": null,
      "outputs": []
    },
    {
      "cell_type": "code",
      "source": [
        "# imp_F.to_csv('Import_3',index=False)"
      ],
      "metadata": {
        "id": "c_te-OShjkER"
      },
      "execution_count": null,
      "outputs": []
    },
    {
      "cell_type": "code",
      "source": [
        "# dom_F.to_csv('Domestic_3', index=False)"
      ],
      "metadata": {
        "id": "jkPa-0yckir6"
      },
      "execution_count": null,
      "outputs": []
    },
    {
      "cell_type": "markdown",
      "source": [
        "## 3부문 유발계수 산출 하기"
      ],
      "metadata": {
        "id": "cMeHisQ_34jA"
      }
    },
    {
      "cell_type": "code",
      "source": [
        "ct_exm = tot_f[-1, 0:3]"
      ],
      "metadata": {
        "id": "Rzuzf0LZn1In"
      },
      "execution_count": null,
      "outputs": []
    },
    {
      "cell_type": "code",
      "source": [
        "ct_exm"
      ],
      "metadata": {
        "id": "4OVVovJk4n82"
      },
      "execution_count": null,
      "outputs": []
    },
    {
      "cell_type": "code",
      "source": [
        "ct_m_exm = np.tile(ct_exm, reps=[3,1])"
      ],
      "metadata": {
        "id": "67XiRZTH4smD"
      },
      "execution_count": null,
      "outputs": []
    },
    {
      "cell_type": "code",
      "source": [
        "ct_m_exm"
      ],
      "metadata": {
        "id": "DKtsiYjx44n0"
      },
      "execution_count": null,
      "outputs": []
    },
    {
      "cell_type": "code",
      "source": [
        "Ad_exm = dom_f[0:3,0:3]/ct_m_exm"
      ],
      "metadata": {
        "id": "vY_p16Kw46Fb"
      },
      "execution_count": null,
      "outputs": []
    },
    {
      "cell_type": "code",
      "source": [
        "Ad_exm"
      ],
      "metadata": {
        "id": "SOz-_BJb5Gzs"
      },
      "execution_count": null,
      "outputs": []
    },
    {
      "cell_type": "code",
      "source": [
        "Lf_exm = np.linalg.inv(np.identity(3)-Ad_exm)"
      ],
      "metadata": {
        "id": "UotKzFp45IMb"
      },
      "execution_count": null,
      "outputs": []
    },
    {
      "cell_type": "code",
      "source": [
        "Lf_exm"
      ],
      "metadata": {
        "id": "PKwQ2-I65QKL"
      },
      "execution_count": null,
      "outputs": []
    },
    {
      "cell_type": "code",
      "source": [
        "\n",
        "df_Lf_exm = pd.DataFrame(Lf_exm)"
      ],
      "metadata": {
        "id": "3-qNri7L6gEO"
      },
      "execution_count": null,
      "outputs": []
    },
    {
      "cell_type": "code",
      "source": [
        "df_Lf_exm"
      ],
      "metadata": {
        "id": "YSCA7lNw6k2W"
      },
      "execution_count": null,
      "outputs": []
    },
    {
      "cell_type": "code",
      "source": [
        "\n",
        "Va_r_exm = tot_f[-2,0:3]/ct_exm "
      ],
      "metadata": {
        "id": "slIO_c196mdG"
      },
      "execution_count": null,
      "outputs": []
    },
    {
      "cell_type": "code",
      "source": [
        "Va_r_exm"
      ],
      "metadata": {
        "id": "prZuncWc6w6t"
      },
      "execution_count": null,
      "outputs": []
    },
    {
      "cell_type": "code",
      "source": [
        "\n",
        "Va_m_exm = np.diag(Va_r_exm)"
      ],
      "metadata": {
        "id": "0U47qo856zE9"
      },
      "execution_count": null,
      "outputs": []
    },
    {
      "cell_type": "code",
      "source": [
        "Va_m_exm"
      ],
      "metadata": {
        "id": "-8_41hcX68yG"
      },
      "execution_count": null,
      "outputs": []
    },
    {
      "cell_type": "code",
      "source": [
        "Lv_exm = Va_m_exm@Lf_exm"
      ],
      "metadata": {
        "id": "A7oRqAfE7CHl",
        "outputId": "a5891bbd-9be4-4b19-c2b5-8e42147f933d",
        "colab": {
          "base_uri": "https://localhost:8080/",
          "height": 174
        }
      },
      "execution_count": null,
      "outputs": [
        {
          "output_type": "error",
          "ename": "NameError",
          "evalue": "ignored",
          "traceback": [
            "\u001b[0;31m---------------------------------------------------------------------------\u001b[0m",
            "\u001b[0;31mNameError\u001b[0m                                 Traceback (most recent call last)",
            "\u001b[0;32m<ipython-input-49-0fc48c322b0e>\u001b[0m in \u001b[0;36m<cell line: 1>\u001b[0;34m()\u001b[0m\n\u001b[0;32m----> 1\u001b[0;31m \u001b[0mLv_exm\u001b[0m \u001b[0;34m=\u001b[0m \u001b[0mVa_m_exm\u001b[0m\u001b[0;34m@\u001b[0m\u001b[0mLf_exm\u001b[0m\u001b[0;34m\u001b[0m\u001b[0;34m\u001b[0m\u001b[0m\n\u001b[0m",
            "\u001b[0;31mNameError\u001b[0m: name 'Va_m_exm' is not defined"
          ]
        }
      ]
    },
    {
      "cell_type": "code",
      "source": [
        "Lv_exm"
      ],
      "metadata": {
        "id": "ocnNS3Xn7LLN"
      },
      "execution_count": null,
      "outputs": []
    },
    {
      "cell_type": "code",
      "source": [
        "df_Lv_exm = pd.DataFrame(Lv_exm)"
      ],
      "metadata": {
        "id": "l4rgvMwY7Mjb"
      },
      "execution_count": null,
      "outputs": []
    },
    {
      "cell_type": "code",
      "source": [
        "df_Lv_exm"
      ],
      "metadata": {
        "id": "KFmyU6OQ7Ut7"
      },
      "execution_count": null,
      "outputs": []
    },
    {
      "cell_type": "code",
      "source": [
        "Ai_exm = imp_f[0:3,0:3]/ct_m_exm"
      ],
      "metadata": {
        "id": "dm9NdhAB7VuD"
      },
      "execution_count": null,
      "outputs": []
    },
    {
      "cell_type": "code",
      "source": [
        "Ai_exm"
      ],
      "metadata": {
        "id": "N7U5IOkZ7dGl"
      },
      "execution_count": null,
      "outputs": []
    },
    {
      "cell_type": "code",
      "source": [
        "Li_exm = Ai_exm@Lf_exm"
      ],
      "metadata": {
        "id": "2Bvi5sWB7e5U"
      },
      "execution_count": null,
      "outputs": []
    },
    {
      "cell_type": "code",
      "source": [
        "Li_exm"
      ],
      "metadata": {
        "id": "5boGkyqZ7lLM"
      },
      "execution_count": null,
      "outputs": []
    },
    {
      "cell_type": "code",
      "source": [
        "\n",
        "df_Li_exm = pd.DataFrame(Li_exm)"
      ],
      "metadata": {
        "id": "9kuY9odN7mV8"
      },
      "execution_count": null,
      "outputs": []
    },
    {
      "cell_type": "code",
      "source": [
        "df_Li_exm"
      ],
      "metadata": {
        "id": "v_87Fc0R7qp1"
      },
      "execution_count": null,
      "outputs": []
    },
    {
      "cell_type": "code",
      "source": [
        "\n",
        "f_Lf_exm=pd.DataFrame(Lf_exm)\n",
        "f_Lv_exm=pd.DataFrame(Lv_exm)\n",
        "f_Li_exm=pd.DataFrame(Li_exm)\n",
        "     "
      ],
      "metadata": {
        "id": "1u9QBPdT7vEt"
      },
      "execution_count": null,
      "outputs": []
    },
    {
      "cell_type": "code",
      "source": [
        "\n",
        "f_Lf_exm.to_csv('Lf_exm')\n",
        "f_Lv_exm.to_csv('Lv_exm')\n",
        "f_Li_exm.to_csv('Li_exm')"
      ],
      "metadata": {
        "id": "-hZAsWwO73x-"
      },
      "execution_count": null,
      "outputs": []
    },
    {
      "cell_type": "code",
      "source": [],
      "metadata": {
        "id": "Zp425f7g7-KW"
      },
      "execution_count": null,
      "outputs": []
    }
  ]
}