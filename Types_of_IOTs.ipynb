{
  "nbformat": 4,
  "nbformat_minor": 0,
  "metadata": {
    "colab": {
      "provenance": [],
      "mount_file_id": "https://github.com/Tom-Jung/legendary-funicular/blob/main/IO_tables.ipynb",
      "authorship_tag": "ABX9TyPkzj7hu6Cn2j33mRiyUJ9e",
      "include_colab_link": true
    },
    "kernelspec": {
      "name": "python3",
      "display_name": "Python 3"
    },
    "language_info": {
      "name": "python"
    }
  },
  "cells": [
    {
      "cell_type": "markdown",
      "metadata": {
        "id": "view-in-github",
        "colab_type": "text"
      },
      "source": [
        "<a href=\"https://colab.research.google.com/github/Tom-Jung/legendary-funicular/blob/main/Types_of_IOTs.ipynb\" target=\"_parent\"><img src=\"https://colab.research.google.com/assets/colab-badge.svg\" alt=\"Open In Colab\"/></a>"
      ]
    },
    {
      "cell_type": "code",
      "source": [
        "import numpy as np   # Numpy import\n",
        "import pandas as pd  # Pandas import"
      ],
      "metadata": {
        "id": "TR7JvW8CxBFT"
      },
      "execution_count": 1,
      "outputs": []
    },
    {
      "cell_type": "markdown",
      "source": [
        "## 산업연관표의 종류\n"
      ],
      "metadata": {
        "id": "Ja1OCBr1_w2z"
      }
    },
    {
      "cell_type": "markdown",
      "source": [
        "#### Github에 저장되어 있는 연습용 3부문 거래표 불러오기"
      ],
      "metadata": {
        "id": "YtzqobQWrRbM"
      }
    },
    {
      "cell_type": "code",
      "source": [
        "url_total = \"https://raw.githubusercontent.com/Tom-Jung/legendary-funicular/main/Total_3_secs_one_va.csv\"  # 총거래표\n",
        "Tot = pd.read_csv(url_total)"
      ],
      "metadata": {
        "id": "1-cypvlPA0Tu"
      },
      "execution_count": 2,
      "outputs": []
    },
    {
      "cell_type": "code",
      "source": [
        "Tot  # 총거래표 불러오기 확인"
      ],
      "metadata": {
        "colab": {
          "base_uri": "https://localhost:8080/",
          "height": 238
        },
        "id": "rtqZunX0walG",
        "outputId": "1ccd9f36-42ab-4016-b161-bbd0e37fd6e7"
      },
      "execution_count": 3,
      "outputs": [
        {
          "output_type": "execute_result",
          "data": {
            "text/plain": [
              "      부문  농산품  공산품  서비스  중간수요계   소비  투자  수출  최종수요계  총수요계  총산출액  수입  총공급액\n",
              "0    농산품    2   14    4     20    3   3   2      8    28    14  14    28\n",
              "1    공산품    5   94   39    138   32  19  73    124   262   203  59   262\n",
              "2    서비스    2   28   58     88  106  47  15    168   256   244  12   256\n",
              "3  중간투입계    9  136  101    246  141  69  90    300   546   461  85   546\n",
              "4   부가가치    5   67  143    215    0   0   0      0     0     0   0     0\n",
              "5   총투입계   14  203  244    461    0   0   0      0     0     0   0     0"
            ],
            "text/html": [
              "\n",
              "  <div id=\"df-e1205b5c-7117-4bbf-aad0-f825ddf46b6a\">\n",
              "    <div class=\"colab-df-container\">\n",
              "      <div>\n",
              "<style scoped>\n",
              "    .dataframe tbody tr th:only-of-type {\n",
              "        vertical-align: middle;\n",
              "    }\n",
              "\n",
              "    .dataframe tbody tr th {\n",
              "        vertical-align: top;\n",
              "    }\n",
              "\n",
              "    .dataframe thead th {\n",
              "        text-align: right;\n",
              "    }\n",
              "</style>\n",
              "<table border=\"1\" class=\"dataframe\">\n",
              "  <thead>\n",
              "    <tr style=\"text-align: right;\">\n",
              "      <th></th>\n",
              "      <th>부문</th>\n",
              "      <th>농산품</th>\n",
              "      <th>공산품</th>\n",
              "      <th>서비스</th>\n",
              "      <th>중간수요계</th>\n",
              "      <th>소비</th>\n",
              "      <th>투자</th>\n",
              "      <th>수출</th>\n",
              "      <th>최종수요계</th>\n",
              "      <th>총수요계</th>\n",
              "      <th>총산출액</th>\n",
              "      <th>수입</th>\n",
              "      <th>총공급액</th>\n",
              "    </tr>\n",
              "  </thead>\n",
              "  <tbody>\n",
              "    <tr>\n",
              "      <th>0</th>\n",
              "      <td>농산품</td>\n",
              "      <td>2</td>\n",
              "      <td>14</td>\n",
              "      <td>4</td>\n",
              "      <td>20</td>\n",
              "      <td>3</td>\n",
              "      <td>3</td>\n",
              "      <td>2</td>\n",
              "      <td>8</td>\n",
              "      <td>28</td>\n",
              "      <td>14</td>\n",
              "      <td>14</td>\n",
              "      <td>28</td>\n",
              "    </tr>\n",
              "    <tr>\n",
              "      <th>1</th>\n",
              "      <td>공산품</td>\n",
              "      <td>5</td>\n",
              "      <td>94</td>\n",
              "      <td>39</td>\n",
              "      <td>138</td>\n",
              "      <td>32</td>\n",
              "      <td>19</td>\n",
              "      <td>73</td>\n",
              "      <td>124</td>\n",
              "      <td>262</td>\n",
              "      <td>203</td>\n",
              "      <td>59</td>\n",
              "      <td>262</td>\n",
              "    </tr>\n",
              "    <tr>\n",
              "      <th>2</th>\n",
              "      <td>서비스</td>\n",
              "      <td>2</td>\n",
              "      <td>28</td>\n",
              "      <td>58</td>\n",
              "      <td>88</td>\n",
              "      <td>106</td>\n",
              "      <td>47</td>\n",
              "      <td>15</td>\n",
              "      <td>168</td>\n",
              "      <td>256</td>\n",
              "      <td>244</td>\n",
              "      <td>12</td>\n",
              "      <td>256</td>\n",
              "    </tr>\n",
              "    <tr>\n",
              "      <th>3</th>\n",
              "      <td>중간투입계</td>\n",
              "      <td>9</td>\n",
              "      <td>136</td>\n",
              "      <td>101</td>\n",
              "      <td>246</td>\n",
              "      <td>141</td>\n",
              "      <td>69</td>\n",
              "      <td>90</td>\n",
              "      <td>300</td>\n",
              "      <td>546</td>\n",
              "      <td>461</td>\n",
              "      <td>85</td>\n",
              "      <td>546</td>\n",
              "    </tr>\n",
              "    <tr>\n",
              "      <th>4</th>\n",
              "      <td>부가가치</td>\n",
              "      <td>5</td>\n",
              "      <td>67</td>\n",
              "      <td>143</td>\n",
              "      <td>215</td>\n",
              "      <td>0</td>\n",
              "      <td>0</td>\n",
              "      <td>0</td>\n",
              "      <td>0</td>\n",
              "      <td>0</td>\n",
              "      <td>0</td>\n",
              "      <td>0</td>\n",
              "      <td>0</td>\n",
              "    </tr>\n",
              "    <tr>\n",
              "      <th>5</th>\n",
              "      <td>총투입계</td>\n",
              "      <td>14</td>\n",
              "      <td>203</td>\n",
              "      <td>244</td>\n",
              "      <td>461</td>\n",
              "      <td>0</td>\n",
              "      <td>0</td>\n",
              "      <td>0</td>\n",
              "      <td>0</td>\n",
              "      <td>0</td>\n",
              "      <td>0</td>\n",
              "      <td>0</td>\n",
              "      <td>0</td>\n",
              "    </tr>\n",
              "  </tbody>\n",
              "</table>\n",
              "</div>\n",
              "      <button class=\"colab-df-convert\" onclick=\"convertToInteractive('df-e1205b5c-7117-4bbf-aad0-f825ddf46b6a')\"\n",
              "              title=\"Convert this dataframe to an interactive table.\"\n",
              "              style=\"display:none;\">\n",
              "        \n",
              "  <svg xmlns=\"http://www.w3.org/2000/svg\" height=\"24px\"viewBox=\"0 0 24 24\"\n",
              "       width=\"24px\">\n",
              "    <path d=\"M0 0h24v24H0V0z\" fill=\"none\"/>\n",
              "    <path d=\"M18.56 5.44l.94 2.06.94-2.06 2.06-.94-2.06-.94-.94-2.06-.94 2.06-2.06.94zm-11 1L8.5 8.5l.94-2.06 2.06-.94-2.06-.94L8.5 2.5l-.94 2.06-2.06.94zm10 10l.94 2.06.94-2.06 2.06-.94-2.06-.94-.94-2.06-.94 2.06-2.06.94z\"/><path d=\"M17.41 7.96l-1.37-1.37c-.4-.4-.92-.59-1.43-.59-.52 0-1.04.2-1.43.59L10.3 9.45l-7.72 7.72c-.78.78-.78 2.05 0 2.83L4 21.41c.39.39.9.59 1.41.59.51 0 1.02-.2 1.41-.59l7.78-7.78 2.81-2.81c.8-.78.8-2.07 0-2.86zM5.41 20L4 18.59l7.72-7.72 1.47 1.35L5.41 20z\"/>\n",
              "  </svg>\n",
              "      </button>\n",
              "      \n",
              "  <style>\n",
              "    .colab-df-container {\n",
              "      display:flex;\n",
              "      flex-wrap:wrap;\n",
              "      gap: 12px;\n",
              "    }\n",
              "\n",
              "    .colab-df-convert {\n",
              "      background-color: #E8F0FE;\n",
              "      border: none;\n",
              "      border-radius: 50%;\n",
              "      cursor: pointer;\n",
              "      display: none;\n",
              "      fill: #1967D2;\n",
              "      height: 32px;\n",
              "      padding: 0 0 0 0;\n",
              "      width: 32px;\n",
              "    }\n",
              "\n",
              "    .colab-df-convert:hover {\n",
              "      background-color: #E2EBFA;\n",
              "      box-shadow: 0px 1px 2px rgba(60, 64, 67, 0.3), 0px 1px 3px 1px rgba(60, 64, 67, 0.15);\n",
              "      fill: #174EA6;\n",
              "    }\n",
              "\n",
              "    [theme=dark] .colab-df-convert {\n",
              "      background-color: #3B4455;\n",
              "      fill: #D2E3FC;\n",
              "    }\n",
              "\n",
              "    [theme=dark] .colab-df-convert:hover {\n",
              "      background-color: #434B5C;\n",
              "      box-shadow: 0px 1px 3px 1px rgba(0, 0, 0, 0.15);\n",
              "      filter: drop-shadow(0px 1px 2px rgba(0, 0, 0, 0.3));\n",
              "      fill: #FFFFFF;\n",
              "    }\n",
              "  </style>\n",
              "\n",
              "      <script>\n",
              "        const buttonEl =\n",
              "          document.querySelector('#df-e1205b5c-7117-4bbf-aad0-f825ddf46b6a button.colab-df-convert');\n",
              "        buttonEl.style.display =\n",
              "          google.colab.kernel.accessAllowed ? 'block' : 'none';\n",
              "\n",
              "        async function convertToInteractive(key) {\n",
              "          const element = document.querySelector('#df-e1205b5c-7117-4bbf-aad0-f825ddf46b6a');\n",
              "          const dataTable =\n",
              "            await google.colab.kernel.invokeFunction('convertToInteractive',\n",
              "                                                     [key], {});\n",
              "          if (!dataTable) return;\n",
              "\n",
              "          const docLinkHtml = 'Like what you see? Visit the ' +\n",
              "            '<a target=\"_blank\" href=https://colab.research.google.com/notebooks/data_table.ipynb>data table notebook</a>'\n",
              "            + ' to learn more about interactive tables.';\n",
              "          element.innerHTML = '';\n",
              "          dataTable['output_type'] = 'display_data';\n",
              "          await google.colab.output.renderOutput(dataTable, element);\n",
              "          const docLink = document.createElement('div');\n",
              "          docLink.innerHTML = docLinkHtml;\n",
              "          element.appendChild(docLink);\n",
              "        }\n",
              "      </script>\n",
              "    </div>\n",
              "  </div>\n",
              "  "
            ]
          },
          "metadata": {},
          "execution_count": 3
        }
      ]
    },
    {
      "cell_type": "code",
      "source": [
        "url_dom = \"https://raw.githubusercontent.com/Tom-Jung/legendary-funicular/main/Domestic_3_secs.csv\"   # 국산거래표\n",
        "Dom = pd.read_csv(url_dom)"
      ],
      "metadata": {
        "id": "FKASTpXRA0Ld"
      },
      "execution_count": 4,
      "outputs": []
    },
    {
      "cell_type": "code",
      "source": [
        "Dom  # 국산거래표 불러오기 확인"
      ],
      "metadata": {
        "id": "Taf8fWrGA0Gu",
        "colab": {
          "base_uri": "https://localhost:8080/",
          "height": 175
        },
        "outputId": "bafc6db4-11ea-4868-cb7e-5746497fe466"
      },
      "execution_count": 5,
      "outputs": [
        {
          "output_type": "execute_result",
          "data": {
            "text/plain": [
              "      부문  농산품  공산품  서비스  중간수요계   소비  투자  수출  최종수요계  총수요계\n",
              "0    농산품    1    7    1      9    1   2   2      5    14\n",
              "1    공산품    4   61   29     94   26  13  70    109   203\n",
              "2    서비스    1   26   52     79  104  46  15    165   244\n",
              "3  중간투입계    6   94   82    182  131  61  87    279   461"
            ],
            "text/html": [
              "\n",
              "  <div id=\"df-bbad9085-1536-4a84-80bc-74015d77e35a\">\n",
              "    <div class=\"colab-df-container\">\n",
              "      <div>\n",
              "<style scoped>\n",
              "    .dataframe tbody tr th:only-of-type {\n",
              "        vertical-align: middle;\n",
              "    }\n",
              "\n",
              "    .dataframe tbody tr th {\n",
              "        vertical-align: top;\n",
              "    }\n",
              "\n",
              "    .dataframe thead th {\n",
              "        text-align: right;\n",
              "    }\n",
              "</style>\n",
              "<table border=\"1\" class=\"dataframe\">\n",
              "  <thead>\n",
              "    <tr style=\"text-align: right;\">\n",
              "      <th></th>\n",
              "      <th>부문</th>\n",
              "      <th>농산품</th>\n",
              "      <th>공산품</th>\n",
              "      <th>서비스</th>\n",
              "      <th>중간수요계</th>\n",
              "      <th>소비</th>\n",
              "      <th>투자</th>\n",
              "      <th>수출</th>\n",
              "      <th>최종수요계</th>\n",
              "      <th>총수요계</th>\n",
              "    </tr>\n",
              "  </thead>\n",
              "  <tbody>\n",
              "    <tr>\n",
              "      <th>0</th>\n",
              "      <td>농산품</td>\n",
              "      <td>1</td>\n",
              "      <td>7</td>\n",
              "      <td>1</td>\n",
              "      <td>9</td>\n",
              "      <td>1</td>\n",
              "      <td>2</td>\n",
              "      <td>2</td>\n",
              "      <td>5</td>\n",
              "      <td>14</td>\n",
              "    </tr>\n",
              "    <tr>\n",
              "      <th>1</th>\n",
              "      <td>공산품</td>\n",
              "      <td>4</td>\n",
              "      <td>61</td>\n",
              "      <td>29</td>\n",
              "      <td>94</td>\n",
              "      <td>26</td>\n",
              "      <td>13</td>\n",
              "      <td>70</td>\n",
              "      <td>109</td>\n",
              "      <td>203</td>\n",
              "    </tr>\n",
              "    <tr>\n",
              "      <th>2</th>\n",
              "      <td>서비스</td>\n",
              "      <td>1</td>\n",
              "      <td>26</td>\n",
              "      <td>52</td>\n",
              "      <td>79</td>\n",
              "      <td>104</td>\n",
              "      <td>46</td>\n",
              "      <td>15</td>\n",
              "      <td>165</td>\n",
              "      <td>244</td>\n",
              "    </tr>\n",
              "    <tr>\n",
              "      <th>3</th>\n",
              "      <td>중간투입계</td>\n",
              "      <td>6</td>\n",
              "      <td>94</td>\n",
              "      <td>82</td>\n",
              "      <td>182</td>\n",
              "      <td>131</td>\n",
              "      <td>61</td>\n",
              "      <td>87</td>\n",
              "      <td>279</td>\n",
              "      <td>461</td>\n",
              "    </tr>\n",
              "  </tbody>\n",
              "</table>\n",
              "</div>\n",
              "      <button class=\"colab-df-convert\" onclick=\"convertToInteractive('df-bbad9085-1536-4a84-80bc-74015d77e35a')\"\n",
              "              title=\"Convert this dataframe to an interactive table.\"\n",
              "              style=\"display:none;\">\n",
              "        \n",
              "  <svg xmlns=\"http://www.w3.org/2000/svg\" height=\"24px\"viewBox=\"0 0 24 24\"\n",
              "       width=\"24px\">\n",
              "    <path d=\"M0 0h24v24H0V0z\" fill=\"none\"/>\n",
              "    <path d=\"M18.56 5.44l.94 2.06.94-2.06 2.06-.94-2.06-.94-.94-2.06-.94 2.06-2.06.94zm-11 1L8.5 8.5l.94-2.06 2.06-.94-2.06-.94L8.5 2.5l-.94 2.06-2.06.94zm10 10l.94 2.06.94-2.06 2.06-.94-2.06-.94-.94-2.06-.94 2.06-2.06.94z\"/><path d=\"M17.41 7.96l-1.37-1.37c-.4-.4-.92-.59-1.43-.59-.52 0-1.04.2-1.43.59L10.3 9.45l-7.72 7.72c-.78.78-.78 2.05 0 2.83L4 21.41c.39.39.9.59 1.41.59.51 0 1.02-.2 1.41-.59l7.78-7.78 2.81-2.81c.8-.78.8-2.07 0-2.86zM5.41 20L4 18.59l7.72-7.72 1.47 1.35L5.41 20z\"/>\n",
              "  </svg>\n",
              "      </button>\n",
              "      \n",
              "  <style>\n",
              "    .colab-df-container {\n",
              "      display:flex;\n",
              "      flex-wrap:wrap;\n",
              "      gap: 12px;\n",
              "    }\n",
              "\n",
              "    .colab-df-convert {\n",
              "      background-color: #E8F0FE;\n",
              "      border: none;\n",
              "      border-radius: 50%;\n",
              "      cursor: pointer;\n",
              "      display: none;\n",
              "      fill: #1967D2;\n",
              "      height: 32px;\n",
              "      padding: 0 0 0 0;\n",
              "      width: 32px;\n",
              "    }\n",
              "\n",
              "    .colab-df-convert:hover {\n",
              "      background-color: #E2EBFA;\n",
              "      box-shadow: 0px 1px 2px rgba(60, 64, 67, 0.3), 0px 1px 3px 1px rgba(60, 64, 67, 0.15);\n",
              "      fill: #174EA6;\n",
              "    }\n",
              "\n",
              "    [theme=dark] .colab-df-convert {\n",
              "      background-color: #3B4455;\n",
              "      fill: #D2E3FC;\n",
              "    }\n",
              "\n",
              "    [theme=dark] .colab-df-convert:hover {\n",
              "      background-color: #434B5C;\n",
              "      box-shadow: 0px 1px 3px 1px rgba(0, 0, 0, 0.15);\n",
              "      filter: drop-shadow(0px 1px 2px rgba(0, 0, 0, 0.3));\n",
              "      fill: #FFFFFF;\n",
              "    }\n",
              "  </style>\n",
              "\n",
              "      <script>\n",
              "        const buttonEl =\n",
              "          document.querySelector('#df-bbad9085-1536-4a84-80bc-74015d77e35a button.colab-df-convert');\n",
              "        buttonEl.style.display =\n",
              "          google.colab.kernel.accessAllowed ? 'block' : 'none';\n",
              "\n",
              "        async function convertToInteractive(key) {\n",
              "          const element = document.querySelector('#df-bbad9085-1536-4a84-80bc-74015d77e35a');\n",
              "          const dataTable =\n",
              "            await google.colab.kernel.invokeFunction('convertToInteractive',\n",
              "                                                     [key], {});\n",
              "          if (!dataTable) return;\n",
              "\n",
              "          const docLinkHtml = 'Like what you see? Visit the ' +\n",
              "            '<a target=\"_blank\" href=https://colab.research.google.com/notebooks/data_table.ipynb>data table notebook</a>'\n",
              "            + ' to learn more about interactive tables.';\n",
              "          element.innerHTML = '';\n",
              "          dataTable['output_type'] = 'display_data';\n",
              "          await google.colab.output.renderOutput(dataTable, element);\n",
              "          const docLink = document.createElement('div');\n",
              "          docLink.innerHTML = docLinkHtml;\n",
              "          element.appendChild(docLink);\n",
              "        }\n",
              "      </script>\n",
              "    </div>\n",
              "  </div>\n",
              "  "
            ]
          },
          "metadata": {},
          "execution_count": 5
        }
      ]
    },
    {
      "cell_type": "code",
      "source": [
        "url_imp = \"https://raw.githubusercontent.com/Tom-Jung/legendary-funicular/main/Import_3_secs.csv\"   # 수입거래표\n",
        "Imp = pd.read_csv(url_imp)"
      ],
      "metadata": {
        "id": "0piOpTEytvGw"
      },
      "execution_count": 6,
      "outputs": []
    },
    {
      "cell_type": "code",
      "source": [
        "Imp  # 수입거래표 불러오기 확인"
      ],
      "metadata": {
        "id": "K3VHa2z8tvJv",
        "outputId": "bab596dc-3913-4eda-f2be-346766f10ccb",
        "colab": {
          "base_uri": "https://localhost:8080/",
          "height": 175
        }
      },
      "execution_count": 7,
      "outputs": [
        {
          "output_type": "execute_result",
          "data": {
            "text/plain": [
              "      부문  농산품  공산품  서비스  중간수요계  소비  투자  수출  최종수요계  총수요계\n",
              "0    농산품    1    7    3     11   2   1   0      3    14\n",
              "1    공산품    1   33   10     44   6   6   3     15    59\n",
              "2    서비스    1    2    6      9   2   1   0      3    12\n",
              "3  중간투입계    3   42   19     64  10   8   3     21    85"
            ],
            "text/html": [
              "\n",
              "  <div id=\"df-264f2d3a-41b5-4c05-b0d7-d6882719371e\">\n",
              "    <div class=\"colab-df-container\">\n",
              "      <div>\n",
              "<style scoped>\n",
              "    .dataframe tbody tr th:only-of-type {\n",
              "        vertical-align: middle;\n",
              "    }\n",
              "\n",
              "    .dataframe tbody tr th {\n",
              "        vertical-align: top;\n",
              "    }\n",
              "\n",
              "    .dataframe thead th {\n",
              "        text-align: right;\n",
              "    }\n",
              "</style>\n",
              "<table border=\"1\" class=\"dataframe\">\n",
              "  <thead>\n",
              "    <tr style=\"text-align: right;\">\n",
              "      <th></th>\n",
              "      <th>부문</th>\n",
              "      <th>농산품</th>\n",
              "      <th>공산품</th>\n",
              "      <th>서비스</th>\n",
              "      <th>중간수요계</th>\n",
              "      <th>소비</th>\n",
              "      <th>투자</th>\n",
              "      <th>수출</th>\n",
              "      <th>최종수요계</th>\n",
              "      <th>총수요계</th>\n",
              "    </tr>\n",
              "  </thead>\n",
              "  <tbody>\n",
              "    <tr>\n",
              "      <th>0</th>\n",
              "      <td>농산품</td>\n",
              "      <td>1</td>\n",
              "      <td>7</td>\n",
              "      <td>3</td>\n",
              "      <td>11</td>\n",
              "      <td>2</td>\n",
              "      <td>1</td>\n",
              "      <td>0</td>\n",
              "      <td>3</td>\n",
              "      <td>14</td>\n",
              "    </tr>\n",
              "    <tr>\n",
              "      <th>1</th>\n",
              "      <td>공산품</td>\n",
              "      <td>1</td>\n",
              "      <td>33</td>\n",
              "      <td>10</td>\n",
              "      <td>44</td>\n",
              "      <td>6</td>\n",
              "      <td>6</td>\n",
              "      <td>3</td>\n",
              "      <td>15</td>\n",
              "      <td>59</td>\n",
              "    </tr>\n",
              "    <tr>\n",
              "      <th>2</th>\n",
              "      <td>서비스</td>\n",
              "      <td>1</td>\n",
              "      <td>2</td>\n",
              "      <td>6</td>\n",
              "      <td>9</td>\n",
              "      <td>2</td>\n",
              "      <td>1</td>\n",
              "      <td>0</td>\n",
              "      <td>3</td>\n",
              "      <td>12</td>\n",
              "    </tr>\n",
              "    <tr>\n",
              "      <th>3</th>\n",
              "      <td>중간투입계</td>\n",
              "      <td>3</td>\n",
              "      <td>42</td>\n",
              "      <td>19</td>\n",
              "      <td>64</td>\n",
              "      <td>10</td>\n",
              "      <td>8</td>\n",
              "      <td>3</td>\n",
              "      <td>21</td>\n",
              "      <td>85</td>\n",
              "    </tr>\n",
              "  </tbody>\n",
              "</table>\n",
              "</div>\n",
              "      <button class=\"colab-df-convert\" onclick=\"convertToInteractive('df-264f2d3a-41b5-4c05-b0d7-d6882719371e')\"\n",
              "              title=\"Convert this dataframe to an interactive table.\"\n",
              "              style=\"display:none;\">\n",
              "        \n",
              "  <svg xmlns=\"http://www.w3.org/2000/svg\" height=\"24px\"viewBox=\"0 0 24 24\"\n",
              "       width=\"24px\">\n",
              "    <path d=\"M0 0h24v24H0V0z\" fill=\"none\"/>\n",
              "    <path d=\"M18.56 5.44l.94 2.06.94-2.06 2.06-.94-2.06-.94-.94-2.06-.94 2.06-2.06.94zm-11 1L8.5 8.5l.94-2.06 2.06-.94-2.06-.94L8.5 2.5l-.94 2.06-2.06.94zm10 10l.94 2.06.94-2.06 2.06-.94-2.06-.94-.94-2.06-.94 2.06-2.06.94z\"/><path d=\"M17.41 7.96l-1.37-1.37c-.4-.4-.92-.59-1.43-.59-.52 0-1.04.2-1.43.59L10.3 9.45l-7.72 7.72c-.78.78-.78 2.05 0 2.83L4 21.41c.39.39.9.59 1.41.59.51 0 1.02-.2 1.41-.59l7.78-7.78 2.81-2.81c.8-.78.8-2.07 0-2.86zM5.41 20L4 18.59l7.72-7.72 1.47 1.35L5.41 20z\"/>\n",
              "  </svg>\n",
              "      </button>\n",
              "      \n",
              "  <style>\n",
              "    .colab-df-container {\n",
              "      display:flex;\n",
              "      flex-wrap:wrap;\n",
              "      gap: 12px;\n",
              "    }\n",
              "\n",
              "    .colab-df-convert {\n",
              "      background-color: #E8F0FE;\n",
              "      border: none;\n",
              "      border-radius: 50%;\n",
              "      cursor: pointer;\n",
              "      display: none;\n",
              "      fill: #1967D2;\n",
              "      height: 32px;\n",
              "      padding: 0 0 0 0;\n",
              "      width: 32px;\n",
              "    }\n",
              "\n",
              "    .colab-df-convert:hover {\n",
              "      background-color: #E2EBFA;\n",
              "      box-shadow: 0px 1px 2px rgba(60, 64, 67, 0.3), 0px 1px 3px 1px rgba(60, 64, 67, 0.15);\n",
              "      fill: #174EA6;\n",
              "    }\n",
              "\n",
              "    [theme=dark] .colab-df-convert {\n",
              "      background-color: #3B4455;\n",
              "      fill: #D2E3FC;\n",
              "    }\n",
              "\n",
              "    [theme=dark] .colab-df-convert:hover {\n",
              "      background-color: #434B5C;\n",
              "      box-shadow: 0px 1px 3px 1px rgba(0, 0, 0, 0.15);\n",
              "      filter: drop-shadow(0px 1px 2px rgba(0, 0, 0, 0.3));\n",
              "      fill: #FFFFFF;\n",
              "    }\n",
              "  </style>\n",
              "\n",
              "      <script>\n",
              "        const buttonEl =\n",
              "          document.querySelector('#df-264f2d3a-41b5-4c05-b0d7-d6882719371e button.colab-df-convert');\n",
              "        buttonEl.style.display =\n",
              "          google.colab.kernel.accessAllowed ? 'block' : 'none';\n",
              "\n",
              "        async function convertToInteractive(key) {\n",
              "          const element = document.querySelector('#df-264f2d3a-41b5-4c05-b0d7-d6882719371e');\n",
              "          const dataTable =\n",
              "            await google.colab.kernel.invokeFunction('convertToInteractive',\n",
              "                                                     [key], {});\n",
              "          if (!dataTable) return;\n",
              "\n",
              "          const docLinkHtml = 'Like what you see? Visit the ' +\n",
              "            '<a target=\"_blank\" href=https://colab.research.google.com/notebooks/data_table.ipynb>data table notebook</a>'\n",
              "            + ' to learn more about interactive tables.';\n",
              "          element.innerHTML = '';\n",
              "          dataTable['output_type'] = 'display_data';\n",
              "          await google.colab.output.renderOutput(dataTable, element);\n",
              "          const docLink = document.createElement('div');\n",
              "          docLink.innerHTML = docLinkHtml;\n",
              "          element.appendChild(docLink);\n",
              "        }\n",
              "      </script>\n",
              "    </div>\n",
              "  </div>\n",
              "  "
            ]
          },
          "metadata": {},
          "execution_count": 7
        }
      ]
    },
    {
      "cell_type": "markdown",
      "source": [],
      "metadata": {
        "id": "pGaGz_KvGW1M"
      }
    },
    {
      "cell_type": "markdown",
      "source": [
        "#### 산업구조_부가가치 및 산출액 비중 구하기"
      ],
      "metadata": {
        "id": "Jz2c6mWiGW5v"
      }
    },
    {
      "cell_type": "markdown",
      "source": [
        "###### pandas의 DataFrame을 numpy로 불러오기"
      ],
      "metadata": {
        "id": "vi5mrufWHBLq"
      }
    },
    {
      "cell_type": "markdown",
      "source": [
        "### DataFrame을 Numpy로 읽어오고 숫자만으로 행렬을 만들고 차원 등 제대로 읽어 왔는지 체크\n",
        "\n"
      ],
      "metadata": {
        "id": "x-a_G73J-ARG"
      }
    },
    {
      "cell_type": "code",
      "source": [
        "Tt = Tot.to_numpy()  # numpy로 불러오기\n",
        "Dt = Dom.to_numpy()\n",
        "It = Imp.to_numpy()"
      ],
      "metadata": {
        "id": "Hb3EasrIAz9H"
      },
      "execution_count": 8,
      "outputs": []
    },
    {
      "cell_type": "code",
      "source": [
        "va = Tt[-2,1:4]  # 산업별 부가가치\n",
        "ct = Tt[-1,1:4]  # 산업별 산출액"
      ],
      "metadata": {
        "id": "GrqwxwU44DMl"
      },
      "execution_count": 9,
      "outputs": []
    },
    {
      "cell_type": "code",
      "source": [
        "va_wgt = (va/va.sum()).reshape([3,1])  # 부가가치 기준 각 산업의 비중\n",
        "ct_wgt = (ct/ct.sum()).reshape([3,1])  # 산출액 기준 각 산업의 비중\n",
        "\n",
        "wgt_mx = np.concatenate((va_wgt, ct_wgt), axis=1)\n",
        "print(wgt_mx)"
      ],
      "metadata": {
        "id": "IGYFJf_fAz6J",
        "colab": {
          "base_uri": "https://localhost:8080/"
        },
        "outputId": "a326c747-98ff-41ea-b0a2-9662e55514f3"
      },
      "execution_count": 10,
      "outputs": [
        {
          "output_type": "stream",
          "name": "stdout",
          "text": [
            "[[0.023255813953488372 0.03036876355748373]\n",
            " [0.3116279069767442 0.4403470715835141]\n",
            " [0.6651162790697674 0.5292841648590022]]\n"
          ]
        }
      ]
    },
    {
      "cell_type": "markdown",
      "source": [
        "#### 투입구조"
      ],
      "metadata": {
        "id": "32UjG6dfMUrW"
      }
    },
    {
      "cell_type": "code",
      "source": [
        "Tt_itr = Tt[-3,1:5] # 총거래표의 각 산업별 및 총산업의 중간투입계\n",
        "Dt_itr = Dt[-1,1:5] # 국산거래표의 각 산업별 및 총산업의 중간투입계\n",
        "It_itr = It[-1,1:5] # 수입거래표의 각 산업별 및 총산업의 중간투입계\n",
        "Ct_itr = Tt[-1,1:5] # 각 산업별 및 총산업의 산출액\n",
        "\n",
        "print(Tt_itr)\n",
        "print(Dt_itr)\n",
        "print(It_itr)\n",
        "print(Ct_itr)"
      ],
      "metadata": {
        "colab": {
          "base_uri": "https://localhost:8080/"
        },
        "id": "D77j-HNjIKj9",
        "outputId": "01c227ca-fd26-48d3-81dc-b7430d4d76c1"
      },
      "execution_count": 11,
      "outputs": [
        {
          "output_type": "stream",
          "name": "stdout",
          "text": [
            "[9 136 101 246]\n",
            "[6 94 82 182]\n",
            "[3 42 19 64]\n",
            "[14 203 244 461]\n"
          ]
        }
      ]
    },
    {
      "cell_type": "code",
      "source": [
        "Tt_itr_ratio = (Tt_itr/Ct_itr).reshape([4,1]) # 총투입계수\n",
        "Dt_itr_ratio = (Dt_itr/Ct_itr).reshape([4,1]) # 국산투입계수\n",
        "It_itr_ratio = (It_itr/Ct_itr).reshape([4,1]) # 수입투입계수\n",
        "\n",
        "itr_ratio = np.concatenate((Tt_itr_ratio, Dt_itr_ratio, It_itr_ratio), axis=1)  # 총, 국산, 수입투입계수\n",
        "itr_ratio"
      ],
      "metadata": {
        "colab": {
          "base_uri": "https://localhost:8080/"
        },
        "id": "Dl7lil2JPogq",
        "outputId": "ad6c697a-643e-4f73-c381-f32c9a4b5470"
      },
      "execution_count": 12,
      "outputs": [
        {
          "output_type": "execute_result",
          "data": {
            "text/plain": [
              "array([[0.6428571428571429, 0.42857142857142855, 0.21428571428571427],\n",
              "       [0.6699507389162561, 0.4630541871921182, 0.20689655172413793],\n",
              "       [0.4139344262295082, 0.3360655737704918, 0.0778688524590164],\n",
              "       [0.5336225596529284, 0.3947939262472885, 0.13882863340563992]],\n",
              "      dtype=object)"
            ]
          },
          "metadata": {},
          "execution_count": 12
        }
      ]
    },
    {
      "cell_type": "code",
      "source": [
        "Dt_dm_itr = (Dt_itr/Tt_itr).reshape([4,1])  # 각 산업별, 총산업의 국산화율\n",
        "Dt_dm_itr"
      ],
      "metadata": {
        "colab": {
          "base_uri": "https://localhost:8080/"
        },
        "id": "0Xi-6MnGPo6v",
        "outputId": "69613d78-6a79-435c-e680-91ece473b770"
      },
      "execution_count": 13,
      "outputs": [
        {
          "output_type": "execute_result",
          "data": {
            "text/plain": [
              "array([[0.6666666666666666],\n",
              "       [0.6911764705882353],\n",
              "       [0.8118811881188119],\n",
              "       [0.7398373983739838]], dtype=object)"
            ]
          },
          "metadata": {},
          "execution_count": 13
        }
      ]
    },
    {
      "cell_type": "code",
      "source": [
        "va_ratio = (Tt[-2,1:5]/Tt[-1,1:5]).reshape([4,1])  # 부가가치율 = 부가가치(3산업과 총부가가치)/산출액(3산업과 총산출액)\n",
        "va_ratio"
      ],
      "metadata": {
        "colab": {
          "base_uri": "https://localhost:8080/"
        },
        "id": "UlVNRugMPpQU",
        "outputId": "c44da87d-2707-4b91-a008-18ee23647292"
      },
      "execution_count": 14,
      "outputs": [
        {
          "output_type": "execute_result",
          "data": {
            "text/plain": [
              "array([[0.35714285714285715],\n",
              "       [0.33004926108374383],\n",
              "       [0.5860655737704918],\n",
              "       [0.46637744034707157]], dtype=object)"
            ]
          },
          "metadata": {},
          "execution_count": 14
        }
      ]
    },
    {
      "cell_type": "code",
      "source": [
        "#중간투입, 국산화율 및 부가가치율을 열방향으로 부치기\n",
        "input_str = np.concatenate((itr_ratio, Dt_dm_itr, va_ratio), axis=1)\n",
        "input_str"
      ],
      "metadata": {
        "colab": {
          "base_uri": "https://localhost:8080/"
        },
        "id": "lECvmd0wPpnQ",
        "outputId": "d81e1407-1b84-4e71-eea1-1b7b719e882b"
      },
      "execution_count": 15,
      "outputs": [
        {
          "output_type": "execute_result",
          "data": {
            "text/plain": [
              "array([[0.6428571428571429, 0.42857142857142855, 0.21428571428571427,\n",
              "        0.6666666666666666, 0.35714285714285715],\n",
              "       [0.6699507389162561, 0.4630541871921182, 0.20689655172413793,\n",
              "        0.6911764705882353, 0.33004926108374383],\n",
              "       [0.4139344262295082, 0.3360655737704918, 0.0778688524590164,\n",
              "        0.8118811881188119, 0.5860655737704918],\n",
              "       [0.5336225596529284, 0.3947939262472885, 0.13882863340563992,\n",
              "        0.7398373983739838, 0.46637744034707157]], dtype=object)"
            ]
          },
          "metadata": {},
          "execution_count": 15
        }
      ]
    },
    {
      "cell_type": "markdown",
      "source": [
        "#### 배분구조"
      ],
      "metadata": {
        "id": "C6KfGPX5g9TI"
      }
    },
    {
      "cell_type": "code",
      "source": [
        "Tot_sup =Tt[0:4,-1]  # 총공급(산출액+수입)\n",
        "Dom_ct =Dt[0:4,-1]  # 산출액\n",
        "Imp_tot=It[0:4,-1]   # 총수입\n",
        "\n",
        "Tt_itd = Tt[0:4,4] # 총거래표의 각 산업별 및 총산업의 중간수요계\n",
        "Dt_itd = Dt[0:4,4] # 국산거래표의 각 산업별 및 총산업의 중간수요계\n",
        "It_itd = It[0:4,4] # 수입거래표의 각 산업별 및 총산업의 중간수요계\n",
        "\n",
        "Tot_dmd = Tt[0:4,-4] # 각 제품별 및 전품목 총수요계\n",
        "Fd =Tt[0:4,-5]\n",
        "Exp = Tt[0:4,-6]  # 각 제품별 및 전품목 수출\n",
        "\n",
        "print(Tot_sup)\n",
        "print(Dom_ct)\n",
        "print(Imp_tot)\n",
        "\n",
        "print(Tt_itd)\n",
        "print(Dt_itd)\n",
        "print(It_itd)\n",
        "\n",
        "print(Tot_dmd)\n",
        "print(Fd)\n",
        "print(Exp)"
      ],
      "metadata": {
        "id": "IWpo8RCb6EsB",
        "colab": {
          "base_uri": "https://localhost:8080/"
        },
        "outputId": "52f2408d-eba2-4f32-9cff-c245cff10ccf"
      },
      "execution_count": 16,
      "outputs": [
        {
          "output_type": "stream",
          "name": "stdout",
          "text": [
            "[28 262 256 546]\n",
            "[14 203 244 461]\n",
            "[14 59 12 85]\n",
            "[20 138 88 246]\n",
            "[9 94 79 182]\n",
            "[11 44 9 64]\n",
            "[28 262 256 546]\n",
            "[8 124 168 300]\n",
            "[2 73 15 90]\n"
          ]
        }
      ]
    },
    {
      "cell_type": "code",
      "source": [
        "Itd_r = (Tt_itd/Tot_dmd).reshape([4,1]) # 중간수요율 = 중간수요계/총수요\n",
        "ftd_r = (Fd/Tot_dmd).reshape([4,1]) # 최종수요율 = 최종수요계/총수요\n",
        "Exp_r = (Exp/Dom_ct).reshape([4,1]) # 수출률 = 수출/총산출액\n",
        "Imp_r = (Imp_tot/Tot_sup).reshape([4,1])\n",
        "\n",
        "print(Itd_r)\n",
        "print(ftd_r)\n",
        "print(Exp_r)\n",
        "print(Imp_r)"
      ],
      "metadata": {
        "id": "lcVwawkrPi5t",
        "colab": {
          "base_uri": "https://localhost:8080/"
        },
        "outputId": "cc350dce-6fdf-4b04-e68b-b6a6c5d7870f"
      },
      "execution_count": 17,
      "outputs": [
        {
          "output_type": "stream",
          "name": "stdout",
          "text": [
            "[[0.7142857142857143]\n",
            " [0.5267175572519084]\n",
            " [0.34375]\n",
            " [0.45054945054945056]]\n",
            "[[0.2857142857142857]\n",
            " [0.4732824427480916]\n",
            " [0.65625]\n",
            " [0.5494505494505495]]\n",
            "[[0.14285714285714285]\n",
            " [0.35960591133004927]\n",
            " [0.06147540983606557]\n",
            " [0.19522776572668113]]\n",
            "[[0.5]\n",
            " [0.22519083969465647]\n",
            " [0.046875]\n",
            " [0.15567765567765568]]\n"
          ]
        }
      ]
    },
    {
      "cell_type": "code",
      "source": [
        "# 중간수요율, 최종수요율, 수출률 및 수입비율 열방향으로 부치기\n",
        "\n",
        "dst_str = np.concatenate((Itd_r, ftd_r, Exp_r, Imp_r), axis=1)\n",
        "print(dst_str)"
      ],
      "metadata": {
        "id": "goO-V0B5PjRD",
        "colab": {
          "base_uri": "https://localhost:8080/"
        },
        "outputId": "7b698eed-707d-4d49-89ed-fd66ebe91ff7"
      },
      "execution_count": 18,
      "outputs": [
        {
          "output_type": "stream",
          "name": "stdout",
          "text": [
            "[[0.7142857142857143 0.2857142857142857 0.14285714285714285 0.5]\n",
            " [0.5267175572519084 0.4732824427480916 0.35960591133004927\n",
            "  0.22519083969465647]\n",
            " [0.34375 0.65625 0.06147540983606557 0.046875]\n",
            " [0.45054945054945056 0.5494505494505495 0.19522776572668113\n",
            "  0.15567765567765568]]\n"
          ]
        }
      ]
    },
    {
      "cell_type": "markdown",
      "source": [
        "## 부문통합하여 3부문 IO표 만들기\n",
        "\n",
        "### - 33부문의 IO표를 3부문 IO표로 통합하기\n",
        "\n",
        "##### - 33부문을 크게 농수산품, 공산품 및 서비스로 통합하기 위하여 행렬 곱을 사용\n",
        "##### - 0과 1로 구성된 행렬을 만드는데 각 행은 새로운 표의 부문을 나타내며 각 열은 33부문의 부문을 나타낸다"
      ],
      "metadata": {
        "id": "0D8ZcdAxwoNP"
      }
    },
    {
      "cell_type": "code",
      "source": [
        "code = np.array([[1,0,0,0,0,0,0,0,0,0,0,0,0,0,0,0,0,0,0,0,0,0,0,0,0,0,0,0,0,0,0,0,0],\n",
        "       [0,1,1,1,1,1,1,1,1,1,1,1,1,1,1,1,0,0,0,0,0,0,0,0,0,0,0,0,0,0,0,0,0],\n",
        "       [0,0,0,0,0,0,0,0,0,0,0,0,0,0,0,0,1,1,1,1,1,1,1,1,1,1,1,1,1,1,1,1,1]])\n",
        "code"
      ],
      "metadata": {
        "id": "l7x5rT73PkAm",
        "outputId": "d5f3f6e7-66b2-420a-8b52-e222c70fed80",
        "colab": {
          "base_uri": "https://localhost:8080/"
        }
      },
      "execution_count": 19,
      "outputs": [
        {
          "output_type": "execute_result",
          "data": {
            "text/plain": [
              "array([[1, 0, 0, 0, 0, 0, 0, 0, 0, 0, 0, 0, 0, 0, 0, 0, 0, 0, 0, 0, 0, 0,\n",
              "        0, 0, 0, 0, 0, 0, 0, 0, 0, 0, 0],\n",
              "       [0, 1, 1, 1, 1, 1, 1, 1, 1, 1, 1, 1, 1, 1, 1, 1, 0, 0, 0, 0, 0, 0,\n",
              "        0, 0, 0, 0, 0, 0, 0, 0, 0, 0, 0],\n",
              "       [0, 0, 0, 0, 0, 0, 0, 0, 0, 0, 0, 0, 0, 0, 0, 0, 1, 1, 1, 1, 1, 1,\n",
              "        1, 1, 1, 1, 1, 1, 1, 1, 1, 1, 1]])"
            ]
          },
          "metadata": {},
          "execution_count": 19
        }
      ]
    },
    {
      "cell_type": "code",
      "source": [
        "zzzz = pd.DataFrame(code)\n",
        "zzzz.to_csv('태스트_2.csv')"
      ],
      "metadata": {
        "id": "fH92zoxTHMX8"
      },
      "execution_count": 20,
      "outputs": []
    },
    {
      "cell_type": "code",
      "source": [
        "cdd = \"https://raw.githubusercontent.com/Tom-Jung/legendary-funicular/main/code.csv\"  # 코드매치 파일\n",
        "ccdd = pd.read_csv(cdd)\n",
        "cd_for_itr = ccdd.to_numpy().reshape(33,2)\n",
        "row = cd_for_itr[:,1]\n",
        "col = cd_for_itr[:,0]\n",
        "col"
      ],
      "metadata": {
        "colab": {
          "base_uri": "https://localhost:8080/"
        },
        "id": "oP6nV_p9zmF8",
        "outputId": "f699cb80-67aa-4364-b68a-ac08fa09930e"
      },
      "execution_count": 21,
      "outputs": [
        {
          "output_type": "execute_result",
          "data": {
            "text/plain": [
              "array([ 1,  2,  3,  4,  5,  6,  7,  8,  9, 10, 11, 12, 13, 14, 15, 16, 17,\n",
              "       18, 19, 20, 21, 22, 23, 24, 25, 26, 27, 28, 29, 30, 31, 32, 33])"
            ]
          },
          "metadata": {},
          "execution_count": 21
        }
      ]
    },
    {
      "cell_type": "code",
      "source": [
        "Mtx = np.zeros((3,33))\n",
        "for i, j in zip(row,col):\n",
        "  Mtx[i-1,j-1] = 1\n",
        "print(Mtx)"
      ],
      "metadata": {
        "colab": {
          "base_uri": "https://localhost:8080/"
        },
        "id": "_MHOu9HrCI_V",
        "outputId": "f0e9a619-e908-44ab-d368-47e82e1c794a"
      },
      "execution_count": 22,
      "outputs": [
        {
          "output_type": "stream",
          "name": "stdout",
          "text": [
            "[[1. 0. 0. 0. 0. 0. 0. 0. 0. 0. 0. 0. 0. 0. 0. 0. 0. 0. 0. 0. 0. 0. 0. 0.\n",
            "  0. 0. 0. 0. 0. 0. 0. 0. 0.]\n",
            " [0. 1. 1. 1. 1. 1. 1. 1. 1. 1. 1. 1. 1. 1. 1. 1. 0. 0. 0. 0. 0. 0. 0. 0.\n",
            "  0. 0. 0. 0. 0. 0. 0. 0. 0.]\n",
            " [0. 0. 0. 0. 0. 0. 0. 0. 0. 0. 0. 0. 0. 0. 0. 0. 1. 1. 1. 1. 1. 1. 1. 1.\n",
            "  1. 1. 1. 1. 1. 1. 1. 1. 1.]]\n"
          ]
        }
      ]
    },
    {
      "cell_type": "code",
      "source": [
        "test_m = pd.DataFrame(Mtx)\n",
        "test_m\n",
        "test_m.to_csv('태스트1.csv')\n"
      ],
      "metadata": {
        "id": "RqlJHZedzmLS"
      },
      "execution_count": 23,
      "outputs": []
    },
    {
      "cell_type": "code",
      "source": [],
      "metadata": {
        "id": "zAueWMSkzmTn"
      },
      "execution_count": 23,
      "outputs": []
    },
    {
      "cell_type": "code",
      "source": [],
      "metadata": {
        "id": "UnNEEPBvzmYZ"
      },
      "execution_count": 23,
      "outputs": []
    },
    {
      "cell_type": "code",
      "source": [],
      "metadata": {
        "id": "3MwT6_xOzmbm"
      },
      "execution_count": 23,
      "outputs": []
    },
    {
      "cell_type": "code",
      "source": [],
      "metadata": {
        "id": "GnekHReSzmfO"
      },
      "execution_count": 23,
      "outputs": []
    },
    {
      "cell_type": "code",
      "source": [
        "url_Tt_33 = \"https://raw.githubusercontent.com/Tom-Jung/legendary-funicular/main/Total_M_F.csv\"  # 33부문의 총거래표 불러오기\n",
        "Tt_33 = pd.read_csv(url_Tt_33)"
      ],
      "metadata": {
        "id": "2gsn6uHUPkdI"
      },
      "execution_count": 24,
      "outputs": []
    },
    {
      "cell_type": "code",
      "source": [
        "Ttt_33 = Tt_33.to_numpy()\n",
        "Tot_33 = Ttt_33[0:41,1:53].astype(float)"
      ],
      "metadata": {
        "id": "WedAqacOyjgz"
      },
      "execution_count": 25,
      "outputs": []
    },
    {
      "cell_type": "code",
      "source": [
        "nae_tot_row = code@Tot_33[0:33,0:33] # 중간투입(수요)의 행을 3부문으로 만들기\n",
        "nae_tot_row"
      ],
      "metadata": {
        "id": "kAEEg8WmPkvm",
        "outputId": "8569975d-dc94-41b3-d6f2-8925dcf8f936",
        "colab": {
          "base_uri": "https://localhost:8080/"
        }
      },
      "execution_count": 26,
      "outputs": [
        {
          "output_type": "execute_result",
          "data": {
            "text/plain": [
              "array([[2.86200e+03, 5.00000e+00, 3.15260e+04, 6.48000e+02, 8.63000e+02,\n",
              "        6.00000e+00, 9.80000e+02, 7.00000e+00, 1.50000e+01, 1.50000e+01,\n",
              "        1.80000e+01, 6.00000e+00, 1.80000e+01, 1.30000e+01, 3.20000e+01,\n",
              "        4.75000e+02, 5.00000e+00, 7.00000e+00, 4.46000e+02, 1.03000e+02,\n",
              "        2.50000e+01, 8.17300e+03, 3.20000e+01, 4.70000e+01, 9.00000e+00,\n",
              "        1.36000e+02, 1.80000e+01, 2.72000e+02, 9.80000e+01, 1.02700e+03,\n",
              "        1.48000e+02, 7.40000e+01, 2.70000e+01],\n",
              "       [1.57650e+04, 5.68000e+02, 3.11770e+04, 4.32580e+04, 1.73850e+04,\n",
              "        5.78600e+04, 1.15528e+05, 1.50140e+04, 6.44060e+04, 4.41850e+04,\n",
              "        1.35069e+05, 4.71820e+04, 6.31260e+04, 1.53704e+05, 9.30700e+03,\n",
              "        1.71490e+04, 3.50850e+04, 2.47100e+03, 7.87430e+04, 1.58360e+04,\n",
              "        3.26420e+04, 4.20060e+04, 9.51700e+03, 4.04300e+03, 2.37100e+03,\n",
              "        2.21840e+04, 5.20800e+03, 6.53600e+03, 7.90000e+03, 2.63440e+04,\n",
              "        5.25700e+03, 1.46540e+04, 6.43000e+02],\n",
              "       [6.46800e+03, 1.20800e+03, 1.85860e+04, 1.24570e+04, 7.95400e+03,\n",
              "        7.91800e+03, 3.75180e+04, 9.22200e+03, 2.31890e+04, 1.31270e+04,\n",
              "        3.04060e+04, 1.17810e+04, 1.52570e+04, 3.16430e+04, 3.56800e+03,\n",
              "        1.01840e+04, 1.60530e+04, 5.53200e+03, 3.68860e+04, 8.43150e+04,\n",
              "        4.36120e+04, 2.68870e+04, 4.59770e+04, 5.36750e+04, 3.79690e+04,\n",
              "        5.93290e+04, 1.53140e+04, 1.80720e+04, 2.40830e+04, 2.29010e+04,\n",
              "        1.07380e+04, 1.22000e+04, 2.75300e+03]])"
            ]
          },
          "metadata": {},
          "execution_count": 26
        }
      ]
    },
    {
      "cell_type": "code",
      "source": [
        "nae_tot_row.shape  # 행과 열의 개수 확인"
      ],
      "metadata": {
        "id": "xn5tPGW1PlG2",
        "outputId": "011c56fd-6192-47f7-e3ef-7bd276433d9c",
        "colab": {
          "base_uri": "https://localhost:8080/"
        }
      },
      "execution_count": 27,
      "outputs": [
        {
          "output_type": "execute_result",
          "data": {
            "text/plain": [
              "(3, 33)"
            ]
          },
          "metadata": {},
          "execution_count": 27
        }
      ]
    },
    {
      "cell_type": "code",
      "source": [
        "nae_tot_col = nae_tot_row@code.T\n",
        "nae_tot_col"
      ],
      "metadata": {
        "id": "3cc2Kx580Rj3",
        "outputId": "97b52116-a39d-4cca-ff18-f805b04b82fa",
        "colab": {
          "base_uri": "https://localhost:8080/"
        }
      },
      "execution_count": 28,
      "outputs": [
        {
          "output_type": "execute_result",
          "data": {
            "text/plain": [
              "array([[  2862.,  34627.,  10647.],\n",
              "       [ 15765., 814918., 311440.],\n",
              "       [  6468., 234018., 516296.]])"
            ]
          },
          "metadata": {},
          "execution_count": 28
        }
      ]
    },
    {
      "cell_type": "code",
      "source": [
        "ztest_nae_tot_col = nae_tot_row@Mtx.T\n",
        "ztest_nae_tot_col"
      ],
      "metadata": {
        "id": "RJjjBcKEJnft",
        "outputId": "3c84f741-2367-4b02-f441-df0804e871b4",
        "colab": {
          "base_uri": "https://localhost:8080/"
        }
      },
      "execution_count": 29,
      "outputs": [
        {
          "output_type": "execute_result",
          "data": {
            "text/plain": [
              "array([[  2862.,  34627.,  10647.],\n",
              "       [ 15765., 814918., 311440.],\n",
              "       [  6468., 234018., 516296.]])"
            ]
          },
          "metadata": {},
          "execution_count": 29
        }
      ]
    },
    {
      "cell_type": "code",
      "source": [
        "nae_tot_col.shape  # 행과 열의 개수 확인"
      ],
      "metadata": {
        "id": "weuK7Yxt0Rt_",
        "outputId": "9a913ca1-98e4-4ce5-c024-08c6b673d1e8",
        "colab": {
          "base_uri": "https://localhost:8080/"
        }
      },
      "execution_count": 30,
      "outputs": [
        {
          "output_type": "execute_result",
          "data": {
            "text/plain": [
              "(3, 3)"
            ]
          },
          "metadata": {},
          "execution_count": 30
        }
      ]
    },
    {
      "cell_type": "code",
      "source": [
        "nae_tot_col.sum()"
      ],
      "metadata": {
        "id": "44XALcRD0R3b",
        "outputId": "7d5707eb-43da-49a8-f0f2-80d2c8c7a96d",
        "colab": {
          "base_uri": "https://localhost:8080/"
        }
      },
      "execution_count": 31,
      "outputs": [
        {
          "output_type": "execute_result",
          "data": {
            "text/plain": [
              "1947041.0"
            ]
          },
          "metadata": {},
          "execution_count": 31
        }
      ]
    },
    {
      "cell_type": "code",
      "source": [
        "va_row = Tot_33[33:40,0:33]@code.T # 중투합, 피용자보수, 영업잉여, 고정자본소모, 기타생산세, 부가가치계, 산출액(7X3)\n",
        "va_row"
      ],
      "metadata": {
        "id": "9r1910Rf0SBQ",
        "outputId": "8a7ece4a-9f6b-4464-bf01-9a5c37db57ad",
        "colab": {
          "base_uri": "https://localhost:8080/"
        }
      },
      "execution_count": 32,
      "outputs": [
        {
          "output_type": "execute_result",
          "data": {
            "text/plain": [
              "array([[2.509500e+04, 1.083563e+06, 8.383830e+05],\n",
              "       [4.719000e+03, 1.591330e+05, 5.113400e+05],\n",
              "       [2.024900e+04, 1.381430e+05, 2.509920e+05],\n",
              "       [4.346000e+03, 1.033380e+05, 1.710180e+05],\n",
              "       [5.490000e+02, 4.809200e+04, 7.385100e+04],\n",
              "       [2.986300e+04, 4.487060e+05, 1.007201e+06],\n",
              "       [5.495800e+04, 1.532269e+06, 1.845584e+06]])"
            ]
          },
          "metadata": {},
          "execution_count": 32
        }
      ]
    },
    {
      "cell_type": "code",
      "source": [
        "va_row.shape"
      ],
      "metadata": {
        "id": "cDZ1i__I1B6Z",
        "outputId": "7e264c2f-e1d8-459a-e1c3-4c5b3167b7f3",
        "colab": {
          "base_uri": "https://localhost:8080/"
        }
      },
      "execution_count": 33,
      "outputs": [
        {
          "output_type": "execute_result",
          "data": {
            "text/plain": [
              "(7, 3)"
            ]
          },
          "metadata": {},
          "execution_count": 33
        }
      ]
    },
    {
      "cell_type": "code",
      "source": [
        "fd_cd = np.array([[1,1,0,0,0,0,0,0,0],   # 최종수요를 통합하기 위한 0과 1로된 행렬\n",
        "                  [0,0,1,1,1,1,0,0,0],\n",
        "                  [0,0,0,0,0,0,1,0,0],\n",
        "                  [0,0,0,0,0,0,0,1,0],\n",
        "                  [0,0,0,0,0,0,0,0,1]])  "
      ],
      "metadata": {
        "id": "7IMx6Eay1CEs"
      },
      "execution_count": 34,
      "outputs": []
    },
    {
      "cell_type": "code",
      "source": [
        "fd = Tot_33[0:33, 34:45]\n",
        "fd"
      ],
      "metadata": {
        "id": "nEQ7KA0y1CQU",
        "outputId": "d13d8b77-7f10-41ba-d989-4d1bcaeb346e",
        "colab": {
          "base_uri": "https://localhost:8080/"
        }
      },
      "execution_count": 35,
      "outputs": [
        {
          "output_type": "execute_result",
          "data": {
            "text/plain": [
              "array([[ 1.51150e+04,  0.00000e+00,  3.83000e+02,  1.50000e+01,\n",
              "         1.08500e+03,  0.00000e+00,  6.15000e+02,  1.72130e+04,\n",
              "         6.53490e+04],\n",
              "       [ 1.20000e+01,  0.00000e+00,  0.00000e+00,  0.00000e+00,\n",
              "        -1.08000e+02,  0.00000e+00,  1.16000e+02,  2.00000e+01,\n",
              "         9.95890e+04],\n",
              "       [ 5.03660e+04,  0.00000e+00,  0.00000e+00,  0.00000e+00,\n",
              "         4.90000e+01,  0.00000e+00,  6.74200e+03,  5.71570e+04,\n",
              "         1.31760e+05],\n",
              "       [ 2.66300e+04,  0.00000e+00,  1.15000e+02,  1.50000e+01,\n",
              "         8.64000e+02,  0.00000e+00,  3.13520e+04,  5.89760e+04,\n",
              "         9.53080e+04],\n",
              "       [ 1.11300e+03,  0.00000e+00,  0.00000e+00,  0.00000e+00,\n",
              "         9.10000e+01,  0.00000e+00,  3.21800e+03,  4.42200e+03,\n",
              "         4.52510e+04],\n",
              "       [ 1.31450e+04,  0.00000e+00,  0.00000e+00,  0.00000e+00,\n",
              "         4.53000e+02,  0.00000e+00,  3.60580e+04,  4.96560e+04,\n",
              "         1.22457e+05],\n",
              "       [ 7.06700e+03,  0.00000e+00,  0.00000e+00,  0.00000e+00,\n",
              "        -5.53000e+02,  0.00000e+00,  7.41820e+04,  8.06960e+04,\n",
              "         2.73533e+05],\n",
              "       [ 2.08000e+02,  0.00000e+00,  0.00000e+00,  0.00000e+00,\n",
              "        -1.70000e+01,  0.00000e+00,  2.58700e+03,  2.77800e+03,\n",
              "         4.16980e+04],\n",
              "       [-4.99000e+02,  0.00000e+00, -2.19200e+03, -5.70000e+01,\n",
              "        -1.52100e+03,  1.80000e+02,  3.53860e+04,  3.12970e+04,\n",
              "         1.46345e+05],\n",
              "       [ 1.16000e+03,  0.00000e+00,  3.39200e+03,  2.16200e+03,\n",
              "         4.02000e+02,  0.00000e+00,  1.06480e+04,  1.77640e+04,\n",
              "         9.69290e+04],\n",
              "       [ 2.19820e+04,  0.00000e+00,  1.88510e+04,  2.55800e+03,\n",
              "         1.54700e+03,  0.00000e+00,  1.55967e+05,  2.00905e+05,\n",
              "         3.28314e+05],\n",
              "       [ 4.66400e+03,  0.00000e+00,  9.63000e+03,  1.81000e+02,\n",
              "         4.72000e+02,  0.00000e+00,  2.64880e+04,  4.14350e+04,\n",
              "         1.01458e+05],\n",
              "       [ 1.25100e+03,  0.00000e+00,  4.66480e+04,  3.70000e+02,\n",
              "         3.30000e+02,  0.00000e+00,  4.28970e+04,  9.14960e+04,\n",
              "         1.45110e+05],\n",
              "       [ 2.76810e+04,  0.00000e+00,  2.45600e+04,  6.29900e+03,\n",
              "         2.68100e+03,  0.00000e+00,  1.16106e+05,  1.77327e+05,\n",
              "         2.56535e+05],\n",
              "       [ 6.25400e+03,  0.00000e+00,  2.49700e+03,  2.42000e+02,\n",
              "         2.77000e+02,  1.19100e+03,  2.56300e+03,  1.30240e+04,\n",
              "         2.40840e+04],\n",
              "       [ 2.40000e+01,  0.00000e+00,  0.00000e+00,  0.00000e+00,\n",
              "         0.00000e+00,  0.00000e+00,  2.49700e+03,  2.52100e+03,\n",
              "         6.32260e+04],\n",
              "       [ 1.58980e+04,  0.00000e+00,  0.00000e+00,  0.00000e+00,\n",
              "         0.00000e+00,  0.00000e+00,  1.04000e+02,  1.60020e+04,\n",
              "         8.31850e+04],\n",
              "       [ 3.05900e+03,  1.04400e+03,  0.00000e+00,  0.00000e+00,\n",
              "         0.00000e+00,  0.00000e+00,  3.43000e+02,  4.44600e+03,\n",
              "         1.72270e+04],\n",
              "       [ 0.00000e+00,  0.00000e+00,  1.48566e+05,  4.26080e+04,\n",
              "        -1.27400e+03,  0.00000e+00,  1.48000e+02,  1.90048e+05,\n",
              "         2.00292e+05],\n",
              "       [ 7.07170e+04,  0.00000e+00,  9.90000e+03,  6.33000e+02,\n",
              "         1.09900e+03,  2.85000e+02,  2.16110e+04,  1.04245e+05,\n",
              "         2.24659e+05],\n",
              "       [ 2.29100e+04,  0.00000e+00,  2.16000e+02,  5.70000e+01,\n",
              "         7.30000e+01,  7.00000e+00,  3.39870e+04,  5.72500e+04,\n",
              "         1.46599e+05],\n",
              "       [ 7.36990e+04,  0.00000e+00,  0.00000e+00,  0.00000e+00,\n",
              "         0.00000e+00,  0.00000e+00,  6.30600e+03,  8.00050e+04,\n",
              "         1.29723e+05],\n",
              "       [ 2.90770e+04,  0.00000e+00,  2.51160e+04,  2.17000e+02,\n",
              "         1.80000e+01,  0.00000e+00,  4.95000e+03,  5.93780e+04,\n",
              "         1.26326e+05],\n",
              "       [ 5.86560e+04,  0.00000e+00,  0.00000e+00,  0.00000e+00,\n",
              "         0.00000e+00,  0.00000e+00,  2.56000e+03,  6.12160e+04,\n",
              "         1.43206e+05],\n",
              "       [ 1.02756e+05,  0.00000e+00,  2.32900e+04,  1.50000e+01,\n",
              "         0.00000e+00,  0.00000e+00,  3.85000e+02,  1.26446e+05,\n",
              "         1.73004e+05],\n",
              "       [ 2.81300e+03,  0.00000e+00,  5.27020e+04,  8.89200e+03,\n",
              "         0.00000e+00,  0.00000e+00,  1.42390e+04,  7.86460e+04,\n",
              "         1.87504e+05],\n",
              "       [ 3.47900e+03,  0.00000e+00,  0.00000e+00,  0.00000e+00,\n",
              "         0.00000e+00,  0.00000e+00,  7.86600e+03,  1.13450e+04,\n",
              "         8.02060e+04],\n",
              "       [ 1.21300e+03,  1.07307e+05,  0.00000e+00,  0.00000e+00,\n",
              "         0.00000e+00,  0.00000e+00,  3.40000e+01,  1.08554e+05,\n",
              "         1.10999e+05],\n",
              "       [ 5.00670e+04,  5.39850e+04,  0.00000e+00,  0.00000e+00,\n",
              "         0.00000e+00,  0.00000e+00,  1.53000e+02,  1.04205e+05,\n",
              "         1.06156e+05],\n",
              "       [ 4.11590e+04,  5.98870e+04,  0.00000e+00,  0.00000e+00,\n",
              "         0.00000e+00,  0.00000e+00,  3.32000e+02,  1.01378e+05,\n",
              "         1.07774e+05],\n",
              "       [ 2.98470e+04,  1.72200e+03,  4.27000e+02,  0.00000e+00,\n",
              "         0.00000e+00,  2.30000e+01,  9.29000e+02,  3.29480e+04,\n",
              "         3.98100e+04],\n",
              "       [ 3.59970e+04,  0.00000e+00,  0.00000e+00,  0.00000e+00,\n",
              "         0.00000e+00,  0.00000e+00,  5.48000e+02,  3.65450e+04,\n",
              "         4.90610e+04],\n",
              "       [-2.85000e+02,  0.00000e+00,  0.00000e+00,  0.00000e+00,\n",
              "         0.00000e+00,  0.00000e+00,  0.00000e+00, -2.85000e+02,\n",
              "         3.42300e+03]])"
            ]
          },
          "metadata": {},
          "execution_count": 35
        }
      ]
    },
    {
      "cell_type": "code",
      "source": [
        "fd_row=code@fd@fd_cd.T"
      ],
      "metadata": {
        "id": "Hu1RCGZN1Qgd"
      },
      "execution_count": 36,
      "outputs": []
    },
    {
      "cell_type": "code",
      "source": [
        "fd_row_sm = np.sum((fd_row), axis=0) # 최종수요의 행합"
      ],
      "metadata": {
        "id": "DoK2fPer1Qq0"
      },
      "execution_count": 37,
      "outputs": []
    },
    {
      "cell_type": "code",
      "source": [
        "fd_sm=fd_row_sm.reshape(1,5)"
      ],
      "metadata": {
        "id": "saQ_vhsr1Q17"
      },
      "execution_count": 38,
      "outputs": []
    },
    {
      "cell_type": "code",
      "source": [
        "nae_va_ct = np.concatenate((nae_tot_col, va_row)) # 중간투입(수요)와 부가가치 및 산출액 합치기\n",
        "nae_va_ct"
      ],
      "metadata": {
        "id": "mpmb9GsJ1CbA",
        "outputId": "e431065c-2aa7-4c1c-9492-d5269d215ffe",
        "colab": {
          "base_uri": "https://localhost:8080/"
        }
      },
      "execution_count": 39,
      "outputs": [
        {
          "output_type": "execute_result",
          "data": {
            "text/plain": [
              "array([[2.862000e+03, 3.462700e+04, 1.064700e+04],\n",
              "       [1.576500e+04, 8.149180e+05, 3.114400e+05],\n",
              "       [6.468000e+03, 2.340180e+05, 5.162960e+05],\n",
              "       [2.509500e+04, 1.083563e+06, 8.383830e+05],\n",
              "       [4.719000e+03, 1.591330e+05, 5.113400e+05],\n",
              "       [2.024900e+04, 1.381430e+05, 2.509920e+05],\n",
              "       [4.346000e+03, 1.033380e+05, 1.710180e+05],\n",
              "       [5.490000e+02, 4.809200e+04, 7.385100e+04],\n",
              "       [2.986300e+04, 4.487060e+05, 1.007201e+06],\n",
              "       [5.495800e+04, 1.532269e+06, 1.845584e+06]])"
            ]
          },
          "metadata": {},
          "execution_count": 39
        }
      ]
    },
    {
      "cell_type": "code",
      "source": [
        "nae_va_ct_sm = nae_va_ct.sum(axis=1).reshape(10,1)  # 부가가치 및 산출액의 열합"
      ],
      "metadata": {
        "id": "wt22KYsp1Ck8"
      },
      "execution_count": 40,
      "outputs": []
    },
    {
      "cell_type": "code",
      "source": [
        "nnull = np.zeros((6,5)) # 0행렬"
      ],
      "metadata": {
        "id": "iYARQC7L11Q2"
      },
      "execution_count": 41,
      "outputs": []
    },
    {
      "cell_type": "code",
      "source": [
        "fd_nnull = np.concatenate((fd_row, fd_sm, nnull),axis=0)  # 최종수요, 최종수요 행합 및 0행렬 합치기"
      ],
      "metadata": {
        "id": "YGFh506e11c0"
      },
      "execution_count": 42,
      "outputs": []
    },
    {
      "cell_type": "code",
      "source": [
        "tot_f = np.concatenate((nae_va_ct,nae_va_ct_sm, fd_nnull), axis=1)  # 최종 3x3 부문통합된 거래표"
      ],
      "metadata": {
        "id": "fTFmXv6b11oz"
      },
      "execution_count": 43,
      "outputs": []
    },
    {
      "cell_type": "code",
      "source": [
        "tot_F = pd.DataFrame(tot_f, columns = ['농산품', '공산품', '서비스', '중간수요계', '소비','투자', '수출', '최종수요계', '총수요계'], \n",
        "                     index=['농산품', '공산품', '서비스', '중간투입계', '피용자보수','영업잉여', '고정자본소모', '생산세(보조금공제)', '부가가치계', '총투입액']) # 변수명 붙여서 pandas로 내보내기"
      ],
      "metadata": {
        "id": "GIzMLMU2111V"
      },
      "execution_count": 44,
      "outputs": []
    },
    {
      "cell_type": "code",
      "source": [
        "tot_F  #최종 3x3 거래표 확인"
      ],
      "metadata": {
        "id": "Hlke2CDs2VA1",
        "outputId": "5cb182cc-144b-4a11-829e-2baa17a69e9a",
        "colab": {
          "base_uri": "https://localhost:8080/",
          "height": 363
        }
      },
      "execution_count": 45,
      "outputs": [
        {
          "output_type": "execute_result",
          "data": {
            "text/plain": [
              "                농산품        공산품        서비스      중간수요계        소비        투자  \\\n",
              "농산품          2862.0    34627.0    10647.0    48136.0   15115.0    1483.0   \n",
              "공산품         15765.0   814918.0   311440.0  1142123.0  161058.0  121609.0   \n",
              "서비스          6468.0   234018.0   516296.0   756782.0  765007.0  312870.0   \n",
              "중간투입계       25095.0  1083563.0   838383.0  1947041.0  941180.0  435962.0   \n",
              "피용자보수        4719.0   159133.0   511340.0   675192.0       0.0       0.0   \n",
              "영업잉여        20249.0   138143.0   250992.0   409384.0       0.0       0.0   \n",
              "고정자본소모       4346.0   103338.0   171018.0   278702.0       0.0       0.0   \n",
              "생산세(보조금공제)    549.0    48092.0    73851.0   122492.0       0.0       0.0   \n",
              "부가가치계       29863.0   448706.0  1007201.0  1485770.0       0.0       0.0   \n",
              "총투입액        54958.0  1532269.0  1845584.0  3432811.0       0.0       0.0   \n",
              "\n",
              "                  수출      최종수요계       총수요계  \n",
              "농산품            615.0    17213.0    65349.0  \n",
              "공산품         546807.0   829474.0  1971597.0  \n",
              "서비스          94495.0  1172372.0  1929154.0  \n",
              "중간투입계       641917.0  2019059.0  3966100.0  \n",
              "피용자보수            0.0        0.0        0.0  \n",
              "영업잉여             0.0        0.0        0.0  \n",
              "고정자본소모           0.0        0.0        0.0  \n",
              "생산세(보조금공제)       0.0        0.0        0.0  \n",
              "부가가치계            0.0        0.0        0.0  \n",
              "총투입액             0.0        0.0        0.0  "
            ],
            "text/html": [
              "\n",
              "  <div id=\"df-241d3598-1e5c-48f7-bda9-67e07f413fce\">\n",
              "    <div class=\"colab-df-container\">\n",
              "      <div>\n",
              "<style scoped>\n",
              "    .dataframe tbody tr th:only-of-type {\n",
              "        vertical-align: middle;\n",
              "    }\n",
              "\n",
              "    .dataframe tbody tr th {\n",
              "        vertical-align: top;\n",
              "    }\n",
              "\n",
              "    .dataframe thead th {\n",
              "        text-align: right;\n",
              "    }\n",
              "</style>\n",
              "<table border=\"1\" class=\"dataframe\">\n",
              "  <thead>\n",
              "    <tr style=\"text-align: right;\">\n",
              "      <th></th>\n",
              "      <th>농산품</th>\n",
              "      <th>공산품</th>\n",
              "      <th>서비스</th>\n",
              "      <th>중간수요계</th>\n",
              "      <th>소비</th>\n",
              "      <th>투자</th>\n",
              "      <th>수출</th>\n",
              "      <th>최종수요계</th>\n",
              "      <th>총수요계</th>\n",
              "    </tr>\n",
              "  </thead>\n",
              "  <tbody>\n",
              "    <tr>\n",
              "      <th>농산품</th>\n",
              "      <td>2862.0</td>\n",
              "      <td>34627.0</td>\n",
              "      <td>10647.0</td>\n",
              "      <td>48136.0</td>\n",
              "      <td>15115.0</td>\n",
              "      <td>1483.0</td>\n",
              "      <td>615.0</td>\n",
              "      <td>17213.0</td>\n",
              "      <td>65349.0</td>\n",
              "    </tr>\n",
              "    <tr>\n",
              "      <th>공산품</th>\n",
              "      <td>15765.0</td>\n",
              "      <td>814918.0</td>\n",
              "      <td>311440.0</td>\n",
              "      <td>1142123.0</td>\n",
              "      <td>161058.0</td>\n",
              "      <td>121609.0</td>\n",
              "      <td>546807.0</td>\n",
              "      <td>829474.0</td>\n",
              "      <td>1971597.0</td>\n",
              "    </tr>\n",
              "    <tr>\n",
              "      <th>서비스</th>\n",
              "      <td>6468.0</td>\n",
              "      <td>234018.0</td>\n",
              "      <td>516296.0</td>\n",
              "      <td>756782.0</td>\n",
              "      <td>765007.0</td>\n",
              "      <td>312870.0</td>\n",
              "      <td>94495.0</td>\n",
              "      <td>1172372.0</td>\n",
              "      <td>1929154.0</td>\n",
              "    </tr>\n",
              "    <tr>\n",
              "      <th>중간투입계</th>\n",
              "      <td>25095.0</td>\n",
              "      <td>1083563.0</td>\n",
              "      <td>838383.0</td>\n",
              "      <td>1947041.0</td>\n",
              "      <td>941180.0</td>\n",
              "      <td>435962.0</td>\n",
              "      <td>641917.0</td>\n",
              "      <td>2019059.0</td>\n",
              "      <td>3966100.0</td>\n",
              "    </tr>\n",
              "    <tr>\n",
              "      <th>피용자보수</th>\n",
              "      <td>4719.0</td>\n",
              "      <td>159133.0</td>\n",
              "      <td>511340.0</td>\n",
              "      <td>675192.0</td>\n",
              "      <td>0.0</td>\n",
              "      <td>0.0</td>\n",
              "      <td>0.0</td>\n",
              "      <td>0.0</td>\n",
              "      <td>0.0</td>\n",
              "    </tr>\n",
              "    <tr>\n",
              "      <th>영업잉여</th>\n",
              "      <td>20249.0</td>\n",
              "      <td>138143.0</td>\n",
              "      <td>250992.0</td>\n",
              "      <td>409384.0</td>\n",
              "      <td>0.0</td>\n",
              "      <td>0.0</td>\n",
              "      <td>0.0</td>\n",
              "      <td>0.0</td>\n",
              "      <td>0.0</td>\n",
              "    </tr>\n",
              "    <tr>\n",
              "      <th>고정자본소모</th>\n",
              "      <td>4346.0</td>\n",
              "      <td>103338.0</td>\n",
              "      <td>171018.0</td>\n",
              "      <td>278702.0</td>\n",
              "      <td>0.0</td>\n",
              "      <td>0.0</td>\n",
              "      <td>0.0</td>\n",
              "      <td>0.0</td>\n",
              "      <td>0.0</td>\n",
              "    </tr>\n",
              "    <tr>\n",
              "      <th>생산세(보조금공제)</th>\n",
              "      <td>549.0</td>\n",
              "      <td>48092.0</td>\n",
              "      <td>73851.0</td>\n",
              "      <td>122492.0</td>\n",
              "      <td>0.0</td>\n",
              "      <td>0.0</td>\n",
              "      <td>0.0</td>\n",
              "      <td>0.0</td>\n",
              "      <td>0.0</td>\n",
              "    </tr>\n",
              "    <tr>\n",
              "      <th>부가가치계</th>\n",
              "      <td>29863.0</td>\n",
              "      <td>448706.0</td>\n",
              "      <td>1007201.0</td>\n",
              "      <td>1485770.0</td>\n",
              "      <td>0.0</td>\n",
              "      <td>0.0</td>\n",
              "      <td>0.0</td>\n",
              "      <td>0.0</td>\n",
              "      <td>0.0</td>\n",
              "    </tr>\n",
              "    <tr>\n",
              "      <th>총투입액</th>\n",
              "      <td>54958.0</td>\n",
              "      <td>1532269.0</td>\n",
              "      <td>1845584.0</td>\n",
              "      <td>3432811.0</td>\n",
              "      <td>0.0</td>\n",
              "      <td>0.0</td>\n",
              "      <td>0.0</td>\n",
              "      <td>0.0</td>\n",
              "      <td>0.0</td>\n",
              "    </tr>\n",
              "  </tbody>\n",
              "</table>\n",
              "</div>\n",
              "      <button class=\"colab-df-convert\" onclick=\"convertToInteractive('df-241d3598-1e5c-48f7-bda9-67e07f413fce')\"\n",
              "              title=\"Convert this dataframe to an interactive table.\"\n",
              "              style=\"display:none;\">\n",
              "        \n",
              "  <svg xmlns=\"http://www.w3.org/2000/svg\" height=\"24px\"viewBox=\"0 0 24 24\"\n",
              "       width=\"24px\">\n",
              "    <path d=\"M0 0h24v24H0V0z\" fill=\"none\"/>\n",
              "    <path d=\"M18.56 5.44l.94 2.06.94-2.06 2.06-.94-2.06-.94-.94-2.06-.94 2.06-2.06.94zm-11 1L8.5 8.5l.94-2.06 2.06-.94-2.06-.94L8.5 2.5l-.94 2.06-2.06.94zm10 10l.94 2.06.94-2.06 2.06-.94-2.06-.94-.94-2.06-.94 2.06-2.06.94z\"/><path d=\"M17.41 7.96l-1.37-1.37c-.4-.4-.92-.59-1.43-.59-.52 0-1.04.2-1.43.59L10.3 9.45l-7.72 7.72c-.78.78-.78 2.05 0 2.83L4 21.41c.39.39.9.59 1.41.59.51 0 1.02-.2 1.41-.59l7.78-7.78 2.81-2.81c.8-.78.8-2.07 0-2.86zM5.41 20L4 18.59l7.72-7.72 1.47 1.35L5.41 20z\"/>\n",
              "  </svg>\n",
              "      </button>\n",
              "      \n",
              "  <style>\n",
              "    .colab-df-container {\n",
              "      display:flex;\n",
              "      flex-wrap:wrap;\n",
              "      gap: 12px;\n",
              "    }\n",
              "\n",
              "    .colab-df-convert {\n",
              "      background-color: #E8F0FE;\n",
              "      border: none;\n",
              "      border-radius: 50%;\n",
              "      cursor: pointer;\n",
              "      display: none;\n",
              "      fill: #1967D2;\n",
              "      height: 32px;\n",
              "      padding: 0 0 0 0;\n",
              "      width: 32px;\n",
              "    }\n",
              "\n",
              "    .colab-df-convert:hover {\n",
              "      background-color: #E2EBFA;\n",
              "      box-shadow: 0px 1px 2px rgba(60, 64, 67, 0.3), 0px 1px 3px 1px rgba(60, 64, 67, 0.15);\n",
              "      fill: #174EA6;\n",
              "    }\n",
              "\n",
              "    [theme=dark] .colab-df-convert {\n",
              "      background-color: #3B4455;\n",
              "      fill: #D2E3FC;\n",
              "    }\n",
              "\n",
              "    [theme=dark] .colab-df-convert:hover {\n",
              "      background-color: #434B5C;\n",
              "      box-shadow: 0px 1px 3px 1px rgba(0, 0, 0, 0.15);\n",
              "      filter: drop-shadow(0px 1px 2px rgba(0, 0, 0, 0.3));\n",
              "      fill: #FFFFFF;\n",
              "    }\n",
              "  </style>\n",
              "\n",
              "      <script>\n",
              "        const buttonEl =\n",
              "          document.querySelector('#df-241d3598-1e5c-48f7-bda9-67e07f413fce button.colab-df-convert');\n",
              "        buttonEl.style.display =\n",
              "          google.colab.kernel.accessAllowed ? 'block' : 'none';\n",
              "\n",
              "        async function convertToInteractive(key) {\n",
              "          const element = document.querySelector('#df-241d3598-1e5c-48f7-bda9-67e07f413fce');\n",
              "          const dataTable =\n",
              "            await google.colab.kernel.invokeFunction('convertToInteractive',\n",
              "                                                     [key], {});\n",
              "          if (!dataTable) return;\n",
              "\n",
              "          const docLinkHtml = 'Like what you see? Visit the ' +\n",
              "            '<a target=\"_blank\" href=https://colab.research.google.com/notebooks/data_table.ipynb>data table notebook</a>'\n",
              "            + ' to learn more about interactive tables.';\n",
              "          element.innerHTML = '';\n",
              "          dataTable['output_type'] = 'display_data';\n",
              "          await google.colab.output.renderOutput(dataTable, element);\n",
              "          const docLink = document.createElement('div');\n",
              "          docLink.innerHTML = docLinkHtml;\n",
              "          element.appendChild(docLink);\n",
              "        }\n",
              "      </script>\n",
              "    </div>\n",
              "  </div>\n",
              "  "
            ]
          },
          "metadata": {},
          "execution_count": 45
        }
      ]
    },
    {
      "cell_type": "markdown",
      "source": [
        "##Chapter 5...산업연관효과분석"
      ],
      "metadata": {
        "id": "JYbkwC_VPVv2"
      }
    },
    {
      "cell_type": "code",
      "source": [
        "Tt = Tot.to_numpy()  # 3부문 산업연관표를 numpy로 불러오기\n",
        "Dt = Dom.to_numpy()\n",
        "It = Imp.to_numpy()"
      ],
      "metadata": {
        "id": "pXrwfo8u86pr"
      },
      "execution_count": 46,
      "outputs": []
    },
    {
      "cell_type": "code",
      "source": [
        "Tt_1 = Tt[0:6,1:13].astype(float)\n",
        "Dm_1 = Dt[0:4,1:10].astype(float)\n",
        "Im_1 = It[0:4,1:10].astype(float)\n",
        "print('총거래표 : \\n', Tt_1)    # 총거래표 확인\n",
        "print('국산거래표 : \\n', Dm_1)  # 국산거래표 확인\n",
        "print('수입거래표 : \\n', Im_1)  # 수입거래표 확인"
      ],
      "metadata": {
        "colab": {
          "base_uri": "https://localhost:8080/"
        },
        "id": "q4Q2rSR1QiUI",
        "outputId": "496baefb-c89a-492b-ba2a-9d2dfd721988"
      },
      "execution_count": 47,
      "outputs": [
        {
          "output_type": "stream",
          "name": "stdout",
          "text": [
            "총거래표 : \n",
            " [[  2.  14.   4.  20.   3.   3.   2.   8.  28.  14.  14.  28.]\n",
            " [  5.  94.  39. 138.  32.  19.  73. 124. 262. 203.  59. 262.]\n",
            " [  2.  28.  58.  88. 106.  47.  15. 168. 256. 244.  12. 256.]\n",
            " [  9. 136. 101. 246. 141.  69.  90. 300. 546. 461.  85. 546.]\n",
            " [  5.  67. 143. 215.   0.   0.   0.   0.   0.   0.   0.   0.]\n",
            " [ 14. 203. 244. 461.   0.   0.   0.   0.   0.   0.   0.   0.]]\n",
            "국산거래표 : \n",
            " [[  1.   7.   1.   9.   1.   2.   2.   5.  14.]\n",
            " [  4.  61.  29.  94.  26.  13.  70. 109. 203.]\n",
            " [  1.  26.  52.  79. 104.  46.  15. 165. 244.]\n",
            " [  6.  94.  82. 182. 131.  61.  87. 279. 461.]]\n",
            "수입거래표 : \n",
            " [[ 1.  7.  3. 11.  2.  1.  0.  3. 14.]\n",
            " [ 1. 33. 10. 44.  6.  6.  3. 15. 59.]\n",
            " [ 1.  2.  6.  9.  2.  1.  0.  3. 12.]\n",
            " [ 3. 42. 19. 64. 10.  8.  3. 21. 85.]]\n"
          ]
        }
      ]
    },
    {
      "cell_type": "code",
      "source": [
        "ct = Tt_1[-1,0:3]  # 산출액\n",
        "ct"
      ],
      "metadata": {
        "colab": {
          "base_uri": "https://localhost:8080/"
        },
        "id": "sLoitK1lQigz",
        "outputId": "74409b94-3f10-4431-a15a-b18c49aa2ec6"
      },
      "execution_count": 48,
      "outputs": [
        {
          "output_type": "execute_result",
          "data": {
            "text/plain": [
              "array([ 14., 203., 244.])"
            ]
          },
          "metadata": {},
          "execution_count": 48
        }
      ]
    },
    {
      "cell_type": "code",
      "source": [
        "ct_m = np.tile(ct, reps=[3,1]) # 산출액을 3번 행반복\n",
        "ct_m"
      ],
      "metadata": {
        "colab": {
          "base_uri": "https://localhost:8080/"
        },
        "id": "s0wcbJY1Qipl",
        "outputId": "22b72345-dc24-42c5-a08f-6078fccc6abe"
      },
      "execution_count": 49,
      "outputs": [
        {
          "output_type": "execute_result",
          "data": {
            "text/plain": [
              "array([[ 14., 203., 244.],\n",
              "       [ 14., 203., 244.],\n",
              "       [ 14., 203., 244.]])"
            ]
          },
          "metadata": {},
          "execution_count": 49
        }
      ]
    },
    {
      "cell_type": "code",
      "source": [
        "At = Tt_1[0:3,0:3]/ct_m   # 총투입계수\n",
        "Ad = Dm_1[0:3,0:3]/ct_m  # 국산 투입계수\n",
        "\n",
        "print('총투입계수표 : \\n', At)\n",
        "print('국산투입계수표 : \\n', Ad)\n",
        "\n",
        "df_At = pd.DataFrame(At.round(3),columns = ['농산품', '공산품', '서비스'], index=['농산품', '공산품', '서비스'])  #pandas로 내보내기\n",
        "df_Ad = pd.DataFrame(Ad.round(3),columns = ['농산품', '공산품', '서비스'], index=['농산품', '공산품', '서비스'])  #pandas로 내보내기"
      ],
      "metadata": {
        "colab": {
          "base_uri": "https://localhost:8080/"
        },
        "id": "5uLIE7vfQiwM",
        "outputId": "7378b226-e88d-4669-f1a8-cc3970419ea1"
      },
      "execution_count": 50,
      "outputs": [
        {
          "output_type": "stream",
          "name": "stdout",
          "text": [
            "총투입계수표 : \n",
            " [[0.14285714 0.06896552 0.01639344]\n",
            " [0.35714286 0.46305419 0.15983607]\n",
            " [0.14285714 0.13793103 0.23770492]]\n",
            "국산투입계수표 : \n",
            " [[0.07142857 0.03448276 0.00409836]\n",
            " [0.28571429 0.30049261 0.11885246]\n",
            " [0.07142857 0.12807882 0.21311475]]\n"
          ]
        }
      ]
    },
    {
      "cell_type": "markdown",
      "source": [
        "##### 생산유발계수(Lf)"
      ],
      "metadata": {
        "id": "V0nnZSeHUPn8"
      }
    },
    {
      "cell_type": "code",
      "source": [
        "Lf = np.linalg.inv(np.identity(3)-Ad)  # 생산유발계수\n",
        "Lf"
      ],
      "metadata": {
        "colab": {
          "base_uri": "https://localhost:8080/"
        },
        "id": "SF7hebVoQi2M",
        "outputId": "6166b510-688e-40de-ad71-3b244498489b"
      },
      "execution_count": 51,
      "outputs": [
        {
          "output_type": "execute_result",
          "data": {
            "text/plain": [
              "array([[1.09543838, 0.05661073, 0.01425599],\n",
              "       [0.47753427, 1.49491595, 0.22828175],\n",
              "       [0.17716386, 0.2484615 , 1.3092841 ]])"
            ]
          },
          "metadata": {},
          "execution_count": 51
        }
      ]
    },
    {
      "cell_type": "code",
      "source": [
        "df_Lf = pd.DataFrame(Lf.round(3),columns = ['농산품', '공산품', '서비스'], index=['농산품', '공산품', '서비스'])  #pandas로 내보내기"
      ],
      "metadata": {
        "id": "YT9SwuJnQi8T"
      },
      "execution_count": 52,
      "outputs": []
    },
    {
      "cell_type": "markdown",
      "source": [
        "#### 부가가치유발계수(Lv)"
      ],
      "metadata": {
        "id": "DkU6os7vUW-0"
      }
    },
    {
      "cell_type": "code",
      "source": [
        "Va_r = Tt_1[-2,0:3]/ct # 부가가치율\n",
        "Va_r"
      ],
      "metadata": {
        "colab": {
          "base_uri": "https://localhost:8080/"
        },
        "id": "KfbCR-LdQjCF",
        "outputId": "6335cc5b-28ce-4741-9550-d133650f7c87"
      },
      "execution_count": 53,
      "outputs": [
        {
          "output_type": "execute_result",
          "data": {
            "text/plain": [
              "array([0.35714286, 0.33004926, 0.58606557])"
            ]
          },
          "metadata": {},
          "execution_count": 53
        }
      ]
    },
    {
      "cell_type": "code",
      "source": [
        "Va_m = np.diag(Va_r)  # 부가가치율 대각행렬\n",
        "Va_m"
      ],
      "metadata": {
        "colab": {
          "base_uri": "https://localhost:8080/"
        },
        "id": "7dkxNSQCQjJF",
        "outputId": "7b96aefe-88a1-4b24-cb74-a89cfadc4f40"
      },
      "execution_count": 54,
      "outputs": [
        {
          "output_type": "execute_result",
          "data": {
            "text/plain": [
              "array([[0.35714286, 0.        , 0.        ],\n",
              "       [0.        , 0.33004926, 0.        ],\n",
              "       [0.        , 0.        , 0.58606557]])"
            ]
          },
          "metadata": {},
          "execution_count": 54
        }
      ]
    },
    {
      "cell_type": "code",
      "source": [
        "Lv = Va_m@Lf  #부가가치유발계수\n",
        "Lv"
      ],
      "metadata": {
        "id": "DF_G_Hn09gRy",
        "colab": {
          "base_uri": "https://localhost:8080/"
        },
        "outputId": "94d8d29e-a46e-4eda-b846-356eb7e09d2d"
      },
      "execution_count": 55,
      "outputs": [
        {
          "output_type": "execute_result",
          "data": {
            "text/plain": [
              "array([[0.39122799, 0.02021812, 0.00509142],\n",
              "       [0.15760983, 0.49339591, 0.07534422],\n",
              "       [0.10382964, 0.14561473, 0.76732634]])"
            ]
          },
          "metadata": {},
          "execution_count": 55
        }
      ]
    },
    {
      "cell_type": "code",
      "source": [
        "df_Lv = pd.DataFrame(Lv.round(3),columns = ['농산품', '공산품', '서비스'], index=['농산품', '공산품', '서비스'])  # pandas로 내보내기"
      ],
      "metadata": {
        "id": "Od3StAXA86sf"
      },
      "execution_count": 56,
      "outputs": []
    },
    {
      "cell_type": "markdown",
      "source": [
        "#### 수입유발계수"
      ],
      "metadata": {
        "id": "G-NYB11hVLEO"
      }
    },
    {
      "cell_type": "code",
      "source": [
        "Ai = Im_1[0:3,0:3]/ct_m\n",
        "\n",
        "print('수입투입계수표 : \\n', Ai)\n",
        "\n",
        "df_Ai = pd.DataFrame(Ai.round(3))  #pandas로 내보내기"
      ],
      "metadata": {
        "id": "IRm-HtOf9KVx",
        "colab": {
          "base_uri": "https://localhost:8080/"
        },
        "outputId": "362ce8f2-ad94-4c9e-dcb5-85f7bac07935"
      },
      "execution_count": 57,
      "outputs": [
        {
          "output_type": "stream",
          "name": "stdout",
          "text": [
            "수입투입계수표 : \n",
            " [[0.07142857 0.03448276 0.01229508]\n",
            " [0.07142857 0.16256158 0.04098361]\n",
            " [0.07142857 0.00985222 0.02459016]]\n"
          ]
        }
      ]
    },
    {
      "cell_type": "code",
      "source": [
        "Li = Ai@Lf  #수입유발계수\n",
        "Li"
      ],
      "metadata": {
        "id": "_8fZBBSX9kld",
        "outputId": "ff332860-877f-4a50-a141-8083a7e71977",
        "colab": {
          "base_uri": "https://localhost:8080/"
        }
      },
      "execution_count": 58,
      "outputs": [
        {
          "output_type": "execute_result",
          "data": {
            "text/plain": [
              "array([[0.09689054, 0.0586473 , 0.02498782],\n",
              "       [0.16313514, 0.25724237, 0.09178731],\n",
              "       [0.08730686, 0.02488157, 0.03546288]])"
            ]
          },
          "metadata": {},
          "execution_count": 58
        }
      ]
    },
    {
      "cell_type": "code",
      "source": [
        "df_Li = pd.DataFrame(Li.round(3),columns = ['농산품', '공산품', '서비스'], index=['농산품', '공산품', '서비스'])  #pandas로 내보내기"
      ],
      "metadata": {
        "id": "qxP0BGTe-J6J"
      },
      "execution_count": 59,
      "outputs": []
    },
    {
      "cell_type": "markdown",
      "source": [],
      "metadata": {
        "id": "rDsqvOxBbB5w"
      }
    },
    {
      "cell_type": "code",
      "source": [
        "# CSV파일로 결과 내보내기\n",
        "df_At.to_csv('총투입계수.csv')\n",
        "df_Ad.to_csv('국산투입계수.csv')\n",
        "df_Ai.to_csv('수입투입계수.csv')\n",
        "\n",
        "df_Lf.to_csv('생산유발계수.csv')\n",
        "df_Lv.to_csv('부가가치유발계수.csv')\n",
        "df_Li.to_csv('수입유발계수.csv')"
      ],
      "metadata": {
        "id": "Var3WdHW-NdY"
      },
      "execution_count": 60,
      "outputs": []
    },
    {
      "cell_type": "markdown",
      "source": [
        "### 최종수요 항목별 유발효과"
      ],
      "metadata": {
        "id": "6zhSQgh83SmB"
      }
    },
    {
      "cell_type": "markdown",
      "source": [
        "##### 생산유발효과"
      ],
      "metadata": {
        "id": "P8-fs47q3WzF"
      }
    },
    {
      "cell_type": "code",
      "source": [
        "Yd = Dt[0:3,5:8]  # 국산최종수요...소비, 투자, 수출\n",
        "Yi = It[0:3,5:8]  # 수입최종수요...소비, 투자, 수출\n",
        "print('국산최종수요 : \\n', Yd)\n",
        "print('수입최종수요 : \\n', Yi)"
      ],
      "metadata": {
        "id": "aZ0NQ51_-OTA",
        "colab": {
          "base_uri": "https://localhost:8080/"
        },
        "outputId": "f8a2af41-7c92-4e2d-e6a0-a56e03648f76"
      },
      "execution_count": 61,
      "outputs": [
        {
          "output_type": "stream",
          "name": "stdout",
          "text": [
            "국산최종수요 : \n",
            " [[1 2 2]\n",
            " [26 13 70]\n",
            " [104 46 15]]\n",
            "수입최종수요 : \n",
            " [[2 1 0]\n",
            " [6 6 3]\n",
            " [2 1 0]]\n"
          ]
        }
      ]
    },
    {
      "cell_type": "code",
      "source": [
        "Lfyd = (Lf@Yd).astype(float).reshape([3,3])   # 데이터타입을 float으로 지정하고 3x3행렬로 지정\n",
        "Lvyd = (Lv@Yd).astype(float).reshape([3,3])   # 데이터타입을 float으로 지정하고 3x3행렬로 지정\n",
        "Liyd = (Li@Yd).astype(float).reshape([3,3]) + Yi.astype(float).reshape([3,3]) # 데이터타입을 float으로 지정하고 3x3행렬로 지정\n",
        "\n",
        "print('최종수요항목별 생산유발계수 : \\n', Lfyd)\n",
        "print('최종수요항목별 부가가치유발계수 : \\n', Lvyd)\n",
        "print('최종수요항목별 수입유발계수 : \\n', Liyd)\n"
      ],
      "metadata": {
        "id": "vI4pjfvx-WU_",
        "colab": {
          "base_uri": "https://localhost:8080/"
        },
        "outputId": "ac8a5928-7ed6-4ec4-bc6b-af4bc7fb5601"
      },
      "execution_count": 62,
      "outputs": [
        {
          "output_type": "stream",
          "name": "stdout",
          "text": [
            "최종수요항목별 생산유발계수 : \n",
            " [[  4.04994023   3.58259176   6.36746801]\n",
            " [ 63.08665161  30.88993669 109.0234117 ]\n",
            " [142.80270952  63.81139594  37.38589454]]\n",
            "최종수요항목별 부가가치유발계수 : \n",
            " [[ 1.44640723  1.27949706  2.27409572]\n",
            " [20.82170275 10.19520078 35.98309647]\n",
            " [83.69175189 37.39766237 21.91058574]]\n",
            "최종수요항목별 수입유발계수 : \n",
            " [[ 6.22045424  3.10563599  4.67390977]\n",
            " [22.39731704 13.89263736 22.7100456 ]\n",
            " [ 6.42236685  3.12936645  2.4482667 ]]\n"
          ]
        }
      ]
    },
    {
      "cell_type": "code",
      "source": [
        "##### 최종수요항목별 유발계수 검증...최종수요항목별 생산유발계수=산출액, 최종수요항목별 부가가치유발계수=부가가치, 최종수요항목별 수입유발계수=수입 이 성립하여야 함  "
      ],
      "metadata": {
        "id": "2i4MUlDg5HPP"
      },
      "execution_count": 63,
      "outputs": []
    },
    {
      "cell_type": "code",
      "source": [
        "Lfyd_sm = Lfyd.sum(axis=1).astype(float).reshape([3,1])\n",
        "Lvyd_sm = Lvyd.sum(axis=1).astype(float).reshape([3,1])\n",
        "Liyd_sm = Liyd.sum(axis=1).astype(float).reshape([3,1])\n",
        "\n",
        "print('최종수요항목별 생산유발계수의 열합 : \\n', Lfyd_sm)\n",
        "print('최종수요항목별 부가가치유발의 열합 : \\n', Lvyd_sm)\n",
        "print('최종수요항목별 수입유발계의 열합 : \\n', Liyd_sm)"
      ],
      "metadata": {
        "colab": {
          "base_uri": "https://localhost:8080/"
        },
        "id": "kJH9hmlC5HUr",
        "outputId": "73d04a78-f090-4380-b9f9-4b21cc60df42"
      },
      "execution_count": 64,
      "outputs": [
        {
          "output_type": "stream",
          "name": "stdout",
          "text": [
            "최종수요항목별 생산유발계수의 열합 : \n",
            " [[ 14.]\n",
            " [203.]\n",
            " [244.]]\n",
            "최종수요항목별 부가가치유발의 열합 : \n",
            " [[  5.]\n",
            " [ 67.]\n",
            " [143.]]\n",
            "최종수요항목별 수입유발계의 열합 : \n",
            " [[14.]\n",
            " [59.]\n",
            " [12.]]\n"
          ]
        }
      ]
    },
    {
      "cell_type": "markdown",
      "source": [
        "###### 최종수요항목별 생산, 부가가치 및 수입유발계수"
      ],
      "metadata": {
        "id": "lIoPBD-Fae1A"
      }
    },
    {
      "cell_type": "code",
      "source": [
        "Yd_rw_sm =Yd.sum(axis=0)  #국산최종수요항목별(소비, 투자, 수출) 행합\n",
        "Yi_rw_sm =Yi.sum(axis=0)  #수입최종수요항목별(소비, 투자, 수출) 행합\n",
        "\n",
        "Lfyd_rw_sm = Lfyd.sum(axis=0) # 최종수요항목별(소비, 투자, 수출) 생산유발계수 행합\n",
        "Lvyd_rw_sm = Lvyd.sum(axis=0) # 최종수요항목별(소비, 투자, 수출) 부가가치유발계수 행합\n",
        "Liyd_rw_sm = Liyd.sum(axis=0) # 최종수요항목별(소비, 투자, 수출) 수입유발계수 행합\n",
        "\n",
        "print('최종수요항목별 행합 : \\n', Yd_rw_sm)\n",
        "print('최종수요항목별 생산유발계수 행합 : \\n', Lfyd_rw_sm)\n",
        "print('최종수요항목별 부가가치유발계수 행합 : \\n', Lvyd_rw_sm)\n",
        "print('최종수요항목별 수입유발계수 행합: \\n', Liyd_rw_sm)"
      ],
      "metadata": {
        "colab": {
          "base_uri": "https://localhost:8080/"
        },
        "id": "6XUSbGUyanOq",
        "outputId": "2586d595-f7a4-4b43-e3c2-0c31ebb099fa"
      },
      "execution_count": 65,
      "outputs": [
        {
          "output_type": "stream",
          "name": "stdout",
          "text": [
            "최종수요항목별 행합 : \n",
            " [131 61 87]\n",
            "최종수요항목별 생산유발계수 행합 : \n",
            " [209.93930137  98.28392438 152.77677425]\n",
            "최종수요항목별 부가가치유발계수 행합 : \n",
            " [105.95986187  48.87236021  60.16777793]\n",
            "최종수요항목별 수입유발계수 행합: \n",
            " [35.04013813 20.12763979 29.83222207]\n"
          ]
        }
      ]
    },
    {
      "cell_type": "markdown",
      "source": [
        "##### 최종수요항목별(소비, 투자, 수출) 유발계수"
      ],
      "metadata": {
        "id": "_hjFJ_N0dggV"
      }
    },
    {
      "cell_type": "code",
      "source": [
        "Lfyd_coef =(Lfyd_rw_sm/Yd_rw_sm).astype(float).reshape([1,3]) #최종수요항목별(소비, 투자, 수출) 생산유발계수\n",
        "Lvyd_coef =(Lvyd_rw_sm/Yd_rw_sm).astype(float).reshape([1,3]) #최종수요항목별(소비, 투자, 수출) 생산유발계수\n",
        "Liyd_coef =(Liyd_rw_sm/(Yd_rw_sm+Yi_rw_sm)).astype(float).reshape([1,3]) #최종수요항목별(소비, 투자, 수출) 생산유발계수\n",
        "\n",
        "print('최종수요항목별(소비, 투자, 수출) 생산유발계수 행합 : \\n', Lfyd_coef)\n",
        "print('최종수요항목별(소비, 투자, 수출) 부가가치유발계수 행합 : \\n', Lvyd_coef)\n",
        "print('최종수요항목별(소비, 투자, 수출) 수입유발계수 행합: \\n', Liyd_coef)"
      ],
      "metadata": {
        "colab": {
          "base_uri": "https://localhost:8080/"
        },
        "id": "MmV_4BB-anZi",
        "outputId": "1be4e824-0e25-47a2-cde3-fde830983c0c"
      },
      "execution_count": 66,
      "outputs": [
        {
          "output_type": "stream",
          "name": "stdout",
          "text": [
            "최종수요항목별(소비, 투자, 수출) 생산유발계수 행합 : \n",
            " [[1.60259009 1.61121188 1.75605488]]\n",
            "최종수요항목별(소비, 투자, 수출) 부가가치유발계수 행합 : \n",
            " [[0.80885391 0.80118623 0.69158365]]\n",
            "최종수요항목별(소비, 투자, 수출) 수입유발계수 행합: \n",
            " [[0.24851162 0.29170492 0.33146913]]\n"
          ]
        }
      ]
    },
    {
      "cell_type": "markdown",
      "source": [
        "###### 영향력계수(후방연쇄효과) 및 감응도계수(전방연쇄효과)"
      ],
      "metadata": {
        "id": "Kr23Ly0AhpVR"
      }
    },
    {
      "cell_type": "code",
      "source": [
        "Lf_rw_sm = Lf.sum(axis=0)  # 생산유발계수 행합\n",
        "Lf_cl_sm = Lf.sum(axis=1)  # 생산유발계수 행합\n",
        "\n",
        "Lf_bwd = (Lf.sum(axis=0)/Lf_rw_sm.mean()).astype(float).reshape([1,3])  #영향력 계수\n",
        "Lf_fwd = (Lf.sum(axis=1)/Lf_cl_sm.mean()).astype(float).reshape([1,3])  #감응도 계수\n",
        "\n",
        "print('품목별 영향력계수 : \\n', Lf_bwd)\n",
        "print('품목별 감음도계수: \\n', Lf_fwd)"
      ],
      "metadata": {
        "colab": {
          "base_uri": "https://localhost:8080/"
        },
        "id": "DxnO-URDanip",
        "outputId": "38a36d68-74a5-4752-e881-e5dd20c7a80f"
      },
      "execution_count": 67,
      "outputs": [
        {
          "output_type": "stream",
          "name": "stdout",
          "text": [
            "품목별 영향력계수 : \n",
            " [[1.02909928 1.05841261 0.9124881 ]]\n",
            "품목별 감음도계수: \n",
            " [[0.68580007 1.29405432 1.02014561]]\n"
          ]
        }
      ]
    },
    {
      "cell_type": "code",
      "source": [
        "# pandas로 변환기\n",
        "\n",
        "df_Lfyd =pd.DataFrame(Lfyd.round(1),columns = ['농산품', '공산품', '서비스'], index=['소비', '투자', '수출'])  #pandas로 내보내기\n",
        "df_Lvyd =pd.DataFrame(Lvyd.round(1),columns = ['농산품', '공산품', '서비스'], index=['소비', '투자', '수출'])  \n",
        "df_Liyd =pd.DataFrame(Liyd.round(1),columns = ['농산품', '공산품', '서비스'], index=['소비', '투자', '수출'])  \n",
        "\n",
        "df_Lfyd_coef = pd.DataFrame(Lfyd_coef.round(3),columns = ['농산품', '공산품', '서비스'], index=['항목별 생산유발계수'])\n",
        "df_Lvyd_coef = pd.DataFrame(Lvyd_coef.round(3),columns = ['농산품', '공산품', '서비스'], index=['항목별 부가가치유발계수'])\n",
        "df_Liyd_coef = pd.DataFrame(Liyd_coef.round(3),columns = ['농산품', '공산품', '서비스'], index=['항목별 수입유발계수'])\n",
        "\n",
        "df_Lf_bwd = pd.DataFrame(Lf_bwd.round(3), columns = ['농산품', '공산품', '서비스'], index=['영향력계수'])\n",
        "df_Lf_fwd = pd.DataFrame(Lf_fwd.round(3), columns = ['농산품', '공산품', '서비스'], index=['영향력계수'])\n",
        "\n",
        "print(df_Lfyd)\n",
        "print(df_Lvyd)\n",
        "print(df_Liyd)\n",
        "\n",
        "print(df_Lfyd_coef)\n",
        "print(df_Lvyd_coef)\n",
        "print(df_Liyd_coef)\n",
        "\n",
        "print(df_Lf_bwd)\n",
        "print(df_Lf_fwd)"
      ],
      "metadata": {
        "colab": {
          "base_uri": "https://localhost:8080/"
        },
        "id": "Uy-18-Rxanp2",
        "outputId": "6e11f373-750e-4baa-d446-2cb8c00c38d7"
      },
      "execution_count": 68,
      "outputs": [
        {
          "output_type": "stream",
          "name": "stdout",
          "text": [
            "      농산품   공산품    서비스\n",
            "소비    4.0   3.6    6.4\n",
            "투자   63.1  30.9  109.0\n",
            "수출  142.8  63.8   37.4\n",
            "     농산품   공산품   서비스\n",
            "소비   1.4   1.3   2.3\n",
            "투자  20.8  10.2  36.0\n",
            "수출  83.7  37.4  21.9\n",
            "     농산품   공산품   서비스\n",
            "소비   6.2   3.1   4.7\n",
            "투자  22.4  13.9  22.7\n",
            "수출   6.4   3.1   2.4\n",
            "              농산품    공산품    서비스\n",
            "항목별 생산유발계수  1.603  1.611  1.756\n",
            "                농산품    공산품    서비스\n",
            "항목별 부가가치유발계수  0.809  0.801  0.692\n",
            "              농산품    공산품    서비스\n",
            "항목별 수입유발계수  0.249  0.292  0.331\n",
            "         농산품    공산품    서비스\n",
            "영향력계수  1.029  1.058  0.912\n",
            "         농산품    공산품   서비스\n",
            "영향력계수  0.686  1.294  1.02\n"
          ]
        }
      ]
    },
    {
      "cell_type": "code",
      "source": [
        "# csv 파일로 내보내기\n",
        "df_Lfyd.to_csv('최종수요항목별 생산유발액.csv')\n",
        "df_Lvyd.to_csv('최종수요항목별 부가가치유발액.csv')\n",
        "df_Liyd.to_csv('최종수요항목별 수입유발액.csv')\n",
        "\n",
        "df_Lfyd_coef.to_csv('최종수요항목별 생산유발계수.csv')\n",
        "df_Lvyd_coef.to_csv('최종수요항목별 부가가치유발계수.csv')\n",
        "df_Liyd_coef.to_csv('최종수요항목별 수입유발계수.csv')\n",
        "\n",
        "df_Lf_bwd.to_csv('영향력계수.csv')\n",
        "df_Lf_bwd.to_csv('감응도계수.csv')"
      ],
      "metadata": {
        "id": "Dk8oBy3oanwg"
      },
      "execution_count": 69,
      "outputs": []
    },
    {
      "cell_type": "code",
      "source": [],
      "metadata": {
        "id": "G-mJLG0can6J"
      },
      "execution_count": 69,
      "outputs": []
    },
    {
      "cell_type": "code",
      "source": [],
      "metadata": {
        "id": "OcdzFts-aoCe"
      },
      "execution_count": 69,
      "outputs": []
    },
    {
      "cell_type": "code",
      "source": [
        "#pandas로 내보내기\n",
        "\n",
        "# df_Lfyd = pd.DataFrame(Lfyd.round(3),columns = ['농산품', '공산품', '서비스'], index=['농산품', '공산품', '서비스'])  \n",
        "# df_Lvyd = pd.DataFrame(Lvyd.round(3),columns = ['농산품', '공산품', '서비스'], index=['농산품', '공산품', '서비스'])  \n",
        "# df_Liyd = pd.DataFrame(Liyd.round(3),columns = ['농산품', '공산품', '서비스'], index=['농산품', '공산품', '서비스']) \n"
      ],
      "metadata": {
        "id": "IrTVIJP06hir"
      },
      "execution_count": 70,
      "outputs": []
    },
    {
      "cell_type": "code",
      "source": [
        "# # csv 파일로 내보내기\n",
        "\n",
        "# df_Lfyd.to_csv('최종수요항목별_생산유발.csv')\n",
        "# df_Lvyd.to_csv('최종수요항목별_부가가치유발.csv')\n",
        "# df_Liyd.to_csv('최종수요항목별_수입유발.csv')"
      ],
      "metadata": {
        "id": "aBWNCPV-_T6J"
      },
      "execution_count": 71,
      "outputs": []
    },
    {
      "cell_type": "markdown",
      "source": [
        "### 물가파급효과 분석\n",
        "\n",
        "\n",
        "##### - 투입계수의 전치행렬을 이용하여 생산유발계수(Lf)을 이용하여 각종 물가파급효과 분석 가능"
      ],
      "metadata": {
        "id": "LrSLa3VTD5Nd"
      }
    },
    {
      "cell_type": "code",
      "source": [
        "At_trans = At.T  # 총투입계수의 전치행렬\n",
        "Ad_trans = Ad.T  # 국산투입계수의 전치행렬\n",
        "Ai_trans = Ai.T  # 국산투입계수의 전치행렬\n",
        "\n",
        "print('총투입계수의 전치행렬 : \\n', At_trans)\n",
        "print('국산투입계수의 전치행렬: \\n', Ad_trans)\n",
        "print('수입투입계수의 전치행렬: \\n', Ai_trans)\n",
        "\n",
        "Lf_trans = np.linalg.inv(np.identity(3)-Ad_trans)  # (I-Ad_trans)의 역행렬 \n",
        "print('국산투입계수 전치행렬의 역행렬: \\n', Lf_trans)"
      ],
      "metadata": {
        "id": "QlwdX5oMD71E",
        "outputId": "becbde69-b871-4a89-cd87-5b558493cf3e",
        "colab": {
          "base_uri": "https://localhost:8080/"
        }
      },
      "execution_count": 72,
      "outputs": [
        {
          "output_type": "stream",
          "name": "stdout",
          "text": [
            "총투입계수의 전치행렬 : \n",
            " [[0.14285714 0.35714286 0.14285714]\n",
            " [0.06896552 0.46305419 0.13793103]\n",
            " [0.01639344 0.15983607 0.23770492]]\n",
            "국산투입계수의 전치행렬: \n",
            " [[0.07142857 0.28571429 0.07142857]\n",
            " [0.03448276 0.30049261 0.12807882]\n",
            " [0.00409836 0.11885246 0.21311475]]\n",
            "수입투입계수의 전치행렬: \n",
            " [[0.07142857 0.07142857 0.07142857]\n",
            " [0.03448276 0.16256158 0.00985222]\n",
            " [0.01229508 0.04098361 0.02459016]]\n",
            "국산투입계수 전치행렬의 역행렬: \n",
            " [[1.09543838 0.47753427 0.17716386]\n",
            " [0.05661073 1.49491595 0.2484615 ]\n",
            " [0.01425599 0.22828175 1.3092841 ]]\n"
          ]
        }
      ]
    },
    {
      "cell_type": "markdown",
      "source": [],
      "metadata": {
        "id": "aBgrgkliI_uH"
      }
    },
    {
      "cell_type": "markdown",
      "source": [
        "#### 임금인상의 물가파급효과"
      ],
      "metadata": {
        "id": "VmIala71I_1M"
      }
    },
    {
      "cell_type": "code",
      "source": [
        "delta_all_w = np.array([10,10,10]).reshape([3,1]) # 모든 상품의 임금이 10% 상승\n",
        "delta_all_Pw = (Lf_trans@Va_m)@delta_all_w\n",
        "\n",
        "delta_par_w = np.array([0,10,0]).reshape([3,1]) # 공산품의 임금이 10% 상승\n",
        "delta_par_Pw = (Lf_trans@Va_m)@delta_par_w\n",
        "\n",
        "print('모든 상품의 임금이 10% 상승시 물가파급효과: \\n', delta_all_Pw)\n",
        "print('공산품의 임금이 10% 상승시 물가파급효과: \\n', delta_par_Pw)\n"
      ],
      "metadata": {
        "id": "hT30koHOD8WG",
        "outputId": "d3a49e3c-a429-472d-fa1f-9d8c03b20888",
        "colab": {
          "base_uri": "https://localhost:8080/"
        }
      },
      "execution_count": 73,
      "outputs": [
        {
          "output_type": "stream",
          "name": "stdout",
          "text": [
            "모든 상품의 임금이 10% 상승시 물가파급효과: \n",
            " [[6.52667464]\n",
            " [6.5922876 ]\n",
            " [8.47761987]]\n",
            "공산품의 임금이 10% 상승시 물가파급효과: \n",
            " [[1.57609835]\n",
            " [4.93395906]\n",
            " [0.75344225]]\n"
          ]
        }
      ]
    },
    {
      "cell_type": "markdown",
      "source": [
        "#### 공산품 등 내생부분(중간투입품) 가격변동의 물가파급효과"
      ],
      "metadata": {
        "id": "lz8QJDXeZA_n"
      }
    },
    {
      "cell_type": "code",
      "source": [
        "#### 중간투입되는 공산품의 물가변동의 파급효과 분석\n",
        "\n",
        "Ad_exd_row = np.delete(Ad_trans,1,0).reshape([2,3])  # 공산품(sectors2) 행 삭제\n",
        "Ad_exd_manu = np.delete(Ad_exd_row,1,1).reshape([2,2])  # 공산품(sectors2) 열 삭제,,최종적으로 2x2 행렬\n",
        "print('물가변동이 발생한 부문을 제가한 국산투입계수 : \\n', Ad_exd_manu)\n",
        "\n",
        "A_Pr_sec2 = np.concatenate((Ad_trans[0,1].reshape([1,1]),Ad_trans[2,1].reshape([1,1])),axis=0).reshape([2,1])  # 물가가 변동하는 부문의 국산 투입계수(a21, a23)\n",
        "print('물가변동이 발생한 부문의 국산투입계수 : \\n', A_Pr_sec2)\n",
        "\n",
        "#공산품 물가 10% 상승시 파급효과\n",
        "\n",
        "delta_manu_Pw = Ad_exd_manu@A_Pr_sec2*10\n",
        "print('공산품 10% 상승시 다른 부문의 물가변동 : \\n', delta_manu_Pw)"
      ],
      "metadata": {
        "id": "MH8Zx-JXD8ZG",
        "colab": {
          "base_uri": "https://localhost:8080/"
        },
        "outputId": "a3cfbcd8-e57b-47b1-f36b-c5fc3721c97f"
      },
      "execution_count": 74,
      "outputs": [
        {
          "output_type": "stream",
          "name": "stdout",
          "text": [
            "물가변동이 발생한 부문을 제가한 국산투입계수 : \n",
            " [[0.07142857 0.07142857]\n",
            " [0.00409836 0.21311475]]\n",
            "물가변동이 발생한 부문의 국산투입계수 : \n",
            " [[0.28571429]\n",
            " [0.11885246]]\n",
            "공산품 10% 상승시 다른 부문의 물가변동 : \n",
            " [[0.28897625]\n",
            " [0.26500173]]\n"
          ]
        }
      ]
    },
    {
      "cell_type": "markdown",
      "source": [
        "#### 수입산품 가격변동의 물가파급효과\n"
      ],
      "metadata": {
        "id": "KGihX7EPGGt3"
      }
    },
    {
      "cell_type": "code",
      "source": [
        "Imp_Pw = np.array([10,0,0]).reshape([3,1]) # 수입농산물 10% 상승\n",
        "delta_imp_Pw =  ((Lf_trans @Ai_trans)@Imp_Pw).reshape([3,1])\n",
        "\n",
        "print('수입통산품 가격 10% 상승시 다른 부문의 물가변동 : \\n', delta_imp_Pw)"
      ],
      "metadata": {
        "colab": {
          "base_uri": "https://localhost:8080/"
        },
        "id": "5p1nygTxZI38",
        "outputId": "1d7a7588-443c-4187-8062-7af875b81551"
      },
      "execution_count": 75,
      "outputs": [
        {
          "output_type": "stream",
          "name": "stdout",
          "text": [
            "수입통산품 가격 10% 상승시 다른 부문의 물가변동 : \n",
            " [[0.96890542]\n",
            " [0.58647304]\n",
            " [0.24987825]]\n"
          ]
        }
      ]
    },
    {
      "cell_type": "code",
      "source": [
        "#pandas로 내보\n",
        "\n",
        "df_delta_all_Pw = pd.DataFrame(delta_all_Pw.round(3),columns = ['물가상승률'], index=['농산품', '공산품', '서비스'])  # 모든 부문의 임금 10% 상승\n",
        "df_delta_par_Pw = pd.DataFrame(delta_par_Pw.round(3),columns = ['물가상승률'], index=['농산품', '공산품', '서비스'])  # 공산품 부문의 임금 10% 상승\n",
        "df_delta_manu_Pw = pd.DataFrame(delta_manu_Pw.round(3),columns = ['물가상승률'], index=['농산품', '서비스'])        # 공산품 물가 10% 상승\n",
        "df_delta_imp_Pw = pd.DataFrame(delta_imp_Pw.round(3),columns = ['물가상승률'], index=['농산품', '공산품', '서비스'])   # 수입 농산품 물가 10% 상승"
      ],
      "metadata": {
        "id": "Njxfr_mbHtnA"
      },
      "execution_count": 76,
      "outputs": []
    },
    {
      "cell_type": "code",
      "source": [
        "df_delta_all_Pw.to_csv('모든 부문 임금 10% 상승.csv')\n",
        "df_delta_par_Pw.to_csv('공산품 부문 임금 10% 상승.csv')\n",
        "df_delta_manu_Pw.to_csv('공산품 물가 10% 상승.csv')\n",
        "df_delta_imp_Pw.to_csv('수입 농산품 물가 10% 상승.csv')"
      ],
      "metadata": {
        "id": "Q0fXvrqKKjRH"
      },
      "execution_count": 77,
      "outputs": []
    },
    {
      "cell_type": "markdown",
      "source": [
        "### 서비스 부문의 내생화"
      ],
      "metadata": {
        "id": "0T6xGJKLAhvD"
      }
    },
    {
      "cell_type": "code",
      "source": [
        "# 생산유발액\n",
        "\n",
        "Ad_ser_etr = Ad[0:2,0:2] # 서비스가 제거된 농산품과 공산품만 포함된 국산투입계수\n",
        "Lf_Ad_ser_etr = np.linalg.inv(np.identity(2)-Ad_ser_etr) # 역행렬(생산유발계수)\n",
        "print('농산품과 공산품으로 구성된 생산유발계수: \\n', Lf_Ad_ser_etr)\n",
        "\n",
        "Ad_ser =Ad[0:2,2].reshape([2,1])\n",
        "print('서비스의 국산투입계수(농산품과 공산품만 포함): \\n', Ad_ser)\n",
        "\n",
        "Mtp_ser = Lf_Ad_ser_etr@Ad_ser # 서비스 외생화의 효과를 계산하기 위한 멀티플라이어\n",
        "print('외생화 부문의 효과를 계산하기 위한 멀티플라이어: \\n', Mtp_ser)\n",
        "\n",
        "Amt_etr = Mtp_ser*244 # 서비스 총산출(총투자) 3,432,811의 각 산업 생산유발액\n",
        "print('유발액: \\n', Amt_etr)\n"
      ],
      "metadata": {
        "id": "ImapvnHSM3mu",
        "colab": {
          "base_uri": "https://localhost:8080/"
        },
        "outputId": "a94d3338-7bae-48fa-d3f8-ab7905732e0b"
      },
      "execution_count": 78,
      "outputs": [
        {
          "output_type": "stream",
          "name": "stdout",
          "text": [
            "농산품과 공산품으로 구성된 생산유발계수: \n",
            " [[1.09350935 0.05390539]\n",
            " [0.44664466 1.45159516]]\n",
            "서비스의 국산투입계수(농산품과 공산품만 포함): \n",
            " [[0.00409836]\n",
            " [0.11885246]]\n",
            "외생화 부문의 효과를 계산하기 위한 멀티플라이어: \n",
            " [[0.01088838]\n",
            " [0.17435617]]\n",
            "유발액: \n",
            " [[ 2.65676568]\n",
            " [42.54290429]]\n"
          ]
        }
      ]
    },
    {
      "cell_type": "code",
      "source": [
        "# 수입유발액\n",
        "Ai_ser_etr = Ai[0:2,0:2] # 서비스가 제거된 농산품과 공산품만 포함된 수입투입계수\n",
        "Ai_ser_dr = Ai[:,2].sum().reshape([1,1])\n",
        "\n",
        "Mtp_imp_indr = Ai_ser_etr@Mtp_ser  # 간접효과 멀티플라이어\n",
        "print('간접효과 멀티플라이어: \\n', Mtp_imp_indr)\n",
        "\n",
        "Amt_imp_indr = Mtp_imp_indr*244 # 간접효과\n",
        "Amt_imp_dr = Ai_ser_dr*244      # 직접효과\n",
        "Amt_imp_tot = Amt_imp_indr.sum() + Amt_imp_dr  \n",
        "\n",
        "print('간접효과 : \\n', Amt_imp_indr)\n",
        "print('직접효과 : \\n', Amt_imp_dr)\n",
        "print('총효과 : \\n', Amt_imp_tot)\n"
      ],
      "metadata": {
        "colab": {
          "base_uri": "https://localhost:8080/"
        },
        "id": "lKcch7NXAyaQ",
        "outputId": "47357959-87fe-49de-eaf0-9edaec781825"
      },
      "execution_count": 79,
      "outputs": [
        {
          "output_type": "stream",
          "name": "stdout",
          "text": [
            "간접효과 멀티플라이어: \n",
            " [[0.00679002]\n",
            " [0.02912135]]\n",
            "간접효과 : \n",
            " [[1.65676568]\n",
            " [7.10561056]]\n",
            "직접효과 : \n",
            " [[19.]]\n",
            "총효과 : \n",
            " [[27.76237624]]\n"
          ]
        }
      ]
    },
    {
      "cell_type": "code",
      "source": [
        "# 부가가치유발액\n",
        "Av_ser_etr = Va_m[0:2,0:2] # 서비스가 제거된 농산품과 공산품만 포함된 부가가치율\n",
        "Av_ser_dr = Va_m[2,2].reshape([1,1])  # 서비스의 부가가치율\n",
        "\n",
        "Mtp_var_indr = Av_ser_etr@Mtp_ser  # 간접효과 멀티플라이어\n",
        "print('간접효과 멀티플라이어: \\n', Mtp_var_indr)\n",
        "\n",
        "Amt_var_indr = Mtp_var_indr*244  # 간접효과\n",
        "Amt_var_dr= Av_ser_dr*244       # 직접효과\n",
        "Amt_var_tot = Amt_var_indr.sum() + Amt_var_dr\n",
        "\n",
        "print('간접효과 : \\n', Amt_var_indr)\n",
        "print('직접효과 : \\n', Amt_var_dr)\n",
        "print('총효과 : \\n', Amt_var_tot)"
      ],
      "metadata": {
        "colab": {
          "base_uri": "https://localhost:8080/"
        },
        "id": "z0oF5lwlKqlY",
        "outputId": "80c8e87f-0f98-47e7-ffb2-4c503a5fb6d8"
      },
      "execution_count": 80,
      "outputs": [
        {
          "output_type": "stream",
          "name": "stdout",
          "text": [
            "간접효과 멀티플라이어: \n",
            " [[0.00388871]\n",
            " [0.05754612]]\n",
            "간접효과 : \n",
            " [[ 0.94884488]\n",
            " [14.04125413]]\n",
            "직접효과 : \n",
            " [[143.]]\n",
            "총효과 : \n",
            " [[157.99009901]]\n"
          ]
        }
      ]
    },
    {
      "cell_type": "markdown",
      "source": [
        "### 산출 변동요인분해"
      ],
      "metadata": {
        "id": "00a8dQ_-Ug2y"
      }
    },
    {
      "cell_type": "code",
      "source": [
        "# 2015년 거래표 다운로드\n",
        "\n",
        "url_total = \"https://raw.githubusercontent.com/Tom-Jung/legendary-funicular/main/%EC%B4%9D%EA%B1%B0%EB%9E%98%ED%91%9C_2015_%EB%B6%88%EB%B3%80.csv\"  # 불변 2015년 총거래표\n",
        "Tot_cst_15 = pd.read_csv(url_total)\n",
        "\n",
        "url_imp = \"https://raw.githubusercontent.com/Tom-Jung/legendary-funicular/main/%EC%88%98%EC%9E%85%EA%B1%B0%EB%9E%98%ED%91%9C_2015_%EB%B6%88%EB%B3%80.csv\"  # 불변 2015년 총거래표\n",
        "Imp_cst_15 = pd.read_csv(url_imp)\n",
        "\n",
        "url_dom = \"https://raw.githubusercontent.com/Tom-Jung/legendary-funicular/main/%EA%B5%AD%EC%82%B0%EA%B1%B0%EB%9E%98%ED%91%9C_2015_%EB%B6%88%EB%B3%80.csv\"  # 불변 2015년 총거래표\n",
        "Dom_cst_15 = pd.read_csv(url_dom)"
      ],
      "metadata": {
        "id": "5iSPH3zYKquU"
      },
      "execution_count": 94,
      "outputs": []
    },
    {
      "cell_type": "code",
      "source": [
        "# 2010년 거래표 다운로드\n",
        "\n",
        "url_total = \"https://raw.githubusercontent.com/Tom-Jung/legendary-funicular/main/%EC%B4%9D%EA%B1%B0%EB%9E%98%ED%91%9C_2010_%EB%B6%88%EB%B3%80.csv\"  # 불변 2015년 총거래표\n",
        "Tot_cst_10 = pd.read_csv(url_total)\n",
        "\n",
        "url_imp = \"https://raw.githubusercontent.com/Tom-Jung/legendary-funicular/main/%EC%88%98%EC%9E%85%EA%B1%B0%EB%9E%98%ED%91%9C_2010_%EB%B6%88%EB%B3%80.csv\"  # 불변 2015년 총거래표\n",
        "Imp_cst_10 = pd.read_csv(url_imp)\n",
        "\n",
        "url_dom = \"https://raw.githubusercontent.com/Tom-Jung/legendary-funicular/main/%EA%B5%AD%EC%82%B0%EA%B1%B0%EB%9E%98%ED%91%9C_2010_%EB%B6%88%EB%B3%80.csv\"  # 불변 2015년 총거래표\n",
        "Dom_cst_10 = pd.read_csv(url_dom)"
      ],
      "metadata": {
        "id": "o8Pv_b5hKqyW"
      },
      "execution_count": 100,
      "outputs": []
    },
    {
      "cell_type": "code",
      "source": [
        "Dom_cst_10"
      ],
      "metadata": {
        "id": "JZHs0nlVY6qG",
        "outputId": "0626a4e6-d3fc-48d5-d53e-ad4094d6759a",
        "colab": {
          "base_uri": "https://localhost:8080/",
          "height": 1000
        }
      },
      "execution_count": 101,
      "outputs": [
        {
          "output_type": "execute_result",
          "data": {
            "text/plain": [
              "    code                 name           A          B         C01         C02  \\\n",
              "0   code                 name       농림수산품        광산품        음식료품   섬유 및 가죽제품   \n",
              "1      A                농림수산품   4,129,480       3752  28,165,534      25,345   \n",
              "2      B                  광산품         957          0      13,518       2,706   \n",
              "3    C01                 음식료품   9,648,654       3379   9,467,000      88,250   \n",
              "4    C02            섬유 및 가죽제품     456,802       4681     122,415  14,481,663   \n",
              "5    C03          목재 및 종이, 인쇄     690,604      10841   1,905,251     706,724   \n",
              "6    C04            석탄 및 석유제품   1,303,191    160,947     333,565     281,933   \n",
              "7    C05                 화학제품   3,693,865    120,356   2,652,351   5,369,783   \n",
              "8    C06              비금속광물제품       26991        533     467,037      12,792   \n",
              "9    C07              1차 금속제품       72460       7937        5021      32,463   \n",
              "10   C08               금속가공제품      43,153     50,520     965,945     471,558   \n",
              "11   C09       컴퓨터, 전자 및 광학기기       60687        808       31110       20542   \n",
              "12   C10                 전기장비      133260      19714       25063       61851   \n",
              "13   C11              기계 및 장비     257,212     53,673     291,087     154,405   \n",
              "14   C12                 운송장비     276,142     104114       47259      41,826   \n",
              "15   C13            기타 제조업 제품        7565        437      38,565     622,003   \n",
              "16   C14    제조임가공 및 산업용 장비 수리       92719      51167   1,775,405   5,936,679   \n",
              "17     D          전력, 가스 및 증기      398225      95926      588972     1290271   \n",
              "18     E   수도, 폐기물처리 및 재활용서비스      124835       4239      394572      136581   \n",
              "19     F                   건설      143153      10822       61996       40180   \n",
              "20     G        도소매 및 상품중개서비스     2004247      54387   7,919,570   4,577,965   \n",
              "21     H                운송서비스     708,215     484917   3,307,254   1,828,435   \n",
              "22     I          음식점 및 숙박서비스     264,110      41938     215,552     375,950   \n",
              "23     J        정보통신 및 방송 서비스     124,173       8227     166,653     161,730   \n",
              "24     K          금융 및 보험 서비스     982,959    151,186     873,290     834,240   \n",
              "25     L               부동산서비스       45646       9722     311,477     611,674   \n",
              "26     M      전문, 과학 및 기술 서비스     317,836      77676   3,162,621   2,948,125   \n",
              "27     N              사업지원서비스      66,840      67014     184,979     305,966   \n",
              "28     O      공공행정, 국방 및 사회보장         208        290        7908        5861   \n",
              "29     P                교육서비스       3,244        368       18181       17374   \n",
              "30     Q        보건 및 사회복지 서비스      69,346       3365       38802       26567   \n",
              "31     R  예술, 스포츠 및 여가 관련 서비스      32,130       5887      53,974     101,562   \n",
              "32     S               기타 서비스       69046       7415       74444       71302   \n",
              "33  9590                중간투입계  26,247,955  1,616,238  63,686,371  41,644,306   \n",
              "\n",
              "            C03        C04         C05         C06  ...           9090  \\\n",
              "0   목재 및 종이, 인쇄  석탄 및 석유제품        화학제품     비금속광물제품  ...          중간수요계   \n",
              "1       267,352       1269     425,791        3216  ...     41,728,178   \n",
              "2         4,021    242,522     174,762   1,638,123  ...      3,660,293   \n",
              "3        60,402      8,255     792,096       21645  ...     46,572,656   \n",
              "4       265,732      26782   1,071,895     109,684  ...     27,631,475   \n",
              "5     8,982,391      74854   1,369,418     472,996  ...     37,361,352   \n",
              "6       222,557  1,591,879   7,850,617   1,349,440  ...     44,409,342   \n",
              "7     2,581,696    898,064  45,560,997   1,506,029  ...    139,750,020   \n",
              "8        70,007     10,694     478,933   4,004,254  ...     32,856,981   \n",
              "9        84,115      83512   1,371,057     598,850  ...     83,102,584   \n",
              "10      161,939    532,242   1,540,844     520,177  ...     66,672,632   \n",
              "11       40,412      90862     195,956      41,532  ...     67,426,102   \n",
              "12        62085      65547     225,384     177,289  ...     53,883,375   \n",
              "13      127,327    486,084   2,428,875     432,869  ...     50,189,314   \n",
              "14        66294      39798     153,505     219,730  ...     56,545,406   \n",
              "15       17,153       2514      30,795        6136  ...      9,710,944   \n",
              "16      982,305      40898   2,596,303     626,381  ...     42,494,380   \n",
              "17      1099436    874,494   3,673,339     1051451  ...     75,212,936   \n",
              "18       680022      41734     1556732      448189  ...     15,707,851   \n",
              "19        31386      29683      189992       52526  ...     11,557,932   \n",
              "20    1,921,812     937471   7,971,759   1,574,697  ...     97,442,116   \n",
              "21    1,508,849  1,191,511   5,568,624   3,013,065  ...     70,426,510   \n",
              "22      299,082     98,848     886,787     217,970  ...     39,163,934   \n",
              "23      157,457    194,495     365,794      140278  ...     59,071,495   \n",
              "24      587,497    231,801   1,731,785     542,513  ...     75,845,692   \n",
              "25      185,119     65,022     342,040       81802  ...     37,493,819   \n",
              "26    1,096,031    816,142   7,994,648   1,223,243  ...     90,508,057   \n",
              "27      213,970    151,109     506,794     130,598  ...     44,609,838   \n",
              "28         5713        254       10537        3022  ...        689,252   \n",
              "29        17844      43982      63,975       11974  ...      1,803,323   \n",
              "30        16182       2664       58192       16589  ...      2,932,580   \n",
              "31       57,541     16,746     185,306      35,683  ...      8,947,134   \n",
              "32        48818     45,233     156,659       81637  ...     10,346,367   \n",
              "33   21,922,547  8,936,965  97,530,191  20,353,588  ...  1,445,753,870   \n",
              "\n",
              "                          9111       9112         9121        9122  \\\n",
              "0   민간소비지출\\n(가계 및 가계봉사\\n비영리단체)     정부소비지출   민간고정\\n자본형성  정부고정\\n자본형성   \n",
              "1                   13,952,230          0      470,401       22858   \n",
              "2                          168          0            0           0   \n",
              "3                   50,629,257          0            0           0   \n",
              "4                   20,156,736          0       54,933        5122   \n",
              "5                      517,930          0            0           0   \n",
              "6                   13,152,158          0            0           0   \n",
              "7                    4,925,288          0            0           0   \n",
              "8                       17,940          0            0           0   \n",
              "9                     -299,901          0     -1793577     -379727   \n",
              "10                     618,536          0    2,707,791   1,280,548   \n",
              "11                  10,254,720          0    4,780,646   2,285,534   \n",
              "12                   3,189,769          0    6,352,421     146,967   \n",
              "13                   1,038,214          0   25,950,618     332,642   \n",
              "14                  21,249,311          0   17,638,642   2,532,320   \n",
              "15                   2,919,667          0    1,219,715     271,602   \n",
              "16                      41,867          0       27,972        1246   \n",
              "17                  22,970,804          0            0           0   \n",
              "18                   3,918,113     858870            0           0   \n",
              "19                           0          0    148263819    56316316   \n",
              "20                    62340286          0     11226115     1450075   \n",
              "21                  23,769,609          0       302604       46021   \n",
              "22                  58,421,288    2369305            0           0   \n",
              "23                  26,949,517          0   20,500,196     265,037   \n",
              "24                  51,787,437          0            0           0   \n",
              "25                 101,995,076          0     19531319       17661   \n",
              "26                   2,091,644          0   37,740,717     8584750   \n",
              "27                   4,831,941          0            0           0   \n",
              "28                     971,017   98739354            0           0   \n",
              "29                  55,943,179   48538879            0           0   \n",
              "30                  33,499,623   55022698            0           0   \n",
              "31                  26,578,196    2333080       677482           0   \n",
              "32                  34,239,836          0       10,265        8677   \n",
              "33                 652,671,456  207862186  295,662,079  73,187,649   \n",
              "\n",
              "          9131      9132       9140           9190           9290  \n",
              "0         재고증감  귀중품\\n순취득         수출          최종수요계           총수요계  \n",
              "1    2,101,904         0     829846     17,377,239     59,105,417  \n",
              "2        2,617         0     141873        144,658      3,804,951  \n",
              "3    3,052,535         0    6409262     60,091,054    106,663,710  \n",
              "4    3,040,576         0   21859383     45,116,750     72,748,225  \n",
              "5     -307,285         0    3367618      3,578,263     40,939,615  \n",
              "6    1,726,736         0   28827390     43,706,284     88,115,626  \n",
              "7    1,812,470         0   60184815     66,922,573    206,672,593  \n",
              "8      348,601         0    1848108      2,214,649     35,071,630  \n",
              "9    2,378,485    24,954   32430557     32,360,791    115,463,375  \n",
              "10   1,260,154         0    8921684     14,788,713     81,461,345  \n",
              "11   2,407,765         0  107151152    126,879,817    194,305,919  \n",
              "12   1,935,269         0   22737682     34,362,108     88,245,483  \n",
              "13     883,096         0   38531517     66,736,087    116,925,401  \n",
              "14     453,264         0  118316301    160,189,838    216,735,244  \n",
              "15     540,949   703,189    2238005      7,893,127     17,604,071  \n",
              "16      -1,484         0    3517174      3,586,775     46,081,155  \n",
              "17           0         0     113167     23,083,971     98,296,907  \n",
              "18           0         0      46489      4,823,472     20,531,323  \n",
              "19     1117535         0     412252      206109922    217,667,854  \n",
              "20     2057739     75305   12190043       89339563    186,781,679  \n",
              "21      123410      1181   34662997     58,905,822    129,332,332  \n",
              "22           0         0    7438768     68,229,361    107,393,295  \n",
              "23      93,982         0    2692082     50,500,814    109,572,309  \n",
              "24           0         0    2715872     54,503,309    130,349,001  \n",
              "25           0         0     643305    122,187,361    159,681,180  \n",
              "26           0         0    8345772     56,762,883    147,270,940  \n",
              "27           0         0    6723905     11,555,846     56,165,684  \n",
              "28           0         0      25210     99,735,581    100,424,833  \n",
              "29           0         0     488404    104,970,462    106,773,785  \n",
              "30           0         0      79854     88,602,175     91,534,755  \n",
              "31           0     12560    1654190     31,255,508     40,202,642  \n",
              "32           0         0     313895     34,572,673     44,919,040  \n",
              "33  25,028,318   817,189  535858572  1,791,087,449  3,236,841,319  \n",
              "\n",
              "[34 rows x 44 columns]"
            ],
            "text/html": [
              "\n",
              "  <div id=\"df-1c9a2836-751a-4fac-b6c9-fcd7c2eb73cd\">\n",
              "    <div class=\"colab-df-container\">\n",
              "      <div>\n",
              "<style scoped>\n",
              "    .dataframe tbody tr th:only-of-type {\n",
              "        vertical-align: middle;\n",
              "    }\n",
              "\n",
              "    .dataframe tbody tr th {\n",
              "        vertical-align: top;\n",
              "    }\n",
              "\n",
              "    .dataframe thead th {\n",
              "        text-align: right;\n",
              "    }\n",
              "</style>\n",
              "<table border=\"1\" class=\"dataframe\">\n",
              "  <thead>\n",
              "    <tr style=\"text-align: right;\">\n",
              "      <th></th>\n",
              "      <th>code</th>\n",
              "      <th>name</th>\n",
              "      <th>A</th>\n",
              "      <th>B</th>\n",
              "      <th>C01</th>\n",
              "      <th>C02</th>\n",
              "      <th>C03</th>\n",
              "      <th>C04</th>\n",
              "      <th>C05</th>\n",
              "      <th>C06</th>\n",
              "      <th>...</th>\n",
              "      <th>9090</th>\n",
              "      <th>9111</th>\n",
              "      <th>9112</th>\n",
              "      <th>9121</th>\n",
              "      <th>9122</th>\n",
              "      <th>9131</th>\n",
              "      <th>9132</th>\n",
              "      <th>9140</th>\n",
              "      <th>9190</th>\n",
              "      <th>9290</th>\n",
              "    </tr>\n",
              "  </thead>\n",
              "  <tbody>\n",
              "    <tr>\n",
              "      <th>0</th>\n",
              "      <td>code</td>\n",
              "      <td>name</td>\n",
              "      <td>농림수산품</td>\n",
              "      <td>광산품</td>\n",
              "      <td>음식료품</td>\n",
              "      <td>섬유 및 가죽제품</td>\n",
              "      <td>목재 및 종이, 인쇄</td>\n",
              "      <td>석탄 및 석유제품</td>\n",
              "      <td>화학제품</td>\n",
              "      <td>비금속광물제품</td>\n",
              "      <td>...</td>\n",
              "      <td>중간수요계</td>\n",
              "      <td>민간소비지출\\n(가계 및 가계봉사\\n비영리단체)</td>\n",
              "      <td>정부소비지출</td>\n",
              "      <td>민간고정\\n자본형성</td>\n",
              "      <td>정부고정\\n자본형성</td>\n",
              "      <td>재고증감</td>\n",
              "      <td>귀중품\\n순취득</td>\n",
              "      <td>수출</td>\n",
              "      <td>최종수요계</td>\n",
              "      <td>총수요계</td>\n",
              "    </tr>\n",
              "    <tr>\n",
              "      <th>1</th>\n",
              "      <td>A</td>\n",
              "      <td>농림수산품</td>\n",
              "      <td>4,129,480</td>\n",
              "      <td>3752</td>\n",
              "      <td>28,165,534</td>\n",
              "      <td>25,345</td>\n",
              "      <td>267,352</td>\n",
              "      <td>1269</td>\n",
              "      <td>425,791</td>\n",
              "      <td>3216</td>\n",
              "      <td>...</td>\n",
              "      <td>41,728,178</td>\n",
              "      <td>13,952,230</td>\n",
              "      <td>0</td>\n",
              "      <td>470,401</td>\n",
              "      <td>22858</td>\n",
              "      <td>2,101,904</td>\n",
              "      <td>0</td>\n",
              "      <td>829846</td>\n",
              "      <td>17,377,239</td>\n",
              "      <td>59,105,417</td>\n",
              "    </tr>\n",
              "    <tr>\n",
              "      <th>2</th>\n",
              "      <td>B</td>\n",
              "      <td>광산품</td>\n",
              "      <td>957</td>\n",
              "      <td>0</td>\n",
              "      <td>13,518</td>\n",
              "      <td>2,706</td>\n",
              "      <td>4,021</td>\n",
              "      <td>242,522</td>\n",
              "      <td>174,762</td>\n",
              "      <td>1,638,123</td>\n",
              "      <td>...</td>\n",
              "      <td>3,660,293</td>\n",
              "      <td>168</td>\n",
              "      <td>0</td>\n",
              "      <td>0</td>\n",
              "      <td>0</td>\n",
              "      <td>2,617</td>\n",
              "      <td>0</td>\n",
              "      <td>141873</td>\n",
              "      <td>144,658</td>\n",
              "      <td>3,804,951</td>\n",
              "    </tr>\n",
              "    <tr>\n",
              "      <th>3</th>\n",
              "      <td>C01</td>\n",
              "      <td>음식료품</td>\n",
              "      <td>9,648,654</td>\n",
              "      <td>3379</td>\n",
              "      <td>9,467,000</td>\n",
              "      <td>88,250</td>\n",
              "      <td>60,402</td>\n",
              "      <td>8,255</td>\n",
              "      <td>792,096</td>\n",
              "      <td>21645</td>\n",
              "      <td>...</td>\n",
              "      <td>46,572,656</td>\n",
              "      <td>50,629,257</td>\n",
              "      <td>0</td>\n",
              "      <td>0</td>\n",
              "      <td>0</td>\n",
              "      <td>3,052,535</td>\n",
              "      <td>0</td>\n",
              "      <td>6409262</td>\n",
              "      <td>60,091,054</td>\n",
              "      <td>106,663,710</td>\n",
              "    </tr>\n",
              "    <tr>\n",
              "      <th>4</th>\n",
              "      <td>C02</td>\n",
              "      <td>섬유 및 가죽제품</td>\n",
              "      <td>456,802</td>\n",
              "      <td>4681</td>\n",
              "      <td>122,415</td>\n",
              "      <td>14,481,663</td>\n",
              "      <td>265,732</td>\n",
              "      <td>26782</td>\n",
              "      <td>1,071,895</td>\n",
              "      <td>109,684</td>\n",
              "      <td>...</td>\n",
              "      <td>27,631,475</td>\n",
              "      <td>20,156,736</td>\n",
              "      <td>0</td>\n",
              "      <td>54,933</td>\n",
              "      <td>5122</td>\n",
              "      <td>3,040,576</td>\n",
              "      <td>0</td>\n",
              "      <td>21859383</td>\n",
              "      <td>45,116,750</td>\n",
              "      <td>72,748,225</td>\n",
              "    </tr>\n",
              "    <tr>\n",
              "      <th>5</th>\n",
              "      <td>C03</td>\n",
              "      <td>목재 및 종이, 인쇄</td>\n",
              "      <td>690,604</td>\n",
              "      <td>10841</td>\n",
              "      <td>1,905,251</td>\n",
              "      <td>706,724</td>\n",
              "      <td>8,982,391</td>\n",
              "      <td>74854</td>\n",
              "      <td>1,369,418</td>\n",
              "      <td>472,996</td>\n",
              "      <td>...</td>\n",
              "      <td>37,361,352</td>\n",
              "      <td>517,930</td>\n",
              "      <td>0</td>\n",
              "      <td>0</td>\n",
              "      <td>0</td>\n",
              "      <td>-307,285</td>\n",
              "      <td>0</td>\n",
              "      <td>3367618</td>\n",
              "      <td>3,578,263</td>\n",
              "      <td>40,939,615</td>\n",
              "    </tr>\n",
              "    <tr>\n",
              "      <th>6</th>\n",
              "      <td>C04</td>\n",
              "      <td>석탄 및 석유제품</td>\n",
              "      <td>1,303,191</td>\n",
              "      <td>160,947</td>\n",
              "      <td>333,565</td>\n",
              "      <td>281,933</td>\n",
              "      <td>222,557</td>\n",
              "      <td>1,591,879</td>\n",
              "      <td>7,850,617</td>\n",
              "      <td>1,349,440</td>\n",
              "      <td>...</td>\n",
              "      <td>44,409,342</td>\n",
              "      <td>13,152,158</td>\n",
              "      <td>0</td>\n",
              "      <td>0</td>\n",
              "      <td>0</td>\n",
              "      <td>1,726,736</td>\n",
              "      <td>0</td>\n",
              "      <td>28827390</td>\n",
              "      <td>43,706,284</td>\n",
              "      <td>88,115,626</td>\n",
              "    </tr>\n",
              "    <tr>\n",
              "      <th>7</th>\n",
              "      <td>C05</td>\n",
              "      <td>화학제품</td>\n",
              "      <td>3,693,865</td>\n",
              "      <td>120,356</td>\n",
              "      <td>2,652,351</td>\n",
              "      <td>5,369,783</td>\n",
              "      <td>2,581,696</td>\n",
              "      <td>898,064</td>\n",
              "      <td>45,560,997</td>\n",
              "      <td>1,506,029</td>\n",
              "      <td>...</td>\n",
              "      <td>139,750,020</td>\n",
              "      <td>4,925,288</td>\n",
              "      <td>0</td>\n",
              "      <td>0</td>\n",
              "      <td>0</td>\n",
              "      <td>1,812,470</td>\n",
              "      <td>0</td>\n",
              "      <td>60184815</td>\n",
              "      <td>66,922,573</td>\n",
              "      <td>206,672,593</td>\n",
              "    </tr>\n",
              "    <tr>\n",
              "      <th>8</th>\n",
              "      <td>C06</td>\n",
              "      <td>비금속광물제품</td>\n",
              "      <td>26991</td>\n",
              "      <td>533</td>\n",
              "      <td>467,037</td>\n",
              "      <td>12,792</td>\n",
              "      <td>70,007</td>\n",
              "      <td>10,694</td>\n",
              "      <td>478,933</td>\n",
              "      <td>4,004,254</td>\n",
              "      <td>...</td>\n",
              "      <td>32,856,981</td>\n",
              "      <td>17,940</td>\n",
              "      <td>0</td>\n",
              "      <td>0</td>\n",
              "      <td>0</td>\n",
              "      <td>348,601</td>\n",
              "      <td>0</td>\n",
              "      <td>1848108</td>\n",
              "      <td>2,214,649</td>\n",
              "      <td>35,071,630</td>\n",
              "    </tr>\n",
              "    <tr>\n",
              "      <th>9</th>\n",
              "      <td>C07</td>\n",
              "      <td>1차 금속제품</td>\n",
              "      <td>72460</td>\n",
              "      <td>7937</td>\n",
              "      <td>5021</td>\n",
              "      <td>32,463</td>\n",
              "      <td>84,115</td>\n",
              "      <td>83512</td>\n",
              "      <td>1,371,057</td>\n",
              "      <td>598,850</td>\n",
              "      <td>...</td>\n",
              "      <td>83,102,584</td>\n",
              "      <td>-299,901</td>\n",
              "      <td>0</td>\n",
              "      <td>-1793577</td>\n",
              "      <td>-379727</td>\n",
              "      <td>2,378,485</td>\n",
              "      <td>24,954</td>\n",
              "      <td>32430557</td>\n",
              "      <td>32,360,791</td>\n",
              "      <td>115,463,375</td>\n",
              "    </tr>\n",
              "    <tr>\n",
              "      <th>10</th>\n",
              "      <td>C08</td>\n",
              "      <td>금속가공제품</td>\n",
              "      <td>43,153</td>\n",
              "      <td>50,520</td>\n",
              "      <td>965,945</td>\n",
              "      <td>471,558</td>\n",
              "      <td>161,939</td>\n",
              "      <td>532,242</td>\n",
              "      <td>1,540,844</td>\n",
              "      <td>520,177</td>\n",
              "      <td>...</td>\n",
              "      <td>66,672,632</td>\n",
              "      <td>618,536</td>\n",
              "      <td>0</td>\n",
              "      <td>2,707,791</td>\n",
              "      <td>1,280,548</td>\n",
              "      <td>1,260,154</td>\n",
              "      <td>0</td>\n",
              "      <td>8921684</td>\n",
              "      <td>14,788,713</td>\n",
              "      <td>81,461,345</td>\n",
              "    </tr>\n",
              "    <tr>\n",
              "      <th>11</th>\n",
              "      <td>C09</td>\n",
              "      <td>컴퓨터, 전자 및 광학기기</td>\n",
              "      <td>60687</td>\n",
              "      <td>808</td>\n",
              "      <td>31110</td>\n",
              "      <td>20542</td>\n",
              "      <td>40,412</td>\n",
              "      <td>90862</td>\n",
              "      <td>195,956</td>\n",
              "      <td>41,532</td>\n",
              "      <td>...</td>\n",
              "      <td>67,426,102</td>\n",
              "      <td>10,254,720</td>\n",
              "      <td>0</td>\n",
              "      <td>4,780,646</td>\n",
              "      <td>2,285,534</td>\n",
              "      <td>2,407,765</td>\n",
              "      <td>0</td>\n",
              "      <td>107151152</td>\n",
              "      <td>126,879,817</td>\n",
              "      <td>194,305,919</td>\n",
              "    </tr>\n",
              "    <tr>\n",
              "      <th>12</th>\n",
              "      <td>C10</td>\n",
              "      <td>전기장비</td>\n",
              "      <td>133260</td>\n",
              "      <td>19714</td>\n",
              "      <td>25063</td>\n",
              "      <td>61851</td>\n",
              "      <td>62085</td>\n",
              "      <td>65547</td>\n",
              "      <td>225,384</td>\n",
              "      <td>177,289</td>\n",
              "      <td>...</td>\n",
              "      <td>53,883,375</td>\n",
              "      <td>3,189,769</td>\n",
              "      <td>0</td>\n",
              "      <td>6,352,421</td>\n",
              "      <td>146,967</td>\n",
              "      <td>1,935,269</td>\n",
              "      <td>0</td>\n",
              "      <td>22737682</td>\n",
              "      <td>34,362,108</td>\n",
              "      <td>88,245,483</td>\n",
              "    </tr>\n",
              "    <tr>\n",
              "      <th>13</th>\n",
              "      <td>C11</td>\n",
              "      <td>기계 및 장비</td>\n",
              "      <td>257,212</td>\n",
              "      <td>53,673</td>\n",
              "      <td>291,087</td>\n",
              "      <td>154,405</td>\n",
              "      <td>127,327</td>\n",
              "      <td>486,084</td>\n",
              "      <td>2,428,875</td>\n",
              "      <td>432,869</td>\n",
              "      <td>...</td>\n",
              "      <td>50,189,314</td>\n",
              "      <td>1,038,214</td>\n",
              "      <td>0</td>\n",
              "      <td>25,950,618</td>\n",
              "      <td>332,642</td>\n",
              "      <td>883,096</td>\n",
              "      <td>0</td>\n",
              "      <td>38531517</td>\n",
              "      <td>66,736,087</td>\n",
              "      <td>116,925,401</td>\n",
              "    </tr>\n",
              "    <tr>\n",
              "      <th>14</th>\n",
              "      <td>C12</td>\n",
              "      <td>운송장비</td>\n",
              "      <td>276,142</td>\n",
              "      <td>104114</td>\n",
              "      <td>47259</td>\n",
              "      <td>41,826</td>\n",
              "      <td>66294</td>\n",
              "      <td>39798</td>\n",
              "      <td>153,505</td>\n",
              "      <td>219,730</td>\n",
              "      <td>...</td>\n",
              "      <td>56,545,406</td>\n",
              "      <td>21,249,311</td>\n",
              "      <td>0</td>\n",
              "      <td>17,638,642</td>\n",
              "      <td>2,532,320</td>\n",
              "      <td>453,264</td>\n",
              "      <td>0</td>\n",
              "      <td>118316301</td>\n",
              "      <td>160,189,838</td>\n",
              "      <td>216,735,244</td>\n",
              "    </tr>\n",
              "    <tr>\n",
              "      <th>15</th>\n",
              "      <td>C13</td>\n",
              "      <td>기타 제조업 제품</td>\n",
              "      <td>7565</td>\n",
              "      <td>437</td>\n",
              "      <td>38,565</td>\n",
              "      <td>622,003</td>\n",
              "      <td>17,153</td>\n",
              "      <td>2514</td>\n",
              "      <td>30,795</td>\n",
              "      <td>6136</td>\n",
              "      <td>...</td>\n",
              "      <td>9,710,944</td>\n",
              "      <td>2,919,667</td>\n",
              "      <td>0</td>\n",
              "      <td>1,219,715</td>\n",
              "      <td>271,602</td>\n",
              "      <td>540,949</td>\n",
              "      <td>703,189</td>\n",
              "      <td>2238005</td>\n",
              "      <td>7,893,127</td>\n",
              "      <td>17,604,071</td>\n",
              "    </tr>\n",
              "    <tr>\n",
              "      <th>16</th>\n",
              "      <td>C14</td>\n",
              "      <td>제조임가공 및 산업용 장비 수리</td>\n",
              "      <td>92719</td>\n",
              "      <td>51167</td>\n",
              "      <td>1,775,405</td>\n",
              "      <td>5,936,679</td>\n",
              "      <td>982,305</td>\n",
              "      <td>40898</td>\n",
              "      <td>2,596,303</td>\n",
              "      <td>626,381</td>\n",
              "      <td>...</td>\n",
              "      <td>42,494,380</td>\n",
              "      <td>41,867</td>\n",
              "      <td>0</td>\n",
              "      <td>27,972</td>\n",
              "      <td>1246</td>\n",
              "      <td>-1,484</td>\n",
              "      <td>0</td>\n",
              "      <td>3517174</td>\n",
              "      <td>3,586,775</td>\n",
              "      <td>46,081,155</td>\n",
              "    </tr>\n",
              "    <tr>\n",
              "      <th>17</th>\n",
              "      <td>D</td>\n",
              "      <td>전력, 가스 및 증기</td>\n",
              "      <td>398225</td>\n",
              "      <td>95926</td>\n",
              "      <td>588972</td>\n",
              "      <td>1290271</td>\n",
              "      <td>1099436</td>\n",
              "      <td>874,494</td>\n",
              "      <td>3,673,339</td>\n",
              "      <td>1051451</td>\n",
              "      <td>...</td>\n",
              "      <td>75,212,936</td>\n",
              "      <td>22,970,804</td>\n",
              "      <td>0</td>\n",
              "      <td>0</td>\n",
              "      <td>0</td>\n",
              "      <td>0</td>\n",
              "      <td>0</td>\n",
              "      <td>113167</td>\n",
              "      <td>23,083,971</td>\n",
              "      <td>98,296,907</td>\n",
              "    </tr>\n",
              "    <tr>\n",
              "      <th>18</th>\n",
              "      <td>E</td>\n",
              "      <td>수도, 폐기물처리 및 재활용서비스</td>\n",
              "      <td>124835</td>\n",
              "      <td>4239</td>\n",
              "      <td>394572</td>\n",
              "      <td>136581</td>\n",
              "      <td>680022</td>\n",
              "      <td>41734</td>\n",
              "      <td>1556732</td>\n",
              "      <td>448189</td>\n",
              "      <td>...</td>\n",
              "      <td>15,707,851</td>\n",
              "      <td>3,918,113</td>\n",
              "      <td>858870</td>\n",
              "      <td>0</td>\n",
              "      <td>0</td>\n",
              "      <td>0</td>\n",
              "      <td>0</td>\n",
              "      <td>46489</td>\n",
              "      <td>4,823,472</td>\n",
              "      <td>20,531,323</td>\n",
              "    </tr>\n",
              "    <tr>\n",
              "      <th>19</th>\n",
              "      <td>F</td>\n",
              "      <td>건설</td>\n",
              "      <td>143153</td>\n",
              "      <td>10822</td>\n",
              "      <td>61996</td>\n",
              "      <td>40180</td>\n",
              "      <td>31386</td>\n",
              "      <td>29683</td>\n",
              "      <td>189992</td>\n",
              "      <td>52526</td>\n",
              "      <td>...</td>\n",
              "      <td>11,557,932</td>\n",
              "      <td>0</td>\n",
              "      <td>0</td>\n",
              "      <td>148263819</td>\n",
              "      <td>56316316</td>\n",
              "      <td>1117535</td>\n",
              "      <td>0</td>\n",
              "      <td>412252</td>\n",
              "      <td>206109922</td>\n",
              "      <td>217,667,854</td>\n",
              "    </tr>\n",
              "    <tr>\n",
              "      <th>20</th>\n",
              "      <td>G</td>\n",
              "      <td>도소매 및 상품중개서비스</td>\n",
              "      <td>2004247</td>\n",
              "      <td>54387</td>\n",
              "      <td>7,919,570</td>\n",
              "      <td>4,577,965</td>\n",
              "      <td>1,921,812</td>\n",
              "      <td>937471</td>\n",
              "      <td>7,971,759</td>\n",
              "      <td>1,574,697</td>\n",
              "      <td>...</td>\n",
              "      <td>97,442,116</td>\n",
              "      <td>62340286</td>\n",
              "      <td>0</td>\n",
              "      <td>11226115</td>\n",
              "      <td>1450075</td>\n",
              "      <td>2057739</td>\n",
              "      <td>75305</td>\n",
              "      <td>12190043</td>\n",
              "      <td>89339563</td>\n",
              "      <td>186,781,679</td>\n",
              "    </tr>\n",
              "    <tr>\n",
              "      <th>21</th>\n",
              "      <td>H</td>\n",
              "      <td>운송서비스</td>\n",
              "      <td>708,215</td>\n",
              "      <td>484917</td>\n",
              "      <td>3,307,254</td>\n",
              "      <td>1,828,435</td>\n",
              "      <td>1,508,849</td>\n",
              "      <td>1,191,511</td>\n",
              "      <td>5,568,624</td>\n",
              "      <td>3,013,065</td>\n",
              "      <td>...</td>\n",
              "      <td>70,426,510</td>\n",
              "      <td>23,769,609</td>\n",
              "      <td>0</td>\n",
              "      <td>302604</td>\n",
              "      <td>46021</td>\n",
              "      <td>123410</td>\n",
              "      <td>1181</td>\n",
              "      <td>34662997</td>\n",
              "      <td>58,905,822</td>\n",
              "      <td>129,332,332</td>\n",
              "    </tr>\n",
              "    <tr>\n",
              "      <th>22</th>\n",
              "      <td>I</td>\n",
              "      <td>음식점 및 숙박서비스</td>\n",
              "      <td>264,110</td>\n",
              "      <td>41938</td>\n",
              "      <td>215,552</td>\n",
              "      <td>375,950</td>\n",
              "      <td>299,082</td>\n",
              "      <td>98,848</td>\n",
              "      <td>886,787</td>\n",
              "      <td>217,970</td>\n",
              "      <td>...</td>\n",
              "      <td>39,163,934</td>\n",
              "      <td>58,421,288</td>\n",
              "      <td>2369305</td>\n",
              "      <td>0</td>\n",
              "      <td>0</td>\n",
              "      <td>0</td>\n",
              "      <td>0</td>\n",
              "      <td>7438768</td>\n",
              "      <td>68,229,361</td>\n",
              "      <td>107,393,295</td>\n",
              "    </tr>\n",
              "    <tr>\n",
              "      <th>23</th>\n",
              "      <td>J</td>\n",
              "      <td>정보통신 및 방송 서비스</td>\n",
              "      <td>124,173</td>\n",
              "      <td>8227</td>\n",
              "      <td>166,653</td>\n",
              "      <td>161,730</td>\n",
              "      <td>157,457</td>\n",
              "      <td>194,495</td>\n",
              "      <td>365,794</td>\n",
              "      <td>140278</td>\n",
              "      <td>...</td>\n",
              "      <td>59,071,495</td>\n",
              "      <td>26,949,517</td>\n",
              "      <td>0</td>\n",
              "      <td>20,500,196</td>\n",
              "      <td>265,037</td>\n",
              "      <td>93,982</td>\n",
              "      <td>0</td>\n",
              "      <td>2692082</td>\n",
              "      <td>50,500,814</td>\n",
              "      <td>109,572,309</td>\n",
              "    </tr>\n",
              "    <tr>\n",
              "      <th>24</th>\n",
              "      <td>K</td>\n",
              "      <td>금융 및 보험 서비스</td>\n",
              "      <td>982,959</td>\n",
              "      <td>151,186</td>\n",
              "      <td>873,290</td>\n",
              "      <td>834,240</td>\n",
              "      <td>587,497</td>\n",
              "      <td>231,801</td>\n",
              "      <td>1,731,785</td>\n",
              "      <td>542,513</td>\n",
              "      <td>...</td>\n",
              "      <td>75,845,692</td>\n",
              "      <td>51,787,437</td>\n",
              "      <td>0</td>\n",
              "      <td>0</td>\n",
              "      <td>0</td>\n",
              "      <td>0</td>\n",
              "      <td>0</td>\n",
              "      <td>2715872</td>\n",
              "      <td>54,503,309</td>\n",
              "      <td>130,349,001</td>\n",
              "    </tr>\n",
              "    <tr>\n",
              "      <th>25</th>\n",
              "      <td>L</td>\n",
              "      <td>부동산서비스</td>\n",
              "      <td>45646</td>\n",
              "      <td>9722</td>\n",
              "      <td>311,477</td>\n",
              "      <td>611,674</td>\n",
              "      <td>185,119</td>\n",
              "      <td>65,022</td>\n",
              "      <td>342,040</td>\n",
              "      <td>81802</td>\n",
              "      <td>...</td>\n",
              "      <td>37,493,819</td>\n",
              "      <td>101,995,076</td>\n",
              "      <td>0</td>\n",
              "      <td>19531319</td>\n",
              "      <td>17661</td>\n",
              "      <td>0</td>\n",
              "      <td>0</td>\n",
              "      <td>643305</td>\n",
              "      <td>122,187,361</td>\n",
              "      <td>159,681,180</td>\n",
              "    </tr>\n",
              "    <tr>\n",
              "      <th>26</th>\n",
              "      <td>M</td>\n",
              "      <td>전문, 과학 및 기술 서비스</td>\n",
              "      <td>317,836</td>\n",
              "      <td>77676</td>\n",
              "      <td>3,162,621</td>\n",
              "      <td>2,948,125</td>\n",
              "      <td>1,096,031</td>\n",
              "      <td>816,142</td>\n",
              "      <td>7,994,648</td>\n",
              "      <td>1,223,243</td>\n",
              "      <td>...</td>\n",
              "      <td>90,508,057</td>\n",
              "      <td>2,091,644</td>\n",
              "      <td>0</td>\n",
              "      <td>37,740,717</td>\n",
              "      <td>8584750</td>\n",
              "      <td>0</td>\n",
              "      <td>0</td>\n",
              "      <td>8345772</td>\n",
              "      <td>56,762,883</td>\n",
              "      <td>147,270,940</td>\n",
              "    </tr>\n",
              "    <tr>\n",
              "      <th>27</th>\n",
              "      <td>N</td>\n",
              "      <td>사업지원서비스</td>\n",
              "      <td>66,840</td>\n",
              "      <td>67014</td>\n",
              "      <td>184,979</td>\n",
              "      <td>305,966</td>\n",
              "      <td>213,970</td>\n",
              "      <td>151,109</td>\n",
              "      <td>506,794</td>\n",
              "      <td>130,598</td>\n",
              "      <td>...</td>\n",
              "      <td>44,609,838</td>\n",
              "      <td>4,831,941</td>\n",
              "      <td>0</td>\n",
              "      <td>0</td>\n",
              "      <td>0</td>\n",
              "      <td>0</td>\n",
              "      <td>0</td>\n",
              "      <td>6723905</td>\n",
              "      <td>11,555,846</td>\n",
              "      <td>56,165,684</td>\n",
              "    </tr>\n",
              "    <tr>\n",
              "      <th>28</th>\n",
              "      <td>O</td>\n",
              "      <td>공공행정, 국방 및 사회보장</td>\n",
              "      <td>208</td>\n",
              "      <td>290</td>\n",
              "      <td>7908</td>\n",
              "      <td>5861</td>\n",
              "      <td>5713</td>\n",
              "      <td>254</td>\n",
              "      <td>10537</td>\n",
              "      <td>3022</td>\n",
              "      <td>...</td>\n",
              "      <td>689,252</td>\n",
              "      <td>971,017</td>\n",
              "      <td>98739354</td>\n",
              "      <td>0</td>\n",
              "      <td>0</td>\n",
              "      <td>0</td>\n",
              "      <td>0</td>\n",
              "      <td>25210</td>\n",
              "      <td>99,735,581</td>\n",
              "      <td>100,424,833</td>\n",
              "    </tr>\n",
              "    <tr>\n",
              "      <th>29</th>\n",
              "      <td>P</td>\n",
              "      <td>교육서비스</td>\n",
              "      <td>3,244</td>\n",
              "      <td>368</td>\n",
              "      <td>18181</td>\n",
              "      <td>17374</td>\n",
              "      <td>17844</td>\n",
              "      <td>43982</td>\n",
              "      <td>63,975</td>\n",
              "      <td>11974</td>\n",
              "      <td>...</td>\n",
              "      <td>1,803,323</td>\n",
              "      <td>55,943,179</td>\n",
              "      <td>48538879</td>\n",
              "      <td>0</td>\n",
              "      <td>0</td>\n",
              "      <td>0</td>\n",
              "      <td>0</td>\n",
              "      <td>488404</td>\n",
              "      <td>104,970,462</td>\n",
              "      <td>106,773,785</td>\n",
              "    </tr>\n",
              "    <tr>\n",
              "      <th>30</th>\n",
              "      <td>Q</td>\n",
              "      <td>보건 및 사회복지 서비스</td>\n",
              "      <td>69,346</td>\n",
              "      <td>3365</td>\n",
              "      <td>38802</td>\n",
              "      <td>26567</td>\n",
              "      <td>16182</td>\n",
              "      <td>2664</td>\n",
              "      <td>58192</td>\n",
              "      <td>16589</td>\n",
              "      <td>...</td>\n",
              "      <td>2,932,580</td>\n",
              "      <td>33,499,623</td>\n",
              "      <td>55022698</td>\n",
              "      <td>0</td>\n",
              "      <td>0</td>\n",
              "      <td>0</td>\n",
              "      <td>0</td>\n",
              "      <td>79854</td>\n",
              "      <td>88,602,175</td>\n",
              "      <td>91,534,755</td>\n",
              "    </tr>\n",
              "    <tr>\n",
              "      <th>31</th>\n",
              "      <td>R</td>\n",
              "      <td>예술, 스포츠 및 여가 관련 서비스</td>\n",
              "      <td>32,130</td>\n",
              "      <td>5887</td>\n",
              "      <td>53,974</td>\n",
              "      <td>101,562</td>\n",
              "      <td>57,541</td>\n",
              "      <td>16,746</td>\n",
              "      <td>185,306</td>\n",
              "      <td>35,683</td>\n",
              "      <td>...</td>\n",
              "      <td>8,947,134</td>\n",
              "      <td>26,578,196</td>\n",
              "      <td>2333080</td>\n",
              "      <td>677482</td>\n",
              "      <td>0</td>\n",
              "      <td>0</td>\n",
              "      <td>12560</td>\n",
              "      <td>1654190</td>\n",
              "      <td>31,255,508</td>\n",
              "      <td>40,202,642</td>\n",
              "    </tr>\n",
              "    <tr>\n",
              "      <th>32</th>\n",
              "      <td>S</td>\n",
              "      <td>기타 서비스</td>\n",
              "      <td>69046</td>\n",
              "      <td>7415</td>\n",
              "      <td>74444</td>\n",
              "      <td>71302</td>\n",
              "      <td>48818</td>\n",
              "      <td>45,233</td>\n",
              "      <td>156,659</td>\n",
              "      <td>81637</td>\n",
              "      <td>...</td>\n",
              "      <td>10,346,367</td>\n",
              "      <td>34,239,836</td>\n",
              "      <td>0</td>\n",
              "      <td>10,265</td>\n",
              "      <td>8677</td>\n",
              "      <td>0</td>\n",
              "      <td>0</td>\n",
              "      <td>313895</td>\n",
              "      <td>34,572,673</td>\n",
              "      <td>44,919,040</td>\n",
              "    </tr>\n",
              "    <tr>\n",
              "      <th>33</th>\n",
              "      <td>9590</td>\n",
              "      <td>중간투입계</td>\n",
              "      <td>26,247,955</td>\n",
              "      <td>1,616,238</td>\n",
              "      <td>63,686,371</td>\n",
              "      <td>41,644,306</td>\n",
              "      <td>21,922,547</td>\n",
              "      <td>8,936,965</td>\n",
              "      <td>97,530,191</td>\n",
              "      <td>20,353,588</td>\n",
              "      <td>...</td>\n",
              "      <td>1,445,753,870</td>\n",
              "      <td>652,671,456</td>\n",
              "      <td>207862186</td>\n",
              "      <td>295,662,079</td>\n",
              "      <td>73,187,649</td>\n",
              "      <td>25,028,318</td>\n",
              "      <td>817,189</td>\n",
              "      <td>535858572</td>\n",
              "      <td>1,791,087,449</td>\n",
              "      <td>3,236,841,319</td>\n",
              "    </tr>\n",
              "  </tbody>\n",
              "</table>\n",
              "<p>34 rows × 44 columns</p>\n",
              "</div>\n",
              "      <button class=\"colab-df-convert\" onclick=\"convertToInteractive('df-1c9a2836-751a-4fac-b6c9-fcd7c2eb73cd')\"\n",
              "              title=\"Convert this dataframe to an interactive table.\"\n",
              "              style=\"display:none;\">\n",
              "        \n",
              "  <svg xmlns=\"http://www.w3.org/2000/svg\" height=\"24px\"viewBox=\"0 0 24 24\"\n",
              "       width=\"24px\">\n",
              "    <path d=\"M0 0h24v24H0V0z\" fill=\"none\"/>\n",
              "    <path d=\"M18.56 5.44l.94 2.06.94-2.06 2.06-.94-2.06-.94-.94-2.06-.94 2.06-2.06.94zm-11 1L8.5 8.5l.94-2.06 2.06-.94-2.06-.94L8.5 2.5l-.94 2.06-2.06.94zm10 10l.94 2.06.94-2.06 2.06-.94-2.06-.94-.94-2.06-.94 2.06-2.06.94z\"/><path d=\"M17.41 7.96l-1.37-1.37c-.4-.4-.92-.59-1.43-.59-.52 0-1.04.2-1.43.59L10.3 9.45l-7.72 7.72c-.78.78-.78 2.05 0 2.83L4 21.41c.39.39.9.59 1.41.59.51 0 1.02-.2 1.41-.59l7.78-7.78 2.81-2.81c.8-.78.8-2.07 0-2.86zM5.41 20L4 18.59l7.72-7.72 1.47 1.35L5.41 20z\"/>\n",
              "  </svg>\n",
              "      </button>\n",
              "      \n",
              "  <style>\n",
              "    .colab-df-container {\n",
              "      display:flex;\n",
              "      flex-wrap:wrap;\n",
              "      gap: 12px;\n",
              "    }\n",
              "\n",
              "    .colab-df-convert {\n",
              "      background-color: #E8F0FE;\n",
              "      border: none;\n",
              "      border-radius: 50%;\n",
              "      cursor: pointer;\n",
              "      display: none;\n",
              "      fill: #1967D2;\n",
              "      height: 32px;\n",
              "      padding: 0 0 0 0;\n",
              "      width: 32px;\n",
              "    }\n",
              "\n",
              "    .colab-df-convert:hover {\n",
              "      background-color: #E2EBFA;\n",
              "      box-shadow: 0px 1px 2px rgba(60, 64, 67, 0.3), 0px 1px 3px 1px rgba(60, 64, 67, 0.15);\n",
              "      fill: #174EA6;\n",
              "    }\n",
              "\n",
              "    [theme=dark] .colab-df-convert {\n",
              "      background-color: #3B4455;\n",
              "      fill: #D2E3FC;\n",
              "    }\n",
              "\n",
              "    [theme=dark] .colab-df-convert:hover {\n",
              "      background-color: #434B5C;\n",
              "      box-shadow: 0px 1px 3px 1px rgba(0, 0, 0, 0.15);\n",
              "      filter: drop-shadow(0px 1px 2px rgba(0, 0, 0, 0.3));\n",
              "      fill: #FFFFFF;\n",
              "    }\n",
              "  </style>\n",
              "\n",
              "      <script>\n",
              "        const buttonEl =\n",
              "          document.querySelector('#df-1c9a2836-751a-4fac-b6c9-fcd7c2eb73cd button.colab-df-convert');\n",
              "        buttonEl.style.display =\n",
              "          google.colab.kernel.accessAllowed ? 'block' : 'none';\n",
              "\n",
              "        async function convertToInteractive(key) {\n",
              "          const element = document.querySelector('#df-1c9a2836-751a-4fac-b6c9-fcd7c2eb73cd');\n",
              "          const dataTable =\n",
              "            await google.colab.kernel.invokeFunction('convertToInteractive',\n",
              "                                                     [key], {});\n",
              "          if (!dataTable) return;\n",
              "\n",
              "          const docLinkHtml = 'Like what you see? Visit the ' +\n",
              "            '<a target=\"_blank\" href=https://colab.research.google.com/notebooks/data_table.ipynb>data table notebook</a>'\n",
              "            + ' to learn more about interactive tables.';\n",
              "          element.innerHTML = '';\n",
              "          dataTable['output_type'] = 'display_data';\n",
              "          await google.colab.output.renderOutput(dataTable, element);\n",
              "          const docLink = document.createElement('div');\n",
              "          docLink.innerHTML = docLinkHtml;\n",
              "          element.appendChild(docLink);\n",
              "        }\n",
              "      </script>\n",
              "    </div>\n",
              "  </div>\n",
              "  "
            ]
          },
          "metadata": {},
          "execution_count": 101
        }
      ]
    },
    {
      "cell_type": "code",
      "source": [],
      "metadata": {
        "id": "y8dIDFxvGyjf"
      },
      "execution_count": 80,
      "outputs": []
    }
  ]
}