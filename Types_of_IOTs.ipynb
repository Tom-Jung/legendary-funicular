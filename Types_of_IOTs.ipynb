{
  "nbformat": 4,
  "nbformat_minor": 0,
  "metadata": {
    "colab": {
      "provenance": [],
      "mount_file_id": "https://github.com/Tom-Jung/legendary-funicular/blob/main/IO_tables.ipynb",
      "authorship_tag": "ABX9TyP6DK38heNgANtRda4+/pME",
      "include_colab_link": true
    },
    "kernelspec": {
      "name": "python3",
      "display_name": "Python 3"
    },
    "language_info": {
      "name": "python"
    }
  },
  "cells": [
    {
      "cell_type": "markdown",
      "metadata": {
        "id": "view-in-github",
        "colab_type": "text"
      },
      "source": [
        "<a href=\"https://colab.research.google.com/github/Tom-Jung/legendary-funicular/blob/main/Types_of_IOTs.ipynb\" target=\"_parent\"><img src=\"https://colab.research.google.com/assets/colab-badge.svg\" alt=\"Open In Colab\"/></a>"
      ]
    },
    {
      "cell_type": "code",
      "source": [
        "import numpy as np   # Numpy import\n",
        "import pandas as pd  # Pandas import"
      ],
      "metadata": {
        "id": "TR7JvW8CxBFT"
      },
      "execution_count": 1,
      "outputs": []
    },
    {
      "cell_type": "markdown",
      "source": [
        "## 산업연관표의 종류\n"
      ],
      "metadata": {
        "id": "Ja1OCBr1_w2z"
      }
    },
    {
      "cell_type": "markdown",
      "source": [
        "#### Github에 저장되어 있는 연습용 3부문 거래표 불러오기"
      ],
      "metadata": {
        "id": "YtzqobQWrRbM"
      }
    },
    {
      "cell_type": "code",
      "source": [
        "url_total = \"https://raw.githubusercontent.com/Tom-Jung/legendary-funicular/main/Total_3_secs_one_va.csv\"  # 총거래표\n",
        "Tot = pd.read_csv(url_total)"
      ],
      "metadata": {
        "id": "1-cypvlPA0Tu"
      },
      "execution_count": 2,
      "outputs": []
    },
    {
      "cell_type": "code",
      "source": [
        "Tot  # 총거래표 불러오기 확인"
      ],
      "metadata": {
        "colab": {
          "base_uri": "https://localhost:8080/",
          "height": 238
        },
        "id": "rtqZunX0walG",
        "outputId": "9e619e01-ec2d-45c6-e707-200317015904"
      },
      "execution_count": 3,
      "outputs": [
        {
          "output_type": "execute_result",
          "data": {
            "text/plain": [
              "      부문  농산품  공산품  서비스  중간수요계   소비  투자  수출  최종수요계  총수요계  총산출액  수입  총공급액\n",
              "0    농산품    2   14    4     20    3   3   2      8    28    14  14    28\n",
              "1    공산품    5   94   39    138   32  19  73    124   262   203  59   262\n",
              "2    서비스    2   28   58     88  106  47  15    168   256   244  12   256\n",
              "3  중간투입계    9  136  101    246  141  69  90    300   546   461  85   546\n",
              "4   부가가치    5   67  143    215    0   0   0      0     0     0   0     0\n",
              "5   총투입계   14  203  244    461    0   0   0      0     0     0   0     0"
            ],
            "text/html": [
              "\n",
              "  <div id=\"df-a314f196-e4fb-47a1-9619-59cf238ccbf6\">\n",
              "    <div class=\"colab-df-container\">\n",
              "      <div>\n",
              "<style scoped>\n",
              "    .dataframe tbody tr th:only-of-type {\n",
              "        vertical-align: middle;\n",
              "    }\n",
              "\n",
              "    .dataframe tbody tr th {\n",
              "        vertical-align: top;\n",
              "    }\n",
              "\n",
              "    .dataframe thead th {\n",
              "        text-align: right;\n",
              "    }\n",
              "</style>\n",
              "<table border=\"1\" class=\"dataframe\">\n",
              "  <thead>\n",
              "    <tr style=\"text-align: right;\">\n",
              "      <th></th>\n",
              "      <th>부문</th>\n",
              "      <th>농산품</th>\n",
              "      <th>공산품</th>\n",
              "      <th>서비스</th>\n",
              "      <th>중간수요계</th>\n",
              "      <th>소비</th>\n",
              "      <th>투자</th>\n",
              "      <th>수출</th>\n",
              "      <th>최종수요계</th>\n",
              "      <th>총수요계</th>\n",
              "      <th>총산출액</th>\n",
              "      <th>수입</th>\n",
              "      <th>총공급액</th>\n",
              "    </tr>\n",
              "  </thead>\n",
              "  <tbody>\n",
              "    <tr>\n",
              "      <th>0</th>\n",
              "      <td>농산품</td>\n",
              "      <td>2</td>\n",
              "      <td>14</td>\n",
              "      <td>4</td>\n",
              "      <td>20</td>\n",
              "      <td>3</td>\n",
              "      <td>3</td>\n",
              "      <td>2</td>\n",
              "      <td>8</td>\n",
              "      <td>28</td>\n",
              "      <td>14</td>\n",
              "      <td>14</td>\n",
              "      <td>28</td>\n",
              "    </tr>\n",
              "    <tr>\n",
              "      <th>1</th>\n",
              "      <td>공산품</td>\n",
              "      <td>5</td>\n",
              "      <td>94</td>\n",
              "      <td>39</td>\n",
              "      <td>138</td>\n",
              "      <td>32</td>\n",
              "      <td>19</td>\n",
              "      <td>73</td>\n",
              "      <td>124</td>\n",
              "      <td>262</td>\n",
              "      <td>203</td>\n",
              "      <td>59</td>\n",
              "      <td>262</td>\n",
              "    </tr>\n",
              "    <tr>\n",
              "      <th>2</th>\n",
              "      <td>서비스</td>\n",
              "      <td>2</td>\n",
              "      <td>28</td>\n",
              "      <td>58</td>\n",
              "      <td>88</td>\n",
              "      <td>106</td>\n",
              "      <td>47</td>\n",
              "      <td>15</td>\n",
              "      <td>168</td>\n",
              "      <td>256</td>\n",
              "      <td>244</td>\n",
              "      <td>12</td>\n",
              "      <td>256</td>\n",
              "    </tr>\n",
              "    <tr>\n",
              "      <th>3</th>\n",
              "      <td>중간투입계</td>\n",
              "      <td>9</td>\n",
              "      <td>136</td>\n",
              "      <td>101</td>\n",
              "      <td>246</td>\n",
              "      <td>141</td>\n",
              "      <td>69</td>\n",
              "      <td>90</td>\n",
              "      <td>300</td>\n",
              "      <td>546</td>\n",
              "      <td>461</td>\n",
              "      <td>85</td>\n",
              "      <td>546</td>\n",
              "    </tr>\n",
              "    <tr>\n",
              "      <th>4</th>\n",
              "      <td>부가가치</td>\n",
              "      <td>5</td>\n",
              "      <td>67</td>\n",
              "      <td>143</td>\n",
              "      <td>215</td>\n",
              "      <td>0</td>\n",
              "      <td>0</td>\n",
              "      <td>0</td>\n",
              "      <td>0</td>\n",
              "      <td>0</td>\n",
              "      <td>0</td>\n",
              "      <td>0</td>\n",
              "      <td>0</td>\n",
              "    </tr>\n",
              "    <tr>\n",
              "      <th>5</th>\n",
              "      <td>총투입계</td>\n",
              "      <td>14</td>\n",
              "      <td>203</td>\n",
              "      <td>244</td>\n",
              "      <td>461</td>\n",
              "      <td>0</td>\n",
              "      <td>0</td>\n",
              "      <td>0</td>\n",
              "      <td>0</td>\n",
              "      <td>0</td>\n",
              "      <td>0</td>\n",
              "      <td>0</td>\n",
              "      <td>0</td>\n",
              "    </tr>\n",
              "  </tbody>\n",
              "</table>\n",
              "</div>\n",
              "      <button class=\"colab-df-convert\" onclick=\"convertToInteractive('df-a314f196-e4fb-47a1-9619-59cf238ccbf6')\"\n",
              "              title=\"Convert this dataframe to an interactive table.\"\n",
              "              style=\"display:none;\">\n",
              "        \n",
              "  <svg xmlns=\"http://www.w3.org/2000/svg\" height=\"24px\"viewBox=\"0 0 24 24\"\n",
              "       width=\"24px\">\n",
              "    <path d=\"M0 0h24v24H0V0z\" fill=\"none\"/>\n",
              "    <path d=\"M18.56 5.44l.94 2.06.94-2.06 2.06-.94-2.06-.94-.94-2.06-.94 2.06-2.06.94zm-11 1L8.5 8.5l.94-2.06 2.06-.94-2.06-.94L8.5 2.5l-.94 2.06-2.06.94zm10 10l.94 2.06.94-2.06 2.06-.94-2.06-.94-.94-2.06-.94 2.06-2.06.94z\"/><path d=\"M17.41 7.96l-1.37-1.37c-.4-.4-.92-.59-1.43-.59-.52 0-1.04.2-1.43.59L10.3 9.45l-7.72 7.72c-.78.78-.78 2.05 0 2.83L4 21.41c.39.39.9.59 1.41.59.51 0 1.02-.2 1.41-.59l7.78-7.78 2.81-2.81c.8-.78.8-2.07 0-2.86zM5.41 20L4 18.59l7.72-7.72 1.47 1.35L5.41 20z\"/>\n",
              "  </svg>\n",
              "      </button>\n",
              "      \n",
              "  <style>\n",
              "    .colab-df-container {\n",
              "      display:flex;\n",
              "      flex-wrap:wrap;\n",
              "      gap: 12px;\n",
              "    }\n",
              "\n",
              "    .colab-df-convert {\n",
              "      background-color: #E8F0FE;\n",
              "      border: none;\n",
              "      border-radius: 50%;\n",
              "      cursor: pointer;\n",
              "      display: none;\n",
              "      fill: #1967D2;\n",
              "      height: 32px;\n",
              "      padding: 0 0 0 0;\n",
              "      width: 32px;\n",
              "    }\n",
              "\n",
              "    .colab-df-convert:hover {\n",
              "      background-color: #E2EBFA;\n",
              "      box-shadow: 0px 1px 2px rgba(60, 64, 67, 0.3), 0px 1px 3px 1px rgba(60, 64, 67, 0.15);\n",
              "      fill: #174EA6;\n",
              "    }\n",
              "\n",
              "    [theme=dark] .colab-df-convert {\n",
              "      background-color: #3B4455;\n",
              "      fill: #D2E3FC;\n",
              "    }\n",
              "\n",
              "    [theme=dark] .colab-df-convert:hover {\n",
              "      background-color: #434B5C;\n",
              "      box-shadow: 0px 1px 3px 1px rgba(0, 0, 0, 0.15);\n",
              "      filter: drop-shadow(0px 1px 2px rgba(0, 0, 0, 0.3));\n",
              "      fill: #FFFFFF;\n",
              "    }\n",
              "  </style>\n",
              "\n",
              "      <script>\n",
              "        const buttonEl =\n",
              "          document.querySelector('#df-a314f196-e4fb-47a1-9619-59cf238ccbf6 button.colab-df-convert');\n",
              "        buttonEl.style.display =\n",
              "          google.colab.kernel.accessAllowed ? 'block' : 'none';\n",
              "\n",
              "        async function convertToInteractive(key) {\n",
              "          const element = document.querySelector('#df-a314f196-e4fb-47a1-9619-59cf238ccbf6');\n",
              "          const dataTable =\n",
              "            await google.colab.kernel.invokeFunction('convertToInteractive',\n",
              "                                                     [key], {});\n",
              "          if (!dataTable) return;\n",
              "\n",
              "          const docLinkHtml = 'Like what you see? Visit the ' +\n",
              "            '<a target=\"_blank\" href=https://colab.research.google.com/notebooks/data_table.ipynb>data table notebook</a>'\n",
              "            + ' to learn more about interactive tables.';\n",
              "          element.innerHTML = '';\n",
              "          dataTable['output_type'] = 'display_data';\n",
              "          await google.colab.output.renderOutput(dataTable, element);\n",
              "          const docLink = document.createElement('div');\n",
              "          docLink.innerHTML = docLinkHtml;\n",
              "          element.appendChild(docLink);\n",
              "        }\n",
              "      </script>\n",
              "    </div>\n",
              "  </div>\n",
              "  "
            ]
          },
          "metadata": {},
          "execution_count": 3
        }
      ]
    },
    {
      "cell_type": "code",
      "source": [
        "url_dom = \"https://raw.githubusercontent.com/Tom-Jung/legendary-funicular/main/Domestic_3_secs.csv\"   # 국산거래표\n",
        "Dom = pd.read_csv(url_dom)"
      ],
      "metadata": {
        "id": "FKASTpXRA0Ld"
      },
      "execution_count": 4,
      "outputs": []
    },
    {
      "cell_type": "code",
      "source": [
        "Dom  # 국산거래표 불러오기 확인"
      ],
      "metadata": {
        "id": "Taf8fWrGA0Gu",
        "colab": {
          "base_uri": "https://localhost:8080/",
          "height": 175
        },
        "outputId": "33ce94ce-904b-4020-ae67-3ffe28c82a8e"
      },
      "execution_count": 5,
      "outputs": [
        {
          "output_type": "execute_result",
          "data": {
            "text/plain": [
              "      부문  농산품  공산품  서비스  중간수요계   소비  투자  수출  최종수요계  총수요계\n",
              "0    농산품    1    7    1      9    1   2   2      5    14\n",
              "1    공산품    4   61   29     94   26  13  70    109   203\n",
              "2    서비스    1   26   52     79  104  46  15    165   244\n",
              "3  중간투입계    6   94   82    182  131  61  87    279   461"
            ],
            "text/html": [
              "\n",
              "  <div id=\"df-2d1919ce-3d28-4a5a-8d34-6d1128a68774\">\n",
              "    <div class=\"colab-df-container\">\n",
              "      <div>\n",
              "<style scoped>\n",
              "    .dataframe tbody tr th:only-of-type {\n",
              "        vertical-align: middle;\n",
              "    }\n",
              "\n",
              "    .dataframe tbody tr th {\n",
              "        vertical-align: top;\n",
              "    }\n",
              "\n",
              "    .dataframe thead th {\n",
              "        text-align: right;\n",
              "    }\n",
              "</style>\n",
              "<table border=\"1\" class=\"dataframe\">\n",
              "  <thead>\n",
              "    <tr style=\"text-align: right;\">\n",
              "      <th></th>\n",
              "      <th>부문</th>\n",
              "      <th>농산품</th>\n",
              "      <th>공산품</th>\n",
              "      <th>서비스</th>\n",
              "      <th>중간수요계</th>\n",
              "      <th>소비</th>\n",
              "      <th>투자</th>\n",
              "      <th>수출</th>\n",
              "      <th>최종수요계</th>\n",
              "      <th>총수요계</th>\n",
              "    </tr>\n",
              "  </thead>\n",
              "  <tbody>\n",
              "    <tr>\n",
              "      <th>0</th>\n",
              "      <td>농산품</td>\n",
              "      <td>1</td>\n",
              "      <td>7</td>\n",
              "      <td>1</td>\n",
              "      <td>9</td>\n",
              "      <td>1</td>\n",
              "      <td>2</td>\n",
              "      <td>2</td>\n",
              "      <td>5</td>\n",
              "      <td>14</td>\n",
              "    </tr>\n",
              "    <tr>\n",
              "      <th>1</th>\n",
              "      <td>공산품</td>\n",
              "      <td>4</td>\n",
              "      <td>61</td>\n",
              "      <td>29</td>\n",
              "      <td>94</td>\n",
              "      <td>26</td>\n",
              "      <td>13</td>\n",
              "      <td>70</td>\n",
              "      <td>109</td>\n",
              "      <td>203</td>\n",
              "    </tr>\n",
              "    <tr>\n",
              "      <th>2</th>\n",
              "      <td>서비스</td>\n",
              "      <td>1</td>\n",
              "      <td>26</td>\n",
              "      <td>52</td>\n",
              "      <td>79</td>\n",
              "      <td>104</td>\n",
              "      <td>46</td>\n",
              "      <td>15</td>\n",
              "      <td>165</td>\n",
              "      <td>244</td>\n",
              "    </tr>\n",
              "    <tr>\n",
              "      <th>3</th>\n",
              "      <td>중간투입계</td>\n",
              "      <td>6</td>\n",
              "      <td>94</td>\n",
              "      <td>82</td>\n",
              "      <td>182</td>\n",
              "      <td>131</td>\n",
              "      <td>61</td>\n",
              "      <td>87</td>\n",
              "      <td>279</td>\n",
              "      <td>461</td>\n",
              "    </tr>\n",
              "  </tbody>\n",
              "</table>\n",
              "</div>\n",
              "      <button class=\"colab-df-convert\" onclick=\"convertToInteractive('df-2d1919ce-3d28-4a5a-8d34-6d1128a68774')\"\n",
              "              title=\"Convert this dataframe to an interactive table.\"\n",
              "              style=\"display:none;\">\n",
              "        \n",
              "  <svg xmlns=\"http://www.w3.org/2000/svg\" height=\"24px\"viewBox=\"0 0 24 24\"\n",
              "       width=\"24px\">\n",
              "    <path d=\"M0 0h24v24H0V0z\" fill=\"none\"/>\n",
              "    <path d=\"M18.56 5.44l.94 2.06.94-2.06 2.06-.94-2.06-.94-.94-2.06-.94 2.06-2.06.94zm-11 1L8.5 8.5l.94-2.06 2.06-.94-2.06-.94L8.5 2.5l-.94 2.06-2.06.94zm10 10l.94 2.06.94-2.06 2.06-.94-2.06-.94-.94-2.06-.94 2.06-2.06.94z\"/><path d=\"M17.41 7.96l-1.37-1.37c-.4-.4-.92-.59-1.43-.59-.52 0-1.04.2-1.43.59L10.3 9.45l-7.72 7.72c-.78.78-.78 2.05 0 2.83L4 21.41c.39.39.9.59 1.41.59.51 0 1.02-.2 1.41-.59l7.78-7.78 2.81-2.81c.8-.78.8-2.07 0-2.86zM5.41 20L4 18.59l7.72-7.72 1.47 1.35L5.41 20z\"/>\n",
              "  </svg>\n",
              "      </button>\n",
              "      \n",
              "  <style>\n",
              "    .colab-df-container {\n",
              "      display:flex;\n",
              "      flex-wrap:wrap;\n",
              "      gap: 12px;\n",
              "    }\n",
              "\n",
              "    .colab-df-convert {\n",
              "      background-color: #E8F0FE;\n",
              "      border: none;\n",
              "      border-radius: 50%;\n",
              "      cursor: pointer;\n",
              "      display: none;\n",
              "      fill: #1967D2;\n",
              "      height: 32px;\n",
              "      padding: 0 0 0 0;\n",
              "      width: 32px;\n",
              "    }\n",
              "\n",
              "    .colab-df-convert:hover {\n",
              "      background-color: #E2EBFA;\n",
              "      box-shadow: 0px 1px 2px rgba(60, 64, 67, 0.3), 0px 1px 3px 1px rgba(60, 64, 67, 0.15);\n",
              "      fill: #174EA6;\n",
              "    }\n",
              "\n",
              "    [theme=dark] .colab-df-convert {\n",
              "      background-color: #3B4455;\n",
              "      fill: #D2E3FC;\n",
              "    }\n",
              "\n",
              "    [theme=dark] .colab-df-convert:hover {\n",
              "      background-color: #434B5C;\n",
              "      box-shadow: 0px 1px 3px 1px rgba(0, 0, 0, 0.15);\n",
              "      filter: drop-shadow(0px 1px 2px rgba(0, 0, 0, 0.3));\n",
              "      fill: #FFFFFF;\n",
              "    }\n",
              "  </style>\n",
              "\n",
              "      <script>\n",
              "        const buttonEl =\n",
              "          document.querySelector('#df-2d1919ce-3d28-4a5a-8d34-6d1128a68774 button.colab-df-convert');\n",
              "        buttonEl.style.display =\n",
              "          google.colab.kernel.accessAllowed ? 'block' : 'none';\n",
              "\n",
              "        async function convertToInteractive(key) {\n",
              "          const element = document.querySelector('#df-2d1919ce-3d28-4a5a-8d34-6d1128a68774');\n",
              "          const dataTable =\n",
              "            await google.colab.kernel.invokeFunction('convertToInteractive',\n",
              "                                                     [key], {});\n",
              "          if (!dataTable) return;\n",
              "\n",
              "          const docLinkHtml = 'Like what you see? Visit the ' +\n",
              "            '<a target=\"_blank\" href=https://colab.research.google.com/notebooks/data_table.ipynb>data table notebook</a>'\n",
              "            + ' to learn more about interactive tables.';\n",
              "          element.innerHTML = '';\n",
              "          dataTable['output_type'] = 'display_data';\n",
              "          await google.colab.output.renderOutput(dataTable, element);\n",
              "          const docLink = document.createElement('div');\n",
              "          docLink.innerHTML = docLinkHtml;\n",
              "          element.appendChild(docLink);\n",
              "        }\n",
              "      </script>\n",
              "    </div>\n",
              "  </div>\n",
              "  "
            ]
          },
          "metadata": {},
          "execution_count": 5
        }
      ]
    },
    {
      "cell_type": "code",
      "source": [
        "url_imp = \"https://raw.githubusercontent.com/Tom-Jung/legendary-funicular/main/Import_3_secs.csv\"   # 수입거래표\n",
        "Imp = pd.read_csv(url_imp)"
      ],
      "metadata": {
        "id": "0piOpTEytvGw"
      },
      "execution_count": 6,
      "outputs": []
    },
    {
      "cell_type": "code",
      "source": [
        "Imp  # 수입거래표 불러오기 확인"
      ],
      "metadata": {
        "id": "K3VHa2z8tvJv",
        "outputId": "4d3d9225-4bfe-424d-84f3-58f5e65c42d5",
        "colab": {
          "base_uri": "https://localhost:8080/",
          "height": 175
        }
      },
      "execution_count": 7,
      "outputs": [
        {
          "output_type": "execute_result",
          "data": {
            "text/plain": [
              "      부문  농산품  공산품  서비스  중간수요계  소비  투자  수출  최종수요계  총수요계\n",
              "0    농산품    1    7    3     11   2   1   0      3    14\n",
              "1    공산품    1   33   10     44   6   6   3     15    59\n",
              "2    서비스    1    2    6      9   2   1   0      3    12\n",
              "3  중간투입계    3   42   19     64  10   8   3     21    85"
            ],
            "text/html": [
              "\n",
              "  <div id=\"df-c23b4d2d-6c62-4d1b-bb1a-9bdc7646875d\">\n",
              "    <div class=\"colab-df-container\">\n",
              "      <div>\n",
              "<style scoped>\n",
              "    .dataframe tbody tr th:only-of-type {\n",
              "        vertical-align: middle;\n",
              "    }\n",
              "\n",
              "    .dataframe tbody tr th {\n",
              "        vertical-align: top;\n",
              "    }\n",
              "\n",
              "    .dataframe thead th {\n",
              "        text-align: right;\n",
              "    }\n",
              "</style>\n",
              "<table border=\"1\" class=\"dataframe\">\n",
              "  <thead>\n",
              "    <tr style=\"text-align: right;\">\n",
              "      <th></th>\n",
              "      <th>부문</th>\n",
              "      <th>농산품</th>\n",
              "      <th>공산품</th>\n",
              "      <th>서비스</th>\n",
              "      <th>중간수요계</th>\n",
              "      <th>소비</th>\n",
              "      <th>투자</th>\n",
              "      <th>수출</th>\n",
              "      <th>최종수요계</th>\n",
              "      <th>총수요계</th>\n",
              "    </tr>\n",
              "  </thead>\n",
              "  <tbody>\n",
              "    <tr>\n",
              "      <th>0</th>\n",
              "      <td>농산품</td>\n",
              "      <td>1</td>\n",
              "      <td>7</td>\n",
              "      <td>3</td>\n",
              "      <td>11</td>\n",
              "      <td>2</td>\n",
              "      <td>1</td>\n",
              "      <td>0</td>\n",
              "      <td>3</td>\n",
              "      <td>14</td>\n",
              "    </tr>\n",
              "    <tr>\n",
              "      <th>1</th>\n",
              "      <td>공산품</td>\n",
              "      <td>1</td>\n",
              "      <td>33</td>\n",
              "      <td>10</td>\n",
              "      <td>44</td>\n",
              "      <td>6</td>\n",
              "      <td>6</td>\n",
              "      <td>3</td>\n",
              "      <td>15</td>\n",
              "      <td>59</td>\n",
              "    </tr>\n",
              "    <tr>\n",
              "      <th>2</th>\n",
              "      <td>서비스</td>\n",
              "      <td>1</td>\n",
              "      <td>2</td>\n",
              "      <td>6</td>\n",
              "      <td>9</td>\n",
              "      <td>2</td>\n",
              "      <td>1</td>\n",
              "      <td>0</td>\n",
              "      <td>3</td>\n",
              "      <td>12</td>\n",
              "    </tr>\n",
              "    <tr>\n",
              "      <th>3</th>\n",
              "      <td>중간투입계</td>\n",
              "      <td>3</td>\n",
              "      <td>42</td>\n",
              "      <td>19</td>\n",
              "      <td>64</td>\n",
              "      <td>10</td>\n",
              "      <td>8</td>\n",
              "      <td>3</td>\n",
              "      <td>21</td>\n",
              "      <td>85</td>\n",
              "    </tr>\n",
              "  </tbody>\n",
              "</table>\n",
              "</div>\n",
              "      <button class=\"colab-df-convert\" onclick=\"convertToInteractive('df-c23b4d2d-6c62-4d1b-bb1a-9bdc7646875d')\"\n",
              "              title=\"Convert this dataframe to an interactive table.\"\n",
              "              style=\"display:none;\">\n",
              "        \n",
              "  <svg xmlns=\"http://www.w3.org/2000/svg\" height=\"24px\"viewBox=\"0 0 24 24\"\n",
              "       width=\"24px\">\n",
              "    <path d=\"M0 0h24v24H0V0z\" fill=\"none\"/>\n",
              "    <path d=\"M18.56 5.44l.94 2.06.94-2.06 2.06-.94-2.06-.94-.94-2.06-.94 2.06-2.06.94zm-11 1L8.5 8.5l.94-2.06 2.06-.94-2.06-.94L8.5 2.5l-.94 2.06-2.06.94zm10 10l.94 2.06.94-2.06 2.06-.94-2.06-.94-.94-2.06-.94 2.06-2.06.94z\"/><path d=\"M17.41 7.96l-1.37-1.37c-.4-.4-.92-.59-1.43-.59-.52 0-1.04.2-1.43.59L10.3 9.45l-7.72 7.72c-.78.78-.78 2.05 0 2.83L4 21.41c.39.39.9.59 1.41.59.51 0 1.02-.2 1.41-.59l7.78-7.78 2.81-2.81c.8-.78.8-2.07 0-2.86zM5.41 20L4 18.59l7.72-7.72 1.47 1.35L5.41 20z\"/>\n",
              "  </svg>\n",
              "      </button>\n",
              "      \n",
              "  <style>\n",
              "    .colab-df-container {\n",
              "      display:flex;\n",
              "      flex-wrap:wrap;\n",
              "      gap: 12px;\n",
              "    }\n",
              "\n",
              "    .colab-df-convert {\n",
              "      background-color: #E8F0FE;\n",
              "      border: none;\n",
              "      border-radius: 50%;\n",
              "      cursor: pointer;\n",
              "      display: none;\n",
              "      fill: #1967D2;\n",
              "      height: 32px;\n",
              "      padding: 0 0 0 0;\n",
              "      width: 32px;\n",
              "    }\n",
              "\n",
              "    .colab-df-convert:hover {\n",
              "      background-color: #E2EBFA;\n",
              "      box-shadow: 0px 1px 2px rgba(60, 64, 67, 0.3), 0px 1px 3px 1px rgba(60, 64, 67, 0.15);\n",
              "      fill: #174EA6;\n",
              "    }\n",
              "\n",
              "    [theme=dark] .colab-df-convert {\n",
              "      background-color: #3B4455;\n",
              "      fill: #D2E3FC;\n",
              "    }\n",
              "\n",
              "    [theme=dark] .colab-df-convert:hover {\n",
              "      background-color: #434B5C;\n",
              "      box-shadow: 0px 1px 3px 1px rgba(0, 0, 0, 0.15);\n",
              "      filter: drop-shadow(0px 1px 2px rgba(0, 0, 0, 0.3));\n",
              "      fill: #FFFFFF;\n",
              "    }\n",
              "  </style>\n",
              "\n",
              "      <script>\n",
              "        const buttonEl =\n",
              "          document.querySelector('#df-c23b4d2d-6c62-4d1b-bb1a-9bdc7646875d button.colab-df-convert');\n",
              "        buttonEl.style.display =\n",
              "          google.colab.kernel.accessAllowed ? 'block' : 'none';\n",
              "\n",
              "        async function convertToInteractive(key) {\n",
              "          const element = document.querySelector('#df-c23b4d2d-6c62-4d1b-bb1a-9bdc7646875d');\n",
              "          const dataTable =\n",
              "            await google.colab.kernel.invokeFunction('convertToInteractive',\n",
              "                                                     [key], {});\n",
              "          if (!dataTable) return;\n",
              "\n",
              "          const docLinkHtml = 'Like what you see? Visit the ' +\n",
              "            '<a target=\"_blank\" href=https://colab.research.google.com/notebooks/data_table.ipynb>data table notebook</a>'\n",
              "            + ' to learn more about interactive tables.';\n",
              "          element.innerHTML = '';\n",
              "          dataTable['output_type'] = 'display_data';\n",
              "          await google.colab.output.renderOutput(dataTable, element);\n",
              "          const docLink = document.createElement('div');\n",
              "          docLink.innerHTML = docLinkHtml;\n",
              "          element.appendChild(docLink);\n",
              "        }\n",
              "      </script>\n",
              "    </div>\n",
              "  </div>\n",
              "  "
            ]
          },
          "metadata": {},
          "execution_count": 7
        }
      ]
    },
    {
      "cell_type": "markdown",
      "source": [],
      "metadata": {
        "id": "pGaGz_KvGW1M"
      }
    },
    {
      "cell_type": "markdown",
      "source": [
        "#### 산업구조_부가가치 및 산출액 비중 구하기"
      ],
      "metadata": {
        "id": "Jz2c6mWiGW5v"
      }
    },
    {
      "cell_type": "markdown",
      "source": [
        "###### pandas의 DataFrame을 numpy로 불러오기"
      ],
      "metadata": {
        "id": "vi5mrufWHBLq"
      }
    },
    {
      "cell_type": "markdown",
      "source": [
        "### DataFrame을 Numpy로 읽어오고 숫자만으로 행렬을 만들고 차원 등 제대로 읽어 왔는지 체크\n",
        "\n"
      ],
      "metadata": {
        "id": "x-a_G73J-ARG"
      }
    },
    {
      "cell_type": "code",
      "source": [
        "Tt = Tot.to_numpy()  # numpy로 불러오기\n",
        "Dt = Dom.to_numpy()\n",
        "It = Imp.to_numpy()"
      ],
      "metadata": {
        "id": "Hb3EasrIAz9H"
      },
      "execution_count": 8,
      "outputs": []
    },
    {
      "cell_type": "code",
      "source": [
        "va = Tt[-2,1:4]  # 산업별 부가가치\n",
        "ct = Tt[-1,1:4]  # 산업별 산출액"
      ],
      "metadata": {
        "id": "GrqwxwU44DMl"
      },
      "execution_count": 9,
      "outputs": []
    },
    {
      "cell_type": "code",
      "source": [
        "va_wgt = (va/va.sum()).reshape([3,1])  # 부가가치 기준 각 산업의 비중\n",
        "ct_wgt = (ct/ct.sum()).reshape([3,1])  # 산출액 기준 각 산업의 비중\n",
        "\n",
        "wgt_mx = np.concatenate((va_wgt, ct_wgt), axis=1)\n",
        "print(wgt_mx)"
      ],
      "metadata": {
        "id": "IGYFJf_fAz6J",
        "colab": {
          "base_uri": "https://localhost:8080/"
        },
        "outputId": "44220cc9-6fb5-425b-d9f8-a31343a256c8"
      },
      "execution_count": 10,
      "outputs": [
        {
          "output_type": "stream",
          "name": "stdout",
          "text": [
            "[[0.023255813953488372 0.03036876355748373]\n",
            " [0.3116279069767442 0.4403470715835141]\n",
            " [0.6651162790697674 0.5292841648590022]]\n"
          ]
        }
      ]
    },
    {
      "cell_type": "markdown",
      "source": [
        "#### 투입구조"
      ],
      "metadata": {
        "id": "32UjG6dfMUrW"
      }
    },
    {
      "cell_type": "code",
      "source": [
        "Tt_itr = Tt[-3,1:5] # 총거래표의 각 산업별 및 총산업의 중간투입계\n",
        "Dt_itr = Dt[-1,1:5] # 국산거래표의 각 산업별 및 총산업의 중간투입계\n",
        "It_itr = It[-1,1:5] # 수입거래표의 각 산업별 및 총산업의 중간투입계\n",
        "Ct_itr = Tt[-1,1:5] # 각 산업별 및 총산업의 산출액\n",
        "\n",
        "print(Tt_itr)\n",
        "print(Dt_itr)\n",
        "print(It_itr)\n",
        "print(Ct_itr)"
      ],
      "metadata": {
        "colab": {
          "base_uri": "https://localhost:8080/"
        },
        "id": "D77j-HNjIKj9",
        "outputId": "d9bb9372-3836-40f0-9a55-935fbc6c9db2"
      },
      "execution_count": 11,
      "outputs": [
        {
          "output_type": "stream",
          "name": "stdout",
          "text": [
            "[9 136 101 246]\n",
            "[6 94 82 182]\n",
            "[3 42 19 64]\n",
            "[14 203 244 461]\n"
          ]
        }
      ]
    },
    {
      "cell_type": "code",
      "source": [
        "Tt_itr_ratio = (Tt_itr/Ct_itr).reshape([4,1]) # 총투입계수\n",
        "Dt_itr_ratio = (Dt_itr/Ct_itr).reshape([4,1]) # 국산투입계수\n",
        "It_itr_ratio = (It_itr/Ct_itr).reshape([4,1]) # 수입투입계수\n",
        "\n",
        "itr_ratio = np.concatenate((Tt_itr_ratio, Dt_itr_ratio, It_itr_ratio), axis=1)  # 총, 국산, 수입투입계수\n",
        "itr_ratio"
      ],
      "metadata": {
        "colab": {
          "base_uri": "https://localhost:8080/"
        },
        "id": "Dl7lil2JPogq",
        "outputId": "735d9e36-6774-4e7c-f6b6-12574fc2c8ef"
      },
      "execution_count": 12,
      "outputs": [
        {
          "output_type": "execute_result",
          "data": {
            "text/plain": [
              "array([[0.6428571428571429, 0.42857142857142855, 0.21428571428571427],\n",
              "       [0.6699507389162561, 0.4630541871921182, 0.20689655172413793],\n",
              "       [0.4139344262295082, 0.3360655737704918, 0.0778688524590164],\n",
              "       [0.5336225596529284, 0.3947939262472885, 0.13882863340563992]],\n",
              "      dtype=object)"
            ]
          },
          "metadata": {},
          "execution_count": 12
        }
      ]
    },
    {
      "cell_type": "code",
      "source": [
        "Dt_dm_itr = (Dt_itr/Tt_itr).reshape([4,1])  # 각 산업별, 총산업의 국산화율\n",
        "Dt_dm_itr"
      ],
      "metadata": {
        "colab": {
          "base_uri": "https://localhost:8080/"
        },
        "id": "0Xi-6MnGPo6v",
        "outputId": "68615896-660f-45ef-9cc7-1d07a4ee55d7"
      },
      "execution_count": 13,
      "outputs": [
        {
          "output_type": "execute_result",
          "data": {
            "text/plain": [
              "array([[0.6666666666666666],\n",
              "       [0.6911764705882353],\n",
              "       [0.8118811881188119],\n",
              "       [0.7398373983739838]], dtype=object)"
            ]
          },
          "metadata": {},
          "execution_count": 13
        }
      ]
    },
    {
      "cell_type": "code",
      "source": [
        "va_ratio = (Tt[-2,1:5]/Tt[-1,1:5]).reshape([4,1])  # 부가가치율 = 부가가치(3산업과 총부가가치)/산출액(3산업과 총산출액)\n",
        "va_ratio"
      ],
      "metadata": {
        "colab": {
          "base_uri": "https://localhost:8080/"
        },
        "id": "UlVNRugMPpQU",
        "outputId": "2e61ccb5-38ae-48ae-cbf2-e05dfbc16fa0"
      },
      "execution_count": 14,
      "outputs": [
        {
          "output_type": "execute_result",
          "data": {
            "text/plain": [
              "array([[0.35714285714285715],\n",
              "       [0.33004926108374383],\n",
              "       [0.5860655737704918],\n",
              "       [0.46637744034707157]], dtype=object)"
            ]
          },
          "metadata": {},
          "execution_count": 14
        }
      ]
    },
    {
      "cell_type": "code",
      "source": [
        "#중간투입, 국산화율 및 부가가치율을 열방향으로 부치기\n",
        "input_str = np.concatenate((itr_ratio, Dt_dm_itr, va_ratio), axis=1)\n",
        "input_str"
      ],
      "metadata": {
        "colab": {
          "base_uri": "https://localhost:8080/"
        },
        "id": "lECvmd0wPpnQ",
        "outputId": "1667b89c-3305-448c-a467-6c506534e3f7"
      },
      "execution_count": 15,
      "outputs": [
        {
          "output_type": "execute_result",
          "data": {
            "text/plain": [
              "array([[0.6428571428571429, 0.42857142857142855, 0.21428571428571427,\n",
              "        0.6666666666666666, 0.35714285714285715],\n",
              "       [0.6699507389162561, 0.4630541871921182, 0.20689655172413793,\n",
              "        0.6911764705882353, 0.33004926108374383],\n",
              "       [0.4139344262295082, 0.3360655737704918, 0.0778688524590164,\n",
              "        0.8118811881188119, 0.5860655737704918],\n",
              "       [0.5336225596529284, 0.3947939262472885, 0.13882863340563992,\n",
              "        0.7398373983739838, 0.46637744034707157]], dtype=object)"
            ]
          },
          "metadata": {},
          "execution_count": 15
        }
      ]
    },
    {
      "cell_type": "markdown",
      "source": [
        "#### 배분구조"
      ],
      "metadata": {
        "id": "C6KfGPX5g9TI"
      }
    },
    {
      "cell_type": "code",
      "source": [
        "Tot_sup =Tt[0:4,-1]  # 총공급(산출액+수입)\n",
        "Dom_ct =Dt[0:4,-1]  # 산출액\n",
        "Imp_tot=It[0:4,-1]   # 총수입\n",
        "\n",
        "Tt_itd = Tt[0:4,4] # 총거래표의 각 산업별 및 총산업의 중간수요계\n",
        "Dt_itd = Dt[0:4,4] # 국산거래표의 각 산업별 및 총산업의 중간수요계\n",
        "It_itd = It[0:4,4] # 수입거래표의 각 산업별 및 총산업의 중간수요계\n",
        "\n",
        "Tot_dmd = Tt[0:4,-4] # 각 제품별 및 전품목 총수요계\n",
        "Fd =Tt[0:4,-5]\n",
        "Exp = Tt[0:4,-6]  # 각 제품별 및 전품목 수출\n",
        "\n",
        "print(Tot_sup)\n",
        "print(Dom_ct)\n",
        "print(Imp_tot)\n",
        "\n",
        "print(Tt_itd)\n",
        "print(Dt_itd)\n",
        "print(It_itd)\n",
        "\n",
        "print(Tot_dmd)\n",
        "print(Fd)\n",
        "print(Exp)"
      ],
      "metadata": {
        "id": "IWpo8RCb6EsB",
        "colab": {
          "base_uri": "https://localhost:8080/"
        },
        "outputId": "7694ff27-3a6b-4104-f5f8-a9880384da48"
      },
      "execution_count": 16,
      "outputs": [
        {
          "output_type": "stream",
          "name": "stdout",
          "text": [
            "[28 262 256 546]\n",
            "[14 203 244 461]\n",
            "[14 59 12 85]\n",
            "[20 138 88 246]\n",
            "[9 94 79 182]\n",
            "[11 44 9 64]\n",
            "[28 262 256 546]\n",
            "[8 124 168 300]\n",
            "[2 73 15 90]\n"
          ]
        }
      ]
    },
    {
      "cell_type": "code",
      "source": [
        "Itd_r = (Tt_itd/Tot_dmd).reshape([4,1]) # 중간수요율 = 중간수요계/총수요\n",
        "ftd_r = (Fd/Tot_dmd).reshape([4,1]) # 최종수요율 = 최종수요계/총수요\n",
        "Exp_r = (Exp/Dom_ct).reshape([4,1]) # 수출률 = 수출/총산출액\n",
        "Imp_r = (Imp_tot/Tot_sup).reshape([4,1])\n",
        "\n",
        "print(Itd_r)\n",
        "print(ftd_r)\n",
        "print(Exp_r)\n",
        "print(Imp_r)"
      ],
      "metadata": {
        "id": "lcVwawkrPi5t",
        "colab": {
          "base_uri": "https://localhost:8080/"
        },
        "outputId": "f888fbf7-df8c-44dc-de8f-a8e8f9258c5b"
      },
      "execution_count": 17,
      "outputs": [
        {
          "output_type": "stream",
          "name": "stdout",
          "text": [
            "[[0.7142857142857143]\n",
            " [0.5267175572519084]\n",
            " [0.34375]\n",
            " [0.45054945054945056]]\n",
            "[[0.2857142857142857]\n",
            " [0.4732824427480916]\n",
            " [0.65625]\n",
            " [0.5494505494505495]]\n",
            "[[0.14285714285714285]\n",
            " [0.35960591133004927]\n",
            " [0.06147540983606557]\n",
            " [0.19522776572668113]]\n",
            "[[0.5]\n",
            " [0.22519083969465647]\n",
            " [0.046875]\n",
            " [0.15567765567765568]]\n"
          ]
        }
      ]
    },
    {
      "cell_type": "code",
      "source": [
        "# 중간수요율, 최종수요율, 수출률 및 수입비율 열방향으로 부치기\n",
        "\n",
        "dst_str = np.concatenate((Itd_r, ftd_r, Exp_r, Imp_r), axis=1)\n",
        "print(dst_str)"
      ],
      "metadata": {
        "id": "goO-V0B5PjRD",
        "colab": {
          "base_uri": "https://localhost:8080/"
        },
        "outputId": "2cd58ad3-4479-4496-e9f2-8c4e531112b4"
      },
      "execution_count": 18,
      "outputs": [
        {
          "output_type": "stream",
          "name": "stdout",
          "text": [
            "[[0.7142857142857143 0.2857142857142857 0.14285714285714285 0.5]\n",
            " [0.5267175572519084 0.4732824427480916 0.35960591133004927\n",
            "  0.22519083969465647]\n",
            " [0.34375 0.65625 0.06147540983606557 0.046875]\n",
            " [0.45054945054945056 0.5494505494505495 0.19522776572668113\n",
            "  0.15567765567765568]]\n"
          ]
        }
      ]
    },
    {
      "cell_type": "markdown",
      "source": [
        "## 부문통합하여 3부문 IO표 만들기\n",
        "\n",
        "### - 33부문의 IO표를 3부문 IO표로 통합하기\n",
        "\n",
        "##### - 33부문을 크게 농수산품, 공산품 및 서비스로 통합하기 위하여 행렬 곱을 사용\n",
        "##### - 0과 1로 구성된 행렬을 만드는데 각 행은 새로운 표의 부문을 나타내며 각 열은 33부문의 부문을 나타낸다"
      ],
      "metadata": {
        "id": "0D8ZcdAxwoNP"
      }
    },
    {
      "cell_type": "code",
      "source": [
        "code = np.array([[1,0,0,0,0,0,0,0,0,0,0,0,0,0,0,0,0,0,0,0,0,0,0,0,0,0,0,0,0,0,0,0,0],\n",
        "       [0,1,1,1,1,1,1,1,1,1,1,1,1,1,1,1,0,0,0,0,0,0,0,0,0,0,0,0,0,0,0,0,0],\n",
        "       [0,0,0,0,0,0,0,0,0,0,0,0,0,0,0,0,1,1,1,1,1,1,1,1,1,1,1,1,1,1,1,1,1]])\n",
        "code"
      ],
      "metadata": {
        "id": "l7x5rT73PkAm",
        "outputId": "fb2944eb-9de3-4607-f5e1-164dafc9f8fd",
        "colab": {
          "base_uri": "https://localhost:8080/"
        }
      },
      "execution_count": 19,
      "outputs": [
        {
          "output_type": "execute_result",
          "data": {
            "text/plain": [
              "array([[1, 0, 0, 0, 0, 0, 0, 0, 0, 0, 0, 0, 0, 0, 0, 0, 0, 0, 0, 0, 0, 0,\n",
              "        0, 0, 0, 0, 0, 0, 0, 0, 0, 0, 0],\n",
              "       [0, 1, 1, 1, 1, 1, 1, 1, 1, 1, 1, 1, 1, 1, 1, 1, 0, 0, 0, 0, 0, 0,\n",
              "        0, 0, 0, 0, 0, 0, 0, 0, 0, 0, 0],\n",
              "       [0, 0, 0, 0, 0, 0, 0, 0, 0, 0, 0, 0, 0, 0, 0, 0, 1, 1, 1, 1, 1, 1,\n",
              "        1, 1, 1, 1, 1, 1, 1, 1, 1, 1, 1]])"
            ]
          },
          "metadata": {},
          "execution_count": 19
        }
      ]
    },
    {
      "cell_type": "code",
      "source": [
        "url_Tt_33 = \"https://raw.githubusercontent.com/Tom-Jung/legendary-funicular/main/Total_M_F.csv\"  # 33부문의 총거래표 불러오기\n",
        "Tt_33 = pd.read_csv(url_Tt_33)"
      ],
      "metadata": {
        "id": "2gsn6uHUPkdI"
      },
      "execution_count": 20,
      "outputs": []
    },
    {
      "cell_type": "code",
      "source": [
        "Ttt_33 = Tt_33.to_numpy()\n",
        "Tot_33 = Ttt_33[0:41,1:53].astype(float)"
      ],
      "metadata": {
        "id": "WedAqacOyjgz"
      },
      "execution_count": 21,
      "outputs": []
    },
    {
      "cell_type": "code",
      "source": [
        "nae_tot_row = code@Tot_33[0:33,0:33] # 중간투입(수요)의 행을 3부문으로 만들기\n",
        "nae_tot_row"
      ],
      "metadata": {
        "id": "kAEEg8WmPkvm",
        "outputId": "adb46c8c-d6e2-41b3-dbbc-1742959ff1b5",
        "colab": {
          "base_uri": "https://localhost:8080/"
        }
      },
      "execution_count": 22,
      "outputs": [
        {
          "output_type": "execute_result",
          "data": {
            "text/plain": [
              "array([[2.86200e+03, 5.00000e+00, 3.15260e+04, 6.48000e+02, 8.63000e+02,\n",
              "        6.00000e+00, 9.80000e+02, 7.00000e+00, 1.50000e+01, 1.50000e+01,\n",
              "        1.80000e+01, 6.00000e+00, 1.80000e+01, 1.30000e+01, 3.20000e+01,\n",
              "        4.75000e+02, 5.00000e+00, 7.00000e+00, 4.46000e+02, 1.03000e+02,\n",
              "        2.50000e+01, 8.17300e+03, 3.20000e+01, 4.70000e+01, 9.00000e+00,\n",
              "        1.36000e+02, 1.80000e+01, 2.72000e+02, 9.80000e+01, 1.02700e+03,\n",
              "        1.48000e+02, 7.40000e+01, 2.70000e+01],\n",
              "       [1.57650e+04, 5.68000e+02, 3.11770e+04, 4.32580e+04, 1.73850e+04,\n",
              "        5.78600e+04, 1.15528e+05, 1.50140e+04, 6.44060e+04, 4.41850e+04,\n",
              "        1.35069e+05, 4.71820e+04, 6.31260e+04, 1.53704e+05, 9.30700e+03,\n",
              "        1.71490e+04, 3.50850e+04, 2.47100e+03, 7.87430e+04, 1.58360e+04,\n",
              "        3.26420e+04, 4.20060e+04, 9.51700e+03, 4.04300e+03, 2.37100e+03,\n",
              "        2.21840e+04, 5.20800e+03, 6.53600e+03, 7.90000e+03, 2.63440e+04,\n",
              "        5.25700e+03, 1.46540e+04, 6.43000e+02],\n",
              "       [6.46800e+03, 1.20800e+03, 1.85860e+04, 1.24570e+04, 7.95400e+03,\n",
              "        7.91800e+03, 3.75180e+04, 9.22200e+03, 2.31890e+04, 1.31270e+04,\n",
              "        3.04060e+04, 1.17810e+04, 1.52570e+04, 3.16430e+04, 3.56800e+03,\n",
              "        1.01840e+04, 1.60530e+04, 5.53200e+03, 3.68860e+04, 8.43150e+04,\n",
              "        4.36120e+04, 2.68870e+04, 4.59770e+04, 5.36750e+04, 3.79690e+04,\n",
              "        5.93290e+04, 1.53140e+04, 1.80720e+04, 2.40830e+04, 2.29010e+04,\n",
              "        1.07380e+04, 1.22000e+04, 2.75300e+03]])"
            ]
          },
          "metadata": {},
          "execution_count": 22
        }
      ]
    },
    {
      "cell_type": "code",
      "source": [
        "nae_tot_row.shape  # 행과 열의 개수 확인"
      ],
      "metadata": {
        "id": "xn5tPGW1PlG2",
        "outputId": "e6f9f759-cdb1-41c0-b239-18b4021441d6",
        "colab": {
          "base_uri": "https://localhost:8080/"
        }
      },
      "execution_count": 23,
      "outputs": [
        {
          "output_type": "execute_result",
          "data": {
            "text/plain": [
              "(3, 33)"
            ]
          },
          "metadata": {},
          "execution_count": 23
        }
      ]
    },
    {
      "cell_type": "code",
      "source": [
        "nae_tot_col = nae_tot_row@code.T\n",
        "nae_tot_col"
      ],
      "metadata": {
        "id": "3cc2Kx580Rj3",
        "outputId": "ae773bba-b036-4520-b96b-c85aaf0aea48",
        "colab": {
          "base_uri": "https://localhost:8080/"
        }
      },
      "execution_count": 24,
      "outputs": [
        {
          "output_type": "execute_result",
          "data": {
            "text/plain": [
              "array([[  2862.,  34627.,  10647.],\n",
              "       [ 15765., 814918., 311440.],\n",
              "       [  6468., 234018., 516296.]])"
            ]
          },
          "metadata": {},
          "execution_count": 24
        }
      ]
    },
    {
      "cell_type": "code",
      "source": [
        "nae_tot_col.shape  # 행과 열의 개수 확인"
      ],
      "metadata": {
        "id": "weuK7Yxt0Rt_",
        "outputId": "e04de596-accd-4db3-cf48-534a05bd9095",
        "colab": {
          "base_uri": "https://localhost:8080/"
        }
      },
      "execution_count": 25,
      "outputs": [
        {
          "output_type": "execute_result",
          "data": {
            "text/plain": [
              "(3, 3)"
            ]
          },
          "metadata": {},
          "execution_count": 25
        }
      ]
    },
    {
      "cell_type": "code",
      "source": [
        "nae_tot_col.sum()"
      ],
      "metadata": {
        "id": "44XALcRD0R3b",
        "outputId": "5fd96ff1-c947-4f27-b484-a51fe399157e",
        "colab": {
          "base_uri": "https://localhost:8080/"
        }
      },
      "execution_count": 26,
      "outputs": [
        {
          "output_type": "execute_result",
          "data": {
            "text/plain": [
              "1947041.0"
            ]
          },
          "metadata": {},
          "execution_count": 26
        }
      ]
    },
    {
      "cell_type": "code",
      "source": [
        "va_row = Tot_33[33:40,0:33]@code.T # 중투합, 피용자보수, 영업잉여, 고정자본소모, 기타생산세, 부가가치계, 산출액(7X3)\n",
        "va_row"
      ],
      "metadata": {
        "id": "9r1910Rf0SBQ",
        "outputId": "492821b3-9e64-403c-c156-0d87eca76783",
        "colab": {
          "base_uri": "https://localhost:8080/"
        }
      },
      "execution_count": 27,
      "outputs": [
        {
          "output_type": "execute_result",
          "data": {
            "text/plain": [
              "array([[2.509500e+04, 1.083563e+06, 8.383830e+05],\n",
              "       [4.719000e+03, 1.591330e+05, 5.113400e+05],\n",
              "       [2.024900e+04, 1.381430e+05, 2.509920e+05],\n",
              "       [4.346000e+03, 1.033380e+05, 1.710180e+05],\n",
              "       [5.490000e+02, 4.809200e+04, 7.385100e+04],\n",
              "       [2.986300e+04, 4.487060e+05, 1.007201e+06],\n",
              "       [5.495800e+04, 1.532269e+06, 1.845584e+06]])"
            ]
          },
          "metadata": {},
          "execution_count": 27
        }
      ]
    },
    {
      "cell_type": "code",
      "source": [
        "va_row.shape"
      ],
      "metadata": {
        "id": "cDZ1i__I1B6Z",
        "outputId": "a79845da-3a11-4bc6-decb-89f8d053a4b5",
        "colab": {
          "base_uri": "https://localhost:8080/"
        }
      },
      "execution_count": 28,
      "outputs": [
        {
          "output_type": "execute_result",
          "data": {
            "text/plain": [
              "(7, 3)"
            ]
          },
          "metadata": {},
          "execution_count": 28
        }
      ]
    },
    {
      "cell_type": "code",
      "source": [
        "fd_cd = np.array([[1,1,0,0,0,0,0,0,0],   # 최종수요를 통합하기 위한 0과 1로된 행렬\n",
        "                  [0,0,1,1,1,1,0,0,0],\n",
        "                  [0,0,0,0,0,0,1,0,0],\n",
        "                  [0,0,0,0,0,0,0,1,0],\n",
        "                  [0,0,0,0,0,0,0,0,1]])  "
      ],
      "metadata": {
        "id": "7IMx6Eay1CEs"
      },
      "execution_count": 29,
      "outputs": []
    },
    {
      "cell_type": "code",
      "source": [
        "fd = Tot_33[0:33, 34:45]\n",
        "fd"
      ],
      "metadata": {
        "id": "nEQ7KA0y1CQU",
        "outputId": "f51ffb95-af75-4deb-89fd-fa438e5ac194",
        "colab": {
          "base_uri": "https://localhost:8080/"
        }
      },
      "execution_count": 30,
      "outputs": [
        {
          "output_type": "execute_result",
          "data": {
            "text/plain": [
              "array([[ 1.51150e+04,  0.00000e+00,  3.83000e+02,  1.50000e+01,\n",
              "         1.08500e+03,  0.00000e+00,  6.15000e+02,  1.72130e+04,\n",
              "         6.53490e+04],\n",
              "       [ 1.20000e+01,  0.00000e+00,  0.00000e+00,  0.00000e+00,\n",
              "        -1.08000e+02,  0.00000e+00,  1.16000e+02,  2.00000e+01,\n",
              "         9.95890e+04],\n",
              "       [ 5.03660e+04,  0.00000e+00,  0.00000e+00,  0.00000e+00,\n",
              "         4.90000e+01,  0.00000e+00,  6.74200e+03,  5.71570e+04,\n",
              "         1.31760e+05],\n",
              "       [ 2.66300e+04,  0.00000e+00,  1.15000e+02,  1.50000e+01,\n",
              "         8.64000e+02,  0.00000e+00,  3.13520e+04,  5.89760e+04,\n",
              "         9.53080e+04],\n",
              "       [ 1.11300e+03,  0.00000e+00,  0.00000e+00,  0.00000e+00,\n",
              "         9.10000e+01,  0.00000e+00,  3.21800e+03,  4.42200e+03,\n",
              "         4.52510e+04],\n",
              "       [ 1.31450e+04,  0.00000e+00,  0.00000e+00,  0.00000e+00,\n",
              "         4.53000e+02,  0.00000e+00,  3.60580e+04,  4.96560e+04,\n",
              "         1.22457e+05],\n",
              "       [ 7.06700e+03,  0.00000e+00,  0.00000e+00,  0.00000e+00,\n",
              "        -5.53000e+02,  0.00000e+00,  7.41820e+04,  8.06960e+04,\n",
              "         2.73533e+05],\n",
              "       [ 2.08000e+02,  0.00000e+00,  0.00000e+00,  0.00000e+00,\n",
              "        -1.70000e+01,  0.00000e+00,  2.58700e+03,  2.77800e+03,\n",
              "         4.16980e+04],\n",
              "       [-4.99000e+02,  0.00000e+00, -2.19200e+03, -5.70000e+01,\n",
              "        -1.52100e+03,  1.80000e+02,  3.53860e+04,  3.12970e+04,\n",
              "         1.46345e+05],\n",
              "       [ 1.16000e+03,  0.00000e+00,  3.39200e+03,  2.16200e+03,\n",
              "         4.02000e+02,  0.00000e+00,  1.06480e+04,  1.77640e+04,\n",
              "         9.69290e+04],\n",
              "       [ 2.19820e+04,  0.00000e+00,  1.88510e+04,  2.55800e+03,\n",
              "         1.54700e+03,  0.00000e+00,  1.55967e+05,  2.00905e+05,\n",
              "         3.28314e+05],\n",
              "       [ 4.66400e+03,  0.00000e+00,  9.63000e+03,  1.81000e+02,\n",
              "         4.72000e+02,  0.00000e+00,  2.64880e+04,  4.14350e+04,\n",
              "         1.01458e+05],\n",
              "       [ 1.25100e+03,  0.00000e+00,  4.66480e+04,  3.70000e+02,\n",
              "         3.30000e+02,  0.00000e+00,  4.28970e+04,  9.14960e+04,\n",
              "         1.45110e+05],\n",
              "       [ 2.76810e+04,  0.00000e+00,  2.45600e+04,  6.29900e+03,\n",
              "         2.68100e+03,  0.00000e+00,  1.16106e+05,  1.77327e+05,\n",
              "         2.56535e+05],\n",
              "       [ 6.25400e+03,  0.00000e+00,  2.49700e+03,  2.42000e+02,\n",
              "         2.77000e+02,  1.19100e+03,  2.56300e+03,  1.30240e+04,\n",
              "         2.40840e+04],\n",
              "       [ 2.40000e+01,  0.00000e+00,  0.00000e+00,  0.00000e+00,\n",
              "         0.00000e+00,  0.00000e+00,  2.49700e+03,  2.52100e+03,\n",
              "         6.32260e+04],\n",
              "       [ 1.58980e+04,  0.00000e+00,  0.00000e+00,  0.00000e+00,\n",
              "         0.00000e+00,  0.00000e+00,  1.04000e+02,  1.60020e+04,\n",
              "         8.31850e+04],\n",
              "       [ 3.05900e+03,  1.04400e+03,  0.00000e+00,  0.00000e+00,\n",
              "         0.00000e+00,  0.00000e+00,  3.43000e+02,  4.44600e+03,\n",
              "         1.72270e+04],\n",
              "       [ 0.00000e+00,  0.00000e+00,  1.48566e+05,  4.26080e+04,\n",
              "        -1.27400e+03,  0.00000e+00,  1.48000e+02,  1.90048e+05,\n",
              "         2.00292e+05],\n",
              "       [ 7.07170e+04,  0.00000e+00,  9.90000e+03,  6.33000e+02,\n",
              "         1.09900e+03,  2.85000e+02,  2.16110e+04,  1.04245e+05,\n",
              "         2.24659e+05],\n",
              "       [ 2.29100e+04,  0.00000e+00,  2.16000e+02,  5.70000e+01,\n",
              "         7.30000e+01,  7.00000e+00,  3.39870e+04,  5.72500e+04,\n",
              "         1.46599e+05],\n",
              "       [ 7.36990e+04,  0.00000e+00,  0.00000e+00,  0.00000e+00,\n",
              "         0.00000e+00,  0.00000e+00,  6.30600e+03,  8.00050e+04,\n",
              "         1.29723e+05],\n",
              "       [ 2.90770e+04,  0.00000e+00,  2.51160e+04,  2.17000e+02,\n",
              "         1.80000e+01,  0.00000e+00,  4.95000e+03,  5.93780e+04,\n",
              "         1.26326e+05],\n",
              "       [ 5.86560e+04,  0.00000e+00,  0.00000e+00,  0.00000e+00,\n",
              "         0.00000e+00,  0.00000e+00,  2.56000e+03,  6.12160e+04,\n",
              "         1.43206e+05],\n",
              "       [ 1.02756e+05,  0.00000e+00,  2.32900e+04,  1.50000e+01,\n",
              "         0.00000e+00,  0.00000e+00,  3.85000e+02,  1.26446e+05,\n",
              "         1.73004e+05],\n",
              "       [ 2.81300e+03,  0.00000e+00,  5.27020e+04,  8.89200e+03,\n",
              "         0.00000e+00,  0.00000e+00,  1.42390e+04,  7.86460e+04,\n",
              "         1.87504e+05],\n",
              "       [ 3.47900e+03,  0.00000e+00,  0.00000e+00,  0.00000e+00,\n",
              "         0.00000e+00,  0.00000e+00,  7.86600e+03,  1.13450e+04,\n",
              "         8.02060e+04],\n",
              "       [ 1.21300e+03,  1.07307e+05,  0.00000e+00,  0.00000e+00,\n",
              "         0.00000e+00,  0.00000e+00,  3.40000e+01,  1.08554e+05,\n",
              "         1.10999e+05],\n",
              "       [ 5.00670e+04,  5.39850e+04,  0.00000e+00,  0.00000e+00,\n",
              "         0.00000e+00,  0.00000e+00,  1.53000e+02,  1.04205e+05,\n",
              "         1.06156e+05],\n",
              "       [ 4.11590e+04,  5.98870e+04,  0.00000e+00,  0.00000e+00,\n",
              "         0.00000e+00,  0.00000e+00,  3.32000e+02,  1.01378e+05,\n",
              "         1.07774e+05],\n",
              "       [ 2.98470e+04,  1.72200e+03,  4.27000e+02,  0.00000e+00,\n",
              "         0.00000e+00,  2.30000e+01,  9.29000e+02,  3.29480e+04,\n",
              "         3.98100e+04],\n",
              "       [ 3.59970e+04,  0.00000e+00,  0.00000e+00,  0.00000e+00,\n",
              "         0.00000e+00,  0.00000e+00,  5.48000e+02,  3.65450e+04,\n",
              "         4.90610e+04],\n",
              "       [-2.85000e+02,  0.00000e+00,  0.00000e+00,  0.00000e+00,\n",
              "         0.00000e+00,  0.00000e+00,  0.00000e+00, -2.85000e+02,\n",
              "         3.42300e+03]])"
            ]
          },
          "metadata": {},
          "execution_count": 30
        }
      ]
    },
    {
      "cell_type": "code",
      "source": [
        "fd_row=code@fd@fd_cd.T"
      ],
      "metadata": {
        "id": "Hu1RCGZN1Qgd"
      },
      "execution_count": 31,
      "outputs": []
    },
    {
      "cell_type": "code",
      "source": [
        "fd_row_sm = np.sum((fd_row), axis=0) # 최종수요의 행합"
      ],
      "metadata": {
        "id": "DoK2fPer1Qq0"
      },
      "execution_count": 32,
      "outputs": []
    },
    {
      "cell_type": "code",
      "source": [
        "fd_sm=fd_row_sm.reshape(1,5)"
      ],
      "metadata": {
        "id": "saQ_vhsr1Q17"
      },
      "execution_count": 33,
      "outputs": []
    },
    {
      "cell_type": "code",
      "source": [
        "nae_va_ct = np.concatenate((nae_tot_col, va_row)) # 중간투입(수요)와 부가가치 및 산출액 합치기\n",
        "nae_va_ct"
      ],
      "metadata": {
        "id": "mpmb9GsJ1CbA",
        "outputId": "31229d51-947c-4217-d333-49a7e0f3c978",
        "colab": {
          "base_uri": "https://localhost:8080/"
        }
      },
      "execution_count": 34,
      "outputs": [
        {
          "output_type": "execute_result",
          "data": {
            "text/plain": [
              "array([[2.862000e+03, 3.462700e+04, 1.064700e+04],\n",
              "       [1.576500e+04, 8.149180e+05, 3.114400e+05],\n",
              "       [6.468000e+03, 2.340180e+05, 5.162960e+05],\n",
              "       [2.509500e+04, 1.083563e+06, 8.383830e+05],\n",
              "       [4.719000e+03, 1.591330e+05, 5.113400e+05],\n",
              "       [2.024900e+04, 1.381430e+05, 2.509920e+05],\n",
              "       [4.346000e+03, 1.033380e+05, 1.710180e+05],\n",
              "       [5.490000e+02, 4.809200e+04, 7.385100e+04],\n",
              "       [2.986300e+04, 4.487060e+05, 1.007201e+06],\n",
              "       [5.495800e+04, 1.532269e+06, 1.845584e+06]])"
            ]
          },
          "metadata": {},
          "execution_count": 34
        }
      ]
    },
    {
      "cell_type": "code",
      "source": [
        "nae_va_ct_sm = nae_va_ct.sum(axis=1).reshape(10,1)  # 부가가치 및 산출액의 열합"
      ],
      "metadata": {
        "id": "wt22KYsp1Ck8"
      },
      "execution_count": 35,
      "outputs": []
    },
    {
      "cell_type": "code",
      "source": [
        "nnull = np.zeros((6,5)) # 0행렬"
      ],
      "metadata": {
        "id": "iYARQC7L11Q2"
      },
      "execution_count": 36,
      "outputs": []
    },
    {
      "cell_type": "code",
      "source": [
        "fd_nnull = np.concatenate((fd_row, fd_sm, nnull),axis=0)  # 최종수요, 최종수요 행합 및 0행렬 합치기"
      ],
      "metadata": {
        "id": "YGFh506e11c0"
      },
      "execution_count": 37,
      "outputs": []
    },
    {
      "cell_type": "code",
      "source": [
        "tot_f = np.concatenate((nae_va_ct,nae_va_ct_sm, fd_nnull), axis=1)  # 최종 3x3 부문통합된 거래표"
      ],
      "metadata": {
        "id": "fTFmXv6b11oz"
      },
      "execution_count": 38,
      "outputs": []
    },
    {
      "cell_type": "code",
      "source": [
        "tot_F = pd.DataFrame(tot_f, columns = ['농산품', '공산품', '서비스', '중간수요계', '소비','투자', '수출', '최종수요계', '총수요계'], \n",
        "                     index=['농산품', '공산품', '서비스', '중간투입계', '피용자보수','영업잉여', '고정자본소모', '생산세(보조금공제)', '부가가치계', '총투입액']) # 변수명 붙여서 pandas로 내보내기"
      ],
      "metadata": {
        "id": "GIzMLMU2111V"
      },
      "execution_count": 39,
      "outputs": []
    },
    {
      "cell_type": "code",
      "source": [
        "tot_F  #최종 3x3 거래표 확인"
      ],
      "metadata": {
        "id": "Hlke2CDs2VA1",
        "outputId": "602d4431-d870-4c0d-ad62-40fdb6024a39",
        "colab": {
          "base_uri": "https://localhost:8080/",
          "height": 363
        }
      },
      "execution_count": 40,
      "outputs": [
        {
          "output_type": "execute_result",
          "data": {
            "text/plain": [
              "                농산품        공산품        서비스      중간수요계        소비        투자  \\\n",
              "농산품          2862.0    34627.0    10647.0    48136.0   15115.0    1483.0   \n",
              "공산품         15765.0   814918.0   311440.0  1142123.0  161058.0  121609.0   \n",
              "서비스          6468.0   234018.0   516296.0   756782.0  765007.0  312870.0   \n",
              "중간투입계       25095.0  1083563.0   838383.0  1947041.0  941180.0  435962.0   \n",
              "피용자보수        4719.0   159133.0   511340.0   675192.0       0.0       0.0   \n",
              "영업잉여        20249.0   138143.0   250992.0   409384.0       0.0       0.0   \n",
              "고정자본소모       4346.0   103338.0   171018.0   278702.0       0.0       0.0   \n",
              "생산세(보조금공제)    549.0    48092.0    73851.0   122492.0       0.0       0.0   \n",
              "부가가치계       29863.0   448706.0  1007201.0  1485770.0       0.0       0.0   \n",
              "총투입액        54958.0  1532269.0  1845584.0  3432811.0       0.0       0.0   \n",
              "\n",
              "                  수출      최종수요계       총수요계  \n",
              "농산품            615.0    17213.0    65349.0  \n",
              "공산품         546807.0   829474.0  1971597.0  \n",
              "서비스          94495.0  1172372.0  1929154.0  \n",
              "중간투입계       641917.0  2019059.0  3966100.0  \n",
              "피용자보수            0.0        0.0        0.0  \n",
              "영업잉여             0.0        0.0        0.0  \n",
              "고정자본소모           0.0        0.0        0.0  \n",
              "생산세(보조금공제)       0.0        0.0        0.0  \n",
              "부가가치계            0.0        0.0        0.0  \n",
              "총투입액             0.0        0.0        0.0  "
            ],
            "text/html": [
              "\n",
              "  <div id=\"df-3c72cdd0-fd0c-40f9-8f75-84bb820fea17\">\n",
              "    <div class=\"colab-df-container\">\n",
              "      <div>\n",
              "<style scoped>\n",
              "    .dataframe tbody tr th:only-of-type {\n",
              "        vertical-align: middle;\n",
              "    }\n",
              "\n",
              "    .dataframe tbody tr th {\n",
              "        vertical-align: top;\n",
              "    }\n",
              "\n",
              "    .dataframe thead th {\n",
              "        text-align: right;\n",
              "    }\n",
              "</style>\n",
              "<table border=\"1\" class=\"dataframe\">\n",
              "  <thead>\n",
              "    <tr style=\"text-align: right;\">\n",
              "      <th></th>\n",
              "      <th>농산품</th>\n",
              "      <th>공산품</th>\n",
              "      <th>서비스</th>\n",
              "      <th>중간수요계</th>\n",
              "      <th>소비</th>\n",
              "      <th>투자</th>\n",
              "      <th>수출</th>\n",
              "      <th>최종수요계</th>\n",
              "      <th>총수요계</th>\n",
              "    </tr>\n",
              "  </thead>\n",
              "  <tbody>\n",
              "    <tr>\n",
              "      <th>농산품</th>\n",
              "      <td>2862.0</td>\n",
              "      <td>34627.0</td>\n",
              "      <td>10647.0</td>\n",
              "      <td>48136.0</td>\n",
              "      <td>15115.0</td>\n",
              "      <td>1483.0</td>\n",
              "      <td>615.0</td>\n",
              "      <td>17213.0</td>\n",
              "      <td>65349.0</td>\n",
              "    </tr>\n",
              "    <tr>\n",
              "      <th>공산품</th>\n",
              "      <td>15765.0</td>\n",
              "      <td>814918.0</td>\n",
              "      <td>311440.0</td>\n",
              "      <td>1142123.0</td>\n",
              "      <td>161058.0</td>\n",
              "      <td>121609.0</td>\n",
              "      <td>546807.0</td>\n",
              "      <td>829474.0</td>\n",
              "      <td>1971597.0</td>\n",
              "    </tr>\n",
              "    <tr>\n",
              "      <th>서비스</th>\n",
              "      <td>6468.0</td>\n",
              "      <td>234018.0</td>\n",
              "      <td>516296.0</td>\n",
              "      <td>756782.0</td>\n",
              "      <td>765007.0</td>\n",
              "      <td>312870.0</td>\n",
              "      <td>94495.0</td>\n",
              "      <td>1172372.0</td>\n",
              "      <td>1929154.0</td>\n",
              "    </tr>\n",
              "    <tr>\n",
              "      <th>중간투입계</th>\n",
              "      <td>25095.0</td>\n",
              "      <td>1083563.0</td>\n",
              "      <td>838383.0</td>\n",
              "      <td>1947041.0</td>\n",
              "      <td>941180.0</td>\n",
              "      <td>435962.0</td>\n",
              "      <td>641917.0</td>\n",
              "      <td>2019059.0</td>\n",
              "      <td>3966100.0</td>\n",
              "    </tr>\n",
              "    <tr>\n",
              "      <th>피용자보수</th>\n",
              "      <td>4719.0</td>\n",
              "      <td>159133.0</td>\n",
              "      <td>511340.0</td>\n",
              "      <td>675192.0</td>\n",
              "      <td>0.0</td>\n",
              "      <td>0.0</td>\n",
              "      <td>0.0</td>\n",
              "      <td>0.0</td>\n",
              "      <td>0.0</td>\n",
              "    </tr>\n",
              "    <tr>\n",
              "      <th>영업잉여</th>\n",
              "      <td>20249.0</td>\n",
              "      <td>138143.0</td>\n",
              "      <td>250992.0</td>\n",
              "      <td>409384.0</td>\n",
              "      <td>0.0</td>\n",
              "      <td>0.0</td>\n",
              "      <td>0.0</td>\n",
              "      <td>0.0</td>\n",
              "      <td>0.0</td>\n",
              "    </tr>\n",
              "    <tr>\n",
              "      <th>고정자본소모</th>\n",
              "      <td>4346.0</td>\n",
              "      <td>103338.0</td>\n",
              "      <td>171018.0</td>\n",
              "      <td>278702.0</td>\n",
              "      <td>0.0</td>\n",
              "      <td>0.0</td>\n",
              "      <td>0.0</td>\n",
              "      <td>0.0</td>\n",
              "      <td>0.0</td>\n",
              "    </tr>\n",
              "    <tr>\n",
              "      <th>생산세(보조금공제)</th>\n",
              "      <td>549.0</td>\n",
              "      <td>48092.0</td>\n",
              "      <td>73851.0</td>\n",
              "      <td>122492.0</td>\n",
              "      <td>0.0</td>\n",
              "      <td>0.0</td>\n",
              "      <td>0.0</td>\n",
              "      <td>0.0</td>\n",
              "      <td>0.0</td>\n",
              "    </tr>\n",
              "    <tr>\n",
              "      <th>부가가치계</th>\n",
              "      <td>29863.0</td>\n",
              "      <td>448706.0</td>\n",
              "      <td>1007201.0</td>\n",
              "      <td>1485770.0</td>\n",
              "      <td>0.0</td>\n",
              "      <td>0.0</td>\n",
              "      <td>0.0</td>\n",
              "      <td>0.0</td>\n",
              "      <td>0.0</td>\n",
              "    </tr>\n",
              "    <tr>\n",
              "      <th>총투입액</th>\n",
              "      <td>54958.0</td>\n",
              "      <td>1532269.0</td>\n",
              "      <td>1845584.0</td>\n",
              "      <td>3432811.0</td>\n",
              "      <td>0.0</td>\n",
              "      <td>0.0</td>\n",
              "      <td>0.0</td>\n",
              "      <td>0.0</td>\n",
              "      <td>0.0</td>\n",
              "    </tr>\n",
              "  </tbody>\n",
              "</table>\n",
              "</div>\n",
              "      <button class=\"colab-df-convert\" onclick=\"convertToInteractive('df-3c72cdd0-fd0c-40f9-8f75-84bb820fea17')\"\n",
              "              title=\"Convert this dataframe to an interactive table.\"\n",
              "              style=\"display:none;\">\n",
              "        \n",
              "  <svg xmlns=\"http://www.w3.org/2000/svg\" height=\"24px\"viewBox=\"0 0 24 24\"\n",
              "       width=\"24px\">\n",
              "    <path d=\"M0 0h24v24H0V0z\" fill=\"none\"/>\n",
              "    <path d=\"M18.56 5.44l.94 2.06.94-2.06 2.06-.94-2.06-.94-.94-2.06-.94 2.06-2.06.94zm-11 1L8.5 8.5l.94-2.06 2.06-.94-2.06-.94L8.5 2.5l-.94 2.06-2.06.94zm10 10l.94 2.06.94-2.06 2.06-.94-2.06-.94-.94-2.06-.94 2.06-2.06.94z\"/><path d=\"M17.41 7.96l-1.37-1.37c-.4-.4-.92-.59-1.43-.59-.52 0-1.04.2-1.43.59L10.3 9.45l-7.72 7.72c-.78.78-.78 2.05 0 2.83L4 21.41c.39.39.9.59 1.41.59.51 0 1.02-.2 1.41-.59l7.78-7.78 2.81-2.81c.8-.78.8-2.07 0-2.86zM5.41 20L4 18.59l7.72-7.72 1.47 1.35L5.41 20z\"/>\n",
              "  </svg>\n",
              "      </button>\n",
              "      \n",
              "  <style>\n",
              "    .colab-df-container {\n",
              "      display:flex;\n",
              "      flex-wrap:wrap;\n",
              "      gap: 12px;\n",
              "    }\n",
              "\n",
              "    .colab-df-convert {\n",
              "      background-color: #E8F0FE;\n",
              "      border: none;\n",
              "      border-radius: 50%;\n",
              "      cursor: pointer;\n",
              "      display: none;\n",
              "      fill: #1967D2;\n",
              "      height: 32px;\n",
              "      padding: 0 0 0 0;\n",
              "      width: 32px;\n",
              "    }\n",
              "\n",
              "    .colab-df-convert:hover {\n",
              "      background-color: #E2EBFA;\n",
              "      box-shadow: 0px 1px 2px rgba(60, 64, 67, 0.3), 0px 1px 3px 1px rgba(60, 64, 67, 0.15);\n",
              "      fill: #174EA6;\n",
              "    }\n",
              "\n",
              "    [theme=dark] .colab-df-convert {\n",
              "      background-color: #3B4455;\n",
              "      fill: #D2E3FC;\n",
              "    }\n",
              "\n",
              "    [theme=dark] .colab-df-convert:hover {\n",
              "      background-color: #434B5C;\n",
              "      box-shadow: 0px 1px 3px 1px rgba(0, 0, 0, 0.15);\n",
              "      filter: drop-shadow(0px 1px 2px rgba(0, 0, 0, 0.3));\n",
              "      fill: #FFFFFF;\n",
              "    }\n",
              "  </style>\n",
              "\n",
              "      <script>\n",
              "        const buttonEl =\n",
              "          document.querySelector('#df-3c72cdd0-fd0c-40f9-8f75-84bb820fea17 button.colab-df-convert');\n",
              "        buttonEl.style.display =\n",
              "          google.colab.kernel.accessAllowed ? 'block' : 'none';\n",
              "\n",
              "        async function convertToInteractive(key) {\n",
              "          const element = document.querySelector('#df-3c72cdd0-fd0c-40f9-8f75-84bb820fea17');\n",
              "          const dataTable =\n",
              "            await google.colab.kernel.invokeFunction('convertToInteractive',\n",
              "                                                     [key], {});\n",
              "          if (!dataTable) return;\n",
              "\n",
              "          const docLinkHtml = 'Like what you see? Visit the ' +\n",
              "            '<a target=\"_blank\" href=https://colab.research.google.com/notebooks/data_table.ipynb>data table notebook</a>'\n",
              "            + ' to learn more about interactive tables.';\n",
              "          element.innerHTML = '';\n",
              "          dataTable['output_type'] = 'display_data';\n",
              "          await google.colab.output.renderOutput(dataTable, element);\n",
              "          const docLink = document.createElement('div');\n",
              "          docLink.innerHTML = docLinkHtml;\n",
              "          element.appendChild(docLink);\n",
              "        }\n",
              "      </script>\n",
              "    </div>\n",
              "  </div>\n",
              "  "
            ]
          },
          "metadata": {},
          "execution_count": 40
        }
      ]
    },
    {
      "cell_type": "markdown",
      "source": [
        "##Chapter 5...산업연관효과분석"
      ],
      "metadata": {
        "id": "JYbkwC_VPVv2"
      }
    },
    {
      "cell_type": "code",
      "source": [
        "Tt = Tot.to_numpy()  # 3부문 산업연관표를 numpy로 불러오기\n",
        "Dt = Dom.to_numpy()\n",
        "It = Imp.to_numpy()"
      ],
      "metadata": {
        "id": "pXrwfo8u86pr"
      },
      "execution_count": 41,
      "outputs": []
    },
    {
      "cell_type": "code",
      "source": [
        "Tt_1 = Tt[0:6,1:13].astype(float)\n",
        "Dm_1 = Dt[0:4,1:10].astype(float)\n",
        "Im_1 = It[0:4,1:10].astype(float)\n",
        "print('총거래표 : \\n', Tt_1)    # 총거래표 확인\n",
        "print('국산거래표 : \\n', Dm_1)  # 국산거래표 확인\n",
        "print('수입거래표 : \\n', Im_1)  # 수입거래표 확인"
      ],
      "metadata": {
        "colab": {
          "base_uri": "https://localhost:8080/"
        },
        "id": "q4Q2rSR1QiUI",
        "outputId": "bdbd44e9-2edc-4747-f11e-4b02a62ed079"
      },
      "execution_count": 42,
      "outputs": [
        {
          "output_type": "stream",
          "name": "stdout",
          "text": [
            "총거래표 : \n",
            " [[  2.  14.   4.  20.   3.   3.   2.   8.  28.  14.  14.  28.]\n",
            " [  5.  94.  39. 138.  32.  19.  73. 124. 262. 203.  59. 262.]\n",
            " [  2.  28.  58.  88. 106.  47.  15. 168. 256. 244.  12. 256.]\n",
            " [  9. 136. 101. 246. 141.  69.  90. 300. 546. 461.  85. 546.]\n",
            " [  5.  67. 143. 215.   0.   0.   0.   0.   0.   0.   0.   0.]\n",
            " [ 14. 203. 244. 461.   0.   0.   0.   0.   0.   0.   0.   0.]]\n",
            "국산거래표 : \n",
            " [[  1.   7.   1.   9.   1.   2.   2.   5.  14.]\n",
            " [  4.  61.  29.  94.  26.  13.  70. 109. 203.]\n",
            " [  1.  26.  52.  79. 104.  46.  15. 165. 244.]\n",
            " [  6.  94.  82. 182. 131.  61.  87. 279. 461.]]\n",
            "수입거래표 : \n",
            " [[ 1.  7.  3. 11.  2.  1.  0.  3. 14.]\n",
            " [ 1. 33. 10. 44.  6.  6.  3. 15. 59.]\n",
            " [ 1.  2.  6.  9.  2.  1.  0.  3. 12.]\n",
            " [ 3. 42. 19. 64. 10.  8.  3. 21. 85.]]\n"
          ]
        }
      ]
    },
    {
      "cell_type": "code",
      "source": [
        "ct = Tt_1[-1,0:3]  # 산출액\n",
        "ct"
      ],
      "metadata": {
        "colab": {
          "base_uri": "https://localhost:8080/"
        },
        "id": "sLoitK1lQigz",
        "outputId": "b8198171-8f21-4d7e-f05b-3f730db02f1f"
      },
      "execution_count": 43,
      "outputs": [
        {
          "output_type": "execute_result",
          "data": {
            "text/plain": [
              "array([ 14., 203., 244.])"
            ]
          },
          "metadata": {},
          "execution_count": 43
        }
      ]
    },
    {
      "cell_type": "code",
      "source": [
        "ct_m = np.tile(ct, reps=[3,1]) # 산출액을 3번 행반복\n",
        "ct_m"
      ],
      "metadata": {
        "colab": {
          "base_uri": "https://localhost:8080/"
        },
        "id": "s0wcbJY1Qipl",
        "outputId": "884d1113-5fe2-4792-c5ce-2b37c13d83e9"
      },
      "execution_count": 44,
      "outputs": [
        {
          "output_type": "execute_result",
          "data": {
            "text/plain": [
              "array([[ 14., 203., 244.],\n",
              "       [ 14., 203., 244.],\n",
              "       [ 14., 203., 244.]])"
            ]
          },
          "metadata": {},
          "execution_count": 44
        }
      ]
    },
    {
      "cell_type": "code",
      "source": [
        "At = Tt_1[0:3,0:3]/ct_m   # 총투입계수\n",
        "Ad = Dm_1[0:3,0:3]/ct_m  # 국산 투입계수\n",
        "\n",
        "print('총투입계수표 : \\n', At)\n",
        "print('국산투입계수표 : \\n', Ad)\n",
        "\n",
        "df_At = pd.DataFrame(At.round(3),columns = ['농산품', '공산품', '서비스'], index=['농산품', '공산품', '서비스'])  #pandas로 내보내기\n",
        "df_Ad = pd.DataFrame(Ad.round(3),columns = ['농산품', '공산품', '서비스'], index=['농산품', '공산품', '서비스'])  #pandas로 내보내기"
      ],
      "metadata": {
        "colab": {
          "base_uri": "https://localhost:8080/"
        },
        "id": "5uLIE7vfQiwM",
        "outputId": "0fcea6a5-3b40-44af-95cc-3b6e05bde978"
      },
      "execution_count": 45,
      "outputs": [
        {
          "output_type": "stream",
          "name": "stdout",
          "text": [
            "총투입계수표 : \n",
            " [[0.14285714 0.06896552 0.01639344]\n",
            " [0.35714286 0.46305419 0.15983607]\n",
            " [0.14285714 0.13793103 0.23770492]]\n",
            "국산투입계수표 : \n",
            " [[0.07142857 0.03448276 0.00409836]\n",
            " [0.28571429 0.30049261 0.11885246]\n",
            " [0.07142857 0.12807882 0.21311475]]\n"
          ]
        }
      ]
    },
    {
      "cell_type": "markdown",
      "source": [
        "##### 생산유발계수(Lf)"
      ],
      "metadata": {
        "id": "V0nnZSeHUPn8"
      }
    },
    {
      "cell_type": "code",
      "source": [
        "Lf = np.linalg.inv(np.identity(3)-Ad)  # 생산유발계수\n",
        "Lf"
      ],
      "metadata": {
        "colab": {
          "base_uri": "https://localhost:8080/"
        },
        "id": "SF7hebVoQi2M",
        "outputId": "f6c3b8c2-3293-417e-f366-70a74b729aa7"
      },
      "execution_count": 46,
      "outputs": [
        {
          "output_type": "execute_result",
          "data": {
            "text/plain": [
              "array([[1.09543838, 0.05661073, 0.01425599],\n",
              "       [0.47753427, 1.49491595, 0.22828175],\n",
              "       [0.17716386, 0.2484615 , 1.3092841 ]])"
            ]
          },
          "metadata": {},
          "execution_count": 46
        }
      ]
    },
    {
      "cell_type": "code",
      "source": [
        "df_Lf = pd.DataFrame(Lf.round(3),columns = ['농산품', '공산품', '서비스'], index=['농산품', '공산품', '서비스'])  #pandas로 내보내기"
      ],
      "metadata": {
        "id": "YT9SwuJnQi8T"
      },
      "execution_count": 47,
      "outputs": []
    },
    {
      "cell_type": "markdown",
      "source": [
        "#### 부가가치유발계수(Lv)"
      ],
      "metadata": {
        "id": "DkU6os7vUW-0"
      }
    },
    {
      "cell_type": "code",
      "source": [
        "Va_r = Tt_1[-2,0:3]/ct # 부가가치율\n",
        "Va_r"
      ],
      "metadata": {
        "colab": {
          "base_uri": "https://localhost:8080/"
        },
        "id": "KfbCR-LdQjCF",
        "outputId": "9d72f33d-fa43-4b6f-8baf-a045458e3a9b"
      },
      "execution_count": 48,
      "outputs": [
        {
          "output_type": "execute_result",
          "data": {
            "text/plain": [
              "array([0.35714286, 0.33004926, 0.58606557])"
            ]
          },
          "metadata": {},
          "execution_count": 48
        }
      ]
    },
    {
      "cell_type": "code",
      "source": [
        "Va_m = np.diag(Va_r)  # 부가가치율 대각행렬\n",
        "Va_m"
      ],
      "metadata": {
        "colab": {
          "base_uri": "https://localhost:8080/"
        },
        "id": "7dkxNSQCQjJF",
        "outputId": "71b769ca-9821-4df3-b547-ff64f579d722"
      },
      "execution_count": 49,
      "outputs": [
        {
          "output_type": "execute_result",
          "data": {
            "text/plain": [
              "array([[0.35714286, 0.        , 0.        ],\n",
              "       [0.        , 0.33004926, 0.        ],\n",
              "       [0.        , 0.        , 0.58606557]])"
            ]
          },
          "metadata": {},
          "execution_count": 49
        }
      ]
    },
    {
      "cell_type": "code",
      "source": [
        "Lv = Va_m@Lf  #부가가치유발계수\n",
        "Lv"
      ],
      "metadata": {
        "id": "DF_G_Hn09gRy",
        "colab": {
          "base_uri": "https://localhost:8080/"
        },
        "outputId": "38d1b664-ebf3-4b84-a308-75b9717794da"
      },
      "execution_count": 50,
      "outputs": [
        {
          "output_type": "execute_result",
          "data": {
            "text/plain": [
              "array([[0.39122799, 0.02021812, 0.00509142],\n",
              "       [0.15760983, 0.49339591, 0.07534422],\n",
              "       [0.10382964, 0.14561473, 0.76732634]])"
            ]
          },
          "metadata": {},
          "execution_count": 50
        }
      ]
    },
    {
      "cell_type": "code",
      "source": [
        "df_Lv = pd.DataFrame(Lv.round(3),columns = ['농산품', '공산품', '서비스'], index=['농산품', '공산품', '서비스'])  # pandas로 내보내기"
      ],
      "metadata": {
        "id": "Od3StAXA86sf"
      },
      "execution_count": 51,
      "outputs": []
    },
    {
      "cell_type": "markdown",
      "source": [
        "#### 수입유발계수"
      ],
      "metadata": {
        "id": "G-NYB11hVLEO"
      }
    },
    {
      "cell_type": "code",
      "source": [
        "Ai = Im_1[0:3,0:3]/ct_m\n",
        "\n",
        "print('수입투입계수표 : \\n', Ai)\n",
        "\n",
        "df_Ai = pd.DataFrame(Ai.round(3))  #pandas로 내보내기"
      ],
      "metadata": {
        "id": "IRm-HtOf9KVx",
        "colab": {
          "base_uri": "https://localhost:8080/"
        },
        "outputId": "2b8419c8-8248-4364-9cc4-369238dccf9f"
      },
      "execution_count": 52,
      "outputs": [
        {
          "output_type": "stream",
          "name": "stdout",
          "text": [
            "수입투입계수표 : \n",
            " [[0.07142857 0.03448276 0.01229508]\n",
            " [0.07142857 0.16256158 0.04098361]\n",
            " [0.07142857 0.00985222 0.02459016]]\n"
          ]
        }
      ]
    },
    {
      "cell_type": "code",
      "source": [
        "Li = Ai@Lf  #수입유발계수\n",
        "Li"
      ],
      "metadata": {
        "id": "_8fZBBSX9kld",
        "outputId": "9777bbad-6b23-4a83-9de7-13758f5c13f7",
        "colab": {
          "base_uri": "https://localhost:8080/"
        }
      },
      "execution_count": 53,
      "outputs": [
        {
          "output_type": "execute_result",
          "data": {
            "text/plain": [
              "array([[0.09689054, 0.0586473 , 0.02498782],\n",
              "       [0.16313514, 0.25724237, 0.09178731],\n",
              "       [0.08730686, 0.02488157, 0.03546288]])"
            ]
          },
          "metadata": {},
          "execution_count": 53
        }
      ]
    },
    {
      "cell_type": "code",
      "source": [
        "df_Li = pd.DataFrame(Li.round(3),columns = ['농산품', '공산품', '서비스'], index=['농산품', '공산품', '서비스'])  #pandas로 내보내기"
      ],
      "metadata": {
        "id": "qxP0BGTe-J6J"
      },
      "execution_count": 54,
      "outputs": []
    },
    {
      "cell_type": "markdown",
      "source": [],
      "metadata": {
        "id": "rDsqvOxBbB5w"
      }
    },
    {
      "cell_type": "code",
      "source": [
        "# CSV파일로 결과 내보내기\n",
        "df_At.to_csv('총투입계수.csv')\n",
        "df_Ad.to_csv('국산투입계수.csv')\n",
        "df_Ai.to_csv('수입투입계수.csv')\n",
        "\n",
        "df_Lf.to_csv('생산유발계수.csv')\n",
        "df_Lv.to_csv('부가가치유발계수.csv')\n",
        "df_Li.to_csv('수입유발계수.csv')"
      ],
      "metadata": {
        "id": "Var3WdHW-NdY"
      },
      "execution_count": 55,
      "outputs": []
    },
    {
      "cell_type": "markdown",
      "source": [
        "### 최종수요 항목별 유발효과"
      ],
      "metadata": {
        "id": "6zhSQgh83SmB"
      }
    },
    {
      "cell_type": "markdown",
      "source": [
        "##### 생산유발효과"
      ],
      "metadata": {
        "id": "P8-fs47q3WzF"
      }
    },
    {
      "cell_type": "code",
      "source": [
        "Yd = Dt[0:3,5:8]  # 국산최종수요...소비, 투자, 수출\n",
        "Yi = It[0:3,5:8]  # 수입최종수요...소비, 투자, 수출\n",
        "print('국산최종수요 : \\n', Yd)\n",
        "print('수입최종수요 : \\n', Yi)"
      ],
      "metadata": {
        "id": "aZ0NQ51_-OTA",
        "colab": {
          "base_uri": "https://localhost:8080/"
        },
        "outputId": "e42e501d-0e34-48ad-f589-cc656b9f0012"
      },
      "execution_count": 56,
      "outputs": [
        {
          "output_type": "stream",
          "name": "stdout",
          "text": [
            "국산최종수요 : \n",
            " [[1 2 2]\n",
            " [26 13 70]\n",
            " [104 46 15]]\n",
            "수입최종수요 : \n",
            " [[2 1 0]\n",
            " [6 6 3]\n",
            " [2 1 0]]\n"
          ]
        }
      ]
    },
    {
      "cell_type": "code",
      "source": [
        "Lfyd = (Lf@Yd).astype(float).reshape([3,3])   # 데이터타입을 float으로 지정하고 3x3행렬로 지정\n",
        "Lvyd = (Lv@Yd).astype(float).reshape([3,3])   # 데이터타입을 float으로 지정하고 3x3행렬로 지정\n",
        "Liyd = (Li@Yd).astype(float).reshape([3,3]) + Yi.astype(float).reshape([3,3]) # 데이터타입을 float으로 지정하고 3x3행렬로 지정\n",
        "\n",
        "print('최종수요항목별 생산유발계수 : \\n', Lfyd)\n",
        "print('최종수요항목별 부가가치유발계수 : \\n', Lvyd)\n",
        "print('최종수요항목별 수입유발계수 : \\n', Liyd)\n"
      ],
      "metadata": {
        "id": "vI4pjfvx-WU_",
        "colab": {
          "base_uri": "https://localhost:8080/"
        },
        "outputId": "b5eef701-98be-4f8d-a3f1-bbfe929525e5"
      },
      "execution_count": 57,
      "outputs": [
        {
          "output_type": "stream",
          "name": "stdout",
          "text": [
            "최종수요항목별 생산유발계수 : \n",
            " [[  4.04994023   3.58259176   6.36746801]\n",
            " [ 63.08665161  30.88993669 109.0234117 ]\n",
            " [142.80270952  63.81139594  37.38589454]]\n",
            "최종수요항목별 부가가치유발계수 : \n",
            " [[ 1.44640723  1.27949706  2.27409572]\n",
            " [20.82170275 10.19520078 35.98309647]\n",
            " [83.69175189 37.39766237 21.91058574]]\n",
            "최종수요항목별 수입유발계수 : \n",
            " [[ 6.22045424  3.10563599  4.67390977]\n",
            " [22.39731704 13.89263736 22.7100456 ]\n",
            " [ 6.42236685  3.12936645  2.4482667 ]]\n"
          ]
        }
      ]
    },
    {
      "cell_type": "code",
      "source": [
        "##### 최종수요항목별 유발계수 검증...최종수요항목별 생산유발계수=산출액, 최종수요항목별 부가가치유발계수=부가가치, 최종수요항목별 수입유발계수=수입 이 성립하여야 함  "
      ],
      "metadata": {
        "id": "2i4MUlDg5HPP"
      },
      "execution_count": 58,
      "outputs": []
    },
    {
      "cell_type": "code",
      "source": [
        "Lfyd_sm = Lfyd.sum(axis=1).astype(float).reshape([3,1])\n",
        "Lvyd_sm = Lvyd.sum(axis=1).astype(float).reshape([3,1])\n",
        "Liyd_sm = Liyd.sum(axis=1).astype(float).reshape([3,1])\n",
        "\n",
        "print('최종수요항목별 생산유발계수의 열합 : \\n', Lfyd_sm)\n",
        "print('최종수요항목별 부가가치유발의 열합 : \\n', Lvyd_sm)\n",
        "print('최종수요항목별 수입유발계의 열합 : \\n', Liyd_sm)"
      ],
      "metadata": {
        "colab": {
          "base_uri": "https://localhost:8080/"
        },
        "id": "kJH9hmlC5HUr",
        "outputId": "a5426bfb-1f67-4901-c162-46bbbd62328b"
      },
      "execution_count": 59,
      "outputs": [
        {
          "output_type": "stream",
          "name": "stdout",
          "text": [
            "최종수요항목별 생산유발계수의 열합 : \n",
            " [[ 14.]\n",
            " [203.]\n",
            " [244.]]\n",
            "최종수요항목별 부가가치유발의 열합 : \n",
            " [[  5.]\n",
            " [ 67.]\n",
            " [143.]]\n",
            "최종수요항목별 수입유발계의 열합 : \n",
            " [[14.]\n",
            " [59.]\n",
            " [12.]]\n"
          ]
        }
      ]
    },
    {
      "cell_type": "markdown",
      "source": [
        "###### 최종수요항목별 생산, 부가가치 및 수입유발계수"
      ],
      "metadata": {
        "id": "lIoPBD-Fae1A"
      }
    },
    {
      "cell_type": "code",
      "source": [
        "Yd_rw_sm =Yd.sum(axis=0)  #국산최종수요항목별(소비, 투자, 수출) 행합\n",
        "Yi_rw_sm =Yi.sum(axis=0)  #수입최종수요항목별(소비, 투자, 수출) 행합\n",
        "\n",
        "Lfyd_rw_sm = Lfyd.sum(axis=0) # 최종수요항목별(소비, 투자, 수출) 생산유발계수 행합\n",
        "Lvyd_rw_sm = Lvyd.sum(axis=0) # 최종수요항목별(소비, 투자, 수출) 부가가치유발계수 행합\n",
        "Liyd_rw_sm = Liyd.sum(axis=0) # 최종수요항목별(소비, 투자, 수출) 수입유발계수 행합\n",
        "\n",
        "print('최종수요항목별 행합 : \\n', Yd_rw_sm)\n",
        "print('최종수요항목별 생산유발계수 행합 : \\n', Lfyd_rw_sm)\n",
        "print('최종수요항목별 부가가치유발계수 행합 : \\n', Lvyd_rw_sm)\n",
        "print('최종수요항목별 수입유발계수 행합: \\n', Liyd_rw_sm)"
      ],
      "metadata": {
        "colab": {
          "base_uri": "https://localhost:8080/"
        },
        "id": "6XUSbGUyanOq",
        "outputId": "36e24e8e-0703-4338-f5ae-8e75ffe44cc4"
      },
      "execution_count": 60,
      "outputs": [
        {
          "output_type": "stream",
          "name": "stdout",
          "text": [
            "최종수요항목별 행합 : \n",
            " [131 61 87]\n",
            "최종수요항목별 생산유발계수 행합 : \n",
            " [209.93930137  98.28392438 152.77677425]\n",
            "최종수요항목별 부가가치유발계수 행합 : \n",
            " [105.95986187  48.87236021  60.16777793]\n",
            "최종수요항목별 수입유발계수 행합: \n",
            " [35.04013813 20.12763979 29.83222207]\n"
          ]
        }
      ]
    },
    {
      "cell_type": "markdown",
      "source": [
        "##### 최종수요항목별(소비, 투자, 수출) 유발계수"
      ],
      "metadata": {
        "id": "_hjFJ_N0dggV"
      }
    },
    {
      "cell_type": "code",
      "source": [
        "Lfyd_coef =(Lfyd_rw_sm/Yd_rw_sm).astype(float).reshape([1,3]) #최종수요항목별(소비, 투자, 수출) 생산유발계수\n",
        "Lvyd_coef =(Lvyd_rw_sm/Yd_rw_sm).astype(float).reshape([1,3]) #최종수요항목별(소비, 투자, 수출) 생산유발계수\n",
        "Liyd_coef =(Liyd_rw_sm/(Yd_rw_sm+Yi_rw_sm)).astype(float).reshape([1,3]) #최종수요항목별(소비, 투자, 수출) 생산유발계수\n",
        "\n",
        "print('최종수요항목별(소비, 투자, 수출) 생산유발계수 행합 : \\n', Lfyd_coef)\n",
        "print('최종수요항목별(소비, 투자, 수출) 부가가치유발계수 행합 : \\n', Lvyd_coef)\n",
        "print('최종수요항목별(소비, 투자, 수출) 수입유발계수 행합: \\n', Liyd_coef)"
      ],
      "metadata": {
        "colab": {
          "base_uri": "https://localhost:8080/"
        },
        "id": "MmV_4BB-anZi",
        "outputId": "1780139b-7ae8-4c6c-bce5-8a7f66ed84f7"
      },
      "execution_count": 61,
      "outputs": [
        {
          "output_type": "stream",
          "name": "stdout",
          "text": [
            "최종수요항목별(소비, 투자, 수출) 생산유발계수 행합 : \n",
            " [[1.60259009 1.61121188 1.75605488]]\n",
            "최종수요항목별(소비, 투자, 수출) 부가가치유발계수 행합 : \n",
            " [[0.80885391 0.80118623 0.69158365]]\n",
            "최종수요항목별(소비, 투자, 수출) 수입유발계수 행합: \n",
            " [[0.24851162 0.29170492 0.33146913]]\n"
          ]
        }
      ]
    },
    {
      "cell_type": "markdown",
      "source": [
        "###### 영향력계수(후방연쇄효과) 및 감응도계수(전방연쇄효과)"
      ],
      "metadata": {
        "id": "Kr23Ly0AhpVR"
      }
    },
    {
      "cell_type": "code",
      "source": [
        "Lf_rw_sm = Lf.sum(axis=0)  # 생산유발계수 행합\n",
        "Lf_cl_sm = Lf.sum(axis=1)  # 생산유발계수 행합\n",
        "\n",
        "Lf_bwd = (Lf.sum(axis=0)/Lf_rw_sm.mean()).astype(float).reshape([1,3])  #영향력 계수\n",
        "Lf_fwd = (Lf.sum(axis=1)/Lf_cl_sm.mean()).astype(float).reshape([1,3])  #감응도 계수\n",
        "\n",
        "print('품목별 영향력계수 : \\n', Lf_bwd)\n",
        "print('품목별 감음도계수: \\n', Lf_fwd)"
      ],
      "metadata": {
        "colab": {
          "base_uri": "https://localhost:8080/"
        },
        "id": "DxnO-URDanip",
        "outputId": "c1680a72-2e0c-4f36-d03f-9e2953cb61db"
      },
      "execution_count": 62,
      "outputs": [
        {
          "output_type": "stream",
          "name": "stdout",
          "text": [
            "품목별 영향력계수 : \n",
            " [[1.02909928 1.05841261 0.9124881 ]]\n",
            "품목별 감음도계수: \n",
            " [[0.68580007 1.29405432 1.02014561]]\n"
          ]
        }
      ]
    },
    {
      "cell_type": "code",
      "source": [
        "# pandas로 변환기\n",
        "\n",
        "df_Lfyd =pd.DataFrame(Lfyd.round(1),columns = ['농산품', '공산품', '서비스'], index=['소비', '투자', '수출'])  #pandas로 내보내기\n",
        "df_Lvyd =pd.DataFrame(Lvyd.round(1),columns = ['농산품', '공산품', '서비스'], index=['소비', '투자', '수출'])  \n",
        "df_Liyd =pd.DataFrame(Liyd.round(1),columns = ['농산품', '공산품', '서비스'], index=['소비', '투자', '수출'])  \n",
        "\n",
        "df_Lfyd_coef = pd.DataFrame(Lfyd_coef.round(3),columns = ['농산품', '공산품', '서비스'], index=['항목별 생산유발계수'])\n",
        "df_Lvyd_coef = pd.DataFrame(Lvyd_coef.round(3),columns = ['농산품', '공산품', '서비스'], index=['항목별 부가가치유발계수'])\n",
        "df_Liyd_coef = pd.DataFrame(Liyd_coef.round(3),columns = ['농산품', '공산품', '서비스'], index=['항목별 수입유발계수'])\n",
        "\n",
        "df_Lf_bwd = pd.DataFrame(Lf_bwd.round(3), columns = ['농산품', '공산품', '서비스'], index=['영향력계수'])\n",
        "df_Lf_fwd = pd.DataFrame(Lf_fwd.round(3), columns = ['농산품', '공산품', '서비스'], index=['영향력계수'])\n",
        "\n",
        "print(df_Lfyd)\n",
        "print(df_Lvyd)\n",
        "print(df_Liyd)\n",
        "\n",
        "print(df_Lfyd_coef)\n",
        "print(df_Lvyd_coef)\n",
        "print(df_Liyd_coef)\n",
        "\n",
        "print(df_Lf_bwd)\n",
        "print(df_Lf_fwd)"
      ],
      "metadata": {
        "colab": {
          "base_uri": "https://localhost:8080/"
        },
        "id": "Uy-18-Rxanp2",
        "outputId": "17af469a-74f4-4e1c-d817-9cae540f3c12"
      },
      "execution_count": 63,
      "outputs": [
        {
          "output_type": "stream",
          "name": "stdout",
          "text": [
            "      농산품   공산품    서비스\n",
            "소비    4.0   3.6    6.4\n",
            "투자   63.1  30.9  109.0\n",
            "수출  142.8  63.8   37.4\n",
            "     농산품   공산품   서비스\n",
            "소비   1.4   1.3   2.3\n",
            "투자  20.8  10.2  36.0\n",
            "수출  83.7  37.4  21.9\n",
            "     농산품   공산품   서비스\n",
            "소비   6.2   3.1   4.7\n",
            "투자  22.4  13.9  22.7\n",
            "수출   6.4   3.1   2.4\n",
            "              농산품    공산품    서비스\n",
            "항목별 생산유발계수  1.603  1.611  1.756\n",
            "                농산품    공산품    서비스\n",
            "항목별 부가가치유발계수  0.809  0.801  0.692\n",
            "              농산품    공산품    서비스\n",
            "항목별 수입유발계수  0.249  0.292  0.331\n",
            "         농산품    공산품    서비스\n",
            "영향력계수  1.029  1.058  0.912\n",
            "         농산품    공산품   서비스\n",
            "영향력계수  0.686  1.294  1.02\n"
          ]
        }
      ]
    },
    {
      "cell_type": "code",
      "source": [
        "# csv 파일로 내보내기\n",
        "df_Lfyd.to_csv('최종수요항목별 생산유발.csv')\n",
        "df_Lvyd.to_csv('최종수요항목별 부가가치유발.csv')\n",
        "df_Liyd.to_csv('최종수요항목별 수입유발.csv')\n",
        "\n",
        "df_Lfyd_coef.to_csv('최종수요항목별 생산유발계수.csv')\n",
        "df_Lvyd_coef.to_csv('최종수요항목별 부가가치유발계수.csv')\n",
        "df_Liyd_coef.to_csv('최종수요항목별 수입유발계수.csv')\n",
        "\n",
        "df_Lf_bwd.to_csv('영향력계수.csv')\n",
        "df_Lf_bwd.to_csv('감응도계수.csv')"
      ],
      "metadata": {
        "id": "Dk8oBy3oanwg"
      },
      "execution_count": 64,
      "outputs": []
    },
    {
      "cell_type": "code",
      "source": [],
      "metadata": {
        "id": "G-mJLG0can6J"
      },
      "execution_count": 64,
      "outputs": []
    },
    {
      "cell_type": "code",
      "source": [],
      "metadata": {
        "id": "OcdzFts-aoCe"
      },
      "execution_count": 64,
      "outputs": []
    },
    {
      "cell_type": "code",
      "source": [
        "#pandas로 내보내기\n",
        "\n",
        "df_Lfyd = pd.DataFrame(Lfyd.round(3),columns = ['농산품', '공산품', '서비스'], index=['농산품', '공산품', '서비스'])  \n",
        "df_Lvyd = pd.DataFrame(Lvyd.round(3),columns = ['농산품', '공산품', '서비스'], index=['농산품', '공산품', '서비스'])  \n",
        "df_Liyd = pd.DataFrame(Liyd.round(3),columns = ['농산품', '공산품', '서비스'], index=['농산품', '공산품', '서비스']) \n"
      ],
      "metadata": {
        "id": "IrTVIJP06hir"
      },
      "execution_count": 65,
      "outputs": []
    },
    {
      "cell_type": "code",
      "source": [
        "# csv 파일로 내보내기\n",
        "\n",
        "df_Lfyd.to_csv('Lfyd_3_secs.csv')\n",
        "df_Lvyd.to_csv('Lvyd_3_secs.csv')\n",
        "df_Liyd.to_csv('Liyd_3_secs.csv')"
      ],
      "metadata": {
        "id": "aBWNCPV-_T6J"
      },
      "execution_count": 66,
      "outputs": []
    },
    {
      "cell_type": "markdown",
      "source": [
        "### 물가파급효과 분석\n",
        "\n",
        "\n",
        "##### - 투입계수의 전치행렬을 이용하여 생산유발계수(Lf)을 이용하여 각종 물가파급효과 분석 가능"
      ],
      "metadata": {
        "id": "LrSLa3VTD5Nd"
      }
    },
    {
      "cell_type": "code",
      "source": [
        "At_trans = At.T  # 총투입계수의 전치행렬\n",
        "Ad_trans = Ad.T  # 국산투입계수의 전치행렬\n",
        "\n",
        "print('총투입계수의 전치행렬 : \\n', At_trans)\n",
        "print('국산투입계수의 전치행렬: \\n', Ad_trans)\n",
        "\n",
        "Lf_trans = np.linalg.inv(np.eye(3)-Ad_trans)  # (I-Ad_trans)의 역행렬 \n",
        "print('국산투입계수 전치행렬의 역행렬: \\n', Lf_trans)"
      ],
      "metadata": {
        "id": "QlwdX5oMD71E",
        "outputId": "313ec61e-f59d-4ae1-955b-7133cc5e6830",
        "colab": {
          "base_uri": "https://localhost:8080/"
        }
      },
      "execution_count": 67,
      "outputs": [
        {
          "output_type": "stream",
          "name": "stdout",
          "text": [
            "총투입계수의 전치행렬 : \n",
            " [[0.14285714 0.35714286 0.14285714]\n",
            " [0.06896552 0.46305419 0.13793103]\n",
            " [0.01639344 0.15983607 0.23770492]]\n",
            "국산투입계수의 전치행렬: \n",
            " [[0.07142857 0.28571429 0.07142857]\n",
            " [0.03448276 0.30049261 0.12807882]\n",
            " [0.00409836 0.11885246 0.21311475]]\n",
            "국산투입계수 전치행렬의 역행렬: \n",
            " [[1.09543838 0.47753427 0.17716386]\n",
            " [0.05661073 1.49491595 0.2484615 ]\n",
            " [0.01425599 0.22828175 1.3092841 ]]\n"
          ]
        }
      ]
    },
    {
      "cell_type": "markdown",
      "source": [],
      "metadata": {
        "id": "aBgrgkliI_uH"
      }
    },
    {
      "cell_type": "markdown",
      "source": [
        "#### 임금인상의 물가파급효과"
      ],
      "metadata": {
        "id": "VmIala71I_1M"
      }
    },
    {
      "cell_type": "code",
      "source": [
        "delta_all_w = np.array([0.1,0.1,0.1]).reshape([3,1]) # 모든 상품의 임금이 10% 상승\n",
        "delta_all_Pw = (Lf_trans@Va_m)@delta_all_w\n",
        "\n",
        "delta_par_w = np.array([0,0.1,0]).reshape([3,1]) # 공산품의 임금이 10% 상승\n",
        "delta_par_Pw = (Lf_trans@Va_m)@delta_par_w\n",
        "\n",
        "print('모든 상품의 임금이 10% 상승시 물가파급효과: \\n', delta_all_Pw)\n",
        "print('공산품의 임금이 10% 상승시 물가파급효과: \\n', delta_par_Pw)\n"
      ],
      "metadata": {
        "id": "hT30koHOD8WG",
        "outputId": "71d3d7b3-b4d7-40d1-cfa3-65a1ef0fc0ea",
        "colab": {
          "base_uri": "https://localhost:8080/"
        }
      },
      "execution_count": 68,
      "outputs": [
        {
          "output_type": "stream",
          "name": "stdout",
          "text": [
            "모든 상품의 임금이 10% 상승시 물가파급효과: \n",
            " [[0.06526675]\n",
            " [0.06592288]\n",
            " [0.0847762 ]]\n",
            "공산품의 임금이 10% 상승시 물가파급효과: \n",
            " [[0.01576098]\n",
            " [0.04933959]\n",
            " [0.00753442]]\n"
          ]
        }
      ]
    },
    {
      "cell_type": "markdown",
      "source": [
        "#### 공공요금 등 내생부분(중간투입품)의 물가파급효과"
      ],
      "metadata": {
        "id": "lz8QJDXeZA_n"
      }
    },
    {
      "cell_type": "code",
      "source": [
        "#### 중간투입되는 공산품의 물가변동의 파급효과 분석\n",
        "\n",
        "Ad_exd_row = np.delete(Ad_trans,1,0).reshape([2,3])  # 공산품(sectors2) 행 삭제\n",
        "Ad_exd_manu = np.delete(Ad_exd_row,1,1).reshape([2,2])  # 공산품(sectors2) 열 삭제,,최종적으로 2x2 행렬\n",
        "print('물가변동이 발생한 부문을 제가한 국산투입계수 : \\n', Ad_exd_manu)\n",
        "\n",
        "A_Pr_sec2 = np.concatenate((Ad_trans[0,1].reshape([1,1]),Ad_trans[2,1].reshape([1,1])),axis=0).reshape([2,1])  # 물가가 변동하는 부문의 국산 투입계수(a21, a23)\n",
        "print('물가변동이 발생한 부문의 국산투입계수 : \\n', A_Pr_sec2)\n",
        "\n",
        "#공산품 물가 10% 상승시 파급효과\n",
        "\n",
        "delta_par_manu = Ad_exd_manu@A_Pr_sec2*0.1\n",
        "print('공산품 10% 상승시 다른 부문의 물가변동 : \\n', delta_par_manu)"
      ],
      "metadata": {
        "id": "MH8Zx-JXD8ZG",
        "outputId": "02b9319e-0036-4f05-aebe-29e76a147e24",
        "colab": {
          "base_uri": "https://localhost:8080/"
        }
      },
      "execution_count": 98,
      "outputs": [
        {
          "output_type": "stream",
          "name": "stdout",
          "text": [
            "물가변동이 발생한 부문을 제가한 국산투입계수 : \n",
            " [[0.07142857 0.07142857]\n",
            " [0.00409836 0.21311475]]\n",
            "물가변동이 발생한 부문의 국산투입계수 : \n",
            " [[0.28571429]\n",
            " [0.11885246]]\n",
            "공산품 10% 상승시 다른 부문의 물가변동 : \n",
            " [[0.00288976]\n",
            " [0.00265002]]\n"
          ]
        }
      ]
    },
    {
      "cell_type": "code",
      "source": [],
      "metadata": {
        "id": "5p1nygTxZI38"
      },
      "execution_count": null,
      "outputs": []
    }
  ]
}