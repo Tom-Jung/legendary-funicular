{
  "nbformat": 4,
  "nbformat_minor": 0,
  "metadata": {
    "colab": {
      "provenance": [],
      "mount_file_id": "https://github.com/Tom-Jung/legendary-funicular/blob/main/IO_tables.ipynb",
      "authorship_tag": "ABX9TyPjEwJf8GuCgTPyKq6BUUDr",
      "include_colab_link": true
    },
    "kernelspec": {
      "name": "python3",
      "display_name": "Python 3"
    },
    "language_info": {
      "name": "python"
    }
  },
  "cells": [
    {
      "cell_type": "markdown",
      "metadata": {
        "id": "view-in-github",
        "colab_type": "text"
      },
      "source": [
        "<a href=\"https://colab.research.google.com/github/Tom-Jung/legendary-funicular/blob/main/Types_of_IOTs.ipynb\" target=\"_parent\"><img src=\"https://colab.research.google.com/assets/colab-badge.svg\" alt=\"Open In Colab\"/></a>"
      ]
    },
    {
      "cell_type": "code",
      "source": [
        "import numpy as np   # Numpy import\n",
        "import pandas as pd  # Pandas import"
      ],
      "metadata": {
        "id": "TR7JvW8CxBFT"
      },
      "execution_count": 1,
      "outputs": []
    },
    {
      "cell_type": "markdown",
      "source": [
        "## 산업연관표의 종류\n"
      ],
      "metadata": {
        "id": "Ja1OCBr1_w2z"
      }
    },
    {
      "cell_type": "code",
      "source": [
        "url_total = \"https://raw.githubusercontent.com/Tom-Jung/legendary-funicular/main/Total_3_secs.csv\"\n",
        "Tot = pd.read_csv(url_total)\n"
      ],
      "metadata": {
        "id": "1-cypvlPA0Tu"
      },
      "execution_count": 2,
      "outputs": []
    },
    {
      "cell_type": "code",
      "source": [
        "Tot"
      ],
      "metadata": {
        "colab": {
          "base_uri": "https://localhost:8080/",
          "height": 363
        },
        "id": "rtqZunX0walG",
        "outputId": "9e18df0a-aa81-4c2d-8f68-2c5237ad4a57"
      },
      "execution_count": 3,
      "outputs": [
        {
          "output_type": "execute_result",
          "data": {
            "text/plain": [
              "                                       name  Agriculture  Manufacturing  \\\n",
              "0                               Agriculture            2             14   \n",
              "1                             Manufacturing            5             94   \n",
              "2                                  Services            2             28   \n",
              "3                  Total intermediate input            9            136   \n",
              "4                 Compensation of employees            1             26   \n",
              "5                     Net operating surplus            2             17   \n",
              "6              Consumption of fixed capital            1             15   \n",
              "7  Other taxes on production less subsidies            1              9   \n",
              "8                         Total value added            5             67   \n",
              "9                               Total input           14            203   \n",
              "\n",
              "   Services  Total intermediate demand  Conumption  Investment  Exports  \\\n",
              "0         4                         20           3           3        2   \n",
              "1        39                        138          32          19       73   \n",
              "2        58                         88         106          47       15   \n",
              "3       101                        246         141          69       90   \n",
              "4        71                         98           0           0        0   \n",
              "5        37                         56           0           0        0   \n",
              "6        25                         41           0           0        0   \n",
              "7        10                         20           0           0        0   \n",
              "8       143                        215           0           0        0   \n",
              "9       244                        461           0           0        0   \n",
              "\n",
              "   Total final demand  Total demand  Total output  Imports  Total supply  \n",
              "0                   8            28            14       14            28  \n",
              "1                 124           262           203       59           262  \n",
              "2                 168           256           244       12           256  \n",
              "3                 300           546           461       85           546  \n",
              "4                   0             0             0        0             0  \n",
              "5                   0             0             0        0             0  \n",
              "6                   0             0             0        0             0  \n",
              "7                   0             0             0        0             0  \n",
              "8                   0             0             0        0             0  \n",
              "9                   0             0             0        0             0  "
            ],
            "text/html": [
              "\n",
              "  <div id=\"df-6c5a23e1-aa55-46cc-9d8d-7904b5c6db39\">\n",
              "    <div class=\"colab-df-container\">\n",
              "      <div>\n",
              "<style scoped>\n",
              "    .dataframe tbody tr th:only-of-type {\n",
              "        vertical-align: middle;\n",
              "    }\n",
              "\n",
              "    .dataframe tbody tr th {\n",
              "        vertical-align: top;\n",
              "    }\n",
              "\n",
              "    .dataframe thead th {\n",
              "        text-align: right;\n",
              "    }\n",
              "</style>\n",
              "<table border=\"1\" class=\"dataframe\">\n",
              "  <thead>\n",
              "    <tr style=\"text-align: right;\">\n",
              "      <th></th>\n",
              "      <th>name</th>\n",
              "      <th>Agriculture</th>\n",
              "      <th>Manufacturing</th>\n",
              "      <th>Services</th>\n",
              "      <th>Total intermediate demand</th>\n",
              "      <th>Conumption</th>\n",
              "      <th>Investment</th>\n",
              "      <th>Exports</th>\n",
              "      <th>Total final demand</th>\n",
              "      <th>Total demand</th>\n",
              "      <th>Total output</th>\n",
              "      <th>Imports</th>\n",
              "      <th>Total supply</th>\n",
              "    </tr>\n",
              "  </thead>\n",
              "  <tbody>\n",
              "    <tr>\n",
              "      <th>0</th>\n",
              "      <td>Agriculture</td>\n",
              "      <td>2</td>\n",
              "      <td>14</td>\n",
              "      <td>4</td>\n",
              "      <td>20</td>\n",
              "      <td>3</td>\n",
              "      <td>3</td>\n",
              "      <td>2</td>\n",
              "      <td>8</td>\n",
              "      <td>28</td>\n",
              "      <td>14</td>\n",
              "      <td>14</td>\n",
              "      <td>28</td>\n",
              "    </tr>\n",
              "    <tr>\n",
              "      <th>1</th>\n",
              "      <td>Manufacturing</td>\n",
              "      <td>5</td>\n",
              "      <td>94</td>\n",
              "      <td>39</td>\n",
              "      <td>138</td>\n",
              "      <td>32</td>\n",
              "      <td>19</td>\n",
              "      <td>73</td>\n",
              "      <td>124</td>\n",
              "      <td>262</td>\n",
              "      <td>203</td>\n",
              "      <td>59</td>\n",
              "      <td>262</td>\n",
              "    </tr>\n",
              "    <tr>\n",
              "      <th>2</th>\n",
              "      <td>Services</td>\n",
              "      <td>2</td>\n",
              "      <td>28</td>\n",
              "      <td>58</td>\n",
              "      <td>88</td>\n",
              "      <td>106</td>\n",
              "      <td>47</td>\n",
              "      <td>15</td>\n",
              "      <td>168</td>\n",
              "      <td>256</td>\n",
              "      <td>244</td>\n",
              "      <td>12</td>\n",
              "      <td>256</td>\n",
              "    </tr>\n",
              "    <tr>\n",
              "      <th>3</th>\n",
              "      <td>Total intermediate input</td>\n",
              "      <td>9</td>\n",
              "      <td>136</td>\n",
              "      <td>101</td>\n",
              "      <td>246</td>\n",
              "      <td>141</td>\n",
              "      <td>69</td>\n",
              "      <td>90</td>\n",
              "      <td>300</td>\n",
              "      <td>546</td>\n",
              "      <td>461</td>\n",
              "      <td>85</td>\n",
              "      <td>546</td>\n",
              "    </tr>\n",
              "    <tr>\n",
              "      <th>4</th>\n",
              "      <td>Compensation of employees</td>\n",
              "      <td>1</td>\n",
              "      <td>26</td>\n",
              "      <td>71</td>\n",
              "      <td>98</td>\n",
              "      <td>0</td>\n",
              "      <td>0</td>\n",
              "      <td>0</td>\n",
              "      <td>0</td>\n",
              "      <td>0</td>\n",
              "      <td>0</td>\n",
              "      <td>0</td>\n",
              "      <td>0</td>\n",
              "    </tr>\n",
              "    <tr>\n",
              "      <th>5</th>\n",
              "      <td>Net operating surplus</td>\n",
              "      <td>2</td>\n",
              "      <td>17</td>\n",
              "      <td>37</td>\n",
              "      <td>56</td>\n",
              "      <td>0</td>\n",
              "      <td>0</td>\n",
              "      <td>0</td>\n",
              "      <td>0</td>\n",
              "      <td>0</td>\n",
              "      <td>0</td>\n",
              "      <td>0</td>\n",
              "      <td>0</td>\n",
              "    </tr>\n",
              "    <tr>\n",
              "      <th>6</th>\n",
              "      <td>Consumption of fixed capital</td>\n",
              "      <td>1</td>\n",
              "      <td>15</td>\n",
              "      <td>25</td>\n",
              "      <td>41</td>\n",
              "      <td>0</td>\n",
              "      <td>0</td>\n",
              "      <td>0</td>\n",
              "      <td>0</td>\n",
              "      <td>0</td>\n",
              "      <td>0</td>\n",
              "      <td>0</td>\n",
              "      <td>0</td>\n",
              "    </tr>\n",
              "    <tr>\n",
              "      <th>7</th>\n",
              "      <td>Other taxes on production less subsidies</td>\n",
              "      <td>1</td>\n",
              "      <td>9</td>\n",
              "      <td>10</td>\n",
              "      <td>20</td>\n",
              "      <td>0</td>\n",
              "      <td>0</td>\n",
              "      <td>0</td>\n",
              "      <td>0</td>\n",
              "      <td>0</td>\n",
              "      <td>0</td>\n",
              "      <td>0</td>\n",
              "      <td>0</td>\n",
              "    </tr>\n",
              "    <tr>\n",
              "      <th>8</th>\n",
              "      <td>Total value added</td>\n",
              "      <td>5</td>\n",
              "      <td>67</td>\n",
              "      <td>143</td>\n",
              "      <td>215</td>\n",
              "      <td>0</td>\n",
              "      <td>0</td>\n",
              "      <td>0</td>\n",
              "      <td>0</td>\n",
              "      <td>0</td>\n",
              "      <td>0</td>\n",
              "      <td>0</td>\n",
              "      <td>0</td>\n",
              "    </tr>\n",
              "    <tr>\n",
              "      <th>9</th>\n",
              "      <td>Total input</td>\n",
              "      <td>14</td>\n",
              "      <td>203</td>\n",
              "      <td>244</td>\n",
              "      <td>461</td>\n",
              "      <td>0</td>\n",
              "      <td>0</td>\n",
              "      <td>0</td>\n",
              "      <td>0</td>\n",
              "      <td>0</td>\n",
              "      <td>0</td>\n",
              "      <td>0</td>\n",
              "      <td>0</td>\n",
              "    </tr>\n",
              "  </tbody>\n",
              "</table>\n",
              "</div>\n",
              "      <button class=\"colab-df-convert\" onclick=\"convertToInteractive('df-6c5a23e1-aa55-46cc-9d8d-7904b5c6db39')\"\n",
              "              title=\"Convert this dataframe to an interactive table.\"\n",
              "              style=\"display:none;\">\n",
              "        \n",
              "  <svg xmlns=\"http://www.w3.org/2000/svg\" height=\"24px\"viewBox=\"0 0 24 24\"\n",
              "       width=\"24px\">\n",
              "    <path d=\"M0 0h24v24H0V0z\" fill=\"none\"/>\n",
              "    <path d=\"M18.56 5.44l.94 2.06.94-2.06 2.06-.94-2.06-.94-.94-2.06-.94 2.06-2.06.94zm-11 1L8.5 8.5l.94-2.06 2.06-.94-2.06-.94L8.5 2.5l-.94 2.06-2.06.94zm10 10l.94 2.06.94-2.06 2.06-.94-2.06-.94-.94-2.06-.94 2.06-2.06.94z\"/><path d=\"M17.41 7.96l-1.37-1.37c-.4-.4-.92-.59-1.43-.59-.52 0-1.04.2-1.43.59L10.3 9.45l-7.72 7.72c-.78.78-.78 2.05 0 2.83L4 21.41c.39.39.9.59 1.41.59.51 0 1.02-.2 1.41-.59l7.78-7.78 2.81-2.81c.8-.78.8-2.07 0-2.86zM5.41 20L4 18.59l7.72-7.72 1.47 1.35L5.41 20z\"/>\n",
              "  </svg>\n",
              "      </button>\n",
              "      \n",
              "  <style>\n",
              "    .colab-df-container {\n",
              "      display:flex;\n",
              "      flex-wrap:wrap;\n",
              "      gap: 12px;\n",
              "    }\n",
              "\n",
              "    .colab-df-convert {\n",
              "      background-color: #E8F0FE;\n",
              "      border: none;\n",
              "      border-radius: 50%;\n",
              "      cursor: pointer;\n",
              "      display: none;\n",
              "      fill: #1967D2;\n",
              "      height: 32px;\n",
              "      padding: 0 0 0 0;\n",
              "      width: 32px;\n",
              "    }\n",
              "\n",
              "    .colab-df-convert:hover {\n",
              "      background-color: #E2EBFA;\n",
              "      box-shadow: 0px 1px 2px rgba(60, 64, 67, 0.3), 0px 1px 3px 1px rgba(60, 64, 67, 0.15);\n",
              "      fill: #174EA6;\n",
              "    }\n",
              "\n",
              "    [theme=dark] .colab-df-convert {\n",
              "      background-color: #3B4455;\n",
              "      fill: #D2E3FC;\n",
              "    }\n",
              "\n",
              "    [theme=dark] .colab-df-convert:hover {\n",
              "      background-color: #434B5C;\n",
              "      box-shadow: 0px 1px 3px 1px rgba(0, 0, 0, 0.15);\n",
              "      filter: drop-shadow(0px 1px 2px rgba(0, 0, 0, 0.3));\n",
              "      fill: #FFFFFF;\n",
              "    }\n",
              "  </style>\n",
              "\n",
              "      <script>\n",
              "        const buttonEl =\n",
              "          document.querySelector('#df-6c5a23e1-aa55-46cc-9d8d-7904b5c6db39 button.colab-df-convert');\n",
              "        buttonEl.style.display =\n",
              "          google.colab.kernel.accessAllowed ? 'block' : 'none';\n",
              "\n",
              "        async function convertToInteractive(key) {\n",
              "          const element = document.querySelector('#df-6c5a23e1-aa55-46cc-9d8d-7904b5c6db39');\n",
              "          const dataTable =\n",
              "            await google.colab.kernel.invokeFunction('convertToInteractive',\n",
              "                                                     [key], {});\n",
              "          if (!dataTable) return;\n",
              "\n",
              "          const docLinkHtml = 'Like what you see? Visit the ' +\n",
              "            '<a target=\"_blank\" href=https://colab.research.google.com/notebooks/data_table.ipynb>data table notebook</a>'\n",
              "            + ' to learn more about interactive tables.';\n",
              "          element.innerHTML = '';\n",
              "          dataTable['output_type'] = 'display_data';\n",
              "          await google.colab.output.renderOutput(dataTable, element);\n",
              "          const docLink = document.createElement('div');\n",
              "          docLink.innerHTML = docLinkHtml;\n",
              "          element.appendChild(docLink);\n",
              "        }\n",
              "      </script>\n",
              "    </div>\n",
              "  </div>\n",
              "  "
            ]
          },
          "metadata": {},
          "execution_count": 3
        }
      ]
    },
    {
      "cell_type": "code",
      "source": [
        "url_dom = \"https://raw.githubusercontent.com/Tom-Jung/legendary-funicular/main/Domestic_3_secs.csv\"\n",
        "Dom = pd.read_csv(url_dom)"
      ],
      "metadata": {
        "id": "FKASTpXRA0Ld"
      },
      "execution_count": 4,
      "outputs": []
    },
    {
      "cell_type": "code",
      "source": [
        "Dom"
      ],
      "metadata": {
        "id": "Taf8fWrGA0Gu",
        "colab": {
          "base_uri": "https://localhost:8080/",
          "height": 175
        },
        "outputId": "1c93fa50-72fc-420f-aa03-00cf565279d7"
      },
      "execution_count": 5,
      "outputs": [
        {
          "output_type": "execute_result",
          "data": {
            "text/plain": [
              "                       name  Agriculture  Manufacturing  Services  \\\n",
              "0               Agriculture            1              7         1   \n",
              "1             Manufacturing            4             61        29   \n",
              "2                  Services            1             26        52   \n",
              "3  Total intermediate input            6             94        82   \n",
              "\n",
              "   Total intermediate demand  Conumption  Investment  Exports  \\\n",
              "0                          9           1           2        2   \n",
              "1                         94          26          13       70   \n",
              "2                         79         104          46       15   \n",
              "3                        182         131          61       87   \n",
              "\n",
              "   Total final demand  Total demand  \n",
              "0                   5            14  \n",
              "1                 109           203  \n",
              "2                 165           244  \n",
              "3                 279           461  "
            ],
            "text/html": [
              "\n",
              "  <div id=\"df-496cfcaf-687d-42ec-8fd9-3e03166bfe90\">\n",
              "    <div class=\"colab-df-container\">\n",
              "      <div>\n",
              "<style scoped>\n",
              "    .dataframe tbody tr th:only-of-type {\n",
              "        vertical-align: middle;\n",
              "    }\n",
              "\n",
              "    .dataframe tbody tr th {\n",
              "        vertical-align: top;\n",
              "    }\n",
              "\n",
              "    .dataframe thead th {\n",
              "        text-align: right;\n",
              "    }\n",
              "</style>\n",
              "<table border=\"1\" class=\"dataframe\">\n",
              "  <thead>\n",
              "    <tr style=\"text-align: right;\">\n",
              "      <th></th>\n",
              "      <th>name</th>\n",
              "      <th>Agriculture</th>\n",
              "      <th>Manufacturing</th>\n",
              "      <th>Services</th>\n",
              "      <th>Total intermediate demand</th>\n",
              "      <th>Conumption</th>\n",
              "      <th>Investment</th>\n",
              "      <th>Exports</th>\n",
              "      <th>Total final demand</th>\n",
              "      <th>Total demand</th>\n",
              "    </tr>\n",
              "  </thead>\n",
              "  <tbody>\n",
              "    <tr>\n",
              "      <th>0</th>\n",
              "      <td>Agriculture</td>\n",
              "      <td>1</td>\n",
              "      <td>7</td>\n",
              "      <td>1</td>\n",
              "      <td>9</td>\n",
              "      <td>1</td>\n",
              "      <td>2</td>\n",
              "      <td>2</td>\n",
              "      <td>5</td>\n",
              "      <td>14</td>\n",
              "    </tr>\n",
              "    <tr>\n",
              "      <th>1</th>\n",
              "      <td>Manufacturing</td>\n",
              "      <td>4</td>\n",
              "      <td>61</td>\n",
              "      <td>29</td>\n",
              "      <td>94</td>\n",
              "      <td>26</td>\n",
              "      <td>13</td>\n",
              "      <td>70</td>\n",
              "      <td>109</td>\n",
              "      <td>203</td>\n",
              "    </tr>\n",
              "    <tr>\n",
              "      <th>2</th>\n",
              "      <td>Services</td>\n",
              "      <td>1</td>\n",
              "      <td>26</td>\n",
              "      <td>52</td>\n",
              "      <td>79</td>\n",
              "      <td>104</td>\n",
              "      <td>46</td>\n",
              "      <td>15</td>\n",
              "      <td>165</td>\n",
              "      <td>244</td>\n",
              "    </tr>\n",
              "    <tr>\n",
              "      <th>3</th>\n",
              "      <td>Total intermediate input</td>\n",
              "      <td>6</td>\n",
              "      <td>94</td>\n",
              "      <td>82</td>\n",
              "      <td>182</td>\n",
              "      <td>131</td>\n",
              "      <td>61</td>\n",
              "      <td>87</td>\n",
              "      <td>279</td>\n",
              "      <td>461</td>\n",
              "    </tr>\n",
              "  </tbody>\n",
              "</table>\n",
              "</div>\n",
              "      <button class=\"colab-df-convert\" onclick=\"convertToInteractive('df-496cfcaf-687d-42ec-8fd9-3e03166bfe90')\"\n",
              "              title=\"Convert this dataframe to an interactive table.\"\n",
              "              style=\"display:none;\">\n",
              "        \n",
              "  <svg xmlns=\"http://www.w3.org/2000/svg\" height=\"24px\"viewBox=\"0 0 24 24\"\n",
              "       width=\"24px\">\n",
              "    <path d=\"M0 0h24v24H0V0z\" fill=\"none\"/>\n",
              "    <path d=\"M18.56 5.44l.94 2.06.94-2.06 2.06-.94-2.06-.94-.94-2.06-.94 2.06-2.06.94zm-11 1L8.5 8.5l.94-2.06 2.06-.94-2.06-.94L8.5 2.5l-.94 2.06-2.06.94zm10 10l.94 2.06.94-2.06 2.06-.94-2.06-.94-.94-2.06-.94 2.06-2.06.94z\"/><path d=\"M17.41 7.96l-1.37-1.37c-.4-.4-.92-.59-1.43-.59-.52 0-1.04.2-1.43.59L10.3 9.45l-7.72 7.72c-.78.78-.78 2.05 0 2.83L4 21.41c.39.39.9.59 1.41.59.51 0 1.02-.2 1.41-.59l7.78-7.78 2.81-2.81c.8-.78.8-2.07 0-2.86zM5.41 20L4 18.59l7.72-7.72 1.47 1.35L5.41 20z\"/>\n",
              "  </svg>\n",
              "      </button>\n",
              "      \n",
              "  <style>\n",
              "    .colab-df-container {\n",
              "      display:flex;\n",
              "      flex-wrap:wrap;\n",
              "      gap: 12px;\n",
              "    }\n",
              "\n",
              "    .colab-df-convert {\n",
              "      background-color: #E8F0FE;\n",
              "      border: none;\n",
              "      border-radius: 50%;\n",
              "      cursor: pointer;\n",
              "      display: none;\n",
              "      fill: #1967D2;\n",
              "      height: 32px;\n",
              "      padding: 0 0 0 0;\n",
              "      width: 32px;\n",
              "    }\n",
              "\n",
              "    .colab-df-convert:hover {\n",
              "      background-color: #E2EBFA;\n",
              "      box-shadow: 0px 1px 2px rgba(60, 64, 67, 0.3), 0px 1px 3px 1px rgba(60, 64, 67, 0.15);\n",
              "      fill: #174EA6;\n",
              "    }\n",
              "\n",
              "    [theme=dark] .colab-df-convert {\n",
              "      background-color: #3B4455;\n",
              "      fill: #D2E3FC;\n",
              "    }\n",
              "\n",
              "    [theme=dark] .colab-df-convert:hover {\n",
              "      background-color: #434B5C;\n",
              "      box-shadow: 0px 1px 3px 1px rgba(0, 0, 0, 0.15);\n",
              "      filter: drop-shadow(0px 1px 2px rgba(0, 0, 0, 0.3));\n",
              "      fill: #FFFFFF;\n",
              "    }\n",
              "  </style>\n",
              "\n",
              "      <script>\n",
              "        const buttonEl =\n",
              "          document.querySelector('#df-496cfcaf-687d-42ec-8fd9-3e03166bfe90 button.colab-df-convert');\n",
              "        buttonEl.style.display =\n",
              "          google.colab.kernel.accessAllowed ? 'block' : 'none';\n",
              "\n",
              "        async function convertToInteractive(key) {\n",
              "          const element = document.querySelector('#df-496cfcaf-687d-42ec-8fd9-3e03166bfe90');\n",
              "          const dataTable =\n",
              "            await google.colab.kernel.invokeFunction('convertToInteractive',\n",
              "                                                     [key], {});\n",
              "          if (!dataTable) return;\n",
              "\n",
              "          const docLinkHtml = 'Like what you see? Visit the ' +\n",
              "            '<a target=\"_blank\" href=https://colab.research.google.com/notebooks/data_table.ipynb>data table notebook</a>'\n",
              "            + ' to learn more about interactive tables.';\n",
              "          element.innerHTML = '';\n",
              "          dataTable['output_type'] = 'display_data';\n",
              "          await google.colab.output.renderOutput(dataTable, element);\n",
              "          const docLink = document.createElement('div');\n",
              "          docLink.innerHTML = docLinkHtml;\n",
              "          element.appendChild(docLink);\n",
              "        }\n",
              "      </script>\n",
              "    </div>\n",
              "  </div>\n",
              "  "
            ]
          },
          "metadata": {},
          "execution_count": 5
        }
      ]
    },
    {
      "cell_type": "code",
      "source": [
        "url_imp = \"https://raw.githubusercontent.com/Tom-Jung/legendary-funicular/main/Import_3_secs.csv\"\n",
        "Imp = pd.read_csv(url_imp)"
      ],
      "metadata": {
        "id": "0piOpTEytvGw"
      },
      "execution_count": 6,
      "outputs": []
    },
    {
      "cell_type": "code",
      "source": [
        "Imp"
      ],
      "metadata": {
        "id": "K3VHa2z8tvJv",
        "outputId": "e192afd9-c400-46ef-e936-02bf42fc8b5a",
        "colab": {
          "base_uri": "https://localhost:8080/",
          "height": 175
        }
      },
      "execution_count": 7,
      "outputs": [
        {
          "output_type": "execute_result",
          "data": {
            "text/plain": [
              "                       name  Agriculture  Manufacturing  Services  \\\n",
              "0               Agriculture            1              7         3   \n",
              "1             Manufacturing            1             33        10   \n",
              "2                  Services            1              2         6   \n",
              "3  Total intermediate input            3             42        19   \n",
              "\n",
              "   Total intermediate demand  Conumption  Investment  Exports  \\\n",
              "0                         11           2           1        0   \n",
              "1                         44           6           6        3   \n",
              "2                          9           2           1        0   \n",
              "3                         64          10           8        3   \n",
              "\n",
              "   Total final demand  Total demand  \n",
              "0                   3            14  \n",
              "1                  15            59  \n",
              "2                   3            12  \n",
              "3                  21            85  "
            ],
            "text/html": [
              "\n",
              "  <div id=\"df-7e4c571f-aa7b-48ce-82ff-7dcf52960fb6\">\n",
              "    <div class=\"colab-df-container\">\n",
              "      <div>\n",
              "<style scoped>\n",
              "    .dataframe tbody tr th:only-of-type {\n",
              "        vertical-align: middle;\n",
              "    }\n",
              "\n",
              "    .dataframe tbody tr th {\n",
              "        vertical-align: top;\n",
              "    }\n",
              "\n",
              "    .dataframe thead th {\n",
              "        text-align: right;\n",
              "    }\n",
              "</style>\n",
              "<table border=\"1\" class=\"dataframe\">\n",
              "  <thead>\n",
              "    <tr style=\"text-align: right;\">\n",
              "      <th></th>\n",
              "      <th>name</th>\n",
              "      <th>Agriculture</th>\n",
              "      <th>Manufacturing</th>\n",
              "      <th>Services</th>\n",
              "      <th>Total intermediate demand</th>\n",
              "      <th>Conumption</th>\n",
              "      <th>Investment</th>\n",
              "      <th>Exports</th>\n",
              "      <th>Total final demand</th>\n",
              "      <th>Total demand</th>\n",
              "    </tr>\n",
              "  </thead>\n",
              "  <tbody>\n",
              "    <tr>\n",
              "      <th>0</th>\n",
              "      <td>Agriculture</td>\n",
              "      <td>1</td>\n",
              "      <td>7</td>\n",
              "      <td>3</td>\n",
              "      <td>11</td>\n",
              "      <td>2</td>\n",
              "      <td>1</td>\n",
              "      <td>0</td>\n",
              "      <td>3</td>\n",
              "      <td>14</td>\n",
              "    </tr>\n",
              "    <tr>\n",
              "      <th>1</th>\n",
              "      <td>Manufacturing</td>\n",
              "      <td>1</td>\n",
              "      <td>33</td>\n",
              "      <td>10</td>\n",
              "      <td>44</td>\n",
              "      <td>6</td>\n",
              "      <td>6</td>\n",
              "      <td>3</td>\n",
              "      <td>15</td>\n",
              "      <td>59</td>\n",
              "    </tr>\n",
              "    <tr>\n",
              "      <th>2</th>\n",
              "      <td>Services</td>\n",
              "      <td>1</td>\n",
              "      <td>2</td>\n",
              "      <td>6</td>\n",
              "      <td>9</td>\n",
              "      <td>2</td>\n",
              "      <td>1</td>\n",
              "      <td>0</td>\n",
              "      <td>3</td>\n",
              "      <td>12</td>\n",
              "    </tr>\n",
              "    <tr>\n",
              "      <th>3</th>\n",
              "      <td>Total intermediate input</td>\n",
              "      <td>3</td>\n",
              "      <td>42</td>\n",
              "      <td>19</td>\n",
              "      <td>64</td>\n",
              "      <td>10</td>\n",
              "      <td>8</td>\n",
              "      <td>3</td>\n",
              "      <td>21</td>\n",
              "      <td>85</td>\n",
              "    </tr>\n",
              "  </tbody>\n",
              "</table>\n",
              "</div>\n",
              "      <button class=\"colab-df-convert\" onclick=\"convertToInteractive('df-7e4c571f-aa7b-48ce-82ff-7dcf52960fb6')\"\n",
              "              title=\"Convert this dataframe to an interactive table.\"\n",
              "              style=\"display:none;\">\n",
              "        \n",
              "  <svg xmlns=\"http://www.w3.org/2000/svg\" height=\"24px\"viewBox=\"0 0 24 24\"\n",
              "       width=\"24px\">\n",
              "    <path d=\"M0 0h24v24H0V0z\" fill=\"none\"/>\n",
              "    <path d=\"M18.56 5.44l.94 2.06.94-2.06 2.06-.94-2.06-.94-.94-2.06-.94 2.06-2.06.94zm-11 1L8.5 8.5l.94-2.06 2.06-.94-2.06-.94L8.5 2.5l-.94 2.06-2.06.94zm10 10l.94 2.06.94-2.06 2.06-.94-2.06-.94-.94-2.06-.94 2.06-2.06.94z\"/><path d=\"M17.41 7.96l-1.37-1.37c-.4-.4-.92-.59-1.43-.59-.52 0-1.04.2-1.43.59L10.3 9.45l-7.72 7.72c-.78.78-.78 2.05 0 2.83L4 21.41c.39.39.9.59 1.41.59.51 0 1.02-.2 1.41-.59l7.78-7.78 2.81-2.81c.8-.78.8-2.07 0-2.86zM5.41 20L4 18.59l7.72-7.72 1.47 1.35L5.41 20z\"/>\n",
              "  </svg>\n",
              "      </button>\n",
              "      \n",
              "  <style>\n",
              "    .colab-df-container {\n",
              "      display:flex;\n",
              "      flex-wrap:wrap;\n",
              "      gap: 12px;\n",
              "    }\n",
              "\n",
              "    .colab-df-convert {\n",
              "      background-color: #E8F0FE;\n",
              "      border: none;\n",
              "      border-radius: 50%;\n",
              "      cursor: pointer;\n",
              "      display: none;\n",
              "      fill: #1967D2;\n",
              "      height: 32px;\n",
              "      padding: 0 0 0 0;\n",
              "      width: 32px;\n",
              "    }\n",
              "\n",
              "    .colab-df-convert:hover {\n",
              "      background-color: #E2EBFA;\n",
              "      box-shadow: 0px 1px 2px rgba(60, 64, 67, 0.3), 0px 1px 3px 1px rgba(60, 64, 67, 0.15);\n",
              "      fill: #174EA6;\n",
              "    }\n",
              "\n",
              "    [theme=dark] .colab-df-convert {\n",
              "      background-color: #3B4455;\n",
              "      fill: #D2E3FC;\n",
              "    }\n",
              "\n",
              "    [theme=dark] .colab-df-convert:hover {\n",
              "      background-color: #434B5C;\n",
              "      box-shadow: 0px 1px 3px 1px rgba(0, 0, 0, 0.15);\n",
              "      filter: drop-shadow(0px 1px 2px rgba(0, 0, 0, 0.3));\n",
              "      fill: #FFFFFF;\n",
              "    }\n",
              "  </style>\n",
              "\n",
              "      <script>\n",
              "        const buttonEl =\n",
              "          document.querySelector('#df-7e4c571f-aa7b-48ce-82ff-7dcf52960fb6 button.colab-df-convert');\n",
              "        buttonEl.style.display =\n",
              "          google.colab.kernel.accessAllowed ? 'block' : 'none';\n",
              "\n",
              "        async function convertToInteractive(key) {\n",
              "          const element = document.querySelector('#df-7e4c571f-aa7b-48ce-82ff-7dcf52960fb6');\n",
              "          const dataTable =\n",
              "            await google.colab.kernel.invokeFunction('convertToInteractive',\n",
              "                                                     [key], {});\n",
              "          if (!dataTable) return;\n",
              "\n",
              "          const docLinkHtml = 'Like what you see? Visit the ' +\n",
              "            '<a target=\"_blank\" href=https://colab.research.google.com/notebooks/data_table.ipynb>data table notebook</a>'\n",
              "            + ' to learn more about interactive tables.';\n",
              "          element.innerHTML = '';\n",
              "          dataTable['output_type'] = 'display_data';\n",
              "          await google.colab.output.renderOutput(dataTable, element);\n",
              "          const docLink = document.createElement('div');\n",
              "          docLink.innerHTML = docLinkHtml;\n",
              "          element.appendChild(docLink);\n",
              "        }\n",
              "      </script>\n",
              "    </div>\n",
              "  </div>\n",
              "  "
            ]
          },
          "metadata": {},
          "execution_count": 7
        }
      ]
    },
    {
      "cell_type": "code",
      "source": [],
      "metadata": {
        "id": "y_a9fb8ZtvMn"
      },
      "execution_count": null,
      "outputs": []
    },
    {
      "cell_type": "code",
      "source": [],
      "metadata": {
        "id": "P1B6X9QutvO-"
      },
      "execution_count": null,
      "outputs": []
    },
    {
      "cell_type": "markdown",
      "source": [
        "### DataFrame을 Numpy로 읽어오고 숫자만으로 행렬을 만들고 차원 등 제대로 읽어 왔는지 체크\n",
        "\n",
        "```\n",
        "# 코드로 형식 지정됨\n",
        "```\n",
        "\n"
      ],
      "metadata": {
        "id": "x-a_G73J-ARG"
      }
    },
    {
      "cell_type": "code",
      "source": [
        "Tt=Tot.to_numpy()"
      ],
      "metadata": {
        "id": "Hb3EasrIAz9H"
      },
      "execution_count": null,
      "outputs": []
    },
    {
      "cell_type": "code",
      "source": [
        "Tt_1 = Tt[0:41,1:53].astype(float)"
      ],
      "metadata": {
        "id": "GrqwxwU44DMl"
      },
      "execution_count": null,
      "outputs": []
    },
    {
      "cell_type": "code",
      "source": [
        "Tt_1"
      ],
      "metadata": {
        "id": "IGYFJf_fAz6J"
      },
      "execution_count": null,
      "outputs": []
    },
    {
      "cell_type": "code",
      "source": [
        "print(Tt_1.shape)\n",
        "print(Tt_1.ndim)\n",
        "print(Tt_1.size)\n",
        "print(len(Tt_1))"
      ],
      "metadata": {
        "id": "IWpo8RCb6EsB"
      },
      "execution_count": null,
      "outputs": []
    },
    {
      "cell_type": "code",
      "source": [
        "Im=Imp.to_numpy()"
      ],
      "metadata": {
        "id": "pXrwfo8u86pr"
      },
      "execution_count": null,
      "outputs": []
    },
    {
      "cell_type": "code",
      "source": [
        "Im_1 = Im[0:41,1:45].astype(float)"
      ],
      "metadata": {
        "id": "DF_G_Hn09gRy"
      },
      "execution_count": null,
      "outputs": []
    },
    {
      "cell_type": "code",
      "source": [
        "Im_1"
      ],
      "metadata": {
        "id": "Od3StAXA86sf"
      },
      "execution_count": null,
      "outputs": []
    },
    {
      "cell_type": "markdown",
      "source": [],
      "metadata": {
        "id": "BrLjtC606FLY"
      }
    },
    {
      "cell_type": "code",
      "source": [
        "print(Im_1.shape)\n",
        "print(Im_1.ndim)\n",
        "print(Im_1.size)\n",
        "print(len(Im_1))"
      ],
      "metadata": {
        "id": "IRm-HtOf9KVx"
      },
      "execution_count": null,
      "outputs": []
    },
    {
      "cell_type": "code",
      "source": [
        "Dm=Dom.to_numpy()"
      ],
      "metadata": {
        "id": "_8fZBBSX9kld",
        "outputId": "de5cbc3c-1851-44ea-b3cc-49732d992f90",
        "colab": {
          "base_uri": "https://localhost:8080/",
          "height": 174
        }
      },
      "execution_count": null,
      "outputs": [
        {
          "output_type": "error",
          "ename": "NameError",
          "evalue": "ignored",
          "traceback": [
            "\u001b[0;31m---------------------------------------------------------------------------\u001b[0m",
            "\u001b[0;31mNameError\u001b[0m                                 Traceback (most recent call last)",
            "\u001b[0;32m<ipython-input-48-e64bbf807ccb>\u001b[0m in \u001b[0;36m<cell line: 1>\u001b[0;34m()\u001b[0m\n\u001b[0;32m----> 1\u001b[0;31m \u001b[0mDm\u001b[0m\u001b[0;34m=\u001b[0m\u001b[0mDom\u001b[0m\u001b[0;34m.\u001b[0m\u001b[0mto_numpy\u001b[0m\u001b[0;34m(\u001b[0m\u001b[0;34m)\u001b[0m\u001b[0;34m\u001b[0m\u001b[0;34m\u001b[0m\u001b[0m\n\u001b[0m",
            "\u001b[0;31mNameError\u001b[0m: name 'Dom' is not defined"
          ]
        }
      ]
    },
    {
      "cell_type": "code",
      "source": [
        "Dm_1=Dm[0:41,1:45].astype(float)"
      ],
      "metadata": {
        "id": "qxP0BGTe-J6J"
      },
      "execution_count": null,
      "outputs": []
    },
    {
      "cell_type": "code",
      "source": [
        "Dm_1"
      ],
      "metadata": {
        "id": "Var3WdHW-NdY"
      },
      "execution_count": null,
      "outputs": []
    },
    {
      "cell_type": "code",
      "source": [
        "print(Dm_1.shape)\n",
        "print(Dm_1.ndim)\n",
        "print(Dm_1.size)\n",
        "print(len(Dm_1))"
      ],
      "metadata": {
        "id": "aZ0NQ51_-OTA"
      },
      "execution_count": null,
      "outputs": []
    },
    {
      "cell_type": "code",
      "source": [
        "ct = Tt_1[-1,0:33] "
      ],
      "metadata": {
        "id": "vI4pjfvx-WU_"
      },
      "execution_count": null,
      "outputs": []
    },
    {
      "cell_type": "code",
      "source": [
        "ct"
      ],
      "metadata": {
        "id": "qAhFEVaI-Uqx"
      },
      "execution_count": null,
      "outputs": []
    },
    {
      "cell_type": "code",
      "source": [
        "ct_m = np.tile(ct, reps=[33,1])"
      ],
      "metadata": {
        "id": "0CpkNxOjkUvi"
      },
      "execution_count": null,
      "outputs": []
    },
    {
      "cell_type": "code",
      "source": [
        "ct_m.shape"
      ],
      "metadata": {
        "id": "eHMxgofBlPpV"
      },
      "execution_count": null,
      "outputs": []
    },
    {
      "cell_type": "code",
      "source": [
        "ct_m"
      ],
      "metadata": {
        "id": "bOzJwIE0lAeH"
      },
      "execution_count": null,
      "outputs": []
    },
    {
      "cell_type": "code",
      "source": [
        "Ad = Dm_1[0:33,0:33]/ct_m"
      ],
      "metadata": {
        "id": "eoLlkOg7g1ZL"
      },
      "execution_count": null,
      "outputs": []
    },
    {
      "cell_type": "code",
      "source": [
        "Ad"
      ],
      "metadata": {
        "id": "foZEVnUjg1bs"
      },
      "execution_count": null,
      "outputs": []
    },
    {
      "cell_type": "code",
      "source": [
        "Lf = np.linalg.inv(np.identity(33)-Ad)"
      ],
      "metadata": {
        "id": "YP2WhhqZeB2j"
      },
      "execution_count": null,
      "outputs": []
    },
    {
      "cell_type": "code",
      "source": [
        "df_Lf = pd.DataFrame(Lf)"
      ],
      "metadata": {
        "id": "HtDn6D86AElt"
      },
      "execution_count": null,
      "outputs": []
    },
    {
      "cell_type": "code",
      "source": [
        "df_Lf"
      ],
      "metadata": {
        "id": "fGJOmCT2eCjC"
      },
      "execution_count": null,
      "outputs": []
    },
    {
      "cell_type": "markdown",
      "source": [],
      "metadata": {
        "id": "KiBL7vQRGOT7"
      }
    },
    {
      "cell_type": "markdown",
      "source": [
        "#### 부가가[링크 텍스트](https://)치 유발계수"
      ],
      "metadata": {
        "id": "-aqELyFRGR6B"
      }
    },
    {
      "cell_type": "code",
      "source": [
        "Va_r = Tt_1[-2,0:33]/ct "
      ],
      "metadata": {
        "id": "VyMI-ZrHfUOf"
      },
      "execution_count": null,
      "outputs": []
    },
    {
      "cell_type": "code",
      "source": [
        "Va_r"
      ],
      "metadata": {
        "id": "qYEZrYSXfVK3"
      },
      "execution_count": null,
      "outputs": []
    },
    {
      "cell_type": "code",
      "source": [
        "Va_m = np.diag(Va_r)"
      ],
      "metadata": {
        "id": "4lQ8wtwIfg4H"
      },
      "execution_count": null,
      "outputs": []
    },
    {
      "cell_type": "code",
      "source": [
        "Va_m"
      ],
      "metadata": {
        "id": "gWXarHrAHQpI"
      },
      "execution_count": null,
      "outputs": []
    },
    {
      "cell_type": "code",
      "source": [
        "Lv = Va_m@Lf"
      ],
      "metadata": {
        "id": "AoR1mnu8HSAH"
      },
      "execution_count": null,
      "outputs": []
    },
    {
      "cell_type": "code",
      "source": [
        "df_Lv = pd.DataFrame(Lv)"
      ],
      "metadata": {
        "id": "tLupxKtCH2rP"
      },
      "execution_count": null,
      "outputs": []
    },
    {
      "cell_type": "code",
      "source": [
        "df_Lv.round(6)"
      ],
      "metadata": {
        "id": "AZcKYmw8H6q-"
      },
      "execution_count": null,
      "outputs": []
    },
    {
      "cell_type": "markdown",
      "source": [
        "### 수입유발계수"
      ],
      "metadata": {
        "id": "GRc1qIZQJMBt"
      }
    },
    {
      "cell_type": "code",
      "source": [
        "Ai = Im_1[0:33,0:33]/ct_m"
      ],
      "metadata": {
        "id": "NoAqKDHEH8JO"
      },
      "execution_count": null,
      "outputs": []
    },
    {
      "cell_type": "code",
      "source": [
        "Ai.round(6)"
      ],
      "metadata": {
        "id": "d7U3qJQCJc1k"
      },
      "execution_count": null,
      "outputs": []
    },
    {
      "cell_type": "code",
      "source": [
        "\n",
        "Li = Ai@Lf"
      ],
      "metadata": {
        "id": "KlEpLnQQJc37"
      },
      "execution_count": null,
      "outputs": []
    },
    {
      "cell_type": "code",
      "source": [
        "df_Li = pd.DataFrame(Li)"
      ],
      "metadata": {
        "id": "iT_bjLtFJc6k"
      },
      "execution_count": null,
      "outputs": []
    },
    {
      "cell_type": "code",
      "source": [
        "df_Li.round(6)"
      ],
      "metadata": {
        "id": "b_wuqRdxJ49h"
      },
      "execution_count": null,
      "outputs": []
    },
    {
      "cell_type": "code",
      "source": [
        "f_Lf=pd.DataFrame(Lf)\n",
        "f_Lv=pd.DataFrame(Lv)\n",
        "f_Li=pd.DataFrame(Li)"
      ],
      "metadata": {
        "id": "c6Tn-pc_J8Lc"
      },
      "execution_count": null,
      "outputs": []
    },
    {
      "cell_type": "code",
      "source": [
        "f_Lf.to_csv('Lf')\n",
        "f_Lv.to_csv('Lv')\n",
        "f_Li.to_csv('Li')"
      ],
      "metadata": {
        "id": "AZs3IWtITNAh"
      },
      "execution_count": null,
      "outputs": []
    },
    {
      "cell_type": "code",
      "source": [
        "# f_Lv.to_csv('Lv', index=False)"
      ],
      "metadata": {
        "id": "WZsB3ivqTlEo"
      },
      "execution_count": null,
      "outputs": []
    },
    {
      "cell_type": "markdown",
      "source": [
        "## 부문통합하여 3부문 IO표 만들기"
      ],
      "metadata": {
        "id": "oC0tJFI3t8YK"
      }
    },
    {
      "cell_type": "code",
      "source": [
        "code = np.array([[1,0,0,0,0,0,0,0,0,0,0,0,0,0,0,0,0,0,0,0,0,0,0,0,0,0,0,0,0,0,0,0,0],\n",
        "       [0,1,1,1,1,1,1,1,1,1,1,1,1,1,1,1,0,0,0,0,0,0,0,0,0,0,0,0,0,0,0,0,0],\n",
        "       [0,0,0,0,0,0,0,0,0,0,0,0,0,0,0,0,1,1,1,1,1,1,1,1,1,1,1,1,1,1,1,1,1]])"
      ],
      "metadata": {
        "id": "AyjeeiIkVXcf"
      },
      "execution_count": null,
      "outputs": []
    },
    {
      "cell_type": "code",
      "source": [
        "# from google.colab import drive\n",
        "# drive.mount('/content/drive')"
      ],
      "metadata": {
        "id": "EFxx6cAleXZr"
      },
      "execution_count": null,
      "outputs": []
    },
    {
      "cell_type": "code",
      "source": [
        "code"
      ],
      "metadata": {
        "id": "SgO_tRmNuqHH"
      },
      "execution_count": null,
      "outputs": []
    },
    {
      "cell_type": "code",
      "source": [
        "nae_tot_row = code@Tt_1[0:33,0:33]"
      ],
      "metadata": {
        "id": "CIqyXhr-u1_A"
      },
      "execution_count": null,
      "outputs": []
    },
    {
      "cell_type": "code",
      "source": [
        "nae_tot_row.shape "
      ],
      "metadata": {
        "id": "q1W1-Yc5v7ju"
      },
      "execution_count": null,
      "outputs": []
    },
    {
      "cell_type": "code",
      "source": [
        "nae_tot_col = nae_tot_row@code.T"
      ],
      "metadata": {
        "id": "1qkALwxwv8Fu"
      },
      "execution_count": null,
      "outputs": []
    },
    {
      "cell_type": "code",
      "source": [
        "nae_tot_col"
      ],
      "metadata": {
        "id": "mghk4dpExWHs"
      },
      "execution_count": null,
      "outputs": []
    },
    {
      "cell_type": "code",
      "source": [
        "nae_tot_col.sum()"
      ],
      "metadata": {
        "id": "eMeLseuZxY90"
      },
      "execution_count": null,
      "outputs": []
    },
    {
      "cell_type": "code",
      "source": [
        "va_row = Tt_1[33:40,0:33]@code.T"
      ],
      "metadata": {
        "id": "tmnf5V0BxoxB"
      },
      "execution_count": null,
      "outputs": []
    },
    {
      "cell_type": "code",
      "source": [
        "va_row # 중투합, 피용자보수, 영업잉여, 고정자본소모, 기타생산세, 부가가치계, 산출액(7X3)"
      ],
      "metadata": {
        "id": "OhObEo08jlEM"
      },
      "execution_count": null,
      "outputs": []
    },
    {
      "cell_type": "code",
      "source": [
        "va_row.shape"
      ],
      "metadata": {
        "id": "9ZVzuUQHkE1t"
      },
      "execution_count": null,
      "outputs": []
    },
    {
      "cell_type": "code",
      "source": [
        "# va_col_sm = va_row.sum(axis=1).reshape(7,1)  # 부가가치 및 산출액의 열합"
      ],
      "metadata": {
        "id": "cau4OOL9fJPz"
      },
      "execution_count": null,
      "outputs": []
    },
    {
      "cell_type": "code",
      "source": [
        "# va_col_sm.shape"
      ],
      "metadata": {
        "id": "HIRKE113fql3"
      },
      "execution_count": null,
      "outputs": []
    },
    {
      "cell_type": "code",
      "source": [
        "# va_row = np.concatenate((va_rw, va_col_sm), axis=1)"
      ],
      "metadata": {
        "id": "QMERW7M5e7uA"
      },
      "execution_count": null,
      "outputs": []
    },
    {
      "cell_type": "code",
      "source": [
        "va_row"
      ],
      "metadata": {
        "id": "IbKtYraff-CO"
      },
      "execution_count": null,
      "outputs": []
    },
    {
      "cell_type": "code",
      "source": [
        "fd_cd = np.array([[1,1,0,0,0,0,0,0,0],\n",
        "                  [0,0,1,1,1,1,0,0,0],\n",
        "                  [0,0,0,0,0,0,1,0,0],\n",
        "                  [0,0,0,0,0,0,0,1,0],\n",
        "                  [0,0,0,0,0,0,0,0,1]])"
      ],
      "metadata": {
        "id": "rUrnGELslm8g"
      },
      "execution_count": null,
      "outputs": []
    },
    {
      "cell_type": "code",
      "source": [
        "fd = Tt_1[0:33, 34:45]"
      ],
      "metadata": {
        "id": "hIPkA4wtkanu"
      },
      "execution_count": null,
      "outputs": []
    },
    {
      "cell_type": "code",
      "source": [
        "fd"
      ],
      "metadata": {
        "id": "4dsxEPt6nFAK"
      },
      "execution_count": null,
      "outputs": []
    },
    {
      "cell_type": "code",
      "source": [
        "fd_row=code@fd@fd_cd.T"
      ],
      "metadata": {
        "id": "vaEetnm3nFqa"
      },
      "execution_count": null,
      "outputs": []
    },
    {
      "cell_type": "code",
      "source": [
        "fd_row"
      ],
      "metadata": {
        "id": "H4Hu9zVGnHfa"
      },
      "execution_count": null,
      "outputs": []
    },
    {
      "cell_type": "code",
      "source": [
        "fd_row_sm = np.sum((fd_row), axis=0)"
      ],
      "metadata": {
        "id": "QfDtxF5ZnfLZ"
      },
      "execution_count": null,
      "outputs": []
    },
    {
      "cell_type": "code",
      "source": [
        "fd_sm=fd_row_sm.reshape(1,5)"
      ],
      "metadata": {
        "id": "APnpMNWcoSA2"
      },
      "execution_count": null,
      "outputs": []
    },
    {
      "cell_type": "code",
      "source": [
        "nae_va_ct = np.concatenate((nae_tot_col, va_row))"
      ],
      "metadata": {
        "id": "JL3h4FjloTSd"
      },
      "execution_count": null,
      "outputs": []
    },
    {
      "cell_type": "code",
      "source": [
        "nae_va_ct"
      ],
      "metadata": {
        "id": "ScxVpOo9pGAk"
      },
      "execution_count": null,
      "outputs": []
    },
    {
      "cell_type": "code",
      "source": [
        "nae_va_ct.shape"
      ],
      "metadata": {
        "id": "tFBNYyAeuI0T"
      },
      "execution_count": null,
      "outputs": []
    },
    {
      "cell_type": "code",
      "source": [
        "nae_va_ct_sm = nae_va_ct.sum(axis=1).reshape(10,1)  # 부가가치 및 산출액의 열합"
      ],
      "metadata": {
        "id": "t7klOqMdijsV"
      },
      "execution_count": null,
      "outputs": []
    },
    {
      "cell_type": "code",
      "source": [
        "nnull = np.zeros((6,5))"
      ],
      "metadata": {
        "id": "daWZU86Ip9ki"
      },
      "execution_count": null,
      "outputs": []
    },
    {
      "cell_type": "code",
      "source": [
        "nnull"
      ],
      "metadata": {
        "id": "MBRjWlB1qXjJ"
      },
      "execution_count": null,
      "outputs": []
    },
    {
      "cell_type": "code",
      "source": [
        "fd_nnull = np.concatenate((fd_row, fd_sm, nnull),axis=0)"
      ],
      "metadata": {
        "id": "MqEzVXUrqYKy"
      },
      "execution_count": null,
      "outputs": []
    },
    {
      "cell_type": "code",
      "source": [
        "fd_nnull.shape"
      ],
      "metadata": {
        "id": "XqIw-snEqlU6"
      },
      "execution_count": null,
      "outputs": []
    },
    {
      "cell_type": "code",
      "source": [
        "fd_sm.ndim"
      ],
      "metadata": {
        "id": "NeE4PowMqqYe"
      },
      "execution_count": null,
      "outputs": []
    },
    {
      "cell_type": "code",
      "source": [
        "tot_f = np.concatenate((nae_va_ct,nae_va_ct_sm, fd_nnull), axis=1) "
      ],
      "metadata": {
        "id": "FOY8xWsnqs2e"
      },
      "execution_count": null,
      "outputs": []
    },
    {
      "cell_type": "code",
      "source": [
        "tot_F = pd.DataFrame(tot_f, columns = ['Agriculture', 'Manufacturing', 'Services', 'Total intermediate demand', 'Conumption','Investment', 'Exports', 'Total final demand', 'Total demand'])"
      ],
      "metadata": {
        "id": "hmrzeP5vq4lm"
      },
      "execution_count": null,
      "outputs": []
    },
    {
      "cell_type": "code",
      "source": [
        "tot_F"
      ],
      "metadata": {
        "id": "Gde8BJ3Wuzon"
      },
      "execution_count": null,
      "outputs": []
    },
    {
      "cell_type": "markdown",
      "source": [
        "# 수입거래표 통합하기"
      ],
      "metadata": {
        "id": "1JXfjcDmXoEb"
      }
    },
    {
      "cell_type": "code",
      "source": [
        "nae_imp_row = code@Im_1[0:33,0:33]"
      ],
      "metadata": {
        "id": "SyJEqFARNPIV"
      },
      "execution_count": null,
      "outputs": []
    },
    {
      "cell_type": "code",
      "source": [
        "nae_imp_col = nae_imp_row@code.T"
      ],
      "metadata": {
        "id": "P1TgoDZmNPOu"
      },
      "execution_count": null,
      "outputs": []
    },
    {
      "cell_type": "code",
      "source": [
        "imp_iti = Im_1[-1,0:33]@code.T"
      ],
      "metadata": {
        "id": "RNJkEFwjPAA9"
      },
      "execution_count": null,
      "outputs": []
    },
    {
      "cell_type": "code",
      "source": [
        "imp_sm = imp_iti.reshape(1,3)"
      ],
      "metadata": {
        "id": "mCpc5yaCPAE6"
      },
      "execution_count": null,
      "outputs": []
    },
    {
      "cell_type": "code",
      "source": [
        "fd_imp = Im_1[0:33, 34:45]"
      ],
      "metadata": {
        "id": "wlDNBjI0NPUh"
      },
      "execution_count": null,
      "outputs": []
    },
    {
      "cell_type": "code",
      "source": [
        "fd_imp_row=code@fd_imp@fd_cd.T"
      ],
      "metadata": {
        "id": "eGuRuINJOHez"
      },
      "execution_count": null,
      "outputs": []
    },
    {
      "cell_type": "code",
      "source": [
        "fd_imp_row_sm = np.sum((fd_imp_row), axis=0)"
      ],
      "metadata": {
        "id": "j91pzzlWOajh"
      },
      "execution_count": null,
      "outputs": []
    },
    {
      "cell_type": "code",
      "source": [
        "fd_sm = fd_imp_row_sm.reshape(1,5)"
      ],
      "metadata": {
        "id": "A5O04EovQYw1"
      },
      "execution_count": null,
      "outputs": []
    },
    {
      "cell_type": "code",
      "source": [
        "imp_nae_3 = np.concatenate((nae_imp_col, imp_sm))"
      ],
      "metadata": {
        "id": "dFx0kGvOOo27"
      },
      "execution_count": null,
      "outputs": []
    },
    {
      "cell_type": "code",
      "source": [
        "imp_col_sm = imp_nae_3.sum(axis=1).reshape(4,1)  # 중간수요 열합"
      ],
      "metadata": {
        "id": "le_V2T7RjVN7"
      },
      "execution_count": null,
      "outputs": []
    },
    {
      "cell_type": "code",
      "source": [
        "imp_fd_3 = np.concatenate((fd_imp_row, fd_sm))"
      ],
      "metadata": {
        "id": "KNCplvLFVxdZ"
      },
      "execution_count": null,
      "outputs": []
    },
    {
      "cell_type": "code",
      "source": [
        "imp_f = np.concatenate((imp_nae_3, imp_col_sm, imp_fd_3), axis=1)"
      ],
      "metadata": {
        "id": "WVbIqbM-OvpF"
      },
      "execution_count": null,
      "outputs": []
    },
    {
      "cell_type": "code",
      "source": [
        "imp_F = pd.DataFrame(imp_f, columns = ['Agriculture', 'Manufacturing', 'Services', 'Total intermediate demand', 'Conumption','Investment', 'Exports', 'Total final demand', 'Total demand'])"
      ],
      "metadata": {
        "id": "f-cQb_nWOvsf"
      },
      "execution_count": null,
      "outputs": []
    },
    {
      "cell_type": "code",
      "source": [
        "imp_F"
      ],
      "metadata": {
        "id": "velNVEIfOvyR"
      },
      "execution_count": null,
      "outputs": []
    },
    {
      "cell_type": "markdown",
      "source": [
        "# 국산거래표 통합하기"
      ],
      "metadata": {
        "id": "sY8s7U5fXvDa"
      }
    },
    {
      "cell_type": "code",
      "source": [
        "nae_dom_row = code@Dm_1[0:33,0:33]"
      ],
      "metadata": {
        "id": "YQtt2iA1Ov1n"
      },
      "execution_count": null,
      "outputs": []
    },
    {
      "cell_type": "code",
      "source": [
        "nae_dom_col = nae_dom_row@code.T"
      ],
      "metadata": {
        "id": "NXF6NCIHSRSA"
      },
      "execution_count": null,
      "outputs": []
    },
    {
      "cell_type": "code",
      "source": [
        "dom_iti = Dm_1[-1,0:33]@code.T"
      ],
      "metadata": {
        "id": "6YRLv7naX8yT"
      },
      "execution_count": null,
      "outputs": []
    },
    {
      "cell_type": "code",
      "source": [
        "dom_sm = dom_iti.reshape(1,3)"
      ],
      "metadata": {
        "id": "kg3gwsSIX808"
      },
      "execution_count": null,
      "outputs": []
    },
    {
      "cell_type": "code",
      "source": [
        "fd_dom = Dm_1[0:33, 34:45]"
      ],
      "metadata": {
        "id": "rI73jk5hX83v"
      },
      "execution_count": null,
      "outputs": []
    },
    {
      "cell_type": "code",
      "source": [
        "fd_dom_row=code@fd_dom@fd_cd.T"
      ],
      "metadata": {
        "id": "VCY4IlxrX86B"
      },
      "execution_count": null,
      "outputs": []
    },
    {
      "cell_type": "code",
      "source": [
        "fd_dom_row_sm = np.sum((fd_dom_row), axis=0)"
      ],
      "metadata": {
        "id": "lCgggunqX88o"
      },
      "execution_count": null,
      "outputs": []
    },
    {
      "cell_type": "code",
      "source": [
        "fd_sm = fd_dom_row_sm.reshape(1,5)"
      ],
      "metadata": {
        "id": "5MS2SL39YjwN"
      },
      "execution_count": null,
      "outputs": []
    },
    {
      "cell_type": "code",
      "source": [
        "dom_nae_3 = np.concatenate((nae_dom_col, dom_sm), axis=0)"
      ],
      "metadata": {
        "id": "dnmG40tWYtLM"
      },
      "execution_count": null,
      "outputs": []
    },
    {
      "cell_type": "code",
      "source": [
        "dom_col_sm = dom_nae_3.sum(axis=1).reshape(4,1)  # 중간수요 열합"
      ],
      "metadata": {
        "id": "4SEm_U1Ljuef"
      },
      "execution_count": null,
      "outputs": []
    },
    {
      "cell_type": "code",
      "source": [
        "dom_fd_3 = np.concatenate((fd_dom_row, fd_sm), axis=0)"
      ],
      "metadata": {
        "id": "XvVcvLo7Y_Lp"
      },
      "execution_count": null,
      "outputs": []
    },
    {
      "cell_type": "code",
      "source": [
        "dom_f = np.concatenate((dom_nae_3, dom_col_sm, dom_fd_3), axis=1)"
      ],
      "metadata": {
        "id": "AXgAc4EOZSAa"
      },
      "execution_count": null,
      "outputs": []
    },
    {
      "cell_type": "code",
      "source": [
        "dom_F = pd.DataFrame(dom_f, columns = ['Agriculture', 'Manufacturing', 'Services', 'Total intermediate demand', 'Conumption','Investment', 'Exports', 'Total final demand', 'Total demand'])"
      ],
      "metadata": {
        "id": "7VQkruekZcBP"
      },
      "execution_count": null,
      "outputs": []
    },
    {
      "cell_type": "code",
      "source": [
        "dom_F"
      ],
      "metadata": {
        "id": "BkErpXXyZkcp"
      },
      "execution_count": null,
      "outputs": []
    },
    {
      "cell_type": "markdown",
      "source": [
        "### 3부문 총거래표에서 부가가치총합만 나타내기"
      ],
      "metadata": {
        "id": "3hDLUWEckLdU"
      }
    },
    {
      "cell_type": "code",
      "source": [
        "tot_F_one_va = tot_F.drop(tot_F.index[4:8])"
      ],
      "metadata": {
        "id": "H9pr6U5kkCwb"
      },
      "execution_count": null,
      "outputs": []
    },
    {
      "cell_type": "code",
      "source": [
        "tot_F_one_va"
      ],
      "metadata": {
        "id": "l6sSk5dMlbBv"
      },
      "execution_count": null,
      "outputs": []
    },
    {
      "cell_type": "markdown",
      "source": [
        "## 결과 내보내기"
      ],
      "metadata": {
        "id": "22aT7ZFLdLSv"
      }
    },
    {
      "cell_type": "code",
      "source": [
        "# np.savetxt('Total_3',tot_f, delimiter=',')\n",
        "# np.savetxt('Import_3',imp_f, delimiter=',')\n",
        "# np.savetxt('Domestic_3',dom_f, delimiter=',')"
      ],
      "metadata": {
        "id": "83mELpCng1XO"
      },
      "execution_count": null,
      "outputs": []
    },
    {
      "cell_type": "code",
      "source": [
        "tot_F.to_csv('Total_3')\n",
        "imp_F.to_csv('Import_3')\n",
        "dom_F.to_csv('Domestic_3')\n",
        "tot_F_one_va.to_csv('Total_3_one_va')"
      ],
      "metadata": {
        "id": "Ucqu7T0ZdOlP"
      },
      "execution_count": null,
      "outputs": []
    },
    {
      "cell_type": "code",
      "source": [
        "# imp_F.to_csv('Import_3',index=False)"
      ],
      "metadata": {
        "id": "c_te-OShjkER"
      },
      "execution_count": null,
      "outputs": []
    },
    {
      "cell_type": "code",
      "source": [
        "# dom_F.to_csv('Domestic_3', index=False)"
      ],
      "metadata": {
        "id": "jkPa-0yckir6"
      },
      "execution_count": null,
      "outputs": []
    },
    {
      "cell_type": "markdown",
      "source": [
        "## 3부문 유발계수 산출 하기"
      ],
      "metadata": {
        "id": "cMeHisQ_34jA"
      }
    },
    {
      "cell_type": "code",
      "source": [
        "ct_exm = tot_f[-1, 0:3]"
      ],
      "metadata": {
        "id": "Rzuzf0LZn1In"
      },
      "execution_count": null,
      "outputs": []
    },
    {
      "cell_type": "code",
      "source": [
        "ct_exm"
      ],
      "metadata": {
        "id": "4OVVovJk4n82"
      },
      "execution_count": null,
      "outputs": []
    },
    {
      "cell_type": "code",
      "source": [
        "ct_m_exm = np.tile(ct_exm, reps=[3,1])"
      ],
      "metadata": {
        "id": "67XiRZTH4smD"
      },
      "execution_count": null,
      "outputs": []
    },
    {
      "cell_type": "code",
      "source": [
        "ct_m_exm"
      ],
      "metadata": {
        "id": "DKtsiYjx44n0"
      },
      "execution_count": null,
      "outputs": []
    },
    {
      "cell_type": "code",
      "source": [
        "Ad_exm = dom_f[0:3,0:3]/ct_m_exm"
      ],
      "metadata": {
        "id": "vY_p16Kw46Fb"
      },
      "execution_count": null,
      "outputs": []
    },
    {
      "cell_type": "code",
      "source": [
        "Ad_exm"
      ],
      "metadata": {
        "id": "SOz-_BJb5Gzs"
      },
      "execution_count": null,
      "outputs": []
    },
    {
      "cell_type": "code",
      "source": [
        "Lf_exm = np.linalg.inv(np.identity(3)-Ad_exm)"
      ],
      "metadata": {
        "id": "UotKzFp45IMb"
      },
      "execution_count": null,
      "outputs": []
    },
    {
      "cell_type": "code",
      "source": [
        "Lf_exm"
      ],
      "metadata": {
        "id": "PKwQ2-I65QKL"
      },
      "execution_count": null,
      "outputs": []
    },
    {
      "cell_type": "code",
      "source": [
        "\n",
        "df_Lf_exm = pd.DataFrame(Lf_exm)"
      ],
      "metadata": {
        "id": "3-qNri7L6gEO"
      },
      "execution_count": null,
      "outputs": []
    },
    {
      "cell_type": "code",
      "source": [
        "df_Lf_exm"
      ],
      "metadata": {
        "id": "YSCA7lNw6k2W"
      },
      "execution_count": null,
      "outputs": []
    },
    {
      "cell_type": "code",
      "source": [
        "\n",
        "Va_r_exm = tot_f[-2,0:3]/ct_exm "
      ],
      "metadata": {
        "id": "slIO_c196mdG"
      },
      "execution_count": null,
      "outputs": []
    },
    {
      "cell_type": "code",
      "source": [
        "Va_r_exm"
      ],
      "metadata": {
        "id": "prZuncWc6w6t"
      },
      "execution_count": null,
      "outputs": []
    },
    {
      "cell_type": "code",
      "source": [
        "\n",
        "Va_m_exm = np.diag(Va_r_exm)"
      ],
      "metadata": {
        "id": "0U47qo856zE9"
      },
      "execution_count": null,
      "outputs": []
    },
    {
      "cell_type": "code",
      "source": [
        "Va_m_exm"
      ],
      "metadata": {
        "id": "-8_41hcX68yG"
      },
      "execution_count": null,
      "outputs": []
    },
    {
      "cell_type": "code",
      "source": [
        "Lv_exm = Va_m_exm@Lf_exm"
      ],
      "metadata": {
        "id": "A7oRqAfE7CHl",
        "outputId": "a5891bbd-9be4-4b19-c2b5-8e42147f933d",
        "colab": {
          "base_uri": "https://localhost:8080/",
          "height": 174
        }
      },
      "execution_count": null,
      "outputs": [
        {
          "output_type": "error",
          "ename": "NameError",
          "evalue": "ignored",
          "traceback": [
            "\u001b[0;31m---------------------------------------------------------------------------\u001b[0m",
            "\u001b[0;31mNameError\u001b[0m                                 Traceback (most recent call last)",
            "\u001b[0;32m<ipython-input-49-0fc48c322b0e>\u001b[0m in \u001b[0;36m<cell line: 1>\u001b[0;34m()\u001b[0m\n\u001b[0;32m----> 1\u001b[0;31m \u001b[0mLv_exm\u001b[0m \u001b[0;34m=\u001b[0m \u001b[0mVa_m_exm\u001b[0m\u001b[0;34m@\u001b[0m\u001b[0mLf_exm\u001b[0m\u001b[0;34m\u001b[0m\u001b[0;34m\u001b[0m\u001b[0m\n\u001b[0m",
            "\u001b[0;31mNameError\u001b[0m: name 'Va_m_exm' is not defined"
          ]
        }
      ]
    },
    {
      "cell_type": "code",
      "source": [
        "Lv_exm"
      ],
      "metadata": {
        "id": "ocnNS3Xn7LLN"
      },
      "execution_count": null,
      "outputs": []
    },
    {
      "cell_type": "code",
      "source": [
        "df_Lv_exm = pd.DataFrame(Lv_exm)"
      ],
      "metadata": {
        "id": "l4rgvMwY7Mjb"
      },
      "execution_count": null,
      "outputs": []
    },
    {
      "cell_type": "code",
      "source": [
        "df_Lv_exm"
      ],
      "metadata": {
        "id": "KFmyU6OQ7Ut7"
      },
      "execution_count": null,
      "outputs": []
    },
    {
      "cell_type": "code",
      "source": [
        "Ai_exm = imp_f[0:3,0:3]/ct_m_exm"
      ],
      "metadata": {
        "id": "dm9NdhAB7VuD"
      },
      "execution_count": null,
      "outputs": []
    },
    {
      "cell_type": "code",
      "source": [
        "Ai_exm"
      ],
      "metadata": {
        "id": "N7U5IOkZ7dGl"
      },
      "execution_count": null,
      "outputs": []
    },
    {
      "cell_type": "code",
      "source": [
        "Li_exm = Ai_exm@Lf_exm"
      ],
      "metadata": {
        "id": "2Bvi5sWB7e5U"
      },
      "execution_count": null,
      "outputs": []
    },
    {
      "cell_type": "code",
      "source": [
        "Li_exm"
      ],
      "metadata": {
        "id": "5boGkyqZ7lLM"
      },
      "execution_count": null,
      "outputs": []
    },
    {
      "cell_type": "code",
      "source": [
        "\n",
        "df_Li_exm = pd.DataFrame(Li_exm)"
      ],
      "metadata": {
        "id": "9kuY9odN7mV8"
      },
      "execution_count": null,
      "outputs": []
    },
    {
      "cell_type": "code",
      "source": [
        "df_Li_exm"
      ],
      "metadata": {
        "id": "v_87Fc0R7qp1"
      },
      "execution_count": null,
      "outputs": []
    },
    {
      "cell_type": "code",
      "source": [
        "\n",
        "f_Lf_exm=pd.DataFrame(Lf_exm)\n",
        "f_Lv_exm=pd.DataFrame(Lv_exm)\n",
        "f_Li_exm=pd.DataFrame(Li_exm)\n",
        "     "
      ],
      "metadata": {
        "id": "1u9QBPdT7vEt"
      },
      "execution_count": null,
      "outputs": []
    },
    {
      "cell_type": "code",
      "source": [
        "\n",
        "f_Lf_exm.to_csv('Lf_exm')\n",
        "f_Lv_exm.to_csv('Lv_exm')\n",
        "f_Li_exm.to_csv('Li_exm')"
      ],
      "metadata": {
        "id": "-hZAsWwO73x-"
      },
      "execution_count": null,
      "outputs": []
    },
    {
      "cell_type": "code",
      "source": [],
      "metadata": {
        "id": "Zp425f7g7-KW"
      },
      "execution_count": null,
      "outputs": []
    }
  ]
}