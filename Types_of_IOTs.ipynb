{
  "nbformat": 4,
  "nbformat_minor": 0,
  "metadata": {
    "colab": {
      "provenance": [],
      "mount_file_id": "https://github.com/Tom-Jung/legendary-funicular/blob/main/IO_tables.ipynb",
      "authorship_tag": "ABX9TyOr7i7Wsl7oNm0+3iTs30Mq",
      "include_colab_link": true
    },
    "kernelspec": {
      "name": "python3",
      "display_name": "Python 3"
    },
    "language_info": {
      "name": "python"
    }
  },
  "cells": [
    {
      "cell_type": "markdown",
      "metadata": {
        "id": "view-in-github",
        "colab_type": "text"
      },
      "source": [
        "<a href=\"https://colab.research.google.com/github/Tom-Jung/legendary-funicular/blob/main/Types_of_IOTs.ipynb\" target=\"_parent\"><img src=\"https://colab.research.google.com/assets/colab-badge.svg\" alt=\"Open In Colab\"/></a>"
      ]
    },
    {
      "cell_type": "code",
      "source": [
        "import numpy as np   # Numpy import\n",
        "import pandas as pd  # Pandas import"
      ],
      "metadata": {
        "id": "TR7JvW8CxBFT"
      },
      "execution_count": 1,
      "outputs": []
    },
    {
      "cell_type": "markdown",
      "source": [
        "## 산업연관표의 종류\n"
      ],
      "metadata": {
        "id": "Ja1OCBr1_w2z"
      }
    },
    {
      "cell_type": "markdown",
      "source": [
        "#### Github에 저장되어 있는 연습용 3부문 거래표 불러오기"
      ],
      "metadata": {
        "id": "YtzqobQWrRbM"
      }
    },
    {
      "cell_type": "code",
      "source": [
        "url_total = \"https://raw.githubusercontent.com/Tom-Jung/legendary-funicular/main/Total_3_secs_one_va.csv\"  # 총거래표\n",
        "Tot = pd.read_csv(url_total)\n"
      ],
      "metadata": {
        "id": "1-cypvlPA0Tu"
      },
      "execution_count": 2,
      "outputs": []
    },
    {
      "cell_type": "code",
      "source": [
        "Tot  # 총거래표 불러오기 확인"
      ],
      "metadata": {
        "colab": {
          "base_uri": "https://localhost:8080/",
          "height": 388
        },
        "id": "rtqZunX0walG",
        "outputId": "1e8d65a8-4070-4dbc-d077-7a801121acc6"
      },
      "execution_count": 3,
      "outputs": [
        {
          "output_type": "execute_result",
          "data": {
            "text/plain": [
              "                       name  Agriculture  Manufacturing  Services  \\\n",
              "0               Agriculture            2             14         4   \n",
              "1             Manufacturing            5             94        39   \n",
              "2                  Services            2             28        58   \n",
              "3  Total intermediate input            9            136       101   \n",
              "4         Total value added            5             67       143   \n",
              "5               Total input           14            203       244   \n",
              "\n",
              "   Total intermediate demand  Conumption  Investment  Exports  \\\n",
              "0                         20           3           3        2   \n",
              "1                        138          32          19       73   \n",
              "2                         88         106          47       15   \n",
              "3                        246         141          69       90   \n",
              "4                        215           0           0        0   \n",
              "5                        461           0           0        0   \n",
              "\n",
              "   Total final demand  Total demand  Total output  Imports  Total supply  \n",
              "0                   8            28            14       14            28  \n",
              "1                 124           262           203       59           262  \n",
              "2                 168           256           244       12           256  \n",
              "3                 300           546           461       85           546  \n",
              "4                   0             0             0        0             0  \n",
              "5                   0             0             0        0             0  "
            ],
            "text/html": [
              "\n",
              "  <div id=\"df-ab308a56-2180-43c0-92bd-2ed7107d895a\">\n",
              "    <div class=\"colab-df-container\">\n",
              "      <div>\n",
              "<style scoped>\n",
              "    .dataframe tbody tr th:only-of-type {\n",
              "        vertical-align: middle;\n",
              "    }\n",
              "\n",
              "    .dataframe tbody tr th {\n",
              "        vertical-align: top;\n",
              "    }\n",
              "\n",
              "    .dataframe thead th {\n",
              "        text-align: right;\n",
              "    }\n",
              "</style>\n",
              "<table border=\"1\" class=\"dataframe\">\n",
              "  <thead>\n",
              "    <tr style=\"text-align: right;\">\n",
              "      <th></th>\n",
              "      <th>name</th>\n",
              "      <th>Agriculture</th>\n",
              "      <th>Manufacturing</th>\n",
              "      <th>Services</th>\n",
              "      <th>Total intermediate demand</th>\n",
              "      <th>Conumption</th>\n",
              "      <th>Investment</th>\n",
              "      <th>Exports</th>\n",
              "      <th>Total final demand</th>\n",
              "      <th>Total demand</th>\n",
              "      <th>Total output</th>\n",
              "      <th>Imports</th>\n",
              "      <th>Total supply</th>\n",
              "    </tr>\n",
              "  </thead>\n",
              "  <tbody>\n",
              "    <tr>\n",
              "      <th>0</th>\n",
              "      <td>Agriculture</td>\n",
              "      <td>2</td>\n",
              "      <td>14</td>\n",
              "      <td>4</td>\n",
              "      <td>20</td>\n",
              "      <td>3</td>\n",
              "      <td>3</td>\n",
              "      <td>2</td>\n",
              "      <td>8</td>\n",
              "      <td>28</td>\n",
              "      <td>14</td>\n",
              "      <td>14</td>\n",
              "      <td>28</td>\n",
              "    </tr>\n",
              "    <tr>\n",
              "      <th>1</th>\n",
              "      <td>Manufacturing</td>\n",
              "      <td>5</td>\n",
              "      <td>94</td>\n",
              "      <td>39</td>\n",
              "      <td>138</td>\n",
              "      <td>32</td>\n",
              "      <td>19</td>\n",
              "      <td>73</td>\n",
              "      <td>124</td>\n",
              "      <td>262</td>\n",
              "      <td>203</td>\n",
              "      <td>59</td>\n",
              "      <td>262</td>\n",
              "    </tr>\n",
              "    <tr>\n",
              "      <th>2</th>\n",
              "      <td>Services</td>\n",
              "      <td>2</td>\n",
              "      <td>28</td>\n",
              "      <td>58</td>\n",
              "      <td>88</td>\n",
              "      <td>106</td>\n",
              "      <td>47</td>\n",
              "      <td>15</td>\n",
              "      <td>168</td>\n",
              "      <td>256</td>\n",
              "      <td>244</td>\n",
              "      <td>12</td>\n",
              "      <td>256</td>\n",
              "    </tr>\n",
              "    <tr>\n",
              "      <th>3</th>\n",
              "      <td>Total intermediate input</td>\n",
              "      <td>9</td>\n",
              "      <td>136</td>\n",
              "      <td>101</td>\n",
              "      <td>246</td>\n",
              "      <td>141</td>\n",
              "      <td>69</td>\n",
              "      <td>90</td>\n",
              "      <td>300</td>\n",
              "      <td>546</td>\n",
              "      <td>461</td>\n",
              "      <td>85</td>\n",
              "      <td>546</td>\n",
              "    </tr>\n",
              "    <tr>\n",
              "      <th>4</th>\n",
              "      <td>Total value added</td>\n",
              "      <td>5</td>\n",
              "      <td>67</td>\n",
              "      <td>143</td>\n",
              "      <td>215</td>\n",
              "      <td>0</td>\n",
              "      <td>0</td>\n",
              "      <td>0</td>\n",
              "      <td>0</td>\n",
              "      <td>0</td>\n",
              "      <td>0</td>\n",
              "      <td>0</td>\n",
              "      <td>0</td>\n",
              "    </tr>\n",
              "    <tr>\n",
              "      <th>5</th>\n",
              "      <td>Total input</td>\n",
              "      <td>14</td>\n",
              "      <td>203</td>\n",
              "      <td>244</td>\n",
              "      <td>461</td>\n",
              "      <td>0</td>\n",
              "      <td>0</td>\n",
              "      <td>0</td>\n",
              "      <td>0</td>\n",
              "      <td>0</td>\n",
              "      <td>0</td>\n",
              "      <td>0</td>\n",
              "      <td>0</td>\n",
              "    </tr>\n",
              "  </tbody>\n",
              "</table>\n",
              "</div>\n",
              "      <button class=\"colab-df-convert\" onclick=\"convertToInteractive('df-ab308a56-2180-43c0-92bd-2ed7107d895a')\"\n",
              "              title=\"Convert this dataframe to an interactive table.\"\n",
              "              style=\"display:none;\">\n",
              "        \n",
              "  <svg xmlns=\"http://www.w3.org/2000/svg\" height=\"24px\"viewBox=\"0 0 24 24\"\n",
              "       width=\"24px\">\n",
              "    <path d=\"M0 0h24v24H0V0z\" fill=\"none\"/>\n",
              "    <path d=\"M18.56 5.44l.94 2.06.94-2.06 2.06-.94-2.06-.94-.94-2.06-.94 2.06-2.06.94zm-11 1L8.5 8.5l.94-2.06 2.06-.94-2.06-.94L8.5 2.5l-.94 2.06-2.06.94zm10 10l.94 2.06.94-2.06 2.06-.94-2.06-.94-.94-2.06-.94 2.06-2.06.94z\"/><path d=\"M17.41 7.96l-1.37-1.37c-.4-.4-.92-.59-1.43-.59-.52 0-1.04.2-1.43.59L10.3 9.45l-7.72 7.72c-.78.78-.78 2.05 0 2.83L4 21.41c.39.39.9.59 1.41.59.51 0 1.02-.2 1.41-.59l7.78-7.78 2.81-2.81c.8-.78.8-2.07 0-2.86zM5.41 20L4 18.59l7.72-7.72 1.47 1.35L5.41 20z\"/>\n",
              "  </svg>\n",
              "      </button>\n",
              "      \n",
              "  <style>\n",
              "    .colab-df-container {\n",
              "      display:flex;\n",
              "      flex-wrap:wrap;\n",
              "      gap: 12px;\n",
              "    }\n",
              "\n",
              "    .colab-df-convert {\n",
              "      background-color: #E8F0FE;\n",
              "      border: none;\n",
              "      border-radius: 50%;\n",
              "      cursor: pointer;\n",
              "      display: none;\n",
              "      fill: #1967D2;\n",
              "      height: 32px;\n",
              "      padding: 0 0 0 0;\n",
              "      width: 32px;\n",
              "    }\n",
              "\n",
              "    .colab-df-convert:hover {\n",
              "      background-color: #E2EBFA;\n",
              "      box-shadow: 0px 1px 2px rgba(60, 64, 67, 0.3), 0px 1px 3px 1px rgba(60, 64, 67, 0.15);\n",
              "      fill: #174EA6;\n",
              "    }\n",
              "\n",
              "    [theme=dark] .colab-df-convert {\n",
              "      background-color: #3B4455;\n",
              "      fill: #D2E3FC;\n",
              "    }\n",
              "\n",
              "    [theme=dark] .colab-df-convert:hover {\n",
              "      background-color: #434B5C;\n",
              "      box-shadow: 0px 1px 3px 1px rgba(0, 0, 0, 0.15);\n",
              "      filter: drop-shadow(0px 1px 2px rgba(0, 0, 0, 0.3));\n",
              "      fill: #FFFFFF;\n",
              "    }\n",
              "  </style>\n",
              "\n",
              "      <script>\n",
              "        const buttonEl =\n",
              "          document.querySelector('#df-ab308a56-2180-43c0-92bd-2ed7107d895a button.colab-df-convert');\n",
              "        buttonEl.style.display =\n",
              "          google.colab.kernel.accessAllowed ? 'block' : 'none';\n",
              "\n",
              "        async function convertToInteractive(key) {\n",
              "          const element = document.querySelector('#df-ab308a56-2180-43c0-92bd-2ed7107d895a');\n",
              "          const dataTable =\n",
              "            await google.colab.kernel.invokeFunction('convertToInteractive',\n",
              "                                                     [key], {});\n",
              "          if (!dataTable) return;\n",
              "\n",
              "          const docLinkHtml = 'Like what you see? Visit the ' +\n",
              "            '<a target=\"_blank\" href=https://colab.research.google.com/notebooks/data_table.ipynb>data table notebook</a>'\n",
              "            + ' to learn more about interactive tables.';\n",
              "          element.innerHTML = '';\n",
              "          dataTable['output_type'] = 'display_data';\n",
              "          await google.colab.output.renderOutput(dataTable, element);\n",
              "          const docLink = document.createElement('div');\n",
              "          docLink.innerHTML = docLinkHtml;\n",
              "          element.appendChild(docLink);\n",
              "        }\n",
              "      </script>\n",
              "    </div>\n",
              "  </div>\n",
              "  "
            ]
          },
          "metadata": {},
          "execution_count": 3
        }
      ]
    },
    {
      "cell_type": "code",
      "source": [
        "url_dom = \"https://raw.githubusercontent.com/Tom-Jung/legendary-funicular/main/Domestic_3_secs.csv\"   # 국산거래표\n",
        "Dom = pd.read_csv(url_dom)"
      ],
      "metadata": {
        "id": "FKASTpXRA0Ld"
      },
      "execution_count": 4,
      "outputs": []
    },
    {
      "cell_type": "code",
      "source": [
        "Dom  # 국산거래표 불러오기 확인"
      ],
      "metadata": {
        "id": "Taf8fWrGA0Gu",
        "colab": {
          "base_uri": "https://localhost:8080/",
          "height": 308
        },
        "outputId": "a3805cbb-428a-4573-95e2-6b088979a496"
      },
      "execution_count": 5,
      "outputs": [
        {
          "output_type": "execute_result",
          "data": {
            "text/plain": [
              "                       name  Agriculture  Manufacturing  Services  \\\n",
              "0               Agriculture            1              7         1   \n",
              "1             Manufacturing            4             61        29   \n",
              "2                  Services            1             26        52   \n",
              "3  Total intermediate input            6             94        82   \n",
              "\n",
              "   Total intermediate demand  Conumption  Investment  Exports  \\\n",
              "0                          9           1           2        2   \n",
              "1                         94          26          13       70   \n",
              "2                         79         104          46       15   \n",
              "3                        182         131          61       87   \n",
              "\n",
              "   Total final demand  Total demand  \n",
              "0                   5            14  \n",
              "1                 109           203  \n",
              "2                 165           244  \n",
              "3                 279           461  "
            ],
            "text/html": [
              "\n",
              "  <div id=\"df-2f8ef8f1-06eb-4898-9034-ac643465cf44\">\n",
              "    <div class=\"colab-df-container\">\n",
              "      <div>\n",
              "<style scoped>\n",
              "    .dataframe tbody tr th:only-of-type {\n",
              "        vertical-align: middle;\n",
              "    }\n",
              "\n",
              "    .dataframe tbody tr th {\n",
              "        vertical-align: top;\n",
              "    }\n",
              "\n",
              "    .dataframe thead th {\n",
              "        text-align: right;\n",
              "    }\n",
              "</style>\n",
              "<table border=\"1\" class=\"dataframe\">\n",
              "  <thead>\n",
              "    <tr style=\"text-align: right;\">\n",
              "      <th></th>\n",
              "      <th>name</th>\n",
              "      <th>Agriculture</th>\n",
              "      <th>Manufacturing</th>\n",
              "      <th>Services</th>\n",
              "      <th>Total intermediate demand</th>\n",
              "      <th>Conumption</th>\n",
              "      <th>Investment</th>\n",
              "      <th>Exports</th>\n",
              "      <th>Total final demand</th>\n",
              "      <th>Total demand</th>\n",
              "    </tr>\n",
              "  </thead>\n",
              "  <tbody>\n",
              "    <tr>\n",
              "      <th>0</th>\n",
              "      <td>Agriculture</td>\n",
              "      <td>1</td>\n",
              "      <td>7</td>\n",
              "      <td>1</td>\n",
              "      <td>9</td>\n",
              "      <td>1</td>\n",
              "      <td>2</td>\n",
              "      <td>2</td>\n",
              "      <td>5</td>\n",
              "      <td>14</td>\n",
              "    </tr>\n",
              "    <tr>\n",
              "      <th>1</th>\n",
              "      <td>Manufacturing</td>\n",
              "      <td>4</td>\n",
              "      <td>61</td>\n",
              "      <td>29</td>\n",
              "      <td>94</td>\n",
              "      <td>26</td>\n",
              "      <td>13</td>\n",
              "      <td>70</td>\n",
              "      <td>109</td>\n",
              "      <td>203</td>\n",
              "    </tr>\n",
              "    <tr>\n",
              "      <th>2</th>\n",
              "      <td>Services</td>\n",
              "      <td>1</td>\n",
              "      <td>26</td>\n",
              "      <td>52</td>\n",
              "      <td>79</td>\n",
              "      <td>104</td>\n",
              "      <td>46</td>\n",
              "      <td>15</td>\n",
              "      <td>165</td>\n",
              "      <td>244</td>\n",
              "    </tr>\n",
              "    <tr>\n",
              "      <th>3</th>\n",
              "      <td>Total intermediate input</td>\n",
              "      <td>6</td>\n",
              "      <td>94</td>\n",
              "      <td>82</td>\n",
              "      <td>182</td>\n",
              "      <td>131</td>\n",
              "      <td>61</td>\n",
              "      <td>87</td>\n",
              "      <td>279</td>\n",
              "      <td>461</td>\n",
              "    </tr>\n",
              "  </tbody>\n",
              "</table>\n",
              "</div>\n",
              "      <button class=\"colab-df-convert\" onclick=\"convertToInteractive('df-2f8ef8f1-06eb-4898-9034-ac643465cf44')\"\n",
              "              title=\"Convert this dataframe to an interactive table.\"\n",
              "              style=\"display:none;\">\n",
              "        \n",
              "  <svg xmlns=\"http://www.w3.org/2000/svg\" height=\"24px\"viewBox=\"0 0 24 24\"\n",
              "       width=\"24px\">\n",
              "    <path d=\"M0 0h24v24H0V0z\" fill=\"none\"/>\n",
              "    <path d=\"M18.56 5.44l.94 2.06.94-2.06 2.06-.94-2.06-.94-.94-2.06-.94 2.06-2.06.94zm-11 1L8.5 8.5l.94-2.06 2.06-.94-2.06-.94L8.5 2.5l-.94 2.06-2.06.94zm10 10l.94 2.06.94-2.06 2.06-.94-2.06-.94-.94-2.06-.94 2.06-2.06.94z\"/><path d=\"M17.41 7.96l-1.37-1.37c-.4-.4-.92-.59-1.43-.59-.52 0-1.04.2-1.43.59L10.3 9.45l-7.72 7.72c-.78.78-.78 2.05 0 2.83L4 21.41c.39.39.9.59 1.41.59.51 0 1.02-.2 1.41-.59l7.78-7.78 2.81-2.81c.8-.78.8-2.07 0-2.86zM5.41 20L4 18.59l7.72-7.72 1.47 1.35L5.41 20z\"/>\n",
              "  </svg>\n",
              "      </button>\n",
              "      \n",
              "  <style>\n",
              "    .colab-df-container {\n",
              "      display:flex;\n",
              "      flex-wrap:wrap;\n",
              "      gap: 12px;\n",
              "    }\n",
              "\n",
              "    .colab-df-convert {\n",
              "      background-color: #E8F0FE;\n",
              "      border: none;\n",
              "      border-radius: 50%;\n",
              "      cursor: pointer;\n",
              "      display: none;\n",
              "      fill: #1967D2;\n",
              "      height: 32px;\n",
              "      padding: 0 0 0 0;\n",
              "      width: 32px;\n",
              "    }\n",
              "\n",
              "    .colab-df-convert:hover {\n",
              "      background-color: #E2EBFA;\n",
              "      box-shadow: 0px 1px 2px rgba(60, 64, 67, 0.3), 0px 1px 3px 1px rgba(60, 64, 67, 0.15);\n",
              "      fill: #174EA6;\n",
              "    }\n",
              "\n",
              "    [theme=dark] .colab-df-convert {\n",
              "      background-color: #3B4455;\n",
              "      fill: #D2E3FC;\n",
              "    }\n",
              "\n",
              "    [theme=dark] .colab-df-convert:hover {\n",
              "      background-color: #434B5C;\n",
              "      box-shadow: 0px 1px 3px 1px rgba(0, 0, 0, 0.15);\n",
              "      filter: drop-shadow(0px 1px 2px rgba(0, 0, 0, 0.3));\n",
              "      fill: #FFFFFF;\n",
              "    }\n",
              "  </style>\n",
              "\n",
              "      <script>\n",
              "        const buttonEl =\n",
              "          document.querySelector('#df-2f8ef8f1-06eb-4898-9034-ac643465cf44 button.colab-df-convert');\n",
              "        buttonEl.style.display =\n",
              "          google.colab.kernel.accessAllowed ? 'block' : 'none';\n",
              "\n",
              "        async function convertToInteractive(key) {\n",
              "          const element = document.querySelector('#df-2f8ef8f1-06eb-4898-9034-ac643465cf44');\n",
              "          const dataTable =\n",
              "            await google.colab.kernel.invokeFunction('convertToInteractive',\n",
              "                                                     [key], {});\n",
              "          if (!dataTable) return;\n",
              "\n",
              "          const docLinkHtml = 'Like what you see? Visit the ' +\n",
              "            '<a target=\"_blank\" href=https://colab.research.google.com/notebooks/data_table.ipynb>data table notebook</a>'\n",
              "            + ' to learn more about interactive tables.';\n",
              "          element.innerHTML = '';\n",
              "          dataTable['output_type'] = 'display_data';\n",
              "          await google.colab.output.renderOutput(dataTable, element);\n",
              "          const docLink = document.createElement('div');\n",
              "          docLink.innerHTML = docLinkHtml;\n",
              "          element.appendChild(docLink);\n",
              "        }\n",
              "      </script>\n",
              "    </div>\n",
              "  </div>\n",
              "  "
            ]
          },
          "metadata": {},
          "execution_count": 5
        }
      ]
    },
    {
      "cell_type": "code",
      "source": [
        "url_imp = \"https://raw.githubusercontent.com/Tom-Jung/legendary-funicular/main/Import_3_secs.csv\"   # 수입거래표\n",
        "Imp = pd.read_csv(url_imp)"
      ],
      "metadata": {
        "id": "0piOpTEytvGw"
      },
      "execution_count": 6,
      "outputs": []
    },
    {
      "cell_type": "code",
      "source": [
        "Imp  # 수입거래표 불러오기 확인"
      ],
      "metadata": {
        "id": "K3VHa2z8tvJv",
        "outputId": "40396d41-eeae-4454-835a-7edb563cc437",
        "colab": {
          "base_uri": "https://localhost:8080/",
          "height": 308
        }
      },
      "execution_count": 7,
      "outputs": [
        {
          "output_type": "execute_result",
          "data": {
            "text/plain": [
              "                       name  Agriculture  Manufacturing  Services  \\\n",
              "0               Agriculture            1              7         3   \n",
              "1             Manufacturing            1             33        10   \n",
              "2                  Services            1              2         6   \n",
              "3  Total intermediate input            3             42        19   \n",
              "\n",
              "   Total intermediate demand  Conumption  Investment  Exports  \\\n",
              "0                         11           2           1        0   \n",
              "1                         44           6           6        3   \n",
              "2                          9           2           1        0   \n",
              "3                         64          10           8        3   \n",
              "\n",
              "   Total final demand  Total demand  \n",
              "0                   3            14  \n",
              "1                  15            59  \n",
              "2                   3            12  \n",
              "3                  21            85  "
            ],
            "text/html": [
              "\n",
              "  <div id=\"df-d294b17e-3cc8-48bb-8400-61e6cd681ba3\">\n",
              "    <div class=\"colab-df-container\">\n",
              "      <div>\n",
              "<style scoped>\n",
              "    .dataframe tbody tr th:only-of-type {\n",
              "        vertical-align: middle;\n",
              "    }\n",
              "\n",
              "    .dataframe tbody tr th {\n",
              "        vertical-align: top;\n",
              "    }\n",
              "\n",
              "    .dataframe thead th {\n",
              "        text-align: right;\n",
              "    }\n",
              "</style>\n",
              "<table border=\"1\" class=\"dataframe\">\n",
              "  <thead>\n",
              "    <tr style=\"text-align: right;\">\n",
              "      <th></th>\n",
              "      <th>name</th>\n",
              "      <th>Agriculture</th>\n",
              "      <th>Manufacturing</th>\n",
              "      <th>Services</th>\n",
              "      <th>Total intermediate demand</th>\n",
              "      <th>Conumption</th>\n",
              "      <th>Investment</th>\n",
              "      <th>Exports</th>\n",
              "      <th>Total final demand</th>\n",
              "      <th>Total demand</th>\n",
              "    </tr>\n",
              "  </thead>\n",
              "  <tbody>\n",
              "    <tr>\n",
              "      <th>0</th>\n",
              "      <td>Agriculture</td>\n",
              "      <td>1</td>\n",
              "      <td>7</td>\n",
              "      <td>3</td>\n",
              "      <td>11</td>\n",
              "      <td>2</td>\n",
              "      <td>1</td>\n",
              "      <td>0</td>\n",
              "      <td>3</td>\n",
              "      <td>14</td>\n",
              "    </tr>\n",
              "    <tr>\n",
              "      <th>1</th>\n",
              "      <td>Manufacturing</td>\n",
              "      <td>1</td>\n",
              "      <td>33</td>\n",
              "      <td>10</td>\n",
              "      <td>44</td>\n",
              "      <td>6</td>\n",
              "      <td>6</td>\n",
              "      <td>3</td>\n",
              "      <td>15</td>\n",
              "      <td>59</td>\n",
              "    </tr>\n",
              "    <tr>\n",
              "      <th>2</th>\n",
              "      <td>Services</td>\n",
              "      <td>1</td>\n",
              "      <td>2</td>\n",
              "      <td>6</td>\n",
              "      <td>9</td>\n",
              "      <td>2</td>\n",
              "      <td>1</td>\n",
              "      <td>0</td>\n",
              "      <td>3</td>\n",
              "      <td>12</td>\n",
              "    </tr>\n",
              "    <tr>\n",
              "      <th>3</th>\n",
              "      <td>Total intermediate input</td>\n",
              "      <td>3</td>\n",
              "      <td>42</td>\n",
              "      <td>19</td>\n",
              "      <td>64</td>\n",
              "      <td>10</td>\n",
              "      <td>8</td>\n",
              "      <td>3</td>\n",
              "      <td>21</td>\n",
              "      <td>85</td>\n",
              "    </tr>\n",
              "  </tbody>\n",
              "</table>\n",
              "</div>\n",
              "      <button class=\"colab-df-convert\" onclick=\"convertToInteractive('df-d294b17e-3cc8-48bb-8400-61e6cd681ba3')\"\n",
              "              title=\"Convert this dataframe to an interactive table.\"\n",
              "              style=\"display:none;\">\n",
              "        \n",
              "  <svg xmlns=\"http://www.w3.org/2000/svg\" height=\"24px\"viewBox=\"0 0 24 24\"\n",
              "       width=\"24px\">\n",
              "    <path d=\"M0 0h24v24H0V0z\" fill=\"none\"/>\n",
              "    <path d=\"M18.56 5.44l.94 2.06.94-2.06 2.06-.94-2.06-.94-.94-2.06-.94 2.06-2.06.94zm-11 1L8.5 8.5l.94-2.06 2.06-.94-2.06-.94L8.5 2.5l-.94 2.06-2.06.94zm10 10l.94 2.06.94-2.06 2.06-.94-2.06-.94-.94-2.06-.94 2.06-2.06.94z\"/><path d=\"M17.41 7.96l-1.37-1.37c-.4-.4-.92-.59-1.43-.59-.52 0-1.04.2-1.43.59L10.3 9.45l-7.72 7.72c-.78.78-.78 2.05 0 2.83L4 21.41c.39.39.9.59 1.41.59.51 0 1.02-.2 1.41-.59l7.78-7.78 2.81-2.81c.8-.78.8-2.07 0-2.86zM5.41 20L4 18.59l7.72-7.72 1.47 1.35L5.41 20z\"/>\n",
              "  </svg>\n",
              "      </button>\n",
              "      \n",
              "  <style>\n",
              "    .colab-df-container {\n",
              "      display:flex;\n",
              "      flex-wrap:wrap;\n",
              "      gap: 12px;\n",
              "    }\n",
              "\n",
              "    .colab-df-convert {\n",
              "      background-color: #E8F0FE;\n",
              "      border: none;\n",
              "      border-radius: 50%;\n",
              "      cursor: pointer;\n",
              "      display: none;\n",
              "      fill: #1967D2;\n",
              "      height: 32px;\n",
              "      padding: 0 0 0 0;\n",
              "      width: 32px;\n",
              "    }\n",
              "\n",
              "    .colab-df-convert:hover {\n",
              "      background-color: #E2EBFA;\n",
              "      box-shadow: 0px 1px 2px rgba(60, 64, 67, 0.3), 0px 1px 3px 1px rgba(60, 64, 67, 0.15);\n",
              "      fill: #174EA6;\n",
              "    }\n",
              "\n",
              "    [theme=dark] .colab-df-convert {\n",
              "      background-color: #3B4455;\n",
              "      fill: #D2E3FC;\n",
              "    }\n",
              "\n",
              "    [theme=dark] .colab-df-convert:hover {\n",
              "      background-color: #434B5C;\n",
              "      box-shadow: 0px 1px 3px 1px rgba(0, 0, 0, 0.15);\n",
              "      filter: drop-shadow(0px 1px 2px rgba(0, 0, 0, 0.3));\n",
              "      fill: #FFFFFF;\n",
              "    }\n",
              "  </style>\n",
              "\n",
              "      <script>\n",
              "        const buttonEl =\n",
              "          document.querySelector('#df-d294b17e-3cc8-48bb-8400-61e6cd681ba3 button.colab-df-convert');\n",
              "        buttonEl.style.display =\n",
              "          google.colab.kernel.accessAllowed ? 'block' : 'none';\n",
              "\n",
              "        async function convertToInteractive(key) {\n",
              "          const element = document.querySelector('#df-d294b17e-3cc8-48bb-8400-61e6cd681ba3');\n",
              "          const dataTable =\n",
              "            await google.colab.kernel.invokeFunction('convertToInteractive',\n",
              "                                                     [key], {});\n",
              "          if (!dataTable) return;\n",
              "\n",
              "          const docLinkHtml = 'Like what you see? Visit the ' +\n",
              "            '<a target=\"_blank\" href=https://colab.research.google.com/notebooks/data_table.ipynb>data table notebook</a>'\n",
              "            + ' to learn more about interactive tables.';\n",
              "          element.innerHTML = '';\n",
              "          dataTable['output_type'] = 'display_data';\n",
              "          await google.colab.output.renderOutput(dataTable, element);\n",
              "          const docLink = document.createElement('div');\n",
              "          docLink.innerHTML = docLinkHtml;\n",
              "          element.appendChild(docLink);\n",
              "        }\n",
              "      </script>\n",
              "    </div>\n",
              "  </div>\n",
              "  "
            ]
          },
          "metadata": {},
          "execution_count": 7
        }
      ]
    },
    {
      "cell_type": "markdown",
      "source": [],
      "metadata": {
        "id": "pGaGz_KvGW1M"
      }
    },
    {
      "cell_type": "markdown",
      "source": [
        "#### 산업구조_부가가치 및 산출액 비중 구하기"
      ],
      "metadata": {
        "id": "Jz2c6mWiGW5v"
      }
    },
    {
      "cell_type": "markdown",
      "source": [
        "###### pandas의 DataFrame을 numpy로 불러오기"
      ],
      "metadata": {
        "id": "vi5mrufWHBLq"
      }
    },
    {
      "cell_type": "markdown",
      "source": [
        "### DataFrame을 Numpy로 읽어오고 숫자만으로 행렬을 만들고 차원 등 제대로 읽어 왔는지 체크\n",
        "\n"
      ],
      "metadata": {
        "id": "x-a_G73J-ARG"
      }
    },
    {
      "cell_type": "code",
      "source": [
        "Tt = Tot.to_numpy()  # numpy로 불러오기\n",
        "Dt = Dom.to_numpy()\n",
        "It = Imp.to_numpy()"
      ],
      "metadata": {
        "id": "Hb3EasrIAz9H"
      },
      "execution_count": 8,
      "outputs": []
    },
    {
      "cell_type": "code",
      "source": [
        "va = Tt[-2,1:4]  # 산업별 부가가치\n",
        "ct = Tt[-1,1:4]  # 산업별 산출액"
      ],
      "metadata": {
        "id": "GrqwxwU44DMl"
      },
      "execution_count": 9,
      "outputs": []
    },
    {
      "cell_type": "code",
      "source": [
        "va_wgt = (va/va.sum()).reshape([3,1])  # 부가가치 기준 각 산업의 비중\n",
        "ct_wgt = (ct/ct.sum()).reshape([3,1])  # 산출액 기준 각 산업의 비중\n",
        "\n",
        "wgt_mx = np.concatenate((va_wgt, ct_wgt), axis=1)\n",
        "print(wgt_mx)"
      ],
      "metadata": {
        "id": "IGYFJf_fAz6J",
        "colab": {
          "base_uri": "https://localhost:8080/"
        },
        "outputId": "9013b088-cd0c-4a33-93d5-11381d354421"
      },
      "execution_count": 10,
      "outputs": [
        {
          "output_type": "stream",
          "name": "stdout",
          "text": [
            "[[0.023255813953488372 0.03036876355748373]\n",
            " [0.3116279069767442 0.4403470715835141]\n",
            " [0.6651162790697674 0.5292841648590022]]\n"
          ]
        }
      ]
    },
    {
      "cell_type": "markdown",
      "source": [
        "#### 투입구조"
      ],
      "metadata": {
        "id": "32UjG6dfMUrW"
      }
    },
    {
      "cell_type": "code",
      "source": [
        "Tt_itr = Tt[-3,1:5] # 총거래표의 각 산업별 및 총산업의 중간투입계\n",
        "Dt_itr = Dt[-1,1:5] # 국산거래표의 각 산업별 및 총산업의 중간투입계\n",
        "It_itr = It[-1,1:5] # 수입거래표의 각 산업별 및 총산업의 중간투입계\n",
        "Ct_itr = Tt[-1,1:5] # 각 산업별 및 총산업의 산출액\n",
        "\n",
        "print(Tt_itr)\n",
        "print(Dt_itr)\n",
        "print(It_itr)\n",
        "print(Ct_itr)"
      ],
      "metadata": {
        "colab": {
          "base_uri": "https://localhost:8080/"
        },
        "id": "D77j-HNjIKj9",
        "outputId": "61a64dc5-eb96-426d-8f77-853d24ee283d"
      },
      "execution_count": 11,
      "outputs": [
        {
          "output_type": "stream",
          "name": "stdout",
          "text": [
            "[9 136 101 246]\n",
            "[6 94 82 182]\n",
            "[3 42 19 64]\n",
            "[14 203 244 461]\n"
          ]
        }
      ]
    },
    {
      "cell_type": "code",
      "source": [
        "Tt_itr_ratio = (Tt_itr/Ct_itr).reshape([4,1]) # 총투입계수\n",
        "Dt_itr_ratio = (Dt_itr/Ct_itr).reshape([4,1]) # 국산투입계수\n",
        "It_itr_ratio = (It_itr/Ct_itr).reshape([4,1]) # 수입투입계수\n",
        "\n",
        "itr_ratio = np.concatenate((Tt_itr_ratio, Dt_itr_ratio, It_itr_ratio), axis=1)  # 총, 국산, 수입투입계수\n",
        "itr_ratio"
      ],
      "metadata": {
        "colab": {
          "base_uri": "https://localhost:8080/"
        },
        "id": "Dl7lil2JPogq",
        "outputId": "06ce22c8-b59e-40b7-92cc-efb6d6ce0f56"
      },
      "execution_count": 12,
      "outputs": [
        {
          "output_type": "execute_result",
          "data": {
            "text/plain": [
              "array([[0.6428571428571429, 0.42857142857142855, 0.21428571428571427],\n",
              "       [0.6699507389162561, 0.4630541871921182, 0.20689655172413793],\n",
              "       [0.4139344262295082, 0.3360655737704918, 0.0778688524590164],\n",
              "       [0.5336225596529284, 0.3947939262472885, 0.13882863340563992]],\n",
              "      dtype=object)"
            ]
          },
          "metadata": {},
          "execution_count": 12
        }
      ]
    },
    {
      "cell_type": "code",
      "source": [
        "Dt_dm_itr = (Dt_itr/Tt_itr).reshape([4,1])  # 각 산업별, 총산업의 국산화율\n",
        "Dt_dm_itr"
      ],
      "metadata": {
        "colab": {
          "base_uri": "https://localhost:8080/"
        },
        "id": "0Xi-6MnGPo6v",
        "outputId": "0f8c633d-8200-47c3-a199-4d6ee6a32e01"
      },
      "execution_count": 13,
      "outputs": [
        {
          "output_type": "execute_result",
          "data": {
            "text/plain": [
              "array([[0.6666666666666666],\n",
              "       [0.6911764705882353],\n",
              "       [0.8118811881188119],\n",
              "       [0.7398373983739838]], dtype=object)"
            ]
          },
          "metadata": {},
          "execution_count": 13
        }
      ]
    },
    {
      "cell_type": "code",
      "source": [
        "va_ratio = (Tt[-2,1:5]/Tt[-1,1:5]).reshape([4,1])  # 부가가치율 = 부가가치(3산업과 총부가가치)/산출액(3산업과 총산출액)\n",
        "va_ratio"
      ],
      "metadata": {
        "colab": {
          "base_uri": "https://localhost:8080/"
        },
        "id": "UlVNRugMPpQU",
        "outputId": "586d40eb-49e5-4e6f-e42e-cd65183309ba"
      },
      "execution_count": 14,
      "outputs": [
        {
          "output_type": "execute_result",
          "data": {
            "text/plain": [
              "array([[0.35714285714285715],\n",
              "       [0.33004926108374383],\n",
              "       [0.5860655737704918],\n",
              "       [0.46637744034707157]], dtype=object)"
            ]
          },
          "metadata": {},
          "execution_count": 14
        }
      ]
    },
    {
      "cell_type": "code",
      "source": [
        "#중간투입, 국산화율 및 부가가치율을 열방향으로 부치기\n",
        "input_str = np.concatenate((itr_ratio, Dt_dm_itr, va_ratio), axis=1)\n",
        "input_str"
      ],
      "metadata": {
        "colab": {
          "base_uri": "https://localhost:8080/"
        },
        "id": "lECvmd0wPpnQ",
        "outputId": "b9d24c23-6d7c-4161-a667-bfdfe0d9b12b"
      },
      "execution_count": 15,
      "outputs": [
        {
          "output_type": "execute_result",
          "data": {
            "text/plain": [
              "array([[0.6428571428571429, 0.42857142857142855, 0.21428571428571427,\n",
              "        0.6666666666666666, 0.35714285714285715],\n",
              "       [0.6699507389162561, 0.4630541871921182, 0.20689655172413793,\n",
              "        0.6911764705882353, 0.33004926108374383],\n",
              "       [0.4139344262295082, 0.3360655737704918, 0.0778688524590164,\n",
              "        0.8118811881188119, 0.5860655737704918],\n",
              "       [0.5336225596529284, 0.3947939262472885, 0.13882863340563992,\n",
              "        0.7398373983739838, 0.46637744034707157]], dtype=object)"
            ]
          },
          "metadata": {},
          "execution_count": 15
        }
      ]
    },
    {
      "cell_type": "markdown",
      "source": [
        "#### 배분구조"
      ],
      "metadata": {
        "id": "C6KfGPX5g9TI"
      }
    },
    {
      "cell_type": "code",
      "source": [
        "Tot_sup =Tt[0:4,-1]  # 총공급(산출액+수입)\n",
        "Dom_ct =Dt[0:4,-1]  # 산출액\n",
        "Imp_tot=It[0:4,-1]   # 총수입\n",
        "\n",
        "Tt_itd = Tt[0:4,4] # 총거래표의 각 산업별 및 총산업의 중간수요계\n",
        "Dt_itd = Dt[0:4,4] # 국산거래표의 각 산업별 및 총산업의 중간수요계\n",
        "It_itd = It[0:4,4] # 수입거래표의 각 산업별 및 총산업의 중간수요계\n",
        "\n",
        "Tot_dmd = Tt[0:4,-4] # 각 제품별 및 전품목 총수요계\n",
        "Fd =Tt[0:4,-5]\n",
        "Exp = Tt[0:4,-6]  # 각 제품별 및 전품목 수출\n",
        "\n",
        "print(Tot_sup)\n",
        "print(Dom_ct)\n",
        "print(Imp_tot)\n",
        "\n",
        "print(Tt_itd)\n",
        "print(Dt_itd)\n",
        "print(It_itd)\n",
        "\n",
        "print(Tot_dmd)\n",
        "print(Fd)\n",
        "print(Exp)"
      ],
      "metadata": {
        "id": "IWpo8RCb6EsB",
        "colab": {
          "base_uri": "https://localhost:8080/"
        },
        "outputId": "8ce02e25-7bf8-4445-8145-4ffd792cd622"
      },
      "execution_count": 16,
      "outputs": [
        {
          "output_type": "stream",
          "name": "stdout",
          "text": [
            "[28 262 256 546]\n",
            "[14 203 244 461]\n",
            "[14 59 12 85]\n",
            "[20 138 88 246]\n",
            "[9 94 79 182]\n",
            "[11 44 9 64]\n",
            "[28 262 256 546]\n",
            "[8 124 168 300]\n",
            "[2 73 15 90]\n"
          ]
        }
      ]
    },
    {
      "cell_type": "code",
      "source": [
        "Itd_r = (Tt_itd/Tot_dmd).reshape([4,1]) # 중간수요율 = 중간수요계/총수요\n",
        "ftd_r = (Fd/Tot_dmd).reshape([4,1]) # 최종수요율 = 최종수요계/총수요\n",
        "Exp_r = (Exp/Dom_ct).reshape([4,1]) # 수출률 = 수출/총산출액\n",
        "Imp_r = (Imp_tot/Tot_sup).reshape([4,1])\n",
        "\n",
        "print(Itd_r)\n",
        "print(ftd_r)\n",
        "print(Exp_r)\n",
        "print(Imp_r)"
      ],
      "metadata": {
        "id": "lcVwawkrPi5t",
        "colab": {
          "base_uri": "https://localhost:8080/"
        },
        "outputId": "786f105e-ec4f-4173-82bd-c7e2623e7b5f"
      },
      "execution_count": 17,
      "outputs": [
        {
          "output_type": "stream",
          "name": "stdout",
          "text": [
            "[[0.7142857142857143]\n",
            " [0.5267175572519084]\n",
            " [0.34375]\n",
            " [0.45054945054945056]]\n",
            "[[0.2857142857142857]\n",
            " [0.4732824427480916]\n",
            " [0.65625]\n",
            " [0.5494505494505495]]\n",
            "[[0.14285714285714285]\n",
            " [0.35960591133004927]\n",
            " [0.06147540983606557]\n",
            " [0.19522776572668113]]\n",
            "[[0.5]\n",
            " [0.22519083969465647]\n",
            " [0.046875]\n",
            " [0.15567765567765568]]\n"
          ]
        }
      ]
    },
    {
      "cell_type": "code",
      "source": [
        "# 중간수요율, 최종수요율, 수출률 및 수입비율 열방향으로 부치기\n",
        "\n",
        "dst_str = np.concatenate((Itd_r, ftd_r, Exp_r, Imp_r), axis=1)\n",
        "print(dst_str)"
      ],
      "metadata": {
        "id": "goO-V0B5PjRD",
        "colab": {
          "base_uri": "https://localhost:8080/"
        },
        "outputId": "4c4e6f96-5c81-4d70-e01c-47e9a6d71eb8"
      },
      "execution_count": 18,
      "outputs": [
        {
          "output_type": "stream",
          "name": "stdout",
          "text": [
            "[[0.7142857142857143 0.2857142857142857 0.14285714285714285 0.5]\n",
            " [0.5267175572519084 0.4732824427480916 0.35960591133004927\n",
            "  0.22519083969465647]\n",
            " [0.34375 0.65625 0.06147540983606557 0.046875]\n",
            " [0.45054945054945056 0.5494505494505495 0.19522776572668113\n",
            "  0.15567765567765568]]\n"
          ]
        }
      ]
    },
    {
      "cell_type": "markdown",
      "source": [
        "## 부문통합하여 3부문 IO표 만들기\n",
        "\n",
        "### - 33부문의 IO표를 3부문 IO표로 통합하기\n",
        "\n",
        "##### - 33부문을 크게 농수산품, 공산품 및 서비스로 통합하기 위하여 행렬 곱을 사용\n",
        "##### - 0과 1로 구성된 행렬을 만드는데 각 행은 새로운 표의 부문을 나타내며 각 열은 33부문의 부문을 나타낸다"
      ],
      "metadata": {
        "id": "0D8ZcdAxwoNP"
      }
    },
    {
      "cell_type": "code",
      "source": [
        "code = np.array([[1,0,0,0,0,0,0,0,0,0,0,0,0,0,0,0,0,0,0,0,0,0,0,0,0,0,0,0,0,0,0,0,0],\n",
        "       [0,1,1,1,1,1,1,1,1,1,1,1,1,1,1,1,0,0,0,0,0,0,0,0,0,0,0,0,0,0,0,0,0],\n",
        "       [0,0,0,0,0,0,0,0,0,0,0,0,0,0,0,0,1,1,1,1,1,1,1,1,1,1,1,1,1,1,1,1,1]])\n",
        "code"
      ],
      "metadata": {
        "id": "l7x5rT73PkAm",
        "outputId": "896b4f79-60f8-4b6c-d41c-88c2ee7e9546",
        "colab": {
          "base_uri": "https://localhost:8080/"
        }
      },
      "execution_count": 19,
      "outputs": [
        {
          "output_type": "execute_result",
          "data": {
            "text/plain": [
              "array([[1, 0, 0, 0, 0, 0, 0, 0, 0, 0, 0, 0, 0, 0, 0, 0, 0, 0, 0, 0, 0, 0,\n",
              "        0, 0, 0, 0, 0, 0, 0, 0, 0, 0, 0],\n",
              "       [0, 1, 1, 1, 1, 1, 1, 1, 1, 1, 1, 1, 1, 1, 1, 1, 0, 0, 0, 0, 0, 0,\n",
              "        0, 0, 0, 0, 0, 0, 0, 0, 0, 0, 0],\n",
              "       [0, 0, 0, 0, 0, 0, 0, 0, 0, 0, 0, 0, 0, 0, 0, 0, 1, 1, 1, 1, 1, 1,\n",
              "        1, 1, 1, 1, 1, 1, 1, 1, 1, 1, 1]])"
            ]
          },
          "metadata": {},
          "execution_count": 19
        }
      ]
    },
    {
      "cell_type": "code",
      "source": [
        "url_Tt_33 = \"https://raw.githubusercontent.com/Tom-Jung/legendary-funicular/main/Total_M_F.csv\"  # 33부문의 총거래표 불러오기\n",
        "Tt_33 = pd.read_csv(url_Tt_33)"
      ],
      "metadata": {
        "id": "2gsn6uHUPkdI"
      },
      "execution_count": 20,
      "outputs": []
    },
    {
      "cell_type": "code",
      "source": [
        "Ttt_33 = Tt_33.to_numpy()\n",
        "Tot_33 = Ttt_33[0:41,1:53].astype(float)"
      ],
      "metadata": {
        "id": "WedAqacOyjgz"
      },
      "execution_count": 21,
      "outputs": []
    },
    {
      "cell_type": "code",
      "source": [
        "nae_tot_row = code@Tot_33[0:33,0:33] # 중간투입(수요)의 행을 3부문으로 만들기\n",
        "nae_tot_row"
      ],
      "metadata": {
        "id": "kAEEg8WmPkvm",
        "outputId": "01401b36-e193-42fb-eb5e-ceac8eca4daf",
        "colab": {
          "base_uri": "https://localhost:8080/"
        }
      },
      "execution_count": 22,
      "outputs": [
        {
          "output_type": "execute_result",
          "data": {
            "text/plain": [
              "array([[2.86200e+03, 5.00000e+00, 3.15260e+04, 6.48000e+02, 8.63000e+02,\n",
              "        6.00000e+00, 9.80000e+02, 7.00000e+00, 1.50000e+01, 1.50000e+01,\n",
              "        1.80000e+01, 6.00000e+00, 1.80000e+01, 1.30000e+01, 3.20000e+01,\n",
              "        4.75000e+02, 5.00000e+00, 7.00000e+00, 4.46000e+02, 1.03000e+02,\n",
              "        2.50000e+01, 8.17300e+03, 3.20000e+01, 4.70000e+01, 9.00000e+00,\n",
              "        1.36000e+02, 1.80000e+01, 2.72000e+02, 9.80000e+01, 1.02700e+03,\n",
              "        1.48000e+02, 7.40000e+01, 2.70000e+01],\n",
              "       [1.57650e+04, 5.68000e+02, 3.11770e+04, 4.32580e+04, 1.73850e+04,\n",
              "        5.78600e+04, 1.15528e+05, 1.50140e+04, 6.44060e+04, 4.41850e+04,\n",
              "        1.35069e+05, 4.71820e+04, 6.31260e+04, 1.53704e+05, 9.30700e+03,\n",
              "        1.71490e+04, 3.50850e+04, 2.47100e+03, 7.87430e+04, 1.58360e+04,\n",
              "        3.26420e+04, 4.20060e+04, 9.51700e+03, 4.04300e+03, 2.37100e+03,\n",
              "        2.21840e+04, 5.20800e+03, 6.53600e+03, 7.90000e+03, 2.63440e+04,\n",
              "        5.25700e+03, 1.46540e+04, 6.43000e+02],\n",
              "       [6.46800e+03, 1.20800e+03, 1.85860e+04, 1.24570e+04, 7.95400e+03,\n",
              "        7.91800e+03, 3.75180e+04, 9.22200e+03, 2.31890e+04, 1.31270e+04,\n",
              "        3.04060e+04, 1.17810e+04, 1.52570e+04, 3.16430e+04, 3.56800e+03,\n",
              "        1.01840e+04, 1.60530e+04, 5.53200e+03, 3.68860e+04, 8.43150e+04,\n",
              "        4.36120e+04, 2.68870e+04, 4.59770e+04, 5.36750e+04, 3.79690e+04,\n",
              "        5.93290e+04, 1.53140e+04, 1.80720e+04, 2.40830e+04, 2.29010e+04,\n",
              "        1.07380e+04, 1.22000e+04, 2.75300e+03]])"
            ]
          },
          "metadata": {},
          "execution_count": 22
        }
      ]
    },
    {
      "cell_type": "code",
      "source": [
        "nae_tot_row.shape  # 행과 열의 개수 확인"
      ],
      "metadata": {
        "id": "xn5tPGW1PlG2",
        "outputId": "b8538555-a6fd-4140-e129-a81e0062124a",
        "colab": {
          "base_uri": "https://localhost:8080/"
        }
      },
      "execution_count": 23,
      "outputs": [
        {
          "output_type": "execute_result",
          "data": {
            "text/plain": [
              "(3, 33)"
            ]
          },
          "metadata": {},
          "execution_count": 23
        }
      ]
    },
    {
      "cell_type": "code",
      "source": [
        "nae_tot_col = nae_tot_row@code.T\n",
        "nae_tot_col"
      ],
      "metadata": {
        "id": "3cc2Kx580Rj3",
        "outputId": "03430073-6110-4e56-dcfe-631e60bc201a",
        "colab": {
          "base_uri": "https://localhost:8080/"
        }
      },
      "execution_count": 24,
      "outputs": [
        {
          "output_type": "execute_result",
          "data": {
            "text/plain": [
              "array([[  2862.,  34627.,  10647.],\n",
              "       [ 15765., 814918., 311440.],\n",
              "       [  6468., 234018., 516296.]])"
            ]
          },
          "metadata": {},
          "execution_count": 24
        }
      ]
    },
    {
      "cell_type": "code",
      "source": [
        "nae_tot_col.shape  # 행과 열의 개수 확인"
      ],
      "metadata": {
        "id": "weuK7Yxt0Rt_",
        "outputId": "d780a46e-2b63-4c2b-a30f-8607201c16b4",
        "colab": {
          "base_uri": "https://localhost:8080/"
        }
      },
      "execution_count": 25,
      "outputs": [
        {
          "output_type": "execute_result",
          "data": {
            "text/plain": [
              "(3, 3)"
            ]
          },
          "metadata": {},
          "execution_count": 25
        }
      ]
    },
    {
      "cell_type": "code",
      "source": [
        "nae_tot_col.sum()"
      ],
      "metadata": {
        "id": "44XALcRD0R3b",
        "outputId": "144e8996-9b30-4810-b471-6fdde9a83c1f",
        "colab": {
          "base_uri": "https://localhost:8080/"
        }
      },
      "execution_count": 26,
      "outputs": [
        {
          "output_type": "execute_result",
          "data": {
            "text/plain": [
              "1947041.0"
            ]
          },
          "metadata": {},
          "execution_count": 26
        }
      ]
    },
    {
      "cell_type": "code",
      "source": [
        "va_row = Tot_33[33:40,0:33]@code.T # 중투합, 피용자보수, 영업잉여, 고정자본소모, 기타생산세, 부가가치계, 산출액(7X3)\n",
        "va_row"
      ],
      "metadata": {
        "id": "9r1910Rf0SBQ",
        "outputId": "ff5cce23-af18-43bd-f1a8-94390240c4a4",
        "colab": {
          "base_uri": "https://localhost:8080/"
        }
      },
      "execution_count": 27,
      "outputs": [
        {
          "output_type": "execute_result",
          "data": {
            "text/plain": [
              "array([[2.509500e+04, 1.083563e+06, 8.383830e+05],\n",
              "       [4.719000e+03, 1.591330e+05, 5.113400e+05],\n",
              "       [2.024900e+04, 1.381430e+05, 2.509920e+05],\n",
              "       [4.346000e+03, 1.033380e+05, 1.710180e+05],\n",
              "       [5.490000e+02, 4.809200e+04, 7.385100e+04],\n",
              "       [2.986300e+04, 4.487060e+05, 1.007201e+06],\n",
              "       [5.495800e+04, 1.532269e+06, 1.845584e+06]])"
            ]
          },
          "metadata": {},
          "execution_count": 27
        }
      ]
    },
    {
      "cell_type": "code",
      "source": [
        "va_row.shape"
      ],
      "metadata": {
        "id": "cDZ1i__I1B6Z",
        "outputId": "4ebff9c8-8d7a-4a78-980d-c38c2ecae73f",
        "colab": {
          "base_uri": "https://localhost:8080/"
        }
      },
      "execution_count": 28,
      "outputs": [
        {
          "output_type": "execute_result",
          "data": {
            "text/plain": [
              "(7, 3)"
            ]
          },
          "metadata": {},
          "execution_count": 28
        }
      ]
    },
    {
      "cell_type": "code",
      "source": [
        "fd_cd = np.array([[1,1,0,0,0,0,0,0,0],   # 최종수요를 통합하기 위한 0과 1로된 행렬\n",
        "                  [0,0,1,1,1,1,0,0,0],\n",
        "                  [0,0,0,0,0,0,1,0,0],\n",
        "                  [0,0,0,0,0,0,0,1,0],\n",
        "                  [0,0,0,0,0,0,0,0,1]])  "
      ],
      "metadata": {
        "id": "7IMx6Eay1CEs"
      },
      "execution_count": 29,
      "outputs": []
    },
    {
      "cell_type": "code",
      "source": [
        "fd = Tot_33[0:33, 34:45]\n",
        "fd"
      ],
      "metadata": {
        "id": "nEQ7KA0y1CQU",
        "outputId": "01a5821a-b083-4ec3-aabe-357164996dea",
        "colab": {
          "base_uri": "https://localhost:8080/"
        }
      },
      "execution_count": 30,
      "outputs": [
        {
          "output_type": "execute_result",
          "data": {
            "text/plain": [
              "array([[ 1.51150e+04,  0.00000e+00,  3.83000e+02,  1.50000e+01,\n",
              "         1.08500e+03,  0.00000e+00,  6.15000e+02,  1.72130e+04,\n",
              "         6.53490e+04],\n",
              "       [ 1.20000e+01,  0.00000e+00,  0.00000e+00,  0.00000e+00,\n",
              "        -1.08000e+02,  0.00000e+00,  1.16000e+02,  2.00000e+01,\n",
              "         9.95890e+04],\n",
              "       [ 5.03660e+04,  0.00000e+00,  0.00000e+00,  0.00000e+00,\n",
              "         4.90000e+01,  0.00000e+00,  6.74200e+03,  5.71570e+04,\n",
              "         1.31760e+05],\n",
              "       [ 2.66300e+04,  0.00000e+00,  1.15000e+02,  1.50000e+01,\n",
              "         8.64000e+02,  0.00000e+00,  3.13520e+04,  5.89760e+04,\n",
              "         9.53080e+04],\n",
              "       [ 1.11300e+03,  0.00000e+00,  0.00000e+00,  0.00000e+00,\n",
              "         9.10000e+01,  0.00000e+00,  3.21800e+03,  4.42200e+03,\n",
              "         4.52510e+04],\n",
              "       [ 1.31450e+04,  0.00000e+00,  0.00000e+00,  0.00000e+00,\n",
              "         4.53000e+02,  0.00000e+00,  3.60580e+04,  4.96560e+04,\n",
              "         1.22457e+05],\n",
              "       [ 7.06700e+03,  0.00000e+00,  0.00000e+00,  0.00000e+00,\n",
              "        -5.53000e+02,  0.00000e+00,  7.41820e+04,  8.06960e+04,\n",
              "         2.73533e+05],\n",
              "       [ 2.08000e+02,  0.00000e+00,  0.00000e+00,  0.00000e+00,\n",
              "        -1.70000e+01,  0.00000e+00,  2.58700e+03,  2.77800e+03,\n",
              "         4.16980e+04],\n",
              "       [-4.99000e+02,  0.00000e+00, -2.19200e+03, -5.70000e+01,\n",
              "        -1.52100e+03,  1.80000e+02,  3.53860e+04,  3.12970e+04,\n",
              "         1.46345e+05],\n",
              "       [ 1.16000e+03,  0.00000e+00,  3.39200e+03,  2.16200e+03,\n",
              "         4.02000e+02,  0.00000e+00,  1.06480e+04,  1.77640e+04,\n",
              "         9.69290e+04],\n",
              "       [ 2.19820e+04,  0.00000e+00,  1.88510e+04,  2.55800e+03,\n",
              "         1.54700e+03,  0.00000e+00,  1.55967e+05,  2.00905e+05,\n",
              "         3.28314e+05],\n",
              "       [ 4.66400e+03,  0.00000e+00,  9.63000e+03,  1.81000e+02,\n",
              "         4.72000e+02,  0.00000e+00,  2.64880e+04,  4.14350e+04,\n",
              "         1.01458e+05],\n",
              "       [ 1.25100e+03,  0.00000e+00,  4.66480e+04,  3.70000e+02,\n",
              "         3.30000e+02,  0.00000e+00,  4.28970e+04,  9.14960e+04,\n",
              "         1.45110e+05],\n",
              "       [ 2.76810e+04,  0.00000e+00,  2.45600e+04,  6.29900e+03,\n",
              "         2.68100e+03,  0.00000e+00,  1.16106e+05,  1.77327e+05,\n",
              "         2.56535e+05],\n",
              "       [ 6.25400e+03,  0.00000e+00,  2.49700e+03,  2.42000e+02,\n",
              "         2.77000e+02,  1.19100e+03,  2.56300e+03,  1.30240e+04,\n",
              "         2.40840e+04],\n",
              "       [ 2.40000e+01,  0.00000e+00,  0.00000e+00,  0.00000e+00,\n",
              "         0.00000e+00,  0.00000e+00,  2.49700e+03,  2.52100e+03,\n",
              "         6.32260e+04],\n",
              "       [ 1.58980e+04,  0.00000e+00,  0.00000e+00,  0.00000e+00,\n",
              "         0.00000e+00,  0.00000e+00,  1.04000e+02,  1.60020e+04,\n",
              "         8.31850e+04],\n",
              "       [ 3.05900e+03,  1.04400e+03,  0.00000e+00,  0.00000e+00,\n",
              "         0.00000e+00,  0.00000e+00,  3.43000e+02,  4.44600e+03,\n",
              "         1.72270e+04],\n",
              "       [ 0.00000e+00,  0.00000e+00,  1.48566e+05,  4.26080e+04,\n",
              "        -1.27400e+03,  0.00000e+00,  1.48000e+02,  1.90048e+05,\n",
              "         2.00292e+05],\n",
              "       [ 7.07170e+04,  0.00000e+00,  9.90000e+03,  6.33000e+02,\n",
              "         1.09900e+03,  2.85000e+02,  2.16110e+04,  1.04245e+05,\n",
              "         2.24659e+05],\n",
              "       [ 2.29100e+04,  0.00000e+00,  2.16000e+02,  5.70000e+01,\n",
              "         7.30000e+01,  7.00000e+00,  3.39870e+04,  5.72500e+04,\n",
              "         1.46599e+05],\n",
              "       [ 7.36990e+04,  0.00000e+00,  0.00000e+00,  0.00000e+00,\n",
              "         0.00000e+00,  0.00000e+00,  6.30600e+03,  8.00050e+04,\n",
              "         1.29723e+05],\n",
              "       [ 2.90770e+04,  0.00000e+00,  2.51160e+04,  2.17000e+02,\n",
              "         1.80000e+01,  0.00000e+00,  4.95000e+03,  5.93780e+04,\n",
              "         1.26326e+05],\n",
              "       [ 5.86560e+04,  0.00000e+00,  0.00000e+00,  0.00000e+00,\n",
              "         0.00000e+00,  0.00000e+00,  2.56000e+03,  6.12160e+04,\n",
              "         1.43206e+05],\n",
              "       [ 1.02756e+05,  0.00000e+00,  2.32900e+04,  1.50000e+01,\n",
              "         0.00000e+00,  0.00000e+00,  3.85000e+02,  1.26446e+05,\n",
              "         1.73004e+05],\n",
              "       [ 2.81300e+03,  0.00000e+00,  5.27020e+04,  8.89200e+03,\n",
              "         0.00000e+00,  0.00000e+00,  1.42390e+04,  7.86460e+04,\n",
              "         1.87504e+05],\n",
              "       [ 3.47900e+03,  0.00000e+00,  0.00000e+00,  0.00000e+00,\n",
              "         0.00000e+00,  0.00000e+00,  7.86600e+03,  1.13450e+04,\n",
              "         8.02060e+04],\n",
              "       [ 1.21300e+03,  1.07307e+05,  0.00000e+00,  0.00000e+00,\n",
              "         0.00000e+00,  0.00000e+00,  3.40000e+01,  1.08554e+05,\n",
              "         1.10999e+05],\n",
              "       [ 5.00670e+04,  5.39850e+04,  0.00000e+00,  0.00000e+00,\n",
              "         0.00000e+00,  0.00000e+00,  1.53000e+02,  1.04205e+05,\n",
              "         1.06156e+05],\n",
              "       [ 4.11590e+04,  5.98870e+04,  0.00000e+00,  0.00000e+00,\n",
              "         0.00000e+00,  0.00000e+00,  3.32000e+02,  1.01378e+05,\n",
              "         1.07774e+05],\n",
              "       [ 2.98470e+04,  1.72200e+03,  4.27000e+02,  0.00000e+00,\n",
              "         0.00000e+00,  2.30000e+01,  9.29000e+02,  3.29480e+04,\n",
              "         3.98100e+04],\n",
              "       [ 3.59970e+04,  0.00000e+00,  0.00000e+00,  0.00000e+00,\n",
              "         0.00000e+00,  0.00000e+00,  5.48000e+02,  3.65450e+04,\n",
              "         4.90610e+04],\n",
              "       [-2.85000e+02,  0.00000e+00,  0.00000e+00,  0.00000e+00,\n",
              "         0.00000e+00,  0.00000e+00,  0.00000e+00, -2.85000e+02,\n",
              "         3.42300e+03]])"
            ]
          },
          "metadata": {},
          "execution_count": 30
        }
      ]
    },
    {
      "cell_type": "code",
      "source": [
        "fd_row=code@fd@fd_cd.T"
      ],
      "metadata": {
        "id": "Hu1RCGZN1Qgd"
      },
      "execution_count": 31,
      "outputs": []
    },
    {
      "cell_type": "code",
      "source": [
        "fd_row_sm = np.sum((fd_row), axis=0) # 최종수요의 행합"
      ],
      "metadata": {
        "id": "DoK2fPer1Qq0"
      },
      "execution_count": 32,
      "outputs": []
    },
    {
      "cell_type": "code",
      "source": [
        "fd_sm=fd_row_sm.reshape(1,5)"
      ],
      "metadata": {
        "id": "saQ_vhsr1Q17"
      },
      "execution_count": 33,
      "outputs": []
    },
    {
      "cell_type": "code",
      "source": [
        "nae_va_ct = np.concatenate((nae_tot_col, va_row)) # 중간투입(수요)와 부가가치 및 산출액 합치기\n",
        "nae_va_ct"
      ],
      "metadata": {
        "id": "mpmb9GsJ1CbA",
        "outputId": "79cb2413-b0db-421b-afa9-36ba4c5e0c0a",
        "colab": {
          "base_uri": "https://localhost:8080/"
        }
      },
      "execution_count": 34,
      "outputs": [
        {
          "output_type": "execute_result",
          "data": {
            "text/plain": [
              "array([[2.862000e+03, 3.462700e+04, 1.064700e+04],\n",
              "       [1.576500e+04, 8.149180e+05, 3.114400e+05],\n",
              "       [6.468000e+03, 2.340180e+05, 5.162960e+05],\n",
              "       [2.509500e+04, 1.083563e+06, 8.383830e+05],\n",
              "       [4.719000e+03, 1.591330e+05, 5.113400e+05],\n",
              "       [2.024900e+04, 1.381430e+05, 2.509920e+05],\n",
              "       [4.346000e+03, 1.033380e+05, 1.710180e+05],\n",
              "       [5.490000e+02, 4.809200e+04, 7.385100e+04],\n",
              "       [2.986300e+04, 4.487060e+05, 1.007201e+06],\n",
              "       [5.495800e+04, 1.532269e+06, 1.845584e+06]])"
            ]
          },
          "metadata": {},
          "execution_count": 34
        }
      ]
    },
    {
      "cell_type": "code",
      "source": [
        "nae_va_ct_sm = nae_va_ct.sum(axis=1).reshape(10,1)  # 부가가치 및 산출액의 열합"
      ],
      "metadata": {
        "id": "wt22KYsp1Ck8"
      },
      "execution_count": 35,
      "outputs": []
    },
    {
      "cell_type": "code",
      "source": [
        "nnull = np.zeros((6,5)) # 0행렬"
      ],
      "metadata": {
        "id": "iYARQC7L11Q2"
      },
      "execution_count": 36,
      "outputs": []
    },
    {
      "cell_type": "code",
      "source": [
        "fd_nnull = np.concatenate((fd_row, fd_sm, nnull),axis=0)  # 최종수요, 최종수요 행합 및 0행렬 합치기"
      ],
      "metadata": {
        "id": "YGFh506e11c0"
      },
      "execution_count": 37,
      "outputs": []
    },
    {
      "cell_type": "code",
      "source": [
        "tot_f = np.concatenate((nae_va_ct,nae_va_ct_sm, fd_nnull), axis=1)  # 최종 3x3 부문통합된 거래표"
      ],
      "metadata": {
        "id": "fTFmXv6b11oz"
      },
      "execution_count": 38,
      "outputs": []
    },
    {
      "cell_type": "code",
      "source": [
        "tot_F = pd.DataFrame(tot_f, columns = ['Agriculture', 'Manufacturing', 'Services', 'Total intermediate demand', 'Conumption','Investment', 'Exports', 'Total final demand', 'Total demand']) # 변수명 붙여서 pandas로 내보내기"
      ],
      "metadata": {
        "id": "GIzMLMU2111V"
      },
      "execution_count": 39,
      "outputs": []
    },
    {
      "cell_type": "code",
      "source": [
        "tot_F  #최종 3x3 거래표 확인"
      ],
      "metadata": {
        "id": "Hlke2CDs2VA1",
        "outputId": "ddfb720c-434b-472e-f7c9-632b69187702",
        "colab": {
          "base_uri": "https://localhost:8080/",
          "height": 441
        }
      },
      "execution_count": 40,
      "outputs": [
        {
          "output_type": "execute_result",
          "data": {
            "text/plain": [
              "   Agriculture  Manufacturing   Services  Total intermediate demand  \\\n",
              "0       2862.0        34627.0    10647.0                    48136.0   \n",
              "1      15765.0       814918.0   311440.0                  1142123.0   \n",
              "2       6468.0       234018.0   516296.0                   756782.0   \n",
              "3      25095.0      1083563.0   838383.0                  1947041.0   \n",
              "4       4719.0       159133.0   511340.0                   675192.0   \n",
              "5      20249.0       138143.0   250992.0                   409384.0   \n",
              "6       4346.0       103338.0   171018.0                   278702.0   \n",
              "7        549.0        48092.0    73851.0                   122492.0   \n",
              "8      29863.0       448706.0  1007201.0                  1485770.0   \n",
              "9      54958.0      1532269.0  1845584.0                  3432811.0   \n",
              "\n",
              "   Conumption  Investment   Exports  Total final demand  Total demand  \n",
              "0     15115.0      1483.0     615.0             17213.0       65349.0  \n",
              "1    161058.0    121609.0  546807.0            829474.0     1971597.0  \n",
              "2    765007.0    312870.0   94495.0           1172372.0     1929154.0  \n",
              "3    941180.0    435962.0  641917.0           2019059.0     3966100.0  \n",
              "4         0.0         0.0       0.0                 0.0           0.0  \n",
              "5         0.0         0.0       0.0                 0.0           0.0  \n",
              "6         0.0         0.0       0.0                 0.0           0.0  \n",
              "7         0.0         0.0       0.0                 0.0           0.0  \n",
              "8         0.0         0.0       0.0                 0.0           0.0  \n",
              "9         0.0         0.0       0.0                 0.0           0.0  "
            ],
            "text/html": [
              "\n",
              "  <div id=\"df-3a4745a2-ff32-425c-bf3b-8882304cf3ef\">\n",
              "    <div class=\"colab-df-container\">\n",
              "      <div>\n",
              "<style scoped>\n",
              "    .dataframe tbody tr th:only-of-type {\n",
              "        vertical-align: middle;\n",
              "    }\n",
              "\n",
              "    .dataframe tbody tr th {\n",
              "        vertical-align: top;\n",
              "    }\n",
              "\n",
              "    .dataframe thead th {\n",
              "        text-align: right;\n",
              "    }\n",
              "</style>\n",
              "<table border=\"1\" class=\"dataframe\">\n",
              "  <thead>\n",
              "    <tr style=\"text-align: right;\">\n",
              "      <th></th>\n",
              "      <th>Agriculture</th>\n",
              "      <th>Manufacturing</th>\n",
              "      <th>Services</th>\n",
              "      <th>Total intermediate demand</th>\n",
              "      <th>Conumption</th>\n",
              "      <th>Investment</th>\n",
              "      <th>Exports</th>\n",
              "      <th>Total final demand</th>\n",
              "      <th>Total demand</th>\n",
              "    </tr>\n",
              "  </thead>\n",
              "  <tbody>\n",
              "    <tr>\n",
              "      <th>0</th>\n",
              "      <td>2862.0</td>\n",
              "      <td>34627.0</td>\n",
              "      <td>10647.0</td>\n",
              "      <td>48136.0</td>\n",
              "      <td>15115.0</td>\n",
              "      <td>1483.0</td>\n",
              "      <td>615.0</td>\n",
              "      <td>17213.0</td>\n",
              "      <td>65349.0</td>\n",
              "    </tr>\n",
              "    <tr>\n",
              "      <th>1</th>\n",
              "      <td>15765.0</td>\n",
              "      <td>814918.0</td>\n",
              "      <td>311440.0</td>\n",
              "      <td>1142123.0</td>\n",
              "      <td>161058.0</td>\n",
              "      <td>121609.0</td>\n",
              "      <td>546807.0</td>\n",
              "      <td>829474.0</td>\n",
              "      <td>1971597.0</td>\n",
              "    </tr>\n",
              "    <tr>\n",
              "      <th>2</th>\n",
              "      <td>6468.0</td>\n",
              "      <td>234018.0</td>\n",
              "      <td>516296.0</td>\n",
              "      <td>756782.0</td>\n",
              "      <td>765007.0</td>\n",
              "      <td>312870.0</td>\n",
              "      <td>94495.0</td>\n",
              "      <td>1172372.0</td>\n",
              "      <td>1929154.0</td>\n",
              "    </tr>\n",
              "    <tr>\n",
              "      <th>3</th>\n",
              "      <td>25095.0</td>\n",
              "      <td>1083563.0</td>\n",
              "      <td>838383.0</td>\n",
              "      <td>1947041.0</td>\n",
              "      <td>941180.0</td>\n",
              "      <td>435962.0</td>\n",
              "      <td>641917.0</td>\n",
              "      <td>2019059.0</td>\n",
              "      <td>3966100.0</td>\n",
              "    </tr>\n",
              "    <tr>\n",
              "      <th>4</th>\n",
              "      <td>4719.0</td>\n",
              "      <td>159133.0</td>\n",
              "      <td>511340.0</td>\n",
              "      <td>675192.0</td>\n",
              "      <td>0.0</td>\n",
              "      <td>0.0</td>\n",
              "      <td>0.0</td>\n",
              "      <td>0.0</td>\n",
              "      <td>0.0</td>\n",
              "    </tr>\n",
              "    <tr>\n",
              "      <th>5</th>\n",
              "      <td>20249.0</td>\n",
              "      <td>138143.0</td>\n",
              "      <td>250992.0</td>\n",
              "      <td>409384.0</td>\n",
              "      <td>0.0</td>\n",
              "      <td>0.0</td>\n",
              "      <td>0.0</td>\n",
              "      <td>0.0</td>\n",
              "      <td>0.0</td>\n",
              "    </tr>\n",
              "    <tr>\n",
              "      <th>6</th>\n",
              "      <td>4346.0</td>\n",
              "      <td>103338.0</td>\n",
              "      <td>171018.0</td>\n",
              "      <td>278702.0</td>\n",
              "      <td>0.0</td>\n",
              "      <td>0.0</td>\n",
              "      <td>0.0</td>\n",
              "      <td>0.0</td>\n",
              "      <td>0.0</td>\n",
              "    </tr>\n",
              "    <tr>\n",
              "      <th>7</th>\n",
              "      <td>549.0</td>\n",
              "      <td>48092.0</td>\n",
              "      <td>73851.0</td>\n",
              "      <td>122492.0</td>\n",
              "      <td>0.0</td>\n",
              "      <td>0.0</td>\n",
              "      <td>0.0</td>\n",
              "      <td>0.0</td>\n",
              "      <td>0.0</td>\n",
              "    </tr>\n",
              "    <tr>\n",
              "      <th>8</th>\n",
              "      <td>29863.0</td>\n",
              "      <td>448706.0</td>\n",
              "      <td>1007201.0</td>\n",
              "      <td>1485770.0</td>\n",
              "      <td>0.0</td>\n",
              "      <td>0.0</td>\n",
              "      <td>0.0</td>\n",
              "      <td>0.0</td>\n",
              "      <td>0.0</td>\n",
              "    </tr>\n",
              "    <tr>\n",
              "      <th>9</th>\n",
              "      <td>54958.0</td>\n",
              "      <td>1532269.0</td>\n",
              "      <td>1845584.0</td>\n",
              "      <td>3432811.0</td>\n",
              "      <td>0.0</td>\n",
              "      <td>0.0</td>\n",
              "      <td>0.0</td>\n",
              "      <td>0.0</td>\n",
              "      <td>0.0</td>\n",
              "    </tr>\n",
              "  </tbody>\n",
              "</table>\n",
              "</div>\n",
              "      <button class=\"colab-df-convert\" onclick=\"convertToInteractive('df-3a4745a2-ff32-425c-bf3b-8882304cf3ef')\"\n",
              "              title=\"Convert this dataframe to an interactive table.\"\n",
              "              style=\"display:none;\">\n",
              "        \n",
              "  <svg xmlns=\"http://www.w3.org/2000/svg\" height=\"24px\"viewBox=\"0 0 24 24\"\n",
              "       width=\"24px\">\n",
              "    <path d=\"M0 0h24v24H0V0z\" fill=\"none\"/>\n",
              "    <path d=\"M18.56 5.44l.94 2.06.94-2.06 2.06-.94-2.06-.94-.94-2.06-.94 2.06-2.06.94zm-11 1L8.5 8.5l.94-2.06 2.06-.94-2.06-.94L8.5 2.5l-.94 2.06-2.06.94zm10 10l.94 2.06.94-2.06 2.06-.94-2.06-.94-.94-2.06-.94 2.06-2.06.94z\"/><path d=\"M17.41 7.96l-1.37-1.37c-.4-.4-.92-.59-1.43-.59-.52 0-1.04.2-1.43.59L10.3 9.45l-7.72 7.72c-.78.78-.78 2.05 0 2.83L4 21.41c.39.39.9.59 1.41.59.51 0 1.02-.2 1.41-.59l7.78-7.78 2.81-2.81c.8-.78.8-2.07 0-2.86zM5.41 20L4 18.59l7.72-7.72 1.47 1.35L5.41 20z\"/>\n",
              "  </svg>\n",
              "      </button>\n",
              "      \n",
              "  <style>\n",
              "    .colab-df-container {\n",
              "      display:flex;\n",
              "      flex-wrap:wrap;\n",
              "      gap: 12px;\n",
              "    }\n",
              "\n",
              "    .colab-df-convert {\n",
              "      background-color: #E8F0FE;\n",
              "      border: none;\n",
              "      border-radius: 50%;\n",
              "      cursor: pointer;\n",
              "      display: none;\n",
              "      fill: #1967D2;\n",
              "      height: 32px;\n",
              "      padding: 0 0 0 0;\n",
              "      width: 32px;\n",
              "    }\n",
              "\n",
              "    .colab-df-convert:hover {\n",
              "      background-color: #E2EBFA;\n",
              "      box-shadow: 0px 1px 2px rgba(60, 64, 67, 0.3), 0px 1px 3px 1px rgba(60, 64, 67, 0.15);\n",
              "      fill: #174EA6;\n",
              "    }\n",
              "\n",
              "    [theme=dark] .colab-df-convert {\n",
              "      background-color: #3B4455;\n",
              "      fill: #D2E3FC;\n",
              "    }\n",
              "\n",
              "    [theme=dark] .colab-df-convert:hover {\n",
              "      background-color: #434B5C;\n",
              "      box-shadow: 0px 1px 3px 1px rgba(0, 0, 0, 0.15);\n",
              "      filter: drop-shadow(0px 1px 2px rgba(0, 0, 0, 0.3));\n",
              "      fill: #FFFFFF;\n",
              "    }\n",
              "  </style>\n",
              "\n",
              "      <script>\n",
              "        const buttonEl =\n",
              "          document.querySelector('#df-3a4745a2-ff32-425c-bf3b-8882304cf3ef button.colab-df-convert');\n",
              "        buttonEl.style.display =\n",
              "          google.colab.kernel.accessAllowed ? 'block' : 'none';\n",
              "\n",
              "        async function convertToInteractive(key) {\n",
              "          const element = document.querySelector('#df-3a4745a2-ff32-425c-bf3b-8882304cf3ef');\n",
              "          const dataTable =\n",
              "            await google.colab.kernel.invokeFunction('convertToInteractive',\n",
              "                                                     [key], {});\n",
              "          if (!dataTable) return;\n",
              "\n",
              "          const docLinkHtml = 'Like what you see? Visit the ' +\n",
              "            '<a target=\"_blank\" href=https://colab.research.google.com/notebooks/data_table.ipynb>data table notebook</a>'\n",
              "            + ' to learn more about interactive tables.';\n",
              "          element.innerHTML = '';\n",
              "          dataTable['output_type'] = 'display_data';\n",
              "          await google.colab.output.renderOutput(dataTable, element);\n",
              "          const docLink = document.createElement('div');\n",
              "          docLink.innerHTML = docLinkHtml;\n",
              "          element.appendChild(docLink);\n",
              "        }\n",
              "      </script>\n",
              "    </div>\n",
              "  </div>\n",
              "  "
            ]
          },
          "metadata": {},
          "execution_count": 40
        }
      ]
    },
    {
      "cell_type": "markdown",
      "source": [
        "##Chapter 5...산업연관효과분석"
      ],
      "metadata": {
        "id": "JYbkwC_VPVv2"
      }
    },
    {
      "cell_type": "code",
      "source": [
        "Tt = Tot.to_numpy()  # 3부문 산업연관표를 numpy로 불러오기\n",
        "Dt = Dom.to_numpy()\n",
        "It = Imp.to_numpy()"
      ],
      "metadata": {
        "id": "pXrwfo8u86pr"
      },
      "execution_count": 98,
      "outputs": []
    },
    {
      "cell_type": "code",
      "source": [
        "Tt_1 = Tt[0:6,1:13].astype(float)\n",
        "Dm_1 = Dt[0:4,1:10].astype(float)\n",
        "Im_1 = It[0:4,1:10].astype(float)\n",
        "print('총거래표 : \\n', Tt_1)    # 총거래표 확인\n",
        "print('국산거래표 : \\n', Dm_1)  # 국산거래표 확인\n",
        "print('수입거래표 : \\n', Im_1)  # 수입거래표 확인"
      ],
      "metadata": {
        "colab": {
          "base_uri": "https://localhost:8080/"
        },
        "id": "q4Q2rSR1QiUI",
        "outputId": "4eeea599-b0b6-4f60-ac26-0009d5fd3ccb"
      },
      "execution_count": 117,
      "outputs": [
        {
          "output_type": "stream",
          "name": "stdout",
          "text": [
            "총거래표 : \n",
            " [[  2.  14.   4.  20.   3.   3.   2.   8.  28.  14.  14.  28.]\n",
            " [  5.  94.  39. 138.  32.  19.  73. 124. 262. 203.  59. 262.]\n",
            " [  2.  28.  58.  88. 106.  47.  15. 168. 256. 244.  12. 256.]\n",
            " [  9. 136. 101. 246. 141.  69.  90. 300. 546. 461.  85. 546.]\n",
            " [  5.  67. 143. 215.   0.   0.   0.   0.   0.   0.   0.   0.]\n",
            " [ 14. 203. 244. 461.   0.   0.   0.   0.   0.   0.   0.   0.]]\n",
            "국산거래표 : \n",
            " [[  1.   7.   1.   9.   1.   2.   2.   5.  14.]\n",
            " [  4.  61.  29.  94.  26.  13.  70. 109. 203.]\n",
            " [  1.  26.  52.  79. 104.  46.  15. 165. 244.]\n",
            " [  6.  94.  82. 182. 131.  61.  87. 279. 461.]]\n",
            "수입거래표 : \n",
            " [[ 1.  7.  3. 11.  2.  1.  0.  3. 14.]\n",
            " [ 1. 33. 10. 44.  6.  6.  3. 15. 59.]\n",
            " [ 1.  2.  6.  9.  2.  1.  0.  3. 12.]\n",
            " [ 3. 42. 19. 64. 10.  8.  3. 21. 85.]]\n"
          ]
        }
      ]
    },
    {
      "cell_type": "code",
      "source": [
        "ct = Tt_1[-1,0:3]  # 산출액\n",
        "ct"
      ],
      "metadata": {
        "colab": {
          "base_uri": "https://localhost:8080/"
        },
        "id": "sLoitK1lQigz",
        "outputId": "7ee1a226-78ce-435c-e8e4-d687d875f7a1"
      },
      "execution_count": 118,
      "outputs": [
        {
          "output_type": "execute_result",
          "data": {
            "text/plain": [
              "array([ 14., 203., 244.])"
            ]
          },
          "metadata": {},
          "execution_count": 118
        }
      ]
    },
    {
      "cell_type": "code",
      "source": [
        "ct_m = np.tile(ct, reps=[3,1]) # 산출액을 3번 행반복\n",
        "ct_m"
      ],
      "metadata": {
        "colab": {
          "base_uri": "https://localhost:8080/"
        },
        "id": "s0wcbJY1Qipl",
        "outputId": "7a0420af-7b52-4e34-8007-3ca86c29266a"
      },
      "execution_count": 119,
      "outputs": [
        {
          "output_type": "execute_result",
          "data": {
            "text/plain": [
              "array([[ 14., 203., 244.],\n",
              "       [ 14., 203., 244.],\n",
              "       [ 14., 203., 244.]])"
            ]
          },
          "metadata": {},
          "execution_count": 119
        }
      ]
    },
    {
      "cell_type": "code",
      "source": [
        "At = Tt_1[0:3,0:3]/ct_m   # 총투입계수\n",
        "Ad = Dm_1[0:3,0:3]/ct_m  # 국산 투입계수\n",
        "\n",
        "print('총투입계수표 : \\n', At)\n",
        "print('국산투입계수표 : \\n', Ad)\n",
        "\n",
        "df_At = pd.DataFrame(At.round(3),columns = ['Agriculture', 'Manufacturing', 'Services'])  #pandas로 내보내기\n",
        "df_Ad = pd.DataFrame(Ad.round(3),columns = ['Agriculture', 'Manufacturing', 'Services'])  #pandas로 내보내기"
      ],
      "metadata": {
        "colab": {
          "base_uri": "https://localhost:8080/"
        },
        "id": "5uLIE7vfQiwM",
        "outputId": "f3b352b5-33ec-46fb-89ef-d7313fd7a541"
      },
      "execution_count": 120,
      "outputs": [
        {
          "output_type": "stream",
          "name": "stdout",
          "text": [
            "총투입계수표 : \n",
            " [[0.14285714 0.06896552 0.01639344]\n",
            " [0.35714286 0.46305419 0.15983607]\n",
            " [0.14285714 0.13793103 0.23770492]]\n",
            "국산투입계수표 : \n",
            " [[0.07142857 0.03448276 0.00409836]\n",
            " [0.28571429 0.30049261 0.11885246]\n",
            " [0.07142857 0.12807882 0.21311475]]\n"
          ]
        }
      ]
    },
    {
      "cell_type": "markdown",
      "source": [
        "##### 생산유발계수(Lf)"
      ],
      "metadata": {
        "id": "V0nnZSeHUPn8"
      }
    },
    {
      "cell_type": "code",
      "source": [
        "Lf = np.linalg.inv(np.identity(3)-Ad)  # 생산유발계수\n",
        "Lf"
      ],
      "metadata": {
        "colab": {
          "base_uri": "https://localhost:8080/"
        },
        "id": "SF7hebVoQi2M",
        "outputId": "f5efcd40-afb8-4186-b312-80f538ff57cc"
      },
      "execution_count": 121,
      "outputs": [
        {
          "output_type": "execute_result",
          "data": {
            "text/plain": [
              "array([[1.09543838, 0.05661073, 0.01425599],\n",
              "       [0.47753427, 1.49491595, 0.22828175],\n",
              "       [0.17716386, 0.2484615 , 1.3092841 ]])"
            ]
          },
          "metadata": {},
          "execution_count": 121
        }
      ]
    },
    {
      "cell_type": "code",
      "source": [
        "df_Lf = pd.DataFrame(Lf.round(3),columns = ['Agriculture', 'Manufacturing', 'Services'])  #pandas로 내보내기"
      ],
      "metadata": {
        "id": "YT9SwuJnQi8T"
      },
      "execution_count": 122,
      "outputs": []
    },
    {
      "cell_type": "markdown",
      "source": [
        "#### 부가가치유발계수(Lv)"
      ],
      "metadata": {
        "id": "DkU6os7vUW-0"
      }
    },
    {
      "cell_type": "code",
      "source": [
        "Va_r = Tt_1[-2,0:3]/ct # 부가가치율\n",
        "Va_r"
      ],
      "metadata": {
        "colab": {
          "base_uri": "https://localhost:8080/"
        },
        "id": "KfbCR-LdQjCF",
        "outputId": "8f6df4b3-ba5f-421b-c926-20e4bf4af9bb"
      },
      "execution_count": 123,
      "outputs": [
        {
          "output_type": "execute_result",
          "data": {
            "text/plain": [
              "array([0.35714286, 0.33004926, 0.58606557])"
            ]
          },
          "metadata": {},
          "execution_count": 123
        }
      ]
    },
    {
      "cell_type": "code",
      "source": [
        "Va_m = np.diag(Va_r)  # 부가가치율 대각행렬\n",
        "Va_m"
      ],
      "metadata": {
        "colab": {
          "base_uri": "https://localhost:8080/"
        },
        "id": "7dkxNSQCQjJF",
        "outputId": "fe07e0ff-9487-43b0-bd22-bac188ce83e5"
      },
      "execution_count": 124,
      "outputs": [
        {
          "output_type": "execute_result",
          "data": {
            "text/plain": [
              "array([[0.35714286, 0.        , 0.        ],\n",
              "       [0.        , 0.33004926, 0.        ],\n",
              "       [0.        , 0.        , 0.58606557]])"
            ]
          },
          "metadata": {},
          "execution_count": 124
        }
      ]
    },
    {
      "cell_type": "code",
      "source": [
        "Lv = Va_m@Lf  #부가가치유발계수\n",
        "Lv"
      ],
      "metadata": {
        "id": "DF_G_Hn09gRy",
        "colab": {
          "base_uri": "https://localhost:8080/"
        },
        "outputId": "08a0efef-99c2-4cbe-eb29-1c8d0e2fcdf6"
      },
      "execution_count": 125,
      "outputs": [
        {
          "output_type": "execute_result",
          "data": {
            "text/plain": [
              "array([[0.39122799, 0.02021812, 0.00509142],\n",
              "       [0.15760983, 0.49339591, 0.07534422],\n",
              "       [0.10382964, 0.14561473, 0.76732634]])"
            ]
          },
          "metadata": {},
          "execution_count": 125
        }
      ]
    },
    {
      "cell_type": "code",
      "source": [
        "df_Lv = pd.DataFrame(Lv.round(3),columns = ['Agriculture', 'Manufacturing', 'Services'])  # pandas로 내보내기"
      ],
      "metadata": {
        "id": "Od3StAXA86sf"
      },
      "execution_count": 126,
      "outputs": []
    },
    {
      "cell_type": "markdown",
      "source": [
        "#### 수입유발계수"
      ],
      "metadata": {
        "id": "G-NYB11hVLEO"
      }
    },
    {
      "cell_type": "code",
      "source": [
        "Ai = Im_1[0:3,0:3]/ct_m\n",
        "\n",
        "print('수입투입계수표 : \\n', Ai)\n",
        "\n",
        "df_Ai = pd.DataFrame(Ai.round(3))  #pandas로 내보내기"
      ],
      "metadata": {
        "id": "IRm-HtOf9KVx",
        "colab": {
          "base_uri": "https://localhost:8080/"
        },
        "outputId": "c9225a29-1a8d-474f-d6f6-24f78dfce8c6"
      },
      "execution_count": 127,
      "outputs": [
        {
          "output_type": "stream",
          "name": "stdout",
          "text": [
            "수입투입계수표 : \n",
            " [[0.07142857 0.03448276 0.01229508]\n",
            " [0.07142857 0.16256158 0.04098361]\n",
            " [0.07142857 0.00985222 0.02459016]]\n"
          ]
        }
      ]
    },
    {
      "cell_type": "code",
      "source": [
        "Li = Ai@Lf  #수입유발계수\n",
        "Li"
      ],
      "metadata": {
        "id": "_8fZBBSX9kld",
        "outputId": "9b023c4e-d0dd-4677-c6b4-4cef930eb209",
        "colab": {
          "base_uri": "https://localhost:8080/"
        }
      },
      "execution_count": 128,
      "outputs": [
        {
          "output_type": "execute_result",
          "data": {
            "text/plain": [
              "array([[0.09689054, 0.0586473 , 0.02498782],\n",
              "       [0.16313514, 0.25724237, 0.09178731],\n",
              "       [0.08730686, 0.02488157, 0.03546288]])"
            ]
          },
          "metadata": {},
          "execution_count": 128
        }
      ]
    },
    {
      "cell_type": "code",
      "source": [
        "df_Li = pd.DataFrame(Li.round(3),columns = ['Agriculture', 'Manufacturing', 'Services'])  #pandas로 내보내기"
      ],
      "metadata": {
        "id": "qxP0BGTe-J6J"
      },
      "execution_count": 129,
      "outputs": []
    },
    {
      "cell_type": "markdown",
      "source": [],
      "metadata": {
        "id": "rDsqvOxBbB5w"
      }
    },
    {
      "cell_type": "code",
      "source": [
        "# CSV파일로 결과 내보내기\n",
        "df_At.to_csv('At_3_secs.csv')\n",
        "df_Ad.to_csv('Ad_3_secs.csv')\n",
        "df_Ai.to_csv('Ai_3_secs.csv')\n",
        "\n",
        "df_Lf.to_csv('Lf_3_secs.csv')\n",
        "df_Lv.to_csv('Lv_3_secs.csv')\n",
        "df_Li.to_csv('Li_3_secs.csv')"
      ],
      "metadata": {
        "id": "Var3WdHW-NdY"
      },
      "execution_count": 133,
      "outputs": []
    },
    {
      "cell_type": "code",
      "source": [
        "print(Dm_1.shape)\n",
        "print(Dm_1.ndim)\n",
        "print(Dm_1.size)\n",
        "print(len(Dm_1))"
      ],
      "metadata": {
        "id": "aZ0NQ51_-OTA",
        "colab": {
          "base_uri": "https://localhost:8080/"
        },
        "outputId": "b7d89c82-5004-4d97-f3f6-2a3d58d13dd6"
      },
      "execution_count": 131,
      "outputs": [
        {
          "output_type": "stream",
          "name": "stdout",
          "text": [
            "(4, 9)\n",
            "2\n",
            "36\n",
            "4\n"
          ]
        }
      ]
    },
    {
      "cell_type": "code",
      "source": [
        "ct = Tt_1[-1,0:33] "
      ],
      "metadata": {
        "id": "vI4pjfvx-WU_"
      },
      "execution_count": 132,
      "outputs": []
    },
    {
      "cell_type": "code",
      "source": [
        "ct"
      ],
      "metadata": {
        "id": "qAhFEVaI-Uqx"
      },
      "execution_count": null,
      "outputs": []
    },
    {
      "cell_type": "code",
      "source": [
        "ct_m = np.tile(ct, reps=[33,1])"
      ],
      "metadata": {
        "id": "0CpkNxOjkUvi"
      },
      "execution_count": null,
      "outputs": []
    },
    {
      "cell_type": "code",
      "source": [
        "ct_m.shape"
      ],
      "metadata": {
        "id": "eHMxgofBlPpV"
      },
      "execution_count": null,
      "outputs": []
    },
    {
      "cell_type": "code",
      "source": [
        "ct_m"
      ],
      "metadata": {
        "id": "bOzJwIE0lAeH"
      },
      "execution_count": null,
      "outputs": []
    },
    {
      "cell_type": "code",
      "source": [
        "Ad = Dm_1[0:33,0:33]/ct_m"
      ],
      "metadata": {
        "id": "eoLlkOg7g1ZL"
      },
      "execution_count": null,
      "outputs": []
    },
    {
      "cell_type": "code",
      "source": [
        "Ad"
      ],
      "metadata": {
        "id": "foZEVnUjg1bs"
      },
      "execution_count": null,
      "outputs": []
    },
    {
      "cell_type": "code",
      "source": [
        "Lf = np.linalg.inv(np.identity(33)-Ad)"
      ],
      "metadata": {
        "id": "YP2WhhqZeB2j"
      },
      "execution_count": null,
      "outputs": []
    },
    {
      "cell_type": "code",
      "source": [
        "df_Lf = pd.DataFrame(Lf)"
      ],
      "metadata": {
        "id": "HtDn6D86AElt"
      },
      "execution_count": null,
      "outputs": []
    },
    {
      "cell_type": "code",
      "source": [
        "df_Lf"
      ],
      "metadata": {
        "id": "fGJOmCT2eCjC"
      },
      "execution_count": null,
      "outputs": []
    },
    {
      "cell_type": "markdown",
      "source": [],
      "metadata": {
        "id": "KiBL7vQRGOT7"
      }
    },
    {
      "cell_type": "markdown",
      "source": [
        "#### 부가가[링크 텍스트](https://)치 유발계수"
      ],
      "metadata": {
        "id": "-aqELyFRGR6B"
      }
    },
    {
      "cell_type": "code",
      "source": [
        "Va_r = Tt_1[-2,0:33]/ct "
      ],
      "metadata": {
        "id": "VyMI-ZrHfUOf"
      },
      "execution_count": null,
      "outputs": []
    },
    {
      "cell_type": "code",
      "source": [
        "Va_r"
      ],
      "metadata": {
        "id": "qYEZrYSXfVK3"
      },
      "execution_count": null,
      "outputs": []
    },
    {
      "cell_type": "code",
      "source": [
        "Va_m = np.diag(Va_r)"
      ],
      "metadata": {
        "id": "4lQ8wtwIfg4H"
      },
      "execution_count": null,
      "outputs": []
    },
    {
      "cell_type": "code",
      "source": [
        "Va_m"
      ],
      "metadata": {
        "id": "gWXarHrAHQpI"
      },
      "execution_count": null,
      "outputs": []
    },
    {
      "cell_type": "code",
      "source": [
        "Lv = Va_m@Lf"
      ],
      "metadata": {
        "id": "AoR1mnu8HSAH"
      },
      "execution_count": null,
      "outputs": []
    },
    {
      "cell_type": "code",
      "source": [
        "df_Lv = pd.DataFrame(Lv)"
      ],
      "metadata": {
        "id": "tLupxKtCH2rP"
      },
      "execution_count": null,
      "outputs": []
    },
    {
      "cell_type": "code",
      "source": [
        "df_Lv.round(6)"
      ],
      "metadata": {
        "id": "AZcKYmw8H6q-"
      },
      "execution_count": null,
      "outputs": []
    },
    {
      "cell_type": "markdown",
      "source": [
        "### 수입유발계수"
      ],
      "metadata": {
        "id": "GRc1qIZQJMBt"
      }
    },
    {
      "cell_type": "code",
      "source": [
        "Ai = Im_1[0:33,0:33]/ct_m"
      ],
      "metadata": {
        "id": "NoAqKDHEH8JO"
      },
      "execution_count": null,
      "outputs": []
    },
    {
      "cell_type": "code",
      "source": [
        "Ai.round(6)"
      ],
      "metadata": {
        "id": "d7U3qJQCJc1k"
      },
      "execution_count": null,
      "outputs": []
    },
    {
      "cell_type": "code",
      "source": [
        "\n",
        "Li = Ai@Lf"
      ],
      "metadata": {
        "id": "KlEpLnQQJc37"
      },
      "execution_count": null,
      "outputs": []
    },
    {
      "cell_type": "code",
      "source": [
        "df_Li = pd.DataFrame(Li)"
      ],
      "metadata": {
        "id": "iT_bjLtFJc6k"
      },
      "execution_count": null,
      "outputs": []
    },
    {
      "cell_type": "code",
      "source": [
        "df_Li.round(6)"
      ],
      "metadata": {
        "id": "b_wuqRdxJ49h"
      },
      "execution_count": null,
      "outputs": []
    },
    {
      "cell_type": "code",
      "source": [
        "f_Lf=pd.DataFrame(Lf)\n",
        "f_Lv=pd.DataFrame(Lv)\n",
        "f_Li=pd.DataFrame(Li)"
      ],
      "metadata": {
        "id": "c6Tn-pc_J8Lc"
      },
      "execution_count": null,
      "outputs": []
    },
    {
      "cell_type": "code",
      "source": [
        "f_Lf.to_csv('Lf')\n",
        "f_Lv.to_csv('Lv')\n",
        "f_Li.to_csv('Li')"
      ],
      "metadata": {
        "id": "AZs3IWtITNAh"
      },
      "execution_count": null,
      "outputs": []
    },
    {
      "cell_type": "code",
      "source": [
        "# f_Lv.to_csv('Lv', index=False)"
      ],
      "metadata": {
        "id": "WZsB3ivqTlEo"
      },
      "execution_count": null,
      "outputs": []
    },
    {
      "cell_type": "markdown",
      "source": [
        "## 부문통합하여 3부문 IO표 만들기"
      ],
      "metadata": {
        "id": "oC0tJFI3t8YK"
      }
    },
    {
      "cell_type": "code",
      "source": [
        "code = np.array([[1,0,0,0,0,0,0,0,0,0,0,0,0,0,0,0,0,0,0,0,0,0,0,0,0,0,0,0,0,0,0,0,0],\n",
        "       [0,1,1,1,1,1,1,1,1,1,1,1,1,1,1,1,0,0,0,0,0,0,0,0,0,0,0,0,0,0,0,0,0],\n",
        "       [0,0,0,0,0,0,0,0,0,0,0,0,0,0,0,0,1,1,1,1,1,1,1,1,1,1,1,1,1,1,1,1,1]])"
      ],
      "metadata": {
        "id": "AyjeeiIkVXcf"
      },
      "execution_count": null,
      "outputs": []
    },
    {
      "cell_type": "code",
      "source": [
        "# from google.colab import drive\n",
        "# drive.mount('/content/drive')"
      ],
      "metadata": {
        "id": "EFxx6cAleXZr"
      },
      "execution_count": null,
      "outputs": []
    },
    {
      "cell_type": "code",
      "source": [
        "code"
      ],
      "metadata": {
        "id": "SgO_tRmNuqHH"
      },
      "execution_count": null,
      "outputs": []
    },
    {
      "cell_type": "code",
      "source": [
        "nae_tot_row = code@Tt_1[0:33,0:33]"
      ],
      "metadata": {
        "id": "CIqyXhr-u1_A"
      },
      "execution_count": null,
      "outputs": []
    },
    {
      "cell_type": "code",
      "source": [
        "nae_tot_row.shape "
      ],
      "metadata": {
        "id": "q1W1-Yc5v7ju"
      },
      "execution_count": null,
      "outputs": []
    },
    {
      "cell_type": "code",
      "source": [
        "nae_tot_col = nae_tot_row@code.T"
      ],
      "metadata": {
        "id": "1qkALwxwv8Fu"
      },
      "execution_count": null,
      "outputs": []
    },
    {
      "cell_type": "code",
      "source": [
        "nae_tot_col"
      ],
      "metadata": {
        "id": "mghk4dpExWHs"
      },
      "execution_count": null,
      "outputs": []
    },
    {
      "cell_type": "code",
      "source": [
        "nae_tot_col.sum()"
      ],
      "metadata": {
        "id": "eMeLseuZxY90"
      },
      "execution_count": null,
      "outputs": []
    },
    {
      "cell_type": "code",
      "source": [
        "va_row = Tt_1[33:40,0:33]@code.T"
      ],
      "metadata": {
        "id": "tmnf5V0BxoxB"
      },
      "execution_count": null,
      "outputs": []
    },
    {
      "cell_type": "code",
      "source": [
        "va_row # 중투합, 피용자보수, 영업잉여, 고정자본소모, 기타생산세, 부가가치계, 산출액(7X3)"
      ],
      "metadata": {
        "id": "OhObEo08jlEM"
      },
      "execution_count": null,
      "outputs": []
    },
    {
      "cell_type": "code",
      "source": [
        "va_row.shape"
      ],
      "metadata": {
        "id": "9ZVzuUQHkE1t"
      },
      "execution_count": null,
      "outputs": []
    },
    {
      "cell_type": "code",
      "source": [
        "# va_col_sm = va_row.sum(axis=1).reshape(7,1)  # 부가가치 및 산출액의 열합"
      ],
      "metadata": {
        "id": "cau4OOL9fJPz"
      },
      "execution_count": null,
      "outputs": []
    },
    {
      "cell_type": "code",
      "source": [
        "# va_col_sm.shape"
      ],
      "metadata": {
        "id": "HIRKE113fql3"
      },
      "execution_count": null,
      "outputs": []
    },
    {
      "cell_type": "code",
      "source": [
        "# va_row = np.concatenate((va_rw, va_col_sm), axis=1)"
      ],
      "metadata": {
        "id": "QMERW7M5e7uA"
      },
      "execution_count": null,
      "outputs": []
    },
    {
      "cell_type": "code",
      "source": [
        "va_row"
      ],
      "metadata": {
        "id": "IbKtYraff-CO"
      },
      "execution_count": null,
      "outputs": []
    },
    {
      "cell_type": "code",
      "source": [
        "fd_cd = np.array([[1,1,0,0,0,0,0,0,0],\n",
        "                  [0,0,1,1,1,1,0,0,0],\n",
        "                  [0,0,0,0,0,0,1,0,0],\n",
        "                  [0,0,0,0,0,0,0,1,0],\n",
        "                  [0,0,0,0,0,0,0,0,1]])"
      ],
      "metadata": {
        "id": "rUrnGELslm8g"
      },
      "execution_count": null,
      "outputs": []
    },
    {
      "cell_type": "code",
      "source": [
        "fd = Tt_1[0:33, 34:45]"
      ],
      "metadata": {
        "id": "hIPkA4wtkanu"
      },
      "execution_count": null,
      "outputs": []
    },
    {
      "cell_type": "code",
      "source": [
        "fd"
      ],
      "metadata": {
        "id": "4dsxEPt6nFAK"
      },
      "execution_count": null,
      "outputs": []
    },
    {
      "cell_type": "code",
      "source": [
        "fd_row=code@fd@fd_cd.T"
      ],
      "metadata": {
        "id": "vaEetnm3nFqa"
      },
      "execution_count": null,
      "outputs": []
    },
    {
      "cell_type": "code",
      "source": [
        "fd_row"
      ],
      "metadata": {
        "id": "H4Hu9zVGnHfa"
      },
      "execution_count": null,
      "outputs": []
    },
    {
      "cell_type": "code",
      "source": [
        "fd_row_sm = np.sum((fd_row), axis=0)"
      ],
      "metadata": {
        "id": "QfDtxF5ZnfLZ"
      },
      "execution_count": null,
      "outputs": []
    },
    {
      "cell_type": "code",
      "source": [
        "fd_sm=fd_row_sm.reshape(1,5)"
      ],
      "metadata": {
        "id": "APnpMNWcoSA2"
      },
      "execution_count": null,
      "outputs": []
    },
    {
      "cell_type": "code",
      "source": [
        "nae_va_ct = np.concatenate((nae_tot_col, va_row))"
      ],
      "metadata": {
        "id": "JL3h4FjloTSd"
      },
      "execution_count": null,
      "outputs": []
    },
    {
      "cell_type": "code",
      "source": [
        "nae_va_ct"
      ],
      "metadata": {
        "id": "ScxVpOo9pGAk"
      },
      "execution_count": null,
      "outputs": []
    },
    {
      "cell_type": "code",
      "source": [
        "nae_va_ct.shape"
      ],
      "metadata": {
        "id": "tFBNYyAeuI0T"
      },
      "execution_count": null,
      "outputs": []
    },
    {
      "cell_type": "code",
      "source": [
        "nae_va_ct_sm = nae_va_ct.sum(axis=1).reshape(10,1)  # 부가가치 및 산출액의 열합"
      ],
      "metadata": {
        "id": "t7klOqMdijsV"
      },
      "execution_count": null,
      "outputs": []
    },
    {
      "cell_type": "code",
      "source": [
        "nnull = np.zeros((6,5))"
      ],
      "metadata": {
        "id": "daWZU86Ip9ki"
      },
      "execution_count": null,
      "outputs": []
    },
    {
      "cell_type": "code",
      "source": [
        "nnull"
      ],
      "metadata": {
        "id": "MBRjWlB1qXjJ"
      },
      "execution_count": null,
      "outputs": []
    },
    {
      "cell_type": "code",
      "source": [
        "fd_nnull = np.concatenate((fd_row, fd_sm, nnull),axis=0)"
      ],
      "metadata": {
        "id": "MqEzVXUrqYKy"
      },
      "execution_count": null,
      "outputs": []
    },
    {
      "cell_type": "code",
      "source": [
        "fd_nnull.shape"
      ],
      "metadata": {
        "id": "XqIw-snEqlU6"
      },
      "execution_count": null,
      "outputs": []
    },
    {
      "cell_type": "code",
      "source": [
        "fd_sm.ndim"
      ],
      "metadata": {
        "id": "NeE4PowMqqYe"
      },
      "execution_count": null,
      "outputs": []
    },
    {
      "cell_type": "code",
      "source": [
        "tot_f = np.concatenate((nae_va_ct,nae_va_ct_sm, fd_nnull), axis=1) "
      ],
      "metadata": {
        "id": "FOY8xWsnqs2e"
      },
      "execution_count": null,
      "outputs": []
    },
    {
      "cell_type": "code",
      "source": [
        "tot_F = pd.DataFrame(tot_f, columns = ['Agriculture', 'Manufacturing', 'Services', 'Total intermediate demand', 'Conumption','Investment', 'Exports', 'Total final demand', 'Total demand'])"
      ],
      "metadata": {
        "id": "hmrzeP5vq4lm"
      },
      "execution_count": null,
      "outputs": []
    },
    {
      "cell_type": "code",
      "source": [
        "tot_F"
      ],
      "metadata": {
        "id": "Gde8BJ3Wuzon"
      },
      "execution_count": null,
      "outputs": []
    },
    {
      "cell_type": "markdown",
      "source": [
        "# 수입거래표 통합하기"
      ],
      "metadata": {
        "id": "1JXfjcDmXoEb"
      }
    },
    {
      "cell_type": "code",
      "source": [
        "nae_imp_row = code@Im_1[0:33,0:33]"
      ],
      "metadata": {
        "id": "SyJEqFARNPIV"
      },
      "execution_count": null,
      "outputs": []
    },
    {
      "cell_type": "code",
      "source": [
        "nae_imp_col = nae_imp_row@code.T"
      ],
      "metadata": {
        "id": "P1TgoDZmNPOu"
      },
      "execution_count": null,
      "outputs": []
    },
    {
      "cell_type": "code",
      "source": [
        "imp_iti = Im_1[-1,0:33]@code.T"
      ],
      "metadata": {
        "id": "RNJkEFwjPAA9"
      },
      "execution_count": null,
      "outputs": []
    },
    {
      "cell_type": "code",
      "source": [
        "imp_sm = imp_iti.reshape(1,3)"
      ],
      "metadata": {
        "id": "mCpc5yaCPAE6"
      },
      "execution_count": null,
      "outputs": []
    },
    {
      "cell_type": "code",
      "source": [
        "fd_imp = Im_1[0:33, 34:45]"
      ],
      "metadata": {
        "id": "wlDNBjI0NPUh"
      },
      "execution_count": null,
      "outputs": []
    },
    {
      "cell_type": "code",
      "source": [
        "fd_imp_row=code@fd_imp@fd_cd.T"
      ],
      "metadata": {
        "id": "eGuRuINJOHez"
      },
      "execution_count": null,
      "outputs": []
    },
    {
      "cell_type": "code",
      "source": [
        "fd_imp_row_sm = np.sum((fd_imp_row), axis=0)"
      ],
      "metadata": {
        "id": "j91pzzlWOajh"
      },
      "execution_count": null,
      "outputs": []
    },
    {
      "cell_type": "code",
      "source": [
        "fd_sm = fd_imp_row_sm.reshape(1,5)"
      ],
      "metadata": {
        "id": "A5O04EovQYw1"
      },
      "execution_count": null,
      "outputs": []
    },
    {
      "cell_type": "code",
      "source": [
        "imp_nae_3 = np.concatenate((nae_imp_col, imp_sm))"
      ],
      "metadata": {
        "id": "dFx0kGvOOo27"
      },
      "execution_count": null,
      "outputs": []
    },
    {
      "cell_type": "code",
      "source": [
        "imp_col_sm = imp_nae_3.sum(axis=1).reshape(4,1)  # 중간수요 열합"
      ],
      "metadata": {
        "id": "le_V2T7RjVN7"
      },
      "execution_count": null,
      "outputs": []
    },
    {
      "cell_type": "code",
      "source": [
        "imp_fd_3 = np.concatenate((fd_imp_row, fd_sm))"
      ],
      "metadata": {
        "id": "KNCplvLFVxdZ"
      },
      "execution_count": null,
      "outputs": []
    },
    {
      "cell_type": "code",
      "source": [
        "imp_f = np.concatenate((imp_nae_3, imp_col_sm, imp_fd_3), axis=1)"
      ],
      "metadata": {
        "id": "WVbIqbM-OvpF"
      },
      "execution_count": null,
      "outputs": []
    },
    {
      "cell_type": "code",
      "source": [
        "imp_F = pd.DataFrame(imp_f, columns = ['Agriculture', 'Manufacturing', 'Services', 'Total intermediate demand', 'Conumption','Investment', 'Exports', 'Total final demand', 'Total demand'])"
      ],
      "metadata": {
        "id": "f-cQb_nWOvsf"
      },
      "execution_count": null,
      "outputs": []
    },
    {
      "cell_type": "code",
      "source": [
        "imp_F"
      ],
      "metadata": {
        "id": "velNVEIfOvyR"
      },
      "execution_count": null,
      "outputs": []
    },
    {
      "cell_type": "markdown",
      "source": [
        "# 국산거래표 통합하기"
      ],
      "metadata": {
        "id": "sY8s7U5fXvDa"
      }
    },
    {
      "cell_type": "code",
      "source": [
        "nae_dom_row = code@Dm_1[0:33,0:33]"
      ],
      "metadata": {
        "id": "YQtt2iA1Ov1n"
      },
      "execution_count": null,
      "outputs": []
    },
    {
      "cell_type": "code",
      "source": [
        "nae_dom_col = nae_dom_row@code.T"
      ],
      "metadata": {
        "id": "NXF6NCIHSRSA"
      },
      "execution_count": null,
      "outputs": []
    },
    {
      "cell_type": "code",
      "source": [
        "dom_iti = Dm_1[-1,0:33]@code.T"
      ],
      "metadata": {
        "id": "6YRLv7naX8yT"
      },
      "execution_count": null,
      "outputs": []
    },
    {
      "cell_type": "code",
      "source": [
        "dom_sm = dom_iti.reshape(1,3)"
      ],
      "metadata": {
        "id": "kg3gwsSIX808"
      },
      "execution_count": null,
      "outputs": []
    },
    {
      "cell_type": "code",
      "source": [
        "fd_dom = Dm_1[0:33, 34:45]"
      ],
      "metadata": {
        "id": "rI73jk5hX83v"
      },
      "execution_count": null,
      "outputs": []
    },
    {
      "cell_type": "code",
      "source": [
        "fd_dom_row=code@fd_dom@fd_cd.T"
      ],
      "metadata": {
        "id": "VCY4IlxrX86B"
      },
      "execution_count": null,
      "outputs": []
    },
    {
      "cell_type": "code",
      "source": [
        "fd_dom_row_sm = np.sum((fd_dom_row), axis=0)"
      ],
      "metadata": {
        "id": "lCgggunqX88o"
      },
      "execution_count": null,
      "outputs": []
    },
    {
      "cell_type": "code",
      "source": [
        "fd_sm = fd_dom_row_sm.reshape(1,5)"
      ],
      "metadata": {
        "id": "5MS2SL39YjwN"
      },
      "execution_count": null,
      "outputs": []
    },
    {
      "cell_type": "code",
      "source": [
        "dom_nae_3 = np.concatenate((nae_dom_col, dom_sm), axis=0)"
      ],
      "metadata": {
        "id": "dnmG40tWYtLM"
      },
      "execution_count": null,
      "outputs": []
    },
    {
      "cell_type": "code",
      "source": [
        "dom_col_sm = dom_nae_3.sum(axis=1).reshape(4,1)  # 중간수요 열합"
      ],
      "metadata": {
        "id": "4SEm_U1Ljuef"
      },
      "execution_count": null,
      "outputs": []
    },
    {
      "cell_type": "code",
      "source": [
        "dom_fd_3 = np.concatenate((fd_dom_row, fd_sm), axis=0)"
      ],
      "metadata": {
        "id": "XvVcvLo7Y_Lp"
      },
      "execution_count": null,
      "outputs": []
    },
    {
      "cell_type": "code",
      "source": [
        "dom_f = np.concatenate((dom_nae_3, dom_col_sm, dom_fd_3), axis=1)"
      ],
      "metadata": {
        "id": "AXgAc4EOZSAa"
      },
      "execution_count": null,
      "outputs": []
    },
    {
      "cell_type": "code",
      "source": [
        "dom_F = pd.DataFrame(dom_f, columns = ['Agriculture', 'Manufacturing', 'Services', 'Total intermediate demand', 'Conumption','Investment', 'Exports', 'Total final demand', 'Total demand'])"
      ],
      "metadata": {
        "id": "7VQkruekZcBP"
      },
      "execution_count": null,
      "outputs": []
    },
    {
      "cell_type": "code",
      "source": [
        "dom_F"
      ],
      "metadata": {
        "id": "BkErpXXyZkcp"
      },
      "execution_count": null,
      "outputs": []
    },
    {
      "cell_type": "markdown",
      "source": [
        "### 3부문 총거래표에서 부가가치총합만 나타내기"
      ],
      "metadata": {
        "id": "3hDLUWEckLdU"
      }
    },
    {
      "cell_type": "code",
      "source": [
        "tot_F_one_va = tot_F.drop(tot_F.index[4:8])"
      ],
      "metadata": {
        "id": "H9pr6U5kkCwb"
      },
      "execution_count": null,
      "outputs": []
    },
    {
      "cell_type": "code",
      "source": [
        "tot_F_one_va"
      ],
      "metadata": {
        "id": "l6sSk5dMlbBv"
      },
      "execution_count": null,
      "outputs": []
    },
    {
      "cell_type": "markdown",
      "source": [
        "## 결과 내보내기"
      ],
      "metadata": {
        "id": "22aT7ZFLdLSv"
      }
    },
    {
      "cell_type": "code",
      "source": [
        "# np.savetxt('Total_3',tot_f, delimiter=',')\n",
        "# np.savetxt('Import_3',imp_f, delimiter=',')\n",
        "# np.savetxt('Domestic_3',dom_f, delimiter=',')"
      ],
      "metadata": {
        "id": "83mELpCng1XO"
      },
      "execution_count": null,
      "outputs": []
    },
    {
      "cell_type": "code",
      "source": [
        "tot_F.to_csv('Total_3')\n",
        "imp_F.to_csv('Import_3')\n",
        "dom_F.to_csv('Domestic_3')\n",
        "tot_F_one_va.to_csv('Total_3_one_va')"
      ],
      "metadata": {
        "id": "Ucqu7T0ZdOlP"
      },
      "execution_count": null,
      "outputs": []
    },
    {
      "cell_type": "code",
      "source": [
        "# imp_F.to_csv('Import_3',index=False)"
      ],
      "metadata": {
        "id": "c_te-OShjkER"
      },
      "execution_count": null,
      "outputs": []
    },
    {
      "cell_type": "code",
      "source": [
        "# dom_F.to_csv('Domestic_3', index=False)"
      ],
      "metadata": {
        "id": "jkPa-0yckir6"
      },
      "execution_count": null,
      "outputs": []
    },
    {
      "cell_type": "markdown",
      "source": [
        "## 3부문 유발계수 산출 하기"
      ],
      "metadata": {
        "id": "cMeHisQ_34jA"
      }
    },
    {
      "cell_type": "code",
      "source": [
        "ct_exm = tot_f[-1, 0:3]"
      ],
      "metadata": {
        "id": "Rzuzf0LZn1In"
      },
      "execution_count": null,
      "outputs": []
    },
    {
      "cell_type": "code",
      "source": [
        "ct_exm"
      ],
      "metadata": {
        "id": "4OVVovJk4n82"
      },
      "execution_count": null,
      "outputs": []
    },
    {
      "cell_type": "code",
      "source": [
        "ct_m_exm = np.tile(ct_exm, reps=[3,1])"
      ],
      "metadata": {
        "id": "67XiRZTH4smD"
      },
      "execution_count": null,
      "outputs": []
    },
    {
      "cell_type": "code",
      "source": [
        "ct_m_exm"
      ],
      "metadata": {
        "id": "DKtsiYjx44n0"
      },
      "execution_count": null,
      "outputs": []
    },
    {
      "cell_type": "code",
      "source": [
        "Ad_exm = dom_f[0:3,0:3]/ct_m_exm"
      ],
      "metadata": {
        "id": "vY_p16Kw46Fb"
      },
      "execution_count": null,
      "outputs": []
    },
    {
      "cell_type": "code",
      "source": [
        "Ad_exm"
      ],
      "metadata": {
        "id": "SOz-_BJb5Gzs"
      },
      "execution_count": null,
      "outputs": []
    },
    {
      "cell_type": "code",
      "source": [
        "Lf_exm = np.linalg.inv(np.identity(3)-Ad_exm)"
      ],
      "metadata": {
        "id": "UotKzFp45IMb"
      },
      "execution_count": null,
      "outputs": []
    },
    {
      "cell_type": "code",
      "source": [
        "Lf_exm"
      ],
      "metadata": {
        "id": "PKwQ2-I65QKL"
      },
      "execution_count": null,
      "outputs": []
    },
    {
      "cell_type": "code",
      "source": [
        "\n",
        "df_Lf_exm = pd.DataFrame(Lf_exm)"
      ],
      "metadata": {
        "id": "3-qNri7L6gEO"
      },
      "execution_count": null,
      "outputs": []
    },
    {
      "cell_type": "code",
      "source": [
        "df_Lf_exm"
      ],
      "metadata": {
        "id": "YSCA7lNw6k2W"
      },
      "execution_count": null,
      "outputs": []
    },
    {
      "cell_type": "code",
      "source": [
        "\n",
        "Va_r_exm = tot_f[-2,0:3]/ct_exm "
      ],
      "metadata": {
        "id": "slIO_c196mdG"
      },
      "execution_count": null,
      "outputs": []
    },
    {
      "cell_type": "code",
      "source": [
        "Va_r_exm"
      ],
      "metadata": {
        "id": "prZuncWc6w6t"
      },
      "execution_count": null,
      "outputs": []
    },
    {
      "cell_type": "code",
      "source": [
        "\n",
        "Va_m_exm = np.diag(Va_r_exm)"
      ],
      "metadata": {
        "id": "0U47qo856zE9"
      },
      "execution_count": null,
      "outputs": []
    },
    {
      "cell_type": "code",
      "source": [
        "Va_m_exm"
      ],
      "metadata": {
        "id": "-8_41hcX68yG"
      },
      "execution_count": null,
      "outputs": []
    },
    {
      "cell_type": "code",
      "source": [
        "Lv_exm = Va_m_exm@Lf_exm"
      ],
      "metadata": {
        "id": "A7oRqAfE7CHl",
        "outputId": "a5891bbd-9be4-4b19-c2b5-8e42147f933d",
        "colab": {
          "base_uri": "https://localhost:8080/",
          "height": 174
        }
      },
      "execution_count": null,
      "outputs": [
        {
          "output_type": "error",
          "ename": "NameError",
          "evalue": "ignored",
          "traceback": [
            "\u001b[0;31m---------------------------------------------------------------------------\u001b[0m",
            "\u001b[0;31mNameError\u001b[0m                                 Traceback (most recent call last)",
            "\u001b[0;32m<ipython-input-49-0fc48c322b0e>\u001b[0m in \u001b[0;36m<cell line: 1>\u001b[0;34m()\u001b[0m\n\u001b[0;32m----> 1\u001b[0;31m \u001b[0mLv_exm\u001b[0m \u001b[0;34m=\u001b[0m \u001b[0mVa_m_exm\u001b[0m\u001b[0;34m@\u001b[0m\u001b[0mLf_exm\u001b[0m\u001b[0;34m\u001b[0m\u001b[0;34m\u001b[0m\u001b[0m\n\u001b[0m",
            "\u001b[0;31mNameError\u001b[0m: name 'Va_m_exm' is not defined"
          ]
        }
      ]
    },
    {
      "cell_type": "code",
      "source": [
        "Lv_exm"
      ],
      "metadata": {
        "id": "ocnNS3Xn7LLN"
      },
      "execution_count": null,
      "outputs": []
    },
    {
      "cell_type": "code",
      "source": [
        "df_Lv_exm = pd.DataFrame(Lv_exm)"
      ],
      "metadata": {
        "id": "l4rgvMwY7Mjb"
      },
      "execution_count": null,
      "outputs": []
    },
    {
      "cell_type": "code",
      "source": [
        "df_Lv_exm"
      ],
      "metadata": {
        "id": "KFmyU6OQ7Ut7"
      },
      "execution_count": null,
      "outputs": []
    },
    {
      "cell_type": "code",
      "source": [
        "Ai_exm = imp_f[0:3,0:3]/ct_m_exm"
      ],
      "metadata": {
        "id": "dm9NdhAB7VuD"
      },
      "execution_count": null,
      "outputs": []
    },
    {
      "cell_type": "code",
      "source": [
        "Ai_exm"
      ],
      "metadata": {
        "id": "N7U5IOkZ7dGl"
      },
      "execution_count": null,
      "outputs": []
    },
    {
      "cell_type": "code",
      "source": [
        "Li_exm = Ai_exm@Lf_exm"
      ],
      "metadata": {
        "id": "2Bvi5sWB7e5U"
      },
      "execution_count": null,
      "outputs": []
    },
    {
      "cell_type": "code",
      "source": [
        "Li_exm"
      ],
      "metadata": {
        "id": "5boGkyqZ7lLM"
      },
      "execution_count": null,
      "outputs": []
    },
    {
      "cell_type": "code",
      "source": [
        "\n",
        "df_Li_exm = pd.DataFrame(Li_exm)"
      ],
      "metadata": {
        "id": "9kuY9odN7mV8"
      },
      "execution_count": null,
      "outputs": []
    },
    {
      "cell_type": "code",
      "source": [
        "df_Li_exm"
      ],
      "metadata": {
        "id": "v_87Fc0R7qp1"
      },
      "execution_count": null,
      "outputs": []
    },
    {
      "cell_type": "code",
      "source": [
        "\n",
        "f_Lf_exm=pd.DataFrame(Lf_exm)\n",
        "f_Lv_exm=pd.DataFrame(Lv_exm)\n",
        "f_Li_exm=pd.DataFrame(Li_exm)\n",
        "     "
      ],
      "metadata": {
        "id": "1u9QBPdT7vEt"
      },
      "execution_count": null,
      "outputs": []
    },
    {
      "cell_type": "code",
      "source": [
        "\n",
        "f_Lf_exm.to_csv('Lf_exm')\n",
        "f_Lv_exm.to_csv('Lv_exm')\n",
        "f_Li_exm.to_csv('Li_exm')"
      ],
      "metadata": {
        "id": "-hZAsWwO73x-"
      },
      "execution_count": null,
      "outputs": []
    },
    {
      "cell_type": "code",
      "source": [],
      "metadata": {
        "id": "Zp425f7g7-KW"
      },
      "execution_count": null,
      "outputs": []
    }
  ]
}