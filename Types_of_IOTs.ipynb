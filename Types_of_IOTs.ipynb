{
  "nbformat": 4,
  "nbformat_minor": 0,
  "metadata": {
    "colab": {
      "provenance": [],
      "mount_file_id": "https://github.com/Tom-Jung/legendary-funicular/blob/main/IO_tables.ipynb",
      "authorship_tag": "ABX9TyO3aGAbieVlaxeIILh+YiaX",
      "include_colab_link": true
    },
    "kernelspec": {
      "name": "python3",
      "display_name": "Python 3"
    },
    "language_info": {
      "name": "python"
    }
  },
  "cells": [
    {
      "cell_type": "markdown",
      "metadata": {
        "id": "view-in-github",
        "colab_type": "text"
      },
      "source": [
        "<a href=\"https://colab.research.google.com/github/Tom-Jung/legendary-funicular/blob/main/Types_of_IOTs.ipynb\" target=\"_parent\"><img src=\"https://colab.research.google.com/assets/colab-badge.svg\" alt=\"Open In Colab\"/></a>"
      ]
    },
    {
      "cell_type": "code",
      "source": [
        "import numpy as np   # Numpy import\n",
        "import pandas as pd  # Pandas import"
      ],
      "metadata": {
        "id": "TR7JvW8CxBFT"
      },
      "execution_count": 717,
      "outputs": []
    },
    {
      "cell_type": "markdown",
      "source": [
        "## 산업연관표의 종류\n"
      ],
      "metadata": {
        "id": "Ja1OCBr1_w2z"
      }
    },
    {
      "cell_type": "markdown",
      "source": [
        "#### Github에 저장되어 있는 연습용 3부문 거래표 불러오기"
      ],
      "metadata": {
        "id": "YtzqobQWrRbM"
      }
    },
    {
      "cell_type": "code",
      "source": [
        "url_total = \"https://raw.githubusercontent.com/Tom-Jung/legendary-funicular/main/Total_3_secs_one_va.csv\"  # 총거래표\n",
        "Tot = pd.read_csv(url_total)"
      ],
      "metadata": {
        "id": "1-cypvlPA0Tu"
      },
      "execution_count": 718,
      "outputs": []
    },
    {
      "cell_type": "code",
      "source": [
        "Tot  # 총거래표 불러오기 확인"
      ],
      "metadata": {
        "colab": {
          "base_uri": "https://localhost:8080/",
          "height": 238
        },
        "id": "rtqZunX0walG",
        "outputId": "67e0b261-9704-4cc9-99c3-0a3c930059f6"
      },
      "execution_count": 719,
      "outputs": [
        {
          "output_type": "execute_result",
          "data": {
            "text/plain": [
              "      부문  농산품  공산품  서비스  중간수요계   소비  투자  수출  최종수요계  총수요계  총산출액  수입  총공급액\n",
              "0    농산품    2   14    4     20    3   3   2      8    28    14  14    28\n",
              "1    공산품    5   94   39    138   32  19  73    124   262   203  59   262\n",
              "2    서비스    2   28   58     88  106  47  15    168   256   244  12   256\n",
              "3  중간투입계    9  136  101    246  141  69  90    300   546   461  85   546\n",
              "4   부가가치    5   67  143    215    0   0   0      0     0     0   0     0\n",
              "5   총투입계   14  203  244    461    0   0   0      0     0     0   0     0"
            ],
            "text/html": [
              "\n",
              "  <div id=\"df-daf09bb0-5afc-420e-8219-c1d7fd85f76c\">\n",
              "    <div class=\"colab-df-container\">\n",
              "      <div>\n",
              "<style scoped>\n",
              "    .dataframe tbody tr th:only-of-type {\n",
              "        vertical-align: middle;\n",
              "    }\n",
              "\n",
              "    .dataframe tbody tr th {\n",
              "        vertical-align: top;\n",
              "    }\n",
              "\n",
              "    .dataframe thead th {\n",
              "        text-align: right;\n",
              "    }\n",
              "</style>\n",
              "<table border=\"1\" class=\"dataframe\">\n",
              "  <thead>\n",
              "    <tr style=\"text-align: right;\">\n",
              "      <th></th>\n",
              "      <th>부문</th>\n",
              "      <th>농산품</th>\n",
              "      <th>공산품</th>\n",
              "      <th>서비스</th>\n",
              "      <th>중간수요계</th>\n",
              "      <th>소비</th>\n",
              "      <th>투자</th>\n",
              "      <th>수출</th>\n",
              "      <th>최종수요계</th>\n",
              "      <th>총수요계</th>\n",
              "      <th>총산출액</th>\n",
              "      <th>수입</th>\n",
              "      <th>총공급액</th>\n",
              "    </tr>\n",
              "  </thead>\n",
              "  <tbody>\n",
              "    <tr>\n",
              "      <th>0</th>\n",
              "      <td>농산품</td>\n",
              "      <td>2</td>\n",
              "      <td>14</td>\n",
              "      <td>4</td>\n",
              "      <td>20</td>\n",
              "      <td>3</td>\n",
              "      <td>3</td>\n",
              "      <td>2</td>\n",
              "      <td>8</td>\n",
              "      <td>28</td>\n",
              "      <td>14</td>\n",
              "      <td>14</td>\n",
              "      <td>28</td>\n",
              "    </tr>\n",
              "    <tr>\n",
              "      <th>1</th>\n",
              "      <td>공산품</td>\n",
              "      <td>5</td>\n",
              "      <td>94</td>\n",
              "      <td>39</td>\n",
              "      <td>138</td>\n",
              "      <td>32</td>\n",
              "      <td>19</td>\n",
              "      <td>73</td>\n",
              "      <td>124</td>\n",
              "      <td>262</td>\n",
              "      <td>203</td>\n",
              "      <td>59</td>\n",
              "      <td>262</td>\n",
              "    </tr>\n",
              "    <tr>\n",
              "      <th>2</th>\n",
              "      <td>서비스</td>\n",
              "      <td>2</td>\n",
              "      <td>28</td>\n",
              "      <td>58</td>\n",
              "      <td>88</td>\n",
              "      <td>106</td>\n",
              "      <td>47</td>\n",
              "      <td>15</td>\n",
              "      <td>168</td>\n",
              "      <td>256</td>\n",
              "      <td>244</td>\n",
              "      <td>12</td>\n",
              "      <td>256</td>\n",
              "    </tr>\n",
              "    <tr>\n",
              "      <th>3</th>\n",
              "      <td>중간투입계</td>\n",
              "      <td>9</td>\n",
              "      <td>136</td>\n",
              "      <td>101</td>\n",
              "      <td>246</td>\n",
              "      <td>141</td>\n",
              "      <td>69</td>\n",
              "      <td>90</td>\n",
              "      <td>300</td>\n",
              "      <td>546</td>\n",
              "      <td>461</td>\n",
              "      <td>85</td>\n",
              "      <td>546</td>\n",
              "    </tr>\n",
              "    <tr>\n",
              "      <th>4</th>\n",
              "      <td>부가가치</td>\n",
              "      <td>5</td>\n",
              "      <td>67</td>\n",
              "      <td>143</td>\n",
              "      <td>215</td>\n",
              "      <td>0</td>\n",
              "      <td>0</td>\n",
              "      <td>0</td>\n",
              "      <td>0</td>\n",
              "      <td>0</td>\n",
              "      <td>0</td>\n",
              "      <td>0</td>\n",
              "      <td>0</td>\n",
              "    </tr>\n",
              "    <tr>\n",
              "      <th>5</th>\n",
              "      <td>총투입계</td>\n",
              "      <td>14</td>\n",
              "      <td>203</td>\n",
              "      <td>244</td>\n",
              "      <td>461</td>\n",
              "      <td>0</td>\n",
              "      <td>0</td>\n",
              "      <td>0</td>\n",
              "      <td>0</td>\n",
              "      <td>0</td>\n",
              "      <td>0</td>\n",
              "      <td>0</td>\n",
              "      <td>0</td>\n",
              "    </tr>\n",
              "  </tbody>\n",
              "</table>\n",
              "</div>\n",
              "      <button class=\"colab-df-convert\" onclick=\"convertToInteractive('df-daf09bb0-5afc-420e-8219-c1d7fd85f76c')\"\n",
              "              title=\"Convert this dataframe to an interactive table.\"\n",
              "              style=\"display:none;\">\n",
              "        \n",
              "  <svg xmlns=\"http://www.w3.org/2000/svg\" height=\"24px\"viewBox=\"0 0 24 24\"\n",
              "       width=\"24px\">\n",
              "    <path d=\"M0 0h24v24H0V0z\" fill=\"none\"/>\n",
              "    <path d=\"M18.56 5.44l.94 2.06.94-2.06 2.06-.94-2.06-.94-.94-2.06-.94 2.06-2.06.94zm-11 1L8.5 8.5l.94-2.06 2.06-.94-2.06-.94L8.5 2.5l-.94 2.06-2.06.94zm10 10l.94 2.06.94-2.06 2.06-.94-2.06-.94-.94-2.06-.94 2.06-2.06.94z\"/><path d=\"M17.41 7.96l-1.37-1.37c-.4-.4-.92-.59-1.43-.59-.52 0-1.04.2-1.43.59L10.3 9.45l-7.72 7.72c-.78.78-.78 2.05 0 2.83L4 21.41c.39.39.9.59 1.41.59.51 0 1.02-.2 1.41-.59l7.78-7.78 2.81-2.81c.8-.78.8-2.07 0-2.86zM5.41 20L4 18.59l7.72-7.72 1.47 1.35L5.41 20z\"/>\n",
              "  </svg>\n",
              "      </button>\n",
              "      \n",
              "  <style>\n",
              "    .colab-df-container {\n",
              "      display:flex;\n",
              "      flex-wrap:wrap;\n",
              "      gap: 12px;\n",
              "    }\n",
              "\n",
              "    .colab-df-convert {\n",
              "      background-color: #E8F0FE;\n",
              "      border: none;\n",
              "      border-radius: 50%;\n",
              "      cursor: pointer;\n",
              "      display: none;\n",
              "      fill: #1967D2;\n",
              "      height: 32px;\n",
              "      padding: 0 0 0 0;\n",
              "      width: 32px;\n",
              "    }\n",
              "\n",
              "    .colab-df-convert:hover {\n",
              "      background-color: #E2EBFA;\n",
              "      box-shadow: 0px 1px 2px rgba(60, 64, 67, 0.3), 0px 1px 3px 1px rgba(60, 64, 67, 0.15);\n",
              "      fill: #174EA6;\n",
              "    }\n",
              "\n",
              "    [theme=dark] .colab-df-convert {\n",
              "      background-color: #3B4455;\n",
              "      fill: #D2E3FC;\n",
              "    }\n",
              "\n",
              "    [theme=dark] .colab-df-convert:hover {\n",
              "      background-color: #434B5C;\n",
              "      box-shadow: 0px 1px 3px 1px rgba(0, 0, 0, 0.15);\n",
              "      filter: drop-shadow(0px 1px 2px rgba(0, 0, 0, 0.3));\n",
              "      fill: #FFFFFF;\n",
              "    }\n",
              "  </style>\n",
              "\n",
              "      <script>\n",
              "        const buttonEl =\n",
              "          document.querySelector('#df-daf09bb0-5afc-420e-8219-c1d7fd85f76c button.colab-df-convert');\n",
              "        buttonEl.style.display =\n",
              "          google.colab.kernel.accessAllowed ? 'block' : 'none';\n",
              "\n",
              "        async function convertToInteractive(key) {\n",
              "          const element = document.querySelector('#df-daf09bb0-5afc-420e-8219-c1d7fd85f76c');\n",
              "          const dataTable =\n",
              "            await google.colab.kernel.invokeFunction('convertToInteractive',\n",
              "                                                     [key], {});\n",
              "          if (!dataTable) return;\n",
              "\n",
              "          const docLinkHtml = 'Like what you see? Visit the ' +\n",
              "            '<a target=\"_blank\" href=https://colab.research.google.com/notebooks/data_table.ipynb>data table notebook</a>'\n",
              "            + ' to learn more about interactive tables.';\n",
              "          element.innerHTML = '';\n",
              "          dataTable['output_type'] = 'display_data';\n",
              "          await google.colab.output.renderOutput(dataTable, element);\n",
              "          const docLink = document.createElement('div');\n",
              "          docLink.innerHTML = docLinkHtml;\n",
              "          element.appendChild(docLink);\n",
              "        }\n",
              "      </script>\n",
              "    </div>\n",
              "  </div>\n",
              "  "
            ]
          },
          "metadata": {},
          "execution_count": 719
        }
      ]
    },
    {
      "cell_type": "code",
      "source": [
        "url_dom = \"https://raw.githubusercontent.com/Tom-Jung/legendary-funicular/main/Domestic_3_secs.csv\"   # 국산거래표\n",
        "Dom = pd.read_csv(url_dom)"
      ],
      "metadata": {
        "id": "FKASTpXRA0Ld"
      },
      "execution_count": 720,
      "outputs": []
    },
    {
      "cell_type": "code",
      "source": [
        "Dom  # 국산거래표 불러오기 확인"
      ],
      "metadata": {
        "id": "Taf8fWrGA0Gu",
        "colab": {
          "base_uri": "https://localhost:8080/",
          "height": 175
        },
        "outputId": "8473c713-6d4e-4bf7-94c6-8d15a682e392"
      },
      "execution_count": 721,
      "outputs": [
        {
          "output_type": "execute_result",
          "data": {
            "text/plain": [
              "      부문  농산품  공산품  서비스  중간수요계   소비  투자  수출  최종수요계  총수요계\n",
              "0    농산품    1    7    1      9    1   2   2      5    14\n",
              "1    공산품    4   61   29     94   26  13  70    109   203\n",
              "2    서비스    1   26   52     79  104  46  15    165   244\n",
              "3  중간투입계    6   94   82    182  131  61  87    279   461"
            ],
            "text/html": [
              "\n",
              "  <div id=\"df-b5bb3729-fbab-48db-aefe-45ffe1a2add7\">\n",
              "    <div class=\"colab-df-container\">\n",
              "      <div>\n",
              "<style scoped>\n",
              "    .dataframe tbody tr th:only-of-type {\n",
              "        vertical-align: middle;\n",
              "    }\n",
              "\n",
              "    .dataframe tbody tr th {\n",
              "        vertical-align: top;\n",
              "    }\n",
              "\n",
              "    .dataframe thead th {\n",
              "        text-align: right;\n",
              "    }\n",
              "</style>\n",
              "<table border=\"1\" class=\"dataframe\">\n",
              "  <thead>\n",
              "    <tr style=\"text-align: right;\">\n",
              "      <th></th>\n",
              "      <th>부문</th>\n",
              "      <th>농산품</th>\n",
              "      <th>공산품</th>\n",
              "      <th>서비스</th>\n",
              "      <th>중간수요계</th>\n",
              "      <th>소비</th>\n",
              "      <th>투자</th>\n",
              "      <th>수출</th>\n",
              "      <th>최종수요계</th>\n",
              "      <th>총수요계</th>\n",
              "    </tr>\n",
              "  </thead>\n",
              "  <tbody>\n",
              "    <tr>\n",
              "      <th>0</th>\n",
              "      <td>농산품</td>\n",
              "      <td>1</td>\n",
              "      <td>7</td>\n",
              "      <td>1</td>\n",
              "      <td>9</td>\n",
              "      <td>1</td>\n",
              "      <td>2</td>\n",
              "      <td>2</td>\n",
              "      <td>5</td>\n",
              "      <td>14</td>\n",
              "    </tr>\n",
              "    <tr>\n",
              "      <th>1</th>\n",
              "      <td>공산품</td>\n",
              "      <td>4</td>\n",
              "      <td>61</td>\n",
              "      <td>29</td>\n",
              "      <td>94</td>\n",
              "      <td>26</td>\n",
              "      <td>13</td>\n",
              "      <td>70</td>\n",
              "      <td>109</td>\n",
              "      <td>203</td>\n",
              "    </tr>\n",
              "    <tr>\n",
              "      <th>2</th>\n",
              "      <td>서비스</td>\n",
              "      <td>1</td>\n",
              "      <td>26</td>\n",
              "      <td>52</td>\n",
              "      <td>79</td>\n",
              "      <td>104</td>\n",
              "      <td>46</td>\n",
              "      <td>15</td>\n",
              "      <td>165</td>\n",
              "      <td>244</td>\n",
              "    </tr>\n",
              "    <tr>\n",
              "      <th>3</th>\n",
              "      <td>중간투입계</td>\n",
              "      <td>6</td>\n",
              "      <td>94</td>\n",
              "      <td>82</td>\n",
              "      <td>182</td>\n",
              "      <td>131</td>\n",
              "      <td>61</td>\n",
              "      <td>87</td>\n",
              "      <td>279</td>\n",
              "      <td>461</td>\n",
              "    </tr>\n",
              "  </tbody>\n",
              "</table>\n",
              "</div>\n",
              "      <button class=\"colab-df-convert\" onclick=\"convertToInteractive('df-b5bb3729-fbab-48db-aefe-45ffe1a2add7')\"\n",
              "              title=\"Convert this dataframe to an interactive table.\"\n",
              "              style=\"display:none;\">\n",
              "        \n",
              "  <svg xmlns=\"http://www.w3.org/2000/svg\" height=\"24px\"viewBox=\"0 0 24 24\"\n",
              "       width=\"24px\">\n",
              "    <path d=\"M0 0h24v24H0V0z\" fill=\"none\"/>\n",
              "    <path d=\"M18.56 5.44l.94 2.06.94-2.06 2.06-.94-2.06-.94-.94-2.06-.94 2.06-2.06.94zm-11 1L8.5 8.5l.94-2.06 2.06-.94-2.06-.94L8.5 2.5l-.94 2.06-2.06.94zm10 10l.94 2.06.94-2.06 2.06-.94-2.06-.94-.94-2.06-.94 2.06-2.06.94z\"/><path d=\"M17.41 7.96l-1.37-1.37c-.4-.4-.92-.59-1.43-.59-.52 0-1.04.2-1.43.59L10.3 9.45l-7.72 7.72c-.78.78-.78 2.05 0 2.83L4 21.41c.39.39.9.59 1.41.59.51 0 1.02-.2 1.41-.59l7.78-7.78 2.81-2.81c.8-.78.8-2.07 0-2.86zM5.41 20L4 18.59l7.72-7.72 1.47 1.35L5.41 20z\"/>\n",
              "  </svg>\n",
              "      </button>\n",
              "      \n",
              "  <style>\n",
              "    .colab-df-container {\n",
              "      display:flex;\n",
              "      flex-wrap:wrap;\n",
              "      gap: 12px;\n",
              "    }\n",
              "\n",
              "    .colab-df-convert {\n",
              "      background-color: #E8F0FE;\n",
              "      border: none;\n",
              "      border-radius: 50%;\n",
              "      cursor: pointer;\n",
              "      display: none;\n",
              "      fill: #1967D2;\n",
              "      height: 32px;\n",
              "      padding: 0 0 0 0;\n",
              "      width: 32px;\n",
              "    }\n",
              "\n",
              "    .colab-df-convert:hover {\n",
              "      background-color: #E2EBFA;\n",
              "      box-shadow: 0px 1px 2px rgba(60, 64, 67, 0.3), 0px 1px 3px 1px rgba(60, 64, 67, 0.15);\n",
              "      fill: #174EA6;\n",
              "    }\n",
              "\n",
              "    [theme=dark] .colab-df-convert {\n",
              "      background-color: #3B4455;\n",
              "      fill: #D2E3FC;\n",
              "    }\n",
              "\n",
              "    [theme=dark] .colab-df-convert:hover {\n",
              "      background-color: #434B5C;\n",
              "      box-shadow: 0px 1px 3px 1px rgba(0, 0, 0, 0.15);\n",
              "      filter: drop-shadow(0px 1px 2px rgba(0, 0, 0, 0.3));\n",
              "      fill: #FFFFFF;\n",
              "    }\n",
              "  </style>\n",
              "\n",
              "      <script>\n",
              "        const buttonEl =\n",
              "          document.querySelector('#df-b5bb3729-fbab-48db-aefe-45ffe1a2add7 button.colab-df-convert');\n",
              "        buttonEl.style.display =\n",
              "          google.colab.kernel.accessAllowed ? 'block' : 'none';\n",
              "\n",
              "        async function convertToInteractive(key) {\n",
              "          const element = document.querySelector('#df-b5bb3729-fbab-48db-aefe-45ffe1a2add7');\n",
              "          const dataTable =\n",
              "            await google.colab.kernel.invokeFunction('convertToInteractive',\n",
              "                                                     [key], {});\n",
              "          if (!dataTable) return;\n",
              "\n",
              "          const docLinkHtml = 'Like what you see? Visit the ' +\n",
              "            '<a target=\"_blank\" href=https://colab.research.google.com/notebooks/data_table.ipynb>data table notebook</a>'\n",
              "            + ' to learn more about interactive tables.';\n",
              "          element.innerHTML = '';\n",
              "          dataTable['output_type'] = 'display_data';\n",
              "          await google.colab.output.renderOutput(dataTable, element);\n",
              "          const docLink = document.createElement('div');\n",
              "          docLink.innerHTML = docLinkHtml;\n",
              "          element.appendChild(docLink);\n",
              "        }\n",
              "      </script>\n",
              "    </div>\n",
              "  </div>\n",
              "  "
            ]
          },
          "metadata": {},
          "execution_count": 721
        }
      ]
    },
    {
      "cell_type": "code",
      "source": [
        "url_imp = \"https://raw.githubusercontent.com/Tom-Jung/legendary-funicular/main/Import_3_secs.csv\"   # 수입거래표\n",
        "Imp = pd.read_csv(url_imp)"
      ],
      "metadata": {
        "id": "0piOpTEytvGw"
      },
      "execution_count": 722,
      "outputs": []
    },
    {
      "cell_type": "code",
      "source": [
        "Imp  # 수입거래표 불러오기 확인"
      ],
      "metadata": {
        "id": "K3VHa2z8tvJv",
        "outputId": "b027908a-2d9e-4ea7-eb70-e4896cff5a86",
        "colab": {
          "base_uri": "https://localhost:8080/",
          "height": 175
        }
      },
      "execution_count": 723,
      "outputs": [
        {
          "output_type": "execute_result",
          "data": {
            "text/plain": [
              "      부문  농산품  공산품  서비스  중간수요계  소비  투자  수출  최종수요계  총수요계\n",
              "0    농산품    1    7    3     11   2   1   0      3    14\n",
              "1    공산품    1   33   10     44   6   6   3     15    59\n",
              "2    서비스    1    2    6      9   2   1   0      3    12\n",
              "3  중간투입계    3   42   19     64  10   8   3     21    85"
            ],
            "text/html": [
              "\n",
              "  <div id=\"df-68695c3a-3057-4c41-8af8-274fc456ab5d\">\n",
              "    <div class=\"colab-df-container\">\n",
              "      <div>\n",
              "<style scoped>\n",
              "    .dataframe tbody tr th:only-of-type {\n",
              "        vertical-align: middle;\n",
              "    }\n",
              "\n",
              "    .dataframe tbody tr th {\n",
              "        vertical-align: top;\n",
              "    }\n",
              "\n",
              "    .dataframe thead th {\n",
              "        text-align: right;\n",
              "    }\n",
              "</style>\n",
              "<table border=\"1\" class=\"dataframe\">\n",
              "  <thead>\n",
              "    <tr style=\"text-align: right;\">\n",
              "      <th></th>\n",
              "      <th>부문</th>\n",
              "      <th>농산품</th>\n",
              "      <th>공산품</th>\n",
              "      <th>서비스</th>\n",
              "      <th>중간수요계</th>\n",
              "      <th>소비</th>\n",
              "      <th>투자</th>\n",
              "      <th>수출</th>\n",
              "      <th>최종수요계</th>\n",
              "      <th>총수요계</th>\n",
              "    </tr>\n",
              "  </thead>\n",
              "  <tbody>\n",
              "    <tr>\n",
              "      <th>0</th>\n",
              "      <td>농산품</td>\n",
              "      <td>1</td>\n",
              "      <td>7</td>\n",
              "      <td>3</td>\n",
              "      <td>11</td>\n",
              "      <td>2</td>\n",
              "      <td>1</td>\n",
              "      <td>0</td>\n",
              "      <td>3</td>\n",
              "      <td>14</td>\n",
              "    </tr>\n",
              "    <tr>\n",
              "      <th>1</th>\n",
              "      <td>공산품</td>\n",
              "      <td>1</td>\n",
              "      <td>33</td>\n",
              "      <td>10</td>\n",
              "      <td>44</td>\n",
              "      <td>6</td>\n",
              "      <td>6</td>\n",
              "      <td>3</td>\n",
              "      <td>15</td>\n",
              "      <td>59</td>\n",
              "    </tr>\n",
              "    <tr>\n",
              "      <th>2</th>\n",
              "      <td>서비스</td>\n",
              "      <td>1</td>\n",
              "      <td>2</td>\n",
              "      <td>6</td>\n",
              "      <td>9</td>\n",
              "      <td>2</td>\n",
              "      <td>1</td>\n",
              "      <td>0</td>\n",
              "      <td>3</td>\n",
              "      <td>12</td>\n",
              "    </tr>\n",
              "    <tr>\n",
              "      <th>3</th>\n",
              "      <td>중간투입계</td>\n",
              "      <td>3</td>\n",
              "      <td>42</td>\n",
              "      <td>19</td>\n",
              "      <td>64</td>\n",
              "      <td>10</td>\n",
              "      <td>8</td>\n",
              "      <td>3</td>\n",
              "      <td>21</td>\n",
              "      <td>85</td>\n",
              "    </tr>\n",
              "  </tbody>\n",
              "</table>\n",
              "</div>\n",
              "      <button class=\"colab-df-convert\" onclick=\"convertToInteractive('df-68695c3a-3057-4c41-8af8-274fc456ab5d')\"\n",
              "              title=\"Convert this dataframe to an interactive table.\"\n",
              "              style=\"display:none;\">\n",
              "        \n",
              "  <svg xmlns=\"http://www.w3.org/2000/svg\" height=\"24px\"viewBox=\"0 0 24 24\"\n",
              "       width=\"24px\">\n",
              "    <path d=\"M0 0h24v24H0V0z\" fill=\"none\"/>\n",
              "    <path d=\"M18.56 5.44l.94 2.06.94-2.06 2.06-.94-2.06-.94-.94-2.06-.94 2.06-2.06.94zm-11 1L8.5 8.5l.94-2.06 2.06-.94-2.06-.94L8.5 2.5l-.94 2.06-2.06.94zm10 10l.94 2.06.94-2.06 2.06-.94-2.06-.94-.94-2.06-.94 2.06-2.06.94z\"/><path d=\"M17.41 7.96l-1.37-1.37c-.4-.4-.92-.59-1.43-.59-.52 0-1.04.2-1.43.59L10.3 9.45l-7.72 7.72c-.78.78-.78 2.05 0 2.83L4 21.41c.39.39.9.59 1.41.59.51 0 1.02-.2 1.41-.59l7.78-7.78 2.81-2.81c.8-.78.8-2.07 0-2.86zM5.41 20L4 18.59l7.72-7.72 1.47 1.35L5.41 20z\"/>\n",
              "  </svg>\n",
              "      </button>\n",
              "      \n",
              "  <style>\n",
              "    .colab-df-container {\n",
              "      display:flex;\n",
              "      flex-wrap:wrap;\n",
              "      gap: 12px;\n",
              "    }\n",
              "\n",
              "    .colab-df-convert {\n",
              "      background-color: #E8F0FE;\n",
              "      border: none;\n",
              "      border-radius: 50%;\n",
              "      cursor: pointer;\n",
              "      display: none;\n",
              "      fill: #1967D2;\n",
              "      height: 32px;\n",
              "      padding: 0 0 0 0;\n",
              "      width: 32px;\n",
              "    }\n",
              "\n",
              "    .colab-df-convert:hover {\n",
              "      background-color: #E2EBFA;\n",
              "      box-shadow: 0px 1px 2px rgba(60, 64, 67, 0.3), 0px 1px 3px 1px rgba(60, 64, 67, 0.15);\n",
              "      fill: #174EA6;\n",
              "    }\n",
              "\n",
              "    [theme=dark] .colab-df-convert {\n",
              "      background-color: #3B4455;\n",
              "      fill: #D2E3FC;\n",
              "    }\n",
              "\n",
              "    [theme=dark] .colab-df-convert:hover {\n",
              "      background-color: #434B5C;\n",
              "      box-shadow: 0px 1px 3px 1px rgba(0, 0, 0, 0.15);\n",
              "      filter: drop-shadow(0px 1px 2px rgba(0, 0, 0, 0.3));\n",
              "      fill: #FFFFFF;\n",
              "    }\n",
              "  </style>\n",
              "\n",
              "      <script>\n",
              "        const buttonEl =\n",
              "          document.querySelector('#df-68695c3a-3057-4c41-8af8-274fc456ab5d button.colab-df-convert');\n",
              "        buttonEl.style.display =\n",
              "          google.colab.kernel.accessAllowed ? 'block' : 'none';\n",
              "\n",
              "        async function convertToInteractive(key) {\n",
              "          const element = document.querySelector('#df-68695c3a-3057-4c41-8af8-274fc456ab5d');\n",
              "          const dataTable =\n",
              "            await google.colab.kernel.invokeFunction('convertToInteractive',\n",
              "                                                     [key], {});\n",
              "          if (!dataTable) return;\n",
              "\n",
              "          const docLinkHtml = 'Like what you see? Visit the ' +\n",
              "            '<a target=\"_blank\" href=https://colab.research.google.com/notebooks/data_table.ipynb>data table notebook</a>'\n",
              "            + ' to learn more about interactive tables.';\n",
              "          element.innerHTML = '';\n",
              "          dataTable['output_type'] = 'display_data';\n",
              "          await google.colab.output.renderOutput(dataTable, element);\n",
              "          const docLink = document.createElement('div');\n",
              "          docLink.innerHTML = docLinkHtml;\n",
              "          element.appendChild(docLink);\n",
              "        }\n",
              "      </script>\n",
              "    </div>\n",
              "  </div>\n",
              "  "
            ]
          },
          "metadata": {},
          "execution_count": 723
        }
      ]
    },
    {
      "cell_type": "markdown",
      "source": [],
      "metadata": {
        "id": "pGaGz_KvGW1M"
      }
    },
    {
      "cell_type": "markdown",
      "source": [
        "#### 산업구조_부가가치 및 산출액 비중 구하기"
      ],
      "metadata": {
        "id": "Jz2c6mWiGW5v"
      }
    },
    {
      "cell_type": "markdown",
      "source": [
        "###### pandas의 DataFrame을 numpy로 불러오기"
      ],
      "metadata": {
        "id": "vi5mrufWHBLq"
      }
    },
    {
      "cell_type": "markdown",
      "source": [
        "### DataFrame을 Numpy로 읽어오고 숫자만으로 행렬을 만들고 차원 등 제대로 읽어 왔는지 체크\n",
        "\n"
      ],
      "metadata": {
        "id": "x-a_G73J-ARG"
      }
    },
    {
      "cell_type": "code",
      "source": [
        "Tt = Tot.to_numpy()  # numpy로 불러오기\n",
        "Dt = Dom.to_numpy()\n",
        "It = Imp.to_numpy()"
      ],
      "metadata": {
        "id": "Hb3EasrIAz9H"
      },
      "execution_count": 724,
      "outputs": []
    },
    {
      "cell_type": "code",
      "source": [
        "Tt"
      ],
      "metadata": {
        "id": "WN6hZ9hGGXEs",
        "outputId": "0668cb1d-141c-48f9-e615-b7400212add8",
        "colab": {
          "base_uri": "https://localhost:8080/"
        }
      },
      "execution_count": 725,
      "outputs": [
        {
          "output_type": "execute_result",
          "data": {
            "text/plain": [
              "array([['농산품', 2, 14, 4, 20, 3, 3, 2, 8, 28, 14, 14, 28],\n",
              "       ['공산품', 5, 94, 39, 138, 32, 19, 73, 124, 262, 203, 59, 262],\n",
              "       ['서비스', 2, 28, 58, 88, 106, 47, 15, 168, 256, 244, 12, 256],\n",
              "       ['중간투입계', 9, 136, 101, 246, 141, 69, 90, 300, 546, 461, 85, 546],\n",
              "       ['부가가치', 5, 67, 143, 215, 0, 0, 0, 0, 0, 0, 0, 0],\n",
              "       ['총투입계', 14, 203, 244, 461, 0, 0, 0, 0, 0, 0, 0, 0]], dtype=object)"
            ]
          },
          "metadata": {},
          "execution_count": 725
        }
      ]
    },
    {
      "cell_type": "code",
      "source": [
        "va = Tt[-2,1:4]  # 산업별 부가가치\n",
        "ct = Tt[-1,1:4]  # 산업별 산출액"
      ],
      "metadata": {
        "id": "GrqwxwU44DMl"
      },
      "execution_count": 726,
      "outputs": []
    },
    {
      "cell_type": "code",
      "source": [
        "va_wgt = (va/va.sum()).reshape([3,1])  # 부가가치 기준 각 산업의 비중\n",
        "ct_wgt = (ct/ct.sum()).reshape([3,1])  # 산출액 기준 각 산업의 비중\n",
        "\n",
        "wgt_mx = np.concatenate((va_wgt, ct_wgt), axis=1)\n",
        "print(wgt_mx)"
      ],
      "metadata": {
        "id": "IGYFJf_fAz6J",
        "colab": {
          "base_uri": "https://localhost:8080/"
        },
        "outputId": "136c4131-957c-456f-efa6-792d95d9ab6f"
      },
      "execution_count": 727,
      "outputs": [
        {
          "output_type": "stream",
          "name": "stdout",
          "text": [
            "[[0.023255813953488372 0.03036876355748373]\n",
            " [0.3116279069767442 0.4403470715835141]\n",
            " [0.6651162790697674 0.5292841648590022]]\n"
          ]
        }
      ]
    },
    {
      "cell_type": "markdown",
      "source": [
        "#### 투입구조"
      ],
      "metadata": {
        "id": "32UjG6dfMUrW"
      }
    },
    {
      "cell_type": "code",
      "source": [
        "Tt_itr = Tt[-3,1:5] # 총거래표의 각 산업별 및 총산업의 중간투입계\n",
        "Dt_itr = Dt[-1,1:5] # 국산거래표의 각 산업별 및 총산업의 중간투입계\n",
        "It_itr = It[-1,1:5] # 수입거래표의 각 산업별 및 총산업의 중간투입계\n",
        "Ct_itr = Tt[-1,1:5] # 각 산업별 및 총산업의 산출액\n",
        "\n",
        "print(Tt_itr)\n",
        "print(Dt_itr)\n",
        "print(It_itr)\n",
        "print(Ct_itr)"
      ],
      "metadata": {
        "colab": {
          "base_uri": "https://localhost:8080/"
        },
        "id": "D77j-HNjIKj9",
        "outputId": "4012d4e7-84b4-4efa-fddd-1003d4afdcfe"
      },
      "execution_count": 728,
      "outputs": [
        {
          "output_type": "stream",
          "name": "stdout",
          "text": [
            "[9 136 101 246]\n",
            "[6 94 82 182]\n",
            "[3 42 19 64]\n",
            "[14 203 244 461]\n"
          ]
        }
      ]
    },
    {
      "cell_type": "code",
      "source": [
        "Tt_itr_ratio = (Tt_itr/Ct_itr).reshape([4,1]) # 총투입계수\n",
        "Dt_itr_ratio = (Dt_itr/Ct_itr).reshape([4,1]) # 국산투입계수\n",
        "It_itr_ratio = (It_itr/Ct_itr).reshape([4,1]) # 수입투입계수\n",
        "\n",
        "itr_ratio = np.concatenate((Tt_itr_ratio, Dt_itr_ratio, It_itr_ratio), axis=1)  # 총, 국산, 수입투입계수\n",
        "itr_ratio"
      ],
      "metadata": {
        "colab": {
          "base_uri": "https://localhost:8080/"
        },
        "id": "Dl7lil2JPogq",
        "outputId": "e28f4ff2-3ee3-4737-c9be-87dcb25c0c14"
      },
      "execution_count": 729,
      "outputs": [
        {
          "output_type": "execute_result",
          "data": {
            "text/plain": [
              "array([[0.6428571428571429, 0.42857142857142855, 0.21428571428571427],\n",
              "       [0.6699507389162561, 0.4630541871921182, 0.20689655172413793],\n",
              "       [0.4139344262295082, 0.3360655737704918, 0.0778688524590164],\n",
              "       [0.5336225596529284, 0.3947939262472885, 0.13882863340563992]],\n",
              "      dtype=object)"
            ]
          },
          "metadata": {},
          "execution_count": 729
        }
      ]
    },
    {
      "cell_type": "code",
      "source": [
        "Dt_dm_itr = (Dt_itr/Tt_itr).reshape([4,1])  # 각 산업별, 총산업의 국산화율\n",
        "Dt_dm_itr"
      ],
      "metadata": {
        "colab": {
          "base_uri": "https://localhost:8080/"
        },
        "id": "0Xi-6MnGPo6v",
        "outputId": "d9f2a7ca-f29b-49ce-cd35-1ad1682256f4"
      },
      "execution_count": 730,
      "outputs": [
        {
          "output_type": "execute_result",
          "data": {
            "text/plain": [
              "array([[0.6666666666666666],\n",
              "       [0.6911764705882353],\n",
              "       [0.8118811881188119],\n",
              "       [0.7398373983739838]], dtype=object)"
            ]
          },
          "metadata": {},
          "execution_count": 730
        }
      ]
    },
    {
      "cell_type": "code",
      "source": [
        "va_ratio = (Tt[-2,1:5]/Tt[-1,1:5]).reshape([4,1])  # 부가가치율 = 부가가치(3산업과 총부가가치)/산출액(3산업과 총산출액)\n",
        "va_ratio"
      ],
      "metadata": {
        "colab": {
          "base_uri": "https://localhost:8080/"
        },
        "id": "UlVNRugMPpQU",
        "outputId": "5ee23180-14f9-4743-8add-9d0565d546b8"
      },
      "execution_count": 731,
      "outputs": [
        {
          "output_type": "execute_result",
          "data": {
            "text/plain": [
              "array([[0.35714285714285715],\n",
              "       [0.33004926108374383],\n",
              "       [0.5860655737704918],\n",
              "       [0.46637744034707157]], dtype=object)"
            ]
          },
          "metadata": {},
          "execution_count": 731
        }
      ]
    },
    {
      "cell_type": "code",
      "source": [
        "#중간투입, 국산화율 및 부가가치율을 열방향으로 부치기\n",
        "input_str = np.concatenate((itr_ratio, Dt_dm_itr, va_ratio), axis=1)\n",
        "input_str"
      ],
      "metadata": {
        "colab": {
          "base_uri": "https://localhost:8080/"
        },
        "id": "lECvmd0wPpnQ",
        "outputId": "5a2b5c85-7069-466d-b28e-604acc00e4df"
      },
      "execution_count": 732,
      "outputs": [
        {
          "output_type": "execute_result",
          "data": {
            "text/plain": [
              "array([[0.6428571428571429, 0.42857142857142855, 0.21428571428571427,\n",
              "        0.6666666666666666, 0.35714285714285715],\n",
              "       [0.6699507389162561, 0.4630541871921182, 0.20689655172413793,\n",
              "        0.6911764705882353, 0.33004926108374383],\n",
              "       [0.4139344262295082, 0.3360655737704918, 0.0778688524590164,\n",
              "        0.8118811881188119, 0.5860655737704918],\n",
              "       [0.5336225596529284, 0.3947939262472885, 0.13882863340563992,\n",
              "        0.7398373983739838, 0.46637744034707157]], dtype=object)"
            ]
          },
          "metadata": {},
          "execution_count": 732
        }
      ]
    },
    {
      "cell_type": "markdown",
      "source": [
        "#### 배분구조"
      ],
      "metadata": {
        "id": "C6KfGPX5g9TI"
      }
    },
    {
      "cell_type": "code",
      "source": [
        "Tot_sup =Tt[0:4,-1]  # 총공급(산출액+수입)\n",
        "Dom_ct =Dt[0:4,-1]  # 산출액\n",
        "Imp_tot=It[0:4,-1]   # 총수입\n",
        "\n",
        "Tt_itd = Tt[0:4,4] # 총거래표의 각 산업별 및 총산업의 중간수요계\n",
        "Dt_itd = Dt[0:4,4] # 국산거래표의 각 산업별 및 총산업의 중간수요계\n",
        "It_itd = It[0:4,4] # 수입거래표의 각 산업별 및 총산업의 중간수요계\n",
        "\n",
        "Tot_dmd = Tt[0:4,-4] # 각 제품별 및 전품목 총수요계\n",
        "Fd =Tt[0:4,-5]\n",
        "Exp = Tt[0:4,-6]  # 각 제품별 및 전품목 수출\n",
        "\n",
        "print(Tot_sup)\n",
        "print(Dom_ct)\n",
        "print(Imp_tot)\n",
        "\n",
        "print(Tt_itd)\n",
        "print(Dt_itd)\n",
        "print(It_itd)\n",
        "\n",
        "print(Tot_dmd)\n",
        "print(Fd)\n",
        "print(Exp)"
      ],
      "metadata": {
        "id": "IWpo8RCb6EsB",
        "colab": {
          "base_uri": "https://localhost:8080/"
        },
        "outputId": "b40e41ef-d1d7-4455-b15a-23e44a0c9669"
      },
      "execution_count": 733,
      "outputs": [
        {
          "output_type": "stream",
          "name": "stdout",
          "text": [
            "[28 262 256 546]\n",
            "[14 203 244 461]\n",
            "[14 59 12 85]\n",
            "[20 138 88 246]\n",
            "[9 94 79 182]\n",
            "[11 44 9 64]\n",
            "[28 262 256 546]\n",
            "[8 124 168 300]\n",
            "[2 73 15 90]\n"
          ]
        }
      ]
    },
    {
      "cell_type": "code",
      "source": [
        "Itd_r = (Tt_itd/Tot_dmd).reshape([4,1]) # 중간수요율 = 중간수요계/총수요\n",
        "ftd_r = (Fd/Tot_dmd).reshape([4,1]) # 최종수요율 = 최종수요계/총수요\n",
        "Exp_r = (Exp/Dom_ct).reshape([4,1]) # 수출률 = 수출/총산출액\n",
        "Imp_r = (Imp_tot/Tot_sup).reshape([4,1])\n",
        "\n",
        "print(Itd_r)\n",
        "print(ftd_r)\n",
        "print(Exp_r)\n",
        "print(Imp_r)"
      ],
      "metadata": {
        "id": "lcVwawkrPi5t",
        "colab": {
          "base_uri": "https://localhost:8080/"
        },
        "outputId": "32ac7d7f-ce8a-4bf3-af67-8d313a006ab5"
      },
      "execution_count": 734,
      "outputs": [
        {
          "output_type": "stream",
          "name": "stdout",
          "text": [
            "[[0.7142857142857143]\n",
            " [0.5267175572519084]\n",
            " [0.34375]\n",
            " [0.45054945054945056]]\n",
            "[[0.2857142857142857]\n",
            " [0.4732824427480916]\n",
            " [0.65625]\n",
            " [0.5494505494505495]]\n",
            "[[0.14285714285714285]\n",
            " [0.35960591133004927]\n",
            " [0.06147540983606557]\n",
            " [0.19522776572668113]]\n",
            "[[0.5]\n",
            " [0.22519083969465647]\n",
            " [0.046875]\n",
            " [0.15567765567765568]]\n"
          ]
        }
      ]
    },
    {
      "cell_type": "code",
      "source": [
        "# 중간수요율, 최종수요율, 수출률 및 수입비율 열방향으로 부치기\n",
        "\n",
        "dst_str = np.concatenate((Itd_r, ftd_r, Exp_r, Imp_r), axis=1)\n",
        "print(dst_str)"
      ],
      "metadata": {
        "id": "goO-V0B5PjRD",
        "colab": {
          "base_uri": "https://localhost:8080/"
        },
        "outputId": "8c85654c-0d4a-4f39-869e-97df1caf5762"
      },
      "execution_count": 735,
      "outputs": [
        {
          "output_type": "stream",
          "name": "stdout",
          "text": [
            "[[0.7142857142857143 0.2857142857142857 0.14285714285714285 0.5]\n",
            " [0.5267175572519084 0.4732824427480916 0.35960591133004927\n",
            "  0.22519083969465647]\n",
            " [0.34375 0.65625 0.06147540983606557 0.046875]\n",
            " [0.45054945054945056 0.5494505494505495 0.19522776572668113\n",
            "  0.15567765567765568]]\n"
          ]
        }
      ]
    },
    {
      "cell_type": "markdown",
      "source": [
        "## 부문통합하여 3부문 IO표 만들기\n",
        "\n",
        "### - 33부문의 IO표를 3부문 IO표로 통합하기\n",
        "\n",
        "##### - 33부문을 크게 농수산품, 공산품 및 서비스로 통합하기 위하여 행렬 곱을 사용\n",
        "##### - 0과 1로 구성된 행렬을 만드는데 각 행은 새로운 표의 부문을 나타내며 각 열은 33부문의 부문을 나타낸다"
      ],
      "metadata": {
        "id": "0D8ZcdAxwoNP"
      }
    },
    {
      "cell_type": "code",
      "source": [
        "code = np.array([[1,0,0,0,0,0,0,0,0,0,0,0,0,0,0,0,0,0,0,0,0,0,0,0,0,0,0,0,0,0,0,0,0],\n",
        "       [0,1,1,1,1,1,1,1,1,1,1,1,1,1,1,1,0,0,0,0,0,0,0,0,0,0,0,0,0,0,0,0,0],\n",
        "       [0,0,0,0,0,0,0,0,0,0,0,0,0,0,0,0,1,1,1,1,1,1,1,1,1,1,1,1,1,1,1,1,1]])\n",
        "code"
      ],
      "metadata": {
        "id": "l7x5rT73PkAm",
        "outputId": "f17ee5d1-fe55-4ff7-e3f5-c100f3d5514c",
        "colab": {
          "base_uri": "https://localhost:8080/"
        }
      },
      "execution_count": 736,
      "outputs": [
        {
          "output_type": "execute_result",
          "data": {
            "text/plain": [
              "array([[1, 0, 0, 0, 0, 0, 0, 0, 0, 0, 0, 0, 0, 0, 0, 0, 0, 0, 0, 0, 0, 0,\n",
              "        0, 0, 0, 0, 0, 0, 0, 0, 0, 0, 0],\n",
              "       [0, 1, 1, 1, 1, 1, 1, 1, 1, 1, 1, 1, 1, 1, 1, 1, 0, 0, 0, 0, 0, 0,\n",
              "        0, 0, 0, 0, 0, 0, 0, 0, 0, 0, 0],\n",
              "       [0, 0, 0, 0, 0, 0, 0, 0, 0, 0, 0, 0, 0, 0, 0, 0, 1, 1, 1, 1, 1, 1,\n",
              "        1, 1, 1, 1, 1, 1, 1, 1, 1, 1, 1]])"
            ]
          },
          "metadata": {},
          "execution_count": 736
        }
      ]
    },
    {
      "cell_type": "code",
      "source": [
        "zzzz = pd.DataFrame(code)\n",
        "zzzz.to_csv('태스트_2.csv')"
      ],
      "metadata": {
        "id": "fH92zoxTHMX8"
      },
      "execution_count": 737,
      "outputs": []
    },
    {
      "cell_type": "code",
      "source": [
        "cdd = \"https://raw.githubusercontent.com/Tom-Jung/legendary-funicular/main/code.csv\"  # 코드매치 파일\n",
        "ccdd = pd.read_csv(cdd)\n",
        "cd_for_itr = ccdd.to_numpy().reshape(33,2)\n",
        "row = cd_for_itr[:,1]\n",
        "col = cd_for_itr[:,0]\n",
        "col"
      ],
      "metadata": {
        "colab": {
          "base_uri": "https://localhost:8080/"
        },
        "id": "oP6nV_p9zmF8",
        "outputId": "f93f9bad-c8d5-46ab-dfca-f27b77ca427e"
      },
      "execution_count": 738,
      "outputs": [
        {
          "output_type": "execute_result",
          "data": {
            "text/plain": [
              "array([ 1,  2,  3,  4,  5,  6,  7,  8,  9, 10, 11, 12, 13, 14, 15, 16, 17,\n",
              "       18, 19, 20, 21, 22, 23, 24, 25, 26, 27, 28, 29, 30, 31, 32, 33])"
            ]
          },
          "metadata": {},
          "execution_count": 738
        }
      ]
    },
    {
      "cell_type": "code",
      "source": [
        "Mtx = np.zeros((3,33))\n",
        "for i, j in zip(row,col):\n",
        "  Mtx[i-1,j-1] = 1\n",
        "print(Mtx)"
      ],
      "metadata": {
        "colab": {
          "base_uri": "https://localhost:8080/"
        },
        "id": "_MHOu9HrCI_V",
        "outputId": "3071cfbe-2dd1-490f-d937-721ee8a68e2e"
      },
      "execution_count": 739,
      "outputs": [
        {
          "output_type": "stream",
          "name": "stdout",
          "text": [
            "[[1. 0. 0. 0. 0. 0. 0. 0. 0. 0. 0. 0. 0. 0. 0. 0. 0. 0. 0. 0. 0. 0. 0. 0.\n",
            "  0. 0. 0. 0. 0. 0. 0. 0. 0.]\n",
            " [0. 1. 1. 1. 1. 1. 1. 1. 1. 1. 1. 1. 1. 1. 1. 1. 0. 0. 0. 0. 0. 0. 0. 0.\n",
            "  0. 0. 0. 0. 0. 0. 0. 0. 0.]\n",
            " [0. 0. 0. 0. 0. 0. 0. 0. 0. 0. 0. 0. 0. 0. 0. 0. 1. 1. 1. 1. 1. 1. 1. 1.\n",
            "  1. 1. 1. 1. 1. 1. 1. 1. 1.]]\n"
          ]
        }
      ]
    },
    {
      "cell_type": "code",
      "source": [
        "test_m = pd.DataFrame(Mtx)\n",
        "test_m\n",
        "test_m.to_csv('태스트1.csv')\n"
      ],
      "metadata": {
        "id": "RqlJHZedzmLS"
      },
      "execution_count": 740,
      "outputs": []
    },
    {
      "cell_type": "code",
      "source": [],
      "metadata": {
        "id": "zAueWMSkzmTn"
      },
      "execution_count": 740,
      "outputs": []
    },
    {
      "cell_type": "code",
      "source": [],
      "metadata": {
        "id": "UnNEEPBvzmYZ"
      },
      "execution_count": 740,
      "outputs": []
    },
    {
      "cell_type": "code",
      "source": [],
      "metadata": {
        "id": "3MwT6_xOzmbm"
      },
      "execution_count": 740,
      "outputs": []
    },
    {
      "cell_type": "code",
      "source": [],
      "metadata": {
        "id": "GnekHReSzmfO"
      },
      "execution_count": 740,
      "outputs": []
    },
    {
      "cell_type": "code",
      "source": [
        "url_Tt_33 = \"https://raw.githubusercontent.com/Tom-Jung/legendary-funicular/main/Total_M_F.csv\"  # 33부문의 총거래표 불러오기\n",
        "Tt_33 = pd.read_csv(url_Tt_33)"
      ],
      "metadata": {
        "id": "2gsn6uHUPkdI"
      },
      "execution_count": 741,
      "outputs": []
    },
    {
      "cell_type": "code",
      "source": [
        "Ttt_33 = Tt_33.to_numpy()\n",
        "Tot_33 = Ttt_33[0:41,1:53].astype(float)"
      ],
      "metadata": {
        "id": "WedAqacOyjgz"
      },
      "execution_count": 742,
      "outputs": []
    },
    {
      "cell_type": "code",
      "source": [
        "nae_tot_row = code@Tot_33[0:33,0:33] # 중간투입(수요)의 행을 3부문으로 만들기\n",
        "nae_tot_row"
      ],
      "metadata": {
        "id": "kAEEg8WmPkvm",
        "outputId": "c127911e-9846-431a-bc7b-49ffe511de66",
        "colab": {
          "base_uri": "https://localhost:8080/"
        }
      },
      "execution_count": 743,
      "outputs": [
        {
          "output_type": "execute_result",
          "data": {
            "text/plain": [
              "array([[2.86200e+03, 5.00000e+00, 3.15260e+04, 6.48000e+02, 8.63000e+02,\n",
              "        6.00000e+00, 9.80000e+02, 7.00000e+00, 1.50000e+01, 1.50000e+01,\n",
              "        1.80000e+01, 6.00000e+00, 1.80000e+01, 1.30000e+01, 3.20000e+01,\n",
              "        4.75000e+02, 5.00000e+00, 7.00000e+00, 4.46000e+02, 1.03000e+02,\n",
              "        2.50000e+01, 8.17300e+03, 3.20000e+01, 4.70000e+01, 9.00000e+00,\n",
              "        1.36000e+02, 1.80000e+01, 2.72000e+02, 9.80000e+01, 1.02700e+03,\n",
              "        1.48000e+02, 7.40000e+01, 2.70000e+01],\n",
              "       [1.57650e+04, 5.68000e+02, 3.11770e+04, 4.32580e+04, 1.73850e+04,\n",
              "        5.78600e+04, 1.15528e+05, 1.50140e+04, 6.44060e+04, 4.41850e+04,\n",
              "        1.35069e+05, 4.71820e+04, 6.31260e+04, 1.53704e+05, 9.30700e+03,\n",
              "        1.71490e+04, 3.50850e+04, 2.47100e+03, 7.87430e+04, 1.58360e+04,\n",
              "        3.26420e+04, 4.20060e+04, 9.51700e+03, 4.04300e+03, 2.37100e+03,\n",
              "        2.21840e+04, 5.20800e+03, 6.53600e+03, 7.90000e+03, 2.63440e+04,\n",
              "        5.25700e+03, 1.46540e+04, 6.43000e+02],\n",
              "       [6.46800e+03, 1.20800e+03, 1.85860e+04, 1.24570e+04, 7.95400e+03,\n",
              "        7.91800e+03, 3.75180e+04, 9.22200e+03, 2.31890e+04, 1.31270e+04,\n",
              "        3.04060e+04, 1.17810e+04, 1.52570e+04, 3.16430e+04, 3.56800e+03,\n",
              "        1.01840e+04, 1.60530e+04, 5.53200e+03, 3.68860e+04, 8.43150e+04,\n",
              "        4.36120e+04, 2.68870e+04, 4.59770e+04, 5.36750e+04, 3.79690e+04,\n",
              "        5.93290e+04, 1.53140e+04, 1.80720e+04, 2.40830e+04, 2.29010e+04,\n",
              "        1.07380e+04, 1.22000e+04, 2.75300e+03]])"
            ]
          },
          "metadata": {},
          "execution_count": 743
        }
      ]
    },
    {
      "cell_type": "code",
      "source": [
        "nae_tot_row.shape  # 행과 열의 개수 확인"
      ],
      "metadata": {
        "id": "xn5tPGW1PlG2",
        "outputId": "2c435b63-9f9d-41de-e368-b800102d9cb6",
        "colab": {
          "base_uri": "https://localhost:8080/"
        }
      },
      "execution_count": 744,
      "outputs": [
        {
          "output_type": "execute_result",
          "data": {
            "text/plain": [
              "(3, 33)"
            ]
          },
          "metadata": {},
          "execution_count": 744
        }
      ]
    },
    {
      "cell_type": "code",
      "source": [
        "nae_tot_col = nae_tot_row@code.T\n",
        "nae_tot_col"
      ],
      "metadata": {
        "id": "3cc2Kx580Rj3",
        "outputId": "ac6cfb54-35e5-46b3-8aa9-a9f0bc089128",
        "colab": {
          "base_uri": "https://localhost:8080/"
        }
      },
      "execution_count": 745,
      "outputs": [
        {
          "output_type": "execute_result",
          "data": {
            "text/plain": [
              "array([[  2862.,  34627.,  10647.],\n",
              "       [ 15765., 814918., 311440.],\n",
              "       [  6468., 234018., 516296.]])"
            ]
          },
          "metadata": {},
          "execution_count": 745
        }
      ]
    },
    {
      "cell_type": "code",
      "source": [
        "ztest_nae_tot_col = nae_tot_row@Mtx.T\n",
        "ztest_nae_tot_col"
      ],
      "metadata": {
        "id": "RJjjBcKEJnft",
        "outputId": "94ad2409-5df4-4173-fd14-0118d9facbb4",
        "colab": {
          "base_uri": "https://localhost:8080/"
        }
      },
      "execution_count": 746,
      "outputs": [
        {
          "output_type": "execute_result",
          "data": {
            "text/plain": [
              "array([[  2862.,  34627.,  10647.],\n",
              "       [ 15765., 814918., 311440.],\n",
              "       [  6468., 234018., 516296.]])"
            ]
          },
          "metadata": {},
          "execution_count": 746
        }
      ]
    },
    {
      "cell_type": "code",
      "source": [
        "nae_tot_col.shape  # 행과 열의 개수 확인"
      ],
      "metadata": {
        "id": "weuK7Yxt0Rt_",
        "outputId": "9a9da36d-553c-4a63-c51e-b3170d2db3a1",
        "colab": {
          "base_uri": "https://localhost:8080/"
        }
      },
      "execution_count": 747,
      "outputs": [
        {
          "output_type": "execute_result",
          "data": {
            "text/plain": [
              "(3, 3)"
            ]
          },
          "metadata": {},
          "execution_count": 747
        }
      ]
    },
    {
      "cell_type": "code",
      "source": [
        "nae_tot_col.sum()"
      ],
      "metadata": {
        "id": "44XALcRD0R3b",
        "outputId": "9787444e-eae7-4b79-86bb-65c61120b61e",
        "colab": {
          "base_uri": "https://localhost:8080/"
        }
      },
      "execution_count": 748,
      "outputs": [
        {
          "output_type": "execute_result",
          "data": {
            "text/plain": [
              "1947041.0"
            ]
          },
          "metadata": {},
          "execution_count": 748
        }
      ]
    },
    {
      "cell_type": "code",
      "source": [
        "va_row = Tot_33[33:40,0:33]@code.T # 중투합, 피용자보수, 영업잉여, 고정자본소모, 기타생산세, 부가가치계, 산출액(7X3)\n",
        "va_row"
      ],
      "metadata": {
        "id": "9r1910Rf0SBQ",
        "outputId": "f817a819-e181-4195-bd8e-4483a6454fbc",
        "colab": {
          "base_uri": "https://localhost:8080/"
        }
      },
      "execution_count": 749,
      "outputs": [
        {
          "output_type": "execute_result",
          "data": {
            "text/plain": [
              "array([[2.509500e+04, 1.083563e+06, 8.383830e+05],\n",
              "       [4.719000e+03, 1.591330e+05, 5.113400e+05],\n",
              "       [2.024900e+04, 1.381430e+05, 2.509920e+05],\n",
              "       [4.346000e+03, 1.033380e+05, 1.710180e+05],\n",
              "       [5.490000e+02, 4.809200e+04, 7.385100e+04],\n",
              "       [2.986300e+04, 4.487060e+05, 1.007201e+06],\n",
              "       [5.495800e+04, 1.532269e+06, 1.845584e+06]])"
            ]
          },
          "metadata": {},
          "execution_count": 749
        }
      ]
    },
    {
      "cell_type": "code",
      "source": [
        "va_row.shape"
      ],
      "metadata": {
        "id": "cDZ1i__I1B6Z",
        "outputId": "bb6eef3d-3c89-4d2e-c931-43f66a5a39e2",
        "colab": {
          "base_uri": "https://localhost:8080/"
        }
      },
      "execution_count": 750,
      "outputs": [
        {
          "output_type": "execute_result",
          "data": {
            "text/plain": [
              "(7, 3)"
            ]
          },
          "metadata": {},
          "execution_count": 750
        }
      ]
    },
    {
      "cell_type": "code",
      "source": [
        "fd_cd = np.array([[1,1,0,0,0,0,0,0,0],   # 최종수요를 통합하기 위한 0과 1로된 행렬\n",
        "                  [0,0,1,1,1,1,0,0,0],\n",
        "                  [0,0,0,0,0,0,1,0,0],\n",
        "                  [0,0,0,0,0,0,0,1,0],\n",
        "                  [0,0,0,0,0,0,0,0,1]])  "
      ],
      "metadata": {
        "id": "7IMx6Eay1CEs"
      },
      "execution_count": 751,
      "outputs": []
    },
    {
      "cell_type": "code",
      "source": [
        "fd = Tot_33[0:33, 34:45]\n",
        "fd"
      ],
      "metadata": {
        "id": "nEQ7KA0y1CQU",
        "outputId": "b9a50c41-5157-4077-b6a4-5187fb139f97",
        "colab": {
          "base_uri": "https://localhost:8080/"
        }
      },
      "execution_count": 752,
      "outputs": [
        {
          "output_type": "execute_result",
          "data": {
            "text/plain": [
              "array([[ 1.51150e+04,  0.00000e+00,  3.83000e+02,  1.50000e+01,\n",
              "         1.08500e+03,  0.00000e+00,  6.15000e+02,  1.72130e+04,\n",
              "         6.53490e+04],\n",
              "       [ 1.20000e+01,  0.00000e+00,  0.00000e+00,  0.00000e+00,\n",
              "        -1.08000e+02,  0.00000e+00,  1.16000e+02,  2.00000e+01,\n",
              "         9.95890e+04],\n",
              "       [ 5.03660e+04,  0.00000e+00,  0.00000e+00,  0.00000e+00,\n",
              "         4.90000e+01,  0.00000e+00,  6.74200e+03,  5.71570e+04,\n",
              "         1.31760e+05],\n",
              "       [ 2.66300e+04,  0.00000e+00,  1.15000e+02,  1.50000e+01,\n",
              "         8.64000e+02,  0.00000e+00,  3.13520e+04,  5.89760e+04,\n",
              "         9.53080e+04],\n",
              "       [ 1.11300e+03,  0.00000e+00,  0.00000e+00,  0.00000e+00,\n",
              "         9.10000e+01,  0.00000e+00,  3.21800e+03,  4.42200e+03,\n",
              "         4.52510e+04],\n",
              "       [ 1.31450e+04,  0.00000e+00,  0.00000e+00,  0.00000e+00,\n",
              "         4.53000e+02,  0.00000e+00,  3.60580e+04,  4.96560e+04,\n",
              "         1.22457e+05],\n",
              "       [ 7.06700e+03,  0.00000e+00,  0.00000e+00,  0.00000e+00,\n",
              "        -5.53000e+02,  0.00000e+00,  7.41820e+04,  8.06960e+04,\n",
              "         2.73533e+05],\n",
              "       [ 2.08000e+02,  0.00000e+00,  0.00000e+00,  0.00000e+00,\n",
              "        -1.70000e+01,  0.00000e+00,  2.58700e+03,  2.77800e+03,\n",
              "         4.16980e+04],\n",
              "       [-4.99000e+02,  0.00000e+00, -2.19200e+03, -5.70000e+01,\n",
              "        -1.52100e+03,  1.80000e+02,  3.53860e+04,  3.12970e+04,\n",
              "         1.46345e+05],\n",
              "       [ 1.16000e+03,  0.00000e+00,  3.39200e+03,  2.16200e+03,\n",
              "         4.02000e+02,  0.00000e+00,  1.06480e+04,  1.77640e+04,\n",
              "         9.69290e+04],\n",
              "       [ 2.19820e+04,  0.00000e+00,  1.88510e+04,  2.55800e+03,\n",
              "         1.54700e+03,  0.00000e+00,  1.55967e+05,  2.00905e+05,\n",
              "         3.28314e+05],\n",
              "       [ 4.66400e+03,  0.00000e+00,  9.63000e+03,  1.81000e+02,\n",
              "         4.72000e+02,  0.00000e+00,  2.64880e+04,  4.14350e+04,\n",
              "         1.01458e+05],\n",
              "       [ 1.25100e+03,  0.00000e+00,  4.66480e+04,  3.70000e+02,\n",
              "         3.30000e+02,  0.00000e+00,  4.28970e+04,  9.14960e+04,\n",
              "         1.45110e+05],\n",
              "       [ 2.76810e+04,  0.00000e+00,  2.45600e+04,  6.29900e+03,\n",
              "         2.68100e+03,  0.00000e+00,  1.16106e+05,  1.77327e+05,\n",
              "         2.56535e+05],\n",
              "       [ 6.25400e+03,  0.00000e+00,  2.49700e+03,  2.42000e+02,\n",
              "         2.77000e+02,  1.19100e+03,  2.56300e+03,  1.30240e+04,\n",
              "         2.40840e+04],\n",
              "       [ 2.40000e+01,  0.00000e+00,  0.00000e+00,  0.00000e+00,\n",
              "         0.00000e+00,  0.00000e+00,  2.49700e+03,  2.52100e+03,\n",
              "         6.32260e+04],\n",
              "       [ 1.58980e+04,  0.00000e+00,  0.00000e+00,  0.00000e+00,\n",
              "         0.00000e+00,  0.00000e+00,  1.04000e+02,  1.60020e+04,\n",
              "         8.31850e+04],\n",
              "       [ 3.05900e+03,  1.04400e+03,  0.00000e+00,  0.00000e+00,\n",
              "         0.00000e+00,  0.00000e+00,  3.43000e+02,  4.44600e+03,\n",
              "         1.72270e+04],\n",
              "       [ 0.00000e+00,  0.00000e+00,  1.48566e+05,  4.26080e+04,\n",
              "        -1.27400e+03,  0.00000e+00,  1.48000e+02,  1.90048e+05,\n",
              "         2.00292e+05],\n",
              "       [ 7.07170e+04,  0.00000e+00,  9.90000e+03,  6.33000e+02,\n",
              "         1.09900e+03,  2.85000e+02,  2.16110e+04,  1.04245e+05,\n",
              "         2.24659e+05],\n",
              "       [ 2.29100e+04,  0.00000e+00,  2.16000e+02,  5.70000e+01,\n",
              "         7.30000e+01,  7.00000e+00,  3.39870e+04,  5.72500e+04,\n",
              "         1.46599e+05],\n",
              "       [ 7.36990e+04,  0.00000e+00,  0.00000e+00,  0.00000e+00,\n",
              "         0.00000e+00,  0.00000e+00,  6.30600e+03,  8.00050e+04,\n",
              "         1.29723e+05],\n",
              "       [ 2.90770e+04,  0.00000e+00,  2.51160e+04,  2.17000e+02,\n",
              "         1.80000e+01,  0.00000e+00,  4.95000e+03,  5.93780e+04,\n",
              "         1.26326e+05],\n",
              "       [ 5.86560e+04,  0.00000e+00,  0.00000e+00,  0.00000e+00,\n",
              "         0.00000e+00,  0.00000e+00,  2.56000e+03,  6.12160e+04,\n",
              "         1.43206e+05],\n",
              "       [ 1.02756e+05,  0.00000e+00,  2.32900e+04,  1.50000e+01,\n",
              "         0.00000e+00,  0.00000e+00,  3.85000e+02,  1.26446e+05,\n",
              "         1.73004e+05],\n",
              "       [ 2.81300e+03,  0.00000e+00,  5.27020e+04,  8.89200e+03,\n",
              "         0.00000e+00,  0.00000e+00,  1.42390e+04,  7.86460e+04,\n",
              "         1.87504e+05],\n",
              "       [ 3.47900e+03,  0.00000e+00,  0.00000e+00,  0.00000e+00,\n",
              "         0.00000e+00,  0.00000e+00,  7.86600e+03,  1.13450e+04,\n",
              "         8.02060e+04],\n",
              "       [ 1.21300e+03,  1.07307e+05,  0.00000e+00,  0.00000e+00,\n",
              "         0.00000e+00,  0.00000e+00,  3.40000e+01,  1.08554e+05,\n",
              "         1.10999e+05],\n",
              "       [ 5.00670e+04,  5.39850e+04,  0.00000e+00,  0.00000e+00,\n",
              "         0.00000e+00,  0.00000e+00,  1.53000e+02,  1.04205e+05,\n",
              "         1.06156e+05],\n",
              "       [ 4.11590e+04,  5.98870e+04,  0.00000e+00,  0.00000e+00,\n",
              "         0.00000e+00,  0.00000e+00,  3.32000e+02,  1.01378e+05,\n",
              "         1.07774e+05],\n",
              "       [ 2.98470e+04,  1.72200e+03,  4.27000e+02,  0.00000e+00,\n",
              "         0.00000e+00,  2.30000e+01,  9.29000e+02,  3.29480e+04,\n",
              "         3.98100e+04],\n",
              "       [ 3.59970e+04,  0.00000e+00,  0.00000e+00,  0.00000e+00,\n",
              "         0.00000e+00,  0.00000e+00,  5.48000e+02,  3.65450e+04,\n",
              "         4.90610e+04],\n",
              "       [-2.85000e+02,  0.00000e+00,  0.00000e+00,  0.00000e+00,\n",
              "         0.00000e+00,  0.00000e+00,  0.00000e+00, -2.85000e+02,\n",
              "         3.42300e+03]])"
            ]
          },
          "metadata": {},
          "execution_count": 752
        }
      ]
    },
    {
      "cell_type": "code",
      "source": [
        "fd_row=code@fd@fd_cd.T"
      ],
      "metadata": {
        "id": "Hu1RCGZN1Qgd"
      },
      "execution_count": 753,
      "outputs": []
    },
    {
      "cell_type": "code",
      "source": [
        "fd_row_sm = np.sum((fd_row), axis=0) # 최종수요의 행합"
      ],
      "metadata": {
        "id": "DoK2fPer1Qq0"
      },
      "execution_count": 754,
      "outputs": []
    },
    {
      "cell_type": "code",
      "source": [
        "fd_sm=fd_row_sm.reshape(1,5)"
      ],
      "metadata": {
        "id": "saQ_vhsr1Q17"
      },
      "execution_count": 755,
      "outputs": []
    },
    {
      "cell_type": "code",
      "source": [
        "nae_va_ct = np.concatenate((nae_tot_col, va_row)) # 중간투입(수요)와 부가가치 및 산출액 합치기\n",
        "nae_va_ct"
      ],
      "metadata": {
        "id": "mpmb9GsJ1CbA",
        "outputId": "9368d8d1-67b2-40ac-cf4e-68283283bf74",
        "colab": {
          "base_uri": "https://localhost:8080/"
        }
      },
      "execution_count": 756,
      "outputs": [
        {
          "output_type": "execute_result",
          "data": {
            "text/plain": [
              "array([[2.862000e+03, 3.462700e+04, 1.064700e+04],\n",
              "       [1.576500e+04, 8.149180e+05, 3.114400e+05],\n",
              "       [6.468000e+03, 2.340180e+05, 5.162960e+05],\n",
              "       [2.509500e+04, 1.083563e+06, 8.383830e+05],\n",
              "       [4.719000e+03, 1.591330e+05, 5.113400e+05],\n",
              "       [2.024900e+04, 1.381430e+05, 2.509920e+05],\n",
              "       [4.346000e+03, 1.033380e+05, 1.710180e+05],\n",
              "       [5.490000e+02, 4.809200e+04, 7.385100e+04],\n",
              "       [2.986300e+04, 4.487060e+05, 1.007201e+06],\n",
              "       [5.495800e+04, 1.532269e+06, 1.845584e+06]])"
            ]
          },
          "metadata": {},
          "execution_count": 756
        }
      ]
    },
    {
      "cell_type": "code",
      "source": [
        "nae_va_ct_sm = nae_va_ct.sum(axis=1).reshape(10,1)  # 부가가치 및 산출액의 열합"
      ],
      "metadata": {
        "id": "wt22KYsp1Ck8"
      },
      "execution_count": 757,
      "outputs": []
    },
    {
      "cell_type": "code",
      "source": [
        "nnull = np.zeros((6,5)) # 0행렬"
      ],
      "metadata": {
        "id": "iYARQC7L11Q2"
      },
      "execution_count": 758,
      "outputs": []
    },
    {
      "cell_type": "code",
      "source": [
        "fd_nnull = np.concatenate((fd_row, fd_sm, nnull),axis=0)  # 최종수요, 최종수요 행합 및 0행렬 합치기"
      ],
      "metadata": {
        "id": "YGFh506e11c0"
      },
      "execution_count": 759,
      "outputs": []
    },
    {
      "cell_type": "code",
      "source": [
        "tot_f = np.concatenate((nae_va_ct,nae_va_ct_sm, fd_nnull), axis=1)  # 최종 3x3 부문통합된 거래표"
      ],
      "metadata": {
        "id": "fTFmXv6b11oz"
      },
      "execution_count": 760,
      "outputs": []
    },
    {
      "cell_type": "code",
      "source": [
        "tot_F = pd.DataFrame(tot_f, columns = ['농산품', '공산품', '서비스', '중간수요계', '소비','투자', '수출', '최종수요계', '총수요계'], \n",
        "                     index=['농산품', '공산품', '서비스', '중간투입계', '피용자보수','영업잉여', '고정자본소모', '생산세(보조금공제)', '부가가치계', '총투입액']) # 변수명 붙여서 pandas로 내보내기"
      ],
      "metadata": {
        "id": "GIzMLMU2111V"
      },
      "execution_count": 761,
      "outputs": []
    },
    {
      "cell_type": "code",
      "source": [
        "tot_F  #최종 3x3 거래표 확인"
      ],
      "metadata": {
        "id": "Hlke2CDs2VA1",
        "outputId": "28e70de3-7c1d-43c3-caa5-d7c73440d923",
        "colab": {
          "base_uri": "https://localhost:8080/",
          "height": 363
        }
      },
      "execution_count": 762,
      "outputs": [
        {
          "output_type": "execute_result",
          "data": {
            "text/plain": [
              "                농산품        공산품        서비스      중간수요계        소비        투자  \\\n",
              "농산품          2862.0    34627.0    10647.0    48136.0   15115.0    1483.0   \n",
              "공산품         15765.0   814918.0   311440.0  1142123.0  161058.0  121609.0   \n",
              "서비스          6468.0   234018.0   516296.0   756782.0  765007.0  312870.0   \n",
              "중간투입계       25095.0  1083563.0   838383.0  1947041.0  941180.0  435962.0   \n",
              "피용자보수        4719.0   159133.0   511340.0   675192.0       0.0       0.0   \n",
              "영업잉여        20249.0   138143.0   250992.0   409384.0       0.0       0.0   \n",
              "고정자본소모       4346.0   103338.0   171018.0   278702.0       0.0       0.0   \n",
              "생산세(보조금공제)    549.0    48092.0    73851.0   122492.0       0.0       0.0   \n",
              "부가가치계       29863.0   448706.0  1007201.0  1485770.0       0.0       0.0   \n",
              "총투입액        54958.0  1532269.0  1845584.0  3432811.0       0.0       0.0   \n",
              "\n",
              "                  수출      최종수요계       총수요계  \n",
              "농산품            615.0    17213.0    65349.0  \n",
              "공산품         546807.0   829474.0  1971597.0  \n",
              "서비스          94495.0  1172372.0  1929154.0  \n",
              "중간투입계       641917.0  2019059.0  3966100.0  \n",
              "피용자보수            0.0        0.0        0.0  \n",
              "영업잉여             0.0        0.0        0.0  \n",
              "고정자본소모           0.0        0.0        0.0  \n",
              "생산세(보조금공제)       0.0        0.0        0.0  \n",
              "부가가치계            0.0        0.0        0.0  \n",
              "총투입액             0.0        0.0        0.0  "
            ],
            "text/html": [
              "\n",
              "  <div id=\"df-6f69026a-a3ca-4e5f-8d28-bdf76fa2816f\">\n",
              "    <div class=\"colab-df-container\">\n",
              "      <div>\n",
              "<style scoped>\n",
              "    .dataframe tbody tr th:only-of-type {\n",
              "        vertical-align: middle;\n",
              "    }\n",
              "\n",
              "    .dataframe tbody tr th {\n",
              "        vertical-align: top;\n",
              "    }\n",
              "\n",
              "    .dataframe thead th {\n",
              "        text-align: right;\n",
              "    }\n",
              "</style>\n",
              "<table border=\"1\" class=\"dataframe\">\n",
              "  <thead>\n",
              "    <tr style=\"text-align: right;\">\n",
              "      <th></th>\n",
              "      <th>농산품</th>\n",
              "      <th>공산품</th>\n",
              "      <th>서비스</th>\n",
              "      <th>중간수요계</th>\n",
              "      <th>소비</th>\n",
              "      <th>투자</th>\n",
              "      <th>수출</th>\n",
              "      <th>최종수요계</th>\n",
              "      <th>총수요계</th>\n",
              "    </tr>\n",
              "  </thead>\n",
              "  <tbody>\n",
              "    <tr>\n",
              "      <th>농산품</th>\n",
              "      <td>2862.0</td>\n",
              "      <td>34627.0</td>\n",
              "      <td>10647.0</td>\n",
              "      <td>48136.0</td>\n",
              "      <td>15115.0</td>\n",
              "      <td>1483.0</td>\n",
              "      <td>615.0</td>\n",
              "      <td>17213.0</td>\n",
              "      <td>65349.0</td>\n",
              "    </tr>\n",
              "    <tr>\n",
              "      <th>공산품</th>\n",
              "      <td>15765.0</td>\n",
              "      <td>814918.0</td>\n",
              "      <td>311440.0</td>\n",
              "      <td>1142123.0</td>\n",
              "      <td>161058.0</td>\n",
              "      <td>121609.0</td>\n",
              "      <td>546807.0</td>\n",
              "      <td>829474.0</td>\n",
              "      <td>1971597.0</td>\n",
              "    </tr>\n",
              "    <tr>\n",
              "      <th>서비스</th>\n",
              "      <td>6468.0</td>\n",
              "      <td>234018.0</td>\n",
              "      <td>516296.0</td>\n",
              "      <td>756782.0</td>\n",
              "      <td>765007.0</td>\n",
              "      <td>312870.0</td>\n",
              "      <td>94495.0</td>\n",
              "      <td>1172372.0</td>\n",
              "      <td>1929154.0</td>\n",
              "    </tr>\n",
              "    <tr>\n",
              "      <th>중간투입계</th>\n",
              "      <td>25095.0</td>\n",
              "      <td>1083563.0</td>\n",
              "      <td>838383.0</td>\n",
              "      <td>1947041.0</td>\n",
              "      <td>941180.0</td>\n",
              "      <td>435962.0</td>\n",
              "      <td>641917.0</td>\n",
              "      <td>2019059.0</td>\n",
              "      <td>3966100.0</td>\n",
              "    </tr>\n",
              "    <tr>\n",
              "      <th>피용자보수</th>\n",
              "      <td>4719.0</td>\n",
              "      <td>159133.0</td>\n",
              "      <td>511340.0</td>\n",
              "      <td>675192.0</td>\n",
              "      <td>0.0</td>\n",
              "      <td>0.0</td>\n",
              "      <td>0.0</td>\n",
              "      <td>0.0</td>\n",
              "      <td>0.0</td>\n",
              "    </tr>\n",
              "    <tr>\n",
              "      <th>영업잉여</th>\n",
              "      <td>20249.0</td>\n",
              "      <td>138143.0</td>\n",
              "      <td>250992.0</td>\n",
              "      <td>409384.0</td>\n",
              "      <td>0.0</td>\n",
              "      <td>0.0</td>\n",
              "      <td>0.0</td>\n",
              "      <td>0.0</td>\n",
              "      <td>0.0</td>\n",
              "    </tr>\n",
              "    <tr>\n",
              "      <th>고정자본소모</th>\n",
              "      <td>4346.0</td>\n",
              "      <td>103338.0</td>\n",
              "      <td>171018.0</td>\n",
              "      <td>278702.0</td>\n",
              "      <td>0.0</td>\n",
              "      <td>0.0</td>\n",
              "      <td>0.0</td>\n",
              "      <td>0.0</td>\n",
              "      <td>0.0</td>\n",
              "    </tr>\n",
              "    <tr>\n",
              "      <th>생산세(보조금공제)</th>\n",
              "      <td>549.0</td>\n",
              "      <td>48092.0</td>\n",
              "      <td>73851.0</td>\n",
              "      <td>122492.0</td>\n",
              "      <td>0.0</td>\n",
              "      <td>0.0</td>\n",
              "      <td>0.0</td>\n",
              "      <td>0.0</td>\n",
              "      <td>0.0</td>\n",
              "    </tr>\n",
              "    <tr>\n",
              "      <th>부가가치계</th>\n",
              "      <td>29863.0</td>\n",
              "      <td>448706.0</td>\n",
              "      <td>1007201.0</td>\n",
              "      <td>1485770.0</td>\n",
              "      <td>0.0</td>\n",
              "      <td>0.0</td>\n",
              "      <td>0.0</td>\n",
              "      <td>0.0</td>\n",
              "      <td>0.0</td>\n",
              "    </tr>\n",
              "    <tr>\n",
              "      <th>총투입액</th>\n",
              "      <td>54958.0</td>\n",
              "      <td>1532269.0</td>\n",
              "      <td>1845584.0</td>\n",
              "      <td>3432811.0</td>\n",
              "      <td>0.0</td>\n",
              "      <td>0.0</td>\n",
              "      <td>0.0</td>\n",
              "      <td>0.0</td>\n",
              "      <td>0.0</td>\n",
              "    </tr>\n",
              "  </tbody>\n",
              "</table>\n",
              "</div>\n",
              "      <button class=\"colab-df-convert\" onclick=\"convertToInteractive('df-6f69026a-a3ca-4e5f-8d28-bdf76fa2816f')\"\n",
              "              title=\"Convert this dataframe to an interactive table.\"\n",
              "              style=\"display:none;\">\n",
              "        \n",
              "  <svg xmlns=\"http://www.w3.org/2000/svg\" height=\"24px\"viewBox=\"0 0 24 24\"\n",
              "       width=\"24px\">\n",
              "    <path d=\"M0 0h24v24H0V0z\" fill=\"none\"/>\n",
              "    <path d=\"M18.56 5.44l.94 2.06.94-2.06 2.06-.94-2.06-.94-.94-2.06-.94 2.06-2.06.94zm-11 1L8.5 8.5l.94-2.06 2.06-.94-2.06-.94L8.5 2.5l-.94 2.06-2.06.94zm10 10l.94 2.06.94-2.06 2.06-.94-2.06-.94-.94-2.06-.94 2.06-2.06.94z\"/><path d=\"M17.41 7.96l-1.37-1.37c-.4-.4-.92-.59-1.43-.59-.52 0-1.04.2-1.43.59L10.3 9.45l-7.72 7.72c-.78.78-.78 2.05 0 2.83L4 21.41c.39.39.9.59 1.41.59.51 0 1.02-.2 1.41-.59l7.78-7.78 2.81-2.81c.8-.78.8-2.07 0-2.86zM5.41 20L4 18.59l7.72-7.72 1.47 1.35L5.41 20z\"/>\n",
              "  </svg>\n",
              "      </button>\n",
              "      \n",
              "  <style>\n",
              "    .colab-df-container {\n",
              "      display:flex;\n",
              "      flex-wrap:wrap;\n",
              "      gap: 12px;\n",
              "    }\n",
              "\n",
              "    .colab-df-convert {\n",
              "      background-color: #E8F0FE;\n",
              "      border: none;\n",
              "      border-radius: 50%;\n",
              "      cursor: pointer;\n",
              "      display: none;\n",
              "      fill: #1967D2;\n",
              "      height: 32px;\n",
              "      padding: 0 0 0 0;\n",
              "      width: 32px;\n",
              "    }\n",
              "\n",
              "    .colab-df-convert:hover {\n",
              "      background-color: #E2EBFA;\n",
              "      box-shadow: 0px 1px 2px rgba(60, 64, 67, 0.3), 0px 1px 3px 1px rgba(60, 64, 67, 0.15);\n",
              "      fill: #174EA6;\n",
              "    }\n",
              "\n",
              "    [theme=dark] .colab-df-convert {\n",
              "      background-color: #3B4455;\n",
              "      fill: #D2E3FC;\n",
              "    }\n",
              "\n",
              "    [theme=dark] .colab-df-convert:hover {\n",
              "      background-color: #434B5C;\n",
              "      box-shadow: 0px 1px 3px 1px rgba(0, 0, 0, 0.15);\n",
              "      filter: drop-shadow(0px 1px 2px rgba(0, 0, 0, 0.3));\n",
              "      fill: #FFFFFF;\n",
              "    }\n",
              "  </style>\n",
              "\n",
              "      <script>\n",
              "        const buttonEl =\n",
              "          document.querySelector('#df-6f69026a-a3ca-4e5f-8d28-bdf76fa2816f button.colab-df-convert');\n",
              "        buttonEl.style.display =\n",
              "          google.colab.kernel.accessAllowed ? 'block' : 'none';\n",
              "\n",
              "        async function convertToInteractive(key) {\n",
              "          const element = document.querySelector('#df-6f69026a-a3ca-4e5f-8d28-bdf76fa2816f');\n",
              "          const dataTable =\n",
              "            await google.colab.kernel.invokeFunction('convertToInteractive',\n",
              "                                                     [key], {});\n",
              "          if (!dataTable) return;\n",
              "\n",
              "          const docLinkHtml = 'Like what you see? Visit the ' +\n",
              "            '<a target=\"_blank\" href=https://colab.research.google.com/notebooks/data_table.ipynb>data table notebook</a>'\n",
              "            + ' to learn more about interactive tables.';\n",
              "          element.innerHTML = '';\n",
              "          dataTable['output_type'] = 'display_data';\n",
              "          await google.colab.output.renderOutput(dataTable, element);\n",
              "          const docLink = document.createElement('div');\n",
              "          docLink.innerHTML = docLinkHtml;\n",
              "          element.appendChild(docLink);\n",
              "        }\n",
              "      </script>\n",
              "    </div>\n",
              "  </div>\n",
              "  "
            ]
          },
          "metadata": {},
          "execution_count": 762
        }
      ]
    },
    {
      "cell_type": "markdown",
      "source": [
        "##Chapter 5...산업연관효과분석"
      ],
      "metadata": {
        "id": "JYbkwC_VPVv2"
      }
    },
    {
      "cell_type": "code",
      "source": [
        "Tt = Tot.to_numpy()  # 3부문 산업연관표를 numpy로 불러오기\n",
        "Dt = Dom.to_numpy()\n",
        "It = Imp.to_numpy()"
      ],
      "metadata": {
        "id": "pXrwfo8u86pr"
      },
      "execution_count": 763,
      "outputs": []
    },
    {
      "cell_type": "code",
      "source": [
        "Tt"
      ],
      "metadata": {
        "id": "sgvgFSqKGFjk",
        "outputId": "2edaaff7-d86b-42e4-f226-d51df0767d81",
        "colab": {
          "base_uri": "https://localhost:8080/"
        }
      },
      "execution_count": 764,
      "outputs": [
        {
          "output_type": "execute_result",
          "data": {
            "text/plain": [
              "array([['농산품', 2, 14, 4, 20, 3, 3, 2, 8, 28, 14, 14, 28],\n",
              "       ['공산품', 5, 94, 39, 138, 32, 19, 73, 124, 262, 203, 59, 262],\n",
              "       ['서비스', 2, 28, 58, 88, 106, 47, 15, 168, 256, 244, 12, 256],\n",
              "       ['중간투입계', 9, 136, 101, 246, 141, 69, 90, 300, 546, 461, 85, 546],\n",
              "       ['부가가치', 5, 67, 143, 215, 0, 0, 0, 0, 0, 0, 0, 0],\n",
              "       ['총투입계', 14, 203, 244, 461, 0, 0, 0, 0, 0, 0, 0, 0]], dtype=object)"
            ]
          },
          "metadata": {},
          "execution_count": 764
        }
      ]
    },
    {
      "cell_type": "code",
      "source": [
        "Tt_1 = Tt[0:6,1:13].astype(float)\n",
        "Dm_1 = Dt[0:4,1:10].astype(float)\n",
        "Im_1 = It[0:4,1:10].astype(float)\n",
        "print('총거래표 : \\n', Tt_1)    # 총거래표 확인\n",
        "print('국산거래표 : \\n', Dm_1)  # 국산거래표 확인\n",
        "print('수입거래표 : \\n', Im_1)  # 수입거래표 확인"
      ],
      "metadata": {
        "colab": {
          "base_uri": "https://localhost:8080/"
        },
        "id": "q4Q2rSR1QiUI",
        "outputId": "91f49a5e-3afc-48c6-eaa9-a0a2b4019bc3"
      },
      "execution_count": 765,
      "outputs": [
        {
          "output_type": "stream",
          "name": "stdout",
          "text": [
            "총거래표 : \n",
            " [[  2.  14.   4.  20.   3.   3.   2.   8.  28.  14.  14.  28.]\n",
            " [  5.  94.  39. 138.  32.  19.  73. 124. 262. 203.  59. 262.]\n",
            " [  2.  28.  58.  88. 106.  47.  15. 168. 256. 244.  12. 256.]\n",
            " [  9. 136. 101. 246. 141.  69.  90. 300. 546. 461.  85. 546.]\n",
            " [  5.  67. 143. 215.   0.   0.   0.   0.   0.   0.   0.   0.]\n",
            " [ 14. 203. 244. 461.   0.   0.   0.   0.   0.   0.   0.   0.]]\n",
            "국산거래표 : \n",
            " [[  1.   7.   1.   9.   1.   2.   2.   5.  14.]\n",
            " [  4.  61.  29.  94.  26.  13.  70. 109. 203.]\n",
            " [  1.  26.  52.  79. 104.  46.  15. 165. 244.]\n",
            " [  6.  94.  82. 182. 131.  61.  87. 279. 461.]]\n",
            "수입거래표 : \n",
            " [[ 1.  7.  3. 11.  2.  1.  0.  3. 14.]\n",
            " [ 1. 33. 10. 44.  6.  6.  3. 15. 59.]\n",
            " [ 1.  2.  6.  9.  2.  1.  0.  3. 12.]\n",
            " [ 3. 42. 19. 64. 10.  8.  3. 21. 85.]]\n"
          ]
        }
      ]
    },
    {
      "cell_type": "code",
      "source": [
        "ct = Tt_1[-1,0:3]  # 산출액\n",
        "ct"
      ],
      "metadata": {
        "colab": {
          "base_uri": "https://localhost:8080/"
        },
        "id": "sLoitK1lQigz",
        "outputId": "3ac9ff44-09dd-485b-9c8b-3665e837cbb1"
      },
      "execution_count": 766,
      "outputs": [
        {
          "output_type": "execute_result",
          "data": {
            "text/plain": [
              "array([ 14., 203., 244.])"
            ]
          },
          "metadata": {},
          "execution_count": 766
        }
      ]
    },
    {
      "cell_type": "code",
      "source": [
        "ct_m = np.tile(ct, reps=[3,1]) # 산출액을 3번 행반복\n",
        "ct_m"
      ],
      "metadata": {
        "colab": {
          "base_uri": "https://localhost:8080/"
        },
        "id": "s0wcbJY1Qipl",
        "outputId": "a313f15a-610d-4a19-e20f-36ec21a786d2"
      },
      "execution_count": 767,
      "outputs": [
        {
          "output_type": "execute_result",
          "data": {
            "text/plain": [
              "array([[ 14., 203., 244.],\n",
              "       [ 14., 203., 244.],\n",
              "       [ 14., 203., 244.]])"
            ]
          },
          "metadata": {},
          "execution_count": 767
        }
      ]
    },
    {
      "cell_type": "code",
      "source": [
        "At = Tt_1[0:3,0:3]/ct_m   # 총투입계수\n",
        "Ad = Dm_1[0:3,0:3]/ct_m  # 국산 투입계수\n",
        "\n",
        "print('총투입계수표 : \\n', At)\n",
        "print('국산투입계수표 : \\n', Ad)\n",
        "\n",
        "df_At = pd.DataFrame(At.round(3),columns = ['농산품', '공산품', '서비스'], index=['농산품', '공산품', '서비스'])  #pandas로 내보내기\n",
        "df_Ad = pd.DataFrame(Ad.round(3),columns = ['농산품', '공산품', '서비스'], index=['농산품', '공산품', '서비스'])  #pandas로 내보내기"
      ],
      "metadata": {
        "colab": {
          "base_uri": "https://localhost:8080/"
        },
        "id": "5uLIE7vfQiwM",
        "outputId": "3c656261-fce9-418a-8c0b-e365ae28e107"
      },
      "execution_count": 768,
      "outputs": [
        {
          "output_type": "stream",
          "name": "stdout",
          "text": [
            "총투입계수표 : \n",
            " [[0.14285714 0.06896552 0.01639344]\n",
            " [0.35714286 0.46305419 0.15983607]\n",
            " [0.14285714 0.13793103 0.23770492]]\n",
            "국산투입계수표 : \n",
            " [[0.07142857 0.03448276 0.00409836]\n",
            " [0.28571429 0.30049261 0.11885246]\n",
            " [0.07142857 0.12807882 0.21311475]]\n"
          ]
        }
      ]
    },
    {
      "cell_type": "markdown",
      "source": [
        "##### 생산유발계수(Lf)"
      ],
      "metadata": {
        "id": "V0nnZSeHUPn8"
      }
    },
    {
      "cell_type": "code",
      "source": [
        "Lf = np.linalg.inv(np.identity(3)-Ad)  # 생산유발계수\n",
        "Lf"
      ],
      "metadata": {
        "colab": {
          "base_uri": "https://localhost:8080/"
        },
        "id": "SF7hebVoQi2M",
        "outputId": "28922d8b-ceb7-4205-e8a8-df2e62f10609"
      },
      "execution_count": 769,
      "outputs": [
        {
          "output_type": "execute_result",
          "data": {
            "text/plain": [
              "array([[1.09543838, 0.05661073, 0.01425599],\n",
              "       [0.47753427, 1.49491595, 0.22828175],\n",
              "       [0.17716386, 0.2484615 , 1.3092841 ]])"
            ]
          },
          "metadata": {},
          "execution_count": 769
        }
      ]
    },
    {
      "cell_type": "code",
      "source": [
        "df_Lf = pd.DataFrame(Lf.round(3),columns = ['농산품', '공산품', '서비스'], index=['농산품', '공산품', '서비스'])  #pandas로 내보내기"
      ],
      "metadata": {
        "id": "YT9SwuJnQi8T"
      },
      "execution_count": 770,
      "outputs": []
    },
    {
      "cell_type": "markdown",
      "source": [
        "#### 부가가치유발계수(Lv)"
      ],
      "metadata": {
        "id": "DkU6os7vUW-0"
      }
    },
    {
      "cell_type": "code",
      "source": [
        "Va_r = Tt_1[-2,0:3]/ct # 부가가치율\n",
        "Va_r"
      ],
      "metadata": {
        "colab": {
          "base_uri": "https://localhost:8080/"
        },
        "id": "KfbCR-LdQjCF",
        "outputId": "5ee30a05-bd76-44c7-b6da-ea9cf0e11d8f"
      },
      "execution_count": 771,
      "outputs": [
        {
          "output_type": "execute_result",
          "data": {
            "text/plain": [
              "array([0.35714286, 0.33004926, 0.58606557])"
            ]
          },
          "metadata": {},
          "execution_count": 771
        }
      ]
    },
    {
      "cell_type": "code",
      "source": [
        "Va_m = np.diag(Va_r)  # 부가가치율 대각행렬\n",
        "Va_m"
      ],
      "metadata": {
        "colab": {
          "base_uri": "https://localhost:8080/"
        },
        "id": "7dkxNSQCQjJF",
        "outputId": "eb2f5e0a-2d0c-4d6d-bc22-01fc2f115898"
      },
      "execution_count": 772,
      "outputs": [
        {
          "output_type": "execute_result",
          "data": {
            "text/plain": [
              "array([[0.35714286, 0.        , 0.        ],\n",
              "       [0.        , 0.33004926, 0.        ],\n",
              "       [0.        , 0.        , 0.58606557]])"
            ]
          },
          "metadata": {},
          "execution_count": 772
        }
      ]
    },
    {
      "cell_type": "code",
      "source": [
        "Lv = Va_m@Lf  #부가가치유발계수\n",
        "Lv"
      ],
      "metadata": {
        "id": "DF_G_Hn09gRy",
        "colab": {
          "base_uri": "https://localhost:8080/"
        },
        "outputId": "ea4c0e6c-6fc7-41d2-c0c8-00b38232fb59"
      },
      "execution_count": 773,
      "outputs": [
        {
          "output_type": "execute_result",
          "data": {
            "text/plain": [
              "array([[0.39122799, 0.02021812, 0.00509142],\n",
              "       [0.15760983, 0.49339591, 0.07534422],\n",
              "       [0.10382964, 0.14561473, 0.76732634]])"
            ]
          },
          "metadata": {},
          "execution_count": 773
        }
      ]
    },
    {
      "cell_type": "code",
      "source": [
        "df_Lv = pd.DataFrame(Lv.round(3),columns = ['농산품', '공산품', '서비스'], index=['농산품', '공산품', '서비스'])  # pandas로 내보내기"
      ],
      "metadata": {
        "id": "Od3StAXA86sf"
      },
      "execution_count": 774,
      "outputs": []
    },
    {
      "cell_type": "markdown",
      "source": [
        "#### 수입유발계수"
      ],
      "metadata": {
        "id": "G-NYB11hVLEO"
      }
    },
    {
      "cell_type": "code",
      "source": [
        "Ai = Im_1[0:3,0:3]/ct_m\n",
        "\n",
        "print('수입투입계수표 : \\n', Ai)\n",
        "\n",
        "df_Ai = pd.DataFrame(Ai.round(3))  #pandas로 내보내기"
      ],
      "metadata": {
        "id": "IRm-HtOf9KVx",
        "colab": {
          "base_uri": "https://localhost:8080/"
        },
        "outputId": "bfaafa10-5e4f-4a18-89bf-953b1c387ff8"
      },
      "execution_count": 775,
      "outputs": [
        {
          "output_type": "stream",
          "name": "stdout",
          "text": [
            "수입투입계수표 : \n",
            " [[0.07142857 0.03448276 0.01229508]\n",
            " [0.07142857 0.16256158 0.04098361]\n",
            " [0.07142857 0.00985222 0.02459016]]\n"
          ]
        }
      ]
    },
    {
      "cell_type": "code",
      "source": [
        "Li = Ai@Lf  #수입유발계수\n",
        "Li"
      ],
      "metadata": {
        "id": "_8fZBBSX9kld",
        "outputId": "8076165b-1cab-4b31-c4f0-85d20076b2c9",
        "colab": {
          "base_uri": "https://localhost:8080/"
        }
      },
      "execution_count": 776,
      "outputs": [
        {
          "output_type": "execute_result",
          "data": {
            "text/plain": [
              "array([[0.09689054, 0.0586473 , 0.02498782],\n",
              "       [0.16313514, 0.25724237, 0.09178731],\n",
              "       [0.08730686, 0.02488157, 0.03546288]])"
            ]
          },
          "metadata": {},
          "execution_count": 776
        }
      ]
    },
    {
      "cell_type": "code",
      "source": [
        "df_Li = pd.DataFrame(Li.round(3),columns = ['농산품', '공산품', '서비스'], index=['농산품', '공산품', '서비스'])  #pandas로 내보내기"
      ],
      "metadata": {
        "id": "qxP0BGTe-J6J"
      },
      "execution_count": 777,
      "outputs": []
    },
    {
      "cell_type": "markdown",
      "source": [],
      "metadata": {
        "id": "rDsqvOxBbB5w"
      }
    },
    {
      "cell_type": "code",
      "source": [
        "# CSV파일로 결과 내보내기\n",
        "df_At.to_csv('총투입계수.csv')\n",
        "df_Ad.to_csv('국산투입계수.csv')\n",
        "df_Ai.to_csv('수입투입계수.csv')\n",
        "\n",
        "df_Lf.to_csv('생산유발계수.csv')\n",
        "df_Lv.to_csv('부가가치유발계수.csv')\n",
        "df_Li.to_csv('수입유발계수.csv')"
      ],
      "metadata": {
        "id": "Var3WdHW-NdY"
      },
      "execution_count": 778,
      "outputs": []
    },
    {
      "cell_type": "markdown",
      "source": [
        "### 최종수요 항목별 유발효과"
      ],
      "metadata": {
        "id": "6zhSQgh83SmB"
      }
    },
    {
      "cell_type": "markdown",
      "source": [
        "##### 생산유발효과"
      ],
      "metadata": {
        "id": "P8-fs47q3WzF"
      }
    },
    {
      "cell_type": "code",
      "source": [
        "Yd = Dt[0:3,5:8]  # 국산최종수요...소비, 투자, 수출\n",
        "Yi = It[0:3,5:8]  # 수입최종수요...소비, 투자, 수출\n",
        "print('국산최종수요 : \\n', Yd)\n",
        "print('수입최종수요 : \\n', Yi)"
      ],
      "metadata": {
        "id": "aZ0NQ51_-OTA",
        "colab": {
          "base_uri": "https://localhost:8080/"
        },
        "outputId": "47adfcbc-87e8-46d9-ef0d-c97bcdb81ed8"
      },
      "execution_count": 779,
      "outputs": [
        {
          "output_type": "stream",
          "name": "stdout",
          "text": [
            "국산최종수요 : \n",
            " [[1 2 2]\n",
            " [26 13 70]\n",
            " [104 46 15]]\n",
            "수입최종수요 : \n",
            " [[2 1 0]\n",
            " [6 6 3]\n",
            " [2 1 0]]\n"
          ]
        }
      ]
    },
    {
      "cell_type": "code",
      "source": [
        "Lfyd = (Lf@Yd).astype(float).reshape([3,3])   # 데이터타입을 float으로 지정하고 3x3행렬로 지정\n",
        "Lvyd = (Lv@Yd).astype(float).reshape([3,3])   # 데이터타입을 float으로 지정하고 3x3행렬로 지정\n",
        "Liyd = (Li@Yd).astype(float).reshape([3,3]) + Yi.astype(float).reshape([3,3]) # 데이터타입을 float으로 지정하고 3x3행렬로 지정\n",
        "\n",
        "print('최종수요항목별 생산유발계수 : \\n', Lfyd)\n",
        "print('최종수요항목별 부가가치유발계수 : \\n', Lvyd)\n",
        "print('최종수요항목별 수입유발계수 : \\n', Liyd)\n"
      ],
      "metadata": {
        "id": "vI4pjfvx-WU_",
        "colab": {
          "base_uri": "https://localhost:8080/"
        },
        "outputId": "84236948-bc84-4678-a00f-681f033b73df"
      },
      "execution_count": 780,
      "outputs": [
        {
          "output_type": "stream",
          "name": "stdout",
          "text": [
            "최종수요항목별 생산유발계수 : \n",
            " [[  4.04994023   3.58259176   6.36746801]\n",
            " [ 63.08665161  30.88993669 109.0234117 ]\n",
            " [142.80270952  63.81139594  37.38589454]]\n",
            "최종수요항목별 부가가치유발계수 : \n",
            " [[ 1.44640723  1.27949706  2.27409572]\n",
            " [20.82170275 10.19520078 35.98309647]\n",
            " [83.69175189 37.39766237 21.91058574]]\n",
            "최종수요항목별 수입유발계수 : \n",
            " [[ 6.22045424  3.10563599  4.67390977]\n",
            " [22.39731704 13.89263736 22.7100456 ]\n",
            " [ 6.42236685  3.12936645  2.4482667 ]]\n"
          ]
        }
      ]
    },
    {
      "cell_type": "code",
      "source": [
        "##### 최종수요항목별 유발계수 검증...최종수요항목별 생산유발계수=산출액, 최종수요항목별 부가가치유발계수=부가가치, 최종수요항목별 수입유발계수=수입 이 성립하여야 함  "
      ],
      "metadata": {
        "id": "2i4MUlDg5HPP"
      },
      "execution_count": 781,
      "outputs": []
    },
    {
      "cell_type": "code",
      "source": [
        "Lfyd_sm = Lfyd.sum(axis=1).astype(float).reshape([3,1])\n",
        "Lvyd_sm = Lvyd.sum(axis=1).astype(float).reshape([3,1])\n",
        "Liyd_sm = Liyd.sum(axis=1).astype(float).reshape([3,1])\n",
        "\n",
        "print('최종수요항목별 생산유발계수의 열합 : \\n', Lfyd_sm)\n",
        "print('최종수요항목별 부가가치유발의 열합 : \\n', Lvyd_sm)\n",
        "print('최종수요항목별 수입유발계의 열합 : \\n', Liyd_sm)"
      ],
      "metadata": {
        "colab": {
          "base_uri": "https://localhost:8080/"
        },
        "id": "kJH9hmlC5HUr",
        "outputId": "06daeda7-b906-4a88-f9c3-8fe49541f0a7"
      },
      "execution_count": 782,
      "outputs": [
        {
          "output_type": "stream",
          "name": "stdout",
          "text": [
            "최종수요항목별 생산유발계수의 열합 : \n",
            " [[ 14.]\n",
            " [203.]\n",
            " [244.]]\n",
            "최종수요항목별 부가가치유발의 열합 : \n",
            " [[  5.]\n",
            " [ 67.]\n",
            " [143.]]\n",
            "최종수요항목별 수입유발계의 열합 : \n",
            " [[14.]\n",
            " [59.]\n",
            " [12.]]\n"
          ]
        }
      ]
    },
    {
      "cell_type": "markdown",
      "source": [
        "###### 최종수요항목별 생산, 부가가치 및 수입유발계수"
      ],
      "metadata": {
        "id": "lIoPBD-Fae1A"
      }
    },
    {
      "cell_type": "code",
      "source": [
        "Yd_rw_sm =Yd.sum(axis=0)  #국산최종수요항목별(소비, 투자, 수출) 행합\n",
        "Yi_rw_sm =Yi.sum(axis=0)  #수입최종수요항목별(소비, 투자, 수출) 행합\n",
        "\n",
        "Lfyd_rw_sm = Lfyd.sum(axis=0) # 최종수요항목별(소비, 투자, 수출) 생산유발계수 행합\n",
        "Lvyd_rw_sm = Lvyd.sum(axis=0) # 최종수요항목별(소비, 투자, 수출) 부가가치유발계수 행합\n",
        "Liyd_rw_sm = Liyd.sum(axis=0) # 최종수요항목별(소비, 투자, 수출) 수입유발계수 행합\n",
        "\n",
        "print('최종수요항목별 행합 : \\n', Yd_rw_sm)\n",
        "print('최종수요항목별 생산유발계수 행합 : \\n', Lfyd_rw_sm)\n",
        "print('최종수요항목별 부가가치유발계수 행합 : \\n', Lvyd_rw_sm)\n",
        "print('최종수요항목별 수입유발계수 행합: \\n', Liyd_rw_sm)"
      ],
      "metadata": {
        "colab": {
          "base_uri": "https://localhost:8080/"
        },
        "id": "6XUSbGUyanOq",
        "outputId": "c26d1ef7-81a5-4672-fa96-59ffc79429bd"
      },
      "execution_count": 783,
      "outputs": [
        {
          "output_type": "stream",
          "name": "stdout",
          "text": [
            "최종수요항목별 행합 : \n",
            " [131 61 87]\n",
            "최종수요항목별 생산유발계수 행합 : \n",
            " [209.93930137  98.28392438 152.77677425]\n",
            "최종수요항목별 부가가치유발계수 행합 : \n",
            " [105.95986187  48.87236021  60.16777793]\n",
            "최종수요항목별 수입유발계수 행합: \n",
            " [35.04013813 20.12763979 29.83222207]\n"
          ]
        }
      ]
    },
    {
      "cell_type": "markdown",
      "source": [
        "##### 최종수요항목별(소비, 투자, 수출) 유발계수"
      ],
      "metadata": {
        "id": "_hjFJ_N0dggV"
      }
    },
    {
      "cell_type": "code",
      "source": [
        "Lfyd_coef =(Lfyd_rw_sm/Yd_rw_sm).astype(float).reshape([1,3]) #최종수요항목별(소비, 투자, 수출) 생산유발계수\n",
        "Lvyd_coef =(Lvyd_rw_sm/Yd_rw_sm).astype(float).reshape([1,3]) #최종수요항목별(소비, 투자, 수출) 생산유발계수\n",
        "Liyd_coef =(Liyd_rw_sm/(Yd_rw_sm+Yi_rw_sm)).astype(float).reshape([1,3]) #최종수요항목별(소비, 투자, 수출) 생산유발계수\n",
        "\n",
        "print('최종수요항목별(소비, 투자, 수출) 생산유발계수 행합 : \\n', Lfyd_coef)\n",
        "print('최종수요항목별(소비, 투자, 수출) 부가가치유발계수 행합 : \\n', Lvyd_coef)\n",
        "print('최종수요항목별(소비, 투자, 수출) 수입유발계수 행합: \\n', Liyd_coef)"
      ],
      "metadata": {
        "colab": {
          "base_uri": "https://localhost:8080/"
        },
        "id": "MmV_4BB-anZi",
        "outputId": "797765ef-cbfb-4b7b-e92f-5404eae3b4e5"
      },
      "execution_count": 784,
      "outputs": [
        {
          "output_type": "stream",
          "name": "stdout",
          "text": [
            "최종수요항목별(소비, 투자, 수출) 생산유발계수 행합 : \n",
            " [[1.60259009 1.61121188 1.75605488]]\n",
            "최종수요항목별(소비, 투자, 수출) 부가가치유발계수 행합 : \n",
            " [[0.80885391 0.80118623 0.69158365]]\n",
            "최종수요항목별(소비, 투자, 수출) 수입유발계수 행합: \n",
            " [[0.24851162 0.29170492 0.33146913]]\n"
          ]
        }
      ]
    },
    {
      "cell_type": "markdown",
      "source": [
        "###### 영향력계수(후방연쇄효과) 및 감응도계수(전방연쇄효과)"
      ],
      "metadata": {
        "id": "Kr23Ly0AhpVR"
      }
    },
    {
      "cell_type": "code",
      "source": [
        "Lf_rw_sm = Lf.sum(axis=0)  # 생산유발계수 행합\n",
        "Lf_cl_sm = Lf.sum(axis=1)  # 생산유발계수 행합\n",
        "\n",
        "Lf_bwd = (Lf.sum(axis=0)/Lf_rw_sm.mean()).astype(float).reshape([1,3])  #영향력 계수\n",
        "Lf_fwd = (Lf.sum(axis=1)/Lf_cl_sm.mean()).astype(float).reshape([1,3])  #감응도 계수\n",
        "\n",
        "print('품목별 영향력계수 : \\n', Lf_bwd)\n",
        "print('품목별 감음도계수: \\n', Lf_fwd)"
      ],
      "metadata": {
        "colab": {
          "base_uri": "https://localhost:8080/"
        },
        "id": "DxnO-URDanip",
        "outputId": "437c3e7c-02f0-4b7c-9d0a-29c62cd54451"
      },
      "execution_count": 785,
      "outputs": [
        {
          "output_type": "stream",
          "name": "stdout",
          "text": [
            "품목별 영향력계수 : \n",
            " [[1.02909928 1.05841261 0.9124881 ]]\n",
            "품목별 감음도계수: \n",
            " [[0.68580007 1.29405432 1.02014561]]\n"
          ]
        }
      ]
    },
    {
      "cell_type": "code",
      "source": [
        "# pandas로 변환기\n",
        "\n",
        "df_Lfyd =pd.DataFrame(Lfyd.round(1),columns = ['농산품', '공산품', '서비스'], index=['소비', '투자', '수출'])  #pandas로 내보내기\n",
        "df_Lvyd =pd.DataFrame(Lvyd.round(1),columns = ['농산품', '공산품', '서비스'], index=['소비', '투자', '수출'])  \n",
        "df_Liyd =pd.DataFrame(Liyd.round(1),columns = ['농산품', '공산품', '서비스'], index=['소비', '투자', '수출'])  \n",
        "\n",
        "df_Lfyd_coef = pd.DataFrame(Lfyd_coef.round(3),columns = ['농산품', '공산품', '서비스'], index=['항목별 생산유발계수'])\n",
        "df_Lvyd_coef = pd.DataFrame(Lvyd_coef.round(3),columns = ['농산품', '공산품', '서비스'], index=['항목별 부가가치유발계수'])\n",
        "df_Liyd_coef = pd.DataFrame(Liyd_coef.round(3),columns = ['농산품', '공산품', '서비스'], index=['항목별 수입유발계수'])\n",
        "\n",
        "df_Lf_bwd = pd.DataFrame(Lf_bwd.round(3), columns = ['농산품', '공산품', '서비스'], index=['영향력계수'])\n",
        "df_Lf_fwd = pd.DataFrame(Lf_fwd.round(3), columns = ['농산품', '공산품', '서비스'], index=['영향력계수'])\n",
        "\n",
        "print(df_Lfyd)\n",
        "print(df_Lvyd)\n",
        "print(df_Liyd)\n",
        "\n",
        "print(df_Lfyd_coef)\n",
        "print(df_Lvyd_coef)\n",
        "print(df_Liyd_coef)\n",
        "\n",
        "print(df_Lf_bwd)\n",
        "print(df_Lf_fwd)"
      ],
      "metadata": {
        "colab": {
          "base_uri": "https://localhost:8080/"
        },
        "id": "Uy-18-Rxanp2",
        "outputId": "4a84b85e-efb8-4acb-ea38-1e5cb427f483"
      },
      "execution_count": 786,
      "outputs": [
        {
          "output_type": "stream",
          "name": "stdout",
          "text": [
            "      농산품   공산품    서비스\n",
            "소비    4.0   3.6    6.4\n",
            "투자   63.1  30.9  109.0\n",
            "수출  142.8  63.8   37.4\n",
            "     농산품   공산품   서비스\n",
            "소비   1.4   1.3   2.3\n",
            "투자  20.8  10.2  36.0\n",
            "수출  83.7  37.4  21.9\n",
            "     농산품   공산품   서비스\n",
            "소비   6.2   3.1   4.7\n",
            "투자  22.4  13.9  22.7\n",
            "수출   6.4   3.1   2.4\n",
            "              농산품    공산품    서비스\n",
            "항목별 생산유발계수  1.603  1.611  1.756\n",
            "                농산품    공산품    서비스\n",
            "항목별 부가가치유발계수  0.809  0.801  0.692\n",
            "              농산품    공산품    서비스\n",
            "항목별 수입유발계수  0.249  0.292  0.331\n",
            "         농산품    공산품    서비스\n",
            "영향력계수  1.029  1.058  0.912\n",
            "         농산품    공산품   서비스\n",
            "영향력계수  0.686  1.294  1.02\n"
          ]
        }
      ]
    },
    {
      "cell_type": "code",
      "source": [
        "# csv 파일로 내보내기\n",
        "df_Lfyd.to_csv('최종수요항목별 생산유발액.csv')\n",
        "df_Lvyd.to_csv('최종수요항목별 부가가치유발액.csv')\n",
        "df_Liyd.to_csv('최종수요항목별 수입유발액.csv')\n",
        "\n",
        "df_Lfyd_coef.to_csv('최종수요항목별 생산유발계수.csv')\n",
        "df_Lvyd_coef.to_csv('최종수요항목별 부가가치유발계수.csv')\n",
        "df_Liyd_coef.to_csv('최종수요항목별 수입유발계수.csv')\n",
        "\n",
        "df_Lf_bwd.to_csv('영향력계수.csv')\n",
        "df_Lf_bwd.to_csv('감응도계수.csv')"
      ],
      "metadata": {
        "id": "Dk8oBy3oanwg"
      },
      "execution_count": 787,
      "outputs": []
    },
    {
      "cell_type": "code",
      "source": [],
      "metadata": {
        "id": "G-mJLG0can6J"
      },
      "execution_count": 787,
      "outputs": []
    },
    {
      "cell_type": "code",
      "source": [],
      "metadata": {
        "id": "OcdzFts-aoCe"
      },
      "execution_count": 787,
      "outputs": []
    },
    {
      "cell_type": "code",
      "source": [
        "#pandas로 내보내기\n",
        "\n",
        "# df_Lfyd = pd.DataFrame(Lfyd.round(3),columns = ['농산품', '공산품', '서비스'], index=['농산품', '공산품', '서비스'])  \n",
        "# df_Lvyd = pd.DataFrame(Lvyd.round(3),columns = ['농산품', '공산품', '서비스'], index=['농산품', '공산품', '서비스'])  \n",
        "# df_Liyd = pd.DataFrame(Liyd.round(3),columns = ['농산품', '공산품', '서비스'], index=['농산품', '공산품', '서비스']) \n"
      ],
      "metadata": {
        "id": "IrTVIJP06hir"
      },
      "execution_count": 788,
      "outputs": []
    },
    {
      "cell_type": "code",
      "source": [
        "# # csv 파일로 내보내기\n",
        "\n",
        "# df_Lfyd.to_csv('최종수요항목별_생산유발.csv')\n",
        "# df_Lvyd.to_csv('최종수요항목별_부가가치유발.csv')\n",
        "# df_Liyd.to_csv('최종수요항목별_수입유발.csv')"
      ],
      "metadata": {
        "id": "aBWNCPV-_T6J"
      },
      "execution_count": 789,
      "outputs": []
    },
    {
      "cell_type": "markdown",
      "source": [
        "### 물가파급효과 분석\n",
        "\n",
        "\n",
        "##### - 투입계수의 전치행렬을 이용하여 생산유발계수(Lf)을 이용하여 각종 물가파급효과 분석 가능"
      ],
      "metadata": {
        "id": "LrSLa3VTD5Nd"
      }
    },
    {
      "cell_type": "code",
      "source": [
        "At_trans = At.T  # 총투입계수의 전치행렬\n",
        "Ad_trans = Ad.T  # 국산투입계수의 전치행렬\n",
        "Ai_trans = Ai.T  # 국산투입계수의 전치행렬\n",
        "\n",
        "print('총투입계수의 전치행렬 : \\n', At_trans)\n",
        "print('국산투입계수의 전치행렬: \\n', Ad_trans)\n",
        "print('수입투입계수의 전치행렬: \\n', Ai_trans)\n",
        "\n",
        "Lf_trans = np.linalg.inv(np.identity(3)-Ad_trans)  # (I-Ad_trans)의 역행렬 \n",
        "print('국산투입계수 전치행렬의 역행렬: \\n', Lf_trans)"
      ],
      "metadata": {
        "id": "QlwdX5oMD71E",
        "outputId": "9b5fa67c-a1a7-4ef0-9a66-f2551fd7bdbe",
        "colab": {
          "base_uri": "https://localhost:8080/"
        }
      },
      "execution_count": 790,
      "outputs": [
        {
          "output_type": "stream",
          "name": "stdout",
          "text": [
            "총투입계수의 전치행렬 : \n",
            " [[0.14285714 0.35714286 0.14285714]\n",
            " [0.06896552 0.46305419 0.13793103]\n",
            " [0.01639344 0.15983607 0.23770492]]\n",
            "국산투입계수의 전치행렬: \n",
            " [[0.07142857 0.28571429 0.07142857]\n",
            " [0.03448276 0.30049261 0.12807882]\n",
            " [0.00409836 0.11885246 0.21311475]]\n",
            "수입투입계수의 전치행렬: \n",
            " [[0.07142857 0.07142857 0.07142857]\n",
            " [0.03448276 0.16256158 0.00985222]\n",
            " [0.01229508 0.04098361 0.02459016]]\n",
            "국산투입계수 전치행렬의 역행렬: \n",
            " [[1.09543838 0.47753427 0.17716386]\n",
            " [0.05661073 1.49491595 0.2484615 ]\n",
            " [0.01425599 0.22828175 1.3092841 ]]\n"
          ]
        }
      ]
    },
    {
      "cell_type": "markdown",
      "source": [],
      "metadata": {
        "id": "aBgrgkliI_uH"
      }
    },
    {
      "cell_type": "markdown",
      "source": [
        "#### 임금인상의 물가파급효과"
      ],
      "metadata": {
        "id": "VmIala71I_1M"
      }
    },
    {
      "cell_type": "code",
      "source": [
        "delta_all_w = np.array([10,10,10]).reshape([3,1]) # 모든 상품의 임금이 10% 상승\n",
        "delta_all_Pw = (Lf_trans@Va_m)@delta_all_w\n",
        "\n",
        "delta_par_w = np.array([0,10,0]).reshape([3,1]) # 공산품의 임금이 10% 상승\n",
        "delta_par_Pw = (Lf_trans@Va_m)@delta_par_w\n",
        "\n",
        "print('모든 상품의 임금이 10% 상승시 물가파급효과: \\n', delta_all_Pw)\n",
        "print('공산품의 임금이 10% 상승시 물가파급효과: \\n', delta_par_Pw)\n"
      ],
      "metadata": {
        "id": "hT30koHOD8WG",
        "outputId": "e9af129c-fabf-48b8-940c-2b59a1dfc517",
        "colab": {
          "base_uri": "https://localhost:8080/"
        }
      },
      "execution_count": 791,
      "outputs": [
        {
          "output_type": "stream",
          "name": "stdout",
          "text": [
            "모든 상품의 임금이 10% 상승시 물가파급효과: \n",
            " [[6.52667464]\n",
            " [6.5922876 ]\n",
            " [8.47761987]]\n",
            "공산품의 임금이 10% 상승시 물가파급효과: \n",
            " [[1.57609835]\n",
            " [4.93395906]\n",
            " [0.75344225]]\n"
          ]
        }
      ]
    },
    {
      "cell_type": "markdown",
      "source": [
        "#### 공산품 등 내생부분(중간투입품) 가격변동의 물가파급효과"
      ],
      "metadata": {
        "id": "lz8QJDXeZA_n"
      }
    },
    {
      "cell_type": "code",
      "source": [
        "#### 중간투입되는 공산품의 물가변동의 파급효과 분석\n",
        "\n",
        "Ad_exd_row = np.delete(Ad_trans,1,0).reshape([2,3])  # 공산품(sectors2) 행 삭제\n",
        "Ad_exd_manu = np.delete(Ad_exd_row,1,1).reshape([2,2])  # 공산품(sectors2) 열 삭제,,최종적으로 2x2 행렬\n",
        "print('물가변동이 발생한 부문을 제가한 국산투입계수 : \\n', Ad_exd_manu)\n",
        "\n",
        "A_Pr_sec2 = np.concatenate((Ad_trans[0,1].reshape([1,1]),Ad_trans[2,1].reshape([1,1])),axis=0).reshape([2,1])  # 물가가 변동하는 부문의 국산 투입계수(a21, a23)\n",
        "print('물가변동이 발생한 부문의 국산투입계수 : \\n', A_Pr_sec2)\n",
        "\n",
        "#공산품 물가 10% 상승시 파급효과\n",
        "\n",
        "delta_manu_Pw = Ad_exd_manu@A_Pr_sec2*10\n",
        "print('공산품 10% 상승시 다른 부문의 물가변동 : \\n', delta_manu_Pw)"
      ],
      "metadata": {
        "id": "MH8Zx-JXD8ZG",
        "colab": {
          "base_uri": "https://localhost:8080/"
        },
        "outputId": "b0964a05-6777-47f4-ca55-99de35b7eefb"
      },
      "execution_count": 792,
      "outputs": [
        {
          "output_type": "stream",
          "name": "stdout",
          "text": [
            "물가변동이 발생한 부문을 제가한 국산투입계수 : \n",
            " [[0.07142857 0.07142857]\n",
            " [0.00409836 0.21311475]]\n",
            "물가변동이 발생한 부문의 국산투입계수 : \n",
            " [[0.28571429]\n",
            " [0.11885246]]\n",
            "공산품 10% 상승시 다른 부문의 물가변동 : \n",
            " [[0.28897625]\n",
            " [0.26500173]]\n"
          ]
        }
      ]
    },
    {
      "cell_type": "markdown",
      "source": [
        "#### 수입산품 가격변동의 물가파급효과\n"
      ],
      "metadata": {
        "id": "KGihX7EPGGt3"
      }
    },
    {
      "cell_type": "code",
      "source": [
        "Imp_Pw = np.array([10,0,0]).reshape([3,1]) # 수입농산물 10% 상승\n",
        "delta_imp_Pw =  ((Lf_trans @Ai_trans)@Imp_Pw).reshape([3,1])\n",
        "\n",
        "print('수입통산품 가격 10% 상승시 다른 부문의 물가변동 : \\n', delta_imp_Pw)"
      ],
      "metadata": {
        "colab": {
          "base_uri": "https://localhost:8080/"
        },
        "id": "5p1nygTxZI38",
        "outputId": "8648998f-085b-4121-e3bb-e75bfd3f13f0"
      },
      "execution_count": 793,
      "outputs": [
        {
          "output_type": "stream",
          "name": "stdout",
          "text": [
            "수입통산품 가격 10% 상승시 다른 부문의 물가변동 : \n",
            " [[0.96890542]\n",
            " [0.58647304]\n",
            " [0.24987825]]\n"
          ]
        }
      ]
    },
    {
      "cell_type": "code",
      "source": [
        "#pandas로 내보\n",
        "\n",
        "df_delta_all_Pw = pd.DataFrame(delta_all_Pw.round(3),columns = ['물가상승률'], index=['농산품', '공산품', '서비스'])  # 모든 부문의 임금 10% 상승\n",
        "df_delta_par_Pw = pd.DataFrame(delta_par_Pw.round(3),columns = ['물가상승률'], index=['농산품', '공산품', '서비스'])  # 공산품 부문의 임금 10% 상승\n",
        "df_delta_manu_Pw = pd.DataFrame(delta_manu_Pw.round(3),columns = ['물가상승률'], index=['농산품', '서비스'])        # 공산품 물가 10% 상승\n",
        "df_delta_imp_Pw = pd.DataFrame(delta_imp_Pw.round(3),columns = ['물가상승률'], index=['농산품', '공산품', '서비스'])   # 수입 농산품 물가 10% 상승"
      ],
      "metadata": {
        "id": "Njxfr_mbHtnA"
      },
      "execution_count": 794,
      "outputs": []
    },
    {
      "cell_type": "code",
      "source": [
        "df_delta_all_Pw.to_csv('모든 부문 임금 10% 상승.csv')\n",
        "df_delta_par_Pw.to_csv('공산품 부문 임금 10% 상승.csv')\n",
        "df_delta_manu_Pw.to_csv('공산품 물가 10% 상승.csv')\n",
        "df_delta_imp_Pw.to_csv('수입 농산품 물가 10% 상승.csv')"
      ],
      "metadata": {
        "id": "Q0fXvrqKKjRH"
      },
      "execution_count": 795,
      "outputs": []
    },
    {
      "cell_type": "markdown",
      "source": [
        "### 서비스 부문의 내생화"
      ],
      "metadata": {
        "id": "0T6xGJKLAhvD"
      }
    },
    {
      "cell_type": "code",
      "source": [
        "# 생산유발액\n",
        "\n",
        "Ad_ser_etr = Ad[0:2,0:2] # 서비스가 제거된 농산품과 공산품만 포함된 국산투입계수\n",
        "Lf_Ad_ser_etr = np.linalg.inv(np.identity(2)-Ad_ser_etr) # 역행렬(생산유발계수)\n",
        "print('농산품과 공산품으로 구성된 생산유발계수: \\n', Lf_Ad_ser_etr)\n",
        "\n",
        "Ad_ser =Ad[0:2,2].reshape([2,1])\n",
        "print('서비스의 국산투입계수(농산품과 공산품만 포함): \\n', Ad_ser)\n",
        "\n",
        "Mtp_ser = Lf_Ad_ser_etr@Ad_ser # 서비스 외생화의 효과를 계산하기 위한 멀티플라이어\n",
        "print('외생화 부문의 효과를 계산하기 위한 멀티플라이어: \\n', Mtp_ser)\n",
        "\n",
        "Amt_etr = Mtp_ser*244 # 서비스 총산출(총투자) 3,432,811의 각 산업 생산유발액\n",
        "print('유발액: \\n', Amt_etr)\n"
      ],
      "metadata": {
        "id": "ImapvnHSM3mu",
        "colab": {
          "base_uri": "https://localhost:8080/"
        },
        "outputId": "706876a1-e398-4313-e9b3-83b7bd45f72d"
      },
      "execution_count": 796,
      "outputs": [
        {
          "output_type": "stream",
          "name": "stdout",
          "text": [
            "농산품과 공산품으로 구성된 생산유발계수: \n",
            " [[1.09350935 0.05390539]\n",
            " [0.44664466 1.45159516]]\n",
            "서비스의 국산투입계수(농산품과 공산품만 포함): \n",
            " [[0.00409836]\n",
            " [0.11885246]]\n",
            "외생화 부문의 효과를 계산하기 위한 멀티플라이어: \n",
            " [[0.01088838]\n",
            " [0.17435617]]\n",
            "유발액: \n",
            " [[ 2.65676568]\n",
            " [42.54290429]]\n"
          ]
        }
      ]
    },
    {
      "cell_type": "code",
      "source": [
        "# 수입유발액\n",
        "Ai_ser_etr = Ai[0:2,0:2] # 서비스가 제거된 농산품과 공산품만 포함된 수입투입계수\n",
        "Ai_ser_dr = Ai[:,2].sum().reshape([1,1])\n",
        "\n",
        "Mtp_imp_indr = Ai_ser_etr@Mtp_ser  # 간접효과 멀티플라이어\n",
        "print('간접효과 멀티플라이어: \\n', Mtp_imp_indr)\n",
        "\n",
        "Amt_imp_indr = Mtp_imp_indr*244 # 간접효과\n",
        "Amt_imp_dr = Ai_ser_dr*244      # 직접효과\n",
        "Amt_imp_tot = Amt_imp_indr.sum() + Amt_imp_dr  \n",
        "\n",
        "print('간접효과 : \\n', Amt_imp_indr)\n",
        "print('직접효과 : \\n', Amt_imp_dr)\n",
        "print('총효과 : \\n', Amt_imp_tot)\n"
      ],
      "metadata": {
        "colab": {
          "base_uri": "https://localhost:8080/"
        },
        "id": "lKcch7NXAyaQ",
        "outputId": "2101af35-14d3-4915-8706-63bad2f26458"
      },
      "execution_count": 797,
      "outputs": [
        {
          "output_type": "stream",
          "name": "stdout",
          "text": [
            "간접효과 멀티플라이어: \n",
            " [[0.00679002]\n",
            " [0.02912135]]\n",
            "간접효과 : \n",
            " [[1.65676568]\n",
            " [7.10561056]]\n",
            "직접효과 : \n",
            " [[19.]]\n",
            "총효과 : \n",
            " [[27.76237624]]\n"
          ]
        }
      ]
    },
    {
      "cell_type": "code",
      "source": [
        "# 부가가치유발액\n",
        "Av_ser_etr = Va_m[0:2,0:2] # 서비스가 제거된 농산품과 공산품만 포함된 부가가치율\n",
        "Av_ser_dr = Va_m[2,2].reshape([1,1])  # 서비스의 부가가치율\n",
        "\n",
        "Mtp_var_indr = Av_ser_etr@Mtp_ser  # 간접효과 멀티플라이어\n",
        "print('간접효과 멀티플라이어: \\n', Mtp_var_indr)\n",
        "\n",
        "Amt_var_indr = Mtp_var_indr*244  # 간접효과\n",
        "Amt_var_dr= Av_ser_dr*244       # 직접효과\n",
        "Amt_var_tot = Amt_var_indr.sum() + Amt_var_dr\n",
        "\n",
        "print('간접효과 : \\n', Amt_var_indr)\n",
        "print('직접효과 : \\n', Amt_var_dr)\n",
        "print('총효과 : \\n', Amt_var_tot)"
      ],
      "metadata": {
        "colab": {
          "base_uri": "https://localhost:8080/"
        },
        "id": "z0oF5lwlKqlY",
        "outputId": "9e5ca76b-29f8-4320-cf03-c5a448d5cc31"
      },
      "execution_count": 798,
      "outputs": [
        {
          "output_type": "stream",
          "name": "stdout",
          "text": [
            "간접효과 멀티플라이어: \n",
            " [[0.00388871]\n",
            " [0.05754612]]\n",
            "간접효과 : \n",
            " [[ 0.94884488]\n",
            " [14.04125413]]\n",
            "직접효과 : \n",
            " [[143.]]\n",
            "총효과 : \n",
            " [[157.99009901]]\n"
          ]
        }
      ]
    },
    {
      "cell_type": "markdown",
      "source": [
        "### 산출 변동요인분해"
      ],
      "metadata": {
        "id": "00a8dQ_-Ug2y"
      }
    },
    {
      "cell_type": "code",
      "source": [
        "# 2015년 거래표 다운로드\n",
        "\n",
        "url_total = \"https://raw.githubusercontent.com/Tom-Jung/legendary-funicular/main/%EC%B4%9D%EA%B1%B0%EB%9E%98%ED%91%9C_2015_%EB%B6%88%EB%B3%80.csv\"  # 불변 2015년 총거래표\n",
        "Tot_cst_15 = pd.read_csv(url_total)\n",
        "\n",
        "url_imp = \"https://raw.githubusercontent.com/Tom-Jung/legendary-funicular/main/%EC%88%98%EC%9E%85%EA%B1%B0%EB%9E%98%ED%91%9C_2015_%EB%B6%88%EB%B3%80.csv\"  # 불변 2015년 총거래표\n",
        "Imp_cst_15 = pd.read_csv(url_imp)\n",
        "\n",
        "url_dom = \"https://raw.githubusercontent.com/Tom-Jung/legendary-funicular/main/%EA%B5%AD%EC%82%B0%EA%B1%B0%EB%9E%98%ED%91%9C_2015_%EB%B6%88%EB%B3%80.csv\"  # 불변 2015년 총거래표\n",
        "Dom_cst_15 = pd.read_csv(url_dom)"
      ],
      "metadata": {
        "id": "5iSPH3zYKquU"
      },
      "execution_count": 799,
      "outputs": []
    },
    {
      "cell_type": "code",
      "source": [
        "# 2010년 거래표 다운로드\n",
        "\n",
        "url_total = \"https://raw.githubusercontent.com/Tom-Jung/legendary-funicular/main/%EC%B4%9D%EA%B1%B0%EB%9E%98%ED%91%9C_2010_%EB%B6%88%EB%B3%80.csv\"  # 불변 2015년 총거래표\n",
        "Tot_cst_10 = pd.read_csv(url_total)\n",
        "\n",
        "url_imp = \"https://raw.githubusercontent.com/Tom-Jung/legendary-funicular/main/%EC%88%98%EC%9E%85%EA%B1%B0%EB%9E%98%ED%91%9C_2010_%EB%B6%88%EB%B3%80.csv\"  # 불변 2015년 총거래표\n",
        "Imp_cst_10 = pd.read_csv(url_imp)\n",
        "\n",
        "url_dom = \"https://raw.githubusercontent.com/Tom-Jung/legendary-funicular/main/%EA%B5%AD%EC%82%B0%EA%B1%B0%EB%9E%98%ED%91%9C_2010_%EB%B6%88%EB%B3%80.csv\"  # 불변 2015년 총거래표\n",
        "Dom_cst_10 = pd.read_csv(url_dom)"
      ],
      "metadata": {
        "id": "o8Pv_b5hKqyW"
      },
      "execution_count": 800,
      "outputs": []
    },
    {
      "cell_type": "code",
      "source": [
        "Tot_cst_15"
      ],
      "metadata": {
        "id": "f9aN0wIQGi15",
        "outputId": "def45c3a-f73d-44ad-c2c7-374e3a84e73a",
        "colab": {
          "base_uri": "https://localhost:8080/",
          "height": 1000
        }
      },
      "execution_count": 801,
      "outputs": [
        {
          "output_type": "execute_result",
          "data": {
            "text/plain": [
              "    code                 name          A         B         C01        C02  \\\n",
              "0   code                 name      농림수산품       광산품        음식료품  섬유 및 가죽제품   \n",
              "1      A                농림수산품   3225287      5492    35485401     756039    \n",
              "2      B                  광산품      1031      2070       26495       4943    \n",
              "3    C01                 음식료품   9277388      8905    23196840     826970    \n",
              "4    C02            섬유 및 가죽제품    666365     11635      169657   23044097    \n",
              "5    C03          목재 및 종이, 인쇄    692030     13185     2389756     908744    \n",
              "6    C04            석탄 및 석유제품   1296813     98739      338744     308507    \n",
              "7    C05                 화학제품   4790382    125491     3228075    7161893    \n",
              "8    C06              비금속광물제품     19123      8393      608197      44391    \n",
              "9    C07              1차 금속제품     53247      5588        7114      24843    \n",
              "10   C08               금속가공제품     61407     60913     1758443     336572    \n",
              "11   C09       컴퓨터, 전자 및 광학기기     99563      6216      118948      81442    \n",
              "12   C10                 전기장비    107062     18098       31868      77003    \n",
              "13   C11              기계 및 장비    218782    105235      179024      89168    \n",
              "14   C12                 운송장비    264814     63535       23234      23217    \n",
              "15   C13            기타 제조업 제품     12529      1515      224988     368996    \n",
              "16   C14    제조임가공 및 산업용 장비 수리    190133    105126     2966873   15998203    \n",
              "17     D          전력, 가스 및 증기    753333     97378     1184151    1091391    \n",
              "18     E   수도, 폐기물처리 및 재활용서비스     78201     12030      370400     229169    \n",
              "19     F                   건설     75323     13979       63771      26117    \n",
              "20     G        도소매 및 상품중개서비스   2477932     56080     8894598    6404523    \n",
              "21     H                운송서비스    811655    533937     4241112    2145281    \n",
              "22     I          음식점 및 숙박서비스    505745     78718      433905     528480    \n",
              "23     J        정보통신 및 방송 서비스    191029     19880      231839     193487    \n",
              "24     K          금융 및 보험 서비스    878012    164761      815843     930076    \n",
              "25     L               부동산서비스     50251      6675      239377     392604    \n",
              "26     M      전문, 과학 및 기술 서비스    754673    174478     3479280    1350085    \n",
              "27     N              사업지원서비스    137370    128818      404747     372882    \n",
              "28     O      공공행정, 국방 및 사회보장    133260      8194       21874      29142    \n",
              "29     P                교육서비스      3156       735       24535       7853    \n",
              "30     Q        보건 및 사회복지 서비스    124528     11636      101471      69260    \n",
              "31     R  예술, 스포츠 및 여가 관련 서비스     58099     19320       62126      67455    \n",
              "32     S               기타 서비스    104857     20954      173588      86947    \n",
              "33  9590                중간투입계  28113380   1987709    91496275   63979781    \n",
              "34  9610                피용자보수   5243464    694732     9906095    7417072    \n",
              "35  9621                 영업잉여  22576442   1148712     5076670    4095066    \n",
              "36  9622               고정자본소모   4828393    355891     3818737    2140284    \n",
              "37  9630           생산세(보조금공제)    610044    -61826    11849443    1696934    \n",
              "38  9690                부가가치계  33258343   2137509    30650945   15349356    \n",
              "39  9790                 총투입계  61371723   4125218   122147220   79329137    \n",
              "\n",
              "            C03         C04         C05        C06  ...        9121  \\\n",
              "0   목재 및 종이, 인쇄   석탄 및 석유제품        화학제품    비금속광물제품  ...  민간고정\\n자본형성   \n",
              "1       992448        7074     1135571       8015   ...     430212    \n",
              "2        26272    57488159     5407723    3413004   ...          0    \n",
              "3        75877       75184     1239849      38483   ...          0    \n",
              "4       441460       65263     1718201     138459   ...     130013    \n",
              "5     13831561      132521     1676192     452805   ...          0    \n",
              "6       232754     4347409    26408022    1592043   ...          0    \n",
              "7      2962133     2119402    81181451    1782734   ...          0    \n",
              "8        20688       71101     1005440    6772896   ...          0    \n",
              "9        40386      182098     1893958     654005   ...   -2448262    \n",
              "10      318423     1171098     1846442     488616   ...    3799517    \n",
              "11       92000      315570      476569      80108   ...   21598161    \n",
              "12       58784      149982      267769     140971   ...   10891972    \n",
              "13       71445      933770     3034057     365803   ...   53072767    \n",
              "14       43773       90162      230695     156700   ...   27966392    \n",
              "15       24469        7541       32144       6964   ...    2824170    \n",
              "16     1426535      247610     5102330     825429   ...          0    \n",
              "17     1437146     1875819     6119353    1666152   ...          0    \n",
              "18      470604       78272     1665182     327712   ...          0    \n",
              "19       26276       50217      178747      31827   ...  165908820    \n",
              "20     2041403     1179179     8638507    1225360   ...   11056000    \n",
              "21     1894019      948512     7528853    4211116   ...     240833    \n",
              "22      443570      325121     1479119     341107   ...          0    \n",
              "23      237473      413305      672422     212111   ...   28083841    \n",
              "24      643369      217007     2361952     489830   ...          0    \n",
              "25      161823      160883      392515      75962   ...   26009160    \n",
              "26      887585     2788985    10523953    1253031   ...   59111665    \n",
              "27      371958      547390     1123964     233818   ...          0    \n",
              "28       37860       21522      383230      19587   ...          0    \n",
              "29       15632       26614       95048      17385   ...          0    \n",
              "30       70384       43733      240887      52640   ...          0    \n",
              "31       61731       54980      197161      41468   ...     477638    \n",
              "32       83406      128182      290454     103286   ...          0    \n",
              "33    29543249    76263662   174547758   27219431   ...  409152899    \n",
              "34     5973894     1366271    21429173    4644470   ...          0    \n",
              "35     5416981     8606221    30620004    4032787   ...          0    \n",
              "36     1109629     2750547    16098393    3204533   ...          0    \n",
              "37      870263    21163332     2687834     577467   ...          0    \n",
              "38    13370767    33886371    70835404   12459257   ...          0    \n",
              "39    42914016   110150033   245383162   39678688   ...          0    \n",
              "\n",
              "          9122       9131      9132        9140         9190         9290  \\\n",
              "0   정부고정\\n자본형성       재고증감  귀중품\\n순취득          수출        최종수요계         총수요계   \n",
              "1       16075    1209012         0      687127     19349897     73529712    \n",
              "2           0    -124793         0      129200        17458    116321922    \n",
              "3           0      55403         0     7536286     64328169    148333741    \n",
              "4       16859     975325         0    35039496     66521808    107729295    \n",
              "5           0     102852         0     3594127      4954173     50898188    \n",
              "6           0     512111         0    40266835     55512218    138021227    \n",
              "7           0    -617312         0    82878968     90367491    308333246    \n",
              "8           0     -17890         0     2889084      3113322     46897311    \n",
              "9      -63985   -1720047    206340    39517282     34935006    165271701    \n",
              "10    2441968     449595         0    11890695     19903986    108625391    \n",
              "11    2893647    1739168         0   174193328    225336750    370674624    \n",
              "12     204225     530745         0    29580893     46472923    114144671    \n",
              "13     417673     370127         0    47905261    103176542    163817301    \n",
              "14    7094305    3005576         0   129660499    198974186    287845328    \n",
              "15     272525     314158   1348932     2867995     14772480     27221635    \n",
              "16          0          0         0     2788269      2811858     71061635    \n",
              "17          0          0         0      116665     17865231     92905240    \n",
              "18          0          0         0      383045      4964180     19242864    \n",
              "19   47583363   -1422185         0      165061    212235059    223676345    \n",
              "20     707083    1227459    318400    24133371    116400060    251039153    \n",
              "21      63687      81459      7879    37954966     64217046    164777272    \n",
              "22          0          0         0     7042220     89856280    145484541    \n",
              "23     242767      19850         0     5527599     66405140    141346630    \n",
              "24          0          0         0     2859010     68394612    160061770    \n",
              "25      16275          0         0      429765    141233676    193282346    \n",
              "26    9942361          0         0    15901469     88093740    210483882    \n",
              "27          0          0         0     8784508     12679352     90197248    \n",
              "28          0          0         0       37565    121037382    123984489    \n",
              "29          0          0         0      171152    116474589    118657392    \n",
              "30          0          0         0      370313    113246544    120396378    \n",
              "31          0          0     27643     1037209     36978635     44655127    \n",
              "32          0          0         0      611914     40823238     54822664    \n",
              "33   71848828    6690613   1909194   716951177   2261453031   4453740269    \n",
              "34          0          0         0           0            0            0    \n",
              "35          0          0         0           0            0            0    \n",
              "36          0          0         0           0            0            0    \n",
              "37          0          0         0           0            0            0    \n",
              "38          0          0         0           0            0            0    \n",
              "39          0          0         0           0            0            0    \n",
              "\n",
              "           9310        9329         9390  \n",
              "0           총산출         수입계         총공급계  \n",
              "1     61371723    12157989     73529712   \n",
              "2      4125218   112196704    116321922   \n",
              "3    122147220    26186521    148333741   \n",
              "4     79329137    28400158    107729295   \n",
              "5     42914016     7984172     50898188   \n",
              "6    110150033    27871194    138021227   \n",
              "7    245383162    62950084    308333246   \n",
              "8     39678688     7218623     46897311   \n",
              "9    124914202    40357499    165271701   \n",
              "10   100287562     8337829    108625391   \n",
              "11   282213561    88461063    370674624   \n",
              "12    95673140    18471531    114144671   \n",
              "13   125009907    38807394    163817301   \n",
              "14   257977501    29867827    287845328   \n",
              "15    20146498     7075137     27221635   \n",
              "16    61203821     9857814     71061635   \n",
              "17    92800040      105200     92905240   \n",
              "18    19221573       21291     19242864   \n",
              "19   223616951       59394    223676345   \n",
              "20   247647642     3391511    251039153   \n",
              "21   141344511    23432761    164777272   \n",
              "22   131926155    13558386    145484541   \n",
              "23   135412832     5933798    141346630   \n",
              "24   156925173     3136597    160061770   \n",
              "25   191497517     1784829    193282346   \n",
              "26   186524180    23959702    210483882   \n",
              "27    76481272    13715976     90197248   \n",
              "28   123378849      605640    123984489   \n",
              "29   116328647     2328745    118657392   \n",
              "30   119620062      776316    120396378   \n",
              "31    40293777     4361350     44655127   \n",
              "32    54193336      629328     54822664   \n",
              "33  3829737906   624002363   4453740269   \n",
              "34           0           0            0   \n",
              "35           0           0            0   \n",
              "36           0           0            0   \n",
              "37           0           0            0   \n",
              "38           0           0            0   \n",
              "39           0           0            0   \n",
              "\n",
              "[40 rows x 47 columns]"
            ],
            "text/html": [
              "\n",
              "  <div id=\"df-fa196dd3-d16c-4ce6-887d-44b98f5d063e\">\n",
              "    <div class=\"colab-df-container\">\n",
              "      <div>\n",
              "<style scoped>\n",
              "    .dataframe tbody tr th:only-of-type {\n",
              "        vertical-align: middle;\n",
              "    }\n",
              "\n",
              "    .dataframe tbody tr th {\n",
              "        vertical-align: top;\n",
              "    }\n",
              "\n",
              "    .dataframe thead th {\n",
              "        text-align: right;\n",
              "    }\n",
              "</style>\n",
              "<table border=\"1\" class=\"dataframe\">\n",
              "  <thead>\n",
              "    <tr style=\"text-align: right;\">\n",
              "      <th></th>\n",
              "      <th>code</th>\n",
              "      <th>name</th>\n",
              "      <th>A</th>\n",
              "      <th>B</th>\n",
              "      <th>C01</th>\n",
              "      <th>C02</th>\n",
              "      <th>C03</th>\n",
              "      <th>C04</th>\n",
              "      <th>C05</th>\n",
              "      <th>C06</th>\n",
              "      <th>...</th>\n",
              "      <th>9121</th>\n",
              "      <th>9122</th>\n",
              "      <th>9131</th>\n",
              "      <th>9132</th>\n",
              "      <th>9140</th>\n",
              "      <th>9190</th>\n",
              "      <th>9290</th>\n",
              "      <th>9310</th>\n",
              "      <th>9329</th>\n",
              "      <th>9390</th>\n",
              "    </tr>\n",
              "  </thead>\n",
              "  <tbody>\n",
              "    <tr>\n",
              "      <th>0</th>\n",
              "      <td>code</td>\n",
              "      <td>name</td>\n",
              "      <td>농림수산품</td>\n",
              "      <td>광산품</td>\n",
              "      <td>음식료품</td>\n",
              "      <td>섬유 및 가죽제품</td>\n",
              "      <td>목재 및 종이, 인쇄</td>\n",
              "      <td>석탄 및 석유제품</td>\n",
              "      <td>화학제품</td>\n",
              "      <td>비금속광물제품</td>\n",
              "      <td>...</td>\n",
              "      <td>민간고정\\n자본형성</td>\n",
              "      <td>정부고정\\n자본형성</td>\n",
              "      <td>재고증감</td>\n",
              "      <td>귀중품\\n순취득</td>\n",
              "      <td>수출</td>\n",
              "      <td>최종수요계</td>\n",
              "      <td>총수요계</td>\n",
              "      <td>총산출</td>\n",
              "      <td>수입계</td>\n",
              "      <td>총공급계</td>\n",
              "    </tr>\n",
              "    <tr>\n",
              "      <th>1</th>\n",
              "      <td>A</td>\n",
              "      <td>농림수산품</td>\n",
              "      <td>3225287</td>\n",
              "      <td>5492</td>\n",
              "      <td>35485401</td>\n",
              "      <td>756039</td>\n",
              "      <td>992448</td>\n",
              "      <td>7074</td>\n",
              "      <td>1135571</td>\n",
              "      <td>8015</td>\n",
              "      <td>...</td>\n",
              "      <td>430212</td>\n",
              "      <td>16075</td>\n",
              "      <td>1209012</td>\n",
              "      <td>0</td>\n",
              "      <td>687127</td>\n",
              "      <td>19349897</td>\n",
              "      <td>73529712</td>\n",
              "      <td>61371723</td>\n",
              "      <td>12157989</td>\n",
              "      <td>73529712</td>\n",
              "    </tr>\n",
              "    <tr>\n",
              "      <th>2</th>\n",
              "      <td>B</td>\n",
              "      <td>광산품</td>\n",
              "      <td>1031</td>\n",
              "      <td>2070</td>\n",
              "      <td>26495</td>\n",
              "      <td>4943</td>\n",
              "      <td>26272</td>\n",
              "      <td>57488159</td>\n",
              "      <td>5407723</td>\n",
              "      <td>3413004</td>\n",
              "      <td>...</td>\n",
              "      <td>0</td>\n",
              "      <td>0</td>\n",
              "      <td>-124793</td>\n",
              "      <td>0</td>\n",
              "      <td>129200</td>\n",
              "      <td>17458</td>\n",
              "      <td>116321922</td>\n",
              "      <td>4125218</td>\n",
              "      <td>112196704</td>\n",
              "      <td>116321922</td>\n",
              "    </tr>\n",
              "    <tr>\n",
              "      <th>3</th>\n",
              "      <td>C01</td>\n",
              "      <td>음식료품</td>\n",
              "      <td>9277388</td>\n",
              "      <td>8905</td>\n",
              "      <td>23196840</td>\n",
              "      <td>826970</td>\n",
              "      <td>75877</td>\n",
              "      <td>75184</td>\n",
              "      <td>1239849</td>\n",
              "      <td>38483</td>\n",
              "      <td>...</td>\n",
              "      <td>0</td>\n",
              "      <td>0</td>\n",
              "      <td>55403</td>\n",
              "      <td>0</td>\n",
              "      <td>7536286</td>\n",
              "      <td>64328169</td>\n",
              "      <td>148333741</td>\n",
              "      <td>122147220</td>\n",
              "      <td>26186521</td>\n",
              "      <td>148333741</td>\n",
              "    </tr>\n",
              "    <tr>\n",
              "      <th>4</th>\n",
              "      <td>C02</td>\n",
              "      <td>섬유 및 가죽제품</td>\n",
              "      <td>666365</td>\n",
              "      <td>11635</td>\n",
              "      <td>169657</td>\n",
              "      <td>23044097</td>\n",
              "      <td>441460</td>\n",
              "      <td>65263</td>\n",
              "      <td>1718201</td>\n",
              "      <td>138459</td>\n",
              "      <td>...</td>\n",
              "      <td>130013</td>\n",
              "      <td>16859</td>\n",
              "      <td>975325</td>\n",
              "      <td>0</td>\n",
              "      <td>35039496</td>\n",
              "      <td>66521808</td>\n",
              "      <td>107729295</td>\n",
              "      <td>79329137</td>\n",
              "      <td>28400158</td>\n",
              "      <td>107729295</td>\n",
              "    </tr>\n",
              "    <tr>\n",
              "      <th>5</th>\n",
              "      <td>C03</td>\n",
              "      <td>목재 및 종이, 인쇄</td>\n",
              "      <td>692030</td>\n",
              "      <td>13185</td>\n",
              "      <td>2389756</td>\n",
              "      <td>908744</td>\n",
              "      <td>13831561</td>\n",
              "      <td>132521</td>\n",
              "      <td>1676192</td>\n",
              "      <td>452805</td>\n",
              "      <td>...</td>\n",
              "      <td>0</td>\n",
              "      <td>0</td>\n",
              "      <td>102852</td>\n",
              "      <td>0</td>\n",
              "      <td>3594127</td>\n",
              "      <td>4954173</td>\n",
              "      <td>50898188</td>\n",
              "      <td>42914016</td>\n",
              "      <td>7984172</td>\n",
              "      <td>50898188</td>\n",
              "    </tr>\n",
              "    <tr>\n",
              "      <th>6</th>\n",
              "      <td>C04</td>\n",
              "      <td>석탄 및 석유제품</td>\n",
              "      <td>1296813</td>\n",
              "      <td>98739</td>\n",
              "      <td>338744</td>\n",
              "      <td>308507</td>\n",
              "      <td>232754</td>\n",
              "      <td>4347409</td>\n",
              "      <td>26408022</td>\n",
              "      <td>1592043</td>\n",
              "      <td>...</td>\n",
              "      <td>0</td>\n",
              "      <td>0</td>\n",
              "      <td>512111</td>\n",
              "      <td>0</td>\n",
              "      <td>40266835</td>\n",
              "      <td>55512218</td>\n",
              "      <td>138021227</td>\n",
              "      <td>110150033</td>\n",
              "      <td>27871194</td>\n",
              "      <td>138021227</td>\n",
              "    </tr>\n",
              "    <tr>\n",
              "      <th>7</th>\n",
              "      <td>C05</td>\n",
              "      <td>화학제품</td>\n",
              "      <td>4790382</td>\n",
              "      <td>125491</td>\n",
              "      <td>3228075</td>\n",
              "      <td>7161893</td>\n",
              "      <td>2962133</td>\n",
              "      <td>2119402</td>\n",
              "      <td>81181451</td>\n",
              "      <td>1782734</td>\n",
              "      <td>...</td>\n",
              "      <td>0</td>\n",
              "      <td>0</td>\n",
              "      <td>-617312</td>\n",
              "      <td>0</td>\n",
              "      <td>82878968</td>\n",
              "      <td>90367491</td>\n",
              "      <td>308333246</td>\n",
              "      <td>245383162</td>\n",
              "      <td>62950084</td>\n",
              "      <td>308333246</td>\n",
              "    </tr>\n",
              "    <tr>\n",
              "      <th>8</th>\n",
              "      <td>C06</td>\n",
              "      <td>비금속광물제품</td>\n",
              "      <td>19123</td>\n",
              "      <td>8393</td>\n",
              "      <td>608197</td>\n",
              "      <td>44391</td>\n",
              "      <td>20688</td>\n",
              "      <td>71101</td>\n",
              "      <td>1005440</td>\n",
              "      <td>6772896</td>\n",
              "      <td>...</td>\n",
              "      <td>0</td>\n",
              "      <td>0</td>\n",
              "      <td>-17890</td>\n",
              "      <td>0</td>\n",
              "      <td>2889084</td>\n",
              "      <td>3113322</td>\n",
              "      <td>46897311</td>\n",
              "      <td>39678688</td>\n",
              "      <td>7218623</td>\n",
              "      <td>46897311</td>\n",
              "    </tr>\n",
              "    <tr>\n",
              "      <th>9</th>\n",
              "      <td>C07</td>\n",
              "      <td>1차 금속제품</td>\n",
              "      <td>53247</td>\n",
              "      <td>5588</td>\n",
              "      <td>7114</td>\n",
              "      <td>24843</td>\n",
              "      <td>40386</td>\n",
              "      <td>182098</td>\n",
              "      <td>1893958</td>\n",
              "      <td>654005</td>\n",
              "      <td>...</td>\n",
              "      <td>-2448262</td>\n",
              "      <td>-63985</td>\n",
              "      <td>-1720047</td>\n",
              "      <td>206340</td>\n",
              "      <td>39517282</td>\n",
              "      <td>34935006</td>\n",
              "      <td>165271701</td>\n",
              "      <td>124914202</td>\n",
              "      <td>40357499</td>\n",
              "      <td>165271701</td>\n",
              "    </tr>\n",
              "    <tr>\n",
              "      <th>10</th>\n",
              "      <td>C08</td>\n",
              "      <td>금속가공제품</td>\n",
              "      <td>61407</td>\n",
              "      <td>60913</td>\n",
              "      <td>1758443</td>\n",
              "      <td>336572</td>\n",
              "      <td>318423</td>\n",
              "      <td>1171098</td>\n",
              "      <td>1846442</td>\n",
              "      <td>488616</td>\n",
              "      <td>...</td>\n",
              "      <td>3799517</td>\n",
              "      <td>2441968</td>\n",
              "      <td>449595</td>\n",
              "      <td>0</td>\n",
              "      <td>11890695</td>\n",
              "      <td>19903986</td>\n",
              "      <td>108625391</td>\n",
              "      <td>100287562</td>\n",
              "      <td>8337829</td>\n",
              "      <td>108625391</td>\n",
              "    </tr>\n",
              "    <tr>\n",
              "      <th>11</th>\n",
              "      <td>C09</td>\n",
              "      <td>컴퓨터, 전자 및 광학기기</td>\n",
              "      <td>99563</td>\n",
              "      <td>6216</td>\n",
              "      <td>118948</td>\n",
              "      <td>81442</td>\n",
              "      <td>92000</td>\n",
              "      <td>315570</td>\n",
              "      <td>476569</td>\n",
              "      <td>80108</td>\n",
              "      <td>...</td>\n",
              "      <td>21598161</td>\n",
              "      <td>2893647</td>\n",
              "      <td>1739168</td>\n",
              "      <td>0</td>\n",
              "      <td>174193328</td>\n",
              "      <td>225336750</td>\n",
              "      <td>370674624</td>\n",
              "      <td>282213561</td>\n",
              "      <td>88461063</td>\n",
              "      <td>370674624</td>\n",
              "    </tr>\n",
              "    <tr>\n",
              "      <th>12</th>\n",
              "      <td>C10</td>\n",
              "      <td>전기장비</td>\n",
              "      <td>107062</td>\n",
              "      <td>18098</td>\n",
              "      <td>31868</td>\n",
              "      <td>77003</td>\n",
              "      <td>58784</td>\n",
              "      <td>149982</td>\n",
              "      <td>267769</td>\n",
              "      <td>140971</td>\n",
              "      <td>...</td>\n",
              "      <td>10891972</td>\n",
              "      <td>204225</td>\n",
              "      <td>530745</td>\n",
              "      <td>0</td>\n",
              "      <td>29580893</td>\n",
              "      <td>46472923</td>\n",
              "      <td>114144671</td>\n",
              "      <td>95673140</td>\n",
              "      <td>18471531</td>\n",
              "      <td>114144671</td>\n",
              "    </tr>\n",
              "    <tr>\n",
              "      <th>13</th>\n",
              "      <td>C11</td>\n",
              "      <td>기계 및 장비</td>\n",
              "      <td>218782</td>\n",
              "      <td>105235</td>\n",
              "      <td>179024</td>\n",
              "      <td>89168</td>\n",
              "      <td>71445</td>\n",
              "      <td>933770</td>\n",
              "      <td>3034057</td>\n",
              "      <td>365803</td>\n",
              "      <td>...</td>\n",
              "      <td>53072767</td>\n",
              "      <td>417673</td>\n",
              "      <td>370127</td>\n",
              "      <td>0</td>\n",
              "      <td>47905261</td>\n",
              "      <td>103176542</td>\n",
              "      <td>163817301</td>\n",
              "      <td>125009907</td>\n",
              "      <td>38807394</td>\n",
              "      <td>163817301</td>\n",
              "    </tr>\n",
              "    <tr>\n",
              "      <th>14</th>\n",
              "      <td>C12</td>\n",
              "      <td>운송장비</td>\n",
              "      <td>264814</td>\n",
              "      <td>63535</td>\n",
              "      <td>23234</td>\n",
              "      <td>23217</td>\n",
              "      <td>43773</td>\n",
              "      <td>90162</td>\n",
              "      <td>230695</td>\n",
              "      <td>156700</td>\n",
              "      <td>...</td>\n",
              "      <td>27966392</td>\n",
              "      <td>7094305</td>\n",
              "      <td>3005576</td>\n",
              "      <td>0</td>\n",
              "      <td>129660499</td>\n",
              "      <td>198974186</td>\n",
              "      <td>287845328</td>\n",
              "      <td>257977501</td>\n",
              "      <td>29867827</td>\n",
              "      <td>287845328</td>\n",
              "    </tr>\n",
              "    <tr>\n",
              "      <th>15</th>\n",
              "      <td>C13</td>\n",
              "      <td>기타 제조업 제품</td>\n",
              "      <td>12529</td>\n",
              "      <td>1515</td>\n",
              "      <td>224988</td>\n",
              "      <td>368996</td>\n",
              "      <td>24469</td>\n",
              "      <td>7541</td>\n",
              "      <td>32144</td>\n",
              "      <td>6964</td>\n",
              "      <td>...</td>\n",
              "      <td>2824170</td>\n",
              "      <td>272525</td>\n",
              "      <td>314158</td>\n",
              "      <td>1348932</td>\n",
              "      <td>2867995</td>\n",
              "      <td>14772480</td>\n",
              "      <td>27221635</td>\n",
              "      <td>20146498</td>\n",
              "      <td>7075137</td>\n",
              "      <td>27221635</td>\n",
              "    </tr>\n",
              "    <tr>\n",
              "      <th>16</th>\n",
              "      <td>C14</td>\n",
              "      <td>제조임가공 및 산업용 장비 수리</td>\n",
              "      <td>190133</td>\n",
              "      <td>105126</td>\n",
              "      <td>2966873</td>\n",
              "      <td>15998203</td>\n",
              "      <td>1426535</td>\n",
              "      <td>247610</td>\n",
              "      <td>5102330</td>\n",
              "      <td>825429</td>\n",
              "      <td>...</td>\n",
              "      <td>0</td>\n",
              "      <td>0</td>\n",
              "      <td>0</td>\n",
              "      <td>0</td>\n",
              "      <td>2788269</td>\n",
              "      <td>2811858</td>\n",
              "      <td>71061635</td>\n",
              "      <td>61203821</td>\n",
              "      <td>9857814</td>\n",
              "      <td>71061635</td>\n",
              "    </tr>\n",
              "    <tr>\n",
              "      <th>17</th>\n",
              "      <td>D</td>\n",
              "      <td>전력, 가스 및 증기</td>\n",
              "      <td>753333</td>\n",
              "      <td>97378</td>\n",
              "      <td>1184151</td>\n",
              "      <td>1091391</td>\n",
              "      <td>1437146</td>\n",
              "      <td>1875819</td>\n",
              "      <td>6119353</td>\n",
              "      <td>1666152</td>\n",
              "      <td>...</td>\n",
              "      <td>0</td>\n",
              "      <td>0</td>\n",
              "      <td>0</td>\n",
              "      <td>0</td>\n",
              "      <td>116665</td>\n",
              "      <td>17865231</td>\n",
              "      <td>92905240</td>\n",
              "      <td>92800040</td>\n",
              "      <td>105200</td>\n",
              "      <td>92905240</td>\n",
              "    </tr>\n",
              "    <tr>\n",
              "      <th>18</th>\n",
              "      <td>E</td>\n",
              "      <td>수도, 폐기물처리 및 재활용서비스</td>\n",
              "      <td>78201</td>\n",
              "      <td>12030</td>\n",
              "      <td>370400</td>\n",
              "      <td>229169</td>\n",
              "      <td>470604</td>\n",
              "      <td>78272</td>\n",
              "      <td>1665182</td>\n",
              "      <td>327712</td>\n",
              "      <td>...</td>\n",
              "      <td>0</td>\n",
              "      <td>0</td>\n",
              "      <td>0</td>\n",
              "      <td>0</td>\n",
              "      <td>383045</td>\n",
              "      <td>4964180</td>\n",
              "      <td>19242864</td>\n",
              "      <td>19221573</td>\n",
              "      <td>21291</td>\n",
              "      <td>19242864</td>\n",
              "    </tr>\n",
              "    <tr>\n",
              "      <th>19</th>\n",
              "      <td>F</td>\n",
              "      <td>건설</td>\n",
              "      <td>75323</td>\n",
              "      <td>13979</td>\n",
              "      <td>63771</td>\n",
              "      <td>26117</td>\n",
              "      <td>26276</td>\n",
              "      <td>50217</td>\n",
              "      <td>178747</td>\n",
              "      <td>31827</td>\n",
              "      <td>...</td>\n",
              "      <td>165908820</td>\n",
              "      <td>47583363</td>\n",
              "      <td>-1422185</td>\n",
              "      <td>0</td>\n",
              "      <td>165061</td>\n",
              "      <td>212235059</td>\n",
              "      <td>223676345</td>\n",
              "      <td>223616951</td>\n",
              "      <td>59394</td>\n",
              "      <td>223676345</td>\n",
              "    </tr>\n",
              "    <tr>\n",
              "      <th>20</th>\n",
              "      <td>G</td>\n",
              "      <td>도소매 및 상품중개서비스</td>\n",
              "      <td>2477932</td>\n",
              "      <td>56080</td>\n",
              "      <td>8894598</td>\n",
              "      <td>6404523</td>\n",
              "      <td>2041403</td>\n",
              "      <td>1179179</td>\n",
              "      <td>8638507</td>\n",
              "      <td>1225360</td>\n",
              "      <td>...</td>\n",
              "      <td>11056000</td>\n",
              "      <td>707083</td>\n",
              "      <td>1227459</td>\n",
              "      <td>318400</td>\n",
              "      <td>24133371</td>\n",
              "      <td>116400060</td>\n",
              "      <td>251039153</td>\n",
              "      <td>247647642</td>\n",
              "      <td>3391511</td>\n",
              "      <td>251039153</td>\n",
              "    </tr>\n",
              "    <tr>\n",
              "      <th>21</th>\n",
              "      <td>H</td>\n",
              "      <td>운송서비스</td>\n",
              "      <td>811655</td>\n",
              "      <td>533937</td>\n",
              "      <td>4241112</td>\n",
              "      <td>2145281</td>\n",
              "      <td>1894019</td>\n",
              "      <td>948512</td>\n",
              "      <td>7528853</td>\n",
              "      <td>4211116</td>\n",
              "      <td>...</td>\n",
              "      <td>240833</td>\n",
              "      <td>63687</td>\n",
              "      <td>81459</td>\n",
              "      <td>7879</td>\n",
              "      <td>37954966</td>\n",
              "      <td>64217046</td>\n",
              "      <td>164777272</td>\n",
              "      <td>141344511</td>\n",
              "      <td>23432761</td>\n",
              "      <td>164777272</td>\n",
              "    </tr>\n",
              "    <tr>\n",
              "      <th>22</th>\n",
              "      <td>I</td>\n",
              "      <td>음식점 및 숙박서비스</td>\n",
              "      <td>505745</td>\n",
              "      <td>78718</td>\n",
              "      <td>433905</td>\n",
              "      <td>528480</td>\n",
              "      <td>443570</td>\n",
              "      <td>325121</td>\n",
              "      <td>1479119</td>\n",
              "      <td>341107</td>\n",
              "      <td>...</td>\n",
              "      <td>0</td>\n",
              "      <td>0</td>\n",
              "      <td>0</td>\n",
              "      <td>0</td>\n",
              "      <td>7042220</td>\n",
              "      <td>89856280</td>\n",
              "      <td>145484541</td>\n",
              "      <td>131926155</td>\n",
              "      <td>13558386</td>\n",
              "      <td>145484541</td>\n",
              "    </tr>\n",
              "    <tr>\n",
              "      <th>23</th>\n",
              "      <td>J</td>\n",
              "      <td>정보통신 및 방송 서비스</td>\n",
              "      <td>191029</td>\n",
              "      <td>19880</td>\n",
              "      <td>231839</td>\n",
              "      <td>193487</td>\n",
              "      <td>237473</td>\n",
              "      <td>413305</td>\n",
              "      <td>672422</td>\n",
              "      <td>212111</td>\n",
              "      <td>...</td>\n",
              "      <td>28083841</td>\n",
              "      <td>242767</td>\n",
              "      <td>19850</td>\n",
              "      <td>0</td>\n",
              "      <td>5527599</td>\n",
              "      <td>66405140</td>\n",
              "      <td>141346630</td>\n",
              "      <td>135412832</td>\n",
              "      <td>5933798</td>\n",
              "      <td>141346630</td>\n",
              "    </tr>\n",
              "    <tr>\n",
              "      <th>24</th>\n",
              "      <td>K</td>\n",
              "      <td>금융 및 보험 서비스</td>\n",
              "      <td>878012</td>\n",
              "      <td>164761</td>\n",
              "      <td>815843</td>\n",
              "      <td>930076</td>\n",
              "      <td>643369</td>\n",
              "      <td>217007</td>\n",
              "      <td>2361952</td>\n",
              "      <td>489830</td>\n",
              "      <td>...</td>\n",
              "      <td>0</td>\n",
              "      <td>0</td>\n",
              "      <td>0</td>\n",
              "      <td>0</td>\n",
              "      <td>2859010</td>\n",
              "      <td>68394612</td>\n",
              "      <td>160061770</td>\n",
              "      <td>156925173</td>\n",
              "      <td>3136597</td>\n",
              "      <td>160061770</td>\n",
              "    </tr>\n",
              "    <tr>\n",
              "      <th>25</th>\n",
              "      <td>L</td>\n",
              "      <td>부동산서비스</td>\n",
              "      <td>50251</td>\n",
              "      <td>6675</td>\n",
              "      <td>239377</td>\n",
              "      <td>392604</td>\n",
              "      <td>161823</td>\n",
              "      <td>160883</td>\n",
              "      <td>392515</td>\n",
              "      <td>75962</td>\n",
              "      <td>...</td>\n",
              "      <td>26009160</td>\n",
              "      <td>16275</td>\n",
              "      <td>0</td>\n",
              "      <td>0</td>\n",
              "      <td>429765</td>\n",
              "      <td>141233676</td>\n",
              "      <td>193282346</td>\n",
              "      <td>191497517</td>\n",
              "      <td>1784829</td>\n",
              "      <td>193282346</td>\n",
              "    </tr>\n",
              "    <tr>\n",
              "      <th>26</th>\n",
              "      <td>M</td>\n",
              "      <td>전문, 과학 및 기술 서비스</td>\n",
              "      <td>754673</td>\n",
              "      <td>174478</td>\n",
              "      <td>3479280</td>\n",
              "      <td>1350085</td>\n",
              "      <td>887585</td>\n",
              "      <td>2788985</td>\n",
              "      <td>10523953</td>\n",
              "      <td>1253031</td>\n",
              "      <td>...</td>\n",
              "      <td>59111665</td>\n",
              "      <td>9942361</td>\n",
              "      <td>0</td>\n",
              "      <td>0</td>\n",
              "      <td>15901469</td>\n",
              "      <td>88093740</td>\n",
              "      <td>210483882</td>\n",
              "      <td>186524180</td>\n",
              "      <td>23959702</td>\n",
              "      <td>210483882</td>\n",
              "    </tr>\n",
              "    <tr>\n",
              "      <th>27</th>\n",
              "      <td>N</td>\n",
              "      <td>사업지원서비스</td>\n",
              "      <td>137370</td>\n",
              "      <td>128818</td>\n",
              "      <td>404747</td>\n",
              "      <td>372882</td>\n",
              "      <td>371958</td>\n",
              "      <td>547390</td>\n",
              "      <td>1123964</td>\n",
              "      <td>233818</td>\n",
              "      <td>...</td>\n",
              "      <td>0</td>\n",
              "      <td>0</td>\n",
              "      <td>0</td>\n",
              "      <td>0</td>\n",
              "      <td>8784508</td>\n",
              "      <td>12679352</td>\n",
              "      <td>90197248</td>\n",
              "      <td>76481272</td>\n",
              "      <td>13715976</td>\n",
              "      <td>90197248</td>\n",
              "    </tr>\n",
              "    <tr>\n",
              "      <th>28</th>\n",
              "      <td>O</td>\n",
              "      <td>공공행정, 국방 및 사회보장</td>\n",
              "      <td>133260</td>\n",
              "      <td>8194</td>\n",
              "      <td>21874</td>\n",
              "      <td>29142</td>\n",
              "      <td>37860</td>\n",
              "      <td>21522</td>\n",
              "      <td>383230</td>\n",
              "      <td>19587</td>\n",
              "      <td>...</td>\n",
              "      <td>0</td>\n",
              "      <td>0</td>\n",
              "      <td>0</td>\n",
              "      <td>0</td>\n",
              "      <td>37565</td>\n",
              "      <td>121037382</td>\n",
              "      <td>123984489</td>\n",
              "      <td>123378849</td>\n",
              "      <td>605640</td>\n",
              "      <td>123984489</td>\n",
              "    </tr>\n",
              "    <tr>\n",
              "      <th>29</th>\n",
              "      <td>P</td>\n",
              "      <td>교육서비스</td>\n",
              "      <td>3156</td>\n",
              "      <td>735</td>\n",
              "      <td>24535</td>\n",
              "      <td>7853</td>\n",
              "      <td>15632</td>\n",
              "      <td>26614</td>\n",
              "      <td>95048</td>\n",
              "      <td>17385</td>\n",
              "      <td>...</td>\n",
              "      <td>0</td>\n",
              "      <td>0</td>\n",
              "      <td>0</td>\n",
              "      <td>0</td>\n",
              "      <td>171152</td>\n",
              "      <td>116474589</td>\n",
              "      <td>118657392</td>\n",
              "      <td>116328647</td>\n",
              "      <td>2328745</td>\n",
              "      <td>118657392</td>\n",
              "    </tr>\n",
              "    <tr>\n",
              "      <th>30</th>\n",
              "      <td>Q</td>\n",
              "      <td>보건 및 사회복지 서비스</td>\n",
              "      <td>124528</td>\n",
              "      <td>11636</td>\n",
              "      <td>101471</td>\n",
              "      <td>69260</td>\n",
              "      <td>70384</td>\n",
              "      <td>43733</td>\n",
              "      <td>240887</td>\n",
              "      <td>52640</td>\n",
              "      <td>...</td>\n",
              "      <td>0</td>\n",
              "      <td>0</td>\n",
              "      <td>0</td>\n",
              "      <td>0</td>\n",
              "      <td>370313</td>\n",
              "      <td>113246544</td>\n",
              "      <td>120396378</td>\n",
              "      <td>119620062</td>\n",
              "      <td>776316</td>\n",
              "      <td>120396378</td>\n",
              "    </tr>\n",
              "    <tr>\n",
              "      <th>31</th>\n",
              "      <td>R</td>\n",
              "      <td>예술, 스포츠 및 여가 관련 서비스</td>\n",
              "      <td>58099</td>\n",
              "      <td>19320</td>\n",
              "      <td>62126</td>\n",
              "      <td>67455</td>\n",
              "      <td>61731</td>\n",
              "      <td>54980</td>\n",
              "      <td>197161</td>\n",
              "      <td>41468</td>\n",
              "      <td>...</td>\n",
              "      <td>477638</td>\n",
              "      <td>0</td>\n",
              "      <td>0</td>\n",
              "      <td>27643</td>\n",
              "      <td>1037209</td>\n",
              "      <td>36978635</td>\n",
              "      <td>44655127</td>\n",
              "      <td>40293777</td>\n",
              "      <td>4361350</td>\n",
              "      <td>44655127</td>\n",
              "    </tr>\n",
              "    <tr>\n",
              "      <th>32</th>\n",
              "      <td>S</td>\n",
              "      <td>기타 서비스</td>\n",
              "      <td>104857</td>\n",
              "      <td>20954</td>\n",
              "      <td>173588</td>\n",
              "      <td>86947</td>\n",
              "      <td>83406</td>\n",
              "      <td>128182</td>\n",
              "      <td>290454</td>\n",
              "      <td>103286</td>\n",
              "      <td>...</td>\n",
              "      <td>0</td>\n",
              "      <td>0</td>\n",
              "      <td>0</td>\n",
              "      <td>0</td>\n",
              "      <td>611914</td>\n",
              "      <td>40823238</td>\n",
              "      <td>54822664</td>\n",
              "      <td>54193336</td>\n",
              "      <td>629328</td>\n",
              "      <td>54822664</td>\n",
              "    </tr>\n",
              "    <tr>\n",
              "      <th>33</th>\n",
              "      <td>9590</td>\n",
              "      <td>중간투입계</td>\n",
              "      <td>28113380</td>\n",
              "      <td>1987709</td>\n",
              "      <td>91496275</td>\n",
              "      <td>63979781</td>\n",
              "      <td>29543249</td>\n",
              "      <td>76263662</td>\n",
              "      <td>174547758</td>\n",
              "      <td>27219431</td>\n",
              "      <td>...</td>\n",
              "      <td>409152899</td>\n",
              "      <td>71848828</td>\n",
              "      <td>6690613</td>\n",
              "      <td>1909194</td>\n",
              "      <td>716951177</td>\n",
              "      <td>2261453031</td>\n",
              "      <td>4453740269</td>\n",
              "      <td>3829737906</td>\n",
              "      <td>624002363</td>\n",
              "      <td>4453740269</td>\n",
              "    </tr>\n",
              "    <tr>\n",
              "      <th>34</th>\n",
              "      <td>9610</td>\n",
              "      <td>피용자보수</td>\n",
              "      <td>5243464</td>\n",
              "      <td>694732</td>\n",
              "      <td>9906095</td>\n",
              "      <td>7417072</td>\n",
              "      <td>5973894</td>\n",
              "      <td>1366271</td>\n",
              "      <td>21429173</td>\n",
              "      <td>4644470</td>\n",
              "      <td>...</td>\n",
              "      <td>0</td>\n",
              "      <td>0</td>\n",
              "      <td>0</td>\n",
              "      <td>0</td>\n",
              "      <td>0</td>\n",
              "      <td>0</td>\n",
              "      <td>0</td>\n",
              "      <td>0</td>\n",
              "      <td>0</td>\n",
              "      <td>0</td>\n",
              "    </tr>\n",
              "    <tr>\n",
              "      <th>35</th>\n",
              "      <td>9621</td>\n",
              "      <td>영업잉여</td>\n",
              "      <td>22576442</td>\n",
              "      <td>1148712</td>\n",
              "      <td>5076670</td>\n",
              "      <td>4095066</td>\n",
              "      <td>5416981</td>\n",
              "      <td>8606221</td>\n",
              "      <td>30620004</td>\n",
              "      <td>4032787</td>\n",
              "      <td>...</td>\n",
              "      <td>0</td>\n",
              "      <td>0</td>\n",
              "      <td>0</td>\n",
              "      <td>0</td>\n",
              "      <td>0</td>\n",
              "      <td>0</td>\n",
              "      <td>0</td>\n",
              "      <td>0</td>\n",
              "      <td>0</td>\n",
              "      <td>0</td>\n",
              "    </tr>\n",
              "    <tr>\n",
              "      <th>36</th>\n",
              "      <td>9622</td>\n",
              "      <td>고정자본소모</td>\n",
              "      <td>4828393</td>\n",
              "      <td>355891</td>\n",
              "      <td>3818737</td>\n",
              "      <td>2140284</td>\n",
              "      <td>1109629</td>\n",
              "      <td>2750547</td>\n",
              "      <td>16098393</td>\n",
              "      <td>3204533</td>\n",
              "      <td>...</td>\n",
              "      <td>0</td>\n",
              "      <td>0</td>\n",
              "      <td>0</td>\n",
              "      <td>0</td>\n",
              "      <td>0</td>\n",
              "      <td>0</td>\n",
              "      <td>0</td>\n",
              "      <td>0</td>\n",
              "      <td>0</td>\n",
              "      <td>0</td>\n",
              "    </tr>\n",
              "    <tr>\n",
              "      <th>37</th>\n",
              "      <td>9630</td>\n",
              "      <td>생산세(보조금공제)</td>\n",
              "      <td>610044</td>\n",
              "      <td>-61826</td>\n",
              "      <td>11849443</td>\n",
              "      <td>1696934</td>\n",
              "      <td>870263</td>\n",
              "      <td>21163332</td>\n",
              "      <td>2687834</td>\n",
              "      <td>577467</td>\n",
              "      <td>...</td>\n",
              "      <td>0</td>\n",
              "      <td>0</td>\n",
              "      <td>0</td>\n",
              "      <td>0</td>\n",
              "      <td>0</td>\n",
              "      <td>0</td>\n",
              "      <td>0</td>\n",
              "      <td>0</td>\n",
              "      <td>0</td>\n",
              "      <td>0</td>\n",
              "    </tr>\n",
              "    <tr>\n",
              "      <th>38</th>\n",
              "      <td>9690</td>\n",
              "      <td>부가가치계</td>\n",
              "      <td>33258343</td>\n",
              "      <td>2137509</td>\n",
              "      <td>30650945</td>\n",
              "      <td>15349356</td>\n",
              "      <td>13370767</td>\n",
              "      <td>33886371</td>\n",
              "      <td>70835404</td>\n",
              "      <td>12459257</td>\n",
              "      <td>...</td>\n",
              "      <td>0</td>\n",
              "      <td>0</td>\n",
              "      <td>0</td>\n",
              "      <td>0</td>\n",
              "      <td>0</td>\n",
              "      <td>0</td>\n",
              "      <td>0</td>\n",
              "      <td>0</td>\n",
              "      <td>0</td>\n",
              "      <td>0</td>\n",
              "    </tr>\n",
              "    <tr>\n",
              "      <th>39</th>\n",
              "      <td>9790</td>\n",
              "      <td>총투입계</td>\n",
              "      <td>61371723</td>\n",
              "      <td>4125218</td>\n",
              "      <td>122147220</td>\n",
              "      <td>79329137</td>\n",
              "      <td>42914016</td>\n",
              "      <td>110150033</td>\n",
              "      <td>245383162</td>\n",
              "      <td>39678688</td>\n",
              "      <td>...</td>\n",
              "      <td>0</td>\n",
              "      <td>0</td>\n",
              "      <td>0</td>\n",
              "      <td>0</td>\n",
              "      <td>0</td>\n",
              "      <td>0</td>\n",
              "      <td>0</td>\n",
              "      <td>0</td>\n",
              "      <td>0</td>\n",
              "      <td>0</td>\n",
              "    </tr>\n",
              "  </tbody>\n",
              "</table>\n",
              "<p>40 rows × 47 columns</p>\n",
              "</div>\n",
              "      <button class=\"colab-df-convert\" onclick=\"convertToInteractive('df-fa196dd3-d16c-4ce6-887d-44b98f5d063e')\"\n",
              "              title=\"Convert this dataframe to an interactive table.\"\n",
              "              style=\"display:none;\">\n",
              "        \n",
              "  <svg xmlns=\"http://www.w3.org/2000/svg\" height=\"24px\"viewBox=\"0 0 24 24\"\n",
              "       width=\"24px\">\n",
              "    <path d=\"M0 0h24v24H0V0z\" fill=\"none\"/>\n",
              "    <path d=\"M18.56 5.44l.94 2.06.94-2.06 2.06-.94-2.06-.94-.94-2.06-.94 2.06-2.06.94zm-11 1L8.5 8.5l.94-2.06 2.06-.94-2.06-.94L8.5 2.5l-.94 2.06-2.06.94zm10 10l.94 2.06.94-2.06 2.06-.94-2.06-.94-.94-2.06-.94 2.06-2.06.94z\"/><path d=\"M17.41 7.96l-1.37-1.37c-.4-.4-.92-.59-1.43-.59-.52 0-1.04.2-1.43.59L10.3 9.45l-7.72 7.72c-.78.78-.78 2.05 0 2.83L4 21.41c.39.39.9.59 1.41.59.51 0 1.02-.2 1.41-.59l7.78-7.78 2.81-2.81c.8-.78.8-2.07 0-2.86zM5.41 20L4 18.59l7.72-7.72 1.47 1.35L5.41 20z\"/>\n",
              "  </svg>\n",
              "      </button>\n",
              "      \n",
              "  <style>\n",
              "    .colab-df-container {\n",
              "      display:flex;\n",
              "      flex-wrap:wrap;\n",
              "      gap: 12px;\n",
              "    }\n",
              "\n",
              "    .colab-df-convert {\n",
              "      background-color: #E8F0FE;\n",
              "      border: none;\n",
              "      border-radius: 50%;\n",
              "      cursor: pointer;\n",
              "      display: none;\n",
              "      fill: #1967D2;\n",
              "      height: 32px;\n",
              "      padding: 0 0 0 0;\n",
              "      width: 32px;\n",
              "    }\n",
              "\n",
              "    .colab-df-convert:hover {\n",
              "      background-color: #E2EBFA;\n",
              "      box-shadow: 0px 1px 2px rgba(60, 64, 67, 0.3), 0px 1px 3px 1px rgba(60, 64, 67, 0.15);\n",
              "      fill: #174EA6;\n",
              "    }\n",
              "\n",
              "    [theme=dark] .colab-df-convert {\n",
              "      background-color: #3B4455;\n",
              "      fill: #D2E3FC;\n",
              "    }\n",
              "\n",
              "    [theme=dark] .colab-df-convert:hover {\n",
              "      background-color: #434B5C;\n",
              "      box-shadow: 0px 1px 3px 1px rgba(0, 0, 0, 0.15);\n",
              "      filter: drop-shadow(0px 1px 2px rgba(0, 0, 0, 0.3));\n",
              "      fill: #FFFFFF;\n",
              "    }\n",
              "  </style>\n",
              "\n",
              "      <script>\n",
              "        const buttonEl =\n",
              "          document.querySelector('#df-fa196dd3-d16c-4ce6-887d-44b98f5d063e button.colab-df-convert');\n",
              "        buttonEl.style.display =\n",
              "          google.colab.kernel.accessAllowed ? 'block' : 'none';\n",
              "\n",
              "        async function convertToInteractive(key) {\n",
              "          const element = document.querySelector('#df-fa196dd3-d16c-4ce6-887d-44b98f5d063e');\n",
              "          const dataTable =\n",
              "            await google.colab.kernel.invokeFunction('convertToInteractive',\n",
              "                                                     [key], {});\n",
              "          if (!dataTable) return;\n",
              "\n",
              "          const docLinkHtml = 'Like what you see? Visit the ' +\n",
              "            '<a target=\"_blank\" href=https://colab.research.google.com/notebooks/data_table.ipynb>data table notebook</a>'\n",
              "            + ' to learn more about interactive tables.';\n",
              "          element.innerHTML = '';\n",
              "          dataTable['output_type'] = 'display_data';\n",
              "          await google.colab.output.renderOutput(dataTable, element);\n",
              "          const docLink = document.createElement('div');\n",
              "          docLink.innerHTML = docLinkHtml;\n",
              "          element.appendChild(docLink);\n",
              "        }\n",
              "      </script>\n",
              "    </div>\n",
              "  </div>\n",
              "  "
            ]
          },
          "metadata": {},
          "execution_count": 801
        }
      ]
    },
    {
      "cell_type": "code",
      "source": [
        "S_t_1 = Tot_cst_10.iloc[1:41,2:].to_numpy() # 10년 총거래표 numpy로 숫자만 불러오기(시간 t-1)\n",
        "I_t_1 = Imp_cst_10.iloc[1:38,2:].to_numpy() # 10년 수입거래표 numpy로 숫자만 불러오기\n",
        "\n",
        "S_t = Tot_cst_15.iloc[1:41,2:].to_numpy() # 15년 총거래표 numpy로 숫자만 불러오기(시간 t)\n",
        "I_t = Imp_cst_15.iloc[1:38,2:].to_numpy() # 15년 수입거래표 numpy로 숫자만 불러오기"
      ],
      "metadata": {
        "id": "YINcR019EBlx"
      },
      "execution_count": 802,
      "outputs": []
    },
    {
      "cell_type": "code",
      "source": [
        "S_t_1 = S_t_1.astype(float)\n",
        "I_t_1 = I_t_1.astype(float)\n",
        "S_t = S_t.astype(float)\n",
        "I_t = I_t.astype(float)"
      ],
      "metadata": {
        "id": "Ir7eNUdhb7D3"
      },
      "execution_count": 803,
      "outputs": []
    },
    {
      "cell_type": "code",
      "source": [
        "S_t = np.concatenate((S_t[:37,],np.zeros((1,45)), S_t[37:39,] ), axis=0)  # 2015년 부가가치 조정항을 0으로 삽입(2010년과 동일한 포맷을 유지하기 위함)\n",
        "print(S_t.shape)\n",
        "print(S_t_1.shape)"
      ],
      "metadata": {
        "id": "y8dIDFxvGyjf",
        "outputId": "d714df5b-9a82-43d7-b93b-406191ae3788",
        "colab": {
          "base_uri": "https://localhost:8080/"
        }
      },
      "execution_count": 804,
      "outputs": [
        {
          "output_type": "stream",
          "name": "stdout",
          "text": [
            "(40, 45)\n",
            "(40, 45)\n"
          ]
        }
      ]
    },
    {
      "cell_type": "code",
      "source": [
        "TNae_t_1 = S_t_1[0:32,0:32]  # 내생항목 32x32\n",
        "TNae_t = S_t[0:32,0:32]"
      ],
      "metadata": {
        "id": "GWivqhPhL5T7"
      },
      "execution_count": 805,
      "outputs": []
    },
    {
      "cell_type": "code",
      "source": [
        "INae_t_1 = I_t_1[0:32,0:32]  # 수입 내생항목 32x32\n",
        "INae_t = I_t[0:32,0:32]"
      ],
      "metadata": {
        "id": "7-RxwIZaeYt0"
      },
      "execution_count": 806,
      "outputs": []
    },
    {
      "cell_type": "code",
      "source": [
        "DNae_t_1 = TNae_t_1-INae_t_1  # 국산 내생항목 32x32\n",
        "DNae_t = TNae_t-INae_t"
      ],
      "metadata": {
        "id": "RCdnGfOpeYwS"
      },
      "execution_count": 807,
      "outputs": []
    },
    {
      "cell_type": "code",
      "source": [
        "Tim_t_1 = I_t_1[0:32,41]  # 총수입벡터\n",
        "Tim_t = I_t[0:32,41]\n",
        "print(Tim_t)"
      ],
      "metadata": {
        "colab": {
          "base_uri": "https://localhost:8080/"
        },
        "id": "iJUj_ANLeYyy",
        "outputId": "f3a7f9bd-74ac-419c-d550-8470d762a4ef"
      },
      "execution_count": 808,
      "outputs": [
        {
          "output_type": "stream",
          "name": "stdout",
          "text": [
            "[1.21579890e+07 1.12196704e+08 2.61865210e+07 2.84001580e+07\n",
            " 7.98417200e+06 2.78711940e+07 6.29500840e+07 7.21862300e+06\n",
            " 4.03574990e+07 8.33782900e+06 8.84610630e+07 1.84715310e+07\n",
            " 3.88073940e+07 2.98678270e+07 7.07513700e+06 9.85781400e+06\n",
            " 1.05200000e+05 2.12910000e+04 5.93940000e+04 3.39151100e+06\n",
            " 2.34327610e+07 1.35583860e+07 5.93379800e+06 3.13659700e+06\n",
            " 1.78482900e+06 2.39597020e+07 1.37159760e+07 6.05640000e+05\n",
            " 2.32874500e+06 7.76316000e+05 4.36135000e+06 6.29328000e+05]\n"
          ]
        }
      ]
    },
    {
      "cell_type": "code",
      "source": [
        "Im_t_1 = I_t_1[0:32,32]  # 중간재수입벡터\n",
        "Im_t = I_t[0:32,32]"
      ],
      "metadata": {
        "id": "MFuhXJf7eY05"
      },
      "execution_count": 809,
      "outputs": []
    },
    {
      "cell_type": "code",
      "source": [
        "If_t_1 = I_t_1[0:32,40]  # 최종재수입벡터\n",
        "If_t = I_t[0:32,40]\n",
        "If_t"
      ],
      "metadata": {
        "colab": {
          "base_uri": "https://localhost:8080/"
        },
        "id": "pPQ8aPECeY3J",
        "outputId": "be16755f-6ac2-4688-b7b6-551da5f1b088"
      },
      "execution_count": 810,
      "outputs": [
        {
          "output_type": "execute_result",
          "data": {
            "text/plain": [
              "array([ 2.8416750e+06, -7.8991000e+04,  1.1200552e+07,  1.4576720e+07,\n",
              "        4.1610700e+05,  1.4401290e+06,  5.7745000e+06,  2.4179300e+05,\n",
              "       -3.7573700e+05,  1.4680720e+06,  2.1654896e+07,  4.4760950e+06,\n",
              "        2.1956549e+07,  2.0812067e+07,  5.1022790e+06,  8.0000000e+01,\n",
              "        6.5851000e+04,  1.6766000e+04,  1.6539000e+04,  0.0000000e+00,\n",
              "        6.2468770e+06,  1.1680866e+07,  2.2671430e+06,  7.0473700e+05,\n",
              "        5.8989300e+05,  5.9210550e+06,  3.4557500e+05,  0.0000000e+00,\n",
              "        2.3221480e+06,  7.6693800e+05,  4.0404570e+06,  2.6823500e+05])"
            ]
          },
          "metadata": {},
          "execution_count": 810
        }
      ]
    },
    {
      "cell_type": "code",
      "source": [
        "CE_t_1 = S_t_1[0:32,33:35]  # 최종수요-소비\n",
        "CE_t_1 = CE_t_1.sum(axis=1)\n",
        "CE_t = S_t[0:32,33:35]\n",
        "CE_t = CE_t.sum(axis=1)\n",
        "CE_t"
      ],
      "metadata": {
        "colab": {
          "base_uri": "https://localhost:8080/"
        },
        "id": "PywPpOqreY5Q",
        "outputId": "ad059121-4b0e-41c0-90cb-db222c9bd129"
      },
      "execution_count": 811,
      "outputs": [
        {
          "output_type": "execute_result",
          "data": {
            "text/plain": [
              "array([ 1.70074710e+07,  1.30510000e+04,  5.67364800e+07,  3.03601150e+07,\n",
              "        1.25719400e+06,  1.47332720e+07,  8.10583500e+06,  2.42128000e+05,\n",
              "       -5.56322000e+05,  1.32221100e+06,  2.49124460e+07,  5.26508800e+06,\n",
              "        1.41071400e+06,  3.12474140e+07,  7.14470000e+06,  2.35890000e+04,\n",
              "        1.77485660e+07,  4.58113500e+06,  0.00000000e+00,  7.89577470e+07,\n",
              "        2.58682220e+07,  8.28140600e+07,  3.25310830e+07,  6.55356020e+07,\n",
              "        1.14778476e+08,  3.13824500e+06,  3.89484400e+06,  1.20999817e+08,\n",
              "        1.16303437e+08,  1.12876231e+08,  3.54361450e+07,  4.02113240e+07])"
            ]
          },
          "metadata": {},
          "execution_count": 811
        }
      ]
    },
    {
      "cell_type": "code",
      "source": [
        "IV_t_1 = S_t_1[0:32,35:39 ] # 최종수요-투자\n",
        "IV_t_1 = IV_t_1.sum(axis=1)\n",
        "IV_t = S_t[0:32,35:39]\n",
        "IV_t = IV_t.sum(axis=1)\n",
        "IV_t"
      ],
      "metadata": {
        "colab": {
          "base_uri": "https://localhost:8080/"
        },
        "id": "Ix970H04eY7n",
        "outputId": "bf614320-7c5a-44ad-afe4-8c14c428a8f3"
      },
      "execution_count": 812,
      "outputs": [
        {
          "output_type": "execute_result",
          "data": {
            "text/plain": [
              "array([ 1.65529900e+06, -1.24793000e+05,  5.54030000e+04,  1.12219700e+06,\n",
              "        1.02852000e+05,  5.12111000e+05, -6.17312000e+05, -1.78900000e+04,\n",
              "       -4.02595400e+06,  6.69108000e+06,  2.62309760e+07,  1.16269420e+07,\n",
              "        5.38605670e+07,  3.80662730e+07,  4.75978500e+06,  0.00000000e+00,\n",
              "        0.00000000e+00,  0.00000000e+00,  2.12069998e+08,  1.33089420e+07,\n",
              "        3.93858000e+05,  0.00000000e+00,  2.83464580e+07,  0.00000000e+00,\n",
              "        2.60254350e+07,  6.90540260e+07,  0.00000000e+00,  0.00000000e+00,\n",
              "        0.00000000e+00,  0.00000000e+00,  5.05281000e+05,  0.00000000e+00])"
            ]
          },
          "metadata": {},
          "execution_count": 812
        }
      ]
    },
    {
      "cell_type": "code",
      "source": [
        "Fd_sm_t_1 = S_t_1[0:32,40] # 최종수요합계\n",
        "Fd_sm_t_1 \n",
        "Fd_sm_t = S_t[0:32,40]\n",
        "Fd_sm_t"
      ],
      "metadata": {
        "colab": {
          "base_uri": "https://localhost:8080/"
        },
        "id": "B65fDULHCBh8",
        "outputId": "51776066-e60c-460d-bbee-374cb522f7fd"
      },
      "execution_count": 813,
      "outputs": [
        {
          "output_type": "execute_result",
          "data": {
            "text/plain": [
              "array([1.93498970e+07, 1.74580000e+04, 6.43281690e+07, 6.65218080e+07,\n",
              "       4.95417300e+06, 5.55122180e+07, 9.03674910e+07, 3.11332200e+06,\n",
              "       3.49350060e+07, 1.99039860e+07, 2.25336750e+08, 4.64729230e+07,\n",
              "       1.03176542e+08, 1.98974186e+08, 1.47724800e+07, 2.81185800e+06,\n",
              "       1.78652310e+07, 4.96418000e+06, 2.12235059e+08, 1.16400060e+08,\n",
              "       6.42170460e+07, 8.98562800e+07, 6.64051400e+07, 6.83946120e+07,\n",
              "       1.41233676e+08, 8.80937400e+07, 1.26793520e+07, 1.21037382e+08,\n",
              "       1.16474589e+08, 1.13246544e+08, 3.69786350e+07, 4.08232380e+07])"
            ]
          },
          "metadata": {},
          "execution_count": 813
        }
      ]
    },
    {
      "cell_type": "code",
      "source": [
        "Ex_t_1 = S_t_1[0:32,39] # 수출\n",
        "Ex_t_1\n",
        "Ex_t = S_t[0:32,39]\n",
        "Ex_t"
      ],
      "metadata": {
        "colab": {
          "base_uri": "https://localhost:8080/"
        },
        "id": "iA373XRaCBke",
        "outputId": "b76d2476-b0a2-4cbf-9759-874abb8a477c"
      },
      "execution_count": 814,
      "outputs": [
        {
          "output_type": "execute_result",
          "data": {
            "text/plain": [
              "array([6.87127000e+05, 1.29200000e+05, 7.53628600e+06, 3.50394960e+07,\n",
              "       3.59412700e+06, 4.02668350e+07, 8.28789680e+07, 2.88908400e+06,\n",
              "       3.95172820e+07, 1.18906950e+07, 1.74193328e+08, 2.95808930e+07,\n",
              "       4.79052610e+07, 1.29660499e+08, 2.86799500e+06, 2.78826900e+06,\n",
              "       1.16665000e+05, 3.83045000e+05, 1.65061000e+05, 2.41333710e+07,\n",
              "       3.79549660e+07, 7.04222000e+06, 5.52759900e+06, 2.85901000e+06,\n",
              "       4.29765000e+05, 1.59014690e+07, 8.78450800e+06, 3.75650000e+04,\n",
              "       1.71152000e+05, 3.70313000e+05, 1.03720900e+06, 6.11914000e+05])"
            ]
          },
          "metadata": {},
          "execution_count": 814
        }
      ]
    },
    {
      "cell_type": "code",
      "source": [
        "Df_t_1 = Fd_sm_t_1 - Ex_t_1 #소비+투자\n",
        "Df_t = Fd_sm_t - Ex_t\n",
        "Df_t"
      ],
      "metadata": {
        "colab": {
          "base_uri": "https://localhost:8080/"
        },
        "id": "-TSTMCf-CBm-",
        "outputId": "f2b97fea-924d-443c-e279-aa17c37d2666"
      },
      "execution_count": 815,
      "outputs": [
        {
          "output_type": "execute_result",
          "data": {
            "text/plain": [
              "array([ 1.86627700e+07, -1.11742000e+05,  5.67918830e+07,  3.14823120e+07,\n",
              "        1.36004600e+06,  1.52453830e+07,  7.48852300e+06,  2.24238000e+05,\n",
              "       -4.58227600e+06,  8.01329100e+06,  5.11434220e+07,  1.68920300e+07,\n",
              "        5.52712810e+07,  6.93136870e+07,  1.19044850e+07,  2.35890000e+04,\n",
              "        1.77485660e+07,  4.58113500e+06,  2.12069998e+08,  9.22666890e+07,\n",
              "        2.62620800e+07,  8.28140600e+07,  6.08775410e+07,  6.55356020e+07,\n",
              "        1.40803911e+08,  7.21922710e+07,  3.89484400e+06,  1.20999817e+08,\n",
              "        1.16303437e+08,  1.12876231e+08,  3.59414260e+07,  4.02113240e+07])"
            ]
          },
          "metadata": {},
          "execution_count": 815
        }
      ]
    },
    {
      "cell_type": "code",
      "source": [
        "CE_sm_t_1 = CE_t_1.sum(axis=0) # 소비합계\n",
        "CE_sm_t = CE_t.sum(axis=0)\n",
        "\n",
        "IV_sm_t_1 = IV_t_1.sum(axis=0) # 투자합계\n",
        "IV_sm_t = IV_t.sum(axis=0)\n",
        "\n",
        "Ex_sm_t_1 = Ex_t_1.sum(axis=0) # 수출합계\n",
        "Ex_sm_t = Ex_t.sum(axis=0)\n",
        "\n",
        "print('2010년 소비합계 : ', CE_sm_t_1)\n",
        "print('2015년 소비합계 : ', CE_sm_t)\n",
        "\n",
        "print('2010년 투자합계 : ', IV_sm_t_1)\n",
        "print('2015년 투자합계 : ', IV_sm_t)\n",
        "\n",
        "print('2010년 수출합계 : ', Ex_sm_t_1)\n",
        "print('2015년 수출합계 : ', Ex_sm_t)\n"
      ],
      "metadata": {
        "colab": {
          "base_uri": "https://localhost:8080/"
        },
        "id": "bsUg2RmYELiu",
        "outputId": "5f0a061d-0c18-4ec8-806f-04954ca471f3"
      },
      "execution_count": 816,
      "outputs": [
        {
          "output_type": "stream",
          "name": "stdout",
          "text": [
            "2010년 소비합계 :  922814206.0\n",
            "2015년 소비합계 :  1054900320.0\n",
            "2010년 투자합계 :  450484823.0\n",
            "2015년 투자합계 :  489601534.0\n",
            "2010년 수출합계 :  535858572.0\n",
            "2015년 수출합계 :  716951177.0\n"
          ]
        }
      ]
    },
    {
      "cell_type": "code",
      "source": [
        "GCE_1 = ((CE_sm_t - CE_sm_t_1)/ CE_sm_t_1) # 소비증가율\n",
        "GCE_2 = GCE_1*CE_t_1 # 규모효과\n",
        "GCE_3 = (CE_t-CE_t_1) - GCE_2 # 구조효과"
      ],
      "metadata": {
        "id": "44Dv7WlvELla"
      },
      "execution_count": 817,
      "outputs": []
    },
    {
      "cell_type": "code",
      "source": [
        "GIV_1 = ((IV_sm_t - IV_sm_t_1)/ IV_sm_t_1) # 투자증가율\n",
        "GIV_2 = GIV_1*IV_t_1 # 규모효과\n",
        "GIV_3 = (IV_t-IV_t_1) - GIV_2 # 구조효과"
      ],
      "metadata": {
        "id": "kUvW8c4mELn3"
      },
      "execution_count": 818,
      "outputs": []
    },
    {
      "cell_type": "code",
      "source": [
        "GEx_1 = ((Ex_sm_t - Ex_sm_t_1)/ Ex_sm_t_1) # 수출증가율\n",
        "GEx_2 = GEx_1*Ex_t_1 # 규모효과\n",
        "GEx_3 = (Ex_t-Ex_t_1) - GEx_2 # 구조효과"
      ],
      "metadata": {
        "id": "HOEfWHa4ELqN"
      },
      "execution_count": 819,
      "outputs": []
    },
    {
      "cell_type": "code",
      "source": [
        "Ct_t_1 = S_t_1[39,0:32].T.reshape([32,1])  # 총산출액\n",
        "Ct_t = S_t[39,0:32].T.reshape([32,1])\n",
        "Ct_t.shape"
      ],
      "metadata": {
        "colab": {
          "base_uri": "https://localhost:8080/"
        },
        "id": "iZ80_uBiELtF",
        "outputId": "326318b8-448c-4c73-82b4-80599531fc3f"
      },
      "execution_count": 820,
      "outputs": [
        {
          "output_type": "execute_result",
          "data": {
            "text/plain": [
              "(32, 1)"
            ]
          },
          "metadata": {},
          "execution_count": 820
        }
      ]
    },
    {
      "cell_type": "code",
      "source": [
        "Ct_t_1_sm = Ct_t_1.sum(axis=0)  #총산출계\n",
        "Ct_t_sm = Ct_t.sum(axis=0)"
      ],
      "metadata": {
        "id": "P83r7vKxELvb"
      },
      "execution_count": 821,
      "outputs": []
    },
    {
      "cell_type": "code",
      "source": [
        "V_t_1 = S_t_1[39,0:32].T - S_t_1[32,0:32].T # 부가가치계벡터 = 총투입액 - 중간투입계\n",
        "V_t = S_t[39,0:32].T - S_t[32,0:32].T\n",
        "V_t"
      ],
      "metadata": {
        "colab": {
          "base_uri": "https://localhost:8080/"
        },
        "id": "JNBtafCsELyF",
        "outputId": "1bde1bd8-6376-4e0f-8dab-7c8a3b203d22"
      },
      "execution_count": 822,
      "outputs": [
        {
          "output_type": "execute_result",
          "data": {
            "text/plain": [
              "array([3.32583430e+07, 2.13750900e+06, 3.06509450e+07, 1.53493560e+07,\n",
              "       1.33707670e+07, 3.38863710e+07, 7.08354040e+07, 1.24592570e+07,\n",
              "       2.51826740e+07, 3.59686280e+07, 9.39155960e+07, 2.91773440e+07,\n",
              "       3.67635550e+07, 4.96352760e+07, 5.63106600e+06, 3.00762710e+07,\n",
              "       3.41388530e+07, 1.02636960e+07, 9.35316660e+07, 1.35380386e+08,\n",
              "       5.48812560e+07, 4.55452370e+07, 7.30168760e+07, 9.22300980e+07,\n",
              "       1.46396975e+08, 9.50089130e+07, 5.34343270e+07, 9.54910040e+07,\n",
              "       8.04209980e+07, 6.31431000e+07, 2.22224580e+07, 2.40464630e+07])"
            ]
          },
          "metadata": {},
          "execution_count": 822
        }
      ]
    },
    {
      "cell_type": "code",
      "source": [
        "AV_t_1 = V_t_1/Ct_t_1 # 부가가치계수\n",
        "AV_t = V_t/Ct_t "
      ],
      "metadata": {
        "id": "0J-f-kPxEL0Z"
      },
      "execution_count": 823,
      "outputs": []
    },
    {
      "cell_type": "code",
      "source": [
        "Ct_mat_t_1 = np.tile(Ct_t_1, reps=[1,32])   # Ct벡터를 반복해여 행렬(32x32)로 만듬\n",
        "Ct_mat_t = np.tile(Ct_t, reps=[1,32])\n",
        "Ct_mat_t_1"
      ],
      "metadata": {
        "colab": {
          "base_uri": "https://localhost:8080/"
        },
        "id": "9dGIXvcTEL3B",
        "outputId": "7fba9299-e163-427e-f33c-8bbc861cd122"
      },
      "execution_count": 824,
      "outputs": [
        {
          "output_type": "execute_result",
          "data": {
            "text/plain": [
              "array([[5.9105417e+07, 5.9105417e+07, 5.9105417e+07, ..., 5.9105417e+07,\n",
              "        5.9105417e+07, 5.9105417e+07],\n",
              "       [3.8049510e+06, 3.8049510e+06, 3.8049510e+06, ..., 3.8049510e+06,\n",
              "        3.8049510e+06, 3.8049510e+06],\n",
              "       [1.0666371e+08, 1.0666371e+08, 1.0666371e+08, ..., 1.0666371e+08,\n",
              "        1.0666371e+08, 1.0666371e+08],\n",
              "       ...,\n",
              "       [9.1534755e+07, 9.1534755e+07, 9.1534755e+07, ..., 9.1534755e+07,\n",
              "        9.1534755e+07, 9.1534755e+07],\n",
              "       [4.0202642e+07, 4.0202642e+07, 4.0202642e+07, ..., 4.0202642e+07,\n",
              "        4.0202642e+07, 4.0202642e+07],\n",
              "       [4.4919040e+07, 4.4919040e+07, 4.4919040e+07, ..., 4.4919040e+07,\n",
              "        4.4919040e+07, 4.4919040e+07]])"
            ]
          },
          "metadata": {},
          "execution_count": 824
        }
      ]
    },
    {
      "cell_type": "code",
      "source": [
        "AS_t_1 = TNae_t_1/Ct_mat_t_1.T # 총투입계수표\n",
        "AS_t = TNae_t/Ct_mat_t.T"
      ],
      "metadata": {
        "id": "NCE7a-1dgP2f"
      },
      "execution_count": 825,
      "outputs": []
    },
    {
      "cell_type": "code",
      "source": [
        "AD_t_1 = DNae_t_1/Ct_mat_t_1.T # 국산투입계수표\n",
        "AD_t = DNae_t/Ct_mat_t.T"
      ],
      "metadata": {
        "id": "tWvEJKQJi9Lt"
      },
      "execution_count": 826,
      "outputs": []
    },
    {
      "cell_type": "code",
      "source": [
        "AI_t_1 = AS_t_1-AD_t_1 # 수입투입계수표\n",
        "AI_t = AS_t-AD_t"
      ],
      "metadata": {
        "id": "YaT-6Loqi9OR"
      },
      "execution_count": 827,
      "outputs": []
    },
    {
      "cell_type": "code",
      "source": [
        "Fd_I_d_t_1 = If_t_1/Df_t_1 # 수입최종수요/(소비+투자)\n",
        "Fd_I_d_t_1 = np.diag(Fd_I_d_t_1)\n",
        "\n",
        "Fd_I_d_t = If_t/Df_t \n",
        "Fd_I_d_t = np.diag(Fd_I_d_t)\n",
        "# Fd_I_D_t = If_t/Df_t"
      ],
      "metadata": {
        "id": "w-ShpkV7i9QY"
      },
      "execution_count": 828,
      "outputs": []
    },
    {
      "cell_type": "code",
      "source": [
        "Lf_t_1 = np.linalg.inv(np.eye(32) - AD_t_1) # 생산유발계수\n",
        "Lf_t = np.linalg.inv(np.eye(32) - AD_t)"
      ],
      "metadata": {
        "id": "y5HiakVIi9Sk"
      },
      "execution_count": 829,
      "outputs": []
    },
    {
      "cell_type": "code",
      "source": [
        "Amm_t_1 = AI_t_1/AS_t_1 #조정항목\n",
        "Amm_t_1 = Amm_t_1*AS_t\n",
        "\n",
        "Amm_t = AI_t/AS_t \n",
        "Amm_t = Amm_t*AS_t_1\n"
      ],
      "metadata": {
        "id": "-62Wibedi9U7",
        "outputId": "5dcf317c-d768-4b99-fa03-fb8b9397c08e",
        "colab": {
          "base_uri": "https://localhost:8080/"
        }
      },
      "execution_count": 836,
      "outputs": [
        {
          "output_type": "stream",
          "name": "stderr",
          "text": [
            "<ipython-input-836-963d965303b2>:1: RuntimeWarning: invalid value encountered in true_divide\n",
            "  Amm_t_1 = AI_t_1/AS_t_1 #조정항목\n",
            "<ipython-input-836-963d965303b2>:4: RuntimeWarning: invalid value encountered in true_divide\n",
            "  Amm_t = AI_t/AS_t\n"
          ]
        }
      ]
    },
    {
      "cell_type": "code",
      "source": [
        "AA = AS_t - AS_t_1 #투입계수변화"
      ],
      "metadata": {
        "id": "oaRIccJKinqc"
      },
      "execution_count": 838,
      "outputs": []
    },
    {
      "cell_type": "markdown",
      "source": [
        "#### 산출액성장요인분해"
      ],
      "metadata": {
        "id": "LtkcJ9Pasrzo"
      }
    },
    {
      "cell_type": "code",
      "source": [],
      "metadata": {
        "id": "muZj3J5WtwKk"
      },
      "execution_count": null,
      "outputs": []
    },
    {
      "cell_type": "code",
      "source": [
        "TC_1 = ((Lf_t@(np.eye(32)-Fd_I_d_t))@GCE_2).reshape([32,1])  # 소비규모증가효과\n",
        "TC_11 = ((Lf_t@(np.eye(32)-Fd_I_d_t))@GCE_3).reshape([32,1]) # 소비구조증가효과\n",
        "TCTD = TC_1 + TC_11\n",
        "TC_111 = np.concatenate((TCTD, TC_1, TC_11), axis=1)\n",
        "# TC_111"
      ],
      "metadata": {
        "id": "KMvKjFJ0q19V"
      },
      "execution_count": 857,
      "outputs": []
    },
    {
      "cell_type": "code",
      "source": [
        "TI_1 = ((Lf_t@(np.eye(32)-Fd_I_d_t))@GIV_2).reshape([32,1])  # 소비규모증가효과\n",
        "TI_11 = ((Lf_t@(np.eye(32)-Fd_I_d_t))@GIV_3).reshape([32,1]) # 소비구조증가효과\n",
        "TITD = TI_1 + TI_11\n",
        "TI_111 = np.concatenate((TITD, TI_1, TI_11), axis=1)"
      ],
      "metadata": {
        "id": "WkSQSCLhul8x"
      },
      "execution_count": 858,
      "outputs": []
    },
    {
      "cell_type": "code",
      "source": [],
      "metadata": {
        "id": "Wmq1H3tuumAB"
      },
      "execution_count": null,
      "outputs": []
    },
    {
      "cell_type": "code",
      "source": [
        "TC_1.shape"
      ],
      "metadata": {
        "id": "PgRj1lk4tyya",
        "outputId": "8c6b77ef-4d93-42c1-b673-35c60b5ea9c2",
        "colab": {
          "base_uri": "https://localhost:8080/"
        }
      },
      "execution_count": 851,
      "outputs": [
        {
          "output_type": "execute_result",
          "data": {
            "text/plain": [
              "(32, 1)"
            ]
          },
          "metadata": {},
          "execution_count": 851
        }
      ]
    },
    {
      "cell_type": "code",
      "source": [
        "TCTD = TC"
      ],
      "metadata": {
        "id": "8Mr7oaogtKuC"
      },
      "execution_count": null,
      "outputs": []
    }
  ]
}