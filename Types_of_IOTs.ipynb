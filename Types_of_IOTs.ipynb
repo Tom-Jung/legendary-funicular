{
  "nbformat": 4,
  "nbformat_minor": 0,
  "metadata": {
    "colab": {
      "provenance": [],
      "mount_file_id": "https://github.com/Tom-Jung/legendary-funicular/blob/main/IO_tables.ipynb",
      "authorship_tag": "ABX9TyPAiSJk77gwkes1X6k8Np1F",
      "include_colab_link": true
    },
    "kernelspec": {
      "name": "python3",
      "display_name": "Python 3"
    },
    "language_info": {
      "name": "python"
    }
  },
  "cells": [
    {
      "cell_type": "markdown",
      "metadata": {
        "id": "view-in-github",
        "colab_type": "text"
      },
      "source": [
        "<a href=\"https://colab.research.google.com/github/Tom-Jung/legendary-funicular/blob/main/Types_of_IOTs.ipynb\" target=\"_parent\"><img src=\"https://colab.research.google.com/assets/colab-badge.svg\" alt=\"Open In Colab\"/></a>"
      ]
    },
    {
      "cell_type": "code",
      "source": [
        "import numpy as np   # Numpy import\n",
        "import pandas as pd  # Pandas import"
      ],
      "metadata": {
        "id": "TR7JvW8CxBFT"
      },
      "execution_count": 170,
      "outputs": []
    },
    {
      "cell_type": "markdown",
      "source": [
        "## 산업연관표의 종류\n"
      ],
      "metadata": {
        "id": "Ja1OCBr1_w2z"
      }
    },
    {
      "cell_type": "markdown",
      "source": [
        "#### Github에 저장되어 있는 연습용 3부문 거래표 불러오기"
      ],
      "metadata": {
        "id": "YtzqobQWrRbM"
      }
    },
    {
      "cell_type": "code",
      "source": [
        "url_total = \"https://raw.githubusercontent.com/Tom-Jung/legendary-funicular/main/Total_3_secs_one_va.csv\"  # 총거래표\n",
        "Tot = pd.read_csv(url_total)"
      ],
      "metadata": {
        "id": "1-cypvlPA0Tu"
      },
      "execution_count": 171,
      "outputs": []
    },
    {
      "cell_type": "code",
      "source": [
        "Tot  # 총거래표 불러오기 확인"
      ],
      "metadata": {
        "colab": {
          "base_uri": "https://localhost:8080/",
          "height": 238
        },
        "id": "rtqZunX0walG",
        "outputId": "fb644e7f-fcfa-4ad7-f7d6-26388463294e"
      },
      "execution_count": 172,
      "outputs": [
        {
          "output_type": "execute_result",
          "data": {
            "text/plain": [
              "      부문  농산품  공산품  서비스  중간수요계   소비  투자  수출  최종수요계  총수요계  총산출액  수입  총공급액\n",
              "0    농산품    2   14    4     20    3   3   2      8    28    14  14    28\n",
              "1    공산품    5   94   39    138   32  19  73    124   262   203  59   262\n",
              "2    서비스    2   28   58     88  106  47  15    168   256   244  12   256\n",
              "3  중간투입계    9  136  101    246  141  69  90    300   546   461  85   546\n",
              "4   부가가치    5   67  143    215    0   0   0      0     0     0   0     0\n",
              "5   총투입계   14  203  244    461    0   0   0      0     0     0   0     0"
            ],
            "text/html": [
              "\n",
              "  <div id=\"df-815bad1d-b2fb-4950-b300-acbe41ae60f9\">\n",
              "    <div class=\"colab-df-container\">\n",
              "      <div>\n",
              "<style scoped>\n",
              "    .dataframe tbody tr th:only-of-type {\n",
              "        vertical-align: middle;\n",
              "    }\n",
              "\n",
              "    .dataframe tbody tr th {\n",
              "        vertical-align: top;\n",
              "    }\n",
              "\n",
              "    .dataframe thead th {\n",
              "        text-align: right;\n",
              "    }\n",
              "</style>\n",
              "<table border=\"1\" class=\"dataframe\">\n",
              "  <thead>\n",
              "    <tr style=\"text-align: right;\">\n",
              "      <th></th>\n",
              "      <th>부문</th>\n",
              "      <th>농산품</th>\n",
              "      <th>공산품</th>\n",
              "      <th>서비스</th>\n",
              "      <th>중간수요계</th>\n",
              "      <th>소비</th>\n",
              "      <th>투자</th>\n",
              "      <th>수출</th>\n",
              "      <th>최종수요계</th>\n",
              "      <th>총수요계</th>\n",
              "      <th>총산출액</th>\n",
              "      <th>수입</th>\n",
              "      <th>총공급액</th>\n",
              "    </tr>\n",
              "  </thead>\n",
              "  <tbody>\n",
              "    <tr>\n",
              "      <th>0</th>\n",
              "      <td>농산품</td>\n",
              "      <td>2</td>\n",
              "      <td>14</td>\n",
              "      <td>4</td>\n",
              "      <td>20</td>\n",
              "      <td>3</td>\n",
              "      <td>3</td>\n",
              "      <td>2</td>\n",
              "      <td>8</td>\n",
              "      <td>28</td>\n",
              "      <td>14</td>\n",
              "      <td>14</td>\n",
              "      <td>28</td>\n",
              "    </tr>\n",
              "    <tr>\n",
              "      <th>1</th>\n",
              "      <td>공산품</td>\n",
              "      <td>5</td>\n",
              "      <td>94</td>\n",
              "      <td>39</td>\n",
              "      <td>138</td>\n",
              "      <td>32</td>\n",
              "      <td>19</td>\n",
              "      <td>73</td>\n",
              "      <td>124</td>\n",
              "      <td>262</td>\n",
              "      <td>203</td>\n",
              "      <td>59</td>\n",
              "      <td>262</td>\n",
              "    </tr>\n",
              "    <tr>\n",
              "      <th>2</th>\n",
              "      <td>서비스</td>\n",
              "      <td>2</td>\n",
              "      <td>28</td>\n",
              "      <td>58</td>\n",
              "      <td>88</td>\n",
              "      <td>106</td>\n",
              "      <td>47</td>\n",
              "      <td>15</td>\n",
              "      <td>168</td>\n",
              "      <td>256</td>\n",
              "      <td>244</td>\n",
              "      <td>12</td>\n",
              "      <td>256</td>\n",
              "    </tr>\n",
              "    <tr>\n",
              "      <th>3</th>\n",
              "      <td>중간투입계</td>\n",
              "      <td>9</td>\n",
              "      <td>136</td>\n",
              "      <td>101</td>\n",
              "      <td>246</td>\n",
              "      <td>141</td>\n",
              "      <td>69</td>\n",
              "      <td>90</td>\n",
              "      <td>300</td>\n",
              "      <td>546</td>\n",
              "      <td>461</td>\n",
              "      <td>85</td>\n",
              "      <td>546</td>\n",
              "    </tr>\n",
              "    <tr>\n",
              "      <th>4</th>\n",
              "      <td>부가가치</td>\n",
              "      <td>5</td>\n",
              "      <td>67</td>\n",
              "      <td>143</td>\n",
              "      <td>215</td>\n",
              "      <td>0</td>\n",
              "      <td>0</td>\n",
              "      <td>0</td>\n",
              "      <td>0</td>\n",
              "      <td>0</td>\n",
              "      <td>0</td>\n",
              "      <td>0</td>\n",
              "      <td>0</td>\n",
              "    </tr>\n",
              "    <tr>\n",
              "      <th>5</th>\n",
              "      <td>총투입계</td>\n",
              "      <td>14</td>\n",
              "      <td>203</td>\n",
              "      <td>244</td>\n",
              "      <td>461</td>\n",
              "      <td>0</td>\n",
              "      <td>0</td>\n",
              "      <td>0</td>\n",
              "      <td>0</td>\n",
              "      <td>0</td>\n",
              "      <td>0</td>\n",
              "      <td>0</td>\n",
              "      <td>0</td>\n",
              "    </tr>\n",
              "  </tbody>\n",
              "</table>\n",
              "</div>\n",
              "      <button class=\"colab-df-convert\" onclick=\"convertToInteractive('df-815bad1d-b2fb-4950-b300-acbe41ae60f9')\"\n",
              "              title=\"Convert this dataframe to an interactive table.\"\n",
              "              style=\"display:none;\">\n",
              "        \n",
              "  <svg xmlns=\"http://www.w3.org/2000/svg\" height=\"24px\"viewBox=\"0 0 24 24\"\n",
              "       width=\"24px\">\n",
              "    <path d=\"M0 0h24v24H0V0z\" fill=\"none\"/>\n",
              "    <path d=\"M18.56 5.44l.94 2.06.94-2.06 2.06-.94-2.06-.94-.94-2.06-.94 2.06-2.06.94zm-11 1L8.5 8.5l.94-2.06 2.06-.94-2.06-.94L8.5 2.5l-.94 2.06-2.06.94zm10 10l.94 2.06.94-2.06 2.06-.94-2.06-.94-.94-2.06-.94 2.06-2.06.94z\"/><path d=\"M17.41 7.96l-1.37-1.37c-.4-.4-.92-.59-1.43-.59-.52 0-1.04.2-1.43.59L10.3 9.45l-7.72 7.72c-.78.78-.78 2.05 0 2.83L4 21.41c.39.39.9.59 1.41.59.51 0 1.02-.2 1.41-.59l7.78-7.78 2.81-2.81c.8-.78.8-2.07 0-2.86zM5.41 20L4 18.59l7.72-7.72 1.47 1.35L5.41 20z\"/>\n",
              "  </svg>\n",
              "      </button>\n",
              "      \n",
              "  <style>\n",
              "    .colab-df-container {\n",
              "      display:flex;\n",
              "      flex-wrap:wrap;\n",
              "      gap: 12px;\n",
              "    }\n",
              "\n",
              "    .colab-df-convert {\n",
              "      background-color: #E8F0FE;\n",
              "      border: none;\n",
              "      border-radius: 50%;\n",
              "      cursor: pointer;\n",
              "      display: none;\n",
              "      fill: #1967D2;\n",
              "      height: 32px;\n",
              "      padding: 0 0 0 0;\n",
              "      width: 32px;\n",
              "    }\n",
              "\n",
              "    .colab-df-convert:hover {\n",
              "      background-color: #E2EBFA;\n",
              "      box-shadow: 0px 1px 2px rgba(60, 64, 67, 0.3), 0px 1px 3px 1px rgba(60, 64, 67, 0.15);\n",
              "      fill: #174EA6;\n",
              "    }\n",
              "\n",
              "    [theme=dark] .colab-df-convert {\n",
              "      background-color: #3B4455;\n",
              "      fill: #D2E3FC;\n",
              "    }\n",
              "\n",
              "    [theme=dark] .colab-df-convert:hover {\n",
              "      background-color: #434B5C;\n",
              "      box-shadow: 0px 1px 3px 1px rgba(0, 0, 0, 0.15);\n",
              "      filter: drop-shadow(0px 1px 2px rgba(0, 0, 0, 0.3));\n",
              "      fill: #FFFFFF;\n",
              "    }\n",
              "  </style>\n",
              "\n",
              "      <script>\n",
              "        const buttonEl =\n",
              "          document.querySelector('#df-815bad1d-b2fb-4950-b300-acbe41ae60f9 button.colab-df-convert');\n",
              "        buttonEl.style.display =\n",
              "          google.colab.kernel.accessAllowed ? 'block' : 'none';\n",
              "\n",
              "        async function convertToInteractive(key) {\n",
              "          const element = document.querySelector('#df-815bad1d-b2fb-4950-b300-acbe41ae60f9');\n",
              "          const dataTable =\n",
              "            await google.colab.kernel.invokeFunction('convertToInteractive',\n",
              "                                                     [key], {});\n",
              "          if (!dataTable) return;\n",
              "\n",
              "          const docLinkHtml = 'Like what you see? Visit the ' +\n",
              "            '<a target=\"_blank\" href=https://colab.research.google.com/notebooks/data_table.ipynb>data table notebook</a>'\n",
              "            + ' to learn more about interactive tables.';\n",
              "          element.innerHTML = '';\n",
              "          dataTable['output_type'] = 'display_data';\n",
              "          await google.colab.output.renderOutput(dataTable, element);\n",
              "          const docLink = document.createElement('div');\n",
              "          docLink.innerHTML = docLinkHtml;\n",
              "          element.appendChild(docLink);\n",
              "        }\n",
              "      </script>\n",
              "    </div>\n",
              "  </div>\n",
              "  "
            ]
          },
          "metadata": {},
          "execution_count": 172
        }
      ]
    },
    {
      "cell_type": "code",
      "source": [
        "url_dom = \"https://raw.githubusercontent.com/Tom-Jung/legendary-funicular/main/Domestic_3_secs.csv\"   # 국산거래표\n",
        "Dom = pd.read_csv(url_dom)"
      ],
      "metadata": {
        "id": "FKASTpXRA0Ld"
      },
      "execution_count": 173,
      "outputs": []
    },
    {
      "cell_type": "code",
      "source": [
        "Dom  # 국산거래표 불러오기 확인"
      ],
      "metadata": {
        "id": "Taf8fWrGA0Gu",
        "colab": {
          "base_uri": "https://localhost:8080/",
          "height": 175
        },
        "outputId": "8caddeb5-303a-49dc-c1b6-0fdc74bab6a6"
      },
      "execution_count": 174,
      "outputs": [
        {
          "output_type": "execute_result",
          "data": {
            "text/plain": [
              "      부문  농산품  공산품  서비스  중간수요계   소비  투자  수출  최종수요계  총수요계\n",
              "0    농산품    1    7    1      9    1   2   2      5    14\n",
              "1    공산품    4   61   29     94   26  13  70    109   203\n",
              "2    서비스    1   26   52     79  104  46  15    165   244\n",
              "3  중간투입계    6   94   82    182  131  61  87    279   461"
            ],
            "text/html": [
              "\n",
              "  <div id=\"df-1b3e6ffc-c3d3-40fb-be35-61b3d7232931\">\n",
              "    <div class=\"colab-df-container\">\n",
              "      <div>\n",
              "<style scoped>\n",
              "    .dataframe tbody tr th:only-of-type {\n",
              "        vertical-align: middle;\n",
              "    }\n",
              "\n",
              "    .dataframe tbody tr th {\n",
              "        vertical-align: top;\n",
              "    }\n",
              "\n",
              "    .dataframe thead th {\n",
              "        text-align: right;\n",
              "    }\n",
              "</style>\n",
              "<table border=\"1\" class=\"dataframe\">\n",
              "  <thead>\n",
              "    <tr style=\"text-align: right;\">\n",
              "      <th></th>\n",
              "      <th>부문</th>\n",
              "      <th>농산품</th>\n",
              "      <th>공산품</th>\n",
              "      <th>서비스</th>\n",
              "      <th>중간수요계</th>\n",
              "      <th>소비</th>\n",
              "      <th>투자</th>\n",
              "      <th>수출</th>\n",
              "      <th>최종수요계</th>\n",
              "      <th>총수요계</th>\n",
              "    </tr>\n",
              "  </thead>\n",
              "  <tbody>\n",
              "    <tr>\n",
              "      <th>0</th>\n",
              "      <td>농산품</td>\n",
              "      <td>1</td>\n",
              "      <td>7</td>\n",
              "      <td>1</td>\n",
              "      <td>9</td>\n",
              "      <td>1</td>\n",
              "      <td>2</td>\n",
              "      <td>2</td>\n",
              "      <td>5</td>\n",
              "      <td>14</td>\n",
              "    </tr>\n",
              "    <tr>\n",
              "      <th>1</th>\n",
              "      <td>공산품</td>\n",
              "      <td>4</td>\n",
              "      <td>61</td>\n",
              "      <td>29</td>\n",
              "      <td>94</td>\n",
              "      <td>26</td>\n",
              "      <td>13</td>\n",
              "      <td>70</td>\n",
              "      <td>109</td>\n",
              "      <td>203</td>\n",
              "    </tr>\n",
              "    <tr>\n",
              "      <th>2</th>\n",
              "      <td>서비스</td>\n",
              "      <td>1</td>\n",
              "      <td>26</td>\n",
              "      <td>52</td>\n",
              "      <td>79</td>\n",
              "      <td>104</td>\n",
              "      <td>46</td>\n",
              "      <td>15</td>\n",
              "      <td>165</td>\n",
              "      <td>244</td>\n",
              "    </tr>\n",
              "    <tr>\n",
              "      <th>3</th>\n",
              "      <td>중간투입계</td>\n",
              "      <td>6</td>\n",
              "      <td>94</td>\n",
              "      <td>82</td>\n",
              "      <td>182</td>\n",
              "      <td>131</td>\n",
              "      <td>61</td>\n",
              "      <td>87</td>\n",
              "      <td>279</td>\n",
              "      <td>461</td>\n",
              "    </tr>\n",
              "  </tbody>\n",
              "</table>\n",
              "</div>\n",
              "      <button class=\"colab-df-convert\" onclick=\"convertToInteractive('df-1b3e6ffc-c3d3-40fb-be35-61b3d7232931')\"\n",
              "              title=\"Convert this dataframe to an interactive table.\"\n",
              "              style=\"display:none;\">\n",
              "        \n",
              "  <svg xmlns=\"http://www.w3.org/2000/svg\" height=\"24px\"viewBox=\"0 0 24 24\"\n",
              "       width=\"24px\">\n",
              "    <path d=\"M0 0h24v24H0V0z\" fill=\"none\"/>\n",
              "    <path d=\"M18.56 5.44l.94 2.06.94-2.06 2.06-.94-2.06-.94-.94-2.06-.94 2.06-2.06.94zm-11 1L8.5 8.5l.94-2.06 2.06-.94-2.06-.94L8.5 2.5l-.94 2.06-2.06.94zm10 10l.94 2.06.94-2.06 2.06-.94-2.06-.94-.94-2.06-.94 2.06-2.06.94z\"/><path d=\"M17.41 7.96l-1.37-1.37c-.4-.4-.92-.59-1.43-.59-.52 0-1.04.2-1.43.59L10.3 9.45l-7.72 7.72c-.78.78-.78 2.05 0 2.83L4 21.41c.39.39.9.59 1.41.59.51 0 1.02-.2 1.41-.59l7.78-7.78 2.81-2.81c.8-.78.8-2.07 0-2.86zM5.41 20L4 18.59l7.72-7.72 1.47 1.35L5.41 20z\"/>\n",
              "  </svg>\n",
              "      </button>\n",
              "      \n",
              "  <style>\n",
              "    .colab-df-container {\n",
              "      display:flex;\n",
              "      flex-wrap:wrap;\n",
              "      gap: 12px;\n",
              "    }\n",
              "\n",
              "    .colab-df-convert {\n",
              "      background-color: #E8F0FE;\n",
              "      border: none;\n",
              "      border-radius: 50%;\n",
              "      cursor: pointer;\n",
              "      display: none;\n",
              "      fill: #1967D2;\n",
              "      height: 32px;\n",
              "      padding: 0 0 0 0;\n",
              "      width: 32px;\n",
              "    }\n",
              "\n",
              "    .colab-df-convert:hover {\n",
              "      background-color: #E2EBFA;\n",
              "      box-shadow: 0px 1px 2px rgba(60, 64, 67, 0.3), 0px 1px 3px 1px rgba(60, 64, 67, 0.15);\n",
              "      fill: #174EA6;\n",
              "    }\n",
              "\n",
              "    [theme=dark] .colab-df-convert {\n",
              "      background-color: #3B4455;\n",
              "      fill: #D2E3FC;\n",
              "    }\n",
              "\n",
              "    [theme=dark] .colab-df-convert:hover {\n",
              "      background-color: #434B5C;\n",
              "      box-shadow: 0px 1px 3px 1px rgba(0, 0, 0, 0.15);\n",
              "      filter: drop-shadow(0px 1px 2px rgba(0, 0, 0, 0.3));\n",
              "      fill: #FFFFFF;\n",
              "    }\n",
              "  </style>\n",
              "\n",
              "      <script>\n",
              "        const buttonEl =\n",
              "          document.querySelector('#df-1b3e6ffc-c3d3-40fb-be35-61b3d7232931 button.colab-df-convert');\n",
              "        buttonEl.style.display =\n",
              "          google.colab.kernel.accessAllowed ? 'block' : 'none';\n",
              "\n",
              "        async function convertToInteractive(key) {\n",
              "          const element = document.querySelector('#df-1b3e6ffc-c3d3-40fb-be35-61b3d7232931');\n",
              "          const dataTable =\n",
              "            await google.colab.kernel.invokeFunction('convertToInteractive',\n",
              "                                                     [key], {});\n",
              "          if (!dataTable) return;\n",
              "\n",
              "          const docLinkHtml = 'Like what you see? Visit the ' +\n",
              "            '<a target=\"_blank\" href=https://colab.research.google.com/notebooks/data_table.ipynb>data table notebook</a>'\n",
              "            + ' to learn more about interactive tables.';\n",
              "          element.innerHTML = '';\n",
              "          dataTable['output_type'] = 'display_data';\n",
              "          await google.colab.output.renderOutput(dataTable, element);\n",
              "          const docLink = document.createElement('div');\n",
              "          docLink.innerHTML = docLinkHtml;\n",
              "          element.appendChild(docLink);\n",
              "        }\n",
              "      </script>\n",
              "    </div>\n",
              "  </div>\n",
              "  "
            ]
          },
          "metadata": {},
          "execution_count": 174
        }
      ]
    },
    {
      "cell_type": "code",
      "source": [
        "url_imp = \"https://raw.githubusercontent.com/Tom-Jung/legendary-funicular/main/Import_3_secs.csv\"   # 수입거래표\n",
        "Imp = pd.read_csv(url_imp)"
      ],
      "metadata": {
        "id": "0piOpTEytvGw"
      },
      "execution_count": 175,
      "outputs": []
    },
    {
      "cell_type": "code",
      "source": [
        "Imp  # 수입거래표 불러오기 확인"
      ],
      "metadata": {
        "id": "K3VHa2z8tvJv",
        "outputId": "30dfa272-3266-4fb1-f85f-8ac71fc895a7",
        "colab": {
          "base_uri": "https://localhost:8080/",
          "height": 175
        }
      },
      "execution_count": 176,
      "outputs": [
        {
          "output_type": "execute_result",
          "data": {
            "text/plain": [
              "      부문  농산품  공산품  서비스  중간수요계  소비  투자  수출  최종수요계  총수요계\n",
              "0    농산품    1    7    3     11   2   1   0      3    14\n",
              "1    공산품    1   33   10     44   6   6   3     15    59\n",
              "2    서비스    1    2    6      9   2   1   0      3    12\n",
              "3  중간투입계    3   42   19     64  10   8   3     21    85"
            ],
            "text/html": [
              "\n",
              "  <div id=\"df-46c9e0b7-efaa-421d-a28e-7f2695fa9e25\">\n",
              "    <div class=\"colab-df-container\">\n",
              "      <div>\n",
              "<style scoped>\n",
              "    .dataframe tbody tr th:only-of-type {\n",
              "        vertical-align: middle;\n",
              "    }\n",
              "\n",
              "    .dataframe tbody tr th {\n",
              "        vertical-align: top;\n",
              "    }\n",
              "\n",
              "    .dataframe thead th {\n",
              "        text-align: right;\n",
              "    }\n",
              "</style>\n",
              "<table border=\"1\" class=\"dataframe\">\n",
              "  <thead>\n",
              "    <tr style=\"text-align: right;\">\n",
              "      <th></th>\n",
              "      <th>부문</th>\n",
              "      <th>농산품</th>\n",
              "      <th>공산품</th>\n",
              "      <th>서비스</th>\n",
              "      <th>중간수요계</th>\n",
              "      <th>소비</th>\n",
              "      <th>투자</th>\n",
              "      <th>수출</th>\n",
              "      <th>최종수요계</th>\n",
              "      <th>총수요계</th>\n",
              "    </tr>\n",
              "  </thead>\n",
              "  <tbody>\n",
              "    <tr>\n",
              "      <th>0</th>\n",
              "      <td>농산품</td>\n",
              "      <td>1</td>\n",
              "      <td>7</td>\n",
              "      <td>3</td>\n",
              "      <td>11</td>\n",
              "      <td>2</td>\n",
              "      <td>1</td>\n",
              "      <td>0</td>\n",
              "      <td>3</td>\n",
              "      <td>14</td>\n",
              "    </tr>\n",
              "    <tr>\n",
              "      <th>1</th>\n",
              "      <td>공산품</td>\n",
              "      <td>1</td>\n",
              "      <td>33</td>\n",
              "      <td>10</td>\n",
              "      <td>44</td>\n",
              "      <td>6</td>\n",
              "      <td>6</td>\n",
              "      <td>3</td>\n",
              "      <td>15</td>\n",
              "      <td>59</td>\n",
              "    </tr>\n",
              "    <tr>\n",
              "      <th>2</th>\n",
              "      <td>서비스</td>\n",
              "      <td>1</td>\n",
              "      <td>2</td>\n",
              "      <td>6</td>\n",
              "      <td>9</td>\n",
              "      <td>2</td>\n",
              "      <td>1</td>\n",
              "      <td>0</td>\n",
              "      <td>3</td>\n",
              "      <td>12</td>\n",
              "    </tr>\n",
              "    <tr>\n",
              "      <th>3</th>\n",
              "      <td>중간투입계</td>\n",
              "      <td>3</td>\n",
              "      <td>42</td>\n",
              "      <td>19</td>\n",
              "      <td>64</td>\n",
              "      <td>10</td>\n",
              "      <td>8</td>\n",
              "      <td>3</td>\n",
              "      <td>21</td>\n",
              "      <td>85</td>\n",
              "    </tr>\n",
              "  </tbody>\n",
              "</table>\n",
              "</div>\n",
              "      <button class=\"colab-df-convert\" onclick=\"convertToInteractive('df-46c9e0b7-efaa-421d-a28e-7f2695fa9e25')\"\n",
              "              title=\"Convert this dataframe to an interactive table.\"\n",
              "              style=\"display:none;\">\n",
              "        \n",
              "  <svg xmlns=\"http://www.w3.org/2000/svg\" height=\"24px\"viewBox=\"0 0 24 24\"\n",
              "       width=\"24px\">\n",
              "    <path d=\"M0 0h24v24H0V0z\" fill=\"none\"/>\n",
              "    <path d=\"M18.56 5.44l.94 2.06.94-2.06 2.06-.94-2.06-.94-.94-2.06-.94 2.06-2.06.94zm-11 1L8.5 8.5l.94-2.06 2.06-.94-2.06-.94L8.5 2.5l-.94 2.06-2.06.94zm10 10l.94 2.06.94-2.06 2.06-.94-2.06-.94-.94-2.06-.94 2.06-2.06.94z\"/><path d=\"M17.41 7.96l-1.37-1.37c-.4-.4-.92-.59-1.43-.59-.52 0-1.04.2-1.43.59L10.3 9.45l-7.72 7.72c-.78.78-.78 2.05 0 2.83L4 21.41c.39.39.9.59 1.41.59.51 0 1.02-.2 1.41-.59l7.78-7.78 2.81-2.81c.8-.78.8-2.07 0-2.86zM5.41 20L4 18.59l7.72-7.72 1.47 1.35L5.41 20z\"/>\n",
              "  </svg>\n",
              "      </button>\n",
              "      \n",
              "  <style>\n",
              "    .colab-df-container {\n",
              "      display:flex;\n",
              "      flex-wrap:wrap;\n",
              "      gap: 12px;\n",
              "    }\n",
              "\n",
              "    .colab-df-convert {\n",
              "      background-color: #E8F0FE;\n",
              "      border: none;\n",
              "      border-radius: 50%;\n",
              "      cursor: pointer;\n",
              "      display: none;\n",
              "      fill: #1967D2;\n",
              "      height: 32px;\n",
              "      padding: 0 0 0 0;\n",
              "      width: 32px;\n",
              "    }\n",
              "\n",
              "    .colab-df-convert:hover {\n",
              "      background-color: #E2EBFA;\n",
              "      box-shadow: 0px 1px 2px rgba(60, 64, 67, 0.3), 0px 1px 3px 1px rgba(60, 64, 67, 0.15);\n",
              "      fill: #174EA6;\n",
              "    }\n",
              "\n",
              "    [theme=dark] .colab-df-convert {\n",
              "      background-color: #3B4455;\n",
              "      fill: #D2E3FC;\n",
              "    }\n",
              "\n",
              "    [theme=dark] .colab-df-convert:hover {\n",
              "      background-color: #434B5C;\n",
              "      box-shadow: 0px 1px 3px 1px rgba(0, 0, 0, 0.15);\n",
              "      filter: drop-shadow(0px 1px 2px rgba(0, 0, 0, 0.3));\n",
              "      fill: #FFFFFF;\n",
              "    }\n",
              "  </style>\n",
              "\n",
              "      <script>\n",
              "        const buttonEl =\n",
              "          document.querySelector('#df-46c9e0b7-efaa-421d-a28e-7f2695fa9e25 button.colab-df-convert');\n",
              "        buttonEl.style.display =\n",
              "          google.colab.kernel.accessAllowed ? 'block' : 'none';\n",
              "\n",
              "        async function convertToInteractive(key) {\n",
              "          const element = document.querySelector('#df-46c9e0b7-efaa-421d-a28e-7f2695fa9e25');\n",
              "          const dataTable =\n",
              "            await google.colab.kernel.invokeFunction('convertToInteractive',\n",
              "                                                     [key], {});\n",
              "          if (!dataTable) return;\n",
              "\n",
              "          const docLinkHtml = 'Like what you see? Visit the ' +\n",
              "            '<a target=\"_blank\" href=https://colab.research.google.com/notebooks/data_table.ipynb>data table notebook</a>'\n",
              "            + ' to learn more about interactive tables.';\n",
              "          element.innerHTML = '';\n",
              "          dataTable['output_type'] = 'display_data';\n",
              "          await google.colab.output.renderOutput(dataTable, element);\n",
              "          const docLink = document.createElement('div');\n",
              "          docLink.innerHTML = docLinkHtml;\n",
              "          element.appendChild(docLink);\n",
              "        }\n",
              "      </script>\n",
              "    </div>\n",
              "  </div>\n",
              "  "
            ]
          },
          "metadata": {},
          "execution_count": 176
        }
      ]
    },
    {
      "cell_type": "markdown",
      "source": [],
      "metadata": {
        "id": "pGaGz_KvGW1M"
      }
    },
    {
      "cell_type": "markdown",
      "source": [
        "#### 산업구조_부가가치 및 산출액 비중 구하기"
      ],
      "metadata": {
        "id": "Jz2c6mWiGW5v"
      }
    },
    {
      "cell_type": "markdown",
      "source": [
        "###### pandas의 DataFrame을 numpy로 불러오기"
      ],
      "metadata": {
        "id": "vi5mrufWHBLq"
      }
    },
    {
      "cell_type": "markdown",
      "source": [
        "### DataFrame을 Numpy로 읽어오고 숫자만으로 행렬을 만들고 차원 등 제대로 읽어 왔는지 체크\n",
        "\n"
      ],
      "metadata": {
        "id": "x-a_G73J-ARG"
      }
    },
    {
      "cell_type": "code",
      "source": [
        "Tt = Tot.to_numpy()  # numpy로 불러오기\n",
        "Dt = Dom.to_numpy()\n",
        "It = Imp.to_numpy()"
      ],
      "metadata": {
        "id": "Hb3EasrIAz9H"
      },
      "execution_count": 177,
      "outputs": []
    },
    {
      "cell_type": "code",
      "source": [
        "Tt"
      ],
      "metadata": {
        "id": "WN6hZ9hGGXEs",
        "outputId": "805e0f58-d7c9-44f5-c9a2-ba02c1e56275",
        "colab": {
          "base_uri": "https://localhost:8080/"
        }
      },
      "execution_count": 266,
      "outputs": [
        {
          "output_type": "execute_result",
          "data": {
            "text/plain": [
              "array([['농산품', 2, 14, 4, 20, 3, 3, 2, 8, 28, 14, 14, 28],\n",
              "       ['공산품', 5, 94, 39, 138, 32, 19, 73, 124, 262, 203, 59, 262],\n",
              "       ['서비스', 2, 28, 58, 88, 106, 47, 15, 168, 256, 244, 12, 256],\n",
              "       ['중간투입계', 9, 136, 101, 246, 141, 69, 90, 300, 546, 461, 85, 546],\n",
              "       ['부가가치', 5, 67, 143, 215, 0, 0, 0, 0, 0, 0, 0, 0],\n",
              "       ['총투입계', 14, 203, 244, 461, 0, 0, 0, 0, 0, 0, 0, 0]], dtype=object)"
            ]
          },
          "metadata": {},
          "execution_count": 266
        }
      ]
    },
    {
      "cell_type": "code",
      "source": [
        "va = Tt[-2,1:4]  # 산업별 부가가치\n",
        "ct = Tt[-1,1:4]  # 산업별 산출액"
      ],
      "metadata": {
        "id": "GrqwxwU44DMl"
      },
      "execution_count": 178,
      "outputs": []
    },
    {
      "cell_type": "code",
      "source": [
        "va_wgt = (va/va.sum()).reshape([3,1])  # 부가가치 기준 각 산업의 비중\n",
        "ct_wgt = (ct/ct.sum()).reshape([3,1])  # 산출액 기준 각 산업의 비중\n",
        "\n",
        "wgt_mx = np.concatenate((va_wgt, ct_wgt), axis=1)\n",
        "print(wgt_mx)"
      ],
      "metadata": {
        "id": "IGYFJf_fAz6J",
        "colab": {
          "base_uri": "https://localhost:8080/"
        },
        "outputId": "f0d5d620-be9f-4785-be6e-b488311b5440"
      },
      "execution_count": 179,
      "outputs": [
        {
          "output_type": "stream",
          "name": "stdout",
          "text": [
            "[[0.023255813953488372 0.03036876355748373]\n",
            " [0.3116279069767442 0.4403470715835141]\n",
            " [0.6651162790697674 0.5292841648590022]]\n"
          ]
        }
      ]
    },
    {
      "cell_type": "markdown",
      "source": [
        "#### 투입구조"
      ],
      "metadata": {
        "id": "32UjG6dfMUrW"
      }
    },
    {
      "cell_type": "code",
      "source": [
        "Tt_itr = Tt[-3,1:5] # 총거래표의 각 산업별 및 총산업의 중간투입계\n",
        "Dt_itr = Dt[-1,1:5] # 국산거래표의 각 산업별 및 총산업의 중간투입계\n",
        "It_itr = It[-1,1:5] # 수입거래표의 각 산업별 및 총산업의 중간투입계\n",
        "Ct_itr = Tt[-1,1:5] # 각 산업별 및 총산업의 산출액\n",
        "\n",
        "print(Tt_itr)\n",
        "print(Dt_itr)\n",
        "print(It_itr)\n",
        "print(Ct_itr)"
      ],
      "metadata": {
        "colab": {
          "base_uri": "https://localhost:8080/"
        },
        "id": "D77j-HNjIKj9",
        "outputId": "a25719c7-7b90-4ba0-e4f7-cd4313f5d96d"
      },
      "execution_count": 180,
      "outputs": [
        {
          "output_type": "stream",
          "name": "stdout",
          "text": [
            "[9 136 101 246]\n",
            "[6 94 82 182]\n",
            "[3 42 19 64]\n",
            "[14 203 244 461]\n"
          ]
        }
      ]
    },
    {
      "cell_type": "code",
      "source": [
        "Tt_itr_ratio = (Tt_itr/Ct_itr).reshape([4,1]) # 총투입계수\n",
        "Dt_itr_ratio = (Dt_itr/Ct_itr).reshape([4,1]) # 국산투입계수\n",
        "It_itr_ratio = (It_itr/Ct_itr).reshape([4,1]) # 수입투입계수\n",
        "\n",
        "itr_ratio = np.concatenate((Tt_itr_ratio, Dt_itr_ratio, It_itr_ratio), axis=1)  # 총, 국산, 수입투입계수\n",
        "itr_ratio"
      ],
      "metadata": {
        "colab": {
          "base_uri": "https://localhost:8080/"
        },
        "id": "Dl7lil2JPogq",
        "outputId": "6f99f41e-a00c-4201-88b3-99faf31d985e"
      },
      "execution_count": 181,
      "outputs": [
        {
          "output_type": "execute_result",
          "data": {
            "text/plain": [
              "array([[0.6428571428571429, 0.42857142857142855, 0.21428571428571427],\n",
              "       [0.6699507389162561, 0.4630541871921182, 0.20689655172413793],\n",
              "       [0.4139344262295082, 0.3360655737704918, 0.0778688524590164],\n",
              "       [0.5336225596529284, 0.3947939262472885, 0.13882863340563992]],\n",
              "      dtype=object)"
            ]
          },
          "metadata": {},
          "execution_count": 181
        }
      ]
    },
    {
      "cell_type": "code",
      "source": [
        "Dt_dm_itr = (Dt_itr/Tt_itr).reshape([4,1])  # 각 산업별, 총산업의 국산화율\n",
        "Dt_dm_itr"
      ],
      "metadata": {
        "colab": {
          "base_uri": "https://localhost:8080/"
        },
        "id": "0Xi-6MnGPo6v",
        "outputId": "8bd2a6e8-ca31-4f58-ea24-bd4d9cf37203"
      },
      "execution_count": 182,
      "outputs": [
        {
          "output_type": "execute_result",
          "data": {
            "text/plain": [
              "array([[0.6666666666666666],\n",
              "       [0.6911764705882353],\n",
              "       [0.8118811881188119],\n",
              "       [0.7398373983739838]], dtype=object)"
            ]
          },
          "metadata": {},
          "execution_count": 182
        }
      ]
    },
    {
      "cell_type": "code",
      "source": [
        "va_ratio = (Tt[-2,1:5]/Tt[-1,1:5]).reshape([4,1])  # 부가가치율 = 부가가치(3산업과 총부가가치)/산출액(3산업과 총산출액)\n",
        "va_ratio"
      ],
      "metadata": {
        "colab": {
          "base_uri": "https://localhost:8080/"
        },
        "id": "UlVNRugMPpQU",
        "outputId": "400eccfa-1e57-46e6-e2c1-6838e7171b89"
      },
      "execution_count": 183,
      "outputs": [
        {
          "output_type": "execute_result",
          "data": {
            "text/plain": [
              "array([[0.35714285714285715],\n",
              "       [0.33004926108374383],\n",
              "       [0.5860655737704918],\n",
              "       [0.46637744034707157]], dtype=object)"
            ]
          },
          "metadata": {},
          "execution_count": 183
        }
      ]
    },
    {
      "cell_type": "code",
      "source": [
        "#중간투입, 국산화율 및 부가가치율을 열방향으로 부치기\n",
        "input_str = np.concatenate((itr_ratio, Dt_dm_itr, va_ratio), axis=1)\n",
        "input_str"
      ],
      "metadata": {
        "colab": {
          "base_uri": "https://localhost:8080/"
        },
        "id": "lECvmd0wPpnQ",
        "outputId": "68b9bf45-de0a-4543-9ca4-89d382ad7aa2"
      },
      "execution_count": 184,
      "outputs": [
        {
          "output_type": "execute_result",
          "data": {
            "text/plain": [
              "array([[0.6428571428571429, 0.42857142857142855, 0.21428571428571427,\n",
              "        0.6666666666666666, 0.35714285714285715],\n",
              "       [0.6699507389162561, 0.4630541871921182, 0.20689655172413793,\n",
              "        0.6911764705882353, 0.33004926108374383],\n",
              "       [0.4139344262295082, 0.3360655737704918, 0.0778688524590164,\n",
              "        0.8118811881188119, 0.5860655737704918],\n",
              "       [0.5336225596529284, 0.3947939262472885, 0.13882863340563992,\n",
              "        0.7398373983739838, 0.46637744034707157]], dtype=object)"
            ]
          },
          "metadata": {},
          "execution_count": 184
        }
      ]
    },
    {
      "cell_type": "markdown",
      "source": [
        "#### 배분구조"
      ],
      "metadata": {
        "id": "C6KfGPX5g9TI"
      }
    },
    {
      "cell_type": "code",
      "source": [
        "Tot_sup =Tt[0:4,-1]  # 총공급(산출액+수입)\n",
        "Dom_ct =Dt[0:4,-1]  # 산출액\n",
        "Imp_tot=It[0:4,-1]   # 총수입\n",
        "\n",
        "Tt_itd = Tt[0:4,4] # 총거래표의 각 산업별 및 총산업의 중간수요계\n",
        "Dt_itd = Dt[0:4,4] # 국산거래표의 각 산업별 및 총산업의 중간수요계\n",
        "It_itd = It[0:4,4] # 수입거래표의 각 산업별 및 총산업의 중간수요계\n",
        "\n",
        "Tot_dmd = Tt[0:4,-4] # 각 제품별 및 전품목 총수요계\n",
        "Fd =Tt[0:4,-5]\n",
        "Exp = Tt[0:4,-6]  # 각 제품별 및 전품목 수출\n",
        "\n",
        "print(Tot_sup)\n",
        "print(Dom_ct)\n",
        "print(Imp_tot)\n",
        "\n",
        "print(Tt_itd)\n",
        "print(Dt_itd)\n",
        "print(It_itd)\n",
        "\n",
        "print(Tot_dmd)\n",
        "print(Fd)\n",
        "print(Exp)"
      ],
      "metadata": {
        "id": "IWpo8RCb6EsB",
        "colab": {
          "base_uri": "https://localhost:8080/"
        },
        "outputId": "1217b501-e82a-4af1-a518-6a61924d2bfc"
      },
      "execution_count": 185,
      "outputs": [
        {
          "output_type": "stream",
          "name": "stdout",
          "text": [
            "[28 262 256 546]\n",
            "[14 203 244 461]\n",
            "[14 59 12 85]\n",
            "[20 138 88 246]\n",
            "[9 94 79 182]\n",
            "[11 44 9 64]\n",
            "[28 262 256 546]\n",
            "[8 124 168 300]\n",
            "[2 73 15 90]\n"
          ]
        }
      ]
    },
    {
      "cell_type": "code",
      "source": [
        "Itd_r = (Tt_itd/Tot_dmd).reshape([4,1]) # 중간수요율 = 중간수요계/총수요\n",
        "ftd_r = (Fd/Tot_dmd).reshape([4,1]) # 최종수요율 = 최종수요계/총수요\n",
        "Exp_r = (Exp/Dom_ct).reshape([4,1]) # 수출률 = 수출/총산출액\n",
        "Imp_r = (Imp_tot/Tot_sup).reshape([4,1])\n",
        "\n",
        "print(Itd_r)\n",
        "print(ftd_r)\n",
        "print(Exp_r)\n",
        "print(Imp_r)"
      ],
      "metadata": {
        "id": "lcVwawkrPi5t",
        "colab": {
          "base_uri": "https://localhost:8080/"
        },
        "outputId": "7bfa2cbe-52d4-481c-e151-7968474c18c7"
      },
      "execution_count": 186,
      "outputs": [
        {
          "output_type": "stream",
          "name": "stdout",
          "text": [
            "[[0.7142857142857143]\n",
            " [0.5267175572519084]\n",
            " [0.34375]\n",
            " [0.45054945054945056]]\n",
            "[[0.2857142857142857]\n",
            " [0.4732824427480916]\n",
            " [0.65625]\n",
            " [0.5494505494505495]]\n",
            "[[0.14285714285714285]\n",
            " [0.35960591133004927]\n",
            " [0.06147540983606557]\n",
            " [0.19522776572668113]]\n",
            "[[0.5]\n",
            " [0.22519083969465647]\n",
            " [0.046875]\n",
            " [0.15567765567765568]]\n"
          ]
        }
      ]
    },
    {
      "cell_type": "code",
      "source": [
        "# 중간수요율, 최종수요율, 수출률 및 수입비율 열방향으로 부치기\n",
        "\n",
        "dst_str = np.concatenate((Itd_r, ftd_r, Exp_r, Imp_r), axis=1)\n",
        "print(dst_str)"
      ],
      "metadata": {
        "id": "goO-V0B5PjRD",
        "colab": {
          "base_uri": "https://localhost:8080/"
        },
        "outputId": "5d7a92d4-d470-4fc8-e3f6-8e46a78cd244"
      },
      "execution_count": 187,
      "outputs": [
        {
          "output_type": "stream",
          "name": "stdout",
          "text": [
            "[[0.7142857142857143 0.2857142857142857 0.14285714285714285 0.5]\n",
            " [0.5267175572519084 0.4732824427480916 0.35960591133004927\n",
            "  0.22519083969465647]\n",
            " [0.34375 0.65625 0.06147540983606557 0.046875]\n",
            " [0.45054945054945056 0.5494505494505495 0.19522776572668113\n",
            "  0.15567765567765568]]\n"
          ]
        }
      ]
    },
    {
      "cell_type": "markdown",
      "source": [
        "## 부문통합하여 3부문 IO표 만들기\n",
        "\n",
        "### - 33부문의 IO표를 3부문 IO표로 통합하기\n",
        "\n",
        "##### - 33부문을 크게 농수산품, 공산품 및 서비스로 통합하기 위하여 행렬 곱을 사용\n",
        "##### - 0과 1로 구성된 행렬을 만드는데 각 행은 새로운 표의 부문을 나타내며 각 열은 33부문의 부문을 나타낸다"
      ],
      "metadata": {
        "id": "0D8ZcdAxwoNP"
      }
    },
    {
      "cell_type": "code",
      "source": [
        "code = np.array([[1,0,0,0,0,0,0,0,0,0,0,0,0,0,0,0,0,0,0,0,0,0,0,0,0,0,0,0,0,0,0,0,0],\n",
        "       [0,1,1,1,1,1,1,1,1,1,1,1,1,1,1,1,0,0,0,0,0,0,0,0,0,0,0,0,0,0,0,0,0],\n",
        "       [0,0,0,0,0,0,0,0,0,0,0,0,0,0,0,0,1,1,1,1,1,1,1,1,1,1,1,1,1,1,1,1,1]])\n",
        "code"
      ],
      "metadata": {
        "id": "l7x5rT73PkAm",
        "outputId": "e869fcda-2803-4e46-b206-119b8ae264dd",
        "colab": {
          "base_uri": "https://localhost:8080/"
        }
      },
      "execution_count": 188,
      "outputs": [
        {
          "output_type": "execute_result",
          "data": {
            "text/plain": [
              "array([[1, 0, 0, 0, 0, 0, 0, 0, 0, 0, 0, 0, 0, 0, 0, 0, 0, 0, 0, 0, 0, 0,\n",
              "        0, 0, 0, 0, 0, 0, 0, 0, 0, 0, 0],\n",
              "       [0, 1, 1, 1, 1, 1, 1, 1, 1, 1, 1, 1, 1, 1, 1, 1, 0, 0, 0, 0, 0, 0,\n",
              "        0, 0, 0, 0, 0, 0, 0, 0, 0, 0, 0],\n",
              "       [0, 0, 0, 0, 0, 0, 0, 0, 0, 0, 0, 0, 0, 0, 0, 0, 1, 1, 1, 1, 1, 1,\n",
              "        1, 1, 1, 1, 1, 1, 1, 1, 1, 1, 1]])"
            ]
          },
          "metadata": {},
          "execution_count": 188
        }
      ]
    },
    {
      "cell_type": "code",
      "source": [
        "zzzz = pd.DataFrame(code)\n",
        "zzzz.to_csv('태스트_2.csv')"
      ],
      "metadata": {
        "id": "fH92zoxTHMX8"
      },
      "execution_count": 189,
      "outputs": []
    },
    {
      "cell_type": "code",
      "source": [
        "cdd = \"https://raw.githubusercontent.com/Tom-Jung/legendary-funicular/main/code.csv\"  # 코드매치 파일\n",
        "ccdd = pd.read_csv(cdd)\n",
        "cd_for_itr = ccdd.to_numpy().reshape(33,2)\n",
        "row = cd_for_itr[:,1]\n",
        "col = cd_for_itr[:,0]\n",
        "col"
      ],
      "metadata": {
        "colab": {
          "base_uri": "https://localhost:8080/"
        },
        "id": "oP6nV_p9zmF8",
        "outputId": "cb0602a1-228a-4c53-b25d-40a46b99e681"
      },
      "execution_count": 190,
      "outputs": [
        {
          "output_type": "execute_result",
          "data": {
            "text/plain": [
              "array([ 1,  2,  3,  4,  5,  6,  7,  8,  9, 10, 11, 12, 13, 14, 15, 16, 17,\n",
              "       18, 19, 20, 21, 22, 23, 24, 25, 26, 27, 28, 29, 30, 31, 32, 33])"
            ]
          },
          "metadata": {},
          "execution_count": 190
        }
      ]
    },
    {
      "cell_type": "code",
      "source": [
        "Mtx = np.zeros((3,33))\n",
        "for i, j in zip(row,col):\n",
        "  Mtx[i-1,j-1] = 1\n",
        "print(Mtx)"
      ],
      "metadata": {
        "colab": {
          "base_uri": "https://localhost:8080/"
        },
        "id": "_MHOu9HrCI_V",
        "outputId": "b501a041-b11b-4370-bea2-6d051bf96be9"
      },
      "execution_count": 191,
      "outputs": [
        {
          "output_type": "stream",
          "name": "stdout",
          "text": [
            "[[1. 0. 0. 0. 0. 0. 0. 0. 0. 0. 0. 0. 0. 0. 0. 0. 0. 0. 0. 0. 0. 0. 0. 0.\n",
            "  0. 0. 0. 0. 0. 0. 0. 0. 0.]\n",
            " [0. 1. 1. 1. 1. 1. 1. 1. 1. 1. 1. 1. 1. 1. 1. 1. 0. 0. 0. 0. 0. 0. 0. 0.\n",
            "  0. 0. 0. 0. 0. 0. 0. 0. 0.]\n",
            " [0. 0. 0. 0. 0. 0. 0. 0. 0. 0. 0. 0. 0. 0. 0. 0. 1. 1. 1. 1. 1. 1. 1. 1.\n",
            "  1. 1. 1. 1. 1. 1. 1. 1. 1.]]\n"
          ]
        }
      ]
    },
    {
      "cell_type": "code",
      "source": [
        "test_m = pd.DataFrame(Mtx)\n",
        "test_m\n",
        "test_m.to_csv('태스트1.csv')\n"
      ],
      "metadata": {
        "id": "RqlJHZedzmLS"
      },
      "execution_count": 192,
      "outputs": []
    },
    {
      "cell_type": "code",
      "source": [],
      "metadata": {
        "id": "zAueWMSkzmTn"
      },
      "execution_count": 192,
      "outputs": []
    },
    {
      "cell_type": "code",
      "source": [],
      "metadata": {
        "id": "UnNEEPBvzmYZ"
      },
      "execution_count": 192,
      "outputs": []
    },
    {
      "cell_type": "code",
      "source": [],
      "metadata": {
        "id": "3MwT6_xOzmbm"
      },
      "execution_count": 192,
      "outputs": []
    },
    {
      "cell_type": "code",
      "source": [],
      "metadata": {
        "id": "GnekHReSzmfO"
      },
      "execution_count": 192,
      "outputs": []
    },
    {
      "cell_type": "code",
      "source": [
        "url_Tt_33 = \"https://raw.githubusercontent.com/Tom-Jung/legendary-funicular/main/Total_M_F.csv\"  # 33부문의 총거래표 불러오기\n",
        "Tt_33 = pd.read_csv(url_Tt_33)"
      ],
      "metadata": {
        "id": "2gsn6uHUPkdI"
      },
      "execution_count": 193,
      "outputs": []
    },
    {
      "cell_type": "code",
      "source": [
        "Ttt_33 = Tt_33.to_numpy()\n",
        "Tot_33 = Ttt_33[0:41,1:53].astype(float)"
      ],
      "metadata": {
        "id": "WedAqacOyjgz"
      },
      "execution_count": 194,
      "outputs": []
    },
    {
      "cell_type": "code",
      "source": [
        "nae_tot_row = code@Tot_33[0:33,0:33] # 중간투입(수요)의 행을 3부문으로 만들기\n",
        "nae_tot_row"
      ],
      "metadata": {
        "id": "kAEEg8WmPkvm",
        "outputId": "8c3df5b4-e4d6-424e-9872-afee95a7cd0e",
        "colab": {
          "base_uri": "https://localhost:8080/"
        }
      },
      "execution_count": 195,
      "outputs": [
        {
          "output_type": "execute_result",
          "data": {
            "text/plain": [
              "array([[2.86200e+03, 5.00000e+00, 3.15260e+04, 6.48000e+02, 8.63000e+02,\n",
              "        6.00000e+00, 9.80000e+02, 7.00000e+00, 1.50000e+01, 1.50000e+01,\n",
              "        1.80000e+01, 6.00000e+00, 1.80000e+01, 1.30000e+01, 3.20000e+01,\n",
              "        4.75000e+02, 5.00000e+00, 7.00000e+00, 4.46000e+02, 1.03000e+02,\n",
              "        2.50000e+01, 8.17300e+03, 3.20000e+01, 4.70000e+01, 9.00000e+00,\n",
              "        1.36000e+02, 1.80000e+01, 2.72000e+02, 9.80000e+01, 1.02700e+03,\n",
              "        1.48000e+02, 7.40000e+01, 2.70000e+01],\n",
              "       [1.57650e+04, 5.68000e+02, 3.11770e+04, 4.32580e+04, 1.73850e+04,\n",
              "        5.78600e+04, 1.15528e+05, 1.50140e+04, 6.44060e+04, 4.41850e+04,\n",
              "        1.35069e+05, 4.71820e+04, 6.31260e+04, 1.53704e+05, 9.30700e+03,\n",
              "        1.71490e+04, 3.50850e+04, 2.47100e+03, 7.87430e+04, 1.58360e+04,\n",
              "        3.26420e+04, 4.20060e+04, 9.51700e+03, 4.04300e+03, 2.37100e+03,\n",
              "        2.21840e+04, 5.20800e+03, 6.53600e+03, 7.90000e+03, 2.63440e+04,\n",
              "        5.25700e+03, 1.46540e+04, 6.43000e+02],\n",
              "       [6.46800e+03, 1.20800e+03, 1.85860e+04, 1.24570e+04, 7.95400e+03,\n",
              "        7.91800e+03, 3.75180e+04, 9.22200e+03, 2.31890e+04, 1.31270e+04,\n",
              "        3.04060e+04, 1.17810e+04, 1.52570e+04, 3.16430e+04, 3.56800e+03,\n",
              "        1.01840e+04, 1.60530e+04, 5.53200e+03, 3.68860e+04, 8.43150e+04,\n",
              "        4.36120e+04, 2.68870e+04, 4.59770e+04, 5.36750e+04, 3.79690e+04,\n",
              "        5.93290e+04, 1.53140e+04, 1.80720e+04, 2.40830e+04, 2.29010e+04,\n",
              "        1.07380e+04, 1.22000e+04, 2.75300e+03]])"
            ]
          },
          "metadata": {},
          "execution_count": 195
        }
      ]
    },
    {
      "cell_type": "code",
      "source": [
        "nae_tot_row.shape  # 행과 열의 개수 확인"
      ],
      "metadata": {
        "id": "xn5tPGW1PlG2",
        "outputId": "59cba235-2261-49af-afac-01335bc4344d",
        "colab": {
          "base_uri": "https://localhost:8080/"
        }
      },
      "execution_count": 196,
      "outputs": [
        {
          "output_type": "execute_result",
          "data": {
            "text/plain": [
              "(3, 33)"
            ]
          },
          "metadata": {},
          "execution_count": 196
        }
      ]
    },
    {
      "cell_type": "code",
      "source": [
        "nae_tot_col = nae_tot_row@code.T\n",
        "nae_tot_col"
      ],
      "metadata": {
        "id": "3cc2Kx580Rj3",
        "outputId": "d296608c-0cb6-40ba-fab9-ce86bb35196d",
        "colab": {
          "base_uri": "https://localhost:8080/"
        }
      },
      "execution_count": 197,
      "outputs": [
        {
          "output_type": "execute_result",
          "data": {
            "text/plain": [
              "array([[  2862.,  34627.,  10647.],\n",
              "       [ 15765., 814918., 311440.],\n",
              "       [  6468., 234018., 516296.]])"
            ]
          },
          "metadata": {},
          "execution_count": 197
        }
      ]
    },
    {
      "cell_type": "code",
      "source": [
        "ztest_nae_tot_col = nae_tot_row@Mtx.T\n",
        "ztest_nae_tot_col"
      ],
      "metadata": {
        "id": "RJjjBcKEJnft",
        "outputId": "2f7eaca5-9fd0-43b7-c295-68c22e5445f9",
        "colab": {
          "base_uri": "https://localhost:8080/"
        }
      },
      "execution_count": 198,
      "outputs": [
        {
          "output_type": "execute_result",
          "data": {
            "text/plain": [
              "array([[  2862.,  34627.,  10647.],\n",
              "       [ 15765., 814918., 311440.],\n",
              "       [  6468., 234018., 516296.]])"
            ]
          },
          "metadata": {},
          "execution_count": 198
        }
      ]
    },
    {
      "cell_type": "code",
      "source": [
        "nae_tot_col.shape  # 행과 열의 개수 확인"
      ],
      "metadata": {
        "id": "weuK7Yxt0Rt_",
        "outputId": "f0f60417-f76d-4e48-e63b-3ce5d83601a5",
        "colab": {
          "base_uri": "https://localhost:8080/"
        }
      },
      "execution_count": 199,
      "outputs": [
        {
          "output_type": "execute_result",
          "data": {
            "text/plain": [
              "(3, 3)"
            ]
          },
          "metadata": {},
          "execution_count": 199
        }
      ]
    },
    {
      "cell_type": "code",
      "source": [
        "nae_tot_col.sum()"
      ],
      "metadata": {
        "id": "44XALcRD0R3b",
        "outputId": "1c7c89bf-0a2b-4e36-f494-1fb52f37b719",
        "colab": {
          "base_uri": "https://localhost:8080/"
        }
      },
      "execution_count": 200,
      "outputs": [
        {
          "output_type": "execute_result",
          "data": {
            "text/plain": [
              "1947041.0"
            ]
          },
          "metadata": {},
          "execution_count": 200
        }
      ]
    },
    {
      "cell_type": "code",
      "source": [
        "va_row = Tot_33[33:40,0:33]@code.T # 중투합, 피용자보수, 영업잉여, 고정자본소모, 기타생산세, 부가가치계, 산출액(7X3)\n",
        "va_row"
      ],
      "metadata": {
        "id": "9r1910Rf0SBQ",
        "outputId": "076672ad-e776-4c22-aee9-cede6b364f57",
        "colab": {
          "base_uri": "https://localhost:8080/"
        }
      },
      "execution_count": 201,
      "outputs": [
        {
          "output_type": "execute_result",
          "data": {
            "text/plain": [
              "array([[2.509500e+04, 1.083563e+06, 8.383830e+05],\n",
              "       [4.719000e+03, 1.591330e+05, 5.113400e+05],\n",
              "       [2.024900e+04, 1.381430e+05, 2.509920e+05],\n",
              "       [4.346000e+03, 1.033380e+05, 1.710180e+05],\n",
              "       [5.490000e+02, 4.809200e+04, 7.385100e+04],\n",
              "       [2.986300e+04, 4.487060e+05, 1.007201e+06],\n",
              "       [5.495800e+04, 1.532269e+06, 1.845584e+06]])"
            ]
          },
          "metadata": {},
          "execution_count": 201
        }
      ]
    },
    {
      "cell_type": "code",
      "source": [
        "va_row.shape"
      ],
      "metadata": {
        "id": "cDZ1i__I1B6Z",
        "outputId": "36434159-ae1a-403f-93d4-ceb7917aacfd",
        "colab": {
          "base_uri": "https://localhost:8080/"
        }
      },
      "execution_count": 202,
      "outputs": [
        {
          "output_type": "execute_result",
          "data": {
            "text/plain": [
              "(7, 3)"
            ]
          },
          "metadata": {},
          "execution_count": 202
        }
      ]
    },
    {
      "cell_type": "code",
      "source": [
        "fd_cd = np.array([[1,1,0,0,0,0,0,0,0],   # 최종수요를 통합하기 위한 0과 1로된 행렬\n",
        "                  [0,0,1,1,1,1,0,0,0],\n",
        "                  [0,0,0,0,0,0,1,0,0],\n",
        "                  [0,0,0,0,0,0,0,1,0],\n",
        "                  [0,0,0,0,0,0,0,0,1]])  "
      ],
      "metadata": {
        "id": "7IMx6Eay1CEs"
      },
      "execution_count": 203,
      "outputs": []
    },
    {
      "cell_type": "code",
      "source": [
        "fd = Tot_33[0:33, 34:45]\n",
        "fd"
      ],
      "metadata": {
        "id": "nEQ7KA0y1CQU",
        "outputId": "b468b041-6893-4979-ff69-2d5929ec59a3",
        "colab": {
          "base_uri": "https://localhost:8080/"
        }
      },
      "execution_count": 204,
      "outputs": [
        {
          "output_type": "execute_result",
          "data": {
            "text/plain": [
              "array([[ 1.51150e+04,  0.00000e+00,  3.83000e+02,  1.50000e+01,\n",
              "         1.08500e+03,  0.00000e+00,  6.15000e+02,  1.72130e+04,\n",
              "         6.53490e+04],\n",
              "       [ 1.20000e+01,  0.00000e+00,  0.00000e+00,  0.00000e+00,\n",
              "        -1.08000e+02,  0.00000e+00,  1.16000e+02,  2.00000e+01,\n",
              "         9.95890e+04],\n",
              "       [ 5.03660e+04,  0.00000e+00,  0.00000e+00,  0.00000e+00,\n",
              "         4.90000e+01,  0.00000e+00,  6.74200e+03,  5.71570e+04,\n",
              "         1.31760e+05],\n",
              "       [ 2.66300e+04,  0.00000e+00,  1.15000e+02,  1.50000e+01,\n",
              "         8.64000e+02,  0.00000e+00,  3.13520e+04,  5.89760e+04,\n",
              "         9.53080e+04],\n",
              "       [ 1.11300e+03,  0.00000e+00,  0.00000e+00,  0.00000e+00,\n",
              "         9.10000e+01,  0.00000e+00,  3.21800e+03,  4.42200e+03,\n",
              "         4.52510e+04],\n",
              "       [ 1.31450e+04,  0.00000e+00,  0.00000e+00,  0.00000e+00,\n",
              "         4.53000e+02,  0.00000e+00,  3.60580e+04,  4.96560e+04,\n",
              "         1.22457e+05],\n",
              "       [ 7.06700e+03,  0.00000e+00,  0.00000e+00,  0.00000e+00,\n",
              "        -5.53000e+02,  0.00000e+00,  7.41820e+04,  8.06960e+04,\n",
              "         2.73533e+05],\n",
              "       [ 2.08000e+02,  0.00000e+00,  0.00000e+00,  0.00000e+00,\n",
              "        -1.70000e+01,  0.00000e+00,  2.58700e+03,  2.77800e+03,\n",
              "         4.16980e+04],\n",
              "       [-4.99000e+02,  0.00000e+00, -2.19200e+03, -5.70000e+01,\n",
              "        -1.52100e+03,  1.80000e+02,  3.53860e+04,  3.12970e+04,\n",
              "         1.46345e+05],\n",
              "       [ 1.16000e+03,  0.00000e+00,  3.39200e+03,  2.16200e+03,\n",
              "         4.02000e+02,  0.00000e+00,  1.06480e+04,  1.77640e+04,\n",
              "         9.69290e+04],\n",
              "       [ 2.19820e+04,  0.00000e+00,  1.88510e+04,  2.55800e+03,\n",
              "         1.54700e+03,  0.00000e+00,  1.55967e+05,  2.00905e+05,\n",
              "         3.28314e+05],\n",
              "       [ 4.66400e+03,  0.00000e+00,  9.63000e+03,  1.81000e+02,\n",
              "         4.72000e+02,  0.00000e+00,  2.64880e+04,  4.14350e+04,\n",
              "         1.01458e+05],\n",
              "       [ 1.25100e+03,  0.00000e+00,  4.66480e+04,  3.70000e+02,\n",
              "         3.30000e+02,  0.00000e+00,  4.28970e+04,  9.14960e+04,\n",
              "         1.45110e+05],\n",
              "       [ 2.76810e+04,  0.00000e+00,  2.45600e+04,  6.29900e+03,\n",
              "         2.68100e+03,  0.00000e+00,  1.16106e+05,  1.77327e+05,\n",
              "         2.56535e+05],\n",
              "       [ 6.25400e+03,  0.00000e+00,  2.49700e+03,  2.42000e+02,\n",
              "         2.77000e+02,  1.19100e+03,  2.56300e+03,  1.30240e+04,\n",
              "         2.40840e+04],\n",
              "       [ 2.40000e+01,  0.00000e+00,  0.00000e+00,  0.00000e+00,\n",
              "         0.00000e+00,  0.00000e+00,  2.49700e+03,  2.52100e+03,\n",
              "         6.32260e+04],\n",
              "       [ 1.58980e+04,  0.00000e+00,  0.00000e+00,  0.00000e+00,\n",
              "         0.00000e+00,  0.00000e+00,  1.04000e+02,  1.60020e+04,\n",
              "         8.31850e+04],\n",
              "       [ 3.05900e+03,  1.04400e+03,  0.00000e+00,  0.00000e+00,\n",
              "         0.00000e+00,  0.00000e+00,  3.43000e+02,  4.44600e+03,\n",
              "         1.72270e+04],\n",
              "       [ 0.00000e+00,  0.00000e+00,  1.48566e+05,  4.26080e+04,\n",
              "        -1.27400e+03,  0.00000e+00,  1.48000e+02,  1.90048e+05,\n",
              "         2.00292e+05],\n",
              "       [ 7.07170e+04,  0.00000e+00,  9.90000e+03,  6.33000e+02,\n",
              "         1.09900e+03,  2.85000e+02,  2.16110e+04,  1.04245e+05,\n",
              "         2.24659e+05],\n",
              "       [ 2.29100e+04,  0.00000e+00,  2.16000e+02,  5.70000e+01,\n",
              "         7.30000e+01,  7.00000e+00,  3.39870e+04,  5.72500e+04,\n",
              "         1.46599e+05],\n",
              "       [ 7.36990e+04,  0.00000e+00,  0.00000e+00,  0.00000e+00,\n",
              "         0.00000e+00,  0.00000e+00,  6.30600e+03,  8.00050e+04,\n",
              "         1.29723e+05],\n",
              "       [ 2.90770e+04,  0.00000e+00,  2.51160e+04,  2.17000e+02,\n",
              "         1.80000e+01,  0.00000e+00,  4.95000e+03,  5.93780e+04,\n",
              "         1.26326e+05],\n",
              "       [ 5.86560e+04,  0.00000e+00,  0.00000e+00,  0.00000e+00,\n",
              "         0.00000e+00,  0.00000e+00,  2.56000e+03,  6.12160e+04,\n",
              "         1.43206e+05],\n",
              "       [ 1.02756e+05,  0.00000e+00,  2.32900e+04,  1.50000e+01,\n",
              "         0.00000e+00,  0.00000e+00,  3.85000e+02,  1.26446e+05,\n",
              "         1.73004e+05],\n",
              "       [ 2.81300e+03,  0.00000e+00,  5.27020e+04,  8.89200e+03,\n",
              "         0.00000e+00,  0.00000e+00,  1.42390e+04,  7.86460e+04,\n",
              "         1.87504e+05],\n",
              "       [ 3.47900e+03,  0.00000e+00,  0.00000e+00,  0.00000e+00,\n",
              "         0.00000e+00,  0.00000e+00,  7.86600e+03,  1.13450e+04,\n",
              "         8.02060e+04],\n",
              "       [ 1.21300e+03,  1.07307e+05,  0.00000e+00,  0.00000e+00,\n",
              "         0.00000e+00,  0.00000e+00,  3.40000e+01,  1.08554e+05,\n",
              "         1.10999e+05],\n",
              "       [ 5.00670e+04,  5.39850e+04,  0.00000e+00,  0.00000e+00,\n",
              "         0.00000e+00,  0.00000e+00,  1.53000e+02,  1.04205e+05,\n",
              "         1.06156e+05],\n",
              "       [ 4.11590e+04,  5.98870e+04,  0.00000e+00,  0.00000e+00,\n",
              "         0.00000e+00,  0.00000e+00,  3.32000e+02,  1.01378e+05,\n",
              "         1.07774e+05],\n",
              "       [ 2.98470e+04,  1.72200e+03,  4.27000e+02,  0.00000e+00,\n",
              "         0.00000e+00,  2.30000e+01,  9.29000e+02,  3.29480e+04,\n",
              "         3.98100e+04],\n",
              "       [ 3.59970e+04,  0.00000e+00,  0.00000e+00,  0.00000e+00,\n",
              "         0.00000e+00,  0.00000e+00,  5.48000e+02,  3.65450e+04,\n",
              "         4.90610e+04],\n",
              "       [-2.85000e+02,  0.00000e+00,  0.00000e+00,  0.00000e+00,\n",
              "         0.00000e+00,  0.00000e+00,  0.00000e+00, -2.85000e+02,\n",
              "         3.42300e+03]])"
            ]
          },
          "metadata": {},
          "execution_count": 204
        }
      ]
    },
    {
      "cell_type": "code",
      "source": [
        "fd_row=code@fd@fd_cd.T"
      ],
      "metadata": {
        "id": "Hu1RCGZN1Qgd"
      },
      "execution_count": 205,
      "outputs": []
    },
    {
      "cell_type": "code",
      "source": [
        "fd_row_sm = np.sum((fd_row), axis=0) # 최종수요의 행합"
      ],
      "metadata": {
        "id": "DoK2fPer1Qq0"
      },
      "execution_count": 206,
      "outputs": []
    },
    {
      "cell_type": "code",
      "source": [
        "fd_sm=fd_row_sm.reshape(1,5)"
      ],
      "metadata": {
        "id": "saQ_vhsr1Q17"
      },
      "execution_count": 207,
      "outputs": []
    },
    {
      "cell_type": "code",
      "source": [
        "nae_va_ct = np.concatenate((nae_tot_col, va_row)) # 중간투입(수요)와 부가가치 및 산출액 합치기\n",
        "nae_va_ct"
      ],
      "metadata": {
        "id": "mpmb9GsJ1CbA",
        "outputId": "95696c5c-b26f-4867-ec50-a4210d74e050",
        "colab": {
          "base_uri": "https://localhost:8080/"
        }
      },
      "execution_count": 208,
      "outputs": [
        {
          "output_type": "execute_result",
          "data": {
            "text/plain": [
              "array([[2.862000e+03, 3.462700e+04, 1.064700e+04],\n",
              "       [1.576500e+04, 8.149180e+05, 3.114400e+05],\n",
              "       [6.468000e+03, 2.340180e+05, 5.162960e+05],\n",
              "       [2.509500e+04, 1.083563e+06, 8.383830e+05],\n",
              "       [4.719000e+03, 1.591330e+05, 5.113400e+05],\n",
              "       [2.024900e+04, 1.381430e+05, 2.509920e+05],\n",
              "       [4.346000e+03, 1.033380e+05, 1.710180e+05],\n",
              "       [5.490000e+02, 4.809200e+04, 7.385100e+04],\n",
              "       [2.986300e+04, 4.487060e+05, 1.007201e+06],\n",
              "       [5.495800e+04, 1.532269e+06, 1.845584e+06]])"
            ]
          },
          "metadata": {},
          "execution_count": 208
        }
      ]
    },
    {
      "cell_type": "code",
      "source": [
        "nae_va_ct_sm = nae_va_ct.sum(axis=1).reshape(10,1)  # 부가가치 및 산출액의 열합"
      ],
      "metadata": {
        "id": "wt22KYsp1Ck8"
      },
      "execution_count": 209,
      "outputs": []
    },
    {
      "cell_type": "code",
      "source": [
        "nnull = np.zeros((6,5)) # 0행렬"
      ],
      "metadata": {
        "id": "iYARQC7L11Q2"
      },
      "execution_count": 210,
      "outputs": []
    },
    {
      "cell_type": "code",
      "source": [
        "fd_nnull = np.concatenate((fd_row, fd_sm, nnull),axis=0)  # 최종수요, 최종수요 행합 및 0행렬 합치기"
      ],
      "metadata": {
        "id": "YGFh506e11c0"
      },
      "execution_count": 211,
      "outputs": []
    },
    {
      "cell_type": "code",
      "source": [
        "tot_f = np.concatenate((nae_va_ct,nae_va_ct_sm, fd_nnull), axis=1)  # 최종 3x3 부문통합된 거래표"
      ],
      "metadata": {
        "id": "fTFmXv6b11oz"
      },
      "execution_count": 212,
      "outputs": []
    },
    {
      "cell_type": "code",
      "source": [
        "tot_F = pd.DataFrame(tot_f, columns = ['농산품', '공산품', '서비스', '중간수요계', '소비','투자', '수출', '최종수요계', '총수요계'], \n",
        "                     index=['농산품', '공산품', '서비스', '중간투입계', '피용자보수','영업잉여', '고정자본소모', '생산세(보조금공제)', '부가가치계', '총투입액']) # 변수명 붙여서 pandas로 내보내기"
      ],
      "metadata": {
        "id": "GIzMLMU2111V"
      },
      "execution_count": 213,
      "outputs": []
    },
    {
      "cell_type": "code",
      "source": [
        "tot_F  #최종 3x3 거래표 확인"
      ],
      "metadata": {
        "id": "Hlke2CDs2VA1",
        "outputId": "98e72e4d-9664-41d3-9848-56f431a142b6",
        "colab": {
          "base_uri": "https://localhost:8080/",
          "height": 363
        }
      },
      "execution_count": 214,
      "outputs": [
        {
          "output_type": "execute_result",
          "data": {
            "text/plain": [
              "                농산품        공산품        서비스      중간수요계        소비        투자  \\\n",
              "농산품          2862.0    34627.0    10647.0    48136.0   15115.0    1483.0   \n",
              "공산품         15765.0   814918.0   311440.0  1142123.0  161058.0  121609.0   \n",
              "서비스          6468.0   234018.0   516296.0   756782.0  765007.0  312870.0   \n",
              "중간투입계       25095.0  1083563.0   838383.0  1947041.0  941180.0  435962.0   \n",
              "피용자보수        4719.0   159133.0   511340.0   675192.0       0.0       0.0   \n",
              "영업잉여        20249.0   138143.0   250992.0   409384.0       0.0       0.0   \n",
              "고정자본소모       4346.0   103338.0   171018.0   278702.0       0.0       0.0   \n",
              "생산세(보조금공제)    549.0    48092.0    73851.0   122492.0       0.0       0.0   \n",
              "부가가치계       29863.0   448706.0  1007201.0  1485770.0       0.0       0.0   \n",
              "총투입액        54958.0  1532269.0  1845584.0  3432811.0       0.0       0.0   \n",
              "\n",
              "                  수출      최종수요계       총수요계  \n",
              "농산품            615.0    17213.0    65349.0  \n",
              "공산품         546807.0   829474.0  1971597.0  \n",
              "서비스          94495.0  1172372.0  1929154.0  \n",
              "중간투입계       641917.0  2019059.0  3966100.0  \n",
              "피용자보수            0.0        0.0        0.0  \n",
              "영업잉여             0.0        0.0        0.0  \n",
              "고정자본소모           0.0        0.0        0.0  \n",
              "생산세(보조금공제)       0.0        0.0        0.0  \n",
              "부가가치계            0.0        0.0        0.0  \n",
              "총투입액             0.0        0.0        0.0  "
            ],
            "text/html": [
              "\n",
              "  <div id=\"df-ba47a505-b744-4061-9533-984d9ce10a25\">\n",
              "    <div class=\"colab-df-container\">\n",
              "      <div>\n",
              "<style scoped>\n",
              "    .dataframe tbody tr th:only-of-type {\n",
              "        vertical-align: middle;\n",
              "    }\n",
              "\n",
              "    .dataframe tbody tr th {\n",
              "        vertical-align: top;\n",
              "    }\n",
              "\n",
              "    .dataframe thead th {\n",
              "        text-align: right;\n",
              "    }\n",
              "</style>\n",
              "<table border=\"1\" class=\"dataframe\">\n",
              "  <thead>\n",
              "    <tr style=\"text-align: right;\">\n",
              "      <th></th>\n",
              "      <th>농산품</th>\n",
              "      <th>공산품</th>\n",
              "      <th>서비스</th>\n",
              "      <th>중간수요계</th>\n",
              "      <th>소비</th>\n",
              "      <th>투자</th>\n",
              "      <th>수출</th>\n",
              "      <th>최종수요계</th>\n",
              "      <th>총수요계</th>\n",
              "    </tr>\n",
              "  </thead>\n",
              "  <tbody>\n",
              "    <tr>\n",
              "      <th>농산품</th>\n",
              "      <td>2862.0</td>\n",
              "      <td>34627.0</td>\n",
              "      <td>10647.0</td>\n",
              "      <td>48136.0</td>\n",
              "      <td>15115.0</td>\n",
              "      <td>1483.0</td>\n",
              "      <td>615.0</td>\n",
              "      <td>17213.0</td>\n",
              "      <td>65349.0</td>\n",
              "    </tr>\n",
              "    <tr>\n",
              "      <th>공산품</th>\n",
              "      <td>15765.0</td>\n",
              "      <td>814918.0</td>\n",
              "      <td>311440.0</td>\n",
              "      <td>1142123.0</td>\n",
              "      <td>161058.0</td>\n",
              "      <td>121609.0</td>\n",
              "      <td>546807.0</td>\n",
              "      <td>829474.0</td>\n",
              "      <td>1971597.0</td>\n",
              "    </tr>\n",
              "    <tr>\n",
              "      <th>서비스</th>\n",
              "      <td>6468.0</td>\n",
              "      <td>234018.0</td>\n",
              "      <td>516296.0</td>\n",
              "      <td>756782.0</td>\n",
              "      <td>765007.0</td>\n",
              "      <td>312870.0</td>\n",
              "      <td>94495.0</td>\n",
              "      <td>1172372.0</td>\n",
              "      <td>1929154.0</td>\n",
              "    </tr>\n",
              "    <tr>\n",
              "      <th>중간투입계</th>\n",
              "      <td>25095.0</td>\n",
              "      <td>1083563.0</td>\n",
              "      <td>838383.0</td>\n",
              "      <td>1947041.0</td>\n",
              "      <td>941180.0</td>\n",
              "      <td>435962.0</td>\n",
              "      <td>641917.0</td>\n",
              "      <td>2019059.0</td>\n",
              "      <td>3966100.0</td>\n",
              "    </tr>\n",
              "    <tr>\n",
              "      <th>피용자보수</th>\n",
              "      <td>4719.0</td>\n",
              "      <td>159133.0</td>\n",
              "      <td>511340.0</td>\n",
              "      <td>675192.0</td>\n",
              "      <td>0.0</td>\n",
              "      <td>0.0</td>\n",
              "      <td>0.0</td>\n",
              "      <td>0.0</td>\n",
              "      <td>0.0</td>\n",
              "    </tr>\n",
              "    <tr>\n",
              "      <th>영업잉여</th>\n",
              "      <td>20249.0</td>\n",
              "      <td>138143.0</td>\n",
              "      <td>250992.0</td>\n",
              "      <td>409384.0</td>\n",
              "      <td>0.0</td>\n",
              "      <td>0.0</td>\n",
              "      <td>0.0</td>\n",
              "      <td>0.0</td>\n",
              "      <td>0.0</td>\n",
              "    </tr>\n",
              "    <tr>\n",
              "      <th>고정자본소모</th>\n",
              "      <td>4346.0</td>\n",
              "      <td>103338.0</td>\n",
              "      <td>171018.0</td>\n",
              "      <td>278702.0</td>\n",
              "      <td>0.0</td>\n",
              "      <td>0.0</td>\n",
              "      <td>0.0</td>\n",
              "      <td>0.0</td>\n",
              "      <td>0.0</td>\n",
              "    </tr>\n",
              "    <tr>\n",
              "      <th>생산세(보조금공제)</th>\n",
              "      <td>549.0</td>\n",
              "      <td>48092.0</td>\n",
              "      <td>73851.0</td>\n",
              "      <td>122492.0</td>\n",
              "      <td>0.0</td>\n",
              "      <td>0.0</td>\n",
              "      <td>0.0</td>\n",
              "      <td>0.0</td>\n",
              "      <td>0.0</td>\n",
              "    </tr>\n",
              "    <tr>\n",
              "      <th>부가가치계</th>\n",
              "      <td>29863.0</td>\n",
              "      <td>448706.0</td>\n",
              "      <td>1007201.0</td>\n",
              "      <td>1485770.0</td>\n",
              "      <td>0.0</td>\n",
              "      <td>0.0</td>\n",
              "      <td>0.0</td>\n",
              "      <td>0.0</td>\n",
              "      <td>0.0</td>\n",
              "    </tr>\n",
              "    <tr>\n",
              "      <th>총투입액</th>\n",
              "      <td>54958.0</td>\n",
              "      <td>1532269.0</td>\n",
              "      <td>1845584.0</td>\n",
              "      <td>3432811.0</td>\n",
              "      <td>0.0</td>\n",
              "      <td>0.0</td>\n",
              "      <td>0.0</td>\n",
              "      <td>0.0</td>\n",
              "      <td>0.0</td>\n",
              "    </tr>\n",
              "  </tbody>\n",
              "</table>\n",
              "</div>\n",
              "      <button class=\"colab-df-convert\" onclick=\"convertToInteractive('df-ba47a505-b744-4061-9533-984d9ce10a25')\"\n",
              "              title=\"Convert this dataframe to an interactive table.\"\n",
              "              style=\"display:none;\">\n",
              "        \n",
              "  <svg xmlns=\"http://www.w3.org/2000/svg\" height=\"24px\"viewBox=\"0 0 24 24\"\n",
              "       width=\"24px\">\n",
              "    <path d=\"M0 0h24v24H0V0z\" fill=\"none\"/>\n",
              "    <path d=\"M18.56 5.44l.94 2.06.94-2.06 2.06-.94-2.06-.94-.94-2.06-.94 2.06-2.06.94zm-11 1L8.5 8.5l.94-2.06 2.06-.94-2.06-.94L8.5 2.5l-.94 2.06-2.06.94zm10 10l.94 2.06.94-2.06 2.06-.94-2.06-.94-.94-2.06-.94 2.06-2.06.94z\"/><path d=\"M17.41 7.96l-1.37-1.37c-.4-.4-.92-.59-1.43-.59-.52 0-1.04.2-1.43.59L10.3 9.45l-7.72 7.72c-.78.78-.78 2.05 0 2.83L4 21.41c.39.39.9.59 1.41.59.51 0 1.02-.2 1.41-.59l7.78-7.78 2.81-2.81c.8-.78.8-2.07 0-2.86zM5.41 20L4 18.59l7.72-7.72 1.47 1.35L5.41 20z\"/>\n",
              "  </svg>\n",
              "      </button>\n",
              "      \n",
              "  <style>\n",
              "    .colab-df-container {\n",
              "      display:flex;\n",
              "      flex-wrap:wrap;\n",
              "      gap: 12px;\n",
              "    }\n",
              "\n",
              "    .colab-df-convert {\n",
              "      background-color: #E8F0FE;\n",
              "      border: none;\n",
              "      border-radius: 50%;\n",
              "      cursor: pointer;\n",
              "      display: none;\n",
              "      fill: #1967D2;\n",
              "      height: 32px;\n",
              "      padding: 0 0 0 0;\n",
              "      width: 32px;\n",
              "    }\n",
              "\n",
              "    .colab-df-convert:hover {\n",
              "      background-color: #E2EBFA;\n",
              "      box-shadow: 0px 1px 2px rgba(60, 64, 67, 0.3), 0px 1px 3px 1px rgba(60, 64, 67, 0.15);\n",
              "      fill: #174EA6;\n",
              "    }\n",
              "\n",
              "    [theme=dark] .colab-df-convert {\n",
              "      background-color: #3B4455;\n",
              "      fill: #D2E3FC;\n",
              "    }\n",
              "\n",
              "    [theme=dark] .colab-df-convert:hover {\n",
              "      background-color: #434B5C;\n",
              "      box-shadow: 0px 1px 3px 1px rgba(0, 0, 0, 0.15);\n",
              "      filter: drop-shadow(0px 1px 2px rgba(0, 0, 0, 0.3));\n",
              "      fill: #FFFFFF;\n",
              "    }\n",
              "  </style>\n",
              "\n",
              "      <script>\n",
              "        const buttonEl =\n",
              "          document.querySelector('#df-ba47a505-b744-4061-9533-984d9ce10a25 button.colab-df-convert');\n",
              "        buttonEl.style.display =\n",
              "          google.colab.kernel.accessAllowed ? 'block' : 'none';\n",
              "\n",
              "        async function convertToInteractive(key) {\n",
              "          const element = document.querySelector('#df-ba47a505-b744-4061-9533-984d9ce10a25');\n",
              "          const dataTable =\n",
              "            await google.colab.kernel.invokeFunction('convertToInteractive',\n",
              "                                                     [key], {});\n",
              "          if (!dataTable) return;\n",
              "\n",
              "          const docLinkHtml = 'Like what you see? Visit the ' +\n",
              "            '<a target=\"_blank\" href=https://colab.research.google.com/notebooks/data_table.ipynb>data table notebook</a>'\n",
              "            + ' to learn more about interactive tables.';\n",
              "          element.innerHTML = '';\n",
              "          dataTable['output_type'] = 'display_data';\n",
              "          await google.colab.output.renderOutput(dataTable, element);\n",
              "          const docLink = document.createElement('div');\n",
              "          docLink.innerHTML = docLinkHtml;\n",
              "          element.appendChild(docLink);\n",
              "        }\n",
              "      </script>\n",
              "    </div>\n",
              "  </div>\n",
              "  "
            ]
          },
          "metadata": {},
          "execution_count": 214
        }
      ]
    },
    {
      "cell_type": "markdown",
      "source": [
        "##Chapter 5...산업연관효과분석"
      ],
      "metadata": {
        "id": "JYbkwC_VPVv2"
      }
    },
    {
      "cell_type": "code",
      "source": [
        "Tt = Tot.to_numpy()  # 3부문 산업연관표를 numpy로 불러오기\n",
        "Dt = Dom.to_numpy()\n",
        "It = Imp.to_numpy()"
      ],
      "metadata": {
        "id": "pXrwfo8u86pr"
      },
      "execution_count": 215,
      "outputs": []
    },
    {
      "cell_type": "code",
      "source": [
        "Tt"
      ],
      "metadata": {
        "id": "sgvgFSqKGFjk",
        "outputId": "3f3d8afd-f5ca-4691-d861-8a323b02cdbf",
        "colab": {
          "base_uri": "https://localhost:8080/"
        }
      },
      "execution_count": 265,
      "outputs": [
        {
          "output_type": "execute_result",
          "data": {
            "text/plain": [
              "array([['농산품', 2, 14, 4, 20, 3, 3, 2, 8, 28, 14, 14, 28],\n",
              "       ['공산품', 5, 94, 39, 138, 32, 19, 73, 124, 262, 203, 59, 262],\n",
              "       ['서비스', 2, 28, 58, 88, 106, 47, 15, 168, 256, 244, 12, 256],\n",
              "       ['중간투입계', 9, 136, 101, 246, 141, 69, 90, 300, 546, 461, 85, 546],\n",
              "       ['부가가치', 5, 67, 143, 215, 0, 0, 0, 0, 0, 0, 0, 0],\n",
              "       ['총투입계', 14, 203, 244, 461, 0, 0, 0, 0, 0, 0, 0, 0]], dtype=object)"
            ]
          },
          "metadata": {},
          "execution_count": 265
        }
      ]
    },
    {
      "cell_type": "code",
      "source": [
        "Tt_1 = Tt[0:6,1:13].astype(float)\n",
        "Dm_1 = Dt[0:4,1:10].astype(float)\n",
        "Im_1 = It[0:4,1:10].astype(float)\n",
        "print('총거래표 : \\n', Tt_1)    # 총거래표 확인\n",
        "print('국산거래표 : \\n', Dm_1)  # 국산거래표 확인\n",
        "print('수입거래표 : \\n', Im_1)  # 수입거래표 확인"
      ],
      "metadata": {
        "colab": {
          "base_uri": "https://localhost:8080/"
        },
        "id": "q4Q2rSR1QiUI",
        "outputId": "38304976-afeb-4946-f8e7-d339d5a8fb10"
      },
      "execution_count": 216,
      "outputs": [
        {
          "output_type": "stream",
          "name": "stdout",
          "text": [
            "총거래표 : \n",
            " [[  2.  14.   4.  20.   3.   3.   2.   8.  28.  14.  14.  28.]\n",
            " [  5.  94.  39. 138.  32.  19.  73. 124. 262. 203.  59. 262.]\n",
            " [  2.  28.  58.  88. 106.  47.  15. 168. 256. 244.  12. 256.]\n",
            " [  9. 136. 101. 246. 141.  69.  90. 300. 546. 461.  85. 546.]\n",
            " [  5.  67. 143. 215.   0.   0.   0.   0.   0.   0.   0.   0.]\n",
            " [ 14. 203. 244. 461.   0.   0.   0.   0.   0.   0.   0.   0.]]\n",
            "국산거래표 : \n",
            " [[  1.   7.   1.   9.   1.   2.   2.   5.  14.]\n",
            " [  4.  61.  29.  94.  26.  13.  70. 109. 203.]\n",
            " [  1.  26.  52.  79. 104.  46.  15. 165. 244.]\n",
            " [  6.  94.  82. 182. 131.  61.  87. 279. 461.]]\n",
            "수입거래표 : \n",
            " [[ 1.  7.  3. 11.  2.  1.  0.  3. 14.]\n",
            " [ 1. 33. 10. 44.  6.  6.  3. 15. 59.]\n",
            " [ 1.  2.  6.  9.  2.  1.  0.  3. 12.]\n",
            " [ 3. 42. 19. 64. 10.  8.  3. 21. 85.]]\n"
          ]
        }
      ]
    },
    {
      "cell_type": "code",
      "source": [
        "ct = Tt_1[-1,0:3]  # 산출액\n",
        "ct"
      ],
      "metadata": {
        "colab": {
          "base_uri": "https://localhost:8080/"
        },
        "id": "sLoitK1lQigz",
        "outputId": "447fc4da-c324-4c26-d1da-96a8a6212cb1"
      },
      "execution_count": 217,
      "outputs": [
        {
          "output_type": "execute_result",
          "data": {
            "text/plain": [
              "array([ 14., 203., 244.])"
            ]
          },
          "metadata": {},
          "execution_count": 217
        }
      ]
    },
    {
      "cell_type": "code",
      "source": [
        "ct_m = np.tile(ct, reps=[3,1]) # 산출액을 3번 행반복\n",
        "ct_m"
      ],
      "metadata": {
        "colab": {
          "base_uri": "https://localhost:8080/"
        },
        "id": "s0wcbJY1Qipl",
        "outputId": "7103f757-df03-4796-c8c9-fbb0b7a0aa3d"
      },
      "execution_count": 218,
      "outputs": [
        {
          "output_type": "execute_result",
          "data": {
            "text/plain": [
              "array([[ 14., 203., 244.],\n",
              "       [ 14., 203., 244.],\n",
              "       [ 14., 203., 244.]])"
            ]
          },
          "metadata": {},
          "execution_count": 218
        }
      ]
    },
    {
      "cell_type": "code",
      "source": [
        "At = Tt_1[0:3,0:3]/ct_m   # 총투입계수\n",
        "Ad = Dm_1[0:3,0:3]/ct_m  # 국산 투입계수\n",
        "\n",
        "print('총투입계수표 : \\n', At)\n",
        "print('국산투입계수표 : \\n', Ad)\n",
        "\n",
        "df_At = pd.DataFrame(At.round(3),columns = ['농산품', '공산품', '서비스'], index=['농산품', '공산품', '서비스'])  #pandas로 내보내기\n",
        "df_Ad = pd.DataFrame(Ad.round(3),columns = ['농산품', '공산품', '서비스'], index=['농산품', '공산품', '서비스'])  #pandas로 내보내기"
      ],
      "metadata": {
        "colab": {
          "base_uri": "https://localhost:8080/"
        },
        "id": "5uLIE7vfQiwM",
        "outputId": "b8e4b5f6-5906-4f6c-b1c1-60068d3120de"
      },
      "execution_count": 219,
      "outputs": [
        {
          "output_type": "stream",
          "name": "stdout",
          "text": [
            "총투입계수표 : \n",
            " [[0.14285714 0.06896552 0.01639344]\n",
            " [0.35714286 0.46305419 0.15983607]\n",
            " [0.14285714 0.13793103 0.23770492]]\n",
            "국산투입계수표 : \n",
            " [[0.07142857 0.03448276 0.00409836]\n",
            " [0.28571429 0.30049261 0.11885246]\n",
            " [0.07142857 0.12807882 0.21311475]]\n"
          ]
        }
      ]
    },
    {
      "cell_type": "markdown",
      "source": [
        "##### 생산유발계수(Lf)"
      ],
      "metadata": {
        "id": "V0nnZSeHUPn8"
      }
    },
    {
      "cell_type": "code",
      "source": [
        "Lf = np.linalg.inv(np.identity(3)-Ad)  # 생산유발계수\n",
        "Lf"
      ],
      "metadata": {
        "colab": {
          "base_uri": "https://localhost:8080/"
        },
        "id": "SF7hebVoQi2M",
        "outputId": "8eeb2694-bd02-450b-f59e-3a1cf98827ad"
      },
      "execution_count": 220,
      "outputs": [
        {
          "output_type": "execute_result",
          "data": {
            "text/plain": [
              "array([[1.09543838, 0.05661073, 0.01425599],\n",
              "       [0.47753427, 1.49491595, 0.22828175],\n",
              "       [0.17716386, 0.2484615 , 1.3092841 ]])"
            ]
          },
          "metadata": {},
          "execution_count": 220
        }
      ]
    },
    {
      "cell_type": "code",
      "source": [
        "df_Lf = pd.DataFrame(Lf.round(3),columns = ['농산품', '공산품', '서비스'], index=['농산품', '공산품', '서비스'])  #pandas로 내보내기"
      ],
      "metadata": {
        "id": "YT9SwuJnQi8T"
      },
      "execution_count": 221,
      "outputs": []
    },
    {
      "cell_type": "markdown",
      "source": [
        "#### 부가가치유발계수(Lv)"
      ],
      "metadata": {
        "id": "DkU6os7vUW-0"
      }
    },
    {
      "cell_type": "code",
      "source": [
        "Va_r = Tt_1[-2,0:3]/ct # 부가가치율\n",
        "Va_r"
      ],
      "metadata": {
        "colab": {
          "base_uri": "https://localhost:8080/"
        },
        "id": "KfbCR-LdQjCF",
        "outputId": "33345f2c-f7d6-42b6-a549-aa315b3fc19f"
      },
      "execution_count": 222,
      "outputs": [
        {
          "output_type": "execute_result",
          "data": {
            "text/plain": [
              "array([0.35714286, 0.33004926, 0.58606557])"
            ]
          },
          "metadata": {},
          "execution_count": 222
        }
      ]
    },
    {
      "cell_type": "code",
      "source": [
        "Va_m = np.diag(Va_r)  # 부가가치율 대각행렬\n",
        "Va_m"
      ],
      "metadata": {
        "colab": {
          "base_uri": "https://localhost:8080/"
        },
        "id": "7dkxNSQCQjJF",
        "outputId": "060bbc36-5790-4209-a53a-0fe7389fb6e7"
      },
      "execution_count": 223,
      "outputs": [
        {
          "output_type": "execute_result",
          "data": {
            "text/plain": [
              "array([[0.35714286, 0.        , 0.        ],\n",
              "       [0.        , 0.33004926, 0.        ],\n",
              "       [0.        , 0.        , 0.58606557]])"
            ]
          },
          "metadata": {},
          "execution_count": 223
        }
      ]
    },
    {
      "cell_type": "code",
      "source": [
        "Lv = Va_m@Lf  #부가가치유발계수\n",
        "Lv"
      ],
      "metadata": {
        "id": "DF_G_Hn09gRy",
        "colab": {
          "base_uri": "https://localhost:8080/"
        },
        "outputId": "b79ebe5e-c3c0-4381-8441-f398a6b2e492"
      },
      "execution_count": 224,
      "outputs": [
        {
          "output_type": "execute_result",
          "data": {
            "text/plain": [
              "array([[0.39122799, 0.02021812, 0.00509142],\n",
              "       [0.15760983, 0.49339591, 0.07534422],\n",
              "       [0.10382964, 0.14561473, 0.76732634]])"
            ]
          },
          "metadata": {},
          "execution_count": 224
        }
      ]
    },
    {
      "cell_type": "code",
      "source": [
        "df_Lv = pd.DataFrame(Lv.round(3),columns = ['농산품', '공산품', '서비스'], index=['농산품', '공산품', '서비스'])  # pandas로 내보내기"
      ],
      "metadata": {
        "id": "Od3StAXA86sf"
      },
      "execution_count": 225,
      "outputs": []
    },
    {
      "cell_type": "markdown",
      "source": [
        "#### 수입유발계수"
      ],
      "metadata": {
        "id": "G-NYB11hVLEO"
      }
    },
    {
      "cell_type": "code",
      "source": [
        "Ai = Im_1[0:3,0:3]/ct_m\n",
        "\n",
        "print('수입투입계수표 : \\n', Ai)\n",
        "\n",
        "df_Ai = pd.DataFrame(Ai.round(3))  #pandas로 내보내기"
      ],
      "metadata": {
        "id": "IRm-HtOf9KVx",
        "colab": {
          "base_uri": "https://localhost:8080/"
        },
        "outputId": "5cd447c5-e66b-443f-f860-005b2a8542ab"
      },
      "execution_count": 226,
      "outputs": [
        {
          "output_type": "stream",
          "name": "stdout",
          "text": [
            "수입투입계수표 : \n",
            " [[0.07142857 0.03448276 0.01229508]\n",
            " [0.07142857 0.16256158 0.04098361]\n",
            " [0.07142857 0.00985222 0.02459016]]\n"
          ]
        }
      ]
    },
    {
      "cell_type": "code",
      "source": [
        "Li = Ai@Lf  #수입유발계수\n",
        "Li"
      ],
      "metadata": {
        "id": "_8fZBBSX9kld",
        "outputId": "2d6db567-6b0c-49b2-e501-a070816df04a",
        "colab": {
          "base_uri": "https://localhost:8080/"
        }
      },
      "execution_count": 227,
      "outputs": [
        {
          "output_type": "execute_result",
          "data": {
            "text/plain": [
              "array([[0.09689054, 0.0586473 , 0.02498782],\n",
              "       [0.16313514, 0.25724237, 0.09178731],\n",
              "       [0.08730686, 0.02488157, 0.03546288]])"
            ]
          },
          "metadata": {},
          "execution_count": 227
        }
      ]
    },
    {
      "cell_type": "code",
      "source": [
        "df_Li = pd.DataFrame(Li.round(3),columns = ['농산품', '공산품', '서비스'], index=['농산품', '공산품', '서비스'])  #pandas로 내보내기"
      ],
      "metadata": {
        "id": "qxP0BGTe-J6J"
      },
      "execution_count": 228,
      "outputs": []
    },
    {
      "cell_type": "markdown",
      "source": [],
      "metadata": {
        "id": "rDsqvOxBbB5w"
      }
    },
    {
      "cell_type": "code",
      "source": [
        "# CSV파일로 결과 내보내기\n",
        "df_At.to_csv('총투입계수.csv')\n",
        "df_Ad.to_csv('국산투입계수.csv')\n",
        "df_Ai.to_csv('수입투입계수.csv')\n",
        "\n",
        "df_Lf.to_csv('생산유발계수.csv')\n",
        "df_Lv.to_csv('부가가치유발계수.csv')\n",
        "df_Li.to_csv('수입유발계수.csv')"
      ],
      "metadata": {
        "id": "Var3WdHW-NdY"
      },
      "execution_count": 229,
      "outputs": []
    },
    {
      "cell_type": "markdown",
      "source": [
        "### 최종수요 항목별 유발효과"
      ],
      "metadata": {
        "id": "6zhSQgh83SmB"
      }
    },
    {
      "cell_type": "markdown",
      "source": [
        "##### 생산유발효과"
      ],
      "metadata": {
        "id": "P8-fs47q3WzF"
      }
    },
    {
      "cell_type": "code",
      "source": [
        "Yd = Dt[0:3,5:8]  # 국산최종수요...소비, 투자, 수출\n",
        "Yi = It[0:3,5:8]  # 수입최종수요...소비, 투자, 수출\n",
        "print('국산최종수요 : \\n', Yd)\n",
        "print('수입최종수요 : \\n', Yi)"
      ],
      "metadata": {
        "id": "aZ0NQ51_-OTA",
        "colab": {
          "base_uri": "https://localhost:8080/"
        },
        "outputId": "74088332-3acb-45b8-c4d0-b078fa4a42dd"
      },
      "execution_count": 230,
      "outputs": [
        {
          "output_type": "stream",
          "name": "stdout",
          "text": [
            "국산최종수요 : \n",
            " [[1 2 2]\n",
            " [26 13 70]\n",
            " [104 46 15]]\n",
            "수입최종수요 : \n",
            " [[2 1 0]\n",
            " [6 6 3]\n",
            " [2 1 0]]\n"
          ]
        }
      ]
    },
    {
      "cell_type": "code",
      "source": [
        "Lfyd = (Lf@Yd).astype(float).reshape([3,3])   # 데이터타입을 float으로 지정하고 3x3행렬로 지정\n",
        "Lvyd = (Lv@Yd).astype(float).reshape([3,3])   # 데이터타입을 float으로 지정하고 3x3행렬로 지정\n",
        "Liyd = (Li@Yd).astype(float).reshape([3,3]) + Yi.astype(float).reshape([3,3]) # 데이터타입을 float으로 지정하고 3x3행렬로 지정\n",
        "\n",
        "print('최종수요항목별 생산유발계수 : \\n', Lfyd)\n",
        "print('최종수요항목별 부가가치유발계수 : \\n', Lvyd)\n",
        "print('최종수요항목별 수입유발계수 : \\n', Liyd)\n"
      ],
      "metadata": {
        "id": "vI4pjfvx-WU_",
        "colab": {
          "base_uri": "https://localhost:8080/"
        },
        "outputId": "efb48aa1-a18b-4abe-899d-b15b8e055d0a"
      },
      "execution_count": 231,
      "outputs": [
        {
          "output_type": "stream",
          "name": "stdout",
          "text": [
            "최종수요항목별 생산유발계수 : \n",
            " [[  4.04994023   3.58259176   6.36746801]\n",
            " [ 63.08665161  30.88993669 109.0234117 ]\n",
            " [142.80270952  63.81139594  37.38589454]]\n",
            "최종수요항목별 부가가치유발계수 : \n",
            " [[ 1.44640723  1.27949706  2.27409572]\n",
            " [20.82170275 10.19520078 35.98309647]\n",
            " [83.69175189 37.39766237 21.91058574]]\n",
            "최종수요항목별 수입유발계수 : \n",
            " [[ 6.22045424  3.10563599  4.67390977]\n",
            " [22.39731704 13.89263736 22.7100456 ]\n",
            " [ 6.42236685  3.12936645  2.4482667 ]]\n"
          ]
        }
      ]
    },
    {
      "cell_type": "code",
      "source": [
        "##### 최종수요항목별 유발계수 검증...최종수요항목별 생산유발계수=산출액, 최종수요항목별 부가가치유발계수=부가가치, 최종수요항목별 수입유발계수=수입 이 성립하여야 함  "
      ],
      "metadata": {
        "id": "2i4MUlDg5HPP"
      },
      "execution_count": 232,
      "outputs": []
    },
    {
      "cell_type": "code",
      "source": [
        "Lfyd_sm = Lfyd.sum(axis=1).astype(float).reshape([3,1])\n",
        "Lvyd_sm = Lvyd.sum(axis=1).astype(float).reshape([3,1])\n",
        "Liyd_sm = Liyd.sum(axis=1).astype(float).reshape([3,1])\n",
        "\n",
        "print('최종수요항목별 생산유발계수의 열합 : \\n', Lfyd_sm)\n",
        "print('최종수요항목별 부가가치유발의 열합 : \\n', Lvyd_sm)\n",
        "print('최종수요항목별 수입유발계의 열합 : \\n', Liyd_sm)"
      ],
      "metadata": {
        "colab": {
          "base_uri": "https://localhost:8080/"
        },
        "id": "kJH9hmlC5HUr",
        "outputId": "6683d951-d23c-4787-ed3a-b851fbf54cf7"
      },
      "execution_count": 233,
      "outputs": [
        {
          "output_type": "stream",
          "name": "stdout",
          "text": [
            "최종수요항목별 생산유발계수의 열합 : \n",
            " [[ 14.]\n",
            " [203.]\n",
            " [244.]]\n",
            "최종수요항목별 부가가치유발의 열합 : \n",
            " [[  5.]\n",
            " [ 67.]\n",
            " [143.]]\n",
            "최종수요항목별 수입유발계의 열합 : \n",
            " [[14.]\n",
            " [59.]\n",
            " [12.]]\n"
          ]
        }
      ]
    },
    {
      "cell_type": "markdown",
      "source": [
        "###### 최종수요항목별 생산, 부가가치 및 수입유발계수"
      ],
      "metadata": {
        "id": "lIoPBD-Fae1A"
      }
    },
    {
      "cell_type": "code",
      "source": [
        "Yd_rw_sm =Yd.sum(axis=0)  #국산최종수요항목별(소비, 투자, 수출) 행합\n",
        "Yi_rw_sm =Yi.sum(axis=0)  #수입최종수요항목별(소비, 투자, 수출) 행합\n",
        "\n",
        "Lfyd_rw_sm = Lfyd.sum(axis=0) # 최종수요항목별(소비, 투자, 수출) 생산유발계수 행합\n",
        "Lvyd_rw_sm = Lvyd.sum(axis=0) # 최종수요항목별(소비, 투자, 수출) 부가가치유발계수 행합\n",
        "Liyd_rw_sm = Liyd.sum(axis=0) # 최종수요항목별(소비, 투자, 수출) 수입유발계수 행합\n",
        "\n",
        "print('최종수요항목별 행합 : \\n', Yd_rw_sm)\n",
        "print('최종수요항목별 생산유발계수 행합 : \\n', Lfyd_rw_sm)\n",
        "print('최종수요항목별 부가가치유발계수 행합 : \\n', Lvyd_rw_sm)\n",
        "print('최종수요항목별 수입유발계수 행합: \\n', Liyd_rw_sm)"
      ],
      "metadata": {
        "colab": {
          "base_uri": "https://localhost:8080/"
        },
        "id": "6XUSbGUyanOq",
        "outputId": "d90f068a-14ed-4233-c785-bb68964a2592"
      },
      "execution_count": 234,
      "outputs": [
        {
          "output_type": "stream",
          "name": "stdout",
          "text": [
            "최종수요항목별 행합 : \n",
            " [131 61 87]\n",
            "최종수요항목별 생산유발계수 행합 : \n",
            " [209.93930137  98.28392438 152.77677425]\n",
            "최종수요항목별 부가가치유발계수 행합 : \n",
            " [105.95986187  48.87236021  60.16777793]\n",
            "최종수요항목별 수입유발계수 행합: \n",
            " [35.04013813 20.12763979 29.83222207]\n"
          ]
        }
      ]
    },
    {
      "cell_type": "markdown",
      "source": [
        "##### 최종수요항목별(소비, 투자, 수출) 유발계수"
      ],
      "metadata": {
        "id": "_hjFJ_N0dggV"
      }
    },
    {
      "cell_type": "code",
      "source": [
        "Lfyd_coef =(Lfyd_rw_sm/Yd_rw_sm).astype(float).reshape([1,3]) #최종수요항목별(소비, 투자, 수출) 생산유발계수\n",
        "Lvyd_coef =(Lvyd_rw_sm/Yd_rw_sm).astype(float).reshape([1,3]) #최종수요항목별(소비, 투자, 수출) 생산유발계수\n",
        "Liyd_coef =(Liyd_rw_sm/(Yd_rw_sm+Yi_rw_sm)).astype(float).reshape([1,3]) #최종수요항목별(소비, 투자, 수출) 생산유발계수\n",
        "\n",
        "print('최종수요항목별(소비, 투자, 수출) 생산유발계수 행합 : \\n', Lfyd_coef)\n",
        "print('최종수요항목별(소비, 투자, 수출) 부가가치유발계수 행합 : \\n', Lvyd_coef)\n",
        "print('최종수요항목별(소비, 투자, 수출) 수입유발계수 행합: \\n', Liyd_coef)"
      ],
      "metadata": {
        "colab": {
          "base_uri": "https://localhost:8080/"
        },
        "id": "MmV_4BB-anZi",
        "outputId": "d48d334f-5b20-4cfb-ecb7-ca68739e759c"
      },
      "execution_count": 235,
      "outputs": [
        {
          "output_type": "stream",
          "name": "stdout",
          "text": [
            "최종수요항목별(소비, 투자, 수출) 생산유발계수 행합 : \n",
            " [[1.60259009 1.61121188 1.75605488]]\n",
            "최종수요항목별(소비, 투자, 수출) 부가가치유발계수 행합 : \n",
            " [[0.80885391 0.80118623 0.69158365]]\n",
            "최종수요항목별(소비, 투자, 수출) 수입유발계수 행합: \n",
            " [[0.24851162 0.29170492 0.33146913]]\n"
          ]
        }
      ]
    },
    {
      "cell_type": "markdown",
      "source": [
        "###### 영향력계수(후방연쇄효과) 및 감응도계수(전방연쇄효과)"
      ],
      "metadata": {
        "id": "Kr23Ly0AhpVR"
      }
    },
    {
      "cell_type": "code",
      "source": [
        "Lf_rw_sm = Lf.sum(axis=0)  # 생산유발계수 행합\n",
        "Lf_cl_sm = Lf.sum(axis=1)  # 생산유발계수 행합\n",
        "\n",
        "Lf_bwd = (Lf.sum(axis=0)/Lf_rw_sm.mean()).astype(float).reshape([1,3])  #영향력 계수\n",
        "Lf_fwd = (Lf.sum(axis=1)/Lf_cl_sm.mean()).astype(float).reshape([1,3])  #감응도 계수\n",
        "\n",
        "print('품목별 영향력계수 : \\n', Lf_bwd)\n",
        "print('품목별 감음도계수: \\n', Lf_fwd)"
      ],
      "metadata": {
        "colab": {
          "base_uri": "https://localhost:8080/"
        },
        "id": "DxnO-URDanip",
        "outputId": "94366d53-4f5d-454d-89d4-cedbcdcecd1f"
      },
      "execution_count": 236,
      "outputs": [
        {
          "output_type": "stream",
          "name": "stdout",
          "text": [
            "품목별 영향력계수 : \n",
            " [[1.02909928 1.05841261 0.9124881 ]]\n",
            "품목별 감음도계수: \n",
            " [[0.68580007 1.29405432 1.02014561]]\n"
          ]
        }
      ]
    },
    {
      "cell_type": "code",
      "source": [
        "# pandas로 변환기\n",
        "\n",
        "df_Lfyd =pd.DataFrame(Lfyd.round(1),columns = ['농산품', '공산품', '서비스'], index=['소비', '투자', '수출'])  #pandas로 내보내기\n",
        "df_Lvyd =pd.DataFrame(Lvyd.round(1),columns = ['농산품', '공산품', '서비스'], index=['소비', '투자', '수출'])  \n",
        "df_Liyd =pd.DataFrame(Liyd.round(1),columns = ['농산품', '공산품', '서비스'], index=['소비', '투자', '수출'])  \n",
        "\n",
        "df_Lfyd_coef = pd.DataFrame(Lfyd_coef.round(3),columns = ['농산품', '공산품', '서비스'], index=['항목별 생산유발계수'])\n",
        "df_Lvyd_coef = pd.DataFrame(Lvyd_coef.round(3),columns = ['농산품', '공산품', '서비스'], index=['항목별 부가가치유발계수'])\n",
        "df_Liyd_coef = pd.DataFrame(Liyd_coef.round(3),columns = ['농산품', '공산품', '서비스'], index=['항목별 수입유발계수'])\n",
        "\n",
        "df_Lf_bwd = pd.DataFrame(Lf_bwd.round(3), columns = ['농산품', '공산품', '서비스'], index=['영향력계수'])\n",
        "df_Lf_fwd = pd.DataFrame(Lf_fwd.round(3), columns = ['농산품', '공산품', '서비스'], index=['영향력계수'])\n",
        "\n",
        "print(df_Lfyd)\n",
        "print(df_Lvyd)\n",
        "print(df_Liyd)\n",
        "\n",
        "print(df_Lfyd_coef)\n",
        "print(df_Lvyd_coef)\n",
        "print(df_Liyd_coef)\n",
        "\n",
        "print(df_Lf_bwd)\n",
        "print(df_Lf_fwd)"
      ],
      "metadata": {
        "colab": {
          "base_uri": "https://localhost:8080/"
        },
        "id": "Uy-18-Rxanp2",
        "outputId": "a2f7a54e-abc8-404b-c4a8-e2a2e89a1645"
      },
      "execution_count": 237,
      "outputs": [
        {
          "output_type": "stream",
          "name": "stdout",
          "text": [
            "      농산품   공산품    서비스\n",
            "소비    4.0   3.6    6.4\n",
            "투자   63.1  30.9  109.0\n",
            "수출  142.8  63.8   37.4\n",
            "     농산품   공산품   서비스\n",
            "소비   1.4   1.3   2.3\n",
            "투자  20.8  10.2  36.0\n",
            "수출  83.7  37.4  21.9\n",
            "     농산품   공산품   서비스\n",
            "소비   6.2   3.1   4.7\n",
            "투자  22.4  13.9  22.7\n",
            "수출   6.4   3.1   2.4\n",
            "              농산품    공산품    서비스\n",
            "항목별 생산유발계수  1.603  1.611  1.756\n",
            "                농산품    공산품    서비스\n",
            "항목별 부가가치유발계수  0.809  0.801  0.692\n",
            "              농산품    공산품    서비스\n",
            "항목별 수입유발계수  0.249  0.292  0.331\n",
            "         농산품    공산품    서비스\n",
            "영향력계수  1.029  1.058  0.912\n",
            "         농산품    공산품   서비스\n",
            "영향력계수  0.686  1.294  1.02\n"
          ]
        }
      ]
    },
    {
      "cell_type": "code",
      "source": [
        "# csv 파일로 내보내기\n",
        "df_Lfyd.to_csv('최종수요항목별 생산유발액.csv')\n",
        "df_Lvyd.to_csv('최종수요항목별 부가가치유발액.csv')\n",
        "df_Liyd.to_csv('최종수요항목별 수입유발액.csv')\n",
        "\n",
        "df_Lfyd_coef.to_csv('최종수요항목별 생산유발계수.csv')\n",
        "df_Lvyd_coef.to_csv('최종수요항목별 부가가치유발계수.csv')\n",
        "df_Liyd_coef.to_csv('최종수요항목별 수입유발계수.csv')\n",
        "\n",
        "df_Lf_bwd.to_csv('영향력계수.csv')\n",
        "df_Lf_bwd.to_csv('감응도계수.csv')"
      ],
      "metadata": {
        "id": "Dk8oBy3oanwg"
      },
      "execution_count": 238,
      "outputs": []
    },
    {
      "cell_type": "code",
      "source": [],
      "metadata": {
        "id": "G-mJLG0can6J"
      },
      "execution_count": 238,
      "outputs": []
    },
    {
      "cell_type": "code",
      "source": [],
      "metadata": {
        "id": "OcdzFts-aoCe"
      },
      "execution_count": 238,
      "outputs": []
    },
    {
      "cell_type": "code",
      "source": [
        "#pandas로 내보내기\n",
        "\n",
        "# df_Lfyd = pd.DataFrame(Lfyd.round(3),columns = ['농산품', '공산품', '서비스'], index=['농산품', '공산품', '서비스'])  \n",
        "# df_Lvyd = pd.DataFrame(Lvyd.round(3),columns = ['농산품', '공산품', '서비스'], index=['농산품', '공산품', '서비스'])  \n",
        "# df_Liyd = pd.DataFrame(Liyd.round(3),columns = ['농산품', '공산품', '서비스'], index=['농산품', '공산품', '서비스']) \n"
      ],
      "metadata": {
        "id": "IrTVIJP06hir"
      },
      "execution_count": 239,
      "outputs": []
    },
    {
      "cell_type": "code",
      "source": [
        "# # csv 파일로 내보내기\n",
        "\n",
        "# df_Lfyd.to_csv('최종수요항목별_생산유발.csv')\n",
        "# df_Lvyd.to_csv('최종수요항목별_부가가치유발.csv')\n",
        "# df_Liyd.to_csv('최종수요항목별_수입유발.csv')"
      ],
      "metadata": {
        "id": "aBWNCPV-_T6J"
      },
      "execution_count": 240,
      "outputs": []
    },
    {
      "cell_type": "markdown",
      "source": [
        "### 물가파급효과 분석\n",
        "\n",
        "\n",
        "##### - 투입계수의 전치행렬을 이용하여 생산유발계수(Lf)을 이용하여 각종 물가파급효과 분석 가능"
      ],
      "metadata": {
        "id": "LrSLa3VTD5Nd"
      }
    },
    {
      "cell_type": "code",
      "source": [
        "At_trans = At.T  # 총투입계수의 전치행렬\n",
        "Ad_trans = Ad.T  # 국산투입계수의 전치행렬\n",
        "Ai_trans = Ai.T  # 국산투입계수의 전치행렬\n",
        "\n",
        "print('총투입계수의 전치행렬 : \\n', At_trans)\n",
        "print('국산투입계수의 전치행렬: \\n', Ad_trans)\n",
        "print('수입투입계수의 전치행렬: \\n', Ai_trans)\n",
        "\n",
        "Lf_trans = np.linalg.inv(np.identity(3)-Ad_trans)  # (I-Ad_trans)의 역행렬 \n",
        "print('국산투입계수 전치행렬의 역행렬: \\n', Lf_trans)"
      ],
      "metadata": {
        "id": "QlwdX5oMD71E",
        "outputId": "14eefd91-be8f-4299-97af-b339461e9457",
        "colab": {
          "base_uri": "https://localhost:8080/"
        }
      },
      "execution_count": 241,
      "outputs": [
        {
          "output_type": "stream",
          "name": "stdout",
          "text": [
            "총투입계수의 전치행렬 : \n",
            " [[0.14285714 0.35714286 0.14285714]\n",
            " [0.06896552 0.46305419 0.13793103]\n",
            " [0.01639344 0.15983607 0.23770492]]\n",
            "국산투입계수의 전치행렬: \n",
            " [[0.07142857 0.28571429 0.07142857]\n",
            " [0.03448276 0.30049261 0.12807882]\n",
            " [0.00409836 0.11885246 0.21311475]]\n",
            "수입투입계수의 전치행렬: \n",
            " [[0.07142857 0.07142857 0.07142857]\n",
            " [0.03448276 0.16256158 0.00985222]\n",
            " [0.01229508 0.04098361 0.02459016]]\n",
            "국산투입계수 전치행렬의 역행렬: \n",
            " [[1.09543838 0.47753427 0.17716386]\n",
            " [0.05661073 1.49491595 0.2484615 ]\n",
            " [0.01425599 0.22828175 1.3092841 ]]\n"
          ]
        }
      ]
    },
    {
      "cell_type": "markdown",
      "source": [],
      "metadata": {
        "id": "aBgrgkliI_uH"
      }
    },
    {
      "cell_type": "markdown",
      "source": [
        "#### 임금인상의 물가파급효과"
      ],
      "metadata": {
        "id": "VmIala71I_1M"
      }
    },
    {
      "cell_type": "code",
      "source": [
        "delta_all_w = np.array([10,10,10]).reshape([3,1]) # 모든 상품의 임금이 10% 상승\n",
        "delta_all_Pw = (Lf_trans@Va_m)@delta_all_w\n",
        "\n",
        "delta_par_w = np.array([0,10,0]).reshape([3,1]) # 공산품의 임금이 10% 상승\n",
        "delta_par_Pw = (Lf_trans@Va_m)@delta_par_w\n",
        "\n",
        "print('모든 상품의 임금이 10% 상승시 물가파급효과: \\n', delta_all_Pw)\n",
        "print('공산품의 임금이 10% 상승시 물가파급효과: \\n', delta_par_Pw)\n"
      ],
      "metadata": {
        "id": "hT30koHOD8WG",
        "outputId": "e2713b4b-68ab-4f80-d4bd-ef7a0f8f4d2e",
        "colab": {
          "base_uri": "https://localhost:8080/"
        }
      },
      "execution_count": 242,
      "outputs": [
        {
          "output_type": "stream",
          "name": "stdout",
          "text": [
            "모든 상품의 임금이 10% 상승시 물가파급효과: \n",
            " [[6.52667464]\n",
            " [6.5922876 ]\n",
            " [8.47761987]]\n",
            "공산품의 임금이 10% 상승시 물가파급효과: \n",
            " [[1.57609835]\n",
            " [4.93395906]\n",
            " [0.75344225]]\n"
          ]
        }
      ]
    },
    {
      "cell_type": "markdown",
      "source": [
        "#### 공산품 등 내생부분(중간투입품) 가격변동의 물가파급효과"
      ],
      "metadata": {
        "id": "lz8QJDXeZA_n"
      }
    },
    {
      "cell_type": "code",
      "source": [
        "#### 중간투입되는 공산품의 물가변동의 파급효과 분석\n",
        "\n",
        "Ad_exd_row = np.delete(Ad_trans,1,0).reshape([2,3])  # 공산품(sectors2) 행 삭제\n",
        "Ad_exd_manu = np.delete(Ad_exd_row,1,1).reshape([2,2])  # 공산품(sectors2) 열 삭제,,최종적으로 2x2 행렬\n",
        "print('물가변동이 발생한 부문을 제가한 국산투입계수 : \\n', Ad_exd_manu)\n",
        "\n",
        "A_Pr_sec2 = np.concatenate((Ad_trans[0,1].reshape([1,1]),Ad_trans[2,1].reshape([1,1])),axis=0).reshape([2,1])  # 물가가 변동하는 부문의 국산 투입계수(a21, a23)\n",
        "print('물가변동이 발생한 부문의 국산투입계수 : \\n', A_Pr_sec2)\n",
        "\n",
        "#공산품 물가 10% 상승시 파급효과\n",
        "\n",
        "delta_manu_Pw = Ad_exd_manu@A_Pr_sec2*10\n",
        "print('공산품 10% 상승시 다른 부문의 물가변동 : \\n', delta_manu_Pw)"
      ],
      "metadata": {
        "id": "MH8Zx-JXD8ZG",
        "colab": {
          "base_uri": "https://localhost:8080/"
        },
        "outputId": "acf4e5a8-ec65-4709-d7f8-4bb74f6e4d91"
      },
      "execution_count": 243,
      "outputs": [
        {
          "output_type": "stream",
          "name": "stdout",
          "text": [
            "물가변동이 발생한 부문을 제가한 국산투입계수 : \n",
            " [[0.07142857 0.07142857]\n",
            " [0.00409836 0.21311475]]\n",
            "물가변동이 발생한 부문의 국산투입계수 : \n",
            " [[0.28571429]\n",
            " [0.11885246]]\n",
            "공산품 10% 상승시 다른 부문의 물가변동 : \n",
            " [[0.28897625]\n",
            " [0.26500173]]\n"
          ]
        }
      ]
    },
    {
      "cell_type": "markdown",
      "source": [
        "#### 수입산품 가격변동의 물가파급효과\n"
      ],
      "metadata": {
        "id": "KGihX7EPGGt3"
      }
    },
    {
      "cell_type": "code",
      "source": [
        "Imp_Pw = np.array([10,0,0]).reshape([3,1]) # 수입농산물 10% 상승\n",
        "delta_imp_Pw =  ((Lf_trans @Ai_trans)@Imp_Pw).reshape([3,1])\n",
        "\n",
        "print('수입통산품 가격 10% 상승시 다른 부문의 물가변동 : \\n', delta_imp_Pw)"
      ],
      "metadata": {
        "colab": {
          "base_uri": "https://localhost:8080/"
        },
        "id": "5p1nygTxZI38",
        "outputId": "a04bc3bf-2a38-453d-da28-847ec11b8ae2"
      },
      "execution_count": 244,
      "outputs": [
        {
          "output_type": "stream",
          "name": "stdout",
          "text": [
            "수입통산품 가격 10% 상승시 다른 부문의 물가변동 : \n",
            " [[0.96890542]\n",
            " [0.58647304]\n",
            " [0.24987825]]\n"
          ]
        }
      ]
    },
    {
      "cell_type": "code",
      "source": [
        "#pandas로 내보\n",
        "\n",
        "df_delta_all_Pw = pd.DataFrame(delta_all_Pw.round(3),columns = ['물가상승률'], index=['농산품', '공산품', '서비스'])  # 모든 부문의 임금 10% 상승\n",
        "df_delta_par_Pw = pd.DataFrame(delta_par_Pw.round(3),columns = ['물가상승률'], index=['농산품', '공산품', '서비스'])  # 공산품 부문의 임금 10% 상승\n",
        "df_delta_manu_Pw = pd.DataFrame(delta_manu_Pw.round(3),columns = ['물가상승률'], index=['농산품', '서비스'])        # 공산품 물가 10% 상승\n",
        "df_delta_imp_Pw = pd.DataFrame(delta_imp_Pw.round(3),columns = ['물가상승률'], index=['농산품', '공산품', '서비스'])   # 수입 농산품 물가 10% 상승"
      ],
      "metadata": {
        "id": "Njxfr_mbHtnA"
      },
      "execution_count": 245,
      "outputs": []
    },
    {
      "cell_type": "code",
      "source": [
        "df_delta_all_Pw.to_csv('모든 부문 임금 10% 상승.csv')\n",
        "df_delta_par_Pw.to_csv('공산품 부문 임금 10% 상승.csv')\n",
        "df_delta_manu_Pw.to_csv('공산품 물가 10% 상승.csv')\n",
        "df_delta_imp_Pw.to_csv('수입 농산품 물가 10% 상승.csv')"
      ],
      "metadata": {
        "id": "Q0fXvrqKKjRH"
      },
      "execution_count": 246,
      "outputs": []
    },
    {
      "cell_type": "markdown",
      "source": [
        "### 서비스 부문의 내생화"
      ],
      "metadata": {
        "id": "0T6xGJKLAhvD"
      }
    },
    {
      "cell_type": "code",
      "source": [
        "# 생산유발액\n",
        "\n",
        "Ad_ser_etr = Ad[0:2,0:2] # 서비스가 제거된 농산품과 공산품만 포함된 국산투입계수\n",
        "Lf_Ad_ser_etr = np.linalg.inv(np.identity(2)-Ad_ser_etr) # 역행렬(생산유발계수)\n",
        "print('농산품과 공산품으로 구성된 생산유발계수: \\n', Lf_Ad_ser_etr)\n",
        "\n",
        "Ad_ser =Ad[0:2,2].reshape([2,1])\n",
        "print('서비스의 국산투입계수(농산품과 공산품만 포함): \\n', Ad_ser)\n",
        "\n",
        "Mtp_ser = Lf_Ad_ser_etr@Ad_ser # 서비스 외생화의 효과를 계산하기 위한 멀티플라이어\n",
        "print('외생화 부문의 효과를 계산하기 위한 멀티플라이어: \\n', Mtp_ser)\n",
        "\n",
        "Amt_etr = Mtp_ser*244 # 서비스 총산출(총투자) 3,432,811의 각 산업 생산유발액\n",
        "print('유발액: \\n', Amt_etr)\n"
      ],
      "metadata": {
        "id": "ImapvnHSM3mu",
        "colab": {
          "base_uri": "https://localhost:8080/"
        },
        "outputId": "5bb20133-61ff-46c9-b93b-4dfda73db01f"
      },
      "execution_count": 247,
      "outputs": [
        {
          "output_type": "stream",
          "name": "stdout",
          "text": [
            "농산품과 공산품으로 구성된 생산유발계수: \n",
            " [[1.09350935 0.05390539]\n",
            " [0.44664466 1.45159516]]\n",
            "서비스의 국산투입계수(농산품과 공산품만 포함): \n",
            " [[0.00409836]\n",
            " [0.11885246]]\n",
            "외생화 부문의 효과를 계산하기 위한 멀티플라이어: \n",
            " [[0.01088838]\n",
            " [0.17435617]]\n",
            "유발액: \n",
            " [[ 2.65676568]\n",
            " [42.54290429]]\n"
          ]
        }
      ]
    },
    {
      "cell_type": "code",
      "source": [
        "# 수입유발액\n",
        "Ai_ser_etr = Ai[0:2,0:2] # 서비스가 제거된 농산품과 공산품만 포함된 수입투입계수\n",
        "Ai_ser_dr = Ai[:,2].sum().reshape([1,1])\n",
        "\n",
        "Mtp_imp_indr = Ai_ser_etr@Mtp_ser  # 간접효과 멀티플라이어\n",
        "print('간접효과 멀티플라이어: \\n', Mtp_imp_indr)\n",
        "\n",
        "Amt_imp_indr = Mtp_imp_indr*244 # 간접효과\n",
        "Amt_imp_dr = Ai_ser_dr*244      # 직접효과\n",
        "Amt_imp_tot = Amt_imp_indr.sum() + Amt_imp_dr  \n",
        "\n",
        "print('간접효과 : \\n', Amt_imp_indr)\n",
        "print('직접효과 : \\n', Amt_imp_dr)\n",
        "print('총효과 : \\n', Amt_imp_tot)\n"
      ],
      "metadata": {
        "colab": {
          "base_uri": "https://localhost:8080/"
        },
        "id": "lKcch7NXAyaQ",
        "outputId": "4d3c838e-49fa-4db7-fae6-c75643c1de8c"
      },
      "execution_count": 248,
      "outputs": [
        {
          "output_type": "stream",
          "name": "stdout",
          "text": [
            "간접효과 멀티플라이어: \n",
            " [[0.00679002]\n",
            " [0.02912135]]\n",
            "간접효과 : \n",
            " [[1.65676568]\n",
            " [7.10561056]]\n",
            "직접효과 : \n",
            " [[19.]]\n",
            "총효과 : \n",
            " [[27.76237624]]\n"
          ]
        }
      ]
    },
    {
      "cell_type": "code",
      "source": [
        "# 부가가치유발액\n",
        "Av_ser_etr = Va_m[0:2,0:2] # 서비스가 제거된 농산품과 공산품만 포함된 부가가치율\n",
        "Av_ser_dr = Va_m[2,2].reshape([1,1])  # 서비스의 부가가치율\n",
        "\n",
        "Mtp_var_indr = Av_ser_etr@Mtp_ser  # 간접효과 멀티플라이어\n",
        "print('간접효과 멀티플라이어: \\n', Mtp_var_indr)\n",
        "\n",
        "Amt_var_indr = Mtp_var_indr*244  # 간접효과\n",
        "Amt_var_dr= Av_ser_dr*244       # 직접효과\n",
        "Amt_var_tot = Amt_var_indr.sum() + Amt_var_dr\n",
        "\n",
        "print('간접효과 : \\n', Amt_var_indr)\n",
        "print('직접효과 : \\n', Amt_var_dr)\n",
        "print('총효과 : \\n', Amt_var_tot)"
      ],
      "metadata": {
        "colab": {
          "base_uri": "https://localhost:8080/"
        },
        "id": "z0oF5lwlKqlY",
        "outputId": "6dfee452-7e68-409e-ae38-ec4f4860d4d5"
      },
      "execution_count": 249,
      "outputs": [
        {
          "output_type": "stream",
          "name": "stdout",
          "text": [
            "간접효과 멀티플라이어: \n",
            " [[0.00388871]\n",
            " [0.05754612]]\n",
            "간접효과 : \n",
            " [[ 0.94884488]\n",
            " [14.04125413]]\n",
            "직접효과 : \n",
            " [[143.]]\n",
            "총효과 : \n",
            " [[157.99009901]]\n"
          ]
        }
      ]
    },
    {
      "cell_type": "markdown",
      "source": [
        "### 산출 변동요인분해"
      ],
      "metadata": {
        "id": "00a8dQ_-Ug2y"
      }
    },
    {
      "cell_type": "code",
      "source": [
        "# 2015년 거래표 다운로드\n",
        "\n",
        "url_total = \"https://raw.githubusercontent.com/Tom-Jung/legendary-funicular/main/%EC%B4%9D%EA%B1%B0%EB%9E%98%ED%91%9C_2015_%EB%B6%88%EB%B3%80.csv\"  # 불변 2015년 총거래표\n",
        "Tot_cst_15 = pd.read_csv(url_total)\n",
        "\n",
        "url_imp = \"https://raw.githubusercontent.com/Tom-Jung/legendary-funicular/main/%EC%88%98%EC%9E%85%EA%B1%B0%EB%9E%98%ED%91%9C_2015_%EB%B6%88%EB%B3%80.csv\"  # 불변 2015년 총거래표\n",
        "Imp_cst_15 = pd.read_csv(url_imp)\n",
        "\n",
        "url_dom = \"https://raw.githubusercontent.com/Tom-Jung/legendary-funicular/main/%EA%B5%AD%EC%82%B0%EA%B1%B0%EB%9E%98%ED%91%9C_2015_%EB%B6%88%EB%B3%80.csv\"  # 불변 2015년 총거래표\n",
        "Dom_cst_15 = pd.read_csv(url_dom)"
      ],
      "metadata": {
        "id": "5iSPH3zYKquU"
      },
      "execution_count": 312,
      "outputs": []
    },
    {
      "cell_type": "code",
      "source": [
        "# 2010년 거래표 다운로드\n",
        "\n",
        "url_total = \"https://raw.githubusercontent.com/Tom-Jung/legendary-funicular/main/%EC%B4%9D%EA%B1%B0%EB%9E%98%ED%91%9C_2010_%EB%B6%88%EB%B3%80.csv\"  # 불변 2015년 총거래표\n",
        "Tot_cst_10 = pd.read_csv(url_total)\n",
        "\n",
        "url_imp = \"https://raw.githubusercontent.com/Tom-Jung/legendary-funicular/main/%EC%88%98%EC%9E%85%EA%B1%B0%EB%9E%98%ED%91%9C_2010_%EB%B6%88%EB%B3%80.csv\"  # 불변 2015년 총거래표\n",
        "Imp_cst_10 = pd.read_csv(url_imp)\n",
        "\n",
        "url_dom = \"https://raw.githubusercontent.com/Tom-Jung/legendary-funicular/main/%EA%B5%AD%EC%82%B0%EA%B1%B0%EB%9E%98%ED%91%9C_2010_%EB%B6%88%EB%B3%80.csv\"  # 불변 2015년 총거래표\n",
        "Dom_cst_10 = pd.read_csv(url_dom)"
      ],
      "metadata": {
        "id": "o8Pv_b5hKqyW"
      },
      "execution_count": 313,
      "outputs": []
    },
    {
      "cell_type": "code",
      "source": [
        "Tot_cst_10"
      ],
      "metadata": {
        "id": "f9aN0wIQGi15",
        "outputId": "476eda98-db33-4424-ede1-928ac5d86473",
        "colab": {
          "base_uri": "https://localhost:8080/",
          "height": 1000
        }
      },
      "execution_count": 314,
      "outputs": [
        {
          "output_type": "execute_result",
          "data": {
            "text/plain": [
              "    code                 name           A          B          C01         C02  \\\n",
              "0   code                 name       농림수산품        광산품         음식료품   섬유 및 가죽제품   \n",
              "1      A                농림수산품   4,544,170      3,784   32,725,653     700,461   \n",
              "2      B                  광산품         957          0       17,678       5,043   \n",
              "3    C01                 음식료품   9,706,871      3,379   15,453,761     706,857   \n",
              "4    C02            섬유 및 가죽제품     524,956      4,681      173,393  21,063,924   \n",
              "5    C03          목재 및 종이, 인쇄     691,769     10,841    2,003,826     839,853   \n",
              "6    C04            석탄 및 석유제품   1,373,308    163,739      406,932     380,496   \n",
              "7    C05                 화학제품   4,436,247    122,834    2,966,991   6,825,397   \n",
              "8    C06              비금속광물제품      27,555        539      487,171      13,975   \n",
              "9    C07              1차 금속제품      73,278      7,967        5,021      45,095   \n",
              "10   C08               금속가공제품      45,516     56,295    1,058,574     526,910   \n",
              "11   C09       컴퓨터, 전자 및 광학기기      60,900        813       31,288      21,327   \n",
              "12   C10                 전기장비     133,395     19,724       25,283      62,306   \n",
              "13   C11              기계 및 장비     260,939     56,661      307,613     380,650   \n",
              "14   C12                 운송장비     329,409    104,181       47,259      42,973   \n",
              "15   C13            기타 제조업 제품       7,811        457       43,979     798,593   \n",
              "16   C14    제조임가공 및 산업용 장비 수리      92,842     51,187    1,783,241   8,108,178   \n",
              "17     D          전력, 가스 및 증기     398,233     95,926      589,013   1,290,600   \n",
              "18     E   수도, 폐기물처리 및 재활용서비스     124,865      4,239      394,644     136,625   \n",
              "19     F                   건설     143,153     10,822       61,996      40,180   \n",
              "20     G        도소매 및 상품중개서비스   2,004,516     54,882    7,927,788   4,737,938   \n",
              "21     H                운송서비스     960,693    485,690    3,313,247   1,836,728   \n",
              "22     I          음식점 및 숙박서비스     296,567     42,864      219,462     383,221   \n",
              "23     J        정보통신 및 방송 서비스     126,823      8,299      169,339     163,987   \n",
              "24     K          금융 및 보험 서비스   1,004,092    154,451      890,939     850,391   \n",
              "25     L               부동산서비스      45,649      9,722      314,063     620,305   \n",
              "26     M      전문, 과학 및 기술 서비스     327,639     78,283    3,324,778   3,026,441   \n",
              "27     N              사업지원서비스      91,133     67,674      219,024     363,128   \n",
              "28     O      공공행정, 국방 및 사회보장      79,674        290        7,908       5,861   \n",
              "29     P                교육서비스       4,629        410       18,631      17,930   \n",
              "30     Q        보건 및 사회복지 서비스      70,701      3,365       38,804      26,571   \n",
              "31     R  예술, 스포츠 및 여가 관련 서비스      33,365      6,054       62,401     116,494   \n",
              "32     S               기타 서비스      69,108      7,416       74,586      71,448   \n",
              "33  9590                중간투입계  28,090,763  1,637,469   75,164,286  54,209,886   \n",
              "34  9610                피용자보수   4,108,561    563,886    7,051,554   6,053,004   \n",
              "35  9621                 영업잉여  19,713,168  1,009,744    3,553,281   4,738,672   \n",
              "36  9622               고정자본소모   4,819,534    327,731    3,314,184   1,764,530   \n",
              "37  9630           생산세(보조금공제)    -316,598    -46,328    9,593,103   1,931,870   \n",
              "38  9690                부가가치계   2,689,989    312,449    7,987,302   4,050,263   \n",
              "39  9780                  조정항  31,014,654  2,167,482   31,499,424  18,538,339   \n",
              "40  9790                 총투입계  59,105,417  3,804,951  106,663,710  72,748,225   \n",
              "\n",
              "            C03         C04          C05         C06  ...         9121  \\\n",
              "0   목재 및 종이, 인쇄   석탄 및 석유제품         화학제품     비금속광물제품  ...   민간고정\\n자본형성   \n",
              "1     1,020,190       1,269    1,096,739       3,216  ...      508,027   \n",
              "2        41,764  48,476,793    2,833,079   2,591,961  ...            0   \n",
              "3        69,338       9,933      992,240      21,645  ...            0   \n",
              "4       398,573      27,134    1,343,399     120,029  ...      147,863   \n",
              "5    13,027,047      75,445    1,428,720     514,336  ...            0   \n",
              "6       390,159   2,898,104   18,963,457   1,692,348  ...            0   \n",
              "7     2,880,753   1,243,749   70,566,122   2,266,429  ...            0   \n",
              "8        71,141      18,007      684,466   5,326,330  ...            0   \n",
              "9        92,227      83,750    2,098,373     632,952  ...   -1,793,577   \n",
              "10      176,906     543,011    1,654,051     580,472  ...    3,030,134   \n",
              "11       42,636      91,130      324,179      85,415  ...   15,290,602   \n",
              "12       62,514      66,163      251,925     187,021  ...    9,475,491   \n",
              "13      203,367     527,083    2,604,176     481,443  ...   49,052,876   \n",
              "14       66,394      39,798      169,364     230,980  ...   26,897,447   \n",
              "15       19,784       3,098       40,523       6,531  ...    1,513,642   \n",
              "16      987,844      41,530    2,701,717     628,184  ...       61,994   \n",
              "17    1,099,667     875,679    3,676,584   1,051,476  ...            0   \n",
              "18      680,042      41,770    1,557,263     448,220  ...            0   \n",
              "19       31,386      29,692      190,043      52,526  ...  148,263,819   \n",
              "20    1,942,257     937,471    8,564,813   1,584,759  ...   11,226,115   \n",
              "21    1,512,030   1,197,487    5,593,214   3,017,425  ...      302,604   \n",
              "22      305,686     100,969      903,371     222,302  ...            0   \n",
              "23      163,686     200,884      389,834     141,131  ...   22,324,532   \n",
              "24      598,872     236,745    1,766,790     553,728  ...            0   \n",
              "25      186,641      74,094      398,164      82,110  ...   19,531,319   \n",
              "26    1,140,034     940,694    8,416,845   1,245,678  ...   37,864,994   \n",
              "27      234,109     182,046      726,593     142,147  ...            0   \n",
              "28        5,713         254       10,537       3,022  ...            0   \n",
              "29       18,297      44,563       65,783      12,323  ...            0   \n",
              "30       16,183       2,664       58,205      16,592  ...            0   \n",
              "31       62,834      19,167      217,196      38,202  ...      677,877   \n",
              "32       48,977      47,813      166,944      81,686  ...       22,690   \n",
              "33   27,597,051  59,077,989  140,454,709  24,062,619  ...  344,398,449   \n",
              "34    4,987,504   1,080,811   15,021,432   4,289,963  ...            0   \n",
              "35    4,008,120   6,649,941   26,650,744   3,505,190  ...            0   \n",
              "36    1,392,129   2,168,376   12,135,348   2,759,482  ...            0   \n",
              "37      820,156  21,582,814    2,362,858     349,768  ...            0   \n",
              "38    2,134,655  -2,444,305   10,047,502     104,608  ...            0   \n",
              "39   13,342,564  29,037,637   66,217,884  11,009,011  ...            0   \n",
              "40   40,939,615  88,115,626  206,672,593  35,071,630  ...            0   \n",
              "\n",
              "          9122        9131      9132         9140           9190  \\\n",
              "0   정부고정\\n자본형성        재고증감  귀중품\\n순취득           수출          최종수요계   \n",
              "1       22,891   2,114,993         0      829,846     19,485,410   \n",
              "2            0      95,087         0      141,873        252,092   \n",
              "3            0   3,915,376         0    6,409,262     69,830,971   \n",
              "4        5,122   3,580,968         0   21,859,383     55,495,210   \n",
              "5            0    -380,463         0    3,367,618      3,831,656   \n",
              "6            0   2,113,600         0   28,827,390     45,503,229   \n",
              "7            0   1,885,814         0   60,184,815     70,702,985   \n",
              "8            0     523,723         0    1,848,108      2,601,443   \n",
              "9     -379,727   2,842,122   142,466   32,430,557     32,950,234   \n",
              "10   1,797,493   1,382,763         0    8,921,684     16,319,967   \n",
              "11   3,128,448   3,350,532         0  107,151,152    146,023,430   \n",
              "12     171,006   1,955,024         0   22,737,682     38,119,981   \n",
              "13     398,705     942,699         0   38,531,517     90,381,037   \n",
              "14   4,187,216     510,349         0  118,316,301    173,995,610   \n",
              "15     298,316     586,971   711,347    2,238,005     10,807,950   \n",
              "16       1,709      -2,647         0    3,517,174      3,621,432   \n",
              "17           0           0         0      113,167     23,217,297   \n",
              "18           0           0         0       46,489      4,846,949   \n",
              "19  56,316,316   1,117,535         0      412,252    206,109,922   \n",
              "20   1,450,075   2,057,739    75,305   12,190,043     89,339,563   \n",
              "21      46,021     123,410     1,181   34,662,997     61,841,179   \n",
              "22           0           0         0    7,438,768     77,479,694   \n",
              "23     271,065     101,845         0    2,692,082     53,519,295   \n",
              "24           0           0         0    2,715,872     55,190,214   \n",
              "25      17,661           0         0      643,305    123,211,803   \n",
              "26   8,584,750           0         0    8,345,772     56,930,914   \n",
              "27           0           0         0    6,723,905     12,514,681   \n",
              "28           0           0         0       25,210     99,757,560   \n",
              "29           0           0         0      488,404    108,975,756   \n",
              "30           0           0         0       79,854     88,824,655   \n",
              "31           0           0    12,560    1,654,190     32,683,251   \n",
              "32       9,008           0         0      313,895     34,792,231   \n",
              "33  76,326,075  28,817,440   942,859  535,858,572  1,909,157,601   \n",
              "34           0           0         0            0              0   \n",
              "35           0           0         0            0              0   \n",
              "36           0           0         0            0              0   \n",
              "37           0           0         0            0              0   \n",
              "38           0           0         0            0              0   \n",
              "39           0           0         0            0              0   \n",
              "40           0           0         0            0              0   \n",
              "\n",
              "             9290        9310       9329        9390  \n",
              "0            총수요계         총산출        수입계        총공급계  \n",
              "1      68,903,743    59105417    9798326    68903743  \n",
              "2      94,624,899     3804951   90819948    94624899  \n",
              "3     127,143,752   106663710   20480042   127143752  \n",
              "4      90,871,163    72748225   18122938    90871163  \n",
              "5      47,518,926    40939615    6579311    47518926  \n",
              "6     113,232,308    88115626   25116682   113232308  \n",
              "7     258,768,141   206672593   52095548   258768141  \n",
              "8      41,542,316    35071630    6470686    41542316  \n",
              "9     155,627,172   115463375   40163797   155627172  \n",
              "10     89,142,916    81461345    7681571    89142916  \n",
              "11    255,447,308   194305919   61141389   255447308  \n",
              "12    103,110,054    88245483   14864571   103110054  \n",
              "13    154,142,346   116925401   37216945   154142346  \n",
              "14    239,510,356   216735244   22775112   239510356  \n",
              "15     21,947,593    17604071    4343522    21947593  \n",
              "16     55,159,046    46081155    9077891    55159046  \n",
              "17     98,477,100    98296907     180193    98477100  \n",
              "18     20,561,632    20531323      30309    20561632  \n",
              "19    217,695,819   217667854      27965   217695819  \n",
              "20    189,444,063   186781679    2662384   189444063  \n",
              "21    145,917,106   129332332   16584774   145917106  \n",
              "22    117,849,948   107393295   10456653   117849948  \n",
              "23    115,473,613   109572309    5901304   115473613  \n",
              "24    133,380,016   130349001    3031015   133380016  \n",
              "25    161,907,057   159681180    2225877   161907057  \n",
              "26    159,758,850   147270940   12487910   159758850  \n",
              "27     66,963,908    56165684   10798224    66963908  \n",
              "28    101,055,428   100424833     630595   101055428  \n",
              "29    110,843,599   106773785    4069814   110843599  \n",
              "30     91,759,172    91534755     224417    91759172  \n",
              "31     42,941,901    40202642    2739259    42941901  \n",
              "32     45,295,099    44919040     376059    45295099  \n",
              "33  3,736,016,350  3236841319  499175031  3736016350  \n",
              "34              0           0          0           0  \n",
              "35              0           0          0           0  \n",
              "36              0           0          0           0  \n",
              "37              0           0          0           0  \n",
              "38              0           0          0           0  \n",
              "39              0           0          0           0  \n",
              "40              0           0          0           0  \n",
              "\n",
              "[41 rows x 47 columns]"
            ],
            "text/html": [
              "\n",
              "  <div id=\"df-648ad94d-0ca4-4eac-84e1-eff7c45bf0a1\">\n",
              "    <div class=\"colab-df-container\">\n",
              "      <div>\n",
              "<style scoped>\n",
              "    .dataframe tbody tr th:only-of-type {\n",
              "        vertical-align: middle;\n",
              "    }\n",
              "\n",
              "    .dataframe tbody tr th {\n",
              "        vertical-align: top;\n",
              "    }\n",
              "\n",
              "    .dataframe thead th {\n",
              "        text-align: right;\n",
              "    }\n",
              "</style>\n",
              "<table border=\"1\" class=\"dataframe\">\n",
              "  <thead>\n",
              "    <tr style=\"text-align: right;\">\n",
              "      <th></th>\n",
              "      <th>code</th>\n",
              "      <th>name</th>\n",
              "      <th>A</th>\n",
              "      <th>B</th>\n",
              "      <th>C01</th>\n",
              "      <th>C02</th>\n",
              "      <th>C03</th>\n",
              "      <th>C04</th>\n",
              "      <th>C05</th>\n",
              "      <th>C06</th>\n",
              "      <th>...</th>\n",
              "      <th>9121</th>\n",
              "      <th>9122</th>\n",
              "      <th>9131</th>\n",
              "      <th>9132</th>\n",
              "      <th>9140</th>\n",
              "      <th>9190</th>\n",
              "      <th>9290</th>\n",
              "      <th>9310</th>\n",
              "      <th>9329</th>\n",
              "      <th>9390</th>\n",
              "    </tr>\n",
              "  </thead>\n",
              "  <tbody>\n",
              "    <tr>\n",
              "      <th>0</th>\n",
              "      <td>code</td>\n",
              "      <td>name</td>\n",
              "      <td>농림수산품</td>\n",
              "      <td>광산품</td>\n",
              "      <td>음식료품</td>\n",
              "      <td>섬유 및 가죽제품</td>\n",
              "      <td>목재 및 종이, 인쇄</td>\n",
              "      <td>석탄 및 석유제품</td>\n",
              "      <td>화학제품</td>\n",
              "      <td>비금속광물제품</td>\n",
              "      <td>...</td>\n",
              "      <td>민간고정\\n자본형성</td>\n",
              "      <td>정부고정\\n자본형성</td>\n",
              "      <td>재고증감</td>\n",
              "      <td>귀중품\\n순취득</td>\n",
              "      <td>수출</td>\n",
              "      <td>최종수요계</td>\n",
              "      <td>총수요계</td>\n",
              "      <td>총산출</td>\n",
              "      <td>수입계</td>\n",
              "      <td>총공급계</td>\n",
              "    </tr>\n",
              "    <tr>\n",
              "      <th>1</th>\n",
              "      <td>A</td>\n",
              "      <td>농림수산품</td>\n",
              "      <td>4,544,170</td>\n",
              "      <td>3,784</td>\n",
              "      <td>32,725,653</td>\n",
              "      <td>700,461</td>\n",
              "      <td>1,020,190</td>\n",
              "      <td>1,269</td>\n",
              "      <td>1,096,739</td>\n",
              "      <td>3,216</td>\n",
              "      <td>...</td>\n",
              "      <td>508,027</td>\n",
              "      <td>22,891</td>\n",
              "      <td>2,114,993</td>\n",
              "      <td>0</td>\n",
              "      <td>829,846</td>\n",
              "      <td>19,485,410</td>\n",
              "      <td>68,903,743</td>\n",
              "      <td>59105417</td>\n",
              "      <td>9798326</td>\n",
              "      <td>68903743</td>\n",
              "    </tr>\n",
              "    <tr>\n",
              "      <th>2</th>\n",
              "      <td>B</td>\n",
              "      <td>광산품</td>\n",
              "      <td>957</td>\n",
              "      <td>0</td>\n",
              "      <td>17,678</td>\n",
              "      <td>5,043</td>\n",
              "      <td>41,764</td>\n",
              "      <td>48,476,793</td>\n",
              "      <td>2,833,079</td>\n",
              "      <td>2,591,961</td>\n",
              "      <td>...</td>\n",
              "      <td>0</td>\n",
              "      <td>0</td>\n",
              "      <td>95,087</td>\n",
              "      <td>0</td>\n",
              "      <td>141,873</td>\n",
              "      <td>252,092</td>\n",
              "      <td>94,624,899</td>\n",
              "      <td>3804951</td>\n",
              "      <td>90819948</td>\n",
              "      <td>94624899</td>\n",
              "    </tr>\n",
              "    <tr>\n",
              "      <th>3</th>\n",
              "      <td>C01</td>\n",
              "      <td>음식료품</td>\n",
              "      <td>9,706,871</td>\n",
              "      <td>3,379</td>\n",
              "      <td>15,453,761</td>\n",
              "      <td>706,857</td>\n",
              "      <td>69,338</td>\n",
              "      <td>9,933</td>\n",
              "      <td>992,240</td>\n",
              "      <td>21,645</td>\n",
              "      <td>...</td>\n",
              "      <td>0</td>\n",
              "      <td>0</td>\n",
              "      <td>3,915,376</td>\n",
              "      <td>0</td>\n",
              "      <td>6,409,262</td>\n",
              "      <td>69,830,971</td>\n",
              "      <td>127,143,752</td>\n",
              "      <td>106663710</td>\n",
              "      <td>20480042</td>\n",
              "      <td>127143752</td>\n",
              "    </tr>\n",
              "    <tr>\n",
              "      <th>4</th>\n",
              "      <td>C02</td>\n",
              "      <td>섬유 및 가죽제품</td>\n",
              "      <td>524,956</td>\n",
              "      <td>4,681</td>\n",
              "      <td>173,393</td>\n",
              "      <td>21,063,924</td>\n",
              "      <td>398,573</td>\n",
              "      <td>27,134</td>\n",
              "      <td>1,343,399</td>\n",
              "      <td>120,029</td>\n",
              "      <td>...</td>\n",
              "      <td>147,863</td>\n",
              "      <td>5,122</td>\n",
              "      <td>3,580,968</td>\n",
              "      <td>0</td>\n",
              "      <td>21,859,383</td>\n",
              "      <td>55,495,210</td>\n",
              "      <td>90,871,163</td>\n",
              "      <td>72748225</td>\n",
              "      <td>18122938</td>\n",
              "      <td>90871163</td>\n",
              "    </tr>\n",
              "    <tr>\n",
              "      <th>5</th>\n",
              "      <td>C03</td>\n",
              "      <td>목재 및 종이, 인쇄</td>\n",
              "      <td>691,769</td>\n",
              "      <td>10,841</td>\n",
              "      <td>2,003,826</td>\n",
              "      <td>839,853</td>\n",
              "      <td>13,027,047</td>\n",
              "      <td>75,445</td>\n",
              "      <td>1,428,720</td>\n",
              "      <td>514,336</td>\n",
              "      <td>...</td>\n",
              "      <td>0</td>\n",
              "      <td>0</td>\n",
              "      <td>-380,463</td>\n",
              "      <td>0</td>\n",
              "      <td>3,367,618</td>\n",
              "      <td>3,831,656</td>\n",
              "      <td>47,518,926</td>\n",
              "      <td>40939615</td>\n",
              "      <td>6579311</td>\n",
              "      <td>47518926</td>\n",
              "    </tr>\n",
              "    <tr>\n",
              "      <th>6</th>\n",
              "      <td>C04</td>\n",
              "      <td>석탄 및 석유제품</td>\n",
              "      <td>1,373,308</td>\n",
              "      <td>163,739</td>\n",
              "      <td>406,932</td>\n",
              "      <td>380,496</td>\n",
              "      <td>390,159</td>\n",
              "      <td>2,898,104</td>\n",
              "      <td>18,963,457</td>\n",
              "      <td>1,692,348</td>\n",
              "      <td>...</td>\n",
              "      <td>0</td>\n",
              "      <td>0</td>\n",
              "      <td>2,113,600</td>\n",
              "      <td>0</td>\n",
              "      <td>28,827,390</td>\n",
              "      <td>45,503,229</td>\n",
              "      <td>113,232,308</td>\n",
              "      <td>88115626</td>\n",
              "      <td>25116682</td>\n",
              "      <td>113232308</td>\n",
              "    </tr>\n",
              "    <tr>\n",
              "      <th>7</th>\n",
              "      <td>C05</td>\n",
              "      <td>화학제품</td>\n",
              "      <td>4,436,247</td>\n",
              "      <td>122,834</td>\n",
              "      <td>2,966,991</td>\n",
              "      <td>6,825,397</td>\n",
              "      <td>2,880,753</td>\n",
              "      <td>1,243,749</td>\n",
              "      <td>70,566,122</td>\n",
              "      <td>2,266,429</td>\n",
              "      <td>...</td>\n",
              "      <td>0</td>\n",
              "      <td>0</td>\n",
              "      <td>1,885,814</td>\n",
              "      <td>0</td>\n",
              "      <td>60,184,815</td>\n",
              "      <td>70,702,985</td>\n",
              "      <td>258,768,141</td>\n",
              "      <td>206672593</td>\n",
              "      <td>52095548</td>\n",
              "      <td>258768141</td>\n",
              "    </tr>\n",
              "    <tr>\n",
              "      <th>8</th>\n",
              "      <td>C06</td>\n",
              "      <td>비금속광물제품</td>\n",
              "      <td>27,555</td>\n",
              "      <td>539</td>\n",
              "      <td>487,171</td>\n",
              "      <td>13,975</td>\n",
              "      <td>71,141</td>\n",
              "      <td>18,007</td>\n",
              "      <td>684,466</td>\n",
              "      <td>5,326,330</td>\n",
              "      <td>...</td>\n",
              "      <td>0</td>\n",
              "      <td>0</td>\n",
              "      <td>523,723</td>\n",
              "      <td>0</td>\n",
              "      <td>1,848,108</td>\n",
              "      <td>2,601,443</td>\n",
              "      <td>41,542,316</td>\n",
              "      <td>35071630</td>\n",
              "      <td>6470686</td>\n",
              "      <td>41542316</td>\n",
              "    </tr>\n",
              "    <tr>\n",
              "      <th>9</th>\n",
              "      <td>C07</td>\n",
              "      <td>1차 금속제품</td>\n",
              "      <td>73,278</td>\n",
              "      <td>7,967</td>\n",
              "      <td>5,021</td>\n",
              "      <td>45,095</td>\n",
              "      <td>92,227</td>\n",
              "      <td>83,750</td>\n",
              "      <td>2,098,373</td>\n",
              "      <td>632,952</td>\n",
              "      <td>...</td>\n",
              "      <td>-1,793,577</td>\n",
              "      <td>-379,727</td>\n",
              "      <td>2,842,122</td>\n",
              "      <td>142,466</td>\n",
              "      <td>32,430,557</td>\n",
              "      <td>32,950,234</td>\n",
              "      <td>155,627,172</td>\n",
              "      <td>115463375</td>\n",
              "      <td>40163797</td>\n",
              "      <td>155627172</td>\n",
              "    </tr>\n",
              "    <tr>\n",
              "      <th>10</th>\n",
              "      <td>C08</td>\n",
              "      <td>금속가공제품</td>\n",
              "      <td>45,516</td>\n",
              "      <td>56,295</td>\n",
              "      <td>1,058,574</td>\n",
              "      <td>526,910</td>\n",
              "      <td>176,906</td>\n",
              "      <td>543,011</td>\n",
              "      <td>1,654,051</td>\n",
              "      <td>580,472</td>\n",
              "      <td>...</td>\n",
              "      <td>3,030,134</td>\n",
              "      <td>1,797,493</td>\n",
              "      <td>1,382,763</td>\n",
              "      <td>0</td>\n",
              "      <td>8,921,684</td>\n",
              "      <td>16,319,967</td>\n",
              "      <td>89,142,916</td>\n",
              "      <td>81461345</td>\n",
              "      <td>7681571</td>\n",
              "      <td>89142916</td>\n",
              "    </tr>\n",
              "    <tr>\n",
              "      <th>11</th>\n",
              "      <td>C09</td>\n",
              "      <td>컴퓨터, 전자 및 광학기기</td>\n",
              "      <td>60,900</td>\n",
              "      <td>813</td>\n",
              "      <td>31,288</td>\n",
              "      <td>21,327</td>\n",
              "      <td>42,636</td>\n",
              "      <td>91,130</td>\n",
              "      <td>324,179</td>\n",
              "      <td>85,415</td>\n",
              "      <td>...</td>\n",
              "      <td>15,290,602</td>\n",
              "      <td>3,128,448</td>\n",
              "      <td>3,350,532</td>\n",
              "      <td>0</td>\n",
              "      <td>107,151,152</td>\n",
              "      <td>146,023,430</td>\n",
              "      <td>255,447,308</td>\n",
              "      <td>194305919</td>\n",
              "      <td>61141389</td>\n",
              "      <td>255447308</td>\n",
              "    </tr>\n",
              "    <tr>\n",
              "      <th>12</th>\n",
              "      <td>C10</td>\n",
              "      <td>전기장비</td>\n",
              "      <td>133,395</td>\n",
              "      <td>19,724</td>\n",
              "      <td>25,283</td>\n",
              "      <td>62,306</td>\n",
              "      <td>62,514</td>\n",
              "      <td>66,163</td>\n",
              "      <td>251,925</td>\n",
              "      <td>187,021</td>\n",
              "      <td>...</td>\n",
              "      <td>9,475,491</td>\n",
              "      <td>171,006</td>\n",
              "      <td>1,955,024</td>\n",
              "      <td>0</td>\n",
              "      <td>22,737,682</td>\n",
              "      <td>38,119,981</td>\n",
              "      <td>103,110,054</td>\n",
              "      <td>88245483</td>\n",
              "      <td>14864571</td>\n",
              "      <td>103110054</td>\n",
              "    </tr>\n",
              "    <tr>\n",
              "      <th>13</th>\n",
              "      <td>C11</td>\n",
              "      <td>기계 및 장비</td>\n",
              "      <td>260,939</td>\n",
              "      <td>56,661</td>\n",
              "      <td>307,613</td>\n",
              "      <td>380,650</td>\n",
              "      <td>203,367</td>\n",
              "      <td>527,083</td>\n",
              "      <td>2,604,176</td>\n",
              "      <td>481,443</td>\n",
              "      <td>...</td>\n",
              "      <td>49,052,876</td>\n",
              "      <td>398,705</td>\n",
              "      <td>942,699</td>\n",
              "      <td>0</td>\n",
              "      <td>38,531,517</td>\n",
              "      <td>90,381,037</td>\n",
              "      <td>154,142,346</td>\n",
              "      <td>116925401</td>\n",
              "      <td>37216945</td>\n",
              "      <td>154142346</td>\n",
              "    </tr>\n",
              "    <tr>\n",
              "      <th>14</th>\n",
              "      <td>C12</td>\n",
              "      <td>운송장비</td>\n",
              "      <td>329,409</td>\n",
              "      <td>104,181</td>\n",
              "      <td>47,259</td>\n",
              "      <td>42,973</td>\n",
              "      <td>66,394</td>\n",
              "      <td>39,798</td>\n",
              "      <td>169,364</td>\n",
              "      <td>230,980</td>\n",
              "      <td>...</td>\n",
              "      <td>26,897,447</td>\n",
              "      <td>4,187,216</td>\n",
              "      <td>510,349</td>\n",
              "      <td>0</td>\n",
              "      <td>118,316,301</td>\n",
              "      <td>173,995,610</td>\n",
              "      <td>239,510,356</td>\n",
              "      <td>216735244</td>\n",
              "      <td>22775112</td>\n",
              "      <td>239510356</td>\n",
              "    </tr>\n",
              "    <tr>\n",
              "      <th>15</th>\n",
              "      <td>C13</td>\n",
              "      <td>기타 제조업 제품</td>\n",
              "      <td>7,811</td>\n",
              "      <td>457</td>\n",
              "      <td>43,979</td>\n",
              "      <td>798,593</td>\n",
              "      <td>19,784</td>\n",
              "      <td>3,098</td>\n",
              "      <td>40,523</td>\n",
              "      <td>6,531</td>\n",
              "      <td>...</td>\n",
              "      <td>1,513,642</td>\n",
              "      <td>298,316</td>\n",
              "      <td>586,971</td>\n",
              "      <td>711,347</td>\n",
              "      <td>2,238,005</td>\n",
              "      <td>10,807,950</td>\n",
              "      <td>21,947,593</td>\n",
              "      <td>17604071</td>\n",
              "      <td>4343522</td>\n",
              "      <td>21947593</td>\n",
              "    </tr>\n",
              "    <tr>\n",
              "      <th>16</th>\n",
              "      <td>C14</td>\n",
              "      <td>제조임가공 및 산업용 장비 수리</td>\n",
              "      <td>92,842</td>\n",
              "      <td>51,187</td>\n",
              "      <td>1,783,241</td>\n",
              "      <td>8,108,178</td>\n",
              "      <td>987,844</td>\n",
              "      <td>41,530</td>\n",
              "      <td>2,701,717</td>\n",
              "      <td>628,184</td>\n",
              "      <td>...</td>\n",
              "      <td>61,994</td>\n",
              "      <td>1,709</td>\n",
              "      <td>-2,647</td>\n",
              "      <td>0</td>\n",
              "      <td>3,517,174</td>\n",
              "      <td>3,621,432</td>\n",
              "      <td>55,159,046</td>\n",
              "      <td>46081155</td>\n",
              "      <td>9077891</td>\n",
              "      <td>55159046</td>\n",
              "    </tr>\n",
              "    <tr>\n",
              "      <th>17</th>\n",
              "      <td>D</td>\n",
              "      <td>전력, 가스 및 증기</td>\n",
              "      <td>398,233</td>\n",
              "      <td>95,926</td>\n",
              "      <td>589,013</td>\n",
              "      <td>1,290,600</td>\n",
              "      <td>1,099,667</td>\n",
              "      <td>875,679</td>\n",
              "      <td>3,676,584</td>\n",
              "      <td>1,051,476</td>\n",
              "      <td>...</td>\n",
              "      <td>0</td>\n",
              "      <td>0</td>\n",
              "      <td>0</td>\n",
              "      <td>0</td>\n",
              "      <td>113,167</td>\n",
              "      <td>23,217,297</td>\n",
              "      <td>98,477,100</td>\n",
              "      <td>98296907</td>\n",
              "      <td>180193</td>\n",
              "      <td>98477100</td>\n",
              "    </tr>\n",
              "    <tr>\n",
              "      <th>18</th>\n",
              "      <td>E</td>\n",
              "      <td>수도, 폐기물처리 및 재활용서비스</td>\n",
              "      <td>124,865</td>\n",
              "      <td>4,239</td>\n",
              "      <td>394,644</td>\n",
              "      <td>136,625</td>\n",
              "      <td>680,042</td>\n",
              "      <td>41,770</td>\n",
              "      <td>1,557,263</td>\n",
              "      <td>448,220</td>\n",
              "      <td>...</td>\n",
              "      <td>0</td>\n",
              "      <td>0</td>\n",
              "      <td>0</td>\n",
              "      <td>0</td>\n",
              "      <td>46,489</td>\n",
              "      <td>4,846,949</td>\n",
              "      <td>20,561,632</td>\n",
              "      <td>20531323</td>\n",
              "      <td>30309</td>\n",
              "      <td>20561632</td>\n",
              "    </tr>\n",
              "    <tr>\n",
              "      <th>19</th>\n",
              "      <td>F</td>\n",
              "      <td>건설</td>\n",
              "      <td>143,153</td>\n",
              "      <td>10,822</td>\n",
              "      <td>61,996</td>\n",
              "      <td>40,180</td>\n",
              "      <td>31,386</td>\n",
              "      <td>29,692</td>\n",
              "      <td>190,043</td>\n",
              "      <td>52,526</td>\n",
              "      <td>...</td>\n",
              "      <td>148,263,819</td>\n",
              "      <td>56,316,316</td>\n",
              "      <td>1,117,535</td>\n",
              "      <td>0</td>\n",
              "      <td>412,252</td>\n",
              "      <td>206,109,922</td>\n",
              "      <td>217,695,819</td>\n",
              "      <td>217667854</td>\n",
              "      <td>27965</td>\n",
              "      <td>217695819</td>\n",
              "    </tr>\n",
              "    <tr>\n",
              "      <th>20</th>\n",
              "      <td>G</td>\n",
              "      <td>도소매 및 상품중개서비스</td>\n",
              "      <td>2,004,516</td>\n",
              "      <td>54,882</td>\n",
              "      <td>7,927,788</td>\n",
              "      <td>4,737,938</td>\n",
              "      <td>1,942,257</td>\n",
              "      <td>937,471</td>\n",
              "      <td>8,564,813</td>\n",
              "      <td>1,584,759</td>\n",
              "      <td>...</td>\n",
              "      <td>11,226,115</td>\n",
              "      <td>1,450,075</td>\n",
              "      <td>2,057,739</td>\n",
              "      <td>75,305</td>\n",
              "      <td>12,190,043</td>\n",
              "      <td>89,339,563</td>\n",
              "      <td>189,444,063</td>\n",
              "      <td>186781679</td>\n",
              "      <td>2662384</td>\n",
              "      <td>189444063</td>\n",
              "    </tr>\n",
              "    <tr>\n",
              "      <th>21</th>\n",
              "      <td>H</td>\n",
              "      <td>운송서비스</td>\n",
              "      <td>960,693</td>\n",
              "      <td>485,690</td>\n",
              "      <td>3,313,247</td>\n",
              "      <td>1,836,728</td>\n",
              "      <td>1,512,030</td>\n",
              "      <td>1,197,487</td>\n",
              "      <td>5,593,214</td>\n",
              "      <td>3,017,425</td>\n",
              "      <td>...</td>\n",
              "      <td>302,604</td>\n",
              "      <td>46,021</td>\n",
              "      <td>123,410</td>\n",
              "      <td>1,181</td>\n",
              "      <td>34,662,997</td>\n",
              "      <td>61,841,179</td>\n",
              "      <td>145,917,106</td>\n",
              "      <td>129332332</td>\n",
              "      <td>16584774</td>\n",
              "      <td>145917106</td>\n",
              "    </tr>\n",
              "    <tr>\n",
              "      <th>22</th>\n",
              "      <td>I</td>\n",
              "      <td>음식점 및 숙박서비스</td>\n",
              "      <td>296,567</td>\n",
              "      <td>42,864</td>\n",
              "      <td>219,462</td>\n",
              "      <td>383,221</td>\n",
              "      <td>305,686</td>\n",
              "      <td>100,969</td>\n",
              "      <td>903,371</td>\n",
              "      <td>222,302</td>\n",
              "      <td>...</td>\n",
              "      <td>0</td>\n",
              "      <td>0</td>\n",
              "      <td>0</td>\n",
              "      <td>0</td>\n",
              "      <td>7,438,768</td>\n",
              "      <td>77,479,694</td>\n",
              "      <td>117,849,948</td>\n",
              "      <td>107393295</td>\n",
              "      <td>10456653</td>\n",
              "      <td>117849948</td>\n",
              "    </tr>\n",
              "    <tr>\n",
              "      <th>23</th>\n",
              "      <td>J</td>\n",
              "      <td>정보통신 및 방송 서비스</td>\n",
              "      <td>126,823</td>\n",
              "      <td>8,299</td>\n",
              "      <td>169,339</td>\n",
              "      <td>163,987</td>\n",
              "      <td>163,686</td>\n",
              "      <td>200,884</td>\n",
              "      <td>389,834</td>\n",
              "      <td>141,131</td>\n",
              "      <td>...</td>\n",
              "      <td>22,324,532</td>\n",
              "      <td>271,065</td>\n",
              "      <td>101,845</td>\n",
              "      <td>0</td>\n",
              "      <td>2,692,082</td>\n",
              "      <td>53,519,295</td>\n",
              "      <td>115,473,613</td>\n",
              "      <td>109572309</td>\n",
              "      <td>5901304</td>\n",
              "      <td>115473613</td>\n",
              "    </tr>\n",
              "    <tr>\n",
              "      <th>24</th>\n",
              "      <td>K</td>\n",
              "      <td>금융 및 보험 서비스</td>\n",
              "      <td>1,004,092</td>\n",
              "      <td>154,451</td>\n",
              "      <td>890,939</td>\n",
              "      <td>850,391</td>\n",
              "      <td>598,872</td>\n",
              "      <td>236,745</td>\n",
              "      <td>1,766,790</td>\n",
              "      <td>553,728</td>\n",
              "      <td>...</td>\n",
              "      <td>0</td>\n",
              "      <td>0</td>\n",
              "      <td>0</td>\n",
              "      <td>0</td>\n",
              "      <td>2,715,872</td>\n",
              "      <td>55,190,214</td>\n",
              "      <td>133,380,016</td>\n",
              "      <td>130349001</td>\n",
              "      <td>3031015</td>\n",
              "      <td>133380016</td>\n",
              "    </tr>\n",
              "    <tr>\n",
              "      <th>25</th>\n",
              "      <td>L</td>\n",
              "      <td>부동산서비스</td>\n",
              "      <td>45,649</td>\n",
              "      <td>9,722</td>\n",
              "      <td>314,063</td>\n",
              "      <td>620,305</td>\n",
              "      <td>186,641</td>\n",
              "      <td>74,094</td>\n",
              "      <td>398,164</td>\n",
              "      <td>82,110</td>\n",
              "      <td>...</td>\n",
              "      <td>19,531,319</td>\n",
              "      <td>17,661</td>\n",
              "      <td>0</td>\n",
              "      <td>0</td>\n",
              "      <td>643,305</td>\n",
              "      <td>123,211,803</td>\n",
              "      <td>161,907,057</td>\n",
              "      <td>159681180</td>\n",
              "      <td>2225877</td>\n",
              "      <td>161907057</td>\n",
              "    </tr>\n",
              "    <tr>\n",
              "      <th>26</th>\n",
              "      <td>M</td>\n",
              "      <td>전문, 과학 및 기술 서비스</td>\n",
              "      <td>327,639</td>\n",
              "      <td>78,283</td>\n",
              "      <td>3,324,778</td>\n",
              "      <td>3,026,441</td>\n",
              "      <td>1,140,034</td>\n",
              "      <td>940,694</td>\n",
              "      <td>8,416,845</td>\n",
              "      <td>1,245,678</td>\n",
              "      <td>...</td>\n",
              "      <td>37,864,994</td>\n",
              "      <td>8,584,750</td>\n",
              "      <td>0</td>\n",
              "      <td>0</td>\n",
              "      <td>8,345,772</td>\n",
              "      <td>56,930,914</td>\n",
              "      <td>159,758,850</td>\n",
              "      <td>147270940</td>\n",
              "      <td>12487910</td>\n",
              "      <td>159758850</td>\n",
              "    </tr>\n",
              "    <tr>\n",
              "      <th>27</th>\n",
              "      <td>N</td>\n",
              "      <td>사업지원서비스</td>\n",
              "      <td>91,133</td>\n",
              "      <td>67,674</td>\n",
              "      <td>219,024</td>\n",
              "      <td>363,128</td>\n",
              "      <td>234,109</td>\n",
              "      <td>182,046</td>\n",
              "      <td>726,593</td>\n",
              "      <td>142,147</td>\n",
              "      <td>...</td>\n",
              "      <td>0</td>\n",
              "      <td>0</td>\n",
              "      <td>0</td>\n",
              "      <td>0</td>\n",
              "      <td>6,723,905</td>\n",
              "      <td>12,514,681</td>\n",
              "      <td>66,963,908</td>\n",
              "      <td>56165684</td>\n",
              "      <td>10798224</td>\n",
              "      <td>66963908</td>\n",
              "    </tr>\n",
              "    <tr>\n",
              "      <th>28</th>\n",
              "      <td>O</td>\n",
              "      <td>공공행정, 국방 및 사회보장</td>\n",
              "      <td>79,674</td>\n",
              "      <td>290</td>\n",
              "      <td>7,908</td>\n",
              "      <td>5,861</td>\n",
              "      <td>5,713</td>\n",
              "      <td>254</td>\n",
              "      <td>10,537</td>\n",
              "      <td>3,022</td>\n",
              "      <td>...</td>\n",
              "      <td>0</td>\n",
              "      <td>0</td>\n",
              "      <td>0</td>\n",
              "      <td>0</td>\n",
              "      <td>25,210</td>\n",
              "      <td>99,757,560</td>\n",
              "      <td>101,055,428</td>\n",
              "      <td>100424833</td>\n",
              "      <td>630595</td>\n",
              "      <td>101055428</td>\n",
              "    </tr>\n",
              "    <tr>\n",
              "      <th>29</th>\n",
              "      <td>P</td>\n",
              "      <td>교육서비스</td>\n",
              "      <td>4,629</td>\n",
              "      <td>410</td>\n",
              "      <td>18,631</td>\n",
              "      <td>17,930</td>\n",
              "      <td>18,297</td>\n",
              "      <td>44,563</td>\n",
              "      <td>65,783</td>\n",
              "      <td>12,323</td>\n",
              "      <td>...</td>\n",
              "      <td>0</td>\n",
              "      <td>0</td>\n",
              "      <td>0</td>\n",
              "      <td>0</td>\n",
              "      <td>488,404</td>\n",
              "      <td>108,975,756</td>\n",
              "      <td>110,843,599</td>\n",
              "      <td>106773785</td>\n",
              "      <td>4069814</td>\n",
              "      <td>110843599</td>\n",
              "    </tr>\n",
              "    <tr>\n",
              "      <th>30</th>\n",
              "      <td>Q</td>\n",
              "      <td>보건 및 사회복지 서비스</td>\n",
              "      <td>70,701</td>\n",
              "      <td>3,365</td>\n",
              "      <td>38,804</td>\n",
              "      <td>26,571</td>\n",
              "      <td>16,183</td>\n",
              "      <td>2,664</td>\n",
              "      <td>58,205</td>\n",
              "      <td>16,592</td>\n",
              "      <td>...</td>\n",
              "      <td>0</td>\n",
              "      <td>0</td>\n",
              "      <td>0</td>\n",
              "      <td>0</td>\n",
              "      <td>79,854</td>\n",
              "      <td>88,824,655</td>\n",
              "      <td>91,759,172</td>\n",
              "      <td>91534755</td>\n",
              "      <td>224417</td>\n",
              "      <td>91759172</td>\n",
              "    </tr>\n",
              "    <tr>\n",
              "      <th>31</th>\n",
              "      <td>R</td>\n",
              "      <td>예술, 스포츠 및 여가 관련 서비스</td>\n",
              "      <td>33,365</td>\n",
              "      <td>6,054</td>\n",
              "      <td>62,401</td>\n",
              "      <td>116,494</td>\n",
              "      <td>62,834</td>\n",
              "      <td>19,167</td>\n",
              "      <td>217,196</td>\n",
              "      <td>38,202</td>\n",
              "      <td>...</td>\n",
              "      <td>677,877</td>\n",
              "      <td>0</td>\n",
              "      <td>0</td>\n",
              "      <td>12,560</td>\n",
              "      <td>1,654,190</td>\n",
              "      <td>32,683,251</td>\n",
              "      <td>42,941,901</td>\n",
              "      <td>40202642</td>\n",
              "      <td>2739259</td>\n",
              "      <td>42941901</td>\n",
              "    </tr>\n",
              "    <tr>\n",
              "      <th>32</th>\n",
              "      <td>S</td>\n",
              "      <td>기타 서비스</td>\n",
              "      <td>69,108</td>\n",
              "      <td>7,416</td>\n",
              "      <td>74,586</td>\n",
              "      <td>71,448</td>\n",
              "      <td>48,977</td>\n",
              "      <td>47,813</td>\n",
              "      <td>166,944</td>\n",
              "      <td>81,686</td>\n",
              "      <td>...</td>\n",
              "      <td>22,690</td>\n",
              "      <td>9,008</td>\n",
              "      <td>0</td>\n",
              "      <td>0</td>\n",
              "      <td>313,895</td>\n",
              "      <td>34,792,231</td>\n",
              "      <td>45,295,099</td>\n",
              "      <td>44919040</td>\n",
              "      <td>376059</td>\n",
              "      <td>45295099</td>\n",
              "    </tr>\n",
              "    <tr>\n",
              "      <th>33</th>\n",
              "      <td>9590</td>\n",
              "      <td>중간투입계</td>\n",
              "      <td>28,090,763</td>\n",
              "      <td>1,637,469</td>\n",
              "      <td>75,164,286</td>\n",
              "      <td>54,209,886</td>\n",
              "      <td>27,597,051</td>\n",
              "      <td>59,077,989</td>\n",
              "      <td>140,454,709</td>\n",
              "      <td>24,062,619</td>\n",
              "      <td>...</td>\n",
              "      <td>344,398,449</td>\n",
              "      <td>76,326,075</td>\n",
              "      <td>28,817,440</td>\n",
              "      <td>942,859</td>\n",
              "      <td>535,858,572</td>\n",
              "      <td>1,909,157,601</td>\n",
              "      <td>3,736,016,350</td>\n",
              "      <td>3236841319</td>\n",
              "      <td>499175031</td>\n",
              "      <td>3736016350</td>\n",
              "    </tr>\n",
              "    <tr>\n",
              "      <th>34</th>\n",
              "      <td>9610</td>\n",
              "      <td>피용자보수</td>\n",
              "      <td>4,108,561</td>\n",
              "      <td>563,886</td>\n",
              "      <td>7,051,554</td>\n",
              "      <td>6,053,004</td>\n",
              "      <td>4,987,504</td>\n",
              "      <td>1,080,811</td>\n",
              "      <td>15,021,432</td>\n",
              "      <td>4,289,963</td>\n",
              "      <td>...</td>\n",
              "      <td>0</td>\n",
              "      <td>0</td>\n",
              "      <td>0</td>\n",
              "      <td>0</td>\n",
              "      <td>0</td>\n",
              "      <td>0</td>\n",
              "      <td>0</td>\n",
              "      <td>0</td>\n",
              "      <td>0</td>\n",
              "      <td>0</td>\n",
              "    </tr>\n",
              "    <tr>\n",
              "      <th>35</th>\n",
              "      <td>9621</td>\n",
              "      <td>영업잉여</td>\n",
              "      <td>19,713,168</td>\n",
              "      <td>1,009,744</td>\n",
              "      <td>3,553,281</td>\n",
              "      <td>4,738,672</td>\n",
              "      <td>4,008,120</td>\n",
              "      <td>6,649,941</td>\n",
              "      <td>26,650,744</td>\n",
              "      <td>3,505,190</td>\n",
              "      <td>...</td>\n",
              "      <td>0</td>\n",
              "      <td>0</td>\n",
              "      <td>0</td>\n",
              "      <td>0</td>\n",
              "      <td>0</td>\n",
              "      <td>0</td>\n",
              "      <td>0</td>\n",
              "      <td>0</td>\n",
              "      <td>0</td>\n",
              "      <td>0</td>\n",
              "    </tr>\n",
              "    <tr>\n",
              "      <th>36</th>\n",
              "      <td>9622</td>\n",
              "      <td>고정자본소모</td>\n",
              "      <td>4,819,534</td>\n",
              "      <td>327,731</td>\n",
              "      <td>3,314,184</td>\n",
              "      <td>1,764,530</td>\n",
              "      <td>1,392,129</td>\n",
              "      <td>2,168,376</td>\n",
              "      <td>12,135,348</td>\n",
              "      <td>2,759,482</td>\n",
              "      <td>...</td>\n",
              "      <td>0</td>\n",
              "      <td>0</td>\n",
              "      <td>0</td>\n",
              "      <td>0</td>\n",
              "      <td>0</td>\n",
              "      <td>0</td>\n",
              "      <td>0</td>\n",
              "      <td>0</td>\n",
              "      <td>0</td>\n",
              "      <td>0</td>\n",
              "    </tr>\n",
              "    <tr>\n",
              "      <th>37</th>\n",
              "      <td>9630</td>\n",
              "      <td>생산세(보조금공제)</td>\n",
              "      <td>-316,598</td>\n",
              "      <td>-46,328</td>\n",
              "      <td>9,593,103</td>\n",
              "      <td>1,931,870</td>\n",
              "      <td>820,156</td>\n",
              "      <td>21,582,814</td>\n",
              "      <td>2,362,858</td>\n",
              "      <td>349,768</td>\n",
              "      <td>...</td>\n",
              "      <td>0</td>\n",
              "      <td>0</td>\n",
              "      <td>0</td>\n",
              "      <td>0</td>\n",
              "      <td>0</td>\n",
              "      <td>0</td>\n",
              "      <td>0</td>\n",
              "      <td>0</td>\n",
              "      <td>0</td>\n",
              "      <td>0</td>\n",
              "    </tr>\n",
              "    <tr>\n",
              "      <th>38</th>\n",
              "      <td>9690</td>\n",
              "      <td>부가가치계</td>\n",
              "      <td>2,689,989</td>\n",
              "      <td>312,449</td>\n",
              "      <td>7,987,302</td>\n",
              "      <td>4,050,263</td>\n",
              "      <td>2,134,655</td>\n",
              "      <td>-2,444,305</td>\n",
              "      <td>10,047,502</td>\n",
              "      <td>104,608</td>\n",
              "      <td>...</td>\n",
              "      <td>0</td>\n",
              "      <td>0</td>\n",
              "      <td>0</td>\n",
              "      <td>0</td>\n",
              "      <td>0</td>\n",
              "      <td>0</td>\n",
              "      <td>0</td>\n",
              "      <td>0</td>\n",
              "      <td>0</td>\n",
              "      <td>0</td>\n",
              "    </tr>\n",
              "    <tr>\n",
              "      <th>39</th>\n",
              "      <td>9780</td>\n",
              "      <td>조정항</td>\n",
              "      <td>31,014,654</td>\n",
              "      <td>2,167,482</td>\n",
              "      <td>31,499,424</td>\n",
              "      <td>18,538,339</td>\n",
              "      <td>13,342,564</td>\n",
              "      <td>29,037,637</td>\n",
              "      <td>66,217,884</td>\n",
              "      <td>11,009,011</td>\n",
              "      <td>...</td>\n",
              "      <td>0</td>\n",
              "      <td>0</td>\n",
              "      <td>0</td>\n",
              "      <td>0</td>\n",
              "      <td>0</td>\n",
              "      <td>0</td>\n",
              "      <td>0</td>\n",
              "      <td>0</td>\n",
              "      <td>0</td>\n",
              "      <td>0</td>\n",
              "    </tr>\n",
              "    <tr>\n",
              "      <th>40</th>\n",
              "      <td>9790</td>\n",
              "      <td>총투입계</td>\n",
              "      <td>59,105,417</td>\n",
              "      <td>3,804,951</td>\n",
              "      <td>106,663,710</td>\n",
              "      <td>72,748,225</td>\n",
              "      <td>40,939,615</td>\n",
              "      <td>88,115,626</td>\n",
              "      <td>206,672,593</td>\n",
              "      <td>35,071,630</td>\n",
              "      <td>...</td>\n",
              "      <td>0</td>\n",
              "      <td>0</td>\n",
              "      <td>0</td>\n",
              "      <td>0</td>\n",
              "      <td>0</td>\n",
              "      <td>0</td>\n",
              "      <td>0</td>\n",
              "      <td>0</td>\n",
              "      <td>0</td>\n",
              "      <td>0</td>\n",
              "    </tr>\n",
              "  </tbody>\n",
              "</table>\n",
              "<p>41 rows × 47 columns</p>\n",
              "</div>\n",
              "      <button class=\"colab-df-convert\" onclick=\"convertToInteractive('df-648ad94d-0ca4-4eac-84e1-eff7c45bf0a1')\"\n",
              "              title=\"Convert this dataframe to an interactive table.\"\n",
              "              style=\"display:none;\">\n",
              "        \n",
              "  <svg xmlns=\"http://www.w3.org/2000/svg\" height=\"24px\"viewBox=\"0 0 24 24\"\n",
              "       width=\"24px\">\n",
              "    <path d=\"M0 0h24v24H0V0z\" fill=\"none\"/>\n",
              "    <path d=\"M18.56 5.44l.94 2.06.94-2.06 2.06-.94-2.06-.94-.94-2.06-.94 2.06-2.06.94zm-11 1L8.5 8.5l.94-2.06 2.06-.94-2.06-.94L8.5 2.5l-.94 2.06-2.06.94zm10 10l.94 2.06.94-2.06 2.06-.94-2.06-.94-.94-2.06-.94 2.06-2.06.94z\"/><path d=\"M17.41 7.96l-1.37-1.37c-.4-.4-.92-.59-1.43-.59-.52 0-1.04.2-1.43.59L10.3 9.45l-7.72 7.72c-.78.78-.78 2.05 0 2.83L4 21.41c.39.39.9.59 1.41.59.51 0 1.02-.2 1.41-.59l7.78-7.78 2.81-2.81c.8-.78.8-2.07 0-2.86zM5.41 20L4 18.59l7.72-7.72 1.47 1.35L5.41 20z\"/>\n",
              "  </svg>\n",
              "      </button>\n",
              "      \n",
              "  <style>\n",
              "    .colab-df-container {\n",
              "      display:flex;\n",
              "      flex-wrap:wrap;\n",
              "      gap: 12px;\n",
              "    }\n",
              "\n",
              "    .colab-df-convert {\n",
              "      background-color: #E8F0FE;\n",
              "      border: none;\n",
              "      border-radius: 50%;\n",
              "      cursor: pointer;\n",
              "      display: none;\n",
              "      fill: #1967D2;\n",
              "      height: 32px;\n",
              "      padding: 0 0 0 0;\n",
              "      width: 32px;\n",
              "    }\n",
              "\n",
              "    .colab-df-convert:hover {\n",
              "      background-color: #E2EBFA;\n",
              "      box-shadow: 0px 1px 2px rgba(60, 64, 67, 0.3), 0px 1px 3px 1px rgba(60, 64, 67, 0.15);\n",
              "      fill: #174EA6;\n",
              "    }\n",
              "\n",
              "    [theme=dark] .colab-df-convert {\n",
              "      background-color: #3B4455;\n",
              "      fill: #D2E3FC;\n",
              "    }\n",
              "\n",
              "    [theme=dark] .colab-df-convert:hover {\n",
              "      background-color: #434B5C;\n",
              "      box-shadow: 0px 1px 3px 1px rgba(0, 0, 0, 0.15);\n",
              "      filter: drop-shadow(0px 1px 2px rgba(0, 0, 0, 0.3));\n",
              "      fill: #FFFFFF;\n",
              "    }\n",
              "  </style>\n",
              "\n",
              "      <script>\n",
              "        const buttonEl =\n",
              "          document.querySelector('#df-648ad94d-0ca4-4eac-84e1-eff7c45bf0a1 button.colab-df-convert');\n",
              "        buttonEl.style.display =\n",
              "          google.colab.kernel.accessAllowed ? 'block' : 'none';\n",
              "\n",
              "        async function convertToInteractive(key) {\n",
              "          const element = document.querySelector('#df-648ad94d-0ca4-4eac-84e1-eff7c45bf0a1');\n",
              "          const dataTable =\n",
              "            await google.colab.kernel.invokeFunction('convertToInteractive',\n",
              "                                                     [key], {});\n",
              "          if (!dataTable) return;\n",
              "\n",
              "          const docLinkHtml = 'Like what you see? Visit the ' +\n",
              "            '<a target=\"_blank\" href=https://colab.research.google.com/notebooks/data_table.ipynb>data table notebook</a>'\n",
              "            + ' to learn more about interactive tables.';\n",
              "          element.innerHTML = '';\n",
              "          dataTable['output_type'] = 'display_data';\n",
              "          await google.colab.output.renderOutput(dataTable, element);\n",
              "          const docLink = document.createElement('div');\n",
              "          docLink.innerHTML = docLinkHtml;\n",
              "          element.appendChild(docLink);\n",
              "        }\n",
              "      </script>\n",
              "    </div>\n",
              "  </div>\n",
              "  "
            ]
          },
          "metadata": {},
          "execution_count": 314
        }
      ]
    },
    {
      "cell_type": "code",
      "source": [
        "S1 = Tot_cst_10.iloc[1:41,2:].to_numpy() # 10년 총거래표 numpy로 숫자만 불러오기\n",
        "I1 = Imp_cst_10.iloc[1:38,2:].to_numpy() # 10년 수입거래표 numpy로 숫자만 불러오기\n",
        "\n",
        "S2 = Tot_cst_15.iloc[1:41,2:].to_numpy() # 15년 총거래표 numpy로 숫자만 불러오기\n",
        "I2 = Imp_cst_15.iloc[1:38,2:].to_numpy() # 15년 수입거래표 numpy로 숫자만 불러오기"
      ],
      "metadata": {
        "id": "YINcR019EBlx"
      },
      "execution_count": 329,
      "outputs": []
    },
    {
      "cell_type": "code",
      "source": [
        "S1.ndim"
      ],
      "metadata": {
        "id": "-2bgoqsTF9uL",
        "outputId": "003498b0-e478-4f46-e79b-80dfe932b4bd",
        "colab": {
          "base_uri": "https://localhost:8080/"
        }
      },
      "execution_count": 342,
      "outputs": [
        {
          "output_type": "execute_result",
          "data": {
            "text/plain": [
              "2"
            ]
          },
          "metadata": {},
          "execution_count": 342
        }
      ]
    },
    {
      "cell_type": "code",
      "source": [
        "S1 = np.concatenate((S1,np.zeros((1,45))), axis=0)\n",
        "S1"
      ],
      "metadata": {
        "id": "y8dIDFxvGyjf",
        "outputId": "5cff51a8-2429-481b-af22-eba1b182c477",
        "colab": {
          "base_uri": "https://localhost:8080/"
        }
      },
      "execution_count": 346,
      "outputs": [
        {
          "output_type": "execute_result",
          "data": {
            "text/plain": [
              "array([['4,544,170', '3,784', '32,725,653', ..., '59105417', '9798326',\n",
              "        '68903743'],\n",
              "       ['957', '0', '17,678', ..., '3804951', '90819948', '94624899'],\n",
              "       ['9,706,871', '3,379', '15,453,761', ..., '106663710', '20480042',\n",
              "        '127143752'],\n",
              "       ...,\n",
              "       ['59,105,417', '3,804,951', '106,663,710', ..., '0', '0', '0'],\n",
              "       [0.0, 0.0, 0.0, ..., 0.0, 0.0, 0.0],\n",
              "       [0.0, 0.0, 0.0, ..., 0.0, 0.0, 0.0]], dtype=object)"
            ]
          },
          "metadata": {},
          "execution_count": 346
        }
      ]
    },
    {
      "cell_type": "code",
      "source": [
        "kk = np.zeros((1,41))\n",
        "kk.ndim"
      ],
      "metadata": {
        "id": "GWivqhPhL5T7",
        "outputId": "b2cc4af6-ea10-428f-92cc-a7b94e694468",
        "colab": {
          "base_uri": "https://localhost:8080/"
        }
      },
      "execution_count": 343,
      "outputs": [
        {
          "output_type": "execute_result",
          "data": {
            "text/plain": [
              "2"
            ]
          },
          "metadata": {},
          "execution_count": 343
        }
      ]
    },
    {
      "cell_type": "markdown",
      "source": [],
      "metadata": {
        "id": "W3bzXg_pFI-M"
      }
    },
    {
      "cell_type": "code",
      "source": [
        "print(S1)"
      ],
      "metadata": {
        "id": "X5TBW_GGFJM4",
        "outputId": "4e805282-ab38-47eb-f9d9-c43fb8141246",
        "colab": {
          "base_uri": "https://localhost:8080/"
        }
      },
      "execution_count": 280,
      "outputs": [
        {
          "output_type": "stream",
          "name": "stdout",
          "text": [
            "<bound method DataFrame.to_numpy of     code                 name        Col1       Col2         Col3        Col4  \\\n",
            "0      A                농림수산품   4,544,170      3,784   32,725,653     700,461   \n",
            "1      B                  광산품         957          0       17,678       5,043   \n",
            "2    C01                 음식료품   9,706,871      3,379   15,453,761     706,857   \n",
            "3    C02            섬유 및 가죽제품     524,956      4,681      173,393  21,063,924   \n",
            "4    C03          목재 및 종이, 인쇄     691,769     10,841    2,003,826     839,853   \n",
            "5    C04            석탄 및 석유제품   1,373,308    163,739      406,932     380,496   \n",
            "6    C05                 화학제품   4,436,247    122,834    2,966,991   6,825,397   \n",
            "7    C06              비금속광물제품      27,555        539      487,171      13,975   \n",
            "8    C07              1차 금속제품      73,278      7,967        5,021      45,095   \n",
            "9    C08               금속가공제품      45,516     56,295    1,058,574     526,910   \n",
            "10   C09       컴퓨터, 전자 및 광학기기      60,900        813       31,288      21,327   \n",
            "11   C10                 전기장비     133,395     19,724       25,283      62,306   \n",
            "12   C11              기계 및 장비     260,939     56,661      307,613     380,650   \n",
            "13   C12                 운송장비     329,409    104,181       47,259      42,973   \n",
            "14   C13            기타 제조업 제품       7,811        457       43,979     798,593   \n",
            "15   C14    제조임가공 및 산업용 장비 수리      92,842     51,187    1,783,241   8,108,178   \n",
            "16     D          전력, 가스 및 증기     398,233     95,926      589,013   1,290,600   \n",
            "17     E   수도, 폐기물처리 및 재활용서비스     124,865      4,239      394,644     136,625   \n",
            "18     F                   건설     143,153     10,822       61,996      40,180   \n",
            "19     G        도소매 및 상품중개서비스   2,004,516     54,882    7,927,788   4,737,938   \n",
            "20     H                운송서비스     960,693    485,690    3,313,247   1,836,728   \n",
            "21     I          음식점 및 숙박서비스     296,567     42,864      219,462     383,221   \n",
            "22     J        정보통신 및 방송 서비스     126,823      8,299      169,339     163,987   \n",
            "23     K          금융 및 보험 서비스   1,004,092    154,451      890,939     850,391   \n",
            "24     L               부동산서비스      45,649      9,722      314,063     620,305   \n",
            "25     M      전문, 과학 및 기술 서비스     327,639     78,283    3,324,778   3,026,441   \n",
            "26     N              사업지원서비스      91,133     67,674      219,024     363,128   \n",
            "27     O      공공행정, 국방 및 사회보장      79,674        290        7,908       5,861   \n",
            "28     P                교육서비스       4,629        410       18,631      17,930   \n",
            "29     Q        보건 및 사회복지 서비스      70,701      3,365       38,804      26,571   \n",
            "30     R  예술, 스포츠 및 여가 관련 서비스      33,365      6,054       62,401     116,494   \n",
            "31     S               기타 서비스      69,108      7,416       74,586      71,448   \n",
            "32  9590                중간투입계  28,090,763  1,637,469   75,164,286  54,209,886   \n",
            "33  9610                피용자보수   4,108,561    563,886    7,051,554   6,053,004   \n",
            "34  9621                 영업잉여  19,713,168  1,009,744    3,553,281   4,738,672   \n",
            "35  9622               고정자본소모   4,819,534    327,731    3,314,184   1,764,530   \n",
            "36  9630           생산세(보조금공제)    -316,598    -46,328    9,593,103   1,931,870   \n",
            "37  9680                  조정항   2,689,989    312,449    7,987,302   4,050,263   \n",
            "38  9690                부가가치계  31,014,654  2,167,482   31,499,424  18,538,339   \n",
            "39  9790                 총투입계  59,105,417  3,804,951  106,663,710  72,748,225   \n",
            "\n",
            "          Col5        Col6         Col7        Col8  ...        Col36  \\\n",
            "0    1,020,190       1,269    1,096,739       3,216  ...      508,027   \n",
            "1       41,764  48,476,793    2,833,079   2,591,961  ...            0   \n",
            "2       69,338       9,933      992,240      21,645  ...            0   \n",
            "3      398,573      27,134    1,343,399     120,029  ...      147,863   \n",
            "4   13,027,047      75,445    1,428,720     514,336  ...            0   \n",
            "5      390,159   2,898,104   18,963,457   1,692,348  ...            0   \n",
            "6    2,880,753   1,243,749   70,566,122   2,266,429  ...            0   \n",
            "7       71,141      18,007      684,466   5,326,330  ...            0   \n",
            "8       92,227      83,750    2,098,373     632,952  ...   -1,793,577   \n",
            "9      176,906     543,011    1,654,051     580,472  ...    3,030,134   \n",
            "10      42,636      91,130      324,179      85,415  ...   15,290,602   \n",
            "11      62,514      66,163      251,925     187,021  ...    9,475,491   \n",
            "12     203,367     527,083    2,604,176     481,443  ...   49,052,876   \n",
            "13      66,394      39,798      169,364     230,980  ...   26,897,447   \n",
            "14      19,784       3,098       40,523       6,531  ...    1,513,642   \n",
            "15     987,844      41,530    2,701,717     628,184  ...       61,994   \n",
            "16   1,099,667     875,679    3,676,584   1,051,476  ...            0   \n",
            "17     680,042      41,770    1,557,263     448,220  ...            0   \n",
            "18      31,386      29,692      190,043      52,526  ...  148,263,819   \n",
            "19   1,942,257     937,471    8,564,813   1,584,759  ...   11,226,115   \n",
            "20   1,512,030   1,197,487    5,593,214   3,017,425  ...      302,604   \n",
            "21     305,686     100,969      903,371     222,302  ...            0   \n",
            "22     163,686     200,884      389,834     141,131  ...   22,324,532   \n",
            "23     598,872     236,745    1,766,790     553,728  ...            0   \n",
            "24     186,641      74,094      398,164      82,110  ...   19,531,319   \n",
            "25   1,140,034     940,694    8,416,845   1,245,678  ...   37,864,994   \n",
            "26     234,109     182,046      726,593     142,147  ...            0   \n",
            "27       5,713         254       10,537       3,022  ...            0   \n",
            "28      18,297      44,563       65,783      12,323  ...            0   \n",
            "29      16,183       2,664       58,205      16,592  ...            0   \n",
            "30      62,834      19,167      217,196      38,202  ...      677,877   \n",
            "31      48,977      47,813      166,944      81,686  ...       22,690   \n",
            "32  27,597,051  59,077,989  140,454,709  24,062,619  ...  344,398,449   \n",
            "33   4,987,504   1,080,811   15,021,432   4,289,963  ...            0   \n",
            "34   4,008,120   6,649,941   26,650,744   3,505,190  ...            0   \n",
            "35   1,392,129   2,168,376   12,135,348   2,759,482  ...            0   \n",
            "36     820,156  21,582,814    2,362,858     349,768  ...            0   \n",
            "37   2,134,655  -2,444,305   10,047,502     104,608  ...            0   \n",
            "38  13,342,564  29,037,637   66,217,884  11,009,011  ...            0   \n",
            "39  40,939,615  88,115,626  206,672,593  35,071,630  ...            0   \n",
            "\n",
            "         Col37       Col38    Col39        Col40          Col41  \\\n",
            "0       22,891   2,114,993        0      829,846     19,485,410   \n",
            "1            0      95,087        0      141,873        252,092   \n",
            "2            0   3,915,376        0    6,409,262     69,830,971   \n",
            "3        5,122   3,580,968        0   21,859,383     55,495,210   \n",
            "4            0    -380,463        0    3,367,618      3,831,656   \n",
            "5            0   2,113,600        0   28,827,390     45,503,229   \n",
            "6            0   1,885,814        0   60,184,815     70,702,985   \n",
            "7            0     523,723        0    1,848,108      2,601,443   \n",
            "8     -379,727   2,842,122  142,466   32,430,557     32,950,234   \n",
            "9    1,797,493   1,382,763        0    8,921,684     16,319,967   \n",
            "10   3,128,448   3,350,532        0  107,151,152    146,023,430   \n",
            "11     171,006   1,955,024        0   22,737,682     38,119,981   \n",
            "12     398,705     942,699        0   38,531,517     90,381,037   \n",
            "13   4,187,216     510,349        0  118,316,301    173,995,610   \n",
            "14     298,316     586,971  711,347    2,238,005     10,807,950   \n",
            "15       1,709      -2,647        0    3,517,174      3,621,432   \n",
            "16           0           0        0      113,167     23,217,297   \n",
            "17           0           0        0       46,489      4,846,949   \n",
            "18  56,316,316   1,117,535        0      412,252    206,109,922   \n",
            "19   1,450,075   2,057,739   75,305   12,190,043     89,339,563   \n",
            "20      46,021     123,410    1,181   34,662,997     61,841,179   \n",
            "21           0           0        0    7,438,768     77,479,694   \n",
            "22     271,065     101,845        0    2,692,082     53,519,295   \n",
            "23           0           0        0    2,715,872     55,190,214   \n",
            "24      17,661           0        0      643,305    123,211,803   \n",
            "25   8,584,750           0        0    8,345,772     56,930,914   \n",
            "26           0           0        0    6,723,905     12,514,681   \n",
            "27           0           0        0       25,210     99,757,560   \n",
            "28           0           0        0      488,404    108,975,756   \n",
            "29           0           0        0       79,854     88,824,655   \n",
            "30           0           0   12,560    1,654,190     32,683,251   \n",
            "31       9,008           0        0      313,895     34,792,231   \n",
            "32  76,326,075  28,817,440  942,859  535,858,572  1,909,157,601   \n",
            "33           0           0        0            0              0   \n",
            "34           0           0        0            0              0   \n",
            "35           0           0        0            0              0   \n",
            "36           0           0        0            0              0   \n",
            "37           0           0        0            0              0   \n",
            "38           0           0        0            0              0   \n",
            "39           0           0        0            0              0   \n",
            "\n",
            "            Col42       Col43      Col44       Col45  \n",
            "0      68,903,743    59105417    9798326    68903743  \n",
            "1      94,624,899     3804951   90819948    94624899  \n",
            "2     127,143,752   106663710   20480042   127143752  \n",
            "3      90,871,163    72748225   18122938    90871163  \n",
            "4      47,518,926    40939615    6579311    47518926  \n",
            "5     113,232,308    88115626   25116682   113232308  \n",
            "6     258,768,141   206672593   52095548   258768141  \n",
            "7      41,542,316    35071630    6470686    41542316  \n",
            "8     155,627,172   115463375   40163797   155627172  \n",
            "9      89,142,916    81461345    7681571    89142916  \n",
            "10    255,447,308   194305919   61141389   255447308  \n",
            "11    103,110,054    88245483   14864571   103110054  \n",
            "12    154,142,346   116925401   37216945   154142346  \n",
            "13    239,510,356   216735244   22775112   239510356  \n",
            "14     21,947,593    17604071    4343522    21947593  \n",
            "15     55,159,046    46081155    9077891    55159046  \n",
            "16     98,477,100    98296907     180193    98477100  \n",
            "17     20,561,632    20531323      30309    20561632  \n",
            "18    217,695,819   217667854      27965   217695819  \n",
            "19    189,444,063   186781679    2662384   189444063  \n",
            "20    145,917,106   129332332   16584774   145917106  \n",
            "21    117,849,948   107393295   10456653   117849948  \n",
            "22    115,473,613   109572309    5901304   115473613  \n",
            "23    133,380,016   130349001    3031015   133380016  \n",
            "24    161,907,057   159681180    2225877   161907057  \n",
            "25    159,758,850   147270940   12487910   159758850  \n",
            "26     66,963,908    56165684   10798224    66963908  \n",
            "27    101,055,428   100424833     630595   101055428  \n",
            "28    110,843,599   106773785    4069814   110843599  \n",
            "29     91,759,172    91534755     224417    91759172  \n",
            "30     42,941,901    40202642    2739259    42941901  \n",
            "31     45,295,099    44919040     376059    45295099  \n",
            "32  3,736,016,350  3236841319  499175031  3736016350  \n",
            "33              0           0          0           0  \n",
            "34              0           0          0           0  \n",
            "35              0           0          0           0  \n",
            "36              0           0          0           0  \n",
            "37              0           0          0           0  \n",
            "38              0           0          0           0  \n",
            "39              0           0          0           0  \n",
            "\n",
            "[40 rows x 47 columns]>\n"
          ]
        }
      ]
    },
    {
      "cell_type": "code",
      "source": [
        "SS1 = S1[-3,1:5] # 10년 총거래표 numpy로 숫자만 불러오기\n",
        "# I1 = Imp_cst_10.iloc[1:34,2:].to_numpy # 10년 수입거래표 numpy로 숫자만 불러오기\n",
        "\n",
        "# S2 = Tot_cst_15.iloc[1:41,2:].to_numpy # 15년 총거래표 numpy로 숫자만 불러오기\n",
        "# I2 = Imp_cst_15.iloc[1:34,2:].to_numpy # 15년 수입거래표 numpy로 숫자만 불러오기"
      ],
      "metadata": {
        "id": "6Jw5kRP-Cp0v",
        "outputId": "b5b091aa-4a47-4c35-dad4-b35594d159e3",
        "colab": {
          "base_uri": "https://localhost:8080/",
          "height": 248
        }
      },
      "execution_count": 255,
      "outputs": [
        {
          "output_type": "error",
          "ename": "TypeError",
          "evalue": "ignored",
          "traceback": [
            "\u001b[0;31m---------------------------------------------------------------------------\u001b[0m",
            "\u001b[0;31mTypeError\u001b[0m                                 Traceback (most recent call last)",
            "\u001b[0;32m<ipython-input-255-bd0cba8c58d6>\u001b[0m in \u001b[0;36m<cell line: 1>\u001b[0;34m()\u001b[0m\n\u001b[0;32m----> 1\u001b[0;31m \u001b[0mSS1\u001b[0m \u001b[0;34m=\u001b[0m \u001b[0mS1\u001b[0m\u001b[0;34m[\u001b[0m\u001b[0;34m-\u001b[0m\u001b[0;36m3\u001b[0m\u001b[0;34m,\u001b[0m\u001b[0;36m1\u001b[0m\u001b[0;34m:\u001b[0m\u001b[0;36m5\u001b[0m\u001b[0;34m]\u001b[0m \u001b[0;31m# 10년 총거래표 numpy로 숫자만 불러오기\u001b[0m\u001b[0;34m\u001b[0m\u001b[0;34m\u001b[0m\u001b[0m\n\u001b[0m\u001b[1;32m      2\u001b[0m \u001b[0;31m# I1 = Imp_cst_10.iloc[1:34,2:].to_numpy # 10년 수입거래표 numpy로 숫자만 불러오기\u001b[0m\u001b[0;34m\u001b[0m\u001b[0;34m\u001b[0m\u001b[0m\n\u001b[1;32m      3\u001b[0m \u001b[0;34m\u001b[0m\u001b[0m\n\u001b[1;32m      4\u001b[0m \u001b[0;31m# S2 = Tot_cst_15.iloc[1:41,2:].to_numpy # 15년 총거래표 numpy로 숫자만 불러오기\u001b[0m\u001b[0;34m\u001b[0m\u001b[0;34m\u001b[0m\u001b[0m\n\u001b[1;32m      5\u001b[0m \u001b[0;31m# I2 = Imp_cst_15.iloc[1:34,2:].to_numpy # 15년 수입거래표 numpy로 숫자만 불러오기\u001b[0m\u001b[0;34m\u001b[0m\u001b[0;34m\u001b[0m\u001b[0m\n",
            "\u001b[0;31mTypeError\u001b[0m: 'method' object is not subscriptable"
          ]
        }
      ]
    },
    {
      "cell_type": "code",
      "source": [
        "S2 = np.concatenate(S2[:38,],np.zeros((1,45)))\n",
        "\n",
        "Tt_itr = Tt[-3,1:5] # 총거래표의 각 산업별 및 총산업의 중간투입계"
      ],
      "metadata": {
        "id": "oUNwgKzd92_7"
      },
      "execution_count": null,
      "outputs": []
    },
    {
      "cell_type": "code",
      "source": [
        "print(S2[1:40,])"
      ],
      "metadata": {
        "id": "WWz4Q-OXB_LP"
      },
      "execution_count": null,
      "outputs": []
    },
    {
      "cell_type": "code",
      "source": [
        "data = [['Choi',22],['Kim',48],['Joo',32]]\n",
        "df = pd.DataFrame(data, columns=['Name','Age'])\n",
        "df"
      ],
      "metadata": {
        "id": "TNxJ-dyWCE1Q",
        "outputId": "d764402b-81be-46e7-b852-abec8468037d",
        "colab": {
          "base_uri": "https://localhost:8080/",
          "height": 143
        }
      },
      "execution_count": 277,
      "outputs": [
        {
          "output_type": "execute_result",
          "data": {
            "text/plain": [
              "   Name  Age\n",
              "0  Choi   22\n",
              "1   Kim   48\n",
              "2   Joo   32"
            ],
            "text/html": [
              "\n",
              "  <div id=\"df-43048315-fc40-4d7e-b6a3-b51b9e0981db\">\n",
              "    <div class=\"colab-df-container\">\n",
              "      <div>\n",
              "<style scoped>\n",
              "    .dataframe tbody tr th:only-of-type {\n",
              "        vertical-align: middle;\n",
              "    }\n",
              "\n",
              "    .dataframe tbody tr th {\n",
              "        vertical-align: top;\n",
              "    }\n",
              "\n",
              "    .dataframe thead th {\n",
              "        text-align: right;\n",
              "    }\n",
              "</style>\n",
              "<table border=\"1\" class=\"dataframe\">\n",
              "  <thead>\n",
              "    <tr style=\"text-align: right;\">\n",
              "      <th></th>\n",
              "      <th>Name</th>\n",
              "      <th>Age</th>\n",
              "    </tr>\n",
              "  </thead>\n",
              "  <tbody>\n",
              "    <tr>\n",
              "      <th>0</th>\n",
              "      <td>Choi</td>\n",
              "      <td>22</td>\n",
              "    </tr>\n",
              "    <tr>\n",
              "      <th>1</th>\n",
              "      <td>Kim</td>\n",
              "      <td>48</td>\n",
              "    </tr>\n",
              "    <tr>\n",
              "      <th>2</th>\n",
              "      <td>Joo</td>\n",
              "      <td>32</td>\n",
              "    </tr>\n",
              "  </tbody>\n",
              "</table>\n",
              "</div>\n",
              "      <button class=\"colab-df-convert\" onclick=\"convertToInteractive('df-43048315-fc40-4d7e-b6a3-b51b9e0981db')\"\n",
              "              title=\"Convert this dataframe to an interactive table.\"\n",
              "              style=\"display:none;\">\n",
              "        \n",
              "  <svg xmlns=\"http://www.w3.org/2000/svg\" height=\"24px\"viewBox=\"0 0 24 24\"\n",
              "       width=\"24px\">\n",
              "    <path d=\"M0 0h24v24H0V0z\" fill=\"none\"/>\n",
              "    <path d=\"M18.56 5.44l.94 2.06.94-2.06 2.06-.94-2.06-.94-.94-2.06-.94 2.06-2.06.94zm-11 1L8.5 8.5l.94-2.06 2.06-.94-2.06-.94L8.5 2.5l-.94 2.06-2.06.94zm10 10l.94 2.06.94-2.06 2.06-.94-2.06-.94-.94-2.06-.94 2.06-2.06.94z\"/><path d=\"M17.41 7.96l-1.37-1.37c-.4-.4-.92-.59-1.43-.59-.52 0-1.04.2-1.43.59L10.3 9.45l-7.72 7.72c-.78.78-.78 2.05 0 2.83L4 21.41c.39.39.9.59 1.41.59.51 0 1.02-.2 1.41-.59l7.78-7.78 2.81-2.81c.8-.78.8-2.07 0-2.86zM5.41 20L4 18.59l7.72-7.72 1.47 1.35L5.41 20z\"/>\n",
              "  </svg>\n",
              "      </button>\n",
              "      \n",
              "  <style>\n",
              "    .colab-df-container {\n",
              "      display:flex;\n",
              "      flex-wrap:wrap;\n",
              "      gap: 12px;\n",
              "    }\n",
              "\n",
              "    .colab-df-convert {\n",
              "      background-color: #E8F0FE;\n",
              "      border: none;\n",
              "      border-radius: 50%;\n",
              "      cursor: pointer;\n",
              "      display: none;\n",
              "      fill: #1967D2;\n",
              "      height: 32px;\n",
              "      padding: 0 0 0 0;\n",
              "      width: 32px;\n",
              "    }\n",
              "\n",
              "    .colab-df-convert:hover {\n",
              "      background-color: #E2EBFA;\n",
              "      box-shadow: 0px 1px 2px rgba(60, 64, 67, 0.3), 0px 1px 3px 1px rgba(60, 64, 67, 0.15);\n",
              "      fill: #174EA6;\n",
              "    }\n",
              "\n",
              "    [theme=dark] .colab-df-convert {\n",
              "      background-color: #3B4455;\n",
              "      fill: #D2E3FC;\n",
              "    }\n",
              "\n",
              "    [theme=dark] .colab-df-convert:hover {\n",
              "      background-color: #434B5C;\n",
              "      box-shadow: 0px 1px 3px 1px rgba(0, 0, 0, 0.15);\n",
              "      filter: drop-shadow(0px 1px 2px rgba(0, 0, 0, 0.3));\n",
              "      fill: #FFFFFF;\n",
              "    }\n",
              "  </style>\n",
              "\n",
              "      <script>\n",
              "        const buttonEl =\n",
              "          document.querySelector('#df-43048315-fc40-4d7e-b6a3-b51b9e0981db button.colab-df-convert');\n",
              "        buttonEl.style.display =\n",
              "          google.colab.kernel.accessAllowed ? 'block' : 'none';\n",
              "\n",
              "        async function convertToInteractive(key) {\n",
              "          const element = document.querySelector('#df-43048315-fc40-4d7e-b6a3-b51b9e0981db');\n",
              "          const dataTable =\n",
              "            await google.colab.kernel.invokeFunction('convertToInteractive',\n",
              "                                                     [key], {});\n",
              "          if (!dataTable) return;\n",
              "\n",
              "          const docLinkHtml = 'Like what you see? Visit the ' +\n",
              "            '<a target=\"_blank\" href=https://colab.research.google.com/notebooks/data_table.ipynb>data table notebook</a>'\n",
              "            + ' to learn more about interactive tables.';\n",
              "          element.innerHTML = '';\n",
              "          dataTable['output_type'] = 'display_data';\n",
              "          await google.colab.output.renderOutput(dataTable, element);\n",
              "          const docLink = document.createElement('div');\n",
              "          docLink.innerHTML = docLinkHtml;\n",
              "          element.appendChild(docLink);\n",
              "        }\n",
              "      </script>\n",
              "    </div>\n",
              "  </div>\n",
              "  "
            ]
          },
          "metadata": {},
          "execution_count": 277
        }
      ]
    },
    {
      "cell_type": "code",
      "source": [
        "  print(df.to_numpy())"
      ],
      "metadata": {
        "id": "bW1OZNxEHOJs",
        "outputId": "d1aa8364-3080-4dd4-e07e-242b15bcc12e",
        "colab": {
          "base_uri": "https://localhost:8080/"
        }
      },
      "execution_count": 278,
      "outputs": [
        {
          "output_type": "stream",
          "name": "stdout",
          "text": [
            "[['Choi' 22]\n",
            " ['Kim' 48]\n",
            " ['Joo' 32]]\n"
          ]
        }
      ]
    },
    {
      "cell_type": "code",
      "source": [],
      "metadata": {
        "id": "d83kayDGHek_"
      },
      "execution_count": null,
      "outputs": []
    }
  ]
}