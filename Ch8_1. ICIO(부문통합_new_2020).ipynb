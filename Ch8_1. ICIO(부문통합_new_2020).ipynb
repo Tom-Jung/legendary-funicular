{
  "nbformat": 4,
  "nbformat_minor": 0,
  "metadata": {
    "colab": {
      "provenance": [],
      "mount_file_id": "https://github.com/Tom-Jung/legendary-funicular/blob/main/IO_tables.ipynb",
      "authorship_tag": "ABX9TyOrPcKYdijzh8h2uf98ifts",
      "include_colab_link": true
    },
    "kernelspec": {
      "name": "python3",
      "display_name": "Python 3"
    },
    "language_info": {
      "name": "python"
    }
  },
  "cells": [
    {
      "cell_type": "markdown",
      "metadata": {
        "id": "view-in-github",
        "colab_type": "text"
      },
      "source": [
        "<a href=\"https://colab.research.google.com/github/Tom-Jung/legendary-funicular/blob/main/Ch8_1.%20ICIO(%EB%B6%80%EB%AC%B8%ED%86%B5%ED%95%A9_new_2020).ipynb\" target=\"_parent\"><img src=\"https://colab.research.google.com/assets/colab-badge.svg\" alt=\"Open In Colab\"/></a>"
      ]
    },
    {
      "cell_type": "code",
      "source": [
        "import numpy as np   # Numpy import\n",
        "import pandas as pd  # Pandas import"
      ],
      "metadata": {
        "id": "TR7JvW8CxBFT"
      },
      "execution_count": 163,
      "outputs": []
    },
    {
      "cell_type": "code",
      "source": [
        "np.set_printoptions(precision=3,suppress=True) # 결과를 소수 3자리까지만 보여주는 옵션"
      ],
      "metadata": {
        "id": "2l9tk4XA4Nkc"
      },
      "execution_count": 164,
      "outputs": []
    },
    {
      "cell_type": "code",
      "source": [
        "# from google.colab import drive\n",
        "# drive.mount('/content/drive')"
      ],
      "metadata": {
        "id": "UUugbbcO-CMK"
      },
      "execution_count": 165,
      "outputs": []
    },
    {
      "cell_type": "code",
      "source": [
        "# icio =pd.read_csv('/content/drive/MyDrive/ICIO/ICIO2021_2018.csv')"
      ],
      "metadata": {
        "id": "dH4scTnJ9Wll"
      },
      "execution_count": 166,
      "outputs": []
    },
    {
      "cell_type": "code",
      "source": [
        "icio = pd.read_csv('/content/ICIO_2020.csv')"
      ],
      "metadata": {
        "id": "1tuN2LradEW4"
      },
      "execution_count": 167,
      "outputs": []
    },
    {
      "cell_type": "code",
      "source": [
        "icio.head()\n",
        "icio_1 = icio.to_numpy()\n",
        "icio_2=icio_1[:,1:]\n",
        "icio_2"
      ],
      "metadata": {
        "id": "DhBtrP5M9vRR",
        "outputId": "e8744f55-d09e-48e1-8fc2-3ac4d33d552c",
        "colab": {
          "base_uri": "https://localhost:8080/"
        }
      },
      "execution_count": 168,
      "outputs": [
        {
          "output_type": "execute_result",
          "data": {
            "text/plain": [
              "array([[8455.4, 18.8, 1.1, ..., 0.0, 0, 48567.7],\n",
              "       [0.0, 104.4, 0.0, ..., 0.0, 0, 1795.0],\n",
              "       [6.9, 0.1, 122.3, ..., 0.0, 0, 12925.2],\n",
              "       ...,\n",
              "       [0.0, 0.0, 0.0, ..., 111.2, 0, 0.0],\n",
              "       [21054.1, 1180.0, 7924.1, ..., 0.0, 0, 0.0],\n",
              "       [48567.7, 1795.0, 12925.2, ..., 0.0, 0, 0.0]], dtype=object)"
            ]
          },
          "metadata": {},
          "execution_count": 168
        }
      ]
    },
    {
      "cell_type": "markdown",
      "source": [
        "\n",
        "\n",
        "```\n",
        "# 코드로 형식 지정됨\n",
        "```\n",
        "\n",
        "### 한국 1, 중국 2, ROW 3"
      ],
      "metadata": {
        "id": "AvyOqU89gls6"
      }
    },
    {
      "cell_type": "code",
      "source": [
        "url_cdd = \"https://raw.githubusercontent.com/Tom-Jung/legendary-funicular/main/cd_icio_f_new.csv\"  #코드매치 파일 불러오기\n",
        "cd = pd.read_csv(url_cdd)\n",
        "cd.head()"
      ],
      "metadata": {
        "id": "yXmH7e7troAC",
        "outputId": "de94797e-bdcc-44fe-fef4-5738169ec3e2",
        "colab": {
          "base_uri": "https://localhost:8080/",
          "height": 206
        }
      },
      "execution_count": 169,
      "outputs": [
        {
          "output_type": "execute_result",
          "data": {
            "text/plain": [
              "         cons  old  new\n",
              "0  ARG_A01_02    1    7\n",
              "1     ARG_A03    2    7\n",
              "2  ARG_B05_06    3    8\n",
              "3  ARG_B07_08    4    8\n",
              "4     ARG_B09    5    8"
            ],
            "text/html": [
              "\n",
              "  <div id=\"df-5431e61f-dcc6-4957-9a16-66cc4c2b2a21\" class=\"colab-df-container\">\n",
              "    <div>\n",
              "<style scoped>\n",
              "    .dataframe tbody tr th:only-of-type {\n",
              "        vertical-align: middle;\n",
              "    }\n",
              "\n",
              "    .dataframe tbody tr th {\n",
              "        vertical-align: top;\n",
              "    }\n",
              "\n",
              "    .dataframe thead th {\n",
              "        text-align: right;\n",
              "    }\n",
              "</style>\n",
              "<table border=\"1\" class=\"dataframe\">\n",
              "  <thead>\n",
              "    <tr style=\"text-align: right;\">\n",
              "      <th></th>\n",
              "      <th>cons</th>\n",
              "      <th>old</th>\n",
              "      <th>new</th>\n",
              "    </tr>\n",
              "  </thead>\n",
              "  <tbody>\n",
              "    <tr>\n",
              "      <th>0</th>\n",
              "      <td>ARG_A01_02</td>\n",
              "      <td>1</td>\n",
              "      <td>7</td>\n",
              "    </tr>\n",
              "    <tr>\n",
              "      <th>1</th>\n",
              "      <td>ARG_A03</td>\n",
              "      <td>2</td>\n",
              "      <td>7</td>\n",
              "    </tr>\n",
              "    <tr>\n",
              "      <th>2</th>\n",
              "      <td>ARG_B05_06</td>\n",
              "      <td>3</td>\n",
              "      <td>8</td>\n",
              "    </tr>\n",
              "    <tr>\n",
              "      <th>3</th>\n",
              "      <td>ARG_B07_08</td>\n",
              "      <td>4</td>\n",
              "      <td>8</td>\n",
              "    </tr>\n",
              "    <tr>\n",
              "      <th>4</th>\n",
              "      <td>ARG_B09</td>\n",
              "      <td>5</td>\n",
              "      <td>8</td>\n",
              "    </tr>\n",
              "  </tbody>\n",
              "</table>\n",
              "</div>\n",
              "    <div class=\"colab-df-buttons\">\n",
              "\n",
              "  <div class=\"colab-df-container\">\n",
              "    <button class=\"colab-df-convert\" onclick=\"convertToInteractive('df-5431e61f-dcc6-4957-9a16-66cc4c2b2a21')\"\n",
              "            title=\"Convert this dataframe to an interactive table.\"\n",
              "            style=\"display:none;\">\n",
              "\n",
              "  <svg xmlns=\"http://www.w3.org/2000/svg\" height=\"24px\" viewBox=\"0 -960 960 960\">\n",
              "    <path d=\"M120-120v-720h720v720H120Zm60-500h600v-160H180v160Zm220 220h160v-160H400v160Zm0 220h160v-160H400v160ZM180-400h160v-160H180v160Zm440 0h160v-160H620v160ZM180-180h160v-160H180v160Zm440 0h160v-160H620v160Z\"/>\n",
              "  </svg>\n",
              "    </button>\n",
              "\n",
              "  <style>\n",
              "    .colab-df-container {\n",
              "      display:flex;\n",
              "      gap: 12px;\n",
              "    }\n",
              "\n",
              "    .colab-df-convert {\n",
              "      background-color: #E8F0FE;\n",
              "      border: none;\n",
              "      border-radius: 50%;\n",
              "      cursor: pointer;\n",
              "      display: none;\n",
              "      fill: #1967D2;\n",
              "      height: 32px;\n",
              "      padding: 0 0 0 0;\n",
              "      width: 32px;\n",
              "    }\n",
              "\n",
              "    .colab-df-convert:hover {\n",
              "      background-color: #E2EBFA;\n",
              "      box-shadow: 0px 1px 2px rgba(60, 64, 67, 0.3), 0px 1px 3px 1px rgba(60, 64, 67, 0.15);\n",
              "      fill: #174EA6;\n",
              "    }\n",
              "\n",
              "    .colab-df-buttons div {\n",
              "      margin-bottom: 4px;\n",
              "    }\n",
              "\n",
              "    [theme=dark] .colab-df-convert {\n",
              "      background-color: #3B4455;\n",
              "      fill: #D2E3FC;\n",
              "    }\n",
              "\n",
              "    [theme=dark] .colab-df-convert:hover {\n",
              "      background-color: #434B5C;\n",
              "      box-shadow: 0px 1px 3px 1px rgba(0, 0, 0, 0.15);\n",
              "      filter: drop-shadow(0px 1px 2px rgba(0, 0, 0, 0.3));\n",
              "      fill: #FFFFFF;\n",
              "    }\n",
              "  </style>\n",
              "\n",
              "    <script>\n",
              "      const buttonEl =\n",
              "        document.querySelector('#df-5431e61f-dcc6-4957-9a16-66cc4c2b2a21 button.colab-df-convert');\n",
              "      buttonEl.style.display =\n",
              "        google.colab.kernel.accessAllowed ? 'block' : 'none';\n",
              "\n",
              "      async function convertToInteractive(key) {\n",
              "        const element = document.querySelector('#df-5431e61f-dcc6-4957-9a16-66cc4c2b2a21');\n",
              "        const dataTable =\n",
              "          await google.colab.kernel.invokeFunction('convertToInteractive',\n",
              "                                                    [key], {});\n",
              "        if (!dataTable) return;\n",
              "\n",
              "        const docLinkHtml = 'Like what you see? Visit the ' +\n",
              "          '<a target=\"_blank\" href=https://colab.research.google.com/notebooks/data_table.ipynb>data table notebook</a>'\n",
              "          + ' to learn more about interactive tables.';\n",
              "        element.innerHTML = '';\n",
              "        dataTable['output_type'] = 'display_data';\n",
              "        await google.colab.output.renderOutput(dataTable, element);\n",
              "        const docLink = document.createElement('div');\n",
              "        docLink.innerHTML = docLinkHtml;\n",
              "        element.appendChild(docLink);\n",
              "      }\n",
              "    </script>\n",
              "  </div>\n",
              "\n",
              "\n",
              "<div id=\"df-8df26ff8-6d2b-424b-bcc6-19ed28fc65ed\">\n",
              "  <button class=\"colab-df-quickchart\" onclick=\"quickchart('df-8df26ff8-6d2b-424b-bcc6-19ed28fc65ed')\"\n",
              "            title=\"Suggest charts.\"\n",
              "            style=\"display:none;\">\n",
              "\n",
              "<svg xmlns=\"http://www.w3.org/2000/svg\" height=\"24px\"viewBox=\"0 0 24 24\"\n",
              "     width=\"24px\">\n",
              "    <g>\n",
              "        <path d=\"M19 3H5c-1.1 0-2 .9-2 2v14c0 1.1.9 2 2 2h14c1.1 0 2-.9 2-2V5c0-1.1-.9-2-2-2zM9 17H7v-7h2v7zm4 0h-2V7h2v10zm4 0h-2v-4h2v4z\"/>\n",
              "    </g>\n",
              "</svg>\n",
              "  </button>\n",
              "\n",
              "<style>\n",
              "  .colab-df-quickchart {\n",
              "    background-color: #E8F0FE;\n",
              "    border: none;\n",
              "    border-radius: 50%;\n",
              "    cursor: pointer;\n",
              "    display: none;\n",
              "    fill: #1967D2;\n",
              "    height: 32px;\n",
              "    padding: 0 0 0 0;\n",
              "    width: 32px;\n",
              "  }\n",
              "\n",
              "  .colab-df-quickchart:hover {\n",
              "    background-color: #E2EBFA;\n",
              "    box-shadow: 0px 1px 2px rgba(60, 64, 67, 0.3), 0px 1px 3px 1px rgba(60, 64, 67, 0.15);\n",
              "    fill: #174EA6;\n",
              "  }\n",
              "\n",
              "  [theme=dark] .colab-df-quickchart {\n",
              "    background-color: #3B4455;\n",
              "    fill: #D2E3FC;\n",
              "  }\n",
              "\n",
              "  [theme=dark] .colab-df-quickchart:hover {\n",
              "    background-color: #434B5C;\n",
              "    box-shadow: 0px 1px 3px 1px rgba(0, 0, 0, 0.15);\n",
              "    filter: drop-shadow(0px 1px 2px rgba(0, 0, 0, 0.3));\n",
              "    fill: #FFFFFF;\n",
              "  }\n",
              "</style>\n",
              "\n",
              "  <script>\n",
              "    async function quickchart(key) {\n",
              "      const charts = await google.colab.kernel.invokeFunction(\n",
              "          'suggestCharts', [key], {});\n",
              "    }\n",
              "    (() => {\n",
              "      let quickchartButtonEl =\n",
              "        document.querySelector('#df-8df26ff8-6d2b-424b-bcc6-19ed28fc65ed button');\n",
              "      quickchartButtonEl.style.display =\n",
              "        google.colab.kernel.accessAllowed ? 'block' : 'none';\n",
              "    })();\n",
              "  </script>\n",
              "</div>\n",
              "    </div>\n",
              "  </div>\n"
            ]
          },
          "metadata": {},
          "execution_count": 169
        }
      ]
    },
    {
      "cell_type": "code",
      "source": [
        "ccdd = cd.to_numpy()\n",
        "cd_for_itr = ccdd[:,1:]\n",
        "cd_for_itr"
      ],
      "metadata": {
        "id": "M2e69LcT_59t",
        "outputId": "60cf0bb4-0357-4fea-ca94-258848fc6f6a",
        "colab": {
          "base_uri": "https://localhost:8080/"
        }
      },
      "execution_count": 170,
      "outputs": [
        {
          "output_type": "execute_result",
          "data": {
            "text/plain": [
              "array([[1, 7],\n",
              "       [2, 7],\n",
              "       [3, 8],\n",
              "       ...,\n",
              "       [3643, 6],\n",
              "       [3644, 6],\n",
              "       [3645, 6]], dtype=object)"
            ]
          },
          "metadata": {},
          "execution_count": 170
        }
      ]
    },
    {
      "cell_type": "code",
      "source": [
        "Mtx = np.zeros((9,3645)) # 부문통합을 위한 코드가 많을 경우 상기의 코드를 수작업으로 미리 하는 것이 쉽자 않으므로 반복문을 통해 3x33 임시코드 만들기\n",
        "cd_3 = cd_for_itr[:,1]\n",
        "cd_33 = cd_for_itr[:,0]\n",
        "row=cd_3\n",
        "col=cd_33\n",
        "for i, j in zip(row,col):\n",
        "  Mtx[i-1,j-1] = 1\n",
        "print(Mtx)"
      ],
      "metadata": {
        "id": "GdSKaueLdDOn",
        "outputId": "579c3f29-bd00-4c8f-d7f9-9d2fe16c8a4d",
        "colab": {
          "base_uri": "https://localhost:8080/"
        }
      },
      "execution_count": 171,
      "outputs": [
        {
          "output_type": "stream",
          "name": "stdout",
          "text": [
            "[[0. 0. 0. ... 0. 0. 0.]\n",
            " [0. 0. 0. ... 0. 0. 0.]\n",
            " [0. 0. 0. ... 0. 0. 0.]\n",
            " ...\n",
            " [1. 1. 0. ... 0. 0. 0.]\n",
            " [0. 0. 1. ... 0. 0. 0.]\n",
            " [0. 0. 0. ... 0. 0. 0.]]\n"
          ]
        }
      ]
    },
    {
      "cell_type": "code",
      "source": [
        "code=Mtx\n",
        "code.shape"
      ],
      "metadata": {
        "id": "1gXI65U3K2hG",
        "outputId": "f322ed8c-599f-4596-c72e-2e7bca0aeae0",
        "colab": {
          "base_uri": "https://localhost:8080/"
        }
      },
      "execution_count": 172,
      "outputs": [
        {
          "output_type": "execute_result",
          "data": {
            "text/plain": [
              "(9, 3645)"
            ]
          },
          "metadata": {},
          "execution_count": 172
        }
      ]
    },
    {
      "cell_type": "code",
      "source": [
        "nae_tot_row = code@icio_2[0:3645,0:3645] # 중간투입(수요)의 행을 18부문으로 만들기\n",
        "nae_tot_row.shape"
      ],
      "metadata": {
        "id": "hwAN1N7qGAtx",
        "outputId": "c035f59f-b618-4ec5-91b9-387a764385d2",
        "colab": {
          "base_uri": "https://localhost:8080/"
        }
      },
      "execution_count": 173,
      "outputs": [
        {
          "output_type": "execute_result",
          "data": {
            "text/plain": [
              "(9, 3645)"
            ]
          },
          "metadata": {},
          "execution_count": 173
        }
      ]
    },
    {
      "cell_type": "code",
      "source": [
        "nae_tot_col = nae_tot_row@code.T  # 수작업한 code 이용\n",
        "nae_tot_col.sum()"
      ],
      "metadata": {
        "id": "gJ-wf5Z5GAwF",
        "outputId": "2c40d38f-a186-4992-fe57-e1e83b95a99a",
        "colab": {
          "base_uri": "https://localhost:8080/"
        }
      },
      "execution_count": 174,
      "outputs": [
        {
          "output_type": "execute_result",
          "data": {
            "text/plain": [
              "84090493.1"
            ]
          },
          "metadata": {},
          "execution_count": 174
        }
      ]
    },
    {
      "cell_type": "code",
      "source": [
        "url_cdtx = \"https://raw.githubusercontent.com/Tom-Jung/legendary-funicular/main/cd_tax_new.csv\"  #코드매치 파일 불러오기\n",
        "cd_tx = pd.read_csv(url_cdtx)\n",
        "cd_tx.shape"
      ],
      "metadata": {
        "id": "U2KVZnyLGAyV",
        "outputId": "ca24b302-117c-43e8-a80b-0a9a8aa0be4d",
        "colab": {
          "base_uri": "https://localhost:8080/"
        }
      },
      "execution_count": 175,
      "outputs": [
        {
          "output_type": "execute_result",
          "data": {
            "text/plain": [
              "(77, 3)"
            ]
          },
          "metadata": {},
          "execution_count": 175
        }
      ]
    },
    {
      "cell_type": "code",
      "source": [
        "url_cns = \"https://raw.githubusercontent.com/Tom-Jung/legendary-funicular/main/cd_cons_new.csv\"  #코드매치 파일 불러오기\n",
        "cd_cns = pd.read_csv(url_cns)\n",
        "cd_cns.shape"
      ],
      "metadata": {
        "id": "JQxUsF6DiW7A",
        "outputId": "ae5bbac0-c918-4e5d-d7ba-729a72f77fce",
        "colab": {
          "base_uri": "https://localhost:8080/"
        }
      },
      "execution_count": 176,
      "outputs": [
        {
          "output_type": "execute_result",
          "data": {
            "text/plain": [
              "(77, 3)"
            ]
          },
          "metadata": {},
          "execution_count": 176
        }
      ]
    },
    {
      "cell_type": "code",
      "source": [
        "# Mtx_tx= np.zeros((6,3195)) # 부문통합을 위한 코드가 많을 경우 상기의 코드를 수작업으로 미리 하는 것이 쉽자 않으므로 반복문을 통해 3x33 임시코드 만들기\n",
        "# cd_3 = cd_for_itr_tx[:,1]\n",
        "# cd_33 = cd_for_itr_tx[:,0]\n",
        "# row=cd_3\n",
        "# col=cd_33\n",
        "# for i, j in zip(row,col):\n",
        "#   Mtx_tx[i-1,j-1] = 1\n",
        "# print(Mtx_tx)"
      ],
      "metadata": {
        "id": "jzhKiWaFKZJG"
      },
      "execution_count": 177,
      "outputs": []
    },
    {
      "cell_type": "code",
      "source": [
        "ccdd_cns = cd_cns.to_numpy()\n",
        "cd_for_itr_cns = ccdd_cns[:,1:]\n",
        "# cd_for_itr_tx"
      ],
      "metadata": {
        "id": "GqX0Pk4vprXZ"
      },
      "execution_count": 178,
      "outputs": []
    },
    {
      "cell_type": "code",
      "source": [
        "Mtx_cns= np.zeros((3,77)) # 부문통합을 위한 코드가 많을 경우 상기의 코드를 수작업으로 미리 하는 것이 쉽자 않으므로 반복문을 통해 3x33 임시코드 만들기\n",
        "cd_3 = cd_for_itr_cns[:,1]\n",
        "cd_33 = cd_for_itr_cns[:,0]\n",
        "row=cd_3\n",
        "col=cd_33\n",
        "for i, j in zip(row,col):\n",
        "  Mtx_cns[i-1,j-1] = 1\n",
        "print(Mtx_cns)"
      ],
      "metadata": {
        "id": "J3tdCNxcprdM",
        "outputId": "11439760-c1ba-45fd-e578-55543441ec36",
        "colab": {
          "base_uri": "https://localhost:8080/"
        }
      },
      "execution_count": 179,
      "outputs": [
        {
          "output_type": "stream",
          "name": "stdout",
          "text": [
            "[[0. 0. 0. 0. 0. 0. 0. 0. 0. 0. 0. 0. 0. 0. 0. 0. 0. 0. 0. 0. 0. 0. 0. 0.\n",
            "  0. 0. 0. 0. 0. 0. 0. 0. 0. 0. 0. 0. 0. 0. 0. 0. 0. 1. 0. 0. 0. 0. 0. 0.\n",
            "  0. 0. 0. 0. 0. 0. 0. 0. 0. 0. 0. 0. 0. 0. 0. 0. 0. 0. 0. 0. 0. 0. 0. 0.\n",
            "  0. 0. 0. 0. 0.]\n",
            " [0. 0. 0. 0. 0. 0. 0. 0. 0. 0. 0. 0. 1. 0. 0. 0. 0. 0. 0. 0. 0. 0. 0. 0.\n",
            "  0. 0. 0. 0. 0. 0. 0. 0. 0. 0. 0. 0. 0. 0. 0. 0. 0. 0. 0. 0. 0. 0. 0. 0.\n",
            "  0. 0. 0. 0. 0. 0. 0. 0. 0. 0. 0. 0. 0. 0. 0. 0. 0. 0. 0. 0. 0. 0. 0. 0.\n",
            "  0. 0. 0. 0. 0.]\n",
            " [1. 1. 1. 1. 1. 1. 1. 1. 1. 1. 1. 1. 0. 1. 1. 1. 1. 1. 1. 1. 1. 1. 1. 1.\n",
            "  1. 1. 1. 1. 1. 1. 1. 1. 1. 1. 1. 1. 1. 1. 1. 1. 1. 0. 1. 1. 1. 1. 1. 1.\n",
            "  1. 1. 1. 1. 1. 1. 1. 1. 1. 1. 1. 1. 1. 1. 1. 1. 1. 1. 1. 1. 1. 1. 1. 1.\n",
            "  1. 1. 1. 1. 1.]]\n"
          ]
        }
      ]
    },
    {
      "cell_type": "code",
      "source": [
        "# code_tx = Mtx_tx\n",
        "code_cns = Mtx_cns\n",
        "code_cns.shape"
      ],
      "metadata": {
        "id": "PraMpI0AKZL1",
        "colab": {
          "base_uri": "https://localhost:8080/"
        },
        "outputId": "21c9a4f7-7bb3-42a4-f93f-9fa8e4b75465"
      },
      "execution_count": 180,
      "outputs": [
        {
          "output_type": "execute_result",
          "data": {
            "text/plain": [
              "(3, 77)"
            ]
          },
          "metadata": {},
          "execution_count": 180
        }
      ]
    },
    {
      "cell_type": "code",
      "source": [
        "nae_tx = code_cns@icio_2[3645:3722,0:3645]@code.T # 세금 행을 6부문으로 만들기\n",
        "nae_tx"
      ],
      "metadata": {
        "id": "5c-zt7MIK-xv",
        "outputId": "1711e4f9-f9aa-4207-b0b6-4931f353aa8c",
        "colab": {
          "base_uri": "https://localhost:8080/"
        }
      },
      "execution_count": 181,
      "outputs": [
        {
          "output_type": "execute_result",
          "data": {
            "text/plain": [
              "array([[565.7, 25259.100000000006, 46582.600000000006, 0.0, 0.0, 0.0,\n",
              "        0.0, 0.0, 0.0],\n",
              "       [0.0, 0.0, 0.0, 14219.0, 450909.7, 308826.6000000001, 0.0, 0.0,\n",
              "        0.0],\n",
              "       [0.0, 0.0, 0.0, 0.0, 0.0, 0.0, 52644.79999999997,\n",
              "        793135.2999999992, 1289888.300000001]], dtype=object)"
            ]
          },
          "metadata": {},
          "execution_count": 181
        }
      ]
    },
    {
      "cell_type": "code",
      "source": [
        "va_row = icio_2[-2:,0:3645]@code.T # 중투합, 피용자보수, 영업잉여, 고정자본소모, 기타생산세, 부가가치계, 산출액(7X3)\n",
        "va_row.sum()"
      ],
      "metadata": {
        "id": "qztNjQCtK-0Y",
        "outputId": "33c699dd-cacf-436b-aa6e-6462ab9ba91c",
        "colab": {
          "base_uri": "https://localhost:8080/"
        }
      },
      "execution_count": 184,
      "outputs": [
        {
          "output_type": "execute_result",
          "data": {
            "text/plain": [
              "246413251.10000002"
            ]
          },
          "metadata": {},
          "execution_count": 184
        }
      ]
    },
    {
      "cell_type": "code",
      "source": [
        "url_cdfd = \"https://raw.githubusercontent.com/Tom-Jung/legendary-funicular/main/cd_fd_new.csv\"  #코드매치 파일 불러오기\n",
        "cd_fd = pd.read_csv(url_cdfd)\n",
        "cd_fd.head()"
      ],
      "metadata": {
        "id": "TveEEi60VWLR",
        "outputId": "fb82171e-6020-4c55-f0c8-fcbf46366022",
        "colab": {
          "base_uri": "https://localhost:8080/",
          "height": 206
        }
      },
      "execution_count": 185,
      "outputs": [
        {
          "output_type": "execute_result",
          "data": {
            "text/plain": [
              "        cons  old  new\n",
              "0   ARG_HFCE    1    7\n",
              "1  ARG_NPISH    2    7\n",
              "2   ARG_GGFC    3    8\n",
              "3   ARG_GFCF    4    8\n",
              "4  ARG_INVNT    5    8"
            ],
            "text/html": [
              "\n",
              "  <div id=\"df-5eec04e5-ea43-4ea0-9284-86a9bda4c4ee\" class=\"colab-df-container\">\n",
              "    <div>\n",
              "<style scoped>\n",
              "    .dataframe tbody tr th:only-of-type {\n",
              "        vertical-align: middle;\n",
              "    }\n",
              "\n",
              "    .dataframe tbody tr th {\n",
              "        vertical-align: top;\n",
              "    }\n",
              "\n",
              "    .dataframe thead th {\n",
              "        text-align: right;\n",
              "    }\n",
              "</style>\n",
              "<table border=\"1\" class=\"dataframe\">\n",
              "  <thead>\n",
              "    <tr style=\"text-align: right;\">\n",
              "      <th></th>\n",
              "      <th>cons</th>\n",
              "      <th>old</th>\n",
              "      <th>new</th>\n",
              "    </tr>\n",
              "  </thead>\n",
              "  <tbody>\n",
              "    <tr>\n",
              "      <th>0</th>\n",
              "      <td>ARG_HFCE</td>\n",
              "      <td>1</td>\n",
              "      <td>7</td>\n",
              "    </tr>\n",
              "    <tr>\n",
              "      <th>1</th>\n",
              "      <td>ARG_NPISH</td>\n",
              "      <td>2</td>\n",
              "      <td>7</td>\n",
              "    </tr>\n",
              "    <tr>\n",
              "      <th>2</th>\n",
              "      <td>ARG_GGFC</td>\n",
              "      <td>3</td>\n",
              "      <td>8</td>\n",
              "    </tr>\n",
              "    <tr>\n",
              "      <th>3</th>\n",
              "      <td>ARG_GFCF</td>\n",
              "      <td>4</td>\n",
              "      <td>8</td>\n",
              "    </tr>\n",
              "    <tr>\n",
              "      <th>4</th>\n",
              "      <td>ARG_INVNT</td>\n",
              "      <td>5</td>\n",
              "      <td>8</td>\n",
              "    </tr>\n",
              "  </tbody>\n",
              "</table>\n",
              "</div>\n",
              "    <div class=\"colab-df-buttons\">\n",
              "\n",
              "  <div class=\"colab-df-container\">\n",
              "    <button class=\"colab-df-convert\" onclick=\"convertToInteractive('df-5eec04e5-ea43-4ea0-9284-86a9bda4c4ee')\"\n",
              "            title=\"Convert this dataframe to an interactive table.\"\n",
              "            style=\"display:none;\">\n",
              "\n",
              "  <svg xmlns=\"http://www.w3.org/2000/svg\" height=\"24px\" viewBox=\"0 -960 960 960\">\n",
              "    <path d=\"M120-120v-720h720v720H120Zm60-500h600v-160H180v160Zm220 220h160v-160H400v160Zm0 220h160v-160H400v160ZM180-400h160v-160H180v160Zm440 0h160v-160H620v160ZM180-180h160v-160H180v160Zm440 0h160v-160H620v160Z\"/>\n",
              "  </svg>\n",
              "    </button>\n",
              "\n",
              "  <style>\n",
              "    .colab-df-container {\n",
              "      display:flex;\n",
              "      gap: 12px;\n",
              "    }\n",
              "\n",
              "    .colab-df-convert {\n",
              "      background-color: #E8F0FE;\n",
              "      border: none;\n",
              "      border-radius: 50%;\n",
              "      cursor: pointer;\n",
              "      display: none;\n",
              "      fill: #1967D2;\n",
              "      height: 32px;\n",
              "      padding: 0 0 0 0;\n",
              "      width: 32px;\n",
              "    }\n",
              "\n",
              "    .colab-df-convert:hover {\n",
              "      background-color: #E2EBFA;\n",
              "      box-shadow: 0px 1px 2px rgba(60, 64, 67, 0.3), 0px 1px 3px 1px rgba(60, 64, 67, 0.15);\n",
              "      fill: #174EA6;\n",
              "    }\n",
              "\n",
              "    .colab-df-buttons div {\n",
              "      margin-bottom: 4px;\n",
              "    }\n",
              "\n",
              "    [theme=dark] .colab-df-convert {\n",
              "      background-color: #3B4455;\n",
              "      fill: #D2E3FC;\n",
              "    }\n",
              "\n",
              "    [theme=dark] .colab-df-convert:hover {\n",
              "      background-color: #434B5C;\n",
              "      box-shadow: 0px 1px 3px 1px rgba(0, 0, 0, 0.15);\n",
              "      filter: drop-shadow(0px 1px 2px rgba(0, 0, 0, 0.3));\n",
              "      fill: #FFFFFF;\n",
              "    }\n",
              "  </style>\n",
              "\n",
              "    <script>\n",
              "      const buttonEl =\n",
              "        document.querySelector('#df-5eec04e5-ea43-4ea0-9284-86a9bda4c4ee button.colab-df-convert');\n",
              "      buttonEl.style.display =\n",
              "        google.colab.kernel.accessAllowed ? 'block' : 'none';\n",
              "\n",
              "      async function convertToInteractive(key) {\n",
              "        const element = document.querySelector('#df-5eec04e5-ea43-4ea0-9284-86a9bda4c4ee');\n",
              "        const dataTable =\n",
              "          await google.colab.kernel.invokeFunction('convertToInteractive',\n",
              "                                                    [key], {});\n",
              "        if (!dataTable) return;\n",
              "\n",
              "        const docLinkHtml = 'Like what you see? Visit the ' +\n",
              "          '<a target=\"_blank\" href=https://colab.research.google.com/notebooks/data_table.ipynb>data table notebook</a>'\n",
              "          + ' to learn more about interactive tables.';\n",
              "        element.innerHTML = '';\n",
              "        dataTable['output_type'] = 'display_data';\n",
              "        await google.colab.output.renderOutput(dataTable, element);\n",
              "        const docLink = document.createElement('div');\n",
              "        docLink.innerHTML = docLinkHtml;\n",
              "        element.appendChild(docLink);\n",
              "      }\n",
              "    </script>\n",
              "  </div>\n",
              "\n",
              "\n",
              "<div id=\"df-ceba487e-671d-445e-8b64-4d3b1a90883d\">\n",
              "  <button class=\"colab-df-quickchart\" onclick=\"quickchart('df-ceba487e-671d-445e-8b64-4d3b1a90883d')\"\n",
              "            title=\"Suggest charts.\"\n",
              "            style=\"display:none;\">\n",
              "\n",
              "<svg xmlns=\"http://www.w3.org/2000/svg\" height=\"24px\"viewBox=\"0 0 24 24\"\n",
              "     width=\"24px\">\n",
              "    <g>\n",
              "        <path d=\"M19 3H5c-1.1 0-2 .9-2 2v14c0 1.1.9 2 2 2h14c1.1 0 2-.9 2-2V5c0-1.1-.9-2-2-2zM9 17H7v-7h2v7zm4 0h-2V7h2v10zm4 0h-2v-4h2v4z\"/>\n",
              "    </g>\n",
              "</svg>\n",
              "  </button>\n",
              "\n",
              "<style>\n",
              "  .colab-df-quickchart {\n",
              "    background-color: #E8F0FE;\n",
              "    border: none;\n",
              "    border-radius: 50%;\n",
              "    cursor: pointer;\n",
              "    display: none;\n",
              "    fill: #1967D2;\n",
              "    height: 32px;\n",
              "    padding: 0 0 0 0;\n",
              "    width: 32px;\n",
              "  }\n",
              "\n",
              "  .colab-df-quickchart:hover {\n",
              "    background-color: #E2EBFA;\n",
              "    box-shadow: 0px 1px 2px rgba(60, 64, 67, 0.3), 0px 1px 3px 1px rgba(60, 64, 67, 0.15);\n",
              "    fill: #174EA6;\n",
              "  }\n",
              "\n",
              "  [theme=dark] .colab-df-quickchart {\n",
              "    background-color: #3B4455;\n",
              "    fill: #D2E3FC;\n",
              "  }\n",
              "\n",
              "  [theme=dark] .colab-df-quickchart:hover {\n",
              "    background-color: #434B5C;\n",
              "    box-shadow: 0px 1px 3px 1px rgba(0, 0, 0, 0.15);\n",
              "    filter: drop-shadow(0px 1px 2px rgba(0, 0, 0, 0.3));\n",
              "    fill: #FFFFFF;\n",
              "  }\n",
              "</style>\n",
              "\n",
              "  <script>\n",
              "    async function quickchart(key) {\n",
              "      const charts = await google.colab.kernel.invokeFunction(\n",
              "          'suggestCharts', [key], {});\n",
              "    }\n",
              "    (() => {\n",
              "      let quickchartButtonEl =\n",
              "        document.querySelector('#df-ceba487e-671d-445e-8b64-4d3b1a90883d button');\n",
              "      quickchartButtonEl.style.display =\n",
              "        google.colab.kernel.accessAllowed ? 'block' : 'none';\n",
              "    })();\n",
              "  </script>\n",
              "</div>\n",
              "    </div>\n",
              "  </div>\n"
            ]
          },
          "metadata": {},
          "execution_count": 185
        }
      ]
    },
    {
      "cell_type": "code",
      "source": [
        "ccdd_fd = cd_fd.to_numpy()\n",
        "cd_for_itr_fd = ccdd_fd[:,1:]\n",
        "cd_for_itr_fd.shape"
      ],
      "metadata": {
        "id": "lyL9UFZoVmBn",
        "outputId": "9d62b2d4-b6cc-42e7-e4bb-39b3937aac96",
        "colab": {
          "base_uri": "https://localhost:8080/"
        }
      },
      "execution_count": 186,
      "outputs": [
        {
          "output_type": "execute_result",
          "data": {
            "text/plain": [
              "(462, 2)"
            ]
          },
          "metadata": {},
          "execution_count": 186
        }
      ]
    },
    {
      "cell_type": "code",
      "source": [
        "Mtx_fd= np.zeros((9,462)) # 부문통합을 위한 코드가 많을 경우 상기의 코드를 수작업으로 미리 하는 것이 쉽자 않으므로 반복문을 통해 3x33 임시코드 만들기\n",
        "cd_3 = cd_for_itr_fd[:,1]\n",
        "cd_33 = cd_for_itr_fd[:,0]\n",
        "row=cd_3\n",
        "col=cd_33\n",
        "for i, j in zip(row,col):\n",
        "  Mtx_fd[i-1,j-1] = 1\n",
        "print(Mtx_fd)"
      ],
      "metadata": {
        "id": "-DfyrxNAVmEF",
        "outputId": "e772c69e-9b4a-46ee-c656-2ffd4c6a9f3f",
        "colab": {
          "base_uri": "https://localhost:8080/"
        }
      },
      "execution_count": 187,
      "outputs": [
        {
          "output_type": "stream",
          "name": "stdout",
          "text": [
            "[[0. 0. 0. ... 0. 0. 0.]\n",
            " [0. 0. 0. ... 0. 0. 0.]\n",
            " [0. 0. 0. ... 0. 0. 0.]\n",
            " ...\n",
            " [1. 1. 0. ... 0. 0. 0.]\n",
            " [0. 0. 1. ... 1. 1. 0.]\n",
            " [0. 0. 0. ... 0. 0. 1.]]\n"
          ]
        }
      ]
    },
    {
      "cell_type": "code",
      "source": [
        "code_fd = Mtx_fd\n",
        "code_fd.shape"
      ],
      "metadata": {
        "id": "DCfHIGyDVmGS",
        "outputId": "e1da9c9c-6776-4fe7-83e9-605c5a9d5cdd",
        "colab": {
          "base_uri": "https://localhost:8080/"
        }
      },
      "execution_count": 188,
      "outputs": [
        {
          "output_type": "execute_result",
          "data": {
            "text/plain": [
              "(9, 462)"
            ]
          },
          "metadata": {},
          "execution_count": 188
        }
      ]
    },
    {
      "cell_type": "code",
      "source": [
        "fd = icio_2[0:3645,3645:4107]\n",
        "fd.shape"
      ],
      "metadata": {
        "id": "nTuvnp_Rw8yU",
        "outputId": "36f3c768-d307-40c8-b24a-0dae68087b92",
        "colab": {
          "base_uri": "https://localhost:8080/"
        }
      },
      "execution_count": 189,
      "outputs": [
        {
          "output_type": "execute_result",
          "data": {
            "text/plain": [
              "(3645, 462)"
            ]
          },
          "metadata": {},
          "execution_count": 189
        }
      ]
    },
    {
      "cell_type": "code",
      "source": [
        "fd_m = (code@fd)@code_fd.T\n",
        "fd_m.shape"
      ],
      "metadata": {
        "id": "OYxeP_9Wl1b6",
        "outputId": "ff395d33-a68f-4576-8ed1-b5040a388368",
        "colab": {
          "base_uri": "https://localhost:8080/"
        }
      },
      "execution_count": 190,
      "outputs": [
        {
          "output_type": "execute_result",
          "data": {
            "text/plain": [
              "(9, 9)"
            ]
          },
          "metadata": {},
          "execution_count": 190
        }
      ]
    },
    {
      "cell_type": "code",
      "source": [
        "fd_tx = code_cns@icio_2[3645:3722,3645:4107]@code_fd.T\n",
        "fd_tx.shape"
      ],
      "metadata": {
        "id": "NJdAdoVPtVq4",
        "outputId": "c50b8e79-bee4-4ac5-aeb2-3d3c841bd368",
        "colab": {
          "base_uri": "https://localhost:8080/"
        }
      },
      "execution_count": 191,
      "outputs": [
        {
          "output_type": "execute_result",
          "data": {
            "text/plain": [
              "(3, 9)"
            ]
          },
          "metadata": {},
          "execution_count": 191
        }
      ]
    },
    {
      "cell_type": "code",
      "source": [
        "fd_row=np.concatenate((fd_m,fd_tx, np.zeros((2,9))))\n",
        "fd_row.shape"
      ],
      "metadata": {
        "colab": {
          "base_uri": "https://localhost:8080/"
        },
        "id": "LWL1uNCO_A95",
        "outputId": "aaf0940b-d1b0-4a41-b01a-f98d351adbcf"
      },
      "execution_count": 192,
      "outputs": [
        {
          "output_type": "execute_result",
          "data": {
            "text/plain": [
              "(14, 9)"
            ]
          },
          "metadata": {},
          "execution_count": 192
        }
      ]
    },
    {
      "cell_type": "code",
      "source": [
        "icio_row = np.concatenate((nae_tot_col,nae_tx, va_row))\n",
        "icio_row.shape"
      ],
      "metadata": {
        "id": "ydBppFx_VmKX",
        "colab": {
          "base_uri": "https://localhost:8080/"
        },
        "outputId": "2df4ac4c-ac5f-4f07-bb5f-776e2e16dadc"
      },
      "execution_count": 193,
      "outputs": [
        {
          "output_type": "execute_result",
          "data": {
            "text/plain": [
              "(14, 9)"
            ]
          },
          "metadata": {},
          "execution_count": 193
        }
      ]
    },
    {
      "cell_type": "code",
      "source": [
        "icio_col = np.concatenate((icio_row, fd_row), axis=1)"
      ],
      "metadata": {
        "id": "9AmJvsmzVmMM"
      },
      "execution_count": 194,
      "outputs": []
    },
    {
      "cell_type": "code",
      "source": [
        "icio_col_sm = icio_col.sum(axis=1).reshape([14,1]) # 충수요계(산출액과 동일)"
      ],
      "metadata": {
        "id": "8e_Mqf7KVmOa"
      },
      "execution_count": 195,
      "outputs": []
    },
    {
      "cell_type": "code",
      "source": [
        "icio_f = np.concatenate((icio_col, icio_col_sm), axis=1).astype(float)"
      ],
      "metadata": {
        "id": "Ic43tRaAVmQd"
      },
      "execution_count": 196,
      "outputs": []
    },
    {
      "cell_type": "code",
      "source": [
        "icio_f.shape"
      ],
      "metadata": {
        "id": "76tj_mVk0NT6",
        "outputId": "6fccbd3d-07c0-4bab-dae2-cd302baf08f2",
        "colab": {
          "base_uri": "https://localhost:8080/"
        }
      },
      "execution_count": 197,
      "outputs": [
        {
          "output_type": "execute_result",
          "data": {
            "text/plain": [
              "(14, 19)"
            ]
          },
          "metadata": {},
          "execution_count": 197
        }
      ]
    },
    {
      "cell_type": "code",
      "source": [
        "ICIO_df = pd.DataFrame(icio_f.round(0), columns = [['KOR', 'KOR', 'KOR', 'CHN', 'CHN', 'CHN', 'ROW', 'ROW', 'ROW','KOR', 'KOR', 'KOR', 'CHN', 'CHN', 'CHN', 'ROW', 'ROW', 'ROW','Total'],\n",
        "\n",
        "                                          ['Agr', 'Manu', 'Serv', 'Agr', 'Manu', 'Serv','Agr', 'Manu', 'Serv','Cons', 'Inv','Exp','Cons', 'Inv','Exp','Cons', 'Inv','Exp','Total']],\n",
        "\n",
        "                                    index=[['KOR', 'KOR', 'KOR', 'CHN', 'CHN', 'CHN', 'ROW', 'ROW', 'ROW','Tax_KOR','Tax_CHN','Tax_ROW','VA','CT'],\n",
        "                                           ['Agr', 'Manu', 'Serv', 'Agr', 'Manu', 'Serv','Agr', 'Manu', 'Serv','Tax_KOR','Tax_CHN','Tax_ROW','VA','Output']])\n",
        "ICIO_df.index.names=['Country', 'Secs']"
      ],
      "metadata": {
        "id": "rtItKkheBmQm"
      },
      "execution_count": 198,
      "outputs": []
    },
    {
      "cell_type": "markdown",
      "source": [],
      "metadata": {
        "id": "AWgG3wYfzfKJ"
      }
    },
    {
      "cell_type": "code",
      "source": [
        "ICIO_df.to_csv('ICIO_3cons_3secs.csv')"
      ],
      "metadata": {
        "id": "3Rq2EJgr1YSW"
      },
      "execution_count": 199,
      "outputs": []
    },
    {
      "cell_type": "code",
      "source": [
        "ICIO_df_show = pd.DataFrame(icio_f.round(1), columns = [['KOR', 'KOR', 'KOR', 'CHN', 'CHN', 'CHN', 'ROW', 'ROW', 'ROW','KOR', 'KOR', 'KOR', 'CHN', 'CHN', 'CHN', 'ROW', 'ROW', 'ROW','Total'],\n",
        "\n",
        "                                          ['Agr', 'Manu', 'Serv', 'Agr', 'Manu', 'Serv','Agr', 'Manu', 'Serv','Cons', 'Inv','Exp','Cons', 'Inv','Exp','Cons', 'Inv','Exp','Total']],\n",
        "\n",
        "                                    index=[['KOR', 'KOR', 'KOR', 'CHN', 'CHN', 'CHN', 'ROW', 'ROW', 'ROW','Tax_KOR','Tax_CHN','Tax_ROW','VA','CT'],\n",
        "                                           ['Agr', 'Manu', 'Serv', 'Agr', 'Manu', 'Serv','Agr', 'Manu', 'Serv','Tax_KOR','Tax_CHN','Tax_ROW','VA','Output']])\n",
        "ICIO_df.index.names=['Country', 'Secs']"
      ],
      "metadata": {
        "id": "KTuvCzjHWf4s"
      },
      "execution_count": 200,
      "outputs": []
    },
    {
      "cell_type": "code",
      "source": [
        "ICIO_df_show"
      ],
      "metadata": {
        "colab": {
          "base_uri": "https://localhost:8080/",
          "height": 519
        },
        "id": "MkTMOiEJF1XB",
        "outputId": "1cbe66bd-1613-455b-ca27-dc7055d363ee"
      },
      "execution_count": 201,
      "outputs": [
        {
          "output_type": "execute_result",
          "data": {
            "text/plain": [
              "                     KOR                              CHN              \\\n",
              "                     Agr       Manu       Serv        Agr        Manu   \n",
              "KOR     Agr       2566.4    25733.2     9180.7       12.6        25.0   \n",
              "        Manu     10765.4   509748.1   250120.2     3621.9     94400.1   \n",
              "        Serv      8258.6   247896.0   558976.3      814.9     12424.6   \n",
              "CHN     Agr         41.2      406.1      132.5   481821.0   1008698.0   \n",
              "        Manu       695.2    57205.4    21031.3   463070.1   8259021.2   \n",
              "        Serv       100.8     6406.3     9453.1   234183.7   2621766.8   \n",
              "ROW     Agr        334.7     3233.5     1215.6    16541.5     34159.3   \n",
              "        Manu      1935.0   158675.0    63691.3    29447.4    913860.3   \n",
              "        Serv       911.2    36671.7    47840.5    14136.3    165006.0   \n",
              "Tax_KOR Tax_KOR    565.7    25259.1    46582.6        0.0         0.0   \n",
              "Tax_CHN Tax_CHN      0.0        0.0        0.0    14219.0    450909.7   \n",
              "Tax_ROW Tax_ROW      0.0        0.0        0.0        0.0         0.0   \n",
              "VA      VA       25578.9   397509.5  1076178.6   998022.7   4114605.4   \n",
              "CT      Output   51778.1  1468955.6  2084663.8  2255909.2  17675241.6   \n",
              "\n",
              "                                   ROW                               KOR  \\\n",
              "                       Serv        Agr        Manu        Serv      Cons   \n",
              "KOR     Agr             2.6       56.2       254.0       124.0   13177.8   \n",
              "        Manu        25400.7     5828.8    123308.2     60992.4  124280.0   \n",
              "        Serv         7975.8      864.8     17389.0     34501.0  533646.6   \n",
              "CHN     Agr        130502.8     2134.5      6573.5      1546.3     208.1   \n",
              "        Manu      3726088.9    21984.8    583202.4    405020.1   12453.6   \n",
              "        Serv      3760206.6     3159.7     70615.7    141311.1    3479.7   \n",
              "ROW     Agr          3985.1   761171.7   1552103.7    377823.5    1689.7   \n",
              "        Manu       217142.6   583516.1  10840290.7   6955387.8   25682.8   \n",
              "        Serv       121427.9   667971.2   7340692.8  29153700.1   15664.2   \n",
              "Tax_KOR Tax_KOR         0.0        0.0         0.0         0.0   30534.6   \n",
              "Tax_CHN Tax_CHN    308826.6        0.0         0.0         0.0       0.0   \n",
              "Tax_ROW Tax_ROW         0.0    52644.8    793135.3   1289888.3       0.0   \n",
              "VA      VA        8439560.1  2523591.9  11280126.0  50799896.5       0.0   \n",
              "CT      Output   16741345.4  4624104.0  32620540.3  89235643.5       0.0   \n",
              "\n",
              "                                      CHN                         ROW  \\\n",
              "                      Inv  Exp       Cons        Inv  Exp        Cons   \n",
              "KOR     Agr         395.1  0.0       13.0        2.5  0.0       221.9   \n",
              "        Manu     102706.1  0.0     8637.3    20942.9  0.0     61206.4   \n",
              "        Serv     625603.0  0.0     2275.4     5115.5  0.0     15763.2   \n",
              "CHN     Agr           2.8  0.0   493416.8   122800.1  0.0      7058.8   \n",
              "        Manu      13151.7  0.0  1737311.8  1445854.5  0.0    541386.9   \n",
              "        Serv       3289.6  0.0  2972125.0  6751792.0  0.0    103016.6   \n",
              "ROW     Agr          65.5  0.0    18192.6     3742.4  0.0   1677593.6   \n",
              "        Manu      25141.6  0.0   117121.7   140615.3  0.0   8044522.7   \n",
              "        Serv      12072.9  0.0   141888.4   157942.6  0.0  28022565.1   \n",
              "Tax_KOR Tax_KOR   31365.0  0.0        0.0        0.0  0.0         0.0   \n",
              "Tax_CHN Tax_CHN       0.0  0.0   235423.4        0.0  0.0         0.0   \n",
              "Tax_ROW Tax_ROW       0.0  0.0     8207.6     2697.5  0.0   1962871.6   \n",
              "VA      VA            0.0  0.0        0.0        0.0  0.0         0.0   \n",
              "CT      Output        0.0  0.0        0.0        0.0  0.0         0.0   \n",
              "\n",
              "                                        Total  \n",
              "                        Inv  Exp        Total  \n",
              "KOR     Agr             4.6  0.0      51769.6  \n",
              "        Manu        66753.0  0.0    1468711.5  \n",
              "        Serv        12924.2  0.0    2084428.9  \n",
              "CHN     Agr           551.3  0.0    2255893.8  \n",
              "        Manu       387438.1  0.0   17674916.0  \n",
              "        Serv        60310.3  0.0   16741217.0  \n",
              "ROW     Agr        171288.7  0.0    4623141.1  \n",
              "        Manu      4489112.7  0.0   32606143.0  \n",
              "        Serv     23320560.3  0.0   89219051.2  \n",
              "Tax_KOR Tax_KOR         0.0  0.0     134307.0  \n",
              "Tax_CHN Tax_CHN         0.0  0.0    1009378.7  \n",
              "Tax_ROW Tax_ROW    493313.2  0.0    4602758.3  \n",
              "VA      VA              0.0  0.0   79655069.6  \n",
              "CT      Output          0.0  0.0  166758181.5  "
            ],
            "text/html": [
              "\n",
              "  <div id=\"df-fe91599d-2484-43fd-9e6f-dd1a5a8be8ea\" class=\"colab-df-container\">\n",
              "    <div>\n",
              "<style scoped>\n",
              "    .dataframe tbody tr th:only-of-type {\n",
              "        vertical-align: middle;\n",
              "    }\n",
              "\n",
              "    .dataframe tbody tr th {\n",
              "        vertical-align: top;\n",
              "    }\n",
              "\n",
              "    .dataframe thead tr th {\n",
              "        text-align: left;\n",
              "    }\n",
              "</style>\n",
              "<table border=\"1\" class=\"dataframe\">\n",
              "  <thead>\n",
              "    <tr>\n",
              "      <th></th>\n",
              "      <th></th>\n",
              "      <th colspan=\"3\" halign=\"left\">KOR</th>\n",
              "      <th colspan=\"3\" halign=\"left\">CHN</th>\n",
              "      <th colspan=\"3\" halign=\"left\">ROW</th>\n",
              "      <th colspan=\"3\" halign=\"left\">KOR</th>\n",
              "      <th colspan=\"3\" halign=\"left\">CHN</th>\n",
              "      <th colspan=\"3\" halign=\"left\">ROW</th>\n",
              "      <th>Total</th>\n",
              "    </tr>\n",
              "    <tr>\n",
              "      <th></th>\n",
              "      <th></th>\n",
              "      <th>Agr</th>\n",
              "      <th>Manu</th>\n",
              "      <th>Serv</th>\n",
              "      <th>Agr</th>\n",
              "      <th>Manu</th>\n",
              "      <th>Serv</th>\n",
              "      <th>Agr</th>\n",
              "      <th>Manu</th>\n",
              "      <th>Serv</th>\n",
              "      <th>Cons</th>\n",
              "      <th>Inv</th>\n",
              "      <th>Exp</th>\n",
              "      <th>Cons</th>\n",
              "      <th>Inv</th>\n",
              "      <th>Exp</th>\n",
              "      <th>Cons</th>\n",
              "      <th>Inv</th>\n",
              "      <th>Exp</th>\n",
              "      <th>Total</th>\n",
              "    </tr>\n",
              "  </thead>\n",
              "  <tbody>\n",
              "    <tr>\n",
              "      <th rowspan=\"3\" valign=\"top\">KOR</th>\n",
              "      <th>Agr</th>\n",
              "      <td>2566.4</td>\n",
              "      <td>25733.2</td>\n",
              "      <td>9180.7</td>\n",
              "      <td>12.6</td>\n",
              "      <td>25.0</td>\n",
              "      <td>2.6</td>\n",
              "      <td>56.2</td>\n",
              "      <td>254.0</td>\n",
              "      <td>124.0</td>\n",
              "      <td>13177.8</td>\n",
              "      <td>395.1</td>\n",
              "      <td>0.0</td>\n",
              "      <td>13.0</td>\n",
              "      <td>2.5</td>\n",
              "      <td>0.0</td>\n",
              "      <td>221.9</td>\n",
              "      <td>4.6</td>\n",
              "      <td>0.0</td>\n",
              "      <td>51769.6</td>\n",
              "    </tr>\n",
              "    <tr>\n",
              "      <th>Manu</th>\n",
              "      <td>10765.4</td>\n",
              "      <td>509748.1</td>\n",
              "      <td>250120.2</td>\n",
              "      <td>3621.9</td>\n",
              "      <td>94400.1</td>\n",
              "      <td>25400.7</td>\n",
              "      <td>5828.8</td>\n",
              "      <td>123308.2</td>\n",
              "      <td>60992.4</td>\n",
              "      <td>124280.0</td>\n",
              "      <td>102706.1</td>\n",
              "      <td>0.0</td>\n",
              "      <td>8637.3</td>\n",
              "      <td>20942.9</td>\n",
              "      <td>0.0</td>\n",
              "      <td>61206.4</td>\n",
              "      <td>66753.0</td>\n",
              "      <td>0.0</td>\n",
              "      <td>1468711.5</td>\n",
              "    </tr>\n",
              "    <tr>\n",
              "      <th>Serv</th>\n",
              "      <td>8258.6</td>\n",
              "      <td>247896.0</td>\n",
              "      <td>558976.3</td>\n",
              "      <td>814.9</td>\n",
              "      <td>12424.6</td>\n",
              "      <td>7975.8</td>\n",
              "      <td>864.8</td>\n",
              "      <td>17389.0</td>\n",
              "      <td>34501.0</td>\n",
              "      <td>533646.6</td>\n",
              "      <td>625603.0</td>\n",
              "      <td>0.0</td>\n",
              "      <td>2275.4</td>\n",
              "      <td>5115.5</td>\n",
              "      <td>0.0</td>\n",
              "      <td>15763.2</td>\n",
              "      <td>12924.2</td>\n",
              "      <td>0.0</td>\n",
              "      <td>2084428.9</td>\n",
              "    </tr>\n",
              "    <tr>\n",
              "      <th rowspan=\"3\" valign=\"top\">CHN</th>\n",
              "      <th>Agr</th>\n",
              "      <td>41.2</td>\n",
              "      <td>406.1</td>\n",
              "      <td>132.5</td>\n",
              "      <td>481821.0</td>\n",
              "      <td>1008698.0</td>\n",
              "      <td>130502.8</td>\n",
              "      <td>2134.5</td>\n",
              "      <td>6573.5</td>\n",
              "      <td>1546.3</td>\n",
              "      <td>208.1</td>\n",
              "      <td>2.8</td>\n",
              "      <td>0.0</td>\n",
              "      <td>493416.8</td>\n",
              "      <td>122800.1</td>\n",
              "      <td>0.0</td>\n",
              "      <td>7058.8</td>\n",
              "      <td>551.3</td>\n",
              "      <td>0.0</td>\n",
              "      <td>2255893.8</td>\n",
              "    </tr>\n",
              "    <tr>\n",
              "      <th>Manu</th>\n",
              "      <td>695.2</td>\n",
              "      <td>57205.4</td>\n",
              "      <td>21031.3</td>\n",
              "      <td>463070.1</td>\n",
              "      <td>8259021.2</td>\n",
              "      <td>3726088.9</td>\n",
              "      <td>21984.8</td>\n",
              "      <td>583202.4</td>\n",
              "      <td>405020.1</td>\n",
              "      <td>12453.6</td>\n",
              "      <td>13151.7</td>\n",
              "      <td>0.0</td>\n",
              "      <td>1737311.8</td>\n",
              "      <td>1445854.5</td>\n",
              "      <td>0.0</td>\n",
              "      <td>541386.9</td>\n",
              "      <td>387438.1</td>\n",
              "      <td>0.0</td>\n",
              "      <td>17674916.0</td>\n",
              "    </tr>\n",
              "    <tr>\n",
              "      <th>Serv</th>\n",
              "      <td>100.8</td>\n",
              "      <td>6406.3</td>\n",
              "      <td>9453.1</td>\n",
              "      <td>234183.7</td>\n",
              "      <td>2621766.8</td>\n",
              "      <td>3760206.6</td>\n",
              "      <td>3159.7</td>\n",
              "      <td>70615.7</td>\n",
              "      <td>141311.1</td>\n",
              "      <td>3479.7</td>\n",
              "      <td>3289.6</td>\n",
              "      <td>0.0</td>\n",
              "      <td>2972125.0</td>\n",
              "      <td>6751792.0</td>\n",
              "      <td>0.0</td>\n",
              "      <td>103016.6</td>\n",
              "      <td>60310.3</td>\n",
              "      <td>0.0</td>\n",
              "      <td>16741217.0</td>\n",
              "    </tr>\n",
              "    <tr>\n",
              "      <th rowspan=\"3\" valign=\"top\">ROW</th>\n",
              "      <th>Agr</th>\n",
              "      <td>334.7</td>\n",
              "      <td>3233.5</td>\n",
              "      <td>1215.6</td>\n",
              "      <td>16541.5</td>\n",
              "      <td>34159.3</td>\n",
              "      <td>3985.1</td>\n",
              "      <td>761171.7</td>\n",
              "      <td>1552103.7</td>\n",
              "      <td>377823.5</td>\n",
              "      <td>1689.7</td>\n",
              "      <td>65.5</td>\n",
              "      <td>0.0</td>\n",
              "      <td>18192.6</td>\n",
              "      <td>3742.4</td>\n",
              "      <td>0.0</td>\n",
              "      <td>1677593.6</td>\n",
              "      <td>171288.7</td>\n",
              "      <td>0.0</td>\n",
              "      <td>4623141.1</td>\n",
              "    </tr>\n",
              "    <tr>\n",
              "      <th>Manu</th>\n",
              "      <td>1935.0</td>\n",
              "      <td>158675.0</td>\n",
              "      <td>63691.3</td>\n",
              "      <td>29447.4</td>\n",
              "      <td>913860.3</td>\n",
              "      <td>217142.6</td>\n",
              "      <td>583516.1</td>\n",
              "      <td>10840290.7</td>\n",
              "      <td>6955387.8</td>\n",
              "      <td>25682.8</td>\n",
              "      <td>25141.6</td>\n",
              "      <td>0.0</td>\n",
              "      <td>117121.7</td>\n",
              "      <td>140615.3</td>\n",
              "      <td>0.0</td>\n",
              "      <td>8044522.7</td>\n",
              "      <td>4489112.7</td>\n",
              "      <td>0.0</td>\n",
              "      <td>32606143.0</td>\n",
              "    </tr>\n",
              "    <tr>\n",
              "      <th>Serv</th>\n",
              "      <td>911.2</td>\n",
              "      <td>36671.7</td>\n",
              "      <td>47840.5</td>\n",
              "      <td>14136.3</td>\n",
              "      <td>165006.0</td>\n",
              "      <td>121427.9</td>\n",
              "      <td>667971.2</td>\n",
              "      <td>7340692.8</td>\n",
              "      <td>29153700.1</td>\n",
              "      <td>15664.2</td>\n",
              "      <td>12072.9</td>\n",
              "      <td>0.0</td>\n",
              "      <td>141888.4</td>\n",
              "      <td>157942.6</td>\n",
              "      <td>0.0</td>\n",
              "      <td>28022565.1</td>\n",
              "      <td>23320560.3</td>\n",
              "      <td>0.0</td>\n",
              "      <td>89219051.2</td>\n",
              "    </tr>\n",
              "    <tr>\n",
              "      <th>Tax_KOR</th>\n",
              "      <th>Tax_KOR</th>\n",
              "      <td>565.7</td>\n",
              "      <td>25259.1</td>\n",
              "      <td>46582.6</td>\n",
              "      <td>0.0</td>\n",
              "      <td>0.0</td>\n",
              "      <td>0.0</td>\n",
              "      <td>0.0</td>\n",
              "      <td>0.0</td>\n",
              "      <td>0.0</td>\n",
              "      <td>30534.6</td>\n",
              "      <td>31365.0</td>\n",
              "      <td>0.0</td>\n",
              "      <td>0.0</td>\n",
              "      <td>0.0</td>\n",
              "      <td>0.0</td>\n",
              "      <td>0.0</td>\n",
              "      <td>0.0</td>\n",
              "      <td>0.0</td>\n",
              "      <td>134307.0</td>\n",
              "    </tr>\n",
              "    <tr>\n",
              "      <th>Tax_CHN</th>\n",
              "      <th>Tax_CHN</th>\n",
              "      <td>0.0</td>\n",
              "      <td>0.0</td>\n",
              "      <td>0.0</td>\n",
              "      <td>14219.0</td>\n",
              "      <td>450909.7</td>\n",
              "      <td>308826.6</td>\n",
              "      <td>0.0</td>\n",
              "      <td>0.0</td>\n",
              "      <td>0.0</td>\n",
              "      <td>0.0</td>\n",
              "      <td>0.0</td>\n",
              "      <td>0.0</td>\n",
              "      <td>235423.4</td>\n",
              "      <td>0.0</td>\n",
              "      <td>0.0</td>\n",
              "      <td>0.0</td>\n",
              "      <td>0.0</td>\n",
              "      <td>0.0</td>\n",
              "      <td>1009378.7</td>\n",
              "    </tr>\n",
              "    <tr>\n",
              "      <th>Tax_ROW</th>\n",
              "      <th>Tax_ROW</th>\n",
              "      <td>0.0</td>\n",
              "      <td>0.0</td>\n",
              "      <td>0.0</td>\n",
              "      <td>0.0</td>\n",
              "      <td>0.0</td>\n",
              "      <td>0.0</td>\n",
              "      <td>52644.8</td>\n",
              "      <td>793135.3</td>\n",
              "      <td>1289888.3</td>\n",
              "      <td>0.0</td>\n",
              "      <td>0.0</td>\n",
              "      <td>0.0</td>\n",
              "      <td>8207.6</td>\n",
              "      <td>2697.5</td>\n",
              "      <td>0.0</td>\n",
              "      <td>1962871.6</td>\n",
              "      <td>493313.2</td>\n",
              "      <td>0.0</td>\n",
              "      <td>4602758.3</td>\n",
              "    </tr>\n",
              "    <tr>\n",
              "      <th>VA</th>\n",
              "      <th>VA</th>\n",
              "      <td>25578.9</td>\n",
              "      <td>397509.5</td>\n",
              "      <td>1076178.6</td>\n",
              "      <td>998022.7</td>\n",
              "      <td>4114605.4</td>\n",
              "      <td>8439560.1</td>\n",
              "      <td>2523591.9</td>\n",
              "      <td>11280126.0</td>\n",
              "      <td>50799896.5</td>\n",
              "      <td>0.0</td>\n",
              "      <td>0.0</td>\n",
              "      <td>0.0</td>\n",
              "      <td>0.0</td>\n",
              "      <td>0.0</td>\n",
              "      <td>0.0</td>\n",
              "      <td>0.0</td>\n",
              "      <td>0.0</td>\n",
              "      <td>0.0</td>\n",
              "      <td>79655069.6</td>\n",
              "    </tr>\n",
              "    <tr>\n",
              "      <th>CT</th>\n",
              "      <th>Output</th>\n",
              "      <td>51778.1</td>\n",
              "      <td>1468955.6</td>\n",
              "      <td>2084663.8</td>\n",
              "      <td>2255909.2</td>\n",
              "      <td>17675241.6</td>\n",
              "      <td>16741345.4</td>\n",
              "      <td>4624104.0</td>\n",
              "      <td>32620540.3</td>\n",
              "      <td>89235643.5</td>\n",
              "      <td>0.0</td>\n",
              "      <td>0.0</td>\n",
              "      <td>0.0</td>\n",
              "      <td>0.0</td>\n",
              "      <td>0.0</td>\n",
              "      <td>0.0</td>\n",
              "      <td>0.0</td>\n",
              "      <td>0.0</td>\n",
              "      <td>0.0</td>\n",
              "      <td>166758181.5</td>\n",
              "    </tr>\n",
              "  </tbody>\n",
              "</table>\n",
              "</div>\n",
              "    <div class=\"colab-df-buttons\">\n",
              "\n",
              "  <div class=\"colab-df-container\">\n",
              "    <button class=\"colab-df-convert\" onclick=\"convertToInteractive('df-fe91599d-2484-43fd-9e6f-dd1a5a8be8ea')\"\n",
              "            title=\"Convert this dataframe to an interactive table.\"\n",
              "            style=\"display:none;\">\n",
              "\n",
              "  <svg xmlns=\"http://www.w3.org/2000/svg\" height=\"24px\" viewBox=\"0 -960 960 960\">\n",
              "    <path d=\"M120-120v-720h720v720H120Zm60-500h600v-160H180v160Zm220 220h160v-160H400v160Zm0 220h160v-160H400v160ZM180-400h160v-160H180v160Zm440 0h160v-160H620v160ZM180-180h160v-160H180v160Zm440 0h160v-160H620v160Z\"/>\n",
              "  </svg>\n",
              "    </button>\n",
              "\n",
              "  <style>\n",
              "    .colab-df-container {\n",
              "      display:flex;\n",
              "      gap: 12px;\n",
              "    }\n",
              "\n",
              "    .colab-df-convert {\n",
              "      background-color: #E8F0FE;\n",
              "      border: none;\n",
              "      border-radius: 50%;\n",
              "      cursor: pointer;\n",
              "      display: none;\n",
              "      fill: #1967D2;\n",
              "      height: 32px;\n",
              "      padding: 0 0 0 0;\n",
              "      width: 32px;\n",
              "    }\n",
              "\n",
              "    .colab-df-convert:hover {\n",
              "      background-color: #E2EBFA;\n",
              "      box-shadow: 0px 1px 2px rgba(60, 64, 67, 0.3), 0px 1px 3px 1px rgba(60, 64, 67, 0.15);\n",
              "      fill: #174EA6;\n",
              "    }\n",
              "\n",
              "    .colab-df-buttons div {\n",
              "      margin-bottom: 4px;\n",
              "    }\n",
              "\n",
              "    [theme=dark] .colab-df-convert {\n",
              "      background-color: #3B4455;\n",
              "      fill: #D2E3FC;\n",
              "    }\n",
              "\n",
              "    [theme=dark] .colab-df-convert:hover {\n",
              "      background-color: #434B5C;\n",
              "      box-shadow: 0px 1px 3px 1px rgba(0, 0, 0, 0.15);\n",
              "      filter: drop-shadow(0px 1px 2px rgba(0, 0, 0, 0.3));\n",
              "      fill: #FFFFFF;\n",
              "    }\n",
              "  </style>\n",
              "\n",
              "    <script>\n",
              "      const buttonEl =\n",
              "        document.querySelector('#df-fe91599d-2484-43fd-9e6f-dd1a5a8be8ea button.colab-df-convert');\n",
              "      buttonEl.style.display =\n",
              "        google.colab.kernel.accessAllowed ? 'block' : 'none';\n",
              "\n",
              "      async function convertToInteractive(key) {\n",
              "        const element = document.querySelector('#df-fe91599d-2484-43fd-9e6f-dd1a5a8be8ea');\n",
              "        const dataTable =\n",
              "          await google.colab.kernel.invokeFunction('convertToInteractive',\n",
              "                                                    [key], {});\n",
              "        if (!dataTable) return;\n",
              "\n",
              "        const docLinkHtml = 'Like what you see? Visit the ' +\n",
              "          '<a target=\"_blank\" href=https://colab.research.google.com/notebooks/data_table.ipynb>data table notebook</a>'\n",
              "          + ' to learn more about interactive tables.';\n",
              "        element.innerHTML = '';\n",
              "        dataTable['output_type'] = 'display_data';\n",
              "        await google.colab.output.renderOutput(dataTable, element);\n",
              "        const docLink = document.createElement('div');\n",
              "        docLink.innerHTML = docLinkHtml;\n",
              "        element.appendChild(docLink);\n",
              "      }\n",
              "    </script>\n",
              "  </div>\n",
              "\n",
              "\n",
              "<div id=\"df-274a0e61-5e65-40ff-8e2d-48ac378cdbc1\">\n",
              "  <button class=\"colab-df-quickchart\" onclick=\"quickchart('df-274a0e61-5e65-40ff-8e2d-48ac378cdbc1')\"\n",
              "            title=\"Suggest charts.\"\n",
              "            style=\"display:none;\">\n",
              "\n",
              "<svg xmlns=\"http://www.w3.org/2000/svg\" height=\"24px\"viewBox=\"0 0 24 24\"\n",
              "     width=\"24px\">\n",
              "    <g>\n",
              "        <path d=\"M19 3H5c-1.1 0-2 .9-2 2v14c0 1.1.9 2 2 2h14c1.1 0 2-.9 2-2V5c0-1.1-.9-2-2-2zM9 17H7v-7h2v7zm4 0h-2V7h2v10zm4 0h-2v-4h2v4z\"/>\n",
              "    </g>\n",
              "</svg>\n",
              "  </button>\n",
              "\n",
              "<style>\n",
              "  .colab-df-quickchart {\n",
              "    background-color: #E8F0FE;\n",
              "    border: none;\n",
              "    border-radius: 50%;\n",
              "    cursor: pointer;\n",
              "    display: none;\n",
              "    fill: #1967D2;\n",
              "    height: 32px;\n",
              "    padding: 0 0 0 0;\n",
              "    width: 32px;\n",
              "  }\n",
              "\n",
              "  .colab-df-quickchart:hover {\n",
              "    background-color: #E2EBFA;\n",
              "    box-shadow: 0px 1px 2px rgba(60, 64, 67, 0.3), 0px 1px 3px 1px rgba(60, 64, 67, 0.15);\n",
              "    fill: #174EA6;\n",
              "  }\n",
              "\n",
              "  [theme=dark] .colab-df-quickchart {\n",
              "    background-color: #3B4455;\n",
              "    fill: #D2E3FC;\n",
              "  }\n",
              "\n",
              "  [theme=dark] .colab-df-quickchart:hover {\n",
              "    background-color: #434B5C;\n",
              "    box-shadow: 0px 1px 3px 1px rgba(0, 0, 0, 0.15);\n",
              "    filter: drop-shadow(0px 1px 2px rgba(0, 0, 0, 0.3));\n",
              "    fill: #FFFFFF;\n",
              "  }\n",
              "</style>\n",
              "\n",
              "  <script>\n",
              "    async function quickchart(key) {\n",
              "      const charts = await google.colab.kernel.invokeFunction(\n",
              "          'suggestCharts', [key], {});\n",
              "    }\n",
              "    (() => {\n",
              "      let quickchartButtonEl =\n",
              "        document.querySelector('#df-274a0e61-5e65-40ff-8e2d-48ac378cdbc1 button');\n",
              "      quickchartButtonEl.style.display =\n",
              "        google.colab.kernel.accessAllowed ? 'block' : 'none';\n",
              "    })();\n",
              "  </script>\n",
              "</div>\n",
              "    </div>\n",
              "  </div>\n"
            ]
          },
          "metadata": {},
          "execution_count": 201
        }
      ]
    },
    {
      "cell_type": "code",
      "source": [],
      "metadata": {
        "id": "67O-L3U05wNV"
      },
      "execution_count": 201,
      "outputs": []
    }
  ]
}