{
  "nbformat": 4,
  "nbformat_minor": 0,
  "metadata": {
    "colab": {
      "provenance": [],
      "mount_file_id": "https://github.com/Tom-Jung/legendary-funicular/blob/main/IO_tables.ipynb",
      "authorship_tag": "ABX9TyMkIFaE0D4yPKxQfIeylaiG",
      "include_colab_link": true
    },
    "kernelspec": {
      "name": "python3",
      "display_name": "Python 3"
    },
    "language_info": {
      "name": "python"
    }
  },
  "cells": [
    {
      "cell_type": "markdown",
      "metadata": {
        "id": "view-in-github",
        "colab_type": "text"
      },
      "source": [
        "<a href=\"https://colab.research.google.com/github/Tom-Jung/legendary-funicular/blob/main/Ch8_1.%20ICIO(%EB%B6%80%EB%AC%B8%ED%86%B5%ED%95%A9_new_2020).ipynb\" target=\"_parent\"><img src=\"https://colab.research.google.com/assets/colab-badge.svg\" alt=\"Open In Colab\"/></a>"
      ]
    },
    {
      "cell_type": "code",
      "source": [
        "import numpy as np   # Numpy import\n",
        "import pandas as pd  # Pandas import"
      ],
      "metadata": {
        "id": "TR7JvW8CxBFT"
      },
      "execution_count": 71,
      "outputs": []
    },
    {
      "cell_type": "code",
      "source": [
        "np.set_printoptions(precision=3,suppress=True) # 결과를 소수 3자리까지만 보여주는 옵션"
      ],
      "metadata": {
        "id": "2l9tk4XA4Nkc"
      },
      "execution_count": 72,
      "outputs": []
    },
    {
      "cell_type": "code",
      "source": [
        "# from google.colab import drive\n",
        "# drive.mount('/content/drive')"
      ],
      "metadata": {
        "id": "UUugbbcO-CMK"
      },
      "execution_count": 73,
      "outputs": []
    },
    {
      "cell_type": "code",
      "source": [
        "# icio =pd.read_csv('/content/drive/MyDrive/ICIO/ICIO2021_2018.csv')"
      ],
      "metadata": {
        "id": "dH4scTnJ9Wll"
      },
      "execution_count": 74,
      "outputs": []
    },
    {
      "cell_type": "code",
      "source": [
        "icio = pd.read_csv('/content/ICIO_2020.csv')"
      ],
      "metadata": {
        "id": "1tuN2LradEW4"
      },
      "execution_count": 75,
      "outputs": []
    },
    {
      "cell_type": "code",
      "source": [
        "icio.head()\n",
        "icio_1 = icio.to_numpy()\n",
        "icio_2=icio_1[:,1:]\n",
        "icio_2"
      ],
      "metadata": {
        "id": "DhBtrP5M9vRR",
        "outputId": "79acc86c-4b2a-494e-e692-acafa1afde9a",
        "colab": {
          "base_uri": "https://localhost:8080/"
        }
      },
      "execution_count": 76,
      "outputs": [
        {
          "output_type": "execute_result",
          "data": {
            "text/plain": [
              "array([[8455.4, 18.8, 1.1, ..., 0.0, 0, 48567.7],\n",
              "       [0.0, 104.4, 0.0, ..., 0.0, 0, 1795.0],\n",
              "       [6.9, 0.1, 122.3, ..., 0.0, 0, 12925.2],\n",
              "       ...,\n",
              "       [0.0, 0.0, 0.0, ..., 111.2, 0, 0.0],\n",
              "       [21054.1, 1180.0, 7924.1, ..., 0.0, 0, 0.0],\n",
              "       [48567.7, 1795.0, 12925.2, ..., 0.0, 0, 0.0]], dtype=object)"
            ]
          },
          "metadata": {},
          "execution_count": 76
        }
      ]
    },
    {
      "cell_type": "markdown",
      "source": [
        "\n",
        "\n",
        "```\n",
        "# 코드로 형식 지정됨\n",
        "```\n",
        "\n",
        "### 한국 1, 중국 2, ROW 3"
      ],
      "metadata": {
        "id": "AvyOqU89gls6"
      }
    },
    {
      "cell_type": "code",
      "source": [
        "url_cdd = \"https://raw.githubusercontent.com/Tom-Jung/legendary-funicular/main/cd_icio_f_new.csv\"  #코드매치 파일 불러오기\n",
        "cd = pd.read_csv(url_cdd)\n",
        "cd.head()"
      ],
      "metadata": {
        "id": "yXmH7e7troAC",
        "outputId": "5f527461-9276-449a-9791-0ea3da508510",
        "colab": {
          "base_uri": "https://localhost:8080/",
          "height": 206
        }
      },
      "execution_count": 77,
      "outputs": [
        {
          "output_type": "execute_result",
          "data": {
            "text/plain": [
              "         cons  old  new\n",
              "0  ARG_A01_02    1    7\n",
              "1     ARG_A03    2    7\n",
              "2  ARG_B05_06    3    8\n",
              "3  ARG_B07_08    4    8\n",
              "4     ARG_B09    5    8"
            ],
            "text/html": [
              "\n",
              "  <div id=\"df-7883bcc6-16d8-41c6-9e04-f15948a9fa68\" class=\"colab-df-container\">\n",
              "    <div>\n",
              "<style scoped>\n",
              "    .dataframe tbody tr th:only-of-type {\n",
              "        vertical-align: middle;\n",
              "    }\n",
              "\n",
              "    .dataframe tbody tr th {\n",
              "        vertical-align: top;\n",
              "    }\n",
              "\n",
              "    .dataframe thead th {\n",
              "        text-align: right;\n",
              "    }\n",
              "</style>\n",
              "<table border=\"1\" class=\"dataframe\">\n",
              "  <thead>\n",
              "    <tr style=\"text-align: right;\">\n",
              "      <th></th>\n",
              "      <th>cons</th>\n",
              "      <th>old</th>\n",
              "      <th>new</th>\n",
              "    </tr>\n",
              "  </thead>\n",
              "  <tbody>\n",
              "    <tr>\n",
              "      <th>0</th>\n",
              "      <td>ARG_A01_02</td>\n",
              "      <td>1</td>\n",
              "      <td>7</td>\n",
              "    </tr>\n",
              "    <tr>\n",
              "      <th>1</th>\n",
              "      <td>ARG_A03</td>\n",
              "      <td>2</td>\n",
              "      <td>7</td>\n",
              "    </tr>\n",
              "    <tr>\n",
              "      <th>2</th>\n",
              "      <td>ARG_B05_06</td>\n",
              "      <td>3</td>\n",
              "      <td>8</td>\n",
              "    </tr>\n",
              "    <tr>\n",
              "      <th>3</th>\n",
              "      <td>ARG_B07_08</td>\n",
              "      <td>4</td>\n",
              "      <td>8</td>\n",
              "    </tr>\n",
              "    <tr>\n",
              "      <th>4</th>\n",
              "      <td>ARG_B09</td>\n",
              "      <td>5</td>\n",
              "      <td>8</td>\n",
              "    </tr>\n",
              "  </tbody>\n",
              "</table>\n",
              "</div>\n",
              "    <div class=\"colab-df-buttons\">\n",
              "\n",
              "  <div class=\"colab-df-container\">\n",
              "    <button class=\"colab-df-convert\" onclick=\"convertToInteractive('df-7883bcc6-16d8-41c6-9e04-f15948a9fa68')\"\n",
              "            title=\"Convert this dataframe to an interactive table.\"\n",
              "            style=\"display:none;\">\n",
              "\n",
              "  <svg xmlns=\"http://www.w3.org/2000/svg\" height=\"24px\" viewBox=\"0 -960 960 960\">\n",
              "    <path d=\"M120-120v-720h720v720H120Zm60-500h600v-160H180v160Zm220 220h160v-160H400v160Zm0 220h160v-160H400v160ZM180-400h160v-160H180v160Zm440 0h160v-160H620v160ZM180-180h160v-160H180v160Zm440 0h160v-160H620v160Z\"/>\n",
              "  </svg>\n",
              "    </button>\n",
              "\n",
              "  <style>\n",
              "    .colab-df-container {\n",
              "      display:flex;\n",
              "      gap: 12px;\n",
              "    }\n",
              "\n",
              "    .colab-df-convert {\n",
              "      background-color: #E8F0FE;\n",
              "      border: none;\n",
              "      border-radius: 50%;\n",
              "      cursor: pointer;\n",
              "      display: none;\n",
              "      fill: #1967D2;\n",
              "      height: 32px;\n",
              "      padding: 0 0 0 0;\n",
              "      width: 32px;\n",
              "    }\n",
              "\n",
              "    .colab-df-convert:hover {\n",
              "      background-color: #E2EBFA;\n",
              "      box-shadow: 0px 1px 2px rgba(60, 64, 67, 0.3), 0px 1px 3px 1px rgba(60, 64, 67, 0.15);\n",
              "      fill: #174EA6;\n",
              "    }\n",
              "\n",
              "    .colab-df-buttons div {\n",
              "      margin-bottom: 4px;\n",
              "    }\n",
              "\n",
              "    [theme=dark] .colab-df-convert {\n",
              "      background-color: #3B4455;\n",
              "      fill: #D2E3FC;\n",
              "    }\n",
              "\n",
              "    [theme=dark] .colab-df-convert:hover {\n",
              "      background-color: #434B5C;\n",
              "      box-shadow: 0px 1px 3px 1px rgba(0, 0, 0, 0.15);\n",
              "      filter: drop-shadow(0px 1px 2px rgba(0, 0, 0, 0.3));\n",
              "      fill: #FFFFFF;\n",
              "    }\n",
              "  </style>\n",
              "\n",
              "    <script>\n",
              "      const buttonEl =\n",
              "        document.querySelector('#df-7883bcc6-16d8-41c6-9e04-f15948a9fa68 button.colab-df-convert');\n",
              "      buttonEl.style.display =\n",
              "        google.colab.kernel.accessAllowed ? 'block' : 'none';\n",
              "\n",
              "      async function convertToInteractive(key) {\n",
              "        const element = document.querySelector('#df-7883bcc6-16d8-41c6-9e04-f15948a9fa68');\n",
              "        const dataTable =\n",
              "          await google.colab.kernel.invokeFunction('convertToInteractive',\n",
              "                                                    [key], {});\n",
              "        if (!dataTable) return;\n",
              "\n",
              "        const docLinkHtml = 'Like what you see? Visit the ' +\n",
              "          '<a target=\"_blank\" href=https://colab.research.google.com/notebooks/data_table.ipynb>data table notebook</a>'\n",
              "          + ' to learn more about interactive tables.';\n",
              "        element.innerHTML = '';\n",
              "        dataTable['output_type'] = 'display_data';\n",
              "        await google.colab.output.renderOutput(dataTable, element);\n",
              "        const docLink = document.createElement('div');\n",
              "        docLink.innerHTML = docLinkHtml;\n",
              "        element.appendChild(docLink);\n",
              "      }\n",
              "    </script>\n",
              "  </div>\n",
              "\n",
              "\n",
              "<div id=\"df-00f52661-a82c-4df2-b7ef-0cd1b67b4c88\">\n",
              "  <button class=\"colab-df-quickchart\" onclick=\"quickchart('df-00f52661-a82c-4df2-b7ef-0cd1b67b4c88')\"\n",
              "            title=\"Suggest charts.\"\n",
              "            style=\"display:none;\">\n",
              "\n",
              "<svg xmlns=\"http://www.w3.org/2000/svg\" height=\"24px\"viewBox=\"0 0 24 24\"\n",
              "     width=\"24px\">\n",
              "    <g>\n",
              "        <path d=\"M19 3H5c-1.1 0-2 .9-2 2v14c0 1.1.9 2 2 2h14c1.1 0 2-.9 2-2V5c0-1.1-.9-2-2-2zM9 17H7v-7h2v7zm4 0h-2V7h2v10zm4 0h-2v-4h2v4z\"/>\n",
              "    </g>\n",
              "</svg>\n",
              "  </button>\n",
              "\n",
              "<style>\n",
              "  .colab-df-quickchart {\n",
              "    background-color: #E8F0FE;\n",
              "    border: none;\n",
              "    border-radius: 50%;\n",
              "    cursor: pointer;\n",
              "    display: none;\n",
              "    fill: #1967D2;\n",
              "    height: 32px;\n",
              "    padding: 0 0 0 0;\n",
              "    width: 32px;\n",
              "  }\n",
              "\n",
              "  .colab-df-quickchart:hover {\n",
              "    background-color: #E2EBFA;\n",
              "    box-shadow: 0px 1px 2px rgba(60, 64, 67, 0.3), 0px 1px 3px 1px rgba(60, 64, 67, 0.15);\n",
              "    fill: #174EA6;\n",
              "  }\n",
              "\n",
              "  [theme=dark] .colab-df-quickchart {\n",
              "    background-color: #3B4455;\n",
              "    fill: #D2E3FC;\n",
              "  }\n",
              "\n",
              "  [theme=dark] .colab-df-quickchart:hover {\n",
              "    background-color: #434B5C;\n",
              "    box-shadow: 0px 1px 3px 1px rgba(0, 0, 0, 0.15);\n",
              "    filter: drop-shadow(0px 1px 2px rgba(0, 0, 0, 0.3));\n",
              "    fill: #FFFFFF;\n",
              "  }\n",
              "</style>\n",
              "\n",
              "  <script>\n",
              "    async function quickchart(key) {\n",
              "      const charts = await google.colab.kernel.invokeFunction(\n",
              "          'suggestCharts', [key], {});\n",
              "    }\n",
              "    (() => {\n",
              "      let quickchartButtonEl =\n",
              "        document.querySelector('#df-00f52661-a82c-4df2-b7ef-0cd1b67b4c88 button');\n",
              "      quickchartButtonEl.style.display =\n",
              "        google.colab.kernel.accessAllowed ? 'block' : 'none';\n",
              "    })();\n",
              "  </script>\n",
              "</div>\n",
              "    </div>\n",
              "  </div>\n"
            ]
          },
          "metadata": {},
          "execution_count": 77
        }
      ]
    },
    {
      "cell_type": "code",
      "source": [
        "ccdd = cd.to_numpy()\n",
        "cd_for_itr = ccdd[:,1:]\n",
        "cd_for_itr"
      ],
      "metadata": {
        "id": "M2e69LcT_59t",
        "outputId": "a8e791e4-0192-4888-abcb-d68c695bed1c",
        "colab": {
          "base_uri": "https://localhost:8080/"
        }
      },
      "execution_count": 78,
      "outputs": [
        {
          "output_type": "execute_result",
          "data": {
            "text/plain": [
              "array([[1, 7],\n",
              "       [2, 7],\n",
              "       [3, 8],\n",
              "       ...,\n",
              "       [3643, 6],\n",
              "       [3644, 6],\n",
              "       [3645, 6]], dtype=object)"
            ]
          },
          "metadata": {},
          "execution_count": 78
        }
      ]
    },
    {
      "cell_type": "code",
      "source": [
        "Mtx = np.zeros((9,3645)) # 부문통합을 위한 코드가 많을 경우 상기의 코드를 수작업으로 미리 하는 것이 쉽자 않으므로 반복문을 통해 3x33 임시코드 만들기\n",
        "cd_3 = cd_for_itr[:,1]\n",
        "cd_33 = cd_for_itr[:,0]\n",
        "row=cd_3\n",
        "col=cd_33\n",
        "for i, j in zip(row,col):\n",
        "  Mtx[i-1,j-1] = 1\n",
        "print(Mtx)"
      ],
      "metadata": {
        "id": "GdSKaueLdDOn",
        "outputId": "3095462a-67b9-426f-f1ad-f35fb3eed190",
        "colab": {
          "base_uri": "https://localhost:8080/"
        }
      },
      "execution_count": 79,
      "outputs": [
        {
          "output_type": "stream",
          "name": "stdout",
          "text": [
            "[[0. 0. 0. ... 0. 0. 0.]\n",
            " [0. 0. 0. ... 0. 0. 0.]\n",
            " [0. 0. 0. ... 0. 0. 0.]\n",
            " ...\n",
            " [1. 1. 0. ... 0. 0. 0.]\n",
            " [0. 0. 1. ... 0. 0. 0.]\n",
            " [0. 0. 0. ... 0. 0. 0.]]\n"
          ]
        }
      ]
    },
    {
      "cell_type": "code",
      "source": [
        "code=Mtx\n",
        "code.shape"
      ],
      "metadata": {
        "id": "1gXI65U3K2hG",
        "outputId": "3f4ca1ee-b974-4fa8-b22e-09c6282e3e28",
        "colab": {
          "base_uri": "https://localhost:8080/"
        }
      },
      "execution_count": 80,
      "outputs": [
        {
          "output_type": "execute_result",
          "data": {
            "text/plain": [
              "(9, 3645)"
            ]
          },
          "metadata": {},
          "execution_count": 80
        }
      ]
    },
    {
      "cell_type": "code",
      "source": [
        "nae_tot_row = code@icio_2[0:3645,0:3645] # 중간투입(수요)의 행을 18부문으로 만들기\n",
        "nae_tot_row.shape"
      ],
      "metadata": {
        "id": "hwAN1N7qGAtx",
        "outputId": "971b8509-0106-44e1-c509-4bbcbef5f395",
        "colab": {
          "base_uri": "https://localhost:8080/"
        }
      },
      "execution_count": 81,
      "outputs": [
        {
          "output_type": "execute_result",
          "data": {
            "text/plain": [
              "(9, 3645)"
            ]
          },
          "metadata": {},
          "execution_count": 81
        }
      ]
    },
    {
      "cell_type": "code",
      "source": [
        "nae_tot_col = nae_tot_row@code.T  # 수작업한 code 이용\n",
        "nae_tot_col.sum()"
      ],
      "metadata": {
        "id": "gJ-wf5Z5GAwF",
        "outputId": "c308915d-caa3-4ae3-db7c-59df98fa8153",
        "colab": {
          "base_uri": "https://localhost:8080/"
        }
      },
      "execution_count": 82,
      "outputs": [
        {
          "output_type": "execute_result",
          "data": {
            "text/plain": [
              "84090493.10000001"
            ]
          },
          "metadata": {},
          "execution_count": 82
        }
      ]
    },
    {
      "cell_type": "code",
      "source": [
        "url_cdtx = \"https://raw.githubusercontent.com/Tom-Jung/legendary-funicular/main/cd_tax_new.csv\"  #코드매치 파일 불러오기\n",
        "cd_tx = pd.read_csv(url_cdtx)\n",
        "cd_tx.shape"
      ],
      "metadata": {
        "id": "U2KVZnyLGAyV",
        "outputId": "e87b4e2b-7961-4b76-e51a-cf34090430ac",
        "colab": {
          "base_uri": "https://localhost:8080/"
        }
      },
      "execution_count": 83,
      "outputs": [
        {
          "output_type": "execute_result",
          "data": {
            "text/plain": [
              "(77, 3)"
            ]
          },
          "metadata": {},
          "execution_count": 83
        }
      ]
    },
    {
      "cell_type": "code",
      "source": [
        "url_cns = \"https://raw.githubusercontent.com/Tom-Jung/legendary-funicular/main/cd_cons_new.csv\"  #코드매치 파일 불러오기\n",
        "cd_cns = pd.read_csv(url_cns)\n",
        "cd_cns.shape"
      ],
      "metadata": {
        "id": "JQxUsF6DiW7A",
        "outputId": "7ee46eb4-31b6-45af-bb69-05c2807ccfbd",
        "colab": {
          "base_uri": "https://localhost:8080/"
        }
      },
      "execution_count": 84,
      "outputs": [
        {
          "output_type": "execute_result",
          "data": {
            "text/plain": [
              "(77, 3)"
            ]
          },
          "metadata": {},
          "execution_count": 84
        }
      ]
    },
    {
      "cell_type": "code",
      "source": [
        "# Mtx_tx= np.zeros((6,3195)) # 부문통합을 위한 코드가 많을 경우 상기의 코드를 수작업으로 미리 하는 것이 쉽자 않으므로 반복문을 통해 3x33 임시코드 만들기\n",
        "# cd_3 = cd_for_itr_tx[:,1]\n",
        "# cd_33 = cd_for_itr_tx[:,0]\n",
        "# row=cd_3\n",
        "# col=cd_33\n",
        "# for i, j in zip(row,col):\n",
        "#   Mtx_tx[i-1,j-1] = 1\n",
        "# print(Mtx_tx)"
      ],
      "metadata": {
        "id": "jzhKiWaFKZJG"
      },
      "execution_count": 85,
      "outputs": []
    },
    {
      "cell_type": "code",
      "source": [
        "ccdd_cns = cd_cns.to_numpy()\n",
        "cd_for_itr_cns = ccdd_cns[:,1:]\n",
        "# cd_for_itr_tx"
      ],
      "metadata": {
        "id": "GqX0Pk4vprXZ"
      },
      "execution_count": 86,
      "outputs": []
    },
    {
      "cell_type": "code",
      "source": [
        "Mtx_cns= np.zeros((3,77)) # 부문통합을 위한 코드가 많을 경우 상기의 코드를 수작업으로 미리 하는 것이 쉽자 않으므로 반복문을 통해 3x33 임시코드 만들기\n",
        "cd_3 = cd_for_itr_cns[:,1]\n",
        "cd_33 = cd_for_itr_cns[:,0]\n",
        "row=cd_3\n",
        "col=cd_33\n",
        "for i, j in zip(row,col):\n",
        "  Mtx_cns[i-1,j-1] = 1\n",
        "print(Mtx_cns)"
      ],
      "metadata": {
        "id": "J3tdCNxcprdM",
        "outputId": "3b85bee3-f4ff-4e2f-92e3-80fc86efc615",
        "colab": {
          "base_uri": "https://localhost:8080/"
        }
      },
      "execution_count": 87,
      "outputs": [
        {
          "output_type": "stream",
          "name": "stdout",
          "text": [
            "[[0. 0. 0. 0. 0. 0. 0. 0. 0. 0. 0. 0. 0. 0. 0. 0. 0. 0. 0. 0. 0. 0. 0. 0.\n",
            "  0. 0. 0. 0. 0. 0. 0. 0. 0. 0. 0. 0. 0. 0. 0. 0. 0. 1. 0. 0. 0. 0. 0. 0.\n",
            "  0. 0. 0. 0. 0. 0. 0. 0. 0. 0. 0. 0. 0. 0. 0. 0. 0. 0. 0. 0. 0. 0. 0. 0.\n",
            "  0. 0. 0. 0. 0.]\n",
            " [0. 0. 0. 0. 0. 0. 0. 0. 0. 0. 0. 0. 1. 0. 0. 0. 0. 0. 0. 0. 0. 0. 0. 0.\n",
            "  0. 0. 0. 0. 0. 0. 0. 0. 0. 0. 0. 0. 0. 0. 0. 0. 0. 0. 0. 0. 0. 0. 0. 0.\n",
            "  0. 0. 0. 0. 0. 0. 0. 0. 0. 0. 0. 0. 0. 0. 0. 0. 0. 0. 0. 0. 0. 0. 0. 0.\n",
            "  0. 0. 0. 0. 0.]\n",
            " [1. 1. 1. 1. 1. 1. 1. 1. 1. 1. 1. 1. 0. 1. 1. 1. 1. 1. 1. 1. 1. 1. 1. 1.\n",
            "  1. 1. 1. 1. 1. 1. 1. 1. 1. 1. 1. 1. 1. 1. 1. 1. 1. 0. 1. 1. 1. 1. 1. 1.\n",
            "  1. 1. 1. 1. 1. 1. 1. 1. 1. 1. 1. 1. 1. 1. 1. 1. 1. 1. 1. 1. 1. 1. 1. 1.\n",
            "  1. 1. 1. 1. 1.]]\n"
          ]
        }
      ]
    },
    {
      "cell_type": "code",
      "source": [
        "# code_tx = Mtx_tx\n",
        "code_cns = Mtx_cns\n",
        "code_cns.shape"
      ],
      "metadata": {
        "id": "PraMpI0AKZL1",
        "colab": {
          "base_uri": "https://localhost:8080/"
        },
        "outputId": "26bea000-65a1-462f-9436-ee00e8900ec9"
      },
      "execution_count": 88,
      "outputs": [
        {
          "output_type": "execute_result",
          "data": {
            "text/plain": [
              "(3, 77)"
            ]
          },
          "metadata": {},
          "execution_count": 88
        }
      ]
    },
    {
      "cell_type": "code",
      "source": [
        "nae_tx = code_cns@icio_2[3645:3722,0:3645]@code.T # 세금 행을 6부문으로 만들기\n",
        "nae_tx"
      ],
      "metadata": {
        "id": "5c-zt7MIK-xv",
        "outputId": "1ea82c9f-64fc-4a36-d22c-69d7fb96727a",
        "colab": {
          "base_uri": "https://localhost:8080/"
        }
      },
      "execution_count": 89,
      "outputs": [
        {
          "output_type": "execute_result",
          "data": {
            "text/plain": [
              "array([[565.7, 25259.100000000006, 46582.600000000006, 0.0, 0.0, 0.0,\n",
              "        0.0, 0.0, 0.0],\n",
              "       [0.0, 0.0, 0.0, 14219.0, 450909.7, 308826.6000000001, 0.0, 0.0,\n",
              "        0.0],\n",
              "       [0.0, 0.0, 0.0, 145.70000000000002, 858.3999999999999,\n",
              "        864.5000000000003, 52499.09999999997, 792276.8999999993,\n",
              "        1289023.800000001]], dtype=object)"
            ]
          },
          "metadata": {},
          "execution_count": 89
        }
      ]
    },
    {
      "cell_type": "code",
      "source": [
        "print(icio_2[-2:,0:3645])"
      ],
      "metadata": {
        "id": "uDWyn8IlsauF",
        "outputId": "85f859a9-916e-4c9c-940b-52913ac49a9f",
        "colab": {
          "base_uri": "https://localhost:8080/"
        }
      },
      "execution_count": 90,
      "outputs": [
        {
          "output_type": "stream",
          "name": "stdout",
          "text": [
            "[[21054.1 1180.0 7924.1 ... 0 0 0]\n",
            " [48567.7 1795.0 12925.2 ... 0 0 0]]\n"
          ]
        }
      ]
    },
    {
      "cell_type": "code",
      "source": [
        "va_row = icio_2[-2:,0:3645]@code.T # 중투합, 피용자보수, 영업잉여, 고정자본소모, 기타생산세, 부가가치계, 산출액(7X3)\n",
        "va_row.sum()"
      ],
      "metadata": {
        "id": "qztNjQCtK-0Y",
        "outputId": "7499553e-d676-4ccf-d2c8-ff8de63ee784",
        "colab": {
          "base_uri": "https://localhost:8080/"
        }
      },
      "execution_count": 91,
      "outputs": [
        {
          "output_type": "execute_result",
          "data": {
            "text/plain": [
              "246413251.10000002"
            ]
          },
          "metadata": {},
          "execution_count": 91
        }
      ]
    },
    {
      "cell_type": "code",
      "source": [
        "url_cdfd = \"https://raw.githubusercontent.com/Tom-Jung/legendary-funicular/main/cd_fd_new.csv\"  #코드매치 파일 불러오기\n",
        "cd_fd = pd.read_csv(url_cdfd)\n",
        "cd_fd.head()"
      ],
      "metadata": {
        "id": "TveEEi60VWLR",
        "outputId": "769ee5f5-22a0-4a9b-9b21-8dfb9a7cdbc8",
        "colab": {
          "base_uri": "https://localhost:8080/",
          "height": 206
        }
      },
      "execution_count": 92,
      "outputs": [
        {
          "output_type": "execute_result",
          "data": {
            "text/plain": [
              "        cons  old  new\n",
              "0   ARG_HFCE    1    7\n",
              "1  ARG_NPISH    2    7\n",
              "2   ARG_GGFC    3    8\n",
              "3   ARG_GFCF    4    8\n",
              "4  ARG_INVNT    5    8"
            ],
            "text/html": [
              "\n",
              "  <div id=\"df-03143d42-cc93-4337-92c1-8672c25e5b39\" class=\"colab-df-container\">\n",
              "    <div>\n",
              "<style scoped>\n",
              "    .dataframe tbody tr th:only-of-type {\n",
              "        vertical-align: middle;\n",
              "    }\n",
              "\n",
              "    .dataframe tbody tr th {\n",
              "        vertical-align: top;\n",
              "    }\n",
              "\n",
              "    .dataframe thead th {\n",
              "        text-align: right;\n",
              "    }\n",
              "</style>\n",
              "<table border=\"1\" class=\"dataframe\">\n",
              "  <thead>\n",
              "    <tr style=\"text-align: right;\">\n",
              "      <th></th>\n",
              "      <th>cons</th>\n",
              "      <th>old</th>\n",
              "      <th>new</th>\n",
              "    </tr>\n",
              "  </thead>\n",
              "  <tbody>\n",
              "    <tr>\n",
              "      <th>0</th>\n",
              "      <td>ARG_HFCE</td>\n",
              "      <td>1</td>\n",
              "      <td>7</td>\n",
              "    </tr>\n",
              "    <tr>\n",
              "      <th>1</th>\n",
              "      <td>ARG_NPISH</td>\n",
              "      <td>2</td>\n",
              "      <td>7</td>\n",
              "    </tr>\n",
              "    <tr>\n",
              "      <th>2</th>\n",
              "      <td>ARG_GGFC</td>\n",
              "      <td>3</td>\n",
              "      <td>8</td>\n",
              "    </tr>\n",
              "    <tr>\n",
              "      <th>3</th>\n",
              "      <td>ARG_GFCF</td>\n",
              "      <td>4</td>\n",
              "      <td>8</td>\n",
              "    </tr>\n",
              "    <tr>\n",
              "      <th>4</th>\n",
              "      <td>ARG_INVNT</td>\n",
              "      <td>5</td>\n",
              "      <td>8</td>\n",
              "    </tr>\n",
              "  </tbody>\n",
              "</table>\n",
              "</div>\n",
              "    <div class=\"colab-df-buttons\">\n",
              "\n",
              "  <div class=\"colab-df-container\">\n",
              "    <button class=\"colab-df-convert\" onclick=\"convertToInteractive('df-03143d42-cc93-4337-92c1-8672c25e5b39')\"\n",
              "            title=\"Convert this dataframe to an interactive table.\"\n",
              "            style=\"display:none;\">\n",
              "\n",
              "  <svg xmlns=\"http://www.w3.org/2000/svg\" height=\"24px\" viewBox=\"0 -960 960 960\">\n",
              "    <path d=\"M120-120v-720h720v720H120Zm60-500h600v-160H180v160Zm220 220h160v-160H400v160Zm0 220h160v-160H400v160ZM180-400h160v-160H180v160Zm440 0h160v-160H620v160ZM180-180h160v-160H180v160Zm440 0h160v-160H620v160Z\"/>\n",
              "  </svg>\n",
              "    </button>\n",
              "\n",
              "  <style>\n",
              "    .colab-df-container {\n",
              "      display:flex;\n",
              "      gap: 12px;\n",
              "    }\n",
              "\n",
              "    .colab-df-convert {\n",
              "      background-color: #E8F0FE;\n",
              "      border: none;\n",
              "      border-radius: 50%;\n",
              "      cursor: pointer;\n",
              "      display: none;\n",
              "      fill: #1967D2;\n",
              "      height: 32px;\n",
              "      padding: 0 0 0 0;\n",
              "      width: 32px;\n",
              "    }\n",
              "\n",
              "    .colab-df-convert:hover {\n",
              "      background-color: #E2EBFA;\n",
              "      box-shadow: 0px 1px 2px rgba(60, 64, 67, 0.3), 0px 1px 3px 1px rgba(60, 64, 67, 0.15);\n",
              "      fill: #174EA6;\n",
              "    }\n",
              "\n",
              "    .colab-df-buttons div {\n",
              "      margin-bottom: 4px;\n",
              "    }\n",
              "\n",
              "    [theme=dark] .colab-df-convert {\n",
              "      background-color: #3B4455;\n",
              "      fill: #D2E3FC;\n",
              "    }\n",
              "\n",
              "    [theme=dark] .colab-df-convert:hover {\n",
              "      background-color: #434B5C;\n",
              "      box-shadow: 0px 1px 3px 1px rgba(0, 0, 0, 0.15);\n",
              "      filter: drop-shadow(0px 1px 2px rgba(0, 0, 0, 0.3));\n",
              "      fill: #FFFFFF;\n",
              "    }\n",
              "  </style>\n",
              "\n",
              "    <script>\n",
              "      const buttonEl =\n",
              "        document.querySelector('#df-03143d42-cc93-4337-92c1-8672c25e5b39 button.colab-df-convert');\n",
              "      buttonEl.style.display =\n",
              "        google.colab.kernel.accessAllowed ? 'block' : 'none';\n",
              "\n",
              "      async function convertToInteractive(key) {\n",
              "        const element = document.querySelector('#df-03143d42-cc93-4337-92c1-8672c25e5b39');\n",
              "        const dataTable =\n",
              "          await google.colab.kernel.invokeFunction('convertToInteractive',\n",
              "                                                    [key], {});\n",
              "        if (!dataTable) return;\n",
              "\n",
              "        const docLinkHtml = 'Like what you see? Visit the ' +\n",
              "          '<a target=\"_blank\" href=https://colab.research.google.com/notebooks/data_table.ipynb>data table notebook</a>'\n",
              "          + ' to learn more about interactive tables.';\n",
              "        element.innerHTML = '';\n",
              "        dataTable['output_type'] = 'display_data';\n",
              "        await google.colab.output.renderOutput(dataTable, element);\n",
              "        const docLink = document.createElement('div');\n",
              "        docLink.innerHTML = docLinkHtml;\n",
              "        element.appendChild(docLink);\n",
              "      }\n",
              "    </script>\n",
              "  </div>\n",
              "\n",
              "\n",
              "<div id=\"df-91631c89-fe39-4898-ab9f-11b75d0494eb\">\n",
              "  <button class=\"colab-df-quickchart\" onclick=\"quickchart('df-91631c89-fe39-4898-ab9f-11b75d0494eb')\"\n",
              "            title=\"Suggest charts.\"\n",
              "            style=\"display:none;\">\n",
              "\n",
              "<svg xmlns=\"http://www.w3.org/2000/svg\" height=\"24px\"viewBox=\"0 0 24 24\"\n",
              "     width=\"24px\">\n",
              "    <g>\n",
              "        <path d=\"M19 3H5c-1.1 0-2 .9-2 2v14c0 1.1.9 2 2 2h14c1.1 0 2-.9 2-2V5c0-1.1-.9-2-2-2zM9 17H7v-7h2v7zm4 0h-2V7h2v10zm4 0h-2v-4h2v4z\"/>\n",
              "    </g>\n",
              "</svg>\n",
              "  </button>\n",
              "\n",
              "<style>\n",
              "  .colab-df-quickchart {\n",
              "    background-color: #E8F0FE;\n",
              "    border: none;\n",
              "    border-radius: 50%;\n",
              "    cursor: pointer;\n",
              "    display: none;\n",
              "    fill: #1967D2;\n",
              "    height: 32px;\n",
              "    padding: 0 0 0 0;\n",
              "    width: 32px;\n",
              "  }\n",
              "\n",
              "  .colab-df-quickchart:hover {\n",
              "    background-color: #E2EBFA;\n",
              "    box-shadow: 0px 1px 2px rgba(60, 64, 67, 0.3), 0px 1px 3px 1px rgba(60, 64, 67, 0.15);\n",
              "    fill: #174EA6;\n",
              "  }\n",
              "\n",
              "  [theme=dark] .colab-df-quickchart {\n",
              "    background-color: #3B4455;\n",
              "    fill: #D2E3FC;\n",
              "  }\n",
              "\n",
              "  [theme=dark] .colab-df-quickchart:hover {\n",
              "    background-color: #434B5C;\n",
              "    box-shadow: 0px 1px 3px 1px rgba(0, 0, 0, 0.15);\n",
              "    filter: drop-shadow(0px 1px 2px rgba(0, 0, 0, 0.3));\n",
              "    fill: #FFFFFF;\n",
              "  }\n",
              "</style>\n",
              "\n",
              "  <script>\n",
              "    async function quickchart(key) {\n",
              "      const charts = await google.colab.kernel.invokeFunction(\n",
              "          'suggestCharts', [key], {});\n",
              "    }\n",
              "    (() => {\n",
              "      let quickchartButtonEl =\n",
              "        document.querySelector('#df-91631c89-fe39-4898-ab9f-11b75d0494eb button');\n",
              "      quickchartButtonEl.style.display =\n",
              "        google.colab.kernel.accessAllowed ? 'block' : 'none';\n",
              "    })();\n",
              "  </script>\n",
              "</div>\n",
              "    </div>\n",
              "  </div>\n"
            ]
          },
          "metadata": {},
          "execution_count": 92
        }
      ]
    },
    {
      "cell_type": "code",
      "source": [
        "ccdd_fd = cd_fd.to_numpy()\n",
        "cd_for_itr_fd = ccdd_fd[:,1:]\n",
        "cd_for_itr_fd.shape"
      ],
      "metadata": {
        "id": "lyL9UFZoVmBn",
        "outputId": "ad5bdd34-3837-4e19-b7ff-36f0401aa97e",
        "colab": {
          "base_uri": "https://localhost:8080/"
        }
      },
      "execution_count": 93,
      "outputs": [
        {
          "output_type": "execute_result",
          "data": {
            "text/plain": [
              "(462, 2)"
            ]
          },
          "metadata": {},
          "execution_count": 93
        }
      ]
    },
    {
      "cell_type": "code",
      "source": [
        "Mtx_fd= np.zeros((9,462)) # 부문통합을 위한 코드가 많을 경우 상기의 코드를 수작업으로 미리 하는 것이 쉽자 않으므로 반복문을 통해 3x33 임시코드 만들기\n",
        "cd_3 = cd_for_itr_fd[:,1]\n",
        "cd_33 = cd_for_itr_fd[:,0]\n",
        "row=cd_3\n",
        "col=cd_33\n",
        "for i, j in zip(row,col):\n",
        "  Mtx_fd[i-1,j-1] = 1\n",
        "print(Mtx_fd)"
      ],
      "metadata": {
        "id": "-DfyrxNAVmEF",
        "outputId": "e117dcb1-f929-4d3c-fe92-bf1afb0e53f5",
        "colab": {
          "base_uri": "https://localhost:8080/"
        }
      },
      "execution_count": 94,
      "outputs": [
        {
          "output_type": "stream",
          "name": "stdout",
          "text": [
            "[[0. 0. 0. ... 0. 0. 0.]\n",
            " [0. 0. 0. ... 0. 0. 0.]\n",
            " [0. 0. 0. ... 0. 0. 0.]\n",
            " ...\n",
            " [1. 1. 0. ... 0. 0. 0.]\n",
            " [0. 0. 1. ... 1. 1. 0.]\n",
            " [0. 0. 0. ... 0. 0. 1.]]\n"
          ]
        }
      ]
    },
    {
      "cell_type": "code",
      "source": [
        "code_fd = Mtx_fd\n",
        "code_fd.shape"
      ],
      "metadata": {
        "id": "DCfHIGyDVmGS",
        "outputId": "b2f9171c-d297-4767-d001-c96ba97f7895",
        "colab": {
          "base_uri": "https://localhost:8080/"
        }
      },
      "execution_count": 95,
      "outputs": [
        {
          "output_type": "execute_result",
          "data": {
            "text/plain": [
              "(9, 462)"
            ]
          },
          "metadata": {},
          "execution_count": 95
        }
      ]
    },
    {
      "cell_type": "code",
      "source": [
        "# fd = icio_2[0:3645,3645:4107]\n",
        "# fd.shape"
      ],
      "metadata": {
        "id": "nTuvnp_Rw8yU"
      },
      "execution_count": 96,
      "outputs": []
    },
    {
      "cell_type": "code",
      "source": [
        "fd_tx = code_cns@icio_2[3645:3722,3645:4107]@code_fd.T\n",
        "fd_tx.shape"
      ],
      "metadata": {
        "id": "NJdAdoVPtVq4",
        "outputId": "af16f638-b7fb-43a1-fc66-3b45b3e775ee",
        "colab": {
          "base_uri": "https://localhost:8080/"
        }
      },
      "execution_count": 98,
      "outputs": [
        {
          "output_type": "execute_result",
          "data": {
            "text/plain": [
              "(3, 9)"
            ]
          },
          "metadata": {},
          "execution_count": 98
        }
      ]
    },
    {
      "cell_type": "code",
      "source": [
        "fd_row=np.concatenate((fd,fd_tx, np.zeros((2,9))))\n",
        "fd_row.shape"
      ],
      "metadata": {
        "colab": {
          "base_uri": "https://localhost:8080/"
        },
        "id": "LWL1uNCO_A95",
        "outputId": "ae9d7478-0bd2-46ad-c584-add3d087a2a3"
      },
      "execution_count": 99,
      "outputs": [
        {
          "output_type": "execute_result",
          "data": {
            "text/plain": [
              "(14, 9)"
            ]
          },
          "metadata": {},
          "execution_count": 99
        }
      ]
    },
    {
      "cell_type": "code",
      "source": [
        "icio_row = np.concatenate((nae_tot_col,nae_tx, va_row))\n",
        "icio_row.shape"
      ],
      "metadata": {
        "id": "ydBppFx_VmKX",
        "colab": {
          "base_uri": "https://localhost:8080/"
        },
        "outputId": "58a40c80-9b47-4335-8038-885a694d8aab"
      },
      "execution_count": 100,
      "outputs": [
        {
          "output_type": "execute_result",
          "data": {
            "text/plain": [
              "(14, 9)"
            ]
          },
          "metadata": {},
          "execution_count": 100
        }
      ]
    },
    {
      "cell_type": "code",
      "source": [
        "icio_col = np.concatenate((icio_row, fd_row), axis=1)"
      ],
      "metadata": {
        "id": "9AmJvsmzVmMM"
      },
      "execution_count": 101,
      "outputs": []
    },
    {
      "cell_type": "code",
      "source": [
        "icio_col_sm = icio_col.sum(axis=1).reshape([14,1]) # 충수요계(산출액과 동일)"
      ],
      "metadata": {
        "id": "8e_Mqf7KVmOa"
      },
      "execution_count": 102,
      "outputs": []
    },
    {
      "cell_type": "code",
      "source": [
        "icio_f = np.concatenate((icio_col, icio_col_sm), axis=1).astype(float)"
      ],
      "metadata": {
        "id": "Ic43tRaAVmQd"
      },
      "execution_count": 103,
      "outputs": []
    },
    {
      "cell_type": "code",
      "source": [
        "icio_f.shape"
      ],
      "metadata": {
        "id": "76tj_mVk0NT6",
        "outputId": "e67bae08-88b8-417c-c00b-09e38fed2a5e",
        "colab": {
          "base_uri": "https://localhost:8080/"
        }
      },
      "execution_count": 105,
      "outputs": [
        {
          "output_type": "execute_result",
          "data": {
            "text/plain": [
              "(14, 19)"
            ]
          },
          "metadata": {},
          "execution_count": 105
        }
      ]
    },
    {
      "cell_type": "code",
      "source": [
        "ICIO_df = pd.DataFrame(icio_f, columns = [['KOR', 'KOR', 'KOR', 'CHN', 'CHN', 'CHN', 'ROW', 'ROW', 'ROW','KOR', 'KOR', 'KOR', 'CHN', 'CHN', 'CHN', 'ROW', 'ROW', 'ROW','Total'],\n",
        "\n",
        "                                          ['Agr', 'Manu', 'Serv', 'Agr', 'Manu', 'Serv','Agr', 'Manu', 'Serv','Cons', 'Inv','Exp','Cons', 'Inv','Exp','Cons', 'Inv','Exp','Total']],\n",
        "\n",
        "                                    index=[['KOR', 'KOR', 'KOR', 'CHN', 'CHN', 'CHN', 'ROW', 'ROW', 'ROW','Tax_KOR','Tax_CHN','Tax_ROW','VA','CT'],\n",
        "                                           ['Agr', 'Manu', 'Serv', 'Agr', 'Manu', 'Serv','Agr', 'Manu', 'Serv','Tax_KOR','Tax_CHN','Tax_ROW','VA','Output']])\n",
        "ICIO_df.index.names=['Country', 'Secs']"
      ],
      "metadata": {
        "id": "rtItKkheBmQm"
      },
      "execution_count": 106,
      "outputs": []
    },
    {
      "cell_type": "markdown",
      "source": [],
      "metadata": {
        "id": "AWgG3wYfzfKJ"
      }
    },
    {
      "cell_type": "code",
      "source": [
        "ICIO_df.to_csv('ICIO_3cons_3secs.csv')"
      ],
      "metadata": {
        "id": "3Rq2EJgr1YSW"
      },
      "execution_count": 107,
      "outputs": []
    },
    {
      "cell_type": "code",
      "source": [
        "ICIO_df_show = pd.DataFrame(icio_f.round(1), columns = [['KOR', 'KOR', 'KOR', 'CHN', 'CHN', 'CHN', 'ROW', 'ROW', 'ROW','KOR', 'KOR', 'KOR', 'CHN', 'CHN', 'CHN', 'ROW', 'ROW', 'ROW','Total'],\n",
        "\n",
        "                                          ['Agr', 'Manu', 'Serv', 'Agr', 'Manu', 'Serv','Agr', 'Manu', 'Serv','Cons', 'Inv','Exp','Cons', 'Inv','Exp','Cons', 'Inv','Exp','Total']],\n",
        "\n",
        "                                    index=[['KOR', 'KOR', 'KOR', 'CHN', 'CHN', 'CHN', 'ROW', 'ROW', 'ROW','Tax_KOR','Tax_CHN','Tax_ROW','VA','CT'],\n",
        "                                           ['Agr', 'Manu', 'Serv', 'Agr', 'Manu', 'Serv','Agr', 'Manu', 'Serv','Tax_KOR','Tax_CHN','Tax_ROW','VA','Output']])\n",
        "ICIO_df.index.names=['Country', 'Secs']"
      ],
      "metadata": {
        "id": "KTuvCzjHWf4s"
      },
      "execution_count": 108,
      "outputs": []
    },
    {
      "cell_type": "code",
      "source": [
        "ICIO_df_show"
      ],
      "metadata": {
        "colab": {
          "base_uri": "https://localhost:8080/",
          "height": 539
        },
        "id": "MkTMOiEJF1XB",
        "outputId": "c2ef3aa9-5782-4e95-e053-78e7158c7854"
      },
      "execution_count": 109,
      "outputs": [
        {
          "output_type": "execute_result",
          "data": {
            "text/plain": [
              "                     KOR                              CHN              \\\n",
              "                     Agr       Manu       Serv        Agr        Manu   \n",
              "KOR     Agr       2566.4    25733.2     9180.7       12.6        25.0   \n",
              "        Manu     10765.4   509748.1   250120.2     3625.6     94418.7   \n",
              "        Serv      8258.6   247896.0   558976.3      816.2     12428.9   \n",
              "CHN     Agr         41.2      406.1      132.5   483264.8   1011143.3   \n",
              "        Manu       695.2    57205.6    21031.5   463757.9   8267781.2   \n",
              "        Serv       100.8     6406.3     9453.3   235533.1   2627046.9   \n",
              "ROW     Agr        334.7     3233.5     1215.6    16505.0     34106.7   \n",
              "        Manu      1935.0   158674.8    63691.1    29554.0    915278.5   \n",
              "        Serv       911.2    36671.7    47840.3    14284.9    165586.8   \n",
              "Tax_KOR Tax_KOR    565.7    25259.1    46582.6        0.0         0.0   \n",
              "Tax_CHN Tax_CHN      0.0        0.0        0.0    14219.0    450909.7   \n",
              "Tax_ROW Tax_ROW      0.0        0.0        0.0      145.7       858.4   \n",
              "VA      VA       25578.9   397509.5  1076178.6  1011618.8   4124573.9   \n",
              "CT      Output   51778.1  1468955.6  2084663.8  2273372.6  17704661.9   \n",
              "\n",
              "                                   ROW                               KOR  \\\n",
              "                       Serv        Agr        Manu        Serv      Cons   \n",
              "KOR     Agr             2.6       56.2       254.0       124.0   13177.8   \n",
              "        Manu        25424.6     5825.1    123289.6     60968.5  124280.0   \n",
              "        Serv         7986.9      863.5     17384.7     34489.9  533646.6   \n",
              "CHN     Agr        130643.4     2826.2      8727.2      1790.8     208.1   \n",
              "        Manu      3730032.3    22104.5    584335.4    405599.9   12453.8   \n",
              "        Serv      3769994.0     3295.3     71212.1    141707.9    3480.0   \n",
              "ROW     Agr          3977.8   759072.7   1547557.3    377445.7    1689.7   \n",
              "        Manu       217889.8   582602.0  10828979.5   6950117.4   25682.6   \n",
              "        Serv       122740.9   666337.6   7334235.5  29142202.9   15663.9   \n",
              "Tax_KOR Tax_KOR         0.0        0.0         0.0         0.0   30534.6   \n",
              "Tax_CHN Tax_CHN    308826.6        0.0         0.0         0.0       0.0   \n",
              "Tax_ROW Tax_ROW       864.5    52499.1    792276.9   1289023.8       0.0   \n",
              "VA      VA        8472861.9  2509995.8  11270157.5  50766594.7       0.0   \n",
              "CT      Output   16791614.3  4606640.6  32591120.0  89185374.6       0.0   \n",
              "\n",
              "                                      CHN                         ROW  \\\n",
              "                      Inv  Exp       Cons        Inv  Exp        Cons   \n",
              "KOR     Agr         395.1  0.0       13.0        2.5  0.0       221.9   \n",
              "        Manu     102706.1  0.0     8637.3    20942.9  0.0     61206.4   \n",
              "        Serv     625603.0  0.0     2275.4     5115.5  0.0     15763.2   \n",
              "CHN     Agr           2.8  0.0   493472.8   122811.0  0.0     16217.5   \n",
              "        Manu      13151.7  0.0  1737314.5  1445855.9  0.0    553362.8   \n",
              "        Serv       3289.9  0.0  2972137.7  6751798.6  0.0    121995.9   \n",
              "ROW     Agr          65.5  0.0    18136.6     3731.5  0.0   1668434.9   \n",
              "        Manu      25141.6  0.0   117119.0   140613.9  0.0   8032546.8   \n",
              "        Serv      12072.6  0.0   141875.7   157936.0  0.0  28003585.8   \n",
              "Tax_KOR Tax_KOR   31365.0  0.0        0.0        0.0  0.0         0.0   \n",
              "Tax_CHN Tax_CHN       0.0  0.0   235423.4        0.0  0.0         0.0   \n",
              "Tax_ROW Tax_ROW       0.0  0.0     8207.6     2697.5  0.0   1962871.6   \n",
              "VA      VA            0.0  0.0        0.0        0.0  0.0         0.0   \n",
              "CT      Output        0.0  0.0        0.0        0.0  0.0         0.0   \n",
              "\n",
              "                                        Total  \n",
              "                        Inv  Exp        Total  \n",
              "KOR     Agr             4.6  0.0      51769.6  \n",
              "        Manu        66753.0  0.0    1468711.5  \n",
              "        Serv        12924.2  0.0    2084428.9  \n",
              "CHN     Agr          1662.9  0.0    2273350.6  \n",
              "        Manu       389596.1  0.0   17704278.3  \n",
              "        Serv        73942.2  0.0   16791394.0  \n",
              "ROW     Agr        170177.1  0.0    4605684.3  \n",
              "        Manu      4486954.7  0.0   32576780.7  \n",
              "        Serv     23306928.4  0.0   89168874.2  \n",
              "Tax_KOR Tax_KOR         0.0  0.0     134307.0  \n",
              "Tax_CHN Tax_CHN         0.0  0.0    1009378.7  \n",
              "Tax_ROW Tax_ROW    493313.2  0.0    4602758.3  \n",
              "VA      VA              0.0  0.0   79655069.6  \n",
              "CT      Output          0.0  0.0  166758181.5  "
            ],
            "text/html": [
              "\n",
              "  <div id=\"df-947fe011-861e-47cc-a83e-484b97f80d3e\" class=\"colab-df-container\">\n",
              "    <div>\n",
              "<style scoped>\n",
              "    .dataframe tbody tr th:only-of-type {\n",
              "        vertical-align: middle;\n",
              "    }\n",
              "\n",
              "    .dataframe tbody tr th {\n",
              "        vertical-align: top;\n",
              "    }\n",
              "\n",
              "    .dataframe thead tr th {\n",
              "        text-align: left;\n",
              "    }\n",
              "</style>\n",
              "<table border=\"1\" class=\"dataframe\">\n",
              "  <thead>\n",
              "    <tr>\n",
              "      <th></th>\n",
              "      <th></th>\n",
              "      <th colspan=\"3\" halign=\"left\">KOR</th>\n",
              "      <th colspan=\"3\" halign=\"left\">CHN</th>\n",
              "      <th colspan=\"3\" halign=\"left\">ROW</th>\n",
              "      <th colspan=\"3\" halign=\"left\">KOR</th>\n",
              "      <th colspan=\"3\" halign=\"left\">CHN</th>\n",
              "      <th colspan=\"3\" halign=\"left\">ROW</th>\n",
              "      <th>Total</th>\n",
              "    </tr>\n",
              "    <tr>\n",
              "      <th></th>\n",
              "      <th></th>\n",
              "      <th>Agr</th>\n",
              "      <th>Manu</th>\n",
              "      <th>Serv</th>\n",
              "      <th>Agr</th>\n",
              "      <th>Manu</th>\n",
              "      <th>Serv</th>\n",
              "      <th>Agr</th>\n",
              "      <th>Manu</th>\n",
              "      <th>Serv</th>\n",
              "      <th>Cons</th>\n",
              "      <th>Inv</th>\n",
              "      <th>Exp</th>\n",
              "      <th>Cons</th>\n",
              "      <th>Inv</th>\n",
              "      <th>Exp</th>\n",
              "      <th>Cons</th>\n",
              "      <th>Inv</th>\n",
              "      <th>Exp</th>\n",
              "      <th>Total</th>\n",
              "    </tr>\n",
              "  </thead>\n",
              "  <tbody>\n",
              "    <tr>\n",
              "      <th rowspan=\"3\" valign=\"top\">KOR</th>\n",
              "      <th>Agr</th>\n",
              "      <td>2566.4</td>\n",
              "      <td>25733.2</td>\n",
              "      <td>9180.7</td>\n",
              "      <td>12.6</td>\n",
              "      <td>25.0</td>\n",
              "      <td>2.6</td>\n",
              "      <td>56.2</td>\n",
              "      <td>254.0</td>\n",
              "      <td>124.0</td>\n",
              "      <td>13177.8</td>\n",
              "      <td>395.1</td>\n",
              "      <td>0.0</td>\n",
              "      <td>13.0</td>\n",
              "      <td>2.5</td>\n",
              "      <td>0.0</td>\n",
              "      <td>221.9</td>\n",
              "      <td>4.6</td>\n",
              "      <td>0.0</td>\n",
              "      <td>51769.6</td>\n",
              "    </tr>\n",
              "    <tr>\n",
              "      <th>Manu</th>\n",
              "      <td>10765.4</td>\n",
              "      <td>509748.1</td>\n",
              "      <td>250120.2</td>\n",
              "      <td>3625.6</td>\n",
              "      <td>94418.7</td>\n",
              "      <td>25424.6</td>\n",
              "      <td>5825.1</td>\n",
              "      <td>123289.6</td>\n",
              "      <td>60968.5</td>\n",
              "      <td>124280.0</td>\n",
              "      <td>102706.1</td>\n",
              "      <td>0.0</td>\n",
              "      <td>8637.3</td>\n",
              "      <td>20942.9</td>\n",
              "      <td>0.0</td>\n",
              "      <td>61206.4</td>\n",
              "      <td>66753.0</td>\n",
              "      <td>0.0</td>\n",
              "      <td>1468711.5</td>\n",
              "    </tr>\n",
              "    <tr>\n",
              "      <th>Serv</th>\n",
              "      <td>8258.6</td>\n",
              "      <td>247896.0</td>\n",
              "      <td>558976.3</td>\n",
              "      <td>816.2</td>\n",
              "      <td>12428.9</td>\n",
              "      <td>7986.9</td>\n",
              "      <td>863.5</td>\n",
              "      <td>17384.7</td>\n",
              "      <td>34489.9</td>\n",
              "      <td>533646.6</td>\n",
              "      <td>625603.0</td>\n",
              "      <td>0.0</td>\n",
              "      <td>2275.4</td>\n",
              "      <td>5115.5</td>\n",
              "      <td>0.0</td>\n",
              "      <td>15763.2</td>\n",
              "      <td>12924.2</td>\n",
              "      <td>0.0</td>\n",
              "      <td>2084428.9</td>\n",
              "    </tr>\n",
              "    <tr>\n",
              "      <th rowspan=\"3\" valign=\"top\">CHN</th>\n",
              "      <th>Agr</th>\n",
              "      <td>41.2</td>\n",
              "      <td>406.1</td>\n",
              "      <td>132.5</td>\n",
              "      <td>483264.8</td>\n",
              "      <td>1011143.3</td>\n",
              "      <td>130643.4</td>\n",
              "      <td>2826.2</td>\n",
              "      <td>8727.2</td>\n",
              "      <td>1790.8</td>\n",
              "      <td>208.1</td>\n",
              "      <td>2.8</td>\n",
              "      <td>0.0</td>\n",
              "      <td>493472.8</td>\n",
              "      <td>122811.0</td>\n",
              "      <td>0.0</td>\n",
              "      <td>16217.5</td>\n",
              "      <td>1662.9</td>\n",
              "      <td>0.0</td>\n",
              "      <td>2273350.6</td>\n",
              "    </tr>\n",
              "    <tr>\n",
              "      <th>Manu</th>\n",
              "      <td>695.2</td>\n",
              "      <td>57205.6</td>\n",
              "      <td>21031.5</td>\n",
              "      <td>463757.9</td>\n",
              "      <td>8267781.2</td>\n",
              "      <td>3730032.3</td>\n",
              "      <td>22104.5</td>\n",
              "      <td>584335.4</td>\n",
              "      <td>405599.9</td>\n",
              "      <td>12453.8</td>\n",
              "      <td>13151.7</td>\n",
              "      <td>0.0</td>\n",
              "      <td>1737314.5</td>\n",
              "      <td>1445855.9</td>\n",
              "      <td>0.0</td>\n",
              "      <td>553362.8</td>\n",
              "      <td>389596.1</td>\n",
              "      <td>0.0</td>\n",
              "      <td>17704278.3</td>\n",
              "    </tr>\n",
              "    <tr>\n",
              "      <th>Serv</th>\n",
              "      <td>100.8</td>\n",
              "      <td>6406.3</td>\n",
              "      <td>9453.3</td>\n",
              "      <td>235533.1</td>\n",
              "      <td>2627046.9</td>\n",
              "      <td>3769994.0</td>\n",
              "      <td>3295.3</td>\n",
              "      <td>71212.1</td>\n",
              "      <td>141707.9</td>\n",
              "      <td>3480.0</td>\n",
              "      <td>3289.9</td>\n",
              "      <td>0.0</td>\n",
              "      <td>2972137.7</td>\n",
              "      <td>6751798.6</td>\n",
              "      <td>0.0</td>\n",
              "      <td>121995.9</td>\n",
              "      <td>73942.2</td>\n",
              "      <td>0.0</td>\n",
              "      <td>16791394.0</td>\n",
              "    </tr>\n",
              "    <tr>\n",
              "      <th rowspan=\"3\" valign=\"top\">ROW</th>\n",
              "      <th>Agr</th>\n",
              "      <td>334.7</td>\n",
              "      <td>3233.5</td>\n",
              "      <td>1215.6</td>\n",
              "      <td>16505.0</td>\n",
              "      <td>34106.7</td>\n",
              "      <td>3977.8</td>\n",
              "      <td>759072.7</td>\n",
              "      <td>1547557.3</td>\n",
              "      <td>377445.7</td>\n",
              "      <td>1689.7</td>\n",
              "      <td>65.5</td>\n",
              "      <td>0.0</td>\n",
              "      <td>18136.6</td>\n",
              "      <td>3731.5</td>\n",
              "      <td>0.0</td>\n",
              "      <td>1668434.9</td>\n",
              "      <td>170177.1</td>\n",
              "      <td>0.0</td>\n",
              "      <td>4605684.3</td>\n",
              "    </tr>\n",
              "    <tr>\n",
              "      <th>Manu</th>\n",
              "      <td>1935.0</td>\n",
              "      <td>158674.8</td>\n",
              "      <td>63691.1</td>\n",
              "      <td>29554.0</td>\n",
              "      <td>915278.5</td>\n",
              "      <td>217889.8</td>\n",
              "      <td>582602.0</td>\n",
              "      <td>10828979.5</td>\n",
              "      <td>6950117.4</td>\n",
              "      <td>25682.6</td>\n",
              "      <td>25141.6</td>\n",
              "      <td>0.0</td>\n",
              "      <td>117119.0</td>\n",
              "      <td>140613.9</td>\n",
              "      <td>0.0</td>\n",
              "      <td>8032546.8</td>\n",
              "      <td>4486954.7</td>\n",
              "      <td>0.0</td>\n",
              "      <td>32576780.7</td>\n",
              "    </tr>\n",
              "    <tr>\n",
              "      <th>Serv</th>\n",
              "      <td>911.2</td>\n",
              "      <td>36671.7</td>\n",
              "      <td>47840.3</td>\n",
              "      <td>14284.9</td>\n",
              "      <td>165586.8</td>\n",
              "      <td>122740.9</td>\n",
              "      <td>666337.6</td>\n",
              "      <td>7334235.5</td>\n",
              "      <td>29142202.9</td>\n",
              "      <td>15663.9</td>\n",
              "      <td>12072.6</td>\n",
              "      <td>0.0</td>\n",
              "      <td>141875.7</td>\n",
              "      <td>157936.0</td>\n",
              "      <td>0.0</td>\n",
              "      <td>28003585.8</td>\n",
              "      <td>23306928.4</td>\n",
              "      <td>0.0</td>\n",
              "      <td>89168874.2</td>\n",
              "    </tr>\n",
              "    <tr>\n",
              "      <th>Tax_KOR</th>\n",
              "      <th>Tax_KOR</th>\n",
              "      <td>565.7</td>\n",
              "      <td>25259.1</td>\n",
              "      <td>46582.6</td>\n",
              "      <td>0.0</td>\n",
              "      <td>0.0</td>\n",
              "      <td>0.0</td>\n",
              "      <td>0.0</td>\n",
              "      <td>0.0</td>\n",
              "      <td>0.0</td>\n",
              "      <td>30534.6</td>\n",
              "      <td>31365.0</td>\n",
              "      <td>0.0</td>\n",
              "      <td>0.0</td>\n",
              "      <td>0.0</td>\n",
              "      <td>0.0</td>\n",
              "      <td>0.0</td>\n",
              "      <td>0.0</td>\n",
              "      <td>0.0</td>\n",
              "      <td>134307.0</td>\n",
              "    </tr>\n",
              "    <tr>\n",
              "      <th>Tax_CHN</th>\n",
              "      <th>Tax_CHN</th>\n",
              "      <td>0.0</td>\n",
              "      <td>0.0</td>\n",
              "      <td>0.0</td>\n",
              "      <td>14219.0</td>\n",
              "      <td>450909.7</td>\n",
              "      <td>308826.6</td>\n",
              "      <td>0.0</td>\n",
              "      <td>0.0</td>\n",
              "      <td>0.0</td>\n",
              "      <td>0.0</td>\n",
              "      <td>0.0</td>\n",
              "      <td>0.0</td>\n",
              "      <td>235423.4</td>\n",
              "      <td>0.0</td>\n",
              "      <td>0.0</td>\n",
              "      <td>0.0</td>\n",
              "      <td>0.0</td>\n",
              "      <td>0.0</td>\n",
              "      <td>1009378.7</td>\n",
              "    </tr>\n",
              "    <tr>\n",
              "      <th>Tax_ROW</th>\n",
              "      <th>Tax_ROW</th>\n",
              "      <td>0.0</td>\n",
              "      <td>0.0</td>\n",
              "      <td>0.0</td>\n",
              "      <td>145.7</td>\n",
              "      <td>858.4</td>\n",
              "      <td>864.5</td>\n",
              "      <td>52499.1</td>\n",
              "      <td>792276.9</td>\n",
              "      <td>1289023.8</td>\n",
              "      <td>0.0</td>\n",
              "      <td>0.0</td>\n",
              "      <td>0.0</td>\n",
              "      <td>8207.6</td>\n",
              "      <td>2697.5</td>\n",
              "      <td>0.0</td>\n",
              "      <td>1962871.6</td>\n",
              "      <td>493313.2</td>\n",
              "      <td>0.0</td>\n",
              "      <td>4602758.3</td>\n",
              "    </tr>\n",
              "    <tr>\n",
              "      <th>VA</th>\n",
              "      <th>VA</th>\n",
              "      <td>25578.9</td>\n",
              "      <td>397509.5</td>\n",
              "      <td>1076178.6</td>\n",
              "      <td>1011618.8</td>\n",
              "      <td>4124573.9</td>\n",
              "      <td>8472861.9</td>\n",
              "      <td>2509995.8</td>\n",
              "      <td>11270157.5</td>\n",
              "      <td>50766594.7</td>\n",
              "      <td>0.0</td>\n",
              "      <td>0.0</td>\n",
              "      <td>0.0</td>\n",
              "      <td>0.0</td>\n",
              "      <td>0.0</td>\n",
              "      <td>0.0</td>\n",
              "      <td>0.0</td>\n",
              "      <td>0.0</td>\n",
              "      <td>0.0</td>\n",
              "      <td>79655069.6</td>\n",
              "    </tr>\n",
              "    <tr>\n",
              "      <th>CT</th>\n",
              "      <th>Output</th>\n",
              "      <td>51778.1</td>\n",
              "      <td>1468955.6</td>\n",
              "      <td>2084663.8</td>\n",
              "      <td>2273372.6</td>\n",
              "      <td>17704661.9</td>\n",
              "      <td>16791614.3</td>\n",
              "      <td>4606640.6</td>\n",
              "      <td>32591120.0</td>\n",
              "      <td>89185374.6</td>\n",
              "      <td>0.0</td>\n",
              "      <td>0.0</td>\n",
              "      <td>0.0</td>\n",
              "      <td>0.0</td>\n",
              "      <td>0.0</td>\n",
              "      <td>0.0</td>\n",
              "      <td>0.0</td>\n",
              "      <td>0.0</td>\n",
              "      <td>0.0</td>\n",
              "      <td>166758181.5</td>\n",
              "    </tr>\n",
              "  </tbody>\n",
              "</table>\n",
              "</div>\n",
              "    <div class=\"colab-df-buttons\">\n",
              "\n",
              "  <div class=\"colab-df-container\">\n",
              "    <button class=\"colab-df-convert\" onclick=\"convertToInteractive('df-947fe011-861e-47cc-a83e-484b97f80d3e')\"\n",
              "            title=\"Convert this dataframe to an interactive table.\"\n",
              "            style=\"display:none;\">\n",
              "\n",
              "  <svg xmlns=\"http://www.w3.org/2000/svg\" height=\"24px\" viewBox=\"0 -960 960 960\">\n",
              "    <path d=\"M120-120v-720h720v720H120Zm60-500h600v-160H180v160Zm220 220h160v-160H400v160Zm0 220h160v-160H400v160ZM180-400h160v-160H180v160Zm440 0h160v-160H620v160ZM180-180h160v-160H180v160Zm440 0h160v-160H620v160Z\"/>\n",
              "  </svg>\n",
              "    </button>\n",
              "\n",
              "  <style>\n",
              "    .colab-df-container {\n",
              "      display:flex;\n",
              "      gap: 12px;\n",
              "    }\n",
              "\n",
              "    .colab-df-convert {\n",
              "      background-color: #E8F0FE;\n",
              "      border: none;\n",
              "      border-radius: 50%;\n",
              "      cursor: pointer;\n",
              "      display: none;\n",
              "      fill: #1967D2;\n",
              "      height: 32px;\n",
              "      padding: 0 0 0 0;\n",
              "      width: 32px;\n",
              "    }\n",
              "\n",
              "    .colab-df-convert:hover {\n",
              "      background-color: #E2EBFA;\n",
              "      box-shadow: 0px 1px 2px rgba(60, 64, 67, 0.3), 0px 1px 3px 1px rgba(60, 64, 67, 0.15);\n",
              "      fill: #174EA6;\n",
              "    }\n",
              "\n",
              "    .colab-df-buttons div {\n",
              "      margin-bottom: 4px;\n",
              "    }\n",
              "\n",
              "    [theme=dark] .colab-df-convert {\n",
              "      background-color: #3B4455;\n",
              "      fill: #D2E3FC;\n",
              "    }\n",
              "\n",
              "    [theme=dark] .colab-df-convert:hover {\n",
              "      background-color: #434B5C;\n",
              "      box-shadow: 0px 1px 3px 1px rgba(0, 0, 0, 0.15);\n",
              "      filter: drop-shadow(0px 1px 2px rgba(0, 0, 0, 0.3));\n",
              "      fill: #FFFFFF;\n",
              "    }\n",
              "  </style>\n",
              "\n",
              "    <script>\n",
              "      const buttonEl =\n",
              "        document.querySelector('#df-947fe011-861e-47cc-a83e-484b97f80d3e button.colab-df-convert');\n",
              "      buttonEl.style.display =\n",
              "        google.colab.kernel.accessAllowed ? 'block' : 'none';\n",
              "\n",
              "      async function convertToInteractive(key) {\n",
              "        const element = document.querySelector('#df-947fe011-861e-47cc-a83e-484b97f80d3e');\n",
              "        const dataTable =\n",
              "          await google.colab.kernel.invokeFunction('convertToInteractive',\n",
              "                                                    [key], {});\n",
              "        if (!dataTable) return;\n",
              "\n",
              "        const docLinkHtml = 'Like what you see? Visit the ' +\n",
              "          '<a target=\"_blank\" href=https://colab.research.google.com/notebooks/data_table.ipynb>data table notebook</a>'\n",
              "          + ' to learn more about interactive tables.';\n",
              "        element.innerHTML = '';\n",
              "        dataTable['output_type'] = 'display_data';\n",
              "        await google.colab.output.renderOutput(dataTable, element);\n",
              "        const docLink = document.createElement('div');\n",
              "        docLink.innerHTML = docLinkHtml;\n",
              "        element.appendChild(docLink);\n",
              "      }\n",
              "    </script>\n",
              "  </div>\n",
              "\n",
              "\n",
              "<div id=\"df-d4f109ca-9a29-4a3c-9866-14cc680fb66b\">\n",
              "  <button class=\"colab-df-quickchart\" onclick=\"quickchart('df-d4f109ca-9a29-4a3c-9866-14cc680fb66b')\"\n",
              "            title=\"Suggest charts.\"\n",
              "            style=\"display:none;\">\n",
              "\n",
              "<svg xmlns=\"http://www.w3.org/2000/svg\" height=\"24px\"viewBox=\"0 0 24 24\"\n",
              "     width=\"24px\">\n",
              "    <g>\n",
              "        <path d=\"M19 3H5c-1.1 0-2 .9-2 2v14c0 1.1.9 2 2 2h14c1.1 0 2-.9 2-2V5c0-1.1-.9-2-2-2zM9 17H7v-7h2v7zm4 0h-2V7h2v10zm4 0h-2v-4h2v4z\"/>\n",
              "    </g>\n",
              "</svg>\n",
              "  </button>\n",
              "\n",
              "<style>\n",
              "  .colab-df-quickchart {\n",
              "    background-color: #E8F0FE;\n",
              "    border: none;\n",
              "    border-radius: 50%;\n",
              "    cursor: pointer;\n",
              "    display: none;\n",
              "    fill: #1967D2;\n",
              "    height: 32px;\n",
              "    padding: 0 0 0 0;\n",
              "    width: 32px;\n",
              "  }\n",
              "\n",
              "  .colab-df-quickchart:hover {\n",
              "    background-color: #E2EBFA;\n",
              "    box-shadow: 0px 1px 2px rgba(60, 64, 67, 0.3), 0px 1px 3px 1px rgba(60, 64, 67, 0.15);\n",
              "    fill: #174EA6;\n",
              "  }\n",
              "\n",
              "  [theme=dark] .colab-df-quickchart {\n",
              "    background-color: #3B4455;\n",
              "    fill: #D2E3FC;\n",
              "  }\n",
              "\n",
              "  [theme=dark] .colab-df-quickchart:hover {\n",
              "    background-color: #434B5C;\n",
              "    box-shadow: 0px 1px 3px 1px rgba(0, 0, 0, 0.15);\n",
              "    filter: drop-shadow(0px 1px 2px rgba(0, 0, 0, 0.3));\n",
              "    fill: #FFFFFF;\n",
              "  }\n",
              "</style>\n",
              "\n",
              "  <script>\n",
              "    async function quickchart(key) {\n",
              "      const charts = await google.colab.kernel.invokeFunction(\n",
              "          'suggestCharts', [key], {});\n",
              "    }\n",
              "    (() => {\n",
              "      let quickchartButtonEl =\n",
              "        document.querySelector('#df-d4f109ca-9a29-4a3c-9866-14cc680fb66b button');\n",
              "      quickchartButtonEl.style.display =\n",
              "        google.colab.kernel.accessAllowed ? 'block' : 'none';\n",
              "    })();\n",
              "  </script>\n",
              "</div>\n",
              "    </div>\n",
              "  </div>\n"
            ]
          },
          "metadata": {},
          "execution_count": 109
        }
      ]
    },
    {
      "cell_type": "code",
      "source": [],
      "metadata": {
        "id": "BdNvKl_JdRX0"
      },
      "execution_count": null,
      "outputs": []
    }
  ]
}