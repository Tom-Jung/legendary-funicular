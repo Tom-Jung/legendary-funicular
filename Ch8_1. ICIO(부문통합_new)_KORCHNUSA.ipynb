{
  "nbformat": 4,
  "nbformat_minor": 0,
  "metadata": {
    "colab": {
      "provenance": [],
      "mount_file_id": "https://github.com/Tom-Jung/legendary-funicular/blob/main/IO_tables.ipynb",
      "authorship_tag": "ABX9TyOXZRCUclODWPTYtAT1mLAV",
      "include_colab_link": true
    },
    "kernelspec": {
      "name": "python3",
      "display_name": "Python 3"
    },
    "language_info": {
      "name": "python"
    }
  },
  "cells": [
    {
      "cell_type": "markdown",
      "metadata": {
        "id": "view-in-github",
        "colab_type": "text"
      },
      "source": [
        "<a href=\"https://colab.research.google.com/github/Tom-Jung/legendary-funicular/blob/main/Ch8_1.%20ICIO(%EB%B6%80%EB%AC%B8%ED%86%B5%ED%95%A9_new)_KORCHNUSA.ipynb\" target=\"_parent\"><img src=\"https://colab.research.google.com/assets/colab-badge.svg\" alt=\"Open In Colab\"/></a>"
      ]
    },
    {
      "cell_type": "code",
      "source": [
        "import numpy as np   # Numpy import\n",
        "import pandas as pd  # Pandas import"
      ],
      "metadata": {
        "id": "TR7JvW8CxBFT"
      },
      "execution_count": 72,
      "outputs": []
    },
    {
      "cell_type": "code",
      "source": [
        "np.set_printoptions(precision=3,suppress=True) # 결과를 소수 3자리까지만 보여주는 옵션"
      ],
      "metadata": {
        "id": "2l9tk4XA4Nkc"
      },
      "execution_count": 73,
      "outputs": []
    },
    {
      "cell_type": "code",
      "source": [
        "# from google.colab import drive\n",
        "# drive.mount('/content/drive')"
      ],
      "metadata": {
        "id": "UUugbbcO-CMK"
      },
      "execution_count": 74,
      "outputs": []
    },
    {
      "cell_type": "code",
      "source": [
        "# icio =pd.read_csv('/content/drive/MyDrive/ICIO/ICIO2021_2018.csv')"
      ],
      "metadata": {
        "id": "dH4scTnJ9Wll"
      },
      "execution_count": 75,
      "outputs": []
    },
    {
      "cell_type": "code",
      "source": [
        "icio = pd.read_csv('/content/ICIO2021_2018.csv')"
      ],
      "metadata": {
        "id": "1tuN2LradEW4"
      },
      "execution_count": 76,
      "outputs": []
    },
    {
      "cell_type": "code",
      "source": [
        "icio.head()\n",
        "icio_1 = icio.to_numpy()\n",
        "icio_2=icio_1[:,1:]\n",
        "icio_2.shape"
      ],
      "metadata": {
        "id": "DhBtrP5M9vRR",
        "outputId": "4d9eaf47-4bf4-480b-f096-16925f28a264",
        "colab": {
          "base_uri": "https://localhost:8080/"
        }
      },
      "execution_count": 77,
      "outputs": [
        {
          "output_type": "execute_result",
          "data": {
            "text/plain": [
              "(3264, 3598)"
            ]
          },
          "metadata": {},
          "execution_count": 77
        }
      ]
    },
    {
      "cell_type": "markdown",
      "source": [
        "### 한국 1, 중국2, 미국3, ROW4"
      ],
      "metadata": {
        "id": "AvyOqU89gls6"
      }
    },
    {
      "cell_type": "code",
      "source": [
        "url_cdd = \"https://raw.githubusercontent.com/Tom-Jung/legendary-funicular/main/cd_icio_f.csv\"  #코드매치 파일 불러오기\n",
        "cd = pd.read_csv(url_cdd)\n",
        "cd.head()"
      ],
      "metadata": {
        "id": "yXmH7e7troAC",
        "outputId": "69a14579-d94d-422e-c900-616f0f27f7e2",
        "colab": {
          "base_uri": "https://localhost:8080/",
          "height": 206
        }
      },
      "execution_count": 78,
      "outputs": [
        {
          "output_type": "execute_result",
          "data": {
            "text/plain": [
              "        cons  old  new\n",
              "0  AUS_01T02    1   10\n",
              "1     AUS_03    2   10\n",
              "2  AUS_05T06    3   11\n",
              "3  AUS_07T08    4   11\n",
              "4     AUS_09    5   11"
            ],
            "text/html": [
              "\n",
              "  <div id=\"df-1461ed85-cc46-40d0-9914-ff7780657971\" class=\"colab-df-container\">\n",
              "    <div>\n",
              "<style scoped>\n",
              "    .dataframe tbody tr th:only-of-type {\n",
              "        vertical-align: middle;\n",
              "    }\n",
              "\n",
              "    .dataframe tbody tr th {\n",
              "        vertical-align: top;\n",
              "    }\n",
              "\n",
              "    .dataframe thead th {\n",
              "        text-align: right;\n",
              "    }\n",
              "</style>\n",
              "<table border=\"1\" class=\"dataframe\">\n",
              "  <thead>\n",
              "    <tr style=\"text-align: right;\">\n",
              "      <th></th>\n",
              "      <th>cons</th>\n",
              "      <th>old</th>\n",
              "      <th>new</th>\n",
              "    </tr>\n",
              "  </thead>\n",
              "  <tbody>\n",
              "    <tr>\n",
              "      <th>0</th>\n",
              "      <td>AUS_01T02</td>\n",
              "      <td>1</td>\n",
              "      <td>10</td>\n",
              "    </tr>\n",
              "    <tr>\n",
              "      <th>1</th>\n",
              "      <td>AUS_03</td>\n",
              "      <td>2</td>\n",
              "      <td>10</td>\n",
              "    </tr>\n",
              "    <tr>\n",
              "      <th>2</th>\n",
              "      <td>AUS_05T06</td>\n",
              "      <td>3</td>\n",
              "      <td>11</td>\n",
              "    </tr>\n",
              "    <tr>\n",
              "      <th>3</th>\n",
              "      <td>AUS_07T08</td>\n",
              "      <td>4</td>\n",
              "      <td>11</td>\n",
              "    </tr>\n",
              "    <tr>\n",
              "      <th>4</th>\n",
              "      <td>AUS_09</td>\n",
              "      <td>5</td>\n",
              "      <td>11</td>\n",
              "    </tr>\n",
              "  </tbody>\n",
              "</table>\n",
              "</div>\n",
              "    <div class=\"colab-df-buttons\">\n",
              "\n",
              "  <div class=\"colab-df-container\">\n",
              "    <button class=\"colab-df-convert\" onclick=\"convertToInteractive('df-1461ed85-cc46-40d0-9914-ff7780657971')\"\n",
              "            title=\"Convert this dataframe to an interactive table.\"\n",
              "            style=\"display:none;\">\n",
              "\n",
              "  <svg xmlns=\"http://www.w3.org/2000/svg\" height=\"24px\" viewBox=\"0 -960 960 960\">\n",
              "    <path d=\"M120-120v-720h720v720H120Zm60-500h600v-160H180v160Zm220 220h160v-160H400v160Zm0 220h160v-160H400v160ZM180-400h160v-160H180v160Zm440 0h160v-160H620v160ZM180-180h160v-160H180v160Zm440 0h160v-160H620v160Z\"/>\n",
              "  </svg>\n",
              "    </button>\n",
              "\n",
              "  <style>\n",
              "    .colab-df-container {\n",
              "      display:flex;\n",
              "      gap: 12px;\n",
              "    }\n",
              "\n",
              "    .colab-df-convert {\n",
              "      background-color: #E8F0FE;\n",
              "      border: none;\n",
              "      border-radius: 50%;\n",
              "      cursor: pointer;\n",
              "      display: none;\n",
              "      fill: #1967D2;\n",
              "      height: 32px;\n",
              "      padding: 0 0 0 0;\n",
              "      width: 32px;\n",
              "    }\n",
              "\n",
              "    .colab-df-convert:hover {\n",
              "      background-color: #E2EBFA;\n",
              "      box-shadow: 0px 1px 2px rgba(60, 64, 67, 0.3), 0px 1px 3px 1px rgba(60, 64, 67, 0.15);\n",
              "      fill: #174EA6;\n",
              "    }\n",
              "\n",
              "    .colab-df-buttons div {\n",
              "      margin-bottom: 4px;\n",
              "    }\n",
              "\n",
              "    [theme=dark] .colab-df-convert {\n",
              "      background-color: #3B4455;\n",
              "      fill: #D2E3FC;\n",
              "    }\n",
              "\n",
              "    [theme=dark] .colab-df-convert:hover {\n",
              "      background-color: #434B5C;\n",
              "      box-shadow: 0px 1px 3px 1px rgba(0, 0, 0, 0.15);\n",
              "      filter: drop-shadow(0px 1px 2px rgba(0, 0, 0, 0.3));\n",
              "      fill: #FFFFFF;\n",
              "    }\n",
              "  </style>\n",
              "\n",
              "    <script>\n",
              "      const buttonEl =\n",
              "        document.querySelector('#df-1461ed85-cc46-40d0-9914-ff7780657971 button.colab-df-convert');\n",
              "      buttonEl.style.display =\n",
              "        google.colab.kernel.accessAllowed ? 'block' : 'none';\n",
              "\n",
              "      async function convertToInteractive(key) {\n",
              "        const element = document.querySelector('#df-1461ed85-cc46-40d0-9914-ff7780657971');\n",
              "        const dataTable =\n",
              "          await google.colab.kernel.invokeFunction('convertToInteractive',\n",
              "                                                    [key], {});\n",
              "        if (!dataTable) return;\n",
              "\n",
              "        const docLinkHtml = 'Like what you see? Visit the ' +\n",
              "          '<a target=\"_blank\" href=https://colab.research.google.com/notebooks/data_table.ipynb>data table notebook</a>'\n",
              "          + ' to learn more about interactive tables.';\n",
              "        element.innerHTML = '';\n",
              "        dataTable['output_type'] = 'display_data';\n",
              "        await google.colab.output.renderOutput(dataTable, element);\n",
              "        const docLink = document.createElement('div');\n",
              "        docLink.innerHTML = docLinkHtml;\n",
              "        element.appendChild(docLink);\n",
              "      }\n",
              "    </script>\n",
              "  </div>\n",
              "\n",
              "\n",
              "<div id=\"df-0d622258-48f6-4a55-888a-1acd0deef338\">\n",
              "  <button class=\"colab-df-quickchart\" onclick=\"quickchart('df-0d622258-48f6-4a55-888a-1acd0deef338')\"\n",
              "            title=\"Suggest charts.\"\n",
              "            style=\"display:none;\">\n",
              "\n",
              "<svg xmlns=\"http://www.w3.org/2000/svg\" height=\"24px\"viewBox=\"0 0 24 24\"\n",
              "     width=\"24px\">\n",
              "    <g>\n",
              "        <path d=\"M19 3H5c-1.1 0-2 .9-2 2v14c0 1.1.9 2 2 2h14c1.1 0 2-.9 2-2V5c0-1.1-.9-2-2-2zM9 17H7v-7h2v7zm4 0h-2V7h2v10zm4 0h-2v-4h2v4z\"/>\n",
              "    </g>\n",
              "</svg>\n",
              "  </button>\n",
              "\n",
              "<style>\n",
              "  .colab-df-quickchart {\n",
              "      --bg-color: #E8F0FE;\n",
              "      --fill-color: #1967D2;\n",
              "      --hover-bg-color: #E2EBFA;\n",
              "      --hover-fill-color: #174EA6;\n",
              "      --disabled-fill-color: #AAA;\n",
              "      --disabled-bg-color: #DDD;\n",
              "  }\n",
              "\n",
              "  [theme=dark] .colab-df-quickchart {\n",
              "      --bg-color: #3B4455;\n",
              "      --fill-color: #D2E3FC;\n",
              "      --hover-bg-color: #434B5C;\n",
              "      --hover-fill-color: #FFFFFF;\n",
              "      --disabled-bg-color: #3B4455;\n",
              "      --disabled-fill-color: #666;\n",
              "  }\n",
              "\n",
              "  .colab-df-quickchart {\n",
              "    background-color: var(--bg-color);\n",
              "    border: none;\n",
              "    border-radius: 50%;\n",
              "    cursor: pointer;\n",
              "    display: none;\n",
              "    fill: var(--fill-color);\n",
              "    height: 32px;\n",
              "    padding: 0;\n",
              "    width: 32px;\n",
              "  }\n",
              "\n",
              "  .colab-df-quickchart:hover {\n",
              "    background-color: var(--hover-bg-color);\n",
              "    box-shadow: 0 1px 2px rgba(60, 64, 67, 0.3), 0 1px 3px 1px rgba(60, 64, 67, 0.15);\n",
              "    fill: var(--button-hover-fill-color);\n",
              "  }\n",
              "\n",
              "  .colab-df-quickchart-complete:disabled,\n",
              "  .colab-df-quickchart-complete:disabled:hover {\n",
              "    background-color: var(--disabled-bg-color);\n",
              "    fill: var(--disabled-fill-color);\n",
              "    box-shadow: none;\n",
              "  }\n",
              "\n",
              "  .colab-df-spinner {\n",
              "    border: 2px solid var(--fill-color);\n",
              "    border-color: transparent;\n",
              "    border-bottom-color: var(--fill-color);\n",
              "    animation:\n",
              "      spin 1s steps(1) infinite;\n",
              "  }\n",
              "\n",
              "  @keyframes spin {\n",
              "    0% {\n",
              "      border-color: transparent;\n",
              "      border-bottom-color: var(--fill-color);\n",
              "      border-left-color: var(--fill-color);\n",
              "    }\n",
              "    20% {\n",
              "      border-color: transparent;\n",
              "      border-left-color: var(--fill-color);\n",
              "      border-top-color: var(--fill-color);\n",
              "    }\n",
              "    30% {\n",
              "      border-color: transparent;\n",
              "      border-left-color: var(--fill-color);\n",
              "      border-top-color: var(--fill-color);\n",
              "      border-right-color: var(--fill-color);\n",
              "    }\n",
              "    40% {\n",
              "      border-color: transparent;\n",
              "      border-right-color: var(--fill-color);\n",
              "      border-top-color: var(--fill-color);\n",
              "    }\n",
              "    60% {\n",
              "      border-color: transparent;\n",
              "      border-right-color: var(--fill-color);\n",
              "    }\n",
              "    80% {\n",
              "      border-color: transparent;\n",
              "      border-right-color: var(--fill-color);\n",
              "      border-bottom-color: var(--fill-color);\n",
              "    }\n",
              "    90% {\n",
              "      border-color: transparent;\n",
              "      border-bottom-color: var(--fill-color);\n",
              "    }\n",
              "  }\n",
              "</style>\n",
              "\n",
              "  <script>\n",
              "    async function quickchart(key) {\n",
              "      const quickchartButtonEl =\n",
              "        document.querySelector('#' + key + ' button');\n",
              "      quickchartButtonEl.disabled = true;  // To prevent multiple clicks.\n",
              "      quickchartButtonEl.classList.add('colab-df-spinner');\n",
              "      try {\n",
              "        const charts = await google.colab.kernel.invokeFunction(\n",
              "            'suggestCharts', [key], {});\n",
              "      } catch (error) {\n",
              "        console.error('Error during call to suggestCharts:', error);\n",
              "      }\n",
              "      quickchartButtonEl.classList.remove('colab-df-spinner');\n",
              "      quickchartButtonEl.classList.add('colab-df-quickchart-complete');\n",
              "    }\n",
              "    (() => {\n",
              "      let quickchartButtonEl =\n",
              "        document.querySelector('#df-0d622258-48f6-4a55-888a-1acd0deef338 button');\n",
              "      quickchartButtonEl.style.display =\n",
              "        google.colab.kernel.accessAllowed ? 'block' : 'none';\n",
              "    })();\n",
              "  </script>\n",
              "</div>\n",
              "    </div>\n",
              "  </div>\n"
            ]
          },
          "metadata": {},
          "execution_count": 78
        }
      ]
    },
    {
      "cell_type": "code",
      "source": [
        "ccdd = cd.to_numpy()\n",
        "cd_for_itr = ccdd[:,1:]\n",
        "cd_for_itr"
      ],
      "metadata": {
        "id": "M2e69LcT_59t",
        "outputId": "efdb5fb2-2616-4095-e071-9b5df52809b6",
        "colab": {
          "base_uri": "https://localhost:8080/"
        }
      },
      "execution_count": 79,
      "outputs": [
        {
          "output_type": "execute_result",
          "data": {
            "text/plain": [
              "array([[1, 10],\n",
              "       [2, 10],\n",
              "       [3, 11],\n",
              "       ...,\n",
              "       [3193, 6],\n",
              "       [3194, 6],\n",
              "       [3195, 6]], dtype=object)"
            ]
          },
          "metadata": {},
          "execution_count": 79
        }
      ]
    },
    {
      "cell_type": "code",
      "source": [
        "Mtx = np.zeros((12,3195)) # 부문통합을 위한 코드가 많을 경우 상기의 코드를 수작업으로 미리 하는 것이 쉽자 않으므로 반복문을 통해 3x33 임시코드 만들기\n",
        "cd_3 = cd_for_itr[:,1]\n",
        "cd_33 = cd_for_itr[:,0]\n",
        "row=cd_3\n",
        "col=cd_33\n",
        "for i, j in zip(row,col):\n",
        "  Mtx[i-1,j-1] = 1\n",
        "print(Mtx)"
      ],
      "metadata": {
        "id": "GdSKaueLdDOn",
        "outputId": "86107811-5128-4134-c75b-a81ac0edc248",
        "colab": {
          "base_uri": "https://localhost:8080/"
        }
      },
      "execution_count": 80,
      "outputs": [
        {
          "output_type": "stream",
          "name": "stdout",
          "text": [
            "[[0. 0. 0. ... 0. 0. 0.]\n",
            " [0. 0. 0. ... 0. 0. 0.]\n",
            " [0. 0. 0. ... 0. 0. 0.]\n",
            " ...\n",
            " [1. 1. 0. ... 0. 0. 0.]\n",
            " [0. 0. 1. ... 0. 0. 0.]\n",
            " [0. 0. 0. ... 0. 0. 0.]]\n"
          ]
        }
      ]
    },
    {
      "cell_type": "code",
      "source": [
        "code=Mtx\n",
        "code.shape"
      ],
      "metadata": {
        "id": "1gXI65U3K2hG",
        "outputId": "0870f254-96c5-4c85-efec-5a06eeae2d49",
        "colab": {
          "base_uri": "https://localhost:8080/"
        }
      },
      "execution_count": 81,
      "outputs": [
        {
          "output_type": "execute_result",
          "data": {
            "text/plain": [
              "(12, 3195)"
            ]
          },
          "metadata": {},
          "execution_count": 81
        }
      ]
    },
    {
      "cell_type": "code",
      "source": [
        "nae_tot_row = code@icio_2[0:3195,0:3195] # 중간투입(수요)의 행을 12부문으로 만들기\n",
        "nae_tot_row.shape"
      ],
      "metadata": {
        "id": "hwAN1N7qGAtx",
        "outputId": "661dd14b-252c-48ff-e61f-ed547316fb06",
        "colab": {
          "base_uri": "https://localhost:8080/"
        }
      },
      "execution_count": 82,
      "outputs": [
        {
          "output_type": "execute_result",
          "data": {
            "text/plain": [
              "(12, 3195)"
            ]
          },
          "metadata": {},
          "execution_count": 82
        }
      ]
    },
    {
      "cell_type": "code",
      "source": [
        "nae_tot_col = nae_tot_row@code.T  # 수작업한 code 이용\n",
        "nae_tot_col.sum()"
      ],
      "metadata": {
        "id": "gJ-wf5Z5GAwF",
        "outputId": "4439e58a-53de-4982-9fc5-30549c07a4d8",
        "colab": {
          "base_uri": "https://localhost:8080/"
        }
      },
      "execution_count": 83,
      "outputs": [
        {
          "output_type": "execute_result",
          "data": {
            "text/plain": [
              "82339688.20691402"
            ]
          },
          "metadata": {},
          "execution_count": 83
        }
      ]
    },
    {
      "cell_type": "code",
      "source": [
        "url_cdtx = \"https://raw.githubusercontent.com/Tom-Jung/legendary-funicular/main/cd_tax.csv\"  #코드매치 파일 불러오기\n",
        "cd_tx = pd.read_csv(url_cdtx)\n",
        "cd_tx.shape"
      ],
      "metadata": {
        "id": "U2KVZnyLGAyV",
        "outputId": "590347b0-4382-4fa6-c165-573fd3e36b32",
        "colab": {
          "base_uri": "https://localhost:8080/"
        }
      },
      "execution_count": 84,
      "outputs": [
        {
          "output_type": "execute_result",
          "data": {
            "text/plain": [
              "(67, 3)"
            ]
          },
          "metadata": {},
          "execution_count": 84
        }
      ]
    },
    {
      "cell_type": "code",
      "source": [
        "url_cns = \"https://raw.githubusercontent.com/Tom-Jung/legendary-funicular/main/cd_cons.csv\"  #코드매치 파일 불러오기\n",
        "cd_cns = pd.read_csv(url_cns)\n",
        "cd_cns.shape"
      ],
      "metadata": {
        "id": "JQxUsF6DiW7A",
        "outputId": "d8e1d60b-6655-4e36-9788-36b773fa78d2",
        "colab": {
          "base_uri": "https://localhost:8080/"
        }
      },
      "execution_count": 85,
      "outputs": [
        {
          "output_type": "execute_result",
          "data": {
            "text/plain": [
              "(67, 3)"
            ]
          },
          "metadata": {},
          "execution_count": 85
        }
      ]
    },
    {
      "cell_type": "code",
      "source": [
        "# Mtx_tx= np.zeros((6,3195)) # 부문통합을 위한 코드가 많을 경우 상기의 코드를 수작업으로 미리 하는 것이 쉽자 않으므로 반복문을 통해 3x33 임시코드 만들기\n",
        "# cd_3 = cd_for_itr_tx[:,1]\n",
        "# cd_33 = cd_for_itr_tx[:,0]\n",
        "# row=cd_3\n",
        "# col=cd_33\n",
        "# for i, j in zip(row,col):\n",
        "#   Mtx_tx[i-1,j-1] = 1\n",
        "# print(Mtx_tx)"
      ],
      "metadata": {
        "id": "jzhKiWaFKZJG"
      },
      "execution_count": 86,
      "outputs": []
    },
    {
      "cell_type": "code",
      "source": [
        "ccdd_cns = cd_cns.to_numpy()\n",
        "cd_for_itr_cns = ccdd_cns[:,1:]\n",
        "# cd_for_itr_tx"
      ],
      "metadata": {
        "id": "GqX0Pk4vprXZ"
      },
      "execution_count": 87,
      "outputs": []
    },
    {
      "cell_type": "code",
      "source": [
        "Mtx_cns= np.zeros((4,67)) # 부문통합을 위한 코드가 많을 경우 상기의 코드를 수작업으로 미리 하는 것이 쉽자 않으므로 반복문을 통해 3x33 임시코드 만들기\n",
        "cd_3 = cd_for_itr_cns[:,1]\n",
        "cd_33 = cd_for_itr_cns[:,0]\n",
        "row=cd_3\n",
        "col=cd_33\n",
        "for i, j in zip(row,col):\n",
        "  Mtx_cns[i-1,j-1] = 1\n",
        "print(Mtx_cns)"
      ],
      "metadata": {
        "id": "J3tdCNxcprdM",
        "outputId": "7597ab7b-3182-4aa0-bb08-ae5c3f977e45",
        "colab": {
          "base_uri": "https://localhost:8080/"
        }
      },
      "execution_count": 88,
      "outputs": [
        {
          "output_type": "stream",
          "name": "stdout",
          "text": [
            "[[0. 0. 0. 0. 0. 0. 0. 0. 0. 0. 0. 0. 0. 0. 0. 0. 0. 0. 0. 0. 1. 0. 0. 0.\n",
            "  0. 0. 0. 0. 0. 0. 0. 0. 0. 0. 0. 0. 0. 0. 0. 0. 0. 0. 0. 0. 0. 0. 0. 0.\n",
            "  0. 0. 0. 0. 0. 0. 0. 0. 0. 0. 0. 0. 0. 0. 0. 0. 0. 0. 0.]\n",
            " [0. 0. 0. 0. 0. 0. 0. 0. 0. 0. 0. 0. 0. 0. 0. 0. 0. 0. 0. 0. 0. 0. 0. 0.\n",
            "  0. 0. 0. 0. 0. 0. 0. 0. 0. 0. 0. 0. 0. 0. 0. 0. 0. 0. 0. 1. 0. 0. 0. 0.\n",
            "  0. 0. 0. 0. 0. 0. 0. 0. 0. 0. 0. 0. 0. 0. 0. 0. 0. 0. 0.]\n",
            " [0. 0. 0. 0. 0. 0. 0. 0. 0. 0. 0. 0. 0. 0. 0. 0. 0. 0. 0. 0. 0. 0. 0. 0.\n",
            "  0. 0. 0. 0. 0. 0. 0. 0. 0. 0. 0. 0. 0. 1. 0. 0. 0. 0. 0. 0. 0. 0. 0. 0.\n",
            "  0. 0. 0. 0. 0. 0. 0. 0. 0. 0. 0. 0. 0. 0. 0. 0. 0. 0. 0.]\n",
            " [1. 1. 1. 1. 1. 1. 1. 1. 1. 1. 1. 1. 1. 1. 1. 1. 1. 1. 1. 1. 0. 1. 1. 1.\n",
            "  1. 1. 1. 1. 1. 1. 1. 1. 1. 1. 1. 1. 1. 0. 1. 1. 1. 1. 1. 0. 1. 1. 1. 1.\n",
            "  1. 1. 1. 1. 1. 1. 1. 1. 1. 1. 1. 1. 1. 1. 1. 1. 1. 1. 1.]]\n"
          ]
        }
      ]
    },
    {
      "cell_type": "code",
      "source": [
        "# code_tx = Mtx_tx\n",
        "code_cns = Mtx_cns\n",
        "code_cns"
      ],
      "metadata": {
        "id": "PraMpI0AKZL1",
        "colab": {
          "base_uri": "https://localhost:8080/"
        },
        "outputId": "a6000c8d-102b-40a5-d457-bf6c8a2a470d"
      },
      "execution_count": 89,
      "outputs": [
        {
          "output_type": "execute_result",
          "data": {
            "text/plain": [
              "array([[0., 0., 0., 0., 0., 0., 0., 0., 0., 0., 0., 0., 0., 0., 0., 0.,\n",
              "        0., 0., 0., 0., 1., 0., 0., 0., 0., 0., 0., 0., 0., 0., 0., 0.,\n",
              "        0., 0., 0., 0., 0., 0., 0., 0., 0., 0., 0., 0., 0., 0., 0., 0.,\n",
              "        0., 0., 0., 0., 0., 0., 0., 0., 0., 0., 0., 0., 0., 0., 0., 0.,\n",
              "        0., 0., 0.],\n",
              "       [0., 0., 0., 0., 0., 0., 0., 0., 0., 0., 0., 0., 0., 0., 0., 0.,\n",
              "        0., 0., 0., 0., 0., 0., 0., 0., 0., 0., 0., 0., 0., 0., 0., 0.,\n",
              "        0., 0., 0., 0., 0., 0., 0., 0., 0., 0., 0., 1., 0., 0., 0., 0.,\n",
              "        0., 0., 0., 0., 0., 0., 0., 0., 0., 0., 0., 0., 0., 0., 0., 0.,\n",
              "        0., 0., 0.],\n",
              "       [0., 0., 0., 0., 0., 0., 0., 0., 0., 0., 0., 0., 0., 0., 0., 0.,\n",
              "        0., 0., 0., 0., 0., 0., 0., 0., 0., 0., 0., 0., 0., 0., 0., 0.,\n",
              "        0., 0., 0., 0., 0., 1., 0., 0., 0., 0., 0., 0., 0., 0., 0., 0.,\n",
              "        0., 0., 0., 0., 0., 0., 0., 0., 0., 0., 0., 0., 0., 0., 0., 0.,\n",
              "        0., 0., 0.],\n",
              "       [1., 1., 1., 1., 1., 1., 1., 1., 1., 1., 1., 1., 1., 1., 1., 1.,\n",
              "        1., 1., 1., 1., 0., 1., 1., 1., 1., 1., 1., 1., 1., 1., 1., 1.,\n",
              "        1., 1., 1., 1., 1., 0., 1., 1., 1., 1., 1., 0., 1., 1., 1., 1.,\n",
              "        1., 1., 1., 1., 1., 1., 1., 1., 1., 1., 1., 1., 1., 1., 1., 1.,\n",
              "        1., 1., 1.]])"
            ]
          },
          "metadata": {},
          "execution_count": 89
        }
      ]
    },
    {
      "cell_type": "code",
      "source": [
        "nae_tx = code_cns@icio_2[3195:3262,0:3195]@code.T # 세금 행을 12부문으로 만들기\n",
        "nae_tx.shape"
      ],
      "metadata": {
        "id": "5c-zt7MIK-xv",
        "outputId": "84a2aa2d-0fa9-494a-ffdf-5a246f2da022",
        "colab": {
          "base_uri": "https://localhost:8080/"
        }
      },
      "execution_count": 90,
      "outputs": [
        {
          "output_type": "execute_result",
          "data": {
            "text/plain": [
              "(4, 12)"
            ]
          },
          "metadata": {},
          "execution_count": 90
        }
      ]
    },
    {
      "cell_type": "code",
      "source": [
        "va_row = icio_2[3262:,0:3195]@code.T # 중투합, 피용자보수, 영업잉여, 고정자본소모, 기타생산세, 부가가치계, 산출액(7X3)\n",
        "va_row"
      ],
      "metadata": {
        "id": "qztNjQCtK-0Y",
        "outputId": "59c26688-2636-4dde-9725-aef24da64028",
        "colab": {
          "base_uri": "https://localhost:8080/"
        }
      },
      "execution_count": 91,
      "outputs": [
        {
          "output_type": "execute_result",
          "data": {
            "text/plain": [
              "array([[30122.760078, 461407.057533, 1086426.202384, 939956.9125069999,\n",
              "        3875230.7805330004, 7974934.793033998, 189809.860399,\n",
              "        2624235.468104, 17048993.168002002, 2264744.4217870003,\n",
              "        9434457.25366601, 33971068.935095],\n",
              "       [57218.381578, 1668464.2372480002, 2097727.368706, 2125907.816808,\n",
              "        17184795.339190997, 15705083.875234999, 466589.927573,\n",
              "        6836953.243108001, 28592845.82552, 3828490.9011439993,\n",
              "        27462836.018980946, 59274526.199950024]], dtype=object)"
            ]
          },
          "metadata": {},
          "execution_count": 91
        }
      ]
    },
    {
      "cell_type": "code",
      "source": [
        "url_cdfd = \"https://raw.githubusercontent.com/Tom-Jung/legendary-funicular/main/cd_fd_4cons.csv\"  #코드매치 파일 불러오기\n",
        "cd_fd = pd.read_csv(url_cdfd)\n",
        "cd_fd.head()"
      ],
      "metadata": {
        "id": "TveEEi60VWLR",
        "outputId": "d3e132be-40bb-42cd-b4dd-7167d0c6598b",
        "colab": {
          "base_uri": "https://localhost:8080/",
          "height": 206
        }
      },
      "execution_count": 92,
      "outputs": [
        {
          "output_type": "execute_result",
          "data": {
            "text/plain": [
              "        cons  old  new\n",
              "0   AUS_HFCE    1    4\n",
              "1  AUS_NPISH    2    4\n",
              "2   AUS_GGFC    3    4\n",
              "3   AUS_GFCF    4    4\n",
              "4  AUS_INVNT    5    4"
            ],
            "text/html": [
              "\n",
              "  <div id=\"df-edc464cd-8165-449c-a92c-b0c4a28a5450\" class=\"colab-df-container\">\n",
              "    <div>\n",
              "<style scoped>\n",
              "    .dataframe tbody tr th:only-of-type {\n",
              "        vertical-align: middle;\n",
              "    }\n",
              "\n",
              "    .dataframe tbody tr th {\n",
              "        vertical-align: top;\n",
              "    }\n",
              "\n",
              "    .dataframe thead th {\n",
              "        text-align: right;\n",
              "    }\n",
              "</style>\n",
              "<table border=\"1\" class=\"dataframe\">\n",
              "  <thead>\n",
              "    <tr style=\"text-align: right;\">\n",
              "      <th></th>\n",
              "      <th>cons</th>\n",
              "      <th>old</th>\n",
              "      <th>new</th>\n",
              "    </tr>\n",
              "  </thead>\n",
              "  <tbody>\n",
              "    <tr>\n",
              "      <th>0</th>\n",
              "      <td>AUS_HFCE</td>\n",
              "      <td>1</td>\n",
              "      <td>4</td>\n",
              "    </tr>\n",
              "    <tr>\n",
              "      <th>1</th>\n",
              "      <td>AUS_NPISH</td>\n",
              "      <td>2</td>\n",
              "      <td>4</td>\n",
              "    </tr>\n",
              "    <tr>\n",
              "      <th>2</th>\n",
              "      <td>AUS_GGFC</td>\n",
              "      <td>3</td>\n",
              "      <td>4</td>\n",
              "    </tr>\n",
              "    <tr>\n",
              "      <th>3</th>\n",
              "      <td>AUS_GFCF</td>\n",
              "      <td>4</td>\n",
              "      <td>4</td>\n",
              "    </tr>\n",
              "    <tr>\n",
              "      <th>4</th>\n",
              "      <td>AUS_INVNT</td>\n",
              "      <td>5</td>\n",
              "      <td>4</td>\n",
              "    </tr>\n",
              "  </tbody>\n",
              "</table>\n",
              "</div>\n",
              "    <div class=\"colab-df-buttons\">\n",
              "\n",
              "  <div class=\"colab-df-container\">\n",
              "    <button class=\"colab-df-convert\" onclick=\"convertToInteractive('df-edc464cd-8165-449c-a92c-b0c4a28a5450')\"\n",
              "            title=\"Convert this dataframe to an interactive table.\"\n",
              "            style=\"display:none;\">\n",
              "\n",
              "  <svg xmlns=\"http://www.w3.org/2000/svg\" height=\"24px\" viewBox=\"0 -960 960 960\">\n",
              "    <path d=\"M120-120v-720h720v720H120Zm60-500h600v-160H180v160Zm220 220h160v-160H400v160Zm0 220h160v-160H400v160ZM180-400h160v-160H180v160Zm440 0h160v-160H620v160ZM180-180h160v-160H180v160Zm440 0h160v-160H620v160Z\"/>\n",
              "  </svg>\n",
              "    </button>\n",
              "\n",
              "  <style>\n",
              "    .colab-df-container {\n",
              "      display:flex;\n",
              "      gap: 12px;\n",
              "    }\n",
              "\n",
              "    .colab-df-convert {\n",
              "      background-color: #E8F0FE;\n",
              "      border: none;\n",
              "      border-radius: 50%;\n",
              "      cursor: pointer;\n",
              "      display: none;\n",
              "      fill: #1967D2;\n",
              "      height: 32px;\n",
              "      padding: 0 0 0 0;\n",
              "      width: 32px;\n",
              "    }\n",
              "\n",
              "    .colab-df-convert:hover {\n",
              "      background-color: #E2EBFA;\n",
              "      box-shadow: 0px 1px 2px rgba(60, 64, 67, 0.3), 0px 1px 3px 1px rgba(60, 64, 67, 0.15);\n",
              "      fill: #174EA6;\n",
              "    }\n",
              "\n",
              "    .colab-df-buttons div {\n",
              "      margin-bottom: 4px;\n",
              "    }\n",
              "\n",
              "    [theme=dark] .colab-df-convert {\n",
              "      background-color: #3B4455;\n",
              "      fill: #D2E3FC;\n",
              "    }\n",
              "\n",
              "    [theme=dark] .colab-df-convert:hover {\n",
              "      background-color: #434B5C;\n",
              "      box-shadow: 0px 1px 3px 1px rgba(0, 0, 0, 0.15);\n",
              "      filter: drop-shadow(0px 1px 2px rgba(0, 0, 0, 0.3));\n",
              "      fill: #FFFFFF;\n",
              "    }\n",
              "  </style>\n",
              "\n",
              "    <script>\n",
              "      const buttonEl =\n",
              "        document.querySelector('#df-edc464cd-8165-449c-a92c-b0c4a28a5450 button.colab-df-convert');\n",
              "      buttonEl.style.display =\n",
              "        google.colab.kernel.accessAllowed ? 'block' : 'none';\n",
              "\n",
              "      async function convertToInteractive(key) {\n",
              "        const element = document.querySelector('#df-edc464cd-8165-449c-a92c-b0c4a28a5450');\n",
              "        const dataTable =\n",
              "          await google.colab.kernel.invokeFunction('convertToInteractive',\n",
              "                                                    [key], {});\n",
              "        if (!dataTable) return;\n",
              "\n",
              "        const docLinkHtml = 'Like what you see? Visit the ' +\n",
              "          '<a target=\"_blank\" href=https://colab.research.google.com/notebooks/data_table.ipynb>data table notebook</a>'\n",
              "          + ' to learn more about interactive tables.';\n",
              "        element.innerHTML = '';\n",
              "        dataTable['output_type'] = 'display_data';\n",
              "        await google.colab.output.renderOutput(dataTable, element);\n",
              "        const docLink = document.createElement('div');\n",
              "        docLink.innerHTML = docLinkHtml;\n",
              "        element.appendChild(docLink);\n",
              "      }\n",
              "    </script>\n",
              "  </div>\n",
              "\n",
              "\n",
              "<div id=\"df-ccab1a41-0ac3-49f5-8529-b521127adf42\">\n",
              "  <button class=\"colab-df-quickchart\" onclick=\"quickchart('df-ccab1a41-0ac3-49f5-8529-b521127adf42')\"\n",
              "            title=\"Suggest charts.\"\n",
              "            style=\"display:none;\">\n",
              "\n",
              "<svg xmlns=\"http://www.w3.org/2000/svg\" height=\"24px\"viewBox=\"0 0 24 24\"\n",
              "     width=\"24px\">\n",
              "    <g>\n",
              "        <path d=\"M19 3H5c-1.1 0-2 .9-2 2v14c0 1.1.9 2 2 2h14c1.1 0 2-.9 2-2V5c0-1.1-.9-2-2-2zM9 17H7v-7h2v7zm4 0h-2V7h2v10zm4 0h-2v-4h2v4z\"/>\n",
              "    </g>\n",
              "</svg>\n",
              "  </button>\n",
              "\n",
              "<style>\n",
              "  .colab-df-quickchart {\n",
              "      --bg-color: #E8F0FE;\n",
              "      --fill-color: #1967D2;\n",
              "      --hover-bg-color: #E2EBFA;\n",
              "      --hover-fill-color: #174EA6;\n",
              "      --disabled-fill-color: #AAA;\n",
              "      --disabled-bg-color: #DDD;\n",
              "  }\n",
              "\n",
              "  [theme=dark] .colab-df-quickchart {\n",
              "      --bg-color: #3B4455;\n",
              "      --fill-color: #D2E3FC;\n",
              "      --hover-bg-color: #434B5C;\n",
              "      --hover-fill-color: #FFFFFF;\n",
              "      --disabled-bg-color: #3B4455;\n",
              "      --disabled-fill-color: #666;\n",
              "  }\n",
              "\n",
              "  .colab-df-quickchart {\n",
              "    background-color: var(--bg-color);\n",
              "    border: none;\n",
              "    border-radius: 50%;\n",
              "    cursor: pointer;\n",
              "    display: none;\n",
              "    fill: var(--fill-color);\n",
              "    height: 32px;\n",
              "    padding: 0;\n",
              "    width: 32px;\n",
              "  }\n",
              "\n",
              "  .colab-df-quickchart:hover {\n",
              "    background-color: var(--hover-bg-color);\n",
              "    box-shadow: 0 1px 2px rgba(60, 64, 67, 0.3), 0 1px 3px 1px rgba(60, 64, 67, 0.15);\n",
              "    fill: var(--button-hover-fill-color);\n",
              "  }\n",
              "\n",
              "  .colab-df-quickchart-complete:disabled,\n",
              "  .colab-df-quickchart-complete:disabled:hover {\n",
              "    background-color: var(--disabled-bg-color);\n",
              "    fill: var(--disabled-fill-color);\n",
              "    box-shadow: none;\n",
              "  }\n",
              "\n",
              "  .colab-df-spinner {\n",
              "    border: 2px solid var(--fill-color);\n",
              "    border-color: transparent;\n",
              "    border-bottom-color: var(--fill-color);\n",
              "    animation:\n",
              "      spin 1s steps(1) infinite;\n",
              "  }\n",
              "\n",
              "  @keyframes spin {\n",
              "    0% {\n",
              "      border-color: transparent;\n",
              "      border-bottom-color: var(--fill-color);\n",
              "      border-left-color: var(--fill-color);\n",
              "    }\n",
              "    20% {\n",
              "      border-color: transparent;\n",
              "      border-left-color: var(--fill-color);\n",
              "      border-top-color: var(--fill-color);\n",
              "    }\n",
              "    30% {\n",
              "      border-color: transparent;\n",
              "      border-left-color: var(--fill-color);\n",
              "      border-top-color: var(--fill-color);\n",
              "      border-right-color: var(--fill-color);\n",
              "    }\n",
              "    40% {\n",
              "      border-color: transparent;\n",
              "      border-right-color: var(--fill-color);\n",
              "      border-top-color: var(--fill-color);\n",
              "    }\n",
              "    60% {\n",
              "      border-color: transparent;\n",
              "      border-right-color: var(--fill-color);\n",
              "    }\n",
              "    80% {\n",
              "      border-color: transparent;\n",
              "      border-right-color: var(--fill-color);\n",
              "      border-bottom-color: var(--fill-color);\n",
              "    }\n",
              "    90% {\n",
              "      border-color: transparent;\n",
              "      border-bottom-color: var(--fill-color);\n",
              "    }\n",
              "  }\n",
              "</style>\n",
              "\n",
              "  <script>\n",
              "    async function quickchart(key) {\n",
              "      const quickchartButtonEl =\n",
              "        document.querySelector('#' + key + ' button');\n",
              "      quickchartButtonEl.disabled = true;  // To prevent multiple clicks.\n",
              "      quickchartButtonEl.classList.add('colab-df-spinner');\n",
              "      try {\n",
              "        const charts = await google.colab.kernel.invokeFunction(\n",
              "            'suggestCharts', [key], {});\n",
              "      } catch (error) {\n",
              "        console.error('Error during call to suggestCharts:', error);\n",
              "      }\n",
              "      quickchartButtonEl.classList.remove('colab-df-spinner');\n",
              "      quickchartButtonEl.classList.add('colab-df-quickchart-complete');\n",
              "    }\n",
              "    (() => {\n",
              "      let quickchartButtonEl =\n",
              "        document.querySelector('#df-ccab1a41-0ac3-49f5-8529-b521127adf42 button');\n",
              "      quickchartButtonEl.style.display =\n",
              "        google.colab.kernel.accessAllowed ? 'block' : 'none';\n",
              "    })();\n",
              "  </script>\n",
              "</div>\n",
              "    </div>\n",
              "  </div>\n"
            ]
          },
          "metadata": {},
          "execution_count": 92
        }
      ]
    },
    {
      "cell_type": "code",
      "source": [
        "ccdd_fd = cd_fd.to_numpy()\n",
        "cd_for_itr_fd = ccdd_fd[:,1:3]\n",
        "cd_for_itr_fd.shape"
      ],
      "metadata": {
        "id": "lyL9UFZoVmBn",
        "outputId": "0c08a422-42dc-4ac5-c4d3-7e1947a440ad",
        "colab": {
          "base_uri": "https://localhost:8080/"
        }
      },
      "execution_count": 93,
      "outputs": [
        {
          "output_type": "execute_result",
          "data": {
            "text/plain": [
              "(402, 2)"
            ]
          },
          "metadata": {},
          "execution_count": 93
        }
      ]
    },
    {
      "cell_type": "code",
      "source": [
        "Mtx_fd= np.zeros((4,402)) # 부문통합을 위한 코드가 많을 경우 상기의 코드를 수작업으로 미리 하는 것이 쉽자 않으므로 반복문을 통해 3x33 임시코드 만들기\n",
        "cd_3 = cd_for_itr_fd[:,1]\n",
        "cd_33 = cd_for_itr_fd[:,0]\n",
        "row=cd_3\n",
        "col=cd_33\n",
        "for i, j in zip(row,col):\n",
        "  Mtx_fd[i-1,j-1] = 1\n",
        "print(Mtx_fd)"
      ],
      "metadata": {
        "id": "-DfyrxNAVmEF",
        "outputId": "3ee23a4b-3fb8-4a07-8d65-9cdb3aa6d95f",
        "colab": {
          "base_uri": "https://localhost:8080/"
        }
      },
      "execution_count": 94,
      "outputs": [
        {
          "output_type": "stream",
          "name": "stdout",
          "text": [
            "[[0. 0. 0. ... 0. 0. 0.]\n",
            " [0. 0. 0. ... 0. 0. 0.]\n",
            " [0. 0. 0. ... 0. 0. 0.]\n",
            " [1. 1. 1. ... 1. 1. 1.]]\n"
          ]
        }
      ]
    },
    {
      "cell_type": "code",
      "source": [
        "code_fd = Mtx_fd\n",
        "code_fd.shape"
      ],
      "metadata": {
        "id": "DCfHIGyDVmGS",
        "outputId": "f2455a66-907e-4352-f346-b9390cd05045",
        "colab": {
          "base_uri": "https://localhost:8080/"
        }
      },
      "execution_count": 95,
      "outputs": [
        {
          "output_type": "execute_result",
          "data": {
            "text/plain": [
              "(4, 402)"
            ]
          },
          "metadata": {},
          "execution_count": 95
        }
      ]
    },
    {
      "cell_type": "code",
      "source": [
        "fd = code@icio_2[0:3195,3195:3597]@code_fd.T # 최종수요를 12부문으로 만들기\n",
        "fd.shape"
      ],
      "metadata": {
        "id": "Q0YhpDKhVmIY",
        "outputId": "f64ecb36-5cf7-499c-8040-802cc26fab70",
        "colab": {
          "base_uri": "https://localhost:8080/"
        }
      },
      "execution_count": 96,
      "outputs": [
        {
          "output_type": "execute_result",
          "data": {
            "text/plain": [
              "(12, 4)"
            ]
          },
          "metadata": {},
          "execution_count": 96
        }
      ]
    },
    {
      "cell_type": "code",
      "source": [
        "fd_tx = code_cns@icio_2[3195:3262,3195:3597]@code_fd.T\n",
        "fd_tx.shape"
      ],
      "metadata": {
        "id": "NJdAdoVPtVq4",
        "outputId": "3d41f6aa-0c1d-4af0-ad2b-0f4b46c54406",
        "colab": {
          "base_uri": "https://localhost:8080/"
        }
      },
      "execution_count": 97,
      "outputs": [
        {
          "output_type": "execute_result",
          "data": {
            "text/plain": [
              "(4, 4)"
            ]
          },
          "metadata": {},
          "execution_count": 97
        }
      ]
    },
    {
      "cell_type": "code",
      "source": [
        "fd_row=np.concatenate((fd,fd_tx, np.zeros((2,4))))\n",
        "fd_row.shape"
      ],
      "metadata": {
        "colab": {
          "base_uri": "https://localhost:8080/"
        },
        "id": "LWL1uNCO_A95",
        "outputId": "5ede5945-35f8-4771-9e82-ea27213f205e"
      },
      "execution_count": 98,
      "outputs": [
        {
          "output_type": "execute_result",
          "data": {
            "text/plain": [
              "(18, 4)"
            ]
          },
          "metadata": {},
          "execution_count": 98
        }
      ]
    },
    {
      "cell_type": "code",
      "source": [
        "icio_row = np.concatenate((nae_tot_col,nae_tx, va_row))\n",
        "icio_row.shape"
      ],
      "metadata": {
        "id": "ydBppFx_VmKX",
        "colab": {
          "base_uri": "https://localhost:8080/"
        },
        "outputId": "2d8ced0d-bd38-48f1-d982-4968e27d6c8b"
      },
      "execution_count": 99,
      "outputs": [
        {
          "output_type": "execute_result",
          "data": {
            "text/plain": [
              "(18, 12)"
            ]
          },
          "metadata": {},
          "execution_count": 99
        }
      ]
    },
    {
      "cell_type": "code",
      "source": [
        "icio_col = np.concatenate((icio_row, fd_row), axis=1)"
      ],
      "metadata": {
        "id": "9AmJvsmzVmMM"
      },
      "execution_count": 100,
      "outputs": []
    },
    {
      "cell_type": "code",
      "source": [
        "icio_col_sm = icio_col.sum(axis=1).reshape([18,1]) # 충수요계(산출액과 동일)"
      ],
      "metadata": {
        "id": "8e_Mqf7KVmOa"
      },
      "execution_count": 101,
      "outputs": []
    },
    {
      "cell_type": "code",
      "source": [
        "icio_f = np.concatenate((icio_col, icio_col_sm), axis=1).astype(float)\n",
        "icio_f.shape"
      ],
      "metadata": {
        "id": "Ic43tRaAVmQd",
        "colab": {
          "base_uri": "https://localhost:8080/"
        },
        "outputId": "68a1e42c-7a2d-4f7f-8ba5-e576cff4999c"
      },
      "execution_count": 102,
      "outputs": [
        {
          "output_type": "execute_result",
          "data": {
            "text/plain": [
              "(18, 17)"
            ]
          },
          "metadata": {},
          "execution_count": 102
        }
      ]
    },
    {
      "cell_type": "code",
      "source": [
        "ICIO_trl = icio_f/1000"
      ],
      "metadata": {
        "id": "qKnF5r4EYE-_"
      },
      "execution_count": 103,
      "outputs": []
    },
    {
      "cell_type": "code",
      "source": [
        "ICIO_df = pd.DataFrame(ICIO_trl.round(1), columns = [['한국', '한국', '한국', '중국', '중국', '중국', '미국', '미국', '미국', 'ROW', 'ROW', 'ROW','한국', '중국', '미국', 'ROW','총계'],\n",
        "\n",
        "                                          ['농산품', '공산품', '서비스', '농산품', '공산품', '서비스', '농산품', '공산품', '서비스', '농산품', '공산품', '서비스', '최종수요','최종수요','최종수요','최종수요', '총수요']],\n",
        "\n",
        "                                    index=[['한국', '한국', '한국', '중국', '중국', '중국', '미국', '미국', '미국', 'ROW', 'ROW', 'ROW','세금_한국','세금_중국','세금_미국','세금_ROW','부가가치','총투입계'],\n",
        "                                           ['농산품', '공산품', '서비스', '농산품', '공산품', '서비스', '농산품', '공산품', '서비스', '농산품', '공산품', '서비스','세금_한국','세금_중국','세금_미국','세금_ROW','부가가치','총투입계']])\n",
        "ICIO_df.index.names=['국가', '산업']"
      ],
      "metadata": {
        "id": "PbW7JbEtWqs_"
      },
      "execution_count": 104,
      "outputs": []
    },
    {
      "cell_type": "code",
      "source": [
        "ICIO_df"
      ],
      "metadata": {
        "id": "ZOzmfVcnbtyA",
        "outputId": "a80d3a5d-84a1-4202-de01-fcc4754934d5",
        "colab": {
          "base_uri": "https://localhost:8080/",
          "height": 676
        }
      },
      "execution_count": 105,
      "outputs": [
        {
          "output_type": "execute_result",
          "data": {
            "text/plain": [
              "                 한국                      중국                       미국          \\\n",
              "                농산품     공산품     서비스     농산품      공산품      서비스    농산품     공산품   \n",
              "국가     산업                                                                      \n",
              "한국     농산품      2.5    28.2    10.2     0.0      0.0      0.0    0.0     0.2   \n",
              "       공산품     11.0   559.6   259.3     5.0    124.6     29.5    0.4    19.3   \n",
              "       서비스      8.5   263.3   542.1     1.1     13.9      9.9    0.0     1.7   \n",
              "중국     농산품      0.0     0.4     0.1   438.9    969.1    150.0    0.3     0.9   \n",
              "       공산품      0.7    53.2    18.3   457.1   8094.6   3401.8    1.8    88.1   \n",
              "       서비스      0.1     6.0     8.4   240.0   2611.0   3490.9    0.2     8.6   \n",
              "미국     농산품      0.1     1.3     0.4     2.0      4.7      0.8   83.0   208.8   \n",
              "       공산품      0.4    21.7     9.3     3.0     57.4     16.8   67.7  1665.8   \n",
              "       서비스      0.3     9.5    11.8     2.7     24.2     23.4  100.3  1495.1   \n",
              "ROW    농산품      0.2     2.5     1.0    13.9     31.2      4.2    7.1    23.3   \n",
              "       공산품      1.8   196.5    63.7    26.9    803.2    198.2    9.1   509.6   \n",
              "       서비스      0.7    31.2    39.2    13.6    147.1    118.1    4.1    97.6   \n",
              "세금_한국  세금_한국    0.8    33.6    47.5     0.0      0.0      0.0    0.0     0.0   \n",
              "세금_중국  세금_중국    0.0     0.0     0.0   -18.2    428.8    286.5    0.0     0.0   \n",
              "세금_미국  세금_미국    0.0     0.0     0.0     0.0      0.0      0.0    2.7    93.9   \n",
              "세금_ROW 세금_ROW  -0.0    -0.0    -0.0     0.0      0.0      0.0   -0.0    -0.0   \n",
              "부가가치   부가가치    30.1   461.4  1086.4   940.0   3875.2   7974.9  189.8  2624.2   \n",
              "총투입계   총투입계    57.2  1668.5  2097.7  2125.9  17184.8  15705.1  466.6  6837.0   \n",
              "\n",
              "                           ROW                        한국      중국       미국  \\\n",
              "                   서비스     농산품      공산품      서비스    최종수요    최종수요     최종수요   \n",
              "국가     산업                                                                   \n",
              "한국     농산품         0.1     0.1      0.2      0.1    15.2     0.1      0.1   \n",
              "       공산품        13.6     6.1    130.1     60.2   245.8    39.1     35.5   \n",
              "       서비스         4.2     0.8     14.4     27.0  1161.1    12.8      8.2   \n",
              "중국     농산품         0.3     1.2      5.0      1.3     0.3   550.9      0.5   \n",
              "       공산품        94.8    18.1    478.0    297.8    23.3  3220.6    237.0   \n",
              "       서비스        18.3     2.7     55.3    104.2    12.2  8961.9     39.8   \n",
              "미국     농산품        20.0     4.3     16.4      2.9     0.7     2.7    102.2   \n",
              "       공산품      1454.8    14.8    335.6    174.0    11.5    32.7   2574.7   \n",
              "       서비스      9182.1    10.7    174.8    375.5    16.9    61.0  16683.7   \n",
              "ROW    농산품         7.7   505.2   1251.1    311.0     1.6    17.5     13.6   \n",
              "       공산품       285.1   444.9   9130.0   5328.2    54.5   215.1    726.5   \n",
              "       서비스       243.6   500.1   5704.2  17444.1    37.3   280.0    408.9   \n",
              "세금_한국  세금_한국       0.0     0.0      0.0      0.0    65.1     0.3      0.1   \n",
              "세금_중국  세금_중국       0.0     0.0      0.0      0.0    -0.1   405.2     -0.1   \n",
              "세금_미국  세금_미국     219.4     0.0      0.0      0.0     0.5     1.9    422.9   \n",
              "세금_ROW 세금_ROW     -0.0    54.7    733.2   1177.3     0.4     5.7      5.6   \n",
              "부가가치   부가가치    17049.0  2264.7   9434.5  33971.1     0.0     0.0      0.0   \n",
              "총투입계   총투입계    28592.8  3828.5  27462.8  59274.5     0.0     0.0      0.0   \n",
              "\n",
              "                   ROW        총계  \n",
              "                  최종수요       총수요  \n",
              "국가     산업                         \n",
              "한국     농산품         0.2      57.2  \n",
              "       공산품       129.5    1668.5  \n",
              "       서비스        28.6    2097.7  \n",
              "중국     농산품         6.7    2125.9  \n",
              "       공산품       699.6   17184.8  \n",
              "       서비스       145.6   15705.1  \n",
              "미국     농산품        16.3     466.6  \n",
              "       공산품       396.8    6837.0  \n",
              "       서비스       420.9   28592.8  \n",
              "ROW    농산품      1637.3    3828.5  \n",
              "       공산품      9469.7   27462.8  \n",
              "       서비스     34204.8   59274.5  \n",
              "세금_한국  세금_한국       0.3     147.7  \n",
              "세금_중국  세금_중국      -0.4    1101.7  \n",
              "세금_미국  세금_미국       6.8     748.1  \n",
              "세금_ROW 세금_ROW   2171.1    4148.0  \n",
              "부가가치   부가가치        0.0   79901.4  \n",
              "총투입계   총투입계        0.0  165301.4  "
            ],
            "text/html": [
              "\n",
              "  <div id=\"df-d60ec9cf-2dca-421c-9db5-157ae2d14d7c\" class=\"colab-df-container\">\n",
              "    <div>\n",
              "<style scoped>\n",
              "    .dataframe tbody tr th:only-of-type {\n",
              "        vertical-align: middle;\n",
              "    }\n",
              "\n",
              "    .dataframe tbody tr th {\n",
              "        vertical-align: top;\n",
              "    }\n",
              "\n",
              "    .dataframe thead tr th {\n",
              "        text-align: left;\n",
              "    }\n",
              "\n",
              "    .dataframe thead tr:last-of-type th {\n",
              "        text-align: right;\n",
              "    }\n",
              "</style>\n",
              "<table border=\"1\" class=\"dataframe\">\n",
              "  <thead>\n",
              "    <tr>\n",
              "      <th></th>\n",
              "      <th></th>\n",
              "      <th colspan=\"3\" halign=\"left\">한국</th>\n",
              "      <th colspan=\"3\" halign=\"left\">중국</th>\n",
              "      <th colspan=\"3\" halign=\"left\">미국</th>\n",
              "      <th colspan=\"3\" halign=\"left\">ROW</th>\n",
              "      <th>한국</th>\n",
              "      <th>중국</th>\n",
              "      <th>미국</th>\n",
              "      <th>ROW</th>\n",
              "      <th>총계</th>\n",
              "    </tr>\n",
              "    <tr>\n",
              "      <th></th>\n",
              "      <th></th>\n",
              "      <th>농산품</th>\n",
              "      <th>공산품</th>\n",
              "      <th>서비스</th>\n",
              "      <th>농산품</th>\n",
              "      <th>공산품</th>\n",
              "      <th>서비스</th>\n",
              "      <th>농산품</th>\n",
              "      <th>공산품</th>\n",
              "      <th>서비스</th>\n",
              "      <th>농산품</th>\n",
              "      <th>공산품</th>\n",
              "      <th>서비스</th>\n",
              "      <th>최종수요</th>\n",
              "      <th>최종수요</th>\n",
              "      <th>최종수요</th>\n",
              "      <th>최종수요</th>\n",
              "      <th>총수요</th>\n",
              "    </tr>\n",
              "    <tr>\n",
              "      <th>국가</th>\n",
              "      <th>산업</th>\n",
              "      <th></th>\n",
              "      <th></th>\n",
              "      <th></th>\n",
              "      <th></th>\n",
              "      <th></th>\n",
              "      <th></th>\n",
              "      <th></th>\n",
              "      <th></th>\n",
              "      <th></th>\n",
              "      <th></th>\n",
              "      <th></th>\n",
              "      <th></th>\n",
              "      <th></th>\n",
              "      <th></th>\n",
              "      <th></th>\n",
              "      <th></th>\n",
              "      <th></th>\n",
              "    </tr>\n",
              "  </thead>\n",
              "  <tbody>\n",
              "    <tr>\n",
              "      <th rowspan=\"3\" valign=\"top\">한국</th>\n",
              "      <th>농산품</th>\n",
              "      <td>2.5</td>\n",
              "      <td>28.2</td>\n",
              "      <td>10.2</td>\n",
              "      <td>0.0</td>\n",
              "      <td>0.0</td>\n",
              "      <td>0.0</td>\n",
              "      <td>0.0</td>\n",
              "      <td>0.2</td>\n",
              "      <td>0.1</td>\n",
              "      <td>0.1</td>\n",
              "      <td>0.2</td>\n",
              "      <td>0.1</td>\n",
              "      <td>15.2</td>\n",
              "      <td>0.1</td>\n",
              "      <td>0.1</td>\n",
              "      <td>0.2</td>\n",
              "      <td>57.2</td>\n",
              "    </tr>\n",
              "    <tr>\n",
              "      <th>공산품</th>\n",
              "      <td>11.0</td>\n",
              "      <td>559.6</td>\n",
              "      <td>259.3</td>\n",
              "      <td>5.0</td>\n",
              "      <td>124.6</td>\n",
              "      <td>29.5</td>\n",
              "      <td>0.4</td>\n",
              "      <td>19.3</td>\n",
              "      <td>13.6</td>\n",
              "      <td>6.1</td>\n",
              "      <td>130.1</td>\n",
              "      <td>60.2</td>\n",
              "      <td>245.8</td>\n",
              "      <td>39.1</td>\n",
              "      <td>35.5</td>\n",
              "      <td>129.5</td>\n",
              "      <td>1668.5</td>\n",
              "    </tr>\n",
              "    <tr>\n",
              "      <th>서비스</th>\n",
              "      <td>8.5</td>\n",
              "      <td>263.3</td>\n",
              "      <td>542.1</td>\n",
              "      <td>1.1</td>\n",
              "      <td>13.9</td>\n",
              "      <td>9.9</td>\n",
              "      <td>0.0</td>\n",
              "      <td>1.7</td>\n",
              "      <td>4.2</td>\n",
              "      <td>0.8</td>\n",
              "      <td>14.4</td>\n",
              "      <td>27.0</td>\n",
              "      <td>1161.1</td>\n",
              "      <td>12.8</td>\n",
              "      <td>8.2</td>\n",
              "      <td>28.6</td>\n",
              "      <td>2097.7</td>\n",
              "    </tr>\n",
              "    <tr>\n",
              "      <th rowspan=\"3\" valign=\"top\">중국</th>\n",
              "      <th>농산품</th>\n",
              "      <td>0.0</td>\n",
              "      <td>0.4</td>\n",
              "      <td>0.1</td>\n",
              "      <td>438.9</td>\n",
              "      <td>969.1</td>\n",
              "      <td>150.0</td>\n",
              "      <td>0.3</td>\n",
              "      <td>0.9</td>\n",
              "      <td>0.3</td>\n",
              "      <td>1.2</td>\n",
              "      <td>5.0</td>\n",
              "      <td>1.3</td>\n",
              "      <td>0.3</td>\n",
              "      <td>550.9</td>\n",
              "      <td>0.5</td>\n",
              "      <td>6.7</td>\n",
              "      <td>2125.9</td>\n",
              "    </tr>\n",
              "    <tr>\n",
              "      <th>공산품</th>\n",
              "      <td>0.7</td>\n",
              "      <td>53.2</td>\n",
              "      <td>18.3</td>\n",
              "      <td>457.1</td>\n",
              "      <td>8094.6</td>\n",
              "      <td>3401.8</td>\n",
              "      <td>1.8</td>\n",
              "      <td>88.1</td>\n",
              "      <td>94.8</td>\n",
              "      <td>18.1</td>\n",
              "      <td>478.0</td>\n",
              "      <td>297.8</td>\n",
              "      <td>23.3</td>\n",
              "      <td>3220.6</td>\n",
              "      <td>237.0</td>\n",
              "      <td>699.6</td>\n",
              "      <td>17184.8</td>\n",
              "    </tr>\n",
              "    <tr>\n",
              "      <th>서비스</th>\n",
              "      <td>0.1</td>\n",
              "      <td>6.0</td>\n",
              "      <td>8.4</td>\n",
              "      <td>240.0</td>\n",
              "      <td>2611.0</td>\n",
              "      <td>3490.9</td>\n",
              "      <td>0.2</td>\n",
              "      <td>8.6</td>\n",
              "      <td>18.3</td>\n",
              "      <td>2.7</td>\n",
              "      <td>55.3</td>\n",
              "      <td>104.2</td>\n",
              "      <td>12.2</td>\n",
              "      <td>8961.9</td>\n",
              "      <td>39.8</td>\n",
              "      <td>145.6</td>\n",
              "      <td>15705.1</td>\n",
              "    </tr>\n",
              "    <tr>\n",
              "      <th rowspan=\"3\" valign=\"top\">미국</th>\n",
              "      <th>농산품</th>\n",
              "      <td>0.1</td>\n",
              "      <td>1.3</td>\n",
              "      <td>0.4</td>\n",
              "      <td>2.0</td>\n",
              "      <td>4.7</td>\n",
              "      <td>0.8</td>\n",
              "      <td>83.0</td>\n",
              "      <td>208.8</td>\n",
              "      <td>20.0</td>\n",
              "      <td>4.3</td>\n",
              "      <td>16.4</td>\n",
              "      <td>2.9</td>\n",
              "      <td>0.7</td>\n",
              "      <td>2.7</td>\n",
              "      <td>102.2</td>\n",
              "      <td>16.3</td>\n",
              "      <td>466.6</td>\n",
              "    </tr>\n",
              "    <tr>\n",
              "      <th>공산품</th>\n",
              "      <td>0.4</td>\n",
              "      <td>21.7</td>\n",
              "      <td>9.3</td>\n",
              "      <td>3.0</td>\n",
              "      <td>57.4</td>\n",
              "      <td>16.8</td>\n",
              "      <td>67.7</td>\n",
              "      <td>1665.8</td>\n",
              "      <td>1454.8</td>\n",
              "      <td>14.8</td>\n",
              "      <td>335.6</td>\n",
              "      <td>174.0</td>\n",
              "      <td>11.5</td>\n",
              "      <td>32.7</td>\n",
              "      <td>2574.7</td>\n",
              "      <td>396.8</td>\n",
              "      <td>6837.0</td>\n",
              "    </tr>\n",
              "    <tr>\n",
              "      <th>서비스</th>\n",
              "      <td>0.3</td>\n",
              "      <td>9.5</td>\n",
              "      <td>11.8</td>\n",
              "      <td>2.7</td>\n",
              "      <td>24.2</td>\n",
              "      <td>23.4</td>\n",
              "      <td>100.3</td>\n",
              "      <td>1495.1</td>\n",
              "      <td>9182.1</td>\n",
              "      <td>10.7</td>\n",
              "      <td>174.8</td>\n",
              "      <td>375.5</td>\n",
              "      <td>16.9</td>\n",
              "      <td>61.0</td>\n",
              "      <td>16683.7</td>\n",
              "      <td>420.9</td>\n",
              "      <td>28592.8</td>\n",
              "    </tr>\n",
              "    <tr>\n",
              "      <th rowspan=\"3\" valign=\"top\">ROW</th>\n",
              "      <th>농산품</th>\n",
              "      <td>0.2</td>\n",
              "      <td>2.5</td>\n",
              "      <td>1.0</td>\n",
              "      <td>13.9</td>\n",
              "      <td>31.2</td>\n",
              "      <td>4.2</td>\n",
              "      <td>7.1</td>\n",
              "      <td>23.3</td>\n",
              "      <td>7.7</td>\n",
              "      <td>505.2</td>\n",
              "      <td>1251.1</td>\n",
              "      <td>311.0</td>\n",
              "      <td>1.6</td>\n",
              "      <td>17.5</td>\n",
              "      <td>13.6</td>\n",
              "      <td>1637.3</td>\n",
              "      <td>3828.5</td>\n",
              "    </tr>\n",
              "    <tr>\n",
              "      <th>공산품</th>\n",
              "      <td>1.8</td>\n",
              "      <td>196.5</td>\n",
              "      <td>63.7</td>\n",
              "      <td>26.9</td>\n",
              "      <td>803.2</td>\n",
              "      <td>198.2</td>\n",
              "      <td>9.1</td>\n",
              "      <td>509.6</td>\n",
              "      <td>285.1</td>\n",
              "      <td>444.9</td>\n",
              "      <td>9130.0</td>\n",
              "      <td>5328.2</td>\n",
              "      <td>54.5</td>\n",
              "      <td>215.1</td>\n",
              "      <td>726.5</td>\n",
              "      <td>9469.7</td>\n",
              "      <td>27462.8</td>\n",
              "    </tr>\n",
              "    <tr>\n",
              "      <th>서비스</th>\n",
              "      <td>0.7</td>\n",
              "      <td>31.2</td>\n",
              "      <td>39.2</td>\n",
              "      <td>13.6</td>\n",
              "      <td>147.1</td>\n",
              "      <td>118.1</td>\n",
              "      <td>4.1</td>\n",
              "      <td>97.6</td>\n",
              "      <td>243.6</td>\n",
              "      <td>500.1</td>\n",
              "      <td>5704.2</td>\n",
              "      <td>17444.1</td>\n",
              "      <td>37.3</td>\n",
              "      <td>280.0</td>\n",
              "      <td>408.9</td>\n",
              "      <td>34204.8</td>\n",
              "      <td>59274.5</td>\n",
              "    </tr>\n",
              "    <tr>\n",
              "      <th>세금_한국</th>\n",
              "      <th>세금_한국</th>\n",
              "      <td>0.8</td>\n",
              "      <td>33.6</td>\n",
              "      <td>47.5</td>\n",
              "      <td>0.0</td>\n",
              "      <td>0.0</td>\n",
              "      <td>0.0</td>\n",
              "      <td>0.0</td>\n",
              "      <td>0.0</td>\n",
              "      <td>0.0</td>\n",
              "      <td>0.0</td>\n",
              "      <td>0.0</td>\n",
              "      <td>0.0</td>\n",
              "      <td>65.1</td>\n",
              "      <td>0.3</td>\n",
              "      <td>0.1</td>\n",
              "      <td>0.3</td>\n",
              "      <td>147.7</td>\n",
              "    </tr>\n",
              "    <tr>\n",
              "      <th>세금_중국</th>\n",
              "      <th>세금_중국</th>\n",
              "      <td>0.0</td>\n",
              "      <td>0.0</td>\n",
              "      <td>0.0</td>\n",
              "      <td>-18.2</td>\n",
              "      <td>428.8</td>\n",
              "      <td>286.5</td>\n",
              "      <td>0.0</td>\n",
              "      <td>0.0</td>\n",
              "      <td>0.0</td>\n",
              "      <td>0.0</td>\n",
              "      <td>0.0</td>\n",
              "      <td>0.0</td>\n",
              "      <td>-0.1</td>\n",
              "      <td>405.2</td>\n",
              "      <td>-0.1</td>\n",
              "      <td>-0.4</td>\n",
              "      <td>1101.7</td>\n",
              "    </tr>\n",
              "    <tr>\n",
              "      <th>세금_미국</th>\n",
              "      <th>세금_미국</th>\n",
              "      <td>0.0</td>\n",
              "      <td>0.0</td>\n",
              "      <td>0.0</td>\n",
              "      <td>0.0</td>\n",
              "      <td>0.0</td>\n",
              "      <td>0.0</td>\n",
              "      <td>2.7</td>\n",
              "      <td>93.9</td>\n",
              "      <td>219.4</td>\n",
              "      <td>0.0</td>\n",
              "      <td>0.0</td>\n",
              "      <td>0.0</td>\n",
              "      <td>0.5</td>\n",
              "      <td>1.9</td>\n",
              "      <td>422.9</td>\n",
              "      <td>6.8</td>\n",
              "      <td>748.1</td>\n",
              "    </tr>\n",
              "    <tr>\n",
              "      <th>세금_ROW</th>\n",
              "      <th>세금_ROW</th>\n",
              "      <td>-0.0</td>\n",
              "      <td>-0.0</td>\n",
              "      <td>-0.0</td>\n",
              "      <td>0.0</td>\n",
              "      <td>0.0</td>\n",
              "      <td>0.0</td>\n",
              "      <td>-0.0</td>\n",
              "      <td>-0.0</td>\n",
              "      <td>-0.0</td>\n",
              "      <td>54.7</td>\n",
              "      <td>733.2</td>\n",
              "      <td>1177.3</td>\n",
              "      <td>0.4</td>\n",
              "      <td>5.7</td>\n",
              "      <td>5.6</td>\n",
              "      <td>2171.1</td>\n",
              "      <td>4148.0</td>\n",
              "    </tr>\n",
              "    <tr>\n",
              "      <th>부가가치</th>\n",
              "      <th>부가가치</th>\n",
              "      <td>30.1</td>\n",
              "      <td>461.4</td>\n",
              "      <td>1086.4</td>\n",
              "      <td>940.0</td>\n",
              "      <td>3875.2</td>\n",
              "      <td>7974.9</td>\n",
              "      <td>189.8</td>\n",
              "      <td>2624.2</td>\n",
              "      <td>17049.0</td>\n",
              "      <td>2264.7</td>\n",
              "      <td>9434.5</td>\n",
              "      <td>33971.1</td>\n",
              "      <td>0.0</td>\n",
              "      <td>0.0</td>\n",
              "      <td>0.0</td>\n",
              "      <td>0.0</td>\n",
              "      <td>79901.4</td>\n",
              "    </tr>\n",
              "    <tr>\n",
              "      <th>총투입계</th>\n",
              "      <th>총투입계</th>\n",
              "      <td>57.2</td>\n",
              "      <td>1668.5</td>\n",
              "      <td>2097.7</td>\n",
              "      <td>2125.9</td>\n",
              "      <td>17184.8</td>\n",
              "      <td>15705.1</td>\n",
              "      <td>466.6</td>\n",
              "      <td>6837.0</td>\n",
              "      <td>28592.8</td>\n",
              "      <td>3828.5</td>\n",
              "      <td>27462.8</td>\n",
              "      <td>59274.5</td>\n",
              "      <td>0.0</td>\n",
              "      <td>0.0</td>\n",
              "      <td>0.0</td>\n",
              "      <td>0.0</td>\n",
              "      <td>165301.4</td>\n",
              "    </tr>\n",
              "  </tbody>\n",
              "</table>\n",
              "</div>\n",
              "    <div class=\"colab-df-buttons\">\n",
              "\n",
              "  <div class=\"colab-df-container\">\n",
              "    <button class=\"colab-df-convert\" onclick=\"convertToInteractive('df-d60ec9cf-2dca-421c-9db5-157ae2d14d7c')\"\n",
              "            title=\"Convert this dataframe to an interactive table.\"\n",
              "            style=\"display:none;\">\n",
              "\n",
              "  <svg xmlns=\"http://www.w3.org/2000/svg\" height=\"24px\" viewBox=\"0 -960 960 960\">\n",
              "    <path d=\"M120-120v-720h720v720H120Zm60-500h600v-160H180v160Zm220 220h160v-160H400v160Zm0 220h160v-160H400v160ZM180-400h160v-160H180v160Zm440 0h160v-160H620v160ZM180-180h160v-160H180v160Zm440 0h160v-160H620v160Z\"/>\n",
              "  </svg>\n",
              "    </button>\n",
              "\n",
              "  <style>\n",
              "    .colab-df-container {\n",
              "      display:flex;\n",
              "      gap: 12px;\n",
              "    }\n",
              "\n",
              "    .colab-df-convert {\n",
              "      background-color: #E8F0FE;\n",
              "      border: none;\n",
              "      border-radius: 50%;\n",
              "      cursor: pointer;\n",
              "      display: none;\n",
              "      fill: #1967D2;\n",
              "      height: 32px;\n",
              "      padding: 0 0 0 0;\n",
              "      width: 32px;\n",
              "    }\n",
              "\n",
              "    .colab-df-convert:hover {\n",
              "      background-color: #E2EBFA;\n",
              "      box-shadow: 0px 1px 2px rgba(60, 64, 67, 0.3), 0px 1px 3px 1px rgba(60, 64, 67, 0.15);\n",
              "      fill: #174EA6;\n",
              "    }\n",
              "\n",
              "    .colab-df-buttons div {\n",
              "      margin-bottom: 4px;\n",
              "    }\n",
              "\n",
              "    [theme=dark] .colab-df-convert {\n",
              "      background-color: #3B4455;\n",
              "      fill: #D2E3FC;\n",
              "    }\n",
              "\n",
              "    [theme=dark] .colab-df-convert:hover {\n",
              "      background-color: #434B5C;\n",
              "      box-shadow: 0px 1px 3px 1px rgba(0, 0, 0, 0.15);\n",
              "      filter: drop-shadow(0px 1px 2px rgba(0, 0, 0, 0.3));\n",
              "      fill: #FFFFFF;\n",
              "    }\n",
              "  </style>\n",
              "\n",
              "    <script>\n",
              "      const buttonEl =\n",
              "        document.querySelector('#df-d60ec9cf-2dca-421c-9db5-157ae2d14d7c button.colab-df-convert');\n",
              "      buttonEl.style.display =\n",
              "        google.colab.kernel.accessAllowed ? 'block' : 'none';\n",
              "\n",
              "      async function convertToInteractive(key) {\n",
              "        const element = document.querySelector('#df-d60ec9cf-2dca-421c-9db5-157ae2d14d7c');\n",
              "        const dataTable =\n",
              "          await google.colab.kernel.invokeFunction('convertToInteractive',\n",
              "                                                    [key], {});\n",
              "        if (!dataTable) return;\n",
              "\n",
              "        const docLinkHtml = 'Like what you see? Visit the ' +\n",
              "          '<a target=\"_blank\" href=https://colab.research.google.com/notebooks/data_table.ipynb>data table notebook</a>'\n",
              "          + ' to learn more about interactive tables.';\n",
              "        element.innerHTML = '';\n",
              "        dataTable['output_type'] = 'display_data';\n",
              "        await google.colab.output.renderOutput(dataTable, element);\n",
              "        const docLink = document.createElement('div');\n",
              "        docLink.innerHTML = docLinkHtml;\n",
              "        element.appendChild(docLink);\n",
              "      }\n",
              "    </script>\n",
              "  </div>\n",
              "\n",
              "\n",
              "<div id=\"df-d12f9a0c-e602-4f27-8f93-6933cd10ec95\">\n",
              "  <button class=\"colab-df-quickchart\" onclick=\"quickchart('df-d12f9a0c-e602-4f27-8f93-6933cd10ec95')\"\n",
              "            title=\"Suggest charts.\"\n",
              "            style=\"display:none;\">\n",
              "\n",
              "<svg xmlns=\"http://www.w3.org/2000/svg\" height=\"24px\"viewBox=\"0 0 24 24\"\n",
              "     width=\"24px\">\n",
              "    <g>\n",
              "        <path d=\"M19 3H5c-1.1 0-2 .9-2 2v14c0 1.1.9 2 2 2h14c1.1 0 2-.9 2-2V5c0-1.1-.9-2-2-2zM9 17H7v-7h2v7zm4 0h-2V7h2v10zm4 0h-2v-4h2v4z\"/>\n",
              "    </g>\n",
              "</svg>\n",
              "  </button>\n",
              "\n",
              "<style>\n",
              "  .colab-df-quickchart {\n",
              "      --bg-color: #E8F0FE;\n",
              "      --fill-color: #1967D2;\n",
              "      --hover-bg-color: #E2EBFA;\n",
              "      --hover-fill-color: #174EA6;\n",
              "      --disabled-fill-color: #AAA;\n",
              "      --disabled-bg-color: #DDD;\n",
              "  }\n",
              "\n",
              "  [theme=dark] .colab-df-quickchart {\n",
              "      --bg-color: #3B4455;\n",
              "      --fill-color: #D2E3FC;\n",
              "      --hover-bg-color: #434B5C;\n",
              "      --hover-fill-color: #FFFFFF;\n",
              "      --disabled-bg-color: #3B4455;\n",
              "      --disabled-fill-color: #666;\n",
              "  }\n",
              "\n",
              "  .colab-df-quickchart {\n",
              "    background-color: var(--bg-color);\n",
              "    border: none;\n",
              "    border-radius: 50%;\n",
              "    cursor: pointer;\n",
              "    display: none;\n",
              "    fill: var(--fill-color);\n",
              "    height: 32px;\n",
              "    padding: 0;\n",
              "    width: 32px;\n",
              "  }\n",
              "\n",
              "  .colab-df-quickchart:hover {\n",
              "    background-color: var(--hover-bg-color);\n",
              "    box-shadow: 0 1px 2px rgba(60, 64, 67, 0.3), 0 1px 3px 1px rgba(60, 64, 67, 0.15);\n",
              "    fill: var(--button-hover-fill-color);\n",
              "  }\n",
              "\n",
              "  .colab-df-quickchart-complete:disabled,\n",
              "  .colab-df-quickchart-complete:disabled:hover {\n",
              "    background-color: var(--disabled-bg-color);\n",
              "    fill: var(--disabled-fill-color);\n",
              "    box-shadow: none;\n",
              "  }\n",
              "\n",
              "  .colab-df-spinner {\n",
              "    border: 2px solid var(--fill-color);\n",
              "    border-color: transparent;\n",
              "    border-bottom-color: var(--fill-color);\n",
              "    animation:\n",
              "      spin 1s steps(1) infinite;\n",
              "  }\n",
              "\n",
              "  @keyframes spin {\n",
              "    0% {\n",
              "      border-color: transparent;\n",
              "      border-bottom-color: var(--fill-color);\n",
              "      border-left-color: var(--fill-color);\n",
              "    }\n",
              "    20% {\n",
              "      border-color: transparent;\n",
              "      border-left-color: var(--fill-color);\n",
              "      border-top-color: var(--fill-color);\n",
              "    }\n",
              "    30% {\n",
              "      border-color: transparent;\n",
              "      border-left-color: var(--fill-color);\n",
              "      border-top-color: var(--fill-color);\n",
              "      border-right-color: var(--fill-color);\n",
              "    }\n",
              "    40% {\n",
              "      border-color: transparent;\n",
              "      border-right-color: var(--fill-color);\n",
              "      border-top-color: var(--fill-color);\n",
              "    }\n",
              "    60% {\n",
              "      border-color: transparent;\n",
              "      border-right-color: var(--fill-color);\n",
              "    }\n",
              "    80% {\n",
              "      border-color: transparent;\n",
              "      border-right-color: var(--fill-color);\n",
              "      border-bottom-color: var(--fill-color);\n",
              "    }\n",
              "    90% {\n",
              "      border-color: transparent;\n",
              "      border-bottom-color: var(--fill-color);\n",
              "    }\n",
              "  }\n",
              "</style>\n",
              "\n",
              "  <script>\n",
              "    async function quickchart(key) {\n",
              "      const quickchartButtonEl =\n",
              "        document.querySelector('#' + key + ' button');\n",
              "      quickchartButtonEl.disabled = true;  // To prevent multiple clicks.\n",
              "      quickchartButtonEl.classList.add('colab-df-spinner');\n",
              "      try {\n",
              "        const charts = await google.colab.kernel.invokeFunction(\n",
              "            'suggestCharts', [key], {});\n",
              "      } catch (error) {\n",
              "        console.error('Error during call to suggestCharts:', error);\n",
              "      }\n",
              "      quickchartButtonEl.classList.remove('colab-df-spinner');\n",
              "      quickchartButtonEl.classList.add('colab-df-quickchart-complete');\n",
              "    }\n",
              "    (() => {\n",
              "      let quickchartButtonEl =\n",
              "        document.querySelector('#df-d12f9a0c-e602-4f27-8f93-6933cd10ec95 button');\n",
              "      quickchartButtonEl.style.display =\n",
              "        google.colab.kernel.accessAllowed ? 'block' : 'none';\n",
              "    })();\n",
              "  </script>\n",
              "</div>\n",
              "    </div>\n",
              "  </div>\n"
            ]
          },
          "metadata": {},
          "execution_count": 105
        }
      ]
    },
    {
      "cell_type": "code",
      "source": [
        "ICIO_df.to_csv('ICIO_4cons_3secs_1Fd.csv',encoding=\"utf-8-sig\")"
      ],
      "metadata": {
        "id": "BnRT1-4nJC-m"
      },
      "execution_count": 106,
      "outputs": []
    },
    {
      "cell_type": "code",
      "source": [],
      "metadata": {
        "id": "BdNvKl_JdRX0"
      },
      "execution_count": 106,
      "outputs": []
    }
  ]
}