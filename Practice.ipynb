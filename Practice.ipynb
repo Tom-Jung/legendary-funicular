{
  "nbformat": 4,
  "nbformat_minor": 0,
  "metadata": {
    "colab": {
      "provenance": [],
      "authorship_tag": "ABX9TyOeJRFjDUVZjVAbNOfzWnm0",
      "include_colab_link": true
    },
    "kernelspec": {
      "name": "python3",
      "display_name": "Python 3"
    },
    "language_info": {
      "name": "python"
    }
  },
  "cells": [
    {
      "cell_type": "markdown",
      "metadata": {
        "id": "view-in-github",
        "colab_type": "text"
      },
      "source": [
        "<a href=\"https://colab.research.google.com/github/Tom-Jung/legendary-funicular/blob/main/Practice.ipynb\" target=\"_parent\"><img src=\"https://colab.research.google.com/assets/colab-badge.svg\" alt=\"Open In Colab\"/></a>"
      ]
    },
    {
      "cell_type": "code",
      "execution_count": 2,
      "metadata": {
        "id": "Vik7Cj1D9wkY"
      },
      "outputs": [],
      "source": [
        "import numpy as np"
      ]
    },
    {
      "cell_type": "code",
      "source": [
        "# python list\n",
        "arr = [1,2,3,4,5,6,7,8]\n",
        "arr.insert(2,50)\n",
        "print(arr)\n",
        "\n",
        "# 1차원 배열\n",
        "\n",
        "arr = np.arange(1,9)\n",
        "arr = np.insert(arr, 2,50)\n",
        "print(arr)"
      ],
      "metadata": {
        "colab": {
          "base_uri": "https://localhost:8080/"
        },
        "id": "0BqLH54l90WR",
        "outputId": "c1288cd2-951f-4200-e5c4-5a2142954d1b"
      },
      "execution_count": 4,
      "outputs": [
        {
          "output_type": "stream",
          "name": "stdout",
          "text": [
            "[1, 2, 50, 3, 4, 5, 6, 7, 8]\n",
            "[ 1  2 50  3  4  5  6  7  8]\n"
          ]
        }
      ]
    },
    {
      "cell_type": "code",
      "source": [
        "#2차원 배열\n",
        "\n",
        "arr = np.arange(1,13).reshape(3,4)\n",
        "arr = np.insert(arr,2,50, axis=0)\n",
        "print(arr)"
      ],
      "metadata": {
        "colab": {
          "base_uri": "https://localhost:8080/"
        },
        "id": "0Z0ImN2c990I",
        "outputId": "ca0ec959-de36-4cf3-d555-08af252d2d9a"
      },
      "execution_count": 7,
      "outputs": [
        {
          "output_type": "stream",
          "name": "stdout",
          "text": [
            "[[ 1  2  3  4]\n",
            " [ 5  6  7  8]\n",
            " [50 50 50 50]\n",
            " [ 9 10 11 12]]\n"
          ]
        }
      ]
    },
    {
      "cell_type": "code",
      "source": [
        "#2차원 배열\n",
        "\n",
        "arr = np.arange(1,13).reshape(3,4)\n",
        "arr = np.insert(arr,2,50)\n",
        "print(arr)"
      ],
      "metadata": {
        "colab": {
          "base_uri": "https://localhost:8080/"
        },
        "id": "rJ701iWI-Z3K",
        "outputId": "0d4ec6bc-f7dc-473c-d432-9125721b7bd9"
      },
      "execution_count": 9,
      "outputs": [
        {
          "output_type": "stream",
          "name": "stdout",
          "text": [
            "[ 1  2 50  3  4  5  6  7  8  9 10 11 12]\n"
          ]
        }
      ]
    },
    {
      "cell_type": "code",
      "source": [
        "# delete()\n",
        "\n",
        "arr = np.arange(1,13).reshape(3,4)\n",
        "print(arr)\n",
        "\n",
        "arr = np.delete(arr,2, axis=0)\n",
        "print(arr)"
      ],
      "metadata": {
        "colab": {
          "base_uri": "https://localhost:8080/"
        },
        "id": "AivIBXa2-jLv",
        "outputId": "903e5bb3-c086-47b5-cb8e-660f025c7fc9"
      },
      "execution_count": 12,
      "outputs": [
        {
          "output_type": "stream",
          "name": "stdout",
          "text": [
            "[[ 1  2  3  4]\n",
            " [ 5  6  7  8]\n",
            " [ 9 10 11 12]]\n",
            "[[1 2 3 4]\n",
            " [5 6 7 8]]\n"
          ]
        }
      ]
    },
    {
      "cell_type": "code",
      "source": [
        "# delete()\n",
        "\n",
        "arr = np.arange(1,13).reshape(3,4)\n",
        "print(arr)\n",
        "\n",
        "arr = np.delete(arr,2, axis=1)\n",
        "print(arr)"
      ],
      "metadata": {
        "colab": {
          "base_uri": "https://localhost:8080/"
        },
        "id": "WT_L-eR--l4k",
        "outputId": "2399c4a7-99a6-4ea5-b594-34620c86aa91"
      },
      "execution_count": 13,
      "outputs": [
        {
          "output_type": "stream",
          "name": "stdout",
          "text": [
            "[[ 1  2  3  4]\n",
            " [ 5  6  7  8]\n",
            " [ 9 10 11 12]]\n",
            "[[ 1  2  4]\n",
            " [ 5  6  8]\n",
            " [ 9 10 12]]\n"
          ]
        }
      ]
    },
    {
      "cell_type": "code",
      "source": [
        "# delete()\n",
        "\n",
        "arr = np.arange(1,13).reshape(3,4)\n",
        "print(arr)\n",
        "\n",
        "arr = np.delete(arr,2)\n",
        "print(arr)"
      ],
      "metadata": {
        "colab": {
          "base_uri": "https://localhost:8080/"
        },
        "id": "lnlsJhrV-l7K",
        "outputId": "26d3ccb1-d478-4047-c48c-73655d7608ba"
      },
      "execution_count": 14,
      "outputs": [
        {
          "output_type": "stream",
          "name": "stdout",
          "text": [
            "[[ 1  2  3  4]\n",
            " [ 5  6  7  8]\n",
            " [ 9 10 11 12]]\n",
            "[ 1  2  4  5  6  7  8  9 10 11 12]\n"
          ]
        }
      ]
    },
    {
      "cell_type": "markdown",
      "source": [
        "# 배열간의 병합"
      ],
      "metadata": {
        "id": "Ytwo6XRX_UX4"
      }
    },
    {
      "cell_type": "code",
      "source": [
        "# append()\n",
        "\n",
        "arr1 = np.arange(1,13).reshape(3,4)\n",
        "arr2 = np.arange(13,25).reshape(3,4)\n",
        "\n",
        "print(arr1)\n",
        "print(arr2,end=\"\\n\\n\")\n",
        "\n",
        "#axis=0\n",
        "\n",
        "arr3 = np.append(arr1, arr2, axis=0)\n",
        "print(arr3, end=\"\\n\\n\")"
      ],
      "metadata": {
        "colab": {
          "base_uri": "https://localhost:8080/"
        },
        "id": "Cg77aM_u-l9z",
        "outputId": "d92c650a-e40b-4ff5-ddaa-fcfa4f0e7f36"
      },
      "execution_count": 16,
      "outputs": [
        {
          "output_type": "stream",
          "name": "stdout",
          "text": [
            "[[ 1  2  3  4]\n",
            " [ 5  6  7  8]\n",
            " [ 9 10 11 12]]\n",
            "[[13 14 15 16]\n",
            " [17 18 19 20]\n",
            " [21 22 23 24]]\n",
            "\n",
            "[[ 1  2  3  4]\n",
            " [ 5  6  7  8]\n",
            " [ 9 10 11 12]\n",
            " [13 14 15 16]\n",
            " [17 18 19 20]\n",
            " [21 22 23 24]]\n",
            "\n"
          ]
        }
      ]
    },
    {
      "cell_type": "code",
      "source": [
        "# append()\n",
        "\n",
        "arr1 = np.arange(1,13).reshape(3,4)\n",
        "arr2 = np.arange(13,25).reshape(3,4)\n",
        "\n",
        "print(arr1)\n",
        "print(arr2,end=\"\\n\\n\")\n",
        "\n",
        "#axis=0\n",
        "\n",
        "arr3 = np.append(arr1, arr2, axis=1)\n",
        "print(arr3, end=\"\\n\\n\")"
      ],
      "metadata": {
        "colab": {
          "base_uri": "https://localhost:8080/"
        },
        "id": "qvq3oQoD_XZF",
        "outputId": "1842da31-09a5-434e-ccef-9fdd0a9e0250"
      },
      "execution_count": 17,
      "outputs": [
        {
          "output_type": "stream",
          "name": "stdout",
          "text": [
            "[[ 1  2  3  4]\n",
            " [ 5  6  7  8]\n",
            " [ 9 10 11 12]]\n",
            "[[13 14 15 16]\n",
            " [17 18 19 20]\n",
            " [21 22 23 24]]\n",
            "\n",
            "[[ 1  2  3  4 13 14 15 16]\n",
            " [ 5  6  7  8 17 18 19 20]\n",
            " [ 9 10 11 12 21 22 23 24]]\n",
            "\n"
          ]
        }
      ]
    },
    {
      "cell_type": "code",
      "source": [
        "# append()\n",
        "\n",
        "arr1 = np.arange(1,13).reshape(3,4)\n",
        "arr2 = np.arange(13,25).reshape(3,4)\n",
        "\n",
        "print(arr1)\n",
        "print(arr2,end=\"\\n\\n\")\n",
        "\n",
        "#axis=0\n",
        "\n",
        "arr3 = np.append(arr1, arr2)\n",
        "print(arr3, end=\"\\n\\n\")"
      ],
      "metadata": {
        "colab": {
          "base_uri": "https://localhost:8080/"
        },
        "id": "IxjG49U2_Xbs",
        "outputId": "ecd212bd-2426-479a-8088-f1fb0c81c259"
      },
      "execution_count": 18,
      "outputs": [
        {
          "output_type": "stream",
          "name": "stdout",
          "text": [
            "[[ 1  2  3  4]\n",
            " [ 5  6  7  8]\n",
            " [ 9 10 11 12]]\n",
            "[[13 14 15 16]\n",
            " [17 18 19 20]\n",
            " [21 22 23 24]]\n",
            "\n",
            "[ 1  2  3  4  5  6  7  8  9 10 11 12 13 14 15 16 17 18 19 20 21 22 23 24]\n",
            "\n"
          ]
        }
      ]
    },
    {
      "cell_type": "code",
      "source": [
        "# vstack(), hstack()\n",
        "arr1 = np.arange(1,7).reshape(2,3)\n",
        "arr2 = np.arange(7,13).reshape(2,3)\n",
        "\n",
        "arr3 = np.vstack((arr1,arr2))\n",
        "print(arr3)"
      ],
      "metadata": {
        "colab": {
          "base_uri": "https://localhost:8080/"
        },
        "id": "I0lDlCbQ_XeV",
        "outputId": "4cd68015-fbfd-4388-ff4e-4f6b69172a67"
      },
      "execution_count": 20,
      "outputs": [
        {
          "output_type": "stream",
          "name": "stdout",
          "text": [
            "[[ 1  2  3]\n",
            " [ 4  5  6]\n",
            " [ 7  8  9]\n",
            " [10 11 12]]\n"
          ]
        }
      ]
    },
    {
      "cell_type": "code",
      "source": [
        "# vstack(), hstack()\n",
        "arr1 = np.arange(1,7).reshape(2,3)\n",
        "arr2 = np.arange(7,13).reshape(2,3)\n",
        "\n",
        "arr3 = np.hstack((arr1,arr2))\n",
        "print(arr3)"
      ],
      "metadata": {
        "colab": {
          "base_uri": "https://localhost:8080/"
        },
        "id": "YGP-OIZXAgNG",
        "outputId": "9676911c-0238-40c9-fc96-e91f37bdebac"
      },
      "execution_count": 21,
      "outputs": [
        {
          "output_type": "stream",
          "name": "stdout",
          "text": [
            "[[ 1  2  3  7  8  9]\n",
            " [ 4  5  6 10 11 12]]\n"
          ]
        }
      ]
    },
    {
      "cell_type": "code",
      "source": [
        "# concatenate()\n",
        "\n",
        "# vstack(), hstack()\n",
        "arr1 = np.arange(1,7).reshape(2,3)\n",
        "arr2 = np.arange(7,13).reshape(2,3)\n",
        "\n",
        "arr3 = np.concatenate([arr1,arr2], axis=0)\n",
        "print(arr3)"
      ],
      "metadata": {
        "colab": {
          "base_uri": "https://localhost:8080/"
        },
        "id": "9t1jA585AsnA",
        "outputId": "00c4986a-a6bb-497e-9281-d32dcca21ca3"
      },
      "execution_count": 22,
      "outputs": [
        {
          "output_type": "stream",
          "name": "stdout",
          "text": [
            "[[ 1  2  3]\n",
            " [ 4  5  6]\n",
            " [ 7  8  9]\n",
            " [10 11 12]]\n"
          ]
        }
      ]
    },
    {
      "cell_type": "code",
      "source": [
        "# concatenate()\n",
        "\n",
        "# vstack(), hstack()\n",
        "arr1 = np.arange(1,7).reshape(2,3)\n",
        "arr2 = np.arange(7,13).reshape(2,3)\n",
        "\n",
        "arr3 = np.concatenate([arr1,arr2], axis=1)\n",
        "print(arr3)"
      ],
      "metadata": {
        "colab": {
          "base_uri": "https://localhost:8080/"
        },
        "id": "-NwDyCHoA2hk",
        "outputId": "7071531d-27cc-4ec1-85f1-c4d95e6c9a03"
      },
      "execution_count": 23,
      "outputs": [
        {
          "output_type": "stream",
          "name": "stdout",
          "text": [
            "[[ 1  2  3  7  8  9]\n",
            " [ 4  5  6 10 11 12]]\n"
          ]
        }
      ]
    },
    {
      "cell_type": "markdown",
      "source": [
        "# 배열의 분할"
      ],
      "metadata": {
        "id": "6ZG6Iew0B1_4"
      }
    },
    {
      "cell_type": "code",
      "source": [
        "arr = np.arange(1,13).reshape(3,4)\n",
        "print(arr)\n",
        "\n",
        "#vsplit() ===> axis=0\n",
        "arr_vsplit= np.split(arr,3)\n",
        "\n",
        "print(arr_vsplit)"
      ],
      "metadata": {
        "colab": {
          "base_uri": "https://localhost:8080/"
        },
        "id": "DCM7UibDA6W8",
        "outputId": "f4120466-18ee-4459-db74-7918f0a95925"
      },
      "execution_count": 26,
      "outputs": [
        {
          "output_type": "stream",
          "name": "stdout",
          "text": [
            "[[ 1  2  3  4]\n",
            " [ 5  6  7  8]\n",
            " [ 9 10 11 12]]\n",
            "[array([[1, 2, 3, 4]]), array([[5, 6, 7, 8]]), array([[ 9, 10, 11, 12]])]\n"
          ]
        }
      ]
    },
    {
      "cell_type": "code",
      "source": [
        "arr = np.arange(1,13).reshape(3,4)\n",
        "print(arr)\n",
        "\n",
        "#vsplit() ===> axis=0\n",
        "arr_hsplit= np.hsplit(arr,2)\n",
        "\n",
        "print(arr_hsplit)"
      ],
      "metadata": {
        "colab": {
          "base_uri": "https://localhost:8080/"
        },
        "id": "ir1nRXInB8za",
        "outputId": "44aab5af-bce6-46ee-980b-1e297225ecf5"
      },
      "execution_count": 28,
      "outputs": [
        {
          "output_type": "stream",
          "name": "stdout",
          "text": [
            "[[ 1  2  3  4]\n",
            " [ 5  6  7  8]\n",
            " [ 9 10 11 12]]\n",
            "[array([[ 1,  2],\n",
            "       [ 5,  6],\n",
            "       [ 9, 10]]), array([[ 3,  4],\n",
            "       [ 7,  8],\n",
            "       [11, 12]])]\n"
          ]
        }
      ]
    },
    {
      "cell_type": "code",
      "source": [
        "#3차원 배열\n",
        "arr = np.random.randint(0,10,(4,6,8))\n",
        "print(arr)"
      ],
      "metadata": {
        "colab": {
          "base_uri": "https://localhost:8080/"
        },
        "id": "-IzAZbNCCaPe",
        "outputId": "48073678-6560-4c0d-d84c-365462c8ff19"
      },
      "execution_count": 29,
      "outputs": [
        {
          "output_type": "stream",
          "name": "stdout",
          "text": [
            "[[[1 6 0 4 3 6 9 8]\n",
            "  [8 8 3 9 4 3 1 0]\n",
            "  [7 2 3 5 4 6 2 7]\n",
            "  [3 2 8 6 1 4 9 6]\n",
            "  [8 6 4 8 6 4 2 1]\n",
            "  [1 6 1 9 6 4 5 6]]\n",
            "\n",
            " [[0 2 1 0 9 4 7 2]\n",
            "  [7 2 1 6 1 9 1 8]\n",
            "  [6 2 9 5 0 9 1 0]\n",
            "  [6 7 9 5 5 1 6 9]\n",
            "  [8 6 9 0 4 1 4 3]\n",
            "  [3 5 4 5 4 7 9 0]]\n",
            "\n",
            " [[3 4 4 3 1 0 8 5]\n",
            "  [1 2 6 7 8 7 9 4]\n",
            "  [4 7 4 1 5 4 6 5]\n",
            "  [4 3 7 2 0 6 7 0]\n",
            "  [1 1 9 7 4 9 7 3]\n",
            "  [9 9 3 4 3 5 2 4]]\n",
            "\n",
            " [[5 6 4 4 2 6 5 7]\n",
            "  [0 8 3 4 5 7 6 1]\n",
            "  [9 4 0 7 3 8 4 7]\n",
            "  [5 3 7 0 1 9 0 6]\n",
            "  [3 0 2 0 2 3 6 7]\n",
            "  [5 0 8 7 8 7 7 3]]]\n"
          ]
        }
      ]
    },
    {
      "cell_type": "code",
      "source": [
        "arr_vsplit = np.vsplit(arr,2)\n",
        "print(arr_vsplit)"
      ],
      "metadata": {
        "colab": {
          "base_uri": "https://localhost:8080/"
        },
        "id": "iFLSW37MC8QZ",
        "outputId": "b282a2b2-be35-4740-fa2a-3a10d27dc2f5"
      },
      "execution_count": 30,
      "outputs": [
        {
          "output_type": "stream",
          "name": "stdout",
          "text": [
            "[array([[[1, 6, 0, 4, 3, 6, 9, 8],\n",
            "        [8, 8, 3, 9, 4, 3, 1, 0],\n",
            "        [7, 2, 3, 5, 4, 6, 2, 7],\n",
            "        [3, 2, 8, 6, 1, 4, 9, 6],\n",
            "        [8, 6, 4, 8, 6, 4, 2, 1],\n",
            "        [1, 6, 1, 9, 6, 4, 5, 6]],\n",
            "\n",
            "       [[0, 2, 1, 0, 9, 4, 7, 2],\n",
            "        [7, 2, 1, 6, 1, 9, 1, 8],\n",
            "        [6, 2, 9, 5, 0, 9, 1, 0],\n",
            "        [6, 7, 9, 5, 5, 1, 6, 9],\n",
            "        [8, 6, 9, 0, 4, 1, 4, 3],\n",
            "        [3, 5, 4, 5, 4, 7, 9, 0]]]), array([[[3, 4, 4, 3, 1, 0, 8, 5],\n",
            "        [1, 2, 6, 7, 8, 7, 9, 4],\n",
            "        [4, 7, 4, 1, 5, 4, 6, 5],\n",
            "        [4, 3, 7, 2, 0, 6, 7, 0],\n",
            "        [1, 1, 9, 7, 4, 9, 7, 3],\n",
            "        [9, 9, 3, 4, 3, 5, 2, 4]],\n",
            "\n",
            "       [[5, 6, 4, 4, 2, 6, 5, 7],\n",
            "        [0, 8, 3, 4, 5, 7, 6, 1],\n",
            "        [9, 4, 0, 7, 3, 8, 4, 7],\n",
            "        [5, 3, 7, 0, 1, 9, 0, 6],\n",
            "        [3, 0, 2, 0, 2, 3, 6, 7],\n",
            "        [5, 0, 8, 7, 8, 7, 7, 3]]])]\n"
          ]
        }
      ]
    },
    {
      "cell_type": "code",
      "source": [
        "arr_hsplit = np.hsplit(arr,2)\n",
        "print(arr_hsplit)"
      ],
      "metadata": {
        "colab": {
          "base_uri": "https://localhost:8080/"
        },
        "id": "gMi9mPCyDJ-C",
        "outputId": "351e5f95-6575-4fa5-b66f-d6646d318c53"
      },
      "execution_count": 31,
      "outputs": [
        {
          "output_type": "stream",
          "name": "stdout",
          "text": [
            "[array([[[1, 6, 0, 4, 3, 6, 9, 8],\n",
            "        [8, 8, 3, 9, 4, 3, 1, 0],\n",
            "        [7, 2, 3, 5, 4, 6, 2, 7]],\n",
            "\n",
            "       [[0, 2, 1, 0, 9, 4, 7, 2],\n",
            "        [7, 2, 1, 6, 1, 9, 1, 8],\n",
            "        [6, 2, 9, 5, 0, 9, 1, 0]],\n",
            "\n",
            "       [[3, 4, 4, 3, 1, 0, 8, 5],\n",
            "        [1, 2, 6, 7, 8, 7, 9, 4],\n",
            "        [4, 7, 4, 1, 5, 4, 6, 5]],\n",
            "\n",
            "       [[5, 6, 4, 4, 2, 6, 5, 7],\n",
            "        [0, 8, 3, 4, 5, 7, 6, 1],\n",
            "        [9, 4, 0, 7, 3, 8, 4, 7]]]), array([[[3, 2, 8, 6, 1, 4, 9, 6],\n",
            "        [8, 6, 4, 8, 6, 4, 2, 1],\n",
            "        [1, 6, 1, 9, 6, 4, 5, 6]],\n",
            "\n",
            "       [[6, 7, 9, 5, 5, 1, 6, 9],\n",
            "        [8, 6, 9, 0, 4, 1, 4, 3],\n",
            "        [3, 5, 4, 5, 4, 7, 9, 0]],\n",
            "\n",
            "       [[4, 3, 7, 2, 0, 6, 7, 0],\n",
            "        [1, 1, 9, 7, 4, 9, 7, 3],\n",
            "        [9, 9, 3, 4, 3, 5, 2, 4]],\n",
            "\n",
            "       [[5, 3, 7, 0, 1, 9, 0, 6],\n",
            "        [3, 0, 2, 0, 2, 3, 6, 7],\n",
            "        [5, 0, 8, 7, 8, 7, 7, 3]]])]\n"
          ]
        }
      ]
    },
    {
      "cell_type": "code",
      "source": [
        "arr = np.full((3,4,5),3)\n",
        "arr"
      ],
      "metadata": {
        "colab": {
          "base_uri": "https://localhost:8080/"
        },
        "id": "3PBZ625tDQEX",
        "outputId": "6eec7994-04d8-4c11-ec9a-17d7ca06b70f"
      },
      "execution_count": 33,
      "outputs": [
        {
          "output_type": "execute_result",
          "data": {
            "text/plain": [
              "array([[[3, 3, 3, 3, 3],\n",
              "        [3, 3, 3, 3, 3],\n",
              "        [3, 3, 3, 3, 3],\n",
              "        [3, 3, 3, 3, 3]],\n",
              "\n",
              "       [[3, 3, 3, 3, 3],\n",
              "        [3, 3, 3, 3, 3],\n",
              "        [3, 3, 3, 3, 3],\n",
              "        [3, 3, 3, 3, 3]],\n",
              "\n",
              "       [[3, 3, 3, 3, 3],\n",
              "        [3, 3, 3, 3, 3],\n",
              "        [3, 3, 3, 3, 3],\n",
              "        [3, 3, 3, 3, 3]]])"
            ]
          },
          "metadata": {},
          "execution_count": 33
        }
      ]
    },
    {
      "cell_type": "code",
      "source": [
        "arr = np.random.randint(-50,50,(3,4))"
      ],
      "metadata": {
        "id": "fPFsj-NZDoTi"
      },
      "execution_count": 34,
      "outputs": []
    },
    {
      "cell_type": "code",
      "source": [],
      "metadata": {
        "id": "9YL5LZTwDoWN"
      },
      "execution_count": null,
      "outputs": []
    },
    {
      "cell_type": "code",
      "source": [],
      "metadata": {
        "id": "bYSdWe5QDoae"
      },
      "execution_count": null,
      "outputs": []
    },
    {
      "cell_type": "code",
      "source": [],
      "metadata": {
        "id": "cqvJ7nrKDodE"
      },
      "execution_count": null,
      "outputs": []
    },
    {
      "cell_type": "code",
      "source": [],
      "metadata": {
        "id": "zQmtjMstDofp"
      },
      "execution_count": null,
      "outputs": []
    },
    {
      "cell_type": "code",
      "source": [],
      "metadata": {
        "id": "_C8WMuzjDojh"
      },
      "execution_count": null,
      "outputs": []
    }
  ]
}