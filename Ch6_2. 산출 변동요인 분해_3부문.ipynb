{
  "nbformat": 4,
  "nbformat_minor": 0,
  "metadata": {
    "colab": {
      "provenance": [],
      "mount_file_id": "https://github.com/Tom-Jung/legendary-funicular/blob/main/IO_tables.ipynb",
      "authorship_tag": "ABX9TyON2EdiPVpmBvamXQKMvG+y",
      "include_colab_link": true
    },
    "kernelspec": {
      "name": "python3",
      "display_name": "Python 3"
    },
    "language_info": {
      "name": "python"
    }
  },
  "cells": [
    {
      "cell_type": "markdown",
      "metadata": {
        "id": "view-in-github",
        "colab_type": "text"
      },
      "source": [
        "<a href=\"https://colab.research.google.com/github/Tom-Jung/legendary-funicular/blob/main/Ch6_2.%20%EC%82%B0%EC%B6%9C%20%EB%B3%80%EB%8F%99%EC%9A%94%EC%9D%B8%20%EB%B6%84%ED%95%B4_3%EB%B6%80%EB%AC%B8.ipynb\" target=\"_parent\"><img src=\"https://colab.research.google.com/assets/colab-badge.svg\" alt=\"Open In Colab\"/></a>"
      ]
    },
    {
      "cell_type": "code",
      "source": [
        "import numpy as np   # Numpy import\n",
        "import pandas as pd  # Pandas import"
      ],
      "metadata": {
        "id": "TR7JvW8CxBFT"
      },
      "execution_count": 43,
      "outputs": []
    },
    {
      "cell_type": "code",
      "source": [
        "np.set_printoptions(precision=3,suppress=True) # 결과를 소수 3자리까지만 보여주는 옵션"
      ],
      "metadata": {
        "id": "6ZXqGX8ykUGD"
      },
      "execution_count": 44,
      "outputs": []
    },
    {
      "cell_type": "markdown",
      "source": [
        "### 산출 변동요인분해"
      ],
      "metadata": {
        "id": "00a8dQ_-Ug2y"
      }
    },
    {
      "cell_type": "code",
      "source": [
        "# 2015년 거래표 다운로드\n",
        "\n",
        "url_total = \"https://raw.githubusercontent.com/Tom-Jung/legendary-funicular/main/Total_Matrix_2015_cst.csv\"  # 불변 2015년 총거래표\n",
        "Tot_cst_15 = pd.read_csv(url_total)\n",
        "\n",
        "url_imp = \"https://raw.githubusercontent.com/Tom-Jung/legendary-funicular/main/Imported_Matrix_2015_cst.csv\"  # 불변 2015년 수입거래표\n",
        "Imp_cst_15 = pd.read_csv(url_imp)\n",
        "\n",
        "url_dom = \"https://raw.githubusercontent.com/Tom-Jung/legendary-funicular/main/Domestic_Matrix_2015_cst.csv\"  # 불변 2015년 국산거래표\n",
        "Dom_cst_15 = pd.read_csv(url_dom)"
      ],
      "metadata": {
        "id": "5iSPH3zYKquU"
      },
      "execution_count": 45,
      "outputs": []
    },
    {
      "cell_type": "code",
      "source": [
        "# 2010년 거래표 다운로드\n",
        "\n",
        "url_total = \"https://raw.githubusercontent.com/Tom-Jung/legendary-funicular/main/Total_Matrix_2010_cst.csv\"  # 불변 2010년 총거래표\n",
        "Tot_cst_10 = pd.read_csv(url_total)\n",
        "\n",
        "url_imp = \"https://raw.githubusercontent.com/Tom-Jung/legendary-funicular/main/Imported_Matrix_2010_cst.csv\"  # 불변 2010년 수입거래표\n",
        "Imp_cst_10 = pd.read_csv(url_imp)\n",
        "\n",
        "url_dom = \"https://raw.githubusercontent.com/Tom-Jung/legendary-funicular/main/Domestic_Matrix_2010_cst.csv\"  # 불변 2010년 국산거래표\n",
        "Dom_cst_10 = pd.read_csv(url_dom)"
      ],
      "metadata": {
        "id": "o8Pv_b5hKqyW"
      },
      "execution_count": 46,
      "outputs": []
    },
    {
      "cell_type": "code",
      "source": [
        "Tot_cst_10.shape"
      ],
      "metadata": {
        "id": "f9aN0wIQGi15",
        "outputId": "60987fb1-3d80-4556-d1a9-ae9df0e95b39",
        "colab": {
          "base_uri": "https://localhost:8080/"
        }
      },
      "execution_count": 47,
      "outputs": [
        {
          "output_type": "execute_result",
          "data": {
            "text/plain": [
              "(41, 47)"
            ]
          },
          "metadata": {},
          "execution_count": 47
        }
      ]
    },
    {
      "cell_type": "markdown",
      "source": [
        "부문통합하여 3부문 IO표 만들기"
      ],
      "metadata": {
        "id": "xCso22Zt1xPm"
      }
    },
    {
      "cell_type": "code",
      "source": [
        "cdd = \"https://raw.githubusercontent.com/Tom-Jung/legendary-funicular/main/code.csv\"  # 코드매치 파일\n",
        "ccdd = pd.read_csv(cdd)\n",
        "cd_for_itr = ccdd.to_numpy().reshape(33,2)\n",
        "cd_3 = cd_for_itr[:,1]\n",
        "cd_33 = cd_for_itr[:,0]\n",
        "print('3부문 코드 : \\n', cd_3)\n",
        "print('33부문 코드 : \\n', cd_33)"
      ],
      "metadata": {
        "id": "25VuADhB1S1R",
        "outputId": "b525e4a1-cab4-4661-d30d-033b4dd4ec7d",
        "colab": {
          "base_uri": "https://localhost:8080/"
        }
      },
      "execution_count": 48,
      "outputs": [
        {
          "output_type": "stream",
          "name": "stdout",
          "text": [
            "3부문 코드 : \n",
            " [1 2 2 2 2 2 2 2 2 2 2 2 2 2 2 2 3 3 3 3 3 3 3 3 3 3 3 3 3 3 3 3 3]\n",
            "33부문 코드 : \n",
            " [ 1  2  3  4  5  6  7  8  9 10 11 12 13 14 15 16 17 18 19 20 21 22 23 24\n",
            " 25 26 27 28 29 30 31 32 33]\n"
          ]
        }
      ]
    },
    {
      "cell_type": "code",
      "source": [
        "# Mtx = np.zeros((3,32)) # 부문통합을 위한 코드가 많을 경우 상기의 코드를 수작업으로 미리 하는 것이 쉽자 않으므로 반복문을 통해 3x33 임시코드 만들기\n",
        "# row=cd_3[:-2]\n",
        "# col=cd_33[:-2]\n",
        "# for i, j in zip(row,col):\n",
        "#   Mtx[i-1,j-1] = 1\n",
        "# print(Mtx)"
      ],
      "metadata": {
        "id": "i4H2yI_71SzC"
      },
      "execution_count": 49,
      "outputs": []
    },
    {
      "cell_type": "code",
      "source": [
        "code = np.array([[1,0,0,0,0,0,0,0,0,0,0,0,0,0,0,0,0,0,0,0,0,0,0,0,0,0,0,0,0,0,0,0],  # 행렬 곱을 이용한 부문 통합을 위해 0과 1로 구성된 임시의 3x33 매트릭스\n",
        "       [0,1,1,1,1,1,1,1,1,1,1,1,1,1,1,1,0,0,0,0,0,0,0,0,0,0,0,0,0,0,0,0],\n",
        "       [0,0,0,0,0,0,0,0,0,0,0,0,0,0,0,0,1,1,1,1,1,1,1,1,1,1,1,1,1,1,1,1]])\n",
        "code = code.astype(float)"
      ],
      "metadata": {
        "id": "CzGWrQ848Gy9"
      },
      "execution_count": 89,
      "outputs": []
    },
    {
      "cell_type": "code",
      "source": [
        "SS_t0 = (Tot_cst_10.iloc[1:41,2:].to_numpy().astype(float))/1000000 # 10년 총거래표 numpy로 숫자만 불러오기(시간 t-1)\n",
        "II_t0 = (Imp_cst_10.iloc[1:38,2:].to_numpy().astype(float))/1000000 # 10년 수입거래표 numpy로 숫자만 불러오기\n",
        "\n",
        "SS_t5 = (Tot_cst_15.iloc[1:41,2:].to_numpy().astype(float))/1000000 # 15년 총거래표 numpy로 숫자만 불러오기(시간 t)\n",
        "IS_t5 = (Imp_cst_15.iloc[1:38,2:].to_numpy().astype(float))/1000000 # 15년 수입거래표 numpy로 숫자만 불러오기\n",
        ""
      ],
      "metadata": {
        "id": "pEM4n3UC64LJ"
      },
      "execution_count": 118,
      "outputs": []
    },
    {
      "cell_type": "code",
      "source": [
        "nae_tot_row_t0 = code@SS_t0[0:32,0:32] # 중간투입(수요)의 행을 3부문으로 만들기\n",
        "nae_tot_row_t5 = code@SS_t5[0:32,0:32] # 중간투입(수요)의 행을 3부문으로 만들기"
      ],
      "metadata": {
        "id": "k8iXmS8NE67L"
      },
      "execution_count": 119,
      "outputs": []
    },
    {
      "cell_type": "code",
      "source": [
        "nae_tot_col_t0 = nae_tot_row_t0@code.T  # 중간투입(수요)의 열을 3부문으로 만들기\n",
        "nae_tot_col_t5 = nae_tot_row_t5@code.T  # 중간투입(수요)의 열을 3부문으로 만들기"
      ],
      "metadata": {
        "id": "8MGVYywRE65F"
      },
      "execution_count": 120,
      "outputs": []
    },
    {
      "cell_type": "code",
      "source": [
        "nae_tot_col_t5"
      ],
      "metadata": {
        "id": "YR0ZL9ymE62k",
        "outputId": "d0e2fc3c-f830-4386-9862-b99fc9cc132a",
        "colab": {
          "base_uri": "https://localhost:8080/"
        }
      },
      "execution_count": 122,
      "outputs": [
        {
          "output_type": "execute_result",
          "data": {
            "text/plain": [
              "array([[  3.225,  39.057,  11.897],\n",
              "       [ 17.751, 925.393, 350.855],\n",
              "       [  7.137, 261.663, 575.308]])"
            ]
          },
          "metadata": {},
          "execution_count": 122
        }
      ]
    },
    {
      "cell_type": "code",
      "source": [
        "va_row_t0 = SS_t0[32:42,0:32]@code.T # 중투합, 피용자보수, 영업잉여, 고정자본소모, 기타생산세, 조정항, 부가가치계, 산출액(8X3)\n",
        "va_row_t5 = SS_t5[32:41,0:32]@code.T # 중투합, 피용자보수, 영업잉여, 고정자본소모, 기타생산세, 조정항, 부가가치계, 산출액(7X3)\n",
        "va_row_t5"
      ],
      "metadata": {
        "id": "x0cu0k1N8urJ",
        "outputId": "f5c009cc-4457-4af5-c4fd-80db8d4fe232",
        "colab": {
          "base_uri": "https://localhost:8080/"
        }
      },
      "execution_count": 123,
      "outputs": [
        {
          "output_type": "execute_result",
          "data": {
            "text/plain": [
              "array([[  28.113, 1226.114,  938.06 ],\n",
              "       [   5.243,  176.815,  568.155],\n",
              "       [  22.576,  139.967,  278.922],\n",
              "       [   4.828,  114.82 ,  190.021],\n",
              "       [   0.61 ,   53.438,   82.055],\n",
              "       [  33.258,  485.04 , 1119.152],\n",
              "       [  61.372, 1711.154, 2057.213]])"
            ]
          },
          "metadata": {},
          "execution_count": 123
        }
      ]
    },
    {
      "cell_type": "code",
      "source": [
        "fd_cd = np.array([[1,1,0,0,0,0,0,0,0],   # 최종수요를 통합하기 위한 0과 1로된 행렬\n",
        "                  [0,0,1,1,1,1,0,0,0],\n",
        "                  [0,0,0,0,0,0,1,0,0],\n",
        "                  [0,0,0,0,0,0,0,1,0],\n",
        "                  [0,0,0,0,0,0,0,0,1]])\n",
        ""
      ],
      "metadata": {
        "id": "1ieztqpq8k8e"
      },
      "execution_count": 124,
      "outputs": []
    },
    {
      "cell_type": "code",
      "source": [
        "fd_t0 = SS_t0[0:32, 33:42]\n",
        "fd_t5 = SS_t5[0:32, 33:42]"
      ],
      "metadata": {
        "id": "qhjmcmWE9JRY"
      },
      "execution_count": 125,
      "outputs": []
    },
    {
      "cell_type": "code",
      "source": [
        "fd_row_t0=code@fd_t0@fd_cd.T\n",
        "fd_row_t5=code@fd_t5@fd_cd.T\n",
        "fd_row_t0"
      ],
      "metadata": {
        "id": "5fMavrZQD9c2",
        "outputId": "87feb73b-b49b-4b04-8231-6fe660c50012",
        "colab": {
          "base_uri": "https://localhost:8080/"
        }
      },
      "execution_count": 126,
      "outputs": [
        {
          "output_type": "execute_result",
          "data": {
            "text/plain": [
              "array([[  16.01 ,    2.646,    0.83 ,   19.485,   68.904],\n",
              "       [ 166.514,  137.44 ,  456.483,  760.437, 1847.788],\n",
              "       [ 740.29 ,  310.398,   78.546, 1129.235, 1819.324]])"
            ]
          },
          "metadata": {},
          "execution_count": 126
        }
      ]
    },
    {
      "cell_type": "code",
      "source": [
        "fd_row_sm_t0 = np.sum((fd_row_t0), axis=0) # 최종수요의 행합\n",
        "fd_row_sm_t5 = np.sum((fd_row_t5), axis=0) # 최종수요의 행합"
      ],
      "metadata": {
        "id": "3my3IJTwFk8V"
      },
      "execution_count": 127,
      "outputs": []
    },
    {
      "cell_type": "code",
      "source": [
        "fd_sm_t0=fd_row_sm_t0.reshape(1,5)\n",
        "fd_sm_t5=fd_row_sm_t5.reshape(1,5)"
      ],
      "metadata": {
        "id": "7xkLaM4_D9fk"
      },
      "execution_count": 130,
      "outputs": []
    },
    {
      "cell_type": "code",
      "source": [
        "nae_va_ct_t0 = np.concatenate((nae_tot_col_t0, va_row_t0)) # 중간투입(수요)와 부가가치 및 산출액 합치기\n",
        "nae_va_ct_t5 = np.concatenate((nae_tot_col_t5, va_row_t5)) # 중간투입(수요)와 부가가치 및 산출액 합치기"
      ],
      "metadata": {
        "id": "OuVXx3ocD9iE"
      },
      "execution_count": 132,
      "outputs": []
    },
    {
      "cell_type": "code",
      "source": [
        "nae_va_ct_sm_t0 = nae_va_ct_t0.sum(axis=1).reshape(11,1)  # 부가가치 및 산출액의 열합\n",
        "nae_va_ct_sm_t5 = nae_va_ct_t5.sum(axis=1).reshape(10,1)  # 부가가치 및 산출액의 열합"
      ],
      "metadata": {
        "id": "bQAPVPomF_Nw"
      },
      "execution_count": 134,
      "outputs": []
    },
    {
      "cell_type": "code",
      "source": [
        "nnull_t0 = np.zeros((7,5)) # 0행렬\n",
        "nnull_t5 = np.zeros((6,5)) # 0행렬"
      ],
      "metadata": {
        "id": "IikYIu8RF_Lp"
      },
      "execution_count": 135,
      "outputs": []
    },
    {
      "cell_type": "code",
      "source": [
        "fd_nnull_t0 = np.concatenate((fd_row_t0, fd_sm_t0, nnull_t0),axis=0)  # 최종수요, 최종수요 행합 및 0행렬 합치기\n",
        "fd_nnull_t5 = np.concatenate((fd_row_t5, fd_sm_t5, nnull_t5),axis=0)  # 최종수요, 최종수요 행합 및 0행렬 합치기"
      ],
      "metadata": {
        "id": "iDO_pnHmF_Jc"
      },
      "execution_count": 137,
      "outputs": []
    },
    {
      "cell_type": "code",
      "source": [
        "tot_f_t0 = np.concatenate((nae_va_ct_t0,nae_va_ct_sm_t0, fd_nnull_t0), axis=1)  # 최종 3x3 부문통합된 거래표\n",
        "tot_f_t5 = np.concatenate((nae_va_ct_t5,nae_va_ct_sm_t5, fd_nnull_t5), axis=1)  # 최종 3x3 부문통합된 거래표"
      ],
      "metadata": {
        "id": "ldumHTfbF_G7"
      },
      "execution_count": 140,
      "outputs": []
    },
    {
      "cell_type": "code",
      "source": [
        "tot_F_t0 = pd.DataFrame(tot_f_t0.round(3), columns = ['농산품', '공산품', '서비스', '중간수요계', '소비','투자', '수출', '최종수요계', '총수요계'],\n",
        "                     index=['농산품', '공산품', '서비스', '중간투입계', '피용자보수','영업잉여', '고정자본소모', '생산세(보조금공제)','조정항', '부가가치계', '총투입액']) # 변수명 붙여서 pandas로 내보내기\n",
        ""
      ],
      "metadata": {
        "id": "1qM07XyS64Np"
      },
      "execution_count": 145,
      "outputs": []
    },
    {
      "cell_type": "code",
      "source": [
        "tot_F_t5 = pd.DataFrame(tot_f_t5.round(3), columns = ['농산품', '공산품', '서비스', '중간수요계', '소비','투자', '수출', '최종수요계', '총수요계'],\n",
        "                     index=['농산품', '공산품', '서비스', '중간투입계', '피용자보수','영업잉여', '고정자본소모', '생산세(보조금공제)','부가가치계', '총투입액']) # 변수명 붙여서 pandas로 내보내기\n"
      ],
      "metadata": {
        "id": "2uZqbeKHHQWT"
      },
      "execution_count": 146,
      "outputs": []
    },
    {
      "cell_type": "code",
      "source": [
        "# 2010, 2015년 3부문 불변표 내보내기\n",
        "tot_F_t0.to_csv('10년_총거래표_3부문_불변.csv', encoding=\"utf-8-sig\")\n",
        "tot_F_t5.to_csv('15년_총거래표_3부문_불변.csv', encoding=\"utf-8-sig\")"
      ],
      "metadata": {
        "id": "0JyaE8wVHQT2"
      },
      "execution_count": 148,
      "outputs": []
    },
    {
      "cell_type": "code",
      "source": [],
      "metadata": {
        "id": "EHyPQH4hInAR"
      },
      "execution_count": null,
      "outputs": []
    },
    {
      "cell_type": "code",
      "source": [],
      "metadata": {
        "id": "TeqKIOGeIm-A"
      },
      "execution_count": null,
      "outputs": []
    },
    {
      "cell_type": "code",
      "source": [],
      "metadata": {
        "id": "-hW97CaHIm78"
      },
      "execution_count": null,
      "outputs": []
    },
    {
      "cell_type": "code",
      "source": [],
      "metadata": {
        "id": "621BQc5CIm5x"
      },
      "execution_count": null,
      "outputs": []
    },
    {
      "cell_type": "code",
      "source": [],
      "metadata": {
        "id": "Ond1UgVYIm3s"
      },
      "execution_count": null,
      "outputs": []
    },
    {
      "cell_type": "code",
      "source": [],
      "metadata": {
        "id": "v58RQFl5Im1a"
      },
      "execution_count": null,
      "outputs": []
    },
    {
      "cell_type": "code",
      "source": [],
      "metadata": {
        "id": "PiY8_s-CImzD"
      },
      "execution_count": null,
      "outputs": []
    },
    {
      "cell_type": "code",
      "source": [],
      "metadata": {
        "id": "X2veVn8pImwp"
      },
      "execution_count": null,
      "outputs": []
    },
    {
      "cell_type": "code",
      "source": [],
      "metadata": {
        "id": "_BKmfY87ImuW"
      },
      "execution_count": null,
      "outputs": []
    },
    {
      "cell_type": "code",
      "source": [],
      "metadata": {
        "id": "cJpzca5eImr4"
      },
      "execution_count": null,
      "outputs": []
    },
    {
      "cell_type": "code",
      "source": [],
      "metadata": {
        "id": "m4reAjQiHQRI"
      },
      "execution_count": null,
      "outputs": []
    },
    {
      "cell_type": "code",
      "source": [
        "print(nae_tot_row)"
      ],
      "metadata": {
        "id": "Sc8hBKOP64QI",
        "outputId": "5d4b5eb1-453c-4d28-c988-38f1228d93f5",
        "colab": {
          "base_uri": "https://localhost:8080/"
        }
      },
      "execution_count": 88,
      "outputs": [
        {
          "output_type": "stream",
          "name": "stdout",
          "text": [
            "[[4.544e+06 3.784e+03 3.273e+07 7.005e+05 1.020e+06 1.269e+03 1.097e+06\n",
            "  3.216e+03 9.706e+03 4.920e+03 1.288e+04 3.040e+03 8.898e+03 1.352e+04\n",
            "  2.360e+04 3.882e+04 2.048e+03 3.434e+03 9.738e+05 6.285e+04 1.553e+04\n",
            "  6.717e+06 2.754e+04 2.882e+04 5.006e+03 1.142e+05 1.327e+04 5.897e+04\n",
            "  4.491e+04 1.004e+06 1.005e+05 3.624e+04]\n",
            " [1.777e+07 6.033e+05 2.481e+07 3.982e+07 1.853e+07 5.414e+07 1.067e+08\n",
            "  1.537e+07 6.826e+07 4.195e+07 1.335e+08 4.994e+07 6.478e+07 1.329e+08\n",
            "  8.858e+06 1.304e+07 3.363e+07 4.896e+06 8.780e+07 1.409e+07 3.224e+07\n",
            "  3.223e+07 1.158e+07 5.403e+06 1.354e+06 1.761e+07 4.333e+06 6.540e+06\n",
            "  6.914e+06 2.173e+07 5.104e+06 1.096e+07]\n",
            " [5.781e+06 1.030e+06 1.763e+07 1.369e+07 8.046e+06 4.932e+06 3.270e+07\n",
            "  8.693e+06 2.486e+07 1.191e+07 3.137e+07 1.137e+07 1.551e+07 2.939e+07\n",
            "  3.415e+06 5.724e+06 2.325e+07 6.630e+06 3.573e+07 7.032e+07 4.650e+07\n",
            "  2.300e+07 4.145e+07 5.241e+07 2.725e+07 5.113e+07 1.182e+07 2.008e+07\n",
            "  1.703e+07 1.725e+07 1.130e+07 8.888e+06]]\n"
          ]
        }
      ]
    },
    {
      "cell_type": "code",
      "source": [
        "Tot_33_15 = Tot_cst_15.to_numpy()\n",
        "Imp_33_15 = Imp_cst_15.to_numpy()\n",
        "Dom_33_15 = Dom_cst_15.to_numpy()\n",
        "\n",
        "Tt_33_15 = Tot_33_15[1:40,2:47].astype(float)\n",
        "Im_33_15 = Imp_33_15[1:40,2:47].astype(float)\n",
        "Dm_33_15 = Dom_33_15[1:40,2:47].astype(float)\n"
      ],
      "metadata": {
        "id": "YwQgE-tS1SxF",
        "outputId": "9dc886ca-37c5-43e1-ce68-ade7a9172a53",
        "colab": {
          "base_uri": "https://localhost:8080/"
        }
      },
      "execution_count": 19,
      "outputs": [
        {
          "output_type": "execute_result",
          "data": {
            "text/plain": [
              "array([[ 3.225e+06,  5.492e+03,  3.549e+07, ...,  6.137e+07,  1.216e+07,\n",
              "         7.353e+07],\n",
              "       [ 1.031e+03,  2.070e+03,  2.650e+04, ...,  4.125e+06,  1.122e+08,\n",
              "         1.163e+08],\n",
              "       [ 9.277e+06,  8.905e+03,  2.320e+07, ...,  1.221e+08,  2.619e+07,\n",
              "         1.483e+08],\n",
              "       ...,\n",
              "       [ 6.100e+05, -6.183e+04,  1.185e+07, ...,  0.000e+00,  0.000e+00,\n",
              "         0.000e+00],\n",
              "       [ 3.326e+07,  2.138e+06,  3.065e+07, ...,  0.000e+00,  0.000e+00,\n",
              "         0.000e+00],\n",
              "       [ 6.137e+07,  4.125e+06,  1.221e+08, ...,  0.000e+00,  0.000e+00,\n",
              "         0.000e+00]])"
            ]
          },
          "metadata": {},
          "execution_count": 19
        }
      ]
    },
    {
      "cell_type": "code",
      "source": [],
      "metadata": {
        "id": "kiXlepVT1Su1"
      },
      "execution_count": null,
      "outputs": []
    },
    {
      "cell_type": "code",
      "source": [
        "S_t0 = Tot_cst_10.iloc[1:41,2:].to_numpy() # 10년 총거래표 numpy로 숫자만 불러오기(시간 t-1)\n",
        "I_t0 = Imp_cst_10.iloc[1:38,2:].to_numpy() # 10년 수입거래표 numpy로 숫자만 불러오기\n",
        "\n",
        "S_t5 = Tot_cst_15.iloc[1:41,2:].to_numpy() # 15년 총거래표 numpy로 숫자만 불러오기(시간 t)\n",
        "I_t5 = Imp_cst_15.iloc[1:38,2:].to_numpy() # 15년 수입거래표 numpy로 숫자만 불러오기"
      ],
      "metadata": {
        "id": "YINcR019EBlx"
      },
      "execution_count": null,
      "outputs": []
    },
    {
      "cell_type": "code",
      "source": [],
      "metadata": {
        "id": "wemue4OQ1Rtb"
      },
      "execution_count": null,
      "outputs": []
    },
    {
      "cell_type": "code",
      "source": [],
      "metadata": {
        "id": "NWu2h5li1RwB"
      },
      "execution_count": null,
      "outputs": []
    },
    {
      "cell_type": "code",
      "source": [],
      "metadata": {
        "id": "gb_CT7_-1Ryf"
      },
      "execution_count": null,
      "outputs": []
    },
    {
      "cell_type": "code",
      "source": [],
      "metadata": {
        "id": "3h40RNe11O-W"
      },
      "execution_count": null,
      "outputs": []
    },
    {
      "cell_type": "code",
      "source": [],
      "metadata": {
        "id": "Wjq9RDa_1PAu"
      },
      "execution_count": null,
      "outputs": []
    },
    {
      "cell_type": "code",
      "source": [],
      "metadata": {
        "id": "P0EChSxr1PDY"
      },
      "execution_count": null,
      "outputs": []
    },
    {
      "cell_type": "code",
      "source": [
        "S1 = S_t5.astype(float)\n",
        "I1 = I_t5.astype(float)\n",
        "S0 = S_t0.astype(float)\n",
        "I0 = I_t0.astype(float)"
      ],
      "metadata": {
        "id": "Ir7eNUdhb7D3"
      },
      "execution_count": null,
      "outputs": []
    },
    {
      "cell_type": "code",
      "source": [
        "SS1 = np.concatenate((S1[:37,],np.zeros((1,45)), S1[37:39,] ), axis=0)  # 2015년 부가가치 조정항을 0으로 삽입(2010년과 동일한 포맷을 유지하기 위함)\n",
        "print(S_t0.shape)\n",
        "print(S_t5.shape)"
      ],
      "metadata": {
        "id": "y8dIDFxvGyjf",
        "outputId": "518ef048-6e2a-46ed-e289-fb0690aac45d",
        "colab": {
          "base_uri": "https://localhost:8080/"
        }
      },
      "execution_count": null,
      "outputs": [
        {
          "output_type": "stream",
          "name": "stdout",
          "text": [
            "(40, 45)\n",
            "(39, 45)\n"
          ]
        }
      ]
    },
    {
      "cell_type": "code",
      "source": [
        "SS0 = S0[0:32,0:32].astype(float)  # 내생항목 32x32\n",
        "SS1 = S1[0:32,0:32].astype(float)\n",
        "SS1.shape"
      ],
      "metadata": {
        "id": "GWivqhPhL5T7",
        "outputId": "0a62c411-0272-4fb5-afdf-11e852aa835b",
        "colab": {
          "base_uri": "https://localhost:8080/"
        }
      },
      "execution_count": null,
      "outputs": [
        {
          "output_type": "execute_result",
          "data": {
            "text/plain": [
              "(32, 32)"
            ]
          },
          "metadata": {},
          "execution_count": 84
        }
      ]
    },
    {
      "cell_type": "code",
      "source": [
        "II0 = I0[0:32,0:32]  # 수입 내생항목 32x32\n",
        "II1 = I1[0:32,0:32]"
      ],
      "metadata": {
        "id": "7-RxwIZaeYt0"
      },
      "execution_count": null,
      "outputs": []
    },
    {
      "cell_type": "code",
      "source": [
        "DD0 =SS0 - II0  # 국산 내생항목 32x32\n",
        "DD1 =SS1 - II1"
      ],
      "metadata": {
        "id": "RCdnGfOpeYwS"
      },
      "execution_count": null,
      "outputs": []
    },
    {
      "cell_type": "code",
      "source": [
        "TM0 = I0[0:32,41]  # 총수입벡터\n",
        "TM1 = I1[0:32,41]\n",
        "TM0.shape"
      ],
      "metadata": {
        "colab": {
          "base_uri": "https://localhost:8080/"
        },
        "id": "iJUj_ANLeYyy",
        "outputId": "49ea1a7a-bdca-45d1-e263-5cf3e65a55c1"
      },
      "execution_count": null,
      "outputs": [
        {
          "output_type": "execute_result",
          "data": {
            "text/plain": [
              "(32,)"
            ]
          },
          "metadata": {},
          "execution_count": 87
        }
      ]
    },
    {
      "cell_type": "code",
      "source": [
        "IM0 = I0[0:32,32]  # 중간재수입벡터\n",
        "IM1 = I1[0:32,32]"
      ],
      "metadata": {
        "id": "MFuhXJf7eY05"
      },
      "execution_count": null,
      "outputs": []
    },
    {
      "cell_type": "code",
      "source": [
        "IF0 = I0[0:32,40]  # 최종재수입벡터\n",
        "IF1 = I1[0:32,40]\n",
        "IF1"
      ],
      "metadata": {
        "colab": {
          "base_uri": "https://localhost:8080/"
        },
        "id": "pPQ8aPECeY3J",
        "outputId": "6a2338fc-4e21-46ee-ab1e-bdd40eccada9"
      },
      "execution_count": null,
      "outputs": [
        {
          "output_type": "execute_result",
          "data": {
            "text/plain": [
              "array([ 2841675.,   -78991., 11200552., 14576720.,   416107.,  1440129.,\n",
              "        5774500.,   241793.,  -375737.,  1468072., 21654896.,  4476095.,\n",
              "       21956549., 20812067.,  5102279.,       80.,    65851.,    16766.,\n",
              "          16539.,        0.,  6246877., 11680866.,  2267143.,   704737.,\n",
              "         589893.,  5921055.,   345575.,        0.,  2322148.,   766938.,\n",
              "        4040457.,   268235.])"
            ]
          },
          "metadata": {},
          "execution_count": 89
        }
      ]
    },
    {
      "cell_type": "code",
      "source": [
        "SFC0 = S0[0:32,33:35]  # 최종수요-소비\n",
        "SFC0 = SFC0.sum(axis=1)\n",
        "SFC1 = S1[0:32,33:35]\n",
        "SFC1 = SFC1.sum(axis=1)\n",
        "SFC1"
      ],
      "metadata": {
        "colab": {
          "base_uri": "https://localhost:8080/"
        },
        "id": "PywPpOqreY5Q",
        "outputId": "8a743d26-e263-489d-db85-2e5164aff8cf"
      },
      "execution_count": null,
      "outputs": [
        {
          "output_type": "execute_result",
          "data": {
            "text/plain": [
              "array([ 1.701e+07,  1.305e+04,  5.674e+07,  3.036e+07,  1.257e+06,\n",
              "        1.473e+07,  8.106e+06,  2.421e+05, -5.563e+05,  1.322e+06,\n",
              "        2.491e+07,  5.265e+06,  1.411e+06,  3.125e+07,  7.145e+06,\n",
              "        2.359e+04,  1.775e+07,  4.581e+06,  0.000e+00,  7.896e+07,\n",
              "        2.587e+07,  8.281e+07,  3.253e+07,  6.554e+07,  1.148e+08,\n",
              "        3.138e+06,  3.895e+06,  1.210e+08,  1.163e+08,  1.129e+08,\n",
              "        3.544e+07,  4.021e+07])"
            ]
          },
          "metadata": {},
          "execution_count": 90
        }
      ]
    },
    {
      "cell_type": "code",
      "source": [
        "SFI0 = S0[0:32,35:39 ] # 최종수요-투자\n",
        "SFI0 = SFI0.sum(axis=1)\n",
        "SFI1 = S1[0:32,35:39]\n",
        "SFI1 = SFI1.sum(axis=1)\n",
        "SFI1"
      ],
      "metadata": {
        "colab": {
          "base_uri": "https://localhost:8080/"
        },
        "id": "Ix970H04eY7n",
        "outputId": "ec04c74f-0904-458c-eb6b-ca4ec05c4215"
      },
      "execution_count": null,
      "outputs": [
        {
          "output_type": "execute_result",
          "data": {
            "text/plain": [
              "array([ 1.655e+06, -1.248e+05,  5.540e+04,  1.122e+06,  1.029e+05,\n",
              "        5.121e+05, -6.173e+05, -1.789e+04, -4.026e+06,  6.691e+06,\n",
              "        2.623e+07,  1.163e+07,  5.386e+07,  3.807e+07,  4.760e+06,\n",
              "        0.000e+00,  0.000e+00,  0.000e+00,  2.121e+08,  1.331e+07,\n",
              "        3.939e+05,  0.000e+00,  2.835e+07,  0.000e+00,  2.603e+07,\n",
              "        6.905e+07,  0.000e+00,  0.000e+00,  0.000e+00,  0.000e+00,\n",
              "        5.053e+05,  0.000e+00])"
            ]
          },
          "metadata": {},
          "execution_count": 91
        }
      ]
    },
    {
      "cell_type": "code",
      "source": [
        "SF0 = S0[0:32,40] # 최종수요합계\n",
        "SF1 = S1[0:32,40]\n",
        "SF1"
      ],
      "metadata": {
        "colab": {
          "base_uri": "https://localhost:8080/"
        },
        "id": "B65fDULHCBh8",
        "outputId": "e73c2b69-f50a-4bd5-f4e8-612f073429f8"
      },
      "execution_count": null,
      "outputs": [
        {
          "output_type": "execute_result",
          "data": {
            "text/plain": [
              "array([1.935e+07, 1.746e+04, 6.433e+07, 6.652e+07, 4.954e+06, 5.551e+07,\n",
              "       9.037e+07, 3.113e+06, 3.494e+07, 1.990e+07, 2.253e+08, 4.647e+07,\n",
              "       1.032e+08, 1.990e+08, 1.477e+07, 2.812e+06, 1.787e+07, 4.964e+06,\n",
              "       2.122e+08, 1.164e+08, 6.422e+07, 8.986e+07, 6.641e+07, 6.839e+07,\n",
              "       1.412e+08, 8.809e+07, 1.268e+07, 1.210e+08, 1.165e+08, 1.132e+08,\n",
              "       3.698e+07, 4.082e+07])"
            ]
          },
          "metadata": {},
          "execution_count": 92
        }
      ]
    },
    {
      "cell_type": "code",
      "source": [
        "EX0 = S0[0:32,39] # 수출\n",
        "EX1 = S1[0:32,39]\n",
        "EX1"
      ],
      "metadata": {
        "colab": {
          "base_uri": "https://localhost:8080/"
        },
        "id": "iA373XRaCBke",
        "outputId": "210876c3-5f6f-4f3c-94f5-0678f62266be"
      },
      "execution_count": null,
      "outputs": [
        {
          "output_type": "execute_result",
          "data": {
            "text/plain": [
              "array([6.871e+05, 1.292e+05, 7.536e+06, 3.504e+07, 3.594e+06, 4.027e+07,\n",
              "       8.288e+07, 2.889e+06, 3.952e+07, 1.189e+07, 1.742e+08, 2.958e+07,\n",
              "       4.791e+07, 1.297e+08, 2.868e+06, 2.788e+06, 1.167e+05, 3.830e+05,\n",
              "       1.651e+05, 2.413e+07, 3.795e+07, 7.042e+06, 5.528e+06, 2.859e+06,\n",
              "       4.298e+05, 1.590e+07, 8.785e+06, 3.756e+04, 1.712e+05, 3.703e+05,\n",
              "       1.037e+06, 6.119e+05])"
            ]
          },
          "metadata": {},
          "execution_count": 93
        }
      ]
    },
    {
      "cell_type": "code",
      "source": [
        "DF0 = SF0 - EX0 #소비+투자\n",
        "DF1 = SF1 - EX1"
      ],
      "metadata": {
        "id": "-TSTMCf-CBm-"
      },
      "execution_count": null,
      "outputs": []
    },
    {
      "cell_type": "code",
      "source": [
        "SFC00 = SFC0.sum(axis=0) # 소비합계\n",
        "SFC11 = SFC1.sum(axis=0)\n",
        "\n",
        "SFI00 = SFI0.sum(axis=0) # 투자합계\n",
        "SFI11 = SFI1.sum(axis=0)\n",
        "\n",
        "EX00 = EX0.sum(axis=0) # 수출합계\n",
        "EX11 = EX1.sum(axis=0)\n",
        "\n",
        "print('2010년 소비합계 : ', SFC00)\n",
        "print('2015년 소비합계 : ', SFC11)\n",
        "\n",
        "print('2010년 투자합계 : ', SFI00)\n",
        "print('2015년 투자합계 : ', SFI11)\n",
        "\n",
        "print('2010년 수출합계 : ', EX00)\n",
        "print('2015년 수출합계 : ', EX11)\n"
      ],
      "metadata": {
        "colab": {
          "base_uri": "https://localhost:8080/"
        },
        "id": "bsUg2RmYELiu",
        "outputId": "cd6d20e7-b621-4cf1-f908-a1783ecc71ef"
      },
      "execution_count": null,
      "outputs": [
        {
          "output_type": "stream",
          "name": "stdout",
          "text": [
            "2010년 소비합계 :  922814206.0\n",
            "2015년 소비합계 :  1054900320.0\n",
            "2010년 투자합계 :  450484823.0\n",
            "2015년 투자합계 :  489601534.0\n",
            "2010년 수출합계 :  535858572.0\n",
            "2015년 수출합계 :  716951177.0\n"
          ]
        }
      ]
    },
    {
      "cell_type": "code",
      "source": [
        "GDC1 = ((SFC11 - SFC00)/ SFC00) # 소비증가율\n",
        "GDC2 = GDC1*SFC0  # 규모효과\n",
        "GDC3 = (SFC1-SFC0) - GDC2 # 구조효과"
      ],
      "metadata": {
        "id": "44Dv7WlvELla"
      },
      "execution_count": null,
      "outputs": []
    },
    {
      "cell_type": "code",
      "source": [
        "GDI1 = ((SFI11 - SFI00)/ SFI00) # 투자증가율\n",
        "GDI2 = GDI1*SFI0 # 규모효과\n",
        "GDI3 = (SFI1-SFI0) - GDI2 # 구조효과"
      ],
      "metadata": {
        "id": "kUvW8c4mELn3"
      },
      "execution_count": null,
      "outputs": []
    },
    {
      "cell_type": "code",
      "source": [
        "ED1 = ((EX11 - EX00)/EX00) # 수출증가율\n",
        "ED2 = ED1*EX0 # 규모효과\n",
        "ED3 = (EX1-EX0) - ED2 # 구조효과"
      ],
      "metadata": {
        "id": "HOEfWHa4ELqN"
      },
      "execution_count": null,
      "outputs": []
    },
    {
      "cell_type": "code",
      "source": [
        "C0 = S0[-1,0:32].T.reshape([32,1])  # 총산출액\n",
        "C1 = S1[-1,0:32].T.reshape([32,1])\n",
        "C1.shape"
      ],
      "metadata": {
        "colab": {
          "base_uri": "https://localhost:8080/"
        },
        "id": "iZ80_uBiELtF",
        "outputId": "5422d612-de20-4e44-8dd7-f396f841fc70"
      },
      "execution_count": null,
      "outputs": [
        {
          "output_type": "execute_result",
          "data": {
            "text/plain": [
              "(32, 1)"
            ]
          },
          "metadata": {},
          "execution_count": 99
        }
      ]
    },
    {
      "cell_type": "code",
      "source": [
        "TC0 = C0.sum(axis=0)  #총산출계\n",
        "TC1 = C1.sum(axis=0)"
      ],
      "metadata": {
        "id": "P83r7vKxELvb"
      },
      "execution_count": null,
      "outputs": []
    },
    {
      "cell_type": "code",
      "source": [
        "V0 = S0[-1,0:32].T - S0[32,0:32].T # 부가가치계벡터 = 총투입액 - 중간투입계\n",
        "V1 = S1[-1,0:32].T - S1[32,0:32].T\n",
        "V1"
      ],
      "metadata": {
        "colab": {
          "base_uri": "https://localhost:8080/"
        },
        "id": "JNBtafCsELyF",
        "outputId": "e828430d-b686-46c2-f638-c33496b9b7bc"
      },
      "execution_count": null,
      "outputs": [
        {
          "output_type": "execute_result",
          "data": {
            "text/plain": [
              "array([3.326e+07, 2.138e+06, 3.065e+07, 1.535e+07, 1.337e+07, 3.389e+07,\n",
              "       7.084e+07, 1.246e+07, 2.518e+07, 3.597e+07, 9.392e+07, 2.918e+07,\n",
              "       3.676e+07, 4.964e+07, 5.631e+06, 3.008e+07, 3.414e+07, 1.026e+07,\n",
              "       9.353e+07, 1.354e+08, 5.488e+07, 4.555e+07, 7.302e+07, 9.223e+07,\n",
              "       1.464e+08, 9.501e+07, 5.343e+07, 9.549e+07, 8.042e+07, 6.314e+07,\n",
              "       2.222e+07, 2.405e+07])"
            ]
          },
          "metadata": {},
          "execution_count": 101
        }
      ]
    },
    {
      "cell_type": "code",
      "source": [
        "AV0 = V0/C0 # 부가가치계수\n",
        "AV1 = V1/C1"
      ],
      "metadata": {
        "id": "0J-f-kPxEL0Z"
      },
      "execution_count": null,
      "outputs": []
    },
    {
      "cell_type": "code",
      "source": [
        "CT0 = np.tile(C0, reps=[1,32])   # Ct벡터를 반복해여 행렬(32x32)로 만듬\n",
        "CT1 = np.tile(C1, reps=[1,32])\n",
        "CT1"
      ],
      "metadata": {
        "colab": {
          "base_uri": "https://localhost:8080/"
        },
        "id": "9dGIXvcTEL3B",
        "outputId": "00f64e31-42be-4b68-f7c1-a75109d207d2"
      },
      "execution_count": null,
      "outputs": [
        {
          "output_type": "execute_result",
          "data": {
            "text/plain": [
              "array([[6.137e+07, 6.137e+07, 6.137e+07, ..., 6.137e+07, 6.137e+07,\n",
              "        6.137e+07],\n",
              "       [4.125e+06, 4.125e+06, 4.125e+06, ..., 4.125e+06, 4.125e+06,\n",
              "        4.125e+06],\n",
              "       [1.221e+08, 1.221e+08, 1.221e+08, ..., 1.221e+08, 1.221e+08,\n",
              "        1.221e+08],\n",
              "       ...,\n",
              "       [1.196e+08, 1.196e+08, 1.196e+08, ..., 1.196e+08, 1.196e+08,\n",
              "        1.196e+08],\n",
              "       [4.029e+07, 4.029e+07, 4.029e+07, ..., 4.029e+07, 4.029e+07,\n",
              "        4.029e+07],\n",
              "       [5.419e+07, 5.419e+07, 5.419e+07, ..., 5.419e+07, 5.419e+07,\n",
              "        5.419e+07]])"
            ]
          },
          "metadata": {},
          "execution_count": 103
        }
      ]
    },
    {
      "cell_type": "code",
      "source": [
        "AS0 = SS0/CT0.T # 총투입계수표\n",
        "AS1 = SS1/CT1.T\n",
        "# np.isnan(AS_t)"
      ],
      "metadata": {
        "id": "NCE7a-1dgP2f"
      },
      "execution_count": null,
      "outputs": []
    },
    {
      "cell_type": "code",
      "source": [
        "AD0 = DD0/CT0.T # 국산투입계수표\n",
        "AD1 = DD1/CT1.T"
      ],
      "metadata": {
        "id": "tWvEJKQJi9Lt"
      },
      "execution_count": null,
      "outputs": []
    },
    {
      "cell_type": "code",
      "source": [
        "II0 = AS0-AD0 # 수입투입계수표\n",
        "II1 = AS1-AD1"
      ],
      "metadata": {
        "id": "YaT-6Loqi9OR"
      },
      "execution_count": null,
      "outputs": []
    },
    {
      "cell_type": "code",
      "source": [
        "M0 = IF0/DF0 # 수입최종수요/(소비+투자)\n",
        "M0 = np.diag(M0)\n",
        "\n",
        "M1 = IF1/DF1\n",
        "M1 = np.diag(M1)"
      ],
      "metadata": {
        "id": "w-ShpkV7i9QY"
      },
      "execution_count": null,
      "outputs": []
    },
    {
      "cell_type": "code",
      "source": [
        "RD0 = np.linalg.inv(np.eye(32) - AD0) # 생산유발계수\n",
        "RD1 = np.linalg.inv(np.eye(32) - AD1)"
      ],
      "metadata": {
        "id": "y5HiakVIi9Sk"
      },
      "execution_count": null,
      "outputs": []
    },
    {
      "cell_type": "code",
      "source": [
        "AM0 = II0/AS0 #조정항목\n",
        "AM0 = AM0*AS1\n",
        "\n",
        "AM1 = II1/AS1\n",
        "AM1 = AM1*AS0\n",
        "\n",
        "np.nan_to_num(AM0, copy=False)\n",
        "np.nan_to_num(AM1, copy=False)"
      ],
      "metadata": {
        "id": "-62Wibedi9U7",
        "outputId": "5c7acb07-7361-487a-90b8-fb6c056111d3",
        "colab": {
          "base_uri": "https://localhost:8080/"
        }
      },
      "execution_count": null,
      "outputs": [
        {
          "output_type": "stream",
          "name": "stderr",
          "text": [
            "<ipython-input-109-5a495a19eb92>:1: RuntimeWarning: invalid value encountered in true_divide\n",
            "  AM0 = II0/AS0 #조정항목\n",
            "<ipython-input-109-5a495a19eb92>:4: RuntimeWarning: invalid value encountered in true_divide\n",
            "  AM1 = II1/AS1\n"
          ]
        },
        {
          "output_type": "execute_result",
          "data": {
            "text/plain": [
              "array([[0.008, 0.   , 0.052, ..., 0.001, 0.   , 0.   ],\n",
              "       [0.   , 0.   , 0.   , ..., 0.   , 0.   , 0.   ],\n",
              "       [0.003, 0.   , 0.052, ..., 0.002, 0.001, 0.   ],\n",
              "       ...,\n",
              "       [0.   , 0.   , 0.   , ..., 0.   , 0.   , 0.   ],\n",
              "       [0.   , 0.   , 0.   , ..., 0.   , 0.001, 0.   ],\n",
              "       [0.   , 0.   , 0.   , ..., 0.   , 0.   , 0.   ]])"
            ]
          },
          "metadata": {},
          "execution_count": 109
        }
      ]
    },
    {
      "cell_type": "code",
      "source": [
        "AA = AS1 - AS0 #투입계수변화\n",
        "AS1_f = pd.DataFrame(AS1)\n",
        "AS1_f.to_csv('AS1_f.csv')"
      ],
      "metadata": {
        "id": "oaRIccJKinqc"
      },
      "execution_count": null,
      "outputs": []
    },
    {
      "cell_type": "markdown",
      "source": [
        "#### 산출액성장요인분해\n",
        "-  파쉐방식으로 산출액 변동을 분해"
      ],
      "metadata": {
        "id": "LtkcJ9Pasrzo"
      }
    },
    {
      "cell_type": "code",
      "source": [
        "TC1 = ((RD1@(np.eye(32)-M1))@GDC2).reshape([32,1])  # 소비규모증가효과\n",
        "TC11 = ((RD1@(np.eye(32)-M1))@GDC3).reshape([32,1]) # 소비구조증가효과\n",
        "TCTD = TC1 + TC11\n",
        "TC111 = np.concatenate((TCTD, TC1, TC11), axis=1)\n",
        "# TC111"
      ],
      "metadata": {
        "id": "KMvKjFJ0q19V"
      },
      "execution_count": null,
      "outputs": []
    },
    {
      "cell_type": "code",
      "source": [
        "TI1 = ((RD1@(np.eye(32)-M1))@GDI2).reshape([32,1])  # 소비규모증가효과\n",
        "TI11 = ((RD1@(np.eye(32)-M1))@GDI3).reshape([32,1]) # 소비구조증가효과\n",
        "TITD = TI1 + TI11\n",
        "TI111 = np.concatenate((TITD, TI1, TI11), axis=1)"
      ],
      "metadata": {
        "id": "WkSQSCLhul8x"
      },
      "execution_count": null,
      "outputs": []
    },
    {
      "cell_type": "code",
      "source": [
        "TQ = TC1+TI1 # 국내최종수요규모증가효과\n",
        "TS = TC11+TI11 # 국내최종수요규조변화효과\n",
        "TQS = TQ+TS\n",
        "T1 = np.concatenate((TQS, TQ, TS), axis=1)\n",
        "T1.shape"
      ],
      "metadata": {
        "id": "Wmq1H3tuumAB",
        "colab": {
          "base_uri": "https://localhost:8080/"
        },
        "outputId": "07fa8c25-bf7f-450d-a760-3d6bef7f3c8b"
      },
      "execution_count": null,
      "outputs": [
        {
          "output_type": "execute_result",
          "data": {
            "text/plain": [
              "(32, 3)"
            ]
          },
          "metadata": {},
          "execution_count": 113
        }
      ]
    },
    {
      "cell_type": "code",
      "source": [
        "T2 = (RD1@ED2).reshape([32,1]) # 수출규모증가효과\n",
        "T22 = (RD1@ED3) .reshape([32,1])# 수출구조변화효과\n",
        "TTE = T2+T22\n",
        "T2 = np.concatenate((TTE, T2, T22), axis=1)"
      ],
      "metadata": {
        "id": "PgRj1lk4tyya"
      },
      "execution_count": null,
      "outputs": []
    },
    {
      "cell_type": "code",
      "source": [
        "T3 = ((RD1@(M1 - M0))@DF0).reshape([32,1]) # 최종재수입대체효과\n",
        "T3 = T3*-1\n",
        "T4 = ((RD1@(AM1 - II0)))@C0[0:32,] # 중간재수입대체효과\n",
        "T4 = T4*-1\n",
        "T34 = T3 + T4\n",
        "TI = np.concatenate((T34, T3, T4), axis=1)\n",
        "TI\n",
        "\n"
      ],
      "metadata": {
        "id": "8Mr7oaogtKuC",
        "outputId": "0199a507-27ad-41bb-e363-e19b3c58e5ed",
        "colab": {
          "base_uri": "https://localhost:8080/"
        }
      },
      "execution_count": null,
      "outputs": [
        {
          "output_type": "execute_result",
          "data": {
            "text/plain": [
              "array([[ -3016222.634,  -1896596.938,  -1119625.696],\n",
              "       [    96765.941,    -19072.825,    115838.766],\n",
              "       [ -3667041.171,  -4007564.783,    340523.612],\n",
              "       [-12026264.79 ,  -6350206.128,  -5676058.663],\n",
              "       [ -1544073.497,   -358618.018,  -1185455.48 ],\n",
              "       [  1448801.495,   -874896.37 ,   2323697.864],\n",
              "       [ -9629837.821,  -6965931.58 ,  -2663906.241],\n",
              "       [  -860832.462,   -540370.542,   -320461.919],\n",
              "       [  2397882.26 ,    514512.52 ,   1883369.74 ],\n",
              "       [  -107976.446,    -76589.539,    -31386.908],\n",
              "       [ -9282714.736,   2915429.416, -12198144.152],\n",
              "       [ -3992999.929,   -559583.302,  -3433416.627],\n",
              "       [ -1673506.852,   3209846.001,  -4883352.853],\n",
              "       [ -1278584.563,  -4189708.236,   2911123.673],\n",
              "       [ -1796537.659,   -841959.102,   -954578.557],\n",
              "       [   275791.836,  -1057942.403,   1333734.239],\n",
              "       [ -1219641.517,   -669846.556,   -549794.96 ],\n",
              "       [  -170149.327,   -107213.979,    -62935.348],\n",
              "       [  -242540.222,    -49386.771,   -193153.451],\n",
              "       [ -3575477.393,  -1644129.003,  -1931348.39 ],\n",
              "       [ -5645376.943,  -4641549.969,  -1003826.974],\n",
              "       [ -1713640.941,  -1036387.878,   -677253.063],\n",
              "       [   -44867.527,    548999.226,   -593866.752],\n",
              "       [  -567614.513,   -344066.64 ,   -223547.874],\n",
              "       [    44366.591,    122569.768,    -78203.176],\n",
              "       [ -9018499.975,  -4754676.252,  -4263823.722],\n",
              "       [ -1612919.602,   -110093.201,  -1502826.401],\n",
              "       [   106184.988,     -4521.792,    110706.781],\n",
              "       [  1865186.522,   1821410.997,     43775.525],\n",
              "       [  -498360.907,   -442594.395,    -55766.511],\n",
              "       [ -1420161.683,  -2173834.611,    753672.928],\n",
              "       [  -352936.484,   -167573.426,   -185363.059]])"
            ]
          },
          "metadata": {},
          "execution_count": 115
        }
      ]
    },
    {
      "cell_type": "code",
      "source": [
        "T5 = (RD1@(AA-(II1-AM1)))@C0 # 기술변화효과\n",
        "T5.shape\n",
        "T5"
      ],
      "metadata": {
        "id": "iHLeIimfRbIu",
        "outputId": "958af3c9-60dd-4252-a7f3-eea166aafa11",
        "colab": {
          "base_uri": "https://localhost:8080/"
        }
      },
      "execution_count": null,
      "outputs": [
        {
          "output_type": "execute_result",
          "data": {
            "text/plain": [
              "array([[  2538814.668],\n",
              "       [  -189244.495],\n",
              "       [ 15646198.872],\n",
              "       [  1704385.787],\n",
              "       [ -2949241.127],\n",
              "       [  2115141.913],\n",
              "       [ -1936106.795],\n",
              "       [   693113.125],\n",
              "       [ -6404024.808],\n",
              "       [  5543489.49 ],\n",
              "       [  2351453.109],\n",
              "       [ -4309748.321],\n",
              "       [ -7654992.741],\n",
              "       [ 11849473.531],\n",
              "       [   459872.651],\n",
              "       [  5620627.169],\n",
              "       [-10101050.153],\n",
              "       [ -3352771.255],\n",
              "       [ -1589234.291],\n",
              "       [ 16668840.826],\n",
              "       [  1738486.109],\n",
              "       [  6933957.062],\n",
              "       [   167737.281],\n",
              "       [  -260715.09 ],\n",
              "       [  5204189.052],\n",
              "       [  3427543.547],\n",
              "       [ 12004356.422],\n",
              "       [  1166810.992],\n",
              "       [   -24775.696],\n",
              "       [  3178961.314],\n",
              "       [ -3358323.034],\n",
              "       [  1521876.13 ]])"
            ]
          },
          "metadata": {},
          "execution_count": 116
        }
      ]
    },
    {
      "cell_type": "code",
      "source": [
        "DCT0 = C1-C0  #산출액 실질변동액\n",
        "DCT1 = TCTD + TITD + TTE +T3 + T4 + T5 # 총변동요인\n",
        "DCT = DCT0-DCT1"
      ],
      "metadata": {
        "id": "-bGGgsUDHQ79"
      },
      "execution_count": null,
      "outputs": []
    },
    {
      "cell_type": "code",
      "source": [
        "SUM = np.concatenate((C0, C1, DCT0, DCT1, DCT, T1, TC111, TI111, T2, TI, T5), axis=1)\n",
        "SUM.shape\n",
        "SUM1 = np.sum(SUM, axis=0).reshape([1,21])\n",
        "PGD1015 = (np.concatenate((SUM, SUM1), axis=0))\n",
        "PGD1015_f = (PGD1015/1000).round(1)"
      ],
      "metadata": {
        "id": "vVUQoAshMJJU"
      },
      "execution_count": null,
      "outputs": []
    },
    {
      "cell_type": "code",
      "source": [
        "PGD1015_ff = pd.DataFrame(PGD1015_f,columns = ['10년산출액', '15년산출액', '15-10산출액(A)', '요인별합계(B)', 'B-A', '국내최종수요증감액', '국내최종수요(규모증가)', '국내최종수요(구조변화)',\n",
        "                                                     '소비', '소비(규모)','소비(구조)','투자', '투자(규모)','투자(구조)', '수출', '수출(규모)','수출(구조)', '수입', '최종재수입','중간재수입', '기술변화'],\n",
        "\n",
        "                         index=['농림수산품', '광산품', '음식료품', '섬유 및 가죽제품', '목재 및 종이, 인쇄', ' 석탄 및 석유제품', '화학제품', '비금속광물제품', '1차금속제품', '금속가공제품',\n",
        "                                '컴퓨터, 전자 및 광학기기', '전기장비', '기계 및 장비', '운송장비', '기타제조업제품', '제조임가공 및 산업용 장비 수리', '전력, 가스 및 증기', '수도, 폐기물처리 및 재활용 서비스',\n",
        "                                '건설', '도소매', '운송서비스', '음석점및숙박', '정보통신 및 방송서비스', '금융및보험서비스', '부동산서비스', '전문, 과학 및 기술서비스',\n",
        "                                '사업지원서비스', '공공행정, 국방 및 사회보장', '교육서비스', '보건 및 사회복지서비스', '예술, 스포츠 및 여가 관련 서비스', '기타 서비스', '계'])  # pandas로 내보내기"
      ],
      "metadata": {
        "id": "RGtoWYTD2Lhw"
      },
      "execution_count": null,
      "outputs": []
    },
    {
      "cell_type": "code",
      "source": [
        "PGD1015_ff"
      ],
      "metadata": {
        "id": "Fk9Z5m7G8oxT",
        "outputId": "f028cb37-9ccd-4927-f640-0264c44c1dda",
        "colab": {
          "base_uri": "https://localhost:8080/",
          "height": 1000
        }
      },
      "execution_count": null,
      "outputs": [
        {
          "output_type": "execute_result",
          "data": {
            "text/plain": [
              "                        10년산출액     15년산출액  15-10산출액(A)  요인별합계(B)  B-A  \\\n",
              "농림수산품                  59105.4    61371.7       2266.3    2266.3  0.0   \n",
              "광산품                     3805.0     4125.2        320.3     320.3  0.0   \n",
              "음식료품                  106663.7   122147.2      15483.5   15483.5  0.0   \n",
              "섬유 및 가죽제품              72748.2    79329.1       6580.9    6580.9 -0.0   \n",
              "목재 및 종이, 인쇄            40939.6    42914.0       1974.4    1974.4 -0.0   \n",
              " 석탄 및 석유제품             88115.6   110150.0      22034.4   22034.4  0.0   \n",
              "화학제품                  206672.6   245383.2      38710.6   38710.6  0.0   \n",
              "비금속광물제품                35071.6    39678.7       4607.1    4607.1 -0.0   \n",
              "1차금속제품                115463.4   124914.2       9450.8    9450.8  0.0   \n",
              "금속가공제품                 81461.3   100287.6      18826.2   18826.2  0.0   \n",
              "컴퓨터, 전자 및 광학기기        194305.9   282213.6      87907.6   87907.6  0.0   \n",
              "전기장비                   88245.5    95673.1       7427.7    7427.7  0.0   \n",
              "기계 및 장비               116925.4   125009.9       8084.5    8084.5  0.0   \n",
              "운송장비                  216735.2   257977.5      41242.3   41242.3 -0.0   \n",
              "기타제조업제품                17604.1    20146.5       2542.4    2542.4  0.0   \n",
              "제조임가공 및 산업용 장비 수리      46081.2    61203.8      15122.7   15122.7  0.0   \n",
              "전력, 가스 및 증기            98296.9    92800.0      -5496.9   -5496.9 -0.0   \n",
              "수도, 폐기물처리 및 재활용 서비스    20531.3    19221.6      -1309.8   -1309.7 -0.0   \n",
              "건설                    217667.9   223617.0       5949.1    5949.1  0.0   \n",
              "도소매                   186781.7   247647.6      60866.0   60866.0 -0.0   \n",
              "운송서비스                 129332.3   141344.5      12012.2   12012.2 -0.0   \n",
              "음석점및숙박                107393.3   131926.2      24532.9   24532.9 -0.0   \n",
              "정보통신 및 방송서비스          109572.3   135412.8      25840.5   25840.5  0.0   \n",
              "금융및보험서비스              130349.0   156925.2      26576.2   26576.2  0.0   \n",
              "부동산서비스                159681.2   191497.5      31816.3   31816.3 -0.0   \n",
              "전문, 과학 및 기술서비스        147270.9   186524.2      39253.2   39253.2  0.0   \n",
              "사업지원서비스                56165.7    76481.3      20315.6   20315.6  0.0   \n",
              "공공행정, 국방 및 사회보장       100424.8   123378.8      22954.0   22954.0  0.0   \n",
              "교육서비스                 106773.8   116328.6       9554.9    9554.9  0.0   \n",
              "보건 및 사회복지서비스           91534.8   119620.1      28085.3   28085.3  0.0   \n",
              "예술, 스포츠 및 여가 관련 서비스    40202.6    40293.8         91.1      91.1 -0.0   \n",
              "기타 서비스                 44919.0    54193.3       9274.3    9274.3  0.0   \n",
              "계                    3236841.3  3829737.9     592896.6  592896.6  0.0   \n",
              "\n",
              "                     국내최종수요증감액  국내최종수요(규모증가)  국내최종수요(구조변화)        소비  \\\n",
              "농림수산품                   1709.1        7086.2       -5377.1    3261.4   \n",
              "광산품                       57.5         248.2        -190.8      58.4   \n",
              "음식료품                     466.3       14229.7      -13763.4    3686.2   \n",
              "섬유 및 가죽제품                181.2        4240.3       -4059.0    1537.1   \n",
              "목재 및 종이, 인쇄             3797.7        3002.2         795.5    2422.8   \n",
              " 석탄 및 석유제품              1857.2        5754.6       -3897.4    2667.4   \n",
              "화학제품                    9380.4        9449.1         -68.7    7873.3   \n",
              "비금속광물제품                 1364.7        2488.8       -1124.1     529.2   \n",
              "1차금속제품                 -2216.6        3918.8       -6135.4    1358.0   \n",
              "금속가공제품                  4145.0        4899.4        -754.5    1997.0   \n",
              "컴퓨터, 전자 및 광학기기         11735.0        5472.2        6262.8    7347.1   \n",
              "전기장비                    3984.3        4037.1         -52.8    2719.5   \n",
              "기계 및 장비                 3825.0        4806.2        -981.2     816.4   \n",
              "운송장비                   14241.5        7383.8        6857.7    8000.4   \n",
              "기타제조업제품                 2901.3        1595.9        1305.4    1690.6   \n",
              "제조임가공 및 산업용 장비 수리       2254.2        2867.5        -613.3    1824.2   \n",
              "전력, 가스 및 증기             -970.3        8635.5       -9605.7   -2286.2   \n",
              "수도, 폐기물처리 및 재활용 서비스      737.8        1690.6        -952.7     633.5   \n",
              "건설                      7645.3       18979.2      -11333.9     890.5   \n",
              "도소매                    25019.8       19626.6        5393.2   24680.3   \n",
              "운송서비스                   4394.4        8289.4       -3895.1    3417.7   \n",
              "음석점및숙박                 16351.0       13153.0        3198.0   15158.7   \n",
              "정보통신 및 방송서비스           18163.2       11497.9        6665.3    9415.9   \n",
              "금융및보험서비스               22239.2       15001.1        7238.2   20409.2   \n",
              "부동산서비스                 23961.8       20841.1        3120.6   16368.4   \n",
              "전문, 과학 및 기술서비스         28728.5       11135.0       17593.5    5601.1   \n",
              "사업지원서비스                 4162.0        5874.4       -1712.4    2414.7   \n",
              "공공행정, 국방 및 사회보장        21450.2       14433.4        7016.8   21411.7   \n",
              "교육서비스                   7853.8       15375.8       -7522.0    7805.3   \n",
              "보건 및 사회복지서비스           24642.3       13178.5       11463.8   24499.4   \n",
              "예술, 스포츠 및 여가 관련 서비스     5076.4        4523.2         553.2    5035.6   \n",
              "기타 서비스                  6782.7        5925.8         856.9    6528.5   \n",
              "계                     275922.1      269640.8        6281.3  209773.3   \n",
              "\n",
              "                       소비(규모)  ...       투자   투자(규모)   투자(구조)        수출  \\\n",
              "농림수산품                  6564.0  ...  -1552.3    522.2  -2074.5    1034.6   \n",
              "광산품                      67.6  ...     -0.9    180.6   -181.6     355.3   \n",
              "음식료품                  13465.7  ...  -3219.9    764.0  -3983.9    3038.0   \n",
              "섬유 및 가죽제품              3779.8  ...  -1355.8    460.5  -1816.3   16721.6   \n",
              "목재 및 종이, 인쇄            2122.3  ...   1374.9    880.0    495.0    2670.0   \n",
              " 석탄 및 석유제품             4770.2  ...   -810.2    984.4  -1794.6   16613.3   \n",
              "화학제품                   6856.5  ...   1507.1   2592.6  -1085.5   40896.1   \n",
              "비금속광물제품                 470.1  ...    835.5   2018.7  -1183.2    3410.0   \n",
              "1차금속제품                 1196.2  ...  -3574.6   2722.6  -6297.2   15673.6   \n",
              "금속가공제품                 1837.2  ...   2147.9   3062.2   -914.3    9245.8   \n",
              "컴퓨터, 전자 및 광학기기         3358.7  ...   4387.9   2113.5   2274.4   83103.9   \n",
              "전기장비                   1780.5  ...   1264.8   2256.5   -991.7   11746.1   \n",
              "기계 및 장비                 920.9  ...   3008.7   3885.3   -876.6   13588.0   \n",
              "운송장비                   4586.6  ...   6241.1   2797.2   3443.9   16429.9   \n",
              "기타제조업제품                1212.3  ...   1210.8    383.6    827.2     977.8   \n",
              "제조임가공 및 산업용 장비 수리      1974.7  ...    430.0    892.7   -462.7    6972.0   \n",
              "전력, 가스 및 증기            7444.7  ...   1316.0   1190.8    125.2    6794.1   \n",
              "수도, 폐기물처리 및 재활용 서비스    1475.2  ...    104.3    215.4   -111.1    1475.3   \n",
              "건설                      966.0  ...   6754.8  18013.2 -11258.4     135.6   \n",
              "도소매                   16183.2  ...    339.4   3443.3  -3103.9   22752.8   \n",
              "운송서비스                  6769.1  ...    976.7   1520.3   -543.6   11524.7   \n",
              "음석점및숙박                12391.7  ...   1192.3    761.4    430.9    2961.5   \n",
              "정보통신 및 방송서비스           8231.1  ...   8747.4   3266.8   5480.5    7554.4   \n",
              "금융및보험서비스              13633.6  ...   1830.1   1367.4    462.6    5165.3   \n",
              "부동산서비스                18456.9  ...   7593.4   2384.3   5209.1    2606.0   \n",
              "전문, 과학 및 기술서비스         4707.7  ...  23127.4   6427.3  16700.1   16115.7   \n",
              "사업지원서비스                4549.1  ...   1747.2   1325.3    422.0    5762.2   \n",
              "공공행정, 국방 및 사회보장       14397.4  ...     38.5     36.0      2.5     230.8   \n",
              "교육서비스                 15337.6  ...     48.5     38.2     10.3    -139.3   \n",
              "보건 및 사회복지서비스          13055.0  ...    142.9    123.5     19.4     762.4   \n",
              "예술, 스포츠 및 여가 관련 서비스    4351.8  ...     40.8    171.4   -130.6    -206.8   \n",
              "기타 서비스                 5703.3  ...    254.2    222.5     31.7    1322.6   \n",
              "계                    202617.0  ...  66148.8  67023.8   -875.0  327293.2   \n",
              "\n",
              "                       수출(규모)   수출(구조)       수입    최종재수입    중간재수입     기술변화  \n",
              "농림수산품                  2283.0  -1248.3  -3016.2  -1896.6  -1119.6   2538.8  \n",
              "광산품                     392.0    -36.7     96.8    -19.1    115.8   -189.2  \n",
              "음식료품                   5328.3  -2290.3  -3667.0  -4007.6    340.5  15646.2  \n",
              "섬유 및 가죽제품             10380.4   6341.2 -12026.3  -6350.2  -5676.1   1704.4  \n",
              "목재 및 종이, 인쇄            3881.4  -1211.4  -1544.1   -358.6  -1185.5  -2949.2  \n",
              " 석탄 및 석유제품            15889.0    724.3   1448.8   -874.9   2323.7   2115.1  \n",
              "화학제품                  39657.0   1239.1  -9629.8  -6965.9  -2663.9  -1936.1  \n",
              "비금속광물제품                2829.1    580.9   -860.8   -540.4   -320.5    693.1  \n",
              "1차금속제품                24246.1  -8572.6   2397.9    514.5   1883.4  -6404.0  \n",
              "금속가공제품                13110.8  -3865.1   -108.0    -76.6    -31.4   5543.5  \n",
              "컴퓨터, 전자 및 광학기기        47167.3  35936.7  -9282.7   2915.4 -12198.1   2351.5  \n",
              "전기장비                  14030.3  -2284.2  -3993.0   -559.6  -3433.4  -4309.7  \n",
              "기계 및 장비               19066.4  -5478.4  -1673.5   3209.8  -4883.4  -7655.0  \n",
              "운송장비                  55101.9 -38672.0  -1278.6  -4189.7   2911.1  11849.5  \n",
              "기타제조업제품                1142.1   -164.4  -1796.5   -842.0   -954.6    459.9  \n",
              "제조임가공 및 산업용 장비 수리      9428.8  -2456.7    275.8  -1057.9   1333.7   5620.6  \n",
              "전력, 가스 및 증기            7181.6   -387.5  -1219.6   -669.8   -549.8 -10101.1  \n",
              "수도, 폐기물처리 및 재활용 서비스    1426.6     48.7   -170.1   -107.2    -62.9  -3352.8  \n",
              "건설                      553.9   -418.4   -242.5    -49.4   -193.2  -1589.2  \n",
              "도소매                   15936.5   6816.4  -3575.5  -1644.1  -1931.3  16668.8  \n",
              "운송서비스                 20488.0  -8963.3  -5645.4  -4641.5  -1003.8   1738.5  \n",
              "음석점및숙박                 5836.9  -2875.4  -1713.6  -1036.4   -677.3   6934.0  \n",
              "정보통신 및 방송서비스           4922.8   2631.6    -44.9    549.0   -593.9    167.7  \n",
              "금융및보험서비스               6259.5  -1094.2   -567.6   -344.1   -223.5   -260.7  \n",
              "부동산서비스                 2880.4   -274.4     44.4    122.6    -78.2   5204.2  \n",
              "전문, 과학 및 기술서비스        11750.6   4365.2  -9018.5  -4754.7  -4263.8   3427.5  \n",
              "사업지원서비스                6594.2   -832.0  -1612.9   -110.1  -1502.8  12004.4  \n",
              "공공행정, 국방 및 사회보장         235.3     -4.5    106.2     -4.5    110.7   1166.8  \n",
              "교육서비스                   344.3   -483.7   1865.2   1821.4     43.8    -24.8  \n",
              "보건 및 사회복지서비스            535.6    226.8   -498.4   -442.6    -55.8   3179.0  \n",
              "예술, 스포츠 및 여가 관련 서비스    1029.5  -1236.3  -1420.2  -2173.8    753.7  -3358.3  \n",
              "기타 서비스                 1243.5     79.2   -352.9   -167.6   -185.4   1521.9  \n",
              "계                    351153.0 -23859.8 -68723.8 -34752.1 -33971.7  58405.1  \n",
              "\n",
              "[33 rows x 21 columns]"
            ],
            "text/html": [
              "\n",
              "\n",
              "  <div id=\"df-8ad8d469-60d9-4bcd-89d9-04a1560a0505\">\n",
              "    <div class=\"colab-df-container\">\n",
              "      <div>\n",
              "<style scoped>\n",
              "    .dataframe tbody tr th:only-of-type {\n",
              "        vertical-align: middle;\n",
              "    }\n",
              "\n",
              "    .dataframe tbody tr th {\n",
              "        vertical-align: top;\n",
              "    }\n",
              "\n",
              "    .dataframe thead th {\n",
              "        text-align: right;\n",
              "    }\n",
              "</style>\n",
              "<table border=\"1\" class=\"dataframe\">\n",
              "  <thead>\n",
              "    <tr style=\"text-align: right;\">\n",
              "      <th></th>\n",
              "      <th>10년산출액</th>\n",
              "      <th>15년산출액</th>\n",
              "      <th>15-10산출액(A)</th>\n",
              "      <th>요인별합계(B)</th>\n",
              "      <th>B-A</th>\n",
              "      <th>국내최종수요증감액</th>\n",
              "      <th>국내최종수요(규모증가)</th>\n",
              "      <th>국내최종수요(구조변화)</th>\n",
              "      <th>소비</th>\n",
              "      <th>소비(규모)</th>\n",
              "      <th>...</th>\n",
              "      <th>투자</th>\n",
              "      <th>투자(규모)</th>\n",
              "      <th>투자(구조)</th>\n",
              "      <th>수출</th>\n",
              "      <th>수출(규모)</th>\n",
              "      <th>수출(구조)</th>\n",
              "      <th>수입</th>\n",
              "      <th>최종재수입</th>\n",
              "      <th>중간재수입</th>\n",
              "      <th>기술변화</th>\n",
              "    </tr>\n",
              "  </thead>\n",
              "  <tbody>\n",
              "    <tr>\n",
              "      <th>농림수산품</th>\n",
              "      <td>59105.4</td>\n",
              "      <td>61371.7</td>\n",
              "      <td>2266.3</td>\n",
              "      <td>2266.3</td>\n",
              "      <td>0.0</td>\n",
              "      <td>1709.1</td>\n",
              "      <td>7086.2</td>\n",
              "      <td>-5377.1</td>\n",
              "      <td>3261.4</td>\n",
              "      <td>6564.0</td>\n",
              "      <td>...</td>\n",
              "      <td>-1552.3</td>\n",
              "      <td>522.2</td>\n",
              "      <td>-2074.5</td>\n",
              "      <td>1034.6</td>\n",
              "      <td>2283.0</td>\n",
              "      <td>-1248.3</td>\n",
              "      <td>-3016.2</td>\n",
              "      <td>-1896.6</td>\n",
              "      <td>-1119.6</td>\n",
              "      <td>2538.8</td>\n",
              "    </tr>\n",
              "    <tr>\n",
              "      <th>광산품</th>\n",
              "      <td>3805.0</td>\n",
              "      <td>4125.2</td>\n",
              "      <td>320.3</td>\n",
              "      <td>320.3</td>\n",
              "      <td>0.0</td>\n",
              "      <td>57.5</td>\n",
              "      <td>248.2</td>\n",
              "      <td>-190.8</td>\n",
              "      <td>58.4</td>\n",
              "      <td>67.6</td>\n",
              "      <td>...</td>\n",
              "      <td>-0.9</td>\n",
              "      <td>180.6</td>\n",
              "      <td>-181.6</td>\n",
              "      <td>355.3</td>\n",
              "      <td>392.0</td>\n",
              "      <td>-36.7</td>\n",
              "      <td>96.8</td>\n",
              "      <td>-19.1</td>\n",
              "      <td>115.8</td>\n",
              "      <td>-189.2</td>\n",
              "    </tr>\n",
              "    <tr>\n",
              "      <th>음식료품</th>\n",
              "      <td>106663.7</td>\n",
              "      <td>122147.2</td>\n",
              "      <td>15483.5</td>\n",
              "      <td>15483.5</td>\n",
              "      <td>0.0</td>\n",
              "      <td>466.3</td>\n",
              "      <td>14229.7</td>\n",
              "      <td>-13763.4</td>\n",
              "      <td>3686.2</td>\n",
              "      <td>13465.7</td>\n",
              "      <td>...</td>\n",
              "      <td>-3219.9</td>\n",
              "      <td>764.0</td>\n",
              "      <td>-3983.9</td>\n",
              "      <td>3038.0</td>\n",
              "      <td>5328.3</td>\n",
              "      <td>-2290.3</td>\n",
              "      <td>-3667.0</td>\n",
              "      <td>-4007.6</td>\n",
              "      <td>340.5</td>\n",
              "      <td>15646.2</td>\n",
              "    </tr>\n",
              "    <tr>\n",
              "      <th>섬유 및 가죽제품</th>\n",
              "      <td>72748.2</td>\n",
              "      <td>79329.1</td>\n",
              "      <td>6580.9</td>\n",
              "      <td>6580.9</td>\n",
              "      <td>-0.0</td>\n",
              "      <td>181.2</td>\n",
              "      <td>4240.3</td>\n",
              "      <td>-4059.0</td>\n",
              "      <td>1537.1</td>\n",
              "      <td>3779.8</td>\n",
              "      <td>...</td>\n",
              "      <td>-1355.8</td>\n",
              "      <td>460.5</td>\n",
              "      <td>-1816.3</td>\n",
              "      <td>16721.6</td>\n",
              "      <td>10380.4</td>\n",
              "      <td>6341.2</td>\n",
              "      <td>-12026.3</td>\n",
              "      <td>-6350.2</td>\n",
              "      <td>-5676.1</td>\n",
              "      <td>1704.4</td>\n",
              "    </tr>\n",
              "    <tr>\n",
              "      <th>목재 및 종이, 인쇄</th>\n",
              "      <td>40939.6</td>\n",
              "      <td>42914.0</td>\n",
              "      <td>1974.4</td>\n",
              "      <td>1974.4</td>\n",
              "      <td>-0.0</td>\n",
              "      <td>3797.7</td>\n",
              "      <td>3002.2</td>\n",
              "      <td>795.5</td>\n",
              "      <td>2422.8</td>\n",
              "      <td>2122.3</td>\n",
              "      <td>...</td>\n",
              "      <td>1374.9</td>\n",
              "      <td>880.0</td>\n",
              "      <td>495.0</td>\n",
              "      <td>2670.0</td>\n",
              "      <td>3881.4</td>\n",
              "      <td>-1211.4</td>\n",
              "      <td>-1544.1</td>\n",
              "      <td>-358.6</td>\n",
              "      <td>-1185.5</td>\n",
              "      <td>-2949.2</td>\n",
              "    </tr>\n",
              "    <tr>\n",
              "      <th>석탄 및 석유제품</th>\n",
              "      <td>88115.6</td>\n",
              "      <td>110150.0</td>\n",
              "      <td>22034.4</td>\n",
              "      <td>22034.4</td>\n",
              "      <td>0.0</td>\n",
              "      <td>1857.2</td>\n",
              "      <td>5754.6</td>\n",
              "      <td>-3897.4</td>\n",
              "      <td>2667.4</td>\n",
              "      <td>4770.2</td>\n",
              "      <td>...</td>\n",
              "      <td>-810.2</td>\n",
              "      <td>984.4</td>\n",
              "      <td>-1794.6</td>\n",
              "      <td>16613.3</td>\n",
              "      <td>15889.0</td>\n",
              "      <td>724.3</td>\n",
              "      <td>1448.8</td>\n",
              "      <td>-874.9</td>\n",
              "      <td>2323.7</td>\n",
              "      <td>2115.1</td>\n",
              "    </tr>\n",
              "    <tr>\n",
              "      <th>화학제품</th>\n",
              "      <td>206672.6</td>\n",
              "      <td>245383.2</td>\n",
              "      <td>38710.6</td>\n",
              "      <td>38710.6</td>\n",
              "      <td>0.0</td>\n",
              "      <td>9380.4</td>\n",
              "      <td>9449.1</td>\n",
              "      <td>-68.7</td>\n",
              "      <td>7873.3</td>\n",
              "      <td>6856.5</td>\n",
              "      <td>...</td>\n",
              "      <td>1507.1</td>\n",
              "      <td>2592.6</td>\n",
              "      <td>-1085.5</td>\n",
              "      <td>40896.1</td>\n",
              "      <td>39657.0</td>\n",
              "      <td>1239.1</td>\n",
              "      <td>-9629.8</td>\n",
              "      <td>-6965.9</td>\n",
              "      <td>-2663.9</td>\n",
              "      <td>-1936.1</td>\n",
              "    </tr>\n",
              "    <tr>\n",
              "      <th>비금속광물제품</th>\n",
              "      <td>35071.6</td>\n",
              "      <td>39678.7</td>\n",
              "      <td>4607.1</td>\n",
              "      <td>4607.1</td>\n",
              "      <td>-0.0</td>\n",
              "      <td>1364.7</td>\n",
              "      <td>2488.8</td>\n",
              "      <td>-1124.1</td>\n",
              "      <td>529.2</td>\n",
              "      <td>470.1</td>\n",
              "      <td>...</td>\n",
              "      <td>835.5</td>\n",
              "      <td>2018.7</td>\n",
              "      <td>-1183.2</td>\n",
              "      <td>3410.0</td>\n",
              "      <td>2829.1</td>\n",
              "      <td>580.9</td>\n",
              "      <td>-860.8</td>\n",
              "      <td>-540.4</td>\n",
              "      <td>-320.5</td>\n",
              "      <td>693.1</td>\n",
              "    </tr>\n",
              "    <tr>\n",
              "      <th>1차금속제품</th>\n",
              "      <td>115463.4</td>\n",
              "      <td>124914.2</td>\n",
              "      <td>9450.8</td>\n",
              "      <td>9450.8</td>\n",
              "      <td>0.0</td>\n",
              "      <td>-2216.6</td>\n",
              "      <td>3918.8</td>\n",
              "      <td>-6135.4</td>\n",
              "      <td>1358.0</td>\n",
              "      <td>1196.2</td>\n",
              "      <td>...</td>\n",
              "      <td>-3574.6</td>\n",
              "      <td>2722.6</td>\n",
              "      <td>-6297.2</td>\n",
              "      <td>15673.6</td>\n",
              "      <td>24246.1</td>\n",
              "      <td>-8572.6</td>\n",
              "      <td>2397.9</td>\n",
              "      <td>514.5</td>\n",
              "      <td>1883.4</td>\n",
              "      <td>-6404.0</td>\n",
              "    </tr>\n",
              "    <tr>\n",
              "      <th>금속가공제품</th>\n",
              "      <td>81461.3</td>\n",
              "      <td>100287.6</td>\n",
              "      <td>18826.2</td>\n",
              "      <td>18826.2</td>\n",
              "      <td>0.0</td>\n",
              "      <td>4145.0</td>\n",
              "      <td>4899.4</td>\n",
              "      <td>-754.5</td>\n",
              "      <td>1997.0</td>\n",
              "      <td>1837.2</td>\n",
              "      <td>...</td>\n",
              "      <td>2147.9</td>\n",
              "      <td>3062.2</td>\n",
              "      <td>-914.3</td>\n",
              "      <td>9245.8</td>\n",
              "      <td>13110.8</td>\n",
              "      <td>-3865.1</td>\n",
              "      <td>-108.0</td>\n",
              "      <td>-76.6</td>\n",
              "      <td>-31.4</td>\n",
              "      <td>5543.5</td>\n",
              "    </tr>\n",
              "    <tr>\n",
              "      <th>컴퓨터, 전자 및 광학기기</th>\n",
              "      <td>194305.9</td>\n",
              "      <td>282213.6</td>\n",
              "      <td>87907.6</td>\n",
              "      <td>87907.6</td>\n",
              "      <td>0.0</td>\n",
              "      <td>11735.0</td>\n",
              "      <td>5472.2</td>\n",
              "      <td>6262.8</td>\n",
              "      <td>7347.1</td>\n",
              "      <td>3358.7</td>\n",
              "      <td>...</td>\n",
              "      <td>4387.9</td>\n",
              "      <td>2113.5</td>\n",
              "      <td>2274.4</td>\n",
              "      <td>83103.9</td>\n",
              "      <td>47167.3</td>\n",
              "      <td>35936.7</td>\n",
              "      <td>-9282.7</td>\n",
              "      <td>2915.4</td>\n",
              "      <td>-12198.1</td>\n",
              "      <td>2351.5</td>\n",
              "    </tr>\n",
              "    <tr>\n",
              "      <th>전기장비</th>\n",
              "      <td>88245.5</td>\n",
              "      <td>95673.1</td>\n",
              "      <td>7427.7</td>\n",
              "      <td>7427.7</td>\n",
              "      <td>0.0</td>\n",
              "      <td>3984.3</td>\n",
              "      <td>4037.1</td>\n",
              "      <td>-52.8</td>\n",
              "      <td>2719.5</td>\n",
              "      <td>1780.5</td>\n",
              "      <td>...</td>\n",
              "      <td>1264.8</td>\n",
              "      <td>2256.5</td>\n",
              "      <td>-991.7</td>\n",
              "      <td>11746.1</td>\n",
              "      <td>14030.3</td>\n",
              "      <td>-2284.2</td>\n",
              "      <td>-3993.0</td>\n",
              "      <td>-559.6</td>\n",
              "      <td>-3433.4</td>\n",
              "      <td>-4309.7</td>\n",
              "    </tr>\n",
              "    <tr>\n",
              "      <th>기계 및 장비</th>\n",
              "      <td>116925.4</td>\n",
              "      <td>125009.9</td>\n",
              "      <td>8084.5</td>\n",
              "      <td>8084.5</td>\n",
              "      <td>0.0</td>\n",
              "      <td>3825.0</td>\n",
              "      <td>4806.2</td>\n",
              "      <td>-981.2</td>\n",
              "      <td>816.4</td>\n",
              "      <td>920.9</td>\n",
              "      <td>...</td>\n",
              "      <td>3008.7</td>\n",
              "      <td>3885.3</td>\n",
              "      <td>-876.6</td>\n",
              "      <td>13588.0</td>\n",
              "      <td>19066.4</td>\n",
              "      <td>-5478.4</td>\n",
              "      <td>-1673.5</td>\n",
              "      <td>3209.8</td>\n",
              "      <td>-4883.4</td>\n",
              "      <td>-7655.0</td>\n",
              "    </tr>\n",
              "    <tr>\n",
              "      <th>운송장비</th>\n",
              "      <td>216735.2</td>\n",
              "      <td>257977.5</td>\n",
              "      <td>41242.3</td>\n",
              "      <td>41242.3</td>\n",
              "      <td>-0.0</td>\n",
              "      <td>14241.5</td>\n",
              "      <td>7383.8</td>\n",
              "      <td>6857.7</td>\n",
              "      <td>8000.4</td>\n",
              "      <td>4586.6</td>\n",
              "      <td>...</td>\n",
              "      <td>6241.1</td>\n",
              "      <td>2797.2</td>\n",
              "      <td>3443.9</td>\n",
              "      <td>16429.9</td>\n",
              "      <td>55101.9</td>\n",
              "      <td>-38672.0</td>\n",
              "      <td>-1278.6</td>\n",
              "      <td>-4189.7</td>\n",
              "      <td>2911.1</td>\n",
              "      <td>11849.5</td>\n",
              "    </tr>\n",
              "    <tr>\n",
              "      <th>기타제조업제품</th>\n",
              "      <td>17604.1</td>\n",
              "      <td>20146.5</td>\n",
              "      <td>2542.4</td>\n",
              "      <td>2542.4</td>\n",
              "      <td>0.0</td>\n",
              "      <td>2901.3</td>\n",
              "      <td>1595.9</td>\n",
              "      <td>1305.4</td>\n",
              "      <td>1690.6</td>\n",
              "      <td>1212.3</td>\n",
              "      <td>...</td>\n",
              "      <td>1210.8</td>\n",
              "      <td>383.6</td>\n",
              "      <td>827.2</td>\n",
              "      <td>977.8</td>\n",
              "      <td>1142.1</td>\n",
              "      <td>-164.4</td>\n",
              "      <td>-1796.5</td>\n",
              "      <td>-842.0</td>\n",
              "      <td>-954.6</td>\n",
              "      <td>459.9</td>\n",
              "    </tr>\n",
              "    <tr>\n",
              "      <th>제조임가공 및 산업용 장비 수리</th>\n",
              "      <td>46081.2</td>\n",
              "      <td>61203.8</td>\n",
              "      <td>15122.7</td>\n",
              "      <td>15122.7</td>\n",
              "      <td>0.0</td>\n",
              "      <td>2254.2</td>\n",
              "      <td>2867.5</td>\n",
              "      <td>-613.3</td>\n",
              "      <td>1824.2</td>\n",
              "      <td>1974.7</td>\n",
              "      <td>...</td>\n",
              "      <td>430.0</td>\n",
              "      <td>892.7</td>\n",
              "      <td>-462.7</td>\n",
              "      <td>6972.0</td>\n",
              "      <td>9428.8</td>\n",
              "      <td>-2456.7</td>\n",
              "      <td>275.8</td>\n",
              "      <td>-1057.9</td>\n",
              "      <td>1333.7</td>\n",
              "      <td>5620.6</td>\n",
              "    </tr>\n",
              "    <tr>\n",
              "      <th>전력, 가스 및 증기</th>\n",
              "      <td>98296.9</td>\n",
              "      <td>92800.0</td>\n",
              "      <td>-5496.9</td>\n",
              "      <td>-5496.9</td>\n",
              "      <td>-0.0</td>\n",
              "      <td>-970.3</td>\n",
              "      <td>8635.5</td>\n",
              "      <td>-9605.7</td>\n",
              "      <td>-2286.2</td>\n",
              "      <td>7444.7</td>\n",
              "      <td>...</td>\n",
              "      <td>1316.0</td>\n",
              "      <td>1190.8</td>\n",
              "      <td>125.2</td>\n",
              "      <td>6794.1</td>\n",
              "      <td>7181.6</td>\n",
              "      <td>-387.5</td>\n",
              "      <td>-1219.6</td>\n",
              "      <td>-669.8</td>\n",
              "      <td>-549.8</td>\n",
              "      <td>-10101.1</td>\n",
              "    </tr>\n",
              "    <tr>\n",
              "      <th>수도, 폐기물처리 및 재활용 서비스</th>\n",
              "      <td>20531.3</td>\n",
              "      <td>19221.6</td>\n",
              "      <td>-1309.8</td>\n",
              "      <td>-1309.7</td>\n",
              "      <td>-0.0</td>\n",
              "      <td>737.8</td>\n",
              "      <td>1690.6</td>\n",
              "      <td>-952.7</td>\n",
              "      <td>633.5</td>\n",
              "      <td>1475.2</td>\n",
              "      <td>...</td>\n",
              "      <td>104.3</td>\n",
              "      <td>215.4</td>\n",
              "      <td>-111.1</td>\n",
              "      <td>1475.3</td>\n",
              "      <td>1426.6</td>\n",
              "      <td>48.7</td>\n",
              "      <td>-170.1</td>\n",
              "      <td>-107.2</td>\n",
              "      <td>-62.9</td>\n",
              "      <td>-3352.8</td>\n",
              "    </tr>\n",
              "    <tr>\n",
              "      <th>건설</th>\n",
              "      <td>217667.9</td>\n",
              "      <td>223617.0</td>\n",
              "      <td>5949.1</td>\n",
              "      <td>5949.1</td>\n",
              "      <td>0.0</td>\n",
              "      <td>7645.3</td>\n",
              "      <td>18979.2</td>\n",
              "      <td>-11333.9</td>\n",
              "      <td>890.5</td>\n",
              "      <td>966.0</td>\n",
              "      <td>...</td>\n",
              "      <td>6754.8</td>\n",
              "      <td>18013.2</td>\n",
              "      <td>-11258.4</td>\n",
              "      <td>135.6</td>\n",
              "      <td>553.9</td>\n",
              "      <td>-418.4</td>\n",
              "      <td>-242.5</td>\n",
              "      <td>-49.4</td>\n",
              "      <td>-193.2</td>\n",
              "      <td>-1589.2</td>\n",
              "    </tr>\n",
              "    <tr>\n",
              "      <th>도소매</th>\n",
              "      <td>186781.7</td>\n",
              "      <td>247647.6</td>\n",
              "      <td>60866.0</td>\n",
              "      <td>60866.0</td>\n",
              "      <td>-0.0</td>\n",
              "      <td>25019.8</td>\n",
              "      <td>19626.6</td>\n",
              "      <td>5393.2</td>\n",
              "      <td>24680.3</td>\n",
              "      <td>16183.2</td>\n",
              "      <td>...</td>\n",
              "      <td>339.4</td>\n",
              "      <td>3443.3</td>\n",
              "      <td>-3103.9</td>\n",
              "      <td>22752.8</td>\n",
              "      <td>15936.5</td>\n",
              "      <td>6816.4</td>\n",
              "      <td>-3575.5</td>\n",
              "      <td>-1644.1</td>\n",
              "      <td>-1931.3</td>\n",
              "      <td>16668.8</td>\n",
              "    </tr>\n",
              "    <tr>\n",
              "      <th>운송서비스</th>\n",
              "      <td>129332.3</td>\n",
              "      <td>141344.5</td>\n",
              "      <td>12012.2</td>\n",
              "      <td>12012.2</td>\n",
              "      <td>-0.0</td>\n",
              "      <td>4394.4</td>\n",
              "      <td>8289.4</td>\n",
              "      <td>-3895.1</td>\n",
              "      <td>3417.7</td>\n",
              "      <td>6769.1</td>\n",
              "      <td>...</td>\n",
              "      <td>976.7</td>\n",
              "      <td>1520.3</td>\n",
              "      <td>-543.6</td>\n",
              "      <td>11524.7</td>\n",
              "      <td>20488.0</td>\n",
              "      <td>-8963.3</td>\n",
              "      <td>-5645.4</td>\n",
              "      <td>-4641.5</td>\n",
              "      <td>-1003.8</td>\n",
              "      <td>1738.5</td>\n",
              "    </tr>\n",
              "    <tr>\n",
              "      <th>음석점및숙박</th>\n",
              "      <td>107393.3</td>\n",
              "      <td>131926.2</td>\n",
              "      <td>24532.9</td>\n",
              "      <td>24532.9</td>\n",
              "      <td>-0.0</td>\n",
              "      <td>16351.0</td>\n",
              "      <td>13153.0</td>\n",
              "      <td>3198.0</td>\n",
              "      <td>15158.7</td>\n",
              "      <td>12391.7</td>\n",
              "      <td>...</td>\n",
              "      <td>1192.3</td>\n",
              "      <td>761.4</td>\n",
              "      <td>430.9</td>\n",
              "      <td>2961.5</td>\n",
              "      <td>5836.9</td>\n",
              "      <td>-2875.4</td>\n",
              "      <td>-1713.6</td>\n",
              "      <td>-1036.4</td>\n",
              "      <td>-677.3</td>\n",
              "      <td>6934.0</td>\n",
              "    </tr>\n",
              "    <tr>\n",
              "      <th>정보통신 및 방송서비스</th>\n",
              "      <td>109572.3</td>\n",
              "      <td>135412.8</td>\n",
              "      <td>25840.5</td>\n",
              "      <td>25840.5</td>\n",
              "      <td>0.0</td>\n",
              "      <td>18163.2</td>\n",
              "      <td>11497.9</td>\n",
              "      <td>6665.3</td>\n",
              "      <td>9415.9</td>\n",
              "      <td>8231.1</td>\n",
              "      <td>...</td>\n",
              "      <td>8747.4</td>\n",
              "      <td>3266.8</td>\n",
              "      <td>5480.5</td>\n",
              "      <td>7554.4</td>\n",
              "      <td>4922.8</td>\n",
              "      <td>2631.6</td>\n",
              "      <td>-44.9</td>\n",
              "      <td>549.0</td>\n",
              "      <td>-593.9</td>\n",
              "      <td>167.7</td>\n",
              "    </tr>\n",
              "    <tr>\n",
              "      <th>금융및보험서비스</th>\n",
              "      <td>130349.0</td>\n",
              "      <td>156925.2</td>\n",
              "      <td>26576.2</td>\n",
              "      <td>26576.2</td>\n",
              "      <td>0.0</td>\n",
              "      <td>22239.2</td>\n",
              "      <td>15001.1</td>\n",
              "      <td>7238.2</td>\n",
              "      <td>20409.2</td>\n",
              "      <td>13633.6</td>\n",
              "      <td>...</td>\n",
              "      <td>1830.1</td>\n",
              "      <td>1367.4</td>\n",
              "      <td>462.6</td>\n",
              "      <td>5165.3</td>\n",
              "      <td>6259.5</td>\n",
              "      <td>-1094.2</td>\n",
              "      <td>-567.6</td>\n",
              "      <td>-344.1</td>\n",
              "      <td>-223.5</td>\n",
              "      <td>-260.7</td>\n",
              "    </tr>\n",
              "    <tr>\n",
              "      <th>부동산서비스</th>\n",
              "      <td>159681.2</td>\n",
              "      <td>191497.5</td>\n",
              "      <td>31816.3</td>\n",
              "      <td>31816.3</td>\n",
              "      <td>-0.0</td>\n",
              "      <td>23961.8</td>\n",
              "      <td>20841.1</td>\n",
              "      <td>3120.6</td>\n",
              "      <td>16368.4</td>\n",
              "      <td>18456.9</td>\n",
              "      <td>...</td>\n",
              "      <td>7593.4</td>\n",
              "      <td>2384.3</td>\n",
              "      <td>5209.1</td>\n",
              "      <td>2606.0</td>\n",
              "      <td>2880.4</td>\n",
              "      <td>-274.4</td>\n",
              "      <td>44.4</td>\n",
              "      <td>122.6</td>\n",
              "      <td>-78.2</td>\n",
              "      <td>5204.2</td>\n",
              "    </tr>\n",
              "    <tr>\n",
              "      <th>전문, 과학 및 기술서비스</th>\n",
              "      <td>147270.9</td>\n",
              "      <td>186524.2</td>\n",
              "      <td>39253.2</td>\n",
              "      <td>39253.2</td>\n",
              "      <td>0.0</td>\n",
              "      <td>28728.5</td>\n",
              "      <td>11135.0</td>\n",
              "      <td>17593.5</td>\n",
              "      <td>5601.1</td>\n",
              "      <td>4707.7</td>\n",
              "      <td>...</td>\n",
              "      <td>23127.4</td>\n",
              "      <td>6427.3</td>\n",
              "      <td>16700.1</td>\n",
              "      <td>16115.7</td>\n",
              "      <td>11750.6</td>\n",
              "      <td>4365.2</td>\n",
              "      <td>-9018.5</td>\n",
              "      <td>-4754.7</td>\n",
              "      <td>-4263.8</td>\n",
              "      <td>3427.5</td>\n",
              "    </tr>\n",
              "    <tr>\n",
              "      <th>사업지원서비스</th>\n",
              "      <td>56165.7</td>\n",
              "      <td>76481.3</td>\n",
              "      <td>20315.6</td>\n",
              "      <td>20315.6</td>\n",
              "      <td>0.0</td>\n",
              "      <td>4162.0</td>\n",
              "      <td>5874.4</td>\n",
              "      <td>-1712.4</td>\n",
              "      <td>2414.7</td>\n",
              "      <td>4549.1</td>\n",
              "      <td>...</td>\n",
              "      <td>1747.2</td>\n",
              "      <td>1325.3</td>\n",
              "      <td>422.0</td>\n",
              "      <td>5762.2</td>\n",
              "      <td>6594.2</td>\n",
              "      <td>-832.0</td>\n",
              "      <td>-1612.9</td>\n",
              "      <td>-110.1</td>\n",
              "      <td>-1502.8</td>\n",
              "      <td>12004.4</td>\n",
              "    </tr>\n",
              "    <tr>\n",
              "      <th>공공행정, 국방 및 사회보장</th>\n",
              "      <td>100424.8</td>\n",
              "      <td>123378.8</td>\n",
              "      <td>22954.0</td>\n",
              "      <td>22954.0</td>\n",
              "      <td>0.0</td>\n",
              "      <td>21450.2</td>\n",
              "      <td>14433.4</td>\n",
              "      <td>7016.8</td>\n",
              "      <td>21411.7</td>\n",
              "      <td>14397.4</td>\n",
              "      <td>...</td>\n",
              "      <td>38.5</td>\n",
              "      <td>36.0</td>\n",
              "      <td>2.5</td>\n",
              "      <td>230.8</td>\n",
              "      <td>235.3</td>\n",
              "      <td>-4.5</td>\n",
              "      <td>106.2</td>\n",
              "      <td>-4.5</td>\n",
              "      <td>110.7</td>\n",
              "      <td>1166.8</td>\n",
              "    </tr>\n",
              "    <tr>\n",
              "      <th>교육서비스</th>\n",
              "      <td>106773.8</td>\n",
              "      <td>116328.6</td>\n",
              "      <td>9554.9</td>\n",
              "      <td>9554.9</td>\n",
              "      <td>0.0</td>\n",
              "      <td>7853.8</td>\n",
              "      <td>15375.8</td>\n",
              "      <td>-7522.0</td>\n",
              "      <td>7805.3</td>\n",
              "      <td>15337.6</td>\n",
              "      <td>...</td>\n",
              "      <td>48.5</td>\n",
              "      <td>38.2</td>\n",
              "      <td>10.3</td>\n",
              "      <td>-139.3</td>\n",
              "      <td>344.3</td>\n",
              "      <td>-483.7</td>\n",
              "      <td>1865.2</td>\n",
              "      <td>1821.4</td>\n",
              "      <td>43.8</td>\n",
              "      <td>-24.8</td>\n",
              "    </tr>\n",
              "    <tr>\n",
              "      <th>보건 및 사회복지서비스</th>\n",
              "      <td>91534.8</td>\n",
              "      <td>119620.1</td>\n",
              "      <td>28085.3</td>\n",
              "      <td>28085.3</td>\n",
              "      <td>0.0</td>\n",
              "      <td>24642.3</td>\n",
              "      <td>13178.5</td>\n",
              "      <td>11463.8</td>\n",
              "      <td>24499.4</td>\n",
              "      <td>13055.0</td>\n",
              "      <td>...</td>\n",
              "      <td>142.9</td>\n",
              "      <td>123.5</td>\n",
              "      <td>19.4</td>\n",
              "      <td>762.4</td>\n",
              "      <td>535.6</td>\n",
              "      <td>226.8</td>\n",
              "      <td>-498.4</td>\n",
              "      <td>-442.6</td>\n",
              "      <td>-55.8</td>\n",
              "      <td>3179.0</td>\n",
              "    </tr>\n",
              "    <tr>\n",
              "      <th>예술, 스포츠 및 여가 관련 서비스</th>\n",
              "      <td>40202.6</td>\n",
              "      <td>40293.8</td>\n",
              "      <td>91.1</td>\n",
              "      <td>91.1</td>\n",
              "      <td>-0.0</td>\n",
              "      <td>5076.4</td>\n",
              "      <td>4523.2</td>\n",
              "      <td>553.2</td>\n",
              "      <td>5035.6</td>\n",
              "      <td>4351.8</td>\n",
              "      <td>...</td>\n",
              "      <td>40.8</td>\n",
              "      <td>171.4</td>\n",
              "      <td>-130.6</td>\n",
              "      <td>-206.8</td>\n",
              "      <td>1029.5</td>\n",
              "      <td>-1236.3</td>\n",
              "      <td>-1420.2</td>\n",
              "      <td>-2173.8</td>\n",
              "      <td>753.7</td>\n",
              "      <td>-3358.3</td>\n",
              "    </tr>\n",
              "    <tr>\n",
              "      <th>기타 서비스</th>\n",
              "      <td>44919.0</td>\n",
              "      <td>54193.3</td>\n",
              "      <td>9274.3</td>\n",
              "      <td>9274.3</td>\n",
              "      <td>0.0</td>\n",
              "      <td>6782.7</td>\n",
              "      <td>5925.8</td>\n",
              "      <td>856.9</td>\n",
              "      <td>6528.5</td>\n",
              "      <td>5703.3</td>\n",
              "      <td>...</td>\n",
              "      <td>254.2</td>\n",
              "      <td>222.5</td>\n",
              "      <td>31.7</td>\n",
              "      <td>1322.6</td>\n",
              "      <td>1243.5</td>\n",
              "      <td>79.2</td>\n",
              "      <td>-352.9</td>\n",
              "      <td>-167.6</td>\n",
              "      <td>-185.4</td>\n",
              "      <td>1521.9</td>\n",
              "    </tr>\n",
              "    <tr>\n",
              "      <th>계</th>\n",
              "      <td>3236841.3</td>\n",
              "      <td>3829737.9</td>\n",
              "      <td>592896.6</td>\n",
              "      <td>592896.6</td>\n",
              "      <td>0.0</td>\n",
              "      <td>275922.1</td>\n",
              "      <td>269640.8</td>\n",
              "      <td>6281.3</td>\n",
              "      <td>209773.3</td>\n",
              "      <td>202617.0</td>\n",
              "      <td>...</td>\n",
              "      <td>66148.8</td>\n",
              "      <td>67023.8</td>\n",
              "      <td>-875.0</td>\n",
              "      <td>327293.2</td>\n",
              "      <td>351153.0</td>\n",
              "      <td>-23859.8</td>\n",
              "      <td>-68723.8</td>\n",
              "      <td>-34752.1</td>\n",
              "      <td>-33971.7</td>\n",
              "      <td>58405.1</td>\n",
              "    </tr>\n",
              "  </tbody>\n",
              "</table>\n",
              "<p>33 rows × 21 columns</p>\n",
              "</div>\n",
              "      <button class=\"colab-df-convert\" onclick=\"convertToInteractive('df-8ad8d469-60d9-4bcd-89d9-04a1560a0505')\"\n",
              "              title=\"Convert this dataframe to an interactive table.\"\n",
              "              style=\"display:none;\">\n",
              "\n",
              "  <svg xmlns=\"http://www.w3.org/2000/svg\" height=\"24px\"viewBox=\"0 0 24 24\"\n",
              "       width=\"24px\">\n",
              "    <path d=\"M0 0h24v24H0V0z\" fill=\"none\"/>\n",
              "    <path d=\"M18.56 5.44l.94 2.06.94-2.06 2.06-.94-2.06-.94-.94-2.06-.94 2.06-2.06.94zm-11 1L8.5 8.5l.94-2.06 2.06-.94-2.06-.94L8.5 2.5l-.94 2.06-2.06.94zm10 10l.94 2.06.94-2.06 2.06-.94-2.06-.94-.94-2.06-.94 2.06-2.06.94z\"/><path d=\"M17.41 7.96l-1.37-1.37c-.4-.4-.92-.59-1.43-.59-.52 0-1.04.2-1.43.59L10.3 9.45l-7.72 7.72c-.78.78-.78 2.05 0 2.83L4 21.41c.39.39.9.59 1.41.59.51 0 1.02-.2 1.41-.59l7.78-7.78 2.81-2.81c.8-.78.8-2.07 0-2.86zM5.41 20L4 18.59l7.72-7.72 1.47 1.35L5.41 20z\"/>\n",
              "  </svg>\n",
              "      </button>\n",
              "\n",
              "\n",
              "\n",
              "    <div id=\"df-82cdcb5a-e669-46a5-adde-9d5a2cfdd2bb\">\n",
              "      <button class=\"colab-df-quickchart\" onclick=\"quickchart('df-82cdcb5a-e669-46a5-adde-9d5a2cfdd2bb')\"\n",
              "              title=\"Suggest charts.\"\n",
              "              style=\"display:none;\">\n",
              "\n",
              "<svg xmlns=\"http://www.w3.org/2000/svg\" height=\"24px\"viewBox=\"0 0 24 24\"\n",
              "     width=\"24px\">\n",
              "    <g>\n",
              "        <path d=\"M19 3H5c-1.1 0-2 .9-2 2v14c0 1.1.9 2 2 2h14c1.1 0 2-.9 2-2V5c0-1.1-.9-2-2-2zM9 17H7v-7h2v7zm4 0h-2V7h2v10zm4 0h-2v-4h2v4z\"/>\n",
              "    </g>\n",
              "</svg>\n",
              "      </button>\n",
              "    </div>\n",
              "\n",
              "<style>\n",
              "  .colab-df-quickchart {\n",
              "    background-color: #E8F0FE;\n",
              "    border: none;\n",
              "    border-radius: 50%;\n",
              "    cursor: pointer;\n",
              "    display: none;\n",
              "    fill: #1967D2;\n",
              "    height: 32px;\n",
              "    padding: 0 0 0 0;\n",
              "    width: 32px;\n",
              "  }\n",
              "\n",
              "  .colab-df-quickchart:hover {\n",
              "    background-color: #E2EBFA;\n",
              "    box-shadow: 0px 1px 2px rgba(60, 64, 67, 0.3), 0px 1px 3px 1px rgba(60, 64, 67, 0.15);\n",
              "    fill: #174EA6;\n",
              "  }\n",
              "\n",
              "  [theme=dark] .colab-df-quickchart {\n",
              "    background-color: #3B4455;\n",
              "    fill: #D2E3FC;\n",
              "  }\n",
              "\n",
              "  [theme=dark] .colab-df-quickchart:hover {\n",
              "    background-color: #434B5C;\n",
              "    box-shadow: 0px 1px 3px 1px rgba(0, 0, 0, 0.15);\n",
              "    filter: drop-shadow(0px 1px 2px rgba(0, 0, 0, 0.3));\n",
              "    fill: #FFFFFF;\n",
              "  }\n",
              "</style>\n",
              "\n",
              "    <script>\n",
              "      async function quickchart(key) {\n",
              "        const containerElement = document.querySelector('#' + key);\n",
              "        const charts = await google.colab.kernel.invokeFunction(\n",
              "            'suggestCharts', [key], {});\n",
              "      }\n",
              "    </script>\n",
              "\n",
              "      <script>\n",
              "\n",
              "function displayQuickchartButton(domScope) {\n",
              "  let quickchartButtonEl =\n",
              "    domScope.querySelector('#df-82cdcb5a-e669-46a5-adde-9d5a2cfdd2bb button.colab-df-quickchart');\n",
              "  quickchartButtonEl.style.display =\n",
              "    google.colab.kernel.accessAllowed ? 'block' : 'none';\n",
              "}\n",
              "\n",
              "        displayQuickchartButton(document);\n",
              "      </script>\n",
              "      <style>\n",
              "    .colab-df-container {\n",
              "      display:flex;\n",
              "      flex-wrap:wrap;\n",
              "      gap: 12px;\n",
              "    }\n",
              "\n",
              "    .colab-df-convert {\n",
              "      background-color: #E8F0FE;\n",
              "      border: none;\n",
              "      border-radius: 50%;\n",
              "      cursor: pointer;\n",
              "      display: none;\n",
              "      fill: #1967D2;\n",
              "      height: 32px;\n",
              "      padding: 0 0 0 0;\n",
              "      width: 32px;\n",
              "    }\n",
              "\n",
              "    .colab-df-convert:hover {\n",
              "      background-color: #E2EBFA;\n",
              "      box-shadow: 0px 1px 2px rgba(60, 64, 67, 0.3), 0px 1px 3px 1px rgba(60, 64, 67, 0.15);\n",
              "      fill: #174EA6;\n",
              "    }\n",
              "\n",
              "    [theme=dark] .colab-df-convert {\n",
              "      background-color: #3B4455;\n",
              "      fill: #D2E3FC;\n",
              "    }\n",
              "\n",
              "    [theme=dark] .colab-df-convert:hover {\n",
              "      background-color: #434B5C;\n",
              "      box-shadow: 0px 1px 3px 1px rgba(0, 0, 0, 0.15);\n",
              "      filter: drop-shadow(0px 1px 2px rgba(0, 0, 0, 0.3));\n",
              "      fill: #FFFFFF;\n",
              "    }\n",
              "  </style>\n",
              "\n",
              "      <script>\n",
              "        const buttonEl =\n",
              "          document.querySelector('#df-8ad8d469-60d9-4bcd-89d9-04a1560a0505 button.colab-df-convert');\n",
              "        buttonEl.style.display =\n",
              "          google.colab.kernel.accessAllowed ? 'block' : 'none';\n",
              "\n",
              "        async function convertToInteractive(key) {\n",
              "          const element = document.querySelector('#df-8ad8d469-60d9-4bcd-89d9-04a1560a0505');\n",
              "          const dataTable =\n",
              "            await google.colab.kernel.invokeFunction('convertToInteractive',\n",
              "                                                     [key], {});\n",
              "          if (!dataTable) return;\n",
              "\n",
              "          const docLinkHtml = 'Like what you see? Visit the ' +\n",
              "            '<a target=\"_blank\" href=https://colab.research.google.com/notebooks/data_table.ipynb>data table notebook</a>'\n",
              "            + ' to learn more about interactive tables.';\n",
              "          element.innerHTML = '';\n",
              "          dataTable['output_type'] = 'display_data';\n",
              "          await google.colab.output.renderOutput(dataTable, element);\n",
              "          const docLink = document.createElement('div');\n",
              "          docLink.innerHTML = docLinkHtml;\n",
              "          element.appendChild(docLink);\n",
              "        }\n",
              "      </script>\n",
              "    </div>\n",
              "  </div>\n"
            ]
          },
          "metadata": {},
          "execution_count": 120
        }
      ]
    },
    {
      "cell_type": "code",
      "source": [
        "PGD1015_ff.to_csv('산출액변동요인.csv', encoding=\"utf-8-sig\")"
      ],
      "metadata": {
        "id": "h7CkNaE15PIg"
      },
      "execution_count": null,
      "outputs": []
    },
    {
      "cell_type": "code",
      "source": [
        "Ctbr =  PGD1015[:,5:]\n",
        "Ctbr.shape"
      ],
      "metadata": {
        "id": "3O6_BXxbcwuW",
        "outputId": "ee4f7169-650c-4bfe-ca73-ab408ad02f08",
        "colab": {
          "base_uri": "https://localhost:8080/"
        }
      },
      "execution_count": null,
      "outputs": [
        {
          "output_type": "execute_result",
          "data": {
            "text/plain": [
              "(33, 16)"
            ]
          },
          "metadata": {},
          "execution_count": 122
        }
      ]
    },
    {
      "cell_type": "code",
      "source": [
        "sm_gap = PGD1015[:,3].reshape([33,1])  # 요인별 합계\n",
        "sm_gap.shape"
      ],
      "metadata": {
        "id": "Ib0VzKGcFjOo",
        "outputId": "12fd9475-460d-4f5e-97ce-f2f6c5917558",
        "colab": {
          "base_uri": "https://localhost:8080/"
        }
      },
      "execution_count": null,
      "outputs": [
        {
          "output_type": "execute_result",
          "data": {
            "text/plain": [
              "(33, 1)"
            ]
          },
          "metadata": {},
          "execution_count": 123
        }
      ]
    },
    {
      "cell_type": "code",
      "source": [
        "sm_gap1 = np.tile(sm_gap, reps=[1,16]) # 요인별 합계를 33x16으로 반복\n",
        "sm_gap1.shape"
      ],
      "metadata": {
        "id": "Ojzes5k4GZl_",
        "outputId": "63d49e72-f2a3-4e53-f9b5-432f2f71bd11",
        "colab": {
          "base_uri": "https://localhost:8080/"
        }
      },
      "execution_count": null,
      "outputs": [
        {
          "output_type": "execute_result",
          "data": {
            "text/plain": [
              "(33, 16)"
            ]
          },
          "metadata": {},
          "execution_count": 124
        }
      ]
    },
    {
      "cell_type": "code",
      "source": [
        "Ctrb = (Ctbr/sm_gap1)*100  # 각 항목별 기여율\n",
        "Ctrb_f = Ctrb.round(1)"
      ],
      "metadata": {
        "id": "-gooAQnRFjRg"
      },
      "execution_count": null,
      "outputs": []
    },
    {
      "cell_type": "code",
      "source": [
        "Ctrb_ff = pd.DataFrame(Ctrb_f,columns = ['국내최종수요증감액', '국내최종수요(규모증가)', '국내최종수요(구조변화)','소비', '소비(규모)','소비(구조)','투자', '투자(규모)','투자(구조)',\n",
        "                                         '수출', '수출(규모)','수출(구조)', '수입', '최종재수입','중간재수입', '기술변화'],\n",
        "\n",
        "                         index=['농림수산품', '광산품', '음식료품', '섬유 및 가죽제품', '목재 및 종이, 인쇄', ' 석탄 및 석유제품', '화학제품', '비금속광물제품', '1차금속제품', '금속가공제품',\n",
        "                                '컴퓨터, 전자 및 광학기기', '전기장비', '기계 및 장비', '운송장비', '기타제조업제품', '제조임가공 및 산업용 장비 수리', '전력, 가스 및 증기', '수도, 폐기물처리 및 재활용 서비스',\n",
        "                                '건설', '도소매', '운송서비스', '음석점및숙박', '정보통신 및 방송서비스', '금융및보험서비스', '부동산서비스', '전문, 과학 및 기술서비스',\n",
        "                                '사업지원서비스', '공공행정, 국방 및 사회보장', '교육서비스', '보건 및 사회복지서비스', '예술, 스포츠 및 여가 관련 서비스', '기타 서비스', '계'])  # pandas로 내보내기"
      ],
      "metadata": {
        "id": "ZiMJL68VDYdk"
      },
      "execution_count": null,
      "outputs": []
    },
    {
      "cell_type": "code",
      "source": [
        "Ctrb_ff.to_csv('항목별 기여율.csv', encoding=\"utf-8-sig\")"
      ],
      "metadata": {
        "id": "tLccCmzVC3Hx"
      },
      "execution_count": null,
      "outputs": []
    },
    {
      "cell_type": "code",
      "source": [
        "YR = (((PGD1015[:,1]/PGD1015[:,0])**(1/5)-1)*100).reshape([33,1])\n",
        "YR"
      ],
      "metadata": {
        "id": "Py69_yTbDX6p",
        "outputId": "7729d54c-3869-4168-9bd1-90aab2ce3f52",
        "colab": {
          "base_uri": "https://localhost:8080/"
        }
      },
      "execution_count": null,
      "outputs": [
        {
          "output_type": "execute_result",
          "data": {
            "text/plain": [
              "array([[ 0.755],\n",
              "       [ 1.629],\n",
              "       [ 2.748],\n",
              "       [ 1.747],\n",
              "       [ 0.946],\n",
              "       [ 4.565],\n",
              "       [ 3.493],\n",
              "       [ 2.499],\n",
              "       [ 1.586],\n",
              "       [ 4.246],\n",
              "       [ 7.75 ],\n",
              "       [ 1.629],\n",
              "       [ 1.346],\n",
              "       [ 3.545],\n",
              "       [ 2.735],\n",
              "       [ 5.84 ],\n",
              "       [-1.144],\n",
              "       [-1.31 ],\n",
              "       [ 0.541],\n",
              "       [ 5.803],\n",
              "       [ 1.792],\n",
              "       [ 4.201],\n",
              "       [ 4.326],\n",
              "       [ 3.781],\n",
              "       [ 3.701],\n",
              "       [ 4.839],\n",
              "       [ 6.369],\n",
              "       [ 4.203],\n",
              "       [ 1.729],\n",
              "       [ 5.498],\n",
              "       [ 0.045],\n",
              "       [ 3.825],\n",
              "       [ 3.421]])"
            ]
          },
          "metadata": {},
          "execution_count": 128
        }
      ]
    },
    {
      "cell_type": "code",
      "source": [
        "Ctrb_amt = (Ctrb*YR/100)\n",
        "Ctrb_amt_f = Ctrb_amt.round(3)\n",
        "Ctrb_amt_f"
      ],
      "metadata": {
        "id": "kfNA_NIVKjgt",
        "outputId": "ebc0247c-5955-47c4-9c45-fb6df342669d",
        "colab": {
          "base_uri": "https://localhost:8080/"
        }
      },
      "execution_count": null,
      "outputs": [
        {
          "output_type": "execute_result",
          "data": {
            "text/plain": [
              "array([[ 0.57 ,  2.362, -1.792,  1.087,  2.188, -1.101, -0.517,  0.174,\n",
              "        -0.691,  0.345,  0.761, -0.416, -1.005, -0.632, -0.373,  0.846],\n",
              "       [ 0.292,  1.263, -0.971,  0.297,  0.344, -0.047, -0.005,  0.919,\n",
              "        -0.924,  1.808,  1.994, -0.187,  0.492, -0.097,  0.589, -0.963],\n",
              "       [ 0.083,  2.525, -2.443,  0.654,  2.39 , -1.736, -0.571,  0.136,\n",
              "        -0.707,  0.539,  0.946, -0.406, -0.651, -0.711,  0.06 ,  2.777],\n",
              "       [ 0.048,  1.126, -1.078,  0.408,  1.003, -0.595, -0.36 ,  0.122,\n",
              "        -0.482,  4.439,  2.756,  1.683, -3.193, -1.686, -1.507,  0.452],\n",
              "       [ 1.821,  1.439,  0.381,  1.161,  1.017,  0.144,  0.659,  0.422,\n",
              "         0.237,  1.28 ,  1.861, -0.581, -0.74 , -0.172, -0.568, -1.414],\n",
              "       [ 0.385,  1.192, -0.807,  0.553,  0.988, -0.436, -0.168,  0.204,\n",
              "        -0.372,  3.442,  3.292,  0.15 ,  0.3  , -0.181,  0.481,  0.438],\n",
              "       [ 0.847,  0.853, -0.006,  0.711,  0.619,  0.092,  0.136,  0.234,\n",
              "        -0.098,  3.691,  3.579,  0.112, -0.869, -0.629, -0.24 , -0.175],\n",
              "       [ 0.74 ,  1.35 , -0.61 ,  0.287,  0.255,  0.032,  0.453,  1.095,\n",
              "        -0.642,  1.85 ,  1.535,  0.315, -0.467, -0.293, -0.174,  0.376],\n",
              "       [-0.372,  0.658, -1.03 ,  0.228,  0.201,  0.027, -0.6  ,  0.457,\n",
              "        -1.057,  2.63 ,  4.069, -1.439,  0.402,  0.086,  0.316, -1.075],\n",
              "       [ 0.935,  1.105, -0.17 ,  0.45 ,  0.414,  0.036,  0.484,  0.691,\n",
              "        -0.206,  2.085,  2.957, -0.872, -0.024, -0.017, -0.007,  1.25 ],\n",
              "       [ 1.035,  0.482,  0.552,  0.648,  0.296,  0.352,  0.387,  0.186,\n",
              "         0.201,  7.327,  4.158,  3.168, -0.818,  0.257, -1.075,  0.207],\n",
              "       [ 0.874,  0.886, -0.012,  0.597,  0.391,  0.206,  0.277,  0.495,\n",
              "        -0.218,  2.577,  3.078, -0.501, -0.876, -0.123, -0.753, -0.945],\n",
              "       [ 0.637,  0.8  , -0.163,  0.136,  0.153, -0.017,  0.501,  0.647,\n",
              "        -0.146,  2.262,  3.175, -0.912, -0.279,  0.534, -0.813, -1.275],\n",
              "       [ 1.224,  0.635,  0.59 ,  0.688,  0.394,  0.293,  0.537,  0.24 ,\n",
              "         0.296,  1.412,  4.737, -3.324, -0.11 , -0.36 ,  0.25 ,  1.019],\n",
              "       [ 3.121,  1.717,  1.404,  1.818,  1.304,  0.514,  1.302,  0.413,\n",
              "         0.89 ,  1.052,  1.229, -0.177, -1.932, -0.906, -1.027,  0.495],\n",
              "       [ 0.871,  1.107, -0.237,  0.705,  0.763, -0.058,  0.166,  0.345,\n",
              "        -0.179,  2.693,  3.641, -0.949,  0.107, -0.409,  0.515,  2.171],\n",
              "       [-0.202,  1.798, -2.   , -0.476,  1.55 , -2.026,  0.274,  0.248,\n",
              "         0.026,  1.414,  1.495, -0.081, -0.254, -0.139, -0.114, -2.103],\n",
              "       [ 0.738,  1.691, -0.953,  0.633,  1.475, -0.842,  0.104,  0.215,\n",
              "        -0.111,  1.475,  1.427,  0.049, -0.17 , -0.107, -0.063, -3.353],\n",
              "       [ 0.695,  1.725, -1.03 ,  0.081,  0.088, -0.007,  0.614,  1.637,\n",
              "        -1.023,  0.012,  0.05 , -0.038, -0.022, -0.004, -0.018, -0.144],\n",
              "       [ 2.386,  1.871,  0.514,  2.353,  1.543,  0.81 ,  0.032,  0.328,\n",
              "        -0.296,  2.169,  1.52 ,  0.65 , -0.341, -0.157, -0.184,  1.589],\n",
              "       [ 0.656,  1.237, -0.581,  0.51 ,  1.01 , -0.5  ,  0.146,  0.227,\n",
              "        -0.081,  1.719,  3.057, -1.337, -0.842, -0.693, -0.15 ,  0.259],\n",
              "       [ 2.8  ,  2.252,  0.548,  2.596,  2.122,  0.474,  0.204,  0.13 ,\n",
              "         0.074,  0.507,  0.999, -0.492, -0.293, -0.177, -0.116,  1.187],\n",
              "       [ 3.041,  1.925,  1.116,  1.576,  1.378,  0.198,  1.464,  0.547,\n",
              "         0.917,  1.265,  0.824,  0.441, -0.008,  0.092, -0.099,  0.028],\n",
              "       [ 3.164,  2.134,  1.03 ,  2.903,  1.94 ,  0.964,  0.26 ,  0.195,\n",
              "         0.066,  0.735,  0.89 , -0.156, -0.081, -0.049, -0.032, -0.037],\n",
              "       [ 2.787,  2.424,  0.363,  1.904,  2.147, -0.243,  0.883,  0.277,\n",
              "         0.606,  0.303,  0.335, -0.032,  0.005,  0.014, -0.009,  0.605],\n",
              "       [ 3.542,  1.373,  2.169,  0.691,  0.58 ,  0.11 ,  2.851,  0.792,\n",
              "         2.059,  1.987,  1.449,  0.538, -1.112, -0.586, -0.526,  0.423],\n",
              "       [ 1.305,  1.842, -0.537,  0.757,  1.426, -0.669,  0.548,  0.416,\n",
              "         0.132,  1.807,  2.067, -0.261, -0.506, -0.035, -0.471,  3.764],\n",
              "       [ 3.928,  2.643,  1.285,  3.921,  2.636,  1.284,  0.007,  0.007,\n",
              "         0.   ,  0.042,  0.043, -0.001,  0.019, -0.001,  0.02 ,  0.214],\n",
              "       [ 1.421,  2.782, -1.361,  1.412,  2.775, -1.363,  0.009,  0.007,\n",
              "         0.002, -0.025,  0.062, -0.088,  0.337,  0.33 ,  0.008, -0.004],\n",
              "       [ 4.824,  2.58 ,  2.244,  4.796,  2.556,  2.24 ,  0.028,  0.024,\n",
              "         0.004,  0.149,  0.105,  0.044, -0.098, -0.087, -0.011,  0.622],\n",
              "       [ 2.523,  2.248,  0.275,  2.503,  2.163,  0.34 ,  0.02 ,  0.085,\n",
              "        -0.065, -0.103,  0.512, -0.614, -0.706, -1.08 ,  0.375, -1.669],\n",
              "       [ 2.798,  2.444,  0.353,  2.693,  2.352,  0.34 ,  0.105,  0.092,\n",
              "         0.013,  0.546,  0.513,  0.033, -0.146, -0.069, -0.076,  0.628],\n",
              "       [ 1.592,  1.556,  0.036,  1.21 ,  1.169,  0.041,  0.382,  0.387,\n",
              "        -0.005,  1.889,  2.026, -0.138, -0.397, -0.201, -0.196,  0.337]])"
            ]
          },
          "metadata": {},
          "execution_count": 129
        }
      ]
    },
    {
      "cell_type": "code",
      "source": [
        "Ctrb_amt_ff = pd.DataFrame(Ctrb_amt_f,columns = ['국내최종수요증감액', '국내최종수요(규모증가)', '국내최종수요(구조변화)','소비', '소비(규모)','소비(구조)','투자', '투자(규모)','투자(구조)',\n",
        "                                         '수출', '수출(규모)','수출(구조)', '수입', '최종재수입','중간재수입', '기술변화'],\n",
        "\n",
        "                         index=['농림수산품', '광산품', '음식료품', '섬유 및 가죽제품', '목재 및 종이, 인쇄', ' 석탄 및 석유제품', '화학제품', '비금속광물제품', '1차금속제품', '금속가공제품',\n",
        "                                '컴퓨터, 전자 및 광학기기', '전기장비', '기계 및 장비', '운송장비', '기타제조업제품', '제조임가공 및 산업용 장비 수리', '전력, 가스 및 증기', '수도, 폐기물처리 및 재활용 서비스',\n",
        "                                '건설', '도소매', '운송서비스', '음석점및숙박', '정보통신 및 방송서비스', '금융및보험서비스', '부동산서비스', '전문, 과학 및 기술서비스',\n",
        "                                '사업지원서비스', '공공행정, 국방 및 사회보장', '교육서비스', '보건 및 사회복지서비스', '예술, 스포츠 및 여가 관련 서비스', '기타 서비스', '계'])  # pandas로 내보내기"
      ],
      "metadata": {
        "id": "SkF8oJDrCXTt"
      },
      "execution_count": null,
      "outputs": []
    },
    {
      "cell_type": "code",
      "source": [
        "Ctrb_amt_ff.to_csv('항목별 기여도.csv', encoding=\"utf-8-sig\")"
      ],
      "metadata": {
        "id": "Cx_mEeLP_Hrr"
      },
      "execution_count": null,
      "outputs": []
    },
    {
      "cell_type": "code",
      "source": [],
      "metadata": {
        "id": "oypgBCa3ljsO"
      },
      "execution_count": null,
      "outputs": []
    }
  ]
}