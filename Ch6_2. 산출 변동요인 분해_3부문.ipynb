{
  "nbformat": 4,
  "nbformat_minor": 0,
  "metadata": {
    "colab": {
      "provenance": [],
      "mount_file_id": "https://github.com/Tom-Jung/legendary-funicular/blob/main/IO_tables.ipynb",
      "authorship_tag": "ABX9TyNpYQo/biF6ni8DFR8twxFr",
      "include_colab_link": true
    },
    "kernelspec": {
      "name": "python3",
      "display_name": "Python 3"
    },
    "language_info": {
      "name": "python"
    }
  },
  "cells": [
    {
      "cell_type": "markdown",
      "metadata": {
        "id": "view-in-github",
        "colab_type": "text"
      },
      "source": [
        "<a href=\"https://colab.research.google.com/github/Tom-Jung/legendary-funicular/blob/main/Ch6_2.%20%EC%82%B0%EC%B6%9C%20%EB%B3%80%EB%8F%99%EC%9A%94%EC%9D%B8%20%EB%B6%84%ED%95%B4_3%EB%B6%80%EB%AC%B8.ipynb\" target=\"_parent\"><img src=\"https://colab.research.google.com/assets/colab-badge.svg\" alt=\"Open In Colab\"/></a>"
      ]
    },
    {
      "cell_type": "code",
      "source": [
        "import numpy as np   # Numpy import\n",
        "import pandas as pd  # Pandas import"
      ],
      "metadata": {
        "id": "TR7JvW8CxBFT"
      },
      "execution_count": 264,
      "outputs": []
    },
    {
      "cell_type": "code",
      "source": [
        "np.set_printoptions(precision=3,suppress=True) # 결과를 소수 3자리까지만 보여주는 옵션"
      ],
      "metadata": {
        "id": "6ZXqGX8ykUGD"
      },
      "execution_count": 265,
      "outputs": []
    },
    {
      "cell_type": "markdown",
      "source": [
        "### 산출 변동요인분해"
      ],
      "metadata": {
        "id": "00a8dQ_-Ug2y"
      }
    },
    {
      "cell_type": "code",
      "source": [
        "# 2015년 거래표 다운로드\n",
        "\n",
        "url_total = \"https://raw.githubusercontent.com/Tom-Jung/legendary-funicular/main/Total_Matrix_2015_cst.csv\"  # 불변 2015년 총거래표\n",
        "Tot_cst_15 = pd.read_csv(url_total)\n",
        "\n",
        "url_imp = \"https://raw.githubusercontent.com/Tom-Jung/legendary-funicular/main/Imported_Matrix_2015_cst.csv\"  # 불변 2015년 수입거래표\n",
        "Imp_cst_15 = pd.read_csv(url_imp)\n",
        "\n",
        "url_dom = \"https://raw.githubusercontent.com/Tom-Jung/legendary-funicular/main/Domestic_Matrix_2015_cst.csv\"  # 불변 2015년 국산거래표\n",
        "Dom_cst_15 = pd.read_csv(url_dom)"
      ],
      "metadata": {
        "id": "5iSPH3zYKquU"
      },
      "execution_count": 266,
      "outputs": []
    },
    {
      "cell_type": "code",
      "source": [
        "# 2010년 거래표 다운로드\n",
        "\n",
        "url_total = \"https://raw.githubusercontent.com/Tom-Jung/legendary-funicular/main/Total_Matrix_2010_cst.csv\"  # 불변 2010년 총거래표\n",
        "Tot_cst_10 = pd.read_csv(url_total)\n",
        "\n",
        "url_imp = \"https://raw.githubusercontent.com/Tom-Jung/legendary-funicular/main/Imported_Matrix_2010_cst.csv\"  # 불변 2010년 수입거래표\n",
        "Imp_cst_10 = pd.read_csv(url_imp)\n",
        "\n",
        "url_dom = \"https://raw.githubusercontent.com/Tom-Jung/legendary-funicular/main/Domestic_Matrix_2010_cst.csv\"  # 불변 2010년 국산거래표\n",
        "Dom_cst_10 = pd.read_csv(url_dom)"
      ],
      "metadata": {
        "id": "o8Pv_b5hKqyW"
      },
      "execution_count": 267,
      "outputs": []
    },
    {
      "cell_type": "code",
      "source": [
        "Tot_cst_10.shape"
      ],
      "metadata": {
        "id": "f9aN0wIQGi15",
        "outputId": "75914fb7-1b96-44d7-e628-2a023608a419",
        "colab": {
          "base_uri": "https://localhost:8080/"
        }
      },
      "execution_count": 268,
      "outputs": [
        {
          "output_type": "execute_result",
          "data": {
            "text/plain": [
              "(41, 47)"
            ]
          },
          "metadata": {},
          "execution_count": 268
        }
      ]
    },
    {
      "cell_type": "markdown",
      "source": [
        "부문통합하여 3부문 IO표 만들기"
      ],
      "metadata": {
        "id": "xCso22Zt1xPm"
      }
    },
    {
      "cell_type": "code",
      "source": [
        "cdd = \"https://raw.githubusercontent.com/Tom-Jung/legendary-funicular/main/code.csv\"  # 코드매치 파일\n",
        "ccdd = pd.read_csv(cdd)\n",
        "cd_for_itr = ccdd.to_numpy().reshape(33,2)\n",
        "cd_3 = cd_for_itr[:,1]\n",
        "cd_33 = cd_for_itr[:,0]\n",
        "print('3부문 코드 : \\n', cd_3)\n",
        "print('33부문 코드 : \\n', cd_33)"
      ],
      "metadata": {
        "id": "25VuADhB1S1R",
        "outputId": "69300e4a-39d3-4555-d502-70ec287d9c93",
        "colab": {
          "base_uri": "https://localhost:8080/"
        }
      },
      "execution_count": 269,
      "outputs": [
        {
          "output_type": "stream",
          "name": "stdout",
          "text": [
            "3부문 코드 : \n",
            " [1 2 2 2 2 2 2 2 2 2 2 2 2 2 2 2 3 3 3 3 3 3 3 3 3 3 3 3 3 3 3 3 3]\n",
            "33부문 코드 : \n",
            " [ 1  2  3  4  5  6  7  8  9 10 11 12 13 14 15 16 17 18 19 20 21 22 23 24\n",
            " 25 26 27 28 29 30 31 32 33]\n"
          ]
        }
      ]
    },
    {
      "cell_type": "code",
      "source": [
        "# Mtx = np.zeros((3,32)) # 부문통합을 위한 코드가 많을 경우 상기의 코드를 수작업으로 미리 하는 것이 쉽자 않으므로 반복문을 통해 3x33 임시코드 만들기\n",
        "# row=cd_3[:-2]\n",
        "# col=cd_33[:-2]\n",
        "# for i, j in zip(row,col):\n",
        "#   Mtx[i-1,j-1] = 1\n",
        "# print(Mtx)"
      ],
      "metadata": {
        "id": "i4H2yI_71SzC"
      },
      "execution_count": 270,
      "outputs": []
    },
    {
      "cell_type": "code",
      "source": [
        "code = np.array([[1,0,0,0,0,0,0,0,0,0,0,0,0,0,0,0,0,0,0,0,0,0,0,0,0,0,0,0,0,0,0,0],  # 행렬 곱을 이용한 부문 통합을 위해 0과 1로 구성된 임시의 3x33 매트릭스\n",
        "       [0,1,1,1,1,1,1,1,1,1,1,1,1,1,1,1,0,0,0,0,0,0,0,0,0,0,0,0,0,0,0,0],\n",
        "       [0,0,0,0,0,0,0,0,0,0,0,0,0,0,0,0,1,1,1,1,1,1,1,1,1,1,1,1,1,1,1,1]])\n",
        "code = code.astype(float)"
      ],
      "metadata": {
        "id": "CzGWrQ848Gy9"
      },
      "execution_count": 271,
      "outputs": []
    },
    {
      "cell_type": "code",
      "source": [
        "SS_t0 = (Tot_cst_10.iloc[1:41,2:].to_numpy().astype(float)) # 10년 총거래표 numpy로 숫자만 불러오기(시간 t-1)\n",
        "Im_t0 = (Imp_cst_10.iloc[1:38,2:].to_numpy().astype(float)) # 10년 수입거래표 numpy로 숫자만 불러오기\n",
        "\n",
        "SS_t5 = (Tot_cst_15.iloc[1:41,2:].to_numpy().astype(float)) # 15년 총거래표 numpy로 숫자만 불러오기(시간 t)\n",
        "Im_t5 = (Imp_cst_15.iloc[1:38,2:].to_numpy().astype(float)) # 15년 수입거래표 numpy로 숫자만 불러오기\n"
      ],
      "metadata": {
        "id": "pEM4n3UC64LJ"
      },
      "execution_count": 272,
      "outputs": []
    },
    {
      "cell_type": "code",
      "source": [
        "nae_tot_row_t0 = code@SS_t0[0:32,0:32] # 중간투입(수요)의 행을 3부문으로 만들기\n",
        "nae_tot_row_t5 = code@SS_t5[0:32,0:32] # 중간투입(수요)의 행을 3부문으로 만들기"
      ],
      "metadata": {
        "id": "k8iXmS8NE67L"
      },
      "execution_count": 273,
      "outputs": []
    },
    {
      "cell_type": "code",
      "source": [
        "nae_tot_col_t0 = nae_tot_row_t0@code.T  # 중간투입(수요)의 열을 3부문으로 만들기\n",
        "nae_tot_col_t5 = nae_tot_row_t5@code.T  # 중간투입(수요)의 열을 3부문으로 만들기"
      ],
      "metadata": {
        "id": "8MGVYywRE65F"
      },
      "execution_count": 274,
      "outputs": []
    },
    {
      "cell_type": "code",
      "source": [
        "nae_tot_col_t5"
      ],
      "metadata": {
        "id": "YR0ZL9ymE62k",
        "outputId": "e1f76543-37f1-43ad-9033-f94f019b537e",
        "colab": {
          "base_uri": "https://localhost:8080/"
        }
      },
      "execution_count": 275,
      "outputs": [
        {
          "output_type": "execute_result",
          "data": {
            "text/plain": [
              "array([[3.225e+06, 3.906e+07, 1.190e+07],\n",
              "       [1.775e+07, 9.254e+08, 3.509e+08],\n",
              "       [7.137e+06, 2.617e+08, 5.753e+08]])"
            ]
          },
          "metadata": {},
          "execution_count": 275
        }
      ]
    },
    {
      "cell_type": "code",
      "source": [
        "va_row_t0 = SS_t0[32:42,0:32]@code.T # 중투합, 피용자보수, 영업잉여, 고정자본소모, 기타생산세, 조정항, 부가가치계, 산출액(8X3)\n",
        "va_row_t5 = SS_t5[32:41,0:32]@code.T # 중투합, 피용자보수, 영업잉여, 고정자본소모, 기타생산세, 조정항, 부가가치계, 산출액(7X3)\n",
        "va_row_t5"
      ],
      "metadata": {
        "id": "x0cu0k1N8urJ",
        "outputId": "20fcb336-c44c-45d8-a5b0-e1452880b862",
        "colab": {
          "base_uri": "https://localhost:8080/"
        }
      },
      "execution_count": 276,
      "outputs": [
        {
          "output_type": "execute_result",
          "data": {
            "text/plain": [
              "array([[2.811e+07, 1.226e+09, 9.381e+08],\n",
              "       [5.243e+06, 1.768e+08, 5.682e+08],\n",
              "       [2.258e+07, 1.400e+08, 2.789e+08],\n",
              "       [4.828e+06, 1.148e+08, 1.900e+08],\n",
              "       [6.100e+05, 5.344e+07, 8.205e+07],\n",
              "       [3.326e+07, 4.850e+08, 1.119e+09],\n",
              "       [6.137e+07, 1.711e+09, 2.057e+09]])"
            ]
          },
          "metadata": {},
          "execution_count": 276
        }
      ]
    },
    {
      "cell_type": "code",
      "source": [
        "fd_cd = np.array([[1,1,0,0,0,0,0,0,0],   # 최종수요를 통합하기 위한 0과 1로된 행렬\n",
        "                  [0,0,1,1,1,1,0,0,0],\n",
        "                  [0,0,0,0,0,0,1,0,0],\n",
        "                  [0,0,0,0,0,0,0,1,0],\n",
        "                  [0,0,0,0,0,0,0,0,1]])\n"
      ],
      "metadata": {
        "id": "1ieztqpq8k8e"
      },
      "execution_count": 277,
      "outputs": []
    },
    {
      "cell_type": "code",
      "source": [
        "fd_t0 = SS_t0[0:32, 33:42]\n",
        "fd_t5 = SS_t5[0:32, 33:42]"
      ],
      "metadata": {
        "id": "qhjmcmWE9JRY"
      },
      "execution_count": 278,
      "outputs": []
    },
    {
      "cell_type": "code",
      "source": [
        "fd_row_t0=code@fd_t0@fd_cd.T\n",
        "fd_row_t5=code@fd_t5@fd_cd.T\n",
        "fd_row_t0"
      ],
      "metadata": {
        "id": "5fMavrZQD9c2",
        "outputId": "b95b34de-ef75-42bc-d962-d19c1b69642d",
        "colab": {
          "base_uri": "https://localhost:8080/"
        }
      },
      "execution_count": 279,
      "outputs": [
        {
          "output_type": "execute_result",
          "data": {
            "text/plain": [
              "array([[1.601e+07, 2.646e+06, 8.298e+05, 1.949e+07, 6.890e+07],\n",
              "       [1.665e+08, 1.374e+08, 4.565e+08, 7.604e+08, 1.848e+09],\n",
              "       [7.403e+08, 3.104e+08, 7.855e+07, 1.129e+09, 1.819e+09]])"
            ]
          },
          "metadata": {},
          "execution_count": 279
        }
      ]
    },
    {
      "cell_type": "code",
      "source": [
        "fd_row_sm_t0 = np.sum((fd_row_t0), axis=0) # 최종수요의 행합\n",
        "fd_row_sm_t5 = np.sum((fd_row_t5), axis=0) # 최종수요의 행합"
      ],
      "metadata": {
        "id": "3my3IJTwFk8V"
      },
      "execution_count": 280,
      "outputs": []
    },
    {
      "cell_type": "code",
      "source": [
        "fd_sm_t0=fd_row_sm_t0.reshape(1,5)\n",
        "fd_sm_t5=fd_row_sm_t5.reshape(1,5)"
      ],
      "metadata": {
        "id": "7xkLaM4_D9fk"
      },
      "execution_count": 281,
      "outputs": []
    },
    {
      "cell_type": "code",
      "source": [
        "nae_va_ct_t0 = np.concatenate((nae_tot_col_t0, va_row_t0)) # 중간투입(수요)와 부가가치 및 산출액 합치기\n",
        "nae_va_ct_t5 = np.concatenate((nae_tot_col_t5, va_row_t5)) # 중간투입(수요)와 부가가치 및 산출액 합치기"
      ],
      "metadata": {
        "id": "OuVXx3ocD9iE"
      },
      "execution_count": 282,
      "outputs": []
    },
    {
      "cell_type": "code",
      "source": [
        "nae_va_ct_sm_t0 = nae_va_ct_t0.sum(axis=1).reshape(11,1)  # 부가가치 및 산출액의 열합\n",
        "nae_va_ct_sm_t5 = nae_va_ct_t5.sum(axis=1).reshape(10,1)  # 부가가치 및 산출액의 열합"
      ],
      "metadata": {
        "id": "bQAPVPomF_Nw"
      },
      "execution_count": 283,
      "outputs": []
    },
    {
      "cell_type": "code",
      "source": [
        "nnull_t0 = np.zeros((7,5)) # 0행렬\n",
        "nnull_t5 = np.zeros((6,5)) # 0행렬"
      ],
      "metadata": {
        "id": "IikYIu8RF_Lp"
      },
      "execution_count": 284,
      "outputs": []
    },
    {
      "cell_type": "code",
      "source": [
        "fd_nnull_t0 = np.concatenate((fd_row_t0, fd_sm_t0, nnull_t0),axis=0)  # 최종수요, 최종수요 행합 및 0행렬 합치기\n",
        "fd_nnull_t5 = np.concatenate((fd_row_t5, fd_sm_t5, nnull_t5),axis=0)  # 최종수요, 최종수요 행합 및 0행렬 합치기"
      ],
      "metadata": {
        "id": "iDO_pnHmF_Jc"
      },
      "execution_count": 285,
      "outputs": []
    },
    {
      "cell_type": "code",
      "source": [
        "tot_f_t0 = np.concatenate((nae_va_ct_t0,nae_va_ct_sm_t0, fd_nnull_t0), axis=1)  # 최종 3x3 부문통합된 거래표\n",
        "tot_f_t5 = np.concatenate((nae_va_ct_t5,nae_va_ct_sm_t5, fd_nnull_t5), axis=1)  # 최종 3x3 부문통합된 거래표"
      ],
      "metadata": {
        "id": "ldumHTfbF_G7"
      },
      "execution_count": 286,
      "outputs": []
    },
    {
      "cell_type": "code",
      "source": [
        "tot_F_t0 = pd.DataFrame(tot_f_t0.round(3), columns = ['농산품', '공산품', '서비스', '중간수요계', '소비','투자', '수출', '최종수요계', '총수요계'],\n",
        "                     index=['농산품', '공산품', '서비스', '중간투입계', '피용자보수','영업잉여', '고정자본소모', '생산세(보조금공제)','조정항', '부가가치계', '총투입액']) # 변수명 붙여서 pandas로 내보내기\n"
      ],
      "metadata": {
        "id": "1qM07XyS64Np"
      },
      "execution_count": 287,
      "outputs": []
    },
    {
      "cell_type": "code",
      "source": [
        "tot_F_t5 = pd.DataFrame(tot_f_t5.round(3), columns = ['농산품', '공산품', '서비스', '중간수요계', '소비','투자', '수출', '최종수요계', '총수요계'],\n",
        "                     index=['농산품', '공산품', '서비스', '중간투입계', '피용자보수','영업잉여', '고정자본소모', '생산세(보조금공제)','부가가치계', '총투입액']) # 변수명 붙여서 pandas로 내보내기\n"
      ],
      "metadata": {
        "id": "2uZqbeKHHQWT"
      },
      "execution_count": 288,
      "outputs": []
    },
    {
      "cell_type": "code",
      "source": [
        "# 2010, 2015년 3부문 불변표 내보내기\n",
        "tot_F_t0.to_csv('10년_총거래표_3부문_불변.csv', encoding=\"utf-8-sig\")\n",
        "tot_F_t5.to_csv('15년_총거래표_3부문_불변.csv', encoding=\"utf-8-sig\")"
      ],
      "metadata": {
        "id": "0JyaE8wVHQT2"
      },
      "execution_count": 289,
      "outputs": []
    },
    {
      "cell_type": "markdown",
      "source": [
        "### 수입거래표 3부문 통합"
      ],
      "metadata": {
        "id": "D5EljDR8dxyD"
      }
    },
    {
      "cell_type": "code",
      "source": [
        "nae_imp_row_t0 = code@Im_t0[0:32,0:32] # 중간투입(수요)의 행을 3부문으로 만들기\n",
        "nae_imp_row_t5 = code@Im_t5[0:32,0:32] # 중간투입(수요)의 행을 3부문으로 만들기"
      ],
      "metadata": {
        "id": "EHyPQH4hInAR"
      },
      "execution_count": 290,
      "outputs": []
    },
    {
      "cell_type": "code",
      "source": [
        "nae_imp_col_t0 = nae_imp_row_t0@code.T  # 중간투입(수요)의 열을 3부문으로 만들기\n",
        "nae_imp_col_t5 = nae_imp_row_t5@code.T  # 중간투입(수요)의 열을 3부문으로 만들기"
      ],
      "metadata": {
        "id": "TeqKIOGeIm-A"
      },
      "execution_count": 291,
      "outputs": []
    },
    {
      "cell_type": "code",
      "source": [
        "Im_t0.shape"
      ],
      "metadata": {
        "id": "-jwVXZNlLdes",
        "outputId": "5d539e5b-d28a-41eb-9597-2afbbc9e88c3",
        "colab": {
          "base_uri": "https://localhost:8080/"
        }
      },
      "execution_count": 292,
      "outputs": [
        {
          "output_type": "execute_result",
          "data": {
            "text/plain": [
              "(33, 42)"
            ]
          },
          "metadata": {},
          "execution_count": 292
        }
      ]
    },
    {
      "cell_type": "code",
      "source": [
        "ism_row_t0 = (Im_t0[32,0:32]@code.T).reshape(1,3) # 중투합\n",
        "ism_row_t5 = (Im_t5[32,0:32]@code.T).reshape(1,3) # 중투합\n",
        "ism_row_t5"
      ],
      "metadata": {
        "id": "-hW97CaHIm78",
        "outputId": "6d7aa8c1-3619-4205-9979-0f5d85dc05af",
        "colab": {
          "base_uri": "https://localhost:8080/"
        }
      },
      "execution_count": 293,
      "outputs": [
        {
          "output_type": "execute_result",
          "data": {
            "text/plain": [
              "array([[1.881e+06, 3.520e+08, 1.233e+08]])"
            ]
          },
          "metadata": {},
          "execution_count": 293
        }
      ]
    },
    {
      "cell_type": "code",
      "source": [
        "ifd_t0 = Im_t0[0:32, 33:42] #수입최종수요\n",
        "ifd_t5 = Im_t5[0:32, 33:42] #수입최종수요"
      ],
      "metadata": {
        "id": "621BQc5CIm5x"
      },
      "execution_count": 294,
      "outputs": []
    },
    {
      "cell_type": "code",
      "source": [
        "ifd_row_t0=code@ifd_t0@fd_cd.T\n",
        "ifd_row_t5=code@ifd_t5@fd_cd.T"
      ],
      "metadata": {
        "id": "Ond1UgVYIm3s"
      },
      "execution_count": 295,
      "outputs": []
    },
    {
      "cell_type": "code",
      "source": [
        "ifd_row_sm_t0 = np.sum((ifd_row_t0), axis=0) # 최종수요의 행합\n",
        "ifd_row_sm_t5 = np.sum((ifd_row_t5), axis=0) # 최종수요의 행합"
      ],
      "metadata": {
        "id": "v58RQFl5Im1a"
      },
      "execution_count": 296,
      "outputs": []
    },
    {
      "cell_type": "code",
      "source": [
        "ifd_sm_t0=ifd_row_sm_t0.reshape(1,5)\n",
        "ifd_sm_t5=ifd_row_sm_t5.reshape(1,5)"
      ],
      "metadata": {
        "id": "PiY8_s-CImzD"
      },
      "execution_count": 297,
      "outputs": []
    },
    {
      "cell_type": "code",
      "source": [
        "ism_row_t0.ndim"
      ],
      "metadata": {
        "id": "Vka2T_hHODn5",
        "outputId": "81f12070-4df4-4948-b200-2c3bb937357b",
        "colab": {
          "base_uri": "https://localhost:8080/"
        }
      },
      "execution_count": 298,
      "outputs": [
        {
          "output_type": "execute_result",
          "data": {
            "text/plain": [
              "2"
            ]
          },
          "metadata": {},
          "execution_count": 298
        }
      ]
    },
    {
      "cell_type": "code",
      "source": [
        "nae_im_t0 = np.concatenate((nae_imp_col_t0, ism_row_t0)) # 중간투입(수요)와 부가가치 및 산출액 합치기\n",
        "nae_im_t5 = np.concatenate((nae_imp_col_t5, ism_row_t5)) # 중간투입(수요)와 부가가치 및 산출액 합치기"
      ],
      "metadata": {
        "id": "X2veVn8pImwp"
      },
      "execution_count": 299,
      "outputs": []
    },
    {
      "cell_type": "code",
      "source": [
        "nae_col_sm_imp_t0 = nae_im_t0.sum(axis=1).reshape(4,1)  # 중간투입(수요)와 행합\n",
        "nae_col_sm_imp_t5 = nae_im_t5.sum(axis=1).reshape(4,1)  # 중간투입(수요)와 행합"
      ],
      "metadata": {
        "id": "_BKmfY87ImuW"
      },
      "execution_count": 300,
      "outputs": []
    },
    {
      "cell_type": "code",
      "source": [
        "nae_im_sm_t0 = nae_col_sm_imp_t0.sum(axis=1).reshape(4,1)  # 중간투입 및 중간투입 열합\n",
        "nae_im_sm_t5 = nae_col_sm_imp_t5.sum(axis=1).reshape(4,1)"
      ],
      "metadata": {
        "id": "cJpzca5eImr4"
      },
      "execution_count": 301,
      "outputs": []
    },
    {
      "cell_type": "code",
      "source": [
        "ifd_nnull_t0 = np.concatenate((ifd_row_t0, ifd_sm_t0),axis=0)  #   최종수요 및 최종수요 행합 합치기\n",
        "ifd_nnull_t5 = np.concatenate((ifd_row_t5, ifd_sm_t5),axis=0)  #   최종수요 및 최종수요 행합 합치기"
      ],
      "metadata": {
        "id": "m4reAjQiHQRI"
      },
      "execution_count": 302,
      "outputs": []
    },
    {
      "cell_type": "code",
      "source": [
        "imp_f_t0 = (np.concatenate((nae_im_t0, nae_im_sm_t0, ifd_nnull_t0), axis=1))/1000000  # 최종 3x3 부문통합된 거래표\n",
        "imp_f_t5 = (np.concatenate((nae_im_t5, nae_im_sm_t5, ifd_nnull_t5), axis=1))/1000000  # 최종 3x3 부문통합된 거래표"
      ],
      "metadata": {
        "id": "Ap6dF_e-Prdr"
      },
      "execution_count": 303,
      "outputs": []
    },
    {
      "cell_type": "code",
      "source": [
        "imp_F_t0 = pd.DataFrame(imp_f_t0.round(3), columns = ['농산품', '공산품', '서비스', '중간수요계', '소비','투자', '수출', '최종수요계', '총수요계'],\n",
        "                     index=['농산품', '공산품', '서비스', '중간투입계']) # 변수명 붙여서 pandas로 내보내기\n",
        "imp_F_t5 = pd.DataFrame(imp_f_t5.round(3), columns = ['농산품', '공산품', '서비스', '중간수요계', '소비','투자', '수출', '최종수요계', '총수요계'],\n",
        "                     index=['농산품', '공산품', '서비스', '중간투입계']) # 변수명 붙여서 pandas로 내보내기\n",
        "imp_F_t5"
      ],
      "metadata": {
        "id": "btPo7SoyPrZY",
        "outputId": "1edad066-bc6a-4035-9ea3-c5ee91ad71b3",
        "colab": {
          "base_uri": "https://localhost:8080/",
          "height": 175
        }
      },
      "execution_count": 304,
      "outputs": [
        {
          "output_type": "execute_result",
          "data": {
            "text/plain": [
              "         농산품      공산품      서비스    중간수요계      소비      투자     수출    최종수요계  \\\n",
              "농산품    0.349    8.219    0.749    9.316   2.859  -0.018  0.000    2.842   \n",
              "공산품    1.157  327.867   76.355  405.378  53.140  53.399  2.126  108.665   \n",
              "서비스    0.375   15.941   46.232   62.548  28.500   6.753  0.000   35.253   \n",
              "중간투입계  1.881  352.026  123.335  477.242  84.500  60.134  2.126  146.760   \n",
              "\n",
              "          총수요계  \n",
              "농산품     12.158  \n",
              "공산품    514.044  \n",
              "서비스     97.801  \n",
              "중간투입계  624.002  "
            ],
            "text/html": [
              "\n",
              "\n",
              "  <div id=\"df-e20b6aba-6e07-451a-adc5-f74ffcfdf14d\">\n",
              "    <div class=\"colab-df-container\">\n",
              "      <div>\n",
              "<style scoped>\n",
              "    .dataframe tbody tr th:only-of-type {\n",
              "        vertical-align: middle;\n",
              "    }\n",
              "\n",
              "    .dataframe tbody tr th {\n",
              "        vertical-align: top;\n",
              "    }\n",
              "\n",
              "    .dataframe thead th {\n",
              "        text-align: right;\n",
              "    }\n",
              "</style>\n",
              "<table border=\"1\" class=\"dataframe\">\n",
              "  <thead>\n",
              "    <tr style=\"text-align: right;\">\n",
              "      <th></th>\n",
              "      <th>농산품</th>\n",
              "      <th>공산품</th>\n",
              "      <th>서비스</th>\n",
              "      <th>중간수요계</th>\n",
              "      <th>소비</th>\n",
              "      <th>투자</th>\n",
              "      <th>수출</th>\n",
              "      <th>최종수요계</th>\n",
              "      <th>총수요계</th>\n",
              "    </tr>\n",
              "  </thead>\n",
              "  <tbody>\n",
              "    <tr>\n",
              "      <th>농산품</th>\n",
              "      <td>0.349</td>\n",
              "      <td>8.219</td>\n",
              "      <td>0.749</td>\n",
              "      <td>9.316</td>\n",
              "      <td>2.859</td>\n",
              "      <td>-0.018</td>\n",
              "      <td>0.000</td>\n",
              "      <td>2.842</td>\n",
              "      <td>12.158</td>\n",
              "    </tr>\n",
              "    <tr>\n",
              "      <th>공산품</th>\n",
              "      <td>1.157</td>\n",
              "      <td>327.867</td>\n",
              "      <td>76.355</td>\n",
              "      <td>405.378</td>\n",
              "      <td>53.140</td>\n",
              "      <td>53.399</td>\n",
              "      <td>2.126</td>\n",
              "      <td>108.665</td>\n",
              "      <td>514.044</td>\n",
              "    </tr>\n",
              "    <tr>\n",
              "      <th>서비스</th>\n",
              "      <td>0.375</td>\n",
              "      <td>15.941</td>\n",
              "      <td>46.232</td>\n",
              "      <td>62.548</td>\n",
              "      <td>28.500</td>\n",
              "      <td>6.753</td>\n",
              "      <td>0.000</td>\n",
              "      <td>35.253</td>\n",
              "      <td>97.801</td>\n",
              "    </tr>\n",
              "    <tr>\n",
              "      <th>중간투입계</th>\n",
              "      <td>1.881</td>\n",
              "      <td>352.026</td>\n",
              "      <td>123.335</td>\n",
              "      <td>477.242</td>\n",
              "      <td>84.500</td>\n",
              "      <td>60.134</td>\n",
              "      <td>2.126</td>\n",
              "      <td>146.760</td>\n",
              "      <td>624.002</td>\n",
              "    </tr>\n",
              "  </tbody>\n",
              "</table>\n",
              "</div>\n",
              "      <button class=\"colab-df-convert\" onclick=\"convertToInteractive('df-e20b6aba-6e07-451a-adc5-f74ffcfdf14d')\"\n",
              "              title=\"Convert this dataframe to an interactive table.\"\n",
              "              style=\"display:none;\">\n",
              "\n",
              "  <svg xmlns=\"http://www.w3.org/2000/svg\" height=\"24px\"viewBox=\"0 0 24 24\"\n",
              "       width=\"24px\">\n",
              "    <path d=\"M0 0h24v24H0V0z\" fill=\"none\"/>\n",
              "    <path d=\"M18.56 5.44l.94 2.06.94-2.06 2.06-.94-2.06-.94-.94-2.06-.94 2.06-2.06.94zm-11 1L8.5 8.5l.94-2.06 2.06-.94-2.06-.94L8.5 2.5l-.94 2.06-2.06.94zm10 10l.94 2.06.94-2.06 2.06-.94-2.06-.94-.94-2.06-.94 2.06-2.06.94z\"/><path d=\"M17.41 7.96l-1.37-1.37c-.4-.4-.92-.59-1.43-.59-.52 0-1.04.2-1.43.59L10.3 9.45l-7.72 7.72c-.78.78-.78 2.05 0 2.83L4 21.41c.39.39.9.59 1.41.59.51 0 1.02-.2 1.41-.59l7.78-7.78 2.81-2.81c.8-.78.8-2.07 0-2.86zM5.41 20L4 18.59l7.72-7.72 1.47 1.35L5.41 20z\"/>\n",
              "  </svg>\n",
              "      </button>\n",
              "\n",
              "\n",
              "\n",
              "    <div id=\"df-a1ebc4c1-df15-467b-8928-ba8d4a723730\">\n",
              "      <button class=\"colab-df-quickchart\" onclick=\"quickchart('df-a1ebc4c1-df15-467b-8928-ba8d4a723730')\"\n",
              "              title=\"Suggest charts.\"\n",
              "              style=\"display:none;\">\n",
              "\n",
              "<svg xmlns=\"http://www.w3.org/2000/svg\" height=\"24px\"viewBox=\"0 0 24 24\"\n",
              "     width=\"24px\">\n",
              "    <g>\n",
              "        <path d=\"M19 3H5c-1.1 0-2 .9-2 2v14c0 1.1.9 2 2 2h14c1.1 0 2-.9 2-2V5c0-1.1-.9-2-2-2zM9 17H7v-7h2v7zm4 0h-2V7h2v10zm4 0h-2v-4h2v4z\"/>\n",
              "    </g>\n",
              "</svg>\n",
              "      </button>\n",
              "    </div>\n",
              "\n",
              "<style>\n",
              "  .colab-df-quickchart {\n",
              "    background-color: #E8F0FE;\n",
              "    border: none;\n",
              "    border-radius: 50%;\n",
              "    cursor: pointer;\n",
              "    display: none;\n",
              "    fill: #1967D2;\n",
              "    height: 32px;\n",
              "    padding: 0 0 0 0;\n",
              "    width: 32px;\n",
              "  }\n",
              "\n",
              "  .colab-df-quickchart:hover {\n",
              "    background-color: #E2EBFA;\n",
              "    box-shadow: 0px 1px 2px rgba(60, 64, 67, 0.3), 0px 1px 3px 1px rgba(60, 64, 67, 0.15);\n",
              "    fill: #174EA6;\n",
              "  }\n",
              "\n",
              "  [theme=dark] .colab-df-quickchart {\n",
              "    background-color: #3B4455;\n",
              "    fill: #D2E3FC;\n",
              "  }\n",
              "\n",
              "  [theme=dark] .colab-df-quickchart:hover {\n",
              "    background-color: #434B5C;\n",
              "    box-shadow: 0px 1px 3px 1px rgba(0, 0, 0, 0.15);\n",
              "    filter: drop-shadow(0px 1px 2px rgba(0, 0, 0, 0.3));\n",
              "    fill: #FFFFFF;\n",
              "  }\n",
              "</style>\n",
              "\n",
              "    <script>\n",
              "      async function quickchart(key) {\n",
              "        const containerElement = document.querySelector('#' + key);\n",
              "        const charts = await google.colab.kernel.invokeFunction(\n",
              "            'suggestCharts', [key], {});\n",
              "      }\n",
              "    </script>\n",
              "\n",
              "      <script>\n",
              "\n",
              "function displayQuickchartButton(domScope) {\n",
              "  let quickchartButtonEl =\n",
              "    domScope.querySelector('#df-a1ebc4c1-df15-467b-8928-ba8d4a723730 button.colab-df-quickchart');\n",
              "  quickchartButtonEl.style.display =\n",
              "    google.colab.kernel.accessAllowed ? 'block' : 'none';\n",
              "}\n",
              "\n",
              "        displayQuickchartButton(document);\n",
              "      </script>\n",
              "      <style>\n",
              "    .colab-df-container {\n",
              "      display:flex;\n",
              "      flex-wrap:wrap;\n",
              "      gap: 12px;\n",
              "    }\n",
              "\n",
              "    .colab-df-convert {\n",
              "      background-color: #E8F0FE;\n",
              "      border: none;\n",
              "      border-radius: 50%;\n",
              "      cursor: pointer;\n",
              "      display: none;\n",
              "      fill: #1967D2;\n",
              "      height: 32px;\n",
              "      padding: 0 0 0 0;\n",
              "      width: 32px;\n",
              "    }\n",
              "\n",
              "    .colab-df-convert:hover {\n",
              "      background-color: #E2EBFA;\n",
              "      box-shadow: 0px 1px 2px rgba(60, 64, 67, 0.3), 0px 1px 3px 1px rgba(60, 64, 67, 0.15);\n",
              "      fill: #174EA6;\n",
              "    }\n",
              "\n",
              "    [theme=dark] .colab-df-convert {\n",
              "      background-color: #3B4455;\n",
              "      fill: #D2E3FC;\n",
              "    }\n",
              "\n",
              "    [theme=dark] .colab-df-convert:hover {\n",
              "      background-color: #434B5C;\n",
              "      box-shadow: 0px 1px 3px 1px rgba(0, 0, 0, 0.15);\n",
              "      filter: drop-shadow(0px 1px 2px rgba(0, 0, 0, 0.3));\n",
              "      fill: #FFFFFF;\n",
              "    }\n",
              "  </style>\n",
              "\n",
              "      <script>\n",
              "        const buttonEl =\n",
              "          document.querySelector('#df-e20b6aba-6e07-451a-adc5-f74ffcfdf14d button.colab-df-convert');\n",
              "        buttonEl.style.display =\n",
              "          google.colab.kernel.accessAllowed ? 'block' : 'none';\n",
              "\n",
              "        async function convertToInteractive(key) {\n",
              "          const element = document.querySelector('#df-e20b6aba-6e07-451a-adc5-f74ffcfdf14d');\n",
              "          const dataTable =\n",
              "            await google.colab.kernel.invokeFunction('convertToInteractive',\n",
              "                                                     [key], {});\n",
              "          if (!dataTable) return;\n",
              "\n",
              "          const docLinkHtml = 'Like what you see? Visit the ' +\n",
              "            '<a target=\"_blank\" href=https://colab.research.google.com/notebooks/data_table.ipynb>data table notebook</a>'\n",
              "            + ' to learn more about interactive tables.';\n",
              "          element.innerHTML = '';\n",
              "          dataTable['output_type'] = 'display_data';\n",
              "          await google.colab.output.renderOutput(dataTable, element);\n",
              "          const docLink = document.createElement('div');\n",
              "          docLink.innerHTML = docLinkHtml;\n",
              "          element.appendChild(docLink);\n",
              "        }\n",
              "      </script>\n",
              "    </div>\n",
              "  </div>\n"
            ]
          },
          "metadata": {},
          "execution_count": 304
        }
      ]
    },
    {
      "cell_type": "code",
      "source": [
        "# 2010, 2015년 3부문 불변표 내보내기\n",
        "imp_F_t0.to_csv('10년_수입거래표_3부문_불변.csv', encoding=\"utf-8-sig\")\n",
        "imp_F_t5.to_csv('15년_수입거래표_3부문_불변.csv', encoding=\"utf-8-sig\")"
      ],
      "metadata": {
        "id": "MQHy1VxbPrUj"
      },
      "execution_count": 305,
      "outputs": []
    },
    {
      "cell_type": "code",
      "source": [
        "S1 = tot_f_t5.astype(float)\n",
        "I1 = imp_f_t5.astype(float)\n",
        "S0 = tot_f_t0.astype(float)\n",
        "I0 = imp_f_t0.astype(float)"
      ],
      "metadata": {
        "id": "wemue4OQ1Rtb"
      },
      "execution_count": 312,
      "outputs": []
    },
    {
      "cell_type": "code",
      "source": [
        "SS1 = np.concatenate((S1[:8,],np.zeros((1,9)), S1[8:10,] ), axis=0)  # 2015년 부가가치 조정항을 0으로 삽입(2010년과 동일한 포맷을 유지하기 위함)"
      ],
      "metadata": {
        "id": "y8dIDFxvGyjf"
      },
      "execution_count": 313,
      "outputs": []
    },
    {
      "cell_type": "code",
      "source": [
        "SS0 = S0[0:3,0:3].astype(float)  # 내생항목 3x3\n",
        "SS1 = S1[0:3,0:3].astype(float)\n",
        "SS1.shape"
      ],
      "metadata": {
        "id": "GWivqhPhL5T7",
        "outputId": "8218d3a2-a206-43c6-8b4e-b3f23e79b441",
        "colab": {
          "base_uri": "https://localhost:8080/"
        }
      },
      "execution_count": 314,
      "outputs": [
        {
          "output_type": "execute_result",
          "data": {
            "text/plain": [
              "(3, 3)"
            ]
          },
          "metadata": {},
          "execution_count": 314
        }
      ]
    },
    {
      "cell_type": "code",
      "source": [
        "II0 = I0[0:3,0:3]  # 수입 내생항목 3x3\n",
        "II1 = I1[0:3,0:3]"
      ],
      "metadata": {
        "id": "7-RxwIZaeYt0"
      },
      "execution_count": 315,
      "outputs": []
    },
    {
      "cell_type": "code",
      "source": [
        "DD0 =SS0 - II0  # 국산 내생항목 3x3\n",
        "DD1 =SS1 - II1\n",
        "DD0"
      ],
      "metadata": {
        "id": "RCdnGfOpeYwS",
        "outputId": "8b7968c7-d413-4ee3-81a1-69d2555a6c82",
        "colab": {
          "base_uri": "https://localhost:8080/"
        }
      },
      "execution_count": 359,
      "outputs": [
        {
          "output_type": "execute_result",
          "data": {
            "text/plain": [
              "array([[4.544e+06, 3.567e+07, 9.207e+06],\n",
              "       [1.777e+07, 7.732e+08, 2.964e+08],\n",
              "       [5.781e+06, 2.203e+08, 4.640e+08]])"
            ]
          },
          "metadata": {},
          "execution_count": 359
        }
      ]
    },
    {
      "cell_type": "code",
      "source": [
        "TM0 = I0[0:3,8]  # 총수입벡터\n",
        "TM1 = I1[0:3,8]\n",
        "TM0"
      ],
      "metadata": {
        "colab": {
          "base_uri": "https://localhost:8080/"
        },
        "id": "iJUj_ANLeYyy",
        "outputId": "aefa5996-e085-49ba-9501-33a338f6f0f6"
      },
      "execution_count": 317,
      "outputs": [
        {
          "output_type": "execute_result",
          "data": {
            "text/plain": [
              "array([  9.798, 416.95 ,  72.427])"
            ]
          },
          "metadata": {},
          "execution_count": 317
        }
      ]
    },
    {
      "cell_type": "code",
      "source": [
        "IM0 = I0[0:3,3]  # 중간재수입벡터\n",
        "IM1 = I1[0:3,3]\n",
        "IM0"
      ],
      "metadata": {
        "id": "MFuhXJf7eY05",
        "outputId": "ff694994-5bf7-4f5a-93a7-fe6dd0b9a3d7",
        "colab": {
          "base_uri": "https://localhost:8080/"
        }
      },
      "execution_count": 360,
      "outputs": [
        {
          "output_type": "execute_result",
          "data": {
            "text/plain": [
              "array([  7.69 , 325.084,  48.331])"
            ]
          },
          "metadata": {},
          "execution_count": 360
        }
      ]
    },
    {
      "cell_type": "code",
      "source": [
        "IF0 = I0[0:3,7]  # 최종재수입벡터\n",
        "IF1 = I1[0:3,7]\n",
        "IF0"
      ],
      "metadata": {
        "colab": {
          "base_uri": "https://localhost:8080/"
        },
        "id": "pPQ8aPECeY3J",
        "outputId": "cfcd7777-a970-4124-937f-0e46b7b1d687"
      },
      "execution_count": 361,
      "outputs": [
        {
          "output_type": "execute_result",
          "data": {
            "text/plain": [
              "array([ 2.108, 91.866, 24.096])"
            ]
          },
          "metadata": {},
          "execution_count": 361
        }
      ]
    },
    {
      "cell_type": "code",
      "source": [
        "SFC0 = S0[0:3,4]  # 최종수요-소비\n",
        "SFC1 = S1[0:3,4]\n",
        "SFC0"
      ],
      "metadata": {
        "colab": {
          "base_uri": "https://localhost:8080/"
        },
        "id": "PywPpOqreY5Q",
        "outputId": "82faa328-ac0e-48b2-b1eb-17cdb6feb867"
      },
      "execution_count": 365,
      "outputs": [
        {
          "output_type": "execute_result",
          "data": {
            "text/plain": [
              "array([1.601e+07, 1.665e+08, 7.403e+08])"
            ]
          },
          "metadata": {},
          "execution_count": 365
        }
      ]
    },
    {
      "cell_type": "code",
      "source": [
        "SFI0 = S0[0:3,5] # 최종수요-투자\n",
        "SFI1 = S1[0:3,5]\n",
        "SFI0/1000000"
      ],
      "metadata": {
        "colab": {
          "base_uri": "https://localhost:8080/"
        },
        "id": "Ix970H04eY7n",
        "outputId": "8c41105b-4cdb-47c3-94eb-9ce4c1de85bb"
      },
      "execution_count": 367,
      "outputs": [
        {
          "output_type": "execute_result",
          "data": {
            "text/plain": [
              "array([  2.646, 137.44 , 310.398])"
            ]
          },
          "metadata": {},
          "execution_count": 367
        }
      ]
    },
    {
      "cell_type": "code",
      "source": [
        "SF0 = S0[0:3,7] # 최종수요합계\n",
        "SF1 = S1[0:3,7]\n",
        "SF0/1000000"
      ],
      "metadata": {
        "colab": {
          "base_uri": "https://localhost:8080/"
        },
        "id": "B65fDULHCBh8",
        "outputId": "f0d37217-313a-465e-8a27-f94448abd527"
      },
      "execution_count": 368,
      "outputs": [
        {
          "output_type": "execute_result",
          "data": {
            "text/plain": [
              "array([  19.485,  760.437, 1129.235])"
            ]
          },
          "metadata": {},
          "execution_count": 368
        }
      ]
    },
    {
      "cell_type": "code",
      "source": [
        "EX0 = S0[0:3,6] # 수출\n",
        "EX1 = S1[0:3,6]\n",
        "EX0/1000000"
      ],
      "metadata": {
        "colab": {
          "base_uri": "https://localhost:8080/"
        },
        "id": "iA373XRaCBke",
        "outputId": "e7aefb79-1223-4ba3-aa4b-6cc57efe2143"
      },
      "execution_count": 369,
      "outputs": [
        {
          "output_type": "execute_result",
          "data": {
            "text/plain": [
              "array([  0.83 , 456.483,  78.546])"
            ]
          },
          "metadata": {},
          "execution_count": 369
        }
      ]
    },
    {
      "cell_type": "code",
      "source": [
        "DF0 = SF0 - EX0 #소비+투자\n",
        "DF1 = SF1 - EX1\n",
        "DF0/1000000"
      ],
      "metadata": {
        "id": "-TSTMCf-CBm-",
        "outputId": "4eebf96b-053f-49fe-a589-a020ca29c5bc",
        "colab": {
          "base_uri": "https://localhost:8080/"
        }
      },
      "execution_count": 372,
      "outputs": [
        {
          "output_type": "execute_result",
          "data": {
            "text/plain": [
              "array([  18.656,  303.955, 1050.689])"
            ]
          },
          "metadata": {},
          "execution_count": 372
        }
      ]
    },
    {
      "cell_type": "code",
      "source": [
        "SFC00 = SFC0.sum(axis=0) # 소비합계\n",
        "SFC11 = SFC1.sum(axis=0)\n",
        "\n",
        "SFI00 = SFI0.sum(axis=0) # 투자합계\n",
        "SFI11 = SFI1.sum(axis=0)\n",
        "\n",
        "EX00 = EX0.sum(axis=0) # 수출합계\n",
        "EX11 = EX1.sum(axis=0)\n",
        "\n",
        "print('2010년 소비합계 : ', SFC00)\n",
        "print('2015년 소비합계 : ', SFC11)\n",
        "\n",
        "print('2010년 투자합계 : ', SFI00)\n",
        "print('2015년 투자합계 : ', SFI11)\n",
        "\n",
        "print('2010년 수출합계 : ', EX00)\n",
        "print('2015년 수출합계 : ', EX11)\n"
      ],
      "metadata": {
        "colab": {
          "base_uri": "https://localhost:8080/"
        },
        "id": "bsUg2RmYELiu",
        "outputId": "d8803fd1-1411-4dd0-94a3-35d979b62829"
      },
      "execution_count": 325,
      "outputs": [
        {
          "output_type": "stream",
          "name": "stdout",
          "text": [
            "2010년 소비합계 :  922814206.0\n",
            "2015년 소비합계 :  1054900320.0\n",
            "2010년 투자합계 :  450484823.0\n",
            "2015년 투자합계 :  489601534.0\n",
            "2010년 수출합계 :  535858572.0\n",
            "2015년 수출합계 :  716951177.0\n"
          ]
        }
      ]
    },
    {
      "cell_type": "code",
      "source": [
        "GDC1 = ((SFC11 - SFC00)/ SFC00) # 소비증가율\n",
        "GDC2 = GDC1*SFC0  # 규모효과\n",
        "GDC3 = (SFC1-SFC0) - GDC2 # 구조효과"
      ],
      "metadata": {
        "id": "44Dv7WlvELla"
      },
      "execution_count": 326,
      "outputs": []
    },
    {
      "cell_type": "code",
      "source": [
        "GDI1 = ((SFI11 - SFI00)/ SFI00) # 투자증가율\n",
        "GDI2 = GDI1*SFI0 # 규모효과\n",
        "GDI3 = (SFI1-SFI0) - GDI2 # 구조효과"
      ],
      "metadata": {
        "id": "kUvW8c4mELn3"
      },
      "execution_count": 327,
      "outputs": []
    },
    {
      "cell_type": "code",
      "source": [
        "ED1 = ((EX11 - EX00)/EX00) # 수출증가율\n",
        "ED2 = ED1*EX0 # 규모효과\n",
        "ED3 = (EX1-EX0) - ED2 # 구조효과"
      ],
      "metadata": {
        "id": "HOEfWHa4ELqN"
      },
      "execution_count": 328,
      "outputs": []
    },
    {
      "cell_type": "code",
      "source": [
        "C0 = S0[-1,0:3].T.reshape([3,1])  # 총산출액\n",
        "C1 = S1[-1,0:3].T.reshape([3,1])\n",
        "C0/1000000"
      ],
      "metadata": {
        "colab": {
          "base_uri": "https://localhost:8080/"
        },
        "id": "iZ80_uBiELtF",
        "outputId": "734aa874-52c6-45b6-f020-58b15e313d70"
      },
      "execution_count": 373,
      "outputs": [
        {
          "output_type": "execute_result",
          "data": {
            "text/plain": [
              "array([[  59.105],\n",
              "       [1430.838],\n",
              "       [1746.898]])"
            ]
          },
          "metadata": {},
          "execution_count": 373
        }
      ]
    },
    {
      "cell_type": "code",
      "source": [
        "TC0 = C0.sum(axis=0)  #총산출계\n",
        "TC1 = C1.sum(axis=0)\n",
        "TC1/1000000"
      ],
      "metadata": {
        "id": "P83r7vKxELvb",
        "outputId": "36cf027d-5e80-4763-9a44-accca6f0caf9",
        "colab": {
          "base_uri": "https://localhost:8080/"
        }
      },
      "execution_count": 376,
      "outputs": [
        {
          "output_type": "execute_result",
          "data": {
            "text/plain": [
              "array([3829.738])"
            ]
          },
          "metadata": {},
          "execution_count": 376
        }
      ]
    },
    {
      "cell_type": "code",
      "source": [
        "V0 = S0[-1,0:3].T - S0[3,0:3].T # 부가가치계벡터 = 총투입액 - 중간투입계\n",
        "V1 = S1[-1,0:3].T - S1[3,0:3].T\n",
        "V1/1000000"
      ],
      "metadata": {
        "colab": {
          "base_uri": "https://localhost:8080/"
        },
        "id": "JNBtafCsELyF",
        "outputId": "3b88fda9-7b56-4fcc-ad58-c47e6bb4b6a3"
      },
      "execution_count": 377,
      "outputs": [
        {
          "output_type": "execute_result",
          "data": {
            "text/plain": [
              "array([  33.258,  485.04 , 1119.152])"
            ]
          },
          "metadata": {},
          "execution_count": 377
        }
      ]
    },
    {
      "cell_type": "code",
      "source": [
        "AV0 = V0/C0 # 부가가치계수\n",
        "AV1 = V1/C1\n",
        "AV1"
      ],
      "metadata": {
        "id": "0J-f-kPxEL0Z",
        "outputId": "7e9580da-7fe2-4f43-821f-3da81830e6b7",
        "colab": {
          "base_uri": "https://localhost:8080/"
        }
      },
      "execution_count": 379,
      "outputs": [
        {
          "output_type": "execute_result",
          "data": {
            "text/plain": [
              "array([[ 0.542,  7.903, 18.236],\n",
              "       [ 0.019,  0.283,  0.654],\n",
              "       [ 0.016,  0.236,  0.544]])"
            ]
          },
          "metadata": {},
          "execution_count": 379
        }
      ]
    },
    {
      "cell_type": "code",
      "source": [
        "C0"
      ],
      "metadata": {
        "id": "NYG3cs0WeVmq",
        "outputId": "f05ab27b-cae1-4e4c-d629-b70f6cc937c2",
        "colab": {
          "base_uri": "https://localhost:8080/"
        }
      },
      "execution_count": 381,
      "outputs": [
        {
          "output_type": "execute_result",
          "data": {
            "text/plain": [
              "array([[5.911e+07],\n",
              "       [1.431e+09],\n",
              "       [1.747e+09]])"
            ]
          },
          "metadata": {},
          "execution_count": 381
        }
      ]
    },
    {
      "cell_type": "code",
      "source": [
        "CT0 = np.tile(C0, reps=[1,3])   # Ct벡터를 반복해여 행렬(32x32)로 만듬\n",
        "CT1 = np.tile(C1, reps=[1,3])\n",
        "CT1"
      ],
      "metadata": {
        "colab": {
          "base_uri": "https://localhost:8080/"
        },
        "id": "9dGIXvcTEL3B",
        "outputId": "07e8149f-2525-461d-f1fa-c2b82272cabf"
      },
      "execution_count": 333,
      "outputs": [
        {
          "output_type": "execute_result",
          "data": {
            "text/plain": [
              "array([[6.137e+07, 6.137e+07, 6.137e+07],\n",
              "       [1.711e+09, 1.711e+09, 1.711e+09],\n",
              "       [2.057e+09, 2.057e+09, 2.057e+09]])"
            ]
          },
          "metadata": {},
          "execution_count": 333
        }
      ]
    },
    {
      "cell_type": "code",
      "source": [
        "AS0 = SS0/CT0.T # 총투입계수표\n",
        "AS1 = SS1/CT1.T\n",
        "# np.isnan(AS_t)"
      ],
      "metadata": {
        "id": "NCE7a-1dgP2f"
      },
      "execution_count": 358,
      "outputs": []
    },
    {
      "cell_type": "code",
      "source": [
        "AD0 = DD0/CT0.T # 국산투입계수표\n",
        "AD1 = DD1/CT1.T"
      ],
      "metadata": {
        "id": "tWvEJKQJi9Lt"
      },
      "execution_count": 335,
      "outputs": []
    },
    {
      "cell_type": "code",
      "source": [
        "II0 = AS0-AD0 # 수입투입계수표\n",
        "II1 = AS1-AD1"
      ],
      "metadata": {
        "id": "YaT-6Loqi9OR"
      },
      "execution_count": 336,
      "outputs": []
    },
    {
      "cell_type": "code",
      "source": [
        "M0 = IF0/DF0 # 수입최종수요/(소비+투자)\n",
        "M0 = np.diag(M0)\n",
        "\n",
        "M1 = IF1/DF1\n",
        "M1 = np.diag(M1)"
      ],
      "metadata": {
        "id": "w-ShpkV7i9QY"
      },
      "execution_count": 337,
      "outputs": []
    },
    {
      "cell_type": "code",
      "source": [
        "RD0 = np.linalg.inv(np.eye(3) - AD0) # 생산유발계수\n",
        "RD1 = np.linalg.inv(np.eye(3) - AD1)"
      ],
      "metadata": {
        "id": "y5HiakVIi9Sk"
      },
      "execution_count": 338,
      "outputs": []
    },
    {
      "cell_type": "code",
      "source": [
        "AM0 = II0/AS0 #조정항목\n",
        "AM0 = AM0*AS1\n",
        "\n",
        "AM1 = II1/AS1\n",
        "AM1 = AM1*AS0\n",
        "\n",
        "# np.nan_to_num(AM0, copy=False)\n",
        "# np.nan_to_num(AM1, copy=False)"
      ],
      "metadata": {
        "id": "-62Wibedi9U7",
        "outputId": "2e8c77ca-93e0-4047-c7e2-988296cb9095",
        "colab": {
          "base_uri": "https://localhost:8080/"
        }
      },
      "execution_count": 339,
      "outputs": [
        {
          "output_type": "execute_result",
          "data": {
            "text/plain": [
              "array([[0., 0., 0.],\n",
              "       [0., 0., 0.],\n",
              "       [0., 0., 0.]])"
            ]
          },
          "metadata": {},
          "execution_count": 339
        }
      ]
    },
    {
      "cell_type": "code",
      "source": [
        "AA = AS1 - AS0 #투입계수변화\n",
        "AS1_f = pd.DataFrame(AS1)\n",
        "AS1_f.to_csv('AS1_f.csv')"
      ],
      "metadata": {
        "id": "oaRIccJKinqc"
      },
      "execution_count": 340,
      "outputs": []
    },
    {
      "cell_type": "markdown",
      "source": [
        "#### 산출액성장요인분해\n",
        "-  파쉐방식으로 산출액 변동을 분해"
      ],
      "metadata": {
        "id": "LtkcJ9Pasrzo"
      }
    },
    {
      "cell_type": "code",
      "source": [
        "TC1 = ((RD1@(np.eye(3)-M1))@GDC2).reshape([3,1])  # 소비규모증가효과\n",
        "TC11 = ((RD1@(np.eye(3)-M1))@GDC3).reshape([3,1]) # 소비구조증가효과\n",
        "TCTD = TC1 + TC11\n",
        "TC111 = np.concatenate((TCTD, TC1, TC11), axis=1)\n",
        "# TC111"
      ],
      "metadata": {
        "id": "KMvKjFJ0q19V"
      },
      "execution_count": 341,
      "outputs": []
    },
    {
      "cell_type": "code",
      "source": [
        "TI1 = ((RD1@(np.eye(3)-M1))@GDI2).reshape([3,1])  # 소비규모증가효과\n",
        "TI11 = ((RD1@(np.eye(3)-M1))@GDI3).reshape([3,1]) # 소비구조증가효과\n",
        "TITD = TI1 + TI11\n",
        "TI111 = np.concatenate((TITD, TI1, TI11), axis=1)"
      ],
      "metadata": {
        "id": "WkSQSCLhul8x"
      },
      "execution_count": 342,
      "outputs": []
    },
    {
      "cell_type": "code",
      "source": [
        "TQ = TC1+TI1 # 국내최종수요규모증가효과\n",
        "TS = TC11+TI11 # 국내최종수요규조변화효과\n",
        "TQS = TQ+TS\n",
        "T1 = np.concatenate((TQS, TQ, TS), axis=1)\n",
        "T1.shape"
      ],
      "metadata": {
        "id": "Wmq1H3tuumAB",
        "colab": {
          "base_uri": "https://localhost:8080/"
        },
        "outputId": "5c25a367-1fb4-4c76-bd95-6719d90c7d69"
      },
      "execution_count": 343,
      "outputs": [
        {
          "output_type": "execute_result",
          "data": {
            "text/plain": [
              "(3, 3)"
            ]
          },
          "metadata": {},
          "execution_count": 343
        }
      ]
    },
    {
      "cell_type": "code",
      "source": [
        "T2 = (RD1@ED2).reshape([3,1]) # 수출규모증가효과\n",
        "T22 = (RD1@ED3) .reshape([3,1])# 수출구조변화효과\n",
        "TTE = T2+T22\n",
        "T2 = np.concatenate((TTE, T2, T22), axis=1)"
      ],
      "metadata": {
        "id": "PgRj1lk4tyya"
      },
      "execution_count": 344,
      "outputs": []
    },
    {
      "cell_type": "code",
      "source": [
        "T3 = ((RD1@(M1 - M0))@DF0).reshape([3,1]) # 최종재수입대체효과\n",
        "T3 = T3*-1\n",
        "T4 = ((RD1@(AM1 - II0)))@C0[0:3,] # 중간재수입대체효과\n",
        "T4 = T4*-1\n",
        "T34 = T3 + T4\n",
        "TI = np.concatenate((T34, T3, T4), axis=1)\n",
        "TI\n",
        "\n"
      ],
      "metadata": {
        "id": "8Mr7oaogtKuC",
        "outputId": "ba8c58a4-5869-4a6b-fb3e-73685e56f9fc",
        "colab": {
          "base_uri": "https://localhost:8080/"
        }
      },
      "execution_count": 345,
      "outputs": [
        {
          "output_type": "execute_result",
          "data": {
            "text/plain": [
              "array([[ -3.534,  -1.628,  -1.905],\n",
              "       [-68.659, -31.416, -37.243],\n",
              "       [-28.077, -16.14 , -11.938]])"
            ]
          },
          "metadata": {},
          "execution_count": 345
        }
      ]
    },
    {
      "cell_type": "code",
      "source": [
        "T5 = (RD1@(AA-(II1-AM1)))@C0 # 기술변화효과\n",
        "T5.shape\n",
        "T5"
      ],
      "metadata": {
        "id": "iHLeIimfRbIu",
        "outputId": "ad60a83e-d503-45fa-b3e9-f51156a544c2",
        "colab": {
          "base_uri": "https://localhost:8080/"
        }
      },
      "execution_count": 346,
      "outputs": [
        {
          "output_type": "execute_result",
          "data": {
            "text/plain": [
              "array([[-3175558.963],\n",
              "       [14600864.182],\n",
              "       [36056892.387]])"
            ]
          },
          "metadata": {},
          "execution_count": 346
        }
      ]
    },
    {
      "cell_type": "code",
      "source": [
        "DCT0 = C1-C0  #산출액 실질변동액\n",
        "DCT1 = TCTD + TITD + TTE +T3 + T4 + T5 # 총변동요인\n",
        "DCT = DCT0-DCT1"
      ],
      "metadata": {
        "id": "-bGGgsUDHQ79"
      },
      "execution_count": 347,
      "outputs": []
    },
    {
      "cell_type": "code",
      "source": [
        "SUM = np.concatenate((C0, C1, DCT0, DCT1, DCT, T1, TC111, TI111, T2, TI, T5), axis=1)\n",
        "SUM.shape\n",
        "SUM1 = np.sum(SUM, axis=0).reshape([1,21])\n",
        "PGD1015 = (np.concatenate((SUM, SUM1), axis=0))\n",
        "PGD1015_f = (PGD1015/1000).round(1)"
      ],
      "metadata": {
        "id": "vVUQoAshMJJU"
      },
      "execution_count": 348,
      "outputs": []
    },
    {
      "cell_type": "code",
      "source": [
        "PGD1015_ff = pd.DataFrame(PGD1015_f,columns = ['10년산출액', '15년산출액', '15-10산출액(A)', '요인별합계(B)', 'B-A', '국내최종수요증감액', '국내최종수요(규모증가)', '국내최종수요(구조변화)',\n",
        "                                                     '소비', '소비(규모)','소비(구조)','투자', '투자(규모)','투자(구조)', '수출', '수출(규모)','수출(구조)', '수입', '최종재수입','중간재수입', '기술변화'],\n",
        "\n",
        "                         index=['농산품', '공산품', '서비스', '계'])  # pandas로 내보내기"
      ],
      "metadata": {
        "id": "RGtoWYTD2Lhw"
      },
      "execution_count": 349,
      "outputs": []
    },
    {
      "cell_type": "code",
      "source": [
        "PGD1015_ff"
      ],
      "metadata": {
        "id": "Fk9Z5m7G8oxT",
        "outputId": "43fb70bb-4dd7-4b5a-adae-9893a2cab6b6",
        "colab": {
          "base_uri": "https://localhost:8080/",
          "height": 421
        }
      },
      "execution_count": 350,
      "outputs": [
        {
          "output_type": "execute_result",
          "data": {
            "text/plain": [
              "        10년산출액     15년산출액  15-10산출액(A)  요인별합계(B)       B-A  국내최종수요증감액  \\\n",
              "농산품    59105.4    61371.7       2266.3   11341.2   -9074.9     4599.1   \n",
              "공산품  1430838.3  1711153.7     280315.3  530851.7 -250536.3   129047.9   \n",
              "서비스  1746897.6  2057212.5     310315.0  400189.2  -89874.2   242881.3   \n",
              "계    3236841.3  3829737.9     592896.6  942382.0 -349485.4   376528.3   \n",
              "\n",
              "     국내최종수요(규모증가)  국내최종수요(구조변화)        소비    소비(규모)  ...       투자   투자(규모)  \\\n",
              "농산품        7982.4       -3383.3    4707.1    6380.2  ...   -108.0   1602.2   \n",
              "공산품      164931.4      -35883.5  105233.2  120431.9  ...  23814.7  44499.6   \n",
              "서비스      220814.0       22067.4  183278.5  173692.6  ...  59602.8  47121.4   \n",
              "계        393727.7      -17199.5  293218.8  300504.6  ...  83309.5  93223.1   \n",
              "\n",
              "      투자(구조)        수출    수출(규모)  수출(구조)   수입  최종재수입  중간재수입     기술변화  \n",
              "농산품  -1710.2    9917.7   10364.1  -446.4 -0.0   -0.0   -0.0  -3175.6  \n",
              "공산품 -20684.9  387203.0  387321.9  -118.9 -0.1   -0.0   -0.0  14600.9  \n",
              "서비스  12481.5  121251.0  120744.3   506.6 -0.0   -0.0   -0.0  36056.9  \n",
              "계    -9913.6  518371.6  518430.3   -58.7 -0.1   -0.0   -0.1  47482.2  \n",
              "\n",
              "[4 rows x 21 columns]"
            ],
            "text/html": [
              "\n",
              "\n",
              "  <div id=\"df-a09e9c25-338d-4451-9916-feff48add4cc\">\n",
              "    <div class=\"colab-df-container\">\n",
              "      <div>\n",
              "<style scoped>\n",
              "    .dataframe tbody tr th:only-of-type {\n",
              "        vertical-align: middle;\n",
              "    }\n",
              "\n",
              "    .dataframe tbody tr th {\n",
              "        vertical-align: top;\n",
              "    }\n",
              "\n",
              "    .dataframe thead th {\n",
              "        text-align: right;\n",
              "    }\n",
              "</style>\n",
              "<table border=\"1\" class=\"dataframe\">\n",
              "  <thead>\n",
              "    <tr style=\"text-align: right;\">\n",
              "      <th></th>\n",
              "      <th>10년산출액</th>\n",
              "      <th>15년산출액</th>\n",
              "      <th>15-10산출액(A)</th>\n",
              "      <th>요인별합계(B)</th>\n",
              "      <th>B-A</th>\n",
              "      <th>국내최종수요증감액</th>\n",
              "      <th>국내최종수요(규모증가)</th>\n",
              "      <th>국내최종수요(구조변화)</th>\n",
              "      <th>소비</th>\n",
              "      <th>소비(규모)</th>\n",
              "      <th>...</th>\n",
              "      <th>투자</th>\n",
              "      <th>투자(규모)</th>\n",
              "      <th>투자(구조)</th>\n",
              "      <th>수출</th>\n",
              "      <th>수출(규모)</th>\n",
              "      <th>수출(구조)</th>\n",
              "      <th>수입</th>\n",
              "      <th>최종재수입</th>\n",
              "      <th>중간재수입</th>\n",
              "      <th>기술변화</th>\n",
              "    </tr>\n",
              "  </thead>\n",
              "  <tbody>\n",
              "    <tr>\n",
              "      <th>농산품</th>\n",
              "      <td>59105.4</td>\n",
              "      <td>61371.7</td>\n",
              "      <td>2266.3</td>\n",
              "      <td>11341.2</td>\n",
              "      <td>-9074.9</td>\n",
              "      <td>4599.1</td>\n",
              "      <td>7982.4</td>\n",
              "      <td>-3383.3</td>\n",
              "      <td>4707.1</td>\n",
              "      <td>6380.2</td>\n",
              "      <td>...</td>\n",
              "      <td>-108.0</td>\n",
              "      <td>1602.2</td>\n",
              "      <td>-1710.2</td>\n",
              "      <td>9917.7</td>\n",
              "      <td>10364.1</td>\n",
              "      <td>-446.4</td>\n",
              "      <td>-0.0</td>\n",
              "      <td>-0.0</td>\n",
              "      <td>-0.0</td>\n",
              "      <td>-3175.6</td>\n",
              "    </tr>\n",
              "    <tr>\n",
              "      <th>공산품</th>\n",
              "      <td>1430838.3</td>\n",
              "      <td>1711153.7</td>\n",
              "      <td>280315.3</td>\n",
              "      <td>530851.7</td>\n",
              "      <td>-250536.3</td>\n",
              "      <td>129047.9</td>\n",
              "      <td>164931.4</td>\n",
              "      <td>-35883.5</td>\n",
              "      <td>105233.2</td>\n",
              "      <td>120431.9</td>\n",
              "      <td>...</td>\n",
              "      <td>23814.7</td>\n",
              "      <td>44499.6</td>\n",
              "      <td>-20684.9</td>\n",
              "      <td>387203.0</td>\n",
              "      <td>387321.9</td>\n",
              "      <td>-118.9</td>\n",
              "      <td>-0.1</td>\n",
              "      <td>-0.0</td>\n",
              "      <td>-0.0</td>\n",
              "      <td>14600.9</td>\n",
              "    </tr>\n",
              "    <tr>\n",
              "      <th>서비스</th>\n",
              "      <td>1746897.6</td>\n",
              "      <td>2057212.5</td>\n",
              "      <td>310315.0</td>\n",
              "      <td>400189.2</td>\n",
              "      <td>-89874.2</td>\n",
              "      <td>242881.3</td>\n",
              "      <td>220814.0</td>\n",
              "      <td>22067.4</td>\n",
              "      <td>183278.5</td>\n",
              "      <td>173692.6</td>\n",
              "      <td>...</td>\n",
              "      <td>59602.8</td>\n",
              "      <td>47121.4</td>\n",
              "      <td>12481.5</td>\n",
              "      <td>121251.0</td>\n",
              "      <td>120744.3</td>\n",
              "      <td>506.6</td>\n",
              "      <td>-0.0</td>\n",
              "      <td>-0.0</td>\n",
              "      <td>-0.0</td>\n",
              "      <td>36056.9</td>\n",
              "    </tr>\n",
              "    <tr>\n",
              "      <th>계</th>\n",
              "      <td>3236841.3</td>\n",
              "      <td>3829737.9</td>\n",
              "      <td>592896.6</td>\n",
              "      <td>942382.0</td>\n",
              "      <td>-349485.4</td>\n",
              "      <td>376528.3</td>\n",
              "      <td>393727.7</td>\n",
              "      <td>-17199.5</td>\n",
              "      <td>293218.8</td>\n",
              "      <td>300504.6</td>\n",
              "      <td>...</td>\n",
              "      <td>83309.5</td>\n",
              "      <td>93223.1</td>\n",
              "      <td>-9913.6</td>\n",
              "      <td>518371.6</td>\n",
              "      <td>518430.3</td>\n",
              "      <td>-58.7</td>\n",
              "      <td>-0.1</td>\n",
              "      <td>-0.0</td>\n",
              "      <td>-0.1</td>\n",
              "      <td>47482.2</td>\n",
              "    </tr>\n",
              "  </tbody>\n",
              "</table>\n",
              "<p>4 rows × 21 columns</p>\n",
              "</div>\n",
              "      <button class=\"colab-df-convert\" onclick=\"convertToInteractive('df-a09e9c25-338d-4451-9916-feff48add4cc')\"\n",
              "              title=\"Convert this dataframe to an interactive table.\"\n",
              "              style=\"display:none;\">\n",
              "\n",
              "  <svg xmlns=\"http://www.w3.org/2000/svg\" height=\"24px\"viewBox=\"0 0 24 24\"\n",
              "       width=\"24px\">\n",
              "    <path d=\"M0 0h24v24H0V0z\" fill=\"none\"/>\n",
              "    <path d=\"M18.56 5.44l.94 2.06.94-2.06 2.06-.94-2.06-.94-.94-2.06-.94 2.06-2.06.94zm-11 1L8.5 8.5l.94-2.06 2.06-.94-2.06-.94L8.5 2.5l-.94 2.06-2.06.94zm10 10l.94 2.06.94-2.06 2.06-.94-2.06-.94-.94-2.06-.94 2.06-2.06.94z\"/><path d=\"M17.41 7.96l-1.37-1.37c-.4-.4-.92-.59-1.43-.59-.52 0-1.04.2-1.43.59L10.3 9.45l-7.72 7.72c-.78.78-.78 2.05 0 2.83L4 21.41c.39.39.9.59 1.41.59.51 0 1.02-.2 1.41-.59l7.78-7.78 2.81-2.81c.8-.78.8-2.07 0-2.86zM5.41 20L4 18.59l7.72-7.72 1.47 1.35L5.41 20z\"/>\n",
              "  </svg>\n",
              "      </button>\n",
              "\n",
              "\n",
              "\n",
              "    <div id=\"df-cc3a9dca-e408-4891-9e04-9bb6b84b8314\">\n",
              "      <button class=\"colab-df-quickchart\" onclick=\"quickchart('df-cc3a9dca-e408-4891-9e04-9bb6b84b8314')\"\n",
              "              title=\"Suggest charts.\"\n",
              "              style=\"display:none;\">\n",
              "\n",
              "<svg xmlns=\"http://www.w3.org/2000/svg\" height=\"24px\"viewBox=\"0 0 24 24\"\n",
              "     width=\"24px\">\n",
              "    <g>\n",
              "        <path d=\"M19 3H5c-1.1 0-2 .9-2 2v14c0 1.1.9 2 2 2h14c1.1 0 2-.9 2-2V5c0-1.1-.9-2-2-2zM9 17H7v-7h2v7zm4 0h-2V7h2v10zm4 0h-2v-4h2v4z\"/>\n",
              "    </g>\n",
              "</svg>\n",
              "      </button>\n",
              "    </div>\n",
              "\n",
              "<style>\n",
              "  .colab-df-quickchart {\n",
              "    background-color: #E8F0FE;\n",
              "    border: none;\n",
              "    border-radius: 50%;\n",
              "    cursor: pointer;\n",
              "    display: none;\n",
              "    fill: #1967D2;\n",
              "    height: 32px;\n",
              "    padding: 0 0 0 0;\n",
              "    width: 32px;\n",
              "  }\n",
              "\n",
              "  .colab-df-quickchart:hover {\n",
              "    background-color: #E2EBFA;\n",
              "    box-shadow: 0px 1px 2px rgba(60, 64, 67, 0.3), 0px 1px 3px 1px rgba(60, 64, 67, 0.15);\n",
              "    fill: #174EA6;\n",
              "  }\n",
              "\n",
              "  [theme=dark] .colab-df-quickchart {\n",
              "    background-color: #3B4455;\n",
              "    fill: #D2E3FC;\n",
              "  }\n",
              "\n",
              "  [theme=dark] .colab-df-quickchart:hover {\n",
              "    background-color: #434B5C;\n",
              "    box-shadow: 0px 1px 3px 1px rgba(0, 0, 0, 0.15);\n",
              "    filter: drop-shadow(0px 1px 2px rgba(0, 0, 0, 0.3));\n",
              "    fill: #FFFFFF;\n",
              "  }\n",
              "</style>\n",
              "\n",
              "    <script>\n",
              "      async function quickchart(key) {\n",
              "        const containerElement = document.querySelector('#' + key);\n",
              "        const charts = await google.colab.kernel.invokeFunction(\n",
              "            'suggestCharts', [key], {});\n",
              "      }\n",
              "    </script>\n",
              "\n",
              "      <script>\n",
              "\n",
              "function displayQuickchartButton(domScope) {\n",
              "  let quickchartButtonEl =\n",
              "    domScope.querySelector('#df-cc3a9dca-e408-4891-9e04-9bb6b84b8314 button.colab-df-quickchart');\n",
              "  quickchartButtonEl.style.display =\n",
              "    google.colab.kernel.accessAllowed ? 'block' : 'none';\n",
              "}\n",
              "\n",
              "        displayQuickchartButton(document);\n",
              "      </script>\n",
              "      <style>\n",
              "    .colab-df-container {\n",
              "      display:flex;\n",
              "      flex-wrap:wrap;\n",
              "      gap: 12px;\n",
              "    }\n",
              "\n",
              "    .colab-df-convert {\n",
              "      background-color: #E8F0FE;\n",
              "      border: none;\n",
              "      border-radius: 50%;\n",
              "      cursor: pointer;\n",
              "      display: none;\n",
              "      fill: #1967D2;\n",
              "      height: 32px;\n",
              "      padding: 0 0 0 0;\n",
              "      width: 32px;\n",
              "    }\n",
              "\n",
              "    .colab-df-convert:hover {\n",
              "      background-color: #E2EBFA;\n",
              "      box-shadow: 0px 1px 2px rgba(60, 64, 67, 0.3), 0px 1px 3px 1px rgba(60, 64, 67, 0.15);\n",
              "      fill: #174EA6;\n",
              "    }\n",
              "\n",
              "    [theme=dark] .colab-df-convert {\n",
              "      background-color: #3B4455;\n",
              "      fill: #D2E3FC;\n",
              "    }\n",
              "\n",
              "    [theme=dark] .colab-df-convert:hover {\n",
              "      background-color: #434B5C;\n",
              "      box-shadow: 0px 1px 3px 1px rgba(0, 0, 0, 0.15);\n",
              "      filter: drop-shadow(0px 1px 2px rgba(0, 0, 0, 0.3));\n",
              "      fill: #FFFFFF;\n",
              "    }\n",
              "  </style>\n",
              "\n",
              "      <script>\n",
              "        const buttonEl =\n",
              "          document.querySelector('#df-a09e9c25-338d-4451-9916-feff48add4cc button.colab-df-convert');\n",
              "        buttonEl.style.display =\n",
              "          google.colab.kernel.accessAllowed ? 'block' : 'none';\n",
              "\n",
              "        async function convertToInteractive(key) {\n",
              "          const element = document.querySelector('#df-a09e9c25-338d-4451-9916-feff48add4cc');\n",
              "          const dataTable =\n",
              "            await google.colab.kernel.invokeFunction('convertToInteractive',\n",
              "                                                     [key], {});\n",
              "          if (!dataTable) return;\n",
              "\n",
              "          const docLinkHtml = 'Like what you see? Visit the ' +\n",
              "            '<a target=\"_blank\" href=https://colab.research.google.com/notebooks/data_table.ipynb>data table notebook</a>'\n",
              "            + ' to learn more about interactive tables.';\n",
              "          element.innerHTML = '';\n",
              "          dataTable['output_type'] = 'display_data';\n",
              "          await google.colab.output.renderOutput(dataTable, element);\n",
              "          const docLink = document.createElement('div');\n",
              "          docLink.innerHTML = docLinkHtml;\n",
              "          element.appendChild(docLink);\n",
              "        }\n",
              "      </script>\n",
              "    </div>\n",
              "  </div>\n"
            ]
          },
          "metadata": {},
          "execution_count": 350
        }
      ]
    },
    {
      "cell_type": "code",
      "source": [
        "PGD1015_ff.to_csv('산출액변동요인.csv', encoding=\"utf-8-sig\")"
      ],
      "metadata": {
        "id": "h7CkNaE15PIg"
      },
      "execution_count": 261,
      "outputs": []
    },
    {
      "cell_type": "code",
      "source": [
        "Ctbr =  PGD1015[:,5:]\n",
        "Ctbr.shape"
      ],
      "metadata": {
        "id": "3O6_BXxbcwuW",
        "outputId": "e21588a3-ef3a-49cf-c5a1-16f41260eb01",
        "colab": {
          "base_uri": "https://localhost:8080/"
        }
      },
      "execution_count": 262,
      "outputs": [
        {
          "output_type": "execute_result",
          "data": {
            "text/plain": [
              "(4, 16)"
            ]
          },
          "metadata": {},
          "execution_count": 262
        }
      ]
    },
    {
      "cell_type": "code",
      "source": [
        "sm_gap = PGD1015[:,3].reshape([33,1])  # 요인별 합계\n",
        "sm_gap.shape"
      ],
      "metadata": {
        "id": "Ib0VzKGcFjOo",
        "outputId": "b54de106-0bf6-44f2-f312-8ebd612dd30e",
        "colab": {
          "base_uri": "https://localhost:8080/",
          "height": 191
        }
      },
      "execution_count": 263,
      "outputs": [
        {
          "output_type": "error",
          "ename": "ValueError",
          "evalue": "ignored",
          "traceback": [
            "\u001b[0;31m---------------------------------------------------------------------------\u001b[0m",
            "\u001b[0;31mValueError\u001b[0m                                Traceback (most recent call last)",
            "\u001b[0;32m<ipython-input-263-07bf53a12347>\u001b[0m in \u001b[0;36m<cell line: 1>\u001b[0;34m()\u001b[0m\n\u001b[0;32m----> 1\u001b[0;31m \u001b[0msm_gap\u001b[0m \u001b[0;34m=\u001b[0m \u001b[0mPGD1015\u001b[0m\u001b[0;34m[\u001b[0m\u001b[0;34m:\u001b[0m\u001b[0;34m,\u001b[0m\u001b[0;36m3\u001b[0m\u001b[0;34m]\u001b[0m\u001b[0;34m.\u001b[0m\u001b[0mreshape\u001b[0m\u001b[0;34m(\u001b[0m\u001b[0;34m[\u001b[0m\u001b[0;36m33\u001b[0m\u001b[0;34m,\u001b[0m\u001b[0;36m1\u001b[0m\u001b[0;34m]\u001b[0m\u001b[0;34m)\u001b[0m  \u001b[0;31m# 요인별 합계\u001b[0m\u001b[0;34m\u001b[0m\u001b[0;34m\u001b[0m\u001b[0m\n\u001b[0m\u001b[1;32m      2\u001b[0m \u001b[0msm_gap\u001b[0m\u001b[0;34m.\u001b[0m\u001b[0mshape\u001b[0m\u001b[0;34m\u001b[0m\u001b[0;34m\u001b[0m\u001b[0m\n",
            "\u001b[0;31mValueError\u001b[0m: cannot reshape array of size 4 into shape (33,1)"
          ]
        }
      ]
    },
    {
      "cell_type": "code",
      "source": [
        "sm_gap1 = np.tile(sm_gap, reps=[1,16]) # 요인별 합계를 33x16으로 반복\n",
        "sm_gap1.shape"
      ],
      "metadata": {
        "id": "Ojzes5k4GZl_"
      },
      "execution_count": null,
      "outputs": []
    },
    {
      "cell_type": "code",
      "source": [
        "Ctrb = (Ctbr/sm_gap1)*100  # 각 항목별 기여율\n",
        "Ctrb_f = Ctrb.round(1)"
      ],
      "metadata": {
        "id": "-gooAQnRFjRg"
      },
      "execution_count": null,
      "outputs": []
    },
    {
      "cell_type": "code",
      "source": [
        "Ctrb_ff = pd.DataFrame(Ctrb_f,columns = ['국내최종수요증감액', '국내최종수요(규모증가)', '국내최종수요(구조변화)','소비', '소비(규모)','소비(구조)','투자', '투자(규모)','투자(구조)',\n",
        "                                         '수출', '수출(규모)','수출(구조)', '수입', '최종재수입','중간재수입', '기술변화'],\n",
        "\n",
        "                         index=['농림수산품', '광산품', '음식료품', '섬유 및 가죽제품', '목재 및 종이, 인쇄', ' 석탄 및 석유제품', '화학제품', '비금속광물제품', '1차금속제품', '금속가공제품',\n",
        "                                '컴퓨터, 전자 및 광학기기', '전기장비', '기계 및 장비', '운송장비', '기타제조업제품', '제조임가공 및 산업용 장비 수리', '전력, 가스 및 증기', '수도, 폐기물처리 및 재활용 서비스',\n",
        "                                '건설', '도소매', '운송서비스', '음석점및숙박', '정보통신 및 방송서비스', '금융및보험서비스', '부동산서비스', '전문, 과학 및 기술서비스',\n",
        "                                '사업지원서비스', '공공행정, 국방 및 사회보장', '교육서비스', '보건 및 사회복지서비스', '예술, 스포츠 및 여가 관련 서비스', '기타 서비스', '계'])  # pandas로 내보내기"
      ],
      "metadata": {
        "id": "ZiMJL68VDYdk"
      },
      "execution_count": null,
      "outputs": []
    },
    {
      "cell_type": "code",
      "source": [
        "Ctrb_ff.to_csv('항목별 기여율.csv', encoding=\"utf-8-sig\")"
      ],
      "metadata": {
        "id": "tLccCmzVC3Hx"
      },
      "execution_count": null,
      "outputs": []
    },
    {
      "cell_type": "code",
      "source": [
        "YR = (((PGD1015[:,1]/PGD1015[:,0])**(1/5)-1)*100).reshape([33,1])\n",
        "YR"
      ],
      "metadata": {
        "id": "Py69_yTbDX6p"
      },
      "execution_count": null,
      "outputs": []
    },
    {
      "cell_type": "code",
      "source": [
        "Ctrb_amt = (Ctrb*YR/100)\n",
        "Ctrb_amt_f = Ctrb_amt.round(3)\n",
        "Ctrb_amt_f"
      ],
      "metadata": {
        "id": "kfNA_NIVKjgt"
      },
      "execution_count": null,
      "outputs": []
    },
    {
      "cell_type": "code",
      "source": [
        "Ctrb_amt_ff = pd.DataFrame(Ctrb_amt_f,columns = ['국내최종수요증감액', '국내최종수요(규모증가)', '국내최종수요(구조변화)','소비', '소비(규모)','소비(구조)','투자', '투자(규모)','투자(구조)',\n",
        "                                         '수출', '수출(규모)','수출(구조)', '수입', '최종재수입','중간재수입', '기술변화'],\n",
        "\n",
        "                         index=['농림수산품', '광산품', '음식료품', '섬유 및 가죽제품', '목재 및 종이, 인쇄', ' 석탄 및 석유제품', '화학제품', '비금속광물제품', '1차금속제품', '금속가공제품',\n",
        "                                '컴퓨터, 전자 및 광학기기', '전기장비', '기계 및 장비', '운송장비', '기타제조업제품', '제조임가공 및 산업용 장비 수리', '전력, 가스 및 증기', '수도, 폐기물처리 및 재활용 서비스',\n",
        "                                '건설', '도소매', '운송서비스', '음석점및숙박', '정보통신 및 방송서비스', '금융및보험서비스', '부동산서비스', '전문, 과학 및 기술서비스',\n",
        "                                '사업지원서비스', '공공행정, 국방 및 사회보장', '교육서비스', '보건 및 사회복지서비스', '예술, 스포츠 및 여가 관련 서비스', '기타 서비스', '계'])  # pandas로 내보내기"
      ],
      "metadata": {
        "id": "SkF8oJDrCXTt"
      },
      "execution_count": null,
      "outputs": []
    },
    {
      "cell_type": "code",
      "source": [
        "Ctrb_amt_ff.to_csv('항목별 기여도.csv', encoding=\"utf-8-sig\")"
      ],
      "metadata": {
        "id": "Cx_mEeLP_Hrr"
      },
      "execution_count": null,
      "outputs": []
    },
    {
      "cell_type": "code",
      "source": [],
      "metadata": {
        "id": "oypgBCa3ljsO"
      },
      "execution_count": null,
      "outputs": []
    }
  ]
}