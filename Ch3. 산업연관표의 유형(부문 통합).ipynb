{
  "nbformat": 4,
  "nbformat_minor": 0,
  "metadata": {
    "colab": {
      "provenance": [],
      "mount_file_id": "https://github.com/Tom-Jung/legendary-funicular/blob/main/IO_tables.ipynb",
      "authorship_tag": "ABX9TyPGXoi4SkDe7nYN5HYvh2P0",
      "include_colab_link": true
    },
    "kernelspec": {
      "name": "python3",
      "display_name": "Python 3"
    },
    "language_info": {
      "name": "python"
    }
  },
  "cells": [
    {
      "cell_type": "markdown",
      "metadata": {
        "id": "view-in-github",
        "colab_type": "text"
      },
      "source": [
        "<a href=\"https://colab.research.google.com/github/Tom-Jung/legendary-funicular/blob/main/Ch3.%20%EC%82%B0%EC%97%85%EC%97%B0%EA%B4%80%ED%91%9C%EC%9D%98%20%EC%9C%A0%ED%98%95(%EB%B6%80%EB%AC%B8%20%ED%86%B5%ED%95%A9).ipynb\" target=\"_parent\"><img src=\"https://colab.research.google.com/assets/colab-badge.svg\" alt=\"Open In Colab\"/></a>"
      ]
    },
    {
      "cell_type": "code",
      "source": [
        "import numpy as np   # Numpy import\n",
        "import pandas as pd  # Pandas import"
      ],
      "metadata": {
        "id": "TR7JvW8CxBFT"
      },
      "execution_count": 1,
      "outputs": []
    },
    {
      "cell_type": "code",
      "source": [
        "np.set_printoptions(precision=3,suppress=True) # 결과를 소수 3자리까지만 보여주는 옵션"
      ],
      "metadata": {
        "id": "UPzP16t9irDv"
      },
      "execution_count": 2,
      "outputs": []
    },
    {
      "cell_type": "markdown",
      "source": [
        "# 부문통합하여 3부문 IO표 만들기\n",
        "- 2019년 산업연관표(33부문)를 IO표를 3부문 IO표로 통합하고 이를 통해 설명하기로 함\n",
        "- 33부문을 크게 농수산품, 공산품 및 서비스로 통합하기 위하여 행렬 곱을 사용\n",
        "- 0과 1로 구성된 행렬을 만드는데 각 행은 새로운 표의 부문을 나타내며 각 열은 33부문의 부문을 나타낸다"
      ],
      "metadata": {
        "id": "NQYwTxzNNkO6"
      }
    },
    {
      "cell_type": "code",
      "source": [
        "code = np.array([[1,0,0,0,0,0,0,0,0,0,0,0,0,0,0,0,0,0,0,0,0,0,0,0,0,0,0,0,0,0,0,0,0],  # 행렬 곱을 이용한 부문 통합을 위해 0과 1로 구성된 임시의 3x33 매트릭스\n",
        "       [0,1,1,1,1,1,1,1,1,1,1,1,1,1,1,1,0,0,0,0,0,0,0,0,0,0,0,0,0,0,0,0,0],\n",
        "       [0,0,0,0,0,0,0,0,0,0,0,0,0,0,0,0,1,1,1,1,1,1,1,1,1,1,1,1,1,1,1,1,1]])\n",
        "code"
      ],
      "metadata": {
        "colab": {
          "base_uri": "https://localhost:8080/"
        },
        "id": "1JLgiYagNz1u",
        "outputId": "cbdaa796-ccf4-435e-de4b-3bd3fe2ccd23"
      },
      "execution_count": 3,
      "outputs": [
        {
          "output_type": "execute_result",
          "data": {
            "text/plain": [
              "array([[1, 0, 0, 0, 0, 0, 0, 0, 0, 0, 0, 0, 0, 0, 0, 0, 0, 0, 0, 0, 0, 0,\n",
              "        0, 0, 0, 0, 0, 0, 0, 0, 0, 0, 0],\n",
              "       [0, 1, 1, 1, 1, 1, 1, 1, 1, 1, 1, 1, 1, 1, 1, 1, 0, 0, 0, 0, 0, 0,\n",
              "        0, 0, 0, 0, 0, 0, 0, 0, 0, 0, 0],\n",
              "       [0, 0, 0, 0, 0, 0, 0, 0, 0, 0, 0, 0, 0, 0, 0, 0, 1, 1, 1, 1, 1, 1,\n",
              "        1, 1, 1, 1, 1, 1, 1, 1, 1, 1, 1]])"
            ]
          },
          "metadata": {},
          "execution_count": 3
        }
      ]
    },
    {
      "cell_type": "code",
      "source": [
        "cdd = \"https://raw.githubusercontent.com/Tom-Jung/legendary-funicular/main/code.csv\"  # 코드매치 파일\n",
        "ccdd = pd.read_csv(cdd)\n",
        "cd_for_itr = ccdd.to_numpy().reshape(33,2)\n",
        "cd_3 = cd_for_itr[:,1]\n",
        "cd_33 = cd_for_itr[:,0]\n",
        "print('3부문 코드 : \\n', cd_3)\n",
        "print('33부문 코드 : \\n', cd_33)"
      ],
      "metadata": {
        "colab": {
          "base_uri": "https://localhost:8080/"
        },
        "id": "Xp8f9h0RNz4N",
        "outputId": "335d9100-5b34-40cd-8314-aea62d823c4e"
      },
      "execution_count": 4,
      "outputs": [
        {
          "output_type": "stream",
          "name": "stdout",
          "text": [
            "3부문 코드 : \n",
            " [1 2 2 2 2 2 2 2 2 2 2 2 2 2 2 2 3 3 3 3 3 3 3 3 3 3 3 3 3 3 3 3 3]\n",
            "33부문 코드 : \n",
            " [ 1  2  3  4  5  6  7  8  9 10 11 12 13 14 15 16 17 18 19 20 21 22 23 24\n",
            " 25 26 27 28 29 30 31 32 33]\n"
          ]
        }
      ]
    },
    {
      "cell_type": "code",
      "source": [
        "Mtx = np.zeros((3,33)) # 부문통합을 위한 코드가 많을 경우 상기의 코드를 수작업으로 미리 하는 것이 쉽자 않으므로 반복문을 통해 3x33 임시코드 만들기\n",
        "row=cd_3\n",
        "col=cd_33\n",
        "for i, j in zip(row,col):\n",
        "  Mtx[i-1,j-1] = 1\n",
        "print(Mtx)"
      ],
      "metadata": {
        "colab": {
          "base_uri": "https://localhost:8080/"
        },
        "id": "OXrxsH2sNz6l",
        "outputId": "7b339250-f6dc-4cb2-85cc-44a03ba2b886"
      },
      "execution_count": 5,
      "outputs": [
        {
          "output_type": "stream",
          "name": "stdout",
          "text": [
            "[[1. 0. 0. 0. 0. 0. 0. 0. 0. 0. 0. 0. 0. 0. 0. 0. 0. 0. 0. 0. 0. 0. 0. 0.\n",
            "  0. 0. 0. 0. 0. 0. 0. 0. 0.]\n",
            " [0. 1. 1. 1. 1. 1. 1. 1. 1. 1. 1. 1. 1. 1. 1. 1. 0. 0. 0. 0. 0. 0. 0. 0.\n",
            "  0. 0. 0. 0. 0. 0. 0. 0. 0.]\n",
            " [0. 0. 0. 0. 0. 0. 0. 0. 0. 0. 0. 0. 0. 0. 0. 0. 1. 1. 1. 1. 1. 1. 1. 1.\n",
            "  1. 1. 1. 1. 1. 1. 1. 1. 1.]]\n"
          ]
        }
      ]
    },
    {
      "cell_type": "markdown",
      "source": [
        "###  총거래표"
      ],
      "metadata": {
        "id": "3pPHmi20k2k1"
      }
    },
    {
      "cell_type": "code",
      "source": [
        "url_Tt_33 = \"https://raw.githubusercontent.com/Tom-Jung/legendary-funicular/main/Total_Matrix.csv\"  # 33부문의 총거래표 불러오기\n",
        "Tt_33 = pd.read_csv(url_Tt_33)"
      ],
      "metadata": {
        "id": "EuB3g6ODNz9E"
      },
      "execution_count": 6,
      "outputs": []
    },
    {
      "cell_type": "code",
      "source": [
        "Ttt_33 = Tt_33.to_numpy()\n",
        "Tot_33 = Ttt_33[0:41,1:53].astype(float)"
      ],
      "metadata": {
        "id": "vy0JTtnUNz_x"
      },
      "execution_count": 8,
      "outputs": []
    },
    {
      "cell_type": "code",
      "source": [
        "nae_tot_row = code@Tot_33[0:33,0:33] # 중간투입(수요)의 행을 3부문으로 만들기\n",
        "nae_tot_row"
      ],
      "metadata": {
        "colab": {
          "base_uri": "https://localhost:8080/"
        },
        "id": "ECKiygpePcTc",
        "outputId": "462ce0f2-5168-426f-ce90-a164bdb2406a"
      },
      "execution_count": 9,
      "outputs": [
        {
          "output_type": "execute_result",
          "data": {
            "text/plain": [
              "array([[  4.,   0.,  36.,   1.,   0.,   0.,   1.,   0.,   0.,   0.,   0.,\n",
              "          0.,   0.,   0.,   0.,   0.,   0.,   0.,   0.,   0.,   0.,  10.,\n",
              "          0.,   0.,   0.,   0.,   0.,   0.,   0.,   1.,   0.,   0.,   0.],\n",
              "       [ 16.,   0.,  41.,  41.,  20.,  88., 146.,  17.,  82.,  50., 139.,\n",
              "         63.,  77., 153.,  11.,  16.,  47.,   2., 103.,  18.,  41.,  57.,\n",
              "         11.,   4.,   4.,  31.,   6.,   8.,   7.,  39.,   7.,  16.,   0.],\n",
              "       [  7.,   1.,  24.,  11.,   9.,  11.,  52.,  10.,  27.,  12.,  28.,\n",
              "         13.,  17.,  29.,   4.,   9.,  19.,   5.,  46., 112.,  56.,  44.,\n",
              "         54.,  72.,  58.,  83.,  23.,  26.,  28.,  38.,  14.,  12.,   3.]])"
            ]
          },
          "metadata": {},
          "execution_count": 9
        }
      ]
    },
    {
      "cell_type": "code",
      "source": [
        "nae_tot_row.shape  # 행과 열의 개수 확인"
      ],
      "metadata": {
        "colab": {
          "base_uri": "https://localhost:8080/"
        },
        "id": "A0aUlcqHPcV6",
        "outputId": "300f66dc-63de-42bc-961e-cffc679ed5b1"
      },
      "execution_count": 10,
      "outputs": [
        {
          "output_type": "execute_result",
          "data": {
            "text/plain": [
              "(3, 33)"
            ]
          },
          "metadata": {},
          "execution_count": 10
        }
      ]
    },
    {
      "cell_type": "code",
      "source": [
        "nae_tot_col = nae_tot_row@code.T  # 수작업한 code 이용\n",
        "nae_tot_col"
      ],
      "metadata": {
        "colab": {
          "base_uri": "https://localhost:8080/"
        },
        "id": "wpQ73AjVPcYB",
        "outputId": "cecc6772-4c8c-4fe9-cfed-ed2ca41d540b"
      },
      "execution_count": 11,
      "outputs": [
        {
          "output_type": "execute_result",
          "data": {
            "text/plain": [
              "array([[  4.,  38.,  11.],\n",
              "       [ 16., 944., 401.],\n",
              "       [  7., 257., 693.]])"
            ]
          },
          "metadata": {},
          "execution_count": 11
        }
      ]
    },
    {
      "cell_type": "code",
      "source": [
        "ztest_nae_tot_col = nae_tot_row@Mtx.T # 반복문을 이용해서 만든  Mtx 이용\n",
        "ztest_nae_tot_col"
      ],
      "metadata": {
        "colab": {
          "base_uri": "https://localhost:8080/"
        },
        "id": "mYiPui5ePcaQ",
        "outputId": "553a045f-57bb-4306-b3df-e113120332a0"
      },
      "execution_count": 12,
      "outputs": [
        {
          "output_type": "execute_result",
          "data": {
            "text/plain": [
              "array([[  4.,  38.,  11.],\n",
              "       [ 16., 944., 401.],\n",
              "       [  7., 257., 693.]])"
            ]
          },
          "metadata": {},
          "execution_count": 12
        }
      ]
    },
    {
      "cell_type": "code",
      "source": [
        "print(nae_tot_col.shape)  # 행과 열의 개수 확인\n",
        "print(nae_tot_col.sum())  # 중간투입(수요) 합계 확인"
      ],
      "metadata": {
        "colab": {
          "base_uri": "https://localhost:8080/"
        },
        "id": "nev1PAA_PccQ",
        "outputId": "df333b82-fb66-4945-b9bd-9f1f35bea9d8"
      },
      "execution_count": 13,
      "outputs": [
        {
          "output_type": "stream",
          "name": "stdout",
          "text": [
            "(3, 3)\n",
            "2371.0\n"
          ]
        }
      ]
    },
    {
      "cell_type": "code",
      "source": [
        "\n",
        "nae_tot_col.sum()"
      ],
      "metadata": {
        "colab": {
          "base_uri": "https://localhost:8080/"
        },
        "id": "CYcSIf8LPceR",
        "outputId": "9ae9af66-94d4-4fa6-b72c-24df4593c35c"
      },
      "execution_count": 14,
      "outputs": [
        {
          "output_type": "execute_result",
          "data": {
            "text/plain": [
              "2371.0"
            ]
          },
          "metadata": {},
          "execution_count": 14
        }
      ]
    },
    {
      "cell_type": "code",
      "source": [
        "va_row = Tot_33[33:40,0:33]@code.T # 중투합, 피용자보수, 영업잉여, 고정자본소모, 기타생산세, 부가가치계, 산출액(7X3)\n",
        "va_row"
      ],
      "metadata": {
        "colab": {
          "base_uri": "https://localhost:8080/"
        },
        "id": "7M_aC4UNPcgW",
        "outputId": "e55c092c-9c36-44f2-eb06-befb4bdd0aa2"
      },
      "execution_count": 15,
      "outputs": [
        {
          "output_type": "execute_result",
          "data": {
            "text/plain": [
              "array([[  27., 1239., 1105.],\n",
              "       [   7.,  197.,  714.],\n",
              "       [  20.,  152.,  298.],\n",
              "       [   5.,  144.,  230.],\n",
              "       [   1.,   60.,  100.],\n",
              "       [  33.,  553., 1342.],\n",
              "       [  60., 1792., 2447.]])"
            ]
          },
          "metadata": {},
          "execution_count": 15
        }
      ]
    },
    {
      "cell_type": "code",
      "source": [
        "va_row.shape"
      ],
      "metadata": {
        "colab": {
          "base_uri": "https://localhost:8080/"
        },
        "id": "WjbX8g2sPcic",
        "outputId": "03d4f870-4709-4f8f-bc77-c511ab9597eb"
      },
      "execution_count": 16,
      "outputs": [
        {
          "output_type": "execute_result",
          "data": {
            "text/plain": [
              "(7, 3)"
            ]
          },
          "metadata": {},
          "execution_count": 16
        }
      ]
    },
    {
      "cell_type": "code",
      "source": [
        "fd_cd = np.array([[1,1,0,0,0,0,0,0,0],   # 최종수요를 통합하기 위한 0과 1로된 행렬\n",
        "                  [0,0,1,1,1,1,0,0,0],\n",
        "                  [0,0,0,0,0,0,1,0,0],\n",
        "                  [0,0,0,0,0,0,0,1,0],\n",
        "                  [0,0,0,0,0,0,0,0,1]])"
      ],
      "metadata": {
        "id": "636Yax5LQY1_"
      },
      "execution_count": 17,
      "outputs": []
    },
    {
      "cell_type": "code",
      "source": [
        "fd = Tot_33[0:33, 34:45]\n",
        "fd"
      ],
      "metadata": {
        "colab": {
          "base_uri": "https://localhost:8080/"
        },
        "id": "NDDWb0EGPckB",
        "outputId": "6741a5ba-7b5f-4c65-fe1b-5d04efab1a51"
      },
      "execution_count": 18,
      "outputs": [
        {
          "output_type": "execute_result",
          "data": {
            "text/plain": [
              "array([[ 18.,   0.,   0.,   0.,   0.,   0.,   1.,  19.,  72.],\n",
              "       [  0.,   0.,   0.,   0.,   2.,   0.,   0.,   2., 149.],\n",
              "       [ 67.,   0.,   0.,   0.,   1.,   0.,   9.,  77., 168.],\n",
              "       [ 35.,   0.,   0.,   0.,   1.,   0.,  24.,  60.,  97.],\n",
              "       [  1.,   0.,   0.,   0.,   1.,   0.,   4.,   6.,  52.],\n",
              "       [ 16.,   0.,   0.,   0.,   1.,   0.,  52.,  69., 165.],\n",
              "       [ 11.,   0.,   0.,   0.,   6.,   0., 104., 121., 355.],\n",
              "       [  0.,   0.,   0.,   0.,   0.,   0.,   5.,   5.,  45.],\n",
              "       [ -1.,   0.,  -3.,   0.,   1.,   0.,  44.,  41., 181.],\n",
              "       [  2.,   0.,   3.,   4.,   1.,   0.,  12.,  22., 108.],\n",
              "       [ 27.,   0.,  26.,   5.,   3.,   0., 173., 234., 383.],\n",
              "       [  9.,   0.,  10.,   0.,   1.,   0.,  31.,  51., 128.],\n",
              "       [  3.,   0.,  57.,   0.,  -1.,   0.,  60., 119., 175.],\n",
              "       [ 33.,   0.,  29.,  11.,   2.,   0., 104., 179., 263.],\n",
              "       [ 10.,   0.,   4.,   0.,   0.,   2.,   4.,  20.,  30.],\n",
              "       [  0.,   0.,   0.,   0.,   0.,   0.,   2.,   2.,  70.],\n",
              "       [ 18.,   0.,   0.,   0.,   0.,   0.,   0.,  18.,  99.],\n",
              "       [  5.,   1.,   0.,   0.,   0.,   0.,   1.,   7.,  21.],\n",
              "       [  0.,   0., 196.,  64.,   0.,   0.,   0., 260., 271.],\n",
              "       [ 91.,   0.,  12.,   1.,   2.,   1.,  36., 143., 288.],\n",
              "       [ 30.,   0.,   0.,   0.,   0.,   0.,  34.,  64., 177.],\n",
              "       [104.,   0.,   0.,   0.,   0.,   0.,  11., 115., 188.],\n",
              "       [ 35.,   0.,  34.,   0.,   1.,   0.,  12.,  82., 160.],\n",
              "       [ 74.,   0.,   0.,   0.,   0.,   0.,   5.,  79., 188.],\n",
              "       [132.,   0.,  31.,   0.,   0.,   0.,   0., 163., 227.],\n",
              "       [  4.,   0.,  79.,  11.,   0.,   0.,  18., 112., 254.],\n",
              "       [  6.,   0.,   0.,   0.,   0.,   0.,  11.,  17., 112.],\n",
              "       [  2., 154.,   0.,   0.,   0.,   0.,   0., 156., 160.],\n",
              "       [ 59.,  71.,   0.,   0.,   0.,   0.,   0., 130., 131.],\n",
              "       [ 58., 101.,   0.,   0.,   0.,   0.,   1., 160., 165.],\n",
              "       [ 41.,   2.,   0.,   0.,   0.,   0.,   1.,  44.,  52.],\n",
              "       [ 44.,   0.,   0.,   0.,   0.,   0.,   1.,  45.,  56.],\n",
              "       [  0.,   0.,   0.,   0.,   0.,   0.,   0.,   0.,   3.]])"
            ]
          },
          "metadata": {},
          "execution_count": 18
        }
      ]
    },
    {
      "cell_type": "code",
      "source": [
        "fd_row=code@fd@fd_cd.T\n",
        "fd_row"
      ],
      "metadata": {
        "id": "pnLTE3AKQUAB",
        "colab": {
          "base_uri": "https://localhost:8080/"
        },
        "outputId": "2dbf89ec-970b-4e0f-d7b5-87a9f7ab96e2"
      },
      "execution_count": 19,
      "outputs": [
        {
          "output_type": "execute_result",
          "data": {
            "text/plain": [
              "array([[  18.,    0.,    1.,   19.,   72.],\n",
              "       [ 213.,  167.,  628., 1008., 2369.],\n",
              "       [1032.,  432.,  131., 1595., 2552.]])"
            ]
          },
          "metadata": {},
          "execution_count": 19
        }
      ]
    },
    {
      "cell_type": "code",
      "source": [
        "fd_row_sm = np.sum((fd_row), axis=0) # 최종수요의 행합"
      ],
      "metadata": {
        "id": "IpwwU1-MQUCg"
      },
      "execution_count": 20,
      "outputs": []
    },
    {
      "cell_type": "code",
      "source": [
        "fd_sm=fd_row_sm.reshape(1,5)"
      ],
      "metadata": {
        "id": "DQCpcEuTQUFD"
      },
      "execution_count": 21,
      "outputs": []
    },
    {
      "cell_type": "code",
      "source": [
        "nae_va_ct = np.concatenate((nae_tot_col, va_row)) # 중간투입(수요)와 부가가치 및 산출액 합치기\n",
        "nae_va_ct"
      ],
      "metadata": {
        "colab": {
          "base_uri": "https://localhost:8080/"
        },
        "id": "88LooUFcPcm6",
        "outputId": "1f172680-21be-486e-90f0-8fca959f25ae"
      },
      "execution_count": 22,
      "outputs": [
        {
          "output_type": "execute_result",
          "data": {
            "text/plain": [
              "array([[   4.,   38.,   11.],\n",
              "       [  16.,  944.,  401.],\n",
              "       [   7.,  257.,  693.],\n",
              "       [  27., 1239., 1105.],\n",
              "       [   7.,  197.,  714.],\n",
              "       [  20.,  152.,  298.],\n",
              "       [   5.,  144.,  230.],\n",
              "       [   1.,   60.,  100.],\n",
              "       [  33.,  553., 1342.],\n",
              "       [  60., 1792., 2447.]])"
            ]
          },
          "metadata": {},
          "execution_count": 22
        }
      ]
    },
    {
      "cell_type": "code",
      "source": [
        "nae_va_ct_sm = nae_va_ct.sum(axis=1).reshape(10,1)  # 부가가치 및 산출액의 열합"
      ],
      "metadata": {
        "id": "QqYemKSUQnVy"
      },
      "execution_count": 23,
      "outputs": []
    },
    {
      "cell_type": "code",
      "source": [
        "nnull = np.zeros((6,5)) # 0행렬"
      ],
      "metadata": {
        "id": "T6hq-mLuQnYZ"
      },
      "execution_count": 24,
      "outputs": []
    },
    {
      "cell_type": "code",
      "source": [
        "fd_nnull = np.concatenate((fd_row, fd_sm, nnull),axis=0)  # 최종수요, 최종수요 행합 및 0행렬 합치기"
      ],
      "metadata": {
        "id": "bX019RFqQnbK"
      },
      "execution_count": 25,
      "outputs": []
    },
    {
      "cell_type": "code",
      "source": [
        "tot_f = np.concatenate((nae_va_ct,nae_va_ct_sm, fd_nnull), axis=1)  # 최종 3x3 부문통합된 거래표\n",
        "tot_f_va1 = np.concatenate((tot_f[0:4,], tot_f[-2:,:]), axis=0)  # 최종 3x3 부문통합된 거래표\n",
        "tot_f_va1"
      ],
      "metadata": {
        "id": "NnopD75uQneH",
        "outputId": "77a571c5-ce73-4cc3-9928-9a1feeda95a7",
        "colab": {
          "base_uri": "https://localhost:8080/"
        }
      },
      "execution_count": 26,
      "outputs": [
        {
          "output_type": "execute_result",
          "data": {
            "text/plain": [
              "array([[   4.,   38.,   11.,   53.,   18.,    0.,    1.,   19.,   72.],\n",
              "       [  16.,  944.,  401., 1361.,  213.,  167.,  628., 1008., 2369.],\n",
              "       [   7.,  257.,  693.,  957., 1032.,  432.,  131., 1595., 2552.],\n",
              "       [  27., 1239., 1105., 2371., 1263.,  599.,  760., 2622., 4993.],\n",
              "       [  33.,  553., 1342., 1928.,    0.,    0.,    0.,    0.,    0.],\n",
              "       [  60., 1792., 2447., 4299.,    0.,    0.,    0.,    0.,    0.]])"
            ]
          },
          "metadata": {},
          "execution_count": 26
        }
      ]
    },
    {
      "cell_type": "code",
      "source": [
        "tot_F = pd.DataFrame(tot_f, columns = ['농산품', '공산품', '서비스', '중간수요계', '소비','투자', '수출', '최종수요계', '총수요계'],\n",
        "                     index=['농산품', '공산품', '서비스', '중간투입계', '피용자보수','영업잉여', '고정자본소모', '생산세(보조금공제)', '부가가치계', '총투입액']) # 변수명 붙여서 pandas로 내보내기"
      ],
      "metadata": {
        "id": "jTMh7QgmQngo"
      },
      "execution_count": 27,
      "outputs": []
    },
    {
      "cell_type": "code",
      "source": [
        "tot_F_va1= pd.DataFrame(tot_f_va1, columns = ['농산품', '공산품', '서비스', '중간수요계', '소비','투자', '수출', '최종수요계', '총수요계'],\n",
        "                     index=['농산품', '공산품', '서비스', '중간투입계', '부가가치계', '총투입액']) # 변수명 붙여서 pandas로 내보내기"
      ],
      "metadata": {
        "id": "z309spY3OKXC"
      },
      "execution_count": 28,
      "outputs": []
    },
    {
      "cell_type": "code",
      "source": [
        "# tot_F.reset_index(inplace=True) # 인덱스 설정(부문명)"
      ],
      "metadata": {
        "id": "qChIyrBp6Rka"
      },
      "execution_count": 29,
      "outputs": []
    },
    {
      "cell_type": "code",
      "source": [
        "# tot_F_va1.reset_index(inplace=True)# 인덱스 설정(부문명)"
      ],
      "metadata": {
        "id": "DGoOcMOFRx2D"
      },
      "execution_count": 30,
      "outputs": []
    },
    {
      "cell_type": "code",
      "source": [
        "tot_F_va1  #최종 3x3 거래표 확인"
      ],
      "metadata": {
        "colab": {
          "base_uri": "https://localhost:8080/",
          "height": 237
        },
        "id": "dJ6L3bD-RDdC",
        "outputId": "1e5b1e06-5b83-4e43-c67f-1497a4a58535"
      },
      "execution_count": 31,
      "outputs": [
        {
          "output_type": "execute_result",
          "data": {
            "text/plain": [
              "        농산품     공산품     서비스   중간수요계      소비     투자     수출   최종수요계    총수요계\n",
              "농산품     4.0    38.0    11.0    53.0    18.0    0.0    1.0    19.0    72.0\n",
              "공산품    16.0   944.0   401.0  1361.0   213.0  167.0  628.0  1008.0  2369.0\n",
              "서비스     7.0   257.0   693.0   957.0  1032.0  432.0  131.0  1595.0  2552.0\n",
              "중간투입계  27.0  1239.0  1105.0  2371.0  1263.0  599.0  760.0  2622.0  4993.0\n",
              "부가가치계  33.0   553.0  1342.0  1928.0     0.0    0.0    0.0     0.0     0.0\n",
              "총투입액   60.0  1792.0  2447.0  4299.0     0.0    0.0    0.0     0.0     0.0"
            ],
            "text/html": [
              "\n",
              "  <div id=\"df-2c00c839-9fe1-45ba-b06c-71a4a1276fed\">\n",
              "    <div class=\"colab-df-container\">\n",
              "      <div>\n",
              "<style scoped>\n",
              "    .dataframe tbody tr th:only-of-type {\n",
              "        vertical-align: middle;\n",
              "    }\n",
              "\n",
              "    .dataframe tbody tr th {\n",
              "        vertical-align: top;\n",
              "    }\n",
              "\n",
              "    .dataframe thead th {\n",
              "        text-align: right;\n",
              "    }\n",
              "</style>\n",
              "<table border=\"1\" class=\"dataframe\">\n",
              "  <thead>\n",
              "    <tr style=\"text-align: right;\">\n",
              "      <th></th>\n",
              "      <th>농산품</th>\n",
              "      <th>공산품</th>\n",
              "      <th>서비스</th>\n",
              "      <th>중간수요계</th>\n",
              "      <th>소비</th>\n",
              "      <th>투자</th>\n",
              "      <th>수출</th>\n",
              "      <th>최종수요계</th>\n",
              "      <th>총수요계</th>\n",
              "    </tr>\n",
              "  </thead>\n",
              "  <tbody>\n",
              "    <tr>\n",
              "      <th>농산품</th>\n",
              "      <td>4.0</td>\n",
              "      <td>38.0</td>\n",
              "      <td>11.0</td>\n",
              "      <td>53.0</td>\n",
              "      <td>18.0</td>\n",
              "      <td>0.0</td>\n",
              "      <td>1.0</td>\n",
              "      <td>19.0</td>\n",
              "      <td>72.0</td>\n",
              "    </tr>\n",
              "    <tr>\n",
              "      <th>공산품</th>\n",
              "      <td>16.0</td>\n",
              "      <td>944.0</td>\n",
              "      <td>401.0</td>\n",
              "      <td>1361.0</td>\n",
              "      <td>213.0</td>\n",
              "      <td>167.0</td>\n",
              "      <td>628.0</td>\n",
              "      <td>1008.0</td>\n",
              "      <td>2369.0</td>\n",
              "    </tr>\n",
              "    <tr>\n",
              "      <th>서비스</th>\n",
              "      <td>7.0</td>\n",
              "      <td>257.0</td>\n",
              "      <td>693.0</td>\n",
              "      <td>957.0</td>\n",
              "      <td>1032.0</td>\n",
              "      <td>432.0</td>\n",
              "      <td>131.0</td>\n",
              "      <td>1595.0</td>\n",
              "      <td>2552.0</td>\n",
              "    </tr>\n",
              "    <tr>\n",
              "      <th>중간투입계</th>\n",
              "      <td>27.0</td>\n",
              "      <td>1239.0</td>\n",
              "      <td>1105.0</td>\n",
              "      <td>2371.0</td>\n",
              "      <td>1263.0</td>\n",
              "      <td>599.0</td>\n",
              "      <td>760.0</td>\n",
              "      <td>2622.0</td>\n",
              "      <td>4993.0</td>\n",
              "    </tr>\n",
              "    <tr>\n",
              "      <th>부가가치계</th>\n",
              "      <td>33.0</td>\n",
              "      <td>553.0</td>\n",
              "      <td>1342.0</td>\n",
              "      <td>1928.0</td>\n",
              "      <td>0.0</td>\n",
              "      <td>0.0</td>\n",
              "      <td>0.0</td>\n",
              "      <td>0.0</td>\n",
              "      <td>0.0</td>\n",
              "    </tr>\n",
              "    <tr>\n",
              "      <th>총투입액</th>\n",
              "      <td>60.0</td>\n",
              "      <td>1792.0</td>\n",
              "      <td>2447.0</td>\n",
              "      <td>4299.0</td>\n",
              "      <td>0.0</td>\n",
              "      <td>0.0</td>\n",
              "      <td>0.0</td>\n",
              "      <td>0.0</td>\n",
              "      <td>0.0</td>\n",
              "    </tr>\n",
              "  </tbody>\n",
              "</table>\n",
              "</div>\n",
              "      <button class=\"colab-df-convert\" onclick=\"convertToInteractive('df-2c00c839-9fe1-45ba-b06c-71a4a1276fed')\"\n",
              "              title=\"Convert this dataframe to an interactive table.\"\n",
              "              style=\"display:none;\">\n",
              "        \n",
              "  <svg xmlns=\"http://www.w3.org/2000/svg\" height=\"24px\"viewBox=\"0 0 24 24\"\n",
              "       width=\"24px\">\n",
              "    <path d=\"M0 0h24v24H0V0z\" fill=\"none\"/>\n",
              "    <path d=\"M18.56 5.44l.94 2.06.94-2.06 2.06-.94-2.06-.94-.94-2.06-.94 2.06-2.06.94zm-11 1L8.5 8.5l.94-2.06 2.06-.94-2.06-.94L8.5 2.5l-.94 2.06-2.06.94zm10 10l.94 2.06.94-2.06 2.06-.94-2.06-.94-.94-2.06-.94 2.06-2.06.94z\"/><path d=\"M17.41 7.96l-1.37-1.37c-.4-.4-.92-.59-1.43-.59-.52 0-1.04.2-1.43.59L10.3 9.45l-7.72 7.72c-.78.78-.78 2.05 0 2.83L4 21.41c.39.39.9.59 1.41.59.51 0 1.02-.2 1.41-.59l7.78-7.78 2.81-2.81c.8-.78.8-2.07 0-2.86zM5.41 20L4 18.59l7.72-7.72 1.47 1.35L5.41 20z\"/>\n",
              "  </svg>\n",
              "      </button>\n",
              "      \n",
              "  <style>\n",
              "    .colab-df-container {\n",
              "      display:flex;\n",
              "      flex-wrap:wrap;\n",
              "      gap: 12px;\n",
              "    }\n",
              "\n",
              "    .colab-df-convert {\n",
              "      background-color: #E8F0FE;\n",
              "      border: none;\n",
              "      border-radius: 50%;\n",
              "      cursor: pointer;\n",
              "      display: none;\n",
              "      fill: #1967D2;\n",
              "      height: 32px;\n",
              "      padding: 0 0 0 0;\n",
              "      width: 32px;\n",
              "    }\n",
              "\n",
              "    .colab-df-convert:hover {\n",
              "      background-color: #E2EBFA;\n",
              "      box-shadow: 0px 1px 2px rgba(60, 64, 67, 0.3), 0px 1px 3px 1px rgba(60, 64, 67, 0.15);\n",
              "      fill: #174EA6;\n",
              "    }\n",
              "\n",
              "    [theme=dark] .colab-df-convert {\n",
              "      background-color: #3B4455;\n",
              "      fill: #D2E3FC;\n",
              "    }\n",
              "\n",
              "    [theme=dark] .colab-df-convert:hover {\n",
              "      background-color: #434B5C;\n",
              "      box-shadow: 0px 1px 3px 1px rgba(0, 0, 0, 0.15);\n",
              "      filter: drop-shadow(0px 1px 2px rgba(0, 0, 0, 0.3));\n",
              "      fill: #FFFFFF;\n",
              "    }\n",
              "  </style>\n",
              "\n",
              "      <script>\n",
              "        const buttonEl =\n",
              "          document.querySelector('#df-2c00c839-9fe1-45ba-b06c-71a4a1276fed button.colab-df-convert');\n",
              "        buttonEl.style.display =\n",
              "          google.colab.kernel.accessAllowed ? 'block' : 'none';\n",
              "\n",
              "        async function convertToInteractive(key) {\n",
              "          const element = document.querySelector('#df-2c00c839-9fe1-45ba-b06c-71a4a1276fed');\n",
              "          const dataTable =\n",
              "            await google.colab.kernel.invokeFunction('convertToInteractive',\n",
              "                                                     [key], {});\n",
              "          if (!dataTable) return;\n",
              "\n",
              "          const docLinkHtml = 'Like what you see? Visit the ' +\n",
              "            '<a target=\"_blank\" href=https://colab.research.google.com/notebooks/data_table.ipynb>data table notebook</a>'\n",
              "            + ' to learn more about interactive tables.';\n",
              "          element.innerHTML = '';\n",
              "          dataTable['output_type'] = 'display_data';\n",
              "          await google.colab.output.renderOutput(dataTable, element);\n",
              "          const docLink = document.createElement('div');\n",
              "          docLink.innerHTML = docLinkHtml;\n",
              "          element.appendChild(docLink);\n",
              "        }\n",
              "      </script>\n",
              "    </div>\n",
              "  </div>\n",
              "  "
            ]
          },
          "metadata": {},
          "execution_count": 31
        }
      ]
    },
    {
      "cell_type": "markdown",
      "source": [],
      "metadata": {
        "id": "RoHxB-Q6d2WV"
      }
    },
    {
      "cell_type": "markdown",
      "source": [
        "###  국산거래표"
      ],
      "metadata": {
        "id": "mObPcfaSk7BJ"
      }
    },
    {
      "cell_type": "code",
      "source": [
        "url_Dm_33 = \"https://raw.githubusercontent.com/Tom-Jung/legendary-funicular/main/Domestic_Matrix.csv\"  # 33부문의 국산거래표 불러오기\n",
        "Dm_33 = pd.read_csv(url_Dm_33)"
      ],
      "metadata": {
        "id": "7fMUOWLSRDf9"
      },
      "execution_count": 32,
      "outputs": []
    },
    {
      "cell_type": "code",
      "source": [
        "Dmm_33 = Dm_33.to_numpy()\n",
        "Dom_33 = Dmm_33[0:34,1:53].astype(float)"
      ],
      "metadata": {
        "id": "Wm20kwrE9c7k"
      },
      "execution_count": 33,
      "outputs": []
    },
    {
      "cell_type": "code",
      "source": [
        "nae_dom_row = code@Dom_33[0:33,0:33] # 중간투입(수요)의 행을 3부문으로 만들기\n",
        "nae_dom_row"
      ],
      "metadata": {
        "colab": {
          "base_uri": "https://localhost:8080/"
        },
        "id": "yV9zlj5E9c-S",
        "outputId": "5b938ac5-9e2d-4d34-98ef-33e796c648c4"
      },
      "execution_count": 34,
      "outputs": [
        {
          "output_type": "execute_result",
          "data": {
            "text/plain": [
              "array([[  4.,   0.,  31.,   0.,   0.,   0.,   0.,   0.,   0.,   0.,   0.,\n",
              "          0.,   0.,   0.,   0.,   0.,   0.,   0.,   0.,   0.,   0.,   9.,\n",
              "          0.,   0.,   0.,   0.,   0.,   0.,   0.,   1.,   0.,   0.,   0.],\n",
              "       [ 15.,   0.,  31.,  20.,  15.,   7.,  89.,  14.,  38.,  45.,  67.,\n",
              "         47.,  60., 131.,   8.,  16.,   9.,   2.,  95.,  16.,  33.,  49.,\n",
              "          7.,   4.,   4.,  28.,   6.,   8.,   7.,  31.,   7.,  16.,   0.],\n",
              "       [  7.,   1.,  24.,  11.,   9.,  11.,  49.,  10.,  26.,  12.,  24.,\n",
              "         12.,  16.,  25.,   4.,   9.,  19.,   5.,  45., 106.,  36.,  44.,\n",
              "         47.,  66.,  57.,  80.,  21.,  23.,  28.,  38.,  14.,  12.,   3.]])"
            ]
          },
          "metadata": {},
          "execution_count": 34
        }
      ]
    },
    {
      "cell_type": "code",
      "source": [
        "nae_dom_row.shape  # 행과 열의 개수 확인"
      ],
      "metadata": {
        "colab": {
          "base_uri": "https://localhost:8080/"
        },
        "id": "VrRNqL3h9dAo",
        "outputId": "5d96d374-175a-4561-b449-0970a2bb16d6"
      },
      "execution_count": 35,
      "outputs": [
        {
          "output_type": "execute_result",
          "data": {
            "text/plain": [
              "(3, 33)"
            ]
          },
          "metadata": {},
          "execution_count": 35
        }
      ]
    },
    {
      "cell_type": "code",
      "source": [
        "nae_dom_col = nae_dom_row@code.T  # 수작업한 code 이용\n",
        "nae_dom_col"
      ],
      "metadata": {
        "colab": {
          "base_uri": "https://localhost:8080/"
        },
        "id": "Is56E3Hs9dDJ",
        "outputId": "b3a316e6-3871-4ea4-bd7f-68538df0defe"
      },
      "execution_count": 36,
      "outputs": [
        {
          "output_type": "execute_result",
          "data": {
            "text/plain": [
              "array([[  4.,  31.,  10.],\n",
              "       [ 15., 588., 322.],\n",
              "       [  7., 243., 644.]])"
            ]
          },
          "metadata": {},
          "execution_count": 36
        }
      ]
    },
    {
      "cell_type": "code",
      "source": [
        "print(nae_dom_col.shape)  # 행과 열의 개수 확인\n",
        "print(nae_dom_col.sum())  # 중간투입(수요) 확인"
      ],
      "metadata": {
        "colab": {
          "base_uri": "https://localhost:8080/"
        },
        "id": "WC0l4HyN9dFe",
        "outputId": "c2dcb9eb-1c11-4eb7-8177-6e6ede5961a8"
      },
      "execution_count": 37,
      "outputs": [
        {
          "output_type": "stream",
          "name": "stdout",
          "text": [
            "(3, 3)\n",
            "1864.0\n"
          ]
        }
      ]
    },
    {
      "cell_type": "code",
      "source": [
        "dsm_row = Dom_33[33:34,0:33]@code.T # 중투합\n",
        "dsm_row"
      ],
      "metadata": {
        "colab": {
          "base_uri": "https://localhost:8080/"
        },
        "id": "bGsYwWZ29dJr",
        "outputId": "63aa108c-fe82-4a07-bc15-d8e1ccb172e9"
      },
      "execution_count": 38,
      "outputs": [
        {
          "output_type": "execute_result",
          "data": {
            "text/plain": [
              "array([[ 26., 862., 976.]])"
            ]
          },
          "metadata": {},
          "execution_count": 38
        }
      ]
    },
    {
      "cell_type": "code",
      "source": [
        "dsm_row.shape"
      ],
      "metadata": {
        "colab": {
          "base_uri": "https://localhost:8080/"
        },
        "id": "XD1RsGYx9dLt",
        "outputId": "2d6cdc43-6c96-4300-97a7-c23f313c094d"
      },
      "execution_count": 39,
      "outputs": [
        {
          "output_type": "execute_result",
          "data": {
            "text/plain": [
              "(1, 3)"
            ]
          },
          "metadata": {},
          "execution_count": 39
        }
      ]
    },
    {
      "cell_type": "code",
      "source": [
        "dfd = Dom_33[0:33, 34:45]\n",
        "dfd"
      ],
      "metadata": {
        "colab": {
          "base_uri": "https://localhost:8080/"
        },
        "id": "PGk_xDK59dOL",
        "outputId": "e7e847b5-529b-4fce-a371-7dc01935a4e8"
      },
      "execution_count": 40,
      "outputs": [
        {
          "output_type": "execute_result",
          "data": {
            "text/plain": [
              "array([[ 15.,   0.,   0.,   0.,  -1.,   0.,   1.,  15.,  60.],\n",
              "       [  0.,   0.,   0.,   0.,   0.,   0.,   0.,   0.,   3.],\n",
              "       [ 52.,   0.,   0.,   0.,   1.,   0.,   9.,  62., 135.],\n",
              "       [ 16.,   0.,   0.,   0.,   1.,   0.,  23.,  40.,  66.],\n",
              "       [  1.,   0.,   0.,   0.,   1.,   0.,   4.,   6.,  46.],\n",
              "       [ 15.,   0.,   0.,   0.,   1.,   0.,  52.,  68., 136.],\n",
              "       [  3.,   0.,   0.,   0.,   5.,   0., 101., 109., 279.],\n",
              "       [  0.,   0.,   0.,   0.,   0.,   0.,   5.,   5.,  40.],\n",
              "       [ -1.,   0.,  -3.,   0.,   1.,   0.,  44.,  41., 141.],\n",
              "       [  1.,   0.,   3.,   3.,   1.,   0.,  12.,  20., 101.],\n",
              "       [ 15.,   0.,  10.,   2.,   2.,   0., 172., 201., 285.],\n",
              "       [  6.,   0.,   8.,   0.,   1.,   0.,  31.,  46., 108.],\n",
              "       [  2.,   0.,  37.,   0.,  -1.,   0.,  60.,  98., 138.],\n",
              "       [ 24.,   0.,  19.,   8.,   2.,   0., 104., 157., 233.],\n",
              "       [  4.,   0.,   3.,   0.,   0.,   1.,   4.,  12.,  21.],\n",
              "       [  0.,   0.,   0.,   0.,   0.,   0.,   2.,   2.,  60.],\n",
              "       [ 18.,   0.,   0.,   0.,   0.,   0.,   0.,  18.,  99.],\n",
              "       [  5.,   1.,   0.,   0.,   0.,   0.,   1.,   7.,  21.],\n",
              "       [  0.,   0., 196.,  64.,   0.,   0.,   0., 260., 271.],\n",
              "       [ 91.,   0.,  12.,   1.,   2.,   1.,  36., 143., 285.],\n",
              "       [ 21.,   0.,   0.,   0.,   0.,   0.,  34.,  55., 154.],\n",
              "       [ 87.,   0.,   0.,   0.,   0.,   0.,  11.,  98., 170.],\n",
              "       [ 34.,   0.,  33.,   0.,   1.,   0.,  12.,  80., 152.],\n",
              "       [ 73.,   0.,   0.,   0.,   0.,   0.,   5.,  78., 184.],\n",
              "       [132.,   0.,  31.,   0.,   0.,   0.,   0., 163., 226.],\n",
              "       [  4.,   0.,  73.,  11.,   0.,   0.,  18., 106., 230.],\n",
              "       [  6.,   0.,   0.,   0.,   0.,   0.,  11.,  17.,  96.],\n",
              "       [  2., 154.,   0.,   0.,   0.,   0.,   0., 156., 159.],\n",
              "       [ 57.,  71.,   0.,   0.,   0.,   0.,   0., 128., 129.],\n",
              "       [ 58., 101.,   0.,   0.,   0.,   0.,   1., 160., 165.],\n",
              "       [ 36.,   2.,   0.,   0.,   0.,   0.,   1.,  39.,  47.],\n",
              "       [ 44.,   0.,   0.,   0.,   0.,   0.,   1.,  45.,  56.],\n",
              "       [  0.,   0.,   0.,   0.,   0.,   0.,   0.,   0.,   3.]])"
            ]
          },
          "metadata": {},
          "execution_count": 40
        }
      ]
    },
    {
      "cell_type": "code",
      "source": [
        "dfd_row=code@dfd@fd_cd.T"
      ],
      "metadata": {
        "id": "2RW9ObIIBf6H"
      },
      "execution_count": 41,
      "outputs": []
    },
    {
      "cell_type": "code",
      "source": [
        "dfd_row_sm = np.sum((dfd_row), axis=0) # 최종수요의 행합"
      ],
      "metadata": {
        "id": "LcspQZiWBf8s"
      },
      "execution_count": 42,
      "outputs": []
    },
    {
      "cell_type": "code",
      "source": [
        "dfd_sm=dfd_row_sm.reshape(1,5)\n",
        "dfd_sm"
      ],
      "metadata": {
        "id": "WnMSJOqfBf_F",
        "outputId": "a01a58d9-a18b-41d4-f2d5-699cf57f743a",
        "colab": {
          "base_uri": "https://localhost:8080/"
        }
      },
      "execution_count": 43,
      "outputs": [
        {
          "output_type": "execute_result",
          "data": {
            "text/plain": [
              "array([[1150.,  530.,  755., 2435., 4299.]])"
            ]
          },
          "metadata": {},
          "execution_count": 43
        }
      ]
    },
    {
      "cell_type": "code",
      "source": [
        "nae_dm = np.concatenate((nae_dom_col, dsm_row)) # 중간투입(수요)와 부가가치 및 산출액 합치기\n",
        "nae_dm"
      ],
      "metadata": {
        "id": "tIDU9V3yDdAW",
        "outputId": "8b487cd2-9803-4512-af9b-3591026cb47e",
        "colab": {
          "base_uri": "https://localhost:8080/"
        }
      },
      "execution_count": 44,
      "outputs": [
        {
          "output_type": "execute_result",
          "data": {
            "text/plain": [
              "array([[  4.,  31.,  10.],\n",
              "       [ 15., 588., 322.],\n",
              "       [  7., 243., 644.],\n",
              "       [ 26., 862., 976.]])"
            ]
          },
          "metadata": {},
          "execution_count": 44
        }
      ]
    },
    {
      "cell_type": "code",
      "source": [
        "nae_col_sm_dm = nae_dm.sum(axis=1).reshape(4,1)  # 중간투입(수요)와 행합"
      ],
      "metadata": {
        "id": "VtI2ifklBgBR"
      },
      "execution_count": 45,
      "outputs": []
    },
    {
      "cell_type": "code",
      "source": [
        "nae_dm_sm = nae_col_sm_dm.sum(axis=1).reshape(4,1)  # 부가가치 및 산출액의 열합"
      ],
      "metadata": {
        "id": "aaWNP32aFNl6"
      },
      "execution_count": 46,
      "outputs": []
    },
    {
      "cell_type": "code",
      "source": [
        "dfd_nnull = np.concatenate((dfd_row, dfd_sm),axis=0)  #   최종수요 및 최종수요 행합 합치기"
      ],
      "metadata": {
        "id": "8HT2MFywBgDZ"
      },
      "execution_count": 47,
      "outputs": []
    },
    {
      "cell_type": "code",
      "source": [
        "dom_f = np.concatenate((nae_dm, nae_dm_sm, dfd_nnull), axis=1)  # 최종 3x3 부문통합된 거래표\n",
        "dom_f"
      ],
      "metadata": {
        "id": "p2V-RLotBgFb",
        "outputId": "4009daff-8689-41c2-8279-a7c948dda738",
        "colab": {
          "base_uri": "https://localhost:8080/"
        }
      },
      "execution_count": 48,
      "outputs": [
        {
          "output_type": "execute_result",
          "data": {
            "text/plain": [
              "array([[   4.,   31.,   10.,   45.,   15.,   -1.,    1.,   15.,   60.],\n",
              "       [  15.,  588.,  322.,  925.,  138.,  106.,  623.,  867., 1792.],\n",
              "       [   7.,  243.,  644.,  894.,  997.,  425.,  131., 1553., 2447.],\n",
              "       [  26.,  862.,  976., 1864., 1150.,  530.,  755., 2435., 4299.]])"
            ]
          },
          "metadata": {},
          "execution_count": 48
        }
      ]
    },
    {
      "cell_type": "code",
      "source": [
        "dom_F = pd.DataFrame(dom_f, columns = ['농산품', '공산품', '서비스', '중간수요계', '소비','투자', '수출', '최종수요계', '총수요계'],\n",
        "                     index=['농산품', '공산품', '서비스', '중간투입계']) # 변수명 붙여서 pandas로 내보내기\n",
        "dom_F"
      ],
      "metadata": {
        "id": "bOvUyM5JBgHa",
        "outputId": "b05044cb-3d87-4572-d92f-5d0d3f4a33c4",
        "colab": {
          "base_uri": "https://localhost:8080/",
          "height": 175
        }
      },
      "execution_count": 49,
      "outputs": [
        {
          "output_type": "execute_result",
          "data": {
            "text/plain": [
              "        농산품    공산품    서비스   중간수요계      소비     투자     수출   최종수요계    총수요계\n",
              "농산품     4.0   31.0   10.0    45.0    15.0   -1.0    1.0    15.0    60.0\n",
              "공산품    15.0  588.0  322.0   925.0   138.0  106.0  623.0   867.0  1792.0\n",
              "서비스     7.0  243.0  644.0   894.0   997.0  425.0  131.0  1553.0  2447.0\n",
              "중간투입계  26.0  862.0  976.0  1864.0  1150.0  530.0  755.0  2435.0  4299.0"
            ],
            "text/html": [
              "\n",
              "  <div id=\"df-85d3ef98-4aeb-403e-9bbe-33b74f74b3d4\">\n",
              "    <div class=\"colab-df-container\">\n",
              "      <div>\n",
              "<style scoped>\n",
              "    .dataframe tbody tr th:only-of-type {\n",
              "        vertical-align: middle;\n",
              "    }\n",
              "\n",
              "    .dataframe tbody tr th {\n",
              "        vertical-align: top;\n",
              "    }\n",
              "\n",
              "    .dataframe thead th {\n",
              "        text-align: right;\n",
              "    }\n",
              "</style>\n",
              "<table border=\"1\" class=\"dataframe\">\n",
              "  <thead>\n",
              "    <tr style=\"text-align: right;\">\n",
              "      <th></th>\n",
              "      <th>농산품</th>\n",
              "      <th>공산품</th>\n",
              "      <th>서비스</th>\n",
              "      <th>중간수요계</th>\n",
              "      <th>소비</th>\n",
              "      <th>투자</th>\n",
              "      <th>수출</th>\n",
              "      <th>최종수요계</th>\n",
              "      <th>총수요계</th>\n",
              "    </tr>\n",
              "  </thead>\n",
              "  <tbody>\n",
              "    <tr>\n",
              "      <th>농산품</th>\n",
              "      <td>4.0</td>\n",
              "      <td>31.0</td>\n",
              "      <td>10.0</td>\n",
              "      <td>45.0</td>\n",
              "      <td>15.0</td>\n",
              "      <td>-1.0</td>\n",
              "      <td>1.0</td>\n",
              "      <td>15.0</td>\n",
              "      <td>60.0</td>\n",
              "    </tr>\n",
              "    <tr>\n",
              "      <th>공산품</th>\n",
              "      <td>15.0</td>\n",
              "      <td>588.0</td>\n",
              "      <td>322.0</td>\n",
              "      <td>925.0</td>\n",
              "      <td>138.0</td>\n",
              "      <td>106.0</td>\n",
              "      <td>623.0</td>\n",
              "      <td>867.0</td>\n",
              "      <td>1792.0</td>\n",
              "    </tr>\n",
              "    <tr>\n",
              "      <th>서비스</th>\n",
              "      <td>7.0</td>\n",
              "      <td>243.0</td>\n",
              "      <td>644.0</td>\n",
              "      <td>894.0</td>\n",
              "      <td>997.0</td>\n",
              "      <td>425.0</td>\n",
              "      <td>131.0</td>\n",
              "      <td>1553.0</td>\n",
              "      <td>2447.0</td>\n",
              "    </tr>\n",
              "    <tr>\n",
              "      <th>중간투입계</th>\n",
              "      <td>26.0</td>\n",
              "      <td>862.0</td>\n",
              "      <td>976.0</td>\n",
              "      <td>1864.0</td>\n",
              "      <td>1150.0</td>\n",
              "      <td>530.0</td>\n",
              "      <td>755.0</td>\n",
              "      <td>2435.0</td>\n",
              "      <td>4299.0</td>\n",
              "    </tr>\n",
              "  </tbody>\n",
              "</table>\n",
              "</div>\n",
              "      <button class=\"colab-df-convert\" onclick=\"convertToInteractive('df-85d3ef98-4aeb-403e-9bbe-33b74f74b3d4')\"\n",
              "              title=\"Convert this dataframe to an interactive table.\"\n",
              "              style=\"display:none;\">\n",
              "        \n",
              "  <svg xmlns=\"http://www.w3.org/2000/svg\" height=\"24px\"viewBox=\"0 0 24 24\"\n",
              "       width=\"24px\">\n",
              "    <path d=\"M0 0h24v24H0V0z\" fill=\"none\"/>\n",
              "    <path d=\"M18.56 5.44l.94 2.06.94-2.06 2.06-.94-2.06-.94-.94-2.06-.94 2.06-2.06.94zm-11 1L8.5 8.5l.94-2.06 2.06-.94-2.06-.94L8.5 2.5l-.94 2.06-2.06.94zm10 10l.94 2.06.94-2.06 2.06-.94-2.06-.94-.94-2.06-.94 2.06-2.06.94z\"/><path d=\"M17.41 7.96l-1.37-1.37c-.4-.4-.92-.59-1.43-.59-.52 0-1.04.2-1.43.59L10.3 9.45l-7.72 7.72c-.78.78-.78 2.05 0 2.83L4 21.41c.39.39.9.59 1.41.59.51 0 1.02-.2 1.41-.59l7.78-7.78 2.81-2.81c.8-.78.8-2.07 0-2.86zM5.41 20L4 18.59l7.72-7.72 1.47 1.35L5.41 20z\"/>\n",
              "  </svg>\n",
              "      </button>\n",
              "      \n",
              "  <style>\n",
              "    .colab-df-container {\n",
              "      display:flex;\n",
              "      flex-wrap:wrap;\n",
              "      gap: 12px;\n",
              "    }\n",
              "\n",
              "    .colab-df-convert {\n",
              "      background-color: #E8F0FE;\n",
              "      border: none;\n",
              "      border-radius: 50%;\n",
              "      cursor: pointer;\n",
              "      display: none;\n",
              "      fill: #1967D2;\n",
              "      height: 32px;\n",
              "      padding: 0 0 0 0;\n",
              "      width: 32px;\n",
              "    }\n",
              "\n",
              "    .colab-df-convert:hover {\n",
              "      background-color: #E2EBFA;\n",
              "      box-shadow: 0px 1px 2px rgba(60, 64, 67, 0.3), 0px 1px 3px 1px rgba(60, 64, 67, 0.15);\n",
              "      fill: #174EA6;\n",
              "    }\n",
              "\n",
              "    [theme=dark] .colab-df-convert {\n",
              "      background-color: #3B4455;\n",
              "      fill: #D2E3FC;\n",
              "    }\n",
              "\n",
              "    [theme=dark] .colab-df-convert:hover {\n",
              "      background-color: #434B5C;\n",
              "      box-shadow: 0px 1px 3px 1px rgba(0, 0, 0, 0.15);\n",
              "      filter: drop-shadow(0px 1px 2px rgba(0, 0, 0, 0.3));\n",
              "      fill: #FFFFFF;\n",
              "    }\n",
              "  </style>\n",
              "\n",
              "      <script>\n",
              "        const buttonEl =\n",
              "          document.querySelector('#df-85d3ef98-4aeb-403e-9bbe-33b74f74b3d4 button.colab-df-convert');\n",
              "        buttonEl.style.display =\n",
              "          google.colab.kernel.accessAllowed ? 'block' : 'none';\n",
              "\n",
              "        async function convertToInteractive(key) {\n",
              "          const element = document.querySelector('#df-85d3ef98-4aeb-403e-9bbe-33b74f74b3d4');\n",
              "          const dataTable =\n",
              "            await google.colab.kernel.invokeFunction('convertToInteractive',\n",
              "                                                     [key], {});\n",
              "          if (!dataTable) return;\n",
              "\n",
              "          const docLinkHtml = 'Like what you see? Visit the ' +\n",
              "            '<a target=\"_blank\" href=https://colab.research.google.com/notebooks/data_table.ipynb>data table notebook</a>'\n",
              "            + ' to learn more about interactive tables.';\n",
              "          element.innerHTML = '';\n",
              "          dataTable['output_type'] = 'display_data';\n",
              "          await google.colab.output.renderOutput(dataTable, element);\n",
              "          const docLink = document.createElement('div');\n",
              "          docLink.innerHTML = docLinkHtml;\n",
              "          element.appendChild(docLink);\n",
              "        }\n",
              "      </script>\n",
              "    </div>\n",
              "  </div>\n",
              "  "
            ]
          },
          "metadata": {},
          "execution_count": 49
        }
      ]
    },
    {
      "cell_type": "code",
      "source": [
        "# dom_F.reset_index(inplace=True)# 인덱스 설정(부문명)\n",
        "# dom_F"
      ],
      "metadata": {
        "id": "gEb8DR088S23"
      },
      "execution_count": 50,
      "outputs": []
    },
    {
      "cell_type": "markdown",
      "source": [
        "### 수입거래표"
      ],
      "metadata": {
        "id": "Q0Qz6ySBGHEo"
      }
    },
    {
      "cell_type": "code",
      "source": [
        "\n",
        "url_Im_33 = \"https://raw.githubusercontent.com/Tom-Jung/legendary-funicular/main/Imported_Matrix.csv\"  # 33부문의 수입거래표 불러오기\n",
        "Im_33 = pd.read_csv(url_Im_33)\n",
        "Im_33"
      ],
      "metadata": {
        "id": "3UEdsIwkGEVU",
        "outputId": "6332ed2e-480a-482a-b5eb-2dd5719a21f0",
        "colab": {
          "base_uri": "https://localhost:8080/",
          "height": 1000
        }
      },
      "execution_count": 51,
      "outputs": [
        {
          "output_type": "execute_result",
          "data": {
            "text/plain": [
              "                     부문  농림수산품  광산품  음식료품  섬유 및 가죽제품  목재 및 종이, 인쇄  석탄 및 석유제품  \\\n",
              "0                 농림수산품      0    0     5          1            0          0   \n",
              "1                   광산품      0    0     0          0            0         77   \n",
              "2                  음식료품      0    0    10          1            0          0   \n",
              "3             섬유 및 가죽제품      0    0     0         11            0          0   \n",
              "4           목재 및 종이, 인쇄      0    0     0          0            5          0   \n",
              "5             석탄 및 석유제품      0    0     0          0            0          3   \n",
              "6                  화학제품      1    0     0          2            0          1   \n",
              "7               비금속광물제품      0    0     0          0            0          0   \n",
              "8               1차 금속제품      0    0     0          0            0          0   \n",
              "9                금속가공제품      0    0     0          0            0          0   \n",
              "10       컴퓨터, 전자 및 광학기기      0    0     0          0            0          0   \n",
              "11                 전기장비      0    0     0          0            0          0   \n",
              "12              기계 및 장비      0    0     0          0            0          0   \n",
              "13                 운송장비      0    0     0          0            0          0   \n",
              "14            기타 제조업 제품      0    0     0          0            0          0   \n",
              "15    제조임가공 및 산업용 장비 수리      0    0     0          7            0          0   \n",
              "16          전력, 가스 및 증기      0    0     0          0            0          0   \n",
              "17   수도, 폐기물처리 및 재활용서비스      0    0     0          0            0          0   \n",
              "18                   건설      0    0     0          0            0          0   \n",
              "19        도소매 및 상품중개서비스      0    0     0          0            0          0   \n",
              "20                운송서비스      0    0     0          0            0          0   \n",
              "21          음식점 및 숙박서비스      0    0     0          0            0          0   \n",
              "22        정보통신 및 방송 서비스      0    0     0          0            0          0   \n",
              "23          금융 및 보험 서비스      0    0     0          0            0          0   \n",
              "24               부동산서비스      0    0     0          0            0          0   \n",
              "25      전문, 과학 및 기술 서비스      0    0     0          0            0          0   \n",
              "26              사업지원서비스      0    0     0          0            0          0   \n",
              "27      공공행정, 국방 및 사회보장      0    0     0          0            0          0   \n",
              "28                교육서비스      0    0     0          0            0          0   \n",
              "29        보건 및 사회복지 서비스      0    0     0          0            0          0   \n",
              "30  예술, 스포츠 및 여가 관련 서비스      0    0     0          0            0          0   \n",
              "31               기타 서비스      0    0     0          0            0          0   \n",
              "32                   기타      0    0     0          0            0          0   \n",
              "33                중간투입계      1    0    15         22            5         81   \n",
              "\n",
              "    화학제품  비금속광물제품  1차 금속제품  ...  중간수요계  민간소비지출\\n(가계 및 가계봉사\\n비영리단체)  정부소비지출  \\\n",
              "0      1        0        0  ...      8                           3       0   \n",
              "1      6        1       23  ...    144                           0       0   \n",
              "2      0        0        0  ...     18                          15       0   \n",
              "3      0        0        0  ...     11                          19       0   \n",
              "4      0        0        0  ...      6                           0       0   \n",
              "5     16        0        0  ...     28                           1       0   \n",
              "6     34        1        0  ...     64                           8       0   \n",
              "7      0        1        0  ...      5                           0       0   \n",
              "8      1        0       21  ...     40                           0       0   \n",
              "9      0        0        0  ...      5                           1       0   \n",
              "10     0        0        0  ...     65                          12       0   \n",
              "11     0        0        0  ...     15                           3       0   \n",
              "12     0        0        0  ...     16                           1       0   \n",
              "13     0        0        0  ...      8                           9       0   \n",
              "14     0        0        0  ...      1                           6       0   \n",
              "15     0        0        0  ...     10                           0       0   \n",
              "16     0        0        0  ...      0                           0       0   \n",
              "17     0        0        0  ...      0                           0       0   \n",
              "18     0        0        0  ...      0                           0       0   \n",
              "19     1        0        0  ...      3                           0       0   \n",
              "20     0        0        0  ...     14                           9       0   \n",
              "21     0        0        0  ...      1                          17       0   \n",
              "22     0        0        0  ...      6                           1       0   \n",
              "23     0        0        0  ...      3                           1       0   \n",
              "24     0        0        0  ...      1                           0       0   \n",
              "25     2        0        1  ...     18                           0       0   \n",
              "26     0        0        0  ...     16                           0       0   \n",
              "27     0        0        0  ...      1                           0       0   \n",
              "28     0        0        0  ...      0                           2       0   \n",
              "29     0        0        0  ...      0                           0       0   \n",
              "30     0        0        0  ...      0                           5       0   \n",
              "31     0        0        0  ...      0                           0       0   \n",
              "32     0        0        0  ...      0                           0       0   \n",
              "33    61        3       45  ...    507                         113       0   \n",
              "\n",
              "    민간고정\\n자본형성  정부고정\\n자본형성  재고증감  귀중품\\n순취득  수출  최종수요계  총수요계  \n",
              "0            0           0     1         0   0      4    12  \n",
              "1            0           0     2         0   0      2   146  \n",
              "2            0           0     0         0   0     15    33  \n",
              "3            0           0     0         0   1     20    31  \n",
              "4            0           0     0         0   0      0     6  \n",
              "5            0           0     0         0   0      1    29  \n",
              "6            0           0     1         0   3     12    76  \n",
              "7            0           0     0         0   0      0     5  \n",
              "8            0           0     0         0   0      0    40  \n",
              "9            0           1     0         0   0      2     7  \n",
              "10          16           3     1         0   1     33    98  \n",
              "11           2           0     0         0   0      5    20  \n",
              "12          20           0     0         0   0     21    37  \n",
              "13          10           3     0         0   0     22    30  \n",
              "14           1           0     0         1   0      8     9  \n",
              "15           0           0     0         0   0      0    10  \n",
              "16           0           0     0         0   0      0     0  \n",
              "17           0           0     0         0   0      0     0  \n",
              "18           0           0     0         0   0      0     0  \n",
              "19           0           0     0         0   0      0     3  \n",
              "20           0           0     0         0   0      9    23  \n",
              "21           0           0     0         0   0     17    18  \n",
              "22           1           0     0         0   0      2     8  \n",
              "23           0           0     0         0   0      1     4  \n",
              "24           0           0     0         0   0      0     1  \n",
              "25           6           0     0         0   0      6    24  \n",
              "26           0           0     0         0   0      0    16  \n",
              "27           0           0     0         0   0      0     1  \n",
              "28           0           0     0         0   0      2     2  \n",
              "29           0           0     0         0   0      0     0  \n",
              "30           0           0     0         0   0      5     5  \n",
              "31           0           0     0         0   0      0     0  \n",
              "32           0           0     0         0   0      0     0  \n",
              "33          56           7     5         1   5    187   694  \n",
              "\n",
              "[34 rows x 44 columns]"
            ],
            "text/html": [
              "\n",
              "  <div id=\"df-f1c12fd5-c6ce-4df4-a649-e948787d2a0c\">\n",
              "    <div class=\"colab-df-container\">\n",
              "      <div>\n",
              "<style scoped>\n",
              "    .dataframe tbody tr th:only-of-type {\n",
              "        vertical-align: middle;\n",
              "    }\n",
              "\n",
              "    .dataframe tbody tr th {\n",
              "        vertical-align: top;\n",
              "    }\n",
              "\n",
              "    .dataframe thead th {\n",
              "        text-align: right;\n",
              "    }\n",
              "</style>\n",
              "<table border=\"1\" class=\"dataframe\">\n",
              "  <thead>\n",
              "    <tr style=\"text-align: right;\">\n",
              "      <th></th>\n",
              "      <th>부문</th>\n",
              "      <th>농림수산품</th>\n",
              "      <th>광산품</th>\n",
              "      <th>음식료품</th>\n",
              "      <th>섬유 및 가죽제품</th>\n",
              "      <th>목재 및 종이, 인쇄</th>\n",
              "      <th>석탄 및 석유제품</th>\n",
              "      <th>화학제품</th>\n",
              "      <th>비금속광물제품</th>\n",
              "      <th>1차 금속제품</th>\n",
              "      <th>...</th>\n",
              "      <th>중간수요계</th>\n",
              "      <th>민간소비지출\\n(가계 및 가계봉사\\n비영리단체)</th>\n",
              "      <th>정부소비지출</th>\n",
              "      <th>민간고정\\n자본형성</th>\n",
              "      <th>정부고정\\n자본형성</th>\n",
              "      <th>재고증감</th>\n",
              "      <th>귀중품\\n순취득</th>\n",
              "      <th>수출</th>\n",
              "      <th>최종수요계</th>\n",
              "      <th>총수요계</th>\n",
              "    </tr>\n",
              "  </thead>\n",
              "  <tbody>\n",
              "    <tr>\n",
              "      <th>0</th>\n",
              "      <td>농림수산품</td>\n",
              "      <td>0</td>\n",
              "      <td>0</td>\n",
              "      <td>5</td>\n",
              "      <td>1</td>\n",
              "      <td>0</td>\n",
              "      <td>0</td>\n",
              "      <td>1</td>\n",
              "      <td>0</td>\n",
              "      <td>0</td>\n",
              "      <td>...</td>\n",
              "      <td>8</td>\n",
              "      <td>3</td>\n",
              "      <td>0</td>\n",
              "      <td>0</td>\n",
              "      <td>0</td>\n",
              "      <td>1</td>\n",
              "      <td>0</td>\n",
              "      <td>0</td>\n",
              "      <td>4</td>\n",
              "      <td>12</td>\n",
              "    </tr>\n",
              "    <tr>\n",
              "      <th>1</th>\n",
              "      <td>광산품</td>\n",
              "      <td>0</td>\n",
              "      <td>0</td>\n",
              "      <td>0</td>\n",
              "      <td>0</td>\n",
              "      <td>0</td>\n",
              "      <td>77</td>\n",
              "      <td>6</td>\n",
              "      <td>1</td>\n",
              "      <td>23</td>\n",
              "      <td>...</td>\n",
              "      <td>144</td>\n",
              "      <td>0</td>\n",
              "      <td>0</td>\n",
              "      <td>0</td>\n",
              "      <td>0</td>\n",
              "      <td>2</td>\n",
              "      <td>0</td>\n",
              "      <td>0</td>\n",
              "      <td>2</td>\n",
              "      <td>146</td>\n",
              "    </tr>\n",
              "    <tr>\n",
              "      <th>2</th>\n",
              "      <td>음식료품</td>\n",
              "      <td>0</td>\n",
              "      <td>0</td>\n",
              "      <td>10</td>\n",
              "      <td>1</td>\n",
              "      <td>0</td>\n",
              "      <td>0</td>\n",
              "      <td>0</td>\n",
              "      <td>0</td>\n",
              "      <td>0</td>\n",
              "      <td>...</td>\n",
              "      <td>18</td>\n",
              "      <td>15</td>\n",
              "      <td>0</td>\n",
              "      <td>0</td>\n",
              "      <td>0</td>\n",
              "      <td>0</td>\n",
              "      <td>0</td>\n",
              "      <td>0</td>\n",
              "      <td>15</td>\n",
              "      <td>33</td>\n",
              "    </tr>\n",
              "    <tr>\n",
              "      <th>3</th>\n",
              "      <td>섬유 및 가죽제품</td>\n",
              "      <td>0</td>\n",
              "      <td>0</td>\n",
              "      <td>0</td>\n",
              "      <td>11</td>\n",
              "      <td>0</td>\n",
              "      <td>0</td>\n",
              "      <td>0</td>\n",
              "      <td>0</td>\n",
              "      <td>0</td>\n",
              "      <td>...</td>\n",
              "      <td>11</td>\n",
              "      <td>19</td>\n",
              "      <td>0</td>\n",
              "      <td>0</td>\n",
              "      <td>0</td>\n",
              "      <td>0</td>\n",
              "      <td>0</td>\n",
              "      <td>1</td>\n",
              "      <td>20</td>\n",
              "      <td>31</td>\n",
              "    </tr>\n",
              "    <tr>\n",
              "      <th>4</th>\n",
              "      <td>목재 및 종이, 인쇄</td>\n",
              "      <td>0</td>\n",
              "      <td>0</td>\n",
              "      <td>0</td>\n",
              "      <td>0</td>\n",
              "      <td>5</td>\n",
              "      <td>0</td>\n",
              "      <td>0</td>\n",
              "      <td>0</td>\n",
              "      <td>0</td>\n",
              "      <td>...</td>\n",
              "      <td>6</td>\n",
              "      <td>0</td>\n",
              "      <td>0</td>\n",
              "      <td>0</td>\n",
              "      <td>0</td>\n",
              "      <td>0</td>\n",
              "      <td>0</td>\n",
              "      <td>0</td>\n",
              "      <td>0</td>\n",
              "      <td>6</td>\n",
              "    </tr>\n",
              "    <tr>\n",
              "      <th>5</th>\n",
              "      <td>석탄 및 석유제품</td>\n",
              "      <td>0</td>\n",
              "      <td>0</td>\n",
              "      <td>0</td>\n",
              "      <td>0</td>\n",
              "      <td>0</td>\n",
              "      <td>3</td>\n",
              "      <td>16</td>\n",
              "      <td>0</td>\n",
              "      <td>0</td>\n",
              "      <td>...</td>\n",
              "      <td>28</td>\n",
              "      <td>1</td>\n",
              "      <td>0</td>\n",
              "      <td>0</td>\n",
              "      <td>0</td>\n",
              "      <td>0</td>\n",
              "      <td>0</td>\n",
              "      <td>0</td>\n",
              "      <td>1</td>\n",
              "      <td>29</td>\n",
              "    </tr>\n",
              "    <tr>\n",
              "      <th>6</th>\n",
              "      <td>화학제품</td>\n",
              "      <td>1</td>\n",
              "      <td>0</td>\n",
              "      <td>0</td>\n",
              "      <td>2</td>\n",
              "      <td>0</td>\n",
              "      <td>1</td>\n",
              "      <td>34</td>\n",
              "      <td>1</td>\n",
              "      <td>0</td>\n",
              "      <td>...</td>\n",
              "      <td>64</td>\n",
              "      <td>8</td>\n",
              "      <td>0</td>\n",
              "      <td>0</td>\n",
              "      <td>0</td>\n",
              "      <td>1</td>\n",
              "      <td>0</td>\n",
              "      <td>3</td>\n",
              "      <td>12</td>\n",
              "      <td>76</td>\n",
              "    </tr>\n",
              "    <tr>\n",
              "      <th>7</th>\n",
              "      <td>비금속광물제품</td>\n",
              "      <td>0</td>\n",
              "      <td>0</td>\n",
              "      <td>0</td>\n",
              "      <td>0</td>\n",
              "      <td>0</td>\n",
              "      <td>0</td>\n",
              "      <td>0</td>\n",
              "      <td>1</td>\n",
              "      <td>0</td>\n",
              "      <td>...</td>\n",
              "      <td>5</td>\n",
              "      <td>0</td>\n",
              "      <td>0</td>\n",
              "      <td>0</td>\n",
              "      <td>0</td>\n",
              "      <td>0</td>\n",
              "      <td>0</td>\n",
              "      <td>0</td>\n",
              "      <td>0</td>\n",
              "      <td>5</td>\n",
              "    </tr>\n",
              "    <tr>\n",
              "      <th>8</th>\n",
              "      <td>1차 금속제품</td>\n",
              "      <td>0</td>\n",
              "      <td>0</td>\n",
              "      <td>0</td>\n",
              "      <td>0</td>\n",
              "      <td>0</td>\n",
              "      <td>0</td>\n",
              "      <td>1</td>\n",
              "      <td>0</td>\n",
              "      <td>21</td>\n",
              "      <td>...</td>\n",
              "      <td>40</td>\n",
              "      <td>0</td>\n",
              "      <td>0</td>\n",
              "      <td>0</td>\n",
              "      <td>0</td>\n",
              "      <td>0</td>\n",
              "      <td>0</td>\n",
              "      <td>0</td>\n",
              "      <td>0</td>\n",
              "      <td>40</td>\n",
              "    </tr>\n",
              "    <tr>\n",
              "      <th>9</th>\n",
              "      <td>금속가공제품</td>\n",
              "      <td>0</td>\n",
              "      <td>0</td>\n",
              "      <td>0</td>\n",
              "      <td>0</td>\n",
              "      <td>0</td>\n",
              "      <td>0</td>\n",
              "      <td>0</td>\n",
              "      <td>0</td>\n",
              "      <td>0</td>\n",
              "      <td>...</td>\n",
              "      <td>5</td>\n",
              "      <td>1</td>\n",
              "      <td>0</td>\n",
              "      <td>0</td>\n",
              "      <td>1</td>\n",
              "      <td>0</td>\n",
              "      <td>0</td>\n",
              "      <td>0</td>\n",
              "      <td>2</td>\n",
              "      <td>7</td>\n",
              "    </tr>\n",
              "    <tr>\n",
              "      <th>10</th>\n",
              "      <td>컴퓨터, 전자 및 광학기기</td>\n",
              "      <td>0</td>\n",
              "      <td>0</td>\n",
              "      <td>0</td>\n",
              "      <td>0</td>\n",
              "      <td>0</td>\n",
              "      <td>0</td>\n",
              "      <td>0</td>\n",
              "      <td>0</td>\n",
              "      <td>0</td>\n",
              "      <td>...</td>\n",
              "      <td>65</td>\n",
              "      <td>12</td>\n",
              "      <td>0</td>\n",
              "      <td>16</td>\n",
              "      <td>3</td>\n",
              "      <td>1</td>\n",
              "      <td>0</td>\n",
              "      <td>1</td>\n",
              "      <td>33</td>\n",
              "      <td>98</td>\n",
              "    </tr>\n",
              "    <tr>\n",
              "      <th>11</th>\n",
              "      <td>전기장비</td>\n",
              "      <td>0</td>\n",
              "      <td>0</td>\n",
              "      <td>0</td>\n",
              "      <td>0</td>\n",
              "      <td>0</td>\n",
              "      <td>0</td>\n",
              "      <td>0</td>\n",
              "      <td>0</td>\n",
              "      <td>0</td>\n",
              "      <td>...</td>\n",
              "      <td>15</td>\n",
              "      <td>3</td>\n",
              "      <td>0</td>\n",
              "      <td>2</td>\n",
              "      <td>0</td>\n",
              "      <td>0</td>\n",
              "      <td>0</td>\n",
              "      <td>0</td>\n",
              "      <td>5</td>\n",
              "      <td>20</td>\n",
              "    </tr>\n",
              "    <tr>\n",
              "      <th>12</th>\n",
              "      <td>기계 및 장비</td>\n",
              "      <td>0</td>\n",
              "      <td>0</td>\n",
              "      <td>0</td>\n",
              "      <td>0</td>\n",
              "      <td>0</td>\n",
              "      <td>0</td>\n",
              "      <td>0</td>\n",
              "      <td>0</td>\n",
              "      <td>0</td>\n",
              "      <td>...</td>\n",
              "      <td>16</td>\n",
              "      <td>1</td>\n",
              "      <td>0</td>\n",
              "      <td>20</td>\n",
              "      <td>0</td>\n",
              "      <td>0</td>\n",
              "      <td>0</td>\n",
              "      <td>0</td>\n",
              "      <td>21</td>\n",
              "      <td>37</td>\n",
              "    </tr>\n",
              "    <tr>\n",
              "      <th>13</th>\n",
              "      <td>운송장비</td>\n",
              "      <td>0</td>\n",
              "      <td>0</td>\n",
              "      <td>0</td>\n",
              "      <td>0</td>\n",
              "      <td>0</td>\n",
              "      <td>0</td>\n",
              "      <td>0</td>\n",
              "      <td>0</td>\n",
              "      <td>0</td>\n",
              "      <td>...</td>\n",
              "      <td>8</td>\n",
              "      <td>9</td>\n",
              "      <td>0</td>\n",
              "      <td>10</td>\n",
              "      <td>3</td>\n",
              "      <td>0</td>\n",
              "      <td>0</td>\n",
              "      <td>0</td>\n",
              "      <td>22</td>\n",
              "      <td>30</td>\n",
              "    </tr>\n",
              "    <tr>\n",
              "      <th>14</th>\n",
              "      <td>기타 제조업 제품</td>\n",
              "      <td>0</td>\n",
              "      <td>0</td>\n",
              "      <td>0</td>\n",
              "      <td>0</td>\n",
              "      <td>0</td>\n",
              "      <td>0</td>\n",
              "      <td>0</td>\n",
              "      <td>0</td>\n",
              "      <td>0</td>\n",
              "      <td>...</td>\n",
              "      <td>1</td>\n",
              "      <td>6</td>\n",
              "      <td>0</td>\n",
              "      <td>1</td>\n",
              "      <td>0</td>\n",
              "      <td>0</td>\n",
              "      <td>1</td>\n",
              "      <td>0</td>\n",
              "      <td>8</td>\n",
              "      <td>9</td>\n",
              "    </tr>\n",
              "    <tr>\n",
              "      <th>15</th>\n",
              "      <td>제조임가공 및 산업용 장비 수리</td>\n",
              "      <td>0</td>\n",
              "      <td>0</td>\n",
              "      <td>0</td>\n",
              "      <td>7</td>\n",
              "      <td>0</td>\n",
              "      <td>0</td>\n",
              "      <td>0</td>\n",
              "      <td>0</td>\n",
              "      <td>0</td>\n",
              "      <td>...</td>\n",
              "      <td>10</td>\n",
              "      <td>0</td>\n",
              "      <td>0</td>\n",
              "      <td>0</td>\n",
              "      <td>0</td>\n",
              "      <td>0</td>\n",
              "      <td>0</td>\n",
              "      <td>0</td>\n",
              "      <td>0</td>\n",
              "      <td>10</td>\n",
              "    </tr>\n",
              "    <tr>\n",
              "      <th>16</th>\n",
              "      <td>전력, 가스 및 증기</td>\n",
              "      <td>0</td>\n",
              "      <td>0</td>\n",
              "      <td>0</td>\n",
              "      <td>0</td>\n",
              "      <td>0</td>\n",
              "      <td>0</td>\n",
              "      <td>0</td>\n",
              "      <td>0</td>\n",
              "      <td>0</td>\n",
              "      <td>...</td>\n",
              "      <td>0</td>\n",
              "      <td>0</td>\n",
              "      <td>0</td>\n",
              "      <td>0</td>\n",
              "      <td>0</td>\n",
              "      <td>0</td>\n",
              "      <td>0</td>\n",
              "      <td>0</td>\n",
              "      <td>0</td>\n",
              "      <td>0</td>\n",
              "    </tr>\n",
              "    <tr>\n",
              "      <th>17</th>\n",
              "      <td>수도, 폐기물처리 및 재활용서비스</td>\n",
              "      <td>0</td>\n",
              "      <td>0</td>\n",
              "      <td>0</td>\n",
              "      <td>0</td>\n",
              "      <td>0</td>\n",
              "      <td>0</td>\n",
              "      <td>0</td>\n",
              "      <td>0</td>\n",
              "      <td>0</td>\n",
              "      <td>...</td>\n",
              "      <td>0</td>\n",
              "      <td>0</td>\n",
              "      <td>0</td>\n",
              "      <td>0</td>\n",
              "      <td>0</td>\n",
              "      <td>0</td>\n",
              "      <td>0</td>\n",
              "      <td>0</td>\n",
              "      <td>0</td>\n",
              "      <td>0</td>\n",
              "    </tr>\n",
              "    <tr>\n",
              "      <th>18</th>\n",
              "      <td>건설</td>\n",
              "      <td>0</td>\n",
              "      <td>0</td>\n",
              "      <td>0</td>\n",
              "      <td>0</td>\n",
              "      <td>0</td>\n",
              "      <td>0</td>\n",
              "      <td>0</td>\n",
              "      <td>0</td>\n",
              "      <td>0</td>\n",
              "      <td>...</td>\n",
              "      <td>0</td>\n",
              "      <td>0</td>\n",
              "      <td>0</td>\n",
              "      <td>0</td>\n",
              "      <td>0</td>\n",
              "      <td>0</td>\n",
              "      <td>0</td>\n",
              "      <td>0</td>\n",
              "      <td>0</td>\n",
              "      <td>0</td>\n",
              "    </tr>\n",
              "    <tr>\n",
              "      <th>19</th>\n",
              "      <td>도소매 및 상품중개서비스</td>\n",
              "      <td>0</td>\n",
              "      <td>0</td>\n",
              "      <td>0</td>\n",
              "      <td>0</td>\n",
              "      <td>0</td>\n",
              "      <td>0</td>\n",
              "      <td>1</td>\n",
              "      <td>0</td>\n",
              "      <td>0</td>\n",
              "      <td>...</td>\n",
              "      <td>3</td>\n",
              "      <td>0</td>\n",
              "      <td>0</td>\n",
              "      <td>0</td>\n",
              "      <td>0</td>\n",
              "      <td>0</td>\n",
              "      <td>0</td>\n",
              "      <td>0</td>\n",
              "      <td>0</td>\n",
              "      <td>3</td>\n",
              "    </tr>\n",
              "    <tr>\n",
              "      <th>20</th>\n",
              "      <td>운송서비스</td>\n",
              "      <td>0</td>\n",
              "      <td>0</td>\n",
              "      <td>0</td>\n",
              "      <td>0</td>\n",
              "      <td>0</td>\n",
              "      <td>0</td>\n",
              "      <td>0</td>\n",
              "      <td>0</td>\n",
              "      <td>0</td>\n",
              "      <td>...</td>\n",
              "      <td>14</td>\n",
              "      <td>9</td>\n",
              "      <td>0</td>\n",
              "      <td>0</td>\n",
              "      <td>0</td>\n",
              "      <td>0</td>\n",
              "      <td>0</td>\n",
              "      <td>0</td>\n",
              "      <td>9</td>\n",
              "      <td>23</td>\n",
              "    </tr>\n",
              "    <tr>\n",
              "      <th>21</th>\n",
              "      <td>음식점 및 숙박서비스</td>\n",
              "      <td>0</td>\n",
              "      <td>0</td>\n",
              "      <td>0</td>\n",
              "      <td>0</td>\n",
              "      <td>0</td>\n",
              "      <td>0</td>\n",
              "      <td>0</td>\n",
              "      <td>0</td>\n",
              "      <td>0</td>\n",
              "      <td>...</td>\n",
              "      <td>1</td>\n",
              "      <td>17</td>\n",
              "      <td>0</td>\n",
              "      <td>0</td>\n",
              "      <td>0</td>\n",
              "      <td>0</td>\n",
              "      <td>0</td>\n",
              "      <td>0</td>\n",
              "      <td>17</td>\n",
              "      <td>18</td>\n",
              "    </tr>\n",
              "    <tr>\n",
              "      <th>22</th>\n",
              "      <td>정보통신 및 방송 서비스</td>\n",
              "      <td>0</td>\n",
              "      <td>0</td>\n",
              "      <td>0</td>\n",
              "      <td>0</td>\n",
              "      <td>0</td>\n",
              "      <td>0</td>\n",
              "      <td>0</td>\n",
              "      <td>0</td>\n",
              "      <td>0</td>\n",
              "      <td>...</td>\n",
              "      <td>6</td>\n",
              "      <td>1</td>\n",
              "      <td>0</td>\n",
              "      <td>1</td>\n",
              "      <td>0</td>\n",
              "      <td>0</td>\n",
              "      <td>0</td>\n",
              "      <td>0</td>\n",
              "      <td>2</td>\n",
              "      <td>8</td>\n",
              "    </tr>\n",
              "    <tr>\n",
              "      <th>23</th>\n",
              "      <td>금융 및 보험 서비스</td>\n",
              "      <td>0</td>\n",
              "      <td>0</td>\n",
              "      <td>0</td>\n",
              "      <td>0</td>\n",
              "      <td>0</td>\n",
              "      <td>0</td>\n",
              "      <td>0</td>\n",
              "      <td>0</td>\n",
              "      <td>0</td>\n",
              "      <td>...</td>\n",
              "      <td>3</td>\n",
              "      <td>1</td>\n",
              "      <td>0</td>\n",
              "      <td>0</td>\n",
              "      <td>0</td>\n",
              "      <td>0</td>\n",
              "      <td>0</td>\n",
              "      <td>0</td>\n",
              "      <td>1</td>\n",
              "      <td>4</td>\n",
              "    </tr>\n",
              "    <tr>\n",
              "      <th>24</th>\n",
              "      <td>부동산서비스</td>\n",
              "      <td>0</td>\n",
              "      <td>0</td>\n",
              "      <td>0</td>\n",
              "      <td>0</td>\n",
              "      <td>0</td>\n",
              "      <td>0</td>\n",
              "      <td>0</td>\n",
              "      <td>0</td>\n",
              "      <td>0</td>\n",
              "      <td>...</td>\n",
              "      <td>1</td>\n",
              "      <td>0</td>\n",
              "      <td>0</td>\n",
              "      <td>0</td>\n",
              "      <td>0</td>\n",
              "      <td>0</td>\n",
              "      <td>0</td>\n",
              "      <td>0</td>\n",
              "      <td>0</td>\n",
              "      <td>1</td>\n",
              "    </tr>\n",
              "    <tr>\n",
              "      <th>25</th>\n",
              "      <td>전문, 과학 및 기술 서비스</td>\n",
              "      <td>0</td>\n",
              "      <td>0</td>\n",
              "      <td>0</td>\n",
              "      <td>0</td>\n",
              "      <td>0</td>\n",
              "      <td>0</td>\n",
              "      <td>2</td>\n",
              "      <td>0</td>\n",
              "      <td>1</td>\n",
              "      <td>...</td>\n",
              "      <td>18</td>\n",
              "      <td>0</td>\n",
              "      <td>0</td>\n",
              "      <td>6</td>\n",
              "      <td>0</td>\n",
              "      <td>0</td>\n",
              "      <td>0</td>\n",
              "      <td>0</td>\n",
              "      <td>6</td>\n",
              "      <td>24</td>\n",
              "    </tr>\n",
              "    <tr>\n",
              "      <th>26</th>\n",
              "      <td>사업지원서비스</td>\n",
              "      <td>0</td>\n",
              "      <td>0</td>\n",
              "      <td>0</td>\n",
              "      <td>0</td>\n",
              "      <td>0</td>\n",
              "      <td>0</td>\n",
              "      <td>0</td>\n",
              "      <td>0</td>\n",
              "      <td>0</td>\n",
              "      <td>...</td>\n",
              "      <td>16</td>\n",
              "      <td>0</td>\n",
              "      <td>0</td>\n",
              "      <td>0</td>\n",
              "      <td>0</td>\n",
              "      <td>0</td>\n",
              "      <td>0</td>\n",
              "      <td>0</td>\n",
              "      <td>0</td>\n",
              "      <td>16</td>\n",
              "    </tr>\n",
              "    <tr>\n",
              "      <th>27</th>\n",
              "      <td>공공행정, 국방 및 사회보장</td>\n",
              "      <td>0</td>\n",
              "      <td>0</td>\n",
              "      <td>0</td>\n",
              "      <td>0</td>\n",
              "      <td>0</td>\n",
              "      <td>0</td>\n",
              "      <td>0</td>\n",
              "      <td>0</td>\n",
              "      <td>0</td>\n",
              "      <td>...</td>\n",
              "      <td>1</td>\n",
              "      <td>0</td>\n",
              "      <td>0</td>\n",
              "      <td>0</td>\n",
              "      <td>0</td>\n",
              "      <td>0</td>\n",
              "      <td>0</td>\n",
              "      <td>0</td>\n",
              "      <td>0</td>\n",
              "      <td>1</td>\n",
              "    </tr>\n",
              "    <tr>\n",
              "      <th>28</th>\n",
              "      <td>교육서비스</td>\n",
              "      <td>0</td>\n",
              "      <td>0</td>\n",
              "      <td>0</td>\n",
              "      <td>0</td>\n",
              "      <td>0</td>\n",
              "      <td>0</td>\n",
              "      <td>0</td>\n",
              "      <td>0</td>\n",
              "      <td>0</td>\n",
              "      <td>...</td>\n",
              "      <td>0</td>\n",
              "      <td>2</td>\n",
              "      <td>0</td>\n",
              "      <td>0</td>\n",
              "      <td>0</td>\n",
              "      <td>0</td>\n",
              "      <td>0</td>\n",
              "      <td>0</td>\n",
              "      <td>2</td>\n",
              "      <td>2</td>\n",
              "    </tr>\n",
              "    <tr>\n",
              "      <th>29</th>\n",
              "      <td>보건 및 사회복지 서비스</td>\n",
              "      <td>0</td>\n",
              "      <td>0</td>\n",
              "      <td>0</td>\n",
              "      <td>0</td>\n",
              "      <td>0</td>\n",
              "      <td>0</td>\n",
              "      <td>0</td>\n",
              "      <td>0</td>\n",
              "      <td>0</td>\n",
              "      <td>...</td>\n",
              "      <td>0</td>\n",
              "      <td>0</td>\n",
              "      <td>0</td>\n",
              "      <td>0</td>\n",
              "      <td>0</td>\n",
              "      <td>0</td>\n",
              "      <td>0</td>\n",
              "      <td>0</td>\n",
              "      <td>0</td>\n",
              "      <td>0</td>\n",
              "    </tr>\n",
              "    <tr>\n",
              "      <th>30</th>\n",
              "      <td>예술, 스포츠 및 여가 관련 서비스</td>\n",
              "      <td>0</td>\n",
              "      <td>0</td>\n",
              "      <td>0</td>\n",
              "      <td>0</td>\n",
              "      <td>0</td>\n",
              "      <td>0</td>\n",
              "      <td>0</td>\n",
              "      <td>0</td>\n",
              "      <td>0</td>\n",
              "      <td>...</td>\n",
              "      <td>0</td>\n",
              "      <td>5</td>\n",
              "      <td>0</td>\n",
              "      <td>0</td>\n",
              "      <td>0</td>\n",
              "      <td>0</td>\n",
              "      <td>0</td>\n",
              "      <td>0</td>\n",
              "      <td>5</td>\n",
              "      <td>5</td>\n",
              "    </tr>\n",
              "    <tr>\n",
              "      <th>31</th>\n",
              "      <td>기타 서비스</td>\n",
              "      <td>0</td>\n",
              "      <td>0</td>\n",
              "      <td>0</td>\n",
              "      <td>0</td>\n",
              "      <td>0</td>\n",
              "      <td>0</td>\n",
              "      <td>0</td>\n",
              "      <td>0</td>\n",
              "      <td>0</td>\n",
              "      <td>...</td>\n",
              "      <td>0</td>\n",
              "      <td>0</td>\n",
              "      <td>0</td>\n",
              "      <td>0</td>\n",
              "      <td>0</td>\n",
              "      <td>0</td>\n",
              "      <td>0</td>\n",
              "      <td>0</td>\n",
              "      <td>0</td>\n",
              "      <td>0</td>\n",
              "    </tr>\n",
              "    <tr>\n",
              "      <th>32</th>\n",
              "      <td>기타</td>\n",
              "      <td>0</td>\n",
              "      <td>0</td>\n",
              "      <td>0</td>\n",
              "      <td>0</td>\n",
              "      <td>0</td>\n",
              "      <td>0</td>\n",
              "      <td>0</td>\n",
              "      <td>0</td>\n",
              "      <td>0</td>\n",
              "      <td>...</td>\n",
              "      <td>0</td>\n",
              "      <td>0</td>\n",
              "      <td>0</td>\n",
              "      <td>0</td>\n",
              "      <td>0</td>\n",
              "      <td>0</td>\n",
              "      <td>0</td>\n",
              "      <td>0</td>\n",
              "      <td>0</td>\n",
              "      <td>0</td>\n",
              "    </tr>\n",
              "    <tr>\n",
              "      <th>33</th>\n",
              "      <td>중간투입계</td>\n",
              "      <td>1</td>\n",
              "      <td>0</td>\n",
              "      <td>15</td>\n",
              "      <td>22</td>\n",
              "      <td>5</td>\n",
              "      <td>81</td>\n",
              "      <td>61</td>\n",
              "      <td>3</td>\n",
              "      <td>45</td>\n",
              "      <td>...</td>\n",
              "      <td>507</td>\n",
              "      <td>113</td>\n",
              "      <td>0</td>\n",
              "      <td>56</td>\n",
              "      <td>7</td>\n",
              "      <td>5</td>\n",
              "      <td>1</td>\n",
              "      <td>5</td>\n",
              "      <td>187</td>\n",
              "      <td>694</td>\n",
              "    </tr>\n",
              "  </tbody>\n",
              "</table>\n",
              "<p>34 rows × 44 columns</p>\n",
              "</div>\n",
              "      <button class=\"colab-df-convert\" onclick=\"convertToInteractive('df-f1c12fd5-c6ce-4df4-a649-e948787d2a0c')\"\n",
              "              title=\"Convert this dataframe to an interactive table.\"\n",
              "              style=\"display:none;\">\n",
              "        \n",
              "  <svg xmlns=\"http://www.w3.org/2000/svg\" height=\"24px\"viewBox=\"0 0 24 24\"\n",
              "       width=\"24px\">\n",
              "    <path d=\"M0 0h24v24H0V0z\" fill=\"none\"/>\n",
              "    <path d=\"M18.56 5.44l.94 2.06.94-2.06 2.06-.94-2.06-.94-.94-2.06-.94 2.06-2.06.94zm-11 1L8.5 8.5l.94-2.06 2.06-.94-2.06-.94L8.5 2.5l-.94 2.06-2.06.94zm10 10l.94 2.06.94-2.06 2.06-.94-2.06-.94-.94-2.06-.94 2.06-2.06.94z\"/><path d=\"M17.41 7.96l-1.37-1.37c-.4-.4-.92-.59-1.43-.59-.52 0-1.04.2-1.43.59L10.3 9.45l-7.72 7.72c-.78.78-.78 2.05 0 2.83L4 21.41c.39.39.9.59 1.41.59.51 0 1.02-.2 1.41-.59l7.78-7.78 2.81-2.81c.8-.78.8-2.07 0-2.86zM5.41 20L4 18.59l7.72-7.72 1.47 1.35L5.41 20z\"/>\n",
              "  </svg>\n",
              "      </button>\n",
              "      \n",
              "  <style>\n",
              "    .colab-df-container {\n",
              "      display:flex;\n",
              "      flex-wrap:wrap;\n",
              "      gap: 12px;\n",
              "    }\n",
              "\n",
              "    .colab-df-convert {\n",
              "      background-color: #E8F0FE;\n",
              "      border: none;\n",
              "      border-radius: 50%;\n",
              "      cursor: pointer;\n",
              "      display: none;\n",
              "      fill: #1967D2;\n",
              "      height: 32px;\n",
              "      padding: 0 0 0 0;\n",
              "      width: 32px;\n",
              "    }\n",
              "\n",
              "    .colab-df-convert:hover {\n",
              "      background-color: #E2EBFA;\n",
              "      box-shadow: 0px 1px 2px rgba(60, 64, 67, 0.3), 0px 1px 3px 1px rgba(60, 64, 67, 0.15);\n",
              "      fill: #174EA6;\n",
              "    }\n",
              "\n",
              "    [theme=dark] .colab-df-convert {\n",
              "      background-color: #3B4455;\n",
              "      fill: #D2E3FC;\n",
              "    }\n",
              "\n",
              "    [theme=dark] .colab-df-convert:hover {\n",
              "      background-color: #434B5C;\n",
              "      box-shadow: 0px 1px 3px 1px rgba(0, 0, 0, 0.15);\n",
              "      filter: drop-shadow(0px 1px 2px rgba(0, 0, 0, 0.3));\n",
              "      fill: #FFFFFF;\n",
              "    }\n",
              "  </style>\n",
              "\n",
              "      <script>\n",
              "        const buttonEl =\n",
              "          document.querySelector('#df-f1c12fd5-c6ce-4df4-a649-e948787d2a0c button.colab-df-convert');\n",
              "        buttonEl.style.display =\n",
              "          google.colab.kernel.accessAllowed ? 'block' : 'none';\n",
              "\n",
              "        async function convertToInteractive(key) {\n",
              "          const element = document.querySelector('#df-f1c12fd5-c6ce-4df4-a649-e948787d2a0c');\n",
              "          const dataTable =\n",
              "            await google.colab.kernel.invokeFunction('convertToInteractive',\n",
              "                                                     [key], {});\n",
              "          if (!dataTable) return;\n",
              "\n",
              "          const docLinkHtml = 'Like what you see? Visit the ' +\n",
              "            '<a target=\"_blank\" href=https://colab.research.google.com/notebooks/data_table.ipynb>data table notebook</a>'\n",
              "            + ' to learn more about interactive tables.';\n",
              "          element.innerHTML = '';\n",
              "          dataTable['output_type'] = 'display_data';\n",
              "          await google.colab.output.renderOutput(dataTable, element);\n",
              "          const docLink = document.createElement('div');\n",
              "          docLink.innerHTML = docLinkHtml;\n",
              "          element.appendChild(docLink);\n",
              "        }\n",
              "      </script>\n",
              "    </div>\n",
              "  </div>\n",
              "  "
            ]
          },
          "metadata": {},
          "execution_count": 51
        }
      ]
    },
    {
      "cell_type": "code",
      "source": [
        "Imm_33 = Im_33.to_numpy()\n",
        "Imp_33 = Imm_33[0:34,1:53].astype(float)"
      ],
      "metadata": {
        "id": "G_YKIL7jGEX8"
      },
      "execution_count": 52,
      "outputs": []
    },
    {
      "cell_type": "code",
      "source": [
        "nae_imp_row = code@Imp_33[0:33,0:33] # 중간투입(수요)의 행을 3부문으로 만들기\n",
        "nae_imp_row"
      ],
      "metadata": {
        "id": "4MqZ7GIaGEaa",
        "outputId": "d436622e-6a4c-4f36-f084-3ef003385c2d",
        "colab": {
          "base_uri": "https://localhost:8080/"
        }
      },
      "execution_count": 53,
      "outputs": [
        {
          "output_type": "execute_result",
          "data": {
            "text/plain": [
              "array([[ 0.,  0.,  5.,  1.,  0.,  0.,  1.,  0.,  0.,  0.,  0.,  0.,  0.,\n",
              "         0.,  0.,  0.,  0.,  0.,  0.,  0.,  0.,  1.,  0.,  0.,  0.,  0.,\n",
              "         0.,  0.,  0.,  0.,  0.,  0.,  0.],\n",
              "       [ 1.,  0., 10., 21.,  5., 81., 57.,  3., 44.,  5., 72., 16., 17.,\n",
              "        22.,  3.,  0., 38.,  0.,  8.,  2.,  8.,  8.,  4.,  0.,  0.,  3.,\n",
              "         0.,  0.,  0.,  8.,  0.,  0.,  0.],\n",
              "       [ 0.,  0.,  0.,  0.,  0.,  0.,  3.,  0.,  1.,  0.,  4.,  1.,  1.,\n",
              "         4.,  0.,  0.,  0.,  0.,  1.,  6., 20.,  0.,  7.,  6.,  1.,  3.,\n",
              "         2.,  3.,  0.,  0.,  0.,  0.,  0.]])"
            ]
          },
          "metadata": {},
          "execution_count": 53
        }
      ]
    },
    {
      "cell_type": "code",
      "source": [
        "nae_imp_row.shape  # 행과 열의 개수 확인"
      ],
      "metadata": {
        "id": "HK8sZ7PTGEck",
        "outputId": "c12c9945-a823-461f-d9bc-c89ae9c5ae9b",
        "colab": {
          "base_uri": "https://localhost:8080/"
        }
      },
      "execution_count": 54,
      "outputs": [
        {
          "output_type": "execute_result",
          "data": {
            "text/plain": [
              "(3, 33)"
            ]
          },
          "metadata": {},
          "execution_count": 54
        }
      ]
    },
    {
      "cell_type": "code",
      "source": [
        "nae_imp_col = nae_imp_row@code.T  # 수작업한 code 이용\n",
        "nae_imp_col"
      ],
      "metadata": {
        "id": "q7JwgjizGEex",
        "outputId": "95b7966e-0513-4e18-90a1-89df7833054f",
        "colab": {
          "base_uri": "https://localhost:8080/"
        }
      },
      "execution_count": 55,
      "outputs": [
        {
          "output_type": "execute_result",
          "data": {
            "text/plain": [
              "array([[  0.,   7.,   1.],\n",
              "       [  1., 356.,  79.],\n",
              "       [  0.,  14.,  49.]])"
            ]
          },
          "metadata": {},
          "execution_count": 55
        }
      ]
    },
    {
      "cell_type": "code",
      "source": [
        "print(nae_imp_col.shape)  # 행과 열의 개수 확인\n",
        "print(nae_imp_col.sum())  # 중간투입(수요) 확인"
      ],
      "metadata": {
        "id": "G5I-RsgbGEhG",
        "outputId": "35bfe840-0b20-4b48-a255-15deea045748",
        "colab": {
          "base_uri": "https://localhost:8080/"
        }
      },
      "execution_count": 56,
      "outputs": [
        {
          "output_type": "stream",
          "name": "stdout",
          "text": [
            "(3, 3)\n",
            "507.0\n"
          ]
        }
      ]
    },
    {
      "cell_type": "code",
      "source": [
        "ism_row = Imp_33[33:34,0:33]@code.T # 중투합\n",
        "ism_row"
      ],
      "metadata": {
        "id": "Ai6O2HLLGEls",
        "outputId": "2ab87f88-a5cd-4b64-992f-82f1b143e93b",
        "colab": {
          "base_uri": "https://localhost:8080/"
        }
      },
      "execution_count": 57,
      "outputs": [
        {
          "output_type": "execute_result",
          "data": {
            "text/plain": [
              "array([[  1., 377., 129.]])"
            ]
          },
          "metadata": {},
          "execution_count": 57
        }
      ]
    },
    {
      "cell_type": "code",
      "source": [
        "ism_row.shape"
      ],
      "metadata": {
        "id": "dS_d0VMgGEn4",
        "outputId": "e1ee8efa-bec1-4b0e-ec80-fdedfc7927f3",
        "colab": {
          "base_uri": "https://localhost:8080/"
        }
      },
      "execution_count": 58,
      "outputs": [
        {
          "output_type": "execute_result",
          "data": {
            "text/plain": [
              "(1, 3)"
            ]
          },
          "metadata": {},
          "execution_count": 58
        }
      ]
    },
    {
      "cell_type": "code",
      "source": [
        "ifd = Imp_33[0:33, 34:45] #수입최종수요\n",
        "ifd"
      ],
      "metadata": {
        "id": "7tf90qjqGEqR",
        "outputId": "321e38ac-edc8-4a42-96b7-166f7a523eb2",
        "colab": {
          "base_uri": "https://localhost:8080/"
        }
      },
      "execution_count": 59,
      "outputs": [
        {
          "output_type": "execute_result",
          "data": {
            "text/plain": [
              "array([[  3.,   0.,   0.,   0.,   1.,   0.,   0.,   4.,  12.],\n",
              "       [  0.,   0.,   0.,   0.,   2.,   0.,   0.,   2., 146.],\n",
              "       [ 15.,   0.,   0.,   0.,   0.,   0.,   0.,  15.,  33.],\n",
              "       [ 19.,   0.,   0.,   0.,   0.,   0.,   1.,  20.,  31.],\n",
              "       [  0.,   0.,   0.,   0.,   0.,   0.,   0.,   0.,   6.],\n",
              "       [  1.,   0.,   0.,   0.,   0.,   0.,   0.,   1.,  29.],\n",
              "       [  8.,   0.,   0.,   0.,   1.,   0.,   3.,  12.,  76.],\n",
              "       [  0.,   0.,   0.,   0.,   0.,   0.,   0.,   0.,   5.],\n",
              "       [  0.,   0.,   0.,   0.,   0.,   0.,   0.,   0.,  40.],\n",
              "       [  1.,   0.,   0.,   1.,   0.,   0.,   0.,   2.,   7.],\n",
              "       [ 12.,   0.,  16.,   3.,   1.,   0.,   1.,  33.,  98.],\n",
              "       [  3.,   0.,   2.,   0.,   0.,   0.,   0.,   5.,  20.],\n",
              "       [  1.,   0.,  20.,   0.,   0.,   0.,   0.,  21.,  37.],\n",
              "       [  9.,   0.,  10.,   3.,   0.,   0.,   0.,  22.,  30.],\n",
              "       [  6.,   0.,   1.,   0.,   0.,   1.,   0.,   8.,   9.],\n",
              "       [  0.,   0.,   0.,   0.,   0.,   0.,   0.,   0.,  10.],\n",
              "       [  0.,   0.,   0.,   0.,   0.,   0.,   0.,   0.,   0.],\n",
              "       [  0.,   0.,   0.,   0.,   0.,   0.,   0.,   0.,   0.],\n",
              "       [  0.,   0.,   0.,   0.,   0.,   0.,   0.,   0.,   0.],\n",
              "       [  0.,   0.,   0.,   0.,   0.,   0.,   0.,   0.,   3.],\n",
              "       [  9.,   0.,   0.,   0.,   0.,   0.,   0.,   9.,  23.],\n",
              "       [ 17.,   0.,   0.,   0.,   0.,   0.,   0.,  17.,  18.],\n",
              "       [  1.,   0.,   1.,   0.,   0.,   0.,   0.,   2.,   8.],\n",
              "       [  1.,   0.,   0.,   0.,   0.,   0.,   0.,   1.,   4.],\n",
              "       [  0.,   0.,   0.,   0.,   0.,   0.,   0.,   0.,   1.],\n",
              "       [  0.,   0.,   6.,   0.,   0.,   0.,   0.,   6.,  24.],\n",
              "       [  0.,   0.,   0.,   0.,   0.,   0.,   0.,   0.,  16.],\n",
              "       [  0.,   0.,   0.,   0.,   0.,   0.,   0.,   0.,   1.],\n",
              "       [  2.,   0.,   0.,   0.,   0.,   0.,   0.,   2.,   2.],\n",
              "       [  0.,   0.,   0.,   0.,   0.,   0.,   0.,   0.,   0.],\n",
              "       [  5.,   0.,   0.,   0.,   0.,   0.,   0.,   5.,   5.],\n",
              "       [  0.,   0.,   0.,   0.,   0.,   0.,   0.,   0.,   0.],\n",
              "       [  0.,   0.,   0.,   0.,   0.,   0.,   0.,   0.,   0.]])"
            ]
          },
          "metadata": {},
          "execution_count": 59
        }
      ]
    },
    {
      "cell_type": "code",
      "source": [
        "ifd_row=code@ifd@fd_cd.T"
      ],
      "metadata": {
        "id": "pO9lCldYGEsf"
      },
      "execution_count": 60,
      "outputs": []
    },
    {
      "cell_type": "code",
      "source": [
        "ifd_row_sm = np.sum((ifd_row), axis=0) # 최종수요의 행합"
      ],
      "metadata": {
        "id": "Z-RubqPPGEuj"
      },
      "execution_count": 61,
      "outputs": []
    },
    {
      "cell_type": "code",
      "source": [
        "ifd_sm=ifd_row_sm.reshape(1,5)\n",
        "ifd_sm"
      ],
      "metadata": {
        "id": "zo1I5vkGGEwz",
        "outputId": "4865c0db-ce2f-4667-d3f1-5fef5e135e73",
        "colab": {
          "base_uri": "https://localhost:8080/"
        }
      },
      "execution_count": 62,
      "outputs": [
        {
          "output_type": "execute_result",
          "data": {
            "text/plain": [
              "array([[113.,  69.,   5., 187., 694.]])"
            ]
          },
          "metadata": {},
          "execution_count": 62
        }
      ]
    },
    {
      "cell_type": "code",
      "source": [
        "nae_im = np.concatenate((nae_imp_col, ism_row)) # 중간투입(수요)와 부가가치 및 산출액 합치기\n",
        "nae_im"
      ],
      "metadata": {
        "id": "J4-ZGF9lGEzW",
        "outputId": "9d0263c6-8ec9-4537-af14-cc1253cce064",
        "colab": {
          "base_uri": "https://localhost:8080/"
        }
      },
      "execution_count": 63,
      "outputs": [
        {
          "output_type": "execute_result",
          "data": {
            "text/plain": [
              "array([[  0.,   7.,   1.],\n",
              "       [  1., 356.,  79.],\n",
              "       [  0.,  14.,  49.],\n",
              "       [  1., 377., 129.]])"
            ]
          },
          "metadata": {},
          "execution_count": 63
        }
      ]
    },
    {
      "cell_type": "code",
      "source": [
        "nae_col_sm_imp = nae_im.sum(axis=1).reshape(4,1)  # 중간투입(수요)와 행합"
      ],
      "metadata": {
        "id": "oRx1OZxoGE1v"
      },
      "execution_count": 64,
      "outputs": []
    },
    {
      "cell_type": "code",
      "source": [
        "nae_im_sm = nae_col_sm_imp.sum(axis=1).reshape(4,1)  # 부가가치 및 산출액의 열합"
      ],
      "metadata": {
        "id": "6X3AeIxCGE30"
      },
      "execution_count": 65,
      "outputs": []
    },
    {
      "cell_type": "code",
      "source": [
        "ifd_nnull = np.concatenate((ifd_row, ifd_sm),axis=0)  #   최종수요 및 최종수요 행합 합치기"
      ],
      "metadata": {
        "id": "zm_zFqZXGE6B"
      },
      "execution_count": 66,
      "outputs": []
    },
    {
      "cell_type": "code",
      "source": [
        "imp_f = np.concatenate((nae_im, nae_im_sm, ifd_nnull), axis=1)  # 최종 3x3 부문통합된 거래표\n",
        "imp_f"
      ],
      "metadata": {
        "id": "7rwJrwZ2GE8U",
        "outputId": "7be449d6-74a4-4dc8-b098-0f8cf0364d30",
        "colab": {
          "base_uri": "https://localhost:8080/"
        }
      },
      "execution_count": 67,
      "outputs": [
        {
          "output_type": "execute_result",
          "data": {
            "text/plain": [
              "array([[  0.,   7.,   1.,   8.,   3.,   1.,   0.,   4.,  12.],\n",
              "       [  1., 356.,  79., 436.,  75.,  61.,   5., 141., 577.],\n",
              "       [  0.,  14.,  49.,  63.,  35.,   7.,   0.,  42., 105.],\n",
              "       [  1., 377., 129., 507., 113.,  69.,   5., 187., 694.]])"
            ]
          },
          "metadata": {},
          "execution_count": 67
        }
      ]
    },
    {
      "cell_type": "code",
      "source": [
        "imp_F = pd.DataFrame(imp_f, columns = ['농산품', '공산품', '서비스', '중간수요계', '소비','투자', '수출', '최종수요계', '총수요계'],\n",
        "                     index=['농산품', '공산품', '서비스', '중간투입계']) # 변수명 붙여서 pandas로 내보내기\n",
        "imp_F"
      ],
      "metadata": {
        "id": "_5jtRSGjGE-T",
        "outputId": "213addc6-53a3-4b8c-9419-ddee945caf41",
        "colab": {
          "base_uri": "https://localhost:8080/",
          "height": 175
        }
      },
      "execution_count": 68,
      "outputs": [
        {
          "output_type": "execute_result",
          "data": {
            "text/plain": [
              "       농산품    공산품    서비스  중간수요계     소비    투자   수출  최종수요계   총수요계\n",
              "농산품    0.0    7.0    1.0    8.0    3.0   1.0  0.0    4.0   12.0\n",
              "공산품    1.0  356.0   79.0  436.0   75.0  61.0  5.0  141.0  577.0\n",
              "서비스    0.0   14.0   49.0   63.0   35.0   7.0  0.0   42.0  105.0\n",
              "중간투입계  1.0  377.0  129.0  507.0  113.0  69.0  5.0  187.0  694.0"
            ],
            "text/html": [
              "\n",
              "  <div id=\"df-a69a9c41-410b-4775-8a44-ee1b88ead692\">\n",
              "    <div class=\"colab-df-container\">\n",
              "      <div>\n",
              "<style scoped>\n",
              "    .dataframe tbody tr th:only-of-type {\n",
              "        vertical-align: middle;\n",
              "    }\n",
              "\n",
              "    .dataframe tbody tr th {\n",
              "        vertical-align: top;\n",
              "    }\n",
              "\n",
              "    .dataframe thead th {\n",
              "        text-align: right;\n",
              "    }\n",
              "</style>\n",
              "<table border=\"1\" class=\"dataframe\">\n",
              "  <thead>\n",
              "    <tr style=\"text-align: right;\">\n",
              "      <th></th>\n",
              "      <th>농산품</th>\n",
              "      <th>공산품</th>\n",
              "      <th>서비스</th>\n",
              "      <th>중간수요계</th>\n",
              "      <th>소비</th>\n",
              "      <th>투자</th>\n",
              "      <th>수출</th>\n",
              "      <th>최종수요계</th>\n",
              "      <th>총수요계</th>\n",
              "    </tr>\n",
              "  </thead>\n",
              "  <tbody>\n",
              "    <tr>\n",
              "      <th>농산품</th>\n",
              "      <td>0.0</td>\n",
              "      <td>7.0</td>\n",
              "      <td>1.0</td>\n",
              "      <td>8.0</td>\n",
              "      <td>3.0</td>\n",
              "      <td>1.0</td>\n",
              "      <td>0.0</td>\n",
              "      <td>4.0</td>\n",
              "      <td>12.0</td>\n",
              "    </tr>\n",
              "    <tr>\n",
              "      <th>공산품</th>\n",
              "      <td>1.0</td>\n",
              "      <td>356.0</td>\n",
              "      <td>79.0</td>\n",
              "      <td>436.0</td>\n",
              "      <td>75.0</td>\n",
              "      <td>61.0</td>\n",
              "      <td>5.0</td>\n",
              "      <td>141.0</td>\n",
              "      <td>577.0</td>\n",
              "    </tr>\n",
              "    <tr>\n",
              "      <th>서비스</th>\n",
              "      <td>0.0</td>\n",
              "      <td>14.0</td>\n",
              "      <td>49.0</td>\n",
              "      <td>63.0</td>\n",
              "      <td>35.0</td>\n",
              "      <td>7.0</td>\n",
              "      <td>0.0</td>\n",
              "      <td>42.0</td>\n",
              "      <td>105.0</td>\n",
              "    </tr>\n",
              "    <tr>\n",
              "      <th>중간투입계</th>\n",
              "      <td>1.0</td>\n",
              "      <td>377.0</td>\n",
              "      <td>129.0</td>\n",
              "      <td>507.0</td>\n",
              "      <td>113.0</td>\n",
              "      <td>69.0</td>\n",
              "      <td>5.0</td>\n",
              "      <td>187.0</td>\n",
              "      <td>694.0</td>\n",
              "    </tr>\n",
              "  </tbody>\n",
              "</table>\n",
              "</div>\n",
              "      <button class=\"colab-df-convert\" onclick=\"convertToInteractive('df-a69a9c41-410b-4775-8a44-ee1b88ead692')\"\n",
              "              title=\"Convert this dataframe to an interactive table.\"\n",
              "              style=\"display:none;\">\n",
              "        \n",
              "  <svg xmlns=\"http://www.w3.org/2000/svg\" height=\"24px\"viewBox=\"0 0 24 24\"\n",
              "       width=\"24px\">\n",
              "    <path d=\"M0 0h24v24H0V0z\" fill=\"none\"/>\n",
              "    <path d=\"M18.56 5.44l.94 2.06.94-2.06 2.06-.94-2.06-.94-.94-2.06-.94 2.06-2.06.94zm-11 1L8.5 8.5l.94-2.06 2.06-.94-2.06-.94L8.5 2.5l-.94 2.06-2.06.94zm10 10l.94 2.06.94-2.06 2.06-.94-2.06-.94-.94-2.06-.94 2.06-2.06.94z\"/><path d=\"M17.41 7.96l-1.37-1.37c-.4-.4-.92-.59-1.43-.59-.52 0-1.04.2-1.43.59L10.3 9.45l-7.72 7.72c-.78.78-.78 2.05 0 2.83L4 21.41c.39.39.9.59 1.41.59.51 0 1.02-.2 1.41-.59l7.78-7.78 2.81-2.81c.8-.78.8-2.07 0-2.86zM5.41 20L4 18.59l7.72-7.72 1.47 1.35L5.41 20z\"/>\n",
              "  </svg>\n",
              "      </button>\n",
              "      \n",
              "  <style>\n",
              "    .colab-df-container {\n",
              "      display:flex;\n",
              "      flex-wrap:wrap;\n",
              "      gap: 12px;\n",
              "    }\n",
              "\n",
              "    .colab-df-convert {\n",
              "      background-color: #E8F0FE;\n",
              "      border: none;\n",
              "      border-radius: 50%;\n",
              "      cursor: pointer;\n",
              "      display: none;\n",
              "      fill: #1967D2;\n",
              "      height: 32px;\n",
              "      padding: 0 0 0 0;\n",
              "      width: 32px;\n",
              "    }\n",
              "\n",
              "    .colab-df-convert:hover {\n",
              "      background-color: #E2EBFA;\n",
              "      box-shadow: 0px 1px 2px rgba(60, 64, 67, 0.3), 0px 1px 3px 1px rgba(60, 64, 67, 0.15);\n",
              "      fill: #174EA6;\n",
              "    }\n",
              "\n",
              "    [theme=dark] .colab-df-convert {\n",
              "      background-color: #3B4455;\n",
              "      fill: #D2E3FC;\n",
              "    }\n",
              "\n",
              "    [theme=dark] .colab-df-convert:hover {\n",
              "      background-color: #434B5C;\n",
              "      box-shadow: 0px 1px 3px 1px rgba(0, 0, 0, 0.15);\n",
              "      filter: drop-shadow(0px 1px 2px rgba(0, 0, 0, 0.3));\n",
              "      fill: #FFFFFF;\n",
              "    }\n",
              "  </style>\n",
              "\n",
              "      <script>\n",
              "        const buttonEl =\n",
              "          document.querySelector('#df-a69a9c41-410b-4775-8a44-ee1b88ead692 button.colab-df-convert');\n",
              "        buttonEl.style.display =\n",
              "          google.colab.kernel.accessAllowed ? 'block' : 'none';\n",
              "\n",
              "        async function convertToInteractive(key) {\n",
              "          const element = document.querySelector('#df-a69a9c41-410b-4775-8a44-ee1b88ead692');\n",
              "          const dataTable =\n",
              "            await google.colab.kernel.invokeFunction('convertToInteractive',\n",
              "                                                     [key], {});\n",
              "          if (!dataTable) return;\n",
              "\n",
              "          const docLinkHtml = 'Like what you see? Visit the ' +\n",
              "            '<a target=\"_blank\" href=https://colab.research.google.com/notebooks/data_table.ipynb>data table notebook</a>'\n",
              "            + ' to learn more about interactive tables.';\n",
              "          element.innerHTML = '';\n",
              "          dataTable['output_type'] = 'display_data';\n",
              "          await google.colab.output.renderOutput(dataTable, element);\n",
              "          const docLink = document.createElement('div');\n",
              "          docLink.innerHTML = docLinkHtml;\n",
              "          element.appendChild(docLink);\n",
              "        }\n",
              "      </script>\n",
              "    </div>\n",
              "  </div>\n",
              "  "
            ]
          },
          "metadata": {},
          "execution_count": 68
        }
      ]
    },
    {
      "cell_type": "code",
      "source": [
        "# imp_F.reset_index(inplace=True)# 인덱스 설정(부문명)\n",
        "# imp_F"
      ],
      "metadata": {
        "id": "Z6F4QRuT8dnX"
      },
      "execution_count": 69,
      "outputs": []
    },
    {
      "cell_type": "code",
      "source": [
        "# 총, 국산, 수입거래표 내보내기\n",
        "tot_F.to_csv('총거래표_3부문.csv', encoding=\"utf-8-sig\")\n",
        "tot_F_va1.to_csv('총거래표_부가가치1개.csv', encoding=\"utf-8-sig\")\n",
        "dom_F.to_csv('국산거래표_3부문.csv', encoding=\"utf-8-sig\")\n",
        "imp_F.to_csv('수입거래표_3부문.csv', encoding=\"utf-8-sig\")"
      ],
      "metadata": {
        "id": "ZlZw4Z5lGFA6"
      },
      "execution_count": 70,
      "outputs": []
    },
    {
      "cell_type": "code",
      "source": [],
      "metadata": {
        "id": "kNPpbZzcI37W"
      },
      "execution_count": 70,
      "outputs": []
    }
  ]
}