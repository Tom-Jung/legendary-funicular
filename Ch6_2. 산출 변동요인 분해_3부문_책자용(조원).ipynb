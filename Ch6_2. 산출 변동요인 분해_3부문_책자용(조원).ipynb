{
  "nbformat": 4,
  "nbformat_minor": 0,
  "metadata": {
    "colab": {
      "provenance": [],
      "mount_file_id": "https://github.com/Tom-Jung/legendary-funicular/blob/main/IO_tables.ipynb",
      "authorship_tag": "ABX9TyNCm8bNl4OCIWo8aDjQtcAQ",
      "include_colab_link": true
    },
    "kernelspec": {
      "name": "python3",
      "display_name": "Python 3"
    },
    "language_info": {
      "name": "python"
    }
  },
  "cells": [
    {
      "cell_type": "markdown",
      "metadata": {
        "id": "view-in-github",
        "colab_type": "text"
      },
      "source": [
        "<a href=\"https://colab.research.google.com/github/Tom-Jung/legendary-funicular/blob/main/Ch6_2.%20%EC%82%B0%EC%B6%9C%20%EB%B3%80%EB%8F%99%EC%9A%94%EC%9D%B8%20%EB%B6%84%ED%95%B4_3%EB%B6%80%EB%AC%B8_%EC%B1%85%EC%9E%90%EC%9A%A9(%EC%A1%B0%EC%9B%90).ipynb\" target=\"_parent\"><img src=\"https://colab.research.google.com/assets/colab-badge.svg\" alt=\"Open In Colab\"/></a>"
      ]
    },
    {
      "cell_type": "markdown",
      "source": [
        "## 책자 예제용(조단위) 거래표 이용"
      ],
      "metadata": {
        "id": "6m8DmUUb2BSj"
      }
    },
    {
      "cell_type": "code",
      "source": [
        "import numpy as np   # Numpy import\n",
        "import pandas as pd  # Pandas import"
      ],
      "metadata": {
        "id": "u8_YLhcP2B-a"
      },
      "execution_count": 344,
      "outputs": []
    },
    {
      "cell_type": "code",
      "source": [
        "np.set_printoptions(precision=3,suppress=True) # 결과를 소수 3자리까지만 보여주는 옵션"
      ],
      "metadata": {
        "id": "6ZXqGX8ykUGD"
      },
      "execution_count": 345,
      "outputs": []
    },
    {
      "cell_type": "markdown",
      "source": [
        "### 산출 변동요인분해"
      ],
      "metadata": {
        "id": "00a8dQ_-Ug2y"
      }
    },
    {
      "cell_type": "code",
      "source": [
        "# 2015년 거래표 다운로드\n",
        "\n",
        "url_total = \"https://raw.githubusercontent.com/Tom-Jung/legendary-funicular/main/2015_tot_cst_3secs.csv\"  # 불변 2015년 총거래표\n",
        "Tot_cst_15 = pd.read_csv(url_total)\n",
        "\n",
        "url_imp = \"https://raw.githubusercontent.com/Tom-Jung/legendary-funicular/main/2015_imp_cst_3secs.csv\"  # 불변 2015년 수입거래표\n",
        "Imp_cst_15 = pd.read_csv(url_imp)\n",
        "\n",
        "url_dom = \"https://raw.githubusercontent.com/Tom-Jung/legendary-funicular/main/2015_dom_cst_3secs.csv\"  # 불변 2015년 국산거래표\n",
        "Dom_cst_15 = pd.read_csv(url_dom)"
      ],
      "metadata": {
        "id": "5iSPH3zYKquU"
      },
      "execution_count": 346,
      "outputs": []
    },
    {
      "cell_type": "code",
      "source": [
        "# 2010년 거래표 다운로드\n",
        "\n",
        "url_total = \"https://raw.githubusercontent.com/Tom-Jung/legendary-funicular/main/2010_tot_cst_3secs.csv\"  # 불변 2010년 총거래표\n",
        "Tot_cst_10 = pd.read_csv(url_total)\n",
        "\n",
        "url_imp = \"https://raw.githubusercontent.com/Tom-Jung/legendary-funicular/main/2010_imp_cst_3secs.csv\"  # 불변 2010년 수입거래표\n",
        "Imp_cst_10 = pd.read_csv(url_imp)\n",
        "\n",
        "url_dom = \"https://raw.githubusercontent.com/Tom-Jung/legendary-funicular/main/2010_dom_cst_3secs.csv\"  # 불변 2010년 국산거래표\n",
        "Dom_cst_10 = pd.read_csv(url_dom)"
      ],
      "metadata": {
        "id": "o8Pv_b5hKqyW"
      },
      "execution_count": 347,
      "outputs": []
    },
    {
      "cell_type": "code",
      "source": [
        "Imp_cst_15"
      ],
      "metadata": {
        "id": "f9aN0wIQGi15",
        "outputId": "608c127a-1e3e-4a7a-f41d-3ebb02292e30",
        "colab": {
          "base_uri": "https://localhost:8080/",
          "height": 175
        }
      },
      "execution_count": 348,
      "outputs": [
        {
          "output_type": "execute_result",
          "data": {
            "text/plain": [
              "      부문  농산품    공산품    서비스  중간수요계    소비    투자   수출  최종수요계   총수요계\n",
              "0    농산품  0.3    8.2    0.7    9.2   2.9   0.0  0.0    2.9   12.1\n",
              "1    공산품  1.2  327.9   76.4  405.5  53.1  53.4  2.1  108.6  514.1\n",
              "2    서비스  0.4   15.9   46.2   62.5  28.5   6.8  0.0   35.3   97.8\n",
              "3  중간투입계  1.9  352.0  123.3  477.2  84.5  60.2  2.1  146.8  624.0"
            ],
            "text/html": [
              "\n",
              "\n",
              "  <div id=\"df-baf09589-1857-4839-995a-135be20bd5ea\">\n",
              "    <div class=\"colab-df-container\">\n",
              "      <div>\n",
              "<style scoped>\n",
              "    .dataframe tbody tr th:only-of-type {\n",
              "        vertical-align: middle;\n",
              "    }\n",
              "\n",
              "    .dataframe tbody tr th {\n",
              "        vertical-align: top;\n",
              "    }\n",
              "\n",
              "    .dataframe thead th {\n",
              "        text-align: right;\n",
              "    }\n",
              "</style>\n",
              "<table border=\"1\" class=\"dataframe\">\n",
              "  <thead>\n",
              "    <tr style=\"text-align: right;\">\n",
              "      <th></th>\n",
              "      <th>부문</th>\n",
              "      <th>농산품</th>\n",
              "      <th>공산품</th>\n",
              "      <th>서비스</th>\n",
              "      <th>중간수요계</th>\n",
              "      <th>소비</th>\n",
              "      <th>투자</th>\n",
              "      <th>수출</th>\n",
              "      <th>최종수요계</th>\n",
              "      <th>총수요계</th>\n",
              "    </tr>\n",
              "  </thead>\n",
              "  <tbody>\n",
              "    <tr>\n",
              "      <th>0</th>\n",
              "      <td>농산품</td>\n",
              "      <td>0.3</td>\n",
              "      <td>8.2</td>\n",
              "      <td>0.7</td>\n",
              "      <td>9.2</td>\n",
              "      <td>2.9</td>\n",
              "      <td>0.0</td>\n",
              "      <td>0.0</td>\n",
              "      <td>2.9</td>\n",
              "      <td>12.1</td>\n",
              "    </tr>\n",
              "    <tr>\n",
              "      <th>1</th>\n",
              "      <td>공산품</td>\n",
              "      <td>1.2</td>\n",
              "      <td>327.9</td>\n",
              "      <td>76.4</td>\n",
              "      <td>405.5</td>\n",
              "      <td>53.1</td>\n",
              "      <td>53.4</td>\n",
              "      <td>2.1</td>\n",
              "      <td>108.6</td>\n",
              "      <td>514.1</td>\n",
              "    </tr>\n",
              "    <tr>\n",
              "      <th>2</th>\n",
              "      <td>서비스</td>\n",
              "      <td>0.4</td>\n",
              "      <td>15.9</td>\n",
              "      <td>46.2</td>\n",
              "      <td>62.5</td>\n",
              "      <td>28.5</td>\n",
              "      <td>6.8</td>\n",
              "      <td>0.0</td>\n",
              "      <td>35.3</td>\n",
              "      <td>97.8</td>\n",
              "    </tr>\n",
              "    <tr>\n",
              "      <th>3</th>\n",
              "      <td>중간투입계</td>\n",
              "      <td>1.9</td>\n",
              "      <td>352.0</td>\n",
              "      <td>123.3</td>\n",
              "      <td>477.2</td>\n",
              "      <td>84.5</td>\n",
              "      <td>60.2</td>\n",
              "      <td>2.1</td>\n",
              "      <td>146.8</td>\n",
              "      <td>624.0</td>\n",
              "    </tr>\n",
              "  </tbody>\n",
              "</table>\n",
              "</div>\n",
              "      <button class=\"colab-df-convert\" onclick=\"convertToInteractive('df-baf09589-1857-4839-995a-135be20bd5ea')\"\n",
              "              title=\"Convert this dataframe to an interactive table.\"\n",
              "              style=\"display:none;\">\n",
              "\n",
              "  <svg xmlns=\"http://www.w3.org/2000/svg\" height=\"24px\"viewBox=\"0 0 24 24\"\n",
              "       width=\"24px\">\n",
              "    <path d=\"M0 0h24v24H0V0z\" fill=\"none\"/>\n",
              "    <path d=\"M18.56 5.44l.94 2.06.94-2.06 2.06-.94-2.06-.94-.94-2.06-.94 2.06-2.06.94zm-11 1L8.5 8.5l.94-2.06 2.06-.94-2.06-.94L8.5 2.5l-.94 2.06-2.06.94zm10 10l.94 2.06.94-2.06 2.06-.94-2.06-.94-.94-2.06-.94 2.06-2.06.94z\"/><path d=\"M17.41 7.96l-1.37-1.37c-.4-.4-.92-.59-1.43-.59-.52 0-1.04.2-1.43.59L10.3 9.45l-7.72 7.72c-.78.78-.78 2.05 0 2.83L4 21.41c.39.39.9.59 1.41.59.51 0 1.02-.2 1.41-.59l7.78-7.78 2.81-2.81c.8-.78.8-2.07 0-2.86zM5.41 20L4 18.59l7.72-7.72 1.47 1.35L5.41 20z\"/>\n",
              "  </svg>\n",
              "      </button>\n",
              "\n",
              "\n",
              "\n",
              "    <div id=\"df-6ae8710a-7e20-4aa6-8b88-7e85f31b3de2\">\n",
              "      <button class=\"colab-df-quickchart\" onclick=\"quickchart('df-6ae8710a-7e20-4aa6-8b88-7e85f31b3de2')\"\n",
              "              title=\"Suggest charts.\"\n",
              "              style=\"display:none;\">\n",
              "\n",
              "<svg xmlns=\"http://www.w3.org/2000/svg\" height=\"24px\"viewBox=\"0 0 24 24\"\n",
              "     width=\"24px\">\n",
              "    <g>\n",
              "        <path d=\"M19 3H5c-1.1 0-2 .9-2 2v14c0 1.1.9 2 2 2h14c1.1 0 2-.9 2-2V5c0-1.1-.9-2-2-2zM9 17H7v-7h2v7zm4 0h-2V7h2v10zm4 0h-2v-4h2v4z\"/>\n",
              "    </g>\n",
              "</svg>\n",
              "      </button>\n",
              "    </div>\n",
              "\n",
              "<style>\n",
              "  .colab-df-quickchart {\n",
              "    background-color: #E8F0FE;\n",
              "    border: none;\n",
              "    border-radius: 50%;\n",
              "    cursor: pointer;\n",
              "    display: none;\n",
              "    fill: #1967D2;\n",
              "    height: 32px;\n",
              "    padding: 0 0 0 0;\n",
              "    width: 32px;\n",
              "  }\n",
              "\n",
              "  .colab-df-quickchart:hover {\n",
              "    background-color: #E2EBFA;\n",
              "    box-shadow: 0px 1px 2px rgba(60, 64, 67, 0.3), 0px 1px 3px 1px rgba(60, 64, 67, 0.15);\n",
              "    fill: #174EA6;\n",
              "  }\n",
              "\n",
              "  [theme=dark] .colab-df-quickchart {\n",
              "    background-color: #3B4455;\n",
              "    fill: #D2E3FC;\n",
              "  }\n",
              "\n",
              "  [theme=dark] .colab-df-quickchart:hover {\n",
              "    background-color: #434B5C;\n",
              "    box-shadow: 0px 1px 3px 1px rgba(0, 0, 0, 0.15);\n",
              "    filter: drop-shadow(0px 1px 2px rgba(0, 0, 0, 0.3));\n",
              "    fill: #FFFFFF;\n",
              "  }\n",
              "</style>\n",
              "\n",
              "    <script>\n",
              "      async function quickchart(key) {\n",
              "        const containerElement = document.querySelector('#' + key);\n",
              "        const charts = await google.colab.kernel.invokeFunction(\n",
              "            'suggestCharts', [key], {});\n",
              "      }\n",
              "    </script>\n",
              "\n",
              "      <script>\n",
              "\n",
              "function displayQuickchartButton(domScope) {\n",
              "  let quickchartButtonEl =\n",
              "    domScope.querySelector('#df-6ae8710a-7e20-4aa6-8b88-7e85f31b3de2 button.colab-df-quickchart');\n",
              "  quickchartButtonEl.style.display =\n",
              "    google.colab.kernel.accessAllowed ? 'block' : 'none';\n",
              "}\n",
              "\n",
              "        displayQuickchartButton(document);\n",
              "      </script>\n",
              "      <style>\n",
              "    .colab-df-container {\n",
              "      display:flex;\n",
              "      flex-wrap:wrap;\n",
              "      gap: 12px;\n",
              "    }\n",
              "\n",
              "    .colab-df-convert {\n",
              "      background-color: #E8F0FE;\n",
              "      border: none;\n",
              "      border-radius: 50%;\n",
              "      cursor: pointer;\n",
              "      display: none;\n",
              "      fill: #1967D2;\n",
              "      height: 32px;\n",
              "      padding: 0 0 0 0;\n",
              "      width: 32px;\n",
              "    }\n",
              "\n",
              "    .colab-df-convert:hover {\n",
              "      background-color: #E2EBFA;\n",
              "      box-shadow: 0px 1px 2px rgba(60, 64, 67, 0.3), 0px 1px 3px 1px rgba(60, 64, 67, 0.15);\n",
              "      fill: #174EA6;\n",
              "    }\n",
              "\n",
              "    [theme=dark] .colab-df-convert {\n",
              "      background-color: #3B4455;\n",
              "      fill: #D2E3FC;\n",
              "    }\n",
              "\n",
              "    [theme=dark] .colab-df-convert:hover {\n",
              "      background-color: #434B5C;\n",
              "      box-shadow: 0px 1px 3px 1px rgba(0, 0, 0, 0.15);\n",
              "      filter: drop-shadow(0px 1px 2px rgba(0, 0, 0, 0.3));\n",
              "      fill: #FFFFFF;\n",
              "    }\n",
              "  </style>\n",
              "\n",
              "      <script>\n",
              "        const buttonEl =\n",
              "          document.querySelector('#df-baf09589-1857-4839-995a-135be20bd5ea button.colab-df-convert');\n",
              "        buttonEl.style.display =\n",
              "          google.colab.kernel.accessAllowed ? 'block' : 'none';\n",
              "\n",
              "        async function convertToInteractive(key) {\n",
              "          const element = document.querySelector('#df-baf09589-1857-4839-995a-135be20bd5ea');\n",
              "          const dataTable =\n",
              "            await google.colab.kernel.invokeFunction('convertToInteractive',\n",
              "                                                     [key], {});\n",
              "          if (!dataTable) return;\n",
              "\n",
              "          const docLinkHtml = 'Like what you see? Visit the ' +\n",
              "            '<a target=\"_blank\" href=https://colab.research.google.com/notebooks/data_table.ipynb>data table notebook</a>'\n",
              "            + ' to learn more about interactive tables.';\n",
              "          element.innerHTML = '';\n",
              "          dataTable['output_type'] = 'display_data';\n",
              "          await google.colab.output.renderOutput(dataTable, element);\n",
              "          const docLink = document.createElement('div');\n",
              "          docLink.innerHTML = docLinkHtml;\n",
              "          element.appendChild(docLink);\n",
              "        }\n",
              "      </script>\n",
              "    </div>\n",
              "  </div>\n"
            ]
          },
          "metadata": {},
          "execution_count": 348
        }
      ]
    },
    {
      "cell_type": "code",
      "source": [
        "tot_f_t5 = Tot_cst_15.iloc[:,1:].to_numpy().astype(float)\n",
        "imp_f_t5 = Imp_cst_15.iloc[:,1:].to_numpy().astype(float)\n",
        "tot_f_t0 = Tot_cst_10.iloc[:,1:].to_numpy().astype(float)\n",
        "imp_f_t0 = Imp_cst_10.iloc[:,1:].to_numpy().astype(float)"
      ],
      "metadata": {
        "id": "iLnVVmO2ltyU"
      },
      "execution_count": 349,
      "outputs": []
    },
    {
      "cell_type": "code",
      "source": [
        "S1 = tot_f_t5.astype(float)\n",
        "I1 = imp_f_t5.astype(float)\n",
        "S0 = tot_f_t0.astype(float)\n",
        "I0 = imp_f_t0.astype(float)\n",
        "S1.sum()"
      ],
      "metadata": {
        "id": "IkCgZrzulolb",
        "outputId": "7b726461-d9f7-40f2-ec5c-cc4c640992aa",
        "colab": {
          "base_uri": "https://localhost:8080/"
        }
      },
      "execution_count": 350,
      "outputs": [
        {
          "output_type": "execute_result",
          "data": {
            "text/plain": [
              "40931.6"
            ]
          },
          "metadata": {},
          "execution_count": 350
        }
      ]
    },
    {
      "cell_type": "code",
      "source": [
        "S1 = tot_f_t5.astype(float)\n",
        "I1 = imp_f_t5.astype(float)\n",
        "S0 = tot_f_t0.astype(float)\n",
        "I0 = imp_f_t0.astype(float)\n",
        "S1.sum()"
      ],
      "metadata": {
        "id": "wemue4OQ1Rtb",
        "outputId": "de3e93e2-df89-44df-e040-e4922edcf5e7",
        "colab": {
          "base_uri": "https://localhost:8080/"
        }
      },
      "execution_count": 351,
      "outputs": [
        {
          "output_type": "execute_result",
          "data": {
            "text/plain": [
              "40931.6"
            ]
          },
          "metadata": {},
          "execution_count": 351
        }
      ]
    },
    {
      "cell_type": "code",
      "source": [
        "SS1 = np.concatenate((S1[:8,],np.zeros((1,9)), S1[8:10,] ), axis=0)  # 2015년 부가가치 조정항을 0으로 삽입(2010년과 동일한 포맷을 유지하기 위함)"
      ],
      "metadata": {
        "id": "y8dIDFxvGyjf"
      },
      "execution_count": 352,
      "outputs": []
    },
    {
      "cell_type": "code",
      "source": [
        "SS0 = S0[0:3,0:3].astype(float)  # 내생항목 3x3\n",
        "SS1 = S1[0:3,0:3].astype(float)\n",
        "SS1.shape"
      ],
      "metadata": {
        "id": "GWivqhPhL5T7",
        "outputId": "92fe9485-a3eb-4bd7-b77e-99054885c663",
        "colab": {
          "base_uri": "https://localhost:8080/"
        }
      },
      "execution_count": 353,
      "outputs": [
        {
          "output_type": "execute_result",
          "data": {
            "text/plain": [
              "(3, 3)"
            ]
          },
          "metadata": {},
          "execution_count": 353
        }
      ]
    },
    {
      "cell_type": "code",
      "source": [
        "II0 = I0[0:3,0:3]  # 수입 내생항목 3x3\n",
        "II1 = I1[0:3,0:3]"
      ],
      "metadata": {
        "id": "7-RxwIZaeYt0"
      },
      "execution_count": 354,
      "outputs": []
    },
    {
      "cell_type": "code",
      "source": [
        "DD0 =SS0 - II0  # 국산 내생항목 3x3\n",
        "DD1 =SS1 - II1\n",
        "DD0"
      ],
      "metadata": {
        "id": "RCdnGfOpeYwS",
        "outputId": "51ac8792-a834-4e5b-8d0b-8b5413c62adf",
        "colab": {
          "base_uri": "https://localhost:8080/"
        }
      },
      "execution_count": 355,
      "outputs": [
        {
          "output_type": "execute_result",
          "data": {
            "text/plain": [
              "array([[  4.1,  29. ,   8.6],\n",
              "       [ 16.8, 510.3, 235.2],\n",
              "       [  5.4, 209.1, 427.3]])"
            ]
          },
          "metadata": {},
          "execution_count": 355
        }
      ]
    },
    {
      "cell_type": "code",
      "source": [
        "TM0 = I0[0:3,8]  # 총수입벡터\n",
        "TM1 = I1[0:3,8]\n",
        "TM0"
      ],
      "metadata": {
        "colab": {
          "base_uri": "https://localhost:8080/"
        },
        "id": "iJUj_ANLeYyy",
        "outputId": "cbe634d4-d606-417b-9b35-6474d978b108"
      },
      "execution_count": 356,
      "outputs": [
        {
          "output_type": "execute_result",
          "data": {
            "text/plain": [
              "array([  9.9, 417. ,  72.4])"
            ]
          },
          "metadata": {},
          "execution_count": 356
        }
      ]
    },
    {
      "cell_type": "code",
      "source": [
        "IM0 = I0[0:3,3]  # 중간재수입벡터\n",
        "IM1 = I1[0:3,3]\n",
        "IM0"
      ],
      "metadata": {
        "id": "MFuhXJf7eY05",
        "outputId": "e27fb1ac-265c-4c16-8581-6ff688e38ea7",
        "colab": {
          "base_uri": "https://localhost:8080/"
        }
      },
      "execution_count": 357,
      "outputs": [
        {
          "output_type": "execute_result",
          "data": {
            "text/plain": [
              "array([  7.7, 325.1,  48.3])"
            ]
          },
          "metadata": {},
          "execution_count": 357
        }
      ]
    },
    {
      "cell_type": "code",
      "source": [
        "IF0 = I0[0:3,7]  # 최종재수입벡터\n",
        "IF1 = I1[0:3,7]\n",
        "IF0"
      ],
      "metadata": {
        "colab": {
          "base_uri": "https://localhost:8080/"
        },
        "id": "pPQ8aPECeY3J",
        "outputId": "74ff9391-9f40-4c6b-aade-c1bf0c849fa3"
      },
      "execution_count": 358,
      "outputs": [
        {
          "output_type": "execute_result",
          "data": {
            "text/plain": [
              "array([ 2.2, 91.9, 24.1])"
            ]
          },
          "metadata": {},
          "execution_count": 358
        }
      ]
    },
    {
      "cell_type": "code",
      "source": [
        "SFC0 = S0[0:3,4]  # 최종수요-소비\n",
        "SFC1 = S1[0:3,4]\n",
        "SFC0"
      ],
      "metadata": {
        "colab": {
          "base_uri": "https://localhost:8080/"
        },
        "id": "PywPpOqreY5Q",
        "outputId": "e2058fc7-6f9e-4661-ff6e-9cf7f538525a"
      },
      "execution_count": 359,
      "outputs": [
        {
          "output_type": "execute_result",
          "data": {
            "text/plain": [
              "array([ 16.1, 166.5, 740.3])"
            ]
          },
          "metadata": {},
          "execution_count": 359
        }
      ]
    },
    {
      "cell_type": "code",
      "source": [
        "SFI0 = S0[0:3,5] # 최종수요-투자\n",
        "SFI1 = S1[0:3,5]\n",
        "SFI0"
      ],
      "metadata": {
        "colab": {
          "base_uri": "https://localhost:8080/"
        },
        "id": "Ix970H04eY7n",
        "outputId": "02ac8673-6062-46e2-f7e0-7f50f59c8259"
      },
      "execution_count": 360,
      "outputs": [
        {
          "output_type": "execute_result",
          "data": {
            "text/plain": [
              "array([  2.7, 137.5, 310.4])"
            ]
          },
          "metadata": {},
          "execution_count": 360
        }
      ]
    },
    {
      "cell_type": "code",
      "source": [
        "SF0 = S0[0:3,7] # 최종수요합계\n",
        "SF1 = S1[0:3,7]\n",
        "SF0"
      ],
      "metadata": {
        "colab": {
          "base_uri": "https://localhost:8080/"
        },
        "id": "B65fDULHCBh8",
        "outputId": "a80ab9a5-7abb-48f5-ac8a-475064d82339"
      },
      "execution_count": 361,
      "outputs": [
        {
          "output_type": "execute_result",
          "data": {
            "text/plain": [
              "array([  19.6,  760.5, 1129.2])"
            ]
          },
          "metadata": {},
          "execution_count": 361
        }
      ]
    },
    {
      "cell_type": "code",
      "source": [
        "EX0 = S0[0:3,6] # 수출\n",
        "EX1 = S1[0:3,6]\n",
        "EX0"
      ],
      "metadata": {
        "colab": {
          "base_uri": "https://localhost:8080/"
        },
        "id": "iA373XRaCBke",
        "outputId": "45088505-9002-4ab8-a149-064b71182740"
      },
      "execution_count": 362,
      "outputs": [
        {
          "output_type": "execute_result",
          "data": {
            "text/plain": [
              "array([  0.8, 456.5,  78.5])"
            ]
          },
          "metadata": {},
          "execution_count": 362
        }
      ]
    },
    {
      "cell_type": "code",
      "source": [
        "DF0 = SF0 - EX0 #소비+투자\n",
        "DF1 = SF1 - EX1\n",
        "DF0"
      ],
      "metadata": {
        "id": "-TSTMCf-CBm-",
        "outputId": "72690c27-e078-4c9f-bca5-64ccfe76951a",
        "colab": {
          "base_uri": "https://localhost:8080/"
        }
      },
      "execution_count": 363,
      "outputs": [
        {
          "output_type": "execute_result",
          "data": {
            "text/plain": [
              "array([  18.8,  304. , 1050.7])"
            ]
          },
          "metadata": {},
          "execution_count": 363
        }
      ]
    },
    {
      "cell_type": "code",
      "source": [
        "SFC00 = SFC0.sum(axis=0) # 소비합계\n",
        "SFC11 = SFC1.sum(axis=0)\n",
        "\n",
        "SFI00 = SFI0.sum(axis=0) # 투자합계\n",
        "SFI11 = SFI1.sum(axis=0)\n",
        "\n",
        "EX00 = EX0.sum(axis=0) # 수출합계\n",
        "EX11 = EX1.sum(axis=0)\n",
        "\n",
        "print('2010년 소비합계 : ', SFC00)\n",
        "print('2015년 소비합계 : ', SFC11)\n",
        "\n",
        "print('2010년 투자합계 : ', SFI00)\n",
        "print('2015년 투자합계 : ', SFI11)\n",
        "\n",
        "print('2010년 수출합계 : ', EX00)\n",
        "print('2015년 수출합계 : ', EX11)\n"
      ],
      "metadata": {
        "colab": {
          "base_uri": "https://localhost:8080/"
        },
        "id": "bsUg2RmYELiu",
        "outputId": "3fe287ae-5a70-40c9-dc3d-51650c75647a"
      },
      "execution_count": 364,
      "outputs": [
        {
          "output_type": "stream",
          "name": "stdout",
          "text": [
            "2010년 소비합계 :  922.9\n",
            "2015년 소비합계 :  1054.9\n",
            "2010년 투자합계 :  450.59999999999997\n",
            "2015년 투자합계 :  489.7\n",
            "2010년 수출합계 :  535.8\n",
            "2015년 수출합계 :  716.9000000000001\n"
          ]
        }
      ]
    },
    {
      "cell_type": "code",
      "source": [
        "GDC1 = ((SFC11 - SFC00)/ SFC00) # 소비증가율\n",
        "GDC2 = GDC1*SFC0  # 규모효과\n",
        "GDC3 = (SFC1-SFC0) - GDC2 # 구조효과"
      ],
      "metadata": {
        "id": "44Dv7WlvELla"
      },
      "execution_count": 365,
      "outputs": []
    },
    {
      "cell_type": "code",
      "source": [
        "GDI1 = ((SFI11 - SFI00)/ SFI00) # 투자증가율\n",
        "GDI2 = GDI1*SFI0 # 규모효과\n",
        "GDI3 = (SFI1-SFI0) - GDI2 # 구조효과"
      ],
      "metadata": {
        "id": "kUvW8c4mELn3"
      },
      "execution_count": 366,
      "outputs": []
    },
    {
      "cell_type": "code",
      "source": [
        "ED1 = ((EX11 - EX00)/EX00) # 수출증가율\n",
        "ED2 = ED1*EX0 # 규모효과\n",
        "ED3 = (EX1-EX0) - ED2 # 구조효과"
      ],
      "metadata": {
        "id": "HOEfWHa4ELqN"
      },
      "execution_count": 367,
      "outputs": []
    },
    {
      "cell_type": "code",
      "source": [
        "C0 = S0[-1,0:3].T.reshape([3,1])  # 총산출액\n",
        "C1 = S1[-1,0:3].T.reshape([3,1])\n",
        "C0"
      ],
      "metadata": {
        "colab": {
          "base_uri": "https://localhost:8080/"
        },
        "id": "iZ80_uBiELtF",
        "outputId": "9adaf789-8b3a-44eb-e295-e14ea9acdacd"
      },
      "execution_count": 368,
      "outputs": [
        {
          "output_type": "execute_result",
          "data": {
            "text/plain": [
              "array([[  59.1],\n",
              "       [1430.9],\n",
              "       [1746.9]])"
            ]
          },
          "metadata": {},
          "execution_count": 368
        }
      ]
    },
    {
      "cell_type": "code",
      "source": [
        "TC0 = C0.sum(axis=0)  #총산출계\n",
        "TC1 = C1.sum(axis=0)\n",
        "TC0"
      ],
      "metadata": {
        "id": "P83r7vKxELvb",
        "outputId": "b51afb67-109f-4e8a-d5a9-7c6941c62d3c",
        "colab": {
          "base_uri": "https://localhost:8080/"
        }
      },
      "execution_count": 369,
      "outputs": [
        {
          "output_type": "execute_result",
          "data": {
            "text/plain": [
              "array([3236.9])"
            ]
          },
          "metadata": {},
          "execution_count": 369
        }
      ]
    },
    {
      "cell_type": "code",
      "source": [
        "V0 = S0[-1,0:3].T - S0[3,0:3].T # 부가가치계벡터 = 총투입액 - 중간투입계\n",
        "V1 = S1[-1,0:3].T - S1[3,0:3].T\n",
        "V1"
      ],
      "metadata": {
        "colab": {
          "base_uri": "https://localhost:8080/"
        },
        "id": "JNBtafCsELyF",
        "outputId": "f73a6c76-b72b-465a-fe5b-ac5c34381a55"
      },
      "execution_count": 370,
      "outputs": [
        {
          "output_type": "execute_result",
          "data": {
            "text/plain": [
              "array([  33.1,  485.1, 1119.3])"
            ]
          },
          "metadata": {},
          "execution_count": 370
        }
      ]
    },
    {
      "cell_type": "code",
      "source": [
        "AV0 = V0/C0 # 부가가치계수\n",
        "AV1 = V1/C1\n",
        "AV1"
      ],
      "metadata": {
        "id": "0J-f-kPxEL0Z",
        "outputId": "7299964d-8845-4bf2-a8b5-61f7fb3fb37e",
        "colab": {
          "base_uri": "https://localhost:8080/"
        }
      },
      "execution_count": 371,
      "outputs": [
        {
          "output_type": "execute_result",
          "data": {
            "text/plain": [
              "array([[ 0.54 ,  7.914, 18.259],\n",
              "       [ 0.019,  0.284,  0.654],\n",
              "       [ 0.016,  0.236,  0.544]])"
            ]
          },
          "metadata": {},
          "execution_count": 371
        }
      ]
    },
    {
      "cell_type": "code",
      "source": [
        "C0"
      ],
      "metadata": {
        "id": "NYG3cs0WeVmq",
        "outputId": "f2dd9ee7-5f9b-4ed7-ee0d-7c177b507eb3",
        "colab": {
          "base_uri": "https://localhost:8080/"
        }
      },
      "execution_count": 372,
      "outputs": [
        {
          "output_type": "execute_result",
          "data": {
            "text/plain": [
              "array([[  59.1],\n",
              "       [1430.9],\n",
              "       [1746.9]])"
            ]
          },
          "metadata": {},
          "execution_count": 372
        }
      ]
    },
    {
      "cell_type": "code",
      "source": [
        "CT0 = np.tile(C0, reps=[1,3])   # Ct벡터를 반복해여 행렬(3x3)로 만듬\n",
        "CT1 = np.tile(C1, reps=[1,3])\n",
        "CT1"
      ],
      "metadata": {
        "colab": {
          "base_uri": "https://localhost:8080/"
        },
        "id": "9dGIXvcTEL3B",
        "outputId": "00e80ce0-e9e0-48b9-f9cf-c90a0e1822de"
      },
      "execution_count": 373,
      "outputs": [
        {
          "output_type": "execute_result",
          "data": {
            "text/plain": [
              "array([[  61.3,   61.3,   61.3],\n",
              "       [1711.1, 1711.1, 1711.1],\n",
              "       [2057.3, 2057.3, 2057.3]])"
            ]
          },
          "metadata": {},
          "execution_count": 373
        }
      ]
    },
    {
      "cell_type": "code",
      "source": [
        "AS0 = SS0/CT0.T # 총투입계수표\n",
        "AS1 = SS1/CT1.T\n",
        "# np.isnan(AS_t)"
      ],
      "metadata": {
        "id": "NCE7a-1dgP2f"
      },
      "execution_count": 374,
      "outputs": []
    },
    {
      "cell_type": "code",
      "source": [
        "AD0 = DD0/CT0.T # 국산투입계수표\n",
        "AD1 = DD1/CT1.T"
      ],
      "metadata": {
        "id": "tWvEJKQJi9Lt"
      },
      "execution_count": 375,
      "outputs": []
    },
    {
      "cell_type": "code",
      "source": [
        "II0 = AS0-AD0 # 수입투입계수표\n",
        "II1 = AS1-AD1"
      ],
      "metadata": {
        "id": "YaT-6Loqi9OR"
      },
      "execution_count": 376,
      "outputs": []
    },
    {
      "cell_type": "code",
      "source": [
        "M0 = IF0/DF0 # 수입최종수요/(소비+투자)\n",
        "M0 = np.diag(M0)\n",
        "\n",
        "M1 = IF1/DF1\n",
        "M1 = np.diag(M1)"
      ],
      "metadata": {
        "id": "w-ShpkV7i9QY"
      },
      "execution_count": 377,
      "outputs": []
    },
    {
      "cell_type": "code",
      "source": [
        "RD0 = np.linalg.inv(np.eye(3) - AD0) # 생산유발계수\n",
        "RD1 = np.linalg.inv(np.eye(3) - AD1)"
      ],
      "metadata": {
        "id": "y5HiakVIi9Sk"
      },
      "execution_count": 378,
      "outputs": []
    },
    {
      "cell_type": "code",
      "source": [
        "AM0 = II0/AS0 #조정항목\n",
        "AM0 = AM0*AS1\n",
        "\n",
        "AM1 = II1/AS1\n",
        "AM1 = AM1*AS0\n",
        "\n",
        "# np.nan_to_num(AM0, copy=False)\n",
        "# np.nan_to_num(AM1, copy=False)"
      ],
      "metadata": {
        "id": "-62Wibedi9U7"
      },
      "execution_count": 379,
      "outputs": []
    },
    {
      "cell_type": "code",
      "source": [
        "AA = AS1 - AS0 #투입계수변화\n",
        "AS1_f = pd.DataFrame(AS1)\n",
        "AS1_f.to_csv('AS1_f.csv')"
      ],
      "metadata": {
        "id": "oaRIccJKinqc"
      },
      "execution_count": 380,
      "outputs": []
    },
    {
      "cell_type": "markdown",
      "source": [
        "#### 산출액성장요인분해\n",
        "-  파쉐 및 라스파이레스 방식으로 산출액 변동을 분해하여 평균으로 성장요인을 분해\n",
        "- 파쉐 방식"
      ],
      "metadata": {
        "id": "LtkcJ9Pasrzo"
      }
    },
    {
      "cell_type": "code",
      "source": [
        "# TC1 = ((RD1@(np.eye(3)-M1))@GDC2).reshape([3,1])  # 소비규모증가효과\n",
        "# TC11 = ((RD1@(np.eye(3)-M1))@GDC3).reshape([3,1]) # 소비구조증가효과\n",
        "# TCTD = TC1 + TC11\n",
        "# TC111 = np.concatenate((TCTD, TC1, TC11), axis=1)\n",
        "# # TC111"
      ],
      "metadata": {
        "id": "KMvKjFJ0q19V"
      },
      "execution_count": 381,
      "outputs": []
    },
    {
      "cell_type": "code",
      "source": [
        "# TI1 = ((RD1@(np.eye(3)-M1))@GDI2).reshape([3,1])  # 소비규모증가효과\n",
        "# TI11 = ((RD1@(np.eye(3)-M1))@GDI3).reshape([3,1]) # 소비구조증가효과\n",
        "# TITD = TI1 + TI11\n",
        "# TI111 = np.concatenate((TITD, TI1, TI11), axis=1)"
      ],
      "metadata": {
        "id": "WkSQSCLhul8x"
      },
      "execution_count": 382,
      "outputs": []
    },
    {
      "cell_type": "code",
      "source": [
        "# TQ = TC1+TI1 # 국내최종수요규모증가효과\n",
        "# TS = TC11+TI11 # 국내최종수요규조변화효과\n",
        "# TQS = TQ+TS\n",
        "# T1 = np.concatenate((TQS, TQ, TS), axis=1)\n",
        "# T1.shape\n",
        "# TQS/1000000"
      ],
      "metadata": {
        "id": "Wmq1H3tuumAB"
      },
      "execution_count": 383,
      "outputs": []
    },
    {
      "cell_type": "code",
      "source": [
        "TQS=(RD1@(np.eye(3)-M1))@(DF1-DF0).reshape([3,1])\n",
        "# TQS/1000000"
      ],
      "metadata": {
        "id": "T_QjnyZMoiuP"
      },
      "execution_count": 384,
      "outputs": []
    },
    {
      "cell_type": "code",
      "source": [
        "TTE= RD1@(EX1-EX0).reshape([3,1]) # 수출효과\n",
        "# TTE/1000000"
      ],
      "metadata": {
        "id": "nmovAWzbpGbo"
      },
      "execution_count": 385,
      "outputs": []
    },
    {
      "cell_type": "code",
      "source": [
        "T3 = ((RD1@(M1 - M0))@DF0).reshape([3,1]) # 최종재수입대체효과\n",
        "T3 = T3*-1\n",
        "T4 = ((RD1@(AM1 - II0)))@C0[0:3,] # 중간재수입대체효과\n",
        "T4 = T4*-1\n",
        "T34 = T3 + T4\n",
        "TI = np.concatenate((T34, T3, T4), axis=1)\n",
        "T4"
      ],
      "metadata": {
        "id": "8Mr7oaogtKuC",
        "outputId": "571c4ca4-3535-4aa4-e756-8d574e38a619",
        "colab": {
          "base_uri": "https://localhost:8080/"
        }
      },
      "execution_count": 386,
      "outputs": [
        {
          "output_type": "execute_result",
          "data": {
            "text/plain": [
              "array([[ -1.329],\n",
              "       [-24.753],\n",
              "       [ -8.583]])"
            ]
          },
          "metadata": {},
          "execution_count": 386
        }
      ]
    },
    {
      "cell_type": "code",
      "source": [
        "T5 = (RD1@(AA-(II1-AM1)))@C0 # 기술변화효과\n",
        "T5.shape\n",
        "T5"
      ],
      "metadata": {
        "id": "iHLeIimfRbIu",
        "outputId": "82e07a83-2ae6-41f9-a3d4-001ded39759e",
        "colab": {
          "base_uri": "https://localhost:8080/"
        }
      },
      "execution_count": 387,
      "outputs": [
        {
          "output_type": "execute_result",
          "data": {
            "text/plain": [
              "array([[-2.794],\n",
              "       [ 6.75 ],\n",
              "       [30.728]])"
            ]
          },
          "metadata": {},
          "execution_count": 387
        }
      ]
    },
    {
      "cell_type": "code",
      "source": [
        "DCT0 = C1-C0  #산출액 실질변동액\n",
        "DCT1 = TQS + TTE + T3 + T4 + T5 # 총변동요인\n",
        "DCT = DCT0-DCT1"
      ],
      "metadata": {
        "id": "-bGGgsUDHQ79"
      },
      "execution_count": 388,
      "outputs": []
    },
    {
      "cell_type": "code",
      "source": [
        "SUM = np.concatenate((DCT0, DCT1, DCT, TQS, TTE, T3, T4, T5), axis=1)\n",
        "SUM.shape\n",
        "SUM1 = np.sum(SUM, axis=0).reshape([1,8])\n",
        "PGD1015_f = (np.concatenate((SUM, SUM1), axis=0))\n",
        "# PGD1015_f = (PGD1015/1000).round(1)\n",
        "# PGD1015_f"
      ],
      "metadata": {
        "id": "vVUQoAshMJJU"
      },
      "execution_count": 389,
      "outputs": []
    },
    {
      "cell_type": "code",
      "source": [
        "PGD1015_ff = pd.DataFrame((PGD1015_f).round(3),columns = ['15-10산출액(A)', '요인별합계(B)', 'B-A', '국내최종수요증감액', '수출', '최종재수입','중간재수입', '기술변화'],\n",
        "\n",
        "                         index=['농산품', '공산품', '서비스', '계'])  # pandas로 내보내기"
      ],
      "metadata": {
        "id": "RGtoWYTD2Lhw"
      },
      "execution_count": 390,
      "outputs": []
    },
    {
      "cell_type": "code",
      "source": [
        "PGD1015_ff"
      ],
      "metadata": {
        "id": "Fk9Z5m7G8oxT",
        "outputId": "4bcaac03-798b-48cb-8e00-a522131fc078",
        "colab": {
          "base_uri": "https://localhost:8080/",
          "height": 175
        }
      },
      "execution_count": 391,
      "outputs": [
        {
          "output_type": "execute_result",
          "data": {
            "text/plain": [
              "     15-10산출액(A)  요인별합계(B)  B-A  국내최종수요증감액       수출   최종재수입   중간재수입    기술변화\n",
              "농산품          2.2       2.2 -0.0      2.290    5.241  -1.209  -1.329  -2.794\n",
              "공산품        280.2     280.2 -0.0     61.596  256.910 -20.304 -24.753   6.750\n",
              "서비스        310.4     310.4  0.0    214.542   86.793 -13.081  -8.583  30.728\n",
              "계          592.8     592.8  0.0    278.428  348.944 -34.593 -34.664  34.685"
            ],
            "text/html": [
              "\n",
              "\n",
              "  <div id=\"df-1bb34c2f-b299-4ee8-9317-2f18075627a0\">\n",
              "    <div class=\"colab-df-container\">\n",
              "      <div>\n",
              "<style scoped>\n",
              "    .dataframe tbody tr th:only-of-type {\n",
              "        vertical-align: middle;\n",
              "    }\n",
              "\n",
              "    .dataframe tbody tr th {\n",
              "        vertical-align: top;\n",
              "    }\n",
              "\n",
              "    .dataframe thead th {\n",
              "        text-align: right;\n",
              "    }\n",
              "</style>\n",
              "<table border=\"1\" class=\"dataframe\">\n",
              "  <thead>\n",
              "    <tr style=\"text-align: right;\">\n",
              "      <th></th>\n",
              "      <th>15-10산출액(A)</th>\n",
              "      <th>요인별합계(B)</th>\n",
              "      <th>B-A</th>\n",
              "      <th>국내최종수요증감액</th>\n",
              "      <th>수출</th>\n",
              "      <th>최종재수입</th>\n",
              "      <th>중간재수입</th>\n",
              "      <th>기술변화</th>\n",
              "    </tr>\n",
              "  </thead>\n",
              "  <tbody>\n",
              "    <tr>\n",
              "      <th>농산품</th>\n",
              "      <td>2.2</td>\n",
              "      <td>2.2</td>\n",
              "      <td>-0.0</td>\n",
              "      <td>2.290</td>\n",
              "      <td>5.241</td>\n",
              "      <td>-1.209</td>\n",
              "      <td>-1.329</td>\n",
              "      <td>-2.794</td>\n",
              "    </tr>\n",
              "    <tr>\n",
              "      <th>공산품</th>\n",
              "      <td>280.2</td>\n",
              "      <td>280.2</td>\n",
              "      <td>-0.0</td>\n",
              "      <td>61.596</td>\n",
              "      <td>256.910</td>\n",
              "      <td>-20.304</td>\n",
              "      <td>-24.753</td>\n",
              "      <td>6.750</td>\n",
              "    </tr>\n",
              "    <tr>\n",
              "      <th>서비스</th>\n",
              "      <td>310.4</td>\n",
              "      <td>310.4</td>\n",
              "      <td>0.0</td>\n",
              "      <td>214.542</td>\n",
              "      <td>86.793</td>\n",
              "      <td>-13.081</td>\n",
              "      <td>-8.583</td>\n",
              "      <td>30.728</td>\n",
              "    </tr>\n",
              "    <tr>\n",
              "      <th>계</th>\n",
              "      <td>592.8</td>\n",
              "      <td>592.8</td>\n",
              "      <td>0.0</td>\n",
              "      <td>278.428</td>\n",
              "      <td>348.944</td>\n",
              "      <td>-34.593</td>\n",
              "      <td>-34.664</td>\n",
              "      <td>34.685</td>\n",
              "    </tr>\n",
              "  </tbody>\n",
              "</table>\n",
              "</div>\n",
              "      <button class=\"colab-df-convert\" onclick=\"convertToInteractive('df-1bb34c2f-b299-4ee8-9317-2f18075627a0')\"\n",
              "              title=\"Convert this dataframe to an interactive table.\"\n",
              "              style=\"display:none;\">\n",
              "\n",
              "  <svg xmlns=\"http://www.w3.org/2000/svg\" height=\"24px\"viewBox=\"0 0 24 24\"\n",
              "       width=\"24px\">\n",
              "    <path d=\"M0 0h24v24H0V0z\" fill=\"none\"/>\n",
              "    <path d=\"M18.56 5.44l.94 2.06.94-2.06 2.06-.94-2.06-.94-.94-2.06-.94 2.06-2.06.94zm-11 1L8.5 8.5l.94-2.06 2.06-.94-2.06-.94L8.5 2.5l-.94 2.06-2.06.94zm10 10l.94 2.06.94-2.06 2.06-.94-2.06-.94-.94-2.06-.94 2.06-2.06.94z\"/><path d=\"M17.41 7.96l-1.37-1.37c-.4-.4-.92-.59-1.43-.59-.52 0-1.04.2-1.43.59L10.3 9.45l-7.72 7.72c-.78.78-.78 2.05 0 2.83L4 21.41c.39.39.9.59 1.41.59.51 0 1.02-.2 1.41-.59l7.78-7.78 2.81-2.81c.8-.78.8-2.07 0-2.86zM5.41 20L4 18.59l7.72-7.72 1.47 1.35L5.41 20z\"/>\n",
              "  </svg>\n",
              "      </button>\n",
              "\n",
              "\n",
              "\n",
              "    <div id=\"df-f653205a-fb9d-43cc-822a-05b91a197659\">\n",
              "      <button class=\"colab-df-quickchart\" onclick=\"quickchart('df-f653205a-fb9d-43cc-822a-05b91a197659')\"\n",
              "              title=\"Suggest charts.\"\n",
              "              style=\"display:none;\">\n",
              "\n",
              "<svg xmlns=\"http://www.w3.org/2000/svg\" height=\"24px\"viewBox=\"0 0 24 24\"\n",
              "     width=\"24px\">\n",
              "    <g>\n",
              "        <path d=\"M19 3H5c-1.1 0-2 .9-2 2v14c0 1.1.9 2 2 2h14c1.1 0 2-.9 2-2V5c0-1.1-.9-2-2-2zM9 17H7v-7h2v7zm4 0h-2V7h2v10zm4 0h-2v-4h2v4z\"/>\n",
              "    </g>\n",
              "</svg>\n",
              "      </button>\n",
              "    </div>\n",
              "\n",
              "<style>\n",
              "  .colab-df-quickchart {\n",
              "    background-color: #E8F0FE;\n",
              "    border: none;\n",
              "    border-radius: 50%;\n",
              "    cursor: pointer;\n",
              "    display: none;\n",
              "    fill: #1967D2;\n",
              "    height: 32px;\n",
              "    padding: 0 0 0 0;\n",
              "    width: 32px;\n",
              "  }\n",
              "\n",
              "  .colab-df-quickchart:hover {\n",
              "    background-color: #E2EBFA;\n",
              "    box-shadow: 0px 1px 2px rgba(60, 64, 67, 0.3), 0px 1px 3px 1px rgba(60, 64, 67, 0.15);\n",
              "    fill: #174EA6;\n",
              "  }\n",
              "\n",
              "  [theme=dark] .colab-df-quickchart {\n",
              "    background-color: #3B4455;\n",
              "    fill: #D2E3FC;\n",
              "  }\n",
              "\n",
              "  [theme=dark] .colab-df-quickchart:hover {\n",
              "    background-color: #434B5C;\n",
              "    box-shadow: 0px 1px 3px 1px rgba(0, 0, 0, 0.15);\n",
              "    filter: drop-shadow(0px 1px 2px rgba(0, 0, 0, 0.3));\n",
              "    fill: #FFFFFF;\n",
              "  }\n",
              "</style>\n",
              "\n",
              "    <script>\n",
              "      async function quickchart(key) {\n",
              "        const containerElement = document.querySelector('#' + key);\n",
              "        const charts = await google.colab.kernel.invokeFunction(\n",
              "            'suggestCharts', [key], {});\n",
              "      }\n",
              "    </script>\n",
              "\n",
              "      <script>\n",
              "\n",
              "function displayQuickchartButton(domScope) {\n",
              "  let quickchartButtonEl =\n",
              "    domScope.querySelector('#df-f653205a-fb9d-43cc-822a-05b91a197659 button.colab-df-quickchart');\n",
              "  quickchartButtonEl.style.display =\n",
              "    google.colab.kernel.accessAllowed ? 'block' : 'none';\n",
              "}\n",
              "\n",
              "        displayQuickchartButton(document);\n",
              "      </script>\n",
              "      <style>\n",
              "    .colab-df-container {\n",
              "      display:flex;\n",
              "      flex-wrap:wrap;\n",
              "      gap: 12px;\n",
              "    }\n",
              "\n",
              "    .colab-df-convert {\n",
              "      background-color: #E8F0FE;\n",
              "      border: none;\n",
              "      border-radius: 50%;\n",
              "      cursor: pointer;\n",
              "      display: none;\n",
              "      fill: #1967D2;\n",
              "      height: 32px;\n",
              "      padding: 0 0 0 0;\n",
              "      width: 32px;\n",
              "    }\n",
              "\n",
              "    .colab-df-convert:hover {\n",
              "      background-color: #E2EBFA;\n",
              "      box-shadow: 0px 1px 2px rgba(60, 64, 67, 0.3), 0px 1px 3px 1px rgba(60, 64, 67, 0.15);\n",
              "      fill: #174EA6;\n",
              "    }\n",
              "\n",
              "    [theme=dark] .colab-df-convert {\n",
              "      background-color: #3B4455;\n",
              "      fill: #D2E3FC;\n",
              "    }\n",
              "\n",
              "    [theme=dark] .colab-df-convert:hover {\n",
              "      background-color: #434B5C;\n",
              "      box-shadow: 0px 1px 3px 1px rgba(0, 0, 0, 0.15);\n",
              "      filter: drop-shadow(0px 1px 2px rgba(0, 0, 0, 0.3));\n",
              "      fill: #FFFFFF;\n",
              "    }\n",
              "  </style>\n",
              "\n",
              "      <script>\n",
              "        const buttonEl =\n",
              "          document.querySelector('#df-1bb34c2f-b299-4ee8-9317-2f18075627a0 button.colab-df-convert');\n",
              "        buttonEl.style.display =\n",
              "          google.colab.kernel.accessAllowed ? 'block' : 'none';\n",
              "\n",
              "        async function convertToInteractive(key) {\n",
              "          const element = document.querySelector('#df-1bb34c2f-b299-4ee8-9317-2f18075627a0');\n",
              "          const dataTable =\n",
              "            await google.colab.kernel.invokeFunction('convertToInteractive',\n",
              "                                                     [key], {});\n",
              "          if (!dataTable) return;\n",
              "\n",
              "          const docLinkHtml = 'Like what you see? Visit the ' +\n",
              "            '<a target=\"_blank\" href=https://colab.research.google.com/notebooks/data_table.ipynb>data table notebook</a>'\n",
              "            + ' to learn more about interactive tables.';\n",
              "          element.innerHTML = '';\n",
              "          dataTable['output_type'] = 'display_data';\n",
              "          await google.colab.output.renderOutput(dataTable, element);\n",
              "          const docLink = document.createElement('div');\n",
              "          docLink.innerHTML = docLinkHtml;\n",
              "          element.appendChild(docLink);\n",
              "        }\n",
              "      </script>\n",
              "    </div>\n",
              "  </div>\n"
            ]
          },
          "metadata": {},
          "execution_count": 391
        }
      ]
    },
    {
      "cell_type": "markdown",
      "source": [
        "- 라스파이레스식"
      ],
      "metadata": {
        "id": "7i4sY1gJcINT"
      }
    },
    {
      "cell_type": "code",
      "source": [
        "# TC1 = ((RD0@(np.eye(3)-M0))@GDC2).reshape([3,1])  # 소비규모증가효과\n",
        "# TC11 = ((RD0@(np.eye(3)-M0))@GDC3).reshape([3,1]) # 소비구조증가효과\n",
        "# TCTD = TC1 + TC11\n",
        "# TC111 = np.concatenate((TCTD, TC1, TC11), axis=1)\n",
        "# # TC111"
      ],
      "metadata": {
        "id": "auUgn5-RcMWR"
      },
      "execution_count": 392,
      "outputs": []
    },
    {
      "cell_type": "code",
      "source": [
        "# TI1 = ((RD0@(np.eye(3)-M0))@GDI2).reshape([3,1])  # 소비규모증가효과\n",
        "# TI11 = ((RD0@(np.eye(3)-M0))@GDI3).reshape([3,1]) # 소비구조증가효과\n",
        "# TITD = TI1 + TI11\n",
        "# TI111 = np.concatenate((TITD, TI1, TI11), axis=1)"
      ],
      "metadata": {
        "id": "1ewco-BJcMdU"
      },
      "execution_count": 393,
      "outputs": []
    },
    {
      "cell_type": "code",
      "source": [
        "# TQ = TC1+TI1 # 국내최종수요규모증가효과\n",
        "# TS = TC11+TI11 # 국내최종수요규조변화효과\n",
        "# TQS = TQ+TS\n",
        "# T1 = np.concatenate((TQS, TQ, TS), axis=1)\n",
        "# T1.shape"
      ],
      "metadata": {
        "id": "qTVE4MAucMfx"
      },
      "execution_count": 394,
      "outputs": []
    },
    {
      "cell_type": "code",
      "source": [
        "TQS=(RD0@(np.eye(3)-M0))@(DF1-DF0).reshape([3,1])\n",
        "# TQS/1000000"
      ],
      "metadata": {
        "id": "TvYnKOjcJThh"
      },
      "execution_count": 395,
      "outputs": []
    },
    {
      "cell_type": "code",
      "source": [
        "T2 = (RD0@ED2).reshape([3,1]) # 수출규모증가효과\n",
        "T22 = (RD0@ED3) .reshape([3,1])# 수출구조변화효과\n",
        "TTE = T2+T22\n",
        "T2 = np.concatenate((TTE, T2, T22), axis=1)"
      ],
      "metadata": {
        "id": "xyDlPnJhcMiH"
      },
      "execution_count": 396,
      "outputs": []
    },
    {
      "cell_type": "code",
      "source": [
        "TTE= RD0@(EX1-EX0).reshape([3,1]) # 수출효과\n",
        "# TTE/1000000"
      ],
      "metadata": {
        "id": "R9KmAkaLKBjJ"
      },
      "execution_count": 397,
      "outputs": []
    },
    {
      "cell_type": "code",
      "source": [
        "T3 = ((RD0@(M1 - M0))@DF1).reshape([3,1]) # 최종재수입대체효과\n",
        "T3 = T3*-1\n",
        "T4 = ((RD0@(II1 - AM0)))@C1[0:3,] # 중간재수입대체효과\n",
        "T4 = T4*-1\n",
        "T34 = T3 + T4\n",
        "TI = np.concatenate((T34, T3, T4), axis=1)\n",
        "TI"
      ],
      "metadata": {
        "id": "sR9v8MxJcMkd",
        "outputId": "1c9c1257-5d7b-4f79-f31f-f25c12b8778f",
        "colab": {
          "base_uri": "https://localhost:8080/"
        }
      },
      "execution_count": 398,
      "outputs": [
        {
          "output_type": "execute_result",
          "data": {
            "text/plain": [
              "array([[ -2.911,  -1.318,  -1.593],\n",
              "       [-51.752, -21.871, -29.88 ],\n",
              "       [-24.727, -14.517, -10.21 ]])"
            ]
          },
          "metadata": {},
          "execution_count": 398
        }
      ]
    },
    {
      "cell_type": "code",
      "source": [
        "T5 = (RD0@(AA-(AM0-II0)))@C1 # 기술변화효과\n",
        "T5.shape\n",
        "T5"
      ],
      "metadata": {
        "id": "Cwb2JGDGcMmw",
        "outputId": "87d29f78-ed1e-47e5-8d2b-51227c8554ec",
        "colab": {
          "base_uri": "https://localhost:8080/"
        }
      },
      "execution_count": 399,
      "outputs": [
        {
          "output_type": "execute_result",
          "data": {
            "text/plain": [
              "array([[-3.326],\n",
              "       [ 8.057],\n",
              "       [35.48 ]])"
            ]
          },
          "metadata": {},
          "execution_count": 399
        }
      ]
    },
    {
      "cell_type": "code",
      "source": [
        "SUM = np.concatenate((DCT0, DCT1, DCT, TQS, TTE, T3, T4, T5), axis=1)\n",
        "SUM.shape\n",
        "SUM1 = np.sum(SUM, axis=0).reshape([1,8])\n",
        "LGD1015_f = (np.concatenate((SUM, SUM1), axis=0))\n",
        "# LGD1015_f = (LGD1015/1000).round(1)\n",
        "LGD1015_f"
      ],
      "metadata": {
        "id": "6VxXq09PcMrM",
        "outputId": "8c72e88a-7247-4e20-d9d8-9b67e3ab4add",
        "colab": {
          "base_uri": "https://localhost:8080/"
        }
      },
      "execution_count": 400,
      "outputs": [
        {
          "output_type": "execute_result",
          "data": {
            "text/plain": [
              "array([[  2.2  ,   2.2  ,  -0.   ,   2.411,   6.026,  -1.318,  -1.593,\n",
              "         -3.326],\n",
              "       [280.2  , 280.2  ,  -0.   ,  63.378, 260.516, -21.871, -29.88 ,\n",
              "          8.057],\n",
              "       [310.4  , 310.4  ,   0.   , 212.778,  86.869, -14.517, -10.21 ,\n",
              "         35.48 ],\n",
              "       [592.8  , 592.8  ,   0.   , 278.567, 353.411, -37.706, -41.683,\n",
              "         40.212]])"
            ]
          },
          "metadata": {},
          "execution_count": 400
        }
      ]
    },
    {
      "cell_type": "code",
      "source": [
        "LGD1015_ff = pd.DataFrame((LGD1015_f).round(3),columns = ['15-10산출액(A)', '요인별합계(B)', 'B-A', '국내최종수요증감액', '수출', '최종재수입','중간재수입', '기술변화'],\n",
        "\n",
        "                         index=['농산품', '공산품', '서비스', '계'])  # pandas로 내보내기"
      ],
      "metadata": {
        "id": "fk4vQUuGe3oC"
      },
      "execution_count": 401,
      "outputs": []
    },
    {
      "cell_type": "code",
      "source": [
        "LGD1015_ff"
      ],
      "metadata": {
        "id": "ttL9PS3Ae9SU",
        "outputId": "dbd11808-c2d6-45b4-d2ea-100daeb78c4f",
        "colab": {
          "base_uri": "https://localhost:8080/",
          "height": 175
        }
      },
      "execution_count": 402,
      "outputs": [
        {
          "output_type": "execute_result",
          "data": {
            "text/plain": [
              "     15-10산출액(A)  요인별합계(B)  B-A  국내최종수요증감액       수출   최종재수입   중간재수입    기술변화\n",
              "농산품          2.2       2.2 -0.0      2.411    6.026  -1.318  -1.593  -3.326\n",
              "공산품        280.2     280.2 -0.0     63.378  260.516 -21.871 -29.880   8.057\n",
              "서비스        310.4     310.4  0.0    212.778   86.869 -14.517 -10.210  35.480\n",
              "계          592.8     592.8  0.0    278.567  353.411 -37.706 -41.683  40.212"
            ],
            "text/html": [
              "\n",
              "\n",
              "  <div id=\"df-5fab25c9-f8d1-4ebe-9ac8-8299758ee3ce\">\n",
              "    <div class=\"colab-df-container\">\n",
              "      <div>\n",
              "<style scoped>\n",
              "    .dataframe tbody tr th:only-of-type {\n",
              "        vertical-align: middle;\n",
              "    }\n",
              "\n",
              "    .dataframe tbody tr th {\n",
              "        vertical-align: top;\n",
              "    }\n",
              "\n",
              "    .dataframe thead th {\n",
              "        text-align: right;\n",
              "    }\n",
              "</style>\n",
              "<table border=\"1\" class=\"dataframe\">\n",
              "  <thead>\n",
              "    <tr style=\"text-align: right;\">\n",
              "      <th></th>\n",
              "      <th>15-10산출액(A)</th>\n",
              "      <th>요인별합계(B)</th>\n",
              "      <th>B-A</th>\n",
              "      <th>국내최종수요증감액</th>\n",
              "      <th>수출</th>\n",
              "      <th>최종재수입</th>\n",
              "      <th>중간재수입</th>\n",
              "      <th>기술변화</th>\n",
              "    </tr>\n",
              "  </thead>\n",
              "  <tbody>\n",
              "    <tr>\n",
              "      <th>농산품</th>\n",
              "      <td>2.2</td>\n",
              "      <td>2.2</td>\n",
              "      <td>-0.0</td>\n",
              "      <td>2.411</td>\n",
              "      <td>6.026</td>\n",
              "      <td>-1.318</td>\n",
              "      <td>-1.593</td>\n",
              "      <td>-3.326</td>\n",
              "    </tr>\n",
              "    <tr>\n",
              "      <th>공산품</th>\n",
              "      <td>280.2</td>\n",
              "      <td>280.2</td>\n",
              "      <td>-0.0</td>\n",
              "      <td>63.378</td>\n",
              "      <td>260.516</td>\n",
              "      <td>-21.871</td>\n",
              "      <td>-29.880</td>\n",
              "      <td>8.057</td>\n",
              "    </tr>\n",
              "    <tr>\n",
              "      <th>서비스</th>\n",
              "      <td>310.4</td>\n",
              "      <td>310.4</td>\n",
              "      <td>0.0</td>\n",
              "      <td>212.778</td>\n",
              "      <td>86.869</td>\n",
              "      <td>-14.517</td>\n",
              "      <td>-10.210</td>\n",
              "      <td>35.480</td>\n",
              "    </tr>\n",
              "    <tr>\n",
              "      <th>계</th>\n",
              "      <td>592.8</td>\n",
              "      <td>592.8</td>\n",
              "      <td>0.0</td>\n",
              "      <td>278.567</td>\n",
              "      <td>353.411</td>\n",
              "      <td>-37.706</td>\n",
              "      <td>-41.683</td>\n",
              "      <td>40.212</td>\n",
              "    </tr>\n",
              "  </tbody>\n",
              "</table>\n",
              "</div>\n",
              "      <button class=\"colab-df-convert\" onclick=\"convertToInteractive('df-5fab25c9-f8d1-4ebe-9ac8-8299758ee3ce')\"\n",
              "              title=\"Convert this dataframe to an interactive table.\"\n",
              "              style=\"display:none;\">\n",
              "\n",
              "  <svg xmlns=\"http://www.w3.org/2000/svg\" height=\"24px\"viewBox=\"0 0 24 24\"\n",
              "       width=\"24px\">\n",
              "    <path d=\"M0 0h24v24H0V0z\" fill=\"none\"/>\n",
              "    <path d=\"M18.56 5.44l.94 2.06.94-2.06 2.06-.94-2.06-.94-.94-2.06-.94 2.06-2.06.94zm-11 1L8.5 8.5l.94-2.06 2.06-.94-2.06-.94L8.5 2.5l-.94 2.06-2.06.94zm10 10l.94 2.06.94-2.06 2.06-.94-2.06-.94-.94-2.06-.94 2.06-2.06.94z\"/><path d=\"M17.41 7.96l-1.37-1.37c-.4-.4-.92-.59-1.43-.59-.52 0-1.04.2-1.43.59L10.3 9.45l-7.72 7.72c-.78.78-.78 2.05 0 2.83L4 21.41c.39.39.9.59 1.41.59.51 0 1.02-.2 1.41-.59l7.78-7.78 2.81-2.81c.8-.78.8-2.07 0-2.86zM5.41 20L4 18.59l7.72-7.72 1.47 1.35L5.41 20z\"/>\n",
              "  </svg>\n",
              "      </button>\n",
              "\n",
              "\n",
              "\n",
              "    <div id=\"df-55cf25f9-78aa-482d-8e38-422ccbb4b90a\">\n",
              "      <button class=\"colab-df-quickchart\" onclick=\"quickchart('df-55cf25f9-78aa-482d-8e38-422ccbb4b90a')\"\n",
              "              title=\"Suggest charts.\"\n",
              "              style=\"display:none;\">\n",
              "\n",
              "<svg xmlns=\"http://www.w3.org/2000/svg\" height=\"24px\"viewBox=\"0 0 24 24\"\n",
              "     width=\"24px\">\n",
              "    <g>\n",
              "        <path d=\"M19 3H5c-1.1 0-2 .9-2 2v14c0 1.1.9 2 2 2h14c1.1 0 2-.9 2-2V5c0-1.1-.9-2-2-2zM9 17H7v-7h2v7zm4 0h-2V7h2v10zm4 0h-2v-4h2v4z\"/>\n",
              "    </g>\n",
              "</svg>\n",
              "      </button>\n",
              "    </div>\n",
              "\n",
              "<style>\n",
              "  .colab-df-quickchart {\n",
              "    background-color: #E8F0FE;\n",
              "    border: none;\n",
              "    border-radius: 50%;\n",
              "    cursor: pointer;\n",
              "    display: none;\n",
              "    fill: #1967D2;\n",
              "    height: 32px;\n",
              "    padding: 0 0 0 0;\n",
              "    width: 32px;\n",
              "  }\n",
              "\n",
              "  .colab-df-quickchart:hover {\n",
              "    background-color: #E2EBFA;\n",
              "    box-shadow: 0px 1px 2px rgba(60, 64, 67, 0.3), 0px 1px 3px 1px rgba(60, 64, 67, 0.15);\n",
              "    fill: #174EA6;\n",
              "  }\n",
              "\n",
              "  [theme=dark] .colab-df-quickchart {\n",
              "    background-color: #3B4455;\n",
              "    fill: #D2E3FC;\n",
              "  }\n",
              "\n",
              "  [theme=dark] .colab-df-quickchart:hover {\n",
              "    background-color: #434B5C;\n",
              "    box-shadow: 0px 1px 3px 1px rgba(0, 0, 0, 0.15);\n",
              "    filter: drop-shadow(0px 1px 2px rgba(0, 0, 0, 0.3));\n",
              "    fill: #FFFFFF;\n",
              "  }\n",
              "</style>\n",
              "\n",
              "    <script>\n",
              "      async function quickchart(key) {\n",
              "        const containerElement = document.querySelector('#' + key);\n",
              "        const charts = await google.colab.kernel.invokeFunction(\n",
              "            'suggestCharts', [key], {});\n",
              "      }\n",
              "    </script>\n",
              "\n",
              "      <script>\n",
              "\n",
              "function displayQuickchartButton(domScope) {\n",
              "  let quickchartButtonEl =\n",
              "    domScope.querySelector('#df-55cf25f9-78aa-482d-8e38-422ccbb4b90a button.colab-df-quickchart');\n",
              "  quickchartButtonEl.style.display =\n",
              "    google.colab.kernel.accessAllowed ? 'block' : 'none';\n",
              "}\n",
              "\n",
              "        displayQuickchartButton(document);\n",
              "      </script>\n",
              "      <style>\n",
              "    .colab-df-container {\n",
              "      display:flex;\n",
              "      flex-wrap:wrap;\n",
              "      gap: 12px;\n",
              "    }\n",
              "\n",
              "    .colab-df-convert {\n",
              "      background-color: #E8F0FE;\n",
              "      border: none;\n",
              "      border-radius: 50%;\n",
              "      cursor: pointer;\n",
              "      display: none;\n",
              "      fill: #1967D2;\n",
              "      height: 32px;\n",
              "      padding: 0 0 0 0;\n",
              "      width: 32px;\n",
              "    }\n",
              "\n",
              "    .colab-df-convert:hover {\n",
              "      background-color: #E2EBFA;\n",
              "      box-shadow: 0px 1px 2px rgba(60, 64, 67, 0.3), 0px 1px 3px 1px rgba(60, 64, 67, 0.15);\n",
              "      fill: #174EA6;\n",
              "    }\n",
              "\n",
              "    [theme=dark] .colab-df-convert {\n",
              "      background-color: #3B4455;\n",
              "      fill: #D2E3FC;\n",
              "    }\n",
              "\n",
              "    [theme=dark] .colab-df-convert:hover {\n",
              "      background-color: #434B5C;\n",
              "      box-shadow: 0px 1px 3px 1px rgba(0, 0, 0, 0.15);\n",
              "      filter: drop-shadow(0px 1px 2px rgba(0, 0, 0, 0.3));\n",
              "      fill: #FFFFFF;\n",
              "    }\n",
              "  </style>\n",
              "\n",
              "      <script>\n",
              "        const buttonEl =\n",
              "          document.querySelector('#df-5fab25c9-f8d1-4ebe-9ac8-8299758ee3ce button.colab-df-convert');\n",
              "        buttonEl.style.display =\n",
              "          google.colab.kernel.accessAllowed ? 'block' : 'none';\n",
              "\n",
              "        async function convertToInteractive(key) {\n",
              "          const element = document.querySelector('#df-5fab25c9-f8d1-4ebe-9ac8-8299758ee3ce');\n",
              "          const dataTable =\n",
              "            await google.colab.kernel.invokeFunction('convertToInteractive',\n",
              "                                                     [key], {});\n",
              "          if (!dataTable) return;\n",
              "\n",
              "          const docLinkHtml = 'Like what you see? Visit the ' +\n",
              "            '<a target=\"_blank\" href=https://colab.research.google.com/notebooks/data_table.ipynb>data table notebook</a>'\n",
              "            + ' to learn more about interactive tables.';\n",
              "          element.innerHTML = '';\n",
              "          dataTable['output_type'] = 'display_data';\n",
              "          await google.colab.output.renderOutput(dataTable, element);\n",
              "          const docLink = document.createElement('div');\n",
              "          docLink.innerHTML = docLinkHtml;\n",
              "          element.appendChild(docLink);\n",
              "        }\n",
              "      </script>\n",
              "    </div>\n",
              "  </div>\n"
            ]
          },
          "metadata": {},
          "execution_count": 402
        }
      ]
    },
    {
      "cell_type": "code",
      "source": [
        "PGD1015_ff.to_csv('산출액변동요인_파쉐.csv', encoding=\"utf-8-sig\")\n",
        "LGD1015_ff.to_csv('산출액변동요인_라스파이레스.csv', encoding=\"utf-8-sig\")"
      ],
      "metadata": {
        "id": "h7CkNaE15PIg"
      },
      "execution_count": 403,
      "outputs": []
    },
    {
      "cell_type": "code",
      "source": [
        "Ctbr_Pa =  PGD1015_f[:,3:]\n",
        "Ctbr_La =  LGD1015_f[:,3:]\n",
        "Ctbr_La"
      ],
      "metadata": {
        "id": "3O6_BXxbcwuW",
        "outputId": "9aa0d14e-617b-4632-bbf1-81ebd3f85923",
        "colab": {
          "base_uri": "https://localhost:8080/"
        }
      },
      "execution_count": 404,
      "outputs": [
        {
          "output_type": "execute_result",
          "data": {
            "text/plain": [
              "array([[  2.411,   6.026,  -1.318,  -1.593,  -3.326],\n",
              "       [ 63.378, 260.516, -21.871, -29.88 ,   8.057],\n",
              "       [212.778,  86.869, -14.517, -10.21 ,  35.48 ],\n",
              "       [278.567, 353.411, -37.706, -41.683,  40.212]])"
            ]
          },
          "metadata": {},
          "execution_count": 404
        }
      ]
    },
    {
      "cell_type": "code",
      "source": [
        "sm_gap_Pa = PGD1015_f[:,1].reshape([4,1])  # 요인별 합계\n",
        "sm_gap_La = LGD1015_f[:,1].reshape([4,1])  # 요인별 합계\n",
        "sm_gap_La"
      ],
      "metadata": {
        "id": "Ib0VzKGcFjOo",
        "outputId": "700e4575-528d-4279-c4cd-f52038117987",
        "colab": {
          "base_uri": "https://localhost:8080/"
        }
      },
      "execution_count": 405,
      "outputs": [
        {
          "output_type": "execute_result",
          "data": {
            "text/plain": [
              "array([[  2.2],\n",
              "       [280.2],\n",
              "       [310.4],\n",
              "       [592.8]])"
            ]
          },
          "metadata": {},
          "execution_count": 405
        }
      ]
    },
    {
      "cell_type": "code",
      "source": [
        "sm_gap1_Pa = np.tile(sm_gap_Pa, reps=[1,5]) # 요인별 합계를 33x16으로 반복\n",
        "sm_gap1_La = np.tile(sm_gap_La, reps=[1,5]) # 요인별 합계를 33x16으로 반복\n",
        "sm_gap1_La"
      ],
      "metadata": {
        "id": "Ojzes5k4GZl_",
        "outputId": "e3fb592b-5681-4d3d-8ff3-4b18ec59a2c5",
        "colab": {
          "base_uri": "https://localhost:8080/"
        }
      },
      "execution_count": 406,
      "outputs": [
        {
          "output_type": "execute_result",
          "data": {
            "text/plain": [
              "array([[  2.2,   2.2,   2.2,   2.2,   2.2],\n",
              "       [280.2, 280.2, 280.2, 280.2, 280.2],\n",
              "       [310.4, 310.4, 310.4, 310.4, 310.4],\n",
              "       [592.8, 592.8, 592.8, 592.8, 592.8]])"
            ]
          },
          "metadata": {},
          "execution_count": 406
        }
      ]
    },
    {
      "cell_type": "code",
      "source": [
        "Ctrb_f_Pa = (Ctbr_Pa/sm_gap1_Pa)*100  # 각 항목별 기여율\n",
        "Ctrb_f_La = (Ctbr_La/sm_gap1_La)*100  # 각 항목별 기여율\n",
        "Ctrb_f_Pa"
      ],
      "metadata": {
        "id": "-gooAQnRFjRg",
        "outputId": "abfa7439-6316-47c9-8cf7-6b72149a2330",
        "colab": {
          "base_uri": "https://localhost:8080/"
        }
      },
      "execution_count": 407,
      "outputs": [
        {
          "output_type": "execute_result",
          "data": {
            "text/plain": [
              "array([[ 104.097,  238.21 ,  -54.943,  -60.387, -126.978],\n",
              "       [  21.983,   91.688,   -7.246,   -8.834,    2.409],\n",
              "       [  69.118,   27.962,   -4.214,   -2.765,    9.9  ],\n",
              "       [  46.968,   58.864,   -5.836,   -5.848,    5.851]])"
            ]
          },
          "metadata": {},
          "execution_count": 407
        }
      ]
    },
    {
      "cell_type": "code",
      "source": [
        "Ctrb_ff_Pa = pd.DataFrame(Ctrb_f_Pa,columns = ['국내최종수요증감액', '수출', '최종재수입','중간재수입', '기술변화'],\n",
        "\n",
        "                         index=['농산품', '공산품', '서비스', '계'])  # pandas로 내보내기"
      ],
      "metadata": {
        "id": "ZiMJL68VDYdk"
      },
      "execution_count": 408,
      "outputs": []
    },
    {
      "cell_type": "code",
      "source": [
        "Ctrb_ff_La = pd.DataFrame(Ctrb_f_La,columns = ['국내최종수요증감액', '수출', '최종재수입','중간재수입', '기술변화'],\n",
        "\n",
        "                         index=['농산품', '공산품', '서비스', '계'])  # pandas로 내보내기"
      ],
      "metadata": {
        "id": "5ZzipG4rNGdm"
      },
      "execution_count": 409,
      "outputs": []
    },
    {
      "cell_type": "code",
      "source": [
        "Ctrb_ff_Pa.to_csv('항목별 기여율_파쉐.csv', encoding=\"utf-8-sig\")\n",
        "Ctrb_ff_La.to_csv('항목별 기여율_라스파이레스.csv', encoding=\"utf-8-sig\")"
      ],
      "metadata": {
        "id": "tLccCmzVC3Hx"
      },
      "execution_count": 410,
      "outputs": []
    },
    {
      "cell_type": "code",
      "source": [],
      "metadata": {
        "id": "j8loUWs6DDyE"
      },
      "execution_count": 410,
      "outputs": []
    }
  ]
}