{
  "nbformat": 4,
  "nbformat_minor": 0,
  "metadata": {
    "colab": {
      "provenance": [],
      "mount_file_id": "https://github.com/Tom-Jung/legendary-funicular/blob/main/IO_tables.ipynb",
      "authorship_tag": "ABX9TyP+y/c0Sg+2zBctcdBug1TK",
      "include_colab_link": true
    },
    "kernelspec": {
      "name": "python3",
      "display_name": "Python 3"
    },
    "language_info": {
      "name": "python"
    }
  },
  "cells": [
    {
      "cell_type": "markdown",
      "metadata": {
        "id": "view-in-github",
        "colab_type": "text"
      },
      "source": [
        "<a href=\"https://colab.research.google.com/github/Tom-Jung/legendary-funicular/blob/main/Ch6_1.%20%EB%AC%BC%EA%B0%80%ED%8C%8C%EA%B8%89%ED%9A%A8%EA%B3%BC%20%EB%93%B1%20%EB%B6%84%EC%84%9D_new.ipynb\" target=\"_parent\"><img src=\"https://colab.research.google.com/assets/colab-badge.svg\" alt=\"Open In Colab\"/></a>"
      ]
    },
    {
      "cell_type": "code",
      "source": [
        "import numpy as np   # Numpy import\n",
        "import pandas as pd  # Pandas import"
      ],
      "metadata": {
        "id": "TR7JvW8CxBFT"
      },
      "execution_count": 47,
      "outputs": []
    },
    {
      "cell_type": "code",
      "source": [
        "np.set_printoptions(precision=3,suppress=True) # 결과를 소수 3자리까지만 보여주는 옵션"
      ],
      "metadata": {
        "id": "6ZXqGX8ykUGD"
      },
      "execution_count": 48,
      "outputs": []
    },
    {
      "cell_type": "markdown",
      "source": [
        "3부문 총, 국산, 수입거래표 불러오기"
      ],
      "metadata": {
        "id": "joFt2eQ514T6"
      }
    },
    {
      "cell_type": "code",
      "source": [
        "url_Tt_3 = \"https://raw.githubusercontent.com/Tom-Jung/legendary-funicular/main/Total_Matrix_3_secs_1_va.csv\"  # 3부문의 총거래표 불러오기\n",
        "Tt_3 = pd.read_csv(url_Tt_3)\n",
        "\n",
        "url_Dt_3 = \"https://raw.githubusercontent.com/Tom-Jung/legendary-funicular/main/Domestic_Matrix_3_secs.csv\"  # 3부문의 국산거래표 불러오기\n",
        "Dt_3 = pd.read_csv(url_Dt_3)\n",
        "\n",
        "url_It_3 = \"https://raw.githubusercontent.com/Tom-Jung/legendary-funicular/main/Imported_Matrix_3_secs.csv\"  # 3부문의 수입거래표 불러오기\n",
        "It_3 = pd.read_csv(url_It_3)\n"
      ],
      "metadata": {
        "id": "6GuMjUk213iK"
      },
      "execution_count": 49,
      "outputs": []
    },
    {
      "cell_type": "code",
      "source": [
        "Tt = Tt_3.to_numpy()\n",
        "Dt = Dt_3.to_numpy()\n",
        "It = It_3.to_numpy()"
      ],
      "metadata": {
        "id": "pXrwfo8u86pr"
      },
      "execution_count": 50,
      "outputs": []
    },
    {
      "cell_type": "code",
      "source": [
        "Tt_1 = Tt[0:6,1:13].astype(float)\n",
        "Dm_1 = Dt[0:4,1:10].astype(float)\n",
        "Im_1 = It[0:4,1:10].astype(float)\n",
        "print('총거래표 : \\n', Tt_1)    # 총거래표 확인\n",
        "print('국산거래표 : \\n', Dm_1)  # 국산거래표 확인\n",
        "print('수입거래표 : \\n', Im_1)  # 수입거래표 확인"
      ],
      "metadata": {
        "colab": {
          "base_uri": "https://localhost:8080/"
        },
        "id": "q4Q2rSR1QiUI",
        "outputId": "239f21cd-7853-4e7e-e34f-baa89fd5b84d"
      },
      "execution_count": 51,
      "outputs": [
        {
          "output_type": "stream",
          "name": "stdout",
          "text": [
            "총거래표 : \n",
            " [[   4.   38.   11.   53.   18.    0.    1.   19.   72.]\n",
            " [  16.  944.  401. 1361.  213.  167.  628. 1008. 2369.]\n",
            " [   7.  257.  693.  957. 1032.  432.  131. 1595. 2552.]\n",
            " [  27. 1239. 1105. 2371. 1263.  599.  760. 2622. 4993.]\n",
            " [  33.  553. 1342. 1928.    0.    0.    0.    0.    0.]\n",
            " [  60. 1792. 2447. 4299.    0.    0.    0.    0.    0.]]\n",
            "국산거래표 : \n",
            " [[   4.   31.   10.   45.   15.   -1.    1.   15.   60.]\n",
            " [  15.  588.  322.  925.  138.  106.  623.  867. 1792.]\n",
            " [   7.  243.  644.  894.  997.  425.  131. 1553. 2447.]\n",
            " [  26.  862.  976. 1864. 1150.  530.  755. 2435. 4299.]]\n",
            "수입거래표 : \n",
            " [[  0.   7.   1.   8.   3.   1.   0.   4.  12.]\n",
            " [  1. 356.  79. 436.  75.  61.   5. 141. 577.]\n",
            " [  0.  14.  49.  63.  35.   7.   0.  42. 105.]\n",
            " [  1. 377. 129. 507. 113.  69.   5. 187. 694.]]\n"
          ]
        }
      ]
    },
    {
      "cell_type": "code",
      "source": [
        "ct = Tt_1[-1,0:3]  # 산출액\n",
        "ct"
      ],
      "metadata": {
        "colab": {
          "base_uri": "https://localhost:8080/"
        },
        "id": "sLoitK1lQigz",
        "outputId": "6f618e1b-5071-4236-f530-105430f361b9"
      },
      "execution_count": 52,
      "outputs": [
        {
          "output_type": "execute_result",
          "data": {
            "text/plain": [
              "array([  60., 1792., 2447.])"
            ]
          },
          "metadata": {},
          "execution_count": 52
        }
      ]
    },
    {
      "cell_type": "code",
      "source": [
        "ct_m = np.tile(ct, reps=[3,1]) # 산출액을 3번 행반복\n",
        "ct_m"
      ],
      "metadata": {
        "colab": {
          "base_uri": "https://localhost:8080/"
        },
        "id": "s0wcbJY1Qipl",
        "outputId": "76f1948e-955f-46ba-8a00-7cc249651851"
      },
      "execution_count": 53,
      "outputs": [
        {
          "output_type": "execute_result",
          "data": {
            "text/plain": [
              "array([[  60., 1792., 2447.],\n",
              "       [  60., 1792., 2447.],\n",
              "       [  60., 1792., 2447.]])"
            ]
          },
          "metadata": {},
          "execution_count": 53
        }
      ]
    },
    {
      "cell_type": "code",
      "source": [
        "At = Tt_1[0:3,0:3]/ct_m   # 총투입계수\n",
        "Ad = Dm_1[0:3,0:3]/ct_m  # 국산 투입계수\n",
        "Ai = Im_1[0:3,0:3]/ct_m  # 수입 투입계수\n",
        "\n",
        "print('총투입계수표 : \\n', At)\n",
        "print('국산투입계수표 : \\n', Ad)\n",
        "print('수입투입계수표 : \\n', Ai)\n",
        "\n",
        "df_At = pd.DataFrame(At.round(3),columns = ['농산품', '공산품', '서비스'], index=['농산품', '공산품', '서비스'])  #pandas로 내보내기\n",
        "df_Ad = pd.DataFrame(Ad.round(3),columns = ['농산품', '공산품', '서비스'], index=['농산품', '공산품', '서비스'])  #pandas로 내보내기\n",
        "df_Ai = pd.DataFrame(Ai.round(3),columns = ['농산품', '공산품', '서비스'], index=['농산품', '공산품', '서비스'])  #pandas로 내보내기"
      ],
      "metadata": {
        "colab": {
          "base_uri": "https://localhost:8080/"
        },
        "id": "5uLIE7vfQiwM",
        "outputId": "074efb20-da4f-4894-9f5a-58bc49572960"
      },
      "execution_count": 54,
      "outputs": [
        {
          "output_type": "stream",
          "name": "stdout",
          "text": [
            "총투입계수표 : \n",
            " [[0.067 0.021 0.004]\n",
            " [0.267 0.527 0.164]\n",
            " [0.117 0.143 0.283]]\n",
            "국산투입계수표 : \n",
            " [[0.067 0.017 0.004]\n",
            " [0.25  0.328 0.132]\n",
            " [0.117 0.136 0.263]]\n",
            "수입투입계수표 : \n",
            " [[0.    0.004 0.   ]\n",
            " [0.017 0.199 0.032]\n",
            " [0.    0.008 0.02 ]]\n"
          ]
        }
      ]
    },
    {
      "cell_type": "markdown",
      "source": [
        "### 물가파급효과 분석\n",
        "\n",
        "\n",
        "##### - 투입계수의 전치행렬을 이용하여 생산유발계수(Lf)을 이용하여 각종 물가파급효과 분석 가능"
      ],
      "metadata": {
        "id": "LrSLa3VTD5Nd"
      }
    },
    {
      "cell_type": "code",
      "source": [
        "At_trans = At.T  # 총투입계수의 전치행렬\n",
        "Ad_trans = Ad.T  # 국산투입계수의 전치행렬\n",
        "Ai_trans = Ai.T  # 국산투입계수의 전치행렬\n",
        "\n",
        "print('총투입계수의 전치행렬 : \\n', At_trans)\n",
        "print('국산투입계수의 전치행렬: \\n', Ad_trans)\n",
        "print('수입투입계수의 전치행렬: \\n', Ai_trans)\n",
        "\n",
        "Lf_trans = np.linalg.inv(np.identity(3)-Ad_trans)  # (I-Ad_trans)의 역행렬\n",
        "print('국산투입계수 전치행렬의 역행렬: \\n', Lf_trans)"
      ],
      "metadata": {
        "id": "QlwdX5oMD71E",
        "outputId": "71fbb639-0472-447d-a0ca-9d62e26dbeb9",
        "colab": {
          "base_uri": "https://localhost:8080/"
        }
      },
      "execution_count": 55,
      "outputs": [
        {
          "output_type": "stream",
          "name": "stdout",
          "text": [
            "총투입계수의 전치행렬 : \n",
            " [[0.067 0.267 0.117]\n",
            " [0.021 0.527 0.143]\n",
            " [0.004 0.164 0.283]]\n",
            "국산투입계수의 전치행렬: \n",
            " [[0.067 0.25  0.117]\n",
            " [0.017 0.328 0.136]\n",
            " [0.004 0.132 0.263]]\n",
            "수입투입계수의 전치행렬: \n",
            " [[0.    0.017 0.   ]\n",
            " [0.004 0.199 0.008]\n",
            " [0.    0.032 0.02 ]]\n",
            "국산투입계수 전치행렬의 역행렬: \n",
            " [[1.081 0.452 0.254]\n",
            " [0.03  1.557 0.291]\n",
            " [0.011 0.281 1.411]]\n"
          ]
        }
      ]
    },
    {
      "cell_type": "code",
      "source": [
        "Lf = np.linalg.inv(np.identity(3)-Ad)  # 생산유발계수\n",
        "Lf"
      ],
      "metadata": {
        "id": "ZBm_HdNJlXK0",
        "outputId": "0bb3243e-1c2c-4361-c6b0-1f6f15c18970",
        "colab": {
          "base_uri": "https://localhost:8080/"
        }
      },
      "execution_count": 56,
      "outputs": [
        {
          "output_type": "execute_result",
          "data": {
            "text/plain": [
              "array([[1.081, 0.03 , 0.011],\n",
              "       [0.452, 1.557, 0.281],\n",
              "       [0.254, 0.291, 1.411]])"
            ]
          },
          "metadata": {},
          "execution_count": 56
        }
      ]
    },
    {
      "cell_type": "code",
      "source": [
        "Va_r = Tt_1[-2,0:3]/ct # 부가가치율\n",
        "Va_r\n",
        "\n",
        "Va_m = np.diag(Va_r)  # 부가가치율 대각행렬\n",
        "Va_m\n",
        "\n",
        "Lv = Va_m@Lf  #부가가치유발계수\n",
        "Lv"
      ],
      "metadata": {
        "id": "LErqtFkNlK9I",
        "outputId": "c20515d0-97ea-41f5-97f0-ca314175e590",
        "colab": {
          "base_uri": "https://localhost:8080/"
        }
      },
      "execution_count": 57,
      "outputs": [
        {
          "output_type": "execute_result",
          "data": {
            "text/plain": [
              "array([[0.595, 0.017, 0.006],\n",
              "       [0.139, 0.48 , 0.087],\n",
              "       [0.139, 0.16 , 0.774]])"
            ]
          },
          "metadata": {},
          "execution_count": 57
        }
      ]
    },
    {
      "cell_type": "code",
      "source": [
        "Li = Ai@Lf  #수입유발계수\n",
        "Li"
      ],
      "metadata": {
        "id": "mcx3h35KlcG6",
        "outputId": "38aae5c3-3505-4c29-c341-541f5b4e0d47",
        "colab": {
          "base_uri": "https://localhost:8080/"
        }
      },
      "execution_count": 58,
      "outputs": [
        {
          "output_type": "execute_result",
          "data": {
            "text/plain": [
              "array([[0.002, 0.006, 0.002],\n",
              "       [0.116, 0.319, 0.101],\n",
              "       [0.009, 0.018, 0.03 ]])"
            ]
          },
          "metadata": {},
          "execution_count": 58
        }
      ]
    },
    {
      "cell_type": "markdown",
      "source": [
        "#### 임금인상의 물가파급효과"
      ],
      "metadata": {
        "id": "VmIala71I_1M"
      }
    },
    {
      "cell_type": "code",
      "source": [
        "delta_all_w = np.array([10,10,10]).reshape([3,1]) # 모든 상품의 임금이 10% 상승\n",
        "delta_all_Pw = (Lf_trans@Va_m)@delta_all_w\n",
        "\n",
        "delta_par_w = np.array([0,10,0]).reshape([3,1]) # 공산품의 임금이 10% 상승\n",
        "delta_par_Pw = (Lf_trans@Va_m)@delta_par_w\n",
        "\n",
        "print('모든 상품의 임금이 10% 상승시 물가파급효과: \\n', delta_all_Pw)\n",
        "print('공산품의 임금이 10% 상승시 물가파급효과: \\n', delta_par_Pw)\n"
      ],
      "metadata": {
        "id": "hT30koHOD8WG",
        "outputId": "e27acf5e-50f7-418a-c646-ffcd86d1fe0b",
        "colab": {
          "base_uri": "https://localhost:8080/"
        }
      },
      "execution_count": 59,
      "outputs": [
        {
          "output_type": "stream",
          "name": "stdout",
          "text": [
            "모든 상품의 임금이 10% 상승시 물가파급효과: \n",
            " [[8.735]\n",
            " [6.567]\n",
            " [8.664]]\n",
            "공산품의 임금이 10% 상승시 물가파급효과: \n",
            " [[1.395]\n",
            " [4.804]\n",
            " [0.866]]\n"
          ]
        }
      ]
    },
    {
      "cell_type": "markdown",
      "source": [
        "#### 내생부분(중간투입품) 가격변동의 물가파급효과"
      ],
      "metadata": {
        "id": "lz8QJDXeZA_n"
      }
    },
    {
      "cell_type": "code",
      "source": [
        "#### 중간투입되는 서비스의 물가변동의 파급효과 분석\n",
        "\n",
        "Ad_exd_row = np.delete(Ad_trans,2,0).reshape([2,3])  # 공산품(sectors3) 행 삭제\n",
        "Ad_exd_serv = np.delete(Ad_exd_row,2,1).reshape([2,2])  # 공산품(sectors3) 열 삭제,,최종적으로 2x2 행렬\n",
        "print('물가변동이 발생한 부문을 제가한 국산투입계수 : \\n', Ad_exd_serv)\n",
        "\n",
        "A_Pr_sec2 = np.concatenate((Ad_trans[0,2].reshape([1,1]),Ad_trans[1,2].reshape([1,1])),axis=0).reshape([2,1])  # 물가가 변동하는 부문의 국산 투입계수(a31, a32)\n",
        "print('물가변동이 발생한 부문의 국산투입계수 : \\n', A_Pr_sec2)\n",
        "\n",
        "#서비스 물가 10% 상승시 파급효과\n",
        "\n",
        "delta_serv_Pw = Ad_exd_serv@A_Pr_sec2*10\n",
        "print('서비스 10% 상승시 다른 부문의 물가변동 : \\n', delta_serv_Pw)"
      ],
      "metadata": {
        "id": "MH8Zx-JXD8ZG",
        "colab": {
          "base_uri": "https://localhost:8080/"
        },
        "outputId": "7f94bf14-69b8-400a-c524-58251c363059"
      },
      "execution_count": 60,
      "outputs": [
        {
          "output_type": "stream",
          "name": "stdout",
          "text": [
            "물가변동이 발생한 부문을 제가한 국산투입계수 : \n",
            " [[0.067 0.25 ]\n",
            " [0.017 0.328]]\n",
            "물가변동이 발생한 부문의 국산투입계수 : \n",
            " [[0.117]\n",
            " [0.136]]\n",
            "서비스 10% 상승시 다른 부문의 물가변동 : \n",
            " [[0.417]\n",
            " [0.465]]\n"
          ]
        }
      ]
    },
    {
      "cell_type": "markdown",
      "source": [
        "#### 수입농산품 가격변동의 물가파급효과\n"
      ],
      "metadata": {
        "id": "KGihX7EPGGt3"
      }
    },
    {
      "cell_type": "code",
      "source": [
        "Imp_Pw = np.array([10,0,0]).reshape([3,1]) # 수입농산물 10% 상승\n",
        "delta_imp_Pw =  ((Lf_trans @Ai_trans)@Imp_Pw).reshape([3,1])\n",
        "\n",
        "print('수입농산품 가격 10% 상승시 다른 부문의 물가변동 : \\n', delta_imp_Pw)"
      ],
      "metadata": {
        "colab": {
          "base_uri": "https://localhost:8080/"
        },
        "id": "5p1nygTxZI38",
        "outputId": "40e3ceee-e5c8-4559-c3c8-296127dc1618"
      },
      "execution_count": 61,
      "outputs": [
        {
          "output_type": "stream",
          "name": "stdout",
          "text": [
            "수입농산품 가격 10% 상승시 다른 부문의 물가변동 : \n",
            " [[0.019]\n",
            " [0.062]\n",
            " [0.017]]\n"
          ]
        }
      ]
    },
    {
      "cell_type": "markdown",
      "source": [
        "### 환율변동 효과"
      ],
      "metadata": {
        "id": "5AEFkiKAwD23"
      }
    },
    {
      "cell_type": "code",
      "source": [
        "Ex_rate = np.array([10,10,10]).reshape([3,1]) # 환율 10% 상승\n",
        "delta_Ex_rate =  ((Lf_trans @Ai_trans)@Ex_rate).reshape([3,1])\n",
        "\n",
        "print('환율 10% 상승시 물가변동 : \\n', delta_Ex_rate)"
      ],
      "metadata": {
        "id": "CCXNMfyywHOe",
        "outputId": "a44509aa-0247-4749-e2b8-3a1a83e9021e",
        "colab": {
          "base_uri": "https://localhost:8080/"
        }
      },
      "execution_count": 62,
      "outputs": [
        {
          "output_type": "stream",
          "name": "stdout",
          "text": [
            "환율 10% 상승시 물가변동 : \n",
            " [[1.265]\n",
            " [3.433]\n",
            " [1.336]]\n"
          ]
        }
      ]
    },
    {
      "cell_type": "markdown",
      "source": [
        "### 환율변동과 수입농산품 효과"
      ],
      "metadata": {
        "id": "0WkcHZexaNNy"
      }
    },
    {
      "cell_type": "code",
      "source": [
        "Ex_arg = np.array([21,10,10]).reshape([3,1]) # 환율 10% 및 수입농산품 10% 상승\n",
        "delta_Ex_arg =  ((Lf_trans @Ai_trans)@Ex_arg).reshape([3,1])\n",
        "\n",
        "print('환율 및 수입농 10% 상승시 물가변동 : \\n', delta_Ex_arg )"
      ],
      "metadata": {
        "id": "7vAsci-laUKC",
        "outputId": "81c24895-3dc8-49e0-9db2-406ff24a3d4d",
        "colab": {
          "base_uri": "https://localhost:8080/"
        }
      },
      "execution_count": 63,
      "outputs": [
        {
          "output_type": "stream",
          "name": "stdout",
          "text": [
            "환율 및 수입농 10% 상승시 물가변동 : \n",
            " [[1.286]\n",
            " [3.502]\n",
            " [1.354]]\n"
          ]
        }
      ]
    },
    {
      "cell_type": "code",
      "source": [
        "#pandas로 내보내기\n",
        "\n",
        "df_delta_all_Pw = pd.DataFrame(delta_all_Pw.round(3),columns = ['물가상승률'], index=['농산품', '공산품', '서비스'])  # 모든 부문의 임금 10% 상승\n",
        "df_delta_par_Pw = pd.DataFrame(delta_par_Pw.round(3),columns = ['물가상승률'], index=['농산품', '공산품', '서비스'])  # 공산품 부문의 임금 10% 상승\n",
        "df_delta_serv_Pw = pd.DataFrame(delta_serv_Pw.round(3),columns = ['물가상승률'], index=['농산품', '서비스'])        # 서비스 물가 10% 상승\n",
        "df_delta_imp_Pw = pd.DataFrame(delta_imp_Pw.round(3),columns = ['물가상승률'], index=['농산품', '공산품', '서비스'])   # 수입 농산품 물가 10% 상승\n",
        "df_delta_Ex_rate = pd.DataFrame(delta_Ex_rate.round(3),columns = ['물가상승률'], index=['농산품', '공산품', '서비스'])   # 환율 10% 상승\n",
        "df_delta_Ex_arg = pd.DataFrame(delta_Ex_arg.round(3),columns = ['물가상승률'], index=['농산품', '공산품', '서비스'])   # 환율 및 수입농산품 10% 상승"
      ],
      "metadata": {
        "id": "Njxfr_mbHtnA"
      },
      "execution_count": 45,
      "outputs": []
    },
    {
      "cell_type": "code",
      "source": [
        "df_delta_all_Pw.to_csv('모든 부문 임금 10% 상승.csv')\n",
        "df_delta_par_Pw.to_csv('공산품 부문 임금 10% 상승.csv')\n",
        "df_delta_serv_Pw.to_csv('서비스 물가 10% 상승.csv')\n",
        "df_delta_imp_Pw.to_csv('수입 농산품 물가 10% 상승.csv')\n",
        "df_delta_Ex_rate.to_csv('환율 10% 상승.csv')\n",
        "df_delta_Ex_arg.to_csv('환율 및 수입농산품 10% 상승.csv')"
      ],
      "metadata": {
        "id": "Q0fXvrqKKjRH"
      },
      "execution_count": 64,
      "outputs": []
    },
    {
      "cell_type": "code",
      "source": [],
      "metadata": {
        "id": "x7I-C1NrbrTt"
      },
      "execution_count": null,
      "outputs": []
    }
  ]
}