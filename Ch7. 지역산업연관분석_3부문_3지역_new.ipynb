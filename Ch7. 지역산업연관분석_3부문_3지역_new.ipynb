{
  "nbformat": 4,
  "nbformat_minor": 0,
  "metadata": {
    "colab": {
      "provenance": [],
      "mount_file_id": "https://github.com/Tom-Jung/legendary-funicular/blob/main/IO_tables.ipynb",
      "authorship_tag": "ABX9TyOk121M7oNxfZHrqB7/aa/h",
      "include_colab_link": true
    },
    "kernelspec": {
      "name": "python3",
      "display_name": "Python 3"
    },
    "language_info": {
      "name": "python"
    }
  },
  "cells": [
    {
      "cell_type": "markdown",
      "metadata": {
        "id": "view-in-github",
        "colab_type": "text"
      },
      "source": [
        "<a href=\"https://colab.research.google.com/github/Tom-Jung/legendary-funicular/blob/main/Ch7.%20%EC%A7%80%EC%97%AD%EC%82%B0%EC%97%85%EC%97%B0%EA%B4%80%EB%B6%84%EC%84%9D_3%EB%B6%80%EB%AC%B8_3%EC%A7%80%EC%97%AD_new.ipynb\" target=\"_parent\"><img src=\"https://colab.research.google.com/assets/colab-badge.svg\" alt=\"Open In Colab\"/></a>"
      ]
    },
    {
      "cell_type": "code",
      "source": [
        "import numpy as np   # Numpy import\n",
        "import pandas as pd  # Pandas import"
      ],
      "metadata": {
        "id": "TR7JvW8CxBFT"
      },
      "execution_count": 168,
      "outputs": []
    },
    {
      "cell_type": "code",
      "source": [
        "np.set_printoptions(precision=3,suppress=True) # 결과를 소수 3자리까지만 보여주는 옵션"
      ],
      "metadata": {
        "id": "2l9tk4XA4Nkc"
      },
      "execution_count": 169,
      "outputs": []
    },
    {
      "cell_type": "code",
      "source": [
        "Rgt = \"https://raw.githubusercontent.com/Tom-Jung/legendary-funicular/main/Regional_io_3regions_3sectors_new.csv\"  # 33부문의 지역IO 불러오기\n",
        "Rgt_3 = pd.read_csv(Rgt)\n",
        "Rgt_3.head()"
      ],
      "metadata": {
        "colab": {
          "base_uri": "https://localhost:8080/",
          "height": 488
        },
        "id": "8D9y7bqcuL7m",
        "outputId": "48f16770-3889-4bc5-df68-9e43fb3d8279"
      },
      "execution_count": 170,
      "outputs": [
        {
          "output_type": "execute_result",
          "data": {
            "text/plain": [
              "    rg  com  수도권 수도권.1 수도권.2  동부권 동부권.1 동부권.2  서부권 서부권.1  ... 동부권.3 동부권.4  \\\n",
              "0   rg  com  농산품   공산품   서비스  농산품   공산품   서비스  농산품   공산품  ...    소비    투자   \n",
              "1  수도권  농산품    0     3     1    0     0     0    0     1  ...     0     0   \n",
              "2  수도권  공산품    2   112    71    1    36    14    1    37  ...     9     6   \n",
              "3  수도권  서비스    1    79   302    1    27    31    1    28  ...    33    13   \n",
              "4  동부권  농산품    0     1     2    1     7     2    0     2  ...     3     1   \n",
              "\n",
              "  동부권.5 서부권.3 서부권.4 서부권.5  지역최종수요계  지역총수요계    수입   산출액  \n",
              "0    수출    소비    투자    수출  제품최종수요계  제품총수요계  (공제)   산출액  \n",
              "1     0     0     0     0        1       6     0     6  \n",
              "2     0     7     8     0      295     582     0   582  \n",
              "3     0    31    11     0      706    1204     0  1204  \n",
              "4     0     1     0     0        8      23     0    23  \n",
              "\n",
              "[5 rows x 25 columns]"
            ],
            "text/html": [
              "\n",
              "\n",
              "  <div id=\"df-06a65176-89f9-4958-9445-88abec8c3023\">\n",
              "    <div class=\"colab-df-container\">\n",
              "      <div>\n",
              "<style scoped>\n",
              "    .dataframe tbody tr th:only-of-type {\n",
              "        vertical-align: middle;\n",
              "    }\n",
              "\n",
              "    .dataframe tbody tr th {\n",
              "        vertical-align: top;\n",
              "    }\n",
              "\n",
              "    .dataframe thead th {\n",
              "        text-align: right;\n",
              "    }\n",
              "</style>\n",
              "<table border=\"1\" class=\"dataframe\">\n",
              "  <thead>\n",
              "    <tr style=\"text-align: right;\">\n",
              "      <th></th>\n",
              "      <th>rg</th>\n",
              "      <th>com</th>\n",
              "      <th>수도권</th>\n",
              "      <th>수도권.1</th>\n",
              "      <th>수도권.2</th>\n",
              "      <th>동부권</th>\n",
              "      <th>동부권.1</th>\n",
              "      <th>동부권.2</th>\n",
              "      <th>서부권</th>\n",
              "      <th>서부권.1</th>\n",
              "      <th>...</th>\n",
              "      <th>동부권.3</th>\n",
              "      <th>동부권.4</th>\n",
              "      <th>동부권.5</th>\n",
              "      <th>서부권.3</th>\n",
              "      <th>서부권.4</th>\n",
              "      <th>서부권.5</th>\n",
              "      <th>지역최종수요계</th>\n",
              "      <th>지역총수요계</th>\n",
              "      <th>수입</th>\n",
              "      <th>산출액</th>\n",
              "    </tr>\n",
              "  </thead>\n",
              "  <tbody>\n",
              "    <tr>\n",
              "      <th>0</th>\n",
              "      <td>rg</td>\n",
              "      <td>com</td>\n",
              "      <td>농산품</td>\n",
              "      <td>공산품</td>\n",
              "      <td>서비스</td>\n",
              "      <td>농산품</td>\n",
              "      <td>공산품</td>\n",
              "      <td>서비스</td>\n",
              "      <td>농산품</td>\n",
              "      <td>공산품</td>\n",
              "      <td>...</td>\n",
              "      <td>소비</td>\n",
              "      <td>투자</td>\n",
              "      <td>수출</td>\n",
              "      <td>소비</td>\n",
              "      <td>투자</td>\n",
              "      <td>수출</td>\n",
              "      <td>제품최종수요계</td>\n",
              "      <td>제품총수요계</td>\n",
              "      <td>(공제)</td>\n",
              "      <td>산출액</td>\n",
              "    </tr>\n",
              "    <tr>\n",
              "      <th>1</th>\n",
              "      <td>수도권</td>\n",
              "      <td>농산품</td>\n",
              "      <td>0</td>\n",
              "      <td>3</td>\n",
              "      <td>1</td>\n",
              "      <td>0</td>\n",
              "      <td>0</td>\n",
              "      <td>0</td>\n",
              "      <td>0</td>\n",
              "      <td>1</td>\n",
              "      <td>...</td>\n",
              "      <td>0</td>\n",
              "      <td>0</td>\n",
              "      <td>0</td>\n",
              "      <td>0</td>\n",
              "      <td>0</td>\n",
              "      <td>0</td>\n",
              "      <td>1</td>\n",
              "      <td>6</td>\n",
              "      <td>0</td>\n",
              "      <td>6</td>\n",
              "    </tr>\n",
              "    <tr>\n",
              "      <th>2</th>\n",
              "      <td>수도권</td>\n",
              "      <td>공산품</td>\n",
              "      <td>2</td>\n",
              "      <td>112</td>\n",
              "      <td>71</td>\n",
              "      <td>1</td>\n",
              "      <td>36</td>\n",
              "      <td>14</td>\n",
              "      <td>1</td>\n",
              "      <td>37</td>\n",
              "      <td>...</td>\n",
              "      <td>9</td>\n",
              "      <td>6</td>\n",
              "      <td>0</td>\n",
              "      <td>7</td>\n",
              "      <td>8</td>\n",
              "      <td>0</td>\n",
              "      <td>295</td>\n",
              "      <td>582</td>\n",
              "      <td>0</td>\n",
              "      <td>582</td>\n",
              "    </tr>\n",
              "    <tr>\n",
              "      <th>3</th>\n",
              "      <td>수도권</td>\n",
              "      <td>서비스</td>\n",
              "      <td>1</td>\n",
              "      <td>79</td>\n",
              "      <td>302</td>\n",
              "      <td>1</td>\n",
              "      <td>27</td>\n",
              "      <td>31</td>\n",
              "      <td>1</td>\n",
              "      <td>28</td>\n",
              "      <td>...</td>\n",
              "      <td>33</td>\n",
              "      <td>13</td>\n",
              "      <td>0</td>\n",
              "      <td>31</td>\n",
              "      <td>11</td>\n",
              "      <td>0</td>\n",
              "      <td>706</td>\n",
              "      <td>1204</td>\n",
              "      <td>0</td>\n",
              "      <td>1204</td>\n",
              "    </tr>\n",
              "    <tr>\n",
              "      <th>4</th>\n",
              "      <td>동부권</td>\n",
              "      <td>농산품</td>\n",
              "      <td>0</td>\n",
              "      <td>1</td>\n",
              "      <td>2</td>\n",
              "      <td>1</td>\n",
              "      <td>7</td>\n",
              "      <td>2</td>\n",
              "      <td>0</td>\n",
              "      <td>2</td>\n",
              "      <td>...</td>\n",
              "      <td>3</td>\n",
              "      <td>1</td>\n",
              "      <td>0</td>\n",
              "      <td>1</td>\n",
              "      <td>0</td>\n",
              "      <td>0</td>\n",
              "      <td>8</td>\n",
              "      <td>23</td>\n",
              "      <td>0</td>\n",
              "      <td>23</td>\n",
              "    </tr>\n",
              "  </tbody>\n",
              "</table>\n",
              "<p>5 rows × 25 columns</p>\n",
              "</div>\n",
              "      <button class=\"colab-df-convert\" onclick=\"convertToInteractive('df-06a65176-89f9-4958-9445-88abec8c3023')\"\n",
              "              title=\"Convert this dataframe to an interactive table.\"\n",
              "              style=\"display:none;\">\n",
              "\n",
              "  <svg xmlns=\"http://www.w3.org/2000/svg\" height=\"24px\"viewBox=\"0 0 24 24\"\n",
              "       width=\"24px\">\n",
              "    <path d=\"M0 0h24v24H0V0z\" fill=\"none\"/>\n",
              "    <path d=\"M18.56 5.44l.94 2.06.94-2.06 2.06-.94-2.06-.94-.94-2.06-.94 2.06-2.06.94zm-11 1L8.5 8.5l.94-2.06 2.06-.94-2.06-.94L8.5 2.5l-.94 2.06-2.06.94zm10 10l.94 2.06.94-2.06 2.06-.94-2.06-.94-.94-2.06-.94 2.06-2.06.94z\"/><path d=\"M17.41 7.96l-1.37-1.37c-.4-.4-.92-.59-1.43-.59-.52 0-1.04.2-1.43.59L10.3 9.45l-7.72 7.72c-.78.78-.78 2.05 0 2.83L4 21.41c.39.39.9.59 1.41.59.51 0 1.02-.2 1.41-.59l7.78-7.78 2.81-2.81c.8-.78.8-2.07 0-2.86zM5.41 20L4 18.59l7.72-7.72 1.47 1.35L5.41 20z\"/>\n",
              "  </svg>\n",
              "      </button>\n",
              "\n",
              "\n",
              "\n",
              "    <div id=\"df-449201ff-c7f8-45ad-ae38-fa30d1a60cc8\">\n",
              "      <button class=\"colab-df-quickchart\" onclick=\"quickchart('df-449201ff-c7f8-45ad-ae38-fa30d1a60cc8')\"\n",
              "              title=\"Suggest charts.\"\n",
              "              style=\"display:none;\">\n",
              "\n",
              "<svg xmlns=\"http://www.w3.org/2000/svg\" height=\"24px\"viewBox=\"0 0 24 24\"\n",
              "     width=\"24px\">\n",
              "    <g>\n",
              "        <path d=\"M19 3H5c-1.1 0-2 .9-2 2v14c0 1.1.9 2 2 2h14c1.1 0 2-.9 2-2V5c0-1.1-.9-2-2-2zM9 17H7v-7h2v7zm4 0h-2V7h2v10zm4 0h-2v-4h2v4z\"/>\n",
              "    </g>\n",
              "</svg>\n",
              "      </button>\n",
              "    </div>\n",
              "\n",
              "<style>\n",
              "  .colab-df-quickchart {\n",
              "    background-color: #E8F0FE;\n",
              "    border: none;\n",
              "    border-radius: 50%;\n",
              "    cursor: pointer;\n",
              "    display: none;\n",
              "    fill: #1967D2;\n",
              "    height: 32px;\n",
              "    padding: 0 0 0 0;\n",
              "    width: 32px;\n",
              "  }\n",
              "\n",
              "  .colab-df-quickchart:hover {\n",
              "    background-color: #E2EBFA;\n",
              "    box-shadow: 0px 1px 2px rgba(60, 64, 67, 0.3), 0px 1px 3px 1px rgba(60, 64, 67, 0.15);\n",
              "    fill: #174EA6;\n",
              "  }\n",
              "\n",
              "  [theme=dark] .colab-df-quickchart {\n",
              "    background-color: #3B4455;\n",
              "    fill: #D2E3FC;\n",
              "  }\n",
              "\n",
              "  [theme=dark] .colab-df-quickchart:hover {\n",
              "    background-color: #434B5C;\n",
              "    box-shadow: 0px 1px 3px 1px rgba(0, 0, 0, 0.15);\n",
              "    filter: drop-shadow(0px 1px 2px rgba(0, 0, 0, 0.3));\n",
              "    fill: #FFFFFF;\n",
              "  }\n",
              "</style>\n",
              "\n",
              "    <script>\n",
              "      async function quickchart(key) {\n",
              "        const containerElement = document.querySelector('#' + key);\n",
              "        const charts = await google.colab.kernel.invokeFunction(\n",
              "            'suggestCharts', [key], {});\n",
              "      }\n",
              "    </script>\n",
              "\n",
              "      <script>\n",
              "\n",
              "function displayQuickchartButton(domScope) {\n",
              "  let quickchartButtonEl =\n",
              "    domScope.querySelector('#df-449201ff-c7f8-45ad-ae38-fa30d1a60cc8 button.colab-df-quickchart');\n",
              "  quickchartButtonEl.style.display =\n",
              "    google.colab.kernel.accessAllowed ? 'block' : 'none';\n",
              "}\n",
              "\n",
              "        displayQuickchartButton(document);\n",
              "      </script>\n",
              "      <style>\n",
              "    .colab-df-container {\n",
              "      display:flex;\n",
              "      flex-wrap:wrap;\n",
              "      gap: 12px;\n",
              "    }\n",
              "\n",
              "    .colab-df-convert {\n",
              "      background-color: #E8F0FE;\n",
              "      border: none;\n",
              "      border-radius: 50%;\n",
              "      cursor: pointer;\n",
              "      display: none;\n",
              "      fill: #1967D2;\n",
              "      height: 32px;\n",
              "      padding: 0 0 0 0;\n",
              "      width: 32px;\n",
              "    }\n",
              "\n",
              "    .colab-df-convert:hover {\n",
              "      background-color: #E2EBFA;\n",
              "      box-shadow: 0px 1px 2px rgba(60, 64, 67, 0.3), 0px 1px 3px 1px rgba(60, 64, 67, 0.15);\n",
              "      fill: #174EA6;\n",
              "    }\n",
              "\n",
              "    [theme=dark] .colab-df-convert {\n",
              "      background-color: #3B4455;\n",
              "      fill: #D2E3FC;\n",
              "    }\n",
              "\n",
              "    [theme=dark] .colab-df-convert:hover {\n",
              "      background-color: #434B5C;\n",
              "      box-shadow: 0px 1px 3px 1px rgba(0, 0, 0, 0.15);\n",
              "      filter: drop-shadow(0px 1px 2px rgba(0, 0, 0, 0.3));\n",
              "      fill: #FFFFFF;\n",
              "    }\n",
              "  </style>\n",
              "\n",
              "      <script>\n",
              "        const buttonEl =\n",
              "          document.querySelector('#df-06a65176-89f9-4958-9445-88abec8c3023 button.colab-df-convert');\n",
              "        buttonEl.style.display =\n",
              "          google.colab.kernel.accessAllowed ? 'block' : 'none';\n",
              "\n",
              "        async function convertToInteractive(key) {\n",
              "          const element = document.querySelector('#df-06a65176-89f9-4958-9445-88abec8c3023');\n",
              "          const dataTable =\n",
              "            await google.colab.kernel.invokeFunction('convertToInteractive',\n",
              "                                                     [key], {});\n",
              "          if (!dataTable) return;\n",
              "\n",
              "          const docLinkHtml = 'Like what you see? Visit the ' +\n",
              "            '<a target=\"_blank\" href=https://colab.research.google.com/notebooks/data_table.ipynb>data table notebook</a>'\n",
              "            + ' to learn more about interactive tables.';\n",
              "          element.innerHTML = '';\n",
              "          dataTable['output_type'] = 'display_data';\n",
              "          await google.colab.output.renderOutput(dataTable, element);\n",
              "          const docLink = document.createElement('div');\n",
              "          docLink.innerHTML = docLinkHtml;\n",
              "          element.appendChild(docLink);\n",
              "        }\n",
              "      </script>\n",
              "    </div>\n",
              "  </div>\n"
            ]
          },
          "metadata": {},
          "execution_count": 170
        }
      ]
    },
    {
      "cell_type": "code",
      "source": [
        "Rgt_empt = \"https://raw.githubusercontent.com/Tom-Jung/legendary-funicular/main/Regional_IO_3sector_3rg_emp.csv\"  # 3부문, 3지역의 취업자수\n",
        "Rgt_emp_3 = pd.read_csv(Rgt_empt)\n",
        "Rgt_emp_3.head()"
      ],
      "metadata": {
        "id": "FCwTNqjXHPK5",
        "outputId": "22200a93-7503-4cfd-f05f-ab1f1e617e0b",
        "colab": {
          "base_uri": "https://localhost:8080/",
          "height": 143
        }
      },
      "execution_count": 171,
      "outputs": [
        {
          "output_type": "execute_result",
          "data": {
            "text/plain": [
              "         cd 수도권        동부권        서부권\n",
              "농산품    135543.0   485642.0   606337.0\n",
              "공산품   1818636.0  1444100.0   834780.0\n",
              "서비스  10302991.0  4744657.0  3749541.0"
            ],
            "text/html": [
              "\n",
              "\n",
              "  <div id=\"df-b58f2749-2ce9-4372-a6bb-4fb6e68bdf03\">\n",
              "    <div class=\"colab-df-container\">\n",
              "      <div>\n",
              "<style scoped>\n",
              "    .dataframe tbody tr th:only-of-type {\n",
              "        vertical-align: middle;\n",
              "    }\n",
              "\n",
              "    .dataframe tbody tr th {\n",
              "        vertical-align: top;\n",
              "    }\n",
              "\n",
              "    .dataframe thead th {\n",
              "        text-align: right;\n",
              "    }\n",
              "</style>\n",
              "<table border=\"1\" class=\"dataframe\">\n",
              "  <thead>\n",
              "    <tr style=\"text-align: right;\">\n",
              "      <th></th>\n",
              "      <th>cd 수도권</th>\n",
              "      <th>동부권</th>\n",
              "      <th>서부권</th>\n",
              "    </tr>\n",
              "  </thead>\n",
              "  <tbody>\n",
              "    <tr>\n",
              "      <th>농산품</th>\n",
              "      <td>135543.0</td>\n",
              "      <td>485642.0</td>\n",
              "      <td>606337.0</td>\n",
              "    </tr>\n",
              "    <tr>\n",
              "      <th>공산품</th>\n",
              "      <td>1818636.0</td>\n",
              "      <td>1444100.0</td>\n",
              "      <td>834780.0</td>\n",
              "    </tr>\n",
              "    <tr>\n",
              "      <th>서비스</th>\n",
              "      <td>10302991.0</td>\n",
              "      <td>4744657.0</td>\n",
              "      <td>3749541.0</td>\n",
              "    </tr>\n",
              "  </tbody>\n",
              "</table>\n",
              "</div>\n",
              "      <button class=\"colab-df-convert\" onclick=\"convertToInteractive('df-b58f2749-2ce9-4372-a6bb-4fb6e68bdf03')\"\n",
              "              title=\"Convert this dataframe to an interactive table.\"\n",
              "              style=\"display:none;\">\n",
              "\n",
              "  <svg xmlns=\"http://www.w3.org/2000/svg\" height=\"24px\"viewBox=\"0 0 24 24\"\n",
              "       width=\"24px\">\n",
              "    <path d=\"M0 0h24v24H0V0z\" fill=\"none\"/>\n",
              "    <path d=\"M18.56 5.44l.94 2.06.94-2.06 2.06-.94-2.06-.94-.94-2.06-.94 2.06-2.06.94zm-11 1L8.5 8.5l.94-2.06 2.06-.94-2.06-.94L8.5 2.5l-.94 2.06-2.06.94zm10 10l.94 2.06.94-2.06 2.06-.94-2.06-.94-.94-2.06-.94 2.06-2.06.94z\"/><path d=\"M17.41 7.96l-1.37-1.37c-.4-.4-.92-.59-1.43-.59-.52 0-1.04.2-1.43.59L10.3 9.45l-7.72 7.72c-.78.78-.78 2.05 0 2.83L4 21.41c.39.39.9.59 1.41.59.51 0 1.02-.2 1.41-.59l7.78-7.78 2.81-2.81c.8-.78.8-2.07 0-2.86zM5.41 20L4 18.59l7.72-7.72 1.47 1.35L5.41 20z\"/>\n",
              "  </svg>\n",
              "      </button>\n",
              "\n",
              "\n",
              "\n",
              "    <div id=\"df-8d140bda-3c44-44be-8b56-2133a0d50ea0\">\n",
              "      <button class=\"colab-df-quickchart\" onclick=\"quickchart('df-8d140bda-3c44-44be-8b56-2133a0d50ea0')\"\n",
              "              title=\"Suggest charts.\"\n",
              "              style=\"display:none;\">\n",
              "\n",
              "<svg xmlns=\"http://www.w3.org/2000/svg\" height=\"24px\"viewBox=\"0 0 24 24\"\n",
              "     width=\"24px\">\n",
              "    <g>\n",
              "        <path d=\"M19 3H5c-1.1 0-2 .9-2 2v14c0 1.1.9 2 2 2h14c1.1 0 2-.9 2-2V5c0-1.1-.9-2-2-2zM9 17H7v-7h2v7zm4 0h-2V7h2v10zm4 0h-2v-4h2v4z\"/>\n",
              "    </g>\n",
              "</svg>\n",
              "      </button>\n",
              "    </div>\n",
              "\n",
              "<style>\n",
              "  .colab-df-quickchart {\n",
              "    background-color: #E8F0FE;\n",
              "    border: none;\n",
              "    border-radius: 50%;\n",
              "    cursor: pointer;\n",
              "    display: none;\n",
              "    fill: #1967D2;\n",
              "    height: 32px;\n",
              "    padding: 0 0 0 0;\n",
              "    width: 32px;\n",
              "  }\n",
              "\n",
              "  .colab-df-quickchart:hover {\n",
              "    background-color: #E2EBFA;\n",
              "    box-shadow: 0px 1px 2px rgba(60, 64, 67, 0.3), 0px 1px 3px 1px rgba(60, 64, 67, 0.15);\n",
              "    fill: #174EA6;\n",
              "  }\n",
              "\n",
              "  [theme=dark] .colab-df-quickchart {\n",
              "    background-color: #3B4455;\n",
              "    fill: #D2E3FC;\n",
              "  }\n",
              "\n",
              "  [theme=dark] .colab-df-quickchart:hover {\n",
              "    background-color: #434B5C;\n",
              "    box-shadow: 0px 1px 3px 1px rgba(0, 0, 0, 0.15);\n",
              "    filter: drop-shadow(0px 1px 2px rgba(0, 0, 0, 0.3));\n",
              "    fill: #FFFFFF;\n",
              "  }\n",
              "</style>\n",
              "\n",
              "    <script>\n",
              "      async function quickchart(key) {\n",
              "        const containerElement = document.querySelector('#' + key);\n",
              "        const charts = await google.colab.kernel.invokeFunction(\n",
              "            'suggestCharts', [key], {});\n",
              "      }\n",
              "    </script>\n",
              "\n",
              "      <script>\n",
              "\n",
              "function displayQuickchartButton(domScope) {\n",
              "  let quickchartButtonEl =\n",
              "    domScope.querySelector('#df-8d140bda-3c44-44be-8b56-2133a0d50ea0 button.colab-df-quickchart');\n",
              "  quickchartButtonEl.style.display =\n",
              "    google.colab.kernel.accessAllowed ? 'block' : 'none';\n",
              "}\n",
              "\n",
              "        displayQuickchartButton(document);\n",
              "      </script>\n",
              "      <style>\n",
              "    .colab-df-container {\n",
              "      display:flex;\n",
              "      flex-wrap:wrap;\n",
              "      gap: 12px;\n",
              "    }\n",
              "\n",
              "    .colab-df-convert {\n",
              "      background-color: #E8F0FE;\n",
              "      border: none;\n",
              "      border-radius: 50%;\n",
              "      cursor: pointer;\n",
              "      display: none;\n",
              "      fill: #1967D2;\n",
              "      height: 32px;\n",
              "      padding: 0 0 0 0;\n",
              "      width: 32px;\n",
              "    }\n",
              "\n",
              "    .colab-df-convert:hover {\n",
              "      background-color: #E2EBFA;\n",
              "      box-shadow: 0px 1px 2px rgba(60, 64, 67, 0.3), 0px 1px 3px 1px rgba(60, 64, 67, 0.15);\n",
              "      fill: #174EA6;\n",
              "    }\n",
              "\n",
              "    [theme=dark] .colab-df-convert {\n",
              "      background-color: #3B4455;\n",
              "      fill: #D2E3FC;\n",
              "    }\n",
              "\n",
              "    [theme=dark] .colab-df-convert:hover {\n",
              "      background-color: #434B5C;\n",
              "      box-shadow: 0px 1px 3px 1px rgba(0, 0, 0, 0.15);\n",
              "      filter: drop-shadow(0px 1px 2px rgba(0, 0, 0, 0.3));\n",
              "      fill: #FFFFFF;\n",
              "    }\n",
              "  </style>\n",
              "\n",
              "      <script>\n",
              "        const buttonEl =\n",
              "          document.querySelector('#df-b58f2749-2ce9-4372-a6bb-4fb6e68bdf03 button.colab-df-convert');\n",
              "        buttonEl.style.display =\n",
              "          google.colab.kernel.accessAllowed ? 'block' : 'none';\n",
              "\n",
              "        async function convertToInteractive(key) {\n",
              "          const element = document.querySelector('#df-b58f2749-2ce9-4372-a6bb-4fb6e68bdf03');\n",
              "          const dataTable =\n",
              "            await google.colab.kernel.invokeFunction('convertToInteractive',\n",
              "                                                     [key], {});\n",
              "          if (!dataTable) return;\n",
              "\n",
              "          const docLinkHtml = 'Like what you see? Visit the ' +\n",
              "            '<a target=\"_blank\" href=https://colab.research.google.com/notebooks/data_table.ipynb>data table notebook</a>'\n",
              "            + ' to learn more about interactive tables.';\n",
              "          element.innerHTML = '';\n",
              "          dataTable['output_type'] = 'display_data';\n",
              "          await google.colab.output.renderOutput(dataTable, element);\n",
              "          const docLink = document.createElement('div');\n",
              "          docLink.innerHTML = docLinkHtml;\n",
              "          element.appendChild(docLink);\n",
              "        }\n",
              "      </script>\n",
              "    </div>\n",
              "  </div>\n"
            ]
          },
          "metadata": {},
          "execution_count": 171
        }
      ]
    },
    {
      "cell_type": "markdown",
      "source": [
        "## 지역, 산업구조 분석"
      ],
      "metadata": {
        "id": "N45bkFE96GzI"
      }
    },
    {
      "cell_type": "code",
      "source": [
        "Rgt_33 = Rgt_3.to_numpy()\n",
        "Mt = Rgt_33[1:,2:].astype(float)\n",
        "Mt"
      ],
      "metadata": {
        "id": "lgZdmFj5ZQ2P",
        "outputId": "597b1657-24d6-4005-d40c-3d287e25a6ba",
        "colab": {
          "base_uri": "https://localhost:8080/"
        }
      },
      "execution_count": 172,
      "outputs": [
        {
          "output_type": "execute_result",
          "data": {
            "text/plain": [
              "array([[   0.,    3.,    1.,    0.,    0.,    0.,    0.,    1.,    0.,\n",
              "           5.,    1.,    0.,    0.,    0.,    0.,    0.,    0.,    0.,\n",
              "           0.,    1.,    6.,    0.,    6.],\n",
              "       [   2.,  112.,   71.,    1.,   36.,   14.,    1.,   37.,   13.,\n",
              "         287.,   29.,   21.,  215.,    9.,    6.,    0.,    7.,    8.,\n",
              "           0.,  295.,  582.,    0.,  582.],\n",
              "       [   1.,   79.,  302.,    1.,   27.,   31.,    1.,   28.,   28.,\n",
              "         498.,  387.,  164.,   67.,   33.,   13.,    0.,   31.,   11.,\n",
              "           0.,  706., 1204.,    0., 1204.],\n",
              "       [   0.,    1.,    2.,    1.,    7.,    2.,    0.,    2.,    0.,\n",
              "          15.,    3.,    0.,    0.,    3.,    1.,    0.,    1.,    0.,\n",
              "           0.,    8.,   23.,    0.,   23.],\n",
              "       [   0.,   43.,   38.,    4.,  158.,   40.,    1.,   36.,   13.,\n",
              "         333.,   20.,   15.,    0.,   19.,   11.,  226.,    7.,    7.,\n",
              "           0.,  305.,  638.,    0.,  638.],\n",
              "       [   0.,    4.,   15.,    2.,   59.,   76.,    0.,    3.,    4.,\n",
              "         163.,   11.,    2.,    0.,  194.,   77.,   26.,    5.,    1.,\n",
              "           0.,  316.,  479.,    0.,  479.],\n",
              "       [   0.,    2.,    3.,    0.,    1.,    1.,    1.,   12.,    2.,\n",
              "          22.,    3.,    0.,    0.,    1.,    0.,    0.,    2.,    1.,\n",
              "           0.,    7.,   29.,    0.,   29.],\n",
              "       [   0.,   46.,   40.,    1.,   41.,   15.,    6.,   88.,   31.,\n",
              "         268.,   15.,    9.,    0.,    7.,    4.,    0.,   15.,    5.,\n",
              "         168.,  223.,  491.,    0.,  491.],\n",
              "       [   0.,    3.,   17.,    0.,    3.,    3.,    2.,   41.,   56.,\n",
              "         125.,   15.,    4.,    0.,    5.,    1.,    0.,  146.,   71.,\n",
              "          12.,  254.,  379.,    0.,  379.],\n",
              "       [   0.,    3.,    0.,    0.,    2.,    0.,    0.,    3.,    0.,\n",
              "           8.,    1.,    0.,    0.,    1.,    0.,    0.,    1.,    0.,\n",
              "           0.,    3.,   11.,  -11.,    0.],\n",
              "       [   0.,  101.,   41.,    0.,  130.,   18.,    1.,   99.,   18.,\n",
              "         408.,   27.,   29.,    2.,   15.,   12.,    0.,   11.,   13.,\n",
              "           0.,  109.,  517., -517.,    0.],\n",
              "       [   0.,    6.,   25.,    0.,    6.,   13.,    0.,    4.,    8.,\n",
              "          62.,   15.,    5.,    0.,    7.,    1.,    0.,    7.,    1.,\n",
              "           0.,   36.,   98.,  -98.,    0.],\n",
              "       [   3.,  403.,  555.,   10.,  470.,  213.,   13.,  354.,  173.,\n",
              "        2194.,  527.,  249.,  284.,  294.,  126.,  252.,  233.,  118.,\n",
              "         180., 2263., 4457., -626., 3831.],\n",
              "       [   0.,   71.,  324.,    2.,   63.,  135.,    3.,   43.,  109.,\n",
              "         750.,    0.,    0.,    0.,    0.,    0.,    0.,    0.,    0.,\n",
              "           0.,    0.,    0.,    0.,    0.],\n",
              "       [   2.,   52.,  170.,    9.,   45.,   65.,   11.,   43.,   45.,\n",
              "         442.,    0.,    0.,    0.,    0.,    0.,    0.,    0.,    0.,\n",
              "           0.,    0.,    0.,    0.,    0.],\n",
              "       [   1.,   45.,  104.,    2.,   37.,   48.,    2.,   32.,   38.,\n",
              "         309.,    0.,    0.,    0.,    0.,    0.,    0.,    0.,    0.,\n",
              "           0.,    0.,    0.,    0.,    0.],\n",
              "       [   0.,   11.,   51.,    0.,   23.,   18.,    0.,   19.,   14.,\n",
              "         136.,    0.,    0.,    0.,    0.,    0.,    0.,    0.,    0.,\n",
              "           0.,    0.,    0.,    0.,    0.],\n",
              "       [   3.,  179.,  649.,   13.,  168.,  266.,   16.,  137.,  206.,\n",
              "        1637.,    0.,    0.,    0.,    0.,    0.,    0.,    0.,    0.,\n",
              "           0.,    0.,    0.,    0.,    0.],\n",
              "       [   6.,  582., 1204.,   23.,  638.,  479.,   29.,  491.,  379.,\n",
              "        3831.,    0.,    0.,    0.,    0.,    0.,    0.,    0.,    0.,\n",
              "           0.,    0.,    0.,    0.,    0.]])"
            ]
          },
          "metadata": {},
          "execution_count": 172
        }
      ]
    },
    {
      "cell_type": "code",
      "source": [
        "va = Mt[-2,:10].reshape([1,10]) # 산업별 부가가치\n",
        "ct = Mt[-1,:10].reshape([1,10])  # 산업별 산출액\n",
        "ct"
      ],
      "metadata": {
        "id": "ct-TgHVXrlZj",
        "outputId": "8e0b715d-82eb-485b-b02c-df2dcbfccf8d",
        "colab": {
          "base_uri": "https://localhost:8080/"
        }
      },
      "execution_count": 173,
      "outputs": [
        {
          "output_type": "execute_result",
          "data": {
            "text/plain": [
              "array([[   6.,  582., 1204.,   23.,  638.,  479.,   29.,  491.,  379.,\n",
              "        3831.]])"
            ]
          },
          "metadata": {},
          "execution_count": 173
        }
      ]
    },
    {
      "cell_type": "code",
      "source": [
        "# 지역기준\n",
        "sudo = np.vstack((va[:,:3].sum(),ct[:,:3].sum())).round(1)\n",
        "seobu = np.vstack((va[:,3:6].sum(),ct[:,3:6].sum())).round(1)\n",
        "dongbu = np.vstack((va[:,6:9].sum(),ct[:,6:9].sum())).round(1)\n",
        "\n",
        "sm_vact = np.vstack((va[:,9],ct[:,9]))\n",
        "vact_all = np.hstack((sudo, seobu, dongbu,sm_vact))\n",
        "\n",
        "va_sm = np.hstack((sudo, seobu, dongbu))\n",
        "ctva_wgt = ((vact_all/sm_vact)*100).round(1)\n",
        "str_rg = np.vstack((vact_all,ctva_wgt))\n",
        "str_rg.shape"
      ],
      "metadata": {
        "id": "kmVCLDn0rleg",
        "outputId": "89af969e-d9a9-4d6b-a30a-1e79b8857d68",
        "colab": {
          "base_uri": "https://localhost:8080/"
        }
      },
      "execution_count": 174,
      "outputs": [
        {
          "output_type": "execute_result",
          "data": {
            "text/plain": [
              "(4, 4)"
            ]
          },
          "metadata": {},
          "execution_count": 174
        }
      ]
    },
    {
      "cell_type": "code",
      "source": [
        "VACT_by_RG = pd.DataFrame(str_rg, columns = ['수도권', '동부권', '서부권','합계'],\n",
        "                     index=['부가가치', '산출액', '부가가치비중', '산출액비중']) # 변수명 붙여서 pandas로 내보내기\n",
        "VACT_by_RG"
      ],
      "metadata": {
        "id": "FAm4jifsH4ZI",
        "outputId": "148a45fa-8fbd-4c8f-86a8-54f9217e45fe",
        "colab": {
          "base_uri": "https://localhost:8080/",
          "height": 175
        }
      },
      "execution_count": 175,
      "outputs": [
        {
          "output_type": "execute_result",
          "data": {
            "text/plain": [
              "           수도권     동부권    서부권      합계\n",
              "부가가치     831.0   447.0  359.0  1637.0\n",
              "산출액     1792.0  1140.0  899.0  3831.0\n",
              "부가가치비중    50.8    27.3   21.9   100.0\n",
              "산출액비중     46.8    29.8   23.5   100.0"
            ],
            "text/html": [
              "\n",
              "\n",
              "  <div id=\"df-b8f386e6-3aa1-430a-9f61-e80e20d56e38\">\n",
              "    <div class=\"colab-df-container\">\n",
              "      <div>\n",
              "<style scoped>\n",
              "    .dataframe tbody tr th:only-of-type {\n",
              "        vertical-align: middle;\n",
              "    }\n",
              "\n",
              "    .dataframe tbody tr th {\n",
              "        vertical-align: top;\n",
              "    }\n",
              "\n",
              "    .dataframe thead th {\n",
              "        text-align: right;\n",
              "    }\n",
              "</style>\n",
              "<table border=\"1\" class=\"dataframe\">\n",
              "  <thead>\n",
              "    <tr style=\"text-align: right;\">\n",
              "      <th></th>\n",
              "      <th>수도권</th>\n",
              "      <th>동부권</th>\n",
              "      <th>서부권</th>\n",
              "      <th>합계</th>\n",
              "    </tr>\n",
              "  </thead>\n",
              "  <tbody>\n",
              "    <tr>\n",
              "      <th>부가가치</th>\n",
              "      <td>831.0</td>\n",
              "      <td>447.0</td>\n",
              "      <td>359.0</td>\n",
              "      <td>1637.0</td>\n",
              "    </tr>\n",
              "    <tr>\n",
              "      <th>산출액</th>\n",
              "      <td>1792.0</td>\n",
              "      <td>1140.0</td>\n",
              "      <td>899.0</td>\n",
              "      <td>3831.0</td>\n",
              "    </tr>\n",
              "    <tr>\n",
              "      <th>부가가치비중</th>\n",
              "      <td>50.8</td>\n",
              "      <td>27.3</td>\n",
              "      <td>21.9</td>\n",
              "      <td>100.0</td>\n",
              "    </tr>\n",
              "    <tr>\n",
              "      <th>산출액비중</th>\n",
              "      <td>46.8</td>\n",
              "      <td>29.8</td>\n",
              "      <td>23.5</td>\n",
              "      <td>100.0</td>\n",
              "    </tr>\n",
              "  </tbody>\n",
              "</table>\n",
              "</div>\n",
              "      <button class=\"colab-df-convert\" onclick=\"convertToInteractive('df-b8f386e6-3aa1-430a-9f61-e80e20d56e38')\"\n",
              "              title=\"Convert this dataframe to an interactive table.\"\n",
              "              style=\"display:none;\">\n",
              "\n",
              "  <svg xmlns=\"http://www.w3.org/2000/svg\" height=\"24px\"viewBox=\"0 0 24 24\"\n",
              "       width=\"24px\">\n",
              "    <path d=\"M0 0h24v24H0V0z\" fill=\"none\"/>\n",
              "    <path d=\"M18.56 5.44l.94 2.06.94-2.06 2.06-.94-2.06-.94-.94-2.06-.94 2.06-2.06.94zm-11 1L8.5 8.5l.94-2.06 2.06-.94-2.06-.94L8.5 2.5l-.94 2.06-2.06.94zm10 10l.94 2.06.94-2.06 2.06-.94-2.06-.94-.94-2.06-.94 2.06-2.06.94z\"/><path d=\"M17.41 7.96l-1.37-1.37c-.4-.4-.92-.59-1.43-.59-.52 0-1.04.2-1.43.59L10.3 9.45l-7.72 7.72c-.78.78-.78 2.05 0 2.83L4 21.41c.39.39.9.59 1.41.59.51 0 1.02-.2 1.41-.59l7.78-7.78 2.81-2.81c.8-.78.8-2.07 0-2.86zM5.41 20L4 18.59l7.72-7.72 1.47 1.35L5.41 20z\"/>\n",
              "  </svg>\n",
              "      </button>\n",
              "\n",
              "\n",
              "\n",
              "    <div id=\"df-521ad87b-0733-433b-8e77-1f4299207845\">\n",
              "      <button class=\"colab-df-quickchart\" onclick=\"quickchart('df-521ad87b-0733-433b-8e77-1f4299207845')\"\n",
              "              title=\"Suggest charts.\"\n",
              "              style=\"display:none;\">\n",
              "\n",
              "<svg xmlns=\"http://www.w3.org/2000/svg\" height=\"24px\"viewBox=\"0 0 24 24\"\n",
              "     width=\"24px\">\n",
              "    <g>\n",
              "        <path d=\"M19 3H5c-1.1 0-2 .9-2 2v14c0 1.1.9 2 2 2h14c1.1 0 2-.9 2-2V5c0-1.1-.9-2-2-2zM9 17H7v-7h2v7zm4 0h-2V7h2v10zm4 0h-2v-4h2v4z\"/>\n",
              "    </g>\n",
              "</svg>\n",
              "      </button>\n",
              "    </div>\n",
              "\n",
              "<style>\n",
              "  .colab-df-quickchart {\n",
              "    background-color: #E8F0FE;\n",
              "    border: none;\n",
              "    border-radius: 50%;\n",
              "    cursor: pointer;\n",
              "    display: none;\n",
              "    fill: #1967D2;\n",
              "    height: 32px;\n",
              "    padding: 0 0 0 0;\n",
              "    width: 32px;\n",
              "  }\n",
              "\n",
              "  .colab-df-quickchart:hover {\n",
              "    background-color: #E2EBFA;\n",
              "    box-shadow: 0px 1px 2px rgba(60, 64, 67, 0.3), 0px 1px 3px 1px rgba(60, 64, 67, 0.15);\n",
              "    fill: #174EA6;\n",
              "  }\n",
              "\n",
              "  [theme=dark] .colab-df-quickchart {\n",
              "    background-color: #3B4455;\n",
              "    fill: #D2E3FC;\n",
              "  }\n",
              "\n",
              "  [theme=dark] .colab-df-quickchart:hover {\n",
              "    background-color: #434B5C;\n",
              "    box-shadow: 0px 1px 3px 1px rgba(0, 0, 0, 0.15);\n",
              "    filter: drop-shadow(0px 1px 2px rgba(0, 0, 0, 0.3));\n",
              "    fill: #FFFFFF;\n",
              "  }\n",
              "</style>\n",
              "\n",
              "    <script>\n",
              "      async function quickchart(key) {\n",
              "        const containerElement = document.querySelector('#' + key);\n",
              "        const charts = await google.colab.kernel.invokeFunction(\n",
              "            'suggestCharts', [key], {});\n",
              "      }\n",
              "    </script>\n",
              "\n",
              "      <script>\n",
              "\n",
              "function displayQuickchartButton(domScope) {\n",
              "  let quickchartButtonEl =\n",
              "    domScope.querySelector('#df-521ad87b-0733-433b-8e77-1f4299207845 button.colab-df-quickchart');\n",
              "  quickchartButtonEl.style.display =\n",
              "    google.colab.kernel.accessAllowed ? 'block' : 'none';\n",
              "}\n",
              "\n",
              "        displayQuickchartButton(document);\n",
              "      </script>\n",
              "      <style>\n",
              "    .colab-df-container {\n",
              "      display:flex;\n",
              "      flex-wrap:wrap;\n",
              "      gap: 12px;\n",
              "    }\n",
              "\n",
              "    .colab-df-convert {\n",
              "      background-color: #E8F0FE;\n",
              "      border: none;\n",
              "      border-radius: 50%;\n",
              "      cursor: pointer;\n",
              "      display: none;\n",
              "      fill: #1967D2;\n",
              "      height: 32px;\n",
              "      padding: 0 0 0 0;\n",
              "      width: 32px;\n",
              "    }\n",
              "\n",
              "    .colab-df-convert:hover {\n",
              "      background-color: #E2EBFA;\n",
              "      box-shadow: 0px 1px 2px rgba(60, 64, 67, 0.3), 0px 1px 3px 1px rgba(60, 64, 67, 0.15);\n",
              "      fill: #174EA6;\n",
              "    }\n",
              "\n",
              "    [theme=dark] .colab-df-convert {\n",
              "      background-color: #3B4455;\n",
              "      fill: #D2E3FC;\n",
              "    }\n",
              "\n",
              "    [theme=dark] .colab-df-convert:hover {\n",
              "      background-color: #434B5C;\n",
              "      box-shadow: 0px 1px 3px 1px rgba(0, 0, 0, 0.15);\n",
              "      filter: drop-shadow(0px 1px 2px rgba(0, 0, 0, 0.3));\n",
              "      fill: #FFFFFF;\n",
              "    }\n",
              "  </style>\n",
              "\n",
              "      <script>\n",
              "        const buttonEl =\n",
              "          document.querySelector('#df-b8f386e6-3aa1-430a-9f61-e80e20d56e38 button.colab-df-convert');\n",
              "        buttonEl.style.display =\n",
              "          google.colab.kernel.accessAllowed ? 'block' : 'none';\n",
              "\n",
              "        async function convertToInteractive(key) {\n",
              "          const element = document.querySelector('#df-b8f386e6-3aa1-430a-9f61-e80e20d56e38');\n",
              "          const dataTable =\n",
              "            await google.colab.kernel.invokeFunction('convertToInteractive',\n",
              "                                                     [key], {});\n",
              "          if (!dataTable) return;\n",
              "\n",
              "          const docLinkHtml = 'Like what you see? Visit the ' +\n",
              "            '<a target=\"_blank\" href=https://colab.research.google.com/notebooks/data_table.ipynb>data table notebook</a>'\n",
              "            + ' to learn more about interactive tables.';\n",
              "          element.innerHTML = '';\n",
              "          dataTable['output_type'] = 'display_data';\n",
              "          await google.colab.output.renderOutput(dataTable, element);\n",
              "          const docLink = document.createElement('div');\n",
              "          docLink.innerHTML = docLinkHtml;\n",
              "          element.appendChild(docLink);\n",
              "        }\n",
              "      </script>\n",
              "    </div>\n",
              "  </div>\n"
            ]
          },
          "metadata": {},
          "execution_count": 175
        }
      ]
    },
    {
      "cell_type": "code",
      "source": [
        "# csv 파일로 내보내기\n",
        "VACT_by_RG.to_csv('산출액_부가가치_지역별_비중.csv', encoding='utf_8-sig')"
      ],
      "metadata": {
        "id": "1vm1Xv8drlkJ"
      },
      "execution_count": 176,
      "outputs": []
    },
    {
      "cell_type": "code",
      "source": [
        "# 산업기준\n",
        "# 부가가치\n",
        "arg_va = np.hstack((va[:,0],va[:,3],va[:,6]))    # 3개권역 농산품\n",
        "manu_va = np.hstack((va[:,1],va[:,4],va[:,7]))  # 3개권역 공산품\n",
        "serv_va= np.hstack((va[:,2],va[:,5],va[:,8]))  # 3개권역 서비스\n",
        "\n",
        "# 산출액\n",
        "arg_ct = np.hstack((ct[:,0],ct[:,3],ct[:,6]))    # 3개권역 농산품\n",
        "manu_ct = np.hstack((ct[:,1],ct[:,4],ct[:,7]))  # 3개권역 공산품\n",
        "serv_ct = np.hstack((ct[:,2],ct[:,5],ct[:,8]))  # 3개권역 서비스\n",
        "\n",
        "serv_ct"
      ],
      "metadata": {
        "id": "kD6_kGVfrlod",
        "outputId": "227e4a7a-e472-4d9f-a5cf-7cfde959afda",
        "colab": {
          "base_uri": "https://localhost:8080/"
        }
      },
      "execution_count": 177,
      "outputs": [
        {
          "output_type": "execute_result",
          "data": {
            "text/plain": [
              "array([1204.,  479.,  379.])"
            ]
          },
          "metadata": {},
          "execution_count": 177
        }
      ]
    },
    {
      "cell_type": "code",
      "source": [
        "arg_va_sm = np.sum(arg_va)\n",
        "manu_va_sm = np.sum(manu_va)\n",
        "serv_va_sm = np.sum(serv_va)\n",
        "\n",
        "arg_ct_sm = np.sum(arg_ct)\n",
        "manu_ct_sm = np.sum(manu_ct)\n",
        "serv_ct_sm = np.sum(serv_ct)"
      ],
      "metadata": {
        "id": "pIQ5uF5PrluS"
      },
      "execution_count": 178,
      "outputs": []
    },
    {
      "cell_type": "code",
      "source": [
        "# 산업별 지역별 부가가치 비중\n",
        "arg_va_all = np.hstack((arg_va, arg_va_sm)).round(1)\n",
        "manu_va_all = np.hstack((manu_va, manu_va_sm)).round(1)\n",
        "serv_va_all = np.hstack((serv_va, serv_va_sm)).round(1)\n",
        "\n",
        "arg_va_wgt = (arg_va_all/arg_va_sm*100).round(1)  # 농산품비중\n",
        "manu_va_wgt = (manu_va_all/manu_va_sm*100).round(1)  # 공산품비중\n",
        "serv_va_wgt = (serv_va_all/serv_va_sm*100).round(1)  # 공산품비중\n",
        "serv_va_wgt"
      ],
      "metadata": {
        "id": "hYp4NZ2kcL3A",
        "outputId": "327bfef1-6587-4bdc-8a5e-6592de136008",
        "colab": {
          "base_uri": "https://localhost:8080/"
        }
      },
      "execution_count": 179,
      "outputs": [
        {
          "output_type": "execute_result",
          "data": {
            "text/plain": [
              "array([ 57.9,  23.7,  18.4, 100. ])"
            ]
          },
          "metadata": {},
          "execution_count": 179
        }
      ]
    },
    {
      "cell_type": "code",
      "source": [
        "# 산업별 지역별 산출액 비중\n",
        "arg_ct_all = np.hstack((arg_ct, arg_ct_sm)).round(1)\n",
        "manu_ct_all = np.hstack((manu_ct, manu_ct_sm)).round(1)\n",
        "serv_ct_all = np.hstack((serv_ct, serv_ct_sm)).round(1)\n",
        "\n",
        "arg_ct_wgt = (arg_ct_all/arg_ct_sm*100).round(1)  # 농산품비중\n",
        "manu_ct_wgt = (manu_ct_all/manu_ct_sm*100).round(1)  # 공산품비중\n",
        "serv_ct_wgt = (serv_ct_all/serv_ct_sm*100).round(1)  # 공산품비중\n",
        "serv_ct_wgt"
      ],
      "metadata": {
        "id": "01gIbgUGcL5s",
        "outputId": "2f75d526-203e-4234-a595-1a8e96d6bb10",
        "colab": {
          "base_uri": "https://localhost:8080/"
        }
      },
      "execution_count": 180,
      "outputs": [
        {
          "output_type": "execute_result",
          "data": {
            "text/plain": [
              "array([ 58.4,  23.2,  18.4, 100. ])"
            ]
          },
          "metadata": {},
          "execution_count": 180
        }
      ]
    },
    {
      "cell_type": "code",
      "source": [
        "va_by_ind = np.vstack((arg_va_all,manu_va_all,serv_va_all,arg_va_wgt, manu_va_wgt, serv_va_wgt)) # 부가가치\n",
        "ct_by_ind = np.vstack((arg_ct_all,manu_ct_all,serv_ct_all, arg_ct_wgt, manu_ct_wgt, serv_ct_wgt)) # 산출액\n",
        "va_by_ind.shape"
      ],
      "metadata": {
        "id": "g24r5zE8ePXO",
        "outputId": "86093150-bdcf-47ca-eb0e-8209899f3ddb",
        "colab": {
          "base_uri": "https://localhost:8080/"
        }
      },
      "execution_count": 181,
      "outputs": [
        {
          "output_type": "execute_result",
          "data": {
            "text/plain": [
              "(6, 4)"
            ]
          },
          "metadata": {},
          "execution_count": 181
        }
      ]
    },
    {
      "cell_type": "code",
      "source": [
        "VA_IND = pd.DataFrame(va_by_ind, columns = ['수도권', '동부권', '서부권', '합계'],\n",
        "                     index=['농산품', '공산품', '서비스', '농산품비중', '공산품비중', '서비스비중',]) # 변수명 붙여서 pandas로 내보내기\n",
        "VA_IND"
      ],
      "metadata": {
        "id": "okCkqZWgcL75",
        "outputId": "4c5b79fc-7374-4092-ec5a-87eca227d6ce",
        "colab": {
          "base_uri": "https://localhost:8080/",
          "height": 238
        }
      },
      "execution_count": 182,
      "outputs": [
        {
          "output_type": "execute_result",
          "data": {
            "text/plain": [
              "         수도권    동부권    서부권      합계\n",
              "농산품      3.0   13.0   16.0    32.0\n",
              "공산품    179.0  168.0  137.0   484.0\n",
              "서비스    649.0  266.0  206.0  1121.0\n",
              "농산품비중    9.4   40.6   50.0   100.0\n",
              "공산품비중   37.0   34.7   28.3   100.0\n",
              "서비스비중   57.9   23.7   18.4   100.0"
            ],
            "text/html": [
              "\n",
              "\n",
              "  <div id=\"df-90219583-6901-4c6e-92e2-06269523ad46\">\n",
              "    <div class=\"colab-df-container\">\n",
              "      <div>\n",
              "<style scoped>\n",
              "    .dataframe tbody tr th:only-of-type {\n",
              "        vertical-align: middle;\n",
              "    }\n",
              "\n",
              "    .dataframe tbody tr th {\n",
              "        vertical-align: top;\n",
              "    }\n",
              "\n",
              "    .dataframe thead th {\n",
              "        text-align: right;\n",
              "    }\n",
              "</style>\n",
              "<table border=\"1\" class=\"dataframe\">\n",
              "  <thead>\n",
              "    <tr style=\"text-align: right;\">\n",
              "      <th></th>\n",
              "      <th>수도권</th>\n",
              "      <th>동부권</th>\n",
              "      <th>서부권</th>\n",
              "      <th>합계</th>\n",
              "    </tr>\n",
              "  </thead>\n",
              "  <tbody>\n",
              "    <tr>\n",
              "      <th>농산품</th>\n",
              "      <td>3.0</td>\n",
              "      <td>13.0</td>\n",
              "      <td>16.0</td>\n",
              "      <td>32.0</td>\n",
              "    </tr>\n",
              "    <tr>\n",
              "      <th>공산품</th>\n",
              "      <td>179.0</td>\n",
              "      <td>168.0</td>\n",
              "      <td>137.0</td>\n",
              "      <td>484.0</td>\n",
              "    </tr>\n",
              "    <tr>\n",
              "      <th>서비스</th>\n",
              "      <td>649.0</td>\n",
              "      <td>266.0</td>\n",
              "      <td>206.0</td>\n",
              "      <td>1121.0</td>\n",
              "    </tr>\n",
              "    <tr>\n",
              "      <th>농산품비중</th>\n",
              "      <td>9.4</td>\n",
              "      <td>40.6</td>\n",
              "      <td>50.0</td>\n",
              "      <td>100.0</td>\n",
              "    </tr>\n",
              "    <tr>\n",
              "      <th>공산품비중</th>\n",
              "      <td>37.0</td>\n",
              "      <td>34.7</td>\n",
              "      <td>28.3</td>\n",
              "      <td>100.0</td>\n",
              "    </tr>\n",
              "    <tr>\n",
              "      <th>서비스비중</th>\n",
              "      <td>57.9</td>\n",
              "      <td>23.7</td>\n",
              "      <td>18.4</td>\n",
              "      <td>100.0</td>\n",
              "    </tr>\n",
              "  </tbody>\n",
              "</table>\n",
              "</div>\n",
              "      <button class=\"colab-df-convert\" onclick=\"convertToInteractive('df-90219583-6901-4c6e-92e2-06269523ad46')\"\n",
              "              title=\"Convert this dataframe to an interactive table.\"\n",
              "              style=\"display:none;\">\n",
              "\n",
              "  <svg xmlns=\"http://www.w3.org/2000/svg\" height=\"24px\"viewBox=\"0 0 24 24\"\n",
              "       width=\"24px\">\n",
              "    <path d=\"M0 0h24v24H0V0z\" fill=\"none\"/>\n",
              "    <path d=\"M18.56 5.44l.94 2.06.94-2.06 2.06-.94-2.06-.94-.94-2.06-.94 2.06-2.06.94zm-11 1L8.5 8.5l.94-2.06 2.06-.94-2.06-.94L8.5 2.5l-.94 2.06-2.06.94zm10 10l.94 2.06.94-2.06 2.06-.94-2.06-.94-.94-2.06-.94 2.06-2.06.94z\"/><path d=\"M17.41 7.96l-1.37-1.37c-.4-.4-.92-.59-1.43-.59-.52 0-1.04.2-1.43.59L10.3 9.45l-7.72 7.72c-.78.78-.78 2.05 0 2.83L4 21.41c.39.39.9.59 1.41.59.51 0 1.02-.2 1.41-.59l7.78-7.78 2.81-2.81c.8-.78.8-2.07 0-2.86zM5.41 20L4 18.59l7.72-7.72 1.47 1.35L5.41 20z\"/>\n",
              "  </svg>\n",
              "      </button>\n",
              "\n",
              "\n",
              "\n",
              "    <div id=\"df-09f791aa-845f-47d3-b5b4-a68964d15c46\">\n",
              "      <button class=\"colab-df-quickchart\" onclick=\"quickchart('df-09f791aa-845f-47d3-b5b4-a68964d15c46')\"\n",
              "              title=\"Suggest charts.\"\n",
              "              style=\"display:none;\">\n",
              "\n",
              "<svg xmlns=\"http://www.w3.org/2000/svg\" height=\"24px\"viewBox=\"0 0 24 24\"\n",
              "     width=\"24px\">\n",
              "    <g>\n",
              "        <path d=\"M19 3H5c-1.1 0-2 .9-2 2v14c0 1.1.9 2 2 2h14c1.1 0 2-.9 2-2V5c0-1.1-.9-2-2-2zM9 17H7v-7h2v7zm4 0h-2V7h2v10zm4 0h-2v-4h2v4z\"/>\n",
              "    </g>\n",
              "</svg>\n",
              "      </button>\n",
              "    </div>\n",
              "\n",
              "<style>\n",
              "  .colab-df-quickchart {\n",
              "    background-color: #E8F0FE;\n",
              "    border: none;\n",
              "    border-radius: 50%;\n",
              "    cursor: pointer;\n",
              "    display: none;\n",
              "    fill: #1967D2;\n",
              "    height: 32px;\n",
              "    padding: 0 0 0 0;\n",
              "    width: 32px;\n",
              "  }\n",
              "\n",
              "  .colab-df-quickchart:hover {\n",
              "    background-color: #E2EBFA;\n",
              "    box-shadow: 0px 1px 2px rgba(60, 64, 67, 0.3), 0px 1px 3px 1px rgba(60, 64, 67, 0.15);\n",
              "    fill: #174EA6;\n",
              "  }\n",
              "\n",
              "  [theme=dark] .colab-df-quickchart {\n",
              "    background-color: #3B4455;\n",
              "    fill: #D2E3FC;\n",
              "  }\n",
              "\n",
              "  [theme=dark] .colab-df-quickchart:hover {\n",
              "    background-color: #434B5C;\n",
              "    box-shadow: 0px 1px 3px 1px rgba(0, 0, 0, 0.15);\n",
              "    filter: drop-shadow(0px 1px 2px rgba(0, 0, 0, 0.3));\n",
              "    fill: #FFFFFF;\n",
              "  }\n",
              "</style>\n",
              "\n",
              "    <script>\n",
              "      async function quickchart(key) {\n",
              "        const containerElement = document.querySelector('#' + key);\n",
              "        const charts = await google.colab.kernel.invokeFunction(\n",
              "            'suggestCharts', [key], {});\n",
              "      }\n",
              "    </script>\n",
              "\n",
              "      <script>\n",
              "\n",
              "function displayQuickchartButton(domScope) {\n",
              "  let quickchartButtonEl =\n",
              "    domScope.querySelector('#df-09f791aa-845f-47d3-b5b4-a68964d15c46 button.colab-df-quickchart');\n",
              "  quickchartButtonEl.style.display =\n",
              "    google.colab.kernel.accessAllowed ? 'block' : 'none';\n",
              "}\n",
              "\n",
              "        displayQuickchartButton(document);\n",
              "      </script>\n",
              "      <style>\n",
              "    .colab-df-container {\n",
              "      display:flex;\n",
              "      flex-wrap:wrap;\n",
              "      gap: 12px;\n",
              "    }\n",
              "\n",
              "    .colab-df-convert {\n",
              "      background-color: #E8F0FE;\n",
              "      border: none;\n",
              "      border-radius: 50%;\n",
              "      cursor: pointer;\n",
              "      display: none;\n",
              "      fill: #1967D2;\n",
              "      height: 32px;\n",
              "      padding: 0 0 0 0;\n",
              "      width: 32px;\n",
              "    }\n",
              "\n",
              "    .colab-df-convert:hover {\n",
              "      background-color: #E2EBFA;\n",
              "      box-shadow: 0px 1px 2px rgba(60, 64, 67, 0.3), 0px 1px 3px 1px rgba(60, 64, 67, 0.15);\n",
              "      fill: #174EA6;\n",
              "    }\n",
              "\n",
              "    [theme=dark] .colab-df-convert {\n",
              "      background-color: #3B4455;\n",
              "      fill: #D2E3FC;\n",
              "    }\n",
              "\n",
              "    [theme=dark] .colab-df-convert:hover {\n",
              "      background-color: #434B5C;\n",
              "      box-shadow: 0px 1px 3px 1px rgba(0, 0, 0, 0.15);\n",
              "      filter: drop-shadow(0px 1px 2px rgba(0, 0, 0, 0.3));\n",
              "      fill: #FFFFFF;\n",
              "    }\n",
              "  </style>\n",
              "\n",
              "      <script>\n",
              "        const buttonEl =\n",
              "          document.querySelector('#df-90219583-6901-4c6e-92e2-06269523ad46 button.colab-df-convert');\n",
              "        buttonEl.style.display =\n",
              "          google.colab.kernel.accessAllowed ? 'block' : 'none';\n",
              "\n",
              "        async function convertToInteractive(key) {\n",
              "          const element = document.querySelector('#df-90219583-6901-4c6e-92e2-06269523ad46');\n",
              "          const dataTable =\n",
              "            await google.colab.kernel.invokeFunction('convertToInteractive',\n",
              "                                                     [key], {});\n",
              "          if (!dataTable) return;\n",
              "\n",
              "          const docLinkHtml = 'Like what you see? Visit the ' +\n",
              "            '<a target=\"_blank\" href=https://colab.research.google.com/notebooks/data_table.ipynb>data table notebook</a>'\n",
              "            + ' to learn more about interactive tables.';\n",
              "          element.innerHTML = '';\n",
              "          dataTable['output_type'] = 'display_data';\n",
              "          await google.colab.output.renderOutput(dataTable, element);\n",
              "          const docLink = document.createElement('div');\n",
              "          docLink.innerHTML = docLinkHtml;\n",
              "          element.appendChild(docLink);\n",
              "        }\n",
              "      </script>\n",
              "    </div>\n",
              "  </div>\n"
            ]
          },
          "metadata": {},
          "execution_count": 182
        }
      ]
    },
    {
      "cell_type": "code",
      "source": [
        "CT_IND = pd.DataFrame(ct_by_ind, columns = ['수도권', '동부권', '서부권', '합계'],\n",
        "                     index=['농산품', '공산품', '서비스', '농산품비중', '공산품비중', '서비스비중',]) # 변수명 붙여서 pandas로 내보내기\n",
        "CT_IND"
      ],
      "metadata": {
        "id": "YuYO88drcL-a",
        "outputId": "da613b2a-95b1-4d37-cf58-4f19e01bd00a",
        "colab": {
          "base_uri": "https://localhost:8080/",
          "height": 238
        }
      },
      "execution_count": 183,
      "outputs": [
        {
          "output_type": "execute_result",
          "data": {
            "text/plain": [
              "          수도권    동부권    서부권      합계\n",
              "농산품       6.0   23.0   29.0    58.0\n",
              "공산품     582.0  638.0  491.0  1711.0\n",
              "서비스    1204.0  479.0  379.0  2062.0\n",
              "농산품비중    10.3   39.7   50.0   100.0\n",
              "공산품비중    34.0   37.3   28.7   100.0\n",
              "서비스비중    58.4   23.2   18.4   100.0"
            ],
            "text/html": [
              "\n",
              "\n",
              "  <div id=\"df-6e7a0bf9-952f-4ef7-9de0-78f98a31259d\">\n",
              "    <div class=\"colab-df-container\">\n",
              "      <div>\n",
              "<style scoped>\n",
              "    .dataframe tbody tr th:only-of-type {\n",
              "        vertical-align: middle;\n",
              "    }\n",
              "\n",
              "    .dataframe tbody tr th {\n",
              "        vertical-align: top;\n",
              "    }\n",
              "\n",
              "    .dataframe thead th {\n",
              "        text-align: right;\n",
              "    }\n",
              "</style>\n",
              "<table border=\"1\" class=\"dataframe\">\n",
              "  <thead>\n",
              "    <tr style=\"text-align: right;\">\n",
              "      <th></th>\n",
              "      <th>수도권</th>\n",
              "      <th>동부권</th>\n",
              "      <th>서부권</th>\n",
              "      <th>합계</th>\n",
              "    </tr>\n",
              "  </thead>\n",
              "  <tbody>\n",
              "    <tr>\n",
              "      <th>농산품</th>\n",
              "      <td>6.0</td>\n",
              "      <td>23.0</td>\n",
              "      <td>29.0</td>\n",
              "      <td>58.0</td>\n",
              "    </tr>\n",
              "    <tr>\n",
              "      <th>공산품</th>\n",
              "      <td>582.0</td>\n",
              "      <td>638.0</td>\n",
              "      <td>491.0</td>\n",
              "      <td>1711.0</td>\n",
              "    </tr>\n",
              "    <tr>\n",
              "      <th>서비스</th>\n",
              "      <td>1204.0</td>\n",
              "      <td>479.0</td>\n",
              "      <td>379.0</td>\n",
              "      <td>2062.0</td>\n",
              "    </tr>\n",
              "    <tr>\n",
              "      <th>농산품비중</th>\n",
              "      <td>10.3</td>\n",
              "      <td>39.7</td>\n",
              "      <td>50.0</td>\n",
              "      <td>100.0</td>\n",
              "    </tr>\n",
              "    <tr>\n",
              "      <th>공산품비중</th>\n",
              "      <td>34.0</td>\n",
              "      <td>37.3</td>\n",
              "      <td>28.7</td>\n",
              "      <td>100.0</td>\n",
              "    </tr>\n",
              "    <tr>\n",
              "      <th>서비스비중</th>\n",
              "      <td>58.4</td>\n",
              "      <td>23.2</td>\n",
              "      <td>18.4</td>\n",
              "      <td>100.0</td>\n",
              "    </tr>\n",
              "  </tbody>\n",
              "</table>\n",
              "</div>\n",
              "      <button class=\"colab-df-convert\" onclick=\"convertToInteractive('df-6e7a0bf9-952f-4ef7-9de0-78f98a31259d')\"\n",
              "              title=\"Convert this dataframe to an interactive table.\"\n",
              "              style=\"display:none;\">\n",
              "\n",
              "  <svg xmlns=\"http://www.w3.org/2000/svg\" height=\"24px\"viewBox=\"0 0 24 24\"\n",
              "       width=\"24px\">\n",
              "    <path d=\"M0 0h24v24H0V0z\" fill=\"none\"/>\n",
              "    <path d=\"M18.56 5.44l.94 2.06.94-2.06 2.06-.94-2.06-.94-.94-2.06-.94 2.06-2.06.94zm-11 1L8.5 8.5l.94-2.06 2.06-.94-2.06-.94L8.5 2.5l-.94 2.06-2.06.94zm10 10l.94 2.06.94-2.06 2.06-.94-2.06-.94-.94-2.06-.94 2.06-2.06.94z\"/><path d=\"M17.41 7.96l-1.37-1.37c-.4-.4-.92-.59-1.43-.59-.52 0-1.04.2-1.43.59L10.3 9.45l-7.72 7.72c-.78.78-.78 2.05 0 2.83L4 21.41c.39.39.9.59 1.41.59.51 0 1.02-.2 1.41-.59l7.78-7.78 2.81-2.81c.8-.78.8-2.07 0-2.86zM5.41 20L4 18.59l7.72-7.72 1.47 1.35L5.41 20z\"/>\n",
              "  </svg>\n",
              "      </button>\n",
              "\n",
              "\n",
              "\n",
              "    <div id=\"df-6ec0d13c-e2b3-463c-a6c9-cda8d4fda9f8\">\n",
              "      <button class=\"colab-df-quickchart\" onclick=\"quickchart('df-6ec0d13c-e2b3-463c-a6c9-cda8d4fda9f8')\"\n",
              "              title=\"Suggest charts.\"\n",
              "              style=\"display:none;\">\n",
              "\n",
              "<svg xmlns=\"http://www.w3.org/2000/svg\" height=\"24px\"viewBox=\"0 0 24 24\"\n",
              "     width=\"24px\">\n",
              "    <g>\n",
              "        <path d=\"M19 3H5c-1.1 0-2 .9-2 2v14c0 1.1.9 2 2 2h14c1.1 0 2-.9 2-2V5c0-1.1-.9-2-2-2zM9 17H7v-7h2v7zm4 0h-2V7h2v10zm4 0h-2v-4h2v4z\"/>\n",
              "    </g>\n",
              "</svg>\n",
              "      </button>\n",
              "    </div>\n",
              "\n",
              "<style>\n",
              "  .colab-df-quickchart {\n",
              "    background-color: #E8F0FE;\n",
              "    border: none;\n",
              "    border-radius: 50%;\n",
              "    cursor: pointer;\n",
              "    display: none;\n",
              "    fill: #1967D2;\n",
              "    height: 32px;\n",
              "    padding: 0 0 0 0;\n",
              "    width: 32px;\n",
              "  }\n",
              "\n",
              "  .colab-df-quickchart:hover {\n",
              "    background-color: #E2EBFA;\n",
              "    box-shadow: 0px 1px 2px rgba(60, 64, 67, 0.3), 0px 1px 3px 1px rgba(60, 64, 67, 0.15);\n",
              "    fill: #174EA6;\n",
              "  }\n",
              "\n",
              "  [theme=dark] .colab-df-quickchart {\n",
              "    background-color: #3B4455;\n",
              "    fill: #D2E3FC;\n",
              "  }\n",
              "\n",
              "  [theme=dark] .colab-df-quickchart:hover {\n",
              "    background-color: #434B5C;\n",
              "    box-shadow: 0px 1px 3px 1px rgba(0, 0, 0, 0.15);\n",
              "    filter: drop-shadow(0px 1px 2px rgba(0, 0, 0, 0.3));\n",
              "    fill: #FFFFFF;\n",
              "  }\n",
              "</style>\n",
              "\n",
              "    <script>\n",
              "      async function quickchart(key) {\n",
              "        const containerElement = document.querySelector('#' + key);\n",
              "        const charts = await google.colab.kernel.invokeFunction(\n",
              "            'suggestCharts', [key], {});\n",
              "      }\n",
              "    </script>\n",
              "\n",
              "      <script>\n",
              "\n",
              "function displayQuickchartButton(domScope) {\n",
              "  let quickchartButtonEl =\n",
              "    domScope.querySelector('#df-6ec0d13c-e2b3-463c-a6c9-cda8d4fda9f8 button.colab-df-quickchart');\n",
              "  quickchartButtonEl.style.display =\n",
              "    google.colab.kernel.accessAllowed ? 'block' : 'none';\n",
              "}\n",
              "\n",
              "        displayQuickchartButton(document);\n",
              "      </script>\n",
              "      <style>\n",
              "    .colab-df-container {\n",
              "      display:flex;\n",
              "      flex-wrap:wrap;\n",
              "      gap: 12px;\n",
              "    }\n",
              "\n",
              "    .colab-df-convert {\n",
              "      background-color: #E8F0FE;\n",
              "      border: none;\n",
              "      border-radius: 50%;\n",
              "      cursor: pointer;\n",
              "      display: none;\n",
              "      fill: #1967D2;\n",
              "      height: 32px;\n",
              "      padding: 0 0 0 0;\n",
              "      width: 32px;\n",
              "    }\n",
              "\n",
              "    .colab-df-convert:hover {\n",
              "      background-color: #E2EBFA;\n",
              "      box-shadow: 0px 1px 2px rgba(60, 64, 67, 0.3), 0px 1px 3px 1px rgba(60, 64, 67, 0.15);\n",
              "      fill: #174EA6;\n",
              "    }\n",
              "\n",
              "    [theme=dark] .colab-df-convert {\n",
              "      background-color: #3B4455;\n",
              "      fill: #D2E3FC;\n",
              "    }\n",
              "\n",
              "    [theme=dark] .colab-df-convert:hover {\n",
              "      background-color: #434B5C;\n",
              "      box-shadow: 0px 1px 3px 1px rgba(0, 0, 0, 0.15);\n",
              "      filter: drop-shadow(0px 1px 2px rgba(0, 0, 0, 0.3));\n",
              "      fill: #FFFFFF;\n",
              "    }\n",
              "  </style>\n",
              "\n",
              "      <script>\n",
              "        const buttonEl =\n",
              "          document.querySelector('#df-6e7a0bf9-952f-4ef7-9de0-78f98a31259d button.colab-df-convert');\n",
              "        buttonEl.style.display =\n",
              "          google.colab.kernel.accessAllowed ? 'block' : 'none';\n",
              "\n",
              "        async function convertToInteractive(key) {\n",
              "          const element = document.querySelector('#df-6e7a0bf9-952f-4ef7-9de0-78f98a31259d');\n",
              "          const dataTable =\n",
              "            await google.colab.kernel.invokeFunction('convertToInteractive',\n",
              "                                                     [key], {});\n",
              "          if (!dataTable) return;\n",
              "\n",
              "          const docLinkHtml = 'Like what you see? Visit the ' +\n",
              "            '<a target=\"_blank\" href=https://colab.research.google.com/notebooks/data_table.ipynb>data table notebook</a>'\n",
              "            + ' to learn more about interactive tables.';\n",
              "          element.innerHTML = '';\n",
              "          dataTable['output_type'] = 'display_data';\n",
              "          await google.colab.output.renderOutput(dataTable, element);\n",
              "          const docLink = document.createElement('div');\n",
              "          docLink.innerHTML = docLinkHtml;\n",
              "          element.appendChild(docLink);\n",
              "        }\n",
              "      </script>\n",
              "    </div>\n",
              "  </div>\n"
            ]
          },
          "metadata": {},
          "execution_count": 183
        }
      ]
    },
    {
      "cell_type": "code",
      "source": [
        "# csv 파일로 내보내기\n",
        "VA_IND.to_csv('부가가치_산업별_지역별_비중.csv', encoding='utf_8-sig')\n",
        "CT_IND.to_csv('산출액_산업별_지역별_비중.csv', encoding='utf_8-sig')"
      ],
      "metadata": {
        "id": "BeMCDJVqcMA1"
      },
      "execution_count": 184,
      "outputs": []
    },
    {
      "cell_type": "code",
      "source": [
        "import scipy.linalg as linalg"
      ],
      "metadata": {
        "id": "zzkNlCNAcpVv"
      },
      "execution_count": 185,
      "outputs": []
    },
    {
      "cell_type": "markdown",
      "source": [
        "### 지역 이출입"
      ],
      "metadata": {
        "id": "FNJ_C3SJZDQ4"
      }
    },
    {
      "cell_type": "code",
      "source": [
        "mtx_for_int= linalg.block_diag(np.ones((3,3)),np.ones((3,3)),np.ones((3,3)))\n",
        "mtx_for_tra=np.where(mtx_for_int == 1, 0, 1)"
      ],
      "metadata": {
        "id": "HMaXgHDpc5eq"
      },
      "execution_count": 186,
      "outputs": []
    },
    {
      "cell_type": "code",
      "source": [
        "tra_int = (Mt[0:9,0:9]*mtx_for_tra).astype(float)  # 중간투입(수요) 이출입\n",
        "tra_int"
      ],
      "metadata": {
        "id": "YrzQxWbJc5hJ",
        "outputId": "5cec2fd4-571d-4f23-af29-b47a5dfa285e",
        "colab": {
          "base_uri": "https://localhost:8080/"
        }
      },
      "execution_count": 187,
      "outputs": [
        {
          "output_type": "execute_result",
          "data": {
            "text/plain": [
              "array([[ 0.,  0.,  0.,  0.,  0.,  0.,  0.,  1.,  0.],\n",
              "       [ 0.,  0.,  0.,  1., 36., 14.,  1., 37., 13.],\n",
              "       [ 0.,  0.,  0.,  1., 27., 31.,  1., 28., 28.],\n",
              "       [ 0.,  1.,  2.,  0.,  0.,  0.,  0.,  2.,  0.],\n",
              "       [ 0., 43., 38.,  0.,  0.,  0.,  1., 36., 13.],\n",
              "       [ 0.,  4., 15.,  0.,  0.,  0.,  0.,  3.,  4.],\n",
              "       [ 0.,  2.,  3.,  0.,  1.,  1.,  0.,  0.,  0.],\n",
              "       [ 0., 46., 40.,  1., 41., 15.,  0.,  0.,  0.],\n",
              "       [ 0.,  3., 17.,  0.,  3.,  3.,  0.,  0.,  0.]])"
            ]
          },
          "metadata": {},
          "execution_count": 187
        }
      ]
    },
    {
      "cell_type": "code",
      "source": [
        "mtx_for_fd= linalg.block_diag(np.ones((3,3)),np.ones((3,3)),np.ones((3,3)))\n",
        "mtx_for_tra_fd=np.where(mtx_for_fd == 1, 0, 1)\n",
        "mtx_for_tra_fd[:,2]=0 # 수도권 수출 0\n",
        "mtx_for_tra_fd[:,5]=0 # 동부권 수출 0\n",
        "mtx_for_tra_fd[:,8]=0 # 서부권 수출 0\n",
        "mtx_for_tra_fd"
      ],
      "metadata": {
        "id": "QqgW3yxVhBwq",
        "outputId": "16375e76-b756-4e3f-9d4d-edd782db2bf2",
        "colab": {
          "base_uri": "https://localhost:8080/"
        }
      },
      "execution_count": 188,
      "outputs": [
        {
          "output_type": "execute_result",
          "data": {
            "text/plain": [
              "array([[0, 0, 0, 1, 1, 0, 1, 1, 0],\n",
              "       [0, 0, 0, 1, 1, 0, 1, 1, 0],\n",
              "       [0, 0, 0, 1, 1, 0, 1, 1, 0],\n",
              "       [1, 1, 0, 0, 0, 0, 1, 1, 0],\n",
              "       [1, 1, 0, 0, 0, 0, 1, 1, 0],\n",
              "       [1, 1, 0, 0, 0, 0, 1, 1, 0],\n",
              "       [1, 1, 0, 1, 1, 0, 0, 0, 0],\n",
              "       [1, 1, 0, 1, 1, 0, 0, 0, 0],\n",
              "       [1, 1, 0, 1, 1, 0, 0, 0, 0]])"
            ]
          },
          "metadata": {},
          "execution_count": 188
        }
      ]
    },
    {
      "cell_type": "code",
      "source": [
        "tra_fd = (Mt[:9,10:19]*mtx_for_tra_fd).astype(float)\n",
        "tra_fd"
      ],
      "metadata": {
        "id": "C137XEeQhBy2",
        "outputId": "4c931a72-5409-477b-8a93-79a2f1f4d433",
        "colab": {
          "base_uri": "https://localhost:8080/"
        }
      },
      "execution_count": 189,
      "outputs": [
        {
          "output_type": "execute_result",
          "data": {
            "text/plain": [
              "array([[ 0.,  0.,  0.,  0.,  0.,  0.,  0.,  0.,  0.],\n",
              "       [ 0.,  0.,  0.,  9.,  6.,  0.,  7.,  8.,  0.],\n",
              "       [ 0.,  0.,  0., 33., 13.,  0., 31., 11.,  0.],\n",
              "       [ 3.,  0.,  0.,  0.,  0.,  0.,  1.,  0.,  0.],\n",
              "       [20., 15.,  0.,  0.,  0.,  0.,  7.,  7.,  0.],\n",
              "       [11.,  2.,  0.,  0.,  0.,  0.,  5.,  1.,  0.],\n",
              "       [ 3.,  0.,  0.,  1.,  0.,  0.,  0.,  0.,  0.],\n",
              "       [15.,  9.,  0.,  7.,  4.,  0.,  0.,  0.,  0.],\n",
              "       [15.,  4.,  0.,  5.,  1.,  0.,  0.,  0.,  0.]])"
            ]
          },
          "metadata": {},
          "execution_count": 189
        }
      ]
    },
    {
      "cell_type": "code",
      "source": [
        "# Mt[:18,19:37]"
      ],
      "metadata": {
        "id": "7GtQPMagpLqM"
      },
      "execution_count": 190,
      "outputs": []
    },
    {
      "cell_type": "code",
      "source": [
        "tot_tra = (tra_int+tra_fd).astype(float)  #지역별 산업별 이출입 매트릭스 9x9"
      ],
      "metadata": {
        "id": "Y9AciCbShB1L"
      },
      "execution_count": 191,
      "outputs": []
    },
    {
      "cell_type": "code",
      "source": [
        "cd_for_tr = np.array([[1,1,1,0,0,0,0,0,0],  # 행렬 곱을 이용한 부문 통합을 위해 0과 1로 구성된 임시의 6x6 매트릭스\n",
        "       [0,0,0,1,1,1,0,0,0],\n",
        "       [0,0,0,0,0,0,1,1,1]])\n"
      ],
      "metadata": {
        "id": "H1pkLW91qfdV"
      },
      "execution_count": 192,
      "outputs": []
    },
    {
      "cell_type": "code",
      "source": [
        "fnl_tra = (cd_for_tr@tot_tra)@cd_for_tr.T # 지역별 이출입 매트릭스\n",
        "fnl_tra"
      ],
      "metadata": {
        "id": "WEDv0XT4rPrs",
        "outputId": "98f29027-063f-4b47-8762-c40247d91b6d",
        "colab": {
          "base_uri": "https://localhost:8080/"
        }
      },
      "execution_count": 193,
      "outputs": [
        {
          "output_type": "execute_result",
          "data": {
            "text/plain": [
              "array([[  0., 171., 166.],\n",
              "       [154.,   0.,  80.],\n",
              "       [157.,  83.,   0.]])"
            ]
          },
          "metadata": {},
          "execution_count": 193
        }
      ]
    },
    {
      "cell_type": "code",
      "source": [
        "tot_tra_ex = fnl_tra.sum(axis=1).astype(float)  #이출\n",
        "tot_tra_im = fnl_tra.sum(axis=0).astype(float)  #이입\n",
        "tot_tra_net = tot_tra_ex - tot_tra_im #순이출입\n",
        "tot_tra_all = np.concatenate((tot_tra_ex, tot_tra_im, tot_tra_net), axis=0).reshape([3,3])\n",
        "tot_tra_all.shape"
      ],
      "metadata": {
        "id": "uX8zp_1ahB30",
        "outputId": "7b685f08-b957-4288-e445-2bc5a614977f",
        "colab": {
          "base_uri": "https://localhost:8080/"
        }
      },
      "execution_count": 194,
      "outputs": [
        {
          "output_type": "execute_result",
          "data": {
            "text/plain": [
              "(3, 3)"
            ]
          },
          "metadata": {},
          "execution_count": 194
        }
      ]
    },
    {
      "cell_type": "code",
      "source": [
        "tra_df = pd.DataFrame(tot_tra_all, columns = ['수도권', '동부권', '서부권'],\n",
        "                                     index=['이출', '이입', '순이출입'])\n",
        "tra_df"
      ],
      "metadata": {
        "id": "lzcuKDi7lwG5",
        "outputId": "9d5db4c8-83ab-435c-f928-af1e5f2e496a",
        "colab": {
          "base_uri": "https://localhost:8080/",
          "height": 143
        }
      },
      "execution_count": 195,
      "outputs": [
        {
          "output_type": "execute_result",
          "data": {
            "text/plain": [
              "        수도권    동부권    서부권\n",
              "이출    337.0  234.0  240.0\n",
              "이입    311.0  254.0  246.0\n",
              "순이출입   26.0  -20.0   -6.0"
            ],
            "text/html": [
              "\n",
              "\n",
              "  <div id=\"df-357794da-3fc6-4e2f-b5f9-a136336f9e24\">\n",
              "    <div class=\"colab-df-container\">\n",
              "      <div>\n",
              "<style scoped>\n",
              "    .dataframe tbody tr th:only-of-type {\n",
              "        vertical-align: middle;\n",
              "    }\n",
              "\n",
              "    .dataframe tbody tr th {\n",
              "        vertical-align: top;\n",
              "    }\n",
              "\n",
              "    .dataframe thead th {\n",
              "        text-align: right;\n",
              "    }\n",
              "</style>\n",
              "<table border=\"1\" class=\"dataframe\">\n",
              "  <thead>\n",
              "    <tr style=\"text-align: right;\">\n",
              "      <th></th>\n",
              "      <th>수도권</th>\n",
              "      <th>동부권</th>\n",
              "      <th>서부권</th>\n",
              "    </tr>\n",
              "  </thead>\n",
              "  <tbody>\n",
              "    <tr>\n",
              "      <th>이출</th>\n",
              "      <td>337.0</td>\n",
              "      <td>234.0</td>\n",
              "      <td>240.0</td>\n",
              "    </tr>\n",
              "    <tr>\n",
              "      <th>이입</th>\n",
              "      <td>311.0</td>\n",
              "      <td>254.0</td>\n",
              "      <td>246.0</td>\n",
              "    </tr>\n",
              "    <tr>\n",
              "      <th>순이출입</th>\n",
              "      <td>26.0</td>\n",
              "      <td>-20.0</td>\n",
              "      <td>-6.0</td>\n",
              "    </tr>\n",
              "  </tbody>\n",
              "</table>\n",
              "</div>\n",
              "      <button class=\"colab-df-convert\" onclick=\"convertToInteractive('df-357794da-3fc6-4e2f-b5f9-a136336f9e24')\"\n",
              "              title=\"Convert this dataframe to an interactive table.\"\n",
              "              style=\"display:none;\">\n",
              "\n",
              "  <svg xmlns=\"http://www.w3.org/2000/svg\" height=\"24px\"viewBox=\"0 0 24 24\"\n",
              "       width=\"24px\">\n",
              "    <path d=\"M0 0h24v24H0V0z\" fill=\"none\"/>\n",
              "    <path d=\"M18.56 5.44l.94 2.06.94-2.06 2.06-.94-2.06-.94-.94-2.06-.94 2.06-2.06.94zm-11 1L8.5 8.5l.94-2.06 2.06-.94-2.06-.94L8.5 2.5l-.94 2.06-2.06.94zm10 10l.94 2.06.94-2.06 2.06-.94-2.06-.94-.94-2.06-.94 2.06-2.06.94z\"/><path d=\"M17.41 7.96l-1.37-1.37c-.4-.4-.92-.59-1.43-.59-.52 0-1.04.2-1.43.59L10.3 9.45l-7.72 7.72c-.78.78-.78 2.05 0 2.83L4 21.41c.39.39.9.59 1.41.59.51 0 1.02-.2 1.41-.59l7.78-7.78 2.81-2.81c.8-.78.8-2.07 0-2.86zM5.41 20L4 18.59l7.72-7.72 1.47 1.35L5.41 20z\"/>\n",
              "  </svg>\n",
              "      </button>\n",
              "\n",
              "\n",
              "\n",
              "    <div id=\"df-4a10e5bb-7ec7-4ba4-bf29-fc460646bd73\">\n",
              "      <button class=\"colab-df-quickchart\" onclick=\"quickchart('df-4a10e5bb-7ec7-4ba4-bf29-fc460646bd73')\"\n",
              "              title=\"Suggest charts.\"\n",
              "              style=\"display:none;\">\n",
              "\n",
              "<svg xmlns=\"http://www.w3.org/2000/svg\" height=\"24px\"viewBox=\"0 0 24 24\"\n",
              "     width=\"24px\">\n",
              "    <g>\n",
              "        <path d=\"M19 3H5c-1.1 0-2 .9-2 2v14c0 1.1.9 2 2 2h14c1.1 0 2-.9 2-2V5c0-1.1-.9-2-2-2zM9 17H7v-7h2v7zm4 0h-2V7h2v10zm4 0h-2v-4h2v4z\"/>\n",
              "    </g>\n",
              "</svg>\n",
              "      </button>\n",
              "    </div>\n",
              "\n",
              "<style>\n",
              "  .colab-df-quickchart {\n",
              "    background-color: #E8F0FE;\n",
              "    border: none;\n",
              "    border-radius: 50%;\n",
              "    cursor: pointer;\n",
              "    display: none;\n",
              "    fill: #1967D2;\n",
              "    height: 32px;\n",
              "    padding: 0 0 0 0;\n",
              "    width: 32px;\n",
              "  }\n",
              "\n",
              "  .colab-df-quickchart:hover {\n",
              "    background-color: #E2EBFA;\n",
              "    box-shadow: 0px 1px 2px rgba(60, 64, 67, 0.3), 0px 1px 3px 1px rgba(60, 64, 67, 0.15);\n",
              "    fill: #174EA6;\n",
              "  }\n",
              "\n",
              "  [theme=dark] .colab-df-quickchart {\n",
              "    background-color: #3B4455;\n",
              "    fill: #D2E3FC;\n",
              "  }\n",
              "\n",
              "  [theme=dark] .colab-df-quickchart:hover {\n",
              "    background-color: #434B5C;\n",
              "    box-shadow: 0px 1px 3px 1px rgba(0, 0, 0, 0.15);\n",
              "    filter: drop-shadow(0px 1px 2px rgba(0, 0, 0, 0.3));\n",
              "    fill: #FFFFFF;\n",
              "  }\n",
              "</style>\n",
              "\n",
              "    <script>\n",
              "      async function quickchart(key) {\n",
              "        const containerElement = document.querySelector('#' + key);\n",
              "        const charts = await google.colab.kernel.invokeFunction(\n",
              "            'suggestCharts', [key], {});\n",
              "      }\n",
              "    </script>\n",
              "\n",
              "      <script>\n",
              "\n",
              "function displayQuickchartButton(domScope) {\n",
              "  let quickchartButtonEl =\n",
              "    domScope.querySelector('#df-4a10e5bb-7ec7-4ba4-bf29-fc460646bd73 button.colab-df-quickchart');\n",
              "  quickchartButtonEl.style.display =\n",
              "    google.colab.kernel.accessAllowed ? 'block' : 'none';\n",
              "}\n",
              "\n",
              "        displayQuickchartButton(document);\n",
              "      </script>\n",
              "      <style>\n",
              "    .colab-df-container {\n",
              "      display:flex;\n",
              "      flex-wrap:wrap;\n",
              "      gap: 12px;\n",
              "    }\n",
              "\n",
              "    .colab-df-convert {\n",
              "      background-color: #E8F0FE;\n",
              "      border: none;\n",
              "      border-radius: 50%;\n",
              "      cursor: pointer;\n",
              "      display: none;\n",
              "      fill: #1967D2;\n",
              "      height: 32px;\n",
              "      padding: 0 0 0 0;\n",
              "      width: 32px;\n",
              "    }\n",
              "\n",
              "    .colab-df-convert:hover {\n",
              "      background-color: #E2EBFA;\n",
              "      box-shadow: 0px 1px 2px rgba(60, 64, 67, 0.3), 0px 1px 3px 1px rgba(60, 64, 67, 0.15);\n",
              "      fill: #174EA6;\n",
              "    }\n",
              "\n",
              "    [theme=dark] .colab-df-convert {\n",
              "      background-color: #3B4455;\n",
              "      fill: #D2E3FC;\n",
              "    }\n",
              "\n",
              "    [theme=dark] .colab-df-convert:hover {\n",
              "      background-color: #434B5C;\n",
              "      box-shadow: 0px 1px 3px 1px rgba(0, 0, 0, 0.15);\n",
              "      filter: drop-shadow(0px 1px 2px rgba(0, 0, 0, 0.3));\n",
              "      fill: #FFFFFF;\n",
              "    }\n",
              "  </style>\n",
              "\n",
              "      <script>\n",
              "        const buttonEl =\n",
              "          document.querySelector('#df-357794da-3fc6-4e2f-b5f9-a136336f9e24 button.colab-df-convert');\n",
              "        buttonEl.style.display =\n",
              "          google.colab.kernel.accessAllowed ? 'block' : 'none';\n",
              "\n",
              "        async function convertToInteractive(key) {\n",
              "          const element = document.querySelector('#df-357794da-3fc6-4e2f-b5f9-a136336f9e24');\n",
              "          const dataTable =\n",
              "            await google.colab.kernel.invokeFunction('convertToInteractive',\n",
              "                                                     [key], {});\n",
              "          if (!dataTable) return;\n",
              "\n",
              "          const docLinkHtml = 'Like what you see? Visit the ' +\n",
              "            '<a target=\"_blank\" href=https://colab.research.google.com/notebooks/data_table.ipynb>data table notebook</a>'\n",
              "            + ' to learn more about interactive tables.';\n",
              "          element.innerHTML = '';\n",
              "          dataTable['output_type'] = 'display_data';\n",
              "          await google.colab.output.renderOutput(dataTable, element);\n",
              "          const docLink = document.createElement('div');\n",
              "          docLink.innerHTML = docLinkHtml;\n",
              "          element.appendChild(docLink);\n",
              "        }\n",
              "      </script>\n",
              "    </div>\n",
              "  </div>\n"
            ]
          },
          "metadata": {},
          "execution_count": 195
        }
      ]
    },
    {
      "cell_type": "code",
      "source": [
        "tra_df.to_csv('지역별_산업별_이출입.csv', encoding='utf_8-sig')"
      ],
      "metadata": {
        "id": "MXEtPOmenJio"
      },
      "execution_count": 196,
      "outputs": []
    },
    {
      "cell_type": "markdown",
      "source": [
        "#### 입지계수"
      ],
      "metadata": {
        "id": "FJDCWRUnxDOf"
      }
    },
    {
      "cell_type": "code",
      "source": [
        "X = Mt[-1,:9].reshape([1,9])\n",
        "X_all_ind_all_reg = ct.sum() # 우리나라 총산출\n",
        "X_all_ind_all_reg"
      ],
      "metadata": {
        "id": "Erjw8V8ixCOS",
        "outputId": "267c05b3-e7af-4dcc-e64c-9241c97831db",
        "colab": {
          "base_uri": "https://localhost:8080/"
        }
      },
      "execution_count": 197,
      "outputs": [
        {
          "output_type": "execute_result",
          "data": {
            "text/plain": [
              "7662.0"
            ]
          },
          "metadata": {},
          "execution_count": 197
        }
      ]
    },
    {
      "cell_type": "code",
      "source": [
        "print(Mt[-1,:9])"
      ],
      "metadata": {
        "id": "Cw64TAk8fhF_",
        "outputId": "a61fd66d-40d0-4df8-a442-3729dffb83f3",
        "colab": {
          "base_uri": "https://localhost:8080/"
        }
      },
      "execution_count": 198,
      "outputs": [
        {
          "output_type": "stream",
          "name": "stdout",
          "text": [
            "[   6.  582. 1204.   23.  638.  479.   29.  491.  379.]\n"
          ]
        }
      ]
    },
    {
      "cell_type": "code",
      "source": [
        "X_sudo =X[-1,:3].sum().reshape([1,1]) # 수도권 산출액 합\n",
        "X_seobu =X[-1,3:6].sum().reshape([1,1]) # 동부권 산출액 합\n",
        "X_dongbu =X[-1,6:9].sum().reshape([1,1]) # 서부권 산출액 합\n",
        "print(X_sudo,X_seobu,X_dongbu)"
      ],
      "metadata": {
        "id": "NDmHWCQdx9YL",
        "outputId": "86f7b1e2-0617-48ca-a7b6-fb5cd8e2d5ed",
        "colab": {
          "base_uri": "https://localhost:8080/"
        }
      },
      "execution_count": 199,
      "outputs": [
        {
          "output_type": "stream",
          "name": "stdout",
          "text": [
            "[[1792.]] [[1140.]] [[899.]]\n"
          ]
        }
      ]
    },
    {
      "cell_type": "code",
      "source": [
        "X_agr=X[-1,0]+X[-1,3]+X[-1,6] # 전국 농산품 산출액\n",
        "X_manu=X[-1,1]+X[-1,4]+X[-1,7] # 전국 공산품 산출액\n",
        "X_serv=X[-1,2]+X[-1,5]+X[-1,8] # 전국 서비스 산출액\n",
        "print(X_agr,X_manu, X_serv)"
      ],
      "metadata": {
        "id": "JXHe08Py2f60",
        "outputId": "49bfd658-bb71-4303-d745-d9edf3d6d962",
        "colab": {
          "base_uri": "https://localhost:8080/"
        }
      },
      "execution_count": 200,
      "outputs": [
        {
          "output_type": "stream",
          "name": "stdout",
          "text": [
            "58.0 1711.0 2062.0\n"
          ]
        }
      ]
    },
    {
      "cell_type": "code",
      "source": [
        "X_i = np.concatenate((np.tile(X_sudo,3),np.tile(X_seobu,3),np.tile(X_dongbu,3)),axis=1)"
      ],
      "metadata": {
        "id": "xznfECiY3QAc"
      },
      "execution_count": 201,
      "outputs": []
    },
    {
      "cell_type": "code",
      "source": [
        "X_j = np.concatenate((X_agr.reshape([1,1]),X_manu.reshape([1,1]),X_serv.reshape([1,1])),axis=1) # 전국 농산품, 공산품, 서비스 산출액\n",
        "X_j"
      ],
      "metadata": {
        "id": "wA4_XYMh6NAq",
        "outputId": "4892956b-65a4-4201-fe23-dc0168ad3397",
        "colab": {
          "base_uri": "https://localhost:8080/"
        }
      },
      "execution_count": 202,
      "outputs": [
        {
          "output_type": "execute_result",
          "data": {
            "text/plain": [
              "array([[  58., 1711., 2062.]])"
            ]
          },
          "metadata": {},
          "execution_count": 202
        }
      ]
    },
    {
      "cell_type": "code",
      "source": [
        "X_div_by_Xi=X/X_i\n",
        "X_div_by_Xi"
      ],
      "metadata": {
        "id": "4ytozlUf7RBA",
        "outputId": "2471606e-939d-41e6-fd8a-fce16328c3fa",
        "colab": {
          "base_uri": "https://localhost:8080/"
        }
      },
      "execution_count": 203,
      "outputs": [
        {
          "output_type": "execute_result",
          "data": {
            "text/plain": [
              "array([[0.003, 0.325, 0.672, 0.02 , 0.56 , 0.42 , 0.032, 0.546, 0.422]])"
            ]
          },
          "metadata": {},
          "execution_count": 203
        }
      ]
    },
    {
      "cell_type": "code",
      "source": [
        "Xj_div_X = np.tile(X_j/X.sum(),3).reshape(1,9)\n",
        "Xj_div_X"
      ],
      "metadata": {
        "id": "YpE-TVBU7ePf",
        "outputId": "2ce6ac14-dc77-43e7-cf71-2d4dce84ab3f",
        "colab": {
          "base_uri": "https://localhost:8080/"
        }
      },
      "execution_count": 204,
      "outputs": [
        {
          "output_type": "execute_result",
          "data": {
            "text/plain": [
              "array([[0.015, 0.447, 0.538, 0.015, 0.447, 0.538, 0.015, 0.447, 0.538]])"
            ]
          },
          "metadata": {},
          "execution_count": 204
        }
      ]
    },
    {
      "cell_type": "code",
      "source": [
        "LQ = X_div_by_Xi/Xj_div_X\n",
        "LQ"
      ],
      "metadata": {
        "id": "mqkLgWU174Wa",
        "outputId": "b8954e7b-aa35-4c1a-ff75-1bc76c502af1",
        "colab": {
          "base_uri": "https://localhost:8080/"
        }
      },
      "execution_count": 205,
      "outputs": [
        {
          "output_type": "execute_result",
          "data": {
            "text/plain": [
              "array([[0.221, 0.727, 1.248, 1.333, 1.253, 0.781, 2.131, 1.223, 0.783]])"
            ]
          },
          "metadata": {},
          "execution_count": 205
        }
      ]
    },
    {
      "cell_type": "code",
      "source": [
        "LQ_df = pd.DataFrame(LQ.round(3), columns =  [['수도권', '수도권', '수도권', '동부권', '동부권', '동부권','서부권', '서부권', '서부권'],\n",
        "                                     ['농산품', '공산품', '서비스', '농산품', '공산품', '서비스','농산품', '공산품', '서비스' ]],\n",
        "                     index = ['입지계수(LQ)'])\n",
        "LQ_df"
      ],
      "metadata": {
        "id": "Rs9c3CTb74ZP",
        "outputId": "6c4b8b16-8403-4db9-ff44-6d2febdeeb5c",
        "colab": {
          "base_uri": "https://localhost:8080/",
          "height": 112
        }
      },
      "execution_count": 206,
      "outputs": [
        {
          "output_type": "execute_result",
          "data": {
            "text/plain": [
              "            수도권                  동부권                  서부권              \n",
              "            농산품    공산품    서비스    농산품    공산품    서비스    농산품    공산품    서비스\n",
              "입지계수(LQ)  0.221  0.727  1.248  1.333  1.253  0.781  2.131  1.223  0.783"
            ],
            "text/html": [
              "\n",
              "\n",
              "  <div id=\"df-1b897fe0-1c2b-462c-a63b-308bdd05ea08\">\n",
              "    <div class=\"colab-df-container\">\n",
              "      <div>\n",
              "<style scoped>\n",
              "    .dataframe tbody tr th:only-of-type {\n",
              "        vertical-align: middle;\n",
              "    }\n",
              "\n",
              "    .dataframe tbody tr th {\n",
              "        vertical-align: top;\n",
              "    }\n",
              "\n",
              "    .dataframe thead tr th {\n",
              "        text-align: left;\n",
              "    }\n",
              "</style>\n",
              "<table border=\"1\" class=\"dataframe\">\n",
              "  <thead>\n",
              "    <tr>\n",
              "      <th></th>\n",
              "      <th colspan=\"3\" halign=\"left\">수도권</th>\n",
              "      <th colspan=\"3\" halign=\"left\">동부권</th>\n",
              "      <th colspan=\"3\" halign=\"left\">서부권</th>\n",
              "    </tr>\n",
              "    <tr>\n",
              "      <th></th>\n",
              "      <th>농산품</th>\n",
              "      <th>공산품</th>\n",
              "      <th>서비스</th>\n",
              "      <th>농산품</th>\n",
              "      <th>공산품</th>\n",
              "      <th>서비스</th>\n",
              "      <th>농산품</th>\n",
              "      <th>공산품</th>\n",
              "      <th>서비스</th>\n",
              "    </tr>\n",
              "  </thead>\n",
              "  <tbody>\n",
              "    <tr>\n",
              "      <th>입지계수(LQ)</th>\n",
              "      <td>0.221</td>\n",
              "      <td>0.727</td>\n",
              "      <td>1.248</td>\n",
              "      <td>1.333</td>\n",
              "      <td>1.253</td>\n",
              "      <td>0.781</td>\n",
              "      <td>2.131</td>\n",
              "      <td>1.223</td>\n",
              "      <td>0.783</td>\n",
              "    </tr>\n",
              "  </tbody>\n",
              "</table>\n",
              "</div>\n",
              "      <button class=\"colab-df-convert\" onclick=\"convertToInteractive('df-1b897fe0-1c2b-462c-a63b-308bdd05ea08')\"\n",
              "              title=\"Convert this dataframe to an interactive table.\"\n",
              "              style=\"display:none;\">\n",
              "\n",
              "  <svg xmlns=\"http://www.w3.org/2000/svg\" height=\"24px\"viewBox=\"0 0 24 24\"\n",
              "       width=\"24px\">\n",
              "    <path d=\"M0 0h24v24H0V0z\" fill=\"none\"/>\n",
              "    <path d=\"M18.56 5.44l.94 2.06.94-2.06 2.06-.94-2.06-.94-.94-2.06-.94 2.06-2.06.94zm-11 1L8.5 8.5l.94-2.06 2.06-.94-2.06-.94L8.5 2.5l-.94 2.06-2.06.94zm10 10l.94 2.06.94-2.06 2.06-.94-2.06-.94-.94-2.06-.94 2.06-2.06.94z\"/><path d=\"M17.41 7.96l-1.37-1.37c-.4-.4-.92-.59-1.43-.59-.52 0-1.04.2-1.43.59L10.3 9.45l-7.72 7.72c-.78.78-.78 2.05 0 2.83L4 21.41c.39.39.9.59 1.41.59.51 0 1.02-.2 1.41-.59l7.78-7.78 2.81-2.81c.8-.78.8-2.07 0-2.86zM5.41 20L4 18.59l7.72-7.72 1.47 1.35L5.41 20z\"/>\n",
              "  </svg>\n",
              "      </button>\n",
              "\n",
              "\n",
              "\n",
              "    <div id=\"df-ff7473de-1694-4038-be21-b34ace48cf7b\">\n",
              "      <button class=\"colab-df-quickchart\" onclick=\"quickchart('df-ff7473de-1694-4038-be21-b34ace48cf7b')\"\n",
              "              title=\"Suggest charts.\"\n",
              "              style=\"display:none;\">\n",
              "\n",
              "<svg xmlns=\"http://www.w3.org/2000/svg\" height=\"24px\"viewBox=\"0 0 24 24\"\n",
              "     width=\"24px\">\n",
              "    <g>\n",
              "        <path d=\"M19 3H5c-1.1 0-2 .9-2 2v14c0 1.1.9 2 2 2h14c1.1 0 2-.9 2-2V5c0-1.1-.9-2-2-2zM9 17H7v-7h2v7zm4 0h-2V7h2v10zm4 0h-2v-4h2v4z\"/>\n",
              "    </g>\n",
              "</svg>\n",
              "      </button>\n",
              "    </div>\n",
              "\n",
              "<style>\n",
              "  .colab-df-quickchart {\n",
              "    background-color: #E8F0FE;\n",
              "    border: none;\n",
              "    border-radius: 50%;\n",
              "    cursor: pointer;\n",
              "    display: none;\n",
              "    fill: #1967D2;\n",
              "    height: 32px;\n",
              "    padding: 0 0 0 0;\n",
              "    width: 32px;\n",
              "  }\n",
              "\n",
              "  .colab-df-quickchart:hover {\n",
              "    background-color: #E2EBFA;\n",
              "    box-shadow: 0px 1px 2px rgba(60, 64, 67, 0.3), 0px 1px 3px 1px rgba(60, 64, 67, 0.15);\n",
              "    fill: #174EA6;\n",
              "  }\n",
              "\n",
              "  [theme=dark] .colab-df-quickchart {\n",
              "    background-color: #3B4455;\n",
              "    fill: #D2E3FC;\n",
              "  }\n",
              "\n",
              "  [theme=dark] .colab-df-quickchart:hover {\n",
              "    background-color: #434B5C;\n",
              "    box-shadow: 0px 1px 3px 1px rgba(0, 0, 0, 0.15);\n",
              "    filter: drop-shadow(0px 1px 2px rgba(0, 0, 0, 0.3));\n",
              "    fill: #FFFFFF;\n",
              "  }\n",
              "</style>\n",
              "\n",
              "    <script>\n",
              "      async function quickchart(key) {\n",
              "        const containerElement = document.querySelector('#' + key);\n",
              "        const charts = await google.colab.kernel.invokeFunction(\n",
              "            'suggestCharts', [key], {});\n",
              "      }\n",
              "    </script>\n",
              "\n",
              "      <script>\n",
              "\n",
              "function displayQuickchartButton(domScope) {\n",
              "  let quickchartButtonEl =\n",
              "    domScope.querySelector('#df-ff7473de-1694-4038-be21-b34ace48cf7b button.colab-df-quickchart');\n",
              "  quickchartButtonEl.style.display =\n",
              "    google.colab.kernel.accessAllowed ? 'block' : 'none';\n",
              "}\n",
              "\n",
              "        displayQuickchartButton(document);\n",
              "      </script>\n",
              "      <style>\n",
              "    .colab-df-container {\n",
              "      display:flex;\n",
              "      flex-wrap:wrap;\n",
              "      gap: 12px;\n",
              "    }\n",
              "\n",
              "    .colab-df-convert {\n",
              "      background-color: #E8F0FE;\n",
              "      border: none;\n",
              "      border-radius: 50%;\n",
              "      cursor: pointer;\n",
              "      display: none;\n",
              "      fill: #1967D2;\n",
              "      height: 32px;\n",
              "      padding: 0 0 0 0;\n",
              "      width: 32px;\n",
              "    }\n",
              "\n",
              "    .colab-df-convert:hover {\n",
              "      background-color: #E2EBFA;\n",
              "      box-shadow: 0px 1px 2px rgba(60, 64, 67, 0.3), 0px 1px 3px 1px rgba(60, 64, 67, 0.15);\n",
              "      fill: #174EA6;\n",
              "    }\n",
              "\n",
              "    [theme=dark] .colab-df-convert {\n",
              "      background-color: #3B4455;\n",
              "      fill: #D2E3FC;\n",
              "    }\n",
              "\n",
              "    [theme=dark] .colab-df-convert:hover {\n",
              "      background-color: #434B5C;\n",
              "      box-shadow: 0px 1px 3px 1px rgba(0, 0, 0, 0.15);\n",
              "      filter: drop-shadow(0px 1px 2px rgba(0, 0, 0, 0.3));\n",
              "      fill: #FFFFFF;\n",
              "    }\n",
              "  </style>\n",
              "\n",
              "      <script>\n",
              "        const buttonEl =\n",
              "          document.querySelector('#df-1b897fe0-1c2b-462c-a63b-308bdd05ea08 button.colab-df-convert');\n",
              "        buttonEl.style.display =\n",
              "          google.colab.kernel.accessAllowed ? 'block' : 'none';\n",
              "\n",
              "        async function convertToInteractive(key) {\n",
              "          const element = document.querySelector('#df-1b897fe0-1c2b-462c-a63b-308bdd05ea08');\n",
              "          const dataTable =\n",
              "            await google.colab.kernel.invokeFunction('convertToInteractive',\n",
              "                                                     [key], {});\n",
              "          if (!dataTable) return;\n",
              "\n",
              "          const docLinkHtml = 'Like what you see? Visit the ' +\n",
              "            '<a target=\"_blank\" href=https://colab.research.google.com/notebooks/data_table.ipynb>data table notebook</a>'\n",
              "            + ' to learn more about interactive tables.';\n",
              "          element.innerHTML = '';\n",
              "          dataTable['output_type'] = 'display_data';\n",
              "          await google.colab.output.renderOutput(dataTable, element);\n",
              "          const docLink = document.createElement('div');\n",
              "          docLink.innerHTML = docLinkHtml;\n",
              "          element.appendChild(docLink);\n",
              "        }\n",
              "      </script>\n",
              "    </div>\n",
              "  </div>\n"
            ]
          },
          "metadata": {},
          "execution_count": 206
        }
      ]
    },
    {
      "cell_type": "code",
      "source": [
        "LQ_df.to_csv('지역별_산업별_입지계수.csv', encoding='utf_8-sig')"
      ],
      "metadata": {
        "id": "SniiNll74KcZ"
      },
      "execution_count": 207,
      "outputs": []
    },
    {
      "cell_type": "markdown",
      "source": [
        "###..산업연관효과분석"
      ],
      "metadata": {
        "id": "JYbkwC_VPVv2"
      }
    },
    {
      "cell_type": "code",
      "source": [
        "Dm_1 = Mt[0:9,0:9].astype(float)\n",
        "Im_1 = Mt[9:12,0:9].astype(float)\n",
        "# Dm_1 = Dt[0:4,1:10].astype(float)\n",
        "# Im_1 = It[0:4,1:10].astype(float)\n",
        "# print('총거래표 : \\n', Tt_1)    # 총거래표 확인\n",
        "print('국산거래표 : \\n', Dm_1)  # 국산거래표 확인\n",
        "print('수입거래표 : \\n', Im_1.astype(float))  # 수입거래표 확인"
      ],
      "metadata": {
        "id": "q4Q2rSR1QiUI",
        "outputId": "9726774f-2b27-4755-b845-7d21d3adefde",
        "colab": {
          "base_uri": "https://localhost:8080/"
        }
      },
      "execution_count": 208,
      "outputs": [
        {
          "output_type": "stream",
          "name": "stdout",
          "text": [
            "국산거래표 : \n",
            " [[  0.   3.   1.   0.   0.   0.   0.   1.   0.]\n",
            " [  2. 112.  71.   1.  36.  14.   1.  37.  13.]\n",
            " [  1.  79. 302.   1.  27.  31.   1.  28.  28.]\n",
            " [  0.   1.   2.   1.   7.   2.   0.   2.   0.]\n",
            " [  0.  43.  38.   4. 158.  40.   1.  36.  13.]\n",
            " [  0.   4.  15.   2.  59.  76.   0.   3.   4.]\n",
            " [  0.   2.   3.   0.   1.   1.   1.  12.   2.]\n",
            " [  0.  46.  40.   1.  41.  15.   6.  88.  31.]\n",
            " [  0.   3.  17.   0.   3.   3.   2.  41.  56.]]\n",
            "수입거래표 : \n",
            " [[  0.   3.   0.   0.   2.   0.   0.   3.   0.]\n",
            " [  0. 101.  41.   0. 130.  18.   1.  99.  18.]\n",
            " [  0.   6.  25.   0.   6.  13.   0.   4.   8.]]\n"
          ]
        }
      ]
    },
    {
      "cell_type": "code",
      "source": [
        "ct =Mt[-1,:9]  # 산출액\n",
        "ct"
      ],
      "metadata": {
        "id": "sLoitK1lQigz",
        "outputId": "6fed3b23-625d-443b-acfb-015ba2f7b19b",
        "colab": {
          "base_uri": "https://localhost:8080/"
        }
      },
      "execution_count": 209,
      "outputs": [
        {
          "output_type": "execute_result",
          "data": {
            "text/plain": [
              "array([   6.,  582., 1204.,   23.,  638.,  479.,   29.,  491.,  379.])"
            ]
          },
          "metadata": {},
          "execution_count": 209
        }
      ]
    },
    {
      "cell_type": "code",
      "source": [
        "ct_m = np.tile(ct, reps=[9,1]) # 산출액을 9번 행반복"
      ],
      "metadata": {
        "id": "s0wcbJY1Qipl"
      },
      "execution_count": 210,
      "outputs": []
    },
    {
      "cell_type": "code",
      "source": [
        "# At = Tt_1[0:3,0:3]/ct_m   # 총투입계수\n",
        "Ad =(Dm_1/ct_m)  # 국산 투입계수\n",
        "\n",
        "# print('총투입계수표 : \\n', At)\n",
        "# print('국산투입계수표 : \\n', Ad)\n",
        "#\n",
        "# df_At = pd.DataFrame(At.round(3),columns = ['농산품', '공산품', '서비스'], index=['농산품', '공산품', '서비스'])  #pandas로 내보내기\n",
        "Ad.shape"
      ],
      "metadata": {
        "id": "5uLIE7vfQiwM",
        "outputId": "78dff770-9431-47ae-ca97-eddcc8e4ed59",
        "colab": {
          "base_uri": "https://localhost:8080/"
        }
      },
      "execution_count": 211,
      "outputs": [
        {
          "output_type": "execute_result",
          "data": {
            "text/plain": [
              "(9, 9)"
            ]
          },
          "metadata": {},
          "execution_count": 211
        }
      ]
    },
    {
      "cell_type": "code",
      "source": [
        "Ad_df = pd.DataFrame(Ad, columns = [['수도권', '수도권', '수도권', '서부권', '서부권', '서부권','동부권', '동부권', '동부권'],\n",
        "                                    ['농산품', '공산품', '서비스', '농산품', '공산품', '서비스','농산품', '공산품', '서비스']],\n",
        "\n",
        "                                    index=[['수도권', '수도권', '수도권', '서부권', '서부권', '서부권','동부권', '동부권', '동부권'],\n",
        "                                           ['농산품', '공산품', '서비스', '농산품', '공산품', '서비스','농산품', '공산품', '서비스']])\n",
        "Ad_df.index.names=['지역', '상품']\n",
        "Ad_df"
      ],
      "metadata": {
        "id": "W-MSnIM5k4X5",
        "outputId": "bae8275f-d31e-4928-efc5-a54e5023aef9",
        "colab": {
          "base_uri": "https://localhost:8080/",
          "height": 394
        }
      },
      "execution_count": 212,
      "outputs": [
        {
          "output_type": "execute_result",
          "data": {
            "text/plain": [
              "              수도권                           서부권                           동부권  \\\n",
              "              농산품       공산품       서비스       농산품       공산품       서비스       농산품   \n",
              "지역  상품                                                                          \n",
              "수도권 농산품  0.000000  0.005155  0.000831  0.000000  0.000000  0.000000  0.000000   \n",
              "    공산품  0.333333  0.192440  0.058970  0.043478  0.056426  0.029228  0.034483   \n",
              "    서비스  0.166667  0.135739  0.250831  0.043478  0.042320  0.064718  0.034483   \n",
              "서부권 농산품  0.000000  0.001718  0.001661  0.043478  0.010972  0.004175  0.000000   \n",
              "    공산품  0.000000  0.073883  0.031561  0.173913  0.247649  0.083507  0.034483   \n",
              "    서비스  0.000000  0.006873  0.012458  0.086957  0.092476  0.158664  0.000000   \n",
              "동부권 농산품  0.000000  0.003436  0.002492  0.000000  0.001567  0.002088  0.034483   \n",
              "    공산품  0.000000  0.079038  0.033223  0.043478  0.064263  0.031315  0.206897   \n",
              "    서비스  0.000000  0.005155  0.014120  0.000000  0.004702  0.006263  0.068966   \n",
              "\n",
              "                             \n",
              "              공산품       서비스  \n",
              "지역  상품                       \n",
              "수도권 농산품  0.002037  0.000000  \n",
              "    공산품  0.075356  0.034301  \n",
              "    서비스  0.057026  0.073879  \n",
              "서부권 농산품  0.004073  0.000000  \n",
              "    공산품  0.073320  0.034301  \n",
              "    서비스  0.006110  0.010554  \n",
              "동부권 농산품  0.024440  0.005277  \n",
              "    공산품  0.179226  0.081794  \n",
              "    서비스  0.083503  0.147757  "
            ],
            "text/html": [
              "\n",
              "\n",
              "  <div id=\"df-feccd182-7db4-4890-92a1-496568f82509\">\n",
              "    <div class=\"colab-df-container\">\n",
              "      <div>\n",
              "<style scoped>\n",
              "    .dataframe tbody tr th:only-of-type {\n",
              "        vertical-align: middle;\n",
              "    }\n",
              "\n",
              "    .dataframe tbody tr th {\n",
              "        vertical-align: top;\n",
              "    }\n",
              "\n",
              "    .dataframe thead tr th {\n",
              "        text-align: left;\n",
              "    }\n",
              "\n",
              "    .dataframe thead tr:last-of-type th {\n",
              "        text-align: right;\n",
              "    }\n",
              "</style>\n",
              "<table border=\"1\" class=\"dataframe\">\n",
              "  <thead>\n",
              "    <tr>\n",
              "      <th></th>\n",
              "      <th></th>\n",
              "      <th colspan=\"3\" halign=\"left\">수도권</th>\n",
              "      <th colspan=\"3\" halign=\"left\">서부권</th>\n",
              "      <th colspan=\"3\" halign=\"left\">동부권</th>\n",
              "    </tr>\n",
              "    <tr>\n",
              "      <th></th>\n",
              "      <th></th>\n",
              "      <th>농산품</th>\n",
              "      <th>공산품</th>\n",
              "      <th>서비스</th>\n",
              "      <th>농산품</th>\n",
              "      <th>공산품</th>\n",
              "      <th>서비스</th>\n",
              "      <th>농산품</th>\n",
              "      <th>공산품</th>\n",
              "      <th>서비스</th>\n",
              "    </tr>\n",
              "    <tr>\n",
              "      <th>지역</th>\n",
              "      <th>상품</th>\n",
              "      <th></th>\n",
              "      <th></th>\n",
              "      <th></th>\n",
              "      <th></th>\n",
              "      <th></th>\n",
              "      <th></th>\n",
              "      <th></th>\n",
              "      <th></th>\n",
              "      <th></th>\n",
              "    </tr>\n",
              "  </thead>\n",
              "  <tbody>\n",
              "    <tr>\n",
              "      <th rowspan=\"3\" valign=\"top\">수도권</th>\n",
              "      <th>농산품</th>\n",
              "      <td>0.000000</td>\n",
              "      <td>0.005155</td>\n",
              "      <td>0.000831</td>\n",
              "      <td>0.000000</td>\n",
              "      <td>0.000000</td>\n",
              "      <td>0.000000</td>\n",
              "      <td>0.000000</td>\n",
              "      <td>0.002037</td>\n",
              "      <td>0.000000</td>\n",
              "    </tr>\n",
              "    <tr>\n",
              "      <th>공산품</th>\n",
              "      <td>0.333333</td>\n",
              "      <td>0.192440</td>\n",
              "      <td>0.058970</td>\n",
              "      <td>0.043478</td>\n",
              "      <td>0.056426</td>\n",
              "      <td>0.029228</td>\n",
              "      <td>0.034483</td>\n",
              "      <td>0.075356</td>\n",
              "      <td>0.034301</td>\n",
              "    </tr>\n",
              "    <tr>\n",
              "      <th>서비스</th>\n",
              "      <td>0.166667</td>\n",
              "      <td>0.135739</td>\n",
              "      <td>0.250831</td>\n",
              "      <td>0.043478</td>\n",
              "      <td>0.042320</td>\n",
              "      <td>0.064718</td>\n",
              "      <td>0.034483</td>\n",
              "      <td>0.057026</td>\n",
              "      <td>0.073879</td>\n",
              "    </tr>\n",
              "    <tr>\n",
              "      <th rowspan=\"3\" valign=\"top\">서부권</th>\n",
              "      <th>농산품</th>\n",
              "      <td>0.000000</td>\n",
              "      <td>0.001718</td>\n",
              "      <td>0.001661</td>\n",
              "      <td>0.043478</td>\n",
              "      <td>0.010972</td>\n",
              "      <td>0.004175</td>\n",
              "      <td>0.000000</td>\n",
              "      <td>0.004073</td>\n",
              "      <td>0.000000</td>\n",
              "    </tr>\n",
              "    <tr>\n",
              "      <th>공산품</th>\n",
              "      <td>0.000000</td>\n",
              "      <td>0.073883</td>\n",
              "      <td>0.031561</td>\n",
              "      <td>0.173913</td>\n",
              "      <td>0.247649</td>\n",
              "      <td>0.083507</td>\n",
              "      <td>0.034483</td>\n",
              "      <td>0.073320</td>\n",
              "      <td>0.034301</td>\n",
              "    </tr>\n",
              "    <tr>\n",
              "      <th>서비스</th>\n",
              "      <td>0.000000</td>\n",
              "      <td>0.006873</td>\n",
              "      <td>0.012458</td>\n",
              "      <td>0.086957</td>\n",
              "      <td>0.092476</td>\n",
              "      <td>0.158664</td>\n",
              "      <td>0.000000</td>\n",
              "      <td>0.006110</td>\n",
              "      <td>0.010554</td>\n",
              "    </tr>\n",
              "    <tr>\n",
              "      <th rowspan=\"3\" valign=\"top\">동부권</th>\n",
              "      <th>농산품</th>\n",
              "      <td>0.000000</td>\n",
              "      <td>0.003436</td>\n",
              "      <td>0.002492</td>\n",
              "      <td>0.000000</td>\n",
              "      <td>0.001567</td>\n",
              "      <td>0.002088</td>\n",
              "      <td>0.034483</td>\n",
              "      <td>0.024440</td>\n",
              "      <td>0.005277</td>\n",
              "    </tr>\n",
              "    <tr>\n",
              "      <th>공산품</th>\n",
              "      <td>0.000000</td>\n",
              "      <td>0.079038</td>\n",
              "      <td>0.033223</td>\n",
              "      <td>0.043478</td>\n",
              "      <td>0.064263</td>\n",
              "      <td>0.031315</td>\n",
              "      <td>0.206897</td>\n",
              "      <td>0.179226</td>\n",
              "      <td>0.081794</td>\n",
              "    </tr>\n",
              "    <tr>\n",
              "      <th>서비스</th>\n",
              "      <td>0.000000</td>\n",
              "      <td>0.005155</td>\n",
              "      <td>0.014120</td>\n",
              "      <td>0.000000</td>\n",
              "      <td>0.004702</td>\n",
              "      <td>0.006263</td>\n",
              "      <td>0.068966</td>\n",
              "      <td>0.083503</td>\n",
              "      <td>0.147757</td>\n",
              "    </tr>\n",
              "  </tbody>\n",
              "</table>\n",
              "</div>\n",
              "      <button class=\"colab-df-convert\" onclick=\"convertToInteractive('df-feccd182-7db4-4890-92a1-496568f82509')\"\n",
              "              title=\"Convert this dataframe to an interactive table.\"\n",
              "              style=\"display:none;\">\n",
              "\n",
              "  <svg xmlns=\"http://www.w3.org/2000/svg\" height=\"24px\"viewBox=\"0 0 24 24\"\n",
              "       width=\"24px\">\n",
              "    <path d=\"M0 0h24v24H0V0z\" fill=\"none\"/>\n",
              "    <path d=\"M18.56 5.44l.94 2.06.94-2.06 2.06-.94-2.06-.94-.94-2.06-.94 2.06-2.06.94zm-11 1L8.5 8.5l.94-2.06 2.06-.94-2.06-.94L8.5 2.5l-.94 2.06-2.06.94zm10 10l.94 2.06.94-2.06 2.06-.94-2.06-.94-.94-2.06-.94 2.06-2.06.94z\"/><path d=\"M17.41 7.96l-1.37-1.37c-.4-.4-.92-.59-1.43-.59-.52 0-1.04.2-1.43.59L10.3 9.45l-7.72 7.72c-.78.78-.78 2.05 0 2.83L4 21.41c.39.39.9.59 1.41.59.51 0 1.02-.2 1.41-.59l7.78-7.78 2.81-2.81c.8-.78.8-2.07 0-2.86zM5.41 20L4 18.59l7.72-7.72 1.47 1.35L5.41 20z\"/>\n",
              "  </svg>\n",
              "      </button>\n",
              "\n",
              "\n",
              "\n",
              "    <div id=\"df-1fc066da-b646-4fcf-9f1a-7eac91424a7a\">\n",
              "      <button class=\"colab-df-quickchart\" onclick=\"quickchart('df-1fc066da-b646-4fcf-9f1a-7eac91424a7a')\"\n",
              "              title=\"Suggest charts.\"\n",
              "              style=\"display:none;\">\n",
              "\n",
              "<svg xmlns=\"http://www.w3.org/2000/svg\" height=\"24px\"viewBox=\"0 0 24 24\"\n",
              "     width=\"24px\">\n",
              "    <g>\n",
              "        <path d=\"M19 3H5c-1.1 0-2 .9-2 2v14c0 1.1.9 2 2 2h14c1.1 0 2-.9 2-2V5c0-1.1-.9-2-2-2zM9 17H7v-7h2v7zm4 0h-2V7h2v10zm4 0h-2v-4h2v4z\"/>\n",
              "    </g>\n",
              "</svg>\n",
              "      </button>\n",
              "    </div>\n",
              "\n",
              "<style>\n",
              "  .colab-df-quickchart {\n",
              "    background-color: #E8F0FE;\n",
              "    border: none;\n",
              "    border-radius: 50%;\n",
              "    cursor: pointer;\n",
              "    display: none;\n",
              "    fill: #1967D2;\n",
              "    height: 32px;\n",
              "    padding: 0 0 0 0;\n",
              "    width: 32px;\n",
              "  }\n",
              "\n",
              "  .colab-df-quickchart:hover {\n",
              "    background-color: #E2EBFA;\n",
              "    box-shadow: 0px 1px 2px rgba(60, 64, 67, 0.3), 0px 1px 3px 1px rgba(60, 64, 67, 0.15);\n",
              "    fill: #174EA6;\n",
              "  }\n",
              "\n",
              "  [theme=dark] .colab-df-quickchart {\n",
              "    background-color: #3B4455;\n",
              "    fill: #D2E3FC;\n",
              "  }\n",
              "\n",
              "  [theme=dark] .colab-df-quickchart:hover {\n",
              "    background-color: #434B5C;\n",
              "    box-shadow: 0px 1px 3px 1px rgba(0, 0, 0, 0.15);\n",
              "    filter: drop-shadow(0px 1px 2px rgba(0, 0, 0, 0.3));\n",
              "    fill: #FFFFFF;\n",
              "  }\n",
              "</style>\n",
              "\n",
              "    <script>\n",
              "      async function quickchart(key) {\n",
              "        const containerElement = document.querySelector('#' + key);\n",
              "        const charts = await google.colab.kernel.invokeFunction(\n",
              "            'suggestCharts', [key], {});\n",
              "      }\n",
              "    </script>\n",
              "\n",
              "      <script>\n",
              "\n",
              "function displayQuickchartButton(domScope) {\n",
              "  let quickchartButtonEl =\n",
              "    domScope.querySelector('#df-1fc066da-b646-4fcf-9f1a-7eac91424a7a button.colab-df-quickchart');\n",
              "  quickchartButtonEl.style.display =\n",
              "    google.colab.kernel.accessAllowed ? 'block' : 'none';\n",
              "}\n",
              "\n",
              "        displayQuickchartButton(document);\n",
              "      </script>\n",
              "      <style>\n",
              "    .colab-df-container {\n",
              "      display:flex;\n",
              "      flex-wrap:wrap;\n",
              "      gap: 12px;\n",
              "    }\n",
              "\n",
              "    .colab-df-convert {\n",
              "      background-color: #E8F0FE;\n",
              "      border: none;\n",
              "      border-radius: 50%;\n",
              "      cursor: pointer;\n",
              "      display: none;\n",
              "      fill: #1967D2;\n",
              "      height: 32px;\n",
              "      padding: 0 0 0 0;\n",
              "      width: 32px;\n",
              "    }\n",
              "\n",
              "    .colab-df-convert:hover {\n",
              "      background-color: #E2EBFA;\n",
              "      box-shadow: 0px 1px 2px rgba(60, 64, 67, 0.3), 0px 1px 3px 1px rgba(60, 64, 67, 0.15);\n",
              "      fill: #174EA6;\n",
              "    }\n",
              "\n",
              "    [theme=dark] .colab-df-convert {\n",
              "      background-color: #3B4455;\n",
              "      fill: #D2E3FC;\n",
              "    }\n",
              "\n",
              "    [theme=dark] .colab-df-convert:hover {\n",
              "      background-color: #434B5C;\n",
              "      box-shadow: 0px 1px 3px 1px rgba(0, 0, 0, 0.15);\n",
              "      filter: drop-shadow(0px 1px 2px rgba(0, 0, 0, 0.3));\n",
              "      fill: #FFFFFF;\n",
              "    }\n",
              "  </style>\n",
              "\n",
              "      <script>\n",
              "        const buttonEl =\n",
              "          document.querySelector('#df-feccd182-7db4-4890-92a1-496568f82509 button.colab-df-convert');\n",
              "        buttonEl.style.display =\n",
              "          google.colab.kernel.accessAllowed ? 'block' : 'none';\n",
              "\n",
              "        async function convertToInteractive(key) {\n",
              "          const element = document.querySelector('#df-feccd182-7db4-4890-92a1-496568f82509');\n",
              "          const dataTable =\n",
              "            await google.colab.kernel.invokeFunction('convertToInteractive',\n",
              "                                                     [key], {});\n",
              "          if (!dataTable) return;\n",
              "\n",
              "          const docLinkHtml = 'Like what you see? Visit the ' +\n",
              "            '<a target=\"_blank\" href=https://colab.research.google.com/notebooks/data_table.ipynb>data table notebook</a>'\n",
              "            + ' to learn more about interactive tables.';\n",
              "          element.innerHTML = '';\n",
              "          dataTable['output_type'] = 'display_data';\n",
              "          await google.colab.output.renderOutput(dataTable, element);\n",
              "          const docLink = document.createElement('div');\n",
              "          docLink.innerHTML = docLinkHtml;\n",
              "          element.appendChild(docLink);\n",
              "        }\n",
              "      </script>\n",
              "    </div>\n",
              "  </div>\n"
            ]
          },
          "metadata": {},
          "execution_count": 212
        }
      ]
    },
    {
      "cell_type": "markdown",
      "source": [
        "##### 생산유발계수(Lf)"
      ],
      "metadata": {
        "id": "V0nnZSeHUPn8"
      }
    },
    {
      "cell_type": "code",
      "source": [
        "Lf = np.linalg.inv(np.identity(9)-Ad)    # 생산유발계수\n",
        "Lf_sm_cl = np.hstack((Lf, Lf.sum(axis=1).reshape([9,1]))) # 생산유발계수 열합\n",
        "Lf_sm_rw = np.vstack((Lf_sm_cl,Lf_sm_cl.sum(axis=0))) # 생산유발계수 행합\n",
        "Lf"
      ],
      "metadata": {
        "id": "SF7hebVoQi2M",
        "outputId": "a87c9038-6eec-4220-8509-3ddcc7e49df6",
        "colab": {
          "base_uri": "https://localhost:8080/"
        }
      },
      "execution_count": 213,
      "outputs": [
        {
          "output_type": "execute_result",
          "data": {
            "text/plain": [
              "array([[1.003, 0.007, 0.002, 0.001, 0.001, 0.001, 0.001, 0.004, 0.001],\n",
              "       [0.449, 1.289, 0.117, 0.101, 0.127, 0.073, 0.093, 0.151, 0.083],\n",
              "       [0.316, 0.262, 1.374, 0.117, 0.129, 0.135, 0.106, 0.152, 0.152],\n",
              "       [0.002, 0.005, 0.004, 1.05 , 0.018, 0.008, 0.003, 0.008, 0.002],\n",
              "       [0.067, 0.159, 0.083, 0.284, 1.384, 0.157, 0.098, 0.159, 0.087],\n",
              "       [0.017, 0.034, 0.032, 0.143, 0.158, 1.21 , 0.017, 0.033, 0.029],\n",
              "       [0.004, 0.01 , 0.006, 0.004, 0.007, 0.005, 1.045, 0.034, 0.011],\n",
              "       [0.065, 0.154, 0.08 , 0.1  , 0.137, 0.075, 0.297, 1.275, 0.144],\n",
              "       [0.015, 0.029, 0.032, 0.015, 0.026, 0.02 , 0.117, 0.132, 1.192]])"
            ]
          },
          "metadata": {},
          "execution_count": 213
        }
      ]
    },
    {
      "cell_type": "markdown",
      "source": [
        "#### 부가가치유발계수(Lv)"
      ],
      "metadata": {
        "id": "DkU6os7vUW-0"
      }
    },
    {
      "cell_type": "code",
      "source": [
        "Va_r = Mt[-2,:9]/ct # 부가가치율\n",
        "Va_r"
      ],
      "metadata": {
        "id": "KfbCR-LdQjCF",
        "outputId": "46af4a6c-d944-4864-c2ea-4396df50c8e1",
        "colab": {
          "base_uri": "https://localhost:8080/"
        }
      },
      "execution_count": 214,
      "outputs": [
        {
          "output_type": "execute_result",
          "data": {
            "text/plain": [
              "array([0.5  , 0.308, 0.539, 0.565, 0.263, 0.555, 0.552, 0.279, 0.544])"
            ]
          },
          "metadata": {},
          "execution_count": 214
        }
      ]
    },
    {
      "cell_type": "code",
      "source": [
        "Va_m = np.diag(Va_r)  # 부가가치율 대각행렬\n",
        "Va_m"
      ],
      "metadata": {
        "id": "7dkxNSQCQjJF",
        "outputId": "7eadfd82-8fc4-49d8-98e8-6b0fa12a27cc",
        "colab": {
          "base_uri": "https://localhost:8080/"
        }
      },
      "execution_count": 215,
      "outputs": [
        {
          "output_type": "execute_result",
          "data": {
            "text/plain": [
              "array([[0.5  , 0.   , 0.   , 0.   , 0.   , 0.   , 0.   , 0.   , 0.   ],\n",
              "       [0.   , 0.308, 0.   , 0.   , 0.   , 0.   , 0.   , 0.   , 0.   ],\n",
              "       [0.   , 0.   , 0.539, 0.   , 0.   , 0.   , 0.   , 0.   , 0.   ],\n",
              "       [0.   , 0.   , 0.   , 0.565, 0.   , 0.   , 0.   , 0.   , 0.   ],\n",
              "       [0.   , 0.   , 0.   , 0.   , 0.263, 0.   , 0.   , 0.   , 0.   ],\n",
              "       [0.   , 0.   , 0.   , 0.   , 0.   , 0.555, 0.   , 0.   , 0.   ],\n",
              "       [0.   , 0.   , 0.   , 0.   , 0.   , 0.   , 0.552, 0.   , 0.   ],\n",
              "       [0.   , 0.   , 0.   , 0.   , 0.   , 0.   , 0.   , 0.279, 0.   ],\n",
              "       [0.   , 0.   , 0.   , 0.   , 0.   , 0.   , 0.   , 0.   , 0.544]])"
            ]
          },
          "metadata": {},
          "execution_count": 215
        }
      ]
    },
    {
      "cell_type": "code",
      "source": [
        "Lv = Va_m@Lf  #부가가치유발계수\n",
        "Lv\n",
        "Lv_sm_cl = np.hstack((Lv, Lv.sum(axis=1).reshape([9,1]))) # 부가가치유발계수 열합\n",
        "Lv_sm_rw = np.vstack((Lv_sm_cl,Lv_sm_cl.sum(axis=0))) # 부가가치유발계수 행합\n",
        "Lv_sm_rw"
      ],
      "metadata": {
        "id": "DF_G_Hn09gRy",
        "outputId": "f89e2581-b0e4-4b74-8a96-c85019c48b00",
        "colab": {
          "base_uri": "https://localhost:8080/"
        }
      },
      "execution_count": 216,
      "outputs": [
        {
          "output_type": "execute_result",
          "data": {
            "text/plain": [
              "array([[0.501, 0.004, 0.001, 0.   , 0.001, 0.   , 0.001, 0.002, 0.   ,\n",
              "        0.51 ],\n",
              "       [0.138, 0.396, 0.036, 0.031, 0.039, 0.023, 0.029, 0.047, 0.026,\n",
              "        0.764],\n",
              "       [0.171, 0.141, 0.74 , 0.063, 0.07 , 0.073, 0.057, 0.082, 0.082,\n",
              "        1.48 ],\n",
              "       [0.001, 0.003, 0.002, 0.594, 0.01 , 0.004, 0.002, 0.004, 0.001,\n",
              "        0.622],\n",
              "       [0.018, 0.042, 0.022, 0.075, 0.364, 0.041, 0.026, 0.042, 0.023,\n",
              "        0.653],\n",
              "       [0.009, 0.019, 0.018, 0.08 , 0.088, 0.672, 0.009, 0.018, 0.016,\n",
              "        0.929],\n",
              "       [0.002, 0.005, 0.004, 0.002, 0.004, 0.003, 0.576, 0.019, 0.006,\n",
              "        0.622],\n",
              "       [0.018, 0.043, 0.022, 0.028, 0.038, 0.021, 0.083, 0.356, 0.04 ,\n",
              "        0.649],\n",
              "       [0.008, 0.016, 0.018, 0.008, 0.014, 0.011, 0.063, 0.072, 0.648,\n",
              "        0.858],\n",
              "       [0.867, 0.67 , 0.863, 0.881, 0.628, 0.849, 0.846, 0.641, 0.842,\n",
              "        7.086]])"
            ]
          },
          "metadata": {},
          "execution_count": 216
        }
      ]
    },
    {
      "cell_type": "code",
      "source": [
        "# df_Lv = pd.DataFrame(Lv.round(3),columns = ['농산품', '공산품', '서비스'], index=['농산품', '공산품', '서비스'])  # pandas로 내보내기"
      ],
      "metadata": {
        "id": "Od3StAXA86sf"
      },
      "execution_count": 217,
      "outputs": []
    },
    {
      "cell_type": "markdown",
      "source": [
        "#### 수입유발계수(Li)"
      ],
      "metadata": {
        "id": "G-NYB11hVLEO"
      }
    },
    {
      "cell_type": "code",
      "source": [
        "dig_imp = linalg.block_diag(Mt[9:12,0:3],Mt[9:12,3:6],Mt[9:12,6:9]) # 각 지역수입거래표를 대각화\n",
        "dig_imp.shape"
      ],
      "metadata": {
        "id": "9VPWOCSAtqoD",
        "outputId": "21f9a531-d7a5-4838-9bea-94dbf318eefb",
        "colab": {
          "base_uri": "https://localhost:8080/"
        }
      },
      "execution_count": 218,
      "outputs": [
        {
          "output_type": "execute_result",
          "data": {
            "text/plain": [
              "(9, 9)"
            ]
          },
          "metadata": {},
          "execution_count": 218
        }
      ]
    },
    {
      "cell_type": "code",
      "source": [
        "Ai = dig_imp/ct_m\n",
        "Ai"
      ],
      "metadata": {
        "id": "RJXF3AM6uj8Q",
        "outputId": "5401cd52-b61e-4dac-9ecc-49738f1bd7d2",
        "colab": {
          "base_uri": "https://localhost:8080/"
        }
      },
      "execution_count": 219,
      "outputs": [
        {
          "output_type": "execute_result",
          "data": {
            "text/plain": [
              "array([[0.   , 0.005, 0.   , 0.   , 0.   , 0.   , 0.   , 0.   , 0.   ],\n",
              "       [0.   , 0.174, 0.034, 0.   , 0.   , 0.   , 0.   , 0.   , 0.   ],\n",
              "       [0.   , 0.01 , 0.021, 0.   , 0.   , 0.   , 0.   , 0.   , 0.   ],\n",
              "       [0.   , 0.   , 0.   , 0.   , 0.003, 0.   , 0.   , 0.   , 0.   ],\n",
              "       [0.   , 0.   , 0.   , 0.   , 0.204, 0.038, 0.   , 0.   , 0.   ],\n",
              "       [0.   , 0.   , 0.   , 0.   , 0.009, 0.027, 0.   , 0.   , 0.   ],\n",
              "       [0.   , 0.   , 0.   , 0.   , 0.   , 0.   , 0.   , 0.006, 0.   ],\n",
              "       [0.   , 0.   , 0.   , 0.   , 0.   , 0.   , 0.034, 0.202, 0.047],\n",
              "       [0.   , 0.   , 0.   , 0.   , 0.   , 0.   , 0.   , 0.008, 0.021]])"
            ]
          },
          "metadata": {},
          "execution_count": 219
        }
      ]
    },
    {
      "cell_type": "code",
      "source": [
        "# print('수입투입계수표 : \\n', Ai)\n",
        "\n",
        "# df_Ai = pd.DataFrame(Ai.round(3))  #pandas로 내보내기"
      ],
      "metadata": {
        "id": "IRm-HtOf9KVx"
      },
      "execution_count": 220,
      "outputs": []
    },
    {
      "cell_type": "code",
      "source": [
        "Li = Ai@Lf  #수입유발계수\n",
        "Li.shape\n",
        "\n",
        "Li_sm_cl = np.hstack((Li, Li.sum(axis=1).reshape([9,1]))) # 수입유발계수 열합\n",
        "Li_sm_rw = np.vstack((Li_sm_cl,Li_sm_cl.sum(axis=0))) # 수입유발계수 행합\n",
        "Li_sm_rw"
      ],
      "metadata": {
        "id": "_8fZBBSX9kld",
        "outputId": "3bb9aee6-38a5-4dfb-c44e-a7299536b9d0",
        "colab": {
          "base_uri": "https://localhost:8080/"
        }
      },
      "execution_count": 221,
      "outputs": [
        {
          "output_type": "execute_result",
          "data": {
            "text/plain": [
              "array([[0.002, 0.007, 0.001, 0.001, 0.001, 0.   , 0.   , 0.001, 0.   ,\n",
              "        0.013],\n",
              "       [0.089, 0.233, 0.067, 0.021, 0.027, 0.017, 0.02 , 0.031, 0.02 ,\n",
              "        0.525],\n",
              "       [0.011, 0.019, 0.03 , 0.003, 0.004, 0.004, 0.003, 0.005, 0.004,\n",
              "        0.083],\n",
              "       [0.   , 0.   , 0.   , 0.001, 0.004, 0.   , 0.   , 0.   , 0.   ,\n",
              "        0.008],\n",
              "       [0.014, 0.034, 0.018, 0.063, 0.288, 0.078, 0.021, 0.034, 0.019,\n",
              "        0.568],\n",
              "       [0.001, 0.002, 0.002, 0.007, 0.017, 0.034, 0.001, 0.002, 0.002,\n",
              "        0.069],\n",
              "       [0.   , 0.001, 0.   , 0.001, 0.001, 0.   , 0.002, 0.008, 0.001,\n",
              "        0.014],\n",
              "       [0.014, 0.033, 0.018, 0.021, 0.029, 0.016, 0.101, 0.265, 0.086,\n",
              "        0.583],\n",
              "       [0.001, 0.002, 0.001, 0.001, 0.002, 0.001, 0.005, 0.013, 0.026,\n",
              "        0.052],\n",
              "       [0.133, 0.33 , 0.137, 0.119, 0.372, 0.151, 0.154, 0.359, 0.158,\n",
              "        1.914]])"
            ]
          },
          "metadata": {},
          "execution_count": 221
        }
      ]
    },
    {
      "cell_type": "code",
      "source": [
        "Lf_df = pd.DataFrame(Lf, columns = [['수도권', '수도권', '수도권', '동부권', '동부권', '동부권','서부권', '서부권', '서부권'],\n",
        "                                    ['농산품', '공산품', '서비스', '농산품', '공산품', '서비스','농산품', '공산품', '서비스']],\n",
        "\n",
        "                                    index=[['수도권', '수도권', '수도권', '동부권', '동부권', '동부권','서부권', '서부권', '서부권'],\n",
        "                                           ['농산품', '공산품', '서비스', '농산품', '공산품', '서비스','농산품', '공산품', '서비스']])\n",
        "Lf_df.index.names=['지역', '상품']\n",
        "# Lf_df  #pandas로 내보내기\n"
      ],
      "metadata": {
        "id": "nX6qaZrUkoEH"
      },
      "execution_count": 222,
      "outputs": []
    },
    {
      "cell_type": "code",
      "source": [
        "Lv_df = pd.DataFrame(Lv, columns = [['수도권', '수도권', '수도권', '동부권', '동부권', '동부권','서부권', '서부권', '서부권'],\n",
        "                                    ['농산품', '공산품', '서비스', '농산품', '공산품', '서비스','농산품', '공산품', '서비스']],\n",
        "\n",
        "                                    index=[['수도권', '수도권', '수도권', '동부권', '동부권', '동부권','서부권', '서부권', '서부권'],\n",
        "                                           ['농산품', '공산품', '서비스', '농산품', '공산품', '서비스','농산품', '공산품', '서비스']])\n",
        "Lv_df.index.names=['지역', '상품']\n",
        "# Lv_df  #pandas로 내보내기"
      ],
      "metadata": {
        "id": "Z72UOsOML_yD"
      },
      "execution_count": 223,
      "outputs": []
    },
    {
      "cell_type": "code",
      "source": [
        "Li_df = pd.DataFrame(Li, columns = [['수도권', '수도권', '수도권', '동부권', '동부권', '동부권','서부권', '서부권', '서부권'],\n",
        "                                    ['농산품', '공산품', '서비스', '농산품', '공산품', '서비스','농산품', '공산품', '서비스']],\n",
        "\n",
        "                                    index=[['수도권', '수도권', '수도권', '동부권', '동부권', '동부권','서부권', '서부권', '서부권'],\n",
        "                                           ['농산품', '공산품', '서비스', '농산품', '공산품', '서비스','농산품', '공산품', '서비스']])\n",
        "Li_df.index.names=['지역', '상품']\n",
        "# Li_df  #pandas로 내보내기"
      ],
      "metadata": {
        "id": "9VHsqhK0L_97"
      },
      "execution_count": 224,
      "outputs": []
    },
    {
      "cell_type": "code",
      "source": [
        "Lf_df.to_csv('생산유발계수.csv', encoding='utf_8-sig')\n",
        "Lv_df.to_csv('부가가치유발계수.csv', encoding='utf_8-sig')\n",
        "Li_df.to_csv('수입유발계수.csv', encoding='utf_8-sig')"
      ],
      "metadata": {
        "id": "gqjEbG6yMVVV"
      },
      "execution_count": 225,
      "outputs": []
    },
    {
      "cell_type": "markdown",
      "source": [
        "## 취업계수 및 취업유발계수"
      ],
      "metadata": {
        "id": "rDsqvOxBbB5w"
      }
    },
    {
      "cell_type": "code",
      "source": [
        "Rgt_emp_3"
      ],
      "metadata": {
        "id": "dijRS0AQCXzi",
        "outputId": "c216a63a-b6cb-4f7a-8404-040978602d4c",
        "colab": {
          "base_uri": "https://localhost:8080/",
          "height": 143
        }
      },
      "execution_count": 226,
      "outputs": [
        {
          "output_type": "execute_result",
          "data": {
            "text/plain": [
              "         cd 수도권        동부권        서부권\n",
              "농산품    135543.0   485642.0   606337.0\n",
              "공산품   1818636.0  1444100.0   834780.0\n",
              "서비스  10302991.0  4744657.0  3749541.0"
            ],
            "text/html": [
              "\n",
              "\n",
              "  <div id=\"df-6b35ab2b-2496-45d2-837d-363c8e9138dc\">\n",
              "    <div class=\"colab-df-container\">\n",
              "      <div>\n",
              "<style scoped>\n",
              "    .dataframe tbody tr th:only-of-type {\n",
              "        vertical-align: middle;\n",
              "    }\n",
              "\n",
              "    .dataframe tbody tr th {\n",
              "        vertical-align: top;\n",
              "    }\n",
              "\n",
              "    .dataframe thead th {\n",
              "        text-align: right;\n",
              "    }\n",
              "</style>\n",
              "<table border=\"1\" class=\"dataframe\">\n",
              "  <thead>\n",
              "    <tr style=\"text-align: right;\">\n",
              "      <th></th>\n",
              "      <th>cd 수도권</th>\n",
              "      <th>동부권</th>\n",
              "      <th>서부권</th>\n",
              "    </tr>\n",
              "  </thead>\n",
              "  <tbody>\n",
              "    <tr>\n",
              "      <th>농산품</th>\n",
              "      <td>135543.0</td>\n",
              "      <td>485642.0</td>\n",
              "      <td>606337.0</td>\n",
              "    </tr>\n",
              "    <tr>\n",
              "      <th>공산품</th>\n",
              "      <td>1818636.0</td>\n",
              "      <td>1444100.0</td>\n",
              "      <td>834780.0</td>\n",
              "    </tr>\n",
              "    <tr>\n",
              "      <th>서비스</th>\n",
              "      <td>10302991.0</td>\n",
              "      <td>4744657.0</td>\n",
              "      <td>3749541.0</td>\n",
              "    </tr>\n",
              "  </tbody>\n",
              "</table>\n",
              "</div>\n",
              "      <button class=\"colab-df-convert\" onclick=\"convertToInteractive('df-6b35ab2b-2496-45d2-837d-363c8e9138dc')\"\n",
              "              title=\"Convert this dataframe to an interactive table.\"\n",
              "              style=\"display:none;\">\n",
              "\n",
              "  <svg xmlns=\"http://www.w3.org/2000/svg\" height=\"24px\"viewBox=\"0 0 24 24\"\n",
              "       width=\"24px\">\n",
              "    <path d=\"M0 0h24v24H0V0z\" fill=\"none\"/>\n",
              "    <path d=\"M18.56 5.44l.94 2.06.94-2.06 2.06-.94-2.06-.94-.94-2.06-.94 2.06-2.06.94zm-11 1L8.5 8.5l.94-2.06 2.06-.94-2.06-.94L8.5 2.5l-.94 2.06-2.06.94zm10 10l.94 2.06.94-2.06 2.06-.94-2.06-.94-.94-2.06-.94 2.06-2.06.94z\"/><path d=\"M17.41 7.96l-1.37-1.37c-.4-.4-.92-.59-1.43-.59-.52 0-1.04.2-1.43.59L10.3 9.45l-7.72 7.72c-.78.78-.78 2.05 0 2.83L4 21.41c.39.39.9.59 1.41.59.51 0 1.02-.2 1.41-.59l7.78-7.78 2.81-2.81c.8-.78.8-2.07 0-2.86zM5.41 20L4 18.59l7.72-7.72 1.47 1.35L5.41 20z\"/>\n",
              "  </svg>\n",
              "      </button>\n",
              "\n",
              "\n",
              "\n",
              "    <div id=\"df-ad9af780-9f17-4a47-9cb6-b48d83d15e60\">\n",
              "      <button class=\"colab-df-quickchart\" onclick=\"quickchart('df-ad9af780-9f17-4a47-9cb6-b48d83d15e60')\"\n",
              "              title=\"Suggest charts.\"\n",
              "              style=\"display:none;\">\n",
              "\n",
              "<svg xmlns=\"http://www.w3.org/2000/svg\" height=\"24px\"viewBox=\"0 0 24 24\"\n",
              "     width=\"24px\">\n",
              "    <g>\n",
              "        <path d=\"M19 3H5c-1.1 0-2 .9-2 2v14c0 1.1.9 2 2 2h14c1.1 0 2-.9 2-2V5c0-1.1-.9-2-2-2zM9 17H7v-7h2v7zm4 0h-2V7h2v10zm4 0h-2v-4h2v4z\"/>\n",
              "    </g>\n",
              "</svg>\n",
              "      </button>\n",
              "    </div>\n",
              "\n",
              "<style>\n",
              "  .colab-df-quickchart {\n",
              "    background-color: #E8F0FE;\n",
              "    border: none;\n",
              "    border-radius: 50%;\n",
              "    cursor: pointer;\n",
              "    display: none;\n",
              "    fill: #1967D2;\n",
              "    height: 32px;\n",
              "    padding: 0 0 0 0;\n",
              "    width: 32px;\n",
              "  }\n",
              "\n",
              "  .colab-df-quickchart:hover {\n",
              "    background-color: #E2EBFA;\n",
              "    box-shadow: 0px 1px 2px rgba(60, 64, 67, 0.3), 0px 1px 3px 1px rgba(60, 64, 67, 0.15);\n",
              "    fill: #174EA6;\n",
              "  }\n",
              "\n",
              "  [theme=dark] .colab-df-quickchart {\n",
              "    background-color: #3B4455;\n",
              "    fill: #D2E3FC;\n",
              "  }\n",
              "\n",
              "  [theme=dark] .colab-df-quickchart:hover {\n",
              "    background-color: #434B5C;\n",
              "    box-shadow: 0px 1px 3px 1px rgba(0, 0, 0, 0.15);\n",
              "    filter: drop-shadow(0px 1px 2px rgba(0, 0, 0, 0.3));\n",
              "    fill: #FFFFFF;\n",
              "  }\n",
              "</style>\n",
              "\n",
              "    <script>\n",
              "      async function quickchart(key) {\n",
              "        const containerElement = document.querySelector('#' + key);\n",
              "        const charts = await google.colab.kernel.invokeFunction(\n",
              "            'suggestCharts', [key], {});\n",
              "      }\n",
              "    </script>\n",
              "\n",
              "      <script>\n",
              "\n",
              "function displayQuickchartButton(domScope) {\n",
              "  let quickchartButtonEl =\n",
              "    domScope.querySelector('#df-ad9af780-9f17-4a47-9cb6-b48d83d15e60 button.colab-df-quickchart');\n",
              "  quickchartButtonEl.style.display =\n",
              "    google.colab.kernel.accessAllowed ? 'block' : 'none';\n",
              "}\n",
              "\n",
              "        displayQuickchartButton(document);\n",
              "      </script>\n",
              "      <style>\n",
              "    .colab-df-container {\n",
              "      display:flex;\n",
              "      flex-wrap:wrap;\n",
              "      gap: 12px;\n",
              "    }\n",
              "\n",
              "    .colab-df-convert {\n",
              "      background-color: #E8F0FE;\n",
              "      border: none;\n",
              "      border-radius: 50%;\n",
              "      cursor: pointer;\n",
              "      display: none;\n",
              "      fill: #1967D2;\n",
              "      height: 32px;\n",
              "      padding: 0 0 0 0;\n",
              "      width: 32px;\n",
              "    }\n",
              "\n",
              "    .colab-df-convert:hover {\n",
              "      background-color: #E2EBFA;\n",
              "      box-shadow: 0px 1px 2px rgba(60, 64, 67, 0.3), 0px 1px 3px 1px rgba(60, 64, 67, 0.15);\n",
              "      fill: #174EA6;\n",
              "    }\n",
              "\n",
              "    [theme=dark] .colab-df-convert {\n",
              "      background-color: #3B4455;\n",
              "      fill: #D2E3FC;\n",
              "    }\n",
              "\n",
              "    [theme=dark] .colab-df-convert:hover {\n",
              "      background-color: #434B5C;\n",
              "      box-shadow: 0px 1px 3px 1px rgba(0, 0, 0, 0.15);\n",
              "      filter: drop-shadow(0px 1px 2px rgba(0, 0, 0, 0.3));\n",
              "      fill: #FFFFFF;\n",
              "    }\n",
              "  </style>\n",
              "\n",
              "      <script>\n",
              "        const buttonEl =\n",
              "          document.querySelector('#df-6b35ab2b-2496-45d2-837d-363c8e9138dc button.colab-df-convert');\n",
              "        buttonEl.style.display =\n",
              "          google.colab.kernel.accessAllowed ? 'block' : 'none';\n",
              "\n",
              "        async function convertToInteractive(key) {\n",
              "          const element = document.querySelector('#df-6b35ab2b-2496-45d2-837d-363c8e9138dc');\n",
              "          const dataTable =\n",
              "            await google.colab.kernel.invokeFunction('convertToInteractive',\n",
              "                                                     [key], {});\n",
              "          if (!dataTable) return;\n",
              "\n",
              "          const docLinkHtml = 'Like what you see? Visit the ' +\n",
              "            '<a target=\"_blank\" href=https://colab.research.google.com/notebooks/data_table.ipynb>data table notebook</a>'\n",
              "            + ' to learn more about interactive tables.';\n",
              "          element.innerHTML = '';\n",
              "          dataTable['output_type'] = 'display_data';\n",
              "          await google.colab.output.renderOutput(dataTable, element);\n",
              "          const docLink = document.createElement('div');\n",
              "          docLink.innerHTML = docLinkHtml;\n",
              "          element.appendChild(docLink);\n",
              "        }\n",
              "      </script>\n",
              "    </div>\n",
              "  </div>\n"
            ]
          },
          "metadata": {},
          "execution_count": 226
        }
      ]
    },
    {
      "cell_type": "code",
      "source": [
        "emp_3 = Rgt_emp_3.to_numpy()\n",
        "emp = emp_3[0:4,0:4].astype(float)\n",
        "emp"
      ],
      "metadata": {
        "id": "EhfSwOlU85xT",
        "outputId": "e87147b3-b989-459b-f4fe-264c01134f25",
        "colab": {
          "base_uri": "https://localhost:8080/"
        }
      },
      "execution_count": 227,
      "outputs": [
        {
          "output_type": "execute_result",
          "data": {
            "text/plain": [
              "array([[  135543.,   485642.,   606337.],\n",
              "       [ 1818636.,  1444100.,   834780.],\n",
              "       [10302991.,  4744657.,  3749541.]])"
            ]
          },
          "metadata": {},
          "execution_count": 227
        }
      ]
    },
    {
      "cell_type": "code",
      "source": [
        "emp_row = np.concatenate((emp[:,0],emp[:,1],emp[:,2]))\n",
        "emp_row.shape"
      ],
      "metadata": {
        "id": "MeyPnDvW85z9",
        "outputId": "8bf1e349-2aa0-4e13-b634-c9772adf94cb",
        "colab": {
          "base_uri": "https://localhost:8080/"
        }
      },
      "execution_count": 228,
      "outputs": [
        {
          "output_type": "execute_result",
          "data": {
            "text/plain": [
              "(9,)"
            ]
          },
          "metadata": {},
          "execution_count": 228
        }
      ]
    },
    {
      "cell_type": "code",
      "source": [
        "ct.shape"
      ],
      "metadata": {
        "id": "SsQcUSk-EokE",
        "outputId": "8ad83003-63b2-4790-eb08-da53c86eee5f",
        "colab": {
          "base_uri": "https://localhost:8080/"
        }
      },
      "execution_count": 229,
      "outputs": [
        {
          "output_type": "execute_result",
          "data": {
            "text/plain": [
              "(9,)"
            ]
          },
          "metadata": {},
          "execution_count": 229
        }
      ]
    },
    {
      "cell_type": "code",
      "source": [
        "# emp_row = np.vstack(sudo_emp,dongbu_emp)"
      ],
      "metadata": {
        "id": "20MgisErC9mY"
      },
      "execution_count": 230,
      "outputs": []
    },
    {
      "cell_type": "code",
      "source": [
        "emp_ratio = ((emp_row/ct)/1000).T # 취업계수(십억원당)\n",
        "emp_ratio = emp_ratio.reshape(1,9)\n",
        "emp_ratio.shape"
      ],
      "metadata": {
        "id": "8eLdFKsx853d",
        "outputId": "a11f1b54-2caf-411d-9091-99d1b99cbeed",
        "colab": {
          "base_uri": "https://localhost:8080/"
        }
      },
      "execution_count": 231,
      "outputs": [
        {
          "output_type": "execute_result",
          "data": {
            "text/plain": [
              "(1, 9)"
            ]
          },
          "metadata": {},
          "execution_count": 231
        }
      ]
    },
    {
      "cell_type": "code",
      "source": [
        "emp_Lf= np.diag(emp_ratio.flatten())@Lf #취업유발계수\n",
        "emp_Lf"
      ],
      "metadata": {
        "id": "Q4cDYCmQ855-",
        "outputId": "037d8181-9fc3-46e6-bf86-16fde6b296ad",
        "colab": {
          "base_uri": "https://localhost:8080/"
        }
      },
      "execution_count": 232,
      "outputs": [
        {
          "output_type": "execute_result",
          "data": {
            "text/plain": [
              "array([[22.652,  0.162,  0.043,  0.019,  0.024,  0.015,  0.026,  0.079,\n",
              "         0.019],\n",
              "       [ 1.404,  4.028,  0.367,  0.315,  0.398,  0.229,  0.291,  0.473,\n",
              "         0.26 ],\n",
              "       [ 2.708,  2.246, 11.756,  1.002,  1.108,  1.158,  0.911,  1.302,\n",
              "         1.299],\n",
              "       [ 0.052,  0.114,  0.085, 22.174,  0.372,  0.164,  0.059,  0.167,\n",
              "         0.045],\n",
              "       [ 0.152,  0.361,  0.188,  0.643,  3.132,  0.356,  0.222,  0.359,\n",
              "         0.197],\n",
              "       [ 0.165,  0.337,  0.315,  1.419,  1.567, 11.986,  0.169,  0.323,\n",
              "         0.284],\n",
              "       [ 0.089,  0.202,  0.133,  0.085,  0.146,  0.115, 21.842,  0.716,\n",
              "         0.231],\n",
              "       [ 0.11 ,  0.262,  0.135,  0.171,  0.233,  0.127,  0.504,  2.168,\n",
              "         0.244],\n",
              "       [ 0.15 ,  0.289,  0.321,  0.152,  0.254,  0.2  ,  1.154,  1.308,\n",
              "        11.793]])"
            ]
          },
          "metadata": {},
          "execution_count": 232
        }
      ]
    },
    {
      "cell_type": "code",
      "source": [
        "emp_ratio_df = pd.DataFrame(emp_ratio.round(3), columns = [['수도권', '수도권', '수도권', '동부권', '동부권', '동부권','서부권', '서부권', '서부권'],\n",
        "                                    ['농산품', '공산품', '서비스', '농산품', '공산품', '서비스','농산품', '공산품', '서비스']],\n",
        "\n",
        "                                    index=[['취업계수']])\n",
        "\n",
        "emp_Lf_df = pd.DataFrame(emp_Lf, columns = [['수도권', '수도권', '수도권', '동부권', '동부권', '동부권','서부권', '서부권', '서부권'],\n",
        "                                    ['농산품', '공산품', '서비스', '농산품', '공산품', '서비스','농산품', '공산품', '서비스']],\n",
        "\n",
        "                                    index=[['수도권', '수도권', '수도권', '동부권', '동부권', '동부권','서부권', '서부권', '서부권'],\n",
        "                                           ['농산품', '공산품', '서비스', '농산품', '공산품', '서비스','농산품', '공산품', '서비스']])\n",
        "emp_Lf_df.index.names=['지역', '상품']\n",
        "\n",
        "#pandas로 내보내기"
      ],
      "metadata": {
        "id": "9ebPSkWZ857-"
      },
      "execution_count": 233,
      "outputs": []
    },
    {
      "cell_type": "code",
      "source": [
        "emp_ratio_df"
      ],
      "metadata": {
        "id": "IamHI5bG8599",
        "outputId": "002008c4-0acd-4b31-9668-02f46890ee3b",
        "colab": {
          "base_uri": "https://localhost:8080/",
          "height": 112
        }
      },
      "execution_count": 234,
      "outputs": [
        {
          "output_type": "execute_result",
          "data": {
            "text/plain": [
              "        수도권                   동부권                   서부권            \n",
              "        농산품    공산품    서비스     농산품    공산품    서비스     농산품  공산품    서비스\n",
              "취업계수  22.59  3.125  8.557  21.115  2.263  9.905  20.908  1.7  9.893"
            ],
            "text/html": [
              "\n",
              "\n",
              "  <div id=\"df-b823a545-8901-45c3-b200-3c2b16f6e5cf\">\n",
              "    <div class=\"colab-df-container\">\n",
              "      <div>\n",
              "<style scoped>\n",
              "    .dataframe tbody tr th:only-of-type {\n",
              "        vertical-align: middle;\n",
              "    }\n",
              "\n",
              "    .dataframe tbody tr th {\n",
              "        vertical-align: top;\n",
              "    }\n",
              "\n",
              "    .dataframe thead tr th {\n",
              "        text-align: left;\n",
              "    }\n",
              "</style>\n",
              "<table border=\"1\" class=\"dataframe\">\n",
              "  <thead>\n",
              "    <tr>\n",
              "      <th></th>\n",
              "      <th colspan=\"3\" halign=\"left\">수도권</th>\n",
              "      <th colspan=\"3\" halign=\"left\">동부권</th>\n",
              "      <th colspan=\"3\" halign=\"left\">서부권</th>\n",
              "    </tr>\n",
              "    <tr>\n",
              "      <th></th>\n",
              "      <th>농산품</th>\n",
              "      <th>공산품</th>\n",
              "      <th>서비스</th>\n",
              "      <th>농산품</th>\n",
              "      <th>공산품</th>\n",
              "      <th>서비스</th>\n",
              "      <th>농산품</th>\n",
              "      <th>공산품</th>\n",
              "      <th>서비스</th>\n",
              "    </tr>\n",
              "  </thead>\n",
              "  <tbody>\n",
              "    <tr>\n",
              "      <th>취업계수</th>\n",
              "      <td>22.59</td>\n",
              "      <td>3.125</td>\n",
              "      <td>8.557</td>\n",
              "      <td>21.115</td>\n",
              "      <td>2.263</td>\n",
              "      <td>9.905</td>\n",
              "      <td>20.908</td>\n",
              "      <td>1.7</td>\n",
              "      <td>9.893</td>\n",
              "    </tr>\n",
              "  </tbody>\n",
              "</table>\n",
              "</div>\n",
              "      <button class=\"colab-df-convert\" onclick=\"convertToInteractive('df-b823a545-8901-45c3-b200-3c2b16f6e5cf')\"\n",
              "              title=\"Convert this dataframe to an interactive table.\"\n",
              "              style=\"display:none;\">\n",
              "\n",
              "  <svg xmlns=\"http://www.w3.org/2000/svg\" height=\"24px\"viewBox=\"0 0 24 24\"\n",
              "       width=\"24px\">\n",
              "    <path d=\"M0 0h24v24H0V0z\" fill=\"none\"/>\n",
              "    <path d=\"M18.56 5.44l.94 2.06.94-2.06 2.06-.94-2.06-.94-.94-2.06-.94 2.06-2.06.94zm-11 1L8.5 8.5l.94-2.06 2.06-.94-2.06-.94L8.5 2.5l-.94 2.06-2.06.94zm10 10l.94 2.06.94-2.06 2.06-.94-2.06-.94-.94-2.06-.94 2.06-2.06.94z\"/><path d=\"M17.41 7.96l-1.37-1.37c-.4-.4-.92-.59-1.43-.59-.52 0-1.04.2-1.43.59L10.3 9.45l-7.72 7.72c-.78.78-.78 2.05 0 2.83L4 21.41c.39.39.9.59 1.41.59.51 0 1.02-.2 1.41-.59l7.78-7.78 2.81-2.81c.8-.78.8-2.07 0-2.86zM5.41 20L4 18.59l7.72-7.72 1.47 1.35L5.41 20z\"/>\n",
              "  </svg>\n",
              "      </button>\n",
              "\n",
              "\n",
              "\n",
              "    <div id=\"df-449e5024-f2a1-4613-8488-e310611ccf13\">\n",
              "      <button class=\"colab-df-quickchart\" onclick=\"quickchart('df-449e5024-f2a1-4613-8488-e310611ccf13')\"\n",
              "              title=\"Suggest charts.\"\n",
              "              style=\"display:none;\">\n",
              "\n",
              "<svg xmlns=\"http://www.w3.org/2000/svg\" height=\"24px\"viewBox=\"0 0 24 24\"\n",
              "     width=\"24px\">\n",
              "    <g>\n",
              "        <path d=\"M19 3H5c-1.1 0-2 .9-2 2v14c0 1.1.9 2 2 2h14c1.1 0 2-.9 2-2V5c0-1.1-.9-2-2-2zM9 17H7v-7h2v7zm4 0h-2V7h2v10zm4 0h-2v-4h2v4z\"/>\n",
              "    </g>\n",
              "</svg>\n",
              "      </button>\n",
              "    </div>\n",
              "\n",
              "<style>\n",
              "  .colab-df-quickchart {\n",
              "    background-color: #E8F0FE;\n",
              "    border: none;\n",
              "    border-radius: 50%;\n",
              "    cursor: pointer;\n",
              "    display: none;\n",
              "    fill: #1967D2;\n",
              "    height: 32px;\n",
              "    padding: 0 0 0 0;\n",
              "    width: 32px;\n",
              "  }\n",
              "\n",
              "  .colab-df-quickchart:hover {\n",
              "    background-color: #E2EBFA;\n",
              "    box-shadow: 0px 1px 2px rgba(60, 64, 67, 0.3), 0px 1px 3px 1px rgba(60, 64, 67, 0.15);\n",
              "    fill: #174EA6;\n",
              "  }\n",
              "\n",
              "  [theme=dark] .colab-df-quickchart {\n",
              "    background-color: #3B4455;\n",
              "    fill: #D2E3FC;\n",
              "  }\n",
              "\n",
              "  [theme=dark] .colab-df-quickchart:hover {\n",
              "    background-color: #434B5C;\n",
              "    box-shadow: 0px 1px 3px 1px rgba(0, 0, 0, 0.15);\n",
              "    filter: drop-shadow(0px 1px 2px rgba(0, 0, 0, 0.3));\n",
              "    fill: #FFFFFF;\n",
              "  }\n",
              "</style>\n",
              "\n",
              "    <script>\n",
              "      async function quickchart(key) {\n",
              "        const containerElement = document.querySelector('#' + key);\n",
              "        const charts = await google.colab.kernel.invokeFunction(\n",
              "            'suggestCharts', [key], {});\n",
              "      }\n",
              "    </script>\n",
              "\n",
              "      <script>\n",
              "\n",
              "function displayQuickchartButton(domScope) {\n",
              "  let quickchartButtonEl =\n",
              "    domScope.querySelector('#df-449e5024-f2a1-4613-8488-e310611ccf13 button.colab-df-quickchart');\n",
              "  quickchartButtonEl.style.display =\n",
              "    google.colab.kernel.accessAllowed ? 'block' : 'none';\n",
              "}\n",
              "\n",
              "        displayQuickchartButton(document);\n",
              "      </script>\n",
              "      <style>\n",
              "    .colab-df-container {\n",
              "      display:flex;\n",
              "      flex-wrap:wrap;\n",
              "      gap: 12px;\n",
              "    }\n",
              "\n",
              "    .colab-df-convert {\n",
              "      background-color: #E8F0FE;\n",
              "      border: none;\n",
              "      border-radius: 50%;\n",
              "      cursor: pointer;\n",
              "      display: none;\n",
              "      fill: #1967D2;\n",
              "      height: 32px;\n",
              "      padding: 0 0 0 0;\n",
              "      width: 32px;\n",
              "    }\n",
              "\n",
              "    .colab-df-convert:hover {\n",
              "      background-color: #E2EBFA;\n",
              "      box-shadow: 0px 1px 2px rgba(60, 64, 67, 0.3), 0px 1px 3px 1px rgba(60, 64, 67, 0.15);\n",
              "      fill: #174EA6;\n",
              "    }\n",
              "\n",
              "    [theme=dark] .colab-df-convert {\n",
              "      background-color: #3B4455;\n",
              "      fill: #D2E3FC;\n",
              "    }\n",
              "\n",
              "    [theme=dark] .colab-df-convert:hover {\n",
              "      background-color: #434B5C;\n",
              "      box-shadow: 0px 1px 3px 1px rgba(0, 0, 0, 0.15);\n",
              "      filter: drop-shadow(0px 1px 2px rgba(0, 0, 0, 0.3));\n",
              "      fill: #FFFFFF;\n",
              "    }\n",
              "  </style>\n",
              "\n",
              "      <script>\n",
              "        const buttonEl =\n",
              "          document.querySelector('#df-b823a545-8901-45c3-b200-3c2b16f6e5cf button.colab-df-convert');\n",
              "        buttonEl.style.display =\n",
              "          google.colab.kernel.accessAllowed ? 'block' : 'none';\n",
              "\n",
              "        async function convertToInteractive(key) {\n",
              "          const element = document.querySelector('#df-b823a545-8901-45c3-b200-3c2b16f6e5cf');\n",
              "          const dataTable =\n",
              "            await google.colab.kernel.invokeFunction('convertToInteractive',\n",
              "                                                     [key], {});\n",
              "          if (!dataTable) return;\n",
              "\n",
              "          const docLinkHtml = 'Like what you see? Visit the ' +\n",
              "            '<a target=\"_blank\" href=https://colab.research.google.com/notebooks/data_table.ipynb>data table notebook</a>'\n",
              "            + ' to learn more about interactive tables.';\n",
              "          element.innerHTML = '';\n",
              "          dataTable['output_type'] = 'display_data';\n",
              "          await google.colab.output.renderOutput(dataTable, element);\n",
              "          const docLink = document.createElement('div');\n",
              "          docLink.innerHTML = docLinkHtml;\n",
              "          element.appendChild(docLink);\n",
              "        }\n",
              "      </script>\n",
              "    </div>\n",
              "  </div>\n"
            ]
          },
          "metadata": {},
          "execution_count": 234
        }
      ]
    },
    {
      "cell_type": "code",
      "source": [
        "emp_Lf_df"
      ],
      "metadata": {
        "id": "UvnNxUFb85_o",
        "outputId": "02dd283d-0044-46a2-cb18-ec02d1010523",
        "colab": {
          "base_uri": "https://localhost:8080/",
          "height": 394
        }
      },
      "execution_count": 235,
      "outputs": [
        {
          "output_type": "execute_result",
          "data": {
            "text/plain": [
              "               수도권                             동부권                       \\\n",
              "               농산품       공산품        서비스        농산품       공산품        서비스   \n",
              "지역  상품                                                                    \n",
              "수도권 농산품  22.651729  0.162131   0.043109   0.018534  0.023576   0.014534   \n",
              "    공산품   1.403880  4.028263   0.366757   0.314517  0.398157   0.229486   \n",
              "    서비스   2.707963  2.246110  11.755560   1.002256  1.107804   1.157607   \n",
              "동부권 농산품   0.052220  0.114127   0.085067  22.173783  0.371593   0.164150   \n",
              "    공산품   0.151657  0.360856   0.188230   0.643078  3.131731   0.356425   \n",
              "    서비스   0.164783  0.336634   0.315429   1.418883  1.566771  11.986428   \n",
              "서부권 농산품   0.089490  0.201967   0.133007   0.084775  0.146093   0.114745   \n",
              "    공산품   0.109951  0.262113   0.135482   0.170563  0.233144   0.127269   \n",
              "    서비스   0.149734  0.288510   0.321382   0.151635  0.254388   0.200098   \n",
              "\n",
              "               서부권                       \n",
              "               농산품       공산품        서비스  \n",
              "지역  상품                                   \n",
              "수도권 농산품   0.026497  0.079132   0.019150  \n",
              "    공산품   0.291059  0.472757   0.259963  \n",
              "    서비스   0.911307  1.301539   1.298939  \n",
              "동부권 농산품   0.059492  0.167367   0.045388  \n",
              "    공산품   0.222437  0.358865   0.197119  \n",
              "    서비스   0.168871  0.323432   0.284477  \n",
              "서부권 농산품  21.842043  0.716210   0.230943  \n",
              "    공산품   0.504487  2.167675   0.244420  \n",
              "    서비스   1.153608  1.308330  11.793385  "
            ],
            "text/html": [
              "\n",
              "\n",
              "  <div id=\"df-d74bdae2-8e41-4159-8df9-e15d6e203da5\">\n",
              "    <div class=\"colab-df-container\">\n",
              "      <div>\n",
              "<style scoped>\n",
              "    .dataframe tbody tr th:only-of-type {\n",
              "        vertical-align: middle;\n",
              "    }\n",
              "\n",
              "    .dataframe tbody tr th {\n",
              "        vertical-align: top;\n",
              "    }\n",
              "\n",
              "    .dataframe thead tr th {\n",
              "        text-align: left;\n",
              "    }\n",
              "\n",
              "    .dataframe thead tr:last-of-type th {\n",
              "        text-align: right;\n",
              "    }\n",
              "</style>\n",
              "<table border=\"1\" class=\"dataframe\">\n",
              "  <thead>\n",
              "    <tr>\n",
              "      <th></th>\n",
              "      <th></th>\n",
              "      <th colspan=\"3\" halign=\"left\">수도권</th>\n",
              "      <th colspan=\"3\" halign=\"left\">동부권</th>\n",
              "      <th colspan=\"3\" halign=\"left\">서부권</th>\n",
              "    </tr>\n",
              "    <tr>\n",
              "      <th></th>\n",
              "      <th></th>\n",
              "      <th>농산품</th>\n",
              "      <th>공산품</th>\n",
              "      <th>서비스</th>\n",
              "      <th>농산품</th>\n",
              "      <th>공산품</th>\n",
              "      <th>서비스</th>\n",
              "      <th>농산품</th>\n",
              "      <th>공산품</th>\n",
              "      <th>서비스</th>\n",
              "    </tr>\n",
              "    <tr>\n",
              "      <th>지역</th>\n",
              "      <th>상품</th>\n",
              "      <th></th>\n",
              "      <th></th>\n",
              "      <th></th>\n",
              "      <th></th>\n",
              "      <th></th>\n",
              "      <th></th>\n",
              "      <th></th>\n",
              "      <th></th>\n",
              "      <th></th>\n",
              "    </tr>\n",
              "  </thead>\n",
              "  <tbody>\n",
              "    <tr>\n",
              "      <th rowspan=\"3\" valign=\"top\">수도권</th>\n",
              "      <th>농산품</th>\n",
              "      <td>22.651729</td>\n",
              "      <td>0.162131</td>\n",
              "      <td>0.043109</td>\n",
              "      <td>0.018534</td>\n",
              "      <td>0.023576</td>\n",
              "      <td>0.014534</td>\n",
              "      <td>0.026497</td>\n",
              "      <td>0.079132</td>\n",
              "      <td>0.019150</td>\n",
              "    </tr>\n",
              "    <tr>\n",
              "      <th>공산품</th>\n",
              "      <td>1.403880</td>\n",
              "      <td>4.028263</td>\n",
              "      <td>0.366757</td>\n",
              "      <td>0.314517</td>\n",
              "      <td>0.398157</td>\n",
              "      <td>0.229486</td>\n",
              "      <td>0.291059</td>\n",
              "      <td>0.472757</td>\n",
              "      <td>0.259963</td>\n",
              "    </tr>\n",
              "    <tr>\n",
              "      <th>서비스</th>\n",
              "      <td>2.707963</td>\n",
              "      <td>2.246110</td>\n",
              "      <td>11.755560</td>\n",
              "      <td>1.002256</td>\n",
              "      <td>1.107804</td>\n",
              "      <td>1.157607</td>\n",
              "      <td>0.911307</td>\n",
              "      <td>1.301539</td>\n",
              "      <td>1.298939</td>\n",
              "    </tr>\n",
              "    <tr>\n",
              "      <th rowspan=\"3\" valign=\"top\">동부권</th>\n",
              "      <th>농산품</th>\n",
              "      <td>0.052220</td>\n",
              "      <td>0.114127</td>\n",
              "      <td>0.085067</td>\n",
              "      <td>22.173783</td>\n",
              "      <td>0.371593</td>\n",
              "      <td>0.164150</td>\n",
              "      <td>0.059492</td>\n",
              "      <td>0.167367</td>\n",
              "      <td>0.045388</td>\n",
              "    </tr>\n",
              "    <tr>\n",
              "      <th>공산품</th>\n",
              "      <td>0.151657</td>\n",
              "      <td>0.360856</td>\n",
              "      <td>0.188230</td>\n",
              "      <td>0.643078</td>\n",
              "      <td>3.131731</td>\n",
              "      <td>0.356425</td>\n",
              "      <td>0.222437</td>\n",
              "      <td>0.358865</td>\n",
              "      <td>0.197119</td>\n",
              "    </tr>\n",
              "    <tr>\n",
              "      <th>서비스</th>\n",
              "      <td>0.164783</td>\n",
              "      <td>0.336634</td>\n",
              "      <td>0.315429</td>\n",
              "      <td>1.418883</td>\n",
              "      <td>1.566771</td>\n",
              "      <td>11.986428</td>\n",
              "      <td>0.168871</td>\n",
              "      <td>0.323432</td>\n",
              "      <td>0.284477</td>\n",
              "    </tr>\n",
              "    <tr>\n",
              "      <th rowspan=\"3\" valign=\"top\">서부권</th>\n",
              "      <th>농산품</th>\n",
              "      <td>0.089490</td>\n",
              "      <td>0.201967</td>\n",
              "      <td>0.133007</td>\n",
              "      <td>0.084775</td>\n",
              "      <td>0.146093</td>\n",
              "      <td>0.114745</td>\n",
              "      <td>21.842043</td>\n",
              "      <td>0.716210</td>\n",
              "      <td>0.230943</td>\n",
              "    </tr>\n",
              "    <tr>\n",
              "      <th>공산품</th>\n",
              "      <td>0.109951</td>\n",
              "      <td>0.262113</td>\n",
              "      <td>0.135482</td>\n",
              "      <td>0.170563</td>\n",
              "      <td>0.233144</td>\n",
              "      <td>0.127269</td>\n",
              "      <td>0.504487</td>\n",
              "      <td>2.167675</td>\n",
              "      <td>0.244420</td>\n",
              "    </tr>\n",
              "    <tr>\n",
              "      <th>서비스</th>\n",
              "      <td>0.149734</td>\n",
              "      <td>0.288510</td>\n",
              "      <td>0.321382</td>\n",
              "      <td>0.151635</td>\n",
              "      <td>0.254388</td>\n",
              "      <td>0.200098</td>\n",
              "      <td>1.153608</td>\n",
              "      <td>1.308330</td>\n",
              "      <td>11.793385</td>\n",
              "    </tr>\n",
              "  </tbody>\n",
              "</table>\n",
              "</div>\n",
              "      <button class=\"colab-df-convert\" onclick=\"convertToInteractive('df-d74bdae2-8e41-4159-8df9-e15d6e203da5')\"\n",
              "              title=\"Convert this dataframe to an interactive table.\"\n",
              "              style=\"display:none;\">\n",
              "\n",
              "  <svg xmlns=\"http://www.w3.org/2000/svg\" height=\"24px\"viewBox=\"0 0 24 24\"\n",
              "       width=\"24px\">\n",
              "    <path d=\"M0 0h24v24H0V0z\" fill=\"none\"/>\n",
              "    <path d=\"M18.56 5.44l.94 2.06.94-2.06 2.06-.94-2.06-.94-.94-2.06-.94 2.06-2.06.94zm-11 1L8.5 8.5l.94-2.06 2.06-.94-2.06-.94L8.5 2.5l-.94 2.06-2.06.94zm10 10l.94 2.06.94-2.06 2.06-.94-2.06-.94-.94-2.06-.94 2.06-2.06.94z\"/><path d=\"M17.41 7.96l-1.37-1.37c-.4-.4-.92-.59-1.43-.59-.52 0-1.04.2-1.43.59L10.3 9.45l-7.72 7.72c-.78.78-.78 2.05 0 2.83L4 21.41c.39.39.9.59 1.41.59.51 0 1.02-.2 1.41-.59l7.78-7.78 2.81-2.81c.8-.78.8-2.07 0-2.86zM5.41 20L4 18.59l7.72-7.72 1.47 1.35L5.41 20z\"/>\n",
              "  </svg>\n",
              "      </button>\n",
              "\n",
              "\n",
              "\n",
              "    <div id=\"df-916d02d9-fa60-480e-850c-9c30d5471892\">\n",
              "      <button class=\"colab-df-quickchart\" onclick=\"quickchart('df-916d02d9-fa60-480e-850c-9c30d5471892')\"\n",
              "              title=\"Suggest charts.\"\n",
              "              style=\"display:none;\">\n",
              "\n",
              "<svg xmlns=\"http://www.w3.org/2000/svg\" height=\"24px\"viewBox=\"0 0 24 24\"\n",
              "     width=\"24px\">\n",
              "    <g>\n",
              "        <path d=\"M19 3H5c-1.1 0-2 .9-2 2v14c0 1.1.9 2 2 2h14c1.1 0 2-.9 2-2V5c0-1.1-.9-2-2-2zM9 17H7v-7h2v7zm4 0h-2V7h2v10zm4 0h-2v-4h2v4z\"/>\n",
              "    </g>\n",
              "</svg>\n",
              "      </button>\n",
              "    </div>\n",
              "\n",
              "<style>\n",
              "  .colab-df-quickchart {\n",
              "    background-color: #E8F0FE;\n",
              "    border: none;\n",
              "    border-radius: 50%;\n",
              "    cursor: pointer;\n",
              "    display: none;\n",
              "    fill: #1967D2;\n",
              "    height: 32px;\n",
              "    padding: 0 0 0 0;\n",
              "    width: 32px;\n",
              "  }\n",
              "\n",
              "  .colab-df-quickchart:hover {\n",
              "    background-color: #E2EBFA;\n",
              "    box-shadow: 0px 1px 2px rgba(60, 64, 67, 0.3), 0px 1px 3px 1px rgba(60, 64, 67, 0.15);\n",
              "    fill: #174EA6;\n",
              "  }\n",
              "\n",
              "  [theme=dark] .colab-df-quickchart {\n",
              "    background-color: #3B4455;\n",
              "    fill: #D2E3FC;\n",
              "  }\n",
              "\n",
              "  [theme=dark] .colab-df-quickchart:hover {\n",
              "    background-color: #434B5C;\n",
              "    box-shadow: 0px 1px 3px 1px rgba(0, 0, 0, 0.15);\n",
              "    filter: drop-shadow(0px 1px 2px rgba(0, 0, 0, 0.3));\n",
              "    fill: #FFFFFF;\n",
              "  }\n",
              "</style>\n",
              "\n",
              "    <script>\n",
              "      async function quickchart(key) {\n",
              "        const containerElement = document.querySelector('#' + key);\n",
              "        const charts = await google.colab.kernel.invokeFunction(\n",
              "            'suggestCharts', [key], {});\n",
              "      }\n",
              "    </script>\n",
              "\n",
              "      <script>\n",
              "\n",
              "function displayQuickchartButton(domScope) {\n",
              "  let quickchartButtonEl =\n",
              "    domScope.querySelector('#df-916d02d9-fa60-480e-850c-9c30d5471892 button.colab-df-quickchart');\n",
              "  quickchartButtonEl.style.display =\n",
              "    google.colab.kernel.accessAllowed ? 'block' : 'none';\n",
              "}\n",
              "\n",
              "        displayQuickchartButton(document);\n",
              "      </script>\n",
              "      <style>\n",
              "    .colab-df-container {\n",
              "      display:flex;\n",
              "      flex-wrap:wrap;\n",
              "      gap: 12px;\n",
              "    }\n",
              "\n",
              "    .colab-df-convert {\n",
              "      background-color: #E8F0FE;\n",
              "      border: none;\n",
              "      border-radius: 50%;\n",
              "      cursor: pointer;\n",
              "      display: none;\n",
              "      fill: #1967D2;\n",
              "      height: 32px;\n",
              "      padding: 0 0 0 0;\n",
              "      width: 32px;\n",
              "    }\n",
              "\n",
              "    .colab-df-convert:hover {\n",
              "      background-color: #E2EBFA;\n",
              "      box-shadow: 0px 1px 2px rgba(60, 64, 67, 0.3), 0px 1px 3px 1px rgba(60, 64, 67, 0.15);\n",
              "      fill: #174EA6;\n",
              "    }\n",
              "\n",
              "    [theme=dark] .colab-df-convert {\n",
              "      background-color: #3B4455;\n",
              "      fill: #D2E3FC;\n",
              "    }\n",
              "\n",
              "    [theme=dark] .colab-df-convert:hover {\n",
              "      background-color: #434B5C;\n",
              "      box-shadow: 0px 1px 3px 1px rgba(0, 0, 0, 0.15);\n",
              "      filter: drop-shadow(0px 1px 2px rgba(0, 0, 0, 0.3));\n",
              "      fill: #FFFFFF;\n",
              "    }\n",
              "  </style>\n",
              "\n",
              "      <script>\n",
              "        const buttonEl =\n",
              "          document.querySelector('#df-d74bdae2-8e41-4159-8df9-e15d6e203da5 button.colab-df-convert');\n",
              "        buttonEl.style.display =\n",
              "          google.colab.kernel.accessAllowed ? 'block' : 'none';\n",
              "\n",
              "        async function convertToInteractive(key) {\n",
              "          const element = document.querySelector('#df-d74bdae2-8e41-4159-8df9-e15d6e203da5');\n",
              "          const dataTable =\n",
              "            await google.colab.kernel.invokeFunction('convertToInteractive',\n",
              "                                                     [key], {});\n",
              "          if (!dataTable) return;\n",
              "\n",
              "          const docLinkHtml = 'Like what you see? Visit the ' +\n",
              "            '<a target=\"_blank\" href=https://colab.research.google.com/notebooks/data_table.ipynb>data table notebook</a>'\n",
              "            + ' to learn more about interactive tables.';\n",
              "          element.innerHTML = '';\n",
              "          dataTable['output_type'] = 'display_data';\n",
              "          await google.colab.output.renderOutput(dataTable, element);\n",
              "          const docLink = document.createElement('div');\n",
              "          docLink.innerHTML = docLinkHtml;\n",
              "          element.appendChild(docLink);\n",
              "        }\n",
              "      </script>\n",
              "    </div>\n",
              "  </div>\n"
            ]
          },
          "metadata": {},
          "execution_count": 235
        }
      ]
    },
    {
      "cell_type": "code",
      "source": [
        "emp_ratio_df.to_csv('지역별_상품별_취업계수.csv', encoding='utf_8-sig')\n",
        "emp_Lf_df.to_csv('지역별_상품별_취업유발계수.csv', encoding='utf_8-sig')"
      ],
      "metadata": {
        "id": "gsdIn0-N86B5"
      },
      "execution_count": 249,
      "outputs": []
    },
    {
      "cell_type": "markdown",
      "source": [
        "### 최종수요 항목별 유발효과----참고용으로 실제 2015년 지역산업연관표에서는 공표하지 않았음"
      ],
      "metadata": {
        "id": "6zhSQgh83SmB"
      }
    },
    {
      "cell_type": "markdown",
      "source": [
        "##### 생산유발효과"
      ],
      "metadata": {
        "id": "P8-fs47q3WzF"
      }
    },
    {
      "cell_type": "code",
      "source": [
        "# Yd = Mt[:9,10:19]  # 국산최종수요...소비, 투자, 수출\n",
        "# Yi = Mt[9:12,10:19]  # 수입최종수요...소비, 투자, 수출\n",
        "# # print('국산최종수요 : \\n', Yd)\n",
        "# # print('수입최종수요 : \\n', Yi)\n",
        "# Yi_dig = linalg.block_diag(Yi[:,0:3],Yi[:,3:6],Yi[:,6:9]) # 각 지역최종수요 대각화\n",
        "# Yi_dig.shape"
      ],
      "metadata": {
        "id": "aZ0NQ51_-OTA"
      },
      "execution_count": 237,
      "outputs": []
    },
    {
      "cell_type": "code",
      "source": [
        "# Lfyd = (Lf@Yd).astype(float).reshape([9,9])   # 데이터타입을 float으로 지정하고 3x3행렬로 지정\n",
        "# Lvyd = (Lv@Yd).astype(float).reshape([9,9])   # 데이터타입을 float으로 지정하고 3x3행렬로 지정\n",
        "# Liyd = (Li@Yd).astype(float).reshape([9,9]) + Yi_dig.astype(float).reshape([9,9]) # 데이터타입을 float으로 지정하고 3x3행렬로 지정\n",
        "\n",
        "# # print('최종수요항목별 생산유발계수 : \\n', Lfyd)\n",
        "# # print('최종수요항목별 부가가치유발계수 : \\n', Lvyd)\n",
        "# print('최종수요항목별 수입유발계수 : \\n', Liyd)\n"
      ],
      "metadata": {
        "id": "vI4pjfvx-WU_"
      },
      "execution_count": 238,
      "outputs": []
    },
    {
      "cell_type": "code",
      "source": [
        "##### 최종수요항목별 유발계수 검증...최종수요항목별 생산유발계수=산출액, 최종수요항목별 부가가치유발계수=부가가치, 최종수요항목별 수입유발계수=수입 이 성립하여야 함"
      ],
      "metadata": {
        "id": "2i4MUlDg5HPP"
      },
      "execution_count": 239,
      "outputs": []
    },
    {
      "cell_type": "code",
      "source": [
        "# Lfyd_sm = Lfyd.sum(axis=1).astype(float).reshape([9,1])\n",
        "# Lvyd_sm = Lvyd.sum(axis=1).astype(float).reshape([9,1])\n",
        "# Liyd_sm = Liyd.sum(axis=1).astype(float).reshape([9,1])\n",
        "\n",
        "# print('최종수요항목별 생산유발계수의 열합 : \\n', Lfyd_sm)\n",
        "# print('최종수요항목별 부가가치유발의 열합 : \\n', Lvyd_sm)\n",
        "# print('최종수요항목별 수입유발계의 열합 : \\n', Liyd_sm)"
      ],
      "metadata": {
        "id": "kJH9hmlC5HUr"
      },
      "execution_count": 240,
      "outputs": []
    },
    {
      "cell_type": "markdown",
      "source": [
        "###### 최종수요항목별 생산, 부가가치 및 수입유발계수"
      ],
      "metadata": {
        "id": "lIoPBD-Fae1A"
      }
    },
    {
      "cell_type": "code",
      "source": [
        "# Yd_rw_sm =Yd.sum(axis=0)  #국산최종수요항목별(소비, 투자, 수출) 행합\n",
        "# Yi_rw_sm =Yi.sum(axis=0)  #수입최종수요항목별(소비, 투자, 수출) 행합\n",
        "\n",
        "# Lfyd_rw_sm = Lfyd.sum(axis=0) # 최종수요항목별(소비, 투자, 수출) 생산유발계수 행합\n",
        "# Lvyd_rw_sm = Lvyd.sum(axis=0) # 최종수요항목별(소비, 투자, 수출) 부가가치유발계수 행합\n",
        "# Liyd_rw_sm = Liyd.sum(axis=0) # 최종수요항목별(소비, 투자, 수출) 수입유발계수 행합\n",
        "\n",
        "# print('최종수요항목별 행합 : \\n', Yd_rw_sm)\n",
        "# print('최종수요항목별 생산유발계수 행합 : \\n', Lfyd_rw_sm)\n",
        "# print('최종수요항목별 부가가치유발계수 행합 : \\n', Lvyd_rw_sm)\n",
        "# print('최종수요항목별 수입유발계수 행합: \\n', Liyd_rw_sm)"
      ],
      "metadata": {
        "id": "6XUSbGUyanOq"
      },
      "execution_count": 241,
      "outputs": []
    },
    {
      "cell_type": "markdown",
      "source": [
        "##### 최종수요항목별(소비, 투자, 수출) 유발계수"
      ],
      "metadata": {
        "id": "_hjFJ_N0dggV"
      }
    },
    {
      "cell_type": "code",
      "source": [
        "# Lfyd_coef =(Lfyd_rw_sm/Yd_rw_sm).astype(float).reshape([1,9]) #최종수요항목별(소비, 투자, 수출) 생산유발계수\n",
        "# Lvyd_coef =(Lvyd_rw_sm/Yd_rw_sm).astype(float).reshape([1,9]) #최종수요항목별(소비, 투자, 수출) 생산유발계수\n",
        "# Liyd_coef =(Liyd_rw_sm/(Yd_rw_sm+Yi_rw_sm)).astype(float).reshape([1,9]) #최종수요항목별(소비, 투자, 수출) 생산유발계수\n",
        "\n",
        "# print('최종수요항목별(소비, 투자, 수출) 생산유발계수 행합 : \\n', Lfyd_coef)\n",
        "# print('최종수요항목별(소비, 투자, 수출) 부가가치유발계수 행합 : \\n', Lvyd_coef)\n",
        "# print('최종수요항목별(소비, 투자, 수출) 수입유발계수 행합: \\n', Liyd_coef)"
      ],
      "metadata": {
        "id": "MmV_4BB-anZi"
      },
      "execution_count": 242,
      "outputs": []
    },
    {
      "cell_type": "markdown",
      "source": [
        "###### 영향력계수(후방연쇄효과) 및 감응도계수(전방연쇄효과)"
      ],
      "metadata": {
        "id": "Kr23Ly0AhpVR"
      }
    },
    {
      "cell_type": "code",
      "source": [
        "# Lf_rw_sm = Lf.sum(axis=0)  # 생산유발계수 행합\n",
        "# Lf_cl_sm = Lf.sum(axis=1)  # 생산유발계수 행합\n",
        "\n",
        "# Lf_bwd = (Lf.sum(axis=0)/Lf_rw_sm.mean()).astype(float).reshape([1,9])  #영향력 계수\n",
        "# Lf_fwd = (Lf.sum(axis=1)/Lf_cl_sm.mean()).astype(float).reshape([1,9])  #감응도 계수\n",
        "\n",
        "# print('품목별 영향력계수 : \\n', Lf_bwd)\n",
        "# print('품목별 감음도계수: \\n', Lf_fwd)"
      ],
      "metadata": {
        "id": "DxnO-URDanip"
      },
      "execution_count": 243,
      "outputs": []
    },
    {
      "cell_type": "code",
      "source": [
        "# df_Lfyd = pd.DataFrame(Lfyd, columns = [['수도권', '수도권', '수도권', '서부권', '서부권', '서부권','동부권', '동부권', '동부권'],\n",
        "#                                                  ['소비', '투자', '수출', '소비', '투자', '수출','소비', '투자', '수출']],\n",
        "\n",
        "#                                      index=[['수도권', '수도권', '수도권', '서부권', '서부권', '서부권','동부권', '동부권', '동부권'],\n",
        "#                                             ['농산품', '공산품', '서비스', '농산품', '공산품', '서비스','농산품', '공산품', '서비스']])\n",
        "# df_Lfyd.index.names=['지역', '상품']\n",
        "# # Lf_df  #pandas로 내보내기"
      ],
      "metadata": {
        "id": "G-mJLG0can6J"
      },
      "execution_count": 244,
      "outputs": []
    },
    {
      "cell_type": "code",
      "source": [
        "# df_Lvyd = pd.DataFrame(Lvyd, columns =  [['수도권', '수도권', '수도권', '서부권', '서부권', '서부권','동부권', '동부권', '동부권'],\n",
        "#                                                  ['소비', '투자', '수출', '소비', '투자', '수출','소비', '투자', '수출']],\n",
        "\n",
        "\n",
        "#                                      index=[['수도권', '수도권', '수도권', '서부권', '서부권', '서부권','동부권', '동부권', '동부권'],\n",
        "#                                             ['농산품', '공산품', '서비스', '농산품', '공산품', '서비스','농산품', '공산품', '서비스']])\n",
        "# df_Lvyd.index.names=['지역', '상품']"
      ],
      "metadata": {
        "id": "OcdzFts-aoCe"
      },
      "execution_count": 245,
      "outputs": []
    },
    {
      "cell_type": "code",
      "source": [
        "# df_Liyd = pd.DataFrame(Liyd, columns =  [['수도권', '수도권', '수도권', '서부권', '서부권', '서부권','동부권', '동부권', '동부권'],\n",
        "#                                                  ['소비', '투자', '수출', '소비', '투자', '수출','소비', '투자', '수출']],\n",
        "\n",
        "#                                      index=[['수도권', '수도권', '수도권', '서부권', '서부권', '서부권','동부권', '동부권', '동부권'],\n",
        "#                                             ['농산품', '공산품', '서비스', '농산품', '공산품', '서비스','농산품', '공산품', '서비스']])\n",
        "# df_Liyd.index.names=['지역', '상품']"
      ],
      "metadata": {
        "id": "DhcxuVr9NSEY"
      },
      "execution_count": 246,
      "outputs": []
    },
    {
      "cell_type": "code",
      "source": [
        "# df_Lfyd_coef = pd.DataFrame(Lf_bwd,columns =  [['수도권', '수도권', '수도권', '서부권', '서부권', '서부권','동부권', '동부권', '동부권'],\n",
        "#                                                  ['소비', '투자', '수출', '소비', '투자', '수출','소비', '투자', '수출']])\n",
        "\n",
        "\n",
        "# df_Lvyd_coef = pd.DataFrame(Lvyd_coef,columns =  [['수도권', '수도권', '수도권', '서부권', '서부권', '서부권','동부권', '동부권', '동부권'],\n",
        "#                                                  ['소비', '투자', '수출', '소비', '투자', '수출','소비', '투자', '수출']])\n",
        "\n",
        "\n",
        "# df_Liyd_coef = pd.DataFrame(Liyd_coef,columns =  [['수도권', '수도권', '수도권', '서부권', '서부권', '서부권','동부권', '동부권', '동부권'],\n",
        "#                                                  ['소비', '투자', '수출', '소비', '투자', '수출','소비', '투자', '수출']])\n"
      ],
      "metadata": {
        "id": "hqbA6HQ6Nh6H"
      },
      "execution_count": 247,
      "outputs": []
    },
    {
      "cell_type": "code",
      "source": [
        "# df_Lf_bwd = pd.DataFrame(Lf_bwd.round(3),columns = [['수도권', '수도권', '수도권', '서부권', '서부권', '서부권','동부권', '동부권', '동부권'],\n",
        "#                                                  ['소비', '투자', '수출', '소비', '투자', '수출','소비', '투자', '수출']], index=['영향력계수'])\n",
        "\n",
        "# df_Lf_fwd = pd.DataFrame(Lf_fwd.round(3),columns =  [['수도권', '수도권', '수도권', '서부권', '서부권', '서부권','동부권', '동부권', '동부권'],\n",
        "#                                                  ['소비', '투자', '수출', '소비', '투자', '수출','소비', '투자', '수출']],index=['감응도계수'])\n"
      ],
      "metadata": {
        "id": "FhAqbIF-OGDF"
      },
      "execution_count": 250,
      "outputs": []
    },
    {
      "cell_type": "code",
      "source": [
        "# csv 파일로 내보내기\n",
        "# df_Lfyd.to_csv('최종수요항목별 생산유발액.csv', encoding='utf_8-sig')\n",
        "# df_Lvyd.to_csv('최종수요항목별 부가가치유발액.csv', encoding='utf_8-sig')\n",
        "# df_Liyd.to_csv('최종수요항목별 수입유발액.csv', encoding='utf_8-sig')\n",
        "\n",
        "# df_Lfyd_coef.to_csv('최종수요항목별 생산유발계수.csv', encoding='utf_8-sig')\n",
        "# df_Lvyd_coef.to_csv('최종수요항목별 부가가치유발계수.csv', encoding='utf_8-sig')\n",
        "# df_Liyd_coef.to_csv('최종수요항목별 수입유발계수.csv', encoding='utf_8-sig')\n",
        "\n",
        "# df_Lf_bwd.to_csv('영향력계수.csv', encoding='utf_8-sig')\n",
        "# df_Lf_bwd.to_csv('감응도계수.csv', encoding='utf_8-sig')"
      ],
      "metadata": {
        "id": "2_rVb-CPNh_P",
        "outputId": "d5ab466a-dc2c-4de3-b7f3-32ab6cb66557",
        "colab": {
          "base_uri": "https://localhost:8080/",
          "height": 233
        }
      },
      "execution_count": 251,
      "outputs": [
        {
          "output_type": "error",
          "ename": "NameError",
          "evalue": "ignored",
          "traceback": [
            "\u001b[0;31m---------------------------------------------------------------------------\u001b[0m",
            "\u001b[0;31mNameError\u001b[0m                                 Traceback (most recent call last)",
            "\u001b[0;32m<ipython-input-251-077bf721fba4>\u001b[0m in \u001b[0;36m<cell line: 10>\u001b[0;34m()\u001b[0m\n\u001b[1;32m      8\u001b[0m \u001b[0;31m# df_Liyd_coef.to_csv('최종수요항목별 수입유발계수.csv', encoding='utf_8-sig')\u001b[0m\u001b[0;34m\u001b[0m\u001b[0;34m\u001b[0m\u001b[0m\n\u001b[1;32m      9\u001b[0m \u001b[0;34m\u001b[0m\u001b[0m\n\u001b[0;32m---> 10\u001b[0;31m \u001b[0mdf_Lf_bwd\u001b[0m\u001b[0;34m.\u001b[0m\u001b[0mto_csv\u001b[0m\u001b[0;34m(\u001b[0m\u001b[0;34m'영향력계수.csv'\u001b[0m\u001b[0;34m,\u001b[0m \u001b[0mencoding\u001b[0m\u001b[0;34m=\u001b[0m\u001b[0;34m'utf_8-sig'\u001b[0m\u001b[0;34m)\u001b[0m\u001b[0;34m\u001b[0m\u001b[0;34m\u001b[0m\u001b[0m\n\u001b[0m\u001b[1;32m     11\u001b[0m \u001b[0mdf_Lf_bwd\u001b[0m\u001b[0;34m.\u001b[0m\u001b[0mto_csv\u001b[0m\u001b[0;34m(\u001b[0m\u001b[0;34m'감응도계수.csv'\u001b[0m\u001b[0;34m,\u001b[0m \u001b[0mencoding\u001b[0m\u001b[0;34m=\u001b[0m\u001b[0;34m'utf_8-sig'\u001b[0m\u001b[0;34m)\u001b[0m\u001b[0;34m\u001b[0m\u001b[0;34m\u001b[0m\u001b[0m\n",
            "\u001b[0;31mNameError\u001b[0m: name 'df_Lf_bwd' is not defined"
          ]
        }
      ]
    },
    {
      "cell_type": "code",
      "source": [],
      "metadata": {
        "id": "i9nbUdEs8eVn"
      },
      "execution_count": null,
      "outputs": []
    }
  ]
}