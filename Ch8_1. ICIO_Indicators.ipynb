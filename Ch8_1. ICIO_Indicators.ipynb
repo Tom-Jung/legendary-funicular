{
  "nbformat": 4,
  "nbformat_minor": 0,
  "metadata": {
    "colab": {
      "provenance": [],
      "mount_file_id": "https://github.com/Tom-Jung/legendary-funicular/blob/main/IO_tables.ipynb",
      "authorship_tag": "ABX9TyMBLaXEtx5jR/kMOyOaS1DA",
      "include_colab_link": true
    },
    "kernelspec": {
      "name": "python3",
      "display_name": "Python 3"
    },
    "language_info": {
      "name": "python"
    }
  },
  "cells": [
    {
      "cell_type": "markdown",
      "metadata": {
        "id": "view-in-github",
        "colab_type": "text"
      },
      "source": [
        "<a href=\"https://colab.research.google.com/github/Tom-Jung/legendary-funicular/blob/main/Ch8_1.%20ICIO_Indicators.ipynb\" target=\"_parent\"><img src=\"https://colab.research.google.com/assets/colab-badge.svg\" alt=\"Open In Colab\"/></a>"
      ]
    },
    {
      "cell_type": "code",
      "source": [
        "import numpy as np   # Numpy import\n",
        "import pandas as pd  # Pandas import"
      ],
      "metadata": {
        "id": "TR7JvW8CxBFT"
      },
      "execution_count": 124,
      "outputs": []
    },
    {
      "cell_type": "code",
      "source": [
        "np.set_printoptions(precision=3,suppress=True) # 결과를 소수 3자리까지만 보여주는 옵션"
      ],
      "metadata": {
        "id": "2l9tk4XA4Nkc"
      },
      "execution_count": 125,
      "outputs": []
    },
    {
      "cell_type": "code",
      "source": [
        "# from google.colab import drive\n",
        "# drive.mount('/content/drive')"
      ],
      "metadata": {
        "id": "UUugbbcO-CMK"
      },
      "execution_count": 126,
      "outputs": []
    },
    {
      "cell_type": "code",
      "source": [
        "# icio =pd.read_csv('/content/drive/MyDrive/ICIO/ICIO2021_2018.csv')"
      ],
      "metadata": {
        "id": "dH4scTnJ9Wll"
      },
      "execution_count": 127,
      "outputs": []
    },
    {
      "cell_type": "code",
      "source": [
        "icio = pd.read_csv('/content/ICIO_6cons_3secs.csv')\n",
        "# icio"
      ],
      "metadata": {
        "id": "1tuN2LradEW4"
      },
      "execution_count": 128,
      "outputs": []
    },
    {
      "cell_type": "code",
      "source": [
        "icio.head()\n",
        "icio_1 = icio.to_numpy()\n",
        "icio_2=icio_1[2:,2:]\n",
        "# icio_2"
      ],
      "metadata": {
        "id": "DhBtrP5M9vRR"
      },
      "execution_count": 129,
      "outputs": []
    },
    {
      "cell_type": "markdown",
      "source": [
        "### 한국 1, 중국2, 미국3, 일본4, EU5(Slovakia는 ICIO에 없음..총 26개국),ROW6"
      ],
      "metadata": {
        "id": "AvyOqU89gls6"
      }
    },
    {
      "cell_type": "markdown",
      "source": [
        "## TiVa indicators guide"
      ],
      "metadata": {
        "id": "-ufC9ldR9AHP"
      }
    },
    {
      "cell_type": "markdown",
      "source": [
        "[TiVA2022_Indicators_Guide](TiVA2022_Indicators_Guide.pdf)"
      ],
      "metadata": {
        "id": "JdRj6TVn_pDF"
      }
    },
    {
      "cell_type": "code",
      "source": [
        "PROD = icio_2[-1,0:18].astype(float) # 산출액\n",
        "VALU = icio_2[-2, 0:18].astype(float) # 부가가치\n",
        "PROD_VALU = VALU/PROD\n",
        "PROD_VALU"
      ],
      "metadata": {
        "id": "yXmH7e7troAC",
        "outputId": "17125524-36a3-4b3d-abe9-083f9b3136ca",
        "colab": {
          "base_uri": "https://localhost:8080/"
        }
      },
      "execution_count": 130,
      "outputs": [
        {
          "output_type": "execute_result",
          "data": {
            "text/plain": [
              "array([0.526, 0.277, 0.518, 0.442, 0.226, 0.508, 0.407, 0.384, 0.596,\n",
              "       0.446, 0.341, 0.614, 0.451, 0.305, 0.551, 0.622, 0.363, 0.58 ])"
            ]
          },
          "metadata": {},
          "execution_count": 130
        }
      ]
    },
    {
      "cell_type": "code",
      "source": [
        "import scipy.linalg as linalg"
      ],
      "metadata": {
        "id": "TUvDa4AyNgrR"
      },
      "execution_count": 131,
      "outputs": []
    },
    {
      "cell_type": "code",
      "source": [
        "aa = icio_2[0:18,0:18].astype(float)\n",
        "aa"
      ],
      "metadata": {
        "id": "05IaLCi3PXVU",
        "outputId": "1e8a490d-661b-4667-a42e-972c993ae0dd",
        "colab": {
          "base_uri": "https://localhost:8080/"
        }
      },
      "execution_count": 137,
      "outputs": [
        {
          "output_type": "execute_result",
          "data": {
            "text/plain": [
              "array([[   2469.265,   28195.549,   10238.518,      13.192,      29.448,\n",
              "              3.897,      37.114,     165.111,      70.209,      19.097,\n",
              "             86.362,      24.153,       2.196,      19.542,       4.168,\n",
              "             40.873,     106.143,      46.882],\n",
              "       [  10967.029,  559580.947,  259256.159,    5004.781,  124554.113,\n",
              "          29490.716,     396.569,   19252.331,   13595.76 ,     219.926,\n",
              "          16217.49 ,    7151.547,     361.279,   16504.046,    6397.319,\n",
              "           5563.097,   97365.988,   46657.063],\n",
              "       [   8516.554,  263317.909,  542061.575,    1129.108,   13943.944,\n",
              "           9905.424,      46.967,    1705.459,    4161.81 ,      38.08 ,\n",
              "           1723.636,    4451.46 ,      64.113,    1979.532,    4303.441,\n",
              "            714.15 ,   10684.951,   18237.61 ],\n",
              "       [     31.469,     372.554,     123.229,  438877.197,  969085.461,\n",
              "         150018.664,     268.29 ,     851.395,     268.505,     210.892,\n",
              "            829.618,     230.375,     152.775,     848.273,     111.265,\n",
              "            853.906,    3365.631,     913.652],\n",
              "       [    682.404,   53244.335,   18295.445,  457060.519, 8094558.037,\n",
              "        3401812.313,    1820.781,   88087.74 ,   94776.206,     790.137,\n",
              "          48014.26 ,   32826.538,    1637.134,   95028.833,   50590.33 ,\n",
              "          15676.716,  334936.221,  214365.199],\n",
              "       [    105.694,    6039.687,    8408.642,  240006.833, 2610966.477,\n",
              "        3490900.628,     202.835,    8636.418,   18260.8  ,     156.636,\n",
              "           5612.206,   11778.75 ,     306.006,   11823.843,   25767.422,\n",
              "           2207.286,   37883.555,   66612.907],\n",
              "       [    112.667,    1292.452,     389.464,    2036.356,    4653.371,\n",
              "            773.284,   82976.51 ,  208796.048,   19988.642,     629.109,\n",
              "           2240.174,     609.906,     327.738,    2009.406,     375.471,\n",
              "           3374.428,   12165.403,    1864.82 ],\n",
              "       [    406.851,   21703.177,    9256.972,    2959.239,   57445.883,\n",
              "          16846.666,   67741.52 , 1665793.285, 1454826.023,     405.871,\n",
              "          22580.659,   14936.455,    1308.322,   60056.574,   27017.351,\n",
              "          13044.18 ,  252933.005,  132008.759],\n",
              "       [    305.517,    9533.444,   11819.126,    2650.663,   24156.399,\n",
              "          23409.05 ,  100286.072, 1495083.508, 9182058.184,     518.049,\n",
              "          12475.229,   31312.72 ,    1479.68 ,   51671.765,  137418.035,\n",
              "           8672.365,  110700.463,  206787.83 ],\n",
              "       [      2.402,      19.026,      16.007,      32.035,      81.816,\n",
              "             13.619,       9.943,     181.659,     180.864,   12151.387,\n",
              "          46432.889,   13507.013,       3.025,      15.187,       4.102,\n",
              "             21.098,      79.019,      49.159],\n",
              "       [    285.073,   25944.064,    7394.454,    3144.069,   77238.384,\n",
              "          20514.178,     549.122,   30608.698,   19202.492,   18072.497,\n",
              "         949710.465,  612993.989,     417.675,   21021.992,    9255.224,\n",
              "           3380.698,  103821.127,   48337.559],\n",
              "       [     90.691,    5717.448,    3688.212,    1122.28 ,   18205.572,\n",
              "           9354.992,     170.997,    5700.611,   11174.493,   22472.87 ,\n",
              "         496623.962, 1341540.085,     221.855,   10340.795,   19595.801,\n",
              "           1329.289,   32800.896,   41426.146],\n",
              "       [     13.581,     139.798,      62.931,     405.747,     971.535,\n",
              "            229.167,     442.475,    1436.323,     452.379,      45.597,\n",
              "            179.603,      99.511,   58655.527,  223743.925,   42486.19 ,\n",
              "           3056.284,    9243.006,    1909.389],\n",
              "       [    348.279,   23565.785,    9566.342,    6084.693,  100318.019,\n",
              "          36721.851,    2534.696,   85880.044,   64510.051,     388.294,\n",
              "          27790.696,   19200.993,   86886.207, 2224800.836, 1292106.364,\n",
              "          23823.472,  349114.173,  255447.633],\n",
              "       [    167.157,    6849.512,    9320.169,    3550.048,   34848.243,\n",
              "          36768.321,     778.829,   21543.239,   66465.944,     198.16 ,\n",
              "           8043.123,   18920.843,  120261.412, 1986206.516, 6683655.903,\n",
              "          11507.828,  134230.698,  321639.189],\n",
              "       [    209.189,    2298.361,     958.792,   13475.246,   30130.325,\n",
              "           3994.593,    6644.908,   21651.634,    7115.339,    1157.578,\n",
              "           4489.037,    1307.208,    5016.354,   24915.925,    3971.908,\n",
              "         425102.144,  941970.584,  247691.45 ],\n",
              "       [   1153.367,  147005.127,   46761.519,   17637.784,  625596.253,\n",
              "         140915.361,    5987.042,  393079.678,  201365.411,    1240.599,\n",
              "         163672.435,   54038.787,   10051.779,  480092.863,  201955.084,\n",
              "         300672.789, 4810001.664, 2834854.22 ],\n",
              "       [    428.983,   18609.002,   26204.42 ,    8927.6  ,   94026.309,\n",
              "          71935.037,    3186.388,   70322.274,  165963.303,     644.161,\n",
              "          22205.255,   45294.92 ,    4958.265,  131336.471,  343817.18 ,\n",
              "         338494.721, 2882448.586, 8628206.788]])"
            ]
          },
          "metadata": {},
          "execution_count": 137
        }
      ]
    },
    {
      "cell_type": "code",
      "source": [
        "FD = icio_2[0:18,18:36]\n",
        "FD"
      ],
      "metadata": {
        "id": "4OsGzqPIQ5i6",
        "outputId": "a18cc1b7-0519-41ef-810f-58439db82903",
        "colab": {
          "base_uri": "https://localhost:8080/"
        }
      },
      "execution_count": 146,
      "outputs": [
        {
          "output_type": "execute_result",
          "data": {
            "text/plain": [
              "array([['15167.950697999999', '61.24034', '0.000601', '13.733776',\n",
              "        '1.181997', '93.85599199999999', '44.782809',\n",
              "        '0.014003999999999999', '20.941984', '57.463975', '3.554192',\n",
              "        '10.161687', '16.844803000000002', '0.239383', '1.521243',\n",
              "        '104.85635399999998', '2.452323', '45.865269999999995'],\n",
              "       ['131732.769849', '114067.913521', '0.042731000000000005',\n",
              "        '10689.501047999998', '27246.799150000003', '1193.98829',\n",
              "        '16708.581011000002', '18379.609809', '398.127094',\n",
              "        '7116.724029999999', '4064.3389349999998', '167.24537800000004',\n",
              "        '9363.265734000004', '9833.994401999997', '37.02717700000001',\n",
              "        '42256.709812', '55902.12763600001', '769.309798'],\n",
              "       ['831308.2504719999', '329783.1697060001', '0.086039',\n",
              "        '4214.04361', '3413.882509', '5175.225912999999',\n",
              "        '3047.0878609999995', '3124.5097860000005', '2029.9108969999995',\n",
              "        '2133.909064', '1091.8534609999997', '821.2471869999999',\n",
              "        '1838.1216410000002', '1486.6122230000003', '188.23124199999998',\n",
              "        '11018.642663999995', '6267.171743000001', '3799.6911339999997'],\n",
              "       ['192.951788', '2.265847', '130.481895', '497710.039722',\n",
              "        '53226.03086299999', '0.0', '436.18908799999997', '0.0',\n",
              "        '75.416064', '579.207908', '42.668396', '28.212201',\n",
              "        '644.7431849999999', '21.438873', '37.31607699999999',\n",
              "        '4812.069352', '289.477937', '266.15551899999997'],\n",
              "       ['11676.457885000003', '10170.785712', '1495.9224410000002',\n",
              "        '1586829.7261679997', '1633796.674841', '9.528101000000001',\n",
              "        '151122.57440400004', '84760.118102', '1116.35393',\n",
              "        '46369.27424700001', '27453.619926000003', '368.14694899999995',\n",
              "        '91169.29637700002', '44287.230704', '729.874554',\n",
              "        '255285.363374', '230325.52301499993', '3625.7185199999994'],\n",
              "       ['3316.0100089999996', '3067.381420999999', '5782.453464',\n",
              "        '5004017.0650969995', '3957691.4281719998', '164.48324799999997',\n",
              "        '24117.681167999996', '11275.298421000001', '4394.213411',\n",
              "        '8703.121664999999', '5647.151132999999', '1331.05011',\n",
              "        '18846.988855', '9968.879636999998', '2732.6674649999995',\n",
              "        '54127.55715400002', '30390.608815', '13833.209989000003'],\n",
              "       ['627.4269370000001', '14.007908', '45.954794', '2363.291892',\n",
              "        '175.465963', '210.597163', '106658.978819', '-4434.440819',\n",
              "        '0.041775', '1620.182247', '118.834458', '24.283326',\n",
              "        '1880.4887789999993', '59.491825', '69.307302',\n",
              "        '11482.882662999997', '555.255504', '502.628025'],\n",
              "       ['4155.562336999999', '6526.381617999999', '816.3282449999999',\n",
              "        '9057.226723', '20086.994617', '3516.7428650000006',\n",
              "        '1609819.450378', '964922.452168', '1.2315920000000002',\n",
              "        '13849.178732', '12360.066669', '485.439136', '37746.18424',\n",
              "        '28229.03951299999', '1882.5972900000002', '171822.55886300004',\n",
              "        '120237.54961400003', '10167.463581999997'],\n",
              "       ['3745.769043', '4051.770028000001', '9089.335512999998',\n",
              "        '12965.360922000003', '8267.892749', '39807.850454',\n",
              "        '13805040.838871', '2878669.177736', '5.749214',\n",
              "        '14958.746137999997', '6611.468701', '4701.456935000001',\n",
              "        '42878.916845000036', '36136.03210399999', '18474.553478',\n",
              "        '146521.53403400004', '55871.89695599999', '94709.375314'],\n",
              "       ['12.479954', '1.745825', '4.367308', '27.269344999999998',\n",
              "        '6.412393', '26.290687000000002', '97.59924400000001',\n",
              "        '0.438172', '8.641112', '35608.514744', '2593.40473', '1.8e-05',\n",
              "        '12.622922999999998', '0.5999609999999999', '1.6456889999999997',\n",
              "        '192.14596', '3.662545', '10.322678999999997'],\n",
              "       ['2835.7277430000004', '7930.578400000001', '469.4586660000001',\n",
              "        '6482.85875', '27046.618824', '2994.692716',\n",
              "        '25371.300646000003', '35847.961671', '1233.7541690000005',\n",
              "        '515330.964979', '184578.291548', '0.024287000000000003',\n",
              "        '12185.709674999995', '13904.888299', '306.0755700000001',\n",
              "        '49314.621137999995', '81067.95623499999', '1398.2032860000002'],\n",
              "       ['1276.5476919999996', '1698.7939550000003', '2692.8234690000004',\n",
              "        '3011.0049289999997', '6014.328404999999', '14351.297564999999',\n",
              "        '6977.446613', '6648.333789000001', '5850.968369000001',\n",
              "        '2877494.8411720004', '894873.9372360003', '0.31133199999999983',\n",
              "        '5316.216474999999', '3735.1519770000014', '1268.3852570000001',\n",
              "        '21264.119797000007', '16876.801670999997', '6738.082488'],\n",
              "       ['78.50066100000001', '8.706225', '17.091974999999998',\n",
              "        '523.627653', '60.14228700000001', '318.935396',\n",
              "        '893.3648020000003', '36.718398', '589.9369629999999',\n",
              "        '231.80253', '12.932350000000001', '25.78678499999999',\n",
              "        '187760.15684100002', '11268.78095', '2136.173416',\n",
              "        '13694.260693999995', '837.5704789999999', '1686.349218'],\n",
              "       ['6234.113813999999', '9102.475221', '140.35323400000004',\n",
              "        '24265.594006', '44616.88113299995', '2324.7795419999975',\n",
              "        '125255.95757600003', '62838.218149999964', '5176.517845999996',\n",
              "        '19298.28561800002', '9042.448195999996', '214.175861',\n",
              "        '1599505.7342670006', '888282.2228809999', '21765.509967999995',\n",
              "        '328455.36516000004', '259158.79602899987', '15726.521939'],\n",
              "       ['3466.237234999999', '3251.823525000001', '985.5252559999996',\n",
              "        '21087.038294000005', '13796.348708000012', '14412.525278999992',\n",
              "        '51879.760449000016', '23246.198962999995', '37987.89722800004',\n",
              "        '10435.427027000003', '4119.248553999998', '1424.2514479999998',\n",
              "        '8371820.379401', '2213748.3558879998', '158470.57895700008',\n",
              "        '225672.26371100018', '95735.05758499996', '115081.48681799998'],\n",
              "       ['1244.008235', '45.895421000000006', '141.30015600000004',\n",
              "        '13738.891726999998', '1341.7825500000006', '1485.477869',\n",
              "        '10823.551567000002', '55.90785299999999', '1114.2214000000001',\n",
              "        '3245.447176', '235.38307100000003', '86.493809', '18450.734155',\n",
              "        '947.090769', '830.465859', '1288314.8028470003', '66576.674096',\n",
              "        '2549.977948'],\n",
              "       ['14893.335985', '11215.374528', '1663.463342',\n",
              "        '49388.739152000046', '40595.56428000004', '17337.658081000012',\n",
              "        '292904.7407050001', '161439.67443800016', '16458.26224',\n",
              "        '47131.457981999985', '24181.478278999995', '1101.6401589999996',\n",
              "        '246024.13198700012', '82748.37969099997', '12147.337971999996',\n",
              "        '3462275.5081150006', '1560526.3526710002', '34037.317111'],\n",
              "       ['8084.430950000002', '5103.901847999997', '10764.30491599999',\n",
              "        '46701.47415600006', '27348.074454999987', '133258.22108200003',\n",
              "        '114413.26038000004', '59007.36183900004', '102905.801379',\n",
              "        '24441.275548999998', '8384.517509000005', '6156.0093300000035',\n",
              "        '138434.88057500002', '76260.42154500002', '71986.10169499995',\n",
              "        '14291202.998587', '4367640.710198998', '196180.85791600004']],\n",
              "      dtype=object)"
            ]
          },
          "metadata": {},
          "execution_count": 146
        }
      ]
    },
    {
      "cell_type": "code",
      "source": [
        "mtx_for_int= linalg.block_diag(np.ones((3,3)),np.ones((3,3)),np.ones((3,3)),np.ones((3,3)),np.ones((3,3)),np.ones((3,3)))\n",
        "mtx_for_tra=np.where(mtx_for_int == 1, 0, 1)\n",
        "\n",
        "INT = icio_2[0:18,0:18].astype(float)\n",
        "\n",
        "EXGR_INT_mt = (INT*mtx_for_tra).reshape([18,18])  # 중간재 수출\n",
        "EXGR_INT = EXGR_INT_mt.sum(axis=1).reshape([18,1])\n",
        "\n",
        "FD = icio_2[0:18,18:36].astype(float)\n",
        "\n",
        "EXGR_FNL_mt = (FD*mtx_for_tra).reshape([18,18])  # 중간재 수출\n",
        "EXGR_FNL = EXGR_FNL_mt.sum(axis=1).reshape([18,1])\n",
        "\n",
        "EXGR = EXGR_INT + EXGR_FNL\n",
        "\n",
        "print('중간재 수출 : \\n', EXGR_INT, '\\n')\n",
        "print('최종재 수출 : \\n', EXGR_FNL, '\\n')\n",
        "print('총수출 : \\n', EXGR, '\\n')"
      ],
      "metadata": {
        "id": "M2e69LcT_59t",
        "outputId": "8701940c-5cb8-4724-f5b7-84e55776ea69",
        "colab": {
          "base_uri": "https://localhost:8080/"
        }
      },
      "execution_count": 149,
      "outputs": [
        {
          "output_type": "stream",
          "name": "stdout",
          "text": [
            "중간재 수출 : \n",
            " [[    668.388]\n",
            " [ 388732.027]\n",
            " [  73089.683]\n",
            " [   9431.83 ]\n",
            " [1050772.281]\n",
            " [ 203802.687]\n",
            " [  32854.049]\n",
            " [ 632909.967]\n",
            " [ 632910.336]\n",
            " [    708.961]\n",
            " [ 371114.81 ]\n",
            " [ 160940.077]\n",
            " [  18687.326]\n",
            " [1005295.021]\n",
            " [ 674831.303]\n",
            " [ 127336.396]\n",
            " [2490553.088]\n",
            " [1007859.568]] \n",
            "\n",
            "최종재 수출 : \n",
            " [[    417.47 ]\n",
            " [ 204127.349]\n",
            " [  49650.141]\n",
            " [   7558.594]\n",
            " [ 959956.26 ]\n",
            " [ 197534.273]\n",
            " [  19750.099]\n",
            " [ 440939.314]\n",
            " [ 498791.959]\n",
            " [    406.244]\n",
            " [ 268390.406]\n",
            " [ 103720.302]\n",
            " [  19015.726]\n",
            " [ 911850.483]\n",
            " [ 622581.09 ]\n",
            " [  53786.652]\n",
            " [1019231.239]\n",
            " [ 833250.037]] \n",
            "\n",
            "총수출 : \n",
            " [[   1085.858]\n",
            " [ 592859.376]\n",
            " [ 122739.824]\n",
            " [  16990.424]\n",
            " [2010728.541]\n",
            " [ 401336.96 ]\n",
            " [  52604.148]\n",
            " [1073849.281]\n",
            " [1131702.295]\n",
            " [   1115.205]\n",
            " [ 639505.215]\n",
            " [ 264660.379]\n",
            " [  37703.052]\n",
            " [1917145.504]\n",
            " [1297412.393]\n",
            " [ 181123.047]\n",
            " [3509784.327]\n",
            " [1841109.605]] \n",
            "\n"
          ]
        }
      ]
    },
    {
      "cell_type": "code",
      "source": [],
      "metadata": {
        "id": "grc1h7B3QUxI"
      },
      "execution_count": null,
      "outputs": []
    },
    {
      "cell_type": "code",
      "source": [
        "Mtx = np.zeros((18,3195)) # 부문통합을 위한 코드가 많을 경우 상기의 코드를 수작업으로 미리 하는 것이 쉽자 않으므로 반복문을 통해 3x33 임시코드 만들기\n",
        "cd_3 = cd_for_itr[:,1]\n",
        "cd_33 = cd_for_itr[:,0]\n",
        "row=cd_3\n",
        "col=cd_33\n",
        "for i, j in zip(row,col):\n",
        "  Mtx[i-1,j-1] = 1\n",
        "print(Mtx)"
      ],
      "metadata": {
        "id": "GdSKaueLdDOn",
        "outputId": "27dda8d5-8985-4561-806e-c80112c0939c",
        "colab": {
          "base_uri": "https://localhost:8080/"
        }
      },
      "execution_count": 134,
      "outputs": [
        {
          "output_type": "stream",
          "name": "stdout",
          "text": [
            "[[0. 0. 0. ... 0. 0. 0.]\n",
            " [0. 0. 0. ... 0. 0. 0.]\n",
            " [0. 0. 0. ... 0. 0. 0.]\n",
            " ...\n",
            " [1. 1. 0. ... 0. 0. 0.]\n",
            " [0. 0. 1. ... 0. 0. 0.]\n",
            " [0. 0. 0. ... 0. 0. 0.]]\n"
          ]
        }
      ]
    },
    {
      "cell_type": "code",
      "source": [
        "code=Mtx\n",
        "code.shape"
      ],
      "metadata": {
        "id": "1gXI65U3K2hG",
        "outputId": "27fbb014-cc7e-422a-c4ca-2ae7389c6563",
        "colab": {
          "base_uri": "https://localhost:8080/"
        }
      },
      "execution_count": 135,
      "outputs": [
        {
          "output_type": "execute_result",
          "data": {
            "text/plain": [
              "(18, 3195)"
            ]
          },
          "metadata": {},
          "execution_count": 135
        }
      ]
    },
    {
      "cell_type": "code",
      "source": [
        "nae_tot_row = code@icio_2[0:3195,0:3195] # 중간투입(수요)의 행을 18부문으로 만들기\n",
        "nae_tot_row.shape"
      ],
      "metadata": {
        "id": "hwAN1N7qGAtx",
        "outputId": "c7669e4c-4db6-43b1-ae4e-d321da888540",
        "colab": {
          "base_uri": "https://localhost:8080/",
          "height": 191
        }
      },
      "execution_count": 136,
      "outputs": [
        {
          "output_type": "error",
          "ename": "ValueError",
          "evalue": "ignored",
          "traceback": [
            "\u001b[0;31m---------------------------------------------------------------------------\u001b[0m",
            "\u001b[0;31mValueError\u001b[0m                                Traceback (most recent call last)",
            "\u001b[0;32m<ipython-input-136-5cfe59861c52>\u001b[0m in \u001b[0;36m<cell line: 1>\u001b[0;34m()\u001b[0m\n\u001b[0;32m----> 1\u001b[0;31m \u001b[0mnae_tot_row\u001b[0m \u001b[0;34m=\u001b[0m \u001b[0mcode\u001b[0m\u001b[0;34m@\u001b[0m\u001b[0micio_2\u001b[0m\u001b[0;34m[\u001b[0m\u001b[0;36m0\u001b[0m\u001b[0;34m:\u001b[0m\u001b[0;36m3195\u001b[0m\u001b[0;34m,\u001b[0m\u001b[0;36m0\u001b[0m\u001b[0;34m:\u001b[0m\u001b[0;36m3195\u001b[0m\u001b[0;34m]\u001b[0m \u001b[0;31m# 중간투입(수요)의 행을 18부문으로 만들기\u001b[0m\u001b[0;34m\u001b[0m\u001b[0;34m\u001b[0m\u001b[0m\n\u001b[0m\u001b[1;32m      2\u001b[0m \u001b[0mnae_tot_row\u001b[0m\u001b[0;34m.\u001b[0m\u001b[0mshape\u001b[0m\u001b[0;34m\u001b[0m\u001b[0;34m\u001b[0m\u001b[0m\n",
            "\u001b[0;31mValueError\u001b[0m: matmul: Input operand 1 has a mismatch in its core dimension 0, with gufunc signature (n?,k),(k,m?)->(n?,m?) (size 26 is different from 3195)"
          ]
        }
      ]
    },
    {
      "cell_type": "code",
      "source": [
        "nae_tot_col = nae_tot_row@code.T  # 수작업한 code 이용\n",
        "nae_tot_col.sum()"
      ],
      "metadata": {
        "id": "gJ-wf5Z5GAwF"
      },
      "execution_count": null,
      "outputs": []
    },
    {
      "cell_type": "code",
      "source": [
        "url_cdtx = \"https://raw.githubusercontent.com/Tom-Jung/legendary-funicular/main/cd_tax.csv\"  #코드매치 파일 불러오기\n",
        "cd_tx = pd.read_csv(url_cdtx)\n",
        "cd_tx.shape"
      ],
      "metadata": {
        "id": "U2KVZnyLGAyV"
      },
      "execution_count": null,
      "outputs": []
    },
    {
      "cell_type": "code",
      "source": [
        "url_cns = \"https://raw.githubusercontent.com/Tom-Jung/legendary-funicular/main/cd_cons.csv\"  #코드매치 파일 불러오기\n",
        "cd_cns = pd.read_csv(url_cns)\n",
        "cd_cns.shape"
      ],
      "metadata": {
        "id": "JQxUsF6DiW7A"
      },
      "execution_count": null,
      "outputs": []
    },
    {
      "cell_type": "code",
      "source": [
        "# Mtx_tx= np.zeros((6,3195)) # 부문통합을 위한 코드가 많을 경우 상기의 코드를 수작업으로 미리 하는 것이 쉽자 않으므로 반복문을 통해 3x33 임시코드 만들기\n",
        "# cd_3 = cd_for_itr_tx[:,1]\n",
        "# cd_33 = cd_for_itr_tx[:,0]\n",
        "# row=cd_3\n",
        "# col=cd_33\n",
        "# for i, j in zip(row,col):\n",
        "#   Mtx_tx[i-1,j-1] = 1\n",
        "# print(Mtx_tx)"
      ],
      "metadata": {
        "id": "jzhKiWaFKZJG"
      },
      "execution_count": null,
      "outputs": []
    },
    {
      "cell_type": "code",
      "source": [
        "ccdd_cns = cd_cns.to_numpy()\n",
        "cd_for_itr_cns = ccdd_cns[:,1:]\n",
        "# cd_for_itr_tx"
      ],
      "metadata": {
        "id": "GqX0Pk4vprXZ"
      },
      "execution_count": null,
      "outputs": []
    },
    {
      "cell_type": "code",
      "source": [
        "Mtx_cns= np.zeros((6,67)) # 부문통합을 위한 코드가 많을 경우 상기의 코드를 수작업으로 미리 하는 것이 쉽자 않으므로 반복문을 통해 3x33 임시코드 만들기\n",
        "cd_3 = cd_for_itr_cns[:,1]\n",
        "cd_33 = cd_for_itr_cns[:,0]\n",
        "row=cd_3\n",
        "col=cd_33\n",
        "for i, j in zip(row,col):\n",
        "  Mtx_cns[i-1,j-1] = 1\n",
        "print(Mtx_cns)"
      ],
      "metadata": {
        "id": "J3tdCNxcprdM"
      },
      "execution_count": null,
      "outputs": []
    },
    {
      "cell_type": "code",
      "source": [
        "# code_tx = Mtx_tx\n",
        "code_cns = Mtx_cns\n",
        "code_cns.shape"
      ],
      "metadata": {
        "id": "PraMpI0AKZL1"
      },
      "execution_count": null,
      "outputs": []
    },
    {
      "cell_type": "code",
      "source": [
        "nae_tx = code_cns@icio_2[3195:3262,0:3195]@code.T # 세금 행을 6부문으로 만들기\n",
        "nae_tx"
      ],
      "metadata": {
        "id": "5c-zt7MIK-xv"
      },
      "execution_count": null,
      "outputs": []
    },
    {
      "cell_type": "code",
      "source": [
        "va_row = icio_2[3262:,0:3195]@code.T # 중투합, 피용자보수, 영업잉여, 고정자본소모, 기타생산세, 부가가치계, 산출액(7X3)\n",
        "va_row"
      ],
      "metadata": {
        "id": "qztNjQCtK-0Y"
      },
      "execution_count": null,
      "outputs": []
    },
    {
      "cell_type": "code",
      "source": [
        "url_cdfd = \"https://raw.githubusercontent.com/Tom-Jung/legendary-funicular/main/cd_fd.csv\"  #코드매치 파일 불러오기\n",
        "cd_fd = pd.read_csv(url_cdfd)\n",
        "cd_fd.head()"
      ],
      "metadata": {
        "id": "TveEEi60VWLR"
      },
      "execution_count": null,
      "outputs": []
    },
    {
      "cell_type": "code",
      "source": [
        "ccdd_fd = cd_fd.to_numpy()\n",
        "cd_for_itr_fd = ccdd_fd[:,1:]\n",
        "cd_for_itr_fd.shape"
      ],
      "metadata": {
        "id": "lyL9UFZoVmBn"
      },
      "execution_count": null,
      "outputs": []
    },
    {
      "cell_type": "code",
      "source": [
        "Mtx_fd= np.zeros((18,402)) # 부문통합을 위한 코드가 많을 경우 상기의 코드를 수작업으로 미리 하는 것이 쉽자 않으므로 반복문을 통해 3x33 임시코드 만들기\n",
        "cd_3 = cd_for_itr_fd[:,1]\n",
        "cd_33 = cd_for_itr_fd[:,0]\n",
        "row=cd_3\n",
        "col=cd_33\n",
        "for i, j in zip(row,col):\n",
        "  Mtx_fd[i-1,j-1] = 1\n",
        "print(Mtx_fd)"
      ],
      "metadata": {
        "id": "-DfyrxNAVmEF"
      },
      "execution_count": null,
      "outputs": []
    },
    {
      "cell_type": "code",
      "source": [
        "code_fd = Mtx_fd\n",
        "code_fd.shape"
      ],
      "metadata": {
        "id": "DCfHIGyDVmGS"
      },
      "execution_count": null,
      "outputs": []
    },
    {
      "cell_type": "code",
      "source": [
        "fd = code@icio_2[0:3195,3195:3597]@code_fd.T # 최종수요를 6부문으로 만들기\n",
        "fd.shape"
      ],
      "metadata": {
        "id": "Q0YhpDKhVmIY"
      },
      "execution_count": null,
      "outputs": []
    },
    {
      "cell_type": "code",
      "source": [
        "fd_tx = code_cns@icio_2[3195:3262,3195:3597]@code_fd.T\n",
        "fd_tx.shape"
      ],
      "metadata": {
        "id": "NJdAdoVPtVq4"
      },
      "execution_count": null,
      "outputs": []
    },
    {
      "cell_type": "code",
      "source": [
        "fd_row=np.concatenate((fd,fd_tx, np.zeros((2,18))))\n",
        "fd_row.shape"
      ],
      "metadata": {
        "id": "LWL1uNCO_A95"
      },
      "execution_count": null,
      "outputs": []
    },
    {
      "cell_type": "code",
      "source": [
        "icio_row = np.concatenate((nae_tot_col,nae_tx, va_row))\n",
        "icio_row.shape"
      ],
      "metadata": {
        "id": "ydBppFx_VmKX"
      },
      "execution_count": null,
      "outputs": []
    },
    {
      "cell_type": "code",
      "source": [
        "icio_col = np.concatenate((icio_row, fd_row), axis=1)"
      ],
      "metadata": {
        "id": "9AmJvsmzVmMM"
      },
      "execution_count": null,
      "outputs": []
    },
    {
      "cell_type": "code",
      "source": [
        "icio_col_sm = icio_col.sum(axis=1).reshape([26,1]) # 충수요계(산출액과 동일)"
      ],
      "metadata": {
        "id": "8e_Mqf7KVmOa"
      },
      "execution_count": null,
      "outputs": []
    },
    {
      "cell_type": "code",
      "source": [
        "icio_f = np.concatenate((icio_col, icio_col_sm), axis=1).astype(float)"
      ],
      "metadata": {
        "id": "Ic43tRaAVmQd"
      },
      "execution_count": null,
      "outputs": []
    },
    {
      "cell_type": "code",
      "source": [
        "ICIO_df = pd.DataFrame(icio_f, columns = [['KOR', 'KOR', 'KOR', 'CHN', 'CHN', 'CHN', 'USA', 'USA', 'USA', 'JPN', 'JPN','JPN',\n",
        "                                             'EU', 'EU', 'EU', 'ROW', 'ROW', 'ROW',\n",
        "                                            'KOR', 'KOR', 'KOR', 'CHN', 'CHN', 'CHN', 'USA', 'USA', 'USA', 'JPN', 'JPN','JPN',\n",
        "                                             'EU', 'EU', 'EU', 'ROW', 'ROW', 'ROW', 'Total'],\n",
        "\n",
        "                                      ['Agr', 'Manu', 'Serv', 'Agr', 'Manu', 'Serv','Agr', 'Manu', 'Serv', 'Agr', 'Manu', 'Serv','Agr', 'Manu', 'Serv','Agr', 'Manu', 'Serv',\n",
        "                                        'Cons', 'Inv','Exp','Cons', 'Inv','Exp','Cons', 'Inv','Exp','Cons', 'Inv','Exp','Cons', 'Inv','Exp','Cons', 'Inv','Exp','Tot']],\n",
        "\n",
        "                                    index=[['KOR', 'KOR', 'KOR', 'CHN', 'CHN', 'CHN', 'USA', 'USA', 'USA', 'JPN', 'JPN','JPN',\n",
        "                                             'EU', 'EU', 'EU', 'ROW', 'ROW', 'ROW','Tax_KOR','Tax_CHN','Tax_USA','Tax_JPN','Tax_EU','Tax_ROW','VA','CT'],\n",
        "                                           ['Agr', 'Manu', 'Serv', 'Agr', 'Manu', 'Serv','Agr', 'Manu', 'Serv', 'Agr', 'Manu', 'Serv',\n",
        "                                            'Agr', 'Manu', 'Serv','Agr', 'Manu', 'Serv','Tax_KOR','Tax_CHN','Tax_USA','Tax_JPN','Tax_EU','Tax_ROW','VA','Output']])\n",
        "ICIO_df.index.names=['Country', 'Secs']"
      ],
      "metadata": {
        "id": "rtItKkheBmQm"
      },
      "execution_count": null,
      "outputs": []
    },
    {
      "cell_type": "code",
      "source": [
        "ICIO_df.to_csv('ICIO_6cons_3secs.csv')"
      ],
      "metadata": {
        "id": "3Rq2EJgr1YSW"
      },
      "execution_count": null,
      "outputs": []
    },
    {
      "cell_type": "code",
      "source": [
        "ICIO_df_show = pd.DataFrame(icio_f.round(1), columns = [['KOR', 'KOR', 'KOR', 'CHN', 'CHN', 'CHN', 'USA', 'USA', 'USA', 'JPN', 'JPN','JPN',\n",
        "                                             'EU', 'EU', 'EU', 'ROW', 'ROW', 'ROW',\n",
        "                                            'KOR', 'KOR', 'KOR', 'CHN', 'CHN', 'CHN', 'USA', 'USA', 'USA', 'JPN', 'JPN','JPN',\n",
        "                                             'EU', 'EU', 'EU', 'ROW', 'ROW', 'ROW', 'Total'],\n",
        "\n",
        "                                      ['Agr', 'Manu', 'Serv', 'Agr', 'Manu', 'Serv','Agr', 'Manu', 'Serv', 'Agr', 'Manu', 'Serv','Agr', 'Manu', 'Serv','Agr', 'Manu', 'Serv',\n",
        "                                        'Cons', 'Inv','Exp','Cons', 'Inv','Exp','Cons', 'Inv','Exp','Cons', 'Inv','Exp','Cons', 'Inv','Exp','Cons', 'Inv','Exp','Tot']],\n",
        "\n",
        "                                    index=[['KOR', 'KOR', 'KOR', 'CHN', 'CHN', 'CHN', 'USA', 'USA', 'USA', 'JPN', 'JPN','JPN',\n",
        "                                             'EU', 'EU', 'EU', 'ROW', 'ROW', 'ROW','Tax_KOR','Tax_CHN','Tax_USA','Tax_JPN','Tax_EU','Tax_ROW','VA','CT'],\n",
        "                                           ['Agr', 'Manu', 'Serv', 'Agr', 'Manu', 'Serv','Agr', 'Manu', 'Serv', 'Agr', 'Manu', 'Serv',\n",
        "                                            'Agr', 'Manu', 'Serv','Agr', 'Manu', 'Serv','Tax_KOR','Tax_CHN','Tax_USA','Tax_JPN','Tax_EU','Tax_ROW','VA','Output']])\n",
        "ICIO_df.index.names=['Country', 'Secs']"
      ],
      "metadata": {
        "id": "KTuvCzjHWf4s"
      },
      "execution_count": null,
      "outputs": []
    },
    {
      "cell_type": "code",
      "source": [
        "ICIO_df_show"
      ],
      "metadata": {
        "id": "MkTMOiEJF1XB"
      },
      "execution_count": null,
      "outputs": []
    },
    {
      "cell_type": "code",
      "source": [],
      "metadata": {
        "id": "BdNvKl_JdRX0"
      },
      "execution_count": null,
      "outputs": []
    }
  ]
}