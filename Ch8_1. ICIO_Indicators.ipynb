{
  "nbformat": 4,
  "nbformat_minor": 0,
  "metadata": {
    "colab": {
      "provenance": [],
      "mount_file_id": "https://github.com/Tom-Jung/legendary-funicular/blob/main/IO_tables.ipynb",
      "authorship_tag": "ABX9TyMl/n1YJxGEe61BiWUysOiA",
      "include_colab_link": true
    },
    "kernelspec": {
      "name": "python3",
      "display_name": "Python 3"
    },
    "language_info": {
      "name": "python"
    }
  },
  "cells": [
    {
      "cell_type": "markdown",
      "metadata": {
        "id": "view-in-github",
        "colab_type": "text"
      },
      "source": [
        "<a href=\"https://colab.research.google.com/github/Tom-Jung/legendary-funicular/blob/main/Ch8_1.%20ICIO_Indicators.ipynb\" target=\"_parent\"><img src=\"https://colab.research.google.com/assets/colab-badge.svg\" alt=\"Open In Colab\"/></a>"
      ]
    },
    {
      "cell_type": "code",
      "source": [
        "import numpy as np   # Numpy import\n",
        "import pandas as pd  # Pandas import"
      ],
      "metadata": {
        "id": "TR7JvW8CxBFT"
      },
      "execution_count": 29,
      "outputs": []
    },
    {
      "cell_type": "code",
      "source": [
        "\n",
        "np.set_printoptions(precision=3,suppress=True) # 결과를 소수 3자리까지만 보여주는 옵션"
      ],
      "metadata": {
        "id": "2l9tk4XA4Nkc"
      },
      "execution_count": 30,
      "outputs": []
    },
    {
      "cell_type": "code",
      "source": [
        "# from google.colab import drive\n",
        "# drive.mount('/content/drive')"
      ],
      "metadata": {
        "id": "UUugbbcO-CMK"
      },
      "execution_count": 31,
      "outputs": []
    },
    {
      "cell_type": "code",
      "source": [
        "# icio =pd.read_csv('/content/drive/MyDrive/ICIO/ICIO2021_2018.csv')"
      ],
      "metadata": {
        "id": "dH4scTnJ9Wll"
      },
      "execution_count": 32,
      "outputs": []
    },
    {
      "cell_type": "code",
      "source": [
        "url_icio = \"https://raw.githubusercontent.com/Tom-Jung/legendary-funicular/main/ICIO_3cons_3secs_2020_Bn.csv\"  # 3국 9부문 2020년 ICIO 불러오기\n",
        "icio = pd.read_csv(url_icio)\n",
        "icio.head()"
      ],
      "metadata": {
        "id": "1tuN2LradEW4",
        "colab": {
          "base_uri": "https://localhost:8080/",
          "height": 235
        },
        "outputId": "0840d7d9-f054-4857-deb5-ca24e1b47fd1"
      },
      "execution_count": 33,
      "outputs": [
        {
          "output_type": "execute_result",
          "data": {
            "text/plain": [
              "   country  sectors  KOR KOR.1 KOR.2   CHN  CHN.1 CHN.2  ROW ROW.1  ... KOR.3  \\\n",
              "0  country  sectors  Agr  Manu  Serv   Agr   Manu  Serv  Agr  Manu  ...  Cons   \n",
              "1      KOR      Agr   26   257    92     0      0     0    1     3  ...   132   \n",
              "2      KOR     Manu  108  5097  2501    36    944   254   58  1233  ...  1243   \n",
              "3      KOR     Serv   83  2479  5590     8    124    80    9   174  ...  5336   \n",
              "4      CHN      Agr    0     4     1  4818  10087  1305   21    66  ...     2   \n",
              "\n",
              "  KOR.4 KOR.5 CHN.3 CHN.4 CHN.5 ROW.3 ROW.4 ROW.5  Total  \n",
              "0   Inv   Exp  Cons   Inv   Exp  Cons   Inv   Exp  Total  \n",
              "1     4     0     0     0     0     2     0     0    518  \n",
              "2  1027     0    86   209     0   613   668     0  14687  \n",
              "3  6256     0    23    51     0   157   129     0  20844  \n",
              "4     0     0  4934  1228     0    70     6     0  22557  \n",
              "\n",
              "[5 rows x 21 columns]"
            ],
            "text/html": [
              "\n",
              "  <div id=\"df-37ef22c7-9376-4511-9cf7-9e648473241d\" class=\"colab-df-container\">\n",
              "    <div>\n",
              "<style scoped>\n",
              "    .dataframe tbody tr th:only-of-type {\n",
              "        vertical-align: middle;\n",
              "    }\n",
              "\n",
              "    .dataframe tbody tr th {\n",
              "        vertical-align: top;\n",
              "    }\n",
              "\n",
              "    .dataframe thead th {\n",
              "        text-align: right;\n",
              "    }\n",
              "</style>\n",
              "<table border=\"1\" class=\"dataframe\">\n",
              "  <thead>\n",
              "    <tr style=\"text-align: right;\">\n",
              "      <th></th>\n",
              "      <th>country</th>\n",
              "      <th>sectors</th>\n",
              "      <th>KOR</th>\n",
              "      <th>KOR.1</th>\n",
              "      <th>KOR.2</th>\n",
              "      <th>CHN</th>\n",
              "      <th>CHN.1</th>\n",
              "      <th>CHN.2</th>\n",
              "      <th>ROW</th>\n",
              "      <th>ROW.1</th>\n",
              "      <th>...</th>\n",
              "      <th>KOR.3</th>\n",
              "      <th>KOR.4</th>\n",
              "      <th>KOR.5</th>\n",
              "      <th>CHN.3</th>\n",
              "      <th>CHN.4</th>\n",
              "      <th>CHN.5</th>\n",
              "      <th>ROW.3</th>\n",
              "      <th>ROW.4</th>\n",
              "      <th>ROW.5</th>\n",
              "      <th>Total</th>\n",
              "    </tr>\n",
              "  </thead>\n",
              "  <tbody>\n",
              "    <tr>\n",
              "      <th>0</th>\n",
              "      <td>country</td>\n",
              "      <td>sectors</td>\n",
              "      <td>Agr</td>\n",
              "      <td>Manu</td>\n",
              "      <td>Serv</td>\n",
              "      <td>Agr</td>\n",
              "      <td>Manu</td>\n",
              "      <td>Serv</td>\n",
              "      <td>Agr</td>\n",
              "      <td>Manu</td>\n",
              "      <td>...</td>\n",
              "      <td>Cons</td>\n",
              "      <td>Inv</td>\n",
              "      <td>Exp</td>\n",
              "      <td>Cons</td>\n",
              "      <td>Inv</td>\n",
              "      <td>Exp</td>\n",
              "      <td>Cons</td>\n",
              "      <td>Inv</td>\n",
              "      <td>Exp</td>\n",
              "      <td>Total</td>\n",
              "    </tr>\n",
              "    <tr>\n",
              "      <th>1</th>\n",
              "      <td>KOR</td>\n",
              "      <td>Agr</td>\n",
              "      <td>26</td>\n",
              "      <td>257</td>\n",
              "      <td>92</td>\n",
              "      <td>0</td>\n",
              "      <td>0</td>\n",
              "      <td>0</td>\n",
              "      <td>1</td>\n",
              "      <td>3</td>\n",
              "      <td>...</td>\n",
              "      <td>132</td>\n",
              "      <td>4</td>\n",
              "      <td>0</td>\n",
              "      <td>0</td>\n",
              "      <td>0</td>\n",
              "      <td>0</td>\n",
              "      <td>2</td>\n",
              "      <td>0</td>\n",
              "      <td>0</td>\n",
              "      <td>518</td>\n",
              "    </tr>\n",
              "    <tr>\n",
              "      <th>2</th>\n",
              "      <td>KOR</td>\n",
              "      <td>Manu</td>\n",
              "      <td>108</td>\n",
              "      <td>5097</td>\n",
              "      <td>2501</td>\n",
              "      <td>36</td>\n",
              "      <td>944</td>\n",
              "      <td>254</td>\n",
              "      <td>58</td>\n",
              "      <td>1233</td>\n",
              "      <td>...</td>\n",
              "      <td>1243</td>\n",
              "      <td>1027</td>\n",
              "      <td>0</td>\n",
              "      <td>86</td>\n",
              "      <td>209</td>\n",
              "      <td>0</td>\n",
              "      <td>613</td>\n",
              "      <td>668</td>\n",
              "      <td>0</td>\n",
              "      <td>14687</td>\n",
              "    </tr>\n",
              "    <tr>\n",
              "      <th>3</th>\n",
              "      <td>KOR</td>\n",
              "      <td>Serv</td>\n",
              "      <td>83</td>\n",
              "      <td>2479</td>\n",
              "      <td>5590</td>\n",
              "      <td>8</td>\n",
              "      <td>124</td>\n",
              "      <td>80</td>\n",
              "      <td>9</td>\n",
              "      <td>174</td>\n",
              "      <td>...</td>\n",
              "      <td>5336</td>\n",
              "      <td>6256</td>\n",
              "      <td>0</td>\n",
              "      <td>23</td>\n",
              "      <td>51</td>\n",
              "      <td>0</td>\n",
              "      <td>157</td>\n",
              "      <td>129</td>\n",
              "      <td>0</td>\n",
              "      <td>20844</td>\n",
              "    </tr>\n",
              "    <tr>\n",
              "      <th>4</th>\n",
              "      <td>CHN</td>\n",
              "      <td>Agr</td>\n",
              "      <td>0</td>\n",
              "      <td>4</td>\n",
              "      <td>1</td>\n",
              "      <td>4818</td>\n",
              "      <td>10087</td>\n",
              "      <td>1305</td>\n",
              "      <td>21</td>\n",
              "      <td>66</td>\n",
              "      <td>...</td>\n",
              "      <td>2</td>\n",
              "      <td>0</td>\n",
              "      <td>0</td>\n",
              "      <td>4934</td>\n",
              "      <td>1228</td>\n",
              "      <td>0</td>\n",
              "      <td>70</td>\n",
              "      <td>6</td>\n",
              "      <td>0</td>\n",
              "      <td>22557</td>\n",
              "    </tr>\n",
              "  </tbody>\n",
              "</table>\n",
              "<p>5 rows × 21 columns</p>\n",
              "</div>\n",
              "    <div class=\"colab-df-buttons\">\n",
              "\n",
              "  <div class=\"colab-df-container\">\n",
              "    <button class=\"colab-df-convert\" onclick=\"convertToInteractive('df-37ef22c7-9376-4511-9cf7-9e648473241d')\"\n",
              "            title=\"Convert this dataframe to an interactive table.\"\n",
              "            style=\"display:none;\">\n",
              "\n",
              "  <svg xmlns=\"http://www.w3.org/2000/svg\" height=\"24px\" viewBox=\"0 -960 960 960\">\n",
              "    <path d=\"M120-120v-720h720v720H120Zm60-500h600v-160H180v160Zm220 220h160v-160H400v160Zm0 220h160v-160H400v160ZM180-400h160v-160H180v160Zm440 0h160v-160H620v160ZM180-180h160v-160H180v160Zm440 0h160v-160H620v160Z\"/>\n",
              "  </svg>\n",
              "    </button>\n",
              "\n",
              "  <style>\n",
              "    .colab-df-container {\n",
              "      display:flex;\n",
              "      gap: 12px;\n",
              "    }\n",
              "\n",
              "    .colab-df-convert {\n",
              "      background-color: #E8F0FE;\n",
              "      border: none;\n",
              "      border-radius: 50%;\n",
              "      cursor: pointer;\n",
              "      display: none;\n",
              "      fill: #1967D2;\n",
              "      height: 32px;\n",
              "      padding: 0 0 0 0;\n",
              "      width: 32px;\n",
              "    }\n",
              "\n",
              "    .colab-df-convert:hover {\n",
              "      background-color: #E2EBFA;\n",
              "      box-shadow: 0px 1px 2px rgba(60, 64, 67, 0.3), 0px 1px 3px 1px rgba(60, 64, 67, 0.15);\n",
              "      fill: #174EA6;\n",
              "    }\n",
              "\n",
              "    .colab-df-buttons div {\n",
              "      margin-bottom: 4px;\n",
              "    }\n",
              "\n",
              "    [theme=dark] .colab-df-convert {\n",
              "      background-color: #3B4455;\n",
              "      fill: #D2E3FC;\n",
              "    }\n",
              "\n",
              "    [theme=dark] .colab-df-convert:hover {\n",
              "      background-color: #434B5C;\n",
              "      box-shadow: 0px 1px 3px 1px rgba(0, 0, 0, 0.15);\n",
              "      filter: drop-shadow(0px 1px 2px rgba(0, 0, 0, 0.3));\n",
              "      fill: #FFFFFF;\n",
              "    }\n",
              "  </style>\n",
              "\n",
              "    <script>\n",
              "      const buttonEl =\n",
              "        document.querySelector('#df-37ef22c7-9376-4511-9cf7-9e648473241d button.colab-df-convert');\n",
              "      buttonEl.style.display =\n",
              "        google.colab.kernel.accessAllowed ? 'block' : 'none';\n",
              "\n",
              "      async function convertToInteractive(key) {\n",
              "        const element = document.querySelector('#df-37ef22c7-9376-4511-9cf7-9e648473241d');\n",
              "        const dataTable =\n",
              "          await google.colab.kernel.invokeFunction('convertToInteractive',\n",
              "                                                    [key], {});\n",
              "        if (!dataTable) return;\n",
              "\n",
              "        const docLinkHtml = 'Like what you see? Visit the ' +\n",
              "          '<a target=\"_blank\" href=https://colab.research.google.com/notebooks/data_table.ipynb>data table notebook</a>'\n",
              "          + ' to learn more about interactive tables.';\n",
              "        element.innerHTML = '';\n",
              "        dataTable['output_type'] = 'display_data';\n",
              "        await google.colab.output.renderOutput(dataTable, element);\n",
              "        const docLink = document.createElement('div');\n",
              "        docLink.innerHTML = docLinkHtml;\n",
              "        element.appendChild(docLink);\n",
              "      }\n",
              "    </script>\n",
              "  </div>\n",
              "\n",
              "\n",
              "<div id=\"df-748d31db-7547-4306-836d-63fb6de704ca\">\n",
              "  <button class=\"colab-df-quickchart\" onclick=\"quickchart('df-748d31db-7547-4306-836d-63fb6de704ca')\"\n",
              "            title=\"Suggest charts.\"\n",
              "            style=\"display:none;\">\n",
              "\n",
              "<svg xmlns=\"http://www.w3.org/2000/svg\" height=\"24px\"viewBox=\"0 0 24 24\"\n",
              "     width=\"24px\">\n",
              "    <g>\n",
              "        <path d=\"M19 3H5c-1.1 0-2 .9-2 2v14c0 1.1.9 2 2 2h14c1.1 0 2-.9 2-2V5c0-1.1-.9-2-2-2zM9 17H7v-7h2v7zm4 0h-2V7h2v10zm4 0h-2v-4h2v4z\"/>\n",
              "    </g>\n",
              "</svg>\n",
              "  </button>\n",
              "\n",
              "<style>\n",
              "  .colab-df-quickchart {\n",
              "    background-color: #E8F0FE;\n",
              "    border: none;\n",
              "    border-radius: 50%;\n",
              "    cursor: pointer;\n",
              "    display: none;\n",
              "    fill: #1967D2;\n",
              "    height: 32px;\n",
              "    padding: 0 0 0 0;\n",
              "    width: 32px;\n",
              "  }\n",
              "\n",
              "  .colab-df-quickchart:hover {\n",
              "    background-color: #E2EBFA;\n",
              "    box-shadow: 0px 1px 2px rgba(60, 64, 67, 0.3), 0px 1px 3px 1px rgba(60, 64, 67, 0.15);\n",
              "    fill: #174EA6;\n",
              "  }\n",
              "\n",
              "  [theme=dark] .colab-df-quickchart {\n",
              "    background-color: #3B4455;\n",
              "    fill: #D2E3FC;\n",
              "  }\n",
              "\n",
              "  [theme=dark] .colab-df-quickchart:hover {\n",
              "    background-color: #434B5C;\n",
              "    box-shadow: 0px 1px 3px 1px rgba(0, 0, 0, 0.15);\n",
              "    filter: drop-shadow(0px 1px 2px rgba(0, 0, 0, 0.3));\n",
              "    fill: #FFFFFF;\n",
              "  }\n",
              "</style>\n",
              "\n",
              "  <script>\n",
              "    async function quickchart(key) {\n",
              "      const charts = await google.colab.kernel.invokeFunction(\n",
              "          'suggestCharts', [key], {});\n",
              "    }\n",
              "    (() => {\n",
              "      let quickchartButtonEl =\n",
              "        document.querySelector('#df-748d31db-7547-4306-836d-63fb6de704ca button');\n",
              "      quickchartButtonEl.style.display =\n",
              "        google.colab.kernel.accessAllowed ? 'block' : 'none';\n",
              "    })();\n",
              "  </script>\n",
              "</div>\n",
              "    </div>\n",
              "  </div>\n"
            ]
          },
          "metadata": {},
          "execution_count": 33
        }
      ]
    },
    {
      "cell_type": "code",
      "source": [
        "icio_1 = icio.to_numpy()\n",
        "icio_2=icio_1[1:,2:].astype(float)\n",
        "icio_2"
      ],
      "metadata": {
        "id": "DhBtrP5M9vRR",
        "colab": {
          "base_uri": "https://localhost:8080/"
        },
        "outputId": "74ef0aba-2346-417e-ac48-49e50a643379"
      },
      "execution_count": 34,
      "outputs": [
        {
          "output_type": "execute_result",
          "data": {
            "text/plain": [
              "array([[    26.,    257.,     92.,      0.,      0.,      0.,      1.,\n",
              "             3.,      1.,    132.,      4.,      0.,      0.,      0.,\n",
              "             0.,      2.,      0.,      0.,    518.],\n",
              "       [   108.,   5097.,   2501.,     36.,    944.,    254.,     58.,\n",
              "          1233.,    610.,   1243.,   1027.,      0.,     86.,    209.,\n",
              "             0.,    613.,    668.,      0.,  14687.],\n",
              "       [    83.,   2479.,   5590.,      8.,    124.,     80.,      9.,\n",
              "           174.,    345.,   5336.,   6256.,      0.,     23.,     51.,\n",
              "             0.,    157.,    129.,      0.,  20844.],\n",
              "       [     0.,      4.,      1.,   4818.,  10087.,   1305.,     21.,\n",
              "            66.,     15.,      2.,      0.,      0.,   4934.,   1228.,\n",
              "             0.,     70.,      6.,      0.,  22557.],\n",
              "       [     7.,    572.,    210.,   4631.,  82590.,  37261.,    220.,\n",
              "          5832.,   4050.,    125.,    132.,      0.,  17373.,  14459.,\n",
              "             0.,   5413.,   3874.,      0., 176749.],\n",
              "       [     1.,     64.,     95.,   2342.,  26218.,  37602.,     32.,\n",
              "           706.,   1413.,     35.,     33.,      0.,  29721.,  67518.,\n",
              "             0.,   1028.,    603.,      0., 167411.],\n",
              "       [     3.,     32.,     12.,    165.,    342.,     40.,   7612.,\n",
              "         15521.,   3778.,     17.,      1.,      0.,    182.,     37.,\n",
              "             0.,  16775.,   1713.,      0.,  46230.],\n",
              "       [    19.,   1587.,    637.,    294.,   9139.,   2171.,   5835.,\n",
              "        108403.,  69554.,    257.,    251.,      0.,   1171.,   1406.,\n",
              "             0.,  80462.,  44891.,      0., 326077.],\n",
              "       [     9.,    367.,    478.,    141.,   1650.,   1214.,   6680.,\n",
              "         73407., 291537.,    157.,    121.,      0.,   1419.,   1579.,\n",
              "             0., 280236., 233206.,      0., 892201.],\n",
              "       [     6.,    253.,    466.,      0.,      0.,      0.,      0.,\n",
              "             0.,      0.,    305.,    314.,      0.,      0.,      0.,\n",
              "             0.,      0.,      0.,      0.,   1344.],\n",
              "       [     0.,      0.,      0.,    142.,   4509.,   3088.,      0.,\n",
              "             0.,      0.,      0.,      0.,      0.,   2354.,      0.,\n",
              "             0.,      0.,      0.,      0.,  10093.],\n",
              "       [     0.,      0.,      0.,      0.,      0.,      0.,    526.,\n",
              "          7931.,  12899.,      0.,      0.,      0.,     82.,     27.,\n",
              "             0.,  19629.,   4933.,      0.,  46027.],\n",
              "       [   256.,   3975.,  10762.,   9980.,  41146.,  84396.,  25236.,\n",
              "        112801., 507999.,      0.,      0.,      0.,      0.,      0.,\n",
              "             0.,      0.,      0.,      0.,      0.],\n",
              "       [   518.,  14687.,  20844.,  22557., 176749., 167411.,  46230.,\n",
              "        326077., 892201.,      0.,      0.,      0.,      0.,      0.,\n",
              "             0.,      0.,      0.,      0.,      0.]])"
            ]
          },
          "metadata": {},
          "execution_count": 34
        }
      ]
    },
    {
      "cell_type": "markdown",
      "source": [
        "### 한국 1, 중국2, 미국3, 일본4, EU5(Slovakia는 ICIO에 없음..총 26개국),ROW6"
      ],
      "metadata": {
        "id": "AvyOqU89gls6"
      }
    },
    {
      "cell_type": "markdown",
      "source": [
        "## TiVa indicators guide"
      ],
      "metadata": {
        "id": "-ufC9ldR9AHP"
      }
    },
    {
      "cell_type": "markdown",
      "source": [
        "[TiVA2022_Indicators_Guide](TiVA2022_Indicators_Guide.pdf)"
      ],
      "metadata": {
        "id": "JdRj6TVn_pDF"
      }
    },
    {
      "cell_type": "code",
      "source": [
        "PROD = icio_2[-1,:9].astype(float) # 산출액\n",
        "VALU = icio_2[-2, 0:9].astype(float) # 부가가치\n",
        "PROD_VASH = VALU/PROD\n",
        "PROD_VASH"
      ],
      "metadata": {
        "id": "yXmH7e7troAC",
        "outputId": "129aa9f0-f98b-44a4-c341-8e2ff3c03005",
        "colab": {
          "base_uri": "https://localhost:8080/"
        }
      },
      "execution_count": 35,
      "outputs": [
        {
          "output_type": "execute_result",
          "data": {
            "text/plain": [
              "array([0.494, 0.271, 0.516, 0.442, 0.233, 0.504, 0.546, 0.346, 0.569])"
            ]
          },
          "metadata": {},
          "execution_count": 35
        }
      ]
    },
    {
      "cell_type": "code",
      "source": [
        "import scipy.linalg as linalg"
      ],
      "metadata": {
        "id": "TUvDa4AyNgrR"
      },
      "execution_count": 36,
      "outputs": []
    },
    {
      "cell_type": "code",
      "source": [
        "A = icio_2[:9,:9].astype(float)\n",
        "A"
      ],
      "metadata": {
        "id": "05IaLCi3PXVU",
        "outputId": "9b1a8dd7-fa85-4ccd-ff2c-9253bf8e2616",
        "colab": {
          "base_uri": "https://localhost:8080/"
        }
      },
      "execution_count": 37,
      "outputs": [
        {
          "output_type": "execute_result",
          "data": {
            "text/plain": [
              "array([[    26.,    257.,     92.,      0.,      0.,      0.,      1.,\n",
              "             3.,      1.],\n",
              "       [   108.,   5097.,   2501.,     36.,    944.,    254.,     58.,\n",
              "          1233.,    610.],\n",
              "       [    83.,   2479.,   5590.,      8.,    124.,     80.,      9.,\n",
              "           174.,    345.],\n",
              "       [     0.,      4.,      1.,   4818.,  10087.,   1305.,     21.,\n",
              "            66.,     15.],\n",
              "       [     7.,    572.,    210.,   4631.,  82590.,  37261.,    220.,\n",
              "          5832.,   4050.],\n",
              "       [     1.,     64.,     95.,   2342.,  26218.,  37602.,     32.,\n",
              "           706.,   1413.],\n",
              "       [     3.,     32.,     12.,    165.,    342.,     40.,   7612.,\n",
              "         15521.,   3778.],\n",
              "       [    19.,   1587.,    637.,    294.,   9139.,   2171.,   5835.,\n",
              "        108403.,  69554.],\n",
              "       [     9.,    367.,    478.,    141.,   1650.,   1214.,   6680.,\n",
              "         73407., 291537.]])"
            ]
          },
          "metadata": {},
          "execution_count": 37
        }
      ]
    },
    {
      "cell_type": "code",
      "source": [
        "FD = icio_2[0:9,9:18]\n",
        "FD"
      ],
      "metadata": {
        "id": "4OsGzqPIQ5i6",
        "outputId": "c09506e8-9d86-40e1-ee28-703050543cc2",
        "colab": {
          "base_uri": "https://localhost:8080/"
        }
      },
      "execution_count": 38,
      "outputs": [
        {
          "output_type": "execute_result",
          "data": {
            "text/plain": [
              "array([[   132.,      4.,      0.,      0.,      0.,      0.,      2.,\n",
              "             0.,      0.],\n",
              "       [  1243.,   1027.,      0.,     86.,    209.,      0.,    613.,\n",
              "           668.,      0.],\n",
              "       [  5336.,   6256.,      0.,     23.,     51.,      0.,    157.,\n",
              "           129.,      0.],\n",
              "       [     2.,      0.,      0.,   4934.,   1228.,      0.,     70.,\n",
              "             6.,      0.],\n",
              "       [   125.,    132.,      0.,  17373.,  14459.,      0.,   5413.,\n",
              "          3874.,      0.],\n",
              "       [    35.,     33.,      0.,  29721.,  67518.,      0.,   1028.,\n",
              "           603.,      0.],\n",
              "       [    17.,      1.,      0.,    182.,     37.,      0.,  16775.,\n",
              "          1713.,      0.],\n",
              "       [   257.,    251.,      0.,   1171.,   1406.,      0.,  80462.,\n",
              "         44891.,      0.],\n",
              "       [   157.,    121.,      0.,   1419.,   1579.,      0., 280236.,\n",
              "        233206.,      0.]])"
            ]
          },
          "metadata": {},
          "execution_count": 38
        }
      ]
    },
    {
      "cell_type": "code",
      "source": [
        "mtx_for_int= linalg.block_diag(np.ones((3,3)),np.ones((3,3)),np.ones((3,3)))\n",
        "mtx_for_tra=np.where(mtx_for_int == 1, 0, 1)\n",
        "\n",
        "INT = icio_2[0:9,0:9].astype(float)\n",
        "\n",
        "EXIM_INT_mt = (INT*mtx_for_tra).reshape([9,9])  # 중간재 수출입\n",
        "# EXGR_INT = EXGR_INT_mt.sum(axis=1).reshape([9,1])\n",
        "\n",
        "FD = icio_2[0:9,9:18].astype(float)\n",
        "\n",
        "EXIM_FNL_mt = (FD*mtx_for_tra).reshape([9,9])  # 최종재 수출입\n",
        "# EXGR_FNL = EXGR_FNL_mt.sum(axis=1).reshape([9,1])\n",
        "\n",
        "EXIM = EXIM_INT_mt + EXIM_FNL_mt  # 총수출입\n",
        "\n",
        "# Ex_all = np.concatenate((EXGR, EXGR_INT, EXGR_FNL),axis=1)\n",
        "\n",
        "\n",
        "EXIM_INT_df = pd.DataFrame(EXIM_INT_mt, columns = [['한국','한국', '한국','중국','중국','중국','ROW','ROW','ROW'],\n",
        "                          ['농산품','공산품', '서비스','농산품','공산품', '서비스','농산품','공산품', '서비스']],\n",
        "\n",
        "                         index=[['한국','한국', '한국','중국','중국','중국','ROW','ROW','ROW'],\n",
        "                          ['농산품','공산품', '서비스','농산품','공산품', '서비스','농산품','공산품', '서비스']])\n",
        "\n",
        "EXIM_FNL_df = pd.DataFrame(EXIM_FNL_mt, columns = [['한국','한국', '한국','중국','중국','중국','ROW','ROW','ROW'],\n",
        "                          ['소비','투자', '수출','소비','투자', '수출','소비','투자', '수출']],\n",
        "\n",
        "                         index=[['한국','한국', '한국','중국','중국','중국','ROW','ROW','ROW'],\n",
        "                          ['농산품','공산품', '서비스','농산품','공산품', '서비스','농산품','공산품', '서비스']])\n",
        "EXIM_INT_df\n",
        "\n",
        "# Ex_all_df = pd.DataFrame(Ex_all, columns = ['총수출', '중간재수출', '최종재수출'],\n",
        "#                          index=[['한국','한국', '한국','중국','중국','중국','ROW','ROW','ROW'],\n",
        "#                           ['농산품','공산품', '서비스','농산품','공산품', '서비스','농산품','공산품', '서비스']])\n",
        "# Ex_all_df\n",
        "# print('중간재 수출 : \\n', EXGR_INT, '\\n')\n",
        "# print('최종재 수출 : \\n', EXGR_FNL, '\\n')\n",
        "# print('총수출 : \\n', EXGR, '\\n')"
      ],
      "metadata": {
        "id": "M2e69LcT_59t",
        "outputId": "dc621d2a-bdf4-459c-9de2-3120f18ed576",
        "colab": {
          "base_uri": "https://localhost:8080/",
          "height": 363
        }
      },
      "execution_count": 39,
      "outputs": [
        {
          "output_type": "execute_result",
          "data": {
            "text/plain": [
              "           한국                    중국                    ROW                \n",
              "          농산품     공산품    서비스    농산품     공산품     서비스    농산품     공산품     서비스\n",
              "한국  농산품   0.0     0.0    0.0    0.0     0.0     0.0    1.0     3.0     1.0\n",
              "    공산품   0.0     0.0    0.0   36.0   944.0   254.0   58.0  1233.0   610.0\n",
              "    서비스   0.0     0.0    0.0    8.0   124.0    80.0    9.0   174.0   345.0\n",
              "중국  농산품   0.0     4.0    1.0    0.0     0.0     0.0   21.0    66.0    15.0\n",
              "    공산품   7.0   572.0  210.0    0.0     0.0     0.0  220.0  5832.0  4050.0\n",
              "    서비스   1.0    64.0   95.0    0.0     0.0     0.0   32.0   706.0  1413.0\n",
              "ROW 농산품   3.0    32.0   12.0  165.0   342.0    40.0    0.0     0.0     0.0\n",
              "    공산품  19.0  1587.0  637.0  294.0  9139.0  2171.0    0.0     0.0     0.0\n",
              "    서비스   9.0   367.0  478.0  141.0  1650.0  1214.0    0.0     0.0     0.0"
            ],
            "text/html": [
              "\n",
              "  <div id=\"df-a050cd3c-1360-495b-81fc-740226fc7746\" class=\"colab-df-container\">\n",
              "    <div>\n",
              "<style scoped>\n",
              "    .dataframe tbody tr th:only-of-type {\n",
              "        vertical-align: middle;\n",
              "    }\n",
              "\n",
              "    .dataframe tbody tr th {\n",
              "        vertical-align: top;\n",
              "    }\n",
              "\n",
              "    .dataframe thead tr th {\n",
              "        text-align: left;\n",
              "    }\n",
              "</style>\n",
              "<table border=\"1\" class=\"dataframe\">\n",
              "  <thead>\n",
              "    <tr>\n",
              "      <th></th>\n",
              "      <th></th>\n",
              "      <th colspan=\"3\" halign=\"left\">한국</th>\n",
              "      <th colspan=\"3\" halign=\"left\">중국</th>\n",
              "      <th colspan=\"3\" halign=\"left\">ROW</th>\n",
              "    </tr>\n",
              "    <tr>\n",
              "      <th></th>\n",
              "      <th></th>\n",
              "      <th>농산품</th>\n",
              "      <th>공산품</th>\n",
              "      <th>서비스</th>\n",
              "      <th>농산품</th>\n",
              "      <th>공산품</th>\n",
              "      <th>서비스</th>\n",
              "      <th>농산품</th>\n",
              "      <th>공산품</th>\n",
              "      <th>서비스</th>\n",
              "    </tr>\n",
              "  </thead>\n",
              "  <tbody>\n",
              "    <tr>\n",
              "      <th rowspan=\"3\" valign=\"top\">한국</th>\n",
              "      <th>농산품</th>\n",
              "      <td>0.0</td>\n",
              "      <td>0.0</td>\n",
              "      <td>0.0</td>\n",
              "      <td>0.0</td>\n",
              "      <td>0.0</td>\n",
              "      <td>0.0</td>\n",
              "      <td>1.0</td>\n",
              "      <td>3.0</td>\n",
              "      <td>1.0</td>\n",
              "    </tr>\n",
              "    <tr>\n",
              "      <th>공산품</th>\n",
              "      <td>0.0</td>\n",
              "      <td>0.0</td>\n",
              "      <td>0.0</td>\n",
              "      <td>36.0</td>\n",
              "      <td>944.0</td>\n",
              "      <td>254.0</td>\n",
              "      <td>58.0</td>\n",
              "      <td>1233.0</td>\n",
              "      <td>610.0</td>\n",
              "    </tr>\n",
              "    <tr>\n",
              "      <th>서비스</th>\n",
              "      <td>0.0</td>\n",
              "      <td>0.0</td>\n",
              "      <td>0.0</td>\n",
              "      <td>8.0</td>\n",
              "      <td>124.0</td>\n",
              "      <td>80.0</td>\n",
              "      <td>9.0</td>\n",
              "      <td>174.0</td>\n",
              "      <td>345.0</td>\n",
              "    </tr>\n",
              "    <tr>\n",
              "      <th rowspan=\"3\" valign=\"top\">중국</th>\n",
              "      <th>농산품</th>\n",
              "      <td>0.0</td>\n",
              "      <td>4.0</td>\n",
              "      <td>1.0</td>\n",
              "      <td>0.0</td>\n",
              "      <td>0.0</td>\n",
              "      <td>0.0</td>\n",
              "      <td>21.0</td>\n",
              "      <td>66.0</td>\n",
              "      <td>15.0</td>\n",
              "    </tr>\n",
              "    <tr>\n",
              "      <th>공산품</th>\n",
              "      <td>7.0</td>\n",
              "      <td>572.0</td>\n",
              "      <td>210.0</td>\n",
              "      <td>0.0</td>\n",
              "      <td>0.0</td>\n",
              "      <td>0.0</td>\n",
              "      <td>220.0</td>\n",
              "      <td>5832.0</td>\n",
              "      <td>4050.0</td>\n",
              "    </tr>\n",
              "    <tr>\n",
              "      <th>서비스</th>\n",
              "      <td>1.0</td>\n",
              "      <td>64.0</td>\n",
              "      <td>95.0</td>\n",
              "      <td>0.0</td>\n",
              "      <td>0.0</td>\n",
              "      <td>0.0</td>\n",
              "      <td>32.0</td>\n",
              "      <td>706.0</td>\n",
              "      <td>1413.0</td>\n",
              "    </tr>\n",
              "    <tr>\n",
              "      <th rowspan=\"3\" valign=\"top\">ROW</th>\n",
              "      <th>농산품</th>\n",
              "      <td>3.0</td>\n",
              "      <td>32.0</td>\n",
              "      <td>12.0</td>\n",
              "      <td>165.0</td>\n",
              "      <td>342.0</td>\n",
              "      <td>40.0</td>\n",
              "      <td>0.0</td>\n",
              "      <td>0.0</td>\n",
              "      <td>0.0</td>\n",
              "    </tr>\n",
              "    <tr>\n",
              "      <th>공산품</th>\n",
              "      <td>19.0</td>\n",
              "      <td>1587.0</td>\n",
              "      <td>637.0</td>\n",
              "      <td>294.0</td>\n",
              "      <td>9139.0</td>\n",
              "      <td>2171.0</td>\n",
              "      <td>0.0</td>\n",
              "      <td>0.0</td>\n",
              "      <td>0.0</td>\n",
              "    </tr>\n",
              "    <tr>\n",
              "      <th>서비스</th>\n",
              "      <td>9.0</td>\n",
              "      <td>367.0</td>\n",
              "      <td>478.0</td>\n",
              "      <td>141.0</td>\n",
              "      <td>1650.0</td>\n",
              "      <td>1214.0</td>\n",
              "      <td>0.0</td>\n",
              "      <td>0.0</td>\n",
              "      <td>0.0</td>\n",
              "    </tr>\n",
              "  </tbody>\n",
              "</table>\n",
              "</div>\n",
              "    <div class=\"colab-df-buttons\">\n",
              "\n",
              "  <div class=\"colab-df-container\">\n",
              "    <button class=\"colab-df-convert\" onclick=\"convertToInteractive('df-a050cd3c-1360-495b-81fc-740226fc7746')\"\n",
              "            title=\"Convert this dataframe to an interactive table.\"\n",
              "            style=\"display:none;\">\n",
              "\n",
              "  <svg xmlns=\"http://www.w3.org/2000/svg\" height=\"24px\" viewBox=\"0 -960 960 960\">\n",
              "    <path d=\"M120-120v-720h720v720H120Zm60-500h600v-160H180v160Zm220 220h160v-160H400v160Zm0 220h160v-160H400v160ZM180-400h160v-160H180v160Zm440 0h160v-160H620v160ZM180-180h160v-160H180v160Zm440 0h160v-160H620v160Z\"/>\n",
              "  </svg>\n",
              "    </button>\n",
              "\n",
              "  <style>\n",
              "    .colab-df-container {\n",
              "      display:flex;\n",
              "      gap: 12px;\n",
              "    }\n",
              "\n",
              "    .colab-df-convert {\n",
              "      background-color: #E8F0FE;\n",
              "      border: none;\n",
              "      border-radius: 50%;\n",
              "      cursor: pointer;\n",
              "      display: none;\n",
              "      fill: #1967D2;\n",
              "      height: 32px;\n",
              "      padding: 0 0 0 0;\n",
              "      width: 32px;\n",
              "    }\n",
              "\n",
              "    .colab-df-convert:hover {\n",
              "      background-color: #E2EBFA;\n",
              "      box-shadow: 0px 1px 2px rgba(60, 64, 67, 0.3), 0px 1px 3px 1px rgba(60, 64, 67, 0.15);\n",
              "      fill: #174EA6;\n",
              "    }\n",
              "\n",
              "    .colab-df-buttons div {\n",
              "      margin-bottom: 4px;\n",
              "    }\n",
              "\n",
              "    [theme=dark] .colab-df-convert {\n",
              "      background-color: #3B4455;\n",
              "      fill: #D2E3FC;\n",
              "    }\n",
              "\n",
              "    [theme=dark] .colab-df-convert:hover {\n",
              "      background-color: #434B5C;\n",
              "      box-shadow: 0px 1px 3px 1px rgba(0, 0, 0, 0.15);\n",
              "      filter: drop-shadow(0px 1px 2px rgba(0, 0, 0, 0.3));\n",
              "      fill: #FFFFFF;\n",
              "    }\n",
              "  </style>\n",
              "\n",
              "    <script>\n",
              "      const buttonEl =\n",
              "        document.querySelector('#df-a050cd3c-1360-495b-81fc-740226fc7746 button.colab-df-convert');\n",
              "      buttonEl.style.display =\n",
              "        google.colab.kernel.accessAllowed ? 'block' : 'none';\n",
              "\n",
              "      async function convertToInteractive(key) {\n",
              "        const element = document.querySelector('#df-a050cd3c-1360-495b-81fc-740226fc7746');\n",
              "        const dataTable =\n",
              "          await google.colab.kernel.invokeFunction('convertToInteractive',\n",
              "                                                    [key], {});\n",
              "        if (!dataTable) return;\n",
              "\n",
              "        const docLinkHtml = 'Like what you see? Visit the ' +\n",
              "          '<a target=\"_blank\" href=https://colab.research.google.com/notebooks/data_table.ipynb>data table notebook</a>'\n",
              "          + ' to learn more about interactive tables.';\n",
              "        element.innerHTML = '';\n",
              "        dataTable['output_type'] = 'display_data';\n",
              "        await google.colab.output.renderOutput(dataTable, element);\n",
              "        const docLink = document.createElement('div');\n",
              "        docLink.innerHTML = docLinkHtml;\n",
              "        element.appendChild(docLink);\n",
              "      }\n",
              "    </script>\n",
              "  </div>\n",
              "\n",
              "\n",
              "<div id=\"df-feced790-9cd4-4f63-9552-dca701007147\">\n",
              "  <button class=\"colab-df-quickchart\" onclick=\"quickchart('df-feced790-9cd4-4f63-9552-dca701007147')\"\n",
              "            title=\"Suggest charts.\"\n",
              "            style=\"display:none;\">\n",
              "\n",
              "<svg xmlns=\"http://www.w3.org/2000/svg\" height=\"24px\"viewBox=\"0 0 24 24\"\n",
              "     width=\"24px\">\n",
              "    <g>\n",
              "        <path d=\"M19 3H5c-1.1 0-2 .9-2 2v14c0 1.1.9 2 2 2h14c1.1 0 2-.9 2-2V5c0-1.1-.9-2-2-2zM9 17H7v-7h2v7zm4 0h-2V7h2v10zm4 0h-2v-4h2v4z\"/>\n",
              "    </g>\n",
              "</svg>\n",
              "  </button>\n",
              "\n",
              "<style>\n",
              "  .colab-df-quickchart {\n",
              "    background-color: #E8F0FE;\n",
              "    border: none;\n",
              "    border-radius: 50%;\n",
              "    cursor: pointer;\n",
              "    display: none;\n",
              "    fill: #1967D2;\n",
              "    height: 32px;\n",
              "    padding: 0 0 0 0;\n",
              "    width: 32px;\n",
              "  }\n",
              "\n",
              "  .colab-df-quickchart:hover {\n",
              "    background-color: #E2EBFA;\n",
              "    box-shadow: 0px 1px 2px rgba(60, 64, 67, 0.3), 0px 1px 3px 1px rgba(60, 64, 67, 0.15);\n",
              "    fill: #174EA6;\n",
              "  }\n",
              "\n",
              "  [theme=dark] .colab-df-quickchart {\n",
              "    background-color: #3B4455;\n",
              "    fill: #D2E3FC;\n",
              "  }\n",
              "\n",
              "  [theme=dark] .colab-df-quickchart:hover {\n",
              "    background-color: #434B5C;\n",
              "    box-shadow: 0px 1px 3px 1px rgba(0, 0, 0, 0.15);\n",
              "    filter: drop-shadow(0px 1px 2px rgba(0, 0, 0, 0.3));\n",
              "    fill: #FFFFFF;\n",
              "  }\n",
              "</style>\n",
              "\n",
              "  <script>\n",
              "    async function quickchart(key) {\n",
              "      const charts = await google.colab.kernel.invokeFunction(\n",
              "          'suggestCharts', [key], {});\n",
              "    }\n",
              "    (() => {\n",
              "      let quickchartButtonEl =\n",
              "        document.querySelector('#df-feced790-9cd4-4f63-9552-dca701007147 button');\n",
              "      quickchartButtonEl.style.display =\n",
              "        google.colab.kernel.accessAllowed ? 'block' : 'none';\n",
              "    })();\n",
              "  </script>\n",
              "</div>\n",
              "    </div>\n",
              "  </div>\n"
            ]
          },
          "metadata": {},
          "execution_count": 39
        }
      ]
    },
    {
      "cell_type": "code",
      "source": [
        "# 국가별 제품별 수출입\n",
        "# 중간재\n",
        "EXGR_INT = EXIM_INT_mt.sum(axis=1).reshape([9,1]) # 중간재 수출\n",
        "IMGR_INT = EXIM_INT_mt.sum(axis=0).reshape([9,1]) # 중간재 수입\n",
        "\n",
        "EXGR_FNL = EXIM_FNL_mt.sum(axis=1).reshape([9,1]) # 최종재 수출\n",
        "IMGR_FNL = EXIM_FNL_mt.sum(axis=0).reshape([9,1]) # 최종재 수입\n",
        "\n",
        "EXGR = EXIM.sum(axis=1).reshape([9,1])\n",
        "IMGR = EXIM.sum(axis=0).reshape([9,1])\n",
        "\n",
        "EXGR_IMGR_vec = np.hstack((EXGR_INT,EXGR_FNL,IMGR_INT,IMGR_FNL, EXGR, IMGR))\n",
        "EXGR_IMGR_vec\n",
        "\n",
        "EXGR_IMGR_vec_df = pd.DataFrame(EXGR_IMGR_vec, columns = ['EXGR_INT','EXGR_FNL', 'IMGR_INT','IMGR_FNL','EXGR','IMGR'],\n",
        "\n",
        "                         index=[['한국','한국', '한국','중국','중국','중국','ROW','ROW','ROW'],\n",
        "                          ['농산품','공산품', '서비스','농산품','공산품', '서비스','농산품','공산품', '서비스']])\n",
        "EXGR_IMGR_vec_df"
      ],
      "metadata": {
        "id": "IKoXonhrMx-p",
        "outputId": "52abdd0a-3d47-49fc-e72a-f4dc510abd1c",
        "colab": {
          "base_uri": "https://localhost:8080/",
          "height": 331
        }
      },
      "execution_count": 63,
      "outputs": [
        {
          "output_type": "execute_result",
          "data": {
            "text/plain": [
              "         EXGR_INT  EXGR_FNL  IMGR_INT  IMGR_FNL     EXGR     IMGR\n",
              "한국  농산품       5.0       2.0      39.0     593.0      7.0    632.0\n",
              "    공산품    3135.0    1576.0    2626.0     538.0   4711.0   3164.0\n",
              "    서비스     740.0     360.0    1433.0       0.0   1100.0   1433.0\n",
              "중국  농산품     107.0      78.0     644.0    2881.0    185.0   3525.0\n",
              "    공산품   10891.0    9544.0   12199.0    3282.0  20435.0  15481.0\n",
              "    서비스    2311.0    1699.0    3759.0       0.0   4010.0   3759.0\n",
              "ROW 농산품     594.0     237.0     341.0    7283.0    831.0   7624.0\n",
              "    공산품   13847.0    3085.0    8014.0    5280.0  16932.0  13294.0\n",
              "    서비스    3859.0    3276.0    6434.0       0.0   7135.0   6434.0"
            ],
            "text/html": [
              "\n",
              "  <div id=\"df-b0be47d9-da2a-40db-ada9-4f19def2388f\" class=\"colab-df-container\">\n",
              "    <div>\n",
              "<style scoped>\n",
              "    .dataframe tbody tr th:only-of-type {\n",
              "        vertical-align: middle;\n",
              "    }\n",
              "\n",
              "    .dataframe tbody tr th {\n",
              "        vertical-align: top;\n",
              "    }\n",
              "\n",
              "    .dataframe thead th {\n",
              "        text-align: right;\n",
              "    }\n",
              "</style>\n",
              "<table border=\"1\" class=\"dataframe\">\n",
              "  <thead>\n",
              "    <tr style=\"text-align: right;\">\n",
              "      <th></th>\n",
              "      <th></th>\n",
              "      <th>EXGR_INT</th>\n",
              "      <th>EXGR_FNL</th>\n",
              "      <th>IMGR_INT</th>\n",
              "      <th>IMGR_FNL</th>\n",
              "      <th>EXGR</th>\n",
              "      <th>IMGR</th>\n",
              "    </tr>\n",
              "  </thead>\n",
              "  <tbody>\n",
              "    <tr>\n",
              "      <th rowspan=\"3\" valign=\"top\">한국</th>\n",
              "      <th>농산품</th>\n",
              "      <td>5.0</td>\n",
              "      <td>2.0</td>\n",
              "      <td>39.0</td>\n",
              "      <td>593.0</td>\n",
              "      <td>7.0</td>\n",
              "      <td>632.0</td>\n",
              "    </tr>\n",
              "    <tr>\n",
              "      <th>공산품</th>\n",
              "      <td>3135.0</td>\n",
              "      <td>1576.0</td>\n",
              "      <td>2626.0</td>\n",
              "      <td>538.0</td>\n",
              "      <td>4711.0</td>\n",
              "      <td>3164.0</td>\n",
              "    </tr>\n",
              "    <tr>\n",
              "      <th>서비스</th>\n",
              "      <td>740.0</td>\n",
              "      <td>360.0</td>\n",
              "      <td>1433.0</td>\n",
              "      <td>0.0</td>\n",
              "      <td>1100.0</td>\n",
              "      <td>1433.0</td>\n",
              "    </tr>\n",
              "    <tr>\n",
              "      <th rowspan=\"3\" valign=\"top\">중국</th>\n",
              "      <th>농산품</th>\n",
              "      <td>107.0</td>\n",
              "      <td>78.0</td>\n",
              "      <td>644.0</td>\n",
              "      <td>2881.0</td>\n",
              "      <td>185.0</td>\n",
              "      <td>3525.0</td>\n",
              "    </tr>\n",
              "    <tr>\n",
              "      <th>공산품</th>\n",
              "      <td>10891.0</td>\n",
              "      <td>9544.0</td>\n",
              "      <td>12199.0</td>\n",
              "      <td>3282.0</td>\n",
              "      <td>20435.0</td>\n",
              "      <td>15481.0</td>\n",
              "    </tr>\n",
              "    <tr>\n",
              "      <th>서비스</th>\n",
              "      <td>2311.0</td>\n",
              "      <td>1699.0</td>\n",
              "      <td>3759.0</td>\n",
              "      <td>0.0</td>\n",
              "      <td>4010.0</td>\n",
              "      <td>3759.0</td>\n",
              "    </tr>\n",
              "    <tr>\n",
              "      <th rowspan=\"3\" valign=\"top\">ROW</th>\n",
              "      <th>농산품</th>\n",
              "      <td>594.0</td>\n",
              "      <td>237.0</td>\n",
              "      <td>341.0</td>\n",
              "      <td>7283.0</td>\n",
              "      <td>831.0</td>\n",
              "      <td>7624.0</td>\n",
              "    </tr>\n",
              "    <tr>\n",
              "      <th>공산품</th>\n",
              "      <td>13847.0</td>\n",
              "      <td>3085.0</td>\n",
              "      <td>8014.0</td>\n",
              "      <td>5280.0</td>\n",
              "      <td>16932.0</td>\n",
              "      <td>13294.0</td>\n",
              "    </tr>\n",
              "    <tr>\n",
              "      <th>서비스</th>\n",
              "      <td>3859.0</td>\n",
              "      <td>3276.0</td>\n",
              "      <td>6434.0</td>\n",
              "      <td>0.0</td>\n",
              "      <td>7135.0</td>\n",
              "      <td>6434.0</td>\n",
              "    </tr>\n",
              "  </tbody>\n",
              "</table>\n",
              "</div>\n",
              "    <div class=\"colab-df-buttons\">\n",
              "\n",
              "  <div class=\"colab-df-container\">\n",
              "    <button class=\"colab-df-convert\" onclick=\"convertToInteractive('df-b0be47d9-da2a-40db-ada9-4f19def2388f')\"\n",
              "            title=\"Convert this dataframe to an interactive table.\"\n",
              "            style=\"display:none;\">\n",
              "\n",
              "  <svg xmlns=\"http://www.w3.org/2000/svg\" height=\"24px\" viewBox=\"0 -960 960 960\">\n",
              "    <path d=\"M120-120v-720h720v720H120Zm60-500h600v-160H180v160Zm220 220h160v-160H400v160Zm0 220h160v-160H400v160ZM180-400h160v-160H180v160Zm440 0h160v-160H620v160ZM180-180h160v-160H180v160Zm440 0h160v-160H620v160Z\"/>\n",
              "  </svg>\n",
              "    </button>\n",
              "\n",
              "  <style>\n",
              "    .colab-df-container {\n",
              "      display:flex;\n",
              "      gap: 12px;\n",
              "    }\n",
              "\n",
              "    .colab-df-convert {\n",
              "      background-color: #E8F0FE;\n",
              "      border: none;\n",
              "      border-radius: 50%;\n",
              "      cursor: pointer;\n",
              "      display: none;\n",
              "      fill: #1967D2;\n",
              "      height: 32px;\n",
              "      padding: 0 0 0 0;\n",
              "      width: 32px;\n",
              "    }\n",
              "\n",
              "    .colab-df-convert:hover {\n",
              "      background-color: #E2EBFA;\n",
              "      box-shadow: 0px 1px 2px rgba(60, 64, 67, 0.3), 0px 1px 3px 1px rgba(60, 64, 67, 0.15);\n",
              "      fill: #174EA6;\n",
              "    }\n",
              "\n",
              "    .colab-df-buttons div {\n",
              "      margin-bottom: 4px;\n",
              "    }\n",
              "\n",
              "    [theme=dark] .colab-df-convert {\n",
              "      background-color: #3B4455;\n",
              "      fill: #D2E3FC;\n",
              "    }\n",
              "\n",
              "    [theme=dark] .colab-df-convert:hover {\n",
              "      background-color: #434B5C;\n",
              "      box-shadow: 0px 1px 3px 1px rgba(0, 0, 0, 0.15);\n",
              "      filter: drop-shadow(0px 1px 2px rgba(0, 0, 0, 0.3));\n",
              "      fill: #FFFFFF;\n",
              "    }\n",
              "  </style>\n",
              "\n",
              "    <script>\n",
              "      const buttonEl =\n",
              "        document.querySelector('#df-b0be47d9-da2a-40db-ada9-4f19def2388f button.colab-df-convert');\n",
              "      buttonEl.style.display =\n",
              "        google.colab.kernel.accessAllowed ? 'block' : 'none';\n",
              "\n",
              "      async function convertToInteractive(key) {\n",
              "        const element = document.querySelector('#df-b0be47d9-da2a-40db-ada9-4f19def2388f');\n",
              "        const dataTable =\n",
              "          await google.colab.kernel.invokeFunction('convertToInteractive',\n",
              "                                                    [key], {});\n",
              "        if (!dataTable) return;\n",
              "\n",
              "        const docLinkHtml = 'Like what you see? Visit the ' +\n",
              "          '<a target=\"_blank\" href=https://colab.research.google.com/notebooks/data_table.ipynb>data table notebook</a>'\n",
              "          + ' to learn more about interactive tables.';\n",
              "        element.innerHTML = '';\n",
              "        dataTable['output_type'] = 'display_data';\n",
              "        await google.colab.output.renderOutput(dataTable, element);\n",
              "        const docLink = document.createElement('div');\n",
              "        docLink.innerHTML = docLinkHtml;\n",
              "        element.appendChild(docLink);\n",
              "      }\n",
              "    </script>\n",
              "  </div>\n",
              "\n",
              "\n",
              "<div id=\"df-8f42be95-5bcb-4704-ad58-27b9b95faac9\">\n",
              "  <button class=\"colab-df-quickchart\" onclick=\"quickchart('df-8f42be95-5bcb-4704-ad58-27b9b95faac9')\"\n",
              "            title=\"Suggest charts.\"\n",
              "            style=\"display:none;\">\n",
              "\n",
              "<svg xmlns=\"http://www.w3.org/2000/svg\" height=\"24px\"viewBox=\"0 0 24 24\"\n",
              "     width=\"24px\">\n",
              "    <g>\n",
              "        <path d=\"M19 3H5c-1.1 0-2 .9-2 2v14c0 1.1.9 2 2 2h14c1.1 0 2-.9 2-2V5c0-1.1-.9-2-2-2zM9 17H7v-7h2v7zm4 0h-2V7h2v10zm4 0h-2v-4h2v4z\"/>\n",
              "    </g>\n",
              "</svg>\n",
              "  </button>\n",
              "\n",
              "<style>\n",
              "  .colab-df-quickchart {\n",
              "    background-color: #E8F0FE;\n",
              "    border: none;\n",
              "    border-radius: 50%;\n",
              "    cursor: pointer;\n",
              "    display: none;\n",
              "    fill: #1967D2;\n",
              "    height: 32px;\n",
              "    padding: 0 0 0 0;\n",
              "    width: 32px;\n",
              "  }\n",
              "\n",
              "  .colab-df-quickchart:hover {\n",
              "    background-color: #E2EBFA;\n",
              "    box-shadow: 0px 1px 2px rgba(60, 64, 67, 0.3), 0px 1px 3px 1px rgba(60, 64, 67, 0.15);\n",
              "    fill: #174EA6;\n",
              "  }\n",
              "\n",
              "  [theme=dark] .colab-df-quickchart {\n",
              "    background-color: #3B4455;\n",
              "    fill: #D2E3FC;\n",
              "  }\n",
              "\n",
              "  [theme=dark] .colab-df-quickchart:hover {\n",
              "    background-color: #434B5C;\n",
              "    box-shadow: 0px 1px 3px 1px rgba(0, 0, 0, 0.15);\n",
              "    filter: drop-shadow(0px 1px 2px rgba(0, 0, 0, 0.3));\n",
              "    fill: #FFFFFF;\n",
              "  }\n",
              "</style>\n",
              "\n",
              "  <script>\n",
              "    async function quickchart(key) {\n",
              "      const charts = await google.colab.kernel.invokeFunction(\n",
              "          'suggestCharts', [key], {});\n",
              "    }\n",
              "    (() => {\n",
              "      let quickchartButtonEl =\n",
              "        document.querySelector('#df-8f42be95-5bcb-4704-ad58-27b9b95faac9 button');\n",
              "      quickchartButtonEl.style.display =\n",
              "        google.colab.kernel.accessAllowed ? 'block' : 'none';\n",
              "    })();\n",
              "  </script>\n",
              "</div>\n",
              "    </div>\n",
              "  </div>\n"
            ]
          },
          "metadata": {},
          "execution_count": 63
        }
      ]
    },
    {
      "cell_type": "code",
      "source": [
        "# 경상수지 및 파트너 비중(산업을 나눌 필요가 없으므로 Trade_matrix를 국가별,전산업으로 변환)\n",
        "Mt_cd_all = np.array([[1,1,1,0,0,0,0,0,0],\n",
        "                     [0,0,0,1,1,1,0,0,0],\n",
        "                     [0,0,0,0,0,0,1,1,1]])\n",
        "trade_1sec = (Mt_cd_all@EXIM)@Mt_cd_all.T\n",
        "trade_1sec  # trade 매트릭스\n",
        "exp_1sec = trade_1sec.sum(axis=1).reshape([1,3])\n",
        "imp_1sec = trade_1sec.sum(axis=0).reshape([3,1])\n",
        "BALGR = (exp_1sec.T - imp_1sec).reshape([1,3]) #경상수지(Gross trade balance)\n",
        "\n",
        "BALGR_df = pd.DataFrame(BALGR, columns = ['한국','중국', 'ROW'],\n",
        "\n",
        "                         index=['BALGR'])\n",
        "\n",
        "exp_1sec_con = trade_1sec.reshape([3,3])/np.tile((exp_1sec.reshape([1,3]))[1,3])  #전산업, 국가별 수출 매트릭스\n",
        "\n",
        "exp_1sec_con"
      ],
      "metadata": {
        "id": "YK_ywHDWMyGB",
        "outputId": "6c474fe9-f545-42d7-fa1e-45dad764109d",
        "colab": {
          "base_uri": "https://localhost:8080/",
          "height": 247
        }
      },
      "execution_count": 104,
      "outputs": [
        {
          "output_type": "error",
          "ename": "IndexError",
          "evalue": "ignored",
          "traceback": [
            "\u001b[0;31m---------------------------------------------------------------------------\u001b[0m",
            "\u001b[0;31mIndexError\u001b[0m                                Traceback (most recent call last)",
            "\u001b[0;32m<ipython-input-104-4f79a0811086>\u001b[0m in \u001b[0;36m<cell line: 15>\u001b[0;34m()\u001b[0m\n\u001b[1;32m     13\u001b[0m                          index=['BALGR'])\n\u001b[1;32m     14\u001b[0m \u001b[0;34m\u001b[0m\u001b[0m\n\u001b[0;32m---> 15\u001b[0;31m \u001b[0mexp_1sec_con\u001b[0m \u001b[0;34m=\u001b[0m \u001b[0mtrade_1sec\u001b[0m\u001b[0;34m.\u001b[0m\u001b[0mreshape\u001b[0m\u001b[0;34m(\u001b[0m\u001b[0;34m[\u001b[0m\u001b[0;36m3\u001b[0m\u001b[0;34m,\u001b[0m\u001b[0;36m3\u001b[0m\u001b[0;34m]\u001b[0m\u001b[0;34m)\u001b[0m\u001b[0;34m/\u001b[0m\u001b[0mnp\u001b[0m\u001b[0;34m.\u001b[0m\u001b[0mtile\u001b[0m\u001b[0;34m(\u001b[0m\u001b[0;34m(\u001b[0m\u001b[0mexp_1sec\u001b[0m\u001b[0;34m.\u001b[0m\u001b[0mreshape\u001b[0m\u001b[0;34m(\u001b[0m\u001b[0;34m[\u001b[0m\u001b[0;36m1\u001b[0m\u001b[0;34m,\u001b[0m\u001b[0;36m3\u001b[0m\u001b[0;34m]\u001b[0m\u001b[0;34m)\u001b[0m\u001b[0;34m)\u001b[0m\u001b[0;34m[\u001b[0m\u001b[0;36m1\u001b[0m\u001b[0;34m,\u001b[0m\u001b[0;36m3\u001b[0m\u001b[0;34m]\u001b[0m\u001b[0;34m)\u001b[0m  \u001b[0;31m#전산업, 국가별 수출 매트릭스\u001b[0m\u001b[0;34m\u001b[0m\u001b[0;34m\u001b[0m\u001b[0m\n\u001b[0m\u001b[1;32m     16\u001b[0m \u001b[0;34m\u001b[0m\u001b[0m\n\u001b[1;32m     17\u001b[0m \u001b[0mexp_1sec_con\u001b[0m\u001b[0;34m\u001b[0m\u001b[0;34m\u001b[0m\u001b[0m\n",
            "\u001b[0;31mIndexError\u001b[0m: index 1 is out of bounds for axis 0 with size 1"
          ]
        }
      ]
    },
    {
      "cell_type": "code",
      "source": [
        "aa=np.tile(exp_1sec[1,3])"
      ],
      "metadata": {
        "id": "Ay85SS8Bjedm",
        "outputId": "6967fd79-baef-42a1-dc66-133d0b505613",
        "colab": {
          "base_uri": "https://localhost:8080/",
          "height": 178
        }
      },
      "execution_count": 100,
      "outputs": [
        {
          "output_type": "error",
          "ename": "IndexError",
          "evalue": "ignored",
          "traceback": [
            "\u001b[0;31m---------------------------------------------------------------------------\u001b[0m",
            "\u001b[0;31mIndexError\u001b[0m                                Traceback (most recent call last)",
            "\u001b[0;32m<ipython-input-100-8d4a07ff0f8a>\u001b[0m in \u001b[0;36m<cell line: 1>\u001b[0;34m()\u001b[0m\n\u001b[0;32m----> 1\u001b[0;31m \u001b[0maa\u001b[0m\u001b[0;34m=\u001b[0m\u001b[0mnp\u001b[0m\u001b[0;34m.\u001b[0m\u001b[0mtile\u001b[0m\u001b[0;34m(\u001b[0m\u001b[0mexp_1sec\u001b[0m\u001b[0;34m[\u001b[0m\u001b[0;36m1\u001b[0m\u001b[0;34m,\u001b[0m\u001b[0;36m3\u001b[0m\u001b[0;34m]\u001b[0m\u001b[0;34m)\u001b[0m\u001b[0;34m\u001b[0m\u001b[0;34m\u001b[0m\u001b[0m\n\u001b[0m",
            "\u001b[0;31mIndexError\u001b[0m: index 1 is out of bounds for axis 0 with size 1"
          ]
        }
      ]
    },
    {
      "cell_type": "code",
      "source": [
        "exp_1sec"
      ],
      "metadata": {
        "id": "wzXa3ce1jjQK",
        "outputId": "737a2f5e-cca5-460a-b2da-33a34f884318",
        "colab": {
          "base_uri": "https://localhost:8080/"
        }
      },
      "execution_count": 101,
      "outputs": [
        {
          "output_type": "execute_result",
          "data": {
            "text/plain": [
              "array([[ 5818., 24630., 24898.]])"
            ]
          },
          "metadata": {},
          "execution_count": 101
        }
      ]
    },
    {
      "cell_type": "code",
      "source": [
        "exp_1sec.shape"
      ],
      "metadata": {
        "id": "QRIBcBVojI1V",
        "outputId": "fee93cbe-7dc3-45ca-9a9e-63a836e246bd",
        "colab": {
          "base_uri": "https://localhost:8080/"
        }
      },
      "execution_count": 94,
      "outputs": [
        {
          "output_type": "execute_result",
          "data": {
            "text/plain": [
              "(1, 3)"
            ]
          },
          "metadata": {},
          "execution_count": 94
        }
      ]
    },
    {
      "cell_type": "code",
      "source": [
        "\n",
        "# IMGR_INT_mt = (INT*mtx_for_tra).reshape([9,9])  # 중간재 수입\n",
        "# IMGR_INT = IMGR_INT_mt.sum(axis=0).reshape([1,9])\n",
        "\n",
        "# IMGR_FNL_mt = (FD*mtx_for_tra).reshape([9,9])  # 최종재 수입\n",
        "# IMGR_FNL = IMGR_FNL_mt.sum(axis=0).reshape([1,9])\n",
        "\n",
        "# IMGR = IMGR_INT + IMGR_FNL\n",
        "\n",
        "# print(IMGR_INT_mt)\n",
        "\n",
        "# Im_all = np.concatenate((IMGR, IMGR_INT, IMGR_FNL),axis=0).T\n",
        "\n",
        "# Im_all_df = pd.DataFrame(Im_all, columns = ['총수입', '중간재수입', '최종재수입'],\n",
        "#                          index=[['한국','한국', '한국','중국','중국','중국','ROW','ROW','ROW'],\n",
        "#                           ['농산품','공산품', '서비스','농산품','공산품', '서비스','농산품','공산품', '서비스']])\n",
        "# Im_all_df\n",
        "\n",
        "# # print('중간재 수입 : \\n', IMGR_INT.T, '\\n')\n",
        "# # print('최종재 수입 : \\n', IMGR_FNL.T, '\\n')\n",
        "# # print('총수입 : \\n', IMGR.T, '\\n')"
      ],
      "metadata": {
        "id": "grc1h7B3QUxI"
      },
      "execution_count": null,
      "outputs": []
    },
    {
      "cell_type": "code",
      "source": [
        "Mtx = np.zeros((18,3195)) # 부문통합을 위한 코드가 많을 경우 상기의 코드를 수작업으로 미리 하는 것이 쉽자 않으므로 반복문을 통해 3x33 임시코드 만들기\n",
        "cd_3 = cd_for_itr[:,1]\n",
        "cd_33 = cd_for_itr[:,0]\n",
        "row=cd_3\n",
        "col=cd_33\n",
        "for i, j in zip(row,col):\n",
        "  Mtx[i-1,j-1] = 1\n",
        "print(Mtx)"
      ],
      "metadata": {
        "id": "GdSKaueLdDOn",
        "outputId": "27dda8d5-8985-4561-806e-c80112c0939c",
        "colab": {
          "base_uri": "https://localhost:8080/"
        }
      },
      "execution_count": null,
      "outputs": [
        {
          "output_type": "stream",
          "name": "stdout",
          "text": [
            "[[0. 0. 0. ... 0. 0. 0.]\n",
            " [0. 0. 0. ... 0. 0. 0.]\n",
            " [0. 0. 0. ... 0. 0. 0.]\n",
            " ...\n",
            " [1. 1. 0. ... 0. 0. 0.]\n",
            " [0. 0. 1. ... 0. 0. 0.]\n",
            " [0. 0. 0. ... 0. 0. 0.]]\n"
          ]
        }
      ]
    },
    {
      "cell_type": "code",
      "source": [
        "code=Mtx\n",
        "code.shape"
      ],
      "metadata": {
        "id": "1gXI65U3K2hG",
        "outputId": "27fbb014-cc7e-422a-c4ca-2ae7389c6563",
        "colab": {
          "base_uri": "https://localhost:8080/"
        }
      },
      "execution_count": null,
      "outputs": [
        {
          "output_type": "execute_result",
          "data": {
            "text/plain": [
              "(18, 3195)"
            ]
          },
          "metadata": {},
          "execution_count": 135
        }
      ]
    },
    {
      "cell_type": "code",
      "source": [
        "nae_tot_row = code@icio_2[0:3195,0:3195] # 중간투입(수요)의 행을 18부문으로 만들기\n",
        "nae_tot_row.shape"
      ],
      "metadata": {
        "id": "hwAN1N7qGAtx",
        "outputId": "c7669e4c-4db6-43b1-ae4e-d321da888540",
        "colab": {
          "base_uri": "https://localhost:8080/",
          "height": 191
        }
      },
      "execution_count": null,
      "outputs": [
        {
          "output_type": "error",
          "ename": "ValueError",
          "evalue": "ignored",
          "traceback": [
            "\u001b[0;31m---------------------------------------------------------------------------\u001b[0m",
            "\u001b[0;31mValueError\u001b[0m                                Traceback (most recent call last)",
            "\u001b[0;32m<ipython-input-136-5cfe59861c52>\u001b[0m in \u001b[0;36m<cell line: 1>\u001b[0;34m()\u001b[0m\n\u001b[0;32m----> 1\u001b[0;31m \u001b[0mnae_tot_row\u001b[0m \u001b[0;34m=\u001b[0m \u001b[0mcode\u001b[0m\u001b[0;34m@\u001b[0m\u001b[0micio_2\u001b[0m\u001b[0;34m[\u001b[0m\u001b[0;36m0\u001b[0m\u001b[0;34m:\u001b[0m\u001b[0;36m3195\u001b[0m\u001b[0;34m,\u001b[0m\u001b[0;36m0\u001b[0m\u001b[0;34m:\u001b[0m\u001b[0;36m3195\u001b[0m\u001b[0;34m]\u001b[0m \u001b[0;31m# 중간투입(수요)의 행을 18부문으로 만들기\u001b[0m\u001b[0;34m\u001b[0m\u001b[0;34m\u001b[0m\u001b[0m\n\u001b[0m\u001b[1;32m      2\u001b[0m \u001b[0mnae_tot_row\u001b[0m\u001b[0;34m.\u001b[0m\u001b[0mshape\u001b[0m\u001b[0;34m\u001b[0m\u001b[0;34m\u001b[0m\u001b[0m\n",
            "\u001b[0;31mValueError\u001b[0m: matmul: Input operand 1 has a mismatch in its core dimension 0, with gufunc signature (n?,k),(k,m?)->(n?,m?) (size 26 is different from 3195)"
          ]
        }
      ]
    },
    {
      "cell_type": "code",
      "source": [
        "nae_tot_col = nae_tot_row@code.T  # 수작업한 code 이용\n",
        "nae_tot_col.sum()"
      ],
      "metadata": {
        "id": "gJ-wf5Z5GAwF"
      },
      "execution_count": null,
      "outputs": []
    },
    {
      "cell_type": "code",
      "source": [
        "url_cdtx = \"https://raw.githubusercontent.com/Tom-Jung/legendary-funicular/main/cd_tax.csv\"  #코드매치 파일 불러오기\n",
        "cd_tx = pd.read_csv(url_cdtx)\n",
        "cd_tx.shape"
      ],
      "metadata": {
        "id": "U2KVZnyLGAyV"
      },
      "execution_count": null,
      "outputs": []
    },
    {
      "cell_type": "code",
      "source": [
        "url_cns = \"https://raw.githubusercontent.com/Tom-Jung/legendary-funicular/main/cd_cons.csv\"  #코드매치 파일 불러오기\n",
        "cd_cns = pd.read_csv(url_cns)\n",
        "cd_cns.shape"
      ],
      "metadata": {
        "id": "JQxUsF6DiW7A"
      },
      "execution_count": null,
      "outputs": []
    },
    {
      "cell_type": "code",
      "source": [
        "# Mtx_tx= np.zeros((6,3195)) # 부문통합을 위한 코드가 많을 경우 상기의 코드를 수작업으로 미리 하는 것이 쉽자 않으므로 반복문을 통해 3x33 임시코드 만들기\n",
        "# cd_3 = cd_for_itr_tx[:,1]\n",
        "# cd_33 = cd_for_itr_tx[:,0]\n",
        "# row=cd_3\n",
        "# col=cd_33\n",
        "# for i, j in zip(row,col):\n",
        "#   Mtx_tx[i-1,j-1] = 1\n",
        "# print(Mtx_tx)"
      ],
      "metadata": {
        "id": "jzhKiWaFKZJG"
      },
      "execution_count": null,
      "outputs": []
    },
    {
      "cell_type": "code",
      "source": [
        "ccdd_cns = cd_cns.to_numpy()\n",
        "cd_for_itr_cns = ccdd_cns[:,1:]\n",
        "# cd_for_itr_tx"
      ],
      "metadata": {
        "id": "GqX0Pk4vprXZ"
      },
      "execution_count": null,
      "outputs": []
    },
    {
      "cell_type": "code",
      "source": [
        "Mtx_cns= np.zeros((6,67)) # 부문통합을 위한 코드가 많을 경우 상기의 코드를 수작업으로 미리 하는 것이 쉽자 않으므로 반복문을 통해 3x33 임시코드 만들기\n",
        "cd_3 = cd_for_itr_cns[:,1]\n",
        "cd_33 = cd_for_itr_cns[:,0]\n",
        "row=cd_3\n",
        "col=cd_33\n",
        "for i, j in zip(row,col):\n",
        "  Mtx_cns[i-1,j-1] = 1\n",
        "print(Mtx_cns)"
      ],
      "metadata": {
        "id": "J3tdCNxcprdM"
      },
      "execution_count": null,
      "outputs": []
    },
    {
      "cell_type": "code",
      "source": [
        "# code_tx = Mtx_tx\n",
        "code_cns = Mtx_cns\n",
        "code_cns.shape"
      ],
      "metadata": {
        "id": "PraMpI0AKZL1"
      },
      "execution_count": null,
      "outputs": []
    },
    {
      "cell_type": "code",
      "source": [
        "nae_tx = code_cns@icio_2[3195:3262,0:3195]@code.T # 세금 행을 6부문으로 만들기\n",
        "nae_tx"
      ],
      "metadata": {
        "id": "5c-zt7MIK-xv"
      },
      "execution_count": null,
      "outputs": []
    },
    {
      "cell_type": "code",
      "source": [
        "va_row = icio_2[3262:,0:3195]@code.T # 중투합, 피용자보수, 영업잉여, 고정자본소모, 기타생산세, 부가가치계, 산출액(7X3)\n",
        "va_row"
      ],
      "metadata": {
        "id": "qztNjQCtK-0Y"
      },
      "execution_count": null,
      "outputs": []
    },
    {
      "cell_type": "code",
      "source": [
        "url_cdfd = \"https://raw.githubusercontent.com/Tom-Jung/legendary-funicular/main/cd_fd.csv\"  #코드매치 파일 불러오기\n",
        "cd_fd = pd.read_csv(url_cdfd)\n",
        "cd_fd.head()"
      ],
      "metadata": {
        "id": "TveEEi60VWLR"
      },
      "execution_count": null,
      "outputs": []
    },
    {
      "cell_type": "code",
      "source": [
        "ccdd_fd = cd_fd.to_numpy()\n",
        "cd_for_itr_fd = ccdd_fd[:,1:]\n",
        "cd_for_itr_fd.shape"
      ],
      "metadata": {
        "id": "lyL9UFZoVmBn"
      },
      "execution_count": null,
      "outputs": []
    },
    {
      "cell_type": "code",
      "source": [
        "Mtx_fd= np.zeros((18,402)) # 부문통합을 위한 코드가 많을 경우 상기의 코드를 수작업으로 미리 하는 것이 쉽자 않으므로 반복문을 통해 3x33 임시코드 만들기\n",
        "cd_3 = cd_for_itr_fd[:,1]\n",
        "cd_33 = cd_for_itr_fd[:,0]\n",
        "row=cd_3\n",
        "col=cd_33\n",
        "for i, j in zip(row,col):\n",
        "  Mtx_fd[i-1,j-1] = 1\n",
        "print(Mtx_fd)"
      ],
      "metadata": {
        "id": "-DfyrxNAVmEF"
      },
      "execution_count": null,
      "outputs": []
    },
    {
      "cell_type": "code",
      "source": [
        "code_fd = Mtx_fd\n",
        "code_fd.shape"
      ],
      "metadata": {
        "id": "DCfHIGyDVmGS"
      },
      "execution_count": null,
      "outputs": []
    },
    {
      "cell_type": "code",
      "source": [
        "fd = code@icio_2[0:3195,3195:3597]@code_fd.T # 최종수요를 6부문으로 만들기\n",
        "fd.shape"
      ],
      "metadata": {
        "id": "Q0YhpDKhVmIY"
      },
      "execution_count": null,
      "outputs": []
    },
    {
      "cell_type": "code",
      "source": [
        "fd_tx = code_cns@icio_2[3195:3262,3195:3597]@code_fd.T\n",
        "fd_tx.shape"
      ],
      "metadata": {
        "id": "NJdAdoVPtVq4"
      },
      "execution_count": null,
      "outputs": []
    },
    {
      "cell_type": "code",
      "source": [
        "fd_row=np.concatenate((fd,fd_tx, np.zeros((2,18))))\n",
        "fd_row.shape"
      ],
      "metadata": {
        "id": "LWL1uNCO_A95"
      },
      "execution_count": null,
      "outputs": []
    },
    {
      "cell_type": "code",
      "source": [
        "icio_row = np.concatenate((nae_tot_col,nae_tx, va_row))\n",
        "icio_row.shape"
      ],
      "metadata": {
        "id": "ydBppFx_VmKX"
      },
      "execution_count": null,
      "outputs": []
    },
    {
      "cell_type": "code",
      "source": [
        "icio_col = np.concatenate((icio_row, fd_row), axis=1)"
      ],
      "metadata": {
        "id": "9AmJvsmzVmMM"
      },
      "execution_count": null,
      "outputs": []
    },
    {
      "cell_type": "code",
      "source": [
        "icio_col_sm = icio_col.sum(axis=1).reshape([26,1]) # 충수요계(산출액과 동일)"
      ],
      "metadata": {
        "id": "8e_Mqf7KVmOa"
      },
      "execution_count": null,
      "outputs": []
    },
    {
      "cell_type": "code",
      "source": [
        "icio_f = np.concatenate((icio_col, icio_col_sm), axis=1).astype(float)"
      ],
      "metadata": {
        "id": "Ic43tRaAVmQd"
      },
      "execution_count": null,
      "outputs": []
    },
    {
      "cell_type": "code",
      "source": [
        "ICIO_df = pd.DataFrame(icio_f, columns = [['KOR', 'KOR', 'KOR', 'CHN', 'CHN', 'CHN', 'USA', 'USA', 'USA', 'JPN', 'JPN','JPN',\n",
        "                                             'EU', 'EU', 'EU', 'ROW', 'ROW', 'ROW',\n",
        "                                            'KOR', 'KOR', 'KOR', 'CHN', 'CHN', 'CHN', 'USA', 'USA', 'USA', 'JPN', 'JPN','JPN',\n",
        "                                             'EU', 'EU', 'EU', 'ROW', 'ROW', 'ROW', 'Total'],\n",
        "\n",
        "                                      ['Agr', 'Manu', 'Serv', 'Agr', 'Manu', 'Serv','Agr', 'Manu', 'Serv', 'Agr', 'Manu', 'Serv','Agr', 'Manu', 'Serv','Agr', 'Manu', 'Serv',\n",
        "                                        'Cons', 'Inv','Exp','Cons', 'Inv','Exp','Cons', 'Inv','Exp','Cons', 'Inv','Exp','Cons', 'Inv','Exp','Cons', 'Inv','Exp','Tot']],\n",
        "\n",
        "                                    index=[['KOR', 'KOR', 'KOR', 'CHN', 'CHN', 'CHN', 'USA', 'USA', 'USA', 'JPN', 'JPN','JPN',\n",
        "                                             'EU', 'EU', 'EU', 'ROW', 'ROW', 'ROW','Tax_KOR','Tax_CHN','Tax_USA','Tax_JPN','Tax_EU','Tax_ROW','VA','CT'],\n",
        "                                           ['Agr', 'Manu', 'Serv', 'Agr', 'Manu', 'Serv','Agr', 'Manu', 'Serv', 'Agr', 'Manu', 'Serv',\n",
        "                                            'Agr', 'Manu', 'Serv','Agr', 'Manu', 'Serv','Tax_KOR','Tax_CHN','Tax_USA','Tax_JPN','Tax_EU','Tax_ROW','VA','Output']])\n",
        "ICIO_df.index.names=['Country', 'Secs']"
      ],
      "metadata": {
        "id": "rtItKkheBmQm"
      },
      "execution_count": null,
      "outputs": []
    },
    {
      "cell_type": "code",
      "source": [
        "ICIO_df.to_csv('ICIO_6cons_3secs.csv')"
      ],
      "metadata": {
        "id": "3Rq2EJgr1YSW"
      },
      "execution_count": null,
      "outputs": []
    },
    {
      "cell_type": "code",
      "source": [
        "ICIO_df_show = pd.DataFrame(icio_f.round(1), columns = [['KOR', 'KOR', 'KOR', 'CHN', 'CHN', 'CHN', 'USA', 'USA', 'USA', 'JPN', 'JPN','JPN',\n",
        "                                             'EU', 'EU', 'EU', 'ROW', 'ROW', 'ROW',\n",
        "                                            'KOR', 'KOR', 'KOR', 'CHN', 'CHN', 'CHN', 'USA', 'USA', 'USA', 'JPN', 'JPN','JPN',\n",
        "                                             'EU', 'EU', 'EU', 'ROW', 'ROW', 'ROW', 'Total'],\n",
        "\n",
        "                                      ['Agr', 'Manu', 'Serv', 'Agr', 'Manu', 'Serv','Agr', 'Manu', 'Serv', 'Agr', 'Manu', 'Serv','Agr', 'Manu', 'Serv','Agr', 'Manu', 'Serv',\n",
        "                                        'Cons', 'Inv','Exp','Cons', 'Inv','Exp','Cons', 'Inv','Exp','Cons', 'Inv','Exp','Cons', 'Inv','Exp','Cons', 'Inv','Exp','Tot']],\n",
        "\n",
        "                                    index=[['KOR', 'KOR', 'KOR', 'CHN', 'CHN', 'CHN', 'USA', 'USA', 'USA', 'JPN', 'JPN','JPN',\n",
        "                                             'EU', 'EU', 'EU', 'ROW', 'ROW', 'ROW','Tax_KOR','Tax_CHN','Tax_USA','Tax_JPN','Tax_EU','Tax_ROW','VA','CT'],\n",
        "                                           ['Agr', 'Manu', 'Serv', 'Agr', 'Manu', 'Serv','Agr', 'Manu', 'Serv', 'Agr', 'Manu', 'Serv',\n",
        "                                            'Agr', 'Manu', 'Serv','Agr', 'Manu', 'Serv','Tax_KOR','Tax_CHN','Tax_USA','Tax_JPN','Tax_EU','Tax_ROW','VA','Output']])\n",
        "ICIO_df.index.names=['Country', 'Secs']"
      ],
      "metadata": {
        "id": "KTuvCzjHWf4s"
      },
      "execution_count": null,
      "outputs": []
    },
    {
      "cell_type": "code",
      "source": [
        "ICIO_df_show"
      ],
      "metadata": {
        "id": "MkTMOiEJF1XB"
      },
      "execution_count": null,
      "outputs": []
    },
    {
      "cell_type": "code",
      "source": [],
      "metadata": {
        "id": "BdNvKl_JdRX0"
      },
      "execution_count": null,
      "outputs": []
    }
  ]
}