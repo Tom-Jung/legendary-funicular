{
  "nbformat": 4,
  "nbformat_minor": 0,
  "metadata": {
    "colab": {
      "provenance": [],
      "mount_file_id": "https://github.com/Tom-Jung/legendary-funicular/blob/main/IO_tables.ipynb",
      "authorship_tag": "ABX9TyPrcNb8c/6zOIcCkNE9gAU3",
      "include_colab_link": true
    },
    "kernelspec": {
      "name": "python3",
      "display_name": "Python 3"
    },
    "language_info": {
      "name": "python"
    }
  },
  "cells": [
    {
      "cell_type": "markdown",
      "metadata": {
        "id": "view-in-github",
        "colab_type": "text"
      },
      "source": [
        "<a href=\"https://colab.research.google.com/github/Tom-Jung/legendary-funicular/blob/main/Ch8_1.%20ICIO_Indicators_1010.ipynb\" target=\"_parent\"><img src=\"https://colab.research.google.com/assets/colab-badge.svg\" alt=\"Open In Colab\"/></a>"
      ]
    },
    {
      "cell_type": "code",
      "source": [
        "import numpy as np   # Numpy import\n",
        "import pandas as pd  # Pandas import"
      ],
      "metadata": {
        "id": "TR7JvW8CxBFT"
      },
      "execution_count": 104,
      "outputs": []
    },
    {
      "cell_type": "code",
      "source": [
        "np.set_printoptions(precision=3,suppress=True) # 결과를 소수 3자리까지만 보여주는 옵션"
      ],
      "metadata": {
        "id": "2l9tk4XA4Nkc"
      },
      "execution_count": 105,
      "outputs": []
    },
    {
      "cell_type": "code",
      "source": [
        "# from google.colab import drive\n",
        "# drive.mount('/content/drive')"
      ],
      "metadata": {
        "id": "UUugbbcO-CMK"
      },
      "execution_count": 106,
      "outputs": []
    },
    {
      "cell_type": "code",
      "source": [
        "# icio =pd.read_csv('/content/drive/MyDrive/ICIO/ICIO2021_2018.csv')"
      ],
      "metadata": {
        "id": "dH4scTnJ9Wll"
      },
      "execution_count": 107,
      "outputs": []
    },
    {
      "cell_type": "code",
      "source": [
        "url_icio = \"https://raw.githubusercontent.com/Tom-Jung/legendary-funicular/main/4cons_3secs_1fd_final.csv\"  # 4국 9부문 2020년 ICIO 불러오기\n",
        "icio = pd.read_csv(url_icio)\n",
        "icio.head()"
      ],
      "metadata": {
        "id": "1tuN2LradEW4",
        "colab": {
          "base_uri": "https://localhost:8080/",
          "height": 206
        },
        "outputId": "86acab7e-04ee-41b3-9413-0daf4153dc85"
      },
      "execution_count": 108,
      "outputs": [
        {
          "output_type": "execute_result",
          "data": {
            "text/plain": [
              "   단위  억달러   한국  한국.1  한국.2    중국  중국.1  중국.2   미국 미국.1 미국.2  ROW ROW.1 ROW.2  \\\n",
              "0  국가   산업  농산품   공산품   서비스   농산품   공산품   서비스  농산품  공산품  서비스  농산품   공산품   서비스   \n",
              "1  한국  농산품   25   282   102     0     0     0    0    2    1    1     2     1   \n",
              "2  한국  공산품  110  5596  2593    50  1246   295    4  193  136   61  1301   602   \n",
              "3  한국  서비스   85  2633  5421    11   139    99    0   17   42    8   144   270   \n",
              "4  중국  농산품    0     4     1  4389  9691  1500    3    9    3   12    50    13   \n",
              "\n",
              "    한국.3  중국.3  미국.3 ROW.3     총계  \n",
              "0   최종수요  최종수요  최종수요  최종수요    총수요  \n",
              "1    152     1     1     2    572  \n",
              "2   2458   391   355  1294  16685  \n",
              "3  11611   128    82   287  20977  \n",
              "4      3  5509     5    67  21259  "
            ],
            "text/html": [
              "\n",
              "  <div id=\"df-89d14678-4cfd-4d92-8d1b-7987d00873d2\" class=\"colab-df-container\">\n",
              "    <div>\n",
              "<style scoped>\n",
              "    .dataframe tbody tr th:only-of-type {\n",
              "        vertical-align: middle;\n",
              "    }\n",
              "\n",
              "    .dataframe tbody tr th {\n",
              "        vertical-align: top;\n",
              "    }\n",
              "\n",
              "    .dataframe thead th {\n",
              "        text-align: right;\n",
              "    }\n",
              "</style>\n",
              "<table border=\"1\" class=\"dataframe\">\n",
              "  <thead>\n",
              "    <tr style=\"text-align: right;\">\n",
              "      <th></th>\n",
              "      <th>단위</th>\n",
              "      <th>억달러</th>\n",
              "      <th>한국</th>\n",
              "      <th>한국.1</th>\n",
              "      <th>한국.2</th>\n",
              "      <th>중국</th>\n",
              "      <th>중국.1</th>\n",
              "      <th>중국.2</th>\n",
              "      <th>미국</th>\n",
              "      <th>미국.1</th>\n",
              "      <th>미국.2</th>\n",
              "      <th>ROW</th>\n",
              "      <th>ROW.1</th>\n",
              "      <th>ROW.2</th>\n",
              "      <th>한국.3</th>\n",
              "      <th>중국.3</th>\n",
              "      <th>미국.3</th>\n",
              "      <th>ROW.3</th>\n",
              "      <th>총계</th>\n",
              "    </tr>\n",
              "  </thead>\n",
              "  <tbody>\n",
              "    <tr>\n",
              "      <th>0</th>\n",
              "      <td>국가</td>\n",
              "      <td>산업</td>\n",
              "      <td>농산품</td>\n",
              "      <td>공산품</td>\n",
              "      <td>서비스</td>\n",
              "      <td>농산품</td>\n",
              "      <td>공산품</td>\n",
              "      <td>서비스</td>\n",
              "      <td>농산품</td>\n",
              "      <td>공산품</td>\n",
              "      <td>서비스</td>\n",
              "      <td>농산품</td>\n",
              "      <td>공산품</td>\n",
              "      <td>서비스</td>\n",
              "      <td>최종수요</td>\n",
              "      <td>최종수요</td>\n",
              "      <td>최종수요</td>\n",
              "      <td>최종수요</td>\n",
              "      <td>총수요</td>\n",
              "    </tr>\n",
              "    <tr>\n",
              "      <th>1</th>\n",
              "      <td>한국</td>\n",
              "      <td>농산품</td>\n",
              "      <td>25</td>\n",
              "      <td>282</td>\n",
              "      <td>102</td>\n",
              "      <td>0</td>\n",
              "      <td>0</td>\n",
              "      <td>0</td>\n",
              "      <td>0</td>\n",
              "      <td>2</td>\n",
              "      <td>1</td>\n",
              "      <td>1</td>\n",
              "      <td>2</td>\n",
              "      <td>1</td>\n",
              "      <td>152</td>\n",
              "      <td>1</td>\n",
              "      <td>1</td>\n",
              "      <td>2</td>\n",
              "      <td>572</td>\n",
              "    </tr>\n",
              "    <tr>\n",
              "      <th>2</th>\n",
              "      <td>한국</td>\n",
              "      <td>공산품</td>\n",
              "      <td>110</td>\n",
              "      <td>5596</td>\n",
              "      <td>2593</td>\n",
              "      <td>50</td>\n",
              "      <td>1246</td>\n",
              "      <td>295</td>\n",
              "      <td>4</td>\n",
              "      <td>193</td>\n",
              "      <td>136</td>\n",
              "      <td>61</td>\n",
              "      <td>1301</td>\n",
              "      <td>602</td>\n",
              "      <td>2458</td>\n",
              "      <td>391</td>\n",
              "      <td>355</td>\n",
              "      <td>1294</td>\n",
              "      <td>16685</td>\n",
              "    </tr>\n",
              "    <tr>\n",
              "      <th>3</th>\n",
              "      <td>한국</td>\n",
              "      <td>서비스</td>\n",
              "      <td>85</td>\n",
              "      <td>2633</td>\n",
              "      <td>5421</td>\n",
              "      <td>11</td>\n",
              "      <td>139</td>\n",
              "      <td>99</td>\n",
              "      <td>0</td>\n",
              "      <td>17</td>\n",
              "      <td>42</td>\n",
              "      <td>8</td>\n",
              "      <td>144</td>\n",
              "      <td>270</td>\n",
              "      <td>11611</td>\n",
              "      <td>128</td>\n",
              "      <td>82</td>\n",
              "      <td>287</td>\n",
              "      <td>20977</td>\n",
              "    </tr>\n",
              "    <tr>\n",
              "      <th>4</th>\n",
              "      <td>중국</td>\n",
              "      <td>농산품</td>\n",
              "      <td>0</td>\n",
              "      <td>4</td>\n",
              "      <td>1</td>\n",
              "      <td>4389</td>\n",
              "      <td>9691</td>\n",
              "      <td>1500</td>\n",
              "      <td>3</td>\n",
              "      <td>9</td>\n",
              "      <td>3</td>\n",
              "      <td>12</td>\n",
              "      <td>50</td>\n",
              "      <td>13</td>\n",
              "      <td>3</td>\n",
              "      <td>5509</td>\n",
              "      <td>5</td>\n",
              "      <td>67</td>\n",
              "      <td>21259</td>\n",
              "    </tr>\n",
              "  </tbody>\n",
              "</table>\n",
              "</div>\n",
              "    <div class=\"colab-df-buttons\">\n",
              "\n",
              "  <div class=\"colab-df-container\">\n",
              "    <button class=\"colab-df-convert\" onclick=\"convertToInteractive('df-89d14678-4cfd-4d92-8d1b-7987d00873d2')\"\n",
              "            title=\"Convert this dataframe to an interactive table.\"\n",
              "            style=\"display:none;\">\n",
              "\n",
              "  <svg xmlns=\"http://www.w3.org/2000/svg\" height=\"24px\" viewBox=\"0 -960 960 960\">\n",
              "    <path d=\"M120-120v-720h720v720H120Zm60-500h600v-160H180v160Zm220 220h160v-160H400v160Zm0 220h160v-160H400v160ZM180-400h160v-160H180v160Zm440 0h160v-160H620v160ZM180-180h160v-160H180v160Zm440 0h160v-160H620v160Z\"/>\n",
              "  </svg>\n",
              "    </button>\n",
              "\n",
              "  <style>\n",
              "    .colab-df-container {\n",
              "      display:flex;\n",
              "      gap: 12px;\n",
              "    }\n",
              "\n",
              "    .colab-df-convert {\n",
              "      background-color: #E8F0FE;\n",
              "      border: none;\n",
              "      border-radius: 50%;\n",
              "      cursor: pointer;\n",
              "      display: none;\n",
              "      fill: #1967D2;\n",
              "      height: 32px;\n",
              "      padding: 0 0 0 0;\n",
              "      width: 32px;\n",
              "    }\n",
              "\n",
              "    .colab-df-convert:hover {\n",
              "      background-color: #E2EBFA;\n",
              "      box-shadow: 0px 1px 2px rgba(60, 64, 67, 0.3), 0px 1px 3px 1px rgba(60, 64, 67, 0.15);\n",
              "      fill: #174EA6;\n",
              "    }\n",
              "\n",
              "    .colab-df-buttons div {\n",
              "      margin-bottom: 4px;\n",
              "    }\n",
              "\n",
              "    [theme=dark] .colab-df-convert {\n",
              "      background-color: #3B4455;\n",
              "      fill: #D2E3FC;\n",
              "    }\n",
              "\n",
              "    [theme=dark] .colab-df-convert:hover {\n",
              "      background-color: #434B5C;\n",
              "      box-shadow: 0px 1px 3px 1px rgba(0, 0, 0, 0.15);\n",
              "      filter: drop-shadow(0px 1px 2px rgba(0, 0, 0, 0.3));\n",
              "      fill: #FFFFFF;\n",
              "    }\n",
              "  </style>\n",
              "\n",
              "    <script>\n",
              "      const buttonEl =\n",
              "        document.querySelector('#df-89d14678-4cfd-4d92-8d1b-7987d00873d2 button.colab-df-convert');\n",
              "      buttonEl.style.display =\n",
              "        google.colab.kernel.accessAllowed ? 'block' : 'none';\n",
              "\n",
              "      async function convertToInteractive(key) {\n",
              "        const element = document.querySelector('#df-89d14678-4cfd-4d92-8d1b-7987d00873d2');\n",
              "        const dataTable =\n",
              "          await google.colab.kernel.invokeFunction('convertToInteractive',\n",
              "                                                    [key], {});\n",
              "        if (!dataTable) return;\n",
              "\n",
              "        const docLinkHtml = 'Like what you see? Visit the ' +\n",
              "          '<a target=\"_blank\" href=https://colab.research.google.com/notebooks/data_table.ipynb>data table notebook</a>'\n",
              "          + ' to learn more about interactive tables.';\n",
              "        element.innerHTML = '';\n",
              "        dataTable['output_type'] = 'display_data';\n",
              "        await google.colab.output.renderOutput(dataTable, element);\n",
              "        const docLink = document.createElement('div');\n",
              "        docLink.innerHTML = docLinkHtml;\n",
              "        element.appendChild(docLink);\n",
              "      }\n",
              "    </script>\n",
              "  </div>\n",
              "\n",
              "\n",
              "<div id=\"df-ccfca9df-bebc-4bf2-8906-7e5771a14ea0\">\n",
              "  <button class=\"colab-df-quickchart\" onclick=\"quickchart('df-ccfca9df-bebc-4bf2-8906-7e5771a14ea0')\"\n",
              "            title=\"Suggest charts.\"\n",
              "            style=\"display:none;\">\n",
              "\n",
              "<svg xmlns=\"http://www.w3.org/2000/svg\" height=\"24px\"viewBox=\"0 0 24 24\"\n",
              "     width=\"24px\">\n",
              "    <g>\n",
              "        <path d=\"M19 3H5c-1.1 0-2 .9-2 2v14c0 1.1.9 2 2 2h14c1.1 0 2-.9 2-2V5c0-1.1-.9-2-2-2zM9 17H7v-7h2v7zm4 0h-2V7h2v10zm4 0h-2v-4h2v4z\"/>\n",
              "    </g>\n",
              "</svg>\n",
              "  </button>\n",
              "\n",
              "<style>\n",
              "  .colab-df-quickchart {\n",
              "      --bg-color: #E8F0FE;\n",
              "      --fill-color: #1967D2;\n",
              "      --hover-bg-color: #E2EBFA;\n",
              "      --hover-fill-color: #174EA6;\n",
              "      --disabled-fill-color: #AAA;\n",
              "      --disabled-bg-color: #DDD;\n",
              "  }\n",
              "\n",
              "  [theme=dark] .colab-df-quickchart {\n",
              "      --bg-color: #3B4455;\n",
              "      --fill-color: #D2E3FC;\n",
              "      --hover-bg-color: #434B5C;\n",
              "      --hover-fill-color: #FFFFFF;\n",
              "      --disabled-bg-color: #3B4455;\n",
              "      --disabled-fill-color: #666;\n",
              "  }\n",
              "\n",
              "  .colab-df-quickchart {\n",
              "    background-color: var(--bg-color);\n",
              "    border: none;\n",
              "    border-radius: 50%;\n",
              "    cursor: pointer;\n",
              "    display: none;\n",
              "    fill: var(--fill-color);\n",
              "    height: 32px;\n",
              "    padding: 0;\n",
              "    width: 32px;\n",
              "  }\n",
              "\n",
              "  .colab-df-quickchart:hover {\n",
              "    background-color: var(--hover-bg-color);\n",
              "    box-shadow: 0 1px 2px rgba(60, 64, 67, 0.3), 0 1px 3px 1px rgba(60, 64, 67, 0.15);\n",
              "    fill: var(--button-hover-fill-color);\n",
              "  }\n",
              "\n",
              "  .colab-df-quickchart-complete:disabled,\n",
              "  .colab-df-quickchart-complete:disabled:hover {\n",
              "    background-color: var(--disabled-bg-color);\n",
              "    fill: var(--disabled-fill-color);\n",
              "    box-shadow: none;\n",
              "  }\n",
              "\n",
              "  .colab-df-spinner {\n",
              "    border: 2px solid var(--fill-color);\n",
              "    border-color: transparent;\n",
              "    border-bottom-color: var(--fill-color);\n",
              "    animation:\n",
              "      spin 1s steps(1) infinite;\n",
              "  }\n",
              "\n",
              "  @keyframes spin {\n",
              "    0% {\n",
              "      border-color: transparent;\n",
              "      border-bottom-color: var(--fill-color);\n",
              "      border-left-color: var(--fill-color);\n",
              "    }\n",
              "    20% {\n",
              "      border-color: transparent;\n",
              "      border-left-color: var(--fill-color);\n",
              "      border-top-color: var(--fill-color);\n",
              "    }\n",
              "    30% {\n",
              "      border-color: transparent;\n",
              "      border-left-color: var(--fill-color);\n",
              "      border-top-color: var(--fill-color);\n",
              "      border-right-color: var(--fill-color);\n",
              "    }\n",
              "    40% {\n",
              "      border-color: transparent;\n",
              "      border-right-color: var(--fill-color);\n",
              "      border-top-color: var(--fill-color);\n",
              "    }\n",
              "    60% {\n",
              "      border-color: transparent;\n",
              "      border-right-color: var(--fill-color);\n",
              "    }\n",
              "    80% {\n",
              "      border-color: transparent;\n",
              "      border-right-color: var(--fill-color);\n",
              "      border-bottom-color: var(--fill-color);\n",
              "    }\n",
              "    90% {\n",
              "      border-color: transparent;\n",
              "      border-bottom-color: var(--fill-color);\n",
              "    }\n",
              "  }\n",
              "</style>\n",
              "\n",
              "  <script>\n",
              "    async function quickchart(key) {\n",
              "      const quickchartButtonEl =\n",
              "        document.querySelector('#' + key + ' button');\n",
              "      quickchartButtonEl.disabled = true;  // To prevent multiple clicks.\n",
              "      quickchartButtonEl.classList.add('colab-df-spinner');\n",
              "      try {\n",
              "        const charts = await google.colab.kernel.invokeFunction(\n",
              "            'suggestCharts', [key], {});\n",
              "      } catch (error) {\n",
              "        console.error('Error during call to suggestCharts:', error);\n",
              "      }\n",
              "      quickchartButtonEl.classList.remove('colab-df-spinner');\n",
              "      quickchartButtonEl.classList.add('colab-df-quickchart-complete');\n",
              "    }\n",
              "    (() => {\n",
              "      let quickchartButtonEl =\n",
              "        document.querySelector('#df-ccfca9df-bebc-4bf2-8906-7e5771a14ea0 button');\n",
              "      quickchartButtonEl.style.display =\n",
              "        google.colab.kernel.accessAllowed ? 'block' : 'none';\n",
              "    })();\n",
              "  </script>\n",
              "</div>\n",
              "    </div>\n",
              "  </div>\n"
            ]
          },
          "metadata": {},
          "execution_count": 108
        }
      ]
    },
    {
      "cell_type": "code",
      "source": [
        "icio_1 = icio.to_numpy()\n",
        "icio_2=icio_1[1:,2:].astype(float)\n",
        "icio_2"
      ],
      "metadata": {
        "id": "DhBtrP5M9vRR",
        "colab": {
          "base_uri": "https://localhost:8080/"
        },
        "outputId": "a49d06c1-3b1e-4041-8ed9-04a1eb207515"
      },
      "execution_count": 109,
      "outputs": [
        {
          "output_type": "execute_result",
          "data": {
            "text/plain": [
              "array([[     25.,     282.,     102.,       0.,       0.,       0.,\n",
              "              0.,       2.,       1.,       1.,       2.,       1.,\n",
              "            152.,       1.,       1.,       2.,     572.],\n",
              "       [    110.,    5596.,    2593.,      50.,    1246.,     295.,\n",
              "              4.,     193.,     136.,      61.,    1301.,     602.,\n",
              "           2458.,     391.,     355.,    1294.,   16685.],\n",
              "       [     85.,    2633.,    5421.,      11.,     139.,      99.,\n",
              "              0.,      17.,      42.,       8.,     144.,     270.,\n",
              "          11611.,     128.,      82.,     287.,   20977.],\n",
              "       [      0.,       4.,       1.,    4389.,    9691.,    1500.,\n",
              "              3.,       9.,       3.,      12.,      50.,      13.,\n",
              "              3.,    5509.,       5.,      67.,   21259.],\n",
              "       [      7.,     532.,     183.,    4571.,   80946.,   34018.,\n",
              "             18.,     881.,     948.,     181.,    4780.,    2978.,\n",
              "            233.,   32206.,    2370.,    6996.,  171848.],\n",
              "       [      1.,      60.,      84.,    2400.,   26110.,   34909.,\n",
              "              2.,      86.,     183.,      27.,     553.,    1042.,\n",
              "            122.,   89619.,     398.,    1455.,  157051.],\n",
              "       [      1.,      13.,       4.,      20.,      47.,       8.,\n",
              "            830.,    2088.,     200.,      43.,     164.,      29.,\n",
              "              7.,      27.,    1022.,     163.,    4666.],\n",
              "       [      4.,     217.,      93.,      30.,     574.,     168.,\n",
              "            677.,   16658.,   14548.,     148.,    3356.,    1740.,\n",
              "            115.,     327.,   25747.,    3968.,   68370.],\n",
              "       [      3.,      95.,     118.,      27.,     242.,     234.,\n",
              "           1003.,   14951.,   91821.,     107.,    1748.,    3755.,\n",
              "            169.,     610.,  166837.,    4208.,  285928.],\n",
              "       [      2.,      25.,      10.,     139.,     312.,      42.,\n",
              "             71.,     233.,      77.,    5052.,   12511.,    3110.,\n",
              "             16.,     175.,     136.,   16374.,   38285.],\n",
              "       [     18.,    1965.,     637.,     269.,    8032.,    1982.,\n",
              "             91.,    5096.,    2851.,    4449.,   91300.,   53282.,\n",
              "            545.,    2151.,    7265.,   94695.,  274628.],\n",
              "       [      7.,     312.,     392.,     136.,    1471.,    1181.,\n",
              "             41.,     976.,    2436.,    5001.,   57042.,  174441.,\n",
              "            373.,    2800.,    4089.,  342047.,  592745.],\n",
              "       [      8.,     336.,     475.,       0.,       0.,       0.,\n",
              "              0.,       0.,       0.,       0.,       0.,       0.,\n",
              "            651.,       3.,       1.,       3.,    1477.],\n",
              "       [      0.,       0.,       0.,    -182.,    4288.,    2865.,\n",
              "              0.,       0.,       0.,       0.,       0.,       0.,\n",
              "             -1.,    4052.,      -1.,      -4.,   11017.],\n",
              "       [      0.,       0.,       0.,       0.,       0.,       0.,\n",
              "             27.,     939.,    2194.,       0.,       0.,       0.,\n",
              "              5.,      19.,    4229.,      68.,    7481.],\n",
              "       [      0.,       0.,       0.,       0.,       0.,       0.,\n",
              "              0.,       0.,       0.,     547.,    7332.,   11773.,\n",
              "              4.,      57.,      56.,   21711.,   41480.],\n",
              "       [    301.,    4615.,   10864.,    9399.,   38750.,   79750.,\n",
              "           1899.,   26241.,  170488.,   22648.,   94345.,  339709.,\n",
              "              0.,       0.,       0.,       0.,  799009.],\n",
              "       [    572.,   16685.,   20977.,   21259.,  171848.,  157051.,\n",
              "           4666.,   68370.,  285928.,   38285.,  274628.,  592745.,\n",
              "              0.,       0.,       0.,       0., 1653014.]])"
            ]
          },
          "metadata": {},
          "execution_count": 109
        }
      ]
    },
    {
      "cell_type": "markdown",
      "source": [
        "### 한국 1, 중국2, 미국3, ROW4"
      ],
      "metadata": {
        "id": "AvyOqU89gls6"
      }
    },
    {
      "cell_type": "markdown",
      "source": [
        "#### 산업구조\n",
        "##### 국가별 산업 비중"
      ],
      "metadata": {
        "id": "It9gMhP-aUh5"
      }
    },
    {
      "cell_type": "markdown",
      "source": [
        "###### 가. 산업구조"
      ],
      "metadata": {
        "id": "sVgmofI4ajUz"
      }
    },
    {
      "cell_type": "code",
      "source": [
        "Mt = icio_2\n",
        "va = Mt[-2,:12].reshape([1,12]) # 산업별 부가가치\n",
        "ct = Mt[-1,:12].reshape([1,12])  # 산업별 산출액\n",
        "va"
      ],
      "metadata": {
        "id": "cgXWGQTCadT-",
        "outputId": "dae5de62-6d1b-4b94-f88a-b0b6497f5419",
        "colab": {
          "base_uri": "https://localhost:8080/"
        }
      },
      "execution_count": 110,
      "outputs": [
        {
          "output_type": "execute_result",
          "data": {
            "text/plain": [
              "array([[   301.,   4615.,  10864.,   9399.,  38750.,  79750.,   1899.,\n",
              "         26241., 170488.,  22648.,  94345., 339709.]])"
            ]
          },
          "metadata": {},
          "execution_count": 110
        }
      ]
    },
    {
      "cell_type": "code",
      "source": [
        "# 산출액기준\n",
        "\n",
        "KOR_ct = (ct[:,:3]/(ct[-1,:3].sum())*100)  # 한국 산업별 비중\n",
        "CHN_ct = (ct[:,3:6]/(ct[-1,3:6].sum())*100) # 중국 산업별 비중\n",
        "USA_ct = (ct[:,6:9]/(ct[-1,6:9].sum())*100)  # 미국 산업별 비중\n",
        "ROW_ct = (ct[:,9:12]/(ct[-1,9:12].sum())*100) # ROW 산업별 비중\n",
        "\n",
        "WORLD_ct_sm = ct[:,:12].sum()\n",
        "WORLD_agr_ct = ct[:,0]+ct[:,3]+ct[:,6]+ct[:,9]\n",
        "WORLD_manu_ct = ct[:,1]+ct[:,4]+ct[:,7]+ct[:,10]\n",
        "WORLD_ser_ct = ct[:,2]+ct[:,5]+ct[:,8]+ct[:,11]\n",
        "\n",
        "WORLD_ct = np.hstack((WORLD_agr_ct,WORLD_manu_ct,WORLD_ser_ct))/WORLD_ct_sm*100\n",
        "WORLD_ct\n",
        "IND_CT_CONS = np.vstack((KOR_ct,CHN_ct,USA_ct,ROW_ct,WORLD_ct))\n",
        "IND_CT_CONS"
      ],
      "metadata": {
        "id": "wlxrIPE6adYa",
        "outputId": "6c9093b7-863b-4128-862a-3d6d6570686b",
        "colab": {
          "base_uri": "https://localhost:8080/"
        }
      },
      "execution_count": 111,
      "outputs": [
        {
          "output_type": "execute_result",
          "data": {
            "text/plain": [
              "array([[ 1.496, 43.639, 54.865],\n",
              "       [ 6.071, 49.077, 44.851],\n",
              "       [ 1.3  , 19.046, 79.654],\n",
              "       [ 4.227, 30.324, 65.449],\n",
              "       [ 3.919, 32.155, 63.926]])"
            ]
          },
          "metadata": {},
          "execution_count": 111
        }
      ]
    },
    {
      "cell_type": "code",
      "source": [
        "# 부가가치기준\n",
        "\n",
        "KOR_va = (va[:,:3]/(va[-1,:3].sum())*100)  # 한국 산업별 비중\n",
        "CHN_va = (va[:,3:6]/(va[-1,3:6].sum())*100) # 중국 산업별 비중\n",
        "USA_va = (va[:,6:9]/(va[-1,6:9].sum())*100)  # 미국 산업별 비중\n",
        "ROW_va = (va[:,9:12]/(va[-1,9:12].sum())*100) # ROW 산업별 비중\n",
        "\n",
        "WORLD_va_sm = va[:,:12].sum()\n",
        "WORLD_agr_va = va[:,0]+va[:,3]+va[:,6]+va[:,9]\n",
        "WORLD_manu_va = va[:,1]+va[:,4]+va[:,7]+va[:,10]\n",
        "WORLD_ser_va = va[:,2]+va[:,5]+va[:,8]+va[:,11]\n",
        "\n",
        "WORLD_va = np.hstack((WORLD_agr_va,WORLD_manu_va,WORLD_ser_va))/WORLD_va_sm*100\n",
        "\n",
        "IND_VA_CONS = np.vstack((KOR_va,CHN_va,USA_va,ROW_va,WORLD_va))\n",
        "IND_VA_CONS"
      ],
      "metadata": {
        "id": "vukTda3ydSJq",
        "outputId": "59e03406-4181-4ac6-edd4-b156d9da57de",
        "colab": {
          "base_uri": "https://localhost:8080/"
        }
      },
      "execution_count": 112,
      "outputs": [
        {
          "output_type": "execute_result",
          "data": {
            "text/plain": [
              "array([[ 1.907, 29.246, 68.847],\n",
              "       [ 7.349, 30.297, 62.354],\n",
              "       [ 0.956, 13.211, 85.833],\n",
              "       [ 4.959, 20.658, 74.383],\n",
              "       [ 4.286, 20.519, 75.195]])"
            ]
          },
          "metadata": {},
          "execution_count": 112
        }
      ]
    },
    {
      "cell_type": "code",
      "source": [
        "WGT_by_CONS = np.hstack((IND_CT_CONS,IND_VA_CONS))\n",
        "WGT_by_CONS"
      ],
      "metadata": {
        "id": "Zl6ZaPonadbS",
        "outputId": "1542f032-99ee-4927-bcfd-1066c96d4572",
        "colab": {
          "base_uri": "https://localhost:8080/"
        }
      },
      "execution_count": 113,
      "outputs": [
        {
          "output_type": "execute_result",
          "data": {
            "text/plain": [
              "array([[ 1.496, 43.639, 54.865,  1.907, 29.246, 68.847],\n",
              "       [ 6.071, 49.077, 44.851,  7.349, 30.297, 62.354],\n",
              "       [ 1.3  , 19.046, 79.654,  0.956, 13.211, 85.833],\n",
              "       [ 4.227, 30.324, 65.449,  4.959, 20.658, 74.383],\n",
              "       [ 3.919, 32.155, 63.926,  4.286, 20.519, 75.195]])"
            ]
          },
          "metadata": {},
          "execution_count": 113
        }
      ]
    },
    {
      "cell_type": "code",
      "source": [
        "CONS_wgt_df = pd.DataFrame(WGT_by_CONS.round(1), columns = [['산출액기준','산출액기준','산출액기준','부가가치기준','부가가치기준','부가가치기준'],\n",
        "                                                         ['농업', '제조업', '서비스업','농업', '제조업', '서비스업']],\n",
        "                     index=['한국', '중국', '미국', 'ROW', '전세계']) # 변수명 붙여서 pandas로 내보내기\n",
        "CONS_wgt_df"
      ],
      "metadata": {
        "id": "Z8l2GiigkgBc",
        "outputId": "a061c52b-8604-46d5-fbf4-2ed77ac4fe08",
        "colab": {
          "base_uri": "https://localhost:8080/",
          "height": 237
        }
      },
      "execution_count": 114,
      "outputs": [
        {
          "output_type": "execute_result",
          "data": {
            "text/plain": [
              "    산출액기준             부가가치기준            \n",
              "       농업   제조업  서비스업     농업   제조업  서비스업\n",
              "한국    1.5  43.6  54.9    1.9  29.2  68.8\n",
              "중국    6.1  49.1  44.9    7.3  30.3  62.4\n",
              "미국    1.3  19.0  79.7    1.0  13.2  85.8\n",
              "ROW   4.2  30.3  65.4    5.0  20.7  74.4\n",
              "전세계   3.9  32.2  63.9    4.3  20.5  75.2"
            ],
            "text/html": [
              "\n",
              "  <div id=\"df-22f21d5a-0641-4877-a981-91d9b2d07083\" class=\"colab-df-container\">\n",
              "    <div>\n",
              "<style scoped>\n",
              "    .dataframe tbody tr th:only-of-type {\n",
              "        vertical-align: middle;\n",
              "    }\n",
              "\n",
              "    .dataframe tbody tr th {\n",
              "        vertical-align: top;\n",
              "    }\n",
              "\n",
              "    .dataframe thead tr th {\n",
              "        text-align: left;\n",
              "    }\n",
              "</style>\n",
              "<table border=\"1\" class=\"dataframe\">\n",
              "  <thead>\n",
              "    <tr>\n",
              "      <th></th>\n",
              "      <th colspan=\"3\" halign=\"left\">산출액기준</th>\n",
              "      <th colspan=\"3\" halign=\"left\">부가가치기준</th>\n",
              "    </tr>\n",
              "    <tr>\n",
              "      <th></th>\n",
              "      <th>농업</th>\n",
              "      <th>제조업</th>\n",
              "      <th>서비스업</th>\n",
              "      <th>농업</th>\n",
              "      <th>제조업</th>\n",
              "      <th>서비스업</th>\n",
              "    </tr>\n",
              "  </thead>\n",
              "  <tbody>\n",
              "    <tr>\n",
              "      <th>한국</th>\n",
              "      <td>1.5</td>\n",
              "      <td>43.6</td>\n",
              "      <td>54.9</td>\n",
              "      <td>1.9</td>\n",
              "      <td>29.2</td>\n",
              "      <td>68.8</td>\n",
              "    </tr>\n",
              "    <tr>\n",
              "      <th>중국</th>\n",
              "      <td>6.1</td>\n",
              "      <td>49.1</td>\n",
              "      <td>44.9</td>\n",
              "      <td>7.3</td>\n",
              "      <td>30.3</td>\n",
              "      <td>62.4</td>\n",
              "    </tr>\n",
              "    <tr>\n",
              "      <th>미국</th>\n",
              "      <td>1.3</td>\n",
              "      <td>19.0</td>\n",
              "      <td>79.7</td>\n",
              "      <td>1.0</td>\n",
              "      <td>13.2</td>\n",
              "      <td>85.8</td>\n",
              "    </tr>\n",
              "    <tr>\n",
              "      <th>ROW</th>\n",
              "      <td>4.2</td>\n",
              "      <td>30.3</td>\n",
              "      <td>65.4</td>\n",
              "      <td>5.0</td>\n",
              "      <td>20.7</td>\n",
              "      <td>74.4</td>\n",
              "    </tr>\n",
              "    <tr>\n",
              "      <th>전세계</th>\n",
              "      <td>3.9</td>\n",
              "      <td>32.2</td>\n",
              "      <td>63.9</td>\n",
              "      <td>4.3</td>\n",
              "      <td>20.5</td>\n",
              "      <td>75.2</td>\n",
              "    </tr>\n",
              "  </tbody>\n",
              "</table>\n",
              "</div>\n",
              "    <div class=\"colab-df-buttons\">\n",
              "\n",
              "  <div class=\"colab-df-container\">\n",
              "    <button class=\"colab-df-convert\" onclick=\"convertToInteractive('df-22f21d5a-0641-4877-a981-91d9b2d07083')\"\n",
              "            title=\"Convert this dataframe to an interactive table.\"\n",
              "            style=\"display:none;\">\n",
              "\n",
              "  <svg xmlns=\"http://www.w3.org/2000/svg\" height=\"24px\" viewBox=\"0 -960 960 960\">\n",
              "    <path d=\"M120-120v-720h720v720H120Zm60-500h600v-160H180v160Zm220 220h160v-160H400v160Zm0 220h160v-160H400v160ZM180-400h160v-160H180v160Zm440 0h160v-160H620v160ZM180-180h160v-160H180v160Zm440 0h160v-160H620v160Z\"/>\n",
              "  </svg>\n",
              "    </button>\n",
              "\n",
              "  <style>\n",
              "    .colab-df-container {\n",
              "      display:flex;\n",
              "      gap: 12px;\n",
              "    }\n",
              "\n",
              "    .colab-df-convert {\n",
              "      background-color: #E8F0FE;\n",
              "      border: none;\n",
              "      border-radius: 50%;\n",
              "      cursor: pointer;\n",
              "      display: none;\n",
              "      fill: #1967D2;\n",
              "      height: 32px;\n",
              "      padding: 0 0 0 0;\n",
              "      width: 32px;\n",
              "    }\n",
              "\n",
              "    .colab-df-convert:hover {\n",
              "      background-color: #E2EBFA;\n",
              "      box-shadow: 0px 1px 2px rgba(60, 64, 67, 0.3), 0px 1px 3px 1px rgba(60, 64, 67, 0.15);\n",
              "      fill: #174EA6;\n",
              "    }\n",
              "\n",
              "    .colab-df-buttons div {\n",
              "      margin-bottom: 4px;\n",
              "    }\n",
              "\n",
              "    [theme=dark] .colab-df-convert {\n",
              "      background-color: #3B4455;\n",
              "      fill: #D2E3FC;\n",
              "    }\n",
              "\n",
              "    [theme=dark] .colab-df-convert:hover {\n",
              "      background-color: #434B5C;\n",
              "      box-shadow: 0px 1px 3px 1px rgba(0, 0, 0, 0.15);\n",
              "      filter: drop-shadow(0px 1px 2px rgba(0, 0, 0, 0.3));\n",
              "      fill: #FFFFFF;\n",
              "    }\n",
              "  </style>\n",
              "\n",
              "    <script>\n",
              "      const buttonEl =\n",
              "        document.querySelector('#df-22f21d5a-0641-4877-a981-91d9b2d07083 button.colab-df-convert');\n",
              "      buttonEl.style.display =\n",
              "        google.colab.kernel.accessAllowed ? 'block' : 'none';\n",
              "\n",
              "      async function convertToInteractive(key) {\n",
              "        const element = document.querySelector('#df-22f21d5a-0641-4877-a981-91d9b2d07083');\n",
              "        const dataTable =\n",
              "          await google.colab.kernel.invokeFunction('convertToInteractive',\n",
              "                                                    [key], {});\n",
              "        if (!dataTable) return;\n",
              "\n",
              "        const docLinkHtml = 'Like what you see? Visit the ' +\n",
              "          '<a target=\"_blank\" href=https://colab.research.google.com/notebooks/data_table.ipynb>data table notebook</a>'\n",
              "          + ' to learn more about interactive tables.';\n",
              "        element.innerHTML = '';\n",
              "        dataTable['output_type'] = 'display_data';\n",
              "        await google.colab.output.renderOutput(dataTable, element);\n",
              "        const docLink = document.createElement('div');\n",
              "        docLink.innerHTML = docLinkHtml;\n",
              "        element.appendChild(docLink);\n",
              "      }\n",
              "    </script>\n",
              "  </div>\n",
              "\n",
              "\n",
              "<div id=\"df-5fcb40ba-6acc-484f-a170-0860fe4c3c72\">\n",
              "  <button class=\"colab-df-quickchart\" onclick=\"quickchart('df-5fcb40ba-6acc-484f-a170-0860fe4c3c72')\"\n",
              "            title=\"Suggest charts.\"\n",
              "            style=\"display:none;\">\n",
              "\n",
              "<svg xmlns=\"http://www.w3.org/2000/svg\" height=\"24px\"viewBox=\"0 0 24 24\"\n",
              "     width=\"24px\">\n",
              "    <g>\n",
              "        <path d=\"M19 3H5c-1.1 0-2 .9-2 2v14c0 1.1.9 2 2 2h14c1.1 0 2-.9 2-2V5c0-1.1-.9-2-2-2zM9 17H7v-7h2v7zm4 0h-2V7h2v10zm4 0h-2v-4h2v4z\"/>\n",
              "    </g>\n",
              "</svg>\n",
              "  </button>\n",
              "\n",
              "<style>\n",
              "  .colab-df-quickchart {\n",
              "      --bg-color: #E8F0FE;\n",
              "      --fill-color: #1967D2;\n",
              "      --hover-bg-color: #E2EBFA;\n",
              "      --hover-fill-color: #174EA6;\n",
              "      --disabled-fill-color: #AAA;\n",
              "      --disabled-bg-color: #DDD;\n",
              "  }\n",
              "\n",
              "  [theme=dark] .colab-df-quickchart {\n",
              "      --bg-color: #3B4455;\n",
              "      --fill-color: #D2E3FC;\n",
              "      --hover-bg-color: #434B5C;\n",
              "      --hover-fill-color: #FFFFFF;\n",
              "      --disabled-bg-color: #3B4455;\n",
              "      --disabled-fill-color: #666;\n",
              "  }\n",
              "\n",
              "  .colab-df-quickchart {\n",
              "    background-color: var(--bg-color);\n",
              "    border: none;\n",
              "    border-radius: 50%;\n",
              "    cursor: pointer;\n",
              "    display: none;\n",
              "    fill: var(--fill-color);\n",
              "    height: 32px;\n",
              "    padding: 0;\n",
              "    width: 32px;\n",
              "  }\n",
              "\n",
              "  .colab-df-quickchart:hover {\n",
              "    background-color: var(--hover-bg-color);\n",
              "    box-shadow: 0 1px 2px rgba(60, 64, 67, 0.3), 0 1px 3px 1px rgba(60, 64, 67, 0.15);\n",
              "    fill: var(--button-hover-fill-color);\n",
              "  }\n",
              "\n",
              "  .colab-df-quickchart-complete:disabled,\n",
              "  .colab-df-quickchart-complete:disabled:hover {\n",
              "    background-color: var(--disabled-bg-color);\n",
              "    fill: var(--disabled-fill-color);\n",
              "    box-shadow: none;\n",
              "  }\n",
              "\n",
              "  .colab-df-spinner {\n",
              "    border: 2px solid var(--fill-color);\n",
              "    border-color: transparent;\n",
              "    border-bottom-color: var(--fill-color);\n",
              "    animation:\n",
              "      spin 1s steps(1) infinite;\n",
              "  }\n",
              "\n",
              "  @keyframes spin {\n",
              "    0% {\n",
              "      border-color: transparent;\n",
              "      border-bottom-color: var(--fill-color);\n",
              "      border-left-color: var(--fill-color);\n",
              "    }\n",
              "    20% {\n",
              "      border-color: transparent;\n",
              "      border-left-color: var(--fill-color);\n",
              "      border-top-color: var(--fill-color);\n",
              "    }\n",
              "    30% {\n",
              "      border-color: transparent;\n",
              "      border-left-color: var(--fill-color);\n",
              "      border-top-color: var(--fill-color);\n",
              "      border-right-color: var(--fill-color);\n",
              "    }\n",
              "    40% {\n",
              "      border-color: transparent;\n",
              "      border-right-color: var(--fill-color);\n",
              "      border-top-color: var(--fill-color);\n",
              "    }\n",
              "    60% {\n",
              "      border-color: transparent;\n",
              "      border-right-color: var(--fill-color);\n",
              "    }\n",
              "    80% {\n",
              "      border-color: transparent;\n",
              "      border-right-color: var(--fill-color);\n",
              "      border-bottom-color: var(--fill-color);\n",
              "    }\n",
              "    90% {\n",
              "      border-color: transparent;\n",
              "      border-bottom-color: var(--fill-color);\n",
              "    }\n",
              "  }\n",
              "</style>\n",
              "\n",
              "  <script>\n",
              "    async function quickchart(key) {\n",
              "      const quickchartButtonEl =\n",
              "        document.querySelector('#' + key + ' button');\n",
              "      quickchartButtonEl.disabled = true;  // To prevent multiple clicks.\n",
              "      quickchartButtonEl.classList.add('colab-df-spinner');\n",
              "      try {\n",
              "        const charts = await google.colab.kernel.invokeFunction(\n",
              "            'suggestCharts', [key], {});\n",
              "      } catch (error) {\n",
              "        console.error('Error during call to suggestCharts:', error);\n",
              "      }\n",
              "      quickchartButtonEl.classList.remove('colab-df-spinner');\n",
              "      quickchartButtonEl.classList.add('colab-df-quickchart-complete');\n",
              "    }\n",
              "    (() => {\n",
              "      let quickchartButtonEl =\n",
              "        document.querySelector('#df-5fcb40ba-6acc-484f-a170-0860fe4c3c72 button');\n",
              "      quickchartButtonEl.style.display =\n",
              "        google.colab.kernel.accessAllowed ? 'block' : 'none';\n",
              "    })();\n",
              "  </script>\n",
              "</div>\n",
              "    </div>\n",
              "  </div>\n"
            ]
          },
          "metadata": {},
          "execution_count": 114
        }
      ]
    },
    {
      "cell_type": "code",
      "source": [
        "CONS_wgt_df.to_csv('국가별 산업 비중.csv', encoding='utf_8-sig')"
      ],
      "metadata": {
        "id": "PiY8Ei5dldr8"
      },
      "execution_count": 115,
      "outputs": []
    },
    {
      "cell_type": "markdown",
      "source": [
        "#### 산업별국가비중\n",
        "###### 산출액기준"
      ],
      "metadata": {
        "id": "H6yza3xnmKpL"
      }
    },
    {
      "cell_type": "code",
      "source": [
        "agr_ct_cons = np.hstack((ct[:,0],ct[:,3],ct[:,6],ct[:,9]))\n",
        "manu_ct_cons = np.hstack((ct[:,1],ct[:,4],ct[:,7],ct[:,10]))\n",
        "ser_ct_cons = np.hstack((ct[:,2],ct[:,5],ct[:,8],ct[:,11]))\n",
        "\n",
        "all_ct_cons = np.hstack((ct[-1,:3].sum(),ct[-1,3:6].sum(),ct[-1,6:9].sum(),ct[-1,9:12].sum()))\n",
        "all_ct_cons"
      ],
      "metadata": {
        "id": "xxcSS1pSmPt6",
        "outputId": "173bf2b1-f86e-40ee-9bc8-71064bcf499d",
        "colab": {
          "base_uri": "https://localhost:8080/"
        }
      },
      "execution_count": 116,
      "outputs": [
        {
          "output_type": "execute_result",
          "data": {
            "text/plain": [
              "array([ 38234., 350158., 358964., 905658.])"
            ]
          },
          "metadata": {},
          "execution_count": 116
        }
      ]
    },
    {
      "cell_type": "code",
      "source": [
        "agr_ct_cons_wgt = (agr_ct_cons/agr_ct_cons.sum())*100\n",
        "manu_ct_cons_wgt = (manu_ct_cons/manu_ct_cons.sum())*100\n",
        "ser_ct_cons_wgt = (ser_ct_cons/ser_ct_cons.sum())*100\n",
        "all_ct_cons_wgt = (all_ct_cons/all_ct_cons.sum())*100\n",
        "\n",
        "cons_ct_ind = np.vstack((agr_ct_cons_wgt,manu_ct_cons_wgt,ser_ct_cons_wgt,all_ct_cons_wgt,))\n",
        "cons_ct_ind"
      ],
      "metadata": {
        "id": "IOXYO6iYmPrT",
        "outputId": "50f4eea8-a660-4419-9643-60071fba1c77",
        "colab": {
          "base_uri": "https://localhost:8080/"
        }
      },
      "execution_count": 117,
      "outputs": [
        {
          "output_type": "execute_result",
          "data": {
            "text/plain": [
              "array([[ 0.883, 32.816,  7.203, 59.098],\n",
              "       [ 3.139, 32.331, 12.863, 51.667],\n",
              "       [ 1.985, 14.862, 27.059, 56.094],\n",
              "       [ 2.313, 21.183, 21.716, 54.788]])"
            ]
          },
          "metadata": {},
          "execution_count": 117
        }
      ]
    },
    {
      "cell_type": "markdown",
      "source": [
        "###### 부가가치기준"
      ],
      "metadata": {
        "id": "bhb7IueeqHc9"
      }
    },
    {
      "cell_type": "code",
      "source": [
        "agr_va_cons = np.hstack((va[:,0],va[:,3],va[:,6],va[:,9]))\n",
        "manu_va_cons = np.hstack((va[:,1],va[:,4],va[:,7],va[:,10]))\n",
        "ser_va_cons = np.hstack((va[:,2],va[:,5],va[:,8],va[:,11]))\n",
        "\n",
        "all_va_cons = np.hstack((va[-1,:3].sum(),va[-1,3:6].sum(),va[-1,6:9].sum(),va[-1,9:12].sum()))\n",
        "all_va_cons"
      ],
      "metadata": {
        "id": "ydDscKAXmPpG",
        "outputId": "51cd01b6-fa51-4f92-ddda-a9841d72c6e2",
        "colab": {
          "base_uri": "https://localhost:8080/"
        }
      },
      "execution_count": 118,
      "outputs": [
        {
          "output_type": "execute_result",
          "data": {
            "text/plain": [
              "array([ 15780., 127899., 198628., 456702.])"
            ]
          },
          "metadata": {},
          "execution_count": 118
        }
      ]
    },
    {
      "cell_type": "code",
      "source": [
        "agr_va_cons_wgt = (agr_va_cons/agr_va_cons.sum())*100\n",
        "manu_va_cons_wgt = (manu_va_cons/manu_va_cons.sum())*100\n",
        "ser_va_cons_wgt = (ser_va_cons/ser_va_cons.sum())*100\n",
        "all_va_cons_wgt = (all_va_cons/all_va_cons.sum())*100\n",
        "\n",
        "cons_va_ind = np.vstack((agr_va_cons_wgt,manu_va_cons_wgt,ser_va_cons_wgt,all_va_cons_wgt,))\n",
        "cons_va_ind"
      ],
      "metadata": {
        "id": "XrONOnOTmPm4",
        "outputId": "4f4a3636-1539-4191-c4b9-2ec21dbdb56b",
        "colab": {
          "base_uri": "https://localhost:8080/"
        }
      },
      "execution_count": 119,
      "outputs": [
        {
          "output_type": "execute_result",
          "data": {
            "text/plain": [
              "array([[ 0.879, 27.445,  5.545, 66.131],\n",
              "       [ 2.815, 23.635, 16.005, 57.545],\n",
              "       [ 1.808, 13.274, 28.376, 56.542],\n",
              "       [ 1.975, 16.007, 24.859, 57.159]])"
            ]
          },
          "metadata": {},
          "execution_count": 119
        }
      ]
    },
    {
      "cell_type": "code",
      "source": [
        "WGT_by_INDS = np.hstack((cons_ct_ind,cons_va_ind))\n",
        "WGT_by_INDS"
      ],
      "metadata": {
        "id": "h6jkMSswmPkq",
        "colab": {
          "base_uri": "https://localhost:8080/"
        },
        "outputId": "b071957b-cb8f-49f7-b00c-19bd8cfaeccf"
      },
      "execution_count": 120,
      "outputs": [
        {
          "output_type": "execute_result",
          "data": {
            "text/plain": [
              "array([[ 0.883, 32.816,  7.203, 59.098,  0.879, 27.445,  5.545, 66.131],\n",
              "       [ 3.139, 32.331, 12.863, 51.667,  2.815, 23.635, 16.005, 57.545],\n",
              "       [ 1.985, 14.862, 27.059, 56.094,  1.808, 13.274, 28.376, 56.542],\n",
              "       [ 2.313, 21.183, 21.716, 54.788,  1.975, 16.007, 24.859, 57.159]])"
            ]
          },
          "metadata": {},
          "execution_count": 120
        }
      ]
    },
    {
      "cell_type": "code",
      "source": [
        "INDS_wgt_df = pd.DataFrame(WGT_by_INDS.round(1), columns = [['산출액기준','산출액기준','산출액기준','산출액기준','부가가치기준','부가가치기준','부가가치기준','부가가치기준'],\n",
        "                                                         ['한국', '중국', '미국','ROW', '한국', '중국', '미국','ROW']],\n",
        "                     index=['농업', '제조업', '서비스업', '전부문']) # 변수명 붙여서 pandas로 내보내기\n",
        "INDS_wgt_df"
      ],
      "metadata": {
        "id": "-wPNh_ihmPht",
        "colab": {
          "base_uri": "https://localhost:8080/",
          "height": 206
        },
        "outputId": "05b47cab-16c2-472d-ad64-d7bc99dd1b56"
      },
      "execution_count": 121,
      "outputs": [
        {
          "output_type": "execute_result",
          "data": {
            "text/plain": [
              "     산출액기준                   부가가치기준                  \n",
              "        한국    중국    미국   ROW     한국    중국    미국   ROW\n",
              "농업     0.9  32.8   7.2  59.1    0.9  27.4   5.5  66.1\n",
              "제조업    3.1  32.3  12.9  51.7    2.8  23.6  16.0  57.5\n",
              "서비스업   2.0  14.9  27.1  56.1    1.8  13.3  28.4  56.5\n",
              "전부문    2.3  21.2  21.7  54.8    2.0  16.0  24.9  57.2"
            ],
            "text/html": [
              "\n",
              "  <div id=\"df-2f7e7e83-20e1-45bf-8b81-d69c42a27eec\" class=\"colab-df-container\">\n",
              "    <div>\n",
              "<style scoped>\n",
              "    .dataframe tbody tr th:only-of-type {\n",
              "        vertical-align: middle;\n",
              "    }\n",
              "\n",
              "    .dataframe tbody tr th {\n",
              "        vertical-align: top;\n",
              "    }\n",
              "\n",
              "    .dataframe thead tr th {\n",
              "        text-align: left;\n",
              "    }\n",
              "</style>\n",
              "<table border=\"1\" class=\"dataframe\">\n",
              "  <thead>\n",
              "    <tr>\n",
              "      <th></th>\n",
              "      <th colspan=\"4\" halign=\"left\">산출액기준</th>\n",
              "      <th colspan=\"4\" halign=\"left\">부가가치기준</th>\n",
              "    </tr>\n",
              "    <tr>\n",
              "      <th></th>\n",
              "      <th>한국</th>\n",
              "      <th>중국</th>\n",
              "      <th>미국</th>\n",
              "      <th>ROW</th>\n",
              "      <th>한국</th>\n",
              "      <th>중국</th>\n",
              "      <th>미국</th>\n",
              "      <th>ROW</th>\n",
              "    </tr>\n",
              "  </thead>\n",
              "  <tbody>\n",
              "    <tr>\n",
              "      <th>농업</th>\n",
              "      <td>0.9</td>\n",
              "      <td>32.8</td>\n",
              "      <td>7.2</td>\n",
              "      <td>59.1</td>\n",
              "      <td>0.9</td>\n",
              "      <td>27.4</td>\n",
              "      <td>5.5</td>\n",
              "      <td>66.1</td>\n",
              "    </tr>\n",
              "    <tr>\n",
              "      <th>제조업</th>\n",
              "      <td>3.1</td>\n",
              "      <td>32.3</td>\n",
              "      <td>12.9</td>\n",
              "      <td>51.7</td>\n",
              "      <td>2.8</td>\n",
              "      <td>23.6</td>\n",
              "      <td>16.0</td>\n",
              "      <td>57.5</td>\n",
              "    </tr>\n",
              "    <tr>\n",
              "      <th>서비스업</th>\n",
              "      <td>2.0</td>\n",
              "      <td>14.9</td>\n",
              "      <td>27.1</td>\n",
              "      <td>56.1</td>\n",
              "      <td>1.8</td>\n",
              "      <td>13.3</td>\n",
              "      <td>28.4</td>\n",
              "      <td>56.5</td>\n",
              "    </tr>\n",
              "    <tr>\n",
              "      <th>전부문</th>\n",
              "      <td>2.3</td>\n",
              "      <td>21.2</td>\n",
              "      <td>21.7</td>\n",
              "      <td>54.8</td>\n",
              "      <td>2.0</td>\n",
              "      <td>16.0</td>\n",
              "      <td>24.9</td>\n",
              "      <td>57.2</td>\n",
              "    </tr>\n",
              "  </tbody>\n",
              "</table>\n",
              "</div>\n",
              "    <div class=\"colab-df-buttons\">\n",
              "\n",
              "  <div class=\"colab-df-container\">\n",
              "    <button class=\"colab-df-convert\" onclick=\"convertToInteractive('df-2f7e7e83-20e1-45bf-8b81-d69c42a27eec')\"\n",
              "            title=\"Convert this dataframe to an interactive table.\"\n",
              "            style=\"display:none;\">\n",
              "\n",
              "  <svg xmlns=\"http://www.w3.org/2000/svg\" height=\"24px\" viewBox=\"0 -960 960 960\">\n",
              "    <path d=\"M120-120v-720h720v720H120Zm60-500h600v-160H180v160Zm220 220h160v-160H400v160Zm0 220h160v-160H400v160ZM180-400h160v-160H180v160Zm440 0h160v-160H620v160ZM180-180h160v-160H180v160Zm440 0h160v-160H620v160Z\"/>\n",
              "  </svg>\n",
              "    </button>\n",
              "\n",
              "  <style>\n",
              "    .colab-df-container {\n",
              "      display:flex;\n",
              "      gap: 12px;\n",
              "    }\n",
              "\n",
              "    .colab-df-convert {\n",
              "      background-color: #E8F0FE;\n",
              "      border: none;\n",
              "      border-radius: 50%;\n",
              "      cursor: pointer;\n",
              "      display: none;\n",
              "      fill: #1967D2;\n",
              "      height: 32px;\n",
              "      padding: 0 0 0 0;\n",
              "      width: 32px;\n",
              "    }\n",
              "\n",
              "    .colab-df-convert:hover {\n",
              "      background-color: #E2EBFA;\n",
              "      box-shadow: 0px 1px 2px rgba(60, 64, 67, 0.3), 0px 1px 3px 1px rgba(60, 64, 67, 0.15);\n",
              "      fill: #174EA6;\n",
              "    }\n",
              "\n",
              "    .colab-df-buttons div {\n",
              "      margin-bottom: 4px;\n",
              "    }\n",
              "\n",
              "    [theme=dark] .colab-df-convert {\n",
              "      background-color: #3B4455;\n",
              "      fill: #D2E3FC;\n",
              "    }\n",
              "\n",
              "    [theme=dark] .colab-df-convert:hover {\n",
              "      background-color: #434B5C;\n",
              "      box-shadow: 0px 1px 3px 1px rgba(0, 0, 0, 0.15);\n",
              "      filter: drop-shadow(0px 1px 2px rgba(0, 0, 0, 0.3));\n",
              "      fill: #FFFFFF;\n",
              "    }\n",
              "  </style>\n",
              "\n",
              "    <script>\n",
              "      const buttonEl =\n",
              "        document.querySelector('#df-2f7e7e83-20e1-45bf-8b81-d69c42a27eec button.colab-df-convert');\n",
              "      buttonEl.style.display =\n",
              "        google.colab.kernel.accessAllowed ? 'block' : 'none';\n",
              "\n",
              "      async function convertToInteractive(key) {\n",
              "        const element = document.querySelector('#df-2f7e7e83-20e1-45bf-8b81-d69c42a27eec');\n",
              "        const dataTable =\n",
              "          await google.colab.kernel.invokeFunction('convertToInteractive',\n",
              "                                                    [key], {});\n",
              "        if (!dataTable) return;\n",
              "\n",
              "        const docLinkHtml = 'Like what you see? Visit the ' +\n",
              "          '<a target=\"_blank\" href=https://colab.research.google.com/notebooks/data_table.ipynb>data table notebook</a>'\n",
              "          + ' to learn more about interactive tables.';\n",
              "        element.innerHTML = '';\n",
              "        dataTable['output_type'] = 'display_data';\n",
              "        await google.colab.output.renderOutput(dataTable, element);\n",
              "        const docLink = document.createElement('div');\n",
              "        docLink.innerHTML = docLinkHtml;\n",
              "        element.appendChild(docLink);\n",
              "      }\n",
              "    </script>\n",
              "  </div>\n",
              "\n",
              "\n",
              "<div id=\"df-0ffc1787-429b-4373-b90b-39db8cf75633\">\n",
              "  <button class=\"colab-df-quickchart\" onclick=\"quickchart('df-0ffc1787-429b-4373-b90b-39db8cf75633')\"\n",
              "            title=\"Suggest charts.\"\n",
              "            style=\"display:none;\">\n",
              "\n",
              "<svg xmlns=\"http://www.w3.org/2000/svg\" height=\"24px\"viewBox=\"0 0 24 24\"\n",
              "     width=\"24px\">\n",
              "    <g>\n",
              "        <path d=\"M19 3H5c-1.1 0-2 .9-2 2v14c0 1.1.9 2 2 2h14c1.1 0 2-.9 2-2V5c0-1.1-.9-2-2-2zM9 17H7v-7h2v7zm4 0h-2V7h2v10zm4 0h-2v-4h2v4z\"/>\n",
              "    </g>\n",
              "</svg>\n",
              "  </button>\n",
              "\n",
              "<style>\n",
              "  .colab-df-quickchart {\n",
              "      --bg-color: #E8F0FE;\n",
              "      --fill-color: #1967D2;\n",
              "      --hover-bg-color: #E2EBFA;\n",
              "      --hover-fill-color: #174EA6;\n",
              "      --disabled-fill-color: #AAA;\n",
              "      --disabled-bg-color: #DDD;\n",
              "  }\n",
              "\n",
              "  [theme=dark] .colab-df-quickchart {\n",
              "      --bg-color: #3B4455;\n",
              "      --fill-color: #D2E3FC;\n",
              "      --hover-bg-color: #434B5C;\n",
              "      --hover-fill-color: #FFFFFF;\n",
              "      --disabled-bg-color: #3B4455;\n",
              "      --disabled-fill-color: #666;\n",
              "  }\n",
              "\n",
              "  .colab-df-quickchart {\n",
              "    background-color: var(--bg-color);\n",
              "    border: none;\n",
              "    border-radius: 50%;\n",
              "    cursor: pointer;\n",
              "    display: none;\n",
              "    fill: var(--fill-color);\n",
              "    height: 32px;\n",
              "    padding: 0;\n",
              "    width: 32px;\n",
              "  }\n",
              "\n",
              "  .colab-df-quickchart:hover {\n",
              "    background-color: var(--hover-bg-color);\n",
              "    box-shadow: 0 1px 2px rgba(60, 64, 67, 0.3), 0 1px 3px 1px rgba(60, 64, 67, 0.15);\n",
              "    fill: var(--button-hover-fill-color);\n",
              "  }\n",
              "\n",
              "  .colab-df-quickchart-complete:disabled,\n",
              "  .colab-df-quickchart-complete:disabled:hover {\n",
              "    background-color: var(--disabled-bg-color);\n",
              "    fill: var(--disabled-fill-color);\n",
              "    box-shadow: none;\n",
              "  }\n",
              "\n",
              "  .colab-df-spinner {\n",
              "    border: 2px solid var(--fill-color);\n",
              "    border-color: transparent;\n",
              "    border-bottom-color: var(--fill-color);\n",
              "    animation:\n",
              "      spin 1s steps(1) infinite;\n",
              "  }\n",
              "\n",
              "  @keyframes spin {\n",
              "    0% {\n",
              "      border-color: transparent;\n",
              "      border-bottom-color: var(--fill-color);\n",
              "      border-left-color: var(--fill-color);\n",
              "    }\n",
              "    20% {\n",
              "      border-color: transparent;\n",
              "      border-left-color: var(--fill-color);\n",
              "      border-top-color: var(--fill-color);\n",
              "    }\n",
              "    30% {\n",
              "      border-color: transparent;\n",
              "      border-left-color: var(--fill-color);\n",
              "      border-top-color: var(--fill-color);\n",
              "      border-right-color: var(--fill-color);\n",
              "    }\n",
              "    40% {\n",
              "      border-color: transparent;\n",
              "      border-right-color: var(--fill-color);\n",
              "      border-top-color: var(--fill-color);\n",
              "    }\n",
              "    60% {\n",
              "      border-color: transparent;\n",
              "      border-right-color: var(--fill-color);\n",
              "    }\n",
              "    80% {\n",
              "      border-color: transparent;\n",
              "      border-right-color: var(--fill-color);\n",
              "      border-bottom-color: var(--fill-color);\n",
              "    }\n",
              "    90% {\n",
              "      border-color: transparent;\n",
              "      border-bottom-color: var(--fill-color);\n",
              "    }\n",
              "  }\n",
              "</style>\n",
              "\n",
              "  <script>\n",
              "    async function quickchart(key) {\n",
              "      const quickchartButtonEl =\n",
              "        document.querySelector('#' + key + ' button');\n",
              "      quickchartButtonEl.disabled = true;  // To prevent multiple clicks.\n",
              "      quickchartButtonEl.classList.add('colab-df-spinner');\n",
              "      try {\n",
              "        const charts = await google.colab.kernel.invokeFunction(\n",
              "            'suggestCharts', [key], {});\n",
              "      } catch (error) {\n",
              "        console.error('Error during call to suggestCharts:', error);\n",
              "      }\n",
              "      quickchartButtonEl.classList.remove('colab-df-spinner');\n",
              "      quickchartButtonEl.classList.add('colab-df-quickchart-complete');\n",
              "    }\n",
              "    (() => {\n",
              "      let quickchartButtonEl =\n",
              "        document.querySelector('#df-0ffc1787-429b-4373-b90b-39db8cf75633 button');\n",
              "      quickchartButtonEl.style.display =\n",
              "        google.colab.kernel.accessAllowed ? 'block' : 'none';\n",
              "    })();\n",
              "  </script>\n",
              "</div>\n",
              "    </div>\n",
              "  </div>\n"
            ]
          },
          "metadata": {},
          "execution_count": 121
        }
      ]
    },
    {
      "cell_type": "code",
      "source": [
        "INDS_wgt_df.to_csv('산업별 국가 비중.csv', encoding='utf_8-sig')"
      ],
      "metadata": {
        "id": "PB3_JBIWMPo1"
      },
      "execution_count": 122,
      "outputs": []
    },
    {
      "cell_type": "markdown",
      "source": [
        "## 국가별 투입배분구조 및 수출입은 각 산업별로 구할 필요가 없으므로 각 국의 3개 산업을 통합하여 표를 재구성"
      ],
      "metadata": {
        "id": "75Voc2UZu81d"
      }
    },
    {
      "cell_type": "code",
      "source": [
        "cd_for_nae = np.array([[1,1,1,0,0,0,0,0,0,0,0,0],  # 행렬 곱을 이용한 부문 통합\n",
        "       [0,0,0,1,1,1,0,0,0,0,0,0],\n",
        "       [0,0,0,0,0,0,1,1,1,0,0,0],\n",
        "       [0,0,0,0,0,0,0,0,0,1,1,1]])"
      ],
      "metadata": {
        "id": "-j8VsyfJvMEE"
      },
      "execution_count": 123,
      "outputs": []
    },
    {
      "cell_type": "code",
      "source": [
        "A_nae_rw = cd_for_nae@Mt[:12,:12]\n",
        "A_nae_rw"
      ],
      "metadata": {
        "colab": {
          "base_uri": "https://localhost:8080/"
        },
        "id": "yUCj2x8CvMG7",
        "outputId": "328b61eb-e9a0-4418-a4e7-ad6afab84bcc"
      },
      "execution_count": 124,
      "outputs": [
        {
          "output_type": "execute_result",
          "data": {
            "text/plain": [
              "array([[   220.,   8511.,   8116.,     61.,   1385.,    394.,      4.,\n",
              "           212.,    179.,     70.,   1447.,    873.],\n",
              "       [     8.,    596.,    268.,  11360., 116747.,  70427.,     23.,\n",
              "           976.,   1134.,    220.,   5383.,   4033.],\n",
              "       [     8.,    325.,    215.,     77.,    863.,    410.,   2510.,\n",
              "         33697., 106569.,    298.,   5268.,   5524.],\n",
              "       [    27.,   2302.,   1039.,    544.,   9815.,   3205.,    203.,\n",
              "          6305.,   5364.,  14502., 160853., 230833.]])"
            ]
          },
          "metadata": {},
          "execution_count": 124
        }
      ]
    },
    {
      "cell_type": "code",
      "source": [
        "A_nae_col = A_nae_rw@cd_for_nae.T\n",
        "A_nae_col"
      ],
      "metadata": {
        "colab": {
          "base_uri": "https://localhost:8080/"
        },
        "id": "JOlCK0DOwbn7",
        "outputId": "c0296791-e804-44d8-9135-01560582001c"
      },
      "execution_count": 125,
      "outputs": [
        {
          "output_type": "execute_result",
          "data": {
            "text/plain": [
              "array([[ 16847.,   1840.,    395.,   2390.],\n",
              "       [   872., 198534.,   2133.,   9636.],\n",
              "       [   548.,   1350., 142776.,  11090.],\n",
              "       [  3368.,  13564.,  11872., 406188.]])"
            ]
          },
          "metadata": {},
          "execution_count": 125
        }
      ]
    },
    {
      "cell_type": "code",
      "source": [
        "va_rw = Mt[12:18,0:12]@cd_for_nae.T # 순생산물세와 부가가치 통합\n",
        "va_rw"
      ],
      "metadata": {
        "colab": {
          "base_uri": "https://localhost:8080/"
        },
        "id": "yGVlE9SxwbrZ",
        "outputId": "57ccdbd5-abe4-4ed0-8443-9772b38353c0"
      },
      "execution_count": 126,
      "outputs": [
        {
          "output_type": "execute_result",
          "data": {
            "text/plain": [
              "array([[   819.,      0.,      0.,      0.],\n",
              "       [     0.,   6971.,      0.,      0.],\n",
              "       [     0.,      0.,   3160.,      0.],\n",
              "       [     0.,      0.,      0.,  19652.],\n",
              "       [ 15780., 127899., 198628., 456702.],\n",
              "       [ 38234., 350158., 358964., 905658.]])"
            ]
          },
          "metadata": {},
          "execution_count": 126
        }
      ]
    },
    {
      "cell_type": "code",
      "source": [
        "fd_rw = cd_for_nae@Mt[:12,12:16]\n",
        "fd_rw"
      ],
      "metadata": {
        "colab": {
          "base_uri": "https://localhost:8080/"
        },
        "id": "CRZ2IEo4wbuB",
        "outputId": "c903bd88-3175-4587-d468-60527b6acdcc"
      },
      "execution_count": 127,
      "outputs": [
        {
          "output_type": "execute_result",
          "data": {
            "text/plain": [
              "array([[ 14221.,    520.,    438.,   1583.],\n",
              "       [   358., 127334.,   2773.,   8518.],\n",
              "       [   291.,    964., 193606.,   8339.],\n",
              "       [   934.,   5126.,  11490., 453116.]])"
            ]
          },
          "metadata": {},
          "execution_count": 127
        }
      ]
    },
    {
      "cell_type": "code",
      "source": [
        "fd_txva=Mt[12:,12:16]\n",
        "fd_txva"
      ],
      "metadata": {
        "colab": {
          "base_uri": "https://localhost:8080/"
        },
        "id": "RX0JvUZd0XpR",
        "outputId": "430e20ec-dd38-46b1-c5b1-56341f88a3d2"
      },
      "execution_count": 128,
      "outputs": [
        {
          "output_type": "execute_result",
          "data": {
            "text/plain": [
              "array([[  651.,     3.,     1.,     3.],\n",
              "       [   -1.,  4052.,    -1.,    -4.],\n",
              "       [    5.,    19.,  4229.,    68.],\n",
              "       [    4.,    57.,    56., 21711.],\n",
              "       [    0.,     0.,     0.,     0.],\n",
              "       [    0.,     0.,     0.,     0.]])"
            ]
          },
          "metadata": {},
          "execution_count": 128
        }
      ]
    },
    {
      "cell_type": "code",
      "source": [
        "nae_vact = np.vstack((A_nae_col,va_rw))\n",
        "fd_all = np.vstack((fd_rw,fd_txva))"
      ],
      "metadata": {
        "id": "wpyYHQgW0XsI"
      },
      "execution_count": 129,
      "outputs": []
    },
    {
      "cell_type": "code",
      "source": [
        "Mt_1sec = np.hstack((nae_vact,fd_all)) # 1산업 ICIO\n",
        "Mt_1sec.shape"
      ],
      "metadata": {
        "colab": {
          "base_uri": "https://localhost:8080/"
        },
        "id": "NlM8zyH10Xt-",
        "outputId": "5ef9c141-fd15-418c-c0c3-8e85344fd222"
      },
      "execution_count": 130,
      "outputs": [
        {
          "output_type": "execute_result",
          "data": {
            "text/plain": [
              "(10, 8)"
            ]
          },
          "metadata": {},
          "execution_count": 130
        }
      ]
    },
    {
      "cell_type": "code",
      "source": [
        "icio_1sec_df = pd.DataFrame(Mt_1sec, columns = ['한국', '중국', '미국','ROW', '한국_fd', '중국_fd', '미국_fd','ROW_fd'],\n",
        "                     index=['한국', '중국', '미국','ROW','한국_tax', '중국_tax', '미국_tax','ROW_tax','부가가치','총투입액']) # 변수명 붙여서 pandas로 내보내기\n",
        "\n",
        "icio_1sec_df"
      ],
      "metadata": {
        "colab": {
          "base_uri": "https://localhost:8080/",
          "height": 363
        },
        "id": "l-Wd-8Hy0XwV",
        "outputId": "5e059d43-4b8a-4659-9ef5-58fca8689ea6"
      },
      "execution_count": 131,
      "outputs": [
        {
          "output_type": "execute_result",
          "data": {
            "text/plain": [
              "              한국        중국        미국       ROW    한국_fd     중국_fd     미국_fd  \\\n",
              "한국       16847.0    1840.0     395.0    2390.0  14221.0     520.0     438.0   \n",
              "중국         872.0  198534.0    2133.0    9636.0    358.0  127334.0    2773.0   \n",
              "미국         548.0    1350.0  142776.0   11090.0    291.0     964.0  193606.0   \n",
              "ROW       3368.0   13564.0   11872.0  406188.0    934.0    5126.0   11490.0   \n",
              "한국_tax     819.0       0.0       0.0       0.0    651.0       3.0       1.0   \n",
              "중국_tax       0.0    6971.0       0.0       0.0     -1.0    4052.0      -1.0   \n",
              "미국_tax       0.0       0.0    3160.0       0.0      5.0      19.0    4229.0   \n",
              "ROW_tax      0.0       0.0       0.0   19652.0      4.0      57.0      56.0   \n",
              "부가가치     15780.0  127899.0  198628.0  456702.0      0.0       0.0       0.0   \n",
              "총투입액     38234.0  350158.0  358964.0  905658.0      0.0       0.0       0.0   \n",
              "\n",
              "           ROW_fd  \n",
              "한국         1583.0  \n",
              "중국         8518.0  \n",
              "미국         8339.0  \n",
              "ROW      453116.0  \n",
              "한국_tax        3.0  \n",
              "중국_tax       -4.0  \n",
              "미국_tax       68.0  \n",
              "ROW_tax   21711.0  \n",
              "부가가치          0.0  \n",
              "총투입액          0.0  "
            ],
            "text/html": [
              "\n",
              "  <div id=\"df-e95302b4-6903-4b76-94f0-6bc2b0f3de2a\" class=\"colab-df-container\">\n",
              "    <div>\n",
              "<style scoped>\n",
              "    .dataframe tbody tr th:only-of-type {\n",
              "        vertical-align: middle;\n",
              "    }\n",
              "\n",
              "    .dataframe tbody tr th {\n",
              "        vertical-align: top;\n",
              "    }\n",
              "\n",
              "    .dataframe thead th {\n",
              "        text-align: right;\n",
              "    }\n",
              "</style>\n",
              "<table border=\"1\" class=\"dataframe\">\n",
              "  <thead>\n",
              "    <tr style=\"text-align: right;\">\n",
              "      <th></th>\n",
              "      <th>한국</th>\n",
              "      <th>중국</th>\n",
              "      <th>미국</th>\n",
              "      <th>ROW</th>\n",
              "      <th>한국_fd</th>\n",
              "      <th>중국_fd</th>\n",
              "      <th>미국_fd</th>\n",
              "      <th>ROW_fd</th>\n",
              "    </tr>\n",
              "  </thead>\n",
              "  <tbody>\n",
              "    <tr>\n",
              "      <th>한국</th>\n",
              "      <td>16847.0</td>\n",
              "      <td>1840.0</td>\n",
              "      <td>395.0</td>\n",
              "      <td>2390.0</td>\n",
              "      <td>14221.0</td>\n",
              "      <td>520.0</td>\n",
              "      <td>438.0</td>\n",
              "      <td>1583.0</td>\n",
              "    </tr>\n",
              "    <tr>\n",
              "      <th>중국</th>\n",
              "      <td>872.0</td>\n",
              "      <td>198534.0</td>\n",
              "      <td>2133.0</td>\n",
              "      <td>9636.0</td>\n",
              "      <td>358.0</td>\n",
              "      <td>127334.0</td>\n",
              "      <td>2773.0</td>\n",
              "      <td>8518.0</td>\n",
              "    </tr>\n",
              "    <tr>\n",
              "      <th>미국</th>\n",
              "      <td>548.0</td>\n",
              "      <td>1350.0</td>\n",
              "      <td>142776.0</td>\n",
              "      <td>11090.0</td>\n",
              "      <td>291.0</td>\n",
              "      <td>964.0</td>\n",
              "      <td>193606.0</td>\n",
              "      <td>8339.0</td>\n",
              "    </tr>\n",
              "    <tr>\n",
              "      <th>ROW</th>\n",
              "      <td>3368.0</td>\n",
              "      <td>13564.0</td>\n",
              "      <td>11872.0</td>\n",
              "      <td>406188.0</td>\n",
              "      <td>934.0</td>\n",
              "      <td>5126.0</td>\n",
              "      <td>11490.0</td>\n",
              "      <td>453116.0</td>\n",
              "    </tr>\n",
              "    <tr>\n",
              "      <th>한국_tax</th>\n",
              "      <td>819.0</td>\n",
              "      <td>0.0</td>\n",
              "      <td>0.0</td>\n",
              "      <td>0.0</td>\n",
              "      <td>651.0</td>\n",
              "      <td>3.0</td>\n",
              "      <td>1.0</td>\n",
              "      <td>3.0</td>\n",
              "    </tr>\n",
              "    <tr>\n",
              "      <th>중국_tax</th>\n",
              "      <td>0.0</td>\n",
              "      <td>6971.0</td>\n",
              "      <td>0.0</td>\n",
              "      <td>0.0</td>\n",
              "      <td>-1.0</td>\n",
              "      <td>4052.0</td>\n",
              "      <td>-1.0</td>\n",
              "      <td>-4.0</td>\n",
              "    </tr>\n",
              "    <tr>\n",
              "      <th>미국_tax</th>\n",
              "      <td>0.0</td>\n",
              "      <td>0.0</td>\n",
              "      <td>3160.0</td>\n",
              "      <td>0.0</td>\n",
              "      <td>5.0</td>\n",
              "      <td>19.0</td>\n",
              "      <td>4229.0</td>\n",
              "      <td>68.0</td>\n",
              "    </tr>\n",
              "    <tr>\n",
              "      <th>ROW_tax</th>\n",
              "      <td>0.0</td>\n",
              "      <td>0.0</td>\n",
              "      <td>0.0</td>\n",
              "      <td>19652.0</td>\n",
              "      <td>4.0</td>\n",
              "      <td>57.0</td>\n",
              "      <td>56.0</td>\n",
              "      <td>21711.0</td>\n",
              "    </tr>\n",
              "    <tr>\n",
              "      <th>부가가치</th>\n",
              "      <td>15780.0</td>\n",
              "      <td>127899.0</td>\n",
              "      <td>198628.0</td>\n",
              "      <td>456702.0</td>\n",
              "      <td>0.0</td>\n",
              "      <td>0.0</td>\n",
              "      <td>0.0</td>\n",
              "      <td>0.0</td>\n",
              "    </tr>\n",
              "    <tr>\n",
              "      <th>총투입액</th>\n",
              "      <td>38234.0</td>\n",
              "      <td>350158.0</td>\n",
              "      <td>358964.0</td>\n",
              "      <td>905658.0</td>\n",
              "      <td>0.0</td>\n",
              "      <td>0.0</td>\n",
              "      <td>0.0</td>\n",
              "      <td>0.0</td>\n",
              "    </tr>\n",
              "  </tbody>\n",
              "</table>\n",
              "</div>\n",
              "    <div class=\"colab-df-buttons\">\n",
              "\n",
              "  <div class=\"colab-df-container\">\n",
              "    <button class=\"colab-df-convert\" onclick=\"convertToInteractive('df-e95302b4-6903-4b76-94f0-6bc2b0f3de2a')\"\n",
              "            title=\"Convert this dataframe to an interactive table.\"\n",
              "            style=\"display:none;\">\n",
              "\n",
              "  <svg xmlns=\"http://www.w3.org/2000/svg\" height=\"24px\" viewBox=\"0 -960 960 960\">\n",
              "    <path d=\"M120-120v-720h720v720H120Zm60-500h600v-160H180v160Zm220 220h160v-160H400v160Zm0 220h160v-160H400v160ZM180-400h160v-160H180v160Zm440 0h160v-160H620v160ZM180-180h160v-160H180v160Zm440 0h160v-160H620v160Z\"/>\n",
              "  </svg>\n",
              "    </button>\n",
              "\n",
              "  <style>\n",
              "    .colab-df-container {\n",
              "      display:flex;\n",
              "      gap: 12px;\n",
              "    }\n",
              "\n",
              "    .colab-df-convert {\n",
              "      background-color: #E8F0FE;\n",
              "      border: none;\n",
              "      border-radius: 50%;\n",
              "      cursor: pointer;\n",
              "      display: none;\n",
              "      fill: #1967D2;\n",
              "      height: 32px;\n",
              "      padding: 0 0 0 0;\n",
              "      width: 32px;\n",
              "    }\n",
              "\n",
              "    .colab-df-convert:hover {\n",
              "      background-color: #E2EBFA;\n",
              "      box-shadow: 0px 1px 2px rgba(60, 64, 67, 0.3), 0px 1px 3px 1px rgba(60, 64, 67, 0.15);\n",
              "      fill: #174EA6;\n",
              "    }\n",
              "\n",
              "    .colab-df-buttons div {\n",
              "      margin-bottom: 4px;\n",
              "    }\n",
              "\n",
              "    [theme=dark] .colab-df-convert {\n",
              "      background-color: #3B4455;\n",
              "      fill: #D2E3FC;\n",
              "    }\n",
              "\n",
              "    [theme=dark] .colab-df-convert:hover {\n",
              "      background-color: #434B5C;\n",
              "      box-shadow: 0px 1px 3px 1px rgba(0, 0, 0, 0.15);\n",
              "      filter: drop-shadow(0px 1px 2px rgba(0, 0, 0, 0.3));\n",
              "      fill: #FFFFFF;\n",
              "    }\n",
              "  </style>\n",
              "\n",
              "    <script>\n",
              "      const buttonEl =\n",
              "        document.querySelector('#df-e95302b4-6903-4b76-94f0-6bc2b0f3de2a button.colab-df-convert');\n",
              "      buttonEl.style.display =\n",
              "        google.colab.kernel.accessAllowed ? 'block' : 'none';\n",
              "\n",
              "      async function convertToInteractive(key) {\n",
              "        const element = document.querySelector('#df-e95302b4-6903-4b76-94f0-6bc2b0f3de2a');\n",
              "        const dataTable =\n",
              "          await google.colab.kernel.invokeFunction('convertToInteractive',\n",
              "                                                    [key], {});\n",
              "        if (!dataTable) return;\n",
              "\n",
              "        const docLinkHtml = 'Like what you see? Visit the ' +\n",
              "          '<a target=\"_blank\" href=https://colab.research.google.com/notebooks/data_table.ipynb>data table notebook</a>'\n",
              "          + ' to learn more about interactive tables.';\n",
              "        element.innerHTML = '';\n",
              "        dataTable['output_type'] = 'display_data';\n",
              "        await google.colab.output.renderOutput(dataTable, element);\n",
              "        const docLink = document.createElement('div');\n",
              "        docLink.innerHTML = docLinkHtml;\n",
              "        element.appendChild(docLink);\n",
              "      }\n",
              "    </script>\n",
              "  </div>\n",
              "\n",
              "\n",
              "<div id=\"df-13b3051a-e4e9-4928-bc86-92ee484266b2\">\n",
              "  <button class=\"colab-df-quickchart\" onclick=\"quickchart('df-13b3051a-e4e9-4928-bc86-92ee484266b2')\"\n",
              "            title=\"Suggest charts.\"\n",
              "            style=\"display:none;\">\n",
              "\n",
              "<svg xmlns=\"http://www.w3.org/2000/svg\" height=\"24px\"viewBox=\"0 0 24 24\"\n",
              "     width=\"24px\">\n",
              "    <g>\n",
              "        <path d=\"M19 3H5c-1.1 0-2 .9-2 2v14c0 1.1.9 2 2 2h14c1.1 0 2-.9 2-2V5c0-1.1-.9-2-2-2zM9 17H7v-7h2v7zm4 0h-2V7h2v10zm4 0h-2v-4h2v4z\"/>\n",
              "    </g>\n",
              "</svg>\n",
              "  </button>\n",
              "\n",
              "<style>\n",
              "  .colab-df-quickchart {\n",
              "      --bg-color: #E8F0FE;\n",
              "      --fill-color: #1967D2;\n",
              "      --hover-bg-color: #E2EBFA;\n",
              "      --hover-fill-color: #174EA6;\n",
              "      --disabled-fill-color: #AAA;\n",
              "      --disabled-bg-color: #DDD;\n",
              "  }\n",
              "\n",
              "  [theme=dark] .colab-df-quickchart {\n",
              "      --bg-color: #3B4455;\n",
              "      --fill-color: #D2E3FC;\n",
              "      --hover-bg-color: #434B5C;\n",
              "      --hover-fill-color: #FFFFFF;\n",
              "      --disabled-bg-color: #3B4455;\n",
              "      --disabled-fill-color: #666;\n",
              "  }\n",
              "\n",
              "  .colab-df-quickchart {\n",
              "    background-color: var(--bg-color);\n",
              "    border: none;\n",
              "    border-radius: 50%;\n",
              "    cursor: pointer;\n",
              "    display: none;\n",
              "    fill: var(--fill-color);\n",
              "    height: 32px;\n",
              "    padding: 0;\n",
              "    width: 32px;\n",
              "  }\n",
              "\n",
              "  .colab-df-quickchart:hover {\n",
              "    background-color: var(--hover-bg-color);\n",
              "    box-shadow: 0 1px 2px rgba(60, 64, 67, 0.3), 0 1px 3px 1px rgba(60, 64, 67, 0.15);\n",
              "    fill: var(--button-hover-fill-color);\n",
              "  }\n",
              "\n",
              "  .colab-df-quickchart-complete:disabled,\n",
              "  .colab-df-quickchart-complete:disabled:hover {\n",
              "    background-color: var(--disabled-bg-color);\n",
              "    fill: var(--disabled-fill-color);\n",
              "    box-shadow: none;\n",
              "  }\n",
              "\n",
              "  .colab-df-spinner {\n",
              "    border: 2px solid var(--fill-color);\n",
              "    border-color: transparent;\n",
              "    border-bottom-color: var(--fill-color);\n",
              "    animation:\n",
              "      spin 1s steps(1) infinite;\n",
              "  }\n",
              "\n",
              "  @keyframes spin {\n",
              "    0% {\n",
              "      border-color: transparent;\n",
              "      border-bottom-color: var(--fill-color);\n",
              "      border-left-color: var(--fill-color);\n",
              "    }\n",
              "    20% {\n",
              "      border-color: transparent;\n",
              "      border-left-color: var(--fill-color);\n",
              "      border-top-color: var(--fill-color);\n",
              "    }\n",
              "    30% {\n",
              "      border-color: transparent;\n",
              "      border-left-color: var(--fill-color);\n",
              "      border-top-color: var(--fill-color);\n",
              "      border-right-color: var(--fill-color);\n",
              "    }\n",
              "    40% {\n",
              "      border-color: transparent;\n",
              "      border-right-color: var(--fill-color);\n",
              "      border-top-color: var(--fill-color);\n",
              "    }\n",
              "    60% {\n",
              "      border-color: transparent;\n",
              "      border-right-color: var(--fill-color);\n",
              "    }\n",
              "    80% {\n",
              "      border-color: transparent;\n",
              "      border-right-color: var(--fill-color);\n",
              "      border-bottom-color: var(--fill-color);\n",
              "    }\n",
              "    90% {\n",
              "      border-color: transparent;\n",
              "      border-bottom-color: var(--fill-color);\n",
              "    }\n",
              "  }\n",
              "</style>\n",
              "\n",
              "  <script>\n",
              "    async function quickchart(key) {\n",
              "      const quickchartButtonEl =\n",
              "        document.querySelector('#' + key + ' button');\n",
              "      quickchartButtonEl.disabled = true;  // To prevent multiple clicks.\n",
              "      quickchartButtonEl.classList.add('colab-df-spinner');\n",
              "      try {\n",
              "        const charts = await google.colab.kernel.invokeFunction(\n",
              "            'suggestCharts', [key], {});\n",
              "      } catch (error) {\n",
              "        console.error('Error during call to suggestCharts:', error);\n",
              "      }\n",
              "      quickchartButtonEl.classList.remove('colab-df-spinner');\n",
              "      quickchartButtonEl.classList.add('colab-df-quickchart-complete');\n",
              "    }\n",
              "    (() => {\n",
              "      let quickchartButtonEl =\n",
              "        document.querySelector('#df-13b3051a-e4e9-4928-bc86-92ee484266b2 button');\n",
              "      quickchartButtonEl.style.display =\n",
              "        google.colab.kernel.accessAllowed ? 'block' : 'none';\n",
              "    })();\n",
              "  </script>\n",
              "</div>\n",
              "    </div>\n",
              "  </div>\n"
            ]
          },
          "metadata": {},
          "execution_count": 131
        }
      ]
    },
    {
      "cell_type": "code",
      "source": [
        "icio_1sec_df.to_csv('1국가_1산업.csv', encoding='utf_8-sig')"
      ],
      "metadata": {
        "id": "4h21p0nuMeGK"
      },
      "execution_count": 132,
      "outputs": []
    },
    {
      "cell_type": "markdown",
      "source": [
        "#### 국가별 투입구조"
      ],
      "metadata": {
        "id": "91uW0tUyUvhq"
      }
    },
    {
      "cell_type": "code",
      "source": [
        "one_diag = np.identity(n=4)\n",
        "zero_diag = np.where(one_diag == 1, 0, 1)\n",
        "zero_diag"
      ],
      "metadata": {
        "colab": {
          "base_uri": "https://localhost:8080/"
        },
        "id": "lx-p3kQT2nnS",
        "outputId": "bcba4d6d-8395-4f43-b88f-9d2267d003de"
      },
      "execution_count": 133,
      "outputs": [
        {
          "output_type": "execute_result",
          "data": {
            "text/plain": [
              "array([[0, 1, 1, 1],\n",
              "       [1, 0, 1, 1],\n",
              "       [1, 1, 0, 1],\n",
              "       [1, 1, 1, 0]])"
            ]
          },
          "metadata": {},
          "execution_count": 133
        }
      ]
    },
    {
      "cell_type": "code",
      "source": [
        "dom=Mt_1sec[:4,:4]*one_diag\n",
        "dom_sm=dom.sum(axis=1).reshape([4,1])\n",
        "dom_sm"
      ],
      "metadata": {
        "colab": {
          "base_uri": "https://localhost:8080/"
        },
        "id": "CTmmLSUl2np3",
        "outputId": "9b8b2144-e450-469c-e3ed-f9e59ac56879"
      },
      "execution_count": 134,
      "outputs": [
        {
          "output_type": "execute_result",
          "data": {
            "text/plain": [
              "array([[ 16847.],\n",
              "       [198534.],\n",
              "       [142776.],\n",
              "       [406188.]])"
            ]
          },
          "metadata": {},
          "execution_count": 134
        }
      ]
    },
    {
      "cell_type": "code",
      "source": [
        "imp=Mt_1sec[:4,:4]*zero_diag\n",
        "\n",
        "imp_kor = np.delete(imp[:,0], np.where(imp[:,0] == 0))\n",
        "imp_chn = np.delete(imp[:,1], np.where(imp[:,1] == 0))\n",
        "imp_usa = np.delete(imp[:,2], np.where(imp[:,2] == 0))\n",
        "imp_row = np.delete(imp[:,3], np.where(imp[:,3] == 0))\n",
        "\n",
        "imp_4cons = np.vstack((imp_kor,imp_chn,imp_usa,imp_row))\n",
        "imp_4cons"
      ],
      "metadata": {
        "colab": {
          "base_uri": "https://localhost:8080/"
        },
        "id": "IL9KYQDn2nsf",
        "outputId": "4d173229-46fd-4330-c4ce-6f2b35ad0458"
      },
      "execution_count": 135,
      "outputs": [
        {
          "output_type": "execute_result",
          "data": {
            "text/plain": [
              "array([[  872.,   548.,  3368.],\n",
              "       [ 1840.,  1350., 13564.],\n",
              "       [  395.,  2133., 11872.],\n",
              "       [ 2390.,  9636., 11090.]])"
            ]
          },
          "metadata": {},
          "execution_count": 135
        }
      ]
    },
    {
      "cell_type": "code",
      "source": [
        "imp"
      ],
      "metadata": {
        "id": "n6m46pf7VbR_",
        "outputId": "eac2f858-126a-4f4a-c92e-0ab1d3b651dc",
        "colab": {
          "base_uri": "https://localhost:8080/"
        }
      },
      "execution_count": 136,
      "outputs": [
        {
          "output_type": "execute_result",
          "data": {
            "text/plain": [
              "array([[    0.,  1840.,   395.,  2390.],\n",
              "       [  872.,     0.,  2133.,  9636.],\n",
              "       [  548.,  1350.,     0., 11090.],\n",
              "       [ 3368., 13564., 11872.,     0.]])"
            ]
          },
          "metadata": {},
          "execution_count": 136
        }
      ]
    },
    {
      "cell_type": "code",
      "source": [
        "imp_kor_sm = imp_kor.sum() # 수입중간투입합\n",
        "imp_chn_sm = imp_chn.sum()\n",
        "imp_usa_sm = imp_usa.sum()\n",
        "imp_row_sm = imp_row.sum()\n",
        "imp_tot = np.vstack((imp_kor_sm,imp_chn_sm,imp_usa_sm,imp_row_sm))\n",
        "imp_tot"
      ],
      "metadata": {
        "colab": {
          "base_uri": "https://localhost:8080/"
        },
        "id": "uucGXUy26teO",
        "outputId": "6243687c-b2c2-4edf-9eb9-826e4d272759"
      },
      "execution_count": 137,
      "outputs": [
        {
          "output_type": "execute_result",
          "data": {
            "text/plain": [
              "array([[ 4788.],\n",
              "       [16754.],\n",
              "       [14400.],\n",
              "       [23116.]])"
            ]
          },
          "metadata": {},
          "execution_count": 137
        }
      ]
    },
    {
      "cell_type": "code",
      "source": [
        "tip_kor = dom_sm[0]+imp_kor_sm #총중간투입액\n",
        "tip_chn = dom_sm[1]+imp_chn_sm\n",
        "tip_usa = dom_sm[2]+imp_usa_sm\n",
        "tip_row = dom_sm[3]+imp_row_sm\n",
        "tip_tot = np.vstack((tip_kor,tip_chn,tip_usa,tip_row))\n",
        "tip_tot.shape"
      ],
      "metadata": {
        "colab": {
          "base_uri": "https://localhost:8080/"
        },
        "id": "jHYGSj8G46Dz",
        "outputId": "4fb89efd-1747-4aef-8aac-256f2771c68c"
      },
      "execution_count": 138,
      "outputs": [
        {
          "output_type": "execute_result",
          "data": {
            "text/plain": [
              "(4, 1)"
            ]
          },
          "metadata": {},
          "execution_count": 138
        }
      ]
    },
    {
      "cell_type": "code",
      "source": [
        "tx = Mt_1sec[4:8,0:4]\n",
        "tx_sm = tx.sum(axis=1).reshape([4,1])\n",
        "tx_sm"
      ],
      "metadata": {
        "id": "qUF9M7By46Ga",
        "outputId": "2b420b06-b7b9-4410-813f-391d92492bb6",
        "colab": {
          "base_uri": "https://localhost:8080/"
        }
      },
      "execution_count": 139,
      "outputs": [
        {
          "output_type": "execute_result",
          "data": {
            "text/plain": [
              "array([[  819.],\n",
              "       [ 6971.],\n",
              "       [ 3160.],\n",
              "       [19652.]])"
            ]
          },
          "metadata": {},
          "execution_count": 139
        }
      ]
    },
    {
      "cell_type": "code",
      "source": [
        "va_1sec = Mt_1sec[8,0:4].reshape([4,1])\n",
        "va_1sec"
      ],
      "metadata": {
        "id": "8QuOWGGOO6BN",
        "outputId": "791fb70b-a361-4408-eb9a-3314daaddc11",
        "colab": {
          "base_uri": "https://localhost:8080/"
        }
      },
      "execution_count": 140,
      "outputs": [
        {
          "output_type": "execute_result",
          "data": {
            "text/plain": [
              "array([[ 15780.],\n",
              "       [127899.],\n",
              "       [198628.],\n",
              "       [456702.]])"
            ]
          },
          "metadata": {},
          "execution_count": 140
        }
      ]
    },
    {
      "cell_type": "code",
      "source": [
        "tot_input = tip_tot+tx_sm.reshape([4,1])+va_1sec.reshape([4,1])\n",
        "tot_input"
      ],
      "metadata": {
        "id": "iWz52czpPjtr",
        "outputId": "f9ebb0eb-73d7-42a2-fcda-0aded364b5f9",
        "colab": {
          "base_uri": "https://localhost:8080/"
        }
      },
      "execution_count": 141,
      "outputs": [
        {
          "output_type": "execute_result",
          "data": {
            "text/plain": [
              "array([[ 38234.],\n",
              "       [350158.],\n",
              "       [358964.],\n",
              "       [905658.]])"
            ]
          },
          "metadata": {},
          "execution_count": 141
        }
      ]
    },
    {
      "cell_type": "code",
      "source": [
        "input_mat = np.hstack((dom_sm,imp_4cons,imp_tot,tip_tot, tx_sm, va_1sec.reshape([4,1]), tot_input))\n",
        "input_sm = input_mat.sum(axis=0)"
      ],
      "metadata": {
        "id": "LJ89u0qmPjwh"
      },
      "execution_count": 142,
      "outputs": []
    },
    {
      "cell_type": "code",
      "source": [
        "input_strc = np.vstack((input_mat,input_sm))\n",
        "input_strc"
      ],
      "metadata": {
        "id": "qAlw7fjYTPKp",
        "outputId": "9b115cfb-7f2d-4038-9dd7-5293365bfca6",
        "colab": {
          "base_uri": "https://localhost:8080/"
        }
      },
      "execution_count": 143,
      "outputs": [
        {
          "output_type": "execute_result",
          "data": {
            "text/plain": [
              "array([[  16847.,     872.,     548.,    3368.,    4788.,   21635.,\n",
              "            819.,   15780.,   38234.],\n",
              "       [ 198534.,    1840.,    1350.,   13564.,   16754.,  215288.,\n",
              "           6971.,  127899.,  350158.],\n",
              "       [ 142776.,     395.,    2133.,   11872.,   14400.,  157176.,\n",
              "           3160.,  198628.,  358964.],\n",
              "       [ 406188.,    2390.,    9636.,   11090.,   23116.,  429304.,\n",
              "          19652.,  456702.,  905658.],\n",
              "       [ 764345.,    5497.,   13667.,   39894.,   59058.,  823403.,\n",
              "          30602.,  799009., 1653014.]])"
            ]
          },
          "metadata": {},
          "execution_count": 143
        }
      ]
    },
    {
      "cell_type": "code",
      "source": [
        "input_strc_df = pd.DataFrame(input_strc, columns = ['국산품', '중국', '미국','ROW', '수입품', '중간투입액', '순생산물세','부가가치','총투입액'],\n",
        "                     index=['한국', '중국', '미국','ROW','전세계']) # 변수명 붙여서 pandas로 내보내기\n",
        "\n",
        "input_strc_df"
      ],
      "metadata": {
        "id": "xbPR0iaMTdnj",
        "outputId": "87b1aa5d-2ffc-4f49-cf3e-55bdd10c315d",
        "colab": {
          "base_uri": "https://localhost:8080/",
          "height": 206
        }
      },
      "execution_count": 144,
      "outputs": [
        {
          "output_type": "execute_result",
          "data": {
            "text/plain": [
              "          국산품      중국       미국      ROW      수입품     중간투입액    순생산물세      부가가치  \\\n",
              "한국    16847.0   872.0    548.0   3368.0   4788.0   21635.0    819.0   15780.0   \n",
              "중국   198534.0  1840.0   1350.0  13564.0  16754.0  215288.0   6971.0  127899.0   \n",
              "미국   142776.0   395.0   2133.0  11872.0  14400.0  157176.0   3160.0  198628.0   \n",
              "ROW  406188.0  2390.0   9636.0  11090.0  23116.0  429304.0  19652.0  456702.0   \n",
              "전세계  764345.0  5497.0  13667.0  39894.0  59058.0  823403.0  30602.0  799009.0   \n",
              "\n",
              "          총투입액  \n",
              "한국     38234.0  \n",
              "중국    350158.0  \n",
              "미국    358964.0  \n",
              "ROW   905658.0  \n",
              "전세계  1653014.0  "
            ],
            "text/html": [
              "\n",
              "  <div id=\"df-b3a9308d-6657-426e-89d6-d9644fd60bf6\" class=\"colab-df-container\">\n",
              "    <div>\n",
              "<style scoped>\n",
              "    .dataframe tbody tr th:only-of-type {\n",
              "        vertical-align: middle;\n",
              "    }\n",
              "\n",
              "    .dataframe tbody tr th {\n",
              "        vertical-align: top;\n",
              "    }\n",
              "\n",
              "    .dataframe thead th {\n",
              "        text-align: right;\n",
              "    }\n",
              "</style>\n",
              "<table border=\"1\" class=\"dataframe\">\n",
              "  <thead>\n",
              "    <tr style=\"text-align: right;\">\n",
              "      <th></th>\n",
              "      <th>국산품</th>\n",
              "      <th>중국</th>\n",
              "      <th>미국</th>\n",
              "      <th>ROW</th>\n",
              "      <th>수입품</th>\n",
              "      <th>중간투입액</th>\n",
              "      <th>순생산물세</th>\n",
              "      <th>부가가치</th>\n",
              "      <th>총투입액</th>\n",
              "    </tr>\n",
              "  </thead>\n",
              "  <tbody>\n",
              "    <tr>\n",
              "      <th>한국</th>\n",
              "      <td>16847.0</td>\n",
              "      <td>872.0</td>\n",
              "      <td>548.0</td>\n",
              "      <td>3368.0</td>\n",
              "      <td>4788.0</td>\n",
              "      <td>21635.0</td>\n",
              "      <td>819.0</td>\n",
              "      <td>15780.0</td>\n",
              "      <td>38234.0</td>\n",
              "    </tr>\n",
              "    <tr>\n",
              "      <th>중국</th>\n",
              "      <td>198534.0</td>\n",
              "      <td>1840.0</td>\n",
              "      <td>1350.0</td>\n",
              "      <td>13564.0</td>\n",
              "      <td>16754.0</td>\n",
              "      <td>215288.0</td>\n",
              "      <td>6971.0</td>\n",
              "      <td>127899.0</td>\n",
              "      <td>350158.0</td>\n",
              "    </tr>\n",
              "    <tr>\n",
              "      <th>미국</th>\n",
              "      <td>142776.0</td>\n",
              "      <td>395.0</td>\n",
              "      <td>2133.0</td>\n",
              "      <td>11872.0</td>\n",
              "      <td>14400.0</td>\n",
              "      <td>157176.0</td>\n",
              "      <td>3160.0</td>\n",
              "      <td>198628.0</td>\n",
              "      <td>358964.0</td>\n",
              "    </tr>\n",
              "    <tr>\n",
              "      <th>ROW</th>\n",
              "      <td>406188.0</td>\n",
              "      <td>2390.0</td>\n",
              "      <td>9636.0</td>\n",
              "      <td>11090.0</td>\n",
              "      <td>23116.0</td>\n",
              "      <td>429304.0</td>\n",
              "      <td>19652.0</td>\n",
              "      <td>456702.0</td>\n",
              "      <td>905658.0</td>\n",
              "    </tr>\n",
              "    <tr>\n",
              "      <th>전세계</th>\n",
              "      <td>764345.0</td>\n",
              "      <td>5497.0</td>\n",
              "      <td>13667.0</td>\n",
              "      <td>39894.0</td>\n",
              "      <td>59058.0</td>\n",
              "      <td>823403.0</td>\n",
              "      <td>30602.0</td>\n",
              "      <td>799009.0</td>\n",
              "      <td>1653014.0</td>\n",
              "    </tr>\n",
              "  </tbody>\n",
              "</table>\n",
              "</div>\n",
              "    <div class=\"colab-df-buttons\">\n",
              "\n",
              "  <div class=\"colab-df-container\">\n",
              "    <button class=\"colab-df-convert\" onclick=\"convertToInteractive('df-b3a9308d-6657-426e-89d6-d9644fd60bf6')\"\n",
              "            title=\"Convert this dataframe to an interactive table.\"\n",
              "            style=\"display:none;\">\n",
              "\n",
              "  <svg xmlns=\"http://www.w3.org/2000/svg\" height=\"24px\" viewBox=\"0 -960 960 960\">\n",
              "    <path d=\"M120-120v-720h720v720H120Zm60-500h600v-160H180v160Zm220 220h160v-160H400v160Zm0 220h160v-160H400v160ZM180-400h160v-160H180v160Zm440 0h160v-160H620v160ZM180-180h160v-160H180v160Zm440 0h160v-160H620v160Z\"/>\n",
              "  </svg>\n",
              "    </button>\n",
              "\n",
              "  <style>\n",
              "    .colab-df-container {\n",
              "      display:flex;\n",
              "      gap: 12px;\n",
              "    }\n",
              "\n",
              "    .colab-df-convert {\n",
              "      background-color: #E8F0FE;\n",
              "      border: none;\n",
              "      border-radius: 50%;\n",
              "      cursor: pointer;\n",
              "      display: none;\n",
              "      fill: #1967D2;\n",
              "      height: 32px;\n",
              "      padding: 0 0 0 0;\n",
              "      width: 32px;\n",
              "    }\n",
              "\n",
              "    .colab-df-convert:hover {\n",
              "      background-color: #E2EBFA;\n",
              "      box-shadow: 0px 1px 2px rgba(60, 64, 67, 0.3), 0px 1px 3px 1px rgba(60, 64, 67, 0.15);\n",
              "      fill: #174EA6;\n",
              "    }\n",
              "\n",
              "    .colab-df-buttons div {\n",
              "      margin-bottom: 4px;\n",
              "    }\n",
              "\n",
              "    [theme=dark] .colab-df-convert {\n",
              "      background-color: #3B4455;\n",
              "      fill: #D2E3FC;\n",
              "    }\n",
              "\n",
              "    [theme=dark] .colab-df-convert:hover {\n",
              "      background-color: #434B5C;\n",
              "      box-shadow: 0px 1px 3px 1px rgba(0, 0, 0, 0.15);\n",
              "      filter: drop-shadow(0px 1px 2px rgba(0, 0, 0, 0.3));\n",
              "      fill: #FFFFFF;\n",
              "    }\n",
              "  </style>\n",
              "\n",
              "    <script>\n",
              "      const buttonEl =\n",
              "        document.querySelector('#df-b3a9308d-6657-426e-89d6-d9644fd60bf6 button.colab-df-convert');\n",
              "      buttonEl.style.display =\n",
              "        google.colab.kernel.accessAllowed ? 'block' : 'none';\n",
              "\n",
              "      async function convertToInteractive(key) {\n",
              "        const element = document.querySelector('#df-b3a9308d-6657-426e-89d6-d9644fd60bf6');\n",
              "        const dataTable =\n",
              "          await google.colab.kernel.invokeFunction('convertToInteractive',\n",
              "                                                    [key], {});\n",
              "        if (!dataTable) return;\n",
              "\n",
              "        const docLinkHtml = 'Like what you see? Visit the ' +\n",
              "          '<a target=\"_blank\" href=https://colab.research.google.com/notebooks/data_table.ipynb>data table notebook</a>'\n",
              "          + ' to learn more about interactive tables.';\n",
              "        element.innerHTML = '';\n",
              "        dataTable['output_type'] = 'display_data';\n",
              "        await google.colab.output.renderOutput(dataTable, element);\n",
              "        const docLink = document.createElement('div');\n",
              "        docLink.innerHTML = docLinkHtml;\n",
              "        element.appendChild(docLink);\n",
              "      }\n",
              "    </script>\n",
              "  </div>\n",
              "\n",
              "\n",
              "<div id=\"df-ad95c58b-52e6-47d6-8dc0-325a4e0eb636\">\n",
              "  <button class=\"colab-df-quickchart\" onclick=\"quickchart('df-ad95c58b-52e6-47d6-8dc0-325a4e0eb636')\"\n",
              "            title=\"Suggest charts.\"\n",
              "            style=\"display:none;\">\n",
              "\n",
              "<svg xmlns=\"http://www.w3.org/2000/svg\" height=\"24px\"viewBox=\"0 0 24 24\"\n",
              "     width=\"24px\">\n",
              "    <g>\n",
              "        <path d=\"M19 3H5c-1.1 0-2 .9-2 2v14c0 1.1.9 2 2 2h14c1.1 0 2-.9 2-2V5c0-1.1-.9-2-2-2zM9 17H7v-7h2v7zm4 0h-2V7h2v10zm4 0h-2v-4h2v4z\"/>\n",
              "    </g>\n",
              "</svg>\n",
              "  </button>\n",
              "\n",
              "<style>\n",
              "  .colab-df-quickchart {\n",
              "      --bg-color: #E8F0FE;\n",
              "      --fill-color: #1967D2;\n",
              "      --hover-bg-color: #E2EBFA;\n",
              "      --hover-fill-color: #174EA6;\n",
              "      --disabled-fill-color: #AAA;\n",
              "      --disabled-bg-color: #DDD;\n",
              "  }\n",
              "\n",
              "  [theme=dark] .colab-df-quickchart {\n",
              "      --bg-color: #3B4455;\n",
              "      --fill-color: #D2E3FC;\n",
              "      --hover-bg-color: #434B5C;\n",
              "      --hover-fill-color: #FFFFFF;\n",
              "      --disabled-bg-color: #3B4455;\n",
              "      --disabled-fill-color: #666;\n",
              "  }\n",
              "\n",
              "  .colab-df-quickchart {\n",
              "    background-color: var(--bg-color);\n",
              "    border: none;\n",
              "    border-radius: 50%;\n",
              "    cursor: pointer;\n",
              "    display: none;\n",
              "    fill: var(--fill-color);\n",
              "    height: 32px;\n",
              "    padding: 0;\n",
              "    width: 32px;\n",
              "  }\n",
              "\n",
              "  .colab-df-quickchart:hover {\n",
              "    background-color: var(--hover-bg-color);\n",
              "    box-shadow: 0 1px 2px rgba(60, 64, 67, 0.3), 0 1px 3px 1px rgba(60, 64, 67, 0.15);\n",
              "    fill: var(--button-hover-fill-color);\n",
              "  }\n",
              "\n",
              "  .colab-df-quickchart-complete:disabled,\n",
              "  .colab-df-quickchart-complete:disabled:hover {\n",
              "    background-color: var(--disabled-bg-color);\n",
              "    fill: var(--disabled-fill-color);\n",
              "    box-shadow: none;\n",
              "  }\n",
              "\n",
              "  .colab-df-spinner {\n",
              "    border: 2px solid var(--fill-color);\n",
              "    border-color: transparent;\n",
              "    border-bottom-color: var(--fill-color);\n",
              "    animation:\n",
              "      spin 1s steps(1) infinite;\n",
              "  }\n",
              "\n",
              "  @keyframes spin {\n",
              "    0% {\n",
              "      border-color: transparent;\n",
              "      border-bottom-color: var(--fill-color);\n",
              "      border-left-color: var(--fill-color);\n",
              "    }\n",
              "    20% {\n",
              "      border-color: transparent;\n",
              "      border-left-color: var(--fill-color);\n",
              "      border-top-color: var(--fill-color);\n",
              "    }\n",
              "    30% {\n",
              "      border-color: transparent;\n",
              "      border-left-color: var(--fill-color);\n",
              "      border-top-color: var(--fill-color);\n",
              "      border-right-color: var(--fill-color);\n",
              "    }\n",
              "    40% {\n",
              "      border-color: transparent;\n",
              "      border-right-color: var(--fill-color);\n",
              "      border-top-color: var(--fill-color);\n",
              "    }\n",
              "    60% {\n",
              "      border-color: transparent;\n",
              "      border-right-color: var(--fill-color);\n",
              "    }\n",
              "    80% {\n",
              "      border-color: transparent;\n",
              "      border-right-color: var(--fill-color);\n",
              "      border-bottom-color: var(--fill-color);\n",
              "    }\n",
              "    90% {\n",
              "      border-color: transparent;\n",
              "      border-bottom-color: var(--fill-color);\n",
              "    }\n",
              "  }\n",
              "</style>\n",
              "\n",
              "  <script>\n",
              "    async function quickchart(key) {\n",
              "      const quickchartButtonEl =\n",
              "        document.querySelector('#' + key + ' button');\n",
              "      quickchartButtonEl.disabled = true;  // To prevent multiple clicks.\n",
              "      quickchartButtonEl.classList.add('colab-df-spinner');\n",
              "      try {\n",
              "        const charts = await google.colab.kernel.invokeFunction(\n",
              "            'suggestCharts', [key], {});\n",
              "      } catch (error) {\n",
              "        console.error('Error during call to suggestCharts:', error);\n",
              "      }\n",
              "      quickchartButtonEl.classList.remove('colab-df-spinner');\n",
              "      quickchartButtonEl.classList.add('colab-df-quickchart-complete');\n",
              "    }\n",
              "    (() => {\n",
              "      let quickchartButtonEl =\n",
              "        document.querySelector('#df-ad95c58b-52e6-47d6-8dc0-325a4e0eb636 button');\n",
              "      quickchartButtonEl.style.display =\n",
              "        google.colab.kernel.accessAllowed ? 'block' : 'none';\n",
              "    })();\n",
              "  </script>\n",
              "</div>\n",
              "    </div>\n",
              "  </div>\n"
            ]
          },
          "metadata": {},
          "execution_count": 144
        }
      ]
    },
    {
      "cell_type": "code",
      "source": [
        "input_strc_df.to_csv('국가별 투입구조.csv', encoding='utf_8-sig')"
      ],
      "metadata": {
        "id": "FUE3uKMRTdpr"
      },
      "execution_count": 145,
      "outputs": []
    },
    {
      "cell_type": "markdown",
      "source": [
        "#### 국가별 배분구조"
      ],
      "metadata": {
        "id": "NGgcytnkVDNd"
      }
    },
    {
      "cell_type": "code",
      "source": [
        "imp_dstr = imp.sum(axis=1).reshape([4,1])\n",
        "imp_dstr"
      ],
      "metadata": {
        "id": "2ZwswHk4Tdr5",
        "outputId": "c8f2d1fc-4e42-4dca-ec1c-a717e1e9be64",
        "colab": {
          "base_uri": "https://localhost:8080/"
        }
      },
      "execution_count": 146,
      "outputs": [
        {
          "output_type": "execute_result",
          "data": {
            "text/plain": [
              "array([[ 4625.],\n",
              "       [12641.],\n",
              "       [12988.],\n",
              "       [28804.]])"
            ]
          },
          "metadata": {},
          "execution_count": 146
        }
      ]
    },
    {
      "cell_type": "code",
      "source": [
        "id_tot = dom_sm + imp_dstr\n",
        "id_tot"
      ],
      "metadata": {
        "id": "Jb7gzH5qWuS2",
        "outputId": "9558e8b7-776b-4261-b554-771dcbb03a89",
        "colab": {
          "base_uri": "https://localhost:8080/"
        }
      },
      "execution_count": 147,
      "outputs": [
        {
          "output_type": "execute_result",
          "data": {
            "text/plain": [
              "array([[ 21472.],\n",
              "       [211175.],\n",
              "       [155764.],\n",
              "       [434992.]])"
            ]
          },
          "metadata": {},
          "execution_count": 147
        }
      ]
    },
    {
      "cell_type": "code",
      "source": [
        "fd_dom = (Mt_1sec[0:4,4:8]*one_diag).sum(axis=1).reshape([4,1])\n",
        "fd_imp = (Mt_1sec[0:4,4:8]*zero_diag).sum(axis=1).reshape([4,1])\n",
        "fd_tot = fd_dom + fd_imp\n",
        "fd_dom"
      ],
      "metadata": {
        "id": "dHGXR1XtVueN",
        "outputId": "f571e694-bb4f-4de8-cf89-781a7f610bb7",
        "colab": {
          "base_uri": "https://localhost:8080/"
        }
      },
      "execution_count": 148,
      "outputs": [
        {
          "output_type": "execute_result",
          "data": {
            "text/plain": [
              "array([[ 14221.],\n",
              "       [127334.],\n",
              "       [193606.],\n",
              "       [453116.]])"
            ]
          },
          "metadata": {},
          "execution_count": 148
        }
      ]
    },
    {
      "cell_type": "code",
      "source": [
        "tot_dmd = id_tot + fd_tot\n",
        "tot_dmd"
      ],
      "metadata": {
        "id": "DnK2KZr4Vugz",
        "outputId": "7699ee60-ffb0-4ce5-b1c6-3001112ca585",
        "colab": {
          "base_uri": "https://localhost:8080/"
        }
      },
      "execution_count": 149,
      "outputs": [
        {
          "output_type": "execute_result",
          "data": {
            "text/plain": [
              "array([[ 38234.],\n",
              "       [350158.],\n",
              "       [358964.],\n",
              "       [905658.]])"
            ]
          },
          "metadata": {},
          "execution_count": 149
        }
      ]
    },
    {
      "cell_type": "code",
      "source": [
        "dstr_mat = np.hstack((dom_sm,imp_dstr, id_tot, fd_dom, fd_imp, fd_tot,tot_dmd))\n",
        "dstr_sm = dstr_mat.sum(axis=0)"
      ],
      "metadata": {
        "id": "90qizGJ5VujH"
      },
      "execution_count": 150,
      "outputs": []
    },
    {
      "cell_type": "code",
      "source": [
        "dstr_strc = np.vstack((dstr_mat,dstr_sm))\n",
        "dstr_strc"
      ],
      "metadata": {
        "id": "BkMnDOboVulh",
        "outputId": "55a382e3-7b30-4520-dbc9-7b65f65bd68b",
        "colab": {
          "base_uri": "https://localhost:8080/"
        }
      },
      "execution_count": 151,
      "outputs": [
        {
          "output_type": "execute_result",
          "data": {
            "text/plain": [
              "array([[  16847.,    4625.,   21472.,   14221.,    2541.,   16762.,\n",
              "          38234.],\n",
              "       [ 198534.,   12641.,  211175.,  127334.,   11649.,  138983.,\n",
              "         350158.],\n",
              "       [ 142776.,   12988.,  155764.,  193606.,    9594.,  203200.,\n",
              "         358964.],\n",
              "       [ 406188.,   28804.,  434992.,  453116.,   17550.,  470666.,\n",
              "         905658.],\n",
              "       [ 764345.,   59058.,  823403.,  788277.,   41334.,  829611.,\n",
              "        1653014.]])"
            ]
          },
          "metadata": {},
          "execution_count": 151
        }
      ]
    },
    {
      "cell_type": "code",
      "source": [
        "dstr_strc_df = pd.DataFrame(dstr_strc, columns = [['중간수요', '중간수요', '중간수요','최종수요', '최종수요', '최종수요', '총수요'],\n",
        "                                                  ['자국', '타국', '중간수요계','자국', '타국', '최종수요계', '총수요계']],\n",
        "                     index=['한국', '중국', '미국','ROW','전세계']) # 변수명 붙여서 pandas로 내보내기\n",
        "\n",
        "dstr_strc_df"
      ],
      "metadata": {
        "id": "PX3Qe1W0YVUL",
        "outputId": "6077540a-6902-48e0-f824-cba8f0a26c40",
        "colab": {
          "base_uri": "https://localhost:8080/",
          "height": 237
        }
      },
      "execution_count": 152,
      "outputs": [
        {
          "output_type": "execute_result",
          "data": {
            "text/plain": [
              "         중간수요                         최종수요                           총수요\n",
              "           자국       타국     중간수요계        자국       타국     최종수요계       총수요계\n",
              "한국    16847.0   4625.0   21472.0   14221.0   2541.0   16762.0    38234.0\n",
              "중국   198534.0  12641.0  211175.0  127334.0  11649.0  138983.0   350158.0\n",
              "미국   142776.0  12988.0  155764.0  193606.0   9594.0  203200.0   358964.0\n",
              "ROW  406188.0  28804.0  434992.0  453116.0  17550.0  470666.0   905658.0\n",
              "전세계  764345.0  59058.0  823403.0  788277.0  41334.0  829611.0  1653014.0"
            ],
            "text/html": [
              "\n",
              "  <div id=\"df-b790a685-02c6-4615-b2de-04c94eb9c433\" class=\"colab-df-container\">\n",
              "    <div>\n",
              "<style scoped>\n",
              "    .dataframe tbody tr th:only-of-type {\n",
              "        vertical-align: middle;\n",
              "    }\n",
              "\n",
              "    .dataframe tbody tr th {\n",
              "        vertical-align: top;\n",
              "    }\n",
              "\n",
              "    .dataframe thead tr th {\n",
              "        text-align: left;\n",
              "    }\n",
              "</style>\n",
              "<table border=\"1\" class=\"dataframe\">\n",
              "  <thead>\n",
              "    <tr>\n",
              "      <th></th>\n",
              "      <th colspan=\"3\" halign=\"left\">중간수요</th>\n",
              "      <th colspan=\"3\" halign=\"left\">최종수요</th>\n",
              "      <th>총수요</th>\n",
              "    </tr>\n",
              "    <tr>\n",
              "      <th></th>\n",
              "      <th>자국</th>\n",
              "      <th>타국</th>\n",
              "      <th>중간수요계</th>\n",
              "      <th>자국</th>\n",
              "      <th>타국</th>\n",
              "      <th>최종수요계</th>\n",
              "      <th>총수요계</th>\n",
              "    </tr>\n",
              "  </thead>\n",
              "  <tbody>\n",
              "    <tr>\n",
              "      <th>한국</th>\n",
              "      <td>16847.0</td>\n",
              "      <td>4625.0</td>\n",
              "      <td>21472.0</td>\n",
              "      <td>14221.0</td>\n",
              "      <td>2541.0</td>\n",
              "      <td>16762.0</td>\n",
              "      <td>38234.0</td>\n",
              "    </tr>\n",
              "    <tr>\n",
              "      <th>중국</th>\n",
              "      <td>198534.0</td>\n",
              "      <td>12641.0</td>\n",
              "      <td>211175.0</td>\n",
              "      <td>127334.0</td>\n",
              "      <td>11649.0</td>\n",
              "      <td>138983.0</td>\n",
              "      <td>350158.0</td>\n",
              "    </tr>\n",
              "    <tr>\n",
              "      <th>미국</th>\n",
              "      <td>142776.0</td>\n",
              "      <td>12988.0</td>\n",
              "      <td>155764.0</td>\n",
              "      <td>193606.0</td>\n",
              "      <td>9594.0</td>\n",
              "      <td>203200.0</td>\n",
              "      <td>358964.0</td>\n",
              "    </tr>\n",
              "    <tr>\n",
              "      <th>ROW</th>\n",
              "      <td>406188.0</td>\n",
              "      <td>28804.0</td>\n",
              "      <td>434992.0</td>\n",
              "      <td>453116.0</td>\n",
              "      <td>17550.0</td>\n",
              "      <td>470666.0</td>\n",
              "      <td>905658.0</td>\n",
              "    </tr>\n",
              "    <tr>\n",
              "      <th>전세계</th>\n",
              "      <td>764345.0</td>\n",
              "      <td>59058.0</td>\n",
              "      <td>823403.0</td>\n",
              "      <td>788277.0</td>\n",
              "      <td>41334.0</td>\n",
              "      <td>829611.0</td>\n",
              "      <td>1653014.0</td>\n",
              "    </tr>\n",
              "  </tbody>\n",
              "</table>\n",
              "</div>\n",
              "    <div class=\"colab-df-buttons\">\n",
              "\n",
              "  <div class=\"colab-df-container\">\n",
              "    <button class=\"colab-df-convert\" onclick=\"convertToInteractive('df-b790a685-02c6-4615-b2de-04c94eb9c433')\"\n",
              "            title=\"Convert this dataframe to an interactive table.\"\n",
              "            style=\"display:none;\">\n",
              "\n",
              "  <svg xmlns=\"http://www.w3.org/2000/svg\" height=\"24px\" viewBox=\"0 -960 960 960\">\n",
              "    <path d=\"M120-120v-720h720v720H120Zm60-500h600v-160H180v160Zm220 220h160v-160H400v160Zm0 220h160v-160H400v160ZM180-400h160v-160H180v160Zm440 0h160v-160H620v160ZM180-180h160v-160H180v160Zm440 0h160v-160H620v160Z\"/>\n",
              "  </svg>\n",
              "    </button>\n",
              "\n",
              "  <style>\n",
              "    .colab-df-container {\n",
              "      display:flex;\n",
              "      gap: 12px;\n",
              "    }\n",
              "\n",
              "    .colab-df-convert {\n",
              "      background-color: #E8F0FE;\n",
              "      border: none;\n",
              "      border-radius: 50%;\n",
              "      cursor: pointer;\n",
              "      display: none;\n",
              "      fill: #1967D2;\n",
              "      height: 32px;\n",
              "      padding: 0 0 0 0;\n",
              "      width: 32px;\n",
              "    }\n",
              "\n",
              "    .colab-df-convert:hover {\n",
              "      background-color: #E2EBFA;\n",
              "      box-shadow: 0px 1px 2px rgba(60, 64, 67, 0.3), 0px 1px 3px 1px rgba(60, 64, 67, 0.15);\n",
              "      fill: #174EA6;\n",
              "    }\n",
              "\n",
              "    .colab-df-buttons div {\n",
              "      margin-bottom: 4px;\n",
              "    }\n",
              "\n",
              "    [theme=dark] .colab-df-convert {\n",
              "      background-color: #3B4455;\n",
              "      fill: #D2E3FC;\n",
              "    }\n",
              "\n",
              "    [theme=dark] .colab-df-convert:hover {\n",
              "      background-color: #434B5C;\n",
              "      box-shadow: 0px 1px 3px 1px rgba(0, 0, 0, 0.15);\n",
              "      filter: drop-shadow(0px 1px 2px rgba(0, 0, 0, 0.3));\n",
              "      fill: #FFFFFF;\n",
              "    }\n",
              "  </style>\n",
              "\n",
              "    <script>\n",
              "      const buttonEl =\n",
              "        document.querySelector('#df-b790a685-02c6-4615-b2de-04c94eb9c433 button.colab-df-convert');\n",
              "      buttonEl.style.display =\n",
              "        google.colab.kernel.accessAllowed ? 'block' : 'none';\n",
              "\n",
              "      async function convertToInteractive(key) {\n",
              "        const element = document.querySelector('#df-b790a685-02c6-4615-b2de-04c94eb9c433');\n",
              "        const dataTable =\n",
              "          await google.colab.kernel.invokeFunction('convertToInteractive',\n",
              "                                                    [key], {});\n",
              "        if (!dataTable) return;\n",
              "\n",
              "        const docLinkHtml = 'Like what you see? Visit the ' +\n",
              "          '<a target=\"_blank\" href=https://colab.research.google.com/notebooks/data_table.ipynb>data table notebook</a>'\n",
              "          + ' to learn more about interactive tables.';\n",
              "        element.innerHTML = '';\n",
              "        dataTable['output_type'] = 'display_data';\n",
              "        await google.colab.output.renderOutput(dataTable, element);\n",
              "        const docLink = document.createElement('div');\n",
              "        docLink.innerHTML = docLinkHtml;\n",
              "        element.appendChild(docLink);\n",
              "      }\n",
              "    </script>\n",
              "  </div>\n",
              "\n",
              "\n",
              "<div id=\"df-16150413-8615-4ab2-8468-2a3c79cac30e\">\n",
              "  <button class=\"colab-df-quickchart\" onclick=\"quickchart('df-16150413-8615-4ab2-8468-2a3c79cac30e')\"\n",
              "            title=\"Suggest charts.\"\n",
              "            style=\"display:none;\">\n",
              "\n",
              "<svg xmlns=\"http://www.w3.org/2000/svg\" height=\"24px\"viewBox=\"0 0 24 24\"\n",
              "     width=\"24px\">\n",
              "    <g>\n",
              "        <path d=\"M19 3H5c-1.1 0-2 .9-2 2v14c0 1.1.9 2 2 2h14c1.1 0 2-.9 2-2V5c0-1.1-.9-2-2-2zM9 17H7v-7h2v7zm4 0h-2V7h2v10zm4 0h-2v-4h2v4z\"/>\n",
              "    </g>\n",
              "</svg>\n",
              "  </button>\n",
              "\n",
              "<style>\n",
              "  .colab-df-quickchart {\n",
              "      --bg-color: #E8F0FE;\n",
              "      --fill-color: #1967D2;\n",
              "      --hover-bg-color: #E2EBFA;\n",
              "      --hover-fill-color: #174EA6;\n",
              "      --disabled-fill-color: #AAA;\n",
              "      --disabled-bg-color: #DDD;\n",
              "  }\n",
              "\n",
              "  [theme=dark] .colab-df-quickchart {\n",
              "      --bg-color: #3B4455;\n",
              "      --fill-color: #D2E3FC;\n",
              "      --hover-bg-color: #434B5C;\n",
              "      --hover-fill-color: #FFFFFF;\n",
              "      --disabled-bg-color: #3B4455;\n",
              "      --disabled-fill-color: #666;\n",
              "  }\n",
              "\n",
              "  .colab-df-quickchart {\n",
              "    background-color: var(--bg-color);\n",
              "    border: none;\n",
              "    border-radius: 50%;\n",
              "    cursor: pointer;\n",
              "    display: none;\n",
              "    fill: var(--fill-color);\n",
              "    height: 32px;\n",
              "    padding: 0;\n",
              "    width: 32px;\n",
              "  }\n",
              "\n",
              "  .colab-df-quickchart:hover {\n",
              "    background-color: var(--hover-bg-color);\n",
              "    box-shadow: 0 1px 2px rgba(60, 64, 67, 0.3), 0 1px 3px 1px rgba(60, 64, 67, 0.15);\n",
              "    fill: var(--button-hover-fill-color);\n",
              "  }\n",
              "\n",
              "  .colab-df-quickchart-complete:disabled,\n",
              "  .colab-df-quickchart-complete:disabled:hover {\n",
              "    background-color: var(--disabled-bg-color);\n",
              "    fill: var(--disabled-fill-color);\n",
              "    box-shadow: none;\n",
              "  }\n",
              "\n",
              "  .colab-df-spinner {\n",
              "    border: 2px solid var(--fill-color);\n",
              "    border-color: transparent;\n",
              "    border-bottom-color: var(--fill-color);\n",
              "    animation:\n",
              "      spin 1s steps(1) infinite;\n",
              "  }\n",
              "\n",
              "  @keyframes spin {\n",
              "    0% {\n",
              "      border-color: transparent;\n",
              "      border-bottom-color: var(--fill-color);\n",
              "      border-left-color: var(--fill-color);\n",
              "    }\n",
              "    20% {\n",
              "      border-color: transparent;\n",
              "      border-left-color: var(--fill-color);\n",
              "      border-top-color: var(--fill-color);\n",
              "    }\n",
              "    30% {\n",
              "      border-color: transparent;\n",
              "      border-left-color: var(--fill-color);\n",
              "      border-top-color: var(--fill-color);\n",
              "      border-right-color: var(--fill-color);\n",
              "    }\n",
              "    40% {\n",
              "      border-color: transparent;\n",
              "      border-right-color: var(--fill-color);\n",
              "      border-top-color: var(--fill-color);\n",
              "    }\n",
              "    60% {\n",
              "      border-color: transparent;\n",
              "      border-right-color: var(--fill-color);\n",
              "    }\n",
              "    80% {\n",
              "      border-color: transparent;\n",
              "      border-right-color: var(--fill-color);\n",
              "      border-bottom-color: var(--fill-color);\n",
              "    }\n",
              "    90% {\n",
              "      border-color: transparent;\n",
              "      border-bottom-color: var(--fill-color);\n",
              "    }\n",
              "  }\n",
              "</style>\n",
              "\n",
              "  <script>\n",
              "    async function quickchart(key) {\n",
              "      const quickchartButtonEl =\n",
              "        document.querySelector('#' + key + ' button');\n",
              "      quickchartButtonEl.disabled = true;  // To prevent multiple clicks.\n",
              "      quickchartButtonEl.classList.add('colab-df-spinner');\n",
              "      try {\n",
              "        const charts = await google.colab.kernel.invokeFunction(\n",
              "            'suggestCharts', [key], {});\n",
              "      } catch (error) {\n",
              "        console.error('Error during call to suggestCharts:', error);\n",
              "      }\n",
              "      quickchartButtonEl.classList.remove('colab-df-spinner');\n",
              "      quickchartButtonEl.classList.add('colab-df-quickchart-complete');\n",
              "    }\n",
              "    (() => {\n",
              "      let quickchartButtonEl =\n",
              "        document.querySelector('#df-16150413-8615-4ab2-8468-2a3c79cac30e button');\n",
              "      quickchartButtonEl.style.display =\n",
              "        google.colab.kernel.accessAllowed ? 'block' : 'none';\n",
              "    })();\n",
              "  </script>\n",
              "</div>\n",
              "    </div>\n",
              "  </div>\n"
            ]
          },
          "metadata": {},
          "execution_count": 152
        }
      ]
    },
    {
      "cell_type": "code",
      "source": [
        "dstr_strc_df.to_csv('국가별 배분구조.csv', encoding='utf_8-sig')"
      ],
      "metadata": {
        "id": "zUCrQr1IYVY9"
      },
      "execution_count": 153,
      "outputs": []
    },
    {
      "cell_type": "markdown",
      "source": [
        "#### 국가간 수출구조"
      ],
      "metadata": {
        "id": "LQsgUSnDs7Lb"
      }
    },
    {
      "cell_type": "code",
      "source": [
        "id = Mt_1sec[:4,:4].astype(float)\n",
        "fd = Mt_1sec[:4:,4:].astype(float)\n",
        "fd"
      ],
      "metadata": {
        "colab": {
          "base_uri": "https://localhost:8080/"
        },
        "id": "HKTw5KGSs6dL",
        "outputId": "c658dabd-7ca7-4e7a-d7b0-14ec9a89cf3a"
      },
      "execution_count": 154,
      "outputs": [
        {
          "output_type": "execute_result",
          "data": {
            "text/plain": [
              "array([[ 14221.,    520.,    438.,   1583.],\n",
              "       [   358., 127334.,   2773.,   8518.],\n",
              "       [   291.,    964., 193606.,   8339.],\n",
              "       [   934.,   5126.,  11490., 453116.]])"
            ]
          },
          "metadata": {},
          "execution_count": 154
        }
      ]
    },
    {
      "cell_type": "code",
      "source": [
        "trade = id + fd\n",
        "trade_sm_rw = trade.sum(axis=1).reshape([4,1])"
      ],
      "metadata": {
        "id": "28FP944ZKd5P"
      },
      "execution_count": 155,
      "outputs": []
    },
    {
      "cell_type": "code",
      "source": [
        "trade_rw = np.hstack((trade,trade_sm_rw))\n",
        "exp_ratio = (trade_rw/trade_sm_rw)*100\n",
        "exp_ratio"
      ],
      "metadata": {
        "id": "eiNhIGFuK2DU",
        "outputId": "5c9360bc-02f9-45c1-9cd5-e799a24932d9",
        "colab": {
          "base_uri": "https://localhost:8080/"
        }
      },
      "execution_count": 156,
      "outputs": [
        {
          "output_type": "execute_result",
          "data": {
            "text/plain": [
              "array([[ 81.258,   6.173,   2.179,  10.391, 100.   ],\n",
              "       [  0.351,  93.063,   1.401,   5.185, 100.   ],\n",
              "       [  0.234,   0.645,  93.709,   5.413, 100.   ],\n",
              "       [  0.475,   2.064,   2.58 ,  94.882, 100.   ]])"
            ]
          },
          "metadata": {},
          "execution_count": 156
        }
      ]
    },
    {
      "cell_type": "code",
      "source": [
        "exp_mat_df = pd.DataFrame(exp_ratio.round(1), columns = ['한국', '중국', '미국','ROW', '전세계'],\n",
        "                                       index=['한국', '중국', '미국','ROW']) # 변수명 붙여서 pandas로 내보내기\n",
        "\n",
        "exp_mat_df"
      ],
      "metadata": {
        "id": "nO-TaZpdLquF",
        "outputId": "54d0098b-70f3-473a-9fbb-38b054c066d6",
        "colab": {
          "base_uri": "https://localhost:8080/",
          "height": 175
        }
      },
      "execution_count": 157,
      "outputs": [
        {
          "output_type": "execute_result",
          "data": {
            "text/plain": [
              "       한국    중국    미국   ROW    전세계\n",
              "한국   81.3   6.2   2.2  10.4  100.0\n",
              "중국    0.4  93.1   1.4   5.2  100.0\n",
              "미국    0.2   0.6  93.7   5.4  100.0\n",
              "ROW   0.5   2.1   2.6  94.9  100.0"
            ],
            "text/html": [
              "\n",
              "  <div id=\"df-5cde29f5-83ae-43eb-b504-df02b2fd670b\" class=\"colab-df-container\">\n",
              "    <div>\n",
              "<style scoped>\n",
              "    .dataframe tbody tr th:only-of-type {\n",
              "        vertical-align: middle;\n",
              "    }\n",
              "\n",
              "    .dataframe tbody tr th {\n",
              "        vertical-align: top;\n",
              "    }\n",
              "\n",
              "    .dataframe thead th {\n",
              "        text-align: right;\n",
              "    }\n",
              "</style>\n",
              "<table border=\"1\" class=\"dataframe\">\n",
              "  <thead>\n",
              "    <tr style=\"text-align: right;\">\n",
              "      <th></th>\n",
              "      <th>한국</th>\n",
              "      <th>중국</th>\n",
              "      <th>미국</th>\n",
              "      <th>ROW</th>\n",
              "      <th>전세계</th>\n",
              "    </tr>\n",
              "  </thead>\n",
              "  <tbody>\n",
              "    <tr>\n",
              "      <th>한국</th>\n",
              "      <td>81.3</td>\n",
              "      <td>6.2</td>\n",
              "      <td>2.2</td>\n",
              "      <td>10.4</td>\n",
              "      <td>100.0</td>\n",
              "    </tr>\n",
              "    <tr>\n",
              "      <th>중국</th>\n",
              "      <td>0.4</td>\n",
              "      <td>93.1</td>\n",
              "      <td>1.4</td>\n",
              "      <td>5.2</td>\n",
              "      <td>100.0</td>\n",
              "    </tr>\n",
              "    <tr>\n",
              "      <th>미국</th>\n",
              "      <td>0.2</td>\n",
              "      <td>0.6</td>\n",
              "      <td>93.7</td>\n",
              "      <td>5.4</td>\n",
              "      <td>100.0</td>\n",
              "    </tr>\n",
              "    <tr>\n",
              "      <th>ROW</th>\n",
              "      <td>0.5</td>\n",
              "      <td>2.1</td>\n",
              "      <td>2.6</td>\n",
              "      <td>94.9</td>\n",
              "      <td>100.0</td>\n",
              "    </tr>\n",
              "  </tbody>\n",
              "</table>\n",
              "</div>\n",
              "    <div class=\"colab-df-buttons\">\n",
              "\n",
              "  <div class=\"colab-df-container\">\n",
              "    <button class=\"colab-df-convert\" onclick=\"convertToInteractive('df-5cde29f5-83ae-43eb-b504-df02b2fd670b')\"\n",
              "            title=\"Convert this dataframe to an interactive table.\"\n",
              "            style=\"display:none;\">\n",
              "\n",
              "  <svg xmlns=\"http://www.w3.org/2000/svg\" height=\"24px\" viewBox=\"0 -960 960 960\">\n",
              "    <path d=\"M120-120v-720h720v720H120Zm60-500h600v-160H180v160Zm220 220h160v-160H400v160Zm0 220h160v-160H400v160ZM180-400h160v-160H180v160Zm440 0h160v-160H620v160ZM180-180h160v-160H180v160Zm440 0h160v-160H620v160Z\"/>\n",
              "  </svg>\n",
              "    </button>\n",
              "\n",
              "  <style>\n",
              "    .colab-df-container {\n",
              "      display:flex;\n",
              "      gap: 12px;\n",
              "    }\n",
              "\n",
              "    .colab-df-convert {\n",
              "      background-color: #E8F0FE;\n",
              "      border: none;\n",
              "      border-radius: 50%;\n",
              "      cursor: pointer;\n",
              "      display: none;\n",
              "      fill: #1967D2;\n",
              "      height: 32px;\n",
              "      padding: 0 0 0 0;\n",
              "      width: 32px;\n",
              "    }\n",
              "\n",
              "    .colab-df-convert:hover {\n",
              "      background-color: #E2EBFA;\n",
              "      box-shadow: 0px 1px 2px rgba(60, 64, 67, 0.3), 0px 1px 3px 1px rgba(60, 64, 67, 0.15);\n",
              "      fill: #174EA6;\n",
              "    }\n",
              "\n",
              "    .colab-df-buttons div {\n",
              "      margin-bottom: 4px;\n",
              "    }\n",
              "\n",
              "    [theme=dark] .colab-df-convert {\n",
              "      background-color: #3B4455;\n",
              "      fill: #D2E3FC;\n",
              "    }\n",
              "\n",
              "    [theme=dark] .colab-df-convert:hover {\n",
              "      background-color: #434B5C;\n",
              "      box-shadow: 0px 1px 3px 1px rgba(0, 0, 0, 0.15);\n",
              "      filter: drop-shadow(0px 1px 2px rgba(0, 0, 0, 0.3));\n",
              "      fill: #FFFFFF;\n",
              "    }\n",
              "  </style>\n",
              "\n",
              "    <script>\n",
              "      const buttonEl =\n",
              "        document.querySelector('#df-5cde29f5-83ae-43eb-b504-df02b2fd670b button.colab-df-convert');\n",
              "      buttonEl.style.display =\n",
              "        google.colab.kernel.accessAllowed ? 'block' : 'none';\n",
              "\n",
              "      async function convertToInteractive(key) {\n",
              "        const element = document.querySelector('#df-5cde29f5-83ae-43eb-b504-df02b2fd670b');\n",
              "        const dataTable =\n",
              "          await google.colab.kernel.invokeFunction('convertToInteractive',\n",
              "                                                    [key], {});\n",
              "        if (!dataTable) return;\n",
              "\n",
              "        const docLinkHtml = 'Like what you see? Visit the ' +\n",
              "          '<a target=\"_blank\" href=https://colab.research.google.com/notebooks/data_table.ipynb>data table notebook</a>'\n",
              "          + ' to learn more about interactive tables.';\n",
              "        element.innerHTML = '';\n",
              "        dataTable['output_type'] = 'display_data';\n",
              "        await google.colab.output.renderOutput(dataTable, element);\n",
              "        const docLink = document.createElement('div');\n",
              "        docLink.innerHTML = docLinkHtml;\n",
              "        element.appendChild(docLink);\n",
              "      }\n",
              "    </script>\n",
              "  </div>\n",
              "\n",
              "\n",
              "<div id=\"df-be58269a-c964-44fa-9755-55edded5410e\">\n",
              "  <button class=\"colab-df-quickchart\" onclick=\"quickchart('df-be58269a-c964-44fa-9755-55edded5410e')\"\n",
              "            title=\"Suggest charts.\"\n",
              "            style=\"display:none;\">\n",
              "\n",
              "<svg xmlns=\"http://www.w3.org/2000/svg\" height=\"24px\"viewBox=\"0 0 24 24\"\n",
              "     width=\"24px\">\n",
              "    <g>\n",
              "        <path d=\"M19 3H5c-1.1 0-2 .9-2 2v14c0 1.1.9 2 2 2h14c1.1 0 2-.9 2-2V5c0-1.1-.9-2-2-2zM9 17H7v-7h2v7zm4 0h-2V7h2v10zm4 0h-2v-4h2v4z\"/>\n",
              "    </g>\n",
              "</svg>\n",
              "  </button>\n",
              "\n",
              "<style>\n",
              "  .colab-df-quickchart {\n",
              "      --bg-color: #E8F0FE;\n",
              "      --fill-color: #1967D2;\n",
              "      --hover-bg-color: #E2EBFA;\n",
              "      --hover-fill-color: #174EA6;\n",
              "      --disabled-fill-color: #AAA;\n",
              "      --disabled-bg-color: #DDD;\n",
              "  }\n",
              "\n",
              "  [theme=dark] .colab-df-quickchart {\n",
              "      --bg-color: #3B4455;\n",
              "      --fill-color: #D2E3FC;\n",
              "      --hover-bg-color: #434B5C;\n",
              "      --hover-fill-color: #FFFFFF;\n",
              "      --disabled-bg-color: #3B4455;\n",
              "      --disabled-fill-color: #666;\n",
              "  }\n",
              "\n",
              "  .colab-df-quickchart {\n",
              "    background-color: var(--bg-color);\n",
              "    border: none;\n",
              "    border-radius: 50%;\n",
              "    cursor: pointer;\n",
              "    display: none;\n",
              "    fill: var(--fill-color);\n",
              "    height: 32px;\n",
              "    padding: 0;\n",
              "    width: 32px;\n",
              "  }\n",
              "\n",
              "  .colab-df-quickchart:hover {\n",
              "    background-color: var(--hover-bg-color);\n",
              "    box-shadow: 0 1px 2px rgba(60, 64, 67, 0.3), 0 1px 3px 1px rgba(60, 64, 67, 0.15);\n",
              "    fill: var(--button-hover-fill-color);\n",
              "  }\n",
              "\n",
              "  .colab-df-quickchart-complete:disabled,\n",
              "  .colab-df-quickchart-complete:disabled:hover {\n",
              "    background-color: var(--disabled-bg-color);\n",
              "    fill: var(--disabled-fill-color);\n",
              "    box-shadow: none;\n",
              "  }\n",
              "\n",
              "  .colab-df-spinner {\n",
              "    border: 2px solid var(--fill-color);\n",
              "    border-color: transparent;\n",
              "    border-bottom-color: var(--fill-color);\n",
              "    animation:\n",
              "      spin 1s steps(1) infinite;\n",
              "  }\n",
              "\n",
              "  @keyframes spin {\n",
              "    0% {\n",
              "      border-color: transparent;\n",
              "      border-bottom-color: var(--fill-color);\n",
              "      border-left-color: var(--fill-color);\n",
              "    }\n",
              "    20% {\n",
              "      border-color: transparent;\n",
              "      border-left-color: var(--fill-color);\n",
              "      border-top-color: var(--fill-color);\n",
              "    }\n",
              "    30% {\n",
              "      border-color: transparent;\n",
              "      border-left-color: var(--fill-color);\n",
              "      border-top-color: var(--fill-color);\n",
              "      border-right-color: var(--fill-color);\n",
              "    }\n",
              "    40% {\n",
              "      border-color: transparent;\n",
              "      border-right-color: var(--fill-color);\n",
              "      border-top-color: var(--fill-color);\n",
              "    }\n",
              "    60% {\n",
              "      border-color: transparent;\n",
              "      border-right-color: var(--fill-color);\n",
              "    }\n",
              "    80% {\n",
              "      border-color: transparent;\n",
              "      border-right-color: var(--fill-color);\n",
              "      border-bottom-color: var(--fill-color);\n",
              "    }\n",
              "    90% {\n",
              "      border-color: transparent;\n",
              "      border-bottom-color: var(--fill-color);\n",
              "    }\n",
              "  }\n",
              "</style>\n",
              "\n",
              "  <script>\n",
              "    async function quickchart(key) {\n",
              "      const quickchartButtonEl =\n",
              "        document.querySelector('#' + key + ' button');\n",
              "      quickchartButtonEl.disabled = true;  // To prevent multiple clicks.\n",
              "      quickchartButtonEl.classList.add('colab-df-spinner');\n",
              "      try {\n",
              "        const charts = await google.colab.kernel.invokeFunction(\n",
              "            'suggestCharts', [key], {});\n",
              "      } catch (error) {\n",
              "        console.error('Error during call to suggestCharts:', error);\n",
              "      }\n",
              "      quickchartButtonEl.classList.remove('colab-df-spinner');\n",
              "      quickchartButtonEl.classList.add('colab-df-quickchart-complete');\n",
              "    }\n",
              "    (() => {\n",
              "      let quickchartButtonEl =\n",
              "        document.querySelector('#df-be58269a-c964-44fa-9755-55edded5410e button');\n",
              "      quickchartButtonEl.style.display =\n",
              "        google.colab.kernel.accessAllowed ? 'block' : 'none';\n",
              "    })();\n",
              "  </script>\n",
              "</div>\n",
              "    </div>\n",
              "  </div>\n"
            ]
          },
          "metadata": {},
          "execution_count": 157
        }
      ]
    },
    {
      "cell_type": "code",
      "source": [
        "exp_mat_df.to_csv('국가 간 수출 구조.csv', encoding='utf_8-sig')"
      ],
      "metadata": {
        "id": "RQHSLHSoMzFV"
      },
      "execution_count": 158,
      "outputs": []
    },
    {
      "cell_type": "markdown",
      "source": [
        "국가간 수입구조"
      ],
      "metadata": {
        "id": "I7QkVYL-NH6R"
      }
    },
    {
      "cell_type": "code",
      "source": [
        "trade_sm_col = trade.sum(axis=0).reshape([1,4])\n",
        "trade_sm_col"
      ],
      "metadata": {
        "id": "LWoVh0kKMzIM",
        "outputId": "9e4bdace-0435-4a16-b671-521f1e35f82e",
        "colab": {
          "base_uri": "https://localhost:8080/"
        }
      },
      "execution_count": 159,
      "outputs": [
        {
          "output_type": "execute_result",
          "data": {
            "text/plain": [
              "array([[ 37439., 349232., 365483., 900860.]])"
            ]
          },
          "metadata": {},
          "execution_count": 159
        }
      ]
    },
    {
      "cell_type": "code",
      "source": [
        "trade_col = np.vstack((trade,trade_sm_col))\n",
        "imp_ratio = (trade_col/trade_sm_col)*100\n",
        "imp_ratio"
      ],
      "metadata": {
        "id": "HD3yvlp3MzLD",
        "outputId": "2b4a4a24-326d-4438-ed41-643664c81c69",
        "colab": {
          "base_uri": "https://localhost:8080/"
        }
      },
      "execution_count": 160,
      "outputs": [
        {
          "output_type": "execute_result",
          "data": {
            "text/plain": [
              "array([[ 82.983,   0.676,   0.228,   0.441],\n",
              "       [  3.285,  93.31 ,   1.342,   2.015],\n",
              "       [  2.241,   0.663,  92.038,   2.157],\n",
              "       [ 11.491,   5.352,   6.392,  95.387],\n",
              "       [100.   , 100.   , 100.   , 100.   ]])"
            ]
          },
          "metadata": {},
          "execution_count": 160
        }
      ]
    },
    {
      "cell_type": "code",
      "source": [
        "imp_mat_df = pd.DataFrame(imp_ratio.round(1), columns = ['한국', '중국', '미국','ROW'],\n",
        "                                       index=['한국', '중국', '미국','ROW', '전세계']) # 변수명 붙여서 pandas로 내보내기\n",
        "\n",
        "imp_mat_df"
      ],
      "metadata": {
        "id": "egXVPi40NwzU",
        "outputId": "67edf804-853d-430a-a4f8-0f8af7c42564",
        "colab": {
          "base_uri": "https://localhost:8080/",
          "height": 206
        }
      },
      "execution_count": 161,
      "outputs": [
        {
          "output_type": "execute_result",
          "data": {
            "text/plain": [
              "        한국     중국     미국    ROW\n",
              "한국    83.0    0.7    0.2    0.4\n",
              "중국     3.3   93.3    1.3    2.0\n",
              "미국     2.2    0.7   92.0    2.2\n",
              "ROW   11.5    5.4    6.4   95.4\n",
              "전세계  100.0  100.0  100.0  100.0"
            ],
            "text/html": [
              "\n",
              "  <div id=\"df-2e2a427d-9fbb-4827-829c-5249744a1e04\" class=\"colab-df-container\">\n",
              "    <div>\n",
              "<style scoped>\n",
              "    .dataframe tbody tr th:only-of-type {\n",
              "        vertical-align: middle;\n",
              "    }\n",
              "\n",
              "    .dataframe tbody tr th {\n",
              "        vertical-align: top;\n",
              "    }\n",
              "\n",
              "    .dataframe thead th {\n",
              "        text-align: right;\n",
              "    }\n",
              "</style>\n",
              "<table border=\"1\" class=\"dataframe\">\n",
              "  <thead>\n",
              "    <tr style=\"text-align: right;\">\n",
              "      <th></th>\n",
              "      <th>한국</th>\n",
              "      <th>중국</th>\n",
              "      <th>미국</th>\n",
              "      <th>ROW</th>\n",
              "    </tr>\n",
              "  </thead>\n",
              "  <tbody>\n",
              "    <tr>\n",
              "      <th>한국</th>\n",
              "      <td>83.0</td>\n",
              "      <td>0.7</td>\n",
              "      <td>0.2</td>\n",
              "      <td>0.4</td>\n",
              "    </tr>\n",
              "    <tr>\n",
              "      <th>중국</th>\n",
              "      <td>3.3</td>\n",
              "      <td>93.3</td>\n",
              "      <td>1.3</td>\n",
              "      <td>2.0</td>\n",
              "    </tr>\n",
              "    <tr>\n",
              "      <th>미국</th>\n",
              "      <td>2.2</td>\n",
              "      <td>0.7</td>\n",
              "      <td>92.0</td>\n",
              "      <td>2.2</td>\n",
              "    </tr>\n",
              "    <tr>\n",
              "      <th>ROW</th>\n",
              "      <td>11.5</td>\n",
              "      <td>5.4</td>\n",
              "      <td>6.4</td>\n",
              "      <td>95.4</td>\n",
              "    </tr>\n",
              "    <tr>\n",
              "      <th>전세계</th>\n",
              "      <td>100.0</td>\n",
              "      <td>100.0</td>\n",
              "      <td>100.0</td>\n",
              "      <td>100.0</td>\n",
              "    </tr>\n",
              "  </tbody>\n",
              "</table>\n",
              "</div>\n",
              "    <div class=\"colab-df-buttons\">\n",
              "\n",
              "  <div class=\"colab-df-container\">\n",
              "    <button class=\"colab-df-convert\" onclick=\"convertToInteractive('df-2e2a427d-9fbb-4827-829c-5249744a1e04')\"\n",
              "            title=\"Convert this dataframe to an interactive table.\"\n",
              "            style=\"display:none;\">\n",
              "\n",
              "  <svg xmlns=\"http://www.w3.org/2000/svg\" height=\"24px\" viewBox=\"0 -960 960 960\">\n",
              "    <path d=\"M120-120v-720h720v720H120Zm60-500h600v-160H180v160Zm220 220h160v-160H400v160Zm0 220h160v-160H400v160ZM180-400h160v-160H180v160Zm440 0h160v-160H620v160ZM180-180h160v-160H180v160Zm440 0h160v-160H620v160Z\"/>\n",
              "  </svg>\n",
              "    </button>\n",
              "\n",
              "  <style>\n",
              "    .colab-df-container {\n",
              "      display:flex;\n",
              "      gap: 12px;\n",
              "    }\n",
              "\n",
              "    .colab-df-convert {\n",
              "      background-color: #E8F0FE;\n",
              "      border: none;\n",
              "      border-radius: 50%;\n",
              "      cursor: pointer;\n",
              "      display: none;\n",
              "      fill: #1967D2;\n",
              "      height: 32px;\n",
              "      padding: 0 0 0 0;\n",
              "      width: 32px;\n",
              "    }\n",
              "\n",
              "    .colab-df-convert:hover {\n",
              "      background-color: #E2EBFA;\n",
              "      box-shadow: 0px 1px 2px rgba(60, 64, 67, 0.3), 0px 1px 3px 1px rgba(60, 64, 67, 0.15);\n",
              "      fill: #174EA6;\n",
              "    }\n",
              "\n",
              "    .colab-df-buttons div {\n",
              "      margin-bottom: 4px;\n",
              "    }\n",
              "\n",
              "    [theme=dark] .colab-df-convert {\n",
              "      background-color: #3B4455;\n",
              "      fill: #D2E3FC;\n",
              "    }\n",
              "\n",
              "    [theme=dark] .colab-df-convert:hover {\n",
              "      background-color: #434B5C;\n",
              "      box-shadow: 0px 1px 3px 1px rgba(0, 0, 0, 0.15);\n",
              "      filter: drop-shadow(0px 1px 2px rgba(0, 0, 0, 0.3));\n",
              "      fill: #FFFFFF;\n",
              "    }\n",
              "  </style>\n",
              "\n",
              "    <script>\n",
              "      const buttonEl =\n",
              "        document.querySelector('#df-2e2a427d-9fbb-4827-829c-5249744a1e04 button.colab-df-convert');\n",
              "      buttonEl.style.display =\n",
              "        google.colab.kernel.accessAllowed ? 'block' : 'none';\n",
              "\n",
              "      async function convertToInteractive(key) {\n",
              "        const element = document.querySelector('#df-2e2a427d-9fbb-4827-829c-5249744a1e04');\n",
              "        const dataTable =\n",
              "          await google.colab.kernel.invokeFunction('convertToInteractive',\n",
              "                                                    [key], {});\n",
              "        if (!dataTable) return;\n",
              "\n",
              "        const docLinkHtml = 'Like what you see? Visit the ' +\n",
              "          '<a target=\"_blank\" href=https://colab.research.google.com/notebooks/data_table.ipynb>data table notebook</a>'\n",
              "          + ' to learn more about interactive tables.';\n",
              "        element.innerHTML = '';\n",
              "        dataTable['output_type'] = 'display_data';\n",
              "        await google.colab.output.renderOutput(dataTable, element);\n",
              "        const docLink = document.createElement('div');\n",
              "        docLink.innerHTML = docLinkHtml;\n",
              "        element.appendChild(docLink);\n",
              "      }\n",
              "    </script>\n",
              "  </div>\n",
              "\n",
              "\n",
              "<div id=\"df-cbf7468d-f57a-436a-ac2f-e5a3c2a2bf2c\">\n",
              "  <button class=\"colab-df-quickchart\" onclick=\"quickchart('df-cbf7468d-f57a-436a-ac2f-e5a3c2a2bf2c')\"\n",
              "            title=\"Suggest charts.\"\n",
              "            style=\"display:none;\">\n",
              "\n",
              "<svg xmlns=\"http://www.w3.org/2000/svg\" height=\"24px\"viewBox=\"0 0 24 24\"\n",
              "     width=\"24px\">\n",
              "    <g>\n",
              "        <path d=\"M19 3H5c-1.1 0-2 .9-2 2v14c0 1.1.9 2 2 2h14c1.1 0 2-.9 2-2V5c0-1.1-.9-2-2-2zM9 17H7v-7h2v7zm4 0h-2V7h2v10zm4 0h-2v-4h2v4z\"/>\n",
              "    </g>\n",
              "</svg>\n",
              "  </button>\n",
              "\n",
              "<style>\n",
              "  .colab-df-quickchart {\n",
              "      --bg-color: #E8F0FE;\n",
              "      --fill-color: #1967D2;\n",
              "      --hover-bg-color: #E2EBFA;\n",
              "      --hover-fill-color: #174EA6;\n",
              "      --disabled-fill-color: #AAA;\n",
              "      --disabled-bg-color: #DDD;\n",
              "  }\n",
              "\n",
              "  [theme=dark] .colab-df-quickchart {\n",
              "      --bg-color: #3B4455;\n",
              "      --fill-color: #D2E3FC;\n",
              "      --hover-bg-color: #434B5C;\n",
              "      --hover-fill-color: #FFFFFF;\n",
              "      --disabled-bg-color: #3B4455;\n",
              "      --disabled-fill-color: #666;\n",
              "  }\n",
              "\n",
              "  .colab-df-quickchart {\n",
              "    background-color: var(--bg-color);\n",
              "    border: none;\n",
              "    border-radius: 50%;\n",
              "    cursor: pointer;\n",
              "    display: none;\n",
              "    fill: var(--fill-color);\n",
              "    height: 32px;\n",
              "    padding: 0;\n",
              "    width: 32px;\n",
              "  }\n",
              "\n",
              "  .colab-df-quickchart:hover {\n",
              "    background-color: var(--hover-bg-color);\n",
              "    box-shadow: 0 1px 2px rgba(60, 64, 67, 0.3), 0 1px 3px 1px rgba(60, 64, 67, 0.15);\n",
              "    fill: var(--button-hover-fill-color);\n",
              "  }\n",
              "\n",
              "  .colab-df-quickchart-complete:disabled,\n",
              "  .colab-df-quickchart-complete:disabled:hover {\n",
              "    background-color: var(--disabled-bg-color);\n",
              "    fill: var(--disabled-fill-color);\n",
              "    box-shadow: none;\n",
              "  }\n",
              "\n",
              "  .colab-df-spinner {\n",
              "    border: 2px solid var(--fill-color);\n",
              "    border-color: transparent;\n",
              "    border-bottom-color: var(--fill-color);\n",
              "    animation:\n",
              "      spin 1s steps(1) infinite;\n",
              "  }\n",
              "\n",
              "  @keyframes spin {\n",
              "    0% {\n",
              "      border-color: transparent;\n",
              "      border-bottom-color: var(--fill-color);\n",
              "      border-left-color: var(--fill-color);\n",
              "    }\n",
              "    20% {\n",
              "      border-color: transparent;\n",
              "      border-left-color: var(--fill-color);\n",
              "      border-top-color: var(--fill-color);\n",
              "    }\n",
              "    30% {\n",
              "      border-color: transparent;\n",
              "      border-left-color: var(--fill-color);\n",
              "      border-top-color: var(--fill-color);\n",
              "      border-right-color: var(--fill-color);\n",
              "    }\n",
              "    40% {\n",
              "      border-color: transparent;\n",
              "      border-right-color: var(--fill-color);\n",
              "      border-top-color: var(--fill-color);\n",
              "    }\n",
              "    60% {\n",
              "      border-color: transparent;\n",
              "      border-right-color: var(--fill-color);\n",
              "    }\n",
              "    80% {\n",
              "      border-color: transparent;\n",
              "      border-right-color: var(--fill-color);\n",
              "      border-bottom-color: var(--fill-color);\n",
              "    }\n",
              "    90% {\n",
              "      border-color: transparent;\n",
              "      border-bottom-color: var(--fill-color);\n",
              "    }\n",
              "  }\n",
              "</style>\n",
              "\n",
              "  <script>\n",
              "    async function quickchart(key) {\n",
              "      const quickchartButtonEl =\n",
              "        document.querySelector('#' + key + ' button');\n",
              "      quickchartButtonEl.disabled = true;  // To prevent multiple clicks.\n",
              "      quickchartButtonEl.classList.add('colab-df-spinner');\n",
              "      try {\n",
              "        const charts = await google.colab.kernel.invokeFunction(\n",
              "            'suggestCharts', [key], {});\n",
              "      } catch (error) {\n",
              "        console.error('Error during call to suggestCharts:', error);\n",
              "      }\n",
              "      quickchartButtonEl.classList.remove('colab-df-spinner');\n",
              "      quickchartButtonEl.classList.add('colab-df-quickchart-complete');\n",
              "    }\n",
              "    (() => {\n",
              "      let quickchartButtonEl =\n",
              "        document.querySelector('#df-cbf7468d-f57a-436a-ac2f-e5a3c2a2bf2c button');\n",
              "      quickchartButtonEl.style.display =\n",
              "        google.colab.kernel.accessAllowed ? 'block' : 'none';\n",
              "    })();\n",
              "  </script>\n",
              "</div>\n",
              "    </div>\n",
              "  </div>\n"
            ]
          },
          "metadata": {},
          "execution_count": 161
        }
      ]
    },
    {
      "cell_type": "code",
      "source": [
        "imp_mat_df.to_csv('국가 간 수입 구조.csv', encoding='utf_8-sig')"
      ],
      "metadata": {
        "id": "xI4EL8-DNw2d"
      },
      "execution_count": 162,
      "outputs": []
    },
    {
      "cell_type": "code",
      "source": [],
      "metadata": {
        "id": "rul751kMldHG"
      },
      "execution_count": 162,
      "outputs": []
    },
    {
      "cell_type": "markdown",
      "source": [
        "### 국가 간 산업연관효과분석"
      ],
      "metadata": {
        "id": "Us57WMbcOlxw"
      }
    },
    {
      "cell_type": "markdown",
      "source": [
        "[TiVA2022_Indicators_Guide](TiVA2022_Indicators_Guide.pdf)"
      ],
      "metadata": {
        "id": "JdRj6TVn_pDF"
      }
    },
    {
      "cell_type": "code",
      "source": [
        "PROD = icio_2[-1,:12].astype(float) # 산출액\n",
        "VALU = icio_2[-2, 0:12].astype(float) # 부가가치\n",
        "PROD_VASH = VALU/PROD\n",
        "PROD_VASH\n",
        "Fd = icio_2[:12, 12:16]\n",
        "VALU"
      ],
      "metadata": {
        "id": "yXmH7e7troAC",
        "outputId": "ab737794-df99-4526-a47f-114980ff7c06",
        "colab": {
          "base_uri": "https://localhost:8080/"
        }
      },
      "execution_count": 163,
      "outputs": [
        {
          "output_type": "execute_result",
          "data": {
            "text/plain": [
              "array([   301.,   4615.,  10864.,   9399.,  38750.,  79750.,   1899.,\n",
              "        26241., 170488.,  22648.,  94345., 339709.])"
            ]
          },
          "metadata": {},
          "execution_count": 163
        }
      ]
    },
    {
      "cell_type": "code",
      "source": [
        "ct_m = np.tile(PROD, reps=[12,1]) # 산출액을 12번 행반복\n",
        "nae = icio_2[0:12,0:12]   # 거래표\n",
        "\n",
        "Ad =(nae/ct_m)  # 투입계수"
      ],
      "metadata": {
        "id": "pvQIKkzrM58_"
      },
      "execution_count": 164,
      "outputs": []
    },
    {
      "cell_type": "code",
      "source": [
        "Ad_df = pd.DataFrame(Ad, columns = [['한국', '한국', '한국', '중국', '중국', '중국','미국', '미국', '미국','ROW', 'ROW', 'ROW'],\n",
        "                                    ['농산품', '공산품', '서비스', '농산품', '공산품', '서비스','농산품', '공산품', '서비스','농산품', '공산품', '서비스']],\n",
        "\n",
        "                                    index=[['한국', '한국', '한국', '중국', '중국', '중국','미국', '미국', '미국','ROW', 'ROW', 'ROW'],\n",
        "                                           ['농산품', '공산품', '서비스', '농산품', '공산품', '서비스','농산품', '공산품', '서비스','농산품', '공산품', '서비스']])\n",
        "Ad_df.index.names=['국가', '상품']\n",
        "# Ad_df"
      ],
      "metadata": {
        "id": "UcoEf_eNM6Aj"
      },
      "execution_count": 165,
      "outputs": []
    },
    {
      "cell_type": "markdown",
      "source": [
        "## 생산유발계수(Lf)"
      ],
      "metadata": {
        "id": "axtGMFIoPN4V"
      }
    },
    {
      "cell_type": "code",
      "source": [
        "Lf = np.linalg.inv(np.identity(12)-Ad)    # 생산유발계수\n",
        "Lf_sm_cl = np.hstack((Lf, Lf.sum(axis=1).reshape([12,1]))) # 생산유발계수 열합\n",
        "Lf_sm_rw = np.vstack((Lf_sm_cl,Lf_sm_cl.sum(axis=0))) # 생산유발계수 행합\n",
        "Lf"
      ],
      "metadata": {
        "id": "8kqIkMFAM6Ek",
        "outputId": "f05a2b24-f074-4fe6-b942-9466e81c0249",
        "colab": {
          "base_uri": "https://localhost:8080/"
        }
      },
      "execution_count": 166,
      "outputs": [
        {
          "output_type": "execute_result",
          "data": {
            "text/plain": [
              "array([[1.054, 0.03 , 0.012, 0.   , 0.001, 0.   , 0.   , 0.   , 0.   ,\n",
              "        0.   , 0.   , 0.   ],\n",
              "       [0.361, 1.582, 0.267, 0.015, 0.029, 0.012, 0.004, 0.009, 0.002,\n",
              "        0.006, 0.014, 0.005],\n",
              "       [0.288, 0.343, 1.408, 0.005, 0.009, 0.005, 0.001, 0.003, 0.001,\n",
              "        0.002, 0.005, 0.002],\n",
              "       [0.005, 0.011, 0.004, 1.312, 0.158, 0.06 , 0.003, 0.004, 0.001,\n",
              "        0.003, 0.006, 0.002],\n",
              "       [0.068, 0.136, 0.056, 0.67 , 2.145, 0.608, 0.027, 0.052, 0.016,\n",
              "        0.026, 0.07 , 0.027],\n",
              "       [0.02 , 0.039, 0.021, 0.322, 0.443, 1.414, 0.008, 0.014, 0.005,\n",
              "        0.008, 0.02 , 0.009],\n",
              "       [0.004, 0.003, 0.001, 0.002, 0.002, 0.001, 1.227, 0.051, 0.005,\n",
              "        0.002, 0.003, 0.001],\n",
              "       [0.023, 0.039, 0.018, 0.009, 0.016, 0.007, 0.269, 1.367, 0.103,\n",
              "        0.013, 0.031, 0.011],\n",
              "       [0.025, 0.035, 0.022, 0.01 , 0.014, 0.008, 0.477, 0.459, 1.509,\n",
              "        0.015, 0.031, 0.02 ],\n",
              "       [0.014, 0.022, 0.009, 0.017, 0.016, 0.007, 0.028, 0.017, 0.003,\n",
              "        1.167, 0.087, 0.02 ],\n",
              "       [0.148, 0.337, 0.132, 0.092, 0.184, 0.082, 0.089, 0.182, 0.041,\n",
              "        0.247, 1.591, 0.208],\n",
              "       [0.084, 0.158, 0.087, 0.055, 0.091, 0.049, 0.058, 0.092, 0.033,\n",
              "        0.29 , 0.487, 1.483]])"
            ]
          },
          "metadata": {},
          "execution_count": 166
        }
      ]
    },
    {
      "cell_type": "markdown",
      "source": [
        "부가가치유발계수(Lv)"
      ],
      "metadata": {
        "id": "qPBt9ewyPRWz"
      }
    },
    {
      "cell_type": "code",
      "source": [
        "Va_r = icio_2[-2,:12]/PROD # 부가가치율\n",
        "Va_r"
      ],
      "metadata": {
        "id": "S8T75vybM6H2",
        "outputId": "641a49b2-f9fe-4663-c438-925995ddb906",
        "colab": {
          "base_uri": "https://localhost:8080/"
        }
      },
      "execution_count": 167,
      "outputs": [
        {
          "output_type": "execute_result",
          "data": {
            "text/plain": [
              "array([0.526, 0.277, 0.518, 0.442, 0.225, 0.508, 0.407, 0.384, 0.596,\n",
              "       0.592, 0.344, 0.573])"
            ]
          },
          "metadata": {},
          "execution_count": 167
        }
      ]
    },
    {
      "cell_type": "code",
      "source": [
        "Va_m = np.diag(Va_r)  # 부가가치율 대각행렬"
      ],
      "metadata": {
        "id": "6jCYga-UM6LD"
      },
      "execution_count": 168,
      "outputs": []
    },
    {
      "cell_type": "code",
      "source": [
        "Lv = Va_m@Lf  #부가가치유발계수\n",
        "Lv\n",
        "Lv_sm_cl = np.hstack((Lv, Lv.sum(axis=1).reshape([12,1]))) # 부가가치유발계수 열합\n",
        "Lv_sm_rw = np.vstack((Lv_sm_cl,Lv_sm_cl.sum(axis=0))) # 부가가치유발계수 행합\n",
        "Lv_sm_rw"
      ],
      "metadata": {
        "id": "1NLad1u0M6Ow",
        "outputId": "cc99ce6f-ec34-4563-b720-6c2a2207dc96",
        "colab": {
          "base_uri": "https://localhost:8080/"
        }
      },
      "execution_count": 169,
      "outputs": [
        {
          "output_type": "execute_result",
          "data": {
            "text/plain": [
              "array([[ 0.554,  0.016,  0.006,  0.   ,  0.   ,  0.   ,  0.   ,  0.   ,\n",
              "         0.   ,  0.   ,  0.   ,  0.   ,  0.577],\n",
              "       [ 0.1  ,  0.437,  0.074,  0.004,  0.008,  0.003,  0.001,  0.002,\n",
              "         0.001,  0.002,  0.004,  0.001,  0.638],\n",
              "       [ 0.149,  0.178,  0.729,  0.003,  0.005,  0.002,  0.001,  0.001,\n",
              "         0.   ,  0.001,  0.002,  0.001,  1.073],\n",
              "       [ 0.002,  0.005,  0.002,  0.58 ,  0.07 ,  0.027,  0.001,  0.002,\n",
              "         0.001,  0.001,  0.002,  0.001,  0.694],\n",
              "       [ 0.015,  0.031,  0.013,  0.151,  0.484,  0.137,  0.006,  0.012,\n",
              "         0.004,  0.006,  0.016,  0.006,  0.879],\n",
              "       [ 0.01 ,  0.02 ,  0.01 ,  0.163,  0.225,  0.718,  0.004,  0.007,\n",
              "         0.003,  0.004,  0.01 ,  0.005,  1.179],\n",
              "       [ 0.002,  0.001,  0.001,  0.001,  0.001,  0.   ,  0.499,  0.021,\n",
              "         0.002,  0.001,  0.001,  0.   ,  0.53 ],\n",
              "       [ 0.009,  0.015,  0.007,  0.003,  0.006,  0.003,  0.103,  0.525,\n",
              "         0.04 ,  0.005,  0.012,  0.004,  0.732],\n",
              "       [ 0.015,  0.021,  0.013,  0.006,  0.009,  0.005,  0.284,  0.274,\n",
              "         0.9  ,  0.009,  0.019,  0.012,  1.565],\n",
              "       [ 0.008,  0.013,  0.005,  0.01 ,  0.01 ,  0.004,  0.016,  0.01 ,\n",
              "         0.002,  0.69 ,  0.051,  0.012,  0.832],\n",
              "       [ 0.051,  0.116,  0.045,  0.032,  0.063,  0.028,  0.03 ,  0.062,\n",
              "         0.014,  0.085,  0.547,  0.071,  1.145],\n",
              "       [ 0.048,  0.091,  0.05 ,  0.031,  0.052,  0.028,  0.033,  0.052,\n",
              "         0.019,  0.166,  0.279,  0.85 ,  1.7  ],\n",
              "       [ 0.963,  0.943,  0.955,  0.984,  0.932,  0.956,  0.981,  0.969,\n",
              "         0.985,  0.97 ,  0.943,  0.963, 11.543]])"
            ]
          },
          "metadata": {},
          "execution_count": 169
        }
      ]
    },
    {
      "cell_type": "code",
      "source": [
        "Lf_df = pd.DataFrame(Lf.round(3), columns = [['한국', '한국', '한국', '중국', '중국', '중국','미국', '미국', '미국','ROW', 'ROW', 'ROW'],\n",
        "                                    ['농산품', '공산품', '서비스', '농산품', '공산품', '서비스','농산품', '공산품', '서비스','농산품', '공산품', '서비스']],\n",
        "\n",
        "                                    index=[['한국', '한국', '한국', '중국', '중국', '중국','미국', '미국', '미국','ROW', 'ROW', 'ROW'],\n",
        "                                           ['농산품', '공산품', '서비스', '농산품', '공산품', '서비스','농산품', '공산품', '서비스','농산품', '공산품', '서비스']])\n",
        "Lf_df.index.names=['국가', '상품']\n",
        "Lf_df"
      ],
      "metadata": {
        "id": "VpZOj2zMM6Rx",
        "outputId": "2c949b3c-70f7-4f63-9602-3d9e22c97518",
        "colab": {
          "base_uri": "https://localhost:8080/",
          "height": 488
        }
      },
      "execution_count": 170,
      "outputs": [
        {
          "output_type": "execute_result",
          "data": {
            "text/plain": [
              "            한국                   중국                   미국                  ROW  \\\n",
              "           농산품    공산품    서비스    농산품    공산품    서비스    농산품    공산품    서비스    농산품   \n",
              "국가  상품                                                                          \n",
              "한국  농산품  1.054  0.030  0.012  0.000  0.001  0.000  0.000  0.000  0.000  0.000   \n",
              "    공산품  0.361  1.582  0.267  0.015  0.029  0.012  0.004  0.009  0.002  0.006   \n",
              "    서비스  0.288  0.343  1.408  0.005  0.009  0.005  0.001  0.003  0.001  0.002   \n",
              "중국  농산품  0.005  0.011  0.004  1.312  0.158  0.060  0.003  0.004  0.001  0.003   \n",
              "    공산품  0.068  0.136  0.056  0.670  2.145  0.608  0.027  0.052  0.016  0.026   \n",
              "    서비스  0.020  0.039  0.021  0.322  0.443  1.414  0.008  0.014  0.005  0.008   \n",
              "미국  농산품  0.004  0.003  0.001  0.002  0.002  0.001  1.227  0.051  0.005  0.002   \n",
              "    공산품  0.023  0.039  0.018  0.009  0.016  0.007  0.269  1.367  0.103  0.013   \n",
              "    서비스  0.025  0.035  0.022  0.010  0.014  0.008  0.477  0.459  1.509  0.015   \n",
              "ROW 농산품  0.014  0.022  0.009  0.017  0.016  0.007  0.028  0.017  0.003  1.167   \n",
              "    공산품  0.148  0.337  0.132  0.092  0.184  0.082  0.089  0.182  0.041  0.247   \n",
              "    서비스  0.084  0.158  0.087  0.055  0.091  0.049  0.058  0.092  0.033  0.290   \n",
              "\n",
              "                       \n",
              "           공산품    서비스  \n",
              "국가  상품                 \n",
              "한국  농산품  0.000  0.000  \n",
              "    공산품  0.014  0.005  \n",
              "    서비스  0.005  0.002  \n",
              "중국  농산품  0.006  0.002  \n",
              "    공산품  0.070  0.027  \n",
              "    서비스  0.020  0.009  \n",
              "미국  농산품  0.003  0.001  \n",
              "    공산품  0.031  0.011  \n",
              "    서비스  0.031  0.020  \n",
              "ROW 농산품  0.087  0.020  \n",
              "    공산품  1.591  0.208  \n",
              "    서비스  0.487  1.483  "
            ],
            "text/html": [
              "\n",
              "  <div id=\"df-1e8ae033-8958-4b37-a866-2812689cbf06\" class=\"colab-df-container\">\n",
              "    <div>\n",
              "<style scoped>\n",
              "    .dataframe tbody tr th:only-of-type {\n",
              "        vertical-align: middle;\n",
              "    }\n",
              "\n",
              "    .dataframe tbody tr th {\n",
              "        vertical-align: top;\n",
              "    }\n",
              "\n",
              "    .dataframe thead tr th {\n",
              "        text-align: left;\n",
              "    }\n",
              "\n",
              "    .dataframe thead tr:last-of-type th {\n",
              "        text-align: right;\n",
              "    }\n",
              "</style>\n",
              "<table border=\"1\" class=\"dataframe\">\n",
              "  <thead>\n",
              "    <tr>\n",
              "      <th></th>\n",
              "      <th></th>\n",
              "      <th colspan=\"3\" halign=\"left\">한국</th>\n",
              "      <th colspan=\"3\" halign=\"left\">중국</th>\n",
              "      <th colspan=\"3\" halign=\"left\">미국</th>\n",
              "      <th colspan=\"3\" halign=\"left\">ROW</th>\n",
              "    </tr>\n",
              "    <tr>\n",
              "      <th></th>\n",
              "      <th></th>\n",
              "      <th>농산품</th>\n",
              "      <th>공산품</th>\n",
              "      <th>서비스</th>\n",
              "      <th>농산품</th>\n",
              "      <th>공산품</th>\n",
              "      <th>서비스</th>\n",
              "      <th>농산품</th>\n",
              "      <th>공산품</th>\n",
              "      <th>서비스</th>\n",
              "      <th>농산품</th>\n",
              "      <th>공산품</th>\n",
              "      <th>서비스</th>\n",
              "    </tr>\n",
              "    <tr>\n",
              "      <th>국가</th>\n",
              "      <th>상품</th>\n",
              "      <th></th>\n",
              "      <th></th>\n",
              "      <th></th>\n",
              "      <th></th>\n",
              "      <th></th>\n",
              "      <th></th>\n",
              "      <th></th>\n",
              "      <th></th>\n",
              "      <th></th>\n",
              "      <th></th>\n",
              "      <th></th>\n",
              "      <th></th>\n",
              "    </tr>\n",
              "  </thead>\n",
              "  <tbody>\n",
              "    <tr>\n",
              "      <th rowspan=\"3\" valign=\"top\">한국</th>\n",
              "      <th>농산품</th>\n",
              "      <td>1.054</td>\n",
              "      <td>0.030</td>\n",
              "      <td>0.012</td>\n",
              "      <td>0.000</td>\n",
              "      <td>0.001</td>\n",
              "      <td>0.000</td>\n",
              "      <td>0.000</td>\n",
              "      <td>0.000</td>\n",
              "      <td>0.000</td>\n",
              "      <td>0.000</td>\n",
              "      <td>0.000</td>\n",
              "      <td>0.000</td>\n",
              "    </tr>\n",
              "    <tr>\n",
              "      <th>공산품</th>\n",
              "      <td>0.361</td>\n",
              "      <td>1.582</td>\n",
              "      <td>0.267</td>\n",
              "      <td>0.015</td>\n",
              "      <td>0.029</td>\n",
              "      <td>0.012</td>\n",
              "      <td>0.004</td>\n",
              "      <td>0.009</td>\n",
              "      <td>0.002</td>\n",
              "      <td>0.006</td>\n",
              "      <td>0.014</td>\n",
              "      <td>0.005</td>\n",
              "    </tr>\n",
              "    <tr>\n",
              "      <th>서비스</th>\n",
              "      <td>0.288</td>\n",
              "      <td>0.343</td>\n",
              "      <td>1.408</td>\n",
              "      <td>0.005</td>\n",
              "      <td>0.009</td>\n",
              "      <td>0.005</td>\n",
              "      <td>0.001</td>\n",
              "      <td>0.003</td>\n",
              "      <td>0.001</td>\n",
              "      <td>0.002</td>\n",
              "      <td>0.005</td>\n",
              "      <td>0.002</td>\n",
              "    </tr>\n",
              "    <tr>\n",
              "      <th rowspan=\"3\" valign=\"top\">중국</th>\n",
              "      <th>농산품</th>\n",
              "      <td>0.005</td>\n",
              "      <td>0.011</td>\n",
              "      <td>0.004</td>\n",
              "      <td>1.312</td>\n",
              "      <td>0.158</td>\n",
              "      <td>0.060</td>\n",
              "      <td>0.003</td>\n",
              "      <td>0.004</td>\n",
              "      <td>0.001</td>\n",
              "      <td>0.003</td>\n",
              "      <td>0.006</td>\n",
              "      <td>0.002</td>\n",
              "    </tr>\n",
              "    <tr>\n",
              "      <th>공산품</th>\n",
              "      <td>0.068</td>\n",
              "      <td>0.136</td>\n",
              "      <td>0.056</td>\n",
              "      <td>0.670</td>\n",
              "      <td>2.145</td>\n",
              "      <td>0.608</td>\n",
              "      <td>0.027</td>\n",
              "      <td>0.052</td>\n",
              "      <td>0.016</td>\n",
              "      <td>0.026</td>\n",
              "      <td>0.070</td>\n",
              "      <td>0.027</td>\n",
              "    </tr>\n",
              "    <tr>\n",
              "      <th>서비스</th>\n",
              "      <td>0.020</td>\n",
              "      <td>0.039</td>\n",
              "      <td>0.021</td>\n",
              "      <td>0.322</td>\n",
              "      <td>0.443</td>\n",
              "      <td>1.414</td>\n",
              "      <td>0.008</td>\n",
              "      <td>0.014</td>\n",
              "      <td>0.005</td>\n",
              "      <td>0.008</td>\n",
              "      <td>0.020</td>\n",
              "      <td>0.009</td>\n",
              "    </tr>\n",
              "    <tr>\n",
              "      <th rowspan=\"3\" valign=\"top\">미국</th>\n",
              "      <th>농산품</th>\n",
              "      <td>0.004</td>\n",
              "      <td>0.003</td>\n",
              "      <td>0.001</td>\n",
              "      <td>0.002</td>\n",
              "      <td>0.002</td>\n",
              "      <td>0.001</td>\n",
              "      <td>1.227</td>\n",
              "      <td>0.051</td>\n",
              "      <td>0.005</td>\n",
              "      <td>0.002</td>\n",
              "      <td>0.003</td>\n",
              "      <td>0.001</td>\n",
              "    </tr>\n",
              "    <tr>\n",
              "      <th>공산품</th>\n",
              "      <td>0.023</td>\n",
              "      <td>0.039</td>\n",
              "      <td>0.018</td>\n",
              "      <td>0.009</td>\n",
              "      <td>0.016</td>\n",
              "      <td>0.007</td>\n",
              "      <td>0.269</td>\n",
              "      <td>1.367</td>\n",
              "      <td>0.103</td>\n",
              "      <td>0.013</td>\n",
              "      <td>0.031</td>\n",
              "      <td>0.011</td>\n",
              "    </tr>\n",
              "    <tr>\n",
              "      <th>서비스</th>\n",
              "      <td>0.025</td>\n",
              "      <td>0.035</td>\n",
              "      <td>0.022</td>\n",
              "      <td>0.010</td>\n",
              "      <td>0.014</td>\n",
              "      <td>0.008</td>\n",
              "      <td>0.477</td>\n",
              "      <td>0.459</td>\n",
              "      <td>1.509</td>\n",
              "      <td>0.015</td>\n",
              "      <td>0.031</td>\n",
              "      <td>0.020</td>\n",
              "    </tr>\n",
              "    <tr>\n",
              "      <th rowspan=\"3\" valign=\"top\">ROW</th>\n",
              "      <th>농산품</th>\n",
              "      <td>0.014</td>\n",
              "      <td>0.022</td>\n",
              "      <td>0.009</td>\n",
              "      <td>0.017</td>\n",
              "      <td>0.016</td>\n",
              "      <td>0.007</td>\n",
              "      <td>0.028</td>\n",
              "      <td>0.017</td>\n",
              "      <td>0.003</td>\n",
              "      <td>1.167</td>\n",
              "      <td>0.087</td>\n",
              "      <td>0.020</td>\n",
              "    </tr>\n",
              "    <tr>\n",
              "      <th>공산품</th>\n",
              "      <td>0.148</td>\n",
              "      <td>0.337</td>\n",
              "      <td>0.132</td>\n",
              "      <td>0.092</td>\n",
              "      <td>0.184</td>\n",
              "      <td>0.082</td>\n",
              "      <td>0.089</td>\n",
              "      <td>0.182</td>\n",
              "      <td>0.041</td>\n",
              "      <td>0.247</td>\n",
              "      <td>1.591</td>\n",
              "      <td>0.208</td>\n",
              "    </tr>\n",
              "    <tr>\n",
              "      <th>서비스</th>\n",
              "      <td>0.084</td>\n",
              "      <td>0.158</td>\n",
              "      <td>0.087</td>\n",
              "      <td>0.055</td>\n",
              "      <td>0.091</td>\n",
              "      <td>0.049</td>\n",
              "      <td>0.058</td>\n",
              "      <td>0.092</td>\n",
              "      <td>0.033</td>\n",
              "      <td>0.290</td>\n",
              "      <td>0.487</td>\n",
              "      <td>1.483</td>\n",
              "    </tr>\n",
              "  </tbody>\n",
              "</table>\n",
              "</div>\n",
              "    <div class=\"colab-df-buttons\">\n",
              "\n",
              "  <div class=\"colab-df-container\">\n",
              "    <button class=\"colab-df-convert\" onclick=\"convertToInteractive('df-1e8ae033-8958-4b37-a866-2812689cbf06')\"\n",
              "            title=\"Convert this dataframe to an interactive table.\"\n",
              "            style=\"display:none;\">\n",
              "\n",
              "  <svg xmlns=\"http://www.w3.org/2000/svg\" height=\"24px\" viewBox=\"0 -960 960 960\">\n",
              "    <path d=\"M120-120v-720h720v720H120Zm60-500h600v-160H180v160Zm220 220h160v-160H400v160Zm0 220h160v-160H400v160ZM180-400h160v-160H180v160Zm440 0h160v-160H620v160ZM180-180h160v-160H180v160Zm440 0h160v-160H620v160Z\"/>\n",
              "  </svg>\n",
              "    </button>\n",
              "\n",
              "  <style>\n",
              "    .colab-df-container {\n",
              "      display:flex;\n",
              "      gap: 12px;\n",
              "    }\n",
              "\n",
              "    .colab-df-convert {\n",
              "      background-color: #E8F0FE;\n",
              "      border: none;\n",
              "      border-radius: 50%;\n",
              "      cursor: pointer;\n",
              "      display: none;\n",
              "      fill: #1967D2;\n",
              "      height: 32px;\n",
              "      padding: 0 0 0 0;\n",
              "      width: 32px;\n",
              "    }\n",
              "\n",
              "    .colab-df-convert:hover {\n",
              "      background-color: #E2EBFA;\n",
              "      box-shadow: 0px 1px 2px rgba(60, 64, 67, 0.3), 0px 1px 3px 1px rgba(60, 64, 67, 0.15);\n",
              "      fill: #174EA6;\n",
              "    }\n",
              "\n",
              "    .colab-df-buttons div {\n",
              "      margin-bottom: 4px;\n",
              "    }\n",
              "\n",
              "    [theme=dark] .colab-df-convert {\n",
              "      background-color: #3B4455;\n",
              "      fill: #D2E3FC;\n",
              "    }\n",
              "\n",
              "    [theme=dark] .colab-df-convert:hover {\n",
              "      background-color: #434B5C;\n",
              "      box-shadow: 0px 1px 3px 1px rgba(0, 0, 0, 0.15);\n",
              "      filter: drop-shadow(0px 1px 2px rgba(0, 0, 0, 0.3));\n",
              "      fill: #FFFFFF;\n",
              "    }\n",
              "  </style>\n",
              "\n",
              "    <script>\n",
              "      const buttonEl =\n",
              "        document.querySelector('#df-1e8ae033-8958-4b37-a866-2812689cbf06 button.colab-df-convert');\n",
              "      buttonEl.style.display =\n",
              "        google.colab.kernel.accessAllowed ? 'block' : 'none';\n",
              "\n",
              "      async function convertToInteractive(key) {\n",
              "        const element = document.querySelector('#df-1e8ae033-8958-4b37-a866-2812689cbf06');\n",
              "        const dataTable =\n",
              "          await google.colab.kernel.invokeFunction('convertToInteractive',\n",
              "                                                    [key], {});\n",
              "        if (!dataTable) return;\n",
              "\n",
              "        const docLinkHtml = 'Like what you see? Visit the ' +\n",
              "          '<a target=\"_blank\" href=https://colab.research.google.com/notebooks/data_table.ipynb>data table notebook</a>'\n",
              "          + ' to learn more about interactive tables.';\n",
              "        element.innerHTML = '';\n",
              "        dataTable['output_type'] = 'display_data';\n",
              "        await google.colab.output.renderOutput(dataTable, element);\n",
              "        const docLink = document.createElement('div');\n",
              "        docLink.innerHTML = docLinkHtml;\n",
              "        element.appendChild(docLink);\n",
              "      }\n",
              "    </script>\n",
              "  </div>\n",
              "\n",
              "\n",
              "<div id=\"df-dab16622-094b-4a3b-a718-7db76c1bd261\">\n",
              "  <button class=\"colab-df-quickchart\" onclick=\"quickchart('df-dab16622-094b-4a3b-a718-7db76c1bd261')\"\n",
              "            title=\"Suggest charts.\"\n",
              "            style=\"display:none;\">\n",
              "\n",
              "<svg xmlns=\"http://www.w3.org/2000/svg\" height=\"24px\"viewBox=\"0 0 24 24\"\n",
              "     width=\"24px\">\n",
              "    <g>\n",
              "        <path d=\"M19 3H5c-1.1 0-2 .9-2 2v14c0 1.1.9 2 2 2h14c1.1 0 2-.9 2-2V5c0-1.1-.9-2-2-2zM9 17H7v-7h2v7zm4 0h-2V7h2v10zm4 0h-2v-4h2v4z\"/>\n",
              "    </g>\n",
              "</svg>\n",
              "  </button>\n",
              "\n",
              "<style>\n",
              "  .colab-df-quickchart {\n",
              "      --bg-color: #E8F0FE;\n",
              "      --fill-color: #1967D2;\n",
              "      --hover-bg-color: #E2EBFA;\n",
              "      --hover-fill-color: #174EA6;\n",
              "      --disabled-fill-color: #AAA;\n",
              "      --disabled-bg-color: #DDD;\n",
              "  }\n",
              "\n",
              "  [theme=dark] .colab-df-quickchart {\n",
              "      --bg-color: #3B4455;\n",
              "      --fill-color: #D2E3FC;\n",
              "      --hover-bg-color: #434B5C;\n",
              "      --hover-fill-color: #FFFFFF;\n",
              "      --disabled-bg-color: #3B4455;\n",
              "      --disabled-fill-color: #666;\n",
              "  }\n",
              "\n",
              "  .colab-df-quickchart {\n",
              "    background-color: var(--bg-color);\n",
              "    border: none;\n",
              "    border-radius: 50%;\n",
              "    cursor: pointer;\n",
              "    display: none;\n",
              "    fill: var(--fill-color);\n",
              "    height: 32px;\n",
              "    padding: 0;\n",
              "    width: 32px;\n",
              "  }\n",
              "\n",
              "  .colab-df-quickchart:hover {\n",
              "    background-color: var(--hover-bg-color);\n",
              "    box-shadow: 0 1px 2px rgba(60, 64, 67, 0.3), 0 1px 3px 1px rgba(60, 64, 67, 0.15);\n",
              "    fill: var(--button-hover-fill-color);\n",
              "  }\n",
              "\n",
              "  .colab-df-quickchart-complete:disabled,\n",
              "  .colab-df-quickchart-complete:disabled:hover {\n",
              "    background-color: var(--disabled-bg-color);\n",
              "    fill: var(--disabled-fill-color);\n",
              "    box-shadow: none;\n",
              "  }\n",
              "\n",
              "  .colab-df-spinner {\n",
              "    border: 2px solid var(--fill-color);\n",
              "    border-color: transparent;\n",
              "    border-bottom-color: var(--fill-color);\n",
              "    animation:\n",
              "      spin 1s steps(1) infinite;\n",
              "  }\n",
              "\n",
              "  @keyframes spin {\n",
              "    0% {\n",
              "      border-color: transparent;\n",
              "      border-bottom-color: var(--fill-color);\n",
              "      border-left-color: var(--fill-color);\n",
              "    }\n",
              "    20% {\n",
              "      border-color: transparent;\n",
              "      border-left-color: var(--fill-color);\n",
              "      border-top-color: var(--fill-color);\n",
              "    }\n",
              "    30% {\n",
              "      border-color: transparent;\n",
              "      border-left-color: var(--fill-color);\n",
              "      border-top-color: var(--fill-color);\n",
              "      border-right-color: var(--fill-color);\n",
              "    }\n",
              "    40% {\n",
              "      border-color: transparent;\n",
              "      border-right-color: var(--fill-color);\n",
              "      border-top-color: var(--fill-color);\n",
              "    }\n",
              "    60% {\n",
              "      border-color: transparent;\n",
              "      border-right-color: var(--fill-color);\n",
              "    }\n",
              "    80% {\n",
              "      border-color: transparent;\n",
              "      border-right-color: var(--fill-color);\n",
              "      border-bottom-color: var(--fill-color);\n",
              "    }\n",
              "    90% {\n",
              "      border-color: transparent;\n",
              "      border-bottom-color: var(--fill-color);\n",
              "    }\n",
              "  }\n",
              "</style>\n",
              "\n",
              "  <script>\n",
              "    async function quickchart(key) {\n",
              "      const quickchartButtonEl =\n",
              "        document.querySelector('#' + key + ' button');\n",
              "      quickchartButtonEl.disabled = true;  // To prevent multiple clicks.\n",
              "      quickchartButtonEl.classList.add('colab-df-spinner');\n",
              "      try {\n",
              "        const charts = await google.colab.kernel.invokeFunction(\n",
              "            'suggestCharts', [key], {});\n",
              "      } catch (error) {\n",
              "        console.error('Error during call to suggestCharts:', error);\n",
              "      }\n",
              "      quickchartButtonEl.classList.remove('colab-df-spinner');\n",
              "      quickchartButtonEl.classList.add('colab-df-quickchart-complete');\n",
              "    }\n",
              "    (() => {\n",
              "      let quickchartButtonEl =\n",
              "        document.querySelector('#df-dab16622-094b-4a3b-a718-7db76c1bd261 button');\n",
              "      quickchartButtonEl.style.display =\n",
              "        google.colab.kernel.accessAllowed ? 'block' : 'none';\n",
              "    })();\n",
              "  </script>\n",
              "</div>\n",
              "    </div>\n",
              "  </div>\n"
            ]
          },
          "metadata": {},
          "execution_count": 170
        }
      ]
    },
    {
      "cell_type": "code",
      "source": [
        "Lv_df = pd.DataFrame(Lv.round(3), columns = [['한국', '한국', '한국', '중국', '중국', '중국','미국', '미국', '미국','ROW', 'ROW', 'ROW'],\n",
        "                                    ['농산품', '공산품', '서비스', '농산품', '공산품', '서비스','농산품', '공산품', '서비스','농산품', '공산품', '서비스']],\n",
        "\n",
        "                                    index=[['한국', '한국', '한국', '중국', '중국', '중국','미국', '미국', '미국','ROW', 'ROW', 'ROW'],\n",
        "                                           ['농산품', '공산품', '서비스', '농산품', '공산품', '서비스','농산품', '공산품', '서비스','농산품', '공산품', '서비스']])\n",
        "Lv_df.index.names=['국가', '상품']\n",
        "Lv_df"
      ],
      "metadata": {
        "id": "hnmAPGbpM6T1",
        "outputId": "123893dd-8cac-4e9c-fd99-4387f4253864",
        "colab": {
          "base_uri": "https://localhost:8080/",
          "height": 488
        }
      },
      "execution_count": 171,
      "outputs": [
        {
          "output_type": "execute_result",
          "data": {
            "text/plain": [
              "            한국                   중국                   미국                  ROW  \\\n",
              "           농산품    공산품    서비스    농산품    공산품    서비스    농산품    공산품    서비스    농산품   \n",
              "국가  상품                                                                          \n",
              "한국  농산품  0.554  0.016  0.006  0.000  0.000  0.000  0.000  0.000  0.000  0.000   \n",
              "    공산품  0.100  0.437  0.074  0.004  0.008  0.003  0.001  0.002  0.001  0.002   \n",
              "    서비스  0.149  0.178  0.729  0.003  0.005  0.002  0.001  0.001  0.000  0.001   \n",
              "중국  농산품  0.002  0.005  0.002  0.580  0.070  0.027  0.001  0.002  0.001  0.001   \n",
              "    공산품  0.015  0.031  0.013  0.151  0.484  0.137  0.006  0.012  0.004  0.006   \n",
              "    서비스  0.010  0.020  0.010  0.163  0.225  0.718  0.004  0.007  0.003  0.004   \n",
              "미국  농산품  0.002  0.001  0.001  0.001  0.001  0.000  0.499  0.021  0.002  0.001   \n",
              "    공산품  0.009  0.015  0.007  0.003  0.006  0.003  0.103  0.525  0.040  0.005   \n",
              "    서비스  0.015  0.021  0.013  0.006  0.009  0.005  0.284  0.274  0.900  0.009   \n",
              "ROW 농산품  0.008  0.013  0.005  0.010  0.010  0.004  0.016  0.010  0.002  0.690   \n",
              "    공산품  0.051  0.116  0.045  0.032  0.063  0.028  0.030  0.062  0.014  0.085   \n",
              "    서비스  0.048  0.091  0.050  0.031  0.052  0.028  0.033  0.052  0.019  0.166   \n",
              "\n",
              "                       \n",
              "           공산품    서비스  \n",
              "국가  상품                 \n",
              "한국  농산품  0.000  0.000  \n",
              "    공산품  0.004  0.001  \n",
              "    서비스  0.002  0.001  \n",
              "중국  농산품  0.002  0.001  \n",
              "    공산품  0.016  0.006  \n",
              "    서비스  0.010  0.005  \n",
              "미국  농산품  0.001  0.000  \n",
              "    공산품  0.012  0.004  \n",
              "    서비스  0.019  0.012  \n",
              "ROW 농산품  0.051  0.012  \n",
              "    공산품  0.547  0.071  \n",
              "    서비스  0.279  0.850  "
            ],
            "text/html": [
              "\n",
              "  <div id=\"df-46485843-df65-4ce8-aed3-f7a584d7b93b\" class=\"colab-df-container\">\n",
              "    <div>\n",
              "<style scoped>\n",
              "    .dataframe tbody tr th:only-of-type {\n",
              "        vertical-align: middle;\n",
              "    }\n",
              "\n",
              "    .dataframe tbody tr th {\n",
              "        vertical-align: top;\n",
              "    }\n",
              "\n",
              "    .dataframe thead tr th {\n",
              "        text-align: left;\n",
              "    }\n",
              "\n",
              "    .dataframe thead tr:last-of-type th {\n",
              "        text-align: right;\n",
              "    }\n",
              "</style>\n",
              "<table border=\"1\" class=\"dataframe\">\n",
              "  <thead>\n",
              "    <tr>\n",
              "      <th></th>\n",
              "      <th></th>\n",
              "      <th colspan=\"3\" halign=\"left\">한국</th>\n",
              "      <th colspan=\"3\" halign=\"left\">중국</th>\n",
              "      <th colspan=\"3\" halign=\"left\">미국</th>\n",
              "      <th colspan=\"3\" halign=\"left\">ROW</th>\n",
              "    </tr>\n",
              "    <tr>\n",
              "      <th></th>\n",
              "      <th></th>\n",
              "      <th>농산품</th>\n",
              "      <th>공산품</th>\n",
              "      <th>서비스</th>\n",
              "      <th>농산품</th>\n",
              "      <th>공산품</th>\n",
              "      <th>서비스</th>\n",
              "      <th>농산품</th>\n",
              "      <th>공산품</th>\n",
              "      <th>서비스</th>\n",
              "      <th>농산품</th>\n",
              "      <th>공산품</th>\n",
              "      <th>서비스</th>\n",
              "    </tr>\n",
              "    <tr>\n",
              "      <th>국가</th>\n",
              "      <th>상품</th>\n",
              "      <th></th>\n",
              "      <th></th>\n",
              "      <th></th>\n",
              "      <th></th>\n",
              "      <th></th>\n",
              "      <th></th>\n",
              "      <th></th>\n",
              "      <th></th>\n",
              "      <th></th>\n",
              "      <th></th>\n",
              "      <th></th>\n",
              "      <th></th>\n",
              "    </tr>\n",
              "  </thead>\n",
              "  <tbody>\n",
              "    <tr>\n",
              "      <th rowspan=\"3\" valign=\"top\">한국</th>\n",
              "      <th>농산품</th>\n",
              "      <td>0.554</td>\n",
              "      <td>0.016</td>\n",
              "      <td>0.006</td>\n",
              "      <td>0.000</td>\n",
              "      <td>0.000</td>\n",
              "      <td>0.000</td>\n",
              "      <td>0.000</td>\n",
              "      <td>0.000</td>\n",
              "      <td>0.000</td>\n",
              "      <td>0.000</td>\n",
              "      <td>0.000</td>\n",
              "      <td>0.000</td>\n",
              "    </tr>\n",
              "    <tr>\n",
              "      <th>공산품</th>\n",
              "      <td>0.100</td>\n",
              "      <td>0.437</td>\n",
              "      <td>0.074</td>\n",
              "      <td>0.004</td>\n",
              "      <td>0.008</td>\n",
              "      <td>0.003</td>\n",
              "      <td>0.001</td>\n",
              "      <td>0.002</td>\n",
              "      <td>0.001</td>\n",
              "      <td>0.002</td>\n",
              "      <td>0.004</td>\n",
              "      <td>0.001</td>\n",
              "    </tr>\n",
              "    <tr>\n",
              "      <th>서비스</th>\n",
              "      <td>0.149</td>\n",
              "      <td>0.178</td>\n",
              "      <td>0.729</td>\n",
              "      <td>0.003</td>\n",
              "      <td>0.005</td>\n",
              "      <td>0.002</td>\n",
              "      <td>0.001</td>\n",
              "      <td>0.001</td>\n",
              "      <td>0.000</td>\n",
              "      <td>0.001</td>\n",
              "      <td>0.002</td>\n",
              "      <td>0.001</td>\n",
              "    </tr>\n",
              "    <tr>\n",
              "      <th rowspan=\"3\" valign=\"top\">중국</th>\n",
              "      <th>농산품</th>\n",
              "      <td>0.002</td>\n",
              "      <td>0.005</td>\n",
              "      <td>0.002</td>\n",
              "      <td>0.580</td>\n",
              "      <td>0.070</td>\n",
              "      <td>0.027</td>\n",
              "      <td>0.001</td>\n",
              "      <td>0.002</td>\n",
              "      <td>0.001</td>\n",
              "      <td>0.001</td>\n",
              "      <td>0.002</td>\n",
              "      <td>0.001</td>\n",
              "    </tr>\n",
              "    <tr>\n",
              "      <th>공산품</th>\n",
              "      <td>0.015</td>\n",
              "      <td>0.031</td>\n",
              "      <td>0.013</td>\n",
              "      <td>0.151</td>\n",
              "      <td>0.484</td>\n",
              "      <td>0.137</td>\n",
              "      <td>0.006</td>\n",
              "      <td>0.012</td>\n",
              "      <td>0.004</td>\n",
              "      <td>0.006</td>\n",
              "      <td>0.016</td>\n",
              "      <td>0.006</td>\n",
              "    </tr>\n",
              "    <tr>\n",
              "      <th>서비스</th>\n",
              "      <td>0.010</td>\n",
              "      <td>0.020</td>\n",
              "      <td>0.010</td>\n",
              "      <td>0.163</td>\n",
              "      <td>0.225</td>\n",
              "      <td>0.718</td>\n",
              "      <td>0.004</td>\n",
              "      <td>0.007</td>\n",
              "      <td>0.003</td>\n",
              "      <td>0.004</td>\n",
              "      <td>0.010</td>\n",
              "      <td>0.005</td>\n",
              "    </tr>\n",
              "    <tr>\n",
              "      <th rowspan=\"3\" valign=\"top\">미국</th>\n",
              "      <th>농산품</th>\n",
              "      <td>0.002</td>\n",
              "      <td>0.001</td>\n",
              "      <td>0.001</td>\n",
              "      <td>0.001</td>\n",
              "      <td>0.001</td>\n",
              "      <td>0.000</td>\n",
              "      <td>0.499</td>\n",
              "      <td>0.021</td>\n",
              "      <td>0.002</td>\n",
              "      <td>0.001</td>\n",
              "      <td>0.001</td>\n",
              "      <td>0.000</td>\n",
              "    </tr>\n",
              "    <tr>\n",
              "      <th>공산품</th>\n",
              "      <td>0.009</td>\n",
              "      <td>0.015</td>\n",
              "      <td>0.007</td>\n",
              "      <td>0.003</td>\n",
              "      <td>0.006</td>\n",
              "      <td>0.003</td>\n",
              "      <td>0.103</td>\n",
              "      <td>0.525</td>\n",
              "      <td>0.040</td>\n",
              "      <td>0.005</td>\n",
              "      <td>0.012</td>\n",
              "      <td>0.004</td>\n",
              "    </tr>\n",
              "    <tr>\n",
              "      <th>서비스</th>\n",
              "      <td>0.015</td>\n",
              "      <td>0.021</td>\n",
              "      <td>0.013</td>\n",
              "      <td>0.006</td>\n",
              "      <td>0.009</td>\n",
              "      <td>0.005</td>\n",
              "      <td>0.284</td>\n",
              "      <td>0.274</td>\n",
              "      <td>0.900</td>\n",
              "      <td>0.009</td>\n",
              "      <td>0.019</td>\n",
              "      <td>0.012</td>\n",
              "    </tr>\n",
              "    <tr>\n",
              "      <th rowspan=\"3\" valign=\"top\">ROW</th>\n",
              "      <th>농산품</th>\n",
              "      <td>0.008</td>\n",
              "      <td>0.013</td>\n",
              "      <td>0.005</td>\n",
              "      <td>0.010</td>\n",
              "      <td>0.010</td>\n",
              "      <td>0.004</td>\n",
              "      <td>0.016</td>\n",
              "      <td>0.010</td>\n",
              "      <td>0.002</td>\n",
              "      <td>0.690</td>\n",
              "      <td>0.051</td>\n",
              "      <td>0.012</td>\n",
              "    </tr>\n",
              "    <tr>\n",
              "      <th>공산품</th>\n",
              "      <td>0.051</td>\n",
              "      <td>0.116</td>\n",
              "      <td>0.045</td>\n",
              "      <td>0.032</td>\n",
              "      <td>0.063</td>\n",
              "      <td>0.028</td>\n",
              "      <td>0.030</td>\n",
              "      <td>0.062</td>\n",
              "      <td>0.014</td>\n",
              "      <td>0.085</td>\n",
              "      <td>0.547</td>\n",
              "      <td>0.071</td>\n",
              "    </tr>\n",
              "    <tr>\n",
              "      <th>서비스</th>\n",
              "      <td>0.048</td>\n",
              "      <td>0.091</td>\n",
              "      <td>0.050</td>\n",
              "      <td>0.031</td>\n",
              "      <td>0.052</td>\n",
              "      <td>0.028</td>\n",
              "      <td>0.033</td>\n",
              "      <td>0.052</td>\n",
              "      <td>0.019</td>\n",
              "      <td>0.166</td>\n",
              "      <td>0.279</td>\n",
              "      <td>0.850</td>\n",
              "    </tr>\n",
              "  </tbody>\n",
              "</table>\n",
              "</div>\n",
              "    <div class=\"colab-df-buttons\">\n",
              "\n",
              "  <div class=\"colab-df-container\">\n",
              "    <button class=\"colab-df-convert\" onclick=\"convertToInteractive('df-46485843-df65-4ce8-aed3-f7a584d7b93b')\"\n",
              "            title=\"Convert this dataframe to an interactive table.\"\n",
              "            style=\"display:none;\">\n",
              "\n",
              "  <svg xmlns=\"http://www.w3.org/2000/svg\" height=\"24px\" viewBox=\"0 -960 960 960\">\n",
              "    <path d=\"M120-120v-720h720v720H120Zm60-500h600v-160H180v160Zm220 220h160v-160H400v160Zm0 220h160v-160H400v160ZM180-400h160v-160H180v160Zm440 0h160v-160H620v160ZM180-180h160v-160H180v160Zm440 0h160v-160H620v160Z\"/>\n",
              "  </svg>\n",
              "    </button>\n",
              "\n",
              "  <style>\n",
              "    .colab-df-container {\n",
              "      display:flex;\n",
              "      gap: 12px;\n",
              "    }\n",
              "\n",
              "    .colab-df-convert {\n",
              "      background-color: #E8F0FE;\n",
              "      border: none;\n",
              "      border-radius: 50%;\n",
              "      cursor: pointer;\n",
              "      display: none;\n",
              "      fill: #1967D2;\n",
              "      height: 32px;\n",
              "      padding: 0 0 0 0;\n",
              "      width: 32px;\n",
              "    }\n",
              "\n",
              "    .colab-df-convert:hover {\n",
              "      background-color: #E2EBFA;\n",
              "      box-shadow: 0px 1px 2px rgba(60, 64, 67, 0.3), 0px 1px 3px 1px rgba(60, 64, 67, 0.15);\n",
              "      fill: #174EA6;\n",
              "    }\n",
              "\n",
              "    .colab-df-buttons div {\n",
              "      margin-bottom: 4px;\n",
              "    }\n",
              "\n",
              "    [theme=dark] .colab-df-convert {\n",
              "      background-color: #3B4455;\n",
              "      fill: #D2E3FC;\n",
              "    }\n",
              "\n",
              "    [theme=dark] .colab-df-convert:hover {\n",
              "      background-color: #434B5C;\n",
              "      box-shadow: 0px 1px 3px 1px rgba(0, 0, 0, 0.15);\n",
              "      filter: drop-shadow(0px 1px 2px rgba(0, 0, 0, 0.3));\n",
              "      fill: #FFFFFF;\n",
              "    }\n",
              "  </style>\n",
              "\n",
              "    <script>\n",
              "      const buttonEl =\n",
              "        document.querySelector('#df-46485843-df65-4ce8-aed3-f7a584d7b93b button.colab-df-convert');\n",
              "      buttonEl.style.display =\n",
              "        google.colab.kernel.accessAllowed ? 'block' : 'none';\n",
              "\n",
              "      async function convertToInteractive(key) {\n",
              "        const element = document.querySelector('#df-46485843-df65-4ce8-aed3-f7a584d7b93b');\n",
              "        const dataTable =\n",
              "          await google.colab.kernel.invokeFunction('convertToInteractive',\n",
              "                                                    [key], {});\n",
              "        if (!dataTable) return;\n",
              "\n",
              "        const docLinkHtml = 'Like what you see? Visit the ' +\n",
              "          '<a target=\"_blank\" href=https://colab.research.google.com/notebooks/data_table.ipynb>data table notebook</a>'\n",
              "          + ' to learn more about interactive tables.';\n",
              "        element.innerHTML = '';\n",
              "        dataTable['output_type'] = 'display_data';\n",
              "        await google.colab.output.renderOutput(dataTable, element);\n",
              "        const docLink = document.createElement('div');\n",
              "        docLink.innerHTML = docLinkHtml;\n",
              "        element.appendChild(docLink);\n",
              "      }\n",
              "    </script>\n",
              "  </div>\n",
              "\n",
              "\n",
              "<div id=\"df-5e26266a-30d9-44a5-ba09-5c179eb0ca85\">\n",
              "  <button class=\"colab-df-quickchart\" onclick=\"quickchart('df-5e26266a-30d9-44a5-ba09-5c179eb0ca85')\"\n",
              "            title=\"Suggest charts.\"\n",
              "            style=\"display:none;\">\n",
              "\n",
              "<svg xmlns=\"http://www.w3.org/2000/svg\" height=\"24px\"viewBox=\"0 0 24 24\"\n",
              "     width=\"24px\">\n",
              "    <g>\n",
              "        <path d=\"M19 3H5c-1.1 0-2 .9-2 2v14c0 1.1.9 2 2 2h14c1.1 0 2-.9 2-2V5c0-1.1-.9-2-2-2zM9 17H7v-7h2v7zm4 0h-2V7h2v10zm4 0h-2v-4h2v4z\"/>\n",
              "    </g>\n",
              "</svg>\n",
              "  </button>\n",
              "\n",
              "<style>\n",
              "  .colab-df-quickchart {\n",
              "      --bg-color: #E8F0FE;\n",
              "      --fill-color: #1967D2;\n",
              "      --hover-bg-color: #E2EBFA;\n",
              "      --hover-fill-color: #174EA6;\n",
              "      --disabled-fill-color: #AAA;\n",
              "      --disabled-bg-color: #DDD;\n",
              "  }\n",
              "\n",
              "  [theme=dark] .colab-df-quickchart {\n",
              "      --bg-color: #3B4455;\n",
              "      --fill-color: #D2E3FC;\n",
              "      --hover-bg-color: #434B5C;\n",
              "      --hover-fill-color: #FFFFFF;\n",
              "      --disabled-bg-color: #3B4455;\n",
              "      --disabled-fill-color: #666;\n",
              "  }\n",
              "\n",
              "  .colab-df-quickchart {\n",
              "    background-color: var(--bg-color);\n",
              "    border: none;\n",
              "    border-radius: 50%;\n",
              "    cursor: pointer;\n",
              "    display: none;\n",
              "    fill: var(--fill-color);\n",
              "    height: 32px;\n",
              "    padding: 0;\n",
              "    width: 32px;\n",
              "  }\n",
              "\n",
              "  .colab-df-quickchart:hover {\n",
              "    background-color: var(--hover-bg-color);\n",
              "    box-shadow: 0 1px 2px rgba(60, 64, 67, 0.3), 0 1px 3px 1px rgba(60, 64, 67, 0.15);\n",
              "    fill: var(--button-hover-fill-color);\n",
              "  }\n",
              "\n",
              "  .colab-df-quickchart-complete:disabled,\n",
              "  .colab-df-quickchart-complete:disabled:hover {\n",
              "    background-color: var(--disabled-bg-color);\n",
              "    fill: var(--disabled-fill-color);\n",
              "    box-shadow: none;\n",
              "  }\n",
              "\n",
              "  .colab-df-spinner {\n",
              "    border: 2px solid var(--fill-color);\n",
              "    border-color: transparent;\n",
              "    border-bottom-color: var(--fill-color);\n",
              "    animation:\n",
              "      spin 1s steps(1) infinite;\n",
              "  }\n",
              "\n",
              "  @keyframes spin {\n",
              "    0% {\n",
              "      border-color: transparent;\n",
              "      border-bottom-color: var(--fill-color);\n",
              "      border-left-color: var(--fill-color);\n",
              "    }\n",
              "    20% {\n",
              "      border-color: transparent;\n",
              "      border-left-color: var(--fill-color);\n",
              "      border-top-color: var(--fill-color);\n",
              "    }\n",
              "    30% {\n",
              "      border-color: transparent;\n",
              "      border-left-color: var(--fill-color);\n",
              "      border-top-color: var(--fill-color);\n",
              "      border-right-color: var(--fill-color);\n",
              "    }\n",
              "    40% {\n",
              "      border-color: transparent;\n",
              "      border-right-color: var(--fill-color);\n",
              "      border-top-color: var(--fill-color);\n",
              "    }\n",
              "    60% {\n",
              "      border-color: transparent;\n",
              "      border-right-color: var(--fill-color);\n",
              "    }\n",
              "    80% {\n",
              "      border-color: transparent;\n",
              "      border-right-color: var(--fill-color);\n",
              "      border-bottom-color: var(--fill-color);\n",
              "    }\n",
              "    90% {\n",
              "      border-color: transparent;\n",
              "      border-bottom-color: var(--fill-color);\n",
              "    }\n",
              "  }\n",
              "</style>\n",
              "\n",
              "  <script>\n",
              "    async function quickchart(key) {\n",
              "      const quickchartButtonEl =\n",
              "        document.querySelector('#' + key + ' button');\n",
              "      quickchartButtonEl.disabled = true;  // To prevent multiple clicks.\n",
              "      quickchartButtonEl.classList.add('colab-df-spinner');\n",
              "      try {\n",
              "        const charts = await google.colab.kernel.invokeFunction(\n",
              "            'suggestCharts', [key], {});\n",
              "      } catch (error) {\n",
              "        console.error('Error during call to suggestCharts:', error);\n",
              "      }\n",
              "      quickchartButtonEl.classList.remove('colab-df-spinner');\n",
              "      quickchartButtonEl.classList.add('colab-df-quickchart-complete');\n",
              "    }\n",
              "    (() => {\n",
              "      let quickchartButtonEl =\n",
              "        document.querySelector('#df-5e26266a-30d9-44a5-ba09-5c179eb0ca85 button');\n",
              "      quickchartButtonEl.style.display =\n",
              "        google.colab.kernel.accessAllowed ? 'block' : 'none';\n",
              "    })();\n",
              "  </script>\n",
              "</div>\n",
              "    </div>\n",
              "  </div>\n"
            ]
          },
          "metadata": {},
          "execution_count": 171
        }
      ]
    },
    {
      "cell_type": "code",
      "source": [
        "Lf_df.to_csv('생산유발계수.csv', encoding='utf_8-sig')\n",
        "Lv_df.to_csv('부가가치유발계수.csv', encoding='utf_8-sig')"
      ],
      "metadata": {
        "id": "5hYfqz56RO17"
      },
      "execution_count": 172,
      "outputs": []
    },
    {
      "cell_type": "markdown",
      "source": [
        "## 총수출분해"
      ],
      "metadata": {
        "id": "WFmJYtDIeKIh"
      }
    },
    {
      "cell_type": "markdown",
      "source": [
        "### Eij = Yij+AijXj = Yij + Aij*Xjj + Aij*Xjt + Aij*Xji\n",
        "한국의 대중 총수출을 분해"
      ],
      "metadata": {
        "id": "a0J0qR1xf3L-"
      }
    },
    {
      "cell_type": "code",
      "source": [
        "# ct_dec = PROD\n",
        "# nae_dec =nae\n",
        "# nae_dec\n",
        "# fd_dec = Fd\n",
        "# fd_dec"
      ],
      "metadata": {
        "id": "Tgje24W-pCvS"
      },
      "execution_count": 173,
      "outputs": []
    },
    {
      "cell_type": "code",
      "source": [
        "# ct_dec_m = np.tile(ct_dec, reps=[4,1]) # 산출액을 12번 행반복\n",
        "# Ad_dec =(nae_dec/ct_dec_m)  # 투입계수\n",
        "# Ad_dec"
      ],
      "metadata": {
        "id": "mbOTR9xwo_X5"
      },
      "execution_count": 174,
      "outputs": []
    },
    {
      "cell_type": "code",
      "source": [
        "# Lf_dec = np.linalg.inv(np.identity(4)-Ad_dec)    # 생산유발계수\n",
        "# Lf_dec"
      ],
      "metadata": {
        "id": "v5O3Xg39o_au"
      },
      "execution_count": 175,
      "outputs": []
    },
    {
      "cell_type": "code",
      "source": [
        "# Lf_dec_out = pd.DataFrame(Lf_dec)\n",
        "# Lf_dec_out.to_csv('Lf_dec.csv', encoding='utf_8-sig')"
      ],
      "metadata": {
        "id": "MYF-6mbRo_dk"
      },
      "execution_count": 176,
      "outputs": []
    },
    {
      "cell_type": "code",
      "source": [
        "E_kc_int = Mt[:3,3:6]  # 한국의 대중 중간재 수출\n",
        "E_kc_int_sm = E_kc_int.sum(axis=1)\n",
        "E_kc_fd = Mt[:3,13]  # 한국의 대중 최종재 수출\n",
        "E_kc = E_kc_int_sm + E_kc_fd # 한국의 대중 총수출\n",
        "E_kc"
      ],
      "metadata": {
        "colab": {
          "base_uri": "https://localhost:8080/"
        },
        "id": "wZaIU20Eg13p",
        "outputId": "cd6eb984-1450-4136-bfdc-aa74e6e4c131"
      },
      "execution_count": 74,
      "outputs": [
        {
          "output_type": "execute_result",
          "data": {
            "text/plain": [
              "array([   1., 1982.,  377.])"
            ]
          },
          "metadata": {},
          "execution_count": 74
        }
      ]
    },
    {
      "cell_type": "code",
      "source": [
        "Mt[:3,3:6]"
      ],
      "metadata": {
        "id": "fexyeqzS0NMS",
        "outputId": "82e2b3eb-759a-4cfe-8dcd-075b9409afd8",
        "colab": {
          "base_uri": "https://localhost:8080/"
        }
      },
      "execution_count": 75,
      "outputs": [
        {
          "output_type": "execute_result",
          "data": {
            "text/plain": [
              "array([[   0.,    0.,    0.],\n",
              "       [  50., 1246.,  295.],\n",
              "       [  11.,  139.,   99.]])"
            ]
          },
          "metadata": {},
          "execution_count": 75
        }
      ]
    },
    {
      "cell_type": "code",
      "source": [
        "Y_kc = E_kc_fd  # 한국의 대중국 최종재 수출\n",
        "Y_kc"
      ],
      "metadata": {
        "colab": {
          "base_uri": "https://localhost:8080/"
        },
        "id": "rXLSKx69g16L",
        "outputId": "2fe47b2e-a447-4495-944f-9d21a2cd50df"
      },
      "execution_count": 76,
      "outputs": [
        {
          "output_type": "execute_result",
          "data": {
            "text/plain": [
              "array([  1., 391., 128.])"
            ]
          },
          "metadata": {},
          "execution_count": 76
        }
      ]
    },
    {
      "cell_type": "code",
      "source": [
        "ct_c = PROD[3:6,]   #중국 산출액\n",
        "ct_c_m = np.tile(ct_c,reps=[3,1])\n",
        "ct_c_m"
      ],
      "metadata": {
        "id": "JM-DLgvJ22-B",
        "outputId": "f68f76e9-eecf-496d-c544-b80314ab2ad0",
        "colab": {
          "base_uri": "https://localhost:8080/"
        }
      },
      "execution_count": 77,
      "outputs": [
        {
          "output_type": "execute_result",
          "data": {
            "text/plain": [
              "array([[ 21259., 171848., 157051.],\n",
              "       [ 21259., 171848., 157051.],\n",
              "       [ 21259., 171848., 157051.]])"
            ]
          },
          "metadata": {},
          "execution_count": 77
        }
      ]
    },
    {
      "cell_type": "code",
      "source": [
        "A_kc = E_kc_int/ct_c_m # 한국의 대중중간재수출/중국산출액\n",
        "A_kc"
      ],
      "metadata": {
        "colab": {
          "base_uri": "https://localhost:8080/"
        },
        "id": "Rm-2ap8wg18j",
        "outputId": "d0646489-5e39-46af-91d5-b8b230f3df59"
      },
      "execution_count": 78,
      "outputs": [
        {
          "output_type": "execute_result",
          "data": {
            "text/plain": [
              "array([[0.   , 0.   , 0.   ],\n",
              "       [0.002, 0.007, 0.002],\n",
              "       [0.001, 0.001, 0.001]])"
            ]
          },
          "metadata": {},
          "execution_count": 78
        }
      ]
    },
    {
      "cell_type": "code",
      "source": [
        "X_all = Lf@Fd\n",
        "X_all"
      ],
      "metadata": {
        "colab": {
          "base_uri": "https://localhost:8080/"
        },
        "id": "l5JE7f61g1-e",
        "outputId": "4111d5a4-d297-480a-c66c-0606c04d0240"
      },
      "execution_count": 79,
      "outputs": [
        {
          "output_type": "execute_result",
          "data": {
            "text/plain": [
              "array([[   371.512,     56.76 ,     31.135,    112.593],\n",
              "       [  7063.68 ,   2826.095,   1389.286,   5405.939],\n",
              "       [ 17241.406,   1080.608,    525.74 ,   2129.245],\n",
              "       [   131.001,  17733.056,    783.019,   2611.924],\n",
              "       [  1623.709, 127562.517,  10102.107,  32559.667],\n",
              "       [   630.958, 142829.057,   3019.601,  10571.384],\n",
              "       [    43.056,    194.185,   3466.241,    962.517],\n",
              "       [   506.104,   1841.684,  53047.184,  12975.029],\n",
              "       [   689.754,   2494.902, 264395.158,  18348.187],\n",
              "       [   241.765,   1687.973,   1941.02 ,  34414.243],\n",
              "       [  3408.814,  18032.182,  24658.888, 228528.116],\n",
              "       [  2273.466,  12991.658,  17932.382, 559547.494]])"
            ]
          },
          "metadata": {},
          "execution_count": 79
        }
      ]
    },
    {
      "cell_type": "code",
      "source": [
        "X_chn = X_all[3:6,:]  # 모든 국가의 최종수요에 의한 중국의 산출액\n",
        "X_chn"
      ],
      "metadata": {
        "id": "1rW51k8q6dU7",
        "outputId": "f409faf2-4a82-4f8c-b7a5-9a47bd499e75",
        "colab": {
          "base_uri": "https://localhost:8080/"
        }
      },
      "execution_count": 80,
      "outputs": [
        {
          "output_type": "execute_result",
          "data": {
            "text/plain": [
              "array([[   131.001,  17733.056,    783.019,   2611.924],\n",
              "       [  1623.709, 127562.517,  10102.107,  32559.667],\n",
              "       [   630.958, 142829.057,   3019.601,  10571.384]])"
            ]
          },
          "metadata": {},
          "execution_count": 80
        }
      ]
    },
    {
      "cell_type": "code",
      "source": [
        "Akc_by_ind = A_kc@X_chn # 한국의 대중 중간재 수출\n",
        "Akc_by_ind"
      ],
      "metadata": {
        "id": "wzynj60X6yHf",
        "outputId": "8e5465ea-5fd2-4cd7-8319-8311c6fc44da",
        "colab": {
          "base_uri": "https://localhost:8080/"
        }
      },
      "execution_count": 81,
      "outputs": [
        {
          "output_type": "execute_result",
          "data": {
            "text/plain": [
              "array([[   0.   ,    0.   ,    0.   ,    0.   ],\n",
              "       [  13.266, 1234.897,   80.76 ,  262.077],\n",
              "       [   1.779,  202.39 ,   10.48 ,   34.351]])"
            ]
          },
          "metadata": {},
          "execution_count": 81
        }
      ]
    },
    {
      "cell_type": "code",
      "source": [
        "X_chn_agr = Akc_by_ind[0,:] # 한국 대중 농업 중간재 수출의 국가별 분해\n",
        "X_chn_manu = Akc_by_ind[1,:] # 한국 대중 제조업 중간재 수출의 국가별 분해\n",
        "X_chn_serv = Akc_by_ind[2,:] # 한국 대중 서비스업 중간재 수출의 국가별 분해"
      ],
      "metadata": {
        "id": "ZMdSkaKMg2A1"
      },
      "execution_count": 82,
      "outputs": []
    },
    {
      "cell_type": "markdown",
      "source": [
        "### 한국의 대중 중간재를 농업, 제조업, 서비스별로 분해 가능"
      ],
      "metadata": {
        "id": "FAyER4k1Apn7"
      }
    },
    {
      "cell_type": "code",
      "source": [
        "Ex_Kor_to_Chn_decom = np.hstack((Akc_by_ind.reshape([3,4]),Y_kc.reshape([3,1])))\n",
        "Ex_Kor_to_Chn_decom_sm = Ex_Kor_to_Chn_decom.sum(axis=1)"
      ],
      "metadata": {
        "id": "OeBcDuqO85t7"
      },
      "execution_count": 83,
      "outputs": []
    },
    {
      "cell_type": "code",
      "source": [
        "Ex_Kor_to_Chn_decom_rw_sm = np.hstack((Ex_Kor_to_Chn_decom.reshape([3,5]),Ex_Kor_to_Chn_decom_sm.reshape([3,1]))) # 한국의 대중 수출을 중간재(국가별분해)와 최종재로 표시\n",
        "Ex_Kor_to_Chn_decom_col_sm = Ex_Kor_to_Chn_decom_rw_sm.sum(axis=0)"
      ],
      "metadata": {
        "id": "1JM_fqS085zD"
      },
      "execution_count": 84,
      "outputs": []
    },
    {
      "cell_type": "code",
      "source": [
        "Ex_Kor_Chn = np.vstack((Ex_Kor_to_Chn_decom_rw_sm,Ex_Kor_to_Chn_decom_col_sm))\n",
        "Ex_Kor_Chn"
      ],
      "metadata": {
        "id": "A6mGMb1uFWQE",
        "outputId": "548c648b-6d88-48f9-834f-2530459f6fba",
        "colab": {
          "base_uri": "https://localhost:8080/"
        }
      },
      "execution_count": 85,
      "outputs": [
        {
          "output_type": "execute_result",
          "data": {
            "text/plain": [
              "array([[   0.   ,    0.   ,    0.   ,    0.   ,    1.   ,    1.   ],\n",
              "       [  13.266, 1234.897,   80.76 ,  262.077,  391.   , 1982.   ],\n",
              "       [   1.779,  202.39 ,   10.48 ,   34.351,  128.   ,  377.   ],\n",
              "       [  15.045, 1437.287,   91.24 ,  296.428,  520.   , 2360.   ]])"
            ]
          },
          "metadata": {},
          "execution_count": 85
        }
      ]
    },
    {
      "cell_type": "code",
      "source": [
        "Ex_Kor_Chn_df = pd.DataFrame(Ex_Kor_Chn.round(3), columns = [['중간재', '중간재', '중간재', '중간재', '최종재','총수출'],\n",
        "                                    ['한국', '중국', '미국', 'ROW', '중국','중국']],\n",
        "\n",
        "                                    index=['농업', '공업', '서비스','소계'])\n",
        "Ex_Kor_Chn_df.index.names=['산업']\n",
        "Ex_Kor_Chn_df"
      ],
      "metadata": {
        "id": "OJNGsYCi851a",
        "outputId": "89bfd3d9-5fa2-41f1-a36b-f23fd6330daa",
        "colab": {
          "base_uri": "https://localhost:8080/",
          "height": 237
        }
      },
      "execution_count": 86,
      "outputs": [
        {
          "output_type": "execute_result",
          "data": {
            "text/plain": [
              "        중간재                              최종재     총수출\n",
              "         한국        중국     미국      ROW     중국      중국\n",
              "산업                                                  \n",
              "농업    0.000     0.000   0.00    0.000    1.0     1.0\n",
              "공업   13.266  1234.897  80.76  262.077  391.0  1982.0\n",
              "서비스   1.779   202.390  10.48   34.351  128.0   377.0\n",
              "소계   15.045  1437.287  91.24  296.428  520.0  2360.0"
            ],
            "text/html": [
              "\n",
              "  <div id=\"df-8580320d-2b4d-4aca-b7ea-94b83a2afaae\" class=\"colab-df-container\">\n",
              "    <div>\n",
              "<style scoped>\n",
              "    .dataframe tbody tr th:only-of-type {\n",
              "        vertical-align: middle;\n",
              "    }\n",
              "\n",
              "    .dataframe tbody tr th {\n",
              "        vertical-align: top;\n",
              "    }\n",
              "\n",
              "    .dataframe thead tr th {\n",
              "        text-align: left;\n",
              "    }\n",
              "\n",
              "    .dataframe thead tr:last-of-type th {\n",
              "        text-align: right;\n",
              "    }\n",
              "</style>\n",
              "<table border=\"1\" class=\"dataframe\">\n",
              "  <thead>\n",
              "    <tr>\n",
              "      <th></th>\n",
              "      <th colspan=\"4\" halign=\"left\">중간재</th>\n",
              "      <th>최종재</th>\n",
              "      <th>총수출</th>\n",
              "    </tr>\n",
              "    <tr>\n",
              "      <th></th>\n",
              "      <th>한국</th>\n",
              "      <th>중국</th>\n",
              "      <th>미국</th>\n",
              "      <th>ROW</th>\n",
              "      <th>중국</th>\n",
              "      <th>중국</th>\n",
              "    </tr>\n",
              "    <tr>\n",
              "      <th>산업</th>\n",
              "      <th></th>\n",
              "      <th></th>\n",
              "      <th></th>\n",
              "      <th></th>\n",
              "      <th></th>\n",
              "      <th></th>\n",
              "    </tr>\n",
              "  </thead>\n",
              "  <tbody>\n",
              "    <tr>\n",
              "      <th>농업</th>\n",
              "      <td>0.000</td>\n",
              "      <td>0.000</td>\n",
              "      <td>0.00</td>\n",
              "      <td>0.000</td>\n",
              "      <td>1.0</td>\n",
              "      <td>1.0</td>\n",
              "    </tr>\n",
              "    <tr>\n",
              "      <th>공업</th>\n",
              "      <td>13.266</td>\n",
              "      <td>1234.897</td>\n",
              "      <td>80.76</td>\n",
              "      <td>262.077</td>\n",
              "      <td>391.0</td>\n",
              "      <td>1982.0</td>\n",
              "    </tr>\n",
              "    <tr>\n",
              "      <th>서비스</th>\n",
              "      <td>1.779</td>\n",
              "      <td>202.390</td>\n",
              "      <td>10.48</td>\n",
              "      <td>34.351</td>\n",
              "      <td>128.0</td>\n",
              "      <td>377.0</td>\n",
              "    </tr>\n",
              "    <tr>\n",
              "      <th>소계</th>\n",
              "      <td>15.045</td>\n",
              "      <td>1437.287</td>\n",
              "      <td>91.24</td>\n",
              "      <td>296.428</td>\n",
              "      <td>520.0</td>\n",
              "      <td>2360.0</td>\n",
              "    </tr>\n",
              "  </tbody>\n",
              "</table>\n",
              "</div>\n",
              "    <div class=\"colab-df-buttons\">\n",
              "\n",
              "  <div class=\"colab-df-container\">\n",
              "    <button class=\"colab-df-convert\" onclick=\"convertToInteractive('df-8580320d-2b4d-4aca-b7ea-94b83a2afaae')\"\n",
              "            title=\"Convert this dataframe to an interactive table.\"\n",
              "            style=\"display:none;\">\n",
              "\n",
              "  <svg xmlns=\"http://www.w3.org/2000/svg\" height=\"24px\" viewBox=\"0 -960 960 960\">\n",
              "    <path d=\"M120-120v-720h720v720H120Zm60-500h600v-160H180v160Zm220 220h160v-160H400v160Zm0 220h160v-160H400v160ZM180-400h160v-160H180v160Zm440 0h160v-160H620v160ZM180-180h160v-160H180v160Zm440 0h160v-160H620v160Z\"/>\n",
              "  </svg>\n",
              "    </button>\n",
              "\n",
              "  <style>\n",
              "    .colab-df-container {\n",
              "      display:flex;\n",
              "      gap: 12px;\n",
              "    }\n",
              "\n",
              "    .colab-df-convert {\n",
              "      background-color: #E8F0FE;\n",
              "      border: none;\n",
              "      border-radius: 50%;\n",
              "      cursor: pointer;\n",
              "      display: none;\n",
              "      fill: #1967D2;\n",
              "      height: 32px;\n",
              "      padding: 0 0 0 0;\n",
              "      width: 32px;\n",
              "    }\n",
              "\n",
              "    .colab-df-convert:hover {\n",
              "      background-color: #E2EBFA;\n",
              "      box-shadow: 0px 1px 2px rgba(60, 64, 67, 0.3), 0px 1px 3px 1px rgba(60, 64, 67, 0.15);\n",
              "      fill: #174EA6;\n",
              "    }\n",
              "\n",
              "    .colab-df-buttons div {\n",
              "      margin-bottom: 4px;\n",
              "    }\n",
              "\n",
              "    [theme=dark] .colab-df-convert {\n",
              "      background-color: #3B4455;\n",
              "      fill: #D2E3FC;\n",
              "    }\n",
              "\n",
              "    [theme=dark] .colab-df-convert:hover {\n",
              "      background-color: #434B5C;\n",
              "      box-shadow: 0px 1px 3px 1px rgba(0, 0, 0, 0.15);\n",
              "      filter: drop-shadow(0px 1px 2px rgba(0, 0, 0, 0.3));\n",
              "      fill: #FFFFFF;\n",
              "    }\n",
              "  </style>\n",
              "\n",
              "    <script>\n",
              "      const buttonEl =\n",
              "        document.querySelector('#df-8580320d-2b4d-4aca-b7ea-94b83a2afaae button.colab-df-convert');\n",
              "      buttonEl.style.display =\n",
              "        google.colab.kernel.accessAllowed ? 'block' : 'none';\n",
              "\n",
              "      async function convertToInteractive(key) {\n",
              "        const element = document.querySelector('#df-8580320d-2b4d-4aca-b7ea-94b83a2afaae');\n",
              "        const dataTable =\n",
              "          await google.colab.kernel.invokeFunction('convertToInteractive',\n",
              "                                                    [key], {});\n",
              "        if (!dataTable) return;\n",
              "\n",
              "        const docLinkHtml = 'Like what you see? Visit the ' +\n",
              "          '<a target=\"_blank\" href=https://colab.research.google.com/notebooks/data_table.ipynb>data table notebook</a>'\n",
              "          + ' to learn more about interactive tables.';\n",
              "        element.innerHTML = '';\n",
              "        dataTable['output_type'] = 'display_data';\n",
              "        await google.colab.output.renderOutput(dataTable, element);\n",
              "        const docLink = document.createElement('div');\n",
              "        docLink.innerHTML = docLinkHtml;\n",
              "        element.appendChild(docLink);\n",
              "      }\n",
              "    </script>\n",
              "  </div>\n",
              "\n",
              "\n",
              "<div id=\"df-e5d534b4-4fb3-4531-a074-ee491834cd63\">\n",
              "  <button class=\"colab-df-quickchart\" onclick=\"quickchart('df-e5d534b4-4fb3-4531-a074-ee491834cd63')\"\n",
              "            title=\"Suggest charts.\"\n",
              "            style=\"display:none;\">\n",
              "\n",
              "<svg xmlns=\"http://www.w3.org/2000/svg\" height=\"24px\"viewBox=\"0 0 24 24\"\n",
              "     width=\"24px\">\n",
              "    <g>\n",
              "        <path d=\"M19 3H5c-1.1 0-2 .9-2 2v14c0 1.1.9 2 2 2h14c1.1 0 2-.9 2-2V5c0-1.1-.9-2-2-2zM9 17H7v-7h2v7zm4 0h-2V7h2v10zm4 0h-2v-4h2v4z\"/>\n",
              "    </g>\n",
              "</svg>\n",
              "  </button>\n",
              "\n",
              "<style>\n",
              "  .colab-df-quickchart {\n",
              "      --bg-color: #E8F0FE;\n",
              "      --fill-color: #1967D2;\n",
              "      --hover-bg-color: #E2EBFA;\n",
              "      --hover-fill-color: #174EA6;\n",
              "      --disabled-fill-color: #AAA;\n",
              "      --disabled-bg-color: #DDD;\n",
              "  }\n",
              "\n",
              "  [theme=dark] .colab-df-quickchart {\n",
              "      --bg-color: #3B4455;\n",
              "      --fill-color: #D2E3FC;\n",
              "      --hover-bg-color: #434B5C;\n",
              "      --hover-fill-color: #FFFFFF;\n",
              "      --disabled-bg-color: #3B4455;\n",
              "      --disabled-fill-color: #666;\n",
              "  }\n",
              "\n",
              "  .colab-df-quickchart {\n",
              "    background-color: var(--bg-color);\n",
              "    border: none;\n",
              "    border-radius: 50%;\n",
              "    cursor: pointer;\n",
              "    display: none;\n",
              "    fill: var(--fill-color);\n",
              "    height: 32px;\n",
              "    padding: 0;\n",
              "    width: 32px;\n",
              "  }\n",
              "\n",
              "  .colab-df-quickchart:hover {\n",
              "    background-color: var(--hover-bg-color);\n",
              "    box-shadow: 0 1px 2px rgba(60, 64, 67, 0.3), 0 1px 3px 1px rgba(60, 64, 67, 0.15);\n",
              "    fill: var(--button-hover-fill-color);\n",
              "  }\n",
              "\n",
              "  .colab-df-quickchart-complete:disabled,\n",
              "  .colab-df-quickchart-complete:disabled:hover {\n",
              "    background-color: var(--disabled-bg-color);\n",
              "    fill: var(--disabled-fill-color);\n",
              "    box-shadow: none;\n",
              "  }\n",
              "\n",
              "  .colab-df-spinner {\n",
              "    border: 2px solid var(--fill-color);\n",
              "    border-color: transparent;\n",
              "    border-bottom-color: var(--fill-color);\n",
              "    animation:\n",
              "      spin 1s steps(1) infinite;\n",
              "  }\n",
              "\n",
              "  @keyframes spin {\n",
              "    0% {\n",
              "      border-color: transparent;\n",
              "      border-bottom-color: var(--fill-color);\n",
              "      border-left-color: var(--fill-color);\n",
              "    }\n",
              "    20% {\n",
              "      border-color: transparent;\n",
              "      border-left-color: var(--fill-color);\n",
              "      border-top-color: var(--fill-color);\n",
              "    }\n",
              "    30% {\n",
              "      border-color: transparent;\n",
              "      border-left-color: var(--fill-color);\n",
              "      border-top-color: var(--fill-color);\n",
              "      border-right-color: var(--fill-color);\n",
              "    }\n",
              "    40% {\n",
              "      border-color: transparent;\n",
              "      border-right-color: var(--fill-color);\n",
              "      border-top-color: var(--fill-color);\n",
              "    }\n",
              "    60% {\n",
              "      border-color: transparent;\n",
              "      border-right-color: var(--fill-color);\n",
              "    }\n",
              "    80% {\n",
              "      border-color: transparent;\n",
              "      border-right-color: var(--fill-color);\n",
              "      border-bottom-color: var(--fill-color);\n",
              "    }\n",
              "    90% {\n",
              "      border-color: transparent;\n",
              "      border-bottom-color: var(--fill-color);\n",
              "    }\n",
              "  }\n",
              "</style>\n",
              "\n",
              "  <script>\n",
              "    async function quickchart(key) {\n",
              "      const quickchartButtonEl =\n",
              "        document.querySelector('#' + key + ' button');\n",
              "      quickchartButtonEl.disabled = true;  // To prevent multiple clicks.\n",
              "      quickchartButtonEl.classList.add('colab-df-spinner');\n",
              "      try {\n",
              "        const charts = await google.colab.kernel.invokeFunction(\n",
              "            'suggestCharts', [key], {});\n",
              "      } catch (error) {\n",
              "        console.error('Error during call to suggestCharts:', error);\n",
              "      }\n",
              "      quickchartButtonEl.classList.remove('colab-df-spinner');\n",
              "      quickchartButtonEl.classList.add('colab-df-quickchart-complete');\n",
              "    }\n",
              "    (() => {\n",
              "      let quickchartButtonEl =\n",
              "        document.querySelector('#df-e5d534b4-4fb3-4531-a074-ee491834cd63 button');\n",
              "      quickchartButtonEl.style.display =\n",
              "        google.colab.kernel.accessAllowed ? 'block' : 'none';\n",
              "    })();\n",
              "  </script>\n",
              "</div>\n",
              "    </div>\n",
              "  </div>\n"
            ]
          },
          "metadata": {},
          "execution_count": 86
        }
      ]
    },
    {
      "cell_type": "code",
      "source": [
        "Ex_Kor_Chn_df.to_csv('한국의 대중수출분해.csv', encoding='utf_8-sig')"
      ],
      "metadata": {
        "id": "_usuut-i4RRs"
      },
      "execution_count": 87,
      "outputs": []
    },
    {
      "cell_type": "code",
      "source": [
        "print('대중수출_거래표 \\n',E_kc, '\\n')\n",
        "print('대중수출_분해합 \\n',Ex_Kor_Chn[:,-1], '\\n')"
      ],
      "metadata": {
        "colab": {
          "base_uri": "https://localhost:8080/"
        },
        "id": "MUZw7K3W4RXI",
        "outputId": "6bb1be05-7210-40ea-ca77-d9b6dbce1b77"
      },
      "execution_count": 88,
      "outputs": [
        {
          "output_type": "stream",
          "name": "stdout",
          "text": [
            "대중수출_거래표 \n",
            " [   1. 1982.  377.] \n",
            "\n",
            "대중수출_분해합 \n",
            " [   1. 1982.  377. 2360.] \n",
            "\n"
          ]
        }
      ]
    },
    {
      "cell_type": "markdown",
      "source": [
        "## DVA 와 FVA 구하기(OECD의 총수출을 이용하는 개념을 이용)\n",
        "### 한국의 산업별 DVA 및FVA 구하기"
      ],
      "metadata": {
        "id": "J_kv80q6FM1D"
      }
    },
    {
      "cell_type": "code",
      "source": [
        "mtx_for_int= linalg.block_diag(np.ones((3,3)),np.ones((3,3)),np.ones((3,3)),np.ones((3,3)))\n",
        "mtx_for_tra=np.where(mtx_for_int == 1, 0, 1)\n",
        "\n",
        "mtx_for_fnl= linalg.block_diag(np.ones((3,1)),np.ones((3,1)),np.ones((3,1)),np.ones((3,1)))\n",
        "mtx_for_fnl_tra=np.where(mtx_for_fnl == 1, 0, 1)\n",
        "\n",
        "INT = icio_2[0:12,0:12].astype(float)\n",
        "\n",
        "EXIM_INT_mt = (INT*mtx_for_tra).reshape([12,12])  # 중간재 수출입\n",
        "EXGR_INT = EXIM_INT_mt.sum(axis=1).reshape([12,1])\n",
        "\n",
        "FD = icio_2[0:12,12:16].astype(float)\n",
        "\n",
        "EXIM_FNL_mt = (FD*mtx_for_fnl_tra).reshape([12,4])  # 최종재 수출입\n",
        "EXGR_FNL = EXIM_FNL_mt.sum(axis=1).reshape([12,1])\n",
        "\n",
        "EXGR = EXGR_INT + EXGR_FNL\n",
        "EXGR"
      ],
      "metadata": {
        "id": "rQKMniy7FLdt",
        "outputId": "514184d4-73e6-4963-bf80-65adc02e5c95",
        "colab": {
          "base_uri": "https://localhost:8080/"
        }
      },
      "execution_count": 184,
      "outputs": [
        {
          "output_type": "execute_result",
          "data": {
            "text/plain": [
              "array([[   11.],\n",
              "       [ 5928.],\n",
              "       [ 1227.],\n",
              "       [  170.],\n",
              "       [20107.],\n",
              "       [ 4013.],\n",
              "       [  526.],\n",
              "       [10740.],\n",
              "       [11316.],\n",
              "       [ 1238.],\n",
              "       [30902.],\n",
              "       [14214.]])"
            ]
          },
          "metadata": {},
          "execution_count": 184
        }
      ]
    },
    {
      "cell_type": "code",
      "source": [
        "EXGR_decom = Lv@np.diagflat(EXGR)\n",
        "EXGR_decom"
      ],
      "metadata": {
        "id": "R4H0wcRyIHMi",
        "outputId": "50d91f6a-cacd-4a37-988b-fb5b9eecbdda",
        "colab": {
          "base_uri": "https://localhost:8080/"
        }
      },
      "execution_count": 187,
      "outputs": [
        {
          "output_type": "execute_result",
          "data": {
            "text/plain": [
              "array([[    6.098,    92.652,     7.673,     0.026,     5.884,     0.519,\n",
              "            0.027,     1.221,     0.319,     0.096,     4.745,     0.727],\n",
              "       [    1.097,  2593.227,    90.674,     0.693,   159.42 ,    13.87 ,\n",
              "            0.648,    26.335,     7.067,     1.986,   121.727,    18.084],\n",
              "       [    1.641,  1053.226,   894.707,     0.46 ,    96.187,     9.786,\n",
              "            0.353,    15.239,     5.265,     1.276,    74.444,    15.516],\n",
              "       [    0.025,    28.081,     2.391,    98.586,  1403.354,   106.854,\n",
              "            0.717,    19.764,     6.414,     1.37 ,    77.199,    13.199],\n",
              "       [    0.168,   181.543,    15.396,    25.68 ,  9727.445,   549.857,\n",
              "            3.189,   124.906,    41.939,     7.366,   488.784,    85.048],\n",
              "       [    0.113,   116.128,    12.844,    27.777,  4522.891,  2880.801,\n",
              "            2.035,    76.601,    28.782,     4.993,   313.687,    68.304],\n",
              "       [    0.017,     8.391,     0.706,     0.152,    13.968,     1.179,\n",
              "          262.651,   224.464,    23.818,     1.157,    31.896,     4.079],\n",
              "       [    0.098,    89.55 ,     8.252,     0.588,   120.74 ,    11.228,\n",
              "           54.4  ,  5633.631,   449.19 ,     6.064,   370.46 ,    59.483],\n",
              "       [    0.161,   124.514,    16.344,     0.989,   170.975,    20.215,\n",
              "          149.575,  2941.756, 10180.198,    10.929,   571.972,   167.301],\n",
              "       [    0.089,    78.08 ,     6.512,     1.675,   192.449,    16.159,\n",
              "            8.654,   105.889,    22.563,   854.598,  1587.381,   168.241],\n",
              "       [    0.56 ,   685.609,    55.498,     5.382,  1272.04 ,   112.472,\n",
              "           16.025,   670.934,   159.518,   105.066, 16888.591,  1014.172],\n",
              "       [    0.527,   537.252,    60.867,     5.311,  1047.424,   112.628,\n",
              "           17.582,   563.581,   216.748,   205.622,  8624.224, 12080.345]])"
            ]
          },
          "metadata": {},
          "execution_count": 187
        }
      ]
    },
    {
      "cell_type": "code",
      "source": [
        "zz = pd.DataFrame(EXGR_decom)\n",
        "zz.to_csv(\"zz.csv\")"
      ],
      "metadata": {
        "id": "GBS-kgwoIHPM"
      },
      "execution_count": 189,
      "outputs": []
    },
    {
      "cell_type": "code",
      "source": [],
      "metadata": {
        "id": "qLUhOTt5IHRV"
      },
      "execution_count": null,
      "outputs": []
    },
    {
      "cell_type": "code",
      "source": [],
      "metadata": {
        "id": "MBGNBKazIHTs"
      },
      "execution_count": null,
      "outputs": []
    },
    {
      "cell_type": "code",
      "source": [],
      "metadata": {
        "id": "BDNQvxe8IHWB"
      },
      "execution_count": null,
      "outputs": []
    },
    {
      "cell_type": "code",
      "source": [],
      "metadata": {
        "id": "bZZ5glCVIHYK"
      },
      "execution_count": null,
      "outputs": []
    },
    {
      "cell_type": "code",
      "source": [],
      "metadata": {
        "id": "HqXoNbL1IHaB"
      },
      "execution_count": null,
      "outputs": []
    },
    {
      "cell_type": "code",
      "source": [],
      "metadata": {
        "id": "94zLkP2_IHcr"
      },
      "execution_count": null,
      "outputs": []
    },
    {
      "cell_type": "markdown",
      "source": [
        "## DVA 와 FVA 구하기\n",
        "\n",
        "#### (총수출 기준이 아닌 최종수요 기준으로 구함...,Koopman과 다른 개념으로 전통적인 최종수요에 의한 부가가치유발임)"
      ],
      "metadata": {
        "id": "653hwHW-b8Md"
      }
    },
    {
      "cell_type": "code",
      "source": [
        "DFVA_M = Lv@Fd\n",
        "DFVA_M"
      ],
      "metadata": {
        "id": "VsHx_ITn5wvj",
        "outputId": "3c1931c9-36ff-4860-b039-552b4ad50549",
        "colab": {
          "base_uri": "https://localhost:8080/"
        }
      },
      "execution_count": 178,
      "outputs": [
        {
          "output_type": "execute_result",
          "data": {
            "text/plain": [
              "array([[   195.498,     29.869,     16.384,     59.249],\n",
              "       [  1953.784,    781.686,    384.271,   1495.26 ],\n",
              "       [  8929.334,    559.647,    272.281,   1102.737],\n",
              "       [    57.918,   7840.114,    346.187,   1154.78 ],\n",
              "       [   366.13 ,  28764.068,   2277.924,   7341.878],\n",
              "       [   320.398,  72528.142,   1533.344,   5368.115],\n",
              "       [    17.523,     79.031,   1410.714,    391.732],\n",
              "       [   194.247,    706.854,  20359.97 ,   4979.929],\n",
              "       [   411.274,   1487.615, 157648.784,  10940.327],\n",
              "       [   143.019,    998.543,   1148.236,  20358.202],\n",
              "       [  1171.055,   6194.73 ,   8471.251,  78507.964],\n",
              "       [  1302.95 ,   7445.669,  10277.255, 320683.126]])"
            ]
          },
          "metadata": {},
          "execution_count": 178
        }
      ]
    },
    {
      "cell_type": "markdown",
      "source": [
        "### 한국의 농업, 제조업 및 서비스의 DVA를 국가별로 구하기"
      ],
      "metadata": {
        "id": "yLrpT0sHeINY"
      }
    },
    {
      "cell_type": "code",
      "source": [
        "DVA_Kor = DFVA_M[:3,1:]\n",
        "DVA_Kor"
      ],
      "metadata": {
        "id": "Gp2psUpu5wyT",
        "outputId": "72fe319e-dbea-446a-fbc6-354ca843c860",
        "colab": {
          "base_uri": "https://localhost:8080/"
        }
      },
      "execution_count": 179,
      "outputs": [
        {
          "output_type": "execute_result",
          "data": {
            "text/plain": [
              "array([[  29.869,   16.384,   59.249],\n",
              "       [ 781.686,  384.271, 1495.26 ],\n",
              "       [ 559.647,  272.281, 1102.737]])"
            ]
          },
          "metadata": {},
          "execution_count": 179
        }
      ]
    },
    {
      "cell_type": "code",
      "source": [
        "FVA_Kor = DFVA_M[3:12,0]\n",
        "FVA_Kor"
      ],
      "metadata": {
        "id": "OfWfOBnP5w1K",
        "outputId": "924650d4-28ca-4d47-dedf-e3e03a534a96",
        "colab": {
          "base_uri": "https://localhost:8080/"
        }
      },
      "execution_count": 180,
      "outputs": [
        {
          "output_type": "execute_result",
          "data": {
            "text/plain": [
              "array([  57.918,  366.13 ,  320.398,   17.523,  194.247,  411.274,\n",
              "        143.019, 1171.055, 1302.95 ])"
            ]
          },
          "metadata": {},
          "execution_count": 180
        }
      ]
    },
    {
      "cell_type": "code",
      "source": [
        "DVA_df = pd.DataFrame(DVA_Kor.round(1), columns = ['중국','미국','ROW'],\n",
        "                      index = ['농업','제조업','서비스'])\n",
        "\n",
        "DVA_df.index.names=['산업']"
      ],
      "metadata": {
        "id": "C_sTtIRceNp6"
      },
      "execution_count": 181,
      "outputs": []
    },
    {
      "cell_type": "code",
      "source": [
        "FVA_df = pd.DataFrame(FVA_Kor.round(1), columns = ['FVA'],\n",
        "                      index = ['농업_중국','제조업_중국','서비스_중국','농업_미국','제조업_미국','서비스_미국',\n",
        "                               '농업_ROW','제조업_ROW','서비스_ROW',])\n",
        "\n",
        "FVA_df.index.names=['산업_국가']\n",
        "FVA_df"
      ],
      "metadata": {
        "id": "ODsy7SeEeNsg",
        "outputId": "b22bd98c-41a3-4c8b-9636-dfbbe7333a63",
        "colab": {
          "base_uri": "https://localhost:8080/",
          "height": 363
        }
      },
      "execution_count": 182,
      "outputs": [
        {
          "output_type": "execute_result",
          "data": {
            "text/plain": [
              "            FVA\n",
              "산업_국가          \n",
              "농업_중국      57.9\n",
              "제조업_중국    366.1\n",
              "서비스_중국    320.4\n",
              "농업_미국      17.5\n",
              "제조업_미국    194.2\n",
              "서비스_미국    411.3\n",
              "농업_ROW    143.0\n",
              "제조업_ROW  1171.1\n",
              "서비스_ROW  1302.9"
            ],
            "text/html": [
              "\n",
              "  <div id=\"df-682d7530-44a5-44df-8426-167215de48fe\" class=\"colab-df-container\">\n",
              "    <div>\n",
              "<style scoped>\n",
              "    .dataframe tbody tr th:only-of-type {\n",
              "        vertical-align: middle;\n",
              "    }\n",
              "\n",
              "    .dataframe tbody tr th {\n",
              "        vertical-align: top;\n",
              "    }\n",
              "\n",
              "    .dataframe thead th {\n",
              "        text-align: right;\n",
              "    }\n",
              "</style>\n",
              "<table border=\"1\" class=\"dataframe\">\n",
              "  <thead>\n",
              "    <tr style=\"text-align: right;\">\n",
              "      <th></th>\n",
              "      <th>FVA</th>\n",
              "    </tr>\n",
              "    <tr>\n",
              "      <th>산업_국가</th>\n",
              "      <th></th>\n",
              "    </tr>\n",
              "  </thead>\n",
              "  <tbody>\n",
              "    <tr>\n",
              "      <th>농업_중국</th>\n",
              "      <td>57.9</td>\n",
              "    </tr>\n",
              "    <tr>\n",
              "      <th>제조업_중국</th>\n",
              "      <td>366.1</td>\n",
              "    </tr>\n",
              "    <tr>\n",
              "      <th>서비스_중국</th>\n",
              "      <td>320.4</td>\n",
              "    </tr>\n",
              "    <tr>\n",
              "      <th>농업_미국</th>\n",
              "      <td>17.5</td>\n",
              "    </tr>\n",
              "    <tr>\n",
              "      <th>제조업_미국</th>\n",
              "      <td>194.2</td>\n",
              "    </tr>\n",
              "    <tr>\n",
              "      <th>서비스_미국</th>\n",
              "      <td>411.3</td>\n",
              "    </tr>\n",
              "    <tr>\n",
              "      <th>농업_ROW</th>\n",
              "      <td>143.0</td>\n",
              "    </tr>\n",
              "    <tr>\n",
              "      <th>제조업_ROW</th>\n",
              "      <td>1171.1</td>\n",
              "    </tr>\n",
              "    <tr>\n",
              "      <th>서비스_ROW</th>\n",
              "      <td>1302.9</td>\n",
              "    </tr>\n",
              "  </tbody>\n",
              "</table>\n",
              "</div>\n",
              "    <div class=\"colab-df-buttons\">\n",
              "\n",
              "  <div class=\"colab-df-container\">\n",
              "    <button class=\"colab-df-convert\" onclick=\"convertToInteractive('df-682d7530-44a5-44df-8426-167215de48fe')\"\n",
              "            title=\"Convert this dataframe to an interactive table.\"\n",
              "            style=\"display:none;\">\n",
              "\n",
              "  <svg xmlns=\"http://www.w3.org/2000/svg\" height=\"24px\" viewBox=\"0 -960 960 960\">\n",
              "    <path d=\"M120-120v-720h720v720H120Zm60-500h600v-160H180v160Zm220 220h160v-160H400v160Zm0 220h160v-160H400v160ZM180-400h160v-160H180v160Zm440 0h160v-160H620v160ZM180-180h160v-160H180v160Zm440 0h160v-160H620v160Z\"/>\n",
              "  </svg>\n",
              "    </button>\n",
              "\n",
              "  <style>\n",
              "    .colab-df-container {\n",
              "      display:flex;\n",
              "      gap: 12px;\n",
              "    }\n",
              "\n",
              "    .colab-df-convert {\n",
              "      background-color: #E8F0FE;\n",
              "      border: none;\n",
              "      border-radius: 50%;\n",
              "      cursor: pointer;\n",
              "      display: none;\n",
              "      fill: #1967D2;\n",
              "      height: 32px;\n",
              "      padding: 0 0 0 0;\n",
              "      width: 32px;\n",
              "    }\n",
              "\n",
              "    .colab-df-convert:hover {\n",
              "      background-color: #E2EBFA;\n",
              "      box-shadow: 0px 1px 2px rgba(60, 64, 67, 0.3), 0px 1px 3px 1px rgba(60, 64, 67, 0.15);\n",
              "      fill: #174EA6;\n",
              "    }\n",
              "\n",
              "    .colab-df-buttons div {\n",
              "      margin-bottom: 4px;\n",
              "    }\n",
              "\n",
              "    [theme=dark] .colab-df-convert {\n",
              "      background-color: #3B4455;\n",
              "      fill: #D2E3FC;\n",
              "    }\n",
              "\n",
              "    [theme=dark] .colab-df-convert:hover {\n",
              "      background-color: #434B5C;\n",
              "      box-shadow: 0px 1px 3px 1px rgba(0, 0, 0, 0.15);\n",
              "      filter: drop-shadow(0px 1px 2px rgba(0, 0, 0, 0.3));\n",
              "      fill: #FFFFFF;\n",
              "    }\n",
              "  </style>\n",
              "\n",
              "    <script>\n",
              "      const buttonEl =\n",
              "        document.querySelector('#df-682d7530-44a5-44df-8426-167215de48fe button.colab-df-convert');\n",
              "      buttonEl.style.display =\n",
              "        google.colab.kernel.accessAllowed ? 'block' : 'none';\n",
              "\n",
              "      async function convertToInteractive(key) {\n",
              "        const element = document.querySelector('#df-682d7530-44a5-44df-8426-167215de48fe');\n",
              "        const dataTable =\n",
              "          await google.colab.kernel.invokeFunction('convertToInteractive',\n",
              "                                                    [key], {});\n",
              "        if (!dataTable) return;\n",
              "\n",
              "        const docLinkHtml = 'Like what you see? Visit the ' +\n",
              "          '<a target=\"_blank\" href=https://colab.research.google.com/notebooks/data_table.ipynb>data table notebook</a>'\n",
              "          + ' to learn more about interactive tables.';\n",
              "        element.innerHTML = '';\n",
              "        dataTable['output_type'] = 'display_data';\n",
              "        await google.colab.output.renderOutput(dataTable, element);\n",
              "        const docLink = document.createElement('div');\n",
              "        docLink.innerHTML = docLinkHtml;\n",
              "        element.appendChild(docLink);\n",
              "      }\n",
              "    </script>\n",
              "  </div>\n",
              "\n",
              "\n",
              "<div id=\"df-35d4f80a-064c-4f01-99c8-ce1c10314c2c\">\n",
              "  <button class=\"colab-df-quickchart\" onclick=\"quickchart('df-35d4f80a-064c-4f01-99c8-ce1c10314c2c')\"\n",
              "            title=\"Suggest charts.\"\n",
              "            style=\"display:none;\">\n",
              "\n",
              "<svg xmlns=\"http://www.w3.org/2000/svg\" height=\"24px\"viewBox=\"0 0 24 24\"\n",
              "     width=\"24px\">\n",
              "    <g>\n",
              "        <path d=\"M19 3H5c-1.1 0-2 .9-2 2v14c0 1.1.9 2 2 2h14c1.1 0 2-.9 2-2V5c0-1.1-.9-2-2-2zM9 17H7v-7h2v7zm4 0h-2V7h2v10zm4 0h-2v-4h2v4z\"/>\n",
              "    </g>\n",
              "</svg>\n",
              "  </button>\n",
              "\n",
              "<style>\n",
              "  .colab-df-quickchart {\n",
              "      --bg-color: #E8F0FE;\n",
              "      --fill-color: #1967D2;\n",
              "      --hover-bg-color: #E2EBFA;\n",
              "      --hover-fill-color: #174EA6;\n",
              "      --disabled-fill-color: #AAA;\n",
              "      --disabled-bg-color: #DDD;\n",
              "  }\n",
              "\n",
              "  [theme=dark] .colab-df-quickchart {\n",
              "      --bg-color: #3B4455;\n",
              "      --fill-color: #D2E3FC;\n",
              "      --hover-bg-color: #434B5C;\n",
              "      --hover-fill-color: #FFFFFF;\n",
              "      --disabled-bg-color: #3B4455;\n",
              "      --disabled-fill-color: #666;\n",
              "  }\n",
              "\n",
              "  .colab-df-quickchart {\n",
              "    background-color: var(--bg-color);\n",
              "    border: none;\n",
              "    border-radius: 50%;\n",
              "    cursor: pointer;\n",
              "    display: none;\n",
              "    fill: var(--fill-color);\n",
              "    height: 32px;\n",
              "    padding: 0;\n",
              "    width: 32px;\n",
              "  }\n",
              "\n",
              "  .colab-df-quickchart:hover {\n",
              "    background-color: var(--hover-bg-color);\n",
              "    box-shadow: 0 1px 2px rgba(60, 64, 67, 0.3), 0 1px 3px 1px rgba(60, 64, 67, 0.15);\n",
              "    fill: var(--button-hover-fill-color);\n",
              "  }\n",
              "\n",
              "  .colab-df-quickchart-complete:disabled,\n",
              "  .colab-df-quickchart-complete:disabled:hover {\n",
              "    background-color: var(--disabled-bg-color);\n",
              "    fill: var(--disabled-fill-color);\n",
              "    box-shadow: none;\n",
              "  }\n",
              "\n",
              "  .colab-df-spinner {\n",
              "    border: 2px solid var(--fill-color);\n",
              "    border-color: transparent;\n",
              "    border-bottom-color: var(--fill-color);\n",
              "    animation:\n",
              "      spin 1s steps(1) infinite;\n",
              "  }\n",
              "\n",
              "  @keyframes spin {\n",
              "    0% {\n",
              "      border-color: transparent;\n",
              "      border-bottom-color: var(--fill-color);\n",
              "      border-left-color: var(--fill-color);\n",
              "    }\n",
              "    20% {\n",
              "      border-color: transparent;\n",
              "      border-left-color: var(--fill-color);\n",
              "      border-top-color: var(--fill-color);\n",
              "    }\n",
              "    30% {\n",
              "      border-color: transparent;\n",
              "      border-left-color: var(--fill-color);\n",
              "      border-top-color: var(--fill-color);\n",
              "      border-right-color: var(--fill-color);\n",
              "    }\n",
              "    40% {\n",
              "      border-color: transparent;\n",
              "      border-right-color: var(--fill-color);\n",
              "      border-top-color: var(--fill-color);\n",
              "    }\n",
              "    60% {\n",
              "      border-color: transparent;\n",
              "      border-right-color: var(--fill-color);\n",
              "    }\n",
              "    80% {\n",
              "      border-color: transparent;\n",
              "      border-right-color: var(--fill-color);\n",
              "      border-bottom-color: var(--fill-color);\n",
              "    }\n",
              "    90% {\n",
              "      border-color: transparent;\n",
              "      border-bottom-color: var(--fill-color);\n",
              "    }\n",
              "  }\n",
              "</style>\n",
              "\n",
              "  <script>\n",
              "    async function quickchart(key) {\n",
              "      const quickchartButtonEl =\n",
              "        document.querySelector('#' + key + ' button');\n",
              "      quickchartButtonEl.disabled = true;  // To prevent multiple clicks.\n",
              "      quickchartButtonEl.classList.add('colab-df-spinner');\n",
              "      try {\n",
              "        const charts = await google.colab.kernel.invokeFunction(\n",
              "            'suggestCharts', [key], {});\n",
              "      } catch (error) {\n",
              "        console.error('Error during call to suggestCharts:', error);\n",
              "      }\n",
              "      quickchartButtonEl.classList.remove('colab-df-spinner');\n",
              "      quickchartButtonEl.classList.add('colab-df-quickchart-complete');\n",
              "    }\n",
              "    (() => {\n",
              "      let quickchartButtonEl =\n",
              "        document.querySelector('#df-35d4f80a-064c-4f01-99c8-ce1c10314c2c button');\n",
              "      quickchartButtonEl.style.display =\n",
              "        google.colab.kernel.accessAllowed ? 'block' : 'none';\n",
              "    })();\n",
              "  </script>\n",
              "</div>\n",
              "    </div>\n",
              "  </div>\n"
            ]
          },
          "metadata": {},
          "execution_count": 182
        }
      ]
    },
    {
      "cell_type": "code",
      "source": [
        "Net_TiVA_Kor = DVA_Kor.sum() - FVA_Kor.sum()  # 한국의 Net_TiVA\n",
        "Net_TiVA_Kor"
      ],
      "metadata": {
        "id": "dMB0JC6meNu_",
        "outputId": "88986a5b-08e6-4892-fa14-89b66ab000cc",
        "colab": {
          "base_uri": "https://localhost:8080/"
        }
      },
      "execution_count": null,
      "outputs": [
        {
          "output_type": "execute_result",
          "data": {
            "text/plain": [
              "716.8694467077912"
            ]
          },
          "metadata": {},
          "execution_count": 104
        }
      ]
    },
    {
      "cell_type": "markdown",
      "source": [
        "#### 한국의 DVA와 FVA를 산업별로 구하고 산업별 Net_TiVA 구하기"
      ],
      "metadata": {
        "id": "ksPAUCwHhv5T"
      }
    },
    {
      "cell_type": "code",
      "source": [
        "Fd_k = Fd[:,0] # 한국의 한국산에 대한 최종수요\n",
        "Fd_non_k = Fd[:,1:].sum(axis=1) # 한국의 수입품에 대한 최종수요\n",
        "Fd_non_k\n",
        "# Fd_k"
      ],
      "metadata": {
        "id": "BCfd4DFUnGXm",
        "outputId": "31e5638e-4889-4e2b-c96d-3b719ce1911d",
        "colab": {
          "base_uri": "https://localhost:8080/"
        }
      },
      "execution_count": null,
      "outputs": [
        {
          "output_type": "execute_result",
          "data": {
            "text/plain": [
              "array([     4.,   2040.,    497.,   5581.,  41572.,  91472.,   1212.,\n",
              "        30042., 171655.,  16685., 104111., 348936.])"
            ]
          },
          "metadata": {},
          "execution_count": 165
        }
      ]
    },
    {
      "cell_type": "code",
      "source": [
        "Fd_c = Fd[:,1] # 한국의 한국산에 대한 최종수요"
      ],
      "metadata": {
        "id": "U7P-bJNOwV60"
      },
      "execution_count": null,
      "outputs": []
    },
    {
      "cell_type": "code",
      "source": [
        "FVA_by_ind = Lv@np.diagflat(Fd_c)\n",
        "FVA_by_ind"
      ],
      "metadata": {
        "id": "fFB4XJPynGdM",
        "outputId": "e50cee8d-ea31-417d-8e4f-bd00d7553d03",
        "colab": {
          "base_uri": "https://localhost:8080/"
        }
      },
      "execution_count": null,
      "outputs": [
        {
          "output_type": "execute_result",
          "data": {
            "text/plain": [
              "array([[    0.554,     6.111,     0.8  ,     0.837,     9.425,    11.598,\n",
              "            0.001,     0.037,     0.017,     0.014,     0.33 ,     0.143],\n",
              "       [    0.1  ,   171.045,     9.459,    22.465,   255.348,   309.737,\n",
              "            0.033,     0.802,     0.381,     0.281,     8.473,     3.562],\n",
              "       [    0.149,    69.469,    93.335,    14.901,   154.065,   218.543,\n",
              "            0.018,     0.464,     0.284,     0.18 ,     5.182,     3.056],\n",
              "       [    0.002,     1.852,     0.249,  3194.777,  2247.794,  2386.288,\n",
              "            0.037,     0.602,     0.346,     0.194,     5.374,     2.6  ],\n",
              "       [    0.015,    11.974,     1.606,   832.181, 15580.748, 12279.498,\n",
              "            0.164,     3.803,     2.261,     1.041,    34.023,    16.754],\n",
              "       [    0.01 ,     7.66 ,     1.34 ,   900.147,  7244.454, 64334.547,\n",
              "            0.104,     2.332,     1.552,     0.706,    21.835,    13.455],\n",
              "       [    0.002,     0.553,     0.074,     4.923,    22.374,    26.318,\n",
              "           13.482,     6.834,     1.284,     0.164,     2.22 ,     0.804],\n",
              "       [    0.009,     5.907,     0.861,    19.052,   193.393,   250.738,\n",
              "            2.792,   171.527,    24.214,     0.857,    25.787,    11.717],\n",
              "       [    0.015,     8.213,     1.705,    32.053,   273.857,   451.439,\n",
              "            7.678,    89.567,   548.773,     1.545,    39.813,    32.957],\n",
              "       [    0.008,     5.15 ,     0.679,    54.27 ,   308.251,   360.862,\n",
              "            0.444,     3.224,     1.216,   120.803,   110.493,    33.142],\n",
              "       [    0.051,    45.222,     5.789,   174.414,  2037.466,  2511.739,\n",
              "            0.823,    20.428,     8.599,    14.852,  1175.567,   199.781],\n",
              "       [    0.048,    35.436,     6.35 ,   172.113,  1677.692,  2515.218,\n",
              "            0.902,    17.159,    11.684,    29.066,   600.308,  2379.694]])"
            ]
          },
          "metadata": {},
          "execution_count": 170
        }
      ]
    },
    {
      "cell_type": "code",
      "source": [
        "zzz=pd.DataFrame(FVA_by_ind)\n",
        "zzz.to_csv('zzz.csv')"
      ],
      "metadata": {
        "id": "FrSaDv4enGiR"
      },
      "execution_count": null,
      "outputs": []
    },
    {
      "cell_type": "code",
      "source": [
        "kk"
      ],
      "metadata": {
        "id": "bCp4G5jRnGnd",
        "outputId": "144c82cc-908e-415e-8f04-3228d3ab1bc7",
        "colab": {
          "base_uri": "https://localhost:8080/"
        }
      },
      "execution_count": null,
      "outputs": [
        {
          "output_type": "execute_result",
          "data": {
            "text/plain": [
              "array([152.])"
            ]
          },
          "metadata": {},
          "execution_count": 152
        }
      ]
    },
    {
      "cell_type": "code",
      "source": [],
      "metadata": {
        "id": "oqdAgX23nGuq"
      },
      "execution_count": null,
      "outputs": []
    },
    {
      "cell_type": "code",
      "source": [],
      "metadata": {
        "id": "ods5Q3uGnGzW"
      },
      "execution_count": null,
      "outputs": []
    },
    {
      "cell_type": "code",
      "source": [
        "Fd_Kor_mat=np.diag(Fd[:,0])\n",
        "Fd_Kor_mat[]"
      ],
      "metadata": {
        "id": "TKLr-rs6eNxG",
        "outputId": "b1ed8611-e0c1-4f58-a4d1-d15de3280e23",
        "colab": {
          "base_uri": "https://localhost:8080/"
        }
      },
      "execution_count": null,
      "outputs": [
        {
          "output_type": "execute_result",
          "data": {
            "text/plain": [
              "array([[  152.,     0.,     0.,     0.,     0.,     0.,     0.,     0.,\n",
              "            0.,     0.,     0.,     0.],\n",
              "       [    0.,  2458.,     0.,     0.,     0.,     0.,     0.,     0.,\n",
              "            0.,     0.,     0.,     0.],\n",
              "       [    0.,     0., 11611.,     0.,     0.,     0.,     0.,     0.,\n",
              "            0.,     0.,     0.,     0.],\n",
              "       [    0.,     0.,     0.,     3.,     0.,     0.,     0.,     0.,\n",
              "            0.,     0.,     0.,     0.],\n",
              "       [    0.,     0.,     0.,     0.,   233.,     0.,     0.,     0.,\n",
              "            0.,     0.,     0.,     0.],\n",
              "       [    0.,     0.,     0.,     0.,     0.,   122.,     0.,     0.,\n",
              "            0.,     0.,     0.,     0.],\n",
              "       [    0.,     0.,     0.,     0.,     0.,     0.,     7.,     0.,\n",
              "            0.,     0.,     0.,     0.],\n",
              "       [    0.,     0.,     0.,     0.,     0.,     0.,     0.,   115.,\n",
              "            0.,     0.,     0.,     0.],\n",
              "       [    0.,     0.,     0.,     0.,     0.,     0.,     0.,     0.,\n",
              "          169.,     0.,     0.,     0.],\n",
              "       [    0.,     0.,     0.,     0.,     0.,     0.,     0.,     0.,\n",
              "            0.,    16.,     0.,     0.],\n",
              "       [    0.,     0.,     0.,     0.,     0.,     0.,     0.,     0.,\n",
              "            0.,     0.,   545.,     0.],\n",
              "       [    0.,     0.,     0.,     0.,     0.,     0.,     0.,     0.,\n",
              "            0.,     0.,     0.,   373.]])"
            ]
          },
          "metadata": {},
          "execution_count": 108
        }
      ]
    },
    {
      "cell_type": "code",
      "source": [
        "FVA_Kor_mat = Lv@Fd_Kor_mat\n",
        "FVA_Kor_mat"
      ],
      "metadata": {
        "id": "g9egKupGeNz1",
        "outputId": "b1f2322a-c6c0-4960-c944-717bd6401fed",
        "colab": {
          "base_uri": "https://localhost:8080/"
        }
      },
      "execution_count": null,
      "outputs": [
        {
          "output_type": "execute_result",
          "data": {
            "text/plain": [
              "array([[  84.269,   38.418,   72.605,    0.   ,    0.068,    0.016,\n",
              "           0.   ,    0.013,    0.005,    0.001,    0.084,    0.019],\n",
              "       [  15.16 , 1075.262,  858.037,    0.012,    1.847,    0.422,\n",
              "           0.009,    0.282,    0.106,    0.026,    2.147,    0.475],\n",
              "       [  22.681,  436.712, 8466.538,    0.008,    1.115,    0.298,\n",
              "           0.005,    0.163,    0.079,    0.016,    1.313,    0.407],\n",
              "       [   0.352,   11.644,   22.629,    1.74 ,   16.262,    3.248,\n",
              "           0.01 ,    0.212,    0.096,    0.018,    1.362,    0.346],\n",
              "       [   2.323,   75.275,  145.687,    0.453,  112.722,   16.716,\n",
              "           0.042,    1.337,    0.626,    0.095,    8.62 ,    2.232],\n",
              "       [   1.557,   48.152,  121.543,    0.49 ,   52.411,   87.58 ,\n",
              "           0.027,    0.82 ,    0.43 ,    0.065,    5.532,    1.792],\n",
              "       [   0.228,    3.479,    6.676,    0.003,    0.162,    0.036,\n",
              "           3.495,    2.403,    0.356,    0.015,    0.563,    0.107],\n",
              "       [   1.349,   37.131,   78.088,    0.01 ,    1.399,    0.341,\n",
              "           0.724,   60.323,    6.708,    0.078,    6.534,    1.561],\n",
              "       [   2.228,   51.629,  154.657,    0.017,    1.981,    0.615,\n",
              "           1.991,   31.499,  152.037,    0.141,   10.088,    4.39 ],\n",
              "       [   1.228,   32.375,   61.623,    0.03 ,    2.23 ,    0.491,\n",
              "           0.115,    1.134,    0.337,   11.045,   27.996,    4.415],\n",
              "       [   7.744,  284.283,  525.169,    0.095,   14.74 ,    3.419,\n",
              "           0.213,    7.184,    2.382,    1.358,  297.854,   26.614],\n",
              "       [   7.276,  222.768,  575.978,    0.094,   12.138,    3.424,\n",
              "           0.234,    6.035,    3.237,    2.657,  152.1  ,  317.009]])"
            ]
          },
          "metadata": {},
          "execution_count": 110
        }
      ]
    },
    {
      "cell_type": "code",
      "source": [
        "tt = pd.DataFrame(DFVA)"
      ],
      "metadata": {
        "id": "OiEf0-PZkpMK"
      },
      "execution_count": null,
      "outputs": []
    },
    {
      "cell_type": "code",
      "source": [
        "tt.to_csv('확인.csv')"
      ],
      "metadata": {
        "id": "v-WxIOa7kpXL"
      },
      "execution_count": null,
      "outputs": []
    },
    {
      "cell_type": "code",
      "source": [
        "print(FVA.sum)"
      ],
      "metadata": {
        "id": "34cSqFxikpdP",
        "outputId": "c8d22f55-5156-491b-8919-baac93c9410f",
        "colab": {
          "base_uri": "https://localhost:8080/",
          "height": 178
        }
      },
      "execution_count": null,
      "outputs": [
        {
          "output_type": "error",
          "ename": "NameError",
          "evalue": "ignored",
          "traceback": [
            "\u001b[0;31m---------------------------------------------------------------------------\u001b[0m",
            "\u001b[0;31mNameError\u001b[0m                                 Traceback (most recent call last)",
            "\u001b[0;32m<ipython-input-115-afd1d5a8622e>\u001b[0m in \u001b[0;36m<cell line: 1>\u001b[0;34m()\u001b[0m\n\u001b[0;32m----> 1\u001b[0;31m \u001b[0mprint\u001b[0m\u001b[0;34m(\u001b[0m\u001b[0mFVA\u001b[0m\u001b[0;34m.\u001b[0m\u001b[0msum\u001b[0m\u001b[0;34m)\u001b[0m\u001b[0;34m\u001b[0m\u001b[0;34m\u001b[0m\u001b[0m\n\u001b[0m",
            "\u001b[0;31mNameError\u001b[0m: name 'FVA' is not defined"
          ]
        }
      ]
    },
    {
      "cell_type": "markdown",
      "source": [
        "## DVA(Domestic Value-added) and FVA(Foreign Value-added)"
      ],
      "metadata": {
        "id": "b6Elv3lpWOtv"
      }
    },
    {
      "cell_type": "code",
      "source": [
        "Fd = icio_2[0:12,12:16]\n",
        "Fd"
      ],
      "metadata": {
        "id": "s--WdyzwRO6x",
        "outputId": "ba98f2dd-4f69-4e95-a187-15e0a3b33ac2",
        "colab": {
          "base_uri": "https://localhost:8080/"
        }
      },
      "execution_count": null,
      "outputs": [
        {
          "output_type": "execute_result",
          "data": {
            "text/plain": [
              "array([[   152.,      1.,      1.,      2.],\n",
              "       [  2458.,    391.,    355.,   1294.],\n",
              "       [ 11611.,    128.,     82.,    287.],\n",
              "       [     3.,   5509.,      5.,     67.],\n",
              "       [   233.,  32206.,   2370.,   6996.],\n",
              "       [   122.,  89619.,    398.,   1455.],\n",
              "       [     7.,     27.,   1022.,    163.],\n",
              "       [   115.,    327.,  25747.,   3968.],\n",
              "       [   169.,    610., 166837.,   4208.],\n",
              "       [    16.,    175.,    136.,  16374.],\n",
              "       [   545.,   2151.,   7265.,  94695.],\n",
              "       [   373.,   2800.,   4089., 342047.]])"
            ]
          },
          "metadata": {},
          "execution_count": 103
        }
      ]
    },
    {
      "cell_type": "code",
      "source": [
        "DFVA = Lv@Fd\n",
        "DFVA"
      ],
      "metadata": {
        "id": "jO-4MSQNWi4E",
        "outputId": "546871ae-d0f0-44a9-d392-2ad2c1eb241a",
        "colab": {
          "base_uri": "https://localhost:8080/"
        }
      },
      "execution_count": null,
      "outputs": [
        {
          "output_type": "execute_result",
          "data": {
            "text/plain": [
              "array([[   195.498,     29.869,     16.384,     59.249],\n",
              "       [  1953.784,    781.686,    384.271,   1495.26 ],\n",
              "       [  8929.334,    559.647,    272.281,   1102.737],\n",
              "       [    57.918,   7840.114,    346.187,   1154.78 ],\n",
              "       [   366.13 ,  28764.068,   2277.924,   7341.878],\n",
              "       [   320.398,  72528.142,   1533.344,   5368.115],\n",
              "       [    17.523,     79.031,   1410.714,    391.732],\n",
              "       [   194.247,    706.854,  20359.97 ,   4979.929],\n",
              "       [   411.274,   1487.615, 157648.784,  10940.327],\n",
              "       [   143.019,    998.543,   1148.236,  20358.202],\n",
              "       [  1171.055,   6194.73 ,   8471.251,  78507.964],\n",
              "       [  1302.95 ,   7445.669,  10277.255, 320683.126]])"
            ]
          },
          "metadata": {},
          "execution_count": 104
        }
      ]
    },
    {
      "cell_type": "code",
      "source": [
        "DFVA_df = pd.DataFrame(DFVA, columns = ['한국', '중국', '미국', 'ROW'],\n",
        "\n",
        "                                    index=[['한국', '한국', '한국', '중국', '중국', '중국','미국', '미국', '미국','ROW', 'ROW', 'ROW'],\n",
        "                                           ['농산품', '공산품', '서비스', '농산품', '공산품', '서비스','농산품', '공산품', '서비스','농산품', '공산품', '서비스']])\n",
        "DFVA_df.index.names=['국가', '상품']\n",
        "DFVA_df"
      ],
      "metadata": {
        "id": "xztncYD2RO-F",
        "outputId": "3e376a7d-1ddd-42e8-ee1d-b2b7fd68089a",
        "colab": {
          "base_uri": "https://localhost:8080/",
          "height": 457
        }
      },
      "execution_count": null,
      "outputs": [
        {
          "output_type": "execute_result",
          "data": {
            "text/plain": [
              "                  한국            중국             미국            ROW\n",
              "국가  상품                                                          \n",
              "한국  농산품   195.498191     29.868522      16.384020      59.249267\n",
              "    공산품  1953.783711    781.685953     384.270669    1495.259667\n",
              "    서비스  8929.334037    559.647294     272.281290    1102.737379\n",
              "중국  농산품    57.917822   7840.114419     346.187375    1154.780383\n",
              "    공산품   366.130195  28764.067952    2277.923697    7341.878156\n",
              "    서비스   320.398399  72528.142383    1533.343855    5368.115363\n",
              "미국  농산품    17.523373     79.030806    1410.714124     391.731697\n",
              "    공산품   194.247034    706.854240   20359.969912    4979.928814\n",
              "    서비스   411.273837   1487.615182  157648.784355   10940.326626\n",
              "ROW 농산품   143.019006    998.543047    1148.235880   20358.202067\n",
              "    공산품  1171.055170   6194.729710    8471.251115   78507.964006\n",
              "    서비스  1302.949779   7445.668921   10277.254924  320683.126376"
            ],
            "text/html": [
              "\n",
              "  <div id=\"df-f3149aa8-b29f-4486-b3a3-50551f18ef32\" class=\"colab-df-container\">\n",
              "    <div>\n",
              "<style scoped>\n",
              "    .dataframe tbody tr th:only-of-type {\n",
              "        vertical-align: middle;\n",
              "    }\n",
              "\n",
              "    .dataframe tbody tr th {\n",
              "        vertical-align: top;\n",
              "    }\n",
              "\n",
              "    .dataframe thead th {\n",
              "        text-align: right;\n",
              "    }\n",
              "</style>\n",
              "<table border=\"1\" class=\"dataframe\">\n",
              "  <thead>\n",
              "    <tr style=\"text-align: right;\">\n",
              "      <th></th>\n",
              "      <th></th>\n",
              "      <th>한국</th>\n",
              "      <th>중국</th>\n",
              "      <th>미국</th>\n",
              "      <th>ROW</th>\n",
              "    </tr>\n",
              "    <tr>\n",
              "      <th>국가</th>\n",
              "      <th>상품</th>\n",
              "      <th></th>\n",
              "      <th></th>\n",
              "      <th></th>\n",
              "      <th></th>\n",
              "    </tr>\n",
              "  </thead>\n",
              "  <tbody>\n",
              "    <tr>\n",
              "      <th rowspan=\"3\" valign=\"top\">한국</th>\n",
              "      <th>농산품</th>\n",
              "      <td>195.498191</td>\n",
              "      <td>29.868522</td>\n",
              "      <td>16.384020</td>\n",
              "      <td>59.249267</td>\n",
              "    </tr>\n",
              "    <tr>\n",
              "      <th>공산품</th>\n",
              "      <td>1953.783711</td>\n",
              "      <td>781.685953</td>\n",
              "      <td>384.270669</td>\n",
              "      <td>1495.259667</td>\n",
              "    </tr>\n",
              "    <tr>\n",
              "      <th>서비스</th>\n",
              "      <td>8929.334037</td>\n",
              "      <td>559.647294</td>\n",
              "      <td>272.281290</td>\n",
              "      <td>1102.737379</td>\n",
              "    </tr>\n",
              "    <tr>\n",
              "      <th rowspan=\"3\" valign=\"top\">중국</th>\n",
              "      <th>농산품</th>\n",
              "      <td>57.917822</td>\n",
              "      <td>7840.114419</td>\n",
              "      <td>346.187375</td>\n",
              "      <td>1154.780383</td>\n",
              "    </tr>\n",
              "    <tr>\n",
              "      <th>공산품</th>\n",
              "      <td>366.130195</td>\n",
              "      <td>28764.067952</td>\n",
              "      <td>2277.923697</td>\n",
              "      <td>7341.878156</td>\n",
              "    </tr>\n",
              "    <tr>\n",
              "      <th>서비스</th>\n",
              "      <td>320.398399</td>\n",
              "      <td>72528.142383</td>\n",
              "      <td>1533.343855</td>\n",
              "      <td>5368.115363</td>\n",
              "    </tr>\n",
              "    <tr>\n",
              "      <th rowspan=\"3\" valign=\"top\">미국</th>\n",
              "      <th>농산품</th>\n",
              "      <td>17.523373</td>\n",
              "      <td>79.030806</td>\n",
              "      <td>1410.714124</td>\n",
              "      <td>391.731697</td>\n",
              "    </tr>\n",
              "    <tr>\n",
              "      <th>공산품</th>\n",
              "      <td>194.247034</td>\n",
              "      <td>706.854240</td>\n",
              "      <td>20359.969912</td>\n",
              "      <td>4979.928814</td>\n",
              "    </tr>\n",
              "    <tr>\n",
              "      <th>서비스</th>\n",
              "      <td>411.273837</td>\n",
              "      <td>1487.615182</td>\n",
              "      <td>157648.784355</td>\n",
              "      <td>10940.326626</td>\n",
              "    </tr>\n",
              "    <tr>\n",
              "      <th rowspan=\"3\" valign=\"top\">ROW</th>\n",
              "      <th>농산품</th>\n",
              "      <td>143.019006</td>\n",
              "      <td>998.543047</td>\n",
              "      <td>1148.235880</td>\n",
              "      <td>20358.202067</td>\n",
              "    </tr>\n",
              "    <tr>\n",
              "      <th>공산품</th>\n",
              "      <td>1171.055170</td>\n",
              "      <td>6194.729710</td>\n",
              "      <td>8471.251115</td>\n",
              "      <td>78507.964006</td>\n",
              "    </tr>\n",
              "    <tr>\n",
              "      <th>서비스</th>\n",
              "      <td>1302.949779</td>\n",
              "      <td>7445.668921</td>\n",
              "      <td>10277.254924</td>\n",
              "      <td>320683.126376</td>\n",
              "    </tr>\n",
              "  </tbody>\n",
              "</table>\n",
              "</div>\n",
              "    <div class=\"colab-df-buttons\">\n",
              "\n",
              "  <div class=\"colab-df-container\">\n",
              "    <button class=\"colab-df-convert\" onclick=\"convertToInteractive('df-f3149aa8-b29f-4486-b3a3-50551f18ef32')\"\n",
              "            title=\"Convert this dataframe to an interactive table.\"\n",
              "            style=\"display:none;\">\n",
              "\n",
              "  <svg xmlns=\"http://www.w3.org/2000/svg\" height=\"24px\" viewBox=\"0 -960 960 960\">\n",
              "    <path d=\"M120-120v-720h720v720H120Zm60-500h600v-160H180v160Zm220 220h160v-160H400v160Zm0 220h160v-160H400v160ZM180-400h160v-160H180v160Zm440 0h160v-160H620v160ZM180-180h160v-160H180v160Zm440 0h160v-160H620v160Z\"/>\n",
              "  </svg>\n",
              "    </button>\n",
              "\n",
              "  <style>\n",
              "    .colab-df-container {\n",
              "      display:flex;\n",
              "      gap: 12px;\n",
              "    }\n",
              "\n",
              "    .colab-df-convert {\n",
              "      background-color: #E8F0FE;\n",
              "      border: none;\n",
              "      border-radius: 50%;\n",
              "      cursor: pointer;\n",
              "      display: none;\n",
              "      fill: #1967D2;\n",
              "      height: 32px;\n",
              "      padding: 0 0 0 0;\n",
              "      width: 32px;\n",
              "    }\n",
              "\n",
              "    .colab-df-convert:hover {\n",
              "      background-color: #E2EBFA;\n",
              "      box-shadow: 0px 1px 2px rgba(60, 64, 67, 0.3), 0px 1px 3px 1px rgba(60, 64, 67, 0.15);\n",
              "      fill: #174EA6;\n",
              "    }\n",
              "\n",
              "    .colab-df-buttons div {\n",
              "      margin-bottom: 4px;\n",
              "    }\n",
              "\n",
              "    [theme=dark] .colab-df-convert {\n",
              "      background-color: #3B4455;\n",
              "      fill: #D2E3FC;\n",
              "    }\n",
              "\n",
              "    [theme=dark] .colab-df-convert:hover {\n",
              "      background-color: #434B5C;\n",
              "      box-shadow: 0px 1px 3px 1px rgba(0, 0, 0, 0.15);\n",
              "      filter: drop-shadow(0px 1px 2px rgba(0, 0, 0, 0.3));\n",
              "      fill: #FFFFFF;\n",
              "    }\n",
              "  </style>\n",
              "\n",
              "    <script>\n",
              "      const buttonEl =\n",
              "        document.querySelector('#df-f3149aa8-b29f-4486-b3a3-50551f18ef32 button.colab-df-convert');\n",
              "      buttonEl.style.display =\n",
              "        google.colab.kernel.accessAllowed ? 'block' : 'none';\n",
              "\n",
              "      async function convertToInteractive(key) {\n",
              "        const element = document.querySelector('#df-f3149aa8-b29f-4486-b3a3-50551f18ef32');\n",
              "        const dataTable =\n",
              "          await google.colab.kernel.invokeFunction('convertToInteractive',\n",
              "                                                    [key], {});\n",
              "        if (!dataTable) return;\n",
              "\n",
              "        const docLinkHtml = 'Like what you see? Visit the ' +\n",
              "          '<a target=\"_blank\" href=https://colab.research.google.com/notebooks/data_table.ipynb>data table notebook</a>'\n",
              "          + ' to learn more about interactive tables.';\n",
              "        element.innerHTML = '';\n",
              "        dataTable['output_type'] = 'display_data';\n",
              "        await google.colab.output.renderOutput(dataTable, element);\n",
              "        const docLink = document.createElement('div');\n",
              "        docLink.innerHTML = docLinkHtml;\n",
              "        element.appendChild(docLink);\n",
              "      }\n",
              "    </script>\n",
              "  </div>\n",
              "\n",
              "\n",
              "<div id=\"df-79f49b8c-dd21-4670-866a-f896c410a1b9\">\n",
              "  <button class=\"colab-df-quickchart\" onclick=\"quickchart('df-79f49b8c-dd21-4670-866a-f896c410a1b9')\"\n",
              "            title=\"Suggest charts.\"\n",
              "            style=\"display:none;\">\n",
              "\n",
              "<svg xmlns=\"http://www.w3.org/2000/svg\" height=\"24px\"viewBox=\"0 0 24 24\"\n",
              "     width=\"24px\">\n",
              "    <g>\n",
              "        <path d=\"M19 3H5c-1.1 0-2 .9-2 2v14c0 1.1.9 2 2 2h14c1.1 0 2-.9 2-2V5c0-1.1-.9-2-2-2zM9 17H7v-7h2v7zm4 0h-2V7h2v10zm4 0h-2v-4h2v4z\"/>\n",
              "    </g>\n",
              "</svg>\n",
              "  </button>\n",
              "\n",
              "<style>\n",
              "  .colab-df-quickchart {\n",
              "      --bg-color: #E8F0FE;\n",
              "      --fill-color: #1967D2;\n",
              "      --hover-bg-color: #E2EBFA;\n",
              "      --hover-fill-color: #174EA6;\n",
              "      --disabled-fill-color: #AAA;\n",
              "      --disabled-bg-color: #DDD;\n",
              "  }\n",
              "\n",
              "  [theme=dark] .colab-df-quickchart {\n",
              "      --bg-color: #3B4455;\n",
              "      --fill-color: #D2E3FC;\n",
              "      --hover-bg-color: #434B5C;\n",
              "      --hover-fill-color: #FFFFFF;\n",
              "      --disabled-bg-color: #3B4455;\n",
              "      --disabled-fill-color: #666;\n",
              "  }\n",
              "\n",
              "  .colab-df-quickchart {\n",
              "    background-color: var(--bg-color);\n",
              "    border: none;\n",
              "    border-radius: 50%;\n",
              "    cursor: pointer;\n",
              "    display: none;\n",
              "    fill: var(--fill-color);\n",
              "    height: 32px;\n",
              "    padding: 0;\n",
              "    width: 32px;\n",
              "  }\n",
              "\n",
              "  .colab-df-quickchart:hover {\n",
              "    background-color: var(--hover-bg-color);\n",
              "    box-shadow: 0 1px 2px rgba(60, 64, 67, 0.3), 0 1px 3px 1px rgba(60, 64, 67, 0.15);\n",
              "    fill: var(--button-hover-fill-color);\n",
              "  }\n",
              "\n",
              "  .colab-df-quickchart-complete:disabled,\n",
              "  .colab-df-quickchart-complete:disabled:hover {\n",
              "    background-color: var(--disabled-bg-color);\n",
              "    fill: var(--disabled-fill-color);\n",
              "    box-shadow: none;\n",
              "  }\n",
              "\n",
              "  .colab-df-spinner {\n",
              "    border: 2px solid var(--fill-color);\n",
              "    border-color: transparent;\n",
              "    border-bottom-color: var(--fill-color);\n",
              "    animation:\n",
              "      spin 1s steps(1) infinite;\n",
              "  }\n",
              "\n",
              "  @keyframes spin {\n",
              "    0% {\n",
              "      border-color: transparent;\n",
              "      border-bottom-color: var(--fill-color);\n",
              "      border-left-color: var(--fill-color);\n",
              "    }\n",
              "    20% {\n",
              "      border-color: transparent;\n",
              "      border-left-color: var(--fill-color);\n",
              "      border-top-color: var(--fill-color);\n",
              "    }\n",
              "    30% {\n",
              "      border-color: transparent;\n",
              "      border-left-color: var(--fill-color);\n",
              "      border-top-color: var(--fill-color);\n",
              "      border-right-color: var(--fill-color);\n",
              "    }\n",
              "    40% {\n",
              "      border-color: transparent;\n",
              "      border-right-color: var(--fill-color);\n",
              "      border-top-color: var(--fill-color);\n",
              "    }\n",
              "    60% {\n",
              "      border-color: transparent;\n",
              "      border-right-color: var(--fill-color);\n",
              "    }\n",
              "    80% {\n",
              "      border-color: transparent;\n",
              "      border-right-color: var(--fill-color);\n",
              "      border-bottom-color: var(--fill-color);\n",
              "    }\n",
              "    90% {\n",
              "      border-color: transparent;\n",
              "      border-bottom-color: var(--fill-color);\n",
              "    }\n",
              "  }\n",
              "</style>\n",
              "\n",
              "  <script>\n",
              "    async function quickchart(key) {\n",
              "      const quickchartButtonEl =\n",
              "        document.querySelector('#' + key + ' button');\n",
              "      quickchartButtonEl.disabled = true;  // To prevent multiple clicks.\n",
              "      quickchartButtonEl.classList.add('colab-df-spinner');\n",
              "      try {\n",
              "        const charts = await google.colab.kernel.invokeFunction(\n",
              "            'suggestCharts', [key], {});\n",
              "      } catch (error) {\n",
              "        console.error('Error during call to suggestCharts:', error);\n",
              "      }\n",
              "      quickchartButtonEl.classList.remove('colab-df-spinner');\n",
              "      quickchartButtonEl.classList.add('colab-df-quickchart-complete');\n",
              "    }\n",
              "    (() => {\n",
              "      let quickchartButtonEl =\n",
              "        document.querySelector('#df-79f49b8c-dd21-4670-866a-f896c410a1b9 button');\n",
              "      quickchartButtonEl.style.display =\n",
              "        google.colab.kernel.accessAllowed ? 'block' : 'none';\n",
              "    })();\n",
              "  </script>\n",
              "</div>\n",
              "    </div>\n",
              "  </div>\n"
            ]
          },
          "metadata": {},
          "execution_count": 105
        }
      ]
    },
    {
      "cell_type": "code",
      "source": [
        "DFVA_df.to_csv('DFVA.csv', encoding=\"utf-8-sig\")"
      ],
      "metadata": {
        "id": "9f3YD1UARPBK"
      },
      "execution_count": null,
      "outputs": []
    },
    {
      "cell_type": "code",
      "source": [],
      "metadata": {
        "id": "isewe_RWRPF1"
      },
      "execution_count": null,
      "outputs": []
    },
    {
      "cell_type": "code",
      "source": [],
      "metadata": {
        "id": "R34btNm5RPIt"
      },
      "execution_count": null,
      "outputs": []
    },
    {
      "cell_type": "code",
      "source": [
        "import scipy.linalg as linalg"
      ],
      "metadata": {
        "id": "TUvDa4AyNgrR"
      },
      "execution_count": 90,
      "outputs": []
    },
    {
      "cell_type": "code",
      "source": [
        "A = icio_2[:12,:12].astype(float)\n",
        "A"
      ],
      "metadata": {
        "id": "05IaLCi3PXVU",
        "outputId": "bbc05a8d-ccab-4f53-c832-caaf923b3597",
        "colab": {
          "base_uri": "https://localhost:8080/"
        }
      },
      "execution_count": 91,
      "outputs": [
        {
          "output_type": "execute_result",
          "data": {
            "text/plain": [
              "array([[    25.,    282.,    102.,      0.,      0.,      0.,      0.,\n",
              "             2.,      1.,      1.,      2.,      1.],\n",
              "       [   110.,   5596.,   2593.,     50.,   1246.,    295.,      4.,\n",
              "           193.,    136.,     61.,   1301.,    602.],\n",
              "       [    85.,   2633.,   5421.,     11.,    139.,     99.,      0.,\n",
              "            17.,     42.,      8.,    144.,    270.],\n",
              "       [     0.,      4.,      1.,   4389.,   9691.,   1500.,      3.,\n",
              "             9.,      3.,     12.,     50.,     13.],\n",
              "       [     7.,    532.,    183.,   4571.,  80946.,  34018.,     18.,\n",
              "           881.,    948.,    181.,   4780.,   2978.],\n",
              "       [     1.,     60.,     84.,   2400.,  26110.,  34909.,      2.,\n",
              "            86.,    183.,     27.,    553.,   1042.],\n",
              "       [     1.,     13.,      4.,     20.,     47.,      8.,    830.,\n",
              "          2088.,    200.,     43.,    164.,     29.],\n",
              "       [     4.,    217.,     93.,     30.,    574.,    168.,    677.,\n",
              "         16658.,  14548.,    148.,   3356.,   1740.],\n",
              "       [     3.,     95.,    118.,     27.,    242.,    234.,   1003.,\n",
              "         14951.,  91821.,    107.,   1748.,   3755.],\n",
              "       [     2.,     25.,     10.,    139.,    312.,     42.,     71.,\n",
              "           233.,     77.,   5052.,  12511.,   3110.],\n",
              "       [    18.,   1965.,    637.,    269.,   8032.,   1982.,     91.,\n",
              "          5096.,   2851.,   4449.,  91300.,  53282.],\n",
              "       [     7.,    312.,    392.,    136.,   1471.,   1181.,     41.,\n",
              "           976.,   2436.,   5001.,  57042., 174441.]])"
            ]
          },
          "metadata": {},
          "execution_count": 91
        }
      ]
    },
    {
      "cell_type": "code",
      "source": [
        "FD = icio_2[0:12,12:16]\n",
        "FD"
      ],
      "metadata": {
        "id": "4OsGzqPIQ5i6",
        "outputId": "35623f4f-7d3b-42e0-a474-2e05c6008f6f",
        "colab": {
          "base_uri": "https://localhost:8080/"
        }
      },
      "execution_count": 92,
      "outputs": [
        {
          "output_type": "execute_result",
          "data": {
            "text/plain": [
              "array([[   152.,      1.,      1.,      2.],\n",
              "       [  2458.,    391.,    355.,   1294.],\n",
              "       [ 11611.,    128.,     82.,    287.],\n",
              "       [     3.,   5509.,      5.,     67.],\n",
              "       [   233.,  32206.,   2370.,   6996.],\n",
              "       [   122.,  89619.,    398.,   1455.],\n",
              "       [     7.,     27.,   1022.,    163.],\n",
              "       [   115.,    327.,  25747.,   3968.],\n",
              "       [   169.,    610., 166837.,   4208.],\n",
              "       [    16.,    175.,    136.,  16374.],\n",
              "       [   545.,   2151.,   7265.,  94695.],\n",
              "       [   373.,   2800.,   4089., 342047.]])"
            ]
          },
          "metadata": {},
          "execution_count": 92
        }
      ]
    },
    {
      "cell_type": "code",
      "source": [
        "mtx_for_int= linalg.block_diag(np.ones((3,3)),np.ones((3,3)),np.ones((3,3)),np.ones((3,3)))\n",
        "mtx_for_tra=np.where(mtx_for_int == 1, 0, 1)\n",
        "\n",
        "mtx_for_fnl= linalg.block_diag(np.ones((3,1)),np.ones((3,1)),np.ones((3,1)),np.ones((3,1)))\n",
        "mtx_for_fnl_tra=np.where(mtx_for_fnl == 1, 0, 1)\n",
        "\n",
        "INT = icio_2[0:12,0:12].astype(float)\n",
        "\n",
        "EXIM_INT_mt = (INT*mtx_for_tra).reshape([12,12])  # 중간재 수출입\n",
        "EXGR_INT = EXIM_INT_mt.sum(axis=1).reshape([12,1])\n",
        "\n",
        "FD = icio_2[0:12,12:16].astype(float)\n",
        "\n",
        "EXIM_FNL_mt = (FD*mtx_for_fnl_tra).reshape([12,4])  # 최종재 수출입\n",
        "EXGR_FNL = EXIM_FNL_mt.sum(axis=1).reshape([12,1])\n",
        "\n",
        "# EXGR =EXGR_INT + EXGR_FNL  # 총수출입\n",
        "\n",
        "Ex_all = np.concatenate((EXGR, EXGR_INT, EXGR_FNL),axis=1)\n",
        "\n",
        "\n",
        "EXIM_INT_df = pd.DataFrame(EXIM_INT_mt, columns = [['한국','한국', '한국','중국','중국','중국','미국','미국','미국','ROW','ROW','ROW'],\n",
        "                          ['농산품','공산품', '서비스','농산품','공산품', '서비스','농산품','공산품', '서비스','농산품','공산품', '서비스']],\n",
        "\n",
        "                         index=[['한국','한국', '한국','중국','중국','중국','미국','미국','미국','ROW','ROW','ROW'],\n",
        "                          ['농산품','공산품', '서비스','농산품','공산품', '서비스','농산품','공산품', '서비스','농산품','공산품', '서비스']])\n",
        "\n",
        "# EXIM_FNL_df = pd.DataFrame(EXIM_FNL_mt, columns = [['한국','중국', '미국','ROW'],\n",
        "\n",
        "#                          index=[['한국','한국', '한국','중국','중국','중국','ROW','ROW','ROW'],\n",
        "#                           ['농산품','공산품', '서비스','농산품','공산품', '서비스','농산품','공산품', '서비스']])\n",
        "EXIM_INT_df\n",
        "FD\n",
        "\n",
        "# Ex_all_df = pd.DataFrame(Ex_all, columns = ['총수출', '중간재수출', '최종재수출'],\n",
        "#                          index=[['한국','한국', '한국','중국','중국','중국','ROW','ROW','ROW'],\n",
        "#                           ['농산품','공산품', '서비스','농산품','공산품', '서비스','농산품','공산품', '서비스']])\n",
        "# Ex_all_df\n",
        "# print('중간재 수출 : \\n', EXGR_INT, '\\n')\n",
        "# print('최종재 수출 : \\n', EXGR_FNL, '\\n')\n",
        "# print('총수출 : \\n', EXGR, '\\n')"
      ],
      "metadata": {
        "id": "M2e69LcT_59t",
        "outputId": "c1290dd8-3ec2-4424-b4eb-326fec2bce2c",
        "colab": {
          "base_uri": "https://localhost:8080/"
        }
      },
      "execution_count": 102,
      "outputs": [
        {
          "output_type": "execute_result",
          "data": {
            "text/plain": [
              "array([[   152.,      1.,      1.,      2.],\n",
              "       [  2458.,    391.,    355.,   1294.],\n",
              "       [ 11611.,    128.,     82.,    287.],\n",
              "       [     3.,   5509.,      5.,     67.],\n",
              "       [   233.,  32206.,   2370.,   6996.],\n",
              "       [   122.,  89619.,    398.,   1455.],\n",
              "       [     7.,     27.,   1022.,    163.],\n",
              "       [   115.,    327.,  25747.,   3968.],\n",
              "       [   169.,    610., 166837.,   4208.],\n",
              "       [    16.,    175.,    136.,  16374.],\n",
              "       [   545.,   2151.,   7265.,  94695.],\n",
              "       [   373.,   2800.,   4089., 342047.]])"
            ]
          },
          "metadata": {},
          "execution_count": 102
        }
      ]
    },
    {
      "cell_type": "code",
      "source": [
        "aa=EXIM_FNL_mt.sum(axis=1)\n",
        "aa\n",
        "EXGR"
      ],
      "metadata": {
        "id": "XMS99gh6fRx2",
        "outputId": "a0531e46-cdc7-460e-c082-e9edf4eae6b3",
        "colab": {
          "base_uri": "https://localhost:8080/"
        }
      },
      "execution_count": 99,
      "outputs": [
        {
          "output_type": "execute_result",
          "data": {
            "text/plain": [
              "array([[   11.],\n",
              "       [ 5928.],\n",
              "       [ 1227.],\n",
              "       [  170.],\n",
              "       [20107.],\n",
              "       [ 4013.],\n",
              "       [  526.],\n",
              "       [10740.],\n",
              "       [11316.],\n",
              "       [ 1238.],\n",
              "       [30902.],\n",
              "       [14214.]])"
            ]
          },
          "metadata": {},
          "execution_count": 99
        }
      ]
    },
    {
      "cell_type": "code",
      "source": [
        "EXIM_FNL_mt.shape"
      ],
      "metadata": {
        "id": "TY3iMvXwf71_",
        "outputId": "c71e4dd4-f62f-463e-958e-254084a789d3",
        "colab": {
          "base_uri": "https://localhost:8080/"
        }
      },
      "execution_count": 100,
      "outputs": [
        {
          "output_type": "execute_result",
          "data": {
            "text/plain": [
              "(12, 4)"
            ]
          },
          "metadata": {},
          "execution_count": 100
        }
      ]
    },
    {
      "cell_type": "code",
      "source": [
        "# 국가별 제품별 수출입\n",
        "# 중간재\n",
        "EXGR_INT = EXIM_INT_mt.sum(axis=1).reshape([12,1]) # 중간재 수출\n",
        "IMGR_INT = EXIM_INT_mt.sum(axis=0).reshape([12,1]) # 중간재 수입\n",
        "\n",
        "#최종재\n",
        "EXGR_FNL = EXIM_FNL_mt.sum(axis=1).reshape([12,1]) # 최종재 수출\n",
        "IMGR_FNL = EXIM_FNL_mt.sum(axis=0).reshape([4,1]) # 최종재 수입\n",
        "\n",
        "EXGR = EXIM.sum(axis=1).reshape([12,1])\n",
        "IMGR = EXIM.sum(axis=0).reshape([12,1])\n",
        "\n",
        "EXGR_IMGR_vec = np.hstack((EXGR_INT,EXGR_FNL,IMGR_INT,IMGR_FNL, EXGR, IMGR))\n",
        "EXGR_IMGR_vec\n",
        "\n",
        "EXGR_IMGR_vec_df = pd.DataFrame(EXGR_IMGR_vec, columns = ['EXGR_INT','EXGR_FNL', 'IMGR_INT','IMGR_FNL','EXGR','IMGR'],\n",
        "\n",
        "                         index=[['한국','한국', '한국','중국','중국','중국','미국','미국','미국','ROW','ROW','ROW'],\n",
        "                          ['농산품','공산품', '서비스','농산품','공산품', '서비스','농산품','공산품', '서비스','농산품','공산품', '서비스']])\n",
        "EXGR_IMGR_vec_df"
      ],
      "metadata": {
        "id": "IKoXonhrMx-p",
        "outputId": "ababfdc8-c780-4054-9595-7bef12b568cb",
        "colab": {
          "base_uri": "https://localhost:8080/",
          "height": 258
        }
      },
      "execution_count": 103,
      "outputs": [
        {
          "output_type": "error",
          "ename": "ValueError",
          "evalue": "ignored",
          "traceback": [
            "\u001b[0;31m---------------------------------------------------------------------------\u001b[0m",
            "\u001b[0;31mValueError\u001b[0m                                Traceback (most recent call last)",
            "\u001b[0;32m<ipython-input-103-8b1e139ea69e>\u001b[0m in \u001b[0;36m<cell line: 11>\u001b[0;34m()\u001b[0m\n\u001b[1;32m      9\u001b[0m \u001b[0;34m\u001b[0m\u001b[0m\n\u001b[1;32m     10\u001b[0m \u001b[0mEXGR\u001b[0m \u001b[0;34m=\u001b[0m \u001b[0mEXIM\u001b[0m\u001b[0;34m.\u001b[0m\u001b[0msum\u001b[0m\u001b[0;34m(\u001b[0m\u001b[0maxis\u001b[0m\u001b[0;34m=\u001b[0m\u001b[0;36m1\u001b[0m\u001b[0;34m)\u001b[0m\u001b[0;34m.\u001b[0m\u001b[0mreshape\u001b[0m\u001b[0;34m(\u001b[0m\u001b[0;34m[\u001b[0m\u001b[0;36m12\u001b[0m\u001b[0;34m,\u001b[0m\u001b[0;36m1\u001b[0m\u001b[0;34m]\u001b[0m\u001b[0;34m)\u001b[0m\u001b[0;34m\u001b[0m\u001b[0;34m\u001b[0m\u001b[0m\n\u001b[0;32m---> 11\u001b[0;31m \u001b[0mIMGR\u001b[0m \u001b[0;34m=\u001b[0m \u001b[0mEXIM\u001b[0m\u001b[0;34m.\u001b[0m\u001b[0msum\u001b[0m\u001b[0;34m(\u001b[0m\u001b[0maxis\u001b[0m\u001b[0;34m=\u001b[0m\u001b[0;36m0\u001b[0m\u001b[0;34m)\u001b[0m\u001b[0;34m.\u001b[0m\u001b[0mreshape\u001b[0m\u001b[0;34m(\u001b[0m\u001b[0;34m[\u001b[0m\u001b[0;36m12\u001b[0m\u001b[0;34m,\u001b[0m\u001b[0;36m1\u001b[0m\u001b[0;34m]\u001b[0m\u001b[0;34m)\u001b[0m\u001b[0;34m\u001b[0m\u001b[0;34m\u001b[0m\u001b[0m\n\u001b[0m\u001b[1;32m     12\u001b[0m \u001b[0;34m\u001b[0m\u001b[0m\n\u001b[1;32m     13\u001b[0m \u001b[0mEXGR_IMGR_vec\u001b[0m \u001b[0;34m=\u001b[0m \u001b[0mnp\u001b[0m\u001b[0;34m.\u001b[0m\u001b[0mhstack\u001b[0m\u001b[0;34m(\u001b[0m\u001b[0;34m(\u001b[0m\u001b[0mEXGR_INT\u001b[0m\u001b[0;34m,\u001b[0m\u001b[0mEXGR_FNL\u001b[0m\u001b[0;34m,\u001b[0m\u001b[0mIMGR_INT\u001b[0m\u001b[0;34m,\u001b[0m\u001b[0mIMGR_FNL\u001b[0m\u001b[0;34m,\u001b[0m \u001b[0mEXGR\u001b[0m\u001b[0;34m,\u001b[0m \u001b[0mIMGR\u001b[0m\u001b[0;34m)\u001b[0m\u001b[0;34m)\u001b[0m\u001b[0;34m\u001b[0m\u001b[0;34m\u001b[0m\u001b[0m\n",
            "\u001b[0;31mValueError\u001b[0m: cannot reshape array of size 1 into shape (12,1)"
          ]
        }
      ]
    },
    {
      "cell_type": "code",
      "source": [
        "# 경상수지 및 파트너 비중(산업을 나눌 필요가 없으므로 Trade_matrix를 국가별,전산업으로 변환)\n",
        "Mt_cd_all = np.array([[1,1,1,0,0,0,0,0,0],\n",
        "                     [0,0,0,1,1,1,0,0,0],\n",
        "                     [0,0,0,0,0,0,1,1,1]])\n",
        "trade_1sec = (Mt_cd_all@EXIM)@Mt_cd_all.T\n",
        "trade_1sec  # trade 매트릭스\n",
        "exp_1sec = trade_1sec.sum(axis=1).reshape([1,3])\n",
        "imp_1sec = trade_1sec.sum(axis=0).reshape([3,1])\n",
        "BALGR = (exp_1sec.T - imp_1sec).reshape([1,3]) #경상수지(Gross trade balance)\n",
        "\n",
        "BALGR_df = pd.DataFrame(BALGR, columns = ['한국','중국', 'ROW'],\n",
        "\n",
        "                         index=['BALGR'])\n",
        "\n",
        "exp_1sec_con = trade_1sec.reshape([3,3])/np.tile((exp_1sec.reshape([1,3]))[1,3])  #전산업, 국가별 수출 매트릭스\n",
        "\n",
        "exp_1sec_con"
      ],
      "metadata": {
        "id": "YK_ywHDWMyGB"
      },
      "execution_count": null,
      "outputs": []
    },
    {
      "cell_type": "code",
      "source": [
        "aa=np.tile(exp_1sec[1,3])"
      ],
      "metadata": {
        "id": "Ay85SS8Bjedm",
        "outputId": "6967fd79-baef-42a1-dc66-133d0b505613",
        "colab": {
          "base_uri": "https://localhost:8080/",
          "height": 178
        }
      },
      "execution_count": null,
      "outputs": [
        {
          "output_type": "error",
          "ename": "IndexError",
          "evalue": "ignored",
          "traceback": [
            "\u001b[0;31m---------------------------------------------------------------------------\u001b[0m",
            "\u001b[0;31mIndexError\u001b[0m                                Traceback (most recent call last)",
            "\u001b[0;32m<ipython-input-100-8d4a07ff0f8a>\u001b[0m in \u001b[0;36m<cell line: 1>\u001b[0;34m()\u001b[0m\n\u001b[0;32m----> 1\u001b[0;31m \u001b[0maa\u001b[0m\u001b[0;34m=\u001b[0m\u001b[0mnp\u001b[0m\u001b[0;34m.\u001b[0m\u001b[0mtile\u001b[0m\u001b[0;34m(\u001b[0m\u001b[0mexp_1sec\u001b[0m\u001b[0;34m[\u001b[0m\u001b[0;36m1\u001b[0m\u001b[0;34m,\u001b[0m\u001b[0;36m3\u001b[0m\u001b[0;34m]\u001b[0m\u001b[0;34m)\u001b[0m\u001b[0;34m\u001b[0m\u001b[0;34m\u001b[0m\u001b[0m\n\u001b[0m",
            "\u001b[0;31mIndexError\u001b[0m: index 1 is out of bounds for axis 0 with size 1"
          ]
        }
      ]
    },
    {
      "cell_type": "code",
      "source": [
        "exp_1sec"
      ],
      "metadata": {
        "id": "wzXa3ce1jjQK",
        "outputId": "737a2f5e-cca5-460a-b2da-33a34f884318",
        "colab": {
          "base_uri": "https://localhost:8080/"
        }
      },
      "execution_count": null,
      "outputs": [
        {
          "output_type": "execute_result",
          "data": {
            "text/plain": [
              "array([[ 5818., 24630., 24898.]])"
            ]
          },
          "metadata": {},
          "execution_count": 101
        }
      ]
    },
    {
      "cell_type": "code",
      "source": [
        "exp_1sec.shape"
      ],
      "metadata": {
        "id": "QRIBcBVojI1V",
        "outputId": "fee93cbe-7dc3-45ca-9a9e-63a836e246bd",
        "colab": {
          "base_uri": "https://localhost:8080/"
        }
      },
      "execution_count": null,
      "outputs": [
        {
          "output_type": "execute_result",
          "data": {
            "text/plain": [
              "(1, 3)"
            ]
          },
          "metadata": {},
          "execution_count": 94
        }
      ]
    },
    {
      "cell_type": "code",
      "source": [
        "\n",
        "# IMGR_INT_mt = (INT*mtx_for_tra).reshape([9,9])  # 중간재 수입\n",
        "# IMGR_INT = IMGR_INT_mt.sum(axis=0).reshape([1,9])\n",
        "\n",
        "# IMGR_FNL_mt = (FD*mtx_for_tra).reshape([9,9])  # 최종재 수입\n",
        "# IMGR_FNL = IMGR_FNL_mt.sum(axis=0).reshape([1,9])\n",
        "\n",
        "# IMGR = IMGR_INT + IMGR_FNL\n",
        "\n",
        "# print(IMGR_INT_mt)\n",
        "\n",
        "# Im_all = np.concatenate((IMGR, IMGR_INT, IMGR_FNL),axis=0).T\n",
        "\n",
        "# Im_all_df = pd.DataFrame(Im_all, columns = ['총수입', '중간재수입', '최종재수입'],\n",
        "#                          index=[['한국','한국', '한국','중국','중국','중국','ROW','ROW','ROW'],\n",
        "#                           ['농산품','공산품', '서비스','농산품','공산품', '서비스','농산품','공산품', '서비스']])\n",
        "# Im_all_df\n",
        "\n",
        "# # print('중간재 수입 : \\n', IMGR_INT.T, '\\n')\n",
        "# # print('최종재 수입 : \\n', IMGR_FNL.T, '\\n')\n",
        "# # print('총수입 : \\n', IMGR.T, '\\n')"
      ],
      "metadata": {
        "id": "grc1h7B3QUxI"
      },
      "execution_count": null,
      "outputs": []
    },
    {
      "cell_type": "code",
      "source": [
        "Mtx = np.zeros((18,3195)) # 부문통합을 위한 코드가 많을 경우 상기의 코드를 수작업으로 미리 하는 것이 쉽자 않으므로 반복문을 통해 3x33 임시코드 만들기\n",
        "cd_3 = cd_for_itr[:,1]\n",
        "cd_33 = cd_for_itr[:,0]\n",
        "row=cd_3\n",
        "col=cd_33\n",
        "for i, j in zip(row,col):\n",
        "  Mtx[i-1,j-1] = 1\n",
        "print(Mtx)"
      ],
      "metadata": {
        "id": "GdSKaueLdDOn",
        "outputId": "27dda8d5-8985-4561-806e-c80112c0939c",
        "colab": {
          "base_uri": "https://localhost:8080/"
        }
      },
      "execution_count": null,
      "outputs": [
        {
          "output_type": "stream",
          "name": "stdout",
          "text": [
            "[[0. 0. 0. ... 0. 0. 0.]\n",
            " [0. 0. 0. ... 0. 0. 0.]\n",
            " [0. 0. 0. ... 0. 0. 0.]\n",
            " ...\n",
            " [1. 1. 0. ... 0. 0. 0.]\n",
            " [0. 0. 1. ... 0. 0. 0.]\n",
            " [0. 0. 0. ... 0. 0. 0.]]\n"
          ]
        }
      ]
    },
    {
      "cell_type": "code",
      "source": [
        "code=Mtx\n",
        "code.shape"
      ],
      "metadata": {
        "id": "1gXI65U3K2hG",
        "outputId": "27fbb014-cc7e-422a-c4ca-2ae7389c6563",
        "colab": {
          "base_uri": "https://localhost:8080/"
        }
      },
      "execution_count": null,
      "outputs": [
        {
          "output_type": "execute_result",
          "data": {
            "text/plain": [
              "(18, 3195)"
            ]
          },
          "metadata": {},
          "execution_count": 135
        }
      ]
    },
    {
      "cell_type": "code",
      "source": [
        "nae_tot_row = code@icio_2[0:3195,0:3195] # 중간투입(수요)의 행을 18부문으로 만들기\n",
        "nae_tot_row.shape"
      ],
      "metadata": {
        "id": "hwAN1N7qGAtx",
        "outputId": "c7669e4c-4db6-43b1-ae4e-d321da888540",
        "colab": {
          "base_uri": "https://localhost:8080/",
          "height": 191
        }
      },
      "execution_count": null,
      "outputs": [
        {
          "output_type": "error",
          "ename": "ValueError",
          "evalue": "ignored",
          "traceback": [
            "\u001b[0;31m---------------------------------------------------------------------------\u001b[0m",
            "\u001b[0;31mValueError\u001b[0m                                Traceback (most recent call last)",
            "\u001b[0;32m<ipython-input-136-5cfe59861c52>\u001b[0m in \u001b[0;36m<cell line: 1>\u001b[0;34m()\u001b[0m\n\u001b[0;32m----> 1\u001b[0;31m \u001b[0mnae_tot_row\u001b[0m \u001b[0;34m=\u001b[0m \u001b[0mcode\u001b[0m\u001b[0;34m@\u001b[0m\u001b[0micio_2\u001b[0m\u001b[0;34m[\u001b[0m\u001b[0;36m0\u001b[0m\u001b[0;34m:\u001b[0m\u001b[0;36m3195\u001b[0m\u001b[0;34m,\u001b[0m\u001b[0;36m0\u001b[0m\u001b[0;34m:\u001b[0m\u001b[0;36m3195\u001b[0m\u001b[0;34m]\u001b[0m \u001b[0;31m# 중간투입(수요)의 행을 18부문으로 만들기\u001b[0m\u001b[0;34m\u001b[0m\u001b[0;34m\u001b[0m\u001b[0m\n\u001b[0m\u001b[1;32m      2\u001b[0m \u001b[0mnae_tot_row\u001b[0m\u001b[0;34m.\u001b[0m\u001b[0mshape\u001b[0m\u001b[0;34m\u001b[0m\u001b[0;34m\u001b[0m\u001b[0m\n",
            "\u001b[0;31mValueError\u001b[0m: matmul: Input operand 1 has a mismatch in its core dimension 0, with gufunc signature (n?,k),(k,m?)->(n?,m?) (size 26 is different from 3195)"
          ]
        }
      ]
    },
    {
      "cell_type": "code",
      "source": [
        "nae_tot_col = nae_tot_row@code.T  # 수작업한 code 이용\n",
        "nae_tot_col.sum()"
      ],
      "metadata": {
        "id": "gJ-wf5Z5GAwF"
      },
      "execution_count": null,
      "outputs": []
    },
    {
      "cell_type": "code",
      "source": [
        "url_cdtx = \"https://raw.githubusercontent.com/Tom-Jung/legendary-funicular/main/cd_tax.csv\"  #코드매치 파일 불러오기\n",
        "cd_tx = pd.read_csv(url_cdtx)\n",
        "cd_tx.shape"
      ],
      "metadata": {
        "id": "U2KVZnyLGAyV"
      },
      "execution_count": null,
      "outputs": []
    },
    {
      "cell_type": "code",
      "source": [
        "url_cns = \"https://raw.githubusercontent.com/Tom-Jung/legendary-funicular/main/cd_cons.csv\"  #코드매치 파일 불러오기\n",
        "cd_cns = pd.read_csv(url_cns)\n",
        "cd_cns.shape"
      ],
      "metadata": {
        "id": "JQxUsF6DiW7A"
      },
      "execution_count": null,
      "outputs": []
    },
    {
      "cell_type": "code",
      "source": [
        "# Mtx_tx= np.zeros((6,3195)) # 부문통합을 위한 코드가 많을 경우 상기의 코드를 수작업으로 미리 하는 것이 쉽자 않으므로 반복문을 통해 3x33 임시코드 만들기\n",
        "# cd_3 = cd_for_itr_tx[:,1]\n",
        "# cd_33 = cd_for_itr_tx[:,0]\n",
        "# row=cd_3\n",
        "# col=cd_33\n",
        "# for i, j in zip(row,col):\n",
        "#   Mtx_tx[i-1,j-1] = 1\n",
        "# print(Mtx_tx)"
      ],
      "metadata": {
        "id": "jzhKiWaFKZJG"
      },
      "execution_count": null,
      "outputs": []
    },
    {
      "cell_type": "code",
      "source": [
        "ccdd_cns = cd_cns.to_numpy()\n",
        "cd_for_itr_cns = ccdd_cns[:,1:]\n",
        "# cd_for_itr_tx"
      ],
      "metadata": {
        "id": "GqX0Pk4vprXZ"
      },
      "execution_count": null,
      "outputs": []
    },
    {
      "cell_type": "code",
      "source": [
        "Mtx_cns= np.zeros((6,67)) # 부문통합을 위한 코드가 많을 경우 상기의 코드를 수작업으로 미리 하는 것이 쉽자 않으므로 반복문을 통해 3x33 임시코드 만들기\n",
        "cd_3 = cd_for_itr_cns[:,1]\n",
        "cd_33 = cd_for_itr_cns[:,0]\n",
        "row=cd_3\n",
        "col=cd_33\n",
        "for i, j in zip(row,col):\n",
        "  Mtx_cns[i-1,j-1] = 1\n",
        "print(Mtx_cns)"
      ],
      "metadata": {
        "id": "J3tdCNxcprdM"
      },
      "execution_count": null,
      "outputs": []
    },
    {
      "cell_type": "code",
      "source": [
        "# code_tx = Mtx_tx\n",
        "code_cns = Mtx_cns\n",
        "code_cns.shape"
      ],
      "metadata": {
        "id": "PraMpI0AKZL1"
      },
      "execution_count": null,
      "outputs": []
    },
    {
      "cell_type": "code",
      "source": [
        "nae_tx = code_cns@icio_2[3195:3262,0:3195]@code.T # 세금 행을 6부문으로 만들기\n",
        "nae_tx"
      ],
      "metadata": {
        "id": "5c-zt7MIK-xv"
      },
      "execution_count": null,
      "outputs": []
    },
    {
      "cell_type": "code",
      "source": [
        "va_row = icio_2[3262:,0:3195]@code.T # 중투합, 피용자보수, 영업잉여, 고정자본소모, 기타생산세, 부가가치계, 산출액(7X3)\n",
        "va_row"
      ],
      "metadata": {
        "id": "qztNjQCtK-0Y"
      },
      "execution_count": null,
      "outputs": []
    },
    {
      "cell_type": "code",
      "source": [
        "url_cdfd = \"https://raw.githubusercontent.com/Tom-Jung/legendary-funicular/main/cd_fd.csv\"  #코드매치 파일 불러오기\n",
        "cd_fd = pd.read_csv(url_cdfd)\n",
        "cd_fd.head()"
      ],
      "metadata": {
        "id": "TveEEi60VWLR"
      },
      "execution_count": null,
      "outputs": []
    },
    {
      "cell_type": "code",
      "source": [
        "ccdd_fd = cd_fd.to_numpy()\n",
        "cd_for_itr_fd = ccdd_fd[:,1:]\n",
        "cd_for_itr_fd.shape"
      ],
      "metadata": {
        "id": "lyL9UFZoVmBn"
      },
      "execution_count": null,
      "outputs": []
    },
    {
      "cell_type": "code",
      "source": [
        "Mtx_fd= np.zeros((18,402)) # 부문통합을 위한 코드가 많을 경우 상기의 코드를 수작업으로 미리 하는 것이 쉽자 않으므로 반복문을 통해 3x33 임시코드 만들기\n",
        "cd_3 = cd_for_itr_fd[:,1]\n",
        "cd_33 = cd_for_itr_fd[:,0]\n",
        "row=cd_3\n",
        "col=cd_33\n",
        "for i, j in zip(row,col):\n",
        "  Mtx_fd[i-1,j-1] = 1\n",
        "print(Mtx_fd)"
      ],
      "metadata": {
        "id": "-DfyrxNAVmEF"
      },
      "execution_count": null,
      "outputs": []
    },
    {
      "cell_type": "code",
      "source": [
        "code_fd = Mtx_fd\n",
        "code_fd.shape"
      ],
      "metadata": {
        "id": "DCfHIGyDVmGS"
      },
      "execution_count": null,
      "outputs": []
    },
    {
      "cell_type": "code",
      "source": [
        "fd = code@icio_2[0:3195,3195:3597]@code_fd.T # 최종수요를 6부문으로 만들기\n",
        "fd.shape"
      ],
      "metadata": {
        "id": "Q0YhpDKhVmIY"
      },
      "execution_count": null,
      "outputs": []
    },
    {
      "cell_type": "code",
      "source": [
        "fd_tx = code_cns@icio_2[3195:3262,3195:3597]@code_fd.T\n",
        "fd_tx.shape"
      ],
      "metadata": {
        "id": "NJdAdoVPtVq4"
      },
      "execution_count": null,
      "outputs": []
    },
    {
      "cell_type": "code",
      "source": [
        "fd_row=np.concatenate((fd,fd_tx, np.zeros((2,18))))\n",
        "fd_row.shape"
      ],
      "metadata": {
        "id": "LWL1uNCO_A95"
      },
      "execution_count": null,
      "outputs": []
    },
    {
      "cell_type": "code",
      "source": [
        "icio_row = np.concatenate((nae_tot_col,nae_tx, va_row))\n",
        "icio_row.shape"
      ],
      "metadata": {
        "id": "ydBppFx_VmKX"
      },
      "execution_count": null,
      "outputs": []
    },
    {
      "cell_type": "code",
      "source": [
        "icio_col = np.concatenate((icio_row, fd_row), axis=1)"
      ],
      "metadata": {
        "id": "9AmJvsmzVmMM"
      },
      "execution_count": null,
      "outputs": []
    },
    {
      "cell_type": "code",
      "source": [
        "icio_col_sm = icio_col.sum(axis=1).reshape([26,1]) # 충수요계(산출액과 동일)"
      ],
      "metadata": {
        "id": "8e_Mqf7KVmOa"
      },
      "execution_count": null,
      "outputs": []
    },
    {
      "cell_type": "code",
      "source": [
        "icio_f = np.concatenate((icio_col, icio_col_sm), axis=1).astype(float)"
      ],
      "metadata": {
        "id": "Ic43tRaAVmQd"
      },
      "execution_count": null,
      "outputs": []
    },
    {
      "cell_type": "code",
      "source": [
        "ICIO_df = pd.DataFrame(icio_f, columns = [['KOR', 'KOR', 'KOR', 'CHN', 'CHN', 'CHN', 'USA', 'USA', 'USA', 'JPN', 'JPN','JPN',\n",
        "                                             'EU', 'EU', 'EU', 'ROW', 'ROW', 'ROW',\n",
        "                                            'KOR', 'KOR', 'KOR', 'CHN', 'CHN', 'CHN', 'USA', 'USA', 'USA', 'JPN', 'JPN','JPN',\n",
        "                                             'EU', 'EU', 'EU', 'ROW', 'ROW', 'ROW', 'Total'],\n",
        "\n",
        "                                      ['Agr', 'Manu', 'Serv', 'Agr', 'Manu', 'Serv','Agr', 'Manu', 'Serv', 'Agr', 'Manu', 'Serv','Agr', 'Manu', 'Serv','Agr', 'Manu', 'Serv',\n",
        "                                        'Cons', 'Inv','Exp','Cons', 'Inv','Exp','Cons', 'Inv','Exp','Cons', 'Inv','Exp','Cons', 'Inv','Exp','Cons', 'Inv','Exp','Tot']],\n",
        "\n",
        "                                    index=[['KOR', 'KOR', 'KOR', 'CHN', 'CHN', 'CHN', 'USA', 'USA', 'USA', 'JPN', 'JPN','JPN',\n",
        "                                             'EU', 'EU', 'EU', 'ROW', 'ROW', 'ROW','Tax_KOR','Tax_CHN','Tax_USA','Tax_JPN','Tax_EU','Tax_ROW','VA','CT'],\n",
        "                                           ['Agr', 'Manu', 'Serv', 'Agr', 'Manu', 'Serv','Agr', 'Manu', 'Serv', 'Agr', 'Manu', 'Serv',\n",
        "                                            'Agr', 'Manu', 'Serv','Agr', 'Manu', 'Serv','Tax_KOR','Tax_CHN','Tax_USA','Tax_JPN','Tax_EU','Tax_ROW','VA','Output']])\n",
        "ICIO_df.index.names=['Country', 'Secs']"
      ],
      "metadata": {
        "id": "rtItKkheBmQm"
      },
      "execution_count": null,
      "outputs": []
    },
    {
      "cell_type": "code",
      "source": [
        "ICIO_df.to_csv('ICIO_6cons_3secs.csv')"
      ],
      "metadata": {
        "id": "3Rq2EJgr1YSW"
      },
      "execution_count": null,
      "outputs": []
    },
    {
      "cell_type": "code",
      "source": [
        "ICIO_df_show = pd.DataFrame(icio_f.round(1), columns = [['KOR', 'KOR', 'KOR', 'CHN', 'CHN', 'CHN', 'USA', 'USA', 'USA', 'JPN', 'JPN','JPN',\n",
        "                                             'EU', 'EU', 'EU', 'ROW', 'ROW', 'ROW',\n",
        "                                            'KOR', 'KOR', 'KOR', 'CHN', 'CHN', 'CHN', 'USA', 'USA', 'USA', 'JPN', 'JPN','JPN',\n",
        "                                             'EU', 'EU', 'EU', 'ROW', 'ROW', 'ROW', 'Total'],\n",
        "\n",
        "                                      ['Agr', 'Manu', 'Serv', 'Agr', 'Manu', 'Serv','Agr', 'Manu', 'Serv', 'Agr', 'Manu', 'Serv','Agr', 'Manu', 'Serv','Agr', 'Manu', 'Serv',\n",
        "                                        'Cons', 'Inv','Exp','Cons', 'Inv','Exp','Cons', 'Inv','Exp','Cons', 'Inv','Exp','Cons', 'Inv','Exp','Cons', 'Inv','Exp','Tot']],\n",
        "\n",
        "                                    index=[['KOR', 'KOR', 'KOR', 'CHN', 'CHN', 'CHN', 'USA', 'USA', 'USA', 'JPN', 'JPN','JPN',\n",
        "                                             'EU', 'EU', 'EU', 'ROW', 'ROW', 'ROW','Tax_KOR','Tax_CHN','Tax_USA','Tax_JPN','Tax_EU','Tax_ROW','VA','CT'],\n",
        "                                           ['Agr', 'Manu', 'Serv', 'Agr', 'Manu', 'Serv','Agr', 'Manu', 'Serv', 'Agr', 'Manu', 'Serv',\n",
        "                                            'Agr', 'Manu', 'Serv','Agr', 'Manu', 'Serv','Tax_KOR','Tax_CHN','Tax_USA','Tax_JPN','Tax_EU','Tax_ROW','VA','Output']])\n",
        "ICIO_df.index.names=['Country', 'Secs']"
      ],
      "metadata": {
        "id": "KTuvCzjHWf4s"
      },
      "execution_count": null,
      "outputs": []
    },
    {
      "cell_type": "code",
      "source": [
        "ICIO_df_show"
      ],
      "metadata": {
        "id": "MkTMOiEJF1XB"
      },
      "execution_count": null,
      "outputs": []
    },
    {
      "cell_type": "code",
      "source": [],
      "metadata": {
        "id": "BdNvKl_JdRX0"
      },
      "execution_count": null,
      "outputs": []
    }
  ]
}