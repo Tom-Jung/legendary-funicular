{
  "nbformat": 4,
  "nbformat_minor": 0,
  "metadata": {
    "colab": {
      "provenance": [],
      "mount_file_id": "https://github.com/Tom-Jung/legendary-funicular/blob/main/IO_tables.ipynb",
      "authorship_tag": "ABX9TyPqlBPpx+kIU0BdHypRAAE/",
      "include_colab_link": true
    },
    "kernelspec": {
      "name": "python3",
      "display_name": "Python 3"
    },
    "language_info": {
      "name": "python"
    }
  },
  "cells": [
    {
      "cell_type": "markdown",
      "metadata": {
        "id": "view-in-github",
        "colab_type": "text"
      },
      "source": [
        "<a href=\"https://colab.research.google.com/github/Tom-Jung/legendary-funicular/blob/main/Regional_IO.ipynb\" target=\"_parent\"><img src=\"https://colab.research.google.com/assets/colab-badge.svg\" alt=\"Open In Colab\"/></a>"
      ]
    },
    {
      "cell_type": "code",
      "source": [
        "import numpy as np   # Numpy import\n",
        "import pandas as pd  # Pandas import"
      ],
      "metadata": {
        "id": "TR7JvW8CxBFT"
      },
      "execution_count": 495,
      "outputs": []
    },
    {
      "cell_type": "code",
      "source": [
        "url_RIO_33 = \"https://raw.githubusercontent.com/Tom-Jung/legendary-funicular/main/2015%EC%A7%80%EC%97%AD_%ED%88%AC%EC%9E%85%EC%82%B0%EC%B6%9C%ED%91%9C_%EC%83%9D%EC%82%B0%EC%9E%90%EA%B0%80%EA%B2%A9_%ED%86%B5%ED%95%A9%EB%8C%80%EB%B6%84%EB%A5%98.csv\"  # 33부문의 지역IO 불러오기\n",
        "RIO_33 = pd.read_csv(url_RIO_33)\n",
        "RIO_33.head()"
      ],
      "metadata": {
        "colab": {
          "base_uri": "https://localhost:8080/",
          "height": 525
        },
        "id": "8D9y7bqcuL7m",
        "outputId": "367a8df1-694b-485f-8501-6934f220bcb5"
      },
      "execution_count": 496,
      "outputs": [
        {
          "output_type": "execute_result",
          "data": {
            "text/plain": [
              "   R1   S1     지역            서울        서울.1            서울.2           서울.3  \\\n",
              "0  R1   S1     부문             A           B             C01            C02   \n",
              "1  지역   부문    부문명         농림수산품         광산품            음식료품      섬유 및 가죽제품   \n",
              "2  서울    A  농림수산품  347.5192850   0.0242190    1683.2518161     85.4032160    \n",
              "3  서울    B    광산품    0.0000000   0.0000000      11.0220814     10.3017344    \n",
              "4  서울  C01   음식료품  177.7344928   0.7059238   26273.3617238   2697.6521685    \n",
              "\n",
              "           서울.4        서울.5           서울.6  ...       제주.35       제주.36  \\\n",
              "0           C03         C04            C05  ...        9121        9122   \n",
              "1   목재 및 종이, 인쇄   석탄 및 석유제품           화학제품  ...  민간고정\\n자본형성  정부고정\\n자본형성   \n",
              "2    8.6670837   0.0317551     28.9266954   ...  6.5322540   0.2107803    \n",
              "3    4.9149932   1.2612950     62.4223534   ...  0.0000000   0.0000000    \n",
              "4  474.1557889   4.5091775   1037.0013822   ...  0.0000000   0.0000000    \n",
              "\n",
              "         제주.37       제주.38       제주.39              전국.1              전국.2  \\\n",
              "0         9131        9132        9140              9190              9290   \n",
              "1         재고증감    귀중품\\n순취득          수출             최종수요계              총수요계   \n",
              "2   8.4765497   0.0000000   0.0000000     43737.9859807     88431.0000000    \n",
              "3  -0.1367610   0.0000000   0.0000000        74.4690937      7402.0000000    \n",
              "4  59.5836722   0.0000000   0.0000000   1129828.5659588   2289527.0000000    \n",
              "\n",
              "               전국.3        전국.4              전국.5  \n",
              "0              9310        9321              9390  \n",
              "1               총산출          수입              총공급계  \n",
              "2    88431.0000000   0.0000000     88431.0000000   \n",
              "3     7402.0000000   0.0000000      7402.0000000   \n",
              "4  2289527.0000000   0.0000000   2289527.0000000   \n",
              "\n",
              "[5 rows x 689 columns]"
            ],
            "text/html": [
              "\n",
              "  <div id=\"df-d52be573-ff55-48c6-acd0-7ddfbe998c60\">\n",
              "    <div class=\"colab-df-container\">\n",
              "      <div>\n",
              "<style scoped>\n",
              "    .dataframe tbody tr th:only-of-type {\n",
              "        vertical-align: middle;\n",
              "    }\n",
              "\n",
              "    .dataframe tbody tr th {\n",
              "        vertical-align: top;\n",
              "    }\n",
              "\n",
              "    .dataframe thead th {\n",
              "        text-align: right;\n",
              "    }\n",
              "</style>\n",
              "<table border=\"1\" class=\"dataframe\">\n",
              "  <thead>\n",
              "    <tr style=\"text-align: right;\">\n",
              "      <th></th>\n",
              "      <th>R1</th>\n",
              "      <th>S1</th>\n",
              "      <th>지역</th>\n",
              "      <th>서울</th>\n",
              "      <th>서울.1</th>\n",
              "      <th>서울.2</th>\n",
              "      <th>서울.3</th>\n",
              "      <th>서울.4</th>\n",
              "      <th>서울.5</th>\n",
              "      <th>서울.6</th>\n",
              "      <th>...</th>\n",
              "      <th>제주.35</th>\n",
              "      <th>제주.36</th>\n",
              "      <th>제주.37</th>\n",
              "      <th>제주.38</th>\n",
              "      <th>제주.39</th>\n",
              "      <th>전국.1</th>\n",
              "      <th>전국.2</th>\n",
              "      <th>전국.3</th>\n",
              "      <th>전국.4</th>\n",
              "      <th>전국.5</th>\n",
              "    </tr>\n",
              "  </thead>\n",
              "  <tbody>\n",
              "    <tr>\n",
              "      <th>0</th>\n",
              "      <td>R1</td>\n",
              "      <td>S1</td>\n",
              "      <td>부문</td>\n",
              "      <td>A</td>\n",
              "      <td>B</td>\n",
              "      <td>C01</td>\n",
              "      <td>C02</td>\n",
              "      <td>C03</td>\n",
              "      <td>C04</td>\n",
              "      <td>C05</td>\n",
              "      <td>...</td>\n",
              "      <td>9121</td>\n",
              "      <td>9122</td>\n",
              "      <td>9131</td>\n",
              "      <td>9132</td>\n",
              "      <td>9140</td>\n",
              "      <td>9190</td>\n",
              "      <td>9290</td>\n",
              "      <td>9310</td>\n",
              "      <td>9321</td>\n",
              "      <td>9390</td>\n",
              "    </tr>\n",
              "    <tr>\n",
              "      <th>1</th>\n",
              "      <td>지역</td>\n",
              "      <td>부문</td>\n",
              "      <td>부문명</td>\n",
              "      <td>농림수산품</td>\n",
              "      <td>광산품</td>\n",
              "      <td>음식료품</td>\n",
              "      <td>섬유 및 가죽제품</td>\n",
              "      <td>목재 및 종이, 인쇄</td>\n",
              "      <td>석탄 및 석유제품</td>\n",
              "      <td>화학제품</td>\n",
              "      <td>...</td>\n",
              "      <td>민간고정\\n자본형성</td>\n",
              "      <td>정부고정\\n자본형성</td>\n",
              "      <td>재고증감</td>\n",
              "      <td>귀중품\\n순취득</td>\n",
              "      <td>수출</td>\n",
              "      <td>최종수요계</td>\n",
              "      <td>총수요계</td>\n",
              "      <td>총산출</td>\n",
              "      <td>수입</td>\n",
              "      <td>총공급계</td>\n",
              "    </tr>\n",
              "    <tr>\n",
              "      <th>2</th>\n",
              "      <td>서울</td>\n",
              "      <td>A</td>\n",
              "      <td>농림수산품</td>\n",
              "      <td>347.5192850</td>\n",
              "      <td>0.0242190</td>\n",
              "      <td>1683.2518161</td>\n",
              "      <td>85.4032160</td>\n",
              "      <td>8.6670837</td>\n",
              "      <td>0.0317551</td>\n",
              "      <td>28.9266954</td>\n",
              "      <td>...</td>\n",
              "      <td>6.5322540</td>\n",
              "      <td>0.2107803</td>\n",
              "      <td>8.4765497</td>\n",
              "      <td>0.0000000</td>\n",
              "      <td>0.0000000</td>\n",
              "      <td>43737.9859807</td>\n",
              "      <td>88431.0000000</td>\n",
              "      <td>88431.0000000</td>\n",
              "      <td>0.0000000</td>\n",
              "      <td>88431.0000000</td>\n",
              "    </tr>\n",
              "    <tr>\n",
              "      <th>3</th>\n",
              "      <td>서울</td>\n",
              "      <td>B</td>\n",
              "      <td>광산품</td>\n",
              "      <td>0.0000000</td>\n",
              "      <td>0.0000000</td>\n",
              "      <td>11.0220814</td>\n",
              "      <td>10.3017344</td>\n",
              "      <td>4.9149932</td>\n",
              "      <td>1.2612950</td>\n",
              "      <td>62.4223534</td>\n",
              "      <td>...</td>\n",
              "      <td>0.0000000</td>\n",
              "      <td>0.0000000</td>\n",
              "      <td>-0.1367610</td>\n",
              "      <td>0.0000000</td>\n",
              "      <td>0.0000000</td>\n",
              "      <td>74.4690937</td>\n",
              "      <td>7402.0000000</td>\n",
              "      <td>7402.0000000</td>\n",
              "      <td>0.0000000</td>\n",
              "      <td>7402.0000000</td>\n",
              "    </tr>\n",
              "    <tr>\n",
              "      <th>4</th>\n",
              "      <td>서울</td>\n",
              "      <td>C01</td>\n",
              "      <td>음식료품</td>\n",
              "      <td>177.7344928</td>\n",
              "      <td>0.7059238</td>\n",
              "      <td>26273.3617238</td>\n",
              "      <td>2697.6521685</td>\n",
              "      <td>474.1557889</td>\n",
              "      <td>4.5091775</td>\n",
              "      <td>1037.0013822</td>\n",
              "      <td>...</td>\n",
              "      <td>0.0000000</td>\n",
              "      <td>0.0000000</td>\n",
              "      <td>59.5836722</td>\n",
              "      <td>0.0000000</td>\n",
              "      <td>0.0000000</td>\n",
              "      <td>1129828.5659588</td>\n",
              "      <td>2289527.0000000</td>\n",
              "      <td>2289527.0000000</td>\n",
              "      <td>0.0000000</td>\n",
              "      <td>2289527.0000000</td>\n",
              "    </tr>\n",
              "  </tbody>\n",
              "</table>\n",
              "<p>5 rows × 689 columns</p>\n",
              "</div>\n",
              "      <button class=\"colab-df-convert\" onclick=\"convertToInteractive('df-d52be573-ff55-48c6-acd0-7ddfbe998c60')\"\n",
              "              title=\"Convert this dataframe to an interactive table.\"\n",
              "              style=\"display:none;\">\n",
              "        \n",
              "  <svg xmlns=\"http://www.w3.org/2000/svg\" height=\"24px\"viewBox=\"0 0 24 24\"\n",
              "       width=\"24px\">\n",
              "    <path d=\"M0 0h24v24H0V0z\" fill=\"none\"/>\n",
              "    <path d=\"M18.56 5.44l.94 2.06.94-2.06 2.06-.94-2.06-.94-.94-2.06-.94 2.06-2.06.94zm-11 1L8.5 8.5l.94-2.06 2.06-.94-2.06-.94L8.5 2.5l-.94 2.06-2.06.94zm10 10l.94 2.06.94-2.06 2.06-.94-2.06-.94-.94-2.06-.94 2.06-2.06.94z\"/><path d=\"M17.41 7.96l-1.37-1.37c-.4-.4-.92-.59-1.43-.59-.52 0-1.04.2-1.43.59L10.3 9.45l-7.72 7.72c-.78.78-.78 2.05 0 2.83L4 21.41c.39.39.9.59 1.41.59.51 0 1.02-.2 1.41-.59l7.78-7.78 2.81-2.81c.8-.78.8-2.07 0-2.86zM5.41 20L4 18.59l7.72-7.72 1.47 1.35L5.41 20z\"/>\n",
              "  </svg>\n",
              "      </button>\n",
              "      \n",
              "  <style>\n",
              "    .colab-df-container {\n",
              "      display:flex;\n",
              "      flex-wrap:wrap;\n",
              "      gap: 12px;\n",
              "    }\n",
              "\n",
              "    .colab-df-convert {\n",
              "      background-color: #E8F0FE;\n",
              "      border: none;\n",
              "      border-radius: 50%;\n",
              "      cursor: pointer;\n",
              "      display: none;\n",
              "      fill: #1967D2;\n",
              "      height: 32px;\n",
              "      padding: 0 0 0 0;\n",
              "      width: 32px;\n",
              "    }\n",
              "\n",
              "    .colab-df-convert:hover {\n",
              "      background-color: #E2EBFA;\n",
              "      box-shadow: 0px 1px 2px rgba(60, 64, 67, 0.3), 0px 1px 3px 1px rgba(60, 64, 67, 0.15);\n",
              "      fill: #174EA6;\n",
              "    }\n",
              "\n",
              "    [theme=dark] .colab-df-convert {\n",
              "      background-color: #3B4455;\n",
              "      fill: #D2E3FC;\n",
              "    }\n",
              "\n",
              "    [theme=dark] .colab-df-convert:hover {\n",
              "      background-color: #434B5C;\n",
              "      box-shadow: 0px 1px 3px 1px rgba(0, 0, 0, 0.15);\n",
              "      filter: drop-shadow(0px 1px 2px rgba(0, 0, 0, 0.3));\n",
              "      fill: #FFFFFF;\n",
              "    }\n",
              "  </style>\n",
              "\n",
              "      <script>\n",
              "        const buttonEl =\n",
              "          document.querySelector('#df-d52be573-ff55-48c6-acd0-7ddfbe998c60 button.colab-df-convert');\n",
              "        buttonEl.style.display =\n",
              "          google.colab.kernel.accessAllowed ? 'block' : 'none';\n",
              "\n",
              "        async function convertToInteractive(key) {\n",
              "          const element = document.querySelector('#df-d52be573-ff55-48c6-acd0-7ddfbe998c60');\n",
              "          const dataTable =\n",
              "            await google.colab.kernel.invokeFunction('convertToInteractive',\n",
              "                                                     [key], {});\n",
              "          if (!dataTable) return;\n",
              "\n",
              "          const docLinkHtml = 'Like what you see? Visit the ' +\n",
              "            '<a target=\"_blank\" href=https://colab.research.google.com/notebooks/data_table.ipynb>data table notebook</a>'\n",
              "            + ' to learn more about interactive tables.';\n",
              "          element.innerHTML = '';\n",
              "          dataTable['output_type'] = 'display_data';\n",
              "          await google.colab.output.renderOutput(dataTable, element);\n",
              "          const docLink = document.createElement('div');\n",
              "          docLink.innerHTML = docLinkHtml;\n",
              "          element.appendChild(docLink);\n",
              "        }\n",
              "      </script>\n",
              "    </div>\n",
              "  </div>\n",
              "  "
            ]
          },
          "metadata": {},
          "execution_count": 496
        }
      ]
    },
    {
      "cell_type": "code",
      "source": [
        "RRIO_33 = RIO_33.to_numpy()\n",
        "RI_33 = RRIO_33[2:,3:].astype(float)\n",
        "RI_33.shape"
      ],
      "metadata": {
        "colab": {
          "base_uri": "https://localhost:8080/"
        },
        "id": "3Rq2EJgr1YSW",
        "outputId": "e4e51c96-966a-4f8e-c62f-a5d21d5b08b5"
      },
      "execution_count": 497,
      "outputs": [
        {
          "output_type": "execute_result",
          "data": {
            "text/plain": [
              "(603, 686)"
            ]
          },
          "metadata": {},
          "execution_count": 497
        }
      ]
    },
    {
      "cell_type": "markdown",
      "source": [
        "## 국산거래표 통합하기"
      ],
      "metadata": {
        "id": "3vwObBQ_X-BA"
      }
    },
    {
      "cell_type": "code",
      "source": [
        "cd_for_R = \"https://raw.githubusercontent.com/Tom-Jung/legendary-funicular/main/code_%EC%A7%80%EC%97%ADIO.csv\"  # 코드매치 파일\n",
        "cdr = pd.read_csv(cd_for_R)\n",
        "cdr.head()"
      ],
      "metadata": {
        "colab": {
          "base_uri": "https://localhost:8080/",
          "height": 206
        },
        "id": "KV1GAn1LuMF5",
        "outputId": "0af597c7-79d3-4d88-965a-5d5667e039cf"
      },
      "execution_count": 498,
      "outputs": [
        {
          "output_type": "execute_result",
          "data": {
            "text/plain": [
              "    권역  지역 33부문          부문명  3부문  old_33부문  new_3부문및지역\n",
              "0  수도권  서울    A        농림수산품  농산품         1           1\n",
              "1  수도권  서울    B          광산품  공산품         2           2\n",
              "2  수도권  서울  C01         음식료품  공산품         3           2\n",
              "3  수도권  서울  C02    섬유 및 가죽제품  공산품         4           2\n",
              "4  수도권  서울  C03  목재 및 종이, 인쇄  공산품         5           2"
            ],
            "text/html": [
              "\n",
              "  <div id=\"df-f5c37677-a8ed-4224-9709-3f30380a635a\">\n",
              "    <div class=\"colab-df-container\">\n",
              "      <div>\n",
              "<style scoped>\n",
              "    .dataframe tbody tr th:only-of-type {\n",
              "        vertical-align: middle;\n",
              "    }\n",
              "\n",
              "    .dataframe tbody tr th {\n",
              "        vertical-align: top;\n",
              "    }\n",
              "\n",
              "    .dataframe thead th {\n",
              "        text-align: right;\n",
              "    }\n",
              "</style>\n",
              "<table border=\"1\" class=\"dataframe\">\n",
              "  <thead>\n",
              "    <tr style=\"text-align: right;\">\n",
              "      <th></th>\n",
              "      <th>권역</th>\n",
              "      <th>지역</th>\n",
              "      <th>33부문</th>\n",
              "      <th>부문명</th>\n",
              "      <th>3부문</th>\n",
              "      <th>old_33부문</th>\n",
              "      <th>new_3부문및지역</th>\n",
              "    </tr>\n",
              "  </thead>\n",
              "  <tbody>\n",
              "    <tr>\n",
              "      <th>0</th>\n",
              "      <td>수도권</td>\n",
              "      <td>서울</td>\n",
              "      <td>A</td>\n",
              "      <td>농림수산품</td>\n",
              "      <td>농산품</td>\n",
              "      <td>1</td>\n",
              "      <td>1</td>\n",
              "    </tr>\n",
              "    <tr>\n",
              "      <th>1</th>\n",
              "      <td>수도권</td>\n",
              "      <td>서울</td>\n",
              "      <td>B</td>\n",
              "      <td>광산품</td>\n",
              "      <td>공산품</td>\n",
              "      <td>2</td>\n",
              "      <td>2</td>\n",
              "    </tr>\n",
              "    <tr>\n",
              "      <th>2</th>\n",
              "      <td>수도권</td>\n",
              "      <td>서울</td>\n",
              "      <td>C01</td>\n",
              "      <td>음식료품</td>\n",
              "      <td>공산품</td>\n",
              "      <td>3</td>\n",
              "      <td>2</td>\n",
              "    </tr>\n",
              "    <tr>\n",
              "      <th>3</th>\n",
              "      <td>수도권</td>\n",
              "      <td>서울</td>\n",
              "      <td>C02</td>\n",
              "      <td>섬유 및 가죽제품</td>\n",
              "      <td>공산품</td>\n",
              "      <td>4</td>\n",
              "      <td>2</td>\n",
              "    </tr>\n",
              "    <tr>\n",
              "      <th>4</th>\n",
              "      <td>수도권</td>\n",
              "      <td>서울</td>\n",
              "      <td>C03</td>\n",
              "      <td>목재 및 종이, 인쇄</td>\n",
              "      <td>공산품</td>\n",
              "      <td>5</td>\n",
              "      <td>2</td>\n",
              "    </tr>\n",
              "  </tbody>\n",
              "</table>\n",
              "</div>\n",
              "      <button class=\"colab-df-convert\" onclick=\"convertToInteractive('df-f5c37677-a8ed-4224-9709-3f30380a635a')\"\n",
              "              title=\"Convert this dataframe to an interactive table.\"\n",
              "              style=\"display:none;\">\n",
              "        \n",
              "  <svg xmlns=\"http://www.w3.org/2000/svg\" height=\"24px\"viewBox=\"0 0 24 24\"\n",
              "       width=\"24px\">\n",
              "    <path d=\"M0 0h24v24H0V0z\" fill=\"none\"/>\n",
              "    <path d=\"M18.56 5.44l.94 2.06.94-2.06 2.06-.94-2.06-.94-.94-2.06-.94 2.06-2.06.94zm-11 1L8.5 8.5l.94-2.06 2.06-.94-2.06-.94L8.5 2.5l-.94 2.06-2.06.94zm10 10l.94 2.06.94-2.06 2.06-.94-2.06-.94-.94-2.06-.94 2.06-2.06.94z\"/><path d=\"M17.41 7.96l-1.37-1.37c-.4-.4-.92-.59-1.43-.59-.52 0-1.04.2-1.43.59L10.3 9.45l-7.72 7.72c-.78.78-.78 2.05 0 2.83L4 21.41c.39.39.9.59 1.41.59.51 0 1.02-.2 1.41-.59l7.78-7.78 2.81-2.81c.8-.78.8-2.07 0-2.86zM5.41 20L4 18.59l7.72-7.72 1.47 1.35L5.41 20z\"/>\n",
              "  </svg>\n",
              "      </button>\n",
              "      \n",
              "  <style>\n",
              "    .colab-df-container {\n",
              "      display:flex;\n",
              "      flex-wrap:wrap;\n",
              "      gap: 12px;\n",
              "    }\n",
              "\n",
              "    .colab-df-convert {\n",
              "      background-color: #E8F0FE;\n",
              "      border: none;\n",
              "      border-radius: 50%;\n",
              "      cursor: pointer;\n",
              "      display: none;\n",
              "      fill: #1967D2;\n",
              "      height: 32px;\n",
              "      padding: 0 0 0 0;\n",
              "      width: 32px;\n",
              "    }\n",
              "\n",
              "    .colab-df-convert:hover {\n",
              "      background-color: #E2EBFA;\n",
              "      box-shadow: 0px 1px 2px rgba(60, 64, 67, 0.3), 0px 1px 3px 1px rgba(60, 64, 67, 0.15);\n",
              "      fill: #174EA6;\n",
              "    }\n",
              "\n",
              "    [theme=dark] .colab-df-convert {\n",
              "      background-color: #3B4455;\n",
              "      fill: #D2E3FC;\n",
              "    }\n",
              "\n",
              "    [theme=dark] .colab-df-convert:hover {\n",
              "      background-color: #434B5C;\n",
              "      box-shadow: 0px 1px 3px 1px rgba(0, 0, 0, 0.15);\n",
              "      filter: drop-shadow(0px 1px 2px rgba(0, 0, 0, 0.3));\n",
              "      fill: #FFFFFF;\n",
              "    }\n",
              "  </style>\n",
              "\n",
              "      <script>\n",
              "        const buttonEl =\n",
              "          document.querySelector('#df-f5c37677-a8ed-4224-9709-3f30380a635a button.colab-df-convert');\n",
              "        buttonEl.style.display =\n",
              "          google.colab.kernel.accessAllowed ? 'block' : 'none';\n",
              "\n",
              "        async function convertToInteractive(key) {\n",
              "          const element = document.querySelector('#df-f5c37677-a8ed-4224-9709-3f30380a635a');\n",
              "          const dataTable =\n",
              "            await google.colab.kernel.invokeFunction('convertToInteractive',\n",
              "                                                     [key], {});\n",
              "          if (!dataTable) return;\n",
              "\n",
              "          const docLinkHtml = 'Like what you see? Visit the ' +\n",
              "            '<a target=\"_blank\" href=https://colab.research.google.com/notebooks/data_table.ipynb>data table notebook</a>'\n",
              "            + ' to learn more about interactive tables.';\n",
              "          element.innerHTML = '';\n",
              "          dataTable['output_type'] = 'display_data';\n",
              "          await google.colab.output.renderOutput(dataTable, element);\n",
              "          const docLink = document.createElement('div');\n",
              "          docLink.innerHTML = docLinkHtml;\n",
              "          element.appendChild(docLink);\n",
              "        }\n",
              "      </script>\n",
              "    </div>\n",
              "  </div>\n",
              "  "
            ]
          },
          "metadata": {},
          "execution_count": 498
        }
      ]
    },
    {
      "cell_type": "code",
      "source": [
        "cdr_for_itr = cdr[[\"old_33부문\", \"new_3부문및지역\"]]\n",
        "cdr_for_itr.head()"
      ],
      "metadata": {
        "colab": {
          "base_uri": "https://localhost:8080/",
          "height": 206
        },
        "id": "koVuss6guMLX",
        "outputId": "53bdf11c-9fbf-488f-ebae-491f52d57ae9"
      },
      "execution_count": 499,
      "outputs": [
        {
          "output_type": "execute_result",
          "data": {
            "text/plain": [
              "   old_33부문  new_3부문및지역\n",
              "0         1           1\n",
              "1         2           2\n",
              "2         3           2\n",
              "3         4           2\n",
              "4         5           2"
            ],
            "text/html": [
              "\n",
              "  <div id=\"df-18adcdf2-8385-4124-ba0e-b18f082f1e1b\">\n",
              "    <div class=\"colab-df-container\">\n",
              "      <div>\n",
              "<style scoped>\n",
              "    .dataframe tbody tr th:only-of-type {\n",
              "        vertical-align: middle;\n",
              "    }\n",
              "\n",
              "    .dataframe tbody tr th {\n",
              "        vertical-align: top;\n",
              "    }\n",
              "\n",
              "    .dataframe thead th {\n",
              "        text-align: right;\n",
              "    }\n",
              "</style>\n",
              "<table border=\"1\" class=\"dataframe\">\n",
              "  <thead>\n",
              "    <tr style=\"text-align: right;\">\n",
              "      <th></th>\n",
              "      <th>old_33부문</th>\n",
              "      <th>new_3부문및지역</th>\n",
              "    </tr>\n",
              "  </thead>\n",
              "  <tbody>\n",
              "    <tr>\n",
              "      <th>0</th>\n",
              "      <td>1</td>\n",
              "      <td>1</td>\n",
              "    </tr>\n",
              "    <tr>\n",
              "      <th>1</th>\n",
              "      <td>2</td>\n",
              "      <td>2</td>\n",
              "    </tr>\n",
              "    <tr>\n",
              "      <th>2</th>\n",
              "      <td>3</td>\n",
              "      <td>2</td>\n",
              "    </tr>\n",
              "    <tr>\n",
              "      <th>3</th>\n",
              "      <td>4</td>\n",
              "      <td>2</td>\n",
              "    </tr>\n",
              "    <tr>\n",
              "      <th>4</th>\n",
              "      <td>5</td>\n",
              "      <td>2</td>\n",
              "    </tr>\n",
              "  </tbody>\n",
              "</table>\n",
              "</div>\n",
              "      <button class=\"colab-df-convert\" onclick=\"convertToInteractive('df-18adcdf2-8385-4124-ba0e-b18f082f1e1b')\"\n",
              "              title=\"Convert this dataframe to an interactive table.\"\n",
              "              style=\"display:none;\">\n",
              "        \n",
              "  <svg xmlns=\"http://www.w3.org/2000/svg\" height=\"24px\"viewBox=\"0 0 24 24\"\n",
              "       width=\"24px\">\n",
              "    <path d=\"M0 0h24v24H0V0z\" fill=\"none\"/>\n",
              "    <path d=\"M18.56 5.44l.94 2.06.94-2.06 2.06-.94-2.06-.94-.94-2.06-.94 2.06-2.06.94zm-11 1L8.5 8.5l.94-2.06 2.06-.94-2.06-.94L8.5 2.5l-.94 2.06-2.06.94zm10 10l.94 2.06.94-2.06 2.06-.94-2.06-.94-.94-2.06-.94 2.06-2.06.94z\"/><path d=\"M17.41 7.96l-1.37-1.37c-.4-.4-.92-.59-1.43-.59-.52 0-1.04.2-1.43.59L10.3 9.45l-7.72 7.72c-.78.78-.78 2.05 0 2.83L4 21.41c.39.39.9.59 1.41.59.51 0 1.02-.2 1.41-.59l7.78-7.78 2.81-2.81c.8-.78.8-2.07 0-2.86zM5.41 20L4 18.59l7.72-7.72 1.47 1.35L5.41 20z\"/>\n",
              "  </svg>\n",
              "      </button>\n",
              "      \n",
              "  <style>\n",
              "    .colab-df-container {\n",
              "      display:flex;\n",
              "      flex-wrap:wrap;\n",
              "      gap: 12px;\n",
              "    }\n",
              "\n",
              "    .colab-df-convert {\n",
              "      background-color: #E8F0FE;\n",
              "      border: none;\n",
              "      border-radius: 50%;\n",
              "      cursor: pointer;\n",
              "      display: none;\n",
              "      fill: #1967D2;\n",
              "      height: 32px;\n",
              "      padding: 0 0 0 0;\n",
              "      width: 32px;\n",
              "    }\n",
              "\n",
              "    .colab-df-convert:hover {\n",
              "      background-color: #E2EBFA;\n",
              "      box-shadow: 0px 1px 2px rgba(60, 64, 67, 0.3), 0px 1px 3px 1px rgba(60, 64, 67, 0.15);\n",
              "      fill: #174EA6;\n",
              "    }\n",
              "\n",
              "    [theme=dark] .colab-df-convert {\n",
              "      background-color: #3B4455;\n",
              "      fill: #D2E3FC;\n",
              "    }\n",
              "\n",
              "    [theme=dark] .colab-df-convert:hover {\n",
              "      background-color: #434B5C;\n",
              "      box-shadow: 0px 1px 3px 1px rgba(0, 0, 0, 0.15);\n",
              "      filter: drop-shadow(0px 1px 2px rgba(0, 0, 0, 0.3));\n",
              "      fill: #FFFFFF;\n",
              "    }\n",
              "  </style>\n",
              "\n",
              "      <script>\n",
              "        const buttonEl =\n",
              "          document.querySelector('#df-18adcdf2-8385-4124-ba0e-b18f082f1e1b button.colab-df-convert');\n",
              "        buttonEl.style.display =\n",
              "          google.colab.kernel.accessAllowed ? 'block' : 'none';\n",
              "\n",
              "        async function convertToInteractive(key) {\n",
              "          const element = document.querySelector('#df-18adcdf2-8385-4124-ba0e-b18f082f1e1b');\n",
              "          const dataTable =\n",
              "            await google.colab.kernel.invokeFunction('convertToInteractive',\n",
              "                                                     [key], {});\n",
              "          if (!dataTable) return;\n",
              "\n",
              "          const docLinkHtml = 'Like what you see? Visit the ' +\n",
              "            '<a target=\"_blank\" href=https://colab.research.google.com/notebooks/data_table.ipynb>data table notebook</a>'\n",
              "            + ' to learn more about interactive tables.';\n",
              "          element.innerHTML = '';\n",
              "          dataTable['output_type'] = 'display_data';\n",
              "          await google.colab.output.renderOutput(dataTable, element);\n",
              "          const docLink = document.createElement('div');\n",
              "          docLink.innerHTML = docLinkHtml;\n",
              "          element.appendChild(docLink);\n",
              "        }\n",
              "      </script>\n",
              "    </div>\n",
              "  </div>\n",
              "  "
            ]
          },
          "metadata": {},
          "execution_count": 499
        }
      ]
    },
    {
      "cell_type": "code",
      "source": [
        "cd_itr = cdr_for_itr.to_numpy()\n",
        "cd_itr.shape"
      ],
      "metadata": {
        "colab": {
          "base_uri": "https://localhost:8080/"
        },
        "id": "ZFsrVoy2xQOh",
        "outputId": "f2848956-51b7-4c44-b13f-26d8df5bf621"
      },
      "execution_count": 500,
      "outputs": [
        {
          "output_type": "execute_result",
          "data": {
            "text/plain": [
              "(594, 2)"
            ]
          },
          "metadata": {},
          "execution_count": 500
        }
      ]
    },
    {
      "cell_type": "code",
      "source": [
        "row = cd_itr[:,1]\n",
        "col = cd_itr[:,0]\n",
        "col"
      ],
      "metadata": {
        "colab": {
          "base_uri": "https://localhost:8080/"
        },
        "id": "PvHQzpU5xQS9",
        "outputId": "060ac682-32f0-46b5-9cf6-a64d9dd75701"
      },
      "execution_count": 501,
      "outputs": [
        {
          "output_type": "execute_result",
          "data": {
            "text/plain": [
              "array([  1,   2,   3,   4,   5,   6,   7,   8,   9,  10,  11,  12,  13,\n",
              "        14,  15,  16,  17,  18,  19,  20,  21,  22,  23,  24,  25,  26,\n",
              "        27,  28,  29,  30,  31,  32,  33,  34,  35,  36,  37,  38,  39,\n",
              "        40,  41,  42,  43,  44,  45,  46,  47,  48,  49,  50,  51,  52,\n",
              "        53,  54,  55,  56,  57,  58,  59,  60,  61,  62,  63,  64,  65,\n",
              "        66,  67,  68,  69,  70,  71,  72,  73,  74,  75,  76,  77,  78,\n",
              "        79,  80,  81,  82,  83,  84,  85,  86,  87,  88,  89,  90,  91,\n",
              "        92,  93,  94,  95,  96,  97,  98,  99, 100, 101, 102, 103, 104,\n",
              "       105, 106, 107, 108, 109, 110, 111, 112, 113, 114, 115, 116, 117,\n",
              "       118, 119, 120, 121, 122, 123, 124, 125, 126, 127, 128, 129, 130,\n",
              "       131, 132, 133, 134, 135, 136, 137, 138, 139, 140, 141, 142, 143,\n",
              "       144, 145, 146, 147, 148, 149, 150, 151, 152, 153, 154, 155, 156,\n",
              "       157, 158, 159, 160, 161, 162, 163, 164, 165, 166, 167, 168, 169,\n",
              "       170, 171, 172, 173, 174, 175, 176, 177, 178, 179, 180, 181, 182,\n",
              "       183, 184, 185, 186, 187, 188, 189, 190, 191, 192, 193, 194, 195,\n",
              "       196, 197, 198, 199, 200, 201, 202, 203, 204, 205, 206, 207, 208,\n",
              "       209, 210, 211, 212, 213, 214, 215, 216, 217, 218, 219, 220, 221,\n",
              "       222, 223, 224, 225, 226, 227, 228, 229, 230, 231, 232, 233, 234,\n",
              "       235, 236, 237, 238, 239, 240, 241, 242, 243, 244, 245, 246, 247,\n",
              "       248, 249, 250, 251, 252, 253, 254, 255, 256, 257, 258, 259, 260,\n",
              "       261, 262, 263, 264, 265, 266, 267, 268, 269, 270, 271, 272, 273,\n",
              "       274, 275, 276, 277, 278, 279, 280, 281, 282, 283, 284, 285, 286,\n",
              "       287, 288, 289, 290, 291, 292, 293, 294, 295, 296, 297, 298, 299,\n",
              "       300, 301, 302, 303, 304, 305, 306, 307, 308, 309, 310, 311, 312,\n",
              "       313, 314, 315, 316, 317, 318, 319, 320, 321, 322, 323, 324, 325,\n",
              "       326, 327, 328, 329, 330, 331, 332, 333, 334, 335, 336, 337, 338,\n",
              "       339, 340, 341, 342, 343, 344, 345, 346, 347, 348, 349, 350, 351,\n",
              "       352, 353, 354, 355, 356, 357, 358, 359, 360, 361, 362, 363, 364,\n",
              "       365, 366, 367, 368, 369, 370, 371, 372, 373, 374, 375, 376, 377,\n",
              "       378, 379, 380, 381, 382, 383, 384, 385, 386, 387, 388, 389, 390,\n",
              "       391, 392, 393, 394, 395, 396, 397, 398, 399, 400, 401, 402, 403,\n",
              "       404, 405, 406, 407, 408, 409, 410, 411, 412, 413, 414, 415, 416,\n",
              "       417, 418, 419, 420, 421, 422, 423, 424, 425, 426, 427, 428, 429,\n",
              "       430, 431, 432, 433, 434, 435, 436, 437, 438, 439, 440, 441, 442,\n",
              "       443, 444, 445, 446, 447, 448, 449, 450, 451, 452, 453, 454, 455,\n",
              "       456, 457, 458, 459, 460, 461, 462, 463, 464, 465, 466, 467, 468,\n",
              "       469, 470, 471, 472, 473, 474, 475, 476, 477, 478, 479, 480, 481,\n",
              "       482, 483, 484, 485, 486, 487, 488, 489, 490, 491, 492, 493, 494,\n",
              "       495, 496, 497, 498, 499, 500, 501, 502, 503, 504, 505, 506, 507,\n",
              "       508, 509, 510, 511, 512, 513, 514, 515, 516, 517, 518, 519, 520,\n",
              "       521, 522, 523, 524, 525, 526, 527, 528, 529, 530, 531, 532, 533,\n",
              "       534, 535, 536, 537, 538, 539, 540, 541, 542, 543, 544, 545, 546,\n",
              "       547, 548, 549, 550, 551, 552, 553, 554, 555, 556, 557, 558, 559,\n",
              "       560, 561, 562, 563, 564, 565, 566, 567, 568, 569, 570, 571, 572,\n",
              "       573, 574, 575, 576, 577, 578, 579, 580, 581, 582, 583, 584, 585,\n",
              "       586, 587, 588, 589, 590, 591, 592, 593, 594])"
            ]
          },
          "metadata": {},
          "execution_count": 501
        }
      ]
    },
    {
      "cell_type": "code",
      "source": [
        "Mtx = np.zeros((21,594))       # 부문통합을 위한 코드가 많을 경우 상기의 코드를 수작업으로 미리 하는 것이 쉽자 않으므로 반복문을 통해 3x33 임시코드 만들기\n",
        "for i, j in zip(row,col):\n",
        "  Mtx[i-1,j-1] = 1\n",
        "print(Mtx)\n",
        "code_18 = Mtx[:18,:561]"
      ],
      "metadata": {
        "colab": {
          "base_uri": "https://localhost:8080/"
        },
        "id": "54M7TuUPxQXJ",
        "outputId": "0425ac17-b88a-4186-9503-f5d035fbaa6b"
      },
      "execution_count": 502,
      "outputs": [
        {
          "output_type": "stream",
          "name": "stdout",
          "text": [
            "[[1. 0. 0. ... 0. 0. 0.]\n",
            " [0. 1. 1. ... 0. 0. 0.]\n",
            " [0. 0. 0. ... 0. 0. 0.]\n",
            " ...\n",
            " [0. 0. 0. ... 0. 0. 0.]\n",
            " [0. 0. 0. ... 0. 0. 0.]\n",
            " [0. 0. 0. ... 1. 1. 1.]]\n"
          ]
        }
      ]
    },
    {
      "cell_type": "code",
      "source": [
        "code_18.shape"
      ],
      "metadata": {
        "colab": {
          "base_uri": "https://localhost:8080/"
        },
        "id": "QqpzroGUFUGX",
        "outputId": "48d11662-e131-4795-a2f9-cbc2baf22eb1"
      },
      "execution_count": 503,
      "outputs": [
        {
          "output_type": "execute_result",
          "data": {
            "text/plain": [
              "(18, 561)"
            ]
          },
          "metadata": {},
          "execution_count": 503
        }
      ]
    },
    {
      "cell_type": "code",
      "source": [
        "nae_row = code_18@RI_33[:561,:561] # 국산중간투입(수요)의 행을 권역별 3부문으로 만들기\n",
        "nae_row.shape"
      ],
      "metadata": {
        "colab": {
          "base_uri": "https://localhost:8080/"
        },
        "id": "TaBc-2uwxQcH",
        "outputId": "87452258-01e7-444f-9ff9-ac68fcb6527d"
      },
      "execution_count": 504,
      "outputs": [
        {
          "output_type": "execute_result",
          "data": {
            "text/plain": [
              "(18, 561)"
            ]
          },
          "metadata": {},
          "execution_count": 504
        }
      ]
    },
    {
      "cell_type": "code",
      "source": [
        "dom_tot = nae_row@code_18.T  # 18X18 국산거래표\n",
        "print(nae_tot.shape)"
      ],
      "metadata": {
        "colab": {
          "base_uri": "https://localhost:8080/"
        },
        "id": "cyB895fXxQlH",
        "outputId": "f5f1bb6d-f1b7-43f7-d90b-2fc5c890dc4f"
      },
      "execution_count": 505,
      "outputs": [
        {
          "output_type": "stream",
          "name": "stdout",
          "text": [
            "(28, 18)\n"
          ]
        }
      ]
    },
    {
      "cell_type": "code",
      "source": [
        "dom_tot.sum()  # 국산 총중간투입(수요)합으로 체크"
      ],
      "metadata": {
        "colab": {
          "base_uri": "https://localhost:8080/"
        },
        "id": "5rF4uzcQ3Csi",
        "outputId": "c449b215-d1f3-418f-d0c3-a6cbba41c8c7"
      },
      "execution_count": 506,
      "outputs": [
        {
          "output_type": "execute_result",
          "data": {
            "text/plain": [
              "1718868914.9999511"
            ]
          },
          "metadata": {},
          "execution_count": 506
        }
      ]
    },
    {
      "cell_type": "markdown",
      "source": [
        "### 수입거래표 통합하기"
      ],
      "metadata": {
        "id": "KppLR2bMX3YP"
      }
    },
    {
      "cell_type": "code",
      "source": [
        "cd_im_rw = \"https://raw.githubusercontent.com/Tom-Jung/legendary-funicular/main/code.csv\"  # 코드매치 파일\n",
        "cd_i_rw = pd.read_csv(cd_im_rw)\n",
        "cd_ir_itr = cd_i_rw.to_numpy().reshape(33,2)\n",
        "row_i = cd_ir_itr[:,1]\n",
        "col_i = cd_ir_itr[:,0]\n",
        "col_i"
      ],
      "metadata": {
        "colab": {
          "base_uri": "https://localhost:8080/"
        },
        "id": "xXZyF0UpYDGZ",
        "outputId": "b35d4a3b-1d1d-4697-b542-da03a3825dda"
      },
      "execution_count": 507,
      "outputs": [
        {
          "output_type": "execute_result",
          "data": {
            "text/plain": [
              "array([ 1,  2,  3,  4,  5,  6,  7,  8,  9, 10, 11, 12, 13, 14, 15, 16, 17,\n",
              "       18, 19, 20, 21, 22, 23, 24, 25, 26, 27, 28, 29, 30, 31, 32, 33])"
            ]
          },
          "metadata": {},
          "execution_count": 507
        }
      ]
    },
    {
      "cell_type": "code",
      "source": [
        "Mtx_i = np.zeros((3,33))       # 부문통합을 위한 코드가 많을 경우 상기의 코드를 수작업으로 미리 하는 것이 쉽자 않으므로 반복문을 통해 3x33 임시코드 만들기\n",
        "for i, j in zip(row_i,col_i):\n",
        "  Mtx_i[i-1,j-1] = 1\n",
        "code_3 = Mtx_i\n",
        "code_3"
      ],
      "metadata": {
        "colab": {
          "base_uri": "https://localhost:8080/"
        },
        "id": "bpzYTa2_YDUN",
        "outputId": "95d68516-ad14-457a-d4b5-1a40fd0d7640"
      },
      "execution_count": 508,
      "outputs": [
        {
          "output_type": "execute_result",
          "data": {
            "text/plain": [
              "array([[1., 0., 0., 0., 0., 0., 0., 0., 0., 0., 0., 0., 0., 0., 0., 0.,\n",
              "        0., 0., 0., 0., 0., 0., 0., 0., 0., 0., 0., 0., 0., 0., 0., 0.,\n",
              "        0.],\n",
              "       [0., 1., 1., 1., 1., 1., 1., 1., 1., 1., 1., 1., 1., 1., 1., 1.,\n",
              "        0., 0., 0., 0., 0., 0., 0., 0., 0., 0., 0., 0., 0., 0., 0., 0.,\n",
              "        0.],\n",
              "       [0., 0., 0., 0., 0., 0., 0., 0., 0., 0., 0., 0., 0., 0., 0., 0.,\n",
              "        1., 1., 1., 1., 1., 1., 1., 1., 1., 1., 1., 1., 1., 1., 1., 1.,\n",
              "        1.]])"
            ]
          },
          "metadata": {},
          "execution_count": 508
        }
      ]
    },
    {
      "cell_type": "code",
      "source": [
        "imp_row = code_3@RI_33[562:595,0:561]@code_18.T # 3X18 수입거래표\n",
        "imp_row.sum()"
      ],
      "metadata": {
        "colab": {
          "base_uri": "https://localhost:8080/"
        },
        "id": "PHhJgNKwW7vb",
        "outputId": "c74afeec-e94e-44e0-e0f6-35f3bd2097bd"
      },
      "execution_count": 509,
      "outputs": [
        {
          "output_type": "execute_result",
          "data": {
            "text/plain": [
              "477242497.0"
            ]
          },
          "metadata": {},
          "execution_count": 509
        }
      ]
    },
    {
      "cell_type": "markdown",
      "source": [
        "### 최종수요 통합하기"
      ],
      "metadata": {
        "id": "mEbcG1fOchKm"
      }
    },
    {
      "cell_type": "code",
      "source": [
        "cd_fd = \"https://raw.githubusercontent.com/Tom-Jung/legendary-funicular/main/code_%EC%A7%80%EC%97%ADIO_%EC%B5%9C%EC%A2%85%EC%88%98%EC%9A%94.csv\"  # 코드매치 파일\n",
        "cd_fd1 = pd.read_csv(cd_fd)\n",
        "cd_fd1.head()\n",
        "# cd_fd2 = cd_fd1.to_numpy()\n",
        "# row_fd = cd_fd2[:,1]\n",
        "# col_fd = cd_fd2[:,0]\n",
        "# row_fd"
      ],
      "metadata": {
        "colab": {
          "base_uri": "https://localhost:8080/",
          "height": 206
        },
        "id": "EgPdo35oW70Z",
        "outputId": "8629eca4-50d8-43c8-c3f4-45f534b28bb6"
      },
      "execution_count": 510,
      "outputs": [
        {
          "output_type": "execute_result",
          "data": {
            "text/plain": [
              "   권역  항목코드                          항목  old_33부문  new_3부문및지역\n",
              "0  서울  9111  민간소비지출\\n(가계 및 가계봉사\\n비영리단체)         1           1\n",
              "1  서울  9112                      정부소비지출         2           1\n",
              "2  서울  9121                  민간고정\\n자본형성         3           2\n",
              "3  서울  9122                  정부고정\\n자본형성         4           2\n",
              "4  서울  9131                        재고증감         5           2"
            ],
            "text/html": [
              "\n",
              "  <div id=\"df-3731f7ec-1e3c-4b9a-8481-52eebd6435c7\">\n",
              "    <div class=\"colab-df-container\">\n",
              "      <div>\n",
              "<style scoped>\n",
              "    .dataframe tbody tr th:only-of-type {\n",
              "        vertical-align: middle;\n",
              "    }\n",
              "\n",
              "    .dataframe tbody tr th {\n",
              "        vertical-align: top;\n",
              "    }\n",
              "\n",
              "    .dataframe thead th {\n",
              "        text-align: right;\n",
              "    }\n",
              "</style>\n",
              "<table border=\"1\" class=\"dataframe\">\n",
              "  <thead>\n",
              "    <tr style=\"text-align: right;\">\n",
              "      <th></th>\n",
              "      <th>권역</th>\n",
              "      <th>항목코드</th>\n",
              "      <th>항목</th>\n",
              "      <th>old_33부문</th>\n",
              "      <th>new_3부문및지역</th>\n",
              "    </tr>\n",
              "  </thead>\n",
              "  <tbody>\n",
              "    <tr>\n",
              "      <th>0</th>\n",
              "      <td>서울</td>\n",
              "      <td>9111</td>\n",
              "      <td>민간소비지출\\n(가계 및 가계봉사\\n비영리단체)</td>\n",
              "      <td>1</td>\n",
              "      <td>1</td>\n",
              "    </tr>\n",
              "    <tr>\n",
              "      <th>1</th>\n",
              "      <td>서울</td>\n",
              "      <td>9112</td>\n",
              "      <td>정부소비지출</td>\n",
              "      <td>2</td>\n",
              "      <td>1</td>\n",
              "    </tr>\n",
              "    <tr>\n",
              "      <th>2</th>\n",
              "      <td>서울</td>\n",
              "      <td>9121</td>\n",
              "      <td>민간고정\\n자본형성</td>\n",
              "      <td>3</td>\n",
              "      <td>2</td>\n",
              "    </tr>\n",
              "    <tr>\n",
              "      <th>3</th>\n",
              "      <td>서울</td>\n",
              "      <td>9122</td>\n",
              "      <td>정부고정\\n자본형성</td>\n",
              "      <td>4</td>\n",
              "      <td>2</td>\n",
              "    </tr>\n",
              "    <tr>\n",
              "      <th>4</th>\n",
              "      <td>서울</td>\n",
              "      <td>9131</td>\n",
              "      <td>재고증감</td>\n",
              "      <td>5</td>\n",
              "      <td>2</td>\n",
              "    </tr>\n",
              "  </tbody>\n",
              "</table>\n",
              "</div>\n",
              "      <button class=\"colab-df-convert\" onclick=\"convertToInteractive('df-3731f7ec-1e3c-4b9a-8481-52eebd6435c7')\"\n",
              "              title=\"Convert this dataframe to an interactive table.\"\n",
              "              style=\"display:none;\">\n",
              "        \n",
              "  <svg xmlns=\"http://www.w3.org/2000/svg\" height=\"24px\"viewBox=\"0 0 24 24\"\n",
              "       width=\"24px\">\n",
              "    <path d=\"M0 0h24v24H0V0z\" fill=\"none\"/>\n",
              "    <path d=\"M18.56 5.44l.94 2.06.94-2.06 2.06-.94-2.06-.94-.94-2.06-.94 2.06-2.06.94zm-11 1L8.5 8.5l.94-2.06 2.06-.94-2.06-.94L8.5 2.5l-.94 2.06-2.06.94zm10 10l.94 2.06.94-2.06 2.06-.94-2.06-.94-.94-2.06-.94 2.06-2.06.94z\"/><path d=\"M17.41 7.96l-1.37-1.37c-.4-.4-.92-.59-1.43-.59-.52 0-1.04.2-1.43.59L10.3 9.45l-7.72 7.72c-.78.78-.78 2.05 0 2.83L4 21.41c.39.39.9.59 1.41.59.51 0 1.02-.2 1.41-.59l7.78-7.78 2.81-2.81c.8-.78.8-2.07 0-2.86zM5.41 20L4 18.59l7.72-7.72 1.47 1.35L5.41 20z\"/>\n",
              "  </svg>\n",
              "      </button>\n",
              "      \n",
              "  <style>\n",
              "    .colab-df-container {\n",
              "      display:flex;\n",
              "      flex-wrap:wrap;\n",
              "      gap: 12px;\n",
              "    }\n",
              "\n",
              "    .colab-df-convert {\n",
              "      background-color: #E8F0FE;\n",
              "      border: none;\n",
              "      border-radius: 50%;\n",
              "      cursor: pointer;\n",
              "      display: none;\n",
              "      fill: #1967D2;\n",
              "      height: 32px;\n",
              "      padding: 0 0 0 0;\n",
              "      width: 32px;\n",
              "    }\n",
              "\n",
              "    .colab-df-convert:hover {\n",
              "      background-color: #E2EBFA;\n",
              "      box-shadow: 0px 1px 2px rgba(60, 64, 67, 0.3), 0px 1px 3px 1px rgba(60, 64, 67, 0.15);\n",
              "      fill: #174EA6;\n",
              "    }\n",
              "\n",
              "    [theme=dark] .colab-df-convert {\n",
              "      background-color: #3B4455;\n",
              "      fill: #D2E3FC;\n",
              "    }\n",
              "\n",
              "    [theme=dark] .colab-df-convert:hover {\n",
              "      background-color: #434B5C;\n",
              "      box-shadow: 0px 1px 3px 1px rgba(0, 0, 0, 0.15);\n",
              "      filter: drop-shadow(0px 1px 2px rgba(0, 0, 0, 0.3));\n",
              "      fill: #FFFFFF;\n",
              "    }\n",
              "  </style>\n",
              "\n",
              "      <script>\n",
              "        const buttonEl =\n",
              "          document.querySelector('#df-3731f7ec-1e3c-4b9a-8481-52eebd6435c7 button.colab-df-convert');\n",
              "        buttonEl.style.display =\n",
              "          google.colab.kernel.accessAllowed ? 'block' : 'none';\n",
              "\n",
              "        async function convertToInteractive(key) {\n",
              "          const element = document.querySelector('#df-3731f7ec-1e3c-4b9a-8481-52eebd6435c7');\n",
              "          const dataTable =\n",
              "            await google.colab.kernel.invokeFunction('convertToInteractive',\n",
              "                                                     [key], {});\n",
              "          if (!dataTable) return;\n",
              "\n",
              "          const docLinkHtml = 'Like what you see? Visit the ' +\n",
              "            '<a target=\"_blank\" href=https://colab.research.google.com/notebooks/data_table.ipynb>data table notebook</a>'\n",
              "            + ' to learn more about interactive tables.';\n",
              "          element.innerHTML = '';\n",
              "          dataTable['output_type'] = 'display_data';\n",
              "          await google.colab.output.renderOutput(dataTable, element);\n",
              "          const docLink = document.createElement('div');\n",
              "          docLink.innerHTML = docLinkHtml;\n",
              "          element.appendChild(docLink);\n",
              "        }\n",
              "      </script>\n",
              "    </div>\n",
              "  </div>\n",
              "  "
            ]
          },
          "metadata": {},
          "execution_count": 510
        }
      ]
    },
    {
      "cell_type": "code",
      "source": [
        "cd_fd2 = cd_fd1[[\"old_33부문\", \"new_3부문및지역\"]]\n",
        "cd_fd2.head()"
      ],
      "metadata": {
        "colab": {
          "base_uri": "https://localhost:8080/",
          "height": 206
        },
        "id": "M4kJl177dZwE",
        "outputId": "4f041f4e-37bb-4b70-e9c7-c00ef4c5bce1"
      },
      "execution_count": 511,
      "outputs": [
        {
          "output_type": "execute_result",
          "data": {
            "text/plain": [
              "   old_33부문  new_3부문및지역\n",
              "0         1           1\n",
              "1         2           1\n",
              "2         3           2\n",
              "3         4           2\n",
              "4         5           2"
            ],
            "text/html": [
              "\n",
              "  <div id=\"df-a4082c5e-eaa5-4cb4-880c-cceb613a7da8\">\n",
              "    <div class=\"colab-df-container\">\n",
              "      <div>\n",
              "<style scoped>\n",
              "    .dataframe tbody tr th:only-of-type {\n",
              "        vertical-align: middle;\n",
              "    }\n",
              "\n",
              "    .dataframe tbody tr th {\n",
              "        vertical-align: top;\n",
              "    }\n",
              "\n",
              "    .dataframe thead th {\n",
              "        text-align: right;\n",
              "    }\n",
              "</style>\n",
              "<table border=\"1\" class=\"dataframe\">\n",
              "  <thead>\n",
              "    <tr style=\"text-align: right;\">\n",
              "      <th></th>\n",
              "      <th>old_33부문</th>\n",
              "      <th>new_3부문및지역</th>\n",
              "    </tr>\n",
              "  </thead>\n",
              "  <tbody>\n",
              "    <tr>\n",
              "      <th>0</th>\n",
              "      <td>1</td>\n",
              "      <td>1</td>\n",
              "    </tr>\n",
              "    <tr>\n",
              "      <th>1</th>\n",
              "      <td>2</td>\n",
              "      <td>1</td>\n",
              "    </tr>\n",
              "    <tr>\n",
              "      <th>2</th>\n",
              "      <td>3</td>\n",
              "      <td>2</td>\n",
              "    </tr>\n",
              "    <tr>\n",
              "      <th>3</th>\n",
              "      <td>4</td>\n",
              "      <td>2</td>\n",
              "    </tr>\n",
              "    <tr>\n",
              "      <th>4</th>\n",
              "      <td>5</td>\n",
              "      <td>2</td>\n",
              "    </tr>\n",
              "  </tbody>\n",
              "</table>\n",
              "</div>\n",
              "      <button class=\"colab-df-convert\" onclick=\"convertToInteractive('df-a4082c5e-eaa5-4cb4-880c-cceb613a7da8')\"\n",
              "              title=\"Convert this dataframe to an interactive table.\"\n",
              "              style=\"display:none;\">\n",
              "        \n",
              "  <svg xmlns=\"http://www.w3.org/2000/svg\" height=\"24px\"viewBox=\"0 0 24 24\"\n",
              "       width=\"24px\">\n",
              "    <path d=\"M0 0h24v24H0V0z\" fill=\"none\"/>\n",
              "    <path d=\"M18.56 5.44l.94 2.06.94-2.06 2.06-.94-2.06-.94-.94-2.06-.94 2.06-2.06.94zm-11 1L8.5 8.5l.94-2.06 2.06-.94-2.06-.94L8.5 2.5l-.94 2.06-2.06.94zm10 10l.94 2.06.94-2.06 2.06-.94-2.06-.94-.94-2.06-.94 2.06-2.06.94z\"/><path d=\"M17.41 7.96l-1.37-1.37c-.4-.4-.92-.59-1.43-.59-.52 0-1.04.2-1.43.59L10.3 9.45l-7.72 7.72c-.78.78-.78 2.05 0 2.83L4 21.41c.39.39.9.59 1.41.59.51 0 1.02-.2 1.41-.59l7.78-7.78 2.81-2.81c.8-.78.8-2.07 0-2.86zM5.41 20L4 18.59l7.72-7.72 1.47 1.35L5.41 20z\"/>\n",
              "  </svg>\n",
              "      </button>\n",
              "      \n",
              "  <style>\n",
              "    .colab-df-container {\n",
              "      display:flex;\n",
              "      flex-wrap:wrap;\n",
              "      gap: 12px;\n",
              "    }\n",
              "\n",
              "    .colab-df-convert {\n",
              "      background-color: #E8F0FE;\n",
              "      border: none;\n",
              "      border-radius: 50%;\n",
              "      cursor: pointer;\n",
              "      display: none;\n",
              "      fill: #1967D2;\n",
              "      height: 32px;\n",
              "      padding: 0 0 0 0;\n",
              "      width: 32px;\n",
              "    }\n",
              "\n",
              "    .colab-df-convert:hover {\n",
              "      background-color: #E2EBFA;\n",
              "      box-shadow: 0px 1px 2px rgba(60, 64, 67, 0.3), 0px 1px 3px 1px rgba(60, 64, 67, 0.15);\n",
              "      fill: #174EA6;\n",
              "    }\n",
              "\n",
              "    [theme=dark] .colab-df-convert {\n",
              "      background-color: #3B4455;\n",
              "      fill: #D2E3FC;\n",
              "    }\n",
              "\n",
              "    [theme=dark] .colab-df-convert:hover {\n",
              "      background-color: #434B5C;\n",
              "      box-shadow: 0px 1px 3px 1px rgba(0, 0, 0, 0.15);\n",
              "      filter: drop-shadow(0px 1px 2px rgba(0, 0, 0, 0.3));\n",
              "      fill: #FFFFFF;\n",
              "    }\n",
              "  </style>\n",
              "\n",
              "      <script>\n",
              "        const buttonEl =\n",
              "          document.querySelector('#df-a4082c5e-eaa5-4cb4-880c-cceb613a7da8 button.colab-df-convert');\n",
              "        buttonEl.style.display =\n",
              "          google.colab.kernel.accessAllowed ? 'block' : 'none';\n",
              "\n",
              "        async function convertToInteractive(key) {\n",
              "          const element = document.querySelector('#df-a4082c5e-eaa5-4cb4-880c-cceb613a7da8');\n",
              "          const dataTable =\n",
              "            await google.colab.kernel.invokeFunction('convertToInteractive',\n",
              "                                                     [key], {});\n",
              "          if (!dataTable) return;\n",
              "\n",
              "          const docLinkHtml = 'Like what you see? Visit the ' +\n",
              "            '<a target=\"_blank\" href=https://colab.research.google.com/notebooks/data_table.ipynb>data table notebook</a>'\n",
              "            + ' to learn more about interactive tables.';\n",
              "          element.innerHTML = '';\n",
              "          dataTable['output_type'] = 'display_data';\n",
              "          await google.colab.output.renderOutput(dataTable, element);\n",
              "          const docLink = document.createElement('div');\n",
              "          docLink.innerHTML = docLinkHtml;\n",
              "          element.appendChild(docLink);\n",
              "        }\n",
              "      </script>\n",
              "    </div>\n",
              "  </div>\n",
              "  "
            ]
          },
          "metadata": {},
          "execution_count": 511
        }
      ]
    },
    {
      "cell_type": "code",
      "source": [
        "cd_fd3 = cd_fd2.to_numpy()\n",
        "cd_fd3.shape"
      ],
      "metadata": {
        "colab": {
          "base_uri": "https://localhost:8080/"
        },
        "id": "VVbArAZidZ4c",
        "outputId": "b58cce55-2f93-4bc4-986a-ea98c837f0c6"
      },
      "execution_count": 512,
      "outputs": [
        {
          "output_type": "execute_result",
          "data": {
            "text/plain": [
              "(119, 2)"
            ]
          },
          "metadata": {},
          "execution_count": 512
        }
      ]
    },
    {
      "cell_type": "code",
      "source": [
        "row_fd = cd_fd3[:,1]\n",
        "col_fd = cd_fd3[:,0]\n",
        "col_fd"
      ],
      "metadata": {
        "colab": {
          "base_uri": "https://localhost:8080/"
        },
        "id": "35qjdfaydZ9V",
        "outputId": "ef761f3c-ec83-4885-b5e3-7e8754ddc75a"
      },
      "execution_count": 513,
      "outputs": [
        {
          "output_type": "execute_result",
          "data": {
            "text/plain": [
              "array([  1,   2,   3,   4,   5,   6,   7,   8,   9,  10,  11,  12,  13,\n",
              "        14,  15,  16,  17,  18,  19,  20,  21,  22,  23,  24,  25,  26,\n",
              "        27,  28,  29,  30,  31,  32,  33,  34,  35,  36,  37,  38,  39,\n",
              "        40,  41,  42,  43,  44,  45,  46,  47,  48,  49,  50,  51,  52,\n",
              "        53,  54,  55,  56,  57,  58,  59,  60,  61,  62,  63,  64,  65,\n",
              "        66,  67,  68,  69,  70,  71,  72,  73,  74,  75,  76,  77,  78,\n",
              "        79,  80,  81,  82,  83,  84,  85,  86,  87,  88,  89,  90,  91,\n",
              "        92,  93,  94,  95,  96,  97,  98,  99, 100, 101, 102, 103, 104,\n",
              "       105, 106, 107, 108, 109, 110, 111, 112, 113, 114, 115, 116, 117,\n",
              "       118, 119])"
            ]
          },
          "metadata": {},
          "execution_count": 513
        }
      ]
    },
    {
      "cell_type": "code",
      "source": [
        "Mtx_fd = np.zeros((21,119))       # 7가지 최종수요 항목을 소비, 투자, 수출로 통합\n",
        "for i, j in zip(row_fd,col_fd):\n",
        "  Mtx_fd[i-1,j-1] = 1\n",
        "print(Mtx_fd)\n",
        "code_fd_18 = Mtx_fd[:18,:119]\n",
        "print(code_fd_18.shape)"
      ],
      "metadata": {
        "colab": {
          "base_uri": "https://localhost:8080/"
        },
        "id": "JFEd7h1tdaBH",
        "outputId": "e86da805-4b4c-4ee4-a007-7e193c5600ae"
      },
      "execution_count": 514,
      "outputs": [
        {
          "output_type": "stream",
          "name": "stdout",
          "text": [
            "[[1. 1. 0. ... 0. 0. 0.]\n",
            " [0. 0. 1. ... 0. 0. 0.]\n",
            " [0. 0. 0. ... 0. 0. 0.]\n",
            " ...\n",
            " [0. 0. 0. ... 0. 0. 0.]\n",
            " [0. 0. 0. ... 0. 0. 0.]\n",
            " [0. 0. 0. ... 0. 0. 0.]]\n",
            "(18, 119)\n"
          ]
        }
      ]
    },
    {
      "cell_type": "code",
      "source": [
        "Fd_dom = RI_33[:561,562:681].astype(float)\n",
        "Fd_imp = RI_33[562:595,562:681].astype(float)\n",
        "print(Fd_dom.sum())\n",
        "print(Fd_imp.sum())\n",
        "print(Fd_dom.shape)"
      ],
      "metadata": {
        "colab": {
          "base_uri": "https://localhost:8080/"
        },
        "id": "JKWincbTdaEq",
        "outputId": "4d4c9c9c-51f3-4a94-a614-7569103fb00b"
      },
      "execution_count": 515,
      "outputs": [
        {
          "output_type": "stream",
          "name": "stdout",
          "text": [
            "2114693165.0\n",
            "146759866.0\n",
            "(561, 119)\n"
          ]
        }
      ]
    },
    {
      "cell_type": "code",
      "source": [
        "Fd_dom_3 = (code_18@Fd_dom)@code_fd_18.T\n",
        "Fd_dom_3.shape"
      ],
      "metadata": {
        "colab": {
          "base_uri": "https://localhost:8080/"
        },
        "id": "y6l3Eu_IpEBZ",
        "outputId": "5b034dee-3f4b-40c9-90a1-91b372d442b6"
      },
      "execution_count": 516,
      "outputs": [
        {
          "output_type": "execute_result",
          "data": {
            "text/plain": [
              "(18, 18)"
            ]
          },
          "metadata": {},
          "execution_count": 516
        }
      ]
    },
    {
      "cell_type": "code",
      "source": [
        "Fd_imp_3 = (code_3@Fd_imp)@code_fd_18.T\n",
        "Fd_imp_3.shape"
      ],
      "metadata": {
        "colab": {
          "base_uri": "https://localhost:8080/"
        },
        "id": "o4_7_IjwdaKA",
        "outputId": "7e4b1f51-2259-4315-dbec-a3486f35e191"
      },
      "execution_count": 517,
      "outputs": [
        {
          "output_type": "execute_result",
          "data": {
            "text/plain": [
              "(3, 18)"
            ]
          },
          "metadata": {},
          "execution_count": 517
        }
      ]
    },
    {
      "cell_type": "code",
      "source": [
        "print(Fd_dom_3.sum())\n",
        "print(Fd_imp_3.sum())"
      ],
      "metadata": {
        "colab": {
          "base_uri": "https://localhost:8080/"
        },
        "id": "QC54ZCNh1d3P",
        "outputId": "6c1575bf-a99c-49ef-864f-a840378ab94f"
      },
      "execution_count": 518,
      "outputs": [
        {
          "output_type": "stream",
          "name": "stdout",
          "text": [
            "2114693165.0\n",
            "146759866.0\n"
          ]
        }
      ]
    },
    {
      "cell_type": "code",
      "source": [
        "fd_col_sm= (RI_33[596,562:681]@code_fd_18.T).reshape([1,18]) # 국산 및 수입최종수요 열합\n",
        "fd_col_sm.sum()"
      ],
      "metadata": {
        "colab": {
          "base_uri": "https://localhost:8080/"
        },
        "id": "Cg0av2sVv_wK",
        "outputId": "f9539c78-852e-4bcb-b301-f35c32477d6f"
      },
      "execution_count": 519,
      "outputs": [
        {
          "output_type": "execute_result",
          "data": {
            "text/plain": [
              "2261453031.0"
            ]
          },
          "metadata": {},
          "execution_count": 519
        }
      ]
    },
    {
      "cell_type": "code",
      "source": [
        "fd_each = np.concatenate((Fd_dom_3, Fd_imp_3,fd_col_sm, np.zeros((6,18))), axis=0) # 각 지역의 최종수요와 아래에 0 붙이기\n",
        "fd_each"
      ],
      "metadata": {
        "colab": {
          "base_uri": "https://localhost:8080/"
        },
        "id": "WzCZofQ0wq0n",
        "outputId": "3580cb83-290b-42d8-aa18-a4d9037999e1"
      },
      "execution_count": 520,
      "outputs": [
        {
          "output_type": "execute_result",
          "data": {
            "text/plain": [
              "array([[ 1.16718466e+06,  1.02705863e+05,  7.99490000e+04,\n",
              "         1.01848271e+05,  1.59391681e+04,  0.00000000e+00,\n",
              "         5.93496104e+04,  3.34824891e+03,  0.00000000e+00,\n",
              "         1.13162020e+05,  8.52201482e+03,  0.00000000e+00,\n",
              "         2.88496576e+04,  6.01677645e+03,  0.00000000e+00,\n",
              "         4.16206029e+03,  7.33675321e+02,  0.00000000e+00],\n",
              "       [ 2.90314734e+07,  2.08457914e+07,  2.14607639e+08,\n",
              "         3.74066972e+06,  4.60007920e+06,  0.00000000e+00,\n",
              "         3.17826901e+06,  2.96669260e+06,  0.00000000e+00,\n",
              "         8.19648079e+06,  5.56334885e+06,  0.00000000e+00,\n",
              "         9.98994491e+05,  6.12031432e+05,  0.00000000e+00,\n",
              "         4.20829065e+05,  1.58961748e+05,  0.00000000e+00],\n",
              "       [ 3.87364237e+08,  1.64095140e+08,  6.72619170e+07,\n",
              "         1.69323770e+07,  7.06149846e+06,  0.00000000e+00,\n",
              "         1.24694604e+07,  3.77259144e+06,  0.00000000e+00,\n",
              "         2.70920739e+07,  1.14124637e+07,  0.00000000e+00,\n",
              "         5.90156856e+06,  1.14881092e+06,  0.00000000e+00,\n",
              "         1.55162024e+06,  2.41812508e+05,  0.00000000e+00],\n",
              "       [ 1.24241022e+06,  3.99108438e+04,  0.00000000e+00,\n",
              "         5.24055542e+05,  2.58922150e+05,  9.02770000e+04,\n",
              "         1.30718124e+05,  1.67596538e+04,  0.00000000e+00,\n",
              "         2.44353937e+05,  1.76999378e+04,  0.00000000e+00,\n",
              "         4.75910624e+04,  5.18188751e+03,  0.00000000e+00,\n",
              "         6.82005152e+03,  1.00805015e+03,  0.00000000e+00],\n",
              "       [ 8.26035867e+06,  5.76852917e+06,  0.00000000e+00,\n",
              "         7.50780203e+06,  2.36350133e+06,  9.85985730e+07,\n",
              "         1.50420338e+06,  8.56357265e+05,  0.00000000e+00,\n",
              "         3.25995734e+06,  1.73432484e+06,  0.00000000e+00,\n",
              "         5.70224608e+05,  2.02439109e+05,  0.00000000e+00,\n",
              "         1.63325580e+05,  5.84154089e+04,  0.00000000e+00],\n",
              "       [ 8.81981843e+06,  2.30360365e+06,  0.00000000e+00,\n",
              "         6.52533415e+07,  3.97590924e+07,  4.31393900e+06,\n",
              "         1.34628730e+06,  2.78934139e+05,  0.00000000e+00,\n",
              "         2.29094738e+06,  4.18181140e+05,  0.00000000e+00,\n",
              "         4.37322802e+05,  3.57227709e+04,  0.00000000e+00,\n",
              "         1.20218401e+05,  2.06389604e+04,  0.00000000e+00],\n",
              "       [ 1.61907454e+06,  3.05840254e+04,  0.00000000e+00,\n",
              "         3.19859096e+05,  2.24618091e+04,  0.00000000e+00,\n",
              "         8.88880406e+05,  3.96981803e+05,  1.97648000e+05,\n",
              "         5.69144491e+05,  3.48516741e+04,  0.00000000e+00,\n",
              "         6.30051380e+04,  2.47871909e+03,  0.00000000e+00,\n",
              "         8.86718216e+03,  1.61644811e+03,  0.00000000e+00],\n",
              "       [ 6.42674889e+06,  3.04651678e+06,  0.00000000e+00,\n",
              "         1.30880887e+06,  9.42492855e+05,  0.00000000e+00,\n",
              "         4.49686753e+06,  5.44314188e+05,  6.86744710e+07,\n",
              "         2.10135569e+06,  1.38160378e+06,  0.00000000e+00,\n",
              "         7.77280815e+05,  3.96293925e+05,  0.00000000e+00,\n",
              "         1.84314846e+05,  6.50453947e+04,  0.00000000e+00],\n",
              "       [ 4.48564225e+06,  1.05800585e+06,  0.00000000e+00,\n",
              "         1.72255409e+06,  7.88209212e+04,  0.00000000e+00,\n",
              "         6.85188718e+07,  2.61067716e+07,  6.60441800e+06,\n",
              "         1.62635115e+06,  9.58197932e+04,  0.00000000e+00,\n",
              "         2.30426438e+05,  5.80439992e+03,  0.00000000e+00,\n",
              "         2.64636986e+05,  7.48699778e+04,  0.00000000e+00],\n",
              "       [ 2.06464952e+06,  3.12693310e+04,  0.00000000e+00,\n",
              "         3.69414977e+05,  1.67406405e+04,  0.00000000e+00,\n",
              "         2.67473034e+05,  8.05835875e+03,  0.00000000e+00,\n",
              "         2.21643056e+06,  4.59960362e+05,  2.37856000e+05,\n",
              "         1.61522646e+05,  5.52890794e+03,  0.00000000e+00,\n",
              "         1.05785540e+04,  1.50663401e+03,  0.00000000e+00],\n",
              "       [ 1.89380615e+07,  1.43151798e+07,  0.00000000e+00,\n",
              "         3.12971320e+06,  3.87850562e+06,  0.00000000e+00,\n",
              "         3.55194251e+06,  2.85317659e+06,  0.00000000e+00,\n",
              "         1.73549066e+07,  1.01241147e+07,  2.23906015e+08,\n",
              "         1.02025837e+06,  1.00053457e+06,  0.00000000e+00,\n",
              "         5.15065391e+05,  1.70802220e+05,  0.00000000e+00],\n",
              "       [ 7.52729808e+06,  1.90534046e+06,  0.00000000e+00,\n",
              "         2.15587126e+06,  9.20319531e+05,  0.00000000e+00,\n",
              "         1.60755019e+06,  2.39685804e+05,  0.00000000e+00,\n",
              "         1.69242445e+08,  6.61992496e+07,  2.47954200e+07,\n",
              "         5.75680250e+05,  2.57978494e+04,  0.00000000e+00,\n",
              "         2.75917265e+05,  2.09938949e+04,  0.00000000e+00],\n",
              "       [ 4.93585057e+05,  2.16125644e+04,  0.00000000e+00,\n",
              "         8.84744188e+04,  1.17101113e+04,  0.00000000e+00,\n",
              "         6.49988994e+04,  4.07648309e+03,  0.00000000e+00,\n",
              "         1.81135268e+05,  1.78054137e+04,  0.00000000e+00,\n",
              "         1.03909686e+05,  1.07027710e+05,  3.18270000e+04,\n",
              "         9.47385038e+03,  1.61783928e+03,  0.00000000e+00],\n",
              "       [ 9.83370318e+05,  2.26022796e+05,  0.00000000e+00,\n",
              "         1.07675046e+05,  3.77013187e+04,  0.00000000e+00,\n",
              "         7.14143594e+04,  2.06979048e+04,  0.00000000e+00,\n",
              "         2.84012982e+05,  3.77159288e+04,  0.00000000e+00,\n",
              "         6.22366283e+05,  3.51285965e+04,  2.53811600e+06,\n",
              "         1.18257228e+04, -5.22371767e+02,  0.00000000e+00],\n",
              "       [ 3.45006783e+06,  4.28310814e+05,  0.00000000e+00,\n",
              "         5.54238922e+05,  2.37360274e+04,  0.00000000e+00,\n",
              "         2.80481210e+05,  1.28937099e+04,  0.00000000e+00,\n",
              "         8.97443327e+05,  2.94922292e+04,  0.00000000e+00,\n",
              "         2.30760733e+07,  1.02503540e+07,  1.10607200e+06,\n",
              "         3.11867630e+04,  2.87443909e+03,  0.00000000e+00],\n",
              "       [ 4.72955528e+05,  2.60122506e+03,  0.00000000e+00,\n",
              "         9.11679057e+04,  9.05561287e+02,  0.00000000e+00,\n",
              "         7.51813815e+04, -8.35527410e+00,  0.00000000e+00,\n",
              "         1.80570711e+05,  2.23509457e+03,  0.00000000e+00,\n",
              "         2.33793201e+04, -1.33071171e+02,  0.00000000e+00,\n",
              "         1.36472615e+05,  1.47754403e+04,  4.95700000e+04],\n",
              "       [ 2.19754735e+05,  1.47190780e+04,  0.00000000e+00,\n",
              "         1.84040863e+04,  3.22381906e+03,  0.00000000e+00,\n",
              "         1.64729914e+04,  6.31141022e+03,  0.00000000e+00,\n",
              "         6.72779202e+04,  5.34957388e+03,  0.00000000e+00,\n",
              "         3.88755787e+03, -8.64713861e+01,  0.00000000e+00,\n",
              "         9.36817026e+04,  8.20659651e+03,  2.87497000e+05],\n",
              "       [ 1.58285675e+06,  2.00524862e+05,  0.00000000e+00,\n",
              "         3.23378038e+05,  5.58720533e+04,  0.00000000e+00,\n",
              "         6.17444814e+05,  1.80336174e+05,  0.00000000e+00,\n",
              "         6.99887745e+05,  2.18903769e+04,  0.00000000e+00,\n",
              "         8.60890071e+04,  1.61195973e+03,  0.00000000e+00,\n",
              "         7.69955272e+06,  4.46349914e+06,  1.44407700e+06],\n",
              "       [ 1.45690200e+06,  9.22600000e+03,  0.00000000e+00,\n",
              "         3.11528000e+05, -1.22000000e+04,  0.00000000e+00,\n",
              "         2.96318000e+05,  2.10100000e+03,  0.00000000e+00,\n",
              "         6.79212000e+05, -1.34100000e+04,  0.00000000e+00,\n",
              "         8.36580000e+04, -3.69800000e+03,  0.00000000e+00,\n",
              "         3.17710000e+04,  2.67000000e+02,  0.00000000e+00],\n",
              "       [ 2.70392830e+07,  2.88479320e+07,  1.77093800e+06,\n",
              "         5.45253700e+06,  7.78589400e+06,  5.50100000e+03,\n",
              "         5.15454700e+06,  4.88814300e+06,  1.18500000e+03,\n",
              "         1.31374730e+07,  1.08185170e+07,  1.06423000e+05,\n",
              "         1.56412500e+06,  7.25903000e+05,  4.05000000e+02,\n",
              "         7.92534000e+05,  3.32327000e+05,  2.41444000e+05],\n",
              "       [ 1.46016900e+07,  5.00983900e+06,  0.00000000e+00,\n",
              "         3.18339200e+06,  7.10629000e+05,  0.00000000e+00,\n",
              "         3.53706700e+06,  1.71009000e+05,  0.00000000e+00,\n",
              "         6.52179600e+06,  8.16429000e+05,  0.00000000e+00,\n",
              "         3.62937000e+05,  3.40600000e+04,  0.00000000e+00,\n",
              "         2.93566000e+05,  1.06660000e+04,  0.00000000e+00],\n",
              "       [ 5.27247422e+08,  2.48303366e+08,  2.83720443e+08,\n",
              "         1.13197111e+08,  6.85358460e+07,  1.03008290e+08,\n",
              "         1.08133799e+08,  4.33292320e+07,  7.54777220e+07,\n",
              "         2.56956418e+08,  1.09186165e+08,  2.49045714e+08,\n",
              "         3.67391500e+07,  1.45968090e+07,  3.67642000e+06,\n",
              "         1.26264200e+07,  5.65011600e+06,  2.02258800e+06],\n",
              "       [ 0.00000000e+00,  0.00000000e+00,  0.00000000e+00,\n",
              "         0.00000000e+00,  0.00000000e+00,  0.00000000e+00,\n",
              "         0.00000000e+00,  0.00000000e+00,  0.00000000e+00,\n",
              "         0.00000000e+00,  0.00000000e+00,  0.00000000e+00,\n",
              "         0.00000000e+00,  0.00000000e+00,  0.00000000e+00,\n",
              "         0.00000000e+00,  0.00000000e+00,  0.00000000e+00],\n",
              "       [ 0.00000000e+00,  0.00000000e+00,  0.00000000e+00,\n",
              "         0.00000000e+00,  0.00000000e+00,  0.00000000e+00,\n",
              "         0.00000000e+00,  0.00000000e+00,  0.00000000e+00,\n",
              "         0.00000000e+00,  0.00000000e+00,  0.00000000e+00,\n",
              "         0.00000000e+00,  0.00000000e+00,  0.00000000e+00,\n",
              "         0.00000000e+00,  0.00000000e+00,  0.00000000e+00],\n",
              "       [ 0.00000000e+00,  0.00000000e+00,  0.00000000e+00,\n",
              "         0.00000000e+00,  0.00000000e+00,  0.00000000e+00,\n",
              "         0.00000000e+00,  0.00000000e+00,  0.00000000e+00,\n",
              "         0.00000000e+00,  0.00000000e+00,  0.00000000e+00,\n",
              "         0.00000000e+00,  0.00000000e+00,  0.00000000e+00,\n",
              "         0.00000000e+00,  0.00000000e+00,  0.00000000e+00],\n",
              "       [ 0.00000000e+00,  0.00000000e+00,  0.00000000e+00,\n",
              "         0.00000000e+00,  0.00000000e+00,  0.00000000e+00,\n",
              "         0.00000000e+00,  0.00000000e+00,  0.00000000e+00,\n",
              "         0.00000000e+00,  0.00000000e+00,  0.00000000e+00,\n",
              "         0.00000000e+00,  0.00000000e+00,  0.00000000e+00,\n",
              "         0.00000000e+00,  0.00000000e+00,  0.00000000e+00],\n",
              "       [ 0.00000000e+00,  0.00000000e+00,  0.00000000e+00,\n",
              "         0.00000000e+00,  0.00000000e+00,  0.00000000e+00,\n",
              "         0.00000000e+00,  0.00000000e+00,  0.00000000e+00,\n",
              "         0.00000000e+00,  0.00000000e+00,  0.00000000e+00,\n",
              "         0.00000000e+00,  0.00000000e+00,  0.00000000e+00,\n",
              "         0.00000000e+00,  0.00000000e+00,  0.00000000e+00],\n",
              "       [ 0.00000000e+00,  0.00000000e+00,  0.00000000e+00,\n",
              "         0.00000000e+00,  0.00000000e+00,  0.00000000e+00,\n",
              "         0.00000000e+00,  0.00000000e+00,  0.00000000e+00,\n",
              "         0.00000000e+00,  0.00000000e+00,  0.00000000e+00,\n",
              "         0.00000000e+00,  0.00000000e+00,  0.00000000e+00,\n",
              "         0.00000000e+00,  0.00000000e+00,  0.00000000e+00]])"
            ]
          },
          "metadata": {},
          "execution_count": 520
        }
      ]
    },
    {
      "cell_type": "code",
      "source": [
        "fd_tot_sm = fd_each.sum(axis=1).reshape([28,1])"
      ],
      "metadata": {
        "id": "ZUO77SYW35BX"
      },
      "execution_count": 521,
      "outputs": []
    },
    {
      "cell_type": "markdown",
      "source": [
        "##부가가치 통합하기"
      ],
      "metadata": {
        "id": "PJT4t1cPs2lc"
      }
    },
    {
      "cell_type": "code",
      "source": [
        "vact = RI_33[596:,:561]  # 부가가치 및 산출액\n",
        "vact"
      ],
      "metadata": {
        "colab": {
          "base_uri": "https://localhost:8080/"
        },
        "id": "AXi5YhsZtKZv",
        "outputId": "94efaaef-1a42-4eb7-de99-84e83de5ee3c"
      },
      "execution_count": 522,
      "outputs": [
        {
          "output_type": "execute_result",
          "data": {
            "text/plain": [
              "array([[2.858500e+04, 3.634000e+03, 1.695333e+06, ..., 6.129730e+05,\n",
              "        3.102240e+05, 4.612900e+04],\n",
              "       [1.106200e+04, 1.168000e+03, 2.865760e+05, ..., 2.775100e+05,\n",
              "        1.867230e+05, 0.000000e+00],\n",
              "       [4.129900e+04, 1.902000e+03, 8.473500e+04, ..., 1.692520e+05,\n",
              "        5.723200e+04, 0.000000e+00],\n",
              "       ...,\n",
              "       [1.913000e+03, 4.100000e+01, 1.035530e+05, ..., 1.350510e+05,\n",
              "        2.750900e+04, 0.000000e+00],\n",
              "       [5.984600e+04, 3.768000e+03, 5.941940e+05, ..., 7.366370e+05,\n",
              "        2.963130e+05, 0.000000e+00],\n",
              "       [8.843100e+04, 7.402000e+03, 2.289527e+06, ..., 1.349610e+06,\n",
              "        6.065370e+05, 4.612900e+04]])"
            ]
          },
          "metadata": {},
          "execution_count": 522
        }
      ]
    },
    {
      "cell_type": "code",
      "source": [
        "vact_3 = vact@code_18.T  # 3부문 부가가치\n",
        "vact_3.sum()"
      ],
      "metadata": {
        "colab": {
          "base_uri": "https://localhost:8080/"
        },
        "id": "GhNDg2XKW76V",
        "outputId": "e25512eb-49b7-45a6-db60-b11be48dd652"
      },
      "execution_count": 523,
      "outputs": [
        {
          "output_type": "execute_result",
          "data": {
            "text/plain": [
              "9304574828.0"
            ]
          },
          "metadata": {},
          "execution_count": 523
        }
      ]
    },
    {
      "cell_type": "code",
      "source": [
        "nae_tot = np.concatenate((dom_tot, imp_row, vact_3)) # 중간투입(수요)와 부가가치 및 산출액 합치기\n",
        "nae_tot.shape"
      ],
      "metadata": {
        "colab": {
          "base_uri": "https://localhost:8080/"
        },
        "id": "I28cWl3PW7_g",
        "outputId": "835e4049-daef-4b07-c5b8-d847d06a9f70"
      },
      "execution_count": 524,
      "outputs": [
        {
          "output_type": "execute_result",
          "data": {
            "text/plain": [
              "(28, 18)"
            ]
          },
          "metadata": {},
          "execution_count": 524
        }
      ]
    },
    {
      "cell_type": "code",
      "source": [
        "tot_row_sm= nae_tot.sum(axis=1).reshape([28,1])\n",
        "tot_row_sm.sum()"
      ],
      "metadata": {
        "colab": {
          "base_uri": "https://localhost:8080/"
        },
        "id": "Q6mjOFXPW8DS",
        "outputId": "69ce8fc2-cfe4-4eaa-bafb-5b6801d77848"
      },
      "execution_count": 525,
      "outputs": [
        {
          "output_type": "execute_result",
          "data": {
            "text/plain": [
              "11500686239.99995"
            ]
          },
          "metadata": {},
          "execution_count": 525
        }
      ]
    },
    {
      "cell_type": "code",
      "source": [
        "tot_dm = tot_row_sm + fd_tot_sm  # 총수요 = 중간수요계+최종수요계"
      ],
      "metadata": {
        "id": "ZjGjbdmU0rQN"
      },
      "execution_count": 526,
      "outputs": []
    },
    {
      "cell_type": "code",
      "source": [
        "Tot_rg = np.concatenate((nae_tot,tot_row_sm,fd_each, fd_tot_sm,tot_dm), axis=1)"
      ],
      "metadata": {
        "id": "3llcCme007jv"
      },
      "execution_count": 527,
      "outputs": []
    },
    {
      "cell_type": "code",
      "source": [
        "Tot_rgg = (Tot_rg/1000000).round(3)\n",
        "Tot_rgg"
      ],
      "metadata": {
        "colab": {
          "base_uri": "https://localhost:8080/"
        },
        "id": "NEKwUstZW8IQ",
        "outputId": "ee0a2d9d-a4fa-4911-8d47-5ea58317d56e"
      },
      "execution_count": 544,
      "outputs": [
        {
          "output_type": "execute_result",
          "data": {
            "text/plain": [
              "array([[2.330000e-01, 3.116000e+00, 9.830000e-01, ..., 0.000000e+00,\n",
              "        1.692000e+00, 7.960000e+00],\n",
              "       [1.870000e+00, 1.121230e+02, 7.110900e+01, ..., 0.000000e+00,\n",
              "        2.949210e+02, 5.815560e+02],\n",
              "       [7.810000e-01, 7.861400e+01, 3.016070e+02, ..., 0.000000e+00,\n",
              "        7.063060e+02, 1.203687e+03],\n",
              "       ...,\n",
              "       [5.600000e-02, 1.119100e+01, 5.055000e+01, ..., 0.000000e+00,\n",
              "        0.000000e+00, 1.361030e+02],\n",
              "       [3.924000e+00, 1.790430e+02, 6.478980e+02, ..., 0.000000e+00,\n",
              "        0.000000e+00, 1.637451e+03],\n",
              "       [7.960000e+00, 5.815560e+02, 1.203687e+03, ..., 0.000000e+00,\n",
              "        0.000000e+00, 3.833562e+03]])"
            ]
          },
          "metadata": {},
          "execution_count": 544
        }
      ]
    },
    {
      "cell_type": "code",
      "source": [
        "total_rg = pd.DataFrame(Tot_rgg, columns = ['수도권_농림수산품', '수도권_공산품', '수도권_서비스', '충청권_농림수산품', '충청권_공산품', '충청권_서비스',\n",
        "                                           '서남권_농림수산품', '서남권_공산품', '서남권_서비스', '동남권_농림수산품', '동남권_공산품', '동남권_서비스',\n",
        "                                           '강원권_농림수산품', '강원권_공산품', '강원권_서비스', '제주권_농림수산품', '제주권_공산품', '제주권_서비스',\n",
        "                                           '중간수요계',\n",
        "                                           '수도권_소비', '수도권_투자', '수도권_수출', '충청권_소비', '충청권_투자', '충청권_수출',\n",
        "                                           '서남권_소비', '서남권_투자', '서남권_수출', '동남권_소비', '동남권_투자', '동남권_수출',\n",
        "                                           '강원권_소비', '강원권_투자', '강원권_수출', '제주권_소비', '제주권_투자', '제주권_수출',\n",
        "                                           '최종수요계', '총수요계'],\n",
        "                                    index=['수도권_농림수산품', '수도권_공산품', '수도권_서비스', '충청권_농림수산품', '충청권_공산품', '충청권_서비스',\n",
        "                                           '서남권_농림수산품', '서남권_공산품', '서남권_서비스', '동남권_농림수산품', '동남권_공산품', '동남권_서비스',\n",
        "                                           '강원권_농림수산품', '강원권_공산품', '강원권_서비스', '제주권_농림수산품', '제주권_공산품', '제주권_서비스',\n",
        "                                           '수입_농림수산품', '수입_공산품', '수입_서비스','중간투입계',\n",
        "                                           '피용자보수', '영업잉여', '고정자본소모', '생산세', '부가가치계', '총투입액'])"
      ],
      "metadata": {
        "id": "khqaa4tJW8Nk"
      },
      "execution_count": 545,
      "outputs": []
    },
    {
      "cell_type": "code",
      "source": [
        "total_rg.to_csv('지역산업연관표_3부문_6지역.csv', encoding=\"utf-8-sig\")"
      ],
      "metadata": {
        "id": "vRFoEDGP76Bz"
      },
      "execution_count": 546,
      "outputs": []
    },
    {
      "cell_type": "markdown",
      "source": [],
      "metadata": {
        "id": "N45bkFE96GzI"
      }
    },
    {
      "cell_type": "markdown",
      "source": [],
      "metadata": {
        "id": "meLw-yl46Gkw"
      }
    },
    {
      "cell_type": "code",
      "source": [
        "tCtrb_amt_ff = pd.DataFrame(Ctrb_amt_f,columns = ['국내최종수요증감액', '국내최종수요(규모증가)', '국내최종수요(구조변화)','소비', '소비(규모)','소비(구조)','투자', '투자(규모)','투자(구조)',\n",
        "                                         '수출', '수출(규모)','수출(구조)', '수입', '최종재수입','중간재수입', '기술변화'],\n",
        "수도권_농림수산품\n",
        "                         index=['농림수산품', '광산품', '음식료품', '섬유 및 가죽제품', '목재 및 종이, 인쇄', ' 석탄 및 석유제품', '화학제품', '비금속광물제품', '1차금속제품', '금속가공제품',\n",
        "                                '컴퓨터, 전자 및 광학기기', '전기장비', '기계 및 장비', '운송장비', '기타제조업제품', '제조임가공 및 산업용 장비 수리', '전력, 가스 및 증기', '수도, 폐기물처리 및 재활용 서비스',\n",
        "                                '건설', '도소매', '운송서비스', '음석점및숙박', '정보통신 및 방송서비스', '금융및보험서비스', '부동산서비스', '전문, 과학 및 기술서비스',\n",
        "                                '사업지원서비스', '공공행정, 국방 및 사회보장', '교육서비스', '보건 및 사회복지서비스', '예술, 스포츠 및 여가 관련 서비스', '기타 서비스', '계'])  # pandas로 내보내기\n"
      ],
      "metadata": {
        "id": "xGhUIG8gx-rU",
        "outputId": "63a54274-8cd9-40f3-de71-ea9cd5e5d8ee",
        "colab": {
          "base_uri": "https://localhost:8080/",
          "height": 131
        }
      },
      "execution_count": 543,
      "outputs": [
        {
          "output_type": "error",
          "ename": "SyntaxError",
          "evalue": "ignored",
          "traceback": [
            "\u001b[0;36m  File \u001b[0;32m\"<ipython-input-543-5516727f50bd>\"\u001b[0;36m, line \u001b[0;32m3\u001b[0m\n\u001b[0;31m    수도권_농림수산품\u001b[0m\n\u001b[0m    ^\u001b[0m\n\u001b[0;31mSyntaxError\u001b[0m\u001b[0;31m:\u001b[0m invalid syntax. Perhaps you forgot a comma?\n"
          ]
        }
      ]
    },
    {
      "cell_type": "code",
      "source": [],
      "metadata": {
        "id": "Wjf8JfeXx-w1"
      },
      "execution_count": null,
      "outputs": []
    },
    {
      "cell_type": "code",
      "source": [],
      "metadata": {
        "id": "19rzef72x-10"
      },
      "execution_count": null,
      "outputs": []
    },
    {
      "cell_type": "markdown",
      "source": [
        "# 부문통합하여 3부문 IO표 만들기\n",
        "- 2019년 산업연관표(33부문)를 IO표를 3부문 IO표로 통합하고 이를 통해 설명하기로 함\n",
        "- 33부문을 크게 농수산품, 공산품 및 서비스로 통합하기 위하여 행렬 곱을 사용\n",
        "- 0과 1로 구성된 행렬을 만드는데 각 행은 새로운 표의 부문을 나타내며 각 열은 33부문의 부문을 나타낸다"
      ],
      "metadata": {
        "id": "NQYwTxzNNkO6"
      }
    },
    {
      "cell_type": "code",
      "source": [],
      "metadata": {
        "id": "mHgBHeqDuK74"
      },
      "execution_count": null,
      "outputs": []
    },
    {
      "cell_type": "code",
      "source": [
        "code = np.array([[1,0,0,0,0,0,0,0,0,0,0,0,0,0,0,0,0,0,0,0,0,0,0,0,0,0,0,0,0,0,0,0,0],  # 행렬 곱을 이용한 부문 통합을 위해 0과 1로 구성된 임시의 3x33 매트릭스\n",
        "       [0,1,1,1,1,1,1,1,1,1,1,1,1,1,1,1,0,0,0,0,0,0,0,0,0,0,0,0,0,0,0,0,0],\n",
        "       [0,0,0,0,0,0,0,0,0,0,0,0,0,0,0,0,1,1,1,1,1,1,1,1,1,1,1,1,1,1,1,1,1]])\n",
        "code"
      ],
      "metadata": {
        "id": "1JLgiYagNz1u"
      },
      "execution_count": null,
      "outputs": []
    },
    {
      "cell_type": "code",
      "source": [
        "cdd = \"https://raw.githubusercontent.com/Tom-Jung/legendary-funicular/main/code.csv\"  # 코드매치 파일\n",
        "ccdd = pd.read_csv(cdd)\n",
        "cd_for_itr = ccdd.to_numpy().reshape(33,2)\n",
        "row = cd_for_itr[:,1]\n",
        "col = cd_for_itr[:,0]\n",
        "col"
      ],
      "metadata": {
        "id": "Xp8f9h0RNz4N"
      },
      "execution_count": null,
      "outputs": []
    },
    {
      "cell_type": "code",
      "source": [
        "Mtx = np.zeros((3,33))       # 부문통합을 위한 코드가 많을 경우 상기의 코드를 수작업으로 미리 하는 것이 쉽자 않으므로 반복문을 통해 3x33 임시코드 만들기\n",
        "for i, j in zip(row,col):\n",
        "  Mtx[i-1,j-1] = 1\n",
        "print(Mtx)"
      ],
      "metadata": {
        "id": "OXrxsH2sNz6l"
      },
      "execution_count": null,
      "outputs": []
    },
    {
      "cell_type": "markdown",
      "source": [
        "###  총거래표"
      ],
      "metadata": {
        "id": "3pPHmi20k2k1"
      }
    },
    {
      "cell_type": "code",
      "source": [
        "url_Tt_33 = \"https://raw.githubusercontent.com/Tom-Jung/legendary-funicular/main/2019_%EC%B4%9D%EA%B1%B0%EB%9E%98%ED%91%9C.csv\"  # 33부문의 총거래표 불러오기\n",
        "Tt_33 = pd.read_csv(url_Tt_33)"
      ],
      "metadata": {
        "id": "EuB3g6ODNz9E"
      },
      "execution_count": null,
      "outputs": []
    },
    {
      "cell_type": "code",
      "source": [
        "\n",
        "Ttt_33 = Tt_33.to_numpy()\n",
        "Tot_33 = Ttt_33[0:41,1:53].astype(float)"
      ],
      "metadata": {
        "id": "vy0JTtnUNz_x"
      },
      "execution_count": null,
      "outputs": []
    },
    {
      "cell_type": "code",
      "source": [
        "nae_tot_row = code@Tot_33[0:33,0:33] # 중간투입(수요)의 행을 3부문으로 만들기\n",
        "nae_tot_row"
      ],
      "metadata": {
        "id": "ECKiygpePcTc"
      },
      "execution_count": null,
      "outputs": []
    },
    {
      "cell_type": "code",
      "source": [
        "nae_tot_row.shape  # 행과 열의 개수 확인"
      ],
      "metadata": {
        "id": "A0aUlcqHPcV6"
      },
      "execution_count": null,
      "outputs": []
    },
    {
      "cell_type": "code",
      "source": [
        "nae_tot_col = nae_tot_row@code.T  # 수작업한 code 이용\n",
        "nae_tot_col"
      ],
      "metadata": {
        "id": "wpQ73AjVPcYB"
      },
      "execution_count": null,
      "outputs": []
    },
    {
      "cell_type": "code",
      "source": [
        "ztest_nae_tot_col = nae_tot_row@Mtx.T # 반복문을 이용해서 만든  Mtx 이용\n",
        "ztest_nae_tot_col"
      ],
      "metadata": {
        "id": "mYiPui5ePcaQ"
      },
      "execution_count": null,
      "outputs": []
    },
    {
      "cell_type": "code",
      "source": [
        "nae_tot_col.shape  # 행과 열의 개수 확인"
      ],
      "metadata": {
        "id": "nev1PAA_PccQ"
      },
      "execution_count": null,
      "outputs": []
    },
    {
      "cell_type": "code",
      "source": [
        "\n",
        "nae_tot_col.sum()"
      ],
      "metadata": {
        "id": "CYcSIf8LPceR"
      },
      "execution_count": null,
      "outputs": []
    },
    {
      "cell_type": "code",
      "source": [
        "va_row = Tot_33[33:40,0:33]@code.T # 중투합, 피용자보수, 영업잉여, 고정자본소모, 기타생산세, 부가가치계, 산출액(7X3)\n",
        "va_row"
      ],
      "metadata": {
        "id": "7M_aC4UNPcgW"
      },
      "execution_count": null,
      "outputs": []
    },
    {
      "cell_type": "code",
      "source": [
        "va_row.shape"
      ],
      "metadata": {
        "id": "WjbX8g2sPcic"
      },
      "execution_count": null,
      "outputs": []
    },
    {
      "cell_type": "code",
      "source": [
        "fd_cd = np.array([[1,1,0,0,0,0,0,0,0],   # 최종수요를 통합하기 위한 0과 1로된 행렬\n",
        "                  [0,0,1,1,1,1,0,0,0],\n",
        "                  [0,0,0,0,0,0,1,0,0],\n",
        "                  [0,0,0,0,0,0,0,1,0],\n",
        "                  [0,0,0,0,0,0,0,0,1]])"
      ],
      "metadata": {
        "id": "636Yax5LQY1_"
      },
      "execution_count": null,
      "outputs": []
    },
    {
      "cell_type": "code",
      "source": [
        "fd = Tot_33[0:33, 34:45]\n",
        "fd"
      ],
      "metadata": {
        "id": "NDDWb0EGPckB"
      },
      "execution_count": null,
      "outputs": []
    },
    {
      "cell_type": "code",
      "source": [
        "fd_row=code@fd@fd_cd.T"
      ],
      "metadata": {
        "id": "pnLTE3AKQUAB"
      },
      "execution_count": null,
      "outputs": []
    },
    {
      "cell_type": "code",
      "source": [
        "fd_row_sm = np.sum((fd_row), axis=0) # 최종수요의 행합"
      ],
      "metadata": {
        "id": "IpwwU1-MQUCg"
      },
      "execution_count": null,
      "outputs": []
    },
    {
      "cell_type": "code",
      "source": [
        "fd_sm=fd_row_sm.reshape(1,5)"
      ],
      "metadata": {
        "id": "DQCpcEuTQUFD"
      },
      "execution_count": null,
      "outputs": []
    },
    {
      "cell_type": "code",
      "source": [
        "nae_va_ct = np.concatenate((nae_tot_col, va_row)) # 중간투입(수요)와 부가가치 및 산출액 합치기\n",
        "nae_va_ct"
      ],
      "metadata": {
        "id": "88LooUFcPcm6"
      },
      "execution_count": null,
      "outputs": []
    },
    {
      "cell_type": "code",
      "source": [
        "nae_va_ct_sm = nae_va_ct.sum(axis=1).reshape(10,1)  # 부가가치 및 산출액의 열합"
      ],
      "metadata": {
        "id": "QqYemKSUQnVy"
      },
      "execution_count": null,
      "outputs": []
    },
    {
      "cell_type": "code",
      "source": [
        "nnull = np.zeros((6,5)) # 0행렬"
      ],
      "metadata": {
        "id": "T6hq-mLuQnYZ"
      },
      "execution_count": null,
      "outputs": []
    },
    {
      "cell_type": "code",
      "source": [
        "fd_nnull = np.concatenate((fd_row, fd_sm, nnull),axis=0)  # 최종수요, 최종수요 행합 및 0행렬 합치기"
      ],
      "metadata": {
        "id": "bX019RFqQnbK"
      },
      "execution_count": null,
      "outputs": []
    },
    {
      "cell_type": "code",
      "source": [
        "tot_f = np.concatenate((nae_va_ct,nae_va_ct_sm, fd_nnull), axis=1)  # 최종 3x3 부문통합된 거래표\n",
        "tot_f_va1 = np.concatenate((tot_f[0:4,], tot_f[-2:,:]), axis=0)  # 최종 3x3 부문통합된 거래표\n",
        "tot_f_va1"
      ],
      "metadata": {
        "id": "NnopD75uQneH"
      },
      "execution_count": null,
      "outputs": []
    },
    {
      "cell_type": "code",
      "source": [
        "tot_F = pd.DataFrame(tot_f, columns = ['농산품', '공산품', '서비스', '중간수요계', '소비','투자', '수출', '최종수요계', '총수요계'],\n",
        "                     index=['농산품', '공산품', '서비스', '중간투입계', '피용자보수','영업잉여', '고정자본소모', '생산세(보조금공제)', '부가가치계', '총투입액']) # 변수명 붙여서 pandas로 내보내기"
      ],
      "metadata": {
        "id": "jTMh7QgmQngo"
      },
      "execution_count": null,
      "outputs": []
    },
    {
      "cell_type": "code",
      "source": [
        "tot_F_va1= pd.DataFrame(tot_f_va1, columns = ['농산품', '공산품', '서비스', '중간수요계', '소비','투자', '수출', '최종수요계', '총수요계'],\n",
        "                     index=['농산품', '공산품', '서비스', '중간투입계', '부가가치계', '총투입액']) # 변수명 붙여서 pandas로 내보내기"
      ],
      "metadata": {
        "id": "z309spY3OKXC"
      },
      "execution_count": null,
      "outputs": []
    },
    {
      "cell_type": "code",
      "source": [
        "tot_F.reset_index(inplace=True) # 인덱스 설정(부문명)"
      ],
      "metadata": {
        "id": "qChIyrBp6Rka"
      },
      "execution_count": null,
      "outputs": []
    },
    {
      "cell_type": "code",
      "source": [
        "tot_F_va1.reset_index(inplace=True)# 인덱스 설정(부문명)"
      ],
      "metadata": {
        "id": "DGoOcMOFRx2D"
      },
      "execution_count": null,
      "outputs": []
    },
    {
      "cell_type": "code",
      "source": [
        "tot_F_va1  #최종 3x3 거래표 확인"
      ],
      "metadata": {
        "id": "dJ6L3bD-RDdC"
      },
      "execution_count": null,
      "outputs": []
    },
    {
      "cell_type": "markdown",
      "source": [
        "###  국산거래표"
      ],
      "metadata": {
        "id": "mObPcfaSk7BJ"
      }
    },
    {
      "cell_type": "code",
      "source": [
        "url_Dm_33 = \"https://raw.githubusercontent.com/Tom-Jung/legendary-funicular/main/2019_%EA%B5%AD%EC%82%B0%EA%B1%B0%EB%9E%98%ED%91%9C.csv\"  # 33부문의 국산거래표 불러오기\n",
        "Dm_33 = pd.read_csv(url_Dm_33)"
      ],
      "metadata": {
        "id": "7fMUOWLSRDf9"
      },
      "execution_count": null,
      "outputs": []
    },
    {
      "cell_type": "code",
      "source": [
        "Dmm_33 = Dm_33.to_numpy()\n",
        "Dom_33 = Dmm_33[0:34,1:53].astype(float)"
      ],
      "metadata": {
        "id": "Wm20kwrE9c7k"
      },
      "execution_count": null,
      "outputs": []
    },
    {
      "cell_type": "code",
      "source": [
        "nae_dom_row = code@Dom_33[0:33,0:33] # 중간투입(수요)의 행을 3부문으로 만들기\n",
        "nae_dom_row"
      ],
      "metadata": {
        "id": "yV9zlj5E9c-S"
      },
      "execution_count": null,
      "outputs": []
    },
    {
      "cell_type": "code",
      "source": [
        "nae_dom_row.shape  # 행과 열의 개수 확인"
      ],
      "metadata": {
        "id": "VrRNqL3h9dAo"
      },
      "execution_count": null,
      "outputs": []
    },
    {
      "cell_type": "code",
      "source": [
        "nae_dom_col = nae_dom_row@code.T  # 수작업한 code 이용\n",
        "nae_dom_col"
      ],
      "metadata": {
        "id": "Is56E3Hs9dDJ"
      },
      "execution_count": null,
      "outputs": []
    },
    {
      "cell_type": "code",
      "source": [
        "nae_dom_col.shape  # 행과 열의 개수 확인"
      ],
      "metadata": {
        "id": "WC0l4HyN9dFe"
      },
      "execution_count": null,
      "outputs": []
    },
    {
      "cell_type": "code",
      "source": [
        "nae_dom_col.sum()"
      ],
      "metadata": {
        "id": "Ethlugxg9dHg"
      },
      "execution_count": null,
      "outputs": []
    },
    {
      "cell_type": "code",
      "source": [
        "dsm_row = Dom_33[33:34,0:33]@code.T # 중투합\n",
        "dsm_row"
      ],
      "metadata": {
        "id": "bGsYwWZ29dJr"
      },
      "execution_count": null,
      "outputs": []
    },
    {
      "cell_type": "code",
      "source": [
        "dsm_row.shape"
      ],
      "metadata": {
        "id": "XD1RsGYx9dLt"
      },
      "execution_count": null,
      "outputs": []
    },
    {
      "cell_type": "code",
      "source": [
        "dfd = Dom_33[0:33, 34:45]\n",
        "dfd"
      ],
      "metadata": {
        "id": "PGk_xDK59dOL"
      },
      "execution_count": null,
      "outputs": []
    },
    {
      "cell_type": "code",
      "source": [
        "dfd_row=code@dfd@fd_cd.T"
      ],
      "metadata": {
        "id": "2RW9ObIIBf6H"
      },
      "execution_count": null,
      "outputs": []
    },
    {
      "cell_type": "code",
      "source": [
        "dfd_row_sm = np.sum((dfd_row), axis=0) # 최종수요의 행합"
      ],
      "metadata": {
        "id": "LcspQZiWBf8s"
      },
      "execution_count": null,
      "outputs": []
    },
    {
      "cell_type": "code",
      "source": [
        "dfd_sm=dfd_row_sm.reshape(1,5)\n",
        "dfd_sm"
      ],
      "metadata": {
        "id": "WnMSJOqfBf_F"
      },
      "execution_count": null,
      "outputs": []
    },
    {
      "cell_type": "code",
      "source": [
        "nae_dm = np.concatenate((nae_dom_col, dsm_row)) # 중간투입(수요)와 부가가치 및 산출액 합치기\n",
        "nae_dm"
      ],
      "metadata": {
        "id": "tIDU9V3yDdAW"
      },
      "execution_count": null,
      "outputs": []
    },
    {
      "cell_type": "code",
      "source": [
        "nae_col_sm_dm = nae_dm.sum(axis=1).reshape(4,1)  # 중간투입(수요)와 행합"
      ],
      "metadata": {
        "id": "VtI2ifklBgBR"
      },
      "execution_count": null,
      "outputs": []
    },
    {
      "cell_type": "code",
      "source": [
        "nae_dm_sm = nae_col_sm_dm.sum(axis=1).reshape(4,1)  # 부가가치 및 산출액의 열합"
      ],
      "metadata": {
        "id": "aaWNP32aFNl6"
      },
      "execution_count": null,
      "outputs": []
    },
    {
      "cell_type": "code",
      "source": [
        "dfd_nnull = np.concatenate((dfd_row, dfd_sm),axis=0)  #   최종수요 및 최종수요 행합 합치기"
      ],
      "metadata": {
        "id": "8HT2MFywBgDZ"
      },
      "execution_count": null,
      "outputs": []
    },
    {
      "cell_type": "code",
      "source": [
        "dom_f = np.concatenate((nae_dm, nae_dm_sm, dfd_nnull), axis=1)  # 최종 3x3 부문통합된 거래표\n",
        "dom_f"
      ],
      "metadata": {
        "id": "p2V-RLotBgFb"
      },
      "execution_count": null,
      "outputs": []
    },
    {
      "cell_type": "code",
      "source": [
        "dom_F = pd.DataFrame(dom_f, columns = ['농산품', '공산품', '서비스', '중간수요계', '소비','투자', '수출', '최종수요계', '총수요계'],\n",
        "                     index=['농산품', '공산품', '서비스', '중간투입계']) # 변수명 붙여서 pandas로 내보내기\n",
        "dom_F"
      ],
      "metadata": {
        "id": "bOvUyM5JBgHa"
      },
      "execution_count": null,
      "outputs": []
    },
    {
      "cell_type": "code",
      "source": [
        "dom_F.reset_index(inplace=True)# 인덱스 설정(부문명)\n",
        "dom_F"
      ],
      "metadata": {
        "id": "gEb8DR088S23"
      },
      "execution_count": null,
      "outputs": []
    },
    {
      "cell_type": "markdown",
      "source": [
        "### 수입거래표"
      ],
      "metadata": {
        "id": "Q0Qz6ySBGHEo"
      }
    },
    {
      "cell_type": "code",
      "source": [
        "\n",
        "url_Im_33 = \"https://raw.githubusercontent.com/Tom-Jung/legendary-funicular/main/2019_%EC%88%98%EC%9E%85%EA%B1%B0%EB%9E%98%ED%91%9C.csv\"  # 33부문의 국산거래표 불러오기\n",
        "Im_33 = pd.read_csv(url_Im_33)\n",
        "Im_33"
      ],
      "metadata": {
        "id": "3UEdsIwkGEVU"
      },
      "execution_count": null,
      "outputs": []
    },
    {
      "cell_type": "code",
      "source": [
        "Imm_33 = Im_33.to_numpy()\n",
        "Imp_33 = Imm_33[0:34,1:53].astype(float)"
      ],
      "metadata": {
        "id": "G_YKIL7jGEX8"
      },
      "execution_count": null,
      "outputs": []
    },
    {
      "cell_type": "code",
      "source": [
        "nae_imp_row = code@Imp_33[0:33,0:33] # 중간투입(수요)의 행을 3부문으로 만들기\n",
        "nae_imp_row"
      ],
      "metadata": {
        "id": "4MqZ7GIaGEaa"
      },
      "execution_count": null,
      "outputs": []
    },
    {
      "cell_type": "code",
      "source": [
        "nae_imp_row.shape  # 행과 열의 개수 확인"
      ],
      "metadata": {
        "id": "HK8sZ7PTGEck"
      },
      "execution_count": null,
      "outputs": []
    },
    {
      "cell_type": "code",
      "source": [
        "nae_imp_col = nae_imp_row@code.T  # 수작업한 code 이용\n",
        "nae_imp_col"
      ],
      "metadata": {
        "id": "q7JwgjizGEex"
      },
      "execution_count": null,
      "outputs": []
    },
    {
      "cell_type": "code",
      "source": [
        "nae_imp_col.shape  # 행과 열의 개수 확인"
      ],
      "metadata": {
        "id": "G5I-RsgbGEhG"
      },
      "execution_count": null,
      "outputs": []
    },
    {
      "cell_type": "code",
      "source": [
        "nae_imp_col.sum()"
      ],
      "metadata": {
        "id": "MG7cCmjtGEjV"
      },
      "execution_count": null,
      "outputs": []
    },
    {
      "cell_type": "code",
      "source": [
        "ism_row = Imp_33[33:34,0:33]@code.T # 중투합\n",
        "ism_row"
      ],
      "metadata": {
        "id": "Ai6O2HLLGEls"
      },
      "execution_count": null,
      "outputs": []
    },
    {
      "cell_type": "code",
      "source": [
        "ism_row.shape"
      ],
      "metadata": {
        "id": "dS_d0VMgGEn4"
      },
      "execution_count": null,
      "outputs": []
    },
    {
      "cell_type": "code",
      "source": [
        "ifd = Imp_33[0:33, 34:45]\n",
        "ifd"
      ],
      "metadata": {
        "id": "7tf90qjqGEqR"
      },
      "execution_count": null,
      "outputs": []
    },
    {
      "cell_type": "code",
      "source": [
        "ifd_row=code@ifd@fd_cd.T"
      ],
      "metadata": {
        "id": "pO9lCldYGEsf"
      },
      "execution_count": null,
      "outputs": []
    },
    {
      "cell_type": "code",
      "source": [
        "ifd_row_sm = np.sum((ifd_row), axis=0) # 최종수요의 행합"
      ],
      "metadata": {
        "id": "Z-RubqPPGEuj"
      },
      "execution_count": null,
      "outputs": []
    },
    {
      "cell_type": "code",
      "source": [
        "ifd_sm=ifd_row_sm.reshape(1,5)\n",
        "ifd_sm"
      ],
      "metadata": {
        "id": "zo1I5vkGGEwz"
      },
      "execution_count": null,
      "outputs": []
    },
    {
      "cell_type": "code",
      "source": [
        "nae_im = np.concatenate((nae_imp_col, ism_row)) # 중간투입(수요)와 부가가치 및 산출액 합치기\n",
        "nae_im"
      ],
      "metadata": {
        "id": "J4-ZGF9lGEzW"
      },
      "execution_count": null,
      "outputs": []
    },
    {
      "cell_type": "code",
      "source": [
        "nae_col_sm_imp = nae_im.sum(axis=1).reshape(4,1)  # 중간투입(수요)와 행합"
      ],
      "metadata": {
        "id": "oRx1OZxoGE1v"
      },
      "execution_count": null,
      "outputs": []
    },
    {
      "cell_type": "code",
      "source": [
        "\n",
        "nae_im_sm = nae_col_sm_imp.sum(axis=1).reshape(4,1)  # 부가가치 및 산출액의 열합"
      ],
      "metadata": {
        "id": "6X3AeIxCGE30"
      },
      "execution_count": null,
      "outputs": []
    },
    {
      "cell_type": "code",
      "source": [
        "ifd_nnull = np.concatenate((ifd_row, ifd_sm),axis=0)  #   최종수요 및 최종수요 행합 합치기"
      ],
      "metadata": {
        "id": "zm_zFqZXGE6B"
      },
      "execution_count": null,
      "outputs": []
    },
    {
      "cell_type": "code",
      "source": [
        "imp_f = np.concatenate((nae_im, nae_im_sm, ifd_nnull), axis=1)  # 최종 3x3 부문통합된 거래표\n",
        "imp_f"
      ],
      "metadata": {
        "id": "7rwJrwZ2GE8U"
      },
      "execution_count": null,
      "outputs": []
    },
    {
      "cell_type": "code",
      "source": [
        "imp_F = pd.DataFrame(imp_f, columns = ['농산품', '공산품', '서비스', '중간수요계', '소비','투자', '수출', '최종수요계', '총수요계'],\n",
        "                     index=['농산품', '공산품', '서비스', '중간투입계']) # 변수명 붙여서 pandas로 내보내기\n",
        "imp_F"
      ],
      "metadata": {
        "id": "_5jtRSGjGE-T"
      },
      "execution_count": null,
      "outputs": []
    },
    {
      "cell_type": "code",
      "source": [
        "imp_F.reset_index(inplace=True)# 인덱스 설정(부문명)\n",
        "imp_F"
      ],
      "metadata": {
        "id": "Z6F4QRuT8dnX"
      },
      "execution_count": null,
      "outputs": []
    },
    {
      "cell_type": "code",
      "source": [
        "# 총, 국산, 수입거래표 내보내기\n",
        "tot_F.to_csv('총거래표_3부문.csv', encoding=\"utf-8-sig\")\n",
        "tot_F_va1.to_csv('총거래표_부가가치1개.csv', encoding=\"utf-8-sig\")\n",
        "dom_F.to_csv('국산거래표_3부문.csv', encoding=\"utf-8-sig\")\n",
        "imp_F.to_csv('수입거래표_3부문.csv', encoding=\"utf-8-sig\")"
      ],
      "metadata": {
        "id": "ZlZw4Z5lGFA6"
      },
      "execution_count": null,
      "outputs": []
    },
    {
      "cell_type": "markdown",
      "source": [],
      "metadata": {
        "id": "pGaGz_KvGW1M"
      }
    },
    {
      "cell_type": "markdown",
      "source": [
        "#### 산업구조_부가가치 및 산출액 비중 구하기"
      ],
      "metadata": {
        "id": "Jz2c6mWiGW5v"
      }
    },
    {
      "cell_type": "markdown",
      "source": [
        "###### pandas의 DataFrame을 numpy로 불러오기"
      ],
      "metadata": {
        "id": "vi5mrufWHBLq"
      }
    },
    {
      "cell_type": "markdown",
      "source": [
        "### DataFrame을 Numpy로 읽어오고 숫자만으로 행렬을 만들고 차원 등 제대로 읽어 왔는지 체크\n",
        "\n"
      ],
      "metadata": {
        "id": "x-a_G73J-ARG"
      }
    },
    {
      "cell_type": "code",
      "source": [
        "Tt = tot_F_va1.to_numpy()  # numpy로 불러오기\n",
        "Dt = dom_F.to_numpy()\n",
        "It = imp_F.to_numpy()"
      ],
      "metadata": {
        "id": "Hb3EasrIAz9H"
      },
      "execution_count": null,
      "outputs": []
    },
    {
      "cell_type": "code",
      "source": [
        "Tt"
      ],
      "metadata": {
        "id": "WN6hZ9hGGXEs"
      },
      "execution_count": null,
      "outputs": []
    },
    {
      "cell_type": "code",
      "source": [
        "va = Tt[-2,1:4]  # 산업별 부가가치\n",
        "ct = Tt[-1,1:4]  # 산업별 산출액"
      ],
      "metadata": {
        "id": "GrqwxwU44DMl"
      },
      "execution_count": null,
      "outputs": []
    },
    {
      "cell_type": "code",
      "source": [
        "va_wgt = (va/va.sum()).reshape([3,1])  # 부가가치 기준 각 산업의 비중\n",
        "ct_wgt = (ct/ct.sum()).reshape([3,1])  # 산출액 기준 각 산업의 비중\n",
        "\n",
        "wgt_mx = np.concatenate((va_wgt, ct_wgt), axis=1)\n",
        "print(wgt_mx)"
      ],
      "metadata": {
        "id": "IGYFJf_fAz6J"
      },
      "execution_count": null,
      "outputs": []
    },
    {
      "cell_type": "markdown",
      "source": [
        "#### 투입구조"
      ],
      "metadata": {
        "id": "32UjG6dfMUrW"
      }
    },
    {
      "cell_type": "code",
      "source": [
        "Tt_itr = Tt[-3,1:5] # 총거래표의 각 산업별 및 총산업의 중간투입계\n",
        "Dt_itr = Dt[-1,1:5] # 국산거래표의 각 산업별 및 총산업의 중간투입계\n",
        "It_itr = It[-1,1:5] # 수입거래표의 각 산업별 및 총산업의 중간투입계\n",
        "Ct_itr = Tt[-1,1:5] # 각 산업별 및 총산업의 산출액\n",
        "\n",
        "print(Tt)\n",
        "print(Tt_itr)\n",
        "print(Dt_itr)\n",
        "print(It_itr)\n",
        "print(Ct_itr)"
      ],
      "metadata": {
        "id": "D77j-HNjIKj9"
      },
      "execution_count": null,
      "outputs": []
    },
    {
      "cell_type": "code",
      "source": [
        "Tt_itr_ratio = (Tt_itr/Ct_itr).reshape([4,1]) # 총투입계수\n",
        "Dt_itr_ratio = (Dt_itr/Ct_itr).reshape([4,1]) # 국산투입계수\n",
        "It_itr_ratio = (It_itr/Ct_itr).reshape([4,1]) # 수입투입계수\n",
        "\n",
        "itr_ratio = np.concatenate((Tt_itr_ratio, Dt_itr_ratio, It_itr_ratio), axis=1)  # 총, 국산, 수입투입계수\n",
        "itr_ratio"
      ],
      "metadata": {
        "id": "Dl7lil2JPogq"
      },
      "execution_count": null,
      "outputs": []
    },
    {
      "cell_type": "code",
      "source": [
        "Dt_dm_itr = (Dt_itr/Tt_itr).reshape([4,1])  # 각 산업별, 총산업의 국산화율\n",
        "Dt_dm_itr"
      ],
      "metadata": {
        "id": "0Xi-6MnGPo6v"
      },
      "execution_count": null,
      "outputs": []
    },
    {
      "cell_type": "code",
      "source": [
        "va_ratio = (Tt[-2,1:5]/Tt[-1,1:5]).reshape([4,1])  # 부가가치율 = 부가가치(3산업과 총부가가치)/산출액(3산업과 총산출액)\n",
        "va_ratio"
      ],
      "metadata": {
        "id": "UlVNRugMPpQU"
      },
      "execution_count": null,
      "outputs": []
    },
    {
      "cell_type": "code",
      "source": [
        "#중간투입, 국산화율 및 부가가치율을 열방향으로 부치기\n",
        "input_str = np.concatenate((itr_ratio, Dt_dm_itr, va_ratio), axis=1)\n",
        "input_str"
      ],
      "metadata": {
        "id": "lECvmd0wPpnQ"
      },
      "execution_count": null,
      "outputs": []
    },
    {
      "cell_type": "markdown",
      "source": [
        "#### 배분구조"
      ],
      "metadata": {
        "id": "C6KfGPX5g9TI"
      }
    },
    {
      "cell_type": "code",
      "source": [
        "Tot_sup =Tt[0:4,-1]  # 총공급(산출액+수입)\n",
        "Dom_ct =Dt[0:4,-1]  # 산출액\n",
        "Imp_tot=It[0:4,-1]   # 총수입\n",
        "\n",
        "Tt_itd = Tt[0:4,4] # 총거래표의 각 산업별 및 총산업의 중간수요계\n",
        "Dt_itd = Dt[0:4,4] # 국산거래표의 각 산업별 및 총산업의 중간수요계\n",
        "It_itd = It[0:4,4] # 수입거래표의 각 산업별 및 총산업의 중간수요계\n",
        "\n",
        "Tot_dmd = Tt[0:4,-1] # 각 제품별 및 전품목 총수요계\n",
        "Fd =Tt[0:4,-2]\n",
        "Exp = Tt[0:4,-3]  # 각 제품별 및 전품목 수출\n",
        "\n",
        "print(Tot_sup)\n",
        "print(Dom_ct)\n",
        "print(Imp_tot)\n",
        "\n",
        "print(Tt_itd)\n",
        "print(Dt_itd)\n",
        "print(It_itd)\n",
        "\n",
        "print(Tot_dmd)\n",
        "print(Fd)\n",
        "print(Exp)"
      ],
      "metadata": {
        "id": "IWpo8RCb6EsB"
      },
      "execution_count": null,
      "outputs": []
    },
    {
      "cell_type": "code",
      "source": [
        "Itd_r = (Tt_itd/Tot_dmd).reshape([4,1]) # 중간수요율 = 중간수요계/총수요\n",
        "ftd_r = (Fd/Tot_dmd).reshape([4,1]) # 최종수요율 = 최종수요계/총수요\n",
        "Exp_r = (Exp/Dom_ct).reshape([4,1]) # 수출률 = 수출/총산출액\n",
        "Imp_r = (Imp_tot/Tot_sup).reshape([4,1])\n",
        "\n",
        "print(Itd_r)\n",
        "print(ftd_r)\n",
        "print(Exp_r)\n",
        "print(Imp_r)"
      ],
      "metadata": {
        "id": "lcVwawkrPi5t"
      },
      "execution_count": null,
      "outputs": []
    },
    {
      "cell_type": "code",
      "source": [
        "# 중간수요율, 최종수요율, 수출률 및 수입비율 열방향으로 부치기\n",
        "\n",
        "dst_str = np.concatenate((Itd_r, ftd_r, Exp_r, Imp_r), axis=1)\n",
        "print(dst_str)"
      ],
      "metadata": {
        "id": "goO-V0B5PjRD"
      },
      "execution_count": null,
      "outputs": []
    },
    {
      "cell_type": "markdown",
      "source": [
        "##Chapter 5...산업연관효과분석"
      ],
      "metadata": {
        "id": "JYbkwC_VPVv2"
      }
    },
    {
      "cell_type": "code",
      "source": [
        "# Tt = tot_F_va1.to_numpy()  # 3부문 산업연관표를 numpy로 불러오기\n",
        "# Dt = Dom.to_numpy()\n",
        "# It = Imp.to_numpy()"
      ],
      "metadata": {
        "id": "pXrwfo8u86pr"
      },
      "execution_count": null,
      "outputs": []
    },
    {
      "cell_type": "code",
      "source": [
        "Tt"
      ],
      "metadata": {
        "id": "sgvgFSqKGFjk"
      },
      "execution_count": null,
      "outputs": []
    },
    {
      "cell_type": "code",
      "source": [
        "Tt_1 = Tt[0:6,1:13].astype(float)\n",
        "Dm_1 = Dt[0:4,1:10].astype(float)\n",
        "Im_1 = It[0:4,1:10].astype(float)\n",
        "print('총거래표 : \\n', Tt_1)    # 총거래표 확인\n",
        "print('국산거래표 : \\n', Dm_1)  # 국산거래표 확인\n",
        "print('수입거래표 : \\n', Im_1)  # 수입거래표 확인"
      ],
      "metadata": {
        "id": "q4Q2rSR1QiUI"
      },
      "execution_count": null,
      "outputs": []
    },
    {
      "cell_type": "code",
      "source": [
        "ct = Tt_1[-1,0:3]  # 산출액\n",
        "ct"
      ],
      "metadata": {
        "id": "sLoitK1lQigz"
      },
      "execution_count": null,
      "outputs": []
    },
    {
      "cell_type": "code",
      "source": [
        "ct_m = np.tile(ct, reps=[3,1]) # 산출액을 3번 행반복\n",
        "ct_m"
      ],
      "metadata": {
        "id": "s0wcbJY1Qipl"
      },
      "execution_count": null,
      "outputs": []
    },
    {
      "cell_type": "code",
      "source": [
        "At = Tt_1[0:3,0:3]/ct_m   # 총투입계수\n",
        "Ad = Dm_1[0:3,0:3]/ct_m  # 국산 투입계수\n",
        "\n",
        "print('총투입계수표 : \\n', At)\n",
        "print('국산투입계수표 : \\n', Ad)\n",
        "\n",
        "df_At = pd.DataFrame(At.round(3),columns = ['농산품', '공산품', '서비스'], index=['농산품', '공산품', '서비스'])  #pandas로 내보내기\n",
        "df_Ad = pd.DataFrame(Ad.round(3),columns = ['농산품', '공산품', '서비스'], index=['농산품', '공산품', '서비스'])  #pandas로 내보내기"
      ],
      "metadata": {
        "id": "5uLIE7vfQiwM"
      },
      "execution_count": null,
      "outputs": []
    },
    {
      "cell_type": "markdown",
      "source": [
        "##### 생산유발계수(Lf)"
      ],
      "metadata": {
        "id": "V0nnZSeHUPn8"
      }
    },
    {
      "cell_type": "code",
      "source": [
        "Lf = np.linalg.inv(np.identity(3)-Ad)  # 생산유발계수\n",
        "Lf"
      ],
      "metadata": {
        "id": "SF7hebVoQi2M"
      },
      "execution_count": null,
      "outputs": []
    },
    {
      "cell_type": "code",
      "source": [
        "df_Lf = pd.DataFrame(Lf.round(3),columns = ['농산품', '공산품', '서비스'], index=['농산품', '공산품', '서비스'])  #pandas로 내보내기"
      ],
      "metadata": {
        "id": "YT9SwuJnQi8T"
      },
      "execution_count": null,
      "outputs": []
    },
    {
      "cell_type": "markdown",
      "source": [
        "#### 부가가치유발계수(Lv)"
      ],
      "metadata": {
        "id": "DkU6os7vUW-0"
      }
    },
    {
      "cell_type": "code",
      "source": [
        "Va_r = Tt_1[-2,0:3]/ct # 부가가치율\n",
        "Va_r"
      ],
      "metadata": {
        "id": "KfbCR-LdQjCF"
      },
      "execution_count": null,
      "outputs": []
    },
    {
      "cell_type": "code",
      "source": [
        "Va_m = np.diag(Va_r)  # 부가가치율 대각행렬\n",
        "Va_m"
      ],
      "metadata": {
        "id": "7dkxNSQCQjJF"
      },
      "execution_count": null,
      "outputs": []
    },
    {
      "cell_type": "code",
      "source": [
        "Lv = Va_m@Lf  #부가가치유발계수\n",
        "Lv"
      ],
      "metadata": {
        "id": "DF_G_Hn09gRy"
      },
      "execution_count": null,
      "outputs": []
    },
    {
      "cell_type": "code",
      "source": [
        "df_Lv = pd.DataFrame(Lv.round(3),columns = ['농산품', '공산품', '서비스'], index=['농산품', '공산품', '서비스'])  # pandas로 내보내기"
      ],
      "metadata": {
        "id": "Od3StAXA86sf"
      },
      "execution_count": null,
      "outputs": []
    },
    {
      "cell_type": "markdown",
      "source": [
        "#### 수입유발계수"
      ],
      "metadata": {
        "id": "G-NYB11hVLEO"
      }
    },
    {
      "cell_type": "code",
      "source": [
        "Ai = Im_1[0:3,0:3]/ct_m\n",
        "\n",
        "print('수입투입계수표 : \\n', Ai)\n",
        "\n",
        "df_Ai = pd.DataFrame(Ai.round(3))  #pandas로 내보내기"
      ],
      "metadata": {
        "id": "IRm-HtOf9KVx"
      },
      "execution_count": null,
      "outputs": []
    },
    {
      "cell_type": "code",
      "source": [
        "Li = Ai@Lf  #수입유발계수\n",
        "Li"
      ],
      "metadata": {
        "id": "_8fZBBSX9kld"
      },
      "execution_count": null,
      "outputs": []
    },
    {
      "cell_type": "code",
      "source": [
        "df_Li = pd.DataFrame(Li.round(3),columns = ['농산품', '공산품', '서비스'], index=['농산품', '공산품', '서비스'])  #pandas로 내보내기"
      ],
      "metadata": {
        "id": "qxP0BGTe-J6J"
      },
      "execution_count": null,
      "outputs": []
    },
    {
      "cell_type": "markdown",
      "source": [],
      "metadata": {
        "id": "rDsqvOxBbB5w"
      }
    },
    {
      "cell_type": "code",
      "source": [
        "# CSV파일로 결과 내보내기\n",
        "df_At.to_csv('총투입계수.csv', encoding='utf_8-sig')\n",
        "df_Ad.to_csv('국산투입계수.csv', encoding='utf_8-sig')\n",
        "df_Ai.to_csv('수입투입계수.csv', encoding='utf_8-sig')\n",
        "\n",
        "df_Lf.to_csv('생산유발계수.csv', encoding='utf_8-sig')\n",
        "df_Lv.to_csv('부가가치유발계수.csv', encoding='utf_8-sig')\n",
        "df_Li.to_csv('수입유발계수.csv', encoding='utf_8-sig')"
      ],
      "metadata": {
        "id": "Var3WdHW-NdY"
      },
      "execution_count": null,
      "outputs": []
    },
    {
      "cell_type": "markdown",
      "source": [
        "### 최종수요 항목별 유발효과"
      ],
      "metadata": {
        "id": "6zhSQgh83SmB"
      }
    },
    {
      "cell_type": "markdown",
      "source": [
        "##### 생산유발효과"
      ],
      "metadata": {
        "id": "P8-fs47q3WzF"
      }
    },
    {
      "cell_type": "code",
      "source": [
        "Yd = Dt[0:3,5:8]  # 국산최종수요...소비, 투자, 수출\n",
        "Yi = It[0:3,5:8]  # 수입최종수요...소비, 투자, 수출\n",
        "print('국산최종수요 : \\n', Yd)\n",
        "print('수입최종수요 : \\n', Yi)"
      ],
      "metadata": {
        "id": "aZ0NQ51_-OTA"
      },
      "execution_count": null,
      "outputs": []
    },
    {
      "cell_type": "code",
      "source": [
        "Lfyd = (Lf@Yd).astype(float).reshape([3,3])   # 데이터타입을 float으로 지정하고 3x3행렬로 지정\n",
        "Lvyd = (Lv@Yd).astype(float).reshape([3,3])   # 데이터타입을 float으로 지정하고 3x3행렬로 지정\n",
        "Liyd = (Li@Yd).astype(float).reshape([3,3]) + Yi.astype(float).reshape([3,3]) # 데이터타입을 float으로 지정하고 3x3행렬로 지정\n",
        "\n",
        "print('최종수요항목별 생산유발계수 : \\n', Lfyd)\n",
        "print('최종수요항목별 부가가치유발계수 : \\n', Lvyd)\n",
        "print('최종수요항목별 수입유발계수 : \\n', Liyd)\n"
      ],
      "metadata": {
        "id": "vI4pjfvx-WU_"
      },
      "execution_count": null,
      "outputs": []
    },
    {
      "cell_type": "code",
      "source": [
        "##### 최종수요항목별 유발계수 검증...최종수요항목별 생산유발계수=산출액, 최종수요항목별 부가가치유발계수=부가가치, 최종수요항목별 수입유발계수=수입 이 성립하여야 함"
      ],
      "metadata": {
        "id": "2i4MUlDg5HPP"
      },
      "execution_count": null,
      "outputs": []
    },
    {
      "cell_type": "code",
      "source": [
        "Lfyd_sm = Lfyd.sum(axis=1).astype(float).reshape([3,1])\n",
        "Lvyd_sm = Lvyd.sum(axis=1).astype(float).reshape([3,1])\n",
        "Liyd_sm = Liyd.sum(axis=1).astype(float).reshape([3,1])\n",
        "\n",
        "print('최종수요항목별 생산유발계수의 열합 : \\n', Lfyd_sm)\n",
        "print('최종수요항목별 부가가치유발의 열합 : \\n', Lvyd_sm)\n",
        "print('최종수요항목별 수입유발계의 열합 : \\n', Liyd_sm)"
      ],
      "metadata": {
        "id": "kJH9hmlC5HUr"
      },
      "execution_count": null,
      "outputs": []
    },
    {
      "cell_type": "markdown",
      "source": [
        "###### 최종수요항목별 생산, 부가가치 및 수입유발계수"
      ],
      "metadata": {
        "id": "lIoPBD-Fae1A"
      }
    },
    {
      "cell_type": "code",
      "source": [
        "Yd_rw_sm =Yd.sum(axis=0)  #국산최종수요항목별(소비, 투자, 수출) 행합\n",
        "Yi_rw_sm =Yi.sum(axis=0)  #수입최종수요항목별(소비, 투자, 수출) 행합\n",
        "\n",
        "Lfyd_rw_sm = Lfyd.sum(axis=0) # 최종수요항목별(소비, 투자, 수출) 생산유발계수 행합\n",
        "Lvyd_rw_sm = Lvyd.sum(axis=0) # 최종수요항목별(소비, 투자, 수출) 부가가치유발계수 행합\n",
        "Liyd_rw_sm = Liyd.sum(axis=0) # 최종수요항목별(소비, 투자, 수출) 수입유발계수 행합\n",
        "\n",
        "print('최종수요항목별 행합 : \\n', Yd_rw_sm)\n",
        "print('최종수요항목별 생산유발계수 행합 : \\n', Lfyd_rw_sm)\n",
        "print('최종수요항목별 부가가치유발계수 행합 : \\n', Lvyd_rw_sm)\n",
        "print('최종수요항목별 수입유발계수 행합: \\n', Liyd_rw_sm)"
      ],
      "metadata": {
        "id": "6XUSbGUyanOq"
      },
      "execution_count": null,
      "outputs": []
    },
    {
      "cell_type": "markdown",
      "source": [
        "##### 최종수요항목별(소비, 투자, 수출) 유발계수"
      ],
      "metadata": {
        "id": "_hjFJ_N0dggV"
      }
    },
    {
      "cell_type": "code",
      "source": [
        "Lfyd_coef =(Lfyd_rw_sm/Yd_rw_sm).astype(float).reshape([1,3]) #최종수요항목별(소비, 투자, 수출) 생산유발계수\n",
        "Lvyd_coef =(Lvyd_rw_sm/Yd_rw_sm).astype(float).reshape([1,3]) #최종수요항목별(소비, 투자, 수출) 생산유발계수\n",
        "Liyd_coef =(Liyd_rw_sm/(Yd_rw_sm+Yi_rw_sm)).astype(float).reshape([1,3]) #최종수요항목별(소비, 투자, 수출) 생산유발계수\n",
        "\n",
        "print('최종수요항목별(소비, 투자, 수출) 생산유발계수 행합 : \\n', Lfyd_coef)\n",
        "print('최종수요항목별(소비, 투자, 수출) 부가가치유발계수 행합 : \\n', Lvyd_coef)\n",
        "print('최종수요항목별(소비, 투자, 수출) 수입유발계수 행합: \\n', Liyd_coef)"
      ],
      "metadata": {
        "id": "MmV_4BB-anZi"
      },
      "execution_count": null,
      "outputs": []
    },
    {
      "cell_type": "markdown",
      "source": [
        "###### 영향력계수(후방연쇄효과) 및 감응도계수(전방연쇄효과)"
      ],
      "metadata": {
        "id": "Kr23Ly0AhpVR"
      }
    },
    {
      "cell_type": "code",
      "source": [
        "Lf_rw_sm = Lf.sum(axis=0)  # 생산유발계수 행합\n",
        "Lf_cl_sm = Lf.sum(axis=1)  # 생산유발계수 행합\n",
        "\n",
        "Lf_bwd = (Lf.sum(axis=0)/Lf_rw_sm.mean()).astype(float).reshape([1,3])  #영향력 계수\n",
        "Lf_fwd = (Lf.sum(axis=1)/Lf_cl_sm.mean()).astype(float).reshape([1,3])  #감응도 계수\n",
        "\n",
        "print('품목별 영향력계수 : \\n', Lf_bwd)\n",
        "print('품목별 감음도계수: \\n', Lf_fwd)"
      ],
      "metadata": {
        "id": "DxnO-URDanip"
      },
      "execution_count": null,
      "outputs": []
    },
    {
      "cell_type": "code",
      "source": [
        "# pandas로 변환기\n",
        "\n",
        "df_Lfyd =pd.DataFrame(Lfyd.round(1),columns = ['농산품', '공산품', '서비스'], index=['소비', '투자', '수출'])  #pandas로 내보내기\n",
        "df_Lvyd =pd.DataFrame(Lvyd.round(1),columns = ['농산품', '공산품', '서비스'], index=['소비', '투자', '수출'])\n",
        "df_Liyd =pd.DataFrame(Liyd.round(1),columns = ['농산품', '공산품', '서비스'], index=['소비', '투자', '수출'])\n",
        "\n",
        "df_Lfyd_coef = pd.DataFrame(Lfyd_coef.round(3),columns = ['농산품', '공산품', '서비스'], index=['항목별 생산유발계수'])\n",
        "df_Lvyd_coef = pd.DataFrame(Lvyd_coef.round(3),columns = ['농산품', '공산품', '서비스'], index=['항목별 부가가치유발계수'])\n",
        "df_Liyd_coef = pd.DataFrame(Liyd_coef.round(3),columns = ['농산품', '공산품', '서비스'], index=['항목별 수입유발계수'])\n",
        "\n",
        "df_Lf_bwd = pd.DataFrame(Lf_bwd.round(3), columns = ['농산품', '공산품', '서비스'], index=['영향력계수'])\n",
        "df_Lf_fwd = pd.DataFrame(Lf_fwd.round(3), columns = ['농산품', '공산품', '서비스'], index=['영향력계수'])\n",
        "\n",
        "print(df_Lfyd)\n",
        "print(df_Lvyd)\n",
        "print(df_Liyd)\n",
        "\n",
        "print(df_Lfyd_coef)\n",
        "print(df_Lvyd_coef)\n",
        "print(df_Liyd_coef)\n",
        "\n",
        "print(df_Lf_bwd)\n",
        "print(df_Lf_fwd)"
      ],
      "metadata": {
        "id": "Uy-18-Rxanp2"
      },
      "execution_count": null,
      "outputs": []
    },
    {
      "cell_type": "code",
      "source": [
        "# csv 파일로 내보내기\n",
        "df_Lfyd.to_csv('최종수요항목별 생산유발액.csv', encoding='utf_8-sig')\n",
        "df_Lvyd.to_csv('최종수요항목별 부가가치유발액.csv', encoding='utf_8-sig')\n",
        "df_Liyd.to_csv('최종수요항목별 수입유발액.csv', encoding='utf_8-sig')\n",
        "\n",
        "df_Lfyd_coef.to_csv('최종수요항목별 생산유발계수.csv', encoding='utf_8-sig')\n",
        "df_Lvyd_coef.to_csv('최종수요항목별 부가가치유발계수.csv', encoding='utf_8-sig')\n",
        "df_Liyd_coef.to_csv('최종수요항목별 수입유발계수.csv', encoding='utf_8-sig')\n",
        "\n",
        "df_Lf_bwd.to_csv('영향력계수.csv', encoding='utf_8-sig')\n",
        "df_Lf_bwd.to_csv('감응도계수.csv', encoding='utf_8-sig')"
      ],
      "metadata": {
        "id": "Dk8oBy3oanwg"
      },
      "execution_count": null,
      "outputs": []
    },
    {
      "cell_type": "code",
      "source": [],
      "metadata": {
        "id": "G-mJLG0can6J"
      },
      "execution_count": null,
      "outputs": []
    },
    {
      "cell_type": "code",
      "source": [],
      "metadata": {
        "id": "OcdzFts-aoCe"
      },
      "execution_count": null,
      "outputs": []
    },
    {
      "cell_type": "code",
      "source": [
        "#pandas로 내보내기\n",
        "\n",
        "# df_Lfyd = pd.DataFrame(Lfyd.round(3),columns = ['농산품', '공산품', '서비스'], index=['농산품', '공산품', '서비스'])\n",
        "# df_Lvyd = pd.DataFrame(Lvyd.round(3),columns = ['농산품', '공산품', '서비스'], index=['농산품', '공산품', '서비스'])\n",
        "# df_Liyd = pd.DataFrame(Liyd.round(3),columns = ['농산품', '공산품', '서비스'], index=['농산품', '공산품', '서비스'])\n"
      ],
      "metadata": {
        "id": "IrTVIJP06hir"
      },
      "execution_count": null,
      "outputs": []
    },
    {
      "cell_type": "code",
      "source": [
        "# # csv 파일로 내보내기\n",
        "\n",
        "# df_Lfyd.to_csv('최종수요항목별_생산유발.csv')\n",
        "# df_Lvyd.to_csv('최종수요항목별_부가가치유발.csv')\n",
        "# df_Liyd.to_csv('최종수요항목별_수입유발.csv')"
      ],
      "metadata": {
        "id": "aBWNCPV-_T6J"
      },
      "execution_count": null,
      "outputs": []
    },
    {
      "cell_type": "markdown",
      "source": [
        "### 물가파급효과 분석\n",
        "\n",
        "\n",
        "##### - 투입계수의 전치행렬을 이용하여 생산유발계수(Lf)을 이용하여 각종 물가파급효과 분석 가능"
      ],
      "metadata": {
        "id": "LrSLa3VTD5Nd"
      }
    },
    {
      "cell_type": "code",
      "source": [
        "At_trans = At.T  # 총투입계수의 전치행렬\n",
        "Ad_trans = Ad.T  # 국산투입계수의 전치행렬\n",
        "Ai_trans = Ai.T  # 국산투입계수의 전치행렬\n",
        "\n",
        "print('총투입계수의 전치행렬 : \\n', At_trans)\n",
        "print('국산투입계수의 전치행렬: \\n', Ad_trans)\n",
        "print('수입투입계수의 전치행렬: \\n', Ai_trans)\n",
        "\n",
        "Lf_trans = np.linalg.inv(np.identity(3)-Ad_trans)  # (I-Ad_trans)의 역행렬\n",
        "print('국산투입계수 전치행렬의 역행렬: \\n', Lf_trans)"
      ],
      "metadata": {
        "id": "QlwdX5oMD71E"
      },
      "execution_count": null,
      "outputs": []
    },
    {
      "cell_type": "markdown",
      "source": [],
      "metadata": {
        "id": "aBgrgkliI_uH"
      }
    },
    {
      "cell_type": "markdown",
      "source": [
        "#### 임금인상의 물가파급효과"
      ],
      "metadata": {
        "id": "VmIala71I_1M"
      }
    },
    {
      "cell_type": "code",
      "source": [
        "delta_all_w = np.array([10,10,10]).reshape([3,1]) # 모든 상품의 임금이 10% 상승\n",
        "delta_all_Pw = (Lf_trans@Va_m)@delta_all_w\n",
        "\n",
        "delta_par_w = np.array([0,10,0]).reshape([3,1]) # 공산품의 임금이 10% 상승\n",
        "delta_par_Pw = (Lf_trans@Va_m)@delta_par_w\n",
        "\n",
        "print('모든 상품의 임금이 10% 상승시 물가파급효과: \\n', delta_all_Pw)\n",
        "print('공산품의 임금이 10% 상승시 물가파급효과: \\n', delta_par_Pw)\n"
      ],
      "metadata": {
        "id": "hT30koHOD8WG"
      },
      "execution_count": null,
      "outputs": []
    },
    {
      "cell_type": "markdown",
      "source": [
        "#### 공산품 등 내생부분(중간투입품) 가격변동의 물가파급효과"
      ],
      "metadata": {
        "id": "lz8QJDXeZA_n"
      }
    },
    {
      "cell_type": "code",
      "source": [
        "#### 중간투입되는 공산품의 물가변동의 파급효과 분석\n",
        "\n",
        "Ad_exd_row = np.delete(Ad_trans,1,0).reshape([2,3])  # 공산품(sectors2) 행 삭제\n",
        "Ad_exd_manu = np.delete(Ad_exd_row,1,1).reshape([2,2])  # 공산품(sectors2) 열 삭제,,최종적으로 2x2 행렬\n",
        "print('물가변동이 발생한 부문을 제가한 국산투입계수 : \\n', Ad_exd_manu)\n",
        "\n",
        "A_Pr_sec2 = np.concatenate((Ad_trans[0,1].reshape([1,1]),Ad_trans[2,1].reshape([1,1])),axis=0).reshape([2,1])  # 물가가 변동하는 부문의 국산 투입계수(a21, a23)\n",
        "print('물가변동이 발생한 부문의 국산투입계수 : \\n', A_Pr_sec2)\n",
        "\n",
        "#공산품 물가 10% 상승시 파급효과\n",
        "\n",
        "delta_manu_Pw = Ad_exd_manu@A_Pr_sec2*10\n",
        "print('공산품 10% 상승시 다른 부문의 물가변동 : \\n', delta_manu_Pw)"
      ],
      "metadata": {
        "id": "MH8Zx-JXD8ZG"
      },
      "execution_count": null,
      "outputs": []
    },
    {
      "cell_type": "markdown",
      "source": [
        "#### 수입산품 가격변동의 물가파급효과\n"
      ],
      "metadata": {
        "id": "KGihX7EPGGt3"
      }
    },
    {
      "cell_type": "code",
      "source": [
        "Imp_Pw = np.array([10,0,0]).reshape([3,1]) # 수입농산물 10% 상승\n",
        "delta_imp_Pw =  ((Lf_trans @Ai_trans)@Imp_Pw).reshape([3,1])\n",
        "\n",
        "print('수입통산품 가격 10% 상승시 다른 부문의 물가변동 : \\n', delta_imp_Pw)"
      ],
      "metadata": {
        "id": "5p1nygTxZI38"
      },
      "execution_count": null,
      "outputs": []
    },
    {
      "cell_type": "code",
      "source": [
        "#pandas로 내보\n",
        "\n",
        "df_delta_all_Pw = pd.DataFrame(delta_all_Pw.round(3),columns = ['물가상승률'], index=['농산품', '공산품', '서비스'])  # 모든 부문의 임금 10% 상승\n",
        "df_delta_par_Pw = pd.DataFrame(delta_par_Pw.round(3),columns = ['물가상승률'], index=['농산품', '공산품', '서비스'])  # 공산품 부문의 임금 10% 상승\n",
        "df_delta_manu_Pw = pd.DataFrame(delta_manu_Pw.round(3),columns = ['물가상승률'], index=['농산품', '서비스'])        # 공산품 물가 10% 상승\n",
        "df_delta_imp_Pw = pd.DataFrame(delta_imp_Pw.round(3),columns = ['물가상승률'], index=['농산품', '공산품', '서비스'])   # 수입 농산품 물가 10% 상승"
      ],
      "metadata": {
        "id": "Njxfr_mbHtnA"
      },
      "execution_count": null,
      "outputs": []
    },
    {
      "cell_type": "code",
      "source": [
        "df_delta_all_Pw.to_csv('모든 부문 임금 10% 상승.csv')\n",
        "df_delta_par_Pw.to_csv('공산품 부문 임금 10% 상승.csv')\n",
        "df_delta_manu_Pw.to_csv('공산품 물가 10% 상승.csv')\n",
        "df_delta_imp_Pw.to_csv('수입 농산품 물가 10% 상승.csv')"
      ],
      "metadata": {
        "id": "Q0fXvrqKKjRH"
      },
      "execution_count": null,
      "outputs": []
    },
    {
      "cell_type": "markdown",
      "source": [
        "### 서비스 부문의 내생화"
      ],
      "metadata": {
        "id": "0T6xGJKLAhvD"
      }
    },
    {
      "cell_type": "code",
      "source": [
        "# 생산유발액\n",
        "\n",
        "Ad_ser_etr = Ad[0:2,0:2] # 서비스가 제거된 농산품과 공산품만 포함된 국산투입계수\n",
        "Lf_Ad_ser_etr = np.linalg.inv(np.identity(2)-Ad_ser_etr) # 역행렬(생산유발계수)\n",
        "print('농산품과 공산품으로 구성된 생산유발계수: \\n', Lf_Ad_ser_etr)\n",
        "\n",
        "Ad_ser =Ad[0:2,2].reshape([2,1])\n",
        "print('서비스의 국산투입계수(농산품과 공산품만 포함): \\n', Ad_ser)\n",
        "\n",
        "Mtp_ser = Lf_Ad_ser_etr@Ad_ser # 서비스 외생화의 효과를 계산하기 위한 멀티플라이어\n",
        "print('외생화 부문의 효과를 계산하기 위한 멀티플라이어: \\n', Mtp_ser)\n",
        "\n",
        "Amt_etr = Mtp_ser*244 # 서비스 총산출(총투자) 3,432,811의 각 산업 생산유발액\n",
        "print('유발액: \\n', Amt_etr)\n"
      ],
      "metadata": {
        "id": "ImapvnHSM3mu"
      },
      "execution_count": null,
      "outputs": []
    },
    {
      "cell_type": "code",
      "source": [
        "# 수입유발액\n",
        "Ai_ser_etr = Ai[0:2,0:2] # 서비스가 제거된 농산품과 공산품만 포함된 수입투입계수\n",
        "Ai_ser_dr = Ai[:,2].sum().reshape([1,1])\n",
        "\n",
        "Mtp_imp_indr = Ai_ser_etr@Mtp_ser  # 간접효과 멀티플라이어\n",
        "print('간접효과 멀티플라이어: \\n', Mtp_imp_indr)\n",
        "\n",
        "Amt_imp_indr = Mtp_imp_indr*244 # 간접효과\n",
        "Amt_imp_dr = Ai_ser_dr*244      # 직접효과\n",
        "Amt_imp_tot = Amt_imp_indr.sum() + Amt_imp_dr\n",
        "\n",
        "print('간접효과 : \\n', Amt_imp_indr)\n",
        "print('직접효과 : \\n', Amt_imp_dr)\n",
        "print('총효과 : \\n', Amt_imp_tot)\n"
      ],
      "metadata": {
        "id": "lKcch7NXAyaQ"
      },
      "execution_count": null,
      "outputs": []
    },
    {
      "cell_type": "code",
      "source": [
        "# 부가가치유발액\n",
        "Av_ser_etr = Va_m[0:2,0:2] # 서비스가 제거된 농산품과 공산품만 포함된 부가가치율\n",
        "Av_ser_dr = Va_m[2,2].reshape([1,1])  # 서비스의 부가가치율\n",
        "\n",
        "Mtp_var_indr = Av_ser_etr@Mtp_ser  # 간접효과 멀티플라이어\n",
        "print('간접효과 멀티플라이어: \\n', Mtp_var_indr)\n",
        "\n",
        "Amt_var_indr = Mtp_var_indr*244  # 간접효과\n",
        "Amt_var_dr= Av_ser_dr*244       # 직접효과\n",
        "Amt_var_tot = Amt_var_indr.sum() + Amt_var_dr\n",
        "\n",
        "print('간접효과 : \\n', Amt_var_indr)\n",
        "print('직접효과 : \\n', Amt_var_dr)\n",
        "print('총효과 : \\n', Amt_var_tot)"
      ],
      "metadata": {
        "id": "z0oF5lwlKqlY"
      },
      "execution_count": null,
      "outputs": []
    },
    {
      "cell_type": "markdown",
      "source": [
        "### 산출 변동요인분해"
      ],
      "metadata": {
        "id": "00a8dQ_-Ug2y"
      }
    },
    {
      "cell_type": "code",
      "source": [
        "# 2015년 거래표 다운로드\n",
        "\n",
        "url_total = \"https://raw.githubusercontent.com/Tom-Jung/legendary-funicular/main/%EC%B4%9D%EA%B1%B0%EB%9E%98%ED%91%9C_2015_%EB%B6%88%EB%B3%80.csv\"  # 불변 2015년 총거래표\n",
        "Tot_cst_15 = pd.read_csv(url_total)\n",
        "\n",
        "url_imp = \"https://raw.githubusercontent.com/Tom-Jung/legendary-funicular/main/%EC%88%98%EC%9E%85%EA%B1%B0%EB%9E%98%ED%91%9C_2015_%EB%B6%88%EB%B3%80.csv\"  # 불변 2015년 수입거래표\n",
        "Imp_cst_15 = pd.read_csv(url_imp)\n",
        "\n",
        "url_dom = \"https://raw.githubusercontent.com/Tom-Jung/legendary-funicular/main/%EA%B5%AD%EC%82%B0%EA%B1%B0%EB%9E%98%ED%91%9C_2015_%EB%B6%88%EB%B3%80.csv\"  # 불변 2015년 국산거래표\n",
        "Dom_cst_15 = pd.read_csv(url_dom)"
      ],
      "metadata": {
        "id": "5iSPH3zYKquU"
      },
      "execution_count": null,
      "outputs": []
    },
    {
      "cell_type": "code",
      "source": [
        "# 2010년 거래표 다운로드\n",
        "\n",
        "url_total = \"https://raw.githubusercontent.com/Tom-Jung/legendary-funicular/main/%EC%B4%9D%EA%B1%B0%EB%9E%98%ED%91%9C_2010_%EB%B6%88%EB%B3%80.csv\"  # 불변 2015년 총거래표\n",
        "Tot_cst_10 = pd.read_csv(url_total)\n",
        "\n",
        "url_imp = \"https://raw.githubusercontent.com/Tom-Jung/legendary-funicular/main/%EC%88%98%EC%9E%85%EA%B1%B0%EB%9E%98%ED%91%9C_2010_%EB%B6%88%EB%B3%80.csv\"  # 불변 2015년 수입거래표\n",
        "Imp_cst_10 = pd.read_csv(url_imp)\n",
        "\n",
        "url_dom = \"https://raw.githubusercontent.com/Tom-Jung/legendary-funicular/main/%EA%B5%AD%EC%82%B0%EA%B1%B0%EB%9E%98%ED%91%9C_2010_%EB%B6%88%EB%B3%80.csv\"  # 불변 2015년 국산거래표\n",
        "Dom_cst_10 = pd.read_csv(url_dom)"
      ],
      "metadata": {
        "id": "o8Pv_b5hKqyW"
      },
      "execution_count": null,
      "outputs": []
    },
    {
      "cell_type": "code",
      "source": [
        "Tot_cst_15"
      ],
      "metadata": {
        "id": "f9aN0wIQGi15"
      },
      "execution_count": null,
      "outputs": []
    },
    {
      "cell_type": "code",
      "source": [
        "S_t0 = Tot_cst_10.iloc[1:41,2:].to_numpy() # 10년 총거래표 numpy로 숫자만 불러오기(시간 t-1)\n",
        "I_t0 = Imp_cst_10.iloc[1:38,2:].to_numpy() # 10년 수입거래표 numpy로 숫자만 불러오기\n",
        "\n",
        "S_t5 = Tot_cst_15.iloc[1:41,2:].to_numpy() # 15년 총거래표 numpy로 숫자만 불러오기(시간 t)\n",
        "I_t5 = Imp_cst_15.iloc[1:38,2:].to_numpy() # 15년 수입거래표 numpy로 숫자만 불러오기"
      ],
      "metadata": {
        "id": "YINcR019EBlx"
      },
      "execution_count": null,
      "outputs": []
    },
    {
      "cell_type": "code",
      "source": [
        "S1 = S_t5.astype(float)\n",
        "I1 = I_t5.astype(float)\n",
        "S0 = S_t0.astype(float)\n",
        "I0 = I_t0.astype(float)"
      ],
      "metadata": {
        "id": "Ir7eNUdhb7D3"
      },
      "execution_count": null,
      "outputs": []
    },
    {
      "cell_type": "code",
      "source": [
        "SS1 = np.concatenate((S1[:37,],np.zeros((1,45)), S1[37:39,] ), axis=0)  # 2015년 부가가치 조정항을 0으로 삽입(2010년과 동일한 포맷을 유지하기 위함)\n",
        "print(S_t0.shape)\n",
        "print(S_t5.shape)"
      ],
      "metadata": {
        "id": "y8dIDFxvGyjf"
      },
      "execution_count": null,
      "outputs": []
    },
    {
      "cell_type": "code",
      "source": [
        "SS0 = S0[0:32,0:32].astype(float)  # 내생항목 32x32\n",
        "SS1 = S1[0:32,0:32].astype(float)\n",
        "SS1.shape"
      ],
      "metadata": {
        "id": "GWivqhPhL5T7"
      },
      "execution_count": null,
      "outputs": []
    },
    {
      "cell_type": "code",
      "source": [
        "II0 = I0[0:32,0:32]  # 수입 내생항목 32x32\n",
        "II1 = I1[0:32,0:32]"
      ],
      "metadata": {
        "id": "7-RxwIZaeYt0"
      },
      "execution_count": null,
      "outputs": []
    },
    {
      "cell_type": "code",
      "source": [
        "DD0 =SS0 - II0  # 국산 내생항목 32x32\n",
        "DD1 =SS1 - II1"
      ],
      "metadata": {
        "id": "RCdnGfOpeYwS"
      },
      "execution_count": null,
      "outputs": []
    },
    {
      "cell_type": "code",
      "source": [
        "TM0 = I0[0:32,41]  # 총수입벡터\n",
        "TM1 = I1[0:32,41]\n",
        "TM0.shape"
      ],
      "metadata": {
        "id": "iJUj_ANLeYyy"
      },
      "execution_count": null,
      "outputs": []
    },
    {
      "cell_type": "code",
      "source": [
        "IM0 = I0[0:32,32]  # 중간재수입벡터\n",
        "IM1 = I1[0:32,32]"
      ],
      "metadata": {
        "id": "MFuhXJf7eY05"
      },
      "execution_count": null,
      "outputs": []
    },
    {
      "cell_type": "code",
      "source": [
        "IF0 = I0[0:32,40]  # 최종재수입벡터\n",
        "IF1 = I1[0:32,40]\n",
        "IF1"
      ],
      "metadata": {
        "id": "pPQ8aPECeY3J"
      },
      "execution_count": null,
      "outputs": []
    },
    {
      "cell_type": "code",
      "source": [
        "SFC0 = S0[0:32,33:35]  # 최종수요-소비\n",
        "SFC0 = SFC0.sum(axis=1)\n",
        "SFC1 = S1[0:32,33:35]\n",
        "SFC1 = SFC1.sum(axis=1)\n",
        "SFC1"
      ],
      "metadata": {
        "id": "PywPpOqreY5Q"
      },
      "execution_count": null,
      "outputs": []
    },
    {
      "cell_type": "code",
      "source": [
        "SFI0 = S0[0:32,35:39 ] # 최종수요-투자\n",
        "SFI0 = SFI0.sum(axis=1)\n",
        "SFI1 = S1[0:32,35:39]\n",
        "SFI1 = SFI1.sum(axis=1)\n",
        "SFI1"
      ],
      "metadata": {
        "id": "Ix970H04eY7n"
      },
      "execution_count": null,
      "outputs": []
    },
    {
      "cell_type": "code",
      "source": [
        "SF0 = S0[0:32,40] # 최종수요합계\n",
        "SF1 = S1[0:32,40]\n",
        "SF1"
      ],
      "metadata": {
        "id": "B65fDULHCBh8"
      },
      "execution_count": null,
      "outputs": []
    },
    {
      "cell_type": "code",
      "source": [
        "EX0 = S0[0:32,39] # 수출\n",
        "EX1 = S1[0:32,39]\n",
        "EX1"
      ],
      "metadata": {
        "id": "iA373XRaCBke"
      },
      "execution_count": null,
      "outputs": []
    },
    {
      "cell_type": "code",
      "source": [
        "DF0 = SF0 - EX0 #소비+투자\n",
        "DF1 = SF1 - EX1"
      ],
      "metadata": {
        "id": "-TSTMCf-CBm-"
      },
      "execution_count": null,
      "outputs": []
    },
    {
      "cell_type": "code",
      "source": [
        "SFC00 = SFC0.sum(axis=0) # 소비합계\n",
        "SFC11 = SFC1.sum(axis=0)\n",
        "\n",
        "SFI00 = SFI0.sum(axis=0) # 투자합계\n",
        "SFI11 = SFI1.sum(axis=0)\n",
        "\n",
        "EX00 = EX0.sum(axis=0) # 수출합계\n",
        "EX11 = EX1.sum(axis=0)\n",
        "\n",
        "print('2010년 소비합계 : ', SFC00)\n",
        "print('2015년 소비합계 : ', SFC11)\n",
        "\n",
        "print('2010년 투자합계 : ', SFI00)\n",
        "print('2015년 투자합계 : ', SFI11)\n",
        "\n",
        "print('2010년 수출합계 : ', EX00)\n",
        "print('2015년 수출합계 : ', EX11)\n"
      ],
      "metadata": {
        "id": "bsUg2RmYELiu"
      },
      "execution_count": null,
      "outputs": []
    },
    {
      "cell_type": "code",
      "source": [
        "GDC1 = ((SFC11 - SFC00)/ SFC00) # 소비증가율\n",
        "GDC2 = GDC1*SFC0  # 규모효과\n",
        "GDC3 = (SFC1-SFC0) - GDC2 # 구조효과"
      ],
      "metadata": {
        "id": "44Dv7WlvELla"
      },
      "execution_count": null,
      "outputs": []
    },
    {
      "cell_type": "code",
      "source": [
        "GDI1 = ((SFI11 - SFI00)/ SFI00) # 투자증가율\n",
        "GDI2 = GDI1*SFI0 # 규모효과\n",
        "GDI3 = (SFI1-SFI0) - GDI2 # 구조효과"
      ],
      "metadata": {
        "id": "kUvW8c4mELn3"
      },
      "execution_count": null,
      "outputs": []
    },
    {
      "cell_type": "code",
      "source": [
        "ED1 = ((EX11 - EX00)/EX00) # 수출증가율\n",
        "ED2 = ED1*EX0 # 규모효과\n",
        "ED3 = (EX1-EX0) - ED2 # 구조효과"
      ],
      "metadata": {
        "id": "HOEfWHa4ELqN"
      },
      "execution_count": null,
      "outputs": []
    },
    {
      "cell_type": "code",
      "source": [
        "C0 = S0[-1,0:32].T.reshape([32,1])  # 총산출액\n",
        "C1 = S1[-1,0:32].T.reshape([32,1])\n",
        "C1.shape"
      ],
      "metadata": {
        "id": "iZ80_uBiELtF"
      },
      "execution_count": null,
      "outputs": []
    },
    {
      "cell_type": "code",
      "source": [
        "TC0 = C0.sum(axis=0)  #총산출계\n",
        "TC1 = C1.sum(axis=0)"
      ],
      "metadata": {
        "id": "P83r7vKxELvb"
      },
      "execution_count": null,
      "outputs": []
    },
    {
      "cell_type": "code",
      "source": [
        "V0 = S0[-1,0:32].T - S0[32,0:32].T # 부가가치계벡터 = 총투입액 - 중간투입계\n",
        "V1 = S1[-1,0:32].T - S1[32,0:32].T\n",
        "V1"
      ],
      "metadata": {
        "id": "JNBtafCsELyF"
      },
      "execution_count": null,
      "outputs": []
    },
    {
      "cell_type": "code",
      "source": [
        "AV0 = V0/C0 # 부가가치계수\n",
        "AV1 = V1/C1"
      ],
      "metadata": {
        "id": "0J-f-kPxEL0Z"
      },
      "execution_count": null,
      "outputs": []
    },
    {
      "cell_type": "code",
      "source": [
        "CT0 = np.tile(C0, reps=[1,32])   # Ct벡터를 반복해여 행렬(32x32)로 만듬\n",
        "CT1 = np.tile(C1, reps=[1,32])\n",
        "CT1"
      ],
      "metadata": {
        "id": "9dGIXvcTEL3B"
      },
      "execution_count": null,
      "outputs": []
    },
    {
      "cell_type": "code",
      "source": [
        "AS0 = SS0/CT0.T # 총투입계수표\n",
        "AS1 = SS1/CT1.T\n",
        "# np.isnan(AS_t)"
      ],
      "metadata": {
        "id": "NCE7a-1dgP2f"
      },
      "execution_count": null,
      "outputs": []
    },
    {
      "cell_type": "code",
      "source": [
        "AD0 = DD0/CT0.T # 국산투입계수표\n",
        "AD1 = DD1/CT1.T"
      ],
      "metadata": {
        "id": "tWvEJKQJi9Lt"
      },
      "execution_count": null,
      "outputs": []
    },
    {
      "cell_type": "code",
      "source": [
        "II0 = AS0-AD0 # 수입투입계수표\n",
        "II1 = AS1-AD1"
      ],
      "metadata": {
        "id": "YaT-6Loqi9OR"
      },
      "execution_count": null,
      "outputs": []
    },
    {
      "cell_type": "code",
      "source": [
        "M0 = IF0/DF0 # 수입최종수요/(소비+투자)\n",
        "M0 = np.diag(M0)\n",
        "\n",
        "M1 = IF1/DF1\n",
        "M1 = np.diag(M1)"
      ],
      "metadata": {
        "id": "w-ShpkV7i9QY"
      },
      "execution_count": null,
      "outputs": []
    },
    {
      "cell_type": "code",
      "source": [
        "RD0 = np.linalg.inv(np.eye(32) - AD0) # 생산유발계수\n",
        "RD1 = np.linalg.inv(np.eye(32) - AD1)"
      ],
      "metadata": {
        "id": "y5HiakVIi9Sk"
      },
      "execution_count": null,
      "outputs": []
    },
    {
      "cell_type": "code",
      "source": [
        "AM0 = II0/AS0 #조정항목\n",
        "AM0 = AM0*AS1\n",
        "\n",
        "AM1 = II1/AS1\n",
        "AM1 = AM1*AS0\n",
        "\n",
        "np.nan_to_num(AM0, copy=False)\n",
        "np.nan_to_num(AM1, copy=False)"
      ],
      "metadata": {
        "id": "-62Wibedi9U7"
      },
      "execution_count": null,
      "outputs": []
    },
    {
      "cell_type": "code",
      "source": [
        "AA = AS1 - AS0 #투입계수변화\n",
        "AS1_f = pd.DataFrame(AS1)\n",
        "AS1_f.to_csv('AS1_f.csv')"
      ],
      "metadata": {
        "id": "oaRIccJKinqc"
      },
      "execution_count": null,
      "outputs": []
    },
    {
      "cell_type": "markdown",
      "source": [
        "#### 산출액성장요인분해\n",
        "-  파쉐방식으로 산출액 변동을 분해"
      ],
      "metadata": {
        "id": "LtkcJ9Pasrzo"
      }
    },
    {
      "cell_type": "code",
      "source": [
        "TC1 = ((RD1@(np.eye(32)-M1))@GDC2).reshape([32,1])  # 소비규모증가효과\n",
        "TC11 = ((RD1@(np.eye(32)-M1))@GDC3).reshape([32,1]) # 소비구조증가효과\n",
        "TCTD = TC1 + TC11\n",
        "TC111 = np.concatenate((TCTD, TC1, TC11), axis=1)\n",
        "# TC111"
      ],
      "metadata": {
        "id": "KMvKjFJ0q19V"
      },
      "execution_count": null,
      "outputs": []
    },
    {
      "cell_type": "code",
      "source": [
        "TI1 = ((RD1@(np.eye(32)-M1))@GDI2).reshape([32,1])  # 소비규모증가효과\n",
        "TI11 = ((RD1@(np.eye(32)-M1))@GDI3).reshape([32,1]) # 소비구조증가효과\n",
        "TITD = TI1 + TI11\n",
        "TI111 = np.concatenate((TITD, TI1, TI11), axis=1)"
      ],
      "metadata": {
        "id": "WkSQSCLhul8x"
      },
      "execution_count": null,
      "outputs": []
    },
    {
      "cell_type": "code",
      "source": [
        "TQ = TC1+TI1 # 국내최종수요규모증가효과\n",
        "TS = TC11+TI11 # 국내최종수요규조변화효과\n",
        "TQS = TQ+TS\n",
        "T1 = np.concatenate((TQS, TQ, TS), axis=1)\n",
        "T1.shape"
      ],
      "metadata": {
        "id": "Wmq1H3tuumAB"
      },
      "execution_count": null,
      "outputs": []
    },
    {
      "cell_type": "code",
      "source": [
        "T2 = (RD1@ED2).reshape([32,1]) # 수출규모증가효과\n",
        "T22 = (RD1@ED3) .reshape([32,1])# 수출구조변화효과\n",
        "TTE = T2+T22\n",
        "T2 = np.concatenate((TTE, T2, T22), axis=1)"
      ],
      "metadata": {
        "id": "PgRj1lk4tyya"
      },
      "execution_count": null,
      "outputs": []
    },
    {
      "cell_type": "code",
      "source": [
        "T3 = ((RD1@(M1 - M0))@DF0).reshape([32,1]) # 최종재수입대체효과\n",
        "T3 = T3*-1\n",
        "T4 = ((RD1@(AM1 - II0)))@C0[0:32,] # 중간재수입대체효과\n",
        "T4 = T4*-1\n",
        "T34 = T3 + T4\n",
        "TI = np.concatenate((T34, T3, T4), axis=1)\n",
        "TI\n",
        "\n"
      ],
      "metadata": {
        "id": "8Mr7oaogtKuC"
      },
      "execution_count": null,
      "outputs": []
    },
    {
      "cell_type": "code",
      "source": [
        "T5 = (RD1@(AA-(II1-AM1)))@C0 # 기술변화효과\n",
        "T5.shape\n",
        "T5"
      ],
      "metadata": {
        "id": "iHLeIimfRbIu"
      },
      "execution_count": null,
      "outputs": []
    },
    {
      "cell_type": "code",
      "source": [
        "DCT0 = C1-C0  #산출액 실질변동액\n",
        "DCT1 = TCTD + TITD + TTE +T3 + T4 + T5 # 총변동요인\n",
        "DCT = DCT0-DCT1"
      ],
      "metadata": {
        "id": "-bGGgsUDHQ79"
      },
      "execution_count": null,
      "outputs": []
    },
    {
      "cell_type": "code",
      "source": [
        "SUM = np.concatenate((C0, C1, DCT0, DCT1, DCT, T1, TC111, TI111, T2, TI, T5), axis=1)\n",
        "SUM.shape\n",
        "SUM1 = np.sum(SUM, axis=0).reshape([1,21])\n",
        "PGD1015 = (np.concatenate((SUM, SUM1), axis=0))\n",
        "PGD1015_f = (PGD1015/1000).round(1)"
      ],
      "metadata": {
        "id": "vVUQoAshMJJU"
      },
      "execution_count": null,
      "outputs": []
    },
    {
      "cell_type": "code",
      "source": [
        "PGD1015_ff = pd.DataFrame(PGD1015_f,columns = ['10년산출액', '15년산출액', '15-10산출액(A)', '요인별합계(B)', 'B-A', '국내최종수요증감액', '국내최종수요(규모증가)', '국내최종수요(구조변화)',\n",
        "                                                     '소비', '소비(규모)','소비(구조)','투자', '투자(규모)','투자(구조)', '수출', '수출(규모)','수출(구조)', '수입', '최종재수입','중간재수입', '기술변화'],\n",
        "\n",
        "                         index=['농림수산품', '광산품', '음식료품', '섬유 및 가죽제품', '목재 및 종이, 인쇄', ' 석탄 및 석유제품', '화학제품', '비금속광물제품', '1차금속제품', '금속가공제품',\n",
        "                                '컴퓨터, 전자 및 광학기기', '전기장비', '기계 및 장비', '운송장비', '기타제조업제품', '제조임가공 및 산업용 장비 수리', '전력, 가스 및 증기', '수도, 폐기물처리 및 재활용 서비스',\n",
        "                                '건설', '도소매', '운송서비스', '음석점및숙박', '정보통신 및 방송서비스', '금융및보험서비스', '부동산서비스', '전문, 과학 및 기술서비스',\n",
        "                                '사업지원서비스', '공공행정, 국방 및 사회보장', '교육서비스', '보건 및 사회복지서비스', '예술, 스포츠 및 여가 관련 서비스', '기타 서비스', '계'])  # pandas로 내보내기"
      ],
      "metadata": {
        "id": "RGtoWYTD2Lhw"
      },
      "execution_count": null,
      "outputs": []
    },
    {
      "cell_type": "code",
      "source": [
        "PGD1015_ff"
      ],
      "metadata": {
        "id": "Fk9Z5m7G8oxT"
      },
      "execution_count": null,
      "outputs": []
    },
    {
      "cell_type": "code",
      "source": [
        "PGD1015_ff.to_csv('산출액변동요인.csv', encoding=\"utf-8-sig\")"
      ],
      "metadata": {
        "id": "h7CkNaE15PIg"
      },
      "execution_count": null,
      "outputs": []
    },
    {
      "cell_type": "code",
      "source": [
        "Ctbr =  PGD1015[:,5:]\n",
        "Ctbr.shape"
      ],
      "metadata": {
        "id": "3O6_BXxbcwuW"
      },
      "execution_count": null,
      "outputs": []
    },
    {
      "cell_type": "code",
      "source": [
        "sm_gap = PGD1015[:,3].reshape([33,1])  # 요인별 합계\n",
        "sm_gap.shape"
      ],
      "metadata": {
        "id": "Ib0VzKGcFjOo"
      },
      "execution_count": null,
      "outputs": []
    },
    {
      "cell_type": "code",
      "source": [
        "sm_gap1 = np.tile(sm_gap, reps=[1,16]) # 요인별 합계를 33x16으로 반복\n",
        "sm_gap1.shape"
      ],
      "metadata": {
        "id": "Ojzes5k4GZl_"
      },
      "execution_count": null,
      "outputs": []
    },
    {
      "cell_type": "code",
      "source": [
        "Ctrb = (Ctbr/sm_gap1)*100  # 각 항목별 기여율\n",
        "Ctrb_f = Ctrb.round(1)"
      ],
      "metadata": {
        "id": "-gooAQnRFjRg"
      },
      "execution_count": null,
      "outputs": []
    },
    {
      "cell_type": "code",
      "source": [
        "Ctrb_ff = pd.DataFrame(Ctrb_f,columns = ['국내최종수요증감액', '국내최종수요(규모증가)', '국내최종수요(구조변화)','소비', '소비(규모)','소비(구조)','투자', '투자(규모)','투자(구조)',\n",
        "                                         '수출', '수출(규모)','수출(구조)', '수입', '최종재수입','중간재수입', '기술변화'],\n",
        "\n",
        "                         index=['농림수산품', '광산품', '음식료품', '섬유 및 가죽제품', '목재 및 종이, 인쇄', ' 석탄 및 석유제품', '화학제품', '비금속광물제품', '1차금속제품', '금속가공제품',\n",
        "                                '컴퓨터, 전자 및 광학기기', '전기장비', '기계 및 장비', '운송장비', '기타제조업제품', '제조임가공 및 산업용 장비 수리', '전력, 가스 및 증기', '수도, 폐기물처리 및 재활용 서비스',\n",
        "                                '건설', '도소매', '운송서비스', '음석점및숙박', '정보통신 및 방송서비스', '금융및보험서비스', '부동산서비스', '전문, 과학 및 기술서비스',\n",
        "                                '사업지원서비스', '공공행정, 국방 및 사회보장', '교육서비스', '보건 및 사회복지서비스', '예술, 스포츠 및 여가 관련 서비스', '기타 서비스', '계'])  # pandas로 내보내기"
      ],
      "metadata": {
        "id": "ZiMJL68VDYdk"
      },
      "execution_count": null,
      "outputs": []
    },
    {
      "cell_type": "code",
      "source": [
        "Ctrb_ff.to_csv('항목별 기여율.csv', encoding=\"utf-8-sig\")"
      ],
      "metadata": {
        "id": "tLccCmzVC3Hx"
      },
      "execution_count": null,
      "outputs": []
    },
    {
      "cell_type": "code",
      "source": [
        "YR = (((PGD1015[:,1]/PGD1015[:,0])**(1/5)-1)*100).reshape([33,1])\n",
        "YR"
      ],
      "metadata": {
        "id": "Py69_yTbDX6p"
      },
      "execution_count": null,
      "outputs": []
    },
    {
      "cell_type": "code",
      "source": [
        "Ctrb_amt = (Ctrb*YR/100)\n",
        "Ctrb_amt_f = Ctrb_amt.round(3)\n",
        "Ctrb_amt_f"
      ],
      "metadata": {
        "id": "kfNA_NIVKjgt"
      },
      "execution_count": null,
      "outputs": []
    },
    {
      "cell_type": "code",
      "source": [
        "Ctrb_amt_ff = pd.DataFrame(Ctrb_amt_f,columns = ['국내최종수요증감액', '국내최종수요(규모증가)', '국내최종수요(구조변화)','소비', '소비(규모)','소비(구조)','투자', '투자(규모)','투자(구조)',\n",
        "                                         '수출', '수출(규모)','수출(구조)', '수입', '최종재수입','중간재수입', '기술변화'],\n",
        "\n",
        "                         index=['농림수산품', '광산품', '음식료품', '섬유 및 가죽제품', '목재 및 종이, 인쇄', ' 석탄 및 석유제품', '화학제품', '비금속광물제품', '1차금속제품', '금속가공제품',\n",
        "                                '컴퓨터, 전자 및 광학기기', '전기장비', '기계 및 장비', '운송장비', '기타제조업제품', '제조임가공 및 산업용 장비 수리', '전력, 가스 및 증기', '수도, 폐기물처리 및 재활용 서비스',\n",
        "                                '건설', '도소매', '운송서비스', '음석점및숙박', '정보통신 및 방송서비스', '금융및보험서비스', '부동산서비스', '전문, 과학 및 기술서비스',\n",
        "                                '사업지원서비스', '공공행정, 국방 및 사회보장', '교육서비스', '보건 및 사회복지서비스', '예술, 스포츠 및 여가 관련 서비스', '기타 서비스', '계'])  # pandas로 내보내기"
      ],
      "metadata": {
        "id": "SkF8oJDrCXTt"
      },
      "execution_count": null,
      "outputs": []
    },
    {
      "cell_type": "code",
      "source": [
        "Ctrb_amt_ff.to_csv('항목별 기여도.csv', encoding=\"utf-8-sig\")"
      ],
      "metadata": {
        "id": "Cx_mEeLP_Hrr"
      },
      "execution_count": null,
      "outputs": []
    },
    {
      "cell_type": "code",
      "source": [],
      "metadata": {
        "id": "qqR3XrzKeCrl"
      },
      "execution_count": null,
      "outputs": []
    }
  ]
}