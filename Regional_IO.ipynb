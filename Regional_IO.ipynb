{
  "nbformat": 4,
  "nbformat_minor": 0,
  "metadata": {
    "colab": {
      "provenance": [],
      "mount_file_id": "https://github.com/Tom-Jung/legendary-funicular/blob/main/IO_tables.ipynb",
      "authorship_tag": "ABX9TyN7KrFZZGmtrFhi2KFckCny",
      "include_colab_link": true
    },
    "kernelspec": {
      "name": "python3",
      "display_name": "Python 3"
    },
    "language_info": {
      "name": "python"
    }
  },
  "cells": [
    {
      "cell_type": "markdown",
      "metadata": {
        "id": "view-in-github",
        "colab_type": "text"
      },
      "source": [
        "<a href=\"https://colab.research.google.com/github/Tom-Jung/legendary-funicular/blob/main/Regional_IO.ipynb\" target=\"_parent\"><img src=\"https://colab.research.google.com/assets/colab-badge.svg\" alt=\"Open In Colab\"/></a>"
      ]
    },
    {
      "cell_type": "code",
      "source": [
        "import numpy as np   # Numpy import\n",
        "import pandas as pd  # Pandas import"
      ],
      "metadata": {
        "id": "TR7JvW8CxBFT"
      },
      "execution_count": 154,
      "outputs": []
    },
    {
      "cell_type": "code",
      "source": [
        "\n",
        "\n",
        "url_RIO_33 = \"https://raw.githubusercontent.com/Tom-Jung/legendary-funicular/main/2015%EC%A7%80%EC%97%AD_%ED%88%AC%EC%9E%85%EC%82%B0%EC%B6%9C%ED%91%9C_%EC%83%9D%EC%82%B0%EC%9E%90%EA%B0%80%EA%B2%A9_%ED%86%B5%ED%95%A9%EB%8C%80%EB%B6%84%EB%A5%98.csv\"  # 33부문의 지역IO 불러오기\n",
        "RIO_33 = pd.read_csv(url_RIO_33)\n",
        "RIO_33.head()"
      ],
      "metadata": {
        "colab": {
          "base_uri": "https://localhost:8080/",
          "height": 525
        },
        "id": "8D9y7bqcuL7m",
        "outputId": "f5b2d535-447b-4f26-c7d4-517f64eacab7"
      },
      "execution_count": 155,
      "outputs": [
        {
          "output_type": "execute_result",
          "data": {
            "text/plain": [
              "   R1   S1     지역            서울        서울.1            서울.2           서울.3  \\\n",
              "0  R1   S1     부문             A           B             C01            C02   \n",
              "1  지역   부문    부문명         농림수산품         광산품            음식료품      섬유 및 가죽제품   \n",
              "2  서울    A  농림수산품  347.5192850   0.0242190    1683.2518161     85.4032160    \n",
              "3  서울    B    광산품    0.0000000   0.0000000      11.0220814     10.3017344    \n",
              "4  서울  C01   음식료품  177.7344928   0.7059238   26273.3617238   2697.6521685    \n",
              "\n",
              "           서울.4        서울.5           서울.6  ...       제주.35       제주.36  \\\n",
              "0           C03         C04            C05  ...        9121        9122   \n",
              "1   목재 및 종이, 인쇄   석탄 및 석유제품           화학제품  ...  민간고정\\n자본형성  정부고정\\n자본형성   \n",
              "2    8.6670837   0.0317551     28.9266954   ...  6.5322540   0.2107803    \n",
              "3    4.9149932   1.2612950     62.4223534   ...  0.0000000   0.0000000    \n",
              "4  474.1557889   4.5091775   1037.0013822   ...  0.0000000   0.0000000    \n",
              "\n",
              "         제주.37       제주.38       제주.39              전국.1              전국.2  \\\n",
              "0         9131        9132        9140              9190              9290   \n",
              "1         재고증감    귀중품\\n순취득          수출             최종수요계              총수요계   \n",
              "2   8.4765497   0.0000000   0.0000000     43737.9859807     88431.0000000    \n",
              "3  -0.1367610   0.0000000   0.0000000        74.4690937      7402.0000000    \n",
              "4  59.5836722   0.0000000   0.0000000   1129828.5659588   2289527.0000000    \n",
              "\n",
              "               전국.3        전국.4              전국.5  \n",
              "0              9310        9321              9390  \n",
              "1               총산출          수입              총공급계  \n",
              "2    88431.0000000   0.0000000     88431.0000000   \n",
              "3     7402.0000000   0.0000000      7402.0000000   \n",
              "4  2289527.0000000   0.0000000   2289527.0000000   \n",
              "\n",
              "[5 rows x 689 columns]"
            ],
            "text/html": [
              "\n",
              "  <div id=\"df-ebbaadeb-bf1c-419a-97b9-df920d79d137\">\n",
              "    <div class=\"colab-df-container\">\n",
              "      <div>\n",
              "<style scoped>\n",
              "    .dataframe tbody tr th:only-of-type {\n",
              "        vertical-align: middle;\n",
              "    }\n",
              "\n",
              "    .dataframe tbody tr th {\n",
              "        vertical-align: top;\n",
              "    }\n",
              "\n",
              "    .dataframe thead th {\n",
              "        text-align: right;\n",
              "    }\n",
              "</style>\n",
              "<table border=\"1\" class=\"dataframe\">\n",
              "  <thead>\n",
              "    <tr style=\"text-align: right;\">\n",
              "      <th></th>\n",
              "      <th>R1</th>\n",
              "      <th>S1</th>\n",
              "      <th>지역</th>\n",
              "      <th>서울</th>\n",
              "      <th>서울.1</th>\n",
              "      <th>서울.2</th>\n",
              "      <th>서울.3</th>\n",
              "      <th>서울.4</th>\n",
              "      <th>서울.5</th>\n",
              "      <th>서울.6</th>\n",
              "      <th>...</th>\n",
              "      <th>제주.35</th>\n",
              "      <th>제주.36</th>\n",
              "      <th>제주.37</th>\n",
              "      <th>제주.38</th>\n",
              "      <th>제주.39</th>\n",
              "      <th>전국.1</th>\n",
              "      <th>전국.2</th>\n",
              "      <th>전국.3</th>\n",
              "      <th>전국.4</th>\n",
              "      <th>전국.5</th>\n",
              "    </tr>\n",
              "  </thead>\n",
              "  <tbody>\n",
              "    <tr>\n",
              "      <th>0</th>\n",
              "      <td>R1</td>\n",
              "      <td>S1</td>\n",
              "      <td>부문</td>\n",
              "      <td>A</td>\n",
              "      <td>B</td>\n",
              "      <td>C01</td>\n",
              "      <td>C02</td>\n",
              "      <td>C03</td>\n",
              "      <td>C04</td>\n",
              "      <td>C05</td>\n",
              "      <td>...</td>\n",
              "      <td>9121</td>\n",
              "      <td>9122</td>\n",
              "      <td>9131</td>\n",
              "      <td>9132</td>\n",
              "      <td>9140</td>\n",
              "      <td>9190</td>\n",
              "      <td>9290</td>\n",
              "      <td>9310</td>\n",
              "      <td>9321</td>\n",
              "      <td>9390</td>\n",
              "    </tr>\n",
              "    <tr>\n",
              "      <th>1</th>\n",
              "      <td>지역</td>\n",
              "      <td>부문</td>\n",
              "      <td>부문명</td>\n",
              "      <td>농림수산품</td>\n",
              "      <td>광산품</td>\n",
              "      <td>음식료품</td>\n",
              "      <td>섬유 및 가죽제품</td>\n",
              "      <td>목재 및 종이, 인쇄</td>\n",
              "      <td>석탄 및 석유제품</td>\n",
              "      <td>화학제품</td>\n",
              "      <td>...</td>\n",
              "      <td>민간고정\\n자본형성</td>\n",
              "      <td>정부고정\\n자본형성</td>\n",
              "      <td>재고증감</td>\n",
              "      <td>귀중품\\n순취득</td>\n",
              "      <td>수출</td>\n",
              "      <td>최종수요계</td>\n",
              "      <td>총수요계</td>\n",
              "      <td>총산출</td>\n",
              "      <td>수입</td>\n",
              "      <td>총공급계</td>\n",
              "    </tr>\n",
              "    <tr>\n",
              "      <th>2</th>\n",
              "      <td>서울</td>\n",
              "      <td>A</td>\n",
              "      <td>농림수산품</td>\n",
              "      <td>347.5192850</td>\n",
              "      <td>0.0242190</td>\n",
              "      <td>1683.2518161</td>\n",
              "      <td>85.4032160</td>\n",
              "      <td>8.6670837</td>\n",
              "      <td>0.0317551</td>\n",
              "      <td>28.9266954</td>\n",
              "      <td>...</td>\n",
              "      <td>6.5322540</td>\n",
              "      <td>0.2107803</td>\n",
              "      <td>8.4765497</td>\n",
              "      <td>0.0000000</td>\n",
              "      <td>0.0000000</td>\n",
              "      <td>43737.9859807</td>\n",
              "      <td>88431.0000000</td>\n",
              "      <td>88431.0000000</td>\n",
              "      <td>0.0000000</td>\n",
              "      <td>88431.0000000</td>\n",
              "    </tr>\n",
              "    <tr>\n",
              "      <th>3</th>\n",
              "      <td>서울</td>\n",
              "      <td>B</td>\n",
              "      <td>광산품</td>\n",
              "      <td>0.0000000</td>\n",
              "      <td>0.0000000</td>\n",
              "      <td>11.0220814</td>\n",
              "      <td>10.3017344</td>\n",
              "      <td>4.9149932</td>\n",
              "      <td>1.2612950</td>\n",
              "      <td>62.4223534</td>\n",
              "      <td>...</td>\n",
              "      <td>0.0000000</td>\n",
              "      <td>0.0000000</td>\n",
              "      <td>-0.1367610</td>\n",
              "      <td>0.0000000</td>\n",
              "      <td>0.0000000</td>\n",
              "      <td>74.4690937</td>\n",
              "      <td>7402.0000000</td>\n",
              "      <td>7402.0000000</td>\n",
              "      <td>0.0000000</td>\n",
              "      <td>7402.0000000</td>\n",
              "    </tr>\n",
              "    <tr>\n",
              "      <th>4</th>\n",
              "      <td>서울</td>\n",
              "      <td>C01</td>\n",
              "      <td>음식료품</td>\n",
              "      <td>177.7344928</td>\n",
              "      <td>0.7059238</td>\n",
              "      <td>26273.3617238</td>\n",
              "      <td>2697.6521685</td>\n",
              "      <td>474.1557889</td>\n",
              "      <td>4.5091775</td>\n",
              "      <td>1037.0013822</td>\n",
              "      <td>...</td>\n",
              "      <td>0.0000000</td>\n",
              "      <td>0.0000000</td>\n",
              "      <td>59.5836722</td>\n",
              "      <td>0.0000000</td>\n",
              "      <td>0.0000000</td>\n",
              "      <td>1129828.5659588</td>\n",
              "      <td>2289527.0000000</td>\n",
              "      <td>2289527.0000000</td>\n",
              "      <td>0.0000000</td>\n",
              "      <td>2289527.0000000</td>\n",
              "    </tr>\n",
              "  </tbody>\n",
              "</table>\n",
              "<p>5 rows × 689 columns</p>\n",
              "</div>\n",
              "      <button class=\"colab-df-convert\" onclick=\"convertToInteractive('df-ebbaadeb-bf1c-419a-97b9-df920d79d137')\"\n",
              "              title=\"Convert this dataframe to an interactive table.\"\n",
              "              style=\"display:none;\">\n",
              "        \n",
              "  <svg xmlns=\"http://www.w3.org/2000/svg\" height=\"24px\"viewBox=\"0 0 24 24\"\n",
              "       width=\"24px\">\n",
              "    <path d=\"M0 0h24v24H0V0z\" fill=\"none\"/>\n",
              "    <path d=\"M18.56 5.44l.94 2.06.94-2.06 2.06-.94-2.06-.94-.94-2.06-.94 2.06-2.06.94zm-11 1L8.5 8.5l.94-2.06 2.06-.94-2.06-.94L8.5 2.5l-.94 2.06-2.06.94zm10 10l.94 2.06.94-2.06 2.06-.94-2.06-.94-.94-2.06-.94 2.06-2.06.94z\"/><path d=\"M17.41 7.96l-1.37-1.37c-.4-.4-.92-.59-1.43-.59-.52 0-1.04.2-1.43.59L10.3 9.45l-7.72 7.72c-.78.78-.78 2.05 0 2.83L4 21.41c.39.39.9.59 1.41.59.51 0 1.02-.2 1.41-.59l7.78-7.78 2.81-2.81c.8-.78.8-2.07 0-2.86zM5.41 20L4 18.59l7.72-7.72 1.47 1.35L5.41 20z\"/>\n",
              "  </svg>\n",
              "      </button>\n",
              "      \n",
              "  <style>\n",
              "    .colab-df-container {\n",
              "      display:flex;\n",
              "      flex-wrap:wrap;\n",
              "      gap: 12px;\n",
              "    }\n",
              "\n",
              "    .colab-df-convert {\n",
              "      background-color: #E8F0FE;\n",
              "      border: none;\n",
              "      border-radius: 50%;\n",
              "      cursor: pointer;\n",
              "      display: none;\n",
              "      fill: #1967D2;\n",
              "      height: 32px;\n",
              "      padding: 0 0 0 0;\n",
              "      width: 32px;\n",
              "    }\n",
              "\n",
              "    .colab-df-convert:hover {\n",
              "      background-color: #E2EBFA;\n",
              "      box-shadow: 0px 1px 2px rgba(60, 64, 67, 0.3), 0px 1px 3px 1px rgba(60, 64, 67, 0.15);\n",
              "      fill: #174EA6;\n",
              "    }\n",
              "\n",
              "    [theme=dark] .colab-df-convert {\n",
              "      background-color: #3B4455;\n",
              "      fill: #D2E3FC;\n",
              "    }\n",
              "\n",
              "    [theme=dark] .colab-df-convert:hover {\n",
              "      background-color: #434B5C;\n",
              "      box-shadow: 0px 1px 3px 1px rgba(0, 0, 0, 0.15);\n",
              "      filter: drop-shadow(0px 1px 2px rgba(0, 0, 0, 0.3));\n",
              "      fill: #FFFFFF;\n",
              "    }\n",
              "  </style>\n",
              "\n",
              "      <script>\n",
              "        const buttonEl =\n",
              "          document.querySelector('#df-ebbaadeb-bf1c-419a-97b9-df920d79d137 button.colab-df-convert');\n",
              "        buttonEl.style.display =\n",
              "          google.colab.kernel.accessAllowed ? 'block' : 'none';\n",
              "\n",
              "        async function convertToInteractive(key) {\n",
              "          const element = document.querySelector('#df-ebbaadeb-bf1c-419a-97b9-df920d79d137');\n",
              "          const dataTable =\n",
              "            await google.colab.kernel.invokeFunction('convertToInteractive',\n",
              "                                                     [key], {});\n",
              "          if (!dataTable) return;\n",
              "\n",
              "          const docLinkHtml = 'Like what you see? Visit the ' +\n",
              "            '<a target=\"_blank\" href=https://colab.research.google.com/notebooks/data_table.ipynb>data table notebook</a>'\n",
              "            + ' to learn more about interactive tables.';\n",
              "          element.innerHTML = '';\n",
              "          dataTable['output_type'] = 'display_data';\n",
              "          await google.colab.output.renderOutput(dataTable, element);\n",
              "          const docLink = document.createElement('div');\n",
              "          docLink.innerHTML = docLinkHtml;\n",
              "          element.appendChild(docLink);\n",
              "        }\n",
              "      </script>\n",
              "    </div>\n",
              "  </div>\n",
              "  "
            ]
          },
          "metadata": {},
          "execution_count": 155
        }
      ]
    },
    {
      "cell_type": "code",
      "source": [
        "RRIO_33 = RIO_33.to_numpy()\n",
        "RI_33 = RRIO_33[2:,3:].astype(float)\n",
        "RI_33.shape"
      ],
      "metadata": {
        "colab": {
          "base_uri": "https://localhost:8080/"
        },
        "id": "3Rq2EJgr1YSW",
        "outputId": "eab45890-e9fc-42fa-8352-80e44e6139f6"
      },
      "execution_count": 156,
      "outputs": [
        {
          "output_type": "execute_result",
          "data": {
            "text/plain": [
              "(603, 686)"
            ]
          },
          "metadata": {},
          "execution_count": 156
        }
      ]
    },
    {
      "cell_type": "markdown",
      "source": [
        "## 국산거래표 통합하기"
      ],
      "metadata": {
        "id": "3vwObBQ_X-BA"
      }
    },
    {
      "cell_type": "code",
      "source": [
        "cd_for_R = \"https://raw.githubusercontent.com/Tom-Jung/legendary-funicular/main/code_%EC%A7%80%EC%97%ADIO.csv\"  # 코드매치 파일\n",
        "cdr = pd.read_csv(cd_for_R)\n",
        "cdr.head()"
      ],
      "metadata": {
        "colab": {
          "base_uri": "https://localhost:8080/",
          "height": 206
        },
        "id": "KV1GAn1LuMF5",
        "outputId": "7aa20d7b-f7ed-4bec-cadd-2b1af3d3da34"
      },
      "execution_count": 157,
      "outputs": [
        {
          "output_type": "execute_result",
          "data": {
            "text/plain": [
              "    권역  지역 33부문          부문명  3부문  old_33부문  new_3부문및지역\n",
              "0  수도권  서울    A        농림수산품  농산품         1           1\n",
              "1  수도권  서울    B          광산품  공산품         2           2\n",
              "2  수도권  서울  C01         음식료품  공산품         3           2\n",
              "3  수도권  서울  C02    섬유 및 가죽제품  공산품         4           2\n",
              "4  수도권  서울  C03  목재 및 종이, 인쇄  공산품         5           2"
            ],
            "text/html": [
              "\n",
              "  <div id=\"df-c0e31f8f-d5bd-4f70-b3f8-ee220aa4543e\">\n",
              "    <div class=\"colab-df-container\">\n",
              "      <div>\n",
              "<style scoped>\n",
              "    .dataframe tbody tr th:only-of-type {\n",
              "        vertical-align: middle;\n",
              "    }\n",
              "\n",
              "    .dataframe tbody tr th {\n",
              "        vertical-align: top;\n",
              "    }\n",
              "\n",
              "    .dataframe thead th {\n",
              "        text-align: right;\n",
              "    }\n",
              "</style>\n",
              "<table border=\"1\" class=\"dataframe\">\n",
              "  <thead>\n",
              "    <tr style=\"text-align: right;\">\n",
              "      <th></th>\n",
              "      <th>권역</th>\n",
              "      <th>지역</th>\n",
              "      <th>33부문</th>\n",
              "      <th>부문명</th>\n",
              "      <th>3부문</th>\n",
              "      <th>old_33부문</th>\n",
              "      <th>new_3부문및지역</th>\n",
              "    </tr>\n",
              "  </thead>\n",
              "  <tbody>\n",
              "    <tr>\n",
              "      <th>0</th>\n",
              "      <td>수도권</td>\n",
              "      <td>서울</td>\n",
              "      <td>A</td>\n",
              "      <td>농림수산품</td>\n",
              "      <td>농산품</td>\n",
              "      <td>1</td>\n",
              "      <td>1</td>\n",
              "    </tr>\n",
              "    <tr>\n",
              "      <th>1</th>\n",
              "      <td>수도권</td>\n",
              "      <td>서울</td>\n",
              "      <td>B</td>\n",
              "      <td>광산품</td>\n",
              "      <td>공산품</td>\n",
              "      <td>2</td>\n",
              "      <td>2</td>\n",
              "    </tr>\n",
              "    <tr>\n",
              "      <th>2</th>\n",
              "      <td>수도권</td>\n",
              "      <td>서울</td>\n",
              "      <td>C01</td>\n",
              "      <td>음식료품</td>\n",
              "      <td>공산품</td>\n",
              "      <td>3</td>\n",
              "      <td>2</td>\n",
              "    </tr>\n",
              "    <tr>\n",
              "      <th>3</th>\n",
              "      <td>수도권</td>\n",
              "      <td>서울</td>\n",
              "      <td>C02</td>\n",
              "      <td>섬유 및 가죽제품</td>\n",
              "      <td>공산품</td>\n",
              "      <td>4</td>\n",
              "      <td>2</td>\n",
              "    </tr>\n",
              "    <tr>\n",
              "      <th>4</th>\n",
              "      <td>수도권</td>\n",
              "      <td>서울</td>\n",
              "      <td>C03</td>\n",
              "      <td>목재 및 종이, 인쇄</td>\n",
              "      <td>공산품</td>\n",
              "      <td>5</td>\n",
              "      <td>2</td>\n",
              "    </tr>\n",
              "  </tbody>\n",
              "</table>\n",
              "</div>\n",
              "      <button class=\"colab-df-convert\" onclick=\"convertToInteractive('df-c0e31f8f-d5bd-4f70-b3f8-ee220aa4543e')\"\n",
              "              title=\"Convert this dataframe to an interactive table.\"\n",
              "              style=\"display:none;\">\n",
              "        \n",
              "  <svg xmlns=\"http://www.w3.org/2000/svg\" height=\"24px\"viewBox=\"0 0 24 24\"\n",
              "       width=\"24px\">\n",
              "    <path d=\"M0 0h24v24H0V0z\" fill=\"none\"/>\n",
              "    <path d=\"M18.56 5.44l.94 2.06.94-2.06 2.06-.94-2.06-.94-.94-2.06-.94 2.06-2.06.94zm-11 1L8.5 8.5l.94-2.06 2.06-.94-2.06-.94L8.5 2.5l-.94 2.06-2.06.94zm10 10l.94 2.06.94-2.06 2.06-.94-2.06-.94-.94-2.06-.94 2.06-2.06.94z\"/><path d=\"M17.41 7.96l-1.37-1.37c-.4-.4-.92-.59-1.43-.59-.52 0-1.04.2-1.43.59L10.3 9.45l-7.72 7.72c-.78.78-.78 2.05 0 2.83L4 21.41c.39.39.9.59 1.41.59.51 0 1.02-.2 1.41-.59l7.78-7.78 2.81-2.81c.8-.78.8-2.07 0-2.86zM5.41 20L4 18.59l7.72-7.72 1.47 1.35L5.41 20z\"/>\n",
              "  </svg>\n",
              "      </button>\n",
              "      \n",
              "  <style>\n",
              "    .colab-df-container {\n",
              "      display:flex;\n",
              "      flex-wrap:wrap;\n",
              "      gap: 12px;\n",
              "    }\n",
              "\n",
              "    .colab-df-convert {\n",
              "      background-color: #E8F0FE;\n",
              "      border: none;\n",
              "      border-radius: 50%;\n",
              "      cursor: pointer;\n",
              "      display: none;\n",
              "      fill: #1967D2;\n",
              "      height: 32px;\n",
              "      padding: 0 0 0 0;\n",
              "      width: 32px;\n",
              "    }\n",
              "\n",
              "    .colab-df-convert:hover {\n",
              "      background-color: #E2EBFA;\n",
              "      box-shadow: 0px 1px 2px rgba(60, 64, 67, 0.3), 0px 1px 3px 1px rgba(60, 64, 67, 0.15);\n",
              "      fill: #174EA6;\n",
              "    }\n",
              "\n",
              "    [theme=dark] .colab-df-convert {\n",
              "      background-color: #3B4455;\n",
              "      fill: #D2E3FC;\n",
              "    }\n",
              "\n",
              "    [theme=dark] .colab-df-convert:hover {\n",
              "      background-color: #434B5C;\n",
              "      box-shadow: 0px 1px 3px 1px rgba(0, 0, 0, 0.15);\n",
              "      filter: drop-shadow(0px 1px 2px rgba(0, 0, 0, 0.3));\n",
              "      fill: #FFFFFF;\n",
              "    }\n",
              "  </style>\n",
              "\n",
              "      <script>\n",
              "        const buttonEl =\n",
              "          document.querySelector('#df-c0e31f8f-d5bd-4f70-b3f8-ee220aa4543e button.colab-df-convert');\n",
              "        buttonEl.style.display =\n",
              "          google.colab.kernel.accessAllowed ? 'block' : 'none';\n",
              "\n",
              "        async function convertToInteractive(key) {\n",
              "          const element = document.querySelector('#df-c0e31f8f-d5bd-4f70-b3f8-ee220aa4543e');\n",
              "          const dataTable =\n",
              "            await google.colab.kernel.invokeFunction('convertToInteractive',\n",
              "                                                     [key], {});\n",
              "          if (!dataTable) return;\n",
              "\n",
              "          const docLinkHtml = 'Like what you see? Visit the ' +\n",
              "            '<a target=\"_blank\" href=https://colab.research.google.com/notebooks/data_table.ipynb>data table notebook</a>'\n",
              "            + ' to learn more about interactive tables.';\n",
              "          element.innerHTML = '';\n",
              "          dataTable['output_type'] = 'display_data';\n",
              "          await google.colab.output.renderOutput(dataTable, element);\n",
              "          const docLink = document.createElement('div');\n",
              "          docLink.innerHTML = docLinkHtml;\n",
              "          element.appendChild(docLink);\n",
              "        }\n",
              "      </script>\n",
              "    </div>\n",
              "  </div>\n",
              "  "
            ]
          },
          "metadata": {},
          "execution_count": 157
        }
      ]
    },
    {
      "cell_type": "code",
      "source": [
        "cdr_for_itr = cdr[[\"old_33부문\", \"new_3부문및지역\"]]\n",
        "cdr_for_itr.head()"
      ],
      "metadata": {
        "colab": {
          "base_uri": "https://localhost:8080/",
          "height": 206
        },
        "id": "koVuss6guMLX",
        "outputId": "6e694b1b-645d-435c-e678-48e261d2f68a"
      },
      "execution_count": 158,
      "outputs": [
        {
          "output_type": "execute_result",
          "data": {
            "text/plain": [
              "   old_33부문  new_3부문및지역\n",
              "0         1           1\n",
              "1         2           2\n",
              "2         3           2\n",
              "3         4           2\n",
              "4         5           2"
            ],
            "text/html": [
              "\n",
              "  <div id=\"df-a5660f68-64e3-4451-844c-10ddf345b237\">\n",
              "    <div class=\"colab-df-container\">\n",
              "      <div>\n",
              "<style scoped>\n",
              "    .dataframe tbody tr th:only-of-type {\n",
              "        vertical-align: middle;\n",
              "    }\n",
              "\n",
              "    .dataframe tbody tr th {\n",
              "        vertical-align: top;\n",
              "    }\n",
              "\n",
              "    .dataframe thead th {\n",
              "        text-align: right;\n",
              "    }\n",
              "</style>\n",
              "<table border=\"1\" class=\"dataframe\">\n",
              "  <thead>\n",
              "    <tr style=\"text-align: right;\">\n",
              "      <th></th>\n",
              "      <th>old_33부문</th>\n",
              "      <th>new_3부문및지역</th>\n",
              "    </tr>\n",
              "  </thead>\n",
              "  <tbody>\n",
              "    <tr>\n",
              "      <th>0</th>\n",
              "      <td>1</td>\n",
              "      <td>1</td>\n",
              "    </tr>\n",
              "    <tr>\n",
              "      <th>1</th>\n",
              "      <td>2</td>\n",
              "      <td>2</td>\n",
              "    </tr>\n",
              "    <tr>\n",
              "      <th>2</th>\n",
              "      <td>3</td>\n",
              "      <td>2</td>\n",
              "    </tr>\n",
              "    <tr>\n",
              "      <th>3</th>\n",
              "      <td>4</td>\n",
              "      <td>2</td>\n",
              "    </tr>\n",
              "    <tr>\n",
              "      <th>4</th>\n",
              "      <td>5</td>\n",
              "      <td>2</td>\n",
              "    </tr>\n",
              "  </tbody>\n",
              "</table>\n",
              "</div>\n",
              "      <button class=\"colab-df-convert\" onclick=\"convertToInteractive('df-a5660f68-64e3-4451-844c-10ddf345b237')\"\n",
              "              title=\"Convert this dataframe to an interactive table.\"\n",
              "              style=\"display:none;\">\n",
              "        \n",
              "  <svg xmlns=\"http://www.w3.org/2000/svg\" height=\"24px\"viewBox=\"0 0 24 24\"\n",
              "       width=\"24px\">\n",
              "    <path d=\"M0 0h24v24H0V0z\" fill=\"none\"/>\n",
              "    <path d=\"M18.56 5.44l.94 2.06.94-2.06 2.06-.94-2.06-.94-.94-2.06-.94 2.06-2.06.94zm-11 1L8.5 8.5l.94-2.06 2.06-.94-2.06-.94L8.5 2.5l-.94 2.06-2.06.94zm10 10l.94 2.06.94-2.06 2.06-.94-2.06-.94-.94-2.06-.94 2.06-2.06.94z\"/><path d=\"M17.41 7.96l-1.37-1.37c-.4-.4-.92-.59-1.43-.59-.52 0-1.04.2-1.43.59L10.3 9.45l-7.72 7.72c-.78.78-.78 2.05 0 2.83L4 21.41c.39.39.9.59 1.41.59.51 0 1.02-.2 1.41-.59l7.78-7.78 2.81-2.81c.8-.78.8-2.07 0-2.86zM5.41 20L4 18.59l7.72-7.72 1.47 1.35L5.41 20z\"/>\n",
              "  </svg>\n",
              "      </button>\n",
              "      \n",
              "  <style>\n",
              "    .colab-df-container {\n",
              "      display:flex;\n",
              "      flex-wrap:wrap;\n",
              "      gap: 12px;\n",
              "    }\n",
              "\n",
              "    .colab-df-convert {\n",
              "      background-color: #E8F0FE;\n",
              "      border: none;\n",
              "      border-radius: 50%;\n",
              "      cursor: pointer;\n",
              "      display: none;\n",
              "      fill: #1967D2;\n",
              "      height: 32px;\n",
              "      padding: 0 0 0 0;\n",
              "      width: 32px;\n",
              "    }\n",
              "\n",
              "    .colab-df-convert:hover {\n",
              "      background-color: #E2EBFA;\n",
              "      box-shadow: 0px 1px 2px rgba(60, 64, 67, 0.3), 0px 1px 3px 1px rgba(60, 64, 67, 0.15);\n",
              "      fill: #174EA6;\n",
              "    }\n",
              "\n",
              "    [theme=dark] .colab-df-convert {\n",
              "      background-color: #3B4455;\n",
              "      fill: #D2E3FC;\n",
              "    }\n",
              "\n",
              "    [theme=dark] .colab-df-convert:hover {\n",
              "      background-color: #434B5C;\n",
              "      box-shadow: 0px 1px 3px 1px rgba(0, 0, 0, 0.15);\n",
              "      filter: drop-shadow(0px 1px 2px rgba(0, 0, 0, 0.3));\n",
              "      fill: #FFFFFF;\n",
              "    }\n",
              "  </style>\n",
              "\n",
              "      <script>\n",
              "        const buttonEl =\n",
              "          document.querySelector('#df-a5660f68-64e3-4451-844c-10ddf345b237 button.colab-df-convert');\n",
              "        buttonEl.style.display =\n",
              "          google.colab.kernel.accessAllowed ? 'block' : 'none';\n",
              "\n",
              "        async function convertToInteractive(key) {\n",
              "          const element = document.querySelector('#df-a5660f68-64e3-4451-844c-10ddf345b237');\n",
              "          const dataTable =\n",
              "            await google.colab.kernel.invokeFunction('convertToInteractive',\n",
              "                                                     [key], {});\n",
              "          if (!dataTable) return;\n",
              "\n",
              "          const docLinkHtml = 'Like what you see? Visit the ' +\n",
              "            '<a target=\"_blank\" href=https://colab.research.google.com/notebooks/data_table.ipynb>data table notebook</a>'\n",
              "            + ' to learn more about interactive tables.';\n",
              "          element.innerHTML = '';\n",
              "          dataTable['output_type'] = 'display_data';\n",
              "          await google.colab.output.renderOutput(dataTable, element);\n",
              "          const docLink = document.createElement('div');\n",
              "          docLink.innerHTML = docLinkHtml;\n",
              "          element.appendChild(docLink);\n",
              "        }\n",
              "      </script>\n",
              "    </div>\n",
              "  </div>\n",
              "  "
            ]
          },
          "metadata": {},
          "execution_count": 158
        }
      ]
    },
    {
      "cell_type": "code",
      "source": [
        "cd_itr = cdr_for_itr.to_numpy()\n",
        "cd_itr.shape"
      ],
      "metadata": {
        "colab": {
          "base_uri": "https://localhost:8080/"
        },
        "id": "ZFsrVoy2xQOh",
        "outputId": "7a0ad3bd-2d28-4dcf-fefe-36c6827e0f57"
      },
      "execution_count": 159,
      "outputs": [
        {
          "output_type": "execute_result",
          "data": {
            "text/plain": [
              "(594, 2)"
            ]
          },
          "metadata": {},
          "execution_count": 159
        }
      ]
    },
    {
      "cell_type": "code",
      "source": [
        "row = cd_itr[:,1]\n",
        "col = cd_itr[:,0]\n",
        "col"
      ],
      "metadata": {
        "colab": {
          "base_uri": "https://localhost:8080/"
        },
        "id": "PvHQzpU5xQS9",
        "outputId": "65dc8052-7752-4773-f08a-710ca76aa35e"
      },
      "execution_count": 160,
      "outputs": [
        {
          "output_type": "execute_result",
          "data": {
            "text/plain": [
              "array([  1,   2,   3,   4,   5,   6,   7,   8,   9,  10,  11,  12,  13,\n",
              "        14,  15,  16,  17,  18,  19,  20,  21,  22,  23,  24,  25,  26,\n",
              "        27,  28,  29,  30,  31,  32,  33,  34,  35,  36,  37,  38,  39,\n",
              "        40,  41,  42,  43,  44,  45,  46,  47,  48,  49,  50,  51,  52,\n",
              "        53,  54,  55,  56,  57,  58,  59,  60,  61,  62,  63,  64,  65,\n",
              "        66,  67,  68,  69,  70,  71,  72,  73,  74,  75,  76,  77,  78,\n",
              "        79,  80,  81,  82,  83,  84,  85,  86,  87,  88,  89,  90,  91,\n",
              "        92,  93,  94,  95,  96,  97,  98,  99, 100, 101, 102, 103, 104,\n",
              "       105, 106, 107, 108, 109, 110, 111, 112, 113, 114, 115, 116, 117,\n",
              "       118, 119, 120, 121, 122, 123, 124, 125, 126, 127, 128, 129, 130,\n",
              "       131, 132, 133, 134, 135, 136, 137, 138, 139, 140, 141, 142, 143,\n",
              "       144, 145, 146, 147, 148, 149, 150, 151, 152, 153, 154, 155, 156,\n",
              "       157, 158, 159, 160, 161, 162, 163, 164, 165, 166, 167, 168, 169,\n",
              "       170, 171, 172, 173, 174, 175, 176, 177, 178, 179, 180, 181, 182,\n",
              "       183, 184, 185, 186, 187, 188, 189, 190, 191, 192, 193, 194, 195,\n",
              "       196, 197, 198, 199, 200, 201, 202, 203, 204, 205, 206, 207, 208,\n",
              "       209, 210, 211, 212, 213, 214, 215, 216, 217, 218, 219, 220, 221,\n",
              "       222, 223, 224, 225, 226, 227, 228, 229, 230, 231, 232, 233, 234,\n",
              "       235, 236, 237, 238, 239, 240, 241, 242, 243, 244, 245, 246, 247,\n",
              "       248, 249, 250, 251, 252, 253, 254, 255, 256, 257, 258, 259, 260,\n",
              "       261, 262, 263, 264, 265, 266, 267, 268, 269, 270, 271, 272, 273,\n",
              "       274, 275, 276, 277, 278, 279, 280, 281, 282, 283, 284, 285, 286,\n",
              "       287, 288, 289, 290, 291, 292, 293, 294, 295, 296, 297, 298, 299,\n",
              "       300, 301, 302, 303, 304, 305, 306, 307, 308, 309, 310, 311, 312,\n",
              "       313, 314, 315, 316, 317, 318, 319, 320, 321, 322, 323, 324, 325,\n",
              "       326, 327, 328, 329, 330, 331, 332, 333, 334, 335, 336, 337, 338,\n",
              "       339, 340, 341, 342, 343, 344, 345, 346, 347, 348, 349, 350, 351,\n",
              "       352, 353, 354, 355, 356, 357, 358, 359, 360, 361, 362, 363, 364,\n",
              "       365, 366, 367, 368, 369, 370, 371, 372, 373, 374, 375, 376, 377,\n",
              "       378, 379, 380, 381, 382, 383, 384, 385, 386, 387, 388, 389, 390,\n",
              "       391, 392, 393, 394, 395, 396, 397, 398, 399, 400, 401, 402, 403,\n",
              "       404, 405, 406, 407, 408, 409, 410, 411, 412, 413, 414, 415, 416,\n",
              "       417, 418, 419, 420, 421, 422, 423, 424, 425, 426, 427, 428, 429,\n",
              "       430, 431, 432, 433, 434, 435, 436, 437, 438, 439, 440, 441, 442,\n",
              "       443, 444, 445, 446, 447, 448, 449, 450, 451, 452, 453, 454, 455,\n",
              "       456, 457, 458, 459, 460, 461, 462, 463, 464, 465, 466, 467, 468,\n",
              "       469, 470, 471, 472, 473, 474, 475, 476, 477, 478, 479, 480, 481,\n",
              "       482, 483, 484, 485, 486, 487, 488, 489, 490, 491, 492, 493, 494,\n",
              "       495, 496, 497, 498, 499, 500, 501, 502, 503, 504, 505, 506, 507,\n",
              "       508, 509, 510, 511, 512, 513, 514, 515, 516, 517, 518, 519, 520,\n",
              "       521, 522, 523, 524, 525, 526, 527, 528, 529, 530, 531, 532, 533,\n",
              "       534, 535, 536, 537, 538, 539, 540, 541, 542, 543, 544, 545, 546,\n",
              "       547, 548, 549, 550, 551, 552, 553, 554, 555, 556, 557, 558, 559,\n",
              "       560, 561, 562, 563, 564, 565, 566, 567, 568, 569, 570, 571, 572,\n",
              "       573, 574, 575, 576, 577, 578, 579, 580, 581, 582, 583, 584, 585,\n",
              "       586, 587, 588, 589, 590, 591, 592, 593, 594])"
            ]
          },
          "metadata": {},
          "execution_count": 160
        }
      ]
    },
    {
      "cell_type": "code",
      "source": [
        "Mtx = np.zeros((21,594))       # 부문통합을 위한 코드가 많을 경우 상기의 코드를 수작업으로 미리 하는 것이 쉽자 않으므로 반복문을 통해 3x33 임시코드 만들기\n",
        "for i, j in zip(row,col):\n",
        "  Mtx[i-1,j-1] = 1\n",
        "print(Mtx)\n",
        "code_18 = Mtx[:18,:561]"
      ],
      "metadata": {
        "colab": {
          "base_uri": "https://localhost:8080/"
        },
        "id": "54M7TuUPxQXJ",
        "outputId": "a2bc6dff-01a9-4ada-da0f-228685048ae0"
      },
      "execution_count": 161,
      "outputs": [
        {
          "output_type": "stream",
          "name": "stdout",
          "text": [
            "[[1. 0. 0. ... 0. 0. 0.]\n",
            " [0. 1. 1. ... 0. 0. 0.]\n",
            " [0. 0. 0. ... 0. 0. 0.]\n",
            " ...\n",
            " [0. 0. 0. ... 0. 0. 0.]\n",
            " [0. 0. 0. ... 0. 0. 0.]\n",
            " [0. 0. 0. ... 1. 1. 1.]]\n"
          ]
        }
      ]
    },
    {
      "cell_type": "code",
      "source": [
        "code_18.shape"
      ],
      "metadata": {
        "colab": {
          "base_uri": "https://localhost:8080/"
        },
        "id": "QqpzroGUFUGX",
        "outputId": "09c1abf9-95e6-4e57-e097-d9981d874954"
      },
      "execution_count": 162,
      "outputs": [
        {
          "output_type": "execute_result",
          "data": {
            "text/plain": [
              "(18, 561)"
            ]
          },
          "metadata": {},
          "execution_count": 162
        }
      ]
    },
    {
      "cell_type": "code",
      "source": [
        "nae_row = code_18@RI_33[:561,:561] # 국산중간투입(수요)의 행을 권역별 3부문으로 만들기\n",
        "nae_row.shape"
      ],
      "metadata": {
        "colab": {
          "base_uri": "https://localhost:8080/"
        },
        "id": "TaBc-2uwxQcH",
        "outputId": "7b7040dd-3fe6-47e3-d141-c1d7e62f12d1"
      },
      "execution_count": 163,
      "outputs": [
        {
          "output_type": "execute_result",
          "data": {
            "text/plain": [
              "(18, 561)"
            ]
          },
          "metadata": {},
          "execution_count": 163
        }
      ]
    },
    {
      "cell_type": "code",
      "source": [
        "dom_tot = nae_row@code_18.T  # 18X18 국산거래표\n",
        "print(dom_tot.shape)"
      ],
      "metadata": {
        "colab": {
          "base_uri": "https://localhost:8080/"
        },
        "id": "cyB895fXxQlH",
        "outputId": "710cb615-1839-463e-ef84-434e49de0a4b"
      },
      "execution_count": 164,
      "outputs": [
        {
          "output_type": "stream",
          "name": "stdout",
          "text": [
            "(18, 18)\n"
          ]
        }
      ]
    },
    {
      "cell_type": "code",
      "source": [
        "dom_tot.sum()  # 국산 총중간투입(수요)합으로 체크"
      ],
      "metadata": {
        "colab": {
          "base_uri": "https://localhost:8080/"
        },
        "id": "5rF4uzcQ3Csi",
        "outputId": "f85bc4bc-1424-43db-8110-3b37a3bc3d43"
      },
      "execution_count": 165,
      "outputs": [
        {
          "output_type": "execute_result",
          "data": {
            "text/plain": [
              "1718868914.9999511"
            ]
          },
          "metadata": {},
          "execution_count": 165
        }
      ]
    },
    {
      "cell_type": "markdown",
      "source": [
        "### 수입거래표 통합하기"
      ],
      "metadata": {
        "id": "KppLR2bMX3YP"
      }
    },
    {
      "cell_type": "code",
      "source": [
        "cd_im_rw = \"https://raw.githubusercontent.com/Tom-Jung/legendary-funicular/main/code.csv\"  # 코드매치 파일\n",
        "cd_i_rw = pd.read_csv(cd_im_rw)\n",
        "cd_ir_itr = cd_i_rw.to_numpy().reshape(33,2)\n",
        "row_i = cd_ir_itr[:,1]\n",
        "col_i = cd_ir_itr[:,0]\n",
        "col_i"
      ],
      "metadata": {
        "colab": {
          "base_uri": "https://localhost:8080/"
        },
        "id": "xXZyF0UpYDGZ",
        "outputId": "ef2a1088-3339-4485-97dc-cc95d6d66270"
      },
      "execution_count": 166,
      "outputs": [
        {
          "output_type": "execute_result",
          "data": {
            "text/plain": [
              "array([ 1,  2,  3,  4,  5,  6,  7,  8,  9, 10, 11, 12, 13, 14, 15, 16, 17,\n",
              "       18, 19, 20, 21, 22, 23, 24, 25, 26, 27, 28, 29, 30, 31, 32, 33])"
            ]
          },
          "metadata": {},
          "execution_count": 166
        }
      ]
    },
    {
      "cell_type": "code",
      "source": [
        "Mtx_i = np.zeros((3,33))       # 부문통합을 위한 코드가 많을 경우 상기의 코드를 수작업으로 미리 하는 것이 쉽자 않으므로 반복문을 통해 3x33 임시코드 만들기\n",
        "for i, j in zip(row_i,col_i):\n",
        "  Mtx_i[i-1,j-1] = 1\n",
        "code_3 = Mtx_i\n",
        "code_3"
      ],
      "metadata": {
        "colab": {
          "base_uri": "https://localhost:8080/"
        },
        "id": "bpzYTa2_YDUN",
        "outputId": "7d2ed217-b953-4c8f-ec93-7eaa69a22e96"
      },
      "execution_count": 167,
      "outputs": [
        {
          "output_type": "execute_result",
          "data": {
            "text/plain": [
              "array([[1., 0., 0., 0., 0., 0., 0., 0., 0., 0., 0., 0., 0., 0., 0., 0.,\n",
              "        0., 0., 0., 0., 0., 0., 0., 0., 0., 0., 0., 0., 0., 0., 0., 0.,\n",
              "        0.],\n",
              "       [0., 1., 1., 1., 1., 1., 1., 1., 1., 1., 1., 1., 1., 1., 1., 1.,\n",
              "        0., 0., 0., 0., 0., 0., 0., 0., 0., 0., 0., 0., 0., 0., 0., 0.,\n",
              "        0.],\n",
              "       [0., 0., 0., 0., 0., 0., 0., 0., 0., 0., 0., 0., 0., 0., 0., 0.,\n",
              "        1., 1., 1., 1., 1., 1., 1., 1., 1., 1., 1., 1., 1., 1., 1., 1.,\n",
              "        1.]])"
            ]
          },
          "metadata": {},
          "execution_count": 167
        }
      ]
    },
    {
      "cell_type": "code",
      "source": [
        "imp_row = code_3@RI_33[562:595,0:561]@code_18.T # 3X18 수입거래표\n",
        "imp_row.sum()"
      ],
      "metadata": {
        "colab": {
          "base_uri": "https://localhost:8080/"
        },
        "id": "PHhJgNKwW7vb",
        "outputId": "e16d1276-04cc-4b83-e7d6-0fae9ae9b7c1"
      },
      "execution_count": 168,
      "outputs": [
        {
          "output_type": "execute_result",
          "data": {
            "text/plain": [
              "477242497.0"
            ]
          },
          "metadata": {},
          "execution_count": 168
        }
      ]
    },
    {
      "cell_type": "markdown",
      "source": [
        "### 최종수요 통합하기"
      ],
      "metadata": {
        "id": "mEbcG1fOchKm"
      }
    },
    {
      "cell_type": "code",
      "source": [
        "cd_fd = \"https://raw.githubusercontent.com/Tom-Jung/legendary-funicular/main/code_%EC%A7%80%EC%97%ADIO_%EC%B5%9C%EC%A2%85%EC%88%98%EC%9A%94.csv\"  # 코드매치 파일\n",
        "cd_fd1 = pd.read_csv(cd_fd)\n",
        "cd_fd1.head()\n",
        "# cd_fd2 = cd_fd1.to_numpy()\n",
        "# row_fd = cd_fd2[:,1]\n",
        "# col_fd = cd_fd2[:,0]\n",
        "# row_fd"
      ],
      "metadata": {
        "colab": {
          "base_uri": "https://localhost:8080/",
          "height": 206
        },
        "id": "EgPdo35oW70Z",
        "outputId": "a17cea8a-303b-46ad-8c7e-dfbb76f9f648"
      },
      "execution_count": 169,
      "outputs": [
        {
          "output_type": "execute_result",
          "data": {
            "text/plain": [
              "   권역  항목코드                          항목  old_33부문  new_3부문및지역\n",
              "0  서울  9111  민간소비지출\\n(가계 및 가계봉사\\n비영리단체)         1           1\n",
              "1  서울  9112                      정부소비지출         2           1\n",
              "2  서울  9121                  민간고정\\n자본형성         3           2\n",
              "3  서울  9122                  정부고정\\n자본형성         4           2\n",
              "4  서울  9131                        재고증감         5           2"
            ],
            "text/html": [
              "\n",
              "  <div id=\"df-41203c9c-bf02-40cc-bef8-a6a6094d1415\">\n",
              "    <div class=\"colab-df-container\">\n",
              "      <div>\n",
              "<style scoped>\n",
              "    .dataframe tbody tr th:only-of-type {\n",
              "        vertical-align: middle;\n",
              "    }\n",
              "\n",
              "    .dataframe tbody tr th {\n",
              "        vertical-align: top;\n",
              "    }\n",
              "\n",
              "    .dataframe thead th {\n",
              "        text-align: right;\n",
              "    }\n",
              "</style>\n",
              "<table border=\"1\" class=\"dataframe\">\n",
              "  <thead>\n",
              "    <tr style=\"text-align: right;\">\n",
              "      <th></th>\n",
              "      <th>권역</th>\n",
              "      <th>항목코드</th>\n",
              "      <th>항목</th>\n",
              "      <th>old_33부문</th>\n",
              "      <th>new_3부문및지역</th>\n",
              "    </tr>\n",
              "  </thead>\n",
              "  <tbody>\n",
              "    <tr>\n",
              "      <th>0</th>\n",
              "      <td>서울</td>\n",
              "      <td>9111</td>\n",
              "      <td>민간소비지출\\n(가계 및 가계봉사\\n비영리단체)</td>\n",
              "      <td>1</td>\n",
              "      <td>1</td>\n",
              "    </tr>\n",
              "    <tr>\n",
              "      <th>1</th>\n",
              "      <td>서울</td>\n",
              "      <td>9112</td>\n",
              "      <td>정부소비지출</td>\n",
              "      <td>2</td>\n",
              "      <td>1</td>\n",
              "    </tr>\n",
              "    <tr>\n",
              "      <th>2</th>\n",
              "      <td>서울</td>\n",
              "      <td>9121</td>\n",
              "      <td>민간고정\\n자본형성</td>\n",
              "      <td>3</td>\n",
              "      <td>2</td>\n",
              "    </tr>\n",
              "    <tr>\n",
              "      <th>3</th>\n",
              "      <td>서울</td>\n",
              "      <td>9122</td>\n",
              "      <td>정부고정\\n자본형성</td>\n",
              "      <td>4</td>\n",
              "      <td>2</td>\n",
              "    </tr>\n",
              "    <tr>\n",
              "      <th>4</th>\n",
              "      <td>서울</td>\n",
              "      <td>9131</td>\n",
              "      <td>재고증감</td>\n",
              "      <td>5</td>\n",
              "      <td>2</td>\n",
              "    </tr>\n",
              "  </tbody>\n",
              "</table>\n",
              "</div>\n",
              "      <button class=\"colab-df-convert\" onclick=\"convertToInteractive('df-41203c9c-bf02-40cc-bef8-a6a6094d1415')\"\n",
              "              title=\"Convert this dataframe to an interactive table.\"\n",
              "              style=\"display:none;\">\n",
              "        \n",
              "  <svg xmlns=\"http://www.w3.org/2000/svg\" height=\"24px\"viewBox=\"0 0 24 24\"\n",
              "       width=\"24px\">\n",
              "    <path d=\"M0 0h24v24H0V0z\" fill=\"none\"/>\n",
              "    <path d=\"M18.56 5.44l.94 2.06.94-2.06 2.06-.94-2.06-.94-.94-2.06-.94 2.06-2.06.94zm-11 1L8.5 8.5l.94-2.06 2.06-.94-2.06-.94L8.5 2.5l-.94 2.06-2.06.94zm10 10l.94 2.06.94-2.06 2.06-.94-2.06-.94-.94-2.06-.94 2.06-2.06.94z\"/><path d=\"M17.41 7.96l-1.37-1.37c-.4-.4-.92-.59-1.43-.59-.52 0-1.04.2-1.43.59L10.3 9.45l-7.72 7.72c-.78.78-.78 2.05 0 2.83L4 21.41c.39.39.9.59 1.41.59.51 0 1.02-.2 1.41-.59l7.78-7.78 2.81-2.81c.8-.78.8-2.07 0-2.86zM5.41 20L4 18.59l7.72-7.72 1.47 1.35L5.41 20z\"/>\n",
              "  </svg>\n",
              "      </button>\n",
              "      \n",
              "  <style>\n",
              "    .colab-df-container {\n",
              "      display:flex;\n",
              "      flex-wrap:wrap;\n",
              "      gap: 12px;\n",
              "    }\n",
              "\n",
              "    .colab-df-convert {\n",
              "      background-color: #E8F0FE;\n",
              "      border: none;\n",
              "      border-radius: 50%;\n",
              "      cursor: pointer;\n",
              "      display: none;\n",
              "      fill: #1967D2;\n",
              "      height: 32px;\n",
              "      padding: 0 0 0 0;\n",
              "      width: 32px;\n",
              "    }\n",
              "\n",
              "    .colab-df-convert:hover {\n",
              "      background-color: #E2EBFA;\n",
              "      box-shadow: 0px 1px 2px rgba(60, 64, 67, 0.3), 0px 1px 3px 1px rgba(60, 64, 67, 0.15);\n",
              "      fill: #174EA6;\n",
              "    }\n",
              "\n",
              "    [theme=dark] .colab-df-convert {\n",
              "      background-color: #3B4455;\n",
              "      fill: #D2E3FC;\n",
              "    }\n",
              "\n",
              "    [theme=dark] .colab-df-convert:hover {\n",
              "      background-color: #434B5C;\n",
              "      box-shadow: 0px 1px 3px 1px rgba(0, 0, 0, 0.15);\n",
              "      filter: drop-shadow(0px 1px 2px rgba(0, 0, 0, 0.3));\n",
              "      fill: #FFFFFF;\n",
              "    }\n",
              "  </style>\n",
              "\n",
              "      <script>\n",
              "        const buttonEl =\n",
              "          document.querySelector('#df-41203c9c-bf02-40cc-bef8-a6a6094d1415 button.colab-df-convert');\n",
              "        buttonEl.style.display =\n",
              "          google.colab.kernel.accessAllowed ? 'block' : 'none';\n",
              "\n",
              "        async function convertToInteractive(key) {\n",
              "          const element = document.querySelector('#df-41203c9c-bf02-40cc-bef8-a6a6094d1415');\n",
              "          const dataTable =\n",
              "            await google.colab.kernel.invokeFunction('convertToInteractive',\n",
              "                                                     [key], {});\n",
              "          if (!dataTable) return;\n",
              "\n",
              "          const docLinkHtml = 'Like what you see? Visit the ' +\n",
              "            '<a target=\"_blank\" href=https://colab.research.google.com/notebooks/data_table.ipynb>data table notebook</a>'\n",
              "            + ' to learn more about interactive tables.';\n",
              "          element.innerHTML = '';\n",
              "          dataTable['output_type'] = 'display_data';\n",
              "          await google.colab.output.renderOutput(dataTable, element);\n",
              "          const docLink = document.createElement('div');\n",
              "          docLink.innerHTML = docLinkHtml;\n",
              "          element.appendChild(docLink);\n",
              "        }\n",
              "      </script>\n",
              "    </div>\n",
              "  </div>\n",
              "  "
            ]
          },
          "metadata": {},
          "execution_count": 169
        }
      ]
    },
    {
      "cell_type": "code",
      "source": [
        "cd_fd2 = cd_fd1[[\"old_33부문\", \"new_3부문및지역\"]]\n",
        "cd_fd2.head()"
      ],
      "metadata": {
        "colab": {
          "base_uri": "https://localhost:8080/",
          "height": 206
        },
        "id": "M4kJl177dZwE",
        "outputId": "146bc8fd-4c5f-41a2-d24e-0a8cd97a6e7e"
      },
      "execution_count": 170,
      "outputs": [
        {
          "output_type": "execute_result",
          "data": {
            "text/plain": [
              "   old_33부문  new_3부문및지역\n",
              "0         1           1\n",
              "1         2           1\n",
              "2         3           2\n",
              "3         4           2\n",
              "4         5           2"
            ],
            "text/html": [
              "\n",
              "  <div id=\"df-66c4ffd5-8611-4f78-9762-dc798688ce29\">\n",
              "    <div class=\"colab-df-container\">\n",
              "      <div>\n",
              "<style scoped>\n",
              "    .dataframe tbody tr th:only-of-type {\n",
              "        vertical-align: middle;\n",
              "    }\n",
              "\n",
              "    .dataframe tbody tr th {\n",
              "        vertical-align: top;\n",
              "    }\n",
              "\n",
              "    .dataframe thead th {\n",
              "        text-align: right;\n",
              "    }\n",
              "</style>\n",
              "<table border=\"1\" class=\"dataframe\">\n",
              "  <thead>\n",
              "    <tr style=\"text-align: right;\">\n",
              "      <th></th>\n",
              "      <th>old_33부문</th>\n",
              "      <th>new_3부문및지역</th>\n",
              "    </tr>\n",
              "  </thead>\n",
              "  <tbody>\n",
              "    <tr>\n",
              "      <th>0</th>\n",
              "      <td>1</td>\n",
              "      <td>1</td>\n",
              "    </tr>\n",
              "    <tr>\n",
              "      <th>1</th>\n",
              "      <td>2</td>\n",
              "      <td>1</td>\n",
              "    </tr>\n",
              "    <tr>\n",
              "      <th>2</th>\n",
              "      <td>3</td>\n",
              "      <td>2</td>\n",
              "    </tr>\n",
              "    <tr>\n",
              "      <th>3</th>\n",
              "      <td>4</td>\n",
              "      <td>2</td>\n",
              "    </tr>\n",
              "    <tr>\n",
              "      <th>4</th>\n",
              "      <td>5</td>\n",
              "      <td>2</td>\n",
              "    </tr>\n",
              "  </tbody>\n",
              "</table>\n",
              "</div>\n",
              "      <button class=\"colab-df-convert\" onclick=\"convertToInteractive('df-66c4ffd5-8611-4f78-9762-dc798688ce29')\"\n",
              "              title=\"Convert this dataframe to an interactive table.\"\n",
              "              style=\"display:none;\">\n",
              "        \n",
              "  <svg xmlns=\"http://www.w3.org/2000/svg\" height=\"24px\"viewBox=\"0 0 24 24\"\n",
              "       width=\"24px\">\n",
              "    <path d=\"M0 0h24v24H0V0z\" fill=\"none\"/>\n",
              "    <path d=\"M18.56 5.44l.94 2.06.94-2.06 2.06-.94-2.06-.94-.94-2.06-.94 2.06-2.06.94zm-11 1L8.5 8.5l.94-2.06 2.06-.94-2.06-.94L8.5 2.5l-.94 2.06-2.06.94zm10 10l.94 2.06.94-2.06 2.06-.94-2.06-.94-.94-2.06-.94 2.06-2.06.94z\"/><path d=\"M17.41 7.96l-1.37-1.37c-.4-.4-.92-.59-1.43-.59-.52 0-1.04.2-1.43.59L10.3 9.45l-7.72 7.72c-.78.78-.78 2.05 0 2.83L4 21.41c.39.39.9.59 1.41.59.51 0 1.02-.2 1.41-.59l7.78-7.78 2.81-2.81c.8-.78.8-2.07 0-2.86zM5.41 20L4 18.59l7.72-7.72 1.47 1.35L5.41 20z\"/>\n",
              "  </svg>\n",
              "      </button>\n",
              "      \n",
              "  <style>\n",
              "    .colab-df-container {\n",
              "      display:flex;\n",
              "      flex-wrap:wrap;\n",
              "      gap: 12px;\n",
              "    }\n",
              "\n",
              "    .colab-df-convert {\n",
              "      background-color: #E8F0FE;\n",
              "      border: none;\n",
              "      border-radius: 50%;\n",
              "      cursor: pointer;\n",
              "      display: none;\n",
              "      fill: #1967D2;\n",
              "      height: 32px;\n",
              "      padding: 0 0 0 0;\n",
              "      width: 32px;\n",
              "    }\n",
              "\n",
              "    .colab-df-convert:hover {\n",
              "      background-color: #E2EBFA;\n",
              "      box-shadow: 0px 1px 2px rgba(60, 64, 67, 0.3), 0px 1px 3px 1px rgba(60, 64, 67, 0.15);\n",
              "      fill: #174EA6;\n",
              "    }\n",
              "\n",
              "    [theme=dark] .colab-df-convert {\n",
              "      background-color: #3B4455;\n",
              "      fill: #D2E3FC;\n",
              "    }\n",
              "\n",
              "    [theme=dark] .colab-df-convert:hover {\n",
              "      background-color: #434B5C;\n",
              "      box-shadow: 0px 1px 3px 1px rgba(0, 0, 0, 0.15);\n",
              "      filter: drop-shadow(0px 1px 2px rgba(0, 0, 0, 0.3));\n",
              "      fill: #FFFFFF;\n",
              "    }\n",
              "  </style>\n",
              "\n",
              "      <script>\n",
              "        const buttonEl =\n",
              "          document.querySelector('#df-66c4ffd5-8611-4f78-9762-dc798688ce29 button.colab-df-convert');\n",
              "        buttonEl.style.display =\n",
              "          google.colab.kernel.accessAllowed ? 'block' : 'none';\n",
              "\n",
              "        async function convertToInteractive(key) {\n",
              "          const element = document.querySelector('#df-66c4ffd5-8611-4f78-9762-dc798688ce29');\n",
              "          const dataTable =\n",
              "            await google.colab.kernel.invokeFunction('convertToInteractive',\n",
              "                                                     [key], {});\n",
              "          if (!dataTable) return;\n",
              "\n",
              "          const docLinkHtml = 'Like what you see? Visit the ' +\n",
              "            '<a target=\"_blank\" href=https://colab.research.google.com/notebooks/data_table.ipynb>data table notebook</a>'\n",
              "            + ' to learn more about interactive tables.';\n",
              "          element.innerHTML = '';\n",
              "          dataTable['output_type'] = 'display_data';\n",
              "          await google.colab.output.renderOutput(dataTable, element);\n",
              "          const docLink = document.createElement('div');\n",
              "          docLink.innerHTML = docLinkHtml;\n",
              "          element.appendChild(docLink);\n",
              "        }\n",
              "      </script>\n",
              "    </div>\n",
              "  </div>\n",
              "  "
            ]
          },
          "metadata": {},
          "execution_count": 170
        }
      ]
    },
    {
      "cell_type": "code",
      "source": [
        "cd_fd3 = cd_fd2.to_numpy()\n",
        "cd_fd3.shape"
      ],
      "metadata": {
        "colab": {
          "base_uri": "https://localhost:8080/"
        },
        "id": "VVbArAZidZ4c",
        "outputId": "fc364c3b-93b5-4eeb-c9c0-e370651689fc"
      },
      "execution_count": 171,
      "outputs": [
        {
          "output_type": "execute_result",
          "data": {
            "text/plain": [
              "(119, 2)"
            ]
          },
          "metadata": {},
          "execution_count": 171
        }
      ]
    },
    {
      "cell_type": "code",
      "source": [
        "row_fd = cd_fd3[:,1]\n",
        "col_fd = cd_fd3[:,0]\n",
        "col_fd"
      ],
      "metadata": {
        "colab": {
          "base_uri": "https://localhost:8080/"
        },
        "id": "35qjdfaydZ9V",
        "outputId": "0eae3a33-0800-460a-a28f-827d6ba9c921"
      },
      "execution_count": 172,
      "outputs": [
        {
          "output_type": "execute_result",
          "data": {
            "text/plain": [
              "array([  1,   2,   3,   4,   5,   6,   7,   8,   9,  10,  11,  12,  13,\n",
              "        14,  15,  16,  17,  18,  19,  20,  21,  22,  23,  24,  25,  26,\n",
              "        27,  28,  29,  30,  31,  32,  33,  34,  35,  36,  37,  38,  39,\n",
              "        40,  41,  42,  43,  44,  45,  46,  47,  48,  49,  50,  51,  52,\n",
              "        53,  54,  55,  56,  57,  58,  59,  60,  61,  62,  63,  64,  65,\n",
              "        66,  67,  68,  69,  70,  71,  72,  73,  74,  75,  76,  77,  78,\n",
              "        79,  80,  81,  82,  83,  84,  85,  86,  87,  88,  89,  90,  91,\n",
              "        92,  93,  94,  95,  96,  97,  98,  99, 100, 101, 102, 103, 104,\n",
              "       105, 106, 107, 108, 109, 110, 111, 112, 113, 114, 115, 116, 117,\n",
              "       118, 119])"
            ]
          },
          "metadata": {},
          "execution_count": 172
        }
      ]
    },
    {
      "cell_type": "code",
      "source": [
        "Mtx_fd = np.zeros((21,119))       # 7가지 최종수요 항목을 소비, 투자, 수출로 통합\n",
        "for i, j in zip(row_fd,col_fd):\n",
        "  Mtx_fd[i-1,j-1] = 1\n",
        "print(Mtx_fd)\n",
        "code_fd_18 = Mtx_fd[:18,:119]\n",
        "print(code_fd_18.shape)"
      ],
      "metadata": {
        "colab": {
          "base_uri": "https://localhost:8080/"
        },
        "id": "JFEd7h1tdaBH",
        "outputId": "d565fa8e-2e73-4b51-e6e2-477130b246f9"
      },
      "execution_count": 173,
      "outputs": [
        {
          "output_type": "stream",
          "name": "stdout",
          "text": [
            "[[1. 1. 0. ... 0. 0. 0.]\n",
            " [0. 0. 1. ... 0. 0. 0.]\n",
            " [0. 0. 0. ... 0. 0. 0.]\n",
            " ...\n",
            " [0. 0. 0. ... 0. 0. 0.]\n",
            " [0. 0. 0. ... 0. 0. 0.]\n",
            " [0. 0. 0. ... 0. 0. 0.]]\n",
            "(18, 119)\n"
          ]
        }
      ]
    },
    {
      "cell_type": "code",
      "source": [
        "Fd_dom = RI_33[:561,562:681].astype(float)\n",
        "Fd_imp = RI_33[562:595,562:681].astype(float)\n",
        "print(Fd_dom.sum())\n",
        "print(Fd_imp.sum())\n",
        "print(Fd_dom.shape)"
      ],
      "metadata": {
        "colab": {
          "base_uri": "https://localhost:8080/"
        },
        "id": "JKWincbTdaEq",
        "outputId": "30b7ef83-7229-4ff8-b7b1-faeda6412500"
      },
      "execution_count": 174,
      "outputs": [
        {
          "output_type": "stream",
          "name": "stdout",
          "text": [
            "2114693165.0\n",
            "146759866.0\n",
            "(561, 119)\n"
          ]
        }
      ]
    },
    {
      "cell_type": "code",
      "source": [
        "Fd_dom_3 = (code_18@Fd_dom)@code_fd_18.T\n",
        "Fd_dom_3.shape"
      ],
      "metadata": {
        "colab": {
          "base_uri": "https://localhost:8080/"
        },
        "id": "y6l3Eu_IpEBZ",
        "outputId": "e92b2a02-a69d-4c32-fda7-d113d15e9676"
      },
      "execution_count": 175,
      "outputs": [
        {
          "output_type": "execute_result",
          "data": {
            "text/plain": [
              "(18, 18)"
            ]
          },
          "metadata": {},
          "execution_count": 175
        }
      ]
    },
    {
      "cell_type": "code",
      "source": [
        "Fd_imp_3 = (code_3@Fd_imp)@code_fd_18.T\n",
        "Fd_imp_3.shape"
      ],
      "metadata": {
        "colab": {
          "base_uri": "https://localhost:8080/"
        },
        "id": "o4_7_IjwdaKA",
        "outputId": "2bb0e898-773e-409d-99b9-69b362319250"
      },
      "execution_count": 176,
      "outputs": [
        {
          "output_type": "execute_result",
          "data": {
            "text/plain": [
              "(3, 18)"
            ]
          },
          "metadata": {},
          "execution_count": 176
        }
      ]
    },
    {
      "cell_type": "code",
      "source": [
        "print(Fd_dom_3.sum())\n",
        "print(Fd_imp_3.sum())"
      ],
      "metadata": {
        "colab": {
          "base_uri": "https://localhost:8080/"
        },
        "id": "QC54ZCNh1d3P",
        "outputId": "42faee7c-0b99-40a4-f0d3-7163177eeeee"
      },
      "execution_count": 177,
      "outputs": [
        {
          "output_type": "stream",
          "name": "stdout",
          "text": [
            "2114693165.0\n",
            "146759866.0\n"
          ]
        }
      ]
    },
    {
      "cell_type": "code",
      "source": [
        "fd_col_sm= (RI_33[596,562:681]@code_fd_18.T).reshape([1,18]) # 국산 및 수입최종수요 열합\n",
        "fd_col_sm.sum()"
      ],
      "metadata": {
        "colab": {
          "base_uri": "https://localhost:8080/"
        },
        "id": "Cg0av2sVv_wK",
        "outputId": "84710905-0520-41d4-9ec7-f6e1c1f49257"
      },
      "execution_count": 178,
      "outputs": [
        {
          "output_type": "execute_result",
          "data": {
            "text/plain": [
              "2261453031.0"
            ]
          },
          "metadata": {},
          "execution_count": 178
        }
      ]
    },
    {
      "cell_type": "code",
      "source": [
        "fd_each = np.concatenate((Fd_dom_3, Fd_imp_3,fd_col_sm, np.zeros((6,18))), axis=0) # 각 지역의 최종수요와 아래에 0 붙이기\n",
        "fd_each"
      ],
      "metadata": {
        "colab": {
          "base_uri": "https://localhost:8080/"
        },
        "id": "WzCZofQ0wq0n",
        "outputId": "cb2ea6e5-2971-476a-e02b-42d313cbe5bb"
      },
      "execution_count": 179,
      "outputs": [
        {
          "output_type": "execute_result",
          "data": {
            "text/plain": [
              "array([[ 1.16718466e+06,  1.02705863e+05,  7.99490000e+04,\n",
              "         1.01848271e+05,  1.59391681e+04,  0.00000000e+00,\n",
              "         5.93496104e+04,  3.34824891e+03,  0.00000000e+00,\n",
              "         1.13162020e+05,  8.52201482e+03,  0.00000000e+00,\n",
              "         2.88496576e+04,  6.01677645e+03,  0.00000000e+00,\n",
              "         4.16206029e+03,  7.33675321e+02,  0.00000000e+00],\n",
              "       [ 2.90314734e+07,  2.08457914e+07,  2.14607639e+08,\n",
              "         3.74066972e+06,  4.60007920e+06,  0.00000000e+00,\n",
              "         3.17826901e+06,  2.96669260e+06,  0.00000000e+00,\n",
              "         8.19648079e+06,  5.56334885e+06,  0.00000000e+00,\n",
              "         9.98994491e+05,  6.12031432e+05,  0.00000000e+00,\n",
              "         4.20829065e+05,  1.58961748e+05,  0.00000000e+00],\n",
              "       [ 3.87364237e+08,  1.64095140e+08,  6.72619170e+07,\n",
              "         1.69323770e+07,  7.06149846e+06,  0.00000000e+00,\n",
              "         1.24694604e+07,  3.77259144e+06,  0.00000000e+00,\n",
              "         2.70920739e+07,  1.14124637e+07,  0.00000000e+00,\n",
              "         5.90156856e+06,  1.14881092e+06,  0.00000000e+00,\n",
              "         1.55162024e+06,  2.41812508e+05,  0.00000000e+00],\n",
              "       [ 1.24241022e+06,  3.99108438e+04,  0.00000000e+00,\n",
              "         5.24055542e+05,  2.58922150e+05,  9.02770000e+04,\n",
              "         1.30718124e+05,  1.67596538e+04,  0.00000000e+00,\n",
              "         2.44353937e+05,  1.76999378e+04,  0.00000000e+00,\n",
              "         4.75910624e+04,  5.18188751e+03,  0.00000000e+00,\n",
              "         6.82005152e+03,  1.00805015e+03,  0.00000000e+00],\n",
              "       [ 8.26035867e+06,  5.76852917e+06,  0.00000000e+00,\n",
              "         7.50780203e+06,  2.36350133e+06,  9.85985730e+07,\n",
              "         1.50420338e+06,  8.56357265e+05,  0.00000000e+00,\n",
              "         3.25995734e+06,  1.73432484e+06,  0.00000000e+00,\n",
              "         5.70224608e+05,  2.02439109e+05,  0.00000000e+00,\n",
              "         1.63325580e+05,  5.84154089e+04,  0.00000000e+00],\n",
              "       [ 8.81981843e+06,  2.30360365e+06,  0.00000000e+00,\n",
              "         6.52533415e+07,  3.97590924e+07,  4.31393900e+06,\n",
              "         1.34628730e+06,  2.78934139e+05,  0.00000000e+00,\n",
              "         2.29094738e+06,  4.18181140e+05,  0.00000000e+00,\n",
              "         4.37322802e+05,  3.57227709e+04,  0.00000000e+00,\n",
              "         1.20218401e+05,  2.06389604e+04,  0.00000000e+00],\n",
              "       [ 1.61907454e+06,  3.05840254e+04,  0.00000000e+00,\n",
              "         3.19859096e+05,  2.24618091e+04,  0.00000000e+00,\n",
              "         8.88880406e+05,  3.96981803e+05,  1.97648000e+05,\n",
              "         5.69144491e+05,  3.48516741e+04,  0.00000000e+00,\n",
              "         6.30051380e+04,  2.47871909e+03,  0.00000000e+00,\n",
              "         8.86718216e+03,  1.61644811e+03,  0.00000000e+00],\n",
              "       [ 6.42674889e+06,  3.04651678e+06,  0.00000000e+00,\n",
              "         1.30880887e+06,  9.42492855e+05,  0.00000000e+00,\n",
              "         4.49686753e+06,  5.44314188e+05,  6.86744710e+07,\n",
              "         2.10135569e+06,  1.38160378e+06,  0.00000000e+00,\n",
              "         7.77280815e+05,  3.96293925e+05,  0.00000000e+00,\n",
              "         1.84314846e+05,  6.50453947e+04,  0.00000000e+00],\n",
              "       [ 4.48564225e+06,  1.05800585e+06,  0.00000000e+00,\n",
              "         1.72255409e+06,  7.88209212e+04,  0.00000000e+00,\n",
              "         6.85188718e+07,  2.61067716e+07,  6.60441800e+06,\n",
              "         1.62635115e+06,  9.58197932e+04,  0.00000000e+00,\n",
              "         2.30426438e+05,  5.80439992e+03,  0.00000000e+00,\n",
              "         2.64636986e+05,  7.48699778e+04,  0.00000000e+00],\n",
              "       [ 2.06464952e+06,  3.12693310e+04,  0.00000000e+00,\n",
              "         3.69414977e+05,  1.67406405e+04,  0.00000000e+00,\n",
              "         2.67473034e+05,  8.05835875e+03,  0.00000000e+00,\n",
              "         2.21643056e+06,  4.59960362e+05,  2.37856000e+05,\n",
              "         1.61522646e+05,  5.52890794e+03,  0.00000000e+00,\n",
              "         1.05785540e+04,  1.50663401e+03,  0.00000000e+00],\n",
              "       [ 1.89380615e+07,  1.43151798e+07,  0.00000000e+00,\n",
              "         3.12971320e+06,  3.87850562e+06,  0.00000000e+00,\n",
              "         3.55194251e+06,  2.85317659e+06,  0.00000000e+00,\n",
              "         1.73549066e+07,  1.01241147e+07,  2.23906015e+08,\n",
              "         1.02025837e+06,  1.00053457e+06,  0.00000000e+00,\n",
              "         5.15065391e+05,  1.70802220e+05,  0.00000000e+00],\n",
              "       [ 7.52729808e+06,  1.90534046e+06,  0.00000000e+00,\n",
              "         2.15587126e+06,  9.20319531e+05,  0.00000000e+00,\n",
              "         1.60755019e+06,  2.39685804e+05,  0.00000000e+00,\n",
              "         1.69242445e+08,  6.61992496e+07,  2.47954200e+07,\n",
              "         5.75680250e+05,  2.57978494e+04,  0.00000000e+00,\n",
              "         2.75917265e+05,  2.09938949e+04,  0.00000000e+00],\n",
              "       [ 4.93585057e+05,  2.16125644e+04,  0.00000000e+00,\n",
              "         8.84744188e+04,  1.17101113e+04,  0.00000000e+00,\n",
              "         6.49988994e+04,  4.07648309e+03,  0.00000000e+00,\n",
              "         1.81135268e+05,  1.78054137e+04,  0.00000000e+00,\n",
              "         1.03909686e+05,  1.07027710e+05,  3.18270000e+04,\n",
              "         9.47385038e+03,  1.61783928e+03,  0.00000000e+00],\n",
              "       [ 9.83370318e+05,  2.26022796e+05,  0.00000000e+00,\n",
              "         1.07675046e+05,  3.77013187e+04,  0.00000000e+00,\n",
              "         7.14143594e+04,  2.06979048e+04,  0.00000000e+00,\n",
              "         2.84012982e+05,  3.77159288e+04,  0.00000000e+00,\n",
              "         6.22366283e+05,  3.51285965e+04,  2.53811600e+06,\n",
              "         1.18257228e+04, -5.22371767e+02,  0.00000000e+00],\n",
              "       [ 3.45006783e+06,  4.28310814e+05,  0.00000000e+00,\n",
              "         5.54238922e+05,  2.37360274e+04,  0.00000000e+00,\n",
              "         2.80481210e+05,  1.28937099e+04,  0.00000000e+00,\n",
              "         8.97443327e+05,  2.94922292e+04,  0.00000000e+00,\n",
              "         2.30760733e+07,  1.02503540e+07,  1.10607200e+06,\n",
              "         3.11867630e+04,  2.87443909e+03,  0.00000000e+00],\n",
              "       [ 4.72955528e+05,  2.60122506e+03,  0.00000000e+00,\n",
              "         9.11679057e+04,  9.05561287e+02,  0.00000000e+00,\n",
              "         7.51813815e+04, -8.35527410e+00,  0.00000000e+00,\n",
              "         1.80570711e+05,  2.23509457e+03,  0.00000000e+00,\n",
              "         2.33793201e+04, -1.33071171e+02,  0.00000000e+00,\n",
              "         1.36472615e+05,  1.47754403e+04,  4.95700000e+04],\n",
              "       [ 2.19754735e+05,  1.47190780e+04,  0.00000000e+00,\n",
              "         1.84040863e+04,  3.22381906e+03,  0.00000000e+00,\n",
              "         1.64729914e+04,  6.31141022e+03,  0.00000000e+00,\n",
              "         6.72779202e+04,  5.34957388e+03,  0.00000000e+00,\n",
              "         3.88755787e+03, -8.64713861e+01,  0.00000000e+00,\n",
              "         9.36817026e+04,  8.20659651e+03,  2.87497000e+05],\n",
              "       [ 1.58285675e+06,  2.00524862e+05,  0.00000000e+00,\n",
              "         3.23378038e+05,  5.58720533e+04,  0.00000000e+00,\n",
              "         6.17444814e+05,  1.80336174e+05,  0.00000000e+00,\n",
              "         6.99887745e+05,  2.18903769e+04,  0.00000000e+00,\n",
              "         8.60890071e+04,  1.61195973e+03,  0.00000000e+00,\n",
              "         7.69955272e+06,  4.46349914e+06,  1.44407700e+06],\n",
              "       [ 1.45690200e+06,  9.22600000e+03,  0.00000000e+00,\n",
              "         3.11528000e+05, -1.22000000e+04,  0.00000000e+00,\n",
              "         2.96318000e+05,  2.10100000e+03,  0.00000000e+00,\n",
              "         6.79212000e+05, -1.34100000e+04,  0.00000000e+00,\n",
              "         8.36580000e+04, -3.69800000e+03,  0.00000000e+00,\n",
              "         3.17710000e+04,  2.67000000e+02,  0.00000000e+00],\n",
              "       [ 2.70392830e+07,  2.88479320e+07,  1.77093800e+06,\n",
              "         5.45253700e+06,  7.78589400e+06,  5.50100000e+03,\n",
              "         5.15454700e+06,  4.88814300e+06,  1.18500000e+03,\n",
              "         1.31374730e+07,  1.08185170e+07,  1.06423000e+05,\n",
              "         1.56412500e+06,  7.25903000e+05,  4.05000000e+02,\n",
              "         7.92534000e+05,  3.32327000e+05,  2.41444000e+05],\n",
              "       [ 1.46016900e+07,  5.00983900e+06,  0.00000000e+00,\n",
              "         3.18339200e+06,  7.10629000e+05,  0.00000000e+00,\n",
              "         3.53706700e+06,  1.71009000e+05,  0.00000000e+00,\n",
              "         6.52179600e+06,  8.16429000e+05,  0.00000000e+00,\n",
              "         3.62937000e+05,  3.40600000e+04,  0.00000000e+00,\n",
              "         2.93566000e+05,  1.06660000e+04,  0.00000000e+00],\n",
              "       [ 5.27247422e+08,  2.48303366e+08,  2.83720443e+08,\n",
              "         1.13197111e+08,  6.85358460e+07,  1.03008290e+08,\n",
              "         1.08133799e+08,  4.33292320e+07,  7.54777220e+07,\n",
              "         2.56956418e+08,  1.09186165e+08,  2.49045714e+08,\n",
              "         3.67391500e+07,  1.45968090e+07,  3.67642000e+06,\n",
              "         1.26264200e+07,  5.65011600e+06,  2.02258800e+06],\n",
              "       [ 0.00000000e+00,  0.00000000e+00,  0.00000000e+00,\n",
              "         0.00000000e+00,  0.00000000e+00,  0.00000000e+00,\n",
              "         0.00000000e+00,  0.00000000e+00,  0.00000000e+00,\n",
              "         0.00000000e+00,  0.00000000e+00,  0.00000000e+00,\n",
              "         0.00000000e+00,  0.00000000e+00,  0.00000000e+00,\n",
              "         0.00000000e+00,  0.00000000e+00,  0.00000000e+00],\n",
              "       [ 0.00000000e+00,  0.00000000e+00,  0.00000000e+00,\n",
              "         0.00000000e+00,  0.00000000e+00,  0.00000000e+00,\n",
              "         0.00000000e+00,  0.00000000e+00,  0.00000000e+00,\n",
              "         0.00000000e+00,  0.00000000e+00,  0.00000000e+00,\n",
              "         0.00000000e+00,  0.00000000e+00,  0.00000000e+00,\n",
              "         0.00000000e+00,  0.00000000e+00,  0.00000000e+00],\n",
              "       [ 0.00000000e+00,  0.00000000e+00,  0.00000000e+00,\n",
              "         0.00000000e+00,  0.00000000e+00,  0.00000000e+00,\n",
              "         0.00000000e+00,  0.00000000e+00,  0.00000000e+00,\n",
              "         0.00000000e+00,  0.00000000e+00,  0.00000000e+00,\n",
              "         0.00000000e+00,  0.00000000e+00,  0.00000000e+00,\n",
              "         0.00000000e+00,  0.00000000e+00,  0.00000000e+00],\n",
              "       [ 0.00000000e+00,  0.00000000e+00,  0.00000000e+00,\n",
              "         0.00000000e+00,  0.00000000e+00,  0.00000000e+00,\n",
              "         0.00000000e+00,  0.00000000e+00,  0.00000000e+00,\n",
              "         0.00000000e+00,  0.00000000e+00,  0.00000000e+00,\n",
              "         0.00000000e+00,  0.00000000e+00,  0.00000000e+00,\n",
              "         0.00000000e+00,  0.00000000e+00,  0.00000000e+00],\n",
              "       [ 0.00000000e+00,  0.00000000e+00,  0.00000000e+00,\n",
              "         0.00000000e+00,  0.00000000e+00,  0.00000000e+00,\n",
              "         0.00000000e+00,  0.00000000e+00,  0.00000000e+00,\n",
              "         0.00000000e+00,  0.00000000e+00,  0.00000000e+00,\n",
              "         0.00000000e+00,  0.00000000e+00,  0.00000000e+00,\n",
              "         0.00000000e+00,  0.00000000e+00,  0.00000000e+00],\n",
              "       [ 0.00000000e+00,  0.00000000e+00,  0.00000000e+00,\n",
              "         0.00000000e+00,  0.00000000e+00,  0.00000000e+00,\n",
              "         0.00000000e+00,  0.00000000e+00,  0.00000000e+00,\n",
              "         0.00000000e+00,  0.00000000e+00,  0.00000000e+00,\n",
              "         0.00000000e+00,  0.00000000e+00,  0.00000000e+00,\n",
              "         0.00000000e+00,  0.00000000e+00,  0.00000000e+00]])"
            ]
          },
          "metadata": {},
          "execution_count": 179
        }
      ]
    },
    {
      "cell_type": "code",
      "source": [
        "fd_tot_sm = fd_each.sum(axis=1).reshape([28,1])"
      ],
      "metadata": {
        "id": "ZUO77SYW35BX"
      },
      "execution_count": 180,
      "outputs": []
    },
    {
      "cell_type": "markdown",
      "source": [
        "##부가가치 통합하기"
      ],
      "metadata": {
        "id": "PJT4t1cPs2lc"
      }
    },
    {
      "cell_type": "code",
      "source": [
        "vact = RI_33[596:,:561]  # 부가가치 및 산출액\n",
        "vact"
      ],
      "metadata": {
        "colab": {
          "base_uri": "https://localhost:8080/"
        },
        "id": "AXi5YhsZtKZv",
        "outputId": "a22a61fa-a560-46c3-e491-b37f874b5dba"
      },
      "execution_count": 181,
      "outputs": [
        {
          "output_type": "execute_result",
          "data": {
            "text/plain": [
              "array([[2.858500e+04, 3.634000e+03, 1.695333e+06, ..., 6.129730e+05,\n",
              "        3.102240e+05, 4.612900e+04],\n",
              "       [1.106200e+04, 1.168000e+03, 2.865760e+05, ..., 2.775100e+05,\n",
              "        1.867230e+05, 0.000000e+00],\n",
              "       [4.129900e+04, 1.902000e+03, 8.473500e+04, ..., 1.692520e+05,\n",
              "        5.723200e+04, 0.000000e+00],\n",
              "       ...,\n",
              "       [1.913000e+03, 4.100000e+01, 1.035530e+05, ..., 1.350510e+05,\n",
              "        2.750900e+04, 0.000000e+00],\n",
              "       [5.984600e+04, 3.768000e+03, 5.941940e+05, ..., 7.366370e+05,\n",
              "        2.963130e+05, 0.000000e+00],\n",
              "       [8.843100e+04, 7.402000e+03, 2.289527e+06, ..., 1.349610e+06,\n",
              "        6.065370e+05, 4.612900e+04]])"
            ]
          },
          "metadata": {},
          "execution_count": 181
        }
      ]
    },
    {
      "cell_type": "code",
      "source": [
        "vact_3 = vact@code_18.T  # 3부문 부가가치\n",
        "vact_3.sum()"
      ],
      "metadata": {
        "colab": {
          "base_uri": "https://localhost:8080/"
        },
        "id": "GhNDg2XKW76V",
        "outputId": "f2361ff6-2d7b-4ca1-a4ac-b801370c4342"
      },
      "execution_count": 182,
      "outputs": [
        {
          "output_type": "execute_result",
          "data": {
            "text/plain": [
              "9304574828.0"
            ]
          },
          "metadata": {},
          "execution_count": 182
        }
      ]
    },
    {
      "cell_type": "code",
      "source": [
        "nae_tot = np.concatenate((dom_tot, imp_row, vact_3)) # 중간투입(수요)와 부가가치 및 산출액 합치기\n",
        "nae_tot.shape"
      ],
      "metadata": {
        "colab": {
          "base_uri": "https://localhost:8080/"
        },
        "id": "I28cWl3PW7_g",
        "outputId": "633421fa-a0af-46c5-8645-90705b26fef2"
      },
      "execution_count": 183,
      "outputs": [
        {
          "output_type": "execute_result",
          "data": {
            "text/plain": [
              "(28, 18)"
            ]
          },
          "metadata": {},
          "execution_count": 183
        }
      ]
    },
    {
      "cell_type": "code",
      "source": [
        "tot_row_sm= nae_tot.sum(axis=1).reshape([28,1])\n",
        "tot_row_sm.sum()"
      ],
      "metadata": {
        "colab": {
          "base_uri": "https://localhost:8080/"
        },
        "id": "Q6mjOFXPW8DS",
        "outputId": "1a0a59ac-2a3b-4cd5-8003-62b20278b5b7"
      },
      "execution_count": 184,
      "outputs": [
        {
          "output_type": "execute_result",
          "data": {
            "text/plain": [
              "11500686239.99995"
            ]
          },
          "metadata": {},
          "execution_count": 184
        }
      ]
    },
    {
      "cell_type": "code",
      "source": [
        "tot_dm = tot_row_sm + fd_tot_sm  # 총수요 = 중간수요계+최종수요계"
      ],
      "metadata": {
        "id": "ZjGjbdmU0rQN"
      },
      "execution_count": 185,
      "outputs": []
    },
    {
      "cell_type": "code",
      "source": [
        "Tot_rg = np.concatenate((nae_tot,tot_row_sm,fd_each, fd_tot_sm,tot_dm), axis=1)"
      ],
      "metadata": {
        "id": "3llcCme007jv"
      },
      "execution_count": 186,
      "outputs": []
    },
    {
      "cell_type": "code",
      "source": [
        "Mt = (Tot_rg/1000000).round(3)\n",
        "Mt"
      ],
      "metadata": {
        "colab": {
          "base_uri": "https://localhost:8080/"
        },
        "id": "NEKwUstZW8IQ",
        "outputId": "034bf348-0327-403b-faa1-d8b669395403"
      },
      "execution_count": 187,
      "outputs": [
        {
          "output_type": "execute_result",
          "data": {
            "text/plain": [
              "array([[2.330000e-01, 3.116000e+00, 9.830000e-01, ..., 0.000000e+00,\n",
              "        1.692000e+00, 7.960000e+00],\n",
              "       [1.870000e+00, 1.121230e+02, 7.110900e+01, ..., 0.000000e+00,\n",
              "        2.949210e+02, 5.815560e+02],\n",
              "       [7.810000e-01, 7.861400e+01, 3.016070e+02, ..., 0.000000e+00,\n",
              "        7.063060e+02, 1.203687e+03],\n",
              "       ...,\n",
              "       [5.600000e-02, 1.119100e+01, 5.055000e+01, ..., 0.000000e+00,\n",
              "        0.000000e+00, 1.361030e+02],\n",
              "       [3.924000e+00, 1.790430e+02, 6.478980e+02, ..., 0.000000e+00,\n",
              "        0.000000e+00, 1.637451e+03],\n",
              "       [7.960000e+00, 5.815560e+02, 1.203687e+03, ..., 0.000000e+00,\n",
              "        0.000000e+00, 3.833562e+03]])"
            ]
          },
          "metadata": {},
          "execution_count": 187
        }
      ]
    },
    {
      "cell_type": "code",
      "source": [
        "# total_rg = pd.DataFrame(Mt, columns = ['수도권_농림수산품', '수도권_공산품', '수도권_서비스', '충청권_농림수산품', '충청권_공산품', '충청권_서비스',\n",
        "#                                            '서남권_농림수산품', '서남권_공산품', '서남권_서비스', '동남권_농림수산품', '동남권_공산품', '동남권_서비스',\n",
        "#                                            '강원권_농림수산품', '강원권_공산품', '강원권_서비스', '제주권_농림수산품', '제주권_공산품', '제주권_서비스',\n",
        "#                                            '중간수요계',\n",
        "#                                            '수도권_소비', '수도권_투자', '수도권_수출', '충청권_소비', '충청권_투자', '충청권_수출',\n",
        "#                                            '서남권_소비', '서남권_투자', '서남권_수출', '동남권_소비', '동남권_투자', '동남권_수출',\n",
        "#                                            '강원권_소비', '강원권_투자', '강원권_수출', '제주권_소비', '제주권_투자', '제주권_수출',\n",
        "#                                            '최종수요계', '총수요계'],\n",
        "#                                     index=['수도권_농림수산품', '수도권_공산품', '수도권_서비스', '충청권_농림수산품', '충청권_공산품', '충청권_서비스',\n",
        "#                                            '서남권_농림수산품', '서남권_공산품', '서남권_서비스', '동남권_농림수산품', '동남권_공산품', '동남권_서비스',\n",
        "#                                            '강원권_농림수산품', '강원권공산품', '강원권_서비스', '제주권_농림수산품', '제주권_공산품', '제주권_서비스',\n",
        "#                                            '수입_농림수산품', '수입_공산품', '수입_서비스','중간투입계',\n",
        "#                                            '피용자보수', '영업잉여', '고정자본소모', '생산세', '부가가치계', '총투입액'])"
      ],
      "metadata": {
        "id": "khqaa4tJW8Nk"
      },
      "execution_count": 188,
      "outputs": []
    },
    {
      "cell_type": "code",
      "source": [
        "Mt_df = pd.DataFrame(Mt, columns = [['수도권', '수도권', '수도권', '충청권', '충청권', '충청권','서남권', '서남권', '서남권', '동남권', '동남권', '동남권',\n",
        "                                       '강원권', '강원권', '강원권', '제주권', '제주권', '제주권','지역중간수요계',\n",
        "                                       '수도권', '수도권', '수도권', '충청권', '충청권', '충청권','서남권', '서남권', '서남권', '동남권', '동남권', '동남권',\n",
        "                                       '강원권', '강원권', '강원권', '제주권', '제주권', '제주권','지역최종수요계','지역총수요계'],\n",
        "\n",
        "                                      ['농산품', '공산품', '서비스', '농산품', '공산품', '서비스','농산품', '공산품', '서비스', '농산품', '공산품', '서비스',\n",
        "                                        '농산품', '공산품', '서비스', '농산품', '공산품', '서비스','제품중간수요계','소비', '투자', '수출', '소비', '투자', '수출',\n",
        "                                        '소비', '투자', '수출', '소비', '투자', '수출', '소비', '투자', '수출', '소비', '투자', '수출','제품최종수요계','제품총수요계']],\n",
        "\n",
        "                                    index=[['수도권', '수도권', '수도권', '충청권', '충청권', '충청권','서남권', '서남권', '서남권', '동남권', '동남권', '동남권',\n",
        "                                            '강원권', '강원권', '강원권', '제주권', '제주권', '제주권','수입', '수입', '수입','중간투입계',\n",
        "                                            '피보', '영잉', '고소', '생산세f', '부가가치계f', '총투입액f'],\n",
        "                                           ['농산품', '공산품', '서비스', '농산품', '공산품', '서비스','농산품', '공산품', '서비스', '농산품', '공산품', '서비스',\n",
        "                                            '농산품', '공산품', '서비스', '농산품', '공산품', '서비스', '농산품', '공산품', '서비스','중간수요계',\n",
        "                                            '피용자보수', '영업잉여', '고정자본소모', '생산세', '부가가치계', '총투입액']])\n",
        "Mt_df.index.names=['지역', '상품']"
      ],
      "metadata": {
        "id": "DTAOoUvAtl7I"
      },
      "execution_count": 189,
      "outputs": []
    },
    {
      "cell_type": "code",
      "source": [
        "Mt_df.to_csv('지역산업연관표_3부문_6지역.csv', encoding=\"utf-8-sig\")"
      ],
      "metadata": {
        "id": "vRFoEDGP76Bz"
      },
      "execution_count": 190,
      "outputs": []
    },
    {
      "cell_type": "code",
      "source": [
        "Mt_df.index.names=['지역', '상품']\n",
        "# df_pivot = df_pivot.pivot(index='date', columns='country', values='Population')\n",
        "# # df_pivot.head\n",
        "Mt_df\n"
      ],
      "metadata": {
        "id": "8TQao69e0jzg",
        "outputId": "0d89bccd-dd66-4c08-8447-9cb07472d31f",
        "colab": {
          "base_uri": "https://localhost:8080/",
          "height": 1000
        }
      },
      "execution_count": 191,
      "outputs": [
        {
          "output_type": "execute_result",
          "data": {
            "text/plain": [
              "                 수도권                        충청권                       서남권  \\\n",
              "                 농산품      공산품       서비스     농산품      공산품      서비스     농산품   \n",
              "지역     상품                                                                   \n",
              "수도권    농산품     0.233    3.116     0.983   0.028    1.089    0.065   0.018   \n",
              "       공산품     1.870  112.123    71.109   0.340   28.055    7.030   0.569   \n",
              "       서비스     0.781   78.614   301.607   0.493   17.060   14.705   0.526   \n",
              "충청권    농산품     0.044    1.105     0.989   0.380    4.877    0.356   0.024   \n",
              "       공산품     0.178   32.277    26.221   2.296   41.634   13.892   0.312   \n",
              "       서비스     0.016    1.437     8.019   0.637   22.172   25.681   0.030   \n",
              "서남권    농산품     0.040    0.951     1.399   0.039    0.993    0.209   0.581   \n",
              "       공산품     0.276   13.909    13.083   0.358    6.881    2.422   2.496   \n",
              "       서비스     0.017    1.481     6.626   0.028    0.909    0.947   0.901   \n",
              "동남권    농산품     0.048    0.923     1.641   0.049    0.866    0.223   0.040   \n",
              "       공산품     0.227   41.436    36.017   0.347   20.520    5.873   0.585   \n",
              "       서비스     0.036    3.049    12.328   0.056    1.772    1.476   0.069   \n",
              "강원권    농산품     0.026    0.433     0.448   0.021    0.376    0.056   0.012   \n",
              "       공산품     0.023    1.642     2.401   0.016    1.056    0.404   0.014   \n",
              "       서비스     0.007    0.533     3.048   0.008    0.239    0.336   0.006   \n",
              "제주권    농산품     0.007    0.188     0.417   0.005    0.093    0.056   0.005   \n",
              "       공산품     0.016    0.122     0.337   0.008    0.035    0.023   0.004   \n",
              "       서비스     0.004    0.406     2.184   0.004    0.148    0.177   0.020   \n",
              "수입     농산품     0.042    2.882     0.399   0.052    1.949    0.078   0.102   \n",
              "       공산품     0.117  100.234    41.048   0.205   52.264    8.680   0.315   \n",
              "       서비스     0.026    5.651    25.485   0.032    2.674    3.045   0.070   \n",
              "중간투입계  중간수요계   4.037  402.513   555.789   5.401  205.663   85.734   6.698   \n",
              "피보     피용자보수   0.435   71.305   323.947   0.790   27.197   54.877   1.620   \n",
              "영잉     영업잉여    2.876   51.531   169.687   4.440   28.192   21.959   5.901   \n",
              "고소     고정자본소모  0.557   45.016   103.715   0.908   22.705   17.885   1.256   \n",
              "생산세f   생산세     0.056   11.191    50.550   0.097   10.198    6.811   0.097   \n",
              "부가가치계f 부가가치계   3.924  179.043   647.898   6.235   88.291  101.532   8.874   \n",
              "총투입액f  총투입액    7.960  581.556  1203.687  11.636  293.954  187.266  15.571   \n",
              "\n",
              "                                    동남권  ...                       강원권  \\\n",
              "                   공산품      서비스     농산품  ...       투자       수출      소비   \n",
              "지역     상품                                ...                             \n",
              "수도권    농산품       0.157    0.035   0.027  ...    0.009    0.000   0.029   \n",
              "       공산품       8.641    5.044   0.564  ...    5.563    0.000   0.999   \n",
              "       서비스      11.064   11.664   0.710  ...   11.412    0.000   5.902   \n",
              "충청권    농산품       0.420    0.078   0.043  ...    0.018    0.000   0.048   \n",
              "       공산품       7.422    3.691   0.543  ...    1.734    0.000   0.570   \n",
              "       서비스       0.503    0.719   0.035  ...    0.418    0.000   0.437   \n",
              "서남권    농산품       5.107    0.614   0.057  ...    0.035    0.000   0.063   \n",
              "       공산품      31.315    9.386   0.627  ...    1.382    0.000   0.777   \n",
              "       서비스      16.165   23.943   0.035  ...    0.096    0.000   0.230   \n",
              "동남권    농산품       0.500    0.149   0.764  ...    0.460    0.238   0.162   \n",
              "       공산품      13.659    5.177   3.089  ...   10.124  223.906   1.020   \n",
              "       서비스       1.268    1.345   1.662  ...   66.199   24.795   0.576   \n",
              "강원권    농산품       0.055    0.036   0.031  ...    0.018    0.000   0.104   \n",
              "       공산품       0.662    0.173   0.036  ...    0.038    0.000   0.622   \n",
              "       서비스       0.072    0.147   0.015  ...    0.029    0.000  23.076   \n",
              "제주권    농산품       0.101    0.045   0.011  ...    0.002    0.000   0.023   \n",
              "       공산품       0.037    0.053   0.017  ...    0.005    0.000   0.004   \n",
              "       서비스       0.305    0.450   0.010  ...    0.022    0.000   0.086   \n",
              "수입     농산품       1.345    0.065   0.112  ...   -0.013    0.000   0.084   \n",
              "       공산품      45.638    7.558   0.388  ...   10.819    0.106   1.564   \n",
              "       서비스       1.651    4.641   0.196  ...    0.816    0.000   0.363   \n",
              "중간투입계  중간수요계   146.087   75.014   8.973  ...  109.186  249.046  36.739   \n",
              "피보     피용자보수    15.049   46.703   1.666  ...    0.000    0.000   0.000   \n",
              "영잉     영업잉여     14.845   20.091   6.988  ...    0.000    0.000   0.000   \n",
              "고소     고정자본소모    9.605   17.299   1.558  ...    0.000    0.000   0.000   \n",
              "생산세f   생산세       8.694    5.782   0.242  ...    0.000    0.000   0.000   \n",
              "부가가치계f 부가가치계    48.193   89.875  10.454  ...    0.000    0.000   0.000   \n",
              "총투입액f  총투입액    194.280  164.889  19.427  ...    0.000    0.000   0.000   \n",
              "\n",
              "                                 제주권                 지역최종수요계    지역총수요계  \n",
              "                   투자     수출      소비     투자     수출   제품최종수요계    제품총수요계  \n",
              "지역     상품                                                               \n",
              "수도권    농산품      0.006  0.000   0.004  0.001  0.000     1.692     7.960  \n",
              "       공산품      0.612  0.000   0.421  0.159  0.000   294.921   581.556  \n",
              "       서비스      1.149  0.000   1.552  0.242  0.000   706.306  1203.687  \n",
              "충청권    농산품      0.005  0.000   0.007  0.001  0.000     2.626    11.636  \n",
              "       공산품      0.202  0.000   0.163  0.058  0.000   130.848   293.954  \n",
              "       서비스      0.036  0.000   0.120  0.021  0.000   125.398   187.266  \n",
              "서남권    농산품      0.002  0.000   0.009  0.002  0.000     4.155    15.571  \n",
              "       공산품      0.396  0.000   0.184  0.065  0.000    90.346   194.280  \n",
              "       서비스      0.006  0.000   0.265  0.075  0.000   110.873   164.889  \n",
              "동남권    농산품      0.006  0.000   0.011  0.002  0.000     5.851    19.427  \n",
              "       공산품      1.001  0.000   0.515  0.171  0.000   300.758   621.248  \n",
              "       서비스      0.026  0.000   0.276  0.021  0.000   275.492   425.294  \n",
              "강원권    농산품      0.107  0.032   0.009  0.002  0.000     1.137     4.033  \n",
              "       공산품      0.035  2.538   0.012 -0.001  0.000     4.976    17.514  \n",
              "       서비스     10.250  1.106   0.031  0.003  0.000    40.143    54.080  \n",
              "제주권    농산품     -0.000  0.000   0.136  0.015  0.050     1.050     2.744  \n",
              "       공산품     -0.000  0.000   0.094  0.008  0.287     0.745     2.602  \n",
              "       서비스      0.002  0.000   7.700  4.463  1.444    17.377    25.821  \n",
              "수입     농산품     -0.004  0.000   0.032  0.000  0.000     2.842    12.158  \n",
              "       공산품      0.726  0.000   0.793  0.332  0.241   108.665   514.044  \n",
              "       서비스      0.034  0.000   0.294  0.011  0.000    35.253    97.801  \n",
              "중간투입계  중간수요계   14.597  3.676  12.626  5.650  2.023  2261.453  4457.564  \n",
              "피보     피용자보수    0.000  0.000   0.000  0.000  0.000     0.000   750.213  \n",
              "영잉     영업잉여     0.000  0.000   0.000  0.000  0.000     0.000   441.465  \n",
              "고소     고정자본소모   0.000  0.000   0.000  0.000  0.000     0.000   309.670  \n",
              "생산세f   생산세      0.000  0.000   0.000  0.000  0.000     0.000   136.103  \n",
              "부가가치계f 부가가치계    0.000  0.000   0.000  0.000  0.000     0.000  1637.451  \n",
              "총투입액f  총투입액     0.000  0.000   0.000  0.000  0.000     0.000  3833.562  \n",
              "\n",
              "[28 rows x 39 columns]"
            ],
            "text/html": [
              "\n",
              "  <div id=\"df-bd8fce9e-78e1-4465-bac4-474e5f05da73\">\n",
              "    <div class=\"colab-df-container\">\n",
              "      <div>\n",
              "<style scoped>\n",
              "    .dataframe tbody tr th:only-of-type {\n",
              "        vertical-align: middle;\n",
              "    }\n",
              "\n",
              "    .dataframe tbody tr th {\n",
              "        vertical-align: top;\n",
              "    }\n",
              "\n",
              "    .dataframe thead tr th {\n",
              "        text-align: left;\n",
              "    }\n",
              "\n",
              "    .dataframe thead tr:last-of-type th {\n",
              "        text-align: right;\n",
              "    }\n",
              "</style>\n",
              "<table border=\"1\" class=\"dataframe\">\n",
              "  <thead>\n",
              "    <tr>\n",
              "      <th></th>\n",
              "      <th></th>\n",
              "      <th colspan=\"3\" halign=\"left\">수도권</th>\n",
              "      <th colspan=\"3\" halign=\"left\">충청권</th>\n",
              "      <th colspan=\"3\" halign=\"left\">서남권</th>\n",
              "      <th colspan=\"4\" halign=\"left\">동남권</th>\n",
              "      <th colspan=\"3\" halign=\"left\">강원권</th>\n",
              "      <th colspan=\"3\" halign=\"left\">제주권</th>\n",
              "      <th>지역최종수요계</th>\n",
              "      <th>지역총수요계</th>\n",
              "    </tr>\n",
              "    <tr>\n",
              "      <th></th>\n",
              "      <th></th>\n",
              "      <th>농산품</th>\n",
              "      <th>공산품</th>\n",
              "      <th>서비스</th>\n",
              "      <th>농산품</th>\n",
              "      <th>공산품</th>\n",
              "      <th>서비스</th>\n",
              "      <th>농산품</th>\n",
              "      <th>공산품</th>\n",
              "      <th>서비스</th>\n",
              "      <th>농산품</th>\n",
              "      <th>...</th>\n",
              "      <th>투자</th>\n",
              "      <th>수출</th>\n",
              "      <th>소비</th>\n",
              "      <th>투자</th>\n",
              "      <th>수출</th>\n",
              "      <th>소비</th>\n",
              "      <th>투자</th>\n",
              "      <th>수출</th>\n",
              "      <th>제품최종수요계</th>\n",
              "      <th>제품총수요계</th>\n",
              "    </tr>\n",
              "    <tr>\n",
              "      <th>지역</th>\n",
              "      <th>상품</th>\n",
              "      <th></th>\n",
              "      <th></th>\n",
              "      <th></th>\n",
              "      <th></th>\n",
              "      <th></th>\n",
              "      <th></th>\n",
              "      <th></th>\n",
              "      <th></th>\n",
              "      <th></th>\n",
              "      <th></th>\n",
              "      <th></th>\n",
              "      <th></th>\n",
              "      <th></th>\n",
              "      <th></th>\n",
              "      <th></th>\n",
              "      <th></th>\n",
              "      <th></th>\n",
              "      <th></th>\n",
              "      <th></th>\n",
              "      <th></th>\n",
              "      <th></th>\n",
              "    </tr>\n",
              "  </thead>\n",
              "  <tbody>\n",
              "    <tr>\n",
              "      <th rowspan=\"3\" valign=\"top\">수도권</th>\n",
              "      <th>농산품</th>\n",
              "      <td>0.233</td>\n",
              "      <td>3.116</td>\n",
              "      <td>0.983</td>\n",
              "      <td>0.028</td>\n",
              "      <td>1.089</td>\n",
              "      <td>0.065</td>\n",
              "      <td>0.018</td>\n",
              "      <td>0.157</td>\n",
              "      <td>0.035</td>\n",
              "      <td>0.027</td>\n",
              "      <td>...</td>\n",
              "      <td>0.009</td>\n",
              "      <td>0.000</td>\n",
              "      <td>0.029</td>\n",
              "      <td>0.006</td>\n",
              "      <td>0.000</td>\n",
              "      <td>0.004</td>\n",
              "      <td>0.001</td>\n",
              "      <td>0.000</td>\n",
              "      <td>1.692</td>\n",
              "      <td>7.960</td>\n",
              "    </tr>\n",
              "    <tr>\n",
              "      <th>공산품</th>\n",
              "      <td>1.870</td>\n",
              "      <td>112.123</td>\n",
              "      <td>71.109</td>\n",
              "      <td>0.340</td>\n",
              "      <td>28.055</td>\n",
              "      <td>7.030</td>\n",
              "      <td>0.569</td>\n",
              "      <td>8.641</td>\n",
              "      <td>5.044</td>\n",
              "      <td>0.564</td>\n",
              "      <td>...</td>\n",
              "      <td>5.563</td>\n",
              "      <td>0.000</td>\n",
              "      <td>0.999</td>\n",
              "      <td>0.612</td>\n",
              "      <td>0.000</td>\n",
              "      <td>0.421</td>\n",
              "      <td>0.159</td>\n",
              "      <td>0.000</td>\n",
              "      <td>294.921</td>\n",
              "      <td>581.556</td>\n",
              "    </tr>\n",
              "    <tr>\n",
              "      <th>서비스</th>\n",
              "      <td>0.781</td>\n",
              "      <td>78.614</td>\n",
              "      <td>301.607</td>\n",
              "      <td>0.493</td>\n",
              "      <td>17.060</td>\n",
              "      <td>14.705</td>\n",
              "      <td>0.526</td>\n",
              "      <td>11.064</td>\n",
              "      <td>11.664</td>\n",
              "      <td>0.710</td>\n",
              "      <td>...</td>\n",
              "      <td>11.412</td>\n",
              "      <td>0.000</td>\n",
              "      <td>5.902</td>\n",
              "      <td>1.149</td>\n",
              "      <td>0.000</td>\n",
              "      <td>1.552</td>\n",
              "      <td>0.242</td>\n",
              "      <td>0.000</td>\n",
              "      <td>706.306</td>\n",
              "      <td>1203.687</td>\n",
              "    </tr>\n",
              "    <tr>\n",
              "      <th rowspan=\"3\" valign=\"top\">충청권</th>\n",
              "      <th>농산품</th>\n",
              "      <td>0.044</td>\n",
              "      <td>1.105</td>\n",
              "      <td>0.989</td>\n",
              "      <td>0.380</td>\n",
              "      <td>4.877</td>\n",
              "      <td>0.356</td>\n",
              "      <td>0.024</td>\n",
              "      <td>0.420</td>\n",
              "      <td>0.078</td>\n",
              "      <td>0.043</td>\n",
              "      <td>...</td>\n",
              "      <td>0.018</td>\n",
              "      <td>0.000</td>\n",
              "      <td>0.048</td>\n",
              "      <td>0.005</td>\n",
              "      <td>0.000</td>\n",
              "      <td>0.007</td>\n",
              "      <td>0.001</td>\n",
              "      <td>0.000</td>\n",
              "      <td>2.626</td>\n",
              "      <td>11.636</td>\n",
              "    </tr>\n",
              "    <tr>\n",
              "      <th>공산품</th>\n",
              "      <td>0.178</td>\n",
              "      <td>32.277</td>\n",
              "      <td>26.221</td>\n",
              "      <td>2.296</td>\n",
              "      <td>41.634</td>\n",
              "      <td>13.892</td>\n",
              "      <td>0.312</td>\n",
              "      <td>7.422</td>\n",
              "      <td>3.691</td>\n",
              "      <td>0.543</td>\n",
              "      <td>...</td>\n",
              "      <td>1.734</td>\n",
              "      <td>0.000</td>\n",
              "      <td>0.570</td>\n",
              "      <td>0.202</td>\n",
              "      <td>0.000</td>\n",
              "      <td>0.163</td>\n",
              "      <td>0.058</td>\n",
              "      <td>0.000</td>\n",
              "      <td>130.848</td>\n",
              "      <td>293.954</td>\n",
              "    </tr>\n",
              "    <tr>\n",
              "      <th>서비스</th>\n",
              "      <td>0.016</td>\n",
              "      <td>1.437</td>\n",
              "      <td>8.019</td>\n",
              "      <td>0.637</td>\n",
              "      <td>22.172</td>\n",
              "      <td>25.681</td>\n",
              "      <td>0.030</td>\n",
              "      <td>0.503</td>\n",
              "      <td>0.719</td>\n",
              "      <td>0.035</td>\n",
              "      <td>...</td>\n",
              "      <td>0.418</td>\n",
              "      <td>0.000</td>\n",
              "      <td>0.437</td>\n",
              "      <td>0.036</td>\n",
              "      <td>0.000</td>\n",
              "      <td>0.120</td>\n",
              "      <td>0.021</td>\n",
              "      <td>0.000</td>\n",
              "      <td>125.398</td>\n",
              "      <td>187.266</td>\n",
              "    </tr>\n",
              "    <tr>\n",
              "      <th rowspan=\"3\" valign=\"top\">서남권</th>\n",
              "      <th>농산품</th>\n",
              "      <td>0.040</td>\n",
              "      <td>0.951</td>\n",
              "      <td>1.399</td>\n",
              "      <td>0.039</td>\n",
              "      <td>0.993</td>\n",
              "      <td>0.209</td>\n",
              "      <td>0.581</td>\n",
              "      <td>5.107</td>\n",
              "      <td>0.614</td>\n",
              "      <td>0.057</td>\n",
              "      <td>...</td>\n",
              "      <td>0.035</td>\n",
              "      <td>0.000</td>\n",
              "      <td>0.063</td>\n",
              "      <td>0.002</td>\n",
              "      <td>0.000</td>\n",
              "      <td>0.009</td>\n",
              "      <td>0.002</td>\n",
              "      <td>0.000</td>\n",
              "      <td>4.155</td>\n",
              "      <td>15.571</td>\n",
              "    </tr>\n",
              "    <tr>\n",
              "      <th>공산품</th>\n",
              "      <td>0.276</td>\n",
              "      <td>13.909</td>\n",
              "      <td>13.083</td>\n",
              "      <td>0.358</td>\n",
              "      <td>6.881</td>\n",
              "      <td>2.422</td>\n",
              "      <td>2.496</td>\n",
              "      <td>31.315</td>\n",
              "      <td>9.386</td>\n",
              "      <td>0.627</td>\n",
              "      <td>...</td>\n",
              "      <td>1.382</td>\n",
              "      <td>0.000</td>\n",
              "      <td>0.777</td>\n",
              "      <td>0.396</td>\n",
              "      <td>0.000</td>\n",
              "      <td>0.184</td>\n",
              "      <td>0.065</td>\n",
              "      <td>0.000</td>\n",
              "      <td>90.346</td>\n",
              "      <td>194.280</td>\n",
              "    </tr>\n",
              "    <tr>\n",
              "      <th>서비스</th>\n",
              "      <td>0.017</td>\n",
              "      <td>1.481</td>\n",
              "      <td>6.626</td>\n",
              "      <td>0.028</td>\n",
              "      <td>0.909</td>\n",
              "      <td>0.947</td>\n",
              "      <td>0.901</td>\n",
              "      <td>16.165</td>\n",
              "      <td>23.943</td>\n",
              "      <td>0.035</td>\n",
              "      <td>...</td>\n",
              "      <td>0.096</td>\n",
              "      <td>0.000</td>\n",
              "      <td>0.230</td>\n",
              "      <td>0.006</td>\n",
              "      <td>0.000</td>\n",
              "      <td>0.265</td>\n",
              "      <td>0.075</td>\n",
              "      <td>0.000</td>\n",
              "      <td>110.873</td>\n",
              "      <td>164.889</td>\n",
              "    </tr>\n",
              "    <tr>\n",
              "      <th rowspan=\"3\" valign=\"top\">동남권</th>\n",
              "      <th>농산품</th>\n",
              "      <td>0.048</td>\n",
              "      <td>0.923</td>\n",
              "      <td>1.641</td>\n",
              "      <td>0.049</td>\n",
              "      <td>0.866</td>\n",
              "      <td>0.223</td>\n",
              "      <td>0.040</td>\n",
              "      <td>0.500</td>\n",
              "      <td>0.149</td>\n",
              "      <td>0.764</td>\n",
              "      <td>...</td>\n",
              "      <td>0.460</td>\n",
              "      <td>0.238</td>\n",
              "      <td>0.162</td>\n",
              "      <td>0.006</td>\n",
              "      <td>0.000</td>\n",
              "      <td>0.011</td>\n",
              "      <td>0.002</td>\n",
              "      <td>0.000</td>\n",
              "      <td>5.851</td>\n",
              "      <td>19.427</td>\n",
              "    </tr>\n",
              "    <tr>\n",
              "      <th>공산품</th>\n",
              "      <td>0.227</td>\n",
              "      <td>41.436</td>\n",
              "      <td>36.017</td>\n",
              "      <td>0.347</td>\n",
              "      <td>20.520</td>\n",
              "      <td>5.873</td>\n",
              "      <td>0.585</td>\n",
              "      <td>13.659</td>\n",
              "      <td>5.177</td>\n",
              "      <td>3.089</td>\n",
              "      <td>...</td>\n",
              "      <td>10.124</td>\n",
              "      <td>223.906</td>\n",
              "      <td>1.020</td>\n",
              "      <td>1.001</td>\n",
              "      <td>0.000</td>\n",
              "      <td>0.515</td>\n",
              "      <td>0.171</td>\n",
              "      <td>0.000</td>\n",
              "      <td>300.758</td>\n",
              "      <td>621.248</td>\n",
              "    </tr>\n",
              "    <tr>\n",
              "      <th>서비스</th>\n",
              "      <td>0.036</td>\n",
              "      <td>3.049</td>\n",
              "      <td>12.328</td>\n",
              "      <td>0.056</td>\n",
              "      <td>1.772</td>\n",
              "      <td>1.476</td>\n",
              "      <td>0.069</td>\n",
              "      <td>1.268</td>\n",
              "      <td>1.345</td>\n",
              "      <td>1.662</td>\n",
              "      <td>...</td>\n",
              "      <td>66.199</td>\n",
              "      <td>24.795</td>\n",
              "      <td>0.576</td>\n",
              "      <td>0.026</td>\n",
              "      <td>0.000</td>\n",
              "      <td>0.276</td>\n",
              "      <td>0.021</td>\n",
              "      <td>0.000</td>\n",
              "      <td>275.492</td>\n",
              "      <td>425.294</td>\n",
              "    </tr>\n",
              "    <tr>\n",
              "      <th rowspan=\"3\" valign=\"top\">강원권</th>\n",
              "      <th>농산품</th>\n",
              "      <td>0.026</td>\n",
              "      <td>0.433</td>\n",
              "      <td>0.448</td>\n",
              "      <td>0.021</td>\n",
              "      <td>0.376</td>\n",
              "      <td>0.056</td>\n",
              "      <td>0.012</td>\n",
              "      <td>0.055</td>\n",
              "      <td>0.036</td>\n",
              "      <td>0.031</td>\n",
              "      <td>...</td>\n",
              "      <td>0.018</td>\n",
              "      <td>0.000</td>\n",
              "      <td>0.104</td>\n",
              "      <td>0.107</td>\n",
              "      <td>0.032</td>\n",
              "      <td>0.009</td>\n",
              "      <td>0.002</td>\n",
              "      <td>0.000</td>\n",
              "      <td>1.137</td>\n",
              "      <td>4.033</td>\n",
              "    </tr>\n",
              "    <tr>\n",
              "      <th>공산품</th>\n",
              "      <td>0.023</td>\n",
              "      <td>1.642</td>\n",
              "      <td>2.401</td>\n",
              "      <td>0.016</td>\n",
              "      <td>1.056</td>\n",
              "      <td>0.404</td>\n",
              "      <td>0.014</td>\n",
              "      <td>0.662</td>\n",
              "      <td>0.173</td>\n",
              "      <td>0.036</td>\n",
              "      <td>...</td>\n",
              "      <td>0.038</td>\n",
              "      <td>0.000</td>\n",
              "      <td>0.622</td>\n",
              "      <td>0.035</td>\n",
              "      <td>2.538</td>\n",
              "      <td>0.012</td>\n",
              "      <td>-0.001</td>\n",
              "      <td>0.000</td>\n",
              "      <td>4.976</td>\n",
              "      <td>17.514</td>\n",
              "    </tr>\n",
              "    <tr>\n",
              "      <th>서비스</th>\n",
              "      <td>0.007</td>\n",
              "      <td>0.533</td>\n",
              "      <td>3.048</td>\n",
              "      <td>0.008</td>\n",
              "      <td>0.239</td>\n",
              "      <td>0.336</td>\n",
              "      <td>0.006</td>\n",
              "      <td>0.072</td>\n",
              "      <td>0.147</td>\n",
              "      <td>0.015</td>\n",
              "      <td>...</td>\n",
              "      <td>0.029</td>\n",
              "      <td>0.000</td>\n",
              "      <td>23.076</td>\n",
              "      <td>10.250</td>\n",
              "      <td>1.106</td>\n",
              "      <td>0.031</td>\n",
              "      <td>0.003</td>\n",
              "      <td>0.000</td>\n",
              "      <td>40.143</td>\n",
              "      <td>54.080</td>\n",
              "    </tr>\n",
              "    <tr>\n",
              "      <th rowspan=\"3\" valign=\"top\">제주권</th>\n",
              "      <th>농산품</th>\n",
              "      <td>0.007</td>\n",
              "      <td>0.188</td>\n",
              "      <td>0.417</td>\n",
              "      <td>0.005</td>\n",
              "      <td>0.093</td>\n",
              "      <td>0.056</td>\n",
              "      <td>0.005</td>\n",
              "      <td>0.101</td>\n",
              "      <td>0.045</td>\n",
              "      <td>0.011</td>\n",
              "      <td>...</td>\n",
              "      <td>0.002</td>\n",
              "      <td>0.000</td>\n",
              "      <td>0.023</td>\n",
              "      <td>-0.000</td>\n",
              "      <td>0.000</td>\n",
              "      <td>0.136</td>\n",
              "      <td>0.015</td>\n",
              "      <td>0.050</td>\n",
              "      <td>1.050</td>\n",
              "      <td>2.744</td>\n",
              "    </tr>\n",
              "    <tr>\n",
              "      <th>공산품</th>\n",
              "      <td>0.016</td>\n",
              "      <td>0.122</td>\n",
              "      <td>0.337</td>\n",
              "      <td>0.008</td>\n",
              "      <td>0.035</td>\n",
              "      <td>0.023</td>\n",
              "      <td>0.004</td>\n",
              "      <td>0.037</td>\n",
              "      <td>0.053</td>\n",
              "      <td>0.017</td>\n",
              "      <td>...</td>\n",
              "      <td>0.005</td>\n",
              "      <td>0.000</td>\n",
              "      <td>0.004</td>\n",
              "      <td>-0.000</td>\n",
              "      <td>0.000</td>\n",
              "      <td>0.094</td>\n",
              "      <td>0.008</td>\n",
              "      <td>0.287</td>\n",
              "      <td>0.745</td>\n",
              "      <td>2.602</td>\n",
              "    </tr>\n",
              "    <tr>\n",
              "      <th>서비스</th>\n",
              "      <td>0.004</td>\n",
              "      <td>0.406</td>\n",
              "      <td>2.184</td>\n",
              "      <td>0.004</td>\n",
              "      <td>0.148</td>\n",
              "      <td>0.177</td>\n",
              "      <td>0.020</td>\n",
              "      <td>0.305</td>\n",
              "      <td>0.450</td>\n",
              "      <td>0.010</td>\n",
              "      <td>...</td>\n",
              "      <td>0.022</td>\n",
              "      <td>0.000</td>\n",
              "      <td>0.086</td>\n",
              "      <td>0.002</td>\n",
              "      <td>0.000</td>\n",
              "      <td>7.700</td>\n",
              "      <td>4.463</td>\n",
              "      <td>1.444</td>\n",
              "      <td>17.377</td>\n",
              "      <td>25.821</td>\n",
              "    </tr>\n",
              "    <tr>\n",
              "      <th rowspan=\"3\" valign=\"top\">수입</th>\n",
              "      <th>농산품</th>\n",
              "      <td>0.042</td>\n",
              "      <td>2.882</td>\n",
              "      <td>0.399</td>\n",
              "      <td>0.052</td>\n",
              "      <td>1.949</td>\n",
              "      <td>0.078</td>\n",
              "      <td>0.102</td>\n",
              "      <td>1.345</td>\n",
              "      <td>0.065</td>\n",
              "      <td>0.112</td>\n",
              "      <td>...</td>\n",
              "      <td>-0.013</td>\n",
              "      <td>0.000</td>\n",
              "      <td>0.084</td>\n",
              "      <td>-0.004</td>\n",
              "      <td>0.000</td>\n",
              "      <td>0.032</td>\n",
              "      <td>0.000</td>\n",
              "      <td>0.000</td>\n",
              "      <td>2.842</td>\n",
              "      <td>12.158</td>\n",
              "    </tr>\n",
              "    <tr>\n",
              "      <th>공산품</th>\n",
              "      <td>0.117</td>\n",
              "      <td>100.234</td>\n",
              "      <td>41.048</td>\n",
              "      <td>0.205</td>\n",
              "      <td>52.264</td>\n",
              "      <td>8.680</td>\n",
              "      <td>0.315</td>\n",
              "      <td>45.638</td>\n",
              "      <td>7.558</td>\n",
              "      <td>0.388</td>\n",
              "      <td>...</td>\n",
              "      <td>10.819</td>\n",
              "      <td>0.106</td>\n",
              "      <td>1.564</td>\n",
              "      <td>0.726</td>\n",
              "      <td>0.000</td>\n",
              "      <td>0.793</td>\n",
              "      <td>0.332</td>\n",
              "      <td>0.241</td>\n",
              "      <td>108.665</td>\n",
              "      <td>514.044</td>\n",
              "    </tr>\n",
              "    <tr>\n",
              "      <th>서비스</th>\n",
              "      <td>0.026</td>\n",
              "      <td>5.651</td>\n",
              "      <td>25.485</td>\n",
              "      <td>0.032</td>\n",
              "      <td>2.674</td>\n",
              "      <td>3.045</td>\n",
              "      <td>0.070</td>\n",
              "      <td>1.651</td>\n",
              "      <td>4.641</td>\n",
              "      <td>0.196</td>\n",
              "      <td>...</td>\n",
              "      <td>0.816</td>\n",
              "      <td>0.000</td>\n",
              "      <td>0.363</td>\n",
              "      <td>0.034</td>\n",
              "      <td>0.000</td>\n",
              "      <td>0.294</td>\n",
              "      <td>0.011</td>\n",
              "      <td>0.000</td>\n",
              "      <td>35.253</td>\n",
              "      <td>97.801</td>\n",
              "    </tr>\n",
              "    <tr>\n",
              "      <th>중간투입계</th>\n",
              "      <th>중간수요계</th>\n",
              "      <td>4.037</td>\n",
              "      <td>402.513</td>\n",
              "      <td>555.789</td>\n",
              "      <td>5.401</td>\n",
              "      <td>205.663</td>\n",
              "      <td>85.734</td>\n",
              "      <td>6.698</td>\n",
              "      <td>146.087</td>\n",
              "      <td>75.014</td>\n",
              "      <td>8.973</td>\n",
              "      <td>...</td>\n",
              "      <td>109.186</td>\n",
              "      <td>249.046</td>\n",
              "      <td>36.739</td>\n",
              "      <td>14.597</td>\n",
              "      <td>3.676</td>\n",
              "      <td>12.626</td>\n",
              "      <td>5.650</td>\n",
              "      <td>2.023</td>\n",
              "      <td>2261.453</td>\n",
              "      <td>4457.564</td>\n",
              "    </tr>\n",
              "    <tr>\n",
              "      <th>피보</th>\n",
              "      <th>피용자보수</th>\n",
              "      <td>0.435</td>\n",
              "      <td>71.305</td>\n",
              "      <td>323.947</td>\n",
              "      <td>0.790</td>\n",
              "      <td>27.197</td>\n",
              "      <td>54.877</td>\n",
              "      <td>1.620</td>\n",
              "      <td>15.049</td>\n",
              "      <td>46.703</td>\n",
              "      <td>1.666</td>\n",
              "      <td>...</td>\n",
              "      <td>0.000</td>\n",
              "      <td>0.000</td>\n",
              "      <td>0.000</td>\n",
              "      <td>0.000</td>\n",
              "      <td>0.000</td>\n",
              "      <td>0.000</td>\n",
              "      <td>0.000</td>\n",
              "      <td>0.000</td>\n",
              "      <td>0.000</td>\n",
              "      <td>750.213</td>\n",
              "    </tr>\n",
              "    <tr>\n",
              "      <th>영잉</th>\n",
              "      <th>영업잉여</th>\n",
              "      <td>2.876</td>\n",
              "      <td>51.531</td>\n",
              "      <td>169.687</td>\n",
              "      <td>4.440</td>\n",
              "      <td>28.192</td>\n",
              "      <td>21.959</td>\n",
              "      <td>5.901</td>\n",
              "      <td>14.845</td>\n",
              "      <td>20.091</td>\n",
              "      <td>6.988</td>\n",
              "      <td>...</td>\n",
              "      <td>0.000</td>\n",
              "      <td>0.000</td>\n",
              "      <td>0.000</td>\n",
              "      <td>0.000</td>\n",
              "      <td>0.000</td>\n",
              "      <td>0.000</td>\n",
              "      <td>0.000</td>\n",
              "      <td>0.000</td>\n",
              "      <td>0.000</td>\n",
              "      <td>441.465</td>\n",
              "    </tr>\n",
              "    <tr>\n",
              "      <th>고소</th>\n",
              "      <th>고정자본소모</th>\n",
              "      <td>0.557</td>\n",
              "      <td>45.016</td>\n",
              "      <td>103.715</td>\n",
              "      <td>0.908</td>\n",
              "      <td>22.705</td>\n",
              "      <td>17.885</td>\n",
              "      <td>1.256</td>\n",
              "      <td>9.605</td>\n",
              "      <td>17.299</td>\n",
              "      <td>1.558</td>\n",
              "      <td>...</td>\n",
              "      <td>0.000</td>\n",
              "      <td>0.000</td>\n",
              "      <td>0.000</td>\n",
              "      <td>0.000</td>\n",
              "      <td>0.000</td>\n",
              "      <td>0.000</td>\n",
              "      <td>0.000</td>\n",
              "      <td>0.000</td>\n",
              "      <td>0.000</td>\n",
              "      <td>309.670</td>\n",
              "    </tr>\n",
              "    <tr>\n",
              "      <th>생산세f</th>\n",
              "      <th>생산세</th>\n",
              "      <td>0.056</td>\n",
              "      <td>11.191</td>\n",
              "      <td>50.550</td>\n",
              "      <td>0.097</td>\n",
              "      <td>10.198</td>\n",
              "      <td>6.811</td>\n",
              "      <td>0.097</td>\n",
              "      <td>8.694</td>\n",
              "      <td>5.782</td>\n",
              "      <td>0.242</td>\n",
              "      <td>...</td>\n",
              "      <td>0.000</td>\n",
              "      <td>0.000</td>\n",
              "      <td>0.000</td>\n",
              "      <td>0.000</td>\n",
              "      <td>0.000</td>\n",
              "      <td>0.000</td>\n",
              "      <td>0.000</td>\n",
              "      <td>0.000</td>\n",
              "      <td>0.000</td>\n",
              "      <td>136.103</td>\n",
              "    </tr>\n",
              "    <tr>\n",
              "      <th>부가가치계f</th>\n",
              "      <th>부가가치계</th>\n",
              "      <td>3.924</td>\n",
              "      <td>179.043</td>\n",
              "      <td>647.898</td>\n",
              "      <td>6.235</td>\n",
              "      <td>88.291</td>\n",
              "      <td>101.532</td>\n",
              "      <td>8.874</td>\n",
              "      <td>48.193</td>\n",
              "      <td>89.875</td>\n",
              "      <td>10.454</td>\n",
              "      <td>...</td>\n",
              "      <td>0.000</td>\n",
              "      <td>0.000</td>\n",
              "      <td>0.000</td>\n",
              "      <td>0.000</td>\n",
              "      <td>0.000</td>\n",
              "      <td>0.000</td>\n",
              "      <td>0.000</td>\n",
              "      <td>0.000</td>\n",
              "      <td>0.000</td>\n",
              "      <td>1637.451</td>\n",
              "    </tr>\n",
              "    <tr>\n",
              "      <th>총투입액f</th>\n",
              "      <th>총투입액</th>\n",
              "      <td>7.960</td>\n",
              "      <td>581.556</td>\n",
              "      <td>1203.687</td>\n",
              "      <td>11.636</td>\n",
              "      <td>293.954</td>\n",
              "      <td>187.266</td>\n",
              "      <td>15.571</td>\n",
              "      <td>194.280</td>\n",
              "      <td>164.889</td>\n",
              "      <td>19.427</td>\n",
              "      <td>...</td>\n",
              "      <td>0.000</td>\n",
              "      <td>0.000</td>\n",
              "      <td>0.000</td>\n",
              "      <td>0.000</td>\n",
              "      <td>0.000</td>\n",
              "      <td>0.000</td>\n",
              "      <td>0.000</td>\n",
              "      <td>0.000</td>\n",
              "      <td>0.000</td>\n",
              "      <td>3833.562</td>\n",
              "    </tr>\n",
              "  </tbody>\n",
              "</table>\n",
              "<p>28 rows × 39 columns</p>\n",
              "</div>\n",
              "      <button class=\"colab-df-convert\" onclick=\"convertToInteractive('df-bd8fce9e-78e1-4465-bac4-474e5f05da73')\"\n",
              "              title=\"Convert this dataframe to an interactive table.\"\n",
              "              style=\"display:none;\">\n",
              "        \n",
              "  <svg xmlns=\"http://www.w3.org/2000/svg\" height=\"24px\"viewBox=\"0 0 24 24\"\n",
              "       width=\"24px\">\n",
              "    <path d=\"M0 0h24v24H0V0z\" fill=\"none\"/>\n",
              "    <path d=\"M18.56 5.44l.94 2.06.94-2.06 2.06-.94-2.06-.94-.94-2.06-.94 2.06-2.06.94zm-11 1L8.5 8.5l.94-2.06 2.06-.94-2.06-.94L8.5 2.5l-.94 2.06-2.06.94zm10 10l.94 2.06.94-2.06 2.06-.94-2.06-.94-.94-2.06-.94 2.06-2.06.94z\"/><path d=\"M17.41 7.96l-1.37-1.37c-.4-.4-.92-.59-1.43-.59-.52 0-1.04.2-1.43.59L10.3 9.45l-7.72 7.72c-.78.78-.78 2.05 0 2.83L4 21.41c.39.39.9.59 1.41.59.51 0 1.02-.2 1.41-.59l7.78-7.78 2.81-2.81c.8-.78.8-2.07 0-2.86zM5.41 20L4 18.59l7.72-7.72 1.47 1.35L5.41 20z\"/>\n",
              "  </svg>\n",
              "      </button>\n",
              "      \n",
              "  <style>\n",
              "    .colab-df-container {\n",
              "      display:flex;\n",
              "      flex-wrap:wrap;\n",
              "      gap: 12px;\n",
              "    }\n",
              "\n",
              "    .colab-df-convert {\n",
              "      background-color: #E8F0FE;\n",
              "      border: none;\n",
              "      border-radius: 50%;\n",
              "      cursor: pointer;\n",
              "      display: none;\n",
              "      fill: #1967D2;\n",
              "      height: 32px;\n",
              "      padding: 0 0 0 0;\n",
              "      width: 32px;\n",
              "    }\n",
              "\n",
              "    .colab-df-convert:hover {\n",
              "      background-color: #E2EBFA;\n",
              "      box-shadow: 0px 1px 2px rgba(60, 64, 67, 0.3), 0px 1px 3px 1px rgba(60, 64, 67, 0.15);\n",
              "      fill: #174EA6;\n",
              "    }\n",
              "\n",
              "    [theme=dark] .colab-df-convert {\n",
              "      background-color: #3B4455;\n",
              "      fill: #D2E3FC;\n",
              "    }\n",
              "\n",
              "    [theme=dark] .colab-df-convert:hover {\n",
              "      background-color: #434B5C;\n",
              "      box-shadow: 0px 1px 3px 1px rgba(0, 0, 0, 0.15);\n",
              "      filter: drop-shadow(0px 1px 2px rgba(0, 0, 0, 0.3));\n",
              "      fill: #FFFFFF;\n",
              "    }\n",
              "  </style>\n",
              "\n",
              "      <script>\n",
              "        const buttonEl =\n",
              "          document.querySelector('#df-bd8fce9e-78e1-4465-bac4-474e5f05da73 button.colab-df-convert');\n",
              "        buttonEl.style.display =\n",
              "          google.colab.kernel.accessAllowed ? 'block' : 'none';\n",
              "\n",
              "        async function convertToInteractive(key) {\n",
              "          const element = document.querySelector('#df-bd8fce9e-78e1-4465-bac4-474e5f05da73');\n",
              "          const dataTable =\n",
              "            await google.colab.kernel.invokeFunction('convertToInteractive',\n",
              "                                                     [key], {});\n",
              "          if (!dataTable) return;\n",
              "\n",
              "          const docLinkHtml = 'Like what you see? Visit the ' +\n",
              "            '<a target=\"_blank\" href=https://colab.research.google.com/notebooks/data_table.ipynb>data table notebook</a>'\n",
              "            + ' to learn more about interactive tables.';\n",
              "          element.innerHTML = '';\n",
              "          dataTable['output_type'] = 'display_data';\n",
              "          await google.colab.output.renderOutput(dataTable, element);\n",
              "          const docLink = document.createElement('div');\n",
              "          docLink.innerHTML = docLinkHtml;\n",
              "          element.appendChild(docLink);\n",
              "        }\n",
              "      </script>\n",
              "    </div>\n",
              "  </div>\n",
              "  "
            ]
          },
          "metadata": {},
          "execution_count": 191
        }
      ]
    },
    {
      "cell_type": "code",
      "source": [],
      "metadata": {
        "id": "DmlkpZNXDlMy"
      },
      "execution_count": 191,
      "outputs": []
    },
    {
      "cell_type": "markdown",
      "source": [
        "## 지역, 산업구조 분석"
      ],
      "metadata": {
        "id": "N45bkFE96GzI"
      }
    },
    {
      "cell_type": "code",
      "source": [
        "va = Mt[-2,:19].reshape([1,19]) # 산업별 부가가치\n",
        "ct = Mt[-1,:19].reshape([1,19])  # 산업별 산출액\n",
        "ct"
      ],
      "metadata": {
        "id": "ct-TgHVXrlZj",
        "outputId": "360a85b0-f47b-4589-ba76-3163c17cf7ef",
        "colab": {
          "base_uri": "https://localhost:8080/"
        }
      },
      "execution_count": 192,
      "outputs": [
        {
          "output_type": "execute_result",
          "data": {
            "text/plain": [
              "array([[7.960000e+00, 5.815560e+02, 1.203687e+03, 1.163600e+01,\n",
              "        2.939540e+02, 1.872660e+02, 1.557100e+01, 1.942800e+02,\n",
              "        1.648890e+02, 1.942700e+01, 6.212480e+02, 4.252940e+02,\n",
              "        4.033000e+00, 1.751400e+01, 5.408000e+01, 2.744000e+00,\n",
              "        2.602000e+00, 2.582100e+01, 3.833562e+03]])"
            ]
          },
          "metadata": {},
          "execution_count": 192
        }
      ]
    },
    {
      "cell_type": "code",
      "source": [
        "# 지역기준\n",
        "sudo = np.vstack((va[:,:3].sum(),ct[:,:3].sum())).round(1)\n",
        "chung = np.vstack((va[:,3:6].sum(),ct[:,3:6].sum())).round(1)\n",
        "seo = np.vstack((va[:,6:9].sum(),ct[:,6:9].sum())).round(1)\n",
        "dong = np.vstack((va[:,9:12].sum(),ct[:,9:12].sum())).round(1)\n",
        "kang = np.vstack((va[:,12:15].sum(),ct[:,12:15].sum())).round(1)\n",
        "jeju = np.vstack((va[:,15:18].sum(),ct[:,15:18].sum())).round(1)\n",
        "\n",
        "sm_vact = np.vstack((va[:,18],ct[:,18]))\n",
        "vact_all = np.hstack((sudo, chung, seo, dong, kang,jeju,sm_vact))\n",
        "\n",
        "va_sm = np.hstack((sudo_ct, chung_ct, seo_ct, dong_ct, kang_ct,jeju_ct))\n",
        "ctva_wgt = ((vact_all/sm_vact)*100).round(1)\n",
        "str_rg = np.vstack((vact_all,ctva_wgt))\n",
        "str_rg.shape"
      ],
      "metadata": {
        "id": "kmVCLDn0rleg",
        "outputId": "99a99bc8-82b7-4b34-a8a0-184e6fb313bf",
        "colab": {
          "base_uri": "https://localhost:8080/"
        }
      },
      "execution_count": 193,
      "outputs": [
        {
          "output_type": "execute_result",
          "data": {
            "text/plain": [
              "(4, 7)"
            ]
          },
          "metadata": {},
          "execution_count": 193
        }
      ]
    },
    {
      "cell_type": "code",
      "source": [
        "VACT_by_RG = pd.DataFrame(str_rg, columns = ['수도권', '충청권', '서남권', '동남권', '강원권','제주권', '합계'],\n",
        "                     index=['부가가치', '산출액', '부가가치비중', '산출액비중']) # 변수명 붙여서 pandas로 내보내기\n",
        "VACT_by_RG"
      ],
      "metadata": {
        "id": "FAm4jifsH4ZI",
        "outputId": "0bb18c26-85e4-4eb4-b82b-3216a8416b2d",
        "colab": {
          "base_uri": "https://localhost:8080/",
          "height": 175
        }
      },
      "execution_count": 194,
      "outputs": [
        {
          "output_type": "execute_result",
          "data": {
            "text/plain": [
              "           수도권    충청권    서남권     동남권   강원권   제주권        합계\n",
              "부가가치     830.9  196.1  146.9   408.1  39.1  16.4  1637.451\n",
              "산출액     1793.2  492.9  374.7  1066.0  75.6  31.2  3833.562\n",
              "부가가치비중    50.7   12.0    9.0    24.9   2.4   1.0   100.000\n",
              "산출액비중     46.8   12.9    9.8    27.8   2.0   0.8   100.000"
            ],
            "text/html": [
              "\n",
              "  <div id=\"df-cc0cfc8a-1008-4672-ae43-bd756d8ba1cc\">\n",
              "    <div class=\"colab-df-container\">\n",
              "      <div>\n",
              "<style scoped>\n",
              "    .dataframe tbody tr th:only-of-type {\n",
              "        vertical-align: middle;\n",
              "    }\n",
              "\n",
              "    .dataframe tbody tr th {\n",
              "        vertical-align: top;\n",
              "    }\n",
              "\n",
              "    .dataframe thead th {\n",
              "        text-align: right;\n",
              "    }\n",
              "</style>\n",
              "<table border=\"1\" class=\"dataframe\">\n",
              "  <thead>\n",
              "    <tr style=\"text-align: right;\">\n",
              "      <th></th>\n",
              "      <th>수도권</th>\n",
              "      <th>충청권</th>\n",
              "      <th>서남권</th>\n",
              "      <th>동남권</th>\n",
              "      <th>강원권</th>\n",
              "      <th>제주권</th>\n",
              "      <th>합계</th>\n",
              "    </tr>\n",
              "  </thead>\n",
              "  <tbody>\n",
              "    <tr>\n",
              "      <th>부가가치</th>\n",
              "      <td>830.9</td>\n",
              "      <td>196.1</td>\n",
              "      <td>146.9</td>\n",
              "      <td>408.1</td>\n",
              "      <td>39.1</td>\n",
              "      <td>16.4</td>\n",
              "      <td>1637.451</td>\n",
              "    </tr>\n",
              "    <tr>\n",
              "      <th>산출액</th>\n",
              "      <td>1793.2</td>\n",
              "      <td>492.9</td>\n",
              "      <td>374.7</td>\n",
              "      <td>1066.0</td>\n",
              "      <td>75.6</td>\n",
              "      <td>31.2</td>\n",
              "      <td>3833.562</td>\n",
              "    </tr>\n",
              "    <tr>\n",
              "      <th>부가가치비중</th>\n",
              "      <td>50.7</td>\n",
              "      <td>12.0</td>\n",
              "      <td>9.0</td>\n",
              "      <td>24.9</td>\n",
              "      <td>2.4</td>\n",
              "      <td>1.0</td>\n",
              "      <td>100.000</td>\n",
              "    </tr>\n",
              "    <tr>\n",
              "      <th>산출액비중</th>\n",
              "      <td>46.8</td>\n",
              "      <td>12.9</td>\n",
              "      <td>9.8</td>\n",
              "      <td>27.8</td>\n",
              "      <td>2.0</td>\n",
              "      <td>0.8</td>\n",
              "      <td>100.000</td>\n",
              "    </tr>\n",
              "  </tbody>\n",
              "</table>\n",
              "</div>\n",
              "      <button class=\"colab-df-convert\" onclick=\"convertToInteractive('df-cc0cfc8a-1008-4672-ae43-bd756d8ba1cc')\"\n",
              "              title=\"Convert this dataframe to an interactive table.\"\n",
              "              style=\"display:none;\">\n",
              "        \n",
              "  <svg xmlns=\"http://www.w3.org/2000/svg\" height=\"24px\"viewBox=\"0 0 24 24\"\n",
              "       width=\"24px\">\n",
              "    <path d=\"M0 0h24v24H0V0z\" fill=\"none\"/>\n",
              "    <path d=\"M18.56 5.44l.94 2.06.94-2.06 2.06-.94-2.06-.94-.94-2.06-.94 2.06-2.06.94zm-11 1L8.5 8.5l.94-2.06 2.06-.94-2.06-.94L8.5 2.5l-.94 2.06-2.06.94zm10 10l.94 2.06.94-2.06 2.06-.94-2.06-.94-.94-2.06-.94 2.06-2.06.94z\"/><path d=\"M17.41 7.96l-1.37-1.37c-.4-.4-.92-.59-1.43-.59-.52 0-1.04.2-1.43.59L10.3 9.45l-7.72 7.72c-.78.78-.78 2.05 0 2.83L4 21.41c.39.39.9.59 1.41.59.51 0 1.02-.2 1.41-.59l7.78-7.78 2.81-2.81c.8-.78.8-2.07 0-2.86zM5.41 20L4 18.59l7.72-7.72 1.47 1.35L5.41 20z\"/>\n",
              "  </svg>\n",
              "      </button>\n",
              "      \n",
              "  <style>\n",
              "    .colab-df-container {\n",
              "      display:flex;\n",
              "      flex-wrap:wrap;\n",
              "      gap: 12px;\n",
              "    }\n",
              "\n",
              "    .colab-df-convert {\n",
              "      background-color: #E8F0FE;\n",
              "      border: none;\n",
              "      border-radius: 50%;\n",
              "      cursor: pointer;\n",
              "      display: none;\n",
              "      fill: #1967D2;\n",
              "      height: 32px;\n",
              "      padding: 0 0 0 0;\n",
              "      width: 32px;\n",
              "    }\n",
              "\n",
              "    .colab-df-convert:hover {\n",
              "      background-color: #E2EBFA;\n",
              "      box-shadow: 0px 1px 2px rgba(60, 64, 67, 0.3), 0px 1px 3px 1px rgba(60, 64, 67, 0.15);\n",
              "      fill: #174EA6;\n",
              "    }\n",
              "\n",
              "    [theme=dark] .colab-df-convert {\n",
              "      background-color: #3B4455;\n",
              "      fill: #D2E3FC;\n",
              "    }\n",
              "\n",
              "    [theme=dark] .colab-df-convert:hover {\n",
              "      background-color: #434B5C;\n",
              "      box-shadow: 0px 1px 3px 1px rgba(0, 0, 0, 0.15);\n",
              "      filter: drop-shadow(0px 1px 2px rgba(0, 0, 0, 0.3));\n",
              "      fill: #FFFFFF;\n",
              "    }\n",
              "  </style>\n",
              "\n",
              "      <script>\n",
              "        const buttonEl =\n",
              "          document.querySelector('#df-cc0cfc8a-1008-4672-ae43-bd756d8ba1cc button.colab-df-convert');\n",
              "        buttonEl.style.display =\n",
              "          google.colab.kernel.accessAllowed ? 'block' : 'none';\n",
              "\n",
              "        async function convertToInteractive(key) {\n",
              "          const element = document.querySelector('#df-cc0cfc8a-1008-4672-ae43-bd756d8ba1cc');\n",
              "          const dataTable =\n",
              "            await google.colab.kernel.invokeFunction('convertToInteractive',\n",
              "                                                     [key], {});\n",
              "          if (!dataTable) return;\n",
              "\n",
              "          const docLinkHtml = 'Like what you see? Visit the ' +\n",
              "            '<a target=\"_blank\" href=https://colab.research.google.com/notebooks/data_table.ipynb>data table notebook</a>'\n",
              "            + ' to learn more about interactive tables.';\n",
              "          element.innerHTML = '';\n",
              "          dataTable['output_type'] = 'display_data';\n",
              "          await google.colab.output.renderOutput(dataTable, element);\n",
              "          const docLink = document.createElement('div');\n",
              "          docLink.innerHTML = docLinkHtml;\n",
              "          element.appendChild(docLink);\n",
              "        }\n",
              "      </script>\n",
              "    </div>\n",
              "  </div>\n",
              "  "
            ]
          },
          "metadata": {},
          "execution_count": 194
        }
      ]
    },
    {
      "cell_type": "code",
      "source": [
        "# csv 파일로 내보내기\n",
        "VACT_by_RG.to_csv('산출액_부가가치_지역별_비중.csv', encoding='utf_8-sig')"
      ],
      "metadata": {
        "id": "1vm1Xv8drlkJ"
      },
      "execution_count": 195,
      "outputs": []
    },
    {
      "cell_type": "code",
      "source": [
        "# 산업기준\n",
        "# 부가가치\n",
        "arg_va = np.hstack((va[:,0],va[:,3],va[:,6],va[:,9],va[:,12],va[:,15]))    # 6개권역 농산품\n",
        "manu_va = np.hstack((va[:,1],va[:,4],va[:,7],va[:,10],va[:,13],va[:,16]))  # 6개권역 공산품\n",
        "serv_va= np.hstack((va[:,2],va[:,5],va[:,8],va[:,11],va[:,14],va[:,17]))  # 6개권역 서비스\n",
        "\n",
        "# 산출액\n",
        "arg_ct = np.hstack((ct[:,0],ct[:,3],ct[:,6],ct[:,9],ct[:,12],ct[:,15]))    # 6개권역 농산품\n",
        "manu_ct = np.hstack((ct[:,1],ct[:,4],ct[:,7],ct[:,10],ct[:,13],ct[:,16]))  # 6개권역 공산품\n",
        "serv_ct = np.hstack((ct[:,2],ct[:,5],ct[:,8],ct[:,11],ct[:,14],ct[:,17]))  # 6개권역 서비스\n",
        "\n",
        "serv_ct"
      ],
      "metadata": {
        "id": "kD6_kGVfrlod",
        "outputId": "0fdabe1e-ba89-4328-d445-5e7272af45b3",
        "colab": {
          "base_uri": "https://localhost:8080/"
        }
      },
      "execution_count": 196,
      "outputs": [
        {
          "output_type": "execute_result",
          "data": {
            "text/plain": [
              "array([1203.687,  187.266,  164.889,  425.294,   54.08 ,   25.821])"
            ]
          },
          "metadata": {},
          "execution_count": 196
        }
      ]
    },
    {
      "cell_type": "code",
      "source": [
        "arg_va_sm = np.sum(arg_va)\n",
        "manu_va_sm = np.sum(manu_va)\n",
        "serv_va_sm = np.sum(serv_va)\n",
        "\n",
        "arg_ct_sm = np.sum(arg_ct)\n",
        "manu_ct_sm = np.sum(manu_ct)\n",
        "serv_ct_sm = np.sum(serv_ct)"
      ],
      "metadata": {
        "id": "pIQ5uF5PrluS"
      },
      "execution_count": 197,
      "outputs": []
    },
    {
      "cell_type": "code",
      "source": [
        "# 산업별 지역별 부가가치 비중\n",
        "arg_va_all = np.hstack((arg_va, arg_va_sm)).round(1)\n",
        "manu_va_all = np.hstack((manu_va, manu_va_sm)).round(1)\n",
        "serv_va_all = np.hstack((serv_va, serv_va_sm)).round(1)\n",
        "\n",
        "arg_va_wgt = (arg_va_all/arg_va_sm*100).round(1)  # 농산품비중\n",
        "manu_va_wgt = (manu_va_all/manu_va_sm*100).round(1)  # 공산품비중\n",
        "serv_va_wgt = (serv_va_all/serv_va_sm*100).round(1)  # 공산품비중\n",
        "serv_va_wgt"
      ],
      "metadata": {
        "id": "hYp4NZ2kcL3A",
        "outputId": "6447ead5-2bf2-4a02-9730-72a4af7e6ca2",
        "colab": {
          "base_uri": "https://localhost:8080/"
        }
      },
      "execution_count": 198,
      "outputs": [
        {
          "output_type": "execute_result",
          "data": {
            "text/plain": [
              "array([ 57.9,   9.1,   8. ,  20.9,   2.8,   1.3, 100. ])"
            ]
          },
          "metadata": {},
          "execution_count": 198
        }
      ]
    },
    {
      "cell_type": "code",
      "source": [
        "# 산업별 지역별 산출액 비중\n",
        "arg_ct_all = np.hstack((arg_ct, arg_ct_sm)).round(1)\n",
        "manu_ct_all = np.hstack((manu_ct, manu_ct_sm)).round(1)\n",
        "serv_ct_all = np.hstack((serv_ct, serv_ct_sm)).round(1)\n",
        "\n",
        "arg_ct_wgt = (arg_ct_all/arg_ct_sm*100).round(1)  # 농산품비중\n",
        "manu_ct_wgt = (manu_ct_all/manu_ct_sm*100).round(1)  # 공산품비중\n",
        "serv_ct_wgt = (serv_ct_all/serv_ct_sm*100).round(1)  # 공산품비중\n",
        "serv_ct_wgt"
      ],
      "metadata": {
        "id": "01gIbgUGcL5s",
        "outputId": "c7c7f8e1-c05c-45e5-fd06-8875ea9e65ad",
        "colab": {
          "base_uri": "https://localhost:8080/"
        }
      },
      "execution_count": 199,
      "outputs": [
        {
          "output_type": "execute_result",
          "data": {
            "text/plain": [
              "array([ 58.4,   9.1,   8. ,  20.6,   2.6,   1.3, 100. ])"
            ]
          },
          "metadata": {},
          "execution_count": 199
        }
      ]
    },
    {
      "cell_type": "code",
      "source": [
        "va_by_ind = np.vstack((arg_va_all,manu_va_all,serv_va_all,arg_va_wgt, manu_va_wgt, serv_va_wgt)) # 부가가치\n",
        "ct_by_ind = np.vstack((arg_ct_all,manu_ct_all,serv_ct_all, arg_ct_wgt, manu_ct_wgt, serv_ct_wgt)) # 산출액"
      ],
      "metadata": {
        "id": "g24r5zE8ePXO"
      },
      "execution_count": 200,
      "outputs": []
    },
    {
      "cell_type": "code",
      "source": [
        "VA_IND = pd.DataFrame(va_by_ind, columns = ['수도권', '충청권', '서남권', '동남권', '강원권','제주권', '합계'],\n",
        "                     index=['농산품', '공산품', '서비스', '농산품비중', '공산품비중', '서비스비중',]) # 변수명 붙여서 pandas로 내보내기\n",
        "VA_IND"
      ],
      "metadata": {
        "id": "okCkqZWgcL75",
        "outputId": "4a23a810-fb40-4596-8f88-167c05224605",
        "colab": {
          "base_uri": "https://localhost:8080/",
          "height": 237
        }
      },
      "execution_count": 201,
      "outputs": [
        {
          "output_type": "execute_result",
          "data": {
            "text/plain": [
              "         수도권    충청권   서남권    동남권   강원권   제주권      합계\n",
              "농산품      3.9    6.2   8.9   10.5   2.5   1.3    33.3\n",
              "공산품    179.0   88.3  48.2  163.5   5.3   0.7   485.0\n",
              "서비스    647.9  101.5  89.9  234.1  31.3  14.4  1119.2\n",
              "농산품비중   11.7   18.6  26.8   31.6   7.5   3.9   100.1\n",
              "공산품비중   36.9   18.2   9.9   33.7   1.1   0.1   100.0\n",
              "서비스비중   57.9    9.1   8.0   20.9   2.8   1.3   100.0"
            ],
            "text/html": [
              "\n",
              "  <div id=\"df-b62b1fd8-58f9-4bb9-8feb-8a86655995dc\">\n",
              "    <div class=\"colab-df-container\">\n",
              "      <div>\n",
              "<style scoped>\n",
              "    .dataframe tbody tr th:only-of-type {\n",
              "        vertical-align: middle;\n",
              "    }\n",
              "\n",
              "    .dataframe tbody tr th {\n",
              "        vertical-align: top;\n",
              "    }\n",
              "\n",
              "    .dataframe thead th {\n",
              "        text-align: right;\n",
              "    }\n",
              "</style>\n",
              "<table border=\"1\" class=\"dataframe\">\n",
              "  <thead>\n",
              "    <tr style=\"text-align: right;\">\n",
              "      <th></th>\n",
              "      <th>수도권</th>\n",
              "      <th>충청권</th>\n",
              "      <th>서남권</th>\n",
              "      <th>동남권</th>\n",
              "      <th>강원권</th>\n",
              "      <th>제주권</th>\n",
              "      <th>합계</th>\n",
              "    </tr>\n",
              "  </thead>\n",
              "  <tbody>\n",
              "    <tr>\n",
              "      <th>농산품</th>\n",
              "      <td>3.9</td>\n",
              "      <td>6.2</td>\n",
              "      <td>8.9</td>\n",
              "      <td>10.5</td>\n",
              "      <td>2.5</td>\n",
              "      <td>1.3</td>\n",
              "      <td>33.3</td>\n",
              "    </tr>\n",
              "    <tr>\n",
              "      <th>공산품</th>\n",
              "      <td>179.0</td>\n",
              "      <td>88.3</td>\n",
              "      <td>48.2</td>\n",
              "      <td>163.5</td>\n",
              "      <td>5.3</td>\n",
              "      <td>0.7</td>\n",
              "      <td>485.0</td>\n",
              "    </tr>\n",
              "    <tr>\n",
              "      <th>서비스</th>\n",
              "      <td>647.9</td>\n",
              "      <td>101.5</td>\n",
              "      <td>89.9</td>\n",
              "      <td>234.1</td>\n",
              "      <td>31.3</td>\n",
              "      <td>14.4</td>\n",
              "      <td>1119.2</td>\n",
              "    </tr>\n",
              "    <tr>\n",
              "      <th>농산품비중</th>\n",
              "      <td>11.7</td>\n",
              "      <td>18.6</td>\n",
              "      <td>26.8</td>\n",
              "      <td>31.6</td>\n",
              "      <td>7.5</td>\n",
              "      <td>3.9</td>\n",
              "      <td>100.1</td>\n",
              "    </tr>\n",
              "    <tr>\n",
              "      <th>공산품비중</th>\n",
              "      <td>36.9</td>\n",
              "      <td>18.2</td>\n",
              "      <td>9.9</td>\n",
              "      <td>33.7</td>\n",
              "      <td>1.1</td>\n",
              "      <td>0.1</td>\n",
              "      <td>100.0</td>\n",
              "    </tr>\n",
              "    <tr>\n",
              "      <th>서비스비중</th>\n",
              "      <td>57.9</td>\n",
              "      <td>9.1</td>\n",
              "      <td>8.0</td>\n",
              "      <td>20.9</td>\n",
              "      <td>2.8</td>\n",
              "      <td>1.3</td>\n",
              "      <td>100.0</td>\n",
              "    </tr>\n",
              "  </tbody>\n",
              "</table>\n",
              "</div>\n",
              "      <button class=\"colab-df-convert\" onclick=\"convertToInteractive('df-b62b1fd8-58f9-4bb9-8feb-8a86655995dc')\"\n",
              "              title=\"Convert this dataframe to an interactive table.\"\n",
              "              style=\"display:none;\">\n",
              "        \n",
              "  <svg xmlns=\"http://www.w3.org/2000/svg\" height=\"24px\"viewBox=\"0 0 24 24\"\n",
              "       width=\"24px\">\n",
              "    <path d=\"M0 0h24v24H0V0z\" fill=\"none\"/>\n",
              "    <path d=\"M18.56 5.44l.94 2.06.94-2.06 2.06-.94-2.06-.94-.94-2.06-.94 2.06-2.06.94zm-11 1L8.5 8.5l.94-2.06 2.06-.94-2.06-.94L8.5 2.5l-.94 2.06-2.06.94zm10 10l.94 2.06.94-2.06 2.06-.94-2.06-.94-.94-2.06-.94 2.06-2.06.94z\"/><path d=\"M17.41 7.96l-1.37-1.37c-.4-.4-.92-.59-1.43-.59-.52 0-1.04.2-1.43.59L10.3 9.45l-7.72 7.72c-.78.78-.78 2.05 0 2.83L4 21.41c.39.39.9.59 1.41.59.51 0 1.02-.2 1.41-.59l7.78-7.78 2.81-2.81c.8-.78.8-2.07 0-2.86zM5.41 20L4 18.59l7.72-7.72 1.47 1.35L5.41 20z\"/>\n",
              "  </svg>\n",
              "      </button>\n",
              "      \n",
              "  <style>\n",
              "    .colab-df-container {\n",
              "      display:flex;\n",
              "      flex-wrap:wrap;\n",
              "      gap: 12px;\n",
              "    }\n",
              "\n",
              "    .colab-df-convert {\n",
              "      background-color: #E8F0FE;\n",
              "      border: none;\n",
              "      border-radius: 50%;\n",
              "      cursor: pointer;\n",
              "      display: none;\n",
              "      fill: #1967D2;\n",
              "      height: 32px;\n",
              "      padding: 0 0 0 0;\n",
              "      width: 32px;\n",
              "    }\n",
              "\n",
              "    .colab-df-convert:hover {\n",
              "      background-color: #E2EBFA;\n",
              "      box-shadow: 0px 1px 2px rgba(60, 64, 67, 0.3), 0px 1px 3px 1px rgba(60, 64, 67, 0.15);\n",
              "      fill: #174EA6;\n",
              "    }\n",
              "\n",
              "    [theme=dark] .colab-df-convert {\n",
              "      background-color: #3B4455;\n",
              "      fill: #D2E3FC;\n",
              "    }\n",
              "\n",
              "    [theme=dark] .colab-df-convert:hover {\n",
              "      background-color: #434B5C;\n",
              "      box-shadow: 0px 1px 3px 1px rgba(0, 0, 0, 0.15);\n",
              "      filter: drop-shadow(0px 1px 2px rgba(0, 0, 0, 0.3));\n",
              "      fill: #FFFFFF;\n",
              "    }\n",
              "  </style>\n",
              "\n",
              "      <script>\n",
              "        const buttonEl =\n",
              "          document.querySelector('#df-b62b1fd8-58f9-4bb9-8feb-8a86655995dc button.colab-df-convert');\n",
              "        buttonEl.style.display =\n",
              "          google.colab.kernel.accessAllowed ? 'block' : 'none';\n",
              "\n",
              "        async function convertToInteractive(key) {\n",
              "          const element = document.querySelector('#df-b62b1fd8-58f9-4bb9-8feb-8a86655995dc');\n",
              "          const dataTable =\n",
              "            await google.colab.kernel.invokeFunction('convertToInteractive',\n",
              "                                                     [key], {});\n",
              "          if (!dataTable) return;\n",
              "\n",
              "          const docLinkHtml = 'Like what you see? Visit the ' +\n",
              "            '<a target=\"_blank\" href=https://colab.research.google.com/notebooks/data_table.ipynb>data table notebook</a>'\n",
              "            + ' to learn more about interactive tables.';\n",
              "          element.innerHTML = '';\n",
              "          dataTable['output_type'] = 'display_data';\n",
              "          await google.colab.output.renderOutput(dataTable, element);\n",
              "          const docLink = document.createElement('div');\n",
              "          docLink.innerHTML = docLinkHtml;\n",
              "          element.appendChild(docLink);\n",
              "        }\n",
              "      </script>\n",
              "    </div>\n",
              "  </div>\n",
              "  "
            ]
          },
          "metadata": {},
          "execution_count": 201
        }
      ]
    },
    {
      "cell_type": "code",
      "source": [
        "CT_IND = pd.DataFrame(ct_by_ind, columns = ['수도권', '충청권', '서남권', '동남권', '강원권','제주권', '합계'],\n",
        "                     index=['농산품', '공산품', '서비스', '농산품비중', '공산품비중', '서비스비중',]) # 변수명 붙여서 pandas로 내보내기\n",
        "CT_IND"
      ],
      "metadata": {
        "id": "YuYO88drcL-a",
        "outputId": "28ffd053-b3e5-4750-a72e-076a5e01af53",
        "colab": {
          "base_uri": "https://localhost:8080/",
          "height": 237
        }
      },
      "execution_count": 202,
      "outputs": [
        {
          "output_type": "execute_result",
          "data": {
            "text/plain": [
              "          수도권    충청권    서남권    동남권   강원권   제주권      합계\n",
              "농산품       8.0   11.6   15.6   19.4   4.0   2.7    61.4\n",
              "공산품     581.6  294.0  194.3  621.2  17.5   2.6  1711.2\n",
              "서비스    1203.7  187.3  164.9  425.3  54.1  25.8  2061.0\n",
              "농산품비중    13.0   18.9   25.4   31.6   6.5   4.4   100.0\n",
              "공산품비중    34.0   17.2   11.4   36.3   1.0   0.2   100.0\n",
              "서비스비중    58.4    9.1    8.0   20.6   2.6   1.3   100.0"
            ],
            "text/html": [
              "\n",
              "  <div id=\"df-b1f943dc-fde4-4352-b273-a41baadfd1f3\">\n",
              "    <div class=\"colab-df-container\">\n",
              "      <div>\n",
              "<style scoped>\n",
              "    .dataframe tbody tr th:only-of-type {\n",
              "        vertical-align: middle;\n",
              "    }\n",
              "\n",
              "    .dataframe tbody tr th {\n",
              "        vertical-align: top;\n",
              "    }\n",
              "\n",
              "    .dataframe thead th {\n",
              "        text-align: right;\n",
              "    }\n",
              "</style>\n",
              "<table border=\"1\" class=\"dataframe\">\n",
              "  <thead>\n",
              "    <tr style=\"text-align: right;\">\n",
              "      <th></th>\n",
              "      <th>수도권</th>\n",
              "      <th>충청권</th>\n",
              "      <th>서남권</th>\n",
              "      <th>동남권</th>\n",
              "      <th>강원권</th>\n",
              "      <th>제주권</th>\n",
              "      <th>합계</th>\n",
              "    </tr>\n",
              "  </thead>\n",
              "  <tbody>\n",
              "    <tr>\n",
              "      <th>농산품</th>\n",
              "      <td>8.0</td>\n",
              "      <td>11.6</td>\n",
              "      <td>15.6</td>\n",
              "      <td>19.4</td>\n",
              "      <td>4.0</td>\n",
              "      <td>2.7</td>\n",
              "      <td>61.4</td>\n",
              "    </tr>\n",
              "    <tr>\n",
              "      <th>공산품</th>\n",
              "      <td>581.6</td>\n",
              "      <td>294.0</td>\n",
              "      <td>194.3</td>\n",
              "      <td>621.2</td>\n",
              "      <td>17.5</td>\n",
              "      <td>2.6</td>\n",
              "      <td>1711.2</td>\n",
              "    </tr>\n",
              "    <tr>\n",
              "      <th>서비스</th>\n",
              "      <td>1203.7</td>\n",
              "      <td>187.3</td>\n",
              "      <td>164.9</td>\n",
              "      <td>425.3</td>\n",
              "      <td>54.1</td>\n",
              "      <td>25.8</td>\n",
              "      <td>2061.0</td>\n",
              "    </tr>\n",
              "    <tr>\n",
              "      <th>농산품비중</th>\n",
              "      <td>13.0</td>\n",
              "      <td>18.9</td>\n",
              "      <td>25.4</td>\n",
              "      <td>31.6</td>\n",
              "      <td>6.5</td>\n",
              "      <td>4.4</td>\n",
              "      <td>100.0</td>\n",
              "    </tr>\n",
              "    <tr>\n",
              "      <th>공산품비중</th>\n",
              "      <td>34.0</td>\n",
              "      <td>17.2</td>\n",
              "      <td>11.4</td>\n",
              "      <td>36.3</td>\n",
              "      <td>1.0</td>\n",
              "      <td>0.2</td>\n",
              "      <td>100.0</td>\n",
              "    </tr>\n",
              "    <tr>\n",
              "      <th>서비스비중</th>\n",
              "      <td>58.4</td>\n",
              "      <td>9.1</td>\n",
              "      <td>8.0</td>\n",
              "      <td>20.6</td>\n",
              "      <td>2.6</td>\n",
              "      <td>1.3</td>\n",
              "      <td>100.0</td>\n",
              "    </tr>\n",
              "  </tbody>\n",
              "</table>\n",
              "</div>\n",
              "      <button class=\"colab-df-convert\" onclick=\"convertToInteractive('df-b1f943dc-fde4-4352-b273-a41baadfd1f3')\"\n",
              "              title=\"Convert this dataframe to an interactive table.\"\n",
              "              style=\"display:none;\">\n",
              "        \n",
              "  <svg xmlns=\"http://www.w3.org/2000/svg\" height=\"24px\"viewBox=\"0 0 24 24\"\n",
              "       width=\"24px\">\n",
              "    <path d=\"M0 0h24v24H0V0z\" fill=\"none\"/>\n",
              "    <path d=\"M18.56 5.44l.94 2.06.94-2.06 2.06-.94-2.06-.94-.94-2.06-.94 2.06-2.06.94zm-11 1L8.5 8.5l.94-2.06 2.06-.94-2.06-.94L8.5 2.5l-.94 2.06-2.06.94zm10 10l.94 2.06.94-2.06 2.06-.94-2.06-.94-.94-2.06-.94 2.06-2.06.94z\"/><path d=\"M17.41 7.96l-1.37-1.37c-.4-.4-.92-.59-1.43-.59-.52 0-1.04.2-1.43.59L10.3 9.45l-7.72 7.72c-.78.78-.78 2.05 0 2.83L4 21.41c.39.39.9.59 1.41.59.51 0 1.02-.2 1.41-.59l7.78-7.78 2.81-2.81c.8-.78.8-2.07 0-2.86zM5.41 20L4 18.59l7.72-7.72 1.47 1.35L5.41 20z\"/>\n",
              "  </svg>\n",
              "      </button>\n",
              "      \n",
              "  <style>\n",
              "    .colab-df-container {\n",
              "      display:flex;\n",
              "      flex-wrap:wrap;\n",
              "      gap: 12px;\n",
              "    }\n",
              "\n",
              "    .colab-df-convert {\n",
              "      background-color: #E8F0FE;\n",
              "      border: none;\n",
              "      border-radius: 50%;\n",
              "      cursor: pointer;\n",
              "      display: none;\n",
              "      fill: #1967D2;\n",
              "      height: 32px;\n",
              "      padding: 0 0 0 0;\n",
              "      width: 32px;\n",
              "    }\n",
              "\n",
              "    .colab-df-convert:hover {\n",
              "      background-color: #E2EBFA;\n",
              "      box-shadow: 0px 1px 2px rgba(60, 64, 67, 0.3), 0px 1px 3px 1px rgba(60, 64, 67, 0.15);\n",
              "      fill: #174EA6;\n",
              "    }\n",
              "\n",
              "    [theme=dark] .colab-df-convert {\n",
              "      background-color: #3B4455;\n",
              "      fill: #D2E3FC;\n",
              "    }\n",
              "\n",
              "    [theme=dark] .colab-df-convert:hover {\n",
              "      background-color: #434B5C;\n",
              "      box-shadow: 0px 1px 3px 1px rgba(0, 0, 0, 0.15);\n",
              "      filter: drop-shadow(0px 1px 2px rgba(0, 0, 0, 0.3));\n",
              "      fill: #FFFFFF;\n",
              "    }\n",
              "  </style>\n",
              "\n",
              "      <script>\n",
              "        const buttonEl =\n",
              "          document.querySelector('#df-b1f943dc-fde4-4352-b273-a41baadfd1f3 button.colab-df-convert');\n",
              "        buttonEl.style.display =\n",
              "          google.colab.kernel.accessAllowed ? 'block' : 'none';\n",
              "\n",
              "        async function convertToInteractive(key) {\n",
              "          const element = document.querySelector('#df-b1f943dc-fde4-4352-b273-a41baadfd1f3');\n",
              "          const dataTable =\n",
              "            await google.colab.kernel.invokeFunction('convertToInteractive',\n",
              "                                                     [key], {});\n",
              "          if (!dataTable) return;\n",
              "\n",
              "          const docLinkHtml = 'Like what you see? Visit the ' +\n",
              "            '<a target=\"_blank\" href=https://colab.research.google.com/notebooks/data_table.ipynb>data table notebook</a>'\n",
              "            + ' to learn more about interactive tables.';\n",
              "          element.innerHTML = '';\n",
              "          dataTable['output_type'] = 'display_data';\n",
              "          await google.colab.output.renderOutput(dataTable, element);\n",
              "          const docLink = document.createElement('div');\n",
              "          docLink.innerHTML = docLinkHtml;\n",
              "          element.appendChild(docLink);\n",
              "        }\n",
              "      </script>\n",
              "    </div>\n",
              "  </div>\n",
              "  "
            ]
          },
          "metadata": {},
          "execution_count": 202
        }
      ]
    },
    {
      "cell_type": "code",
      "source": [
        "# csv 파일로 내보내기\n",
        "VA_IND.to_csv('부가가치_산업별_지역별_비중.csv', encoding='utf_8-sig')\n",
        "CT_IND.to_csv('산출액_산업별_지역별_비중.csv', encoding='utf_8-sig')"
      ],
      "metadata": {
        "id": "BeMCDJVqcMA1"
      },
      "execution_count": 203,
      "outputs": []
    },
    {
      "cell_type": "markdown",
      "source": [
        "###..산업연관효과분석"
      ],
      "metadata": {
        "id": "JYbkwC_VPVv2"
      }
    },
    {
      "cell_type": "code",
      "source": [
        "Dm_1 =Tot_rg[0:18,0:18].astype(float)\n",
        "Im_1 =Tot_rg[18:21,0:18].astype(float)\n",
        "# Dm_1 = Dt[0:4,1:10].astype(float)\n",
        "# Im_1 = It[0:4,1:10].astype(float)\n",
        "# print('총거래표 : \\n', Tt_1)    # 총거래표 확인\n",
        "# print('국산거래표 : \\n', Dm_1)  # 국산거래표 확인\n",
        "print('수입거래표 : \\n', Im_1)  # 수입거래표 확인"
      ],
      "metadata": {
        "id": "q4Q2rSR1QiUI",
        "outputId": "e5072582-0795-4966-c687-5535e130f946",
        "colab": {
          "base_uri": "https://localhost:8080/"
        }
      },
      "execution_count": 238,
      "outputs": [
        {
          "output_type": "stream",
          "name": "stdout",
          "text": [
            "수입거래표 : \n",
            " [[4.23930000e+04 2.88159900e+06 3.99081000e+05 5.21140000e+04\n",
            "  1.94857800e+06 7.82000000e+04 1.01713000e+05 1.34484900e+06\n",
            "  6.46800000e+04 1.11732000e+05 1.83557600e+06 1.70059000e+05\n",
            "  1.92680000e+04 1.59699000e+05 2.36810000e+04 2.15980000e+04\n",
            "  4.85910000e+04 1.29030000e+04]\n",
            " [1.17106000e+05 1.00234381e+08 4.10477370e+07 2.05293000e+05\n",
            "  5.22641750e+07 8.68029200e+06 3.14744000e+05 4.56384820e+07\n",
            "  7.55841500e+06 3.87596000e+05 1.28066603e+08 1.69664310e+07\n",
            "  6.63890000e+04 1.43871700e+06 1.39779100e+06 6.60360000e+04\n",
            "  2.24291000e+05 7.03960000e+05]\n",
            " [2.64230000e+04 5.65057300e+06 2.54850790e+07 3.19160000e+04\n",
            "  2.67401200e+06 3.04511700e+06 7.03960000e+04 1.65096700e+06\n",
            "  4.64103600e+06 1.96178000e+05 5.84343700e+06 1.16852650e+07\n",
            "  1.75040000e+04 1.08369000e+05 9.03602000e+05 3.22460000e+04\n",
            "  1.34850000e+04 4.72139000e+05]]\n"
          ]
        }
      ]
    },
    {
      "cell_type": "code",
      "source": [
        "ct =Tot_rg[-1,:18]  # 산출액\n",
        "ct"
      ],
      "metadata": {
        "id": "sLoitK1lQigz",
        "outputId": "17ed1630-1ae7-420d-8ae8-3cf7dca1324c",
        "colab": {
          "base_uri": "https://localhost:8080/"
        }
      },
      "execution_count": 239,
      "outputs": [
        {
          "output_type": "execute_result",
          "data": {
            "text/plain": [
              "array([7.96046700e+06, 5.81555920e+08, 1.20368721e+09, 1.16361110e+07,\n",
              "       2.93953934e+08, 1.87265813e+08, 1.55713720e+07, 1.94280157e+08,\n",
              "       1.64889239e+08, 1.94267660e+07, 6.21247616e+08, 4.25293862e+08,\n",
              "       4.03275600e+06, 1.75140070e+07, 5.40799270e+07, 2.74425100e+06,\n",
              "       2.60203200e+06, 2.58206440e+07])"
            ]
          },
          "metadata": {},
          "execution_count": 239
        }
      ]
    },
    {
      "cell_type": "code",
      "source": [
        "ct_m = np.tile(ct, reps=[18,1]) # 산출액을 18번 행반복"
      ],
      "metadata": {
        "id": "s0wcbJY1Qipl"
      },
      "execution_count": 240,
      "outputs": []
    },
    {
      "cell_type": "code",
      "source": [
        "# At = Tt_1[0:3,0:3]/ct_m   # 총투입계수\n",
        "Ad = Dm_1/ct_m  # 국산 투입계수\n",
        "\n",
        "# print('총투입계수표 : \\n', At)\n",
        "# print('국산투입계수표 : \\n', Ad)\n",
        "#\n",
        "# df_At = pd.DataFrame(At.round(3),columns = ['농산품', '공산품', '서비스'], index=['농산품', '공산품', '서비스'])  #pandas로 내보내기\n",
        "Ad.shape"
      ],
      "metadata": {
        "id": "5uLIE7vfQiwM",
        "outputId": "2762272e-37f5-4f97-8e68-37661c99068c",
        "colab": {
          "base_uri": "https://localhost:8080/"
        }
      },
      "execution_count": 241,
      "outputs": [
        {
          "output_type": "execute_result",
          "data": {
            "text/plain": [
              "(18, 18)"
            ]
          },
          "metadata": {},
          "execution_count": 241
        }
      ]
    },
    {
      "cell_type": "code",
      "source": [
        "Ad_df = pd.DataFrame(Ad, columns = [['수도권', '수도권', '수도권', '충청권', '충청권', '충청권','서남권', '서남권', '서남권', '동남권', '동남권', '동남권',\n",
        "                                       '강원권', '강원권', '강원권', '제주권', '제주권', '제주권'],\n",
        "\n",
        "                                      ['농산품', '공산품', '서비스', '농산품', '공산품', '서비스','농산품', '공산품', '서비스', '농산품', '공산품', '서비스',\n",
        "                                        '농산품', '공산품', '서비스', '농산품', '공산품', '서비스']],\n",
        "\n",
        "                                    index=[['수도권', '수도권', '수도권', '충청권', '충청권', '충청권','서남권', '서남권', '서남권', '동남권', '동남권', '동남권',\n",
        "                                            '강원권', '강원권', '강원권', '제주권', '제주권', '제주권'],\n",
        "\n",
        "                                           ['농산품', '공산품', '서비스', '농산품', '공산품', '서비스','농산품', '공산품', '서비스', '농산품', '공산품', '서비스',\n",
        "                                            '농산품', '공산품', '서비스', '농산품', '공산품', '서비스']])\n",
        "Ad_df.index.names=['지역', '상품']\n",
        "Ad_df"
      ],
      "metadata": {
        "id": "W-MSnIM5k4X5",
        "outputId": "95796041-2cfd-4213-a61b-ddf9796b9cc9",
        "colab": {
          "base_uri": "https://localhost:8080/",
          "height": 676
        }
      },
      "execution_count": 259,
      "outputs": [
        {
          "output_type": "execute_result",
          "data": {
            "text/plain": [
              "              수도권                           충청권                           서남권  \\\n",
              "              농산품       공산품       서비스       농산품       공산품       서비스       농산품   \n",
              "지역  상품                                                                          \n",
              "수도권 농산품  0.029324  0.005358  0.000817  0.002418  0.003705  0.000348  0.001158   \n",
              "    공산품  0.234908  0.192799  0.059076  0.029198  0.095441  0.037542  0.036520   \n",
              "    서비스  0.098078  0.135180  0.250569  0.042336  0.058037  0.078523  0.033790   \n",
              "충청권 농산품  0.005574  0.001900  0.000822  0.032677  0.016592  0.001899  0.001536   \n",
              "    공산품  0.022376  0.055501  0.021784  0.197282  0.141633  0.074186  0.020050   \n",
              "    서비스  0.002061  0.002472  0.006662  0.054749  0.075427  0.137138  0.001909   \n",
              "서남권 농산품  0.005034  0.001635  0.001162  0.003365  0.003377  0.001115  0.037283   \n",
              "    공산품  0.034681  0.023917  0.010869  0.030752  0.023409  0.012931  0.160299   \n",
              "    서비스  0.002126  0.002547  0.005505  0.002370  0.003094  0.005055  0.057873   \n",
              "동남권 농산품  0.006091  0.001588  0.001364  0.004183  0.002947  0.001191  0.002577   \n",
              "    공산품  0.028485  0.071251  0.029922  0.029812  0.069807  0.031364  0.037594   \n",
              "    서비스  0.004469  0.005242  0.010242  0.004823  0.006029  0.007883  0.004408   \n",
              "강원권 농산품  0.003314  0.000744  0.000372  0.001822  0.001279  0.000299  0.000754   \n",
              "    공산품  0.002941  0.002824  0.001995  0.001357  0.003594  0.002156  0.000910   \n",
              "    서비스  0.000838  0.000917  0.002532  0.000668  0.000813  0.001792  0.000386   \n",
              "제주권 농산품  0.000926  0.000324  0.000346  0.000417  0.000315  0.000302  0.000318   \n",
              "    공산품  0.001980  0.000209  0.000280  0.000670  0.000118  0.000120  0.000239   \n",
              "    서비스  0.000521  0.000697  0.001815  0.000373  0.000505  0.000947  0.001256   \n",
              "\n",
              "                                  동남권                           강원권            \\\n",
              "              공산품       서비스       농산품       공산품       서비스       농산품       공산품   \n",
              "지역  상품                                                                          \n",
              "수도권 농산품  0.000806  0.000215  0.001410  0.000276  0.000204  0.004467  0.010974   \n",
              "    공산품  0.044477  0.030592  0.029023  0.055478  0.027223  0.055366  0.082561   \n",
              "    서비스  0.056950  0.070737  0.036548  0.040498  0.062542  0.033945  0.079653   \n",
              "충청권 농산품  0.002164  0.000470  0.002214  0.000556  0.000417  0.003579  0.005012   \n",
              "    공산품  0.038203  0.022387  0.027947  0.037050  0.019957  0.024656  0.046766   \n",
              "    서비스  0.002590  0.004361  0.001808  0.001663  0.002864  0.001572  0.003571   \n",
              "서남권 농산품  0.026287  0.003723  0.002942  0.001227  0.001013  0.003342  0.007514   \n",
              "    공산품  0.161186  0.056923  0.032286  0.026874  0.010752  0.035248  0.022803   \n",
              "    서비스  0.083204  0.145209  0.001792  0.001754  0.002839  0.001957  0.006026   \n",
              "동남권 농산품  0.002571  0.000905  0.039346  0.009726  0.004344  0.004904  0.017335   \n",
              "    공산품  0.070305  0.031398  0.158999  0.247327  0.083504  0.040028  0.067720   \n",
              "    서비스  0.006526  0.008154  0.085572  0.091719  0.161461  0.004215  0.015697   \n",
              "강원권 농산품  0.000281  0.000221  0.001580  0.000296  0.000325  0.032538  0.044738   \n",
              "    공산품  0.003410  0.001049  0.001844  0.002582  0.001688  0.055238  0.090269   \n",
              "    서비스  0.000368  0.000889  0.000797  0.000558  0.001159  0.050341  0.095602   \n",
              "제주권 농산품  0.000522  0.000275  0.000568  0.000184  0.000288  0.000592  0.001950   \n",
              "    공산품  0.000191  0.000320  0.000890  0.000107  0.000196  0.000647  0.000271   \n",
              "    서비스  0.001569  0.002730  0.000504  0.000460  0.000911  0.000280  0.000836   \n",
              "\n",
              "                        제주권                      \n",
              "              서비스       농산품       공산품       서비스  \n",
              "지역  상품                                           \n",
              "수도권 농산품  0.000498  0.004401  0.001102  0.000233  \n",
              "    공산품  0.043161  0.067820  0.079465  0.032934  \n",
              "    서비스  0.084095  0.048155  0.064962  0.078191  \n",
              "충청권 농산품  0.000722  0.005394  0.002199  0.000368  \n",
              "    공산품  0.025397  0.046490  0.034705  0.024211  \n",
              "    서비스  0.003664  0.001807  0.002065  0.003465  \n",
              "서남권 농산품  0.001004  0.005045  0.003103  0.000477  \n",
              "    공산품  0.012203  0.072846  0.030360  0.016705  \n",
              "    서비스  0.004011  0.008440  0.007329  0.011410  \n",
              "동남권 농산품  0.002224  0.004128  0.004451  0.000584  \n",
              "    공산품  0.030941  0.071468  0.064502  0.039088  \n",
              "    서비스  0.008059  0.007552  0.008821  0.012467  \n",
              "강원권 농산품  0.001923  0.004019  0.014003  0.000515  \n",
              "    공산품  0.034156  0.003332  0.030508  0.001894  \n",
              "    서비스  0.125159  0.000577  0.000493  0.001497  \n",
              "제주권 농산품  0.000318  0.024076  0.098612  0.005893  \n",
              "    공산품  0.000235  0.043962  0.056585  0.029780  \n",
              "    서비스  0.000785  0.075891  0.111970  0.135695  "
            ],
            "text/html": [
              "\n",
              "  <div id=\"df-712aba65-da2b-4bef-a3f2-7138069baca9\">\n",
              "    <div class=\"colab-df-container\">\n",
              "      <div>\n",
              "<style scoped>\n",
              "    .dataframe tbody tr th:only-of-type {\n",
              "        vertical-align: middle;\n",
              "    }\n",
              "\n",
              "    .dataframe tbody tr th {\n",
              "        vertical-align: top;\n",
              "    }\n",
              "\n",
              "    .dataframe thead tr th {\n",
              "        text-align: left;\n",
              "    }\n",
              "\n",
              "    .dataframe thead tr:last-of-type th {\n",
              "        text-align: right;\n",
              "    }\n",
              "</style>\n",
              "<table border=\"1\" class=\"dataframe\">\n",
              "  <thead>\n",
              "    <tr>\n",
              "      <th></th>\n",
              "      <th></th>\n",
              "      <th colspan=\"3\" halign=\"left\">수도권</th>\n",
              "      <th colspan=\"3\" halign=\"left\">충청권</th>\n",
              "      <th colspan=\"3\" halign=\"left\">서남권</th>\n",
              "      <th colspan=\"3\" halign=\"left\">동남권</th>\n",
              "      <th colspan=\"3\" halign=\"left\">강원권</th>\n",
              "      <th colspan=\"3\" halign=\"left\">제주권</th>\n",
              "    </tr>\n",
              "    <tr>\n",
              "      <th></th>\n",
              "      <th></th>\n",
              "      <th>농산품</th>\n",
              "      <th>공산품</th>\n",
              "      <th>서비스</th>\n",
              "      <th>농산품</th>\n",
              "      <th>공산품</th>\n",
              "      <th>서비스</th>\n",
              "      <th>농산품</th>\n",
              "      <th>공산품</th>\n",
              "      <th>서비스</th>\n",
              "      <th>농산품</th>\n",
              "      <th>공산품</th>\n",
              "      <th>서비스</th>\n",
              "      <th>농산품</th>\n",
              "      <th>공산품</th>\n",
              "      <th>서비스</th>\n",
              "      <th>농산품</th>\n",
              "      <th>공산품</th>\n",
              "      <th>서비스</th>\n",
              "    </tr>\n",
              "    <tr>\n",
              "      <th>지역</th>\n",
              "      <th>상품</th>\n",
              "      <th></th>\n",
              "      <th></th>\n",
              "      <th></th>\n",
              "      <th></th>\n",
              "      <th></th>\n",
              "      <th></th>\n",
              "      <th></th>\n",
              "      <th></th>\n",
              "      <th></th>\n",
              "      <th></th>\n",
              "      <th></th>\n",
              "      <th></th>\n",
              "      <th></th>\n",
              "      <th></th>\n",
              "      <th></th>\n",
              "      <th></th>\n",
              "      <th></th>\n",
              "      <th></th>\n",
              "    </tr>\n",
              "  </thead>\n",
              "  <tbody>\n",
              "    <tr>\n",
              "      <th rowspan=\"3\" valign=\"top\">수도권</th>\n",
              "      <th>농산품</th>\n",
              "      <td>0.029324</td>\n",
              "      <td>0.005358</td>\n",
              "      <td>0.000817</td>\n",
              "      <td>0.002418</td>\n",
              "      <td>0.003705</td>\n",
              "      <td>0.000348</td>\n",
              "      <td>0.001158</td>\n",
              "      <td>0.000806</td>\n",
              "      <td>0.000215</td>\n",
              "      <td>0.001410</td>\n",
              "      <td>0.000276</td>\n",
              "      <td>0.000204</td>\n",
              "      <td>0.004467</td>\n",
              "      <td>0.010974</td>\n",
              "      <td>0.000498</td>\n",
              "      <td>0.004401</td>\n",
              "      <td>0.001102</td>\n",
              "      <td>0.000233</td>\n",
              "    </tr>\n",
              "    <tr>\n",
              "      <th>공산품</th>\n",
              "      <td>0.234908</td>\n",
              "      <td>0.192799</td>\n",
              "      <td>0.059076</td>\n",
              "      <td>0.029198</td>\n",
              "      <td>0.095441</td>\n",
              "      <td>0.037542</td>\n",
              "      <td>0.036520</td>\n",
              "      <td>0.044477</td>\n",
              "      <td>0.030592</td>\n",
              "      <td>0.029023</td>\n",
              "      <td>0.055478</td>\n",
              "      <td>0.027223</td>\n",
              "      <td>0.055366</td>\n",
              "      <td>0.082561</td>\n",
              "      <td>0.043161</td>\n",
              "      <td>0.067820</td>\n",
              "      <td>0.079465</td>\n",
              "      <td>0.032934</td>\n",
              "    </tr>\n",
              "    <tr>\n",
              "      <th>서비스</th>\n",
              "      <td>0.098078</td>\n",
              "      <td>0.135180</td>\n",
              "      <td>0.250569</td>\n",
              "      <td>0.042336</td>\n",
              "      <td>0.058037</td>\n",
              "      <td>0.078523</td>\n",
              "      <td>0.033790</td>\n",
              "      <td>0.056950</td>\n",
              "      <td>0.070737</td>\n",
              "      <td>0.036548</td>\n",
              "      <td>0.040498</td>\n",
              "      <td>0.062542</td>\n",
              "      <td>0.033945</td>\n",
              "      <td>0.079653</td>\n",
              "      <td>0.084095</td>\n",
              "      <td>0.048155</td>\n",
              "      <td>0.064962</td>\n",
              "      <td>0.078191</td>\n",
              "    </tr>\n",
              "    <tr>\n",
              "      <th rowspan=\"3\" valign=\"top\">충청권</th>\n",
              "      <th>농산품</th>\n",
              "      <td>0.005574</td>\n",
              "      <td>0.001900</td>\n",
              "      <td>0.000822</td>\n",
              "      <td>0.032677</td>\n",
              "      <td>0.016592</td>\n",
              "      <td>0.001899</td>\n",
              "      <td>0.001536</td>\n",
              "      <td>0.002164</td>\n",
              "      <td>0.000470</td>\n",
              "      <td>0.002214</td>\n",
              "      <td>0.000556</td>\n",
              "      <td>0.000417</td>\n",
              "      <td>0.003579</td>\n",
              "      <td>0.005012</td>\n",
              "      <td>0.000722</td>\n",
              "      <td>0.005394</td>\n",
              "      <td>0.002199</td>\n",
              "      <td>0.000368</td>\n",
              "    </tr>\n",
              "    <tr>\n",
              "      <th>공산품</th>\n",
              "      <td>0.022376</td>\n",
              "      <td>0.055501</td>\n",
              "      <td>0.021784</td>\n",
              "      <td>0.197282</td>\n",
              "      <td>0.141633</td>\n",
              "      <td>0.074186</td>\n",
              "      <td>0.020050</td>\n",
              "      <td>0.038203</td>\n",
              "      <td>0.022387</td>\n",
              "      <td>0.027947</td>\n",
              "      <td>0.037050</td>\n",
              "      <td>0.019957</td>\n",
              "      <td>0.024656</td>\n",
              "      <td>0.046766</td>\n",
              "      <td>0.025397</td>\n",
              "      <td>0.046490</td>\n",
              "      <td>0.034705</td>\n",
              "      <td>0.024211</td>\n",
              "    </tr>\n",
              "    <tr>\n",
              "      <th>서비스</th>\n",
              "      <td>0.002061</td>\n",
              "      <td>0.002472</td>\n",
              "      <td>0.006662</td>\n",
              "      <td>0.054749</td>\n",
              "      <td>0.075427</td>\n",
              "      <td>0.137138</td>\n",
              "      <td>0.001909</td>\n",
              "      <td>0.002590</td>\n",
              "      <td>0.004361</td>\n",
              "      <td>0.001808</td>\n",
              "      <td>0.001663</td>\n",
              "      <td>0.002864</td>\n",
              "      <td>0.001572</td>\n",
              "      <td>0.003571</td>\n",
              "      <td>0.003664</td>\n",
              "      <td>0.001807</td>\n",
              "      <td>0.002065</td>\n",
              "      <td>0.003465</td>\n",
              "    </tr>\n",
              "    <tr>\n",
              "      <th rowspan=\"3\" valign=\"top\">서남권</th>\n",
              "      <th>농산품</th>\n",
              "      <td>0.005034</td>\n",
              "      <td>0.001635</td>\n",
              "      <td>0.001162</td>\n",
              "      <td>0.003365</td>\n",
              "      <td>0.003377</td>\n",
              "      <td>0.001115</td>\n",
              "      <td>0.037283</td>\n",
              "      <td>0.026287</td>\n",
              "      <td>0.003723</td>\n",
              "      <td>0.002942</td>\n",
              "      <td>0.001227</td>\n",
              "      <td>0.001013</td>\n",
              "      <td>0.003342</td>\n",
              "      <td>0.007514</td>\n",
              "      <td>0.001004</td>\n",
              "      <td>0.005045</td>\n",
              "      <td>0.003103</td>\n",
              "      <td>0.000477</td>\n",
              "    </tr>\n",
              "    <tr>\n",
              "      <th>공산품</th>\n",
              "      <td>0.034681</td>\n",
              "      <td>0.023917</td>\n",
              "      <td>0.010869</td>\n",
              "      <td>0.030752</td>\n",
              "      <td>0.023409</td>\n",
              "      <td>0.012931</td>\n",
              "      <td>0.160299</td>\n",
              "      <td>0.161186</td>\n",
              "      <td>0.056923</td>\n",
              "      <td>0.032286</td>\n",
              "      <td>0.026874</td>\n",
              "      <td>0.010752</td>\n",
              "      <td>0.035248</td>\n",
              "      <td>0.022803</td>\n",
              "      <td>0.012203</td>\n",
              "      <td>0.072846</td>\n",
              "      <td>0.030360</td>\n",
              "      <td>0.016705</td>\n",
              "    </tr>\n",
              "    <tr>\n",
              "      <th>서비스</th>\n",
              "      <td>0.002126</td>\n",
              "      <td>0.002547</td>\n",
              "      <td>0.005505</td>\n",
              "      <td>0.002370</td>\n",
              "      <td>0.003094</td>\n",
              "      <td>0.005055</td>\n",
              "      <td>0.057873</td>\n",
              "      <td>0.083204</td>\n",
              "      <td>0.145209</td>\n",
              "      <td>0.001792</td>\n",
              "      <td>0.001754</td>\n",
              "      <td>0.002839</td>\n",
              "      <td>0.001957</td>\n",
              "      <td>0.006026</td>\n",
              "      <td>0.004011</td>\n",
              "      <td>0.008440</td>\n",
              "      <td>0.007329</td>\n",
              "      <td>0.011410</td>\n",
              "    </tr>\n",
              "    <tr>\n",
              "      <th rowspan=\"3\" valign=\"top\">동남권</th>\n",
              "      <th>농산품</th>\n",
              "      <td>0.006091</td>\n",
              "      <td>0.001588</td>\n",
              "      <td>0.001364</td>\n",
              "      <td>0.004183</td>\n",
              "      <td>0.002947</td>\n",
              "      <td>0.001191</td>\n",
              "      <td>0.002577</td>\n",
              "      <td>0.002571</td>\n",
              "      <td>0.000905</td>\n",
              "      <td>0.039346</td>\n",
              "      <td>0.009726</td>\n",
              "      <td>0.004344</td>\n",
              "      <td>0.004904</td>\n",
              "      <td>0.017335</td>\n",
              "      <td>0.002224</td>\n",
              "      <td>0.004128</td>\n",
              "      <td>0.004451</td>\n",
              "      <td>0.000584</td>\n",
              "    </tr>\n",
              "    <tr>\n",
              "      <th>공산품</th>\n",
              "      <td>0.028485</td>\n",
              "      <td>0.071251</td>\n",
              "      <td>0.029922</td>\n",
              "      <td>0.029812</td>\n",
              "      <td>0.069807</td>\n",
              "      <td>0.031364</td>\n",
              "      <td>0.037594</td>\n",
              "      <td>0.070305</td>\n",
              "      <td>0.031398</td>\n",
              "      <td>0.158999</td>\n",
              "      <td>0.247327</td>\n",
              "      <td>0.083504</td>\n",
              "      <td>0.040028</td>\n",
              "      <td>0.067720</td>\n",
              "      <td>0.030941</td>\n",
              "      <td>0.071468</td>\n",
              "      <td>0.064502</td>\n",
              "      <td>0.039088</td>\n",
              "    </tr>\n",
              "    <tr>\n",
              "      <th>서비스</th>\n",
              "      <td>0.004469</td>\n",
              "      <td>0.005242</td>\n",
              "      <td>0.010242</td>\n",
              "      <td>0.004823</td>\n",
              "      <td>0.006029</td>\n",
              "      <td>0.007883</td>\n",
              "      <td>0.004408</td>\n",
              "      <td>0.006526</td>\n",
              "      <td>0.008154</td>\n",
              "      <td>0.085572</td>\n",
              "      <td>0.091719</td>\n",
              "      <td>0.161461</td>\n",
              "      <td>0.004215</td>\n",
              "      <td>0.015697</td>\n",
              "      <td>0.008059</td>\n",
              "      <td>0.007552</td>\n",
              "      <td>0.008821</td>\n",
              "      <td>0.012467</td>\n",
              "    </tr>\n",
              "    <tr>\n",
              "      <th rowspan=\"3\" valign=\"top\">강원권</th>\n",
              "      <th>농산품</th>\n",
              "      <td>0.003314</td>\n",
              "      <td>0.000744</td>\n",
              "      <td>0.000372</td>\n",
              "      <td>0.001822</td>\n",
              "      <td>0.001279</td>\n",
              "      <td>0.000299</td>\n",
              "      <td>0.000754</td>\n",
              "      <td>0.000281</td>\n",
              "      <td>0.000221</td>\n",
              "      <td>0.001580</td>\n",
              "      <td>0.000296</td>\n",
              "      <td>0.000325</td>\n",
              "      <td>0.032538</td>\n",
              "      <td>0.044738</td>\n",
              "      <td>0.001923</td>\n",
              "      <td>0.004019</td>\n",
              "      <td>0.014003</td>\n",
              "      <td>0.000515</td>\n",
              "    </tr>\n",
              "    <tr>\n",
              "      <th>공산품</th>\n",
              "      <td>0.002941</td>\n",
              "      <td>0.002824</td>\n",
              "      <td>0.001995</td>\n",
              "      <td>0.001357</td>\n",
              "      <td>0.003594</td>\n",
              "      <td>0.002156</td>\n",
              "      <td>0.000910</td>\n",
              "      <td>0.003410</td>\n",
              "      <td>0.001049</td>\n",
              "      <td>0.001844</td>\n",
              "      <td>0.002582</td>\n",
              "      <td>0.001688</td>\n",
              "      <td>0.055238</td>\n",
              "      <td>0.090269</td>\n",
              "      <td>0.034156</td>\n",
              "      <td>0.003332</td>\n",
              "      <td>0.030508</td>\n",
              "      <td>0.001894</td>\n",
              "    </tr>\n",
              "    <tr>\n",
              "      <th>서비스</th>\n",
              "      <td>0.000838</td>\n",
              "      <td>0.000917</td>\n",
              "      <td>0.002532</td>\n",
              "      <td>0.000668</td>\n",
              "      <td>0.000813</td>\n",
              "      <td>0.001792</td>\n",
              "      <td>0.000386</td>\n",
              "      <td>0.000368</td>\n",
              "      <td>0.000889</td>\n",
              "      <td>0.000797</td>\n",
              "      <td>0.000558</td>\n",
              "      <td>0.001159</td>\n",
              "      <td>0.050341</td>\n",
              "      <td>0.095602</td>\n",
              "      <td>0.125159</td>\n",
              "      <td>0.000577</td>\n",
              "      <td>0.000493</td>\n",
              "      <td>0.001497</td>\n",
              "    </tr>\n",
              "    <tr>\n",
              "      <th rowspan=\"3\" valign=\"top\">제주권</th>\n",
              "      <th>농산품</th>\n",
              "      <td>0.000926</td>\n",
              "      <td>0.000324</td>\n",
              "      <td>0.000346</td>\n",
              "      <td>0.000417</td>\n",
              "      <td>0.000315</td>\n",
              "      <td>0.000302</td>\n",
              "      <td>0.000318</td>\n",
              "      <td>0.000522</td>\n",
              "      <td>0.000275</td>\n",
              "      <td>0.000568</td>\n",
              "      <td>0.000184</td>\n",
              "      <td>0.000288</td>\n",
              "      <td>0.000592</td>\n",
              "      <td>0.001950</td>\n",
              "      <td>0.000318</td>\n",
              "      <td>0.024076</td>\n",
              "      <td>0.098612</td>\n",
              "      <td>0.005893</td>\n",
              "    </tr>\n",
              "    <tr>\n",
              "      <th>공산품</th>\n",
              "      <td>0.001980</td>\n",
              "      <td>0.000209</td>\n",
              "      <td>0.000280</td>\n",
              "      <td>0.000670</td>\n",
              "      <td>0.000118</td>\n",
              "      <td>0.000120</td>\n",
              "      <td>0.000239</td>\n",
              "      <td>0.000191</td>\n",
              "      <td>0.000320</td>\n",
              "      <td>0.000890</td>\n",
              "      <td>0.000107</td>\n",
              "      <td>0.000196</td>\n",
              "      <td>0.000647</td>\n",
              "      <td>0.000271</td>\n",
              "      <td>0.000235</td>\n",
              "      <td>0.043962</td>\n",
              "      <td>0.056585</td>\n",
              "      <td>0.029780</td>\n",
              "    </tr>\n",
              "    <tr>\n",
              "      <th>서비스</th>\n",
              "      <td>0.000521</td>\n",
              "      <td>0.000697</td>\n",
              "      <td>0.001815</td>\n",
              "      <td>0.000373</td>\n",
              "      <td>0.000505</td>\n",
              "      <td>0.000947</td>\n",
              "      <td>0.001256</td>\n",
              "      <td>0.001569</td>\n",
              "      <td>0.002730</td>\n",
              "      <td>0.000504</td>\n",
              "      <td>0.000460</td>\n",
              "      <td>0.000911</td>\n",
              "      <td>0.000280</td>\n",
              "      <td>0.000836</td>\n",
              "      <td>0.000785</td>\n",
              "      <td>0.075891</td>\n",
              "      <td>0.111970</td>\n",
              "      <td>0.135695</td>\n",
              "    </tr>\n",
              "  </tbody>\n",
              "</table>\n",
              "</div>\n",
              "      <button class=\"colab-df-convert\" onclick=\"convertToInteractive('df-712aba65-da2b-4bef-a3f2-7138069baca9')\"\n",
              "              title=\"Convert this dataframe to an interactive table.\"\n",
              "              style=\"display:none;\">\n",
              "        \n",
              "  <svg xmlns=\"http://www.w3.org/2000/svg\" height=\"24px\"viewBox=\"0 0 24 24\"\n",
              "       width=\"24px\">\n",
              "    <path d=\"M0 0h24v24H0V0z\" fill=\"none\"/>\n",
              "    <path d=\"M18.56 5.44l.94 2.06.94-2.06 2.06-.94-2.06-.94-.94-2.06-.94 2.06-2.06.94zm-11 1L8.5 8.5l.94-2.06 2.06-.94-2.06-.94L8.5 2.5l-.94 2.06-2.06.94zm10 10l.94 2.06.94-2.06 2.06-.94-2.06-.94-.94-2.06-.94 2.06-2.06.94z\"/><path d=\"M17.41 7.96l-1.37-1.37c-.4-.4-.92-.59-1.43-.59-.52 0-1.04.2-1.43.59L10.3 9.45l-7.72 7.72c-.78.78-.78 2.05 0 2.83L4 21.41c.39.39.9.59 1.41.59.51 0 1.02-.2 1.41-.59l7.78-7.78 2.81-2.81c.8-.78.8-2.07 0-2.86zM5.41 20L4 18.59l7.72-7.72 1.47 1.35L5.41 20z\"/>\n",
              "  </svg>\n",
              "      </button>\n",
              "      \n",
              "  <style>\n",
              "    .colab-df-container {\n",
              "      display:flex;\n",
              "      flex-wrap:wrap;\n",
              "      gap: 12px;\n",
              "    }\n",
              "\n",
              "    .colab-df-convert {\n",
              "      background-color: #E8F0FE;\n",
              "      border: none;\n",
              "      border-radius: 50%;\n",
              "      cursor: pointer;\n",
              "      display: none;\n",
              "      fill: #1967D2;\n",
              "      height: 32px;\n",
              "      padding: 0 0 0 0;\n",
              "      width: 32px;\n",
              "    }\n",
              "\n",
              "    .colab-df-convert:hover {\n",
              "      background-color: #E2EBFA;\n",
              "      box-shadow: 0px 1px 2px rgba(60, 64, 67, 0.3), 0px 1px 3px 1px rgba(60, 64, 67, 0.15);\n",
              "      fill: #174EA6;\n",
              "    }\n",
              "\n",
              "    [theme=dark] .colab-df-convert {\n",
              "      background-color: #3B4455;\n",
              "      fill: #D2E3FC;\n",
              "    }\n",
              "\n",
              "    [theme=dark] .colab-df-convert:hover {\n",
              "      background-color: #434B5C;\n",
              "      box-shadow: 0px 1px 3px 1px rgba(0, 0, 0, 0.15);\n",
              "      filter: drop-shadow(0px 1px 2px rgba(0, 0, 0, 0.3));\n",
              "      fill: #FFFFFF;\n",
              "    }\n",
              "  </style>\n",
              "\n",
              "      <script>\n",
              "        const buttonEl =\n",
              "          document.querySelector('#df-712aba65-da2b-4bef-a3f2-7138069baca9 button.colab-df-convert');\n",
              "        buttonEl.style.display =\n",
              "          google.colab.kernel.accessAllowed ? 'block' : 'none';\n",
              "\n",
              "        async function convertToInteractive(key) {\n",
              "          const element = document.querySelector('#df-712aba65-da2b-4bef-a3f2-7138069baca9');\n",
              "          const dataTable =\n",
              "            await google.colab.kernel.invokeFunction('convertToInteractive',\n",
              "                                                     [key], {});\n",
              "          if (!dataTable) return;\n",
              "\n",
              "          const docLinkHtml = 'Like what you see? Visit the ' +\n",
              "            '<a target=\"_blank\" href=https://colab.research.google.com/notebooks/data_table.ipynb>data table notebook</a>'\n",
              "            + ' to learn more about interactive tables.';\n",
              "          element.innerHTML = '';\n",
              "          dataTable['output_type'] = 'display_data';\n",
              "          await google.colab.output.renderOutput(dataTable, element);\n",
              "          const docLink = document.createElement('div');\n",
              "          docLink.innerHTML = docLinkHtml;\n",
              "          element.appendChild(docLink);\n",
              "        }\n",
              "      </script>\n",
              "    </div>\n",
              "  </div>\n",
              "  "
            ]
          },
          "metadata": {},
          "execution_count": 259
        }
      ]
    },
    {
      "cell_type": "markdown",
      "source": [
        "##### 생산유발계수(Lf)"
      ],
      "metadata": {
        "id": "V0nnZSeHUPn8"
      }
    },
    {
      "cell_type": "code",
      "source": [
        "Lf = np.linalg.inv(np.identity(18)-Ad)    # 생산유발계수\n",
        "Lf_sm_cl = np.hstack((Lf, Lf.sum(axis=1).reshape([18,1]))) # 생산유발계수 열합\n",
        "Lf_sm_rw = np.vstack((Lf_sm_cl,Lf_sm_cl.sum(axis=0))) # 생산유발계수 행합"
      ],
      "metadata": {
        "id": "SF7hebVoQi2M"
      },
      "execution_count": 267,
      "outputs": []
    },
    {
      "cell_type": "code",
      "source": [
        "Lf_df = pd.DataFrame(Lf, columns = [['수도권', '수도권', '수도권', '충청권', '충청권', '충청권','서남권', '서남권', '서남권', '동남권', '동남권', '동남권',\n",
        "                                       '강원권', '강원권', '강원권', '제주권', '제주권', '제주권'],\n",
        "\n",
        "                                      ['농산품', '공산품', '서비스', '농산품', '공산품', '서비스','농산품', '공산품', '서비스', '농산품', '공산품', '서비스',\n",
        "                                        '농산품', '공산품', '서비스', '농산품', '공산품', '서비스']],\n",
        "\n",
        "                                    index=[['수도권', '수도권', '수도권', '충청권', '충청권', '충청권','서남권', '서남권', '서남권', '동남권', '동남권', '동남권',\n",
        "                                            '강원권', '강원권', '강원권', '제주권', '제주권', '제주권'],\n",
        "\n",
        "                                           ['농산품', '공산품', '서비스', '농산품', '공산품', '서비스','농산품', '공산품', '서비스', '농산품', '공산품', '서비스',\n",
        "                                            '농산품', '공산품', '서비스', '농산품', '공산품', '서비스']])\n",
        "Ad_df.index.names=['지역', '상품']\n",
        "Ad_df  #pandas로 내보내기"
      ],
      "metadata": {
        "id": "YT9SwuJnQi8T",
        "outputId": "b58c40b5-7e56-4a55-aedc-aa8f8394b6c5",
        "colab": {
          "base_uri": "https://localhost:8080/",
          "height": 327
        }
      },
      "execution_count": 249,
      "outputs": [
        {
          "output_type": "error",
          "ename": "ValueError",
          "evalue": "ignored",
          "traceback": [
            "\u001b[0;31m---------------------------------------------------------------------------\u001b[0m",
            "\u001b[0;31mValueError\u001b[0m                                Traceback (most recent call last)",
            "\u001b[0;32m<ipython-input-249-28f7f15943d9>\u001b[0m in \u001b[0;36m<cell line: 1>\u001b[0;34m()\u001b[0m\n\u001b[0;32m----> 1\u001b[0;31m \u001b[0mdf_Lf\u001b[0m \u001b[0;34m=\u001b[0m \u001b[0mpd\u001b[0m\u001b[0;34m.\u001b[0m\u001b[0mDataFrame\u001b[0m\u001b[0;34m(\u001b[0m\u001b[0mLf\u001b[0m\u001b[0;34m.\u001b[0m\u001b[0mround\u001b[0m\u001b[0;34m(\u001b[0m\u001b[0;36m3\u001b[0m\u001b[0;34m)\u001b[0m\u001b[0;34m,\u001b[0m\u001b[0mcolumns\u001b[0m \u001b[0;34m=\u001b[0m \u001b[0;34m[\u001b[0m\u001b[0;34m'농산품'\u001b[0m\u001b[0;34m,\u001b[0m \u001b[0;34m'공산품'\u001b[0m\u001b[0;34m,\u001b[0m \u001b[0;34m'서비스'\u001b[0m\u001b[0;34m]\u001b[0m\u001b[0;34m,\u001b[0m \u001b[0mindex\u001b[0m\u001b[0;34m=\u001b[0m\u001b[0;34m[\u001b[0m\u001b[0;34m'농산품'\u001b[0m\u001b[0;34m,\u001b[0m \u001b[0;34m'공산품'\u001b[0m\u001b[0;34m,\u001b[0m \u001b[0;34m'서비스'\u001b[0m\u001b[0;34m]\u001b[0m\u001b[0;34m)\u001b[0m  \u001b[0;31m#pandas로 내보내기\u001b[0m\u001b[0;34m\u001b[0m\u001b[0;34m\u001b[0m\u001b[0m\n\u001b[0m",
            "\u001b[0;32m/usr/local/lib/python3.10/dist-packages/pandas/core/frame.py\u001b[0m in \u001b[0;36m__init__\u001b[0;34m(self, data, index, columns, dtype, copy)\u001b[0m\n\u001b[1;32m    720\u001b[0m                 )\n\u001b[1;32m    721\u001b[0m             \u001b[0;32melse\u001b[0m\u001b[0;34m:\u001b[0m\u001b[0;34m\u001b[0m\u001b[0;34m\u001b[0m\u001b[0m\n\u001b[0;32m--> 722\u001b[0;31m                 mgr = ndarray_to_mgr(\n\u001b[0m\u001b[1;32m    723\u001b[0m                     \u001b[0mdata\u001b[0m\u001b[0;34m,\u001b[0m\u001b[0;34m\u001b[0m\u001b[0;34m\u001b[0m\u001b[0m\n\u001b[1;32m    724\u001b[0m                     \u001b[0mindex\u001b[0m\u001b[0;34m,\u001b[0m\u001b[0;34m\u001b[0m\u001b[0;34m\u001b[0m\u001b[0m\n",
            "\u001b[0;32m/usr/local/lib/python3.10/dist-packages/pandas/core/internals/construction.py\u001b[0m in \u001b[0;36mndarray_to_mgr\u001b[0;34m(values, index, columns, dtype, copy, typ)\u001b[0m\n\u001b[1;32m    347\u001b[0m     )\n\u001b[1;32m    348\u001b[0m \u001b[0;34m\u001b[0m\u001b[0m\n\u001b[0;32m--> 349\u001b[0;31m     \u001b[0m_check_values_indices_shape_match\u001b[0m\u001b[0;34m(\u001b[0m\u001b[0mvalues\u001b[0m\u001b[0;34m,\u001b[0m \u001b[0mindex\u001b[0m\u001b[0;34m,\u001b[0m \u001b[0mcolumns\u001b[0m\u001b[0;34m)\u001b[0m\u001b[0;34m\u001b[0m\u001b[0;34m\u001b[0m\u001b[0m\n\u001b[0m\u001b[1;32m    350\u001b[0m \u001b[0;34m\u001b[0m\u001b[0m\n\u001b[1;32m    351\u001b[0m     \u001b[0;32mif\u001b[0m \u001b[0mtyp\u001b[0m \u001b[0;34m==\u001b[0m \u001b[0;34m\"array\"\u001b[0m\u001b[0;34m:\u001b[0m\u001b[0;34m\u001b[0m\u001b[0;34m\u001b[0m\u001b[0m\n",
            "\u001b[0;32m/usr/local/lib/python3.10/dist-packages/pandas/core/internals/construction.py\u001b[0m in \u001b[0;36m_check_values_indices_shape_match\u001b[0;34m(values, index, columns)\u001b[0m\n\u001b[1;32m    418\u001b[0m         \u001b[0mpassed\u001b[0m \u001b[0;34m=\u001b[0m \u001b[0mvalues\u001b[0m\u001b[0;34m.\u001b[0m\u001b[0mshape\u001b[0m\u001b[0;34m\u001b[0m\u001b[0;34m\u001b[0m\u001b[0m\n\u001b[1;32m    419\u001b[0m         \u001b[0mimplied\u001b[0m \u001b[0;34m=\u001b[0m \u001b[0;34m(\u001b[0m\u001b[0mlen\u001b[0m\u001b[0;34m(\u001b[0m\u001b[0mindex\u001b[0m\u001b[0;34m)\u001b[0m\u001b[0;34m,\u001b[0m \u001b[0mlen\u001b[0m\u001b[0;34m(\u001b[0m\u001b[0mcolumns\u001b[0m\u001b[0;34m)\u001b[0m\u001b[0;34m)\u001b[0m\u001b[0;34m\u001b[0m\u001b[0;34m\u001b[0m\u001b[0m\n\u001b[0;32m--> 420\u001b[0;31m         \u001b[0;32mraise\u001b[0m \u001b[0mValueError\u001b[0m\u001b[0;34m(\u001b[0m\u001b[0;34mf\"Shape of passed values is {passed}, indices imply {implied}\"\u001b[0m\u001b[0;34m)\u001b[0m\u001b[0;34m\u001b[0m\u001b[0;34m\u001b[0m\u001b[0m\n\u001b[0m\u001b[1;32m    421\u001b[0m \u001b[0;34m\u001b[0m\u001b[0m\n\u001b[1;32m    422\u001b[0m \u001b[0;34m\u001b[0m\u001b[0m\n",
            "\u001b[0;31mValueError\u001b[0m: Shape of passed values is (18, 18), indices imply (3, 3)"
          ]
        }
      ]
    },
    {
      "cell_type": "markdown",
      "source": [
        "#### 부가가치유발계수(Lv)"
      ],
      "metadata": {
        "id": "DkU6os7vUW-0"
      }
    },
    {
      "cell_type": "code",
      "source": [
        "Va_r = Tt_1[-2,0:3]/ct # 부가가치율\n",
        "Va_r"
      ],
      "metadata": {
        "id": "KfbCR-LdQjCF"
      },
      "execution_count": null,
      "outputs": []
    },
    {
      "cell_type": "code",
      "source": [
        "Va_m = np.diag(Va_r)  # 부가가치율 대각행렬\n",
        "Va_m"
      ],
      "metadata": {
        "id": "7dkxNSQCQjJF"
      },
      "execution_count": null,
      "outputs": []
    },
    {
      "cell_type": "code",
      "source": [
        "Lv = Va_m@Lf  #부가가치유발계수\n",
        "Lv"
      ],
      "metadata": {
        "id": "DF_G_Hn09gRy"
      },
      "execution_count": null,
      "outputs": []
    },
    {
      "cell_type": "code",
      "source": [
        "df_Lv = pd.DataFrame(Lv.round(3),columns = ['농산품', '공산품', '서비스'], index=['농산품', '공산품', '서비스'])  # pandas로 내보내기"
      ],
      "metadata": {
        "id": "Od3StAXA86sf"
      },
      "execution_count": null,
      "outputs": []
    },
    {
      "cell_type": "markdown",
      "source": [
        "#### 수입유발계수"
      ],
      "metadata": {
        "id": "G-NYB11hVLEO"
      }
    },
    {
      "cell_type": "code",
      "source": [
        "Ai = Im_1[0:3,0:3]/ct_m\n",
        "\n",
        "print('수입투입계수표 : \\n', Ai)\n",
        "\n",
        "df_Ai = pd.DataFrame(Ai.round(3))  #pandas로 내보내기"
      ],
      "metadata": {
        "id": "IRm-HtOf9KVx"
      },
      "execution_count": null,
      "outputs": []
    },
    {
      "cell_type": "code",
      "source": [
        "Li = Ai@Lf  #수입유발계수\n",
        "Li"
      ],
      "metadata": {
        "id": "_8fZBBSX9kld"
      },
      "execution_count": null,
      "outputs": []
    },
    {
      "cell_type": "code",
      "source": [
        "df_Li = pd.DataFrame(Li.round(3),columns = ['농산품', '공산품', '서비스'], index=['농산품', '공산품', '서비스'])  #pandas로 내보내기"
      ],
      "metadata": {
        "id": "qxP0BGTe-J6J"
      },
      "execution_count": null,
      "outputs": []
    },
    {
      "cell_type": "markdown",
      "source": [],
      "metadata": {
        "id": "rDsqvOxBbB5w"
      }
    },
    {
      "cell_type": "code",
      "source": [
        "# CSV파일로 결과 내보내기\n",
        "df_At.to_csv('총투입계수.csv', encoding='utf_8-sig')\n",
        "df_Ad.to_csv('국산투입계수.csv', encoding='utf_8-sig')\n",
        "df_Ai.to_csv('수입투입계수.csv', encoding='utf_8-sig')\n",
        "\n",
        "df_Lf.to_csv('생산유발계수.csv', encoding='utf_8-sig')\n",
        "df_Lv.to_csv('부가가치유발계수.csv', encoding='utf_8-sig')\n",
        "df_Li.to_csv('수입유발계수.csv', encoding='utf_8-sig')"
      ],
      "metadata": {
        "id": "Var3WdHW-NdY"
      },
      "execution_count": null,
      "outputs": []
    },
    {
      "cell_type": "markdown",
      "source": [
        "### 최종수요 항목별 유발효과"
      ],
      "metadata": {
        "id": "6zhSQgh83SmB"
      }
    },
    {
      "cell_type": "markdown",
      "source": [
        "##### 생산유발효과"
      ],
      "metadata": {
        "id": "P8-fs47q3WzF"
      }
    },
    {
      "cell_type": "code",
      "source": [
        "Yd = Dt[0:3,5:8]  # 국산최종수요...소비, 투자, 수출\n",
        "Yi = It[0:3,5:8]  # 수입최종수요...소비, 투자, 수출\n",
        "print('국산최종수요 : \\n', Yd)\n",
        "print('수입최종수요 : \\n', Yi)"
      ],
      "metadata": {
        "id": "aZ0NQ51_-OTA"
      },
      "execution_count": null,
      "outputs": []
    },
    {
      "cell_type": "code",
      "source": [
        "Lfyd = (Lf@Yd).astype(float).reshape([3,3])   # 데이터타입을 float으로 지정하고 3x3행렬로 지정\n",
        "Lvyd = (Lv@Yd).astype(float).reshape([3,3])   # 데이터타입을 float으로 지정하고 3x3행렬로 지정\n",
        "Liyd = (Li@Yd).astype(float).reshape([3,3]) + Yi.astype(float).reshape([3,3]) # 데이터타입을 float으로 지정하고 3x3행렬로 지정\n",
        "\n",
        "print('최종수요항목별 생산유발계수 : \\n', Lfyd)\n",
        "print('최종수요항목별 부가가치유발계수 : \\n', Lvyd)\n",
        "print('최종수요항목별 수입유발계수 : \\n', Liyd)\n"
      ],
      "metadata": {
        "id": "vI4pjfvx-WU_"
      },
      "execution_count": null,
      "outputs": []
    },
    {
      "cell_type": "code",
      "source": [
        "##### 최종수요항목별 유발계수 검증...최종수요항목별 생산유발계수=산출액, 최종수요항목별 부가가치유발계수=부가가치, 최종수요항목별 수입유발계수=수입 이 성립하여야 함"
      ],
      "metadata": {
        "id": "2i4MUlDg5HPP"
      },
      "execution_count": null,
      "outputs": []
    },
    {
      "cell_type": "code",
      "source": [
        "Lfyd_sm = Lfyd.sum(axis=1).astype(float).reshape([3,1])\n",
        "Lvyd_sm = Lvyd.sum(axis=1).astype(float).reshape([3,1])\n",
        "Liyd_sm = Liyd.sum(axis=1).astype(float).reshape([3,1])\n",
        "\n",
        "print('최종수요항목별 생산유발계수의 열합 : \\n', Lfyd_sm)\n",
        "print('최종수요항목별 부가가치유발의 열합 : \\n', Lvyd_sm)\n",
        "print('최종수요항목별 수입유발계의 열합 : \\n', Liyd_sm)"
      ],
      "metadata": {
        "id": "kJH9hmlC5HUr"
      },
      "execution_count": null,
      "outputs": []
    },
    {
      "cell_type": "markdown",
      "source": [
        "###### 최종수요항목별 생산, 부가가치 및 수입유발계수"
      ],
      "metadata": {
        "id": "lIoPBD-Fae1A"
      }
    },
    {
      "cell_type": "code",
      "source": [
        "Yd_rw_sm =Yd.sum(axis=0)  #국산최종수요항목별(소비, 투자, 수출) 행합\n",
        "Yi_rw_sm =Yi.sum(axis=0)  #수입최종수요항목별(소비, 투자, 수출) 행합\n",
        "\n",
        "Lfyd_rw_sm = Lfyd.sum(axis=0) # 최종수요항목별(소비, 투자, 수출) 생산유발계수 행합\n",
        "Lvyd_rw_sm = Lvyd.sum(axis=0) # 최종수요항목별(소비, 투자, 수출) 부가가치유발계수 행합\n",
        "Liyd_rw_sm = Liyd.sum(axis=0) # 최종수요항목별(소비, 투자, 수출) 수입유발계수 행합\n",
        "\n",
        "print('최종수요항목별 행합 : \\n', Yd_rw_sm)\n",
        "print('최종수요항목별 생산유발계수 행합 : \\n', Lfyd_rw_sm)\n",
        "print('최종수요항목별 부가가치유발계수 행합 : \\n', Lvyd_rw_sm)\n",
        "print('최종수요항목별 수입유발계수 행합: \\n', Liyd_rw_sm)"
      ],
      "metadata": {
        "id": "6XUSbGUyanOq"
      },
      "execution_count": null,
      "outputs": []
    },
    {
      "cell_type": "markdown",
      "source": [
        "##### 최종수요항목별(소비, 투자, 수출) 유발계수"
      ],
      "metadata": {
        "id": "_hjFJ_N0dggV"
      }
    },
    {
      "cell_type": "code",
      "source": [
        "Lfyd_coef =(Lfyd_rw_sm/Yd_rw_sm).astype(float).reshape([1,3]) #최종수요항목별(소비, 투자, 수출) 생산유발계수\n",
        "Lvyd_coef =(Lvyd_rw_sm/Yd_rw_sm).astype(float).reshape([1,3]) #최종수요항목별(소비, 투자, 수출) 생산유발계수\n",
        "Liyd_coef =(Liyd_rw_sm/(Yd_rw_sm+Yi_rw_sm)).astype(float).reshape([1,3]) #최종수요항목별(소비, 투자, 수출) 생산유발계수\n",
        "\n",
        "print('최종수요항목별(소비, 투자, 수출) 생산유발계수 행합 : \\n', Lfyd_coef)\n",
        "print('최종수요항목별(소비, 투자, 수출) 부가가치유발계수 행합 : \\n', Lvyd_coef)\n",
        "print('최종수요항목별(소비, 투자, 수출) 수입유발계수 행합: \\n', Liyd_coef)"
      ],
      "metadata": {
        "id": "MmV_4BB-anZi"
      },
      "execution_count": null,
      "outputs": []
    },
    {
      "cell_type": "markdown",
      "source": [
        "###### 영향력계수(후방연쇄효과) 및 감응도계수(전방연쇄효과)"
      ],
      "metadata": {
        "id": "Kr23Ly0AhpVR"
      }
    },
    {
      "cell_type": "code",
      "source": [
        "Lf_rw_sm = Lf.sum(axis=0)  # 생산유발계수 행합\n",
        "Lf_cl_sm = Lf.sum(axis=1)  # 생산유발계수 행합\n",
        "\n",
        "Lf_bwd = (Lf.sum(axis=0)/Lf_rw_sm.mean()).astype(float).reshape([1,3])  #영향력 계수\n",
        "Lf_fwd = (Lf.sum(axis=1)/Lf_cl_sm.mean()).astype(float).reshape([1,3])  #감응도 계수\n",
        "\n",
        "print('품목별 영향력계수 : \\n', Lf_bwd)\n",
        "print('품목별 감음도계수: \\n', Lf_fwd)"
      ],
      "metadata": {
        "id": "DxnO-URDanip"
      },
      "execution_count": null,
      "outputs": []
    },
    {
      "cell_type": "code",
      "source": [
        "# pandas로 변환기\n",
        "\n",
        "df_Lfyd =pd.DataFrame(Lfyd.round(1),columns = ['농산품', '공산품', '서비스'], index=['소비', '투자', '수출'])  #pandas로 내보내기\n",
        "df_Lvyd =pd.DataFrame(Lvyd.round(1),columns = ['농산품', '공산품', '서비스'], index=['소비', '투자', '수출'])\n",
        "df_Liyd =pd.DataFrame(Liyd.round(1),columns = ['농산품', '공산품', '서비스'], index=['소비', '투자', '수출'])\n",
        "\n",
        "df_Lfyd_coef = pd.DataFrame(Lfyd_coef.round(3),columns = ['농산품', '공산품', '서비스'], index=['항목별 생산유발계수'])\n",
        "df_Lvyd_coef = pd.DataFrame(Lvyd_coef.round(3),columns = ['농산품', '공산품', '서비스'], index=['항목별 부가가치유발계수'])\n",
        "df_Liyd_coef = pd.DataFrame(Liyd_coef.round(3),columns = ['농산품', '공산품', '서비스'], index=['항목별 수입유발계수'])\n",
        "\n",
        "df_Lf_bwd = pd.DataFrame(Lf_bwd.round(3), columns = ['농산품', '공산품', '서비스'], index=['영향력계수'])\n",
        "df_Lf_fwd = pd.DataFrame(Lf_fwd.round(3), columns = ['농산품', '공산품', '서비스'], index=['영향력계수'])\n",
        "\n",
        "print(df_Lfyd)\n",
        "print(df_Lvyd)\n",
        "print(df_Liyd)\n",
        "\n",
        "print(df_Lfyd_coef)\n",
        "print(df_Lvyd_coef)\n",
        "print(df_Liyd_coef)\n",
        "\n",
        "print(df_Lf_bwd)\n",
        "print(df_Lf_fwd)"
      ],
      "metadata": {
        "id": "Uy-18-Rxanp2"
      },
      "execution_count": null,
      "outputs": []
    },
    {
      "cell_type": "code",
      "source": [
        "# csv 파일로 내보내기\n",
        "df_Lfyd.to_csv('최종수요항목별 생산유발액.csv', encoding='utf_8-sig')\n",
        "df_Lvyd.to_csv('최종수요항목별 부가가치유발액.csv', encoding='utf_8-sig')\n",
        "df_Liyd.to_csv('최종수요항목별 수입유발액.csv', encoding='utf_8-sig')\n",
        "\n",
        "df_Lfyd_coef.to_csv('최종수요항목별 생산유발계수.csv', encoding='utf_8-sig')\n",
        "df_Lvyd_coef.to_csv('최종수요항목별 부가가치유발계수.csv', encoding='utf_8-sig')\n",
        "df_Liyd_coef.to_csv('최종수요항목별 수입유발계수.csv', encoding='utf_8-sig')\n",
        "\n",
        "df_Lf_bwd.to_csv('영향력계수.csv', encoding='utf_8-sig')\n",
        "df_Lf_bwd.to_csv('감응도계수.csv', encoding='utf_8-sig')"
      ],
      "metadata": {
        "id": "Dk8oBy3oanwg"
      },
      "execution_count": null,
      "outputs": []
    },
    {
      "cell_type": "code",
      "source": [],
      "metadata": {
        "id": "G-mJLG0can6J"
      },
      "execution_count": null,
      "outputs": []
    },
    {
      "cell_type": "code",
      "source": [],
      "metadata": {
        "id": "OcdzFts-aoCe"
      },
      "execution_count": null,
      "outputs": []
    },
    {
      "cell_type": "code",
      "source": [
        "#pandas로 내보내기\n",
        "\n",
        "# df_Lfyd = pd.DataFrame(Lfyd.round(3),columns = ['농산품', '공산품', '서비스'], index=['농산품', '공산품', '서비스'])\n",
        "# df_Lvyd = pd.DataFrame(Lvyd.round(3),columns = ['농산품', '공산품', '서비스'], index=['농산품', '공산품', '서비스'])\n",
        "# df_Liyd = pd.DataFrame(Liyd.round(3),columns = ['농산품', '공산품', '서비스'], index=['농산품', '공산품', '서비스'])\n"
      ],
      "metadata": {
        "id": "IrTVIJP06hir"
      },
      "execution_count": null,
      "outputs": []
    },
    {
      "cell_type": "code",
      "source": [
        "# # csv 파일로 내보내기\n",
        "\n",
        "# df_Lfyd.to_csv('최종수요항목별_생산유발.csv')\n",
        "# df_Lvyd.to_csv('최종수요항목별_부가가치유발.csv')\n",
        "# df_Liyd.to_csv('최종수요항목별_수입유발.csv')"
      ],
      "metadata": {
        "id": "aBWNCPV-_T6J"
      },
      "execution_count": null,
      "outputs": []
    },
    {
      "cell_type": "markdown",
      "source": [
        "### 물가파급효과 분석\n",
        "\n",
        "\n",
        "##### - 투입계수의 전치행렬을 이용하여 생산유발계수(Lf)을 이용하여 각종 물가파급효과 분석 가능"
      ],
      "metadata": {
        "id": "LrSLa3VTD5Nd"
      }
    },
    {
      "cell_type": "code",
      "source": [
        "At_trans = At.T  # 총투입계수의 전치행렬\n",
        "Ad_trans = Ad.T  # 국산투입계수의 전치행렬\n",
        "Ai_trans = Ai.T  # 국산투입계수의 전치행렬\n",
        "\n",
        "print('총투입계수의 전치행렬 : \\n', At_trans)\n",
        "print('국산투입계수의 전치행렬: \\n', Ad_trans)\n",
        "print('수입투입계수의 전치행렬: \\n', Ai_trans)\n",
        "\n",
        "Lf_trans = np.linalg.inv(np.identity(3)-Ad_trans)  # (I-Ad_trans)의 역행렬\n",
        "print('국산투입계수 전치행렬의 역행렬: \\n', Lf_trans)"
      ],
      "metadata": {
        "id": "QlwdX5oMD71E"
      },
      "execution_count": null,
      "outputs": []
    },
    {
      "cell_type": "markdown",
      "source": [],
      "metadata": {
        "id": "aBgrgkliI_uH"
      }
    },
    {
      "cell_type": "markdown",
      "source": [
        "#### 임금인상의 물가파급효과"
      ],
      "metadata": {
        "id": "VmIala71I_1M"
      }
    },
    {
      "cell_type": "code",
      "source": [
        "delta_all_w = np.array([10,10,10]).reshape([3,1]) # 모든 상품의 임금이 10% 상승\n",
        "delta_all_Pw = (Lf_trans@Va_m)@delta_all_w\n",
        "\n",
        "delta_par_w = np.array([0,10,0]).reshape([3,1]) # 공산품의 임금이 10% 상승\n",
        "delta_par_Pw = (Lf_trans@Va_m)@delta_par_w\n",
        "\n",
        "print('모든 상품의 임금이 10% 상승시 물가파급효과: \\n', delta_all_Pw)\n",
        "print('공산품의 임금이 10% 상승시 물가파급효과: \\n', delta_par_Pw)\n"
      ],
      "metadata": {
        "id": "hT30koHOD8WG"
      },
      "execution_count": null,
      "outputs": []
    },
    {
      "cell_type": "markdown",
      "source": [
        "#### 공산품 등 내생부분(중간투입품) 가격변동의 물가파급효과"
      ],
      "metadata": {
        "id": "lz8QJDXeZA_n"
      }
    },
    {
      "cell_type": "code",
      "source": [
        "#### 중간투입되는 공산품의 물가변동의 파급효과 분석\n",
        "\n",
        "Ad_exd_row = np.delete(Ad_trans,1,0).reshape([2,3])  # 공산품(sectors2) 행 삭제\n",
        "Ad_exd_manu = np.delete(Ad_exd_row,1,1).reshape([2,2])  # 공산품(sectors2) 열 삭제,,최종적으로 2x2 행렬\n",
        "print('물가변동이 발생한 부문을 제가한 국산투입계수 : \\n', Ad_exd_manu)\n",
        "\n",
        "A_Pr_sec2 = np.concatenate((Ad_trans[0,1].reshape([1,1]),Ad_trans[2,1].reshape([1,1])),axis=0).reshape([2,1])  # 물가가 변동하는 부문의 국산 투입계수(a21, a23)\n",
        "print('물가변동이 발생한 부문의 국산투입계수 : \\n', A_Pr_sec2)\n",
        "\n",
        "#공산품 물가 10% 상승시 파급효과\n",
        "\n",
        "delta_manu_Pw = Ad_exd_manu@A_Pr_sec2*10\n",
        "print('공산품 10% 상승시 다른 부문의 물가변동 : \\n', delta_manu_Pw)"
      ],
      "metadata": {
        "id": "MH8Zx-JXD8ZG"
      },
      "execution_count": null,
      "outputs": []
    },
    {
      "cell_type": "markdown",
      "source": [
        "#### 수입산품 가격변동의 물가파급효과\n"
      ],
      "metadata": {
        "id": "KGihX7EPGGt3"
      }
    },
    {
      "cell_type": "code",
      "source": [
        "Imp_Pw = np.array([10,0,0]).reshape([3,1]) # 수입농산물 10% 상승\n",
        "delta_imp_Pw =  ((Lf_trans @Ai_trans)@Imp_Pw).reshape([3,1])\n",
        "\n",
        "print('수입통산품 가격 10% 상승시 다른 부문의 물가변동 : \\n', delta_imp_Pw)"
      ],
      "metadata": {
        "id": "5p1nygTxZI38"
      },
      "execution_count": null,
      "outputs": []
    },
    {
      "cell_type": "code",
      "source": [
        "#pandas로 내보\n",
        "\n",
        "df_delta_all_Pw = pd.DataFrame(delta_all_Pw.round(3),columns = ['물가상승률'], index=['농산품', '공산품', '서비스'])  # 모든 부문의 임금 10% 상승\n",
        "df_delta_par_Pw = pd.DataFrame(delta_par_Pw.round(3),columns = ['물가상승률'], index=['농산품', '공산품', '서비스'])  # 공산품 부문의 임금 10% 상승\n",
        "df_delta_manu_Pw = pd.DataFrame(delta_manu_Pw.round(3),columns = ['물가상승률'], index=['농산품', '서비스'])        # 공산품 물가 10% 상승\n",
        "df_delta_imp_Pw = pd.DataFrame(delta_imp_Pw.round(3),columns = ['물가상승률'], index=['농산품', '공산품', '서비스'])   # 수입 농산품 물가 10% 상승"
      ],
      "metadata": {
        "id": "Njxfr_mbHtnA"
      },
      "execution_count": null,
      "outputs": []
    },
    {
      "cell_type": "code",
      "source": [
        "df_delta_all_Pw.to_csv('모든 부문 임금 10% 상승.csv')\n",
        "df_delta_par_Pw.to_csv('공산품 부문 임금 10% 상승.csv')\n",
        "df_delta_manu_Pw.to_csv('공산품 물가 10% 상승.csv')\n",
        "df_delta_imp_Pw.to_csv('수입 농산품 물가 10% 상승.csv')"
      ],
      "metadata": {
        "id": "Q0fXvrqKKjRH"
      },
      "execution_count": null,
      "outputs": []
    },
    {
      "cell_type": "markdown",
      "source": [
        "### 서비스 부문의 내생화"
      ],
      "metadata": {
        "id": "0T6xGJKLAhvD"
      }
    },
    {
      "cell_type": "code",
      "source": [
        "# 생산유발액\n",
        "\n",
        "Ad_ser_etr = Ad[0:2,0:2] # 서비스가 제거된 농산품과 공산품만 포함된 국산투입계수\n",
        "Lf_Ad_ser_etr = np.linalg.inv(np.identity(2)-Ad_ser_etr) # 역행렬(생산유발계수)\n",
        "print('농산품과 공산품으로 구성된 생산유발계수: \\n', Lf_Ad_ser_etr)\n",
        "\n",
        "Ad_ser =Ad[0:2,2].reshape([2,1])\n",
        "print('서비스의 국산투입계수(농산품과 공산품만 포함): \\n', Ad_ser)\n",
        "\n",
        "Mtp_ser = Lf_Ad_ser_etr@Ad_ser # 서비스 외생화의 효과를 계산하기 위한 멀티플라이어\n",
        "print('외생화 부문의 효과를 계산하기 위한 멀티플라이어: \\n', Mtp_ser)\n",
        "\n",
        "Amt_etr = Mtp_ser*244 # 서비스 총산출(총투자) 3,432,811의 각 산업 생산유발액\n",
        "print('유발액: \\n', Amt_etr)\n"
      ],
      "metadata": {
        "id": "ImapvnHSM3mu"
      },
      "execution_count": null,
      "outputs": []
    },
    {
      "cell_type": "code",
      "source": [
        "# 수입유발액\n",
        "Ai_ser_etr = Ai[0:2,0:2] # 서비스가 제거된 농산품과 공산품만 포함된 수입투입계수\n",
        "Ai_ser_dr = Ai[:,2].sum().reshape([1,1])\n",
        "\n",
        "Mtp_imp_indr = Ai_ser_etr@Mtp_ser  # 간접효과 멀티플라이어\n",
        "print('간접효과 멀티플라이어: \\n', Mtp_imp_indr)\n",
        "\n",
        "Amt_imp_indr = Mtp_imp_indr*244 # 간접효과\n",
        "Amt_imp_dr = Ai_ser_dr*244      # 직접효과\n",
        "Amt_imp_tot = Amt_imp_indr.sum() + Amt_imp_dr\n",
        "\n",
        "print('간접효과 : \\n', Amt_imp_indr)\n",
        "print('직접효과 : \\n', Amt_imp_dr)\n",
        "print('총효과 : \\n', Amt_imp_tot)\n"
      ],
      "metadata": {
        "id": "lKcch7NXAyaQ"
      },
      "execution_count": null,
      "outputs": []
    },
    {
      "cell_type": "code",
      "source": [
        "# 부가가치유발액\n",
        "Av_ser_etr = Va_m[0:2,0:2] # 서비스가 제거된 농산품과 공산품만 포함된 부가가치율\n",
        "Av_ser_dr = Va_m[2,2].reshape([1,1])  # 서비스의 부가가치율\n",
        "\n",
        "Mtp_var_indr = Av_ser_etr@Mtp_ser  # 간접효과 멀티플라이어\n",
        "print('간접효과 멀티플라이어: \\n', Mtp_var_indr)\n",
        "\n",
        "Amt_var_indr = Mtp_var_indr*244  # 간접효과\n",
        "Amt_var_dr= Av_ser_dr*244       # 직접효과\n",
        "Amt_var_tot = Amt_var_indr.sum() + Amt_var_dr\n",
        "\n",
        "print('간접효과 : \\n', Amt_var_indr)\n",
        "print('직접효과 : \\n', Amt_var_dr)\n",
        "print('총효과 : \\n', Amt_var_tot)"
      ],
      "metadata": {
        "id": "z0oF5lwlKqlY"
      },
      "execution_count": null,
      "outputs": []
    },
    {
      "cell_type": "markdown",
      "source": [
        "### 산출 변동요인분해"
      ],
      "metadata": {
        "id": "00a8dQ_-Ug2y"
      }
    },
    {
      "cell_type": "code",
      "source": [
        "# 2015년 거래표 다운로드\n",
        "\n",
        "url_total = \"https://raw.githubusercontent.com/Tom-Jung/legendary-funicular/main/%EC%B4%9D%EA%B1%B0%EB%9E%98%ED%91%9C_2015_%EB%B6%88%EB%B3%80.csv\"  # 불변 2015년 총거래표\n",
        "Tot_cst_15 = pd.read_csv(url_total)\n",
        "\n",
        "url_imp = \"https://raw.githubusercontent.com/Tom-Jung/legendary-funicular/main/%EC%88%98%EC%9E%85%EA%B1%B0%EB%9E%98%ED%91%9C_2015_%EB%B6%88%EB%B3%80.csv\"  # 불변 2015년 수입거래표\n",
        "Imp_cst_15 = pd.read_csv(url_imp)\n",
        "\n",
        "url_dom = \"https://raw.githubusercontent.com/Tom-Jung/legendary-funicular/main/%EA%B5%AD%EC%82%B0%EA%B1%B0%EB%9E%98%ED%91%9C_2015_%EB%B6%88%EB%B3%80.csv\"  # 불변 2015년 국산거래표\n",
        "Dom_cst_15 = pd.read_csv(url_dom)"
      ],
      "metadata": {
        "id": "5iSPH3zYKquU"
      },
      "execution_count": null,
      "outputs": []
    },
    {
      "cell_type": "code",
      "source": [
        "# 2010년 거래표 다운로드\n",
        "\n",
        "url_total = \"https://raw.githubusercontent.com/Tom-Jung/legendary-funicular/main/%EC%B4%9D%EA%B1%B0%EB%9E%98%ED%91%9C_2010_%EB%B6%88%EB%B3%80.csv\"  # 불변 2015년 총거래표\n",
        "Tot_cst_10 = pd.read_csv(url_total)\n",
        "\n",
        "url_imp = \"https://raw.githubusercontent.com/Tom-Jung/legendary-funicular/main/%EC%88%98%EC%9E%85%EA%B1%B0%EB%9E%98%ED%91%9C_2010_%EB%B6%88%EB%B3%80.csv\"  # 불변 2015년 수입거래표\n",
        "Imp_cst_10 = pd.read_csv(url_imp)\n",
        "\n",
        "url_dom = \"https://raw.githubusercontent.com/Tom-Jung/legendary-funicular/main/%EA%B5%AD%EC%82%B0%EA%B1%B0%EB%9E%98%ED%91%9C_2010_%EB%B6%88%EB%B3%80.csv\"  # 불변 2015년 국산거래표\n",
        "Dom_cst_10 = pd.read_csv(url_dom)"
      ],
      "metadata": {
        "id": "o8Pv_b5hKqyW"
      },
      "execution_count": null,
      "outputs": []
    },
    {
      "cell_type": "code",
      "source": [
        "Tot_cst_15"
      ],
      "metadata": {
        "id": "f9aN0wIQGi15"
      },
      "execution_count": null,
      "outputs": []
    },
    {
      "cell_type": "code",
      "source": [
        "S_t0 = Tot_cst_10.iloc[1:41,2:].to_numpy() # 10년 총거래표 numpy로 숫자만 불러오기(시간 t-1)\n",
        "I_t0 = Imp_cst_10.iloc[1:38,2:].to_numpy() # 10년 수입거래표 numpy로 숫자만 불러오기\n",
        "\n",
        "S_t5 = Tot_cst_15.iloc[1:41,2:].to_numpy() # 15년 총거래표 numpy로 숫자만 불러오기(시간 t)\n",
        "I_t5 = Imp_cst_15.iloc[1:38,2:].to_numpy() # 15년 수입거래표 numpy로 숫자만 불러오기"
      ],
      "metadata": {
        "id": "YINcR019EBlx"
      },
      "execution_count": null,
      "outputs": []
    },
    {
      "cell_type": "code",
      "source": [
        "S1 = S_t5.astype(float)\n",
        "I1 = I_t5.astype(float)\n",
        "S0 = S_t0.astype(float)\n",
        "I0 = I_t0.astype(float)"
      ],
      "metadata": {
        "id": "Ir7eNUdhb7D3"
      },
      "execution_count": null,
      "outputs": []
    },
    {
      "cell_type": "code",
      "source": [
        "SS1 = np.concatenate((S1[:37,],np.zeros((1,45)), S1[37:39,] ), axis=0)  # 2015년 부가가치 조정항을 0으로 삽입(2010년과 동일한 포맷을 유지하기 위함)\n",
        "print(S_t0.shape)\n",
        "print(S_t5.shape)"
      ],
      "metadata": {
        "id": "y8dIDFxvGyjf"
      },
      "execution_count": null,
      "outputs": []
    },
    {
      "cell_type": "code",
      "source": [
        "SS0 = S0[0:32,0:32].astype(float)  # 내생항목 32x32\n",
        "SS1 = S1[0:32,0:32].astype(float)\n",
        "SS1.shape"
      ],
      "metadata": {
        "id": "GWivqhPhL5T7"
      },
      "execution_count": null,
      "outputs": []
    },
    {
      "cell_type": "code",
      "source": [
        "II0 = I0[0:32,0:32]  # 수입 내생항목 32x32\n",
        "II1 = I1[0:32,0:32]"
      ],
      "metadata": {
        "id": "7-RxwIZaeYt0"
      },
      "execution_count": null,
      "outputs": []
    },
    {
      "cell_type": "code",
      "source": [
        "DD0 =SS0 - II0  # 국산 내생항목 32x32\n",
        "DD1 =SS1 - II1"
      ],
      "metadata": {
        "id": "RCdnGfOpeYwS"
      },
      "execution_count": null,
      "outputs": []
    },
    {
      "cell_type": "code",
      "source": [
        "TM0 = I0[0:32,41]  # 총수입벡터\n",
        "TM1 = I1[0:32,41]\n",
        "TM0.shape"
      ],
      "metadata": {
        "id": "iJUj_ANLeYyy"
      },
      "execution_count": null,
      "outputs": []
    },
    {
      "cell_type": "code",
      "source": [
        "IM0 = I0[0:32,32]  # 중간재수입벡터\n",
        "IM1 = I1[0:32,32]"
      ],
      "metadata": {
        "id": "MFuhXJf7eY05"
      },
      "execution_count": null,
      "outputs": []
    },
    {
      "cell_type": "code",
      "source": [
        "IF0 = I0[0:32,40]  # 최종재수입벡터\n",
        "IF1 = I1[0:32,40]\n",
        "IF1"
      ],
      "metadata": {
        "id": "pPQ8aPECeY3J"
      },
      "execution_count": null,
      "outputs": []
    },
    {
      "cell_type": "code",
      "source": [
        "SFC0 = S0[0:32,33:35]  # 최종수요-소비\n",
        "SFC0 = SFC0.sum(axis=1)\n",
        "SFC1 = S1[0:32,33:35]\n",
        "SFC1 = SFC1.sum(axis=1)\n",
        "SFC1"
      ],
      "metadata": {
        "id": "PywPpOqreY5Q"
      },
      "execution_count": null,
      "outputs": []
    },
    {
      "cell_type": "code",
      "source": [
        "SFI0 = S0[0:32,35:39 ] # 최종수요-투자\n",
        "SFI0 = SFI0.sum(axis=1)\n",
        "SFI1 = S1[0:32,35:39]\n",
        "SFI1 = SFI1.sum(axis=1)\n",
        "SFI1"
      ],
      "metadata": {
        "id": "Ix970H04eY7n"
      },
      "execution_count": null,
      "outputs": []
    },
    {
      "cell_type": "code",
      "source": [
        "SF0 = S0[0:32,40] # 최종수요합계\n",
        "SF1 = S1[0:32,40]\n",
        "SF1"
      ],
      "metadata": {
        "id": "B65fDULHCBh8"
      },
      "execution_count": null,
      "outputs": []
    },
    {
      "cell_type": "code",
      "source": [
        "EX0 = S0[0:32,39] # 수출\n",
        "EX1 = S1[0:32,39]\n",
        "EX1"
      ],
      "metadata": {
        "id": "iA373XRaCBke"
      },
      "execution_count": null,
      "outputs": []
    },
    {
      "cell_type": "code",
      "source": [
        "DF0 = SF0 - EX0 #소비+투자\n",
        "DF1 = SF1 - EX1"
      ],
      "metadata": {
        "id": "-TSTMCf-CBm-"
      },
      "execution_count": null,
      "outputs": []
    },
    {
      "cell_type": "code",
      "source": [
        "SFC00 = SFC0.sum(axis=0) # 소비합계\n",
        "SFC11 = SFC1.sum(axis=0)\n",
        "\n",
        "SFI00 = SFI0.sum(axis=0) # 투자합계\n",
        "SFI11 = SFI1.sum(axis=0)\n",
        "\n",
        "EX00 = EX0.sum(axis=0) # 수출합계\n",
        "EX11 = EX1.sum(axis=0)\n",
        "\n",
        "print('2010년 소비합계 : ', SFC00)\n",
        "print('2015년 소비합계 : ', SFC11)\n",
        "\n",
        "print('2010년 투자합계 : ', SFI00)\n",
        "print('2015년 투자합계 : ', SFI11)\n",
        "\n",
        "print('2010년 수출합계 : ', EX00)\n",
        "print('2015년 수출합계 : ', EX11)\n"
      ],
      "metadata": {
        "id": "bsUg2RmYELiu"
      },
      "execution_count": null,
      "outputs": []
    },
    {
      "cell_type": "code",
      "source": [
        "GDC1 = ((SFC11 - SFC00)/ SFC00) # 소비증가율\n",
        "GDC2 = GDC1*SFC0  # 규모효과\n",
        "GDC3 = (SFC1-SFC0) - GDC2 # 구조효과"
      ],
      "metadata": {
        "id": "44Dv7WlvELla"
      },
      "execution_count": null,
      "outputs": []
    },
    {
      "cell_type": "code",
      "source": [
        "GDI1 = ((SFI11 - SFI00)/ SFI00) # 투자증가율\n",
        "GDI2 = GDI1*SFI0 # 규모효과\n",
        "GDI3 = (SFI1-SFI0) - GDI2 # 구조효과"
      ],
      "metadata": {
        "id": "kUvW8c4mELn3"
      },
      "execution_count": null,
      "outputs": []
    },
    {
      "cell_type": "code",
      "source": [
        "ED1 = ((EX11 - EX00)/EX00) # 수출증가율\n",
        "ED2 = ED1*EX0 # 규모효과\n",
        "ED3 = (EX1-EX0) - ED2 # 구조효과"
      ],
      "metadata": {
        "id": "HOEfWHa4ELqN"
      },
      "execution_count": null,
      "outputs": []
    },
    {
      "cell_type": "code",
      "source": [
        "C0 = S0[-1,0:32].T.reshape([32,1])  # 총산출액\n",
        "C1 = S1[-1,0:32].T.reshape([32,1])\n",
        "C1.shape"
      ],
      "metadata": {
        "id": "iZ80_uBiELtF"
      },
      "execution_count": null,
      "outputs": []
    },
    {
      "cell_type": "code",
      "source": [
        "TC0 = C0.sum(axis=0)  #총산출계\n",
        "TC1 = C1.sum(axis=0)"
      ],
      "metadata": {
        "id": "P83r7vKxELvb"
      },
      "execution_count": null,
      "outputs": []
    },
    {
      "cell_type": "code",
      "source": [
        "V0 = S0[-1,0:32].T - S0[32,0:32].T # 부가가치계벡터 = 총투입액 - 중간투입계\n",
        "V1 = S1[-1,0:32].T - S1[32,0:32].T\n",
        "V1"
      ],
      "metadata": {
        "id": "JNBtafCsELyF"
      },
      "execution_count": null,
      "outputs": []
    },
    {
      "cell_type": "code",
      "source": [
        "AV0 = V0/C0 # 부가가치계수\n",
        "AV1 = V1/C1"
      ],
      "metadata": {
        "id": "0J-f-kPxEL0Z"
      },
      "execution_count": null,
      "outputs": []
    },
    {
      "cell_type": "code",
      "source": [
        "CT0 = np.tile(C0, reps=[1,32])   # Ct벡터를 반복해여 행렬(32x32)로 만듬\n",
        "CT1 = np.tile(C1, reps=[1,32])\n",
        "CT1"
      ],
      "metadata": {
        "id": "9dGIXvcTEL3B"
      },
      "execution_count": null,
      "outputs": []
    },
    {
      "cell_type": "code",
      "source": [
        "AS0 = SS0/CT0.T # 총투입계수표\n",
        "AS1 = SS1/CT1.T\n",
        "# np.isnan(AS_t)"
      ],
      "metadata": {
        "id": "NCE7a-1dgP2f"
      },
      "execution_count": null,
      "outputs": []
    },
    {
      "cell_type": "code",
      "source": [
        "AD0 = DD0/CT0.T # 국산투입계수표\n",
        "AD1 = DD1/CT1.T"
      ],
      "metadata": {
        "id": "tWvEJKQJi9Lt"
      },
      "execution_count": null,
      "outputs": []
    },
    {
      "cell_type": "code",
      "source": [
        "II0 = AS0-AD0 # 수입투입계수표\n",
        "II1 = AS1-AD1"
      ],
      "metadata": {
        "id": "YaT-6Loqi9OR"
      },
      "execution_count": null,
      "outputs": []
    },
    {
      "cell_type": "code",
      "source": [
        "M0 = IF0/DF0 # 수입최종수요/(소비+투자)\n",
        "M0 = np.diag(M0)\n",
        "\n",
        "M1 = IF1/DF1\n",
        "M1 = np.diag(M1)"
      ],
      "metadata": {
        "id": "w-ShpkV7i9QY"
      },
      "execution_count": null,
      "outputs": []
    },
    {
      "cell_type": "code",
      "source": [
        "RD0 = np.linalg.inv(np.eye(32) - AD0) # 생산유발계수\n",
        "RD1 = np.linalg.inv(np.eye(32) - AD1)"
      ],
      "metadata": {
        "id": "y5HiakVIi9Sk"
      },
      "execution_count": null,
      "outputs": []
    },
    {
      "cell_type": "code",
      "source": [
        "AM0 = II0/AS0 #조정항목\n",
        "AM0 = AM0*AS1\n",
        "\n",
        "AM1 = II1/AS1\n",
        "AM1 = AM1*AS0\n",
        "\n",
        "np.nan_to_num(AM0, copy=False)\n",
        "np.nan_to_num(AM1, copy=False)"
      ],
      "metadata": {
        "id": "-62Wibedi9U7"
      },
      "execution_count": null,
      "outputs": []
    },
    {
      "cell_type": "code",
      "source": [
        "AA = AS1 - AS0 #투입계수변화\n",
        "AS1_f = pd.DataFrame(AS1)\n",
        "AS1_f.to_csv('AS1_f.csv')"
      ],
      "metadata": {
        "id": "oaRIccJKinqc"
      },
      "execution_count": null,
      "outputs": []
    },
    {
      "cell_type": "markdown",
      "source": [
        "#### 산출액성장요인분해\n",
        "-  파쉐방식으로 산출액 변동을 분해"
      ],
      "metadata": {
        "id": "LtkcJ9Pasrzo"
      }
    },
    {
      "cell_type": "code",
      "source": [
        "TC1 = ((RD1@(np.eye(32)-M1))@GDC2).reshape([32,1])  # 소비규모증가효과\n",
        "TC11 = ((RD1@(np.eye(32)-M1))@GDC3).reshape([32,1]) # 소비구조증가효과\n",
        "TCTD = TC1 + TC11\n",
        "TC111 = np.concatenate((TCTD, TC1, TC11), axis=1)\n",
        "# TC111"
      ],
      "metadata": {
        "id": "KMvKjFJ0q19V"
      },
      "execution_count": null,
      "outputs": []
    },
    {
      "cell_type": "code",
      "source": [
        "TI1 = ((RD1@(np.eye(32)-M1))@GDI2).reshape([32,1])  # 소비규모증가효과\n",
        "TI11 = ((RD1@(np.eye(32)-M1))@GDI3).reshape([32,1]) # 소비구조증가효과\n",
        "TITD = TI1 + TI11\n",
        "TI111 = np.concatenate((TITD, TI1, TI11), axis=1)"
      ],
      "metadata": {
        "id": "WkSQSCLhul8x"
      },
      "execution_count": null,
      "outputs": []
    },
    {
      "cell_type": "code",
      "source": [
        "TQ = TC1+TI1 # 국내최종수요규모증가효과\n",
        "TS = TC11+TI11 # 국내최종수요규조변화효과\n",
        "TQS = TQ+TS\n",
        "T1 = np.concatenate((TQS, TQ, TS), axis=1)\n",
        "T1.shape"
      ],
      "metadata": {
        "id": "Wmq1H3tuumAB"
      },
      "execution_count": null,
      "outputs": []
    },
    {
      "cell_type": "code",
      "source": [
        "T2 = (RD1@ED2).reshape([32,1]) # 수출규모증가효과\n",
        "T22 = (RD1@ED3) .reshape([32,1])# 수출구조변화효과\n",
        "TTE = T2+T22\n",
        "T2 = np.concatenate((TTE, T2, T22), axis=1)"
      ],
      "metadata": {
        "id": "PgRj1lk4tyya"
      },
      "execution_count": null,
      "outputs": []
    },
    {
      "cell_type": "code",
      "source": [
        "T3 = ((RD1@(M1 - M0))@DF0).reshape([32,1]) # 최종재수입대체효과\n",
        "T3 = T3*-1\n",
        "T4 = ((RD1@(AM1 - II0)))@C0[0:32,] # 중간재수입대체효과\n",
        "T4 = T4*-1\n",
        "T34 = T3 + T4\n",
        "TI = np.concatenate((T34, T3, T4), axis=1)\n",
        "TI\n",
        "\n"
      ],
      "metadata": {
        "id": "8Mr7oaogtKuC"
      },
      "execution_count": null,
      "outputs": []
    },
    {
      "cell_type": "code",
      "source": [
        "T5 = (RD1@(AA-(II1-AM1)))@C0 # 기술변화효과\n",
        "T5.shape\n",
        "T5"
      ],
      "metadata": {
        "id": "iHLeIimfRbIu"
      },
      "execution_count": null,
      "outputs": []
    },
    {
      "cell_type": "code",
      "source": [
        "DCT0 = C1-C0  #산출액 실질변동액\n",
        "DCT1 = TCTD + TITD + TTE +T3 + T4 + T5 # 총변동요인\n",
        "DCT = DCT0-DCT1"
      ],
      "metadata": {
        "id": "-bGGgsUDHQ79"
      },
      "execution_count": null,
      "outputs": []
    },
    {
      "cell_type": "code",
      "source": [
        "SUM = np.concatenate((C0, C1, DCT0, DCT1, DCT, T1, TC111, TI111, T2, TI, T5), axis=1)\n",
        "SUM.shape\n",
        "SUM1 = np.sum(SUM, axis=0).reshape([1,21])\n",
        "PGD1015 = (np.concatenate((SUM, SUM1), axis=0))\n",
        "PGD1015_f = (PGD1015/1000).round(1)"
      ],
      "metadata": {
        "id": "vVUQoAshMJJU"
      },
      "execution_count": null,
      "outputs": []
    },
    {
      "cell_type": "code",
      "source": [
        "PGD1015_ff = pd.DataFrame(PGD1015_f,columns = ['10년산출액', '15년산출액', '15-10산출액(A)', '요인별합계(B)', 'B-A', '국내최종수요증감액', '국내최종수요(규모증가)', '국내최종수요(구조변화)',\n",
        "                                                     '소비', '소비(규모)','소비(구조)','투자', '투자(규모)','투자(구조)', '수출', '수출(규모)','수출(구조)', '수입', '최종재수입','중간재수입', '기술변화'],\n",
        "\n",
        "                         index=['농림수산품', '광산품', '음식료품', '섬유 및 가죽제품', '목재 및 종이, 인쇄', ' 석탄 및 석유제품', '화학제품', '비금속광물제품', '1차금속제품', '금속가공제품',\n",
        "                                '컴퓨터, 전자 및 광학기기', '전기장비', '기계 및 장비', '운송장비', '기타제조업제품', '제조임가공 및 산업용 장비 수리', '전력, 가스 및 증기', '수도, 폐기물처리 및 재활용 서비스',\n",
        "                                '건설', '도소매', '운송서비스', '음석점및숙박', '정보통신 및 방송서비스', '금융및보험서비스', '부동산서비스', '전문, 과학 및 기술서비스',\n",
        "                                '사업지원서비스', '공공행정, 국방 및 사회보장', '교육서비스', '보건 및 사회복지서비스', '예술, 스포츠 및 여가 관련 서비스', '기타 서비스', '계'])  # pandas로 내보내기"
      ],
      "metadata": {
        "id": "RGtoWYTD2Lhw"
      },
      "execution_count": null,
      "outputs": []
    },
    {
      "cell_type": "code",
      "source": [
        "PGD1015_ff"
      ],
      "metadata": {
        "id": "Fk9Z5m7G8oxT"
      },
      "execution_count": null,
      "outputs": []
    },
    {
      "cell_type": "code",
      "source": [
        "PGD1015_ff.to_csv('산출액변동요인.csv', encoding=\"utf-8-sig\")"
      ],
      "metadata": {
        "id": "h7CkNaE15PIg"
      },
      "execution_count": null,
      "outputs": []
    },
    {
      "cell_type": "code",
      "source": [
        "Ctbr =  PGD1015[:,5:]\n",
        "Ctbr.shape"
      ],
      "metadata": {
        "id": "3O6_BXxbcwuW"
      },
      "execution_count": null,
      "outputs": []
    },
    {
      "cell_type": "code",
      "source": [
        "sm_gap = PGD1015[:,3].reshape([33,1])  # 요인별 합계\n",
        "sm_gap.shape"
      ],
      "metadata": {
        "id": "Ib0VzKGcFjOo"
      },
      "execution_count": null,
      "outputs": []
    },
    {
      "cell_type": "code",
      "source": [
        "sm_gap1 = np.tile(sm_gap, reps=[1,16]) # 요인별 합계를 33x16으로 반복\n",
        "sm_gap1.shape"
      ],
      "metadata": {
        "id": "Ojzes5k4GZl_"
      },
      "execution_count": null,
      "outputs": []
    },
    {
      "cell_type": "code",
      "source": [
        "Ctrb = (Ctbr/sm_gap1)*100  # 각 항목별 기여율\n",
        "Ctrb_f = Ctrb.round(1)"
      ],
      "metadata": {
        "id": "-gooAQnRFjRg"
      },
      "execution_count": null,
      "outputs": []
    },
    {
      "cell_type": "code",
      "source": [
        "Ctrb_ff = pd.DataFrame(Ctrb_f,columns = ['국내최종수요증감액', '국내최종수요(규모증가)', '국내최종수요(구조변화)','소비', '소비(규모)','소비(구조)','투자', '투자(규모)','투자(구조)',\n",
        "                                         '수출', '수출(규모)','수출(구조)', '수입', '최종재수입','중간재수입', '기술변화'],\n",
        "\n",
        "                         index=['농림수산품', '광산품', '음식료품', '섬유 및 가죽제품', '목재 및 종이, 인쇄', ' 석탄 및 석유제품', '화학제품', '비금속광물제품', '1차금속제품', '금속가공제품',\n",
        "                                '컴퓨터, 전자 및 광학기기', '전기장비', '기계 및 장비', '운송장비', '기타제조업제품', '제조임가공 및 산업용 장비 수리', '전력, 가스 및 증기', '수도, 폐기물처리 및 재활용 서비스',\n",
        "                                '건설', '도소매', '운송서비스', '음석점및숙박', '정보통신 및 방송서비스', '금융및보험서비스', '부동산서비스', '전문, 과학 및 기술서비스',\n",
        "                                '사업지원서비스', '공공행정, 국방 및 사회보장', '교육서비스', '보건 및 사회복지서비스', '예술, 스포츠 및 여가 관련 서비스', '기타 서비스', '계'])  # pandas로 내보내기"
      ],
      "metadata": {
        "id": "ZiMJL68VDYdk"
      },
      "execution_count": null,
      "outputs": []
    },
    {
      "cell_type": "code",
      "source": [
        "Ctrb_ff.to_csv('항목별 기여율.csv', encoding=\"utf-8-sig\")"
      ],
      "metadata": {
        "id": "tLccCmzVC3Hx"
      },
      "execution_count": null,
      "outputs": []
    },
    {
      "cell_type": "code",
      "source": [
        "YR = (((PGD1015[:,1]/PGD1015[:,0])**(1/5)-1)*100).reshape([33,1])\n",
        "YR"
      ],
      "metadata": {
        "id": "Py69_yTbDX6p"
      },
      "execution_count": null,
      "outputs": []
    },
    {
      "cell_type": "code",
      "source": [
        "Ctrb_amt = (Ctrb*YR/100)\n",
        "Ctrb_amt_f = Ctrb_amt.round(3)\n",
        "Ctrb_amt_f"
      ],
      "metadata": {
        "id": "kfNA_NIVKjgt"
      },
      "execution_count": null,
      "outputs": []
    },
    {
      "cell_type": "code",
      "source": [
        "Ctrb_amt_ff = pd.DataFrame(Ctrb_amt_f,columns = ['국내최종수요증감액', '국내최종수요(규모증가)', '국내최종수요(구조변화)','소비', '소비(규모)','소비(구조)','투자', '투자(규모)','투자(구조)',\n",
        "                                         '수출', '수출(규모)','수출(구조)', '수입', '최종재수입','중간재수입', '기술변화'],\n",
        "\n",
        "                         index=['농림수산품', '광산품', '음식료품', '섬유 및 가죽제품', '목재 및 종이, 인쇄', ' 석탄 및 석유제품', '화학제품', '비금속광물제품', '1차금속제품', '금속가공제품',\n",
        "                                '컴퓨터, 전자 및 광학기기', '전기장비', '기계 및 장비', '운송장비', '기타제조업제품', '제조임가공 및 산업용 장비 수리', '전력, 가스 및 증기', '수도, 폐기물처리 및 재활용 서비스',\n",
        "                                '건설', '도소매', '운송서비스', '음석점및숙박', '정보통신 및 방송서비스', '금융및보험서비스', '부동산서비스', '전문, 과학 및 기술서비스',\n",
        "                                '사업지원서비스', '공공행정, 국방 및 사회보장', '교육서비스', '보건 및 사회복지서비스', '예술, 스포츠 및 여가 관련 서비스', '기타 서비스', '계'])  # pandas로 내보내기"
      ],
      "metadata": {
        "id": "SkF8oJDrCXTt"
      },
      "execution_count": null,
      "outputs": []
    },
    {
      "cell_type": "code",
      "source": [
        "Ctrb_amt_ff.to_csv('항목별 기여도.csv', encoding=\"utf-8-sig\")"
      ],
      "metadata": {
        "id": "Cx_mEeLP_Hrr"
      },
      "execution_count": null,
      "outputs": []
    },
    {
      "cell_type": "code",
      "source": [],
      "metadata": {
        "id": "qqR3XrzKeCrl"
      },
      "execution_count": null,
      "outputs": []
    }
  ]
}