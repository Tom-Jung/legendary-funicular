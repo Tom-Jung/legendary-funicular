{
  "nbformat": 4,
  "nbformat_minor": 0,
  "metadata": {
    "colab": {
      "provenance": [],
      "mount_file_id": "https://github.com/Tom-Jung/legendary-funicular/blob/main/IO_tables.ipynb",
      "authorship_tag": "ABX9TyPZBaV6PO9J5qPkNjqPClxB",
      "include_colab_link": true
    },
    "kernelspec": {
      "name": "python3",
      "display_name": "Python 3"
    },
    "language_info": {
      "name": "python"
    }
  },
  "cells": [
    {
      "cell_type": "markdown",
      "metadata": {
        "id": "view-in-github",
        "colab_type": "text"
      },
      "source": [
        "<a href=\"https://colab.research.google.com/github/Tom-Jung/legendary-funicular/blob/main/Ch8.%20ICIO.ipynb\" target=\"_parent\"><img src=\"https://colab.research.google.com/assets/colab-badge.svg\" alt=\"Open In Colab\"/></a>"
      ]
    },
    {
      "cell_type": "code",
      "source": [
        "import numpy as np   # Numpy import\n",
        "import pandas as pd  # Pandas import"
      ],
      "metadata": {
        "id": "TR7JvW8CxBFT"
      },
      "execution_count": 113,
      "outputs": []
    },
    {
      "cell_type": "code",
      "source": [
        "np.set_printoptions(precision=3,suppress=True) # 결과를 소수 3자리까지만 보여주는 옵션"
      ],
      "metadata": {
        "id": "2l9tk4XA4Nkc"
      },
      "execution_count": 114,
      "outputs": []
    },
    {
      "cell_type": "code",
      "source": [
        "# from google.colab import drive\n",
        "# drive.mount('/content/drive')"
      ],
      "metadata": {
        "id": "UUugbbcO-CMK"
      },
      "execution_count": 115,
      "outputs": []
    },
    {
      "cell_type": "code",
      "source": [
        "# icio =pd.read_csv('/content/drive/MyDrive/ICIO/ICIO2021_2018.csv')"
      ],
      "metadata": {
        "id": "dH4scTnJ9Wll"
      },
      "execution_count": 116,
      "outputs": []
    },
    {
      "cell_type": "code",
      "source": [
        "icio = pd.read_csv('/content/ICIO2021_2018.csv')"
      ],
      "metadata": {
        "id": "1tuN2LradEW4"
      },
      "execution_count": 117,
      "outputs": []
    },
    {
      "cell_type": "code",
      "source": [
        "icio.head()\n",
        "icio_1 = icio.to_numpy()\n",
        "icio_2=icio_1[:,1:]\n",
        "icio_2"
      ],
      "metadata": {
        "id": "DhBtrP5M9vRR",
        "outputId": "14840b66-3bee-4c6a-84af-f59473512620",
        "colab": {
          "base_uri": "https://localhost:8080/"
        }
      },
      "execution_count": 184,
      "outputs": [
        {
          "output_type": "execute_result",
          "data": {
            "text/plain": [
              "array([[9643.150009, 1086.295836, 52.580112, ..., 0.042162, 18.786884,\n",
              "        66380.542467],\n",
              "       [527.834592, 134.506115, 14.185165, ..., 0.002112, 2.253717,\n",
              "        8497.499648],\n",
              "       [169.967489, 10.944585, 2412.004698, ..., 1.700465, 2.181065,\n",
              "        113838.317089],\n",
              "       ...,\n",
              "       [-0.271587, -0.030592, -0.000255, ..., 1321.479432, -143.51719,\n",
              "        233363.621878],\n",
              "       [26450.511941, 2863.116121, 73088.630073, ..., 0.0, 0.0,\n",
              "        79901387.613093],\n",
              "       [66380.542467, 8497.499648, 113838.317089, ..., 0.0, 0.0,\n",
              "        165301439.135039]], dtype=object)"
            ]
          },
          "metadata": {},
          "execution_count": 184
        }
      ]
    },
    {
      "cell_type": "markdown",
      "source": [
        "### 한국 1, 중국2, 미국3, 일본4, EU5(Slovakia는 ICIO에 없음..총 26개국),ROW6"
      ],
      "metadata": {
        "id": "AvyOqU89gls6"
      }
    },
    {
      "cell_type": "code",
      "source": [
        "url_cdd = \"https://raw.githubusercontent.com/Tom-Jung/legendary-funicular/main/cd_icio_f.csv\"  #코드매치 파일 불러오기\n",
        "cd = pd.read_csv(url_cdd)\n",
        "cd.head()"
      ],
      "metadata": {
        "id": "yXmH7e7troAC",
        "outputId": "287ef8e4-0a03-47a4-b4fd-0a64f0a75f54",
        "colab": {
          "base_uri": "https://localhost:8080/",
          "height": 206
        }
      },
      "execution_count": 185,
      "outputs": [
        {
          "output_type": "execute_result",
          "data": {
            "text/plain": [
              "        cons  old  new\n",
              "0  AUS_01T02    1   16\n",
              "1     AUS_03    2   16\n",
              "2  AUS_05T06    3   17\n",
              "3  AUS_07T08    4   17\n",
              "4     AUS_09    5   17"
            ],
            "text/html": [
              "\n",
              "\n",
              "  <div id=\"df-9374a545-725c-4d06-b455-5854d4b21fed\">\n",
              "    <div class=\"colab-df-container\">\n",
              "      <div>\n",
              "<style scoped>\n",
              "    .dataframe tbody tr th:only-of-type {\n",
              "        vertical-align: middle;\n",
              "    }\n",
              "\n",
              "    .dataframe tbody tr th {\n",
              "        vertical-align: top;\n",
              "    }\n",
              "\n",
              "    .dataframe thead th {\n",
              "        text-align: right;\n",
              "    }\n",
              "</style>\n",
              "<table border=\"1\" class=\"dataframe\">\n",
              "  <thead>\n",
              "    <tr style=\"text-align: right;\">\n",
              "      <th></th>\n",
              "      <th>cons</th>\n",
              "      <th>old</th>\n",
              "      <th>new</th>\n",
              "    </tr>\n",
              "  </thead>\n",
              "  <tbody>\n",
              "    <tr>\n",
              "      <th>0</th>\n",
              "      <td>AUS_01T02</td>\n",
              "      <td>1</td>\n",
              "      <td>16</td>\n",
              "    </tr>\n",
              "    <tr>\n",
              "      <th>1</th>\n",
              "      <td>AUS_03</td>\n",
              "      <td>2</td>\n",
              "      <td>16</td>\n",
              "    </tr>\n",
              "    <tr>\n",
              "      <th>2</th>\n",
              "      <td>AUS_05T06</td>\n",
              "      <td>3</td>\n",
              "      <td>17</td>\n",
              "    </tr>\n",
              "    <tr>\n",
              "      <th>3</th>\n",
              "      <td>AUS_07T08</td>\n",
              "      <td>4</td>\n",
              "      <td>17</td>\n",
              "    </tr>\n",
              "    <tr>\n",
              "      <th>4</th>\n",
              "      <td>AUS_09</td>\n",
              "      <td>5</td>\n",
              "      <td>17</td>\n",
              "    </tr>\n",
              "  </tbody>\n",
              "</table>\n",
              "</div>\n",
              "      <button class=\"colab-df-convert\" onclick=\"convertToInteractive('df-9374a545-725c-4d06-b455-5854d4b21fed')\"\n",
              "              title=\"Convert this dataframe to an interactive table.\"\n",
              "              style=\"display:none;\">\n",
              "\n",
              "  <svg xmlns=\"http://www.w3.org/2000/svg\" height=\"24px\"viewBox=\"0 0 24 24\"\n",
              "       width=\"24px\">\n",
              "    <path d=\"M0 0h24v24H0V0z\" fill=\"none\"/>\n",
              "    <path d=\"M18.56 5.44l.94 2.06.94-2.06 2.06-.94-2.06-.94-.94-2.06-.94 2.06-2.06.94zm-11 1L8.5 8.5l.94-2.06 2.06-.94-2.06-.94L8.5 2.5l-.94 2.06-2.06.94zm10 10l.94 2.06.94-2.06 2.06-.94-2.06-.94-.94-2.06-.94 2.06-2.06.94z\"/><path d=\"M17.41 7.96l-1.37-1.37c-.4-.4-.92-.59-1.43-.59-.52 0-1.04.2-1.43.59L10.3 9.45l-7.72 7.72c-.78.78-.78 2.05 0 2.83L4 21.41c.39.39.9.59 1.41.59.51 0 1.02-.2 1.41-.59l7.78-7.78 2.81-2.81c.8-.78.8-2.07 0-2.86zM5.41 20L4 18.59l7.72-7.72 1.47 1.35L5.41 20z\"/>\n",
              "  </svg>\n",
              "      </button>\n",
              "\n",
              "\n",
              "\n",
              "    <div id=\"df-5c123212-8a9c-4b86-909d-8705608e19f8\">\n",
              "      <button class=\"colab-df-quickchart\" onclick=\"quickchart('df-5c123212-8a9c-4b86-909d-8705608e19f8')\"\n",
              "              title=\"Suggest charts.\"\n",
              "              style=\"display:none;\">\n",
              "\n",
              "<svg xmlns=\"http://www.w3.org/2000/svg\" height=\"24px\"viewBox=\"0 0 24 24\"\n",
              "     width=\"24px\">\n",
              "    <g>\n",
              "        <path d=\"M19 3H5c-1.1 0-2 .9-2 2v14c0 1.1.9 2 2 2h14c1.1 0 2-.9 2-2V5c0-1.1-.9-2-2-2zM9 17H7v-7h2v7zm4 0h-2V7h2v10zm4 0h-2v-4h2v4z\"/>\n",
              "    </g>\n",
              "</svg>\n",
              "      </button>\n",
              "    </div>\n",
              "\n",
              "<style>\n",
              "  .colab-df-quickchart {\n",
              "    background-color: #E8F0FE;\n",
              "    border: none;\n",
              "    border-radius: 50%;\n",
              "    cursor: pointer;\n",
              "    display: none;\n",
              "    fill: #1967D2;\n",
              "    height: 32px;\n",
              "    padding: 0 0 0 0;\n",
              "    width: 32px;\n",
              "  }\n",
              "\n",
              "  .colab-df-quickchart:hover {\n",
              "    background-color: #E2EBFA;\n",
              "    box-shadow: 0px 1px 2px rgba(60, 64, 67, 0.3), 0px 1px 3px 1px rgba(60, 64, 67, 0.15);\n",
              "    fill: #174EA6;\n",
              "  }\n",
              "\n",
              "  [theme=dark] .colab-df-quickchart {\n",
              "    background-color: #3B4455;\n",
              "    fill: #D2E3FC;\n",
              "  }\n",
              "\n",
              "  [theme=dark] .colab-df-quickchart:hover {\n",
              "    background-color: #434B5C;\n",
              "    box-shadow: 0px 1px 3px 1px rgba(0, 0, 0, 0.15);\n",
              "    filter: drop-shadow(0px 1px 2px rgba(0, 0, 0, 0.3));\n",
              "    fill: #FFFFFF;\n",
              "  }\n",
              "</style>\n",
              "\n",
              "    <script>\n",
              "      async function quickchart(key) {\n",
              "        const containerElement = document.querySelector('#' + key);\n",
              "        const charts = await google.colab.kernel.invokeFunction(\n",
              "            'suggestCharts', [key], {});\n",
              "      }\n",
              "    </script>\n",
              "\n",
              "      <script>\n",
              "\n",
              "function displayQuickchartButton(domScope) {\n",
              "  let quickchartButtonEl =\n",
              "    domScope.querySelector('#df-5c123212-8a9c-4b86-909d-8705608e19f8 button.colab-df-quickchart');\n",
              "  quickchartButtonEl.style.display =\n",
              "    google.colab.kernel.accessAllowed ? 'block' : 'none';\n",
              "}\n",
              "\n",
              "        displayQuickchartButton(document);\n",
              "      </script>\n",
              "      <style>\n",
              "    .colab-df-container {\n",
              "      display:flex;\n",
              "      flex-wrap:wrap;\n",
              "      gap: 12px;\n",
              "    }\n",
              "\n",
              "    .colab-df-convert {\n",
              "      background-color: #E8F0FE;\n",
              "      border: none;\n",
              "      border-radius: 50%;\n",
              "      cursor: pointer;\n",
              "      display: none;\n",
              "      fill: #1967D2;\n",
              "      height: 32px;\n",
              "      padding: 0 0 0 0;\n",
              "      width: 32px;\n",
              "    }\n",
              "\n",
              "    .colab-df-convert:hover {\n",
              "      background-color: #E2EBFA;\n",
              "      box-shadow: 0px 1px 2px rgba(60, 64, 67, 0.3), 0px 1px 3px 1px rgba(60, 64, 67, 0.15);\n",
              "      fill: #174EA6;\n",
              "    }\n",
              "\n",
              "    [theme=dark] .colab-df-convert {\n",
              "      background-color: #3B4455;\n",
              "      fill: #D2E3FC;\n",
              "    }\n",
              "\n",
              "    [theme=dark] .colab-df-convert:hover {\n",
              "      background-color: #434B5C;\n",
              "      box-shadow: 0px 1px 3px 1px rgba(0, 0, 0, 0.15);\n",
              "      filter: drop-shadow(0px 1px 2px rgba(0, 0, 0, 0.3));\n",
              "      fill: #FFFFFF;\n",
              "    }\n",
              "  </style>\n",
              "\n",
              "      <script>\n",
              "        const buttonEl =\n",
              "          document.querySelector('#df-9374a545-725c-4d06-b455-5854d4b21fed button.colab-df-convert');\n",
              "        buttonEl.style.display =\n",
              "          google.colab.kernel.accessAllowed ? 'block' : 'none';\n",
              "\n",
              "        async function convertToInteractive(key) {\n",
              "          const element = document.querySelector('#df-9374a545-725c-4d06-b455-5854d4b21fed');\n",
              "          const dataTable =\n",
              "            await google.colab.kernel.invokeFunction('convertToInteractive',\n",
              "                                                     [key], {});\n",
              "          if (!dataTable) return;\n",
              "\n",
              "          const docLinkHtml = 'Like what you see? Visit the ' +\n",
              "            '<a target=\"_blank\" href=https://colab.research.google.com/notebooks/data_table.ipynb>data table notebook</a>'\n",
              "            + ' to learn more about interactive tables.';\n",
              "          element.innerHTML = '';\n",
              "          dataTable['output_type'] = 'display_data';\n",
              "          await google.colab.output.renderOutput(dataTable, element);\n",
              "          const docLink = document.createElement('div');\n",
              "          docLink.innerHTML = docLinkHtml;\n",
              "          element.appendChild(docLink);\n",
              "        }\n",
              "      </script>\n",
              "    </div>\n",
              "  </div>\n"
            ]
          },
          "metadata": {},
          "execution_count": 185
        }
      ]
    },
    {
      "cell_type": "code",
      "source": [
        "ccdd = cd.to_numpy()\n",
        "cd_for_itr = ccdd[:,1:]\n",
        "cd_for_itr"
      ],
      "metadata": {
        "id": "M2e69LcT_59t",
        "outputId": "aae34aca-6caa-4631-814e-63a18694909e",
        "colab": {
          "base_uri": "https://localhost:8080/"
        }
      },
      "execution_count": 186,
      "outputs": [
        {
          "output_type": "execute_result",
          "data": {
            "text/plain": [
              "array([[1, 16],\n",
              "       [2, 16],\n",
              "       [3, 17],\n",
              "       ...,\n",
              "       [3193, 6],\n",
              "       [3194, 6],\n",
              "       [3195, 6]], dtype=object)"
            ]
          },
          "metadata": {},
          "execution_count": 186
        }
      ]
    },
    {
      "cell_type": "code",
      "source": [
        "Mtx = np.zeros((18,3195)) # 부문통합을 위한 코드가 많을 경우 상기의 코드를 수작업으로 미리 하는 것이 쉽자 않으므로 반복문을 통해 3x33 임시코드 만들기\n",
        "cd_3 = cd_for_itr[:,1]\n",
        "cd_33 = cd_for_itr[:,0]\n",
        "row=cd_3\n",
        "col=cd_33\n",
        "for i, j in zip(row,col):\n",
        "  Mtx[i-1,j-1] = 1\n",
        "print(Mtx)"
      ],
      "metadata": {
        "id": "GdSKaueLdDOn",
        "outputId": "51bc99ec-7a89-4397-f46c-2bcc891ad0c0",
        "colab": {
          "base_uri": "https://localhost:8080/"
        }
      },
      "execution_count": 187,
      "outputs": [
        {
          "output_type": "stream",
          "name": "stdout",
          "text": [
            "[[0. 0. 0. ... 0. 0. 0.]\n",
            " [0. 0. 0. ... 0. 0. 0.]\n",
            " [0. 0. 0. ... 0. 0. 0.]\n",
            " ...\n",
            " [1. 1. 0. ... 0. 0. 0.]\n",
            " [0. 0. 1. ... 0. 0. 0.]\n",
            " [0. 0. 0. ... 0. 0. 0.]]\n"
          ]
        }
      ]
    },
    {
      "cell_type": "code",
      "source": [
        "code=Mtx"
      ],
      "metadata": {
        "id": "1gXI65U3K2hG"
      },
      "execution_count": 188,
      "outputs": []
    },
    {
      "cell_type": "code",
      "source": [
        "nae_tot_row = code@icio_2[0:3195,0:3195] # 중간투입(수요)의 행을 18부문으로 만들기\n",
        "nae_tot_row.shape"
      ],
      "metadata": {
        "id": "hwAN1N7qGAtx",
        "outputId": "71fdca5f-9dae-4a52-b8eb-48f4c425f41d",
        "colab": {
          "base_uri": "https://localhost:8080/"
        }
      },
      "execution_count": 189,
      "outputs": [
        {
          "output_type": "execute_result",
          "data": {
            "text/plain": [
              "(18, 3195)"
            ]
          },
          "metadata": {},
          "execution_count": 189
        }
      ]
    },
    {
      "cell_type": "code",
      "source": [
        "nae_tot_col = nae_tot_row@code.T  # 수작업한 code 이용\n",
        "nae_tot_col.sum()"
      ],
      "metadata": {
        "id": "gJ-wf5Z5GAwF",
        "outputId": "b74e63dd-8446-4922-f70e-538778584093",
        "colab": {
          "base_uri": "https://localhost:8080/"
        }
      },
      "execution_count": 190,
      "outputs": [
        {
          "output_type": "execute_result",
          "data": {
            "text/plain": [
              "82339688.20691398"
            ]
          },
          "metadata": {},
          "execution_count": 190
        }
      ]
    },
    {
      "cell_type": "code",
      "source": [
        "url_cdtx = \"https://raw.githubusercontent.com/Tom-Jung/legendary-funicular/main/cd_tax.csv\"  #코드매치 파일 불러오기\n",
        "cd_tx = pd.read_csv(url_cdtx)\n",
        "cd_tx.shape"
      ],
      "metadata": {
        "id": "U2KVZnyLGAyV",
        "outputId": "e69aa88e-a36b-4927-a34f-b3841a8f8af2",
        "colab": {
          "base_uri": "https://localhost:8080/"
        }
      },
      "execution_count": 191,
      "outputs": [
        {
          "output_type": "execute_result",
          "data": {
            "text/plain": [
              "(67, 3)"
            ]
          },
          "metadata": {},
          "execution_count": 191
        }
      ]
    },
    {
      "cell_type": "code",
      "source": [
        "ccdd_tx = cd_tx.to_numpy()\n",
        "cd_for_itr_tx = ccdd_tx[:,1:]\n",
        "cd_for_itr_tx"
      ],
      "metadata": {
        "id": "8xlVGnRsGA0p",
        "outputId": "0147e1eb-5929-462a-d59c-2fbec7ed87c8",
        "colab": {
          "base_uri": "https://localhost:8080/"
        }
      },
      "execution_count": 192,
      "outputs": [
        {
          "output_type": "execute_result",
          "data": {
            "text/plain": [
              "array([[1, 6],\n",
              "       [2, 5],\n",
              "       [3, 5],\n",
              "       [4, 6],\n",
              "       [5, 6],\n",
              "       [6, 6],\n",
              "       [7, 6],\n",
              "       [8, 5],\n",
              "       [9, 5],\n",
              "       [10, 5],\n",
              "       [11, 5],\n",
              "       [12, 5],\n",
              "       [13, 5],\n",
              "       [14, 5],\n",
              "       [15, 5],\n",
              "       [16, 6],\n",
              "       [17, 5],\n",
              "       [18, 6],\n",
              "       [19, 5],\n",
              "       [20, 4],\n",
              "       [21, 1],\n",
              "       [22, 5],\n",
              "       [23, 5],\n",
              "       [24, 5],\n",
              "       [25, 6],\n",
              "       [26, 5],\n",
              "       [27, 6],\n",
              "       [28, 6],\n",
              "       [29, 5],\n",
              "       [30, 5],\n",
              "       [31, 6],\n",
              "       [32, 5],\n",
              "       [33, 5],\n",
              "       [34, 5],\n",
              "       [35, 6],\n",
              "       [36, 6],\n",
              "       [37, 6],\n",
              "       [38, 3],\n",
              "       [39, 6],\n",
              "       [40, 6],\n",
              "       [41, 6],\n",
              "       [42, 5],\n",
              "       [43, 6],\n",
              "       [44, 2],\n",
              "       [45, 5],\n",
              "       [46, 5],\n",
              "       [47, 6],\n",
              "       [48, 6],\n",
              "       [49, 6],\n",
              "       [50, 6],\n",
              "       [51, 6],\n",
              "       [52, 6],\n",
              "       [53, 5],\n",
              "       [54, 6],\n",
              "       [55, 6],\n",
              "       [56, 6],\n",
              "       [57, 6],\n",
              "       [58, 5],\n",
              "       [59, 6],\n",
              "       [60, 6],\n",
              "       [61, 6],\n",
              "       [62, 6],\n",
              "       [63, 6],\n",
              "       [64, 6],\n",
              "       [65, 6],\n",
              "       [66, 6],\n",
              "       [67, 6]], dtype=object)"
            ]
          },
          "metadata": {},
          "execution_count": 192
        }
      ]
    },
    {
      "cell_type": "code",
      "source": [
        "Mtx_tx= np.zeros((6,3195)) # 부문통합을 위한 코드가 많을 경우 상기의 코드를 수작업으로 미리 하는 것이 쉽자 않으므로 반복문을 통해 3x33 임시코드 만들기\n",
        "cd_3 = cd_for_itr_tx[:,1]\n",
        "cd_33 = cd_for_itr_tx[:,0]\n",
        "row=cd_3\n",
        "col=cd_33\n",
        "for i, j in zip(row,col):\n",
        "  Mtx_tx[i-1,j-1] = 1\n",
        "print(Mtx_tx)"
      ],
      "metadata": {
        "id": "jzhKiWaFKZJG",
        "outputId": "c03c9044-9a6e-476a-cf58-2a0a0f537a93",
        "colab": {
          "base_uri": "https://localhost:8080/"
        }
      },
      "execution_count": 193,
      "outputs": [
        {
          "output_type": "stream",
          "name": "stdout",
          "text": [
            "[[0. 0. 0. ... 0. 0. 0.]\n",
            " [0. 0. 0. ... 0. 0. 0.]\n",
            " [0. 0. 0. ... 0. 0. 0.]\n",
            " [0. 0. 0. ... 0. 0. 0.]\n",
            " [0. 1. 1. ... 0. 0. 0.]\n",
            " [1. 0. 0. ... 0. 0. 0.]]\n"
          ]
        }
      ]
    },
    {
      "cell_type": "code",
      "source": [
        "code_tx = Mtx_tx"
      ],
      "metadata": {
        "id": "PraMpI0AKZL1"
      },
      "execution_count": 194,
      "outputs": []
    },
    {
      "cell_type": "code",
      "source": [
        "nae_tx = icio_2[3195:3261,0:3195]@code_tx.T # 세금 행을 6부문으로 만들기\n",
        "nae_tx.shape"
      ],
      "metadata": {
        "id": "5c-zt7MIK-xv",
        "outputId": "9a9a339a-efd6-4388-e984-69f248b00c92",
        "colab": {
          "base_uri": "https://localhost:8080/"
        }
      },
      "execution_count": 195,
      "outputs": [
        {
          "output_type": "execute_result",
          "data": {
            "text/plain": [
              "(66, 6)"
            ]
          },
          "metadata": {},
          "execution_count": 195
        }
      ]
    },
    {
      "cell_type": "code",
      "source": [
        "va_row = icio_2[3262:,0:3195]@code.T # 중투합, 피용자보수, 영업잉여, 고정자본소모, 기타생산세, 부가가치계, 산출액(7X3)\n",
        "va_row"
      ],
      "metadata": {
        "id": "qztNjQCtK-0Y",
        "outputId": "352449a8-88c1-497b-f2f0-a08a8aac4a9a",
        "colab": {
          "base_uri": "https://localhost:8080/"
        }
      },
      "execution_count": 196,
      "outputs": [
        {
          "output_type": "execute_result",
          "data": {
            "text/plain": [
              "array([[30122.760078, 461407.057533, 1086426.202384, 939956.9125069999,\n",
              "        3875230.7805330004, 7974934.793033998, 189809.860399,\n",
              "        2624235.468104, 17048993.168002002, 49661.415264999996,\n",
              "        994881.1418300001, 3623356.136527, 254118.11392399995,\n",
              "        2449788.5691129975, 11483927.38627402, 1960964.892598,\n",
              "        5989787.542722994, 18863785.412294],\n",
              "       [57218.381578, 1668464.2372480002, 2097727.368706, 2125907.816808,\n",
              "        17184795.339190997, 15705083.875234999, 466589.927573,\n",
              "        6836953.243108001, 28592845.82552, 111408.41369900001,\n",
              "        2920191.446438, 5897666.385726, 563753.8058219998,\n",
              "        8030492.383054005, 20831575.541084014, 3153328.681623,\n",
              "        16512152.189489014, 32545284.27314001]], dtype=object)"
            ]
          },
          "metadata": {},
          "execution_count": 196
        }
      ]
    },
    {
      "cell_type": "code",
      "source": [
        "url_cdfd = \"https://raw.githubusercontent.com/Tom-Jung/legendary-funicular/main/cd_fd.csv\"  #코드매치 파일 불러오기\n",
        "cd_fd = pd.read_csv(url_cdfd)\n",
        "cd_fd.head()"
      ],
      "metadata": {
        "id": "TveEEi60VWLR",
        "outputId": "4d1e2fce-4186-4a34-97b1-0e26e18590bf",
        "colab": {
          "base_uri": "https://localhost:8080/",
          "height": 206
        }
      },
      "execution_count": 200,
      "outputs": [
        {
          "output_type": "execute_result",
          "data": {
            "text/plain": [
              "        cons  old  new\n",
              "0   AUS_HFCE    1   16\n",
              "1  AUS_NPISH    2   16\n",
              "2   AUS_GGFC    3   16\n",
              "3   AUS_GFCF    4   17\n",
              "4  AUS_INVNT    5   17"
            ],
            "text/html": [
              "\n",
              "\n",
              "  <div id=\"df-a36e6760-fdab-4ef1-a86f-e9c5bfb2e54b\">\n",
              "    <div class=\"colab-df-container\">\n",
              "      <div>\n",
              "<style scoped>\n",
              "    .dataframe tbody tr th:only-of-type {\n",
              "        vertical-align: middle;\n",
              "    }\n",
              "\n",
              "    .dataframe tbody tr th {\n",
              "        vertical-align: top;\n",
              "    }\n",
              "\n",
              "    .dataframe thead th {\n",
              "        text-align: right;\n",
              "    }\n",
              "</style>\n",
              "<table border=\"1\" class=\"dataframe\">\n",
              "  <thead>\n",
              "    <tr style=\"text-align: right;\">\n",
              "      <th></th>\n",
              "      <th>cons</th>\n",
              "      <th>old</th>\n",
              "      <th>new</th>\n",
              "    </tr>\n",
              "  </thead>\n",
              "  <tbody>\n",
              "    <tr>\n",
              "      <th>0</th>\n",
              "      <td>AUS_HFCE</td>\n",
              "      <td>1</td>\n",
              "      <td>16</td>\n",
              "    </tr>\n",
              "    <tr>\n",
              "      <th>1</th>\n",
              "      <td>AUS_NPISH</td>\n",
              "      <td>2</td>\n",
              "      <td>16</td>\n",
              "    </tr>\n",
              "    <tr>\n",
              "      <th>2</th>\n",
              "      <td>AUS_GGFC</td>\n",
              "      <td>3</td>\n",
              "      <td>16</td>\n",
              "    </tr>\n",
              "    <tr>\n",
              "      <th>3</th>\n",
              "      <td>AUS_GFCF</td>\n",
              "      <td>4</td>\n",
              "      <td>17</td>\n",
              "    </tr>\n",
              "    <tr>\n",
              "      <th>4</th>\n",
              "      <td>AUS_INVNT</td>\n",
              "      <td>5</td>\n",
              "      <td>17</td>\n",
              "    </tr>\n",
              "  </tbody>\n",
              "</table>\n",
              "</div>\n",
              "      <button class=\"colab-df-convert\" onclick=\"convertToInteractive('df-a36e6760-fdab-4ef1-a86f-e9c5bfb2e54b')\"\n",
              "              title=\"Convert this dataframe to an interactive table.\"\n",
              "              style=\"display:none;\">\n",
              "\n",
              "  <svg xmlns=\"http://www.w3.org/2000/svg\" height=\"24px\"viewBox=\"0 0 24 24\"\n",
              "       width=\"24px\">\n",
              "    <path d=\"M0 0h24v24H0V0z\" fill=\"none\"/>\n",
              "    <path d=\"M18.56 5.44l.94 2.06.94-2.06 2.06-.94-2.06-.94-.94-2.06-.94 2.06-2.06.94zm-11 1L8.5 8.5l.94-2.06 2.06-.94-2.06-.94L8.5 2.5l-.94 2.06-2.06.94zm10 10l.94 2.06.94-2.06 2.06-.94-2.06-.94-.94-2.06-.94 2.06-2.06.94z\"/><path d=\"M17.41 7.96l-1.37-1.37c-.4-.4-.92-.59-1.43-.59-.52 0-1.04.2-1.43.59L10.3 9.45l-7.72 7.72c-.78.78-.78 2.05 0 2.83L4 21.41c.39.39.9.59 1.41.59.51 0 1.02-.2 1.41-.59l7.78-7.78 2.81-2.81c.8-.78.8-2.07 0-2.86zM5.41 20L4 18.59l7.72-7.72 1.47 1.35L5.41 20z\"/>\n",
              "  </svg>\n",
              "      </button>\n",
              "\n",
              "\n",
              "\n",
              "    <div id=\"df-fd1031cc-ac9f-4c4d-87b4-4d36f31c9fab\">\n",
              "      <button class=\"colab-df-quickchart\" onclick=\"quickchart('df-fd1031cc-ac9f-4c4d-87b4-4d36f31c9fab')\"\n",
              "              title=\"Suggest charts.\"\n",
              "              style=\"display:none;\">\n",
              "\n",
              "<svg xmlns=\"http://www.w3.org/2000/svg\" height=\"24px\"viewBox=\"0 0 24 24\"\n",
              "     width=\"24px\">\n",
              "    <g>\n",
              "        <path d=\"M19 3H5c-1.1 0-2 .9-2 2v14c0 1.1.9 2 2 2h14c1.1 0 2-.9 2-2V5c0-1.1-.9-2-2-2zM9 17H7v-7h2v7zm4 0h-2V7h2v10zm4 0h-2v-4h2v4z\"/>\n",
              "    </g>\n",
              "</svg>\n",
              "      </button>\n",
              "    </div>\n",
              "\n",
              "<style>\n",
              "  .colab-df-quickchart {\n",
              "    background-color: #E8F0FE;\n",
              "    border: none;\n",
              "    border-radius: 50%;\n",
              "    cursor: pointer;\n",
              "    display: none;\n",
              "    fill: #1967D2;\n",
              "    height: 32px;\n",
              "    padding: 0 0 0 0;\n",
              "    width: 32px;\n",
              "  }\n",
              "\n",
              "  .colab-df-quickchart:hover {\n",
              "    background-color: #E2EBFA;\n",
              "    box-shadow: 0px 1px 2px rgba(60, 64, 67, 0.3), 0px 1px 3px 1px rgba(60, 64, 67, 0.15);\n",
              "    fill: #174EA6;\n",
              "  }\n",
              "\n",
              "  [theme=dark] .colab-df-quickchart {\n",
              "    background-color: #3B4455;\n",
              "    fill: #D2E3FC;\n",
              "  }\n",
              "\n",
              "  [theme=dark] .colab-df-quickchart:hover {\n",
              "    background-color: #434B5C;\n",
              "    box-shadow: 0px 1px 3px 1px rgba(0, 0, 0, 0.15);\n",
              "    filter: drop-shadow(0px 1px 2px rgba(0, 0, 0, 0.3));\n",
              "    fill: #FFFFFF;\n",
              "  }\n",
              "</style>\n",
              "\n",
              "    <script>\n",
              "      async function quickchart(key) {\n",
              "        const containerElement = document.querySelector('#' + key);\n",
              "        const charts = await google.colab.kernel.invokeFunction(\n",
              "            'suggestCharts', [key], {});\n",
              "      }\n",
              "    </script>\n",
              "\n",
              "      <script>\n",
              "\n",
              "function displayQuickchartButton(domScope) {\n",
              "  let quickchartButtonEl =\n",
              "    domScope.querySelector('#df-fd1031cc-ac9f-4c4d-87b4-4d36f31c9fab button.colab-df-quickchart');\n",
              "  quickchartButtonEl.style.display =\n",
              "    google.colab.kernel.accessAllowed ? 'block' : 'none';\n",
              "}\n",
              "\n",
              "        displayQuickchartButton(document);\n",
              "      </script>\n",
              "      <style>\n",
              "    .colab-df-container {\n",
              "      display:flex;\n",
              "      flex-wrap:wrap;\n",
              "      gap: 12px;\n",
              "    }\n",
              "\n",
              "    .colab-df-convert {\n",
              "      background-color: #E8F0FE;\n",
              "      border: none;\n",
              "      border-radius: 50%;\n",
              "      cursor: pointer;\n",
              "      display: none;\n",
              "      fill: #1967D2;\n",
              "      height: 32px;\n",
              "      padding: 0 0 0 0;\n",
              "      width: 32px;\n",
              "    }\n",
              "\n",
              "    .colab-df-convert:hover {\n",
              "      background-color: #E2EBFA;\n",
              "      box-shadow: 0px 1px 2px rgba(60, 64, 67, 0.3), 0px 1px 3px 1px rgba(60, 64, 67, 0.15);\n",
              "      fill: #174EA6;\n",
              "    }\n",
              "\n",
              "    [theme=dark] .colab-df-convert {\n",
              "      background-color: #3B4455;\n",
              "      fill: #D2E3FC;\n",
              "    }\n",
              "\n",
              "    [theme=dark] .colab-df-convert:hover {\n",
              "      background-color: #434B5C;\n",
              "      box-shadow: 0px 1px 3px 1px rgba(0, 0, 0, 0.15);\n",
              "      filter: drop-shadow(0px 1px 2px rgba(0, 0, 0, 0.3));\n",
              "      fill: #FFFFFF;\n",
              "    }\n",
              "  </style>\n",
              "\n",
              "      <script>\n",
              "        const buttonEl =\n",
              "          document.querySelector('#df-a36e6760-fdab-4ef1-a86f-e9c5bfb2e54b button.colab-df-convert');\n",
              "        buttonEl.style.display =\n",
              "          google.colab.kernel.accessAllowed ? 'block' : 'none';\n",
              "\n",
              "        async function convertToInteractive(key) {\n",
              "          const element = document.querySelector('#df-a36e6760-fdab-4ef1-a86f-e9c5bfb2e54b');\n",
              "          const dataTable =\n",
              "            await google.colab.kernel.invokeFunction('convertToInteractive',\n",
              "                                                     [key], {});\n",
              "          if (!dataTable) return;\n",
              "\n",
              "          const docLinkHtml = 'Like what you see? Visit the ' +\n",
              "            '<a target=\"_blank\" href=https://colab.research.google.com/notebooks/data_table.ipynb>data table notebook</a>'\n",
              "            + ' to learn more about interactive tables.';\n",
              "          element.innerHTML = '';\n",
              "          dataTable['output_type'] = 'display_data';\n",
              "          await google.colab.output.renderOutput(dataTable, element);\n",
              "          const docLink = document.createElement('div');\n",
              "          docLink.innerHTML = docLinkHtml;\n",
              "          element.appendChild(docLink);\n",
              "        }\n",
              "      </script>\n",
              "    </div>\n",
              "  </div>\n"
            ]
          },
          "metadata": {},
          "execution_count": 200
        }
      ]
    },
    {
      "cell_type": "code",
      "source": [
        "ccdd_fd = cd_fd.to_numpy()\n",
        "cd_for_itr_fd = ccdd_tx[:,1:]\n",
        "cd_for_itr_fd"
      ],
      "metadata": {
        "id": "lyL9UFZoVmBn",
        "outputId": "d908307d-207d-4cd6-b126-c3598ef510c1",
        "colab": {
          "base_uri": "https://localhost:8080/"
        }
      },
      "execution_count": 201,
      "outputs": [
        {
          "output_type": "execute_result",
          "data": {
            "text/plain": [
              "array([[1, 6],\n",
              "       [2, 5],\n",
              "       [3, 5],\n",
              "       [4, 6],\n",
              "       [5, 6],\n",
              "       [6, 6],\n",
              "       [7, 6],\n",
              "       [8, 5],\n",
              "       [9, 5],\n",
              "       [10, 5],\n",
              "       [11, 5],\n",
              "       [12, 5],\n",
              "       [13, 5],\n",
              "       [14, 5],\n",
              "       [15, 5],\n",
              "       [16, 6],\n",
              "       [17, 5],\n",
              "       [18, 6],\n",
              "       [19, 5],\n",
              "       [20, 4],\n",
              "       [21, 1],\n",
              "       [22, 5],\n",
              "       [23, 5],\n",
              "       [24, 5],\n",
              "       [25, 6],\n",
              "       [26, 5],\n",
              "       [27, 6],\n",
              "       [28, 6],\n",
              "       [29, 5],\n",
              "       [30, 5],\n",
              "       [31, 6],\n",
              "       [32, 5],\n",
              "       [33, 5],\n",
              "       [34, 5],\n",
              "       [35, 6],\n",
              "       [36, 6],\n",
              "       [37, 6],\n",
              "       [38, 3],\n",
              "       [39, 6],\n",
              "       [40, 6],\n",
              "       [41, 6],\n",
              "       [42, 5],\n",
              "       [43, 6],\n",
              "       [44, 2],\n",
              "       [45, 5],\n",
              "       [46, 5],\n",
              "       [47, 6],\n",
              "       [48, 6],\n",
              "       [49, 6],\n",
              "       [50, 6],\n",
              "       [51, 6],\n",
              "       [52, 6],\n",
              "       [53, 5],\n",
              "       [54, 6],\n",
              "       [55, 6],\n",
              "       [56, 6],\n",
              "       [57, 6],\n",
              "       [58, 5],\n",
              "       [59, 6],\n",
              "       [60, 6],\n",
              "       [61, 6],\n",
              "       [62, 6],\n",
              "       [63, 6],\n",
              "       [64, 6],\n",
              "       [65, 6],\n",
              "       [66, 6],\n",
              "       [67, 6]], dtype=object)"
            ]
          },
          "metadata": {},
          "execution_count": 201
        }
      ]
    },
    {
      "cell_type": "code",
      "source": [
        "Mtx_fd= np.zeros((18,402)) # 부문통합을 위한 코드가 많을 경우 상기의 코드를 수작업으로 미리 하는 것이 쉽자 않으므로 반복문을 통해 3x33 임시코드 만들기\n",
        "cd_3 = cd_for_itr_fd[:,1]\n",
        "cd_33 = cd_for_itr_fd[:,0]\n",
        "row=cd_3\n",
        "col=cd_33\n",
        "for i, j in zip(row,col):\n",
        "  Mtx_fd[i-1,j-1] = 1\n",
        "print(Mtx_fd)"
      ],
      "metadata": {
        "id": "-DfyrxNAVmEF",
        "outputId": "70b8601c-5501-4c9a-c311-309e7e916252",
        "colab": {
          "base_uri": "https://localhost:8080/"
        }
      },
      "execution_count": 217,
      "outputs": [
        {
          "output_type": "stream",
          "name": "stdout",
          "text": [
            "[[0. 0. 0. ... 0. 0. 0.]\n",
            " [0. 0. 0. ... 0. 0. 0.]\n",
            " [0. 0. 0. ... 0. 0. 0.]\n",
            " ...\n",
            " [0. 0. 0. ... 0. 0. 0.]\n",
            " [0. 0. 0. ... 0. 0. 0.]\n",
            " [0. 0. 0. ... 0. 0. 0.]]\n"
          ]
        }
      ]
    },
    {
      "cell_type": "code",
      "source": [
        "code_fd = Mtx_fd\n",
        "code_fd.shape"
      ],
      "metadata": {
        "id": "DCfHIGyDVmGS",
        "outputId": "03be69b9-331c-4606-c4ad-47b38a73ab85",
        "colab": {
          "base_uri": "https://localhost:8080/"
        }
      },
      "execution_count": 218,
      "outputs": [
        {
          "output_type": "execute_result",
          "data": {
            "text/plain": [
              "(18, 402)"
            ]
          },
          "metadata": {},
          "execution_count": 218
        }
      ]
    },
    {
      "cell_type": "code",
      "source": [
        "zz = icio_2[0:3195,3195:3597]\n",
        "zz"
      ],
      "metadata": {
        "id": "iN12_hkuWNlZ",
        "outputId": "797447bd-a50e-47e9-bf4c-e005f1ba597e",
        "colab": {
          "base_uri": "https://localhost:8080/"
        }
      },
      "execution_count": 219,
      "outputs": [
        {
          "output_type": "execute_result",
          "data": {
            "text/plain": [
              "array([[12751.45704, 5.816926, 365.686002, ..., 37.228929, 0.042162,\n",
              "        18.786884],\n",
              "       [2460.722181, 0.960014, 40.184818, ..., 1.834539, 0.002112,\n",
              "        2.253717],\n",
              "       [5295.706289, 0.296092, 61.641838, ..., 8.313043, 1.700465,\n",
              "        2.181065],\n",
              "       ...,\n",
              "       [0.0, 0.0, 0.0, ..., 0.0, 0.0, 0.0],\n",
              "       [0.0, 0.0, 0.0, ..., 0.0, 0.0, 0.0],\n",
              "       [0.0, 0.0, 0.0, ..., 0.0, 0.0, 0.0]], dtype=object)"
            ]
          },
          "metadata": {},
          "execution_count": 219
        }
      ]
    },
    {
      "cell_type": "code",
      "source": [
        "fd = code@icio_2[0:3195,3195:3597]@code_fd.T # 세금 행을 6부문으로 만들기\n",
        "fd.sum()"
      ],
      "metadata": {
        "id": "Q0YhpDKhVmIY",
        "outputId": "73bd4578-2fb0-4d38-b322-88d6ba9cd6a8",
        "colab": {
          "base_uri": "https://localhost:8080/"
        }
      },
      "execution_count": 224,
      "outputs": [
        {
          "output_type": "execute_result",
          "data": {
            "text/plain": [
              "6772483.217095001"
            ]
          },
          "metadata": {},
          "execution_count": 224
        }
      ]
    },
    {
      "cell_type": "code",
      "source": [],
      "metadata": {
        "id": "ydBppFx_VmKX"
      },
      "execution_count": null,
      "outputs": []
    },
    {
      "cell_type": "code",
      "source": [],
      "metadata": {
        "id": "9AmJvsmzVmMM"
      },
      "execution_count": null,
      "outputs": []
    },
    {
      "cell_type": "code",
      "source": [],
      "metadata": {
        "id": "8e_Mqf7KVmOa"
      },
      "execution_count": null,
      "outputs": []
    },
    {
      "cell_type": "code",
      "source": [],
      "metadata": {
        "id": "Ic43tRaAVmQd"
      },
      "execution_count": null,
      "outputs": []
    },
    {
      "cell_type": "code",
      "source": [
        "url_RIO_33 = \"https://raw.githubusercontent.com/Tom-Jung/legendary-funicular/main/Regional_Matrix.csv\"  # 33부문의 지역IO 불러오기\n",
        "RIO_33 = pd.read_csv(url_RIO_33)\n",
        "RIO_33.head()\n",
        "\n",
        "url_RIO_emp_33 = \"https://raw.githubusercontent.com/Tom-Jung/legendary-funicular/main/Regional_employment.csv\"  # 33부문의 지역고용표 불러오기\n",
        "emp_33 = pd.read_csv(url_RIO_emp_33)\n",
        "emp_33.head()"
      ],
      "metadata": {
        "colab": {
          "base_uri": "https://localhost:8080/",
          "height": 206
        },
        "id": "8D9y7bqcuL7m",
        "outputId": "399f0c1e-a64f-476d-f183-a82e25e22d5b"
      },
      "execution_count": 198,
      "outputs": [
        {
          "output_type": "execute_result",
          "data": {
            "text/plain": [
              "           코드명      서울     인천      경기    대전    세종     충북      충남    광주  \\\n",
              "0        농림수산품    2887  12953  119703  5816  4735  83061  140240  8753   \n",
              "1          광산품      78    401     920    13    93    887     463    27   \n",
              "2         음식료품   11372  16046   89673  5102  1185  22604   21421  3643   \n",
              "3    섬유 및 가죽제품  134289   6393   74197  1770   152   4652    4758  2332   \n",
              "4  목재 및 종이, 인쇄   36720  14447   67315  4033  1473   8942    5519  2181   \n",
              "\n",
              "       전북      전남     대구      경북     부산    울산      경남     강원     제주      전지역  \n",
              "0  121499  192577  13996  208981  17708  9851  144639  90467  49656  1227524  \n",
              "1     744     929      9     885     80   439     488   5210    293    11960  \n",
              "2   24910   17887   7801   18990  14684  2685   30000  14586   5888   308474  \n",
              "3    4101    1549  29466   23736  29323  5081   10397    522    311   333026  \n",
              "4    5360    1795   8871    7419   6278  4785    8656   1080    564   185435  "
            ],
            "text/html": [
              "\n",
              "\n",
              "  <div id=\"df-4ee5ad91-e842-4787-9e91-90498cfd4cea\">\n",
              "    <div class=\"colab-df-container\">\n",
              "      <div>\n",
              "<style scoped>\n",
              "    .dataframe tbody tr th:only-of-type {\n",
              "        vertical-align: middle;\n",
              "    }\n",
              "\n",
              "    .dataframe tbody tr th {\n",
              "        vertical-align: top;\n",
              "    }\n",
              "\n",
              "    .dataframe thead th {\n",
              "        text-align: right;\n",
              "    }\n",
              "</style>\n",
              "<table border=\"1\" class=\"dataframe\">\n",
              "  <thead>\n",
              "    <tr style=\"text-align: right;\">\n",
              "      <th></th>\n",
              "      <th>코드명</th>\n",
              "      <th>서울</th>\n",
              "      <th>인천</th>\n",
              "      <th>경기</th>\n",
              "      <th>대전</th>\n",
              "      <th>세종</th>\n",
              "      <th>충북</th>\n",
              "      <th>충남</th>\n",
              "      <th>광주</th>\n",
              "      <th>전북</th>\n",
              "      <th>전남</th>\n",
              "      <th>대구</th>\n",
              "      <th>경북</th>\n",
              "      <th>부산</th>\n",
              "      <th>울산</th>\n",
              "      <th>경남</th>\n",
              "      <th>강원</th>\n",
              "      <th>제주</th>\n",
              "      <th>전지역</th>\n",
              "    </tr>\n",
              "  </thead>\n",
              "  <tbody>\n",
              "    <tr>\n",
              "      <th>0</th>\n",
              "      <td>농림수산품</td>\n",
              "      <td>2887</td>\n",
              "      <td>12953</td>\n",
              "      <td>119703</td>\n",
              "      <td>5816</td>\n",
              "      <td>4735</td>\n",
              "      <td>83061</td>\n",
              "      <td>140240</td>\n",
              "      <td>8753</td>\n",
              "      <td>121499</td>\n",
              "      <td>192577</td>\n",
              "      <td>13996</td>\n",
              "      <td>208981</td>\n",
              "      <td>17708</td>\n",
              "      <td>9851</td>\n",
              "      <td>144639</td>\n",
              "      <td>90467</td>\n",
              "      <td>49656</td>\n",
              "      <td>1227524</td>\n",
              "    </tr>\n",
              "    <tr>\n",
              "      <th>1</th>\n",
              "      <td>광산품</td>\n",
              "      <td>78</td>\n",
              "      <td>401</td>\n",
              "      <td>920</td>\n",
              "      <td>13</td>\n",
              "      <td>93</td>\n",
              "      <td>887</td>\n",
              "      <td>463</td>\n",
              "      <td>27</td>\n",
              "      <td>744</td>\n",
              "      <td>929</td>\n",
              "      <td>9</td>\n",
              "      <td>885</td>\n",
              "      <td>80</td>\n",
              "      <td>439</td>\n",
              "      <td>488</td>\n",
              "      <td>5210</td>\n",
              "      <td>293</td>\n",
              "      <td>11960</td>\n",
              "    </tr>\n",
              "    <tr>\n",
              "      <th>2</th>\n",
              "      <td>음식료품</td>\n",
              "      <td>11372</td>\n",
              "      <td>16046</td>\n",
              "      <td>89673</td>\n",
              "      <td>5102</td>\n",
              "      <td>1185</td>\n",
              "      <td>22604</td>\n",
              "      <td>21421</td>\n",
              "      <td>3643</td>\n",
              "      <td>24910</td>\n",
              "      <td>17887</td>\n",
              "      <td>7801</td>\n",
              "      <td>18990</td>\n",
              "      <td>14684</td>\n",
              "      <td>2685</td>\n",
              "      <td>30000</td>\n",
              "      <td>14586</td>\n",
              "      <td>5888</td>\n",
              "      <td>308474</td>\n",
              "    </tr>\n",
              "    <tr>\n",
              "      <th>3</th>\n",
              "      <td>섬유 및 가죽제품</td>\n",
              "      <td>134289</td>\n",
              "      <td>6393</td>\n",
              "      <td>74197</td>\n",
              "      <td>1770</td>\n",
              "      <td>152</td>\n",
              "      <td>4652</td>\n",
              "      <td>4758</td>\n",
              "      <td>2332</td>\n",
              "      <td>4101</td>\n",
              "      <td>1549</td>\n",
              "      <td>29466</td>\n",
              "      <td>23736</td>\n",
              "      <td>29323</td>\n",
              "      <td>5081</td>\n",
              "      <td>10397</td>\n",
              "      <td>522</td>\n",
              "      <td>311</td>\n",
              "      <td>333026</td>\n",
              "    </tr>\n",
              "    <tr>\n",
              "      <th>4</th>\n",
              "      <td>목재 및 종이, 인쇄</td>\n",
              "      <td>36720</td>\n",
              "      <td>14447</td>\n",
              "      <td>67315</td>\n",
              "      <td>4033</td>\n",
              "      <td>1473</td>\n",
              "      <td>8942</td>\n",
              "      <td>5519</td>\n",
              "      <td>2181</td>\n",
              "      <td>5360</td>\n",
              "      <td>1795</td>\n",
              "      <td>8871</td>\n",
              "      <td>7419</td>\n",
              "      <td>6278</td>\n",
              "      <td>4785</td>\n",
              "      <td>8656</td>\n",
              "      <td>1080</td>\n",
              "      <td>564</td>\n",
              "      <td>185435</td>\n",
              "    </tr>\n",
              "  </tbody>\n",
              "</table>\n",
              "</div>\n",
              "      <button class=\"colab-df-convert\" onclick=\"convertToInteractive('df-4ee5ad91-e842-4787-9e91-90498cfd4cea')\"\n",
              "              title=\"Convert this dataframe to an interactive table.\"\n",
              "              style=\"display:none;\">\n",
              "\n",
              "  <svg xmlns=\"http://www.w3.org/2000/svg\" height=\"24px\"viewBox=\"0 0 24 24\"\n",
              "       width=\"24px\">\n",
              "    <path d=\"M0 0h24v24H0V0z\" fill=\"none\"/>\n",
              "    <path d=\"M18.56 5.44l.94 2.06.94-2.06 2.06-.94-2.06-.94-.94-2.06-.94 2.06-2.06.94zm-11 1L8.5 8.5l.94-2.06 2.06-.94-2.06-.94L8.5 2.5l-.94 2.06-2.06.94zm10 10l.94 2.06.94-2.06 2.06-.94-2.06-.94-.94-2.06-.94 2.06-2.06.94z\"/><path d=\"M17.41 7.96l-1.37-1.37c-.4-.4-.92-.59-1.43-.59-.52 0-1.04.2-1.43.59L10.3 9.45l-7.72 7.72c-.78.78-.78 2.05 0 2.83L4 21.41c.39.39.9.59 1.41.59.51 0 1.02-.2 1.41-.59l7.78-7.78 2.81-2.81c.8-.78.8-2.07 0-2.86zM5.41 20L4 18.59l7.72-7.72 1.47 1.35L5.41 20z\"/>\n",
              "  </svg>\n",
              "      </button>\n",
              "\n",
              "\n",
              "\n",
              "    <div id=\"df-e145544f-555f-42a7-b878-2afb980c6e04\">\n",
              "      <button class=\"colab-df-quickchart\" onclick=\"quickchart('df-e145544f-555f-42a7-b878-2afb980c6e04')\"\n",
              "              title=\"Suggest charts.\"\n",
              "              style=\"display:none;\">\n",
              "\n",
              "<svg xmlns=\"http://www.w3.org/2000/svg\" height=\"24px\"viewBox=\"0 0 24 24\"\n",
              "     width=\"24px\">\n",
              "    <g>\n",
              "        <path d=\"M19 3H5c-1.1 0-2 .9-2 2v14c0 1.1.9 2 2 2h14c1.1 0 2-.9 2-2V5c0-1.1-.9-2-2-2zM9 17H7v-7h2v7zm4 0h-2V7h2v10zm4 0h-2v-4h2v4z\"/>\n",
              "    </g>\n",
              "</svg>\n",
              "      </button>\n",
              "    </div>\n",
              "\n",
              "<style>\n",
              "  .colab-df-quickchart {\n",
              "    background-color: #E8F0FE;\n",
              "    border: none;\n",
              "    border-radius: 50%;\n",
              "    cursor: pointer;\n",
              "    display: none;\n",
              "    fill: #1967D2;\n",
              "    height: 32px;\n",
              "    padding: 0 0 0 0;\n",
              "    width: 32px;\n",
              "  }\n",
              "\n",
              "  .colab-df-quickchart:hover {\n",
              "    background-color: #E2EBFA;\n",
              "    box-shadow: 0px 1px 2px rgba(60, 64, 67, 0.3), 0px 1px 3px 1px rgba(60, 64, 67, 0.15);\n",
              "    fill: #174EA6;\n",
              "  }\n",
              "\n",
              "  [theme=dark] .colab-df-quickchart {\n",
              "    background-color: #3B4455;\n",
              "    fill: #D2E3FC;\n",
              "  }\n",
              "\n",
              "  [theme=dark] .colab-df-quickchart:hover {\n",
              "    background-color: #434B5C;\n",
              "    box-shadow: 0px 1px 3px 1px rgba(0, 0, 0, 0.15);\n",
              "    filter: drop-shadow(0px 1px 2px rgba(0, 0, 0, 0.3));\n",
              "    fill: #FFFFFF;\n",
              "  }\n",
              "</style>\n",
              "\n",
              "    <script>\n",
              "      async function quickchart(key) {\n",
              "        const containerElement = document.querySelector('#' + key);\n",
              "        const charts = await google.colab.kernel.invokeFunction(\n",
              "            'suggestCharts', [key], {});\n",
              "      }\n",
              "    </script>\n",
              "\n",
              "      <script>\n",
              "\n",
              "function displayQuickchartButton(domScope) {\n",
              "  let quickchartButtonEl =\n",
              "    domScope.querySelector('#df-e145544f-555f-42a7-b878-2afb980c6e04 button.colab-df-quickchart');\n",
              "  quickchartButtonEl.style.display =\n",
              "    google.colab.kernel.accessAllowed ? 'block' : 'none';\n",
              "}\n",
              "\n",
              "        displayQuickchartButton(document);\n",
              "      </script>\n",
              "      <style>\n",
              "    .colab-df-container {\n",
              "      display:flex;\n",
              "      flex-wrap:wrap;\n",
              "      gap: 12px;\n",
              "    }\n",
              "\n",
              "    .colab-df-convert {\n",
              "      background-color: #E8F0FE;\n",
              "      border: none;\n",
              "      border-radius: 50%;\n",
              "      cursor: pointer;\n",
              "      display: none;\n",
              "      fill: #1967D2;\n",
              "      height: 32px;\n",
              "      padding: 0 0 0 0;\n",
              "      width: 32px;\n",
              "    }\n",
              "\n",
              "    .colab-df-convert:hover {\n",
              "      background-color: #E2EBFA;\n",
              "      box-shadow: 0px 1px 2px rgba(60, 64, 67, 0.3), 0px 1px 3px 1px rgba(60, 64, 67, 0.15);\n",
              "      fill: #174EA6;\n",
              "    }\n",
              "\n",
              "    [theme=dark] .colab-df-convert {\n",
              "      background-color: #3B4455;\n",
              "      fill: #D2E3FC;\n",
              "    }\n",
              "\n",
              "    [theme=dark] .colab-df-convert:hover {\n",
              "      background-color: #434B5C;\n",
              "      box-shadow: 0px 1px 3px 1px rgba(0, 0, 0, 0.15);\n",
              "      filter: drop-shadow(0px 1px 2px rgba(0, 0, 0, 0.3));\n",
              "      fill: #FFFFFF;\n",
              "    }\n",
              "  </style>\n",
              "\n",
              "      <script>\n",
              "        const buttonEl =\n",
              "          document.querySelector('#df-4ee5ad91-e842-4787-9e91-90498cfd4cea button.colab-df-convert');\n",
              "        buttonEl.style.display =\n",
              "          google.colab.kernel.accessAllowed ? 'block' : 'none';\n",
              "\n",
              "        async function convertToInteractive(key) {\n",
              "          const element = document.querySelector('#df-4ee5ad91-e842-4787-9e91-90498cfd4cea');\n",
              "          const dataTable =\n",
              "            await google.colab.kernel.invokeFunction('convertToInteractive',\n",
              "                                                     [key], {});\n",
              "          if (!dataTable) return;\n",
              "\n",
              "          const docLinkHtml = 'Like what you see? Visit the ' +\n",
              "            '<a target=\"_blank\" href=https://colab.research.google.com/notebooks/data_table.ipynb>data table notebook</a>'\n",
              "            + ' to learn more about interactive tables.';\n",
              "          element.innerHTML = '';\n",
              "          dataTable['output_type'] = 'display_data';\n",
              "          await google.colab.output.renderOutput(dataTable, element);\n",
              "          const docLink = document.createElement('div');\n",
              "          docLink.innerHTML = docLinkHtml;\n",
              "          element.appendChild(docLink);\n",
              "        }\n",
              "      </script>\n",
              "    </div>\n",
              "  </div>\n"
            ]
          },
          "metadata": {},
          "execution_count": 198
        }
      ]
    },
    {
      "cell_type": "code",
      "source": [
        "RRIO_33 = RIO_33.to_numpy()\n",
        "RI_33 = RRIO_33[2:,3:].astype(float)\n",
        "RI_33.shape"
      ],
      "metadata": {
        "colab": {
          "base_uri": "https://localhost:8080/"
        },
        "id": "3Rq2EJgr1YSW",
        "outputId": "4fc608b3-0eea-4f92-f10d-380d9164416c"
      },
      "execution_count": 199,
      "outputs": [
        {
          "output_type": "execute_result",
          "data": {
            "text/plain": [
              "(603, 686)"
            ]
          },
          "metadata": {},
          "execution_count": 199
        }
      ]
    },
    {
      "cell_type": "code",
      "source": [
        "ep_33 = emp_33.to_numpy()\n",
        "ep_33 = ep_33[:,1:].astype(float)\n",
        "ep_33"
      ],
      "metadata": {
        "colab": {
          "base_uri": "https://localhost:8080/"
        },
        "id": "KTuvCzjHWf4s",
        "outputId": "084a538b-36c9-4cd9-bccd-b1be2bdabb9b"
      },
      "execution_count": 134,
      "outputs": [
        {
          "output_type": "execute_result",
          "data": {
            "text/plain": [
              "array([[    2887.,    12953.,   119703.,     5816.,     4735.,    83061.,\n",
              "          140240.,     8753.,   121499.,   192577.,    13996.,   208981.,\n",
              "           17708.,     9851.,   144639.,    90467.,    49656.,  1227524.],\n",
              "       [      78.,      401.,      920.,       13.,       93.,      887.,\n",
              "             463.,       27.,      744.,      929.,        9.,      885.,\n",
              "              80.,      439.,      488.,     5210.,      293.,    11960.],\n",
              "       [   11372.,    16046.,    89673.,     5102.,     1185.,    22604.,\n",
              "           21421.,     3643.,    24910.,    17887.,     7801.,    18990.,\n",
              "           14684.,     2685.,    30000.,    14586.,     5888.,   308474.],\n",
              "       [  134289.,     6393.,    74197.,     1770.,      152.,     4652.,\n",
              "            4758.,     2332.,     4101.,     1549.,    29466.,    23736.,\n",
              "           29323.,     5081.,    10397.,      522.,      311.,   333026.],\n",
              "       [   36720.,    14447.,    67315.,     4033.,     1473.,     8942.,\n",
              "            5519.,     2181.,     5360.,     1795.,     8871.,     7419.,\n",
              "            6278.,     4785.,     8656.,     1080.,      564.,   185435.],\n",
              "       [      54.,      964.,      172.,       11.,        5.,      100.,\n",
              "             917.,       10.,       21.,     1635.,       14.,      205.,\n",
              "              91.,     7383.,      128.,       56.,        1.,    11767.],\n",
              "       [    6879.,    21247.,   137290.,     9080.,     2889.,    32497.,\n",
              "           30539.,     8359.,    13910.,    33240.,    11136.,    28008.,\n",
              "           14055.,    25689.,    31556.,     4081.,      709.,   411165.],\n",
              "       [    1050.,     3084.,    27184.,      869.,     1766.,    10762.,\n",
              "           12247.,      698.,     5555.,     7170.,     1431.,    13784.,\n",
              "            2125.,     2225.,     8854.,     9310.,     1507.,   109621.],\n",
              "       [     844.,    13048.,    21834.,      630.,      145.,     2717.,\n",
              "           14433.,     1466.,     4546.,    14611.,     2281.,    29033.,\n",
              "           11639.,    12004.,    17815.,     1001.,        1.,   148048.],\n",
              "       [    8280.,    26651.,   110112.,     3723.,      283.,    11396.,\n",
              "           13913.,     5802.,     6049.,     7306.,    29634.,    33518.,\n",
              "           30427.,    14196.,    67965.,     1873.,      451.,   371579.],\n",
              "       [   19568.,    19332.,   197194.,     6840.,     3796.,    22669.,\n",
              "           38411.,     5248.,     2170.,      839.,     8667.,    62409.,\n",
              "           13606.,     2657.,    10887.,     4236.,      166.,   418692.],\n",
              "       [    7596.,    12964.,    71655.,     3354.,     1563.,    18805.,\n",
              "           18150.,    13379.,     2814.,     1659.,     6665.,    19585.,\n",
              "            9131.,    18952.,    30909.,     1929.,      135.,   239244.],\n",
              "       [   10744.,    36949.,   130074.,     7222.,      194.,     8023.,\n",
              "           21242.,    11062.,     7237.,     3803.,    20173.,    20728.,\n",
              "           25961.,    19609.,    66149.,     1732.,      163.,   391065.],\n",
              "       [     499.,    25662.,   120384.,     1622.,      720.,     8092.,\n",
              "           26879.,    22375.,    29207.,     7829.,    10579.,    23428.,\n",
              "           21501.,    75214.,   109378.,     3270.,        1.,   486639.],\n",
              "       [   15111.,    13877.,    83226.,     3028.,      212.,     4795.,\n",
              "            2374.,     2196.,     3196.,     2123.,     4831.,     5286.,\n",
              "            8150.,     2599.,     6899.,     2462.,     1109.,   161474.],\n",
              "       [   61097.,    31524.,   130636.,     2564.,     1612.,    20027.,\n",
              "           37343.,    13934.,    10351.,    15527.,    21493.,    38307.,\n",
              "           27162.,    25453.,    67008.,     4107.,     1170.,   509315.],\n",
              "       [    3529.,     9860.,    10611.,      577.,      429.,      966.,\n",
              "            8837.,      431.,     2385.,     6669.,      794.,     8307.,\n",
              "            5196.,     3106.,     6606.,     2678.,     1110.,    72090.],\n",
              "       [   10328.,     8133.,    28104.,     2272.,      607.,     5725.,\n",
              "            8038.,     3236.,     5294.,     6291.,     4804.,     9410.,\n",
              "            7260.,     2986.,    10190.,     3879.,     1006.,   117564.],\n",
              "       [  227582.,    84133.,   444865.,    30007.,    25444.,    53307.,\n",
              "          100511.,    39678.,    63747.,    86791.,    62490.,   108974.,\n",
              "           86773.,    47542.,   107369.,    63550.,    28295.,  1661056.],\n",
              "       [ 1209824.,   140262.,   681530.,    91253.,     5780.,    84355.,\n",
              "          101827.,   102725.,    91882.,    94946.,   175424.,   139952.,\n",
              "          254466.,    57659.,   167432.,    75601.,    45470.,  3520385.],\n",
              "       [  326718.,   116187.,   307469.,    42171.,     4269.,    35255.,\n",
              "           49682.,    32132.,    40466.,    50083.,    55884.,    68019.,\n",
              "          129111.,    35954.,    75793.,    30719.,    18396.,  1418305.],\n",
              "       [  500010.,    86293.,   410472.,    46384.,     6611.,    56624.,\n",
              "           74069.,    46911.,    60776.,    58222.,    74614.,    98067.,\n",
              "          133469.,    43317.,   118222.,    71978.,    42808.,  1928846.],\n",
              "       [  400211.,     5238.,   125227.,    14752.,      829.,     4658.,\n",
              "            6119.,     6829.,     4787.,     5125.,    13243.,    10001.,\n",
              "           15980.,     3912.,    10246.,     7016.,     5614.,   639787.],\n",
              "       [  293275.,    21404.,    86908.,    19156.,     1486.,    17098.,\n",
              "           15932.,    23001.,    19543.,    18533.,    30730.,    21827.,\n",
              "           48725.,    11557.,    31739.,    12171.,     8190.,   681274.],\n",
              "       [  194927.,    19035.,    96742.,    13947.,     3099.,    12958.,\n",
              "           13968.,    13817.,    11974.,     8562.,    20600.,    13951.,\n",
              "           30308.,     6911.,    21023.,     9867.,     3268.,   494957.],\n",
              "       [  551459.,    45543.,   369795.,    53339.,     4302.,    21528.,\n",
              "           40113.,    23185.,    19312.,    17316.,    31900.,    40899.,\n",
              "           51436.,    22832.,    44704.,    16112.,     6726.,  1360501.],\n",
              "       [  443600.,    48821.,   207178.,    45789.,     3431.,    33362.,\n",
              "           41379.,    25044.,    18848.,    25043.,    42524.,    40548.,\n",
              "           84611.,    30193.,    48562.,    27129.,    14749.,  1180809.],\n",
              "       [  173747.,    45658.,   223410.,    29166.,     5129.,    35628.,\n",
              "           53891.,    25148.,    53542.,    67134.,    46052.,    66722.,\n",
              "           61757.,    17077.,    75990.,    57980.,    18166.,  1056195.],\n",
              "       [  343436.,    75644.,   336621.,    46373.,     7119.,    43362.,\n",
              "           65531.,    44039.,    59077.,    50975.,    71551.,    82762.,\n",
              "           90902.,    32249.,    86271.,    49978.,    16362.,  1502252.],\n",
              "       [  342979.,    69141.,   304817.,    57419.,     4006.,    43442.,\n",
              "           64038.,    55802.,    69155.,    65675.,    82968.,    80674.,\n",
              "          105196.,    30271.,    95868.,    52888.,    22365.,  1546705.],\n",
              "       [  131889.,    15160.,    99861.,    11612.,     1218.,    10185.,\n",
              "           16716.,     8791.,    14221.,    11034.,    12194.,    16326.,\n",
              "           23504.,     6744.,    20915.,    19814.,    10849.,   431033.],\n",
              "       [  293405.,    56972.,   274978.,    39161.,     2741.,    32037.,\n",
              "           48505.,    35573.,    40715.,    36619.,    58937.,    56736.,\n",
              "           77160.,    20970.,    61457.,    33892.,    15559.,  1185415.],\n",
              "       [       0.,        0.,        0.,        0.,        0.,        0.,\n",
              "               0.,        0.,        0.,        0.,        0.,        0.,\n",
              "               0.,        0.,        0.,        0.,        0.,        0.],\n",
              "       [ 5763984.,  1103024.,  5390156.,   599053.,    97323.,   750519.,\n",
              "         1098004.,   587804.,   817391.,   919495.,   961755.,  1397476.,\n",
              "         1437772.,   602101.,  1594115.,   681174.,   321056., 24122201.]])"
            ]
          },
          "metadata": {},
          "execution_count": 134
        }
      ]
    },
    {
      "cell_type": "markdown",
      "source": [
        "## 국산거래표 통합하기"
      ],
      "metadata": {
        "id": "3vwObBQ_X-BA"
      }
    },
    {
      "cell_type": "code",
      "source": [
        "cd_for_R = \"https://raw.githubusercontent.com/Tom-Jung/legendary-funicular/main/code_regional_io.csv\"  # 코드매치 파일\n",
        "cdr = pd.read_csv(cd_for_R)\n",
        "cdr.head()"
      ],
      "metadata": {
        "colab": {
          "base_uri": "https://localhost:8080/",
          "height": 206
        },
        "id": "KV1GAn1LuMF5",
        "outputId": "732cc1ee-ea97-4027-8dba-d32a780ac2a8"
      },
      "execution_count": 135,
      "outputs": [
        {
          "output_type": "execute_result",
          "data": {
            "text/plain": [
              "    권역  지역 33부문          부문명  3부문  old_33부문  new_3부문및지역\n",
              "0  수도권  서울    A        농림수산품  농산품         1           1\n",
              "1  수도권  서울    B          광산품  공산품         2           2\n",
              "2  수도권  서울  C01         음식료품  공산품         3           2\n",
              "3  수도권  서울  C02    섬유 및 가죽제품  공산품         4           2\n",
              "4  수도권  서울  C03  목재 및 종이, 인쇄  공산품         5           2"
            ],
            "text/html": [
              "\n",
              "\n",
              "  <div id=\"df-c3087345-ab19-49d8-a6d9-2d79a591d434\">\n",
              "    <div class=\"colab-df-container\">\n",
              "      <div>\n",
              "<style scoped>\n",
              "    .dataframe tbody tr th:only-of-type {\n",
              "        vertical-align: middle;\n",
              "    }\n",
              "\n",
              "    .dataframe tbody tr th {\n",
              "        vertical-align: top;\n",
              "    }\n",
              "\n",
              "    .dataframe thead th {\n",
              "        text-align: right;\n",
              "    }\n",
              "</style>\n",
              "<table border=\"1\" class=\"dataframe\">\n",
              "  <thead>\n",
              "    <tr style=\"text-align: right;\">\n",
              "      <th></th>\n",
              "      <th>권역</th>\n",
              "      <th>지역</th>\n",
              "      <th>33부문</th>\n",
              "      <th>부문명</th>\n",
              "      <th>3부문</th>\n",
              "      <th>old_33부문</th>\n",
              "      <th>new_3부문및지역</th>\n",
              "    </tr>\n",
              "  </thead>\n",
              "  <tbody>\n",
              "    <tr>\n",
              "      <th>0</th>\n",
              "      <td>수도권</td>\n",
              "      <td>서울</td>\n",
              "      <td>A</td>\n",
              "      <td>농림수산품</td>\n",
              "      <td>농산품</td>\n",
              "      <td>1</td>\n",
              "      <td>1</td>\n",
              "    </tr>\n",
              "    <tr>\n",
              "      <th>1</th>\n",
              "      <td>수도권</td>\n",
              "      <td>서울</td>\n",
              "      <td>B</td>\n",
              "      <td>광산품</td>\n",
              "      <td>공산품</td>\n",
              "      <td>2</td>\n",
              "      <td>2</td>\n",
              "    </tr>\n",
              "    <tr>\n",
              "      <th>2</th>\n",
              "      <td>수도권</td>\n",
              "      <td>서울</td>\n",
              "      <td>C01</td>\n",
              "      <td>음식료품</td>\n",
              "      <td>공산품</td>\n",
              "      <td>3</td>\n",
              "      <td>2</td>\n",
              "    </tr>\n",
              "    <tr>\n",
              "      <th>3</th>\n",
              "      <td>수도권</td>\n",
              "      <td>서울</td>\n",
              "      <td>C02</td>\n",
              "      <td>섬유 및 가죽제품</td>\n",
              "      <td>공산품</td>\n",
              "      <td>4</td>\n",
              "      <td>2</td>\n",
              "    </tr>\n",
              "    <tr>\n",
              "      <th>4</th>\n",
              "      <td>수도권</td>\n",
              "      <td>서울</td>\n",
              "      <td>C03</td>\n",
              "      <td>목재 및 종이, 인쇄</td>\n",
              "      <td>공산품</td>\n",
              "      <td>5</td>\n",
              "      <td>2</td>\n",
              "    </tr>\n",
              "  </tbody>\n",
              "</table>\n",
              "</div>\n",
              "      <button class=\"colab-df-convert\" onclick=\"convertToInteractive('df-c3087345-ab19-49d8-a6d9-2d79a591d434')\"\n",
              "              title=\"Convert this dataframe to an interactive table.\"\n",
              "              style=\"display:none;\">\n",
              "\n",
              "  <svg xmlns=\"http://www.w3.org/2000/svg\" height=\"24px\"viewBox=\"0 0 24 24\"\n",
              "       width=\"24px\">\n",
              "    <path d=\"M0 0h24v24H0V0z\" fill=\"none\"/>\n",
              "    <path d=\"M18.56 5.44l.94 2.06.94-2.06 2.06-.94-2.06-.94-.94-2.06-.94 2.06-2.06.94zm-11 1L8.5 8.5l.94-2.06 2.06-.94-2.06-.94L8.5 2.5l-.94 2.06-2.06.94zm10 10l.94 2.06.94-2.06 2.06-.94-2.06-.94-.94-2.06-.94 2.06-2.06.94z\"/><path d=\"M17.41 7.96l-1.37-1.37c-.4-.4-.92-.59-1.43-.59-.52 0-1.04.2-1.43.59L10.3 9.45l-7.72 7.72c-.78.78-.78 2.05 0 2.83L4 21.41c.39.39.9.59 1.41.59.51 0 1.02-.2 1.41-.59l7.78-7.78 2.81-2.81c.8-.78.8-2.07 0-2.86zM5.41 20L4 18.59l7.72-7.72 1.47 1.35L5.41 20z\"/>\n",
              "  </svg>\n",
              "      </button>\n",
              "\n",
              "\n",
              "\n",
              "    <div id=\"df-a1d51846-8150-4414-b7b4-eab441c727fc\">\n",
              "      <button class=\"colab-df-quickchart\" onclick=\"quickchart('df-a1d51846-8150-4414-b7b4-eab441c727fc')\"\n",
              "              title=\"Suggest charts.\"\n",
              "              style=\"display:none;\">\n",
              "\n",
              "<svg xmlns=\"http://www.w3.org/2000/svg\" height=\"24px\"viewBox=\"0 0 24 24\"\n",
              "     width=\"24px\">\n",
              "    <g>\n",
              "        <path d=\"M19 3H5c-1.1 0-2 .9-2 2v14c0 1.1.9 2 2 2h14c1.1 0 2-.9 2-2V5c0-1.1-.9-2-2-2zM9 17H7v-7h2v7zm4 0h-2V7h2v10zm4 0h-2v-4h2v4z\"/>\n",
              "    </g>\n",
              "</svg>\n",
              "      </button>\n",
              "    </div>\n",
              "\n",
              "<style>\n",
              "  .colab-df-quickchart {\n",
              "    background-color: #E8F0FE;\n",
              "    border: none;\n",
              "    border-radius: 50%;\n",
              "    cursor: pointer;\n",
              "    display: none;\n",
              "    fill: #1967D2;\n",
              "    height: 32px;\n",
              "    padding: 0 0 0 0;\n",
              "    width: 32px;\n",
              "  }\n",
              "\n",
              "  .colab-df-quickchart:hover {\n",
              "    background-color: #E2EBFA;\n",
              "    box-shadow: 0px 1px 2px rgba(60, 64, 67, 0.3), 0px 1px 3px 1px rgba(60, 64, 67, 0.15);\n",
              "    fill: #174EA6;\n",
              "  }\n",
              "\n",
              "  [theme=dark] .colab-df-quickchart {\n",
              "    background-color: #3B4455;\n",
              "    fill: #D2E3FC;\n",
              "  }\n",
              "\n",
              "  [theme=dark] .colab-df-quickchart:hover {\n",
              "    background-color: #434B5C;\n",
              "    box-shadow: 0px 1px 3px 1px rgba(0, 0, 0, 0.15);\n",
              "    filter: drop-shadow(0px 1px 2px rgba(0, 0, 0, 0.3));\n",
              "    fill: #FFFFFF;\n",
              "  }\n",
              "</style>\n",
              "\n",
              "    <script>\n",
              "      async function quickchart(key) {\n",
              "        const containerElement = document.querySelector('#' + key);\n",
              "        const charts = await google.colab.kernel.invokeFunction(\n",
              "            'suggestCharts', [key], {});\n",
              "      }\n",
              "    </script>\n",
              "\n",
              "      <script>\n",
              "\n",
              "function displayQuickchartButton(domScope) {\n",
              "  let quickchartButtonEl =\n",
              "    domScope.querySelector('#df-a1d51846-8150-4414-b7b4-eab441c727fc button.colab-df-quickchart');\n",
              "  quickchartButtonEl.style.display =\n",
              "    google.colab.kernel.accessAllowed ? 'block' : 'none';\n",
              "}\n",
              "\n",
              "        displayQuickchartButton(document);\n",
              "      </script>\n",
              "      <style>\n",
              "    .colab-df-container {\n",
              "      display:flex;\n",
              "      flex-wrap:wrap;\n",
              "      gap: 12px;\n",
              "    }\n",
              "\n",
              "    .colab-df-convert {\n",
              "      background-color: #E8F0FE;\n",
              "      border: none;\n",
              "      border-radius: 50%;\n",
              "      cursor: pointer;\n",
              "      display: none;\n",
              "      fill: #1967D2;\n",
              "      height: 32px;\n",
              "      padding: 0 0 0 0;\n",
              "      width: 32px;\n",
              "    }\n",
              "\n",
              "    .colab-df-convert:hover {\n",
              "      background-color: #E2EBFA;\n",
              "      box-shadow: 0px 1px 2px rgba(60, 64, 67, 0.3), 0px 1px 3px 1px rgba(60, 64, 67, 0.15);\n",
              "      fill: #174EA6;\n",
              "    }\n",
              "\n",
              "    [theme=dark] .colab-df-convert {\n",
              "      background-color: #3B4455;\n",
              "      fill: #D2E3FC;\n",
              "    }\n",
              "\n",
              "    [theme=dark] .colab-df-convert:hover {\n",
              "      background-color: #434B5C;\n",
              "      box-shadow: 0px 1px 3px 1px rgba(0, 0, 0, 0.15);\n",
              "      filter: drop-shadow(0px 1px 2px rgba(0, 0, 0, 0.3));\n",
              "      fill: #FFFFFF;\n",
              "    }\n",
              "  </style>\n",
              "\n",
              "      <script>\n",
              "        const buttonEl =\n",
              "          document.querySelector('#df-c3087345-ab19-49d8-a6d9-2d79a591d434 button.colab-df-convert');\n",
              "        buttonEl.style.display =\n",
              "          google.colab.kernel.accessAllowed ? 'block' : 'none';\n",
              "\n",
              "        async function convertToInteractive(key) {\n",
              "          const element = document.querySelector('#df-c3087345-ab19-49d8-a6d9-2d79a591d434');\n",
              "          const dataTable =\n",
              "            await google.colab.kernel.invokeFunction('convertToInteractive',\n",
              "                                                     [key], {});\n",
              "          if (!dataTable) return;\n",
              "\n",
              "          const docLinkHtml = 'Like what you see? Visit the ' +\n",
              "            '<a target=\"_blank\" href=https://colab.research.google.com/notebooks/data_table.ipynb>data table notebook</a>'\n",
              "            + ' to learn more about interactive tables.';\n",
              "          element.innerHTML = '';\n",
              "          dataTable['output_type'] = 'display_data';\n",
              "          await google.colab.output.renderOutput(dataTable, element);\n",
              "          const docLink = document.createElement('div');\n",
              "          docLink.innerHTML = docLinkHtml;\n",
              "          element.appendChild(docLink);\n",
              "        }\n",
              "      </script>\n",
              "    </div>\n",
              "  </div>\n"
            ]
          },
          "metadata": {},
          "execution_count": 135
        }
      ]
    },
    {
      "cell_type": "code",
      "source": [
        "cdr_for_itr = cdr[[\"old_33부문\", \"new_3부문및지역\"]]\n",
        "cdr_for_itr.head()"
      ],
      "metadata": {
        "colab": {
          "base_uri": "https://localhost:8080/",
          "height": 206
        },
        "id": "koVuss6guMLX",
        "outputId": "b8b6483c-a13d-4875-8fb2-74a263a66d8d"
      },
      "execution_count": 136,
      "outputs": [
        {
          "output_type": "execute_result",
          "data": {
            "text/plain": [
              "   old_33부문  new_3부문및지역\n",
              "0         1           1\n",
              "1         2           2\n",
              "2         3           2\n",
              "3         4           2\n",
              "4         5           2"
            ],
            "text/html": [
              "\n",
              "\n",
              "  <div id=\"df-168af320-38cf-44b3-bdd0-f472d59b2596\">\n",
              "    <div class=\"colab-df-container\">\n",
              "      <div>\n",
              "<style scoped>\n",
              "    .dataframe tbody tr th:only-of-type {\n",
              "        vertical-align: middle;\n",
              "    }\n",
              "\n",
              "    .dataframe tbody tr th {\n",
              "        vertical-align: top;\n",
              "    }\n",
              "\n",
              "    .dataframe thead th {\n",
              "        text-align: right;\n",
              "    }\n",
              "</style>\n",
              "<table border=\"1\" class=\"dataframe\">\n",
              "  <thead>\n",
              "    <tr style=\"text-align: right;\">\n",
              "      <th></th>\n",
              "      <th>old_33부문</th>\n",
              "      <th>new_3부문및지역</th>\n",
              "    </tr>\n",
              "  </thead>\n",
              "  <tbody>\n",
              "    <tr>\n",
              "      <th>0</th>\n",
              "      <td>1</td>\n",
              "      <td>1</td>\n",
              "    </tr>\n",
              "    <tr>\n",
              "      <th>1</th>\n",
              "      <td>2</td>\n",
              "      <td>2</td>\n",
              "    </tr>\n",
              "    <tr>\n",
              "      <th>2</th>\n",
              "      <td>3</td>\n",
              "      <td>2</td>\n",
              "    </tr>\n",
              "    <tr>\n",
              "      <th>3</th>\n",
              "      <td>4</td>\n",
              "      <td>2</td>\n",
              "    </tr>\n",
              "    <tr>\n",
              "      <th>4</th>\n",
              "      <td>5</td>\n",
              "      <td>2</td>\n",
              "    </tr>\n",
              "  </tbody>\n",
              "</table>\n",
              "</div>\n",
              "      <button class=\"colab-df-convert\" onclick=\"convertToInteractive('df-168af320-38cf-44b3-bdd0-f472d59b2596')\"\n",
              "              title=\"Convert this dataframe to an interactive table.\"\n",
              "              style=\"display:none;\">\n",
              "\n",
              "  <svg xmlns=\"http://www.w3.org/2000/svg\" height=\"24px\"viewBox=\"0 0 24 24\"\n",
              "       width=\"24px\">\n",
              "    <path d=\"M0 0h24v24H0V0z\" fill=\"none\"/>\n",
              "    <path d=\"M18.56 5.44l.94 2.06.94-2.06 2.06-.94-2.06-.94-.94-2.06-.94 2.06-2.06.94zm-11 1L8.5 8.5l.94-2.06 2.06-.94-2.06-.94L8.5 2.5l-.94 2.06-2.06.94zm10 10l.94 2.06.94-2.06 2.06-.94-2.06-.94-.94-2.06-.94 2.06-2.06.94z\"/><path d=\"M17.41 7.96l-1.37-1.37c-.4-.4-.92-.59-1.43-.59-.52 0-1.04.2-1.43.59L10.3 9.45l-7.72 7.72c-.78.78-.78 2.05 0 2.83L4 21.41c.39.39.9.59 1.41.59.51 0 1.02-.2 1.41-.59l7.78-7.78 2.81-2.81c.8-.78.8-2.07 0-2.86zM5.41 20L4 18.59l7.72-7.72 1.47 1.35L5.41 20z\"/>\n",
              "  </svg>\n",
              "      </button>\n",
              "\n",
              "\n",
              "\n",
              "    <div id=\"df-551a8f0d-3a4e-436c-8ac8-4836d561b834\">\n",
              "      <button class=\"colab-df-quickchart\" onclick=\"quickchart('df-551a8f0d-3a4e-436c-8ac8-4836d561b834')\"\n",
              "              title=\"Suggest charts.\"\n",
              "              style=\"display:none;\">\n",
              "\n",
              "<svg xmlns=\"http://www.w3.org/2000/svg\" height=\"24px\"viewBox=\"0 0 24 24\"\n",
              "     width=\"24px\">\n",
              "    <g>\n",
              "        <path d=\"M19 3H5c-1.1 0-2 .9-2 2v14c0 1.1.9 2 2 2h14c1.1 0 2-.9 2-2V5c0-1.1-.9-2-2-2zM9 17H7v-7h2v7zm4 0h-2V7h2v10zm4 0h-2v-4h2v4z\"/>\n",
              "    </g>\n",
              "</svg>\n",
              "      </button>\n",
              "    </div>\n",
              "\n",
              "<style>\n",
              "  .colab-df-quickchart {\n",
              "    background-color: #E8F0FE;\n",
              "    border: none;\n",
              "    border-radius: 50%;\n",
              "    cursor: pointer;\n",
              "    display: none;\n",
              "    fill: #1967D2;\n",
              "    height: 32px;\n",
              "    padding: 0 0 0 0;\n",
              "    width: 32px;\n",
              "  }\n",
              "\n",
              "  .colab-df-quickchart:hover {\n",
              "    background-color: #E2EBFA;\n",
              "    box-shadow: 0px 1px 2px rgba(60, 64, 67, 0.3), 0px 1px 3px 1px rgba(60, 64, 67, 0.15);\n",
              "    fill: #174EA6;\n",
              "  }\n",
              "\n",
              "  [theme=dark] .colab-df-quickchart {\n",
              "    background-color: #3B4455;\n",
              "    fill: #D2E3FC;\n",
              "  }\n",
              "\n",
              "  [theme=dark] .colab-df-quickchart:hover {\n",
              "    background-color: #434B5C;\n",
              "    box-shadow: 0px 1px 3px 1px rgba(0, 0, 0, 0.15);\n",
              "    filter: drop-shadow(0px 1px 2px rgba(0, 0, 0, 0.3));\n",
              "    fill: #FFFFFF;\n",
              "  }\n",
              "</style>\n",
              "\n",
              "    <script>\n",
              "      async function quickchart(key) {\n",
              "        const containerElement = document.querySelector('#' + key);\n",
              "        const charts = await google.colab.kernel.invokeFunction(\n",
              "            'suggestCharts', [key], {});\n",
              "      }\n",
              "    </script>\n",
              "\n",
              "      <script>\n",
              "\n",
              "function displayQuickchartButton(domScope) {\n",
              "  let quickchartButtonEl =\n",
              "    domScope.querySelector('#df-551a8f0d-3a4e-436c-8ac8-4836d561b834 button.colab-df-quickchart');\n",
              "  quickchartButtonEl.style.display =\n",
              "    google.colab.kernel.accessAllowed ? 'block' : 'none';\n",
              "}\n",
              "\n",
              "        displayQuickchartButton(document);\n",
              "      </script>\n",
              "      <style>\n",
              "    .colab-df-container {\n",
              "      display:flex;\n",
              "      flex-wrap:wrap;\n",
              "      gap: 12px;\n",
              "    }\n",
              "\n",
              "    .colab-df-convert {\n",
              "      background-color: #E8F0FE;\n",
              "      border: none;\n",
              "      border-radius: 50%;\n",
              "      cursor: pointer;\n",
              "      display: none;\n",
              "      fill: #1967D2;\n",
              "      height: 32px;\n",
              "      padding: 0 0 0 0;\n",
              "      width: 32px;\n",
              "    }\n",
              "\n",
              "    .colab-df-convert:hover {\n",
              "      background-color: #E2EBFA;\n",
              "      box-shadow: 0px 1px 2px rgba(60, 64, 67, 0.3), 0px 1px 3px 1px rgba(60, 64, 67, 0.15);\n",
              "      fill: #174EA6;\n",
              "    }\n",
              "\n",
              "    [theme=dark] .colab-df-convert {\n",
              "      background-color: #3B4455;\n",
              "      fill: #D2E3FC;\n",
              "    }\n",
              "\n",
              "    [theme=dark] .colab-df-convert:hover {\n",
              "      background-color: #434B5C;\n",
              "      box-shadow: 0px 1px 3px 1px rgba(0, 0, 0, 0.15);\n",
              "      filter: drop-shadow(0px 1px 2px rgba(0, 0, 0, 0.3));\n",
              "      fill: #FFFFFF;\n",
              "    }\n",
              "  </style>\n",
              "\n",
              "      <script>\n",
              "        const buttonEl =\n",
              "          document.querySelector('#df-168af320-38cf-44b3-bdd0-f472d59b2596 button.colab-df-convert');\n",
              "        buttonEl.style.display =\n",
              "          google.colab.kernel.accessAllowed ? 'block' : 'none';\n",
              "\n",
              "        async function convertToInteractive(key) {\n",
              "          const element = document.querySelector('#df-168af320-38cf-44b3-bdd0-f472d59b2596');\n",
              "          const dataTable =\n",
              "            await google.colab.kernel.invokeFunction('convertToInteractive',\n",
              "                                                     [key], {});\n",
              "          if (!dataTable) return;\n",
              "\n",
              "          const docLinkHtml = 'Like what you see? Visit the ' +\n",
              "            '<a target=\"_blank\" href=https://colab.research.google.com/notebooks/data_table.ipynb>data table notebook</a>'\n",
              "            + ' to learn more about interactive tables.';\n",
              "          element.innerHTML = '';\n",
              "          dataTable['output_type'] = 'display_data';\n",
              "          await google.colab.output.renderOutput(dataTable, element);\n",
              "          const docLink = document.createElement('div');\n",
              "          docLink.innerHTML = docLinkHtml;\n",
              "          element.appendChild(docLink);\n",
              "        }\n",
              "      </script>\n",
              "    </div>\n",
              "  </div>\n"
            ]
          },
          "metadata": {},
          "execution_count": 136
        }
      ]
    },
    {
      "cell_type": "code",
      "source": [
        "cd_itr = cdr_for_itr.to_numpy()\n",
        "cd_itr.shape"
      ],
      "metadata": {
        "colab": {
          "base_uri": "https://localhost:8080/"
        },
        "id": "ZFsrVoy2xQOh",
        "outputId": "30bec951-f8fc-448a-82ec-1931830e7edd"
      },
      "execution_count": 137,
      "outputs": [
        {
          "output_type": "execute_result",
          "data": {
            "text/plain": [
              "(594, 2)"
            ]
          },
          "metadata": {},
          "execution_count": 137
        }
      ]
    },
    {
      "cell_type": "code",
      "source": [
        "row = cd_itr[:,1]\n",
        "col = cd_itr[:,0]\n",
        "col"
      ],
      "metadata": {
        "colab": {
          "base_uri": "https://localhost:8080/"
        },
        "id": "PvHQzpU5xQS9",
        "outputId": "b4dcebf3-1f5e-4969-8c41-6e7efa21346e"
      },
      "execution_count": 138,
      "outputs": [
        {
          "output_type": "execute_result",
          "data": {
            "text/plain": [
              "array([  1,   2,   3,   4,   5,   6,   7,   8,   9,  10,  11,  12,  13,\n",
              "        14,  15,  16,  17,  18,  19,  20,  21,  22,  23,  24,  25,  26,\n",
              "        27,  28,  29,  30,  31,  32,  33,  34,  35,  36,  37,  38,  39,\n",
              "        40,  41,  42,  43,  44,  45,  46,  47,  48,  49,  50,  51,  52,\n",
              "        53,  54,  55,  56,  57,  58,  59,  60,  61,  62,  63,  64,  65,\n",
              "        66,  67,  68,  69,  70,  71,  72,  73,  74,  75,  76,  77,  78,\n",
              "        79,  80,  81,  82,  83,  84,  85,  86,  87,  88,  89,  90,  91,\n",
              "        92,  93,  94,  95,  96,  97,  98,  99, 100, 101, 102, 103, 104,\n",
              "       105, 106, 107, 108, 109, 110, 111, 112, 113, 114, 115, 116, 117,\n",
              "       118, 119, 120, 121, 122, 123, 124, 125, 126, 127, 128, 129, 130,\n",
              "       131, 132, 133, 134, 135, 136, 137, 138, 139, 140, 141, 142, 143,\n",
              "       144, 145, 146, 147, 148, 149, 150, 151, 152, 153, 154, 155, 156,\n",
              "       157, 158, 159, 160, 161, 162, 163, 164, 165, 166, 167, 168, 169,\n",
              "       170, 171, 172, 173, 174, 175, 176, 177, 178, 179, 180, 181, 182,\n",
              "       183, 184, 185, 186, 187, 188, 189, 190, 191, 192, 193, 194, 195,\n",
              "       196, 197, 198, 199, 200, 201, 202, 203, 204, 205, 206, 207, 208,\n",
              "       209, 210, 211, 212, 213, 214, 215, 216, 217, 218, 219, 220, 221,\n",
              "       222, 223, 224, 225, 226, 227, 228, 229, 230, 231, 232, 233, 234,\n",
              "       235, 236, 237, 238, 239, 240, 241, 242, 243, 244, 245, 246, 247,\n",
              "       248, 249, 250, 251, 252, 253, 254, 255, 256, 257, 258, 259, 260,\n",
              "       261, 262, 263, 264, 265, 266, 267, 268, 269, 270, 271, 272, 273,\n",
              "       274, 275, 276, 277, 278, 279, 280, 281, 282, 283, 284, 285, 286,\n",
              "       287, 288, 289, 290, 291, 292, 293, 294, 295, 296, 297, 298, 299,\n",
              "       300, 301, 302, 303, 304, 305, 306, 307, 308, 309, 310, 311, 312,\n",
              "       313, 314, 315, 316, 317, 318, 319, 320, 321, 322, 323, 324, 325,\n",
              "       326, 327, 328, 329, 330, 331, 332, 333, 334, 335, 336, 337, 338,\n",
              "       339, 340, 341, 342, 343, 344, 345, 346, 347, 348, 349, 350, 351,\n",
              "       352, 353, 354, 355, 356, 357, 358, 359, 360, 361, 362, 363, 364,\n",
              "       365, 366, 367, 368, 369, 370, 371, 372, 373, 374, 375, 376, 377,\n",
              "       378, 379, 380, 381, 382, 383, 384, 385, 386, 387, 388, 389, 390,\n",
              "       391, 392, 393, 394, 395, 396, 397, 398, 399, 400, 401, 402, 403,\n",
              "       404, 405, 406, 407, 408, 409, 410, 411, 412, 413, 414, 415, 416,\n",
              "       417, 418, 419, 420, 421, 422, 423, 424, 425, 426, 427, 428, 429,\n",
              "       430, 431, 432, 433, 434, 435, 436, 437, 438, 439, 440, 441, 442,\n",
              "       443, 444, 445, 446, 447, 448, 449, 450, 451, 452, 453, 454, 455,\n",
              "       456, 457, 458, 459, 460, 461, 462, 463, 464, 465, 466, 467, 468,\n",
              "       469, 470, 471, 472, 473, 474, 475, 476, 477, 478, 479, 480, 481,\n",
              "       482, 483, 484, 485, 486, 487, 488, 489, 490, 491, 492, 493, 494,\n",
              "       495, 496, 497, 498, 499, 500, 501, 502, 503, 504, 505, 506, 507,\n",
              "       508, 509, 510, 511, 512, 513, 514, 515, 516, 517, 518, 519, 520,\n",
              "       521, 522, 523, 524, 525, 526, 527, 528, 529, 530, 531, 532, 533,\n",
              "       534, 535, 536, 537, 538, 539, 540, 541, 542, 543, 544, 545, 546,\n",
              "       547, 548, 549, 550, 551, 552, 553, 554, 555, 556, 557, 558, 559,\n",
              "       560, 561, 562, 563, 564, 565, 566, 567, 568, 569, 570, 571, 572,\n",
              "       573, 574, 575, 576, 577, 578, 579, 580, 581, 582, 583, 584, 585,\n",
              "       586, 587, 588, 589, 590, 591, 592, 593, 594])"
            ]
          },
          "metadata": {},
          "execution_count": 138
        }
      ]
    },
    {
      "cell_type": "code",
      "source": [
        "Mtx = np.zeros((21,594))       # 부문통합을 위한 코드가 많을 경우 상기의 코드를 수작업으로 미리 하는 것이 쉽자 않으므로 반복문을 통해 3x33 임시코드 만들기\n",
        "for i, j in zip(row,col):\n",
        "  Mtx[i-1,j-1] = 1\n",
        "print(Mtx)\n",
        "code_18 = Mtx[:18,:561]"
      ],
      "metadata": {
        "colab": {
          "base_uri": "https://localhost:8080/"
        },
        "id": "54M7TuUPxQXJ",
        "outputId": "b6c15ff8-4374-4f00-8882-86ecfdf6f0fd"
      },
      "execution_count": 139,
      "outputs": [
        {
          "output_type": "stream",
          "name": "stdout",
          "text": [
            "[[1. 0. 0. ... 0. 0. 0.]\n",
            " [0. 1. 1. ... 0. 0. 0.]\n",
            " [0. 0. 0. ... 0. 0. 0.]\n",
            " ...\n",
            " [0. 0. 0. ... 0. 0. 0.]\n",
            " [0. 0. 0. ... 0. 0. 0.]\n",
            " [0. 0. 0. ... 1. 1. 1.]]\n"
          ]
        }
      ]
    },
    {
      "cell_type": "code",
      "source": [
        "code_18.shape"
      ],
      "metadata": {
        "colab": {
          "base_uri": "https://localhost:8080/"
        },
        "id": "QqpzroGUFUGX",
        "outputId": "0eaeaf7a-58d3-418d-d886-c5dc2125f014"
      },
      "execution_count": 140,
      "outputs": [
        {
          "output_type": "execute_result",
          "data": {
            "text/plain": [
              "(18, 561)"
            ]
          },
          "metadata": {},
          "execution_count": 140
        }
      ]
    },
    {
      "cell_type": "code",
      "source": [
        "nae_row = code_18@RI_33[:561,:561] # 국산중간투입(수요)의 행을 권역별 3부문으로 만들기\n",
        "nae_row.shape"
      ],
      "metadata": {
        "colab": {
          "base_uri": "https://localhost:8080/"
        },
        "id": "TaBc-2uwxQcH",
        "outputId": "be86bb88-b99b-4736-fe4f-bbab7298138d"
      },
      "execution_count": 141,
      "outputs": [
        {
          "output_type": "execute_result",
          "data": {
            "text/plain": [
              "(18, 561)"
            ]
          },
          "metadata": {},
          "execution_count": 141
        }
      ]
    },
    {
      "cell_type": "code",
      "source": [
        "dom_tot = nae_row@code_18.T  # 18X18 국산거래표\n",
        "print(dom_tot.shape)"
      ],
      "metadata": {
        "colab": {
          "base_uri": "https://localhost:8080/"
        },
        "id": "cyB895fXxQlH",
        "outputId": "e767c5ab-5e62-4592-960b-7331bf464c57"
      },
      "execution_count": 142,
      "outputs": [
        {
          "output_type": "stream",
          "name": "stdout",
          "text": [
            "(18, 18)\n"
          ]
        }
      ]
    },
    {
      "cell_type": "code",
      "source": [
        "dom_tot.sum()  # 국산 총중간투입(수요)합으로 체크"
      ],
      "metadata": {
        "colab": {
          "base_uri": "https://localhost:8080/"
        },
        "id": "5rF4uzcQ3Csi",
        "outputId": "2e33f869-7987-49cf-b757-ec199839d6a0"
      },
      "execution_count": 143,
      "outputs": [
        {
          "output_type": "execute_result",
          "data": {
            "text/plain": [
              "1718868914.9999511"
            ]
          },
          "metadata": {},
          "execution_count": 143
        }
      ]
    },
    {
      "cell_type": "markdown",
      "source": [
        "### 수입거래표 통합하기"
      ],
      "metadata": {
        "id": "KppLR2bMX3YP"
      }
    },
    {
      "cell_type": "code",
      "source": [
        "cd_im_rw = \"https://raw.githubusercontent.com/Tom-Jung/legendary-funicular/main/code.csv\"  # 코드매치 파일\n",
        "cd_i_rw = pd.read_csv(cd_im_rw)\n",
        "cd_ir_itr = cd_i_rw.to_numpy().reshape(33,2)\n",
        "row_i = cd_ir_itr[:,1]\n",
        "col_i = cd_ir_itr[:,0]\n",
        "col_i"
      ],
      "metadata": {
        "colab": {
          "base_uri": "https://localhost:8080/"
        },
        "id": "xXZyF0UpYDGZ",
        "outputId": "87e703e8-d8d7-4411-91f4-834aa2bb23cc"
      },
      "execution_count": 144,
      "outputs": [
        {
          "output_type": "execute_result",
          "data": {
            "text/plain": [
              "array([ 1,  2,  3,  4,  5,  6,  7,  8,  9, 10, 11, 12, 13, 14, 15, 16, 17,\n",
              "       18, 19, 20, 21, 22, 23, 24, 25, 26, 27, 28, 29, 30, 31, 32, 33])"
            ]
          },
          "metadata": {},
          "execution_count": 144
        }
      ]
    },
    {
      "cell_type": "code",
      "source": [
        "Mtx_i = np.zeros((3,33))       # 부문통합을 위한 코드가 많을 경우 상기의 코드를 수작업으로 미리 하는 것이 쉽자 않으므로 반복문을 통해 3x33 임시코드 만들기\n",
        "for i, j in zip(row_i,col_i):\n",
        "  Mtx_i[i-1,j-1] = 1\n",
        "code_3 = Mtx_i\n",
        "code_3"
      ],
      "metadata": {
        "colab": {
          "base_uri": "https://localhost:8080/"
        },
        "id": "bpzYTa2_YDUN",
        "outputId": "432c1e02-ad61-41aa-faa5-a66249f475be"
      },
      "execution_count": 145,
      "outputs": [
        {
          "output_type": "execute_result",
          "data": {
            "text/plain": [
              "array([[1., 0., 0., 0., 0., 0., 0., 0., 0., 0., 0., 0., 0., 0., 0., 0.,\n",
              "        0., 0., 0., 0., 0., 0., 0., 0., 0., 0., 0., 0., 0., 0., 0., 0.,\n",
              "        0.],\n",
              "       [0., 1., 1., 1., 1., 1., 1., 1., 1., 1., 1., 1., 1., 1., 1., 1.,\n",
              "        0., 0., 0., 0., 0., 0., 0., 0., 0., 0., 0., 0., 0., 0., 0., 0.,\n",
              "        0.],\n",
              "       [0., 0., 0., 0., 0., 0., 0., 0., 0., 0., 0., 0., 0., 0., 0., 0.,\n",
              "        1., 1., 1., 1., 1., 1., 1., 1., 1., 1., 1., 1., 1., 1., 1., 1.,\n",
              "        1.]])"
            ]
          },
          "metadata": {},
          "execution_count": 145
        }
      ]
    },
    {
      "cell_type": "code",
      "source": [
        "imp_row = code_3@RI_33[562:595,0:561]@code_18.T # 3X18 수입거래표\n",
        "imp_row.sum()"
      ],
      "metadata": {
        "colab": {
          "base_uri": "https://localhost:8080/"
        },
        "id": "PHhJgNKwW7vb",
        "outputId": "d1bd5d82-c8c0-4a71-a09a-421016c43700"
      },
      "execution_count": 146,
      "outputs": [
        {
          "output_type": "execute_result",
          "data": {
            "text/plain": [
              "477242497.0"
            ]
          },
          "metadata": {},
          "execution_count": 146
        }
      ]
    },
    {
      "cell_type": "markdown",
      "source": [
        "### 최종수요 통합하기"
      ],
      "metadata": {
        "id": "mEbcG1fOchKm"
      }
    },
    {
      "cell_type": "code",
      "source": [
        "cd_fd = \"https://raw.githubusercontent.com/Tom-Jung/legendary-funicular/main/code_regional_io_fd.csv\"  # 코드매치 파일\n",
        "cd_fd1 = pd.read_csv(cd_fd)\n",
        "cd_fd1.head()\n",
        "# cd_fd2 = cd_fd1.to_numpy()\n",
        "# row_fd = cd_fd2[:,1]\n",
        "# col_fd = cd_fd2[:,0]\n",
        "# row_fd"
      ],
      "metadata": {
        "colab": {
          "base_uri": "https://localhost:8080/",
          "height": 206
        },
        "id": "EgPdo35oW70Z",
        "outputId": "ca4b3b29-338b-4573-87bd-9f3e05745be4"
      },
      "execution_count": 147,
      "outputs": [
        {
          "output_type": "execute_result",
          "data": {
            "text/plain": [
              "   권역  항목코드                          항목  old_33부문  new_3부문및지역\n",
              "0  서울  9111  민간소비지출\\n(가계 및 가계봉사\\n비영리단체)         1           1\n",
              "1  서울  9112                      정부소비지출         2           1\n",
              "2  서울  9121                  민간고정\\n자본형성         3           2\n",
              "3  서울  9122                  정부고정\\n자본형성         4           2\n",
              "4  서울  9131                        재고증감         5           2"
            ],
            "text/html": [
              "\n",
              "\n",
              "  <div id=\"df-4a026038-0a9a-4c77-9842-42fbaba67101\">\n",
              "    <div class=\"colab-df-container\">\n",
              "      <div>\n",
              "<style scoped>\n",
              "    .dataframe tbody tr th:only-of-type {\n",
              "        vertical-align: middle;\n",
              "    }\n",
              "\n",
              "    .dataframe tbody tr th {\n",
              "        vertical-align: top;\n",
              "    }\n",
              "\n",
              "    .dataframe thead th {\n",
              "        text-align: right;\n",
              "    }\n",
              "</style>\n",
              "<table border=\"1\" class=\"dataframe\">\n",
              "  <thead>\n",
              "    <tr style=\"text-align: right;\">\n",
              "      <th></th>\n",
              "      <th>권역</th>\n",
              "      <th>항목코드</th>\n",
              "      <th>항목</th>\n",
              "      <th>old_33부문</th>\n",
              "      <th>new_3부문및지역</th>\n",
              "    </tr>\n",
              "  </thead>\n",
              "  <tbody>\n",
              "    <tr>\n",
              "      <th>0</th>\n",
              "      <td>서울</td>\n",
              "      <td>9111</td>\n",
              "      <td>민간소비지출\\n(가계 및 가계봉사\\n비영리단체)</td>\n",
              "      <td>1</td>\n",
              "      <td>1</td>\n",
              "    </tr>\n",
              "    <tr>\n",
              "      <th>1</th>\n",
              "      <td>서울</td>\n",
              "      <td>9112</td>\n",
              "      <td>정부소비지출</td>\n",
              "      <td>2</td>\n",
              "      <td>1</td>\n",
              "    </tr>\n",
              "    <tr>\n",
              "      <th>2</th>\n",
              "      <td>서울</td>\n",
              "      <td>9121</td>\n",
              "      <td>민간고정\\n자본형성</td>\n",
              "      <td>3</td>\n",
              "      <td>2</td>\n",
              "    </tr>\n",
              "    <tr>\n",
              "      <th>3</th>\n",
              "      <td>서울</td>\n",
              "      <td>9122</td>\n",
              "      <td>정부고정\\n자본형성</td>\n",
              "      <td>4</td>\n",
              "      <td>2</td>\n",
              "    </tr>\n",
              "    <tr>\n",
              "      <th>4</th>\n",
              "      <td>서울</td>\n",
              "      <td>9131</td>\n",
              "      <td>재고증감</td>\n",
              "      <td>5</td>\n",
              "      <td>2</td>\n",
              "    </tr>\n",
              "  </tbody>\n",
              "</table>\n",
              "</div>\n",
              "      <button class=\"colab-df-convert\" onclick=\"convertToInteractive('df-4a026038-0a9a-4c77-9842-42fbaba67101')\"\n",
              "              title=\"Convert this dataframe to an interactive table.\"\n",
              "              style=\"display:none;\">\n",
              "\n",
              "  <svg xmlns=\"http://www.w3.org/2000/svg\" height=\"24px\"viewBox=\"0 0 24 24\"\n",
              "       width=\"24px\">\n",
              "    <path d=\"M0 0h24v24H0V0z\" fill=\"none\"/>\n",
              "    <path d=\"M18.56 5.44l.94 2.06.94-2.06 2.06-.94-2.06-.94-.94-2.06-.94 2.06-2.06.94zm-11 1L8.5 8.5l.94-2.06 2.06-.94-2.06-.94L8.5 2.5l-.94 2.06-2.06.94zm10 10l.94 2.06.94-2.06 2.06-.94-2.06-.94-.94-2.06-.94 2.06-2.06.94z\"/><path d=\"M17.41 7.96l-1.37-1.37c-.4-.4-.92-.59-1.43-.59-.52 0-1.04.2-1.43.59L10.3 9.45l-7.72 7.72c-.78.78-.78 2.05 0 2.83L4 21.41c.39.39.9.59 1.41.59.51 0 1.02-.2 1.41-.59l7.78-7.78 2.81-2.81c.8-.78.8-2.07 0-2.86zM5.41 20L4 18.59l7.72-7.72 1.47 1.35L5.41 20z\"/>\n",
              "  </svg>\n",
              "      </button>\n",
              "\n",
              "\n",
              "\n",
              "    <div id=\"df-bfb27d9f-6ee3-4c51-b47a-b770e7c8f544\">\n",
              "      <button class=\"colab-df-quickchart\" onclick=\"quickchart('df-bfb27d9f-6ee3-4c51-b47a-b770e7c8f544')\"\n",
              "              title=\"Suggest charts.\"\n",
              "              style=\"display:none;\">\n",
              "\n",
              "<svg xmlns=\"http://www.w3.org/2000/svg\" height=\"24px\"viewBox=\"0 0 24 24\"\n",
              "     width=\"24px\">\n",
              "    <g>\n",
              "        <path d=\"M19 3H5c-1.1 0-2 .9-2 2v14c0 1.1.9 2 2 2h14c1.1 0 2-.9 2-2V5c0-1.1-.9-2-2-2zM9 17H7v-7h2v7zm4 0h-2V7h2v10zm4 0h-2v-4h2v4z\"/>\n",
              "    </g>\n",
              "</svg>\n",
              "      </button>\n",
              "    </div>\n",
              "\n",
              "<style>\n",
              "  .colab-df-quickchart {\n",
              "    background-color: #E8F0FE;\n",
              "    border: none;\n",
              "    border-radius: 50%;\n",
              "    cursor: pointer;\n",
              "    display: none;\n",
              "    fill: #1967D2;\n",
              "    height: 32px;\n",
              "    padding: 0 0 0 0;\n",
              "    width: 32px;\n",
              "  }\n",
              "\n",
              "  .colab-df-quickchart:hover {\n",
              "    background-color: #E2EBFA;\n",
              "    box-shadow: 0px 1px 2px rgba(60, 64, 67, 0.3), 0px 1px 3px 1px rgba(60, 64, 67, 0.15);\n",
              "    fill: #174EA6;\n",
              "  }\n",
              "\n",
              "  [theme=dark] .colab-df-quickchart {\n",
              "    background-color: #3B4455;\n",
              "    fill: #D2E3FC;\n",
              "  }\n",
              "\n",
              "  [theme=dark] .colab-df-quickchart:hover {\n",
              "    background-color: #434B5C;\n",
              "    box-shadow: 0px 1px 3px 1px rgba(0, 0, 0, 0.15);\n",
              "    filter: drop-shadow(0px 1px 2px rgba(0, 0, 0, 0.3));\n",
              "    fill: #FFFFFF;\n",
              "  }\n",
              "</style>\n",
              "\n",
              "    <script>\n",
              "      async function quickchart(key) {\n",
              "        const containerElement = document.querySelector('#' + key);\n",
              "        const charts = await google.colab.kernel.invokeFunction(\n",
              "            'suggestCharts', [key], {});\n",
              "      }\n",
              "    </script>\n",
              "\n",
              "      <script>\n",
              "\n",
              "function displayQuickchartButton(domScope) {\n",
              "  let quickchartButtonEl =\n",
              "    domScope.querySelector('#df-bfb27d9f-6ee3-4c51-b47a-b770e7c8f544 button.colab-df-quickchart');\n",
              "  quickchartButtonEl.style.display =\n",
              "    google.colab.kernel.accessAllowed ? 'block' : 'none';\n",
              "}\n",
              "\n",
              "        displayQuickchartButton(document);\n",
              "      </script>\n",
              "      <style>\n",
              "    .colab-df-container {\n",
              "      display:flex;\n",
              "      flex-wrap:wrap;\n",
              "      gap: 12px;\n",
              "    }\n",
              "\n",
              "    .colab-df-convert {\n",
              "      background-color: #E8F0FE;\n",
              "      border: none;\n",
              "      border-radius: 50%;\n",
              "      cursor: pointer;\n",
              "      display: none;\n",
              "      fill: #1967D2;\n",
              "      height: 32px;\n",
              "      padding: 0 0 0 0;\n",
              "      width: 32px;\n",
              "    }\n",
              "\n",
              "    .colab-df-convert:hover {\n",
              "      background-color: #E2EBFA;\n",
              "      box-shadow: 0px 1px 2px rgba(60, 64, 67, 0.3), 0px 1px 3px 1px rgba(60, 64, 67, 0.15);\n",
              "      fill: #174EA6;\n",
              "    }\n",
              "\n",
              "    [theme=dark] .colab-df-convert {\n",
              "      background-color: #3B4455;\n",
              "      fill: #D2E3FC;\n",
              "    }\n",
              "\n",
              "    [theme=dark] .colab-df-convert:hover {\n",
              "      background-color: #434B5C;\n",
              "      box-shadow: 0px 1px 3px 1px rgba(0, 0, 0, 0.15);\n",
              "      filter: drop-shadow(0px 1px 2px rgba(0, 0, 0, 0.3));\n",
              "      fill: #FFFFFF;\n",
              "    }\n",
              "  </style>\n",
              "\n",
              "      <script>\n",
              "        const buttonEl =\n",
              "          document.querySelector('#df-4a026038-0a9a-4c77-9842-42fbaba67101 button.colab-df-convert');\n",
              "        buttonEl.style.display =\n",
              "          google.colab.kernel.accessAllowed ? 'block' : 'none';\n",
              "\n",
              "        async function convertToInteractive(key) {\n",
              "          const element = document.querySelector('#df-4a026038-0a9a-4c77-9842-42fbaba67101');\n",
              "          const dataTable =\n",
              "            await google.colab.kernel.invokeFunction('convertToInteractive',\n",
              "                                                     [key], {});\n",
              "          if (!dataTable) return;\n",
              "\n",
              "          const docLinkHtml = 'Like what you see? Visit the ' +\n",
              "            '<a target=\"_blank\" href=https://colab.research.google.com/notebooks/data_table.ipynb>data table notebook</a>'\n",
              "            + ' to learn more about interactive tables.';\n",
              "          element.innerHTML = '';\n",
              "          dataTable['output_type'] = 'display_data';\n",
              "          await google.colab.output.renderOutput(dataTable, element);\n",
              "          const docLink = document.createElement('div');\n",
              "          docLink.innerHTML = docLinkHtml;\n",
              "          element.appendChild(docLink);\n",
              "        }\n",
              "      </script>\n",
              "    </div>\n",
              "  </div>\n"
            ]
          },
          "metadata": {},
          "execution_count": 147
        }
      ]
    },
    {
      "cell_type": "code",
      "source": [
        "cd_fd2 = cd_fd1[[\"old_33부문\", \"new_3부문및지역\"]]\n",
        "cd_fd2.head()"
      ],
      "metadata": {
        "colab": {
          "base_uri": "https://localhost:8080/",
          "height": 206
        },
        "id": "M4kJl177dZwE",
        "outputId": "4a871a28-366e-46cb-f260-7ba46aeee0b5"
      },
      "execution_count": 148,
      "outputs": [
        {
          "output_type": "execute_result",
          "data": {
            "text/plain": [
              "   old_33부문  new_3부문및지역\n",
              "0         1           1\n",
              "1         2           1\n",
              "2         3           2\n",
              "3         4           2\n",
              "4         5           2"
            ],
            "text/html": [
              "\n",
              "\n",
              "  <div id=\"df-c3059911-4f23-47f5-bef2-ba030928c7e4\">\n",
              "    <div class=\"colab-df-container\">\n",
              "      <div>\n",
              "<style scoped>\n",
              "    .dataframe tbody tr th:only-of-type {\n",
              "        vertical-align: middle;\n",
              "    }\n",
              "\n",
              "    .dataframe tbody tr th {\n",
              "        vertical-align: top;\n",
              "    }\n",
              "\n",
              "    .dataframe thead th {\n",
              "        text-align: right;\n",
              "    }\n",
              "</style>\n",
              "<table border=\"1\" class=\"dataframe\">\n",
              "  <thead>\n",
              "    <tr style=\"text-align: right;\">\n",
              "      <th></th>\n",
              "      <th>old_33부문</th>\n",
              "      <th>new_3부문및지역</th>\n",
              "    </tr>\n",
              "  </thead>\n",
              "  <tbody>\n",
              "    <tr>\n",
              "      <th>0</th>\n",
              "      <td>1</td>\n",
              "      <td>1</td>\n",
              "    </tr>\n",
              "    <tr>\n",
              "      <th>1</th>\n",
              "      <td>2</td>\n",
              "      <td>1</td>\n",
              "    </tr>\n",
              "    <tr>\n",
              "      <th>2</th>\n",
              "      <td>3</td>\n",
              "      <td>2</td>\n",
              "    </tr>\n",
              "    <tr>\n",
              "      <th>3</th>\n",
              "      <td>4</td>\n",
              "      <td>2</td>\n",
              "    </tr>\n",
              "    <tr>\n",
              "      <th>4</th>\n",
              "      <td>5</td>\n",
              "      <td>2</td>\n",
              "    </tr>\n",
              "  </tbody>\n",
              "</table>\n",
              "</div>\n",
              "      <button class=\"colab-df-convert\" onclick=\"convertToInteractive('df-c3059911-4f23-47f5-bef2-ba030928c7e4')\"\n",
              "              title=\"Convert this dataframe to an interactive table.\"\n",
              "              style=\"display:none;\">\n",
              "\n",
              "  <svg xmlns=\"http://www.w3.org/2000/svg\" height=\"24px\"viewBox=\"0 0 24 24\"\n",
              "       width=\"24px\">\n",
              "    <path d=\"M0 0h24v24H0V0z\" fill=\"none\"/>\n",
              "    <path d=\"M18.56 5.44l.94 2.06.94-2.06 2.06-.94-2.06-.94-.94-2.06-.94 2.06-2.06.94zm-11 1L8.5 8.5l.94-2.06 2.06-.94-2.06-.94L8.5 2.5l-.94 2.06-2.06.94zm10 10l.94 2.06.94-2.06 2.06-.94-2.06-.94-.94-2.06-.94 2.06-2.06.94z\"/><path d=\"M17.41 7.96l-1.37-1.37c-.4-.4-.92-.59-1.43-.59-.52 0-1.04.2-1.43.59L10.3 9.45l-7.72 7.72c-.78.78-.78 2.05 0 2.83L4 21.41c.39.39.9.59 1.41.59.51 0 1.02-.2 1.41-.59l7.78-7.78 2.81-2.81c.8-.78.8-2.07 0-2.86zM5.41 20L4 18.59l7.72-7.72 1.47 1.35L5.41 20z\"/>\n",
              "  </svg>\n",
              "      </button>\n",
              "\n",
              "\n",
              "\n",
              "    <div id=\"df-490af5bc-3696-4bde-a782-cf80f04b9df1\">\n",
              "      <button class=\"colab-df-quickchart\" onclick=\"quickchart('df-490af5bc-3696-4bde-a782-cf80f04b9df1')\"\n",
              "              title=\"Suggest charts.\"\n",
              "              style=\"display:none;\">\n",
              "\n",
              "<svg xmlns=\"http://www.w3.org/2000/svg\" height=\"24px\"viewBox=\"0 0 24 24\"\n",
              "     width=\"24px\">\n",
              "    <g>\n",
              "        <path d=\"M19 3H5c-1.1 0-2 .9-2 2v14c0 1.1.9 2 2 2h14c1.1 0 2-.9 2-2V5c0-1.1-.9-2-2-2zM9 17H7v-7h2v7zm4 0h-2V7h2v10zm4 0h-2v-4h2v4z\"/>\n",
              "    </g>\n",
              "</svg>\n",
              "      </button>\n",
              "    </div>\n",
              "\n",
              "<style>\n",
              "  .colab-df-quickchart {\n",
              "    background-color: #E8F0FE;\n",
              "    border: none;\n",
              "    border-radius: 50%;\n",
              "    cursor: pointer;\n",
              "    display: none;\n",
              "    fill: #1967D2;\n",
              "    height: 32px;\n",
              "    padding: 0 0 0 0;\n",
              "    width: 32px;\n",
              "  }\n",
              "\n",
              "  .colab-df-quickchart:hover {\n",
              "    background-color: #E2EBFA;\n",
              "    box-shadow: 0px 1px 2px rgba(60, 64, 67, 0.3), 0px 1px 3px 1px rgba(60, 64, 67, 0.15);\n",
              "    fill: #174EA6;\n",
              "  }\n",
              "\n",
              "  [theme=dark] .colab-df-quickchart {\n",
              "    background-color: #3B4455;\n",
              "    fill: #D2E3FC;\n",
              "  }\n",
              "\n",
              "  [theme=dark] .colab-df-quickchart:hover {\n",
              "    background-color: #434B5C;\n",
              "    box-shadow: 0px 1px 3px 1px rgba(0, 0, 0, 0.15);\n",
              "    filter: drop-shadow(0px 1px 2px rgba(0, 0, 0, 0.3));\n",
              "    fill: #FFFFFF;\n",
              "  }\n",
              "</style>\n",
              "\n",
              "    <script>\n",
              "      async function quickchart(key) {\n",
              "        const containerElement = document.querySelector('#' + key);\n",
              "        const charts = await google.colab.kernel.invokeFunction(\n",
              "            'suggestCharts', [key], {});\n",
              "      }\n",
              "    </script>\n",
              "\n",
              "      <script>\n",
              "\n",
              "function displayQuickchartButton(domScope) {\n",
              "  let quickchartButtonEl =\n",
              "    domScope.querySelector('#df-490af5bc-3696-4bde-a782-cf80f04b9df1 button.colab-df-quickchart');\n",
              "  quickchartButtonEl.style.display =\n",
              "    google.colab.kernel.accessAllowed ? 'block' : 'none';\n",
              "}\n",
              "\n",
              "        displayQuickchartButton(document);\n",
              "      </script>\n",
              "      <style>\n",
              "    .colab-df-container {\n",
              "      display:flex;\n",
              "      flex-wrap:wrap;\n",
              "      gap: 12px;\n",
              "    }\n",
              "\n",
              "    .colab-df-convert {\n",
              "      background-color: #E8F0FE;\n",
              "      border: none;\n",
              "      border-radius: 50%;\n",
              "      cursor: pointer;\n",
              "      display: none;\n",
              "      fill: #1967D2;\n",
              "      height: 32px;\n",
              "      padding: 0 0 0 0;\n",
              "      width: 32px;\n",
              "    }\n",
              "\n",
              "    .colab-df-convert:hover {\n",
              "      background-color: #E2EBFA;\n",
              "      box-shadow: 0px 1px 2px rgba(60, 64, 67, 0.3), 0px 1px 3px 1px rgba(60, 64, 67, 0.15);\n",
              "      fill: #174EA6;\n",
              "    }\n",
              "\n",
              "    [theme=dark] .colab-df-convert {\n",
              "      background-color: #3B4455;\n",
              "      fill: #D2E3FC;\n",
              "    }\n",
              "\n",
              "    [theme=dark] .colab-df-convert:hover {\n",
              "      background-color: #434B5C;\n",
              "      box-shadow: 0px 1px 3px 1px rgba(0, 0, 0, 0.15);\n",
              "      filter: drop-shadow(0px 1px 2px rgba(0, 0, 0, 0.3));\n",
              "      fill: #FFFFFF;\n",
              "    }\n",
              "  </style>\n",
              "\n",
              "      <script>\n",
              "        const buttonEl =\n",
              "          document.querySelector('#df-c3059911-4f23-47f5-bef2-ba030928c7e4 button.colab-df-convert');\n",
              "        buttonEl.style.display =\n",
              "          google.colab.kernel.accessAllowed ? 'block' : 'none';\n",
              "\n",
              "        async function convertToInteractive(key) {\n",
              "          const element = document.querySelector('#df-c3059911-4f23-47f5-bef2-ba030928c7e4');\n",
              "          const dataTable =\n",
              "            await google.colab.kernel.invokeFunction('convertToInteractive',\n",
              "                                                     [key], {});\n",
              "          if (!dataTable) return;\n",
              "\n",
              "          const docLinkHtml = 'Like what you see? Visit the ' +\n",
              "            '<a target=\"_blank\" href=https://colab.research.google.com/notebooks/data_table.ipynb>data table notebook</a>'\n",
              "            + ' to learn more about interactive tables.';\n",
              "          element.innerHTML = '';\n",
              "          dataTable['output_type'] = 'display_data';\n",
              "          await google.colab.output.renderOutput(dataTable, element);\n",
              "          const docLink = document.createElement('div');\n",
              "          docLink.innerHTML = docLinkHtml;\n",
              "          element.appendChild(docLink);\n",
              "        }\n",
              "      </script>\n",
              "    </div>\n",
              "  </div>\n"
            ]
          },
          "metadata": {},
          "execution_count": 148
        }
      ]
    },
    {
      "cell_type": "code",
      "source": [
        "cd_fd3 = cd_fd2.to_numpy()\n",
        "cd_fd3.shape"
      ],
      "metadata": {
        "colab": {
          "base_uri": "https://localhost:8080/"
        },
        "id": "VVbArAZidZ4c",
        "outputId": "47391982-109c-41a5-c5c9-b216f237f99e"
      },
      "execution_count": 149,
      "outputs": [
        {
          "output_type": "execute_result",
          "data": {
            "text/plain": [
              "(119, 2)"
            ]
          },
          "metadata": {},
          "execution_count": 149
        }
      ]
    },
    {
      "cell_type": "code",
      "source": [
        "row_fd = cd_fd3[:,1]\n",
        "col_fd = cd_fd3[:,0]\n",
        "col_fd"
      ],
      "metadata": {
        "colab": {
          "base_uri": "https://localhost:8080/"
        },
        "id": "35qjdfaydZ9V",
        "outputId": "42e9f42f-3722-4efb-ac4b-101d7de6f402"
      },
      "execution_count": 150,
      "outputs": [
        {
          "output_type": "execute_result",
          "data": {
            "text/plain": [
              "array([  1,   2,   3,   4,   5,   6,   7,   8,   9,  10,  11,  12,  13,\n",
              "        14,  15,  16,  17,  18,  19,  20,  21,  22,  23,  24,  25,  26,\n",
              "        27,  28,  29,  30,  31,  32,  33,  34,  35,  36,  37,  38,  39,\n",
              "        40,  41,  42,  43,  44,  45,  46,  47,  48,  49,  50,  51,  52,\n",
              "        53,  54,  55,  56,  57,  58,  59,  60,  61,  62,  63,  64,  65,\n",
              "        66,  67,  68,  69,  70,  71,  72,  73,  74,  75,  76,  77,  78,\n",
              "        79,  80,  81,  82,  83,  84,  85,  86,  87,  88,  89,  90,  91,\n",
              "        92,  93,  94,  95,  96,  97,  98,  99, 100, 101, 102, 103, 104,\n",
              "       105, 106, 107, 108, 109, 110, 111, 112, 113, 114, 115, 116, 117,\n",
              "       118, 119])"
            ]
          },
          "metadata": {},
          "execution_count": 150
        }
      ]
    },
    {
      "cell_type": "code",
      "source": [
        "Mtx_fd = np.zeros((21,119))       # 7가지 최종수요 항목을 소비, 투자, 수출로 통합\n",
        "for i, j in zip(row_fd,col_fd):\n",
        "  Mtx_fd[i-1,j-1] = 1\n",
        "print(Mtx_fd)\n",
        "code_fd_18 = Mtx_fd[:18,:119]\n",
        "print(code_fd_18.shape)"
      ],
      "metadata": {
        "colab": {
          "base_uri": "https://localhost:8080/"
        },
        "id": "JFEd7h1tdaBH",
        "outputId": "42f44c04-bbf8-4cdb-9589-00a7e329811f"
      },
      "execution_count": 151,
      "outputs": [
        {
          "output_type": "stream",
          "name": "stdout",
          "text": [
            "[[1. 1. 0. ... 0. 0. 0.]\n",
            " [0. 0. 1. ... 0. 0. 0.]\n",
            " [0. 0. 0. ... 0. 0. 0.]\n",
            " ...\n",
            " [0. 0. 0. ... 0. 0. 0.]\n",
            " [0. 0. 0. ... 0. 0. 0.]\n",
            " [0. 0. 0. ... 0. 0. 0.]]\n",
            "(18, 119)\n"
          ]
        }
      ]
    },
    {
      "cell_type": "code",
      "source": [
        "Fd_dom = RI_33[:561,562:681].astype(float)\n",
        "Fd_imp = RI_33[562:595,562:681].astype(float)\n",
        "print(Fd_dom.sum())\n",
        "print(Fd_imp.sum())\n",
        "print(Fd_dom.shape)"
      ],
      "metadata": {
        "colab": {
          "base_uri": "https://localhost:8080/"
        },
        "id": "JKWincbTdaEq",
        "outputId": "b422668d-40a2-48e3-bc92-28b57747c70a"
      },
      "execution_count": 152,
      "outputs": [
        {
          "output_type": "stream",
          "name": "stdout",
          "text": [
            "2114693165.0\n",
            "146759866.0\n",
            "(561, 119)\n"
          ]
        }
      ]
    },
    {
      "cell_type": "code",
      "source": [
        "Fd_dom_3 = (code_18@Fd_dom)@code_fd_18.T\n",
        "Fd_dom_3.shape"
      ],
      "metadata": {
        "colab": {
          "base_uri": "https://localhost:8080/"
        },
        "id": "y6l3Eu_IpEBZ",
        "outputId": "278065cb-a94d-48e2-d3fd-8a9e15681aa4"
      },
      "execution_count": 153,
      "outputs": [
        {
          "output_type": "execute_result",
          "data": {
            "text/plain": [
              "(18, 18)"
            ]
          },
          "metadata": {},
          "execution_count": 153
        }
      ]
    },
    {
      "cell_type": "code",
      "source": [
        "Fd_imp_3 = (code_3@Fd_imp)@code_fd_18.T\n",
        "Fd_imp_3.shape"
      ],
      "metadata": {
        "colab": {
          "base_uri": "https://localhost:8080/"
        },
        "id": "o4_7_IjwdaKA",
        "outputId": "b79bc2bc-d9a5-4343-c845-018b6e00b070"
      },
      "execution_count": 154,
      "outputs": [
        {
          "output_type": "execute_result",
          "data": {
            "text/plain": [
              "(3, 18)"
            ]
          },
          "metadata": {},
          "execution_count": 154
        }
      ]
    },
    {
      "cell_type": "code",
      "source": [
        "print(Fd_dom_3.sum())\n",
        "print(Fd_imp_3.sum())"
      ],
      "metadata": {
        "colab": {
          "base_uri": "https://localhost:8080/"
        },
        "id": "QC54ZCNh1d3P",
        "outputId": "f668fccf-bf29-4710-99a4-000f2b5c4319"
      },
      "execution_count": 155,
      "outputs": [
        {
          "output_type": "stream",
          "name": "stdout",
          "text": [
            "2114693165.0\n",
            "146759866.0\n"
          ]
        }
      ]
    },
    {
      "cell_type": "code",
      "source": [
        "fd_col_sm= (RI_33[596,562:681]@code_fd_18.T).reshape([1,18]) # 국산 및 수입최종수요 열합\n",
        "fd_col_sm.sum()"
      ],
      "metadata": {
        "colab": {
          "base_uri": "https://localhost:8080/"
        },
        "id": "Cg0av2sVv_wK",
        "outputId": "ba1f67f7-d1bc-4493-b603-a4c35bfe1fef"
      },
      "execution_count": 156,
      "outputs": [
        {
          "output_type": "execute_result",
          "data": {
            "text/plain": [
              "2261453031.0"
            ]
          },
          "metadata": {},
          "execution_count": 156
        }
      ]
    },
    {
      "cell_type": "code",
      "source": [
        "fd_each = np.concatenate((Fd_dom_3, Fd_imp_3,fd_col_sm, np.zeros((6,18))), axis=0) # 각 지역의 최종수요와 아래에 0 붙이기\n",
        "print(fd_each)"
      ],
      "metadata": {
        "colab": {
          "base_uri": "https://localhost:8080/"
        },
        "id": "WzCZofQ0wq0n",
        "outputId": "c5e1cc03-8474-4419-85df-0383da513345"
      },
      "execution_count": 157,
      "outputs": [
        {
          "output_type": "stream",
          "name": "stdout",
          "text": [
            "[[ 1.167e+06  1.027e+05  7.995e+04  1.018e+05  1.594e+04  0.000e+00\n",
            "   5.935e+04  3.348e+03  0.000e+00  1.132e+05  8.522e+03  0.000e+00\n",
            "   2.885e+04  6.017e+03  0.000e+00  4.162e+03  7.337e+02  0.000e+00]\n",
            " [ 2.903e+07  2.085e+07  2.146e+08  3.741e+06  4.600e+06  0.000e+00\n",
            "   3.178e+06  2.967e+06  0.000e+00  8.196e+06  5.563e+06  0.000e+00\n",
            "   9.990e+05  6.120e+05  0.000e+00  4.208e+05  1.590e+05  0.000e+00]\n",
            " [ 3.874e+08  1.641e+08  6.726e+07  1.693e+07  7.061e+06  0.000e+00\n",
            "   1.247e+07  3.773e+06  0.000e+00  2.709e+07  1.141e+07  0.000e+00\n",
            "   5.902e+06  1.149e+06  0.000e+00  1.552e+06  2.418e+05  0.000e+00]\n",
            " [ 1.242e+06  3.991e+04  0.000e+00  5.241e+05  2.589e+05  9.028e+04\n",
            "   1.307e+05  1.676e+04  0.000e+00  2.444e+05  1.770e+04  0.000e+00\n",
            "   4.759e+04  5.182e+03  0.000e+00  6.820e+03  1.008e+03  0.000e+00]\n",
            " [ 8.260e+06  5.769e+06  0.000e+00  7.508e+06  2.364e+06  9.860e+07\n",
            "   1.504e+06  8.564e+05  0.000e+00  3.260e+06  1.734e+06  0.000e+00\n",
            "   5.702e+05  2.024e+05  0.000e+00  1.633e+05  5.842e+04  0.000e+00]\n",
            " [ 8.820e+06  2.304e+06  0.000e+00  6.525e+07  3.976e+07  4.314e+06\n",
            "   1.346e+06  2.789e+05  0.000e+00  2.291e+06  4.182e+05  0.000e+00\n",
            "   4.373e+05  3.572e+04  0.000e+00  1.202e+05  2.064e+04  0.000e+00]\n",
            " [ 1.619e+06  3.058e+04  0.000e+00  3.199e+05  2.246e+04  0.000e+00\n",
            "   8.889e+05  3.970e+05  1.976e+05  5.691e+05  3.485e+04  0.000e+00\n",
            "   6.301e+04  2.479e+03  0.000e+00  8.867e+03  1.616e+03  0.000e+00]\n",
            " [ 6.427e+06  3.047e+06  0.000e+00  1.309e+06  9.425e+05  0.000e+00\n",
            "   4.497e+06  5.443e+05  6.867e+07  2.101e+06  1.382e+06  0.000e+00\n",
            "   7.773e+05  3.963e+05  0.000e+00  1.843e+05  6.505e+04  0.000e+00]\n",
            " [ 4.486e+06  1.058e+06  0.000e+00  1.723e+06  7.882e+04  0.000e+00\n",
            "   6.852e+07  2.611e+07  6.604e+06  1.626e+06  9.582e+04  0.000e+00\n",
            "   2.304e+05  5.804e+03  0.000e+00  2.646e+05  7.487e+04  0.000e+00]\n",
            " [ 2.065e+06  3.127e+04  0.000e+00  3.694e+05  1.674e+04  0.000e+00\n",
            "   2.675e+05  8.058e+03  0.000e+00  2.216e+06  4.600e+05  2.379e+05\n",
            "   1.615e+05  5.529e+03  0.000e+00  1.058e+04  1.507e+03  0.000e+00]\n",
            " [ 1.894e+07  1.432e+07  0.000e+00  3.130e+06  3.879e+06  0.000e+00\n",
            "   3.552e+06  2.853e+06  0.000e+00  1.735e+07  1.012e+07  2.239e+08\n",
            "   1.020e+06  1.001e+06  0.000e+00  5.151e+05  1.708e+05  0.000e+00]\n",
            " [ 7.527e+06  1.905e+06  0.000e+00  2.156e+06  9.203e+05  0.000e+00\n",
            "   1.608e+06  2.397e+05  0.000e+00  1.692e+08  6.620e+07  2.480e+07\n",
            "   5.757e+05  2.580e+04  0.000e+00  2.759e+05  2.099e+04  0.000e+00]\n",
            " [ 4.936e+05  2.161e+04  0.000e+00  8.847e+04  1.171e+04  0.000e+00\n",
            "   6.500e+04  4.076e+03  0.000e+00  1.811e+05  1.781e+04  0.000e+00\n",
            "   1.039e+05  1.070e+05  3.183e+04  9.474e+03  1.618e+03  0.000e+00]\n",
            " [ 9.834e+05  2.260e+05  0.000e+00  1.077e+05  3.770e+04  0.000e+00\n",
            "   7.141e+04  2.070e+04  0.000e+00  2.840e+05  3.772e+04  0.000e+00\n",
            "   6.224e+05  3.513e+04  2.538e+06  1.183e+04 -5.224e+02  0.000e+00]\n",
            " [ 3.450e+06  4.283e+05  0.000e+00  5.542e+05  2.374e+04  0.000e+00\n",
            "   2.805e+05  1.289e+04  0.000e+00  8.974e+05  2.949e+04  0.000e+00\n",
            "   2.308e+07  1.025e+07  1.106e+06  3.119e+04  2.874e+03  0.000e+00]\n",
            " [ 4.730e+05  2.601e+03  0.000e+00  9.117e+04  9.056e+02  0.000e+00\n",
            "   7.518e+04 -8.355e+00  0.000e+00  1.806e+05  2.235e+03  0.000e+00\n",
            "   2.338e+04 -1.331e+02  0.000e+00  1.365e+05  1.478e+04  4.957e+04]\n",
            " [ 2.198e+05  1.472e+04  0.000e+00  1.840e+04  3.224e+03  0.000e+00\n",
            "   1.647e+04  6.311e+03  0.000e+00  6.728e+04  5.350e+03  0.000e+00\n",
            "   3.888e+03 -8.647e+01  0.000e+00  9.368e+04  8.207e+03  2.875e+05]\n",
            " [ 1.583e+06  2.005e+05  0.000e+00  3.234e+05  5.587e+04  0.000e+00\n",
            "   6.174e+05  1.803e+05  0.000e+00  6.999e+05  2.189e+04  0.000e+00\n",
            "   8.609e+04  1.612e+03  0.000e+00  7.700e+06  4.463e+06  1.444e+06]\n",
            " [ 1.457e+06  9.226e+03  0.000e+00  3.115e+05 -1.220e+04  0.000e+00\n",
            "   2.963e+05  2.101e+03  0.000e+00  6.792e+05 -1.341e+04  0.000e+00\n",
            "   8.366e+04 -3.698e+03  0.000e+00  3.177e+04  2.670e+02  0.000e+00]\n",
            " [ 2.704e+07  2.885e+07  1.771e+06  5.453e+06  7.786e+06  5.501e+03\n",
            "   5.155e+06  4.888e+06  1.185e+03  1.314e+07  1.082e+07  1.064e+05\n",
            "   1.564e+06  7.259e+05  4.050e+02  7.925e+05  3.323e+05  2.414e+05]\n",
            " [ 1.460e+07  5.010e+06  0.000e+00  3.183e+06  7.106e+05  0.000e+00\n",
            "   3.537e+06  1.710e+05  0.000e+00  6.522e+06  8.164e+05  0.000e+00\n",
            "   3.629e+05  3.406e+04  0.000e+00  2.936e+05  1.067e+04  0.000e+00]\n",
            " [ 5.272e+08  2.483e+08  2.837e+08  1.132e+08  6.854e+07  1.030e+08\n",
            "   1.081e+08  4.333e+07  7.548e+07  2.570e+08  1.092e+08  2.490e+08\n",
            "   3.674e+07  1.460e+07  3.676e+06  1.263e+07  5.650e+06  2.023e+06]\n",
            " [ 0.000e+00  0.000e+00  0.000e+00  0.000e+00  0.000e+00  0.000e+00\n",
            "   0.000e+00  0.000e+00  0.000e+00  0.000e+00  0.000e+00  0.000e+00\n",
            "   0.000e+00  0.000e+00  0.000e+00  0.000e+00  0.000e+00  0.000e+00]\n",
            " [ 0.000e+00  0.000e+00  0.000e+00  0.000e+00  0.000e+00  0.000e+00\n",
            "   0.000e+00  0.000e+00  0.000e+00  0.000e+00  0.000e+00  0.000e+00\n",
            "   0.000e+00  0.000e+00  0.000e+00  0.000e+00  0.000e+00  0.000e+00]\n",
            " [ 0.000e+00  0.000e+00  0.000e+00  0.000e+00  0.000e+00  0.000e+00\n",
            "   0.000e+00  0.000e+00  0.000e+00  0.000e+00  0.000e+00  0.000e+00\n",
            "   0.000e+00  0.000e+00  0.000e+00  0.000e+00  0.000e+00  0.000e+00]\n",
            " [ 0.000e+00  0.000e+00  0.000e+00  0.000e+00  0.000e+00  0.000e+00\n",
            "   0.000e+00  0.000e+00  0.000e+00  0.000e+00  0.000e+00  0.000e+00\n",
            "   0.000e+00  0.000e+00  0.000e+00  0.000e+00  0.000e+00  0.000e+00]\n",
            " [ 0.000e+00  0.000e+00  0.000e+00  0.000e+00  0.000e+00  0.000e+00\n",
            "   0.000e+00  0.000e+00  0.000e+00  0.000e+00  0.000e+00  0.000e+00\n",
            "   0.000e+00  0.000e+00  0.000e+00  0.000e+00  0.000e+00  0.000e+00]\n",
            " [ 0.000e+00  0.000e+00  0.000e+00  0.000e+00  0.000e+00  0.000e+00\n",
            "   0.000e+00  0.000e+00  0.000e+00  0.000e+00  0.000e+00  0.000e+00\n",
            "   0.000e+00  0.000e+00  0.000e+00  0.000e+00  0.000e+00  0.000e+00]]\n"
          ]
        }
      ]
    },
    {
      "cell_type": "code",
      "source": [
        "fd_tot_sm = fd_each.sum(axis=1).reshape([28,1])"
      ],
      "metadata": {
        "id": "ZUO77SYW35BX"
      },
      "execution_count": 158,
      "outputs": []
    },
    {
      "cell_type": "markdown",
      "source": [
        "##부가가치 통합하기"
      ],
      "metadata": {
        "id": "PJT4t1cPs2lc"
      }
    },
    {
      "cell_type": "code",
      "source": [
        "vact = RI_33[596:,:561]  # 부가가치 및 산출액\n",
        "vact"
      ],
      "metadata": {
        "colab": {
          "base_uri": "https://localhost:8080/"
        },
        "id": "AXi5YhsZtKZv",
        "outputId": "ba373ccb-f4b5-4aed-8ee5-805b8f221d7a"
      },
      "execution_count": 159,
      "outputs": [
        {
          "output_type": "execute_result",
          "data": {
            "text/plain": [
              "array([[  28585.,    3634., 1695333., ...,  612973.,  310224.,   46129.],\n",
              "       [  11062.,    1168.,  286576., ...,  277510.,  186723.,       0.],\n",
              "       [  41299.,    1902.,   84735., ...,  169252.,   57232.,       0.],\n",
              "       ...,\n",
              "       [   1913.,      41.,  103553., ...,  135051.,   27509.,       0.],\n",
              "       [  59846.,    3768.,  594194., ...,  736637.,  296313.,       0.],\n",
              "       [  88431.,    7402., 2289527., ..., 1349610.,  606537.,   46129.]])"
            ]
          },
          "metadata": {},
          "execution_count": 159
        }
      ]
    },
    {
      "cell_type": "code",
      "source": [
        "vact_3 = vact@code_18.T  # 3부문 부가가치\n",
        "vact_3.sum()"
      ],
      "metadata": {
        "colab": {
          "base_uri": "https://localhost:8080/"
        },
        "id": "GhNDg2XKW76V",
        "outputId": "bda1ca9e-c2c4-4869-b446-a03bb8d610b2"
      },
      "execution_count": 160,
      "outputs": [
        {
          "output_type": "execute_result",
          "data": {
            "text/plain": [
              "9304574828.0"
            ]
          },
          "metadata": {},
          "execution_count": 160
        }
      ]
    },
    {
      "cell_type": "code",
      "source": [
        "nae_tot = np.concatenate((dom_tot, imp_row, vact_3)) # 중간투입(수요)와 부가가치 및 산출액 합치기\n",
        "nae_tot.shape"
      ],
      "metadata": {
        "colab": {
          "base_uri": "https://localhost:8080/"
        },
        "id": "I28cWl3PW7_g",
        "outputId": "7fba70fd-7999-44b6-fa57-d365f43b6516"
      },
      "execution_count": 161,
      "outputs": [
        {
          "output_type": "execute_result",
          "data": {
            "text/plain": [
              "(28, 18)"
            ]
          },
          "metadata": {},
          "execution_count": 161
        }
      ]
    },
    {
      "cell_type": "code",
      "source": [
        "tot_row_sm= nae_tot.sum(axis=1).reshape([28,1])\n",
        "tot_row_sm.sum()"
      ],
      "metadata": {
        "colab": {
          "base_uri": "https://localhost:8080/"
        },
        "id": "Q6mjOFXPW8DS",
        "outputId": "b93453e9-c45d-46a5-800d-1c05f6413739"
      },
      "execution_count": 162,
      "outputs": [
        {
          "output_type": "execute_result",
          "data": {
            "text/plain": [
              "11500686239.99995"
            ]
          },
          "metadata": {},
          "execution_count": 162
        }
      ]
    },
    {
      "cell_type": "code",
      "source": [
        "tot_dm = tot_row_sm + fd_tot_sm  # 총수요 = 중간수요계+최종수요계"
      ],
      "metadata": {
        "id": "ZjGjbdmU0rQN"
      },
      "execution_count": 163,
      "outputs": []
    },
    {
      "cell_type": "code",
      "source": [
        "Tot_rg = np.concatenate((nae_tot,tot_row_sm,fd_each, fd_tot_sm,tot_dm), axis=1)"
      ],
      "metadata": {
        "id": "3llcCme007jv"
      },
      "execution_count": 164,
      "outputs": []
    },
    {
      "cell_type": "code",
      "source": [
        "Mt = (Tot_rg/1000000).round(3)\n",
        "Mt"
      ],
      "metadata": {
        "colab": {
          "base_uri": "https://localhost:8080/"
        },
        "id": "NEKwUstZW8IQ",
        "outputId": "d6f778b8-d22b-488e-8546-a87e72d1092d"
      },
      "execution_count": 165,
      "outputs": [
        {
          "output_type": "execute_result",
          "data": {
            "text/plain": [
              "array([[   0.233,    3.116,    0.983, ...,    0.   ,    1.692,    7.96 ],\n",
              "       [   1.87 ,  112.123,   71.109, ...,    0.   ,  294.921,  581.556],\n",
              "       [   0.781,   78.614,  301.607, ...,    0.   ,  706.306, 1203.687],\n",
              "       ...,\n",
              "       [   0.056,   11.191,   50.55 , ...,    0.   ,    0.   ,  136.103],\n",
              "       [   3.924,  179.043,  647.898, ...,    0.   ,    0.   , 1637.451],\n",
              "       [   7.96 ,  581.556, 1203.687, ...,    0.   ,    0.   , 3833.562]])"
            ]
          },
          "metadata": {},
          "execution_count": 165
        }
      ]
    },
    {
      "cell_type": "code",
      "source": [
        "# total_rg = pd.DataFrame(Mt, columns = ['수도권_농림수산품', '수도권_공산품', '수도권_서비스', '충청권_농림수산품', '충청권_공산품', '충청권_서비스',\n",
        "#                                            '서남권_농림수산품', '서남권_공산품', '서남권_서비스', '동남권_농림수산품', '동남권_공산품', '동남권_서비스',\n",
        "#                                            '강원권_농림수산품', '강원권_공산품', '강원권_서비스', '제주권_농림수산품', '제주권_공산품', '제주권_서비스',\n",
        "#                                            '중간수요계',\n",
        "#                                            '수도권_소비', '수도권_투자', '수도권_수출', '충청권_소비', '충청권_투자', '충청권_수출',\n",
        "#                                            '서남권_소비', '서남권_투자', '서남권_수출', '동남권_소비', '동남권_투자', '동남권_수출',\n",
        "#                                            '강원권_소비', '강원권_투자', '강원권_수출', '제주권_소비', '제주권_투자', '제주권_수출',\n",
        "#                                            '최종수요계', '총수요계'],\n",
        "#                                     index=['수도권_농림수산품', '수도권_공산품', '수도권_서비스', '충청권_농림수산품', '충청권_공산품', '충청권_서비스',\n",
        "#                                            '서남권_농림수산품', '서남권_공산품', '서남권_서비스', '동남권_농림수산품', '동남권_공산품', '동남권_서비스',\n",
        "#                                            '강원권_농림수산품', '강원권공산품', '강원권_서비스', '제주권_농림수산품', '제주권_공산품', '제주권_서비스',\n",
        "#                                            '수입_농림수산품', '수입_공산품', '수입_서비스','중간투입계',\n",
        "#                                            '피용자보수', '영업잉여', '고정자본소모', '생산세', '부가가치계', '총투입액'])"
      ],
      "metadata": {
        "id": "khqaa4tJW8Nk"
      },
      "execution_count": 166,
      "outputs": []
    },
    {
      "cell_type": "code",
      "source": [
        "Mt_df = pd.DataFrame(Mt, columns = [['수도권', '수도권', '수도권', '충청권', '충청권', '충청권','서남권', '서남권', '서남권', '동남권', '동남권', '동남권',\n",
        "                                       '강원권', '강원권', '강원권', '제주권', '제주권', '제주권','지역중간수요계',\n",
        "                                       '수도권', '수도권', '수도권', '충청권', '충청권', '충청권','서남권', '서남권', '서남권', '동남권', '동남권', '동남권',\n",
        "                                       '강원권', '강원권', '강원권', '제주권', '제주권', '제주권','지역최종수요계','지역총수요계'],\n",
        "\n",
        "                                      ['농산품', '공산품', '서비스', '농산품', '공산품', '서비스','농산품', '공산품', '서비스', '농산품', '공산품', '서비스',\n",
        "                                        '농산품', '공산품', '서비스', '농산품', '공산품', '서비스','제품중간수요계','소비', '투자', '수출', '소비', '투자', '수출',\n",
        "                                        '소비', '투자', '수출', '소비', '투자', '수출', '소비', '투자', '수출', '소비', '투자', '수출','제품최종수요계','제품총수요계']],\n",
        "\n",
        "                                    index=[['수도권', '수도권', '수도권', '충청권', '충청권', '충청권','서남권', '서남권', '서남권', '동남권', '동남권', '동남권',\n",
        "                                            '강원권', '강원권', '강원권', '제주권', '제주권', '제주권','수입', '수입', '수입','중간투입계',\n",
        "                                            '피보', '영잉', '고소', '생산세f', '부가가치계f', '총투입액f'],\n",
        "                                           ['농산품', '공산품', '서비스', '농산품', '공산품', '서비스','농산품', '공산품', '서비스', '농산품', '공산품', '서비스',\n",
        "                                            '농산품', '공산품', '서비스', '농산품', '공산품', '서비스', '농산품', '공산품', '서비스','중간수요계',\n",
        "                                            '피용자보수', '영업잉여', '고정자본소모', '생산세', '부가가치계', '총투입액']])\n",
        "Mt_df.index.names=['지역', '상품']"
      ],
      "metadata": {
        "id": "DTAOoUvAtl7I"
      },
      "execution_count": 167,
      "outputs": []
    },
    {
      "cell_type": "code",
      "source": [
        "Mt_df.to_csv('지역산업연관표_3부문_6지역.csv', encoding=\"utf-8-sig\")"
      ],
      "metadata": {
        "id": "vRFoEDGP76Bz"
      },
      "execution_count": 168,
      "outputs": []
    },
    {
      "cell_type": "code",
      "source": [
        "Mt_df.index.names=['지역', '상품']\n",
        "# df_pivot = df_pivot.pivot(index='date', columns='country', values='Population')\n",
        "# # df_pivot.head\n",
        "Mt_df\n"
      ],
      "metadata": {
        "id": "8TQao69e0jzg",
        "outputId": "b5836585-f892-4225-f297-b08dc33ba329",
        "colab": {
          "base_uri": "https://localhost:8080/",
          "height": 1000
        }
      },
      "execution_count": 169,
      "outputs": [
        {
          "output_type": "execute_result",
          "data": {
            "text/plain": [
              "                 수도권                        충청권                       서남권  \\\n",
              "                 농산품      공산품       서비스     농산품      공산품      서비스     농산품   \n",
              "지역     상품                                                                   \n",
              "수도권    농산품     0.233    3.116     0.983   0.028    1.089    0.065   0.018   \n",
              "       공산품     1.870  112.123    71.109   0.340   28.055    7.030   0.569   \n",
              "       서비스     0.781   78.614   301.607   0.493   17.060   14.705   0.526   \n",
              "충청권    농산품     0.044    1.105     0.989   0.380    4.877    0.356   0.024   \n",
              "       공산품     0.178   32.277    26.221   2.296   41.634   13.892   0.312   \n",
              "       서비스     0.016    1.437     8.019   0.637   22.172   25.681   0.030   \n",
              "서남권    농산품     0.040    0.951     1.399   0.039    0.993    0.209   0.581   \n",
              "       공산품     0.276   13.909    13.083   0.358    6.881    2.422   2.496   \n",
              "       서비스     0.017    1.481     6.626   0.028    0.909    0.947   0.901   \n",
              "동남권    농산품     0.048    0.923     1.641   0.049    0.866    0.223   0.040   \n",
              "       공산품     0.227   41.436    36.017   0.347   20.520    5.873   0.585   \n",
              "       서비스     0.036    3.049    12.328   0.056    1.772    1.476   0.069   \n",
              "강원권    농산품     0.026    0.433     0.448   0.021    0.376    0.056   0.012   \n",
              "       공산품     0.023    1.642     2.401   0.016    1.056    0.404   0.014   \n",
              "       서비스     0.007    0.533     3.048   0.008    0.239    0.336   0.006   \n",
              "제주권    농산품     0.007    0.188     0.417   0.005    0.093    0.056   0.005   \n",
              "       공산품     0.016    0.122     0.337   0.008    0.035    0.023   0.004   \n",
              "       서비스     0.004    0.406     2.184   0.004    0.148    0.177   0.020   \n",
              "수입     농산품     0.042    2.882     0.399   0.052    1.949    0.078   0.102   \n",
              "       공산품     0.117  100.234    41.048   0.205   52.264    8.680   0.315   \n",
              "       서비스     0.026    5.651    25.485   0.032    2.674    3.045   0.070   \n",
              "중간투입계  중간수요계   4.037  402.513   555.789   5.401  205.663   85.734   6.698   \n",
              "피보     피용자보수   0.435   71.305   323.947   0.790   27.197   54.877   1.620   \n",
              "영잉     영업잉여    2.876   51.531   169.687   4.440   28.192   21.959   5.901   \n",
              "고소     고정자본소모  0.557   45.016   103.715   0.908   22.705   17.885   1.256   \n",
              "생산세f   생산세     0.056   11.191    50.550   0.097   10.198    6.811   0.097   \n",
              "부가가치계f 부가가치계   3.924  179.043   647.898   6.235   88.291  101.532   8.874   \n",
              "총투입액f  총투입액    7.960  581.556  1203.687  11.636  293.954  187.266  15.571   \n",
              "\n",
              "                                    동남권  ...                       강원권  \\\n",
              "                   공산품      서비스     농산품  ...       투자       수출      소비   \n",
              "지역     상품                                ...                             \n",
              "수도권    농산품       0.157    0.035   0.027  ...    0.009    0.000   0.029   \n",
              "       공산품       8.641    5.044   0.564  ...    5.563    0.000   0.999   \n",
              "       서비스      11.064   11.664   0.710  ...   11.412    0.000   5.902   \n",
              "충청권    농산품       0.420    0.078   0.043  ...    0.018    0.000   0.048   \n",
              "       공산품       7.422    3.691   0.543  ...    1.734    0.000   0.570   \n",
              "       서비스       0.503    0.719   0.035  ...    0.418    0.000   0.437   \n",
              "서남권    농산품       5.107    0.614   0.057  ...    0.035    0.000   0.063   \n",
              "       공산품      31.315    9.386   0.627  ...    1.382    0.000   0.777   \n",
              "       서비스      16.165   23.943   0.035  ...    0.096    0.000   0.230   \n",
              "동남권    농산품       0.500    0.149   0.764  ...    0.460    0.238   0.162   \n",
              "       공산품      13.659    5.177   3.089  ...   10.124  223.906   1.020   \n",
              "       서비스       1.268    1.345   1.662  ...   66.199   24.795   0.576   \n",
              "강원권    농산품       0.055    0.036   0.031  ...    0.018    0.000   0.104   \n",
              "       공산품       0.662    0.173   0.036  ...    0.038    0.000   0.622   \n",
              "       서비스       0.072    0.147   0.015  ...    0.029    0.000  23.076   \n",
              "제주권    농산품       0.101    0.045   0.011  ...    0.002    0.000   0.023   \n",
              "       공산품       0.037    0.053   0.017  ...    0.005    0.000   0.004   \n",
              "       서비스       0.305    0.450   0.010  ...    0.022    0.000   0.086   \n",
              "수입     농산품       1.345    0.065   0.112  ...   -0.013    0.000   0.084   \n",
              "       공산품      45.638    7.558   0.388  ...   10.819    0.106   1.564   \n",
              "       서비스       1.651    4.641   0.196  ...    0.816    0.000   0.363   \n",
              "중간투입계  중간수요계   146.087   75.014   8.973  ...  109.186  249.046  36.739   \n",
              "피보     피용자보수    15.049   46.703   1.666  ...    0.000    0.000   0.000   \n",
              "영잉     영업잉여     14.845   20.091   6.988  ...    0.000    0.000   0.000   \n",
              "고소     고정자본소모    9.605   17.299   1.558  ...    0.000    0.000   0.000   \n",
              "생산세f   생산세       8.694    5.782   0.242  ...    0.000    0.000   0.000   \n",
              "부가가치계f 부가가치계    48.193   89.875  10.454  ...    0.000    0.000   0.000   \n",
              "총투입액f  총투입액    194.280  164.889  19.427  ...    0.000    0.000   0.000   \n",
              "\n",
              "                                 제주권                 지역최종수요계    지역총수요계  \n",
              "                   투자     수출      소비     투자     수출   제품최종수요계    제품총수요계  \n",
              "지역     상품                                                               \n",
              "수도권    농산품      0.006  0.000   0.004  0.001  0.000     1.692     7.960  \n",
              "       공산품      0.612  0.000   0.421  0.159  0.000   294.921   581.556  \n",
              "       서비스      1.149  0.000   1.552  0.242  0.000   706.306  1203.687  \n",
              "충청권    농산품      0.005  0.000   0.007  0.001  0.000     2.626    11.636  \n",
              "       공산품      0.202  0.000   0.163  0.058  0.000   130.848   293.954  \n",
              "       서비스      0.036  0.000   0.120  0.021  0.000   125.398   187.266  \n",
              "서남권    농산품      0.002  0.000   0.009  0.002  0.000     4.155    15.571  \n",
              "       공산품      0.396  0.000   0.184  0.065  0.000    90.346   194.280  \n",
              "       서비스      0.006  0.000   0.265  0.075  0.000   110.873   164.889  \n",
              "동남권    농산품      0.006  0.000   0.011  0.002  0.000     5.851    19.427  \n",
              "       공산품      1.001  0.000   0.515  0.171  0.000   300.758   621.248  \n",
              "       서비스      0.026  0.000   0.276  0.021  0.000   275.492   425.294  \n",
              "강원권    농산품      0.107  0.032   0.009  0.002  0.000     1.137     4.033  \n",
              "       공산품      0.035  2.538   0.012 -0.001  0.000     4.976    17.514  \n",
              "       서비스     10.250  1.106   0.031  0.003  0.000    40.143    54.080  \n",
              "제주권    농산품     -0.000  0.000   0.136  0.015  0.050     1.050     2.744  \n",
              "       공산품     -0.000  0.000   0.094  0.008  0.287     0.745     2.602  \n",
              "       서비스      0.002  0.000   7.700  4.463  1.444    17.377    25.821  \n",
              "수입     농산품     -0.004  0.000   0.032  0.000  0.000     2.842    12.158  \n",
              "       공산품      0.726  0.000   0.793  0.332  0.241   108.665   514.044  \n",
              "       서비스      0.034  0.000   0.294  0.011  0.000    35.253    97.801  \n",
              "중간투입계  중간수요계   14.597  3.676  12.626  5.650  2.023  2261.453  4457.564  \n",
              "피보     피용자보수    0.000  0.000   0.000  0.000  0.000     0.000   750.213  \n",
              "영잉     영업잉여     0.000  0.000   0.000  0.000  0.000     0.000   441.465  \n",
              "고소     고정자본소모   0.000  0.000   0.000  0.000  0.000     0.000   309.670  \n",
              "생산세f   생산세      0.000  0.000   0.000  0.000  0.000     0.000   136.103  \n",
              "부가가치계f 부가가치계    0.000  0.000   0.000  0.000  0.000     0.000  1637.451  \n",
              "총투입액f  총투입액     0.000  0.000   0.000  0.000  0.000     0.000  3833.562  \n",
              "\n",
              "[28 rows x 39 columns]"
            ],
            "text/html": [
              "\n",
              "\n",
              "  <div id=\"df-e5e6cbec-1f67-4dbf-9e78-1cd7a2047254\">\n",
              "    <div class=\"colab-df-container\">\n",
              "      <div>\n",
              "<style scoped>\n",
              "    .dataframe tbody tr th:only-of-type {\n",
              "        vertical-align: middle;\n",
              "    }\n",
              "\n",
              "    .dataframe tbody tr th {\n",
              "        vertical-align: top;\n",
              "    }\n",
              "\n",
              "    .dataframe thead tr th {\n",
              "        text-align: left;\n",
              "    }\n",
              "\n",
              "    .dataframe thead tr:last-of-type th {\n",
              "        text-align: right;\n",
              "    }\n",
              "</style>\n",
              "<table border=\"1\" class=\"dataframe\">\n",
              "  <thead>\n",
              "    <tr>\n",
              "      <th></th>\n",
              "      <th></th>\n",
              "      <th colspan=\"3\" halign=\"left\">수도권</th>\n",
              "      <th colspan=\"3\" halign=\"left\">충청권</th>\n",
              "      <th colspan=\"3\" halign=\"left\">서남권</th>\n",
              "      <th colspan=\"4\" halign=\"left\">동남권</th>\n",
              "      <th colspan=\"3\" halign=\"left\">강원권</th>\n",
              "      <th colspan=\"3\" halign=\"left\">제주권</th>\n",
              "      <th>지역최종수요계</th>\n",
              "      <th>지역총수요계</th>\n",
              "    </tr>\n",
              "    <tr>\n",
              "      <th></th>\n",
              "      <th></th>\n",
              "      <th>농산품</th>\n",
              "      <th>공산품</th>\n",
              "      <th>서비스</th>\n",
              "      <th>농산품</th>\n",
              "      <th>공산품</th>\n",
              "      <th>서비스</th>\n",
              "      <th>농산품</th>\n",
              "      <th>공산품</th>\n",
              "      <th>서비스</th>\n",
              "      <th>농산품</th>\n",
              "      <th>...</th>\n",
              "      <th>투자</th>\n",
              "      <th>수출</th>\n",
              "      <th>소비</th>\n",
              "      <th>투자</th>\n",
              "      <th>수출</th>\n",
              "      <th>소비</th>\n",
              "      <th>투자</th>\n",
              "      <th>수출</th>\n",
              "      <th>제품최종수요계</th>\n",
              "      <th>제품총수요계</th>\n",
              "    </tr>\n",
              "    <tr>\n",
              "      <th>지역</th>\n",
              "      <th>상품</th>\n",
              "      <th></th>\n",
              "      <th></th>\n",
              "      <th></th>\n",
              "      <th></th>\n",
              "      <th></th>\n",
              "      <th></th>\n",
              "      <th></th>\n",
              "      <th></th>\n",
              "      <th></th>\n",
              "      <th></th>\n",
              "      <th></th>\n",
              "      <th></th>\n",
              "      <th></th>\n",
              "      <th></th>\n",
              "      <th></th>\n",
              "      <th></th>\n",
              "      <th></th>\n",
              "      <th></th>\n",
              "      <th></th>\n",
              "      <th></th>\n",
              "      <th></th>\n",
              "    </tr>\n",
              "  </thead>\n",
              "  <tbody>\n",
              "    <tr>\n",
              "      <th rowspan=\"3\" valign=\"top\">수도권</th>\n",
              "      <th>농산품</th>\n",
              "      <td>0.233</td>\n",
              "      <td>3.116</td>\n",
              "      <td>0.983</td>\n",
              "      <td>0.028</td>\n",
              "      <td>1.089</td>\n",
              "      <td>0.065</td>\n",
              "      <td>0.018</td>\n",
              "      <td>0.157</td>\n",
              "      <td>0.035</td>\n",
              "      <td>0.027</td>\n",
              "      <td>...</td>\n",
              "      <td>0.009</td>\n",
              "      <td>0.000</td>\n",
              "      <td>0.029</td>\n",
              "      <td>0.006</td>\n",
              "      <td>0.000</td>\n",
              "      <td>0.004</td>\n",
              "      <td>0.001</td>\n",
              "      <td>0.000</td>\n",
              "      <td>1.692</td>\n",
              "      <td>7.960</td>\n",
              "    </tr>\n",
              "    <tr>\n",
              "      <th>공산품</th>\n",
              "      <td>1.870</td>\n",
              "      <td>112.123</td>\n",
              "      <td>71.109</td>\n",
              "      <td>0.340</td>\n",
              "      <td>28.055</td>\n",
              "      <td>7.030</td>\n",
              "      <td>0.569</td>\n",
              "      <td>8.641</td>\n",
              "      <td>5.044</td>\n",
              "      <td>0.564</td>\n",
              "      <td>...</td>\n",
              "      <td>5.563</td>\n",
              "      <td>0.000</td>\n",
              "      <td>0.999</td>\n",
              "      <td>0.612</td>\n",
              "      <td>0.000</td>\n",
              "      <td>0.421</td>\n",
              "      <td>0.159</td>\n",
              "      <td>0.000</td>\n",
              "      <td>294.921</td>\n",
              "      <td>581.556</td>\n",
              "    </tr>\n",
              "    <tr>\n",
              "      <th>서비스</th>\n",
              "      <td>0.781</td>\n",
              "      <td>78.614</td>\n",
              "      <td>301.607</td>\n",
              "      <td>0.493</td>\n",
              "      <td>17.060</td>\n",
              "      <td>14.705</td>\n",
              "      <td>0.526</td>\n",
              "      <td>11.064</td>\n",
              "      <td>11.664</td>\n",
              "      <td>0.710</td>\n",
              "      <td>...</td>\n",
              "      <td>11.412</td>\n",
              "      <td>0.000</td>\n",
              "      <td>5.902</td>\n",
              "      <td>1.149</td>\n",
              "      <td>0.000</td>\n",
              "      <td>1.552</td>\n",
              "      <td>0.242</td>\n",
              "      <td>0.000</td>\n",
              "      <td>706.306</td>\n",
              "      <td>1203.687</td>\n",
              "    </tr>\n",
              "    <tr>\n",
              "      <th rowspan=\"3\" valign=\"top\">충청권</th>\n",
              "      <th>농산품</th>\n",
              "      <td>0.044</td>\n",
              "      <td>1.105</td>\n",
              "      <td>0.989</td>\n",
              "      <td>0.380</td>\n",
              "      <td>4.877</td>\n",
              "      <td>0.356</td>\n",
              "      <td>0.024</td>\n",
              "      <td>0.420</td>\n",
              "      <td>0.078</td>\n",
              "      <td>0.043</td>\n",
              "      <td>...</td>\n",
              "      <td>0.018</td>\n",
              "      <td>0.000</td>\n",
              "      <td>0.048</td>\n",
              "      <td>0.005</td>\n",
              "      <td>0.000</td>\n",
              "      <td>0.007</td>\n",
              "      <td>0.001</td>\n",
              "      <td>0.000</td>\n",
              "      <td>2.626</td>\n",
              "      <td>11.636</td>\n",
              "    </tr>\n",
              "    <tr>\n",
              "      <th>공산품</th>\n",
              "      <td>0.178</td>\n",
              "      <td>32.277</td>\n",
              "      <td>26.221</td>\n",
              "      <td>2.296</td>\n",
              "      <td>41.634</td>\n",
              "      <td>13.892</td>\n",
              "      <td>0.312</td>\n",
              "      <td>7.422</td>\n",
              "      <td>3.691</td>\n",
              "      <td>0.543</td>\n",
              "      <td>...</td>\n",
              "      <td>1.734</td>\n",
              "      <td>0.000</td>\n",
              "      <td>0.570</td>\n",
              "      <td>0.202</td>\n",
              "      <td>0.000</td>\n",
              "      <td>0.163</td>\n",
              "      <td>0.058</td>\n",
              "      <td>0.000</td>\n",
              "      <td>130.848</td>\n",
              "      <td>293.954</td>\n",
              "    </tr>\n",
              "    <tr>\n",
              "      <th>서비스</th>\n",
              "      <td>0.016</td>\n",
              "      <td>1.437</td>\n",
              "      <td>8.019</td>\n",
              "      <td>0.637</td>\n",
              "      <td>22.172</td>\n",
              "      <td>25.681</td>\n",
              "      <td>0.030</td>\n",
              "      <td>0.503</td>\n",
              "      <td>0.719</td>\n",
              "      <td>0.035</td>\n",
              "      <td>...</td>\n",
              "      <td>0.418</td>\n",
              "      <td>0.000</td>\n",
              "      <td>0.437</td>\n",
              "      <td>0.036</td>\n",
              "      <td>0.000</td>\n",
              "      <td>0.120</td>\n",
              "      <td>0.021</td>\n",
              "      <td>0.000</td>\n",
              "      <td>125.398</td>\n",
              "      <td>187.266</td>\n",
              "    </tr>\n",
              "    <tr>\n",
              "      <th rowspan=\"3\" valign=\"top\">서남권</th>\n",
              "      <th>농산품</th>\n",
              "      <td>0.040</td>\n",
              "      <td>0.951</td>\n",
              "      <td>1.399</td>\n",
              "      <td>0.039</td>\n",
              "      <td>0.993</td>\n",
              "      <td>0.209</td>\n",
              "      <td>0.581</td>\n",
              "      <td>5.107</td>\n",
              "      <td>0.614</td>\n",
              "      <td>0.057</td>\n",
              "      <td>...</td>\n",
              "      <td>0.035</td>\n",
              "      <td>0.000</td>\n",
              "      <td>0.063</td>\n",
              "      <td>0.002</td>\n",
              "      <td>0.000</td>\n",
              "      <td>0.009</td>\n",
              "      <td>0.002</td>\n",
              "      <td>0.000</td>\n",
              "      <td>4.155</td>\n",
              "      <td>15.571</td>\n",
              "    </tr>\n",
              "    <tr>\n",
              "      <th>공산품</th>\n",
              "      <td>0.276</td>\n",
              "      <td>13.909</td>\n",
              "      <td>13.083</td>\n",
              "      <td>0.358</td>\n",
              "      <td>6.881</td>\n",
              "      <td>2.422</td>\n",
              "      <td>2.496</td>\n",
              "      <td>31.315</td>\n",
              "      <td>9.386</td>\n",
              "      <td>0.627</td>\n",
              "      <td>...</td>\n",
              "      <td>1.382</td>\n",
              "      <td>0.000</td>\n",
              "      <td>0.777</td>\n",
              "      <td>0.396</td>\n",
              "      <td>0.000</td>\n",
              "      <td>0.184</td>\n",
              "      <td>0.065</td>\n",
              "      <td>0.000</td>\n",
              "      <td>90.346</td>\n",
              "      <td>194.280</td>\n",
              "    </tr>\n",
              "    <tr>\n",
              "      <th>서비스</th>\n",
              "      <td>0.017</td>\n",
              "      <td>1.481</td>\n",
              "      <td>6.626</td>\n",
              "      <td>0.028</td>\n",
              "      <td>0.909</td>\n",
              "      <td>0.947</td>\n",
              "      <td>0.901</td>\n",
              "      <td>16.165</td>\n",
              "      <td>23.943</td>\n",
              "      <td>0.035</td>\n",
              "      <td>...</td>\n",
              "      <td>0.096</td>\n",
              "      <td>0.000</td>\n",
              "      <td>0.230</td>\n",
              "      <td>0.006</td>\n",
              "      <td>0.000</td>\n",
              "      <td>0.265</td>\n",
              "      <td>0.075</td>\n",
              "      <td>0.000</td>\n",
              "      <td>110.873</td>\n",
              "      <td>164.889</td>\n",
              "    </tr>\n",
              "    <tr>\n",
              "      <th rowspan=\"3\" valign=\"top\">동남권</th>\n",
              "      <th>농산품</th>\n",
              "      <td>0.048</td>\n",
              "      <td>0.923</td>\n",
              "      <td>1.641</td>\n",
              "      <td>0.049</td>\n",
              "      <td>0.866</td>\n",
              "      <td>0.223</td>\n",
              "      <td>0.040</td>\n",
              "      <td>0.500</td>\n",
              "      <td>0.149</td>\n",
              "      <td>0.764</td>\n",
              "      <td>...</td>\n",
              "      <td>0.460</td>\n",
              "      <td>0.238</td>\n",
              "      <td>0.162</td>\n",
              "      <td>0.006</td>\n",
              "      <td>0.000</td>\n",
              "      <td>0.011</td>\n",
              "      <td>0.002</td>\n",
              "      <td>0.000</td>\n",
              "      <td>5.851</td>\n",
              "      <td>19.427</td>\n",
              "    </tr>\n",
              "    <tr>\n",
              "      <th>공산품</th>\n",
              "      <td>0.227</td>\n",
              "      <td>41.436</td>\n",
              "      <td>36.017</td>\n",
              "      <td>0.347</td>\n",
              "      <td>20.520</td>\n",
              "      <td>5.873</td>\n",
              "      <td>0.585</td>\n",
              "      <td>13.659</td>\n",
              "      <td>5.177</td>\n",
              "      <td>3.089</td>\n",
              "      <td>...</td>\n",
              "      <td>10.124</td>\n",
              "      <td>223.906</td>\n",
              "      <td>1.020</td>\n",
              "      <td>1.001</td>\n",
              "      <td>0.000</td>\n",
              "      <td>0.515</td>\n",
              "      <td>0.171</td>\n",
              "      <td>0.000</td>\n",
              "      <td>300.758</td>\n",
              "      <td>621.248</td>\n",
              "    </tr>\n",
              "    <tr>\n",
              "      <th>서비스</th>\n",
              "      <td>0.036</td>\n",
              "      <td>3.049</td>\n",
              "      <td>12.328</td>\n",
              "      <td>0.056</td>\n",
              "      <td>1.772</td>\n",
              "      <td>1.476</td>\n",
              "      <td>0.069</td>\n",
              "      <td>1.268</td>\n",
              "      <td>1.345</td>\n",
              "      <td>1.662</td>\n",
              "      <td>...</td>\n",
              "      <td>66.199</td>\n",
              "      <td>24.795</td>\n",
              "      <td>0.576</td>\n",
              "      <td>0.026</td>\n",
              "      <td>0.000</td>\n",
              "      <td>0.276</td>\n",
              "      <td>0.021</td>\n",
              "      <td>0.000</td>\n",
              "      <td>275.492</td>\n",
              "      <td>425.294</td>\n",
              "    </tr>\n",
              "    <tr>\n",
              "      <th rowspan=\"3\" valign=\"top\">강원권</th>\n",
              "      <th>농산품</th>\n",
              "      <td>0.026</td>\n",
              "      <td>0.433</td>\n",
              "      <td>0.448</td>\n",
              "      <td>0.021</td>\n",
              "      <td>0.376</td>\n",
              "      <td>0.056</td>\n",
              "      <td>0.012</td>\n",
              "      <td>0.055</td>\n",
              "      <td>0.036</td>\n",
              "      <td>0.031</td>\n",
              "      <td>...</td>\n",
              "      <td>0.018</td>\n",
              "      <td>0.000</td>\n",
              "      <td>0.104</td>\n",
              "      <td>0.107</td>\n",
              "      <td>0.032</td>\n",
              "      <td>0.009</td>\n",
              "      <td>0.002</td>\n",
              "      <td>0.000</td>\n",
              "      <td>1.137</td>\n",
              "      <td>4.033</td>\n",
              "    </tr>\n",
              "    <tr>\n",
              "      <th>공산품</th>\n",
              "      <td>0.023</td>\n",
              "      <td>1.642</td>\n",
              "      <td>2.401</td>\n",
              "      <td>0.016</td>\n",
              "      <td>1.056</td>\n",
              "      <td>0.404</td>\n",
              "      <td>0.014</td>\n",
              "      <td>0.662</td>\n",
              "      <td>0.173</td>\n",
              "      <td>0.036</td>\n",
              "      <td>...</td>\n",
              "      <td>0.038</td>\n",
              "      <td>0.000</td>\n",
              "      <td>0.622</td>\n",
              "      <td>0.035</td>\n",
              "      <td>2.538</td>\n",
              "      <td>0.012</td>\n",
              "      <td>-0.001</td>\n",
              "      <td>0.000</td>\n",
              "      <td>4.976</td>\n",
              "      <td>17.514</td>\n",
              "    </tr>\n",
              "    <tr>\n",
              "      <th>서비스</th>\n",
              "      <td>0.007</td>\n",
              "      <td>0.533</td>\n",
              "      <td>3.048</td>\n",
              "      <td>0.008</td>\n",
              "      <td>0.239</td>\n",
              "      <td>0.336</td>\n",
              "      <td>0.006</td>\n",
              "      <td>0.072</td>\n",
              "      <td>0.147</td>\n",
              "      <td>0.015</td>\n",
              "      <td>...</td>\n",
              "      <td>0.029</td>\n",
              "      <td>0.000</td>\n",
              "      <td>23.076</td>\n",
              "      <td>10.250</td>\n",
              "      <td>1.106</td>\n",
              "      <td>0.031</td>\n",
              "      <td>0.003</td>\n",
              "      <td>0.000</td>\n",
              "      <td>40.143</td>\n",
              "      <td>54.080</td>\n",
              "    </tr>\n",
              "    <tr>\n",
              "      <th rowspan=\"3\" valign=\"top\">제주권</th>\n",
              "      <th>농산품</th>\n",
              "      <td>0.007</td>\n",
              "      <td>0.188</td>\n",
              "      <td>0.417</td>\n",
              "      <td>0.005</td>\n",
              "      <td>0.093</td>\n",
              "      <td>0.056</td>\n",
              "      <td>0.005</td>\n",
              "      <td>0.101</td>\n",
              "      <td>0.045</td>\n",
              "      <td>0.011</td>\n",
              "      <td>...</td>\n",
              "      <td>0.002</td>\n",
              "      <td>0.000</td>\n",
              "      <td>0.023</td>\n",
              "      <td>-0.000</td>\n",
              "      <td>0.000</td>\n",
              "      <td>0.136</td>\n",
              "      <td>0.015</td>\n",
              "      <td>0.050</td>\n",
              "      <td>1.050</td>\n",
              "      <td>2.744</td>\n",
              "    </tr>\n",
              "    <tr>\n",
              "      <th>공산품</th>\n",
              "      <td>0.016</td>\n",
              "      <td>0.122</td>\n",
              "      <td>0.337</td>\n",
              "      <td>0.008</td>\n",
              "      <td>0.035</td>\n",
              "      <td>0.023</td>\n",
              "      <td>0.004</td>\n",
              "      <td>0.037</td>\n",
              "      <td>0.053</td>\n",
              "      <td>0.017</td>\n",
              "      <td>...</td>\n",
              "      <td>0.005</td>\n",
              "      <td>0.000</td>\n",
              "      <td>0.004</td>\n",
              "      <td>-0.000</td>\n",
              "      <td>0.000</td>\n",
              "      <td>0.094</td>\n",
              "      <td>0.008</td>\n",
              "      <td>0.287</td>\n",
              "      <td>0.745</td>\n",
              "      <td>2.602</td>\n",
              "    </tr>\n",
              "    <tr>\n",
              "      <th>서비스</th>\n",
              "      <td>0.004</td>\n",
              "      <td>0.406</td>\n",
              "      <td>2.184</td>\n",
              "      <td>0.004</td>\n",
              "      <td>0.148</td>\n",
              "      <td>0.177</td>\n",
              "      <td>0.020</td>\n",
              "      <td>0.305</td>\n",
              "      <td>0.450</td>\n",
              "      <td>0.010</td>\n",
              "      <td>...</td>\n",
              "      <td>0.022</td>\n",
              "      <td>0.000</td>\n",
              "      <td>0.086</td>\n",
              "      <td>0.002</td>\n",
              "      <td>0.000</td>\n",
              "      <td>7.700</td>\n",
              "      <td>4.463</td>\n",
              "      <td>1.444</td>\n",
              "      <td>17.377</td>\n",
              "      <td>25.821</td>\n",
              "    </tr>\n",
              "    <tr>\n",
              "      <th rowspan=\"3\" valign=\"top\">수입</th>\n",
              "      <th>농산품</th>\n",
              "      <td>0.042</td>\n",
              "      <td>2.882</td>\n",
              "      <td>0.399</td>\n",
              "      <td>0.052</td>\n",
              "      <td>1.949</td>\n",
              "      <td>0.078</td>\n",
              "      <td>0.102</td>\n",
              "      <td>1.345</td>\n",
              "      <td>0.065</td>\n",
              "      <td>0.112</td>\n",
              "      <td>...</td>\n",
              "      <td>-0.013</td>\n",
              "      <td>0.000</td>\n",
              "      <td>0.084</td>\n",
              "      <td>-0.004</td>\n",
              "      <td>0.000</td>\n",
              "      <td>0.032</td>\n",
              "      <td>0.000</td>\n",
              "      <td>0.000</td>\n",
              "      <td>2.842</td>\n",
              "      <td>12.158</td>\n",
              "    </tr>\n",
              "    <tr>\n",
              "      <th>공산품</th>\n",
              "      <td>0.117</td>\n",
              "      <td>100.234</td>\n",
              "      <td>41.048</td>\n",
              "      <td>0.205</td>\n",
              "      <td>52.264</td>\n",
              "      <td>8.680</td>\n",
              "      <td>0.315</td>\n",
              "      <td>45.638</td>\n",
              "      <td>7.558</td>\n",
              "      <td>0.388</td>\n",
              "      <td>...</td>\n",
              "      <td>10.819</td>\n",
              "      <td>0.106</td>\n",
              "      <td>1.564</td>\n",
              "      <td>0.726</td>\n",
              "      <td>0.000</td>\n",
              "      <td>0.793</td>\n",
              "      <td>0.332</td>\n",
              "      <td>0.241</td>\n",
              "      <td>108.665</td>\n",
              "      <td>514.044</td>\n",
              "    </tr>\n",
              "    <tr>\n",
              "      <th>서비스</th>\n",
              "      <td>0.026</td>\n",
              "      <td>5.651</td>\n",
              "      <td>25.485</td>\n",
              "      <td>0.032</td>\n",
              "      <td>2.674</td>\n",
              "      <td>3.045</td>\n",
              "      <td>0.070</td>\n",
              "      <td>1.651</td>\n",
              "      <td>4.641</td>\n",
              "      <td>0.196</td>\n",
              "      <td>...</td>\n",
              "      <td>0.816</td>\n",
              "      <td>0.000</td>\n",
              "      <td>0.363</td>\n",
              "      <td>0.034</td>\n",
              "      <td>0.000</td>\n",
              "      <td>0.294</td>\n",
              "      <td>0.011</td>\n",
              "      <td>0.000</td>\n",
              "      <td>35.253</td>\n",
              "      <td>97.801</td>\n",
              "    </tr>\n",
              "    <tr>\n",
              "      <th>중간투입계</th>\n",
              "      <th>중간수요계</th>\n",
              "      <td>4.037</td>\n",
              "      <td>402.513</td>\n",
              "      <td>555.789</td>\n",
              "      <td>5.401</td>\n",
              "      <td>205.663</td>\n",
              "      <td>85.734</td>\n",
              "      <td>6.698</td>\n",
              "      <td>146.087</td>\n",
              "      <td>75.014</td>\n",
              "      <td>8.973</td>\n",
              "      <td>...</td>\n",
              "      <td>109.186</td>\n",
              "      <td>249.046</td>\n",
              "      <td>36.739</td>\n",
              "      <td>14.597</td>\n",
              "      <td>3.676</td>\n",
              "      <td>12.626</td>\n",
              "      <td>5.650</td>\n",
              "      <td>2.023</td>\n",
              "      <td>2261.453</td>\n",
              "      <td>4457.564</td>\n",
              "    </tr>\n",
              "    <tr>\n",
              "      <th>피보</th>\n",
              "      <th>피용자보수</th>\n",
              "      <td>0.435</td>\n",
              "      <td>71.305</td>\n",
              "      <td>323.947</td>\n",
              "      <td>0.790</td>\n",
              "      <td>27.197</td>\n",
              "      <td>54.877</td>\n",
              "      <td>1.620</td>\n",
              "      <td>15.049</td>\n",
              "      <td>46.703</td>\n",
              "      <td>1.666</td>\n",
              "      <td>...</td>\n",
              "      <td>0.000</td>\n",
              "      <td>0.000</td>\n",
              "      <td>0.000</td>\n",
              "      <td>0.000</td>\n",
              "      <td>0.000</td>\n",
              "      <td>0.000</td>\n",
              "      <td>0.000</td>\n",
              "      <td>0.000</td>\n",
              "      <td>0.000</td>\n",
              "      <td>750.213</td>\n",
              "    </tr>\n",
              "    <tr>\n",
              "      <th>영잉</th>\n",
              "      <th>영업잉여</th>\n",
              "      <td>2.876</td>\n",
              "      <td>51.531</td>\n",
              "      <td>169.687</td>\n",
              "      <td>4.440</td>\n",
              "      <td>28.192</td>\n",
              "      <td>21.959</td>\n",
              "      <td>5.901</td>\n",
              "      <td>14.845</td>\n",
              "      <td>20.091</td>\n",
              "      <td>6.988</td>\n",
              "      <td>...</td>\n",
              "      <td>0.000</td>\n",
              "      <td>0.000</td>\n",
              "      <td>0.000</td>\n",
              "      <td>0.000</td>\n",
              "      <td>0.000</td>\n",
              "      <td>0.000</td>\n",
              "      <td>0.000</td>\n",
              "      <td>0.000</td>\n",
              "      <td>0.000</td>\n",
              "      <td>441.465</td>\n",
              "    </tr>\n",
              "    <tr>\n",
              "      <th>고소</th>\n",
              "      <th>고정자본소모</th>\n",
              "      <td>0.557</td>\n",
              "      <td>45.016</td>\n",
              "      <td>103.715</td>\n",
              "      <td>0.908</td>\n",
              "      <td>22.705</td>\n",
              "      <td>17.885</td>\n",
              "      <td>1.256</td>\n",
              "      <td>9.605</td>\n",
              "      <td>17.299</td>\n",
              "      <td>1.558</td>\n",
              "      <td>...</td>\n",
              "      <td>0.000</td>\n",
              "      <td>0.000</td>\n",
              "      <td>0.000</td>\n",
              "      <td>0.000</td>\n",
              "      <td>0.000</td>\n",
              "      <td>0.000</td>\n",
              "      <td>0.000</td>\n",
              "      <td>0.000</td>\n",
              "      <td>0.000</td>\n",
              "      <td>309.670</td>\n",
              "    </tr>\n",
              "    <tr>\n",
              "      <th>생산세f</th>\n",
              "      <th>생산세</th>\n",
              "      <td>0.056</td>\n",
              "      <td>11.191</td>\n",
              "      <td>50.550</td>\n",
              "      <td>0.097</td>\n",
              "      <td>10.198</td>\n",
              "      <td>6.811</td>\n",
              "      <td>0.097</td>\n",
              "      <td>8.694</td>\n",
              "      <td>5.782</td>\n",
              "      <td>0.242</td>\n",
              "      <td>...</td>\n",
              "      <td>0.000</td>\n",
              "      <td>0.000</td>\n",
              "      <td>0.000</td>\n",
              "      <td>0.000</td>\n",
              "      <td>0.000</td>\n",
              "      <td>0.000</td>\n",
              "      <td>0.000</td>\n",
              "      <td>0.000</td>\n",
              "      <td>0.000</td>\n",
              "      <td>136.103</td>\n",
              "    </tr>\n",
              "    <tr>\n",
              "      <th>부가가치계f</th>\n",
              "      <th>부가가치계</th>\n",
              "      <td>3.924</td>\n",
              "      <td>179.043</td>\n",
              "      <td>647.898</td>\n",
              "      <td>6.235</td>\n",
              "      <td>88.291</td>\n",
              "      <td>101.532</td>\n",
              "      <td>8.874</td>\n",
              "      <td>48.193</td>\n",
              "      <td>89.875</td>\n",
              "      <td>10.454</td>\n",
              "      <td>...</td>\n",
              "      <td>0.000</td>\n",
              "      <td>0.000</td>\n",
              "      <td>0.000</td>\n",
              "      <td>0.000</td>\n",
              "      <td>0.000</td>\n",
              "      <td>0.000</td>\n",
              "      <td>0.000</td>\n",
              "      <td>0.000</td>\n",
              "      <td>0.000</td>\n",
              "      <td>1637.451</td>\n",
              "    </tr>\n",
              "    <tr>\n",
              "      <th>총투입액f</th>\n",
              "      <th>총투입액</th>\n",
              "      <td>7.960</td>\n",
              "      <td>581.556</td>\n",
              "      <td>1203.687</td>\n",
              "      <td>11.636</td>\n",
              "      <td>293.954</td>\n",
              "      <td>187.266</td>\n",
              "      <td>15.571</td>\n",
              "      <td>194.280</td>\n",
              "      <td>164.889</td>\n",
              "      <td>19.427</td>\n",
              "      <td>...</td>\n",
              "      <td>0.000</td>\n",
              "      <td>0.000</td>\n",
              "      <td>0.000</td>\n",
              "      <td>0.000</td>\n",
              "      <td>0.000</td>\n",
              "      <td>0.000</td>\n",
              "      <td>0.000</td>\n",
              "      <td>0.000</td>\n",
              "      <td>0.000</td>\n",
              "      <td>3833.562</td>\n",
              "    </tr>\n",
              "  </tbody>\n",
              "</table>\n",
              "<p>28 rows × 39 columns</p>\n",
              "</div>\n",
              "      <button class=\"colab-df-convert\" onclick=\"convertToInteractive('df-e5e6cbec-1f67-4dbf-9e78-1cd7a2047254')\"\n",
              "              title=\"Convert this dataframe to an interactive table.\"\n",
              "              style=\"display:none;\">\n",
              "\n",
              "  <svg xmlns=\"http://www.w3.org/2000/svg\" height=\"24px\"viewBox=\"0 0 24 24\"\n",
              "       width=\"24px\">\n",
              "    <path d=\"M0 0h24v24H0V0z\" fill=\"none\"/>\n",
              "    <path d=\"M18.56 5.44l.94 2.06.94-2.06 2.06-.94-2.06-.94-.94-2.06-.94 2.06-2.06.94zm-11 1L8.5 8.5l.94-2.06 2.06-.94-2.06-.94L8.5 2.5l-.94 2.06-2.06.94zm10 10l.94 2.06.94-2.06 2.06-.94-2.06-.94-.94-2.06-.94 2.06-2.06.94z\"/><path d=\"M17.41 7.96l-1.37-1.37c-.4-.4-.92-.59-1.43-.59-.52 0-1.04.2-1.43.59L10.3 9.45l-7.72 7.72c-.78.78-.78 2.05 0 2.83L4 21.41c.39.39.9.59 1.41.59.51 0 1.02-.2 1.41-.59l7.78-7.78 2.81-2.81c.8-.78.8-2.07 0-2.86zM5.41 20L4 18.59l7.72-7.72 1.47 1.35L5.41 20z\"/>\n",
              "  </svg>\n",
              "      </button>\n",
              "\n",
              "\n",
              "\n",
              "    <div id=\"df-3eaaaafe-79b7-421a-8981-64c385504049\">\n",
              "      <button class=\"colab-df-quickchart\" onclick=\"quickchart('df-3eaaaafe-79b7-421a-8981-64c385504049')\"\n",
              "              title=\"Suggest charts.\"\n",
              "              style=\"display:none;\">\n",
              "\n",
              "<svg xmlns=\"http://www.w3.org/2000/svg\" height=\"24px\"viewBox=\"0 0 24 24\"\n",
              "     width=\"24px\">\n",
              "    <g>\n",
              "        <path d=\"M19 3H5c-1.1 0-2 .9-2 2v14c0 1.1.9 2 2 2h14c1.1 0 2-.9 2-2V5c0-1.1-.9-2-2-2zM9 17H7v-7h2v7zm4 0h-2V7h2v10zm4 0h-2v-4h2v4z\"/>\n",
              "    </g>\n",
              "</svg>\n",
              "      </button>\n",
              "    </div>\n",
              "\n",
              "<style>\n",
              "  .colab-df-quickchart {\n",
              "    background-color: #E8F0FE;\n",
              "    border: none;\n",
              "    border-radius: 50%;\n",
              "    cursor: pointer;\n",
              "    display: none;\n",
              "    fill: #1967D2;\n",
              "    height: 32px;\n",
              "    padding: 0 0 0 0;\n",
              "    width: 32px;\n",
              "  }\n",
              "\n",
              "  .colab-df-quickchart:hover {\n",
              "    background-color: #E2EBFA;\n",
              "    box-shadow: 0px 1px 2px rgba(60, 64, 67, 0.3), 0px 1px 3px 1px rgba(60, 64, 67, 0.15);\n",
              "    fill: #174EA6;\n",
              "  }\n",
              "\n",
              "  [theme=dark] .colab-df-quickchart {\n",
              "    background-color: #3B4455;\n",
              "    fill: #D2E3FC;\n",
              "  }\n",
              "\n",
              "  [theme=dark] .colab-df-quickchart:hover {\n",
              "    background-color: #434B5C;\n",
              "    box-shadow: 0px 1px 3px 1px rgba(0, 0, 0, 0.15);\n",
              "    filter: drop-shadow(0px 1px 2px rgba(0, 0, 0, 0.3));\n",
              "    fill: #FFFFFF;\n",
              "  }\n",
              "</style>\n",
              "\n",
              "    <script>\n",
              "      async function quickchart(key) {\n",
              "        const containerElement = document.querySelector('#' + key);\n",
              "        const charts = await google.colab.kernel.invokeFunction(\n",
              "            'suggestCharts', [key], {});\n",
              "      }\n",
              "    </script>\n",
              "\n",
              "      <script>\n",
              "\n",
              "function displayQuickchartButton(domScope) {\n",
              "  let quickchartButtonEl =\n",
              "    domScope.querySelector('#df-3eaaaafe-79b7-421a-8981-64c385504049 button.colab-df-quickchart');\n",
              "  quickchartButtonEl.style.display =\n",
              "    google.colab.kernel.accessAllowed ? 'block' : 'none';\n",
              "}\n",
              "\n",
              "        displayQuickchartButton(document);\n",
              "      </script>\n",
              "      <style>\n",
              "    .colab-df-container {\n",
              "      display:flex;\n",
              "      flex-wrap:wrap;\n",
              "      gap: 12px;\n",
              "    }\n",
              "\n",
              "    .colab-df-convert {\n",
              "      background-color: #E8F0FE;\n",
              "      border: none;\n",
              "      border-radius: 50%;\n",
              "      cursor: pointer;\n",
              "      display: none;\n",
              "      fill: #1967D2;\n",
              "      height: 32px;\n",
              "      padding: 0 0 0 0;\n",
              "      width: 32px;\n",
              "    }\n",
              "\n",
              "    .colab-df-convert:hover {\n",
              "      background-color: #E2EBFA;\n",
              "      box-shadow: 0px 1px 2px rgba(60, 64, 67, 0.3), 0px 1px 3px 1px rgba(60, 64, 67, 0.15);\n",
              "      fill: #174EA6;\n",
              "    }\n",
              "\n",
              "    [theme=dark] .colab-df-convert {\n",
              "      background-color: #3B4455;\n",
              "      fill: #D2E3FC;\n",
              "    }\n",
              "\n",
              "    [theme=dark] .colab-df-convert:hover {\n",
              "      background-color: #434B5C;\n",
              "      box-shadow: 0px 1px 3px 1px rgba(0, 0, 0, 0.15);\n",
              "      filter: drop-shadow(0px 1px 2px rgba(0, 0, 0, 0.3));\n",
              "      fill: #FFFFFF;\n",
              "    }\n",
              "  </style>\n",
              "\n",
              "      <script>\n",
              "        const buttonEl =\n",
              "          document.querySelector('#df-e5e6cbec-1f67-4dbf-9e78-1cd7a2047254 button.colab-df-convert');\n",
              "        buttonEl.style.display =\n",
              "          google.colab.kernel.accessAllowed ? 'block' : 'none';\n",
              "\n",
              "        async function convertToInteractive(key) {\n",
              "          const element = document.querySelector('#df-e5e6cbec-1f67-4dbf-9e78-1cd7a2047254');\n",
              "          const dataTable =\n",
              "            await google.colab.kernel.invokeFunction('convertToInteractive',\n",
              "                                                     [key], {});\n",
              "          if (!dataTable) return;\n",
              "\n",
              "          const docLinkHtml = 'Like what you see? Visit the ' +\n",
              "            '<a target=\"_blank\" href=https://colab.research.google.com/notebooks/data_table.ipynb>data table notebook</a>'\n",
              "            + ' to learn more about interactive tables.';\n",
              "          element.innerHTML = '';\n",
              "          dataTable['output_type'] = 'display_data';\n",
              "          await google.colab.output.renderOutput(dataTable, element);\n",
              "          const docLink = document.createElement('div');\n",
              "          docLink.innerHTML = docLinkHtml;\n",
              "          element.appendChild(docLink);\n",
              "        }\n",
              "      </script>\n",
              "    </div>\n",
              "  </div>\n"
            ]
          },
          "metadata": {},
          "execution_count": 169
        }
      ]
    },
    {
      "cell_type": "markdown",
      "source": [
        "### 취업자수 통합하기"
      ],
      "metadata": {
        "id": "mCHzgBwbX8zE"
      }
    },
    {
      "cell_type": "code",
      "source": [
        "emp_3 = code_3@ep_33[:-1,]\n",
        "emp_3"
      ],
      "metadata": {
        "id": "DmlkpZNXDlMy",
        "colab": {
          "base_uri": "https://localhost:8080/"
        },
        "outputId": "d9e71783-c85f-4b8d-d712-1a2d8d9bb685"
      },
      "execution_count": 170,
      "outputs": [
        {
          "output_type": "execute_result",
          "data": {
            "text/plain": [
              "array([[    2887.,    12953.,   119703.,     5816.,     4735.,    83061.,\n",
              "          140240.,     8753.,   121499.,   192577.,    13996.,   208981.,\n",
              "           17708.,     9851.,   144639.,    90467.,    49656.,  1227524.],\n",
              "       [  314181.,   242589.,  1261866.,    49861.,    16088.,   176968.,\n",
              "          248609.,    92712.,   120171.,   117902.,   163051.,   325321.,\n",
              "          214213.,   218971.,   467089.,    55455.,    12469.,  4097504.],\n",
              "       [ 5446919.,   847484.,  4008588.,   543378.,    76500.,   490490.,\n",
              "          709156.,   486342.,   575724.,   609018.,   784709.,   863175.,\n",
              "         1205854.,   373280.,   982387.,   535252.,   258933., 18797174.]])"
            ]
          },
          "metadata": {},
          "execution_count": 170
        }
      ]
    },
    {
      "cell_type": "markdown",
      "source": [
        "## 지역, 산업구조 분석"
      ],
      "metadata": {
        "id": "N45bkFE96GzI"
      }
    },
    {
      "cell_type": "code",
      "source": [
        "va = Mt[-2,:19].reshape([1,19]) # 산업별 부가가치\n",
        "ct = Mt[-1,:19].reshape([1,19])  # 산업별 산출액\n",
        "ct"
      ],
      "metadata": {
        "id": "ct-TgHVXrlZj",
        "outputId": "2d528e5b-8f70-4dbd-ed89-82ad3f33dcbb",
        "colab": {
          "base_uri": "https://localhost:8080/"
        }
      },
      "execution_count": 171,
      "outputs": [
        {
          "output_type": "execute_result",
          "data": {
            "text/plain": [
              "array([[   7.96 ,  581.556, 1203.687,   11.636,  293.954,  187.266,\n",
              "          15.571,  194.28 ,  164.889,   19.427,  621.248,  425.294,\n",
              "           4.033,   17.514,   54.08 ,    2.744,    2.602,   25.821,\n",
              "        3833.562]])"
            ]
          },
          "metadata": {},
          "execution_count": 171
        }
      ]
    },
    {
      "cell_type": "code",
      "source": [
        "# 지역기준\n",
        "sudo = np.vstack((va[:,:3].sum(),ct[:,:3].sum())).round(1)\n",
        "chung = np.vstack((va[:,3:6].sum(),ct[:,3:6].sum())).round(1)\n",
        "seo = np.vstack((va[:,6:9].sum(),ct[:,6:9].sum())).round(1)\n",
        "dong = np.vstack((va[:,9:12].sum(),ct[:,9:12].sum())).round(1)\n",
        "kang = np.vstack((va[:,12:15].sum(),ct[:,12:15].sum())).round(1)\n",
        "jeju = np.vstack((va[:,15:18].sum(),ct[:,15:18].sum())).round(1)\n",
        "\n",
        "sm_vact = np.vstack((va[:,18],ct[:,18]))\n",
        "vact_all = np.hstack((sudo, chung, seo, dong, kang,jeju,sm_vact))\n",
        "\n",
        "va_sm = np.hstack((sudo, chung, seo, dong, kang,jeju))\n",
        "ctva_wgt = ((vact_all/sm_vact)*100).round(1)\n",
        "str_rg = np.vstack((vact_all,ctva_wgt))\n",
        "str_rg.shape"
      ],
      "metadata": {
        "id": "kmVCLDn0rleg",
        "outputId": "1de8eb1c-2885-4155-8c16-a3f67abb73f3",
        "colab": {
          "base_uri": "https://localhost:8080/"
        }
      },
      "execution_count": 172,
      "outputs": [
        {
          "output_type": "execute_result",
          "data": {
            "text/plain": [
              "(4, 7)"
            ]
          },
          "metadata": {},
          "execution_count": 172
        }
      ]
    },
    {
      "cell_type": "code",
      "source": [
        "VACT_by_RG = pd.DataFrame(str_rg, columns = ['수도권', '충청권', '서남권', '동남권', '강원권','제주권', '합계'],\n",
        "                     index=['부가가치', '산출액', '부가가치비중', '산출액비중']) # 변수명 붙여서 pandas로 내보내기\n",
        "VACT_by_RG"
      ],
      "metadata": {
        "id": "FAm4jifsH4ZI",
        "outputId": "4f1f745e-e96d-4064-de94-ca2156c79668",
        "colab": {
          "base_uri": "https://localhost:8080/",
          "height": 175
        }
      },
      "execution_count": 173,
      "outputs": [
        {
          "output_type": "execute_result",
          "data": {
            "text/plain": [
              "           수도권    충청권    서남권     동남권   강원권   제주권        합계\n",
              "부가가치     830.9  196.1  146.9   408.1  39.1  16.4  1637.451\n",
              "산출액     1793.2  492.9  374.7  1066.0  75.6  31.2  3833.562\n",
              "부가가치비중    50.7   12.0    9.0    24.9   2.4   1.0   100.000\n",
              "산출액비중     46.8   12.9    9.8    27.8   2.0   0.8   100.000"
            ],
            "text/html": [
              "\n",
              "\n",
              "  <div id=\"df-499bdafd-bd7c-4dd1-ac24-2587e85bc1e3\">\n",
              "    <div class=\"colab-df-container\">\n",
              "      <div>\n",
              "<style scoped>\n",
              "    .dataframe tbody tr th:only-of-type {\n",
              "        vertical-align: middle;\n",
              "    }\n",
              "\n",
              "    .dataframe tbody tr th {\n",
              "        vertical-align: top;\n",
              "    }\n",
              "\n",
              "    .dataframe thead th {\n",
              "        text-align: right;\n",
              "    }\n",
              "</style>\n",
              "<table border=\"1\" class=\"dataframe\">\n",
              "  <thead>\n",
              "    <tr style=\"text-align: right;\">\n",
              "      <th></th>\n",
              "      <th>수도권</th>\n",
              "      <th>충청권</th>\n",
              "      <th>서남권</th>\n",
              "      <th>동남권</th>\n",
              "      <th>강원권</th>\n",
              "      <th>제주권</th>\n",
              "      <th>합계</th>\n",
              "    </tr>\n",
              "  </thead>\n",
              "  <tbody>\n",
              "    <tr>\n",
              "      <th>부가가치</th>\n",
              "      <td>830.9</td>\n",
              "      <td>196.1</td>\n",
              "      <td>146.9</td>\n",
              "      <td>408.1</td>\n",
              "      <td>39.1</td>\n",
              "      <td>16.4</td>\n",
              "      <td>1637.451</td>\n",
              "    </tr>\n",
              "    <tr>\n",
              "      <th>산출액</th>\n",
              "      <td>1793.2</td>\n",
              "      <td>492.9</td>\n",
              "      <td>374.7</td>\n",
              "      <td>1066.0</td>\n",
              "      <td>75.6</td>\n",
              "      <td>31.2</td>\n",
              "      <td>3833.562</td>\n",
              "    </tr>\n",
              "    <tr>\n",
              "      <th>부가가치비중</th>\n",
              "      <td>50.7</td>\n",
              "      <td>12.0</td>\n",
              "      <td>9.0</td>\n",
              "      <td>24.9</td>\n",
              "      <td>2.4</td>\n",
              "      <td>1.0</td>\n",
              "      <td>100.000</td>\n",
              "    </tr>\n",
              "    <tr>\n",
              "      <th>산출액비중</th>\n",
              "      <td>46.8</td>\n",
              "      <td>12.9</td>\n",
              "      <td>9.8</td>\n",
              "      <td>27.8</td>\n",
              "      <td>2.0</td>\n",
              "      <td>0.8</td>\n",
              "      <td>100.000</td>\n",
              "    </tr>\n",
              "  </tbody>\n",
              "</table>\n",
              "</div>\n",
              "      <button class=\"colab-df-convert\" onclick=\"convertToInteractive('df-499bdafd-bd7c-4dd1-ac24-2587e85bc1e3')\"\n",
              "              title=\"Convert this dataframe to an interactive table.\"\n",
              "              style=\"display:none;\">\n",
              "\n",
              "  <svg xmlns=\"http://www.w3.org/2000/svg\" height=\"24px\"viewBox=\"0 0 24 24\"\n",
              "       width=\"24px\">\n",
              "    <path d=\"M0 0h24v24H0V0z\" fill=\"none\"/>\n",
              "    <path d=\"M18.56 5.44l.94 2.06.94-2.06 2.06-.94-2.06-.94-.94-2.06-.94 2.06-2.06.94zm-11 1L8.5 8.5l.94-2.06 2.06-.94-2.06-.94L8.5 2.5l-.94 2.06-2.06.94zm10 10l.94 2.06.94-2.06 2.06-.94-2.06-.94-.94-2.06-.94 2.06-2.06.94z\"/><path d=\"M17.41 7.96l-1.37-1.37c-.4-.4-.92-.59-1.43-.59-.52 0-1.04.2-1.43.59L10.3 9.45l-7.72 7.72c-.78.78-.78 2.05 0 2.83L4 21.41c.39.39.9.59 1.41.59.51 0 1.02-.2 1.41-.59l7.78-7.78 2.81-2.81c.8-.78.8-2.07 0-2.86zM5.41 20L4 18.59l7.72-7.72 1.47 1.35L5.41 20z\"/>\n",
              "  </svg>\n",
              "      </button>\n",
              "\n",
              "\n",
              "\n",
              "    <div id=\"df-57b3a54b-b6a3-4f7b-a1bb-64c6195cbed0\">\n",
              "      <button class=\"colab-df-quickchart\" onclick=\"quickchart('df-57b3a54b-b6a3-4f7b-a1bb-64c6195cbed0')\"\n",
              "              title=\"Suggest charts.\"\n",
              "              style=\"display:none;\">\n",
              "\n",
              "<svg xmlns=\"http://www.w3.org/2000/svg\" height=\"24px\"viewBox=\"0 0 24 24\"\n",
              "     width=\"24px\">\n",
              "    <g>\n",
              "        <path d=\"M19 3H5c-1.1 0-2 .9-2 2v14c0 1.1.9 2 2 2h14c1.1 0 2-.9 2-2V5c0-1.1-.9-2-2-2zM9 17H7v-7h2v7zm4 0h-2V7h2v10zm4 0h-2v-4h2v4z\"/>\n",
              "    </g>\n",
              "</svg>\n",
              "      </button>\n",
              "    </div>\n",
              "\n",
              "<style>\n",
              "  .colab-df-quickchart {\n",
              "    background-color: #E8F0FE;\n",
              "    border: none;\n",
              "    border-radius: 50%;\n",
              "    cursor: pointer;\n",
              "    display: none;\n",
              "    fill: #1967D2;\n",
              "    height: 32px;\n",
              "    padding: 0 0 0 0;\n",
              "    width: 32px;\n",
              "  }\n",
              "\n",
              "  .colab-df-quickchart:hover {\n",
              "    background-color: #E2EBFA;\n",
              "    box-shadow: 0px 1px 2px rgba(60, 64, 67, 0.3), 0px 1px 3px 1px rgba(60, 64, 67, 0.15);\n",
              "    fill: #174EA6;\n",
              "  }\n",
              "\n",
              "  [theme=dark] .colab-df-quickchart {\n",
              "    background-color: #3B4455;\n",
              "    fill: #D2E3FC;\n",
              "  }\n",
              "\n",
              "  [theme=dark] .colab-df-quickchart:hover {\n",
              "    background-color: #434B5C;\n",
              "    box-shadow: 0px 1px 3px 1px rgba(0, 0, 0, 0.15);\n",
              "    filter: drop-shadow(0px 1px 2px rgba(0, 0, 0, 0.3));\n",
              "    fill: #FFFFFF;\n",
              "  }\n",
              "</style>\n",
              "\n",
              "    <script>\n",
              "      async function quickchart(key) {\n",
              "        const containerElement = document.querySelector('#' + key);\n",
              "        const charts = await google.colab.kernel.invokeFunction(\n",
              "            'suggestCharts', [key], {});\n",
              "      }\n",
              "    </script>\n",
              "\n",
              "      <script>\n",
              "\n",
              "function displayQuickchartButton(domScope) {\n",
              "  let quickchartButtonEl =\n",
              "    domScope.querySelector('#df-57b3a54b-b6a3-4f7b-a1bb-64c6195cbed0 button.colab-df-quickchart');\n",
              "  quickchartButtonEl.style.display =\n",
              "    google.colab.kernel.accessAllowed ? 'block' : 'none';\n",
              "}\n",
              "\n",
              "        displayQuickchartButton(document);\n",
              "      </script>\n",
              "      <style>\n",
              "    .colab-df-container {\n",
              "      display:flex;\n",
              "      flex-wrap:wrap;\n",
              "      gap: 12px;\n",
              "    }\n",
              "\n",
              "    .colab-df-convert {\n",
              "      background-color: #E8F0FE;\n",
              "      border: none;\n",
              "      border-radius: 50%;\n",
              "      cursor: pointer;\n",
              "      display: none;\n",
              "      fill: #1967D2;\n",
              "      height: 32px;\n",
              "      padding: 0 0 0 0;\n",
              "      width: 32px;\n",
              "    }\n",
              "\n",
              "    .colab-df-convert:hover {\n",
              "      background-color: #E2EBFA;\n",
              "      box-shadow: 0px 1px 2px rgba(60, 64, 67, 0.3), 0px 1px 3px 1px rgba(60, 64, 67, 0.15);\n",
              "      fill: #174EA6;\n",
              "    }\n",
              "\n",
              "    [theme=dark] .colab-df-convert {\n",
              "      background-color: #3B4455;\n",
              "      fill: #D2E3FC;\n",
              "    }\n",
              "\n",
              "    [theme=dark] .colab-df-convert:hover {\n",
              "      background-color: #434B5C;\n",
              "      box-shadow: 0px 1px 3px 1px rgba(0, 0, 0, 0.15);\n",
              "      filter: drop-shadow(0px 1px 2px rgba(0, 0, 0, 0.3));\n",
              "      fill: #FFFFFF;\n",
              "    }\n",
              "  </style>\n",
              "\n",
              "      <script>\n",
              "        const buttonEl =\n",
              "          document.querySelector('#df-499bdafd-bd7c-4dd1-ac24-2587e85bc1e3 button.colab-df-convert');\n",
              "        buttonEl.style.display =\n",
              "          google.colab.kernel.accessAllowed ? 'block' : 'none';\n",
              "\n",
              "        async function convertToInteractive(key) {\n",
              "          const element = document.querySelector('#df-499bdafd-bd7c-4dd1-ac24-2587e85bc1e3');\n",
              "          const dataTable =\n",
              "            await google.colab.kernel.invokeFunction('convertToInteractive',\n",
              "                                                     [key], {});\n",
              "          if (!dataTable) return;\n",
              "\n",
              "          const docLinkHtml = 'Like what you see? Visit the ' +\n",
              "            '<a target=\"_blank\" href=https://colab.research.google.com/notebooks/data_table.ipynb>data table notebook</a>'\n",
              "            + ' to learn more about interactive tables.';\n",
              "          element.innerHTML = '';\n",
              "          dataTable['output_type'] = 'display_data';\n",
              "          await google.colab.output.renderOutput(dataTable, element);\n",
              "          const docLink = document.createElement('div');\n",
              "          docLink.innerHTML = docLinkHtml;\n",
              "          element.appendChild(docLink);\n",
              "        }\n",
              "      </script>\n",
              "    </div>\n",
              "  </div>\n"
            ]
          },
          "metadata": {},
          "execution_count": 173
        }
      ]
    },
    {
      "cell_type": "code",
      "source": [
        "# csv 파일로 내보내기\n",
        "VACT_by_RG.to_csv('산출액_부가가치_지역별_비중.csv', encoding='utf_8-sig')"
      ],
      "metadata": {
        "id": "1vm1Xv8drlkJ"
      },
      "execution_count": 174,
      "outputs": []
    },
    {
      "cell_type": "code",
      "source": [
        "# 산업기준\n",
        "# 부가가치\n",
        "arg_va = np.hstack((va[:,0],va[:,3],va[:,6],va[:,9],va[:,12],va[:,15]))    # 6개권역 농산품\n",
        "manu_va = np.hstack((va[:,1],va[:,4],va[:,7],va[:,10],va[:,13],va[:,16]))  # 6개권역 공산품\n",
        "serv_va= np.hstack((va[:,2],va[:,5],va[:,8],va[:,11],va[:,14],va[:,17]))  # 6개권역 서비스\n",
        "\n",
        "# 산출액\n",
        "arg_ct = np.hstack((ct[:,0],ct[:,3],ct[:,6],ct[:,9],ct[:,12],ct[:,15]))    # 6개권역 농산품\n",
        "manu_ct = np.hstack((ct[:,1],ct[:,4],ct[:,7],ct[:,10],ct[:,13],ct[:,16]))  # 6개권역 공산품\n",
        "serv_ct = np.hstack((ct[:,2],ct[:,5],ct[:,8],ct[:,11],ct[:,14],ct[:,17]))  # 6개권역 서비스\n",
        "\n",
        "serv_ct"
      ],
      "metadata": {
        "id": "kD6_kGVfrlod",
        "outputId": "c3f73b57-fb86-435c-94fb-2804a8dcfa87",
        "colab": {
          "base_uri": "https://localhost:8080/"
        }
      },
      "execution_count": 175,
      "outputs": [
        {
          "output_type": "execute_result",
          "data": {
            "text/plain": [
              "array([1203.687,  187.266,  164.889,  425.294,   54.08 ,   25.821])"
            ]
          },
          "metadata": {},
          "execution_count": 175
        }
      ]
    },
    {
      "cell_type": "code",
      "source": [
        "arg_va_sm = np.sum(arg_va)\n",
        "manu_va_sm = np.sum(manu_va)\n",
        "serv_va_sm = np.sum(serv_va)\n",
        "\n",
        "arg_ct_sm = np.sum(arg_ct)\n",
        "manu_ct_sm = np.sum(manu_ct)\n",
        "serv_ct_sm = np.sum(serv_ct)"
      ],
      "metadata": {
        "id": "pIQ5uF5PrluS"
      },
      "execution_count": 176,
      "outputs": []
    },
    {
      "cell_type": "code",
      "source": [
        "# 산업별 지역별 부가가치 비중\n",
        "arg_va_all = np.hstack((arg_va, arg_va_sm)).round(1)\n",
        "manu_va_all = np.hstack((manu_va, manu_va_sm)).round(1)\n",
        "serv_va_all = np.hstack((serv_va, serv_va_sm)).round(1)\n",
        "\n",
        "arg_va_wgt = (arg_va_all/arg_va_sm*100).round(1)  # 농산품비중\n",
        "manu_va_wgt = (manu_va_all/manu_va_sm*100).round(1)  # 공산품비중\n",
        "serv_va_wgt = (serv_va_all/serv_va_sm*100).round(1)  # 공산품비중\n",
        "serv_va_wgt"
      ],
      "metadata": {
        "id": "hYp4NZ2kcL3A",
        "outputId": "91822133-5258-41f1-cc8c-ba88ebc1a978",
        "colab": {
          "base_uri": "https://localhost:8080/"
        }
      },
      "execution_count": 177,
      "outputs": [
        {
          "output_type": "execute_result",
          "data": {
            "text/plain": [
              "array([ 57.9,   9.1,   8. ,  20.9,   2.8,   1.3, 100. ])"
            ]
          },
          "metadata": {},
          "execution_count": 177
        }
      ]
    },
    {
      "cell_type": "code",
      "source": [
        "# 산업별 지역별 산출액 비중\n",
        "arg_ct_all = np.hstack((arg_ct, arg_ct_sm)).round(1)\n",
        "manu_ct_all = np.hstack((manu_ct, manu_ct_sm)).round(1)\n",
        "serv_ct_all = np.hstack((serv_ct, serv_ct_sm)).round(1)\n",
        "\n",
        "arg_ct_wgt = (arg_ct_all/arg_ct_sm*100).round(1)  # 농산품비중\n",
        "manu_ct_wgt = (manu_ct_all/manu_ct_sm*100).round(1)  # 공산품비중\n",
        "serv_ct_wgt = (serv_ct_all/serv_ct_sm*100).round(1)  # 공산품비중\n",
        "serv_ct_wgt"
      ],
      "metadata": {
        "id": "01gIbgUGcL5s",
        "outputId": "aed49412-1d83-4785-9a48-93f2c74f283b",
        "colab": {
          "base_uri": "https://localhost:8080/"
        }
      },
      "execution_count": 178,
      "outputs": [
        {
          "output_type": "execute_result",
          "data": {
            "text/plain": [
              "array([ 58.4,   9.1,   8. ,  20.6,   2.6,   1.3, 100. ])"
            ]
          },
          "metadata": {},
          "execution_count": 178
        }
      ]
    },
    {
      "cell_type": "code",
      "source": [
        "va_by_ind = np.vstack((arg_va_all,manu_va_all,serv_va_all,arg_va_wgt, manu_va_wgt, serv_va_wgt)) # 부가가치\n",
        "ct_by_ind = np.vstack((arg_ct_all,manu_ct_all,serv_ct_all, arg_ct_wgt, manu_ct_wgt, serv_ct_wgt)) # 산출액"
      ],
      "metadata": {
        "id": "g24r5zE8ePXO"
      },
      "execution_count": 179,
      "outputs": []
    },
    {
      "cell_type": "code",
      "source": [
        "VA_IND = pd.DataFrame(va_by_ind, columns = ['수도권', '충청권', '서남권', '동남권', '강원권','제주권', '합계'],\n",
        "                     index=['농산품', '공산품', '서비스', '농산품비중', '공산품비중', '서비스비중',]) # 변수명 붙여서 pandas로 내보내기\n",
        "VA_IND"
      ],
      "metadata": {
        "id": "okCkqZWgcL75",
        "outputId": "524d8117-c756-49a8-9b80-5021d051f2cc",
        "colab": {
          "base_uri": "https://localhost:8080/",
          "height": 237
        }
      },
      "execution_count": 180,
      "outputs": [
        {
          "output_type": "execute_result",
          "data": {
            "text/plain": [
              "         수도권    충청권   서남권    동남권   강원권   제주권      합계\n",
              "농산품      3.9    6.2   8.9   10.5   2.5   1.3    33.3\n",
              "공산품    179.0   88.3  48.2  163.5   5.3   0.7   485.0\n",
              "서비스    647.9  101.5  89.9  234.1  31.3  14.4  1119.2\n",
              "농산품비중   11.7   18.6  26.8   31.6   7.5   3.9   100.1\n",
              "공산품비중   36.9   18.2   9.9   33.7   1.1   0.1   100.0\n",
              "서비스비중   57.9    9.1   8.0   20.9   2.8   1.3   100.0"
            ],
            "text/html": [
              "\n",
              "\n",
              "  <div id=\"df-0174b263-da40-4070-b615-39b136cb482e\">\n",
              "    <div class=\"colab-df-container\">\n",
              "      <div>\n",
              "<style scoped>\n",
              "    .dataframe tbody tr th:only-of-type {\n",
              "        vertical-align: middle;\n",
              "    }\n",
              "\n",
              "    .dataframe tbody tr th {\n",
              "        vertical-align: top;\n",
              "    }\n",
              "\n",
              "    .dataframe thead th {\n",
              "        text-align: right;\n",
              "    }\n",
              "</style>\n",
              "<table border=\"1\" class=\"dataframe\">\n",
              "  <thead>\n",
              "    <tr style=\"text-align: right;\">\n",
              "      <th></th>\n",
              "      <th>수도권</th>\n",
              "      <th>충청권</th>\n",
              "      <th>서남권</th>\n",
              "      <th>동남권</th>\n",
              "      <th>강원권</th>\n",
              "      <th>제주권</th>\n",
              "      <th>합계</th>\n",
              "    </tr>\n",
              "  </thead>\n",
              "  <tbody>\n",
              "    <tr>\n",
              "      <th>농산품</th>\n",
              "      <td>3.9</td>\n",
              "      <td>6.2</td>\n",
              "      <td>8.9</td>\n",
              "      <td>10.5</td>\n",
              "      <td>2.5</td>\n",
              "      <td>1.3</td>\n",
              "      <td>33.3</td>\n",
              "    </tr>\n",
              "    <tr>\n",
              "      <th>공산품</th>\n",
              "      <td>179.0</td>\n",
              "      <td>88.3</td>\n",
              "      <td>48.2</td>\n",
              "      <td>163.5</td>\n",
              "      <td>5.3</td>\n",
              "      <td>0.7</td>\n",
              "      <td>485.0</td>\n",
              "    </tr>\n",
              "    <tr>\n",
              "      <th>서비스</th>\n",
              "      <td>647.9</td>\n",
              "      <td>101.5</td>\n",
              "      <td>89.9</td>\n",
              "      <td>234.1</td>\n",
              "      <td>31.3</td>\n",
              "      <td>14.4</td>\n",
              "      <td>1119.2</td>\n",
              "    </tr>\n",
              "    <tr>\n",
              "      <th>농산품비중</th>\n",
              "      <td>11.7</td>\n",
              "      <td>18.6</td>\n",
              "      <td>26.8</td>\n",
              "      <td>31.6</td>\n",
              "      <td>7.5</td>\n",
              "      <td>3.9</td>\n",
              "      <td>100.1</td>\n",
              "    </tr>\n",
              "    <tr>\n",
              "      <th>공산품비중</th>\n",
              "      <td>36.9</td>\n",
              "      <td>18.2</td>\n",
              "      <td>9.9</td>\n",
              "      <td>33.7</td>\n",
              "      <td>1.1</td>\n",
              "      <td>0.1</td>\n",
              "      <td>100.0</td>\n",
              "    </tr>\n",
              "    <tr>\n",
              "      <th>서비스비중</th>\n",
              "      <td>57.9</td>\n",
              "      <td>9.1</td>\n",
              "      <td>8.0</td>\n",
              "      <td>20.9</td>\n",
              "      <td>2.8</td>\n",
              "      <td>1.3</td>\n",
              "      <td>100.0</td>\n",
              "    </tr>\n",
              "  </tbody>\n",
              "</table>\n",
              "</div>\n",
              "      <button class=\"colab-df-convert\" onclick=\"convertToInteractive('df-0174b263-da40-4070-b615-39b136cb482e')\"\n",
              "              title=\"Convert this dataframe to an interactive table.\"\n",
              "              style=\"display:none;\">\n",
              "\n",
              "  <svg xmlns=\"http://www.w3.org/2000/svg\" height=\"24px\"viewBox=\"0 0 24 24\"\n",
              "       width=\"24px\">\n",
              "    <path d=\"M0 0h24v24H0V0z\" fill=\"none\"/>\n",
              "    <path d=\"M18.56 5.44l.94 2.06.94-2.06 2.06-.94-2.06-.94-.94-2.06-.94 2.06-2.06.94zm-11 1L8.5 8.5l.94-2.06 2.06-.94-2.06-.94L8.5 2.5l-.94 2.06-2.06.94zm10 10l.94 2.06.94-2.06 2.06-.94-2.06-.94-.94-2.06-.94 2.06-2.06.94z\"/><path d=\"M17.41 7.96l-1.37-1.37c-.4-.4-.92-.59-1.43-.59-.52 0-1.04.2-1.43.59L10.3 9.45l-7.72 7.72c-.78.78-.78 2.05 0 2.83L4 21.41c.39.39.9.59 1.41.59.51 0 1.02-.2 1.41-.59l7.78-7.78 2.81-2.81c.8-.78.8-2.07 0-2.86zM5.41 20L4 18.59l7.72-7.72 1.47 1.35L5.41 20z\"/>\n",
              "  </svg>\n",
              "      </button>\n",
              "\n",
              "\n",
              "\n",
              "    <div id=\"df-8568ad96-ff65-4f51-8143-aa5f5398ccba\">\n",
              "      <button class=\"colab-df-quickchart\" onclick=\"quickchart('df-8568ad96-ff65-4f51-8143-aa5f5398ccba')\"\n",
              "              title=\"Suggest charts.\"\n",
              "              style=\"display:none;\">\n",
              "\n",
              "<svg xmlns=\"http://www.w3.org/2000/svg\" height=\"24px\"viewBox=\"0 0 24 24\"\n",
              "     width=\"24px\">\n",
              "    <g>\n",
              "        <path d=\"M19 3H5c-1.1 0-2 .9-2 2v14c0 1.1.9 2 2 2h14c1.1 0 2-.9 2-2V5c0-1.1-.9-2-2-2zM9 17H7v-7h2v7zm4 0h-2V7h2v10zm4 0h-2v-4h2v4z\"/>\n",
              "    </g>\n",
              "</svg>\n",
              "      </button>\n",
              "    </div>\n",
              "\n",
              "<style>\n",
              "  .colab-df-quickchart {\n",
              "    background-color: #E8F0FE;\n",
              "    border: none;\n",
              "    border-radius: 50%;\n",
              "    cursor: pointer;\n",
              "    display: none;\n",
              "    fill: #1967D2;\n",
              "    height: 32px;\n",
              "    padding: 0 0 0 0;\n",
              "    width: 32px;\n",
              "  }\n",
              "\n",
              "  .colab-df-quickchart:hover {\n",
              "    background-color: #E2EBFA;\n",
              "    box-shadow: 0px 1px 2px rgba(60, 64, 67, 0.3), 0px 1px 3px 1px rgba(60, 64, 67, 0.15);\n",
              "    fill: #174EA6;\n",
              "  }\n",
              "\n",
              "  [theme=dark] .colab-df-quickchart {\n",
              "    background-color: #3B4455;\n",
              "    fill: #D2E3FC;\n",
              "  }\n",
              "\n",
              "  [theme=dark] .colab-df-quickchart:hover {\n",
              "    background-color: #434B5C;\n",
              "    box-shadow: 0px 1px 3px 1px rgba(0, 0, 0, 0.15);\n",
              "    filter: drop-shadow(0px 1px 2px rgba(0, 0, 0, 0.3));\n",
              "    fill: #FFFFFF;\n",
              "  }\n",
              "</style>\n",
              "\n",
              "    <script>\n",
              "      async function quickchart(key) {\n",
              "        const containerElement = document.querySelector('#' + key);\n",
              "        const charts = await google.colab.kernel.invokeFunction(\n",
              "            'suggestCharts', [key], {});\n",
              "      }\n",
              "    </script>\n",
              "\n",
              "      <script>\n",
              "\n",
              "function displayQuickchartButton(domScope) {\n",
              "  let quickchartButtonEl =\n",
              "    domScope.querySelector('#df-8568ad96-ff65-4f51-8143-aa5f5398ccba button.colab-df-quickchart');\n",
              "  quickchartButtonEl.style.display =\n",
              "    google.colab.kernel.accessAllowed ? 'block' : 'none';\n",
              "}\n",
              "\n",
              "        displayQuickchartButton(document);\n",
              "      </script>\n",
              "      <style>\n",
              "    .colab-df-container {\n",
              "      display:flex;\n",
              "      flex-wrap:wrap;\n",
              "      gap: 12px;\n",
              "    }\n",
              "\n",
              "    .colab-df-convert {\n",
              "      background-color: #E8F0FE;\n",
              "      border: none;\n",
              "      border-radius: 50%;\n",
              "      cursor: pointer;\n",
              "      display: none;\n",
              "      fill: #1967D2;\n",
              "      height: 32px;\n",
              "      padding: 0 0 0 0;\n",
              "      width: 32px;\n",
              "    }\n",
              "\n",
              "    .colab-df-convert:hover {\n",
              "      background-color: #E2EBFA;\n",
              "      box-shadow: 0px 1px 2px rgba(60, 64, 67, 0.3), 0px 1px 3px 1px rgba(60, 64, 67, 0.15);\n",
              "      fill: #174EA6;\n",
              "    }\n",
              "\n",
              "    [theme=dark] .colab-df-convert {\n",
              "      background-color: #3B4455;\n",
              "      fill: #D2E3FC;\n",
              "    }\n",
              "\n",
              "    [theme=dark] .colab-df-convert:hover {\n",
              "      background-color: #434B5C;\n",
              "      box-shadow: 0px 1px 3px 1px rgba(0, 0, 0, 0.15);\n",
              "      filter: drop-shadow(0px 1px 2px rgba(0, 0, 0, 0.3));\n",
              "      fill: #FFFFFF;\n",
              "    }\n",
              "  </style>\n",
              "\n",
              "      <script>\n",
              "        const buttonEl =\n",
              "          document.querySelector('#df-0174b263-da40-4070-b615-39b136cb482e button.colab-df-convert');\n",
              "        buttonEl.style.display =\n",
              "          google.colab.kernel.accessAllowed ? 'block' : 'none';\n",
              "\n",
              "        async function convertToInteractive(key) {\n",
              "          const element = document.querySelector('#df-0174b263-da40-4070-b615-39b136cb482e');\n",
              "          const dataTable =\n",
              "            await google.colab.kernel.invokeFunction('convertToInteractive',\n",
              "                                                     [key], {});\n",
              "          if (!dataTable) return;\n",
              "\n",
              "          const docLinkHtml = 'Like what you see? Visit the ' +\n",
              "            '<a target=\"_blank\" href=https://colab.research.google.com/notebooks/data_table.ipynb>data table notebook</a>'\n",
              "            + ' to learn more about interactive tables.';\n",
              "          element.innerHTML = '';\n",
              "          dataTable['output_type'] = 'display_data';\n",
              "          await google.colab.output.renderOutput(dataTable, element);\n",
              "          const docLink = document.createElement('div');\n",
              "          docLink.innerHTML = docLinkHtml;\n",
              "          element.appendChild(docLink);\n",
              "        }\n",
              "      </script>\n",
              "    </div>\n",
              "  </div>\n"
            ]
          },
          "metadata": {},
          "execution_count": 180
        }
      ]
    },
    {
      "cell_type": "code",
      "source": [
        "CT_IND = pd.DataFrame(ct_by_ind, columns = ['수도권', '충청권', '서남권', '동남권', '강원권','제주권', '합계'],\n",
        "                     index=['농산품', '공산품', '서비스', '농산품비중', '공산품비중', '서비스비중',]) # 변수명 붙여서 pandas로 내보내기\n",
        "CT_IND"
      ],
      "metadata": {
        "id": "YuYO88drcL-a",
        "outputId": "cc951990-0bc9-42ff-d7cf-ba084e1e0c15",
        "colab": {
          "base_uri": "https://localhost:8080/",
          "height": 237
        }
      },
      "execution_count": 181,
      "outputs": [
        {
          "output_type": "execute_result",
          "data": {
            "text/plain": [
              "          수도권    충청권    서남권    동남권   강원권   제주권      합계\n",
              "농산품       8.0   11.6   15.6   19.4   4.0   2.7    61.4\n",
              "공산품     581.6  294.0  194.3  621.2  17.5   2.6  1711.2\n",
              "서비스    1203.7  187.3  164.9  425.3  54.1  25.8  2061.0\n",
              "농산품비중    13.0   18.9   25.4   31.6   6.5   4.4   100.0\n",
              "공산품비중    34.0   17.2   11.4   36.3   1.0   0.2   100.0\n",
              "서비스비중    58.4    9.1    8.0   20.6   2.6   1.3   100.0"
            ],
            "text/html": [
              "\n",
              "\n",
              "  <div id=\"df-4cd0482b-3737-469d-b0f6-303ebddcfbda\">\n",
              "    <div class=\"colab-df-container\">\n",
              "      <div>\n",
              "<style scoped>\n",
              "    .dataframe tbody tr th:only-of-type {\n",
              "        vertical-align: middle;\n",
              "    }\n",
              "\n",
              "    .dataframe tbody tr th {\n",
              "        vertical-align: top;\n",
              "    }\n",
              "\n",
              "    .dataframe thead th {\n",
              "        text-align: right;\n",
              "    }\n",
              "</style>\n",
              "<table border=\"1\" class=\"dataframe\">\n",
              "  <thead>\n",
              "    <tr style=\"text-align: right;\">\n",
              "      <th></th>\n",
              "      <th>수도권</th>\n",
              "      <th>충청권</th>\n",
              "      <th>서남권</th>\n",
              "      <th>동남권</th>\n",
              "      <th>강원권</th>\n",
              "      <th>제주권</th>\n",
              "      <th>합계</th>\n",
              "    </tr>\n",
              "  </thead>\n",
              "  <tbody>\n",
              "    <tr>\n",
              "      <th>농산품</th>\n",
              "      <td>8.0</td>\n",
              "      <td>11.6</td>\n",
              "      <td>15.6</td>\n",
              "      <td>19.4</td>\n",
              "      <td>4.0</td>\n",
              "      <td>2.7</td>\n",
              "      <td>61.4</td>\n",
              "    </tr>\n",
              "    <tr>\n",
              "      <th>공산품</th>\n",
              "      <td>581.6</td>\n",
              "      <td>294.0</td>\n",
              "      <td>194.3</td>\n",
              "      <td>621.2</td>\n",
              "      <td>17.5</td>\n",
              "      <td>2.6</td>\n",
              "      <td>1711.2</td>\n",
              "    </tr>\n",
              "    <tr>\n",
              "      <th>서비스</th>\n",
              "      <td>1203.7</td>\n",
              "      <td>187.3</td>\n",
              "      <td>164.9</td>\n",
              "      <td>425.3</td>\n",
              "      <td>54.1</td>\n",
              "      <td>25.8</td>\n",
              "      <td>2061.0</td>\n",
              "    </tr>\n",
              "    <tr>\n",
              "      <th>농산품비중</th>\n",
              "      <td>13.0</td>\n",
              "      <td>18.9</td>\n",
              "      <td>25.4</td>\n",
              "      <td>31.6</td>\n",
              "      <td>6.5</td>\n",
              "      <td>4.4</td>\n",
              "      <td>100.0</td>\n",
              "    </tr>\n",
              "    <tr>\n",
              "      <th>공산품비중</th>\n",
              "      <td>34.0</td>\n",
              "      <td>17.2</td>\n",
              "      <td>11.4</td>\n",
              "      <td>36.3</td>\n",
              "      <td>1.0</td>\n",
              "      <td>0.2</td>\n",
              "      <td>100.0</td>\n",
              "    </tr>\n",
              "    <tr>\n",
              "      <th>서비스비중</th>\n",
              "      <td>58.4</td>\n",
              "      <td>9.1</td>\n",
              "      <td>8.0</td>\n",
              "      <td>20.6</td>\n",
              "      <td>2.6</td>\n",
              "      <td>1.3</td>\n",
              "      <td>100.0</td>\n",
              "    </tr>\n",
              "  </tbody>\n",
              "</table>\n",
              "</div>\n",
              "      <button class=\"colab-df-convert\" onclick=\"convertToInteractive('df-4cd0482b-3737-469d-b0f6-303ebddcfbda')\"\n",
              "              title=\"Convert this dataframe to an interactive table.\"\n",
              "              style=\"display:none;\">\n",
              "\n",
              "  <svg xmlns=\"http://www.w3.org/2000/svg\" height=\"24px\"viewBox=\"0 0 24 24\"\n",
              "       width=\"24px\">\n",
              "    <path d=\"M0 0h24v24H0V0z\" fill=\"none\"/>\n",
              "    <path d=\"M18.56 5.44l.94 2.06.94-2.06 2.06-.94-2.06-.94-.94-2.06-.94 2.06-2.06.94zm-11 1L8.5 8.5l.94-2.06 2.06-.94-2.06-.94L8.5 2.5l-.94 2.06-2.06.94zm10 10l.94 2.06.94-2.06 2.06-.94-2.06-.94-.94-2.06-.94 2.06-2.06.94z\"/><path d=\"M17.41 7.96l-1.37-1.37c-.4-.4-.92-.59-1.43-.59-.52 0-1.04.2-1.43.59L10.3 9.45l-7.72 7.72c-.78.78-.78 2.05 0 2.83L4 21.41c.39.39.9.59 1.41.59.51 0 1.02-.2 1.41-.59l7.78-7.78 2.81-2.81c.8-.78.8-2.07 0-2.86zM5.41 20L4 18.59l7.72-7.72 1.47 1.35L5.41 20z\"/>\n",
              "  </svg>\n",
              "      </button>\n",
              "\n",
              "\n",
              "\n",
              "    <div id=\"df-16b62f87-af3d-4563-90e4-a64dceb40373\">\n",
              "      <button class=\"colab-df-quickchart\" onclick=\"quickchart('df-16b62f87-af3d-4563-90e4-a64dceb40373')\"\n",
              "              title=\"Suggest charts.\"\n",
              "              style=\"display:none;\">\n",
              "\n",
              "<svg xmlns=\"http://www.w3.org/2000/svg\" height=\"24px\"viewBox=\"0 0 24 24\"\n",
              "     width=\"24px\">\n",
              "    <g>\n",
              "        <path d=\"M19 3H5c-1.1 0-2 .9-2 2v14c0 1.1.9 2 2 2h14c1.1 0 2-.9 2-2V5c0-1.1-.9-2-2-2zM9 17H7v-7h2v7zm4 0h-2V7h2v10zm4 0h-2v-4h2v4z\"/>\n",
              "    </g>\n",
              "</svg>\n",
              "      </button>\n",
              "    </div>\n",
              "\n",
              "<style>\n",
              "  .colab-df-quickchart {\n",
              "    background-color: #E8F0FE;\n",
              "    border: none;\n",
              "    border-radius: 50%;\n",
              "    cursor: pointer;\n",
              "    display: none;\n",
              "    fill: #1967D2;\n",
              "    height: 32px;\n",
              "    padding: 0 0 0 0;\n",
              "    width: 32px;\n",
              "  }\n",
              "\n",
              "  .colab-df-quickchart:hover {\n",
              "    background-color: #E2EBFA;\n",
              "    box-shadow: 0px 1px 2px rgba(60, 64, 67, 0.3), 0px 1px 3px 1px rgba(60, 64, 67, 0.15);\n",
              "    fill: #174EA6;\n",
              "  }\n",
              "\n",
              "  [theme=dark] .colab-df-quickchart {\n",
              "    background-color: #3B4455;\n",
              "    fill: #D2E3FC;\n",
              "  }\n",
              "\n",
              "  [theme=dark] .colab-df-quickchart:hover {\n",
              "    background-color: #434B5C;\n",
              "    box-shadow: 0px 1px 3px 1px rgba(0, 0, 0, 0.15);\n",
              "    filter: drop-shadow(0px 1px 2px rgba(0, 0, 0, 0.3));\n",
              "    fill: #FFFFFF;\n",
              "  }\n",
              "</style>\n",
              "\n",
              "    <script>\n",
              "      async function quickchart(key) {\n",
              "        const containerElement = document.querySelector('#' + key);\n",
              "        const charts = await google.colab.kernel.invokeFunction(\n",
              "            'suggestCharts', [key], {});\n",
              "      }\n",
              "    </script>\n",
              "\n",
              "      <script>\n",
              "\n",
              "function displayQuickchartButton(domScope) {\n",
              "  let quickchartButtonEl =\n",
              "    domScope.querySelector('#df-16b62f87-af3d-4563-90e4-a64dceb40373 button.colab-df-quickchart');\n",
              "  quickchartButtonEl.style.display =\n",
              "    google.colab.kernel.accessAllowed ? 'block' : 'none';\n",
              "}\n",
              "\n",
              "        displayQuickchartButton(document);\n",
              "      </script>\n",
              "      <style>\n",
              "    .colab-df-container {\n",
              "      display:flex;\n",
              "      flex-wrap:wrap;\n",
              "      gap: 12px;\n",
              "    }\n",
              "\n",
              "    .colab-df-convert {\n",
              "      background-color: #E8F0FE;\n",
              "      border: none;\n",
              "      border-radius: 50%;\n",
              "      cursor: pointer;\n",
              "      display: none;\n",
              "      fill: #1967D2;\n",
              "      height: 32px;\n",
              "      padding: 0 0 0 0;\n",
              "      width: 32px;\n",
              "    }\n",
              "\n",
              "    .colab-df-convert:hover {\n",
              "      background-color: #E2EBFA;\n",
              "      box-shadow: 0px 1px 2px rgba(60, 64, 67, 0.3), 0px 1px 3px 1px rgba(60, 64, 67, 0.15);\n",
              "      fill: #174EA6;\n",
              "    }\n",
              "\n",
              "    [theme=dark] .colab-df-convert {\n",
              "      background-color: #3B4455;\n",
              "      fill: #D2E3FC;\n",
              "    }\n",
              "\n",
              "    [theme=dark] .colab-df-convert:hover {\n",
              "      background-color: #434B5C;\n",
              "      box-shadow: 0px 1px 3px 1px rgba(0, 0, 0, 0.15);\n",
              "      filter: drop-shadow(0px 1px 2px rgba(0, 0, 0, 0.3));\n",
              "      fill: #FFFFFF;\n",
              "    }\n",
              "  </style>\n",
              "\n",
              "      <script>\n",
              "        const buttonEl =\n",
              "          document.querySelector('#df-4cd0482b-3737-469d-b0f6-303ebddcfbda button.colab-df-convert');\n",
              "        buttonEl.style.display =\n",
              "          google.colab.kernel.accessAllowed ? 'block' : 'none';\n",
              "\n",
              "        async function convertToInteractive(key) {\n",
              "          const element = document.querySelector('#df-4cd0482b-3737-469d-b0f6-303ebddcfbda');\n",
              "          const dataTable =\n",
              "            await google.colab.kernel.invokeFunction('convertToInteractive',\n",
              "                                                     [key], {});\n",
              "          if (!dataTable) return;\n",
              "\n",
              "          const docLinkHtml = 'Like what you see? Visit the ' +\n",
              "            '<a target=\"_blank\" href=https://colab.research.google.com/notebooks/data_table.ipynb>data table notebook</a>'\n",
              "            + ' to learn more about interactive tables.';\n",
              "          element.innerHTML = '';\n",
              "          dataTable['output_type'] = 'display_data';\n",
              "          await google.colab.output.renderOutput(dataTable, element);\n",
              "          const docLink = document.createElement('div');\n",
              "          docLink.innerHTML = docLinkHtml;\n",
              "          element.appendChild(docLink);\n",
              "        }\n",
              "      </script>\n",
              "    </div>\n",
              "  </div>\n"
            ]
          },
          "metadata": {},
          "execution_count": 181
        }
      ]
    },
    {
      "cell_type": "code",
      "source": [
        "# csv 파일로 내보내기\n",
        "VA_IND.to_csv('부가가치_산업별_지역별_비중.csv', encoding='utf_8-sig')\n",
        "CT_IND.to_csv('산출액_산업별_지역별_비중.csv', encoding='utf_8-sig')"
      ],
      "metadata": {
        "id": "BeMCDJVqcMA1"
      },
      "execution_count": 182,
      "outputs": []
    },
    {
      "cell_type": "markdown",
      "source": [
        "### 지역 이출입"
      ],
      "metadata": {
        "id": "FNJ_C3SJZDQ4"
      }
    },
    {
      "cell_type": "code",
      "source": [
        "mtx_for_int= linalg.block_diag(np.ones((3,3)),np.ones((3,3)),np.ones((3,3)),np.ones((3,3)),np.ones((3,3)),np.ones((3,3)))\n",
        "mtx_for_tra=np.where(mtx_for_int == 1, 0, 1)"
      ],
      "metadata": {
        "id": "HMaXgHDpc5eq",
        "outputId": "9b7f54d6-a930-4dc3-9814-074a2172099e",
        "colab": {
          "base_uri": "https://localhost:8080/",
          "height": 191
        }
      },
      "execution_count": 183,
      "outputs": [
        {
          "output_type": "error",
          "ename": "NameError",
          "evalue": "ignored",
          "traceback": [
            "\u001b[0;31m---------------------------------------------------------------------------\u001b[0m",
            "\u001b[0;31mNameError\u001b[0m                                 Traceback (most recent call last)",
            "\u001b[0;32m<ipython-input-183-6eed708e5dd7>\u001b[0m in \u001b[0;36m<cell line: 1>\u001b[0;34m()\u001b[0m\n\u001b[0;32m----> 1\u001b[0;31m \u001b[0mmtx_for_int\u001b[0m\u001b[0;34m=\u001b[0m \u001b[0mlinalg\u001b[0m\u001b[0;34m.\u001b[0m\u001b[0mblock_diag\u001b[0m\u001b[0;34m(\u001b[0m\u001b[0mnp\u001b[0m\u001b[0;34m.\u001b[0m\u001b[0mones\u001b[0m\u001b[0;34m(\u001b[0m\u001b[0;34m(\u001b[0m\u001b[0;36m3\u001b[0m\u001b[0;34m,\u001b[0m\u001b[0;36m3\u001b[0m\u001b[0;34m)\u001b[0m\u001b[0;34m)\u001b[0m\u001b[0;34m,\u001b[0m\u001b[0mnp\u001b[0m\u001b[0;34m.\u001b[0m\u001b[0mones\u001b[0m\u001b[0;34m(\u001b[0m\u001b[0;34m(\u001b[0m\u001b[0;36m3\u001b[0m\u001b[0;34m,\u001b[0m\u001b[0;36m3\u001b[0m\u001b[0;34m)\u001b[0m\u001b[0;34m)\u001b[0m\u001b[0;34m,\u001b[0m\u001b[0mnp\u001b[0m\u001b[0;34m.\u001b[0m\u001b[0mones\u001b[0m\u001b[0;34m(\u001b[0m\u001b[0;34m(\u001b[0m\u001b[0;36m3\u001b[0m\u001b[0;34m,\u001b[0m\u001b[0;36m3\u001b[0m\u001b[0;34m)\u001b[0m\u001b[0;34m)\u001b[0m\u001b[0;34m,\u001b[0m\u001b[0mnp\u001b[0m\u001b[0;34m.\u001b[0m\u001b[0mones\u001b[0m\u001b[0;34m(\u001b[0m\u001b[0;34m(\u001b[0m\u001b[0;36m3\u001b[0m\u001b[0;34m,\u001b[0m\u001b[0;36m3\u001b[0m\u001b[0;34m)\u001b[0m\u001b[0;34m)\u001b[0m\u001b[0;34m,\u001b[0m\u001b[0mnp\u001b[0m\u001b[0;34m.\u001b[0m\u001b[0mones\u001b[0m\u001b[0;34m(\u001b[0m\u001b[0;34m(\u001b[0m\u001b[0;36m3\u001b[0m\u001b[0;34m,\u001b[0m\u001b[0;36m3\u001b[0m\u001b[0;34m)\u001b[0m\u001b[0;34m)\u001b[0m\u001b[0;34m,\u001b[0m\u001b[0mnp\u001b[0m\u001b[0;34m.\u001b[0m\u001b[0mones\u001b[0m\u001b[0;34m(\u001b[0m\u001b[0;34m(\u001b[0m\u001b[0;36m3\u001b[0m\u001b[0;34m,\u001b[0m\u001b[0;36m3\u001b[0m\u001b[0;34m)\u001b[0m\u001b[0;34m)\u001b[0m\u001b[0;34m)\u001b[0m\u001b[0;34m\u001b[0m\u001b[0;34m\u001b[0m\u001b[0m\n\u001b[0m\u001b[1;32m      2\u001b[0m \u001b[0mmtx_for_tra\u001b[0m\u001b[0;34m=\u001b[0m\u001b[0mnp\u001b[0m\u001b[0;34m.\u001b[0m\u001b[0mwhere\u001b[0m\u001b[0;34m(\u001b[0m\u001b[0mmtx_for_int\u001b[0m \u001b[0;34m==\u001b[0m \u001b[0;36m1\u001b[0m\u001b[0;34m,\u001b[0m \u001b[0;36m0\u001b[0m\u001b[0;34m,\u001b[0m \u001b[0;36m1\u001b[0m\u001b[0;34m)\u001b[0m\u001b[0;34m\u001b[0m\u001b[0;34m\u001b[0m\u001b[0m\n",
            "\u001b[0;31mNameError\u001b[0m: name 'linalg' is not defined"
          ]
        }
      ]
    },
    {
      "cell_type": "code",
      "source": [
        "tra_int = (Mt[0:18,0:18]*mtx_for_tra).astype(float)  # 중간투입(수요) 이출입\n",
        "tra_int"
      ],
      "metadata": {
        "id": "YrzQxWbJc5hJ"
      },
      "execution_count": null,
      "outputs": []
    },
    {
      "cell_type": "code",
      "source": [
        "mtx_for_fd= linalg.block_diag(np.ones((3,3)),np.ones((3,3)),np.ones((3,3)),np.ones((3,3)),np.ones((3,3)),np.ones((3,3)))\n",
        "mtx_for_tra_fd=np.where(mtx_for_fd == 1, 0, 1)\n",
        "mtx_for_tra_fd[:,2]=0 # 수도권 수출 0\n",
        "mtx_for_tra_fd[:,5]=0 # 수도권 수출 0\n",
        "mtx_for_tra_fd[:,8]=0 # 수도권 수출 0\n",
        "mtx_for_tra_fd[:,11]=0 # 수도권 수출 0\n",
        "mtx_for_tra_fd[:,14]=0 # 수도권 수출 0\n",
        "mtx_for_tra_fd[:,17]=0 # 수도권 수출 0\n",
        "mtx_for_tra_fd"
      ],
      "metadata": {
        "id": "QqgW3yxVhBwq"
      },
      "execution_count": null,
      "outputs": []
    },
    {
      "cell_type": "code",
      "source": [
        "tra_fd = (Mt[:18,19:37]*mtx_for_tra_fd).astype(float)\n",
        "tra_fd"
      ],
      "metadata": {
        "id": "C137XEeQhBy2"
      },
      "execution_count": null,
      "outputs": []
    },
    {
      "cell_type": "code",
      "source": [
        "Mt[:18,19:37]"
      ],
      "metadata": {
        "id": "7GtQPMagpLqM"
      },
      "execution_count": null,
      "outputs": []
    },
    {
      "cell_type": "code",
      "source": [
        "tot_tra = (tra_int+tra_fd).astype(float)  #지역별 산업별 이출입 매트릭스 18x18"
      ],
      "metadata": {
        "id": "Y9AciCbShB1L"
      },
      "execution_count": null,
      "outputs": []
    },
    {
      "cell_type": "code",
      "source": [
        "cd_for_tr = np.array([[1,1,1,0,0,0,0,0,0,0,0,0,0,0,0,0,0,0],  # 행렬 곱을 이용한 부문 통합을 위해 0과 1로 구성된 임시의 6x6 매트릭스\n",
        "       [0,0,0,1,1,1,0,0,0,0,0,0,0,0,0,0,0,0],\n",
        "       [0,0,0,0,0,0,1,1,1,0,0,0,0,0,0,0,0,0],\n",
        "       [0,0,0,0,0,0,0,0,0,1,1,1,0,0,0,0,0,0],\n",
        "       [0,0,0,0,0,0,0,0,0,0,0,0,1,1,1,0,0,0],\n",
        "       [0,0,0,0,0,0,0,0,0,0,0,0,0,0,0,1,1,1]])"
      ],
      "metadata": {
        "id": "H1pkLW91qfdV"
      },
      "execution_count": null,
      "outputs": []
    },
    {
      "cell_type": "code",
      "source": [
        "fnl_tra = (cd_for_tr@tot_tra)@cd_for_tr.T # 지역별 이출입 매트릭스\n",
        "fnl_tra"
      ],
      "metadata": {
        "id": "WEDv0XT4rPrs"
      },
      "execution_count": null,
      "outputs": []
    },
    {
      "cell_type": "code",
      "source": [
        "tot_tra_ex = fnl_tra.sum(axis=1).astype(float)  #이출\n",
        "tot_tra_im = fnl_tra.sum(axis=0).astype(float)  #이입\n",
        "tot_tra_net = tot_tra_ex - tot_tra_im #순이출입\n",
        "tot_tra_all = np.concatenate((tot_tra_ex, tot_tra_im, tot_tra_net), axis=0).reshape([3,6])\n",
        "tot_tra_all.shape"
      ],
      "metadata": {
        "id": "uX8zp_1ahB30"
      },
      "execution_count": null,
      "outputs": []
    },
    {
      "cell_type": "code",
      "source": [
        "tra_df = pd.DataFrame(tot_tra_all, columns = ['수도권', '충청권', '서남권', '동남권', '강원권','제주권'],\n",
        "                                     index=['이출', '이입', '순이출입'])\n",
        "tra_df"
      ],
      "metadata": {
        "id": "lzcuKDi7lwG5"
      },
      "execution_count": null,
      "outputs": []
    },
    {
      "cell_type": "code",
      "source": [
        "tra_df.to_csv('지역별_산업별_이출입.csv', encoding='utf_8-sig')"
      ],
      "metadata": {
        "id": "MXEtPOmenJio"
      },
      "execution_count": null,
      "outputs": []
    },
    {
      "cell_type": "markdown",
      "source": [
        "#### 입지계수"
      ],
      "metadata": {
        "id": "FJDCWRUnxDOf"
      }
    },
    {
      "cell_type": "code",
      "source": [
        "X = Mt[-1,:18].reshape([1,18])\n",
        "X_all_ind_all_reg = ct.sum() # 우리나라 총산출\n",
        "X_all_ind_all_reg"
      ],
      "metadata": {
        "id": "Erjw8V8ixCOS"
      },
      "execution_count": null,
      "outputs": []
    },
    {
      "cell_type": "code",
      "source": [
        "X_sudo =X[-1,:3].sum().reshape([1,1]) # 수도권 산출액 합\n",
        "X_chung =X[-1,3:6].sum().reshape([1,1]) # 충청권 산출액 합\n",
        "X_seo =X[-1,6:9].sum().reshape([1,1]) # 서남권 산출액 합\n",
        "X_dong =X[-1,9:12].sum().reshape([1,1]) # 동남권 산출액 합\n",
        "X_gang =X[-1,12:15].sum().reshape([1,1]) # 강원권 산출액 합\n",
        "X_jeju =X[-1,15:18].sum().reshape([1,1]) # 제주권 산출액 합\n",
        "print(X_sudo,X_chung,X_seo,X_dong,X_gang,X_jeju)"
      ],
      "metadata": {
        "id": "NDmHWCQdx9YL"
      },
      "execution_count": null,
      "outputs": []
    },
    {
      "cell_type": "code",
      "source": [
        "X_agr=X[-1,0]+X[-1,3]+X[-1,6]+X[-1,9]+X[-1,12]+X[-1,15] # 전국 농산품 산출액\n",
        "X_manu=X[-1,1]+X[-1,4]+X[-1,7]+X[-1,10]+X[-1,13]+X[-1,16] # 전국 공산품 산출액\n",
        "X_serv=X[-1,2]+X[-1,5]+X[-1,8]+X[-1,11]+X[-1,14]+X[-1,17] # 전국 서비스 산출액\n",
        "print(X_agr,X_manu, X_serv)"
      ],
      "metadata": {
        "id": "JXHe08Py2f60"
      },
      "execution_count": null,
      "outputs": []
    },
    {
      "cell_type": "code",
      "source": [
        "X_i = np.concatenate((np.tile(X_sudo,3),np.tile(X_chung,3),np.tile(X_seo,3), np.tile(X_dong,3),np.tile(X_gang,3),np.tile(X_jeju,3)),axis=1)"
      ],
      "metadata": {
        "id": "xznfECiY3QAc"
      },
      "execution_count": null,
      "outputs": []
    },
    {
      "cell_type": "code",
      "source": [
        "X_j = np.concatenate((X_agr.reshape([1,1]),X_manu.reshape([1,1]),X_serv.reshape([1,1])),axis=1) # 전국 농산품, 공산품, 서비스 산출액\n",
        "X_j"
      ],
      "metadata": {
        "id": "wA4_XYMh6NAq"
      },
      "execution_count": null,
      "outputs": []
    },
    {
      "cell_type": "code",
      "source": [
        "X_div_by_Xi=X/X_i\n",
        "X_div_by_Xi"
      ],
      "metadata": {
        "id": "4ytozlUf7RBA"
      },
      "execution_count": null,
      "outputs": []
    },
    {
      "cell_type": "code",
      "source": [
        "Xj_div_X = np.tile(X_j/X.sum(),6).reshape(1,18)\n",
        "Xj_div_X"
      ],
      "metadata": {
        "id": "YpE-TVBU7ePf"
      },
      "execution_count": null,
      "outputs": []
    },
    {
      "cell_type": "code",
      "source": [
        "LQ = X_div_by_Xi/Xj_div_X\n",
        "LQ"
      ],
      "metadata": {
        "id": "mqkLgWU174Wa"
      },
      "execution_count": null,
      "outputs": []
    },
    {
      "cell_type": "code",
      "source": [
        "LQ_df = pd.DataFrame(LQ.round(3), columns =  [['수도권', '수도권', '수도권', '충청권', '충청권', '충청권','서남권', '서남권', '서남권', '동남권', '동남권', '동남권',\n",
        "                                       '강원권', '강원권', '강원권', '제주권', '제주권', '제주권'],\n",
        "                                     ['농산품', '공산품', '서비스', '농산품', '공산품', '서비스','농산품', '공산품', '서비스', '농산품', '공산품', '서비스',\n",
        "                                        '농산품', '공산품', '서비스', '농산품', '공산품', '서비스' ]],\n",
        "                     index = ['입지계수(LQ)'])\n",
        "LQ_df"
      ],
      "metadata": {
        "id": "Rs9c3CTb74ZP"
      },
      "execution_count": null,
      "outputs": []
    },
    {
      "cell_type": "code",
      "source": [
        "LQ_df.to_csv('지역별_산업별_입지계수.csv', encoding='utf_8-sig')"
      ],
      "metadata": {
        "id": "SniiNll74KcZ"
      },
      "execution_count": null,
      "outputs": []
    },
    {
      "cell_type": "markdown",
      "source": [
        "###..산업연관효과분석"
      ],
      "metadata": {
        "id": "JYbkwC_VPVv2"
      }
    },
    {
      "cell_type": "code",
      "source": [
        "Dm_1 =Tot_rg[0:18,0:18].astype(float)\n",
        "Im_1 =Tot_rg[18:21,0:18].astype(float)\n",
        "# Dm_1 = Dt[0:4,1:10].astype(float)\n",
        "# Im_1 = It[0:4,1:10].astype(float)\n",
        "# print('총거래표 : \\n', Tt_1)    # 총거래표 확인\n",
        "# print('국산거래표 : \\n', Dm_1)  # 국산거래표 확인\n",
        "# print('수입거래표 : \\n', Im_1.astype(float))  # 수입거래표 확인"
      ],
      "metadata": {
        "id": "q4Q2rSR1QiUI"
      },
      "execution_count": null,
      "outputs": []
    },
    {
      "cell_type": "code",
      "source": [
        "ct =Tot_rg[-1,:18]  # 산출액\n",
        "ct"
      ],
      "metadata": {
        "id": "sLoitK1lQigz"
      },
      "execution_count": null,
      "outputs": []
    },
    {
      "cell_type": "code",
      "source": [
        "ct_m = np.tile(ct, reps=[18,1]) # 산출액을 18번 행반복"
      ],
      "metadata": {
        "id": "s0wcbJY1Qipl"
      },
      "execution_count": null,
      "outputs": []
    },
    {
      "cell_type": "code",
      "source": [
        "# At = Tt_1[0:3,0:3]/ct_m   # 총투입계수\n",
        "Ad =(Dm_1/ct_m).round(3)  # 국산 투입계수\n",
        "\n",
        "# print('총투입계수표 : \\n', At)\n",
        "# print('국산투입계수표 : \\n', Ad)\n",
        "#\n",
        "# df_At = pd.DataFrame(At.round(3),columns = ['농산품', '공산품', '서비스'], index=['농산품', '공산품', '서비스'])  #pandas로 내보내기\n",
        "Ad.shape"
      ],
      "metadata": {
        "id": "5uLIE7vfQiwM"
      },
      "execution_count": null,
      "outputs": []
    },
    {
      "cell_type": "code",
      "source": [
        "Ad_df = pd.DataFrame(Ad, columns = [['수도권', '수도권', '수도권', '충청권', '충청권', '충청권','서남권', '서남권', '서남권', '동남권', '동남권', '동남권',\n",
        "                                       '강원권', '강원권', '강원권', '제주권', '제주권', '제주권'],\n",
        "\n",
        "                                      ['농산품', '공산품', '서비스', '농산품', '공산품', '서비스','농산품', '공산품', '서비스', '농산품', '공산품', '서비스',\n",
        "                                        '농산품', '공산품', '서비스', '농산품', '공산품', '서비스']],\n",
        "\n",
        "                                    index=[['수도권', '수도권', '수도권', '충청권', '충청권', '충청권','서남권', '서남권', '서남권', '동남권', '동남권', '동남권',\n",
        "                                            '강원권', '강원권', '강원권', '제주권', '제주권', '제주권'],\n",
        "\n",
        "                                           ['농산품', '공산품', '서비스', '농산품', '공산품', '서비스','농산품', '공산품', '서비스', '농산품', '공산품', '서비스',\n",
        "                                            '농산품', '공산품', '서비스', '농산품', '공산품', '서비스']])\n",
        "Ad_df.index.names=['지역', '상품']\n",
        "Ad_df"
      ],
      "metadata": {
        "id": "W-MSnIM5k4X5"
      },
      "execution_count": null,
      "outputs": []
    },
    {
      "cell_type": "markdown",
      "source": [
        "##### 생산유발계수(Lf)"
      ],
      "metadata": {
        "id": "V0nnZSeHUPn8"
      }
    },
    {
      "cell_type": "code",
      "source": [
        "Lf = np.linalg.inv(np.identity(18)-Ad)    # 생산유발계수\n",
        "Lf_sm_cl = np.hstack((Lf, Lf.sum(axis=1).reshape([18,1]))) # 생산유발계수 열합\n",
        "Lf_sm_rw = np.vstack((Lf_sm_cl,Lf_sm_cl.sum(axis=0))) # 생산유발계수 행합"
      ],
      "metadata": {
        "id": "SF7hebVoQi2M"
      },
      "execution_count": null,
      "outputs": []
    },
    {
      "cell_type": "code",
      "source": [
        "Lf_df = pd.DataFrame(Lf, columns = [['수도권', '수도권', '수도권', '충청권', '충청권', '충청권','서남권', '서남권', '서남권', '동남권', '동남권', '동남권',\n",
        "                                       '강원권', '강원권', '강원권', '제주권', '제주권', '제주권'],\n",
        "\n",
        "                                      ['농산품', '공산품', '서비스', '농산품', '공산품', '서비스','농산품', '공산품', '서비스', '농산품', '공산품', '서비스',\n",
        "                                        '농산품', '공산품', '서비스', '농산품', '공산품', '서비스']],\n",
        "\n",
        "                                    index=[['수도권', '수도권', '수도권', '충청권', '충청권', '충청권','서남권', '서남권', '서남권', '동남권', '동남권', '동남권',\n",
        "                                            '강원권', '강원권', '강원권', '제주권', '제주권', '제주권'],\n",
        "\n",
        "                                           ['농산품', '공산품', '서비스', '농산품', '공산품', '서비스','농산품', '공산품', '서비스', '농산품', '공산품', '서비스',\n",
        "                                            '농산품', '공산품', '서비스', '농산품', '공산품', '서비스']])\n",
        "Ad_df.index.names=['지역', '상품']\n",
        "Ad_df  #pandas로 내보내기"
      ],
      "metadata": {
        "id": "YT9SwuJnQi8T"
      },
      "execution_count": null,
      "outputs": []
    },
    {
      "cell_type": "markdown",
      "source": [
        "#### 부가가치유발계수(Lv)"
      ],
      "metadata": {
        "id": "DkU6os7vUW-0"
      }
    },
    {
      "cell_type": "code",
      "source": [
        "Va_r = Tot_rg[-2,:18]/ct # 부가가치율\n",
        "Va_r"
      ],
      "metadata": {
        "id": "KfbCR-LdQjCF"
      },
      "execution_count": null,
      "outputs": []
    },
    {
      "cell_type": "code",
      "source": [
        "Va_m = np.diag(Va_r)  # 부가가치율 대각행렬"
      ],
      "metadata": {
        "id": "7dkxNSQCQjJF"
      },
      "execution_count": null,
      "outputs": []
    },
    {
      "cell_type": "code",
      "source": [
        "Lv = Va_m@Lf  #부가가치유발계수\n",
        "Lv\n",
        "Lv_sm_cl = np.hstack((Lv, Lv.sum(axis=1).reshape([18,1]))) # 부가가치유발계수 열합\n",
        "Lv_sm_rw = np.vstack((Lv_sm_cl,Lv_sm_cl.sum(axis=0))) # 부가가치유발계수 행합"
      ],
      "metadata": {
        "id": "DF_G_Hn09gRy"
      },
      "execution_count": null,
      "outputs": []
    },
    {
      "cell_type": "code",
      "source": [
        "# df_Lv = pd.DataFrame(Lv.round(3),columns = ['농산품', '공산품', '서비스'], index=['농산품', '공산품', '서비스'])  # pandas로 내보내기"
      ],
      "metadata": {
        "id": "Od3StAXA86sf"
      },
      "execution_count": null,
      "outputs": []
    },
    {
      "cell_type": "markdown",
      "source": [
        "#### 수입유발계수(Li)"
      ],
      "metadata": {
        "id": "G-NYB11hVLEO"
      }
    },
    {
      "cell_type": "code",
      "source": [
        "import scipy.linalg as linalg"
      ],
      "metadata": {
        "id": "L_pl8DDyw9ft"
      },
      "execution_count": null,
      "outputs": []
    },
    {
      "cell_type": "code",
      "source": [
        "dig_imp = linalg.block_diag(Tot_rg[18:21,0:3],Tot_rg[18:21,3:6],Tot_rg[18:21,6:9],Tot_rg[18:21,9:12],Tot_rg[18:21,12:15],Tot_rg[18:21,15:18]) # 각 지역수입거래표를 대각화\n",
        "dig_imp.shape"
      ],
      "metadata": {
        "id": "9VPWOCSAtqoD"
      },
      "execution_count": null,
      "outputs": []
    },
    {
      "cell_type": "code",
      "source": [
        "Ai = dig_imp/ct_m"
      ],
      "metadata": {
        "id": "RJXF3AM6uj8Q"
      },
      "execution_count": null,
      "outputs": []
    },
    {
      "cell_type": "code",
      "source": [
        "# print('수입투입계수표 : \\n', Ai)\n",
        "\n",
        "# df_Ai = pd.DataFrame(Ai.round(3))  #pandas로 내보내기"
      ],
      "metadata": {
        "id": "IRm-HtOf9KVx"
      },
      "execution_count": null,
      "outputs": []
    },
    {
      "cell_type": "code",
      "source": [
        "Li = Ai@Lf  #수입유발계수\n",
        "Li.shape\n",
        "\n",
        "Li_sm_cl = np.hstack((Li, Li.sum(axis=1).reshape([18,1]))) # 수입유발계수 열합\n",
        "Li_sm_rw = np.vstack((Li_sm_cl,Li_sm_cl.sum(axis=0))) # 수입유발계수 행합"
      ],
      "metadata": {
        "id": "_8fZBBSX9kld"
      },
      "execution_count": null,
      "outputs": []
    },
    {
      "cell_type": "code",
      "source": [
        "Lf_df = pd.DataFrame(Lf.round(3), columns = [['수도권', '수도권', '수도권', '충청권', '충청권', '충청권','서남권', '서남권', '서남권', '동남권', '동남권', '동남권',\n",
        "                                       '강원권', '강원권', '강원권', '제주권', '제주권', '제주권'],\n",
        "\n",
        "                                      ['농산품', '공산품', '서비스', '농산품', '공산품', '서비스','농산품', '공산품', '서비스', '농산품', '공산품', '서비스',\n",
        "                                        '농산품', '공산품', '서비스', '농산품', '공산품', '서비스']],\n",
        "\n",
        "                                    index=[['수도권', '수도권', '수도권', '충청권', '충청권', '충청권','서남권', '서남권', '서남권', '동남권', '동남권', '동남권',\n",
        "                                            '강원권', '강원권', '강원권', '제주권', '제주권', '제주권'],\n",
        "\n",
        "                                           ['농산품', '공산품', '서비스', '농산품', '공산품', '서비스','농산품', '공산품', '서비스', '농산품', '공산품', '서비스',\n",
        "                                            '농산품', '공산품', '서비스', '농산품', '공산품', '서비스']])\n",
        "Lf_df.index.names=['지역', '상품']\n",
        "# Lf_df  #pandas로 내보내기"
      ],
      "metadata": {
        "id": "qxP0BGTe-J6J"
      },
      "execution_count": null,
      "outputs": []
    },
    {
      "cell_type": "code",
      "source": [
        "Lv_df = pd.DataFrame(Lv.round(3), columns = [['수도권', '수도권', '수도권', '충청권', '충청권', '충청권','서남권', '서남권', '서남권', '동남권', '동남권', '동남권',\n",
        "                                       '강원권', '강원권', '강원권', '제주권', '제주권', '제주권'],\n",
        "\n",
        "                                      ['농산품', '공산품', '서비스', '농산품', '공산품', '서비스','농산품', '공산품', '서비스', '농산품', '공산품', '서비스',\n",
        "                                        '농산품', '공산품', '서비스', '농산품', '공산품', '서비스']],\n",
        "\n",
        "                                    index=[['수도권', '수도권', '수도권', '충청권', '충청권', '충청권','서남권', '서남권', '서남권', '동남권', '동남권', '동남권',\n",
        "                                            '강원권', '강원권', '강원권', '제주권', '제주권', '제주권'],\n",
        "\n",
        "                                           ['농산품', '공산품', '서비스', '농산품', '공산품', '서비스','농산품', '공산품', '서비스', '농산품', '공산품', '서비스',\n",
        "                                            '농산품', '공산품', '서비스', '농산품', '공산품', '서비스']])\n",
        "Lv_df.index.names=['지역', '상품']\n",
        "# Lv_df  #pandas로 내보내기"
      ],
      "metadata": {
        "id": "Z72UOsOML_yD"
      },
      "execution_count": null,
      "outputs": []
    },
    {
      "cell_type": "code",
      "source": [
        "Li_df = pd.DataFrame(Li.round(3), columns = [['수도권', '수도권', '수도권', '충청권', '충청권', '충청권','서남권', '서남권', '서남권', '동남권', '동남권', '동남권',\n",
        "                                       '강원권', '강원권', '강원권', '제주권', '제주권', '제주권'],\n",
        "\n",
        "                                      ['농산품', '공산품', '서비스', '농산품', '공산품', '서비스','농산품', '공산품', '서비스', '농산품', '공산품', '서비스',\n",
        "                                        '농산품', '공산품', '서비스', '농산품', '공산품', '서비스']],\n",
        "\n",
        "                                    index=[['수도권', '수도권', '수도권', '충청권', '충청권', '충청권','서남권', '서남권', '서남권', '동남권', '동남권', '동남권',\n",
        "                                            '강원권', '강원권', '강원권', '제주권', '제주권', '제주권'],\n",
        "\n",
        "                                           ['농산품', '공산품', '서비스', '농산품', '공산품', '서비스','농산품', '공산품', '서비스', '농산품', '공산품', '서비스',\n",
        "                                            '농산품', '공산품', '서비스', '농산품', '공산품', '서비스']])\n",
        "Li_df.index.names=['지역', '상품']\n",
        "# Li_df  #pandas로 내보내기"
      ],
      "metadata": {
        "id": "9VHsqhK0L_97"
      },
      "execution_count": null,
      "outputs": []
    },
    {
      "cell_type": "code",
      "source": [
        "Lf_df.to_csv('생산유발계수.csv', encoding='utf_8-sig')\n",
        "Lv_df.to_csv('부가가치유발계수.csv', encoding='utf_8-sig')\n",
        "Li_df.to_csv('수입유발계수.csv', encoding='utf_8-sig')"
      ],
      "metadata": {
        "id": "gqjEbG6yMVVV"
      },
      "execution_count": null,
      "outputs": []
    },
    {
      "cell_type": "markdown",
      "source": [],
      "metadata": {
        "id": "rDsqvOxBbB5w"
      }
    },
    {
      "cell_type": "markdown",
      "source": [
        "### 최종수요 항목별 유발효과"
      ],
      "metadata": {
        "id": "6zhSQgh83SmB"
      }
    },
    {
      "cell_type": "markdown",
      "source": [
        "##### 생산유발효과"
      ],
      "metadata": {
        "id": "P8-fs47q3WzF"
      }
    },
    {
      "cell_type": "code",
      "source": [
        "Yd = Mt[:18,19:37]  # 국산최종수요...소비, 투자, 수출\n",
        "Yi = Mt[18:21,19:37]  # 수입최종수요...소비, 투자, 수출\n",
        "# print('국산최종수요 : \\n', Yd)\n",
        "# print('수입최종수요 : \\n', Yi)\n",
        "Yi_dig = linalg.block_diag(Yi[:,0:3],Yi[:,3:6],Yi[:,6:9],Yi[:,9:12],Yi[:,12:15],Yi[:,15:18]) # 각 지역최종수요 대각화\n",
        "Yi_dig.shape"
      ],
      "metadata": {
        "id": "aZ0NQ51_-OTA"
      },
      "execution_count": null,
      "outputs": []
    },
    {
      "cell_type": "code",
      "source": [
        "Lfyd = (Lf@Yd).astype(float).reshape([18,18])   # 데이터타입을 float으로 지정하고 3x3행렬로 지정\n",
        "Lvyd = (Lv@Yd).astype(float).reshape([18,18])   # 데이터타입을 float으로 지정하고 3x3행렬로 지정\n",
        "Liyd = (Li@Yd).astype(float).reshape([18,18]) + Yi_dig.astype(float).reshape([18,18]) # 데이터타입을 float으로 지정하고 3x3행렬로 지정\n",
        "\n",
        "# print('최종수요항목별 생산유발계수 : \\n', Lfyd)\n",
        "# print('최종수요항목별 부가가치유발계수 : \\n', Lvyd)\n",
        "print('최종수요항목별 수입유발계수 : \\n', Liyd)\n"
      ],
      "metadata": {
        "id": "vI4pjfvx-WU_"
      },
      "execution_count": null,
      "outputs": []
    },
    {
      "cell_type": "code",
      "source": [
        "##### 최종수요항목별 유발계수 검증...최종수요항목별 생산유발계수=산출액, 최종수요항목별 부가가치유발계수=부가가치, 최종수요항목별 수입유발계수=수입 이 성립하여야 함"
      ],
      "metadata": {
        "id": "2i4MUlDg5HPP"
      },
      "execution_count": null,
      "outputs": []
    },
    {
      "cell_type": "code",
      "source": [
        "Lfyd_sm = Lfyd.sum(axis=1).astype(float).reshape([18,1])\n",
        "Lvyd_sm = Lvyd.sum(axis=1).astype(float).reshape([18,1])\n",
        "Liyd_sm = Liyd.sum(axis=1).astype(float).reshape([18,1])\n",
        "\n",
        "print('최종수요항목별 생산유발계수의 열합 : \\n', Lfyd_sm)\n",
        "print('최종수요항목별 부가가치유발의 열합 : \\n', Lvyd_sm)\n",
        "print('최종수요항목별 수입유발계의 열합 : \\n', Liyd_sm)"
      ],
      "metadata": {
        "id": "kJH9hmlC5HUr"
      },
      "execution_count": null,
      "outputs": []
    },
    {
      "cell_type": "markdown",
      "source": [
        "###### 최종수요항목별 생산, 부가가치 및 수입유발계수"
      ],
      "metadata": {
        "id": "lIoPBD-Fae1A"
      }
    },
    {
      "cell_type": "code",
      "source": [
        "Yd_rw_sm =Yd.sum(axis=0)  #국산최종수요항목별(소비, 투자, 수출) 행합\n",
        "Yi_rw_sm =Yi.sum(axis=0)  #수입최종수요항목별(소비, 투자, 수출) 행합\n",
        "\n",
        "Lfyd_rw_sm = Lfyd.sum(axis=0) # 최종수요항목별(소비, 투자, 수출) 생산유발계수 행합\n",
        "Lvyd_rw_sm = Lvyd.sum(axis=0) # 최종수요항목별(소비, 투자, 수출) 부가가치유발계수 행합\n",
        "Liyd_rw_sm = Liyd.sum(axis=0) # 최종수요항목별(소비, 투자, 수출) 수입유발계수 행합\n",
        "\n",
        "print('최종수요항목별 행합 : \\n', Yd_rw_sm)\n",
        "print('최종수요항목별 생산유발계수 행합 : \\n', Lfyd_rw_sm)\n",
        "print('최종수요항목별 부가가치유발계수 행합 : \\n', Lvyd_rw_sm)\n",
        "print('최종수요항목별 수입유발계수 행합: \\n', Liyd_rw_sm)"
      ],
      "metadata": {
        "id": "6XUSbGUyanOq"
      },
      "execution_count": null,
      "outputs": []
    },
    {
      "cell_type": "markdown",
      "source": [
        "##### 최종수요항목별(소비, 투자, 수출) 유발계수"
      ],
      "metadata": {
        "id": "_hjFJ_N0dggV"
      }
    },
    {
      "cell_type": "code",
      "source": [
        "Lfyd_coef =(Lfyd_rw_sm/Yd_rw_sm).astype(float).reshape([1,18]) #최종수요항목별(소비, 투자, 수출) 생산유발계수\n",
        "Lvyd_coef =(Lvyd_rw_sm/Yd_rw_sm).astype(float).reshape([1,18]) #최종수요항목별(소비, 투자, 수출) 생산유발계수\n",
        "Liyd_coef =(Liyd_rw_sm/(Yd_rw_sm+Yi_rw_sm)).astype(float).reshape([1,18]) #최종수요항목별(소비, 투자, 수출) 생산유발계수\n",
        "\n",
        "print('최종수요항목별(소비, 투자, 수출) 생산유발계수 행합 : \\n', Lfyd_coef)\n",
        "print('최종수요항목별(소비, 투자, 수출) 부가가치유발계수 행합 : \\n', Lvyd_coef)\n",
        "print('최종수요항목별(소비, 투자, 수출) 수입유발계수 행합: \\n', Liyd_coef)"
      ],
      "metadata": {
        "id": "MmV_4BB-anZi"
      },
      "execution_count": null,
      "outputs": []
    },
    {
      "cell_type": "markdown",
      "source": [
        "###### 영향력계수(후방연쇄효과) 및 감응도계수(전방연쇄효과)"
      ],
      "metadata": {
        "id": "Kr23Ly0AhpVR"
      }
    },
    {
      "cell_type": "code",
      "source": [
        "Lf_rw_sm = Lf.sum(axis=0)  # 생산유발계수 행합\n",
        "Lf_cl_sm = Lf.sum(axis=1)  # 생산유발계수 행합\n",
        "\n",
        "Lf_bwd = (Lf.sum(axis=0)/Lf_rw_sm.mean()).astype(float).reshape([1,18])  #영향력 계수\n",
        "Lf_fwd = (Lf.sum(axis=1)/Lf_cl_sm.mean()).astype(float).reshape([1,18])  #감응도 계수\n",
        "\n",
        "print('품목별 영향력계수 : \\n', Lf_bwd)\n",
        "print('품목별 감음도계수: \\n', Lf_fwd)"
      ],
      "metadata": {
        "id": "DxnO-URDanip"
      },
      "execution_count": null,
      "outputs": []
    },
    {
      "cell_type": "code",
      "source": [
        "df_Lfyd = pd.DataFrame(Lfyd.round(3), columns = [['수도권', '수도권', '수도권', '충청권', '충청권', '충청권','서남권', '서남권', '서남권', '동남권', '동남권', '동남권',\n",
        "                                        '강원권', '강원권', '강원권', '제주권', '제주권', '제주권'],\n",
        "                                       ['소비', '투자', '수출', '소비', '투자', '수출','소비', '투자', '수출','소비', '투자', '수출','소비', '투자', '수출',\n",
        "                                         '소비', '투자', '수출',]],\n",
        "\n",
        "                                     index=[['수도권', '수도권', '수도권', '충청권', '충청권', '충청권','서남권', '서남권', '서남권', '동남권', '동남권', '동남권',\n",
        "                                             '강원권', '강원권', '강원권', '제주권', '제주권', '제주권'],\n",
        "\n",
        "                                            ['농산품', '공산품', '서비스', '농산품', '공산품', '서비스','농산품', '공산품', '서비스', '농산품', '공산품', '서비스',\n",
        "                                             '농산품', '공산품', '서비스', '농산품', '공산품', '서비스']])\n",
        "df_Lfyd.index.names=['지역', '상품']\n",
        "# Lf_df  #pandas로 내보내기"
      ],
      "metadata": {
        "id": "G-mJLG0can6J"
      },
      "execution_count": null,
      "outputs": []
    },
    {
      "cell_type": "code",
      "source": [
        "df_Lvyd = pd.DataFrame(Lvyd.round(3), columns = [['수도권', '수도권', '수도권', '충청권', '충청권', '충청권','서남권', '서남권', '서남권', '동남권', '동남권', '동남권',\n",
        "                                        '강원권', '강원권', '강원권', '제주권', '제주권', '제주권'],\n",
        "                                       ['소비', '투자', '수출', '소비', '투자', '수출','소비', '투자', '수출','소비', '투자', '수출','소비', '투자', '수출',\n",
        "                                         '소비', '투자', '수출',]],\n",
        "\n",
        "                                     index=[['수도권', '수도권', '수도권', '충청권', '충청권', '충청권','서남권', '서남권', '서남권', '동남권', '동남권', '동남권',\n",
        "                                             '강원권', '강원권', '강원권', '제주권', '제주권', '제주권'],\n",
        "\n",
        "                                            ['농산품', '공산품', '서비스', '농산품', '공산품', '서비스','농산품', '공산품', '서비스', '농산품', '공산품', '서비스',\n",
        "                                             '농산품', '공산품', '서비스', '농산품', '공산품', '서비스']])\n",
        "df_Lvyd.index.names=['지역', '상품']"
      ],
      "metadata": {
        "id": "OcdzFts-aoCe"
      },
      "execution_count": null,
      "outputs": []
    },
    {
      "cell_type": "code",
      "source": [
        "df_Liyd = pd.DataFrame(Liyd.round(3), columns = [['수도권', '수도권', '수도권', '충청권', '충청권', '충청권','서남권', '서남권', '서남권', '동남권', '동남권', '동남권',\n",
        "                                        '강원권', '강원권', '강원권', '제주권', '제주권', '제주권'],\n",
        "                                       ['소비', '투자', '수출', '소비', '투자', '수출','소비', '투자', '수출','소비', '투자', '수출','소비', '투자', '수출',\n",
        "                                         '소비', '투자', '수출',]],\n",
        "\n",
        "                                     index=[['수도권', '수도권', '수도권', '충청권', '충청권', '충청권','서남권', '서남권', '서남권', '동남권', '동남권', '동남권',\n",
        "                                             '강원권', '강원권', '강원권', '제주권', '제주권', '제주권'],\n",
        "\n",
        "                                            ['농산품', '공산품', '서비스', '농산품', '공산품', '서비스','농산품', '공산품', '서비스', '농산품', '공산품', '서비스',\n",
        "                                             '농산품', '공산품', '서비스', '농산품', '공산품', '서비스']])\n",
        "df_Liyd.index.names=['지역', '상품']"
      ],
      "metadata": {
        "id": "DhcxuVr9NSEY"
      },
      "execution_count": null,
      "outputs": []
    },
    {
      "cell_type": "code",
      "source": [
        "df_Lfyd_coef = pd.DataFrame(Lf_bwd.round(3),columns = [['수도권', '수도권', '수도권', '충청권', '충청권', '충청권','서남권', '서남권', '서남권', '동남권', '동남권', '동남권',\n",
        "                                                           '강원권', '강원권', '강원권', '제주권', '제주권', '제주권'],\n",
        "                                                        ['소비', '투자', '수출', '소비', '투자', '수출','소비', '투자', '수출','소비', '투자', '수출','소비', '투자', '수출',\n",
        "                                                         '소비', '투자', '수출',]])\n",
        "\n",
        "df_Lvyd_coef = pd.DataFrame(Lvyd_coef.round(3),columns = [['수도권', '수도권', '수도권', '충청권', '충청권', '충청권','서남권', '서남권', '서남권', '동남권', '동남권', '동남권',\n",
        "                                                           '강원권', '강원권', '강원권', '제주권', '제주권', '제주권'],\n",
        "                                                        ['소비', '투자', '수출', '소비', '투자', '수출','소비', '투자', '수출','소비', '투자', '수출','소비', '투자', '수출',\n",
        "                                                         '소비', '투자', '수출',]])\n",
        "\n",
        "df_Liyd_coef = pd.DataFrame(Liyd_coef.round(3),columns = [['수도권', '수도권', '수도권', '충청권', '충청권', '충청권','서남권', '서남권', '서남권', '동남권', '동남권', '동남권',\n",
        "                                                           '강원권', '강원권', '강원권', '제주권', '제주권', '제주권'],\n",
        "                                                        ['소비', '투자', '수출', '소비', '투자', '수출','소비', '투자', '수출','소비', '투자', '수출','소비', '투자', '수출',\n",
        "                                                         '소비', '투자', '수출',]])"
      ],
      "metadata": {
        "id": "hqbA6HQ6Nh6H"
      },
      "execution_count": null,
      "outputs": []
    },
    {
      "cell_type": "code",
      "source": [
        "df_Lf_bwd = pd.DataFrame(Lf_bwd.round(3),columns = [['수도권', '수도권', '수도권', '충청권', '충청권', '충청권','서남권', '서남권', '서남권', '동남권', '동남권', '동남권',\n",
        "                                                           '강원권', '강원권', '강원권', '제주권', '제주권', '제주권'],\n",
        "                                                        ['소비', '투자', '수출', '소비', '투자', '수출','소비', '투자', '수출','소비', '투자', '수출','소비', '투자', '수출',\n",
        "                                                         '소비', '투자', '수출',]], index=['영향력계수'])\n",
        "\n",
        "df_Lf_fwd = pd.DataFrame(Lf_fwd.round(3),columns = [['수도권', '수도권', '수도권', '충청권', '충청권', '충청권','서남권', '서남권', '서남권', '동남권', '동남권', '동남권',\n",
        "                                                           '강원권', '강원권', '강원권', '제주권', '제주권', '제주권'],\n",
        "                                                        ['소비', '투자', '수출', '소비', '투자', '수출','소비', '투자', '수출','소비', '투자', '수출','소비', '투자', '수출',\n",
        "                                                         '소비', '투자', '수출',]],index=['감응도계수'])\n"
      ],
      "metadata": {
        "id": "FhAqbIF-OGDF"
      },
      "execution_count": null,
      "outputs": []
    },
    {
      "cell_type": "code",
      "source": [
        "# csv 파일로 내보내기\n",
        "df_Lfyd.to_csv('최종수요항목별 생산유발액.csv', encoding='utf_8-sig')\n",
        "df_Lvyd.to_csv('최종수요항목별 부가가치유발액.csv', encoding='utf_8-sig')\n",
        "df_Liyd.to_csv('최종수요항목별 수입유발액.csv', encoding='utf_8-sig')\n",
        "\n",
        "df_Lfyd_coef.to_csv('최종수요항목별 생산유발계수.csv', encoding='utf_8-sig')\n",
        "df_Lvyd_coef.to_csv('최종수요항목별 부가가치유발계수.csv', encoding='utf_8-sig')\n",
        "df_Liyd_coef.to_csv('최종수요항목별 수입유발계수.csv', encoding='utf_8-sig')\n",
        "\n",
        "df_Lf_bwd.to_csv('영향력계수.csv', encoding='utf_8-sig')\n",
        "df_Lf_bwd.to_csv('감응도계수.csv', encoding='utf_8-sig')"
      ],
      "metadata": {
        "id": "2_rVb-CPNh_P"
      },
      "execution_count": null,
      "outputs": []
    },
    {
      "cell_type": "code",
      "source": [],
      "metadata": {
        "id": "2EQzo0yv4mAD"
      },
      "execution_count": null,
      "outputs": []
    }
  ]
}