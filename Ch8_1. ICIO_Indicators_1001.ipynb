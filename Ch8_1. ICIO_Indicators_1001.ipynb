{
  "nbformat": 4,
  "nbformat_minor": 0,
  "metadata": {
    "colab": {
      "provenance": [],
      "mount_file_id": "https://github.com/Tom-Jung/legendary-funicular/blob/main/IO_tables.ipynb",
      "authorship_tag": "ABX9TyN+h81MQtReNibwtjKucAG1",
      "include_colab_link": true
    },
    "kernelspec": {
      "name": "python3",
      "display_name": "Python 3"
    },
    "language_info": {
      "name": "python"
    }
  },
  "cells": [
    {
      "cell_type": "markdown",
      "metadata": {
        "id": "view-in-github",
        "colab_type": "text"
      },
      "source": [
        "<a href=\"https://colab.research.google.com/github/Tom-Jung/legendary-funicular/blob/main/Ch8_1.%20ICIO_Indicators_1001.ipynb\" target=\"_parent\"><img src=\"https://colab.research.google.com/assets/colab-badge.svg\" alt=\"Open In Colab\"/></a>"
      ]
    },
    {
      "cell_type": "code",
      "source": [
        "import numpy as np   # Numpy import\n",
        "import pandas as pd  # Pandas import"
      ],
      "metadata": {
        "id": "TR7JvW8CxBFT"
      },
      "execution_count": 44,
      "outputs": []
    },
    {
      "cell_type": "code",
      "source": [
        "np.set_printoptions(precision=3,suppress=True) # 결과를 소수 3자리까지만 보여주는 옵션"
      ],
      "metadata": {
        "id": "2l9tk4XA4Nkc"
      },
      "execution_count": 45,
      "outputs": []
    },
    {
      "cell_type": "code",
      "source": [
        "# from google.colab import drive\n",
        "# drive.mount('/content/drive')"
      ],
      "metadata": {
        "id": "UUugbbcO-CMK"
      },
      "execution_count": 46,
      "outputs": []
    },
    {
      "cell_type": "code",
      "source": [
        "# icio =pd.read_csv('/content/drive/MyDrive/ICIO/ICIO2021_2018.csv')"
      ],
      "metadata": {
        "id": "dH4scTnJ9Wll"
      },
      "execution_count": 47,
      "outputs": []
    },
    {
      "cell_type": "code",
      "source": [
        "url_icio = \"https://raw.githubusercontent.com/Tom-Jung/legendary-funicular/main/4cons_3secs_1fd_final.csv\"  # 4국 9부문 2020년 ICIO 불러오기\n",
        "icio = pd.read_csv(url_icio)\n",
        "icio.head()"
      ],
      "metadata": {
        "id": "1tuN2LradEW4",
        "colab": {
          "base_uri": "https://localhost:8080/",
          "height": 310
        },
        "outputId": "5c9e1215-5ec1-4538-81b0-204174410455"
      },
      "execution_count": 48,
      "outputs": [
        {
          "output_type": "execute_result",
          "data": {
            "text/plain": [
              "   단위  억달러   한국  한국.1  한국.2    중국  중국.1  중국.2   미국 미국.1 미국.2  ROW ROW.1 ROW.2  \\\n",
              "0  국가   산업  농산품   공산품   서비스   농산품   공산품   서비스  농산품  공산품  서비스  농산품   공산품   서비스   \n",
              "1  한국  농산품   25   282   102     0     0     0    0    2    1    1     2     1   \n",
              "2  한국  공산품  110  5596  2593    50  1246   295    4  193  136   61  1301   602   \n",
              "3  한국  서비스   85  2633  5421    11   139    99    0   17   42    8   144   270   \n",
              "4  중국  농산품    0     4     1  4389  9691  1500    3    9    3   12    50    13   \n",
              "\n",
              "    한국.3  중국.3  미국.3 ROW.3     총계  \n",
              "0   최종수요  최종수요  최종수요  최종수요    총수요  \n",
              "1    152     1     1     2    572  \n",
              "2   2458   391   355  1294  16685  \n",
              "3  11611   128    82   287  20977  \n",
              "4      3  5509     5    67  21259  "
            ],
            "text/html": [
              "\n",
              "  <div id=\"df-12520c5e-37a5-4eed-b66b-fd1b4c6a8b11\" class=\"colab-df-container\">\n",
              "    <div>\n",
              "<style scoped>\n",
              "    .dataframe tbody tr th:only-of-type {\n",
              "        vertical-align: middle;\n",
              "    }\n",
              "\n",
              "    .dataframe tbody tr th {\n",
              "        vertical-align: top;\n",
              "    }\n",
              "\n",
              "    .dataframe thead th {\n",
              "        text-align: right;\n",
              "    }\n",
              "</style>\n",
              "<table border=\"1\" class=\"dataframe\">\n",
              "  <thead>\n",
              "    <tr style=\"text-align: right;\">\n",
              "      <th></th>\n",
              "      <th>단위</th>\n",
              "      <th>억달러</th>\n",
              "      <th>한국</th>\n",
              "      <th>한국.1</th>\n",
              "      <th>한국.2</th>\n",
              "      <th>중국</th>\n",
              "      <th>중국.1</th>\n",
              "      <th>중국.2</th>\n",
              "      <th>미국</th>\n",
              "      <th>미국.1</th>\n",
              "      <th>미국.2</th>\n",
              "      <th>ROW</th>\n",
              "      <th>ROW.1</th>\n",
              "      <th>ROW.2</th>\n",
              "      <th>한국.3</th>\n",
              "      <th>중국.3</th>\n",
              "      <th>미국.3</th>\n",
              "      <th>ROW.3</th>\n",
              "      <th>총계</th>\n",
              "    </tr>\n",
              "  </thead>\n",
              "  <tbody>\n",
              "    <tr>\n",
              "      <th>0</th>\n",
              "      <td>국가</td>\n",
              "      <td>산업</td>\n",
              "      <td>농산품</td>\n",
              "      <td>공산품</td>\n",
              "      <td>서비스</td>\n",
              "      <td>농산품</td>\n",
              "      <td>공산품</td>\n",
              "      <td>서비스</td>\n",
              "      <td>농산품</td>\n",
              "      <td>공산품</td>\n",
              "      <td>서비스</td>\n",
              "      <td>농산품</td>\n",
              "      <td>공산품</td>\n",
              "      <td>서비스</td>\n",
              "      <td>최종수요</td>\n",
              "      <td>최종수요</td>\n",
              "      <td>최종수요</td>\n",
              "      <td>최종수요</td>\n",
              "      <td>총수요</td>\n",
              "    </tr>\n",
              "    <tr>\n",
              "      <th>1</th>\n",
              "      <td>한국</td>\n",
              "      <td>농산품</td>\n",
              "      <td>25</td>\n",
              "      <td>282</td>\n",
              "      <td>102</td>\n",
              "      <td>0</td>\n",
              "      <td>0</td>\n",
              "      <td>0</td>\n",
              "      <td>0</td>\n",
              "      <td>2</td>\n",
              "      <td>1</td>\n",
              "      <td>1</td>\n",
              "      <td>2</td>\n",
              "      <td>1</td>\n",
              "      <td>152</td>\n",
              "      <td>1</td>\n",
              "      <td>1</td>\n",
              "      <td>2</td>\n",
              "      <td>572</td>\n",
              "    </tr>\n",
              "    <tr>\n",
              "      <th>2</th>\n",
              "      <td>한국</td>\n",
              "      <td>공산품</td>\n",
              "      <td>110</td>\n",
              "      <td>5596</td>\n",
              "      <td>2593</td>\n",
              "      <td>50</td>\n",
              "      <td>1246</td>\n",
              "      <td>295</td>\n",
              "      <td>4</td>\n",
              "      <td>193</td>\n",
              "      <td>136</td>\n",
              "      <td>61</td>\n",
              "      <td>1301</td>\n",
              "      <td>602</td>\n",
              "      <td>2458</td>\n",
              "      <td>391</td>\n",
              "      <td>355</td>\n",
              "      <td>1294</td>\n",
              "      <td>16685</td>\n",
              "    </tr>\n",
              "    <tr>\n",
              "      <th>3</th>\n",
              "      <td>한국</td>\n",
              "      <td>서비스</td>\n",
              "      <td>85</td>\n",
              "      <td>2633</td>\n",
              "      <td>5421</td>\n",
              "      <td>11</td>\n",
              "      <td>139</td>\n",
              "      <td>99</td>\n",
              "      <td>0</td>\n",
              "      <td>17</td>\n",
              "      <td>42</td>\n",
              "      <td>8</td>\n",
              "      <td>144</td>\n",
              "      <td>270</td>\n",
              "      <td>11611</td>\n",
              "      <td>128</td>\n",
              "      <td>82</td>\n",
              "      <td>287</td>\n",
              "      <td>20977</td>\n",
              "    </tr>\n",
              "    <tr>\n",
              "      <th>4</th>\n",
              "      <td>중국</td>\n",
              "      <td>농산품</td>\n",
              "      <td>0</td>\n",
              "      <td>4</td>\n",
              "      <td>1</td>\n",
              "      <td>4389</td>\n",
              "      <td>9691</td>\n",
              "      <td>1500</td>\n",
              "      <td>3</td>\n",
              "      <td>9</td>\n",
              "      <td>3</td>\n",
              "      <td>12</td>\n",
              "      <td>50</td>\n",
              "      <td>13</td>\n",
              "      <td>3</td>\n",
              "      <td>5509</td>\n",
              "      <td>5</td>\n",
              "      <td>67</td>\n",
              "      <td>21259</td>\n",
              "    </tr>\n",
              "  </tbody>\n",
              "</table>\n",
              "</div>\n",
              "    <div class=\"colab-df-buttons\">\n",
              "\n",
              "  <div class=\"colab-df-container\">\n",
              "    <button class=\"colab-df-convert\" onclick=\"convertToInteractive('df-12520c5e-37a5-4eed-b66b-fd1b4c6a8b11')\"\n",
              "            title=\"Convert this dataframe to an interactive table.\"\n",
              "            style=\"display:none;\">\n",
              "\n",
              "  <svg xmlns=\"http://www.w3.org/2000/svg\" height=\"24px\" viewBox=\"0 -960 960 960\">\n",
              "    <path d=\"M120-120v-720h720v720H120Zm60-500h600v-160H180v160Zm220 220h160v-160H400v160Zm0 220h160v-160H400v160ZM180-400h160v-160H180v160Zm440 0h160v-160H620v160ZM180-180h160v-160H180v160Zm440 0h160v-160H620v160Z\"/>\n",
              "  </svg>\n",
              "    </button>\n",
              "\n",
              "  <style>\n",
              "    .colab-df-container {\n",
              "      display:flex;\n",
              "      gap: 12px;\n",
              "    }\n",
              "\n",
              "    .colab-df-convert {\n",
              "      background-color: #E8F0FE;\n",
              "      border: none;\n",
              "      border-radius: 50%;\n",
              "      cursor: pointer;\n",
              "      display: none;\n",
              "      fill: #1967D2;\n",
              "      height: 32px;\n",
              "      padding: 0 0 0 0;\n",
              "      width: 32px;\n",
              "    }\n",
              "\n",
              "    .colab-df-convert:hover {\n",
              "      background-color: #E2EBFA;\n",
              "      box-shadow: 0px 1px 2px rgba(60, 64, 67, 0.3), 0px 1px 3px 1px rgba(60, 64, 67, 0.15);\n",
              "      fill: #174EA6;\n",
              "    }\n",
              "\n",
              "    .colab-df-buttons div {\n",
              "      margin-bottom: 4px;\n",
              "    }\n",
              "\n",
              "    [theme=dark] .colab-df-convert {\n",
              "      background-color: #3B4455;\n",
              "      fill: #D2E3FC;\n",
              "    }\n",
              "\n",
              "    [theme=dark] .colab-df-convert:hover {\n",
              "      background-color: #434B5C;\n",
              "      box-shadow: 0px 1px 3px 1px rgba(0, 0, 0, 0.15);\n",
              "      filter: drop-shadow(0px 1px 2px rgba(0, 0, 0, 0.3));\n",
              "      fill: #FFFFFF;\n",
              "    }\n",
              "  </style>\n",
              "\n",
              "    <script>\n",
              "      const buttonEl =\n",
              "        document.querySelector('#df-12520c5e-37a5-4eed-b66b-fd1b4c6a8b11 button.colab-df-convert');\n",
              "      buttonEl.style.display =\n",
              "        google.colab.kernel.accessAllowed ? 'block' : 'none';\n",
              "\n",
              "      async function convertToInteractive(key) {\n",
              "        const element = document.querySelector('#df-12520c5e-37a5-4eed-b66b-fd1b4c6a8b11');\n",
              "        const dataTable =\n",
              "          await google.colab.kernel.invokeFunction('convertToInteractive',\n",
              "                                                    [key], {});\n",
              "        if (!dataTable) return;\n",
              "\n",
              "        const docLinkHtml = 'Like what you see? Visit the ' +\n",
              "          '<a target=\"_blank\" href=https://colab.research.google.com/notebooks/data_table.ipynb>data table notebook</a>'\n",
              "          + ' to learn more about interactive tables.';\n",
              "        element.innerHTML = '';\n",
              "        dataTable['output_type'] = 'display_data';\n",
              "        await google.colab.output.renderOutput(dataTable, element);\n",
              "        const docLink = document.createElement('div');\n",
              "        docLink.innerHTML = docLinkHtml;\n",
              "        element.appendChild(docLink);\n",
              "      }\n",
              "    </script>\n",
              "  </div>\n",
              "\n",
              "\n",
              "<div id=\"df-8ec14024-22c6-4c17-aaae-6528ec7535fa\">\n",
              "  <button class=\"colab-df-quickchart\" onclick=\"quickchart('df-8ec14024-22c6-4c17-aaae-6528ec7535fa')\"\n",
              "            title=\"Suggest charts.\"\n",
              "            style=\"display:none;\">\n",
              "\n",
              "<svg xmlns=\"http://www.w3.org/2000/svg\" height=\"24px\"viewBox=\"0 0 24 24\"\n",
              "     width=\"24px\">\n",
              "    <g>\n",
              "        <path d=\"M19 3H5c-1.1 0-2 .9-2 2v14c0 1.1.9 2 2 2h14c1.1 0 2-.9 2-2V5c0-1.1-.9-2-2-2zM9 17H7v-7h2v7zm4 0h-2V7h2v10zm4 0h-2v-4h2v4z\"/>\n",
              "    </g>\n",
              "</svg>\n",
              "  </button>\n",
              "\n",
              "<style>\n",
              "  .colab-df-quickchart {\n",
              "      --bg-color: #E8F0FE;\n",
              "      --fill-color: #1967D2;\n",
              "      --hover-bg-color: #E2EBFA;\n",
              "      --hover-fill-color: #174EA6;\n",
              "      --disabled-fill-color: #AAA;\n",
              "      --disabled-bg-color: #DDD;\n",
              "  }\n",
              "\n",
              "  [theme=dark] .colab-df-quickchart {\n",
              "      --bg-color: #3B4455;\n",
              "      --fill-color: #D2E3FC;\n",
              "      --hover-bg-color: #434B5C;\n",
              "      --hover-fill-color: #FFFFFF;\n",
              "      --disabled-bg-color: #3B4455;\n",
              "      --disabled-fill-color: #666;\n",
              "  }\n",
              "\n",
              "  .colab-df-quickchart {\n",
              "    background-color: var(--bg-color);\n",
              "    border: none;\n",
              "    border-radius: 50%;\n",
              "    cursor: pointer;\n",
              "    display: none;\n",
              "    fill: var(--fill-color);\n",
              "    height: 32px;\n",
              "    padding: 0;\n",
              "    width: 32px;\n",
              "  }\n",
              "\n",
              "  .colab-df-quickchart:hover {\n",
              "    background-color: var(--hover-bg-color);\n",
              "    box-shadow: 0 1px 2px rgba(60, 64, 67, 0.3), 0 1px 3px 1px rgba(60, 64, 67, 0.15);\n",
              "    fill: var(--button-hover-fill-color);\n",
              "  }\n",
              "\n",
              "  .colab-df-quickchart-complete:disabled,\n",
              "  .colab-df-quickchart-complete:disabled:hover {\n",
              "    background-color: var(--disabled-bg-color);\n",
              "    fill: var(--disabled-fill-color);\n",
              "    box-shadow: none;\n",
              "  }\n",
              "\n",
              "  .colab-df-spinner {\n",
              "    border: 2px solid var(--fill-color);\n",
              "    border-color: transparent;\n",
              "    border-bottom-color: var(--fill-color);\n",
              "    animation:\n",
              "      spin 1s steps(1) infinite;\n",
              "  }\n",
              "\n",
              "  @keyframes spin {\n",
              "    0% {\n",
              "      border-color: transparent;\n",
              "      border-bottom-color: var(--fill-color);\n",
              "      border-left-color: var(--fill-color);\n",
              "    }\n",
              "    20% {\n",
              "      border-color: transparent;\n",
              "      border-left-color: var(--fill-color);\n",
              "      border-top-color: var(--fill-color);\n",
              "    }\n",
              "    30% {\n",
              "      border-color: transparent;\n",
              "      border-left-color: var(--fill-color);\n",
              "      border-top-color: var(--fill-color);\n",
              "      border-right-color: var(--fill-color);\n",
              "    }\n",
              "    40% {\n",
              "      border-color: transparent;\n",
              "      border-right-color: var(--fill-color);\n",
              "      border-top-color: var(--fill-color);\n",
              "    }\n",
              "    60% {\n",
              "      border-color: transparent;\n",
              "      border-right-color: var(--fill-color);\n",
              "    }\n",
              "    80% {\n",
              "      border-color: transparent;\n",
              "      border-right-color: var(--fill-color);\n",
              "      border-bottom-color: var(--fill-color);\n",
              "    }\n",
              "    90% {\n",
              "      border-color: transparent;\n",
              "      border-bottom-color: var(--fill-color);\n",
              "    }\n",
              "  }\n",
              "</style>\n",
              "\n",
              "  <script>\n",
              "    async function quickchart(key) {\n",
              "      const quickchartButtonEl =\n",
              "        document.querySelector('#' + key + ' button');\n",
              "      quickchartButtonEl.disabled = true;  // To prevent multiple clicks.\n",
              "      quickchartButtonEl.classList.add('colab-df-spinner');\n",
              "      try {\n",
              "        const charts = await google.colab.kernel.invokeFunction(\n",
              "            'suggestCharts', [key], {});\n",
              "      } catch (error) {\n",
              "        console.error('Error during call to suggestCharts:', error);\n",
              "      }\n",
              "      quickchartButtonEl.classList.remove('colab-df-spinner');\n",
              "      quickchartButtonEl.classList.add('colab-df-quickchart-complete');\n",
              "    }\n",
              "    (() => {\n",
              "      let quickchartButtonEl =\n",
              "        document.querySelector('#df-8ec14024-22c6-4c17-aaae-6528ec7535fa button');\n",
              "      quickchartButtonEl.style.display =\n",
              "        google.colab.kernel.accessAllowed ? 'block' : 'none';\n",
              "    })();\n",
              "  </script>\n",
              "</div>\n",
              "    </div>\n",
              "  </div>\n"
            ]
          },
          "metadata": {},
          "execution_count": 48
        }
      ]
    },
    {
      "cell_type": "code",
      "source": [
        "icio_1 = icio.to_numpy()\n",
        "icio_2=icio_1[1:,2:].astype(float)\n",
        "icio_2"
      ],
      "metadata": {
        "id": "DhBtrP5M9vRR",
        "colab": {
          "base_uri": "https://localhost:8080/"
        },
        "outputId": "aa01e85b-3035-4f91-c410-a771689e5681"
      },
      "execution_count": 49,
      "outputs": [
        {
          "output_type": "execute_result",
          "data": {
            "text/plain": [
              "array([[     25.,     282.,     102.,       0.,       0.,       0.,\n",
              "              0.,       2.,       1.,       1.,       2.,       1.,\n",
              "            152.,       1.,       1.,       2.,     572.],\n",
              "       [    110.,    5596.,    2593.,      50.,    1246.,     295.,\n",
              "              4.,     193.,     136.,      61.,    1301.,     602.,\n",
              "           2458.,     391.,     355.,    1294.,   16685.],\n",
              "       [     85.,    2633.,    5421.,      11.,     139.,      99.,\n",
              "              0.,      17.,      42.,       8.,     144.,     270.,\n",
              "          11611.,     128.,      82.,     287.,   20977.],\n",
              "       [      0.,       4.,       1.,    4389.,    9691.,    1500.,\n",
              "              3.,       9.,       3.,      12.,      50.,      13.,\n",
              "              3.,    5509.,       5.,      67.,   21259.],\n",
              "       [      7.,     532.,     183.,    4571.,   80946.,   34018.,\n",
              "             18.,     881.,     948.,     181.,    4780.,    2978.,\n",
              "            233.,   32206.,    2370.,    6996.,  171848.],\n",
              "       [      1.,      60.,      84.,    2400.,   26110.,   34909.,\n",
              "              2.,      86.,     183.,      27.,     553.,    1042.,\n",
              "            122.,   89619.,     398.,    1455.,  157051.],\n",
              "       [      1.,      13.,       4.,      20.,      47.,       8.,\n",
              "            830.,    2088.,     200.,      43.,     164.,      29.,\n",
              "              7.,      27.,    1022.,     163.,    4666.],\n",
              "       [      4.,     217.,      93.,      30.,     574.,     168.,\n",
              "            677.,   16658.,   14548.,     148.,    3356.,    1740.,\n",
              "            115.,     327.,   25747.,    3968.,   68370.],\n",
              "       [      3.,      95.,     118.,      27.,     242.,     234.,\n",
              "           1003.,   14951.,   91821.,     107.,    1748.,    3755.,\n",
              "            169.,     610.,  166837.,    4208.,  285928.],\n",
              "       [      2.,      25.,      10.,     139.,     312.,      42.,\n",
              "             71.,     233.,      77.,    5052.,   12511.,    3110.,\n",
              "             16.,     175.,     136.,   16374.,   38285.],\n",
              "       [     18.,    1965.,     637.,     269.,    8032.,    1982.,\n",
              "             91.,    5096.,    2851.,    4449.,   91300.,   53282.,\n",
              "            545.,    2151.,    7265.,   94695.,  274628.],\n",
              "       [      7.,     312.,     392.,     136.,    1471.,    1181.,\n",
              "             41.,     976.,    2436.,    5001.,   57042.,  174441.,\n",
              "            373.,    2800.,    4089.,  342047.,  592745.],\n",
              "       [      8.,     336.,     475.,       0.,       0.,       0.,\n",
              "              0.,       0.,       0.,       0.,       0.,       0.,\n",
              "            651.,       3.,       1.,       3.,    1477.],\n",
              "       [      0.,       0.,       0.,    -182.,    4288.,    2865.,\n",
              "              0.,       0.,       0.,       0.,       0.,       0.,\n",
              "             -1.,    4052.,      -1.,      -4.,   11017.],\n",
              "       [      0.,       0.,       0.,       0.,       0.,       0.,\n",
              "             27.,     939.,    2194.,       0.,       0.,       0.,\n",
              "              5.,      19.,    4229.,      68.,    7481.],\n",
              "       [      0.,       0.,       0.,       0.,       0.,       0.,\n",
              "              0.,       0.,       0.,     547.,    7332.,   11773.,\n",
              "              4.,      57.,      56.,   21711.,   41480.],\n",
              "       [    301.,    4615.,   10864.,    9399.,   38750.,   79750.,\n",
              "           1899.,   26241.,  170488.,   22648.,   94345.,  339709.,\n",
              "              0.,       0.,       0.,       0.,  799009.],\n",
              "       [    572.,   16685.,   20977.,   21259.,  171848.,  157051.,\n",
              "           4666.,   68370.,  285928.,   38285.,  274628.,  592745.,\n",
              "              0.,       0.,       0.,       0., 1653014.]])"
            ]
          },
          "metadata": {},
          "execution_count": 49
        }
      ]
    },
    {
      "cell_type": "markdown",
      "source": [
        "### 한국 1, 중국2, 미국3, ROW4"
      ],
      "metadata": {
        "id": "AvyOqU89gls6"
      }
    },
    {
      "cell_type": "markdown",
      "source": [
        "#### 산업구조\n",
        "##### 국가별 산업 비중"
      ],
      "metadata": {
        "id": "It9gMhP-aUh5"
      }
    },
    {
      "cell_type": "markdown",
      "source": [
        "###### 가. 산업구조"
      ],
      "metadata": {
        "id": "sVgmofI4ajUz"
      }
    },
    {
      "cell_type": "code",
      "source": [
        "Mt = icio_2\n",
        "va = Mt[-2,:12].reshape([1,12]) # 산업별 부가가치\n",
        "ct = Mt[-1,:12].reshape([1,12])  # 산업별 산출액\n",
        "va"
      ],
      "metadata": {
        "id": "cgXWGQTCadT-",
        "outputId": "680a7cd8-fdf3-4791-b650-bb8274e9c283",
        "colab": {
          "base_uri": "https://localhost:8080/"
        }
      },
      "execution_count": 50,
      "outputs": [
        {
          "output_type": "execute_result",
          "data": {
            "text/plain": [
              "array([[   301.,   4615.,  10864.,   9399.,  38750.,  79750.,   1899.,\n",
              "         26241., 170488.,  22648.,  94345., 339709.]])"
            ]
          },
          "metadata": {},
          "execution_count": 50
        }
      ]
    },
    {
      "cell_type": "code",
      "source": [
        "# 산출액기준\n",
        "\n",
        "KOR_ct = (ct[:,:3]/(ct[-1,:3].sum())*100)  # 한국 산업별 비중\n",
        "CHN_ct = (ct[:,3:6]/(ct[-1,3:6].sum())*100) # 중국 산업별 비중\n",
        "USA_ct = (ct[:,6:9]/(ct[-1,6:9].sum())*100)  # 미국 산업별 비중\n",
        "ROW_ct = (ct[:,9:12]/(ct[-1,9:12].sum())*100) # ROW 산업별 비중\n",
        "\n",
        "WORLD_ct_sm = ct[:,:12].sum()\n",
        "WORLD_agr_ct = ct[:,0]+ct[:,3]+ct[:,6]+ct[:,9]\n",
        "WORLD_manu_ct = ct[:,1]+ct[:,4]+ct[:,7]+ct[:,10]\n",
        "WORLD_ser_ct = ct[:,2]+ct[:,5]+ct[:,8]+ct[:,11]\n",
        "\n",
        "WORLD_ct = np.hstack((WORLD_agr_ct,WORLD_manu_ct,WORLD_ser_ct))/WORLD_ct_sm*100\n",
        "WORLD_ct\n",
        "IND_CT_CONS = np.vstack((KOR_ct,CHN_ct,USA_ct,ROW_ct,WORLD_ct))\n",
        "IND_CT_CONS"
      ],
      "metadata": {
        "id": "wlxrIPE6adYa",
        "outputId": "8f6a535d-58dc-445e-fa64-0534348c5592",
        "colab": {
          "base_uri": "https://localhost:8080/"
        }
      },
      "execution_count": 52,
      "outputs": [
        {
          "output_type": "execute_result",
          "data": {
            "text/plain": [
              "array([[ 1.496, 43.639, 54.865],\n",
              "       [ 6.071, 49.077, 44.851],\n",
              "       [ 1.3  , 19.046, 79.654],\n",
              "       [ 4.227, 30.324, 65.449],\n",
              "       [ 3.919, 32.155, 63.926]])"
            ]
          },
          "metadata": {},
          "execution_count": 52
        }
      ]
    },
    {
      "cell_type": "code",
      "source": [
        "# 부가가치기준\n",
        "\n",
        "KOR_va = (va[:,:3]/(va[-1,:3].sum())*100)  # 한국 산업별 비중\n",
        "CHN_va = (va[:,3:6]/(va[-1,3:6].sum())*100) # 중국 산업별 비중\n",
        "USA_va = (va[:,6:9]/(va[-1,6:9].sum())*100)  # 미국 산업별 비중\n",
        "ROW_va = (va[:,9:12]/(va[-1,9:12].sum())*100) # ROW 산업별 비중\n",
        "\n",
        "WORLD_va_sm = va[:,:12].sum()\n",
        "WORLD_agr_va = va[:,0]+va[:,3]+va[:,6]+va[:,9]\n",
        "WORLD_manu_va = va[:,1]+va[:,4]+va[:,7]+va[:,10]\n",
        "WORLD_ser_va = va[:,2]+va[:,5]+va[:,8]+va[:,11]\n",
        "\n",
        "WORLD_va = np.hstack((WORLD_agr_va,WORLD_manu_va,WORLD_ser_va))/WORLD_va_sm*100\n",
        "\n",
        "IND_VA_CONS = np.vstack((KOR_va,CHN_va,USA_va,ROW_va,WORLD_va))\n",
        "IND_VA_CONS"
      ],
      "metadata": {
        "id": "vukTda3ydSJq",
        "outputId": "1d2b5579-dd12-4c3e-eb1a-c1ff1c0a12ae",
        "colab": {
          "base_uri": "https://localhost:8080/"
        }
      },
      "execution_count": 53,
      "outputs": [
        {
          "output_type": "execute_result",
          "data": {
            "text/plain": [
              "array([[ 1.907, 29.246, 68.847],\n",
              "       [ 7.349, 30.297, 62.354],\n",
              "       [ 0.956, 13.211, 85.833],\n",
              "       [ 4.959, 20.658, 74.383],\n",
              "       [ 4.286, 20.519, 75.195]])"
            ]
          },
          "metadata": {},
          "execution_count": 53
        }
      ]
    },
    {
      "cell_type": "code",
      "source": [
        "WGT_by_CONS = np.hstack((IND_CT_CONS,IND_VA_CONS))\n",
        "WGT_by_CONS"
      ],
      "metadata": {
        "id": "Zl6ZaPonadbS",
        "outputId": "e0ec02cf-150b-48b0-d3c3-825324a71a00",
        "colab": {
          "base_uri": "https://localhost:8080/"
        }
      },
      "execution_count": 54,
      "outputs": [
        {
          "output_type": "execute_result",
          "data": {
            "text/plain": [
              "array([[ 1.496, 43.639, 54.865,  1.907, 29.246, 68.847],\n",
              "       [ 6.071, 49.077, 44.851,  7.349, 30.297, 62.354],\n",
              "       [ 1.3  , 19.046, 79.654,  0.956, 13.211, 85.833],\n",
              "       [ 4.227, 30.324, 65.449,  4.959, 20.658, 74.383],\n",
              "       [ 3.919, 32.155, 63.926,  4.286, 20.519, 75.195]])"
            ]
          },
          "metadata": {},
          "execution_count": 54
        }
      ]
    },
    {
      "cell_type": "code",
      "source": [
        "CONS_wgt_df = pd.DataFrame(WGT_by_CONS.round(1), columns = [['산출액기준','산출액기준','산출액기준','부가가치기준','부가가치기준','부가가치기준'],\n",
        "                                                         ['농업', '제조업', '서비스업','농업', '제조업', '서비스업']],\n",
        "                     index=['한국', '중국', '미국', 'ROW', '전세계']) # 변수명 붙여서 pandas로 내보내기\n",
        "CONS_wgt_df"
      ],
      "metadata": {
        "id": "Z8l2GiigkgBc",
        "outputId": "52958dbd-970b-4a6e-dac7-56a676e60da9",
        "colab": {
          "base_uri": "https://localhost:8080/",
          "height": 237
        }
      },
      "execution_count": 55,
      "outputs": [
        {
          "output_type": "execute_result",
          "data": {
            "text/plain": [
              "    산출액기준             부가가치기준            \n",
              "       농업   제조업  서비스업     농업   제조업  서비스업\n",
              "한국    1.5  43.6  54.9    1.9  29.2  68.8\n",
              "중국    6.1  49.1  44.9    7.3  30.3  62.4\n",
              "미국    1.3  19.0  79.7    1.0  13.2  85.8\n",
              "ROW   4.2  30.3  65.4    5.0  20.7  74.4\n",
              "전세계   3.9  32.2  63.9    4.3  20.5  75.2"
            ],
            "text/html": [
              "\n",
              "  <div id=\"df-0737b34b-3612-4aad-b109-1ace06530edc\" class=\"colab-df-container\">\n",
              "    <div>\n",
              "<style scoped>\n",
              "    .dataframe tbody tr th:only-of-type {\n",
              "        vertical-align: middle;\n",
              "    }\n",
              "\n",
              "    .dataframe tbody tr th {\n",
              "        vertical-align: top;\n",
              "    }\n",
              "\n",
              "    .dataframe thead tr th {\n",
              "        text-align: left;\n",
              "    }\n",
              "</style>\n",
              "<table border=\"1\" class=\"dataframe\">\n",
              "  <thead>\n",
              "    <tr>\n",
              "      <th></th>\n",
              "      <th colspan=\"3\" halign=\"left\">산출액기준</th>\n",
              "      <th colspan=\"3\" halign=\"left\">부가가치기준</th>\n",
              "    </tr>\n",
              "    <tr>\n",
              "      <th></th>\n",
              "      <th>농업</th>\n",
              "      <th>제조업</th>\n",
              "      <th>서비스업</th>\n",
              "      <th>농업</th>\n",
              "      <th>제조업</th>\n",
              "      <th>서비스업</th>\n",
              "    </tr>\n",
              "  </thead>\n",
              "  <tbody>\n",
              "    <tr>\n",
              "      <th>한국</th>\n",
              "      <td>1.5</td>\n",
              "      <td>43.6</td>\n",
              "      <td>54.9</td>\n",
              "      <td>1.9</td>\n",
              "      <td>29.2</td>\n",
              "      <td>68.8</td>\n",
              "    </tr>\n",
              "    <tr>\n",
              "      <th>중국</th>\n",
              "      <td>6.1</td>\n",
              "      <td>49.1</td>\n",
              "      <td>44.9</td>\n",
              "      <td>7.3</td>\n",
              "      <td>30.3</td>\n",
              "      <td>62.4</td>\n",
              "    </tr>\n",
              "    <tr>\n",
              "      <th>미국</th>\n",
              "      <td>1.3</td>\n",
              "      <td>19.0</td>\n",
              "      <td>79.7</td>\n",
              "      <td>1.0</td>\n",
              "      <td>13.2</td>\n",
              "      <td>85.8</td>\n",
              "    </tr>\n",
              "    <tr>\n",
              "      <th>ROW</th>\n",
              "      <td>4.2</td>\n",
              "      <td>30.3</td>\n",
              "      <td>65.4</td>\n",
              "      <td>5.0</td>\n",
              "      <td>20.7</td>\n",
              "      <td>74.4</td>\n",
              "    </tr>\n",
              "    <tr>\n",
              "      <th>전세계</th>\n",
              "      <td>3.9</td>\n",
              "      <td>32.2</td>\n",
              "      <td>63.9</td>\n",
              "      <td>4.3</td>\n",
              "      <td>20.5</td>\n",
              "      <td>75.2</td>\n",
              "    </tr>\n",
              "  </tbody>\n",
              "</table>\n",
              "</div>\n",
              "    <div class=\"colab-df-buttons\">\n",
              "\n",
              "  <div class=\"colab-df-container\">\n",
              "    <button class=\"colab-df-convert\" onclick=\"convertToInteractive('df-0737b34b-3612-4aad-b109-1ace06530edc')\"\n",
              "            title=\"Convert this dataframe to an interactive table.\"\n",
              "            style=\"display:none;\">\n",
              "\n",
              "  <svg xmlns=\"http://www.w3.org/2000/svg\" height=\"24px\" viewBox=\"0 -960 960 960\">\n",
              "    <path d=\"M120-120v-720h720v720H120Zm60-500h600v-160H180v160Zm220 220h160v-160H400v160Zm0 220h160v-160H400v160ZM180-400h160v-160H180v160Zm440 0h160v-160H620v160ZM180-180h160v-160H180v160Zm440 0h160v-160H620v160Z\"/>\n",
              "  </svg>\n",
              "    </button>\n",
              "\n",
              "  <style>\n",
              "    .colab-df-container {\n",
              "      display:flex;\n",
              "      gap: 12px;\n",
              "    }\n",
              "\n",
              "    .colab-df-convert {\n",
              "      background-color: #E8F0FE;\n",
              "      border: none;\n",
              "      border-radius: 50%;\n",
              "      cursor: pointer;\n",
              "      display: none;\n",
              "      fill: #1967D2;\n",
              "      height: 32px;\n",
              "      padding: 0 0 0 0;\n",
              "      width: 32px;\n",
              "    }\n",
              "\n",
              "    .colab-df-convert:hover {\n",
              "      background-color: #E2EBFA;\n",
              "      box-shadow: 0px 1px 2px rgba(60, 64, 67, 0.3), 0px 1px 3px 1px rgba(60, 64, 67, 0.15);\n",
              "      fill: #174EA6;\n",
              "    }\n",
              "\n",
              "    .colab-df-buttons div {\n",
              "      margin-bottom: 4px;\n",
              "    }\n",
              "\n",
              "    [theme=dark] .colab-df-convert {\n",
              "      background-color: #3B4455;\n",
              "      fill: #D2E3FC;\n",
              "    }\n",
              "\n",
              "    [theme=dark] .colab-df-convert:hover {\n",
              "      background-color: #434B5C;\n",
              "      box-shadow: 0px 1px 3px 1px rgba(0, 0, 0, 0.15);\n",
              "      filter: drop-shadow(0px 1px 2px rgba(0, 0, 0, 0.3));\n",
              "      fill: #FFFFFF;\n",
              "    }\n",
              "  </style>\n",
              "\n",
              "    <script>\n",
              "      const buttonEl =\n",
              "        document.querySelector('#df-0737b34b-3612-4aad-b109-1ace06530edc button.colab-df-convert');\n",
              "      buttonEl.style.display =\n",
              "        google.colab.kernel.accessAllowed ? 'block' : 'none';\n",
              "\n",
              "      async function convertToInteractive(key) {\n",
              "        const element = document.querySelector('#df-0737b34b-3612-4aad-b109-1ace06530edc');\n",
              "        const dataTable =\n",
              "          await google.colab.kernel.invokeFunction('convertToInteractive',\n",
              "                                                    [key], {});\n",
              "        if (!dataTable) return;\n",
              "\n",
              "        const docLinkHtml = 'Like what you see? Visit the ' +\n",
              "          '<a target=\"_blank\" href=https://colab.research.google.com/notebooks/data_table.ipynb>data table notebook</a>'\n",
              "          + ' to learn more about interactive tables.';\n",
              "        element.innerHTML = '';\n",
              "        dataTable['output_type'] = 'display_data';\n",
              "        await google.colab.output.renderOutput(dataTable, element);\n",
              "        const docLink = document.createElement('div');\n",
              "        docLink.innerHTML = docLinkHtml;\n",
              "        element.appendChild(docLink);\n",
              "      }\n",
              "    </script>\n",
              "  </div>\n",
              "\n",
              "\n",
              "<div id=\"df-39c40059-8a1b-4e2b-89ad-bf7d83e4994c\">\n",
              "  <button class=\"colab-df-quickchart\" onclick=\"quickchart('df-39c40059-8a1b-4e2b-89ad-bf7d83e4994c')\"\n",
              "            title=\"Suggest charts.\"\n",
              "            style=\"display:none;\">\n",
              "\n",
              "<svg xmlns=\"http://www.w3.org/2000/svg\" height=\"24px\"viewBox=\"0 0 24 24\"\n",
              "     width=\"24px\">\n",
              "    <g>\n",
              "        <path d=\"M19 3H5c-1.1 0-2 .9-2 2v14c0 1.1.9 2 2 2h14c1.1 0 2-.9 2-2V5c0-1.1-.9-2-2-2zM9 17H7v-7h2v7zm4 0h-2V7h2v10zm4 0h-2v-4h2v4z\"/>\n",
              "    </g>\n",
              "</svg>\n",
              "  </button>\n",
              "\n",
              "<style>\n",
              "  .colab-df-quickchart {\n",
              "      --bg-color: #E8F0FE;\n",
              "      --fill-color: #1967D2;\n",
              "      --hover-bg-color: #E2EBFA;\n",
              "      --hover-fill-color: #174EA6;\n",
              "      --disabled-fill-color: #AAA;\n",
              "      --disabled-bg-color: #DDD;\n",
              "  }\n",
              "\n",
              "  [theme=dark] .colab-df-quickchart {\n",
              "      --bg-color: #3B4455;\n",
              "      --fill-color: #D2E3FC;\n",
              "      --hover-bg-color: #434B5C;\n",
              "      --hover-fill-color: #FFFFFF;\n",
              "      --disabled-bg-color: #3B4455;\n",
              "      --disabled-fill-color: #666;\n",
              "  }\n",
              "\n",
              "  .colab-df-quickchart {\n",
              "    background-color: var(--bg-color);\n",
              "    border: none;\n",
              "    border-radius: 50%;\n",
              "    cursor: pointer;\n",
              "    display: none;\n",
              "    fill: var(--fill-color);\n",
              "    height: 32px;\n",
              "    padding: 0;\n",
              "    width: 32px;\n",
              "  }\n",
              "\n",
              "  .colab-df-quickchart:hover {\n",
              "    background-color: var(--hover-bg-color);\n",
              "    box-shadow: 0 1px 2px rgba(60, 64, 67, 0.3), 0 1px 3px 1px rgba(60, 64, 67, 0.15);\n",
              "    fill: var(--button-hover-fill-color);\n",
              "  }\n",
              "\n",
              "  .colab-df-quickchart-complete:disabled,\n",
              "  .colab-df-quickchart-complete:disabled:hover {\n",
              "    background-color: var(--disabled-bg-color);\n",
              "    fill: var(--disabled-fill-color);\n",
              "    box-shadow: none;\n",
              "  }\n",
              "\n",
              "  .colab-df-spinner {\n",
              "    border: 2px solid var(--fill-color);\n",
              "    border-color: transparent;\n",
              "    border-bottom-color: var(--fill-color);\n",
              "    animation:\n",
              "      spin 1s steps(1) infinite;\n",
              "  }\n",
              "\n",
              "  @keyframes spin {\n",
              "    0% {\n",
              "      border-color: transparent;\n",
              "      border-bottom-color: var(--fill-color);\n",
              "      border-left-color: var(--fill-color);\n",
              "    }\n",
              "    20% {\n",
              "      border-color: transparent;\n",
              "      border-left-color: var(--fill-color);\n",
              "      border-top-color: var(--fill-color);\n",
              "    }\n",
              "    30% {\n",
              "      border-color: transparent;\n",
              "      border-left-color: var(--fill-color);\n",
              "      border-top-color: var(--fill-color);\n",
              "      border-right-color: var(--fill-color);\n",
              "    }\n",
              "    40% {\n",
              "      border-color: transparent;\n",
              "      border-right-color: var(--fill-color);\n",
              "      border-top-color: var(--fill-color);\n",
              "    }\n",
              "    60% {\n",
              "      border-color: transparent;\n",
              "      border-right-color: var(--fill-color);\n",
              "    }\n",
              "    80% {\n",
              "      border-color: transparent;\n",
              "      border-right-color: var(--fill-color);\n",
              "      border-bottom-color: var(--fill-color);\n",
              "    }\n",
              "    90% {\n",
              "      border-color: transparent;\n",
              "      border-bottom-color: var(--fill-color);\n",
              "    }\n",
              "  }\n",
              "</style>\n",
              "\n",
              "  <script>\n",
              "    async function quickchart(key) {\n",
              "      const quickchartButtonEl =\n",
              "        document.querySelector('#' + key + ' button');\n",
              "      quickchartButtonEl.disabled = true;  // To prevent multiple clicks.\n",
              "      quickchartButtonEl.classList.add('colab-df-spinner');\n",
              "      try {\n",
              "        const charts = await google.colab.kernel.invokeFunction(\n",
              "            'suggestCharts', [key], {});\n",
              "      } catch (error) {\n",
              "        console.error('Error during call to suggestCharts:', error);\n",
              "      }\n",
              "      quickchartButtonEl.classList.remove('colab-df-spinner');\n",
              "      quickchartButtonEl.classList.add('colab-df-quickchart-complete');\n",
              "    }\n",
              "    (() => {\n",
              "      let quickchartButtonEl =\n",
              "        document.querySelector('#df-39c40059-8a1b-4e2b-89ad-bf7d83e4994c button');\n",
              "      quickchartButtonEl.style.display =\n",
              "        google.colab.kernel.accessAllowed ? 'block' : 'none';\n",
              "    })();\n",
              "  </script>\n",
              "</div>\n",
              "    </div>\n",
              "  </div>\n"
            ]
          },
          "metadata": {},
          "execution_count": 55
        }
      ]
    },
    {
      "cell_type": "code",
      "source": [
        "CONS_wgt_df.to_csv('국가별 산업 비중.csv', encoding='utf_8-sig')"
      ],
      "metadata": {
        "id": "PiY8Ei5dldr8"
      },
      "execution_count": 56,
      "outputs": []
    },
    {
      "cell_type": "markdown",
      "source": [
        "#### 산업별국가비중\n",
        "###### 산출액기준"
      ],
      "metadata": {
        "id": "H6yza3xnmKpL"
      }
    },
    {
      "cell_type": "code",
      "source": [
        "agr_ct_cons = np.hstack((ct[:,0],ct[:,3],ct[:,6],ct[:,9]))\n",
        "manu_ct_cons = np.hstack((ct[:,1],ct[:,4],ct[:,7],ct[:,10]))\n",
        "ser_ct_cons = np.hstack((ct[:,2],ct[:,5],ct[:,8],ct[:,11]))\n",
        "\n",
        "all_ct_cons = np.hstack((ct[-1,:3].sum(),ct[-1,3:6].sum(),ct[-1,6:9].sum(),ct[-1,9:12].sum()))\n",
        "all_ct_cons"
      ],
      "metadata": {
        "id": "xxcSS1pSmPt6",
        "outputId": "721f93e9-685b-460a-e536-a3713ab876b7",
        "colab": {
          "base_uri": "https://localhost:8080/"
        }
      },
      "execution_count": 57,
      "outputs": [
        {
          "output_type": "execute_result",
          "data": {
            "text/plain": [
              "array([ 38234., 350158., 358964., 905658.])"
            ]
          },
          "metadata": {},
          "execution_count": 57
        }
      ]
    },
    {
      "cell_type": "code",
      "source": [
        "agr_ct_cons_wgt = (agr_ct_cons/agr_ct_cons.sum())*100\n",
        "manu_ct_cons_wgt = (manu_ct_cons/manu_ct_cons.sum())*100\n",
        "ser_ct_cons_wgt = (ser_ct_cons/ser_ct_cons.sum())*100\n",
        "all_ct_cons_wgt = (all_ct_cons/all_ct_cons.sum())*100\n",
        "\n",
        "cons_ct_ind = np.vstack((agr_ct_cons_wgt,manu_ct_cons_wgt,ser_ct_cons_wgt,all_ct_cons_wgt,))\n",
        "cons_ct_ind"
      ],
      "metadata": {
        "id": "IOXYO6iYmPrT",
        "outputId": "4ea00564-b7bb-4df9-a5dc-175a6978e959",
        "colab": {
          "base_uri": "https://localhost:8080/"
        }
      },
      "execution_count": 58,
      "outputs": [
        {
          "output_type": "execute_result",
          "data": {
            "text/plain": [
              "array([[ 0.883, 32.816,  7.203, 59.098],\n",
              "       [ 3.139, 32.331, 12.863, 51.667],\n",
              "       [ 1.985, 14.862, 27.059, 56.094],\n",
              "       [ 2.313, 21.183, 21.716, 54.788]])"
            ]
          },
          "metadata": {},
          "execution_count": 58
        }
      ]
    },
    {
      "cell_type": "markdown",
      "source": [
        "###### 부가가치기준"
      ],
      "metadata": {
        "id": "bhb7IueeqHc9"
      }
    },
    {
      "cell_type": "code",
      "source": [
        "agr_va_cons = np.hstack((va[:,0],va[:,3],va[:,6],va[:,9]))\n",
        "manu_va_cons = np.hstack((va[:,1],va[:,4],va[:,7],va[:,10]))\n",
        "ser_va_cons = np.hstack((va[:,2],va[:,5],va[:,8],va[:,11]))\n",
        "\n",
        "all_va_cons = np.hstack((va[-1,:3].sum(),va[-1,3:6].sum(),va[-1,6:9].sum(),va[-1,9:12].sum()))\n",
        "all_va_cons"
      ],
      "metadata": {
        "id": "ydDscKAXmPpG",
        "outputId": "059f6aae-85a3-4fb4-c708-213177dbed8f",
        "colab": {
          "base_uri": "https://localhost:8080/"
        }
      },
      "execution_count": 59,
      "outputs": [
        {
          "output_type": "execute_result",
          "data": {
            "text/plain": [
              "array([ 15780., 127899., 198628., 456702.])"
            ]
          },
          "metadata": {},
          "execution_count": 59
        }
      ]
    },
    {
      "cell_type": "code",
      "source": [
        "agr_va_cons_wgt = (agr_va_cons/agr_va_cons.sum())*100\n",
        "manu_va_cons_wgt = (manu_va_cons/manu_va_cons.sum())*100\n",
        "ser_va_cons_wgt = (ser_va_cons/ser_va_cons.sum())*100\n",
        "all_va_cons_wgt = (all_va_cons/all_va_cons.sum())*100\n",
        "\n",
        "cons_va_ind = np.vstack((agr_va_cons_wgt,manu_va_cons_wgt,ser_va_cons_wgt,all_va_cons_wgt,))\n",
        "cons_va_ind"
      ],
      "metadata": {
        "id": "XrONOnOTmPm4",
        "outputId": "7bacf270-a828-4e6e-c124-ba8eb04678ad",
        "colab": {
          "base_uri": "https://localhost:8080/"
        }
      },
      "execution_count": 60,
      "outputs": [
        {
          "output_type": "execute_result",
          "data": {
            "text/plain": [
              "array([[ 0.879, 27.445,  5.545, 66.131],\n",
              "       [ 2.815, 23.635, 16.005, 57.545],\n",
              "       [ 1.808, 13.274, 28.376, 56.542],\n",
              "       [ 1.975, 16.007, 24.859, 57.159]])"
            ]
          },
          "metadata": {},
          "execution_count": 60
        }
      ]
    },
    {
      "cell_type": "code",
      "source": [
        "WGT_by_INDS = np.hstack((cons_ct_ind,cons_va_ind))\n",
        "WGT_by_INDS"
      ],
      "metadata": {
        "id": "h6jkMSswmPkq",
        "colab": {
          "base_uri": "https://localhost:8080/"
        },
        "outputId": "8e944465-db03-404d-b25a-153e448df126"
      },
      "execution_count": 61,
      "outputs": [
        {
          "output_type": "execute_result",
          "data": {
            "text/plain": [
              "array([[ 0.883, 32.816,  7.203, 59.098,  0.879, 27.445,  5.545, 66.131],\n",
              "       [ 3.139, 32.331, 12.863, 51.667,  2.815, 23.635, 16.005, 57.545],\n",
              "       [ 1.985, 14.862, 27.059, 56.094,  1.808, 13.274, 28.376, 56.542],\n",
              "       [ 2.313, 21.183, 21.716, 54.788,  1.975, 16.007, 24.859, 57.159]])"
            ]
          },
          "metadata": {},
          "execution_count": 61
        }
      ]
    },
    {
      "cell_type": "code",
      "source": [
        "INDS_wgt_df = pd.DataFrame(WGT_by_INDS.round(1), columns = [['산출액기준','산출액기준','산출액기준','산출액기준','부가가치기준','부가가치기준','부가가치기준','부가가치기준'],\n",
        "                                                         ['한국', '중국', '미국','ROW', '한국', '중국', '미국','ROW']],\n",
        "                     index=['농업', '제조업', '서비스업', '전부문']) # 변수명 붙여서 pandas로 내보내기\n",
        "INDS_wgt_df"
      ],
      "metadata": {
        "id": "-wPNh_ihmPht",
        "colab": {
          "base_uri": "https://localhost:8080/",
          "height": 206
        },
        "outputId": "430f9347-5cd7-4c65-8c5a-9da2c9cd793d"
      },
      "execution_count": 62,
      "outputs": [
        {
          "output_type": "execute_result",
          "data": {
            "text/plain": [
              "     산출액기준                   부가가치기준                  \n",
              "        한국    중국    미국   ROW     한국    중국    미국   ROW\n",
              "농업     0.9  32.8   7.2  59.1    0.9  27.4   5.5  66.1\n",
              "제조업    3.1  32.3  12.9  51.7    2.8  23.6  16.0  57.5\n",
              "서비스업   2.0  14.9  27.1  56.1    1.8  13.3  28.4  56.5\n",
              "전부문    2.3  21.2  21.7  54.8    2.0  16.0  24.9  57.2"
            ],
            "text/html": [
              "\n",
              "  <div id=\"df-1e1e2959-4b2f-4af5-a928-7680a1037deb\" class=\"colab-df-container\">\n",
              "    <div>\n",
              "<style scoped>\n",
              "    .dataframe tbody tr th:only-of-type {\n",
              "        vertical-align: middle;\n",
              "    }\n",
              "\n",
              "    .dataframe tbody tr th {\n",
              "        vertical-align: top;\n",
              "    }\n",
              "\n",
              "    .dataframe thead tr th {\n",
              "        text-align: left;\n",
              "    }\n",
              "</style>\n",
              "<table border=\"1\" class=\"dataframe\">\n",
              "  <thead>\n",
              "    <tr>\n",
              "      <th></th>\n",
              "      <th colspan=\"4\" halign=\"left\">산출액기준</th>\n",
              "      <th colspan=\"4\" halign=\"left\">부가가치기준</th>\n",
              "    </tr>\n",
              "    <tr>\n",
              "      <th></th>\n",
              "      <th>한국</th>\n",
              "      <th>중국</th>\n",
              "      <th>미국</th>\n",
              "      <th>ROW</th>\n",
              "      <th>한국</th>\n",
              "      <th>중국</th>\n",
              "      <th>미국</th>\n",
              "      <th>ROW</th>\n",
              "    </tr>\n",
              "  </thead>\n",
              "  <tbody>\n",
              "    <tr>\n",
              "      <th>농업</th>\n",
              "      <td>0.9</td>\n",
              "      <td>32.8</td>\n",
              "      <td>7.2</td>\n",
              "      <td>59.1</td>\n",
              "      <td>0.9</td>\n",
              "      <td>27.4</td>\n",
              "      <td>5.5</td>\n",
              "      <td>66.1</td>\n",
              "    </tr>\n",
              "    <tr>\n",
              "      <th>제조업</th>\n",
              "      <td>3.1</td>\n",
              "      <td>32.3</td>\n",
              "      <td>12.9</td>\n",
              "      <td>51.7</td>\n",
              "      <td>2.8</td>\n",
              "      <td>23.6</td>\n",
              "      <td>16.0</td>\n",
              "      <td>57.5</td>\n",
              "    </tr>\n",
              "    <tr>\n",
              "      <th>서비스업</th>\n",
              "      <td>2.0</td>\n",
              "      <td>14.9</td>\n",
              "      <td>27.1</td>\n",
              "      <td>56.1</td>\n",
              "      <td>1.8</td>\n",
              "      <td>13.3</td>\n",
              "      <td>28.4</td>\n",
              "      <td>56.5</td>\n",
              "    </tr>\n",
              "    <tr>\n",
              "      <th>전부문</th>\n",
              "      <td>2.3</td>\n",
              "      <td>21.2</td>\n",
              "      <td>21.7</td>\n",
              "      <td>54.8</td>\n",
              "      <td>2.0</td>\n",
              "      <td>16.0</td>\n",
              "      <td>24.9</td>\n",
              "      <td>57.2</td>\n",
              "    </tr>\n",
              "  </tbody>\n",
              "</table>\n",
              "</div>\n",
              "    <div class=\"colab-df-buttons\">\n",
              "\n",
              "  <div class=\"colab-df-container\">\n",
              "    <button class=\"colab-df-convert\" onclick=\"convertToInteractive('df-1e1e2959-4b2f-4af5-a928-7680a1037deb')\"\n",
              "            title=\"Convert this dataframe to an interactive table.\"\n",
              "            style=\"display:none;\">\n",
              "\n",
              "  <svg xmlns=\"http://www.w3.org/2000/svg\" height=\"24px\" viewBox=\"0 -960 960 960\">\n",
              "    <path d=\"M120-120v-720h720v720H120Zm60-500h600v-160H180v160Zm220 220h160v-160H400v160Zm0 220h160v-160H400v160ZM180-400h160v-160H180v160Zm440 0h160v-160H620v160ZM180-180h160v-160H180v160Zm440 0h160v-160H620v160Z\"/>\n",
              "  </svg>\n",
              "    </button>\n",
              "\n",
              "  <style>\n",
              "    .colab-df-container {\n",
              "      display:flex;\n",
              "      gap: 12px;\n",
              "    }\n",
              "\n",
              "    .colab-df-convert {\n",
              "      background-color: #E8F0FE;\n",
              "      border: none;\n",
              "      border-radius: 50%;\n",
              "      cursor: pointer;\n",
              "      display: none;\n",
              "      fill: #1967D2;\n",
              "      height: 32px;\n",
              "      padding: 0 0 0 0;\n",
              "      width: 32px;\n",
              "    }\n",
              "\n",
              "    .colab-df-convert:hover {\n",
              "      background-color: #E2EBFA;\n",
              "      box-shadow: 0px 1px 2px rgba(60, 64, 67, 0.3), 0px 1px 3px 1px rgba(60, 64, 67, 0.15);\n",
              "      fill: #174EA6;\n",
              "    }\n",
              "\n",
              "    .colab-df-buttons div {\n",
              "      margin-bottom: 4px;\n",
              "    }\n",
              "\n",
              "    [theme=dark] .colab-df-convert {\n",
              "      background-color: #3B4455;\n",
              "      fill: #D2E3FC;\n",
              "    }\n",
              "\n",
              "    [theme=dark] .colab-df-convert:hover {\n",
              "      background-color: #434B5C;\n",
              "      box-shadow: 0px 1px 3px 1px rgba(0, 0, 0, 0.15);\n",
              "      filter: drop-shadow(0px 1px 2px rgba(0, 0, 0, 0.3));\n",
              "      fill: #FFFFFF;\n",
              "    }\n",
              "  </style>\n",
              "\n",
              "    <script>\n",
              "      const buttonEl =\n",
              "        document.querySelector('#df-1e1e2959-4b2f-4af5-a928-7680a1037deb button.colab-df-convert');\n",
              "      buttonEl.style.display =\n",
              "        google.colab.kernel.accessAllowed ? 'block' : 'none';\n",
              "\n",
              "      async function convertToInteractive(key) {\n",
              "        const element = document.querySelector('#df-1e1e2959-4b2f-4af5-a928-7680a1037deb');\n",
              "        const dataTable =\n",
              "          await google.colab.kernel.invokeFunction('convertToInteractive',\n",
              "                                                    [key], {});\n",
              "        if (!dataTable) return;\n",
              "\n",
              "        const docLinkHtml = 'Like what you see? Visit the ' +\n",
              "          '<a target=\"_blank\" href=https://colab.research.google.com/notebooks/data_table.ipynb>data table notebook</a>'\n",
              "          + ' to learn more about interactive tables.';\n",
              "        element.innerHTML = '';\n",
              "        dataTable['output_type'] = 'display_data';\n",
              "        await google.colab.output.renderOutput(dataTable, element);\n",
              "        const docLink = document.createElement('div');\n",
              "        docLink.innerHTML = docLinkHtml;\n",
              "        element.appendChild(docLink);\n",
              "      }\n",
              "    </script>\n",
              "  </div>\n",
              "\n",
              "\n",
              "<div id=\"df-a9a6d385-3b19-40c7-81a7-d1ce1bd27006\">\n",
              "  <button class=\"colab-df-quickchart\" onclick=\"quickchart('df-a9a6d385-3b19-40c7-81a7-d1ce1bd27006')\"\n",
              "            title=\"Suggest charts.\"\n",
              "            style=\"display:none;\">\n",
              "\n",
              "<svg xmlns=\"http://www.w3.org/2000/svg\" height=\"24px\"viewBox=\"0 0 24 24\"\n",
              "     width=\"24px\">\n",
              "    <g>\n",
              "        <path d=\"M19 3H5c-1.1 0-2 .9-2 2v14c0 1.1.9 2 2 2h14c1.1 0 2-.9 2-2V5c0-1.1-.9-2-2-2zM9 17H7v-7h2v7zm4 0h-2V7h2v10zm4 0h-2v-4h2v4z\"/>\n",
              "    </g>\n",
              "</svg>\n",
              "  </button>\n",
              "\n",
              "<style>\n",
              "  .colab-df-quickchart {\n",
              "      --bg-color: #E8F0FE;\n",
              "      --fill-color: #1967D2;\n",
              "      --hover-bg-color: #E2EBFA;\n",
              "      --hover-fill-color: #174EA6;\n",
              "      --disabled-fill-color: #AAA;\n",
              "      --disabled-bg-color: #DDD;\n",
              "  }\n",
              "\n",
              "  [theme=dark] .colab-df-quickchart {\n",
              "      --bg-color: #3B4455;\n",
              "      --fill-color: #D2E3FC;\n",
              "      --hover-bg-color: #434B5C;\n",
              "      --hover-fill-color: #FFFFFF;\n",
              "      --disabled-bg-color: #3B4455;\n",
              "      --disabled-fill-color: #666;\n",
              "  }\n",
              "\n",
              "  .colab-df-quickchart {\n",
              "    background-color: var(--bg-color);\n",
              "    border: none;\n",
              "    border-radius: 50%;\n",
              "    cursor: pointer;\n",
              "    display: none;\n",
              "    fill: var(--fill-color);\n",
              "    height: 32px;\n",
              "    padding: 0;\n",
              "    width: 32px;\n",
              "  }\n",
              "\n",
              "  .colab-df-quickchart:hover {\n",
              "    background-color: var(--hover-bg-color);\n",
              "    box-shadow: 0 1px 2px rgba(60, 64, 67, 0.3), 0 1px 3px 1px rgba(60, 64, 67, 0.15);\n",
              "    fill: var(--button-hover-fill-color);\n",
              "  }\n",
              "\n",
              "  .colab-df-quickchart-complete:disabled,\n",
              "  .colab-df-quickchart-complete:disabled:hover {\n",
              "    background-color: var(--disabled-bg-color);\n",
              "    fill: var(--disabled-fill-color);\n",
              "    box-shadow: none;\n",
              "  }\n",
              "\n",
              "  .colab-df-spinner {\n",
              "    border: 2px solid var(--fill-color);\n",
              "    border-color: transparent;\n",
              "    border-bottom-color: var(--fill-color);\n",
              "    animation:\n",
              "      spin 1s steps(1) infinite;\n",
              "  }\n",
              "\n",
              "  @keyframes spin {\n",
              "    0% {\n",
              "      border-color: transparent;\n",
              "      border-bottom-color: var(--fill-color);\n",
              "      border-left-color: var(--fill-color);\n",
              "    }\n",
              "    20% {\n",
              "      border-color: transparent;\n",
              "      border-left-color: var(--fill-color);\n",
              "      border-top-color: var(--fill-color);\n",
              "    }\n",
              "    30% {\n",
              "      border-color: transparent;\n",
              "      border-left-color: var(--fill-color);\n",
              "      border-top-color: var(--fill-color);\n",
              "      border-right-color: var(--fill-color);\n",
              "    }\n",
              "    40% {\n",
              "      border-color: transparent;\n",
              "      border-right-color: var(--fill-color);\n",
              "      border-top-color: var(--fill-color);\n",
              "    }\n",
              "    60% {\n",
              "      border-color: transparent;\n",
              "      border-right-color: var(--fill-color);\n",
              "    }\n",
              "    80% {\n",
              "      border-color: transparent;\n",
              "      border-right-color: var(--fill-color);\n",
              "      border-bottom-color: var(--fill-color);\n",
              "    }\n",
              "    90% {\n",
              "      border-color: transparent;\n",
              "      border-bottom-color: var(--fill-color);\n",
              "    }\n",
              "  }\n",
              "</style>\n",
              "\n",
              "  <script>\n",
              "    async function quickchart(key) {\n",
              "      const quickchartButtonEl =\n",
              "        document.querySelector('#' + key + ' button');\n",
              "      quickchartButtonEl.disabled = true;  // To prevent multiple clicks.\n",
              "      quickchartButtonEl.classList.add('colab-df-spinner');\n",
              "      try {\n",
              "        const charts = await google.colab.kernel.invokeFunction(\n",
              "            'suggestCharts', [key], {});\n",
              "      } catch (error) {\n",
              "        console.error('Error during call to suggestCharts:', error);\n",
              "      }\n",
              "      quickchartButtonEl.classList.remove('colab-df-spinner');\n",
              "      quickchartButtonEl.classList.add('colab-df-quickchart-complete');\n",
              "    }\n",
              "    (() => {\n",
              "      let quickchartButtonEl =\n",
              "        document.querySelector('#df-a9a6d385-3b19-40c7-81a7-d1ce1bd27006 button');\n",
              "      quickchartButtonEl.style.display =\n",
              "        google.colab.kernel.accessAllowed ? 'block' : 'none';\n",
              "    })();\n",
              "  </script>\n",
              "</div>\n",
              "    </div>\n",
              "  </div>\n"
            ]
          },
          "metadata": {},
          "execution_count": 62
        }
      ]
    },
    {
      "cell_type": "code",
      "source": [
        "INDS_wgt_df.to_csv('산업별 국가 비중.csv', encoding='utf_8-sig')"
      ],
      "metadata": {
        "id": "PB3_JBIWMPo1"
      },
      "execution_count": 87,
      "outputs": []
    },
    {
      "cell_type": "markdown",
      "source": [
        "## 국가별 투입배분구조 및 수출입은 각 산업별로 구할 필요가 없으므로 각 국의 3개 산업을 통합하여 표를 재구성"
      ],
      "metadata": {
        "id": "75Voc2UZu81d"
      }
    },
    {
      "cell_type": "code",
      "source": [
        "cd_for_nae = np.array([[1,1,1,0,0,0,0,0,0,0,0,0],  # 행렬 곱을 이용한 부문 통합\n",
        "       [0,0,0,1,1,1,0,0,0,0,0,0],\n",
        "       [0,0,0,0,0,0,1,1,1,0,0,0],\n",
        "       [0,0,0,0,0,0,0,0,0,1,1,1]])"
      ],
      "metadata": {
        "id": "-j8VsyfJvMEE"
      },
      "execution_count": 63,
      "outputs": []
    },
    {
      "cell_type": "code",
      "source": [
        "A_nae_rw = cd_for_nae@Mt[:12,:12]\n",
        "A_nae_rw"
      ],
      "metadata": {
        "colab": {
          "base_uri": "https://localhost:8080/"
        },
        "id": "yUCj2x8CvMG7",
        "outputId": "573bbbef-1d66-4eda-fa00-d1b5897a13d2"
      },
      "execution_count": 98,
      "outputs": [
        {
          "output_type": "execute_result",
          "data": {
            "text/plain": [
              "array([[   220.,   8511.,   8116.,     61.,   1385.,    394.,      4.,\n",
              "           212.,    179.,     70.,   1447.,    873.],\n",
              "       [     8.,    596.,    268.,  11360., 116747.,  70427.,     23.,\n",
              "           976.,   1134.,    220.,   5383.,   4033.],\n",
              "       [     8.,    325.,    215.,     77.,    863.,    410.,   2510.,\n",
              "         33697., 106569.,    298.,   5268.,   5524.],\n",
              "       [    27.,   2302.,   1039.,    544.,   9815.,   3205.,    203.,\n",
              "          6305.,   5364.,  14502., 160853., 230833.]])"
            ]
          },
          "metadata": {},
          "execution_count": 98
        }
      ]
    },
    {
      "cell_type": "code",
      "source": [
        "A_nae_col = A_nae_rw@cd_for_nae.T\n",
        "A_nae_col"
      ],
      "metadata": {
        "colab": {
          "base_uri": "https://localhost:8080/"
        },
        "id": "JOlCK0DOwbn7",
        "outputId": "798f453f-6589-4c87-ac3b-c57c4521cdf0"
      },
      "execution_count": 99,
      "outputs": [
        {
          "output_type": "execute_result",
          "data": {
            "text/plain": [
              "array([[ 16847.,   1840.,    395.,   2390.],\n",
              "       [   872., 198534.,   2133.,   9636.],\n",
              "       [   548.,   1350., 142776.,  11090.],\n",
              "       [  3368.,  13564.,  11872., 406188.]])"
            ]
          },
          "metadata": {},
          "execution_count": 99
        }
      ]
    },
    {
      "cell_type": "code",
      "source": [
        "va_rw = Mt[12:18,0:12]@cd_for_nae.T # 순생산물세와 부가가치 통합\n",
        "va_rw"
      ],
      "metadata": {
        "colab": {
          "base_uri": "https://localhost:8080/"
        },
        "id": "yGVlE9SxwbrZ",
        "outputId": "8e629682-70bc-4480-88a2-7f38238780e6"
      },
      "execution_count": 100,
      "outputs": [
        {
          "output_type": "execute_result",
          "data": {
            "text/plain": [
              "array([[   819.,      0.,      0.,      0.],\n",
              "       [     0.,   6971.,      0.,      0.],\n",
              "       [     0.,      0.,   3160.,      0.],\n",
              "       [     0.,      0.,      0.,  19652.],\n",
              "       [ 15780., 127899., 198628., 456702.],\n",
              "       [ 38234., 350158., 358964., 905658.]])"
            ]
          },
          "metadata": {},
          "execution_count": 100
        }
      ]
    },
    {
      "cell_type": "code",
      "source": [
        "fd_rw = cd_for_nae@Mt[:12,12:16]\n",
        "fd_rw"
      ],
      "metadata": {
        "colab": {
          "base_uri": "https://localhost:8080/"
        },
        "id": "CRZ2IEo4wbuB",
        "outputId": "98c71e09-c8d6-41b2-b2eb-c30e32f6c36c"
      },
      "execution_count": 101,
      "outputs": [
        {
          "output_type": "execute_result",
          "data": {
            "text/plain": [
              "array([[ 14221.,    520.,    438.,   1583.],\n",
              "       [   358., 127334.,   2773.,   8518.],\n",
              "       [   291.,    964., 193606.,   8339.],\n",
              "       [   934.,   5126.,  11490., 453116.]])"
            ]
          },
          "metadata": {},
          "execution_count": 101
        }
      ]
    },
    {
      "cell_type": "code",
      "source": [
        "fd_txva=Mt[12:,12:16]\n",
        "fd_txva"
      ],
      "metadata": {
        "colab": {
          "base_uri": "https://localhost:8080/"
        },
        "id": "RX0JvUZd0XpR",
        "outputId": "a953a517-7b6d-48b8-ef55-4a9a93932536"
      },
      "execution_count": 102,
      "outputs": [
        {
          "output_type": "execute_result",
          "data": {
            "text/plain": [
              "array([[  651.,     3.,     1.,     3.],\n",
              "       [   -1.,  4052.,    -1.,    -4.],\n",
              "       [    5.,    19.,  4229.,    68.],\n",
              "       [    4.,    57.,    56., 21711.],\n",
              "       [    0.,     0.,     0.,     0.],\n",
              "       [    0.,     0.,     0.,     0.]])"
            ]
          },
          "metadata": {},
          "execution_count": 102
        }
      ]
    },
    {
      "cell_type": "code",
      "source": [
        "nae_vact = np.vstack((A_nae_col,va_rw))\n",
        "fd_all = np.vstack((fd_rw,fd_txva))"
      ],
      "metadata": {
        "id": "wpyYHQgW0XsI"
      },
      "execution_count": 103,
      "outputs": []
    },
    {
      "cell_type": "code",
      "source": [
        "Mt_1sec = np.hstack((nae_vact,fd_all)) # 1산업 ICIO\n",
        "Mt_1sec.shape"
      ],
      "metadata": {
        "colab": {
          "base_uri": "https://localhost:8080/"
        },
        "id": "NlM8zyH10Xt-",
        "outputId": "c23f3469-1431-480e-85b8-a39bd1dc3bdd"
      },
      "execution_count": 104,
      "outputs": [
        {
          "output_type": "execute_result",
          "data": {
            "text/plain": [
              "(10, 8)"
            ]
          },
          "metadata": {},
          "execution_count": 104
        }
      ]
    },
    {
      "cell_type": "code",
      "source": [
        "icio_1sec_df = pd.DataFrame(Mt_1sec, columns = ['한국', '중국', '미국','ROW', '한국_fd', '중국_fd', '미국_fd','ROW_fd'],\n",
        "                     index=['한국', '중국', '미국','ROW','한국_tax', '중국_tax', '미국_tax','ROW_tax','부가가치','총투입액']) # 변수명 붙여서 pandas로 내보내기\n",
        "\n",
        "icio_1sec_df"
      ],
      "metadata": {
        "colab": {
          "base_uri": "https://localhost:8080/",
          "height": 363
        },
        "id": "l-Wd-8Hy0XwV",
        "outputId": "9fd8b0bf-25be-484e-a4da-64a78012e5a6"
      },
      "execution_count": 105,
      "outputs": [
        {
          "output_type": "execute_result",
          "data": {
            "text/plain": [
              "              한국        중국        미국       ROW    한국_fd     중국_fd     미국_fd  \\\n",
              "한국       16847.0    1840.0     395.0    2390.0  14221.0     520.0     438.0   \n",
              "중국         872.0  198534.0    2133.0    9636.0    358.0  127334.0    2773.0   \n",
              "미국         548.0    1350.0  142776.0   11090.0    291.0     964.0  193606.0   \n",
              "ROW       3368.0   13564.0   11872.0  406188.0    934.0    5126.0   11490.0   \n",
              "한국_tax     819.0       0.0       0.0       0.0    651.0       3.0       1.0   \n",
              "중국_tax       0.0    6971.0       0.0       0.0     -1.0    4052.0      -1.0   \n",
              "미국_tax       0.0       0.0    3160.0       0.0      5.0      19.0    4229.0   \n",
              "ROW_tax      0.0       0.0       0.0   19652.0      4.0      57.0      56.0   \n",
              "부가가치     15780.0  127899.0  198628.0  456702.0      0.0       0.0       0.0   \n",
              "총투입액     38234.0  350158.0  358964.0  905658.0      0.0       0.0       0.0   \n",
              "\n",
              "           ROW_fd  \n",
              "한국         1583.0  \n",
              "중국         8518.0  \n",
              "미국         8339.0  \n",
              "ROW      453116.0  \n",
              "한국_tax        3.0  \n",
              "중국_tax       -4.0  \n",
              "미국_tax       68.0  \n",
              "ROW_tax   21711.0  \n",
              "부가가치          0.0  \n",
              "총투입액          0.0  "
            ],
            "text/html": [
              "\n",
              "  <div id=\"df-93500b88-3875-4516-830a-70db3bf40f4d\" class=\"colab-df-container\">\n",
              "    <div>\n",
              "<style scoped>\n",
              "    .dataframe tbody tr th:only-of-type {\n",
              "        vertical-align: middle;\n",
              "    }\n",
              "\n",
              "    .dataframe tbody tr th {\n",
              "        vertical-align: top;\n",
              "    }\n",
              "\n",
              "    .dataframe thead th {\n",
              "        text-align: right;\n",
              "    }\n",
              "</style>\n",
              "<table border=\"1\" class=\"dataframe\">\n",
              "  <thead>\n",
              "    <tr style=\"text-align: right;\">\n",
              "      <th></th>\n",
              "      <th>한국</th>\n",
              "      <th>중국</th>\n",
              "      <th>미국</th>\n",
              "      <th>ROW</th>\n",
              "      <th>한국_fd</th>\n",
              "      <th>중국_fd</th>\n",
              "      <th>미국_fd</th>\n",
              "      <th>ROW_fd</th>\n",
              "    </tr>\n",
              "  </thead>\n",
              "  <tbody>\n",
              "    <tr>\n",
              "      <th>한국</th>\n",
              "      <td>16847.0</td>\n",
              "      <td>1840.0</td>\n",
              "      <td>395.0</td>\n",
              "      <td>2390.0</td>\n",
              "      <td>14221.0</td>\n",
              "      <td>520.0</td>\n",
              "      <td>438.0</td>\n",
              "      <td>1583.0</td>\n",
              "    </tr>\n",
              "    <tr>\n",
              "      <th>중국</th>\n",
              "      <td>872.0</td>\n",
              "      <td>198534.0</td>\n",
              "      <td>2133.0</td>\n",
              "      <td>9636.0</td>\n",
              "      <td>358.0</td>\n",
              "      <td>127334.0</td>\n",
              "      <td>2773.0</td>\n",
              "      <td>8518.0</td>\n",
              "    </tr>\n",
              "    <tr>\n",
              "      <th>미국</th>\n",
              "      <td>548.0</td>\n",
              "      <td>1350.0</td>\n",
              "      <td>142776.0</td>\n",
              "      <td>11090.0</td>\n",
              "      <td>291.0</td>\n",
              "      <td>964.0</td>\n",
              "      <td>193606.0</td>\n",
              "      <td>8339.0</td>\n",
              "    </tr>\n",
              "    <tr>\n",
              "      <th>ROW</th>\n",
              "      <td>3368.0</td>\n",
              "      <td>13564.0</td>\n",
              "      <td>11872.0</td>\n",
              "      <td>406188.0</td>\n",
              "      <td>934.0</td>\n",
              "      <td>5126.0</td>\n",
              "      <td>11490.0</td>\n",
              "      <td>453116.0</td>\n",
              "    </tr>\n",
              "    <tr>\n",
              "      <th>한국_tax</th>\n",
              "      <td>819.0</td>\n",
              "      <td>0.0</td>\n",
              "      <td>0.0</td>\n",
              "      <td>0.0</td>\n",
              "      <td>651.0</td>\n",
              "      <td>3.0</td>\n",
              "      <td>1.0</td>\n",
              "      <td>3.0</td>\n",
              "    </tr>\n",
              "    <tr>\n",
              "      <th>중국_tax</th>\n",
              "      <td>0.0</td>\n",
              "      <td>6971.0</td>\n",
              "      <td>0.0</td>\n",
              "      <td>0.0</td>\n",
              "      <td>-1.0</td>\n",
              "      <td>4052.0</td>\n",
              "      <td>-1.0</td>\n",
              "      <td>-4.0</td>\n",
              "    </tr>\n",
              "    <tr>\n",
              "      <th>미국_tax</th>\n",
              "      <td>0.0</td>\n",
              "      <td>0.0</td>\n",
              "      <td>3160.0</td>\n",
              "      <td>0.0</td>\n",
              "      <td>5.0</td>\n",
              "      <td>19.0</td>\n",
              "      <td>4229.0</td>\n",
              "      <td>68.0</td>\n",
              "    </tr>\n",
              "    <tr>\n",
              "      <th>ROW_tax</th>\n",
              "      <td>0.0</td>\n",
              "      <td>0.0</td>\n",
              "      <td>0.0</td>\n",
              "      <td>19652.0</td>\n",
              "      <td>4.0</td>\n",
              "      <td>57.0</td>\n",
              "      <td>56.0</td>\n",
              "      <td>21711.0</td>\n",
              "    </tr>\n",
              "    <tr>\n",
              "      <th>부가가치</th>\n",
              "      <td>15780.0</td>\n",
              "      <td>127899.0</td>\n",
              "      <td>198628.0</td>\n",
              "      <td>456702.0</td>\n",
              "      <td>0.0</td>\n",
              "      <td>0.0</td>\n",
              "      <td>0.0</td>\n",
              "      <td>0.0</td>\n",
              "    </tr>\n",
              "    <tr>\n",
              "      <th>총투입액</th>\n",
              "      <td>38234.0</td>\n",
              "      <td>350158.0</td>\n",
              "      <td>358964.0</td>\n",
              "      <td>905658.0</td>\n",
              "      <td>0.0</td>\n",
              "      <td>0.0</td>\n",
              "      <td>0.0</td>\n",
              "      <td>0.0</td>\n",
              "    </tr>\n",
              "  </tbody>\n",
              "</table>\n",
              "</div>\n",
              "    <div class=\"colab-df-buttons\">\n",
              "\n",
              "  <div class=\"colab-df-container\">\n",
              "    <button class=\"colab-df-convert\" onclick=\"convertToInteractive('df-93500b88-3875-4516-830a-70db3bf40f4d')\"\n",
              "            title=\"Convert this dataframe to an interactive table.\"\n",
              "            style=\"display:none;\">\n",
              "\n",
              "  <svg xmlns=\"http://www.w3.org/2000/svg\" height=\"24px\" viewBox=\"0 -960 960 960\">\n",
              "    <path d=\"M120-120v-720h720v720H120Zm60-500h600v-160H180v160Zm220 220h160v-160H400v160Zm0 220h160v-160H400v160ZM180-400h160v-160H180v160Zm440 0h160v-160H620v160ZM180-180h160v-160H180v160Zm440 0h160v-160H620v160Z\"/>\n",
              "  </svg>\n",
              "    </button>\n",
              "\n",
              "  <style>\n",
              "    .colab-df-container {\n",
              "      display:flex;\n",
              "      gap: 12px;\n",
              "    }\n",
              "\n",
              "    .colab-df-convert {\n",
              "      background-color: #E8F0FE;\n",
              "      border: none;\n",
              "      border-radius: 50%;\n",
              "      cursor: pointer;\n",
              "      display: none;\n",
              "      fill: #1967D2;\n",
              "      height: 32px;\n",
              "      padding: 0 0 0 0;\n",
              "      width: 32px;\n",
              "    }\n",
              "\n",
              "    .colab-df-convert:hover {\n",
              "      background-color: #E2EBFA;\n",
              "      box-shadow: 0px 1px 2px rgba(60, 64, 67, 0.3), 0px 1px 3px 1px rgba(60, 64, 67, 0.15);\n",
              "      fill: #174EA6;\n",
              "    }\n",
              "\n",
              "    .colab-df-buttons div {\n",
              "      margin-bottom: 4px;\n",
              "    }\n",
              "\n",
              "    [theme=dark] .colab-df-convert {\n",
              "      background-color: #3B4455;\n",
              "      fill: #D2E3FC;\n",
              "    }\n",
              "\n",
              "    [theme=dark] .colab-df-convert:hover {\n",
              "      background-color: #434B5C;\n",
              "      box-shadow: 0px 1px 3px 1px rgba(0, 0, 0, 0.15);\n",
              "      filter: drop-shadow(0px 1px 2px rgba(0, 0, 0, 0.3));\n",
              "      fill: #FFFFFF;\n",
              "    }\n",
              "  </style>\n",
              "\n",
              "    <script>\n",
              "      const buttonEl =\n",
              "        document.querySelector('#df-93500b88-3875-4516-830a-70db3bf40f4d button.colab-df-convert');\n",
              "      buttonEl.style.display =\n",
              "        google.colab.kernel.accessAllowed ? 'block' : 'none';\n",
              "\n",
              "      async function convertToInteractive(key) {\n",
              "        const element = document.querySelector('#df-93500b88-3875-4516-830a-70db3bf40f4d');\n",
              "        const dataTable =\n",
              "          await google.colab.kernel.invokeFunction('convertToInteractive',\n",
              "                                                    [key], {});\n",
              "        if (!dataTable) return;\n",
              "\n",
              "        const docLinkHtml = 'Like what you see? Visit the ' +\n",
              "          '<a target=\"_blank\" href=https://colab.research.google.com/notebooks/data_table.ipynb>data table notebook</a>'\n",
              "          + ' to learn more about interactive tables.';\n",
              "        element.innerHTML = '';\n",
              "        dataTable['output_type'] = 'display_data';\n",
              "        await google.colab.output.renderOutput(dataTable, element);\n",
              "        const docLink = document.createElement('div');\n",
              "        docLink.innerHTML = docLinkHtml;\n",
              "        element.appendChild(docLink);\n",
              "      }\n",
              "    </script>\n",
              "  </div>\n",
              "\n",
              "\n",
              "<div id=\"df-da889fdc-372b-423d-83d5-5f51ff41909a\">\n",
              "  <button class=\"colab-df-quickchart\" onclick=\"quickchart('df-da889fdc-372b-423d-83d5-5f51ff41909a')\"\n",
              "            title=\"Suggest charts.\"\n",
              "            style=\"display:none;\">\n",
              "\n",
              "<svg xmlns=\"http://www.w3.org/2000/svg\" height=\"24px\"viewBox=\"0 0 24 24\"\n",
              "     width=\"24px\">\n",
              "    <g>\n",
              "        <path d=\"M19 3H5c-1.1 0-2 .9-2 2v14c0 1.1.9 2 2 2h14c1.1 0 2-.9 2-2V5c0-1.1-.9-2-2-2zM9 17H7v-7h2v7zm4 0h-2V7h2v10zm4 0h-2v-4h2v4z\"/>\n",
              "    </g>\n",
              "</svg>\n",
              "  </button>\n",
              "\n",
              "<style>\n",
              "  .colab-df-quickchart {\n",
              "      --bg-color: #E8F0FE;\n",
              "      --fill-color: #1967D2;\n",
              "      --hover-bg-color: #E2EBFA;\n",
              "      --hover-fill-color: #174EA6;\n",
              "      --disabled-fill-color: #AAA;\n",
              "      --disabled-bg-color: #DDD;\n",
              "  }\n",
              "\n",
              "  [theme=dark] .colab-df-quickchart {\n",
              "      --bg-color: #3B4455;\n",
              "      --fill-color: #D2E3FC;\n",
              "      --hover-bg-color: #434B5C;\n",
              "      --hover-fill-color: #FFFFFF;\n",
              "      --disabled-bg-color: #3B4455;\n",
              "      --disabled-fill-color: #666;\n",
              "  }\n",
              "\n",
              "  .colab-df-quickchart {\n",
              "    background-color: var(--bg-color);\n",
              "    border: none;\n",
              "    border-radius: 50%;\n",
              "    cursor: pointer;\n",
              "    display: none;\n",
              "    fill: var(--fill-color);\n",
              "    height: 32px;\n",
              "    padding: 0;\n",
              "    width: 32px;\n",
              "  }\n",
              "\n",
              "  .colab-df-quickchart:hover {\n",
              "    background-color: var(--hover-bg-color);\n",
              "    box-shadow: 0 1px 2px rgba(60, 64, 67, 0.3), 0 1px 3px 1px rgba(60, 64, 67, 0.15);\n",
              "    fill: var(--button-hover-fill-color);\n",
              "  }\n",
              "\n",
              "  .colab-df-quickchart-complete:disabled,\n",
              "  .colab-df-quickchart-complete:disabled:hover {\n",
              "    background-color: var(--disabled-bg-color);\n",
              "    fill: var(--disabled-fill-color);\n",
              "    box-shadow: none;\n",
              "  }\n",
              "\n",
              "  .colab-df-spinner {\n",
              "    border: 2px solid var(--fill-color);\n",
              "    border-color: transparent;\n",
              "    border-bottom-color: var(--fill-color);\n",
              "    animation:\n",
              "      spin 1s steps(1) infinite;\n",
              "  }\n",
              "\n",
              "  @keyframes spin {\n",
              "    0% {\n",
              "      border-color: transparent;\n",
              "      border-bottom-color: var(--fill-color);\n",
              "      border-left-color: var(--fill-color);\n",
              "    }\n",
              "    20% {\n",
              "      border-color: transparent;\n",
              "      border-left-color: var(--fill-color);\n",
              "      border-top-color: var(--fill-color);\n",
              "    }\n",
              "    30% {\n",
              "      border-color: transparent;\n",
              "      border-left-color: var(--fill-color);\n",
              "      border-top-color: var(--fill-color);\n",
              "      border-right-color: var(--fill-color);\n",
              "    }\n",
              "    40% {\n",
              "      border-color: transparent;\n",
              "      border-right-color: var(--fill-color);\n",
              "      border-top-color: var(--fill-color);\n",
              "    }\n",
              "    60% {\n",
              "      border-color: transparent;\n",
              "      border-right-color: var(--fill-color);\n",
              "    }\n",
              "    80% {\n",
              "      border-color: transparent;\n",
              "      border-right-color: var(--fill-color);\n",
              "      border-bottom-color: var(--fill-color);\n",
              "    }\n",
              "    90% {\n",
              "      border-color: transparent;\n",
              "      border-bottom-color: var(--fill-color);\n",
              "    }\n",
              "  }\n",
              "</style>\n",
              "\n",
              "  <script>\n",
              "    async function quickchart(key) {\n",
              "      const quickchartButtonEl =\n",
              "        document.querySelector('#' + key + ' button');\n",
              "      quickchartButtonEl.disabled = true;  // To prevent multiple clicks.\n",
              "      quickchartButtonEl.classList.add('colab-df-spinner');\n",
              "      try {\n",
              "        const charts = await google.colab.kernel.invokeFunction(\n",
              "            'suggestCharts', [key], {});\n",
              "      } catch (error) {\n",
              "        console.error('Error during call to suggestCharts:', error);\n",
              "      }\n",
              "      quickchartButtonEl.classList.remove('colab-df-spinner');\n",
              "      quickchartButtonEl.classList.add('colab-df-quickchart-complete');\n",
              "    }\n",
              "    (() => {\n",
              "      let quickchartButtonEl =\n",
              "        document.querySelector('#df-da889fdc-372b-423d-83d5-5f51ff41909a button');\n",
              "      quickchartButtonEl.style.display =\n",
              "        google.colab.kernel.accessAllowed ? 'block' : 'none';\n",
              "    })();\n",
              "  </script>\n",
              "</div>\n",
              "    </div>\n",
              "  </div>\n"
            ]
          },
          "metadata": {},
          "execution_count": 105
        }
      ]
    },
    {
      "cell_type": "code",
      "source": [
        "icio_1sec_df.to_csv('1국가_1산업.csv', encoding='utf_8-sig')"
      ],
      "metadata": {
        "id": "4h21p0nuMeGK"
      },
      "execution_count": 106,
      "outputs": []
    },
    {
      "cell_type": "markdown",
      "source": [
        "#### 국가별 투입구조"
      ],
      "metadata": {
        "id": "91uW0tUyUvhq"
      }
    },
    {
      "cell_type": "code",
      "source": [
        "one_diag = np.identity(n=4)\n",
        "zero_diag = np.where(one_diag == 1, 0, 1)\n",
        "zero_diag"
      ],
      "metadata": {
        "colab": {
          "base_uri": "https://localhost:8080/"
        },
        "id": "lx-p3kQT2nnS",
        "outputId": "140c75c2-6ddf-45fa-cfd2-858b1484ba3d"
      },
      "execution_count": 184,
      "outputs": [
        {
          "output_type": "execute_result",
          "data": {
            "text/plain": [
              "array([[0, 1, 1, 1],\n",
              "       [1, 0, 1, 1],\n",
              "       [1, 1, 0, 1],\n",
              "       [1, 1, 1, 0]])"
            ]
          },
          "metadata": {},
          "execution_count": 184
        }
      ]
    },
    {
      "cell_type": "code",
      "source": [
        "dom=Mt_1sec[:4,:4]*one_diag\n",
        "dom_sm=dom.sum(axis=1).reshape([4,1])\n",
        "dom_sm"
      ],
      "metadata": {
        "colab": {
          "base_uri": "https://localhost:8080/"
        },
        "id": "CTmmLSUl2np3",
        "outputId": "1e49d7fd-60b8-4d54-fc83-4d621ecbead3"
      },
      "execution_count": 196,
      "outputs": [
        {
          "output_type": "execute_result",
          "data": {
            "text/plain": [
              "array([[ 16847.],\n",
              "       [198534.],\n",
              "       [142776.],\n",
              "       [406188.]])"
            ]
          },
          "metadata": {},
          "execution_count": 196
        }
      ]
    },
    {
      "cell_type": "code",
      "source": [
        "imp=Mt_1sec[:4,:4]*zero_diag\n",
        "\n",
        "imp_kor = np.delete(imp[:,0], np.where(imp[:,0] == 0))\n",
        "imp_chn = np.delete(imp[:,1], np.where(imp[:,1] == 0))\n",
        "imp_usa = np.delete(imp[:,2], np.where(imp[:,2] == 0))\n",
        "imp_row = np.delete(imp[:,3], np.where(imp[:,3] == 0))\n",
        "\n",
        "imp_4cons = np.vstack((imp_kor,imp_chn,imp_usa,imp_row))\n",
        "imp_4cons"
      ],
      "metadata": {
        "colab": {
          "base_uri": "https://localhost:8080/"
        },
        "id": "IL9KYQDn2nsf",
        "outputId": "4a3a81ee-c867-4ed4-ad90-0b10d30f6198"
      },
      "execution_count": 197,
      "outputs": [
        {
          "output_type": "execute_result",
          "data": {
            "text/plain": [
              "array([[  872.,   548.,  3368.],\n",
              "       [ 1840.,  1350., 13564.],\n",
              "       [  395.,  2133., 11872.],\n",
              "       [ 2390.,  9636., 11090.]])"
            ]
          },
          "metadata": {},
          "execution_count": 197
        }
      ]
    },
    {
      "cell_type": "code",
      "source": [
        "imp"
      ],
      "metadata": {
        "id": "n6m46pf7VbR_",
        "outputId": "37ae8c69-d27b-4553-edf8-22c0f7544d87",
        "colab": {
          "base_uri": "https://localhost:8080/"
        }
      },
      "execution_count": 198,
      "outputs": [
        {
          "output_type": "execute_result",
          "data": {
            "text/plain": [
              "array([[    0.,  1840.,   395.,  2390.],\n",
              "       [  872.,     0.,  2133.,  9636.],\n",
              "       [  548.,  1350.,     0., 11090.],\n",
              "       [ 3368., 13564., 11872.,     0.]])"
            ]
          },
          "metadata": {},
          "execution_count": 198
        }
      ]
    },
    {
      "cell_type": "code",
      "source": [
        "imp_kor_sm = imp_kor.sum() # 수입중간투입합\n",
        "imp_chn_sm = imp_chn.sum()\n",
        "imp_usa_sm = imp_usa.sum()\n",
        "imp_row_sm = imp_row.sum()\n",
        "imp_tot = np.vstack((imp_kor_sm,imp_chn_sm,imp_usa_sm,imp_row_sm))\n",
        "imp_tot"
      ],
      "metadata": {
        "colab": {
          "base_uri": "https://localhost:8080/"
        },
        "id": "uucGXUy26teO",
        "outputId": "2293d95d-55ee-4981-c84c-f37e974bfe1c"
      },
      "execution_count": 199,
      "outputs": [
        {
          "output_type": "execute_result",
          "data": {
            "text/plain": [
              "array([[ 4788.],\n",
              "       [16754.],\n",
              "       [14400.],\n",
              "       [23116.]])"
            ]
          },
          "metadata": {},
          "execution_count": 199
        }
      ]
    },
    {
      "cell_type": "code",
      "source": [
        "tip_kor = dom_sm[0]+imp_kor_sm #총중간투입액\n",
        "tip_chn = dom_sm[1]+imp_chn_sm\n",
        "tip_usa = dom_sm[2]+imp_usa_sm\n",
        "tip_row = dom_sm[3]+imp_row_sm\n",
        "tip_tot = np.vstack((tip_kor,tip_chn,tip_usa,tip_row))\n",
        "tip_tot.shape"
      ],
      "metadata": {
        "colab": {
          "base_uri": "https://localhost:8080/"
        },
        "id": "jHYGSj8G46Dz",
        "outputId": "d56e74d5-21e2-4580-9886-aa0f24b3467a"
      },
      "execution_count": 200,
      "outputs": [
        {
          "output_type": "execute_result",
          "data": {
            "text/plain": [
              "(4, 1)"
            ]
          },
          "metadata": {},
          "execution_count": 200
        }
      ]
    },
    {
      "cell_type": "code",
      "source": [
        "tx = Mt_1sec[4:8,0:4]\n",
        "tx_sm = tx.sum(axis=1).reshape([4,1])\n",
        "tx_sm"
      ],
      "metadata": {
        "id": "qUF9M7By46Ga",
        "outputId": "c1e169c9-a775-4291-f833-f353c6614287",
        "colab": {
          "base_uri": "https://localhost:8080/"
        }
      },
      "execution_count": 201,
      "outputs": [
        {
          "output_type": "execute_result",
          "data": {
            "text/plain": [
              "array([[  819.],\n",
              "       [ 6971.],\n",
              "       [ 3160.],\n",
              "       [19652.]])"
            ]
          },
          "metadata": {},
          "execution_count": 201
        }
      ]
    },
    {
      "cell_type": "code",
      "source": [
        "va_1sec = Mt_1sec[8,0:4].reshape([4,1])\n",
        "va_1sec"
      ],
      "metadata": {
        "id": "8QuOWGGOO6BN",
        "outputId": "c6e56959-ae78-4bf8-f2dc-7a26713c2e8f",
        "colab": {
          "base_uri": "https://localhost:8080/"
        }
      },
      "execution_count": 202,
      "outputs": [
        {
          "output_type": "execute_result",
          "data": {
            "text/plain": [
              "array([[ 15780.],\n",
              "       [127899.],\n",
              "       [198628.],\n",
              "       [456702.]])"
            ]
          },
          "metadata": {},
          "execution_count": 202
        }
      ]
    },
    {
      "cell_type": "code",
      "source": [
        "tot_input = tip_tot+tx_sm.reshape([4,1])+va_1sec.reshape([4,1])\n",
        "tot_input"
      ],
      "metadata": {
        "id": "iWz52czpPjtr",
        "outputId": "695b9bbb-3517-4df6-ff87-9ef4fc34492b",
        "colab": {
          "base_uri": "https://localhost:8080/"
        }
      },
      "execution_count": 203,
      "outputs": [
        {
          "output_type": "execute_result",
          "data": {
            "text/plain": [
              "array([[ 38234.],\n",
              "       [350158.],\n",
              "       [358964.],\n",
              "       [905658.]])"
            ]
          },
          "metadata": {},
          "execution_count": 203
        }
      ]
    },
    {
      "cell_type": "code",
      "source": [
        "input_mat = np.hstack((dom_sm,imp_4cons,imp_tot,tip_tot, tx_sm, va_1sec.reshape([4,1]), tot_input))\n",
        "input_sm = input_mat.sum(axis=0)"
      ],
      "metadata": {
        "id": "LJ89u0qmPjwh"
      },
      "execution_count": 204,
      "outputs": []
    },
    {
      "cell_type": "code",
      "source": [
        "input_strc = np.vstack((input_mat,input_sm))\n",
        "input_strc"
      ],
      "metadata": {
        "id": "qAlw7fjYTPKp",
        "outputId": "09962748-d975-4a77-cddd-17467ec86724",
        "colab": {
          "base_uri": "https://localhost:8080/"
        }
      },
      "execution_count": 205,
      "outputs": [
        {
          "output_type": "execute_result",
          "data": {
            "text/plain": [
              "array([[  16847.,     872.,     548.,    3368.,    4788.,   21635.,\n",
              "            819.,   15780.,   38234.],\n",
              "       [ 198534.,    1840.,    1350.,   13564.,   16754.,  215288.,\n",
              "           6971.,  127899.,  350158.],\n",
              "       [ 142776.,     395.,    2133.,   11872.,   14400.,  157176.,\n",
              "           3160.,  198628.,  358964.],\n",
              "       [ 406188.,    2390.,    9636.,   11090.,   23116.,  429304.,\n",
              "          19652.,  456702.,  905658.],\n",
              "       [ 764345.,    5497.,   13667.,   39894.,   59058.,  823403.,\n",
              "          30602.,  799009., 1653014.]])"
            ]
          },
          "metadata": {},
          "execution_count": 205
        }
      ]
    },
    {
      "cell_type": "code",
      "source": [
        "input_strc_df = pd.DataFrame(input_strc, columns = ['국산품', '중국', '미국','ROW', '수입품', '중간투입액', '순생산물세','부가가치','총투입액'],\n",
        "                     index=['한국', '중국', '미국','ROW','전세계']) # 변수명 붙여서 pandas로 내보내기\n",
        "\n",
        "input_strc_df"
      ],
      "metadata": {
        "id": "xbPR0iaMTdnj",
        "outputId": "730e48f5-b5eb-4ed7-ca2a-f5cd849dd969",
        "colab": {
          "base_uri": "https://localhost:8080/",
          "height": 206
        }
      },
      "execution_count": 206,
      "outputs": [
        {
          "output_type": "execute_result",
          "data": {
            "text/plain": [
              "          국산품      중국       미국      ROW      수입품     중간투입액    순생산물세      부가가치  \\\n",
              "한국    16847.0   872.0    548.0   3368.0   4788.0   21635.0    819.0   15780.0   \n",
              "중국   198534.0  1840.0   1350.0  13564.0  16754.0  215288.0   6971.0  127899.0   \n",
              "미국   142776.0   395.0   2133.0  11872.0  14400.0  157176.0   3160.0  198628.0   \n",
              "ROW  406188.0  2390.0   9636.0  11090.0  23116.0  429304.0  19652.0  456702.0   \n",
              "전세계  764345.0  5497.0  13667.0  39894.0  59058.0  823403.0  30602.0  799009.0   \n",
              "\n",
              "          총투입액  \n",
              "한국     38234.0  \n",
              "중국    350158.0  \n",
              "미국    358964.0  \n",
              "ROW   905658.0  \n",
              "전세계  1653014.0  "
            ],
            "text/html": [
              "\n",
              "  <div id=\"df-17d8fa82-2dee-482a-a73a-ca16f7a5cf12\" class=\"colab-df-container\">\n",
              "    <div>\n",
              "<style scoped>\n",
              "    .dataframe tbody tr th:only-of-type {\n",
              "        vertical-align: middle;\n",
              "    }\n",
              "\n",
              "    .dataframe tbody tr th {\n",
              "        vertical-align: top;\n",
              "    }\n",
              "\n",
              "    .dataframe thead th {\n",
              "        text-align: right;\n",
              "    }\n",
              "</style>\n",
              "<table border=\"1\" class=\"dataframe\">\n",
              "  <thead>\n",
              "    <tr style=\"text-align: right;\">\n",
              "      <th></th>\n",
              "      <th>국산품</th>\n",
              "      <th>중국</th>\n",
              "      <th>미국</th>\n",
              "      <th>ROW</th>\n",
              "      <th>수입품</th>\n",
              "      <th>중간투입액</th>\n",
              "      <th>순생산물세</th>\n",
              "      <th>부가가치</th>\n",
              "      <th>총투입액</th>\n",
              "    </tr>\n",
              "  </thead>\n",
              "  <tbody>\n",
              "    <tr>\n",
              "      <th>한국</th>\n",
              "      <td>16847.0</td>\n",
              "      <td>872.0</td>\n",
              "      <td>548.0</td>\n",
              "      <td>3368.0</td>\n",
              "      <td>4788.0</td>\n",
              "      <td>21635.0</td>\n",
              "      <td>819.0</td>\n",
              "      <td>15780.0</td>\n",
              "      <td>38234.0</td>\n",
              "    </tr>\n",
              "    <tr>\n",
              "      <th>중국</th>\n",
              "      <td>198534.0</td>\n",
              "      <td>1840.0</td>\n",
              "      <td>1350.0</td>\n",
              "      <td>13564.0</td>\n",
              "      <td>16754.0</td>\n",
              "      <td>215288.0</td>\n",
              "      <td>6971.0</td>\n",
              "      <td>127899.0</td>\n",
              "      <td>350158.0</td>\n",
              "    </tr>\n",
              "    <tr>\n",
              "      <th>미국</th>\n",
              "      <td>142776.0</td>\n",
              "      <td>395.0</td>\n",
              "      <td>2133.0</td>\n",
              "      <td>11872.0</td>\n",
              "      <td>14400.0</td>\n",
              "      <td>157176.0</td>\n",
              "      <td>3160.0</td>\n",
              "      <td>198628.0</td>\n",
              "      <td>358964.0</td>\n",
              "    </tr>\n",
              "    <tr>\n",
              "      <th>ROW</th>\n",
              "      <td>406188.0</td>\n",
              "      <td>2390.0</td>\n",
              "      <td>9636.0</td>\n",
              "      <td>11090.0</td>\n",
              "      <td>23116.0</td>\n",
              "      <td>429304.0</td>\n",
              "      <td>19652.0</td>\n",
              "      <td>456702.0</td>\n",
              "      <td>905658.0</td>\n",
              "    </tr>\n",
              "    <tr>\n",
              "      <th>전세계</th>\n",
              "      <td>764345.0</td>\n",
              "      <td>5497.0</td>\n",
              "      <td>13667.0</td>\n",
              "      <td>39894.0</td>\n",
              "      <td>59058.0</td>\n",
              "      <td>823403.0</td>\n",
              "      <td>30602.0</td>\n",
              "      <td>799009.0</td>\n",
              "      <td>1653014.0</td>\n",
              "    </tr>\n",
              "  </tbody>\n",
              "</table>\n",
              "</div>\n",
              "    <div class=\"colab-df-buttons\">\n",
              "\n",
              "  <div class=\"colab-df-container\">\n",
              "    <button class=\"colab-df-convert\" onclick=\"convertToInteractive('df-17d8fa82-2dee-482a-a73a-ca16f7a5cf12')\"\n",
              "            title=\"Convert this dataframe to an interactive table.\"\n",
              "            style=\"display:none;\">\n",
              "\n",
              "  <svg xmlns=\"http://www.w3.org/2000/svg\" height=\"24px\" viewBox=\"0 -960 960 960\">\n",
              "    <path d=\"M120-120v-720h720v720H120Zm60-500h600v-160H180v160Zm220 220h160v-160H400v160Zm0 220h160v-160H400v160ZM180-400h160v-160H180v160Zm440 0h160v-160H620v160ZM180-180h160v-160H180v160Zm440 0h160v-160H620v160Z\"/>\n",
              "  </svg>\n",
              "    </button>\n",
              "\n",
              "  <style>\n",
              "    .colab-df-container {\n",
              "      display:flex;\n",
              "      gap: 12px;\n",
              "    }\n",
              "\n",
              "    .colab-df-convert {\n",
              "      background-color: #E8F0FE;\n",
              "      border: none;\n",
              "      border-radius: 50%;\n",
              "      cursor: pointer;\n",
              "      display: none;\n",
              "      fill: #1967D2;\n",
              "      height: 32px;\n",
              "      padding: 0 0 0 0;\n",
              "      width: 32px;\n",
              "    }\n",
              "\n",
              "    .colab-df-convert:hover {\n",
              "      background-color: #E2EBFA;\n",
              "      box-shadow: 0px 1px 2px rgba(60, 64, 67, 0.3), 0px 1px 3px 1px rgba(60, 64, 67, 0.15);\n",
              "      fill: #174EA6;\n",
              "    }\n",
              "\n",
              "    .colab-df-buttons div {\n",
              "      margin-bottom: 4px;\n",
              "    }\n",
              "\n",
              "    [theme=dark] .colab-df-convert {\n",
              "      background-color: #3B4455;\n",
              "      fill: #D2E3FC;\n",
              "    }\n",
              "\n",
              "    [theme=dark] .colab-df-convert:hover {\n",
              "      background-color: #434B5C;\n",
              "      box-shadow: 0px 1px 3px 1px rgba(0, 0, 0, 0.15);\n",
              "      filter: drop-shadow(0px 1px 2px rgba(0, 0, 0, 0.3));\n",
              "      fill: #FFFFFF;\n",
              "    }\n",
              "  </style>\n",
              "\n",
              "    <script>\n",
              "      const buttonEl =\n",
              "        document.querySelector('#df-17d8fa82-2dee-482a-a73a-ca16f7a5cf12 button.colab-df-convert');\n",
              "      buttonEl.style.display =\n",
              "        google.colab.kernel.accessAllowed ? 'block' : 'none';\n",
              "\n",
              "      async function convertToInteractive(key) {\n",
              "        const element = document.querySelector('#df-17d8fa82-2dee-482a-a73a-ca16f7a5cf12');\n",
              "        const dataTable =\n",
              "          await google.colab.kernel.invokeFunction('convertToInteractive',\n",
              "                                                    [key], {});\n",
              "        if (!dataTable) return;\n",
              "\n",
              "        const docLinkHtml = 'Like what you see? Visit the ' +\n",
              "          '<a target=\"_blank\" href=https://colab.research.google.com/notebooks/data_table.ipynb>data table notebook</a>'\n",
              "          + ' to learn more about interactive tables.';\n",
              "        element.innerHTML = '';\n",
              "        dataTable['output_type'] = 'display_data';\n",
              "        await google.colab.output.renderOutput(dataTable, element);\n",
              "        const docLink = document.createElement('div');\n",
              "        docLink.innerHTML = docLinkHtml;\n",
              "        element.appendChild(docLink);\n",
              "      }\n",
              "    </script>\n",
              "  </div>\n",
              "\n",
              "\n",
              "<div id=\"df-9a7f4f67-5481-472c-8f09-6c1005cc2b9e\">\n",
              "  <button class=\"colab-df-quickchart\" onclick=\"quickchart('df-9a7f4f67-5481-472c-8f09-6c1005cc2b9e')\"\n",
              "            title=\"Suggest charts.\"\n",
              "            style=\"display:none;\">\n",
              "\n",
              "<svg xmlns=\"http://www.w3.org/2000/svg\" height=\"24px\"viewBox=\"0 0 24 24\"\n",
              "     width=\"24px\">\n",
              "    <g>\n",
              "        <path d=\"M19 3H5c-1.1 0-2 .9-2 2v14c0 1.1.9 2 2 2h14c1.1 0 2-.9 2-2V5c0-1.1-.9-2-2-2zM9 17H7v-7h2v7zm4 0h-2V7h2v10zm4 0h-2v-4h2v4z\"/>\n",
              "    </g>\n",
              "</svg>\n",
              "  </button>\n",
              "\n",
              "<style>\n",
              "  .colab-df-quickchart {\n",
              "      --bg-color: #E8F0FE;\n",
              "      --fill-color: #1967D2;\n",
              "      --hover-bg-color: #E2EBFA;\n",
              "      --hover-fill-color: #174EA6;\n",
              "      --disabled-fill-color: #AAA;\n",
              "      --disabled-bg-color: #DDD;\n",
              "  }\n",
              "\n",
              "  [theme=dark] .colab-df-quickchart {\n",
              "      --bg-color: #3B4455;\n",
              "      --fill-color: #D2E3FC;\n",
              "      --hover-bg-color: #434B5C;\n",
              "      --hover-fill-color: #FFFFFF;\n",
              "      --disabled-bg-color: #3B4455;\n",
              "      --disabled-fill-color: #666;\n",
              "  }\n",
              "\n",
              "  .colab-df-quickchart {\n",
              "    background-color: var(--bg-color);\n",
              "    border: none;\n",
              "    border-radius: 50%;\n",
              "    cursor: pointer;\n",
              "    display: none;\n",
              "    fill: var(--fill-color);\n",
              "    height: 32px;\n",
              "    padding: 0;\n",
              "    width: 32px;\n",
              "  }\n",
              "\n",
              "  .colab-df-quickchart:hover {\n",
              "    background-color: var(--hover-bg-color);\n",
              "    box-shadow: 0 1px 2px rgba(60, 64, 67, 0.3), 0 1px 3px 1px rgba(60, 64, 67, 0.15);\n",
              "    fill: var(--button-hover-fill-color);\n",
              "  }\n",
              "\n",
              "  .colab-df-quickchart-complete:disabled,\n",
              "  .colab-df-quickchart-complete:disabled:hover {\n",
              "    background-color: var(--disabled-bg-color);\n",
              "    fill: var(--disabled-fill-color);\n",
              "    box-shadow: none;\n",
              "  }\n",
              "\n",
              "  .colab-df-spinner {\n",
              "    border: 2px solid var(--fill-color);\n",
              "    border-color: transparent;\n",
              "    border-bottom-color: var(--fill-color);\n",
              "    animation:\n",
              "      spin 1s steps(1) infinite;\n",
              "  }\n",
              "\n",
              "  @keyframes spin {\n",
              "    0% {\n",
              "      border-color: transparent;\n",
              "      border-bottom-color: var(--fill-color);\n",
              "      border-left-color: var(--fill-color);\n",
              "    }\n",
              "    20% {\n",
              "      border-color: transparent;\n",
              "      border-left-color: var(--fill-color);\n",
              "      border-top-color: var(--fill-color);\n",
              "    }\n",
              "    30% {\n",
              "      border-color: transparent;\n",
              "      border-left-color: var(--fill-color);\n",
              "      border-top-color: var(--fill-color);\n",
              "      border-right-color: var(--fill-color);\n",
              "    }\n",
              "    40% {\n",
              "      border-color: transparent;\n",
              "      border-right-color: var(--fill-color);\n",
              "      border-top-color: var(--fill-color);\n",
              "    }\n",
              "    60% {\n",
              "      border-color: transparent;\n",
              "      border-right-color: var(--fill-color);\n",
              "    }\n",
              "    80% {\n",
              "      border-color: transparent;\n",
              "      border-right-color: var(--fill-color);\n",
              "      border-bottom-color: var(--fill-color);\n",
              "    }\n",
              "    90% {\n",
              "      border-color: transparent;\n",
              "      border-bottom-color: var(--fill-color);\n",
              "    }\n",
              "  }\n",
              "</style>\n",
              "\n",
              "  <script>\n",
              "    async function quickchart(key) {\n",
              "      const quickchartButtonEl =\n",
              "        document.querySelector('#' + key + ' button');\n",
              "      quickchartButtonEl.disabled = true;  // To prevent multiple clicks.\n",
              "      quickchartButtonEl.classList.add('colab-df-spinner');\n",
              "      try {\n",
              "        const charts = await google.colab.kernel.invokeFunction(\n",
              "            'suggestCharts', [key], {});\n",
              "      } catch (error) {\n",
              "        console.error('Error during call to suggestCharts:', error);\n",
              "      }\n",
              "      quickchartButtonEl.classList.remove('colab-df-spinner');\n",
              "      quickchartButtonEl.classList.add('colab-df-quickchart-complete');\n",
              "    }\n",
              "    (() => {\n",
              "      let quickchartButtonEl =\n",
              "        document.querySelector('#df-9a7f4f67-5481-472c-8f09-6c1005cc2b9e button');\n",
              "      quickchartButtonEl.style.display =\n",
              "        google.colab.kernel.accessAllowed ? 'block' : 'none';\n",
              "    })();\n",
              "  </script>\n",
              "</div>\n",
              "    </div>\n",
              "  </div>\n"
            ]
          },
          "metadata": {},
          "execution_count": 206
        }
      ]
    },
    {
      "cell_type": "code",
      "source": [
        "input_strc_df.to_csv('국가별 투입구조.csv', encoding='utf_8-sig')"
      ],
      "metadata": {
        "id": "FUE3uKMRTdpr"
      },
      "execution_count": 207,
      "outputs": []
    },
    {
      "cell_type": "markdown",
      "source": [
        "#### 국가별 배분구조"
      ],
      "metadata": {
        "id": "NGgcytnkVDNd"
      }
    },
    {
      "cell_type": "code",
      "source": [
        "imp_dstr = imp.sum(axis=1).reshape([4,1])\n",
        "imp_dstr"
      ],
      "metadata": {
        "id": "2ZwswHk4Tdr5",
        "outputId": "9a3b650c-8c1c-4794-eb7f-2db7020255f9",
        "colab": {
          "base_uri": "https://localhost:8080/"
        }
      },
      "execution_count": 208,
      "outputs": [
        {
          "output_type": "execute_result",
          "data": {
            "text/plain": [
              "array([[ 4625.],\n",
              "       [12641.],\n",
              "       [12988.],\n",
              "       [28804.]])"
            ]
          },
          "metadata": {},
          "execution_count": 208
        }
      ]
    },
    {
      "cell_type": "code",
      "source": [
        "id_tot = dom_sm + imp_dstr\n",
        "id_tot"
      ],
      "metadata": {
        "id": "Jb7gzH5qWuS2",
        "outputId": "9aa6cb08-a94b-4b04-8a78-a2f792d52028",
        "colab": {
          "base_uri": "https://localhost:8080/"
        }
      },
      "execution_count": 213,
      "outputs": [
        {
          "output_type": "execute_result",
          "data": {
            "text/plain": [
              "array([[ 21472.],\n",
              "       [211175.],\n",
              "       [155764.],\n",
              "       [434992.]])"
            ]
          },
          "metadata": {},
          "execution_count": 213
        }
      ]
    },
    {
      "cell_type": "code",
      "source": [
        "fd_dom = (Mt_1sec[0:4,4:8]*one_diag).sum(axis=1).reshape([4,1])\n",
        "fd_imp = (Mt_1sec[0:4,4:8]*zero_diag).sum(axis=1).reshape([4,1])\n",
        "fd_tot = fd_dom + fd_imp\n",
        "fd_dom"
      ],
      "metadata": {
        "id": "dHGXR1XtVueN",
        "outputId": "0fdb426e-9a43-4d70-9222-b26700d440df",
        "colab": {
          "base_uri": "https://localhost:8080/"
        }
      },
      "execution_count": 216,
      "outputs": [
        {
          "output_type": "execute_result",
          "data": {
            "text/plain": [
              "array([[ 14221.],\n",
              "       [127334.],\n",
              "       [193606.],\n",
              "       [453116.]])"
            ]
          },
          "metadata": {},
          "execution_count": 216
        }
      ]
    },
    {
      "cell_type": "code",
      "source": [
        "tot_dmd = id_tot + fd_tot\n",
        "tot_dmd"
      ],
      "metadata": {
        "id": "DnK2KZr4Vugz",
        "outputId": "767d362b-9fb9-4d53-e5ec-733281579727",
        "colab": {
          "base_uri": "https://localhost:8080/"
        }
      },
      "execution_count": 217,
      "outputs": [
        {
          "output_type": "execute_result",
          "data": {
            "text/plain": [
              "array([[ 38234.],\n",
              "       [350158.],\n",
              "       [358964.],\n",
              "       [905658.]])"
            ]
          },
          "metadata": {},
          "execution_count": 217
        }
      ]
    },
    {
      "cell_type": "code",
      "source": [
        "dstr_mat = np.hstack((dom_sm,imp_dstr, id_tot, fd_dom, fd_imp, fd_tot,tot_dmd))\n",
        "dstr_sm = dstr_mat.sum(axis=0)"
      ],
      "metadata": {
        "id": "90qizGJ5VujH"
      },
      "execution_count": 221,
      "outputs": []
    },
    {
      "cell_type": "code",
      "source": [
        "dstr_strc = np.vstack((dstr_mat,dstr_sm))\n",
        "dstr_strc"
      ],
      "metadata": {
        "id": "BkMnDOboVulh",
        "outputId": "1baf22b2-69b7-4671-f4e1-cec39e262087",
        "colab": {
          "base_uri": "https://localhost:8080/"
        }
      },
      "execution_count": 222,
      "outputs": [
        {
          "output_type": "execute_result",
          "data": {
            "text/plain": [
              "array([[  16847.,    4625.,   21472.,   14221.,    2541.,   16762.,\n",
              "          38234.],\n",
              "       [ 198534.,   12641.,  211175.,  127334.,   11649.,  138983.,\n",
              "         350158.],\n",
              "       [ 142776.,   12988.,  155764.,  193606.,    9594.,  203200.,\n",
              "         358964.],\n",
              "       [ 406188.,   28804.,  434992.,  453116.,   17550.,  470666.,\n",
              "         905658.],\n",
              "       [ 764345.,   59058.,  823403.,  788277.,   41334.,  829611.,\n",
              "        1653014.]])"
            ]
          },
          "metadata": {},
          "execution_count": 222
        }
      ]
    },
    {
      "cell_type": "code",
      "source": [
        "dstr_strc_df = pd.DataFrame(dstr_strc, columns = [['중간수요', '중간수요', '중간수요','최종수요', '최종수요', '최종수요', '총수요'],\n",
        "                                                  ['자국', '타국', '중간수요계','자국', '타국', '최종수요계', '총수요계']],\n",
        "                     index=['한국', '중국', '미국','ROW','전세계']) # 변수명 붙여서 pandas로 내보내기\n",
        "\n",
        "dstr_strc_df"
      ],
      "metadata": {
        "id": "PX3Qe1W0YVUL",
        "outputId": "8b84c5e9-dd28-4f7c-d752-9c11686a8cdd",
        "colab": {
          "base_uri": "https://localhost:8080/",
          "height": 237
        }
      },
      "execution_count": 223,
      "outputs": [
        {
          "output_type": "execute_result",
          "data": {
            "text/plain": [
              "         중간수요                         최종수요                           총수요\n",
              "           자국       타국     중간수요계        자국       타국     최종수요계       총수요계\n",
              "한국    16847.0   4625.0   21472.0   14221.0   2541.0   16762.0    38234.0\n",
              "중국   198534.0  12641.0  211175.0  127334.0  11649.0  138983.0   350158.0\n",
              "미국   142776.0  12988.0  155764.0  193606.0   9594.0  203200.0   358964.0\n",
              "ROW  406188.0  28804.0  434992.0  453116.0  17550.0  470666.0   905658.0\n",
              "전세계  764345.0  59058.0  823403.0  788277.0  41334.0  829611.0  1653014.0"
            ],
            "text/html": [
              "\n",
              "  <div id=\"df-b3c58062-1682-40f1-9875-c01bffbbf09e\" class=\"colab-df-container\">\n",
              "    <div>\n",
              "<style scoped>\n",
              "    .dataframe tbody tr th:only-of-type {\n",
              "        vertical-align: middle;\n",
              "    }\n",
              "\n",
              "    .dataframe tbody tr th {\n",
              "        vertical-align: top;\n",
              "    }\n",
              "\n",
              "    .dataframe thead tr th {\n",
              "        text-align: left;\n",
              "    }\n",
              "</style>\n",
              "<table border=\"1\" class=\"dataframe\">\n",
              "  <thead>\n",
              "    <tr>\n",
              "      <th></th>\n",
              "      <th colspan=\"3\" halign=\"left\">중간수요</th>\n",
              "      <th colspan=\"3\" halign=\"left\">최종수요</th>\n",
              "      <th>총수요</th>\n",
              "    </tr>\n",
              "    <tr>\n",
              "      <th></th>\n",
              "      <th>자국</th>\n",
              "      <th>타국</th>\n",
              "      <th>중간수요계</th>\n",
              "      <th>자국</th>\n",
              "      <th>타국</th>\n",
              "      <th>최종수요계</th>\n",
              "      <th>총수요계</th>\n",
              "    </tr>\n",
              "  </thead>\n",
              "  <tbody>\n",
              "    <tr>\n",
              "      <th>한국</th>\n",
              "      <td>16847.0</td>\n",
              "      <td>4625.0</td>\n",
              "      <td>21472.0</td>\n",
              "      <td>14221.0</td>\n",
              "      <td>2541.0</td>\n",
              "      <td>16762.0</td>\n",
              "      <td>38234.0</td>\n",
              "    </tr>\n",
              "    <tr>\n",
              "      <th>중국</th>\n",
              "      <td>198534.0</td>\n",
              "      <td>12641.0</td>\n",
              "      <td>211175.0</td>\n",
              "      <td>127334.0</td>\n",
              "      <td>11649.0</td>\n",
              "      <td>138983.0</td>\n",
              "      <td>350158.0</td>\n",
              "    </tr>\n",
              "    <tr>\n",
              "      <th>미국</th>\n",
              "      <td>142776.0</td>\n",
              "      <td>12988.0</td>\n",
              "      <td>155764.0</td>\n",
              "      <td>193606.0</td>\n",
              "      <td>9594.0</td>\n",
              "      <td>203200.0</td>\n",
              "      <td>358964.0</td>\n",
              "    </tr>\n",
              "    <tr>\n",
              "      <th>ROW</th>\n",
              "      <td>406188.0</td>\n",
              "      <td>28804.0</td>\n",
              "      <td>434992.0</td>\n",
              "      <td>453116.0</td>\n",
              "      <td>17550.0</td>\n",
              "      <td>470666.0</td>\n",
              "      <td>905658.0</td>\n",
              "    </tr>\n",
              "    <tr>\n",
              "      <th>전세계</th>\n",
              "      <td>764345.0</td>\n",
              "      <td>59058.0</td>\n",
              "      <td>823403.0</td>\n",
              "      <td>788277.0</td>\n",
              "      <td>41334.0</td>\n",
              "      <td>829611.0</td>\n",
              "      <td>1653014.0</td>\n",
              "    </tr>\n",
              "  </tbody>\n",
              "</table>\n",
              "</div>\n",
              "    <div class=\"colab-df-buttons\">\n",
              "\n",
              "  <div class=\"colab-df-container\">\n",
              "    <button class=\"colab-df-convert\" onclick=\"convertToInteractive('df-b3c58062-1682-40f1-9875-c01bffbbf09e')\"\n",
              "            title=\"Convert this dataframe to an interactive table.\"\n",
              "            style=\"display:none;\">\n",
              "\n",
              "  <svg xmlns=\"http://www.w3.org/2000/svg\" height=\"24px\" viewBox=\"0 -960 960 960\">\n",
              "    <path d=\"M120-120v-720h720v720H120Zm60-500h600v-160H180v160Zm220 220h160v-160H400v160Zm0 220h160v-160H400v160ZM180-400h160v-160H180v160Zm440 0h160v-160H620v160ZM180-180h160v-160H180v160Zm440 0h160v-160H620v160Z\"/>\n",
              "  </svg>\n",
              "    </button>\n",
              "\n",
              "  <style>\n",
              "    .colab-df-container {\n",
              "      display:flex;\n",
              "      gap: 12px;\n",
              "    }\n",
              "\n",
              "    .colab-df-convert {\n",
              "      background-color: #E8F0FE;\n",
              "      border: none;\n",
              "      border-radius: 50%;\n",
              "      cursor: pointer;\n",
              "      display: none;\n",
              "      fill: #1967D2;\n",
              "      height: 32px;\n",
              "      padding: 0 0 0 0;\n",
              "      width: 32px;\n",
              "    }\n",
              "\n",
              "    .colab-df-convert:hover {\n",
              "      background-color: #E2EBFA;\n",
              "      box-shadow: 0px 1px 2px rgba(60, 64, 67, 0.3), 0px 1px 3px 1px rgba(60, 64, 67, 0.15);\n",
              "      fill: #174EA6;\n",
              "    }\n",
              "\n",
              "    .colab-df-buttons div {\n",
              "      margin-bottom: 4px;\n",
              "    }\n",
              "\n",
              "    [theme=dark] .colab-df-convert {\n",
              "      background-color: #3B4455;\n",
              "      fill: #D2E3FC;\n",
              "    }\n",
              "\n",
              "    [theme=dark] .colab-df-convert:hover {\n",
              "      background-color: #434B5C;\n",
              "      box-shadow: 0px 1px 3px 1px rgba(0, 0, 0, 0.15);\n",
              "      filter: drop-shadow(0px 1px 2px rgba(0, 0, 0, 0.3));\n",
              "      fill: #FFFFFF;\n",
              "    }\n",
              "  </style>\n",
              "\n",
              "    <script>\n",
              "      const buttonEl =\n",
              "        document.querySelector('#df-b3c58062-1682-40f1-9875-c01bffbbf09e button.colab-df-convert');\n",
              "      buttonEl.style.display =\n",
              "        google.colab.kernel.accessAllowed ? 'block' : 'none';\n",
              "\n",
              "      async function convertToInteractive(key) {\n",
              "        const element = document.querySelector('#df-b3c58062-1682-40f1-9875-c01bffbbf09e');\n",
              "        const dataTable =\n",
              "          await google.colab.kernel.invokeFunction('convertToInteractive',\n",
              "                                                    [key], {});\n",
              "        if (!dataTable) return;\n",
              "\n",
              "        const docLinkHtml = 'Like what you see? Visit the ' +\n",
              "          '<a target=\"_blank\" href=https://colab.research.google.com/notebooks/data_table.ipynb>data table notebook</a>'\n",
              "          + ' to learn more about interactive tables.';\n",
              "        element.innerHTML = '';\n",
              "        dataTable['output_type'] = 'display_data';\n",
              "        await google.colab.output.renderOutput(dataTable, element);\n",
              "        const docLink = document.createElement('div');\n",
              "        docLink.innerHTML = docLinkHtml;\n",
              "        element.appendChild(docLink);\n",
              "      }\n",
              "    </script>\n",
              "  </div>\n",
              "\n",
              "\n",
              "<div id=\"df-5a021633-8c14-4fb4-88b7-19c3a34f3a30\">\n",
              "  <button class=\"colab-df-quickchart\" onclick=\"quickchart('df-5a021633-8c14-4fb4-88b7-19c3a34f3a30')\"\n",
              "            title=\"Suggest charts.\"\n",
              "            style=\"display:none;\">\n",
              "\n",
              "<svg xmlns=\"http://www.w3.org/2000/svg\" height=\"24px\"viewBox=\"0 0 24 24\"\n",
              "     width=\"24px\">\n",
              "    <g>\n",
              "        <path d=\"M19 3H5c-1.1 0-2 .9-2 2v14c0 1.1.9 2 2 2h14c1.1 0 2-.9 2-2V5c0-1.1-.9-2-2-2zM9 17H7v-7h2v7zm4 0h-2V7h2v10zm4 0h-2v-4h2v4z\"/>\n",
              "    </g>\n",
              "</svg>\n",
              "  </button>\n",
              "\n",
              "<style>\n",
              "  .colab-df-quickchart {\n",
              "      --bg-color: #E8F0FE;\n",
              "      --fill-color: #1967D2;\n",
              "      --hover-bg-color: #E2EBFA;\n",
              "      --hover-fill-color: #174EA6;\n",
              "      --disabled-fill-color: #AAA;\n",
              "      --disabled-bg-color: #DDD;\n",
              "  }\n",
              "\n",
              "  [theme=dark] .colab-df-quickchart {\n",
              "      --bg-color: #3B4455;\n",
              "      --fill-color: #D2E3FC;\n",
              "      --hover-bg-color: #434B5C;\n",
              "      --hover-fill-color: #FFFFFF;\n",
              "      --disabled-bg-color: #3B4455;\n",
              "      --disabled-fill-color: #666;\n",
              "  }\n",
              "\n",
              "  .colab-df-quickchart {\n",
              "    background-color: var(--bg-color);\n",
              "    border: none;\n",
              "    border-radius: 50%;\n",
              "    cursor: pointer;\n",
              "    display: none;\n",
              "    fill: var(--fill-color);\n",
              "    height: 32px;\n",
              "    padding: 0;\n",
              "    width: 32px;\n",
              "  }\n",
              "\n",
              "  .colab-df-quickchart:hover {\n",
              "    background-color: var(--hover-bg-color);\n",
              "    box-shadow: 0 1px 2px rgba(60, 64, 67, 0.3), 0 1px 3px 1px rgba(60, 64, 67, 0.15);\n",
              "    fill: var(--button-hover-fill-color);\n",
              "  }\n",
              "\n",
              "  .colab-df-quickchart-complete:disabled,\n",
              "  .colab-df-quickchart-complete:disabled:hover {\n",
              "    background-color: var(--disabled-bg-color);\n",
              "    fill: var(--disabled-fill-color);\n",
              "    box-shadow: none;\n",
              "  }\n",
              "\n",
              "  .colab-df-spinner {\n",
              "    border: 2px solid var(--fill-color);\n",
              "    border-color: transparent;\n",
              "    border-bottom-color: var(--fill-color);\n",
              "    animation:\n",
              "      spin 1s steps(1) infinite;\n",
              "  }\n",
              "\n",
              "  @keyframes spin {\n",
              "    0% {\n",
              "      border-color: transparent;\n",
              "      border-bottom-color: var(--fill-color);\n",
              "      border-left-color: var(--fill-color);\n",
              "    }\n",
              "    20% {\n",
              "      border-color: transparent;\n",
              "      border-left-color: var(--fill-color);\n",
              "      border-top-color: var(--fill-color);\n",
              "    }\n",
              "    30% {\n",
              "      border-color: transparent;\n",
              "      border-left-color: var(--fill-color);\n",
              "      border-top-color: var(--fill-color);\n",
              "      border-right-color: var(--fill-color);\n",
              "    }\n",
              "    40% {\n",
              "      border-color: transparent;\n",
              "      border-right-color: var(--fill-color);\n",
              "      border-top-color: var(--fill-color);\n",
              "    }\n",
              "    60% {\n",
              "      border-color: transparent;\n",
              "      border-right-color: var(--fill-color);\n",
              "    }\n",
              "    80% {\n",
              "      border-color: transparent;\n",
              "      border-right-color: var(--fill-color);\n",
              "      border-bottom-color: var(--fill-color);\n",
              "    }\n",
              "    90% {\n",
              "      border-color: transparent;\n",
              "      border-bottom-color: var(--fill-color);\n",
              "    }\n",
              "  }\n",
              "</style>\n",
              "\n",
              "  <script>\n",
              "    async function quickchart(key) {\n",
              "      const quickchartButtonEl =\n",
              "        document.querySelector('#' + key + ' button');\n",
              "      quickchartButtonEl.disabled = true;  // To prevent multiple clicks.\n",
              "      quickchartButtonEl.classList.add('colab-df-spinner');\n",
              "      try {\n",
              "        const charts = await google.colab.kernel.invokeFunction(\n",
              "            'suggestCharts', [key], {});\n",
              "      } catch (error) {\n",
              "        console.error('Error during call to suggestCharts:', error);\n",
              "      }\n",
              "      quickchartButtonEl.classList.remove('colab-df-spinner');\n",
              "      quickchartButtonEl.classList.add('colab-df-quickchart-complete');\n",
              "    }\n",
              "    (() => {\n",
              "      let quickchartButtonEl =\n",
              "        document.querySelector('#df-5a021633-8c14-4fb4-88b7-19c3a34f3a30 button');\n",
              "      quickchartButtonEl.style.display =\n",
              "        google.colab.kernel.accessAllowed ? 'block' : 'none';\n",
              "    })();\n",
              "  </script>\n",
              "</div>\n",
              "    </div>\n",
              "  </div>\n"
            ]
          },
          "metadata": {},
          "execution_count": 223
        }
      ]
    },
    {
      "cell_type": "code",
      "source": [
        "dstr_strc_df.to_csv('국가별 배분구조.csv', encoding='utf_8-sig')"
      ],
      "metadata": {
        "id": "zUCrQr1IYVY9"
      },
      "execution_count": 224,
      "outputs": []
    },
    {
      "cell_type": "code",
      "source": [],
      "metadata": {
        "id": "QwSCX_H4YVba"
      },
      "execution_count": 224,
      "outputs": []
    },
    {
      "cell_type": "code",
      "source": [],
      "metadata": {
        "id": "RbNLc-ouYVeN"
      },
      "execution_count": null,
      "outputs": []
    },
    {
      "cell_type": "markdown",
      "source": [
        "#### 국가별 투입구조"
      ],
      "metadata": {
        "id": "LQsgUSnDs7Lb"
      }
    },
    {
      "cell_type": "code",
      "source": [
        "A = Mt[:12,:12].astype(float)\n",
        "A"
      ],
      "metadata": {
        "colab": {
          "base_uri": "https://localhost:8080/"
        },
        "id": "HKTw5KGSs6dL",
        "outputId": "5885c4d9-c633-4a23-d6a8-44f8dbc3d78d"
      },
      "execution_count": null,
      "outputs": [
        {
          "output_type": "execute_result",
          "data": {
            "text/plain": [
              "array([[    25.,    282.,    102.,      0.,      0.,      0.,      0.,\n",
              "             2.,      1.,      1.,      2.,      1.],\n",
              "       [   110.,   5596.,   2593.,     50.,   1246.,    295.,      4.,\n",
              "           193.,    136.,     61.,   1301.,    602.],\n",
              "       [    85.,   2633.,   5421.,     11.,    139.,     99.,      0.,\n",
              "            17.,     42.,      8.,    144.,    270.],\n",
              "       [     0.,      4.,      1.,   4389.,   9691.,   1500.,      3.,\n",
              "             9.,      3.,     12.,     50.,     13.],\n",
              "       [     7.,    532.,    183.,   4571.,  80946.,  34018.,     18.,\n",
              "           881.,    948.,    181.,   4780.,   2978.],\n",
              "       [     1.,     60.,     84.,   2400.,  26110.,  34909.,      2.,\n",
              "            86.,    183.,     27.,    553.,   1042.],\n",
              "       [     1.,     13.,      4.,     20.,     47.,      8.,    830.,\n",
              "          2088.,    200.,     43.,    164.,     29.],\n",
              "       [     4.,    217.,     93.,     30.,    574.,    168.,    677.,\n",
              "         16658.,  14548.,    148.,   3356.,   1740.],\n",
              "       [     3.,     95.,    118.,     27.,    242.,    234.,   1003.,\n",
              "         14951.,  91821.,    107.,   1748.,   3755.],\n",
              "       [     2.,     25.,     10.,    139.,    312.,     42.,     71.,\n",
              "           233.,     77.,   5052.,  12511.,   3110.],\n",
              "       [    18.,   1965.,    637.,    269.,   8032.,   1982.,     91.,\n",
              "          5096.,   2851.,   4449.,  91300.,  53282.],\n",
              "       [     7.,    312.,    392.,    136.,   1471.,   1181.,     41.,\n",
              "           976.,   2436.,   5001.,  57042., 174441.]])"
            ]
          },
          "metadata": {},
          "execution_count": 115
        }
      ]
    },
    {
      "cell_type": "code",
      "source": [
        "import scipy.linalg as linalg"
      ],
      "metadata": {
        "id": "0sqQyhMes6f9"
      },
      "execution_count": null,
      "outputs": []
    },
    {
      "cell_type": "code",
      "source": [
        "mtx_for_int= linalg.block_diag(np.ones((3,3)),np.ones((3,3)),np.ones((3,3)),np.ones((3,3)))\n",
        "mtx_for_tra=np.where(mtx_for_int == 1, 0, 1)\n",
        "\n",
        "# mtx_for_fnl= linalg.block_diag(np.ones((3,1)),np.ones((3,1)),np.ones((3,1)),np.ones((3,1)))\n",
        "# mtx_for_fnl_tra=np.where(mtx_for_fnl == 1, 0, 1)"
      ],
      "metadata": {
        "id": "WC7f6229s6kg"
      },
      "execution_count": null,
      "outputs": []
    },
    {
      "cell_type": "code",
      "source": [
        "dom_input = A*mtx_for_int\n",
        "dom_input_sm = dom_input.sum(axis=0)\n",
        "dom_input_sm"
      ],
      "metadata": {
        "colab": {
          "base_uri": "https://localhost:8080/"
        },
        "id": "Xo5VH90Os6pi",
        "outputId": "7d8358f7-c3c3-4903-b26a-7e1bf40b29ce"
      },
      "execution_count": null,
      "outputs": [
        {
          "output_type": "execute_result",
          "data": {
            "text/plain": [
              "array([   220.,   8511.,   8116.,  11360., 116747.,  70427.,   2510.,\n",
              "        33697., 106569.,  14502., 160853., 230833.])"
            ]
          },
          "metadata": {},
          "execution_count": 125
        }
      ]
    },
    {
      "cell_type": "code",
      "source": [],
      "metadata": {
        "id": "XuJ2jM6Us6sD"
      },
      "execution_count": null,
      "outputs": []
    },
    {
      "cell_type": "code",
      "source": [],
      "metadata": {
        "id": "_RdCxYlZs6uo"
      },
      "execution_count": null,
      "outputs": []
    },
    {
      "cell_type": "markdown",
      "source": [
        "## TiVa indicators guide"
      ],
      "metadata": {
        "id": "-ufC9ldR9AHP"
      }
    },
    {
      "cell_type": "code",
      "source": [],
      "metadata": {
        "id": "-bLEcAmzldDs"
      },
      "execution_count": null,
      "outputs": []
    },
    {
      "cell_type": "code",
      "source": [],
      "metadata": {
        "id": "rul751kMldHG"
      },
      "execution_count": null,
      "outputs": []
    },
    {
      "cell_type": "markdown",
      "source": [
        "[TiVA2022_Indicators_Guide](TiVA2022_Indicators_Guide.pdf)"
      ],
      "metadata": {
        "id": "JdRj6TVn_pDF"
      }
    },
    {
      "cell_type": "code",
      "source": [
        "PROD = icio_2[-1,:12].astype(float) # 산출액\n",
        "VALU = icio_2[-2, 0:12].astype(float) # 부가가치\n",
        "PROD_VASH = VALU/PROD\n",
        "PROD_VASH"
      ],
      "metadata": {
        "id": "yXmH7e7troAC",
        "outputId": "b83d54d2-e289-4fa7-c5db-76db6e8843c0",
        "colab": {
          "base_uri": "https://localhost:8080/"
        }
      },
      "execution_count": null,
      "outputs": [
        {
          "output_type": "execute_result",
          "data": {
            "text/plain": [
              "array([0.526, 0.277, 0.518, 0.442, 0.225, 0.508, 0.407, 0.384, 0.596,\n",
              "       0.592, 0.344, 0.573])"
            ]
          },
          "metadata": {},
          "execution_count": 8
        }
      ]
    },
    {
      "cell_type": "code",
      "source": [
        "ct_m = np.tile(PROD, reps=[12,1]) # 산출액을 12번 행반복\n",
        "nae = icio_2[0:12,0:12]   # 거래표\n",
        "\n",
        "Ad =(nae/ct_m)  # 투입계수"
      ],
      "metadata": {
        "id": "pvQIKkzrM58_"
      },
      "execution_count": null,
      "outputs": []
    },
    {
      "cell_type": "code",
      "source": [
        "Ad_df = pd.DataFrame(Ad, columns = [['한국', '한국', '한국', '중국', '중국', '중국','미국', '미국', '미국','ROW', 'ROW', 'ROW'],\n",
        "                                    ['농산품', '공산품', '서비스', '농산품', '공산품', '서비스','농산품', '공산품', '서비스','농산품', '공산품', '서비스']],\n",
        "\n",
        "                                    index=[['한국', '한국', '한국', '중국', '중국', '중국','미국', '미국', '미국','ROW', 'ROW', 'ROW'],\n",
        "                                           ['농산품', '공산품', '서비스', '농산품', '공산품', '서비스','농산품', '공산품', '서비스','농산품', '공산품', '서비스']])\n",
        "Ad_df.index.names=['국가', '상품']\n",
        "# Ad_df"
      ],
      "metadata": {
        "id": "UcoEf_eNM6Aj"
      },
      "execution_count": null,
      "outputs": []
    },
    {
      "cell_type": "markdown",
      "source": [
        "## 생산유발계수(Lf)"
      ],
      "metadata": {
        "id": "axtGMFIoPN4V"
      }
    },
    {
      "cell_type": "code",
      "source": [
        "Lf = np.linalg.inv(np.identity(12)-Ad)    # 생산유발계수\n",
        "Lf_sm_cl = np.hstack((Lf, Lf.sum(axis=1).reshape([12,1]))) # 생산유발계수 열합\n",
        "Lf_sm_rw = np.vstack((Lf_sm_cl,Lf_sm_cl.sum(axis=0))) # 생산유발계수 행합\n",
        "Lf"
      ],
      "metadata": {
        "id": "8kqIkMFAM6Ek",
        "outputId": "b7e24481-9f56-42a0-9d3e-5aa358671e24",
        "colab": {
          "base_uri": "https://localhost:8080/"
        }
      },
      "execution_count": null,
      "outputs": [
        {
          "output_type": "execute_result",
          "data": {
            "text/plain": [
              "array([[1.054, 0.03 , 0.012, 0.   , 0.001, 0.   , 0.   , 0.   , 0.   ,\n",
              "        0.   , 0.   , 0.   ],\n",
              "       [0.361, 1.582, 0.267, 0.015, 0.029, 0.012, 0.004, 0.009, 0.002,\n",
              "        0.006, 0.014, 0.005],\n",
              "       [0.288, 0.343, 1.408, 0.005, 0.009, 0.005, 0.001, 0.003, 0.001,\n",
              "        0.002, 0.005, 0.002],\n",
              "       [0.005, 0.011, 0.004, 1.312, 0.158, 0.06 , 0.003, 0.004, 0.001,\n",
              "        0.003, 0.006, 0.002],\n",
              "       [0.068, 0.136, 0.056, 0.67 , 2.145, 0.608, 0.027, 0.052, 0.016,\n",
              "        0.026, 0.07 , 0.027],\n",
              "       [0.02 , 0.039, 0.021, 0.322, 0.443, 1.414, 0.008, 0.014, 0.005,\n",
              "        0.008, 0.02 , 0.009],\n",
              "       [0.004, 0.003, 0.001, 0.002, 0.002, 0.001, 1.227, 0.051, 0.005,\n",
              "        0.002, 0.003, 0.001],\n",
              "       [0.023, 0.039, 0.018, 0.009, 0.016, 0.007, 0.269, 1.367, 0.103,\n",
              "        0.013, 0.031, 0.011],\n",
              "       [0.025, 0.035, 0.022, 0.01 , 0.014, 0.008, 0.477, 0.459, 1.509,\n",
              "        0.015, 0.031, 0.02 ],\n",
              "       [0.014, 0.022, 0.009, 0.017, 0.016, 0.007, 0.028, 0.017, 0.003,\n",
              "        1.167, 0.087, 0.02 ],\n",
              "       [0.148, 0.337, 0.132, 0.092, 0.184, 0.082, 0.089, 0.182, 0.041,\n",
              "        0.247, 1.591, 0.208],\n",
              "       [0.084, 0.158, 0.087, 0.055, 0.091, 0.049, 0.058, 0.092, 0.033,\n",
              "        0.29 , 0.487, 1.483]])"
            ]
          },
          "metadata": {},
          "execution_count": 11
        }
      ]
    },
    {
      "cell_type": "markdown",
      "source": [
        "부가가치유발계수(Lv)"
      ],
      "metadata": {
        "id": "qPBt9ewyPRWz"
      }
    },
    {
      "cell_type": "code",
      "source": [
        "Va_r = icio_2[-2,:12]/PROD # 부가가치율\n",
        "Va_r"
      ],
      "metadata": {
        "id": "S8T75vybM6H2",
        "outputId": "8da94d53-0cc6-4b9c-bb77-7ba24fbf84e1",
        "colab": {
          "base_uri": "https://localhost:8080/"
        }
      },
      "execution_count": null,
      "outputs": [
        {
          "output_type": "execute_result",
          "data": {
            "text/plain": [
              "array([0.526, 0.277, 0.518, 0.442, 0.225, 0.508, 0.407, 0.384, 0.596,\n",
              "       0.592, 0.344, 0.573])"
            ]
          },
          "metadata": {},
          "execution_count": 12
        }
      ]
    },
    {
      "cell_type": "code",
      "source": [
        "Va_m = np.diag(Va_r)  # 부가가치율 대각행렬"
      ],
      "metadata": {
        "id": "6jCYga-UM6LD"
      },
      "execution_count": null,
      "outputs": []
    },
    {
      "cell_type": "code",
      "source": [
        "Lv = Va_m@Lf  #부가가치유발계수\n",
        "Lv\n",
        "Lv_sm_cl = np.hstack((Lv, Lv.sum(axis=1).reshape([12,1]))) # 부가가치유발계수 열합\n",
        "Lv_sm_rw = np.vstack((Lv_sm_cl,Lv_sm_cl.sum(axis=0))) # 부가가치유발계수 행합\n",
        "Lv_sm_rw"
      ],
      "metadata": {
        "id": "1NLad1u0M6Ow",
        "outputId": "73dc061d-8a02-4236-bdc4-af9e6af50285",
        "colab": {
          "base_uri": "https://localhost:8080/"
        }
      },
      "execution_count": null,
      "outputs": [
        {
          "output_type": "execute_result",
          "data": {
            "text/plain": [
              "array([[ 0.554,  0.016,  0.006,  0.   ,  0.   ,  0.   ,  0.   ,  0.   ,\n",
              "         0.   ,  0.   ,  0.   ,  0.   ,  0.577],\n",
              "       [ 0.1  ,  0.437,  0.074,  0.004,  0.008,  0.003,  0.001,  0.002,\n",
              "         0.001,  0.002,  0.004,  0.001,  0.638],\n",
              "       [ 0.149,  0.178,  0.729,  0.003,  0.005,  0.002,  0.001,  0.001,\n",
              "         0.   ,  0.001,  0.002,  0.001,  1.073],\n",
              "       [ 0.002,  0.005,  0.002,  0.58 ,  0.07 ,  0.027,  0.001,  0.002,\n",
              "         0.001,  0.001,  0.002,  0.001,  0.694],\n",
              "       [ 0.015,  0.031,  0.013,  0.151,  0.484,  0.137,  0.006,  0.012,\n",
              "         0.004,  0.006,  0.016,  0.006,  0.879],\n",
              "       [ 0.01 ,  0.02 ,  0.01 ,  0.163,  0.225,  0.718,  0.004,  0.007,\n",
              "         0.003,  0.004,  0.01 ,  0.005,  1.179],\n",
              "       [ 0.002,  0.001,  0.001,  0.001,  0.001,  0.   ,  0.499,  0.021,\n",
              "         0.002,  0.001,  0.001,  0.   ,  0.53 ],\n",
              "       [ 0.009,  0.015,  0.007,  0.003,  0.006,  0.003,  0.103,  0.525,\n",
              "         0.04 ,  0.005,  0.012,  0.004,  0.732],\n",
              "       [ 0.015,  0.021,  0.013,  0.006,  0.009,  0.005,  0.284,  0.274,\n",
              "         0.9  ,  0.009,  0.019,  0.012,  1.565],\n",
              "       [ 0.008,  0.013,  0.005,  0.01 ,  0.01 ,  0.004,  0.016,  0.01 ,\n",
              "         0.002,  0.69 ,  0.051,  0.012,  0.832],\n",
              "       [ 0.051,  0.116,  0.045,  0.032,  0.063,  0.028,  0.03 ,  0.062,\n",
              "         0.014,  0.085,  0.547,  0.071,  1.145],\n",
              "       [ 0.048,  0.091,  0.05 ,  0.031,  0.052,  0.028,  0.033,  0.052,\n",
              "         0.019,  0.166,  0.279,  0.85 ,  1.7  ],\n",
              "       [ 0.963,  0.943,  0.955,  0.984,  0.932,  0.956,  0.981,  0.969,\n",
              "         0.985,  0.97 ,  0.943,  0.963, 11.543]])"
            ]
          },
          "metadata": {},
          "execution_count": 14
        }
      ]
    },
    {
      "cell_type": "code",
      "source": [
        "Lf_df = pd.DataFrame(Lf.round(3), columns = [['한국', '한국', '한국', '중국', '중국', '중국','미국', '미국', '미국','ROW', 'ROW', 'ROW'],\n",
        "                                    ['농산품', '공산품', '서비스', '농산품', '공산품', '서비스','농산품', '공산품', '서비스','농산품', '공산품', '서비스']],\n",
        "\n",
        "                                    index=[['한국', '한국', '한국', '중국', '중국', '중국','미국', '미국', '미국','ROW', 'ROW', 'ROW'],\n",
        "                                           ['농산품', '공산품', '서비스', '농산품', '공산품', '서비스','농산품', '공산품', '서비스','농산품', '공산품', '서비스']])\n",
        "Lf_df.index.names=['국가', '상품']\n",
        "Lf_df"
      ],
      "metadata": {
        "id": "VpZOj2zMM6Rx",
        "outputId": "89978009-d0af-480e-b572-90666f0c6748",
        "colab": {
          "base_uri": "https://localhost:8080/",
          "height": 488
        }
      },
      "execution_count": null,
      "outputs": [
        {
          "output_type": "execute_result",
          "data": {
            "text/plain": [
              "            한국                   중국                   미국                  ROW  \\\n",
              "           농산품    공산품    서비스    농산품    공산품    서비스    농산품    공산품    서비스    농산품   \n",
              "국가  상품                                                                          \n",
              "한국  농산품  1.054  0.030  0.012  0.000  0.001  0.000  0.000  0.000  0.000  0.000   \n",
              "    공산품  0.361  1.582  0.267  0.015  0.029  0.012  0.004  0.009  0.002  0.006   \n",
              "    서비스  0.288  0.343  1.408  0.005  0.009  0.005  0.001  0.003  0.001  0.002   \n",
              "중국  농산품  0.005  0.011  0.004  1.312  0.158  0.060  0.003  0.004  0.001  0.003   \n",
              "    공산품  0.068  0.136  0.056  0.670  2.145  0.608  0.027  0.052  0.016  0.026   \n",
              "    서비스  0.020  0.039  0.021  0.322  0.443  1.414  0.008  0.014  0.005  0.008   \n",
              "미국  농산품  0.004  0.003  0.001  0.002  0.002  0.001  1.227  0.051  0.005  0.002   \n",
              "    공산품  0.023  0.039  0.018  0.009  0.016  0.007  0.269  1.367  0.103  0.013   \n",
              "    서비스  0.025  0.035  0.022  0.010  0.014  0.008  0.477  0.459  1.509  0.015   \n",
              "ROW 농산품  0.014  0.022  0.009  0.017  0.016  0.007  0.028  0.017  0.003  1.167   \n",
              "    공산품  0.148  0.337  0.132  0.092  0.184  0.082  0.089  0.182  0.041  0.247   \n",
              "    서비스  0.084  0.158  0.087  0.055  0.091  0.049  0.058  0.092  0.033  0.290   \n",
              "\n",
              "                       \n",
              "           공산품    서비스  \n",
              "국가  상품                 \n",
              "한국  농산품  0.000  0.000  \n",
              "    공산품  0.014  0.005  \n",
              "    서비스  0.005  0.002  \n",
              "중국  농산품  0.006  0.002  \n",
              "    공산품  0.070  0.027  \n",
              "    서비스  0.020  0.009  \n",
              "미국  농산품  0.003  0.001  \n",
              "    공산품  0.031  0.011  \n",
              "    서비스  0.031  0.020  \n",
              "ROW 농산품  0.087  0.020  \n",
              "    공산품  1.591  0.208  \n",
              "    서비스  0.487  1.483  "
            ],
            "text/html": [
              "\n",
              "  <div id=\"df-8c6db8d2-29f3-4b5d-9c3b-bf0cbad209f1\" class=\"colab-df-container\">\n",
              "    <div>\n",
              "<style scoped>\n",
              "    .dataframe tbody tr th:only-of-type {\n",
              "        vertical-align: middle;\n",
              "    }\n",
              "\n",
              "    .dataframe tbody tr th {\n",
              "        vertical-align: top;\n",
              "    }\n",
              "\n",
              "    .dataframe thead tr th {\n",
              "        text-align: left;\n",
              "    }\n",
              "\n",
              "    .dataframe thead tr:last-of-type th {\n",
              "        text-align: right;\n",
              "    }\n",
              "</style>\n",
              "<table border=\"1\" class=\"dataframe\">\n",
              "  <thead>\n",
              "    <tr>\n",
              "      <th></th>\n",
              "      <th></th>\n",
              "      <th colspan=\"3\" halign=\"left\">한국</th>\n",
              "      <th colspan=\"3\" halign=\"left\">중국</th>\n",
              "      <th colspan=\"3\" halign=\"left\">미국</th>\n",
              "      <th colspan=\"3\" halign=\"left\">ROW</th>\n",
              "    </tr>\n",
              "    <tr>\n",
              "      <th></th>\n",
              "      <th></th>\n",
              "      <th>농산품</th>\n",
              "      <th>공산품</th>\n",
              "      <th>서비스</th>\n",
              "      <th>농산품</th>\n",
              "      <th>공산품</th>\n",
              "      <th>서비스</th>\n",
              "      <th>농산품</th>\n",
              "      <th>공산품</th>\n",
              "      <th>서비스</th>\n",
              "      <th>농산품</th>\n",
              "      <th>공산품</th>\n",
              "      <th>서비스</th>\n",
              "    </tr>\n",
              "    <tr>\n",
              "      <th>국가</th>\n",
              "      <th>상품</th>\n",
              "      <th></th>\n",
              "      <th></th>\n",
              "      <th></th>\n",
              "      <th></th>\n",
              "      <th></th>\n",
              "      <th></th>\n",
              "      <th></th>\n",
              "      <th></th>\n",
              "      <th></th>\n",
              "      <th></th>\n",
              "      <th></th>\n",
              "      <th></th>\n",
              "    </tr>\n",
              "  </thead>\n",
              "  <tbody>\n",
              "    <tr>\n",
              "      <th rowspan=\"3\" valign=\"top\">한국</th>\n",
              "      <th>농산품</th>\n",
              "      <td>1.054</td>\n",
              "      <td>0.030</td>\n",
              "      <td>0.012</td>\n",
              "      <td>0.000</td>\n",
              "      <td>0.001</td>\n",
              "      <td>0.000</td>\n",
              "      <td>0.000</td>\n",
              "      <td>0.000</td>\n",
              "      <td>0.000</td>\n",
              "      <td>0.000</td>\n",
              "      <td>0.000</td>\n",
              "      <td>0.000</td>\n",
              "    </tr>\n",
              "    <tr>\n",
              "      <th>공산품</th>\n",
              "      <td>0.361</td>\n",
              "      <td>1.582</td>\n",
              "      <td>0.267</td>\n",
              "      <td>0.015</td>\n",
              "      <td>0.029</td>\n",
              "      <td>0.012</td>\n",
              "      <td>0.004</td>\n",
              "      <td>0.009</td>\n",
              "      <td>0.002</td>\n",
              "      <td>0.006</td>\n",
              "      <td>0.014</td>\n",
              "      <td>0.005</td>\n",
              "    </tr>\n",
              "    <tr>\n",
              "      <th>서비스</th>\n",
              "      <td>0.288</td>\n",
              "      <td>0.343</td>\n",
              "      <td>1.408</td>\n",
              "      <td>0.005</td>\n",
              "      <td>0.009</td>\n",
              "      <td>0.005</td>\n",
              "      <td>0.001</td>\n",
              "      <td>0.003</td>\n",
              "      <td>0.001</td>\n",
              "      <td>0.002</td>\n",
              "      <td>0.005</td>\n",
              "      <td>0.002</td>\n",
              "    </tr>\n",
              "    <tr>\n",
              "      <th rowspan=\"3\" valign=\"top\">중국</th>\n",
              "      <th>농산품</th>\n",
              "      <td>0.005</td>\n",
              "      <td>0.011</td>\n",
              "      <td>0.004</td>\n",
              "      <td>1.312</td>\n",
              "      <td>0.158</td>\n",
              "      <td>0.060</td>\n",
              "      <td>0.003</td>\n",
              "      <td>0.004</td>\n",
              "      <td>0.001</td>\n",
              "      <td>0.003</td>\n",
              "      <td>0.006</td>\n",
              "      <td>0.002</td>\n",
              "    </tr>\n",
              "    <tr>\n",
              "      <th>공산품</th>\n",
              "      <td>0.068</td>\n",
              "      <td>0.136</td>\n",
              "      <td>0.056</td>\n",
              "      <td>0.670</td>\n",
              "      <td>2.145</td>\n",
              "      <td>0.608</td>\n",
              "      <td>0.027</td>\n",
              "      <td>0.052</td>\n",
              "      <td>0.016</td>\n",
              "      <td>0.026</td>\n",
              "      <td>0.070</td>\n",
              "      <td>0.027</td>\n",
              "    </tr>\n",
              "    <tr>\n",
              "      <th>서비스</th>\n",
              "      <td>0.020</td>\n",
              "      <td>0.039</td>\n",
              "      <td>0.021</td>\n",
              "      <td>0.322</td>\n",
              "      <td>0.443</td>\n",
              "      <td>1.414</td>\n",
              "      <td>0.008</td>\n",
              "      <td>0.014</td>\n",
              "      <td>0.005</td>\n",
              "      <td>0.008</td>\n",
              "      <td>0.020</td>\n",
              "      <td>0.009</td>\n",
              "    </tr>\n",
              "    <tr>\n",
              "      <th rowspan=\"3\" valign=\"top\">미국</th>\n",
              "      <th>농산품</th>\n",
              "      <td>0.004</td>\n",
              "      <td>0.003</td>\n",
              "      <td>0.001</td>\n",
              "      <td>0.002</td>\n",
              "      <td>0.002</td>\n",
              "      <td>0.001</td>\n",
              "      <td>1.227</td>\n",
              "      <td>0.051</td>\n",
              "      <td>0.005</td>\n",
              "      <td>0.002</td>\n",
              "      <td>0.003</td>\n",
              "      <td>0.001</td>\n",
              "    </tr>\n",
              "    <tr>\n",
              "      <th>공산품</th>\n",
              "      <td>0.023</td>\n",
              "      <td>0.039</td>\n",
              "      <td>0.018</td>\n",
              "      <td>0.009</td>\n",
              "      <td>0.016</td>\n",
              "      <td>0.007</td>\n",
              "      <td>0.269</td>\n",
              "      <td>1.367</td>\n",
              "      <td>0.103</td>\n",
              "      <td>0.013</td>\n",
              "      <td>0.031</td>\n",
              "      <td>0.011</td>\n",
              "    </tr>\n",
              "    <tr>\n",
              "      <th>서비스</th>\n",
              "      <td>0.025</td>\n",
              "      <td>0.035</td>\n",
              "      <td>0.022</td>\n",
              "      <td>0.010</td>\n",
              "      <td>0.014</td>\n",
              "      <td>0.008</td>\n",
              "      <td>0.477</td>\n",
              "      <td>0.459</td>\n",
              "      <td>1.509</td>\n",
              "      <td>0.015</td>\n",
              "      <td>0.031</td>\n",
              "      <td>0.020</td>\n",
              "    </tr>\n",
              "    <tr>\n",
              "      <th rowspan=\"3\" valign=\"top\">ROW</th>\n",
              "      <th>농산품</th>\n",
              "      <td>0.014</td>\n",
              "      <td>0.022</td>\n",
              "      <td>0.009</td>\n",
              "      <td>0.017</td>\n",
              "      <td>0.016</td>\n",
              "      <td>0.007</td>\n",
              "      <td>0.028</td>\n",
              "      <td>0.017</td>\n",
              "      <td>0.003</td>\n",
              "      <td>1.167</td>\n",
              "      <td>0.087</td>\n",
              "      <td>0.020</td>\n",
              "    </tr>\n",
              "    <tr>\n",
              "      <th>공산품</th>\n",
              "      <td>0.148</td>\n",
              "      <td>0.337</td>\n",
              "      <td>0.132</td>\n",
              "      <td>0.092</td>\n",
              "      <td>0.184</td>\n",
              "      <td>0.082</td>\n",
              "      <td>0.089</td>\n",
              "      <td>0.182</td>\n",
              "      <td>0.041</td>\n",
              "      <td>0.247</td>\n",
              "      <td>1.591</td>\n",
              "      <td>0.208</td>\n",
              "    </tr>\n",
              "    <tr>\n",
              "      <th>서비스</th>\n",
              "      <td>0.084</td>\n",
              "      <td>0.158</td>\n",
              "      <td>0.087</td>\n",
              "      <td>0.055</td>\n",
              "      <td>0.091</td>\n",
              "      <td>0.049</td>\n",
              "      <td>0.058</td>\n",
              "      <td>0.092</td>\n",
              "      <td>0.033</td>\n",
              "      <td>0.290</td>\n",
              "      <td>0.487</td>\n",
              "      <td>1.483</td>\n",
              "    </tr>\n",
              "  </tbody>\n",
              "</table>\n",
              "</div>\n",
              "    <div class=\"colab-df-buttons\">\n",
              "\n",
              "  <div class=\"colab-df-container\">\n",
              "    <button class=\"colab-df-convert\" onclick=\"convertToInteractive('df-8c6db8d2-29f3-4b5d-9c3b-bf0cbad209f1')\"\n",
              "            title=\"Convert this dataframe to an interactive table.\"\n",
              "            style=\"display:none;\">\n",
              "\n",
              "  <svg xmlns=\"http://www.w3.org/2000/svg\" height=\"24px\" viewBox=\"0 -960 960 960\">\n",
              "    <path d=\"M120-120v-720h720v720H120Zm60-500h600v-160H180v160Zm220 220h160v-160H400v160Zm0 220h160v-160H400v160ZM180-400h160v-160H180v160Zm440 0h160v-160H620v160ZM180-180h160v-160H180v160Zm440 0h160v-160H620v160Z\"/>\n",
              "  </svg>\n",
              "    </button>\n",
              "\n",
              "  <style>\n",
              "    .colab-df-container {\n",
              "      display:flex;\n",
              "      gap: 12px;\n",
              "    }\n",
              "\n",
              "    .colab-df-convert {\n",
              "      background-color: #E8F0FE;\n",
              "      border: none;\n",
              "      border-radius: 50%;\n",
              "      cursor: pointer;\n",
              "      display: none;\n",
              "      fill: #1967D2;\n",
              "      height: 32px;\n",
              "      padding: 0 0 0 0;\n",
              "      width: 32px;\n",
              "    }\n",
              "\n",
              "    .colab-df-convert:hover {\n",
              "      background-color: #E2EBFA;\n",
              "      box-shadow: 0px 1px 2px rgba(60, 64, 67, 0.3), 0px 1px 3px 1px rgba(60, 64, 67, 0.15);\n",
              "      fill: #174EA6;\n",
              "    }\n",
              "\n",
              "    .colab-df-buttons div {\n",
              "      margin-bottom: 4px;\n",
              "    }\n",
              "\n",
              "    [theme=dark] .colab-df-convert {\n",
              "      background-color: #3B4455;\n",
              "      fill: #D2E3FC;\n",
              "    }\n",
              "\n",
              "    [theme=dark] .colab-df-convert:hover {\n",
              "      background-color: #434B5C;\n",
              "      box-shadow: 0px 1px 3px 1px rgba(0, 0, 0, 0.15);\n",
              "      filter: drop-shadow(0px 1px 2px rgba(0, 0, 0, 0.3));\n",
              "      fill: #FFFFFF;\n",
              "    }\n",
              "  </style>\n",
              "\n",
              "    <script>\n",
              "      const buttonEl =\n",
              "        document.querySelector('#df-8c6db8d2-29f3-4b5d-9c3b-bf0cbad209f1 button.colab-df-convert');\n",
              "      buttonEl.style.display =\n",
              "        google.colab.kernel.accessAllowed ? 'block' : 'none';\n",
              "\n",
              "      async function convertToInteractive(key) {\n",
              "        const element = document.querySelector('#df-8c6db8d2-29f3-4b5d-9c3b-bf0cbad209f1');\n",
              "        const dataTable =\n",
              "          await google.colab.kernel.invokeFunction('convertToInteractive',\n",
              "                                                    [key], {});\n",
              "        if (!dataTable) return;\n",
              "\n",
              "        const docLinkHtml = 'Like what you see? Visit the ' +\n",
              "          '<a target=\"_blank\" href=https://colab.research.google.com/notebooks/data_table.ipynb>data table notebook</a>'\n",
              "          + ' to learn more about interactive tables.';\n",
              "        element.innerHTML = '';\n",
              "        dataTable['output_type'] = 'display_data';\n",
              "        await google.colab.output.renderOutput(dataTable, element);\n",
              "        const docLink = document.createElement('div');\n",
              "        docLink.innerHTML = docLinkHtml;\n",
              "        element.appendChild(docLink);\n",
              "      }\n",
              "    </script>\n",
              "  </div>\n",
              "\n",
              "\n",
              "<div id=\"df-af102a47-370e-468b-b466-5b60cd4f560d\">\n",
              "  <button class=\"colab-df-quickchart\" onclick=\"quickchart('df-af102a47-370e-468b-b466-5b60cd4f560d')\"\n",
              "            title=\"Suggest charts.\"\n",
              "            style=\"display:none;\">\n",
              "\n",
              "<svg xmlns=\"http://www.w3.org/2000/svg\" height=\"24px\"viewBox=\"0 0 24 24\"\n",
              "     width=\"24px\">\n",
              "    <g>\n",
              "        <path d=\"M19 3H5c-1.1 0-2 .9-2 2v14c0 1.1.9 2 2 2h14c1.1 0 2-.9 2-2V5c0-1.1-.9-2-2-2zM9 17H7v-7h2v7zm4 0h-2V7h2v10zm4 0h-2v-4h2v4z\"/>\n",
              "    </g>\n",
              "</svg>\n",
              "  </button>\n",
              "\n",
              "<style>\n",
              "  .colab-df-quickchart {\n",
              "      --bg-color: #E8F0FE;\n",
              "      --fill-color: #1967D2;\n",
              "      --hover-bg-color: #E2EBFA;\n",
              "      --hover-fill-color: #174EA6;\n",
              "      --disabled-fill-color: #AAA;\n",
              "      --disabled-bg-color: #DDD;\n",
              "  }\n",
              "\n",
              "  [theme=dark] .colab-df-quickchart {\n",
              "      --bg-color: #3B4455;\n",
              "      --fill-color: #D2E3FC;\n",
              "      --hover-bg-color: #434B5C;\n",
              "      --hover-fill-color: #FFFFFF;\n",
              "      --disabled-bg-color: #3B4455;\n",
              "      --disabled-fill-color: #666;\n",
              "  }\n",
              "\n",
              "  .colab-df-quickchart {\n",
              "    background-color: var(--bg-color);\n",
              "    border: none;\n",
              "    border-radius: 50%;\n",
              "    cursor: pointer;\n",
              "    display: none;\n",
              "    fill: var(--fill-color);\n",
              "    height: 32px;\n",
              "    padding: 0;\n",
              "    width: 32px;\n",
              "  }\n",
              "\n",
              "  .colab-df-quickchart:hover {\n",
              "    background-color: var(--hover-bg-color);\n",
              "    box-shadow: 0 1px 2px rgba(60, 64, 67, 0.3), 0 1px 3px 1px rgba(60, 64, 67, 0.15);\n",
              "    fill: var(--button-hover-fill-color);\n",
              "  }\n",
              "\n",
              "  .colab-df-quickchart-complete:disabled,\n",
              "  .colab-df-quickchart-complete:disabled:hover {\n",
              "    background-color: var(--disabled-bg-color);\n",
              "    fill: var(--disabled-fill-color);\n",
              "    box-shadow: none;\n",
              "  }\n",
              "\n",
              "  .colab-df-spinner {\n",
              "    border: 2px solid var(--fill-color);\n",
              "    border-color: transparent;\n",
              "    border-bottom-color: var(--fill-color);\n",
              "    animation:\n",
              "      spin 1s steps(1) infinite;\n",
              "  }\n",
              "\n",
              "  @keyframes spin {\n",
              "    0% {\n",
              "      border-color: transparent;\n",
              "      border-bottom-color: var(--fill-color);\n",
              "      border-left-color: var(--fill-color);\n",
              "    }\n",
              "    20% {\n",
              "      border-color: transparent;\n",
              "      border-left-color: var(--fill-color);\n",
              "      border-top-color: var(--fill-color);\n",
              "    }\n",
              "    30% {\n",
              "      border-color: transparent;\n",
              "      border-left-color: var(--fill-color);\n",
              "      border-top-color: var(--fill-color);\n",
              "      border-right-color: var(--fill-color);\n",
              "    }\n",
              "    40% {\n",
              "      border-color: transparent;\n",
              "      border-right-color: var(--fill-color);\n",
              "      border-top-color: var(--fill-color);\n",
              "    }\n",
              "    60% {\n",
              "      border-color: transparent;\n",
              "      border-right-color: var(--fill-color);\n",
              "    }\n",
              "    80% {\n",
              "      border-color: transparent;\n",
              "      border-right-color: var(--fill-color);\n",
              "      border-bottom-color: var(--fill-color);\n",
              "    }\n",
              "    90% {\n",
              "      border-color: transparent;\n",
              "      border-bottom-color: var(--fill-color);\n",
              "    }\n",
              "  }\n",
              "</style>\n",
              "\n",
              "  <script>\n",
              "    async function quickchart(key) {\n",
              "      const quickchartButtonEl =\n",
              "        document.querySelector('#' + key + ' button');\n",
              "      quickchartButtonEl.disabled = true;  // To prevent multiple clicks.\n",
              "      quickchartButtonEl.classList.add('colab-df-spinner');\n",
              "      try {\n",
              "        const charts = await google.colab.kernel.invokeFunction(\n",
              "            'suggestCharts', [key], {});\n",
              "      } catch (error) {\n",
              "        console.error('Error during call to suggestCharts:', error);\n",
              "      }\n",
              "      quickchartButtonEl.classList.remove('colab-df-spinner');\n",
              "      quickchartButtonEl.classList.add('colab-df-quickchart-complete');\n",
              "    }\n",
              "    (() => {\n",
              "      let quickchartButtonEl =\n",
              "        document.querySelector('#df-af102a47-370e-468b-b466-5b60cd4f560d button');\n",
              "      quickchartButtonEl.style.display =\n",
              "        google.colab.kernel.accessAllowed ? 'block' : 'none';\n",
              "    })();\n",
              "  </script>\n",
              "</div>\n",
              "    </div>\n",
              "  </div>\n"
            ]
          },
          "metadata": {},
          "execution_count": 15
        }
      ]
    },
    {
      "cell_type": "code",
      "source": [
        "Lv_df = pd.DataFrame(Lv.round(3), columns = [['한국', '한국', '한국', '중국', '중국', '중국','미국', '미국', '미국','ROW', 'ROW', 'ROW'],\n",
        "                                    ['농산품', '공산품', '서비스', '농산품', '공산품', '서비스','농산품', '공산품', '서비스','농산품', '공산품', '서비스']],\n",
        "\n",
        "                                    index=[['한국', '한국', '한국', '중국', '중국', '중국','미국', '미국', '미국','ROW', 'ROW', 'ROW'],\n",
        "                                           ['농산품', '공산품', '서비스', '농산품', '공산품', '서비스','농산품', '공산품', '서비스','농산품', '공산품', '서비스']])\n",
        "Lv_df.index.names=['국가', '상품']\n",
        "Lv_df"
      ],
      "metadata": {
        "id": "hnmAPGbpM6T1",
        "outputId": "6126a747-a8f5-4546-a3b1-d3242754e39b",
        "colab": {
          "base_uri": "https://localhost:8080/",
          "height": 488
        }
      },
      "execution_count": null,
      "outputs": [
        {
          "output_type": "execute_result",
          "data": {
            "text/plain": [
              "            한국                   중국                   미국                  ROW  \\\n",
              "           농산품    공산품    서비스    농산품    공산품    서비스    농산품    공산품    서비스    농산품   \n",
              "국가  상품                                                                          \n",
              "한국  농산품  0.554  0.016  0.006  0.000  0.000  0.000  0.000  0.000  0.000  0.000   \n",
              "    공산품  0.100  0.437  0.074  0.004  0.008  0.003  0.001  0.002  0.001  0.002   \n",
              "    서비스  0.149  0.178  0.729  0.003  0.005  0.002  0.001  0.001  0.000  0.001   \n",
              "중국  농산품  0.002  0.005  0.002  0.580  0.070  0.027  0.001  0.002  0.001  0.001   \n",
              "    공산품  0.015  0.031  0.013  0.151  0.484  0.137  0.006  0.012  0.004  0.006   \n",
              "    서비스  0.010  0.020  0.010  0.163  0.225  0.718  0.004  0.007  0.003  0.004   \n",
              "미국  농산품  0.002  0.001  0.001  0.001  0.001  0.000  0.499  0.021  0.002  0.001   \n",
              "    공산품  0.009  0.015  0.007  0.003  0.006  0.003  0.103  0.525  0.040  0.005   \n",
              "    서비스  0.015  0.021  0.013  0.006  0.009  0.005  0.284  0.274  0.900  0.009   \n",
              "ROW 농산품  0.008  0.013  0.005  0.010  0.010  0.004  0.016  0.010  0.002  0.690   \n",
              "    공산품  0.051  0.116  0.045  0.032  0.063  0.028  0.030  0.062  0.014  0.085   \n",
              "    서비스  0.048  0.091  0.050  0.031  0.052  0.028  0.033  0.052  0.019  0.166   \n",
              "\n",
              "                       \n",
              "           공산품    서비스  \n",
              "국가  상품                 \n",
              "한국  농산품  0.000  0.000  \n",
              "    공산품  0.004  0.001  \n",
              "    서비스  0.002  0.001  \n",
              "중국  농산품  0.002  0.001  \n",
              "    공산품  0.016  0.006  \n",
              "    서비스  0.010  0.005  \n",
              "미국  농산품  0.001  0.000  \n",
              "    공산품  0.012  0.004  \n",
              "    서비스  0.019  0.012  \n",
              "ROW 농산품  0.051  0.012  \n",
              "    공산품  0.547  0.071  \n",
              "    서비스  0.279  0.850  "
            ],
            "text/html": [
              "\n",
              "  <div id=\"df-a2ce1446-3eb4-49ee-9918-6fcaa8131111\" class=\"colab-df-container\">\n",
              "    <div>\n",
              "<style scoped>\n",
              "    .dataframe tbody tr th:only-of-type {\n",
              "        vertical-align: middle;\n",
              "    }\n",
              "\n",
              "    .dataframe tbody tr th {\n",
              "        vertical-align: top;\n",
              "    }\n",
              "\n",
              "    .dataframe thead tr th {\n",
              "        text-align: left;\n",
              "    }\n",
              "\n",
              "    .dataframe thead tr:last-of-type th {\n",
              "        text-align: right;\n",
              "    }\n",
              "</style>\n",
              "<table border=\"1\" class=\"dataframe\">\n",
              "  <thead>\n",
              "    <tr>\n",
              "      <th></th>\n",
              "      <th></th>\n",
              "      <th colspan=\"3\" halign=\"left\">한국</th>\n",
              "      <th colspan=\"3\" halign=\"left\">중국</th>\n",
              "      <th colspan=\"3\" halign=\"left\">미국</th>\n",
              "      <th colspan=\"3\" halign=\"left\">ROW</th>\n",
              "    </tr>\n",
              "    <tr>\n",
              "      <th></th>\n",
              "      <th></th>\n",
              "      <th>농산품</th>\n",
              "      <th>공산품</th>\n",
              "      <th>서비스</th>\n",
              "      <th>농산품</th>\n",
              "      <th>공산품</th>\n",
              "      <th>서비스</th>\n",
              "      <th>농산품</th>\n",
              "      <th>공산품</th>\n",
              "      <th>서비스</th>\n",
              "      <th>농산품</th>\n",
              "      <th>공산품</th>\n",
              "      <th>서비스</th>\n",
              "    </tr>\n",
              "    <tr>\n",
              "      <th>국가</th>\n",
              "      <th>상품</th>\n",
              "      <th></th>\n",
              "      <th></th>\n",
              "      <th></th>\n",
              "      <th></th>\n",
              "      <th></th>\n",
              "      <th></th>\n",
              "      <th></th>\n",
              "      <th></th>\n",
              "      <th></th>\n",
              "      <th></th>\n",
              "      <th></th>\n",
              "      <th></th>\n",
              "    </tr>\n",
              "  </thead>\n",
              "  <tbody>\n",
              "    <tr>\n",
              "      <th rowspan=\"3\" valign=\"top\">한국</th>\n",
              "      <th>농산품</th>\n",
              "      <td>0.554</td>\n",
              "      <td>0.016</td>\n",
              "      <td>0.006</td>\n",
              "      <td>0.000</td>\n",
              "      <td>0.000</td>\n",
              "      <td>0.000</td>\n",
              "      <td>0.000</td>\n",
              "      <td>0.000</td>\n",
              "      <td>0.000</td>\n",
              "      <td>0.000</td>\n",
              "      <td>0.000</td>\n",
              "      <td>0.000</td>\n",
              "    </tr>\n",
              "    <tr>\n",
              "      <th>공산품</th>\n",
              "      <td>0.100</td>\n",
              "      <td>0.437</td>\n",
              "      <td>0.074</td>\n",
              "      <td>0.004</td>\n",
              "      <td>0.008</td>\n",
              "      <td>0.003</td>\n",
              "      <td>0.001</td>\n",
              "      <td>0.002</td>\n",
              "      <td>0.001</td>\n",
              "      <td>0.002</td>\n",
              "      <td>0.004</td>\n",
              "      <td>0.001</td>\n",
              "    </tr>\n",
              "    <tr>\n",
              "      <th>서비스</th>\n",
              "      <td>0.149</td>\n",
              "      <td>0.178</td>\n",
              "      <td>0.729</td>\n",
              "      <td>0.003</td>\n",
              "      <td>0.005</td>\n",
              "      <td>0.002</td>\n",
              "      <td>0.001</td>\n",
              "      <td>0.001</td>\n",
              "      <td>0.000</td>\n",
              "      <td>0.001</td>\n",
              "      <td>0.002</td>\n",
              "      <td>0.001</td>\n",
              "    </tr>\n",
              "    <tr>\n",
              "      <th rowspan=\"3\" valign=\"top\">중국</th>\n",
              "      <th>농산품</th>\n",
              "      <td>0.002</td>\n",
              "      <td>0.005</td>\n",
              "      <td>0.002</td>\n",
              "      <td>0.580</td>\n",
              "      <td>0.070</td>\n",
              "      <td>0.027</td>\n",
              "      <td>0.001</td>\n",
              "      <td>0.002</td>\n",
              "      <td>0.001</td>\n",
              "      <td>0.001</td>\n",
              "      <td>0.002</td>\n",
              "      <td>0.001</td>\n",
              "    </tr>\n",
              "    <tr>\n",
              "      <th>공산품</th>\n",
              "      <td>0.015</td>\n",
              "      <td>0.031</td>\n",
              "      <td>0.013</td>\n",
              "      <td>0.151</td>\n",
              "      <td>0.484</td>\n",
              "      <td>0.137</td>\n",
              "      <td>0.006</td>\n",
              "      <td>0.012</td>\n",
              "      <td>0.004</td>\n",
              "      <td>0.006</td>\n",
              "      <td>0.016</td>\n",
              "      <td>0.006</td>\n",
              "    </tr>\n",
              "    <tr>\n",
              "      <th>서비스</th>\n",
              "      <td>0.010</td>\n",
              "      <td>0.020</td>\n",
              "      <td>0.010</td>\n",
              "      <td>0.163</td>\n",
              "      <td>0.225</td>\n",
              "      <td>0.718</td>\n",
              "      <td>0.004</td>\n",
              "      <td>0.007</td>\n",
              "      <td>0.003</td>\n",
              "      <td>0.004</td>\n",
              "      <td>0.010</td>\n",
              "      <td>0.005</td>\n",
              "    </tr>\n",
              "    <tr>\n",
              "      <th rowspan=\"3\" valign=\"top\">미국</th>\n",
              "      <th>농산품</th>\n",
              "      <td>0.002</td>\n",
              "      <td>0.001</td>\n",
              "      <td>0.001</td>\n",
              "      <td>0.001</td>\n",
              "      <td>0.001</td>\n",
              "      <td>0.000</td>\n",
              "      <td>0.499</td>\n",
              "      <td>0.021</td>\n",
              "      <td>0.002</td>\n",
              "      <td>0.001</td>\n",
              "      <td>0.001</td>\n",
              "      <td>0.000</td>\n",
              "    </tr>\n",
              "    <tr>\n",
              "      <th>공산품</th>\n",
              "      <td>0.009</td>\n",
              "      <td>0.015</td>\n",
              "      <td>0.007</td>\n",
              "      <td>0.003</td>\n",
              "      <td>0.006</td>\n",
              "      <td>0.003</td>\n",
              "      <td>0.103</td>\n",
              "      <td>0.525</td>\n",
              "      <td>0.040</td>\n",
              "      <td>0.005</td>\n",
              "      <td>0.012</td>\n",
              "      <td>0.004</td>\n",
              "    </tr>\n",
              "    <tr>\n",
              "      <th>서비스</th>\n",
              "      <td>0.015</td>\n",
              "      <td>0.021</td>\n",
              "      <td>0.013</td>\n",
              "      <td>0.006</td>\n",
              "      <td>0.009</td>\n",
              "      <td>0.005</td>\n",
              "      <td>0.284</td>\n",
              "      <td>0.274</td>\n",
              "      <td>0.900</td>\n",
              "      <td>0.009</td>\n",
              "      <td>0.019</td>\n",
              "      <td>0.012</td>\n",
              "    </tr>\n",
              "    <tr>\n",
              "      <th rowspan=\"3\" valign=\"top\">ROW</th>\n",
              "      <th>농산품</th>\n",
              "      <td>0.008</td>\n",
              "      <td>0.013</td>\n",
              "      <td>0.005</td>\n",
              "      <td>0.010</td>\n",
              "      <td>0.010</td>\n",
              "      <td>0.004</td>\n",
              "      <td>0.016</td>\n",
              "      <td>0.010</td>\n",
              "      <td>0.002</td>\n",
              "      <td>0.690</td>\n",
              "      <td>0.051</td>\n",
              "      <td>0.012</td>\n",
              "    </tr>\n",
              "    <tr>\n",
              "      <th>공산품</th>\n",
              "      <td>0.051</td>\n",
              "      <td>0.116</td>\n",
              "      <td>0.045</td>\n",
              "      <td>0.032</td>\n",
              "      <td>0.063</td>\n",
              "      <td>0.028</td>\n",
              "      <td>0.030</td>\n",
              "      <td>0.062</td>\n",
              "      <td>0.014</td>\n",
              "      <td>0.085</td>\n",
              "      <td>0.547</td>\n",
              "      <td>0.071</td>\n",
              "    </tr>\n",
              "    <tr>\n",
              "      <th>서비스</th>\n",
              "      <td>0.048</td>\n",
              "      <td>0.091</td>\n",
              "      <td>0.050</td>\n",
              "      <td>0.031</td>\n",
              "      <td>0.052</td>\n",
              "      <td>0.028</td>\n",
              "      <td>0.033</td>\n",
              "      <td>0.052</td>\n",
              "      <td>0.019</td>\n",
              "      <td>0.166</td>\n",
              "      <td>0.279</td>\n",
              "      <td>0.850</td>\n",
              "    </tr>\n",
              "  </tbody>\n",
              "</table>\n",
              "</div>\n",
              "    <div class=\"colab-df-buttons\">\n",
              "\n",
              "  <div class=\"colab-df-container\">\n",
              "    <button class=\"colab-df-convert\" onclick=\"convertToInteractive('df-a2ce1446-3eb4-49ee-9918-6fcaa8131111')\"\n",
              "            title=\"Convert this dataframe to an interactive table.\"\n",
              "            style=\"display:none;\">\n",
              "\n",
              "  <svg xmlns=\"http://www.w3.org/2000/svg\" height=\"24px\" viewBox=\"0 -960 960 960\">\n",
              "    <path d=\"M120-120v-720h720v720H120Zm60-500h600v-160H180v160Zm220 220h160v-160H400v160Zm0 220h160v-160H400v160ZM180-400h160v-160H180v160Zm440 0h160v-160H620v160ZM180-180h160v-160H180v160Zm440 0h160v-160H620v160Z\"/>\n",
              "  </svg>\n",
              "    </button>\n",
              "\n",
              "  <style>\n",
              "    .colab-df-container {\n",
              "      display:flex;\n",
              "      gap: 12px;\n",
              "    }\n",
              "\n",
              "    .colab-df-convert {\n",
              "      background-color: #E8F0FE;\n",
              "      border: none;\n",
              "      border-radius: 50%;\n",
              "      cursor: pointer;\n",
              "      display: none;\n",
              "      fill: #1967D2;\n",
              "      height: 32px;\n",
              "      padding: 0 0 0 0;\n",
              "      width: 32px;\n",
              "    }\n",
              "\n",
              "    .colab-df-convert:hover {\n",
              "      background-color: #E2EBFA;\n",
              "      box-shadow: 0px 1px 2px rgba(60, 64, 67, 0.3), 0px 1px 3px 1px rgba(60, 64, 67, 0.15);\n",
              "      fill: #174EA6;\n",
              "    }\n",
              "\n",
              "    .colab-df-buttons div {\n",
              "      margin-bottom: 4px;\n",
              "    }\n",
              "\n",
              "    [theme=dark] .colab-df-convert {\n",
              "      background-color: #3B4455;\n",
              "      fill: #D2E3FC;\n",
              "    }\n",
              "\n",
              "    [theme=dark] .colab-df-convert:hover {\n",
              "      background-color: #434B5C;\n",
              "      box-shadow: 0px 1px 3px 1px rgba(0, 0, 0, 0.15);\n",
              "      filter: drop-shadow(0px 1px 2px rgba(0, 0, 0, 0.3));\n",
              "      fill: #FFFFFF;\n",
              "    }\n",
              "  </style>\n",
              "\n",
              "    <script>\n",
              "      const buttonEl =\n",
              "        document.querySelector('#df-a2ce1446-3eb4-49ee-9918-6fcaa8131111 button.colab-df-convert');\n",
              "      buttonEl.style.display =\n",
              "        google.colab.kernel.accessAllowed ? 'block' : 'none';\n",
              "\n",
              "      async function convertToInteractive(key) {\n",
              "        const element = document.querySelector('#df-a2ce1446-3eb4-49ee-9918-6fcaa8131111');\n",
              "        const dataTable =\n",
              "          await google.colab.kernel.invokeFunction('convertToInteractive',\n",
              "                                                    [key], {});\n",
              "        if (!dataTable) return;\n",
              "\n",
              "        const docLinkHtml = 'Like what you see? Visit the ' +\n",
              "          '<a target=\"_blank\" href=https://colab.research.google.com/notebooks/data_table.ipynb>data table notebook</a>'\n",
              "          + ' to learn more about interactive tables.';\n",
              "        element.innerHTML = '';\n",
              "        dataTable['output_type'] = 'display_data';\n",
              "        await google.colab.output.renderOutput(dataTable, element);\n",
              "        const docLink = document.createElement('div');\n",
              "        docLink.innerHTML = docLinkHtml;\n",
              "        element.appendChild(docLink);\n",
              "      }\n",
              "    </script>\n",
              "  </div>\n",
              "\n",
              "\n",
              "<div id=\"df-86aacdab-7348-4cd8-8ac1-8928db2c39f1\">\n",
              "  <button class=\"colab-df-quickchart\" onclick=\"quickchart('df-86aacdab-7348-4cd8-8ac1-8928db2c39f1')\"\n",
              "            title=\"Suggest charts.\"\n",
              "            style=\"display:none;\">\n",
              "\n",
              "<svg xmlns=\"http://www.w3.org/2000/svg\" height=\"24px\"viewBox=\"0 0 24 24\"\n",
              "     width=\"24px\">\n",
              "    <g>\n",
              "        <path d=\"M19 3H5c-1.1 0-2 .9-2 2v14c0 1.1.9 2 2 2h14c1.1 0 2-.9 2-2V5c0-1.1-.9-2-2-2zM9 17H7v-7h2v7zm4 0h-2V7h2v10zm4 0h-2v-4h2v4z\"/>\n",
              "    </g>\n",
              "</svg>\n",
              "  </button>\n",
              "\n",
              "<style>\n",
              "  .colab-df-quickchart {\n",
              "      --bg-color: #E8F0FE;\n",
              "      --fill-color: #1967D2;\n",
              "      --hover-bg-color: #E2EBFA;\n",
              "      --hover-fill-color: #174EA6;\n",
              "      --disabled-fill-color: #AAA;\n",
              "      --disabled-bg-color: #DDD;\n",
              "  }\n",
              "\n",
              "  [theme=dark] .colab-df-quickchart {\n",
              "      --bg-color: #3B4455;\n",
              "      --fill-color: #D2E3FC;\n",
              "      --hover-bg-color: #434B5C;\n",
              "      --hover-fill-color: #FFFFFF;\n",
              "      --disabled-bg-color: #3B4455;\n",
              "      --disabled-fill-color: #666;\n",
              "  }\n",
              "\n",
              "  .colab-df-quickchart {\n",
              "    background-color: var(--bg-color);\n",
              "    border: none;\n",
              "    border-radius: 50%;\n",
              "    cursor: pointer;\n",
              "    display: none;\n",
              "    fill: var(--fill-color);\n",
              "    height: 32px;\n",
              "    padding: 0;\n",
              "    width: 32px;\n",
              "  }\n",
              "\n",
              "  .colab-df-quickchart:hover {\n",
              "    background-color: var(--hover-bg-color);\n",
              "    box-shadow: 0 1px 2px rgba(60, 64, 67, 0.3), 0 1px 3px 1px rgba(60, 64, 67, 0.15);\n",
              "    fill: var(--button-hover-fill-color);\n",
              "  }\n",
              "\n",
              "  .colab-df-quickchart-complete:disabled,\n",
              "  .colab-df-quickchart-complete:disabled:hover {\n",
              "    background-color: var(--disabled-bg-color);\n",
              "    fill: var(--disabled-fill-color);\n",
              "    box-shadow: none;\n",
              "  }\n",
              "\n",
              "  .colab-df-spinner {\n",
              "    border: 2px solid var(--fill-color);\n",
              "    border-color: transparent;\n",
              "    border-bottom-color: var(--fill-color);\n",
              "    animation:\n",
              "      spin 1s steps(1) infinite;\n",
              "  }\n",
              "\n",
              "  @keyframes spin {\n",
              "    0% {\n",
              "      border-color: transparent;\n",
              "      border-bottom-color: var(--fill-color);\n",
              "      border-left-color: var(--fill-color);\n",
              "    }\n",
              "    20% {\n",
              "      border-color: transparent;\n",
              "      border-left-color: var(--fill-color);\n",
              "      border-top-color: var(--fill-color);\n",
              "    }\n",
              "    30% {\n",
              "      border-color: transparent;\n",
              "      border-left-color: var(--fill-color);\n",
              "      border-top-color: var(--fill-color);\n",
              "      border-right-color: var(--fill-color);\n",
              "    }\n",
              "    40% {\n",
              "      border-color: transparent;\n",
              "      border-right-color: var(--fill-color);\n",
              "      border-top-color: var(--fill-color);\n",
              "    }\n",
              "    60% {\n",
              "      border-color: transparent;\n",
              "      border-right-color: var(--fill-color);\n",
              "    }\n",
              "    80% {\n",
              "      border-color: transparent;\n",
              "      border-right-color: var(--fill-color);\n",
              "      border-bottom-color: var(--fill-color);\n",
              "    }\n",
              "    90% {\n",
              "      border-color: transparent;\n",
              "      border-bottom-color: var(--fill-color);\n",
              "    }\n",
              "  }\n",
              "</style>\n",
              "\n",
              "  <script>\n",
              "    async function quickchart(key) {\n",
              "      const quickchartButtonEl =\n",
              "        document.querySelector('#' + key + ' button');\n",
              "      quickchartButtonEl.disabled = true;  // To prevent multiple clicks.\n",
              "      quickchartButtonEl.classList.add('colab-df-spinner');\n",
              "      try {\n",
              "        const charts = await google.colab.kernel.invokeFunction(\n",
              "            'suggestCharts', [key], {});\n",
              "      } catch (error) {\n",
              "        console.error('Error during call to suggestCharts:', error);\n",
              "      }\n",
              "      quickchartButtonEl.classList.remove('colab-df-spinner');\n",
              "      quickchartButtonEl.classList.add('colab-df-quickchart-complete');\n",
              "    }\n",
              "    (() => {\n",
              "      let quickchartButtonEl =\n",
              "        document.querySelector('#df-86aacdab-7348-4cd8-8ac1-8928db2c39f1 button');\n",
              "      quickchartButtonEl.style.display =\n",
              "        google.colab.kernel.accessAllowed ? 'block' : 'none';\n",
              "    })();\n",
              "  </script>\n",
              "</div>\n",
              "    </div>\n",
              "  </div>\n"
            ]
          },
          "metadata": {},
          "execution_count": 16
        }
      ]
    },
    {
      "cell_type": "code",
      "source": [
        "Lf_df.to_csv('생산유발계수.csv', encoding='utf_8-sig')\n",
        "Lv_df.to_csv('부가가치유발계수.csv', encoding='utf_8-sig')"
      ],
      "metadata": {
        "id": "5hYfqz56RO17"
      },
      "execution_count": null,
      "outputs": []
    },
    {
      "cell_type": "markdown",
      "source": [
        "## DVA(Domestic Value-added) and FVA(Foreign Value-added)"
      ],
      "metadata": {
        "id": "b6Elv3lpWOtv"
      }
    },
    {
      "cell_type": "code",
      "source": [
        "Fd = icio_2[0:12,12:16]\n",
        "Fd"
      ],
      "metadata": {
        "id": "s--WdyzwRO6x",
        "outputId": "75ad851d-d0c2-42b7-c34f-8663f0a08339",
        "colab": {
          "base_uri": "https://localhost:8080/"
        }
      },
      "execution_count": null,
      "outputs": [
        {
          "output_type": "execute_result",
          "data": {
            "text/plain": [
              "array([[   15.2,     0.1,     0.1,     0.2],\n",
              "       [  245.8,    39.1,    35.5,   129.5],\n",
              "       [ 1161.1,    12.8,     8.2,    28.6],\n",
              "       [    0.3,   550.9,     0.5,     6.7],\n",
              "       [   23.3,  3220.6,   237. ,   699.6],\n",
              "       [   12.2,  8961.9,    39.8,   145.6],\n",
              "       [    0.7,     2.7,   102.2,    16.3],\n",
              "       [   11.5,    32.7,  2574.7,   396.8],\n",
              "       [   16.9,    61. , 16683.7,   420.9],\n",
              "       [    1.6,    17.5,    13.6,  1637.3],\n",
              "       [   54.5,   215.1,   726.5,  9469.7],\n",
              "       [   37.3,   280. ,   408.9, 34204.8]])"
            ]
          },
          "metadata": {},
          "execution_count": 21
        }
      ]
    },
    {
      "cell_type": "code",
      "source": [
        "DFVA = Lv@Fd\n",
        "DFVA"
      ],
      "metadata": {
        "id": "jO-4MSQNWi4E",
        "outputId": "1d10ab70-502c-43b9-81a1-d3949ee186d5",
        "colab": {
          "base_uri": "https://localhost:8080/"
        }
      },
      "execution_count": null,
      "outputs": [
        {
          "output_type": "execute_result",
          "data": {
            "text/plain": [
              "array([[   19.55 ,     2.987,     1.638,     5.926],\n",
              "       [  195.378,    78.169,    38.427,   149.563],\n",
              "       [  892.933,    55.965,    27.228,   110.219],\n",
              "       [    5.792,   784.011,    34.619,   115.482],\n",
              "       [   36.613,  2876.407,   227.792,   734.207],\n",
              "       [   32.04 ,  7252.814,   153.334,   536.887],\n",
              "       [    1.752,     7.903,   141.071,    39.174],\n",
              "       [   19.425,    70.685,  2035.997,   498.   ],\n",
              "       [   41.127,   148.762, 15764.878,  1094.128],\n",
              "       [   14.302,    99.854,   114.824,  2035.764],\n",
              "       [  117.106,   619.473,   847.125,  7850.916],\n",
              "       [  130.295,   744.567,  1027.725, 32068.446]])"
            ]
          },
          "metadata": {},
          "execution_count": 24
        }
      ]
    },
    {
      "cell_type": "code",
      "source": [
        "DFVA_df = pd.DataFrame(DFVA, columns = ['한국', '중국', '미국', 'ROW'],\n",
        "\n",
        "                                    index=[['한국', '한국', '한국', '중국', '중국', '중국','미국', '미국', '미국','ROW', 'ROW', 'ROW'],\n",
        "                                           ['농산품', '공산품', '서비스', '농산품', '공산품', '서비스','농산품', '공산품', '서비스','농산품', '공산품', '서비스']])\n",
        "DFVA_df.index.names=['국가', '상품']\n",
        "DFVA_df"
      ],
      "metadata": {
        "id": "xztncYD2RO-F",
        "outputId": "99d264d5-1872-4689-b074-1650a4a45fdd",
        "colab": {
          "base_uri": "https://localhost:8080/",
          "height": 457
        }
      },
      "execution_count": null,
      "outputs": [
        {
          "output_type": "execute_result",
          "data": {
            "text/plain": [
              "                 한국           중국            미국           ROW\n",
              "국가  상품                                                      \n",
              "한국  농산품   19.549819     2.986852      1.638402      5.925908\n",
              "    공산품  195.378371    78.168595     38.427067    149.563485\n",
              "    서비스  892.933404    55.964729     27.228129    110.219365\n",
              "중국  농산품    5.791782   784.011442     34.618737    115.481518\n",
              "    공산품   36.613019  2876.406795    227.792370    734.206863\n",
              "    서비스   32.039840  7252.814238    153.334385    536.886597\n",
              "미국  농산품    1.752337     7.903081    141.071412     39.173635\n",
              "    공산품   19.424703    70.685424   2035.996991    498.000295\n",
              "    서비스   41.127384   148.761518  15764.878435   1094.127894\n",
              "ROW 농산품   14.301901    99.854305    114.823588   2035.764022\n",
              "    공산품  117.105517   619.472971    847.125111   7850.915608\n",
              "    서비스  130.294978   744.566892   1027.725492  32068.445658"
            ],
            "text/html": [
              "\n",
              "  <div id=\"df-5f277675-990e-4693-a666-871412513ba1\" class=\"colab-df-container\">\n",
              "    <div>\n",
              "<style scoped>\n",
              "    .dataframe tbody tr th:only-of-type {\n",
              "        vertical-align: middle;\n",
              "    }\n",
              "\n",
              "    .dataframe tbody tr th {\n",
              "        vertical-align: top;\n",
              "    }\n",
              "\n",
              "    .dataframe thead th {\n",
              "        text-align: right;\n",
              "    }\n",
              "</style>\n",
              "<table border=\"1\" class=\"dataframe\">\n",
              "  <thead>\n",
              "    <tr style=\"text-align: right;\">\n",
              "      <th></th>\n",
              "      <th></th>\n",
              "      <th>한국</th>\n",
              "      <th>중국</th>\n",
              "      <th>미국</th>\n",
              "      <th>ROW</th>\n",
              "    </tr>\n",
              "    <tr>\n",
              "      <th>국가</th>\n",
              "      <th>상품</th>\n",
              "      <th></th>\n",
              "      <th></th>\n",
              "      <th></th>\n",
              "      <th></th>\n",
              "    </tr>\n",
              "  </thead>\n",
              "  <tbody>\n",
              "    <tr>\n",
              "      <th rowspan=\"3\" valign=\"top\">한국</th>\n",
              "      <th>농산품</th>\n",
              "      <td>19.549819</td>\n",
              "      <td>2.986852</td>\n",
              "      <td>1.638402</td>\n",
              "      <td>5.925908</td>\n",
              "    </tr>\n",
              "    <tr>\n",
              "      <th>공산품</th>\n",
              "      <td>195.378371</td>\n",
              "      <td>78.168595</td>\n",
              "      <td>38.427067</td>\n",
              "      <td>149.563485</td>\n",
              "    </tr>\n",
              "    <tr>\n",
              "      <th>서비스</th>\n",
              "      <td>892.933404</td>\n",
              "      <td>55.964729</td>\n",
              "      <td>27.228129</td>\n",
              "      <td>110.219365</td>\n",
              "    </tr>\n",
              "    <tr>\n",
              "      <th rowspan=\"3\" valign=\"top\">중국</th>\n",
              "      <th>농산품</th>\n",
              "      <td>5.791782</td>\n",
              "      <td>784.011442</td>\n",
              "      <td>34.618737</td>\n",
              "      <td>115.481518</td>\n",
              "    </tr>\n",
              "    <tr>\n",
              "      <th>공산품</th>\n",
              "      <td>36.613019</td>\n",
              "      <td>2876.406795</td>\n",
              "      <td>227.792370</td>\n",
              "      <td>734.206863</td>\n",
              "    </tr>\n",
              "    <tr>\n",
              "      <th>서비스</th>\n",
              "      <td>32.039840</td>\n",
              "      <td>7252.814238</td>\n",
              "      <td>153.334385</td>\n",
              "      <td>536.886597</td>\n",
              "    </tr>\n",
              "    <tr>\n",
              "      <th rowspan=\"3\" valign=\"top\">미국</th>\n",
              "      <th>농산품</th>\n",
              "      <td>1.752337</td>\n",
              "      <td>7.903081</td>\n",
              "      <td>141.071412</td>\n",
              "      <td>39.173635</td>\n",
              "    </tr>\n",
              "    <tr>\n",
              "      <th>공산품</th>\n",
              "      <td>19.424703</td>\n",
              "      <td>70.685424</td>\n",
              "      <td>2035.996991</td>\n",
              "      <td>498.000295</td>\n",
              "    </tr>\n",
              "    <tr>\n",
              "      <th>서비스</th>\n",
              "      <td>41.127384</td>\n",
              "      <td>148.761518</td>\n",
              "      <td>15764.878435</td>\n",
              "      <td>1094.127894</td>\n",
              "    </tr>\n",
              "    <tr>\n",
              "      <th rowspan=\"3\" valign=\"top\">ROW</th>\n",
              "      <th>농산품</th>\n",
              "      <td>14.301901</td>\n",
              "      <td>99.854305</td>\n",
              "      <td>114.823588</td>\n",
              "      <td>2035.764022</td>\n",
              "    </tr>\n",
              "    <tr>\n",
              "      <th>공산품</th>\n",
              "      <td>117.105517</td>\n",
              "      <td>619.472971</td>\n",
              "      <td>847.125111</td>\n",
              "      <td>7850.915608</td>\n",
              "    </tr>\n",
              "    <tr>\n",
              "      <th>서비스</th>\n",
              "      <td>130.294978</td>\n",
              "      <td>744.566892</td>\n",
              "      <td>1027.725492</td>\n",
              "      <td>32068.445658</td>\n",
              "    </tr>\n",
              "  </tbody>\n",
              "</table>\n",
              "</div>\n",
              "    <div class=\"colab-df-buttons\">\n",
              "\n",
              "  <div class=\"colab-df-container\">\n",
              "    <button class=\"colab-df-convert\" onclick=\"convertToInteractive('df-5f277675-990e-4693-a666-871412513ba1')\"\n",
              "            title=\"Convert this dataframe to an interactive table.\"\n",
              "            style=\"display:none;\">\n",
              "\n",
              "  <svg xmlns=\"http://www.w3.org/2000/svg\" height=\"24px\" viewBox=\"0 -960 960 960\">\n",
              "    <path d=\"M120-120v-720h720v720H120Zm60-500h600v-160H180v160Zm220 220h160v-160H400v160Zm0 220h160v-160H400v160ZM180-400h160v-160H180v160Zm440 0h160v-160H620v160ZM180-180h160v-160H180v160Zm440 0h160v-160H620v160Z\"/>\n",
              "  </svg>\n",
              "    </button>\n",
              "\n",
              "  <style>\n",
              "    .colab-df-container {\n",
              "      display:flex;\n",
              "      gap: 12px;\n",
              "    }\n",
              "\n",
              "    .colab-df-convert {\n",
              "      background-color: #E8F0FE;\n",
              "      border: none;\n",
              "      border-radius: 50%;\n",
              "      cursor: pointer;\n",
              "      display: none;\n",
              "      fill: #1967D2;\n",
              "      height: 32px;\n",
              "      padding: 0 0 0 0;\n",
              "      width: 32px;\n",
              "    }\n",
              "\n",
              "    .colab-df-convert:hover {\n",
              "      background-color: #E2EBFA;\n",
              "      box-shadow: 0px 1px 2px rgba(60, 64, 67, 0.3), 0px 1px 3px 1px rgba(60, 64, 67, 0.15);\n",
              "      fill: #174EA6;\n",
              "    }\n",
              "\n",
              "    .colab-df-buttons div {\n",
              "      margin-bottom: 4px;\n",
              "    }\n",
              "\n",
              "    [theme=dark] .colab-df-convert {\n",
              "      background-color: #3B4455;\n",
              "      fill: #D2E3FC;\n",
              "    }\n",
              "\n",
              "    [theme=dark] .colab-df-convert:hover {\n",
              "      background-color: #434B5C;\n",
              "      box-shadow: 0px 1px 3px 1px rgba(0, 0, 0, 0.15);\n",
              "      filter: drop-shadow(0px 1px 2px rgba(0, 0, 0, 0.3));\n",
              "      fill: #FFFFFF;\n",
              "    }\n",
              "  </style>\n",
              "\n",
              "    <script>\n",
              "      const buttonEl =\n",
              "        document.querySelector('#df-5f277675-990e-4693-a666-871412513ba1 button.colab-df-convert');\n",
              "      buttonEl.style.display =\n",
              "        google.colab.kernel.accessAllowed ? 'block' : 'none';\n",
              "\n",
              "      async function convertToInteractive(key) {\n",
              "        const element = document.querySelector('#df-5f277675-990e-4693-a666-871412513ba1');\n",
              "        const dataTable =\n",
              "          await google.colab.kernel.invokeFunction('convertToInteractive',\n",
              "                                                    [key], {});\n",
              "        if (!dataTable) return;\n",
              "\n",
              "        const docLinkHtml = 'Like what you see? Visit the ' +\n",
              "          '<a target=\"_blank\" href=https://colab.research.google.com/notebooks/data_table.ipynb>data table notebook</a>'\n",
              "          + ' to learn more about interactive tables.';\n",
              "        element.innerHTML = '';\n",
              "        dataTable['output_type'] = 'display_data';\n",
              "        await google.colab.output.renderOutput(dataTable, element);\n",
              "        const docLink = document.createElement('div');\n",
              "        docLink.innerHTML = docLinkHtml;\n",
              "        element.appendChild(docLink);\n",
              "      }\n",
              "    </script>\n",
              "  </div>\n",
              "\n",
              "\n",
              "<div id=\"df-ddfa0d4d-cdcc-41cf-9a68-1d4b978b93c9\">\n",
              "  <button class=\"colab-df-quickchart\" onclick=\"quickchart('df-ddfa0d4d-cdcc-41cf-9a68-1d4b978b93c9')\"\n",
              "            title=\"Suggest charts.\"\n",
              "            style=\"display:none;\">\n",
              "\n",
              "<svg xmlns=\"http://www.w3.org/2000/svg\" height=\"24px\"viewBox=\"0 0 24 24\"\n",
              "     width=\"24px\">\n",
              "    <g>\n",
              "        <path d=\"M19 3H5c-1.1 0-2 .9-2 2v14c0 1.1.9 2 2 2h14c1.1 0 2-.9 2-2V5c0-1.1-.9-2-2-2zM9 17H7v-7h2v7zm4 0h-2V7h2v10zm4 0h-2v-4h2v4z\"/>\n",
              "    </g>\n",
              "</svg>\n",
              "  </button>\n",
              "\n",
              "<style>\n",
              "  .colab-df-quickchart {\n",
              "      --bg-color: #E8F0FE;\n",
              "      --fill-color: #1967D2;\n",
              "      --hover-bg-color: #E2EBFA;\n",
              "      --hover-fill-color: #174EA6;\n",
              "      --disabled-fill-color: #AAA;\n",
              "      --disabled-bg-color: #DDD;\n",
              "  }\n",
              "\n",
              "  [theme=dark] .colab-df-quickchart {\n",
              "      --bg-color: #3B4455;\n",
              "      --fill-color: #D2E3FC;\n",
              "      --hover-bg-color: #434B5C;\n",
              "      --hover-fill-color: #FFFFFF;\n",
              "      --disabled-bg-color: #3B4455;\n",
              "      --disabled-fill-color: #666;\n",
              "  }\n",
              "\n",
              "  .colab-df-quickchart {\n",
              "    background-color: var(--bg-color);\n",
              "    border: none;\n",
              "    border-radius: 50%;\n",
              "    cursor: pointer;\n",
              "    display: none;\n",
              "    fill: var(--fill-color);\n",
              "    height: 32px;\n",
              "    padding: 0;\n",
              "    width: 32px;\n",
              "  }\n",
              "\n",
              "  .colab-df-quickchart:hover {\n",
              "    background-color: var(--hover-bg-color);\n",
              "    box-shadow: 0 1px 2px rgba(60, 64, 67, 0.3), 0 1px 3px 1px rgba(60, 64, 67, 0.15);\n",
              "    fill: var(--button-hover-fill-color);\n",
              "  }\n",
              "\n",
              "  .colab-df-quickchart-complete:disabled,\n",
              "  .colab-df-quickchart-complete:disabled:hover {\n",
              "    background-color: var(--disabled-bg-color);\n",
              "    fill: var(--disabled-fill-color);\n",
              "    box-shadow: none;\n",
              "  }\n",
              "\n",
              "  .colab-df-spinner {\n",
              "    border: 2px solid var(--fill-color);\n",
              "    border-color: transparent;\n",
              "    border-bottom-color: var(--fill-color);\n",
              "    animation:\n",
              "      spin 1s steps(1) infinite;\n",
              "  }\n",
              "\n",
              "  @keyframes spin {\n",
              "    0% {\n",
              "      border-color: transparent;\n",
              "      border-bottom-color: var(--fill-color);\n",
              "      border-left-color: var(--fill-color);\n",
              "    }\n",
              "    20% {\n",
              "      border-color: transparent;\n",
              "      border-left-color: var(--fill-color);\n",
              "      border-top-color: var(--fill-color);\n",
              "    }\n",
              "    30% {\n",
              "      border-color: transparent;\n",
              "      border-left-color: var(--fill-color);\n",
              "      border-top-color: var(--fill-color);\n",
              "      border-right-color: var(--fill-color);\n",
              "    }\n",
              "    40% {\n",
              "      border-color: transparent;\n",
              "      border-right-color: var(--fill-color);\n",
              "      border-top-color: var(--fill-color);\n",
              "    }\n",
              "    60% {\n",
              "      border-color: transparent;\n",
              "      border-right-color: var(--fill-color);\n",
              "    }\n",
              "    80% {\n",
              "      border-color: transparent;\n",
              "      border-right-color: var(--fill-color);\n",
              "      border-bottom-color: var(--fill-color);\n",
              "    }\n",
              "    90% {\n",
              "      border-color: transparent;\n",
              "      border-bottom-color: var(--fill-color);\n",
              "    }\n",
              "  }\n",
              "</style>\n",
              "\n",
              "  <script>\n",
              "    async function quickchart(key) {\n",
              "      const quickchartButtonEl =\n",
              "        document.querySelector('#' + key + ' button');\n",
              "      quickchartButtonEl.disabled = true;  // To prevent multiple clicks.\n",
              "      quickchartButtonEl.classList.add('colab-df-spinner');\n",
              "      try {\n",
              "        const charts = await google.colab.kernel.invokeFunction(\n",
              "            'suggestCharts', [key], {});\n",
              "      } catch (error) {\n",
              "        console.error('Error during call to suggestCharts:', error);\n",
              "      }\n",
              "      quickchartButtonEl.classList.remove('colab-df-spinner');\n",
              "      quickchartButtonEl.classList.add('colab-df-quickchart-complete');\n",
              "    }\n",
              "    (() => {\n",
              "      let quickchartButtonEl =\n",
              "        document.querySelector('#df-ddfa0d4d-cdcc-41cf-9a68-1d4b978b93c9 button');\n",
              "      quickchartButtonEl.style.display =\n",
              "        google.colab.kernel.accessAllowed ? 'block' : 'none';\n",
              "    })();\n",
              "  </script>\n",
              "</div>\n",
              "    </div>\n",
              "  </div>\n"
            ]
          },
          "metadata": {},
          "execution_count": 26
        }
      ]
    },
    {
      "cell_type": "code",
      "source": [
        "DFVA_df.to_csv('DFVA.csv', encoding=\"utf-8-sig\")"
      ],
      "metadata": {
        "id": "9f3YD1UARPBK"
      },
      "execution_count": null,
      "outputs": []
    },
    {
      "cell_type": "code",
      "source": [],
      "metadata": {
        "id": "isewe_RWRPF1"
      },
      "execution_count": null,
      "outputs": []
    },
    {
      "cell_type": "code",
      "source": [],
      "metadata": {
        "id": "R34btNm5RPIt"
      },
      "execution_count": null,
      "outputs": []
    },
    {
      "cell_type": "code",
      "source": [
        "import scipy.linalg as linalg"
      ],
      "metadata": {
        "id": "TUvDa4AyNgrR"
      },
      "execution_count": null,
      "outputs": []
    },
    {
      "cell_type": "code",
      "source": [
        "A = icio_2[:12,:12].astype(float)\n",
        "A"
      ],
      "metadata": {
        "id": "05IaLCi3PXVU",
        "outputId": "0f9f809b-feb5-4573-9f24-196c0812ee13",
        "colab": {
          "base_uri": "https://localhost:8080/"
        }
      },
      "execution_count": null,
      "outputs": [
        {
          "output_type": "execute_result",
          "data": {
            "text/plain": [
              "array([[    2.5,    28.2,    10.2,     0. ,     0. ,     0. ,     0. ,\n",
              "            0.2,     0.1,     0.1,     0.2,     0.1],\n",
              "       [   11. ,   559.6,   259.3,     5. ,   124.6,    29.5,     0.4,\n",
              "           19.3,    13.6,     6.1,   130.1,    60.2],\n",
              "       [    8.5,   263.3,   542.1,     1.1,    13.9,     9.9,     0. ,\n",
              "            1.7,     4.2,     0.8,    14.4,    27. ],\n",
              "       [    0. ,     0.4,     0.1,   438.9,   969.1,   150. ,     0.3,\n",
              "            0.9,     0.3,     1.2,     5. ,     1.3],\n",
              "       [    0.7,    53.2,    18.3,   457.1,  8094.6,  3401.8,     1.8,\n",
              "           88.1,    94.8,    18.1,   478. ,   297.8],\n",
              "       [    0.1,     6. ,     8.4,   240. ,  2611. ,  3490.9,     0.2,\n",
              "            8.6,    18.3,     2.7,    55.3,   104.2],\n",
              "       [    0.1,     1.3,     0.4,     2. ,     4.7,     0.8,    83. ,\n",
              "          208.8,    20. ,     4.3,    16.4,     2.9],\n",
              "       [    0.4,    21.7,     9.3,     3. ,    57.4,    16.8,    67.7,\n",
              "         1665.8,  1454.8,    14.8,   335.6,   174. ],\n",
              "       [    0.3,     9.5,    11.8,     2.7,    24.2,    23.4,   100.3,\n",
              "         1495.1,  9182.1,    10.7,   174.8,   375.5],\n",
              "       [    0.2,     2.5,     1. ,    13.9,    31.2,     4.2,     7.1,\n",
              "           23.3,     7.7,   505.2,  1251.1,   311. ],\n",
              "       [    1.8,   196.5,    63.7,    26.9,   803.2,   198.2,     9.1,\n",
              "          509.6,   285.1,   444.9,  9130. ,  5328.2],\n",
              "       [    0.7,    31.2,    39.2,    13.6,   147.1,   118.1,     4.1,\n",
              "           97.6,   243.6,   500.1,  5704.2, 17444.1]])"
            ]
          },
          "metadata": {},
          "execution_count": 9
        }
      ]
    },
    {
      "cell_type": "code",
      "source": [
        "FD = icio_2[0:12,12:16]\n",
        "FD"
      ],
      "metadata": {
        "id": "4OsGzqPIQ5i6",
        "outputId": "c90da407-27b1-4933-efb1-da3d4456b309",
        "colab": {
          "base_uri": "https://localhost:8080/"
        }
      },
      "execution_count": null,
      "outputs": [
        {
          "output_type": "execute_result",
          "data": {
            "text/plain": [
              "array([[   15.2,     0.1,     0.1,     0.2],\n",
              "       [  245.8,    39.1,    35.5,   129.5],\n",
              "       [ 1161.1,    12.8,     8.2,    28.6],\n",
              "       [    0.3,   550.9,     0.5,     6.7],\n",
              "       [   23.3,  3220.6,   237. ,   699.6],\n",
              "       [   12.2,  8961.9,    39.8,   145.6],\n",
              "       [    0.7,     2.7,   102.2,    16.3],\n",
              "       [   11.5,    32.7,  2574.7,   396.8],\n",
              "       [   16.9,    61. , 16683.7,   420.9],\n",
              "       [    1.6,    17.5,    13.6,  1637.3],\n",
              "       [   54.5,   215.1,   726.5,  9469.7],\n",
              "       [   37.3,   280. ,   408.9, 34204.8]])"
            ]
          },
          "metadata": {},
          "execution_count": 10
        }
      ]
    },
    {
      "cell_type": "code",
      "source": [
        "mtx_for_int= linalg.block_diag(np.ones((3,3)),np.ones((3,3)),np.ones((3,3)),np.ones((3,3)))\n",
        "mtx_for_tra=np.where(mtx_for_int == 1, 0, 1)\n",
        "\n",
        "mtx_for_fnl= linalg.block_diag(np.ones((3,1)),np.ones((3,1)),np.ones((3,1)),np.ones((3,1)))\n",
        "mtx_for_fnl_tra=np.where(mtx_for_fnl == 1, 0, 1)\n",
        "\n",
        "INT = icio_2[0:12,0:12].astype(float)\n",
        "\n",
        "EXIM_INT_mt = (INT*mtx_for_tra).reshape([12,12])  # 중간재 수출입\n",
        "EXGR_INT = EXIM_INT_mt.sum(axis=1).reshape([12,1])\n",
        "\n",
        "FD = icio_2[0:12,12:16].astype(float)\n",
        "\n",
        "EXIM_FNL_mt = (FD*mtx_for_fnl_tra).reshape([12,4])  # 최종재 수출입\n",
        "EXGR_FNL = EXIM_FNL_mt.sum(axis=1).reshape([12,1])\n",
        "\n",
        "# EXIM = EXIM_INT_mt + EXIM_FNL_mt  # 총수출입\n",
        "\n",
        "# Ex_all = np.concatenate((EXGR, EXGR_INT, EXGR_FNL),axis=1)\n",
        "\n",
        "\n",
        "EXIM_INT_df = pd.DataFrame(EXIM_INT_mt, columns = [['한국','한국', '한국','중국','중국','중국','미국','미국','미국','ROW','ROW','ROW'],\n",
        "                          ['농산품','공산품', '서비스','농산품','공산품', '서비스','농산품','공산품', '서비스','농산품','공산품', '서비스']],\n",
        "\n",
        "                         index=[['한국','한국', '한국','중국','중국','중국','미국','미국','미국','ROW','ROW','ROW'],\n",
        "                          ['농산품','공산품', '서비스','농산품','공산품', '서비스','농산품','공산품', '서비스','농산품','공산품', '서비스']])\n",
        "\n",
        "# EXIM_FNL_df = pd.DataFrame(EXIM_FNL_mt, columns = [['한국','중국', '미국','ROW'],\n",
        "\n",
        "#                          index=[['한국','한국', '한국','중국','중국','중국','ROW','ROW','ROW'],\n",
        "#                           ['농산품','공산품', '서비스','농산품','공산품', '서비스','농산품','공산품', '서비스']])\n",
        "EXIM_INT_df\n",
        "FD\n",
        "\n",
        "# Ex_all_df = pd.DataFrame(Ex_all, columns = ['총수출', '중간재수출', '최종재수출'],\n",
        "#                          index=[['한국','한국', '한국','중국','중국','중국','ROW','ROW','ROW'],\n",
        "#                           ['농산품','공산품', '서비스','농산품','공산품', '서비스','농산품','공산품', '서비스']])\n",
        "# Ex_all_df\n",
        "# print('중간재 수출 : \\n', EXGR_INT, '\\n')\n",
        "# print('최종재 수출 : \\n', EXGR_FNL, '\\n')\n",
        "# print('총수출 : \\n', EXGR, '\\n')"
      ],
      "metadata": {
        "id": "M2e69LcT_59t",
        "outputId": "9cf36b57-d870-436d-e906-36edc2f6f6e3",
        "colab": {
          "base_uri": "https://localhost:8080/"
        }
      },
      "execution_count": null,
      "outputs": [
        {
          "output_type": "execute_result",
          "data": {
            "text/plain": [
              "array([[   15.2,     0.1,     0.1,     0.2],\n",
              "       [  245.8,    39.1,    35.5,   129.5],\n",
              "       [ 1161.1,    12.8,     8.2,    28.6],\n",
              "       [    0.3,   550.9,     0.5,     6.7],\n",
              "       [   23.3,  3220.6,   237. ,   699.6],\n",
              "       [   12.2,  8961.9,    39.8,   145.6],\n",
              "       [    0.7,     2.7,   102.2,    16.3],\n",
              "       [   11.5,    32.7,  2574.7,   396.8],\n",
              "       [   16.9,    61. , 16683.7,   420.9],\n",
              "       [    1.6,    17.5,    13.6,  1637.3],\n",
              "       [   54.5,   215.1,   726.5,  9469.7],\n",
              "       [   37.3,   280. ,   408.9, 34204.8]])"
            ]
          },
          "metadata": {},
          "execution_count": 11
        }
      ]
    },
    {
      "cell_type": "code",
      "source": [
        "aa=EXIM_FNL_mt.sum(axis=1)\n",
        "aa"
      ],
      "metadata": {
        "id": "XMS99gh6fRx2",
        "outputId": "31c83920-b913-4d66-a412-3f3547cd2ad1",
        "colab": {
          "base_uri": "https://localhost:8080/"
        }
      },
      "execution_count": null,
      "outputs": [
        {
          "output_type": "execute_result",
          "data": {
            "text/plain": [
              "array([  0.4, 204.1,  49.6,   7.5, 959.9, 197.6,  19.7, 441. , 498.8,\n",
              "        32.7, 996.1, 726.2])"
            ]
          },
          "metadata": {},
          "execution_count": 12
        }
      ]
    },
    {
      "cell_type": "code",
      "source": [
        "EXIM_FNL_mt.shape"
      ],
      "metadata": {
        "id": "TY3iMvXwf71_",
        "outputId": "758646a8-7e9c-427a-fa3d-104aea2c133f",
        "colab": {
          "base_uri": "https://localhost:8080/"
        }
      },
      "execution_count": null,
      "outputs": [
        {
          "output_type": "execute_result",
          "data": {
            "text/plain": [
              "(12, 4)"
            ]
          },
          "metadata": {},
          "execution_count": 13
        }
      ]
    },
    {
      "cell_type": "code",
      "source": [
        "# 국가별 제품별 수출입\n",
        "# 중간재\n",
        "EXGR_INT = EXIM_INT_mt.sum(axis=1).reshape([12,1]) # 중간재 수출\n",
        "IMGR_INT = EXIM_INT_mt.sum(axis=0).reshape([12,1]) # 중간재 수입\n",
        "\n",
        "EXGR_FNL = EXIM_FNL_mt.sum(axis=1).reshape([12,1]) # 최종재 수출\n",
        "IMGR_FNL = EXIM_FNL_mt.sum(axis=0).reshape([4,1]) # 최종재 수입\n",
        "\n",
        "EXGR = EXIM.sum(axis=1).reshape([12,1])\n",
        "IMGR = EXIM.sum(axis=0).reshape([12,1])\n",
        "\n",
        "EXGR_IMGR_vec = np.hstack((EXGR_INT,EXGR_FNL,IMGR_INT,IMGR_FNL, EXGR, IMGR))\n",
        "EXGR_IMGR_vec\n",
        "\n",
        "EXGR_IMGR_vec_df = pd.DataFrame(EXGR_IMGR_vec, columns = ['EXGR_INT','EXGR_FNL', 'IMGR_INT','IMGR_FNL','EXGR','IMGR'],\n",
        "\n",
        "                         index=[['한국','한국', '한국','중국','중국','중국','미국','미국','미국','ROW','ROW','ROW'],\n",
        "                          ['농산품','공산품', '서비스','농산품','공산품', '서비스','농산품','공산품', '서비스','농산품','공산품', '서비스']])\n",
        "EXGR_IMGR_vec_df"
      ],
      "metadata": {
        "id": "IKoXonhrMx-p",
        "outputId": "e2ba6c72-3c78-40c8-9c4e-44589b40dbae",
        "colab": {
          "base_uri": "https://localhost:8080/",
          "height": 247
        }
      },
      "execution_count": null,
      "outputs": [
        {
          "output_type": "error",
          "ename": "NameError",
          "evalue": "ignored",
          "traceback": [
            "\u001b[0;31m---------------------------------------------------------------------------\u001b[0m",
            "\u001b[0;31mNameError\u001b[0m                                 Traceback (most recent call last)",
            "\u001b[0;32m<ipython-input-14-59607f69ff26>\u001b[0m in \u001b[0;36m<cell line: 9>\u001b[0;34m()\u001b[0m\n\u001b[1;32m      7\u001b[0m \u001b[0mIMGR_FNL\u001b[0m \u001b[0;34m=\u001b[0m \u001b[0mEXIM_FNL_mt\u001b[0m\u001b[0;34m.\u001b[0m\u001b[0msum\u001b[0m\u001b[0;34m(\u001b[0m\u001b[0maxis\u001b[0m\u001b[0;34m=\u001b[0m\u001b[0;36m0\u001b[0m\u001b[0;34m)\u001b[0m\u001b[0;34m.\u001b[0m\u001b[0mreshape\u001b[0m\u001b[0;34m(\u001b[0m\u001b[0;34m[\u001b[0m\u001b[0;36m4\u001b[0m\u001b[0;34m,\u001b[0m\u001b[0;36m1\u001b[0m\u001b[0;34m]\u001b[0m\u001b[0;34m)\u001b[0m \u001b[0;31m# 최종재 수입\u001b[0m\u001b[0;34m\u001b[0m\u001b[0;34m\u001b[0m\u001b[0m\n\u001b[1;32m      8\u001b[0m \u001b[0;34m\u001b[0m\u001b[0m\n\u001b[0;32m----> 9\u001b[0;31m \u001b[0mEXGR\u001b[0m \u001b[0;34m=\u001b[0m \u001b[0mEXIM\u001b[0m\u001b[0;34m.\u001b[0m\u001b[0msum\u001b[0m\u001b[0;34m(\u001b[0m\u001b[0maxis\u001b[0m\u001b[0;34m=\u001b[0m\u001b[0;36m1\u001b[0m\u001b[0;34m)\u001b[0m\u001b[0;34m.\u001b[0m\u001b[0mreshape\u001b[0m\u001b[0;34m(\u001b[0m\u001b[0;34m[\u001b[0m\u001b[0;36m12\u001b[0m\u001b[0;34m,\u001b[0m\u001b[0;36m1\u001b[0m\u001b[0;34m]\u001b[0m\u001b[0;34m)\u001b[0m\u001b[0;34m\u001b[0m\u001b[0;34m\u001b[0m\u001b[0m\n\u001b[0m\u001b[1;32m     10\u001b[0m \u001b[0mIMGR\u001b[0m \u001b[0;34m=\u001b[0m \u001b[0mEXIM\u001b[0m\u001b[0;34m.\u001b[0m\u001b[0msum\u001b[0m\u001b[0;34m(\u001b[0m\u001b[0maxis\u001b[0m\u001b[0;34m=\u001b[0m\u001b[0;36m0\u001b[0m\u001b[0;34m)\u001b[0m\u001b[0;34m.\u001b[0m\u001b[0mreshape\u001b[0m\u001b[0;34m(\u001b[0m\u001b[0;34m[\u001b[0m\u001b[0;36m12\u001b[0m\u001b[0;34m,\u001b[0m\u001b[0;36m1\u001b[0m\u001b[0;34m]\u001b[0m\u001b[0;34m)\u001b[0m\u001b[0;34m\u001b[0m\u001b[0;34m\u001b[0m\u001b[0m\n\u001b[1;32m     11\u001b[0m \u001b[0;34m\u001b[0m\u001b[0m\n",
            "\u001b[0;31mNameError\u001b[0m: name 'EXIM' is not defined"
          ]
        }
      ]
    },
    {
      "cell_type": "code",
      "source": [
        "# 경상수지 및 파트너 비중(산업을 나눌 필요가 없으므로 Trade_matrix를 국가별,전산업으로 변환)\n",
        "Mt_cd_all = np.array([[1,1,1,0,0,0,0,0,0],\n",
        "                     [0,0,0,1,1,1,0,0,0],\n",
        "                     [0,0,0,0,0,0,1,1,1]])\n",
        "trade_1sec = (Mt_cd_all@EXIM)@Mt_cd_all.T\n",
        "trade_1sec  # trade 매트릭스\n",
        "exp_1sec = trade_1sec.sum(axis=1).reshape([1,3])\n",
        "imp_1sec = trade_1sec.sum(axis=0).reshape([3,1])\n",
        "BALGR = (exp_1sec.T - imp_1sec).reshape([1,3]) #경상수지(Gross trade balance)\n",
        "\n",
        "BALGR_df = pd.DataFrame(BALGR, columns = ['한국','중국', 'ROW'],\n",
        "\n",
        "                         index=['BALGR'])\n",
        "\n",
        "exp_1sec_con = trade_1sec.reshape([3,3])/np.tile((exp_1sec.reshape([1,3]))[1,3])  #전산업, 국가별 수출 매트릭스\n",
        "\n",
        "exp_1sec_con"
      ],
      "metadata": {
        "id": "YK_ywHDWMyGB"
      },
      "execution_count": null,
      "outputs": []
    },
    {
      "cell_type": "code",
      "source": [
        "aa=np.tile(exp_1sec[1,3])"
      ],
      "metadata": {
        "id": "Ay85SS8Bjedm",
        "outputId": "6967fd79-baef-42a1-dc66-133d0b505613",
        "colab": {
          "base_uri": "https://localhost:8080/",
          "height": 178
        }
      },
      "execution_count": null,
      "outputs": [
        {
          "output_type": "error",
          "ename": "IndexError",
          "evalue": "ignored",
          "traceback": [
            "\u001b[0;31m---------------------------------------------------------------------------\u001b[0m",
            "\u001b[0;31mIndexError\u001b[0m                                Traceback (most recent call last)",
            "\u001b[0;32m<ipython-input-100-8d4a07ff0f8a>\u001b[0m in \u001b[0;36m<cell line: 1>\u001b[0;34m()\u001b[0m\n\u001b[0;32m----> 1\u001b[0;31m \u001b[0maa\u001b[0m\u001b[0;34m=\u001b[0m\u001b[0mnp\u001b[0m\u001b[0;34m.\u001b[0m\u001b[0mtile\u001b[0m\u001b[0;34m(\u001b[0m\u001b[0mexp_1sec\u001b[0m\u001b[0;34m[\u001b[0m\u001b[0;36m1\u001b[0m\u001b[0;34m,\u001b[0m\u001b[0;36m3\u001b[0m\u001b[0;34m]\u001b[0m\u001b[0;34m)\u001b[0m\u001b[0;34m\u001b[0m\u001b[0;34m\u001b[0m\u001b[0m\n\u001b[0m",
            "\u001b[0;31mIndexError\u001b[0m: index 1 is out of bounds for axis 0 with size 1"
          ]
        }
      ]
    },
    {
      "cell_type": "code",
      "source": [
        "exp_1sec"
      ],
      "metadata": {
        "id": "wzXa3ce1jjQK",
        "outputId": "737a2f5e-cca5-460a-b2da-33a34f884318",
        "colab": {
          "base_uri": "https://localhost:8080/"
        }
      },
      "execution_count": null,
      "outputs": [
        {
          "output_type": "execute_result",
          "data": {
            "text/plain": [
              "array([[ 5818., 24630., 24898.]])"
            ]
          },
          "metadata": {},
          "execution_count": 101
        }
      ]
    },
    {
      "cell_type": "code",
      "source": [
        "exp_1sec.shape"
      ],
      "metadata": {
        "id": "QRIBcBVojI1V",
        "outputId": "fee93cbe-7dc3-45ca-9a9e-63a836e246bd",
        "colab": {
          "base_uri": "https://localhost:8080/"
        }
      },
      "execution_count": null,
      "outputs": [
        {
          "output_type": "execute_result",
          "data": {
            "text/plain": [
              "(1, 3)"
            ]
          },
          "metadata": {},
          "execution_count": 94
        }
      ]
    },
    {
      "cell_type": "code",
      "source": [
        "\n",
        "# IMGR_INT_mt = (INT*mtx_for_tra).reshape([9,9])  # 중간재 수입\n",
        "# IMGR_INT = IMGR_INT_mt.sum(axis=0).reshape([1,9])\n",
        "\n",
        "# IMGR_FNL_mt = (FD*mtx_for_tra).reshape([9,9])  # 최종재 수입\n",
        "# IMGR_FNL = IMGR_FNL_mt.sum(axis=0).reshape([1,9])\n",
        "\n",
        "# IMGR = IMGR_INT + IMGR_FNL\n",
        "\n",
        "# print(IMGR_INT_mt)\n",
        "\n",
        "# Im_all = np.concatenate((IMGR, IMGR_INT, IMGR_FNL),axis=0).T\n",
        "\n",
        "# Im_all_df = pd.DataFrame(Im_all, columns = ['총수입', '중간재수입', '최종재수입'],\n",
        "#                          index=[['한국','한국', '한국','중국','중국','중국','ROW','ROW','ROW'],\n",
        "#                           ['농산품','공산품', '서비스','농산품','공산품', '서비스','농산품','공산품', '서비스']])\n",
        "# Im_all_df\n",
        "\n",
        "# # print('중간재 수입 : \\n', IMGR_INT.T, '\\n')\n",
        "# # print('최종재 수입 : \\n', IMGR_FNL.T, '\\n')\n",
        "# # print('총수입 : \\n', IMGR.T, '\\n')"
      ],
      "metadata": {
        "id": "grc1h7B3QUxI"
      },
      "execution_count": null,
      "outputs": []
    },
    {
      "cell_type": "code",
      "source": [
        "Mtx = np.zeros((18,3195)) # 부문통합을 위한 코드가 많을 경우 상기의 코드를 수작업으로 미리 하는 것이 쉽자 않으므로 반복문을 통해 3x33 임시코드 만들기\n",
        "cd_3 = cd_for_itr[:,1]\n",
        "cd_33 = cd_for_itr[:,0]\n",
        "row=cd_3\n",
        "col=cd_33\n",
        "for i, j in zip(row,col):\n",
        "  Mtx[i-1,j-1] = 1\n",
        "print(Mtx)"
      ],
      "metadata": {
        "id": "GdSKaueLdDOn",
        "outputId": "27dda8d5-8985-4561-806e-c80112c0939c",
        "colab": {
          "base_uri": "https://localhost:8080/"
        }
      },
      "execution_count": null,
      "outputs": [
        {
          "output_type": "stream",
          "name": "stdout",
          "text": [
            "[[0. 0. 0. ... 0. 0. 0.]\n",
            " [0. 0. 0. ... 0. 0. 0.]\n",
            " [0. 0. 0. ... 0. 0. 0.]\n",
            " ...\n",
            " [1. 1. 0. ... 0. 0. 0.]\n",
            " [0. 0. 1. ... 0. 0. 0.]\n",
            " [0. 0. 0. ... 0. 0. 0.]]\n"
          ]
        }
      ]
    },
    {
      "cell_type": "code",
      "source": [
        "code=Mtx\n",
        "code.shape"
      ],
      "metadata": {
        "id": "1gXI65U3K2hG",
        "outputId": "27fbb014-cc7e-422a-c4ca-2ae7389c6563",
        "colab": {
          "base_uri": "https://localhost:8080/"
        }
      },
      "execution_count": null,
      "outputs": [
        {
          "output_type": "execute_result",
          "data": {
            "text/plain": [
              "(18, 3195)"
            ]
          },
          "metadata": {},
          "execution_count": 135
        }
      ]
    },
    {
      "cell_type": "code",
      "source": [
        "nae_tot_row = code@icio_2[0:3195,0:3195] # 중간투입(수요)의 행을 18부문으로 만들기\n",
        "nae_tot_row.shape"
      ],
      "metadata": {
        "id": "hwAN1N7qGAtx",
        "outputId": "c7669e4c-4db6-43b1-ae4e-d321da888540",
        "colab": {
          "base_uri": "https://localhost:8080/",
          "height": 191
        }
      },
      "execution_count": null,
      "outputs": [
        {
          "output_type": "error",
          "ename": "ValueError",
          "evalue": "ignored",
          "traceback": [
            "\u001b[0;31m---------------------------------------------------------------------------\u001b[0m",
            "\u001b[0;31mValueError\u001b[0m                                Traceback (most recent call last)",
            "\u001b[0;32m<ipython-input-136-5cfe59861c52>\u001b[0m in \u001b[0;36m<cell line: 1>\u001b[0;34m()\u001b[0m\n\u001b[0;32m----> 1\u001b[0;31m \u001b[0mnae_tot_row\u001b[0m \u001b[0;34m=\u001b[0m \u001b[0mcode\u001b[0m\u001b[0;34m@\u001b[0m\u001b[0micio_2\u001b[0m\u001b[0;34m[\u001b[0m\u001b[0;36m0\u001b[0m\u001b[0;34m:\u001b[0m\u001b[0;36m3195\u001b[0m\u001b[0;34m,\u001b[0m\u001b[0;36m0\u001b[0m\u001b[0;34m:\u001b[0m\u001b[0;36m3195\u001b[0m\u001b[0;34m]\u001b[0m \u001b[0;31m# 중간투입(수요)의 행을 18부문으로 만들기\u001b[0m\u001b[0;34m\u001b[0m\u001b[0;34m\u001b[0m\u001b[0m\n\u001b[0m\u001b[1;32m      2\u001b[0m \u001b[0mnae_tot_row\u001b[0m\u001b[0;34m.\u001b[0m\u001b[0mshape\u001b[0m\u001b[0;34m\u001b[0m\u001b[0;34m\u001b[0m\u001b[0m\n",
            "\u001b[0;31mValueError\u001b[0m: matmul: Input operand 1 has a mismatch in its core dimension 0, with gufunc signature (n?,k),(k,m?)->(n?,m?) (size 26 is different from 3195)"
          ]
        }
      ]
    },
    {
      "cell_type": "code",
      "source": [
        "nae_tot_col = nae_tot_row@code.T  # 수작업한 code 이용\n",
        "nae_tot_col.sum()"
      ],
      "metadata": {
        "id": "gJ-wf5Z5GAwF"
      },
      "execution_count": null,
      "outputs": []
    },
    {
      "cell_type": "code",
      "source": [
        "url_cdtx = \"https://raw.githubusercontent.com/Tom-Jung/legendary-funicular/main/cd_tax.csv\"  #코드매치 파일 불러오기\n",
        "cd_tx = pd.read_csv(url_cdtx)\n",
        "cd_tx.shape"
      ],
      "metadata": {
        "id": "U2KVZnyLGAyV"
      },
      "execution_count": null,
      "outputs": []
    },
    {
      "cell_type": "code",
      "source": [
        "url_cns = \"https://raw.githubusercontent.com/Tom-Jung/legendary-funicular/main/cd_cons.csv\"  #코드매치 파일 불러오기\n",
        "cd_cns = pd.read_csv(url_cns)\n",
        "cd_cns.shape"
      ],
      "metadata": {
        "id": "JQxUsF6DiW7A"
      },
      "execution_count": null,
      "outputs": []
    },
    {
      "cell_type": "code",
      "source": [
        "# Mtx_tx= np.zeros((6,3195)) # 부문통합을 위한 코드가 많을 경우 상기의 코드를 수작업으로 미리 하는 것이 쉽자 않으므로 반복문을 통해 3x33 임시코드 만들기\n",
        "# cd_3 = cd_for_itr_tx[:,1]\n",
        "# cd_33 = cd_for_itr_tx[:,0]\n",
        "# row=cd_3\n",
        "# col=cd_33\n",
        "# for i, j in zip(row,col):\n",
        "#   Mtx_tx[i-1,j-1] = 1\n",
        "# print(Mtx_tx)"
      ],
      "metadata": {
        "id": "jzhKiWaFKZJG"
      },
      "execution_count": null,
      "outputs": []
    },
    {
      "cell_type": "code",
      "source": [
        "ccdd_cns = cd_cns.to_numpy()\n",
        "cd_for_itr_cns = ccdd_cns[:,1:]\n",
        "# cd_for_itr_tx"
      ],
      "metadata": {
        "id": "GqX0Pk4vprXZ"
      },
      "execution_count": null,
      "outputs": []
    },
    {
      "cell_type": "code",
      "source": [
        "Mtx_cns= np.zeros((6,67)) # 부문통합을 위한 코드가 많을 경우 상기의 코드를 수작업으로 미리 하는 것이 쉽자 않으므로 반복문을 통해 3x33 임시코드 만들기\n",
        "cd_3 = cd_for_itr_cns[:,1]\n",
        "cd_33 = cd_for_itr_cns[:,0]\n",
        "row=cd_3\n",
        "col=cd_33\n",
        "for i, j in zip(row,col):\n",
        "  Mtx_cns[i-1,j-1] = 1\n",
        "print(Mtx_cns)"
      ],
      "metadata": {
        "id": "J3tdCNxcprdM"
      },
      "execution_count": null,
      "outputs": []
    },
    {
      "cell_type": "code",
      "source": [
        "# code_tx = Mtx_tx\n",
        "code_cns = Mtx_cns\n",
        "code_cns.shape"
      ],
      "metadata": {
        "id": "PraMpI0AKZL1"
      },
      "execution_count": null,
      "outputs": []
    },
    {
      "cell_type": "code",
      "source": [
        "nae_tx = code_cns@icio_2[3195:3262,0:3195]@code.T # 세금 행을 6부문으로 만들기\n",
        "nae_tx"
      ],
      "metadata": {
        "id": "5c-zt7MIK-xv"
      },
      "execution_count": null,
      "outputs": []
    },
    {
      "cell_type": "code",
      "source": [
        "va_row = icio_2[3262:,0:3195]@code.T # 중투합, 피용자보수, 영업잉여, 고정자본소모, 기타생산세, 부가가치계, 산출액(7X3)\n",
        "va_row"
      ],
      "metadata": {
        "id": "qztNjQCtK-0Y"
      },
      "execution_count": null,
      "outputs": []
    },
    {
      "cell_type": "code",
      "source": [
        "url_cdfd = \"https://raw.githubusercontent.com/Tom-Jung/legendary-funicular/main/cd_fd.csv\"  #코드매치 파일 불러오기\n",
        "cd_fd = pd.read_csv(url_cdfd)\n",
        "cd_fd.head()"
      ],
      "metadata": {
        "id": "TveEEi60VWLR"
      },
      "execution_count": null,
      "outputs": []
    },
    {
      "cell_type": "code",
      "source": [
        "ccdd_fd = cd_fd.to_numpy()\n",
        "cd_for_itr_fd = ccdd_fd[:,1:]\n",
        "cd_for_itr_fd.shape"
      ],
      "metadata": {
        "id": "lyL9UFZoVmBn"
      },
      "execution_count": null,
      "outputs": []
    },
    {
      "cell_type": "code",
      "source": [
        "Mtx_fd= np.zeros((18,402)) # 부문통합을 위한 코드가 많을 경우 상기의 코드를 수작업으로 미리 하는 것이 쉽자 않으므로 반복문을 통해 3x33 임시코드 만들기\n",
        "cd_3 = cd_for_itr_fd[:,1]\n",
        "cd_33 = cd_for_itr_fd[:,0]\n",
        "row=cd_3\n",
        "col=cd_33\n",
        "for i, j in zip(row,col):\n",
        "  Mtx_fd[i-1,j-1] = 1\n",
        "print(Mtx_fd)"
      ],
      "metadata": {
        "id": "-DfyrxNAVmEF"
      },
      "execution_count": null,
      "outputs": []
    },
    {
      "cell_type": "code",
      "source": [
        "code_fd = Mtx_fd\n",
        "code_fd.shape"
      ],
      "metadata": {
        "id": "DCfHIGyDVmGS"
      },
      "execution_count": null,
      "outputs": []
    },
    {
      "cell_type": "code",
      "source": [
        "fd = code@icio_2[0:3195,3195:3597]@code_fd.T # 최종수요를 6부문으로 만들기\n",
        "fd.shape"
      ],
      "metadata": {
        "id": "Q0YhpDKhVmIY"
      },
      "execution_count": null,
      "outputs": []
    },
    {
      "cell_type": "code",
      "source": [
        "fd_tx = code_cns@icio_2[3195:3262,3195:3597]@code_fd.T\n",
        "fd_tx.shape"
      ],
      "metadata": {
        "id": "NJdAdoVPtVq4"
      },
      "execution_count": null,
      "outputs": []
    },
    {
      "cell_type": "code",
      "source": [
        "fd_row=np.concatenate((fd,fd_tx, np.zeros((2,18))))\n",
        "fd_row.shape"
      ],
      "metadata": {
        "id": "LWL1uNCO_A95"
      },
      "execution_count": null,
      "outputs": []
    },
    {
      "cell_type": "code",
      "source": [
        "icio_row = np.concatenate((nae_tot_col,nae_tx, va_row))\n",
        "icio_row.shape"
      ],
      "metadata": {
        "id": "ydBppFx_VmKX"
      },
      "execution_count": null,
      "outputs": []
    },
    {
      "cell_type": "code",
      "source": [
        "icio_col = np.concatenate((icio_row, fd_row), axis=1)"
      ],
      "metadata": {
        "id": "9AmJvsmzVmMM"
      },
      "execution_count": null,
      "outputs": []
    },
    {
      "cell_type": "code",
      "source": [
        "icio_col_sm = icio_col.sum(axis=1).reshape([26,1]) # 충수요계(산출액과 동일)"
      ],
      "metadata": {
        "id": "8e_Mqf7KVmOa"
      },
      "execution_count": null,
      "outputs": []
    },
    {
      "cell_type": "code",
      "source": [
        "icio_f = np.concatenate((icio_col, icio_col_sm), axis=1).astype(float)"
      ],
      "metadata": {
        "id": "Ic43tRaAVmQd"
      },
      "execution_count": null,
      "outputs": []
    },
    {
      "cell_type": "code",
      "source": [
        "ICIO_df = pd.DataFrame(icio_f, columns = [['KOR', 'KOR', 'KOR', 'CHN', 'CHN', 'CHN', 'USA', 'USA', 'USA', 'JPN', 'JPN','JPN',\n",
        "                                             'EU', 'EU', 'EU', 'ROW', 'ROW', 'ROW',\n",
        "                                            'KOR', 'KOR', 'KOR', 'CHN', 'CHN', 'CHN', 'USA', 'USA', 'USA', 'JPN', 'JPN','JPN',\n",
        "                                             'EU', 'EU', 'EU', 'ROW', 'ROW', 'ROW', 'Total'],\n",
        "\n",
        "                                      ['Agr', 'Manu', 'Serv', 'Agr', 'Manu', 'Serv','Agr', 'Manu', 'Serv', 'Agr', 'Manu', 'Serv','Agr', 'Manu', 'Serv','Agr', 'Manu', 'Serv',\n",
        "                                        'Cons', 'Inv','Exp','Cons', 'Inv','Exp','Cons', 'Inv','Exp','Cons', 'Inv','Exp','Cons', 'Inv','Exp','Cons', 'Inv','Exp','Tot']],\n",
        "\n",
        "                                    index=[['KOR', 'KOR', 'KOR', 'CHN', 'CHN', 'CHN', 'USA', 'USA', 'USA', 'JPN', 'JPN','JPN',\n",
        "                                             'EU', 'EU', 'EU', 'ROW', 'ROW', 'ROW','Tax_KOR','Tax_CHN','Tax_USA','Tax_JPN','Tax_EU','Tax_ROW','VA','CT'],\n",
        "                                           ['Agr', 'Manu', 'Serv', 'Agr', 'Manu', 'Serv','Agr', 'Manu', 'Serv', 'Agr', 'Manu', 'Serv',\n",
        "                                            'Agr', 'Manu', 'Serv','Agr', 'Manu', 'Serv','Tax_KOR','Tax_CHN','Tax_USA','Tax_JPN','Tax_EU','Tax_ROW','VA','Output']])\n",
        "ICIO_df.index.names=['Country', 'Secs']"
      ],
      "metadata": {
        "id": "rtItKkheBmQm"
      },
      "execution_count": null,
      "outputs": []
    },
    {
      "cell_type": "code",
      "source": [
        "ICIO_df.to_csv('ICIO_6cons_3secs.csv')"
      ],
      "metadata": {
        "id": "3Rq2EJgr1YSW"
      },
      "execution_count": null,
      "outputs": []
    },
    {
      "cell_type": "code",
      "source": [
        "ICIO_df_show = pd.DataFrame(icio_f.round(1), columns = [['KOR', 'KOR', 'KOR', 'CHN', 'CHN', 'CHN', 'USA', 'USA', 'USA', 'JPN', 'JPN','JPN',\n",
        "                                             'EU', 'EU', 'EU', 'ROW', 'ROW', 'ROW',\n",
        "                                            'KOR', 'KOR', 'KOR', 'CHN', 'CHN', 'CHN', 'USA', 'USA', 'USA', 'JPN', 'JPN','JPN',\n",
        "                                             'EU', 'EU', 'EU', 'ROW', 'ROW', 'ROW', 'Total'],\n",
        "\n",
        "                                      ['Agr', 'Manu', 'Serv', 'Agr', 'Manu', 'Serv','Agr', 'Manu', 'Serv', 'Agr', 'Manu', 'Serv','Agr', 'Manu', 'Serv','Agr', 'Manu', 'Serv',\n",
        "                                        'Cons', 'Inv','Exp','Cons', 'Inv','Exp','Cons', 'Inv','Exp','Cons', 'Inv','Exp','Cons', 'Inv','Exp','Cons', 'Inv','Exp','Tot']],\n",
        "\n",
        "                                    index=[['KOR', 'KOR', 'KOR', 'CHN', 'CHN', 'CHN', 'USA', 'USA', 'USA', 'JPN', 'JPN','JPN',\n",
        "                                             'EU', 'EU', 'EU', 'ROW', 'ROW', 'ROW','Tax_KOR','Tax_CHN','Tax_USA','Tax_JPN','Tax_EU','Tax_ROW','VA','CT'],\n",
        "                                           ['Agr', 'Manu', 'Serv', 'Agr', 'Manu', 'Serv','Agr', 'Manu', 'Serv', 'Agr', 'Manu', 'Serv',\n",
        "                                            'Agr', 'Manu', 'Serv','Agr', 'Manu', 'Serv','Tax_KOR','Tax_CHN','Tax_USA','Tax_JPN','Tax_EU','Tax_ROW','VA','Output']])\n",
        "ICIO_df.index.names=['Country', 'Secs']"
      ],
      "metadata": {
        "id": "KTuvCzjHWf4s"
      },
      "execution_count": null,
      "outputs": []
    },
    {
      "cell_type": "code",
      "source": [
        "ICIO_df_show"
      ],
      "metadata": {
        "id": "MkTMOiEJF1XB"
      },
      "execution_count": null,
      "outputs": []
    },
    {
      "cell_type": "code",
      "source": [],
      "metadata": {
        "id": "BdNvKl_JdRX0"
      },
      "execution_count": null,
      "outputs": []
    }
  ]
}