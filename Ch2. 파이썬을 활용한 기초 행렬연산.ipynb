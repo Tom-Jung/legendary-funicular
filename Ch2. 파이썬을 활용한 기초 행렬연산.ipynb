{
  "nbformat": 4,
  "nbformat_minor": 0,
  "metadata": {
    "colab": {
      "provenance": [],
      "mount_file_id": "https://github.com/Tom-Jung/legendary-funicular/blob/main/IO_tables.ipynb",
      "authorship_tag": "ABX9TyNlR62RbWEmqAhfSntYJWOX",
      "include_colab_link": true
    },
    "kernelspec": {
      "name": "python3",
      "display_name": "Python 3"
    },
    "language_info": {
      "name": "python"
    }
  },
  "cells": [
    {
      "cell_type": "markdown",
      "metadata": {
        "id": "view-in-github",
        "colab_type": "text"
      },
      "source": [
        "<a href=\"https://colab.research.google.com/github/Tom-Jung/legendary-funicular/blob/main/Ch2.%20%ED%8C%8C%EC%9D%B4%EC%8D%AC%EC%9D%84%20%ED%99%9C%EC%9A%A9%ED%95%9C%20%EA%B8%B0%EC%B4%88%20%ED%96%89%EB%A0%AC%EC%97%B0%EC%82%B0.ipynb\" target=\"_parent\"><img src=\"https://colab.research.google.com/assets/colab-badge.svg\" alt=\"Open In Colab\"/></a>"
      ]
    },
    {
      "cell_type": "code",
      "source": [
        "import numpy as np   # Numpy import\n",
        "import pandas as pd  # Pandas import"
      ],
      "metadata": {
        "id": "TR7JvW8CxBFT"
      },
      "execution_count": 3,
      "outputs": []
    },
    {
      "cell_type": "code",
      "source": [
        "np.set_printoptions(precision=3,suppress=True) # 결과를 소수 3자리까지만 보여주는 옵션"
      ],
      "metadata": {
        "id": "tNk6pdHJjWMg"
      },
      "execution_count": 4,
      "outputs": []
    },
    {
      "cell_type": "code",
      "source": [
        "# A = np.array([[2, 5, 4],\n",
        "#               [1, 3, 5],\n",
        "#               [8, 9, 0]])\n",
        "\n",
        "# B =np.array([[1, 5, 0],\n",
        "#              [3, 8, 3],\n",
        "#              [4, 2, 7]])"
      ],
      "metadata": {
        "id": "a6LBZIDAJ-NC"
      },
      "execution_count": 5,
      "outputs": []
    },
    {
      "cell_type": "markdown",
      "source": [
        "# 데이터 불러오기"
      ],
      "metadata": {
        "id": "t6OZZDBbHTR1"
      }
    },
    {
      "cell_type": "code",
      "source": [
        "test_folder = pd.read_csv('/content/Test_Matrix.csv') # Colab폴더에서 Pandas의 DataFrame으로 불러오기\n",
        "t_url = \"https://raw.githubusercontent.com/Tom-Jung/legendary-funicular/main/Test_Matrix.csv\" # url\n",
        "test_url = pd.read_csv(t_url)  # url을 DataFrame으로 불러오기\n",
        "print('<폴더에서 불러오기>\\n-----------------\\n', test_folder,'\\n')\n",
        "print('<url로 불러오기>\\n-----------------\\n', test_url)"
      ],
      "metadata": {
        "id": "Ot2XRSGAJ9Ro",
        "outputId": "8f89624a-ece6-4144-e107-958c3a69178b",
        "colab": {
          "base_uri": "https://localhost:8080/",
          "height": 396
        }
      },
      "execution_count": 6,
      "outputs": [
        {
          "output_type": "error",
          "ename": "FileNotFoundError",
          "evalue": "ignored",
          "traceback": [
            "\u001b[0;31m---------------------------------------------------------------------------\u001b[0m",
            "\u001b[0;31mFileNotFoundError\u001b[0m                         Traceback (most recent call last)",
            "\u001b[0;32m<ipython-input-6-16ccdff8d802>\u001b[0m in \u001b[0;36m<cell line: 1>\u001b[0;34m()\u001b[0m\n\u001b[0;32m----> 1\u001b[0;31m \u001b[0mtest_folder\u001b[0m \u001b[0;34m=\u001b[0m \u001b[0mpd\u001b[0m\u001b[0;34m.\u001b[0m\u001b[0mread_csv\u001b[0m\u001b[0;34m(\u001b[0m\u001b[0;34m'/content/Test_Matrix.csv'\u001b[0m\u001b[0;34m)\u001b[0m \u001b[0;31m# Colab폴더에서 Pandas의 DataFrame으로 불러오기\u001b[0m\u001b[0;34m\u001b[0m\u001b[0;34m\u001b[0m\u001b[0m\n\u001b[0m\u001b[1;32m      2\u001b[0m \u001b[0mt_url\u001b[0m \u001b[0;34m=\u001b[0m \u001b[0;34m\"https://raw.githubusercontent.com/Tom-Jung/legendary-funicular/main/Test_Matrix.csv\"\u001b[0m \u001b[0;31m# url\u001b[0m\u001b[0;34m\u001b[0m\u001b[0;34m\u001b[0m\u001b[0m\n\u001b[1;32m      3\u001b[0m \u001b[0mtest_url\u001b[0m \u001b[0;34m=\u001b[0m \u001b[0mpd\u001b[0m\u001b[0;34m.\u001b[0m\u001b[0mread_csv\u001b[0m\u001b[0;34m(\u001b[0m\u001b[0mt_url\u001b[0m\u001b[0;34m)\u001b[0m  \u001b[0;31m# url을 DataFrame으로 불러오기\u001b[0m\u001b[0;34m\u001b[0m\u001b[0;34m\u001b[0m\u001b[0m\n\u001b[1;32m      4\u001b[0m \u001b[0mprint\u001b[0m\u001b[0;34m(\u001b[0m\u001b[0;34m'<폴더에서 불러오기>\\n-----------------\\n'\u001b[0m\u001b[0;34m,\u001b[0m \u001b[0mtest_folder\u001b[0m\u001b[0;34m,\u001b[0m\u001b[0;34m'\\n'\u001b[0m\u001b[0;34m)\u001b[0m\u001b[0;34m\u001b[0m\u001b[0;34m\u001b[0m\u001b[0m\n\u001b[1;32m      5\u001b[0m \u001b[0mprint\u001b[0m\u001b[0;34m(\u001b[0m\u001b[0;34m'<url로 불러오기>\\n-----------------\\n'\u001b[0m\u001b[0;34m,\u001b[0m \u001b[0mtest_url\u001b[0m\u001b[0;34m)\u001b[0m\u001b[0;34m\u001b[0m\u001b[0;34m\u001b[0m\u001b[0m\n",
            "\u001b[0;32m/usr/local/lib/python3.10/dist-packages/pandas/util/_decorators.py\u001b[0m in \u001b[0;36mwrapper\u001b[0;34m(*args, **kwargs)\u001b[0m\n\u001b[1;32m    209\u001b[0m                 \u001b[0;32melse\u001b[0m\u001b[0;34m:\u001b[0m\u001b[0;34m\u001b[0m\u001b[0;34m\u001b[0m\u001b[0m\n\u001b[1;32m    210\u001b[0m                     \u001b[0mkwargs\u001b[0m\u001b[0;34m[\u001b[0m\u001b[0mnew_arg_name\u001b[0m\u001b[0;34m]\u001b[0m \u001b[0;34m=\u001b[0m \u001b[0mnew_arg_value\u001b[0m\u001b[0;34m\u001b[0m\u001b[0;34m\u001b[0m\u001b[0m\n\u001b[0;32m--> 211\u001b[0;31m             \u001b[0;32mreturn\u001b[0m \u001b[0mfunc\u001b[0m\u001b[0;34m(\u001b[0m\u001b[0;34m*\u001b[0m\u001b[0margs\u001b[0m\u001b[0;34m,\u001b[0m \u001b[0;34m**\u001b[0m\u001b[0mkwargs\u001b[0m\u001b[0;34m)\u001b[0m\u001b[0;34m\u001b[0m\u001b[0;34m\u001b[0m\u001b[0m\n\u001b[0m\u001b[1;32m    212\u001b[0m \u001b[0;34m\u001b[0m\u001b[0m\n\u001b[1;32m    213\u001b[0m         \u001b[0;32mreturn\u001b[0m \u001b[0mcast\u001b[0m\u001b[0;34m(\u001b[0m\u001b[0mF\u001b[0m\u001b[0;34m,\u001b[0m \u001b[0mwrapper\u001b[0m\u001b[0;34m)\u001b[0m\u001b[0;34m\u001b[0m\u001b[0;34m\u001b[0m\u001b[0m\n",
            "\u001b[0;32m/usr/local/lib/python3.10/dist-packages/pandas/util/_decorators.py\u001b[0m in \u001b[0;36mwrapper\u001b[0;34m(*args, **kwargs)\u001b[0m\n\u001b[1;32m    329\u001b[0m                     \u001b[0mstacklevel\u001b[0m\u001b[0;34m=\u001b[0m\u001b[0mfind_stack_level\u001b[0m\u001b[0;34m(\u001b[0m\u001b[0;34m)\u001b[0m\u001b[0;34m,\u001b[0m\u001b[0;34m\u001b[0m\u001b[0;34m\u001b[0m\u001b[0m\n\u001b[1;32m    330\u001b[0m                 )\n\u001b[0;32m--> 331\u001b[0;31m             \u001b[0;32mreturn\u001b[0m \u001b[0mfunc\u001b[0m\u001b[0;34m(\u001b[0m\u001b[0;34m*\u001b[0m\u001b[0margs\u001b[0m\u001b[0;34m,\u001b[0m \u001b[0;34m**\u001b[0m\u001b[0mkwargs\u001b[0m\u001b[0;34m)\u001b[0m\u001b[0;34m\u001b[0m\u001b[0;34m\u001b[0m\u001b[0m\n\u001b[0m\u001b[1;32m    332\u001b[0m \u001b[0;34m\u001b[0m\u001b[0m\n\u001b[1;32m    333\u001b[0m         \u001b[0;31m# error: \"Callable[[VarArg(Any), KwArg(Any)], Any]\" has no\u001b[0m\u001b[0;34m\u001b[0m\u001b[0;34m\u001b[0m\u001b[0m\n",
            "\u001b[0;32m/usr/local/lib/python3.10/dist-packages/pandas/io/parsers/readers.py\u001b[0m in \u001b[0;36mread_csv\u001b[0;34m(filepath_or_buffer, sep, delimiter, header, names, index_col, usecols, squeeze, prefix, mangle_dupe_cols, dtype, engine, converters, true_values, false_values, skipinitialspace, skiprows, skipfooter, nrows, na_values, keep_default_na, na_filter, verbose, skip_blank_lines, parse_dates, infer_datetime_format, keep_date_col, date_parser, dayfirst, cache_dates, iterator, chunksize, compression, thousands, decimal, lineterminator, quotechar, quoting, doublequote, escapechar, comment, encoding, encoding_errors, dialect, error_bad_lines, warn_bad_lines, on_bad_lines, delim_whitespace, low_memory, memory_map, float_precision, storage_options)\u001b[0m\n\u001b[1;32m    948\u001b[0m     \u001b[0mkwds\u001b[0m\u001b[0;34m.\u001b[0m\u001b[0mupdate\u001b[0m\u001b[0;34m(\u001b[0m\u001b[0mkwds_defaults\u001b[0m\u001b[0;34m)\u001b[0m\u001b[0;34m\u001b[0m\u001b[0;34m\u001b[0m\u001b[0m\n\u001b[1;32m    949\u001b[0m \u001b[0;34m\u001b[0m\u001b[0m\n\u001b[0;32m--> 950\u001b[0;31m     \u001b[0;32mreturn\u001b[0m \u001b[0m_read\u001b[0m\u001b[0;34m(\u001b[0m\u001b[0mfilepath_or_buffer\u001b[0m\u001b[0;34m,\u001b[0m \u001b[0mkwds\u001b[0m\u001b[0;34m)\u001b[0m\u001b[0;34m\u001b[0m\u001b[0;34m\u001b[0m\u001b[0m\n\u001b[0m\u001b[1;32m    951\u001b[0m \u001b[0;34m\u001b[0m\u001b[0m\n\u001b[1;32m    952\u001b[0m \u001b[0;34m\u001b[0m\u001b[0m\n",
            "\u001b[0;32m/usr/local/lib/python3.10/dist-packages/pandas/io/parsers/readers.py\u001b[0m in \u001b[0;36m_read\u001b[0;34m(filepath_or_buffer, kwds)\u001b[0m\n\u001b[1;32m    603\u001b[0m \u001b[0;34m\u001b[0m\u001b[0m\n\u001b[1;32m    604\u001b[0m     \u001b[0;31m# Create the parser.\u001b[0m\u001b[0;34m\u001b[0m\u001b[0;34m\u001b[0m\u001b[0m\n\u001b[0;32m--> 605\u001b[0;31m     \u001b[0mparser\u001b[0m \u001b[0;34m=\u001b[0m \u001b[0mTextFileReader\u001b[0m\u001b[0;34m(\u001b[0m\u001b[0mfilepath_or_buffer\u001b[0m\u001b[0;34m,\u001b[0m \u001b[0;34m**\u001b[0m\u001b[0mkwds\u001b[0m\u001b[0;34m)\u001b[0m\u001b[0;34m\u001b[0m\u001b[0;34m\u001b[0m\u001b[0m\n\u001b[0m\u001b[1;32m    606\u001b[0m \u001b[0;34m\u001b[0m\u001b[0m\n\u001b[1;32m    607\u001b[0m     \u001b[0;32mif\u001b[0m \u001b[0mchunksize\u001b[0m \u001b[0;32mor\u001b[0m \u001b[0miterator\u001b[0m\u001b[0;34m:\u001b[0m\u001b[0;34m\u001b[0m\u001b[0;34m\u001b[0m\u001b[0m\n",
            "\u001b[0;32m/usr/local/lib/python3.10/dist-packages/pandas/io/parsers/readers.py\u001b[0m in \u001b[0;36m__init__\u001b[0;34m(self, f, engine, **kwds)\u001b[0m\n\u001b[1;32m   1440\u001b[0m \u001b[0;34m\u001b[0m\u001b[0m\n\u001b[1;32m   1441\u001b[0m         \u001b[0mself\u001b[0m\u001b[0;34m.\u001b[0m\u001b[0mhandles\u001b[0m\u001b[0;34m:\u001b[0m \u001b[0mIOHandles\u001b[0m \u001b[0;34m|\u001b[0m \u001b[0;32mNone\u001b[0m \u001b[0;34m=\u001b[0m \u001b[0;32mNone\u001b[0m\u001b[0;34m\u001b[0m\u001b[0;34m\u001b[0m\u001b[0m\n\u001b[0;32m-> 1442\u001b[0;31m         \u001b[0mself\u001b[0m\u001b[0;34m.\u001b[0m\u001b[0m_engine\u001b[0m \u001b[0;34m=\u001b[0m \u001b[0mself\u001b[0m\u001b[0;34m.\u001b[0m\u001b[0m_make_engine\u001b[0m\u001b[0;34m(\u001b[0m\u001b[0mf\u001b[0m\u001b[0;34m,\u001b[0m \u001b[0mself\u001b[0m\u001b[0;34m.\u001b[0m\u001b[0mengine\u001b[0m\u001b[0;34m)\u001b[0m\u001b[0;34m\u001b[0m\u001b[0;34m\u001b[0m\u001b[0m\n\u001b[0m\u001b[1;32m   1443\u001b[0m \u001b[0;34m\u001b[0m\u001b[0m\n\u001b[1;32m   1444\u001b[0m     \u001b[0;32mdef\u001b[0m \u001b[0mclose\u001b[0m\u001b[0;34m(\u001b[0m\u001b[0mself\u001b[0m\u001b[0;34m)\u001b[0m \u001b[0;34m->\u001b[0m \u001b[0;32mNone\u001b[0m\u001b[0;34m:\u001b[0m\u001b[0;34m\u001b[0m\u001b[0;34m\u001b[0m\u001b[0m\n",
            "\u001b[0;32m/usr/local/lib/python3.10/dist-packages/pandas/io/parsers/readers.py\u001b[0m in \u001b[0;36m_make_engine\u001b[0;34m(self, f, engine)\u001b[0m\n\u001b[1;32m   1733\u001b[0m                 \u001b[0;32mif\u001b[0m \u001b[0;34m\"b\"\u001b[0m \u001b[0;32mnot\u001b[0m \u001b[0;32min\u001b[0m \u001b[0mmode\u001b[0m\u001b[0;34m:\u001b[0m\u001b[0;34m\u001b[0m\u001b[0;34m\u001b[0m\u001b[0m\n\u001b[1;32m   1734\u001b[0m                     \u001b[0mmode\u001b[0m \u001b[0;34m+=\u001b[0m \u001b[0;34m\"b\"\u001b[0m\u001b[0;34m\u001b[0m\u001b[0;34m\u001b[0m\u001b[0m\n\u001b[0;32m-> 1735\u001b[0;31m             self.handles = get_handle(\n\u001b[0m\u001b[1;32m   1736\u001b[0m                 \u001b[0mf\u001b[0m\u001b[0;34m,\u001b[0m\u001b[0;34m\u001b[0m\u001b[0;34m\u001b[0m\u001b[0m\n\u001b[1;32m   1737\u001b[0m                 \u001b[0mmode\u001b[0m\u001b[0;34m,\u001b[0m\u001b[0;34m\u001b[0m\u001b[0;34m\u001b[0m\u001b[0m\n",
            "\u001b[0;32m/usr/local/lib/python3.10/dist-packages/pandas/io/common.py\u001b[0m in \u001b[0;36mget_handle\u001b[0;34m(path_or_buf, mode, encoding, compression, memory_map, is_text, errors, storage_options)\u001b[0m\n\u001b[1;32m    854\u001b[0m         \u001b[0;32mif\u001b[0m \u001b[0mioargs\u001b[0m\u001b[0;34m.\u001b[0m\u001b[0mencoding\u001b[0m \u001b[0;32mand\u001b[0m \u001b[0;34m\"b\"\u001b[0m \u001b[0;32mnot\u001b[0m \u001b[0;32min\u001b[0m \u001b[0mioargs\u001b[0m\u001b[0;34m.\u001b[0m\u001b[0mmode\u001b[0m\u001b[0;34m:\u001b[0m\u001b[0;34m\u001b[0m\u001b[0;34m\u001b[0m\u001b[0m\n\u001b[1;32m    855\u001b[0m             \u001b[0;31m# Encoding\u001b[0m\u001b[0;34m\u001b[0m\u001b[0;34m\u001b[0m\u001b[0m\n\u001b[0;32m--> 856\u001b[0;31m             handle = open(\n\u001b[0m\u001b[1;32m    857\u001b[0m                 \u001b[0mhandle\u001b[0m\u001b[0;34m,\u001b[0m\u001b[0;34m\u001b[0m\u001b[0;34m\u001b[0m\u001b[0m\n\u001b[1;32m    858\u001b[0m                 \u001b[0mioargs\u001b[0m\u001b[0;34m.\u001b[0m\u001b[0mmode\u001b[0m\u001b[0;34m,\u001b[0m\u001b[0;34m\u001b[0m\u001b[0;34m\u001b[0m\u001b[0m\n",
            "\u001b[0;31mFileNotFoundError\u001b[0m: [Errno 2] No such file or directory: '/content/Test_Matrix.csv'"
          ]
        }
      ]
    },
    {
      "cell_type": "code",
      "source": [
        "test_np = test_folder.to_numpy()  # DataFrame을 배열(Array)로 전환\n",
        "test_num = test_np[0:3,1:4].astype(float)  # 숫자만 남긴 배열\n",
        "print(test_np.shape)\n",
        "print('<Numpy의 배열로 불러오기>\\n-----------------\\n', test_np,'\\n')\n",
        "print('<숫자만 남긴 배열>\\n-----------------\\n', test_num,'\\n')"
      ],
      "metadata": {
        "id": "vo8jfgzOZxMd",
        "outputId": "5dba9779-0d0e-4906-8a9c-e96789edf3a7",
        "colab": {
          "base_uri": "https://localhost:8080/",
          "height": 245
        }
      },
      "execution_count": 7,
      "outputs": [
        {
          "output_type": "error",
          "ename": "NameError",
          "evalue": "ignored",
          "traceback": [
            "\u001b[0;31m---------------------------------------------------------------------------\u001b[0m",
            "\u001b[0;31mNameError\u001b[0m                                 Traceback (most recent call last)",
            "\u001b[0;32m<ipython-input-7-696772a54e80>\u001b[0m in \u001b[0;36m<cell line: 1>\u001b[0;34m()\u001b[0m\n\u001b[0;32m----> 1\u001b[0;31m \u001b[0mtest_np\u001b[0m \u001b[0;34m=\u001b[0m \u001b[0mtest_folder\u001b[0m\u001b[0;34m.\u001b[0m\u001b[0mto_numpy\u001b[0m\u001b[0;34m(\u001b[0m\u001b[0;34m)\u001b[0m  \u001b[0;31m# DataFrame을 배열(Array)로 전환\u001b[0m\u001b[0;34m\u001b[0m\u001b[0;34m\u001b[0m\u001b[0m\n\u001b[0m\u001b[1;32m      2\u001b[0m \u001b[0mtest_num\u001b[0m \u001b[0;34m=\u001b[0m \u001b[0mtest_np\u001b[0m\u001b[0;34m[\u001b[0m\u001b[0;36m0\u001b[0m\u001b[0;34m:\u001b[0m\u001b[0;36m3\u001b[0m\u001b[0;34m,\u001b[0m\u001b[0;36m1\u001b[0m\u001b[0;34m:\u001b[0m\u001b[0;36m4\u001b[0m\u001b[0;34m]\u001b[0m\u001b[0;34m.\u001b[0m\u001b[0mastype\u001b[0m\u001b[0;34m(\u001b[0m\u001b[0mfloat\u001b[0m\u001b[0;34m)\u001b[0m  \u001b[0;31m# 숫자만 남긴 배열\u001b[0m\u001b[0;34m\u001b[0m\u001b[0;34m\u001b[0m\u001b[0m\n\u001b[1;32m      3\u001b[0m \u001b[0mprint\u001b[0m\u001b[0;34m(\u001b[0m\u001b[0mtest_np\u001b[0m\u001b[0;34m.\u001b[0m\u001b[0mshape\u001b[0m\u001b[0;34m)\u001b[0m\u001b[0;34m\u001b[0m\u001b[0;34m\u001b[0m\u001b[0m\n\u001b[1;32m      4\u001b[0m \u001b[0mprint\u001b[0m\u001b[0;34m(\u001b[0m\u001b[0;34m'<Numpy의 배열로 불러오기>\\n-----------------\\n'\u001b[0m\u001b[0;34m,\u001b[0m \u001b[0mtest_np\u001b[0m\u001b[0;34m,\u001b[0m\u001b[0;34m'\\n'\u001b[0m\u001b[0;34m)\u001b[0m\u001b[0;34m\u001b[0m\u001b[0;34m\u001b[0m\u001b[0m\n\u001b[1;32m      5\u001b[0m \u001b[0mprint\u001b[0m\u001b[0;34m(\u001b[0m\u001b[0;34m'<숫자만 남긴 배열>\\n-----------------\\n'\u001b[0m\u001b[0;34m,\u001b[0m \u001b[0mtest_num\u001b[0m\u001b[0;34m,\u001b[0m\u001b[0;34m'\\n'\u001b[0m\u001b[0;34m)\u001b[0m\u001b[0;34m\u001b[0m\u001b[0;34m\u001b[0m\u001b[0m\n",
            "\u001b[0;31mNameError\u001b[0m: name 'test_folder' is not defined"
          ]
        }
      ]
    },
    {
      "cell_type": "markdown",
      "source": [
        "## 행렬 연산의 기초"
      ],
      "metadata": {
        "id": "Ja1OCBr1_w2z"
      }
    },
    {
      "cell_type": "code",
      "source": [
        "A = np.array([[2, 5, 4],  # 2차원 행렬 A, B 생성\n",
        "              [1, 3, 5],\n",
        "              [8, 9, 0]])\n",
        "\n",
        "B = np.array([[1, 5, 0],\n",
        "              [3, 8, 3],\n",
        "              [4, 2, 7]])\n",
        "\n",
        "A_dim = np.ndim(A)  #A행렬의 차원\n",
        "A_shp = np.shape(A) #A행렬의 행과 열의 갯수\n",
        "A_sz = np.size(A)   #A행렬의 원소의 갯수\n",
        "\n",
        "print('A : \\n', A)\n",
        "print('B : \\n', B)\n",
        "print('A행렬의 차원 : \\n', A_dim)\n",
        "print('A행렬의 행과 열의 갯수 : \\n', A_shp)\n",
        "print('A행렬의 총원소 갯수 : \\n', A_sz)"
      ],
      "metadata": {
        "colab": {
          "base_uri": "https://localhost:8080/"
        },
        "id": "bE7ul3WV5aNo",
        "outputId": "f69cc334-fc07-4cb3-d6d9-79e7c098fd60"
      },
      "execution_count": 8,
      "outputs": [
        {
          "output_type": "stream",
          "name": "stdout",
          "text": [
            "A : \n",
            " [[2 5 4]\n",
            " [1 3 5]\n",
            " [8 9 0]]\n",
            "B : \n",
            " [[1 5 0]\n",
            " [3 8 3]\n",
            " [4 2 7]]\n",
            "A행렬의 차원 : \n",
            " 2\n",
            "A행렬의 행과 열의 갯수 : \n",
            " (3, 3)\n",
            "A행렬의 총원소 갯수 : \n",
            " 9\n"
          ]
        }
      ]
    },
    {
      "cell_type": "code",
      "source": [
        "A_B_sm = A + B  # 행렬의 합\n",
        "A_B_dc = A - B  # 행렬의 차\n",
        "\n",
        "print('행렬A와 행렬B 의 합 : \\n', A_B_sm,'\\n')\n",
        "print('행렬A와 행렬B 의 차 : \\n', A_B_dc)"
      ],
      "metadata": {
        "id": "z3eiuCLI5aQH",
        "outputId": "cd76a073-4218-41ba-c470-a64b40c96dcb",
        "colab": {
          "base_uri": "https://localhost:8080/"
        }
      },
      "execution_count": 9,
      "outputs": [
        {
          "output_type": "stream",
          "name": "stdout",
          "text": [
            "행렬A와 행렬B 의 합 : \n",
            " [[ 3 10  4]\n",
            " [ 4 11  8]\n",
            " [12 11  7]] \n",
            "\n",
            "행렬A와 행렬B 의 차 : \n",
            " [[ 1  0  4]\n",
            " [-2 -5  2]\n",
            " [ 4  7 -7]]\n"
          ]
        }
      ]
    },
    {
      "cell_type": "code",
      "source": [
        "Cab = A.dot(B)  #AB\n",
        "Cba = B.dot(A)  #BA\n",
        "CAB = A*B       #A*B(행렬원소간의 곱)\n",
        "\n",
        "print('AB : \\n', Cab, '\\n')\n",
        "print('BA : \\n', Cba, '\\n')\n",
        "print('A*B : \\n', CAB)"
      ],
      "metadata": {
        "id": "CtVQ49ZK5aU2",
        "outputId": "de573c31-f447-4dc1-cb78-9584b3968c29",
        "colab": {
          "base_uri": "https://localhost:8080/"
        }
      },
      "execution_count": 10,
      "outputs": [
        {
          "output_type": "stream",
          "name": "stdout",
          "text": [
            "AB : \n",
            " [[ 33  58  43]\n",
            " [ 30  39  44]\n",
            " [ 35 112  27]] \n",
            "\n",
            "BA : \n",
            " [[ 7 20 29]\n",
            " [38 66 52]\n",
            " [66 89 26]] \n",
            "\n",
            "A*B : \n",
            " [[ 2 25  0]\n",
            " [ 3 24 15]\n",
            " [32 18  0]]\n"
          ]
        }
      ]
    },
    {
      "cell_type": "code",
      "source": [
        "A_inv = np.linalg.inv(A)  # A의 역행렬 구하기\n",
        "B_inv = np.linalg.inv(B)  # B의  역행렬 구하기\n",
        "At = A.T  # A의 전치행렬 구하기\n",
        "Bt = B.T  # B의 전치행렬 구하기\n",
        "\n",
        "print('A의 역행렬 A-1 : \\n', A_inv, '\\n')\n",
        "print('B의 역행렬 B-1 : \\n', B_inv, '\\n')\n",
        "print('A의 전치행렬 At : \\n', At, '\\n')\n",
        "print('B의 전치행렬 Bt : \\n', Bt)"
      ],
      "metadata": {
        "outputId": "b086621a-cd58-445b-c57c-d2407e0c7d02",
        "colab": {
          "base_uri": "https://localhost:8080/"
        },
        "id": "n1MibQ1Coa29"
      },
      "execution_count": 11,
      "outputs": [
        {
          "output_type": "stream",
          "name": "stdout",
          "text": [
            "A의 역행렬 A-1 : \n",
            " [[-0.9   0.72  0.26]\n",
            " [ 0.8  -0.64 -0.12]\n",
            " [-0.3   0.44  0.02]] \n",
            "\n",
            "B의 역행렬 B-1 : \n",
            " [[10.  -7.   3. ]\n",
            " [-1.8  1.4 -0.6]\n",
            " [-5.2  3.6 -1.4]] \n",
            "\n",
            "A의 전치행렬 At : \n",
            " [[2 1 8]\n",
            " [5 3 9]\n",
            " [4 5 0]] \n",
            "\n",
            "B의 전치행렬 Bt : \n",
            " [[1 3 4]\n",
            " [5 8 2]\n",
            " [0 3 7]]\n"
          ]
        }
      ]
    },
    {
      "cell_type": "code",
      "source": [
        "I = np.eye(3) # 단위행렬\n",
        "Z = np.zeros((3,3))   # 영 행렬\n",
        "One = np.ones((3,3)) # 모든 요소가 1인 행렬\n",
        "Diag = np.diag(A)   # 행렬의 대각요소 추출\n",
        "\n",
        "print('단위행렬 : \\n', I, '\\n')\n",
        "print('영행렬 : \\n', Z, '\\n')\n",
        "print('모든 요소가 1인 행렬 : \\n', One, '\\n')\n",
        "print('행렬의 대각요소 : \\n', Diag)"
      ],
      "metadata": {
        "id": "179MZsqfL-gQ",
        "outputId": "593d7f07-5a9e-47f9-da68-8dc18c10421e",
        "colab": {
          "base_uri": "https://localhost:8080/"
        }
      },
      "execution_count": 12,
      "outputs": [
        {
          "output_type": "stream",
          "name": "stdout",
          "text": [
            "단위행렬 : \n",
            " [[1. 0. 0.]\n",
            " [0. 1. 0.]\n",
            " [0. 0. 1.]] \n",
            "\n",
            "영행렬 : \n",
            " [[0. 0. 0.]\n",
            " [0. 0. 0.]\n",
            " [0. 0. 0.]] \n",
            "\n",
            "모든 요소가 1인 행렬 : \n",
            " [[1. 1. 1.]\n",
            " [1. 1. 1.]\n",
            " [1. 1. 1.]] \n",
            "\n",
            "행렬의 대각요소 : \n",
            " [2 3 0]\n"
          ]
        }
      ]
    },
    {
      "cell_type": "code",
      "source": [
        "A_last_row = A[-1]   # 마지막 행 선택\n",
        "A_last_col = A[:,-1]    # 마지막 열 선택\n",
        "A_r3_c1 = A[0:3,0:1]  #  3행 1열 선택(0은 생략 가능)\n",
        "\n",
        "print('A 행렬의 마지막 행 : \\n', A_last_row, '\\n')\n",
        "print('A 행렬의 마직막 열 : \\n', A_last_col, '\\n')\n",
        "print('A 행렬의 3행 1열 \\n', A_r3_c1)"
      ],
      "metadata": {
        "id": "swLL2K_J_GFU",
        "outputId": "7b6135f5-e09d-4a29-f09e-e8c0deb9b1a3",
        "colab": {
          "base_uri": "https://localhost:8080/"
        }
      },
      "execution_count": 13,
      "outputs": [
        {
          "output_type": "stream",
          "name": "stdout",
          "text": [
            "A 행렬의 마지막 행 : \n",
            " [8 9 0] \n",
            "\n",
            "A 행렬의 마직막 열 : \n",
            " [4 5 0] \n",
            "\n",
            "A 행렬의 3행 1열 \n",
            " [[2]\n",
            " [1]\n",
            " [8]]\n"
          ]
        }
      ]
    },
    {
      "cell_type": "code",
      "source": [
        "A_rp = np.tile(A_last_row, reps=[4,1])   # A 마지막행 4번 반복\n",
        "A_tot_sm = A.sum()   # 행렬의 모든 원소 합\n",
        "A_row_sm = A.sum(axis=0,keepdims=True)   # 행렬의 행합\n",
        "A_col_sm = A.sum(axis=1, keepdims=True)  # 행렬의 열합\n",
        "A_row_sm_1d = A.sum(axis=0)   # 행렬의 행합을 1차원으로 나타냄\n",
        "\n",
        "print('A행렬의 마지막행 4번 반복 : \\n', A_rp, '\\n')\n",
        "print('A행렬의 모든 원소 합 : \\n', A_tot_sm, '\\n')\n",
        "print('A행렬의 행합 : \\n', A_row_sm, '\\n')\n",
        "print('A행렬의 열합 : \\n', A_col_sm, '\\n')\n",
        "print('A행렬의 행합을 1차원으로 표시 : \\n', A_row_sm_1d)"
      ],
      "metadata": {
        "id": "xgwP6W43hA8N",
        "outputId": "31d5f031-9221-4a41-f5d9-a06d5fdd1790",
        "colab": {
          "base_uri": "https://localhost:8080/"
        }
      },
      "execution_count": 14,
      "outputs": [
        {
          "output_type": "stream",
          "name": "stdout",
          "text": [
            "A행렬의 마지막행 4번 반복 : \n",
            " [[8 9 0]\n",
            " [8 9 0]\n",
            " [8 9 0]\n",
            " [8 9 0]] \n",
            "\n",
            "A행렬의 모든 원소 합 : \n",
            " 37 \n",
            "\n",
            "A행렬의 행합 : \n",
            " [[11 17  9]] \n",
            "\n",
            "A행렬의 열합 : \n",
            " [[11]\n",
            " [ 9]\n",
            " [17]] \n",
            "\n",
            "A행렬의 행합을 1차원으로 표시 : \n",
            " [11 17  9]\n"
          ]
        }
      ]
    },
    {
      "cell_type": "code",
      "source": [
        "A_B_vt = np.concatenate((A, B), axis=0)\n",
        "A_B_hz = np.concatenate((A, B), axis=1)\n",
        "\n",
        "print('행렬 수직으로 합치기 : \\n', A_B_vt, '\\n')\n",
        "print('행렬 수평으로 합치기 : \\n', A_B_hz)"
      ],
      "metadata": {
        "id": "tyhncyanEZTU",
        "outputId": "5fd225c7-41c7-4e5f-c019-63c98919edd5",
        "colab": {
          "base_uri": "https://localhost:8080/"
        }
      },
      "execution_count": 15,
      "outputs": [
        {
          "output_type": "stream",
          "name": "stdout",
          "text": [
            "행렬 수직으로 합치기 : \n",
            " [[2 5 4]\n",
            " [1 3 5]\n",
            " [8 9 0]\n",
            " [1 5 0]\n",
            " [3 8 3]\n",
            " [4 2 7]] \n",
            "\n",
            "행렬 수평으로 합치기 : \n",
            " [[2 5 4 1 5 0]\n",
            " [1 3 5 3 8 3]\n",
            " [8 9 0 4 2 7]]\n"
          ]
        }
      ]
    },
    {
      "cell_type": "code",
      "source": [],
      "metadata": {
        "id": "6moZnKj_3S-O"
      },
      "execution_count": 15,
      "outputs": []
    }
  ]
}