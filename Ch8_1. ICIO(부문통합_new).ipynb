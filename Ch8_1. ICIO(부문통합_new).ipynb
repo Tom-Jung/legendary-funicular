{
  "nbformat": 4,
  "nbformat_minor": 0,
  "metadata": {
    "colab": {
      "provenance": [],
      "mount_file_id": "https://github.com/Tom-Jung/legendary-funicular/blob/main/IO_tables.ipynb",
      "authorship_tag": "ABX9TyNa0OPSnCyYr17H7e1CEwRO",
      "include_colab_link": true
    },
    "kernelspec": {
      "name": "python3",
      "display_name": "Python 3"
    },
    "language_info": {
      "name": "python"
    }
  },
  "cells": [
    {
      "cell_type": "markdown",
      "metadata": {
        "id": "view-in-github",
        "colab_type": "text"
      },
      "source": [
        "<a href=\"https://colab.research.google.com/github/Tom-Jung/legendary-funicular/blob/main/Ch8_1.%20ICIO(%EB%B6%80%EB%AC%B8%ED%86%B5%ED%95%A9_new).ipynb\" target=\"_parent\"><img src=\"https://colab.research.google.com/assets/colab-badge.svg\" alt=\"Open In Colab\"/></a>"
      ]
    },
    {
      "cell_type": "code",
      "source": [
        "import numpy as np   # Numpy import\n",
        "import pandas as pd  # Pandas import"
      ],
      "metadata": {
        "id": "TR7JvW8CxBFT"
      },
      "execution_count": 6,
      "outputs": []
    },
    {
      "cell_type": "code",
      "source": [
        "np.set_printoptions(precision=3,suppress=True) # 결과를 소수 3자리까지만 보여주는 옵션"
      ],
      "metadata": {
        "id": "2l9tk4XA4Nkc"
      },
      "execution_count": 7,
      "outputs": []
    },
    {
      "cell_type": "code",
      "source": [
        "# from google.colab import drive\n",
        "# drive.mount('/content/drive')"
      ],
      "metadata": {
        "id": "UUugbbcO-CMK"
      },
      "execution_count": 8,
      "outputs": []
    },
    {
      "cell_type": "code",
      "source": [
        "# icio =pd.read_csv('/content/drive/MyDrive/ICIO/ICIO2021_2018.csv')"
      ],
      "metadata": {
        "id": "dH4scTnJ9Wll"
      },
      "execution_count": 51,
      "outputs": []
    },
    {
      "cell_type": "code",
      "source": [
        "icio = pd.read_csv('/content/ICIO2021_2018.csv')"
      ],
      "metadata": {
        "id": "1tuN2LradEW4"
      },
      "execution_count": 52,
      "outputs": []
    },
    {
      "cell_type": "code",
      "source": [
        "icio.head()\n",
        "icio_1 = icio.to_numpy()\n",
        "icio_2=icio_1[:,1:]\n",
        "icio_2"
      ],
      "metadata": {
        "id": "DhBtrP5M9vRR",
        "outputId": "d2aa6345-3fcb-4112-9512-1bb5bd776660",
        "colab": {
          "base_uri": "https://localhost:8080/"
        }
      },
      "execution_count": 53,
      "outputs": [
        {
          "output_type": "execute_result",
          "data": {
            "text/plain": [
              "array([[9643.150009, 1086.295836, 52.580112, ..., 0.042162, 18.786884,\n",
              "        66380.542467],\n",
              "       [527.834592, 134.506115, 14.185165, ..., 0.002112, 2.253717,\n",
              "        8497.499648],\n",
              "       [169.967489, 10.944585, 2412.004698, ..., 1.700465, 2.181065,\n",
              "        113838.317089],\n",
              "       ...,\n",
              "       [-0.271587, -0.030592, -0.000255, ..., 1321.479432, -143.51719,\n",
              "        233363.621878],\n",
              "       [26450.511941, 2863.116121, 73088.630073, ..., 0.0, 0.0,\n",
              "        79901387.613093],\n",
              "       [66380.542467, 8497.499648, 113838.317089, ..., 0.0, 0.0,\n",
              "        165301439.135039]], dtype=object)"
            ]
          },
          "metadata": {},
          "execution_count": 53
        }
      ]
    },
    {
      "cell_type": "markdown",
      "source": [
        "### 한국 1, 중국2, 미국3, 일본4, EU5(Slovakia는 ICIO에 없음..총 26개국),ROW6"
      ],
      "metadata": {
        "id": "AvyOqU89gls6"
      }
    },
    {
      "cell_type": "code",
      "source": [
        "url_cdd = \"https://raw.githubusercontent.com/Tom-Jung/legendary-funicular/main/cd_icio_f.csv\"  #코드매치 파일 불러오기\n",
        "cd = pd.read_csv(url_cdd)\n",
        "cd.head()"
      ],
      "metadata": {
        "id": "yXmH7e7troAC",
        "outputId": "e9dc687f-440f-4a5e-9d96-4198e5ff649a",
        "colab": {
          "base_uri": "https://localhost:8080/",
          "height": 206
        }
      },
      "execution_count": 54,
      "outputs": [
        {
          "output_type": "execute_result",
          "data": {
            "text/plain": [
              "        cons  old  new\n",
              "0  AUS_01T02    1   16\n",
              "1     AUS_03    2   16\n",
              "2  AUS_05T06    3   17\n",
              "3  AUS_07T08    4   17\n",
              "4     AUS_09    5   17"
            ],
            "text/html": [
              "\n",
              "\n",
              "  <div id=\"df-76082cdc-e9a4-4100-949d-6dec8d190b03\">\n",
              "    <div class=\"colab-df-container\">\n",
              "      <div>\n",
              "<style scoped>\n",
              "    .dataframe tbody tr th:only-of-type {\n",
              "        vertical-align: middle;\n",
              "    }\n",
              "\n",
              "    .dataframe tbody tr th {\n",
              "        vertical-align: top;\n",
              "    }\n",
              "\n",
              "    .dataframe thead th {\n",
              "        text-align: right;\n",
              "    }\n",
              "</style>\n",
              "<table border=\"1\" class=\"dataframe\">\n",
              "  <thead>\n",
              "    <tr style=\"text-align: right;\">\n",
              "      <th></th>\n",
              "      <th>cons</th>\n",
              "      <th>old</th>\n",
              "      <th>new</th>\n",
              "    </tr>\n",
              "  </thead>\n",
              "  <tbody>\n",
              "    <tr>\n",
              "      <th>0</th>\n",
              "      <td>AUS_01T02</td>\n",
              "      <td>1</td>\n",
              "      <td>16</td>\n",
              "    </tr>\n",
              "    <tr>\n",
              "      <th>1</th>\n",
              "      <td>AUS_03</td>\n",
              "      <td>2</td>\n",
              "      <td>16</td>\n",
              "    </tr>\n",
              "    <tr>\n",
              "      <th>2</th>\n",
              "      <td>AUS_05T06</td>\n",
              "      <td>3</td>\n",
              "      <td>17</td>\n",
              "    </tr>\n",
              "    <tr>\n",
              "      <th>3</th>\n",
              "      <td>AUS_07T08</td>\n",
              "      <td>4</td>\n",
              "      <td>17</td>\n",
              "    </tr>\n",
              "    <tr>\n",
              "      <th>4</th>\n",
              "      <td>AUS_09</td>\n",
              "      <td>5</td>\n",
              "      <td>17</td>\n",
              "    </tr>\n",
              "  </tbody>\n",
              "</table>\n",
              "</div>\n",
              "      <button class=\"colab-df-convert\" onclick=\"convertToInteractive('df-76082cdc-e9a4-4100-949d-6dec8d190b03')\"\n",
              "              title=\"Convert this dataframe to an interactive table.\"\n",
              "              style=\"display:none;\">\n",
              "\n",
              "  <svg xmlns=\"http://www.w3.org/2000/svg\" height=\"24px\"viewBox=\"0 0 24 24\"\n",
              "       width=\"24px\">\n",
              "    <path d=\"M0 0h24v24H0V0z\" fill=\"none\"/>\n",
              "    <path d=\"M18.56 5.44l.94 2.06.94-2.06 2.06-.94-2.06-.94-.94-2.06-.94 2.06-2.06.94zm-11 1L8.5 8.5l.94-2.06 2.06-.94-2.06-.94L8.5 2.5l-.94 2.06-2.06.94zm10 10l.94 2.06.94-2.06 2.06-.94-2.06-.94-.94-2.06-.94 2.06-2.06.94z\"/><path d=\"M17.41 7.96l-1.37-1.37c-.4-.4-.92-.59-1.43-.59-.52 0-1.04.2-1.43.59L10.3 9.45l-7.72 7.72c-.78.78-.78 2.05 0 2.83L4 21.41c.39.39.9.59 1.41.59.51 0 1.02-.2 1.41-.59l7.78-7.78 2.81-2.81c.8-.78.8-2.07 0-2.86zM5.41 20L4 18.59l7.72-7.72 1.47 1.35L5.41 20z\"/>\n",
              "  </svg>\n",
              "      </button>\n",
              "\n",
              "\n",
              "\n",
              "    <div id=\"df-bd54882c-a852-402e-980a-8f2225046775\">\n",
              "      <button class=\"colab-df-quickchart\" onclick=\"quickchart('df-bd54882c-a852-402e-980a-8f2225046775')\"\n",
              "              title=\"Suggest charts.\"\n",
              "              style=\"display:none;\">\n",
              "\n",
              "<svg xmlns=\"http://www.w3.org/2000/svg\" height=\"24px\"viewBox=\"0 0 24 24\"\n",
              "     width=\"24px\">\n",
              "    <g>\n",
              "        <path d=\"M19 3H5c-1.1 0-2 .9-2 2v14c0 1.1.9 2 2 2h14c1.1 0 2-.9 2-2V5c0-1.1-.9-2-2-2zM9 17H7v-7h2v7zm4 0h-2V7h2v10zm4 0h-2v-4h2v4z\"/>\n",
              "    </g>\n",
              "</svg>\n",
              "      </button>\n",
              "    </div>\n",
              "\n",
              "<style>\n",
              "  .colab-df-quickchart {\n",
              "    background-color: #E8F0FE;\n",
              "    border: none;\n",
              "    border-radius: 50%;\n",
              "    cursor: pointer;\n",
              "    display: none;\n",
              "    fill: #1967D2;\n",
              "    height: 32px;\n",
              "    padding: 0 0 0 0;\n",
              "    width: 32px;\n",
              "  }\n",
              "\n",
              "  .colab-df-quickchart:hover {\n",
              "    background-color: #E2EBFA;\n",
              "    box-shadow: 0px 1px 2px rgba(60, 64, 67, 0.3), 0px 1px 3px 1px rgba(60, 64, 67, 0.15);\n",
              "    fill: #174EA6;\n",
              "  }\n",
              "\n",
              "  [theme=dark] .colab-df-quickchart {\n",
              "    background-color: #3B4455;\n",
              "    fill: #D2E3FC;\n",
              "  }\n",
              "\n",
              "  [theme=dark] .colab-df-quickchart:hover {\n",
              "    background-color: #434B5C;\n",
              "    box-shadow: 0px 1px 3px 1px rgba(0, 0, 0, 0.15);\n",
              "    filter: drop-shadow(0px 1px 2px rgba(0, 0, 0, 0.3));\n",
              "    fill: #FFFFFF;\n",
              "  }\n",
              "</style>\n",
              "\n",
              "    <script>\n",
              "      async function quickchart(key) {\n",
              "        const containerElement = document.querySelector('#' + key);\n",
              "        const charts = await google.colab.kernel.invokeFunction(\n",
              "            'suggestCharts', [key], {});\n",
              "      }\n",
              "    </script>\n",
              "\n",
              "      <script>\n",
              "\n",
              "function displayQuickchartButton(domScope) {\n",
              "  let quickchartButtonEl =\n",
              "    domScope.querySelector('#df-bd54882c-a852-402e-980a-8f2225046775 button.colab-df-quickchart');\n",
              "  quickchartButtonEl.style.display =\n",
              "    google.colab.kernel.accessAllowed ? 'block' : 'none';\n",
              "}\n",
              "\n",
              "        displayQuickchartButton(document);\n",
              "      </script>\n",
              "      <style>\n",
              "    .colab-df-container {\n",
              "      display:flex;\n",
              "      flex-wrap:wrap;\n",
              "      gap: 12px;\n",
              "    }\n",
              "\n",
              "    .colab-df-convert {\n",
              "      background-color: #E8F0FE;\n",
              "      border: none;\n",
              "      border-radius: 50%;\n",
              "      cursor: pointer;\n",
              "      display: none;\n",
              "      fill: #1967D2;\n",
              "      height: 32px;\n",
              "      padding: 0 0 0 0;\n",
              "      width: 32px;\n",
              "    }\n",
              "\n",
              "    .colab-df-convert:hover {\n",
              "      background-color: #E2EBFA;\n",
              "      box-shadow: 0px 1px 2px rgba(60, 64, 67, 0.3), 0px 1px 3px 1px rgba(60, 64, 67, 0.15);\n",
              "      fill: #174EA6;\n",
              "    }\n",
              "\n",
              "    [theme=dark] .colab-df-convert {\n",
              "      background-color: #3B4455;\n",
              "      fill: #D2E3FC;\n",
              "    }\n",
              "\n",
              "    [theme=dark] .colab-df-convert:hover {\n",
              "      background-color: #434B5C;\n",
              "      box-shadow: 0px 1px 3px 1px rgba(0, 0, 0, 0.15);\n",
              "      filter: drop-shadow(0px 1px 2px rgba(0, 0, 0, 0.3));\n",
              "      fill: #FFFFFF;\n",
              "    }\n",
              "  </style>\n",
              "\n",
              "      <script>\n",
              "        const buttonEl =\n",
              "          document.querySelector('#df-76082cdc-e9a4-4100-949d-6dec8d190b03 button.colab-df-convert');\n",
              "        buttonEl.style.display =\n",
              "          google.colab.kernel.accessAllowed ? 'block' : 'none';\n",
              "\n",
              "        async function convertToInteractive(key) {\n",
              "          const element = document.querySelector('#df-76082cdc-e9a4-4100-949d-6dec8d190b03');\n",
              "          const dataTable =\n",
              "            await google.colab.kernel.invokeFunction('convertToInteractive',\n",
              "                                                     [key], {});\n",
              "          if (!dataTable) return;\n",
              "\n",
              "          const docLinkHtml = 'Like what you see? Visit the ' +\n",
              "            '<a target=\"_blank\" href=https://colab.research.google.com/notebooks/data_table.ipynb>data table notebook</a>'\n",
              "            + ' to learn more about interactive tables.';\n",
              "          element.innerHTML = '';\n",
              "          dataTable['output_type'] = 'display_data';\n",
              "          await google.colab.output.renderOutput(dataTable, element);\n",
              "          const docLink = document.createElement('div');\n",
              "          docLink.innerHTML = docLinkHtml;\n",
              "          element.appendChild(docLink);\n",
              "        }\n",
              "      </script>\n",
              "    </div>\n",
              "  </div>\n"
            ]
          },
          "metadata": {},
          "execution_count": 54
        }
      ]
    },
    {
      "cell_type": "code",
      "source": [
        "ccdd = cd.to_numpy()\n",
        "cd_for_itr = ccdd[:,1:]\n",
        "cd_for_itr"
      ],
      "metadata": {
        "id": "M2e69LcT_59t",
        "outputId": "79ea5946-7702-4ef2-cea6-501cd1754253",
        "colab": {
          "base_uri": "https://localhost:8080/"
        }
      },
      "execution_count": 55,
      "outputs": [
        {
          "output_type": "execute_result",
          "data": {
            "text/plain": [
              "array([[1, 16],\n",
              "       [2, 16],\n",
              "       [3, 17],\n",
              "       ...,\n",
              "       [3193, 6],\n",
              "       [3194, 6],\n",
              "       [3195, 6]], dtype=object)"
            ]
          },
          "metadata": {},
          "execution_count": 55
        }
      ]
    },
    {
      "cell_type": "code",
      "source": [
        "Mtx = np.zeros((18,3195)) # 부문통합을 위한 코드가 많을 경우 상기의 코드를 수작업으로 미리 하는 것이 쉽자 않으므로 반복문을 통해 3x33 임시코드 만들기\n",
        "cd_3 = cd_for_itr[:,1]\n",
        "cd_33 = cd_for_itr[:,0]\n",
        "row=cd_3\n",
        "col=cd_33\n",
        "for i, j in zip(row,col):\n",
        "  Mtx[i-1,j-1] = 1\n",
        "print(Mtx)"
      ],
      "metadata": {
        "id": "GdSKaueLdDOn",
        "outputId": "a5f1dc36-1b24-4e04-eaa4-1fe6ffaaf74d",
        "colab": {
          "base_uri": "https://localhost:8080/"
        }
      },
      "execution_count": 56,
      "outputs": [
        {
          "output_type": "stream",
          "name": "stdout",
          "text": [
            "[[0. 0. 0. ... 0. 0. 0.]\n",
            " [0. 0. 0. ... 0. 0. 0.]\n",
            " [0. 0. 0. ... 0. 0. 0.]\n",
            " ...\n",
            " [1. 1. 0. ... 0. 0. 0.]\n",
            " [0. 0. 1. ... 0. 0. 0.]\n",
            " [0. 0. 0. ... 0. 0. 0.]]\n"
          ]
        }
      ]
    },
    {
      "cell_type": "code",
      "source": [
        "code=Mtx\n",
        "code.shape"
      ],
      "metadata": {
        "id": "1gXI65U3K2hG",
        "outputId": "df2bca5b-4c3a-4b83-dd0d-7a9adf8c6f88",
        "colab": {
          "base_uri": "https://localhost:8080/"
        }
      },
      "execution_count": 57,
      "outputs": [
        {
          "output_type": "execute_result",
          "data": {
            "text/plain": [
              "(18, 3195)"
            ]
          },
          "metadata": {},
          "execution_count": 57
        }
      ]
    },
    {
      "cell_type": "code",
      "source": [
        "nae_tot_row = code@icio_2[0:3195,0:3195] # 중간투입(수요)의 행을 18부문으로 만들기\n",
        "nae_tot_row.shape"
      ],
      "metadata": {
        "id": "hwAN1N7qGAtx",
        "outputId": "aea02f51-e23e-4d9d-8600-2113c7bc7064",
        "colab": {
          "base_uri": "https://localhost:8080/"
        }
      },
      "execution_count": 59,
      "outputs": [
        {
          "output_type": "execute_result",
          "data": {
            "text/plain": [
              "(18, 3195)"
            ]
          },
          "metadata": {},
          "execution_count": 59
        }
      ]
    },
    {
      "cell_type": "code",
      "source": [
        "nae_tot_col = nae_tot_row@code.T  # 수작업한 code 이용\n",
        "nae_tot_col.sum()"
      ],
      "metadata": {
        "id": "gJ-wf5Z5GAwF",
        "outputId": "161a1928-6d7c-4c18-ee8a-9e520dfc9ffa",
        "colab": {
          "base_uri": "https://localhost:8080/"
        }
      },
      "execution_count": 60,
      "outputs": [
        {
          "output_type": "execute_result",
          "data": {
            "text/plain": [
              "82339688.20691398"
            ]
          },
          "metadata": {},
          "execution_count": 60
        }
      ]
    },
    {
      "cell_type": "code",
      "source": [
        "url_cdtx = \"https://raw.githubusercontent.com/Tom-Jung/legendary-funicular/main/cd_tax.csv\"  #코드매치 파일 불러오기\n",
        "cd_tx = pd.read_csv(url_cdtx)\n",
        "cd_tx.shape"
      ],
      "metadata": {
        "id": "U2KVZnyLGAyV",
        "outputId": "c198016e-3d1f-4c73-cf30-b2d076520268",
        "colab": {
          "base_uri": "https://localhost:8080/"
        }
      },
      "execution_count": 61,
      "outputs": [
        {
          "output_type": "execute_result",
          "data": {
            "text/plain": [
              "(67, 3)"
            ]
          },
          "metadata": {},
          "execution_count": 61
        }
      ]
    },
    {
      "cell_type": "code",
      "source": [
        "url_cns = \"https://raw.githubusercontent.com/Tom-Jung/legendary-funicular/main/cd_cons.csv\"  #코드매치 파일 불러오기\n",
        "cd_cns = pd.read_csv(url_cns)\n",
        "cd_cns.shape"
      ],
      "metadata": {
        "id": "JQxUsF6DiW7A",
        "outputId": "5a11d90c-9df1-44f0-fe1f-3171327d791d",
        "colab": {
          "base_uri": "https://localhost:8080/"
        }
      },
      "execution_count": 62,
      "outputs": [
        {
          "output_type": "execute_result",
          "data": {
            "text/plain": [
              "(67, 3)"
            ]
          },
          "metadata": {},
          "execution_count": 62
        }
      ]
    },
    {
      "cell_type": "code",
      "source": [
        "# Mtx_tx= np.zeros((6,3195)) # 부문통합을 위한 코드가 많을 경우 상기의 코드를 수작업으로 미리 하는 것이 쉽자 않으므로 반복문을 통해 3x33 임시코드 만들기\n",
        "# cd_3 = cd_for_itr_tx[:,1]\n",
        "# cd_33 = cd_for_itr_tx[:,0]\n",
        "# row=cd_3\n",
        "# col=cd_33\n",
        "# for i, j in zip(row,col):\n",
        "#   Mtx_tx[i-1,j-1] = 1\n",
        "# print(Mtx_tx)"
      ],
      "metadata": {
        "id": "jzhKiWaFKZJG"
      },
      "execution_count": 63,
      "outputs": []
    },
    {
      "cell_type": "code",
      "source": [
        "ccdd_cns = cd_cns.to_numpy()\n",
        "cd_for_itr_cns = ccdd_cns[:,1:]\n",
        "# cd_for_itr_tx"
      ],
      "metadata": {
        "id": "GqX0Pk4vprXZ"
      },
      "execution_count": 64,
      "outputs": []
    },
    {
      "cell_type": "code",
      "source": [
        "Mtx_cns= np.zeros((6,67)) # 부문통합을 위한 코드가 많을 경우 상기의 코드를 수작업으로 미리 하는 것이 쉽자 않으므로 반복문을 통해 3x33 임시코드 만들기\n",
        "cd_3 = cd_for_itr_cns[:,1]\n",
        "cd_33 = cd_for_itr_cns[:,0]\n",
        "row=cd_3\n",
        "col=cd_33\n",
        "for i, j in zip(row,col):\n",
        "  Mtx_cns[i-1,j-1] = 1\n",
        "print(Mtx_cns)"
      ],
      "metadata": {
        "id": "J3tdCNxcprdM",
        "outputId": "111e6111-dc66-43fd-a6a7-49b569465069",
        "colab": {
          "base_uri": "https://localhost:8080/"
        }
      },
      "execution_count": 65,
      "outputs": [
        {
          "output_type": "stream",
          "name": "stdout",
          "text": [
            "[[0. 0. 0. 0. 0. 0. 0. 0. 0. 0. 0. 0. 0. 0. 0. 0. 0. 0. 0. 0. 1. 0. 0. 0.\n",
            "  0. 0. 0. 0. 0. 0. 0. 0. 0. 0. 0. 0. 0. 0. 0. 0. 0. 0. 0. 0. 0. 0. 0. 0.\n",
            "  0. 0. 0. 0. 0. 0. 0. 0. 0. 0. 0. 0. 0. 0. 0. 0. 0. 0. 0.]\n",
            " [0. 0. 0. 0. 0. 0. 0. 0. 0. 0. 0. 0. 0. 0. 0. 0. 0. 0. 0. 0. 0. 0. 0. 0.\n",
            "  0. 0. 0. 0. 0. 0. 0. 0. 0. 0. 0. 0. 0. 0. 0. 0. 0. 0. 0. 1. 0. 0. 0. 0.\n",
            "  0. 0. 0. 0. 0. 0. 0. 0. 0. 0. 0. 0. 0. 0. 0. 0. 0. 0. 0.]\n",
            " [0. 0. 0. 0. 0. 0. 0. 0. 0. 0. 0. 0. 0. 0. 0. 0. 0. 0. 0. 0. 0. 0. 0. 0.\n",
            "  0. 0. 0. 0. 0. 0. 0. 0. 0. 0. 0. 0. 0. 1. 0. 0. 0. 0. 0. 0. 0. 0. 0. 0.\n",
            "  0. 0. 0. 0. 0. 0. 0. 0. 0. 0. 0. 0. 0. 0. 0. 0. 0. 0. 0.]\n",
            " [0. 0. 0. 0. 0. 0. 0. 0. 0. 0. 0. 0. 0. 0. 0. 0. 0. 0. 0. 1. 0. 0. 0. 0.\n",
            "  0. 0. 0. 0. 0. 0. 0. 0. 0. 0. 0. 0. 0. 0. 0. 0. 0. 0. 0. 0. 0. 0. 0. 0.\n",
            "  0. 0. 0. 0. 0. 0. 0. 0. 0. 0. 0. 0. 0. 0. 0. 0. 0. 0. 0.]\n",
            " [0. 1. 1. 0. 0. 0. 0. 1. 1. 1. 1. 1. 1. 1. 1. 0. 1. 0. 1. 0. 0. 1. 1. 1.\n",
            "  0. 1. 0. 0. 1. 1. 0. 1. 1. 1. 0. 0. 0. 0. 0. 0. 0. 1. 0. 0. 1. 1. 0. 0.\n",
            "  0. 0. 0. 0. 1. 0. 0. 0. 0. 1. 0. 0. 0. 0. 0. 0. 0. 0. 0.]\n",
            " [1. 0. 0. 1. 1. 1. 1. 0. 0. 0. 0. 0. 0. 0. 0. 1. 0. 1. 0. 0. 0. 0. 0. 0.\n",
            "  1. 0. 1. 1. 0. 0. 1. 0. 0. 0. 1. 1. 1. 0. 1. 1. 1. 0. 1. 0. 0. 0. 1. 1.\n",
            "  1. 1. 1. 1. 0. 1. 1. 1. 1. 0. 1. 1. 1. 1. 1. 1. 1. 1. 1.]]\n"
          ]
        }
      ]
    },
    {
      "cell_type": "code",
      "source": [
        "# code_tx = Mtx_tx\n",
        "code_cns = Mtx_cns\n",
        "code_cns.shape"
      ],
      "metadata": {
        "id": "PraMpI0AKZL1",
        "colab": {
          "base_uri": "https://localhost:8080/"
        },
        "outputId": "b23c5f48-2540-4c59-e4ad-a6b0c2f800bb"
      },
      "execution_count": 66,
      "outputs": [
        {
          "output_type": "execute_result",
          "data": {
            "text/plain": [
              "(6, 67)"
            ]
          },
          "metadata": {},
          "execution_count": 66
        }
      ]
    },
    {
      "cell_type": "code",
      "source": [
        "nae_tx = code_cns@icio_2[3195:3262,0:3195]@code.T # 세금 행을 6부문으로 만들기\n",
        "nae_tx"
      ],
      "metadata": {
        "id": "5c-zt7MIK-xv",
        "outputId": "be25b8db-2363-433d-d645-56a09338e966",
        "colab": {
          "base_uri": "https://localhost:8080/"
        }
      },
      "execution_count": 67,
      "outputs": [
        {
          "output_type": "execute_result",
          "data": {
            "text/plain": [
              "array([[799.449289, 33629.019465, 47479.193732, 0.0, 0.0, 0.0, 0.0, 0.0,\n",
              "        0.0, 0.0, 0.0, 0.0, 0.0, 0.0, 0.0, 0.0, 0.0, 0.0],\n",
              "       [0.0, 0.0, 0.0, -18166.485431, 428754.9691040001, 286541.321186,\n",
              "        0.0, 0.0, 0.0, 0.0, 0.0, 0.0, 0.0, 0.0, 0.0, 0.0, 0.0, 0.0],\n",
              "       [0.0, 0.0, 0.0, 0.0, 0.0, 0.0, 2699.4965349999998,\n",
              "        93943.52351400001, 219416.35282300002, 0.0, 0.0, 0.0, 0.0, 0.0,\n",
              "        0.0, 0.0, 0.0, 0.0],\n",
              "       [0.0, 0.0, 0.0, 0.0, 0.0, 0.0, 0.0, 0.0, 0.0, 2388.057648,\n",
              "        96383.20598599999, 64084.996617000004, 0.0, 0.0, 0.0, 0.0, 0.0,\n",
              "        0.0],\n",
              "       [0.0, 0.0, 0.0, 0.0, 0.0, 0.0, 0.0, 0.0, 0.0, 0.0, 0.0, 0.0,\n",
              "        17526.94502899999, 238297.292478, 498816.7255149997, 0.0, 0.0,\n",
              "        0.0],\n",
              "       [-0.00148, -0.01736499999999999, -0.004566999999999999, 0.0, 0.0,\n",
              "        0.0, -0.488514, -1.2027690000000002, -0.110638, 0.0, 0.0, 0.0,\n",
              "        -2.5962949999999996, -9.808466, -1.132283, 34828.46517799999,\n",
              "        398513.52611700003, 614442.5984170005]], dtype=object)"
            ]
          },
          "metadata": {},
          "execution_count": 67
        }
      ]
    },
    {
      "cell_type": "code",
      "source": [
        "va_row = icio_2[3262:,0:3195]@code.T # 중투합, 피용자보수, 영업잉여, 고정자본소모, 기타생산세, 부가가치계, 산출액(7X3)\n",
        "va_row"
      ],
      "metadata": {
        "id": "qztNjQCtK-0Y",
        "outputId": "a5174251-cb09-4a5c-8903-835a7c183481",
        "colab": {
          "base_uri": "https://localhost:8080/"
        }
      },
      "execution_count": 68,
      "outputs": [
        {
          "output_type": "execute_result",
          "data": {
            "text/plain": [
              "array([[30122.760078, 461407.057533, 1086426.202384, 939956.9125069999,\n",
              "        3875230.7805330004, 7974934.793033998, 189809.860399,\n",
              "        2624235.468104, 17048993.168002002, 49661.415264999996,\n",
              "        994881.1418300001, 3623356.136527, 254118.11392399995,\n",
              "        2449788.5691129975, 11483927.38627402, 1960964.892598,\n",
              "        5989787.542722994, 18863785.412294],\n",
              "       [57218.381578, 1668464.2372480002, 2097727.368706, 2125907.816808,\n",
              "        17184795.339190997, 15705083.875234999, 466589.927573,\n",
              "        6836953.243108001, 28592845.82552, 111408.41369900001,\n",
              "        2920191.446438, 5897666.385726, 563753.8058219998,\n",
              "        8030492.383054005, 20831575.541084014, 3153328.681623,\n",
              "        16512152.189489014, 32545284.27314001]], dtype=object)"
            ]
          },
          "metadata": {},
          "execution_count": 68
        }
      ]
    },
    {
      "cell_type": "code",
      "source": [
        "url_cdfd = \"https://raw.githubusercontent.com/Tom-Jung/legendary-funicular/main/cd_fd.csv\"  #코드매치 파일 불러오기\n",
        "cd_fd = pd.read_csv(url_cdfd)\n",
        "cd_fd.head()"
      ],
      "metadata": {
        "id": "TveEEi60VWLR",
        "outputId": "85d7bf7d-ef85-45c1-ddf9-ffaf96ea5377",
        "colab": {
          "base_uri": "https://localhost:8080/",
          "height": 206
        }
      },
      "execution_count": 69,
      "outputs": [
        {
          "output_type": "execute_result",
          "data": {
            "text/plain": [
              "        cons  old  new\n",
              "0   AUS_HFCE    1   16\n",
              "1  AUS_NPISH    2   16\n",
              "2   AUS_GGFC    3   16\n",
              "3   AUS_GFCF    4   17\n",
              "4  AUS_INVNT    5   17"
            ],
            "text/html": [
              "\n",
              "\n",
              "  <div id=\"df-dc2fdb30-1bba-42a3-b9a5-266e69d232ba\">\n",
              "    <div class=\"colab-df-container\">\n",
              "      <div>\n",
              "<style scoped>\n",
              "    .dataframe tbody tr th:only-of-type {\n",
              "        vertical-align: middle;\n",
              "    }\n",
              "\n",
              "    .dataframe tbody tr th {\n",
              "        vertical-align: top;\n",
              "    }\n",
              "\n",
              "    .dataframe thead th {\n",
              "        text-align: right;\n",
              "    }\n",
              "</style>\n",
              "<table border=\"1\" class=\"dataframe\">\n",
              "  <thead>\n",
              "    <tr style=\"text-align: right;\">\n",
              "      <th></th>\n",
              "      <th>cons</th>\n",
              "      <th>old</th>\n",
              "      <th>new</th>\n",
              "    </tr>\n",
              "  </thead>\n",
              "  <tbody>\n",
              "    <tr>\n",
              "      <th>0</th>\n",
              "      <td>AUS_HFCE</td>\n",
              "      <td>1</td>\n",
              "      <td>16</td>\n",
              "    </tr>\n",
              "    <tr>\n",
              "      <th>1</th>\n",
              "      <td>AUS_NPISH</td>\n",
              "      <td>2</td>\n",
              "      <td>16</td>\n",
              "    </tr>\n",
              "    <tr>\n",
              "      <th>2</th>\n",
              "      <td>AUS_GGFC</td>\n",
              "      <td>3</td>\n",
              "      <td>16</td>\n",
              "    </tr>\n",
              "    <tr>\n",
              "      <th>3</th>\n",
              "      <td>AUS_GFCF</td>\n",
              "      <td>4</td>\n",
              "      <td>17</td>\n",
              "    </tr>\n",
              "    <tr>\n",
              "      <th>4</th>\n",
              "      <td>AUS_INVNT</td>\n",
              "      <td>5</td>\n",
              "      <td>17</td>\n",
              "    </tr>\n",
              "  </tbody>\n",
              "</table>\n",
              "</div>\n",
              "      <button class=\"colab-df-convert\" onclick=\"convertToInteractive('df-dc2fdb30-1bba-42a3-b9a5-266e69d232ba')\"\n",
              "              title=\"Convert this dataframe to an interactive table.\"\n",
              "              style=\"display:none;\">\n",
              "\n",
              "  <svg xmlns=\"http://www.w3.org/2000/svg\" height=\"24px\"viewBox=\"0 0 24 24\"\n",
              "       width=\"24px\">\n",
              "    <path d=\"M0 0h24v24H0V0z\" fill=\"none\"/>\n",
              "    <path d=\"M18.56 5.44l.94 2.06.94-2.06 2.06-.94-2.06-.94-.94-2.06-.94 2.06-2.06.94zm-11 1L8.5 8.5l.94-2.06 2.06-.94-2.06-.94L8.5 2.5l-.94 2.06-2.06.94zm10 10l.94 2.06.94-2.06 2.06-.94-2.06-.94-.94-2.06-.94 2.06-2.06.94z\"/><path d=\"M17.41 7.96l-1.37-1.37c-.4-.4-.92-.59-1.43-.59-.52 0-1.04.2-1.43.59L10.3 9.45l-7.72 7.72c-.78.78-.78 2.05 0 2.83L4 21.41c.39.39.9.59 1.41.59.51 0 1.02-.2 1.41-.59l7.78-7.78 2.81-2.81c.8-.78.8-2.07 0-2.86zM5.41 20L4 18.59l7.72-7.72 1.47 1.35L5.41 20z\"/>\n",
              "  </svg>\n",
              "      </button>\n",
              "\n",
              "\n",
              "\n",
              "    <div id=\"df-27c06ac8-bdda-4253-b6e7-afd87142daed\">\n",
              "      <button class=\"colab-df-quickchart\" onclick=\"quickchart('df-27c06ac8-bdda-4253-b6e7-afd87142daed')\"\n",
              "              title=\"Suggest charts.\"\n",
              "              style=\"display:none;\">\n",
              "\n",
              "<svg xmlns=\"http://www.w3.org/2000/svg\" height=\"24px\"viewBox=\"0 0 24 24\"\n",
              "     width=\"24px\">\n",
              "    <g>\n",
              "        <path d=\"M19 3H5c-1.1 0-2 .9-2 2v14c0 1.1.9 2 2 2h14c1.1 0 2-.9 2-2V5c0-1.1-.9-2-2-2zM9 17H7v-7h2v7zm4 0h-2V7h2v10zm4 0h-2v-4h2v4z\"/>\n",
              "    </g>\n",
              "</svg>\n",
              "      </button>\n",
              "    </div>\n",
              "\n",
              "<style>\n",
              "  .colab-df-quickchart {\n",
              "    background-color: #E8F0FE;\n",
              "    border: none;\n",
              "    border-radius: 50%;\n",
              "    cursor: pointer;\n",
              "    display: none;\n",
              "    fill: #1967D2;\n",
              "    height: 32px;\n",
              "    padding: 0 0 0 0;\n",
              "    width: 32px;\n",
              "  }\n",
              "\n",
              "  .colab-df-quickchart:hover {\n",
              "    background-color: #E2EBFA;\n",
              "    box-shadow: 0px 1px 2px rgba(60, 64, 67, 0.3), 0px 1px 3px 1px rgba(60, 64, 67, 0.15);\n",
              "    fill: #174EA6;\n",
              "  }\n",
              "\n",
              "  [theme=dark] .colab-df-quickchart {\n",
              "    background-color: #3B4455;\n",
              "    fill: #D2E3FC;\n",
              "  }\n",
              "\n",
              "  [theme=dark] .colab-df-quickchart:hover {\n",
              "    background-color: #434B5C;\n",
              "    box-shadow: 0px 1px 3px 1px rgba(0, 0, 0, 0.15);\n",
              "    filter: drop-shadow(0px 1px 2px rgba(0, 0, 0, 0.3));\n",
              "    fill: #FFFFFF;\n",
              "  }\n",
              "</style>\n",
              "\n",
              "    <script>\n",
              "      async function quickchart(key) {\n",
              "        const containerElement = document.querySelector('#' + key);\n",
              "        const charts = await google.colab.kernel.invokeFunction(\n",
              "            'suggestCharts', [key], {});\n",
              "      }\n",
              "    </script>\n",
              "\n",
              "      <script>\n",
              "\n",
              "function displayQuickchartButton(domScope) {\n",
              "  let quickchartButtonEl =\n",
              "    domScope.querySelector('#df-27c06ac8-bdda-4253-b6e7-afd87142daed button.colab-df-quickchart');\n",
              "  quickchartButtonEl.style.display =\n",
              "    google.colab.kernel.accessAllowed ? 'block' : 'none';\n",
              "}\n",
              "\n",
              "        displayQuickchartButton(document);\n",
              "      </script>\n",
              "      <style>\n",
              "    .colab-df-container {\n",
              "      display:flex;\n",
              "      flex-wrap:wrap;\n",
              "      gap: 12px;\n",
              "    }\n",
              "\n",
              "    .colab-df-convert {\n",
              "      background-color: #E8F0FE;\n",
              "      border: none;\n",
              "      border-radius: 50%;\n",
              "      cursor: pointer;\n",
              "      display: none;\n",
              "      fill: #1967D2;\n",
              "      height: 32px;\n",
              "      padding: 0 0 0 0;\n",
              "      width: 32px;\n",
              "    }\n",
              "\n",
              "    .colab-df-convert:hover {\n",
              "      background-color: #E2EBFA;\n",
              "      box-shadow: 0px 1px 2px rgba(60, 64, 67, 0.3), 0px 1px 3px 1px rgba(60, 64, 67, 0.15);\n",
              "      fill: #174EA6;\n",
              "    }\n",
              "\n",
              "    [theme=dark] .colab-df-convert {\n",
              "      background-color: #3B4455;\n",
              "      fill: #D2E3FC;\n",
              "    }\n",
              "\n",
              "    [theme=dark] .colab-df-convert:hover {\n",
              "      background-color: #434B5C;\n",
              "      box-shadow: 0px 1px 3px 1px rgba(0, 0, 0, 0.15);\n",
              "      filter: drop-shadow(0px 1px 2px rgba(0, 0, 0, 0.3));\n",
              "      fill: #FFFFFF;\n",
              "    }\n",
              "  </style>\n",
              "\n",
              "      <script>\n",
              "        const buttonEl =\n",
              "          document.querySelector('#df-dc2fdb30-1bba-42a3-b9a5-266e69d232ba button.colab-df-convert');\n",
              "        buttonEl.style.display =\n",
              "          google.colab.kernel.accessAllowed ? 'block' : 'none';\n",
              "\n",
              "        async function convertToInteractive(key) {\n",
              "          const element = document.querySelector('#df-dc2fdb30-1bba-42a3-b9a5-266e69d232ba');\n",
              "          const dataTable =\n",
              "            await google.colab.kernel.invokeFunction('convertToInteractive',\n",
              "                                                     [key], {});\n",
              "          if (!dataTable) return;\n",
              "\n",
              "          const docLinkHtml = 'Like what you see? Visit the ' +\n",
              "            '<a target=\"_blank\" href=https://colab.research.google.com/notebooks/data_table.ipynb>data table notebook</a>'\n",
              "            + ' to learn more about interactive tables.';\n",
              "          element.innerHTML = '';\n",
              "          dataTable['output_type'] = 'display_data';\n",
              "          await google.colab.output.renderOutput(dataTable, element);\n",
              "          const docLink = document.createElement('div');\n",
              "          docLink.innerHTML = docLinkHtml;\n",
              "          element.appendChild(docLink);\n",
              "        }\n",
              "      </script>\n",
              "    </div>\n",
              "  </div>\n"
            ]
          },
          "metadata": {},
          "execution_count": 69
        }
      ]
    },
    {
      "cell_type": "code",
      "source": [
        "ccdd_fd = cd_fd.to_numpy()\n",
        "cd_for_itr_fd = ccdd_fd[:,1:]\n",
        "cd_for_itr_fd.shape"
      ],
      "metadata": {
        "id": "lyL9UFZoVmBn",
        "outputId": "92a1351d-6e09-4594-a3fd-2cc74dfa8367",
        "colab": {
          "base_uri": "https://localhost:8080/"
        }
      },
      "execution_count": 70,
      "outputs": [
        {
          "output_type": "execute_result",
          "data": {
            "text/plain": [
              "(402, 2)"
            ]
          },
          "metadata": {},
          "execution_count": 70
        }
      ]
    },
    {
      "cell_type": "code",
      "source": [
        "Mtx_fd= np.zeros((18,402)) # 부문통합을 위한 코드가 많을 경우 상기의 코드를 수작업으로 미리 하는 것이 쉽자 않으므로 반복문을 통해 3x33 임시코드 만들기\n",
        "cd_3 = cd_for_itr_fd[:,1]\n",
        "cd_33 = cd_for_itr_fd[:,0]\n",
        "row=cd_3\n",
        "col=cd_33\n",
        "for i, j in zip(row,col):\n",
        "  Mtx_fd[i-1,j-1] = 1\n",
        "print(Mtx_fd)"
      ],
      "metadata": {
        "id": "-DfyrxNAVmEF",
        "outputId": "9ef0d1e5-5366-42c5-c1b6-e3aa3e157b65",
        "colab": {
          "base_uri": "https://localhost:8080/"
        }
      },
      "execution_count": 71,
      "outputs": [
        {
          "output_type": "stream",
          "name": "stdout",
          "text": [
            "[[0. 0. 0. ... 0. 0. 0.]\n",
            " [0. 0. 0. ... 0. 0. 0.]\n",
            " [0. 0. 0. ... 0. 0. 0.]\n",
            " ...\n",
            " [1. 1. 1. ... 0. 0. 0.]\n",
            " [0. 0. 0. ... 1. 1. 0.]\n",
            " [0. 0. 0. ... 0. 0. 1.]]\n"
          ]
        }
      ]
    },
    {
      "cell_type": "code",
      "source": [
        "code_fd = Mtx_fd\n",
        "code_fd.shape"
      ],
      "metadata": {
        "id": "DCfHIGyDVmGS",
        "outputId": "e2304d8c-58f9-492e-bfcb-640d7b4409b5",
        "colab": {
          "base_uri": "https://localhost:8080/"
        }
      },
      "execution_count": 72,
      "outputs": [
        {
          "output_type": "execute_result",
          "data": {
            "text/plain": [
              "(18, 402)"
            ]
          },
          "metadata": {},
          "execution_count": 72
        }
      ]
    },
    {
      "cell_type": "code",
      "source": [
        "fd = code@icio_2[0:3195,3195:3597]@code_fd.T # 최종수요를 6부문으로 만들기\n",
        "fd.shape"
      ],
      "metadata": {
        "id": "Q0YhpDKhVmIY",
        "outputId": "ab3027ec-0491-4438-b1b9-bc5e173a1537",
        "colab": {
          "base_uri": "https://localhost:8080/"
        }
      },
      "execution_count": 73,
      "outputs": [
        {
          "output_type": "execute_result",
          "data": {
            "text/plain": [
              "(18, 18)"
            ]
          },
          "metadata": {},
          "execution_count": 73
        }
      ]
    },
    {
      "cell_type": "code",
      "source": [
        "fd_tx = code_cns@icio_2[3195:3262,3195:3597]@code_fd.T\n",
        "fd_tx.shape"
      ],
      "metadata": {
        "id": "NJdAdoVPtVq4",
        "outputId": "38db89fc-613f-43f5-9c83-61826f41f5a1",
        "colab": {
          "base_uri": "https://localhost:8080/"
        }
      },
      "execution_count": 74,
      "outputs": [
        {
          "output_type": "execute_result",
          "data": {
            "text/plain": [
              "(6, 18)"
            ]
          },
          "metadata": {},
          "execution_count": 74
        }
      ]
    },
    {
      "cell_type": "code",
      "source": [
        "fd_row=np.concatenate((fd,fd_tx, np.zeros((2,18))))\n",
        "fd_row.shape"
      ],
      "metadata": {
        "colab": {
          "base_uri": "https://localhost:8080/"
        },
        "id": "LWL1uNCO_A95",
        "outputId": "aec4c754-b40e-4847-96e2-24060761d4cf"
      },
      "execution_count": 75,
      "outputs": [
        {
          "output_type": "execute_result",
          "data": {
            "text/plain": [
              "(26, 18)"
            ]
          },
          "metadata": {},
          "execution_count": 75
        }
      ]
    },
    {
      "cell_type": "code",
      "source": [
        "icio_row = np.concatenate((nae_tot_col,nae_tx, va_row))\n",
        "icio_row.shape"
      ],
      "metadata": {
        "id": "ydBppFx_VmKX",
        "colab": {
          "base_uri": "https://localhost:8080/"
        },
        "outputId": "e941e389-f671-44fe-dac1-9c6a009da1cf"
      },
      "execution_count": 76,
      "outputs": [
        {
          "output_type": "execute_result",
          "data": {
            "text/plain": [
              "(26, 18)"
            ]
          },
          "metadata": {},
          "execution_count": 76
        }
      ]
    },
    {
      "cell_type": "code",
      "source": [
        "icio_col = np.concatenate((icio_row, fd_row), axis=1)"
      ],
      "metadata": {
        "id": "9AmJvsmzVmMM"
      },
      "execution_count": 77,
      "outputs": []
    },
    {
      "cell_type": "code",
      "source": [
        "icio_col_sm = icio_col.sum(axis=1).reshape([26,1]) # 충수요계(산출액과 동일)"
      ],
      "metadata": {
        "id": "8e_Mqf7KVmOa"
      },
      "execution_count": 78,
      "outputs": []
    },
    {
      "cell_type": "code",
      "source": [
        "icio_f = np.concatenate((icio_col, icio_col_sm), axis=1).astype(float)"
      ],
      "metadata": {
        "id": "Ic43tRaAVmQd"
      },
      "execution_count": 79,
      "outputs": []
    },
    {
      "cell_type": "code",
      "source": [
        "ICIO_df = pd.DataFrame(icio_f, columns = [['KOR', 'KOR', 'KOR', 'CHN', 'CHN', 'CHN', 'USA', 'USA', 'USA', 'JPN', 'JPN','JPN',\n",
        "                                             'EU', 'EU', 'EU', 'ROW', 'ROW', 'ROW',\n",
        "                                            'KOR', 'KOR', 'KOR', 'CHN', 'CHN', 'CHN', 'USA', 'USA', 'USA', 'JPN', 'JPN','JPN',\n",
        "                                             'EU', 'EU', 'EU', 'ROW', 'ROW', 'ROW', 'Total'],\n",
        "\n",
        "                                      ['Agr', 'Manu', 'Serv', 'Agr', 'Manu', 'Serv','Agr', 'Manu', 'Serv', 'Agr', 'Manu', 'Serv','Agr', 'Manu', 'Serv','Agr', 'Manu', 'Serv',\n",
        "                                        'Cons', 'Inv','Exp','Cons', 'Inv','Exp','Cons', 'Inv','Exp','Cons', 'Inv','Exp','Cons', 'Inv','Exp','Cons', 'Inv','Exp','Tot']],\n",
        "\n",
        "                                    index=[['KOR', 'KOR', 'KOR', 'CHN', 'CHN', 'CHN', 'USA', 'USA', 'USA', 'JPN', 'JPN','JPN',\n",
        "                                             'EU', 'EU', 'EU', 'ROW', 'ROW', 'ROW','Tax_KOR','Tax_CHN','Tax_USA','Tax_JPN','Tax_EU','Tax_ROW','VA','CT'],\n",
        "                                           ['Agr', 'Manu', 'Serv', 'Agr', 'Manu', 'Serv','Agr', 'Manu', 'Serv', 'Agr', 'Manu', 'Serv',\n",
        "                                            'Agr', 'Manu', 'Serv','Agr', 'Manu', 'Serv','Tax_KOR','Tax_CHN','Tax_USA','Tax_JPN','Tax_EU','Tax_ROW','VA','Output']])\n",
        "ICIO_df.index.names=['Country', 'Secs']"
      ],
      "metadata": {
        "id": "rtItKkheBmQm"
      },
      "execution_count": 80,
      "outputs": []
    },
    {
      "cell_type": "code",
      "source": [
        "ICIO_df.to_csv('ICIO_6cons_3secs.csv')"
      ],
      "metadata": {
        "id": "3Rq2EJgr1YSW"
      },
      "execution_count": 81,
      "outputs": []
    },
    {
      "cell_type": "code",
      "source": [
        "ICIO_df_show = pd.DataFrame(icio_f.round(1), columns = [['KOR', 'KOR', 'KOR', 'CHN', 'CHN', 'CHN', 'USA', 'USA', 'USA', 'JPN', 'JPN','JPN',\n",
        "                                             'EU', 'EU', 'EU', 'ROW', 'ROW', 'ROW',\n",
        "                                            'KOR', 'KOR', 'KOR', 'CHN', 'CHN', 'CHN', 'USA', 'USA', 'USA', 'JPN', 'JPN','JPN',\n",
        "                                             'EU', 'EU', 'EU', 'ROW', 'ROW', 'ROW', 'Total'],\n",
        "\n",
        "                                      ['Agr', 'Manu', 'Serv', 'Agr', 'Manu', 'Serv','Agr', 'Manu', 'Serv', 'Agr', 'Manu', 'Serv','Agr', 'Manu', 'Serv','Agr', 'Manu', 'Serv',\n",
        "                                        'Cons', 'Inv','Exp','Cons', 'Inv','Exp','Cons', 'Inv','Exp','Cons', 'Inv','Exp','Cons', 'Inv','Exp','Cons', 'Inv','Exp','Tot']],\n",
        "\n",
        "                                    index=[['KOR', 'KOR', 'KOR', 'CHN', 'CHN', 'CHN', 'USA', 'USA', 'USA', 'JPN', 'JPN','JPN',\n",
        "                                             'EU', 'EU', 'EU', 'ROW', 'ROW', 'ROW','Tax_KOR','Tax_CHN','Tax_USA','Tax_JPN','Tax_EU','Tax_ROW','VA','CT'],\n",
        "                                           ['Agr', 'Manu', 'Serv', 'Agr', 'Manu', 'Serv','Agr', 'Manu', 'Serv', 'Agr', 'Manu', 'Serv',\n",
        "                                            'Agr', 'Manu', 'Serv','Agr', 'Manu', 'Serv','Tax_KOR','Tax_CHN','Tax_USA','Tax_JPN','Tax_EU','Tax_ROW','VA','Output']])\n",
        "ICIO_df.index.names=['Country', 'Secs']"
      ],
      "metadata": {
        "id": "KTuvCzjHWf4s"
      },
      "execution_count": 82,
      "outputs": []
    },
    {
      "cell_type": "code",
      "source": [
        "ICIO_df_show"
      ],
      "metadata": {
        "colab": {
          "base_uri": "https://localhost:8080/",
          "height": 989
        },
        "id": "MkTMOiEJF1XB",
        "outputId": "4553819c-6b82-4550-faa3-b29033b71e0e"
      },
      "execution_count": 83,
      "outputs": [
        {
          "output_type": "execute_result",
          "data": {
            "text/plain": [
              "                     KOR                              CHN              \\\n",
              "                     Agr       Manu       Serv        Agr        Manu   \n",
              "KOR     Agr       2469.3    28195.5    10238.5       13.2        29.4   \n",
              "        Manu     10967.0   559580.9   259256.2     5004.8    124554.1   \n",
              "        Serv      8516.6   263317.9   542061.6     1129.1     13943.9   \n",
              "CHN     Agr         31.5      372.6      123.2   438877.2    969085.5   \n",
              "        Manu       682.4    53244.3    18295.4   457060.5   8094558.0   \n",
              "        Serv       105.7     6039.7     8408.6   240006.8   2610966.5   \n",
              "USA     Agr        112.7     1292.5      389.5     2036.4      4653.4   \n",
              "        Manu       406.9    21703.2     9257.0     2959.2     57445.9   \n",
              "        Serv       305.5     9533.4    11819.1     2650.7     24156.4   \n",
              "JPN     Agr          2.4       19.0       16.0       32.0        81.8   \n",
              "        Manu       285.1    25944.1     7394.5     3144.1     77238.4   \n",
              "        Serv        90.7     5717.4     3688.2     1122.3     18205.6   \n",
              "EU      Agr         13.6      139.8       62.9      405.7       971.5   \n",
              "        Manu       348.3    23565.8     9566.3     6084.7    100318.0   \n",
              "        Serv       167.2     6849.5     9320.2     3550.0     34848.2   \n",
              "ROW     Agr        209.2     2298.4      958.8    13475.2     30130.3   \n",
              "        Manu      1153.4   147005.1    46761.5    17637.8    625596.3   \n",
              "        Serv       429.0    18609.0    26204.4     8927.6     94026.3   \n",
              "Tax_KOR Tax_KOR    799.4    33629.0    47479.2        0.0         0.0   \n",
              "Tax_CHN Tax_CHN      0.0        0.0        0.0   -18166.5    428755.0   \n",
              "Tax_USA Tax_USA      0.0        0.0        0.0        0.0         0.0   \n",
              "Tax_JPN Tax_JPN      0.0        0.0        0.0        0.0         0.0   \n",
              "Tax_EU  Tax_EU       0.0        0.0        0.0        0.0         0.0   \n",
              "Tax_ROW Tax_ROW     -0.0       -0.0       -0.0        0.0         0.0   \n",
              "VA      VA       30122.8   461407.1  1086426.2   939956.9   3875230.8   \n",
              "CT      Output   57218.4  1668464.2  2097727.4  2125907.8  17184795.3   \n",
              "\n",
              "                                  USA                              JPN  ...  \\\n",
              "                       Serv       Agr       Manu        Serv       Agr  ...   \n",
              "KOR     Agr             3.9      37.1      165.1        70.2      19.1  ...   \n",
              "        Manu        29490.7     396.6    19252.3     13595.8     219.9  ...   \n",
              "        Serv         9905.4      47.0     1705.5      4161.8      38.1  ...   \n",
              "CHN     Agr        150018.7     268.3      851.4       268.5     210.9  ...   \n",
              "        Manu      3401812.3    1820.8    88087.7     94776.2     790.1  ...   \n",
              "        Serv      3490900.6     202.8     8636.4     18260.8     156.6  ...   \n",
              "USA     Agr           773.3   82976.5   208796.0     19988.6     629.1  ...   \n",
              "        Manu        16846.7   67741.5  1665793.3   1454826.0     405.9  ...   \n",
              "        Serv        23409.1  100286.1  1495083.5   9182058.2     518.0  ...   \n",
              "JPN     Agr            13.6       9.9      181.7       180.9   12151.4  ...   \n",
              "        Manu        20514.2     549.1    30608.7     19202.5   18072.5  ...   \n",
              "        Serv         9355.0     171.0     5700.6     11174.5   22472.9  ...   \n",
              "EU      Agr           229.2     442.5     1436.3       452.4      45.6  ...   \n",
              "        Manu        36721.9    2534.7    85880.0     64510.1     388.3  ...   \n",
              "        Serv        36768.3     778.8    21543.2     66465.9     198.2  ...   \n",
              "ROW     Agr          3994.6    6644.9    21651.6      7115.3    1157.6  ...   \n",
              "        Manu       140915.4    5987.0   393079.7    201365.4    1240.6  ...   \n",
              "        Serv        71935.0    3186.4    70322.3    165963.3     644.2  ...   \n",
              "Tax_KOR Tax_KOR         0.0       0.0        0.0         0.0       0.0  ...   \n",
              "Tax_CHN Tax_CHN    286541.3       0.0        0.0         0.0       0.0  ...   \n",
              "Tax_USA Tax_USA         0.0    2699.5    93943.5    219416.4       0.0  ...   \n",
              "Tax_JPN Tax_JPN         0.0       0.0        0.0         0.0    2388.1  ...   \n",
              "Tax_EU  Tax_EU          0.0       0.0        0.0         0.0       0.0  ...   \n",
              "Tax_ROW Tax_ROW         0.0      -0.5       -1.2        -0.1       0.0  ...   \n",
              "VA      VA        7974934.8  189809.9  2624235.5  17048993.2   49661.4  ...   \n",
              "CT      Output   15705083.9  466589.9  6836953.2  28592845.8  111408.4  ...   \n",
              "\n",
              "                                                     EU                       \\\n",
              "                      Cons       Inv     Exp       Cons        Inv       Exp   \n",
              "KOR     Agr           57.5       3.6    10.2       16.8        0.2       1.5   \n",
              "        Manu        7116.7    4064.3   167.2     9363.3     9834.0      37.0   \n",
              "        Serv        2133.9    1091.9   821.2     1838.1     1486.6     188.2   \n",
              "CHN     Agr          579.2      42.7    28.2      644.7       21.4      37.3   \n",
              "        Manu       46369.3   27453.6   368.1    91169.3    44287.2     729.9   \n",
              "        Serv        8703.1    5647.2  1331.1    18847.0     9968.9    2732.7   \n",
              "USA     Agr         1620.2     118.8    24.3     1880.5       59.5      69.3   \n",
              "        Manu       13849.2   12360.1   485.4    37746.2    28229.0    1882.6   \n",
              "        Serv       14958.7    6611.5  4701.5    42878.9    36136.0   18474.6   \n",
              "JPN     Agr        35608.5    2593.4     0.0       12.6        0.6       1.6   \n",
              "        Manu      515331.0  184578.3     0.0    12185.7    13904.9     306.1   \n",
              "        Serv     2877494.8  894873.9     0.3     5316.2     3735.2    1268.4   \n",
              "EU      Agr          231.8      12.9    25.8   187760.2    11268.8    2136.2   \n",
              "        Manu       19298.3    9042.4   214.2  1599505.7   888282.2   21765.5   \n",
              "        Serv       10435.4    4119.2  1424.3  8371820.4  2213748.4  158470.6   \n",
              "ROW     Agr         3245.4     235.4    86.5    18450.7      947.1     830.5   \n",
              "        Manu       47131.5   24181.5  1101.6   246024.1    82748.4   12147.3   \n",
              "        Serv       24441.3    8384.5  6156.0   138434.9    76260.4   71986.1   \n",
              "Tax_KOR Tax_KOR        0.0       0.0    52.4        0.0        0.0      10.6   \n",
              "Tax_CHN Tax_CHN        0.0       0.0   -28.5        0.0        0.0     -73.0   \n",
              "Tax_USA Tax_USA        0.0       0.0   279.7        0.0        0.0    1007.4   \n",
              "Tax_JPN Tax_JPN    91744.8   32695.5     0.0        0.0        0.0      47.0   \n",
              "Tax_EU  Tax_EU         0.0       0.0    20.9   721719.3   203416.2    1917.7   \n",
              "Tax_ROW Tax_ROW        0.0       0.0    74.4       -6.3       -0.2    3471.3   \n",
              "VA      VA             0.0       0.0     0.0        0.0        0.0       0.0   \n",
              "CT      Output         0.0       0.0     0.0        0.0        0.0       0.0   \n",
              "\n",
              "                        ROW                             Total  \n",
              "                       Cons        Inv       Exp          Tot  \n",
              "KOR     Agr           104.9        2.5      45.9      57218.4  \n",
              "        Manu        42256.7    55902.1     769.3    1668464.2  \n",
              "        Serv        11018.6     6267.2    3799.7    2097727.4  \n",
              "CHN     Agr          4812.1      289.5     266.2    2125907.8  \n",
              "        Manu       255285.4   230325.5    3625.7   17184795.3  \n",
              "        Serv        54127.6    30390.6   13833.2   15705083.9  \n",
              "USA     Agr         11482.9      555.3     502.6     466589.9  \n",
              "        Manu       171822.6   120237.5   10167.5    6836953.2  \n",
              "        Serv       146521.5    55871.9   94709.4   28592845.8  \n",
              "JPN     Agr           192.1        3.7      10.3     111408.4  \n",
              "        Manu        49314.6    81068.0    1398.2    2920191.4  \n",
              "        Serv        21264.1    16876.8    6738.1    5897666.4  \n",
              "EU      Agr         13694.3      837.6    1686.3     563753.8  \n",
              "        Manu       328455.4   259158.8   15726.5    8030492.4  \n",
              "        Serv       225672.3    95735.1  115081.5   20831575.5  \n",
              "ROW     Agr       1288314.8    66576.7    2550.0    3153328.7  \n",
              "        Manu      3462275.5  1560526.4   34037.3   16512152.2  \n",
              "        Serv     14291203.0  4367640.7  196180.9   32545284.3  \n",
              "Tax_KOR Tax_KOR         0.0        0.0     229.2     147681.4  \n",
              "Tax_CHN Tax_CHN         0.0        0.0    -306.2    1101680.4  \n",
              "Tax_USA Tax_USA         0.0        0.0    5491.0     748064.1  \n",
              "Tax_JPN Tax_JPN         0.0        0.0     231.0     288345.1  \n",
              "Tax_EU  Tax_EU          0.0        0.0    1632.4    1684179.2  \n",
              "Tax_ROW Tax_ROW    862673.8   244731.0    6764.6    2175505.1  \n",
              "VA      VA              0.0        0.0       0.0   79901387.6  \n",
              "CT      Output          0.0        0.0       0.0  165301439.1  \n",
              "\n",
              "[26 rows x 37 columns]"
            ],
            "text/html": [
              "\n",
              "\n",
              "  <div id=\"df-9069a746-43ac-4ed2-8044-0afdea66b444\">\n",
              "    <div class=\"colab-df-container\">\n",
              "      <div>\n",
              "<style scoped>\n",
              "    .dataframe tbody tr th:only-of-type {\n",
              "        vertical-align: middle;\n",
              "    }\n",
              "\n",
              "    .dataframe tbody tr th {\n",
              "        vertical-align: top;\n",
              "    }\n",
              "\n",
              "    .dataframe thead tr th {\n",
              "        text-align: left;\n",
              "    }\n",
              "</style>\n",
              "<table border=\"1\" class=\"dataframe\">\n",
              "  <thead>\n",
              "    <tr>\n",
              "      <th></th>\n",
              "      <th></th>\n",
              "      <th colspan=\"3\" halign=\"left\">KOR</th>\n",
              "      <th colspan=\"3\" halign=\"left\">CHN</th>\n",
              "      <th colspan=\"3\" halign=\"left\">USA</th>\n",
              "      <th colspan=\"5\" halign=\"left\">JPN</th>\n",
              "      <th colspan=\"3\" halign=\"left\">EU</th>\n",
              "      <th colspan=\"3\" halign=\"left\">ROW</th>\n",
              "      <th>Total</th>\n",
              "    </tr>\n",
              "    <tr>\n",
              "      <th></th>\n",
              "      <th></th>\n",
              "      <th>Agr</th>\n",
              "      <th>Manu</th>\n",
              "      <th>Serv</th>\n",
              "      <th>Agr</th>\n",
              "      <th>Manu</th>\n",
              "      <th>Serv</th>\n",
              "      <th>Agr</th>\n",
              "      <th>Manu</th>\n",
              "      <th>Serv</th>\n",
              "      <th>Agr</th>\n",
              "      <th>...</th>\n",
              "      <th>Cons</th>\n",
              "      <th>Inv</th>\n",
              "      <th>Exp</th>\n",
              "      <th>Cons</th>\n",
              "      <th>Inv</th>\n",
              "      <th>Exp</th>\n",
              "      <th>Cons</th>\n",
              "      <th>Inv</th>\n",
              "      <th>Exp</th>\n",
              "      <th>Tot</th>\n",
              "    </tr>\n",
              "  </thead>\n",
              "  <tbody>\n",
              "    <tr>\n",
              "      <th rowspan=\"3\" valign=\"top\">KOR</th>\n",
              "      <th>Agr</th>\n",
              "      <td>2469.3</td>\n",
              "      <td>28195.5</td>\n",
              "      <td>10238.5</td>\n",
              "      <td>13.2</td>\n",
              "      <td>29.4</td>\n",
              "      <td>3.9</td>\n",
              "      <td>37.1</td>\n",
              "      <td>165.1</td>\n",
              "      <td>70.2</td>\n",
              "      <td>19.1</td>\n",
              "      <td>...</td>\n",
              "      <td>57.5</td>\n",
              "      <td>3.6</td>\n",
              "      <td>10.2</td>\n",
              "      <td>16.8</td>\n",
              "      <td>0.2</td>\n",
              "      <td>1.5</td>\n",
              "      <td>104.9</td>\n",
              "      <td>2.5</td>\n",
              "      <td>45.9</td>\n",
              "      <td>57218.4</td>\n",
              "    </tr>\n",
              "    <tr>\n",
              "      <th>Manu</th>\n",
              "      <td>10967.0</td>\n",
              "      <td>559580.9</td>\n",
              "      <td>259256.2</td>\n",
              "      <td>5004.8</td>\n",
              "      <td>124554.1</td>\n",
              "      <td>29490.7</td>\n",
              "      <td>396.6</td>\n",
              "      <td>19252.3</td>\n",
              "      <td>13595.8</td>\n",
              "      <td>219.9</td>\n",
              "      <td>...</td>\n",
              "      <td>7116.7</td>\n",
              "      <td>4064.3</td>\n",
              "      <td>167.2</td>\n",
              "      <td>9363.3</td>\n",
              "      <td>9834.0</td>\n",
              "      <td>37.0</td>\n",
              "      <td>42256.7</td>\n",
              "      <td>55902.1</td>\n",
              "      <td>769.3</td>\n",
              "      <td>1668464.2</td>\n",
              "    </tr>\n",
              "    <tr>\n",
              "      <th>Serv</th>\n",
              "      <td>8516.6</td>\n",
              "      <td>263317.9</td>\n",
              "      <td>542061.6</td>\n",
              "      <td>1129.1</td>\n",
              "      <td>13943.9</td>\n",
              "      <td>9905.4</td>\n",
              "      <td>47.0</td>\n",
              "      <td>1705.5</td>\n",
              "      <td>4161.8</td>\n",
              "      <td>38.1</td>\n",
              "      <td>...</td>\n",
              "      <td>2133.9</td>\n",
              "      <td>1091.9</td>\n",
              "      <td>821.2</td>\n",
              "      <td>1838.1</td>\n",
              "      <td>1486.6</td>\n",
              "      <td>188.2</td>\n",
              "      <td>11018.6</td>\n",
              "      <td>6267.2</td>\n",
              "      <td>3799.7</td>\n",
              "      <td>2097727.4</td>\n",
              "    </tr>\n",
              "    <tr>\n",
              "      <th rowspan=\"3\" valign=\"top\">CHN</th>\n",
              "      <th>Agr</th>\n",
              "      <td>31.5</td>\n",
              "      <td>372.6</td>\n",
              "      <td>123.2</td>\n",
              "      <td>438877.2</td>\n",
              "      <td>969085.5</td>\n",
              "      <td>150018.7</td>\n",
              "      <td>268.3</td>\n",
              "      <td>851.4</td>\n",
              "      <td>268.5</td>\n",
              "      <td>210.9</td>\n",
              "      <td>...</td>\n",
              "      <td>579.2</td>\n",
              "      <td>42.7</td>\n",
              "      <td>28.2</td>\n",
              "      <td>644.7</td>\n",
              "      <td>21.4</td>\n",
              "      <td>37.3</td>\n",
              "      <td>4812.1</td>\n",
              "      <td>289.5</td>\n",
              "      <td>266.2</td>\n",
              "      <td>2125907.8</td>\n",
              "    </tr>\n",
              "    <tr>\n",
              "      <th>Manu</th>\n",
              "      <td>682.4</td>\n",
              "      <td>53244.3</td>\n",
              "      <td>18295.4</td>\n",
              "      <td>457060.5</td>\n",
              "      <td>8094558.0</td>\n",
              "      <td>3401812.3</td>\n",
              "      <td>1820.8</td>\n",
              "      <td>88087.7</td>\n",
              "      <td>94776.2</td>\n",
              "      <td>790.1</td>\n",
              "      <td>...</td>\n",
              "      <td>46369.3</td>\n",
              "      <td>27453.6</td>\n",
              "      <td>368.1</td>\n",
              "      <td>91169.3</td>\n",
              "      <td>44287.2</td>\n",
              "      <td>729.9</td>\n",
              "      <td>255285.4</td>\n",
              "      <td>230325.5</td>\n",
              "      <td>3625.7</td>\n",
              "      <td>17184795.3</td>\n",
              "    </tr>\n",
              "    <tr>\n",
              "      <th>Serv</th>\n",
              "      <td>105.7</td>\n",
              "      <td>6039.7</td>\n",
              "      <td>8408.6</td>\n",
              "      <td>240006.8</td>\n",
              "      <td>2610966.5</td>\n",
              "      <td>3490900.6</td>\n",
              "      <td>202.8</td>\n",
              "      <td>8636.4</td>\n",
              "      <td>18260.8</td>\n",
              "      <td>156.6</td>\n",
              "      <td>...</td>\n",
              "      <td>8703.1</td>\n",
              "      <td>5647.2</td>\n",
              "      <td>1331.1</td>\n",
              "      <td>18847.0</td>\n",
              "      <td>9968.9</td>\n",
              "      <td>2732.7</td>\n",
              "      <td>54127.6</td>\n",
              "      <td>30390.6</td>\n",
              "      <td>13833.2</td>\n",
              "      <td>15705083.9</td>\n",
              "    </tr>\n",
              "    <tr>\n",
              "      <th rowspan=\"3\" valign=\"top\">USA</th>\n",
              "      <th>Agr</th>\n",
              "      <td>112.7</td>\n",
              "      <td>1292.5</td>\n",
              "      <td>389.5</td>\n",
              "      <td>2036.4</td>\n",
              "      <td>4653.4</td>\n",
              "      <td>773.3</td>\n",
              "      <td>82976.5</td>\n",
              "      <td>208796.0</td>\n",
              "      <td>19988.6</td>\n",
              "      <td>629.1</td>\n",
              "      <td>...</td>\n",
              "      <td>1620.2</td>\n",
              "      <td>118.8</td>\n",
              "      <td>24.3</td>\n",
              "      <td>1880.5</td>\n",
              "      <td>59.5</td>\n",
              "      <td>69.3</td>\n",
              "      <td>11482.9</td>\n",
              "      <td>555.3</td>\n",
              "      <td>502.6</td>\n",
              "      <td>466589.9</td>\n",
              "    </tr>\n",
              "    <tr>\n",
              "      <th>Manu</th>\n",
              "      <td>406.9</td>\n",
              "      <td>21703.2</td>\n",
              "      <td>9257.0</td>\n",
              "      <td>2959.2</td>\n",
              "      <td>57445.9</td>\n",
              "      <td>16846.7</td>\n",
              "      <td>67741.5</td>\n",
              "      <td>1665793.3</td>\n",
              "      <td>1454826.0</td>\n",
              "      <td>405.9</td>\n",
              "      <td>...</td>\n",
              "      <td>13849.2</td>\n",
              "      <td>12360.1</td>\n",
              "      <td>485.4</td>\n",
              "      <td>37746.2</td>\n",
              "      <td>28229.0</td>\n",
              "      <td>1882.6</td>\n",
              "      <td>171822.6</td>\n",
              "      <td>120237.5</td>\n",
              "      <td>10167.5</td>\n",
              "      <td>6836953.2</td>\n",
              "    </tr>\n",
              "    <tr>\n",
              "      <th>Serv</th>\n",
              "      <td>305.5</td>\n",
              "      <td>9533.4</td>\n",
              "      <td>11819.1</td>\n",
              "      <td>2650.7</td>\n",
              "      <td>24156.4</td>\n",
              "      <td>23409.1</td>\n",
              "      <td>100286.1</td>\n",
              "      <td>1495083.5</td>\n",
              "      <td>9182058.2</td>\n",
              "      <td>518.0</td>\n",
              "      <td>...</td>\n",
              "      <td>14958.7</td>\n",
              "      <td>6611.5</td>\n",
              "      <td>4701.5</td>\n",
              "      <td>42878.9</td>\n",
              "      <td>36136.0</td>\n",
              "      <td>18474.6</td>\n",
              "      <td>146521.5</td>\n",
              "      <td>55871.9</td>\n",
              "      <td>94709.4</td>\n",
              "      <td>28592845.8</td>\n",
              "    </tr>\n",
              "    <tr>\n",
              "      <th rowspan=\"3\" valign=\"top\">JPN</th>\n",
              "      <th>Agr</th>\n",
              "      <td>2.4</td>\n",
              "      <td>19.0</td>\n",
              "      <td>16.0</td>\n",
              "      <td>32.0</td>\n",
              "      <td>81.8</td>\n",
              "      <td>13.6</td>\n",
              "      <td>9.9</td>\n",
              "      <td>181.7</td>\n",
              "      <td>180.9</td>\n",
              "      <td>12151.4</td>\n",
              "      <td>...</td>\n",
              "      <td>35608.5</td>\n",
              "      <td>2593.4</td>\n",
              "      <td>0.0</td>\n",
              "      <td>12.6</td>\n",
              "      <td>0.6</td>\n",
              "      <td>1.6</td>\n",
              "      <td>192.1</td>\n",
              "      <td>3.7</td>\n",
              "      <td>10.3</td>\n",
              "      <td>111408.4</td>\n",
              "    </tr>\n",
              "    <tr>\n",
              "      <th>Manu</th>\n",
              "      <td>285.1</td>\n",
              "      <td>25944.1</td>\n",
              "      <td>7394.5</td>\n",
              "      <td>3144.1</td>\n",
              "      <td>77238.4</td>\n",
              "      <td>20514.2</td>\n",
              "      <td>549.1</td>\n",
              "      <td>30608.7</td>\n",
              "      <td>19202.5</td>\n",
              "      <td>18072.5</td>\n",
              "      <td>...</td>\n",
              "      <td>515331.0</td>\n",
              "      <td>184578.3</td>\n",
              "      <td>0.0</td>\n",
              "      <td>12185.7</td>\n",
              "      <td>13904.9</td>\n",
              "      <td>306.1</td>\n",
              "      <td>49314.6</td>\n",
              "      <td>81068.0</td>\n",
              "      <td>1398.2</td>\n",
              "      <td>2920191.4</td>\n",
              "    </tr>\n",
              "    <tr>\n",
              "      <th>Serv</th>\n",
              "      <td>90.7</td>\n",
              "      <td>5717.4</td>\n",
              "      <td>3688.2</td>\n",
              "      <td>1122.3</td>\n",
              "      <td>18205.6</td>\n",
              "      <td>9355.0</td>\n",
              "      <td>171.0</td>\n",
              "      <td>5700.6</td>\n",
              "      <td>11174.5</td>\n",
              "      <td>22472.9</td>\n",
              "      <td>...</td>\n",
              "      <td>2877494.8</td>\n",
              "      <td>894873.9</td>\n",
              "      <td>0.3</td>\n",
              "      <td>5316.2</td>\n",
              "      <td>3735.2</td>\n",
              "      <td>1268.4</td>\n",
              "      <td>21264.1</td>\n",
              "      <td>16876.8</td>\n",
              "      <td>6738.1</td>\n",
              "      <td>5897666.4</td>\n",
              "    </tr>\n",
              "    <tr>\n",
              "      <th rowspan=\"3\" valign=\"top\">EU</th>\n",
              "      <th>Agr</th>\n",
              "      <td>13.6</td>\n",
              "      <td>139.8</td>\n",
              "      <td>62.9</td>\n",
              "      <td>405.7</td>\n",
              "      <td>971.5</td>\n",
              "      <td>229.2</td>\n",
              "      <td>442.5</td>\n",
              "      <td>1436.3</td>\n",
              "      <td>452.4</td>\n",
              "      <td>45.6</td>\n",
              "      <td>...</td>\n",
              "      <td>231.8</td>\n",
              "      <td>12.9</td>\n",
              "      <td>25.8</td>\n",
              "      <td>187760.2</td>\n",
              "      <td>11268.8</td>\n",
              "      <td>2136.2</td>\n",
              "      <td>13694.3</td>\n",
              "      <td>837.6</td>\n",
              "      <td>1686.3</td>\n",
              "      <td>563753.8</td>\n",
              "    </tr>\n",
              "    <tr>\n",
              "      <th>Manu</th>\n",
              "      <td>348.3</td>\n",
              "      <td>23565.8</td>\n",
              "      <td>9566.3</td>\n",
              "      <td>6084.7</td>\n",
              "      <td>100318.0</td>\n",
              "      <td>36721.9</td>\n",
              "      <td>2534.7</td>\n",
              "      <td>85880.0</td>\n",
              "      <td>64510.1</td>\n",
              "      <td>388.3</td>\n",
              "      <td>...</td>\n",
              "      <td>19298.3</td>\n",
              "      <td>9042.4</td>\n",
              "      <td>214.2</td>\n",
              "      <td>1599505.7</td>\n",
              "      <td>888282.2</td>\n",
              "      <td>21765.5</td>\n",
              "      <td>328455.4</td>\n",
              "      <td>259158.8</td>\n",
              "      <td>15726.5</td>\n",
              "      <td>8030492.4</td>\n",
              "    </tr>\n",
              "    <tr>\n",
              "      <th>Serv</th>\n",
              "      <td>167.2</td>\n",
              "      <td>6849.5</td>\n",
              "      <td>9320.2</td>\n",
              "      <td>3550.0</td>\n",
              "      <td>34848.2</td>\n",
              "      <td>36768.3</td>\n",
              "      <td>778.8</td>\n",
              "      <td>21543.2</td>\n",
              "      <td>66465.9</td>\n",
              "      <td>198.2</td>\n",
              "      <td>...</td>\n",
              "      <td>10435.4</td>\n",
              "      <td>4119.2</td>\n",
              "      <td>1424.3</td>\n",
              "      <td>8371820.4</td>\n",
              "      <td>2213748.4</td>\n",
              "      <td>158470.6</td>\n",
              "      <td>225672.3</td>\n",
              "      <td>95735.1</td>\n",
              "      <td>115081.5</td>\n",
              "      <td>20831575.5</td>\n",
              "    </tr>\n",
              "    <tr>\n",
              "      <th rowspan=\"3\" valign=\"top\">ROW</th>\n",
              "      <th>Agr</th>\n",
              "      <td>209.2</td>\n",
              "      <td>2298.4</td>\n",
              "      <td>958.8</td>\n",
              "      <td>13475.2</td>\n",
              "      <td>30130.3</td>\n",
              "      <td>3994.6</td>\n",
              "      <td>6644.9</td>\n",
              "      <td>21651.6</td>\n",
              "      <td>7115.3</td>\n",
              "      <td>1157.6</td>\n",
              "      <td>...</td>\n",
              "      <td>3245.4</td>\n",
              "      <td>235.4</td>\n",
              "      <td>86.5</td>\n",
              "      <td>18450.7</td>\n",
              "      <td>947.1</td>\n",
              "      <td>830.5</td>\n",
              "      <td>1288314.8</td>\n",
              "      <td>66576.7</td>\n",
              "      <td>2550.0</td>\n",
              "      <td>3153328.7</td>\n",
              "    </tr>\n",
              "    <tr>\n",
              "      <th>Manu</th>\n",
              "      <td>1153.4</td>\n",
              "      <td>147005.1</td>\n",
              "      <td>46761.5</td>\n",
              "      <td>17637.8</td>\n",
              "      <td>625596.3</td>\n",
              "      <td>140915.4</td>\n",
              "      <td>5987.0</td>\n",
              "      <td>393079.7</td>\n",
              "      <td>201365.4</td>\n",
              "      <td>1240.6</td>\n",
              "      <td>...</td>\n",
              "      <td>47131.5</td>\n",
              "      <td>24181.5</td>\n",
              "      <td>1101.6</td>\n",
              "      <td>246024.1</td>\n",
              "      <td>82748.4</td>\n",
              "      <td>12147.3</td>\n",
              "      <td>3462275.5</td>\n",
              "      <td>1560526.4</td>\n",
              "      <td>34037.3</td>\n",
              "      <td>16512152.2</td>\n",
              "    </tr>\n",
              "    <tr>\n",
              "      <th>Serv</th>\n",
              "      <td>429.0</td>\n",
              "      <td>18609.0</td>\n",
              "      <td>26204.4</td>\n",
              "      <td>8927.6</td>\n",
              "      <td>94026.3</td>\n",
              "      <td>71935.0</td>\n",
              "      <td>3186.4</td>\n",
              "      <td>70322.3</td>\n",
              "      <td>165963.3</td>\n",
              "      <td>644.2</td>\n",
              "      <td>...</td>\n",
              "      <td>24441.3</td>\n",
              "      <td>8384.5</td>\n",
              "      <td>6156.0</td>\n",
              "      <td>138434.9</td>\n",
              "      <td>76260.4</td>\n",
              "      <td>71986.1</td>\n",
              "      <td>14291203.0</td>\n",
              "      <td>4367640.7</td>\n",
              "      <td>196180.9</td>\n",
              "      <td>32545284.3</td>\n",
              "    </tr>\n",
              "    <tr>\n",
              "      <th>Tax_KOR</th>\n",
              "      <th>Tax_KOR</th>\n",
              "      <td>799.4</td>\n",
              "      <td>33629.0</td>\n",
              "      <td>47479.2</td>\n",
              "      <td>0.0</td>\n",
              "      <td>0.0</td>\n",
              "      <td>0.0</td>\n",
              "      <td>0.0</td>\n",
              "      <td>0.0</td>\n",
              "      <td>0.0</td>\n",
              "      <td>0.0</td>\n",
              "      <td>...</td>\n",
              "      <td>0.0</td>\n",
              "      <td>0.0</td>\n",
              "      <td>52.4</td>\n",
              "      <td>0.0</td>\n",
              "      <td>0.0</td>\n",
              "      <td>10.6</td>\n",
              "      <td>0.0</td>\n",
              "      <td>0.0</td>\n",
              "      <td>229.2</td>\n",
              "      <td>147681.4</td>\n",
              "    </tr>\n",
              "    <tr>\n",
              "      <th>Tax_CHN</th>\n",
              "      <th>Tax_CHN</th>\n",
              "      <td>0.0</td>\n",
              "      <td>0.0</td>\n",
              "      <td>0.0</td>\n",
              "      <td>-18166.5</td>\n",
              "      <td>428755.0</td>\n",
              "      <td>286541.3</td>\n",
              "      <td>0.0</td>\n",
              "      <td>0.0</td>\n",
              "      <td>0.0</td>\n",
              "      <td>0.0</td>\n",
              "      <td>...</td>\n",
              "      <td>0.0</td>\n",
              "      <td>0.0</td>\n",
              "      <td>-28.5</td>\n",
              "      <td>0.0</td>\n",
              "      <td>0.0</td>\n",
              "      <td>-73.0</td>\n",
              "      <td>0.0</td>\n",
              "      <td>0.0</td>\n",
              "      <td>-306.2</td>\n",
              "      <td>1101680.4</td>\n",
              "    </tr>\n",
              "    <tr>\n",
              "      <th>Tax_USA</th>\n",
              "      <th>Tax_USA</th>\n",
              "      <td>0.0</td>\n",
              "      <td>0.0</td>\n",
              "      <td>0.0</td>\n",
              "      <td>0.0</td>\n",
              "      <td>0.0</td>\n",
              "      <td>0.0</td>\n",
              "      <td>2699.5</td>\n",
              "      <td>93943.5</td>\n",
              "      <td>219416.4</td>\n",
              "      <td>0.0</td>\n",
              "      <td>...</td>\n",
              "      <td>0.0</td>\n",
              "      <td>0.0</td>\n",
              "      <td>279.7</td>\n",
              "      <td>0.0</td>\n",
              "      <td>0.0</td>\n",
              "      <td>1007.4</td>\n",
              "      <td>0.0</td>\n",
              "      <td>0.0</td>\n",
              "      <td>5491.0</td>\n",
              "      <td>748064.1</td>\n",
              "    </tr>\n",
              "    <tr>\n",
              "      <th>Tax_JPN</th>\n",
              "      <th>Tax_JPN</th>\n",
              "      <td>0.0</td>\n",
              "      <td>0.0</td>\n",
              "      <td>0.0</td>\n",
              "      <td>0.0</td>\n",
              "      <td>0.0</td>\n",
              "      <td>0.0</td>\n",
              "      <td>0.0</td>\n",
              "      <td>0.0</td>\n",
              "      <td>0.0</td>\n",
              "      <td>2388.1</td>\n",
              "      <td>...</td>\n",
              "      <td>91744.8</td>\n",
              "      <td>32695.5</td>\n",
              "      <td>0.0</td>\n",
              "      <td>0.0</td>\n",
              "      <td>0.0</td>\n",
              "      <td>47.0</td>\n",
              "      <td>0.0</td>\n",
              "      <td>0.0</td>\n",
              "      <td>231.0</td>\n",
              "      <td>288345.1</td>\n",
              "    </tr>\n",
              "    <tr>\n",
              "      <th>Tax_EU</th>\n",
              "      <th>Tax_EU</th>\n",
              "      <td>0.0</td>\n",
              "      <td>0.0</td>\n",
              "      <td>0.0</td>\n",
              "      <td>0.0</td>\n",
              "      <td>0.0</td>\n",
              "      <td>0.0</td>\n",
              "      <td>0.0</td>\n",
              "      <td>0.0</td>\n",
              "      <td>0.0</td>\n",
              "      <td>0.0</td>\n",
              "      <td>...</td>\n",
              "      <td>0.0</td>\n",
              "      <td>0.0</td>\n",
              "      <td>20.9</td>\n",
              "      <td>721719.3</td>\n",
              "      <td>203416.2</td>\n",
              "      <td>1917.7</td>\n",
              "      <td>0.0</td>\n",
              "      <td>0.0</td>\n",
              "      <td>1632.4</td>\n",
              "      <td>1684179.2</td>\n",
              "    </tr>\n",
              "    <tr>\n",
              "      <th>Tax_ROW</th>\n",
              "      <th>Tax_ROW</th>\n",
              "      <td>-0.0</td>\n",
              "      <td>-0.0</td>\n",
              "      <td>-0.0</td>\n",
              "      <td>0.0</td>\n",
              "      <td>0.0</td>\n",
              "      <td>0.0</td>\n",
              "      <td>-0.5</td>\n",
              "      <td>-1.2</td>\n",
              "      <td>-0.1</td>\n",
              "      <td>0.0</td>\n",
              "      <td>...</td>\n",
              "      <td>0.0</td>\n",
              "      <td>0.0</td>\n",
              "      <td>74.4</td>\n",
              "      <td>-6.3</td>\n",
              "      <td>-0.2</td>\n",
              "      <td>3471.3</td>\n",
              "      <td>862673.8</td>\n",
              "      <td>244731.0</td>\n",
              "      <td>6764.6</td>\n",
              "      <td>2175505.1</td>\n",
              "    </tr>\n",
              "    <tr>\n",
              "      <th>VA</th>\n",
              "      <th>VA</th>\n",
              "      <td>30122.8</td>\n",
              "      <td>461407.1</td>\n",
              "      <td>1086426.2</td>\n",
              "      <td>939956.9</td>\n",
              "      <td>3875230.8</td>\n",
              "      <td>7974934.8</td>\n",
              "      <td>189809.9</td>\n",
              "      <td>2624235.5</td>\n",
              "      <td>17048993.2</td>\n",
              "      <td>49661.4</td>\n",
              "      <td>...</td>\n",
              "      <td>0.0</td>\n",
              "      <td>0.0</td>\n",
              "      <td>0.0</td>\n",
              "      <td>0.0</td>\n",
              "      <td>0.0</td>\n",
              "      <td>0.0</td>\n",
              "      <td>0.0</td>\n",
              "      <td>0.0</td>\n",
              "      <td>0.0</td>\n",
              "      <td>79901387.6</td>\n",
              "    </tr>\n",
              "    <tr>\n",
              "      <th>CT</th>\n",
              "      <th>Output</th>\n",
              "      <td>57218.4</td>\n",
              "      <td>1668464.2</td>\n",
              "      <td>2097727.4</td>\n",
              "      <td>2125907.8</td>\n",
              "      <td>17184795.3</td>\n",
              "      <td>15705083.9</td>\n",
              "      <td>466589.9</td>\n",
              "      <td>6836953.2</td>\n",
              "      <td>28592845.8</td>\n",
              "      <td>111408.4</td>\n",
              "      <td>...</td>\n",
              "      <td>0.0</td>\n",
              "      <td>0.0</td>\n",
              "      <td>0.0</td>\n",
              "      <td>0.0</td>\n",
              "      <td>0.0</td>\n",
              "      <td>0.0</td>\n",
              "      <td>0.0</td>\n",
              "      <td>0.0</td>\n",
              "      <td>0.0</td>\n",
              "      <td>165301439.1</td>\n",
              "    </tr>\n",
              "  </tbody>\n",
              "</table>\n",
              "<p>26 rows × 37 columns</p>\n",
              "</div>\n",
              "      <button class=\"colab-df-convert\" onclick=\"convertToInteractive('df-9069a746-43ac-4ed2-8044-0afdea66b444')\"\n",
              "              title=\"Convert this dataframe to an interactive table.\"\n",
              "              style=\"display:none;\">\n",
              "\n",
              "  <svg xmlns=\"http://www.w3.org/2000/svg\" height=\"24px\"viewBox=\"0 0 24 24\"\n",
              "       width=\"24px\">\n",
              "    <path d=\"M0 0h24v24H0V0z\" fill=\"none\"/>\n",
              "    <path d=\"M18.56 5.44l.94 2.06.94-2.06 2.06-.94-2.06-.94-.94-2.06-.94 2.06-2.06.94zm-11 1L8.5 8.5l.94-2.06 2.06-.94-2.06-.94L8.5 2.5l-.94 2.06-2.06.94zm10 10l.94 2.06.94-2.06 2.06-.94-2.06-.94-.94-2.06-.94 2.06-2.06.94z\"/><path d=\"M17.41 7.96l-1.37-1.37c-.4-.4-.92-.59-1.43-.59-.52 0-1.04.2-1.43.59L10.3 9.45l-7.72 7.72c-.78.78-.78 2.05 0 2.83L4 21.41c.39.39.9.59 1.41.59.51 0 1.02-.2 1.41-.59l7.78-7.78 2.81-2.81c.8-.78.8-2.07 0-2.86zM5.41 20L4 18.59l7.72-7.72 1.47 1.35L5.41 20z\"/>\n",
              "  </svg>\n",
              "      </button>\n",
              "\n",
              "\n",
              "\n",
              "    <div id=\"df-78135ffd-1ec8-4875-805b-c37cccc54206\">\n",
              "      <button class=\"colab-df-quickchart\" onclick=\"quickchart('df-78135ffd-1ec8-4875-805b-c37cccc54206')\"\n",
              "              title=\"Suggest charts.\"\n",
              "              style=\"display:none;\">\n",
              "\n",
              "<svg xmlns=\"http://www.w3.org/2000/svg\" height=\"24px\"viewBox=\"0 0 24 24\"\n",
              "     width=\"24px\">\n",
              "    <g>\n",
              "        <path d=\"M19 3H5c-1.1 0-2 .9-2 2v14c0 1.1.9 2 2 2h14c1.1 0 2-.9 2-2V5c0-1.1-.9-2-2-2zM9 17H7v-7h2v7zm4 0h-2V7h2v10zm4 0h-2v-4h2v4z\"/>\n",
              "    </g>\n",
              "</svg>\n",
              "      </button>\n",
              "    </div>\n",
              "\n",
              "<style>\n",
              "  .colab-df-quickchart {\n",
              "    background-color: #E8F0FE;\n",
              "    border: none;\n",
              "    border-radius: 50%;\n",
              "    cursor: pointer;\n",
              "    display: none;\n",
              "    fill: #1967D2;\n",
              "    height: 32px;\n",
              "    padding: 0 0 0 0;\n",
              "    width: 32px;\n",
              "  }\n",
              "\n",
              "  .colab-df-quickchart:hover {\n",
              "    background-color: #E2EBFA;\n",
              "    box-shadow: 0px 1px 2px rgba(60, 64, 67, 0.3), 0px 1px 3px 1px rgba(60, 64, 67, 0.15);\n",
              "    fill: #174EA6;\n",
              "  }\n",
              "\n",
              "  [theme=dark] .colab-df-quickchart {\n",
              "    background-color: #3B4455;\n",
              "    fill: #D2E3FC;\n",
              "  }\n",
              "\n",
              "  [theme=dark] .colab-df-quickchart:hover {\n",
              "    background-color: #434B5C;\n",
              "    box-shadow: 0px 1px 3px 1px rgba(0, 0, 0, 0.15);\n",
              "    filter: drop-shadow(0px 1px 2px rgba(0, 0, 0, 0.3));\n",
              "    fill: #FFFFFF;\n",
              "  }\n",
              "</style>\n",
              "\n",
              "    <script>\n",
              "      async function quickchart(key) {\n",
              "        const containerElement = document.querySelector('#' + key);\n",
              "        const charts = await google.colab.kernel.invokeFunction(\n",
              "            'suggestCharts', [key], {});\n",
              "      }\n",
              "    </script>\n",
              "\n",
              "      <script>\n",
              "\n",
              "function displayQuickchartButton(domScope) {\n",
              "  let quickchartButtonEl =\n",
              "    domScope.querySelector('#df-78135ffd-1ec8-4875-805b-c37cccc54206 button.colab-df-quickchart');\n",
              "  quickchartButtonEl.style.display =\n",
              "    google.colab.kernel.accessAllowed ? 'block' : 'none';\n",
              "}\n",
              "\n",
              "        displayQuickchartButton(document);\n",
              "      </script>\n",
              "      <style>\n",
              "    .colab-df-container {\n",
              "      display:flex;\n",
              "      flex-wrap:wrap;\n",
              "      gap: 12px;\n",
              "    }\n",
              "\n",
              "    .colab-df-convert {\n",
              "      background-color: #E8F0FE;\n",
              "      border: none;\n",
              "      border-radius: 50%;\n",
              "      cursor: pointer;\n",
              "      display: none;\n",
              "      fill: #1967D2;\n",
              "      height: 32px;\n",
              "      padding: 0 0 0 0;\n",
              "      width: 32px;\n",
              "    }\n",
              "\n",
              "    .colab-df-convert:hover {\n",
              "      background-color: #E2EBFA;\n",
              "      box-shadow: 0px 1px 2px rgba(60, 64, 67, 0.3), 0px 1px 3px 1px rgba(60, 64, 67, 0.15);\n",
              "      fill: #174EA6;\n",
              "    }\n",
              "\n",
              "    [theme=dark] .colab-df-convert {\n",
              "      background-color: #3B4455;\n",
              "      fill: #D2E3FC;\n",
              "    }\n",
              "\n",
              "    [theme=dark] .colab-df-convert:hover {\n",
              "      background-color: #434B5C;\n",
              "      box-shadow: 0px 1px 3px 1px rgba(0, 0, 0, 0.15);\n",
              "      filter: drop-shadow(0px 1px 2px rgba(0, 0, 0, 0.3));\n",
              "      fill: #FFFFFF;\n",
              "    }\n",
              "  </style>\n",
              "\n",
              "      <script>\n",
              "        const buttonEl =\n",
              "          document.querySelector('#df-9069a746-43ac-4ed2-8044-0afdea66b444 button.colab-df-convert');\n",
              "        buttonEl.style.display =\n",
              "          google.colab.kernel.accessAllowed ? 'block' : 'none';\n",
              "\n",
              "        async function convertToInteractive(key) {\n",
              "          const element = document.querySelector('#df-9069a746-43ac-4ed2-8044-0afdea66b444');\n",
              "          const dataTable =\n",
              "            await google.colab.kernel.invokeFunction('convertToInteractive',\n",
              "                                                     [key], {});\n",
              "          if (!dataTable) return;\n",
              "\n",
              "          const docLinkHtml = 'Like what you see? Visit the ' +\n",
              "            '<a target=\"_blank\" href=https://colab.research.google.com/notebooks/data_table.ipynb>data table notebook</a>'\n",
              "            + ' to learn more about interactive tables.';\n",
              "          element.innerHTML = '';\n",
              "          dataTable['output_type'] = 'display_data';\n",
              "          await google.colab.output.renderOutput(dataTable, element);\n",
              "          const docLink = document.createElement('div');\n",
              "          docLink.innerHTML = docLinkHtml;\n",
              "          element.appendChild(docLink);\n",
              "        }\n",
              "      </script>\n",
              "    </div>\n",
              "  </div>\n"
            ]
          },
          "metadata": {},
          "execution_count": 83
        }
      ]
    },
    {
      "cell_type": "code",
      "source": [],
      "metadata": {
        "id": "BdNvKl_JdRX0"
      },
      "execution_count": 83,
      "outputs": []
    }
  ]
}