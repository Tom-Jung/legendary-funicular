{
  "nbformat": 4,
  "nbformat_minor": 0,
  "metadata": {
    "colab": {
      "provenance": [],
      "mount_file_id": "https://github.com/Tom-Jung/legendary-funicular/blob/main/IO_tables.ipynb",
      "authorship_tag": "ABX9TyNqMKzmEykZEC2UsTl9jDs3",
      "include_colab_link": true
    },
    "kernelspec": {
      "name": "python3",
      "display_name": "Python 3"
    },
    "language_info": {
      "name": "python"
    }
  },
  "cells": [
    {
      "cell_type": "markdown",
      "metadata": {
        "id": "view-in-github",
        "colab_type": "text"
      },
      "source": [
        "<a href=\"https://colab.research.google.com/github/Tom-Jung/legendary-funicular/blob/main/Ch_%EB%B6%80%EB%A1%9D_RAS_while_loop.ipynb\" target=\"_parent\"><img src=\"https://colab.research.google.com/assets/colab-badge.svg\" alt=\"Open In Colab\"/></a>"
      ]
    },
    {
      "cell_type": "code",
      "source": [
        "import numpy as np   # Numpy import\n",
        "import pandas as pd  # Pandas import"
      ],
      "metadata": {
        "id": "TR7JvW8CxBFT"
      },
      "execution_count": 1709,
      "outputs": []
    },
    {
      "cell_type": "code",
      "source": [
        "# np.set_printoptions(precision=3,suppress=True) # 결과를 소수 3자리까지만 보여주는 옵션"
      ],
      "metadata": {
        "id": "6ZXqGX8ykUGD"
      },
      "execution_count": 1710,
      "outputs": []
    },
    {
      "cell_type": "code",
      "source": [
        "# 2015년 거래표 다운로드\n",
        "\n",
        "url_total = \"https://raw.githubusercontent.com/Tom-Jung/legendary-funicular/main/2015_tot_cst_3secs.csv\"  # 2015년 거래표(benchmark year)\n",
        "Tot_15 = pd.read_csv(url_total)\n",
        "Tot_15"
      ],
      "metadata": {
        "id": "mv6LDSOQXX4C",
        "outputId": "5b5288e9-b95a-49c1-9d67-92f121c6e00d",
        "colab": {
          "base_uri": "https://localhost:8080/",
          "height": 363
        }
      },
      "execution_count": 1711,
      "outputs": [
        {
          "output_type": "execute_result",
          "data": {
            "text/plain": [
              "           부문  농산품   공산품   서비스  중간수요계    소비   투자   수출  최종수요계  총수요계\n",
              "0         농산품    3    39    12     54    17    2    1     20    74\n",
              "1         공산품   18   926   351   1295   182  138  611    931  2226\n",
              "2         서비스    7   262   575    844   856  350  106   1312  2156\n",
              "3       중간투입계   28  1227   938   2193  1055  490  718   2263  4456\n",
              "4       피용자보수    5   177   568    750     0    0    0      0     0\n",
              "5        영업잉여   23   141   280    444     0    0    0      0     0\n",
              "6      고정자본소모    5   115   190    310     0    0    0      0     0\n",
              "7  생산세(보조금공제)    1    53    82    136     0    0    0      0     0\n",
              "8       부가가치계   34   486  1120   1640     0    0    0      0     0\n",
              "9        총투입액   62  1713  2058   3833     0    0    0      0     0"
            ],
            "text/html": [
              "\n",
              "\n",
              "  <div id=\"df-3425704a-4b11-43da-a73b-65ce093ca2ce\">\n",
              "    <div class=\"colab-df-container\">\n",
              "      <div>\n",
              "<style scoped>\n",
              "    .dataframe tbody tr th:only-of-type {\n",
              "        vertical-align: middle;\n",
              "    }\n",
              "\n",
              "    .dataframe tbody tr th {\n",
              "        vertical-align: top;\n",
              "    }\n",
              "\n",
              "    .dataframe thead th {\n",
              "        text-align: right;\n",
              "    }\n",
              "</style>\n",
              "<table border=\"1\" class=\"dataframe\">\n",
              "  <thead>\n",
              "    <tr style=\"text-align: right;\">\n",
              "      <th></th>\n",
              "      <th>부문</th>\n",
              "      <th>농산품</th>\n",
              "      <th>공산품</th>\n",
              "      <th>서비스</th>\n",
              "      <th>중간수요계</th>\n",
              "      <th>소비</th>\n",
              "      <th>투자</th>\n",
              "      <th>수출</th>\n",
              "      <th>최종수요계</th>\n",
              "      <th>총수요계</th>\n",
              "    </tr>\n",
              "  </thead>\n",
              "  <tbody>\n",
              "    <tr>\n",
              "      <th>0</th>\n",
              "      <td>농산품</td>\n",
              "      <td>3</td>\n",
              "      <td>39</td>\n",
              "      <td>12</td>\n",
              "      <td>54</td>\n",
              "      <td>17</td>\n",
              "      <td>2</td>\n",
              "      <td>1</td>\n",
              "      <td>20</td>\n",
              "      <td>74</td>\n",
              "    </tr>\n",
              "    <tr>\n",
              "      <th>1</th>\n",
              "      <td>공산품</td>\n",
              "      <td>18</td>\n",
              "      <td>926</td>\n",
              "      <td>351</td>\n",
              "      <td>1295</td>\n",
              "      <td>182</td>\n",
              "      <td>138</td>\n",
              "      <td>611</td>\n",
              "      <td>931</td>\n",
              "      <td>2226</td>\n",
              "    </tr>\n",
              "    <tr>\n",
              "      <th>2</th>\n",
              "      <td>서비스</td>\n",
              "      <td>7</td>\n",
              "      <td>262</td>\n",
              "      <td>575</td>\n",
              "      <td>844</td>\n",
              "      <td>856</td>\n",
              "      <td>350</td>\n",
              "      <td>106</td>\n",
              "      <td>1312</td>\n",
              "      <td>2156</td>\n",
              "    </tr>\n",
              "    <tr>\n",
              "      <th>3</th>\n",
              "      <td>중간투입계</td>\n",
              "      <td>28</td>\n",
              "      <td>1227</td>\n",
              "      <td>938</td>\n",
              "      <td>2193</td>\n",
              "      <td>1055</td>\n",
              "      <td>490</td>\n",
              "      <td>718</td>\n",
              "      <td>2263</td>\n",
              "      <td>4456</td>\n",
              "    </tr>\n",
              "    <tr>\n",
              "      <th>4</th>\n",
              "      <td>피용자보수</td>\n",
              "      <td>5</td>\n",
              "      <td>177</td>\n",
              "      <td>568</td>\n",
              "      <td>750</td>\n",
              "      <td>0</td>\n",
              "      <td>0</td>\n",
              "      <td>0</td>\n",
              "      <td>0</td>\n",
              "      <td>0</td>\n",
              "    </tr>\n",
              "    <tr>\n",
              "      <th>5</th>\n",
              "      <td>영업잉여</td>\n",
              "      <td>23</td>\n",
              "      <td>141</td>\n",
              "      <td>280</td>\n",
              "      <td>444</td>\n",
              "      <td>0</td>\n",
              "      <td>0</td>\n",
              "      <td>0</td>\n",
              "      <td>0</td>\n",
              "      <td>0</td>\n",
              "    </tr>\n",
              "    <tr>\n",
              "      <th>6</th>\n",
              "      <td>고정자본소모</td>\n",
              "      <td>5</td>\n",
              "      <td>115</td>\n",
              "      <td>190</td>\n",
              "      <td>310</td>\n",
              "      <td>0</td>\n",
              "      <td>0</td>\n",
              "      <td>0</td>\n",
              "      <td>0</td>\n",
              "      <td>0</td>\n",
              "    </tr>\n",
              "    <tr>\n",
              "      <th>7</th>\n",
              "      <td>생산세(보조금공제)</td>\n",
              "      <td>1</td>\n",
              "      <td>53</td>\n",
              "      <td>82</td>\n",
              "      <td>136</td>\n",
              "      <td>0</td>\n",
              "      <td>0</td>\n",
              "      <td>0</td>\n",
              "      <td>0</td>\n",
              "      <td>0</td>\n",
              "    </tr>\n",
              "    <tr>\n",
              "      <th>8</th>\n",
              "      <td>부가가치계</td>\n",
              "      <td>34</td>\n",
              "      <td>486</td>\n",
              "      <td>1120</td>\n",
              "      <td>1640</td>\n",
              "      <td>0</td>\n",
              "      <td>0</td>\n",
              "      <td>0</td>\n",
              "      <td>0</td>\n",
              "      <td>0</td>\n",
              "    </tr>\n",
              "    <tr>\n",
              "      <th>9</th>\n",
              "      <td>총투입액</td>\n",
              "      <td>62</td>\n",
              "      <td>1713</td>\n",
              "      <td>2058</td>\n",
              "      <td>3833</td>\n",
              "      <td>0</td>\n",
              "      <td>0</td>\n",
              "      <td>0</td>\n",
              "      <td>0</td>\n",
              "      <td>0</td>\n",
              "    </tr>\n",
              "  </tbody>\n",
              "</table>\n",
              "</div>\n",
              "      <button class=\"colab-df-convert\" onclick=\"convertToInteractive('df-3425704a-4b11-43da-a73b-65ce093ca2ce')\"\n",
              "              title=\"Convert this dataframe to an interactive table.\"\n",
              "              style=\"display:none;\">\n",
              "\n",
              "  <svg xmlns=\"http://www.w3.org/2000/svg\" height=\"24px\"viewBox=\"0 0 24 24\"\n",
              "       width=\"24px\">\n",
              "    <path d=\"M0 0h24v24H0V0z\" fill=\"none\"/>\n",
              "    <path d=\"M18.56 5.44l.94 2.06.94-2.06 2.06-.94-2.06-.94-.94-2.06-.94 2.06-2.06.94zm-11 1L8.5 8.5l.94-2.06 2.06-.94-2.06-.94L8.5 2.5l-.94 2.06-2.06.94zm10 10l.94 2.06.94-2.06 2.06-.94-2.06-.94-.94-2.06-.94 2.06-2.06.94z\"/><path d=\"M17.41 7.96l-1.37-1.37c-.4-.4-.92-.59-1.43-.59-.52 0-1.04.2-1.43.59L10.3 9.45l-7.72 7.72c-.78.78-.78 2.05 0 2.83L4 21.41c.39.39.9.59 1.41.59.51 0 1.02-.2 1.41-.59l7.78-7.78 2.81-2.81c.8-.78.8-2.07 0-2.86zM5.41 20L4 18.59l7.72-7.72 1.47 1.35L5.41 20z\"/>\n",
              "  </svg>\n",
              "      </button>\n",
              "\n",
              "\n",
              "\n",
              "    <div id=\"df-0ed1b680-9ac3-4eaf-b5a3-65d144f0673a\">\n",
              "      <button class=\"colab-df-quickchart\" onclick=\"quickchart('df-0ed1b680-9ac3-4eaf-b5a3-65d144f0673a')\"\n",
              "              title=\"Suggest charts.\"\n",
              "              style=\"display:none;\">\n",
              "\n",
              "<svg xmlns=\"http://www.w3.org/2000/svg\" height=\"24px\"viewBox=\"0 0 24 24\"\n",
              "     width=\"24px\">\n",
              "    <g>\n",
              "        <path d=\"M19 3H5c-1.1 0-2 .9-2 2v14c0 1.1.9 2 2 2h14c1.1 0 2-.9 2-2V5c0-1.1-.9-2-2-2zM9 17H7v-7h2v7zm4 0h-2V7h2v10zm4 0h-2v-4h2v4z\"/>\n",
              "    </g>\n",
              "</svg>\n",
              "      </button>\n",
              "    </div>\n",
              "\n",
              "<style>\n",
              "  .colab-df-quickchart {\n",
              "    background-color: #E8F0FE;\n",
              "    border: none;\n",
              "    border-radius: 50%;\n",
              "    cursor: pointer;\n",
              "    display: none;\n",
              "    fill: #1967D2;\n",
              "    height: 32px;\n",
              "    padding: 0 0 0 0;\n",
              "    width: 32px;\n",
              "  }\n",
              "\n",
              "  .colab-df-quickchart:hover {\n",
              "    background-color: #E2EBFA;\n",
              "    box-shadow: 0px 1px 2px rgba(60, 64, 67, 0.3), 0px 1px 3px 1px rgba(60, 64, 67, 0.15);\n",
              "    fill: #174EA6;\n",
              "  }\n",
              "\n",
              "  [theme=dark] .colab-df-quickchart {\n",
              "    background-color: #3B4455;\n",
              "    fill: #D2E3FC;\n",
              "  }\n",
              "\n",
              "  [theme=dark] .colab-df-quickchart:hover {\n",
              "    background-color: #434B5C;\n",
              "    box-shadow: 0px 1px 3px 1px rgba(0, 0, 0, 0.15);\n",
              "    filter: drop-shadow(0px 1px 2px rgba(0, 0, 0, 0.3));\n",
              "    fill: #FFFFFF;\n",
              "  }\n",
              "</style>\n",
              "\n",
              "    <script>\n",
              "      async function quickchart(key) {\n",
              "        const containerElement = document.querySelector('#' + key);\n",
              "        const charts = await google.colab.kernel.invokeFunction(\n",
              "            'suggestCharts', [key], {});\n",
              "      }\n",
              "    </script>\n",
              "\n",
              "      <script>\n",
              "\n",
              "function displayQuickchartButton(domScope) {\n",
              "  let quickchartButtonEl =\n",
              "    domScope.querySelector('#df-0ed1b680-9ac3-4eaf-b5a3-65d144f0673a button.colab-df-quickchart');\n",
              "  quickchartButtonEl.style.display =\n",
              "    google.colab.kernel.accessAllowed ? 'block' : 'none';\n",
              "}\n",
              "\n",
              "        displayQuickchartButton(document);\n",
              "      </script>\n",
              "      <style>\n",
              "    .colab-df-container {\n",
              "      display:flex;\n",
              "      flex-wrap:wrap;\n",
              "      gap: 12px;\n",
              "    }\n",
              "\n",
              "    .colab-df-convert {\n",
              "      background-color: #E8F0FE;\n",
              "      border: none;\n",
              "      border-radius: 50%;\n",
              "      cursor: pointer;\n",
              "      display: none;\n",
              "      fill: #1967D2;\n",
              "      height: 32px;\n",
              "      padding: 0 0 0 0;\n",
              "      width: 32px;\n",
              "    }\n",
              "\n",
              "    .colab-df-convert:hover {\n",
              "      background-color: #E2EBFA;\n",
              "      box-shadow: 0px 1px 2px rgba(60, 64, 67, 0.3), 0px 1px 3px 1px rgba(60, 64, 67, 0.15);\n",
              "      fill: #174EA6;\n",
              "    }\n",
              "\n",
              "    [theme=dark] .colab-df-convert {\n",
              "      background-color: #3B4455;\n",
              "      fill: #D2E3FC;\n",
              "    }\n",
              "\n",
              "    [theme=dark] .colab-df-convert:hover {\n",
              "      background-color: #434B5C;\n",
              "      box-shadow: 0px 1px 3px 1px rgba(0, 0, 0, 0.15);\n",
              "      filter: drop-shadow(0px 1px 2px rgba(0, 0, 0, 0.3));\n",
              "      fill: #FFFFFF;\n",
              "    }\n",
              "  </style>\n",
              "\n",
              "      <script>\n",
              "        const buttonEl =\n",
              "          document.querySelector('#df-3425704a-4b11-43da-a73b-65ce093ca2ce button.colab-df-convert');\n",
              "        buttonEl.style.display =\n",
              "          google.colab.kernel.accessAllowed ? 'block' : 'none';\n",
              "\n",
              "        async function convertToInteractive(key) {\n",
              "          const element = document.querySelector('#df-3425704a-4b11-43da-a73b-65ce093ca2ce');\n",
              "          const dataTable =\n",
              "            await google.colab.kernel.invokeFunction('convertToInteractive',\n",
              "                                                     [key], {});\n",
              "          if (!dataTable) return;\n",
              "\n",
              "          const docLinkHtml = 'Like what you see? Visit the ' +\n",
              "            '<a target=\"_blank\" href=https://colab.research.google.com/notebooks/data_table.ipynb>data table notebook</a>'\n",
              "            + ' to learn more about interactive tables.';\n",
              "          element.innerHTML = '';\n",
              "          dataTable['output_type'] = 'display_data';\n",
              "          await google.colab.output.renderOutput(dataTable, element);\n",
              "          const docLink = document.createElement('div');\n",
              "          docLink.innerHTML = docLinkHtml;\n",
              "          element.appendChild(docLink);\n",
              "        }\n",
              "      </script>\n",
              "    </div>\n",
              "  </div>\n"
            ]
          },
          "metadata": {},
          "execution_count": 1711
        }
      ]
    },
    {
      "cell_type": "code",
      "source": [
        "url_Tt_3 = \"https://raw.githubusercontent.com/Tom-Jung/legendary-funicular/main/Total_Matrix_3_secs_1_va.csv\"  # 2019년 거래표(비교연도)\n",
        "Tot_19 = pd.read_csv(url_Tt_3)\n",
        "Tr = Tot_19.to_numpy()\n",
        "Tr"
      ],
      "metadata": {
        "id": "q8ccbrezXX1i",
        "outputId": "05aa6162-7318-4250-826e-976fa6ff4176",
        "colab": {
          "base_uri": "https://localhost:8080/"
        }
      },
      "execution_count": 1712,
      "outputs": [
        {
          "output_type": "execute_result",
          "data": {
            "text/plain": [
              "array([['농산품', 4.0, 38.0, 11.0, 53.0, 18.0, 0.0, 1.0, 19.0, 72.0],\n",
              "       ['공산품', 16.0, 944.0, 401.0, 1361.0, 213.0, 167.0, 628.0, 1008.0,\n",
              "        2369.0],\n",
              "       ['서비스', 7.0, 257.0, 693.0, 957.0, 1032.0, 432.0, 131.0, 1595.0,\n",
              "        2552.0],\n",
              "       ['중간투입계', 27.0, 1239.0, 1105.0, 2371.0, 1263.0, 599.0, 760.0,\n",
              "        2622.0, 4993.0],\n",
              "       ['부가가치계', 33.0, 553.0, 1342.0, 1928.0, 0.0, 0.0, 0.0, 0.0, 0.0],\n",
              "       ['총투입액', 60.0, 1792.0, 2447.0, 4299.0, 0.0, 0.0, 0.0, 0.0, 0.0]],\n",
              "      dtype=object)"
            ]
          },
          "metadata": {},
          "execution_count": 1712
        }
      ]
    },
    {
      "cell_type": "code",
      "source": [
        "Tot_bm = Tot_15.to_numpy()\n",
        "Tb = Tot_bm[0:10,1:13]\n",
        "Tb"
      ],
      "metadata": {
        "id": "oX4CfferXXzL",
        "outputId": "658d2990-b623-4d67-f379-efeca2a3936b",
        "colab": {
          "base_uri": "https://localhost:8080/"
        }
      },
      "execution_count": 1713,
      "outputs": [
        {
          "output_type": "execute_result",
          "data": {
            "text/plain": [
              "array([[3, 39, 12, 54, 17, 2, 1, 20, 74],\n",
              "       [18, 926, 351, 1295, 182, 138, 611, 931, 2226],\n",
              "       [7, 262, 575, 844, 856, 350, 106, 1312, 2156],\n",
              "       [28, 1227, 938, 2193, 1055, 490, 718, 2263, 4456],\n",
              "       [5, 177, 568, 750, 0, 0, 0, 0, 0],\n",
              "       [23, 141, 280, 444, 0, 0, 0, 0, 0],\n",
              "       [5, 115, 190, 310, 0, 0, 0, 0, 0],\n",
              "       [1, 53, 82, 136, 0, 0, 0, 0, 0],\n",
              "       [34, 486, 1120, 1640, 0, 0, 0, 0, 0],\n",
              "       [62, 1713, 2058, 3833, 0, 0, 0, 0, 0]], dtype=object)"
            ]
          },
          "metadata": {},
          "execution_count": 1713
        }
      ]
    },
    {
      "cell_type": "code",
      "source": [
        "ct = Tb[-1,0:3]  # 산출액\n",
        "ct_m = np.tile(ct, reps=[3,1]) # 산출액을 3번 행반복\n",
        "ct_m"
      ],
      "metadata": {
        "id": "JNTQaKaIXXwl",
        "outputId": "e92faaf8-8d33-4129-cdc9-58b7cf1066c8",
        "colab": {
          "base_uri": "https://localhost:8080/"
        }
      },
      "execution_count": 1714,
      "outputs": [
        {
          "output_type": "execute_result",
          "data": {
            "text/plain": [
              "array([[62, 1713, 2058],\n",
              "       [62, 1713, 2058],\n",
              "       [62, 1713, 2058]], dtype=object)"
            ]
          },
          "metadata": {},
          "execution_count": 1714
        }
      ]
    },
    {
      "cell_type": "code",
      "source": [
        "At=Tb[0:3,0:3]/ct_m\n",
        "At"
      ],
      "metadata": {
        "id": "_4rAOBJuADHZ",
        "outputId": "eda8367f-eb24-4fe2-9d2d-e2e017fe4271",
        "colab": {
          "base_uri": "https://localhost:8080/"
        }
      },
      "execution_count": 1715,
      "outputs": [
        {
          "output_type": "execute_result",
          "data": {
            "text/plain": [
              "array([[0.04838709677419355, 0.02276707530647986, 0.0058309037900874635],\n",
              "       [0.2903225806451613, 0.5405720957384705, 0.17055393586005832],\n",
              "       [0.11290322580645161, 0.15294804436660828, 0.2793974732750243]],\n",
              "      dtype=object)"
            ]
          },
          "metadata": {},
          "execution_count": 1715
        }
      ]
    },
    {
      "cell_type": "code",
      "source": [
        "aa=Tb[0:3,0:3]\n",
        "aa"
      ],
      "metadata": {
        "id": "ByDeYDd4shmX",
        "outputId": "47c420e1-6dfc-41da-c526-2efb482488c4",
        "colab": {
          "base_uri": "https://localhost:8080/"
        }
      },
      "execution_count": 1716,
      "outputs": [
        {
          "output_type": "execute_result",
          "data": {
            "text/plain": [
              "array([[3, 39, 12],\n",
              "       [18, 926, 351],\n",
              "       [7, 262, 575]], dtype=object)"
            ]
          },
          "metadata": {},
          "execution_count": 1716
        }
      ]
    },
    {
      "cell_type": "code",
      "source": [
        "row_vec = Tr[0:3,4] # 중간수요계\n",
        "col_vec = Tr[3, 1:4] # 중간투입계\n",
        "col_vec.shape"
      ],
      "metadata": {
        "id": "ockskGhkXXsC",
        "outputId": "5f041e22-08fc-4518-b4e4-d67f105e42f3",
        "colab": {
          "base_uri": "https://localhost:8080/"
        }
      },
      "execution_count": 1717,
      "outputs": [
        {
          "output_type": "execute_result",
          "data": {
            "text/plain": [
              "(3,)"
            ]
          },
          "metadata": {},
          "execution_count": 1717
        }
      ]
    },
    {
      "cell_type": "code",
      "source": [
        "ct_ref = Tr[5,1:4]\n",
        "ec = col_vec/M.sum(axis=1)\n",
        "er = row_vec/M.sum(axis=0)\n",
        "# print(ec)\n",
        "# print(er)\n",
        "\n",
        "M = At@np.diag(ct_ref)\n",
        "col_sm = M.sum(axis=1)\n",
        "R = (col_sm/col_vec)\n",
        "print(R)\n",
        "print(col_sm.shape)\n",
        "print(col_vec.shape)\n",
        "# col_sm\n",
        "# col_vec"
      ],
      "metadata": {
        "id": "9Xk4SB8PD46r",
        "outputId": "025d7c9a-822e-4b68-d2c3-597c0e50103a",
        "colab": {
          "base_uri": "https://localhost:8080/"
        }
      },
      "execution_count": 1718,
      "outputs": [
        {
          "output_type": "stream",
          "name": "stdout",
          "text": [
            "[2.1470387529632426 1.1327441738915347 0.8728893268392159]\n",
            "(3,)\n",
            "(3,)\n"
          ]
        }
      ]
    },
    {
      "cell_type": "code",
      "source": [
        "M = Tb[0:3,0:3]\n",
        "ct_ref = Tr[5,1:4]\n",
        "# R = row_vec/M.sum(axis=1)\n",
        "# S = col_vec/M.sum(axis=0)\n",
        "er = abs(R.sum()-1)\n",
        "ec = abs(C.sum()-1)\n",
        "print(ec)\n",
        "print(er)\n",
        "while True:\n",
        "  M = At@np.diag(ct_ref)\n",
        "  R_sm = M.sum(axis=1)\n",
        "  R = (row_vec/R_sm)\n",
        "  # print(R)\n",
        "  At = np.diag(R)@At\n",
        "\n",
        "  M = At@np.diag(ct_ref)\n",
        "  C_sm = M.sum(axis=0) #열수정계수\n",
        "  S = (col_vec/C_sm)\n",
        "  # print(S)\n",
        "  At = At@np.diag(S)\n",
        "  if er>100 and ec>100:\n",
        "    break\n",
        "\n",
        "er = abs(R.sum()-1)\n",
        "ec = abs(C.sum()-1)\n",
        "  # print(At)\n",
        "  # print(er)\n",
        "  # print(ec)\n",
        "  # print(col_vec)\n",
        "  # print(row_vec)\n",
        "\n",
        "# print(At)\n",
        "# Mf = At@np.diag(ct_ref)\n",
        "# df_Mf = pd.DataFrame(Mf)\n",
        "# df_Mf.to_csv('RAS결과.csv')\n",
        "# print(df_Mf)\n",
        "\n",
        "# print(col_vec)\n",
        "# print(row_vec)"
      ],
      "metadata": {
        "id": "vrveHpJNXXpO",
        "outputId": "cdda1048-a4d6-4054-e3f6-a6e552e9f504",
        "colab": {
          "base_uri": "https://localhost:8080/",
          "height": 414
        }
      },
      "execution_count": 1719,
      "outputs": [
        {
          "output_type": "stream",
          "name": "stdout",
          "text": [
            "70.63152694570617\n",
            "3.152672253693993\n"
          ]
        },
        {
          "output_type": "error",
          "ename": "KeyboardInterrupt",
          "evalue": "ignored",
          "traceback": [
            "\u001b[0;31m---------------------------------------------------------------------------\u001b[0m",
            "\u001b[0;31mKeyboardInterrupt\u001b[0m                         Traceback (most recent call last)",
            "\u001b[0;32m<ipython-input-1719-fa7ec2c3ad78>\u001b[0m in \u001b[0;36m<cell line: 9>\u001b[0;34m()\u001b[0m\n\u001b[1;32m      9\u001b[0m \u001b[0;32mwhile\u001b[0m \u001b[0;32mTrue\u001b[0m\u001b[0;34m:\u001b[0m\u001b[0;34m\u001b[0m\u001b[0;34m\u001b[0m\u001b[0m\n\u001b[1;32m     10\u001b[0m   \u001b[0mM\u001b[0m \u001b[0;34m=\u001b[0m \u001b[0mAt\u001b[0m\u001b[0;34m@\u001b[0m\u001b[0mnp\u001b[0m\u001b[0;34m.\u001b[0m\u001b[0mdiag\u001b[0m\u001b[0;34m(\u001b[0m\u001b[0mct_ref\u001b[0m\u001b[0;34m)\u001b[0m\u001b[0;34m\u001b[0m\u001b[0;34m\u001b[0m\u001b[0m\n\u001b[0;32m---> 11\u001b[0;31m   \u001b[0mR_sm\u001b[0m \u001b[0;34m=\u001b[0m \u001b[0mM\u001b[0m\u001b[0;34m.\u001b[0m\u001b[0msum\u001b[0m\u001b[0;34m(\u001b[0m\u001b[0maxis\u001b[0m\u001b[0;34m=\u001b[0m\u001b[0;36m1\u001b[0m\u001b[0;34m)\u001b[0m\u001b[0;34m\u001b[0m\u001b[0;34m\u001b[0m\u001b[0m\n\u001b[0m\u001b[1;32m     12\u001b[0m   \u001b[0mR\u001b[0m \u001b[0;34m=\u001b[0m \u001b[0;34m(\u001b[0m\u001b[0mrow_vec\u001b[0m\u001b[0;34m/\u001b[0m\u001b[0mR_sm\u001b[0m\u001b[0;34m)\u001b[0m\u001b[0;34m\u001b[0m\u001b[0;34m\u001b[0m\u001b[0m\n\u001b[1;32m     13\u001b[0m   \u001b[0;31m# print(R)\u001b[0m\u001b[0;34m\u001b[0m\u001b[0;34m\u001b[0m\u001b[0m\n",
            "\u001b[0;32m/usr/local/lib/python3.10/dist-packages/numpy/core/_methods.py\u001b[0m in \u001b[0;36m_sum\u001b[0;34m(a, axis, dtype, out, keepdims, initial, where)\u001b[0m\n\u001b[1;32m     44\u001b[0m     \u001b[0;32mreturn\u001b[0m \u001b[0mumr_minimum\u001b[0m\u001b[0;34m(\u001b[0m\u001b[0ma\u001b[0m\u001b[0;34m,\u001b[0m \u001b[0maxis\u001b[0m\u001b[0;34m,\u001b[0m \u001b[0;32mNone\u001b[0m\u001b[0;34m,\u001b[0m \u001b[0mout\u001b[0m\u001b[0;34m,\u001b[0m \u001b[0mkeepdims\u001b[0m\u001b[0;34m,\u001b[0m \u001b[0minitial\u001b[0m\u001b[0;34m,\u001b[0m \u001b[0mwhere\u001b[0m\u001b[0;34m)\u001b[0m\u001b[0;34m\u001b[0m\u001b[0;34m\u001b[0m\u001b[0m\n\u001b[1;32m     45\u001b[0m \u001b[0;34m\u001b[0m\u001b[0m\n\u001b[0;32m---> 46\u001b[0;31m def _sum(a, axis=None, dtype=None, out=None, keepdims=False,\n\u001b[0m\u001b[1;32m     47\u001b[0m          initial=_NoValue, where=True):\n\u001b[1;32m     48\u001b[0m     \u001b[0;32mreturn\u001b[0m \u001b[0mumr_sum\u001b[0m\u001b[0;34m(\u001b[0m\u001b[0ma\u001b[0m\u001b[0;34m,\u001b[0m \u001b[0maxis\u001b[0m\u001b[0;34m,\u001b[0m \u001b[0mdtype\u001b[0m\u001b[0;34m,\u001b[0m \u001b[0mout\u001b[0m\u001b[0;34m,\u001b[0m \u001b[0mkeepdims\u001b[0m\u001b[0;34m,\u001b[0m \u001b[0minitial\u001b[0m\u001b[0;34m,\u001b[0m \u001b[0mwhere\u001b[0m\u001b[0;34m)\u001b[0m\u001b[0;34m\u001b[0m\u001b[0;34m\u001b[0m\u001b[0m\n",
            "\u001b[0;31mKeyboardInterrupt\u001b[0m: "
          ]
        }
      ]
    },
    {
      "cell_type": "code",
      "source": [],
      "metadata": {
        "id": "f9-d8XOjGjeI"
      },
      "execution_count": null,
      "outputs": []
    }
  ]
}