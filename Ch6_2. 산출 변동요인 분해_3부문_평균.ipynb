{
  "nbformat": 4,
  "nbformat_minor": 0,
  "metadata": {
    "colab": {
      "provenance": [],
      "mount_file_id": "https://github.com/Tom-Jung/legendary-funicular/blob/main/IO_tables.ipynb",
      "authorship_tag": "ABX9TyNVogxQrNSNLgoWYEfOH6XS",
      "include_colab_link": true
    },
    "kernelspec": {
      "name": "python3",
      "display_name": "Python 3"
    },
    "language_info": {
      "name": "python"
    }
  },
  "cells": [
    {
      "cell_type": "markdown",
      "metadata": {
        "id": "view-in-github",
        "colab_type": "text"
      },
      "source": [
        "<a href=\"https://colab.research.google.com/github/Tom-Jung/legendary-funicular/blob/main/Ch6_2.%20%EC%82%B0%EC%B6%9C%20%EB%B3%80%EB%8F%99%EC%9A%94%EC%9D%B8%20%EB%B6%84%ED%95%B4_3%EB%B6%80%EB%AC%B8_%ED%8F%89%EA%B7%A0.ipynb\" target=\"_parent\"><img src=\"https://colab.research.google.com/assets/colab-badge.svg\" alt=\"Open In Colab\"/></a>"
      ]
    },
    {
      "cell_type": "code",
      "source": [
        "import numpy as np   # Numpy import\n",
        "import pandas as pd  # Pandas import"
      ],
      "metadata": {
        "id": "TR7JvW8CxBFT"
      },
      "execution_count": 117,
      "outputs": []
    },
    {
      "cell_type": "code",
      "source": [
        "np.set_printoptions(precision=3,suppress=True) # 결과를 소수 3자리까지만 보여주는 옵션"
      ],
      "metadata": {
        "id": "6ZXqGX8ykUGD"
      },
      "execution_count": 118,
      "outputs": []
    },
    {
      "cell_type": "markdown",
      "source": [
        "### 산출 변동요인분해"
      ],
      "metadata": {
        "id": "00a8dQ_-Ug2y"
      }
    },
    {
      "cell_type": "code",
      "source": [
        "# 2015년 거래표 다운로드\n",
        "\n",
        "url_total = \"https://raw.githubusercontent.com/Tom-Jung/legendary-funicular/main/Total_Matrix_2015_cst.csv\"  # 불변 2015년 총거래표\n",
        "Tot_cst_15 = pd.read_csv(url_total)\n",
        "\n",
        "url_imp = \"https://raw.githubusercontent.com/Tom-Jung/legendary-funicular/main/Imported_Matrix_2015_cst.csv\"  # 불변 2015년 수입거래표\n",
        "Imp_cst_15 = pd.read_csv(url_imp)\n",
        "\n",
        "url_dom = \"https://raw.githubusercontent.com/Tom-Jung/legendary-funicular/main/Domestic_Matrix_2015_cst.csv\"  # 불변 2015년 국산거래표\n",
        "Dom_cst_15 = pd.read_csv(url_dom)"
      ],
      "metadata": {
        "id": "5iSPH3zYKquU"
      },
      "execution_count": 119,
      "outputs": []
    },
    {
      "cell_type": "code",
      "source": [
        "# 2010년 거래표 다운로드\n",
        "\n",
        "url_total = \"https://raw.githubusercontent.com/Tom-Jung/legendary-funicular/main/Total_Matrix_2010_cst.csv\"  # 불변 2010년 총거래표\n",
        "Tot_cst_10 = pd.read_csv(url_total)\n",
        "\n",
        "url_imp = \"https://raw.githubusercontent.com/Tom-Jung/legendary-funicular/main/Imported_Matrix_2010_cst.csv\"  # 불변 2010년 수입거래표\n",
        "Imp_cst_10 = pd.read_csv(url_imp)\n",
        "\n",
        "url_dom = \"https://raw.githubusercontent.com/Tom-Jung/legendary-funicular/main/Domestic_Matrix_2010_cst.csv\"  # 불변 2010년 국산거래표\n",
        "Dom_cst_10 = pd.read_csv(url_dom)"
      ],
      "metadata": {
        "id": "o8Pv_b5hKqyW"
      },
      "execution_count": 120,
      "outputs": []
    },
    {
      "cell_type": "code",
      "source": [
        "Tot_cst_10.shape"
      ],
      "metadata": {
        "id": "f9aN0wIQGi15",
        "outputId": "9f7dd184-ad95-4464-dfb5-2766ff7803df",
        "colab": {
          "base_uri": "https://localhost:8080/"
        }
      },
      "execution_count": 121,
      "outputs": [
        {
          "output_type": "execute_result",
          "data": {
            "text/plain": [
              "(41, 47)"
            ]
          },
          "metadata": {},
          "execution_count": 121
        }
      ]
    },
    {
      "cell_type": "markdown",
      "source": [
        "부문통합하여 3부문 IO표 만들기"
      ],
      "metadata": {
        "id": "xCso22Zt1xPm"
      }
    },
    {
      "cell_type": "code",
      "source": [
        "cdd = \"https://raw.githubusercontent.com/Tom-Jung/legendary-funicular/main/code.csv\"  # 코드매치 파일\n",
        "ccdd = pd.read_csv(cdd)\n",
        "cd_for_itr = ccdd.to_numpy().reshape(33,2)\n",
        "cd_3 = cd_for_itr[:,1]\n",
        "cd_33 = cd_for_itr[:,0]\n",
        "print('3부문 코드 : \\n', cd_3)\n",
        "print('33부문 코드 : \\n', cd_33)"
      ],
      "metadata": {
        "id": "25VuADhB1S1R",
        "outputId": "d1d6c0f3-ea8c-4bdf-f8f0-36493a679384",
        "colab": {
          "base_uri": "https://localhost:8080/"
        }
      },
      "execution_count": 122,
      "outputs": [
        {
          "output_type": "stream",
          "name": "stdout",
          "text": [
            "3부문 코드 : \n",
            " [1 2 2 2 2 2 2 2 2 2 2 2 2 2 2 2 3 3 3 3 3 3 3 3 3 3 3 3 3 3 3 3 3]\n",
            "33부문 코드 : \n",
            " [ 1  2  3  4  5  6  7  8  9 10 11 12 13 14 15 16 17 18 19 20 21 22 23 24\n",
            " 25 26 27 28 29 30 31 32 33]\n"
          ]
        }
      ]
    },
    {
      "cell_type": "code",
      "source": [
        "# Mtx = np.zeros((3,32)) # 부문통합을 위한 코드가 많을 경우 상기의 코드를 수작업으로 미리 하는 것이 쉽자 않으므로 반복문을 통해 3x33 임시코드 만들기\n",
        "# row=cd_3[:-2]\n",
        "# col=cd_33[:-2]\n",
        "# for i, j in zip(row,col):\n",
        "#   Mtx[i-1,j-1] = 1\n",
        "# print(Mtx)"
      ],
      "metadata": {
        "id": "i4H2yI_71SzC"
      },
      "execution_count": 123,
      "outputs": []
    },
    {
      "cell_type": "code",
      "source": [
        "code = np.array([[1,0,0,0,0,0,0,0,0,0,0,0,0,0,0,0,0,0,0,0,0,0,0,0,0,0,0,0,0,0,0,0],  # 행렬 곱을 이용한 부문 통합을 위해 0과 1로 구성된 임시의 3x33 매트릭스\n",
        "       [0,1,1,1,1,1,1,1,1,1,1,1,1,1,1,1,0,0,0,0,0,0,0,0,0,0,0,0,0,0,0,0],\n",
        "       [0,0,0,0,0,0,0,0,0,0,0,0,0,0,0,0,1,1,1,1,1,1,1,1,1,1,1,1,1,1,1,1]])\n",
        "code = code.astype(float)"
      ],
      "metadata": {
        "id": "CzGWrQ848Gy9"
      },
      "execution_count": 124,
      "outputs": []
    },
    {
      "cell_type": "code",
      "source": [
        "SS_t0 = (Tot_cst_10.iloc[1:41,2:].to_numpy().astype(float)) # 10년 총거래표 numpy로 숫자만 불러오기(시간 t-1)\n",
        "Im_t0 = (Imp_cst_10.iloc[1:38,2:].to_numpy().astype(float)) # 10년 수입거래표 numpy로 숫자만 불러오기\n",
        "\n",
        "SS_t5 = (Tot_cst_15.iloc[1:41,2:].to_numpy().astype(float)) # 15년 총거래표 numpy로 숫자만 불러오기(시간 t)\n",
        "Im_t5 = (Imp_cst_15.iloc[1:38,2:].to_numpy().astype(float)) # 15년 수입거래표 numpy로 숫자만 불러오기\n"
      ],
      "metadata": {
        "id": "pEM4n3UC64LJ"
      },
      "execution_count": 125,
      "outputs": []
    },
    {
      "cell_type": "code",
      "source": [
        "nae_tot_row_t0 = code@SS_t0[0:32,0:32] # 중간투입(수요)의 행을 3부문으로 만들기\n",
        "nae_tot_row_t5 = code@SS_t5[0:32,0:32] # 중간투입(수요)의 행을 3부문으로 만들기"
      ],
      "metadata": {
        "id": "k8iXmS8NE67L"
      },
      "execution_count": 126,
      "outputs": []
    },
    {
      "cell_type": "code",
      "source": [
        "nae_tot_col_t0 = nae_tot_row_t0@code.T  # 중간투입(수요)의 열을 3부문으로 만들기\n",
        "nae_tot_col_t5 = nae_tot_row_t5@code.T  # 중간투입(수요)의 열을 3부문으로 만들기"
      ],
      "metadata": {
        "id": "8MGVYywRE65F"
      },
      "execution_count": 127,
      "outputs": []
    },
    {
      "cell_type": "code",
      "source": [
        "nae_tot_col_t5"
      ],
      "metadata": {
        "id": "YR0ZL9ymE62k",
        "outputId": "fffb0836-062f-4ac9-9750-0abc31efbf20",
        "colab": {
          "base_uri": "https://localhost:8080/"
        }
      },
      "execution_count": 128,
      "outputs": [
        {
          "output_type": "execute_result",
          "data": {
            "text/plain": [
              "array([[3.225e+06, 3.906e+07, 1.190e+07],\n",
              "       [1.775e+07, 9.254e+08, 3.509e+08],\n",
              "       [7.137e+06, 2.617e+08, 5.753e+08]])"
            ]
          },
          "metadata": {},
          "execution_count": 128
        }
      ]
    },
    {
      "cell_type": "code",
      "source": [
        "va_row_t0 = SS_t0[32:42,0:32]@code.T # 중투합, 피용자보수, 영업잉여, 고정자본소모, 기타생산세, 조정항, 부가가치계, 산출액(8X3)\n",
        "va_row_t5 = SS_t5[32:41,0:32]@code.T # 중투합, 피용자보수, 영업잉여, 고정자본소모, 기타생산세, 조정항, 부가가치계, 산출액(7X3)\n",
        "va_row_t5"
      ],
      "metadata": {
        "id": "x0cu0k1N8urJ",
        "outputId": "01a82271-9a49-44a4-bcae-356f60b02bb1",
        "colab": {
          "base_uri": "https://localhost:8080/"
        }
      },
      "execution_count": 129,
      "outputs": [
        {
          "output_type": "execute_result",
          "data": {
            "text/plain": [
              "array([[2.811e+07, 1.226e+09, 9.381e+08],\n",
              "       [5.243e+06, 1.768e+08, 5.682e+08],\n",
              "       [2.258e+07, 1.400e+08, 2.789e+08],\n",
              "       [4.828e+06, 1.148e+08, 1.900e+08],\n",
              "       [6.100e+05, 5.344e+07, 8.205e+07],\n",
              "       [3.326e+07, 4.850e+08, 1.119e+09],\n",
              "       [6.137e+07, 1.711e+09, 2.057e+09]])"
            ]
          },
          "metadata": {},
          "execution_count": 129
        }
      ]
    },
    {
      "cell_type": "code",
      "source": [
        "fd_cd = np.array([[1,1,0,0,0,0,0,0,0],   # 최종수요를 통합하기 위한 0과 1로된 행렬\n",
        "                  [0,0,1,1,1,1,0,0,0],\n",
        "                  [0,0,0,0,0,0,1,0,0],\n",
        "                  [0,0,0,0,0,0,0,1,0],\n",
        "                  [0,0,0,0,0,0,0,0,1]])\n"
      ],
      "metadata": {
        "id": "1ieztqpq8k8e"
      },
      "execution_count": 130,
      "outputs": []
    },
    {
      "cell_type": "code",
      "source": [
        "fd_t0 = SS_t0[0:32, 33:42]\n",
        "fd_t5 = SS_t5[0:32, 33:42]"
      ],
      "metadata": {
        "id": "qhjmcmWE9JRY"
      },
      "execution_count": 131,
      "outputs": []
    },
    {
      "cell_type": "code",
      "source": [
        "fd_row_t0=code@fd_t0@fd_cd.T\n",
        "fd_row_t5=code@fd_t5@fd_cd.T\n",
        "fd_row_t0"
      ],
      "metadata": {
        "id": "5fMavrZQD9c2",
        "outputId": "4656d328-bfb7-4fcb-b4eb-ccd065f3012a",
        "colab": {
          "base_uri": "https://localhost:8080/"
        }
      },
      "execution_count": 132,
      "outputs": [
        {
          "output_type": "execute_result",
          "data": {
            "text/plain": [
              "array([[1.601e+07, 2.646e+06, 8.298e+05, 1.949e+07, 6.890e+07],\n",
              "       [1.665e+08, 1.374e+08, 4.565e+08, 7.604e+08, 1.848e+09],\n",
              "       [7.403e+08, 3.104e+08, 7.855e+07, 1.129e+09, 1.819e+09]])"
            ]
          },
          "metadata": {},
          "execution_count": 132
        }
      ]
    },
    {
      "cell_type": "code",
      "source": [
        "fd_row_sm_t0 = np.sum((fd_row_t0), axis=0) # 최종수요의 행합\n",
        "fd_row_sm_t5 = np.sum((fd_row_t5), axis=0) # 최종수요의 행합"
      ],
      "metadata": {
        "id": "3my3IJTwFk8V"
      },
      "execution_count": 133,
      "outputs": []
    },
    {
      "cell_type": "code",
      "source": [
        "fd_sm_t0=fd_row_sm_t0.reshape(1,5)\n",
        "fd_sm_t5=fd_row_sm_t5.reshape(1,5)"
      ],
      "metadata": {
        "id": "7xkLaM4_D9fk"
      },
      "execution_count": 134,
      "outputs": []
    },
    {
      "cell_type": "code",
      "source": [
        "nae_va_ct_t0 = np.concatenate((nae_tot_col_t0, va_row_t0)) # 중간투입(수요)와 부가가치 및 산출액 합치기\n",
        "nae_va_ct_t5 = np.concatenate((nae_tot_col_t5, va_row_t5)) # 중간투입(수요)와 부가가치 및 산출액 합치기"
      ],
      "metadata": {
        "id": "OuVXx3ocD9iE"
      },
      "execution_count": 135,
      "outputs": []
    },
    {
      "cell_type": "code",
      "source": [
        "nae_va_ct_sm_t0 = nae_va_ct_t0.sum(axis=1).reshape(11,1)  # 부가가치 및 산출액의 열합\n",
        "nae_va_ct_sm_t5 = nae_va_ct_t5.sum(axis=1).reshape(10,1)  # 부가가치 및 산출액의 열합"
      ],
      "metadata": {
        "id": "bQAPVPomF_Nw"
      },
      "execution_count": 136,
      "outputs": []
    },
    {
      "cell_type": "code",
      "source": [
        "nnull_t0 = np.zeros((7,5)) # 0행렬\n",
        "nnull_t5 = np.zeros((6,5)) # 0행렬"
      ],
      "metadata": {
        "id": "IikYIu8RF_Lp"
      },
      "execution_count": 137,
      "outputs": []
    },
    {
      "cell_type": "code",
      "source": [
        "fd_nnull_t0 = np.concatenate((fd_row_t0, fd_sm_t0, nnull_t0),axis=0)  # 최종수요, 최종수요 행합 및 0행렬 합치기\n",
        "fd_nnull_t5 = np.concatenate((fd_row_t5, fd_sm_t5, nnull_t5),axis=0)  # 최종수요, 최종수요 행합 및 0행렬 합치기"
      ],
      "metadata": {
        "id": "iDO_pnHmF_Jc"
      },
      "execution_count": 138,
      "outputs": []
    },
    {
      "cell_type": "code",
      "source": [
        "tot_f_t0 = np.concatenate((nae_va_ct_t0,nae_va_ct_sm_t0, fd_nnull_t0), axis=1)  # 최종 3x3 부문통합된 거래표\n",
        "tot_f_t5 = np.concatenate((nae_va_ct_t5,nae_va_ct_sm_t5, fd_nnull_t5), axis=1)  # 최종 3x3 부문통합된 거래표"
      ],
      "metadata": {
        "id": "ldumHTfbF_G7"
      },
      "execution_count": 139,
      "outputs": []
    },
    {
      "cell_type": "code",
      "source": [
        "tot_F_t0 = pd.DataFrame(tot_f_t0.round(3), columns = ['농산품', '공산품', '서비스', '중간수요계', '소비','투자', '수출', '최종수요계', '총수요계'],\n",
        "                     index=['농산품', '공산품', '서비스', '중간투입계', '피용자보수','영업잉여', '고정자본소모', '생산세(보조금공제)','조정항', '부가가치계', '총투입액']) # 변수명 붙여서 pandas로 내보내기\n"
      ],
      "metadata": {
        "id": "1qM07XyS64Np"
      },
      "execution_count": 140,
      "outputs": []
    },
    {
      "cell_type": "code",
      "source": [
        "tot_F_t5 = pd.DataFrame(tot_f_t5.round(3), columns = ['농산품', '공산품', '서비스', '중간수요계', '소비','투자', '수출', '최종수요계', '총수요계'],\n",
        "                     index=['농산품', '공산품', '서비스', '중간투입계', '피용자보수','영업잉여', '고정자본소모', '생산세(보조금공제)','부가가치계', '총투입액']) # 변수명 붙여서 pandas로 내보내기\n"
      ],
      "metadata": {
        "id": "2uZqbeKHHQWT"
      },
      "execution_count": 141,
      "outputs": []
    },
    {
      "cell_type": "code",
      "source": [
        "# 2010, 2015년 3부문 불변표 내보내기\n",
        "tot_F_t0.to_csv('10년_총거래표_3부문_불변.csv', encoding=\"utf-8-sig\")\n",
        "tot_F_t5.to_csv('15년_총거래표_3부문_불변.csv', encoding=\"utf-8-sig\")"
      ],
      "metadata": {
        "id": "0JyaE8wVHQT2"
      },
      "execution_count": 142,
      "outputs": []
    },
    {
      "cell_type": "markdown",
      "source": [
        "### 수입거래표 3부문 통합"
      ],
      "metadata": {
        "id": "D5EljDR8dxyD"
      }
    },
    {
      "cell_type": "code",
      "source": [
        "nae_imp_row_t0 = code@Im_t0[0:32,0:32] # 중간투입(수요)의 행을 3부문으로 만들기\n",
        "nae_imp_row_t5 = code@Im_t5[0:32,0:32] # 중간투입(수요)의 행을 3부문으로 만들기"
      ],
      "metadata": {
        "id": "EHyPQH4hInAR"
      },
      "execution_count": 143,
      "outputs": []
    },
    {
      "cell_type": "code",
      "source": [
        "nae_imp_col_t0 = nae_imp_row_t0@code.T  # 중간투입(수요)의 열을 3부문으로 만들기\n",
        "nae_imp_col_t5 = nae_imp_row_t5@code.T  # 중간투입(수요)의 열을 3부문으로 만들기"
      ],
      "metadata": {
        "id": "TeqKIOGeIm-A"
      },
      "execution_count": 144,
      "outputs": []
    },
    {
      "cell_type": "code",
      "source": [
        "Im_t0.shape"
      ],
      "metadata": {
        "id": "-jwVXZNlLdes",
        "outputId": "f6961b06-ba92-4a22-f3a2-bcf89b5fa3c5",
        "colab": {
          "base_uri": "https://localhost:8080/"
        }
      },
      "execution_count": 145,
      "outputs": [
        {
          "output_type": "execute_result",
          "data": {
            "text/plain": [
              "(33, 42)"
            ]
          },
          "metadata": {},
          "execution_count": 145
        }
      ]
    },
    {
      "cell_type": "code",
      "source": [
        "ism_row_t0 = (Im_t0[32,0:32]@code.T).reshape(1,3) # 중투합\n",
        "ism_row_t5 = (Im_t5[32,0:32]@code.T).reshape(1,3) # 중투합\n",
        "ism_row_t5"
      ],
      "metadata": {
        "id": "-hW97CaHIm78",
        "outputId": "d03cc686-a8e0-4f60-ba75-0c953e148fa2",
        "colab": {
          "base_uri": "https://localhost:8080/"
        }
      },
      "execution_count": 146,
      "outputs": [
        {
          "output_type": "execute_result",
          "data": {
            "text/plain": [
              "array([[1.881e+06, 3.520e+08, 1.233e+08]])"
            ]
          },
          "metadata": {},
          "execution_count": 146
        }
      ]
    },
    {
      "cell_type": "code",
      "source": [
        "ifd_t0 = Im_t0[0:32, 33:42] #수입최종수요\n",
        "ifd_t5 = Im_t5[0:32, 33:42] #수입최종수요"
      ],
      "metadata": {
        "id": "621BQc5CIm5x"
      },
      "execution_count": 147,
      "outputs": []
    },
    {
      "cell_type": "code",
      "source": [
        "ifd_row_t0=code@ifd_t0@fd_cd.T\n",
        "ifd_row_t5=code@ifd_t5@fd_cd.T"
      ],
      "metadata": {
        "id": "Ond1UgVYIm3s"
      },
      "execution_count": 148,
      "outputs": []
    },
    {
      "cell_type": "code",
      "source": [
        "ifd_row_sm_t0 = np.sum((ifd_row_t0), axis=0) # 최종수요의 행합\n",
        "ifd_row_sm_t5 = np.sum((ifd_row_t5), axis=0) # 최종수요의 행합"
      ],
      "metadata": {
        "id": "v58RQFl5Im1a"
      },
      "execution_count": 149,
      "outputs": []
    },
    {
      "cell_type": "code",
      "source": [
        "ifd_sm_t0=ifd_row_sm_t0.reshape(1,5)\n",
        "ifd_sm_t5=ifd_row_sm_t5.reshape(1,5)"
      ],
      "metadata": {
        "id": "PiY8_s-CImzD"
      },
      "execution_count": 150,
      "outputs": []
    },
    {
      "cell_type": "code",
      "source": [
        "ism_row_t0.ndim"
      ],
      "metadata": {
        "id": "Vka2T_hHODn5",
        "outputId": "504c0566-185b-4ccb-8cd9-369ab199db09",
        "colab": {
          "base_uri": "https://localhost:8080/"
        }
      },
      "execution_count": 151,
      "outputs": [
        {
          "output_type": "execute_result",
          "data": {
            "text/plain": [
              "2"
            ]
          },
          "metadata": {},
          "execution_count": 151
        }
      ]
    },
    {
      "cell_type": "code",
      "source": [
        "nae_im_t0 = np.concatenate((nae_imp_col_t0, ism_row_t0)) # 중간투입(수요)와 부가가치 및 산출액 합치기\n",
        "nae_im_t5 = np.concatenate((nae_imp_col_t5, ism_row_t5)) # 중간투입(수요)와 부가가치 및 산출액 합치기"
      ],
      "metadata": {
        "id": "X2veVn8pImwp"
      },
      "execution_count": 152,
      "outputs": []
    },
    {
      "cell_type": "code",
      "source": [
        "nae_col_sm_imp_t0 = nae_im_t0.sum(axis=1).reshape(4,1)  # 중간투입(수요)와 행합\n",
        "nae_col_sm_imp_t5 = nae_im_t5.sum(axis=1).reshape(4,1)  # 중간투입(수요)와 행합"
      ],
      "metadata": {
        "id": "_BKmfY87ImuW"
      },
      "execution_count": 153,
      "outputs": []
    },
    {
      "cell_type": "code",
      "source": [
        "nae_im_sm_t0 = nae_col_sm_imp_t0.sum(axis=1).reshape(4,1)  # 중간투입 및 중간투입 열합\n",
        "nae_im_sm_t5 = nae_col_sm_imp_t5.sum(axis=1).reshape(4,1)"
      ],
      "metadata": {
        "id": "cJpzca5eImr4"
      },
      "execution_count": 154,
      "outputs": []
    },
    {
      "cell_type": "code",
      "source": [
        "ifd_nnull_t0 = np.concatenate((ifd_row_t0, ifd_sm_t0),axis=0)  #   최종수요 및 최종수요 행합 합치기\n",
        "ifd_nnull_t5 = np.concatenate((ifd_row_t5, ifd_sm_t5),axis=0)  #   최종수요 및 최종수요 행합 합치기"
      ],
      "metadata": {
        "id": "m4reAjQiHQRI"
      },
      "execution_count": 155,
      "outputs": []
    },
    {
      "cell_type": "code",
      "source": [
        "imp_f_t0 = (np.concatenate((nae_im_t0, nae_im_sm_t0, ifd_nnull_t0), axis=1))  # 최종 3x3 부문통합된 거래표\n",
        "imp_f_t5 = (np.concatenate((nae_im_t5, nae_im_sm_t5, ifd_nnull_t5), axis=1))  # 최종 3x3 부문통합된 거래표"
      ],
      "metadata": {
        "id": "Ap6dF_e-Prdr"
      },
      "execution_count": 156,
      "outputs": []
    },
    {
      "cell_type": "code",
      "source": [
        "imp_F_t0 = pd.DataFrame(imp_f_t0.round(3), columns = ['농산품', '공산품', '서비스', '중간수요계', '소비','투자', '수출', '최종수요계', '총수요계'],\n",
        "                     index=['농산품', '공산품', '서비스', '중간투입계']) # 변수명 붙여서 pandas로 내보내기\n",
        "imp_F_t5 = pd.DataFrame(imp_f_t5.round(3), columns = ['농산품', '공산품', '서비스', '중간수요계', '소비','투자', '수출', '최종수요계', '총수요계'],\n",
        "                     index=['농산품', '공산품', '서비스', '중간투입계']) # 변수명 붙여서 pandas로 내보내기\n",
        "imp_F_t5"
      ],
      "metadata": {
        "id": "btPo7SoyPrZY",
        "outputId": "0a52eb75-dc7e-4da2-872d-5dea506149a2",
        "colab": {
          "base_uri": "https://localhost:8080/",
          "height": 412
        }
      },
      "execution_count": 157,
      "outputs": [
        {
          "output_type": "execute_result",
          "data": {
            "text/plain": [
              "             농산품          공산품          서비스        중간수요계          소비  \\\n",
              "농산품     348818.0    8218892.0     748604.0    9316314.0   2859389.0   \n",
              "공산품    1157164.0  327866649.0   76354626.0  405378439.0  53140499.0   \n",
              "서비스     374663.0   15940859.0   46232222.0   62547744.0  28500448.0   \n",
              "중간투입계  1880645.0  352026400.0  123335452.0  477242497.0  84500336.0   \n",
              "\n",
              "               투자         수출        최종수요계         총수요계  \n",
              "농산품      -17714.0        0.0    2841675.0   12157989.0  \n",
              "공산품    53398716.0  2125896.0  108665111.0  514043550.0  \n",
              "서비스     6752632.0        0.0   35253080.0   97800824.0  \n",
              "중간투입계  60133634.0  2125896.0  146759866.0  624002363.0  "
            ],
            "text/html": [
              "\n",
              "\n",
              "  <div id=\"df-b56d9061-8b87-4d70-81f0-0ec0838f7d42\">\n",
              "    <div class=\"colab-df-container\">\n",
              "      <div>\n",
              "<style scoped>\n",
              "    .dataframe tbody tr th:only-of-type {\n",
              "        vertical-align: middle;\n",
              "    }\n",
              "\n",
              "    .dataframe tbody tr th {\n",
              "        vertical-align: top;\n",
              "    }\n",
              "\n",
              "    .dataframe thead th {\n",
              "        text-align: right;\n",
              "    }\n",
              "</style>\n",
              "<table border=\"1\" class=\"dataframe\">\n",
              "  <thead>\n",
              "    <tr style=\"text-align: right;\">\n",
              "      <th></th>\n",
              "      <th>농산품</th>\n",
              "      <th>공산품</th>\n",
              "      <th>서비스</th>\n",
              "      <th>중간수요계</th>\n",
              "      <th>소비</th>\n",
              "      <th>투자</th>\n",
              "      <th>수출</th>\n",
              "      <th>최종수요계</th>\n",
              "      <th>총수요계</th>\n",
              "    </tr>\n",
              "  </thead>\n",
              "  <tbody>\n",
              "    <tr>\n",
              "      <th>농산품</th>\n",
              "      <td>348818.0</td>\n",
              "      <td>8218892.0</td>\n",
              "      <td>748604.0</td>\n",
              "      <td>9316314.0</td>\n",
              "      <td>2859389.0</td>\n",
              "      <td>-17714.0</td>\n",
              "      <td>0.0</td>\n",
              "      <td>2841675.0</td>\n",
              "      <td>12157989.0</td>\n",
              "    </tr>\n",
              "    <tr>\n",
              "      <th>공산품</th>\n",
              "      <td>1157164.0</td>\n",
              "      <td>327866649.0</td>\n",
              "      <td>76354626.0</td>\n",
              "      <td>405378439.0</td>\n",
              "      <td>53140499.0</td>\n",
              "      <td>53398716.0</td>\n",
              "      <td>2125896.0</td>\n",
              "      <td>108665111.0</td>\n",
              "      <td>514043550.0</td>\n",
              "    </tr>\n",
              "    <tr>\n",
              "      <th>서비스</th>\n",
              "      <td>374663.0</td>\n",
              "      <td>15940859.0</td>\n",
              "      <td>46232222.0</td>\n",
              "      <td>62547744.0</td>\n",
              "      <td>28500448.0</td>\n",
              "      <td>6752632.0</td>\n",
              "      <td>0.0</td>\n",
              "      <td>35253080.0</td>\n",
              "      <td>97800824.0</td>\n",
              "    </tr>\n",
              "    <tr>\n",
              "      <th>중간투입계</th>\n",
              "      <td>1880645.0</td>\n",
              "      <td>352026400.0</td>\n",
              "      <td>123335452.0</td>\n",
              "      <td>477242497.0</td>\n",
              "      <td>84500336.0</td>\n",
              "      <td>60133634.0</td>\n",
              "      <td>2125896.0</td>\n",
              "      <td>146759866.0</td>\n",
              "      <td>624002363.0</td>\n",
              "    </tr>\n",
              "  </tbody>\n",
              "</table>\n",
              "</div>\n",
              "      <button class=\"colab-df-convert\" onclick=\"convertToInteractive('df-b56d9061-8b87-4d70-81f0-0ec0838f7d42')\"\n",
              "              title=\"Convert this dataframe to an interactive table.\"\n",
              "              style=\"display:none;\">\n",
              "\n",
              "  <svg xmlns=\"http://www.w3.org/2000/svg\" height=\"24px\"viewBox=\"0 0 24 24\"\n",
              "       width=\"24px\">\n",
              "    <path d=\"M0 0h24v24H0V0z\" fill=\"none\"/>\n",
              "    <path d=\"M18.56 5.44l.94 2.06.94-2.06 2.06-.94-2.06-.94-.94-2.06-.94 2.06-2.06.94zm-11 1L8.5 8.5l.94-2.06 2.06-.94-2.06-.94L8.5 2.5l-.94 2.06-2.06.94zm10 10l.94 2.06.94-2.06 2.06-.94-2.06-.94-.94-2.06-.94 2.06-2.06.94z\"/><path d=\"M17.41 7.96l-1.37-1.37c-.4-.4-.92-.59-1.43-.59-.52 0-1.04.2-1.43.59L10.3 9.45l-7.72 7.72c-.78.78-.78 2.05 0 2.83L4 21.41c.39.39.9.59 1.41.59.51 0 1.02-.2 1.41-.59l7.78-7.78 2.81-2.81c.8-.78.8-2.07 0-2.86zM5.41 20L4 18.59l7.72-7.72 1.47 1.35L5.41 20z\"/>\n",
              "  </svg>\n",
              "      </button>\n",
              "\n",
              "\n",
              "\n",
              "    <div id=\"df-305ab337-60c3-48d2-a250-e54e0043fc05\">\n",
              "      <button class=\"colab-df-quickchart\" onclick=\"quickchart('df-305ab337-60c3-48d2-a250-e54e0043fc05')\"\n",
              "              title=\"Suggest charts.\"\n",
              "              style=\"display:none;\">\n",
              "\n",
              "<svg xmlns=\"http://www.w3.org/2000/svg\" height=\"24px\"viewBox=\"0 0 24 24\"\n",
              "     width=\"24px\">\n",
              "    <g>\n",
              "        <path d=\"M19 3H5c-1.1 0-2 .9-2 2v14c0 1.1.9 2 2 2h14c1.1 0 2-.9 2-2V5c0-1.1-.9-2-2-2zM9 17H7v-7h2v7zm4 0h-2V7h2v10zm4 0h-2v-4h2v4z\"/>\n",
              "    </g>\n",
              "</svg>\n",
              "      </button>\n",
              "    </div>\n",
              "\n",
              "<style>\n",
              "  .colab-df-quickchart {\n",
              "    background-color: #E8F0FE;\n",
              "    border: none;\n",
              "    border-radius: 50%;\n",
              "    cursor: pointer;\n",
              "    display: none;\n",
              "    fill: #1967D2;\n",
              "    height: 32px;\n",
              "    padding: 0 0 0 0;\n",
              "    width: 32px;\n",
              "  }\n",
              "\n",
              "  .colab-df-quickchart:hover {\n",
              "    background-color: #E2EBFA;\n",
              "    box-shadow: 0px 1px 2px rgba(60, 64, 67, 0.3), 0px 1px 3px 1px rgba(60, 64, 67, 0.15);\n",
              "    fill: #174EA6;\n",
              "  }\n",
              "\n",
              "  [theme=dark] .colab-df-quickchart {\n",
              "    background-color: #3B4455;\n",
              "    fill: #D2E3FC;\n",
              "  }\n",
              "\n",
              "  [theme=dark] .colab-df-quickchart:hover {\n",
              "    background-color: #434B5C;\n",
              "    box-shadow: 0px 1px 3px 1px rgba(0, 0, 0, 0.15);\n",
              "    filter: drop-shadow(0px 1px 2px rgba(0, 0, 0, 0.3));\n",
              "    fill: #FFFFFF;\n",
              "  }\n",
              "</style>\n",
              "\n",
              "    <script>\n",
              "      async function quickchart(key) {\n",
              "        const containerElement = document.querySelector('#' + key);\n",
              "        const charts = await google.colab.kernel.invokeFunction(\n",
              "            'suggestCharts', [key], {});\n",
              "      }\n",
              "    </script>\n",
              "\n",
              "      <script>\n",
              "\n",
              "function displayQuickchartButton(domScope) {\n",
              "  let quickchartButtonEl =\n",
              "    domScope.querySelector('#df-305ab337-60c3-48d2-a250-e54e0043fc05 button.colab-df-quickchart');\n",
              "  quickchartButtonEl.style.display =\n",
              "    google.colab.kernel.accessAllowed ? 'block' : 'none';\n",
              "}\n",
              "\n",
              "        displayQuickchartButton(document);\n",
              "      </script>\n",
              "      <style>\n",
              "    .colab-df-container {\n",
              "      display:flex;\n",
              "      flex-wrap:wrap;\n",
              "      gap: 12px;\n",
              "    }\n",
              "\n",
              "    .colab-df-convert {\n",
              "      background-color: #E8F0FE;\n",
              "      border: none;\n",
              "      border-radius: 50%;\n",
              "      cursor: pointer;\n",
              "      display: none;\n",
              "      fill: #1967D2;\n",
              "      height: 32px;\n",
              "      padding: 0 0 0 0;\n",
              "      width: 32px;\n",
              "    }\n",
              "\n",
              "    .colab-df-convert:hover {\n",
              "      background-color: #E2EBFA;\n",
              "      box-shadow: 0px 1px 2px rgba(60, 64, 67, 0.3), 0px 1px 3px 1px rgba(60, 64, 67, 0.15);\n",
              "      fill: #174EA6;\n",
              "    }\n",
              "\n",
              "    [theme=dark] .colab-df-convert {\n",
              "      background-color: #3B4455;\n",
              "      fill: #D2E3FC;\n",
              "    }\n",
              "\n",
              "    [theme=dark] .colab-df-convert:hover {\n",
              "      background-color: #434B5C;\n",
              "      box-shadow: 0px 1px 3px 1px rgba(0, 0, 0, 0.15);\n",
              "      filter: drop-shadow(0px 1px 2px rgba(0, 0, 0, 0.3));\n",
              "      fill: #FFFFFF;\n",
              "    }\n",
              "  </style>\n",
              "\n",
              "      <script>\n",
              "        const buttonEl =\n",
              "          document.querySelector('#df-b56d9061-8b87-4d70-81f0-0ec0838f7d42 button.colab-df-convert');\n",
              "        buttonEl.style.display =\n",
              "          google.colab.kernel.accessAllowed ? 'block' : 'none';\n",
              "\n",
              "        async function convertToInteractive(key) {\n",
              "          const element = document.querySelector('#df-b56d9061-8b87-4d70-81f0-0ec0838f7d42');\n",
              "          const dataTable =\n",
              "            await google.colab.kernel.invokeFunction('convertToInteractive',\n",
              "                                                     [key], {});\n",
              "          if (!dataTable) return;\n",
              "\n",
              "          const docLinkHtml = 'Like what you see? Visit the ' +\n",
              "            '<a target=\"_blank\" href=https://colab.research.google.com/notebooks/data_table.ipynb>data table notebook</a>'\n",
              "            + ' to learn more about interactive tables.';\n",
              "          element.innerHTML = '';\n",
              "          dataTable['output_type'] = 'display_data';\n",
              "          await google.colab.output.renderOutput(dataTable, element);\n",
              "          const docLink = document.createElement('div');\n",
              "          docLink.innerHTML = docLinkHtml;\n",
              "          element.appendChild(docLink);\n",
              "        }\n",
              "      </script>\n",
              "    </div>\n",
              "  </div>\n"
            ]
          },
          "metadata": {},
          "execution_count": 157
        }
      ]
    },
    {
      "cell_type": "code",
      "source": [
        "# 2010, 2015년 3부문 불변표 내보내기\n",
        "imp_F_t0.to_csv('10년_수입거래표_3부문_불변.csv', encoding=\"utf-8-sig\")\n",
        "imp_F_t5.to_csv('15년_수입거래표_3부문_불변.csv', encoding=\"utf-8-sig\")"
      ],
      "metadata": {
        "id": "MQHy1VxbPrUj"
      },
      "execution_count": 158,
      "outputs": []
    },
    {
      "cell_type": "code",
      "source": [
        "S1 = tot_f_t5.astype(float)\n",
        "I1 = imp_f_t5.astype(float)\n",
        "S0 = tot_f_t0.astype(float)\n",
        "I0 = imp_f_t0.astype(float)\n",
        "S1.sum()"
      ],
      "metadata": {
        "id": "wemue4OQ1Rtb",
        "outputId": "5b1ff239-b411-4351-f9d1-1eb3fcbb74c0",
        "colab": {
          "base_uri": "https://localhost:8080/"
        }
      },
      "execution_count": 159,
      "outputs": [
        {
          "output_type": "execute_result",
          "data": {
            "text/plain": [
              "40931720084.0"
            ]
          },
          "metadata": {},
          "execution_count": 159
        }
      ]
    },
    {
      "cell_type": "code",
      "source": [
        "SS1 = np.concatenate((S1[:8,],np.zeros((1,9)), S1[8:10,] ), axis=0)  # 2015년 부가가치 조정항을 0으로 삽입(2010년과 동일한 포맷을 유지하기 위함)"
      ],
      "metadata": {
        "id": "y8dIDFxvGyjf"
      },
      "execution_count": 160,
      "outputs": []
    },
    {
      "cell_type": "code",
      "source": [
        "SS0 = S0[0:3,0:3].astype(float)  # 내생항목 3x3\n",
        "SS1 = S1[0:3,0:3].astype(float)\n",
        "SS1.shape"
      ],
      "metadata": {
        "id": "GWivqhPhL5T7",
        "outputId": "21f63465-70dc-48cd-a47d-529f7e6c318e",
        "colab": {
          "base_uri": "https://localhost:8080/"
        }
      },
      "execution_count": 161,
      "outputs": [
        {
          "output_type": "execute_result",
          "data": {
            "text/plain": [
              "(3, 3)"
            ]
          },
          "metadata": {},
          "execution_count": 161
        }
      ]
    },
    {
      "cell_type": "code",
      "source": [
        "II0 = I0[0:3,0:3]  # 수입 내생항목 3x3\n",
        "II1 = I1[0:3,0:3]"
      ],
      "metadata": {
        "id": "7-RxwIZaeYt0"
      },
      "execution_count": 162,
      "outputs": []
    },
    {
      "cell_type": "code",
      "source": [
        "DD0 =SS0 - II0  # 국산 내생항목 3x3\n",
        "DD1 =SS1 - II1\n",
        "DD0"
      ],
      "metadata": {
        "id": "RCdnGfOpeYwS",
        "outputId": "670f25fc-615e-4708-e116-e708d2502cf9",
        "colab": {
          "base_uri": "https://localhost:8080/"
        }
      },
      "execution_count": 163,
      "outputs": [
        {
          "output_type": "execute_result",
          "data": {
            "text/plain": [
              "array([[4.129e+06, 2.900e+07, 8.603e+06],\n",
              "       [1.676e+07, 5.103e+08, 2.352e+08],\n",
              "       [5.354e+06, 2.091e+08, 4.273e+08]])"
            ]
          },
          "metadata": {},
          "execution_count": 163
        }
      ]
    },
    {
      "cell_type": "code",
      "source": [
        "TM0 = I0[0:3,8]  # 총수입벡터\n",
        "TM1 = I1[0:3,8]\n",
        "TM0"
      ],
      "metadata": {
        "colab": {
          "base_uri": "https://localhost:8080/"
        },
        "id": "iJUj_ANLeYyy",
        "outputId": "71b83f5c-2f4a-4dd5-c1e7-b5d94dd4bbe1"
      },
      "execution_count": 164,
      "outputs": [
        {
          "output_type": "execute_result",
          "data": {
            "text/plain": [
              "array([9.798e+06, 4.169e+08, 7.243e+07])"
            ]
          },
          "metadata": {},
          "execution_count": 164
        }
      ]
    },
    {
      "cell_type": "code",
      "source": [
        "IM0 = I0[0:3,3]  # 중간재수입벡터\n",
        "IM1 = I1[0:3,3]\n",
        "IM0"
      ],
      "metadata": {
        "id": "MFuhXJf7eY05",
        "outputId": "a7af9ad8-a41e-4af4-8500-8d2088ae7978",
        "colab": {
          "base_uri": "https://localhost:8080/"
        }
      },
      "execution_count": 165,
      "outputs": [
        {
          "output_type": "execute_result",
          "data": {
            "text/plain": [
              "array([7.690e+06, 3.251e+08, 4.833e+07])"
            ]
          },
          "metadata": {},
          "execution_count": 165
        }
      ]
    },
    {
      "cell_type": "code",
      "source": [
        "IF0 = I0[0:3,7]  # 최종재수입벡터\n",
        "IF1 = I1[0:3,7]\n",
        "IF0"
      ],
      "metadata": {
        "colab": {
          "base_uri": "https://localhost:8080/"
        },
        "id": "pPQ8aPECeY3J",
        "outputId": "5ffd7547-e67f-4ab1-bfa7-0746981fe18f"
      },
      "execution_count": 166,
      "outputs": [
        {
          "output_type": "execute_result",
          "data": {
            "text/plain": [
              "array([ 2108171., 91865740., 24096241.])"
            ]
          },
          "metadata": {},
          "execution_count": 166
        }
      ]
    },
    {
      "cell_type": "code",
      "source": [
        "SFC0 = S0[0:3,4]  # 최종수요-소비\n",
        "SFC1 = S1[0:3,4]\n",
        "SFC0"
      ],
      "metadata": {
        "colab": {
          "base_uri": "https://localhost:8080/"
        },
        "id": "PywPpOqreY5Q",
        "outputId": "cf149ac2-8b51-4474-d544-ba6df8f580f6"
      },
      "execution_count": 167,
      "outputs": [
        {
          "output_type": "execute_result",
          "data": {
            "text/plain": [
              "array([1.601e+07, 1.665e+08, 7.403e+08])"
            ]
          },
          "metadata": {},
          "execution_count": 167
        }
      ]
    },
    {
      "cell_type": "code",
      "source": [
        "SFI0 = S0[0:3,5] # 최종수요-투자\n",
        "SFI1 = S1[0:3,5]\n",
        "SFI0/1000000"
      ],
      "metadata": {
        "colab": {
          "base_uri": "https://localhost:8080/"
        },
        "id": "Ix970H04eY7n",
        "outputId": "be6916bc-f858-47d9-8598-38131ae22e55"
      },
      "execution_count": 168,
      "outputs": [
        {
          "output_type": "execute_result",
          "data": {
            "text/plain": [
              "array([  2.646, 137.44 , 310.398])"
            ]
          },
          "metadata": {},
          "execution_count": 168
        }
      ]
    },
    {
      "cell_type": "code",
      "source": [
        "SF0 = S0[0:3,7] # 최종수요합계\n",
        "SF1 = S1[0:3,7]\n",
        "SF0/1000000"
      ],
      "metadata": {
        "colab": {
          "base_uri": "https://localhost:8080/"
        },
        "id": "B65fDULHCBh8",
        "outputId": "85474cd3-3b90-424c-c75f-6487ca9f4551"
      },
      "execution_count": 169,
      "outputs": [
        {
          "output_type": "execute_result",
          "data": {
            "text/plain": [
              "array([  19.485,  760.437, 1129.235])"
            ]
          },
          "metadata": {},
          "execution_count": 169
        }
      ]
    },
    {
      "cell_type": "code",
      "source": [
        "EX0 = S0[0:3,6] # 수출\n",
        "EX1 = S1[0:3,6]\n",
        "EX0/1000000"
      ],
      "metadata": {
        "colab": {
          "base_uri": "https://localhost:8080/"
        },
        "id": "iA373XRaCBke",
        "outputId": "acfb57e8-95b3-4795-c91f-a74a3fa7489d"
      },
      "execution_count": 170,
      "outputs": [
        {
          "output_type": "execute_result",
          "data": {
            "text/plain": [
              "array([  0.83 , 456.483,  78.546])"
            ]
          },
          "metadata": {},
          "execution_count": 170
        }
      ]
    },
    {
      "cell_type": "code",
      "source": [
        "DF0 = SF0 - EX0 #소비+투자\n",
        "DF1 = SF1 - EX1\n",
        "DF0/1000000"
      ],
      "metadata": {
        "id": "-TSTMCf-CBm-",
        "outputId": "4947d27d-3859-4d59-be00-4b3687157955",
        "colab": {
          "base_uri": "https://localhost:8080/"
        }
      },
      "execution_count": 171,
      "outputs": [
        {
          "output_type": "execute_result",
          "data": {
            "text/plain": [
              "array([  18.656,  303.955, 1050.689])"
            ]
          },
          "metadata": {},
          "execution_count": 171
        }
      ]
    },
    {
      "cell_type": "code",
      "source": [
        "SFC00 = SFC0.sum(axis=0) # 소비합계\n",
        "SFC11 = SFC1.sum(axis=0)\n",
        "\n",
        "SFI00 = SFI0.sum(axis=0) # 투자합계\n",
        "SFI11 = SFI1.sum(axis=0)\n",
        "\n",
        "EX00 = EX0.sum(axis=0) # 수출합계\n",
        "EX11 = EX1.sum(axis=0)\n",
        "\n",
        "print('2010년 소비합계 : ', SFC00)\n",
        "print('2015년 소비합계 : ', SFC11)\n",
        "\n",
        "print('2010년 투자합계 : ', SFI00)\n",
        "print('2015년 투자합계 : ', SFI11)\n",
        "\n",
        "print('2010년 수출합계 : ', EX00)\n",
        "print('2015년 수출합계 : ', EX11)\n"
      ],
      "metadata": {
        "colab": {
          "base_uri": "https://localhost:8080/"
        },
        "id": "bsUg2RmYELiu",
        "outputId": "330aff2b-d985-452e-a9f7-0dcf19898b05"
      },
      "execution_count": 172,
      "outputs": [
        {
          "output_type": "stream",
          "name": "stdout",
          "text": [
            "2010년 소비합계 :  922814206.0\n",
            "2015년 소비합계 :  1054900320.0\n",
            "2010년 투자합계 :  450484823.0\n",
            "2015년 투자합계 :  489601534.0\n",
            "2010년 수출합계 :  535858572.0\n",
            "2015년 수출합계 :  716951177.0\n"
          ]
        }
      ]
    },
    {
      "cell_type": "code",
      "source": [
        "GDC1 = ((SFC11 - SFC00)/ SFC00) # 소비증가율\n",
        "GDC2 = GDC1*SFC0  # 규모효과\n",
        "GDC3 = (SFC1-SFC0) - GDC2 # 구조효과"
      ],
      "metadata": {
        "id": "44Dv7WlvELla"
      },
      "execution_count": 173,
      "outputs": []
    },
    {
      "cell_type": "code",
      "source": [
        "GDI1 = ((SFI11 - SFI00)/ SFI00) # 투자증가율\n",
        "GDI2 = GDI1*SFI0 # 규모효과\n",
        "GDI3 = (SFI1-SFI0) - GDI2 # 구조효과"
      ],
      "metadata": {
        "id": "kUvW8c4mELn3"
      },
      "execution_count": 174,
      "outputs": []
    },
    {
      "cell_type": "code",
      "source": [
        "ED1 = ((EX11 - EX00)/EX00) # 수출증가율\n",
        "ED2 = ED1*EX0 # 규모효과\n",
        "ED3 = (EX1-EX0) - ED2 # 구조효과"
      ],
      "metadata": {
        "id": "HOEfWHa4ELqN"
      },
      "execution_count": 175,
      "outputs": []
    },
    {
      "cell_type": "code",
      "source": [
        "C0 = S0[-1,0:3].T.reshape([3,1])  # 총산출액\n",
        "C1 = S1[-1,0:3].T.reshape([3,1])\n",
        "C0/1000000"
      ],
      "metadata": {
        "colab": {
          "base_uri": "https://localhost:8080/"
        },
        "id": "iZ80_uBiELtF",
        "outputId": "88fb3800-58cd-4b46-9173-209b273f1123"
      },
      "execution_count": 176,
      "outputs": [
        {
          "output_type": "execute_result",
          "data": {
            "text/plain": [
              "array([[  59.105],\n",
              "       [1430.838],\n",
              "       [1746.898]])"
            ]
          },
          "metadata": {},
          "execution_count": 176
        }
      ]
    },
    {
      "cell_type": "code",
      "source": [
        "TC0 = C0.sum(axis=0)  #총산출계\n",
        "TC1 = C1.sum(axis=0)\n",
        "TC0/1000000"
      ],
      "metadata": {
        "id": "P83r7vKxELvb",
        "outputId": "78f7b3a4-a62a-4e6a-d698-68115fc6e9a0",
        "colab": {
          "base_uri": "https://localhost:8080/"
        }
      },
      "execution_count": 177,
      "outputs": [
        {
          "output_type": "execute_result",
          "data": {
            "text/plain": [
              "array([3236.841])"
            ]
          },
          "metadata": {},
          "execution_count": 177
        }
      ]
    },
    {
      "cell_type": "code",
      "source": [
        "V0 = S0[-1,0:3].T - S0[3,0:3].T # 부가가치계벡터 = 총투입액 - 중간투입계\n",
        "V1 = S1[-1,0:3].T - S1[3,0:3].T\n",
        "V1/1000000"
      ],
      "metadata": {
        "colab": {
          "base_uri": "https://localhost:8080/"
        },
        "id": "JNBtafCsELyF",
        "outputId": "d020c976-bc43-41e9-c30a-9aba963353de"
      },
      "execution_count": 178,
      "outputs": [
        {
          "output_type": "execute_result",
          "data": {
            "text/plain": [
              "array([  33.258,  485.04 , 1119.152])"
            ]
          },
          "metadata": {},
          "execution_count": 178
        }
      ]
    },
    {
      "cell_type": "code",
      "source": [
        "AV0 = V0/C0 # 부가가치계수\n",
        "AV1 = V1/C1\n",
        "AV1"
      ],
      "metadata": {
        "id": "0J-f-kPxEL0Z",
        "outputId": "32aa2b8e-cf42-4a5d-8004-70248e5caef7",
        "colab": {
          "base_uri": "https://localhost:8080/"
        }
      },
      "execution_count": 179,
      "outputs": [
        {
          "output_type": "execute_result",
          "data": {
            "text/plain": [
              "array([[ 0.542,  7.903, 18.236],\n",
              "       [ 0.019,  0.283,  0.654],\n",
              "       [ 0.016,  0.236,  0.544]])"
            ]
          },
          "metadata": {},
          "execution_count": 179
        }
      ]
    },
    {
      "cell_type": "code",
      "source": [
        "C0"
      ],
      "metadata": {
        "id": "NYG3cs0WeVmq",
        "outputId": "ac54dbee-f31b-4e6b-a4c9-e29cb1916adc",
        "colab": {
          "base_uri": "https://localhost:8080/"
        }
      },
      "execution_count": 180,
      "outputs": [
        {
          "output_type": "execute_result",
          "data": {
            "text/plain": [
              "array([[5.911e+07],\n",
              "       [1.431e+09],\n",
              "       [1.747e+09]])"
            ]
          },
          "metadata": {},
          "execution_count": 180
        }
      ]
    },
    {
      "cell_type": "code",
      "source": [
        "CT0 = np.tile(C0, reps=[1,3])   # Ct벡터를 반복해여 행렬(3x3)로 만듬\n",
        "CT1 = np.tile(C1, reps=[1,3])\n",
        "CT1"
      ],
      "metadata": {
        "colab": {
          "base_uri": "https://localhost:8080/"
        },
        "id": "9dGIXvcTEL3B",
        "outputId": "a67202ac-d8d8-4fce-8558-538fbda63918"
      },
      "execution_count": 181,
      "outputs": [
        {
          "output_type": "execute_result",
          "data": {
            "text/plain": [
              "array([[6.137e+07, 6.137e+07, 6.137e+07],\n",
              "       [1.711e+09, 1.711e+09, 1.711e+09],\n",
              "       [2.057e+09, 2.057e+09, 2.057e+09]])"
            ]
          },
          "metadata": {},
          "execution_count": 181
        }
      ]
    },
    {
      "cell_type": "code",
      "source": [
        "AS0 = SS0/CT0.T # 총투입계수표\n",
        "AS1 = SS1/CT1.T\n",
        "# np.isnan(AS_t)"
      ],
      "metadata": {
        "id": "NCE7a-1dgP2f"
      },
      "execution_count": 182,
      "outputs": []
    },
    {
      "cell_type": "code",
      "source": [
        "AD0 = DD0/CT0.T # 국산투입계수표\n",
        "AD1 = DD1/CT1.T"
      ],
      "metadata": {
        "id": "tWvEJKQJi9Lt"
      },
      "execution_count": 183,
      "outputs": []
    },
    {
      "cell_type": "code",
      "source": [
        "II0 = AS0-AD0 # 수입투입계수표\n",
        "II1 = AS1-AD1"
      ],
      "metadata": {
        "id": "YaT-6Loqi9OR"
      },
      "execution_count": 184,
      "outputs": []
    },
    {
      "cell_type": "code",
      "source": [
        "M0 = IF0/DF0 # 수입최종수요/(소비+투자)\n",
        "M0 = np.diag(M0)\n",
        "\n",
        "M1 = IF1/DF1\n",
        "M1 = np.diag(M1)"
      ],
      "metadata": {
        "id": "w-ShpkV7i9QY"
      },
      "execution_count": 185,
      "outputs": []
    },
    {
      "cell_type": "code",
      "source": [
        "RD0 = np.linalg.inv(np.eye(3) - AD0) # 생산유발계수\n",
        "RD1 = np.linalg.inv(np.eye(3) - AD1)"
      ],
      "metadata": {
        "id": "y5HiakVIi9Sk"
      },
      "execution_count": 186,
      "outputs": []
    },
    {
      "cell_type": "code",
      "source": [
        "AM0 = II0/AS0 #조정항목\n",
        "AM0 = AM0*AS1\n",
        "\n",
        "AM1 = II1/AS1\n",
        "AM1 = AM1*AS0\n",
        "\n",
        "# np.nan_to_num(AM0, copy=False)\n",
        "# np.nan_to_num(AM1, copy=False)"
      ],
      "metadata": {
        "id": "-62Wibedi9U7"
      },
      "execution_count": 187,
      "outputs": []
    },
    {
      "cell_type": "code",
      "source": [
        "AA = AS1 - AS0 #투입계수변화\n",
        "AS1_f = pd.DataFrame(AS1)\n",
        "AS1_f.to_csv('AS1_f.csv')"
      ],
      "metadata": {
        "id": "oaRIccJKinqc"
      },
      "execution_count": 188,
      "outputs": []
    },
    {
      "cell_type": "markdown",
      "source": [
        "#### 산출액성장요인분해\n",
        "-  파쉐 및 라스파이레스 방식으로 산출액 변동을 분해하여 평균으로 성장요인을 분해\n",
        "- 파쉐 방식"
      ],
      "metadata": {
        "id": "LtkcJ9Pasrzo"
      }
    },
    {
      "cell_type": "code",
      "source": [
        "TC1 = ((RD1@(np.eye(3)-M1))@GDC2).reshape([3,1])  # 소비규모증가효과\n",
        "TC11 = ((RD1@(np.eye(3)-M1))@GDC3).reshape([3,1]) # 소비구조증가효과\n",
        "TCTD = TC1 + TC11\n",
        "TC111 = np.concatenate((TCTD, TC1, TC11), axis=1)\n",
        "# TC111"
      ],
      "metadata": {
        "id": "KMvKjFJ0q19V"
      },
      "execution_count": 189,
      "outputs": []
    },
    {
      "cell_type": "code",
      "source": [
        "TI1 = ((RD1@(np.eye(3)-M1))@GDI2).reshape([3,1])  # 소비규모증가효과\n",
        "TI11 = ((RD1@(np.eye(3)-M1))@GDI3).reshape([3,1]) # 소비구조증가효과\n",
        "TITD = TI1 + TI11\n",
        "TI111 = np.concatenate((TITD, TI1, TI11), axis=1)"
      ],
      "metadata": {
        "id": "WkSQSCLhul8x"
      },
      "execution_count": 190,
      "outputs": []
    },
    {
      "cell_type": "code",
      "source": [
        "TQ = TC1+TI1 # 국내최종수요규모증가효과\n",
        "TS = TC11+TI11 # 국내최종수요규조변화효과\n",
        "TQS = TQ+TS\n",
        "T1 = np.concatenate((TQS, TQ, TS), axis=1)\n",
        "T1.shape"
      ],
      "metadata": {
        "id": "Wmq1H3tuumAB",
        "colab": {
          "base_uri": "https://localhost:8080/"
        },
        "outputId": "6450945a-033b-435e-af72-b04cae8a82c7"
      },
      "execution_count": 191,
      "outputs": [
        {
          "output_type": "execute_result",
          "data": {
            "text/plain": [
              "(3, 3)"
            ]
          },
          "metadata": {},
          "execution_count": 191
        }
      ]
    },
    {
      "cell_type": "code",
      "source": [
        "T2 = (RD1@ED2).reshape([3,1]) # 수출규모증가효과\n",
        "T22 = (RD1@ED3) .reshape([3,1])# 수출구조변화효과\n",
        "TTE = T2+T22\n",
        "T2 = np.concatenate((TTE, T2, T22), axis=1)"
      ],
      "metadata": {
        "id": "PgRj1lk4tyya"
      },
      "execution_count": 192,
      "outputs": []
    },
    {
      "cell_type": "code",
      "source": [
        "T3 = ((RD1@(M1 - M0))@DF0).reshape([3,1]) # 최종재수입대체효과\n",
        "T3 = T3*-1\n",
        "T4 = ((RD1@(AM1 - II0)))@C0[0:3,] # 중간재수입대체효과\n",
        "T4 = T4*-1\n",
        "T34 = T3 + T4\n",
        "TI = np.concatenate((T34, T3, T4), axis=1)\n",
        "TI"
      ],
      "metadata": {
        "id": "8Mr7oaogtKuC",
        "outputId": "41eca9c6-4fe6-40a6-a476-906cf7c34060",
        "colab": {
          "base_uri": "https://localhost:8080/"
        }
      },
      "execution_count": 193,
      "outputs": [
        {
          "output_type": "execute_result",
          "data": {
            "text/plain": [
              "array([[ -2673230.026,  -1228385.444,  -1444844.583],\n",
              "       [-45065548.09 , -20400323.626, -24665224.464],\n",
              "       [-21648907.322, -13055064.519,  -8593842.803]])"
            ]
          },
          "metadata": {},
          "execution_count": 193
        }
      ]
    },
    {
      "cell_type": "code",
      "source": [
        "T5 = (RD1@(AA-(II1-AM1)))@C0 # 기술변화효과\n",
        "T5.shape\n",
        "T5"
      ],
      "metadata": {
        "id": "iHLeIimfRbIu",
        "outputId": "1776016e-6dcd-482f-c4ab-1d3af233eaa4",
        "colab": {
          "base_uri": "https://localhost:8080/"
        }
      },
      "execution_count": 194,
      "outputs": [
        {
          "output_type": "execute_result",
          "data": {
            "text/plain": [
              "array([[-2655781.777],\n",
              "       [ 6683402.413],\n",
              "       [30749629.274]])"
            ]
          },
          "metadata": {},
          "execution_count": 194
        }
      ]
    },
    {
      "cell_type": "code",
      "source": [
        "DCT0 = C1-C0  #산출액 실질변동액\n",
        "DCT1 = TCTD + TITD + TTE +T3 + T4 + T5 # 총변동요인\n",
        "DCT = DCT0-DCT1"
      ],
      "metadata": {
        "id": "-bGGgsUDHQ79"
      },
      "execution_count": 195,
      "outputs": []
    },
    {
      "cell_type": "code",
      "source": [
        "SUM = np.concatenate((C0, C1, DCT0, DCT1, DCT, T1, TC111, TI111, T2, TI, T5), axis=1)\n",
        "SUM.shape\n",
        "SUM1 = np.sum(SUM, axis=0).reshape([1,21])\n",
        "PGD1015 = (np.concatenate((SUM, SUM1), axis=0))\n",
        "PGD1015_f = (PGD1015/1000).round(1)\n",
        "PGD1015_f\n",
        "SUM/1000"
      ],
      "metadata": {
        "id": "vVUQoAshMJJU",
        "outputId": "84931dc7-7fe4-48c2-972b-88f58aae4e1a",
        "colab": {
          "base_uri": "https://localhost:8080/"
        }
      },
      "execution_count": 196,
      "outputs": [
        {
          "output_type": "execute_result",
          "data": {
            "text/plain": [
              "array([[  59105.417,   61371.723,    2266.306,    2266.306,       0.   ,\n",
              "           2392.746,    4777.142,   -2384.397,    2749.005,    3961.322,\n",
              "          -1212.316,    -356.26 ,     815.821,   -1172.081,    5202.572,\n",
              "           5645.583,    -443.011,   -2673.23 ,   -1228.385,   -1444.845,\n",
              "          -2655.782],\n",
              "       [1430838.343, 1711153.666,  280315.323,  280315.313,       0.01 ,\n",
              "          61722.797,   77123.199,  -15400.403,   50074.173,   56604.89 ,\n",
              "          -6530.717,   11648.623,   20518.309,   -8869.686,  256974.662,\n",
              "         257074.324,     -99.662,  -45065.548,  -20400.324,  -24665.224,\n",
              "           6683.402],\n",
              "       [1746897.559, 2057212.517,  310314.958,  310314.955,       0.003,\n",
              "         214444.021,  189315.923,   25128.098,  160878.466,  150005.238,\n",
              "          10873.228,   53565.555,   39310.684,   14254.871,   86770.212,\n",
              "          86269.517,     500.695,  -21648.907,  -13055.065,   -8593.843,\n",
              "          30749.629]])"
            ]
          },
          "metadata": {},
          "execution_count": 196
        }
      ]
    },
    {
      "cell_type": "code",
      "source": [
        "PGD1015_ff = pd.DataFrame(PGD1015_f,columns = ['10년산출액', '15년산출액', '15-10산출액(A)', '요인별합계(B)', 'B-A', '국내최종수요증감액', '국내최종수요(규모증가)', '국내최종수요(구조변화)',\n",
        "                                                     '소비', '소비(규모)','소비(구조)','투자', '투자(규모)','투자(구조)', '수출', '수출(규모)','수출(구조)', '수입', '최종재수입','중간재수입', '기술변화'],\n",
        "\n",
        "                         index=['농산품', '공산품', '서비스', '계'])  # pandas로 내보내기"
      ],
      "metadata": {
        "id": "RGtoWYTD2Lhw"
      },
      "execution_count": 197,
      "outputs": []
    },
    {
      "cell_type": "code",
      "source": [
        "PGD1015_ff"
      ],
      "metadata": {
        "id": "Fk9Z5m7G8oxT",
        "outputId": "07ace810-6853-4b37-8b25-c25dd32e849d",
        "colab": {
          "base_uri": "https://localhost:8080/",
          "height": 424
        }
      },
      "execution_count": 198,
      "outputs": [
        {
          "output_type": "execute_result",
          "data": {
            "text/plain": [
              "        10년산출액     15년산출액  15-10산출액(A)  요인별합계(B)  B-A  국내최종수요증감액  \\\n",
              "농산품    59105.4    61371.7       2266.3    2266.3  0.0     2392.7   \n",
              "공산품  1430838.3  1711153.7     280315.3  280315.3  0.0    61722.8   \n",
              "서비스  1746897.6  2057212.5     310315.0  310315.0  0.0   214444.0   \n",
              "계    3236841.3  3829737.9     592896.6  592896.6  0.0   278559.6   \n",
              "\n",
              "     국내최종수요(규모증가)  국내최종수요(구조변화)        소비    소비(규모)  ...       투자   투자(규모)  \\\n",
              "농산품        4777.1       -2384.4    2749.0    3961.3  ...   -356.3    815.8   \n",
              "공산품       77123.2      -15400.4   50074.2   56604.9  ...  11648.6  20518.3   \n",
              "서비스      189315.9       25128.1  160878.5  150005.2  ...  53565.6  39310.7   \n",
              "계        271216.3        7343.3  213701.6  210571.5  ...  64857.9  60644.8   \n",
              "\n",
              "      투자(구조)        수출    수출(규모)  수출(구조)       수입    최종재수입    중간재수입     기술변화  \n",
              "농산품  -1172.1    5202.6    5645.6  -443.0  -2673.2  -1228.4  -1444.8  -2655.8  \n",
              "공산품  -8869.7  256974.7  257074.3   -99.7 -45065.5 -20400.3 -24665.2   6683.4  \n",
              "서비스  14254.9   86770.2   86269.5   500.7 -21648.9 -13055.1  -8593.8  30749.6  \n",
              "계     4213.1  348947.4  348989.4   -42.0 -69387.7 -34683.8 -34703.9  34777.2  \n",
              "\n",
              "[4 rows x 21 columns]"
            ],
            "text/html": [
              "\n",
              "\n",
              "  <div id=\"df-726f5d30-07c7-4d3e-877e-8a1fd31c36dc\">\n",
              "    <div class=\"colab-df-container\">\n",
              "      <div>\n",
              "<style scoped>\n",
              "    .dataframe tbody tr th:only-of-type {\n",
              "        vertical-align: middle;\n",
              "    }\n",
              "\n",
              "    .dataframe tbody tr th {\n",
              "        vertical-align: top;\n",
              "    }\n",
              "\n",
              "    .dataframe thead th {\n",
              "        text-align: right;\n",
              "    }\n",
              "</style>\n",
              "<table border=\"1\" class=\"dataframe\">\n",
              "  <thead>\n",
              "    <tr style=\"text-align: right;\">\n",
              "      <th></th>\n",
              "      <th>10년산출액</th>\n",
              "      <th>15년산출액</th>\n",
              "      <th>15-10산출액(A)</th>\n",
              "      <th>요인별합계(B)</th>\n",
              "      <th>B-A</th>\n",
              "      <th>국내최종수요증감액</th>\n",
              "      <th>국내최종수요(규모증가)</th>\n",
              "      <th>국내최종수요(구조변화)</th>\n",
              "      <th>소비</th>\n",
              "      <th>소비(규모)</th>\n",
              "      <th>...</th>\n",
              "      <th>투자</th>\n",
              "      <th>투자(규모)</th>\n",
              "      <th>투자(구조)</th>\n",
              "      <th>수출</th>\n",
              "      <th>수출(규모)</th>\n",
              "      <th>수출(구조)</th>\n",
              "      <th>수입</th>\n",
              "      <th>최종재수입</th>\n",
              "      <th>중간재수입</th>\n",
              "      <th>기술변화</th>\n",
              "    </tr>\n",
              "  </thead>\n",
              "  <tbody>\n",
              "    <tr>\n",
              "      <th>농산품</th>\n",
              "      <td>59105.4</td>\n",
              "      <td>61371.7</td>\n",
              "      <td>2266.3</td>\n",
              "      <td>2266.3</td>\n",
              "      <td>0.0</td>\n",
              "      <td>2392.7</td>\n",
              "      <td>4777.1</td>\n",
              "      <td>-2384.4</td>\n",
              "      <td>2749.0</td>\n",
              "      <td>3961.3</td>\n",
              "      <td>...</td>\n",
              "      <td>-356.3</td>\n",
              "      <td>815.8</td>\n",
              "      <td>-1172.1</td>\n",
              "      <td>5202.6</td>\n",
              "      <td>5645.6</td>\n",
              "      <td>-443.0</td>\n",
              "      <td>-2673.2</td>\n",
              "      <td>-1228.4</td>\n",
              "      <td>-1444.8</td>\n",
              "      <td>-2655.8</td>\n",
              "    </tr>\n",
              "    <tr>\n",
              "      <th>공산품</th>\n",
              "      <td>1430838.3</td>\n",
              "      <td>1711153.7</td>\n",
              "      <td>280315.3</td>\n",
              "      <td>280315.3</td>\n",
              "      <td>0.0</td>\n",
              "      <td>61722.8</td>\n",
              "      <td>77123.2</td>\n",
              "      <td>-15400.4</td>\n",
              "      <td>50074.2</td>\n",
              "      <td>56604.9</td>\n",
              "      <td>...</td>\n",
              "      <td>11648.6</td>\n",
              "      <td>20518.3</td>\n",
              "      <td>-8869.7</td>\n",
              "      <td>256974.7</td>\n",
              "      <td>257074.3</td>\n",
              "      <td>-99.7</td>\n",
              "      <td>-45065.5</td>\n",
              "      <td>-20400.3</td>\n",
              "      <td>-24665.2</td>\n",
              "      <td>6683.4</td>\n",
              "    </tr>\n",
              "    <tr>\n",
              "      <th>서비스</th>\n",
              "      <td>1746897.6</td>\n",
              "      <td>2057212.5</td>\n",
              "      <td>310315.0</td>\n",
              "      <td>310315.0</td>\n",
              "      <td>0.0</td>\n",
              "      <td>214444.0</td>\n",
              "      <td>189315.9</td>\n",
              "      <td>25128.1</td>\n",
              "      <td>160878.5</td>\n",
              "      <td>150005.2</td>\n",
              "      <td>...</td>\n",
              "      <td>53565.6</td>\n",
              "      <td>39310.7</td>\n",
              "      <td>14254.9</td>\n",
              "      <td>86770.2</td>\n",
              "      <td>86269.5</td>\n",
              "      <td>500.7</td>\n",
              "      <td>-21648.9</td>\n",
              "      <td>-13055.1</td>\n",
              "      <td>-8593.8</td>\n",
              "      <td>30749.6</td>\n",
              "    </tr>\n",
              "    <tr>\n",
              "      <th>계</th>\n",
              "      <td>3236841.3</td>\n",
              "      <td>3829737.9</td>\n",
              "      <td>592896.6</td>\n",
              "      <td>592896.6</td>\n",
              "      <td>0.0</td>\n",
              "      <td>278559.6</td>\n",
              "      <td>271216.3</td>\n",
              "      <td>7343.3</td>\n",
              "      <td>213701.6</td>\n",
              "      <td>210571.5</td>\n",
              "      <td>...</td>\n",
              "      <td>64857.9</td>\n",
              "      <td>60644.8</td>\n",
              "      <td>4213.1</td>\n",
              "      <td>348947.4</td>\n",
              "      <td>348989.4</td>\n",
              "      <td>-42.0</td>\n",
              "      <td>-69387.7</td>\n",
              "      <td>-34683.8</td>\n",
              "      <td>-34703.9</td>\n",
              "      <td>34777.2</td>\n",
              "    </tr>\n",
              "  </tbody>\n",
              "</table>\n",
              "<p>4 rows × 21 columns</p>\n",
              "</div>\n",
              "      <button class=\"colab-df-convert\" onclick=\"convertToInteractive('df-726f5d30-07c7-4d3e-877e-8a1fd31c36dc')\"\n",
              "              title=\"Convert this dataframe to an interactive table.\"\n",
              "              style=\"display:none;\">\n",
              "\n",
              "  <svg xmlns=\"http://www.w3.org/2000/svg\" height=\"24px\"viewBox=\"0 0 24 24\"\n",
              "       width=\"24px\">\n",
              "    <path d=\"M0 0h24v24H0V0z\" fill=\"none\"/>\n",
              "    <path d=\"M18.56 5.44l.94 2.06.94-2.06 2.06-.94-2.06-.94-.94-2.06-.94 2.06-2.06.94zm-11 1L8.5 8.5l.94-2.06 2.06-.94-2.06-.94L8.5 2.5l-.94 2.06-2.06.94zm10 10l.94 2.06.94-2.06 2.06-.94-2.06-.94-.94-2.06-.94 2.06-2.06.94z\"/><path d=\"M17.41 7.96l-1.37-1.37c-.4-.4-.92-.59-1.43-.59-.52 0-1.04.2-1.43.59L10.3 9.45l-7.72 7.72c-.78.78-.78 2.05 0 2.83L4 21.41c.39.39.9.59 1.41.59.51 0 1.02-.2 1.41-.59l7.78-7.78 2.81-2.81c.8-.78.8-2.07 0-2.86zM5.41 20L4 18.59l7.72-7.72 1.47 1.35L5.41 20z\"/>\n",
              "  </svg>\n",
              "      </button>\n",
              "\n",
              "\n",
              "\n",
              "    <div id=\"df-19f662c3-8a79-4d51-a894-179a0320f60f\">\n",
              "      <button class=\"colab-df-quickchart\" onclick=\"quickchart('df-19f662c3-8a79-4d51-a894-179a0320f60f')\"\n",
              "              title=\"Suggest charts.\"\n",
              "              style=\"display:none;\">\n",
              "\n",
              "<svg xmlns=\"http://www.w3.org/2000/svg\" height=\"24px\"viewBox=\"0 0 24 24\"\n",
              "     width=\"24px\">\n",
              "    <g>\n",
              "        <path d=\"M19 3H5c-1.1 0-2 .9-2 2v14c0 1.1.9 2 2 2h14c1.1 0 2-.9 2-2V5c0-1.1-.9-2-2-2zM9 17H7v-7h2v7zm4 0h-2V7h2v10zm4 0h-2v-4h2v4z\"/>\n",
              "    </g>\n",
              "</svg>\n",
              "      </button>\n",
              "    </div>\n",
              "\n",
              "<style>\n",
              "  .colab-df-quickchart {\n",
              "    background-color: #E8F0FE;\n",
              "    border: none;\n",
              "    border-radius: 50%;\n",
              "    cursor: pointer;\n",
              "    display: none;\n",
              "    fill: #1967D2;\n",
              "    height: 32px;\n",
              "    padding: 0 0 0 0;\n",
              "    width: 32px;\n",
              "  }\n",
              "\n",
              "  .colab-df-quickchart:hover {\n",
              "    background-color: #E2EBFA;\n",
              "    box-shadow: 0px 1px 2px rgba(60, 64, 67, 0.3), 0px 1px 3px 1px rgba(60, 64, 67, 0.15);\n",
              "    fill: #174EA6;\n",
              "  }\n",
              "\n",
              "  [theme=dark] .colab-df-quickchart {\n",
              "    background-color: #3B4455;\n",
              "    fill: #D2E3FC;\n",
              "  }\n",
              "\n",
              "  [theme=dark] .colab-df-quickchart:hover {\n",
              "    background-color: #434B5C;\n",
              "    box-shadow: 0px 1px 3px 1px rgba(0, 0, 0, 0.15);\n",
              "    filter: drop-shadow(0px 1px 2px rgba(0, 0, 0, 0.3));\n",
              "    fill: #FFFFFF;\n",
              "  }\n",
              "</style>\n",
              "\n",
              "    <script>\n",
              "      async function quickchart(key) {\n",
              "        const containerElement = document.querySelector('#' + key);\n",
              "        const charts = await google.colab.kernel.invokeFunction(\n",
              "            'suggestCharts', [key], {});\n",
              "      }\n",
              "    </script>\n",
              "\n",
              "      <script>\n",
              "\n",
              "function displayQuickchartButton(domScope) {\n",
              "  let quickchartButtonEl =\n",
              "    domScope.querySelector('#df-19f662c3-8a79-4d51-a894-179a0320f60f button.colab-df-quickchart');\n",
              "  quickchartButtonEl.style.display =\n",
              "    google.colab.kernel.accessAllowed ? 'block' : 'none';\n",
              "}\n",
              "\n",
              "        displayQuickchartButton(document);\n",
              "      </script>\n",
              "      <style>\n",
              "    .colab-df-container {\n",
              "      display:flex;\n",
              "      flex-wrap:wrap;\n",
              "      gap: 12px;\n",
              "    }\n",
              "\n",
              "    .colab-df-convert {\n",
              "      background-color: #E8F0FE;\n",
              "      border: none;\n",
              "      border-radius: 50%;\n",
              "      cursor: pointer;\n",
              "      display: none;\n",
              "      fill: #1967D2;\n",
              "      height: 32px;\n",
              "      padding: 0 0 0 0;\n",
              "      width: 32px;\n",
              "    }\n",
              "\n",
              "    .colab-df-convert:hover {\n",
              "      background-color: #E2EBFA;\n",
              "      box-shadow: 0px 1px 2px rgba(60, 64, 67, 0.3), 0px 1px 3px 1px rgba(60, 64, 67, 0.15);\n",
              "      fill: #174EA6;\n",
              "    }\n",
              "\n",
              "    [theme=dark] .colab-df-convert {\n",
              "      background-color: #3B4455;\n",
              "      fill: #D2E3FC;\n",
              "    }\n",
              "\n",
              "    [theme=dark] .colab-df-convert:hover {\n",
              "      background-color: #434B5C;\n",
              "      box-shadow: 0px 1px 3px 1px rgba(0, 0, 0, 0.15);\n",
              "      filter: drop-shadow(0px 1px 2px rgba(0, 0, 0, 0.3));\n",
              "      fill: #FFFFFF;\n",
              "    }\n",
              "  </style>\n",
              "\n",
              "      <script>\n",
              "        const buttonEl =\n",
              "          document.querySelector('#df-726f5d30-07c7-4d3e-877e-8a1fd31c36dc button.colab-df-convert');\n",
              "        buttonEl.style.display =\n",
              "          google.colab.kernel.accessAllowed ? 'block' : 'none';\n",
              "\n",
              "        async function convertToInteractive(key) {\n",
              "          const element = document.querySelector('#df-726f5d30-07c7-4d3e-877e-8a1fd31c36dc');\n",
              "          const dataTable =\n",
              "            await google.colab.kernel.invokeFunction('convertToInteractive',\n",
              "                                                     [key], {});\n",
              "          if (!dataTable) return;\n",
              "\n",
              "          const docLinkHtml = 'Like what you see? Visit the ' +\n",
              "            '<a target=\"_blank\" href=https://colab.research.google.com/notebooks/data_table.ipynb>data table notebook</a>'\n",
              "            + ' to learn more about interactive tables.';\n",
              "          element.innerHTML = '';\n",
              "          dataTable['output_type'] = 'display_data';\n",
              "          await google.colab.output.renderOutput(dataTable, element);\n",
              "          const docLink = document.createElement('div');\n",
              "          docLink.innerHTML = docLinkHtml;\n",
              "          element.appendChild(docLink);\n",
              "        }\n",
              "      </script>\n",
              "    </div>\n",
              "  </div>\n"
            ]
          },
          "metadata": {},
          "execution_count": 198
        }
      ]
    },
    {
      "cell_type": "markdown",
      "source": [
        "- 라스파이레스식"
      ],
      "metadata": {
        "id": "7i4sY1gJcINT"
      }
    },
    {
      "cell_type": "code",
      "source": [
        "TC1 = ((RD0@(np.eye(3)-M0))@GDC2).reshape([3,1])  # 소비규모증가효과\n",
        "TC11 = ((RD0@(np.eye(3)-M0))@GDC3).reshape([3,1]) # 소비구조증가효과\n",
        "TCTD = TC1 + TC11\n",
        "TC111 = np.concatenate((TCTD, TC1, TC11), axis=1)\n",
        "# TC111"
      ],
      "metadata": {
        "id": "auUgn5-RcMWR"
      },
      "execution_count": 199,
      "outputs": []
    },
    {
      "cell_type": "code",
      "source": [
        "TI1 = ((RD0@(np.eye(3)-M0))@GDI2).reshape([3,1])  # 소비규모증가효과\n",
        "TI11 = ((RD0@(np.eye(3)-M0))@GDI3).reshape([3,1]) # 소비구조증가효과\n",
        "TITD = TI1 + TI11\n",
        "TI111 = np.concatenate((TITD, TI1, TI11), axis=1)"
      ],
      "metadata": {
        "id": "1ewco-BJcMdU"
      },
      "execution_count": 200,
      "outputs": []
    },
    {
      "cell_type": "code",
      "source": [
        "TQ = TC1+TI1 # 국내최종수요규모증가효과\n",
        "TS = TC11+TI11 # 국내최종수요규조변화효과\n",
        "TQS = TQ+TS\n",
        "T1 = np.concatenate((TQS, TQ, TS), axis=1)\n",
        "T1.shape"
      ],
      "metadata": {
        "id": "qTVE4MAucMfx",
        "outputId": "9025fa24-9fa7-44f3-a880-249b4df34226",
        "colab": {
          "base_uri": "https://localhost:8080/"
        }
      },
      "execution_count": 201,
      "outputs": [
        {
          "output_type": "execute_result",
          "data": {
            "text/plain": [
              "(3, 3)"
            ]
          },
          "metadata": {},
          "execution_count": 201
        }
      ]
    },
    {
      "cell_type": "code",
      "source": [
        "T2 = (RD0@ED2).reshape([3,1]) # 수출규모증가효과\n",
        "T22 = (RD0@ED3) .reshape([3,1])# 수출구조변화효과\n",
        "TTE = T2+T22\n",
        "T2 = np.concatenate((TTE, T2, T22), axis=1)"
      ],
      "metadata": {
        "id": "xyDlPnJhcMiH"
      },
      "execution_count": 202,
      "outputs": []
    },
    {
      "cell_type": "code",
      "source": [
        "T3 = ((RD0@(M1 - M0))@DF1).reshape([3,1]) # 최종재수입대체효과\n",
        "T3 = T3*-1\n",
        "T4 = ((RD0@(II1 - AM0)))@C1[0:3,] # 중간재수입대체효과\n",
        "T4 = T4*-1\n",
        "T34 = T3 + T4\n",
        "TI = np.concatenate((T34, T3, T4), axis=1)\n",
        "TI"
      ],
      "metadata": {
        "id": "sR9v8MxJcMkd",
        "outputId": "63831258-54c3-424e-ab51-a30337863b44",
        "colab": {
          "base_uri": "https://localhost:8080/"
        }
      },
      "execution_count": 203,
      "outputs": [
        {
          "output_type": "execute_result",
          "data": {
            "text/plain": [
              "array([[ -3052300.402,  -1343348.115,  -1708952.286],\n",
              "       [-51759853.002, -21982022.725, -29777830.277],\n",
              "       [-24702163.762, -14486876.999, -10215286.763]])"
            ]
          },
          "metadata": {},
          "execution_count": 203
        }
      ]
    },
    {
      "cell_type": "code",
      "source": [
        "T5 = (RD0@(AA-(AM0-II0)))@C1 # 기술변화효과\n",
        "T5.shape\n",
        "T5"
      ],
      "metadata": {
        "id": "Cwb2JGDGcMmw",
        "outputId": "a6923772-038e-49a1-8158-04a907e5a1c2",
        "colab": {
          "base_uri": "https://localhost:8080/"
        }
      },
      "execution_count": 204,
      "outputs": [
        {
          "output_type": "execute_result",
          "data": {
            "text/plain": [
              "array([[-3181775.34 ],\n",
              "       [ 7977605.378],\n",
              "       [35497375.094]])"
            ]
          },
          "metadata": {},
          "execution_count": 204
        }
      ]
    },
    {
      "cell_type": "code",
      "source": [
        "DCT0 = C1-C0  #산출액 실질변동액\n",
        "DCT1 = TCTD + TITD + TTE +T3 + T4 + T5 # 총변동요인\n",
        "DCT = DCT0-DCT1"
      ],
      "metadata": {
        "id": "w3eLJslXcMpA"
      },
      "execution_count": 205,
      "outputs": []
    },
    {
      "cell_type": "code",
      "source": [
        "SUM = np.concatenate((C0, C1, DCT0, DCT1, DCT, T1, TC111, TI111, T2, TI, T5), axis=1)\n",
        "SUM.shape\n",
        "SUM1 = np.sum(SUM, axis=0).reshape([1,21])\n",
        "LGD1015 = (np.concatenate((SUM, SUM1), axis=0))\n",
        "LGD1015_f = (LGD1015/1000).round(1)\n",
        "LGD1015_f\n",
        "SUM/1000"
      ],
      "metadata": {
        "id": "6VxXq09PcMrM",
        "outputId": "663bfb94-fe1b-49bb-e19c-428df49ef7a8",
        "colab": {
          "base_uri": "https://localhost:8080/"
        }
      },
      "execution_count": 206,
      "outputs": [
        {
          "output_type": "execute_result",
          "data": {
            "text/plain": [
              "array([[  59105.417,   61371.723,    2266.306,    2266.306,       0.   ,\n",
              "           2516.884,    5152.599,   -2635.715,    2923.493,    4257.258,\n",
              "          -1333.764,    -406.609,     895.342,   -1301.951,    5983.497,\n",
              "           6438.298,    -454.801,   -3052.3  ,   -1343.348,   -1708.952,\n",
              "          -3181.775],\n",
              "       [1430838.343, 1711153.666,  280315.323,  280315.313,       0.01 ,\n",
              "          63521.32 ,   80430.323,  -16909.003,   51723.274,   58901.857,\n",
              "          -7178.583,   11798.046,   21528.466,   -9730.42 ,  260576.24 ,\n",
              "         260690.738,    -114.497,  -51759.853,  -21982.023,  -29777.83 ,\n",
              "           7977.605],\n",
              "       [1746897.559, 2057212.517,  310314.958,  310314.955,       0.003,\n",
              "         212676.057,  188095.877,   24580.181,  159602.198,  148961.491,\n",
              "          10640.707,   53073.859,   39134.385,   13939.474,   86843.686,\n",
              "          86344.443,     499.243,  -24702.164,  -14486.877,  -10215.287,\n",
              "          35497.375]])"
            ]
          },
          "metadata": {},
          "execution_count": 206
        }
      ]
    },
    {
      "cell_type": "code",
      "source": [
        "LGD1015_ff = pd.DataFrame(LGD1015_f,columns = ['10년산출액', '15년산출액', '15-10산출액(A)', '요인별합계(B)', 'B-A', '국내최종수요증감액', '국내최종수요(규모증가)', '국내최종수요(구조변화)',\n",
        "                                                     '소비', '소비(규모)','소비(구조)','투자', '투자(규모)','투자(구조)', '수출', '수출(규모)','수출(구조)', '수입', '최종재수입','중간재수입', '기술변화'],\n",
        "\n",
        "                         index=['농산품', '공산품', '서비스', '계'])  # pandas로 내보내기"
      ],
      "metadata": {
        "id": "fk4vQUuGe3oC"
      },
      "execution_count": 207,
      "outputs": []
    },
    {
      "cell_type": "code",
      "source": [
        "LGD1015_ff"
      ],
      "metadata": {
        "id": "ttL9PS3Ae9SU",
        "outputId": "33393658-af05-4833-a554-80b01447ee25",
        "colab": {
          "base_uri": "https://localhost:8080/",
          "height": 424
        }
      },
      "execution_count": 208,
      "outputs": [
        {
          "output_type": "execute_result",
          "data": {
            "text/plain": [
              "        10년산출액     15년산출액  15-10산출액(A)  요인별합계(B)  B-A  국내최종수요증감액  \\\n",
              "농산품    59105.4    61371.7       2266.3    2266.3  0.0     2516.9   \n",
              "공산품  1430838.3  1711153.7     280315.3  280315.3  0.0    63521.3   \n",
              "서비스  1746897.6  2057212.5     310315.0  310315.0  0.0   212676.1   \n",
              "계    3236841.3  3829737.9     592896.6  592896.6  0.0   278714.3   \n",
              "\n",
              "     국내최종수요(규모증가)  국내최종수요(구조변화)        소비    소비(규모)  ...       투자   투자(규모)  \\\n",
              "농산품        5152.6       -2635.7    2923.5    4257.3  ...   -406.6    895.3   \n",
              "공산품       80430.3      -16909.0   51723.3   58901.9  ...  11798.0  21528.5   \n",
              "서비스      188095.9       24580.2  159602.2  148961.5  ...  53073.9  39134.4   \n",
              "계        273678.8        5035.5  214249.0  212120.6  ...  64465.3  61558.2   \n",
              "\n",
              "      투자(구조)        수출    수출(규모)  수출(구조)       수입    최종재수입    중간재수입     기술변화  \n",
              "농산품  -1302.0    5983.5    6438.3  -454.8  -3052.3  -1343.3  -1709.0  -3181.8  \n",
              "공산품  -9730.4  260576.2  260690.7  -114.5 -51759.9 -21982.0 -29777.8   7977.6  \n",
              "서비스  13939.5   86843.7   86344.4   499.2 -24702.2 -14486.9 -10215.3  35497.4  \n",
              "계     2907.1  353403.4  353473.5   -70.1 -79514.3 -37812.2 -41702.1  40293.2  \n",
              "\n",
              "[4 rows x 21 columns]"
            ],
            "text/html": [
              "\n",
              "\n",
              "  <div id=\"df-27db086f-6f43-4269-813d-3fae3a651100\">\n",
              "    <div class=\"colab-df-container\">\n",
              "      <div>\n",
              "<style scoped>\n",
              "    .dataframe tbody tr th:only-of-type {\n",
              "        vertical-align: middle;\n",
              "    }\n",
              "\n",
              "    .dataframe tbody tr th {\n",
              "        vertical-align: top;\n",
              "    }\n",
              "\n",
              "    .dataframe thead th {\n",
              "        text-align: right;\n",
              "    }\n",
              "</style>\n",
              "<table border=\"1\" class=\"dataframe\">\n",
              "  <thead>\n",
              "    <tr style=\"text-align: right;\">\n",
              "      <th></th>\n",
              "      <th>10년산출액</th>\n",
              "      <th>15년산출액</th>\n",
              "      <th>15-10산출액(A)</th>\n",
              "      <th>요인별합계(B)</th>\n",
              "      <th>B-A</th>\n",
              "      <th>국내최종수요증감액</th>\n",
              "      <th>국내최종수요(규모증가)</th>\n",
              "      <th>국내최종수요(구조변화)</th>\n",
              "      <th>소비</th>\n",
              "      <th>소비(규모)</th>\n",
              "      <th>...</th>\n",
              "      <th>투자</th>\n",
              "      <th>투자(규모)</th>\n",
              "      <th>투자(구조)</th>\n",
              "      <th>수출</th>\n",
              "      <th>수출(규모)</th>\n",
              "      <th>수출(구조)</th>\n",
              "      <th>수입</th>\n",
              "      <th>최종재수입</th>\n",
              "      <th>중간재수입</th>\n",
              "      <th>기술변화</th>\n",
              "    </tr>\n",
              "  </thead>\n",
              "  <tbody>\n",
              "    <tr>\n",
              "      <th>농산품</th>\n",
              "      <td>59105.4</td>\n",
              "      <td>61371.7</td>\n",
              "      <td>2266.3</td>\n",
              "      <td>2266.3</td>\n",
              "      <td>0.0</td>\n",
              "      <td>2516.9</td>\n",
              "      <td>5152.6</td>\n",
              "      <td>-2635.7</td>\n",
              "      <td>2923.5</td>\n",
              "      <td>4257.3</td>\n",
              "      <td>...</td>\n",
              "      <td>-406.6</td>\n",
              "      <td>895.3</td>\n",
              "      <td>-1302.0</td>\n",
              "      <td>5983.5</td>\n",
              "      <td>6438.3</td>\n",
              "      <td>-454.8</td>\n",
              "      <td>-3052.3</td>\n",
              "      <td>-1343.3</td>\n",
              "      <td>-1709.0</td>\n",
              "      <td>-3181.8</td>\n",
              "    </tr>\n",
              "    <tr>\n",
              "      <th>공산품</th>\n",
              "      <td>1430838.3</td>\n",
              "      <td>1711153.7</td>\n",
              "      <td>280315.3</td>\n",
              "      <td>280315.3</td>\n",
              "      <td>0.0</td>\n",
              "      <td>63521.3</td>\n",
              "      <td>80430.3</td>\n",
              "      <td>-16909.0</td>\n",
              "      <td>51723.3</td>\n",
              "      <td>58901.9</td>\n",
              "      <td>...</td>\n",
              "      <td>11798.0</td>\n",
              "      <td>21528.5</td>\n",
              "      <td>-9730.4</td>\n",
              "      <td>260576.2</td>\n",
              "      <td>260690.7</td>\n",
              "      <td>-114.5</td>\n",
              "      <td>-51759.9</td>\n",
              "      <td>-21982.0</td>\n",
              "      <td>-29777.8</td>\n",
              "      <td>7977.6</td>\n",
              "    </tr>\n",
              "    <tr>\n",
              "      <th>서비스</th>\n",
              "      <td>1746897.6</td>\n",
              "      <td>2057212.5</td>\n",
              "      <td>310315.0</td>\n",
              "      <td>310315.0</td>\n",
              "      <td>0.0</td>\n",
              "      <td>212676.1</td>\n",
              "      <td>188095.9</td>\n",
              "      <td>24580.2</td>\n",
              "      <td>159602.2</td>\n",
              "      <td>148961.5</td>\n",
              "      <td>...</td>\n",
              "      <td>53073.9</td>\n",
              "      <td>39134.4</td>\n",
              "      <td>13939.5</td>\n",
              "      <td>86843.7</td>\n",
              "      <td>86344.4</td>\n",
              "      <td>499.2</td>\n",
              "      <td>-24702.2</td>\n",
              "      <td>-14486.9</td>\n",
              "      <td>-10215.3</td>\n",
              "      <td>35497.4</td>\n",
              "    </tr>\n",
              "    <tr>\n",
              "      <th>계</th>\n",
              "      <td>3236841.3</td>\n",
              "      <td>3829737.9</td>\n",
              "      <td>592896.6</td>\n",
              "      <td>592896.6</td>\n",
              "      <td>0.0</td>\n",
              "      <td>278714.3</td>\n",
              "      <td>273678.8</td>\n",
              "      <td>5035.5</td>\n",
              "      <td>214249.0</td>\n",
              "      <td>212120.6</td>\n",
              "      <td>...</td>\n",
              "      <td>64465.3</td>\n",
              "      <td>61558.2</td>\n",
              "      <td>2907.1</td>\n",
              "      <td>353403.4</td>\n",
              "      <td>353473.5</td>\n",
              "      <td>-70.1</td>\n",
              "      <td>-79514.3</td>\n",
              "      <td>-37812.2</td>\n",
              "      <td>-41702.1</td>\n",
              "      <td>40293.2</td>\n",
              "    </tr>\n",
              "  </tbody>\n",
              "</table>\n",
              "<p>4 rows × 21 columns</p>\n",
              "</div>\n",
              "      <button class=\"colab-df-convert\" onclick=\"convertToInteractive('df-27db086f-6f43-4269-813d-3fae3a651100')\"\n",
              "              title=\"Convert this dataframe to an interactive table.\"\n",
              "              style=\"display:none;\">\n",
              "\n",
              "  <svg xmlns=\"http://www.w3.org/2000/svg\" height=\"24px\"viewBox=\"0 0 24 24\"\n",
              "       width=\"24px\">\n",
              "    <path d=\"M0 0h24v24H0V0z\" fill=\"none\"/>\n",
              "    <path d=\"M18.56 5.44l.94 2.06.94-2.06 2.06-.94-2.06-.94-.94-2.06-.94 2.06-2.06.94zm-11 1L8.5 8.5l.94-2.06 2.06-.94-2.06-.94L8.5 2.5l-.94 2.06-2.06.94zm10 10l.94 2.06.94-2.06 2.06-.94-2.06-.94-.94-2.06-.94 2.06-2.06.94z\"/><path d=\"M17.41 7.96l-1.37-1.37c-.4-.4-.92-.59-1.43-.59-.52 0-1.04.2-1.43.59L10.3 9.45l-7.72 7.72c-.78.78-.78 2.05 0 2.83L4 21.41c.39.39.9.59 1.41.59.51 0 1.02-.2 1.41-.59l7.78-7.78 2.81-2.81c.8-.78.8-2.07 0-2.86zM5.41 20L4 18.59l7.72-7.72 1.47 1.35L5.41 20z\"/>\n",
              "  </svg>\n",
              "      </button>\n",
              "\n",
              "\n",
              "\n",
              "    <div id=\"df-cb345e55-63e2-46d4-83f4-b5e56d822bd3\">\n",
              "      <button class=\"colab-df-quickchart\" onclick=\"quickchart('df-cb345e55-63e2-46d4-83f4-b5e56d822bd3')\"\n",
              "              title=\"Suggest charts.\"\n",
              "              style=\"display:none;\">\n",
              "\n",
              "<svg xmlns=\"http://www.w3.org/2000/svg\" height=\"24px\"viewBox=\"0 0 24 24\"\n",
              "     width=\"24px\">\n",
              "    <g>\n",
              "        <path d=\"M19 3H5c-1.1 0-2 .9-2 2v14c0 1.1.9 2 2 2h14c1.1 0 2-.9 2-2V5c0-1.1-.9-2-2-2zM9 17H7v-7h2v7zm4 0h-2V7h2v10zm4 0h-2v-4h2v4z\"/>\n",
              "    </g>\n",
              "</svg>\n",
              "      </button>\n",
              "    </div>\n",
              "\n",
              "<style>\n",
              "  .colab-df-quickchart {\n",
              "    background-color: #E8F0FE;\n",
              "    border: none;\n",
              "    border-radius: 50%;\n",
              "    cursor: pointer;\n",
              "    display: none;\n",
              "    fill: #1967D2;\n",
              "    height: 32px;\n",
              "    padding: 0 0 0 0;\n",
              "    width: 32px;\n",
              "  }\n",
              "\n",
              "  .colab-df-quickchart:hover {\n",
              "    background-color: #E2EBFA;\n",
              "    box-shadow: 0px 1px 2px rgba(60, 64, 67, 0.3), 0px 1px 3px 1px rgba(60, 64, 67, 0.15);\n",
              "    fill: #174EA6;\n",
              "  }\n",
              "\n",
              "  [theme=dark] .colab-df-quickchart {\n",
              "    background-color: #3B4455;\n",
              "    fill: #D2E3FC;\n",
              "  }\n",
              "\n",
              "  [theme=dark] .colab-df-quickchart:hover {\n",
              "    background-color: #434B5C;\n",
              "    box-shadow: 0px 1px 3px 1px rgba(0, 0, 0, 0.15);\n",
              "    filter: drop-shadow(0px 1px 2px rgba(0, 0, 0, 0.3));\n",
              "    fill: #FFFFFF;\n",
              "  }\n",
              "</style>\n",
              "\n",
              "    <script>\n",
              "      async function quickchart(key) {\n",
              "        const containerElement = document.querySelector('#' + key);\n",
              "        const charts = await google.colab.kernel.invokeFunction(\n",
              "            'suggestCharts', [key], {});\n",
              "      }\n",
              "    </script>\n",
              "\n",
              "      <script>\n",
              "\n",
              "function displayQuickchartButton(domScope) {\n",
              "  let quickchartButtonEl =\n",
              "    domScope.querySelector('#df-cb345e55-63e2-46d4-83f4-b5e56d822bd3 button.colab-df-quickchart');\n",
              "  quickchartButtonEl.style.display =\n",
              "    google.colab.kernel.accessAllowed ? 'block' : 'none';\n",
              "}\n",
              "\n",
              "        displayQuickchartButton(document);\n",
              "      </script>\n",
              "      <style>\n",
              "    .colab-df-container {\n",
              "      display:flex;\n",
              "      flex-wrap:wrap;\n",
              "      gap: 12px;\n",
              "    }\n",
              "\n",
              "    .colab-df-convert {\n",
              "      background-color: #E8F0FE;\n",
              "      border: none;\n",
              "      border-radius: 50%;\n",
              "      cursor: pointer;\n",
              "      display: none;\n",
              "      fill: #1967D2;\n",
              "      height: 32px;\n",
              "      padding: 0 0 0 0;\n",
              "      width: 32px;\n",
              "    }\n",
              "\n",
              "    .colab-df-convert:hover {\n",
              "      background-color: #E2EBFA;\n",
              "      box-shadow: 0px 1px 2px rgba(60, 64, 67, 0.3), 0px 1px 3px 1px rgba(60, 64, 67, 0.15);\n",
              "      fill: #174EA6;\n",
              "    }\n",
              "\n",
              "    [theme=dark] .colab-df-convert {\n",
              "      background-color: #3B4455;\n",
              "      fill: #D2E3FC;\n",
              "    }\n",
              "\n",
              "    [theme=dark] .colab-df-convert:hover {\n",
              "      background-color: #434B5C;\n",
              "      box-shadow: 0px 1px 3px 1px rgba(0, 0, 0, 0.15);\n",
              "      filter: drop-shadow(0px 1px 2px rgba(0, 0, 0, 0.3));\n",
              "      fill: #FFFFFF;\n",
              "    }\n",
              "  </style>\n",
              "\n",
              "      <script>\n",
              "        const buttonEl =\n",
              "          document.querySelector('#df-27db086f-6f43-4269-813d-3fae3a651100 button.colab-df-convert');\n",
              "        buttonEl.style.display =\n",
              "          google.colab.kernel.accessAllowed ? 'block' : 'none';\n",
              "\n",
              "        async function convertToInteractive(key) {\n",
              "          const element = document.querySelector('#df-27db086f-6f43-4269-813d-3fae3a651100');\n",
              "          const dataTable =\n",
              "            await google.colab.kernel.invokeFunction('convertToInteractive',\n",
              "                                                     [key], {});\n",
              "          if (!dataTable) return;\n",
              "\n",
              "          const docLinkHtml = 'Like what you see? Visit the ' +\n",
              "            '<a target=\"_blank\" href=https://colab.research.google.com/notebooks/data_table.ipynb>data table notebook</a>'\n",
              "            + ' to learn more about interactive tables.';\n",
              "          element.innerHTML = '';\n",
              "          dataTable['output_type'] = 'display_data';\n",
              "          await google.colab.output.renderOutput(dataTable, element);\n",
              "          const docLink = document.createElement('div');\n",
              "          docLink.innerHTML = docLinkHtml;\n",
              "          element.appendChild(docLink);\n",
              "        }\n",
              "      </script>\n",
              "    </div>\n",
              "  </div>\n"
            ]
          },
          "metadata": {},
          "execution_count": 208
        }
      ]
    },
    {
      "cell_type": "markdown",
      "source": [
        "- 산술평균"
      ],
      "metadata": {
        "id": "krXW__Twef-K"
      }
    },
    {
      "cell_type": "code",
      "source": [
        "FGD1015 = (PGD1015+LGD1015)/2"
      ],
      "metadata": {
        "id": "_1H4MicOcMtY"
      },
      "execution_count": 209,
      "outputs": []
    },
    {
      "cell_type": "code",
      "source": [
        "FGD1015_ff = pd.DataFrame(FGD1015,columns = ['10년산출액', '15년산출액', '15-10산출액(A)', '요인별합계(B)', 'B-A', '국내최종수요증감액', '국내최종수요(규모증가)', '국내최종수요(구조변화)',\n",
        "                                                     '소비', '소비(규모)','소비(구조)','투자', '투자(규모)','투자(구조)', '수출', '수출(규모)','수출(구조)', '수입', '최종재수입','중간재수입', '기술변화'],\n",
        "\n",
        "                         index=['농산품', '공산품', '서비스', '계'])  # pandas로 내보내기"
      ],
      "metadata": {
        "id": "ldUpZ3A-cMvf"
      },
      "execution_count": 210,
      "outputs": []
    },
    {
      "cell_type": "code",
      "source": [],
      "metadata": {
        "id": "l1U77YH6cMx0"
      },
      "execution_count": 210,
      "outputs": []
    },
    {
      "cell_type": "code",
      "source": [
        "PGD1015_ff.to_csv('산출액변동요인_파쉐.csv', encoding=\"utf-8-sig\")\n",
        "LGD1015_ff.to_csv('산출액변동요인_라스파이레스.csv', encoding=\"utf-8-sig\")\n",
        "FGD1015_ff.to_csv('산출액변동요인_평균.csv', encoding=\"utf-8-sig\")"
      ],
      "metadata": {
        "id": "h7CkNaE15PIg"
      },
      "execution_count": 211,
      "outputs": []
    },
    {
      "cell_type": "code",
      "source": [
        "Ctbr =  FGD1015[:,5:]\n",
        "Ctbr.shape"
      ],
      "metadata": {
        "id": "3O6_BXxbcwuW",
        "outputId": "b443cde5-2a5b-4a4c-ba4e-5903d34a0c67",
        "colab": {
          "base_uri": "https://localhost:8080/"
        }
      },
      "execution_count": 212,
      "outputs": [
        {
          "output_type": "execute_result",
          "data": {
            "text/plain": [
              "(4, 16)"
            ]
          },
          "metadata": {},
          "execution_count": 212
        }
      ]
    },
    {
      "cell_type": "code",
      "source": [
        "sm_gap = FGD1015[:,3].reshape([4,1])  # 요인별 합계\n",
        "sm_gap.shape"
      ],
      "metadata": {
        "id": "Ib0VzKGcFjOo",
        "outputId": "07a84de7-779c-4e82-ca99-7f9f36eb85ad",
        "colab": {
          "base_uri": "https://localhost:8080/"
        }
      },
      "execution_count": 213,
      "outputs": [
        {
          "output_type": "execute_result",
          "data": {
            "text/plain": [
              "(4, 1)"
            ]
          },
          "metadata": {},
          "execution_count": 213
        }
      ]
    },
    {
      "cell_type": "code",
      "source": [
        "sm_gap1 = np.tile(sm_gap, reps=[1,16]) # 요인별 합계를 33x16으로 반복\n",
        "sm_gap1.shape"
      ],
      "metadata": {
        "id": "Ojzes5k4GZl_",
        "outputId": "756f54ff-f99c-4990-cb42-d02c4455cef8",
        "colab": {
          "base_uri": "https://localhost:8080/"
        }
      },
      "execution_count": 214,
      "outputs": [
        {
          "output_type": "execute_result",
          "data": {
            "text/plain": [
              "(4, 16)"
            ]
          },
          "metadata": {},
          "execution_count": 214
        }
      ]
    },
    {
      "cell_type": "code",
      "source": [
        "Ctrb = (Ctbr/sm_gap1)*100  # 각 항목별 기여율\n",
        "Ctrb_f = Ctrb.round(1)"
      ],
      "metadata": {
        "id": "-gooAQnRFjRg"
      },
      "execution_count": 215,
      "outputs": []
    },
    {
      "cell_type": "code",
      "source": [
        "Ctrb_ff = pd.DataFrame(Ctrb_f,columns = ['국내최종수요증감액', '국내최종수요(규모증가)', '국내최종수요(구조변화)','소비', '소비(규모)','소비(구조)','투자', '투자(규모)','투자(구조)',\n",
        "                                         '수출', '수출(규모)','수출(구조)', '수입', '최종재수입','중간재수입', '기술변화'],\n",
        "\n",
        "                         index=['농산품', '공산품', '서비스', '계'])  # pandas로 내보내기"
      ],
      "metadata": {
        "id": "ZiMJL68VDYdk"
      },
      "execution_count": 216,
      "outputs": []
    },
    {
      "cell_type": "code",
      "source": [
        "Ctrb_ff.to_csv('항목별 기여율.csv', encoding=\"utf-8-sig\")"
      ],
      "metadata": {
        "id": "tLccCmzVC3Hx"
      },
      "execution_count": 217,
      "outputs": []
    },
    {
      "cell_type": "code",
      "source": [
        "YR = (((PGD1015[:,1]/PGD1015[:,0])**(1/5)-1)*100).reshape([4,1])\n",
        "YR"
      ],
      "metadata": {
        "id": "Py69_yTbDX6p",
        "outputId": "89b837de-461d-4d58-9f80-ba6c8b2c9a76",
        "colab": {
          "base_uri": "https://localhost:8080/"
        }
      },
      "execution_count": 218,
      "outputs": [
        {
          "output_type": "execute_result",
          "data": {
            "text/plain": [
              "array([[0.755],\n",
              "       [3.643],\n",
              "       [3.324],\n",
              "       [3.421]])"
            ]
          },
          "metadata": {},
          "execution_count": 218
        }
      ]
    },
    {
      "cell_type": "code",
      "source": [
        "Ctrb_amt = (Ctrb*YR/100)\n",
        "Ctrb_amt_f = Ctrb_amt.round(3)\n",
        "Ctrb_amt_f"
      ],
      "metadata": {
        "id": "kfNA_NIVKjgt",
        "outputId": "2fd27a04-1edd-49d0-bcca-375363be60c4",
        "colab": {
          "base_uri": "https://localhost:8080/"
        }
      },
      "execution_count": 219,
      "outputs": [
        {
          "output_type": "execute_result",
          "data": {
            "text/plain": [
              "array([[ 0.818,  1.655, -0.837,  0.945,  1.37 , -0.424, -0.127,  0.285,\n",
              "        -0.412,  1.864,  2.014, -0.15 , -0.954, -0.429, -0.526, -0.973],\n",
              "       [ 0.814,  1.024, -0.21 ,  0.661,  0.751, -0.089,  0.152,  0.273,\n",
              "        -0.121,  3.363,  3.364, -0.001, -0.629, -0.275, -0.354,  0.095],\n",
              "       [ 2.288,  2.022,  0.266,  1.717,  1.601,  0.115,  0.571,  0.42 ,\n",
              "         0.151,  0.93 ,  0.925,  0.005, -0.248, -0.148, -0.101,  0.355],\n",
              "       [ 1.608,  1.572,  0.036,  1.235,  1.22 ,  0.015,  0.373,  0.353,\n",
              "         0.021,  2.026,  2.027, -0.   , -0.43 , -0.209, -0.22 ,  0.217]])"
            ]
          },
          "metadata": {},
          "execution_count": 219
        }
      ]
    },
    {
      "cell_type": "code",
      "source": [
        "Ctrb_amt_ff = pd.DataFrame(Ctrb_amt_f,columns = ['국내최종수요증감액', '국내최종수요(규모증가)', '국내최종수요(구조변화)','소비', '소비(규모)','소비(구조)','투자', '투자(규모)','투자(구조)',\n",
        "                                         '수출', '수출(규모)','수출(구조)', '수입', '최종재수입','중간재수입', '기술변화'],\n",
        "\n",
        "                         index=['농산품', '공산품', '서비스', '계'])  # pandas로 내보내기"
      ],
      "metadata": {
        "id": "SkF8oJDrCXTt"
      },
      "execution_count": 220,
      "outputs": []
    },
    {
      "cell_type": "code",
      "source": [
        "Ctrb_amt_ff.to_csv('항목별 기여도.csv', encoding=\"utf-8-sig\")"
      ],
      "metadata": {
        "id": "Cx_mEeLP_Hrr"
      },
      "execution_count": 221,
      "outputs": []
    }
  ]
}