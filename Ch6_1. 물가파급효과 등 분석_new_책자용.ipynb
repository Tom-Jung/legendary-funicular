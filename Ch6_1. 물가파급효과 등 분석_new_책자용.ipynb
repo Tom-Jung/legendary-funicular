{
  "nbformat": 4,
  "nbformat_minor": 0,
  "metadata": {
    "colab": {
      "provenance": [],
      "mount_file_id": "https://github.com/Tom-Jung/legendary-funicular/blob/main/IO_tables.ipynb",
      "authorship_tag": "ABX9TyMexo7DPpe0T9ysrYDuV4BM",
      "include_colab_link": true
    },
    "kernelspec": {
      "name": "python3",
      "display_name": "Python 3"
    },
    "language_info": {
      "name": "python"
    }
  },
  "cells": [
    {
      "cell_type": "markdown",
      "metadata": {
        "id": "view-in-github",
        "colab_type": "text"
      },
      "source": [
        "<a href=\"https://colab.research.google.com/github/Tom-Jung/legendary-funicular/blob/main/Ch6_1.%20%EB%AC%BC%EA%B0%80%ED%8C%8C%EA%B8%89%ED%9A%A8%EA%B3%BC%20%EB%93%B1%20%EB%B6%84%EC%84%9D_new_%EC%B1%85%EC%9E%90%EC%9A%A9.ipynb\" target=\"_parent\"><img src=\"https://colab.research.google.com/assets/colab-badge.svg\" alt=\"Open In Colab\"/></a>"
      ]
    },
    {
      "cell_type": "code",
      "source": [
        "import numpy as np   # Numpy import\n",
        "import pandas as pd  # Pandas import"
      ],
      "metadata": {
        "id": "TR7JvW8CxBFT"
      },
      "execution_count": null,
      "outputs": []
    },
    {
      "cell_type": "markdown",
      "source": [
        "3부문 총, 국산, 수입거래표 불러오기"
      ],
      "metadata": {
        "id": "joFt2eQ514T6"
      }
    },
    {
      "cell_type": "code",
      "source": [
        "url_Tt_3 = \"https://raw.githubusercontent.com/Tom-Jung/legendary-funicular/main/Total_Matrix_3_secs.csv\"  # 3부문의 총거래표 불러오기\n",
        "Tt_3 = pd.read_csv(url_Tt_3)\n",
        "\n",
        "url_Dt_3 = \"https://raw.githubusercontent.com/Tom-Jung/legendary-funicular/main/Domestic_Matrix_3_secs.csv\"  # 3부문의 국산거래표 불러오기\n",
        "Dt_3 = pd.read_csv(url_Dt_3)\n",
        "\n",
        "url_It_3 = \"https://raw.githubusercontent.com/Tom-Jung/legendary-funicular/main/Imported_Matrix_3_secs.csv\"  # 3부문의 수입거래표 불러오기\n",
        "It_3 = pd.read_csv(url_It_3)\n"
      ],
      "metadata": {
        "id": "6GuMjUk213iK"
      },
      "execution_count": null,
      "outputs": []
    },
    {
      "cell_type": "code",
      "source": [
        "Tt = Tt_3.to_numpy()\n",
        "Dt = Dt_3.to_numpy()\n",
        "It = It_3.to_numpy()"
      ],
      "metadata": {
        "id": "pXrwfo8u86pr"
      },
      "execution_count": null,
      "outputs": []
    },
    {
      "cell_type": "code",
      "source": [
        "Tt_1 = Tt[0:10,1:13].astype(float)\n",
        "Dm_1 = Dt[0:4,1:10].astype(float)\n",
        "Im_1 = It[0:4,1:10].astype(float)\n",
        "print('총거래표 : \\n', Tt_1)    # 총거래표 확인\n",
        "print('국산거래표 : \\n', Dm_1)  # 국산거래표 확인\n",
        "print('수입거래표 : \\n', Im_1)  # 수입거래표 확인"
      ],
      "metadata": {
        "colab": {
          "base_uri": "https://localhost:8080/"
        },
        "id": "q4Q2rSR1QiUI",
        "outputId": "202db5de-2bab-4424-feb2-e5beebcfd865"
      },
      "execution_count": null,
      "outputs": [
        {
          "output_type": "stream",
          "name": "stdout",
          "text": [
            "총거래표 : \n",
            " [[4.000e+00 3.800e+01 1.100e+01 5.300e+01 1.800e+01 0.000e+00 1.000e+00\n",
            "  1.900e+01 7.200e+01]\n",
            " [1.600e+01 9.440e+02 4.010e+02 1.361e+03 2.130e+02 1.670e+02 6.280e+02\n",
            "  1.008e+03 2.369e+03]\n",
            " [7.000e+00 2.570e+02 6.930e+02 9.570e+02 1.032e+03 4.320e+02 1.310e+02\n",
            "  1.595e+03 2.552e+03]\n",
            " [2.700e+01 1.239e+03 1.105e+03 2.371e+03 1.263e+03 5.990e+02 7.600e+02\n",
            "  2.622e+03 4.993e+03]\n",
            " [7.000e+00 1.970e+02 7.140e+02 9.180e+02 0.000e+00 0.000e+00 0.000e+00\n",
            "  0.000e+00 0.000e+00]\n",
            " [2.000e+01 1.520e+02 2.980e+02 4.700e+02 0.000e+00 0.000e+00 0.000e+00\n",
            "  0.000e+00 0.000e+00]\n",
            " [5.000e+00 1.440e+02 2.300e+02 3.790e+02 0.000e+00 0.000e+00 0.000e+00\n",
            "  0.000e+00 0.000e+00]\n",
            " [1.000e+00 6.000e+01 1.000e+02 1.610e+02 0.000e+00 0.000e+00 0.000e+00\n",
            "  0.000e+00 0.000e+00]\n",
            " [3.300e+01 5.530e+02 1.342e+03 1.928e+03 0.000e+00 0.000e+00 0.000e+00\n",
            "  0.000e+00 0.000e+00]\n",
            " [6.000e+01 1.792e+03 2.447e+03 4.299e+03 0.000e+00 0.000e+00 0.000e+00\n",
            "  0.000e+00 0.000e+00]]\n",
            "국산거래표 : \n",
            " [[ 4.000e+00  3.100e+01  1.000e+01  4.500e+01  1.500e+01 -1.000e+00\n",
            "   1.000e+00  1.500e+01  6.000e+01]\n",
            " [ 1.500e+01  5.880e+02  3.220e+02  9.250e+02  1.380e+02  1.060e+02\n",
            "   6.230e+02  8.670e+02  1.792e+03]\n",
            " [ 7.000e+00  2.430e+02  6.440e+02  8.940e+02  9.970e+02  4.250e+02\n",
            "   1.310e+02  1.553e+03  2.447e+03]\n",
            " [ 2.600e+01  8.620e+02  9.760e+02  1.864e+03  1.150e+03  5.300e+02\n",
            "   7.550e+02  2.435e+03  4.299e+03]]\n",
            "수입거래표 : \n",
            " [[  0.   7.   1.   8.   3.   1.   0.   4.  12.]\n",
            " [  1. 356.  79. 436.  75.  61.   5. 141. 577.]\n",
            " [  0.  14.  49.  63.  35.   7.   0.  42. 105.]\n",
            " [  1. 377. 129. 507. 113.  69.   5. 187. 694.]]\n"
          ]
        }
      ]
    },
    {
      "cell_type": "code",
      "source": [
        "Ct = Tt_1[-1,0:3]  # 산출액\n",
        "Ct"
      ],
      "metadata": {
        "colab": {
          "base_uri": "https://localhost:8080/"
        },
        "id": "sLoitK1lQigz",
        "outputId": "9f110f61-d086-4731-8c1d-230cbba2104f"
      },
      "execution_count": null,
      "outputs": [
        {
          "output_type": "execute_result",
          "data": {
            "text/plain": [
              "array([  60., 1792., 2447.])"
            ]
          },
          "metadata": {},
          "execution_count": 7
        }
      ]
    },
    {
      "cell_type": "code",
      "source": [
        "Ct_m = np.tile(ct, reps=[3,1]) # 산출액을 3번 행반복\n",
        "Ct_m"
      ],
      "metadata": {
        "colab": {
          "base_uri": "https://localhost:8080/"
        },
        "id": "s0wcbJY1Qipl",
        "outputId": "da6784d5-ad91-4538-9cef-ac0bb31f3d7a"
      },
      "execution_count": null,
      "outputs": [
        {
          "output_type": "execute_result",
          "data": {
            "text/plain": [
              "array([[  60., 1792., 2447.],\n",
              "       [  60., 1792., 2447.],\n",
              "       [  60., 1792., 2447.]])"
            ]
          },
          "metadata": {},
          "execution_count": 8
        }
      ]
    },
    {
      "cell_type": "code",
      "source": [
        "At = Tt_1[0:3,0:3]/Ct_m   # 총투입계수\n",
        "Ad = Dm_1[0:3,0:3]/Ct_m  # 국산 투입계수\n",
        "Ai = Im_1[0:3,0:3]/Ct_m  # 수입 투입계수\n",
        "\n",
        "print('총투입계수표 : \\n', At)\n",
        "print('국산투입계수표 : \\n', Ad)\n",
        "print('수입투입계수표 : \\n', Ai)\n",
        "\n",
        "df_At = pd.DataFrame(At.round(3),columns = ['농산품', '공산품', '서비스'], index=['농산품', '공산품', '서비스'])  #pandas로 내보내기\n",
        "df_Ad = pd.DataFrame(Ad.round(3),columns = ['농산품', '공산품', '서비스'], index=['농산품', '공산품', '서비스'])  #pandas로 내보내기\n",
        "df_Ai = pd.DataFrame(Ai.round(3),columns = ['농산품', '공산품', '서비스'], index=['농산품', '공산품', '서비스'])  #pandas로 내보내기"
      ],
      "metadata": {
        "colab": {
          "base_uri": "https://localhost:8080/"
        },
        "id": "5uLIE7vfQiwM",
        "outputId": "8328de0f-c675-41bb-82cc-9d27a496a75f"
      },
      "execution_count": null,
      "outputs": [
        {
          "output_type": "stream",
          "name": "stdout",
          "text": [
            "총투입계수표 : \n",
            " [[0.06666667 0.02120536 0.0044953 ]\n",
            " [0.26666667 0.52678571 0.16387413]\n",
            " [0.11666667 0.14341518 0.28320392]]\n",
            "국산투입계수표 : \n",
            " [[0.06666667 0.01729911 0.00408664]\n",
            " [0.25       0.328125   0.1315897 ]\n",
            " [0.11666667 0.13560268 0.2631794 ]]\n",
            "수입투입계수표 : \n",
            " [[0.         0.00390625 0.00040866]\n",
            " [0.01666667 0.19866071 0.03228443]\n",
            " [0.         0.0078125  0.02002452]]\n"
          ]
        }
      ]
    },
    {
      "cell_type": "markdown",
      "source": [
        "### 물가파급효과 분석\n",
        "\n",
        "\n",
        "##### - 투입계수의 전치행렬을 이용하여 생산유발계수(Lf)을 이용하여 각종 물가파급효과 분석 가능"
      ],
      "metadata": {
        "id": "LrSLa3VTD5Nd"
      }
    },
    {
      "cell_type": "code",
      "source": [
        "At_trans = At.T  # 총투입계수의 전치행렬\n",
        "Ad_trans = Ad.T  # 국산투입계수의 전치행렬\n",
        "Ai_trans = Ai.T  # 국산투입계수의 전치행렬\n",
        "\n",
        "print('총투입계수의 전치행렬 : \\n', At_trans, '\\n')\n",
        "print('국산투입계수의 전치행렬: \\n', Ad_trans, '\\n')\n",
        "print('수입투입계수의 전치행렬: \\n', Ai_trans, '\\n')\n",
        "\n",
        "Lf_trans = np.linalg.inv(np.identity(3)-Ad_trans)  # (I-Ad_trans)의 역행렬\n",
        "\n",
        "print('국산투입계수 전치행렬의 역행렬: \\n', Lf_trans)"
      ],
      "metadata": {
        "id": "QlwdX5oMD71E",
        "outputId": "e5d52ec7-9420-4e57-c348-fbc563fd0d10",
        "colab": {
          "base_uri": "https://localhost:8080/"
        }
      },
      "execution_count": null,
      "outputs": [
        {
          "output_type": "stream",
          "name": "stdout",
          "text": [
            "총투입계수의 전치행렬 : \n",
            " [[0.06666667 0.26666667 0.11666667]\n",
            " [0.02120536 0.52678571 0.14341518]\n",
            " [0.0044953  0.16387413 0.28320392]] \n",
            "\n",
            "국산투입계수의 전치행렬: \n",
            " [[0.06666667 0.25       0.11666667]\n",
            " [0.01729911 0.328125   0.13560268]\n",
            " [0.00408664 0.1315897  0.2631794 ]] \n",
            "\n",
            "수입투입계수의 전치행렬: \n",
            " [[0.         0.01666667 0.        ]\n",
            " [0.00390625 0.19866071 0.0078125 ]\n",
            " [0.00040866 0.03228443 0.02002452]] \n",
            "\n",
            "국산투입계수 전치행렬의 역행렬: \n",
            " [[1.08092021 0.45201623 0.25433867]\n",
            " [0.03012689 1.55662423 0.29124759]\n",
            " [0.01137552 0.28050647 1.41060738]]\n"
          ]
        }
      ]
    },
    {
      "cell_type": "code",
      "source": [
        "Lf = np.linalg.inv(np.identity(3)-Ad)  # 생산유발계수\n",
        "Lf"
      ],
      "metadata": {
        "id": "ZBm_HdNJlXK0",
        "outputId": "fb16a7ad-a441-4864-be8a-36a6d60ad0af",
        "colab": {
          "base_uri": "https://localhost:8080/"
        }
      },
      "execution_count": null,
      "outputs": [
        {
          "output_type": "execute_result",
          "data": {
            "text/plain": [
              "array([[1.08092021, 0.03012689, 0.01137552],\n",
              "       [0.45201623, 1.55662423, 0.28050647],\n",
              "       [0.25433867, 0.29124759, 1.41060738]])"
            ]
          },
          "metadata": {},
          "execution_count": 12
        }
      ]
    },
    {
      "cell_type": "code",
      "source": [
        "Va_r = Tt_1[-2,0:3]/Ct  # 부가가치율\n",
        "Va_m = np.diag(Va_r)    # 부가가치율 대각행렬\n",
        "\n",
        "Lv = Va_m@Lf   #부가가치유발계수\n",
        "Li = Ai@Lf  #수입유발계수\n",
        "\n",
        "Aw_r = Tt_1[-6,0:3]/Ct #  피용자보수율\n",
        "Aw_m = np.diag(Aw_r)\n",
        "print('피용자보수율: \\n', Aw_m,'\\n')"
      ],
      "metadata": {
        "id": "g3iFXmzj8jsS",
        "outputId": "54d1b176-cb2c-4c61-c994-521aa70d4578",
        "colab": {
          "base_uri": "https://localhost:8080/"
        }
      },
      "execution_count": null,
      "outputs": [
        {
          "output_type": "stream",
          "name": "stdout",
          "text": [
            "피용자보수율: \n",
            " [[0.11666667 0.         0.        ]\n",
            " [0.         0.10993304 0.        ]\n",
            " [0.         0.         0.29178586]] \n",
            "\n"
          ]
        }
      ]
    },
    {
      "cell_type": "markdown",
      "source": [
        "#### 임금인상의 물가파급효과"
      ],
      "metadata": {
        "id": "VmIala71I_1M"
      }
    },
    {
      "cell_type": "code",
      "source": [
        "delta_all_w = np.array([10,10,10]).reshape([3,1]) # 모든 상품의 임금이 10% 상승\n",
        "delta_all_Pw = ((Lf_trans@Aw_m)@delta_all_w).round(3)\n",
        "\n",
        "delta_par_w = np.array([0,10,0]).reshape([3,1]) # 공산품의 임금이 10% 상승\n",
        "delta_par_Pw = ((Lf_trans@Aw_m)@delta_par_w).round(3)\n",
        "\n",
        "print('모든 상품의 임금이 10% 상승시: \\n', delta_all_Pw, '\\n')\n",
        "print('공산품의 임금이 10% 상승시: \\n', delta_par_Pw, '\\n')\n"
      ],
      "metadata": {
        "id": "hT30koHOD8WG",
        "outputId": "77ae6b9f-179d-4eb9-db95-97d623af8d4a",
        "colab": {
          "base_uri": "https://localhost:8080/"
        }
      },
      "execution_count": null,
      "outputs": [
        {
          "output_type": "stream",
          "name": "stdout",
          "text": [
            "모든 상품의 임금이 10% 상승시: \n",
            " [[2.5  ]\n",
            " [2.596]\n",
            " [4.438]] \n",
            "\n",
            "공산품의 임금이 10% 상승시: \n",
            " [[0.497]\n",
            " [1.711]\n",
            " [0.308]] \n",
            "\n"
          ]
        }
      ]
    },
    {
      "cell_type": "markdown",
      "source": [
        "#### 내생부분(중간투입품) 가격변동의 물가파급효과"
      ],
      "metadata": {
        "id": "lz8QJDXeZA_n"
      }
    },
    {
      "cell_type": "code",
      "source": [
        "#### 중간투입되는 서비스의 물가변동의 파급효과 분석\n",
        "\n",
        "Ad_exd_row = np.delete(Ad_trans,2,0).reshape([2,3])  # 서비스(sectors3) 행 삭제\n",
        "Ad_exd_serv = np.delete(Ad_exd_row,2,1).reshape([2,2])  # 서비스(sectors3) 열 삭제,,최종적으로 2x2 행렬\n",
        "print('물가변동이 발생한 부문을 제거한 국산투입계수 : \\n', Ad_exd_serv.round(3))\n",
        "\n",
        "Lf_Ad = np.linalg.inv(np.identity(2)-Ad_exd_serv)\n",
        "print('물가변동이 발생한 부문을 제거한 유발계수 : \\n', Lf_Ad.round(3))\n",
        "\n",
        "A_Pr_sec2 = np.concatenate((Ad_trans[0,2].reshape([1,1]),Ad_trans[1,2].reshape([1,1])),axis=0).reshape([2,1])  # 물가가 변동하는 부문의 국산 투입계수(a31, a32)\n",
        "print('물가변동이 발생한 부문의 국산투입계수 : \\n', A_Pr_sec2.round(3))\n",
        "\n",
        "#서비스 물가 10% 상승시 파급효과\n",
        "\n",
        "delta_serv_Pw = Lf_Ad@A_Pr_sec2*10\n",
        "print('서비스 10% 상승시 다른 부문의 물가변동 : \\n', delta_serv_Pw.round(3))"
      ],
      "metadata": {
        "id": "MH8Zx-JXD8ZG",
        "colab": {
          "base_uri": "https://localhost:8080/"
        },
        "outputId": "e9ab0a54-e27a-4d38-ef12-e8369f78747d"
      },
      "execution_count": null,
      "outputs": [
        {
          "output_type": "stream",
          "name": "stdout",
          "text": [
            "물가변동이 발생한 부문을 제거한 국산투입계수 : \n",
            " [[0.067 0.25 ]\n",
            " [0.017 0.328]]\n",
            "물가변동이 발생한 부문을 제거한 유발계수 : \n",
            " [[1.079 0.401]\n",
            " [0.028 1.499]]\n",
            "물가변동이 발생한 부문의 국산투입계수 : \n",
            " [[0.117]\n",
            " [0.136]]\n",
            "서비스 10% 상승시 다른 부문의 물가변동 : \n",
            " [[1.803]\n",
            " [2.065]]\n"
          ]
        }
      ]
    },
    {
      "cell_type": "markdown",
      "source": [
        "#### 수입농산품 가격변동의 물가파급효과\n"
      ],
      "metadata": {
        "id": "KGihX7EPGGt3"
      }
    },
    {
      "cell_type": "code",
      "source": [
        "Imp_Pw = np.array([10,0,0]).reshape([3,1]) # 수입농산물 10% 상승\n",
        "delta_imp_Pw =  ((Lf_trans @Ai_trans)@Imp_Pw).reshape([3,1])\n",
        "\n",
        "print('수입농산품 가격 10% 상승시 다른 부문의 물가변동 : \\n', delta_imp_Pw)"
      ],
      "metadata": {
        "colab": {
          "base_uri": "https://localhost:8080/"
        },
        "id": "5p1nygTxZI38",
        "outputId": "82945a47-72b1-4edb-df03-2c08c4801d93"
      },
      "execution_count": null,
      "outputs": [
        {
          "output_type": "stream",
          "name": "stdout",
          "text": [
            "수입농산품 가격 10% 상승시 다른 부문의 물가변동 : \n",
            " [[0.019]\n",
            " [0.062]\n",
            " [0.017]]\n"
          ]
        }
      ]
    },
    {
      "cell_type": "markdown",
      "source": [
        "### 환율변동 효과"
      ],
      "metadata": {
        "id": "5AEFkiKAwD23"
      }
    },
    {
      "cell_type": "code",
      "source": [
        "Ex_rate = np.array([10,10,10]).reshape([3,1]) # 환율 10% 상승\n",
        "delta_Ex_rate =  ((Lf_trans @Ai_trans)@Ex_rate).reshape([3,1])\n",
        "\n",
        "print('환율 10% 상승시 물가변동 : \\n', delta_Ex_rate)"
      ],
      "metadata": {
        "id": "CCXNMfyywHOe",
        "outputId": "71158b81-5bac-4047-a58f-45880b40e4a0",
        "colab": {
          "base_uri": "https://localhost:8080/"
        }
      },
      "execution_count": null,
      "outputs": [
        {
          "output_type": "stream",
          "name": "stdout",
          "text": [
            "환율 10% 상승시 물가변동 : \n",
            " [[1.265]\n",
            " [3.433]\n",
            " [1.336]]\n"
          ]
        }
      ]
    },
    {
      "cell_type": "markdown",
      "source": [
        "### 환율변동과 수입농산품 효과"
      ],
      "metadata": {
        "id": "0WkcHZexaNNy"
      }
    },
    {
      "cell_type": "code",
      "source": [
        "Ex_arg = np.array([21,10,10]).reshape([3,1]) # 환율 10% 및 수입농산품 10% 상승\n",
        "delta_Ex_arg =  ((Lf_trans @Ai_trans)@Ex_arg).reshape([3,1])\n",
        "\n",
        "print('환율 및 수입농 10% 상승시 물가변동 : \\n', delta_Ex_arg )"
      ],
      "metadata": {
        "id": "7vAsci-laUKC",
        "outputId": "714d7b86-e184-44cf-ecce-2f766d807f43",
        "colab": {
          "base_uri": "https://localhost:8080/"
        }
      },
      "execution_count": null,
      "outputs": [
        {
          "output_type": "stream",
          "name": "stdout",
          "text": [
            "환율 및 수입농 10% 상승시 물가변동 : \n",
            " [[1.28574987]\n",
            " [3.50157309]\n",
            " [1.35405659]]\n"
          ]
        }
      ]
    },
    {
      "cell_type": "code",
      "source": [
        "#pandas로 내보내기\n",
        "\n",
        "df_delta_all_Pw = pd.DataFrame(delta_all_Pw.round(3),columns = ['물가상승률'], index=['농산품', '공산품', '서비스'])  # 모든 부문의 임금 10% 상승\n",
        "df_delta_par_Pw = pd.DataFrame(delta_par_Pw.round(3),columns = ['물가상승률'], index=['농산품', '공산품', '서비스'])  # 공산품 부문의 임금 10% 상승\n",
        "df_delta_serv_Pw = pd.DataFrame(delta_serv_Pw.round(3),columns = ['물가상승률'], index=['농산품', '서비스'])        # 서비스 물가 10% 상승\n",
        "df_delta_imp_Pw = pd.DataFrame(delta_imp_Pw.round(3),columns = ['물가상승률'], index=['농산품', '공산품', '서비스'])   # 수입 농산품 물가 10% 상승\n",
        "df_delta_Ex_rate = pd.DataFrame(delta_Ex_rate.round(3),columns = ['물가상승률'], index=['농산품', '공산품', '서비스'])   # 환율 10% 상승\n",
        "df_delta_Ex_arg = pd.DataFrame(delta_Ex_arg.round(3),columns = ['물가상승률'], index=['농산품', '공산품', '서비스'])   # 환율 및 수입농산품 10% 상승"
      ],
      "metadata": {
        "id": "Njxfr_mbHtnA"
      },
      "execution_count": null,
      "outputs": []
    },
    {
      "cell_type": "code",
      "source": [
        "df_delta_all_Pw.to_csv('모든 부문 임금 10% 상승.csv')\n",
        "df_delta_par_Pw.to_csv('공산품 부문 임금 10% 상승.csv')\n",
        "df_delta_serv_Pw.to_csv('서비스 물가 10% 상승.csv')\n",
        "df_delta_imp_Pw.to_csv('수입 농산품 물가 10% 상승.csv')\n",
        "df_delta_Ex_rate.to_csv('환율 10% 상승.csv')\n",
        "df_delta_Ex_arg.to_csv('환율 및 수입농산품 10% 상승.csv')"
      ],
      "metadata": {
        "id": "Q0fXvrqKKjRH"
      },
      "execution_count": null,
      "outputs": []
    }
  ]
}