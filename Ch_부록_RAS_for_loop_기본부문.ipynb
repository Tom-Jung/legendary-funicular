{
  "nbformat": 4,
  "nbformat_minor": 0,
  "metadata": {
    "colab": {
      "provenance": [],
      "mount_file_id": "https://github.com/Tom-Jung/legendary-funicular/blob/main/IO_tables.ipynb",
      "authorship_tag": "ABX9TyMr/4YjRr5rUimwaL+340Fr",
      "include_colab_link": true
    },
    "kernelspec": {
      "name": "python3",
      "display_name": "Python 3"
    },
    "language_info": {
      "name": "python"
    }
  },
  "cells": [
    {
      "cell_type": "markdown",
      "metadata": {
        "id": "view-in-github",
        "colab_type": "text"
      },
      "source": [
        "<a href=\"https://colab.research.google.com/github/Tom-Jung/legendary-funicular/blob/main/Ch_%EB%B6%80%EB%A1%9D_RAS_for_loop_%EA%B8%B0%EB%B3%B8%EB%B6%80%EB%AC%B8.ipynb\" target=\"_parent\"><img src=\"https://colab.research.google.com/assets/colab-badge.svg\" alt=\"Open In Colab\"/></a>"
      ]
    },
    {
      "cell_type": "code",
      "source": [
        "import numpy as np   # Numpy import\n",
        "import pandas as pd  # Pandas import"
      ],
      "metadata": {
        "id": "TR7JvW8CxBFT"
      },
      "execution_count": 1,
      "outputs": []
    },
    {
      "cell_type": "code",
      "source": [
        "# np.set_printoptions(precision=3,suppress=True) # 결과를 소수 3자리까지만 보여주는 옵션"
      ],
      "metadata": {
        "id": "6ZXqGX8ykUGD"
      },
      "execution_count": 2,
      "outputs": []
    },
    {
      "cell_type": "code",
      "source": [
        "# 2015년 거래표 다운로드\n",
        "\n",
        "url_total = \"https://raw.githubusercontent.com/Tom-Jung/legendary-funicular/main/2015_tot_cst_3secs.csv\"  # 2015년 거래표(benchmark year)\n",
        "Tot_15 = pd.read_csv(url_total)\n",
        "Tot_15"
      ],
      "metadata": {
        "id": "mv6LDSOQXX4C",
        "outputId": "2225506a-ce9c-47e6-9bc3-8a811f07e8f4",
        "colab": {
          "base_uri": "https://localhost:8080/",
          "height": 363
        }
      },
      "execution_count": 3,
      "outputs": [
        {
          "output_type": "execute_result",
          "data": {
            "text/plain": [
              "           부문  농산품   공산품   서비스  중간수요계    소비   투자   수출  최종수요계  총수요계\n",
              "0         농산품    3    39    12     54    17    2    1     20    74\n",
              "1         공산품   18   926   351   1295   182  138  611    931  2226\n",
              "2         서비스    7   262   575    844   856  350  106   1312  2156\n",
              "3       중간투입계   28  1227   938   2193  1055  490  718   2263  4456\n",
              "4       피용자보수    5   177   568    750     0    0    0      0     0\n",
              "5        영업잉여   23   141   280    444     0    0    0      0     0\n",
              "6      고정자본소모    5   115   190    310     0    0    0      0     0\n",
              "7  생산세(보조금공제)    1    53    82    136     0    0    0      0     0\n",
              "8       부가가치계   34   486  1120   1640     0    0    0      0     0\n",
              "9        총투입액   62  1713  2058   3833     0    0    0      0     0"
            ],
            "text/html": [
              "\n",
              "\n",
              "  <div id=\"df-8d99092e-20fb-46f2-8005-db47da4ca44d\">\n",
              "    <div class=\"colab-df-container\">\n",
              "      <div>\n",
              "<style scoped>\n",
              "    .dataframe tbody tr th:only-of-type {\n",
              "        vertical-align: middle;\n",
              "    }\n",
              "\n",
              "    .dataframe tbody tr th {\n",
              "        vertical-align: top;\n",
              "    }\n",
              "\n",
              "    .dataframe thead th {\n",
              "        text-align: right;\n",
              "    }\n",
              "</style>\n",
              "<table border=\"1\" class=\"dataframe\">\n",
              "  <thead>\n",
              "    <tr style=\"text-align: right;\">\n",
              "      <th></th>\n",
              "      <th>부문</th>\n",
              "      <th>농산품</th>\n",
              "      <th>공산품</th>\n",
              "      <th>서비스</th>\n",
              "      <th>중간수요계</th>\n",
              "      <th>소비</th>\n",
              "      <th>투자</th>\n",
              "      <th>수출</th>\n",
              "      <th>최종수요계</th>\n",
              "      <th>총수요계</th>\n",
              "    </tr>\n",
              "  </thead>\n",
              "  <tbody>\n",
              "    <tr>\n",
              "      <th>0</th>\n",
              "      <td>농산품</td>\n",
              "      <td>3</td>\n",
              "      <td>39</td>\n",
              "      <td>12</td>\n",
              "      <td>54</td>\n",
              "      <td>17</td>\n",
              "      <td>2</td>\n",
              "      <td>1</td>\n",
              "      <td>20</td>\n",
              "      <td>74</td>\n",
              "    </tr>\n",
              "    <tr>\n",
              "      <th>1</th>\n",
              "      <td>공산품</td>\n",
              "      <td>18</td>\n",
              "      <td>926</td>\n",
              "      <td>351</td>\n",
              "      <td>1295</td>\n",
              "      <td>182</td>\n",
              "      <td>138</td>\n",
              "      <td>611</td>\n",
              "      <td>931</td>\n",
              "      <td>2226</td>\n",
              "    </tr>\n",
              "    <tr>\n",
              "      <th>2</th>\n",
              "      <td>서비스</td>\n",
              "      <td>7</td>\n",
              "      <td>262</td>\n",
              "      <td>575</td>\n",
              "      <td>844</td>\n",
              "      <td>856</td>\n",
              "      <td>350</td>\n",
              "      <td>106</td>\n",
              "      <td>1312</td>\n",
              "      <td>2156</td>\n",
              "    </tr>\n",
              "    <tr>\n",
              "      <th>3</th>\n",
              "      <td>중간투입계</td>\n",
              "      <td>28</td>\n",
              "      <td>1227</td>\n",
              "      <td>938</td>\n",
              "      <td>2193</td>\n",
              "      <td>1055</td>\n",
              "      <td>490</td>\n",
              "      <td>718</td>\n",
              "      <td>2263</td>\n",
              "      <td>4456</td>\n",
              "    </tr>\n",
              "    <tr>\n",
              "      <th>4</th>\n",
              "      <td>피용자보수</td>\n",
              "      <td>5</td>\n",
              "      <td>177</td>\n",
              "      <td>568</td>\n",
              "      <td>750</td>\n",
              "      <td>0</td>\n",
              "      <td>0</td>\n",
              "      <td>0</td>\n",
              "      <td>0</td>\n",
              "      <td>0</td>\n",
              "    </tr>\n",
              "    <tr>\n",
              "      <th>5</th>\n",
              "      <td>영업잉여</td>\n",
              "      <td>23</td>\n",
              "      <td>141</td>\n",
              "      <td>280</td>\n",
              "      <td>444</td>\n",
              "      <td>0</td>\n",
              "      <td>0</td>\n",
              "      <td>0</td>\n",
              "      <td>0</td>\n",
              "      <td>0</td>\n",
              "    </tr>\n",
              "    <tr>\n",
              "      <th>6</th>\n",
              "      <td>고정자본소모</td>\n",
              "      <td>5</td>\n",
              "      <td>115</td>\n",
              "      <td>190</td>\n",
              "      <td>310</td>\n",
              "      <td>0</td>\n",
              "      <td>0</td>\n",
              "      <td>0</td>\n",
              "      <td>0</td>\n",
              "      <td>0</td>\n",
              "    </tr>\n",
              "    <tr>\n",
              "      <th>7</th>\n",
              "      <td>생산세(보조금공제)</td>\n",
              "      <td>1</td>\n",
              "      <td>53</td>\n",
              "      <td>82</td>\n",
              "      <td>136</td>\n",
              "      <td>0</td>\n",
              "      <td>0</td>\n",
              "      <td>0</td>\n",
              "      <td>0</td>\n",
              "      <td>0</td>\n",
              "    </tr>\n",
              "    <tr>\n",
              "      <th>8</th>\n",
              "      <td>부가가치계</td>\n",
              "      <td>34</td>\n",
              "      <td>486</td>\n",
              "      <td>1120</td>\n",
              "      <td>1640</td>\n",
              "      <td>0</td>\n",
              "      <td>0</td>\n",
              "      <td>0</td>\n",
              "      <td>0</td>\n",
              "      <td>0</td>\n",
              "    </tr>\n",
              "    <tr>\n",
              "      <th>9</th>\n",
              "      <td>총투입액</td>\n",
              "      <td>62</td>\n",
              "      <td>1713</td>\n",
              "      <td>2058</td>\n",
              "      <td>3833</td>\n",
              "      <td>0</td>\n",
              "      <td>0</td>\n",
              "      <td>0</td>\n",
              "      <td>0</td>\n",
              "      <td>0</td>\n",
              "    </tr>\n",
              "  </tbody>\n",
              "</table>\n",
              "</div>\n",
              "      <button class=\"colab-df-convert\" onclick=\"convertToInteractive('df-8d99092e-20fb-46f2-8005-db47da4ca44d')\"\n",
              "              title=\"Convert this dataframe to an interactive table.\"\n",
              "              style=\"display:none;\">\n",
              "\n",
              "  <svg xmlns=\"http://www.w3.org/2000/svg\" height=\"24px\"viewBox=\"0 0 24 24\"\n",
              "       width=\"24px\">\n",
              "    <path d=\"M0 0h24v24H0V0z\" fill=\"none\"/>\n",
              "    <path d=\"M18.56 5.44l.94 2.06.94-2.06 2.06-.94-2.06-.94-.94-2.06-.94 2.06-2.06.94zm-11 1L8.5 8.5l.94-2.06 2.06-.94-2.06-.94L8.5 2.5l-.94 2.06-2.06.94zm10 10l.94 2.06.94-2.06 2.06-.94-2.06-.94-.94-2.06-.94 2.06-2.06.94z\"/><path d=\"M17.41 7.96l-1.37-1.37c-.4-.4-.92-.59-1.43-.59-.52 0-1.04.2-1.43.59L10.3 9.45l-7.72 7.72c-.78.78-.78 2.05 0 2.83L4 21.41c.39.39.9.59 1.41.59.51 0 1.02-.2 1.41-.59l7.78-7.78 2.81-2.81c.8-.78.8-2.07 0-2.86zM5.41 20L4 18.59l7.72-7.72 1.47 1.35L5.41 20z\"/>\n",
              "  </svg>\n",
              "      </button>\n",
              "\n",
              "\n",
              "\n",
              "    <div id=\"df-244c699f-b1eb-44a8-8ea8-772c8adcf67d\">\n",
              "      <button class=\"colab-df-quickchart\" onclick=\"quickchart('df-244c699f-b1eb-44a8-8ea8-772c8adcf67d')\"\n",
              "              title=\"Suggest charts.\"\n",
              "              style=\"display:none;\">\n",
              "\n",
              "<svg xmlns=\"http://www.w3.org/2000/svg\" height=\"24px\"viewBox=\"0 0 24 24\"\n",
              "     width=\"24px\">\n",
              "    <g>\n",
              "        <path d=\"M19 3H5c-1.1 0-2 .9-2 2v14c0 1.1.9 2 2 2h14c1.1 0 2-.9 2-2V5c0-1.1-.9-2-2-2zM9 17H7v-7h2v7zm4 0h-2V7h2v10zm4 0h-2v-4h2v4z\"/>\n",
              "    </g>\n",
              "</svg>\n",
              "      </button>\n",
              "    </div>\n",
              "\n",
              "<style>\n",
              "  .colab-df-quickchart {\n",
              "    background-color: #E8F0FE;\n",
              "    border: none;\n",
              "    border-radius: 50%;\n",
              "    cursor: pointer;\n",
              "    display: none;\n",
              "    fill: #1967D2;\n",
              "    height: 32px;\n",
              "    padding: 0 0 0 0;\n",
              "    width: 32px;\n",
              "  }\n",
              "\n",
              "  .colab-df-quickchart:hover {\n",
              "    background-color: #E2EBFA;\n",
              "    box-shadow: 0px 1px 2px rgba(60, 64, 67, 0.3), 0px 1px 3px 1px rgba(60, 64, 67, 0.15);\n",
              "    fill: #174EA6;\n",
              "  }\n",
              "\n",
              "  [theme=dark] .colab-df-quickchart {\n",
              "    background-color: #3B4455;\n",
              "    fill: #D2E3FC;\n",
              "  }\n",
              "\n",
              "  [theme=dark] .colab-df-quickchart:hover {\n",
              "    background-color: #434B5C;\n",
              "    box-shadow: 0px 1px 3px 1px rgba(0, 0, 0, 0.15);\n",
              "    filter: drop-shadow(0px 1px 2px rgba(0, 0, 0, 0.3));\n",
              "    fill: #FFFFFF;\n",
              "  }\n",
              "</style>\n",
              "\n",
              "    <script>\n",
              "      async function quickchart(key) {\n",
              "        const containerElement = document.querySelector('#' + key);\n",
              "        const charts = await google.colab.kernel.invokeFunction(\n",
              "            'suggestCharts', [key], {});\n",
              "      }\n",
              "    </script>\n",
              "\n",
              "      <script>\n",
              "\n",
              "function displayQuickchartButton(domScope) {\n",
              "  let quickchartButtonEl =\n",
              "    domScope.querySelector('#df-244c699f-b1eb-44a8-8ea8-772c8adcf67d button.colab-df-quickchart');\n",
              "  quickchartButtonEl.style.display =\n",
              "    google.colab.kernel.accessAllowed ? 'block' : 'none';\n",
              "}\n",
              "\n",
              "        displayQuickchartButton(document);\n",
              "      </script>\n",
              "      <style>\n",
              "    .colab-df-container {\n",
              "      display:flex;\n",
              "      flex-wrap:wrap;\n",
              "      gap: 12px;\n",
              "    }\n",
              "\n",
              "    .colab-df-convert {\n",
              "      background-color: #E8F0FE;\n",
              "      border: none;\n",
              "      border-radius: 50%;\n",
              "      cursor: pointer;\n",
              "      display: none;\n",
              "      fill: #1967D2;\n",
              "      height: 32px;\n",
              "      padding: 0 0 0 0;\n",
              "      width: 32px;\n",
              "    }\n",
              "\n",
              "    .colab-df-convert:hover {\n",
              "      background-color: #E2EBFA;\n",
              "      box-shadow: 0px 1px 2px rgba(60, 64, 67, 0.3), 0px 1px 3px 1px rgba(60, 64, 67, 0.15);\n",
              "      fill: #174EA6;\n",
              "    }\n",
              "\n",
              "    [theme=dark] .colab-df-convert {\n",
              "      background-color: #3B4455;\n",
              "      fill: #D2E3FC;\n",
              "    }\n",
              "\n",
              "    [theme=dark] .colab-df-convert:hover {\n",
              "      background-color: #434B5C;\n",
              "      box-shadow: 0px 1px 3px 1px rgba(0, 0, 0, 0.15);\n",
              "      filter: drop-shadow(0px 1px 2px rgba(0, 0, 0, 0.3));\n",
              "      fill: #FFFFFF;\n",
              "    }\n",
              "  </style>\n",
              "\n",
              "      <script>\n",
              "        const buttonEl =\n",
              "          document.querySelector('#df-8d99092e-20fb-46f2-8005-db47da4ca44d button.colab-df-convert');\n",
              "        buttonEl.style.display =\n",
              "          google.colab.kernel.accessAllowed ? 'block' : 'none';\n",
              "\n",
              "        async function convertToInteractive(key) {\n",
              "          const element = document.querySelector('#df-8d99092e-20fb-46f2-8005-db47da4ca44d');\n",
              "          const dataTable =\n",
              "            await google.colab.kernel.invokeFunction('convertToInteractive',\n",
              "                                                     [key], {});\n",
              "          if (!dataTable) return;\n",
              "\n",
              "          const docLinkHtml = 'Like what you see? Visit the ' +\n",
              "            '<a target=\"_blank\" href=https://colab.research.google.com/notebooks/data_table.ipynb>data table notebook</a>'\n",
              "            + ' to learn more about interactive tables.';\n",
              "          element.innerHTML = '';\n",
              "          dataTable['output_type'] = 'display_data';\n",
              "          await google.colab.output.renderOutput(dataTable, element);\n",
              "          const docLink = document.createElement('div');\n",
              "          docLink.innerHTML = docLinkHtml;\n",
              "          element.appendChild(docLink);\n",
              "        }\n",
              "      </script>\n",
              "    </div>\n",
              "  </div>\n"
            ]
          },
          "metadata": {},
          "execution_count": 3
        }
      ]
    },
    {
      "cell_type": "code",
      "source": [
        "url_Tt_3 = \"https://raw.githubusercontent.com/Tom-Jung/legendary-funicular/main/Total_Matrix_3_secs_1_va.csv\"  # 2019년 거래표(비교연도)\n",
        "Tot_19 = pd.read_csv(url_Tt_3)\n",
        "Tr = Tot_19.to_numpy()\n",
        "Tr"
      ],
      "metadata": {
        "id": "q8ccbrezXX1i",
        "outputId": "e33105ff-70e1-47bb-888a-85b1548be5ff",
        "colab": {
          "base_uri": "https://localhost:8080/"
        }
      },
      "execution_count": 4,
      "outputs": [
        {
          "output_type": "execute_result",
          "data": {
            "text/plain": [
              "array([['농산품', 4.0, 38.0, 11.0, 53.0, 18.0, 0.0, 1.0, 19.0, 72.0],\n",
              "       ['공산품', 16.0, 944.0, 401.0, 1361.0, 213.0, 167.0, 628.0, 1008.0,\n",
              "        2369.0],\n",
              "       ['서비스', 7.0, 257.0, 693.0, 957.0, 1032.0, 432.0, 131.0, 1595.0,\n",
              "        2552.0],\n",
              "       ['중간투입계', 27.0, 1239.0, 1105.0, 2371.0, 1263.0, 599.0, 760.0,\n",
              "        2622.0, 4993.0],\n",
              "       ['부가가치계', 33.0, 553.0, 1342.0, 1928.0, 0.0, 0.0, 0.0, 0.0, 0.0],\n",
              "       ['총투입액', 60.0, 1792.0, 2447.0, 4299.0, 0.0, 0.0, 0.0, 0.0, 0.0]],\n",
              "      dtype=object)"
            ]
          },
          "metadata": {},
          "execution_count": 4
        }
      ]
    },
    {
      "cell_type": "code",
      "source": [
        "Tot_bm = Tot_15.to_numpy()\n",
        "Tb = Tot_bm[0:10,1:13]\n",
        "Tb"
      ],
      "metadata": {
        "id": "oX4CfferXXzL",
        "outputId": "93a170aa-b419-4e99-918c-fa5a07a58ff5",
        "colab": {
          "base_uri": "https://localhost:8080/"
        }
      },
      "execution_count": 5,
      "outputs": [
        {
          "output_type": "execute_result",
          "data": {
            "text/plain": [
              "array([[3, 39, 12, 54, 17, 2, 1, 20, 74],\n",
              "       [18, 926, 351, 1295, 182, 138, 611, 931, 2226],\n",
              "       [7, 262, 575, 844, 856, 350, 106, 1312, 2156],\n",
              "       [28, 1227, 938, 2193, 1055, 490, 718, 2263, 4456],\n",
              "       [5, 177, 568, 750, 0, 0, 0, 0, 0],\n",
              "       [23, 141, 280, 444, 0, 0, 0, 0, 0],\n",
              "       [5, 115, 190, 310, 0, 0, 0, 0, 0],\n",
              "       [1, 53, 82, 136, 0, 0, 0, 0, 0],\n",
              "       [34, 486, 1120, 1640, 0, 0, 0, 0, 0],\n",
              "       [62, 1713, 2058, 3833, 0, 0, 0, 0, 0]], dtype=object)"
            ]
          },
          "metadata": {},
          "execution_count": 5
        }
      ]
    },
    {
      "cell_type": "code",
      "source": [
        "ct = Tb[-1,0:3]  # 산출액\n",
        "ct_m = np.tile(ct, reps=[3,1]) # 산출액을 3번 행반복\n",
        "ct_m"
      ],
      "metadata": {
        "id": "JNTQaKaIXXwl",
        "outputId": "ac8a72ed-1f05-42d3-badb-e36c4910ee38",
        "colab": {
          "base_uri": "https://localhost:8080/"
        }
      },
      "execution_count": 6,
      "outputs": [
        {
          "output_type": "execute_result",
          "data": {
            "text/plain": [
              "array([[62, 1713, 2058],\n",
              "       [62, 1713, 2058],\n",
              "       [62, 1713, 2058]], dtype=object)"
            ]
          },
          "metadata": {},
          "execution_count": 6
        }
      ]
    },
    {
      "cell_type": "code",
      "source": [
        "At=Tb[0:3,0:3]/ct_m\n",
        "At"
      ],
      "metadata": {
        "id": "_4rAOBJuADHZ",
        "outputId": "4fffc253-17fb-43ad-ede9-553ca7673674",
        "colab": {
          "base_uri": "https://localhost:8080/"
        }
      },
      "execution_count": 7,
      "outputs": [
        {
          "output_type": "execute_result",
          "data": {
            "text/plain": [
              "array([[0.04838709677419355, 0.02276707530647986, 0.0058309037900874635],\n",
              "       [0.2903225806451613, 0.5405720957384705, 0.17055393586005832],\n",
              "       [0.11290322580645161, 0.15294804436660828, 0.2793974732750243]],\n",
              "      dtype=object)"
            ]
          },
          "metadata": {},
          "execution_count": 7
        }
      ]
    },
    {
      "cell_type": "code",
      "source": [
        "# aa=Tb[0:3,0:3]\n",
        "# aa"
      ],
      "metadata": {
        "id": "ByDeYDd4shmX"
      },
      "execution_count": 8,
      "outputs": []
    },
    {
      "cell_type": "code",
      "source": [
        "col_vec = Tr[0:3,4] # 중간수요계\n",
        "row_vec = Tr[3, 1:4] # 중간투입계\n",
        "col_vec.shape"
      ],
      "metadata": {
        "id": "ockskGhkXXsC",
        "outputId": "e684588e-07bc-467c-802b-e891f44c9d35",
        "colab": {
          "base_uri": "https://localhost:8080/"
        }
      },
      "execution_count": 9,
      "outputs": [
        {
          "output_type": "execute_result",
          "data": {
            "text/plain": [
              "(3,)"
            ]
          },
          "metadata": {},
          "execution_count": 9
        }
      ]
    },
    {
      "cell_type": "code",
      "source": [
        "# ct_ref = Tr[5,1:4]\n",
        "# ec = col_vec/M.sum(axis=1)\n",
        "# er = row_vec/M.sum(axis=0)\n",
        "# # print(ec)\n",
        "# # print(er)\n",
        "\n",
        "# M = At@np.diag(ct_ref)\n",
        "# col_sm = M.sum(axis=1)\n",
        "# R = (col_sm/col_vec)\n",
        "# R\n",
        "# print(col_sm.shape)\n",
        "# print(col_vec.shape)\n",
        "# # col_sm\n",
        "# # col_vec"
      ],
      "metadata": {
        "id": "9Xk4SB8PD46r"
      },
      "execution_count": 10,
      "outputs": []
    },
    {
      "cell_type": "code",
      "source": [
        "# M = Tb[0:3,0:3]\n",
        "# ec = col_vec/M.sum(axis=1)\n",
        "# er = row_vec/M.sum(axis=0)\n",
        "# print(er)\n",
        "# print(ec)"
      ],
      "metadata": {
        "id": "kJq9BoQ_IgiG"
      },
      "execution_count": 11,
      "outputs": []
    },
    {
      "cell_type": "code",
      "source": [
        "ct_ref = Tr[5,1:4]\n",
        "ct_ref"
      ],
      "metadata": {
        "id": "BIHfcglQgvFQ",
        "outputId": "7334718e-64e3-47ed-eb0b-418b1800e668",
        "colab": {
          "base_uri": "https://localhost:8080/"
        }
      },
      "execution_count": 12,
      "outputs": [
        {
          "output_type": "execute_result",
          "data": {
            "text/plain": [
              "array([60.0, 1792.0, 2447.0], dtype=object)"
            ]
          },
          "metadata": {},
          "execution_count": 12
        }
      ]
    },
    {
      "cell_type": "code",
      "source": [
        "At=Tb[0:3,0:3]/ct_m\n",
        "row_vec = Tr[0:3,4] # 중간수요계\n",
        "col_vec = Tr[3, 1:4] # 중간투입계\n",
        "\n",
        "er = 1\n",
        "ec = 1\n",
        "col_vec.shape\n",
        "At"
      ],
      "metadata": {
        "id": "t0h7Oqn-VPPd",
        "outputId": "88467b34-6ff7-4d23-a721-2252c2863155",
        "colab": {
          "base_uri": "https://localhost:8080/"
        }
      },
      "execution_count": 13,
      "outputs": [
        {
          "output_type": "execute_result",
          "data": {
            "text/plain": [
              "array([[0.04838709677419355, 0.02276707530647986, 0.0058309037900874635],\n",
              "       [0.2903225806451613, 0.5405720957384705, 0.17055393586005832],\n",
              "       [0.11290322580645161, 0.15294804436660828, 0.2793974732750243]],\n",
              "      dtype=object)"
            ]
          },
          "metadata": {},
          "execution_count": 13
        }
      ]
    },
    {
      "cell_type": "code",
      "source": [
        "i=0\n",
        "for i in range(1000):\n",
        "  M = At@np.diag(ct_ref)\n",
        "  R_sm = M.sum(axis=1)\n",
        "  R = (row_vec/R_sm)\n",
        "  print(R)\n",
        "  At = np.diag(R)@At\n",
        "\n",
        "  M = At@np.diag(ct_ref)\n",
        "  C_sm = M.sum(axis=0) #열수정계수\n",
        "  S = (col_vec.T/C_sm)\n",
        "  At = At@np.diag(S)\n",
        "\n",
        "  print(S)\n",
        "  er = abs(R-1).sum()\n",
        "  es = abs(S-1).sum()\n",
        "\n",
        "  i = i+1\n",
        "  print(i)\n",
        "  if er<0.0000001 or ec<0.0000001:\n",
        "    break\n",
        "\n",
        "  print(er)\n",
        "  print(es)\n",
        "print('반복회수', i)\n",
        "# er = abs(R.sum()-1)\n",
        "# ec = abs(C.sum()-1)\n",
        "#   # print(At)\n",
        "  # print(er)\n",
        "  # print(ec)\n",
        "  # print(col_vec)\n",
        "  # print(row_vec)\n",
        "\n",
        "print(At)\n",
        "Mf = At@np.diag(ct_ref)\n",
        "df_Mf = pd.DataFrame(Mf)\n",
        "df_Mf.to_csv('RAS결과.csv')\n",
        "print(df_Mf)\n",
        "\n",
        "print(col_vec)\n",
        "print(row_vec)"
      ],
      "metadata": {
        "id": "vrveHpJNXXpO",
        "outputId": "3da618f5-fa76-4f9d-b25b-5c8c1502713e",
        "colab": {
          "base_uri": "https://localhost:8080/"
        }
      },
      "execution_count": 14,
      "outputs": [
        {
          "output_type": "stream",
          "name": "stdout",
          "text": [
            "[0.914265268968142 0.9697392673161075 0.9921800184593349]\n",
            "[1.0278755900372496 0.9922861318275399 1.0081192844746438]\n",
            "1\n",
            "0.12381544525641563\n",
            "0.04370874268435354\n",
            "[1.0020386142409077 1.002570480370747 0.9962551622620408]\n",
            "[0.9990999955324592 0.9988222104634076 1.001345993878956]\n",
            "2\n",
            "0.00835393234961379\n",
            "0.003423787883089169\n",
            "[1.000536246758286 1.0004158816599622 0.9993795017801033]\n",
            "[0.9998359197710653 0.9998051606360399 1.000222568901189]\n",
            "3\n",
            "0.0015726266381448362\n",
            "0.0005814884940837928\n",
            "[1.0000892834830044 1.000068776933276 0.9998972617883206]\n",
            "[0.9999727966949027 0.9999677510461159 1.0000368269233002]\n",
            "4\n",
            "0.0002607986279596908\n",
            "9.627918228161114e-05\n",
            "[1.0000147766205973 1.0000113810528608 0.9999829965420207]\n",
            "[0.999995497827999 0.9999946630270337 1.0000060942488929]\n",
            "5\n",
            "4.316113143743028e-05\n",
            "1.5933393860190215e-05\n",
            "[1.000002445346555 1.0000018834066249 0.9999971860950241]\n",
            "[0.9999992549390717 0.9999991167922233 1.0000010085187205]\n",
            "6\n",
            "7.142658155823156e-06\n",
            "2.6367874255139867e-06\n",
            "[1.000000404674491 1.000000311680062 0.9999995343323259]\n",
            "[0.9999998767014366 0.9999998538398979 1.0000001668972718]\n",
            "7\n",
            "1.1820222270975123e-06\n",
            "4.363559372722037e-07\n",
            "[1.0000000669686233 1.000000051579186 0.9999999229377224]\n",
            "[0.9999999795956064 0.9999999758123057 1.0000000276194327]\n",
            "8\n",
            "1.9561008690605064e-07\n",
            "7.221152065195469e-08\n",
            "[1.0000000110824796 1.0000000085357175 0.9999999872471443]\n",
            "[0.9999999966233248 0.9999999959972353 1.000000004570675]\n",
            "9\n",
            "반복회수 9\n",
            "[[0.04554383754871172 0.020680780112846128 0.005397389328832989]\n",
            " [0.289955376462402 0.5210310325498043 0.16751739483470296]\n",
            " [0.11450078598888624 0.14969443733734952 0.27865857096519314]]\n",
            "           0           1           2\n",
            "0    2.73263   37.059958   13.207412\n",
            "1  17.397323   933.68761  409.915065\n",
            "2   6.870047  268.252432  681.877523\n",
            "[27.0 1239.0 1105.0]\n",
            "[53.0 1361.0 957.0]\n"
          ]
        }
      ]
    },
    {
      "cell_type": "code",
      "source": [
        "number = 0\n",
        "\n",
        "for number in range(10):\n",
        "    if number == 5:\n",
        "        break    # break here\n",
        "\n",
        "    print('Number is ' + str(number))\n",
        "\n",
        "print('Out of loop')"
      ],
      "metadata": {
        "id": "erVKN53lLgWs",
        "outputId": "ac97c745-c2c6-4519-de4d-de92fa2a85f9",
        "colab": {
          "base_uri": "https://localhost:8080/"
        }
      },
      "execution_count": 15,
      "outputs": [
        {
          "output_type": "stream",
          "name": "stdout",
          "text": [
            "Number is 0\n",
            "Number is 1\n",
            "Number is 2\n",
            "Number is 3\n",
            "Number is 4\n",
            "Out of loop\n"
          ]
        }
      ]
    },
    {
      "cell_type": "code",
      "source": [],
      "metadata": {
        "id": "f9-d8XOjGjeI"
      },
      "execution_count": 15,
      "outputs": []
    }
  ]
}